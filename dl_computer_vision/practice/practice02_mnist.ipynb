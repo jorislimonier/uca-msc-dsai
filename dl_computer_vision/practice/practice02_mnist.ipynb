{
  "cells": [
    {
      "cell_type": "markdown",
      "metadata": {
        "id": "1Fj8Uswn5jDz"
      },
      "source": [
        "# Digit Recognition with LeNet-5\n",
        "Before running your code, make sure you are working on a GPU. If not, click Runtime -> Change runtime type -> Hardware accelerator (set this to GPU). \n",
        "## Import libraries\n"
      ]
    },
    {
      "cell_type": "code",
      "execution_count": 1,
      "metadata": {
        "id": "JNjWkR2H4yyI"
      },
      "outputs": [],
      "source": [
        "import torch\n",
        "import torch.nn as nn\n",
        "import torch.optim as optim\n",
        "from torch.optim import lr_scheduler\n",
        "from torchvision.datasets.mnist import MNIST\n",
        "import torchvision.transforms as transforms\n",
        "from torch.utils.data import DataLoader\n",
        "from collections import OrderedDict\n",
        "import matplotlib.pyplot as plt\n",
        "import plotly.graph_objects as go\n",
        "from plotly.offline import iplot\n",
        "%matplotlib inline"
      ]
    },
    {
      "cell_type": "markdown",
      "metadata": {
        "id": "hNbhS4Xk76Wr"
      },
      "source": [
        "## Prepare data\n",
        "The MNIST database of handwritten digits has a training set of 60,000 examples, and a test set of 10,000 examples. More details can be found in http://yann.lecun.com/exdb/mnist/. We can use pytorch to download it from LeCun's website and get the train and test sets ready. "
      ]
    },
    {
      "cell_type": "code",
      "execution_count": 2,
      "metadata": {
        "colab": {
          "base_uri": "https://localhost:8080/",
          "height": 501,
          "referenced_widgets": [
            "b66a728dbed7489eab3ae1bf11e4292a",
            "2d7bf5ab257344768b16656eb66b95c2",
            "3dfd4ad73a83454da7c7a9313f018cd7",
            "57a42e6c38584b2fb815b055f934c53b",
            "c2b3ff0026db4017bc9d3fd88604b145",
            "5dc170923ee24564bdcaa7ae48949e08",
            "b1fddefb602e4437a4905a4d69d79fab",
            "0490ed83aea54c579db8405c8d623df1",
            "3979ba1138d84ee0b8a7a5a90613a5bd",
            "9be3a032eadd4f01958da352404d6a00",
            "4794cdc4c77d4b9a92197fd1d5deb87e",
            "8eb4110b62c24b81b3e81a716ab1dcd1",
            "dc6cb2f0218141af953604acd154c0aa",
            "2c79bfac29674a7087b3d39593375a04",
            "1881929b93394b5998bc7343c1d67d3d",
            "f432968e3021439b82d6724d370ac055",
            "0734e74d0fc04703963e3618e5d621ef",
            "4bb4cef3b95c493f87c1ec3437b4e09d",
            "bed66781a6f34d2786af8ead767bee1b",
            "bc2b1fc0f1634cfaa6c97efba459fba7",
            "4119697353754445b5680c2ab1036577",
            "5fb9d2d5f7344ddf805f9142c429544b",
            "b8bdb88c51dc40cb8e597a5aa11792e5",
            "33b44d22ad704be78a1f7008fa4f31dd",
            "3b6a15d5d0d64e1db3febf76d91db77b",
            "0310f82ffff547eaba365420255c2db4",
            "03926e8d8ed74344a8ff2cb9b9c7cee7",
            "34774b94dcd64cf0865864bbe4e07a4f",
            "6bc3c9e7a36c4764a1c6bb5c74d434d1",
            "5b27c52b4daa48ceaa6345fba7e58781",
            "61ee3af9a10f47c6819f43ff6000c795",
            "2ed0eb34ec6c4e56a90086393bfca062",
            "c40bb42c51684a5c8963d496173e50b7",
            "daafc4eded9240c3b4191b8f5654a9e2",
            "5d02420818694e13bcccd8c82c996d22",
            "9555f0621e694d47bfdd652d501b54c8",
            "a40e3ba0a0834f81b35c8e358849c6f6",
            "3a979602420b4640a4978fdc7fbc13e2",
            "3c8d7d4c604b44cf8de9b19855eeefc3",
            "54f269a0aeec47f7a7fe1d3ee7530682",
            "7ee5b1f046a54c6c91c6fbd4330e9844",
            "bd88a7f03951495fba86ee0f4f68dc4b",
            "f3274bc3d55942e4bb35c7beef722c92",
            "8b1e795992a948aa8a853f94c99c555f"
          ]
        },
        "id": "0Y6N_TJL707s",
        "outputId": "086c2e50-5bcf-4c90-f21e-9b08cfb8a849"
      },
      "outputs": [],
      "source": [
        "data_train = MNIST(\n",
        "  \"./data/mnist\",\n",
        "  download=True,\n",
        "  transform=transforms.Compose([transforms.Resize((32, 32)), transforms.ToTensor()]),\n",
        ")\n",
        "data_test = MNIST(\n",
        "  \"./data/mnist\",\n",
        "  train=False,\n",
        "  download=True,\n",
        "  transform=transforms.Compose([transforms.Resize((32, 32)), transforms.ToTensor()]),\n",
        ")\n",
        "data_train_loader = DataLoader(data_train, batch_size=256, shuffle=True, num_workers=8)\n",
        "data_test_loader = DataLoader(data_test, batch_size=1024, num_workers=8)\n"
      ]
    },
    {
      "cell_type": "markdown",
      "metadata": {
        "id": "w5sD8G1dIz0M"
      },
      "source": [
        "In Pytorch, every image should be transformed into a tensor (C,H,W) where C is channel number, H is height and W is width. After putting images into minibatches, a minibatch shoude be a tensor (N,C,H,W) where N is batchsize."
      ]
    },
    {
      "cell_type": "code",
      "execution_count": 3,
      "metadata": {
        "colab": {
          "base_uri": "https://localhost:8080/"
        },
        "id": "IUAomYQQ-jII",
        "outputId": "efef3a8c-b671-4c72-bc91-8bf7cc4ccd18"
      },
      "outputs": [
        {
          "name": "stdout",
          "output_type": "stream",
          "text": [
            "Single sample size: torch.Size([1, 32, 32])\n",
            "Batched sample size: torch.Size([256, 1, 32, 32])\n"
          ]
        }
      ],
      "source": [
        "print(f\"Single sample size: {data_train[0][0].shape}\")\n",
        "minibatch = next(iter(data_train_loader))\n",
        "images = minibatch[0]\n",
        "labels = minibatch[1]\n",
        "print(f\"Batched sample size: {images.shape}\")\n"
      ]
    },
    {
      "cell_type": "markdown",
      "metadata": {
        "id": "2BYGIt5YIfJ7"
      },
      "source": [
        "Visualize first 4 images and their labels in the training set.\n"
      ]
    },
    {
      "cell_type": "code",
      "execution_count": 4,
      "metadata": {
        "colab": {
          "base_uri": "https://localhost:8080/",
          "height": 499
        },
        "id": "5v9bdTbj_vOV",
        "outputId": "99943a24-cf1e-4da8-d269-94a07f1ce614"
      },
      "outputs": [
        {
          "data": {
            "image/png": "[encoded data removed]",
            "text/plain": [
              "<Figure size 1000x800 with 4 Axes>"
            ]
          },
          "metadata": {},
          "output_type": "display_data"
        }
      ],
      "source": [
        "f = plt.figure(figsize=(10, 8))\n",
        "plt.subplot(2, 2, 1)\n",
        "plt.imshow(data_train[0][0][0], cmap=\"gray\")\n",
        "plt.title(f\"Label: {data_train[0][1]}\")\n",
        "plt.subplot(2, 2, 2)\n",
        "plt.imshow(data_train[1][0][0], cmap=\"gray\")\n",
        "plt.title(f\"Label: {data_train[1][1]}\")\n",
        "plt.subplot(2, 2, 3)\n",
        "plt.imshow(data_train[2][0][0], cmap=\"gray\")\n",
        "plt.title(f\"Label: {data_train[2][1]}\")\n",
        "plt.subplot(2, 2, 4)\n",
        "plt.imshow(data_train[3][0][0], cmap=\"gray\")\n",
        "plt.title(f\"Label: {data_train[3][1]}\")\n",
        "plt.show()\n"
      ]
    },
    {
      "cell_type": "markdown",
      "metadata": {
        "id": "VUV34Gt7MIM2"
      },
      "source": [
        "## LeNet-5\n",
        "For a better performance, we change the activation function from Tanh to ReLU. We also change the original average pooling to max pooling. You can follow the description below to implement your LeNet-5 network."
      ]
    },
    {
      "cell_type": "code",
      "execution_count": 5,
      "metadata": {
        "id": "2lVr8zOaGLJU"
      },
      "outputs": [],
      "source": [
        "class LeNet5(nn.Module):\n",
        "  \"\"\"\n",
        "  Input - 1x32x32\n",
        "  C1 - 6@28x28 (5x5 kernel)\n",
        "  ReLU\n",
        "  S2 - 6@14x14 (2x2 kernel, stride 2) MaxPool Subsampling\n",
        "  C3 - 16@10x10 (5x5 kernel)\n",
        "  ReLU\n",
        "  S4 - 16@5x5 (2x2 kernel, stride 2) MaxPool Subsampling\n",
        "  C5 - 120@1x1 (5x5 kernel)\n",
        "  ReLU\n",
        "\n",
        "\n",
        "  F6 - 120 (Input) & 84 (Output)\n",
        "  ReLU\n",
        "  F7 - 84 (Input) & 10 (Output)\n",
        "  \"\"\"\n",
        "\n",
        "  def __init__(self):\n",
        "    super(LeNet5, self).__init__()\n",
        "\n",
        "    self.convnet = nn.Sequential(\n",
        "      nn.Conv2d(in_channels=1, out_channels=6, kernel_size=(5, 5)),\n",
        "      nn.ReLU(),\n",
        "      nn.MaxPool2d(kernel_size=(2, 2), stride=2),\n",
        "      nn.Conv2d(in_channels=6, out_channels=16, kernel_size=(5, 5)),\n",
        "      nn.ReLU(),\n",
        "      nn.MaxPool2d(kernel_size=(2, 2), stride=2),\n",
        "      nn.Conv2d(in_channels=16, out_channels=120, kernel_size=(5, 5)),\n",
        "      nn.ReLU(),\n",
        "    )\n",
        "    self.convnet.apply(self._weights_init_kaiming)\n",
        "    self.fc = nn.Sequential(\n",
        "      nn.Linear(in_features=120, out_features=84),\n",
        "      nn.ReLU(),\n",
        "      nn.Linear(in_features=84, out_features=10),\n",
        "    )\n",
        "    self.fc.apply(self._weights_init_kaiming)\n",
        "\n",
        "  def forward(self, img):\n",
        "    output = self.convnet(img)\n",
        "    output = output.view(img.size(0), -1)\n",
        "    output = self.fc(output)\n",
        "    return output\n",
        "\n",
        "  def _weights_init_kaiming(self, m):\n",
        "    classname = m.__class__.__name__\n",
        "    if classname.find(\"Conv\") != -1:\n",
        "      nn.init.kaiming_normal_(m.weight.data)\n",
        "    elif classname.find(\"Linear\") != -1:\n",
        "      nn.init.kaiming_normal_(m.weight.data)\n",
        "      nn.init.constant_(m.bias.data, 0.0)\n"
      ]
    },
    {
      "cell_type": "code",
      "execution_count": 6,
      "metadata": {},
      "outputs": [
        {
          "name": "stdout",
          "output_type": "stream",
          "text": [
            "Sequential(\n",
            "  (0): Conv2d(1, 6, kernel_size=(5, 5), stride=(1, 1))\n",
            "  (1): ReLU()\n",
            "  (2): MaxPool2d(kernel_size=(2, 2), stride=2, padding=0, dilation=1, ceil_mode=False)\n",
            "  (3): Conv2d(6, 16, kernel_size=(5, 5), stride=(1, 1))\n",
            "  (4): ReLU()\n",
            "  (5): MaxPool2d(kernel_size=(2, 2), stride=2, padding=0, dilation=1, ceil_mode=False)\n",
            "  (6): Conv2d(16, 120, kernel_size=(5, 5), stride=(1, 1))\n",
            "  (7): ReLU()\n",
            ")\n"
          ]
        }
      ],
      "source": [
        "lenet = LeNet5()\n",
        "print(lenet.convnet)"
      ]
    },
    {
      "cell_type": "code",
      "execution_count": 7,
      "metadata": {
        "colab": {
          "base_uri": "https://localhost:8080/"
        },
        "id": "dMT5UzmuNAaJ",
        "outputId": "4a0622de-f741-41b2-f9f2-090e972b4568"
      },
      "outputs": [
        {
          "name": "stdout",
          "output_type": "stream",
          "text": [
            "Sequential(\n",
            "  (0): Linear(in_features=120, out_features=84, bias=True)\n",
            "  (1): ReLU()\n",
            "  (2): Linear(in_features=84, out_features=10, bias=True)\n",
            ")\n"
          ]
        }
      ],
      "source": [
        "print(lenet.fc)"
      ]
    },
    {
      "cell_type": "markdown",
      "metadata": {
        "id": "5VGWtDI0Nu1L"
      },
      "source": [
        "## Train your network\n",
        "1. We have to define a loss function. In pytorch, ```nn.CrossEntropyLoss()``` combines the softmax and cross entropy loss function.\n",
        "\n",
        "2. We also have to define an optimizer. Here, we use a SGD (Stochastic Gradient Descent) with an initial learning rate 0.002 and a momentum 0.9.\n",
        "\n",
        "3. We need a scheduler which decrease the initial learning rate by 0.1 at the 20th epoch. \n",
        "\n",
        "4. We need to write a train function, in which we use optimizer to update parameters in out network to minimize the loss function."
      ]
    },
    {
      "cell_type": "code",
      "execution_count": 8,
      "metadata": {
        "colab": {
          "base_uri": "https://localhost:8080/",
          "height": 128
        },
        "id": "PT_UJchANPF8",
        "outputId": "95772cfb-d841-4046-ad24-ac1180db7060"
      },
      "outputs": [],
      "source": [
        "criterion = nn.CrossEntropyLoss()\n",
        "optimizer = optim.SGD(lenet.parameters(), lr=0.002, momentum=0.9)\n",
        "scheduler = lr_scheduler.StepLR(optimizer=optimizer, step_size=20, gamma=0.1)\n"
      ]
    },
    {
      "cell_type": "code",
      "execution_count": 9,
      "metadata": {
        "id": "fOpoFizRQCeJ"
      },
      "outputs": [],
      "source": [
        "lenet = lenet.to(\"cuda\")\n",
        "\n",
        "\n",
        "def train(maxepoch: int):\n",
        "  fig = go.FigureWidget(\n",
        "    layout=go.Layout(\n",
        "      title=\"Loss\", xaxis_title=\"Batch\", yaxis_title=\"Loss\", yaxis_type=\"log\"\n",
        "    )\n",
        "  )\n",
        "  fig.add_trace(trace=go.Scatter(x=[0], y=[0]))\n",
        "\n",
        "  track_loss = []\n",
        "\n",
        "  lenet.train()\n",
        "  for epoch in range(maxepoch):\n",
        "    for i, (images, labels) in enumerate(data_train_loader):\n",
        "      images = images.to(\"cuda\")\n",
        "      labels = labels.to(\"cuda\")\n",
        "\n",
        "      optimizer.zero_grad()\n",
        "\n",
        "      output = lenet(images)\n",
        "\n",
        "      loss = criterion(output, labels)\n",
        "\n",
        "      if i % 30 == 0:\n",
        "        continue\n",
        "        print(f\"Train - Epoch {epoch}, Batch: {i}, Loss: {loss.detach().cpu().item()}\")\n",
        "\n",
        "      track_loss.append(loss.detach().cpu().item())\n",
        "\n",
        "      loss.backward()\n",
        "      optimizer.step()\n",
        "    scheduler.step()\n",
        "\n",
        "    fig.update_traces(x= list(range(len(track_loss))), y= track_loss);\n",
        "\n",
        "    fig.show()\n",
        "\n",
        "  print(\"Finished.\")\n"
      ]
    },
    {
      "cell_type": "code",
      "execution_count": 10,
      "metadata": {
        "id": "vpdliCGHR2cJ"
      },
      "outputs": [
        {
          "data": {
            "application/vnd.plotly.v1+json": {
              "config": {
                "plotlyServerURL": "https://plot.ly"
              },
              "data": [
                {
                  "type": "scatter",
                  "uid": "f1cb30e6-9dc5-4b5f-be39-da8b6d1eef08",
                  "x": [
                    0,
                    1,
                    2,
                    3,
                    4,
                    5,
                    6,
                    7,
                    8,
                    9,
                    10,
                    11,
                    12,
                    13,
                    14,
                    15,
                    16,
                    17,
                    18,
                    19,
                    20,
                    21,
                    22,
                    23,
                    24,
                    25,
                    26,
                    27,
                    28,
                    29,
                    30,
                    31,
                    32,
                    33,
                    34,
                    35,
                    36,
                    37,
                    38,
                    39,
                    40,
                    41,
                    42,
                    43,
                    44,
                    45,
                    46,
                    47,
                    48,
                    49,
                    50,
                    51,
                    52,
                    53,
                    54,
                    55,
                    56,
                    57,
                    58,
                    59,
                    60,
                    61,
                    62,
                    63,
                    64,
                    65,
                    66,
                    67,
                    68,
                    69,
                    70,
                    71,
                    72,
                    73,
                    74,
                    75,
                    76,
                    77,
                    78,
                    79,
                    80,
                    81,
                    82,
                    83,
                    84,
                    85,
                    86,
                    87,
                    88,
                    89,
                    90,
                    91,
                    92,
                    93,
                    94,
                    95,
                    96,
                    97,
                    98,
                    99,
                    100,
                    101,
                    102,
                    103,
                    104,
                    105,
                    106,
                    107,
                    108,
                    109,
                    110,
                    111,
                    112,
                    113,
                    114,
                    115,
                    116,
                    117,
                    118,
                    119,
                    120,
                    121,
                    122,
                    123,
                    124,
                    125,
                    126,
                    127,
                    128,
                    129,
                    130,
                    131,
                    132,
                    133,
                    134,
                    135,
                    136,
                    137,
                    138,
                    139,
                    140,
                    141,
                    142,
                    143,
                    144,
                    145,
                    146,
                    147,
                    148,
                    149,
                    150,
                    151,
                    152,
                    153,
                    154,
                    155,
                    156,
                    157,
                    158,
                    159,
                    160,
                    161,
                    162,
                    163,
                    164,
                    165,
                    166,
                    167,
                    168,
                    169,
                    170,
                    171,
                    172,
                    173,
                    174,
                    175,
                    176,
                    177,
                    178,
                    179,
                    180,
                    181,
                    182,
                    183,
                    184,
                    185,
                    186,
                    187,
                    188,
                    189,
                    190,
                    191,
                    192,
                    193,
                    194,
                    195,
                    196,
                    197,
                    198,
                    199,
                    200,
                    201,
                    202,
                    203,
                    204,
                    205,
                    206,
                    207,
                    208,
                    209,
                    210,
                    211,
                    212,
                    213,
                    214,
                    215,
                    216,
                    217,
                    218,
                    219,
                    220,
                    221,
                    222,
                    223,
                    224,
                    225,
                    226
                  ],
                  "y": [
                    2.4643332958221436,
                    2.4757742881774902,
                    2.4194986820220947,
                    2.4442384243011475,
                    2.3700642585754395,
                    2.3766989707946777,
                    2.358900308609009,
                    2.322962760925293,
                    2.2978765964508057,
                    2.280251979827881,
                    2.254905939102173,
                    2.216801881790161,
                    2.1947453022003174,
                    2.207138776779175,
                    2.1855573654174805,
                    2.1740572452545166,
                    2.1538567543029785,
                    2.151738166809082,
                    2.1110680103302,
                    2.056859016418457,
                    2.065138816833496,
                    2.0143678188323975,
                    2.0584826469421387,
                    2.0472300052642822,
                    2.0121476650238037,
                    1.9691243171691895,
                    1.9761953353881836,
                    1.9479318857192993,
                    1.878071665763855,
                    1.8939697742462158,
                    1.8651717901229858,
                    1.8603299856185913,
                    1.8053128719329834,
                    1.767719030380249,
                    1.8152552843093872,
                    1.801693081855774,
                    1.6946355104446411,
                    1.690456748008728,
                    1.655198335647583,
                    1.6466326713562012,
                    1.60410737991333,
                    1.563914179801941,
                    1.5500216484069824,
                    1.5001952648162842,
                    1.501973032951355,
                    1.4234912395477295,
                    1.3210699558258057,
                    1.3216806650161743,
                    1.2407535314559937,
                    1.2923593521118164,
                    1.2703123092651367,
                    1.212813377380371,
                    1.2309528589248657,
                    1.158948540687561,
                    1.0520139932632446,
                    1.0735512971878052,
                    0.9610338807106018,
                    1.0291861295700073,
                    0.9576637148857117,
                    0.9965326189994812,
                    0.887112557888031,
                    0.9109198451042175,
                    0.7774505615234375,
                    0.8376907110214233,
                    0.7628161311149597,
                    0.7890715599060059,
                    0.674805223941803,
                    0.7375747561454773,
                    0.7686314582824707,
                    0.753718376159668,
                    0.7299527525901794,
                    0.7136372327804565,
                    0.791630208492279,
                    0.7142359614372253,
                    0.622117817401886,
                    0.7816997766494751,
                    0.7078948020935059,
                    0.5674075484275818,
                    0.6663910150527954,
                    0.5863829255104065,
                    0.5278173089027405,
                    0.56965571641922,
                    0.4731437861919403,
                    0.6405702233314514,
                    0.5748775601387024,
                    0.5576844811439514,
                    0.4527550935745239,
                    0.5633856058120728,
                    0.47972431778907776,
                    0.4415367841720581,
                    0.4520980715751648,
                    0.466641902923584,
                    0.467746764421463,
                    0.47238844633102417,
                    0.5793955326080322,
                    0.4949358403682709,
                    0.45291703939437866,
                    0.40731751918792725,
                    0.5351505279541016,
                    0.46305739879608154,
                    0.4451156556606293,
                    0.5151466131210327,
                    0.48843419551849365,
                    0.35643815994262695,
                    0.39827030897140503,
                    0.4378499984741211,
                    0.45039889216423035,
                    0.38661614060401917,
                    0.4068250060081482,
                    0.5315439105033875,
                    0.4134349524974823,
                    0.42691856622695923,
                    0.4815801978111267,
                    0.4005199074745178,
                    0.3950583040714264,
                    0.44604432582855225,
                    0.4740917682647705,
                    0.34398922324180603,
                    0.5177409648895264,
                    0.37510862946510315,
                    0.4271300435066223,
                    0.42253756523132324,
                    0.38310274481773376,
                    0.35982635617256165,
                    0.3330916464328766,
                    0.5909439325332642,
                    0.36563441157341003,
                    0.38289034366607666,
                    0.40206819772720337,
                    0.40099036693573,
                    0.3809875249862671,
                    0.4006211757659912,
                    0.4307868480682373,
                    0.39435043931007385,
                    0.3000487685203552,
                    0.3334325850009918,
                    0.5119487643241882,
                    0.35970383882522583,
                    0.37136417627334595,
                    0.43918243050575256,
                    0.3008791506290436,
                    0.3076660931110382,
                    0.33166295289993286,
                    0.3313792645931244,
                    0.3159753680229187,
                    0.29566827416419983,
                    0.3446217179298401,
                    0.35338032245635986,
                    0.31657928228378296,
                    0.3513065576553345,
                    0.3282787799835205,
                    0.27822038531303406,
                    0.36284148693084717,
                    0.4016909599304199,
                    0.3266206979751587,
                    0.3545166552066803,
                    0.3232426047325134,
                    0.38860151171684265,
                    0.3148280084133148,
                    0.3726251423358917,
                    0.28988438844680786,
                    0.3249737322330475,
                    0.26712167263031006,
                    0.32200750708580017,
                    0.2356969267129898,
                    0.2897758185863495,
                    0.3578530550003052,
                    0.27480390667915344,
                    0.3670002222061157,
                    0.27059581875801086,
                    0.302985280752182,
                    0.3775806725025177,
                    0.3341611623764038,
                    0.22809045016765594,
                    0.26304545998573303,
                    0.22606182098388672,
                    0.2811647057533264,
                    0.28203222155570984,
                    0.27665460109710693,
                    0.2808947265148163,
                    0.2827528715133667,
                    0.34201574325561523,
                    0.29775238037109375,
                    0.34698203206062317,
                    0.25646504759788513,
                    0.312044233083725,
                    0.357749879360199,
                    0.2566536068916321,
                    0.28958195447921753,
                    0.2290741205215454,
                    0.28775331377983093,
                    0.3852974772453308,
                    0.2557757496833801,
                    0.37229761481285095,
                    0.29459452629089355,
                    0.2839764952659607,
                    0.2425074279308319,
                    0.2545406222343445,
                    0.23409776389598846,
                    0.29040762782096863,
                    0.3121686279773712,
                    0.27166491746902466,
                    0.30623212456703186,
                    0.26991549134254456,
                    0.27820202708244324,
                    0.33434417843818665,
                    0.24251212179660797,
                    0.3363889455795288,
                    0.2961660921573639,
                    0.20964372158050537,
                    0.35681548714637756,
                    0.185237318277359,
                    0.2935087978839874,
                    0.33749184012413025,
                    0.2505764067173004,
                    0.235432967543602,
                    0.40628042817115784,
                    0.24227328598499298,
                    0.36147451400756836,
                    0.2219630628824234,
                    0.23577329516410828,
                    0.19840653240680695,
                    0.2758062183856964,
                    0.24103909730911255,
                    0.3479282855987549,
                    0.3591700494289398,
                    0.30974429845809937
                  ]
                }
              ],
              "layout": {
                "template": {
                  "data": {
                    "bar": [
                      {
                        "error_x": {
                          "color": "#2a3f5f"
                        },
                        "error_y": {
                          "color": "#2a3f5f"
                        },
                        "marker": {
                          "line": {
                            "color": "#E5ECF6",
                            "width": 0.5
                          },
                          "pattern": {
                            "fillmode": "overlay",
                            "size": 10,
                            "solidity": 0.2
                          }
                        },
                        "type": "bar"
                      }
                    ],
                    "barpolar": [
                      {
                        "marker": {
                          "line": {
                            "color": "#E5ECF6",
                            "width": 0.5
                          },
                          "pattern": {
                            "fillmode": "overlay",
                            "size": 10,
                            "solidity": 0.2
                          }
                        },
                        "type": "barpolar"
                      }
                    ],
                    "carpet": [
                      {
                        "aaxis": {
                          "endlinecolor": "#2a3f5f",
                          "gridcolor": "white",
                          "linecolor": "white",
                          "minorgridcolor": "white",
                          "startlinecolor": "#2a3f5f"
                        },
                        "baxis": {
                          "endlinecolor": "#2a3f5f",
                          "gridcolor": "white",
                          "linecolor": "white",
                          "minorgridcolor": "white",
                          "startlinecolor": "#2a3f5f"
                        },
                        "type": "carpet"
                      }
                    ],
                    "choropleth": [
                      {
                        "colorbar": {
                          "outlinewidth": 0,
                          "ticks": ""
                        },
                        "type": "choropleth"
                      }
                    ],
                    "contour": [
                      {
                        "colorbar": {
                          "outlinewidth": 0,
                          "ticks": ""
                        },
                        "colorscale": [
                          [
                            0,
                            "#0d0887"
                          ],
                          [
                            0.1111111111111111,
                            "#46039f"
                          ],
                          [
                            0.2222222222222222,
                            "#7201a8"
                          ],
                          [
                            0.3333333333333333,
                            "#9c179e"
                          ],
                          [
                            0.4444444444444444,
                            "#bd3786"
                          ],
                          [
                            0.5555555555555556,
                            "#d8576b"
                          ],
                          [
                            0.6666666666666666,
                            "#ed7953"
                          ],
                          [
                            0.7777777777777778,
                            "#fb9f3a"
                          ],
                          [
                            0.8888888888888888,
                            "#fdca26"
                          ],
                          [
                            1,
                            "#f0f921"
                          ]
                        ],
                        "type": "contour"
                      }
                    ],
                    "contourcarpet": [
                      {
                        "colorbar": {
                          "outlinewidth": 0,
                          "ticks": ""
                        },
                        "type": "contourcarpet"
                      }
                    ],
                    "heatmap": [
                      {
                        "colorbar": {
                          "outlinewidth": 0,
                          "ticks": ""
                        },
                        "colorscale": [
                          [
                            0,
                            "#0d0887"
                          ],
                          [
                            0.1111111111111111,
                            "#46039f"
                          ],
                          [
                            0.2222222222222222,
                            "#7201a8"
                          ],
                          [
                            0.3333333333333333,
                            "#9c179e"
                          ],
                          [
                            0.4444444444444444,
                            "#bd3786"
                          ],
                          [
                            0.5555555555555556,
                            "#d8576b"
                          ],
                          [
                            0.6666666666666666,
                            "#ed7953"
                          ],
                          [
                            0.7777777777777778,
                            "#fb9f3a"
                          ],
                          [
                            0.8888888888888888,
                            "#fdca26"
                          ],
                          [
                            1,
                            "#f0f921"
                          ]
                        ],
                        "type": "heatmap"
                      }
                    ],
                    "heatmapgl": [
                      {
                        "colorbar": {
                          "outlinewidth": 0,
                          "ticks": ""
                        },
                        "colorscale": [
                          [
                            0,
                            "#0d0887"
                          ],
                          [
                            0.1111111111111111,
                            "#46039f"
                          ],
                          [
                            0.2222222222222222,
                            "#7201a8"
                          ],
                          [
                            0.3333333333333333,
                            "#9c179e"
                          ],
                          [
                            0.4444444444444444,
                            "#bd3786"
                          ],
                          [
                            0.5555555555555556,
                            "#d8576b"
                          ],
                          [
                            0.6666666666666666,
                            "#ed7953"
                          ],
                          [
                            0.7777777777777778,
                            "#fb9f3a"
                          ],
                          [
                            0.8888888888888888,
                            "#fdca26"
                          ],
                          [
                            1,
                            "#f0f921"
                          ]
                        ],
                        "type": "heatmapgl"
                      }
                    ],
                    "histogram": [
                      {
                        "marker": {
                          "pattern": {
                            "fillmode": "overlay",
                            "size": 10,
                            "solidity": 0.2
                          }
                        },
                        "type": "histogram"
                      }
                    ],
                    "histogram2d": [
                      {
                        "colorbar": {
                          "outlinewidth": 0,
                          "ticks": ""
                        },
                        "colorscale": [
                          [
                            0,
                            "#0d0887"
                          ],
                          [
                            0.1111111111111111,
                            "#46039f"
                          ],
                          [
                            0.2222222222222222,
                            "#7201a8"
                          ],
                          [
                            0.3333333333333333,
                            "#9c179e"
                          ],
                          [
                            0.4444444444444444,
                            "#bd3786"
                          ],
                          [
                            0.5555555555555556,
                            "#d8576b"
                          ],
                          [
                            0.6666666666666666,
                            "#ed7953"
                          ],
                          [
                            0.7777777777777778,
                            "#fb9f3a"
                          ],
                          [
                            0.8888888888888888,
                            "#fdca26"
                          ],
                          [
                            1,
                            "#f0f921"
                          ]
                        ],
                        "type": "histogram2d"
                      }
                    ],
                    "histogram2dcontour": [
                      {
                        "colorbar": {
                          "outlinewidth": 0,
                          "ticks": ""
                        },
                        "colorscale": [
                          [
                            0,
                            "#0d0887"
                          ],
                          [
                            0.1111111111111111,
                            "#46039f"
                          ],
                          [
                            0.2222222222222222,
                            "#7201a8"
                          ],
                          [
                            0.3333333333333333,
                            "#9c179e"
                          ],
                          [
                            0.4444444444444444,
                            "#bd3786"
                          ],
                          [
                            0.5555555555555556,
                            "#d8576b"
                          ],
                          [
                            0.6666666666666666,
                            "#ed7953"
                          ],
                          [
                            0.7777777777777778,
                            "#fb9f3a"
                          ],
                          [
                            0.8888888888888888,
                            "#fdca26"
                          ],
                          [
                            1,
                            "#f0f921"
                          ]
                        ],
                        "type": "histogram2dcontour"
                      }
                    ],
                    "mesh3d": [
                      {
                        "colorbar": {
                          "outlinewidth": 0,
                          "ticks": ""
                        },
                        "type": "mesh3d"
                      }
                    ],
                    "parcoords": [
                      {
                        "line": {
                          "colorbar": {
                            "outlinewidth": 0,
                            "ticks": ""
                          }
                        },
                        "type": "parcoords"
                      }
                    ],
                    "pie": [
                      {
                        "automargin": true,
                        "type": "pie"
                      }
                    ],
                    "scatter": [
                      {
                        "fillpattern": {
                          "fillmode": "overlay",
                          "size": 10,
                          "solidity": 0.2
                        },
                        "type": "scatter"
                      }
                    ],
                    "scatter3d": [
                      {
                        "line": {
                          "colorbar": {
                            "outlinewidth": 0,
                            "ticks": ""
                          }
                        },
                        "marker": {
                          "colorbar": {
                            "outlinewidth": 0,
                            "ticks": ""
                          }
                        },
                        "type": "scatter3d"
                      }
                    ],
                    "scattercarpet": [
                      {
                        "marker": {
                          "colorbar": {
                            "outlinewidth": 0,
                            "ticks": ""
                          }
                        },
                        "type": "scattercarpet"
                      }
                    ],
                    "scattergeo": [
                      {
                        "marker": {
                          "colorbar": {
                            "outlinewidth": 0,
                            "ticks": ""
                          }
                        },
                        "type": "scattergeo"
                      }
                    ],
                    "scattergl": [
                      {
                        "marker": {
                          "colorbar": {
                            "outlinewidth": 0,
                            "ticks": ""
                          }
                        },
                        "type": "scattergl"
                      }
                    ],
                    "scattermapbox": [
                      {
                        "marker": {
                          "colorbar": {
                            "outlinewidth": 0,
                            "ticks": ""
                          }
                        },
                        "type": "scattermapbox"
                      }
                    ],
                    "scatterpolar": [
                      {
                        "marker": {
                          "colorbar": {
                            "outlinewidth": 0,
                            "ticks": ""
                          }
                        },
                        "type": "scatterpolar"
                      }
                    ],
                    "scatterpolargl": [
                      {
                        "marker": {
                          "colorbar": {
                            "outlinewidth": 0,
                            "ticks": ""
                          }
                        },
                        "type": "scatterpolargl"
                      }
                    ],
                    "scatterternary": [
                      {
                        "marker": {
                          "colorbar": {
                            "outlinewidth": 0,
                            "ticks": ""
                          }
                        },
                        "type": "scatterternary"
                      }
                    ],
                    "surface": [
                      {
                        "colorbar": {
                          "outlinewidth": 0,
                          "ticks": ""
                        },
                        "colorscale": [
                          [
                            0,
                            "#0d0887"
                          ],
                          [
                            0.1111111111111111,
                            "#46039f"
                          ],
                          [
                            0.2222222222222222,
                            "#7201a8"
                          ],
                          [
                            0.3333333333333333,
                            "#9c179e"
                          ],
                          [
                            0.4444444444444444,
                            "#bd3786"
                          ],
                          [
                            0.5555555555555556,
                            "#d8576b"
                          ],
                          [
                            0.6666666666666666,
                            "#ed7953"
                          ],
                          [
                            0.7777777777777778,
                            "#fb9f3a"
                          ],
                          [
                            0.8888888888888888,
                            "#fdca26"
                          ],
                          [
                            1,
                            "#f0f921"
                          ]
                        ],
                        "type": "surface"
                      }
                    ],
                    "table": [
                      {
                        "cells": {
                          "fill": {
                            "color": "#EBF0F8"
                          },
                          "line": {
                            "color": "white"
                          }
                        },
                        "header": {
                          "fill": {
                            "color": "#C8D4E3"
                          },
                          "line": {
                            "color": "white"
                          }
                        },
                        "type": "table"
                      }
                    ]
                  },
                  "layout": {
                    "annotationdefaults": {
                      "arrowcolor": "#2a3f5f",
                      "arrowhead": 0,
                      "arrowwidth": 1
                    },
                    "autotypenumbers": "strict",
                    "coloraxis": {
                      "colorbar": {
                        "outlinewidth": 0,
                        "ticks": ""
                      }
                    },
                    "colorscale": {
                      "diverging": [
                        [
                          0,
                          "#8e0152"
                        ],
                        [
                          0.1,
                          "#c51b7d"
                        ],
                        [
                          0.2,
                          "#de77ae"
                        ],
                        [
                          0.3,
                          "#f1b6da"
                        ],
                        [
                          0.4,
                          "#fde0ef"
                        ],
                        [
                          0.5,
                          "#f7f7f7"
                        ],
                        [
                          0.6,
                          "#e6f5d0"
                        ],
                        [
                          0.7,
                          "#b8e186"
                        ],
                        [
                          0.8,
                          "#7fbc41"
                        ],
                        [
                          0.9,
                          "#4d9221"
                        ],
                        [
                          1,
                          "#276419"
                        ]
                      ],
                      "sequential": [
                        [
                          0,
                          "#0d0887"
                        ],
                        [
                          0.1111111111111111,
                          "#46039f"
                        ],
                        [
                          0.2222222222222222,
                          "#7201a8"
                        ],
                        [
                          0.3333333333333333,
                          "#9c179e"
                        ],
                        [
                          0.4444444444444444,
                          "#bd3786"
                        ],
                        [
                          0.5555555555555556,
                          "#d8576b"
                        ],
                        [
                          0.6666666666666666,
                          "#ed7953"
                        ],
                        [
                          0.7777777777777778,
                          "#fb9f3a"
                        ],
                        [
                          0.8888888888888888,
                          "#fdca26"
                        ],
                        [
                          1,
                          "#f0f921"
                        ]
                      ],
                      "sequentialminus": [
                        [
                          0,
                          "#0d0887"
                        ],
                        [
                          0.1111111111111111,
                          "#46039f"
                        ],
                        [
                          0.2222222222222222,
                          "#7201a8"
                        ],
                        [
                          0.3333333333333333,
                          "#9c179e"
                        ],
                        [
                          0.4444444444444444,
                          "#bd3786"
                        ],
                        [
                          0.5555555555555556,
                          "#d8576b"
                        ],
                        [
                          0.6666666666666666,
                          "#ed7953"
                        ],
                        [
                          0.7777777777777778,
                          "#fb9f3a"
                        ],
                        [
                          0.8888888888888888,
                          "#fdca26"
                        ],
                        [
                          1,
                          "#f0f921"
                        ]
                      ]
                    },
                    "colorway": [
                      "#636efa",
                      "#EF553B",
                      "#00cc96",
                      "#ab63fa",
                      "#FFA15A",
                      "#19d3f3",
                      "#FF6692",
                      "#B6E880",
                      "#FF97FF",
                      "#FECB52"
                    ],
                    "font": {
                      "color": "#2a3f5f"
                    },
                    "geo": {
                      "bgcolor": "white",
                      "lakecolor": "white",
                      "landcolor": "#E5ECF6",
                      "showlakes": true,
                      "showland": true,
                      "subunitcolor": "white"
                    },
                    "hoverlabel": {
                      "align": "left"
                    },
                    "hovermode": "closest",
                    "mapbox": {
                      "style": "light"
                    },
                    "paper_bgcolor": "white",
                    "plot_bgcolor": "#E5ECF6",
                    "polar": {
                      "angularaxis": {
                        "gridcolor": "white",
                        "linecolor": "white",
                        "ticks": ""
                      },
                      "bgcolor": "#E5ECF6",
                      "radialaxis": {
                        "gridcolor": "white",
                        "linecolor": "white",
                        "ticks": ""
                      }
                    },
                    "scene": {
                      "xaxis": {
                        "backgroundcolor": "#E5ECF6",
                        "gridcolor": "white",
                        "gridwidth": 2,
                        "linecolor": "white",
                        "showbackground": true,
                        "ticks": "",
                        "zerolinecolor": "white"
                      },
                      "yaxis": {
                        "backgroundcolor": "#E5ECF6",
                        "gridcolor": "white",
                        "gridwidth": 2,
                        "linecolor": "white",
                        "showbackground": true,
                        "ticks": "",
                        "zerolinecolor": "white"
                      },
                      "zaxis": {
                        "backgroundcolor": "#E5ECF6",
                        "gridcolor": "white",
                        "gridwidth": 2,
                        "linecolor": "white",
                        "showbackground": true,
                        "ticks": "",
                        "zerolinecolor": "white"
                      }
                    },
                    "shapedefaults": {
                      "line": {
                        "color": "#2a3f5f"
                      }
                    },
                    "ternary": {
                      "aaxis": {
                        "gridcolor": "white",
                        "linecolor": "white",
                        "ticks": ""
                      },
                      "baxis": {
                        "gridcolor": "white",
                        "linecolor": "white",
                        "ticks": ""
                      },
                      "bgcolor": "#E5ECF6",
                      "caxis": {
                        "gridcolor": "white",
                        "linecolor": "white",
                        "ticks": ""
                      }
                    },
                    "title": {
                      "x": 0.05
                    },
                    "xaxis": {
                      "automargin": true,
                      "gridcolor": "white",
                      "linecolor": "white",
                      "ticks": "",
                      "title": {
                        "standoff": 15
                      },
                      "zerolinecolor": "white",
                      "zerolinewidth": 2
                    },
                    "yaxis": {
                      "automargin": true,
                      "gridcolor": "white",
                      "linecolor": "white",
                      "ticks": "",
                      "title": {
                        "standoff": 15
                      },
                      "zerolinecolor": "white",
                      "zerolinewidth": 2
                    }
                  }
                },
                "title": {
                  "text": "Loss"
                },
                "xaxis": {
                  "title": {
                    "text": "Batch"
                  }
                },
                "yaxis": {
                  "title": {
                    "text": "Loss"
                  },
                  "type": "log"
                }
              }
            }
          },
          "metadata": {},
          "output_type": "display_data"
        },
        {
          "data": {
            "application/vnd.plotly.v1+json": {
              "config": {
                "plotlyServerURL": "https://plot.ly"
              },
              "data": [
                {
                  "type": "scatter",
                  "uid": "f1cb30e6-9dc5-4b5f-be39-da8b6d1eef08",
                  "x": [
                    0,
                    1,
                    2,
                    3,
                    4,
                    5,
                    6,
                    7,
                    8,
                    9,
                    10,
                    11,
                    12,
                    13,
                    14,
                    15,
                    16,
                    17,
                    18,
                    19,
                    20,
                    21,
                    22,
                    23,
                    24,
                    25,
                    26,
                    27,
                    28,
                    29,
                    30,
                    31,
                    32,
                    33,
                    34,
                    35,
                    36,
                    37,
                    38,
                    39,
                    40,
                    41,
                    42,
                    43,
                    44,
                    45,
                    46,
                    47,
                    48,
                    49,
                    50,
                    51,
                    52,
                    53,
                    54,
                    55,
                    56,
                    57,
                    58,
                    59,
                    60,
                    61,
                    62,
                    63,
                    64,
                    65,
                    66,
                    67,
                    68,
                    69,
                    70,
                    71,
                    72,
                    73,
                    74,
                    75,
                    76,
                    77,
                    78,
                    79,
                    80,
                    81,
                    82,
                    83,
                    84,
                    85,
                    86,
                    87,
                    88,
                    89,
                    90,
                    91,
                    92,
                    93,
                    94,
                    95,
                    96,
                    97,
                    98,
                    99,
                    100,
                    101,
                    102,
                    103,
                    104,
                    105,
                    106,
                    107,
                    108,
                    109,
                    110,
                    111,
                    112,
                    113,
                    114,
                    115,
                    116,
                    117,
                    118,
                    119,
                    120,
                    121,
                    122,
                    123,
                    124,
                    125,
                    126,
                    127,
                    128,
                    129,
                    130,
                    131,
                    132,
                    133,
                    134,
                    135,
                    136,
                    137,
                    138,
                    139,
                    140,
                    141,
                    142,
                    143,
                    144,
                    145,
                    146,
                    147,
                    148,
                    149,
                    150,
                    151,
                    152,
                    153,
                    154,
                    155,
                    156,
                    157,
                    158,
                    159,
                    160,
                    161,
                    162,
                    163,
                    164,
                    165,
                    166,
                    167,
                    168,
                    169,
                    170,
                    171,
                    172,
                    173,
                    174,
                    175,
                    176,
                    177,
                    178,
                    179,
                    180,
                    181,
                    182,
                    183,
                    184,
                    185,
                    186,
                    187,
                    188,
                    189,
                    190,
                    191,
                    192,
                    193,
                    194,
                    195,
                    196,
                    197,
                    198,
                    199,
                    200,
                    201,
                    202,
                    203,
                    204,
                    205,
                    206,
                    207,
                    208,
                    209,
                    210,
                    211,
                    212,
                    213,
                    214,
                    215,
                    216,
                    217,
                    218,
                    219,
                    220,
                    221,
                    222,
                    223,
                    224,
                    225,
                    226,
                    227,
                    228,
                    229,
                    230,
                    231,
                    232,
                    233,
                    234,
                    235,
                    236,
                    237,
                    238,
                    239,
                    240,
                    241,
                    242,
                    243,
                    244,
                    245,
                    246,
                    247,
                    248,
                    249,
                    250,
                    251,
                    252,
                    253,
                    254,
                    255,
                    256,
                    257,
                    258,
                    259,
                    260,
                    261,
                    262,
                    263,
                    264,
                    265,
                    266,
                    267,
                    268,
                    269,
                    270,
                    271,
                    272,
                    273,
                    274,
                    275,
                    276,
                    277,
                    278,
                    279,
                    280,
                    281,
                    282,
                    283,
                    284,
                    285,
                    286,
                    287,
                    288,
                    289,
                    290,
                    291,
                    292,
                    293,
                    294,
                    295,
                    296,
                    297,
                    298,
                    299,
                    300,
                    301,
                    302,
                    303,
                    304,
                    305,
                    306,
                    307,
                    308,
                    309,
                    310,
                    311,
                    312,
                    313,
                    314,
                    315,
                    316,
                    317,
                    318,
                    319,
                    320,
                    321,
                    322,
                    323,
                    324,
                    325,
                    326,
                    327,
                    328,
                    329,
                    330,
                    331,
                    332,
                    333,
                    334,
                    335,
                    336,
                    337,
                    338,
                    339,
                    340,
                    341,
                    342,
                    343,
                    344,
                    345,
                    346,
                    347,
                    348,
                    349,
                    350,
                    351,
                    352,
                    353,
                    354,
                    355,
                    356,
                    357,
                    358,
                    359,
                    360,
                    361,
                    362,
                    363,
                    364,
                    365,
                    366,
                    367,
                    368,
                    369,
                    370,
                    371,
                    372,
                    373,
                    374,
                    375,
                    376,
                    377,
                    378,
                    379,
                    380,
                    381,
                    382,
                    383,
                    384,
                    385,
                    386,
                    387,
                    388,
                    389,
                    390,
                    391,
                    392,
                    393,
                    394,
                    395,
                    396,
                    397,
                    398,
                    399,
                    400,
                    401,
                    402,
                    403,
                    404,
                    405,
                    406,
                    407,
                    408,
                    409,
                    410,
                    411,
                    412,
                    413,
                    414,
                    415,
                    416,
                    417,
                    418,
                    419,
                    420,
                    421,
                    422,
                    423,
                    424,
                    425,
                    426,
                    427,
                    428,
                    429,
                    430,
                    431,
                    432,
                    433,
                    434,
                    435,
                    436,
                    437,
                    438,
                    439,
                    440,
                    441,
                    442,
                    443,
                    444,
                    445,
                    446,
                    447,
                    448,
                    449,
                    450,
                    451,
                    452,
                    453
                  ],
                  "y": [
                    2.4643332958221436,
                    2.4757742881774902,
                    2.4194986820220947,
                    2.4442384243011475,
                    2.3700642585754395,
                    2.3766989707946777,
                    2.358900308609009,
                    2.322962760925293,
                    2.2978765964508057,
                    2.280251979827881,
                    2.254905939102173,
                    2.216801881790161,
                    2.1947453022003174,
                    2.207138776779175,
                    2.1855573654174805,
                    2.1740572452545166,
                    2.1538567543029785,
                    2.151738166809082,
                    2.1110680103302,
                    2.056859016418457,
                    2.065138816833496,
                    2.0143678188323975,
                    2.0584826469421387,
                    2.0472300052642822,
                    2.0121476650238037,
                    1.9691243171691895,
                    1.9761953353881836,
                    1.9479318857192993,
                    1.878071665763855,
                    1.8939697742462158,
                    1.8651717901229858,
                    1.8603299856185913,
                    1.8053128719329834,
                    1.767719030380249,
                    1.8152552843093872,
                    1.801693081855774,
                    1.6946355104446411,
                    1.690456748008728,
                    1.655198335647583,
                    1.6466326713562012,
                    1.60410737991333,
                    1.563914179801941,
                    1.5500216484069824,
                    1.5001952648162842,
                    1.501973032951355,
                    1.4234912395477295,
                    1.3210699558258057,
                    1.3216806650161743,
                    1.2407535314559937,
                    1.2923593521118164,
                    1.2703123092651367,
                    1.212813377380371,
                    1.2309528589248657,
                    1.158948540687561,
                    1.0520139932632446,
                    1.0735512971878052,
                    0.9610338807106018,
                    1.0291861295700073,
                    0.9576637148857117,
                    0.9965326189994812,
                    0.887112557888031,
                    0.9109198451042175,
                    0.7774505615234375,
                    0.8376907110214233,
                    0.7628161311149597,
                    0.7890715599060059,
                    0.674805223941803,
                    0.7375747561454773,
                    0.7686314582824707,
                    0.753718376159668,
                    0.7299527525901794,
                    0.7136372327804565,
                    0.791630208492279,
                    0.7142359614372253,
                    0.622117817401886,
                    0.7816997766494751,
                    0.7078948020935059,
                    0.5674075484275818,
                    0.6663910150527954,
                    0.5863829255104065,
                    0.5278173089027405,
                    0.56965571641922,
                    0.4731437861919403,
                    0.6405702233314514,
                    0.5748775601387024,
                    0.5576844811439514,
                    0.4527550935745239,
                    0.5633856058120728,
                    0.47972431778907776,
                    0.4415367841720581,
                    0.4520980715751648,
                    0.466641902923584,
                    0.467746764421463,
                    0.47238844633102417,
                    0.5793955326080322,
                    0.4949358403682709,
                    0.45291703939437866,
                    0.40731751918792725,
                    0.5351505279541016,
                    0.46305739879608154,
                    0.4451156556606293,
                    0.5151466131210327,
                    0.48843419551849365,
                    0.35643815994262695,
                    0.39827030897140503,
                    0.4378499984741211,
                    0.45039889216423035,
                    0.38661614060401917,
                    0.4068250060081482,
                    0.5315439105033875,
                    0.4134349524974823,
                    0.42691856622695923,
                    0.4815801978111267,
                    0.4005199074745178,
                    0.3950583040714264,
                    0.44604432582855225,
                    0.4740917682647705,
                    0.34398922324180603,
                    0.5177409648895264,
                    0.37510862946510315,
                    0.4271300435066223,
                    0.42253756523132324,
                    0.38310274481773376,
                    0.35982635617256165,
                    0.3330916464328766,
                    0.5909439325332642,
                    0.36563441157341003,
                    0.38289034366607666,
                    0.40206819772720337,
                    0.40099036693573,
                    0.3809875249862671,
                    0.4006211757659912,
                    0.4307868480682373,
                    0.39435043931007385,
                    0.3000487685203552,
                    0.3334325850009918,
                    0.5119487643241882,
                    0.35970383882522583,
                    0.37136417627334595,
                    0.43918243050575256,
                    0.3008791506290436,
                    0.3076660931110382,
                    0.33166295289993286,
                    0.3313792645931244,
                    0.3159753680229187,
                    0.29566827416419983,
                    0.3446217179298401,
                    0.35338032245635986,
                    0.31657928228378296,
                    0.3513065576553345,
                    0.3282787799835205,
                    0.27822038531303406,
                    0.36284148693084717,
                    0.4016909599304199,
                    0.3266206979751587,
                    0.3545166552066803,
                    0.3232426047325134,
                    0.38860151171684265,
                    0.3148280084133148,
                    0.3726251423358917,
                    0.28988438844680786,
                    0.3249737322330475,
                    0.26712167263031006,
                    0.32200750708580017,
                    0.2356969267129898,
                    0.2897758185863495,
                    0.3578530550003052,
                    0.27480390667915344,
                    0.3670002222061157,
                    0.27059581875801086,
                    0.302985280752182,
                    0.3775806725025177,
                    0.3341611623764038,
                    0.22809045016765594,
                    0.26304545998573303,
                    0.22606182098388672,
                    0.2811647057533264,
                    0.28203222155570984,
                    0.27665460109710693,
                    0.2808947265148163,
                    0.2827528715133667,
                    0.34201574325561523,
                    0.29775238037109375,
                    0.34698203206062317,
                    0.25646504759788513,
                    0.312044233083725,
                    0.357749879360199,
                    0.2566536068916321,
                    0.28958195447921753,
                    0.2290741205215454,
                    0.28775331377983093,
                    0.3852974772453308,
                    0.2557757496833801,
                    0.37229761481285095,
                    0.29459452629089355,
                    0.2839764952659607,
                    0.2425074279308319,
                    0.2545406222343445,
                    0.23409776389598846,
                    0.29040762782096863,
                    0.3121686279773712,
                    0.27166491746902466,
                    0.30623212456703186,
                    0.26991549134254456,
                    0.27820202708244324,
                    0.33434417843818665,
                    0.24251212179660797,
                    0.3363889455795288,
                    0.2961660921573639,
                    0.20964372158050537,
                    0.35681548714637756,
                    0.185237318277359,
                    0.2935087978839874,
                    0.33749184012413025,
                    0.2505764067173004,
                    0.235432967543602,
                    0.40628042817115784,
                    0.24227328598499298,
                    0.36147451400756836,
                    0.2219630628824234,
                    0.23577329516410828,
                    0.19840653240680695,
                    0.2758062183856964,
                    0.24103909730911255,
                    0.3479282855987549,
                    0.3591700494289398,
                    0.30974429845809937,
                    0.2627342939376831,
                    0.3075829744338989,
                    0.27062493562698364,
                    0.30972445011138916,
                    0.260935515165329,
                    0.31845155358314514,
                    0.25075849890708923,
                    0.2650715112686157,
                    0.22396525740623474,
                    0.2541283965110779,
                    0.21068215370178223,
                    0.2900329828262329,
                    0.25359803438186646,
                    0.21470914781093597,
                    0.28681573271751404,
                    0.1807514727115631,
                    0.2562969923019409,
                    0.25392746925354004,
                    0.1727616935968399,
                    0.23291434347629547,
                    0.25402212142944336,
                    0.28890568017959595,
                    0.2763981521129608,
                    0.2573154866695404,
                    0.22955143451690674,
                    0.24498410522937775,
                    0.31974828243255615,
                    0.27246224880218506,
                    0.27212387323379517,
                    0.29514867067337036,
                    0.26540476083755493,
                    0.24622026085853577,
                    0.21118420362472534,
                    0.25282520055770874,
                    0.21016575396060944,
                    0.30227941274642944,
                    0.21587985754013062,
                    0.2350795567035675,
                    0.18641400337219238,
                    0.23276224732398987,
                    0.26790672540664673,
                    0.23196391761302948,
                    0.14559413492679596,
                    0.23015931248664856,
                    0.21824459731578827,
                    0.19027946889400482,
                    0.2237282544374466,
                    0.26839035749435425,
                    0.2034948319196701,
                    0.27241936326026917,
                    0.259149432182312,
                    0.32578667998313904,
                    0.18002668023109436,
                    0.233723983168602,
                    0.19611456990242004,
                    0.23503899574279785,
                    0.28324007987976074,
                    0.3012182116508484,
                    0.3081763982772827,
                    0.25241565704345703,
                    0.3283071517944336,
                    0.299607515335083,
                    0.17310765385627747,
                    0.2614590525627136,
                    0.22840771079063416,
                    0.2973017990589142,
                    0.2589723765850067,
                    0.2714051902294159,
                    0.31113138794898987,
                    0.2305271178483963,
                    0.158277690410614,
                    0.23104116320610046,
                    0.33295363187789917,
                    0.20325413346290588,
                    0.14183911681175232,
                    0.2614487409591675,
                    0.2850608825683594,
                    0.16831472516059875,
                    0.3069385886192322,
                    0.24474242329597473,
                    0.28591087460517883,
                    0.2977212071418762,
                    0.15242010354995728,
                    0.19671310484409332,
                    0.1947476714849472,
                    0.23177988827228546,
                    0.2620697617530823,
                    0.22655628621578217,
                    0.1904875636100769,
                    0.2531004250049591,
                    0.22930742800235748,
                    0.2557435631752014,
                    0.20376859605312347,
                    0.26527541875839233,
                    0.18665292859077454,
                    0.3385677635669708,
                    0.21852634847164154,
                    0.16902165114879608,
                    0.2749266028404236,
                    0.2318989485502243,
                    0.22662760317325592,
                    0.2474089115858078,
                    0.17380604147911072,
                    0.20446403324604034,
                    0.23199298977851868,
                    0.21294128894805908,
                    0.21088215708732605,
                    0.2484777867794037,
                    0.2131986767053604,
                    0.14964404702186584,
                    0.17876359820365906,
                    0.28084635734558105,
                    0.19804048538208008,
                    0.20014330744743347,
                    0.2692526876926422,
                    0.23301911354064941,
                    0.1680888533592224,
                    0.2777750790119171,
                    0.24384793639183044,
                    0.17959652841091156,
                    0.1830505132675171,
                    0.2686333656311035,
                    0.13748684525489807,
                    0.20354381203651428,
                    0.2657962143421173,
                    0.2269698679447174,
                    0.23407238721847534,
                    0.16713880002498627,
                    0.2415248602628708,
                    0.18674655258655548,
                    0.22960858047008514,
                    0.16529788076877594,
                    0.21195641160011292,
                    0.20144708454608917,
                    0.14808934926986694,
                    0.21779434382915497,
                    0.2251695990562439,
                    0.18128472566604614,
                    0.29833346605300903,
                    0.1545131951570511,
                    0.14193573594093323,
                    0.2539227604866028,
                    0.18969954550266266,
                    0.177652508020401,
                    0.22487856447696686,
                    0.23239123821258545,
                    0.2174001783132553,
                    0.20165543258190155,
                    0.17298637330532074,
                    0.23985154926776886,
                    0.19190259277820587,
                    0.18250957131385803,
                    0.193329319357872,
                    0.14591701328754425,
                    0.18269003927707672,
                    0.2532772123813629,
                    0.21304529905319214,
                    0.2825925350189209,
                    0.2819746434688568,
                    0.1717437207698822,
                    0.20743505656719208,
                    0.22391027212142944,
                    0.2589464485645294,
                    0.22581259906291962,
                    0.16663086414337158,
                    0.24623538553714752,
                    0.1235671117901802,
                    0.22978855669498444,
                    0.1466275155544281,
                    0.2546098828315735,
                    0.1698455959558487,
                    0.16447797417640686,
                    0.17604558169841766,
                    0.15309680998325348,
                    0.12107247114181519,
                    0.20756611227989197,
                    0.17195478081703186,
                    0.1399332880973816,
                    0.21968013048171997,
                    0.2700769305229187,
                    0.15601591765880585,
                    0.1787457913160324,
                    0.1460588425397873,
                    0.1593356728553772,
                    0.18487122654914856,
                    0.16970789432525635,
                    0.19866570830345154,
                    0.1724599450826645,
                    0.2009178102016449,
                    0.33375731110572815,
                    0.1613268256187439,
                    0.1522650420665741,
                    0.24069592356681824,
                    0.13126063346862793,
                    0.18323484063148499,
                    0.17198407649993896,
                    0.18044182658195496,
                    0.19510102272033691,
                    0.1867746263742447,
                    0.21430902183055878,
                    0.1870439201593399,
                    0.17223280668258667,
                    0.18240047991275787,
                    0.17595431208610535,
                    0.1970510333776474,
                    0.2315017580986023,
                    0.2827751636505127,
                    0.13304565846920013,
                    0.21474699676036835,
                    0.17000266909599304,
                    0.175372913479805,
                    0.2151690423488617,
                    0.17513662576675415,
                    0.15996238589286804,
                    0.17117245495319366,
                    0.13560280203819275,
                    0.19826854765415192,
                    0.19219698011875153,
                    0.1607389748096466,
                    0.21547961235046387,
                    0.1583782434463501,
                    0.2170771360397339,
                    0.17368410527706146,
                    0.1631384640932083,
                    0.24653436243534088,
                    0.22323806583881378,
                    0.21476149559020996
                  ]
                }
              ],
              "layout": {
                "template": {
                  "data": {
                    "bar": [
                      {
                        "error_x": {
                          "color": "#2a3f5f"
                        },
                        "error_y": {
                          "color": "#2a3f5f"
                        },
                        "marker": {
                          "line": {
                            "color": "#E5ECF6",
                            "width": 0.5
                          },
                          "pattern": {
                            "fillmode": "overlay",
                            "size": 10,
                            "solidity": 0.2
                          }
                        },
                        "type": "bar"
                      }
                    ],
                    "barpolar": [
                      {
                        "marker": {
                          "line": {
                            "color": "#E5ECF6",
                            "width": 0.5
                          },
                          "pattern": {
                            "fillmode": "overlay",
                            "size": 10,
                            "solidity": 0.2
                          }
                        },
                        "type": "barpolar"
                      }
                    ],
                    "carpet": [
                      {
                        "aaxis": {
                          "endlinecolor": "#2a3f5f",
                          "gridcolor": "white",
                          "linecolor": "white",
                          "minorgridcolor": "white",
                          "startlinecolor": "#2a3f5f"
                        },
                        "baxis": {
                          "endlinecolor": "#2a3f5f",
                          "gridcolor": "white",
                          "linecolor": "white",
                          "minorgridcolor": "white",
                          "startlinecolor": "#2a3f5f"
                        },
                        "type": "carpet"
                      }
                    ],
                    "choropleth": [
                      {
                        "colorbar": {
                          "outlinewidth": 0,
                          "ticks": ""
                        },
                        "type": "choropleth"
                      }
                    ],
                    "contour": [
                      {
                        "colorbar": {
                          "outlinewidth": 0,
                          "ticks": ""
                        },
                        "colorscale": [
                          [
                            0,
                            "#0d0887"
                          ],
                          [
                            0.1111111111111111,
                            "#46039f"
                          ],
                          [
                            0.2222222222222222,
                            "#7201a8"
                          ],
                          [
                            0.3333333333333333,
                            "#9c179e"
                          ],
                          [
                            0.4444444444444444,
                            "#bd3786"
                          ],
                          [
                            0.5555555555555556,
                            "#d8576b"
                          ],
                          [
                            0.6666666666666666,
                            "#ed7953"
                          ],
                          [
                            0.7777777777777778,
                            "#fb9f3a"
                          ],
                          [
                            0.8888888888888888,
                            "#fdca26"
                          ],
                          [
                            1,
                            "#f0f921"
                          ]
                        ],
                        "type": "contour"
                      }
                    ],
                    "contourcarpet": [
                      {
                        "colorbar": {
                          "outlinewidth": 0,
                          "ticks": ""
                        },
                        "type": "contourcarpet"
                      }
                    ],
                    "heatmap": [
                      {
                        "colorbar": {
                          "outlinewidth": 0,
                          "ticks": ""
                        },
                        "colorscale": [
                          [
                            0,
                            "#0d0887"
                          ],
                          [
                            0.1111111111111111,
                            "#46039f"
                          ],
                          [
                            0.2222222222222222,
                            "#7201a8"
                          ],
                          [
                            0.3333333333333333,
                            "#9c179e"
                          ],
                          [
                            0.4444444444444444,
                            "#bd3786"
                          ],
                          [
                            0.5555555555555556,
                            "#d8576b"
                          ],
                          [
                            0.6666666666666666,
                            "#ed7953"
                          ],
                          [
                            0.7777777777777778,
                            "#fb9f3a"
                          ],
                          [
                            0.8888888888888888,
                            "#fdca26"
                          ],
                          [
                            1,
                            "#f0f921"
                          ]
                        ],
                        "type": "heatmap"
                      }
                    ],
                    "heatmapgl": [
                      {
                        "colorbar": {
                          "outlinewidth": 0,
                          "ticks": ""
                        },
                        "colorscale": [
                          [
                            0,
                            "#0d0887"
                          ],
                          [
                            0.1111111111111111,
                            "#46039f"
                          ],
                          [
                            0.2222222222222222,
                            "#7201a8"
                          ],
                          [
                            0.3333333333333333,
                            "#9c179e"
                          ],
                          [
                            0.4444444444444444,
                            "#bd3786"
                          ],
                          [
                            0.5555555555555556,
                            "#d8576b"
                          ],
                          [
                            0.6666666666666666,
                            "#ed7953"
                          ],
                          [
                            0.7777777777777778,
                            "#fb9f3a"
                          ],
                          [
                            0.8888888888888888,
                            "#fdca26"
                          ],
                          [
                            1,
                            "#f0f921"
                          ]
                        ],
                        "type": "heatmapgl"
                      }
                    ],
                    "histogram": [
                      {
                        "marker": {
                          "pattern": {
                            "fillmode": "overlay",
                            "size": 10,
                            "solidity": 0.2
                          }
                        },
                        "type": "histogram"
                      }
                    ],
                    "histogram2d": [
                      {
                        "colorbar": {
                          "outlinewidth": 0,
                          "ticks": ""
                        },
                        "colorscale": [
                          [
                            0,
                            "#0d0887"
                          ],
                          [
                            0.1111111111111111,
                            "#46039f"
                          ],
                          [
                            0.2222222222222222,
                            "#7201a8"
                          ],
                          [
                            0.3333333333333333,
                            "#9c179e"
                          ],
                          [
                            0.4444444444444444,
                            "#bd3786"
                          ],
                          [
                            0.5555555555555556,
                            "#d8576b"
                          ],
                          [
                            0.6666666666666666,
                            "#ed7953"
                          ],
                          [
                            0.7777777777777778,
                            "#fb9f3a"
                          ],
                          [
                            0.8888888888888888,
                            "#fdca26"
                          ],
                          [
                            1,
                            "#f0f921"
                          ]
                        ],
                        "type": "histogram2d"
                      }
                    ],
                    "histogram2dcontour": [
                      {
                        "colorbar": {
                          "outlinewidth": 0,
                          "ticks": ""
                        },
                        "colorscale": [
                          [
                            0,
                            "#0d0887"
                          ],
                          [
                            0.1111111111111111,
                            "#46039f"
                          ],
                          [
                            0.2222222222222222,
                            "#7201a8"
                          ],
                          [
                            0.3333333333333333,
                            "#9c179e"
                          ],
                          [
                            0.4444444444444444,
                            "#bd3786"
                          ],
                          [
                            0.5555555555555556,
                            "#d8576b"
                          ],
                          [
                            0.6666666666666666,
                            "#ed7953"
                          ],
                          [
                            0.7777777777777778,
                            "#fb9f3a"
                          ],
                          [
                            0.8888888888888888,
                            "#fdca26"
                          ],
                          [
                            1,
                            "#f0f921"
                          ]
                        ],
                        "type": "histogram2dcontour"
                      }
                    ],
                    "mesh3d": [
                      {
                        "colorbar": {
                          "outlinewidth": 0,
                          "ticks": ""
                        },
                        "type": "mesh3d"
                      }
                    ],
                    "parcoords": [
                      {
                        "line": {
                          "colorbar": {
                            "outlinewidth": 0,
                            "ticks": ""
                          }
                        },
                        "type": "parcoords"
                      }
                    ],
                    "pie": [
                      {
                        "automargin": true,
                        "type": "pie"
                      }
                    ],
                    "scatter": [
                      {
                        "fillpattern": {
                          "fillmode": "overlay",
                          "size": 10,
                          "solidity": 0.2
                        },
                        "type": "scatter"
                      }
                    ],
                    "scatter3d": [
                      {
                        "line": {
                          "colorbar": {
                            "outlinewidth": 0,
                            "ticks": ""
                          }
                        },
                        "marker": {
                          "colorbar": {
                            "outlinewidth": 0,
                            "ticks": ""
                          }
                        },
                        "type": "scatter3d"
                      }
                    ],
                    "scattercarpet": [
                      {
                        "marker": {
                          "colorbar": {
                            "outlinewidth": 0,
                            "ticks": ""
                          }
                        },
                        "type": "scattercarpet"
                      }
                    ],
                    "scattergeo": [
                      {
                        "marker": {
                          "colorbar": {
                            "outlinewidth": 0,
                            "ticks": ""
                          }
                        },
                        "type": "scattergeo"
                      }
                    ],
                    "scattergl": [
                      {
                        "marker": {
                          "colorbar": {
                            "outlinewidth": 0,
                            "ticks": ""
                          }
                        },
                        "type": "scattergl"
                      }
                    ],
                    "scattermapbox": [
                      {
                        "marker": {
                          "colorbar": {
                            "outlinewidth": 0,
                            "ticks": ""
                          }
                        },
                        "type": "scattermapbox"
                      }
                    ],
                    "scatterpolar": [
                      {
                        "marker": {
                          "colorbar": {
                            "outlinewidth": 0,
                            "ticks": ""
                          }
                        },
                        "type": "scatterpolar"
                      }
                    ],
                    "scatterpolargl": [
                      {
                        "marker": {
                          "colorbar": {
                            "outlinewidth": 0,
                            "ticks": ""
                          }
                        },
                        "type": "scatterpolargl"
                      }
                    ],
                    "scatterternary": [
                      {
                        "marker": {
                          "colorbar": {
                            "outlinewidth": 0,
                            "ticks": ""
                          }
                        },
                        "type": "scatterternary"
                      }
                    ],
                    "surface": [
                      {
                        "colorbar": {
                          "outlinewidth": 0,
                          "ticks": ""
                        },
                        "colorscale": [
                          [
                            0,
                            "#0d0887"
                          ],
                          [
                            0.1111111111111111,
                            "#46039f"
                          ],
                          [
                            0.2222222222222222,
                            "#7201a8"
                          ],
                          [
                            0.3333333333333333,
                            "#9c179e"
                          ],
                          [
                            0.4444444444444444,
                            "#bd3786"
                          ],
                          [
                            0.5555555555555556,
                            "#d8576b"
                          ],
                          [
                            0.6666666666666666,
                            "#ed7953"
                          ],
                          [
                            0.7777777777777778,
                            "#fb9f3a"
                          ],
                          [
                            0.8888888888888888,
                            "#fdca26"
                          ],
                          [
                            1,
                            "#f0f921"
                          ]
                        ],
                        "type": "surface"
                      }
                    ],
                    "table": [
                      {
                        "cells": {
                          "fill": {
                            "color": "#EBF0F8"
                          },
                          "line": {
                            "color": "white"
                          }
                        },
                        "header": {
                          "fill": {
                            "color": "#C8D4E3"
                          },
                          "line": {
                            "color": "white"
                          }
                        },
                        "type": "table"
                      }
                    ]
                  },
                  "layout": {
                    "annotationdefaults": {
                      "arrowcolor": "#2a3f5f",
                      "arrowhead": 0,
                      "arrowwidth": 1
                    },
                    "autotypenumbers": "strict",
                    "coloraxis": {
                      "colorbar": {
                        "outlinewidth": 0,
                        "ticks": ""
                      }
                    },
                    "colorscale": {
                      "diverging": [
                        [
                          0,
                          "#8e0152"
                        ],
                        [
                          0.1,
                          "#c51b7d"
                        ],
                        [
                          0.2,
                          "#de77ae"
                        ],
                        [
                          0.3,
                          "#f1b6da"
                        ],
                        [
                          0.4,
                          "#fde0ef"
                        ],
                        [
                          0.5,
                          "#f7f7f7"
                        ],
                        [
                          0.6,
                          "#e6f5d0"
                        ],
                        [
                          0.7,
                          "#b8e186"
                        ],
                        [
                          0.8,
                          "#7fbc41"
                        ],
                        [
                          0.9,
                          "#4d9221"
                        ],
                        [
                          1,
                          "#276419"
                        ]
                      ],
                      "sequential": [
                        [
                          0,
                          "#0d0887"
                        ],
                        [
                          0.1111111111111111,
                          "#46039f"
                        ],
                        [
                          0.2222222222222222,
                          "#7201a8"
                        ],
                        [
                          0.3333333333333333,
                          "#9c179e"
                        ],
                        [
                          0.4444444444444444,
                          "#bd3786"
                        ],
                        [
                          0.5555555555555556,
                          "#d8576b"
                        ],
                        [
                          0.6666666666666666,
                          "#ed7953"
                        ],
                        [
                          0.7777777777777778,
                          "#fb9f3a"
                        ],
                        [
                          0.8888888888888888,
                          "#fdca26"
                        ],
                        [
                          1,
                          "#f0f921"
                        ]
                      ],
                      "sequentialminus": [
                        [
                          0,
                          "#0d0887"
                        ],
                        [
                          0.1111111111111111,
                          "#46039f"
                        ],
                        [
                          0.2222222222222222,
                          "#7201a8"
                        ],
                        [
                          0.3333333333333333,
                          "#9c179e"
                        ],
                        [
                          0.4444444444444444,
                          "#bd3786"
                        ],
                        [
                          0.5555555555555556,
                          "#d8576b"
                        ],
                        [
                          0.6666666666666666,
                          "#ed7953"
                        ],
                        [
                          0.7777777777777778,
                          "#fb9f3a"
                        ],
                        [
                          0.8888888888888888,
                          "#fdca26"
                        ],
                        [
                          1,
                          "#f0f921"
                        ]
                      ]
                    },
                    "colorway": [
                      "#636efa",
                      "#EF553B",
                      "#00cc96",
                      "#ab63fa",
                      "#FFA15A",
                      "#19d3f3",
                      "#FF6692",
                      "#B6E880",
                      "#FF97FF",
                      "#FECB52"
                    ],
                    "font": {
                      "color": "#2a3f5f"
                    },
                    "geo": {
                      "bgcolor": "white",
                      "lakecolor": "white",
                      "landcolor": "#E5ECF6",
                      "showlakes": true,
                      "showland": true,
                      "subunitcolor": "white"
                    },
                    "hoverlabel": {
                      "align": "left"
                    },
                    "hovermode": "closest",
                    "mapbox": {
                      "style": "light"
                    },
                    "paper_bgcolor": "white",
                    "plot_bgcolor": "#E5ECF6",
                    "polar": {
                      "angularaxis": {
                        "gridcolor": "white",
                        "linecolor": "white",
                        "ticks": ""
                      },
                      "bgcolor": "#E5ECF6",
                      "radialaxis": {
                        "gridcolor": "white",
                        "linecolor": "white",
                        "ticks": ""
                      }
                    },
                    "scene": {
                      "xaxis": {
                        "backgroundcolor": "#E5ECF6",
                        "gridcolor": "white",
                        "gridwidth": 2,
                        "linecolor": "white",
                        "showbackground": true,
                        "ticks": "",
                        "zerolinecolor": "white"
                      },
                      "yaxis": {
                        "backgroundcolor": "#E5ECF6",
                        "gridcolor": "white",
                        "gridwidth": 2,
                        "linecolor": "white",
                        "showbackground": true,
                        "ticks": "",
                        "zerolinecolor": "white"
                      },
                      "zaxis": {
                        "backgroundcolor": "#E5ECF6",
                        "gridcolor": "white",
                        "gridwidth": 2,
                        "linecolor": "white",
                        "showbackground": true,
                        "ticks": "",
                        "zerolinecolor": "white"
                      }
                    },
                    "shapedefaults": {
                      "line": {
                        "color": "#2a3f5f"
                      }
                    },
                    "ternary": {
                      "aaxis": {
                        "gridcolor": "white",
                        "linecolor": "white",
                        "ticks": ""
                      },
                      "baxis": {
                        "gridcolor": "white",
                        "linecolor": "white",
                        "ticks": ""
                      },
                      "bgcolor": "#E5ECF6",
                      "caxis": {
                        "gridcolor": "white",
                        "linecolor": "white",
                        "ticks": ""
                      }
                    },
                    "title": {
                      "x": 0.05
                    },
                    "xaxis": {
                      "automargin": true,
                      "gridcolor": "white",
                      "linecolor": "white",
                      "ticks": "",
                      "title": {
                        "standoff": 15
                      },
                      "zerolinecolor": "white",
                      "zerolinewidth": 2
                    },
                    "yaxis": {
                      "automargin": true,
                      "gridcolor": "white",
                      "linecolor": "white",
                      "ticks": "",
                      "title": {
                        "standoff": 15
                      },
                      "zerolinecolor": "white",
                      "zerolinewidth": 2
                    }
                  }
                },
                "title": {
                  "text": "Loss"
                },
                "xaxis": {
                  "title": {
                    "text": "Batch"
                  }
                },
                "yaxis": {
                  "title": {
                    "text": "Loss"
                  },
                  "type": "log"
                }
              }
            }
          },
          "metadata": {},
          "output_type": "display_data"
        },
        {
          "data": {
            "application/vnd.plotly.v1+json": {
              "config": {
                "plotlyServerURL": "https://plot.ly"
              },
              "data": [
                {
                  "type": "scatter",
                  "uid": "f1cb30e6-9dc5-4b5f-be39-da8b6d1eef08",
                  "x": [
                    0,
                    1,
                    2,
                    3,
                    4,
                    5,
                    6,
                    7,
                    8,
                    9,
                    10,
                    11,
                    12,
                    13,
                    14,
                    15,
                    16,
                    17,
                    18,
                    19,
                    20,
                    21,
                    22,
                    23,
                    24,
                    25,
                    26,
                    27,
                    28,
                    29,
                    30,
                    31,
                    32,
                    33,
                    34,
                    35,
                    36,
                    37,
                    38,
                    39,
                    40,
                    41,
                    42,
                    43,
                    44,
                    45,
                    46,
                    47,
                    48,
                    49,
                    50,
                    51,
                    52,
                    53,
                    54,
                    55,
                    56,
                    57,
                    58,
                    59,
                    60,
                    61,
                    62,
                    63,
                    64,
                    65,
                    66,
                    67,
                    68,
                    69,
                    70,
                    71,
                    72,
                    73,
                    74,
                    75,
                    76,
                    77,
                    78,
                    79,
                    80,
                    81,
                    82,
                    83,
                    84,
                    85,
                    86,
                    87,
                    88,
                    89,
                    90,
                    91,
                    92,
                    93,
                    94,
                    95,
                    96,
                    97,
                    98,
                    99,
                    100,
                    101,
                    102,
                    103,
                    104,
                    105,
                    106,
                    107,
                    108,
                    109,
                    110,
                    111,
                    112,
                    113,
                    114,
                    115,
                    116,
                    117,
                    118,
                    119,
                    120,
                    121,
                    122,
                    123,
                    124,
                    125,
                    126,
                    127,
                    128,
                    129,
                    130,
                    131,
                    132,
                    133,
                    134,
                    135,
                    136,
                    137,
                    138,
                    139,
                    140,
                    141,
                    142,
                    143,
                    144,
                    145,
                    146,
                    147,
                    148,
                    149,
                    150,
                    151,
                    152,
                    153,
                    154,
                    155,
                    156,
                    157,
                    158,
                    159,
                    160,
                    161,
                    162,
                    163,
                    164,
                    165,
                    166,
                    167,
                    168,
                    169,
                    170,
                    171,
                    172,
                    173,
                    174,
                    175,
                    176,
                    177,
                    178,
                    179,
                    180,
                    181,
                    182,
                    183,
                    184,
                    185,
                    186,
                    187,
                    188,
                    189,
                    190,
                    191,
                    192,
                    193,
                    194,
                    195,
                    196,
                    197,
                    198,
                    199,
                    200,
                    201,
                    202,
                    203,
                    204,
                    205,
                    206,
                    207,
                    208,
                    209,
                    210,
                    211,
                    212,
                    213,
                    214,
                    215,
                    216,
                    217,
                    218,
                    219,
                    220,
                    221,
                    222,
                    223,
                    224,
                    225,
                    226,
                    227,
                    228,
                    229,
                    230,
                    231,
                    232,
                    233,
                    234,
                    235,
                    236,
                    237,
                    238,
                    239,
                    240,
                    241,
                    242,
                    243,
                    244,
                    245,
                    246,
                    247,
                    248,
                    249,
                    250,
                    251,
                    252,
                    253,
                    254,
                    255,
                    256,
                    257,
                    258,
                    259,
                    260,
                    261,
                    262,
                    263,
                    264,
                    265,
                    266,
                    267,
                    268,
                    269,
                    270,
                    271,
                    272,
                    273,
                    274,
                    275,
                    276,
                    277,
                    278,
                    279,
                    280,
                    281,
                    282,
                    283,
                    284,
                    285,
                    286,
                    287,
                    288,
                    289,
                    290,
                    291,
                    292,
                    293,
                    294,
                    295,
                    296,
                    297,
                    298,
                    299,
                    300,
                    301,
                    302,
                    303,
                    304,
                    305,
                    306,
                    307,
                    308,
                    309,
                    310,
                    311,
                    312,
                    313,
                    314,
                    315,
                    316,
                    317,
                    318,
                    319,
                    320,
                    321,
                    322,
                    323,
                    324,
                    325,
                    326,
                    327,
                    328,
                    329,
                    330,
                    331,
                    332,
                    333,
                    334,
                    335,
                    336,
                    337,
                    338,
                    339,
                    340,
                    341,
                    342,
                    343,
                    344,
                    345,
                    346,
                    347,
                    348,
                    349,
                    350,
                    351,
                    352,
                    353,
                    354,
                    355,
                    356,
                    357,
                    358,
                    359,
                    360,
                    361,
                    362,
                    363,
                    364,
                    365,
                    366,
                    367,
                    368,
                    369,
                    370,
                    371,
                    372,
                    373,
                    374,
                    375,
                    376,
                    377,
                    378,
                    379,
                    380,
                    381,
                    382,
                    383,
                    384,
                    385,
                    386,
                    387,
                    388,
                    389,
                    390,
                    391,
                    392,
                    393,
                    394,
                    395,
                    396,
                    397,
                    398,
                    399,
                    400,
                    401,
                    402,
                    403,
                    404,
                    405,
                    406,
                    407,
                    408,
                    409,
                    410,
                    411,
                    412,
                    413,
                    414,
                    415,
                    416,
                    417,
                    418,
                    419,
                    420,
                    421,
                    422,
                    423,
                    424,
                    425,
                    426,
                    427,
                    428,
                    429,
                    430,
                    431,
                    432,
                    433,
                    434,
                    435,
                    436,
                    437,
                    438,
                    439,
                    440,
                    441,
                    442,
                    443,
                    444,
                    445,
                    446,
                    447,
                    448,
                    449,
                    450,
                    451,
                    452,
                    453,
                    454,
                    455,
                    456,
                    457,
                    458,
                    459,
                    460,
                    461,
                    462,
                    463,
                    464,
                    465,
                    466,
                    467,
                    468,
                    469,
                    470,
                    471,
                    472,
                    473,
                    474,
                    475,
                    476,
                    477,
                    478,
                    479,
                    480,
                    481,
                    482,
                    483,
                    484,
                    485,
                    486,
                    487,
                    488,
                    489,
                    490,
                    491,
                    492,
                    493,
                    494,
                    495,
                    496,
                    497,
                    498,
                    499,
                    500,
                    501,
                    502,
                    503,
                    504,
                    505,
                    506,
                    507,
                    508,
                    509,
                    510,
                    511,
                    512,
                    513,
                    514,
                    515,
                    516,
                    517,
                    518,
                    519,
                    520,
                    521,
                    522,
                    523,
                    524,
                    525,
                    526,
                    527,
                    528,
                    529,
                    530,
                    531,
                    532,
                    533,
                    534,
                    535,
                    536,
                    537,
                    538,
                    539,
                    540,
                    541,
                    542,
                    543,
                    544,
                    545,
                    546,
                    547,
                    548,
                    549,
                    550,
                    551,
                    552,
                    553,
                    554,
                    555,
                    556,
                    557,
                    558,
                    559,
                    560,
                    561,
                    562,
                    563,
                    564,
                    565,
                    566,
                    567,
                    568,
                    569,
                    570,
                    571,
                    572,
                    573,
                    574,
                    575,
                    576,
                    577,
                    578,
                    579,
                    580,
                    581,
                    582,
                    583,
                    584,
                    585,
                    586,
                    587,
                    588,
                    589,
                    590,
                    591,
                    592,
                    593,
                    594,
                    595,
                    596,
                    597,
                    598,
                    599,
                    600,
                    601,
                    602,
                    603,
                    604,
                    605,
                    606,
                    607,
                    608,
                    609,
                    610,
                    611,
                    612,
                    613,
                    614,
                    615,
                    616,
                    617,
                    618,
                    619,
                    620,
                    621,
                    622,
                    623,
                    624,
                    625,
                    626,
                    627,
                    628,
                    629,
                    630,
                    631,
                    632,
                    633,
                    634,
                    635,
                    636,
                    637,
                    638,
                    639,
                    640,
                    641,
                    642,
                    643,
                    644,
                    645,
                    646,
                    647,
                    648,
                    649,
                    650,
                    651,
                    652,
                    653,
                    654,
                    655,
                    656,
                    657,
                    658,
                    659,
                    660,
                    661,
                    662,
                    663,
                    664,
                    665,
                    666,
                    667,
                    668,
                    669,
                    670,
                    671,
                    672,
                    673,
                    674,
                    675,
                    676,
                    677,
                    678,
                    679,
                    680
                  ],
                  "y": [
                    2.4643332958221436,
                    2.4757742881774902,
                    2.4194986820220947,
                    2.4442384243011475,
                    2.3700642585754395,
                    2.3766989707946777,
                    2.358900308609009,
                    2.322962760925293,
                    2.2978765964508057,
                    2.280251979827881,
                    2.254905939102173,
                    2.216801881790161,
                    2.1947453022003174,
                    2.207138776779175,
                    2.1855573654174805,
                    2.1740572452545166,
                    2.1538567543029785,
                    2.151738166809082,
                    2.1110680103302,
                    2.056859016418457,
                    2.065138816833496,
                    2.0143678188323975,
                    2.0584826469421387,
                    2.0472300052642822,
                    2.0121476650238037,
                    1.9691243171691895,
                    1.9761953353881836,
                    1.9479318857192993,
                    1.878071665763855,
                    1.8939697742462158,
                    1.8651717901229858,
                    1.8603299856185913,
                    1.8053128719329834,
                    1.767719030380249,
                    1.8152552843093872,
                    1.801693081855774,
                    1.6946355104446411,
                    1.690456748008728,
                    1.655198335647583,
                    1.6466326713562012,
                    1.60410737991333,
                    1.563914179801941,
                    1.5500216484069824,
                    1.5001952648162842,
                    1.501973032951355,
                    1.4234912395477295,
                    1.3210699558258057,
                    1.3216806650161743,
                    1.2407535314559937,
                    1.2923593521118164,
                    1.2703123092651367,
                    1.212813377380371,
                    1.2309528589248657,
                    1.158948540687561,
                    1.0520139932632446,
                    1.0735512971878052,
                    0.9610338807106018,
                    1.0291861295700073,
                    0.9576637148857117,
                    0.9965326189994812,
                    0.887112557888031,
                    0.9109198451042175,
                    0.7774505615234375,
                    0.8376907110214233,
                    0.7628161311149597,
                    0.7890715599060059,
                    0.674805223941803,
                    0.7375747561454773,
                    0.7686314582824707,
                    0.753718376159668,
                    0.7299527525901794,
                    0.7136372327804565,
                    0.791630208492279,
                    0.7142359614372253,
                    0.622117817401886,
                    0.7816997766494751,
                    0.7078948020935059,
                    0.5674075484275818,
                    0.6663910150527954,
                    0.5863829255104065,
                    0.5278173089027405,
                    0.56965571641922,
                    0.4731437861919403,
                    0.6405702233314514,
                    0.5748775601387024,
                    0.5576844811439514,
                    0.4527550935745239,
                    0.5633856058120728,
                    0.47972431778907776,
                    0.4415367841720581,
                    0.4520980715751648,
                    0.466641902923584,
                    0.467746764421463,
                    0.47238844633102417,
                    0.5793955326080322,
                    0.4949358403682709,
                    0.45291703939437866,
                    0.40731751918792725,
                    0.5351505279541016,
                    0.46305739879608154,
                    0.4451156556606293,
                    0.5151466131210327,
                    0.48843419551849365,
                    0.35643815994262695,
                    0.39827030897140503,
                    0.4378499984741211,
                    0.45039889216423035,
                    0.38661614060401917,
                    0.4068250060081482,
                    0.5315439105033875,
                    0.4134349524974823,
                    0.42691856622695923,
                    0.4815801978111267,
                    0.4005199074745178,
                    0.3950583040714264,
                    0.44604432582855225,
                    0.4740917682647705,
                    0.34398922324180603,
                    0.5177409648895264,
                    0.37510862946510315,
                    0.4271300435066223,
                    0.42253756523132324,
                    0.38310274481773376,
                    0.35982635617256165,
                    0.3330916464328766,
                    0.5909439325332642,
                    0.36563441157341003,
                    0.38289034366607666,
                    0.40206819772720337,
                    0.40099036693573,
                    0.3809875249862671,
                    0.4006211757659912,
                    0.4307868480682373,
                    0.39435043931007385,
                    0.3000487685203552,
                    0.3334325850009918,
                    0.5119487643241882,
                    0.35970383882522583,
                    0.37136417627334595,
                    0.43918243050575256,
                    0.3008791506290436,
                    0.3076660931110382,
                    0.33166295289993286,
                    0.3313792645931244,
                    0.3159753680229187,
                    0.29566827416419983,
                    0.3446217179298401,
                    0.35338032245635986,
                    0.31657928228378296,
                    0.3513065576553345,
                    0.3282787799835205,
                    0.27822038531303406,
                    0.36284148693084717,
                    0.4016909599304199,
                    0.3266206979751587,
                    0.3545166552066803,
                    0.3232426047325134,
                    0.38860151171684265,
                    0.3148280084133148,
                    0.3726251423358917,
                    0.28988438844680786,
                    0.3249737322330475,
                    0.26712167263031006,
                    0.32200750708580017,
                    0.2356969267129898,
                    0.2897758185863495,
                    0.3578530550003052,
                    0.27480390667915344,
                    0.3670002222061157,
                    0.27059581875801086,
                    0.302985280752182,
                    0.3775806725025177,
                    0.3341611623764038,
                    0.22809045016765594,
                    0.26304545998573303,
                    0.22606182098388672,
                    0.2811647057533264,
                    0.28203222155570984,
                    0.27665460109710693,
                    0.2808947265148163,
                    0.2827528715133667,
                    0.34201574325561523,
                    0.29775238037109375,
                    0.34698203206062317,
                    0.25646504759788513,
                    0.312044233083725,
                    0.357749879360199,
                    0.2566536068916321,
                    0.28958195447921753,
                    0.2290741205215454,
                    0.28775331377983093,
                    0.3852974772453308,
                    0.2557757496833801,
                    0.37229761481285095,
                    0.29459452629089355,
                    0.2839764952659607,
                    0.2425074279308319,
                    0.2545406222343445,
                    0.23409776389598846,
                    0.29040762782096863,
                    0.3121686279773712,
                    0.27166491746902466,
                    0.30623212456703186,
                    0.26991549134254456,
                    0.27820202708244324,
                    0.33434417843818665,
                    0.24251212179660797,
                    0.3363889455795288,
                    0.2961660921573639,
                    0.20964372158050537,
                    0.35681548714637756,
                    0.185237318277359,
                    0.2935087978839874,
                    0.33749184012413025,
                    0.2505764067173004,
                    0.235432967543602,
                    0.40628042817115784,
                    0.24227328598499298,
                    0.36147451400756836,
                    0.2219630628824234,
                    0.23577329516410828,
                    0.19840653240680695,
                    0.2758062183856964,
                    0.24103909730911255,
                    0.3479282855987549,
                    0.3591700494289398,
                    0.30974429845809937,
                    0.2627342939376831,
                    0.3075829744338989,
                    0.27062493562698364,
                    0.30972445011138916,
                    0.260935515165329,
                    0.31845155358314514,
                    0.25075849890708923,
                    0.2650715112686157,
                    0.22396525740623474,
                    0.2541283965110779,
                    0.21068215370178223,
                    0.2900329828262329,
                    0.25359803438186646,
                    0.21470914781093597,
                    0.28681573271751404,
                    0.1807514727115631,
                    0.2562969923019409,
                    0.25392746925354004,
                    0.1727616935968399,
                    0.23291434347629547,
                    0.25402212142944336,
                    0.28890568017959595,
                    0.2763981521129608,
                    0.2573154866695404,
                    0.22955143451690674,
                    0.24498410522937775,
                    0.31974828243255615,
                    0.27246224880218506,
                    0.27212387323379517,
                    0.29514867067337036,
                    0.26540476083755493,
                    0.24622026085853577,
                    0.21118420362472534,
                    0.25282520055770874,
                    0.21016575396060944,
                    0.30227941274642944,
                    0.21587985754013062,
                    0.2350795567035675,
                    0.18641400337219238,
                    0.23276224732398987,
                    0.26790672540664673,
                    0.23196391761302948,
                    0.14559413492679596,
                    0.23015931248664856,
                    0.21824459731578827,
                    0.19027946889400482,
                    0.2237282544374466,
                    0.26839035749435425,
                    0.2034948319196701,
                    0.27241936326026917,
                    0.259149432182312,
                    0.32578667998313904,
                    0.18002668023109436,
                    0.233723983168602,
                    0.19611456990242004,
                    0.23503899574279785,
                    0.28324007987976074,
                    0.3012182116508484,
                    0.3081763982772827,
                    0.25241565704345703,
                    0.3283071517944336,
                    0.299607515335083,
                    0.17310765385627747,
                    0.2614590525627136,
                    0.22840771079063416,
                    0.2973017990589142,
                    0.2589723765850067,
                    0.2714051902294159,
                    0.31113138794898987,
                    0.2305271178483963,
                    0.158277690410614,
                    0.23104116320610046,
                    0.33295363187789917,
                    0.20325413346290588,
                    0.14183911681175232,
                    0.2614487409591675,
                    0.2850608825683594,
                    0.16831472516059875,
                    0.3069385886192322,
                    0.24474242329597473,
                    0.28591087460517883,
                    0.2977212071418762,
                    0.15242010354995728,
                    0.19671310484409332,
                    0.1947476714849472,
                    0.23177988827228546,
                    0.2620697617530823,
                    0.22655628621578217,
                    0.1904875636100769,
                    0.2531004250049591,
                    0.22930742800235748,
                    0.2557435631752014,
                    0.20376859605312347,
                    0.26527541875839233,
                    0.18665292859077454,
                    0.3385677635669708,
                    0.21852634847164154,
                    0.16902165114879608,
                    0.2749266028404236,
                    0.2318989485502243,
                    0.22662760317325592,
                    0.2474089115858078,
                    0.17380604147911072,
                    0.20446403324604034,
                    0.23199298977851868,
                    0.21294128894805908,
                    0.21088215708732605,
                    0.2484777867794037,
                    0.2131986767053604,
                    0.14964404702186584,
                    0.17876359820365906,
                    0.28084635734558105,
                    0.19804048538208008,
                    0.20014330744743347,
                    0.2692526876926422,
                    0.23301911354064941,
                    0.1680888533592224,
                    0.2777750790119171,
                    0.24384793639183044,
                    0.17959652841091156,
                    0.1830505132675171,
                    0.2686333656311035,
                    0.13748684525489807,
                    0.20354381203651428,
                    0.2657962143421173,
                    0.2269698679447174,
                    0.23407238721847534,
                    0.16713880002498627,
                    0.2415248602628708,
                    0.18674655258655548,
                    0.22960858047008514,
                    0.16529788076877594,
                    0.21195641160011292,
                    0.20144708454608917,
                    0.14808934926986694,
                    0.21779434382915497,
                    0.2251695990562439,
                    0.18128472566604614,
                    0.29833346605300903,
                    0.1545131951570511,
                    0.14193573594093323,
                    0.2539227604866028,
                    0.18969954550266266,
                    0.177652508020401,
                    0.22487856447696686,
                    0.23239123821258545,
                    0.2174001783132553,
                    0.20165543258190155,
                    0.17298637330532074,
                    0.23985154926776886,
                    0.19190259277820587,
                    0.18250957131385803,
                    0.193329319357872,
                    0.14591701328754425,
                    0.18269003927707672,
                    0.2532772123813629,
                    0.21304529905319214,
                    0.2825925350189209,
                    0.2819746434688568,
                    0.1717437207698822,
                    0.20743505656719208,
                    0.22391027212142944,
                    0.2589464485645294,
                    0.22581259906291962,
                    0.16663086414337158,
                    0.24623538553714752,
                    0.1235671117901802,
                    0.22978855669498444,
                    0.1466275155544281,
                    0.2546098828315735,
                    0.1698455959558487,
                    0.16447797417640686,
                    0.17604558169841766,
                    0.15309680998325348,
                    0.12107247114181519,
                    0.20756611227989197,
                    0.17195478081703186,
                    0.1399332880973816,
                    0.21968013048171997,
                    0.2700769305229187,
                    0.15601591765880585,
                    0.1787457913160324,
                    0.1460588425397873,
                    0.1593356728553772,
                    0.18487122654914856,
                    0.16970789432525635,
                    0.19866570830345154,
                    0.1724599450826645,
                    0.2009178102016449,
                    0.33375731110572815,
                    0.1613268256187439,
                    0.1522650420665741,
                    0.24069592356681824,
                    0.13126063346862793,
                    0.18323484063148499,
                    0.17198407649993896,
                    0.18044182658195496,
                    0.19510102272033691,
                    0.1867746263742447,
                    0.21430902183055878,
                    0.1870439201593399,
                    0.17223280668258667,
                    0.18240047991275787,
                    0.17595431208610535,
                    0.1970510333776474,
                    0.2315017580986023,
                    0.2827751636505127,
                    0.13304565846920013,
                    0.21474699676036835,
                    0.17000266909599304,
                    0.175372913479805,
                    0.2151690423488617,
                    0.17513662576675415,
                    0.15996238589286804,
                    0.17117245495319366,
                    0.13560280203819275,
                    0.19826854765415192,
                    0.19219698011875153,
                    0.1607389748096466,
                    0.21547961235046387,
                    0.1583782434463501,
                    0.2170771360397339,
                    0.17368410527706146,
                    0.1631384640932083,
                    0.24653436243534088,
                    0.22323806583881378,
                    0.21476149559020996,
                    0.14250586926937103,
                    0.2165408581495285,
                    0.12241701036691666,
                    0.18900170922279358,
                    0.2152373194694519,
                    0.15494318306446075,
                    0.15250444412231445,
                    0.21007710695266724,
                    0.14770327508449554,
                    0.2533891797065735,
                    0.18421299755573273,
                    0.0916963592171669,
                    0.15184582769870758,
                    0.17944173514842987,
                    0.23403839766979218,
                    0.12722529470920563,
                    0.20558978617191315,
                    0.22167958319187164,
                    0.24490614235401154,
                    0.1258857399225235,
                    0.11197221279144287,
                    0.1457616686820984,
                    0.16700808703899384,
                    0.17020586133003235,
                    0.19608822464942932,
                    0.21329128742218018,
                    0.19198742508888245,
                    0.17700313031673431,
                    0.19094540178775787,
                    0.18187588453292847,
                    0.2096138745546341,
                    0.13120681047439575,
                    0.1733909547328949,
                    0.1649157553911209,
                    0.17626850306987762,
                    0.1426955610513687,
                    0.18042084574699402,
                    0.18501213192939758,
                    0.11336889863014221,
                    0.10271716862916946,
                    0.17625051736831665,
                    0.21626006066799164,
                    0.2443961501121521,
                    0.12924602627754211,
                    0.19289636611938477,
                    0.19163775444030762,
                    0.1277875453233719,
                    0.13549840450286865,
                    0.20905184745788574,
                    0.22271357476711273,
                    0.15693417191505432,
                    0.16365212202072144,
                    0.1962352991104126,
                    0.21152739226818085,
                    0.1725388616323471,
                    0.12393508851528168,
                    0.11820518970489502,
                    0.125320702791214,
                    0.13101060688495636,
                    0.1761026382446289,
                    0.22841589152812958,
                    0.22951741516590118,
                    0.11788099259138107,
                    0.14937055110931396,
                    0.16142836213111877,
                    0.11677949875593185,
                    0.18423587083816528,
                    0.15996341407299042,
                    0.2578131854534149,
                    0.13564959168434143,
                    0.22329659759998322,
                    0.17022748291492462,
                    0.12780463695526123,
                    0.1570872962474823,
                    0.1307321935892105,
                    0.1399465948343277,
                    0.15892890095710754,
                    0.08595550060272217,
                    0.22595085203647614,
                    0.125051349401474,
                    0.1257586032152176,
                    0.1738075166940689,
                    0.2064264714717865,
                    0.07037383317947388,
                    0.08725704997777939,
                    0.16692815721035004,
                    0.18626774847507477,
                    0.13442185521125793,
                    0.2172486037015915,
                    0.1987961083650589,
                    0.24527832865715027,
                    0.18328678607940674,
                    0.14058151841163635,
                    0.21700124442577362,
                    0.111569844186306,
                    0.17461203038692474,
                    0.17734934389591217,
                    0.09184947609901428,
                    0.1633695513010025,
                    0.17305418848991394,
                    0.1529237926006317,
                    0.1612471640110016,
                    0.2695811688899994,
                    0.19196294248104095,
                    0.14883144199848175,
                    0.17199060320854187,
                    0.22997088730335236,
                    0.1629372090101242,
                    0.10688985884189606,
                    0.23383836448192596,
                    0.18437537550926208,
                    0.18546700477600098,
                    0.14112341403961182,
                    0.23638302087783813,
                    0.10708000510931015,
                    0.1028677448630333,
                    0.13483333587646484,
                    0.12406113743782043,
                    0.12602105736732483,
                    0.14724409580230713,
                    0.17241549491882324,
                    0.08989135921001434,
                    0.15527909994125366,
                    0.24457262456417084,
                    0.12951341271400452,
                    0.11340831220149994,
                    0.17175038158893585,
                    0.1999412178993225,
                    0.18187451362609863,
                    0.1467292755842209,
                    0.23228587210178375,
                    0.16045786440372467,
                    0.16460393369197845,
                    0.14864809811115265,
                    0.22887255251407623,
                    0.12768734991550446,
                    0.15929900109767914,
                    0.1606941968202591,
                    0.12420714646577835,
                    0.1995423138141632,
                    0.1625402867794037,
                    0.10550559312105179,
                    0.1699797809123993,
                    0.18026858568191528,
                    0.20461349189281464,
                    0.16813817620277405,
                    0.14896298944950104,
                    0.21681860089302063,
                    0.2024199366569519,
                    0.15215492248535156,
                    0.12284832447767258,
                    0.16094756126403809,
                    0.23455187678337097,
                    0.1343688815832138,
                    0.11413231492042542,
                    0.18397736549377441,
                    0.13655853271484375,
                    0.12542442977428436,
                    0.10158686339855194,
                    0.1446693390607834,
                    0.10760550945997238,
                    0.15740472078323364,
                    0.15950167179107666,
                    0.24345485866069794,
                    0.1593593806028366,
                    0.16762122511863708,
                    0.10852596908807755,
                    0.14274775981903076,
                    0.12345504760742188,
                    0.06950873881578445,
                    0.18477684259414673,
                    0.1847274750471115,
                    0.1472669094800949,
                    0.15308567881584167,
                    0.15087038278579712,
                    0.13362938165664673,
                    0.16547460854053497,
                    0.22487516701221466,
                    0.20665858685970306,
                    0.1519307643175125,
                    0.10860221832990646,
                    0.18469691276550293,
                    0.12025958299636841,
                    0.19243326783180237,
                    0.16609600186347961,
                    0.07136303931474686,
                    0.10657976567745209,
                    0.11192093789577484,
                    0.12040833383798599,
                    0.11665385216474533,
                    0.12567177414894104,
                    0.15271171927452087,
                    0.1483011543750763,
                    0.15636293590068817,
                    0.16561217606067657,
                    0.16200989484786987,
                    0.17615096271038055,
                    0.15618091821670532,
                    0.12998752295970917,
                    0.12137514352798462,
                    0.15593092143535614,
                    0.13329637050628662,
                    0.1485750675201416,
                    0.1671711653470993,
                    0.1139674186706543,
                    0.09682720899581909,
                    0.1421864628791809,
                    0.1531706154346466,
                    0.14131177961826324,
                    0.14616000652313232,
                    0.15032759308815002,
                    0.19705888628959656,
                    0.14508295059204102,
                    0.1519496589899063,
                    0.16760939359664917,
                    0.1605709195137024,
                    0.09145630151033401,
                    0.16523773968219757,
                    0.10697805136442184,
                    0.16038498282432556,
                    0.18612122535705566,
                    0.1868387758731842,
                    0.1534823775291443,
                    0.1515757441520691,
                    0.18813222646713257,
                    0.15597863495349884,
                    0.13479827344417572
                  ]
                }
              ],
              "layout": {
                "template": {
                  "data": {
                    "bar": [
                      {
                        "error_x": {
                          "color": "#2a3f5f"
                        },
                        "error_y": {
                          "color": "#2a3f5f"
                        },
                        "marker": {
                          "line": {
                            "color": "#E5ECF6",
                            "width": 0.5
                          },
                          "pattern": {
                            "fillmode": "overlay",
                            "size": 10,
                            "solidity": 0.2
                          }
                        },
                        "type": "bar"
                      }
                    ],
                    "barpolar": [
                      {
                        "marker": {
                          "line": {
                            "color": "#E5ECF6",
                            "width": 0.5
                          },
                          "pattern": {
                            "fillmode": "overlay",
                            "size": 10,
                            "solidity": 0.2
                          }
                        },
                        "type": "barpolar"
                      }
                    ],
                    "carpet": [
                      {
                        "aaxis": {
                          "endlinecolor": "#2a3f5f",
                          "gridcolor": "white",
                          "linecolor": "white",
                          "minorgridcolor": "white",
                          "startlinecolor": "#2a3f5f"
                        },
                        "baxis": {
                          "endlinecolor": "#2a3f5f",
                          "gridcolor": "white",
                          "linecolor": "white",
                          "minorgridcolor": "white",
                          "startlinecolor": "#2a3f5f"
                        },
                        "type": "carpet"
                      }
                    ],
                    "choropleth": [
                      {
                        "colorbar": {
                          "outlinewidth": 0,
                          "ticks": ""
                        },
                        "type": "choropleth"
                      }
                    ],
                    "contour": [
                      {
                        "colorbar": {
                          "outlinewidth": 0,
                          "ticks": ""
                        },
                        "colorscale": [
                          [
                            0,
                            "#0d0887"
                          ],
                          [
                            0.1111111111111111,
                            "#46039f"
                          ],
                          [
                            0.2222222222222222,
                            "#7201a8"
                          ],
                          [
                            0.3333333333333333,
                            "#9c179e"
                          ],
                          [
                            0.4444444444444444,
                            "#bd3786"
                          ],
                          [
                            0.5555555555555556,
                            "#d8576b"
                          ],
                          [
                            0.6666666666666666,
                            "#ed7953"
                          ],
                          [
                            0.7777777777777778,
                            "#fb9f3a"
                          ],
                          [
                            0.8888888888888888,
                            "#fdca26"
                          ],
                          [
                            1,
                            "#f0f921"
                          ]
                        ],
                        "type": "contour"
                      }
                    ],
                    "contourcarpet": [
                      {
                        "colorbar": {
                          "outlinewidth": 0,
                          "ticks": ""
                        },
                        "type": "contourcarpet"
                      }
                    ],
                    "heatmap": [
                      {
                        "colorbar": {
                          "outlinewidth": 0,
                          "ticks": ""
                        },
                        "colorscale": [
                          [
                            0,
                            "#0d0887"
                          ],
                          [
                            0.1111111111111111,
                            "#46039f"
                          ],
                          [
                            0.2222222222222222,
                            "#7201a8"
                          ],
                          [
                            0.3333333333333333,
                            "#9c179e"
                          ],
                          [
                            0.4444444444444444,
                            "#bd3786"
                          ],
                          [
                            0.5555555555555556,
                            "#d8576b"
                          ],
                          [
                            0.6666666666666666,
                            "#ed7953"
                          ],
                          [
                            0.7777777777777778,
                            "#fb9f3a"
                          ],
                          [
                            0.8888888888888888,
                            "#fdca26"
                          ],
                          [
                            1,
                            "#f0f921"
                          ]
                        ],
                        "type": "heatmap"
                      }
                    ],
                    "heatmapgl": [
                      {
                        "colorbar": {
                          "outlinewidth": 0,
                          "ticks": ""
                        },
                        "colorscale": [
                          [
                            0,
                            "#0d0887"
                          ],
                          [
                            0.1111111111111111,
                            "#46039f"
                          ],
                          [
                            0.2222222222222222,
                            "#7201a8"
                          ],
                          [
                            0.3333333333333333,
                            "#9c179e"
                          ],
                          [
                            0.4444444444444444,
                            "#bd3786"
                          ],
                          [
                            0.5555555555555556,
                            "#d8576b"
                          ],
                          [
                            0.6666666666666666,
                            "#ed7953"
                          ],
                          [
                            0.7777777777777778,
                            "#fb9f3a"
                          ],
                          [
                            0.8888888888888888,
                            "#fdca26"
                          ],
                          [
                            1,
                            "#f0f921"
                          ]
                        ],
                        "type": "heatmapgl"
                      }
                    ],
                    "histogram": [
                      {
                        "marker": {
                          "pattern": {
                            "fillmode": "overlay",
                            "size": 10,
                            "solidity": 0.2
                          }
                        },
                        "type": "histogram"
                      }
                    ],
                    "histogram2d": [
                      {
                        "colorbar": {
                          "outlinewidth": 0,
                          "ticks": ""
                        },
                        "colorscale": [
                          [
                            0,
                            "#0d0887"
                          ],
                          [
                            0.1111111111111111,
                            "#46039f"
                          ],
                          [
                            0.2222222222222222,
                            "#7201a8"
                          ],
                          [
                            0.3333333333333333,
                            "#9c179e"
                          ],
                          [
                            0.4444444444444444,
                            "#bd3786"
                          ],
                          [
                            0.5555555555555556,
                            "#d8576b"
                          ],
                          [
                            0.6666666666666666,
                            "#ed7953"
                          ],
                          [
                            0.7777777777777778,
                            "#fb9f3a"
                          ],
                          [
                            0.8888888888888888,
                            "#fdca26"
                          ],
                          [
                            1,
                            "#f0f921"
                          ]
                        ],
                        "type": "histogram2d"
                      }
                    ],
                    "histogram2dcontour": [
                      {
                        "colorbar": {
                          "outlinewidth": 0,
                          "ticks": ""
                        },
                        "colorscale": [
                          [
                            0,
                            "#0d0887"
                          ],
                          [
                            0.1111111111111111,
                            "#46039f"
                          ],
                          [
                            0.2222222222222222,
                            "#7201a8"
                          ],
                          [
                            0.3333333333333333,
                            "#9c179e"
                          ],
                          [
                            0.4444444444444444,
                            "#bd3786"
                          ],
                          [
                            0.5555555555555556,
                            "#d8576b"
                          ],
                          [
                            0.6666666666666666,
                            "#ed7953"
                          ],
                          [
                            0.7777777777777778,
                            "#fb9f3a"
                          ],
                          [
                            0.8888888888888888,
                            "#fdca26"
                          ],
                          [
                            1,
                            "#f0f921"
                          ]
                        ],
                        "type": "histogram2dcontour"
                      }
                    ],
                    "mesh3d": [
                      {
                        "colorbar": {
                          "outlinewidth": 0,
                          "ticks": ""
                        },
                        "type": "mesh3d"
                      }
                    ],
                    "parcoords": [
                      {
                        "line": {
                          "colorbar": {
                            "outlinewidth": 0,
                            "ticks": ""
                          }
                        },
                        "type": "parcoords"
                      }
                    ],
                    "pie": [
                      {
                        "automargin": true,
                        "type": "pie"
                      }
                    ],
                    "scatter": [
                      {
                        "fillpattern": {
                          "fillmode": "overlay",
                          "size": 10,
                          "solidity": 0.2
                        },
                        "type": "scatter"
                      }
                    ],
                    "scatter3d": [
                      {
                        "line": {
                          "colorbar": {
                            "outlinewidth": 0,
                            "ticks": ""
                          }
                        },
                        "marker": {
                          "colorbar": {
                            "outlinewidth": 0,
                            "ticks": ""
                          }
                        },
                        "type": "scatter3d"
                      }
                    ],
                    "scattercarpet": [
                      {
                        "marker": {
                          "colorbar": {
                            "outlinewidth": 0,
                            "ticks": ""
                          }
                        },
                        "type": "scattercarpet"
                      }
                    ],
                    "scattergeo": [
                      {
                        "marker": {
                          "colorbar": {
                            "outlinewidth": 0,
                            "ticks": ""
                          }
                        },
                        "type": "scattergeo"
                      }
                    ],
                    "scattergl": [
                      {
                        "marker": {
                          "colorbar": {
                            "outlinewidth": 0,
                            "ticks": ""
                          }
                        },
                        "type": "scattergl"
                      }
                    ],
                    "scattermapbox": [
                      {
                        "marker": {
                          "colorbar": {
                            "outlinewidth": 0,
                            "ticks": ""
                          }
                        },
                        "type": "scattermapbox"
                      }
                    ],
                    "scatterpolar": [
                      {
                        "marker": {
                          "colorbar": {
                            "outlinewidth": 0,
                            "ticks": ""
                          }
                        },
                        "type": "scatterpolar"
                      }
                    ],
                    "scatterpolargl": [
                      {
                        "marker": {
                          "colorbar": {
                            "outlinewidth": 0,
                            "ticks": ""
                          }
                        },
                        "type": "scatterpolargl"
                      }
                    ],
                    "scatterternary": [
                      {
                        "marker": {
                          "colorbar": {
                            "outlinewidth": 0,
                            "ticks": ""
                          }
                        },
                        "type": "scatterternary"
                      }
                    ],
                    "surface": [
                      {
                        "colorbar": {
                          "outlinewidth": 0,
                          "ticks": ""
                        },
                        "colorscale": [
                          [
                            0,
                            "#0d0887"
                          ],
                          [
                            0.1111111111111111,
                            "#46039f"
                          ],
                          [
                            0.2222222222222222,
                            "#7201a8"
                          ],
                          [
                            0.3333333333333333,
                            "#9c179e"
                          ],
                          [
                            0.4444444444444444,
                            "#bd3786"
                          ],
                          [
                            0.5555555555555556,
                            "#d8576b"
                          ],
                          [
                            0.6666666666666666,
                            "#ed7953"
                          ],
                          [
                            0.7777777777777778,
                            "#fb9f3a"
                          ],
                          [
                            0.8888888888888888,
                            "#fdca26"
                          ],
                          [
                            1,
                            "#f0f921"
                          ]
                        ],
                        "type": "surface"
                      }
                    ],
                    "table": [
                      {
                        "cells": {
                          "fill": {
                            "color": "#EBF0F8"
                          },
                          "line": {
                            "color": "white"
                          }
                        },
                        "header": {
                          "fill": {
                            "color": "#C8D4E3"
                          },
                          "line": {
                            "color": "white"
                          }
                        },
                        "type": "table"
                      }
                    ]
                  },
                  "layout": {
                    "annotationdefaults": {
                      "arrowcolor": "#2a3f5f",
                      "arrowhead": 0,
                      "arrowwidth": 1
                    },
                    "autotypenumbers": "strict",
                    "coloraxis": {
                      "colorbar": {
                        "outlinewidth": 0,
                        "ticks": ""
                      }
                    },
                    "colorscale": {
                      "diverging": [
                        [
                          0,
                          "#8e0152"
                        ],
                        [
                          0.1,
                          "#c51b7d"
                        ],
                        [
                          0.2,
                          "#de77ae"
                        ],
                        [
                          0.3,
                          "#f1b6da"
                        ],
                        [
                          0.4,
                          "#fde0ef"
                        ],
                        [
                          0.5,
                          "#f7f7f7"
                        ],
                        [
                          0.6,
                          "#e6f5d0"
                        ],
                        [
                          0.7,
                          "#b8e186"
                        ],
                        [
                          0.8,
                          "#7fbc41"
                        ],
                        [
                          0.9,
                          "#4d9221"
                        ],
                        [
                          1,
                          "#276419"
                        ]
                      ],
                      "sequential": [
                        [
                          0,
                          "#0d0887"
                        ],
                        [
                          0.1111111111111111,
                          "#46039f"
                        ],
                        [
                          0.2222222222222222,
                          "#7201a8"
                        ],
                        [
                          0.3333333333333333,
                          "#9c179e"
                        ],
                        [
                          0.4444444444444444,
                          "#bd3786"
                        ],
                        [
                          0.5555555555555556,
                          "#d8576b"
                        ],
                        [
                          0.6666666666666666,
                          "#ed7953"
                        ],
                        [
                          0.7777777777777778,
                          "#fb9f3a"
                        ],
                        [
                          0.8888888888888888,
                          "#fdca26"
                        ],
                        [
                          1,
                          "#f0f921"
                        ]
                      ],
                      "sequentialminus": [
                        [
                          0,
                          "#0d0887"
                        ],
                        [
                          0.1111111111111111,
                          "#46039f"
                        ],
                        [
                          0.2222222222222222,
                          "#7201a8"
                        ],
                        [
                          0.3333333333333333,
                          "#9c179e"
                        ],
                        [
                          0.4444444444444444,
                          "#bd3786"
                        ],
                        [
                          0.5555555555555556,
                          "#d8576b"
                        ],
                        [
                          0.6666666666666666,
                          "#ed7953"
                        ],
                        [
                          0.7777777777777778,
                          "#fb9f3a"
                        ],
                        [
                          0.8888888888888888,
                          "#fdca26"
                        ],
                        [
                          1,
                          "#f0f921"
                        ]
                      ]
                    },
                    "colorway": [
                      "#636efa",
                      "#EF553B",
                      "#00cc96",
                      "#ab63fa",
                      "#FFA15A",
                      "#19d3f3",
                      "#FF6692",
                      "#B6E880",
                      "#FF97FF",
                      "#FECB52"
                    ],
                    "font": {
                      "color": "#2a3f5f"
                    },
                    "geo": {
                      "bgcolor": "white",
                      "lakecolor": "white",
                      "landcolor": "#E5ECF6",
                      "showlakes": true,
                      "showland": true,
                      "subunitcolor": "white"
                    },
                    "hoverlabel": {
                      "align": "left"
                    },
                    "hovermode": "closest",
                    "mapbox": {
                      "style": "light"
                    },
                    "paper_bgcolor": "white",
                    "plot_bgcolor": "#E5ECF6",
                    "polar": {
                      "angularaxis": {
                        "gridcolor": "white",
                        "linecolor": "white",
                        "ticks": ""
                      },
                      "bgcolor": "#E5ECF6",
                      "radialaxis": {
                        "gridcolor": "white",
                        "linecolor": "white",
                        "ticks": ""
                      }
                    },
                    "scene": {
                      "xaxis": {
                        "backgroundcolor": "#E5ECF6",
                        "gridcolor": "white",
                        "gridwidth": 2,
                        "linecolor": "white",
                        "showbackground": true,
                        "ticks": "",
                        "zerolinecolor": "white"
                      },
                      "yaxis": {
                        "backgroundcolor": "#E5ECF6",
                        "gridcolor": "white",
                        "gridwidth": 2,
                        "linecolor": "white",
                        "showbackground": true,
                        "ticks": "",
                        "zerolinecolor": "white"
                      },
                      "zaxis": {
                        "backgroundcolor": "#E5ECF6",
                        "gridcolor": "white",
                        "gridwidth": 2,
                        "linecolor": "white",
                        "showbackground": true,
                        "ticks": "",
                        "zerolinecolor": "white"
                      }
                    },
                    "shapedefaults": {
                      "line": {
                        "color": "#2a3f5f"
                      }
                    },
                    "ternary": {
                      "aaxis": {
                        "gridcolor": "white",
                        "linecolor": "white",
                        "ticks": ""
                      },
                      "baxis": {
                        "gridcolor": "white",
                        "linecolor": "white",
                        "ticks": ""
                      },
                      "bgcolor": "#E5ECF6",
                      "caxis": {
                        "gridcolor": "white",
                        "linecolor": "white",
                        "ticks": ""
                      }
                    },
                    "title": {
                      "x": 0.05
                    },
                    "xaxis": {
                      "automargin": true,
                      "gridcolor": "white",
                      "linecolor": "white",
                      "ticks": "",
                      "title": {
                        "standoff": 15
                      },
                      "zerolinecolor": "white",
                      "zerolinewidth": 2
                    },
                    "yaxis": {
                      "automargin": true,
                      "gridcolor": "white",
                      "linecolor": "white",
                      "ticks": "",
                      "title": {
                        "standoff": 15
                      },
                      "zerolinecolor": "white",
                      "zerolinewidth": 2
                    }
                  }
                },
                "title": {
                  "text": "Loss"
                },
                "xaxis": {
                  "title": {
                    "text": "Batch"
                  }
                },
                "yaxis": {
                  "title": {
                    "text": "Loss"
                  },
                  "type": "log"
                }
              }
            }
          },
          "metadata": {},
          "output_type": "display_data"
        },
        {
          "data": {
            "application/vnd.plotly.v1+json": {
              "config": {
                "plotlyServerURL": "https://plot.ly"
              },
              "data": [
                {
                  "type": "scatter",
                  "uid": "f1cb30e6-9dc5-4b5f-be39-da8b6d1eef08",
                  "x": [
                    0,
                    1,
                    2,
                    3,
                    4,
                    5,
                    6,
                    7,
                    8,
                    9,
                    10,
                    11,
                    12,
                    13,
                    14,
                    15,
                    16,
                    17,
                    18,
                    19,
                    20,
                    21,
                    22,
                    23,
                    24,
                    25,
                    26,
                    27,
                    28,
                    29,
                    30,
                    31,
                    32,
                    33,
                    34,
                    35,
                    36,
                    37,
                    38,
                    39,
                    40,
                    41,
                    42,
                    43,
                    44,
                    45,
                    46,
                    47,
                    48,
                    49,
                    50,
                    51,
                    52,
                    53,
                    54,
                    55,
                    56,
                    57,
                    58,
                    59,
                    60,
                    61,
                    62,
                    63,
                    64,
                    65,
                    66,
                    67,
                    68,
                    69,
                    70,
                    71,
                    72,
                    73,
                    74,
                    75,
                    76,
                    77,
                    78,
                    79,
                    80,
                    81,
                    82,
                    83,
                    84,
                    85,
                    86,
                    87,
                    88,
                    89,
                    90,
                    91,
                    92,
                    93,
                    94,
                    95,
                    96,
                    97,
                    98,
                    99,
                    100,
                    101,
                    102,
                    103,
                    104,
                    105,
                    106,
                    107,
                    108,
                    109,
                    110,
                    111,
                    112,
                    113,
                    114,
                    115,
                    116,
                    117,
                    118,
                    119,
                    120,
                    121,
                    122,
                    123,
                    124,
                    125,
                    126,
                    127,
                    128,
                    129,
                    130,
                    131,
                    132,
                    133,
                    134,
                    135,
                    136,
                    137,
                    138,
                    139,
                    140,
                    141,
                    142,
                    143,
                    144,
                    145,
                    146,
                    147,
                    148,
                    149,
                    150,
                    151,
                    152,
                    153,
                    154,
                    155,
                    156,
                    157,
                    158,
                    159,
                    160,
                    161,
                    162,
                    163,
                    164,
                    165,
                    166,
                    167,
                    168,
                    169,
                    170,
                    171,
                    172,
                    173,
                    174,
                    175,
                    176,
                    177,
                    178,
                    179,
                    180,
                    181,
                    182,
                    183,
                    184,
                    185,
                    186,
                    187,
                    188,
                    189,
                    190,
                    191,
                    192,
                    193,
                    194,
                    195,
                    196,
                    197,
                    198,
                    199,
                    200,
                    201,
                    202,
                    203,
                    204,
                    205,
                    206,
                    207,
                    208,
                    209,
                    210,
                    211,
                    212,
                    213,
                    214,
                    215,
                    216,
                    217,
                    218,
                    219,
                    220,
                    221,
                    222,
                    223,
                    224,
                    225,
                    226,
                    227,
                    228,
                    229,
                    230,
                    231,
                    232,
                    233,
                    234,
                    235,
                    236,
                    237,
                    238,
                    239,
                    240,
                    241,
                    242,
                    243,
                    244,
                    245,
                    246,
                    247,
                    248,
                    249,
                    250,
                    251,
                    252,
                    253,
                    254,
                    255,
                    256,
                    257,
                    258,
                    259,
                    260,
                    261,
                    262,
                    263,
                    264,
                    265,
                    266,
                    267,
                    268,
                    269,
                    270,
                    271,
                    272,
                    273,
                    274,
                    275,
                    276,
                    277,
                    278,
                    279,
                    280,
                    281,
                    282,
                    283,
                    284,
                    285,
                    286,
                    287,
                    288,
                    289,
                    290,
                    291,
                    292,
                    293,
                    294,
                    295,
                    296,
                    297,
                    298,
                    299,
                    300,
                    301,
                    302,
                    303,
                    304,
                    305,
                    306,
                    307,
                    308,
                    309,
                    310,
                    311,
                    312,
                    313,
                    314,
                    315,
                    316,
                    317,
                    318,
                    319,
                    320,
                    321,
                    322,
                    323,
                    324,
                    325,
                    326,
                    327,
                    328,
                    329,
                    330,
                    331,
                    332,
                    333,
                    334,
                    335,
                    336,
                    337,
                    338,
                    339,
                    340,
                    341,
                    342,
                    343,
                    344,
                    345,
                    346,
                    347,
                    348,
                    349,
                    350,
                    351,
                    352,
                    353,
                    354,
                    355,
                    356,
                    357,
                    358,
                    359,
                    360,
                    361,
                    362,
                    363,
                    364,
                    365,
                    366,
                    367,
                    368,
                    369,
                    370,
                    371,
                    372,
                    373,
                    374,
                    375,
                    376,
                    377,
                    378,
                    379,
                    380,
                    381,
                    382,
                    383,
                    384,
                    385,
                    386,
                    387,
                    388,
                    389,
                    390,
                    391,
                    392,
                    393,
                    394,
                    395,
                    396,
                    397,
                    398,
                    399,
                    400,
                    401,
                    402,
                    403,
                    404,
                    405,
                    406,
                    407,
                    408,
                    409,
                    410,
                    411,
                    412,
                    413,
                    414,
                    415,
                    416,
                    417,
                    418,
                    419,
                    420,
                    421,
                    422,
                    423,
                    424,
                    425,
                    426,
                    427,
                    428,
                    429,
                    430,
                    431,
                    432,
                    433,
                    434,
                    435,
                    436,
                    437,
                    438,
                    439,
                    440,
                    441,
                    442,
                    443,
                    444,
                    445,
                    446,
                    447,
                    448,
                    449,
                    450,
                    451,
                    452,
                    453,
                    454,
                    455,
                    456,
                    457,
                    458,
                    459,
                    460,
                    461,
                    462,
                    463,
                    464,
                    465,
                    466,
                    467,
                    468,
                    469,
                    470,
                    471,
                    472,
                    473,
                    474,
                    475,
                    476,
                    477,
                    478,
                    479,
                    480,
                    481,
                    482,
                    483,
                    484,
                    485,
                    486,
                    487,
                    488,
                    489,
                    490,
                    491,
                    492,
                    493,
                    494,
                    495,
                    496,
                    497,
                    498,
                    499,
                    500,
                    501,
                    502,
                    503,
                    504,
                    505,
                    506,
                    507,
                    508,
                    509,
                    510,
                    511,
                    512,
                    513,
                    514,
                    515,
                    516,
                    517,
                    518,
                    519,
                    520,
                    521,
                    522,
                    523,
                    524,
                    525,
                    526,
                    527,
                    528,
                    529,
                    530,
                    531,
                    532,
                    533,
                    534,
                    535,
                    536,
                    537,
                    538,
                    539,
                    540,
                    541,
                    542,
                    543,
                    544,
                    545,
                    546,
                    547,
                    548,
                    549,
                    550,
                    551,
                    552,
                    553,
                    554,
                    555,
                    556,
                    557,
                    558,
                    559,
                    560,
                    561,
                    562,
                    563,
                    564,
                    565,
                    566,
                    567,
                    568,
                    569,
                    570,
                    571,
                    572,
                    573,
                    574,
                    575,
                    576,
                    577,
                    578,
                    579,
                    580,
                    581,
                    582,
                    583,
                    584,
                    585,
                    586,
                    587,
                    588,
                    589,
                    590,
                    591,
                    592,
                    593,
                    594,
                    595,
                    596,
                    597,
                    598,
                    599,
                    600,
                    601,
                    602,
                    603,
                    604,
                    605,
                    606,
                    607,
                    608,
                    609,
                    610,
                    611,
                    612,
                    613,
                    614,
                    615,
                    616,
                    617,
                    618,
                    619,
                    620,
                    621,
                    622,
                    623,
                    624,
                    625,
                    626,
                    627,
                    628,
                    629,
                    630,
                    631,
                    632,
                    633,
                    634,
                    635,
                    636,
                    637,
                    638,
                    639,
                    640,
                    641,
                    642,
                    643,
                    644,
                    645,
                    646,
                    647,
                    648,
                    649,
                    650,
                    651,
                    652,
                    653,
                    654,
                    655,
                    656,
                    657,
                    658,
                    659,
                    660,
                    661,
                    662,
                    663,
                    664,
                    665,
                    666,
                    667,
                    668,
                    669,
                    670,
                    671,
                    672,
                    673,
                    674,
                    675,
                    676,
                    677,
                    678,
                    679,
                    680,
                    681,
                    682,
                    683,
                    684,
                    685,
                    686,
                    687,
                    688,
                    689,
                    690,
                    691,
                    692,
                    693,
                    694,
                    695,
                    696,
                    697,
                    698,
                    699,
                    700,
                    701,
                    702,
                    703,
                    704,
                    705,
                    706,
                    707,
                    708,
                    709,
                    710,
                    711,
                    712,
                    713,
                    714,
                    715,
                    716,
                    717,
                    718,
                    719,
                    720,
                    721,
                    722,
                    723,
                    724,
                    725,
                    726,
                    727,
                    728,
                    729,
                    730,
                    731,
                    732,
                    733,
                    734,
                    735,
                    736,
                    737,
                    738,
                    739,
                    740,
                    741,
                    742,
                    743,
                    744,
                    745,
                    746,
                    747,
                    748,
                    749,
                    750,
                    751,
                    752,
                    753,
                    754,
                    755,
                    756,
                    757,
                    758,
                    759,
                    760,
                    761,
                    762,
                    763,
                    764,
                    765,
                    766,
                    767,
                    768,
                    769,
                    770,
                    771,
                    772,
                    773,
                    774,
                    775,
                    776,
                    777,
                    778,
                    779,
                    780,
                    781,
                    782,
                    783,
                    784,
                    785,
                    786,
                    787,
                    788,
                    789,
                    790,
                    791,
                    792,
                    793,
                    794,
                    795,
                    796,
                    797,
                    798,
                    799,
                    800,
                    801,
                    802,
                    803,
                    804,
                    805,
                    806,
                    807,
                    808,
                    809,
                    810,
                    811,
                    812,
                    813,
                    814,
                    815,
                    816,
                    817,
                    818,
                    819,
                    820,
                    821,
                    822,
                    823,
                    824,
                    825,
                    826,
                    827,
                    828,
                    829,
                    830,
                    831,
                    832,
                    833,
                    834,
                    835,
                    836,
                    837,
                    838,
                    839,
                    840,
                    841,
                    842,
                    843,
                    844,
                    845,
                    846,
                    847,
                    848,
                    849,
                    850,
                    851,
                    852,
                    853,
                    854,
                    855,
                    856,
                    857,
                    858,
                    859,
                    860,
                    861,
                    862,
                    863,
                    864,
                    865,
                    866,
                    867,
                    868,
                    869,
                    870,
                    871,
                    872,
                    873,
                    874,
                    875,
                    876,
                    877,
                    878,
                    879,
                    880,
                    881,
                    882,
                    883,
                    884,
                    885,
                    886,
                    887,
                    888,
                    889,
                    890,
                    891,
                    892,
                    893,
                    894,
                    895,
                    896,
                    897,
                    898,
                    899,
                    900,
                    901,
                    902,
                    903,
                    904,
                    905,
                    906,
                    907
                  ],
                  "y": [
                    2.4643332958221436,
                    2.4757742881774902,
                    2.4194986820220947,
                    2.4442384243011475,
                    2.3700642585754395,
                    2.3766989707946777,
                    2.358900308609009,
                    2.322962760925293,
                    2.2978765964508057,
                    2.280251979827881,
                    2.254905939102173,
                    2.216801881790161,
                    2.1947453022003174,
                    2.207138776779175,
                    2.1855573654174805,
                    2.1740572452545166,
                    2.1538567543029785,
                    2.151738166809082,
                    2.1110680103302,
                    2.056859016418457,
                    2.065138816833496,
                    2.0143678188323975,
                    2.0584826469421387,
                    2.0472300052642822,
                    2.0121476650238037,
                    1.9691243171691895,
                    1.9761953353881836,
                    1.9479318857192993,
                    1.878071665763855,
                    1.8939697742462158,
                    1.8651717901229858,
                    1.8603299856185913,
                    1.8053128719329834,
                    1.767719030380249,
                    1.8152552843093872,
                    1.801693081855774,
                    1.6946355104446411,
                    1.690456748008728,
                    1.655198335647583,
                    1.6466326713562012,
                    1.60410737991333,
                    1.563914179801941,
                    1.5500216484069824,
                    1.5001952648162842,
                    1.501973032951355,
                    1.4234912395477295,
                    1.3210699558258057,
                    1.3216806650161743,
                    1.2407535314559937,
                    1.2923593521118164,
                    1.2703123092651367,
                    1.212813377380371,
                    1.2309528589248657,
                    1.158948540687561,
                    1.0520139932632446,
                    1.0735512971878052,
                    0.9610338807106018,
                    1.0291861295700073,
                    0.9576637148857117,
                    0.9965326189994812,
                    0.887112557888031,
                    0.9109198451042175,
                    0.7774505615234375,
                    0.8376907110214233,
                    0.7628161311149597,
                    0.7890715599060059,
                    0.674805223941803,
                    0.7375747561454773,
                    0.7686314582824707,
                    0.753718376159668,
                    0.7299527525901794,
                    0.7136372327804565,
                    0.791630208492279,
                    0.7142359614372253,
                    0.622117817401886,
                    0.7816997766494751,
                    0.7078948020935059,
                    0.5674075484275818,
                    0.6663910150527954,
                    0.5863829255104065,
                    0.5278173089027405,
                    0.56965571641922,
                    0.4731437861919403,
                    0.6405702233314514,
                    0.5748775601387024,
                    0.5576844811439514,
                    0.4527550935745239,
                    0.5633856058120728,
                    0.47972431778907776,
                    0.4415367841720581,
                    0.4520980715751648,
                    0.466641902923584,
                    0.467746764421463,
                    0.47238844633102417,
                    0.5793955326080322,
                    0.4949358403682709,
                    0.45291703939437866,
                    0.40731751918792725,
                    0.5351505279541016,
                    0.46305739879608154,
                    0.4451156556606293,
                    0.5151466131210327,
                    0.48843419551849365,
                    0.35643815994262695,
                    0.39827030897140503,
                    0.4378499984741211,
                    0.45039889216423035,
                    0.38661614060401917,
                    0.4068250060081482,
                    0.5315439105033875,
                    0.4134349524974823,
                    0.42691856622695923,
                    0.4815801978111267,
                    0.4005199074745178,
                    0.3950583040714264,
                    0.44604432582855225,
                    0.4740917682647705,
                    0.34398922324180603,
                    0.5177409648895264,
                    0.37510862946510315,
                    0.4271300435066223,
                    0.42253756523132324,
                    0.38310274481773376,
                    0.35982635617256165,
                    0.3330916464328766,
                    0.5909439325332642,
                    0.36563441157341003,
                    0.38289034366607666,
                    0.40206819772720337,
                    0.40099036693573,
                    0.3809875249862671,
                    0.4006211757659912,
                    0.4307868480682373,
                    0.39435043931007385,
                    0.3000487685203552,
                    0.3334325850009918,
                    0.5119487643241882,
                    0.35970383882522583,
                    0.37136417627334595,
                    0.43918243050575256,
                    0.3008791506290436,
                    0.3076660931110382,
                    0.33166295289993286,
                    0.3313792645931244,
                    0.3159753680229187,
                    0.29566827416419983,
                    0.3446217179298401,
                    0.35338032245635986,
                    0.31657928228378296,
                    0.3513065576553345,
                    0.3282787799835205,
                    0.27822038531303406,
                    0.36284148693084717,
                    0.4016909599304199,
                    0.3266206979751587,
                    0.3545166552066803,
                    0.3232426047325134,
                    0.38860151171684265,
                    0.3148280084133148,
                    0.3726251423358917,
                    0.28988438844680786,
                    0.3249737322330475,
                    0.26712167263031006,
                    0.32200750708580017,
                    0.2356969267129898,
                    0.2897758185863495,
                    0.3578530550003052,
                    0.27480390667915344,
                    0.3670002222061157,
                    0.27059581875801086,
                    0.302985280752182,
                    0.3775806725025177,
                    0.3341611623764038,
                    0.22809045016765594,
                    0.26304545998573303,
                    0.22606182098388672,
                    0.2811647057533264,
                    0.28203222155570984,
                    0.27665460109710693,
                    0.2808947265148163,
                    0.2827528715133667,
                    0.34201574325561523,
                    0.29775238037109375,
                    0.34698203206062317,
                    0.25646504759788513,
                    0.312044233083725,
                    0.357749879360199,
                    0.2566536068916321,
                    0.28958195447921753,
                    0.2290741205215454,
                    0.28775331377983093,
                    0.3852974772453308,
                    0.2557757496833801,
                    0.37229761481285095,
                    0.29459452629089355,
                    0.2839764952659607,
                    0.2425074279308319,
                    0.2545406222343445,
                    0.23409776389598846,
                    0.29040762782096863,
                    0.3121686279773712,
                    0.27166491746902466,
                    0.30623212456703186,
                    0.26991549134254456,
                    0.27820202708244324,
                    0.33434417843818665,
                    0.24251212179660797,
                    0.3363889455795288,
                    0.2961660921573639,
                    0.20964372158050537,
                    0.35681548714637756,
                    0.185237318277359,
                    0.2935087978839874,
                    0.33749184012413025,
                    0.2505764067173004,
                    0.235432967543602,
                    0.40628042817115784,
                    0.24227328598499298,
                    0.36147451400756836,
                    0.2219630628824234,
                    0.23577329516410828,
                    0.19840653240680695,
                    0.2758062183856964,
                    0.24103909730911255,
                    0.3479282855987549,
                    0.3591700494289398,
                    0.30974429845809937,
                    0.2627342939376831,
                    0.3075829744338989,
                    0.27062493562698364,
                    0.30972445011138916,
                    0.260935515165329,
                    0.31845155358314514,
                    0.25075849890708923,
                    0.2650715112686157,
                    0.22396525740623474,
                    0.2541283965110779,
                    0.21068215370178223,
                    0.2900329828262329,
                    0.25359803438186646,
                    0.21470914781093597,
                    0.28681573271751404,
                    0.1807514727115631,
                    0.2562969923019409,
                    0.25392746925354004,
                    0.1727616935968399,
                    0.23291434347629547,
                    0.25402212142944336,
                    0.28890568017959595,
                    0.2763981521129608,
                    0.2573154866695404,
                    0.22955143451690674,
                    0.24498410522937775,
                    0.31974828243255615,
                    0.27246224880218506,
                    0.27212387323379517,
                    0.29514867067337036,
                    0.26540476083755493,
                    0.24622026085853577,
                    0.21118420362472534,
                    0.25282520055770874,
                    0.21016575396060944,
                    0.30227941274642944,
                    0.21587985754013062,
                    0.2350795567035675,
                    0.18641400337219238,
                    0.23276224732398987,
                    0.26790672540664673,
                    0.23196391761302948,
                    0.14559413492679596,
                    0.23015931248664856,
                    0.21824459731578827,
                    0.19027946889400482,
                    0.2237282544374466,
                    0.26839035749435425,
                    0.2034948319196701,
                    0.27241936326026917,
                    0.259149432182312,
                    0.32578667998313904,
                    0.18002668023109436,
                    0.233723983168602,
                    0.19611456990242004,
                    0.23503899574279785,
                    0.28324007987976074,
                    0.3012182116508484,
                    0.3081763982772827,
                    0.25241565704345703,
                    0.3283071517944336,
                    0.299607515335083,
                    0.17310765385627747,
                    0.2614590525627136,
                    0.22840771079063416,
                    0.2973017990589142,
                    0.2589723765850067,
                    0.2714051902294159,
                    0.31113138794898987,
                    0.2305271178483963,
                    0.158277690410614,
                    0.23104116320610046,
                    0.33295363187789917,
                    0.20325413346290588,
                    0.14183911681175232,
                    0.2614487409591675,
                    0.2850608825683594,
                    0.16831472516059875,
                    0.3069385886192322,
                    0.24474242329597473,
                    0.28591087460517883,
                    0.2977212071418762,
                    0.15242010354995728,
                    0.19671310484409332,
                    0.1947476714849472,
                    0.23177988827228546,
                    0.2620697617530823,
                    0.22655628621578217,
                    0.1904875636100769,
                    0.2531004250049591,
                    0.22930742800235748,
                    0.2557435631752014,
                    0.20376859605312347,
                    0.26527541875839233,
                    0.18665292859077454,
                    0.3385677635669708,
                    0.21852634847164154,
                    0.16902165114879608,
                    0.2749266028404236,
                    0.2318989485502243,
                    0.22662760317325592,
                    0.2474089115858078,
                    0.17380604147911072,
                    0.20446403324604034,
                    0.23199298977851868,
                    0.21294128894805908,
                    0.21088215708732605,
                    0.2484777867794037,
                    0.2131986767053604,
                    0.14964404702186584,
                    0.17876359820365906,
                    0.28084635734558105,
                    0.19804048538208008,
                    0.20014330744743347,
                    0.2692526876926422,
                    0.23301911354064941,
                    0.1680888533592224,
                    0.2777750790119171,
                    0.24384793639183044,
                    0.17959652841091156,
                    0.1830505132675171,
                    0.2686333656311035,
                    0.13748684525489807,
                    0.20354381203651428,
                    0.2657962143421173,
                    0.2269698679447174,
                    0.23407238721847534,
                    0.16713880002498627,
                    0.2415248602628708,
                    0.18674655258655548,
                    0.22960858047008514,
                    0.16529788076877594,
                    0.21195641160011292,
                    0.20144708454608917,
                    0.14808934926986694,
                    0.21779434382915497,
                    0.2251695990562439,
                    0.18128472566604614,
                    0.29833346605300903,
                    0.1545131951570511,
                    0.14193573594093323,
                    0.2539227604866028,
                    0.18969954550266266,
                    0.177652508020401,
                    0.22487856447696686,
                    0.23239123821258545,
                    0.2174001783132553,
                    0.20165543258190155,
                    0.17298637330532074,
                    0.23985154926776886,
                    0.19190259277820587,
                    0.18250957131385803,
                    0.193329319357872,
                    0.14591701328754425,
                    0.18269003927707672,
                    0.2532772123813629,
                    0.21304529905319214,
                    0.2825925350189209,
                    0.2819746434688568,
                    0.1717437207698822,
                    0.20743505656719208,
                    0.22391027212142944,
                    0.2589464485645294,
                    0.22581259906291962,
                    0.16663086414337158,
                    0.24623538553714752,
                    0.1235671117901802,
                    0.22978855669498444,
                    0.1466275155544281,
                    0.2546098828315735,
                    0.1698455959558487,
                    0.16447797417640686,
                    0.17604558169841766,
                    0.15309680998325348,
                    0.12107247114181519,
                    0.20756611227989197,
                    0.17195478081703186,
                    0.1399332880973816,
                    0.21968013048171997,
                    0.2700769305229187,
                    0.15601591765880585,
                    0.1787457913160324,
                    0.1460588425397873,
                    0.1593356728553772,
                    0.18487122654914856,
                    0.16970789432525635,
                    0.19866570830345154,
                    0.1724599450826645,
                    0.2009178102016449,
                    0.33375731110572815,
                    0.1613268256187439,
                    0.1522650420665741,
                    0.24069592356681824,
                    0.13126063346862793,
                    0.18323484063148499,
                    0.17198407649993896,
                    0.18044182658195496,
                    0.19510102272033691,
                    0.1867746263742447,
                    0.21430902183055878,
                    0.1870439201593399,
                    0.17223280668258667,
                    0.18240047991275787,
                    0.17595431208610535,
                    0.1970510333776474,
                    0.2315017580986023,
                    0.2827751636505127,
                    0.13304565846920013,
                    0.21474699676036835,
                    0.17000266909599304,
                    0.175372913479805,
                    0.2151690423488617,
                    0.17513662576675415,
                    0.15996238589286804,
                    0.17117245495319366,
                    0.13560280203819275,
                    0.19826854765415192,
                    0.19219698011875153,
                    0.1607389748096466,
                    0.21547961235046387,
                    0.1583782434463501,
                    0.2170771360397339,
                    0.17368410527706146,
                    0.1631384640932083,
                    0.24653436243534088,
                    0.22323806583881378,
                    0.21476149559020996,
                    0.14250586926937103,
                    0.2165408581495285,
                    0.12241701036691666,
                    0.18900170922279358,
                    0.2152373194694519,
                    0.15494318306446075,
                    0.15250444412231445,
                    0.21007710695266724,
                    0.14770327508449554,
                    0.2533891797065735,
                    0.18421299755573273,
                    0.0916963592171669,
                    0.15184582769870758,
                    0.17944173514842987,
                    0.23403839766979218,
                    0.12722529470920563,
                    0.20558978617191315,
                    0.22167958319187164,
                    0.24490614235401154,
                    0.1258857399225235,
                    0.11197221279144287,
                    0.1457616686820984,
                    0.16700808703899384,
                    0.17020586133003235,
                    0.19608822464942932,
                    0.21329128742218018,
                    0.19198742508888245,
                    0.17700313031673431,
                    0.19094540178775787,
                    0.18187588453292847,
                    0.2096138745546341,
                    0.13120681047439575,
                    0.1733909547328949,
                    0.1649157553911209,
                    0.17626850306987762,
                    0.1426955610513687,
                    0.18042084574699402,
                    0.18501213192939758,
                    0.11336889863014221,
                    0.10271716862916946,
                    0.17625051736831665,
                    0.21626006066799164,
                    0.2443961501121521,
                    0.12924602627754211,
                    0.19289636611938477,
                    0.19163775444030762,
                    0.1277875453233719,
                    0.13549840450286865,
                    0.20905184745788574,
                    0.22271357476711273,
                    0.15693417191505432,
                    0.16365212202072144,
                    0.1962352991104126,
                    0.21152739226818085,
                    0.1725388616323471,
                    0.12393508851528168,
                    0.11820518970489502,
                    0.125320702791214,
                    0.13101060688495636,
                    0.1761026382446289,
                    0.22841589152812958,
                    0.22951741516590118,
                    0.11788099259138107,
                    0.14937055110931396,
                    0.16142836213111877,
                    0.11677949875593185,
                    0.18423587083816528,
                    0.15996341407299042,
                    0.2578131854534149,
                    0.13564959168434143,
                    0.22329659759998322,
                    0.17022748291492462,
                    0.12780463695526123,
                    0.1570872962474823,
                    0.1307321935892105,
                    0.1399465948343277,
                    0.15892890095710754,
                    0.08595550060272217,
                    0.22595085203647614,
                    0.125051349401474,
                    0.1257586032152176,
                    0.1738075166940689,
                    0.2064264714717865,
                    0.07037383317947388,
                    0.08725704997777939,
                    0.16692815721035004,
                    0.18626774847507477,
                    0.13442185521125793,
                    0.2172486037015915,
                    0.1987961083650589,
                    0.24527832865715027,
                    0.18328678607940674,
                    0.14058151841163635,
                    0.21700124442577362,
                    0.111569844186306,
                    0.17461203038692474,
                    0.17734934389591217,
                    0.09184947609901428,
                    0.1633695513010025,
                    0.17305418848991394,
                    0.1529237926006317,
                    0.1612471640110016,
                    0.2695811688899994,
                    0.19196294248104095,
                    0.14883144199848175,
                    0.17199060320854187,
                    0.22997088730335236,
                    0.1629372090101242,
                    0.10688985884189606,
                    0.23383836448192596,
                    0.18437537550926208,
                    0.18546700477600098,
                    0.14112341403961182,
                    0.23638302087783813,
                    0.10708000510931015,
                    0.1028677448630333,
                    0.13483333587646484,
                    0.12406113743782043,
                    0.12602105736732483,
                    0.14724409580230713,
                    0.17241549491882324,
                    0.08989135921001434,
                    0.15527909994125366,
                    0.24457262456417084,
                    0.12951341271400452,
                    0.11340831220149994,
                    0.17175038158893585,
                    0.1999412178993225,
                    0.18187451362609863,
                    0.1467292755842209,
                    0.23228587210178375,
                    0.16045786440372467,
                    0.16460393369197845,
                    0.14864809811115265,
                    0.22887255251407623,
                    0.12768734991550446,
                    0.15929900109767914,
                    0.1606941968202591,
                    0.12420714646577835,
                    0.1995423138141632,
                    0.1625402867794037,
                    0.10550559312105179,
                    0.1699797809123993,
                    0.18026858568191528,
                    0.20461349189281464,
                    0.16813817620277405,
                    0.14896298944950104,
                    0.21681860089302063,
                    0.2024199366569519,
                    0.15215492248535156,
                    0.12284832447767258,
                    0.16094756126403809,
                    0.23455187678337097,
                    0.1343688815832138,
                    0.11413231492042542,
                    0.18397736549377441,
                    0.13655853271484375,
                    0.12542442977428436,
                    0.10158686339855194,
                    0.1446693390607834,
                    0.10760550945997238,
                    0.15740472078323364,
                    0.15950167179107666,
                    0.24345485866069794,
                    0.1593593806028366,
                    0.16762122511863708,
                    0.10852596908807755,
                    0.14274775981903076,
                    0.12345504760742188,
                    0.06950873881578445,
                    0.18477684259414673,
                    0.1847274750471115,
                    0.1472669094800949,
                    0.15308567881584167,
                    0.15087038278579712,
                    0.13362938165664673,
                    0.16547460854053497,
                    0.22487516701221466,
                    0.20665858685970306,
                    0.1519307643175125,
                    0.10860221832990646,
                    0.18469691276550293,
                    0.12025958299636841,
                    0.19243326783180237,
                    0.16609600186347961,
                    0.07136303931474686,
                    0.10657976567745209,
                    0.11192093789577484,
                    0.12040833383798599,
                    0.11665385216474533,
                    0.12567177414894104,
                    0.15271171927452087,
                    0.1483011543750763,
                    0.15636293590068817,
                    0.16561217606067657,
                    0.16200989484786987,
                    0.17615096271038055,
                    0.15618091821670532,
                    0.12998752295970917,
                    0.12137514352798462,
                    0.15593092143535614,
                    0.13329637050628662,
                    0.1485750675201416,
                    0.1671711653470993,
                    0.1139674186706543,
                    0.09682720899581909,
                    0.1421864628791809,
                    0.1531706154346466,
                    0.14131177961826324,
                    0.14616000652313232,
                    0.15032759308815002,
                    0.19705888628959656,
                    0.14508295059204102,
                    0.1519496589899063,
                    0.16760939359664917,
                    0.1605709195137024,
                    0.09145630151033401,
                    0.16523773968219757,
                    0.10697805136442184,
                    0.16038498282432556,
                    0.18612122535705566,
                    0.1868387758731842,
                    0.1534823775291443,
                    0.1515757441520691,
                    0.18813222646713257,
                    0.15597863495349884,
                    0.13479827344417572,
                    0.1636825054883957,
                    0.12494174391031265,
                    0.16262191534042358,
                    0.18144731223583221,
                    0.08992796391248703,
                    0.11108628660440445,
                    0.15272867679595947,
                    0.22127805650234222,
                    0.19357025623321533,
                    0.07435765862464905,
                    0.17283307015895844,
                    0.11774308979511261,
                    0.11546963453292847,
                    0.14417830109596252,
                    0.15196429193019867,
                    0.12792392075061798,
                    0.2096538543701172,
                    0.11111360043287277,
                    0.15420520305633545,
                    0.11757614463567734,
                    0.12402435392141342,
                    0.12722526490688324,
                    0.10943328589200974,
                    0.1112578883767128,
                    0.19187918305397034,
                    0.08858419954776764,
                    0.11140340566635132,
                    0.145233154296875,
                    0.13588345050811768,
                    0.14672888815402985,
                    0.11791585385799408,
                    0.12252750247716904,
                    0.13968144357204437,
                    0.17646443843841553,
                    0.13423368334770203,
                    0.13193123042583466,
                    0.11752595007419586,
                    0.22172532975673676,
                    0.15256352722644806,
                    0.15181496739387512,
                    0.11356910318136215,
                    0.1178099662065506,
                    0.09787002950906754,
                    0.11299827694892883,
                    0.10133130848407745,
                    0.1523141860961914,
                    0.14337478578090668,
                    0.12955698370933533,
                    0.11223840713500977,
                    0.08712073415517807,
                    0.1437970995903015,
                    0.12738774716854095,
                    0.12228900194168091,
                    0.12069302052259445,
                    0.13088887929916382,
                    0.13439254462718964,
                    0.09998991340398788,
                    0.16341717541217804,
                    0.20345667004585266,
                    0.08916568011045456,
                    0.17012181878089905,
                    0.2128949612379074,
                    0.12161783874034882,
                    0.1555282175540924,
                    0.14627985656261444,
                    0.13051016628742218,
                    0.2154170274734497,
                    0.20093867182731628,
                    0.1299547702074051,
                    0.11643344163894653,
                    0.14771486818790436,
                    0.1150057315826416,
                    0.10563164949417114,
                    0.13103973865509033,
                    0.17457982897758484,
                    0.13136306405067444,
                    0.1852857619524002,
                    0.13202594220638275,
                    0.13800375163555145,
                    0.2154702991247177,
                    0.07584948092699051,
                    0.1425064206123352,
                    0.09360267966985703,
                    0.2188788205385208,
                    0.1666254699230194,
                    0.08984088897705078,
                    0.12323606014251709,
                    0.10409852862358093,
                    0.09411914646625519,
                    0.16329091787338257,
                    0.13304434716701508,
                    0.13188722729682922,
                    0.1485876739025116,
                    0.12112501263618469,
                    0.13531793653964996,
                    0.13021573424339294,
                    0.10940198600292206,
                    0.11071379482746124,
                    0.1242343932390213,
                    0.15416742861270905,
                    0.1346464306116104,
                    0.11443489044904709,
                    0.13255326449871063,
                    0.06563196331262589,
                    0.0819316953420639,
                    0.0819341316819191,
                    0.12504622340202332,
                    0.14989885687828064,
                    0.14272695779800415,
                    0.17296534776687622,
                    0.13606974482536316,
                    0.14403179287910461,
                    0.12969283759593964,
                    0.10727638006210327,
                    0.16991879045963287,
                    0.16448597609996796,
                    0.06911170482635498,
                    0.14906449615955353,
                    0.09175832569599152,
                    0.14319580793380737,
                    0.14236898720264435,
                    0.061825793236494064,
                    0.09999804198741913,
                    0.21709124743938446,
                    0.19568824768066406,
                    0.15423710644245148,
                    0.12937456369400024,
                    0.1290253847837448,
                    0.22240395843982697,
                    0.1603807508945465,
                    0.14733180403709412,
                    0.19008560478687286,
                    0.10960181802511215,
                    0.16484731435775757,
                    0.12090595811605453,
                    0.13741324841976166,
                    0.20508496463298798,
                    0.11084236949682236,
                    0.12284983694553375,
                    0.19924484193325043,
                    0.16194964945316315,
                    0.12870733439922333,
                    0.14520980417728424,
                    0.14750702679157257,
                    0.0674268901348114,
                    0.14620164036750793,
                    0.1051880419254303,
                    0.08202257752418518,
                    0.10004184395074844,
                    0.12037145346403122,
                    0.10194509476423264,
                    0.14258629083633423,
                    0.1336265653371811,
                    0.14122165739536285,
                    0.10493939369916916,
                    0.11539524793624878,
                    0.0855056494474411,
                    0.15872406959533691,
                    0.0635242685675621,
                    0.09347163885831833,
                    0.09817302972078323,
                    0.12414906173944473,
                    0.08447492867708206,
                    0.1043296530842781,
                    0.0789538249373436,
                    0.19504036009311676,
                    0.15011464059352875,
                    0.12999162077903748,
                    0.1256389170885086,
                    0.10284805297851562,
                    0.09884567558765411,
                    0.09175746887922287,
                    0.10564112663269043,
                    0.1324496865272522,
                    0.17865794897079468,
                    0.08203846961259842,
                    0.09664130210876465,
                    0.1196272075176239,
                    0.13363511860370636,
                    0.09515727311372757,
                    0.11249960958957672,
                    0.11187167465686798,
                    0.09673650562763214,
                    0.12324737757444382,
                    0.09887626767158508,
                    0.11121030151844025,
                    0.10633005201816559,
                    0.18115535378456116,
                    0.17311149835586548,
                    0.13212008774280548,
                    0.14109092950820923,
                    0.15742135047912598,
                    0.14871396124362946,
                    0.11744009703397751,
                    0.08988522738218307,
                    0.12212402373552322,
                    0.10260862112045288,
                    0.11562210321426392,
                    0.12812668085098267,
                    0.12251601368188858,
                    0.10350582748651505,
                    0.11760302633047104,
                    0.12598071992397308,
                    0.09859603643417358,
                    0.116712287068367,
                    0.09660779684782028,
                    0.0642949789762497,
                    0.05790702998638153,
                    0.11181458085775375,
                    0.1548510640859604,
                    0.13743704557418823,
                    0.17293280363082886,
                    0.14145052433013916,
                    0.07759840041399002,
                    0.12005989998579025,
                    0.11390582472085953,
                    0.1473512351512909,
                    0.1452474147081375,
                    0.08591590076684952,
                    0.19270625710487366,
                    0.08458360284566879,
                    0.11537552624940872,
                    0.127803772687912,
                    0.07098501175642014,
                    0.17987605929374695,
                    0.1180412769317627,
                    0.12540732324123383
                  ]
                }
              ],
              "layout": {
                "template": {
                  "data": {
                    "bar": [
                      {
                        "error_x": {
                          "color": "#2a3f5f"
                        },
                        "error_y": {
                          "color": "#2a3f5f"
                        },
                        "marker": {
                          "line": {
                            "color": "#E5ECF6",
                            "width": 0.5
                          },
                          "pattern": {
                            "fillmode": "overlay",
                            "size": 10,
                            "solidity": 0.2
                          }
                        },
                        "type": "bar"
                      }
                    ],
                    "barpolar": [
                      {
                        "marker": {
                          "line": {
                            "color": "#E5ECF6",
                            "width": 0.5
                          },
                          "pattern": {
                            "fillmode": "overlay",
                            "size": 10,
                            "solidity": 0.2
                          }
                        },
                        "type": "barpolar"
                      }
                    ],
                    "carpet": [
                      {
                        "aaxis": {
                          "endlinecolor": "#2a3f5f",
                          "gridcolor": "white",
                          "linecolor": "white",
                          "minorgridcolor": "white",
                          "startlinecolor": "#2a3f5f"
                        },
                        "baxis": {
                          "endlinecolor": "#2a3f5f",
                          "gridcolor": "white",
                          "linecolor": "white",
                          "minorgridcolor": "white",
                          "startlinecolor": "#2a3f5f"
                        },
                        "type": "carpet"
                      }
                    ],
                    "choropleth": [
                      {
                        "colorbar": {
                          "outlinewidth": 0,
                          "ticks": ""
                        },
                        "type": "choropleth"
                      }
                    ],
                    "contour": [
                      {
                        "colorbar": {
                          "outlinewidth": 0,
                          "ticks": ""
                        },
                        "colorscale": [
                          [
                            0,
                            "#0d0887"
                          ],
                          [
                            0.1111111111111111,
                            "#46039f"
                          ],
                          [
                            0.2222222222222222,
                            "#7201a8"
                          ],
                          [
                            0.3333333333333333,
                            "#9c179e"
                          ],
                          [
                            0.4444444444444444,
                            "#bd3786"
                          ],
                          [
                            0.5555555555555556,
                            "#d8576b"
                          ],
                          [
                            0.6666666666666666,
                            "#ed7953"
                          ],
                          [
                            0.7777777777777778,
                            "#fb9f3a"
                          ],
                          [
                            0.8888888888888888,
                            "#fdca26"
                          ],
                          [
                            1,
                            "#f0f921"
                          ]
                        ],
                        "type": "contour"
                      }
                    ],
                    "contourcarpet": [
                      {
                        "colorbar": {
                          "outlinewidth": 0,
                          "ticks": ""
                        },
                        "type": "contourcarpet"
                      }
                    ],
                    "heatmap": [
                      {
                        "colorbar": {
                          "outlinewidth": 0,
                          "ticks": ""
                        },
                        "colorscale": [
                          [
                            0,
                            "#0d0887"
                          ],
                          [
                            0.1111111111111111,
                            "#46039f"
                          ],
                          [
                            0.2222222222222222,
                            "#7201a8"
                          ],
                          [
                            0.3333333333333333,
                            "#9c179e"
                          ],
                          [
                            0.4444444444444444,
                            "#bd3786"
                          ],
                          [
                            0.5555555555555556,
                            "#d8576b"
                          ],
                          [
                            0.6666666666666666,
                            "#ed7953"
                          ],
                          [
                            0.7777777777777778,
                            "#fb9f3a"
                          ],
                          [
                            0.8888888888888888,
                            "#fdca26"
                          ],
                          [
                            1,
                            "#f0f921"
                          ]
                        ],
                        "type": "heatmap"
                      }
                    ],
                    "heatmapgl": [
                      {
                        "colorbar": {
                          "outlinewidth": 0,
                          "ticks": ""
                        },
                        "colorscale": [
                          [
                            0,
                            "#0d0887"
                          ],
                          [
                            0.1111111111111111,
                            "#46039f"
                          ],
                          [
                            0.2222222222222222,
                            "#7201a8"
                          ],
                          [
                            0.3333333333333333,
                            "#9c179e"
                          ],
                          [
                            0.4444444444444444,
                            "#bd3786"
                          ],
                          [
                            0.5555555555555556,
                            "#d8576b"
                          ],
                          [
                            0.6666666666666666,
                            "#ed7953"
                          ],
                          [
                            0.7777777777777778,
                            "#fb9f3a"
                          ],
                          [
                            0.8888888888888888,
                            "#fdca26"
                          ],
                          [
                            1,
                            "#f0f921"
                          ]
                        ],
                        "type": "heatmapgl"
                      }
                    ],
                    "histogram": [
                      {
                        "marker": {
                          "pattern": {
                            "fillmode": "overlay",
                            "size": 10,
                            "solidity": 0.2
                          }
                        },
                        "type": "histogram"
                      }
                    ],
                    "histogram2d": [
                      {
                        "colorbar": {
                          "outlinewidth": 0,
                          "ticks": ""
                        },
                        "colorscale": [
                          [
                            0,
                            "#0d0887"
                          ],
                          [
                            0.1111111111111111,
                            "#46039f"
                          ],
                          [
                            0.2222222222222222,
                            "#7201a8"
                          ],
                          [
                            0.3333333333333333,
                            "#9c179e"
                          ],
                          [
                            0.4444444444444444,
                            "#bd3786"
                          ],
                          [
                            0.5555555555555556,
                            "#d8576b"
                          ],
                          [
                            0.6666666666666666,
                            "#ed7953"
                          ],
                          [
                            0.7777777777777778,
                            "#fb9f3a"
                          ],
                          [
                            0.8888888888888888,
                            "#fdca26"
                          ],
                          [
                            1,
                            "#f0f921"
                          ]
                        ],
                        "type": "histogram2d"
                      }
                    ],
                    "histogram2dcontour": [
                      {
                        "colorbar": {
                          "outlinewidth": 0,
                          "ticks": ""
                        },
                        "colorscale": [
                          [
                            0,
                            "#0d0887"
                          ],
                          [
                            0.1111111111111111,
                            "#46039f"
                          ],
                          [
                            0.2222222222222222,
                            "#7201a8"
                          ],
                          [
                            0.3333333333333333,
                            "#9c179e"
                          ],
                          [
                            0.4444444444444444,
                            "#bd3786"
                          ],
                          [
                            0.5555555555555556,
                            "#d8576b"
                          ],
                          [
                            0.6666666666666666,
                            "#ed7953"
                          ],
                          [
                            0.7777777777777778,
                            "#fb9f3a"
                          ],
                          [
                            0.8888888888888888,
                            "#fdca26"
                          ],
                          [
                            1,
                            "#f0f921"
                          ]
                        ],
                        "type": "histogram2dcontour"
                      }
                    ],
                    "mesh3d": [
                      {
                        "colorbar": {
                          "outlinewidth": 0,
                          "ticks": ""
                        },
                        "type": "mesh3d"
                      }
                    ],
                    "parcoords": [
                      {
                        "line": {
                          "colorbar": {
                            "outlinewidth": 0,
                            "ticks": ""
                          }
                        },
                        "type": "parcoords"
                      }
                    ],
                    "pie": [
                      {
                        "automargin": true,
                        "type": "pie"
                      }
                    ],
                    "scatter": [
                      {
                        "fillpattern": {
                          "fillmode": "overlay",
                          "size": 10,
                          "solidity": 0.2
                        },
                        "type": "scatter"
                      }
                    ],
                    "scatter3d": [
                      {
                        "line": {
                          "colorbar": {
                            "outlinewidth": 0,
                            "ticks": ""
                          }
                        },
                        "marker": {
                          "colorbar": {
                            "outlinewidth": 0,
                            "ticks": ""
                          }
                        },
                        "type": "scatter3d"
                      }
                    ],
                    "scattercarpet": [
                      {
                        "marker": {
                          "colorbar": {
                            "outlinewidth": 0,
                            "ticks": ""
                          }
                        },
                        "type": "scattercarpet"
                      }
                    ],
                    "scattergeo": [
                      {
                        "marker": {
                          "colorbar": {
                            "outlinewidth": 0,
                            "ticks": ""
                          }
                        },
                        "type": "scattergeo"
                      }
                    ],
                    "scattergl": [
                      {
                        "marker": {
                          "colorbar": {
                            "outlinewidth": 0,
                            "ticks": ""
                          }
                        },
                        "type": "scattergl"
                      }
                    ],
                    "scattermapbox": [
                      {
                        "marker": {
                          "colorbar": {
                            "outlinewidth": 0,
                            "ticks": ""
                          }
                        },
                        "type": "scattermapbox"
                      }
                    ],
                    "scatterpolar": [
                      {
                        "marker": {
                          "colorbar": {
                            "outlinewidth": 0,
                            "ticks": ""
                          }
                        },
                        "type": "scatterpolar"
                      }
                    ],
                    "scatterpolargl": [
                      {
                        "marker": {
                          "colorbar": {
                            "outlinewidth": 0,
                            "ticks": ""
                          }
                        },
                        "type": "scatterpolargl"
                      }
                    ],
                    "scatterternary": [
                      {
                        "marker": {
                          "colorbar": {
                            "outlinewidth": 0,
                            "ticks": ""
                          }
                        },
                        "type": "scatterternary"
                      }
                    ],
                    "surface": [
                      {
                        "colorbar": {
                          "outlinewidth": 0,
                          "ticks": ""
                        },
                        "colorscale": [
                          [
                            0,
                            "#0d0887"
                          ],
                          [
                            0.1111111111111111,
                            "#46039f"
                          ],
                          [
                            0.2222222222222222,
                            "#7201a8"
                          ],
                          [
                            0.3333333333333333,
                            "#9c179e"
                          ],
                          [
                            0.4444444444444444,
                            "#bd3786"
                          ],
                          [
                            0.5555555555555556,
                            "#d8576b"
                          ],
                          [
                            0.6666666666666666,
                            "#ed7953"
                          ],
                          [
                            0.7777777777777778,
                            "#fb9f3a"
                          ],
                          [
                            0.8888888888888888,
                            "#fdca26"
                          ],
                          [
                            1,
                            "#f0f921"
                          ]
                        ],
                        "type": "surface"
                      }
                    ],
                    "table": [
                      {
                        "cells": {
                          "fill": {
                            "color": "#EBF0F8"
                          },
                          "line": {
                            "color": "white"
                          }
                        },
                        "header": {
                          "fill": {
                            "color": "#C8D4E3"
                          },
                          "line": {
                            "color": "white"
                          }
                        },
                        "type": "table"
                      }
                    ]
                  },
                  "layout": {
                    "annotationdefaults": {
                      "arrowcolor": "#2a3f5f",
                      "arrowhead": 0,
                      "arrowwidth": 1
                    },
                    "autotypenumbers": "strict",
                    "coloraxis": {
                      "colorbar": {
                        "outlinewidth": 0,
                        "ticks": ""
                      }
                    },
                    "colorscale": {
                      "diverging": [
                        [
                          0,
                          "#8e0152"
                        ],
                        [
                          0.1,
                          "#c51b7d"
                        ],
                        [
                          0.2,
                          "#de77ae"
                        ],
                        [
                          0.3,
                          "#f1b6da"
                        ],
                        [
                          0.4,
                          "#fde0ef"
                        ],
                        [
                          0.5,
                          "#f7f7f7"
                        ],
                        [
                          0.6,
                          "#e6f5d0"
                        ],
                        [
                          0.7,
                          "#b8e186"
                        ],
                        [
                          0.8,
                          "#7fbc41"
                        ],
                        [
                          0.9,
                          "#4d9221"
                        ],
                        [
                          1,
                          "#276419"
                        ]
                      ],
                      "sequential": [
                        [
                          0,
                          "#0d0887"
                        ],
                        [
                          0.1111111111111111,
                          "#46039f"
                        ],
                        [
                          0.2222222222222222,
                          "#7201a8"
                        ],
                        [
                          0.3333333333333333,
                          "#9c179e"
                        ],
                        [
                          0.4444444444444444,
                          "#bd3786"
                        ],
                        [
                          0.5555555555555556,
                          "#d8576b"
                        ],
                        [
                          0.6666666666666666,
                          "#ed7953"
                        ],
                        [
                          0.7777777777777778,
                          "#fb9f3a"
                        ],
                        [
                          0.8888888888888888,
                          "#fdca26"
                        ],
                        [
                          1,
                          "#f0f921"
                        ]
                      ],
                      "sequentialminus": [
                        [
                          0,
                          "#0d0887"
                        ],
                        [
                          0.1111111111111111,
                          "#46039f"
                        ],
                        [
                          0.2222222222222222,
                          "#7201a8"
                        ],
                        [
                          0.3333333333333333,
                          "#9c179e"
                        ],
                        [
                          0.4444444444444444,
                          "#bd3786"
                        ],
                        [
                          0.5555555555555556,
                          "#d8576b"
                        ],
                        [
                          0.6666666666666666,
                          "#ed7953"
                        ],
                        [
                          0.7777777777777778,
                          "#fb9f3a"
                        ],
                        [
                          0.8888888888888888,
                          "#fdca26"
                        ],
                        [
                          1,
                          "#f0f921"
                        ]
                      ]
                    },
                    "colorway": [
                      "#636efa",
                      "#EF553B",
                      "#00cc96",
                      "#ab63fa",
                      "#FFA15A",
                      "#19d3f3",
                      "#FF6692",
                      "#B6E880",
                      "#FF97FF",
                      "#FECB52"
                    ],
                    "font": {
                      "color": "#2a3f5f"
                    },
                    "geo": {
                      "bgcolor": "white",
                      "lakecolor": "white",
                      "landcolor": "#E5ECF6",
                      "showlakes": true,
                      "showland": true,
                      "subunitcolor": "white"
                    },
                    "hoverlabel": {
                      "align": "left"
                    },
                    "hovermode": "closest",
                    "mapbox": {
                      "style": "light"
                    },
                    "paper_bgcolor": "white",
                    "plot_bgcolor": "#E5ECF6",
                    "polar": {
                      "angularaxis": {
                        "gridcolor": "white",
                        "linecolor": "white",
                        "ticks": ""
                      },
                      "bgcolor": "#E5ECF6",
                      "radialaxis": {
                        "gridcolor": "white",
                        "linecolor": "white",
                        "ticks": ""
                      }
                    },
                    "scene": {
                      "xaxis": {
                        "backgroundcolor": "#E5ECF6",
                        "gridcolor": "white",
                        "gridwidth": 2,
                        "linecolor": "white",
                        "showbackground": true,
                        "ticks": "",
                        "zerolinecolor": "white"
                      },
                      "yaxis": {
                        "backgroundcolor": "#E5ECF6",
                        "gridcolor": "white",
                        "gridwidth": 2,
                        "linecolor": "white",
                        "showbackground": true,
                        "ticks": "",
                        "zerolinecolor": "white"
                      },
                      "zaxis": {
                        "backgroundcolor": "#E5ECF6",
                        "gridcolor": "white",
                        "gridwidth": 2,
                        "linecolor": "white",
                        "showbackground": true,
                        "ticks": "",
                        "zerolinecolor": "white"
                      }
                    },
                    "shapedefaults": {
                      "line": {
                        "color": "#2a3f5f"
                      }
                    },
                    "ternary": {
                      "aaxis": {
                        "gridcolor": "white",
                        "linecolor": "white",
                        "ticks": ""
                      },
                      "baxis": {
                        "gridcolor": "white",
                        "linecolor": "white",
                        "ticks": ""
                      },
                      "bgcolor": "#E5ECF6",
                      "caxis": {
                        "gridcolor": "white",
                        "linecolor": "white",
                        "ticks": ""
                      }
                    },
                    "title": {
                      "x": 0.05
                    },
                    "xaxis": {
                      "automargin": true,
                      "gridcolor": "white",
                      "linecolor": "white",
                      "ticks": "",
                      "title": {
                        "standoff": 15
                      },
                      "zerolinecolor": "white",
                      "zerolinewidth": 2
                    },
                    "yaxis": {
                      "automargin": true,
                      "gridcolor": "white",
                      "linecolor": "white",
                      "ticks": "",
                      "title": {
                        "standoff": 15
                      },
                      "zerolinecolor": "white",
                      "zerolinewidth": 2
                    }
                  }
                },
                "title": {
                  "text": "Loss"
                },
                "xaxis": {
                  "title": {
                    "text": "Batch"
                  }
                },
                "yaxis": {
                  "title": {
                    "text": "Loss"
                  },
                  "type": "log"
                }
              }
            }
          },
          "metadata": {},
          "output_type": "display_data"
        },
        {
          "name": "stdout",
          "output_type": "stream",
          "text": [
            "Finished.\n"
          ]
        }
      ],
      "source": [
        "train(40)"
      ]
    },
    {
      "cell_type": "markdown",
      "metadata": {
        "id": "eoSjln2wSQ8R"
      },
      "source": [
        "## Test your network"
      ]
    },
    {
      "cell_type": "code",
      "execution_count": 11,
      "metadata": {
        "id": "FCk4GYKeR72v"
      },
      "outputs": [],
      "source": [
        "def test():\n",
        "  lenet.eval()\n",
        "  total_correct = 0\n",
        "  for i, (images, labels) in enumerate(data_test_loader):\n",
        "    images = images.to(\"cuda\")\n",
        "    labels = labels.to(\"cuda\")\n",
        "    output = lenet(images)\n",
        "    pred = output.detach().max(1)[1]\n",
        "    total_correct += pred.eq(labels.view_as(pred)).sum()\n",
        "  print(\"Accuracy: %f\" % (float(total_correct) / len(data_test)))\n"
      ]
    },
    {
      "cell_type": "markdown",
      "metadata": {
        "id": "hcSturjQoFPp"
      },
      "source": [
        "You are supposed to get an accuracy > 0.98 in the test set."
      ]
    },
    {
      "cell_type": "code",
      "execution_count": 12,
      "metadata": {
        "id": "e007SM_eTH2g"
      },
      "outputs": [
        {
          "name": "stdout",
          "output_type": "stream",
          "text": [
            "Accuracy: 0.967300\n"
          ]
        }
      ],
      "source": [
        "test()"
      ]
    },
    {
      "cell_type": "code",
      "execution_count": 13,
      "metadata": {
        "id": "QJeM_W30TLQM"
      },
      "outputs": [
        {
          "data": {
            "image/png": "[encoded data removed]",
            "text/plain": [
              "<Figure size 640x480 with 1 Axes>"
            ]
          },
          "metadata": {},
          "output_type": "display_data"
        }
      ],
      "source": [
        "def visualize(idx):\n",
        "  lenet.eval()\n",
        "  image = data_test[idx][0].unsqueeze(0).to(\"cuda\")\n",
        "  label = data_test[idx][1]\n",
        "  output = lenet(image)\n",
        "  pred = output.detach().max(1)[1].cpu()\n",
        "  plt.imshow(image[0][0].cpu(), cmap=\"gray\")\n",
        "  plt.title(f\"Label: {label}, Pred: {pred}\")\n",
        "\n",
        "\n",
        "visualize(100)\n"
      ]
    },
    {
      "cell_type": "code",
      "execution_count": 14,
      "metadata": {
        "id": "xdfSRR3mhAnP"
      },
      "outputs": [
        {
          "data": {
            "application/vnd.plotly.v1+json": {
              "config": {
                "linkText": "Export to plot.ly",
                "plotlyServerURL": "https://plot.ly",
                "showLink": false
              },
              "data": [
                {
                  "type": "scatter",
                  "uid": "4b83920c-6ede-486f-bf96-8e945fe6bb13",
                  "x": [
                    1,
                    2,
                    3
                  ],
                  "y": [
                    4,
                    5,
                    6
                  ]
                }
              ],
              "layout": {
                "template": {
                  "data": {
                    "bar": [
                      {
                        "error_x": {
                          "color": "#2a3f5f"
                        },
                        "error_y": {
                          "color": "#2a3f5f"
                        },
                        "marker": {
                          "line": {
                            "color": "#E5ECF6",
                            "width": 0.5
                          },
                          "pattern": {
                            "fillmode": "overlay",
                            "size": 10,
                            "solidity": 0.2
                          }
                        },
                        "type": "bar"
                      }
                    ],
                    "barpolar": [
                      {
                        "marker": {
                          "line": {
                            "color": "#E5ECF6",
                            "width": 0.5
                          },
                          "pattern": {
                            "fillmode": "overlay",
                            "size": 10,
                            "solidity": 0.2
                          }
                        },
                        "type": "barpolar"
                      }
                    ],
                    "carpet": [
                      {
                        "aaxis": {
                          "endlinecolor": "#2a3f5f",
                          "gridcolor": "white",
                          "linecolor": "white",
                          "minorgridcolor": "white",
                          "startlinecolor": "#2a3f5f"
                        },
                        "baxis": {
                          "endlinecolor": "#2a3f5f",
                          "gridcolor": "white",
                          "linecolor": "white",
                          "minorgridcolor": "white",
                          "startlinecolor": "#2a3f5f"
                        },
                        "type": "carpet"
                      }
                    ],
                    "choropleth": [
                      {
                        "colorbar": {
                          "outlinewidth": 0,
                          "ticks": ""
                        },
                        "type": "choropleth"
                      }
                    ],
                    "contour": [
                      {
                        "colorbar": {
                          "outlinewidth": 0,
                          "ticks": ""
                        },
                        "colorscale": [
                          [
                            0,
                            "#0d0887"
                          ],
                          [
                            0.1111111111111111,
                            "#46039f"
                          ],
                          [
                            0.2222222222222222,
                            "#7201a8"
                          ],
                          [
                            0.3333333333333333,
                            "#9c179e"
                          ],
                          [
                            0.4444444444444444,
                            "#bd3786"
                          ],
                          [
                            0.5555555555555556,
                            "#d8576b"
                          ],
                          [
                            0.6666666666666666,
                            "#ed7953"
                          ],
                          [
                            0.7777777777777778,
                            "#fb9f3a"
                          ],
                          [
                            0.8888888888888888,
                            "#fdca26"
                          ],
                          [
                            1,
                            "#f0f921"
                          ]
                        ],
                        "type": "contour"
                      }
                    ],
                    "contourcarpet": [
                      {
                        "colorbar": {
                          "outlinewidth": 0,
                          "ticks": ""
                        },
                        "type": "contourcarpet"
                      }
                    ],
                    "heatmap": [
                      {
                        "colorbar": {
                          "outlinewidth": 0,
                          "ticks": ""
                        },
                        "colorscale": [
                          [
                            0,
                            "#0d0887"
                          ],
                          [
                            0.1111111111111111,
                            "#46039f"
                          ],
                          [
                            0.2222222222222222,
                            "#7201a8"
                          ],
                          [
                            0.3333333333333333,
                            "#9c179e"
                          ],
                          [
                            0.4444444444444444,
                            "#bd3786"
                          ],
                          [
                            0.5555555555555556,
                            "#d8576b"
                          ],
                          [
                            0.6666666666666666,
                            "#ed7953"
                          ],
                          [
                            0.7777777777777778,
                            "#fb9f3a"
                          ],
                          [
                            0.8888888888888888,
                            "#fdca26"
                          ],
                          [
                            1,
                            "#f0f921"
                          ]
                        ],
                        "type": "heatmap"
                      }
                    ],
                    "heatmapgl": [
                      {
                        "colorbar": {
                          "outlinewidth": 0,
                          "ticks": ""
                        },
                        "colorscale": [
                          [
                            0,
                            "#0d0887"
                          ],
                          [
                            0.1111111111111111,
                            "#46039f"
                          ],
                          [
                            0.2222222222222222,
                            "#7201a8"
                          ],
                          [
                            0.3333333333333333,
                            "#9c179e"
                          ],
                          [
                            0.4444444444444444,
                            "#bd3786"
                          ],
                          [
                            0.5555555555555556,
                            "#d8576b"
                          ],
                          [
                            0.6666666666666666,
                            "#ed7953"
                          ],
                          [
                            0.7777777777777778,
                            "#fb9f3a"
                          ],
                          [
                            0.8888888888888888,
                            "#fdca26"
                          ],
                          [
                            1,
                            "#f0f921"
                          ]
                        ],
                        "type": "heatmapgl"
                      }
                    ],
                    "histogram": [
                      {
                        "marker": {
                          "pattern": {
                            "fillmode": "overlay",
                            "size": 10,
                            "solidity": 0.2
                          }
                        },
                        "type": "histogram"
                      }
                    ],
                    "histogram2d": [
                      {
                        "colorbar": {
                          "outlinewidth": 0,
                          "ticks": ""
                        },
                        "colorscale": [
                          [
                            0,
                            "#0d0887"
                          ],
                          [
                            0.1111111111111111,
                            "#46039f"
                          ],
                          [
                            0.2222222222222222,
                            "#7201a8"
                          ],
                          [
                            0.3333333333333333,
                            "#9c179e"
                          ],
                          [
                            0.4444444444444444,
                            "#bd3786"
                          ],
                          [
                            0.5555555555555556,
                            "#d8576b"
                          ],
                          [
                            0.6666666666666666,
                            "#ed7953"
                          ],
                          [
                            0.7777777777777778,
                            "#fb9f3a"
                          ],
                          [
                            0.8888888888888888,
                            "#fdca26"
                          ],
                          [
                            1,
                            "#f0f921"
                          ]
                        ],
                        "type": "histogram2d"
                      }
                    ],
                    "histogram2dcontour": [
                      {
                        "colorbar": {
                          "outlinewidth": 0,
                          "ticks": ""
                        },
                        "colorscale": [
                          [
                            0,
                            "#0d0887"
                          ],
                          [
                            0.1111111111111111,
                            "#46039f"
                          ],
                          [
                            0.2222222222222222,
                            "#7201a8"
                          ],
                          [
                            0.3333333333333333,
                            "#9c179e"
                          ],
                          [
                            0.4444444444444444,
                            "#bd3786"
                          ],
                          [
                            0.5555555555555556,
                            "#d8576b"
                          ],
                          [
                            0.6666666666666666,
                            "#ed7953"
                          ],
                          [
                            0.7777777777777778,
                            "#fb9f3a"
                          ],
                          [
                            0.8888888888888888,
                            "#fdca26"
                          ],
                          [
                            1,
                            "#f0f921"
                          ]
                        ],
                        "type": "histogram2dcontour"
                      }
                    ],
                    "mesh3d": [
                      {
                        "colorbar": {
                          "outlinewidth": 0,
                          "ticks": ""
                        },
                        "type": "mesh3d"
                      }
                    ],
                    "parcoords": [
                      {
                        "line": {
                          "colorbar": {
                            "outlinewidth": 0,
                            "ticks": ""
                          }
                        },
                        "type": "parcoords"
                      }
                    ],
                    "pie": [
                      {
                        "automargin": true,
                        "type": "pie"
                      }
                    ],
                    "scatter": [
                      {
                        "fillpattern": {
                          "fillmode": "overlay",
                          "size": 10,
                          "solidity": 0.2
                        },
                        "type": "scatter"
                      }
                    ],
                    "scatter3d": [
                      {
                        "line": {
                          "colorbar": {
                            "outlinewidth": 0,
                            "ticks": ""
                          }
                        },
                        "marker": {
                          "colorbar": {
                            "outlinewidth": 0,
                            "ticks": ""
                          }
                        },
                        "type": "scatter3d"
                      }
                    ],
                    "scattercarpet": [
                      {
                        "marker": {
                          "colorbar": {
                            "outlinewidth": 0,
                            "ticks": ""
                          }
                        },
                        "type": "scattercarpet"
                      }
                    ],
                    "scattergeo": [
                      {
                        "marker": {
                          "colorbar": {
                            "outlinewidth": 0,
                            "ticks": ""
                          }
                        },
                        "type": "scattergeo"
                      }
                    ],
                    "scattergl": [
                      {
                        "marker": {
                          "colorbar": {
                            "outlinewidth": 0,
                            "ticks": ""
                          }
                        },
                        "type": "scattergl"
                      }
                    ],
                    "scattermapbox": [
                      {
                        "marker": {
                          "colorbar": {
                            "outlinewidth": 0,
                            "ticks": ""
                          }
                        },
                        "type": "scattermapbox"
                      }
                    ],
                    "scatterpolar": [
                      {
                        "marker": {
                          "colorbar": {
                            "outlinewidth": 0,
                            "ticks": ""
                          }
                        },
                        "type": "scatterpolar"
                      }
                    ],
                    "scatterpolargl": [
                      {
                        "marker": {
                          "colorbar": {
                            "outlinewidth": 0,
                            "ticks": ""
                          }
                        },
                        "type": "scatterpolargl"
                      }
                    ],
                    "scatterternary": [
                      {
                        "marker": {
                          "colorbar": {
                            "outlinewidth": 0,
                            "ticks": ""
                          }
                        },
                        "type": "scatterternary"
                      }
                    ],
                    "surface": [
                      {
                        "colorbar": {
                          "outlinewidth": 0,
                          "ticks": ""
                        },
                        "colorscale": [
                          [
                            0,
                            "#0d0887"
                          ],
                          [
                            0.1111111111111111,
                            "#46039f"
                          ],
                          [
                            0.2222222222222222,
                            "#7201a8"
                          ],
                          [
                            0.3333333333333333,
                            "#9c179e"
                          ],
                          [
                            0.4444444444444444,
                            "#bd3786"
                          ],
                          [
                            0.5555555555555556,
                            "#d8576b"
                          ],
                          [
                            0.6666666666666666,
                            "#ed7953"
                          ],
                          [
                            0.7777777777777778,
                            "#fb9f3a"
                          ],
                          [
                            0.8888888888888888,
                            "#fdca26"
                          ],
                          [
                            1,
                            "#f0f921"
                          ]
                        ],
                        "type": "surface"
                      }
                    ],
                    "table": [
                      {
                        "cells": {
                          "fill": {
                            "color": "#EBF0F8"
                          },
                          "line": {
                            "color": "white"
                          }
                        },
                        "header": {
                          "fill": {
                            "color": "#C8D4E3"
                          },
                          "line": {
                            "color": "white"
                          }
                        },
                        "type": "table"
                      }
                    ]
                  },
                  "layout": {
                    "annotationdefaults": {
                      "arrowcolor": "#2a3f5f",
                      "arrowhead": 0,
                      "arrowwidth": 1
                    },
                    "autotypenumbers": "strict",
                    "coloraxis": {
                      "colorbar": {
                        "outlinewidth": 0,
                        "ticks": ""
                      }
                    },
                    "colorscale": {
                      "diverging": [
                        [
                          0,
                          "#8e0152"
                        ],
                        [
                          0.1,
                          "#c51b7d"
                        ],
                        [
                          0.2,
                          "#de77ae"
                        ],
                        [
                          0.3,
                          "#f1b6da"
                        ],
                        [
                          0.4,
                          "#fde0ef"
                        ],
                        [
                          0.5,
                          "#f7f7f7"
                        ],
                        [
                          0.6,
                          "#e6f5d0"
                        ],
                        [
                          0.7,
                          "#b8e186"
                        ],
                        [
                          0.8,
                          "#7fbc41"
                        ],
                        [
                          0.9,
                          "#4d9221"
                        ],
                        [
                          1,
                          "#276419"
                        ]
                      ],
                      "sequential": [
                        [
                          0,
                          "#0d0887"
                        ],
                        [
                          0.1111111111111111,
                          "#46039f"
                        ],
                        [
                          0.2222222222222222,
                          "#7201a8"
                        ],
                        [
                          0.3333333333333333,
                          "#9c179e"
                        ],
                        [
                          0.4444444444444444,
                          "#bd3786"
                        ],
                        [
                          0.5555555555555556,
                          "#d8576b"
                        ],
                        [
                          0.6666666666666666,
                          "#ed7953"
                        ],
                        [
                          0.7777777777777778,
                          "#fb9f3a"
                        ],
                        [
                          0.8888888888888888,
                          "#fdca26"
                        ],
                        [
                          1,
                          "#f0f921"
                        ]
                      ],
                      "sequentialminus": [
                        [
                          0,
                          "#0d0887"
                        ],
                        [
                          0.1111111111111111,
                          "#46039f"
                        ],
                        [
                          0.2222222222222222,
                          "#7201a8"
                        ],
                        [
                          0.3333333333333333,
                          "#9c179e"
                        ],
                        [
                          0.4444444444444444,
                          "#bd3786"
                        ],
                        [
                          0.5555555555555556,
                          "#d8576b"
                        ],
                        [
                          0.6666666666666666,
                          "#ed7953"
                        ],
                        [
                          0.7777777777777778,
                          "#fb9f3a"
                        ],
                        [
                          0.8888888888888888,
                          "#fdca26"
                        ],
                        [
                          1,
                          "#f0f921"
                        ]
                      ]
                    },
                    "colorway": [
                      "#636efa",
                      "#EF553B",
                      "#00cc96",
                      "#ab63fa",
                      "#FFA15A",
                      "#19d3f3",
                      "#FF6692",
                      "#B6E880",
                      "#FF97FF",
                      "#FECB52"
                    ],
                    "font": {
                      "color": "#2a3f5f"
                    },
                    "geo": {
                      "bgcolor": "white",
                      "lakecolor": "white",
                      "landcolor": "#E5ECF6",
                      "showlakes": true,
                      "showland": true,
                      "subunitcolor": "white"
                    },
                    "hoverlabel": {
                      "align": "left"
                    },
                    "hovermode": "closest",
                    "mapbox": {
                      "style": "light"
                    },
                    "paper_bgcolor": "white",
                    "plot_bgcolor": "#E5ECF6",
                    "polar": {
                      "angularaxis": {
                        "gridcolor": "white",
                        "linecolor": "white",
                        "ticks": ""
                      },
                      "bgcolor": "#E5ECF6",
                      "radialaxis": {
                        "gridcolor": "white",
                        "linecolor": "white",
                        "ticks": ""
                      }
                    },
                    "scene": {
                      "xaxis": {
                        "backgroundcolor": "#E5ECF6",
                        "gridcolor": "white",
                        "gridwidth": 2,
                        "linecolor": "white",
                        "showbackground": true,
                        "ticks": "",
                        "zerolinecolor": "white"
                      },
                      "yaxis": {
                        "backgroundcolor": "#E5ECF6",
                        "gridcolor": "white",
                        "gridwidth": 2,
                        "linecolor": "white",
                        "showbackground": true,
                        "ticks": "",
                        "zerolinecolor": "white"
                      },
                      "zaxis": {
                        "backgroundcolor": "#E5ECF6",
                        "gridcolor": "white",
                        "gridwidth": 2,
                        "linecolor": "white",
                        "showbackground": true,
                        "ticks": "",
                        "zerolinecolor": "white"
                      }
                    },
                    "shapedefaults": {
                      "line": {
                        "color": "#2a3f5f"
                      }
                    },
                    "ternary": {
                      "aaxis": {
                        "gridcolor": "white",
                        "linecolor": "white",
                        "ticks": ""
                      },
                      "baxis": {
                        "gridcolor": "white",
                        "linecolor": "white",
                        "ticks": ""
                      },
                      "bgcolor": "#E5ECF6",
                      "caxis": {
                        "gridcolor": "white",
                        "linecolor": "white",
                        "ticks": ""
                      }
                    },
                    "title": {
                      "x": 0.05
                    },
                    "xaxis": {
                      "automargin": true,
                      "gridcolor": "white",
                      "linecolor": "white",
                      "ticks": "",
                      "title": {
                        "standoff": 15
                      },
                      "zerolinecolor": "white",
                      "zerolinewidth": 2
                    },
                    "yaxis": {
                      "automargin": true,
                      "gridcolor": "white",
                      "linecolor": "white",
                      "ticks": "",
                      "title": {
                        "standoff": 15
                      },
                      "zerolinecolor": "white",
                      "zerolinewidth": 2
                    }
                  }
                }
              }
            }
          },
          "metadata": {},
          "output_type": "display_data"
        }
      ],
      "source": [
        "\n",
        "fig = go.FigureWidget()\n",
        "fig.add_trace(go.Scatter(x=[1, 2, 3], y=[4, 5, 6]))\n",
        "iplot(fig)"
      ]
    },
    {
      "cell_type": "code",
      "execution_count": 15,
      "metadata": {},
      "outputs": [
        {
          "data": {
            "application/vnd.jupyter.widget-view+json": {
              "model_id": "a540d5f1d46c4bdc8a9b4a2f0a9b22a1",
              "version_major": 2,
              "version_minor": 0
            },
            "text/plain": [
              "FigureWidget({\n",
              "    'data': [{'type': 'scatter', 'uid': '4b83920c-6ede-486f-bf96-8e945fe6bb13', 'x': [1, 2, 3], 'y': [4, 5, 6]},\n",
              "             {'type': 'scatter', 'uid': '47b486fd-47ef-44e9-a247-4294e171d493', 'x': [1, 2, 3], 'y': [-4, -5, 0]}],\n",
              "    'layout': {'template': '...'}\n",
              "})"
            ]
          },
          "execution_count": 15,
          "metadata": {},
          "output_type": "execute_result"
        }
      ],
      "source": [
        "fig.add_trace(go.Scatter(x=[1, 2, 3], y=[-4, -5, 0]))\n",
        "fig"
      ]
    },
    {
      "cell_type": "code",
      "execution_count": 16,
      "metadata": {},
      "outputs": [
        {
          "data": {
            "application/vnd.jupyter.widget-view+json": {
              "model_id": "a540d5f1d46c4bdc8a9b4a2f0a9b22a1",
              "version_major": 2,
              "version_minor": 0
            },
            "text/plain": [
              "FigureWidget({\n",
              "    'data': [{'type': 'scatter', 'uid': '4b83920c-6ede-486f-bf96-8e945fe6bb13', 'x': [1, 2, 3], 'y': [4, 5, 6]},\n",
              "             {'type': 'scatter', 'uid': '47b486fd-47ef-44e9-a247-4294e171d493', 'x': [1, 2, 3], 'y': [-4, -5, 0]}],\n",
              "    'layout': {'template': '...'}\n",
              "})"
            ]
          },
          "execution_count": 16,
          "metadata": {},
          "output_type": "execute_result"
        }
      ],
      "source": [
        "fig.update(dict(data={\"y\": [9, 4, 6]}))"
      ]
    },
    {
      "cell_type": "code",
      "execution_count": 17,
      "metadata": {},
      "outputs": [
        {
          "data": {
            "text/plain": [
              "(Scatter({\n",
              "     'uid': '4b83920c-6ede-486f-bf96-8e945fe6bb13', 'x': [1, 2, 3], 'y': [4, 5, 6]\n",
              " }),\n",
              " Scatter({\n",
              "     'uid': '47b486fd-47ef-44e9-a247-4294e171d493', 'x': [1, 2, 3], 'y': [-4, -5, 0]\n",
              " }))"
            ]
          },
          "execution_count": 17,
          "metadata": {},
          "output_type": "execute_result"
        }
      ],
      "source": [
        "fig.data"
      ]
    },
    {
      "cell_type": "code",
      "execution_count": 18,
      "metadata": {},
      "outputs": [
        {
          "data": {
            "application/vnd.plotly.v1+json": {
              "config": {
                "plotlyServerURL": "https://plot.ly"
              },
              "data": [
                {
                  "type": "scatter",
                  "uid": "4b83920c-6ede-486f-bf96-8e945fe6bb13",
                  "x": [
                    1,
                    2,
                    3
                  ],
                  "y": [
                    4,
                    5,
                    6
                  ]
                },
                {
                  "type": "scatter",
                  "uid": "47b486fd-47ef-44e9-a247-4294e171d493",
                  "x": [
                    1,
                    2,
                    3
                  ],
                  "y": [
                    -4,
                    -5,
                    0
                  ]
                }
              ],
              "layout": {
                "template": {
                  "data": {
                    "bar": [
                      {
                        "error_x": {
                          "color": "#2a3f5f"
                        },
                        "error_y": {
                          "color": "#2a3f5f"
                        },
                        "marker": {
                          "line": {
                            "color": "#E5ECF6",
                            "width": 0.5
                          },
                          "pattern": {
                            "fillmode": "overlay",
                            "size": 10,
                            "solidity": 0.2
                          }
                        },
                        "type": "bar"
                      }
                    ],
                    "barpolar": [
                      {
                        "marker": {
                          "line": {
                            "color": "#E5ECF6",
                            "width": 0.5
                          },
                          "pattern": {
                            "fillmode": "overlay",
                            "size": 10,
                            "solidity": 0.2
                          }
                        },
                        "type": "barpolar"
                      }
                    ],
                    "carpet": [
                      {
                        "aaxis": {
                          "endlinecolor": "#2a3f5f",
                          "gridcolor": "white",
                          "linecolor": "white",
                          "minorgridcolor": "white",
                          "startlinecolor": "#2a3f5f"
                        },
                        "baxis": {
                          "endlinecolor": "#2a3f5f",
                          "gridcolor": "white",
                          "linecolor": "white",
                          "minorgridcolor": "white",
                          "startlinecolor": "#2a3f5f"
                        },
                        "type": "carpet"
                      }
                    ],
                    "choropleth": [
                      {
                        "colorbar": {
                          "outlinewidth": 0,
                          "ticks": ""
                        },
                        "type": "choropleth"
                      }
                    ],
                    "contour": [
                      {
                        "colorbar": {
                          "outlinewidth": 0,
                          "ticks": ""
                        },
                        "colorscale": [
                          [
                            0,
                            "#0d0887"
                          ],
                          [
                            0.1111111111111111,
                            "#46039f"
                          ],
                          [
                            0.2222222222222222,
                            "#7201a8"
                          ],
                          [
                            0.3333333333333333,
                            "#9c179e"
                          ],
                          [
                            0.4444444444444444,
                            "#bd3786"
                          ],
                          [
                            0.5555555555555556,
                            "#d8576b"
                          ],
                          [
                            0.6666666666666666,
                            "#ed7953"
                          ],
                          [
                            0.7777777777777778,
                            "#fb9f3a"
                          ],
                          [
                            0.8888888888888888,
                            "#fdca26"
                          ],
                          [
                            1,
                            "#f0f921"
                          ]
                        ],
                        "type": "contour"
                      }
                    ],
                    "contourcarpet": [
                      {
                        "colorbar": {
                          "outlinewidth": 0,
                          "ticks": ""
                        },
                        "type": "contourcarpet"
                      }
                    ],
                    "heatmap": [
                      {
                        "colorbar": {
                          "outlinewidth": 0,
                          "ticks": ""
                        },
                        "colorscale": [
                          [
                            0,
                            "#0d0887"
                          ],
                          [
                            0.1111111111111111,
                            "#46039f"
                          ],
                          [
                            0.2222222222222222,
                            "#7201a8"
                          ],
                          [
                            0.3333333333333333,
                            "#9c179e"
                          ],
                          [
                            0.4444444444444444,
                            "#bd3786"
                          ],
                          [
                            0.5555555555555556,
                            "#d8576b"
                          ],
                          [
                            0.6666666666666666,
                            "#ed7953"
                          ],
                          [
                            0.7777777777777778,
                            "#fb9f3a"
                          ],
                          [
                            0.8888888888888888,
                            "#fdca26"
                          ],
                          [
                            1,
                            "#f0f921"
                          ]
                        ],
                        "type": "heatmap"
                      }
                    ],
                    "heatmapgl": [
                      {
                        "colorbar": {
                          "outlinewidth": 0,
                          "ticks": ""
                        },
                        "colorscale": [
                          [
                            0,
                            "#0d0887"
                          ],
                          [
                            0.1111111111111111,
                            "#46039f"
                          ],
                          [
                            0.2222222222222222,
                            "#7201a8"
                          ],
                          [
                            0.3333333333333333,
                            "#9c179e"
                          ],
                          [
                            0.4444444444444444,
                            "#bd3786"
                          ],
                          [
                            0.5555555555555556,
                            "#d8576b"
                          ],
                          [
                            0.6666666666666666,
                            "#ed7953"
                          ],
                          [
                            0.7777777777777778,
                            "#fb9f3a"
                          ],
                          [
                            0.8888888888888888,
                            "#fdca26"
                          ],
                          [
                            1,
                            "#f0f921"
                          ]
                        ],
                        "type": "heatmapgl"
                      }
                    ],
                    "histogram": [
                      {
                        "marker": {
                          "pattern": {
                            "fillmode": "overlay",
                            "size": 10,
                            "solidity": 0.2
                          }
                        },
                        "type": "histogram"
                      }
                    ],
                    "histogram2d": [
                      {
                        "colorbar": {
                          "outlinewidth": 0,
                          "ticks": ""
                        },
                        "colorscale": [
                          [
                            0,
                            "#0d0887"
                          ],
                          [
                            0.1111111111111111,
                            "#46039f"
                          ],
                          [
                            0.2222222222222222,
                            "#7201a8"
                          ],
                          [
                            0.3333333333333333,
                            "#9c179e"
                          ],
                          [
                            0.4444444444444444,
                            "#bd3786"
                          ],
                          [
                            0.5555555555555556,
                            "#d8576b"
                          ],
                          [
                            0.6666666666666666,
                            "#ed7953"
                          ],
                          [
                            0.7777777777777778,
                            "#fb9f3a"
                          ],
                          [
                            0.8888888888888888,
                            "#fdca26"
                          ],
                          [
                            1,
                            "#f0f921"
                          ]
                        ],
                        "type": "histogram2d"
                      }
                    ],
                    "histogram2dcontour": [
                      {
                        "colorbar": {
                          "outlinewidth": 0,
                          "ticks": ""
                        },
                        "colorscale": [
                          [
                            0,
                            "#0d0887"
                          ],
                          [
                            0.1111111111111111,
                            "#46039f"
                          ],
                          [
                            0.2222222222222222,
                            "#7201a8"
                          ],
                          [
                            0.3333333333333333,
                            "#9c179e"
                          ],
                          [
                            0.4444444444444444,
                            "#bd3786"
                          ],
                          [
                            0.5555555555555556,
                            "#d8576b"
                          ],
                          [
                            0.6666666666666666,
                            "#ed7953"
                          ],
                          [
                            0.7777777777777778,
                            "#fb9f3a"
                          ],
                          [
                            0.8888888888888888,
                            "#fdca26"
                          ],
                          [
                            1,
                            "#f0f921"
                          ]
                        ],
                        "type": "histogram2dcontour"
                      }
                    ],
                    "mesh3d": [
                      {
                        "colorbar": {
                          "outlinewidth": 0,
                          "ticks": ""
                        },
                        "type": "mesh3d"
                      }
                    ],
                    "parcoords": [
                      {
                        "line": {
                          "colorbar": {
                            "outlinewidth": 0,
                            "ticks": ""
                          }
                        },
                        "type": "parcoords"
                      }
                    ],
                    "pie": [
                      {
                        "automargin": true,
                        "type": "pie"
                      }
                    ],
                    "scatter": [
                      {
                        "fillpattern": {
                          "fillmode": "overlay",
                          "size": 10,
                          "solidity": 0.2
                        },
                        "type": "scatter"
                      }
                    ],
                    "scatter3d": [
                      {
                        "line": {
                          "colorbar": {
                            "outlinewidth": 0,
                            "ticks": ""
                          }
                        },
                        "marker": {
                          "colorbar": {
                            "outlinewidth": 0,
                            "ticks": ""
                          }
                        },
                        "type": "scatter3d"
                      }
                    ],
                    "scattercarpet": [
                      {
                        "marker": {
                          "colorbar": {
                            "outlinewidth": 0,
                            "ticks": ""
                          }
                        },
                        "type": "scattercarpet"
                      }
                    ],
                    "scattergeo": [
                      {
                        "marker": {
                          "colorbar": {
                            "outlinewidth": 0,
                            "ticks": ""
                          }
                        },
                        "type": "scattergeo"
                      }
                    ],
                    "scattergl": [
                      {
                        "marker": {
                          "colorbar": {
                            "outlinewidth": 0,
                            "ticks": ""
                          }
                        },
                        "type": "scattergl"
                      }
                    ],
                    "scattermapbox": [
                      {
                        "marker": {
                          "colorbar": {
                            "outlinewidth": 0,
                            "ticks": ""
                          }
                        },
                        "type": "scattermapbox"
                      }
                    ],
                    "scatterpolar": [
                      {
                        "marker": {
                          "colorbar": {
                            "outlinewidth": 0,
                            "ticks": ""
                          }
                        },
                        "type": "scatterpolar"
                      }
                    ],
                    "scatterpolargl": [
                      {
                        "marker": {
                          "colorbar": {
                            "outlinewidth": 0,
                            "ticks": ""
                          }
                        },
                        "type": "scatterpolargl"
                      }
                    ],
                    "scatterternary": [
                      {
                        "marker": {
                          "colorbar": {
                            "outlinewidth": 0,
                            "ticks": ""
                          }
                        },
                        "type": "scatterternary"
                      }
                    ],
                    "surface": [
                      {
                        "colorbar": {
                          "outlinewidth": 0,
                          "ticks": ""
                        },
                        "colorscale": [
                          [
                            0,
                            "#0d0887"
                          ],
                          [
                            0.1111111111111111,
                            "#46039f"
                          ],
                          [
                            0.2222222222222222,
                            "#7201a8"
                          ],
                          [
                            0.3333333333333333,
                            "#9c179e"
                          ],
                          [
                            0.4444444444444444,
                            "#bd3786"
                          ],
                          [
                            0.5555555555555556,
                            "#d8576b"
                          ],
                          [
                            0.6666666666666666,
                            "#ed7953"
                          ],
                          [
                            0.7777777777777778,
                            "#fb9f3a"
                          ],
                          [
                            0.8888888888888888,
                            "#fdca26"
                          ],
                          [
                            1,
                            "#f0f921"
                          ]
                        ],
                        "type": "surface"
                      }
                    ],
                    "table": [
                      {
                        "cells": {
                          "fill": {
                            "color": "#EBF0F8"
                          },
                          "line": {
                            "color": "white"
                          }
                        },
                        "header": {
                          "fill": {
                            "color": "#C8D4E3"
                          },
                          "line": {
                            "color": "white"
                          }
                        },
                        "type": "table"
                      }
                    ]
                  },
                  "layout": {
                    "annotationdefaults": {
                      "arrowcolor": "#2a3f5f",
                      "arrowhead": 0,
                      "arrowwidth": 1
                    },
                    "autotypenumbers": "strict",
                    "coloraxis": {
                      "colorbar": {
                        "outlinewidth": 0,
                        "ticks": ""
                      }
                    },
                    "colorscale": {
                      "diverging": [
                        [
                          0,
                          "#8e0152"
                        ],
                        [
                          0.1,
                          "#c51b7d"
                        ],
                        [
                          0.2,
                          "#de77ae"
                        ],
                        [
                          0.3,
                          "#f1b6da"
                        ],
                        [
                          0.4,
                          "#fde0ef"
                        ],
                        [
                          0.5,
                          "#f7f7f7"
                        ],
                        [
                          0.6,
                          "#e6f5d0"
                        ],
                        [
                          0.7,
                          "#b8e186"
                        ],
                        [
                          0.8,
                          "#7fbc41"
                        ],
                        [
                          0.9,
                          "#4d9221"
                        ],
                        [
                          1,
                          "#276419"
                        ]
                      ],
                      "sequential": [
                        [
                          0,
                          "#0d0887"
                        ],
                        [
                          0.1111111111111111,
                          "#46039f"
                        ],
                        [
                          0.2222222222222222,
                          "#7201a8"
                        ],
                        [
                          0.3333333333333333,
                          "#9c179e"
                        ],
                        [
                          0.4444444444444444,
                          "#bd3786"
                        ],
                        [
                          0.5555555555555556,
                          "#d8576b"
                        ],
                        [
                          0.6666666666666666,
                          "#ed7953"
                        ],
                        [
                          0.7777777777777778,
                          "#fb9f3a"
                        ],
                        [
                          0.8888888888888888,
                          "#fdca26"
                        ],
                        [
                          1,
                          "#f0f921"
                        ]
                      ],
                      "sequentialminus": [
                        [
                          0,
                          "#0d0887"
                        ],
                        [
                          0.1111111111111111,
                          "#46039f"
                        ],
                        [
                          0.2222222222222222,
                          "#7201a8"
                        ],
                        [
                          0.3333333333333333,
                          "#9c179e"
                        ],
                        [
                          0.4444444444444444,
                          "#bd3786"
                        ],
                        [
                          0.5555555555555556,
                          "#d8576b"
                        ],
                        [
                          0.6666666666666666,
                          "#ed7953"
                        ],
                        [
                          0.7777777777777778,
                          "#fb9f3a"
                        ],
                        [
                          0.8888888888888888,
                          "#fdca26"
                        ],
                        [
                          1,
                          "#f0f921"
                        ]
                      ]
                    },
                    "colorway": [
                      "#636efa",
                      "#EF553B",
                      "#00cc96",
                      "#ab63fa",
                      "#FFA15A",
                      "#19d3f3",
                      "#FF6692",
                      "#B6E880",
                      "#FF97FF",
                      "#FECB52"
                    ],
                    "font": {
                      "color": "#2a3f5f"
                    },
                    "geo": {
                      "bgcolor": "white",
                      "lakecolor": "white",
                      "landcolor": "#E5ECF6",
                      "showlakes": true,
                      "showland": true,
                      "subunitcolor": "white"
                    },
                    "hoverlabel": {
                      "align": "left"
                    },
                    "hovermode": "closest",
                    "mapbox": {
                      "style": "light"
                    },
                    "paper_bgcolor": "white",
                    "plot_bgcolor": "#E5ECF6",
                    "polar": {
                      "angularaxis": {
                        "gridcolor": "white",
                        "linecolor": "white",
                        "ticks": ""
                      },
                      "bgcolor": "#E5ECF6",
                      "radialaxis": {
                        "gridcolor": "white",
                        "linecolor": "white",
                        "ticks": ""
                      }
                    },
                    "scene": {
                      "xaxis": {
                        "backgroundcolor": "#E5ECF6",
                        "gridcolor": "white",
                        "gridwidth": 2,
                        "linecolor": "white",
                        "showbackground": true,
                        "ticks": "",
                        "zerolinecolor": "white"
                      },
                      "yaxis": {
                        "backgroundcolor": "#E5ECF6",
                        "gridcolor": "white",
                        "gridwidth": 2,
                        "linecolor": "white",
                        "showbackground": true,
                        "ticks": "",
                        "zerolinecolor": "white"
                      },
                      "zaxis": {
                        "backgroundcolor": "#E5ECF6",
                        "gridcolor": "white",
                        "gridwidth": 2,
                        "linecolor": "white",
                        "showbackground": true,
                        "ticks": "",
                        "zerolinecolor": "white"
                      }
                    },
                    "shapedefaults": {
                      "line": {
                        "color": "#2a3f5f"
                      }
                    },
                    "ternary": {
                      "aaxis": {
                        "gridcolor": "white",
                        "linecolor": "white",
                        "ticks": ""
                      },
                      "baxis": {
                        "gridcolor": "white",
                        "linecolor": "white",
                        "ticks": ""
                      },
                      "bgcolor": "#E5ECF6",
                      "caxis": {
                        "gridcolor": "white",
                        "linecolor": "white",
                        "ticks": ""
                      }
                    },
                    "title": {
                      "x": 0.05
                    },
                    "xaxis": {
                      "automargin": true,
                      "gridcolor": "white",
                      "linecolor": "white",
                      "ticks": "",
                      "title": {
                        "standoff": 15
                      },
                      "zerolinecolor": "white",
                      "zerolinewidth": 2
                    },
                    "yaxis": {
                      "automargin": true,
                      "gridcolor": "white",
                      "linecolor": "white",
                      "ticks": "",
                      "title": {
                        "standoff": 15
                      },
                      "zerolinecolor": "white",
                      "zerolinewidth": 2
                    }
                  }
                }
              }
            }
          },
          "metadata": {},
          "output_type": "display_data"
        }
      ],
      "source": [
        "fig.show()"
      ]
    }
  ],
  "metadata": {
    "accelerator": "GPU",
    "colab": {
      "provenance": []
    },
    "kernelspec": {
      "display_name": "Python 3",
      "language": "python",
      "name": "python3"
    },
    "language_info": {
      "codemirror_mode": {
        "name": "ipython",
        "version": 3
      },
      "file_extension": ".py",
      "mimetype": "text/x-python",
      "name": "python",
      "nbconvert_exporter": "python",
      "pygments_lexer": "ipython3",
      "version": "3.10.6"
    },
    "vscode": {
      "interpreter": {
        "hash": "8a94588eda9d64d9e9a351ab8144e55b1fabf5113b54e67dd26a8c27df0381b3"
      }
    },
    "widgets": {
      "application/vnd.jupyter.widget-state+json": {
        "0310f82ffff547eaba365420255c2db4": {
          "model_module": "@jupyter-widgets/controls",
          "model_module_version": "1.5.0",
          "model_name": "FloatProgressModel",
          "state": {
            "_dom_classes": [],
            "_model_module": "@jupyter-widgets/controls",
            "_model_module_version": "1.5.0",
            "_model_name": "FloatProgressModel",
            "_view_count": null,
            "_view_module": "@jupyter-widgets/controls",
            "_view_module_version": "1.5.0",
            "_view_name": "ProgressView",
            "bar_style": "success",
            "description": "",
            "description_tooltip": null,
            "layout": "IPY_MODEL_61ee3af9a10f47c6819f43ff6000c795",
            "max": 1648877,
            "min": 0,
            "orientation": "horizontal",
            "style": "IPY_MODEL_5b27c52b4daa48ceaa6345fba7e58781",
            "value": 1648877
          }
        },
        "03926e8d8ed74344a8ff2cb9b9c7cee7": {
          "model_module": "@jupyter-widgets/controls",
          "model_module_version": "1.5.0",
          "model_name": "HTMLModel",
          "state": {
            "_dom_classes": [],
            "_model_module": "@jupyter-widgets/controls",
            "_model_module_version": "1.5.0",
            "_model_name": "HTMLModel",
            "_view_count": null,
            "_view_module": "@jupyter-widgets/controls",
            "_view_module_version": "1.5.0",
            "_view_name": "HTMLView",
            "description": "",
            "description_tooltip": null,
            "layout": "IPY_MODEL_c40bb42c51684a5c8963d496173e50b7",
            "placeholder": "​",
            "style": "IPY_MODEL_2ed0eb34ec6c4e56a90086393bfca062",
            "value": " 1649664/? [00:00&lt;00:00, 17973888.88it/s]"
          }
        },
        "0490ed83aea54c579db8405c8d623df1": {
          "model_module": "@jupyter-widgets/controls",
          "model_module_version": "1.5.0",
          "model_name": "ProgressStyleModel",
          "state": {
            "_model_module": "@jupyter-widgets/controls",
            "_model_module_version": "1.5.0",
            "_model_name": "ProgressStyleModel",
            "_view_count": null,
            "_view_module": "@jupyter-widgets/base",
            "_view_module_version": "1.2.0",
            "_view_name": "StyleView",
            "bar_color": null,
            "description_width": ""
          }
        },
        "0734e74d0fc04703963e3618e5d621ef": {
          "model_module": "@jupyter-widgets/controls",
          "model_module_version": "1.5.0",
          "model_name": "DescriptionStyleModel",
          "state": {
            "_model_module": "@jupyter-widgets/controls",
            "_model_module_version": "1.5.0",
            "_model_name": "DescriptionStyleModel",
            "_view_count": null,
            "_view_module": "@jupyter-widgets/base",
            "_view_module_version": "1.2.0",
            "_view_name": "StyleView",
            "description_width": ""
          }
        },
        "1881929b93394b5998bc7343c1d67d3d": {
          "model_module": "@jupyter-widgets/controls",
          "model_module_version": "1.5.0",
          "model_name": "FloatProgressModel",
          "state": {
            "_dom_classes": [],
            "_model_module": "@jupyter-widgets/controls",
            "_model_module_version": "1.5.0",
            "_model_name": "FloatProgressModel",
            "_view_count": null,
            "_view_module": "@jupyter-widgets/controls",
            "_view_module_version": "1.5.0",
            "_view_name": "ProgressView",
            "bar_style": "success",
            "description": "",
            "description_tooltip": null,
            "layout": "IPY_MODEL_bc2b1fc0f1634cfaa6c97efba459fba7",
            "max": 28881,
            "min": 0,
            "orientation": "horizontal",
            "style": "IPY_MODEL_bed66781a6f34d2786af8ead767bee1b",
            "value": 28881
          }
        },
        "2c79bfac29674a7087b3d39593375a04": {
          "model_module": "@jupyter-widgets/controls",
          "model_module_version": "1.5.0",
          "model_name": "HTMLModel",
          "state": {
            "_dom_classes": [],
            "_model_module": "@jupyter-widgets/controls",
            "_model_module_version": "1.5.0",
            "_model_name": "HTMLModel",
            "_view_count": null,
            "_view_module": "@jupyter-widgets/controls",
            "_view_module_version": "1.5.0",
            "_view_name": "HTMLView",
            "description": "",
            "description_tooltip": null,
            "layout": "IPY_MODEL_4bb4cef3b95c493f87c1ec3437b4e09d",
            "placeholder": "​",
            "style": "IPY_MODEL_0734e74d0fc04703963e3618e5d621ef",
            "value": ""
          }
        },
        "2d7bf5ab257344768b16656eb66b95c2": {
          "model_module": "@jupyter-widgets/base",
          "model_module_version": "1.2.0",
          "model_name": "LayoutModel",
          "state": {
            "_model_module": "@jupyter-widgets/base",
            "_model_module_version": "1.2.0",
            "_model_name": "LayoutModel",
            "_view_count": null,
            "_view_module": "@jupyter-widgets/base",
            "_view_module_version": "1.2.0",
            "_view_name": "LayoutView",
            "align_content": null,
            "align_items": null,
            "align_self": null,
            "border": null,
            "bottom": null,
            "display": null,
            "flex": null,
            "flex_flow": null,
            "grid_area": null,
            "grid_auto_columns": null,
            "grid_auto_flow": null,
            "grid_auto_rows": null,
            "grid_column": null,
            "grid_gap": null,
            "grid_row": null,
            "grid_template_areas": null,
            "grid_template_columns": null,
            "grid_template_rows": null,
            "height": null,
            "justify_content": null,
            "justify_items": null,
            "left": null,
            "margin": null,
            "max_height": null,
            "max_width": null,
            "min_height": null,
            "min_width": null,
            "object_fit": null,
            "object_position": null,
            "order": null,
            "overflow": null,
            "overflow_x": null,
            "overflow_y": null,
            "padding": null,
            "right": null,
            "top": null,
            "visibility": null,
            "width": null
          }
        },
        "2ed0eb34ec6c4e56a90086393bfca062": {
          "model_module": "@jupyter-widgets/controls",
          "model_module_version": "1.5.0",
          "model_name": "DescriptionStyleModel",
          "state": {
            "_model_module": "@jupyter-widgets/controls",
            "_model_module_version": "1.5.0",
            "_model_name": "DescriptionStyleModel",
            "_view_count": null,
            "_view_module": "@jupyter-widgets/base",
            "_view_module_version": "1.2.0",
            "_view_name": "StyleView",
            "description_width": ""
          }
        },
        "33b44d22ad704be78a1f7008fa4f31dd": {
          "model_module": "@jupyter-widgets/base",
          "model_module_version": "1.2.0",
          "model_name": "LayoutModel",
          "state": {
            "_model_module": "@jupyter-widgets/base",
            "_model_module_version": "1.2.0",
            "_model_name": "LayoutModel",
            "_view_count": null,
            "_view_module": "@jupyter-widgets/base",
            "_view_module_version": "1.2.0",
            "_view_name": "LayoutView",
            "align_content": null,
            "align_items": null,
            "align_self": null,
            "border": null,
            "bottom": null,
            "display": null,
            "flex": null,
            "flex_flow": null,
            "grid_area": null,
            "grid_auto_columns": null,
            "grid_auto_flow": null,
            "grid_auto_rows": null,
            "grid_column": null,
            "grid_gap": null,
            "grid_row": null,
            "grid_template_areas": null,
            "grid_template_columns": null,
            "grid_template_rows": null,
            "height": null,
            "justify_content": null,
            "justify_items": null,
            "left": null,
            "margin": null,
            "max_height": null,
            "max_width": null,
            "min_height": null,
            "min_width": null,
            "object_fit": null,
            "object_position": null,
            "order": null,
            "overflow": null,
            "overflow_x": null,
            "overflow_y": null,
            "padding": null,
            "right": null,
            "top": null,
            "visibility": null,
            "width": null
          }
        },
        "34774b94dcd64cf0865864bbe4e07a4f": {
          "model_module": "@jupyter-widgets/controls",
          "model_module_version": "1.5.0",
          "model_name": "DescriptionStyleModel",
          "state": {
            "_model_module": "@jupyter-widgets/controls",
            "_model_module_version": "1.5.0",
            "_model_name": "DescriptionStyleModel",
            "_view_count": null,
            "_view_module": "@jupyter-widgets/base",
            "_view_module_version": "1.2.0",
            "_view_name": "StyleView",
            "description_width": ""
          }
        },
        "3979ba1138d84ee0b8a7a5a90613a5bd": {
          "model_module": "@jupyter-widgets/base",
          "model_module_version": "1.2.0",
          "model_name": "LayoutModel",
          "state": {
            "_model_module": "@jupyter-widgets/base",
            "_model_module_version": "1.2.0",
            "_model_name": "LayoutModel",
            "_view_count": null,
            "_view_module": "@jupyter-widgets/base",
            "_view_module_version": "1.2.0",
            "_view_name": "LayoutView",
            "align_content": null,
            "align_items": null,
            "align_self": null,
            "border": null,
            "bottom": null,
            "display": null,
            "flex": null,
            "flex_flow": null,
            "grid_area": null,
            "grid_auto_columns": null,
            "grid_auto_flow": null,
            "grid_auto_rows": null,
            "grid_column": null,
            "grid_gap": null,
            "grid_row": null,
            "grid_template_areas": null,
            "grid_template_columns": null,
            "grid_template_rows": null,
            "height": null,
            "justify_content": null,
            "justify_items": null,
            "left": null,
            "margin": null,
            "max_height": null,
            "max_width": null,
            "min_height": null,
            "min_width": null,
            "object_fit": null,
            "object_position": null,
            "order": null,
            "overflow": null,
            "overflow_x": null,
            "overflow_y": null,
            "padding": null,
            "right": null,
            "top": null,
            "visibility": null,
            "width": null
          }
        },
        "3a979602420b4640a4978fdc7fbc13e2": {
          "model_module": "@jupyter-widgets/controls",
          "model_module_version": "1.5.0",
          "model_name": "HTMLModel",
          "state": {
            "_dom_classes": [],
            "_model_module": "@jupyter-widgets/controls",
            "_model_module_version": "1.5.0",
            "_model_name": "HTMLModel",
            "_view_count": null,
            "_view_module": "@jupyter-widgets/controls",
            "_view_module_version": "1.5.0",
            "_view_name": "HTMLView",
            "description": "",
            "description_tooltip": null,
            "layout": "IPY_MODEL_8b1e795992a948aa8a853f94c99c555f",
            "placeholder": "​",
            "style": "IPY_MODEL_f3274bc3d55942e4bb35c7beef722c92",
            "value": " 5120/? [00:00&lt;00:00, 134463.12it/s]"
          }
        },
        "3b6a15d5d0d64e1db3febf76d91db77b": {
          "model_module": "@jupyter-widgets/controls",
          "model_module_version": "1.5.0",
          "model_name": "HTMLModel",
          "state": {
            "_dom_classes": [],
            "_model_module": "@jupyter-widgets/controls",
            "_model_module_version": "1.5.0",
            "_model_name": "HTMLModel",
            "_view_count": null,
            "_view_module": "@jupyter-widgets/controls",
            "_view_module_version": "1.5.0",
            "_view_name": "HTMLView",
            "description": "",
            "description_tooltip": null,
            "layout": "IPY_MODEL_6bc3c9e7a36c4764a1c6bb5c74d434d1",
            "placeholder": "​",
            "style": "IPY_MODEL_34774b94dcd64cf0865864bbe4e07a4f",
            "value": ""
          }
        },
        "3c8d7d4c604b44cf8de9b19855eeefc3": {
          "model_module": "@jupyter-widgets/controls",
          "model_module_version": "1.5.0",
          "model_name": "DescriptionStyleModel",
          "state": {
            "_model_module": "@jupyter-widgets/controls",
            "_model_module_version": "1.5.0",
            "_model_name": "DescriptionStyleModel",
            "_view_count": null,
            "_view_module": "@jupyter-widgets/base",
            "_view_module_version": "1.2.0",
            "_view_name": "StyleView",
            "description_width": ""
          }
        },
        "3dfd4ad73a83454da7c7a9313f018cd7": {
          "model_module": "@jupyter-widgets/controls",
          "model_module_version": "1.5.0",
          "model_name": "HTMLModel",
          "state": {
            "_dom_classes": [],
            "_model_module": "@jupyter-widgets/controls",
            "_model_module_version": "1.5.0",
            "_model_name": "HTMLModel",
            "_view_count": null,
            "_view_module": "@jupyter-widgets/controls",
            "_view_module_version": "1.5.0",
            "_view_name": "HTMLView",
            "description": "",
            "description_tooltip": null,
            "layout": "IPY_MODEL_b1fddefb602e4437a4905a4d69d79fab",
            "placeholder": "​",
            "style": "IPY_MODEL_5dc170923ee24564bdcaa7ae48949e08",
            "value": ""
          }
        },
        "4119697353754445b5680c2ab1036577": {
          "model_module": "@jupyter-widgets/controls",
          "model_module_version": "1.5.0",
          "model_name": "DescriptionStyleModel",
          "state": {
            "_model_module": "@jupyter-widgets/controls",
            "_model_module_version": "1.5.0",
            "_model_name": "DescriptionStyleModel",
            "_view_count": null,
            "_view_module": "@jupyter-widgets/base",
            "_view_module_version": "1.2.0",
            "_view_name": "StyleView",
            "description_width": ""
          }
        },
        "4794cdc4c77d4b9a92197fd1d5deb87e": {
          "model_module": "@jupyter-widgets/base",
          "model_module_version": "1.2.0",
          "model_name": "LayoutModel",
          "state": {
            "_model_module": "@jupyter-widgets/base",
            "_model_module_version": "1.2.0",
            "_model_name": "LayoutModel",
            "_view_count": null,
            "_view_module": "@jupyter-widgets/base",
            "_view_module_version": "1.2.0",
            "_view_name": "LayoutView",
            "align_content": null,
            "align_items": null,
            "align_self": null,
            "border": null,
            "bottom": null,
            "display": null,
            "flex": null,
            "flex_flow": null,
            "grid_area": null,
            "grid_auto_columns": null,
            "grid_auto_flow": null,
            "grid_auto_rows": null,
            "grid_column": null,
            "grid_gap": null,
            "grid_row": null,
            "grid_template_areas": null,
            "grid_template_columns": null,
            "grid_template_rows": null,
            "height": null,
            "justify_content": null,
            "justify_items": null,
            "left": null,
            "margin": null,
            "max_height": null,
            "max_width": null,
            "min_height": null,
            "min_width": null,
            "object_fit": null,
            "object_position": null,
            "order": null,
            "overflow": null,
            "overflow_x": null,
            "overflow_y": null,
            "padding": null,
            "right": null,
            "top": null,
            "visibility": null,
            "width": null
          }
        },
        "4bb4cef3b95c493f87c1ec3437b4e09d": {
          "model_module": "@jupyter-widgets/base",
          "model_module_version": "1.2.0",
          "model_name": "LayoutModel",
          "state": {
            "_model_module": "@jupyter-widgets/base",
            "_model_module_version": "1.2.0",
            "_model_name": "LayoutModel",
            "_view_count": null,
            "_view_module": "@jupyter-widgets/base",
            "_view_module_version": "1.2.0",
            "_view_name": "LayoutView",
            "align_content": null,
            "align_items": null,
            "align_self": null,
            "border": null,
            "bottom": null,
            "display": null,
            "flex": null,
            "flex_flow": null,
            "grid_area": null,
            "grid_auto_columns": null,
            "grid_auto_flow": null,
            "grid_auto_rows": null,
            "grid_column": null,
            "grid_gap": null,
            "grid_row": null,
            "grid_template_areas": null,
            "grid_template_columns": null,
            "grid_template_rows": null,
            "height": null,
            "justify_content": null,
            "justify_items": null,
            "left": null,
            "margin": null,
            "max_height": null,
            "max_width": null,
            "min_height": null,
            "min_width": null,
            "object_fit": null,
            "object_position": null,
            "order": null,
            "overflow": null,
            "overflow_x": null,
            "overflow_y": null,
            "padding": null,
            "right": null,
            "top": null,
            "visibility": null,
            "width": null
          }
        },
        "54f269a0aeec47f7a7fe1d3ee7530682": {
          "model_module": "@jupyter-widgets/base",
          "model_module_version": "1.2.0",
          "model_name": "LayoutModel",
          "state": {
            "_model_module": "@jupyter-widgets/base",
            "_model_module_version": "1.2.0",
            "_model_name": "LayoutModel",
            "_view_count": null,
            "_view_module": "@jupyter-widgets/base",
            "_view_module_version": "1.2.0",
            "_view_name": "LayoutView",
            "align_content": null,
            "align_items": null,
            "align_self": null,
            "border": null,
            "bottom": null,
            "display": null,
            "flex": null,
            "flex_flow": null,
            "grid_area": null,
            "grid_auto_columns": null,
            "grid_auto_flow": null,
            "grid_auto_rows": null,
            "grid_column": null,
            "grid_gap": null,
            "grid_row": null,
            "grid_template_areas": null,
            "grid_template_columns": null,
            "grid_template_rows": null,
            "height": null,
            "justify_content": null,
            "justify_items": null,
            "left": null,
            "margin": null,
            "max_height": null,
            "max_width": null,
            "min_height": null,
            "min_width": null,
            "object_fit": null,
            "object_position": null,
            "order": null,
            "overflow": null,
            "overflow_x": null,
            "overflow_y": null,
            "padding": null,
            "right": null,
            "top": null,
            "visibility": null,
            "width": null
          }
        },
        "57a42e6c38584b2fb815b055f934c53b": {
          "model_module": "@jupyter-widgets/controls",
          "model_module_version": "1.5.0",
          "model_name": "FloatProgressModel",
          "state": {
            "_dom_classes": [],
            "_model_module": "@jupyter-widgets/controls",
            "_model_module_version": "1.5.0",
            "_model_name": "FloatProgressModel",
            "_view_count": null,
            "_view_module": "@jupyter-widgets/controls",
            "_view_module_version": "1.5.0",
            "_view_name": "ProgressView",
            "bar_style": "success",
            "description": "",
            "description_tooltip": null,
            "layout": "IPY_MODEL_3979ba1138d84ee0b8a7a5a90613a5bd",
            "max": 9912422,
            "min": 0,
            "orientation": "horizontal",
            "style": "IPY_MODEL_0490ed83aea54c579db8405c8d623df1",
            "value": 9912422
          }
        },
        "5b27c52b4daa48ceaa6345fba7e58781": {
          "model_module": "@jupyter-widgets/controls",
          "model_module_version": "1.5.0",
          "model_name": "ProgressStyleModel",
          "state": {
            "_model_module": "@jupyter-widgets/controls",
            "_model_module_version": "1.5.0",
            "_model_name": "ProgressStyleModel",
            "_view_count": null,
            "_view_module": "@jupyter-widgets/base",
            "_view_module_version": "1.2.0",
            "_view_name": "StyleView",
            "bar_color": null,
            "description_width": ""
          }
        },
        "5d02420818694e13bcccd8c82c996d22": {
          "model_module": "@jupyter-widgets/base",
          "model_module_version": "1.2.0",
          "model_name": "LayoutModel",
          "state": {
            "_model_module": "@jupyter-widgets/base",
            "_model_module_version": "1.2.0",
            "_model_name": "LayoutModel",
            "_view_count": null,
            "_view_module": "@jupyter-widgets/base",
            "_view_module_version": "1.2.0",
            "_view_name": "LayoutView",
            "align_content": null,
            "align_items": null,
            "align_self": null,
            "border": null,
            "bottom": null,
            "display": null,
            "flex": null,
            "flex_flow": null,
            "grid_area": null,
            "grid_auto_columns": null,
            "grid_auto_flow": null,
            "grid_auto_rows": null,
            "grid_column": null,
            "grid_gap": null,
            "grid_row": null,
            "grid_template_areas": null,
            "grid_template_columns": null,
            "grid_template_rows": null,
            "height": null,
            "justify_content": null,
            "justify_items": null,
            "left": null,
            "margin": null,
            "max_height": null,
            "max_width": null,
            "min_height": null,
            "min_width": null,
            "object_fit": null,
            "object_position": null,
            "order": null,
            "overflow": null,
            "overflow_x": null,
            "overflow_y": null,
            "padding": null,
            "right": null,
            "top": null,
            "visibility": null,
            "width": null
          }
        },
        "5dc170923ee24564bdcaa7ae48949e08": {
          "model_module": "@jupyter-widgets/controls",
          "model_module_version": "1.5.0",
          "model_name": "DescriptionStyleModel",
          "state": {
            "_model_module": "@jupyter-widgets/controls",
            "_model_module_version": "1.5.0",
            "_model_name": "DescriptionStyleModel",
            "_view_count": null,
            "_view_module": "@jupyter-widgets/base",
            "_view_module_version": "1.2.0",
            "_view_name": "StyleView",
            "description_width": ""
          }
        },
        "5fb9d2d5f7344ddf805f9142c429544b": {
          "model_module": "@jupyter-widgets/base",
          "model_module_version": "1.2.0",
          "model_name": "LayoutModel",
          "state": {
            "_model_module": "@jupyter-widgets/base",
            "_model_module_version": "1.2.0",
            "_model_name": "LayoutModel",
            "_view_count": null,
            "_view_module": "@jupyter-widgets/base",
            "_view_module_version": "1.2.0",
            "_view_name": "LayoutView",
            "align_content": null,
            "align_items": null,
            "align_self": null,
            "border": null,
            "bottom": null,
            "display": null,
            "flex": null,
            "flex_flow": null,
            "grid_area": null,
            "grid_auto_columns": null,
            "grid_auto_flow": null,
            "grid_auto_rows": null,
            "grid_column": null,
            "grid_gap": null,
            "grid_row": null,
            "grid_template_areas": null,
            "grid_template_columns": null,
            "grid_template_rows": null,
            "height": null,
            "justify_content": null,
            "justify_items": null,
            "left": null,
            "margin": null,
            "max_height": null,
            "max_width": null,
            "min_height": null,
            "min_width": null,
            "object_fit": null,
            "object_position": null,
            "order": null,
            "overflow": null,
            "overflow_x": null,
            "overflow_y": null,
            "padding": null,
            "right": null,
            "top": null,
            "visibility": null,
            "width": null
          }
        },
        "61ee3af9a10f47c6819f43ff6000c795": {
          "model_module": "@jupyter-widgets/base",
          "model_module_version": "1.2.0",
          "model_name": "LayoutModel",
          "state": {
            "_model_module": "@jupyter-widgets/base",
            "_model_module_version": "1.2.0",
            "_model_name": "LayoutModel",
            "_view_count": null,
            "_view_module": "@jupyter-widgets/base",
            "_view_module_version": "1.2.0",
            "_view_name": "LayoutView",
            "align_content": null,
            "align_items": null,
            "align_self": null,
            "border": null,
            "bottom": null,
            "display": null,
            "flex": null,
            "flex_flow": null,
            "grid_area": null,
            "grid_auto_columns": null,
            "grid_auto_flow": null,
            "grid_auto_rows": null,
            "grid_column": null,
            "grid_gap": null,
            "grid_row": null,
            "grid_template_areas": null,
            "grid_template_columns": null,
            "grid_template_rows": null,
            "height": null,
            "justify_content": null,
            "justify_items": null,
            "left": null,
            "margin": null,
            "max_height": null,
            "max_width": null,
            "min_height": null,
            "min_width": null,
            "object_fit": null,
            "object_position": null,
            "order": null,
            "overflow": null,
            "overflow_x": null,
            "overflow_y": null,
            "padding": null,
            "right": null,
            "top": null,
            "visibility": null,
            "width": null
          }
        },
        "6bc3c9e7a36c4764a1c6bb5c74d434d1": {
          "model_module": "@jupyter-widgets/base",
          "model_module_version": "1.2.0",
          "model_name": "LayoutModel",
          "state": {
            "_model_module": "@jupyter-widgets/base",
            "_model_module_version": "1.2.0",
            "_model_name": "LayoutModel",
            "_view_count": null,
            "_view_module": "@jupyter-widgets/base",
            "_view_module_version": "1.2.0",
            "_view_name": "LayoutView",
            "align_content": null,
            "align_items": null,
            "align_self": null,
            "border": null,
            "bottom": null,
            "display": null,
            "flex": null,
            "flex_flow": null,
            "grid_area": null,
            "grid_auto_columns": null,
            "grid_auto_flow": null,
            "grid_auto_rows": null,
            "grid_column": null,
            "grid_gap": null,
            "grid_row": null,
            "grid_template_areas": null,
            "grid_template_columns": null,
            "grid_template_rows": null,
            "height": null,
            "justify_content": null,
            "justify_items": null,
            "left": null,
            "margin": null,
            "max_height": null,
            "max_width": null,
            "min_height": null,
            "min_width": null,
            "object_fit": null,
            "object_position": null,
            "order": null,
            "overflow": null,
            "overflow_x": null,
            "overflow_y": null,
            "padding": null,
            "right": null,
            "top": null,
            "visibility": null,
            "width": null
          }
        },
        "7ee5b1f046a54c6c91c6fbd4330e9844": {
          "model_module": "@jupyter-widgets/controls",
          "model_module_version": "1.5.0",
          "model_name": "ProgressStyleModel",
          "state": {
            "_model_module": "@jupyter-widgets/controls",
            "_model_module_version": "1.5.0",
            "_model_name": "ProgressStyleModel",
            "_view_count": null,
            "_view_module": "@jupyter-widgets/base",
            "_view_module_version": "1.2.0",
            "_view_name": "StyleView",
            "bar_color": null,
            "description_width": ""
          }
        },
        "8b1e795992a948aa8a853f94c99c555f": {
          "model_module": "@jupyter-widgets/base",
          "model_module_version": "1.2.0",
          "model_name": "LayoutModel",
          "state": {
            "_model_module": "@jupyter-widgets/base",
            "_model_module_version": "1.2.0",
            "_model_name": "LayoutModel",
            "_view_count": null,
            "_view_module": "@jupyter-widgets/base",
            "_view_module_version": "1.2.0",
            "_view_name": "LayoutView",
            "align_content": null,
            "align_items": null,
            "align_self": null,
            "border": null,
            "bottom": null,
            "display": null,
            "flex": null,
            "flex_flow": null,
            "grid_area": null,
            "grid_auto_columns": null,
            "grid_auto_flow": null,
            "grid_auto_rows": null,
            "grid_column": null,
            "grid_gap": null,
            "grid_row": null,
            "grid_template_areas": null,
            "grid_template_columns": null,
            "grid_template_rows": null,
            "height": null,
            "justify_content": null,
            "justify_items": null,
            "left": null,
            "margin": null,
            "max_height": null,
            "max_width": null,
            "min_height": null,
            "min_width": null,
            "object_fit": null,
            "object_position": null,
            "order": null,
            "overflow": null,
            "overflow_x": null,
            "overflow_y": null,
            "padding": null,
            "right": null,
            "top": null,
            "visibility": null,
            "width": null
          }
        },
        "8eb4110b62c24b81b3e81a716ab1dcd1": {
          "model_module": "@jupyter-widgets/controls",
          "model_module_version": "1.5.0",
          "model_name": "HBoxModel",
          "state": {
            "_dom_classes": [],
            "_model_module": "@jupyter-widgets/controls",
            "_model_module_version": "1.5.0",
            "_model_name": "HBoxModel",
            "_view_count": null,
            "_view_module": "@jupyter-widgets/controls",
            "_view_module_version": "1.5.0",
            "_view_name": "HBoxView",
            "box_style": "",
            "children": [
              "IPY_MODEL_2c79bfac29674a7087b3d39593375a04",
              "IPY_MODEL_1881929b93394b5998bc7343c1d67d3d",
              "IPY_MODEL_f432968e3021439b82d6724d370ac055"
            ],
            "layout": "IPY_MODEL_dc6cb2f0218141af953604acd154c0aa"
          }
        },
        "9555f0621e694d47bfdd652d501b54c8": {
          "model_module": "@jupyter-widgets/controls",
          "model_module_version": "1.5.0",
          "model_name": "HTMLModel",
          "state": {
            "_dom_classes": [],
            "_model_module": "@jupyter-widgets/controls",
            "_model_module_version": "1.5.0",
            "_model_name": "HTMLModel",
            "_view_count": null,
            "_view_module": "@jupyter-widgets/controls",
            "_view_module_version": "1.5.0",
            "_view_name": "HTMLView",
            "description": "",
            "description_tooltip": null,
            "layout": "IPY_MODEL_54f269a0aeec47f7a7fe1d3ee7530682",
            "placeholder": "​",
            "style": "IPY_MODEL_3c8d7d4c604b44cf8de9b19855eeefc3",
            "value": ""
          }
        },
        "9be3a032eadd4f01958da352404d6a00": {
          "model_module": "@jupyter-widgets/controls",
          "model_module_version": "1.5.0",
          "model_name": "DescriptionStyleModel",
          "state": {
            "_model_module": "@jupyter-widgets/controls",
            "_model_module_version": "1.5.0",
            "_model_name": "DescriptionStyleModel",
            "_view_count": null,
            "_view_module": "@jupyter-widgets/base",
            "_view_module_version": "1.2.0",
            "_view_name": "StyleView",
            "description_width": ""
          }
        },
        "a40e3ba0a0834f81b35c8e358849c6f6": {
          "model_module": "@jupyter-widgets/controls",
          "model_module_version": "1.5.0",
          "model_name": "FloatProgressModel",
          "state": {
            "_dom_classes": [],
            "_model_module": "@jupyter-widgets/controls",
            "_model_module_version": "1.5.0",
            "_model_name": "FloatProgressModel",
            "_view_count": null,
            "_view_module": "@jupyter-widgets/controls",
            "_view_module_version": "1.5.0",
            "_view_name": "ProgressView",
            "bar_style": "success",
            "description": "",
            "description_tooltip": null,
            "layout": "IPY_MODEL_bd88a7f03951495fba86ee0f4f68dc4b",
            "max": 4542,
            "min": 0,
            "orientation": "horizontal",
            "style": "IPY_MODEL_7ee5b1f046a54c6c91c6fbd4330e9844",
            "value": 4542
          }
        },
        "b1fddefb602e4437a4905a4d69d79fab": {
          "model_module": "@jupyter-widgets/base",
          "model_module_version": "1.2.0",
          "model_name": "LayoutModel",
          "state": {
            "_model_module": "@jupyter-widgets/base",
            "_model_module_version": "1.2.0",
            "_model_name": "LayoutModel",
            "_view_count": null,
            "_view_module": "@jupyter-widgets/base",
            "_view_module_version": "1.2.0",
            "_view_name": "LayoutView",
            "align_content": null,
            "align_items": null,
            "align_self": null,
            "border": null,
            "bottom": null,
            "display": null,
            "flex": null,
            "flex_flow": null,
            "grid_area": null,
            "grid_auto_columns": null,
            "grid_auto_flow": null,
            "grid_auto_rows": null,
            "grid_column": null,
            "grid_gap": null,
            "grid_row": null,
            "grid_template_areas": null,
            "grid_template_columns": null,
            "grid_template_rows": null,
            "height": null,
            "justify_content": null,
            "justify_items": null,
            "left": null,
            "margin": null,
            "max_height": null,
            "max_width": null,
            "min_height": null,
            "min_width": null,
            "object_fit": null,
            "object_position": null,
            "order": null,
            "overflow": null,
            "overflow_x": null,
            "overflow_y": null,
            "padding": null,
            "right": null,
            "top": null,
            "visibility": null,
            "width": null
          }
        },
        "b66a728dbed7489eab3ae1bf11e4292a": {
          "model_module": "@jupyter-widgets/controls",
          "model_module_version": "1.5.0",
          "model_name": "HBoxModel",
          "state": {
            "_dom_classes": [],
            "_model_module": "@jupyter-widgets/controls",
            "_model_module_version": "1.5.0",
            "_model_name": "HBoxModel",
            "_view_count": null,
            "_view_module": "@jupyter-widgets/controls",
            "_view_module_version": "1.5.0",
            "_view_name": "HBoxView",
            "box_style": "",
            "children": [
              "IPY_MODEL_3dfd4ad73a83454da7c7a9313f018cd7",
              "IPY_MODEL_57a42e6c38584b2fb815b055f934c53b",
              "IPY_MODEL_c2b3ff0026db4017bc9d3fd88604b145"
            ],
            "layout": "IPY_MODEL_2d7bf5ab257344768b16656eb66b95c2"
          }
        },
        "b8bdb88c51dc40cb8e597a5aa11792e5": {
          "model_module": "@jupyter-widgets/controls",
          "model_module_version": "1.5.0",
          "model_name": "HBoxModel",
          "state": {
            "_dom_classes": [],
            "_model_module": "@jupyter-widgets/controls",
            "_model_module_version": "1.5.0",
            "_model_name": "HBoxModel",
            "_view_count": null,
            "_view_module": "@jupyter-widgets/controls",
            "_view_module_version": "1.5.0",
            "_view_name": "HBoxView",
            "box_style": "",
            "children": [
              "IPY_MODEL_3b6a15d5d0d64e1db3febf76d91db77b",
              "IPY_MODEL_0310f82ffff547eaba365420255c2db4",
              "IPY_MODEL_03926e8d8ed74344a8ff2cb9b9c7cee7"
            ],
            "layout": "IPY_MODEL_33b44d22ad704be78a1f7008fa4f31dd"
          }
        },
        "bc2b1fc0f1634cfaa6c97efba459fba7": {
          "model_module": "@jupyter-widgets/base",
          "model_module_version": "1.2.0",
          "model_name": "LayoutModel",
          "state": {
            "_model_module": "@jupyter-widgets/base",
            "_model_module_version": "1.2.0",
            "_model_name": "LayoutModel",
            "_view_count": null,
            "_view_module": "@jupyter-widgets/base",
            "_view_module_version": "1.2.0",
            "_view_name": "LayoutView",
            "align_content": null,
            "align_items": null,
            "align_self": null,
            "border": null,
            "bottom": null,
            "display": null,
            "flex": null,
            "flex_flow": null,
            "grid_area": null,
            "grid_auto_columns": null,
            "grid_auto_flow": null,
            "grid_auto_rows": null,
            "grid_column": null,
            "grid_gap": null,
            "grid_row": null,
            "grid_template_areas": null,
            "grid_template_columns": null,
            "grid_template_rows": null,
            "height": null,
            "justify_content": null,
            "justify_items": null,
            "left": null,
            "margin": null,
            "max_height": null,
            "max_width": null,
            "min_height": null,
            "min_width": null,
            "object_fit": null,
            "object_position": null,
            "order": null,
            "overflow": null,
            "overflow_x": null,
            "overflow_y": null,
            "padding": null,
            "right": null,
            "top": null,
            "visibility": null,
            "width": null
          }
        },
        "bd88a7f03951495fba86ee0f4f68dc4b": {
          "model_module": "@jupyter-widgets/base",
          "model_module_version": "1.2.0",
          "model_name": "LayoutModel",
          "state": {
            "_model_module": "@jupyter-widgets/base",
            "_model_module_version": "1.2.0",
            "_model_name": "LayoutModel",
            "_view_count": null,
            "_view_module": "@jupyter-widgets/base",
            "_view_module_version": "1.2.0",
            "_view_name": "LayoutView",
            "align_content": null,
            "align_items": null,
            "align_self": null,
            "border": null,
            "bottom": null,
            "display": null,
            "flex": null,
            "flex_flow": null,
            "grid_area": null,
            "grid_auto_columns": null,
            "grid_auto_flow": null,
            "grid_auto_rows": null,
            "grid_column": null,
            "grid_gap": null,
            "grid_row": null,
            "grid_template_areas": null,
            "grid_template_columns": null,
            "grid_template_rows": null,
            "height": null,
            "justify_content": null,
            "justify_items": null,
            "left": null,
            "margin": null,
            "max_height": null,
            "max_width": null,
            "min_height": null,
            "min_width": null,
            "object_fit": null,
            "object_position": null,
            "order": null,
            "overflow": null,
            "overflow_x": null,
            "overflow_y": null,
            "padding": null,
            "right": null,
            "top": null,
            "visibility": null,
            "width": null
          }
        },
        "bed66781a6f34d2786af8ead767bee1b": {
          "model_module": "@jupyter-widgets/controls",
          "model_module_version": "1.5.0",
          "model_name": "ProgressStyleModel",
          "state": {
            "_model_module": "@jupyter-widgets/controls",
            "_model_module_version": "1.5.0",
            "_model_name": "ProgressStyleModel",
            "_view_count": null,
            "_view_module": "@jupyter-widgets/base",
            "_view_module_version": "1.2.0",
            "_view_name": "StyleView",
            "bar_color": null,
            "description_width": ""
          }
        },
        "c2b3ff0026db4017bc9d3fd88604b145": {
          "model_module": "@jupyter-widgets/controls",
          "model_module_version": "1.5.0",
          "model_name": "HTMLModel",
          "state": {
            "_dom_classes": [],
            "_model_module": "@jupyter-widgets/controls",
            "_model_module_version": "1.5.0",
            "_model_name": "HTMLModel",
            "_view_count": null,
            "_view_module": "@jupyter-widgets/controls",
            "_view_module_version": "1.5.0",
            "_view_name": "HTMLView",
            "description": "",
            "description_tooltip": null,
            "layout": "IPY_MODEL_4794cdc4c77d4b9a92197fd1d5deb87e",
            "placeholder": "​",
            "style": "IPY_MODEL_9be3a032eadd4f01958da352404d6a00",
            "value": " 9913344/? [00:00&lt;00:00, 53464691.36it/s]"
          }
        },
        "c40bb42c51684a5c8963d496173e50b7": {
          "model_module": "@jupyter-widgets/base",
          "model_module_version": "1.2.0",
          "model_name": "LayoutModel",
          "state": {
            "_model_module": "@jupyter-widgets/base",
            "_model_module_version": "1.2.0",
            "_model_name": "LayoutModel",
            "_view_count": null,
            "_view_module": "@jupyter-widgets/base",
            "_view_module_version": "1.2.0",
            "_view_name": "LayoutView",
            "align_content": null,
            "align_items": null,
            "align_self": null,
            "border": null,
            "bottom": null,
            "display": null,
            "flex": null,
            "flex_flow": null,
            "grid_area": null,
            "grid_auto_columns": null,
            "grid_auto_flow": null,
            "grid_auto_rows": null,
            "grid_column": null,
            "grid_gap": null,
            "grid_row": null,
            "grid_template_areas": null,
            "grid_template_columns": null,
            "grid_template_rows": null,
            "height": null,
            "justify_content": null,
            "justify_items": null,
            "left": null,
            "margin": null,
            "max_height": null,
            "max_width": null,
            "min_height": null,
            "min_width": null,
            "object_fit": null,
            "object_position": null,
            "order": null,
            "overflow": null,
            "overflow_x": null,
            "overflow_y": null,
            "padding": null,
            "right": null,
            "top": null,
            "visibility": null,
            "width": null
          }
        },
        "daafc4eded9240c3b4191b8f5654a9e2": {
          "model_module": "@jupyter-widgets/controls",
          "model_module_version": "1.5.0",
          "model_name": "HBoxModel",
          "state": {
            "_dom_classes": [],
            "_model_module": "@jupyter-widgets/controls",
            "_model_module_version": "1.5.0",
            "_model_name": "HBoxModel",
            "_view_count": null,
            "_view_module": "@jupyter-widgets/controls",
            "_view_module_version": "1.5.0",
            "_view_name": "HBoxView",
            "box_style": "",
            "children": [
              "IPY_MODEL_9555f0621e694d47bfdd652d501b54c8",
              "IPY_MODEL_a40e3ba0a0834f81b35c8e358849c6f6",
              "IPY_MODEL_3a979602420b4640a4978fdc7fbc13e2"
            ],
            "layout": "IPY_MODEL_5d02420818694e13bcccd8c82c996d22"
          }
        },
        "dc6cb2f0218141af953604acd154c0aa": {
          "model_module": "@jupyter-widgets/base",
          "model_module_version": "1.2.0",
          "model_name": "LayoutModel",
          "state": {
            "_model_module": "@jupyter-widgets/base",
            "_model_module_version": "1.2.0",
            "_model_name": "LayoutModel",
            "_view_count": null,
            "_view_module": "@jupyter-widgets/base",
            "_view_module_version": "1.2.0",
            "_view_name": "LayoutView",
            "align_content": null,
            "align_items": null,
            "align_self": null,
            "border": null,
            "bottom": null,
            "display": null,
            "flex": null,
            "flex_flow": null,
            "grid_area": null,
            "grid_auto_columns": null,
            "grid_auto_flow": null,
            "grid_auto_rows": null,
            "grid_column": null,
            "grid_gap": null,
            "grid_row": null,
            "grid_template_areas": null,
            "grid_template_columns": null,
            "grid_template_rows": null,
            "height": null,
            "justify_content": null,
            "justify_items": null,
            "left": null,
            "margin": null,
            "max_height": null,
            "max_width": null,
            "min_height": null,
            "min_width": null,
            "object_fit": null,
            "object_position": null,
            "order": null,
            "overflow": null,
            "overflow_x": null,
            "overflow_y": null,
            "padding": null,
            "right": null,
            "top": null,
            "visibility": null,
            "width": null
          }
        },
        "f3274bc3d55942e4bb35c7beef722c92": {
          "model_module": "@jupyter-widgets/controls",
          "model_module_version": "1.5.0",
          "model_name": "DescriptionStyleModel",
          "state": {
            "_model_module": "@jupyter-widgets/controls",
            "_model_module_version": "1.5.0",
            "_model_name": "DescriptionStyleModel",
            "_view_count": null,
            "_view_module": "@jupyter-widgets/base",
            "_view_module_version": "1.2.0",
            "_view_name": "StyleView",
            "description_width": ""
          }
        },
        "f432968e3021439b82d6724d370ac055": {
          "model_module": "@jupyter-widgets/controls",
          "model_module_version": "1.5.0",
          "model_name": "HTMLModel",
          "state": {
            "_dom_classes": [],
            "_model_module": "@jupyter-widgets/controls",
            "_model_module_version": "1.5.0",
            "_model_name": "HTMLModel",
            "_view_count": null,
            "_view_module": "@jupyter-widgets/controls",
            "_view_module_version": "1.5.0",
            "_view_name": "HTMLView",
            "description": "",
            "description_tooltip": null,
            "layout": "IPY_MODEL_5fb9d2d5f7344ddf805f9142c429544b",
            "placeholder": "​",
            "style": "IPY_MODEL_4119697353754445b5680c2ab1036577",
            "value": " 29696/? [00:00&lt;00:00, 559373.65it/s]"
          }
        }
      }
    }
  },
  "nbformat": 4,
  "nbformat_minor": 0
}

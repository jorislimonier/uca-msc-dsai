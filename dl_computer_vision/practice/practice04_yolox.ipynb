{
 "cells": [
  {
   "cell_type": "code",
   "execution_count": 3,
   "metadata": {},
   "outputs": [
    {
     "name": "stderr",
     "output_type": "stream",
     "text": [
      "/media/joris/apps/miniconda/envs/yolox/lib/python3.9/site-packages/tqdm/auto.py:22: TqdmWarning: IProgress not found. Please update jupyter and ipywidgets. See https://ipywidgets.readthedocs.io/en/stable/user_install.html\n",
      "  from .autonotebook import tqdm as notebook_tqdm\n"
     ]
    }
   ],
   "source": [
    "from practice06_yolox import *\n",
    "from dataclasses import dataclass\n"
   ]
  },
  {
   "cell_type": "code",
   "execution_count": 4,
   "metadata": {},
   "outputs": [
    {
     "name": "stderr",
     "output_type": "stream",
     "text": [
      "2023-02-01 11:52:11.822 | INFO     | practice06_yolox:main:258 - Args: Args()\n",
      "2023-02-01 11:52:12.132 | INFO     | practice06_yolox:main:268 - Model Summary: Params: 8.97M, Gflops: 26.93\n",
      "2023-02-01 11:52:12.806 | INFO     | practice06_yolox:main:281 - loading checkpoint\n",
      "2023-02-01 11:52:12.885 | INFO     | practice06_yolox:main:285 - loaded checkpoint done.\n",
      "2023-02-01 11:52:13.631 | INFO     | practice06_yolox:inference:164 - Infer time: 0.4401s\n",
      "2023-02-01 11:52:13.636 | INFO     | practice06_yolox:image_demo:201 - Saving detection result in /media/joris/uca-msc-dsai/dl_computer_vision/practice/YOLOX/YOLOX_outputs/yolox_s/vis_res/2023_02_01_11_52_12/djt.JPG\n"
     ]
    }
   ],
   "source": [
    "@dataclass()\n",
    "class Args:\n",
    "  demo = \"image\"\n",
    "  name = \"yolox-s\"\n",
    "  ckpt = \"YOLOX/models/yolox_s.pth\"\n",
    "  path = \"YOLOX/assets/djt.JPG\"\n",
    "  conf = 0.25\n",
    "  nms = 0.45\n",
    "  tsize = 640\n",
    "  save_result = True\n",
    "  device = \"gpu\"\n",
    "  exp_file = None\n",
    "  experiment_name = None\n",
    "  trt = False\n",
    "  fp16 = False\n",
    "  fuse = False\n",
    "  legacy = False\n",
    "  camid = 0\n",
    "\n",
    "\n",
    "args = Args()\n",
    "\n",
    "exp = get_exp(args.exp_file, args.name)\n",
    "exp.output_dir = (\n",
    "  \"/media/joris/uca-msc-dsai/dl_computer_vision/practice/YOLOX/YOLOX_outputs\"\n",
    ")\n",
    "\n",
    "\n",
    "main(exp, args)\n"
   ]
  }
 ],
 "metadata": {
  "kernelspec": {
   "display_name": "yolox",
   "language": "python",
   "name": "python3"
  },
  "language_info": {
   "codemirror_mode": {
    "name": "ipython",
    "version": 3
   },
   "file_extension": ".py",
   "mimetype": "text/x-python",
   "name": "python",
   "nbconvert_exporter": "python",
   "pygments_lexer": "ipython3",
   "version": "3.9.16"
  },
  "orig_nbformat": 4,
  "vscode": {
   "interpreter": {
    "hash": "8c5918bb0bc029098fc83be7ed34a95be9579689db7e9dfe872c04decab230a3"
   }
  }
 },
 "nbformat": 4,
 "nbformat_minor": 2
}

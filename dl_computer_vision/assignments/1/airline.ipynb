{
 "cells": [
  {
   "attachments": {},
   "cell_type": "markdown",
   "metadata": {},
   "source": [
    "# Bonus assignment\n",
    "\n",
    "**Joris LIMONIER**\n",
    "\n",
    "---\n",
    "\n",
    "In this assignment, we try to predict the number of passengers through time. We will use the airline dataset.\n"
   ]
  },
  {
   "attachments": {},
   "cell_type": "markdown",
   "metadata": {},
   "source": [
    "## Data Preprocessing"
   ]
  },
  {
   "cell_type": "code",
   "execution_count": 62,
   "metadata": {},
   "outputs": [],
   "source": [
    "from pathlib import Path\n",
    "\n",
    "import airline\n",
    "import airline_simple as asi\n",
    "import pandas as pd\n",
    "import plotly.express as px\n",
    "import plotly.graph_objects as go\n",
    "import plotly.io as pio\n",
    "import torch\n",
    "import torch.nn as nn\n",
    "import torch.optim as optim\n",
    "from sklearn.model_selection import train_test_split\n",
    "from sklearn.preprocessing import StandardScaler\n",
    "from torch.utils.data import DataLoader, Dataset, TensorDataset\n",
    "from tqdm import tqdm\n",
    "\n",
    "pio.templates.default = \"plotly_white\"\n"
   ]
  },
  {
   "cell_type": "code",
   "execution_count": 63,
   "metadata": {},
   "outputs": [],
   "source": [
    "%reload_ext autoreload\n",
    "%autoreload 2"
   ]
  },
  {
   "attachments": {},
   "cell_type": "markdown",
   "metadata": {},
   "source": [
    "### Load the dataset\n"
   ]
  },
  {
   "cell_type": "code",
   "execution_count": 64,
   "metadata": {},
   "outputs": [
    {
     "data": {
      "text/html": [
       "<div>\n",
       "<style scoped>\n",
       "    .dataframe tbody tr th:only-of-type {\n",
       "        vertical-align: middle;\n",
       "    }\n",
       "\n",
       "    .dataframe tbody tr th {\n",
       "        vertical-align: top;\n",
       "    }\n",
       "\n",
       "    .dataframe thead th {\n",
       "        text-align: right;\n",
       "    }\n",
       "</style>\n",
       "<table border=\"1\" class=\"dataframe\">\n",
       "  <thead>\n",
       "    <tr style=\"text-align: right;\">\n",
       "      <th></th>\n",
       "      <th>passengers</th>\n",
       "    </tr>\n",
       "    <tr>\n",
       "      <th>month</th>\n",
       "      <th></th>\n",
       "    </tr>\n",
       "  </thead>\n",
       "  <tbody>\n",
       "    <tr>\n",
       "      <th>1949-01-01</th>\n",
       "      <td>112.0</td>\n",
       "    </tr>\n",
       "    <tr>\n",
       "      <th>1949-02-01</th>\n",
       "      <td>118.0</td>\n",
       "    </tr>\n",
       "    <tr>\n",
       "      <th>1949-03-01</th>\n",
       "      <td>132.0</td>\n",
       "    </tr>\n",
       "    <tr>\n",
       "      <th>1949-04-01</th>\n",
       "      <td>129.0</td>\n",
       "    </tr>\n",
       "    <tr>\n",
       "      <th>1949-05-01</th>\n",
       "      <td>121.0</td>\n",
       "    </tr>\n",
       "  </tbody>\n",
       "</table>\n",
       "</div>"
      ],
      "text/plain": [
       "            passengers\n",
       "month                 \n",
       "1949-01-01       112.0\n",
       "1949-02-01       118.0\n",
       "1949-03-01       132.0\n",
       "1949-04-01       129.0\n",
       "1949-05-01       121.0"
      ]
     },
     "execution_count": 64,
     "metadata": {},
     "output_type": "execute_result"
    }
   ],
   "source": [
    "filepath = Path(\"airline_passenger.txt\")\n",
    "air = pd.read_csv(\n",
    "  filepath,\n",
    "  parse_dates=[\"month\"],\n",
    "  names=[\"month\", \"passengers\"],\n",
    "  index_col=\"month\",\n",
    "  header=0,\n",
    "  dtype={\"passengers\": \"float32\"},\n",
    ")\n",
    "air.head()"
   ]
  },
  {
   "attachments": {},
   "cell_type": "markdown",
   "metadata": {},
   "source": [
    "### Split the dataset into train and test\n",
    "We use 1/3 of the dataset for testing. The remaining 2/3 is further split into 80% training and 20% validation."
   ]
  },
  {
   "cell_type": "code",
   "execution_count": 65,
   "metadata": {},
   "outputs": [],
   "source": [
    "test_size = 1 / 3 \n",
    "val_size = 0.2 # 20% of the training set is used for validation\n",
    "\n",
    "train_val, test = train_test_split(air, test_size=test_size, shuffle=False)\n",
    "\n",
    "scaler = StandardScaler()\n",
    "train_val = pd.DataFrame(scaler.fit_transform(train_val), columns=train_val.columns, index=train_val.index)\n",
    "test = pd.DataFrame(scaler.transform(test), columns=test.columns, index=test.index)\n",
    "\n",
    "# train_val = scaler.fit_transform(train_val)\n",
    "# test = scaler.transform(test)\n",
    "\n",
    "train, val = train_test_split(train_val, test_size=val_size, shuffle=False)"
   ]
  },
  {
   "attachments": {},
   "cell_type": "markdown",
   "metadata": {},
   "source": [
    "We plot the train, validation and test sets with different colors."
   ]
  },
  {
   "cell_type": "code",
   "execution_count": 66,
   "metadata": {},
   "outputs": [
    {
     "data": {
      "application/vnd.plotly.v1+json": {
       "config": {
        "plotlyServerURL": "https://plot.ly"
       },
       "data": [
        {
         "mode": "lines",
         "name": "train",
         "type": "scatter",
         "x": [
          "1949-01-01T00:00:00",
          "1949-02-01T00:00:00",
          "1949-03-01T00:00:00",
          "1949-04-01T00:00:00",
          "1949-05-01T00:00:00",
          "1949-06-01T00:00:00",
          "1949-07-01T00:00:00",
          "1949-08-01T00:00:00",
          "1949-09-01T00:00:00",
          "1949-10-01T00:00:00",
          "1949-11-01T00:00:00",
          "1949-12-01T00:00:00",
          "1950-01-01T00:00:00",
          "1950-02-01T00:00:00",
          "1950-03-01T00:00:00",
          "1950-04-01T00:00:00",
          "1950-05-01T00:00:00",
          "1950-06-01T00:00:00",
          "1950-07-01T00:00:00",
          "1950-08-01T00:00:00",
          "1950-09-01T00:00:00",
          "1950-10-01T00:00:00",
          "1950-11-01T00:00:00",
          "1950-12-01T00:00:00",
          "1951-01-01T00:00:00",
          "1951-02-01T00:00:00",
          "1951-03-01T00:00:00",
          "1951-04-01T00:00:00",
          "1951-05-01T00:00:00",
          "1951-06-01T00:00:00",
          "1951-07-01T00:00:00",
          "1951-08-01T00:00:00",
          "1951-09-01T00:00:00",
          "1951-10-01T00:00:00",
          "1951-11-01T00:00:00",
          "1951-12-01T00:00:00",
          "1952-01-01T00:00:00",
          "1952-02-01T00:00:00",
          "1952-03-01T00:00:00",
          "1952-04-01T00:00:00",
          "1952-05-01T00:00:00",
          "1952-06-01T00:00:00",
          "1952-07-01T00:00:00",
          "1952-08-01T00:00:00",
          "1952-09-01T00:00:00",
          "1952-10-01T00:00:00",
          "1952-11-01T00:00:00",
          "1952-12-01T00:00:00",
          "1953-01-01T00:00:00",
          "1953-02-01T00:00:00",
          "1953-03-01T00:00:00",
          "1953-04-01T00:00:00",
          "1953-05-01T00:00:00",
          "1953-06-01T00:00:00",
          "1953-07-01T00:00:00",
          "1953-08-01T00:00:00",
          "1953-09-01T00:00:00",
          "1953-10-01T00:00:00",
          "1953-11-01T00:00:00",
          "1953-12-01T00:00:00",
          "1954-01-01T00:00:00",
          "1954-02-01T00:00:00",
          "1954-03-01T00:00:00",
          "1954-04-01T00:00:00",
          "1954-05-01T00:00:00",
          "1954-06-01T00:00:00",
          "1954-07-01T00:00:00",
          "1954-08-01T00:00:00",
          "1954-09-01T00:00:00",
          "1954-10-01T00:00:00",
          "1954-11-01T00:00:00",
          "1954-12-01T00:00:00",
          "1955-01-01T00:00:00",
          "1955-02-01T00:00:00",
          "1955-03-01T00:00:00",
          "1955-04-01T00:00:00"
         ],
         "y": [
          -1.421646,
          -1.3377799,
          -1.1420925,
          -1.1840255,
          -1.2958469,
          -1.1001594,
          -0.9184497,
          -0.9184497,
          -1.0861818,
          -1.3238022,
          -1.5334673,
          -1.3377799,
          -1.3797129,
          -1.2259585,
          -1.0162934,
          -1.1001594,
          -1.2399362,
          -0.904472,
          -0.6109408,
          -0.6109408,
          -0.77867293,
          -1.1281148,
          -1.3936906,
          -1.030271,
          -0.9603827,
          -0.8904943,
          -0.49911943,
          -0.7087845,
          -0.58298546,
          -0.49911943,
          -0.20558828,
          -0.20558828,
          -0.4152534,
          -0.7227622,
          -0.94640505,
          -0.6668515,
          -0.59696317,
          -0.47116408,
          -0.28945434,
          -0.4571864,
          -0.42923108,
          0.059987515,
          0.22771959,
          0.3954517,
          -0.06581155,
          -0.3174097,
          -0.58298546,
          -0.27547666,
          -0.24752133,
          -0.24752133,
          0.31158563,
          0.29760796,
          0.21374194,
          0.40942937,
          0.70296055,
          0.8147819,
          0.3255633,
          -0.0378562,
          -0.47116408,
          -0.17763294,
          -0.13569991,
          -0.35934272,
          0.29760796,
          0.18578659,
          0.28363028,
          0.70296055,
          1.2341121,
          1.1083131,
          0.6330722,
          0.21374194,
          -0.14967759,
          0.21374194,
          0.3954517,
          0.2696526,
          0.74489355,
          0.7728489
         ]
        },
        {
         "mode": "lines",
         "name": "val",
         "type": "scatter",
         "x": [
          "1955-05-01T00:00:00",
          "1955-06-01T00:00:00",
          "1955-07-01T00:00:00",
          "1955-08-01T00:00:00",
          "1955-09-01T00:00:00",
          "1955-10-01T00:00:00",
          "1955-11-01T00:00:00",
          "1955-12-01T00:00:00",
          "1956-01-01T00:00:00",
          "1956-02-01T00:00:00",
          "1956-03-01T00:00:00",
          "1956-04-01T00:00:00",
          "1956-05-01T00:00:00",
          "1956-06-01T00:00:00",
          "1956-07-01T00:00:00",
          "1956-08-01T00:00:00",
          "1956-09-01T00:00:00",
          "1956-10-01T00:00:00",
          "1956-11-01T00:00:00",
          "1956-12-01T00:00:00"
         ],
         "y": [
          0.7868266,
          1.4158219,
          2.100728,
          1.8631076,
          1.3738889,
          0.84273726,
          0.3255633,
          0.8986479,
          0.98251396,
          0.8846703,
          1.4437772,
          1.3878665,
          1.4577549,
          2.2405047,
          2.785634,
          2.6738126,
          1.974929,
          1.2900229,
          0.80080426,
          1.2900229
         ]
        },
        {
         "mode": "lines",
         "name": "test",
         "type": "scatter",
         "x": [
          "1957-01-01T00:00:00",
          "1957-02-01T00:00:00",
          "1957-03-01T00:00:00",
          "1957-04-01T00:00:00",
          "1957-05-01T00:00:00",
          "1957-06-01T00:00:00",
          "1957-07-01T00:00:00",
          "1957-08-01T00:00:00",
          "1957-09-01T00:00:00",
          "1957-10-01T00:00:00",
          "1957-11-01T00:00:00",
          "1957-12-01T00:00:00",
          "1958-01-01T00:00:00",
          "1958-02-01T00:00:00",
          "1958-03-01T00:00:00",
          "1958-04-01T00:00:00",
          "1958-05-01T00:00:00",
          "1958-06-01T00:00:00",
          "1958-07-01T00:00:00",
          "1958-08-01T00:00:00",
          "1958-09-01T00:00:00",
          "1958-10-01T00:00:00",
          "1958-11-01T00:00:00",
          "1958-12-01T00:00:00",
          "1959-01-01T00:00:00",
          "1959-02-01T00:00:00",
          "1959-03-01T00:00:00",
          "1959-04-01T00:00:00",
          "1959-05-01T00:00:00",
          "1959-06-01T00:00:00",
          "1959-07-01T00:00:00",
          "1959-08-01T00:00:00",
          "1959-09-01T00:00:00",
          "1959-10-01T00:00:00",
          "1959-11-01T00:00:00",
          "1959-12-01T00:00:00",
          "1960-01-01T00:00:00",
          "1960-02-01T00:00:00",
          "1960-03-01T00:00:00",
          "1960-04-01T00:00:00",
          "1960-05-01T00:00:00",
          "1960-06-01T00:00:00",
          "1960-07-01T00:00:00",
          "1960-08-01T00:00:00",
          "1960-09-01T00:00:00",
          "1960-10-01T00:00:00",
          "1960-11-01T00:00:00",
          "1960-12-01T00:00:00"
         ],
         "y": [
          1.4158219,
          1.2201344,
          1.9889066,
          1.8770852,
          1.974929,
          2.911433,
          3.512473,
          3.5404284,
          2.6598349,
          1.8631076,
          1.2760451,
          1.709353,
          1.7652637,
          1.4577549,
          2.0727727,
          1.8770852,
          2.0867503,
          3.0931427,
          3.8758924,
          4.07158,
          2.6598349,
          2.0308397,
          1.3459334,
          1.7233307,
          2.0448172,
          1.7932192,
          2.6877904,
          2.5480134,
          2.8834777,
          3.6103165,
          4.67262,
          4.826374,
          3.4845178,
          2.701768,
          2.0727727,
          2.6738126,
          2.8415446,
          2.478125,
          2.8695002,
          3.4565623,
          3.6103165,
          4.49091,
          5.706968,
          5.483325,
          4.113513,
          3.4565623,
          2.4641476,
          3.05121
         ]
        }
       ],
       "layout": {
        "template": {
         "data": {
          "bar": [
           {
            "error_x": {
             "color": "#2a3f5f"
            },
            "error_y": {
             "color": "#2a3f5f"
            },
            "marker": {
             "line": {
              "color": "white",
              "width": 0.5
             },
             "pattern": {
              "fillmode": "overlay",
              "size": 10,
              "solidity": 0.2
             }
            },
            "type": "bar"
           }
          ],
          "barpolar": [
           {
            "marker": {
             "line": {
              "color": "white",
              "width": 0.5
             },
             "pattern": {
              "fillmode": "overlay",
              "size": 10,
              "solidity": 0.2
             }
            },
            "type": "barpolar"
           }
          ],
          "carpet": [
           {
            "aaxis": {
             "endlinecolor": "#2a3f5f",
             "gridcolor": "#C8D4E3",
             "linecolor": "#C8D4E3",
             "minorgridcolor": "#C8D4E3",
             "startlinecolor": "#2a3f5f"
            },
            "baxis": {
             "endlinecolor": "#2a3f5f",
             "gridcolor": "#C8D4E3",
             "linecolor": "#C8D4E3",
             "minorgridcolor": "#C8D4E3",
             "startlinecolor": "#2a3f5f"
            },
            "type": "carpet"
           }
          ],
          "choropleth": [
           {
            "colorbar": {
             "outlinewidth": 0,
             "ticks": ""
            },
            "type": "choropleth"
           }
          ],
          "contour": [
           {
            "colorbar": {
             "outlinewidth": 0,
             "ticks": ""
            },
            "colorscale": [
             [
              0,
              "#0d0887"
             ],
             [
              0.1111111111111111,
              "#46039f"
             ],
             [
              0.2222222222222222,
              "#7201a8"
             ],
             [
              0.3333333333333333,
              "#9c179e"
             ],
             [
              0.4444444444444444,
              "#bd3786"
             ],
             [
              0.5555555555555556,
              "#d8576b"
             ],
             [
              0.6666666666666666,
              "#ed7953"
             ],
             [
              0.7777777777777778,
              "#fb9f3a"
             ],
             [
              0.8888888888888888,
              "#fdca26"
             ],
             [
              1,
              "#f0f921"
             ]
            ],
            "type": "contour"
           }
          ],
          "contourcarpet": [
           {
            "colorbar": {
             "outlinewidth": 0,
             "ticks": ""
            },
            "type": "contourcarpet"
           }
          ],
          "heatmap": [
           {
            "colorbar": {
             "outlinewidth": 0,
             "ticks": ""
            },
            "colorscale": [
             [
              0,
              "#0d0887"
             ],
             [
              0.1111111111111111,
              "#46039f"
             ],
             [
              0.2222222222222222,
              "#7201a8"
             ],
             [
              0.3333333333333333,
              "#9c179e"
             ],
             [
              0.4444444444444444,
              "#bd3786"
             ],
             [
              0.5555555555555556,
              "#d8576b"
             ],
             [
              0.6666666666666666,
              "#ed7953"
             ],
             [
              0.7777777777777778,
              "#fb9f3a"
             ],
             [
              0.8888888888888888,
              "#fdca26"
             ],
             [
              1,
              "#f0f921"
             ]
            ],
            "type": "heatmap"
           }
          ],
          "heatmapgl": [
           {
            "colorbar": {
             "outlinewidth": 0,
             "ticks": ""
            },
            "colorscale": [
             [
              0,
              "#0d0887"
             ],
             [
              0.1111111111111111,
              "#46039f"
             ],
             [
              0.2222222222222222,
              "#7201a8"
             ],
             [
              0.3333333333333333,
              "#9c179e"
             ],
             [
              0.4444444444444444,
              "#bd3786"
             ],
             [
              0.5555555555555556,
              "#d8576b"
             ],
             [
              0.6666666666666666,
              "#ed7953"
             ],
             [
              0.7777777777777778,
              "#fb9f3a"
             ],
             [
              0.8888888888888888,
              "#fdca26"
             ],
             [
              1,
              "#f0f921"
             ]
            ],
            "type": "heatmapgl"
           }
          ],
          "histogram": [
           {
            "marker": {
             "pattern": {
              "fillmode": "overlay",
              "size": 10,
              "solidity": 0.2
             }
            },
            "type": "histogram"
           }
          ],
          "histogram2d": [
           {
            "colorbar": {
             "outlinewidth": 0,
             "ticks": ""
            },
            "colorscale": [
             [
              0,
              "#0d0887"
             ],
             [
              0.1111111111111111,
              "#46039f"
             ],
             [
              0.2222222222222222,
              "#7201a8"
             ],
             [
              0.3333333333333333,
              "#9c179e"
             ],
             [
              0.4444444444444444,
              "#bd3786"
             ],
             [
              0.5555555555555556,
              "#d8576b"
             ],
             [
              0.6666666666666666,
              "#ed7953"
             ],
             [
              0.7777777777777778,
              "#fb9f3a"
             ],
             [
              0.8888888888888888,
              "#fdca26"
             ],
             [
              1,
              "#f0f921"
             ]
            ],
            "type": "histogram2d"
           }
          ],
          "histogram2dcontour": [
           {
            "colorbar": {
             "outlinewidth": 0,
             "ticks": ""
            },
            "colorscale": [
             [
              0,
              "#0d0887"
             ],
             [
              0.1111111111111111,
              "#46039f"
             ],
             [
              0.2222222222222222,
              "#7201a8"
             ],
             [
              0.3333333333333333,
              "#9c179e"
             ],
             [
              0.4444444444444444,
              "#bd3786"
             ],
             [
              0.5555555555555556,
              "#d8576b"
             ],
             [
              0.6666666666666666,
              "#ed7953"
             ],
             [
              0.7777777777777778,
              "#fb9f3a"
             ],
             [
              0.8888888888888888,
              "#fdca26"
             ],
             [
              1,
              "#f0f921"
             ]
            ],
            "type": "histogram2dcontour"
           }
          ],
          "mesh3d": [
           {
            "colorbar": {
             "outlinewidth": 0,
             "ticks": ""
            },
            "type": "mesh3d"
           }
          ],
          "parcoords": [
           {
            "line": {
             "colorbar": {
              "outlinewidth": 0,
              "ticks": ""
             }
            },
            "type": "parcoords"
           }
          ],
          "pie": [
           {
            "automargin": true,
            "type": "pie"
           }
          ],
          "scatter": [
           {
            "fillpattern": {
             "fillmode": "overlay",
             "size": 10,
             "solidity": 0.2
            },
            "type": "scatter"
           }
          ],
          "scatter3d": [
           {
            "line": {
             "colorbar": {
              "outlinewidth": 0,
              "ticks": ""
             }
            },
            "marker": {
             "colorbar": {
              "outlinewidth": 0,
              "ticks": ""
             }
            },
            "type": "scatter3d"
           }
          ],
          "scattercarpet": [
           {
            "marker": {
             "colorbar": {
              "outlinewidth": 0,
              "ticks": ""
             }
            },
            "type": "scattercarpet"
           }
          ],
          "scattergeo": [
           {
            "marker": {
             "colorbar": {
              "outlinewidth": 0,
              "ticks": ""
             }
            },
            "type": "scattergeo"
           }
          ],
          "scattergl": [
           {
            "marker": {
             "colorbar": {
              "outlinewidth": 0,
              "ticks": ""
             }
            },
            "type": "scattergl"
           }
          ],
          "scattermapbox": [
           {
            "marker": {
             "colorbar": {
              "outlinewidth": 0,
              "ticks": ""
             }
            },
            "type": "scattermapbox"
           }
          ],
          "scatterpolar": [
           {
            "marker": {
             "colorbar": {
              "outlinewidth": 0,
              "ticks": ""
             }
            },
            "type": "scatterpolar"
           }
          ],
          "scatterpolargl": [
           {
            "marker": {
             "colorbar": {
              "outlinewidth": 0,
              "ticks": ""
             }
            },
            "type": "scatterpolargl"
           }
          ],
          "scatterternary": [
           {
            "marker": {
             "colorbar": {
              "outlinewidth": 0,
              "ticks": ""
             }
            },
            "type": "scatterternary"
           }
          ],
          "surface": [
           {
            "colorbar": {
             "outlinewidth": 0,
             "ticks": ""
            },
            "colorscale": [
             [
              0,
              "#0d0887"
             ],
             [
              0.1111111111111111,
              "#46039f"
             ],
             [
              0.2222222222222222,
              "#7201a8"
             ],
             [
              0.3333333333333333,
              "#9c179e"
             ],
             [
              0.4444444444444444,
              "#bd3786"
             ],
             [
              0.5555555555555556,
              "#d8576b"
             ],
             [
              0.6666666666666666,
              "#ed7953"
             ],
             [
              0.7777777777777778,
              "#fb9f3a"
             ],
             [
              0.8888888888888888,
              "#fdca26"
             ],
             [
              1,
              "#f0f921"
             ]
            ],
            "type": "surface"
           }
          ],
          "table": [
           {
            "cells": {
             "fill": {
              "color": "#EBF0F8"
             },
             "line": {
              "color": "white"
             }
            },
            "header": {
             "fill": {
              "color": "#C8D4E3"
             },
             "line": {
              "color": "white"
             }
            },
            "type": "table"
           }
          ]
         },
         "layout": {
          "annotationdefaults": {
           "arrowcolor": "#2a3f5f",
           "arrowhead": 0,
           "arrowwidth": 1
          },
          "autotypenumbers": "strict",
          "coloraxis": {
           "colorbar": {
            "outlinewidth": 0,
            "ticks": ""
           }
          },
          "colorscale": {
           "diverging": [
            [
             0,
             "#8e0152"
            ],
            [
             0.1,
             "#c51b7d"
            ],
            [
             0.2,
             "#de77ae"
            ],
            [
             0.3,
             "#f1b6da"
            ],
            [
             0.4,
             "#fde0ef"
            ],
            [
             0.5,
             "#f7f7f7"
            ],
            [
             0.6,
             "#e6f5d0"
            ],
            [
             0.7,
             "#b8e186"
            ],
            [
             0.8,
             "#7fbc41"
            ],
            [
             0.9,
             "#4d9221"
            ],
            [
             1,
             "#276419"
            ]
           ],
           "sequential": [
            [
             0,
             "#0d0887"
            ],
            [
             0.1111111111111111,
             "#46039f"
            ],
            [
             0.2222222222222222,
             "#7201a8"
            ],
            [
             0.3333333333333333,
             "#9c179e"
            ],
            [
             0.4444444444444444,
             "#bd3786"
            ],
            [
             0.5555555555555556,
             "#d8576b"
            ],
            [
             0.6666666666666666,
             "#ed7953"
            ],
            [
             0.7777777777777778,
             "#fb9f3a"
            ],
            [
             0.8888888888888888,
             "#fdca26"
            ],
            [
             1,
             "#f0f921"
            ]
           ],
           "sequentialminus": [
            [
             0,
             "#0d0887"
            ],
            [
             0.1111111111111111,
             "#46039f"
            ],
            [
             0.2222222222222222,
             "#7201a8"
            ],
            [
             0.3333333333333333,
             "#9c179e"
            ],
            [
             0.4444444444444444,
             "#bd3786"
            ],
            [
             0.5555555555555556,
             "#d8576b"
            ],
            [
             0.6666666666666666,
             "#ed7953"
            ],
            [
             0.7777777777777778,
             "#fb9f3a"
            ],
            [
             0.8888888888888888,
             "#fdca26"
            ],
            [
             1,
             "#f0f921"
            ]
           ]
          },
          "colorway": [
           "#636efa",
           "#EF553B",
           "#00cc96",
           "#ab63fa",
           "#FFA15A",
           "#19d3f3",
           "#FF6692",
           "#B6E880",
           "#FF97FF",
           "#FECB52"
          ],
          "font": {
           "color": "#2a3f5f"
          },
          "geo": {
           "bgcolor": "white",
           "lakecolor": "white",
           "landcolor": "white",
           "showlakes": true,
           "showland": true,
           "subunitcolor": "#C8D4E3"
          },
          "hoverlabel": {
           "align": "left"
          },
          "hovermode": "closest",
          "mapbox": {
           "style": "light"
          },
          "paper_bgcolor": "white",
          "plot_bgcolor": "white",
          "polar": {
           "angularaxis": {
            "gridcolor": "#EBF0F8",
            "linecolor": "#EBF0F8",
            "ticks": ""
           },
           "bgcolor": "white",
           "radialaxis": {
            "gridcolor": "#EBF0F8",
            "linecolor": "#EBF0F8",
            "ticks": ""
           }
          },
          "scene": {
           "xaxis": {
            "backgroundcolor": "white",
            "gridcolor": "#DFE8F3",
            "gridwidth": 2,
            "linecolor": "#EBF0F8",
            "showbackground": true,
            "ticks": "",
            "zerolinecolor": "#EBF0F8"
           },
           "yaxis": {
            "backgroundcolor": "white",
            "gridcolor": "#DFE8F3",
            "gridwidth": 2,
            "linecolor": "#EBF0F8",
            "showbackground": true,
            "ticks": "",
            "zerolinecolor": "#EBF0F8"
           },
           "zaxis": {
            "backgroundcolor": "white",
            "gridcolor": "#DFE8F3",
            "gridwidth": 2,
            "linecolor": "#EBF0F8",
            "showbackground": true,
            "ticks": "",
            "zerolinecolor": "#EBF0F8"
           }
          },
          "shapedefaults": {
           "line": {
            "color": "#2a3f5f"
           }
          },
          "ternary": {
           "aaxis": {
            "gridcolor": "#DFE8F3",
            "linecolor": "#A2B1C6",
            "ticks": ""
           },
           "baxis": {
            "gridcolor": "#DFE8F3",
            "linecolor": "#A2B1C6",
            "ticks": ""
           },
           "bgcolor": "white",
           "caxis": {
            "gridcolor": "#DFE8F3",
            "linecolor": "#A2B1C6",
            "ticks": ""
           }
          },
          "title": {
           "x": 0.05
          },
          "xaxis": {
           "automargin": true,
           "gridcolor": "#EBF0F8",
           "linecolor": "#EBF0F8",
           "ticks": "",
           "title": {
            "standoff": 15
           },
           "zerolinecolor": "#EBF0F8",
           "zerolinewidth": 2
          },
          "yaxis": {
           "automargin": true,
           "gridcolor": "#EBF0F8",
           "linecolor": "#EBF0F8",
           "ticks": "",
           "title": {
            "standoff": 15
           },
           "zerolinecolor": "#EBF0F8",
           "zerolinewidth": 2
          }
         }
        },
        "title": {
         "text": "Airline passengers"
        }
       }
      }
     },
     "metadata": {},
     "output_type": "display_data"
    }
   ],
   "source": [
    "fig = go.Figure()\n",
    "fig.add_trace(go.Scatter(x=train.index, y=train.passengers, name=\"train\", mode=\"lines\"))\n",
    "fig.add_trace(go.Scatter(x=val.index, y=val.passengers, name=\"val\", mode=\"lines\"))\n",
    "fig.add_trace(go.Scatter(x=test.index, y=test.passengers, name=\"test\", mode=\"lines\"))\n",
    "fig.update_layout(title=\"Airline passengers\")\n",
    "fig.show()\n"
   ]
  },
  {
   "attachments": {},
   "cell_type": "markdown",
   "metadata": {},
   "source": [
    "We define constants to use for training:\n",
    "- `SEQ_LENGTH`: the number of time steps to use for training, *i.e.* the number of previous months to use to predict the next month\n",
    "- `N_EPOCHS`: the maximum number of epochs to train for\n",
    "- `BATCH_SIZE`: the batch size to use for training"
   ]
  },
  {
   "cell_type": "code",
   "execution_count": 77,
   "metadata": {},
   "outputs": [],
   "source": [
    "SEQ_LENGTH = 1\n",
    "N_EPOCHS = 200\n",
    "BATCH_SIZE = 8\n"
   ]
  },
  {
   "cell_type": "code",
   "execution_count": 78,
   "metadata": {},
   "outputs": [
    {
     "data": {
      "text/plain": [
       "(            passengers\n",
       " month                 \n",
       " 1949-01-01   -1.421646,\n",
       " passengers   -1.33778\n",
       " Name: 1949-02-01 00:00:00, dtype: float32)"
      ]
     },
     "execution_count": 78,
     "metadata": {},
     "output_type": "execute_result"
    }
   ],
   "source": [
    "\n",
    "# Generate train, validation and test sequences\n",
    "train_sequences = airline.create_sequences(data=train, seq_length=SEQ_LENGTH)\n",
    "val_sequences = airline.create_sequences(data=val, seq_length=SEQ_LENGTH)\n",
    "test_sequences = airline.create_sequences(data=test, seq_length=SEQ_LENGTH)\n",
    "train_sequences[0]"
   ]
  },
  {
   "cell_type": "code",
   "execution_count": 79,
   "metadata": {},
   "outputs": [
    {
     "name": "stdout",
     "output_type": "stream",
     "text": [
      "{'sequence': tensor([[[-1.4216]],\n",
      "\n",
      "        [[-1.3378]],\n",
      "\n",
      "        [[-1.1421]],\n",
      "\n",
      "        [[-1.1840]],\n",
      "\n",
      "        [[-1.2958]],\n",
      "\n",
      "        [[-1.1002]],\n",
      "\n",
      "        [[-0.9184]],\n",
      "\n",
      "        [[-0.9184]]]), 'label': tensor([[-1.3378],\n",
      "        [-1.1421],\n",
      "        [-1.1840],\n",
      "        [-1.2958],\n",
      "        [-1.1002],\n",
      "        [-0.9184],\n",
      "        [-0.9184],\n",
      "        [-1.0862]])}\n"
     ]
    }
   ],
   "source": [
    "train_dataset = airline.AirlineDataset(sequences=train_sequences)\n",
    "val_dataset = airline.AirlineDataset(sequences=val_sequences)\n",
    "test_dataset = airline.AirlineDataset(sequences=test_sequences)\n",
    "\n",
    "train_dataloader = DataLoader(train_dataset, batch_size=BATCH_SIZE, shuffle=False)\n",
    "val_dataloader = DataLoader(val_dataset, batch_size=BATCH_SIZE, shuffle=False)\n",
    "test_dataloader = DataLoader(test_dataset, batch_size=BATCH_SIZE, shuffle=False)\n",
    "\n",
    "for batch in train_dataloader:\n",
    "  print(batch)\n",
    "  break"
   ]
  },
  {
   "cell_type": "code",
   "execution_count": 80,
   "metadata": {},
   "outputs": [
    {
     "name": "stdout",
     "output_type": "stream",
     "text": [
      "Epoch 0: train loss 0.7224, val loss 3.2247\n",
      "Epoch 1: train loss 0.4406, val loss 2.4317\n",
      "Epoch 2: train loss 0.2674, val loss 1.4010\n",
      "Epoch 3: train loss 0.2244, val loss 1.0448\n",
      "Epoch 4: train loss 0.1456, val loss 0.9895\n",
      "Epoch 5: train loss 0.1191, val loss 1.2824\n",
      "Epoch 6: train loss 0.1188, val loss 1.2749\n",
      "Epoch 7: train loss 0.1349, val loss 1.2821\n",
      "Epoch 8: train loss 0.1001, val loss 1.0758\n",
      "Epoch 9: train loss 0.1028, val loss 1.1155\n",
      "Epoch 10: train loss 0.0919, val loss 1.0884\n",
      "Epoch 11: train loss 0.0996, val loss 1.0978\n",
      "Epoch 12: train loss 0.0865, val loss 0.9864\n",
      "Epoch 13: train loss 0.0964, val loss 1.0293\n",
      "Epoch 14: train loss 0.0845, val loss 0.9199\n",
      "Epoch 15: train loss 0.1018, val loss 0.9789\n",
      "Epoch 16: train loss 0.0845, val loss 0.8462\n",
      "Epoch 17: train loss 0.1037, val loss 0.9447\n",
      "Epoch 18: train loss 0.0832, val loss 0.8001\n",
      "Epoch 19: train loss 0.0992, val loss 0.9099\n",
      "Epoch 20: train loss 0.0807, val loss 0.7720\n",
      "Epoch 21: train loss 0.0932, val loss 0.8678\n",
      "Epoch 22: train loss 0.0781, val loss 0.7482\n",
      "Epoch 23: train loss 0.0871, val loss 0.8254\n",
      "Epoch 24: train loss 0.0759, val loss 0.7310\n",
      "Epoch 25: train loss 0.0815, val loss 0.7835\n",
      "Epoch 26: train loss 0.0747, val loss 0.7185\n",
      "Epoch 27: train loss 0.0769, val loss 0.7424\n",
      "Epoch 28: train loss 0.0745, val loss 0.7085\n",
      "Epoch 29: train loss 0.0735, val loss 0.7039\n",
      "Epoch 30: train loss 0.0749, val loss 0.6949\n",
      "Epoch 31: train loss 0.0724, val loss 0.6733\n",
      "Epoch 32: train loss 0.0744, val loss 0.6726\n",
      "Epoch 33: train loss 0.0732, val loss 0.6584\n",
      "Epoch 34: train loss 0.0717, val loss 0.6481\n",
      "Epoch 35: train loss 0.0747, val loss 0.6495\n",
      "Epoch 36: train loss 0.0712, val loss 0.6285\n",
      "Epoch 37: train loss 0.0739, val loss 0.6250\n",
      "Epoch 38: train loss 0.0742, val loss 0.6275\n",
      "Epoch 39: train loss 0.0694, val loss 0.6036\n",
      "Epoch 40: train loss 0.0780, val loss 0.6144\n",
      "Epoch 41: train loss 0.0732, val loss 0.5961\n",
      "Epoch 42: train loss 0.0722, val loss 0.5796\n",
      "Epoch 43: train loss 0.0806, val loss 0.6178\n",
      "Epoch 44: train loss 0.0723, val loss 0.5532\n",
      "Epoch 45: train loss 0.0876, val loss 0.5615\n",
      "Epoch 46: train loss 0.0813, val loss 0.5923\n",
      "Epoch 47: train loss 0.0731, val loss 0.5520\n",
      "Epoch 48: train loss 0.0929, val loss 0.6197\n",
      "Epoch 49: train loss 0.0761, val loss 0.5764\n",
      "Epoch 50: train loss 0.0698, val loss 0.5978\n",
      "Epoch 51: train loss 0.0821, val loss 0.6593\n",
      "Epoch 52: train loss 0.0724, val loss 0.5857\n",
      "Epoch 53: train loss 0.0712, val loss 0.6073\n",
      "Epoch 54: train loss 0.0765, val loss 0.6348\n",
      "Epoch 55: train loss 0.0702, val loss 0.5793\n",
      "Epoch 56: train loss 0.0729, val loss 0.6061\n",
      "Epoch 57: train loss 0.0738, val loss 0.6130\n",
      "Epoch 58: train loss 0.0689, val loss 0.5728\n",
      "Epoch 59: train loss 0.0736, val loss 0.5980\n",
      "Epoch 60: train loss 0.0726, val loss 0.5938\n",
      "Epoch 61: train loss 0.0682, val loss 0.5627\n",
      "Epoch 62: train loss 0.0743, val loss 0.5892\n",
      "Epoch 63: train loss 0.0719, val loss 0.5761\n",
      "Epoch 64: train loss 0.0679, val loss 0.5518\n",
      "Epoch 65: train loss 0.0753, val loss 0.5830\n",
      "Epoch 66: train loss 0.0717, val loss 0.5590\n",
      "Epoch 67: train loss 0.0681, val loss 0.5412\n",
      "Epoch 68: train loss 0.0770, val loss 0.5810\n",
      "Epoch 69: train loss 0.0718, val loss 0.5412\n",
      "Epoch 70: train loss 0.0690, val loss 0.5319\n",
      "Epoch 71: train loss 0.0793, val loss 0.5840\n",
      "Epoch 72: train loss 0.0730, val loss 0.5225\n",
      "Epoch 73: train loss 0.0711, val loss 0.5263\n",
      "Epoch 74: train loss 0.0820, val loss 0.5918\n",
      "Epoch 75: train loss 0.0750, val loss 0.5074\n",
      "Epoch 76: train loss 0.0737, val loss 0.5303\n",
      "Epoch 77: train loss 0.0832, val loss 0.6020\n",
      "Epoch 78: train loss 0.0760, val loss 0.5055\n",
      "Epoch 79: train loss 0.0746, val loss 0.5464\n",
      "Epoch 80: train loss 0.0818, val loss 0.6106\n",
      "Epoch 81: train loss 0.0744, val loss 0.5181\n",
      "Epoch 82: train loss 0.0735, val loss 0.5620\n",
      "Epoch 83: train loss 0.0792, val loss 0.6124\n",
      "Epoch 84: train loss 0.0721, val loss 0.5306\n",
      "Epoch 85: train loss 0.0724, val loss 0.5667\n",
      "Epoch 86: train loss 0.0773, val loss 0.6063\n",
      "Epoch 87: train loss 0.0706, val loss 0.5351\n",
      "Epoch 88: train loss 0.0717, val loss 0.5636\n",
      "Epoch 89: train loss 0.0761, val loss 0.5970\n",
      "Epoch 90: train loss 0.0699, val loss 0.5332\n",
      "Epoch 91: train loss 0.0714, val loss 0.5574\n",
      "Epoch 92: train loss 0.0755, val loss 0.5881\n",
      "Epoch 93: train loss 0.0695, val loss 0.5283\n",
      "Epoch 94: train loss 0.0713, val loss 0.5504\n",
      "Epoch 95: train loss 0.0754, val loss 0.5811\n",
      "Epoch 96: train loss 0.0694, val loss 0.5221\n",
      "Epoch 97: train loss 0.0714, val loss 0.5438\n",
      "Epoch 98: train loss 0.0757, val loss 0.5768\n",
      "Epoch 99: train loss 0.0694, val loss 0.5158\n",
      "Epoch 100: train loss 0.0715, val loss 0.5378\n",
      "Epoch 101: train loss 0.0763, val loss 0.5751\n",
      "Epoch 102: train loss 0.0697, val loss 0.5097\n",
      "Epoch 103: train loss 0.0716, val loss 0.5325\n",
      "Epoch 104: train loss 0.0771, val loss 0.5761\n",
      "Epoch 105: train loss 0.0702, val loss 0.5044\n",
      "Epoch 106: train loss 0.0718, val loss 0.5279\n",
      "Epoch 107: train loss 0.0782, val loss 0.5798\n",
      "Epoch 108: train loss 0.0710, val loss 0.5002\n",
      "Epoch 109: train loss 0.0718, val loss 0.5239\n",
      "Epoch 110: train loss 0.0796, val loss 0.5860\n",
      "Epoch 111: train loss 0.0722, val loss 0.4976\n",
      "Epoch 112: train loss 0.0719, val loss 0.5208\n",
      "Epoch 113: train loss 0.0812, val loss 0.5942\n",
      "Epoch 114: train loss 0.0736, val loss 0.4971\n",
      "Epoch 115: train loss 0.0718, val loss 0.5191\n",
      "Epoch 116: train loss 0.0827, val loss 0.6038\n",
      "Epoch 117: train loss 0.0749, val loss 0.4993\n",
      "Epoch 118: train loss 0.0716, val loss 0.5197\n",
      "Epoch 119: train loss 0.0839, val loss 0.6134\n",
      "Epoch 120: train loss 0.0756, val loss 0.5043\n",
      "Epoch 121: train loss 0.0712, val loss 0.5229\n",
      "Epoch 122: train loss 0.0843, val loss 0.6210\n",
      "Epoch 123: train loss 0.0755, val loss 0.5114\n",
      "Epoch 124: train loss 0.0707, val loss 0.5280\n",
      "Epoch 125: train loss 0.0837, val loss 0.6246\n",
      "Epoch 126: train loss 0.0746, val loss 0.5189\n",
      "Epoch 127: train loss 0.0702, val loss 0.5325\n",
      "Epoch 128: train loss 0.0825, val loss 0.6235\n",
      "Epoch 129: train loss 0.0736, val loss 0.5250\n",
      "Epoch 130: train loss 0.0696, val loss 0.5345\n",
      "Epoch 131: train loss 0.0812, val loss 0.6190\n",
      "Epoch 132: train loss 0.0728, val loss 0.5285\n",
      "Epoch 133: train loss 0.0692, val loss 0.5338\n",
      "Epoch 134: train loss 0.0802, val loss 0.6133\n",
      "Epoch 135: train loss 0.0724, val loss 0.5298\n",
      "Epoch 136: train loss 0.0689, val loss 0.5307\n",
      "Epoch 137: train loss 0.0798, val loss 0.6083\n",
      "Epoch 138: train loss 0.0722, val loss 0.5295\n",
      "Epoch 139: train loss 0.0686, val loss 0.5264\n",
      "Epoch 140: train loss 0.0798, val loss 0.6049\n",
      "Epoch 141: train loss 0.0724, val loss 0.5286\n",
      "Epoch 142: train loss 0.0685, val loss 0.5214\n",
      "Epoch 143: train loss 0.0802, val loss 0.6036\n",
      "Epoch 144: train loss 0.0728, val loss 0.5274\n",
      "Epoch 145: train loss 0.0683, val loss 0.5166\n",
      "Epoch 146: train loss 0.0809, val loss 0.6046\n",
      "Epoch 147: train loss 0.0733, val loss 0.5264\n",
      "Epoch 148: train loss 0.0683, val loss 0.5124\n",
      "Epoch 149: train loss 0.0819, val loss 0.6078\n",
      "Epoch 150: train loss 0.0739, val loss 0.5258\n",
      "Epoch 151: train loss 0.0684, val loss 0.5096\n",
      "Epoch 152: train loss 0.0829, val loss 0.6125\n",
      "Epoch 153: train loss 0.0745, val loss 0.5256\n",
      "Epoch 154: train loss 0.0685, val loss 0.5087\n",
      "Epoch 155: train loss 0.0838, val loss 0.6180\n",
      "Epoch 156: train loss 0.0748, val loss 0.5262\n",
      "Epoch 157: train loss 0.0687, val loss 0.5100\n",
      "Epoch 158: train loss 0.0842, val loss 0.6228\n",
      "Epoch 159: train loss 0.0749, val loss 0.5276\n",
      "Epoch 160: train loss 0.0688, val loss 0.5128\n",
      "Epoch 161: train loss 0.0840, val loss 0.6257\n",
      "Epoch 162: train loss 0.0746, val loss 0.5299\n",
      "Epoch 163: train loss 0.0687, val loss 0.5162\n",
      "Epoch 164: train loss 0.0834, val loss 0.6261\n",
      "Epoch 165: train loss 0.0742, val loss 0.5326\n",
      "Epoch 166: train loss 0.0686, val loss 0.5187\n",
      "Epoch 167: train loss 0.0826, val loss 0.6245\n",
      "Epoch 168: train loss 0.0737, val loss 0.5350\n",
      "Epoch 169: train loss 0.0684, val loss 0.5199\n",
      "Epoch 170: train loss 0.0819, val loss 0.6216\n",
      "Epoch 171: train loss 0.0734, val loss 0.5369\n",
      "Epoch 172: train loss 0.0682, val loss 0.5194\n",
      "Epoch 173: train loss 0.0814, val loss 0.6185\n",
      "Epoch 174: train loss 0.0733, val loss 0.5382\n",
      "Epoch 175: train loss 0.0680, val loss 0.5178\n",
      "Epoch 176: train loss 0.0811, val loss 0.6160\n",
      "Epoch 177: train loss 0.0733, val loss 0.5390\n",
      "Epoch 178: train loss 0.0679, val loss 0.5155\n",
      "Epoch 179: train loss 0.0811, val loss 0.6145\n",
      "Epoch 180: train loss 0.0735, val loss 0.5396\n",
      "Epoch 181: train loss 0.0678, val loss 0.5129\n",
      "Epoch 182: train loss 0.0813, val loss 0.6141\n",
      "Epoch 183: train loss 0.0737, val loss 0.5402\n",
      "Epoch 184: train loss 0.0678, val loss 0.5105\n",
      "Epoch 185: train loss 0.0817, val loss 0.6148\n",
      "Epoch 186: train loss 0.0740, val loss 0.5408\n",
      "Epoch 187: train loss 0.0678, val loss 0.5086\n",
      "Epoch 188: train loss 0.0821, val loss 0.6164\n",
      "Epoch 189: train loss 0.0742, val loss 0.5415\n",
      "Epoch 190: train loss 0.0678, val loss 0.5073\n",
      "Epoch 191: train loss 0.0825, val loss 0.6186\n",
      "Epoch 192: train loss 0.0745, val loss 0.5423\n",
      "Epoch 193: train loss 0.0679, val loss 0.5068\n",
      "Epoch 194: train loss 0.0828, val loss 0.6211\n",
      "Epoch 195: train loss 0.0746, val loss 0.5432\n",
      "Epoch 196: train loss 0.0679, val loss 0.5070\n",
      "Epoch 197: train loss 0.0830, val loss 0.6234\n",
      "Epoch 198: train loss 0.0747, val loss 0.5442\n",
      "Epoch 199: train loss 0.0679, val loss 0.5078\n"
     ]
    }
   ],
   "source": [
    "lstm = asi.CustomLSTM(input_size=1, hidden_size=1, num_layers=1, output_size=1)\n",
    "optimizer = optim.Adam(lstm.parameters(), lr=0.08)\n",
    "loss_fn = nn.MSELoss()\n",
    "predictor = asi.PassengerPredictor(model=lstm, optimizer=optimizer, loss_fn=loss_fn)\n",
    "train_losses, val_losses = predictor.train(\n",
    "  model=lstm,\n",
    "  train_dataloader=train_dataloader,\n",
    "  val_dataloader=val_dataloader,\n",
    "  optimizer=optimizer,\n",
    "  loss_fn=loss_fn,\n",
    "  n_epochs=N_EPOCHS,\n",
    ")\n"
   ]
  },
  {
   "cell_type": "code",
   "execution_count": 81,
   "metadata": {},
   "outputs": [
    {
     "name": "stdout",
     "output_type": "stream",
     "text": [
      "tensor([[[1.4158]],\n",
      "\n",
      "        [[1.2201]],\n",
      "\n",
      "        [[1.9889]],\n",
      "\n",
      "        [[1.8771]],\n",
      "\n",
      "        [[1.9749]],\n",
      "\n",
      "        [[2.9114]],\n",
      "\n",
      "        [[3.5125]],\n",
      "\n",
      "        [[3.5404]]])\n",
      "tensor([[[2.6598]],\n",
      "\n",
      "        [[1.8631]],\n",
      "\n",
      "        [[1.2760]],\n",
      "\n",
      "        [[1.7094]],\n",
      "\n",
      "        [[1.7653]],\n",
      "\n",
      "        [[1.4578]],\n",
      "\n",
      "        [[2.0728]],\n",
      "\n",
      "        [[1.8771]]])\n",
      "tensor([[[2.0868]],\n",
      "\n",
      "        [[3.0931]],\n",
      "\n",
      "        [[3.8759]],\n",
      "\n",
      "        [[4.0716]],\n",
      "\n",
      "        [[2.6598]],\n",
      "\n",
      "        [[2.0308]],\n",
      "\n",
      "        [[1.3459]],\n",
      "\n",
      "        [[1.7233]]])\n",
      "tensor([[[2.0448]],\n",
      "\n",
      "        [[1.7932]],\n",
      "\n",
      "        [[2.6878]],\n",
      "\n",
      "        [[2.5480]],\n",
      "\n",
      "        [[2.8835]],\n",
      "\n",
      "        [[3.6103]],\n",
      "\n",
      "        [[4.6726]],\n",
      "\n",
      "        [[4.8264]]])\n",
      "tensor([[[3.4845]],\n",
      "\n",
      "        [[2.7018]],\n",
      "\n",
      "        [[2.0728]],\n",
      "\n",
      "        [[2.6738]],\n",
      "\n",
      "        [[2.8415]],\n",
      "\n",
      "        [[2.4781]],\n",
      "\n",
      "        [[2.8695]],\n",
      "\n",
      "        [[3.4566]]])\n",
      "tensor([[[3.6103]],\n",
      "\n",
      "        [[4.4909]],\n",
      "\n",
      "        [[5.7070]],\n",
      "\n",
      "        [[5.4833]],\n",
      "\n",
      "        [[4.1135]],\n",
      "\n",
      "        [[3.4566]],\n",
      "\n",
      "        [[2.4641]]])\n"
     ]
    },
    {
     "data": {
      "text/plain": [
       "array([[0.98895586],\n",
       "       [0.93959653],\n",
       "       [1.0697905 ],\n",
       "       [1.0593091 ],\n",
       "       [1.0685829 ],\n",
       "       [1.1103901 ],\n",
       "       [1.1176673 ],\n",
       "       [1.1178652 ],\n",
       "       [1.104524  ],\n",
       "       [1.0578591 ],\n",
       "       [0.95525455],\n",
       "       [1.039523  ],\n",
       "       [1.0467268 ],\n",
       "       [0.9977077 ],\n",
       "       [1.0764824 ],\n",
       "       [1.0593091 ],\n",
       "       [1.077511  ],\n",
       "       [1.1133622 ],\n",
       "       [1.1196758 ],\n",
       "       [1.1203736 ],\n",
       "       [1.104524  ],\n",
       "       [1.0732516 ],\n",
       "       [0.97302234],\n",
       "       [1.0413858 ],\n",
       "       [1.0743531 ],\n",
       "       [1.0500904 ],\n",
       "       [1.1053001 ],\n",
       "       [1.1010374 ],\n",
       "       [1.10985   ],\n",
       "       [1.1183239 ],\n",
       "       [1.1215967 ],\n",
       "       [1.1217741 ],\n",
       "       [1.1174604 ],\n",
       "       [1.1056753 ],\n",
       "       [1.0764824 ],\n",
       "       [1.1049167 ],\n",
       "       [1.1089932 ],\n",
       "       [1.0985113 ],\n",
       "       [1.1095704 ],\n",
       "       [1.1172446 ],\n",
       "       [1.1183239 ],\n",
       "       [1.1213318 ],\n",
       "       [1.1223093 ],\n",
       "       [1.1222249 ],\n",
       "       [1.1204985 ],\n",
       "       [1.1172446 ],\n",
       "       [1.0979706 ]], dtype=float32)"
      ]
     },
     "execution_count": 81,
     "metadata": {},
     "output_type": "execute_result"
    }
   ],
   "source": [
    "def predict(model, dataloader):\n",
    "  model.eval()\n",
    "  preds = []\n",
    "  for batch in dataloader:\n",
    "    print(batch[\"sequence\"])\n",
    "    pred = model(batch[\"sequence\"])\n",
    "    preds.append(pred)\n",
    "  return torch.cat(preds).detach().numpy()\n",
    "predict(lstm, test_dataloader)"
   ]
  },
  {
   "cell_type": "code",
   "execution_count": 61,
   "metadata": {},
   "outputs": [
    {
     "name": "stderr",
     "output_type": "stream",
     "text": [
      "  0%|          | 0/37 [00:00<?, ?it/s]\n"
     ]
    },
    {
     "ename": "NameError",
     "evalue": "name 'criterion' is not defined",
     "output_type": "error",
     "traceback": [
      "\u001b[0;31m---------------------------------------------------------------------------\u001b[0m",
      "\u001b[0;31mNameError\u001b[0m                                 Traceback (most recent call last)",
      "\u001b[1;32m/media/joris/uca-msc-dsai/dl_computer_vision/assignments/1/airline.ipynb Cell 17\u001b[0m in \u001b[0;36m5\n\u001b[1;32m      <a href='vscode-notebook-cell:/media/joris/uca-msc-dsai/dl_computer_vision/assignments/1/airline.ipynb#X32sZmlsZQ%3D%3D?line=2'>3</a>\u001b[0m optimizer\u001b[39m.\u001b[39mzero_grad()\n\u001b[1;32m      <a href='vscode-notebook-cell:/media/joris/uca-msc-dsai/dl_computer_vision/assignments/1/airline.ipynb#X32sZmlsZQ%3D%3D?line=3'>4</a>\u001b[0m pred \u001b[39m=\u001b[39m lstm(batch[\u001b[39m\"\u001b[39m\u001b[39msequence\u001b[39m\u001b[39m\"\u001b[39m])\n\u001b[0;32m----> <a href='vscode-notebook-cell:/media/joris/uca-msc-dsai/dl_computer_vision/assignments/1/airline.ipynb#X32sZmlsZQ%3D%3D?line=4'>5</a>\u001b[0m loss \u001b[39m=\u001b[39m criterion(pred, batch[\u001b[39m\"\u001b[39m\u001b[39mlabel\u001b[39m\u001b[39m\"\u001b[39m])\n\u001b[1;32m      <a href='vscode-notebook-cell:/media/joris/uca-msc-dsai/dl_computer_vision/assignments/1/airline.ipynb#X32sZmlsZQ%3D%3D?line=5'>6</a>\u001b[0m loss\u001b[39m.\u001b[39mbackward()\n\u001b[1;32m      <a href='vscode-notebook-cell:/media/joris/uca-msc-dsai/dl_computer_vision/assignments/1/airline.ipynb#X32sZmlsZQ%3D%3D?line=6'>7</a>\u001b[0m optimizer\u001b[39m.\u001b[39mstep()\n",
      "\u001b[0;31mNameError\u001b[0m: name 'criterion' is not defined"
     ]
    }
   ],
   "source": [
    "for idx in range(N_EPOCHS):\n",
    "  for batch in tqdm(train_dataloader):\n",
    "    optimizer.zero_grad()\n",
    "    pred = lstm(batch[\"sequence\"])\n",
    "    loss = criterion(pred, batch[\"label\"])\n",
    "    loss.backward()\n",
    "    optimizer.step()\n",
    "  # sequence = torch.tensor(sequence.values).double()\n",
    "  # label = torch.tensor(label.values).double()\n",
    "  optimizer = optim.Adam(lstm.parameters(), lr=0.01)\n",
    "\n",
    "  with torch.no_grad():\n",
    "    future = 1\n",
    "    pred = lstm(test_input, future=future)\n",
    "    loss = criterion(pred[:, :-future], test_target)\n",
    "    print(\"test loss:\", loss.item())\n",
    "    y = pred.detach().numpy()\n",
    "  if idx >= 3:\n",
    "    break\n"
   ]
  },
  {
   "cell_type": "code",
   "execution_count": null,
   "metadata": {},
   "outputs": [],
   "source": [
    "\n",
    "data_module = airline.AirlineDataModule(\n",
    "  train_sequences=train_sequences,\n",
    "  val_sequences=val_sequences,\n",
    "  test_sequences=test_sequences,\n",
    "  batch_size=BATCH_SIZE,\n",
    ")\n",
    "data_module.setup()\n",
    "\n",
    "# Create the dataset\n",
    "train_dataset = airline.AirlineDataset(sequences=train_sequences)\n",
    "\n",
    "# Print an example from the dataset\n",
    "for item in train_dataset:\n",
    "  print(f\"\"\"Using: {item[\"sequence\"]}\"\"\")\n",
    "  print(f\"\"\"The model is trying to predict: {item[\"label\"]}\"\"\")\n",
    "  break\n"
   ]
  },
  {
   "attachments": {},
   "cell_type": "markdown",
   "metadata": {},
   "source": [
    "## Model\n",
    "\n",
    "We define the model and start training."
   ]
  },
  {
   "cell_type": "code",
   "execution_count": null,
   "metadata": {},
   "outputs": [
    {
     "name": "stderr",
     "output_type": "stream",
     "text": [
      "/home/joris/.local/lib/python3.10/site-packages/torch/nn/modules/rnn.py:62: UserWarning:\n",
      "\n",
      "dropout option adds dropout after all but last recurrent layer, so non-zero dropout expects num_layers greater than 1, but got dropout=0.1 and num_layers=1\n",
      "\n"
     ]
    },
    {
     "data": {
      "text/plain": [
       "PassengerPredictor(\n",
       "  (model): PassengerPredictionModel(\n",
       "    (lstm): LSTM(1, 20, batch_first=True, dropout=0.1)\n",
       "    (linear): Linear(in_features=20, out_features=1, bias=True)\n",
       "  )\n",
       "  (criterion): MSELoss()\n",
       ")"
      ]
     },
     "execution_count": 9,
     "metadata": {},
     "output_type": "execute_result"
    }
   ],
   "source": [
    "lr = 0.001 # learning rate\n",
    "\n",
    "# Create the model\n",
    "model = airline.PassengerPredictor(n_features=1, lr=lr, weight_decay=1e-2)\n",
    "model"
   ]
  },
  {
   "attachments": {},
   "cell_type": "markdown",
   "metadata": {},
   "source": [
    "For monitoring the training, we use TensorBoard. We also save the best model based on the validation loss."
   ]
  },
  {
   "cell_type": "code",
   "execution_count": null,
   "metadata": {},
   "outputs": [
    {
     "name": "stderr",
     "output_type": "stream",
     "text": [
      "/media/joris/apps/miniconda/lib/python3.10/site-packages/pytorch_lightning/trainer/connectors/accelerator_connector.py:474: LightningDeprecationWarning:\n",
      "\n",
      "Setting `Trainer(gpus=1)` is deprecated in v1.7 and will be removed in v2.0. Please use `Trainer(accelerator='gpu', devices=1)` instead.\n",
      "\n",
      "GPU available: True (cuda), used: True\n",
      "TPU available: False, using: 0 TPU cores\n",
      "IPU available: False, using: 0 IPUs\n",
      "HPU available: False, using: 0 HPUs\n"
     ]
    }
   ],
   "source": [
    "# Create a callback to save the best model\n",
    "checkpoint_callback = pl.callbacks.ModelCheckpoint(\n",
    "  monitor=\"val_loss\",\n",
    "  dirpath=\"checkpoints\",\n",
    "  save_top_k=1,\n",
    "  mode=\"min\",\n",
    "  filename=\"best_checkpoint\",\n",
    "  verbose=True,\n",
    ")\n",
    "\n",
    "# Create a logger for TensorBoard\n",
    "logger = pl.loggers.TensorBoardLogger(\"logs\", name=\"airline\")\n",
    "\n",
    "# Create a callback to stop training early if the validation loss does not improve\n",
    "early_stop_callback = pl.callbacks.EarlyStopping(\n",
    "  monitor=\"val_loss\",\n",
    "  patience=10,\n",
    "  min_delta=400,\n",
    "  verbose=True,\n",
    "  mode=\"min\",\n",
    ")\n",
    "\n",
    "# Create the trainer\n",
    "trainer = pl.Trainer(\n",
    "  logger=logger,\n",
    "  callbacks=[checkpoint_callback, early_stop_callback],\n",
    "  max_epochs=N_EPOCHS,\n",
    "  gpus=1,\n",
    ")\n"
   ]
  },
  {
   "cell_type": "code",
   "execution_count": null,
   "metadata": {},
   "outputs": [
    {
     "name": "stderr",
     "output_type": "stream",
     "text": [
      "/media/joris/apps/miniconda/lib/python3.10/site-packages/pytorch_lightning/callbacks/model_checkpoint.py:613: UserWarning:\n",
      "\n",
      "Checkpoint directory /media/joris/uca-msc-dsai/dl_computer_vision/assignments/1/checkpoints exists and is not empty.\n",
      "\n",
      "LOCAL_RANK: 0 - CUDA_VISIBLE_DEVICES: [0]\n",
      "\n",
      "  | Name      | Type                     | Params\n",
      "-------------------------------------------------------\n",
      "0 | model     | PassengerPredictionModel | 1.9 K \n",
      "1 | criterion | MSELoss                  | 0     \n",
      "-------------------------------------------------------\n",
      "1.9 K     Trainable params\n",
      "0         Non-trainable params\n",
      "1.9 K     Total params\n",
      "0.007     Total estimated model params size (MB)\n"
     ]
    },
    {
     "data": {
      "application/vnd.jupyter.widget-view+json": {
       "model_id": "4b1b5441701c40dc8992c19dd1972e88",
       "version_major": 2,
       "version_minor": 0
      },
      "text/plain": [
       "Sanity Checking: 0it [00:00, ?it/s]"
      ]
     },
     "metadata": {},
     "output_type": "display_data"
    },
    {
     "name": "stderr",
     "output_type": "stream",
     "text": [
      "/media/joris/apps/miniconda/lib/python3.10/site-packages/pytorch_lightning/trainer/trainer.py:1609: PossibleUserWarning:\n",
      "\n",
      "The number of training batches (38) is smaller than the logging interval Trainer(log_every_n_steps=50). Set a lower value for log_every_n_steps if you want to see logs for the training epoch.\n",
      "\n"
     ]
    },
    {
     "data": {
      "application/vnd.jupyter.widget-view+json": {
       "model_id": "3a11dedf390049d397c8f083ef2a4fa3",
       "version_major": 2,
       "version_minor": 0
      },
      "text/plain": [
       "Training: 0it [00:00, ?it/s]"
      ]
     },
     "metadata": {},
     "output_type": "display_data"
    },
    {
     "data": {
      "application/vnd.jupyter.widget-view+json": {
       "model_id": "a3080b5bb2004d7ea0e452f9009626bb",
       "version_major": 2,
       "version_minor": 0
      },
      "text/plain": [
       "Validation: 0it [00:00, ?it/s]"
      ]
     },
     "metadata": {},
     "output_type": "display_data"
    },
    {
     "name": "stderr",
     "output_type": "stream",
     "text": [
      "Metric val_loss improved. New best score: 103895.609\n",
      "Epoch 0, global step 38: 'val_loss' reached 103895.60938 (best 103895.60938), saving model to '/media/joris/uca-msc-dsai/dl_computer_vision/assignments/1/checkpoints/best_checkpoint-v1.ckpt' as top 1\n"
     ]
    },
    {
     "data": {
      "application/vnd.jupyter.widget-view+json": {
       "model_id": "2b7bcae27f604587aa186e886fb6547c",
       "version_major": 2,
       "version_minor": 0
      },
      "text/plain": [
       "Validation: 0it [00:00, ?it/s]"
      ]
     },
     "metadata": {},
     "output_type": "display_data"
    },
    {
     "name": "stderr",
     "output_type": "stream",
     "text": [
      "Epoch 1, global step 76: 'val_loss' reached 103574.68750 (best 103574.68750), saving model to '/media/joris/uca-msc-dsai/dl_computer_vision/assignments/1/checkpoints/best_checkpoint-v1.ckpt' as top 1\n"
     ]
    },
    {
     "data": {
      "application/vnd.jupyter.widget-view+json": {
       "model_id": "f04bbf213e964a9d882a4af04163dc7a",
       "version_major": 2,
       "version_minor": 0
      },
      "text/plain": [
       "Validation: 0it [00:00, ?it/s]"
      ]
     },
     "metadata": {},
     "output_type": "display_data"
    },
    {
     "name": "stderr",
     "output_type": "stream",
     "text": [
      "Metric val_loss improved by 597.242 >= min_delta = 400. New best score: 103298.367\n",
      "Epoch 2, global step 114: 'val_loss' reached 103298.36719 (best 103298.36719), saving model to '/media/joris/uca-msc-dsai/dl_computer_vision/assignments/1/checkpoints/best_checkpoint-v1.ckpt' as top 1\n"
     ]
    },
    {
     "data": {
      "application/vnd.jupyter.widget-view+json": {
       "model_id": "875d46d2267c42c3b59e9440181fa101",
       "version_major": 2,
       "version_minor": 0
      },
      "text/plain": [
       "Validation: 0it [00:00, ?it/s]"
      ]
     },
     "metadata": {},
     "output_type": "display_data"
    },
    {
     "name": "stderr",
     "output_type": "stream",
     "text": [
      "Epoch 3, global step 152: 'val_loss' reached 103110.75781 (best 103110.75781), saving model to '/media/joris/uca-msc-dsai/dl_computer_vision/assignments/1/checkpoints/best_checkpoint-v1.ckpt' as top 1\n"
     ]
    },
    {
     "data": {
      "application/vnd.jupyter.widget-view+json": {
       "model_id": "11d587c63e3243f8880603a100f7a089",
       "version_major": 2,
       "version_minor": 0
      },
      "text/plain": [
       "Validation: 0it [00:00, ?it/s]"
      ]
     },
     "metadata": {},
     "output_type": "display_data"
    },
    {
     "name": "stderr",
     "output_type": "stream",
     "text": [
      "Epoch 4, global step 190: 'val_loss' reached 102909.85156 (best 102909.85156), saving model to '/media/joris/uca-msc-dsai/dl_computer_vision/assignments/1/checkpoints/best_checkpoint-v1.ckpt' as top 1\n"
     ]
    },
    {
     "data": {
      "application/vnd.jupyter.widget-view+json": {
       "model_id": "9ef04f3bc04f427780495bc2ce80d282",
       "version_major": 2,
       "version_minor": 0
      },
      "text/plain": [
       "Validation: 0it [00:00, ?it/s]"
      ]
     },
     "metadata": {},
     "output_type": "display_data"
    },
    {
     "name": "stderr",
     "output_type": "stream",
     "text": [
      "Metric val_loss improved by 899.141 >= min_delta = 400. New best score: 102399.227\n",
      "Epoch 5, global step 228: 'val_loss' reached 102399.22656 (best 102399.22656), saving model to '/media/joris/uca-msc-dsai/dl_computer_vision/assignments/1/checkpoints/best_checkpoint-v1.ckpt' as top 1\n"
     ]
    },
    {
     "data": {
      "application/vnd.jupyter.widget-view+json": {
       "model_id": "2f9e8503308941ffbbcbdac7831b7927",
       "version_major": 2,
       "version_minor": 0
      },
      "text/plain": [
       "Validation: 0it [00:00, ?it/s]"
      ]
     },
     "metadata": {},
     "output_type": "display_data"
    },
    {
     "name": "stderr",
     "output_type": "stream",
     "text": [
      "Metric val_loss improved by 435.727 >= min_delta = 400. New best score: 101963.500\n",
      "Epoch 6, global step 266: 'val_loss' reached 101963.50000 (best 101963.50000), saving model to '/media/joris/uca-msc-dsai/dl_computer_vision/assignments/1/checkpoints/best_checkpoint-v1.ckpt' as top 1\n"
     ]
    },
    {
     "data": {
      "application/vnd.jupyter.widget-view+json": {
       "model_id": "5a152711a406463d9c2da0b5e1c775cd",
       "version_major": 2,
       "version_minor": 0
      },
      "text/plain": [
       "Validation: 0it [00:00, ?it/s]"
      ]
     },
     "metadata": {},
     "output_type": "display_data"
    },
    {
     "name": "stderr",
     "output_type": "stream",
     "text": [
      "Metric val_loss improved by 417.211 >= min_delta = 400. New best score: 101546.289\n",
      "Epoch 7, global step 304: 'val_loss' reached 101546.28906 (best 101546.28906), saving model to '/media/joris/uca-msc-dsai/dl_computer_vision/assignments/1/checkpoints/best_checkpoint-v1.ckpt' as top 1\n"
     ]
    },
    {
     "data": {
      "application/vnd.jupyter.widget-view+json": {
       "model_id": "5b49afe9b94f4d37bb2ba53e036d352d",
       "version_major": 2,
       "version_minor": 0
      },
      "text/plain": [
       "Validation: 0it [00:00, ?it/s]"
      ]
     },
     "metadata": {},
     "output_type": "display_data"
    },
    {
     "name": "stderr",
     "output_type": "stream",
     "text": [
      "Epoch 8, global step 342: 'val_loss' reached 101214.87500 (best 101214.87500), saving model to '/media/joris/uca-msc-dsai/dl_computer_vision/assignments/1/checkpoints/best_checkpoint-v1.ckpt' as top 1\n"
     ]
    },
    {
     "data": {
      "application/vnd.jupyter.widget-view+json": {
       "model_id": "d1c29e23b07a4fb0a7e734dab7556c66",
       "version_major": 2,
       "version_minor": 0
      },
      "text/plain": [
       "Validation: 0it [00:00, ?it/s]"
      ]
     },
     "metadata": {},
     "output_type": "display_data"
    },
    {
     "name": "stderr",
     "output_type": "stream",
     "text": [
      "Metric val_loss improved by 632.148 >= min_delta = 400. New best score: 100914.141\n",
      "Epoch 9, global step 380: 'val_loss' reached 100914.14062 (best 100914.14062), saving model to '/media/joris/uca-msc-dsai/dl_computer_vision/assignments/1/checkpoints/best_checkpoint-v1.ckpt' as top 1\n"
     ]
    },
    {
     "data": {
      "application/vnd.jupyter.widget-view+json": {
       "model_id": "41a8acd516f74c3c8449b6e03285fb19",
       "version_major": 2,
       "version_minor": 0
      },
      "text/plain": [
       "Validation: 0it [00:00, ?it/s]"
      ]
     },
     "metadata": {},
     "output_type": "display_data"
    },
    {
     "name": "stderr",
     "output_type": "stream",
     "text": [
      "Epoch 10, global step 418: 'val_loss' reached 100630.14062 (best 100630.14062), saving model to '/media/joris/uca-msc-dsai/dl_computer_vision/assignments/1/checkpoints/best_checkpoint-v1.ckpt' as top 1\n"
     ]
    },
    {
     "data": {
      "application/vnd.jupyter.widget-view+json": {
       "model_id": "de3fc0c7289f4e8d9d9e892eaca49539",
       "version_major": 2,
       "version_minor": 0
      },
      "text/plain": [
       "Validation: 0it [00:00, ?it/s]"
      ]
     },
     "metadata": {},
     "output_type": "display_data"
    },
    {
     "name": "stderr",
     "output_type": "stream",
     "text": [
      "Metric val_loss improved by 557.492 >= min_delta = 400. New best score: 100356.648\n",
      "Epoch 11, global step 456: 'val_loss' reached 100356.64844 (best 100356.64844), saving model to '/media/joris/uca-msc-dsai/dl_computer_vision/assignments/1/checkpoints/best_checkpoint-v1.ckpt' as top 1\n"
     ]
    },
    {
     "data": {
      "application/vnd.jupyter.widget-view+json": {
       "model_id": "002904a38c044d989a41709ce9437d23",
       "version_major": 2,
       "version_minor": 0
      },
      "text/plain": [
       "Validation: 0it [00:00, ?it/s]"
      ]
     },
     "metadata": {},
     "output_type": "display_data"
    },
    {
     "name": "stderr",
     "output_type": "stream",
     "text": [
      "Epoch 12, global step 494: 'val_loss' reached 100090.67188 (best 100090.67188), saving model to '/media/joris/uca-msc-dsai/dl_computer_vision/assignments/1/checkpoints/best_checkpoint-v1.ckpt' as top 1\n"
     ]
    }
   ],
   "source": [
    "# Train the model.\n",
    "trainer.fit(model, data_module)"
   ]
  },
  {
   "attachments": {},
   "cell_type": "markdown",
   "metadata": {},
   "source": [
    "## Evaluation\n",
    "\n",
    "We load the best model and evaluate it on the test set. However, we see that the model doesn't work since it always outputs the same value for all time steps. In our experiments, we tried to use different architectures (hidden size, number of stacked layers, dropout, learning rate, train/val/test splits), but we always got the same result. One possible explanation is that the data should be normalized before training, but I doubt it as, in my opinion, this should only be necessary if we have several features with different scales. In our case, we have only one feature (the number of passengers), so the network should be able to learn the scale.\n",
    "\n",
    "It is also worth noting that I sent an email to abid.ali@inria.fr and francois.bremond@inria.fr to ask for help, but I didn't get any response. This is a pity as I would have liked to know what I did wrong and I believe there is not much change needed to make the model work."
   ]
  },
  {
   "cell_type": "code",
   "execution_count": null,
   "metadata": {},
   "outputs": [
    {
     "name": "stderr",
     "output_type": "stream",
     "text": [
      "100%|██████████| 47/47 [00:00<00:00, 939.77it/s]"
     ]
    },
    {
     "name": "stdout",
     "output_type": "stream",
     "text": [
      "tensor([[315.]]) tensor([32.3449], grad_fn=<AddBackward0>) tensor([301.])\n",
      "tensor([[301.]]) tensor([32.3449], grad_fn=<AddBackward0>) tensor([356.])\n",
      "tensor([[356.]]) tensor([32.3449], grad_fn=<AddBackward0>) tensor([348.])\n",
      "tensor([[348.]]) tensor([32.3449], grad_fn=<AddBackward0>) tensor([355.])\n",
      "tensor([[355.]]) tensor([32.3449], grad_fn=<AddBackward0>) tensor([422.])\n",
      "tensor([[422.]]) tensor([32.3449], grad_fn=<AddBackward0>) tensor([465.])\n",
      "tensor([[465.]]) tensor([32.3449], grad_fn=<AddBackward0>) tensor([467.])\n",
      "tensor([[467.]]) tensor([32.3449], grad_fn=<AddBackward0>) tensor([404.])\n",
      "tensor([[404.]]) tensor([32.3449], grad_fn=<AddBackward0>) tensor([347.])\n",
      "tensor([[347.]]) tensor([32.3449], grad_fn=<AddBackward0>) tensor([305.])\n",
      "tensor([[305.]]) tensor([32.3449], grad_fn=<AddBackward0>) tensor([336.])\n",
      "tensor([[336.]]) tensor([32.3449], grad_fn=<AddBackward0>) tensor([340.])\n",
      "tensor([[340.]]) tensor([32.3449], grad_fn=<AddBackward0>) tensor([318.])\n",
      "tensor([[318.]]) tensor([32.3449], grad_fn=<AddBackward0>) tensor([362.])\n",
      "tensor([[362.]]) tensor([32.3449], grad_fn=<AddBackward0>) tensor([348.])\n",
      "tensor([[348.]]) tensor([32.3449], grad_fn=<AddBackward0>) tensor([363.])\n",
      "tensor([[363.]]) tensor([32.3449], grad_fn=<AddBackward0>) tensor([435.])\n",
      "tensor([[435.]]) tensor([32.3449], grad_fn=<AddBackward0>) tensor([491.])\n",
      "tensor([[491.]]) tensor([32.3449], grad_fn=<AddBackward0>) tensor([505.])\n",
      "tensor([[505.]]) tensor([32.3449], grad_fn=<AddBackward0>) tensor([404.])\n",
      "tensor([[404.]]) tensor([32.3449], grad_fn=<AddBackward0>) tensor([359.])\n",
      "tensor([[359.]]) tensor([32.3449], grad_fn=<AddBackward0>) tensor([310.])\n",
      "tensor([[310.]]) tensor([32.3449], grad_fn=<AddBackward0>) tensor([337.])\n",
      "tensor([[337.]]) tensor([32.3449], grad_fn=<AddBackward0>) tensor([360.])\n",
      "tensor([[360.]]) tensor([32.3449], grad_fn=<AddBackward0>) tensor([342.])\n",
      "tensor([[342.]]) tensor([32.3449], grad_fn=<AddBackward0>) tensor([406.])\n",
      "tensor([[406.]]) tensor([32.3449], grad_fn=<AddBackward0>) tensor([396.])\n",
      "tensor([[396.]]) tensor([32.3449], grad_fn=<AddBackward0>) tensor([420.])\n",
      "tensor([[420.]]) tensor([32.3449], grad_fn=<AddBackward0>) tensor([472.])\n",
      "tensor([[472.]]) tensor([32.3449], grad_fn=<AddBackward0>) tensor([548.])\n",
      "tensor([[548.]]) tensor([32.3449], grad_fn=<AddBackward0>) tensor([559.])\n",
      "tensor([[559.]]) tensor([32.3449], grad_fn=<AddBackward0>) tensor([463.])\n",
      "tensor([[463.]]) tensor([32.3449], grad_fn=<AddBackward0>) tensor([407.])\n",
      "tensor([[407.]]) tensor([32.3449], grad_fn=<AddBackward0>) tensor([362.])\n",
      "tensor([[362.]]) tensor([32.3449], grad_fn=<AddBackward0>) tensor([405.])\n",
      "tensor([[405.]]) tensor([32.3449], grad_fn=<AddBackward0>) tensor([417.])\n",
      "tensor([[417.]]) tensor([32.3449], grad_fn=<AddBackward0>) tensor([391.])\n",
      "tensor([[391.]]) tensor([32.3449], grad_fn=<AddBackward0>) tensor([419.])\n",
      "tensor([[419.]]) tensor([32.3449], grad_fn=<AddBackward0>) tensor([461.])\n",
      "tensor([[461.]]) tensor([32.3449], grad_fn=<AddBackward0>) tensor([472.])\n",
      "tensor([[472.]]) tensor([32.3449], grad_fn=<AddBackward0>) tensor([535.])\n",
      "tensor([[535.]]) tensor([32.3449], grad_fn=<AddBackward0>) tensor([622.])\n",
      "tensor([[622.]]) tensor([32.3449], grad_fn=<AddBackward0>) tensor([606.])\n",
      "tensor([[606.]]) tensor([32.3449], grad_fn=<AddBackward0>) tensor([508.])\n",
      "tensor([[508.]]) tensor([32.3449], grad_fn=<AddBackward0>) tensor([461.])\n",
      "tensor([[461.]]) tensor([32.3449], grad_fn=<AddBackward0>) tensor([390.])\n",
      "tensor([[390.]]) tensor([32.3449], grad_fn=<AddBackward0>) tensor([432.])\n"
     ]
    },
    {
     "name": "stderr",
     "output_type": "stream",
     "text": [
      "\n"
     ]
    }
   ],
   "source": [
    "checkpoint_number = 1\n",
    "checkpoint_path = f\"checkpoints/best_checkpoint-v{checkpoint_number}.ckpt\"\n",
    "trained_model = airline.PassengerPredictor.load_from_checkpoint(\n",
    "  checkpoint_path=checkpoint_path, n_features=1\n",
    ")\n",
    "test_dataset = airline.AirlineDataset(sequences=test_sequences)\n",
    "\n",
    "sequences = []\n",
    "labels = []\n",
    "\n",
    "for item in tqdm(test_dataset):\n",
    "  sequence = item[\"sequence\"]\n",
    "  label = item[\"label\"]\n",
    "  _, prediction = trained_model(sequence)\n",
    "  print(sequence, prediction, label)\n"
   ]
  }
 ],
 "metadata": {
  "kernelspec": {
   "display_name": "base",
   "language": "python",
   "name": "python3"
  },
  "language_info": {
   "codemirror_mode": {
    "name": "ipython",
    "version": 3
   },
   "file_extension": ".py",
   "mimetype": "text/x-python",
   "name": "python",
   "nbconvert_exporter": "python",
   "pygments_lexer": "ipython3",
   "version": "3.10.8"
  },
  "orig_nbformat": 4,
  "vscode": {
   "interpreter": {
    "hash": "f0df963a0b00f23561625d2ba0a0b8b2d4dd4941b6b854c35050f99f4efed218"
   }
  }
 },
 "nbformat": 4,
 "nbformat_minor": 2
}

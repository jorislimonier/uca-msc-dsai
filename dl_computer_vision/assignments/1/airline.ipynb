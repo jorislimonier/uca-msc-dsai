{
 "cells": [
  {
   "attachments": {},
   "cell_type": "markdown",
   "metadata": {},
   "source": [
    "# Bonus assignment\n",
    "\n",
    "**Joris LIMONIER**\n",
    "\n",
    "---\n",
    "\n",
    "In this assignment, we try to predict the number of passengers through time. We will use the airline dataset.\n"
   ]
  },
  {
   "attachments": {},
   "cell_type": "markdown",
   "metadata": {},
   "source": [
    "## Data Preprocessing"
   ]
  },
  {
   "cell_type": "code",
   "execution_count": 1,
   "metadata": {},
   "outputs": [],
   "source": [
    "from pathlib import Path\n",
    "\n",
    "import airline_passengers as ap\n",
    "import numpy as np\n",
    "import pandas as pd\n",
    "import plotly.express as px\n",
    "import plotly.graph_objects as go\n",
    "import plotly.io as pio\n",
    "import torch\n",
    "import torch.nn as nn\n",
    "import torch.optim as optim\n",
    "\n",
    "pio.templates.default = \"plotly_white\""
   ]
  },
  {
   "cell_type": "code",
   "execution_count": 2,
   "metadata": {},
   "outputs": [],
   "source": [
    "%reload_ext autoreload\n",
    "%autoreload 2"
   ]
  },
  {
   "attachments": {},
   "cell_type": "markdown",
   "metadata": {},
   "source": [
    "### Load the dataset\n"
   ]
  },
  {
   "cell_type": "code",
   "execution_count": 3,
   "metadata": {},
   "outputs": [
    {
     "data": {
      "text/html": [
       "<div>\n",
       "<style scoped>\n",
       "    .dataframe tbody tr th:only-of-type {\n",
       "        vertical-align: middle;\n",
       "    }\n",
       "\n",
       "    .dataframe tbody tr th {\n",
       "        vertical-align: top;\n",
       "    }\n",
       "\n",
       "    .dataframe thead th {\n",
       "        text-align: right;\n",
       "    }\n",
       "</style>\n",
       "<table border=\"1\" class=\"dataframe\">\n",
       "  <thead>\n",
       "    <tr style=\"text-align: right;\">\n",
       "      <th></th>\n",
       "      <th>passengers</th>\n",
       "    </tr>\n",
       "    <tr>\n",
       "      <th>date</th>\n",
       "      <th></th>\n",
       "    </tr>\n",
       "  </thead>\n",
       "  <tbody>\n",
       "    <tr>\n",
       "      <th>1949-01-01</th>\n",
       "      <td>112.0</td>\n",
       "    </tr>\n",
       "    <tr>\n",
       "      <th>1949-02-01</th>\n",
       "      <td>118.0</td>\n",
       "    </tr>\n",
       "    <tr>\n",
       "      <th>1949-03-01</th>\n",
       "      <td>132.0</td>\n",
       "    </tr>\n",
       "    <tr>\n",
       "      <th>1949-04-01</th>\n",
       "      <td>129.0</td>\n",
       "    </tr>\n",
       "    <tr>\n",
       "      <th>1949-05-01</th>\n",
       "      <td>121.0</td>\n",
       "    </tr>\n",
       "    <tr>\n",
       "      <th>...</th>\n",
       "      <td>...</td>\n",
       "    </tr>\n",
       "    <tr>\n",
       "      <th>1960-08-01</th>\n",
       "      <td>606.0</td>\n",
       "    </tr>\n",
       "    <tr>\n",
       "      <th>1960-09-01</th>\n",
       "      <td>508.0</td>\n",
       "    </tr>\n",
       "    <tr>\n",
       "      <th>1960-10-01</th>\n",
       "      <td>461.0</td>\n",
       "    </tr>\n",
       "    <tr>\n",
       "      <th>1960-11-01</th>\n",
       "      <td>390.0</td>\n",
       "    </tr>\n",
       "    <tr>\n",
       "      <th>1960-12-01</th>\n",
       "      <td>432.0</td>\n",
       "    </tr>\n",
       "  </tbody>\n",
       "</table>\n",
       "<p>144 rows × 1 columns</p>\n",
       "</div>"
      ],
      "text/plain": [
       "            passengers\n",
       "date                  \n",
       "1949-01-01       112.0\n",
       "1949-02-01       118.0\n",
       "1949-03-01       132.0\n",
       "1949-04-01       129.0\n",
       "1949-05-01       121.0\n",
       "...                ...\n",
       "1960-08-01       606.0\n",
       "1960-09-01       508.0\n",
       "1960-10-01       461.0\n",
       "1960-11-01       390.0\n",
       "1960-12-01       432.0\n",
       "\n",
       "[144 rows x 1 columns]"
      ]
     },
     "execution_count": 3,
     "metadata": {},
     "output_type": "execute_result"
    }
   ],
   "source": [
    "filepath = Path(\"airline_passenger.txt\")\n",
    "passengers = pd.read_csv(\n",
    "  filepath,\n",
    "  parse_dates=[\"date\"],\n",
    "  names=[\"date\", \"passengers\"],\n",
    "  index_col=\"date\",\n",
    "  header=0,\n",
    "  dtype={\"passengers\": \"float32\"},\n",
    ")\n",
    "passengers"
   ]
  },
  {
   "attachments": {},
   "cell_type": "markdown",
   "metadata": {},
   "source": [
    "### Split the dataset into train and test\n",
    "We use 1/3 of the dataset for testing. The remaining 2/3 is further split into training and validation.\n",
    "\n",
    "We also scale the data with respect to the training data as the validation and test data should not be used except for model evaluation and testing."
   ]
  },
  {
   "cell_type": "code",
   "execution_count": 4,
   "metadata": {},
   "outputs": [
    {
     "name": "stdout",
     "output_type": "stream",
     "text": [
      "len(train) = 81, len(val) = 15, len(test) = 48\n"
     ]
    }
   ],
   "source": [
    "val_size = 0.1  # proportion of the training set is used for validation\n",
    "test_size = 1 / 3  # proportion of the data is used for testing\n",
    "\n",
    "train, val, test = ap.ttv_split(df=passengers, val_size=val_size, test_size=test_size)\n",
    "\n",
    "# Scale the data\n",
    "train, val, test = ap.scale_wrt(train, val, test, wrt=train, feature_range=(0, 1))\n",
    "print(f\"{len(train) = }, {len(val) = }, {len(test) = }\")\n"
   ]
  },
  {
   "attachments": {},
   "cell_type": "markdown",
   "metadata": {},
   "source": [
    "We plot the train, validation and test sets with different colors."
   ]
  },
  {
   "cell_type": "code",
   "execution_count": 5,
   "metadata": {},
   "outputs": [
    {
     "data": {
      "application/vnd.plotly.v1+json": {
       "config": {
        "plotlyServerURL": "https://plot.ly"
       },
       "data": [
        {
         "mode": "lines",
         "name": "train",
         "type": "scatter",
         "x": [
          "1949-01-01T00:00:00",
          "1949-02-01T00:00:00",
          "1949-03-01T00:00:00",
          "1949-04-01T00:00:00",
          "1949-05-01T00:00:00",
          "1949-06-01T00:00:00",
          "1949-07-01T00:00:00",
          "1949-08-01T00:00:00",
          "1949-09-01T00:00:00",
          "1949-10-01T00:00:00",
          "1949-11-01T00:00:00",
          "1949-12-01T00:00:00",
          "1950-01-01T00:00:00",
          "1950-02-01T00:00:00",
          "1950-03-01T00:00:00",
          "1950-04-01T00:00:00",
          "1950-05-01T00:00:00",
          "1950-06-01T00:00:00",
          "1950-07-01T00:00:00",
          "1950-08-01T00:00:00",
          "1950-09-01T00:00:00",
          "1950-10-01T00:00:00",
          "1950-11-01T00:00:00",
          "1950-12-01T00:00:00",
          "1951-01-01T00:00:00",
          "1951-02-01T00:00:00",
          "1951-03-01T00:00:00",
          "1951-04-01T00:00:00",
          "1951-05-01T00:00:00",
          "1951-06-01T00:00:00",
          "1951-07-01T00:00:00",
          "1951-08-01T00:00:00",
          "1951-09-01T00:00:00",
          "1951-10-01T00:00:00",
          "1951-11-01T00:00:00",
          "1951-12-01T00:00:00",
          "1952-01-01T00:00:00",
          "1952-02-01T00:00:00",
          "1952-03-01T00:00:00",
          "1952-04-01T00:00:00",
          "1952-05-01T00:00:00",
          "1952-06-01T00:00:00",
          "1952-07-01T00:00:00",
          "1952-08-01T00:00:00",
          "1952-09-01T00:00:00",
          "1952-10-01T00:00:00",
          "1952-11-01T00:00:00",
          "1952-12-01T00:00:00",
          "1953-01-01T00:00:00",
          "1953-02-01T00:00:00",
          "1953-03-01T00:00:00",
          "1953-04-01T00:00:00",
          "1953-05-01T00:00:00",
          "1953-06-01T00:00:00",
          "1953-07-01T00:00:00",
          "1953-08-01T00:00:00",
          "1953-09-01T00:00:00",
          "1953-10-01T00:00:00",
          "1953-11-01T00:00:00",
          "1953-12-01T00:00:00",
          "1954-01-01T00:00:00",
          "1954-02-01T00:00:00",
          "1954-03-01T00:00:00",
          "1954-04-01T00:00:00",
          "1954-05-01T00:00:00",
          "1954-06-01T00:00:00",
          "1954-07-01T00:00:00",
          "1954-08-01T00:00:00",
          "1954-09-01T00:00:00",
          "1954-10-01T00:00:00",
          "1954-11-01T00:00:00",
          "1954-12-01T00:00:00",
          "1955-01-01T00:00:00",
          "1955-02-01T00:00:00",
          "1955-03-01T00:00:00",
          "1955-04-01T00:00:00",
          "1955-05-01T00:00:00",
          "1955-06-01T00:00:00",
          "1955-07-01T00:00:00",
          "1955-08-01T00:00:00",
          "1955-09-01T00:00:00"
         ],
         "y": [
          0.030769229,
          0.05384615,
          0.10769233,
          0.096153855,
          0.0653846,
          0.11923078,
          0.16923079,
          0.16923079,
          0.123076946,
          0.05769229,
          0,
          0.05384615,
          0.042307675,
          0.08461538,
          0.14230767,
          0.11923078,
          0.08076921,
          0.1730769,
          0.25384614,
          0.25384614,
          0.2076923,
          0.11153844,
          0.038461536,
          0.13846156,
          0.15769228,
          0.17692307,
          0.28461537,
          0.22692308,
          0.26153848,
          0.28461537,
          0.3653846,
          0.3653846,
          0.30769232,
          0.22307691,
          0.16153845,
          0.23846152,
          0.2576923,
          0.2923077,
          0.34230772,
          0.2961538,
          0.30384615,
          0.4384615,
          0.48461536,
          0.5307692,
          0.40384617,
          0.33461538,
          0.26153848,
          0.34615383,
          0.35384616,
          0.35384616,
          0.50769234,
          0.50384617,
          0.48076925,
          0.5346154,
          0.6153847,
          0.6461539,
          0.5115385,
          0.41153845,
          0.2923077,
          0.37307695,
          0.3846154,
          0.32307693,
          0.50384617,
          0.4730769,
          0.49999997,
          0.6153847,
          0.7615385,
          0.7269231,
          0.59615386,
          0.48076925,
          0.38076922,
          0.48076925,
          0.5307692,
          0.49615386,
          0.6269231,
          0.6346154,
          0.6384616,
          0.81153846,
          1,
          0.9346154,
          0.8000001
         ]
        },
        {
         "mode": "lines",
         "name": "val",
         "type": "scatter",
         "x": [
          "1955-10-01T00:00:00",
          "1955-11-01T00:00:00",
          "1955-12-01T00:00:00",
          "1956-01-01T00:00:00",
          "1956-02-01T00:00:00",
          "1956-03-01T00:00:00",
          "1956-04-01T00:00:00",
          "1956-05-01T00:00:00",
          "1956-06-01T00:00:00",
          "1956-07-01T00:00:00",
          "1956-08-01T00:00:00",
          "1956-09-01T00:00:00",
          "1956-10-01T00:00:00",
          "1956-11-01T00:00:00",
          "1956-12-01T00:00:00"
         ],
         "y": [
          0.65384614,
          0.5115385,
          0.6692308,
          0.6923077,
          0.66538465,
          0.8192308,
          0.8038461,
          0.82307696,
          1.0384616,
          1.1884615,
          1.1576923,
          0.9653846,
          0.77692306,
          0.64230776,
          0.77692306
         ]
        },
        {
         "mode": "lines",
         "name": "test",
         "type": "scatter",
         "x": [
          "1957-01-01T00:00:00",
          "1957-02-01T00:00:00",
          "1957-03-01T00:00:00",
          "1957-04-01T00:00:00",
          "1957-05-01T00:00:00",
          "1957-06-01T00:00:00",
          "1957-07-01T00:00:00",
          "1957-08-01T00:00:00",
          "1957-09-01T00:00:00",
          "1957-10-01T00:00:00",
          "1957-11-01T00:00:00",
          "1957-12-01T00:00:00",
          "1958-01-01T00:00:00",
          "1958-02-01T00:00:00",
          "1958-03-01T00:00:00",
          "1958-04-01T00:00:00",
          "1958-05-01T00:00:00",
          "1958-06-01T00:00:00",
          "1958-07-01T00:00:00",
          "1958-08-01T00:00:00",
          "1958-09-01T00:00:00",
          "1958-10-01T00:00:00",
          "1958-11-01T00:00:00",
          "1958-12-01T00:00:00",
          "1959-01-01T00:00:00",
          "1959-02-01T00:00:00",
          "1959-03-01T00:00:00",
          "1959-04-01T00:00:00",
          "1959-05-01T00:00:00",
          "1959-06-01T00:00:00",
          "1959-07-01T00:00:00",
          "1959-08-01T00:00:00",
          "1959-09-01T00:00:00",
          "1959-10-01T00:00:00",
          "1959-11-01T00:00:00",
          "1959-12-01T00:00:00",
          "1960-01-01T00:00:00",
          "1960-02-01T00:00:00",
          "1960-03-01T00:00:00",
          "1960-04-01T00:00:00",
          "1960-05-01T00:00:00",
          "1960-06-01T00:00:00",
          "1960-07-01T00:00:00",
          "1960-08-01T00:00:00",
          "1960-09-01T00:00:00",
          "1960-10-01T00:00:00",
          "1960-11-01T00:00:00",
          "1960-12-01T00:00:00"
         ],
         "y": [
          0.81153846,
          0.75769234,
          0.9692308,
          0.93846154,
          0.9653846,
          1.2230769,
          1.3884616,
          1.3961539,
          1.1538461,
          0.9346154,
          0.7730769,
          0.89230776,
          0.9076923,
          0.82307696,
          0.99230766,
          0.93846154,
          0.99615383,
          1.2730769,
          1.4884616,
          1.5423077,
          1.1538461,
          0.9807693,
          0.79230773,
          0.8961539,
          0.98461545,
          0.91538465,
          1.1615385,
          1.1230769,
          1.2153846,
          1.4153847,
          1.7076923,
          1.7500001,
          1.3807693,
          1.1653847,
          0.99230766,
          1.1576923,
          1.2038462,
          1.1038462,
          1.2115384,
          1.3730769,
          1.4153847,
          1.6576923,
          1.9923078,
          1.9307693,
          1.5538461,
          1.3730769,
          1.1,
          1.2615385
         ]
        }
       ],
       "layout": {
        "template": {
         "data": {
          "bar": [
           {
            "error_x": {
             "color": "#2a3f5f"
            },
            "error_y": {
             "color": "#2a3f5f"
            },
            "marker": {
             "line": {
              "color": "white",
              "width": 0.5
             },
             "pattern": {
              "fillmode": "overlay",
              "size": 10,
              "solidity": 0.2
             }
            },
            "type": "bar"
           }
          ],
          "barpolar": [
           {
            "marker": {
             "line": {
              "color": "white",
              "width": 0.5
             },
             "pattern": {
              "fillmode": "overlay",
              "size": 10,
              "solidity": 0.2
             }
            },
            "type": "barpolar"
           }
          ],
          "carpet": [
           {
            "aaxis": {
             "endlinecolor": "#2a3f5f",
             "gridcolor": "#C8D4E3",
             "linecolor": "#C8D4E3",
             "minorgridcolor": "#C8D4E3",
             "startlinecolor": "#2a3f5f"
            },
            "baxis": {
             "endlinecolor": "#2a3f5f",
             "gridcolor": "#C8D4E3",
             "linecolor": "#C8D4E3",
             "minorgridcolor": "#C8D4E3",
             "startlinecolor": "#2a3f5f"
            },
            "type": "carpet"
           }
          ],
          "choropleth": [
           {
            "colorbar": {
             "outlinewidth": 0,
             "ticks": ""
            },
            "type": "choropleth"
           }
          ],
          "contour": [
           {
            "colorbar": {
             "outlinewidth": 0,
             "ticks": ""
            },
            "colorscale": [
             [
              0,
              "#0d0887"
             ],
             [
              0.1111111111111111,
              "#46039f"
             ],
             [
              0.2222222222222222,
              "#7201a8"
             ],
             [
              0.3333333333333333,
              "#9c179e"
             ],
             [
              0.4444444444444444,
              "#bd3786"
             ],
             [
              0.5555555555555556,
              "#d8576b"
             ],
             [
              0.6666666666666666,
              "#ed7953"
             ],
             [
              0.7777777777777778,
              "#fb9f3a"
             ],
             [
              0.8888888888888888,
              "#fdca26"
             ],
             [
              1,
              "#f0f921"
             ]
            ],
            "type": "contour"
           }
          ],
          "contourcarpet": [
           {
            "colorbar": {
             "outlinewidth": 0,
             "ticks": ""
            },
            "type": "contourcarpet"
           }
          ],
          "heatmap": [
           {
            "colorbar": {
             "outlinewidth": 0,
             "ticks": ""
            },
            "colorscale": [
             [
              0,
              "#0d0887"
             ],
             [
              0.1111111111111111,
              "#46039f"
             ],
             [
              0.2222222222222222,
              "#7201a8"
             ],
             [
              0.3333333333333333,
              "#9c179e"
             ],
             [
              0.4444444444444444,
              "#bd3786"
             ],
             [
              0.5555555555555556,
              "#d8576b"
             ],
             [
              0.6666666666666666,
              "#ed7953"
             ],
             [
              0.7777777777777778,
              "#fb9f3a"
             ],
             [
              0.8888888888888888,
              "#fdca26"
             ],
             [
              1,
              "#f0f921"
             ]
            ],
            "type": "heatmap"
           }
          ],
          "heatmapgl": [
           {
            "colorbar": {
             "outlinewidth": 0,
             "ticks": ""
            },
            "colorscale": [
             [
              0,
              "#0d0887"
             ],
             [
              0.1111111111111111,
              "#46039f"
             ],
             [
              0.2222222222222222,
              "#7201a8"
             ],
             [
              0.3333333333333333,
              "#9c179e"
             ],
             [
              0.4444444444444444,
              "#bd3786"
             ],
             [
              0.5555555555555556,
              "#d8576b"
             ],
             [
              0.6666666666666666,
              "#ed7953"
             ],
             [
              0.7777777777777778,
              "#fb9f3a"
             ],
             [
              0.8888888888888888,
              "#fdca26"
             ],
             [
              1,
              "#f0f921"
             ]
            ],
            "type": "heatmapgl"
           }
          ],
          "histogram": [
           {
            "marker": {
             "pattern": {
              "fillmode": "overlay",
              "size": 10,
              "solidity": 0.2
             }
            },
            "type": "histogram"
           }
          ],
          "histogram2d": [
           {
            "colorbar": {
             "outlinewidth": 0,
             "ticks": ""
            },
            "colorscale": [
             [
              0,
              "#0d0887"
             ],
             [
              0.1111111111111111,
              "#46039f"
             ],
             [
              0.2222222222222222,
              "#7201a8"
             ],
             [
              0.3333333333333333,
              "#9c179e"
             ],
             [
              0.4444444444444444,
              "#bd3786"
             ],
             [
              0.5555555555555556,
              "#d8576b"
             ],
             [
              0.6666666666666666,
              "#ed7953"
             ],
             [
              0.7777777777777778,
              "#fb9f3a"
             ],
             [
              0.8888888888888888,
              "#fdca26"
             ],
             [
              1,
              "#f0f921"
             ]
            ],
            "type": "histogram2d"
           }
          ],
          "histogram2dcontour": [
           {
            "colorbar": {
             "outlinewidth": 0,
             "ticks": ""
            },
            "colorscale": [
             [
              0,
              "#0d0887"
             ],
             [
              0.1111111111111111,
              "#46039f"
             ],
             [
              0.2222222222222222,
              "#7201a8"
             ],
             [
              0.3333333333333333,
              "#9c179e"
             ],
             [
              0.4444444444444444,
              "#bd3786"
             ],
             [
              0.5555555555555556,
              "#d8576b"
             ],
             [
              0.6666666666666666,
              "#ed7953"
             ],
             [
              0.7777777777777778,
              "#fb9f3a"
             ],
             [
              0.8888888888888888,
              "#fdca26"
             ],
             [
              1,
              "#f0f921"
             ]
            ],
            "type": "histogram2dcontour"
           }
          ],
          "mesh3d": [
           {
            "colorbar": {
             "outlinewidth": 0,
             "ticks": ""
            },
            "type": "mesh3d"
           }
          ],
          "parcoords": [
           {
            "line": {
             "colorbar": {
              "outlinewidth": 0,
              "ticks": ""
             }
            },
            "type": "parcoords"
           }
          ],
          "pie": [
           {
            "automargin": true,
            "type": "pie"
           }
          ],
          "scatter": [
           {
            "fillpattern": {
             "fillmode": "overlay",
             "size": 10,
             "solidity": 0.2
            },
            "type": "scatter"
           }
          ],
          "scatter3d": [
           {
            "line": {
             "colorbar": {
              "outlinewidth": 0,
              "ticks": ""
             }
            },
            "marker": {
             "colorbar": {
              "outlinewidth": 0,
              "ticks": ""
             }
            },
            "type": "scatter3d"
           }
          ],
          "scattercarpet": [
           {
            "marker": {
             "colorbar": {
              "outlinewidth": 0,
              "ticks": ""
             }
            },
            "type": "scattercarpet"
           }
          ],
          "scattergeo": [
           {
            "marker": {
             "colorbar": {
              "outlinewidth": 0,
              "ticks": ""
             }
            },
            "type": "scattergeo"
           }
          ],
          "scattergl": [
           {
            "marker": {
             "colorbar": {
              "outlinewidth": 0,
              "ticks": ""
             }
            },
            "type": "scattergl"
           }
          ],
          "scattermapbox": [
           {
            "marker": {
             "colorbar": {
              "outlinewidth": 0,
              "ticks": ""
             }
            },
            "type": "scattermapbox"
           }
          ],
          "scatterpolar": [
           {
            "marker": {
             "colorbar": {
              "outlinewidth": 0,
              "ticks": ""
             }
            },
            "type": "scatterpolar"
           }
          ],
          "scatterpolargl": [
           {
            "marker": {
             "colorbar": {
              "outlinewidth": 0,
              "ticks": ""
             }
            },
            "type": "scatterpolargl"
           }
          ],
          "scatterternary": [
           {
            "marker": {
             "colorbar": {
              "outlinewidth": 0,
              "ticks": ""
             }
            },
            "type": "scatterternary"
           }
          ],
          "surface": [
           {
            "colorbar": {
             "outlinewidth": 0,
             "ticks": ""
            },
            "colorscale": [
             [
              0,
              "#0d0887"
             ],
             [
              0.1111111111111111,
              "#46039f"
             ],
             [
              0.2222222222222222,
              "#7201a8"
             ],
             [
              0.3333333333333333,
              "#9c179e"
             ],
             [
              0.4444444444444444,
              "#bd3786"
             ],
             [
              0.5555555555555556,
              "#d8576b"
             ],
             [
              0.6666666666666666,
              "#ed7953"
             ],
             [
              0.7777777777777778,
              "#fb9f3a"
             ],
             [
              0.8888888888888888,
              "#fdca26"
             ],
             [
              1,
              "#f0f921"
             ]
            ],
            "type": "surface"
           }
          ],
          "table": [
           {
            "cells": {
             "fill": {
              "color": "#EBF0F8"
             },
             "line": {
              "color": "white"
             }
            },
            "header": {
             "fill": {
              "color": "#C8D4E3"
             },
             "line": {
              "color": "white"
             }
            },
            "type": "table"
           }
          ]
         },
         "layout": {
          "annotationdefaults": {
           "arrowcolor": "#2a3f5f",
           "arrowhead": 0,
           "arrowwidth": 1
          },
          "autotypenumbers": "strict",
          "coloraxis": {
           "colorbar": {
            "outlinewidth": 0,
            "ticks": ""
           }
          },
          "colorscale": {
           "diverging": [
            [
             0,
             "#8e0152"
            ],
            [
             0.1,
             "#c51b7d"
            ],
            [
             0.2,
             "#de77ae"
            ],
            [
             0.3,
             "#f1b6da"
            ],
            [
             0.4,
             "#fde0ef"
            ],
            [
             0.5,
             "#f7f7f7"
            ],
            [
             0.6,
             "#e6f5d0"
            ],
            [
             0.7,
             "#b8e186"
            ],
            [
             0.8,
             "#7fbc41"
            ],
            [
             0.9,
             "#4d9221"
            ],
            [
             1,
             "#276419"
            ]
           ],
           "sequential": [
            [
             0,
             "#0d0887"
            ],
            [
             0.1111111111111111,
             "#46039f"
            ],
            [
             0.2222222222222222,
             "#7201a8"
            ],
            [
             0.3333333333333333,
             "#9c179e"
            ],
            [
             0.4444444444444444,
             "#bd3786"
            ],
            [
             0.5555555555555556,
             "#d8576b"
            ],
            [
             0.6666666666666666,
             "#ed7953"
            ],
            [
             0.7777777777777778,
             "#fb9f3a"
            ],
            [
             0.8888888888888888,
             "#fdca26"
            ],
            [
             1,
             "#f0f921"
            ]
           ],
           "sequentialminus": [
            [
             0,
             "#0d0887"
            ],
            [
             0.1111111111111111,
             "#46039f"
            ],
            [
             0.2222222222222222,
             "#7201a8"
            ],
            [
             0.3333333333333333,
             "#9c179e"
            ],
            [
             0.4444444444444444,
             "#bd3786"
            ],
            [
             0.5555555555555556,
             "#d8576b"
            ],
            [
             0.6666666666666666,
             "#ed7953"
            ],
            [
             0.7777777777777778,
             "#fb9f3a"
            ],
            [
             0.8888888888888888,
             "#fdca26"
            ],
            [
             1,
             "#f0f921"
            ]
           ]
          },
          "colorway": [
           "#636efa",
           "#EF553B",
           "#00cc96",
           "#ab63fa",
           "#FFA15A",
           "#19d3f3",
           "#FF6692",
           "#B6E880",
           "#FF97FF",
           "#FECB52"
          ],
          "font": {
           "color": "#2a3f5f"
          },
          "geo": {
           "bgcolor": "white",
           "lakecolor": "white",
           "landcolor": "white",
           "showlakes": true,
           "showland": true,
           "subunitcolor": "#C8D4E3"
          },
          "hoverlabel": {
           "align": "left"
          },
          "hovermode": "closest",
          "mapbox": {
           "style": "light"
          },
          "paper_bgcolor": "white",
          "plot_bgcolor": "white",
          "polar": {
           "angularaxis": {
            "gridcolor": "#EBF0F8",
            "linecolor": "#EBF0F8",
            "ticks": ""
           },
           "bgcolor": "white",
           "radialaxis": {
            "gridcolor": "#EBF0F8",
            "linecolor": "#EBF0F8",
            "ticks": ""
           }
          },
          "scene": {
           "xaxis": {
            "backgroundcolor": "white",
            "gridcolor": "#DFE8F3",
            "gridwidth": 2,
            "linecolor": "#EBF0F8",
            "showbackground": true,
            "ticks": "",
            "zerolinecolor": "#EBF0F8"
           },
           "yaxis": {
            "backgroundcolor": "white",
            "gridcolor": "#DFE8F3",
            "gridwidth": 2,
            "linecolor": "#EBF0F8",
            "showbackground": true,
            "ticks": "",
            "zerolinecolor": "#EBF0F8"
           },
           "zaxis": {
            "backgroundcolor": "white",
            "gridcolor": "#DFE8F3",
            "gridwidth": 2,
            "linecolor": "#EBF0F8",
            "showbackground": true,
            "ticks": "",
            "zerolinecolor": "#EBF0F8"
           }
          },
          "shapedefaults": {
           "line": {
            "color": "#2a3f5f"
           }
          },
          "ternary": {
           "aaxis": {
            "gridcolor": "#DFE8F3",
            "linecolor": "#A2B1C6",
            "ticks": ""
           },
           "baxis": {
            "gridcolor": "#DFE8F3",
            "linecolor": "#A2B1C6",
            "ticks": ""
           },
           "bgcolor": "white",
           "caxis": {
            "gridcolor": "#DFE8F3",
            "linecolor": "#A2B1C6",
            "ticks": ""
           }
          },
          "title": {
           "x": 0.05
          },
          "xaxis": {
           "automargin": true,
           "gridcolor": "#EBF0F8",
           "linecolor": "#EBF0F8",
           "ticks": "",
           "title": {
            "standoff": 15
           },
           "zerolinecolor": "#EBF0F8",
           "zerolinewidth": 2
          },
          "yaxis": {
           "automargin": true,
           "gridcolor": "#EBF0F8",
           "linecolor": "#EBF0F8",
           "ticks": "",
           "title": {
            "standoff": 15
           },
           "zerolinecolor": "#EBF0F8",
           "zerolinewidth": 2
          }
         }
        },
        "title": {
         "text": "Airline passengers"
        },
        "xaxis": {
         "title": {
          "text": "Date"
         }
        },
        "yaxis": {
         "title": {
          "text": "Passengers"
         }
        }
       }
      }
     },
     "metadata": {},
     "output_type": "display_data"
    }
   ],
   "source": [
    "ap.plot_tts(train=train, val=val, test=test)"
   ]
  },
  {
   "attachments": {},
   "cell_type": "markdown",
   "metadata": {},
   "source": [
    "## Model\n",
    "\n",
    "We define the model and start training."
   ]
  },
  {
   "attachments": {},
   "cell_type": "markdown",
   "metadata": {},
   "source": [
    "We define constants to use for training:\n",
    "- `seq_length`: the number of time steps to use for training, *i.e.* the number of previous months to use to predict the next month\n",
    "- `n_epochs`: the maximum number of epochs to train for\n",
    "- `batch_size`: the batch size to use for training"
   ]
  },
  {
   "cell_type": "code",
   "execution_count": 6,
   "metadata": {},
   "outputs": [
    {
     "name": "stdout",
     "output_type": "stream",
     "text": [
      "Epoch 0: train loss 0.1154, val loss 0.5431\n",
      "Epoch 10: train loss 0.0497, val loss 0.2349\n",
      "Epoch 20: train loss 0.0469, val loss 0.2116\n",
      "Epoch 30: train loss 0.0410, val loss 0.1625\n",
      "Epoch 40: train loss 0.0268, val loss 0.0637\n",
      "Epoch 50: train loss 0.0106, val loss 0.0245\n",
      "Epoch 60: train loss 0.0089, val loss 0.0288\n",
      "Epoch 70: train loss 0.0084, val loss 0.0266\n",
      "EarlyStopping counter: 25 / 30\n",
      "EarlyStopping counter: 26 / 30\n",
      "EarlyStopping counter: 27 / 30\n",
      "EarlyStopping counter: 28 / 30\n",
      "EarlyStopping counter: 29 / 30\n",
      "EarlyStopping counter: 30 / 30\n",
      "Restoring model from epoch 47 ...\n",
      "Early stopping at epoch 77, best val loss 0.020216 (epoch 47)\n"
     ]
    },
    {
     "data": {
      "application/vnd.plotly.v1+json": {
       "config": {
        "plotlyServerURL": "https://plot.ly"
       },
       "data": [
        {
         "hovertemplate": "variable=train<br>index=%{x}<br>value=%{y}<extra></extra>",
         "legendgroup": "train",
         "line": {
          "color": "#636efa",
          "dash": "solid"
         },
         "marker": {
          "symbol": "circle"
         },
         "mode": "lines",
         "name": "train",
         "orientation": "v",
         "showlegend": true,
         "type": "scatter",
         "x": [
          0,
          1,
          2,
          3,
          4,
          5,
          6,
          7,
          8,
          9,
          10,
          11,
          12,
          13,
          14,
          15,
          16,
          17,
          18,
          19,
          20,
          21,
          22,
          23,
          24,
          25,
          26,
          27,
          28,
          29,
          30,
          31,
          32,
          33,
          34,
          35,
          36,
          37,
          38,
          39,
          40,
          41,
          42,
          43,
          44,
          45,
          46,
          47,
          48,
          49,
          50,
          51,
          52,
          53,
          54,
          55,
          56,
          57,
          58,
          59,
          60,
          61,
          62,
          63,
          64,
          65,
          66,
          67,
          68,
          69,
          70,
          71,
          72,
          73,
          74,
          75,
          76,
          77
         ],
         "xaxis": "x",
         "y": [
          0.1154213126967079,
          0.09523844481445849,
          0.0759441208669159,
          0.05848806051799329,
          0.049534278029750564,
          0.04917913865283481,
          0.05019620299935923,
          0.05040037408180069,
          0.05024220253253588,
          0.04999894556840445,
          0.049743538850452754,
          0.04948961074815088,
          0.049236773124903266,
          0.04898171448476205,
          0.048720851966027115,
          0.048450808514826346,
          0.04816842932145846,
          0.04787070445563586,
          0.04755466030323987,
          0.047217258078580925,
          0.04685535389751294,
          0.04646563790092841,
          0.04604454100755788,
          0.04558823225142987,
          0.04509253924645549,
          0.044552885685367014,
          0.04396428735341758,
          0.04332130745906966,
          0.04261797528610032,
          0.04184782254159245,
          0.04100386007651195,
          0.0400785567559069,
          0.0390639128233488,
          0.03795158352099861,
          0.03673305651245755,
          0.035400050542057214,
          0.033944952937508786,
          0.03236166195774785,
          0.030646961350157653,
          0.028802484005609585,
          0.02683729873297125,
          0.024771431616682094,
          0.02263956994211185,
          0.02049363342957804,
          0.018402585326111876,
          0.016447216083906823,
          0.014708157776476582,
          0.013248330587521196,
          0.012095818955276626,
          0.011236461088992655,
          0.0106223246175432,
          0.010191616340671316,
          0.009887227982108015,
          0.00966567364448565,
          0.009497459315753076,
          0.00936378019323456,
          0.0092529431800358,
          0.00915768225240754,
          0.0090734052391781,
          0.008997152814117726,
          0.008926957921357826,
          0.008861484398221365,
          0.008799783906579251,
          0.008741174395981943,
          0.008685147479263832,
          0.008631325882015517,
          0.008579410883612582,
          0.008529174927753047,
          0.008480423506625812,
          0.008433009258806124,
          0.008386800765765656,
          0.008341701320568972,
          0.008297619970289816,
          0.008254488110833336,
          0.008212235127575695,
          0.008170813411015842,
          0.008130169607284188,
          0.00809026505012298
         ],
         "yaxis": "y"
        },
        {
         "hovertemplate": "variable=val<br>index=%{x}<br>value=%{y}<extra></extra>",
         "legendgroup": "val",
         "line": {
          "color": "#EF553B",
          "dash": "solid"
         },
         "marker": {
          "symbol": "circle"
         },
         "mode": "lines",
         "name": "val",
         "orientation": "v",
         "showlegend": true,
         "type": "scatter",
         "x": [
          0,
          1,
          2,
          3,
          4,
          5,
          6,
          7,
          8,
          9,
          10,
          11,
          12,
          13,
          14,
          15,
          16,
          17,
          18,
          19,
          20,
          21,
          22,
          23,
          24,
          25,
          26,
          27,
          28,
          29,
          30,
          31,
          32,
          33,
          34,
          35,
          36,
          37,
          38,
          39,
          40,
          41,
          42,
          43,
          44,
          45,
          46,
          47,
          48,
          49,
          50,
          51,
          52,
          53,
          54,
          55,
          56,
          57,
          58,
          59,
          60,
          61,
          62,
          63,
          64,
          65,
          66,
          67,
          68,
          69,
          70,
          71,
          72,
          73,
          74,
          75,
          76,
          77
         ],
         "xaxis": "x",
         "y": [
          0.5430980197020939,
          0.4843987694808415,
          0.4148609808513096,
          0.3387161982910974,
          0.28126487880945206,
          0.25461129418441225,
          0.24491473127688682,
          0.24089192226529121,
          0.2385246024600097,
          0.23663852789572307,
          0.23487273497240885,
          0.23309910936014994,
          0.2312625710453306,
          0.2293329286788191,
          0.2272892397429262,
          0.22511360262121474,
          0.22278891184500285,
          0.2202978799385684,
          0.21762242860027722,
          0.21474312032972062,
          0.21163926858987128,
          0.20828872227243014,
          0.20466748625040054,
          0.20074989699891635,
          0.19650834692376,
          0.19191337270396097,
          0.18693377396890096,
          0.18153681180306844,
          0.1756884567439556,
          0.16935411148837634,
          0.16249949378626688,
          0.15509204619697162,
          0.14710260395492827,
          0.13850845928703034,
          0.12929712821330344,
          0.11947256699204445,
          0.10906258544751576,
          0.09813011464263711,
          0.08678876608610153,
          0.07522268646529742,
          0.0637075597686427,
          0.05262689824615206,
          0.0424678821249732,
          0.033775727451679165,
          0.02705390052869916,
          0.022619541800980057,
          0.020465739503768936,
          0.02021572369683002,
          0.021231993434152434,
          0.022839386498422494,
          0.02452189111084278,
          0.025990240841305683,
          0.02713894037463303,
          0.027969141415919045,
          0.028527176889058734,
          0.0288697818260906,
          0.029048766125924885,
          0.0291063624234604,
          0.029075074441997067,
          0.02897930078740631,
          0.02883701359054872,
          0.028661364473269453,
          0.028462018867555474,
          0.028245985092196082,
          0.028018464450724423,
          0.02778327460068145,
          0.02754321493141885,
          0.027300344979656593,
          0.02705621985452516,
          0.02681203527442579,
          0.026568587170913815,
          0.026326570626614348,
          0.02608642462707524,
          0.025848529052122364,
          0.025613207802442566,
          0.02538058449447687,
          0.025150881614536047,
          0.024924169494105235
         ],
         "yaxis": "y"
        }
       ],
       "layout": {
        "legend": {
         "title": {
          "text": "variable"
         },
         "tracegroupgap": 0
        },
        "template": {
         "data": {
          "bar": [
           {
            "error_x": {
             "color": "#2a3f5f"
            },
            "error_y": {
             "color": "#2a3f5f"
            },
            "marker": {
             "line": {
              "color": "white",
              "width": 0.5
             },
             "pattern": {
              "fillmode": "overlay",
              "size": 10,
              "solidity": 0.2
             }
            },
            "type": "bar"
           }
          ],
          "barpolar": [
           {
            "marker": {
             "line": {
              "color": "white",
              "width": 0.5
             },
             "pattern": {
              "fillmode": "overlay",
              "size": 10,
              "solidity": 0.2
             }
            },
            "type": "barpolar"
           }
          ],
          "carpet": [
           {
            "aaxis": {
             "endlinecolor": "#2a3f5f",
             "gridcolor": "#C8D4E3",
             "linecolor": "#C8D4E3",
             "minorgridcolor": "#C8D4E3",
             "startlinecolor": "#2a3f5f"
            },
            "baxis": {
             "endlinecolor": "#2a3f5f",
             "gridcolor": "#C8D4E3",
             "linecolor": "#C8D4E3",
             "minorgridcolor": "#C8D4E3",
             "startlinecolor": "#2a3f5f"
            },
            "type": "carpet"
           }
          ],
          "choropleth": [
           {
            "colorbar": {
             "outlinewidth": 0,
             "ticks": ""
            },
            "type": "choropleth"
           }
          ],
          "contour": [
           {
            "colorbar": {
             "outlinewidth": 0,
             "ticks": ""
            },
            "colorscale": [
             [
              0,
              "#0d0887"
             ],
             [
              0.1111111111111111,
              "#46039f"
             ],
             [
              0.2222222222222222,
              "#7201a8"
             ],
             [
              0.3333333333333333,
              "#9c179e"
             ],
             [
              0.4444444444444444,
              "#bd3786"
             ],
             [
              0.5555555555555556,
              "#d8576b"
             ],
             [
              0.6666666666666666,
              "#ed7953"
             ],
             [
              0.7777777777777778,
              "#fb9f3a"
             ],
             [
              0.8888888888888888,
              "#fdca26"
             ],
             [
              1,
              "#f0f921"
             ]
            ],
            "type": "contour"
           }
          ],
          "contourcarpet": [
           {
            "colorbar": {
             "outlinewidth": 0,
             "ticks": ""
            },
            "type": "contourcarpet"
           }
          ],
          "heatmap": [
           {
            "colorbar": {
             "outlinewidth": 0,
             "ticks": ""
            },
            "colorscale": [
             [
              0,
              "#0d0887"
             ],
             [
              0.1111111111111111,
              "#46039f"
             ],
             [
              0.2222222222222222,
              "#7201a8"
             ],
             [
              0.3333333333333333,
              "#9c179e"
             ],
             [
              0.4444444444444444,
              "#bd3786"
             ],
             [
              0.5555555555555556,
              "#d8576b"
             ],
             [
              0.6666666666666666,
              "#ed7953"
             ],
             [
              0.7777777777777778,
              "#fb9f3a"
             ],
             [
              0.8888888888888888,
              "#fdca26"
             ],
             [
              1,
              "#f0f921"
             ]
            ],
            "type": "heatmap"
           }
          ],
          "heatmapgl": [
           {
            "colorbar": {
             "outlinewidth": 0,
             "ticks": ""
            },
            "colorscale": [
             [
              0,
              "#0d0887"
             ],
             [
              0.1111111111111111,
              "#46039f"
             ],
             [
              0.2222222222222222,
              "#7201a8"
             ],
             [
              0.3333333333333333,
              "#9c179e"
             ],
             [
              0.4444444444444444,
              "#bd3786"
             ],
             [
              0.5555555555555556,
              "#d8576b"
             ],
             [
              0.6666666666666666,
              "#ed7953"
             ],
             [
              0.7777777777777778,
              "#fb9f3a"
             ],
             [
              0.8888888888888888,
              "#fdca26"
             ],
             [
              1,
              "#f0f921"
             ]
            ],
            "type": "heatmapgl"
           }
          ],
          "histogram": [
           {
            "marker": {
             "pattern": {
              "fillmode": "overlay",
              "size": 10,
              "solidity": 0.2
             }
            },
            "type": "histogram"
           }
          ],
          "histogram2d": [
           {
            "colorbar": {
             "outlinewidth": 0,
             "ticks": ""
            },
            "colorscale": [
             [
              0,
              "#0d0887"
             ],
             [
              0.1111111111111111,
              "#46039f"
             ],
             [
              0.2222222222222222,
              "#7201a8"
             ],
             [
              0.3333333333333333,
              "#9c179e"
             ],
             [
              0.4444444444444444,
              "#bd3786"
             ],
             [
              0.5555555555555556,
              "#d8576b"
             ],
             [
              0.6666666666666666,
              "#ed7953"
             ],
             [
              0.7777777777777778,
              "#fb9f3a"
             ],
             [
              0.8888888888888888,
              "#fdca26"
             ],
             [
              1,
              "#f0f921"
             ]
            ],
            "type": "histogram2d"
           }
          ],
          "histogram2dcontour": [
           {
            "colorbar": {
             "outlinewidth": 0,
             "ticks": ""
            },
            "colorscale": [
             [
              0,
              "#0d0887"
             ],
             [
              0.1111111111111111,
              "#46039f"
             ],
             [
              0.2222222222222222,
              "#7201a8"
             ],
             [
              0.3333333333333333,
              "#9c179e"
             ],
             [
              0.4444444444444444,
              "#bd3786"
             ],
             [
              0.5555555555555556,
              "#d8576b"
             ],
             [
              0.6666666666666666,
              "#ed7953"
             ],
             [
              0.7777777777777778,
              "#fb9f3a"
             ],
             [
              0.8888888888888888,
              "#fdca26"
             ],
             [
              1,
              "#f0f921"
             ]
            ],
            "type": "histogram2dcontour"
           }
          ],
          "mesh3d": [
           {
            "colorbar": {
             "outlinewidth": 0,
             "ticks": ""
            },
            "type": "mesh3d"
           }
          ],
          "parcoords": [
           {
            "line": {
             "colorbar": {
              "outlinewidth": 0,
              "ticks": ""
             }
            },
            "type": "parcoords"
           }
          ],
          "pie": [
           {
            "automargin": true,
            "type": "pie"
           }
          ],
          "scatter": [
           {
            "fillpattern": {
             "fillmode": "overlay",
             "size": 10,
             "solidity": 0.2
            },
            "type": "scatter"
           }
          ],
          "scatter3d": [
           {
            "line": {
             "colorbar": {
              "outlinewidth": 0,
              "ticks": ""
             }
            },
            "marker": {
             "colorbar": {
              "outlinewidth": 0,
              "ticks": ""
             }
            },
            "type": "scatter3d"
           }
          ],
          "scattercarpet": [
           {
            "marker": {
             "colorbar": {
              "outlinewidth": 0,
              "ticks": ""
             }
            },
            "type": "scattercarpet"
           }
          ],
          "scattergeo": [
           {
            "marker": {
             "colorbar": {
              "outlinewidth": 0,
              "ticks": ""
             }
            },
            "type": "scattergeo"
           }
          ],
          "scattergl": [
           {
            "marker": {
             "colorbar": {
              "outlinewidth": 0,
              "ticks": ""
             }
            },
            "type": "scattergl"
           }
          ],
          "scattermapbox": [
           {
            "marker": {
             "colorbar": {
              "outlinewidth": 0,
              "ticks": ""
             }
            },
            "type": "scattermapbox"
           }
          ],
          "scatterpolar": [
           {
            "marker": {
             "colorbar": {
              "outlinewidth": 0,
              "ticks": ""
             }
            },
            "type": "scatterpolar"
           }
          ],
          "scatterpolargl": [
           {
            "marker": {
             "colorbar": {
              "outlinewidth": 0,
              "ticks": ""
             }
            },
            "type": "scatterpolargl"
           }
          ],
          "scatterternary": [
           {
            "marker": {
             "colorbar": {
              "outlinewidth": 0,
              "ticks": ""
             }
            },
            "type": "scatterternary"
           }
          ],
          "surface": [
           {
            "colorbar": {
             "outlinewidth": 0,
             "ticks": ""
            },
            "colorscale": [
             [
              0,
              "#0d0887"
             ],
             [
              0.1111111111111111,
              "#46039f"
             ],
             [
              0.2222222222222222,
              "#7201a8"
             ],
             [
              0.3333333333333333,
              "#9c179e"
             ],
             [
              0.4444444444444444,
              "#bd3786"
             ],
             [
              0.5555555555555556,
              "#d8576b"
             ],
             [
              0.6666666666666666,
              "#ed7953"
             ],
             [
              0.7777777777777778,
              "#fb9f3a"
             ],
             [
              0.8888888888888888,
              "#fdca26"
             ],
             [
              1,
              "#f0f921"
             ]
            ],
            "type": "surface"
           }
          ],
          "table": [
           {
            "cells": {
             "fill": {
              "color": "#EBF0F8"
             },
             "line": {
              "color": "white"
             }
            },
            "header": {
             "fill": {
              "color": "#C8D4E3"
             },
             "line": {
              "color": "white"
             }
            },
            "type": "table"
           }
          ]
         },
         "layout": {
          "annotationdefaults": {
           "arrowcolor": "#2a3f5f",
           "arrowhead": 0,
           "arrowwidth": 1
          },
          "autotypenumbers": "strict",
          "coloraxis": {
           "colorbar": {
            "outlinewidth": 0,
            "ticks": ""
           }
          },
          "colorscale": {
           "diverging": [
            [
             0,
             "#8e0152"
            ],
            [
             0.1,
             "#c51b7d"
            ],
            [
             0.2,
             "#de77ae"
            ],
            [
             0.3,
             "#f1b6da"
            ],
            [
             0.4,
             "#fde0ef"
            ],
            [
             0.5,
             "#f7f7f7"
            ],
            [
             0.6,
             "#e6f5d0"
            ],
            [
             0.7,
             "#b8e186"
            ],
            [
             0.8,
             "#7fbc41"
            ],
            [
             0.9,
             "#4d9221"
            ],
            [
             1,
             "#276419"
            ]
           ],
           "sequential": [
            [
             0,
             "#0d0887"
            ],
            [
             0.1111111111111111,
             "#46039f"
            ],
            [
             0.2222222222222222,
             "#7201a8"
            ],
            [
             0.3333333333333333,
             "#9c179e"
            ],
            [
             0.4444444444444444,
             "#bd3786"
            ],
            [
             0.5555555555555556,
             "#d8576b"
            ],
            [
             0.6666666666666666,
             "#ed7953"
            ],
            [
             0.7777777777777778,
             "#fb9f3a"
            ],
            [
             0.8888888888888888,
             "#fdca26"
            ],
            [
             1,
             "#f0f921"
            ]
           ],
           "sequentialminus": [
            [
             0,
             "#0d0887"
            ],
            [
             0.1111111111111111,
             "#46039f"
            ],
            [
             0.2222222222222222,
             "#7201a8"
            ],
            [
             0.3333333333333333,
             "#9c179e"
            ],
            [
             0.4444444444444444,
             "#bd3786"
            ],
            [
             0.5555555555555556,
             "#d8576b"
            ],
            [
             0.6666666666666666,
             "#ed7953"
            ],
            [
             0.7777777777777778,
             "#fb9f3a"
            ],
            [
             0.8888888888888888,
             "#fdca26"
            ],
            [
             1,
             "#f0f921"
            ]
           ]
          },
          "colorway": [
           "#636efa",
           "#EF553B",
           "#00cc96",
           "#ab63fa",
           "#FFA15A",
           "#19d3f3",
           "#FF6692",
           "#B6E880",
           "#FF97FF",
           "#FECB52"
          ],
          "font": {
           "color": "#2a3f5f"
          },
          "geo": {
           "bgcolor": "white",
           "lakecolor": "white",
           "landcolor": "white",
           "showlakes": true,
           "showland": true,
           "subunitcolor": "#C8D4E3"
          },
          "hoverlabel": {
           "align": "left"
          },
          "hovermode": "closest",
          "mapbox": {
           "style": "light"
          },
          "paper_bgcolor": "white",
          "plot_bgcolor": "white",
          "polar": {
           "angularaxis": {
            "gridcolor": "#EBF0F8",
            "linecolor": "#EBF0F8",
            "ticks": ""
           },
           "bgcolor": "white",
           "radialaxis": {
            "gridcolor": "#EBF0F8",
            "linecolor": "#EBF0F8",
            "ticks": ""
           }
          },
          "scene": {
           "xaxis": {
            "backgroundcolor": "white",
            "gridcolor": "#DFE8F3",
            "gridwidth": 2,
            "linecolor": "#EBF0F8",
            "showbackground": true,
            "ticks": "",
            "zerolinecolor": "#EBF0F8"
           },
           "yaxis": {
            "backgroundcolor": "white",
            "gridcolor": "#DFE8F3",
            "gridwidth": 2,
            "linecolor": "#EBF0F8",
            "showbackground": true,
            "ticks": "",
            "zerolinecolor": "#EBF0F8"
           },
           "zaxis": {
            "backgroundcolor": "white",
            "gridcolor": "#DFE8F3",
            "gridwidth": 2,
            "linecolor": "#EBF0F8",
            "showbackground": true,
            "ticks": "",
            "zerolinecolor": "#EBF0F8"
           }
          },
          "shapedefaults": {
           "line": {
            "color": "#2a3f5f"
           }
          },
          "ternary": {
           "aaxis": {
            "gridcolor": "#DFE8F3",
            "linecolor": "#A2B1C6",
            "ticks": ""
           },
           "baxis": {
            "gridcolor": "#DFE8F3",
            "linecolor": "#A2B1C6",
            "ticks": ""
           },
           "bgcolor": "white",
           "caxis": {
            "gridcolor": "#DFE8F3",
            "linecolor": "#A2B1C6",
            "ticks": ""
           }
          },
          "title": {
           "x": 0.05
          },
          "xaxis": {
           "automargin": true,
           "gridcolor": "#EBF0F8",
           "linecolor": "#EBF0F8",
           "ticks": "",
           "title": {
            "standoff": 15
           },
           "zerolinecolor": "#EBF0F8",
           "zerolinewidth": 2
          },
          "yaxis": {
           "automargin": true,
           "gridcolor": "#EBF0F8",
           "linecolor": "#EBF0F8",
           "ticks": "",
           "title": {
            "standoff": 15
           },
           "zerolinecolor": "#EBF0F8",
           "zerolinewidth": 2
          }
         }
        },
        "title": {
         "text": "Losses"
        },
        "xaxis": {
         "anchor": "y",
         "domain": [
          0,
          1
         ],
         "title": {
          "text": "index"
         }
        },
        "yaxis": {
         "anchor": "x",
         "domain": [
          0,
          1
         ],
         "title": {
          "text": "value"
         },
         "type": "log"
        }
       }
      }
     },
     "metadata": {},
     "output_type": "display_data"
    }
   ],
   "source": [
    "seq_length = 1\n",
    "n_epochs = 200\n",
    "batch_size = 2\n",
    "patience = 30\n",
    "n_features = train.shape[1]\n",
    "device = \"cuda\"\n",
    "\n",
    "data_module = ap.PassengerDataModule(\n",
    "  train=train,\n",
    "  val=val,\n",
    "  test=test,\n",
    "  seq_length=seq_length,\n",
    "  batch_size=batch_size,\n",
    "  device=device,\n",
    ")\n",
    "\n",
    "\n",
    "# Create the model, optimizer and loss function\n",
    "lstm = ap.PassengerLSTM(\n",
    "  input_size=n_features, lstm_hidden_size=50, num_layers=4, output_size=1, device=device\n",
    ")\n",
    "optimizer = optim.AdamW(lstm.parameters(), lr=0.0002)\n",
    "loss_fn = nn.MSELoss()\n",
    "\n",
    "early_stopping = ap.EarlyStopping(patience=patience, verbose=True)\n",
    "\n",
    "# Train the model\n",
    "predictor = ap.PassengerPredictor(\n",
    "  data_module=data_module, model=lstm, optimizer=optimizer, loss_fn=loss_fn\n",
    ")\n",
    "train_losses, val_losses = predictor.train(\n",
    "  model=lstm,\n",
    "  optimizer=optimizer,\n",
    "  loss_fn=loss_fn,\n",
    "  n_epochs=n_epochs,\n",
    "  early_stopping=early_stopping,\n",
    "  verbose=2\n",
    ")\n",
    "\n",
    "\n",
    "# Plot the losses\n",
    "losses = pd.DataFrame({\"train\": train_losses, \"val\": val_losses})\n",
    "px.line(losses, y=[\"train\", \"val\"], title=\"Losses\", log_y=True)\n"
   ]
  },
  {
   "cell_type": "code",
   "execution_count": 7,
   "metadata": {},
   "outputs": [],
   "source": [
    "y_pred = predictor.predict(model=lstm, dataloader=data_module.test_dataloader)\n",
    "pred = pd.DataFrame(y_pred.flatten(), index=test.index[seq_length:], columns=[\"passengers\"])\n",
    "\n",
    "y_pred_val = predictor.predict(model=lstm, dataloader=data_module.val_dataloader)\n",
    "pred_val = pd.DataFrame(y_pred_val.flatten(), index=val.index[seq_length:], columns=[\"passengers\"])\n",
    "\n",
    "fig = ap.plot_tts(train=train, val=val, test=test)\n",
    "fig.add_trace(go.Scatter(x=pred.index, y=pred[\"passengers\"], name=\"pred\", mode=\"lines\"))\n",
    "fig.add_trace(go.Scatter(x=pred_val.index, y=pred_val[\"passengers\"], name=\"pred_val\", mode=\"lines\"))\n",
    "\n",
    "test_pred_error = ap.compute_pred_error(\n",
    "  y_pred=y_pred,\n",
    "  y_true=test[\"passengers\"].values,\n",
    "  loss_fn=loss_fn,\n",
    "  seq_length=seq_length,\n",
    ")\n",
    "val_pred_error = ap.compute_pred_error(\n",
    "  y_pred=y_pred_val,\n",
    "  y_true=val[\"passengers\"].values,\n",
    "  loss_fn=loss_fn,\n",
    "  seq_length=seq_length,\n",
    ")\n",
    "\n",
    "fig.layout.title.text += f\". Val error: {val_pred_error:.4f}, Test error: {test_pred_error:.4f}\"\n"
   ]
  },
  {
   "attachments": {},
   "cell_type": "markdown",
   "metadata": {},
   "source": [
    "We see that the predictions of the model for time $t+1$ pretty much consist of the value that is passed to it at time $t$. This is because the model does not have any data besides the value at time $t$ to predict the value at time $t+1$. Also, for a given value $v_t$ at time $t$, the model will always predict the same value $v_{t+1}$ at time $t+1$.\n",
    "\n",
    "We can change this behavior by feeding more data into the model, such as the current year, the current month, the current season, etc. We will perform these changes in the next section."
   ]
  },
  {
   "attachments": {},
   "cell_type": "markdown",
   "metadata": {},
   "source": [
    "## Feature engineering\n",
    "\n",
    "### Add more features\n",
    "\n",
    "We create extra features to feed into the model.\n"
   ]
  },
  {
   "cell_type": "code",
   "execution_count": 8,
   "metadata": {},
   "outputs": [
    {
     "data": {
      "text/html": [
       "<div>\n",
       "<style scoped>\n",
       "    .dataframe tbody tr th:only-of-type {\n",
       "        vertical-align: middle;\n",
       "    }\n",
       "\n",
       "    .dataframe tbody tr th {\n",
       "        vertical-align: top;\n",
       "    }\n",
       "\n",
       "    .dataframe thead th {\n",
       "        text-align: right;\n",
       "    }\n",
       "</style>\n",
       "<table border=\"1\" class=\"dataframe\">\n",
       "  <thead>\n",
       "    <tr style=\"text-align: right;\">\n",
       "      <th></th>\n",
       "      <th>passengers</th>\n",
       "      <th>month</th>\n",
       "      <th>year</th>\n",
       "      <th>season</th>\n",
       "    </tr>\n",
       "    <tr>\n",
       "      <th>date</th>\n",
       "      <th></th>\n",
       "      <th></th>\n",
       "      <th></th>\n",
       "      <th></th>\n",
       "    </tr>\n",
       "  </thead>\n",
       "  <tbody>\n",
       "    <tr>\n",
       "      <th>1949-01-01</th>\n",
       "      <td>112.0</td>\n",
       "      <td>1</td>\n",
       "      <td>1949</td>\n",
       "      <td>1</td>\n",
       "    </tr>\n",
       "    <tr>\n",
       "      <th>1949-02-01</th>\n",
       "      <td>118.0</td>\n",
       "      <td>2</td>\n",
       "      <td>1949</td>\n",
       "      <td>1</td>\n",
       "    </tr>\n",
       "    <tr>\n",
       "      <th>1949-03-01</th>\n",
       "      <td>132.0</td>\n",
       "      <td>3</td>\n",
       "      <td>1949</td>\n",
       "      <td>2</td>\n",
       "    </tr>\n",
       "    <tr>\n",
       "      <th>1949-04-01</th>\n",
       "      <td>129.0</td>\n",
       "      <td>4</td>\n",
       "      <td>1949</td>\n",
       "      <td>2</td>\n",
       "    </tr>\n",
       "    <tr>\n",
       "      <th>1949-05-01</th>\n",
       "      <td>121.0</td>\n",
       "      <td>5</td>\n",
       "      <td>1949</td>\n",
       "      <td>2</td>\n",
       "    </tr>\n",
       "  </tbody>\n",
       "</table>\n",
       "</div>"
      ],
      "text/plain": [
       "            passengers  month  year  season\n",
       "date                                       \n",
       "1949-01-01       112.0      1  1949       1\n",
       "1949-02-01       118.0      2  1949       1\n",
       "1949-03-01       132.0      3  1949       2\n",
       "1949-04-01       129.0      4  1949       2\n",
       "1949-05-01       121.0      5  1949       2"
      ]
     },
     "execution_count": 8,
     "metadata": {},
     "output_type": "execute_result"
    }
   ],
   "source": [
    "passengers_augmented = passengers.copy()\n",
    "passengers_augmented[\"month\"] = passengers_augmented.index.month\n",
    "passengers_augmented[\"year\"] = passengers_augmented.index.year\n",
    "passengers_augmented[\"season\"] = passengers_augmented.index.month % 12 // 3 + 1\n",
    "passengers_augmented.head()"
   ]
  },
  {
   "attachments": {},
   "cell_type": "markdown",
   "metadata": {},
   "source": [
    "### Visualize the data\n",
    "#### Number of passengers per month for each year\n",
    "\n",
    "Let us visualize the number of passengers per month for each year."
   ]
  },
  {
   "cell_type": "code",
   "execution_count": 9,
   "metadata": {},
   "outputs": [
    {
     "data": {
      "application/vnd.plotly.v1+json": {
       "config": {
        "plotlyServerURL": "https://plot.ly"
       },
       "data": [
        {
         "hovertemplate": "year=1949<br>month=%{x}<br>passengers=%{y}<extra></extra>",
         "legendgroup": "1949",
         "line": {
          "color": "#636efa",
          "dash": "solid"
         },
         "marker": {
          "symbol": "circle"
         },
         "mode": "lines",
         "name": "1949",
         "orientation": "v",
         "showlegend": true,
         "type": "scatter",
         "x": [
          1,
          2,
          3,
          4,
          5,
          6,
          7,
          8,
          9,
          10,
          11,
          12
         ],
         "xaxis": "x",
         "y": [
          112,
          118,
          132,
          129,
          121,
          135,
          148,
          148,
          136,
          119,
          104,
          118
         ],
         "yaxis": "y"
        },
        {
         "hovertemplate": "year=1950<br>month=%{x}<br>passengers=%{y}<extra></extra>",
         "legendgroup": "1950",
         "line": {
          "color": "#EF553B",
          "dash": "solid"
         },
         "marker": {
          "symbol": "circle"
         },
         "mode": "lines",
         "name": "1950",
         "orientation": "v",
         "showlegend": true,
         "type": "scatter",
         "x": [
          1,
          2,
          3,
          4,
          5,
          6,
          7,
          8,
          9,
          10,
          11,
          12
         ],
         "xaxis": "x",
         "y": [
          115,
          126,
          141,
          135,
          125,
          149,
          170,
          170,
          158,
          133,
          114,
          140
         ],
         "yaxis": "y"
        },
        {
         "hovertemplate": "year=1951<br>month=%{x}<br>passengers=%{y}<extra></extra>",
         "legendgroup": "1951",
         "line": {
          "color": "#00cc96",
          "dash": "solid"
         },
         "marker": {
          "symbol": "circle"
         },
         "mode": "lines",
         "name": "1951",
         "orientation": "v",
         "showlegend": true,
         "type": "scatter",
         "x": [
          1,
          2,
          3,
          4,
          5,
          6,
          7,
          8,
          9,
          10,
          11,
          12
         ],
         "xaxis": "x",
         "y": [
          145,
          150,
          178,
          163,
          172,
          178,
          199,
          199,
          184,
          162,
          146,
          166
         ],
         "yaxis": "y"
        },
        {
         "hovertemplate": "year=1952<br>month=%{x}<br>passengers=%{y}<extra></extra>",
         "legendgroup": "1952",
         "line": {
          "color": "#ab63fa",
          "dash": "solid"
         },
         "marker": {
          "symbol": "circle"
         },
         "mode": "lines",
         "name": "1952",
         "orientation": "v",
         "showlegend": true,
         "type": "scatter",
         "x": [
          1,
          2,
          3,
          4,
          5,
          6,
          7,
          8,
          9,
          10,
          11,
          12
         ],
         "xaxis": "x",
         "y": [
          171,
          180,
          193,
          181,
          183,
          218,
          230,
          242,
          209,
          191,
          172,
          194
         ],
         "yaxis": "y"
        },
        {
         "hovertemplate": "year=1953<br>month=%{x}<br>passengers=%{y}<extra></extra>",
         "legendgroup": "1953",
         "line": {
          "color": "#FFA15A",
          "dash": "solid"
         },
         "marker": {
          "symbol": "circle"
         },
         "mode": "lines",
         "name": "1953",
         "orientation": "v",
         "showlegend": true,
         "type": "scatter",
         "x": [
          1,
          2,
          3,
          4,
          5,
          6,
          7,
          8,
          9,
          10,
          11,
          12
         ],
         "xaxis": "x",
         "y": [
          196,
          196,
          236,
          235,
          229,
          243,
          264,
          272,
          237,
          211,
          180,
          201
         ],
         "yaxis": "y"
        },
        {
         "hovertemplate": "year=1954<br>month=%{x}<br>passengers=%{y}<extra></extra>",
         "legendgroup": "1954",
         "line": {
          "color": "#19d3f3",
          "dash": "solid"
         },
         "marker": {
          "symbol": "circle"
         },
         "mode": "lines",
         "name": "1954",
         "orientation": "v",
         "showlegend": true,
         "type": "scatter",
         "x": [
          1,
          2,
          3,
          4,
          5,
          6,
          7,
          8,
          9,
          10,
          11,
          12
         ],
         "xaxis": "x",
         "y": [
          204,
          188,
          235,
          227,
          234,
          264,
          302,
          293,
          259,
          229,
          203,
          229
         ],
         "yaxis": "y"
        },
        {
         "hovertemplate": "year=1955<br>month=%{x}<br>passengers=%{y}<extra></extra>",
         "legendgroup": "1955",
         "line": {
          "color": "#FF6692",
          "dash": "solid"
         },
         "marker": {
          "symbol": "circle"
         },
         "mode": "lines",
         "name": "1955",
         "orientation": "v",
         "showlegend": true,
         "type": "scatter",
         "x": [
          1,
          2,
          3,
          4,
          5,
          6,
          7,
          8,
          9,
          10,
          11,
          12
         ],
         "xaxis": "x",
         "y": [
          242,
          233,
          267,
          269,
          270,
          315,
          364,
          347,
          312,
          274,
          237,
          278
         ],
         "yaxis": "y"
        },
        {
         "hovertemplate": "year=1956<br>month=%{x}<br>passengers=%{y}<extra></extra>",
         "legendgroup": "1956",
         "line": {
          "color": "#B6E880",
          "dash": "solid"
         },
         "marker": {
          "symbol": "circle"
         },
         "mode": "lines",
         "name": "1956",
         "orientation": "v",
         "showlegend": true,
         "type": "scatter",
         "x": [
          1,
          2,
          3,
          4,
          5,
          6,
          7,
          8,
          9,
          10,
          11,
          12
         ],
         "xaxis": "x",
         "y": [
          284,
          277,
          317,
          313,
          318,
          374,
          413,
          405,
          355,
          306,
          271,
          306
         ],
         "yaxis": "y"
        },
        {
         "hovertemplate": "year=1957<br>month=%{x}<br>passengers=%{y}<extra></extra>",
         "legendgroup": "1957",
         "line": {
          "color": "#FF97FF",
          "dash": "solid"
         },
         "marker": {
          "symbol": "circle"
         },
         "mode": "lines",
         "name": "1957",
         "orientation": "v",
         "showlegend": true,
         "type": "scatter",
         "x": [
          1,
          2,
          3,
          4,
          5,
          6,
          7,
          8,
          9,
          10,
          11,
          12
         ],
         "xaxis": "x",
         "y": [
          315,
          301,
          356,
          348,
          355,
          422,
          465,
          467,
          404,
          347,
          305,
          336
         ],
         "yaxis": "y"
        },
        {
         "hovertemplate": "year=1958<br>month=%{x}<br>passengers=%{y}<extra></extra>",
         "legendgroup": "1958",
         "line": {
          "color": "#FECB52",
          "dash": "solid"
         },
         "marker": {
          "symbol": "circle"
         },
         "mode": "lines",
         "name": "1958",
         "orientation": "v",
         "showlegend": true,
         "type": "scatter",
         "x": [
          1,
          2,
          3,
          4,
          5,
          6,
          7,
          8,
          9,
          10,
          11,
          12
         ],
         "xaxis": "x",
         "y": [
          340,
          318,
          362,
          348,
          363,
          435,
          491,
          505,
          404,
          359,
          310,
          337
         ],
         "yaxis": "y"
        },
        {
         "hovertemplate": "year=1959<br>month=%{x}<br>passengers=%{y}<extra></extra>",
         "legendgroup": "1959",
         "line": {
          "color": "#636efa",
          "dash": "solid"
         },
         "marker": {
          "symbol": "circle"
         },
         "mode": "lines",
         "name": "1959",
         "orientation": "v",
         "showlegend": true,
         "type": "scatter",
         "x": [
          1,
          2,
          3,
          4,
          5,
          6,
          7,
          8,
          9,
          10,
          11,
          12
         ],
         "xaxis": "x",
         "y": [
          360,
          342,
          406,
          396,
          420,
          472,
          548,
          559,
          463,
          407,
          362,
          405
         ],
         "yaxis": "y"
        },
        {
         "hovertemplate": "year=1960<br>month=%{x}<br>passengers=%{y}<extra></extra>",
         "legendgroup": "1960",
         "line": {
          "color": "#EF553B",
          "dash": "solid"
         },
         "marker": {
          "symbol": "circle"
         },
         "mode": "lines",
         "name": "1960",
         "orientation": "v",
         "showlegend": true,
         "type": "scatter",
         "x": [
          1,
          2,
          3,
          4,
          5,
          6,
          7,
          8,
          9,
          10,
          11,
          12
         ],
         "xaxis": "x",
         "y": [
          417,
          391,
          419,
          461,
          472,
          535,
          622,
          606,
          508,
          461,
          390,
          432
         ],
         "yaxis": "y"
        }
       ],
       "layout": {
        "legend": {
         "title": {
          "text": "year"
         },
         "tracegroupgap": 0
        },
        "template": {
         "data": {
          "bar": [
           {
            "error_x": {
             "color": "#2a3f5f"
            },
            "error_y": {
             "color": "#2a3f5f"
            },
            "marker": {
             "line": {
              "color": "white",
              "width": 0.5
             },
             "pattern": {
              "fillmode": "overlay",
              "size": 10,
              "solidity": 0.2
             }
            },
            "type": "bar"
           }
          ],
          "barpolar": [
           {
            "marker": {
             "line": {
              "color": "white",
              "width": 0.5
             },
             "pattern": {
              "fillmode": "overlay",
              "size": 10,
              "solidity": 0.2
             }
            },
            "type": "barpolar"
           }
          ],
          "carpet": [
           {
            "aaxis": {
             "endlinecolor": "#2a3f5f",
             "gridcolor": "#C8D4E3",
             "linecolor": "#C8D4E3",
             "minorgridcolor": "#C8D4E3",
             "startlinecolor": "#2a3f5f"
            },
            "baxis": {
             "endlinecolor": "#2a3f5f",
             "gridcolor": "#C8D4E3",
             "linecolor": "#C8D4E3",
             "minorgridcolor": "#C8D4E3",
             "startlinecolor": "#2a3f5f"
            },
            "type": "carpet"
           }
          ],
          "choropleth": [
           {
            "colorbar": {
             "outlinewidth": 0,
             "ticks": ""
            },
            "type": "choropleth"
           }
          ],
          "contour": [
           {
            "colorbar": {
             "outlinewidth": 0,
             "ticks": ""
            },
            "colorscale": [
             [
              0,
              "#0d0887"
             ],
             [
              0.1111111111111111,
              "#46039f"
             ],
             [
              0.2222222222222222,
              "#7201a8"
             ],
             [
              0.3333333333333333,
              "#9c179e"
             ],
             [
              0.4444444444444444,
              "#bd3786"
             ],
             [
              0.5555555555555556,
              "#d8576b"
             ],
             [
              0.6666666666666666,
              "#ed7953"
             ],
             [
              0.7777777777777778,
              "#fb9f3a"
             ],
             [
              0.8888888888888888,
              "#fdca26"
             ],
             [
              1,
              "#f0f921"
             ]
            ],
            "type": "contour"
           }
          ],
          "contourcarpet": [
           {
            "colorbar": {
             "outlinewidth": 0,
             "ticks": ""
            },
            "type": "contourcarpet"
           }
          ],
          "heatmap": [
           {
            "colorbar": {
             "outlinewidth": 0,
             "ticks": ""
            },
            "colorscale": [
             [
              0,
              "#0d0887"
             ],
             [
              0.1111111111111111,
              "#46039f"
             ],
             [
              0.2222222222222222,
              "#7201a8"
             ],
             [
              0.3333333333333333,
              "#9c179e"
             ],
             [
              0.4444444444444444,
              "#bd3786"
             ],
             [
              0.5555555555555556,
              "#d8576b"
             ],
             [
              0.6666666666666666,
              "#ed7953"
             ],
             [
              0.7777777777777778,
              "#fb9f3a"
             ],
             [
              0.8888888888888888,
              "#fdca26"
             ],
             [
              1,
              "#f0f921"
             ]
            ],
            "type": "heatmap"
           }
          ],
          "heatmapgl": [
           {
            "colorbar": {
             "outlinewidth": 0,
             "ticks": ""
            },
            "colorscale": [
             [
              0,
              "#0d0887"
             ],
             [
              0.1111111111111111,
              "#46039f"
             ],
             [
              0.2222222222222222,
              "#7201a8"
             ],
             [
              0.3333333333333333,
              "#9c179e"
             ],
             [
              0.4444444444444444,
              "#bd3786"
             ],
             [
              0.5555555555555556,
              "#d8576b"
             ],
             [
              0.6666666666666666,
              "#ed7953"
             ],
             [
              0.7777777777777778,
              "#fb9f3a"
             ],
             [
              0.8888888888888888,
              "#fdca26"
             ],
             [
              1,
              "#f0f921"
             ]
            ],
            "type": "heatmapgl"
           }
          ],
          "histogram": [
           {
            "marker": {
             "pattern": {
              "fillmode": "overlay",
              "size": 10,
              "solidity": 0.2
             }
            },
            "type": "histogram"
           }
          ],
          "histogram2d": [
           {
            "colorbar": {
             "outlinewidth": 0,
             "ticks": ""
            },
            "colorscale": [
             [
              0,
              "#0d0887"
             ],
             [
              0.1111111111111111,
              "#46039f"
             ],
             [
              0.2222222222222222,
              "#7201a8"
             ],
             [
              0.3333333333333333,
              "#9c179e"
             ],
             [
              0.4444444444444444,
              "#bd3786"
             ],
             [
              0.5555555555555556,
              "#d8576b"
             ],
             [
              0.6666666666666666,
              "#ed7953"
             ],
             [
              0.7777777777777778,
              "#fb9f3a"
             ],
             [
              0.8888888888888888,
              "#fdca26"
             ],
             [
              1,
              "#f0f921"
             ]
            ],
            "type": "histogram2d"
           }
          ],
          "histogram2dcontour": [
           {
            "colorbar": {
             "outlinewidth": 0,
             "ticks": ""
            },
            "colorscale": [
             [
              0,
              "#0d0887"
             ],
             [
              0.1111111111111111,
              "#46039f"
             ],
             [
              0.2222222222222222,
              "#7201a8"
             ],
             [
              0.3333333333333333,
              "#9c179e"
             ],
             [
              0.4444444444444444,
              "#bd3786"
             ],
             [
              0.5555555555555556,
              "#d8576b"
             ],
             [
              0.6666666666666666,
              "#ed7953"
             ],
             [
              0.7777777777777778,
              "#fb9f3a"
             ],
             [
              0.8888888888888888,
              "#fdca26"
             ],
             [
              1,
              "#f0f921"
             ]
            ],
            "type": "histogram2dcontour"
           }
          ],
          "mesh3d": [
           {
            "colorbar": {
             "outlinewidth": 0,
             "ticks": ""
            },
            "type": "mesh3d"
           }
          ],
          "parcoords": [
           {
            "line": {
             "colorbar": {
              "outlinewidth": 0,
              "ticks": ""
             }
            },
            "type": "parcoords"
           }
          ],
          "pie": [
           {
            "automargin": true,
            "type": "pie"
           }
          ],
          "scatter": [
           {
            "fillpattern": {
             "fillmode": "overlay",
             "size": 10,
             "solidity": 0.2
            },
            "type": "scatter"
           }
          ],
          "scatter3d": [
           {
            "line": {
             "colorbar": {
              "outlinewidth": 0,
              "ticks": ""
             }
            },
            "marker": {
             "colorbar": {
              "outlinewidth": 0,
              "ticks": ""
             }
            },
            "type": "scatter3d"
           }
          ],
          "scattercarpet": [
           {
            "marker": {
             "colorbar": {
              "outlinewidth": 0,
              "ticks": ""
             }
            },
            "type": "scattercarpet"
           }
          ],
          "scattergeo": [
           {
            "marker": {
             "colorbar": {
              "outlinewidth": 0,
              "ticks": ""
             }
            },
            "type": "scattergeo"
           }
          ],
          "scattergl": [
           {
            "marker": {
             "colorbar": {
              "outlinewidth": 0,
              "ticks": ""
             }
            },
            "type": "scattergl"
           }
          ],
          "scattermapbox": [
           {
            "marker": {
             "colorbar": {
              "outlinewidth": 0,
              "ticks": ""
             }
            },
            "type": "scattermapbox"
           }
          ],
          "scatterpolar": [
           {
            "marker": {
             "colorbar": {
              "outlinewidth": 0,
              "ticks": ""
             }
            },
            "type": "scatterpolar"
           }
          ],
          "scatterpolargl": [
           {
            "marker": {
             "colorbar": {
              "outlinewidth": 0,
              "ticks": ""
             }
            },
            "type": "scatterpolargl"
           }
          ],
          "scatterternary": [
           {
            "marker": {
             "colorbar": {
              "outlinewidth": 0,
              "ticks": ""
             }
            },
            "type": "scatterternary"
           }
          ],
          "surface": [
           {
            "colorbar": {
             "outlinewidth": 0,
             "ticks": ""
            },
            "colorscale": [
             [
              0,
              "#0d0887"
             ],
             [
              0.1111111111111111,
              "#46039f"
             ],
             [
              0.2222222222222222,
              "#7201a8"
             ],
             [
              0.3333333333333333,
              "#9c179e"
             ],
             [
              0.4444444444444444,
              "#bd3786"
             ],
             [
              0.5555555555555556,
              "#d8576b"
             ],
             [
              0.6666666666666666,
              "#ed7953"
             ],
             [
              0.7777777777777778,
              "#fb9f3a"
             ],
             [
              0.8888888888888888,
              "#fdca26"
             ],
             [
              1,
              "#f0f921"
             ]
            ],
            "type": "surface"
           }
          ],
          "table": [
           {
            "cells": {
             "fill": {
              "color": "#EBF0F8"
             },
             "line": {
              "color": "white"
             }
            },
            "header": {
             "fill": {
              "color": "#C8D4E3"
             },
             "line": {
              "color": "white"
             }
            },
            "type": "table"
           }
          ]
         },
         "layout": {
          "annotationdefaults": {
           "arrowcolor": "#2a3f5f",
           "arrowhead": 0,
           "arrowwidth": 1
          },
          "autotypenumbers": "strict",
          "coloraxis": {
           "colorbar": {
            "outlinewidth": 0,
            "ticks": ""
           }
          },
          "colorscale": {
           "diverging": [
            [
             0,
             "#8e0152"
            ],
            [
             0.1,
             "#c51b7d"
            ],
            [
             0.2,
             "#de77ae"
            ],
            [
             0.3,
             "#f1b6da"
            ],
            [
             0.4,
             "#fde0ef"
            ],
            [
             0.5,
             "#f7f7f7"
            ],
            [
             0.6,
             "#e6f5d0"
            ],
            [
             0.7,
             "#b8e186"
            ],
            [
             0.8,
             "#7fbc41"
            ],
            [
             0.9,
             "#4d9221"
            ],
            [
             1,
             "#276419"
            ]
           ],
           "sequential": [
            [
             0,
             "#0d0887"
            ],
            [
             0.1111111111111111,
             "#46039f"
            ],
            [
             0.2222222222222222,
             "#7201a8"
            ],
            [
             0.3333333333333333,
             "#9c179e"
            ],
            [
             0.4444444444444444,
             "#bd3786"
            ],
            [
             0.5555555555555556,
             "#d8576b"
            ],
            [
             0.6666666666666666,
             "#ed7953"
            ],
            [
             0.7777777777777778,
             "#fb9f3a"
            ],
            [
             0.8888888888888888,
             "#fdca26"
            ],
            [
             1,
             "#f0f921"
            ]
           ],
           "sequentialminus": [
            [
             0,
             "#0d0887"
            ],
            [
             0.1111111111111111,
             "#46039f"
            ],
            [
             0.2222222222222222,
             "#7201a8"
            ],
            [
             0.3333333333333333,
             "#9c179e"
            ],
            [
             0.4444444444444444,
             "#bd3786"
            ],
            [
             0.5555555555555556,
             "#d8576b"
            ],
            [
             0.6666666666666666,
             "#ed7953"
            ],
            [
             0.7777777777777778,
             "#fb9f3a"
            ],
            [
             0.8888888888888888,
             "#fdca26"
            ],
            [
             1,
             "#f0f921"
            ]
           ]
          },
          "colorway": [
           "#636efa",
           "#EF553B",
           "#00cc96",
           "#ab63fa",
           "#FFA15A",
           "#19d3f3",
           "#FF6692",
           "#B6E880",
           "#FF97FF",
           "#FECB52"
          ],
          "font": {
           "color": "#2a3f5f"
          },
          "geo": {
           "bgcolor": "white",
           "lakecolor": "white",
           "landcolor": "white",
           "showlakes": true,
           "showland": true,
           "subunitcolor": "#C8D4E3"
          },
          "hoverlabel": {
           "align": "left"
          },
          "hovermode": "closest",
          "mapbox": {
           "style": "light"
          },
          "paper_bgcolor": "white",
          "plot_bgcolor": "white",
          "polar": {
           "angularaxis": {
            "gridcolor": "#EBF0F8",
            "linecolor": "#EBF0F8",
            "ticks": ""
           },
           "bgcolor": "white",
           "radialaxis": {
            "gridcolor": "#EBF0F8",
            "linecolor": "#EBF0F8",
            "ticks": ""
           }
          },
          "scene": {
           "xaxis": {
            "backgroundcolor": "white",
            "gridcolor": "#DFE8F3",
            "gridwidth": 2,
            "linecolor": "#EBF0F8",
            "showbackground": true,
            "ticks": "",
            "zerolinecolor": "#EBF0F8"
           },
           "yaxis": {
            "backgroundcolor": "white",
            "gridcolor": "#DFE8F3",
            "gridwidth": 2,
            "linecolor": "#EBF0F8",
            "showbackground": true,
            "ticks": "",
            "zerolinecolor": "#EBF0F8"
           },
           "zaxis": {
            "backgroundcolor": "white",
            "gridcolor": "#DFE8F3",
            "gridwidth": 2,
            "linecolor": "#EBF0F8",
            "showbackground": true,
            "ticks": "",
            "zerolinecolor": "#EBF0F8"
           }
          },
          "shapedefaults": {
           "line": {
            "color": "#2a3f5f"
           }
          },
          "ternary": {
           "aaxis": {
            "gridcolor": "#DFE8F3",
            "linecolor": "#A2B1C6",
            "ticks": ""
           },
           "baxis": {
            "gridcolor": "#DFE8F3",
            "linecolor": "#A2B1C6",
            "ticks": ""
           },
           "bgcolor": "white",
           "caxis": {
            "gridcolor": "#DFE8F3",
            "linecolor": "#A2B1C6",
            "ticks": ""
           }
          },
          "title": {
           "x": 0.05
          },
          "xaxis": {
           "automargin": true,
           "gridcolor": "#EBF0F8",
           "linecolor": "#EBF0F8",
           "ticks": "",
           "title": {
            "standoff": 15
           },
           "zerolinecolor": "#EBF0F8",
           "zerolinewidth": 2
          },
          "yaxis": {
           "automargin": true,
           "gridcolor": "#EBF0F8",
           "linecolor": "#EBF0F8",
           "ticks": "",
           "title": {
            "standoff": 15
           },
           "zerolinecolor": "#EBF0F8",
           "zerolinewidth": 2
          }
         }
        },
        "title": {
         "text": "Passengers by month"
        },
        "xaxis": {
         "anchor": "y",
         "domain": [
          0,
          1
         ],
         "title": {
          "text": "month"
         }
        },
        "yaxis": {
         "anchor": "x",
         "domain": [
          0,
          1
         ],
         "title": {
          "text": "passengers"
         }
        }
       }
      }
     },
     "metadata": {},
     "output_type": "display_data"
    }
   ],
   "source": [
    "px.line(\n",
    "  passengers_augmented,\n",
    "  x=\"month\",\n",
    "  y=\"passengers\",\n",
    "  color=\"year\",\n",
    "  title=\"Passengers by month\",\n",
    ").show()\n"
   ]
  },
  {
   "attachments": {},
   "cell_type": "markdown",
   "metadata": {},
   "source": [
    "We see that the number of passengers per year tends to increase for any given month (except on some rare occasions, _e.g._ february 1953, which had more passengers than february 1954). We expect that the model will be able to learn this behavior.\n",
    "\n",
    "#### Number of passengers per month\n",
    "\n",
    "Let us now visualize the number of passengers per month.\n"
   ]
  },
  {
   "cell_type": "code",
   "execution_count": 10,
   "metadata": {},
   "outputs": [
    {
     "data": {
      "application/vnd.plotly.v1+json": {
       "config": {
        "plotlyServerURL": "https://plot.ly"
       },
       "data": [
        {
         "alignmentgroup": "True",
         "hovertemplate": "month=%{x}<br>passengers=%{y}<extra></extra>",
         "legendgroup": "",
         "marker": {
          "color": "#636efa",
          "pattern": {
           "shape": ""
          }
         },
         "name": "",
         "offsetgroup": "",
         "orientation": "v",
         "showlegend": false,
         "textposition": "auto",
         "type": "bar",
         "x": [
          1,
          2,
          3,
          4,
          5,
          6,
          7,
          8,
          9,
          10,
          11,
          12
         ],
         "xaxis": "x",
         "y": [
          241.75,
          235,
          270.16666,
          267.08334,
          271.83334,
          311.66666,
          351.33334,
          351.08334,
          302.41666,
          266.58334,
          232.83333,
          261.83334
         ],
         "yaxis": "y"
        }
       ],
       "layout": {
        "barmode": "relative",
        "legend": {
         "tracegroupgap": 0
        },
        "template": {
         "data": {
          "bar": [
           {
            "error_x": {
             "color": "#2a3f5f"
            },
            "error_y": {
             "color": "#2a3f5f"
            },
            "marker": {
             "line": {
              "color": "white",
              "width": 0.5
             },
             "pattern": {
              "fillmode": "overlay",
              "size": 10,
              "solidity": 0.2
             }
            },
            "type": "bar"
           }
          ],
          "barpolar": [
           {
            "marker": {
             "line": {
              "color": "white",
              "width": 0.5
             },
             "pattern": {
              "fillmode": "overlay",
              "size": 10,
              "solidity": 0.2
             }
            },
            "type": "barpolar"
           }
          ],
          "carpet": [
           {
            "aaxis": {
             "endlinecolor": "#2a3f5f",
             "gridcolor": "#C8D4E3",
             "linecolor": "#C8D4E3",
             "minorgridcolor": "#C8D4E3",
             "startlinecolor": "#2a3f5f"
            },
            "baxis": {
             "endlinecolor": "#2a3f5f",
             "gridcolor": "#C8D4E3",
             "linecolor": "#C8D4E3",
             "minorgridcolor": "#C8D4E3",
             "startlinecolor": "#2a3f5f"
            },
            "type": "carpet"
           }
          ],
          "choropleth": [
           {
            "colorbar": {
             "outlinewidth": 0,
             "ticks": ""
            },
            "type": "choropleth"
           }
          ],
          "contour": [
           {
            "colorbar": {
             "outlinewidth": 0,
             "ticks": ""
            },
            "colorscale": [
             [
              0,
              "#0d0887"
             ],
             [
              0.1111111111111111,
              "#46039f"
             ],
             [
              0.2222222222222222,
              "#7201a8"
             ],
             [
              0.3333333333333333,
              "#9c179e"
             ],
             [
              0.4444444444444444,
              "#bd3786"
             ],
             [
              0.5555555555555556,
              "#d8576b"
             ],
             [
              0.6666666666666666,
              "#ed7953"
             ],
             [
              0.7777777777777778,
              "#fb9f3a"
             ],
             [
              0.8888888888888888,
              "#fdca26"
             ],
             [
              1,
              "#f0f921"
             ]
            ],
            "type": "contour"
           }
          ],
          "contourcarpet": [
           {
            "colorbar": {
             "outlinewidth": 0,
             "ticks": ""
            },
            "type": "contourcarpet"
           }
          ],
          "heatmap": [
           {
            "colorbar": {
             "outlinewidth": 0,
             "ticks": ""
            },
            "colorscale": [
             [
              0,
              "#0d0887"
             ],
             [
              0.1111111111111111,
              "#46039f"
             ],
             [
              0.2222222222222222,
              "#7201a8"
             ],
             [
              0.3333333333333333,
              "#9c179e"
             ],
             [
              0.4444444444444444,
              "#bd3786"
             ],
             [
              0.5555555555555556,
              "#d8576b"
             ],
             [
              0.6666666666666666,
              "#ed7953"
             ],
             [
              0.7777777777777778,
              "#fb9f3a"
             ],
             [
              0.8888888888888888,
              "#fdca26"
             ],
             [
              1,
              "#f0f921"
             ]
            ],
            "type": "heatmap"
           }
          ],
          "heatmapgl": [
           {
            "colorbar": {
             "outlinewidth": 0,
             "ticks": ""
            },
            "colorscale": [
             [
              0,
              "#0d0887"
             ],
             [
              0.1111111111111111,
              "#46039f"
             ],
             [
              0.2222222222222222,
              "#7201a8"
             ],
             [
              0.3333333333333333,
              "#9c179e"
             ],
             [
              0.4444444444444444,
              "#bd3786"
             ],
             [
              0.5555555555555556,
              "#d8576b"
             ],
             [
              0.6666666666666666,
              "#ed7953"
             ],
             [
              0.7777777777777778,
              "#fb9f3a"
             ],
             [
              0.8888888888888888,
              "#fdca26"
             ],
             [
              1,
              "#f0f921"
             ]
            ],
            "type": "heatmapgl"
           }
          ],
          "histogram": [
           {
            "marker": {
             "pattern": {
              "fillmode": "overlay",
              "size": 10,
              "solidity": 0.2
             }
            },
            "type": "histogram"
           }
          ],
          "histogram2d": [
           {
            "colorbar": {
             "outlinewidth": 0,
             "ticks": ""
            },
            "colorscale": [
             [
              0,
              "#0d0887"
             ],
             [
              0.1111111111111111,
              "#46039f"
             ],
             [
              0.2222222222222222,
              "#7201a8"
             ],
             [
              0.3333333333333333,
              "#9c179e"
             ],
             [
              0.4444444444444444,
              "#bd3786"
             ],
             [
              0.5555555555555556,
              "#d8576b"
             ],
             [
              0.6666666666666666,
              "#ed7953"
             ],
             [
              0.7777777777777778,
              "#fb9f3a"
             ],
             [
              0.8888888888888888,
              "#fdca26"
             ],
             [
              1,
              "#f0f921"
             ]
            ],
            "type": "histogram2d"
           }
          ],
          "histogram2dcontour": [
           {
            "colorbar": {
             "outlinewidth": 0,
             "ticks": ""
            },
            "colorscale": [
             [
              0,
              "#0d0887"
             ],
             [
              0.1111111111111111,
              "#46039f"
             ],
             [
              0.2222222222222222,
              "#7201a8"
             ],
             [
              0.3333333333333333,
              "#9c179e"
             ],
             [
              0.4444444444444444,
              "#bd3786"
             ],
             [
              0.5555555555555556,
              "#d8576b"
             ],
             [
              0.6666666666666666,
              "#ed7953"
             ],
             [
              0.7777777777777778,
              "#fb9f3a"
             ],
             [
              0.8888888888888888,
              "#fdca26"
             ],
             [
              1,
              "#f0f921"
             ]
            ],
            "type": "histogram2dcontour"
           }
          ],
          "mesh3d": [
           {
            "colorbar": {
             "outlinewidth": 0,
             "ticks": ""
            },
            "type": "mesh3d"
           }
          ],
          "parcoords": [
           {
            "line": {
             "colorbar": {
              "outlinewidth": 0,
              "ticks": ""
             }
            },
            "type": "parcoords"
           }
          ],
          "pie": [
           {
            "automargin": true,
            "type": "pie"
           }
          ],
          "scatter": [
           {
            "fillpattern": {
             "fillmode": "overlay",
             "size": 10,
             "solidity": 0.2
            },
            "type": "scatter"
           }
          ],
          "scatter3d": [
           {
            "line": {
             "colorbar": {
              "outlinewidth": 0,
              "ticks": ""
             }
            },
            "marker": {
             "colorbar": {
              "outlinewidth": 0,
              "ticks": ""
             }
            },
            "type": "scatter3d"
           }
          ],
          "scattercarpet": [
           {
            "marker": {
             "colorbar": {
              "outlinewidth": 0,
              "ticks": ""
             }
            },
            "type": "scattercarpet"
           }
          ],
          "scattergeo": [
           {
            "marker": {
             "colorbar": {
              "outlinewidth": 0,
              "ticks": ""
             }
            },
            "type": "scattergeo"
           }
          ],
          "scattergl": [
           {
            "marker": {
             "colorbar": {
              "outlinewidth": 0,
              "ticks": ""
             }
            },
            "type": "scattergl"
           }
          ],
          "scattermapbox": [
           {
            "marker": {
             "colorbar": {
              "outlinewidth": 0,
              "ticks": ""
             }
            },
            "type": "scattermapbox"
           }
          ],
          "scatterpolar": [
           {
            "marker": {
             "colorbar": {
              "outlinewidth": 0,
              "ticks": ""
             }
            },
            "type": "scatterpolar"
           }
          ],
          "scatterpolargl": [
           {
            "marker": {
             "colorbar": {
              "outlinewidth": 0,
              "ticks": ""
             }
            },
            "type": "scatterpolargl"
           }
          ],
          "scatterternary": [
           {
            "marker": {
             "colorbar": {
              "outlinewidth": 0,
              "ticks": ""
             }
            },
            "type": "scatterternary"
           }
          ],
          "surface": [
           {
            "colorbar": {
             "outlinewidth": 0,
             "ticks": ""
            },
            "colorscale": [
             [
              0,
              "#0d0887"
             ],
             [
              0.1111111111111111,
              "#46039f"
             ],
             [
              0.2222222222222222,
              "#7201a8"
             ],
             [
              0.3333333333333333,
              "#9c179e"
             ],
             [
              0.4444444444444444,
              "#bd3786"
             ],
             [
              0.5555555555555556,
              "#d8576b"
             ],
             [
              0.6666666666666666,
              "#ed7953"
             ],
             [
              0.7777777777777778,
              "#fb9f3a"
             ],
             [
              0.8888888888888888,
              "#fdca26"
             ],
             [
              1,
              "#f0f921"
             ]
            ],
            "type": "surface"
           }
          ],
          "table": [
           {
            "cells": {
             "fill": {
              "color": "#EBF0F8"
             },
             "line": {
              "color": "white"
             }
            },
            "header": {
             "fill": {
              "color": "#C8D4E3"
             },
             "line": {
              "color": "white"
             }
            },
            "type": "table"
           }
          ]
         },
         "layout": {
          "annotationdefaults": {
           "arrowcolor": "#2a3f5f",
           "arrowhead": 0,
           "arrowwidth": 1
          },
          "autotypenumbers": "strict",
          "coloraxis": {
           "colorbar": {
            "outlinewidth": 0,
            "ticks": ""
           }
          },
          "colorscale": {
           "diverging": [
            [
             0,
             "#8e0152"
            ],
            [
             0.1,
             "#c51b7d"
            ],
            [
             0.2,
             "#de77ae"
            ],
            [
             0.3,
             "#f1b6da"
            ],
            [
             0.4,
             "#fde0ef"
            ],
            [
             0.5,
             "#f7f7f7"
            ],
            [
             0.6,
             "#e6f5d0"
            ],
            [
             0.7,
             "#b8e186"
            ],
            [
             0.8,
             "#7fbc41"
            ],
            [
             0.9,
             "#4d9221"
            ],
            [
             1,
             "#276419"
            ]
           ],
           "sequential": [
            [
             0,
             "#0d0887"
            ],
            [
             0.1111111111111111,
             "#46039f"
            ],
            [
             0.2222222222222222,
             "#7201a8"
            ],
            [
             0.3333333333333333,
             "#9c179e"
            ],
            [
             0.4444444444444444,
             "#bd3786"
            ],
            [
             0.5555555555555556,
             "#d8576b"
            ],
            [
             0.6666666666666666,
             "#ed7953"
            ],
            [
             0.7777777777777778,
             "#fb9f3a"
            ],
            [
             0.8888888888888888,
             "#fdca26"
            ],
            [
             1,
             "#f0f921"
            ]
           ],
           "sequentialminus": [
            [
             0,
             "#0d0887"
            ],
            [
             0.1111111111111111,
             "#46039f"
            ],
            [
             0.2222222222222222,
             "#7201a8"
            ],
            [
             0.3333333333333333,
             "#9c179e"
            ],
            [
             0.4444444444444444,
             "#bd3786"
            ],
            [
             0.5555555555555556,
             "#d8576b"
            ],
            [
             0.6666666666666666,
             "#ed7953"
            ],
            [
             0.7777777777777778,
             "#fb9f3a"
            ],
            [
             0.8888888888888888,
             "#fdca26"
            ],
            [
             1,
             "#f0f921"
            ]
           ]
          },
          "colorway": [
           "#636efa",
           "#EF553B",
           "#00cc96",
           "#ab63fa",
           "#FFA15A",
           "#19d3f3",
           "#FF6692",
           "#B6E880",
           "#FF97FF",
           "#FECB52"
          ],
          "font": {
           "color": "#2a3f5f"
          },
          "geo": {
           "bgcolor": "white",
           "lakecolor": "white",
           "landcolor": "white",
           "showlakes": true,
           "showland": true,
           "subunitcolor": "#C8D4E3"
          },
          "hoverlabel": {
           "align": "left"
          },
          "hovermode": "closest",
          "mapbox": {
           "style": "light"
          },
          "paper_bgcolor": "white",
          "plot_bgcolor": "white",
          "polar": {
           "angularaxis": {
            "gridcolor": "#EBF0F8",
            "linecolor": "#EBF0F8",
            "ticks": ""
           },
           "bgcolor": "white",
           "radialaxis": {
            "gridcolor": "#EBF0F8",
            "linecolor": "#EBF0F8",
            "ticks": ""
           }
          },
          "scene": {
           "xaxis": {
            "backgroundcolor": "white",
            "gridcolor": "#DFE8F3",
            "gridwidth": 2,
            "linecolor": "#EBF0F8",
            "showbackground": true,
            "ticks": "",
            "zerolinecolor": "#EBF0F8"
           },
           "yaxis": {
            "backgroundcolor": "white",
            "gridcolor": "#DFE8F3",
            "gridwidth": 2,
            "linecolor": "#EBF0F8",
            "showbackground": true,
            "ticks": "",
            "zerolinecolor": "#EBF0F8"
           },
           "zaxis": {
            "backgroundcolor": "white",
            "gridcolor": "#DFE8F3",
            "gridwidth": 2,
            "linecolor": "#EBF0F8",
            "showbackground": true,
            "ticks": "",
            "zerolinecolor": "#EBF0F8"
           }
          },
          "shapedefaults": {
           "line": {
            "color": "#2a3f5f"
           }
          },
          "ternary": {
           "aaxis": {
            "gridcolor": "#DFE8F3",
            "linecolor": "#A2B1C6",
            "ticks": ""
           },
           "baxis": {
            "gridcolor": "#DFE8F3",
            "linecolor": "#A2B1C6",
            "ticks": ""
           },
           "bgcolor": "white",
           "caxis": {
            "gridcolor": "#DFE8F3",
            "linecolor": "#A2B1C6",
            "ticks": ""
           }
          },
          "title": {
           "x": 0.05
          },
          "xaxis": {
           "automargin": true,
           "gridcolor": "#EBF0F8",
           "linecolor": "#EBF0F8",
           "ticks": "",
           "title": {
            "standoff": 15
           },
           "zerolinecolor": "#EBF0F8",
           "zerolinewidth": 2
          },
          "yaxis": {
           "automargin": true,
           "gridcolor": "#EBF0F8",
           "linecolor": "#EBF0F8",
           "ticks": "",
           "title": {
            "standoff": 15
           },
           "zerolinecolor": "#EBF0F8",
           "zerolinewidth": 2
          }
         }
        },
        "title": {
         "text": "Average passengers by month"
        },
        "xaxis": {
         "anchor": "y",
         "domain": [
          0,
          1
         ],
         "title": {
          "text": "month"
         }
        },
        "yaxis": {
         "anchor": "x",
         "domain": [
          0,
          1
         ],
         "title": {
          "text": "passengers"
         }
        }
       }
      }
     },
     "metadata": {},
     "output_type": "display_data"
    }
   ],
   "source": [
    "# Make a df with the month and number of passengers\n",
    "passengers_month = (\n",
    "  passengers_augmented.groupby(\"month\").mean().reset_index().drop(columns=\"year\")\n",
    ")\n",
    "px.bar(passengers_month, x=\"month\", y=\"passengers\", title=\"Average passengers by month\").show()\n"
   ]
  },
  {
   "attachments": {},
   "cell_type": "markdown",
   "metadata": {},
   "source": [
    "We see that the number of passengers per month is not constant. Summer months tend to have more passengers than winter months. We expect that the model will be able to learn this behavior too.\n",
    "\n",
    "#### Number of passengers per season\n",
    "\n",
    "Let us now visualize the number of passengers per season. We encode the seasons as follows:\n",
    "- 1 : winter\n",
    "- 2 : spring\n",
    "- 3 : summer\n",
    "- 4 : fall"
   ]
  },
  {
   "cell_type": "code",
   "execution_count": 11,
   "metadata": {},
   "outputs": [
    {
     "data": {
      "application/vnd.plotly.v1+json": {
       "config": {
        "plotlyServerURL": "https://plot.ly"
       },
       "data": [
        {
         "alignmentgroup": "True",
         "hovertemplate": "season=%{x}<br>passengers=%{y}<extra></extra>",
         "legendgroup": "",
         "marker": {
          "color": "#636efa",
          "pattern": {
           "shape": ""
          }
         },
         "name": "",
         "offsetgroup": "",
         "orientation": "v",
         "showlegend": false,
         "textposition": "auto",
         "type": "bar",
         "x": [
          1,
          2,
          3,
          4
         ],
         "xaxis": "x",
         "y": [
          246.19444,
          269.69446,
          338.02777,
          267.27777
         ],
         "yaxis": "y"
        }
       ],
       "layout": {
        "barmode": "relative",
        "legend": {
         "tracegroupgap": 0
        },
        "template": {
         "data": {
          "bar": [
           {
            "error_x": {
             "color": "#2a3f5f"
            },
            "error_y": {
             "color": "#2a3f5f"
            },
            "marker": {
             "line": {
              "color": "white",
              "width": 0.5
             },
             "pattern": {
              "fillmode": "overlay",
              "size": 10,
              "solidity": 0.2
             }
            },
            "type": "bar"
           }
          ],
          "barpolar": [
           {
            "marker": {
             "line": {
              "color": "white",
              "width": 0.5
             },
             "pattern": {
              "fillmode": "overlay",
              "size": 10,
              "solidity": 0.2
             }
            },
            "type": "barpolar"
           }
          ],
          "carpet": [
           {
            "aaxis": {
             "endlinecolor": "#2a3f5f",
             "gridcolor": "#C8D4E3",
             "linecolor": "#C8D4E3",
             "minorgridcolor": "#C8D4E3",
             "startlinecolor": "#2a3f5f"
            },
            "baxis": {
             "endlinecolor": "#2a3f5f",
             "gridcolor": "#C8D4E3",
             "linecolor": "#C8D4E3",
             "minorgridcolor": "#C8D4E3",
             "startlinecolor": "#2a3f5f"
            },
            "type": "carpet"
           }
          ],
          "choropleth": [
           {
            "colorbar": {
             "outlinewidth": 0,
             "ticks": ""
            },
            "type": "choropleth"
           }
          ],
          "contour": [
           {
            "colorbar": {
             "outlinewidth": 0,
             "ticks": ""
            },
            "colorscale": [
             [
              0,
              "#0d0887"
             ],
             [
              0.1111111111111111,
              "#46039f"
             ],
             [
              0.2222222222222222,
              "#7201a8"
             ],
             [
              0.3333333333333333,
              "#9c179e"
             ],
             [
              0.4444444444444444,
              "#bd3786"
             ],
             [
              0.5555555555555556,
              "#d8576b"
             ],
             [
              0.6666666666666666,
              "#ed7953"
             ],
             [
              0.7777777777777778,
              "#fb9f3a"
             ],
             [
              0.8888888888888888,
              "#fdca26"
             ],
             [
              1,
              "#f0f921"
             ]
            ],
            "type": "contour"
           }
          ],
          "contourcarpet": [
           {
            "colorbar": {
             "outlinewidth": 0,
             "ticks": ""
            },
            "type": "contourcarpet"
           }
          ],
          "heatmap": [
           {
            "colorbar": {
             "outlinewidth": 0,
             "ticks": ""
            },
            "colorscale": [
             [
              0,
              "#0d0887"
             ],
             [
              0.1111111111111111,
              "#46039f"
             ],
             [
              0.2222222222222222,
              "#7201a8"
             ],
             [
              0.3333333333333333,
              "#9c179e"
             ],
             [
              0.4444444444444444,
              "#bd3786"
             ],
             [
              0.5555555555555556,
              "#d8576b"
             ],
             [
              0.6666666666666666,
              "#ed7953"
             ],
             [
              0.7777777777777778,
              "#fb9f3a"
             ],
             [
              0.8888888888888888,
              "#fdca26"
             ],
             [
              1,
              "#f0f921"
             ]
            ],
            "type": "heatmap"
           }
          ],
          "heatmapgl": [
           {
            "colorbar": {
             "outlinewidth": 0,
             "ticks": ""
            },
            "colorscale": [
             [
              0,
              "#0d0887"
             ],
             [
              0.1111111111111111,
              "#46039f"
             ],
             [
              0.2222222222222222,
              "#7201a8"
             ],
             [
              0.3333333333333333,
              "#9c179e"
             ],
             [
              0.4444444444444444,
              "#bd3786"
             ],
             [
              0.5555555555555556,
              "#d8576b"
             ],
             [
              0.6666666666666666,
              "#ed7953"
             ],
             [
              0.7777777777777778,
              "#fb9f3a"
             ],
             [
              0.8888888888888888,
              "#fdca26"
             ],
             [
              1,
              "#f0f921"
             ]
            ],
            "type": "heatmapgl"
           }
          ],
          "histogram": [
           {
            "marker": {
             "pattern": {
              "fillmode": "overlay",
              "size": 10,
              "solidity": 0.2
             }
            },
            "type": "histogram"
           }
          ],
          "histogram2d": [
           {
            "colorbar": {
             "outlinewidth": 0,
             "ticks": ""
            },
            "colorscale": [
             [
              0,
              "#0d0887"
             ],
             [
              0.1111111111111111,
              "#46039f"
             ],
             [
              0.2222222222222222,
              "#7201a8"
             ],
             [
              0.3333333333333333,
              "#9c179e"
             ],
             [
              0.4444444444444444,
              "#bd3786"
             ],
             [
              0.5555555555555556,
              "#d8576b"
             ],
             [
              0.6666666666666666,
              "#ed7953"
             ],
             [
              0.7777777777777778,
              "#fb9f3a"
             ],
             [
              0.8888888888888888,
              "#fdca26"
             ],
             [
              1,
              "#f0f921"
             ]
            ],
            "type": "histogram2d"
           }
          ],
          "histogram2dcontour": [
           {
            "colorbar": {
             "outlinewidth": 0,
             "ticks": ""
            },
            "colorscale": [
             [
              0,
              "#0d0887"
             ],
             [
              0.1111111111111111,
              "#46039f"
             ],
             [
              0.2222222222222222,
              "#7201a8"
             ],
             [
              0.3333333333333333,
              "#9c179e"
             ],
             [
              0.4444444444444444,
              "#bd3786"
             ],
             [
              0.5555555555555556,
              "#d8576b"
             ],
             [
              0.6666666666666666,
              "#ed7953"
             ],
             [
              0.7777777777777778,
              "#fb9f3a"
             ],
             [
              0.8888888888888888,
              "#fdca26"
             ],
             [
              1,
              "#f0f921"
             ]
            ],
            "type": "histogram2dcontour"
           }
          ],
          "mesh3d": [
           {
            "colorbar": {
             "outlinewidth": 0,
             "ticks": ""
            },
            "type": "mesh3d"
           }
          ],
          "parcoords": [
           {
            "line": {
             "colorbar": {
              "outlinewidth": 0,
              "ticks": ""
             }
            },
            "type": "parcoords"
           }
          ],
          "pie": [
           {
            "automargin": true,
            "type": "pie"
           }
          ],
          "scatter": [
           {
            "fillpattern": {
             "fillmode": "overlay",
             "size": 10,
             "solidity": 0.2
            },
            "type": "scatter"
           }
          ],
          "scatter3d": [
           {
            "line": {
             "colorbar": {
              "outlinewidth": 0,
              "ticks": ""
             }
            },
            "marker": {
             "colorbar": {
              "outlinewidth": 0,
              "ticks": ""
             }
            },
            "type": "scatter3d"
           }
          ],
          "scattercarpet": [
           {
            "marker": {
             "colorbar": {
              "outlinewidth": 0,
              "ticks": ""
             }
            },
            "type": "scattercarpet"
           }
          ],
          "scattergeo": [
           {
            "marker": {
             "colorbar": {
              "outlinewidth": 0,
              "ticks": ""
             }
            },
            "type": "scattergeo"
           }
          ],
          "scattergl": [
           {
            "marker": {
             "colorbar": {
              "outlinewidth": 0,
              "ticks": ""
             }
            },
            "type": "scattergl"
           }
          ],
          "scattermapbox": [
           {
            "marker": {
             "colorbar": {
              "outlinewidth": 0,
              "ticks": ""
             }
            },
            "type": "scattermapbox"
           }
          ],
          "scatterpolar": [
           {
            "marker": {
             "colorbar": {
              "outlinewidth": 0,
              "ticks": ""
             }
            },
            "type": "scatterpolar"
           }
          ],
          "scatterpolargl": [
           {
            "marker": {
             "colorbar": {
              "outlinewidth": 0,
              "ticks": ""
             }
            },
            "type": "scatterpolargl"
           }
          ],
          "scatterternary": [
           {
            "marker": {
             "colorbar": {
              "outlinewidth": 0,
              "ticks": ""
             }
            },
            "type": "scatterternary"
           }
          ],
          "surface": [
           {
            "colorbar": {
             "outlinewidth": 0,
             "ticks": ""
            },
            "colorscale": [
             [
              0,
              "#0d0887"
             ],
             [
              0.1111111111111111,
              "#46039f"
             ],
             [
              0.2222222222222222,
              "#7201a8"
             ],
             [
              0.3333333333333333,
              "#9c179e"
             ],
             [
              0.4444444444444444,
              "#bd3786"
             ],
             [
              0.5555555555555556,
              "#d8576b"
             ],
             [
              0.6666666666666666,
              "#ed7953"
             ],
             [
              0.7777777777777778,
              "#fb9f3a"
             ],
             [
              0.8888888888888888,
              "#fdca26"
             ],
             [
              1,
              "#f0f921"
             ]
            ],
            "type": "surface"
           }
          ],
          "table": [
           {
            "cells": {
             "fill": {
              "color": "#EBF0F8"
             },
             "line": {
              "color": "white"
             }
            },
            "header": {
             "fill": {
              "color": "#C8D4E3"
             },
             "line": {
              "color": "white"
             }
            },
            "type": "table"
           }
          ]
         },
         "layout": {
          "annotationdefaults": {
           "arrowcolor": "#2a3f5f",
           "arrowhead": 0,
           "arrowwidth": 1
          },
          "autotypenumbers": "strict",
          "coloraxis": {
           "colorbar": {
            "outlinewidth": 0,
            "ticks": ""
           }
          },
          "colorscale": {
           "diverging": [
            [
             0,
             "#8e0152"
            ],
            [
             0.1,
             "#c51b7d"
            ],
            [
             0.2,
             "#de77ae"
            ],
            [
             0.3,
             "#f1b6da"
            ],
            [
             0.4,
             "#fde0ef"
            ],
            [
             0.5,
             "#f7f7f7"
            ],
            [
             0.6,
             "#e6f5d0"
            ],
            [
             0.7,
             "#b8e186"
            ],
            [
             0.8,
             "#7fbc41"
            ],
            [
             0.9,
             "#4d9221"
            ],
            [
             1,
             "#276419"
            ]
           ],
           "sequential": [
            [
             0,
             "#0d0887"
            ],
            [
             0.1111111111111111,
             "#46039f"
            ],
            [
             0.2222222222222222,
             "#7201a8"
            ],
            [
             0.3333333333333333,
             "#9c179e"
            ],
            [
             0.4444444444444444,
             "#bd3786"
            ],
            [
             0.5555555555555556,
             "#d8576b"
            ],
            [
             0.6666666666666666,
             "#ed7953"
            ],
            [
             0.7777777777777778,
             "#fb9f3a"
            ],
            [
             0.8888888888888888,
             "#fdca26"
            ],
            [
             1,
             "#f0f921"
            ]
           ],
           "sequentialminus": [
            [
             0,
             "#0d0887"
            ],
            [
             0.1111111111111111,
             "#46039f"
            ],
            [
             0.2222222222222222,
             "#7201a8"
            ],
            [
             0.3333333333333333,
             "#9c179e"
            ],
            [
             0.4444444444444444,
             "#bd3786"
            ],
            [
             0.5555555555555556,
             "#d8576b"
            ],
            [
             0.6666666666666666,
             "#ed7953"
            ],
            [
             0.7777777777777778,
             "#fb9f3a"
            ],
            [
             0.8888888888888888,
             "#fdca26"
            ],
            [
             1,
             "#f0f921"
            ]
           ]
          },
          "colorway": [
           "#636efa",
           "#EF553B",
           "#00cc96",
           "#ab63fa",
           "#FFA15A",
           "#19d3f3",
           "#FF6692",
           "#B6E880",
           "#FF97FF",
           "#FECB52"
          ],
          "font": {
           "color": "#2a3f5f"
          },
          "geo": {
           "bgcolor": "white",
           "lakecolor": "white",
           "landcolor": "white",
           "showlakes": true,
           "showland": true,
           "subunitcolor": "#C8D4E3"
          },
          "hoverlabel": {
           "align": "left"
          },
          "hovermode": "closest",
          "mapbox": {
           "style": "light"
          },
          "paper_bgcolor": "white",
          "plot_bgcolor": "white",
          "polar": {
           "angularaxis": {
            "gridcolor": "#EBF0F8",
            "linecolor": "#EBF0F8",
            "ticks": ""
           },
           "bgcolor": "white",
           "radialaxis": {
            "gridcolor": "#EBF0F8",
            "linecolor": "#EBF0F8",
            "ticks": ""
           }
          },
          "scene": {
           "xaxis": {
            "backgroundcolor": "white",
            "gridcolor": "#DFE8F3",
            "gridwidth": 2,
            "linecolor": "#EBF0F8",
            "showbackground": true,
            "ticks": "",
            "zerolinecolor": "#EBF0F8"
           },
           "yaxis": {
            "backgroundcolor": "white",
            "gridcolor": "#DFE8F3",
            "gridwidth": 2,
            "linecolor": "#EBF0F8",
            "showbackground": true,
            "ticks": "",
            "zerolinecolor": "#EBF0F8"
           },
           "zaxis": {
            "backgroundcolor": "white",
            "gridcolor": "#DFE8F3",
            "gridwidth": 2,
            "linecolor": "#EBF0F8",
            "showbackground": true,
            "ticks": "",
            "zerolinecolor": "#EBF0F8"
           }
          },
          "shapedefaults": {
           "line": {
            "color": "#2a3f5f"
           }
          },
          "ternary": {
           "aaxis": {
            "gridcolor": "#DFE8F3",
            "linecolor": "#A2B1C6",
            "ticks": ""
           },
           "baxis": {
            "gridcolor": "#DFE8F3",
            "linecolor": "#A2B1C6",
            "ticks": ""
           },
           "bgcolor": "white",
           "caxis": {
            "gridcolor": "#DFE8F3",
            "linecolor": "#A2B1C6",
            "ticks": ""
           }
          },
          "title": {
           "x": 0.05
          },
          "xaxis": {
           "automargin": true,
           "gridcolor": "#EBF0F8",
           "linecolor": "#EBF0F8",
           "ticks": "",
           "title": {
            "standoff": 15
           },
           "zerolinecolor": "#EBF0F8",
           "zerolinewidth": 2
          },
          "yaxis": {
           "automargin": true,
           "gridcolor": "#EBF0F8",
           "linecolor": "#EBF0F8",
           "ticks": "",
           "title": {
            "standoff": 15
           },
           "zerolinecolor": "#EBF0F8",
           "zerolinewidth": 2
          }
         }
        },
        "title": {
         "text": "Average passengers by season"
        },
        "xaxis": {
         "anchor": "y",
         "domain": [
          0,
          1
         ],
         "ticktext": [
          "Winter",
          "Spring",
          "Summer",
          "Autumn"
         ],
         "tickvals": [
          1,
          2,
          3,
          4
         ],
         "title": {
          "text": "Season"
         }
        },
        "yaxis": {
         "anchor": "x",
         "domain": [
          0,
          1
         ],
         "title": {
          "text": "passengers"
         }
        }
       }
      }
     },
     "metadata": {},
     "output_type": "display_data"
    }
   ],
   "source": [
    "passengers_season = (\n",
    "  passengers_augmented.groupby(\"season\").mean().reset_index()[[\"season\", \"passengers\"]]\n",
    ")\n",
    "fig = px.bar(\n",
    "  passengers_season, x=\"season\", y=\"passengers\", title=\"Average passengers by season\"\n",
    ")\n",
    "# Add season number and name to the x-axis\n",
    "fig.update_xaxes(\n",
    "  ticktext=[\"Winter\", \"Spring\", \"Summer\", \"Autumn\"],\n",
    "  tickvals=[1, 2, 3, 4],\n",
    "  title_text=\"Season\",\n",
    ")\n",
    "\n",
    "fig.show()\n"
   ]
  },
  {
   "attachments": {},
   "cell_type": "markdown",
   "metadata": {},
   "source": [
    "We see that as mentioned before, the number of passengers is higher in summer than in winter. Although the granularity of the `month` feature is higher, this `season` feature may give the model more general information.\n",
    "\n",
    "### One-hot encoding\n",
    "\n",
    "We replace the `month` column by a one-hot encoding of the month. We don't reproduce this procedure for the `year` column as months are taken from a closed and cyclic set. Years on the other hand will take values that were not present in the training set. Furthermore, years are properly ordered so if two years are close in our dataset, they are also close in the real world. Contrarily, months 12 (December) and 1 (January) are close in the real world but far in our dataset.\n",
    "\n",
    "We also produce a one-hot encoding of the season for the same reasons. Note that this produces a column that corresponds to a `is_summer` feature, which could be useful and which we would have computed, had the one-hot encoding not produced it.\n"
   ]
  },
  {
   "cell_type": "code",
   "execution_count": 12,
   "metadata": {},
   "outputs": [
    {
     "data": {
      "text/html": [
       "<div>\n",
       "<style scoped>\n",
       "    .dataframe tbody tr th:only-of-type {\n",
       "        vertical-align: middle;\n",
       "    }\n",
       "\n",
       "    .dataframe tbody tr th {\n",
       "        vertical-align: top;\n",
       "    }\n",
       "\n",
       "    .dataframe thead th {\n",
       "        text-align: right;\n",
       "    }\n",
       "</style>\n",
       "<table border=\"1\" class=\"dataframe\">\n",
       "  <thead>\n",
       "    <tr style=\"text-align: right;\">\n",
       "      <th></th>\n",
       "      <th>passengers</th>\n",
       "      <th>year</th>\n",
       "      <th>month_2</th>\n",
       "      <th>month_3</th>\n",
       "      <th>month_4</th>\n",
       "      <th>month_5</th>\n",
       "      <th>month_6</th>\n",
       "      <th>month_7</th>\n",
       "      <th>month_8</th>\n",
       "      <th>month_9</th>\n",
       "      <th>month_10</th>\n",
       "      <th>month_11</th>\n",
       "      <th>month_12</th>\n",
       "      <th>season_2</th>\n",
       "      <th>season_3</th>\n",
       "      <th>season_4</th>\n",
       "    </tr>\n",
       "    <tr>\n",
       "      <th>date</th>\n",
       "      <th></th>\n",
       "      <th></th>\n",
       "      <th></th>\n",
       "      <th></th>\n",
       "      <th></th>\n",
       "      <th></th>\n",
       "      <th></th>\n",
       "      <th></th>\n",
       "      <th></th>\n",
       "      <th></th>\n",
       "      <th></th>\n",
       "      <th></th>\n",
       "      <th></th>\n",
       "      <th></th>\n",
       "      <th></th>\n",
       "      <th></th>\n",
       "    </tr>\n",
       "  </thead>\n",
       "  <tbody>\n",
       "    <tr>\n",
       "      <th>1949-01-01</th>\n",
       "      <td>112.0</td>\n",
       "      <td>1949</td>\n",
       "      <td>0</td>\n",
       "      <td>0</td>\n",
       "      <td>0</td>\n",
       "      <td>0</td>\n",
       "      <td>0</td>\n",
       "      <td>0</td>\n",
       "      <td>0</td>\n",
       "      <td>0</td>\n",
       "      <td>0</td>\n",
       "      <td>0</td>\n",
       "      <td>0</td>\n",
       "      <td>0</td>\n",
       "      <td>0</td>\n",
       "      <td>0</td>\n",
       "    </tr>\n",
       "    <tr>\n",
       "      <th>1949-02-01</th>\n",
       "      <td>118.0</td>\n",
       "      <td>1949</td>\n",
       "      <td>1</td>\n",
       "      <td>0</td>\n",
       "      <td>0</td>\n",
       "      <td>0</td>\n",
       "      <td>0</td>\n",
       "      <td>0</td>\n",
       "      <td>0</td>\n",
       "      <td>0</td>\n",
       "      <td>0</td>\n",
       "      <td>0</td>\n",
       "      <td>0</td>\n",
       "      <td>0</td>\n",
       "      <td>0</td>\n",
       "      <td>0</td>\n",
       "    </tr>\n",
       "    <tr>\n",
       "      <th>1949-03-01</th>\n",
       "      <td>132.0</td>\n",
       "      <td>1949</td>\n",
       "      <td>0</td>\n",
       "      <td>1</td>\n",
       "      <td>0</td>\n",
       "      <td>0</td>\n",
       "      <td>0</td>\n",
       "      <td>0</td>\n",
       "      <td>0</td>\n",
       "      <td>0</td>\n",
       "      <td>0</td>\n",
       "      <td>0</td>\n",
       "      <td>0</td>\n",
       "      <td>1</td>\n",
       "      <td>0</td>\n",
       "      <td>0</td>\n",
       "    </tr>\n",
       "    <tr>\n",
       "      <th>1949-04-01</th>\n",
       "      <td>129.0</td>\n",
       "      <td>1949</td>\n",
       "      <td>0</td>\n",
       "      <td>0</td>\n",
       "      <td>1</td>\n",
       "      <td>0</td>\n",
       "      <td>0</td>\n",
       "      <td>0</td>\n",
       "      <td>0</td>\n",
       "      <td>0</td>\n",
       "      <td>0</td>\n",
       "      <td>0</td>\n",
       "      <td>0</td>\n",
       "      <td>1</td>\n",
       "      <td>0</td>\n",
       "      <td>0</td>\n",
       "    </tr>\n",
       "    <tr>\n",
       "      <th>1949-05-01</th>\n",
       "      <td>121.0</td>\n",
       "      <td>1949</td>\n",
       "      <td>0</td>\n",
       "      <td>0</td>\n",
       "      <td>0</td>\n",
       "      <td>1</td>\n",
       "      <td>0</td>\n",
       "      <td>0</td>\n",
       "      <td>0</td>\n",
       "      <td>0</td>\n",
       "      <td>0</td>\n",
       "      <td>0</td>\n",
       "      <td>0</td>\n",
       "      <td>1</td>\n",
       "      <td>0</td>\n",
       "      <td>0</td>\n",
       "    </tr>\n",
       "  </tbody>\n",
       "</table>\n",
       "</div>"
      ],
      "text/plain": [
       "            passengers  year  month_2  month_3  month_4  month_5  month_6  \\\n",
       "date                                                                        \n",
       "1949-01-01       112.0  1949        0        0        0        0        0   \n",
       "1949-02-01       118.0  1949        1        0        0        0        0   \n",
       "1949-03-01       132.0  1949        0        1        0        0        0   \n",
       "1949-04-01       129.0  1949        0        0        1        0        0   \n",
       "1949-05-01       121.0  1949        0        0        0        1        0   \n",
       "\n",
       "            month_7  month_8  month_9  month_10  month_11  month_12  season_2  \\\n",
       "date                                                                            \n",
       "1949-01-01        0        0        0         0         0         0         0   \n",
       "1949-02-01        0        0        0         0         0         0         0   \n",
       "1949-03-01        0        0        0         0         0         0         1   \n",
       "1949-04-01        0        0        0         0         0         0         1   \n",
       "1949-05-01        0        0        0         0         0         0         1   \n",
       "\n",
       "            season_3  season_4  \n",
       "date                            \n",
       "1949-01-01         0         0  \n",
       "1949-02-01         0         0  \n",
       "1949-03-01         0         0  \n",
       "1949-04-01         0         0  \n",
       "1949-05-01         0         0  "
      ]
     },
     "execution_count": 12,
     "metadata": {},
     "output_type": "execute_result"
    }
   ],
   "source": [
    "passengers_augmented = ap.ohe(df=passengers_augmented, columns=[\"month\", \"season\"])\n",
    "passengers_augmented.head()\n"
   ]
  },
  {
   "cell_type": "markdown",
   "metadata": {},
   "source": [
    "\n",
    "#### Correlation between features\n",
    "\n",
    "Let us now visualize the correlation between the features (dark colors mean high correlation)."
   ]
  },
  {
   "cell_type": "code",
   "execution_count": 13,
   "metadata": {},
   "outputs": [
    {
     "data": {
      "application/vnd.plotly.v1+json": {
       "config": {
        "plotlyServerURL": "https://plot.ly"
       },
       "data": [
        {
         "coloraxis": "coloraxis",
         "hovertemplate": "x: %{x}<br>y: %{y}<br>color: %{z}<extra></extra>",
         "name": "0",
         "type": "heatmap",
         "xaxis": "x",
         "yaxis": "y",
         "z": [
          [
           1,
           0.9218,
           -0.1142,
           -0.0256,
           -0.0333,
           -0.0214,
           0.0791,
           0.1792,
           0.1785,
           0.0558,
           -0.0346,
           -0.1197,
           -0.0466,
           -0.0512,
           0.2788,
           -0.0629
          ],
          [
           0.9218,
           1,
           0,
           0,
           0,
           0,
           0,
           0,
           0,
           0,
           0,
           0,
           0,
           0,
           0,
           0
          ],
          [
           -0.1142,
           0,
           1,
           -0.0909,
           -0.0909,
           -0.0909,
           -0.0909,
           -0.0909,
           -0.0909,
           -0.0909,
           -0.0909,
           -0.0909,
           -0.0909,
           -0.1741,
           -0.1741,
           -0.1741
          ],
          [
           -0.0256,
           0,
           -0.0909,
           1,
           -0.0909,
           -0.0909,
           -0.0909,
           -0.0909,
           -0.0909,
           -0.0909,
           -0.0909,
           -0.0909,
           -0.0909,
           0.5222,
           -0.1741,
           -0.1741
          ],
          [
           -0.0333,
           0,
           -0.0909,
           -0.0909,
           1,
           -0.0909,
           -0.0909,
           -0.0909,
           -0.0909,
           -0.0909,
           -0.0909,
           -0.0909,
           -0.0909,
           0.5222,
           -0.1741,
           -0.1741
          ],
          [
           -0.0214,
           0,
           -0.0909,
           -0.0909,
           -0.0909,
           1,
           -0.0909,
           -0.0909,
           -0.0909,
           -0.0909,
           -0.0909,
           -0.0909,
           -0.0909,
           0.5222,
           -0.1741,
           -0.1741
          ],
          [
           0.0791,
           0,
           -0.0909,
           -0.0909,
           -0.0909,
           -0.0909,
           1,
           -0.0909,
           -0.0909,
           -0.0909,
           -0.0909,
           -0.0909,
           -0.0909,
           -0.1741,
           0.5222,
           -0.1741
          ],
          [
           0.1792,
           0,
           -0.0909,
           -0.0909,
           -0.0909,
           -0.0909,
           -0.0909,
           1,
           -0.0909,
           -0.0909,
           -0.0909,
           -0.0909,
           -0.0909,
           -0.1741,
           0.5222,
           -0.1741
          ],
          [
           0.1785,
           0,
           -0.0909,
           -0.0909,
           -0.0909,
           -0.0909,
           -0.0909,
           -0.0909,
           1,
           -0.0909,
           -0.0909,
           -0.0909,
           -0.0909,
           -0.1741,
           0.5222,
           -0.1741
          ],
          [
           0.0558,
           0,
           -0.0909,
           -0.0909,
           -0.0909,
           -0.0909,
           -0.0909,
           -0.0909,
           -0.0909,
           1,
           -0.0909,
           -0.0909,
           -0.0909,
           -0.1741,
           -0.1741,
           0.5222
          ],
          [
           -0.0346,
           0,
           -0.0909,
           -0.0909,
           -0.0909,
           -0.0909,
           -0.0909,
           -0.0909,
           -0.0909,
           -0.0909,
           1,
           -0.0909,
           -0.0909,
           -0.1741,
           -0.1741,
           0.5222
          ],
          [
           -0.1197,
           0,
           -0.0909,
           -0.0909,
           -0.0909,
           -0.0909,
           -0.0909,
           -0.0909,
           -0.0909,
           -0.0909,
           -0.0909,
           1,
           -0.0909,
           -0.1741,
           -0.1741,
           0.5222
          ],
          [
           -0.0466,
           0,
           -0.0909,
           -0.0909,
           -0.0909,
           -0.0909,
           -0.0909,
           -0.0909,
           -0.0909,
           -0.0909,
           -0.0909,
           -0.0909,
           1,
           -0.1741,
           -0.1741,
           -0.1741
          ],
          [
           -0.0512,
           0,
           -0.1741,
           0.5222,
           0.5222,
           0.5222,
           -0.1741,
           -0.1741,
           -0.1741,
           -0.1741,
           -0.1741,
           -0.1741,
           -0.1741,
           1,
           -0.3333,
           -0.3333
          ],
          [
           0.2788,
           0,
           -0.1741,
           -0.1741,
           -0.1741,
           -0.1741,
           0.5222,
           0.5222,
           0.5222,
           -0.1741,
           -0.1741,
           -0.1741,
           -0.1741,
           -0.3333,
           1,
           -0.3333
          ],
          [
           -0.0629,
           0,
           -0.1741,
           -0.1741,
           -0.1741,
           -0.1741,
           -0.1741,
           -0.1741,
           -0.1741,
           0.5222,
           0.5222,
           0.5222,
           -0.1741,
           -0.3333,
           -0.3333,
           1
          ]
         ]
        }
       ],
       "layout": {
        "coloraxis": {
         "cmid": 0,
         "colorscale": [
          [
           0,
           "rgb(247,251,255)"
          ],
          [
           0.125,
           "rgb(222,235,247)"
          ],
          [
           0.25,
           "rgb(198,219,239)"
          ],
          [
           0.375,
           "rgb(158,202,225)"
          ],
          [
           0.5,
           "rgb(107,174,214)"
          ],
          [
           0.625,
           "rgb(66,146,198)"
          ],
          [
           0.75,
           "rgb(33,113,181)"
          ],
          [
           0.875,
           "rgb(8,81,156)"
          ],
          [
           1,
           "rgb(8,48,107)"
          ]
         ]
        },
        "template": {
         "data": {
          "bar": [
           {
            "error_x": {
             "color": "#2a3f5f"
            },
            "error_y": {
             "color": "#2a3f5f"
            },
            "marker": {
             "line": {
              "color": "white",
              "width": 0.5
             },
             "pattern": {
              "fillmode": "overlay",
              "size": 10,
              "solidity": 0.2
             }
            },
            "type": "bar"
           }
          ],
          "barpolar": [
           {
            "marker": {
             "line": {
              "color": "white",
              "width": 0.5
             },
             "pattern": {
              "fillmode": "overlay",
              "size": 10,
              "solidity": 0.2
             }
            },
            "type": "barpolar"
           }
          ],
          "carpet": [
           {
            "aaxis": {
             "endlinecolor": "#2a3f5f",
             "gridcolor": "#C8D4E3",
             "linecolor": "#C8D4E3",
             "minorgridcolor": "#C8D4E3",
             "startlinecolor": "#2a3f5f"
            },
            "baxis": {
             "endlinecolor": "#2a3f5f",
             "gridcolor": "#C8D4E3",
             "linecolor": "#C8D4E3",
             "minorgridcolor": "#C8D4E3",
             "startlinecolor": "#2a3f5f"
            },
            "type": "carpet"
           }
          ],
          "choropleth": [
           {
            "colorbar": {
             "outlinewidth": 0,
             "ticks": ""
            },
            "type": "choropleth"
           }
          ],
          "contour": [
           {
            "colorbar": {
             "outlinewidth": 0,
             "ticks": ""
            },
            "colorscale": [
             [
              0,
              "#0d0887"
             ],
             [
              0.1111111111111111,
              "#46039f"
             ],
             [
              0.2222222222222222,
              "#7201a8"
             ],
             [
              0.3333333333333333,
              "#9c179e"
             ],
             [
              0.4444444444444444,
              "#bd3786"
             ],
             [
              0.5555555555555556,
              "#d8576b"
             ],
             [
              0.6666666666666666,
              "#ed7953"
             ],
             [
              0.7777777777777778,
              "#fb9f3a"
             ],
             [
              0.8888888888888888,
              "#fdca26"
             ],
             [
              1,
              "#f0f921"
             ]
            ],
            "type": "contour"
           }
          ],
          "contourcarpet": [
           {
            "colorbar": {
             "outlinewidth": 0,
             "ticks": ""
            },
            "type": "contourcarpet"
           }
          ],
          "heatmap": [
           {
            "colorbar": {
             "outlinewidth": 0,
             "ticks": ""
            },
            "colorscale": [
             [
              0,
              "#0d0887"
             ],
             [
              0.1111111111111111,
              "#46039f"
             ],
             [
              0.2222222222222222,
              "#7201a8"
             ],
             [
              0.3333333333333333,
              "#9c179e"
             ],
             [
              0.4444444444444444,
              "#bd3786"
             ],
             [
              0.5555555555555556,
              "#d8576b"
             ],
             [
              0.6666666666666666,
              "#ed7953"
             ],
             [
              0.7777777777777778,
              "#fb9f3a"
             ],
             [
              0.8888888888888888,
              "#fdca26"
             ],
             [
              1,
              "#f0f921"
             ]
            ],
            "type": "heatmap"
           }
          ],
          "heatmapgl": [
           {
            "colorbar": {
             "outlinewidth": 0,
             "ticks": ""
            },
            "colorscale": [
             [
              0,
              "#0d0887"
             ],
             [
              0.1111111111111111,
              "#46039f"
             ],
             [
              0.2222222222222222,
              "#7201a8"
             ],
             [
              0.3333333333333333,
              "#9c179e"
             ],
             [
              0.4444444444444444,
              "#bd3786"
             ],
             [
              0.5555555555555556,
              "#d8576b"
             ],
             [
              0.6666666666666666,
              "#ed7953"
             ],
             [
              0.7777777777777778,
              "#fb9f3a"
             ],
             [
              0.8888888888888888,
              "#fdca26"
             ],
             [
              1,
              "#f0f921"
             ]
            ],
            "type": "heatmapgl"
           }
          ],
          "histogram": [
           {
            "marker": {
             "pattern": {
              "fillmode": "overlay",
              "size": 10,
              "solidity": 0.2
             }
            },
            "type": "histogram"
           }
          ],
          "histogram2d": [
           {
            "colorbar": {
             "outlinewidth": 0,
             "ticks": ""
            },
            "colorscale": [
             [
              0,
              "#0d0887"
             ],
             [
              0.1111111111111111,
              "#46039f"
             ],
             [
              0.2222222222222222,
              "#7201a8"
             ],
             [
              0.3333333333333333,
              "#9c179e"
             ],
             [
              0.4444444444444444,
              "#bd3786"
             ],
             [
              0.5555555555555556,
              "#d8576b"
             ],
             [
              0.6666666666666666,
              "#ed7953"
             ],
             [
              0.7777777777777778,
              "#fb9f3a"
             ],
             [
              0.8888888888888888,
              "#fdca26"
             ],
             [
              1,
              "#f0f921"
             ]
            ],
            "type": "histogram2d"
           }
          ],
          "histogram2dcontour": [
           {
            "colorbar": {
             "outlinewidth": 0,
             "ticks": ""
            },
            "colorscale": [
             [
              0,
              "#0d0887"
             ],
             [
              0.1111111111111111,
              "#46039f"
             ],
             [
              0.2222222222222222,
              "#7201a8"
             ],
             [
              0.3333333333333333,
              "#9c179e"
             ],
             [
              0.4444444444444444,
              "#bd3786"
             ],
             [
              0.5555555555555556,
              "#d8576b"
             ],
             [
              0.6666666666666666,
              "#ed7953"
             ],
             [
              0.7777777777777778,
              "#fb9f3a"
             ],
             [
              0.8888888888888888,
              "#fdca26"
             ],
             [
              1,
              "#f0f921"
             ]
            ],
            "type": "histogram2dcontour"
           }
          ],
          "mesh3d": [
           {
            "colorbar": {
             "outlinewidth": 0,
             "ticks": ""
            },
            "type": "mesh3d"
           }
          ],
          "parcoords": [
           {
            "line": {
             "colorbar": {
              "outlinewidth": 0,
              "ticks": ""
             }
            },
            "type": "parcoords"
           }
          ],
          "pie": [
           {
            "automargin": true,
            "type": "pie"
           }
          ],
          "scatter": [
           {
            "fillpattern": {
             "fillmode": "overlay",
             "size": 10,
             "solidity": 0.2
            },
            "type": "scatter"
           }
          ],
          "scatter3d": [
           {
            "line": {
             "colorbar": {
              "outlinewidth": 0,
              "ticks": ""
             }
            },
            "marker": {
             "colorbar": {
              "outlinewidth": 0,
              "ticks": ""
             }
            },
            "type": "scatter3d"
           }
          ],
          "scattercarpet": [
           {
            "marker": {
             "colorbar": {
              "outlinewidth": 0,
              "ticks": ""
             }
            },
            "type": "scattercarpet"
           }
          ],
          "scattergeo": [
           {
            "marker": {
             "colorbar": {
              "outlinewidth": 0,
              "ticks": ""
             }
            },
            "type": "scattergeo"
           }
          ],
          "scattergl": [
           {
            "marker": {
             "colorbar": {
              "outlinewidth": 0,
              "ticks": ""
             }
            },
            "type": "scattergl"
           }
          ],
          "scattermapbox": [
           {
            "marker": {
             "colorbar": {
              "outlinewidth": 0,
              "ticks": ""
             }
            },
            "type": "scattermapbox"
           }
          ],
          "scatterpolar": [
           {
            "marker": {
             "colorbar": {
              "outlinewidth": 0,
              "ticks": ""
             }
            },
            "type": "scatterpolar"
           }
          ],
          "scatterpolargl": [
           {
            "marker": {
             "colorbar": {
              "outlinewidth": 0,
              "ticks": ""
             }
            },
            "type": "scatterpolargl"
           }
          ],
          "scatterternary": [
           {
            "marker": {
             "colorbar": {
              "outlinewidth": 0,
              "ticks": ""
             }
            },
            "type": "scatterternary"
           }
          ],
          "surface": [
           {
            "colorbar": {
             "outlinewidth": 0,
             "ticks": ""
            },
            "colorscale": [
             [
              0,
              "#0d0887"
             ],
             [
              0.1111111111111111,
              "#46039f"
             ],
             [
              0.2222222222222222,
              "#7201a8"
             ],
             [
              0.3333333333333333,
              "#9c179e"
             ],
             [
              0.4444444444444444,
              "#bd3786"
             ],
             [
              0.5555555555555556,
              "#d8576b"
             ],
             [
              0.6666666666666666,
              "#ed7953"
             ],
             [
              0.7777777777777778,
              "#fb9f3a"
             ],
             [
              0.8888888888888888,
              "#fdca26"
             ],
             [
              1,
              "#f0f921"
             ]
            ],
            "type": "surface"
           }
          ],
          "table": [
           {
            "cells": {
             "fill": {
              "color": "#EBF0F8"
             },
             "line": {
              "color": "white"
             }
            },
            "header": {
             "fill": {
              "color": "#C8D4E3"
             },
             "line": {
              "color": "white"
             }
            },
            "type": "table"
           }
          ]
         },
         "layout": {
          "annotationdefaults": {
           "arrowcolor": "#2a3f5f",
           "arrowhead": 0,
           "arrowwidth": 1
          },
          "autotypenumbers": "strict",
          "coloraxis": {
           "colorbar": {
            "outlinewidth": 0,
            "ticks": ""
           }
          },
          "colorscale": {
           "diverging": [
            [
             0,
             "#8e0152"
            ],
            [
             0.1,
             "#c51b7d"
            ],
            [
             0.2,
             "#de77ae"
            ],
            [
             0.3,
             "#f1b6da"
            ],
            [
             0.4,
             "#fde0ef"
            ],
            [
             0.5,
             "#f7f7f7"
            ],
            [
             0.6,
             "#e6f5d0"
            ],
            [
             0.7,
             "#b8e186"
            ],
            [
             0.8,
             "#7fbc41"
            ],
            [
             0.9,
             "#4d9221"
            ],
            [
             1,
             "#276419"
            ]
           ],
           "sequential": [
            [
             0,
             "#0d0887"
            ],
            [
             0.1111111111111111,
             "#46039f"
            ],
            [
             0.2222222222222222,
             "#7201a8"
            ],
            [
             0.3333333333333333,
             "#9c179e"
            ],
            [
             0.4444444444444444,
             "#bd3786"
            ],
            [
             0.5555555555555556,
             "#d8576b"
            ],
            [
             0.6666666666666666,
             "#ed7953"
            ],
            [
             0.7777777777777778,
             "#fb9f3a"
            ],
            [
             0.8888888888888888,
             "#fdca26"
            ],
            [
             1,
             "#f0f921"
            ]
           ],
           "sequentialminus": [
            [
             0,
             "#0d0887"
            ],
            [
             0.1111111111111111,
             "#46039f"
            ],
            [
             0.2222222222222222,
             "#7201a8"
            ],
            [
             0.3333333333333333,
             "#9c179e"
            ],
            [
             0.4444444444444444,
             "#bd3786"
            ],
            [
             0.5555555555555556,
             "#d8576b"
            ],
            [
             0.6666666666666666,
             "#ed7953"
            ],
            [
             0.7777777777777778,
             "#fb9f3a"
            ],
            [
             0.8888888888888888,
             "#fdca26"
            ],
            [
             1,
             "#f0f921"
            ]
           ]
          },
          "colorway": [
           "#636efa",
           "#EF553B",
           "#00cc96",
           "#ab63fa",
           "#FFA15A",
           "#19d3f3",
           "#FF6692",
           "#B6E880",
           "#FF97FF",
           "#FECB52"
          ],
          "font": {
           "color": "#2a3f5f"
          },
          "geo": {
           "bgcolor": "white",
           "lakecolor": "white",
           "landcolor": "white",
           "showlakes": true,
           "showland": true,
           "subunitcolor": "#C8D4E3"
          },
          "hoverlabel": {
           "align": "left"
          },
          "hovermode": "closest",
          "mapbox": {
           "style": "light"
          },
          "paper_bgcolor": "white",
          "plot_bgcolor": "white",
          "polar": {
           "angularaxis": {
            "gridcolor": "#EBF0F8",
            "linecolor": "#EBF0F8",
            "ticks": ""
           },
           "bgcolor": "white",
           "radialaxis": {
            "gridcolor": "#EBF0F8",
            "linecolor": "#EBF0F8",
            "ticks": ""
           }
          },
          "scene": {
           "xaxis": {
            "backgroundcolor": "white",
            "gridcolor": "#DFE8F3",
            "gridwidth": 2,
            "linecolor": "#EBF0F8",
            "showbackground": true,
            "ticks": "",
            "zerolinecolor": "#EBF0F8"
           },
           "yaxis": {
            "backgroundcolor": "white",
            "gridcolor": "#DFE8F3",
            "gridwidth": 2,
            "linecolor": "#EBF0F8",
            "showbackground": true,
            "ticks": "",
            "zerolinecolor": "#EBF0F8"
           },
           "zaxis": {
            "backgroundcolor": "white",
            "gridcolor": "#DFE8F3",
            "gridwidth": 2,
            "linecolor": "#EBF0F8",
            "showbackground": true,
            "ticks": "",
            "zerolinecolor": "#EBF0F8"
           }
          },
          "shapedefaults": {
           "line": {
            "color": "#2a3f5f"
           }
          },
          "ternary": {
           "aaxis": {
            "gridcolor": "#DFE8F3",
            "linecolor": "#A2B1C6",
            "ticks": ""
           },
           "baxis": {
            "gridcolor": "#DFE8F3",
            "linecolor": "#A2B1C6",
            "ticks": ""
           },
           "bgcolor": "white",
           "caxis": {
            "gridcolor": "#DFE8F3",
            "linecolor": "#A2B1C6",
            "ticks": ""
           }
          },
          "title": {
           "x": 0.05
          },
          "xaxis": {
           "automargin": true,
           "gridcolor": "#EBF0F8",
           "linecolor": "#EBF0F8",
           "ticks": "",
           "title": {
            "standoff": 15
           },
           "zerolinecolor": "#EBF0F8",
           "zerolinewidth": 2
          },
          "yaxis": {
           "automargin": true,
           "gridcolor": "#EBF0F8",
           "linecolor": "#EBF0F8",
           "ticks": "",
           "title": {
            "standoff": 15
           },
           "zerolinecolor": "#EBF0F8",
           "zerolinewidth": 2
          }
         }
        },
        "title": {
         "text": "Correlation between features"
        },
        "xaxis": {
         "anchor": "y",
         "constrain": "domain",
         "domain": [
          0,
          1
         ],
         "scaleanchor": "y",
         "ticktext": [
          "passengers",
          "year",
          "month_2",
          "month_3",
          "month_4",
          "month_5",
          "month_6",
          "month_7",
          "month_8",
          "month_9",
          "month_10",
          "month_11",
          "month_12",
          "season_2",
          "season_3",
          "season_4"
         ],
         "tickvals": [
          0,
          1,
          2,
          3,
          4,
          5,
          6,
          7,
          8,
          9,
          10,
          11,
          12,
          13,
          14,
          15
         ],
         "title": {
          "text": "Features"
         }
        },
        "yaxis": {
         "anchor": "x",
         "autorange": "reversed",
         "constrain": "domain",
         "domain": [
          0,
          1
         ],
         "ticktext": [
          "passengers",
          "year",
          "month_2",
          "month_3",
          "month_4",
          "month_5",
          "month_6",
          "month_7",
          "month_8",
          "month_9",
          "month_10",
          "month_11",
          "month_12",
          "season_2",
          "season_3",
          "season_4"
         ],
         "tickvals": [
          0,
          1,
          2,
          3,
          4,
          5,
          6,
          7,
          8,
          9,
          10,
          11,
          12,
          13,
          14,
          15
         ],
         "title": {
          "text": "Features"
         }
        }
       }
      }
     },
     "metadata": {},
     "output_type": "display_data"
    }
   ],
   "source": [
    "# Plot the correlation between the new features and the target\n",
    "corr = passengers_augmented.corr().round(4)\n",
    "# Use blue red color scale\n",
    "fig = px.imshow(\n",
    "  corr.values,\n",
    "  color_continuous_scale=\"blues\",\n",
    "  color_continuous_midpoint=0,\n",
    "  title=\"Correlation between features\",\n",
    ")\n",
    "\n",
    "fig.update_xaxes(\n",
    "  title=\"Features\", ticktext=corr.columns, tickvals=np.arange(len(corr.columns))\n",
    ")\n",
    "fig.update_yaxes(\n",
    "  title=\"Features\", ticktext=corr.columns, tickvals=np.arange(len(corr.columns))\n",
    ")\n",
    "fig.show()"
   ]
  },
  {
   "attachments": {},
   "cell_type": "markdown",
   "metadata": {},
   "source": [
    "We see that the target (`passengers`) is highly correlated with the `year` feature. This is expected as the number of passengers tends to increase over time. We also see that the target is highly correlated with the `season_3` feature. This is also expected as this feature represents the summer season, which is the season with the most passengers. Finally, we see that the target is correlated with the `month_7` and `month_8` features. This is also expected as these features represent the months of July and August, which are the months with the most passengers.\n"
   ]
  },
  {
   "attachments": {},
   "cell_type": "markdown",
   "metadata": {},
   "source": [
    "### Split the dataset into train, validation and test\n",
    "\n",
    "We split the dataset into train, validation and test sets"
   ]
  },
  {
   "cell_type": "code",
   "execution_count": 14,
   "metadata": {},
   "outputs": [
    {
     "name": "stdout",
     "output_type": "stream",
     "text": [
      "len(train) = 81, len(val) = 15, len(test) = 48\n"
     ]
    }
   ],
   "source": [
    "val_size = 0.1  # proportion of the training set is used for validation\n",
    "test_size = 1 / 3  # proportion of the data is used for testing\n",
    "\n",
    "# Split the data\n",
    "train, val, test = ap.ttv_split(df=passengers_augmented, val_size=val_size, test_size=test_size)\n",
    "\n",
    "# Scale the data\n",
    "train, val, test = ap.scale_wrt(train, val, test, wrt=train, feature_range=(0, 1))\n",
    "print(f\"{len(train) = }, {len(val) = }, {len(test) = }\")\n"
   ]
  },
  {
   "attachments": {},
   "cell_type": "markdown",
   "metadata": {},
   "source": [
    "We now make predictions using all features computed above."
   ]
  },
  {
   "cell_type": "code",
   "execution_count": 15,
   "metadata": {},
   "outputs": [
    {
     "name": "stdout",
     "output_type": "stream",
     "text": [
      "Epoch 0: train loss 0.3208, val loss 1.0299\n",
      "Epoch 10: train loss 0.1645, val loss 0.6934\n",
      "Epoch 20: train loss 0.0417, val loss 0.2518\n",
      "Epoch 30: train loss 0.0391, val loss 0.2055\n",
      "Epoch 40: train loss 0.0351, val loss 0.1872\n",
      "Epoch 50: train loss 0.0300, val loss 0.1681\n",
      "Epoch 60: train loss 0.0266, val loss 0.1488\n",
      "Epoch 70: train loss 0.0221, val loss 0.1264\n",
      "Epoch 80: train loss 0.0191, val loss 0.1097\n",
      "Epoch 90: train loss 0.0159, val loss 0.0872\n",
      "Epoch 100: train loss 0.0126, val loss 0.0708\n",
      "Epoch 110: train loss 0.0105, val loss 0.0536\n",
      "EarlyStopping counter: 1 / 120\n",
      "Epoch 120: train loss 0.0086, val loss 0.0402\n",
      "EarlyStopping counter: 1 / 120\n",
      "Epoch 130: train loss 0.0060, val loss 0.0271\n",
      "EarlyStopping counter: 2 / 120\n",
      "Epoch 140: train loss 0.0049, val loss 0.0157\n",
      "EarlyStopping counter: 1 / 120\n",
      "EarlyStopping counter: 2 / 120\n",
      "EarlyStopping counter: 1 / 120\n",
      "Epoch 150: train loss 0.0029, val loss 0.0083\n",
      "EarlyStopping counter: 2 / 120\n",
      "EarlyStopping counter: 1 / 120\n",
      "EarlyStopping counter: 2 / 120\n",
      "Epoch 160: train loss 0.0031, val loss 0.0042\n",
      "EarlyStopping counter: 1 / 120\n",
      "EarlyStopping counter: 2 / 120\n",
      "EarlyStopping counter: 3 / 120\n",
      "EarlyStopping counter: 1 / 120\n",
      "EarlyStopping counter: 2 / 120\n",
      "EarlyStopping counter: 3 / 120\n",
      "Epoch 170: train loss 0.0017, val loss 0.0021\n",
      "EarlyStopping counter: 1 / 120\n",
      "EarlyStopping counter: 2 / 120\n",
      "EarlyStopping counter: 3 / 120\n",
      "EarlyStopping counter: 4 / 120\n",
      "EarlyStopping counter: 5 / 120\n",
      "EarlyStopping counter: 6 / 120\n",
      "EarlyStopping counter: 7 / 120\n",
      "Epoch 180: train loss 0.0022, val loss 0.0018\n",
      "EarlyStopping counter: 1 / 120\n",
      "EarlyStopping counter: 2 / 120\n",
      "EarlyStopping counter: 3 / 120\n",
      "EarlyStopping counter: 4 / 120\n",
      "EarlyStopping counter: 5 / 120\n",
      "EarlyStopping counter: 1 / 120\n",
      "Epoch 190: train loss 0.0016, val loss 0.0013\n",
      "EarlyStopping counter: 2 / 120\n",
      "EarlyStopping counter: 3 / 120\n",
      "EarlyStopping counter: 4 / 120\n",
      "EarlyStopping counter: 5 / 120\n",
      "EarlyStopping counter: 6 / 120\n",
      "EarlyStopping counter: 7 / 120\n",
      "EarlyStopping counter: 8 / 120\n",
      "EarlyStopping counter: 9 / 120\n",
      "EarlyStopping counter: 10 / 120\n",
      "EarlyStopping counter: 11 / 120\n",
      "Epoch 200: train loss 0.0017, val loss 0.0013\n",
      "EarlyStopping counter: 12 / 120\n",
      "EarlyStopping counter: 13 / 120\n",
      "EarlyStopping counter: 14 / 120\n",
      "EarlyStopping counter: 15 / 120\n",
      "EarlyStopping counter: 16 / 120\n",
      "EarlyStopping counter: 1 / 120\n",
      "EarlyStopping counter: 2 / 120\n",
      "EarlyStopping counter: 3 / 120\n",
      "EarlyStopping counter: 4 / 120\n",
      "Epoch 210: train loss 0.0019, val loss 0.0013\n",
      "EarlyStopping counter: 5 / 120\n",
      "EarlyStopping counter: 6 / 120\n",
      "EarlyStopping counter: 7 / 120\n",
      "EarlyStopping counter: 8 / 120\n",
      "EarlyStopping counter: 9 / 120\n",
      "EarlyStopping counter: 10 / 120\n",
      "EarlyStopping counter: 11 / 120\n",
      "EarlyStopping counter: 12 / 120\n",
      "EarlyStopping counter: 13 / 120\n",
      "EarlyStopping counter: 14 / 120\n",
      "Epoch 220: train loss 0.0021, val loss 0.0015\n",
      "EarlyStopping counter: 15 / 120\n",
      "EarlyStopping counter: 16 / 120\n",
      "EarlyStopping counter: 17 / 120\n",
      "EarlyStopping counter: 18 / 120\n",
      "EarlyStopping counter: 19 / 120\n",
      "EarlyStopping counter: 20 / 120\n",
      "EarlyStopping counter: 21 / 120\n",
      "EarlyStopping counter: 22 / 120\n",
      "EarlyStopping counter: 23 / 120\n",
      "EarlyStopping counter: 24 / 120\n",
      "Epoch 230: train loss 0.0012, val loss 0.0012\n",
      "EarlyStopping counter: 25 / 120\n",
      "EarlyStopping counter: 26 / 120\n",
      "EarlyStopping counter: 27 / 120\n",
      "EarlyStopping counter: 1 / 120\n",
      "EarlyStopping counter: 2 / 120\n",
      "EarlyStopping counter: 3 / 120\n",
      "EarlyStopping counter: 4 / 120\n",
      "EarlyStopping counter: 5 / 120\n",
      "Epoch 240: train loss 0.0021, val loss 0.0012\n",
      "EarlyStopping counter: 6 / 120\n",
      "EarlyStopping counter: 7 / 120\n",
      "EarlyStopping counter: 8 / 120\n",
      "EarlyStopping counter: 9 / 120\n",
      "EarlyStopping counter: 10 / 120\n",
      "EarlyStopping counter: 11 / 120\n",
      "EarlyStopping counter: 12 / 120\n",
      "EarlyStopping counter: 13 / 120\n",
      "EarlyStopping counter: 14 / 120\n",
      "EarlyStopping counter: 15 / 120\n",
      "Epoch 250: train loss 0.0016, val loss 0.0017\n",
      "EarlyStopping counter: 16 / 120\n",
      "EarlyStopping counter: 17 / 120\n",
      "EarlyStopping counter: 18 / 120\n",
      "EarlyStopping counter: 19 / 120\n",
      "EarlyStopping counter: 20 / 120\n",
      "EarlyStopping counter: 21 / 120\n",
      "EarlyStopping counter: 22 / 120\n",
      "EarlyStopping counter: 23 / 120\n",
      "EarlyStopping counter: 24 / 120\n",
      "EarlyStopping counter: 25 / 120\n",
      "Epoch 260: train loss 0.0023, val loss 0.0013\n",
      "EarlyStopping counter: 26 / 120\n",
      "EarlyStopping counter: 27 / 120\n",
      "EarlyStopping counter: 28 / 120\n",
      "EarlyStopping counter: 29 / 120\n",
      "EarlyStopping counter: 30 / 120\n",
      "EarlyStopping counter: 31 / 120\n",
      "EarlyStopping counter: 32 / 120\n",
      "EarlyStopping counter: 33 / 120\n",
      "EarlyStopping counter: 34 / 120\n",
      "EarlyStopping counter: 35 / 120\n",
      "Epoch 270: train loss 0.0019, val loss 0.0012\n",
      "EarlyStopping counter: 36 / 120\n",
      "EarlyStopping counter: 37 / 120\n",
      "EarlyStopping counter: 38 / 120\n",
      "EarlyStopping counter: 39 / 120\n",
      "EarlyStopping counter: 40 / 120\n",
      "EarlyStopping counter: 41 / 120\n",
      "EarlyStopping counter: 42 / 120\n",
      "EarlyStopping counter: 43 / 120\n",
      "EarlyStopping counter: 44 / 120\n",
      "EarlyStopping counter: 45 / 120\n",
      "Epoch 280: train loss 0.0020, val loss 0.0012\n",
      "EarlyStopping counter: 46 / 120\n",
      "EarlyStopping counter: 47 / 120\n",
      "EarlyStopping counter: 48 / 120\n",
      "EarlyStopping counter: 49 / 120\n",
      "EarlyStopping counter: 50 / 120\n",
      "EarlyStopping counter: 51 / 120\n",
      "EarlyStopping counter: 52 / 120\n",
      "EarlyStopping counter: 53 / 120\n",
      "EarlyStopping counter: 54 / 120\n",
      "EarlyStopping counter: 55 / 120\n",
      "Epoch 290: train loss 0.0019, val loss 0.0013\n",
      "EarlyStopping counter: 56 / 120\n",
      "EarlyStopping counter: 57 / 120\n",
      "EarlyStopping counter: 58 / 120\n",
      "EarlyStopping counter: 59 / 120\n",
      "EarlyStopping counter: 60 / 120\n",
      "EarlyStopping counter: 61 / 120\n",
      "EarlyStopping counter: 62 / 120\n",
      "EarlyStopping counter: 63 / 120\n",
      "EarlyStopping counter: 64 / 120\n",
      "EarlyStopping counter: 65 / 120\n",
      "Epoch 300: train loss 0.0015, val loss 0.0012\n",
      "EarlyStopping counter: 66 / 120\n",
      "EarlyStopping counter: 67 / 120\n",
      "EarlyStopping counter: 68 / 120\n",
      "EarlyStopping counter: 69 / 120\n",
      "EarlyStopping counter: 70 / 120\n",
      "EarlyStopping counter: 71 / 120\n",
      "EarlyStopping counter: 72 / 120\n",
      "EarlyStopping counter: 1 / 120\n",
      "Epoch 310: train loss 0.0025, val loss 0.0015\n",
      "EarlyStopping counter: 1 / 120\n",
      "EarlyStopping counter: 2 / 120\n",
      "EarlyStopping counter: 3 / 120\n",
      "EarlyStopping counter: 1 / 120\n",
      "EarlyStopping counter: 2 / 120\n",
      "EarlyStopping counter: 3 / 120\n",
      "EarlyStopping counter: 4 / 120\n",
      "EarlyStopping counter: 5 / 120\n",
      "Epoch 320: train loss 0.0018, val loss 0.0013\n",
      "EarlyStopping counter: 6 / 120\n",
      "EarlyStopping counter: 7 / 120\n",
      "EarlyStopping counter: 8 / 120\n",
      "EarlyStopping counter: 9 / 120\n",
      "EarlyStopping counter: 10 / 120\n",
      "EarlyStopping counter: 11 / 120\n",
      "EarlyStopping counter: 12 / 120\n",
      "EarlyStopping counter: 13 / 120\n",
      "EarlyStopping counter: 14 / 120\n",
      "EarlyStopping counter: 15 / 120\n",
      "Epoch 330: train loss 0.0024, val loss 0.0017\n",
      "EarlyStopping counter: 16 / 120\n",
      "EarlyStopping counter: 17 / 120\n",
      "EarlyStopping counter: 18 / 120\n",
      "EarlyStopping counter: 19 / 120\n",
      "EarlyStopping counter: 20 / 120\n",
      "EarlyStopping counter: 21 / 120\n",
      "EarlyStopping counter: 22 / 120\n",
      "EarlyStopping counter: 23 / 120\n",
      "EarlyStopping counter: 24 / 120\n",
      "EarlyStopping counter: 25 / 120\n",
      "Epoch 340: train loss 0.0018, val loss 0.0015\n",
      "EarlyStopping counter: 26 / 120\n",
      "EarlyStopping counter: 27 / 120\n",
      "EarlyStopping counter: 28 / 120\n",
      "EarlyStopping counter: 29 / 120\n",
      "EarlyStopping counter: 30 / 120\n",
      "EarlyStopping counter: 31 / 120\n",
      "EarlyStopping counter: 32 / 120\n",
      "EarlyStopping counter: 33 / 120\n",
      "EarlyStopping counter: 34 / 120\n",
      "EarlyStopping counter: 35 / 120\n",
      "Epoch 350: train loss 0.0021, val loss 0.0014\n",
      "EarlyStopping counter: 1 / 120\n",
      "EarlyStopping counter: 2 / 120\n",
      "EarlyStopping counter: 3 / 120\n",
      "EarlyStopping counter: 4 / 120\n",
      "EarlyStopping counter: 5 / 120\n",
      "EarlyStopping counter: 6 / 120\n",
      "EarlyStopping counter: 7 / 120\n",
      "Epoch 360: train loss 0.0019, val loss 0.0010\n",
      "EarlyStopping counter: 1 / 120\n",
      "EarlyStopping counter: 2 / 120\n",
      "EarlyStopping counter: 3 / 120\n",
      "EarlyStopping counter: 4 / 120\n",
      "EarlyStopping counter: 5 / 120\n",
      "EarlyStopping counter: 6 / 120\n",
      "EarlyStopping counter: 7 / 120\n",
      "EarlyStopping counter: 8 / 120\n",
      "EarlyStopping counter: 9 / 120\n",
      "Epoch 370: train loss 0.0018, val loss 0.0010\n",
      "EarlyStopping counter: 10 / 120\n",
      "EarlyStopping counter: 11 / 120\n",
      "EarlyStopping counter: 12 / 120\n",
      "EarlyStopping counter: 13 / 120\n",
      "EarlyStopping counter: 14 / 120\n",
      "EarlyStopping counter: 15 / 120\n",
      "EarlyStopping counter: 16 / 120\n",
      "EarlyStopping counter: 17 / 120\n",
      "EarlyStopping counter: 18 / 120\n",
      "EarlyStopping counter: 19 / 120\n",
      "Epoch 380: train loss 0.0017, val loss 0.0013\n",
      "EarlyStopping counter: 20 / 120\n",
      "EarlyStopping counter: 21 / 120\n",
      "EarlyStopping counter: 22 / 120\n",
      "EarlyStopping counter: 23 / 120\n",
      "EarlyStopping counter: 24 / 120\n",
      "EarlyStopping counter: 25 / 120\n",
      "EarlyStopping counter: 26 / 120\n",
      "EarlyStopping counter: 27 / 120\n",
      "EarlyStopping counter: 28 / 120\n",
      "EarlyStopping counter: 29 / 120\n",
      "Epoch 390: train loss 0.0025, val loss 0.0013\n",
      "EarlyStopping counter: 30 / 120\n",
      "EarlyStopping counter: 31 / 120\n",
      "EarlyStopping counter: 32 / 120\n",
      "EarlyStopping counter: 33 / 120\n",
      "EarlyStopping counter: 34 / 120\n",
      "EarlyStopping counter: 35 / 120\n",
      "EarlyStopping counter: 36 / 120\n",
      "EarlyStopping counter: 37 / 120\n",
      "EarlyStopping counter: 38 / 120\n",
      "EarlyStopping counter: 39 / 120\n",
      "Epoch 400: train loss 0.0011, val loss 0.0011\n",
      "EarlyStopping counter: 40 / 120\n",
      "EarlyStopping counter: 41 / 120\n",
      "EarlyStopping counter: 42 / 120\n",
      "EarlyStopping counter: 43 / 120\n",
      "EarlyStopping counter: 44 / 120\n",
      "EarlyStopping counter: 45 / 120\n",
      "EarlyStopping counter: 46 / 120\n",
      "EarlyStopping counter: 47 / 120\n",
      "EarlyStopping counter: 48 / 120\n",
      "EarlyStopping counter: 49 / 120\n",
      "Epoch 410: train loss 0.0020, val loss 0.0013\n",
      "EarlyStopping counter: 50 / 120\n",
      "EarlyStopping counter: 51 / 120\n",
      "EarlyStopping counter: 52 / 120\n",
      "EarlyStopping counter: 53 / 120\n",
      "EarlyStopping counter: 54 / 120\n",
      "EarlyStopping counter: 55 / 120\n",
      "EarlyStopping counter: 56 / 120\n",
      "EarlyStopping counter: 57 / 120\n",
      "EarlyStopping counter: 58 / 120\n",
      "EarlyStopping counter: 59 / 120\n",
      "Epoch 420: train loss 0.0016, val loss 0.0012\n",
      "EarlyStopping counter: 60 / 120\n",
      "EarlyStopping counter: 61 / 120\n",
      "EarlyStopping counter: 62 / 120\n",
      "EarlyStopping counter: 63 / 120\n",
      "EarlyStopping counter: 64 / 120\n",
      "EarlyStopping counter: 65 / 120\n",
      "EarlyStopping counter: 66 / 120\n",
      "EarlyStopping counter: 67 / 120\n",
      "EarlyStopping counter: 68 / 120\n",
      "EarlyStopping counter: 69 / 120\n",
      "Epoch 430: train loss 0.0016, val loss 0.0012\n",
      "EarlyStopping counter: 70 / 120\n",
      "EarlyStopping counter: 71 / 120\n",
      "EarlyStopping counter: 72 / 120\n",
      "EarlyStopping counter: 73 / 120\n",
      "EarlyStopping counter: 74 / 120\n",
      "EarlyStopping counter: 75 / 120\n",
      "EarlyStopping counter: 76 / 120\n",
      "EarlyStopping counter: 77 / 120\n",
      "EarlyStopping counter: 78 / 120\n",
      "EarlyStopping counter: 79 / 120\n",
      "Epoch 440: train loss 0.0012, val loss 0.0014\n",
      "EarlyStopping counter: 80 / 120\n",
      "EarlyStopping counter: 81 / 120\n",
      "EarlyStopping counter: 82 / 120\n",
      "EarlyStopping counter: 83 / 120\n",
      "EarlyStopping counter: 84 / 120\n",
      "EarlyStopping counter: 85 / 120\n",
      "EarlyStopping counter: 86 / 120\n",
      "EarlyStopping counter: 87 / 120\n",
      "EarlyStopping counter: 88 / 120\n",
      "EarlyStopping counter: 89 / 120\n",
      "Epoch 450: train loss 0.0015, val loss 0.0012\n",
      "EarlyStopping counter: 90 / 120\n",
      "EarlyStopping counter: 91 / 120\n",
      "EarlyStopping counter: 92 / 120\n",
      "EarlyStopping counter: 93 / 120\n",
      "EarlyStopping counter: 94 / 120\n",
      "EarlyStopping counter: 95 / 120\n",
      "EarlyStopping counter: 96 / 120\n",
      "EarlyStopping counter: 97 / 120\n",
      "EarlyStopping counter: 98 / 120\n",
      "EarlyStopping counter: 99 / 120\n",
      "Epoch 460: train loss 0.0019, val loss 0.0012\n",
      "EarlyStopping counter: 100 / 120\n",
      "EarlyStopping counter: 101 / 120\n",
      "EarlyStopping counter: 102 / 120\n",
      "EarlyStopping counter: 103 / 120\n",
      "EarlyStopping counter: 104 / 120\n",
      "EarlyStopping counter: 105 / 120\n",
      "EarlyStopping counter: 106 / 120\n",
      "EarlyStopping counter: 107 / 120\n",
      "EarlyStopping counter: 108 / 120\n",
      "EarlyStopping counter: 109 / 120\n",
      "Epoch 470: train loss 0.0019, val loss 0.0010\n",
      "EarlyStopping counter: 110 / 120\n",
      "EarlyStopping counter: 111 / 120\n",
      "EarlyStopping counter: 112 / 120\n",
      "EarlyStopping counter: 113 / 120\n",
      "EarlyStopping counter: 114 / 120\n",
      "EarlyStopping counter: 115 / 120\n",
      "EarlyStopping counter: 116 / 120\n",
      "EarlyStopping counter: 117 / 120\n",
      "EarlyStopping counter: 118 / 120\n",
      "EarlyStopping counter: 119 / 120\n",
      "Epoch 480: train loss 0.0014, val loss 0.0011\n",
      "EarlyStopping counter: 120 / 120\n",
      "Restoring model from epoch 361 ...\n",
      "Early stopping at epoch 481, best val loss 0.000989 (epoch 361)\n"
     ]
    },
    {
     "data": {
      "application/vnd.plotly.v1+json": {
       "config": {
        "plotlyServerURL": "https://plot.ly"
       },
       "data": [
        {
         "hovertemplate": "variable=train<br>index=%{x}<br>value=%{y}<extra></extra>",
         "legendgroup": "train",
         "line": {
          "color": "#636efa",
          "dash": "solid"
         },
         "marker": {
          "symbol": "circle"
         },
         "mode": "lines",
         "name": "train",
         "orientation": "v",
         "showlegend": true,
         "type": "scatter",
         "x": [
          0,
          1,
          2,
          3,
          4,
          5,
          6,
          7,
          8,
          9,
          10,
          11,
          12,
          13,
          14,
          15,
          16,
          17,
          18,
          19,
          20,
          21,
          22,
          23,
          24,
          25,
          26,
          27,
          28,
          29,
          30,
          31,
          32,
          33,
          34,
          35,
          36,
          37,
          38,
          39,
          40,
          41,
          42,
          43,
          44,
          45,
          46,
          47,
          48,
          49,
          50,
          51,
          52,
          53,
          54,
          55,
          56,
          57,
          58,
          59,
          60,
          61,
          62,
          63,
          64,
          65,
          66,
          67,
          68,
          69,
          70,
          71,
          72,
          73,
          74,
          75,
          76,
          77,
          78,
          79,
          80,
          81,
          82,
          83,
          84,
          85,
          86,
          87,
          88,
          89,
          90,
          91,
          92,
          93,
          94,
          95,
          96,
          97,
          98,
          99,
          100,
          101,
          102,
          103,
          104,
          105,
          106,
          107,
          108,
          109,
          110,
          111,
          112,
          113,
          114,
          115,
          116,
          117,
          118,
          119,
          120,
          121,
          122,
          123,
          124,
          125,
          126,
          127,
          128,
          129,
          130,
          131,
          132,
          133,
          134,
          135,
          136,
          137,
          138,
          139,
          140,
          141,
          142,
          143,
          144,
          145,
          146,
          147,
          148,
          149,
          150,
          151,
          152,
          153,
          154,
          155,
          156,
          157,
          158,
          159,
          160,
          161,
          162,
          163,
          164,
          165,
          166,
          167,
          168,
          169,
          170,
          171,
          172,
          173,
          174,
          175,
          176,
          177,
          178,
          179,
          180,
          181,
          182,
          183,
          184,
          185,
          186,
          187,
          188,
          189,
          190,
          191,
          192,
          193,
          194,
          195,
          196,
          197,
          198,
          199,
          200,
          201,
          202,
          203,
          204,
          205,
          206,
          207,
          208,
          209,
          210,
          211,
          212,
          213,
          214,
          215,
          216,
          217,
          218,
          219,
          220,
          221,
          222,
          223,
          224,
          225,
          226,
          227,
          228,
          229,
          230,
          231,
          232,
          233,
          234,
          235,
          236,
          237,
          238,
          239,
          240,
          241,
          242,
          243,
          244,
          245,
          246,
          247,
          248,
          249,
          250,
          251,
          252,
          253,
          254,
          255,
          256,
          257,
          258,
          259,
          260,
          261,
          262,
          263,
          264,
          265,
          266,
          267,
          268,
          269,
          270,
          271,
          272,
          273,
          274,
          275,
          276,
          277,
          278,
          279,
          280,
          281,
          282,
          283,
          284,
          285,
          286,
          287,
          288,
          289,
          290,
          291,
          292,
          293,
          294,
          295,
          296,
          297,
          298,
          299,
          300,
          301,
          302,
          303,
          304,
          305,
          306,
          307,
          308,
          309,
          310,
          311,
          312,
          313,
          314,
          315,
          316,
          317,
          318,
          319,
          320,
          321,
          322,
          323,
          324,
          325,
          326,
          327,
          328,
          329,
          330,
          331,
          332,
          333,
          334,
          335,
          336,
          337,
          338,
          339,
          340,
          341,
          342,
          343,
          344,
          345,
          346,
          347,
          348,
          349,
          350,
          351,
          352,
          353,
          354,
          355,
          356,
          357,
          358,
          359,
          360,
          361,
          362,
          363,
          364,
          365,
          366,
          367,
          368,
          369,
          370,
          371,
          372,
          373,
          374,
          375,
          376,
          377,
          378,
          379,
          380,
          381,
          382,
          383,
          384,
          385,
          386,
          387,
          388,
          389,
          390,
          391,
          392,
          393,
          394,
          395,
          396,
          397,
          398,
          399,
          400,
          401,
          402,
          403,
          404,
          405,
          406,
          407,
          408,
          409,
          410,
          411,
          412,
          413,
          414,
          415,
          416,
          417,
          418,
          419,
          420,
          421,
          422,
          423,
          424,
          425,
          426,
          427,
          428,
          429,
          430,
          431,
          432,
          433,
          434,
          435,
          436,
          437,
          438,
          439,
          440,
          441,
          442,
          443,
          444,
          445,
          446,
          447,
          448,
          449,
          450,
          451,
          452,
          453,
          454,
          455,
          456,
          457,
          458,
          459,
          460,
          461,
          462,
          463,
          464,
          465,
          466,
          467,
          468,
          469,
          470,
          471,
          472,
          473,
          474,
          475,
          476,
          477,
          478,
          479,
          480,
          481
         ],
         "xaxis": "x",
         "y": [
          0.3207900024950504,
          0.3045648172497749,
          0.289088973402977,
          0.2739334017038345,
          0.2588949717581272,
          0.24392852690070868,
          0.22871472220867872,
          0.21319295540452005,
          0.1974877679720521,
          0.18112406795844435,
          0.164475064817816,
          0.1473545480053872,
          0.12925113004166633,
          0.11205682361032814,
          0.09462135366629809,
          0.07949679639423265,
          0.06589184212498367,
          0.055364641500636934,
          0.048037365265190604,
          0.04425210277549922,
          0.04168312582187354,
          0.04089270806871355,
          0.040906273759901524,
          0.04060280341655016,
          0.039839109778404234,
          0.03914369461126625,
          0.039749940019100906,
          0.03974604308605194,
          0.03962549888528884,
          0.038287450466305016,
          0.039058707933872935,
          0.03721771449781954,
          0.03772341487929225,
          0.03729758823756128,
          0.035841568699106575,
          0.03720643403939903,
          0.03607311118394137,
          0.035664014727808536,
          0.03488079681992531,
          0.03620800664648414,
          0.035132457176223396,
          0.03428914383985102,
          0.03382271996233612,
          0.03348514584358782,
          0.034274275251664224,
          0.03210337329655886,
          0.03223157301545143,
          0.03259071081411093,
          0.0314887864748016,
          0.0310373148182407,
          0.029959399392828344,
          0.03097487159539014,
          0.030563436122611164,
          0.029144133185036482,
          0.02892706615384668,
          0.027966802357695997,
          0.02758826147764921,
          0.02841741400770843,
          0.027690286259166898,
          0.026996538462117314,
          0.026553267030976713,
          0.026278191502206026,
          0.02589030631352216,
          0.02493150285445154,
          0.025226568966172636,
          0.02413061079569161,
          0.023213048721663652,
          0.026308758312370627,
          0.024122862436342984,
          0.023062022216618062,
          0.022094800148624926,
          0.02206838708370924,
          0.022718264220748095,
          0.022183681454043834,
          0.021730434824712576,
          0.021070822793990373,
          0.021287376852706076,
          0.019875472341664136,
          0.01983896354213357,
          0.020287149748764933,
          0.019074150826781988,
          0.019249329331796617,
          0.01813454575603828,
          0.017181739630177616,
          0.01801578889135271,
          0.018646630202420057,
          0.017197565105743707,
          0.01705055731581524,
          0.016520189167931677,
          0.015627029386814685,
          0.0158609448291827,
          0.016213033092208208,
          0.014914188883267343,
          0.014117527240887284,
          0.014083411928731948,
          0.014541519293561577,
          0.013759143953211605,
          0.012670330260880292,
          0.013910600065719337,
          0.012824832217302174,
          0.01261438891524449,
          0.012749095022445544,
          0.013111987989395857,
          0.01256024653557688,
          0.01097815745160915,
          0.010921483021229505,
          0.011101291934028267,
          0.010437462746631354,
          0.011109440354630351,
          0.011312126461416484,
          0.010455898882355541,
          0.010270399763248861,
          0.01062012034235522,
          0.009651779511477799,
          0.008759650873253122,
          0.009207980055361987,
          0.008768788306042552,
          0.008698177867336199,
          0.007555545272771269,
          0.009241684910375626,
          0.008598010835703463,
          0.0073655394837260245,
          0.00824881243170239,
          0.007106029405258596,
          0.007184126018546522,
          0.006190681958105415,
          0.006462674960494042,
          0.0075393794220872225,
          0.00587391673179809,
          0.005682871473254636,
          0.005962606141110882,
          0.005700541817350313,
          0.004471263906452805,
          0.006609134853351861,
          0.0054970818862784656,
          0.0045416735229082406,
          0.006017304456327111,
          0.004904362233355641,
          0.004791284946259111,
          0.005525736615527421,
          0.004861526086460799,
          0.004656103788875043,
          0.004107950004981831,
          0.0049538147344719615,
          0.00388526659226045,
          0.004194675898179412,
          0.003352063393685967,
          0.004330258432310075,
          0.0037929339858237656,
          0.0039285023754928265,
          0.002856800879817456,
          0.0041499194339849055,
          0.0029391104355454443,
          0.002670286386273801,
          0.0026668853854062034,
          0.002601766135194339,
          0.0027837578498292716,
          0.0025335857877507805,
          0.0029434551688609645,
          0.002175842414726503,
          0.0030623286264017226,
          0.002423118695151061,
          0.0025951181887649,
          0.0026487636845558883,
          0.0023800542810931804,
          0.002449135365895927,
          0.0029746225744020196,
          0.0019535355095285922,
          0.0023672480718232693,
          0.0026163618778809903,
          0.0017106104060076177,
          0.0018770504160784186,
          0.002892850627540611,
          0.002332018734887242,
          0.0019728491199202834,
          0.0018752964795567095,
          0.0016154740820638835,
          0.0026945633464492856,
          0.0015874942182563245,
          0.0018941445945529268,
          0.002169436059193686,
          0.0016673432313837112,
          0.002202577277785167,
          0.002407679270254448,
          0.0018857837188988925,
          0.0024761702748946845,
          0.001518650259822607,
          0.0019307276292238385,
          0.002377892271033488,
          0.0021286284143570812,
          0.0016196961048990488,
          0.002625288115814328,
          0.0027676789788529275,
          0.001412287217681296,
          0.002189441997325048,
          0.0018522848840802908,
          0.002285478444537148,
          0.0016249520820565521,
          0.0019182889198418706,
          0.001943619642406702,
          0.0017343681829515845,
          0.0019887634844053537,
          0.001936414878582582,
          0.0019641782157123087,
          0.0016967966861557216,
          0.0021296421240549535,
          0.0016007662401534618,
          0.002051758737070486,
          0.0019005229929462074,
          0.0020169399853330106,
          0.0018978552951011806,
          0.0021976485732011497,
          0.0020920547511195766,
          0.0015254226163960993,
          0.0018350441532675177,
          0.0022087187215220185,
          0.0014681941422168166,
          0.0020904678356600927,
          0.002378140512155369,
          0.0017023822292685509,
          0.002087873878190294,
          0.0017695790680591016,
          0.0015320891223382204,
          0.002147984236944467,
          0.001787858974421397,
          0.0015761660761199892,
          0.0020660213165683674,
          0.0020277607603929938,
          0.0015170253871474415,
          0.0018704663030803203,
          0.0011555185890756547,
          0.0013866627763491125,
          0.00193047960055992,
          0.00194920216454193,
          0.001608736696653068,
          0.001817690461757593,
          0.0019452208915026858,
          0.0020616957946913315,
          0.0014520618075039237,
          0.0019056131073739379,
          0.0020992608566302805,
          0.0018805630039423703,
          0.0018821783305611461,
          0.001613523974083364,
          0.0019813738617813215,
          0.001855217880802229,
          0.001860045822104439,
          0.0022066973615437746,
          0.0019110746739897876,
          0.001286866853479296,
          0.0016171648458112031,
          0.0023692626506090163,
          0.001579238090198487,
          0.0019116565585136414,
          0.002241496549686417,
          0.001411548898613546,
          0.0017768769816029818,
          0.0021732649300247433,
          0.001665668110945262,
          0.002234532288275659,
          0.0023306377552216873,
          0.0018649270670721308,
          0.0015179124020505697,
          0.0019852851750329138,
          0.0017568524985108525,
          0.0026212325610686094,
          0.0017849113850388677,
          0.0018026351346634329,
          0.00160965459945146,
          0.0018366435891948641,
          0.0019214748055674136,
          0.0014494019211269914,
          0.0014125923102255912,
          0.0021338811668101696,
          0.001812057028291747,
          0.0018072458333335817,
          0.0020623041491489857,
          0.0018867193983169272,
          0.0018389050208497792,
          0.002195376082090661,
          0.0019804862211458387,
          0.001592984248418361,
          0.0017587967042345554,
          0.0019264293776359409,
          0.001569657289655879,
          0.002220573928207159,
          0.002102192881284282,
          0.0018383436254225671,
          0.00263917688280344,
          0.001883183853351511,
          0.001930782967247069,
          0.0017655566218309105,
          0.0015232107194606214,
          0.0013603861472802237,
          0.0020082035131054,
          0.0013876409153454005,
          0.0019805486255791037,
          0.001749900565482676,
          0.0015706287347711622,
          0.0013719033508095891,
          0.0014843550452496856,
          0.0018620558024849744,
          0.0019489260361297057,
          0.0017397193529177456,
          0.0024338499031728135,
          0.0015226320596411825,
          0.0017141169926617294,
          0.0021544013725360855,
          0.001701388048240915,
          0.0018672035017516463,
          0.0025250478996895255,
          0.0020733245648443697,
          0.0021133920643478634,
          0.002277990593574941,
          0.0022783188323955983,
          0.0020292988629080355,
          0.0017886621310026385,
          0.002458525140536949,
          0.0017916395067004488,
          0.0015756737324409188,
          0.001823403728485573,
          0.0014344839073601179,
          0.0014925674011465162,
          0.0015178489120444283,
          0.0017447378530050627,
          0.001439693244174123,
          0.0015944099024636671,
          0.001482152665266767,
          0.002155193025828339,
          0.0020109081800910645,
          0.002367572803632356,
          0.0016516487463377415,
          0.0019584219640819355,
          0.0018136604165192693,
          0.0019479979702737183,
          0.0017457322159316392,
          0.0018631129438290372,
          0.0017153447319287808,
          0.0017420089861843735,
          0.0022187385126017033,
          0.0017517176980618387,
          0.0019522563059581443,
          0.0021857156185433268,
          0.0013526740949600935,
          0.0014637130021583288,
          0.0015981583390384912,
          0.0016598609683569521,
          0.0018345529126236216,
          0.0018430881551466881,
          0.0015422938973642885,
          0.0020553826005198063,
          0.0015572837262880057,
          0.0018140339147066698,
          0.0018418310093693436,
          0.0024995740095619112,
          0.0015991821477655322,
          0.0015960557226208038,
          0.0017854839185019954,
          0.0016425254638306797,
          0.0021413750597275793,
          0.0018537871481385082,
          0.0019547183997929095,
          0.0020048119069542734,
          0.001763818642939441,
          0.002555154636502266,
          0.0016417433915194124,
          0.0016232242691330613,
          0.0016545011661946774,
          0.002046107838395983,
          0.00210258114093449,
          0.0017580376501427964,
          0.0016178162826690824,
          0.0015787548356456683,
          0.002317017538007349,
          0.0020492867042776197,
          0.0015286004956578836,
          0.0019345221313415094,
          0.001750534470193088,
          0.0020539901306619868,
          0.001559793166234158,
          0.0017320782819297165,
          0.0015739124413812534,
          0.001576766005018726,
          0.0015762014547362924,
          0.00174456381064374,
          0.0016505956882610917,
          0.0017829105898272246,
          0.0016856973816175014,
          0.0019520180183462798,
          0.0017523792979773135,
          0.0024558242526836692,
          0.0020374052168335766,
          0.0019756746594794096,
          0.0016144779336173087,
          0.0015063892409671099,
          0.0015554908313788474,
          0.0015114463865756988,
          0.0020141317159868776,
          0.0017774295003619045,
          0.001375944007304497,
          0.0010920339729636908,
          0.0017279983643675224,
          0.0017168981983559206,
          0.0014708863280247896,
          0.0016187995759537443,
          0.0018287485232576727,
          0.0016977325460175053,
          0.0019085285137407481,
          0.0013226516835857182,
          0.0019827006850391625,
          0.0019706744787981734,
          0.0013851224910467863,
          0.00214002363209147,
          0.0012921443325467409,
          0.0014041007496416568,
          0.0014121301181148737,
          0.0017175261804368348,
          0.0016745497894589789,
          0.0016129506868310273,
          0.0015267321898136288,
          0.0016227181302383542,
          0.001805720712582115,
          0.0015065084327943623,
          0.0014559526491211728,
          0.0020465955312829465,
          0.0014355004153912888,
          0.0015787963115144522,
          0.0018105447627021932,
          0.0019473945707431995,
          0.002186653530225158,
          0.0015620357065927238,
          0.001513312038150616,
          0.0014668020186945796,
          0.002093865111237392,
          0.0012208780739456416,
          0.0014728389127412812,
          0.0016070529527496547,
          0.0013587784400442616,
          0.001709550601663068,
          0.0014420556341065093,
          0.0011890823123394511,
          0.0014321507449494674,
          0.002004764007870108,
          0.0013772028964012862,
          0.001700241124490276,
          0.0022675768239423634,
          0.0018830855551641434,
          0.0013406321057118475,
          0.001701211929321289,
          0.0019018722348846495,
          0.0015226939343847335,
          0.0017267365794396028,
          0.001286913949297741,
          0.001781715388642624,
          0.0018925246826256626,
          0.0015279930608812719,
          0.001585500841611065,
          0.002135949151124805,
          0.0016780696576461196,
          0.0023405797786836048,
          0.0018869386927690356,
          0.00147514662676258,
          0.0019763818418141454,
          0.0015672340639866888,
          0.0019307585374917836,
          0.00188295327097876,
          0.0017147399601526558,
          0.002009746216936037,
          0.0017610122478799895,
          0.0013834033044986427,
          0.0019320874445838854,
          0.0017449690756620839,
          0.0013825534231727942,
          0.0017985614729695953,
          0.0017657087475527078,
          0.001202696718974039,
          0.0016296885922201909,
          0.0013632052578032017,
          0.0020775418466655537,
          0.0016354752209736035,
          0.0014395723002962769,
          0.0015114784066099674
         ],
         "yaxis": "y"
        },
        {
         "hovertemplate": "variable=val<br>index=%{x}<br>value=%{y}<extra></extra>",
         "legendgroup": "val",
         "line": {
          "color": "#EF553B",
          "dash": "solid"
         },
         "marker": {
          "symbol": "circle"
         },
         "mode": "lines",
         "name": "val",
         "orientation": "v",
         "showlegend": true,
         "type": "scatter",
         "x": [
          0,
          1,
          2,
          3,
          4,
          5,
          6,
          7,
          8,
          9,
          10,
          11,
          12,
          13,
          14,
          15,
          16,
          17,
          18,
          19,
          20,
          21,
          22,
          23,
          24,
          25,
          26,
          27,
          28,
          29,
          30,
          31,
          32,
          33,
          34,
          35,
          36,
          37,
          38,
          39,
          40,
          41,
          42,
          43,
          44,
          45,
          46,
          47,
          48,
          49,
          50,
          51,
          52,
          53,
          54,
          55,
          56,
          57,
          58,
          59,
          60,
          61,
          62,
          63,
          64,
          65,
          66,
          67,
          68,
          69,
          70,
          71,
          72,
          73,
          74,
          75,
          76,
          77,
          78,
          79,
          80,
          81,
          82,
          83,
          84,
          85,
          86,
          87,
          88,
          89,
          90,
          91,
          92,
          93,
          94,
          95,
          96,
          97,
          98,
          99,
          100,
          101,
          102,
          103,
          104,
          105,
          106,
          107,
          108,
          109,
          110,
          111,
          112,
          113,
          114,
          115,
          116,
          117,
          118,
          119,
          120,
          121,
          122,
          123,
          124,
          125,
          126,
          127,
          128,
          129,
          130,
          131,
          132,
          133,
          134,
          135,
          136,
          137,
          138,
          139,
          140,
          141,
          142,
          143,
          144,
          145,
          146,
          147,
          148,
          149,
          150,
          151,
          152,
          153,
          154,
          155,
          156,
          157,
          158,
          159,
          160,
          161,
          162,
          163,
          164,
          165,
          166,
          167,
          168,
          169,
          170,
          171,
          172,
          173,
          174,
          175,
          176,
          177,
          178,
          179,
          180,
          181,
          182,
          183,
          184,
          185,
          186,
          187,
          188,
          189,
          190,
          191,
          192,
          193,
          194,
          195,
          196,
          197,
          198,
          199,
          200,
          201,
          202,
          203,
          204,
          205,
          206,
          207,
          208,
          209,
          210,
          211,
          212,
          213,
          214,
          215,
          216,
          217,
          218,
          219,
          220,
          221,
          222,
          223,
          224,
          225,
          226,
          227,
          228,
          229,
          230,
          231,
          232,
          233,
          234,
          235,
          236,
          237,
          238,
          239,
          240,
          241,
          242,
          243,
          244,
          245,
          246,
          247,
          248,
          249,
          250,
          251,
          252,
          253,
          254,
          255,
          256,
          257,
          258,
          259,
          260,
          261,
          262,
          263,
          264,
          265,
          266,
          267,
          268,
          269,
          270,
          271,
          272,
          273,
          274,
          275,
          276,
          277,
          278,
          279,
          280,
          281,
          282,
          283,
          284,
          285,
          286,
          287,
          288,
          289,
          290,
          291,
          292,
          293,
          294,
          295,
          296,
          297,
          298,
          299,
          300,
          301,
          302,
          303,
          304,
          305,
          306,
          307,
          308,
          309,
          310,
          311,
          312,
          313,
          314,
          315,
          316,
          317,
          318,
          319,
          320,
          321,
          322,
          323,
          324,
          325,
          326,
          327,
          328,
          329,
          330,
          331,
          332,
          333,
          334,
          335,
          336,
          337,
          338,
          339,
          340,
          341,
          342,
          343,
          344,
          345,
          346,
          347,
          348,
          349,
          350,
          351,
          352,
          353,
          354,
          355,
          356,
          357,
          358,
          359,
          360,
          361,
          362,
          363,
          364,
          365,
          366,
          367,
          368,
          369,
          370,
          371,
          372,
          373,
          374,
          375,
          376,
          377,
          378,
          379,
          380,
          381,
          382,
          383,
          384,
          385,
          386,
          387,
          388,
          389,
          390,
          391,
          392,
          393,
          394,
          395,
          396,
          397,
          398,
          399,
          400,
          401,
          402,
          403,
          404,
          405,
          406,
          407,
          408,
          409,
          410,
          411,
          412,
          413,
          414,
          415,
          416,
          417,
          418,
          419,
          420,
          421,
          422,
          423,
          424,
          425,
          426,
          427,
          428,
          429,
          430,
          431,
          432,
          433,
          434,
          435,
          436,
          437,
          438,
          439,
          440,
          441,
          442,
          443,
          444,
          445,
          446,
          447,
          448,
          449,
          450,
          451,
          452,
          453,
          454,
          455,
          456,
          457,
          458,
          459,
          460,
          461,
          462,
          463,
          464,
          465,
          466,
          467,
          468,
          469,
          470,
          471,
          472,
          473,
          474,
          475,
          476,
          477,
          478,
          479,
          480,
          481
         ],
         "xaxis": "x",
         "y": [
          1.0298550724983215,
          0.9991807043552399,
          0.9688598811626434,
          0.9385481476783752,
          0.9078459441661835,
          0.8763227462768555,
          0.8436262309551239,
          0.8094009160995483,
          0.7732358574867249,
          0.7346698045730591,
          0.6933895647525787,
          0.6489699184894562,
          0.601092666387558,
          0.5507045388221741,
          0.49846450984477997,
          0.4458574652671814,
          0.3944406807422638,
          0.3474998474121094,
          0.3071492090821266,
          0.27517474442720413,
          0.25181955099105835,
          0.2361946403980255,
          0.22591713070869446,
          0.21947741508483887,
          0.21524278819561005,
          0.21268252283334732,
          0.21173304319381714,
          0.21040339022874832,
          0.20877104252576828,
          0.20676469802856445,
          0.20552446693181992,
          0.20431909710168839,
          0.20255443453788757,
          0.20061250030994415,
          0.19873382151126862,
          0.19707396626472473,
          0.19557733088731766,
          0.19325901567935944,
          0.1911400631070137,
          0.18925047665834427,
          0.18719813227653503,
          0.1853892207145691,
          0.18306362628936768,
          0.18114521354436874,
          0.17999813705682755,
          0.17834632843732834,
          0.17676787823438644,
          0.17513219267129898,
          0.1729993149638176,
          0.17068971693515778,
          0.16811801493167877,
          0.16591500490903854,
          0.1634475141763687,
          0.16179536283016205,
          0.1597515493631363,
          0.1585661545395851,
          0.15724226832389832,
          0.15483038872480392,
          0.15209626406431198,
          0.14998513460159302,
          0.14878321439027786,
          0.14695248380303383,
          0.14489684253931046,
          0.14250212907791138,
          0.1393982097506523,
          0.13678140565752983,
          0.13358616828918457,
          0.13197815790772438,
          0.12991034612059593,
          0.12830563634634018,
          0.12640388682484627,
          0.12449365854263306,
          0.12284540757536888,
          0.12067998200654984,
          0.11871523782610893,
          0.11794973909854889,
          0.11703601479530334,
          0.11479897052049637,
          0.11352559179067612,
          0.11215022206306458,
          0.10971331596374512,
          0.1064833328127861,
          0.10324064642190933,
          0.10051838681101799,
          0.099338598549366,
          0.09868521243333817,
          0.09671903774142265,
          0.09507561847567558,
          0.09365220367908478,
          0.09059030562639236,
          0.087181456387043,
          0.08575889840722084,
          0.0851806215941906,
          0.0839313231408596,
          0.08141747862100601,
          0.08002118021249771,
          0.07845167443156242,
          0.07726472988724709,
          0.07581738382577896,
          0.07338732853531837,
          0.07083137705922127,
          0.06825807504355907,
          0.0680700745433569,
          0.06794732250273228,
          0.06533573195338249,
          0.062064917758107185,
          0.059769295156002045,
          0.05848376825451851,
          0.05827537178993225,
          0.056179698556661606,
          0.05361178331077099,
          0.051716022193431854,
          0.05055239796638489,
          0.04854639992117882,
          0.04687026888132095,
          0.04451809450984001,
          0.042409155517816544,
          0.04098101146519184,
          0.040754806250333786,
          0.041306147351861,
          0.04020979441702366,
          0.03770838677883148,
          0.03685632720589638,
          0.03635324537754059,
          0.03416850604116917,
          0.03105902299284935,
          0.030042830854654312,
          0.029187209904193878,
          0.026706397533416748,
          0.025761972181499004,
          0.027091133408248425,
          0.02665582299232483,
          0.024339519441127777,
          0.023143481463193893,
          0.021331625059247017,
          0.020483767613768578,
          0.01925973128527403,
          0.01720330026000738,
          0.016924841329455376,
          0.01677042432129383,
          0.015716814436018467,
          0.01358087407425046,
          0.01285017840564251,
          0.012575853615999222,
          0.011580822989344597,
          0.009922150522470474,
          0.008809827268123627,
          0.009625762701034546,
          0.008848325815051794,
          0.00831863284111023,
          0.008345798589289188,
          0.009197721956297755,
          0.007757018320262432,
          0.006608346942812204,
          0.00707986974157393,
          0.00716259703040123,
          0.006015333579853177,
          0.005202074069529772,
          0.004781152820214629,
          0.004208152065984905,
          0.004180442774668336,
          0.003984133712947369,
          0.003438285202719271,
          0.003835496259853244,
          0.0040097523014992476,
          0.003583346609957516,
          0.0029637726838700473,
          0.0019287601462565362,
          0.0023338121245615184,
          0.0034464154741726816,
          0.0021244967356324196,
          0.0018306522397324443,
          0.0017248918884433806,
          0.0014223912148736417,
          0.001470870163757354,
          0.0018018147675320506,
          0.0017626114131417125,
          0.001450562966056168,
          0.0015170493570622057,
          0.002210271602962166,
          0.0018003688601311296,
          0.001410700671840459,
          0.0013806158385705203,
          0.0016601212555542588,
          0.0016173232579603791,
          0.0018147073569707572,
          0.0017214656108990312,
          0.001629996084375307,
          0.001276034105103463,
          0.00122440216364339,
          0.0012549214297905564,
          0.0014672951074317098,
          0.0015930705412756652,
          0.0015075198316480964,
          0.0013209040043875575,
          0.0015753271291032434,
          0.0013588027795776725,
          0.0013638044183608145,
          0.0016481977072544396,
          0.0015307815046980977,
          0.0012755548814311624,
          0.0012460349826142192,
          0.0013028882094658911,
          0.0013156080094631761,
          0.0012754250201396644,
          0.0012268933351151645,
          0.0012139363680034876,
          0.00144393922528252,
          0.0014696009748149663,
          0.0013697418617084622,
          0.001341596245765686,
          0.0014545765588991344,
          0.001347545301541686,
          0.0014103996800258756,
          0.0013699691044166684,
          0.0014941857079975307,
          0.0013006936060264707,
          0.0013324120081961155,
          0.0015135214198380709,
          0.0016079495253507048,
          0.0014797805924899876,
          0.001540484867291525,
          0.001544167404063046,
          0.0013236507074907422,
          0.001290624146349728,
          0.001331428240519017,
          0.0015585770597681403,
          0.0018344675190746784,
          0.001285289996303618,
          0.001261768164113164,
          0.0012282320531085134,
          0.00127984129358083,
          0.001418597879819572,
          0.001534015085780993,
          0.0011769660632126033,
          0.0011638016439974308,
          0.0013266504101920873,
          0.0012935285922139883,
          0.0012412599462550133,
          0.0011875989148393273,
          0.001239704666659236,
          0.0013589782174676657,
          0.0013034145231358707,
          0.0013016860466450453,
          0.0013086111284792423,
          0.0014754495350643992,
          0.0014586307224817574,
          0.0014969680923968554,
          0.0013393930858001113,
          0.0018190531991422176,
          0.0016967054398264736,
          0.0016508226981386542,
          0.0015175992739386857,
          0.001419433974660933,
          0.001376303902361542,
          0.0014214239781722426,
          0.0013146721757948399,
          0.0012876964756287634,
          0.0014805756218265742,
          0.0012946344213560224,
          0.0012810087064281106,
          0.001546822051750496,
          0.0015592592535540462,
          0.0014545408776029944,
          0.0015513158577959985,
          0.001236329204402864,
          0.0015089652442838997,
          0.0012048276839777827,
          0.0013390440726652741,
          0.0011819240753538907,
          0.0012368601455818862,
          0.0012121254694648087,
          0.001306098944041878,
          0.0016376003040932119,
          0.0013083757949061692,
          0.0013173999032005668,
          0.0013132781605236232,
          0.0013403682387433946,
          0.0013629189925268292,
          0.0013025700463913381,
          0.0012491989764384925,
          0.00125709711574018,
          0.0012936951243318617,
          0.0012885848409496248,
          0.0014019942609593272,
          0.0015410056803375483,
          0.0015225520473904908,
          0.0015084236511029303,
          0.001313952263444662,
          0.0012744750711135566,
          0.0013159808586351573,
          0.0015348918968811631,
          0.001266897830646485,
          0.0012376373051665723,
          0.0012475451221689582,
          0.0012816294911317527,
          0.001505269989138469,
          0.0014070275647100061,
          0.0011770750861614943,
          0.001248732442036271,
          0.0011949437903240323,
          0.001307448954321444,
          0.001240291923750192,
          0.0012030109064653516,
          0.001234339433722198,
          0.0012563266209326684,
          0.0012610579724423587,
          0.0013887327804695815,
          0.0011617543641477823,
          0.00114437285810709,
          0.001527570391772315,
          0.0011325460800435394,
          0.0012721884704660624,
          0.001283672609133646,
          0.0018493391398806125,
          0.0010913957958109677,
          0.0011828875867649913,
          0.0012170826084911823,
          0.0012211946886964142,
          0.0011709844111464918,
          0.0013433455023914576,
          0.0011504429276101291,
          0.0012999970058444887,
          0.0012332809856161475,
          0.001233963412232697,
          0.0021275939943734556,
          0.001830398483434692,
          0.0012550150277093053,
          0.0012383423745632172,
          0.0014597566332668066,
          0.001723134337225929,
          0.0012722949613817036,
          0.001256822666618973,
          0.001453988195862621,
          0.0012229587882757187,
          0.0014675091952085495,
          0.0015743383264634758,
          0.0016176284407265484,
          0.0011813632445409894,
          0.0013153399340808392,
          0.0014665148919448256,
          0.001187687274068594,
          0.0011773565202020109,
          0.0011425996199250221,
          0.0013255065423436463,
          0.0011320833582431078,
          0.0011700027098413557,
          0.0011647956271190196,
          0.0011938816751353443,
          0.001151265692897141,
          0.0013562330277636647,
          0.0010656770900823176,
          0.0010025115625467151,
          0.001193183328723535,
          0.001066557364538312,
          0.0011258501908741891,
          0.0010166069550905377,
          0.0011792903824243695,
          0.001264083810383454,
          0.0011035884963348508,
          0.0009922772587742656,
          0.0009886771149467677,
          0.001567884930409491,
          0.0015522459871135652,
          0.0011305275256745517,
          0.0013136499910615385,
          0.0010610375902615488,
          0.0017156288377009332,
          0.0011459118395578116,
          0.0010502069490030408,
          0.001037726819049567,
          0.0010298427660018206,
          0.0012404735898599029,
          0.0010813787230290473,
          0.0012885880132671446,
          0.001152403187006712,
          0.0013658831303473562,
          0.0012496872805058956,
          0.0011883184779435396,
          0.0018200755002908409,
          0.001259174256119877,
          0.0012069554650224745,
          0.0011971796629950404,
          0.0014322048518806696,
          0.0013617653166875243,
          0.001349216850940138,
          0.001278968236874789,
          0.001377623062580824,
          0.0012909616925753653,
          0.0012790881446562707,
          0.0012610233388841152,
          0.002157057693693787,
          0.0013728842022828758,
          0.0014086596784181893,
          0.0014458846999332309,
          0.001519204000942409,
          0.001197143574245274,
          0.001218823075760156,
          0.001155207515694201,
          0.001251830137334764,
          0.001148174051195383,
          0.0011785012320615351,
          0.001291278749704361,
          0.0010651468764990568,
          0.0010858802706934512,
          0.0011122106807306409,
          0.0010961833759211004,
          0.0011185189941897988,
          0.001258921780390665,
          0.0012077295687049627,
          0.001309326326008886,
          0.0011134447413496673,
          0.0011767256655730307,
          0.0016230600303970277,
          0.001494028401793912,
          0.0012603728100657463,
          0.0012180538033135235,
          0.0011347992694936693,
          0.001462547603296116,
          0.0020506584842223674,
          0.0012422986328601837,
          0.0011903183185495436,
          0.0012679547653533518,
          0.0013285022869240493,
          0.0013361874734982848,
          0.001107649237383157,
          0.0011387700797058642,
          0.001146715017966926,
          0.00106433080509305,
          0.0011622881283983588,
          0.0012189482513349503,
          0.001145465299487114,
          0.00125326425768435,
          0.0012420867569744587,
          0.0011831496958620846,
          0.00129177316557616,
          0.0012750764726661146,
          0.0012287546996958554,
          0.001183446729555726,
          0.001220078149344772,
          0.0013935634633526206,
          0.0014389162533916533,
          0.001157765684183687,
          0.0011697454610839486,
          0.0012211287976242602,
          0.0014434150652959943,
          0.0011776351602748036,
          0.0011707350495271385,
          0.0011474147904664278,
          0.0012679766514338553,
          0.0011811860895249993,
          0.0014791202265769243,
          0.0011251115647610277,
          0.001113040721975267,
          0.001122422341722995,
          0.0011419805232435465,
          0.0014225761115085334,
          0.0011977502144873142,
          0.0013731493381783366,
          0.0012449108180589974,
          0.0012332085752859712,
          0.0011826095287688076,
          0.001137874845881015,
          0.0011176458792760968,
          0.0011197745916433632,
          0.0012036544503644109,
          0.001455772144254297,
          0.0010118556674569845,
          0.0012917614658363163,
          0.0010234417277388275,
          0.001035671797581017,
          0.001218328601680696,
          0.0010579272639006376,
          0.0010349475778639317,
          0.0010527100530453026,
          0.0010590547462925315,
          0.0010770128574222326,
          0.0011450110469013453,
          0.0010498513584025204,
          0.0010544133256189525,
          0.001069480727892369,
          0.0010878663742914796
         ],
         "yaxis": "y"
        }
       ],
       "layout": {
        "legend": {
         "title": {
          "text": "variable"
         },
         "tracegroupgap": 0
        },
        "template": {
         "data": {
          "bar": [
           {
            "error_x": {
             "color": "#2a3f5f"
            },
            "error_y": {
             "color": "#2a3f5f"
            },
            "marker": {
             "line": {
              "color": "white",
              "width": 0.5
             },
             "pattern": {
              "fillmode": "overlay",
              "size": 10,
              "solidity": 0.2
             }
            },
            "type": "bar"
           }
          ],
          "barpolar": [
           {
            "marker": {
             "line": {
              "color": "white",
              "width": 0.5
             },
             "pattern": {
              "fillmode": "overlay",
              "size": 10,
              "solidity": 0.2
             }
            },
            "type": "barpolar"
           }
          ],
          "carpet": [
           {
            "aaxis": {
             "endlinecolor": "#2a3f5f",
             "gridcolor": "#C8D4E3",
             "linecolor": "#C8D4E3",
             "minorgridcolor": "#C8D4E3",
             "startlinecolor": "#2a3f5f"
            },
            "baxis": {
             "endlinecolor": "#2a3f5f",
             "gridcolor": "#C8D4E3",
             "linecolor": "#C8D4E3",
             "minorgridcolor": "#C8D4E3",
             "startlinecolor": "#2a3f5f"
            },
            "type": "carpet"
           }
          ],
          "choropleth": [
           {
            "colorbar": {
             "outlinewidth": 0,
             "ticks": ""
            },
            "type": "choropleth"
           }
          ],
          "contour": [
           {
            "colorbar": {
             "outlinewidth": 0,
             "ticks": ""
            },
            "colorscale": [
             [
              0,
              "#0d0887"
             ],
             [
              0.1111111111111111,
              "#46039f"
             ],
             [
              0.2222222222222222,
              "#7201a8"
             ],
             [
              0.3333333333333333,
              "#9c179e"
             ],
             [
              0.4444444444444444,
              "#bd3786"
             ],
             [
              0.5555555555555556,
              "#d8576b"
             ],
             [
              0.6666666666666666,
              "#ed7953"
             ],
             [
              0.7777777777777778,
              "#fb9f3a"
             ],
             [
              0.8888888888888888,
              "#fdca26"
             ],
             [
              1,
              "#f0f921"
             ]
            ],
            "type": "contour"
           }
          ],
          "contourcarpet": [
           {
            "colorbar": {
             "outlinewidth": 0,
             "ticks": ""
            },
            "type": "contourcarpet"
           }
          ],
          "heatmap": [
           {
            "colorbar": {
             "outlinewidth": 0,
             "ticks": ""
            },
            "colorscale": [
             [
              0,
              "#0d0887"
             ],
             [
              0.1111111111111111,
              "#46039f"
             ],
             [
              0.2222222222222222,
              "#7201a8"
             ],
             [
              0.3333333333333333,
              "#9c179e"
             ],
             [
              0.4444444444444444,
              "#bd3786"
             ],
             [
              0.5555555555555556,
              "#d8576b"
             ],
             [
              0.6666666666666666,
              "#ed7953"
             ],
             [
              0.7777777777777778,
              "#fb9f3a"
             ],
             [
              0.8888888888888888,
              "#fdca26"
             ],
             [
              1,
              "#f0f921"
             ]
            ],
            "type": "heatmap"
           }
          ],
          "heatmapgl": [
           {
            "colorbar": {
             "outlinewidth": 0,
             "ticks": ""
            },
            "colorscale": [
             [
              0,
              "#0d0887"
             ],
             [
              0.1111111111111111,
              "#46039f"
             ],
             [
              0.2222222222222222,
              "#7201a8"
             ],
             [
              0.3333333333333333,
              "#9c179e"
             ],
             [
              0.4444444444444444,
              "#bd3786"
             ],
             [
              0.5555555555555556,
              "#d8576b"
             ],
             [
              0.6666666666666666,
              "#ed7953"
             ],
             [
              0.7777777777777778,
              "#fb9f3a"
             ],
             [
              0.8888888888888888,
              "#fdca26"
             ],
             [
              1,
              "#f0f921"
             ]
            ],
            "type": "heatmapgl"
           }
          ],
          "histogram": [
           {
            "marker": {
             "pattern": {
              "fillmode": "overlay",
              "size": 10,
              "solidity": 0.2
             }
            },
            "type": "histogram"
           }
          ],
          "histogram2d": [
           {
            "colorbar": {
             "outlinewidth": 0,
             "ticks": ""
            },
            "colorscale": [
             [
              0,
              "#0d0887"
             ],
             [
              0.1111111111111111,
              "#46039f"
             ],
             [
              0.2222222222222222,
              "#7201a8"
             ],
             [
              0.3333333333333333,
              "#9c179e"
             ],
             [
              0.4444444444444444,
              "#bd3786"
             ],
             [
              0.5555555555555556,
              "#d8576b"
             ],
             [
              0.6666666666666666,
              "#ed7953"
             ],
             [
              0.7777777777777778,
              "#fb9f3a"
             ],
             [
              0.8888888888888888,
              "#fdca26"
             ],
             [
              1,
              "#f0f921"
             ]
            ],
            "type": "histogram2d"
           }
          ],
          "histogram2dcontour": [
           {
            "colorbar": {
             "outlinewidth": 0,
             "ticks": ""
            },
            "colorscale": [
             [
              0,
              "#0d0887"
             ],
             [
              0.1111111111111111,
              "#46039f"
             ],
             [
              0.2222222222222222,
              "#7201a8"
             ],
             [
              0.3333333333333333,
              "#9c179e"
             ],
             [
              0.4444444444444444,
              "#bd3786"
             ],
             [
              0.5555555555555556,
              "#d8576b"
             ],
             [
              0.6666666666666666,
              "#ed7953"
             ],
             [
              0.7777777777777778,
              "#fb9f3a"
             ],
             [
              0.8888888888888888,
              "#fdca26"
             ],
             [
              1,
              "#f0f921"
             ]
            ],
            "type": "histogram2dcontour"
           }
          ],
          "mesh3d": [
           {
            "colorbar": {
             "outlinewidth": 0,
             "ticks": ""
            },
            "type": "mesh3d"
           }
          ],
          "parcoords": [
           {
            "line": {
             "colorbar": {
              "outlinewidth": 0,
              "ticks": ""
             }
            },
            "type": "parcoords"
           }
          ],
          "pie": [
           {
            "automargin": true,
            "type": "pie"
           }
          ],
          "scatter": [
           {
            "fillpattern": {
             "fillmode": "overlay",
             "size": 10,
             "solidity": 0.2
            },
            "type": "scatter"
           }
          ],
          "scatter3d": [
           {
            "line": {
             "colorbar": {
              "outlinewidth": 0,
              "ticks": ""
             }
            },
            "marker": {
             "colorbar": {
              "outlinewidth": 0,
              "ticks": ""
             }
            },
            "type": "scatter3d"
           }
          ],
          "scattercarpet": [
           {
            "marker": {
             "colorbar": {
              "outlinewidth": 0,
              "ticks": ""
             }
            },
            "type": "scattercarpet"
           }
          ],
          "scattergeo": [
           {
            "marker": {
             "colorbar": {
              "outlinewidth": 0,
              "ticks": ""
             }
            },
            "type": "scattergeo"
           }
          ],
          "scattergl": [
           {
            "marker": {
             "colorbar": {
              "outlinewidth": 0,
              "ticks": ""
             }
            },
            "type": "scattergl"
           }
          ],
          "scattermapbox": [
           {
            "marker": {
             "colorbar": {
              "outlinewidth": 0,
              "ticks": ""
             }
            },
            "type": "scattermapbox"
           }
          ],
          "scatterpolar": [
           {
            "marker": {
             "colorbar": {
              "outlinewidth": 0,
              "ticks": ""
             }
            },
            "type": "scatterpolar"
           }
          ],
          "scatterpolargl": [
           {
            "marker": {
             "colorbar": {
              "outlinewidth": 0,
              "ticks": ""
             }
            },
            "type": "scatterpolargl"
           }
          ],
          "scatterternary": [
           {
            "marker": {
             "colorbar": {
              "outlinewidth": 0,
              "ticks": ""
             }
            },
            "type": "scatterternary"
           }
          ],
          "surface": [
           {
            "colorbar": {
             "outlinewidth": 0,
             "ticks": ""
            },
            "colorscale": [
             [
              0,
              "#0d0887"
             ],
             [
              0.1111111111111111,
              "#46039f"
             ],
             [
              0.2222222222222222,
              "#7201a8"
             ],
             [
              0.3333333333333333,
              "#9c179e"
             ],
             [
              0.4444444444444444,
              "#bd3786"
             ],
             [
              0.5555555555555556,
              "#d8576b"
             ],
             [
              0.6666666666666666,
              "#ed7953"
             ],
             [
              0.7777777777777778,
              "#fb9f3a"
             ],
             [
              0.8888888888888888,
              "#fdca26"
             ],
             [
              1,
              "#f0f921"
             ]
            ],
            "type": "surface"
           }
          ],
          "table": [
           {
            "cells": {
             "fill": {
              "color": "#EBF0F8"
             },
             "line": {
              "color": "white"
             }
            },
            "header": {
             "fill": {
              "color": "#C8D4E3"
             },
             "line": {
              "color": "white"
             }
            },
            "type": "table"
           }
          ]
         },
         "layout": {
          "annotationdefaults": {
           "arrowcolor": "#2a3f5f",
           "arrowhead": 0,
           "arrowwidth": 1
          },
          "autotypenumbers": "strict",
          "coloraxis": {
           "colorbar": {
            "outlinewidth": 0,
            "ticks": ""
           }
          },
          "colorscale": {
           "diverging": [
            [
             0,
             "#8e0152"
            ],
            [
             0.1,
             "#c51b7d"
            ],
            [
             0.2,
             "#de77ae"
            ],
            [
             0.3,
             "#f1b6da"
            ],
            [
             0.4,
             "#fde0ef"
            ],
            [
             0.5,
             "#f7f7f7"
            ],
            [
             0.6,
             "#e6f5d0"
            ],
            [
             0.7,
             "#b8e186"
            ],
            [
             0.8,
             "#7fbc41"
            ],
            [
             0.9,
             "#4d9221"
            ],
            [
             1,
             "#276419"
            ]
           ],
           "sequential": [
            [
             0,
             "#0d0887"
            ],
            [
             0.1111111111111111,
             "#46039f"
            ],
            [
             0.2222222222222222,
             "#7201a8"
            ],
            [
             0.3333333333333333,
             "#9c179e"
            ],
            [
             0.4444444444444444,
             "#bd3786"
            ],
            [
             0.5555555555555556,
             "#d8576b"
            ],
            [
             0.6666666666666666,
             "#ed7953"
            ],
            [
             0.7777777777777778,
             "#fb9f3a"
            ],
            [
             0.8888888888888888,
             "#fdca26"
            ],
            [
             1,
             "#f0f921"
            ]
           ],
           "sequentialminus": [
            [
             0,
             "#0d0887"
            ],
            [
             0.1111111111111111,
             "#46039f"
            ],
            [
             0.2222222222222222,
             "#7201a8"
            ],
            [
             0.3333333333333333,
             "#9c179e"
            ],
            [
             0.4444444444444444,
             "#bd3786"
            ],
            [
             0.5555555555555556,
             "#d8576b"
            ],
            [
             0.6666666666666666,
             "#ed7953"
            ],
            [
             0.7777777777777778,
             "#fb9f3a"
            ],
            [
             0.8888888888888888,
             "#fdca26"
            ],
            [
             1,
             "#f0f921"
            ]
           ]
          },
          "colorway": [
           "#636efa",
           "#EF553B",
           "#00cc96",
           "#ab63fa",
           "#FFA15A",
           "#19d3f3",
           "#FF6692",
           "#B6E880",
           "#FF97FF",
           "#FECB52"
          ],
          "font": {
           "color": "#2a3f5f"
          },
          "geo": {
           "bgcolor": "white",
           "lakecolor": "white",
           "landcolor": "white",
           "showlakes": true,
           "showland": true,
           "subunitcolor": "#C8D4E3"
          },
          "hoverlabel": {
           "align": "left"
          },
          "hovermode": "closest",
          "mapbox": {
           "style": "light"
          },
          "paper_bgcolor": "white",
          "plot_bgcolor": "white",
          "polar": {
           "angularaxis": {
            "gridcolor": "#EBF0F8",
            "linecolor": "#EBF0F8",
            "ticks": ""
           },
           "bgcolor": "white",
           "radialaxis": {
            "gridcolor": "#EBF0F8",
            "linecolor": "#EBF0F8",
            "ticks": ""
           }
          },
          "scene": {
           "xaxis": {
            "backgroundcolor": "white",
            "gridcolor": "#DFE8F3",
            "gridwidth": 2,
            "linecolor": "#EBF0F8",
            "showbackground": true,
            "ticks": "",
            "zerolinecolor": "#EBF0F8"
           },
           "yaxis": {
            "backgroundcolor": "white",
            "gridcolor": "#DFE8F3",
            "gridwidth": 2,
            "linecolor": "#EBF0F8",
            "showbackground": true,
            "ticks": "",
            "zerolinecolor": "#EBF0F8"
           },
           "zaxis": {
            "backgroundcolor": "white",
            "gridcolor": "#DFE8F3",
            "gridwidth": 2,
            "linecolor": "#EBF0F8",
            "showbackground": true,
            "ticks": "",
            "zerolinecolor": "#EBF0F8"
           }
          },
          "shapedefaults": {
           "line": {
            "color": "#2a3f5f"
           }
          },
          "ternary": {
           "aaxis": {
            "gridcolor": "#DFE8F3",
            "linecolor": "#A2B1C6",
            "ticks": ""
           },
           "baxis": {
            "gridcolor": "#DFE8F3",
            "linecolor": "#A2B1C6",
            "ticks": ""
           },
           "bgcolor": "white",
           "caxis": {
            "gridcolor": "#DFE8F3",
            "linecolor": "#A2B1C6",
            "ticks": ""
           }
          },
          "title": {
           "x": 0.05
          },
          "xaxis": {
           "automargin": true,
           "gridcolor": "#EBF0F8",
           "linecolor": "#EBF0F8",
           "ticks": "",
           "title": {
            "standoff": 15
           },
           "zerolinecolor": "#EBF0F8",
           "zerolinewidth": 2
          },
          "yaxis": {
           "automargin": true,
           "gridcolor": "#EBF0F8",
           "linecolor": "#EBF0F8",
           "ticks": "",
           "title": {
            "standoff": 15
           },
           "zerolinecolor": "#EBF0F8",
           "zerolinewidth": 2
          }
         }
        },
        "title": {
         "text": "Losses"
        },
        "xaxis": {
         "anchor": "y",
         "domain": [
          0,
          1
         ],
         "title": {
          "text": "index"
         }
        },
        "yaxis": {
         "anchor": "x",
         "domain": [
          0,
          1
         ],
         "title": {
          "text": "value"
         },
         "type": "log"
        }
       }
      }
     },
     "metadata": {},
     "output_type": "display_data"
    }
   ],
   "source": [
    "seq_length = 1\n",
    "n_epochs = 2000\n",
    "batch_size = 8\n",
    "patience = 120\n",
    "n_features = train.shape[1]\n",
    "device = \"cuda\"\n",
    "\n",
    "data_module = ap.PassengerDataModule(\n",
    "  train=train,\n",
    "  val=val,\n",
    "  test=test,\n",
    "  seq_length=seq_length,\n",
    "  batch_size=batch_size,\n",
    "  device=device,\n",
    "  target_col=\"passengers\",\n",
    ")\n",
    "\n",
    "\n",
    "# Create the model, optimizer and loss function\n",
    "lstm = ap.PassengerLSTM(\n",
    "  input_size=n_features,\n",
    "  lstm_hidden_size=100,\n",
    "  lstm_dropout=0.1,\n",
    "  num_layers=3,\n",
    "  output_size=1,\n",
    "  device=device,\n",
    "  fc_sizes=[50, 10],\n",
    ")\n",
    "optimizer = optim.AdamW(lstm.parameters(), lr=0.0001)\n",
    "loss_fn = nn.MSELoss()\n",
    "early_stopping = ap.EarlyStopping(patience=patience, verbose=2)\n",
    "\n",
    "# Train the model\n",
    "predictor = ap.PassengerPredictor(\n",
    "  data_module=data_module, model=lstm, optimizer=optimizer, loss_fn=loss_fn\n",
    ")\n",
    "train_losses, val_losses = predictor.train(\n",
    "  model=lstm,\n",
    "  optimizer=optimizer,\n",
    "  loss_fn=loss_fn,\n",
    "  n_epochs=n_epochs,\n",
    "  early_stopping=early_stopping,\n",
    ")\n",
    "\n",
    "\n",
    "# Plot the losses\n",
    "losses = pd.DataFrame({\"train\": train_losses, \"val\": val_losses})\n",
    "px.line(losses, y=[\"train\", \"val\"], title=\"Losses\", log_y=True)\n"
   ]
  },
  {
   "cell_type": "code",
   "execution_count": 16,
   "metadata": {},
   "outputs": [
    {
     "data": {
      "application/vnd.plotly.v1+json": {
       "config": {
        "plotlyServerURL": "https://plot.ly"
       },
       "data": [
        {
         "mode": "lines",
         "name": "train",
         "type": "scatter",
         "x": [
          "1949-01-01T00:00:00",
          "1949-02-01T00:00:00",
          "1949-03-01T00:00:00",
          "1949-04-01T00:00:00",
          "1949-05-01T00:00:00",
          "1949-06-01T00:00:00",
          "1949-07-01T00:00:00",
          "1949-08-01T00:00:00",
          "1949-09-01T00:00:00",
          "1949-10-01T00:00:00",
          "1949-11-01T00:00:00",
          "1949-12-01T00:00:00",
          "1950-01-01T00:00:00",
          "1950-02-01T00:00:00",
          "1950-03-01T00:00:00",
          "1950-04-01T00:00:00",
          "1950-05-01T00:00:00",
          "1950-06-01T00:00:00",
          "1950-07-01T00:00:00",
          "1950-08-01T00:00:00",
          "1950-09-01T00:00:00",
          "1950-10-01T00:00:00",
          "1950-11-01T00:00:00",
          "1950-12-01T00:00:00",
          "1951-01-01T00:00:00",
          "1951-02-01T00:00:00",
          "1951-03-01T00:00:00",
          "1951-04-01T00:00:00",
          "1951-05-01T00:00:00",
          "1951-06-01T00:00:00",
          "1951-07-01T00:00:00",
          "1951-08-01T00:00:00",
          "1951-09-01T00:00:00",
          "1951-10-01T00:00:00",
          "1951-11-01T00:00:00",
          "1951-12-01T00:00:00",
          "1952-01-01T00:00:00",
          "1952-02-01T00:00:00",
          "1952-03-01T00:00:00",
          "1952-04-01T00:00:00",
          "1952-05-01T00:00:00",
          "1952-06-01T00:00:00",
          "1952-07-01T00:00:00",
          "1952-08-01T00:00:00",
          "1952-09-01T00:00:00",
          "1952-10-01T00:00:00",
          "1952-11-01T00:00:00",
          "1952-12-01T00:00:00",
          "1953-01-01T00:00:00",
          "1953-02-01T00:00:00",
          "1953-03-01T00:00:00",
          "1953-04-01T00:00:00",
          "1953-05-01T00:00:00",
          "1953-06-01T00:00:00",
          "1953-07-01T00:00:00",
          "1953-08-01T00:00:00",
          "1953-09-01T00:00:00",
          "1953-10-01T00:00:00",
          "1953-11-01T00:00:00",
          "1953-12-01T00:00:00",
          "1954-01-01T00:00:00",
          "1954-02-01T00:00:00",
          "1954-03-01T00:00:00",
          "1954-04-01T00:00:00",
          "1954-05-01T00:00:00",
          "1954-06-01T00:00:00",
          "1954-07-01T00:00:00",
          "1954-08-01T00:00:00",
          "1954-09-01T00:00:00",
          "1954-10-01T00:00:00",
          "1954-11-01T00:00:00",
          "1954-12-01T00:00:00",
          "1955-01-01T00:00:00",
          "1955-02-01T00:00:00",
          "1955-03-01T00:00:00",
          "1955-04-01T00:00:00",
          "1955-05-01T00:00:00",
          "1955-06-01T00:00:00",
          "1955-07-01T00:00:00",
          "1955-08-01T00:00:00",
          "1955-09-01T00:00:00"
         ],
         "y": [
          0.03076923076923077,
          0.05384615384615388,
          0.10769230769230764,
          0.09615384615384615,
          0.06538461538461537,
          0.11923076923076925,
          0.16923076923076918,
          0.16923076923076918,
          0.12307692307692308,
          0.05769230769230771,
          0,
          0.05384615384615388,
          0.042307692307692324,
          0.08461538461538465,
          0.14230769230769236,
          0.11923076923076925,
          0.08076923076923076,
          0.17307692307692313,
          0.25384615384615383,
          0.25384615384615383,
          0.20769230769230773,
          0.11153846153846159,
          0.038461538461538436,
          0.13846153846153852,
          0.1576923076923077,
          0.17692307692307696,
          0.2846153846153846,
          0.2269230769230769,
          0.2615384615384616,
          0.2846153846153846,
          0.3653846153846154,
          0.3653846153846154,
          0.3076923076923077,
          0.22307692307692306,
          0.16153846153846152,
          0.2384615384615385,
          0.25769230769230766,
          0.29230769230769227,
          0.3423076923076923,
          0.2961538461538462,
          0.3038461538461539,
          0.43846153846153846,
          0.48461538461538467,
          0.5307692307692308,
          0.40384615384615385,
          0.33461538461538465,
          0.2615384615384616,
          0.34615384615384615,
          0.3538461538461538,
          0.3538461538461538,
          0.5076923076923078,
          0.5038461538461538,
          0.48076923076923084,
          0.5346153846153846,
          0.6153846153846153,
          0.6461538461538462,
          0.5115384615384616,
          0.4115384615384615,
          0.29230769230769227,
          0.3730769230769231,
          0.3846153846153847,
          0.32307692307692315,
          0.5038461538461538,
          0.47307692307692306,
          0.5,
          0.6153846153846153,
          0.7615384615384616,
          0.7269230769230769,
          0.5961538461538461,
          0.48076923076923084,
          0.38076923076923075,
          0.48076923076923084,
          0.5307692307692308,
          0.49615384615384617,
          0.626923076923077,
          0.6346153846153847,
          0.6384615384615385,
          0.8115384615384617,
          1,
          0.9346153846153847,
          0.8000000000000002
         ]
        },
        {
         "mode": "lines",
         "name": "val",
         "type": "scatter",
         "x": [
          "1955-10-01T00:00:00",
          "1955-11-01T00:00:00",
          "1955-12-01T00:00:00",
          "1956-01-01T00:00:00",
          "1956-02-01T00:00:00",
          "1956-03-01T00:00:00",
          "1956-04-01T00:00:00",
          "1956-05-01T00:00:00",
          "1956-06-01T00:00:00",
          "1956-07-01T00:00:00",
          "1956-08-01T00:00:00",
          "1956-09-01T00:00:00",
          "1956-10-01T00:00:00",
          "1956-11-01T00:00:00",
          "1956-12-01T00:00:00"
         ],
         "y": [
          0.6538461538461539,
          0.5115384615384616,
          0.6692307692307692,
          0.6923076923076924,
          0.6653846153846154,
          0.8192307692307693,
          0.803846153846154,
          0.8230769230769232,
          1.0384615384615383,
          1.1884615384615387,
          1.1576923076923076,
          0.9653846153846154,
          0.7769230769230769,
          0.6423076923076924,
          0.7769230769230769
         ]
        },
        {
         "mode": "lines",
         "name": "test",
         "type": "scatter",
         "x": [
          "1957-01-01T00:00:00",
          "1957-02-01T00:00:00",
          "1957-03-01T00:00:00",
          "1957-04-01T00:00:00",
          "1957-05-01T00:00:00",
          "1957-06-01T00:00:00",
          "1957-07-01T00:00:00",
          "1957-08-01T00:00:00",
          "1957-09-01T00:00:00",
          "1957-10-01T00:00:00",
          "1957-11-01T00:00:00",
          "1957-12-01T00:00:00",
          "1958-01-01T00:00:00",
          "1958-02-01T00:00:00",
          "1958-03-01T00:00:00",
          "1958-04-01T00:00:00",
          "1958-05-01T00:00:00",
          "1958-06-01T00:00:00",
          "1958-07-01T00:00:00",
          "1958-08-01T00:00:00",
          "1958-09-01T00:00:00",
          "1958-10-01T00:00:00",
          "1958-11-01T00:00:00",
          "1958-12-01T00:00:00",
          "1959-01-01T00:00:00",
          "1959-02-01T00:00:00",
          "1959-03-01T00:00:00",
          "1959-04-01T00:00:00",
          "1959-05-01T00:00:00",
          "1959-06-01T00:00:00",
          "1959-07-01T00:00:00",
          "1959-08-01T00:00:00",
          "1959-09-01T00:00:00",
          "1959-10-01T00:00:00",
          "1959-11-01T00:00:00",
          "1959-12-01T00:00:00",
          "1960-01-01T00:00:00",
          "1960-02-01T00:00:00",
          "1960-03-01T00:00:00",
          "1960-04-01T00:00:00",
          "1960-05-01T00:00:00",
          "1960-06-01T00:00:00",
          "1960-07-01T00:00:00",
          "1960-08-01T00:00:00",
          "1960-09-01T00:00:00",
          "1960-10-01T00:00:00",
          "1960-11-01T00:00:00",
          "1960-12-01T00:00:00"
         ],
         "y": [
          0.8115384615384617,
          0.7576923076923078,
          0.9692307692307692,
          0.9384615384615386,
          0.9653846153846154,
          1.2230769230769232,
          1.3884615384615384,
          1.396153846153846,
          1.1538461538461537,
          0.9346153846153847,
          0.7730769230769231,
          0.8923076923076924,
          0.9076923076923077,
          0.8230769230769232,
          0.9923076923076924,
          0.9384615384615386,
          0.9961538461538463,
          1.273076923076923,
          1.4884615384615385,
          1.5423076923076926,
          1.1538461538461537,
          0.9807692307692307,
          0.7923076923076923,
          0.8961538461538462,
          0.9846153846153846,
          0.9153846153846154,
          1.1615384615384614,
          1.123076923076923,
          1.2153846153846155,
          1.4153846153846157,
          1.7076923076923078,
          1.75,
          1.3807692307692307,
          1.1653846153846152,
          0.9923076923076924,
          1.1576923076923076,
          1.203846153846154,
          1.103846153846154,
          1.2115384615384617,
          1.373076923076923,
          1.4153846153846157,
          1.657692307692308,
          1.9923076923076923,
          1.930769230769231,
          1.553846153846154,
          1.373076923076923,
          1.1,
          1.2615384615384615
         ]
        },
        {
         "mode": "lines",
         "name": "pred",
         "type": "scatter",
         "x": [
          "1957-02-01T00:00:00",
          "1957-03-01T00:00:00",
          "1957-04-01T00:00:00",
          "1957-05-01T00:00:00",
          "1957-06-01T00:00:00",
          "1957-07-01T00:00:00",
          "1957-08-01T00:00:00",
          "1957-09-01T00:00:00",
          "1957-10-01T00:00:00",
          "1957-11-01T00:00:00",
          "1957-12-01T00:00:00",
          "1958-01-01T00:00:00",
          "1958-02-01T00:00:00",
          "1958-03-01T00:00:00",
          "1958-04-01T00:00:00",
          "1958-05-01T00:00:00",
          "1958-06-01T00:00:00",
          "1958-07-01T00:00:00",
          "1958-08-01T00:00:00",
          "1958-09-01T00:00:00",
          "1958-10-01T00:00:00",
          "1958-11-01T00:00:00",
          "1958-12-01T00:00:00",
          "1959-01-01T00:00:00",
          "1959-02-01T00:00:00",
          "1959-03-01T00:00:00",
          "1959-04-01T00:00:00",
          "1959-05-01T00:00:00",
          "1959-06-01T00:00:00",
          "1959-07-01T00:00:00",
          "1959-08-01T00:00:00",
          "1959-09-01T00:00:00",
          "1959-10-01T00:00:00",
          "1959-11-01T00:00:00",
          "1959-12-01T00:00:00",
          "1960-01-01T00:00:00",
          "1960-02-01T00:00:00",
          "1960-03-01T00:00:00",
          "1960-04-01T00:00:00",
          "1960-05-01T00:00:00",
          "1960-06-01T00:00:00",
          "1960-07-01T00:00:00",
          "1960-08-01T00:00:00",
          "1960-09-01T00:00:00",
          "1960-10-01T00:00:00",
          "1960-11-01T00:00:00",
          "1960-12-01T00:00:00"
         ],
         "y": [
          0.79953265,
          0.9432552,
          0.9920021,
          0.99600184,
          1.1522274,
          1.3965245,
          1.3882611,
          1.2324361,
          1.0433719,
          0.8294004,
          0.93388975,
          0.9708991,
          0.9332794,
          1.0705222,
          1.1027608,
          1.0939747,
          1.2726656,
          1.5354363,
          1.5546721,
          1.4210322,
          1.1427543,
          0.9467864,
          1.040829,
          1.0685121,
          1.0638293,
          1.2180502,
          1.305543,
          1.3077745,
          1.5140654,
          1.7339218,
          1.7958959,
          1.6509026,
          1.3831892,
          1.1500121,
          1.2594366,
          1.3229042,
          1.2806294,
          1.4272976,
          1.440424,
          1.5705765,
          1.7469535,
          1.993895,
          2.0734708,
          1.8647873,
          1.5970302,
          1.3778305,
          1.4296612
         ]
        },
        {
         "mode": "lines",
         "name": "pred_val",
         "type": "scatter",
         "x": [
          "1955-11-01T00:00:00",
          "1955-12-01T00:00:00",
          "1956-01-01T00:00:00",
          "1956-02-01T00:00:00",
          "1956-03-01T00:00:00",
          "1956-04-01T00:00:00",
          "1956-05-01T00:00:00",
          "1956-06-01T00:00:00",
          "1956-07-01T00:00:00",
          "1956-08-01T00:00:00",
          "1956-09-01T00:00:00",
          "1956-10-01T00:00:00",
          "1956-11-01T00:00:00",
          "1956-12-01T00:00:00"
         ],
         "y": [
          0.5284432,
          0.6244352,
          0.67866826,
          0.6637089,
          0.8082206,
          0.8172556,
          0.8277037,
          0.97117877,
          1.1780176,
          1.1664076,
          0.99958336,
          0.8443258,
          0.6635835,
          0.7729552
         ]
        }
       ],
       "layout": {
        "template": {
         "data": {
          "bar": [
           {
            "error_x": {
             "color": "#2a3f5f"
            },
            "error_y": {
             "color": "#2a3f5f"
            },
            "marker": {
             "line": {
              "color": "white",
              "width": 0.5
             },
             "pattern": {
              "fillmode": "overlay",
              "size": 10,
              "solidity": 0.2
             }
            },
            "type": "bar"
           }
          ],
          "barpolar": [
           {
            "marker": {
             "line": {
              "color": "white",
              "width": 0.5
             },
             "pattern": {
              "fillmode": "overlay",
              "size": 10,
              "solidity": 0.2
             }
            },
            "type": "barpolar"
           }
          ],
          "carpet": [
           {
            "aaxis": {
             "endlinecolor": "#2a3f5f",
             "gridcolor": "#C8D4E3",
             "linecolor": "#C8D4E3",
             "minorgridcolor": "#C8D4E3",
             "startlinecolor": "#2a3f5f"
            },
            "baxis": {
             "endlinecolor": "#2a3f5f",
             "gridcolor": "#C8D4E3",
             "linecolor": "#C8D4E3",
             "minorgridcolor": "#C8D4E3",
             "startlinecolor": "#2a3f5f"
            },
            "type": "carpet"
           }
          ],
          "choropleth": [
           {
            "colorbar": {
             "outlinewidth": 0,
             "ticks": ""
            },
            "type": "choropleth"
           }
          ],
          "contour": [
           {
            "colorbar": {
             "outlinewidth": 0,
             "ticks": ""
            },
            "colorscale": [
             [
              0,
              "#0d0887"
             ],
             [
              0.1111111111111111,
              "#46039f"
             ],
             [
              0.2222222222222222,
              "#7201a8"
             ],
             [
              0.3333333333333333,
              "#9c179e"
             ],
             [
              0.4444444444444444,
              "#bd3786"
             ],
             [
              0.5555555555555556,
              "#d8576b"
             ],
             [
              0.6666666666666666,
              "#ed7953"
             ],
             [
              0.7777777777777778,
              "#fb9f3a"
             ],
             [
              0.8888888888888888,
              "#fdca26"
             ],
             [
              1,
              "#f0f921"
             ]
            ],
            "type": "contour"
           }
          ],
          "contourcarpet": [
           {
            "colorbar": {
             "outlinewidth": 0,
             "ticks": ""
            },
            "type": "contourcarpet"
           }
          ],
          "heatmap": [
           {
            "colorbar": {
             "outlinewidth": 0,
             "ticks": ""
            },
            "colorscale": [
             [
              0,
              "#0d0887"
             ],
             [
              0.1111111111111111,
              "#46039f"
             ],
             [
              0.2222222222222222,
              "#7201a8"
             ],
             [
              0.3333333333333333,
              "#9c179e"
             ],
             [
              0.4444444444444444,
              "#bd3786"
             ],
             [
              0.5555555555555556,
              "#d8576b"
             ],
             [
              0.6666666666666666,
              "#ed7953"
             ],
             [
              0.7777777777777778,
              "#fb9f3a"
             ],
             [
              0.8888888888888888,
              "#fdca26"
             ],
             [
              1,
              "#f0f921"
             ]
            ],
            "type": "heatmap"
           }
          ],
          "heatmapgl": [
           {
            "colorbar": {
             "outlinewidth": 0,
             "ticks": ""
            },
            "colorscale": [
             [
              0,
              "#0d0887"
             ],
             [
              0.1111111111111111,
              "#46039f"
             ],
             [
              0.2222222222222222,
              "#7201a8"
             ],
             [
              0.3333333333333333,
              "#9c179e"
             ],
             [
              0.4444444444444444,
              "#bd3786"
             ],
             [
              0.5555555555555556,
              "#d8576b"
             ],
             [
              0.6666666666666666,
              "#ed7953"
             ],
             [
              0.7777777777777778,
              "#fb9f3a"
             ],
             [
              0.8888888888888888,
              "#fdca26"
             ],
             [
              1,
              "#f0f921"
             ]
            ],
            "type": "heatmapgl"
           }
          ],
          "histogram": [
           {
            "marker": {
             "pattern": {
              "fillmode": "overlay",
              "size": 10,
              "solidity": 0.2
             }
            },
            "type": "histogram"
           }
          ],
          "histogram2d": [
           {
            "colorbar": {
             "outlinewidth": 0,
             "ticks": ""
            },
            "colorscale": [
             [
              0,
              "#0d0887"
             ],
             [
              0.1111111111111111,
              "#46039f"
             ],
             [
              0.2222222222222222,
              "#7201a8"
             ],
             [
              0.3333333333333333,
              "#9c179e"
             ],
             [
              0.4444444444444444,
              "#bd3786"
             ],
             [
              0.5555555555555556,
              "#d8576b"
             ],
             [
              0.6666666666666666,
              "#ed7953"
             ],
             [
              0.7777777777777778,
              "#fb9f3a"
             ],
             [
              0.8888888888888888,
              "#fdca26"
             ],
             [
              1,
              "#f0f921"
             ]
            ],
            "type": "histogram2d"
           }
          ],
          "histogram2dcontour": [
           {
            "colorbar": {
             "outlinewidth": 0,
             "ticks": ""
            },
            "colorscale": [
             [
              0,
              "#0d0887"
             ],
             [
              0.1111111111111111,
              "#46039f"
             ],
             [
              0.2222222222222222,
              "#7201a8"
             ],
             [
              0.3333333333333333,
              "#9c179e"
             ],
             [
              0.4444444444444444,
              "#bd3786"
             ],
             [
              0.5555555555555556,
              "#d8576b"
             ],
             [
              0.6666666666666666,
              "#ed7953"
             ],
             [
              0.7777777777777778,
              "#fb9f3a"
             ],
             [
              0.8888888888888888,
              "#fdca26"
             ],
             [
              1,
              "#f0f921"
             ]
            ],
            "type": "histogram2dcontour"
           }
          ],
          "mesh3d": [
           {
            "colorbar": {
             "outlinewidth": 0,
             "ticks": ""
            },
            "type": "mesh3d"
           }
          ],
          "parcoords": [
           {
            "line": {
             "colorbar": {
              "outlinewidth": 0,
              "ticks": ""
             }
            },
            "type": "parcoords"
           }
          ],
          "pie": [
           {
            "automargin": true,
            "type": "pie"
           }
          ],
          "scatter": [
           {
            "fillpattern": {
             "fillmode": "overlay",
             "size": 10,
             "solidity": 0.2
            },
            "type": "scatter"
           }
          ],
          "scatter3d": [
           {
            "line": {
             "colorbar": {
              "outlinewidth": 0,
              "ticks": ""
             }
            },
            "marker": {
             "colorbar": {
              "outlinewidth": 0,
              "ticks": ""
             }
            },
            "type": "scatter3d"
           }
          ],
          "scattercarpet": [
           {
            "marker": {
             "colorbar": {
              "outlinewidth": 0,
              "ticks": ""
             }
            },
            "type": "scattercarpet"
           }
          ],
          "scattergeo": [
           {
            "marker": {
             "colorbar": {
              "outlinewidth": 0,
              "ticks": ""
             }
            },
            "type": "scattergeo"
           }
          ],
          "scattergl": [
           {
            "marker": {
             "colorbar": {
              "outlinewidth": 0,
              "ticks": ""
             }
            },
            "type": "scattergl"
           }
          ],
          "scattermapbox": [
           {
            "marker": {
             "colorbar": {
              "outlinewidth": 0,
              "ticks": ""
             }
            },
            "type": "scattermapbox"
           }
          ],
          "scatterpolar": [
           {
            "marker": {
             "colorbar": {
              "outlinewidth": 0,
              "ticks": ""
             }
            },
            "type": "scatterpolar"
           }
          ],
          "scatterpolargl": [
           {
            "marker": {
             "colorbar": {
              "outlinewidth": 0,
              "ticks": ""
             }
            },
            "type": "scatterpolargl"
           }
          ],
          "scatterternary": [
           {
            "marker": {
             "colorbar": {
              "outlinewidth": 0,
              "ticks": ""
             }
            },
            "type": "scatterternary"
           }
          ],
          "surface": [
           {
            "colorbar": {
             "outlinewidth": 0,
             "ticks": ""
            },
            "colorscale": [
             [
              0,
              "#0d0887"
             ],
             [
              0.1111111111111111,
              "#46039f"
             ],
             [
              0.2222222222222222,
              "#7201a8"
             ],
             [
              0.3333333333333333,
              "#9c179e"
             ],
             [
              0.4444444444444444,
              "#bd3786"
             ],
             [
              0.5555555555555556,
              "#d8576b"
             ],
             [
              0.6666666666666666,
              "#ed7953"
             ],
             [
              0.7777777777777778,
              "#fb9f3a"
             ],
             [
              0.8888888888888888,
              "#fdca26"
             ],
             [
              1,
              "#f0f921"
             ]
            ],
            "type": "surface"
           }
          ],
          "table": [
           {
            "cells": {
             "fill": {
              "color": "#EBF0F8"
             },
             "line": {
              "color": "white"
             }
            },
            "header": {
             "fill": {
              "color": "#C8D4E3"
             },
             "line": {
              "color": "white"
             }
            },
            "type": "table"
           }
          ]
         },
         "layout": {
          "annotationdefaults": {
           "arrowcolor": "#2a3f5f",
           "arrowhead": 0,
           "arrowwidth": 1
          },
          "autotypenumbers": "strict",
          "coloraxis": {
           "colorbar": {
            "outlinewidth": 0,
            "ticks": ""
           }
          },
          "colorscale": {
           "diverging": [
            [
             0,
             "#8e0152"
            ],
            [
             0.1,
             "#c51b7d"
            ],
            [
             0.2,
             "#de77ae"
            ],
            [
             0.3,
             "#f1b6da"
            ],
            [
             0.4,
             "#fde0ef"
            ],
            [
             0.5,
             "#f7f7f7"
            ],
            [
             0.6,
             "#e6f5d0"
            ],
            [
             0.7,
             "#b8e186"
            ],
            [
             0.8,
             "#7fbc41"
            ],
            [
             0.9,
             "#4d9221"
            ],
            [
             1,
             "#276419"
            ]
           ],
           "sequential": [
            [
             0,
             "#0d0887"
            ],
            [
             0.1111111111111111,
             "#46039f"
            ],
            [
             0.2222222222222222,
             "#7201a8"
            ],
            [
             0.3333333333333333,
             "#9c179e"
            ],
            [
             0.4444444444444444,
             "#bd3786"
            ],
            [
             0.5555555555555556,
             "#d8576b"
            ],
            [
             0.6666666666666666,
             "#ed7953"
            ],
            [
             0.7777777777777778,
             "#fb9f3a"
            ],
            [
             0.8888888888888888,
             "#fdca26"
            ],
            [
             1,
             "#f0f921"
            ]
           ],
           "sequentialminus": [
            [
             0,
             "#0d0887"
            ],
            [
             0.1111111111111111,
             "#46039f"
            ],
            [
             0.2222222222222222,
             "#7201a8"
            ],
            [
             0.3333333333333333,
             "#9c179e"
            ],
            [
             0.4444444444444444,
             "#bd3786"
            ],
            [
             0.5555555555555556,
             "#d8576b"
            ],
            [
             0.6666666666666666,
             "#ed7953"
            ],
            [
             0.7777777777777778,
             "#fb9f3a"
            ],
            [
             0.8888888888888888,
             "#fdca26"
            ],
            [
             1,
             "#f0f921"
            ]
           ]
          },
          "colorway": [
           "#636efa",
           "#EF553B",
           "#00cc96",
           "#ab63fa",
           "#FFA15A",
           "#19d3f3",
           "#FF6692",
           "#B6E880",
           "#FF97FF",
           "#FECB52"
          ],
          "font": {
           "color": "#2a3f5f"
          },
          "geo": {
           "bgcolor": "white",
           "lakecolor": "white",
           "landcolor": "white",
           "showlakes": true,
           "showland": true,
           "subunitcolor": "#C8D4E3"
          },
          "hoverlabel": {
           "align": "left"
          },
          "hovermode": "closest",
          "mapbox": {
           "style": "light"
          },
          "paper_bgcolor": "white",
          "plot_bgcolor": "white",
          "polar": {
           "angularaxis": {
            "gridcolor": "#EBF0F8",
            "linecolor": "#EBF0F8",
            "ticks": ""
           },
           "bgcolor": "white",
           "radialaxis": {
            "gridcolor": "#EBF0F8",
            "linecolor": "#EBF0F8",
            "ticks": ""
           }
          },
          "scene": {
           "xaxis": {
            "backgroundcolor": "white",
            "gridcolor": "#DFE8F3",
            "gridwidth": 2,
            "linecolor": "#EBF0F8",
            "showbackground": true,
            "ticks": "",
            "zerolinecolor": "#EBF0F8"
           },
           "yaxis": {
            "backgroundcolor": "white",
            "gridcolor": "#DFE8F3",
            "gridwidth": 2,
            "linecolor": "#EBF0F8",
            "showbackground": true,
            "ticks": "",
            "zerolinecolor": "#EBF0F8"
           },
           "zaxis": {
            "backgroundcolor": "white",
            "gridcolor": "#DFE8F3",
            "gridwidth": 2,
            "linecolor": "#EBF0F8",
            "showbackground": true,
            "ticks": "",
            "zerolinecolor": "#EBF0F8"
           }
          },
          "shapedefaults": {
           "line": {
            "color": "#2a3f5f"
           }
          },
          "ternary": {
           "aaxis": {
            "gridcolor": "#DFE8F3",
            "linecolor": "#A2B1C6",
            "ticks": ""
           },
           "baxis": {
            "gridcolor": "#DFE8F3",
            "linecolor": "#A2B1C6",
            "ticks": ""
           },
           "bgcolor": "white",
           "caxis": {
            "gridcolor": "#DFE8F3",
            "linecolor": "#A2B1C6",
            "ticks": ""
           }
          },
          "title": {
           "x": 0.05
          },
          "xaxis": {
           "automargin": true,
           "gridcolor": "#EBF0F8",
           "linecolor": "#EBF0F8",
           "ticks": "",
           "title": {
            "standoff": 15
           },
           "zerolinecolor": "#EBF0F8",
           "zerolinewidth": 2
          },
          "yaxis": {
           "automargin": true,
           "gridcolor": "#EBF0F8",
           "linecolor": "#EBF0F8",
           "ticks": "",
           "title": {
            "standoff": 15
           },
           "zerolinecolor": "#EBF0F8",
           "zerolinewidth": 2
          }
         }
        },
        "title": {
         "text": "Airline passengers. Val error: 0.0010, Test error: 0.0188"
        },
        "xaxis": {
         "title": {
          "text": "Date"
         }
        },
        "yaxis": {
         "title": {
          "text": "Passengers"
         }
        }
       }
      }
     },
     "metadata": {},
     "output_type": "display_data"
    }
   ],
   "source": [
    "y_pred = predictor.predict(model=lstm, dataloader=data_module.test_dataloader)\n",
    "pred = pd.DataFrame(\n",
    "  y_pred.flatten(), index=test.index[seq_length:], columns=[\"passengers\"]\n",
    ")\n",
    "\n",
    "y_pred_val = predictor.predict(model=lstm, dataloader=data_module.val_dataloader)\n",
    "pred_val = pd.DataFrame(\n",
    "  y_pred_val.flatten(), index=val.index[seq_length:], columns=[\"passengers\"]\n",
    ")\n",
    "\n",
    "test_pred_error = ap.compute_pred_error(\n",
    "  y_pred=y_pred,\n",
    "  y_true=test[\"passengers\"].values,\n",
    "  loss_fn=loss_fn,\n",
    "  seq_length=seq_length,\n",
    ")\n",
    "val_pred_error = ap.compute_pred_error(\n",
    "  y_pred=y_pred_val,\n",
    "  y_true=val[\"passengers\"].values,\n",
    "  loss_fn=loss_fn,\n",
    "  seq_length=seq_length,\n",
    ")\n",
    "\n",
    "fig = ap.plot_tts(train=train, val=val, test=test)\n",
    "fig.add_trace(go.Scatter(x=pred.index, y=pred[\"passengers\"], name=\"pred\", mode=\"lines\"))\n",
    "fig.add_trace(\n",
    "  go.Scatter(x=pred_val.index, y=pred_val[\"passengers\"], name=\"pred_val\", mode=\"lines\")\n",
    ")\n",
    "# fig.update_layout(title=\"Passengers prediction\")\n",
    "fig.layout.title.text += f\". Val error: {val_pred_error:.4f}, Test error: {test_pred_error:.4f}\"\n",
    "fig\n"
   ]
  },
  {
   "attachments": {},
   "cell_type": "markdown",
   "metadata": {},
   "source": [
    "### Hyperparameter search\n",
    "We search for hyperparameters in a random search fashion. We use the validation set to evaluate the model.\n",
    "\n",
    "From previous search, we discarded SGD as it repeatedly yielded the worst results."
   ]
  },
  {
   "cell_type": "code",
   "execution_count": 17,
   "metadata": {},
   "outputs": [
    {
     "name": "stdout",
     "output_type": "stream",
     "text": [
      "--> Experiment 0, trial 0 Epoch 0: train loss 0.0234, val loss 0.0915\n",
      "Restoring model from epoch 18 ...\n",
      "Early stopping at epoch 98, best val loss 0.001351 (epoch 18)\n",
      "train error: 0.0020, val error: 0.0020, test error: 0.0138\n",
      "--> Experiment 1, trial 0 Epoch 0: train loss 0.0772, val loss 0.3585\n",
      "Restoring model from epoch 102 ...\n",
      "Early stopping at epoch 182, best val loss 0.000380 (epoch 102)\n",
      "train error: 0.0013, val error: 0.0007, test error: 0.0044\n",
      "--> Experiment 2, trial 0 Epoch 0: train loss 0.0871, val loss 0.4935\n",
      "Epoch 250: train loss 0.0013, val loss 0.0029\n",
      "Epoch 500: train loss 0.0009, val loss 0.0015\n",
      "Restoring model from epoch 592 ...\n",
      "Early stopping at epoch 672, best val loss 0.000876 (epoch 592)\n",
      "train error: 0.0012, val error: 0.0014, test error: 0.0069\n",
      "--> Experiment 3, trial 0 Epoch 0: train loss 0.1025, val loss 0.4322\n",
      "Epoch 250: train loss 0.0924, val loss 0.4018\n",
      "Epoch 500: train loss 0.0887, val loss 0.3894\n",
      "Epoch 750: train loss 0.0860, val loss 0.3801\n",
      "Epoch 1000: train loss 0.0839, val loss 0.3726\n",
      "Epoch 1250: train loss 0.0821, val loss 0.3661\n",
      "train error: 0.0806, val error: 0.3604, test error: 0.9786\n",
      "--> Experiment 4, trial 0 Epoch 0: train loss 0.1664, val loss 0.5829\n",
      "Epoch 250: train loss 0.0352, val loss 0.1388\n",
      "Epoch 500: train loss 0.0149, val loss 0.0673\n",
      "Epoch 750: train loss 0.0029, val loss 0.0137\n",
      "Epoch 1000: train loss 0.0012, val loss 0.0043\n",
      "Epoch 1250: train loss 0.0009, val loss 0.0032\n",
      "train error: 0.0007, val error: 0.0025, test error: 0.0079\n",
      "--> Experiment 5, trial 0 Epoch 0: train loss 0.1188, val loss 0.4572\n",
      "Epoch 250: train loss 0.0394, val loss 0.1369\n",
      "Epoch 500: train loss 0.0258, val loss 0.0916\n",
      "Epoch 750: train loss 0.0198, val loss 0.0662\n",
      "Epoch 1000: train loss 0.0131, val loss 0.0415\n",
      "Epoch 1250: train loss 0.0064, val loss 0.0236\n",
      "train error: 0.0085, val error: 0.0119, test error: 0.0098\n",
      "--> Experiment 6, trial 0 Epoch 0: train loss 0.0513, val loss 0.2372\n",
      "Epoch 250: train loss 0.0012, val loss 0.0013\n",
      "Restoring model from epoch 419 ...\n",
      "Early stopping at epoch 499, best val loss 0.000674 (epoch 419)\n",
      "train error: 0.0010, val error: 0.0011, test error: 0.0069\n",
      "--> Experiment 7, trial 0 Epoch 0: train loss 0.0526, val loss 0.2920\n",
      "Epoch 250: train loss 0.0022, val loss 0.0028\n",
      "Restoring model from epoch 232 ...\n",
      "Early stopping at epoch 312, best val loss 0.001755 (epoch 232)\n",
      "train error: 0.0018, val error: 0.0021, test error: 0.0086\n",
      "--> Experiment 8, trial 0 Epoch 0: train loss 0.1605, val loss 0.5574\n",
      "Restoring model from epoch 101 ...\n",
      "Early stopping at epoch 181, best val loss 0.001202 (epoch 101)\n",
      "train error: 0.0047, val error: 0.0041, test error: 0.0141\n",
      "--> Experiment 9, trial 0 Epoch 0: train loss 0.0334, val loss 0.0932\n",
      "Epoch 250: train loss 0.0018, val loss 0.0023\n",
      "Epoch 500: train loss 0.0016, val loss 0.0008\n",
      "Restoring model from epoch 591 ...\n",
      "Early stopping at epoch 671, best val loss 0.000684 (epoch 591)\n",
      "train error: 0.0012, val error: 0.0017, test error: 0.0116\n"
     ]
    }
   ],
   "source": [
    "hyperparameters_res = ap.hyperparameter_random_search(\n",
    "  train=train,\n",
    "  val=val,\n",
    "  test=test,\n",
    "  seq_length=1,\n",
    "  n_epochs=1500,\n",
    "  batch_sizes=[4, 8, 16, 32],\n",
    "  patience=80,\n",
    "  n_experiments=10,\n",
    "  n_trials=1,\n",
    "  lr_list=[0.00005, 0.0001, 0.001],\n",
    "  optimizer_list=[optim.AdamW, optim.RMSprop, optim.Adagrad, optim.Adam],\n",
    "  lstm_list_hidden_sizes=[50, 100, 200],\n",
    "  lstm_list_dropout=[0.1, 0.2, 0.3],\n",
    "  lstm_list_num_layers=[1, 2, 3],\n",
    "  fc_list_sizes=[[50, 10], [50, 20, 10], [100, 50, 10], [200, 100, 50, 10]],\n",
    ")\n"
   ]
  },
  {
   "attachments": {},
   "cell_type": "markdown",
   "metadata": {},
   "source": [
    "Here are the best hyperparameters found with respect to the validation loss:"
   ]
  },
  {
   "cell_type": "code",
   "execution_count": 18,
   "metadata": {},
   "outputs": [
    {
     "data": {
      "text/html": [
       "<div>\n",
       "<style scoped>\n",
       "    .dataframe tbody tr th:only-of-type {\n",
       "        vertical-align: middle;\n",
       "    }\n",
       "\n",
       "    .dataframe tbody tr th {\n",
       "        vertical-align: top;\n",
       "    }\n",
       "\n",
       "    .dataframe thead th {\n",
       "        text-align: right;\n",
       "    }\n",
       "</style>\n",
       "<table border=\"1\" class=\"dataframe\">\n",
       "  <thead>\n",
       "    <tr style=\"text-align: right;\">\n",
       "      <th></th>\n",
       "      <th>test_error</th>\n",
       "      <th>val_error</th>\n",
       "      <th>train_error</th>\n",
       "      <th>experiment</th>\n",
       "      <th>trial</th>\n",
       "      <th>lr</th>\n",
       "      <th>opt</th>\n",
       "      <th>batch_size</th>\n",
       "      <th>lstm_hidden_size</th>\n",
       "      <th>lstm_dropout</th>\n",
       "      <th>lstm_num_layers</th>\n",
       "      <th>fc_sizes</th>\n",
       "    </tr>\n",
       "  </thead>\n",
       "  <tbody>\n",
       "    <tr>\n",
       "      <th>1</th>\n",
       "      <td>0.004380</td>\n",
       "      <td>0.000709</td>\n",
       "      <td>0.001347</td>\n",
       "      <td>1</td>\n",
       "      <td>0</td>\n",
       "      <td>0.00100</td>\n",
       "      <td>&lt;class 'torch.optim.adam.Adam'&gt;</td>\n",
       "      <td>8</td>\n",
       "      <td>200</td>\n",
       "      <td>0.2</td>\n",
       "      <td>2</td>\n",
       "      <td>[50, 10]</td>\n",
       "    </tr>\n",
       "    <tr>\n",
       "      <th>6</th>\n",
       "      <td>0.006914</td>\n",
       "      <td>0.001110</td>\n",
       "      <td>0.000979</td>\n",
       "      <td>6</td>\n",
       "      <td>0</td>\n",
       "      <td>0.00010</td>\n",
       "      <td>&lt;class 'torch.optim.rmsprop.RMSprop'&gt;</td>\n",
       "      <td>16</td>\n",
       "      <td>200</td>\n",
       "      <td>0.2</td>\n",
       "      <td>2</td>\n",
       "      <td>[50, 20, 10]</td>\n",
       "    </tr>\n",
       "    <tr>\n",
       "      <th>2</th>\n",
       "      <td>0.006855</td>\n",
       "      <td>0.001388</td>\n",
       "      <td>0.001155</td>\n",
       "      <td>2</td>\n",
       "      <td>0</td>\n",
       "      <td>0.00005</td>\n",
       "      <td>&lt;class 'torch.optim.adam.Adam'&gt;</td>\n",
       "      <td>8</td>\n",
       "      <td>200</td>\n",
       "      <td>0.2</td>\n",
       "      <td>2</td>\n",
       "      <td>[100, 50, 10]</td>\n",
       "    </tr>\n",
       "    <tr>\n",
       "      <th>9</th>\n",
       "      <td>0.011575</td>\n",
       "      <td>0.001689</td>\n",
       "      <td>0.001209</td>\n",
       "      <td>9</td>\n",
       "      <td>0</td>\n",
       "      <td>0.00010</td>\n",
       "      <td>&lt;class 'torch.optim.rmsprop.RMSprop'&gt;</td>\n",
       "      <td>4</td>\n",
       "      <td>50</td>\n",
       "      <td>0.1</td>\n",
       "      <td>3</td>\n",
       "      <td>[200, 100, 50, 10]</td>\n",
       "    </tr>\n",
       "    <tr>\n",
       "      <th>0</th>\n",
       "      <td>0.013811</td>\n",
       "      <td>0.001953</td>\n",
       "      <td>0.001974</td>\n",
       "      <td>0</td>\n",
       "      <td>0</td>\n",
       "      <td>0.00100</td>\n",
       "      <td>&lt;class 'torch.optim.rmsprop.RMSprop'&gt;</td>\n",
       "      <td>4</td>\n",
       "      <td>200</td>\n",
       "      <td>0.2</td>\n",
       "      <td>2</td>\n",
       "      <td>[50, 10]</td>\n",
       "    </tr>\n",
       "    <tr>\n",
       "      <th>7</th>\n",
       "      <td>0.008579</td>\n",
       "      <td>0.002080</td>\n",
       "      <td>0.001802</td>\n",
       "      <td>7</td>\n",
       "      <td>0</td>\n",
       "      <td>0.00100</td>\n",
       "      <td>&lt;class 'torch.optim.adagrad.Adagrad'&gt;</td>\n",
       "      <td>8</td>\n",
       "      <td>200</td>\n",
       "      <td>0.3</td>\n",
       "      <td>3</td>\n",
       "      <td>[200, 100, 50, 10]</td>\n",
       "    </tr>\n",
       "    <tr>\n",
       "      <th>4</th>\n",
       "      <td>0.007901</td>\n",
       "      <td>0.002486</td>\n",
       "      <td>0.000734</td>\n",
       "      <td>4</td>\n",
       "      <td>0</td>\n",
       "      <td>0.00005</td>\n",
       "      <td>&lt;class 'torch.optim.rmsprop.RMSprop'&gt;</td>\n",
       "      <td>32</td>\n",
       "      <td>50</td>\n",
       "      <td>0.0</td>\n",
       "      <td>1</td>\n",
       "      <td>[50, 10]</td>\n",
       "    </tr>\n",
       "    <tr>\n",
       "      <th>8</th>\n",
       "      <td>0.014078</td>\n",
       "      <td>0.004056</td>\n",
       "      <td>0.004696</td>\n",
       "      <td>8</td>\n",
       "      <td>0</td>\n",
       "      <td>0.00100</td>\n",
       "      <td>&lt;class 'torch.optim.adam.Adam'&gt;</td>\n",
       "      <td>32</td>\n",
       "      <td>50</td>\n",
       "      <td>0.3</td>\n",
       "      <td>3</td>\n",
       "      <td>[50, 10]</td>\n",
       "    </tr>\n",
       "    <tr>\n",
       "      <th>5</th>\n",
       "      <td>0.009827</td>\n",
       "      <td>0.011909</td>\n",
       "      <td>0.008454</td>\n",
       "      <td>5</td>\n",
       "      <td>0</td>\n",
       "      <td>0.00100</td>\n",
       "      <td>&lt;class 'torch.optim.adagrad.Adagrad'&gt;</td>\n",
       "      <td>32</td>\n",
       "      <td>100</td>\n",
       "      <td>0.3</td>\n",
       "      <td>3</td>\n",
       "      <td>[50, 20, 10]</td>\n",
       "    </tr>\n",
       "    <tr>\n",
       "      <th>3</th>\n",
       "      <td>0.978642</td>\n",
       "      <td>0.360367</td>\n",
       "      <td>0.080580</td>\n",
       "      <td>3</td>\n",
       "      <td>0</td>\n",
       "      <td>0.00005</td>\n",
       "      <td>&lt;class 'torch.optim.adagrad.Adagrad'&gt;</td>\n",
       "      <td>32</td>\n",
       "      <td>50</td>\n",
       "      <td>0.2</td>\n",
       "      <td>3</td>\n",
       "      <td>[50, 10]</td>\n",
       "    </tr>\n",
       "  </tbody>\n",
       "</table>\n",
       "</div>"
      ],
      "text/plain": [
       "   test_error  val_error  train_error experiment trial       lr  \\\n",
       "1    0.004380   0.000709     0.001347          1     0  0.00100   \n",
       "6    0.006914   0.001110     0.000979          6     0  0.00010   \n",
       "2    0.006855   0.001388     0.001155          2     0  0.00005   \n",
       "9    0.011575   0.001689     0.001209          9     0  0.00010   \n",
       "0    0.013811   0.001953     0.001974          0     0  0.00100   \n",
       "7    0.008579   0.002080     0.001802          7     0  0.00100   \n",
       "4    0.007901   0.002486     0.000734          4     0  0.00005   \n",
       "8    0.014078   0.004056     0.004696          8     0  0.00100   \n",
       "5    0.009827   0.011909     0.008454          5     0  0.00100   \n",
       "3    0.978642   0.360367     0.080580          3     0  0.00005   \n",
       "\n",
       "                                     opt batch_size lstm_hidden_size  \\\n",
       "1        <class 'torch.optim.adam.Adam'>          8              200   \n",
       "6  <class 'torch.optim.rmsprop.RMSprop'>         16              200   \n",
       "2        <class 'torch.optim.adam.Adam'>          8              200   \n",
       "9  <class 'torch.optim.rmsprop.RMSprop'>          4               50   \n",
       "0  <class 'torch.optim.rmsprop.RMSprop'>          4              200   \n",
       "7  <class 'torch.optim.adagrad.Adagrad'>          8              200   \n",
       "4  <class 'torch.optim.rmsprop.RMSprop'>         32               50   \n",
       "8        <class 'torch.optim.adam.Adam'>         32               50   \n",
       "5  <class 'torch.optim.adagrad.Adagrad'>         32              100   \n",
       "3  <class 'torch.optim.adagrad.Adagrad'>         32               50   \n",
       "\n",
       "   lstm_dropout lstm_num_layers            fc_sizes  \n",
       "1           0.2               2            [50, 10]  \n",
       "6           0.2               2        [50, 20, 10]  \n",
       "2           0.2               2       [100, 50, 10]  \n",
       "9           0.1               3  [200, 100, 50, 10]  \n",
       "0           0.2               2            [50, 10]  \n",
       "7           0.3               3  [200, 100, 50, 10]  \n",
       "4           0.0               1            [50, 10]  \n",
       "8           0.3               3            [50, 10]  \n",
       "5           0.3               3        [50, 20, 10]  \n",
       "3           0.2               3            [50, 10]  "
      ]
     },
     "execution_count": 18,
     "metadata": {},
     "output_type": "execute_result"
    }
   ],
   "source": [
    "hyperparameters_res.sort_values(by=\"val_error\")"
   ]
  },
  {
   "cell_type": "code",
   "execution_count": 19,
   "metadata": {},
   "outputs": [
    {
     "name": "stdout",
     "output_type": "stream",
     "text": [
      "Epoch 0: train loss 0.0771, val loss 0.4555\n",
      "Epoch 10: train loss 0.0512, val loss 0.3278\n",
      "Epoch 20: train loss 0.0397, val loss 0.2203\n",
      "Epoch 30: train loss 0.0324, val loss 0.1727\n",
      "Epoch 40: train loss 0.0249, val loss 0.1332\n",
      "Epoch 50: train loss 0.0169, val loss 0.0943\n",
      "Epoch 60: train loss 0.0108, val loss 0.0569\n",
      "Epoch 70: train loss 0.0054, val loss 0.0248\n",
      "Epoch 80: train loss 0.0025, val loss 0.0085\n",
      "EarlyStopping counter: 1 / 120\n",
      "Epoch 90: train loss 0.0015, val loss 0.0035\n",
      "EarlyStopping counter: 2 / 120\n",
      "EarlyStopping counter: 3 / 120\n",
      "EarlyStopping counter: 4 / 120\n",
      "EarlyStopping counter: 5 / 120\n",
      "EarlyStopping counter: 1 / 120\n",
      "EarlyStopping counter: 2 / 120\n",
      "EarlyStopping counter: 3 / 120\n",
      "EarlyStopping counter: 4 / 120\n",
      "Epoch 100: train loss 0.0016, val loss 0.0027\n",
      "EarlyStopping counter: 1 / 120\n",
      "EarlyStopping counter: 2 / 120\n",
      "EarlyStopping counter: 3 / 120\n",
      "EarlyStopping counter: 4 / 120\n",
      "EarlyStopping counter: 5 / 120\n",
      "EarlyStopping counter: 1 / 120\n",
      "EarlyStopping counter: 1 / 120\n",
      "Epoch 110: train loss 0.0010, val loss 0.0022\n",
      "EarlyStopping counter: 2 / 120\n",
      "EarlyStopping counter: 3 / 120\n",
      "EarlyStopping counter: 1 / 120\n",
      "EarlyStopping counter: 2 / 120\n",
      "EarlyStopping counter: 3 / 120\n",
      "EarlyStopping counter: 4 / 120\n",
      "EarlyStopping counter: 5 / 120\n",
      "EarlyStopping counter: 6 / 120\n",
      "Epoch 120: train loss 0.0013, val loss 0.0021\n",
      "EarlyStopping counter: 7 / 120\n",
      "EarlyStopping counter: 8 / 120\n",
      "EarlyStopping counter: 9 / 120\n",
      "EarlyStopping counter: 10 / 120\n",
      "EarlyStopping counter: 11 / 120\n",
      "EarlyStopping counter: 12 / 120\n",
      "EarlyStopping counter: 13 / 120\n",
      "EarlyStopping counter: 14 / 120\n",
      "EarlyStopping counter: 15 / 120\n",
      "EarlyStopping counter: 16 / 120\n",
      "Epoch 130: train loss 0.0013, val loss 0.0019\n",
      "EarlyStopping counter: 17 / 120\n",
      "EarlyStopping counter: 18 / 120\n",
      "EarlyStopping counter: 19 / 120\n",
      "EarlyStopping counter: 20 / 120\n",
      "EarlyStopping counter: 21 / 120\n",
      "EarlyStopping counter: 22 / 120\n",
      "EarlyStopping counter: 23 / 120\n",
      "EarlyStopping counter: 24 / 120\n",
      "EarlyStopping counter: 25 / 120\n",
      "EarlyStopping counter: 26 / 120\n",
      "Epoch 140: train loss 0.0014, val loss 0.0023\n",
      "EarlyStopping counter: 27 / 120\n",
      "EarlyStopping counter: 28 / 120\n",
      "EarlyStopping counter: 29 / 120\n",
      "EarlyStopping counter: 30 / 120\n",
      "EarlyStopping counter: 31 / 120\n",
      "EarlyStopping counter: 32 / 120\n",
      "EarlyStopping counter: 33 / 120\n",
      "EarlyStopping counter: 34 / 120\n",
      "EarlyStopping counter: 35 / 120\n",
      "EarlyStopping counter: 36 / 120\n",
      "Epoch 150: train loss 0.0011, val loss 0.0019\n",
      "EarlyStopping counter: 1 / 120\n",
      "EarlyStopping counter: 2 / 120\n",
      "EarlyStopping counter: 3 / 120\n",
      "EarlyStopping counter: 4 / 120\n",
      "EarlyStopping counter: 5 / 120\n",
      "EarlyStopping counter: 6 / 120\n",
      "EarlyStopping counter: 7 / 120\n",
      "EarlyStopping counter: 8 / 120\n",
      "Epoch 160: train loss 0.0012, val loss 0.0018\n",
      "EarlyStopping counter: 9 / 120\n",
      "EarlyStopping counter: 10 / 120\n",
      "EarlyStopping counter: 11 / 120\n",
      "EarlyStopping counter: 1 / 120\n",
      "EarlyStopping counter: 2 / 120\n",
      "EarlyStopping counter: 3 / 120\n",
      "EarlyStopping counter: 4 / 120\n",
      "EarlyStopping counter: 5 / 120\n",
      "EarlyStopping counter: 6 / 120\n",
      "Epoch 170: train loss 0.0012, val loss 0.0019\n",
      "EarlyStopping counter: 7 / 120\n",
      "EarlyStopping counter: 8 / 120\n",
      "EarlyStopping counter: 9 / 120\n",
      "EarlyStopping counter: 10 / 120\n",
      "EarlyStopping counter: 11 / 120\n",
      "EarlyStopping counter: 12 / 120\n",
      "EarlyStopping counter: 13 / 120\n",
      "EarlyStopping counter: 14 / 120\n",
      "EarlyStopping counter: 1 / 120\n",
      "Epoch 180: train loss 0.0011, val loss 0.0015\n",
      "EarlyStopping counter: 2 / 120\n",
      "EarlyStopping counter: 3 / 120\n",
      "EarlyStopping counter: 4 / 120\n",
      "EarlyStopping counter: 5 / 120\n",
      "EarlyStopping counter: 6 / 120\n",
      "EarlyStopping counter: 7 / 120\n",
      "EarlyStopping counter: 8 / 120\n",
      "EarlyStopping counter: 9 / 120\n",
      "EarlyStopping counter: 10 / 120\n",
      "EarlyStopping counter: 11 / 120\n",
      "Epoch 190: train loss 0.0014, val loss 0.0016\n",
      "EarlyStopping counter: 12 / 120\n",
      "EarlyStopping counter: 13 / 120\n",
      "EarlyStopping counter: 14 / 120\n",
      "EarlyStopping counter: 15 / 120\n",
      "EarlyStopping counter: 16 / 120\n",
      "EarlyStopping counter: 17 / 120\n",
      "EarlyStopping counter: 18 / 120\n",
      "EarlyStopping counter: 19 / 120\n",
      "EarlyStopping counter: 20 / 120\n",
      "EarlyStopping counter: 21 / 120\n",
      "Epoch 200: train loss 0.0012, val loss 0.0013\n",
      "EarlyStopping counter: 22 / 120\n",
      "EarlyStopping counter: 23 / 120\n",
      "EarlyStopping counter: 24 / 120\n",
      "EarlyStopping counter: 25 / 120\n",
      "EarlyStopping counter: 26 / 120\n",
      "EarlyStopping counter: 1 / 120\n",
      "EarlyStopping counter: 2 / 120\n",
      "EarlyStopping counter: 3 / 120\n",
      "Epoch 210: train loss 0.0012, val loss 0.0016\n",
      "EarlyStopping counter: 4 / 120\n",
      "EarlyStopping counter: 5 / 120\n",
      "EarlyStopping counter: 6 / 120\n",
      "EarlyStopping counter: 7 / 120\n",
      "EarlyStopping counter: 8 / 120\n",
      "EarlyStopping counter: 9 / 120\n",
      "EarlyStopping counter: 10 / 120\n",
      "EarlyStopping counter: 11 / 120\n",
      "EarlyStopping counter: 12 / 120\n",
      "EarlyStopping counter: 13 / 120\n",
      "Epoch 220: train loss 0.0012, val loss 0.0016\n",
      "EarlyStopping counter: 14 / 120\n",
      "EarlyStopping counter: 15 / 120\n",
      "EarlyStopping counter: 16 / 120\n",
      "EarlyStopping counter: 17 / 120\n",
      "EarlyStopping counter: 18 / 120\n",
      "EarlyStopping counter: 19 / 120\n",
      "EarlyStopping counter: 20 / 120\n",
      "EarlyStopping counter: 21 / 120\n",
      "EarlyStopping counter: 22 / 120\n",
      "EarlyStopping counter: 23 / 120\n",
      "Epoch 230: train loss 0.0015, val loss 0.0021\n",
      "EarlyStopping counter: 24 / 120\n",
      "EarlyStopping counter: 25 / 120\n",
      "EarlyStopping counter: 26 / 120\n",
      "EarlyStopping counter: 27 / 120\n",
      "EarlyStopping counter: 28 / 120\n",
      "EarlyStopping counter: 29 / 120\n",
      "EarlyStopping counter: 30 / 120\n",
      "EarlyStopping counter: 31 / 120\n",
      "EarlyStopping counter: 32 / 120\n",
      "EarlyStopping counter: 33 / 120\n",
      "Epoch 240: train loss 0.0010, val loss 0.0013\n",
      "EarlyStopping counter: 34 / 120\n",
      "EarlyStopping counter: 35 / 120\n",
      "EarlyStopping counter: 36 / 120\n",
      "EarlyStopping counter: 37 / 120\n",
      "EarlyStopping counter: 38 / 120\n",
      "EarlyStopping counter: 39 / 120\n",
      "EarlyStopping counter: 40 / 120\n",
      "EarlyStopping counter: 41 / 120\n",
      "EarlyStopping counter: 42 / 120\n",
      "EarlyStopping counter: 43 / 120\n",
      "Epoch 250: train loss 0.0011, val loss 0.0011\n",
      "EarlyStopping counter: 44 / 120\n",
      "EarlyStopping counter: 45 / 120\n",
      "EarlyStopping counter: 46 / 120\n",
      "EarlyStopping counter: 47 / 120\n",
      "EarlyStopping counter: 48 / 120\n",
      "EarlyStopping counter: 49 / 120\n",
      "EarlyStopping counter: 50 / 120\n",
      "EarlyStopping counter: 51 / 120\n",
      "EarlyStopping counter: 52 / 120\n",
      "EarlyStopping counter: 53 / 120\n",
      "Epoch 260: train loss 0.0014, val loss 0.0011\n",
      "EarlyStopping counter: 1 / 120\n",
      "EarlyStopping counter: 2 / 120\n",
      "EarlyStopping counter: 3 / 120\n",
      "EarlyStopping counter: 4 / 120\n",
      "EarlyStopping counter: 5 / 120\n",
      "EarlyStopping counter: 6 / 120\n",
      "EarlyStopping counter: 7 / 120\n",
      "EarlyStopping counter: 8 / 120\n",
      "EarlyStopping counter: 9 / 120\n",
      "Epoch 270: train loss 0.0011, val loss 0.0013\n",
      "EarlyStopping counter: 10 / 120\n",
      "EarlyStopping counter: 11 / 120\n",
      "EarlyStopping counter: 12 / 120\n",
      "EarlyStopping counter: 13 / 120\n",
      "EarlyStopping counter: 14 / 120\n",
      "EarlyStopping counter: 15 / 120\n",
      "EarlyStopping counter: 16 / 120\n",
      "EarlyStopping counter: 17 / 120\n",
      "EarlyStopping counter: 18 / 120\n",
      "EarlyStopping counter: 19 / 120\n",
      "Epoch 280: train loss 0.0012, val loss 0.0012\n",
      "EarlyStopping counter: 20 / 120\n",
      "EarlyStopping counter: 21 / 120\n",
      "EarlyStopping counter: 22 / 120\n",
      "EarlyStopping counter: 23 / 120\n",
      "EarlyStopping counter: 24 / 120\n",
      "EarlyStopping counter: 25 / 120\n",
      "EarlyStopping counter: 26 / 120\n",
      "EarlyStopping counter: 27 / 120\n",
      "EarlyStopping counter: 28 / 120\n",
      "EarlyStopping counter: 29 / 120\n",
      "Epoch 290: train loss 0.0013, val loss 0.0019\n",
      "EarlyStopping counter: 30 / 120\n",
      "EarlyStopping counter: 1 / 120\n",
      "EarlyStopping counter: 2 / 120\n",
      "EarlyStopping counter: 3 / 120\n",
      "EarlyStopping counter: 4 / 120\n",
      "EarlyStopping counter: 5 / 120\n",
      "EarlyStopping counter: 6 / 120\n",
      "EarlyStopping counter: 7 / 120\n",
      "EarlyStopping counter: 8 / 120\n",
      "Epoch 300: train loss 0.0010, val loss 0.0011\n",
      "EarlyStopping counter: 9 / 120\n",
      "EarlyStopping counter: 10 / 120\n",
      "EarlyStopping counter: 11 / 120\n",
      "EarlyStopping counter: 12 / 120\n",
      "EarlyStopping counter: 1 / 120\n",
      "EarlyStopping counter: 2 / 120\n",
      "EarlyStopping counter: 3 / 120\n",
      "EarlyStopping counter: 4 / 120\n",
      "EarlyStopping counter: 5 / 120\n",
      "Epoch 310: train loss 0.0013, val loss 0.0014\n",
      "EarlyStopping counter: 6 / 120\n",
      "EarlyStopping counter: 7 / 120\n",
      "EarlyStopping counter: 8 / 120\n",
      "EarlyStopping counter: 9 / 120\n",
      "EarlyStopping counter: 10 / 120\n",
      "EarlyStopping counter: 11 / 120\n",
      "EarlyStopping counter: 12 / 120\n",
      "EarlyStopping counter: 13 / 120\n",
      "EarlyStopping counter: 14 / 120\n",
      "EarlyStopping counter: 15 / 120\n",
      "Epoch 320: train loss 0.0011, val loss 0.0014\n",
      "EarlyStopping counter: 16 / 120\n",
      "EarlyStopping counter: 17 / 120\n",
      "EarlyStopping counter: 18 / 120\n",
      "EarlyStopping counter: 19 / 120\n",
      "EarlyStopping counter: 20 / 120\n",
      "EarlyStopping counter: 21 / 120\n",
      "EarlyStopping counter: 22 / 120\n",
      "EarlyStopping counter: 23 / 120\n",
      "EarlyStopping counter: 24 / 120\n",
      "EarlyStopping counter: 25 / 120\n",
      "Epoch 330: train loss 0.0009, val loss 0.0016\n",
      "EarlyStopping counter: 26 / 120\n",
      "EarlyStopping counter: 27 / 120\n",
      "EarlyStopping counter: 28 / 120\n",
      "EarlyStopping counter: 29 / 120\n",
      "EarlyStopping counter: 30 / 120\n",
      "EarlyStopping counter: 31 / 120\n",
      "EarlyStopping counter: 32 / 120\n",
      "EarlyStopping counter: 33 / 120\n",
      "EarlyStopping counter: 34 / 120\n",
      "EarlyStopping counter: 35 / 120\n",
      "Epoch 340: train loss 0.0009, val loss 0.0016\n",
      "EarlyStopping counter: 36 / 120\n",
      "EarlyStopping counter: 37 / 120\n",
      "EarlyStopping counter: 38 / 120\n",
      "EarlyStopping counter: 39 / 120\n",
      "EarlyStopping counter: 40 / 120\n",
      "EarlyStopping counter: 41 / 120\n",
      "EarlyStopping counter: 42 / 120\n",
      "EarlyStopping counter: 43 / 120\n",
      "EarlyStopping counter: 44 / 120\n",
      "EarlyStopping counter: 45 / 120\n",
      "Epoch 350: train loss 0.0010, val loss 0.0011\n",
      "EarlyStopping counter: 46 / 120\n",
      "EarlyStopping counter: 47 / 120\n",
      "EarlyStopping counter: 48 / 120\n",
      "EarlyStopping counter: 49 / 120\n",
      "EarlyStopping counter: 50 / 120\n",
      "EarlyStopping counter: 51 / 120\n",
      "EarlyStopping counter: 52 / 120\n",
      "EarlyStopping counter: 53 / 120\n",
      "EarlyStopping counter: 54 / 120\n",
      "EarlyStopping counter: 55 / 120\n",
      "Epoch 360: train loss 0.0010, val loss 0.0015\n",
      "EarlyStopping counter: 56 / 120\n",
      "EarlyStopping counter: 57 / 120\n",
      "EarlyStopping counter: 58 / 120\n",
      "EarlyStopping counter: 59 / 120\n",
      "EarlyStopping counter: 60 / 120\n",
      "EarlyStopping counter: 61 / 120\n",
      "EarlyStopping counter: 62 / 120\n",
      "EarlyStopping counter: 63 / 120\n",
      "EarlyStopping counter: 64 / 120\n",
      "EarlyStopping counter: 65 / 120\n",
      "Epoch 370: train loss 0.0009, val loss 0.0013\n",
      "EarlyStopping counter: 66 / 120\n",
      "EarlyStopping counter: 67 / 120\n",
      "EarlyStopping counter: 68 / 120\n",
      "EarlyStopping counter: 69 / 120\n",
      "EarlyStopping counter: 70 / 120\n",
      "EarlyStopping counter: 71 / 120\n",
      "EarlyStopping counter: 72 / 120\n",
      "EarlyStopping counter: 73 / 120\n",
      "EarlyStopping counter: 74 / 120\n",
      "EarlyStopping counter: 75 / 120\n",
      "Epoch 380: train loss 0.0011, val loss 0.0013\n",
      "EarlyStopping counter: 76 / 120\n",
      "EarlyStopping counter: 77 / 120\n",
      "EarlyStopping counter: 78 / 120\n",
      "EarlyStopping counter: 79 / 120\n",
      "EarlyStopping counter: 80 / 120\n",
      "EarlyStopping counter: 81 / 120\n",
      "EarlyStopping counter: 82 / 120\n",
      "EarlyStopping counter: 83 / 120\n",
      "EarlyStopping counter: 84 / 120\n",
      "EarlyStopping counter: 85 / 120\n",
      "Epoch 390: train loss 0.0012, val loss 0.0015\n",
      "EarlyStopping counter: 86 / 120\n",
      "EarlyStopping counter: 87 / 120\n",
      "EarlyStopping counter: 88 / 120\n",
      "EarlyStopping counter: 89 / 120\n",
      "EarlyStopping counter: 90 / 120\n",
      "EarlyStopping counter: 91 / 120\n",
      "EarlyStopping counter: 92 / 120\n",
      "EarlyStopping counter: 93 / 120\n",
      "EarlyStopping counter: 94 / 120\n",
      "EarlyStopping counter: 95 / 120\n",
      "Epoch 400: train loss 0.0012, val loss 0.0017\n",
      "EarlyStopping counter: 96 / 120\n",
      "EarlyStopping counter: 97 / 120\n",
      "EarlyStopping counter: 98 / 120\n",
      "EarlyStopping counter: 99 / 120\n",
      "EarlyStopping counter: 100 / 120\n",
      "EarlyStopping counter: 101 / 120\n",
      "EarlyStopping counter: 102 / 120\n",
      "EarlyStopping counter: 103 / 120\n",
      "EarlyStopping counter: 104 / 120\n",
      "EarlyStopping counter: 105 / 120\n",
      "Epoch 410: train loss 0.0010, val loss 0.0014\n",
      "EarlyStopping counter: 106 / 120\n",
      "EarlyStopping counter: 107 / 120\n",
      "EarlyStopping counter: 108 / 120\n",
      "EarlyStopping counter: 109 / 120\n",
      "EarlyStopping counter: 110 / 120\n",
      "EarlyStopping counter: 111 / 120\n",
      "EarlyStopping counter: 112 / 120\n",
      "EarlyStopping counter: 113 / 120\n",
      "EarlyStopping counter: 114 / 120\n",
      "EarlyStopping counter: 115 / 120\n",
      "Epoch 420: train loss 0.0009, val loss 0.0011\n",
      "EarlyStopping counter: 116 / 120\n",
      "EarlyStopping counter: 117 / 120\n",
      "EarlyStopping counter: 1 / 120\n",
      "EarlyStopping counter: 2 / 120\n",
      "EarlyStopping counter: 3 / 120\n",
      "EarlyStopping counter: 4 / 120\n",
      "EarlyStopping counter: 5 / 120\n",
      "EarlyStopping counter: 6 / 120\n",
      "EarlyStopping counter: 7 / 120\n",
      "Epoch 430: train loss 0.0011, val loss 0.0012\n",
      "EarlyStopping counter: 8 / 120\n",
      "EarlyStopping counter: 9 / 120\n",
      "EarlyStopping counter: 10 / 120\n",
      "EarlyStopping counter: 11 / 120\n",
      "EarlyStopping counter: 12 / 120\n",
      "EarlyStopping counter: 13 / 120\n",
      "EarlyStopping counter: 14 / 120\n",
      "EarlyStopping counter: 15 / 120\n",
      "EarlyStopping counter: 16 / 120\n",
      "EarlyStopping counter: 17 / 120\n",
      "Epoch 440: train loss 0.0009, val loss 0.0012\n",
      "EarlyStopping counter: 18 / 120\n",
      "EarlyStopping counter: 19 / 120\n",
      "EarlyStopping counter: 20 / 120\n",
      "EarlyStopping counter: 21 / 120\n",
      "EarlyStopping counter: 22 / 120\n",
      "EarlyStopping counter: 23 / 120\n",
      "EarlyStopping counter: 24 / 120\n",
      "EarlyStopping counter: 25 / 120\n",
      "EarlyStopping counter: 26 / 120\n",
      "EarlyStopping counter: 27 / 120\n",
      "Epoch 450: train loss 0.0010, val loss 0.0009\n",
      "EarlyStopping counter: 28 / 120\n",
      "EarlyStopping counter: 29 / 120\n",
      "EarlyStopping counter: 30 / 120\n",
      "EarlyStopping counter: 31 / 120\n",
      "EarlyStopping counter: 32 / 120\n",
      "EarlyStopping counter: 33 / 120\n",
      "EarlyStopping counter: 34 / 120\n",
      "EarlyStopping counter: 35 / 120\n",
      "EarlyStopping counter: 36 / 120\n",
      "EarlyStopping counter: 37 / 120\n",
      "Epoch 460: train loss 0.0011, val loss 0.0020\n",
      "EarlyStopping counter: 38 / 120\n",
      "EarlyStopping counter: 39 / 120\n",
      "EarlyStopping counter: 40 / 120\n",
      "EarlyStopping counter: 41 / 120\n",
      "EarlyStopping counter: 42 / 120\n",
      "EarlyStopping counter: 43 / 120\n",
      "EarlyStopping counter: 44 / 120\n",
      "EarlyStopping counter: 45 / 120\n",
      "EarlyStopping counter: 46 / 120\n",
      "EarlyStopping counter: 47 / 120\n",
      "Epoch 470: train loss 0.0008, val loss 0.0016\n",
      "EarlyStopping counter: 48 / 120\n",
      "EarlyStopping counter: 49 / 120\n",
      "EarlyStopping counter: 50 / 120\n",
      "EarlyStopping counter: 51 / 120\n",
      "EarlyStopping counter: 52 / 120\n",
      "EarlyStopping counter: 53 / 120\n",
      "EarlyStopping counter: 54 / 120\n",
      "EarlyStopping counter: 55 / 120\n",
      "EarlyStopping counter: 56 / 120\n",
      "EarlyStopping counter: 57 / 120\n",
      "Epoch 480: train loss 0.0008, val loss 0.0013\n",
      "EarlyStopping counter: 58 / 120\n",
      "EarlyStopping counter: 59 / 120\n",
      "EarlyStopping counter: 60 / 120\n",
      "EarlyStopping counter: 61 / 120\n",
      "EarlyStopping counter: 62 / 120\n",
      "EarlyStopping counter: 63 / 120\n",
      "EarlyStopping counter: 64 / 120\n",
      "EarlyStopping counter: 65 / 120\n",
      "EarlyStopping counter: 66 / 120\n",
      "EarlyStopping counter: 67 / 120\n",
      "Epoch 490: train loss 0.0010, val loss 0.0014\n",
      "EarlyStopping counter: 68 / 120\n",
      "EarlyStopping counter: 69 / 120\n",
      "EarlyStopping counter: 70 / 120\n",
      "EarlyStopping counter: 71 / 120\n",
      "EarlyStopping counter: 72 / 120\n",
      "EarlyStopping counter: 73 / 120\n",
      "EarlyStopping counter: 74 / 120\n",
      "EarlyStopping counter: 75 / 120\n",
      "EarlyStopping counter: 76 / 120\n",
      "EarlyStopping counter: 77 / 120\n",
      "Epoch 500: train loss 0.0013, val loss 0.0017\n",
      "EarlyStopping counter: 78 / 120\n",
      "EarlyStopping counter: 79 / 120\n",
      "EarlyStopping counter: 80 / 120\n",
      "EarlyStopping counter: 81 / 120\n",
      "EarlyStopping counter: 82 / 120\n",
      "EarlyStopping counter: 83 / 120\n",
      "EarlyStopping counter: 84 / 120\n",
      "EarlyStopping counter: 85 / 120\n",
      "EarlyStopping counter: 86 / 120\n",
      "EarlyStopping counter: 87 / 120\n",
      "Epoch 510: train loss 0.0010, val loss 0.0013\n",
      "EarlyStopping counter: 88 / 120\n",
      "EarlyStopping counter: 89 / 120\n",
      "EarlyStopping counter: 90 / 120\n",
      "EarlyStopping counter: 91 / 120\n",
      "EarlyStopping counter: 92 / 120\n",
      "EarlyStopping counter: 93 / 120\n",
      "EarlyStopping counter: 94 / 120\n",
      "EarlyStopping counter: 95 / 120\n",
      "EarlyStopping counter: 96 / 120\n",
      "EarlyStopping counter: 97 / 120\n",
      "Epoch 520: train loss 0.0010, val loss 0.0010\n",
      "EarlyStopping counter: 98 / 120\n",
      "EarlyStopping counter: 99 / 120\n",
      "EarlyStopping counter: 100 / 120\n",
      "EarlyStopping counter: 101 / 120\n",
      "EarlyStopping counter: 102 / 120\n",
      "EarlyStopping counter: 103 / 120\n",
      "EarlyStopping counter: 104 / 120\n",
      "EarlyStopping counter: 105 / 120\n",
      "EarlyStopping counter: 106 / 120\n",
      "EarlyStopping counter: 107 / 120\n",
      "Epoch 530: train loss 0.0010, val loss 0.0011\n",
      "EarlyStopping counter: 108 / 120\n",
      "EarlyStopping counter: 109 / 120\n",
      "EarlyStopping counter: 110 / 120\n",
      "EarlyStopping counter: 111 / 120\n",
      "EarlyStopping counter: 112 / 120\n",
      "EarlyStopping counter: 113 / 120\n",
      "EarlyStopping counter: 114 / 120\n",
      "EarlyStopping counter: 115 / 120\n",
      "EarlyStopping counter: 116 / 120\n",
      "EarlyStopping counter: 117 / 120\n",
      "Epoch 540: train loss 0.0010, val loss 0.0016\n",
      "EarlyStopping counter: 118 / 120\n",
      "EarlyStopping counter: 119 / 120\n",
      "EarlyStopping counter: 120 / 120\n",
      "Restoring model from epoch 423 ...\n",
      "Early stopping at epoch 543, best val loss 0.000656 (epoch 423)\n"
     ]
    },
    {
     "data": {
      "application/vnd.plotly.v1+json": {
       "config": {
        "plotlyServerURL": "https://plot.ly"
       },
       "data": [
        {
         "hovertemplate": "variable=train<br>index=%{x}<br>value=%{y}<extra></extra>",
         "legendgroup": "train",
         "line": {
          "color": "#636efa",
          "dash": "solid"
         },
         "marker": {
          "symbol": "circle"
         },
         "mode": "lines",
         "name": "train",
         "showlegend": true,
         "type": "scattergl",
         "x": [
          0,
          1,
          2,
          3,
          4,
          5,
          6,
          7,
          8,
          9,
          10,
          11,
          12,
          13,
          14,
          15,
          16,
          17,
          18,
          19,
          20,
          21,
          22,
          23,
          24,
          25,
          26,
          27,
          28,
          29,
          30,
          31,
          32,
          33,
          34,
          35,
          36,
          37,
          38,
          39,
          40,
          41,
          42,
          43,
          44,
          45,
          46,
          47,
          48,
          49,
          50,
          51,
          52,
          53,
          54,
          55,
          56,
          57,
          58,
          59,
          60,
          61,
          62,
          63,
          64,
          65,
          66,
          67,
          68,
          69,
          70,
          71,
          72,
          73,
          74,
          75,
          76,
          77,
          78,
          79,
          80,
          81,
          82,
          83,
          84,
          85,
          86,
          87,
          88,
          89,
          90,
          91,
          92,
          93,
          94,
          95,
          96,
          97,
          98,
          99,
          100,
          101,
          102,
          103,
          104,
          105,
          106,
          107,
          108,
          109,
          110,
          111,
          112,
          113,
          114,
          115,
          116,
          117,
          118,
          119,
          120,
          121,
          122,
          123,
          124,
          125,
          126,
          127,
          128,
          129,
          130,
          131,
          132,
          133,
          134,
          135,
          136,
          137,
          138,
          139,
          140,
          141,
          142,
          143,
          144,
          145,
          146,
          147,
          148,
          149,
          150,
          151,
          152,
          153,
          154,
          155,
          156,
          157,
          158,
          159,
          160,
          161,
          162,
          163,
          164,
          165,
          166,
          167,
          168,
          169,
          170,
          171,
          172,
          173,
          174,
          175,
          176,
          177,
          178,
          179,
          180,
          181,
          182,
          183,
          184,
          185,
          186,
          187,
          188,
          189,
          190,
          191,
          192,
          193,
          194,
          195,
          196,
          197,
          198,
          199,
          200,
          201,
          202,
          203,
          204,
          205,
          206,
          207,
          208,
          209,
          210,
          211,
          212,
          213,
          214,
          215,
          216,
          217,
          218,
          219,
          220,
          221,
          222,
          223,
          224,
          225,
          226,
          227,
          228,
          229,
          230,
          231,
          232,
          233,
          234,
          235,
          236,
          237,
          238,
          239,
          240,
          241,
          242,
          243,
          244,
          245,
          246,
          247,
          248,
          249,
          250,
          251,
          252,
          253,
          254,
          255,
          256,
          257,
          258,
          259,
          260,
          261,
          262,
          263,
          264,
          265,
          266,
          267,
          268,
          269,
          270,
          271,
          272,
          273,
          274,
          275,
          276,
          277,
          278,
          279,
          280,
          281,
          282,
          283,
          284,
          285,
          286,
          287,
          288,
          289,
          290,
          291,
          292,
          293,
          294,
          295,
          296,
          297,
          298,
          299,
          300,
          301,
          302,
          303,
          304,
          305,
          306,
          307,
          308,
          309,
          310,
          311,
          312,
          313,
          314,
          315,
          316,
          317,
          318,
          319,
          320,
          321,
          322,
          323,
          324,
          325,
          326,
          327,
          328,
          329,
          330,
          331,
          332,
          333,
          334,
          335,
          336,
          337,
          338,
          339,
          340,
          341,
          342,
          343,
          344,
          345,
          346,
          347,
          348,
          349,
          350,
          351,
          352,
          353,
          354,
          355,
          356,
          357,
          358,
          359,
          360,
          361,
          362,
          363,
          364,
          365,
          366,
          367,
          368,
          369,
          370,
          371,
          372,
          373,
          374,
          375,
          376,
          377,
          378,
          379,
          380,
          381,
          382,
          383,
          384,
          385,
          386,
          387,
          388,
          389,
          390,
          391,
          392,
          393,
          394,
          395,
          396,
          397,
          398,
          399,
          400,
          401,
          402,
          403,
          404,
          405,
          406,
          407,
          408,
          409,
          410,
          411,
          412,
          413,
          414,
          415,
          416,
          417,
          418,
          419,
          420,
          421,
          422,
          423,
          424,
          425,
          426,
          427,
          428,
          429,
          430,
          431,
          432,
          433,
          434,
          435,
          436,
          437,
          438,
          439,
          440,
          441,
          442,
          443,
          444,
          445,
          446,
          447,
          448,
          449,
          450,
          451,
          452,
          453,
          454,
          455,
          456,
          457,
          458,
          459,
          460,
          461,
          462,
          463,
          464,
          465,
          466,
          467,
          468,
          469,
          470,
          471,
          472,
          473,
          474,
          475,
          476,
          477,
          478,
          479,
          480,
          481,
          482,
          483,
          484,
          485,
          486,
          487,
          488,
          489,
          490,
          491,
          492,
          493,
          494,
          495,
          496,
          497,
          498,
          499,
          500,
          501,
          502,
          503,
          504,
          505,
          506,
          507,
          508,
          509,
          510,
          511,
          512,
          513,
          514,
          515,
          516,
          517,
          518,
          519,
          520,
          521,
          522,
          523,
          524,
          525,
          526,
          527,
          528,
          529,
          530,
          531,
          532,
          533,
          534,
          535,
          536,
          537,
          538,
          539,
          540,
          541,
          542,
          543
         ],
         "xaxis": "x",
         "y": [
          0.07707880581729114,
          0.0736980067100376,
          0.0706526125781238,
          0.06782142706215381,
          0.06513292393647134,
          0.06250938125886023,
          0.060019297827966514,
          0.05764055857434869,
          0.05532913850620389,
          0.0530902118422091,
          0.05117637135554105,
          0.04915502206422388,
          0.04744660633150488,
          0.045842039049603045,
          0.04475262151099742,
          0.04360240953974426,
          0.04238932225853205,
          0.04174956073984504,
          0.04089145981706679,
          0.039848167123273014,
          0.03970959126017988,
          0.03888166351243853,
          0.03817590398248285,
          0.037940557766705754,
          0.03706277019809932,
          0.03581130148377269,
          0.0357035274617374,
          0.034451812016777696,
          0.034301979327574374,
          0.033581056853290644,
          0.032441176334396006,
          0.032372281118296084,
          0.030948561953846366,
          0.03078183454927057,
          0.02976105287671089,
          0.02819893159903586,
          0.02766919326968491,
          0.02734353031264618,
          0.026780130225233734,
          0.025071760278660805,
          0.024901621835306288,
          0.024414993729442357,
          0.02273919739527628,
          0.02259877121541649,
          0.021861067577265202,
          0.020471640082541855,
          0.020317467872519045,
          0.018941400991752743,
          0.01865560032892972,
          0.01787980510853231,
          0.01692053396254778,
          0.01690039437962696,
          0.015892420476302505,
          0.014701052685268223,
          0.01396478193346411,
          0.013793923216871918,
          0.012871098320465535,
          0.012707292276900262,
          0.01179337864741683,
          0.010778866813052446,
          0.010787588451057673,
          0.00974107744405046,
          0.00884085203288123,
          0.008560658257920295,
          0.008554848097264766,
          0.00783862485550344,
          0.0069104875437915325,
          0.0069589595193974675,
          0.006541475269477815,
          0.005875507520977407,
          0.005422166816424578,
          0.003920399938942864,
          0.004637124645523727,
          0.003967022185679525,
          0.004323090694379061,
          0.00342357435147278,
          0.0034240232838783414,
          0.0027861639275215564,
          0.002688341471366584,
          0.0028339589014649393,
          0.002520894829649478,
          0.0023350340081378816,
          0.002713559352559969,
          0.0027936593629419803,
          0.0020202073385007678,
          0.0021829064178746195,
          0.0015443939541000874,
          0.001776165934279561,
          0.001504396426025778,
          0.0017377128591760994,
          0.0015497803047765045,
          0.0016892017680220305,
          0.001368339662440121,
          0.001435967895668,
          0.0018034614564385264,
          0.0013821114232996478,
          0.0014937771775294095,
          0.0018562865647254513,
          0.0018286325357621536,
          0.0015086703933775425,
          0.0015770944242831319,
          0.0014511086279526352,
          0.0019893485412467273,
          0.0013150206446880474,
          0.0014617641281802207,
          0.001213312556501478,
          0.0017651013797149063,
          0.0012625395494978875,
          0.0015101763448910788,
          0.0014333609113236889,
          0.001036406130879186,
          0.0017062261991668492,
          0.0016596922825556249,
          0.0015556016733171418,
          0.001323719008360058,
          0.0015985200530849396,
          0.0013461221096804366,
          0.0016329842939740047,
          0.0012081812252290546,
          0.0014105111680692063,
          0.001329324317339342,
          0.0016911010374315084,
          0.0012208756525069475,
          0.001287114730803296,
          0.001502546953270212,
          0.0011117129935882986,
          0.0013582970597781241,
          0.0014343170565553009,
          0.001371607801411301,
          0.0015374952490674332,
          0.0013261530984891579,
          0.0011186863208422436,
          0.0011637452873401344,
          0.0012274326465558261,
          0.001295494381338358,
          0.001384448609314859,
          0.00151434930448886,
          0.001149825354514178,
          0.0014742513041710481,
          0.0012534164299722761,
          0.0013617647418868728,
          0.0012262156189535745,
          0.0011862989427754655,
          0.0009847912762779743,
          0.0010726315609645098,
          0.0012580938811879605,
          0.0011082389362854883,
          0.0010098071536049247,
          0.0011401479699998164,
          0.0012482878373702988,
          0.0011265338136581704,
          0.0014405833091586829,
          0.0012082586588803678,
          0.0010689540009479969,
          0.0012744614708935843,
          0.001584323597489856,
          0.0012229171552462503,
          0.001291112032777164,
          0.0009633229696191847,
          0.00176704830955714,
          0.0012456088661565445,
          0.0011139845999423414,
          0.0011097678710939364,
          0.0013793504127534106,
          0.0011296496784780174,
          0.0010483599500730634,
          0.0013174124003853648,
          0.0012188954729936085,
          0.0015525569557212292,
          0.0011299878271529451,
          0.0012204345664940774,
          0.0012016087537631392,
          0.0011782949790358544,
          0.0012872812832938508,
          0.0013966992235509678,
          0.0009761921217432245,
          0.0012383032822981476,
          0.0009710240556159988,
          0.0012903331051347777,
          0.0010432001974550076,
          0.001058585153077729,
          0.0012899913534056395,
          0.001640258650877513,
          0.0012849909893702717,
          0.0010663554945494979,
          0.0010788223837153055,
          0.0012815246649552138,
          0.0009618121490348131,
          0.0008197899791412055,
          0.0011618076445301996,
          0.0013659938122145832,
          0.0012796047260053456,
          0.0011715791653841734,
          0.0011646881757769734,
          0.0013067492458503694,
          0.001213949642260559,
          0.00092843811144121,
          0.0014730809140019118,
          0.0012141919403802603,
          0.0012993264885153622,
          0.0011572554300073533,
          0.0009080203104531393,
          0.0013345264364033938,
          0.001190510531887412,
          0.0009491575503489003,
          0.0012714509357465431,
          0.001337530225282535,
          0.0012827235186705366,
          0.0011572589923162014,
          0.001075655996100977,
          0.0011717603309080004,
          0.0013261012034490704,
          0.0010610841534798964,
          0.0013491502482793293,
          0.0013088444276945666,
          0.0012183748825918884,
          0.0010716435965150595,
          0.0015300091297831386,
          0.0013360068202018737,
          0.0009616930212359876,
          0.0011711621002177708,
          0.0010253741726046427,
          0.0017571472242707386,
          0.0010271708364598454,
          0.001195781776914373,
          0.001030915736919269,
          0.0013095769681967795,
          0.0010589553814497777,
          0.000978087875409983,
          0.0009677258698502555,
          0.0014535492227878422,
          0.0012133747310144826,
          0.0011735661653801798,
          0.0011973150263656861,
          0.0011302945582428946,
          0.0009237301754183135,
          0.0009050358756212517,
          0.0011736746062524616,
          0.001163809889112599,
          0.0011910821805940941,
          0.0010047844611108304,
          0.001017073157709092,
          0.0010473641770659015,
          0.0009182847221381963,
          0.0012360537264612503,
          0.001456174606573768,
          0.0009995369939133525,
          0.0013618675191537477,
          0.0009227605623891577,
          0.0012031016289256514,
          0.0010540431423578412,
          0.0016579504997935146,
          0.0010737325850641356,
          0.0008371790812816471,
          0.0009022307058330625,
          0.0008693266776390373,
          0.001275173859903589,
          0.0008916140126530081,
          0.001061276241671294,
          0.0010496704344404861,
          0.0013630441622808575,
          0.0011365113372448833,
          0.0009026860090671108,
          0.0012951931421412155,
          0.0015851514937821776,
          0.0009320915065472946,
          0.0011938275740249083,
          0.0010714047704823316,
          0.0012035699997795745,
          0.0014774767681956292,
          0.0011170258920174092,
          0.0009775675338460133,
          0.0012334733561147003,
          0.0009293069539126009,
          0.001057448866777122,
          0.001142818278458435,
          0.0011193498474312946,
          0.0012218517920700833,
          0.001103043531475123,
          0.0010147594584850594,
          0.0012025288902805186,
          0.00102899347039056,
          0.0009742313675815239,
          0.0009172214602585882,
          0.0008894055732525885,
          0.0012051798577886075,
          0.0010357953899074346,
          0.0009709342470159754,
          0.0010004870302509517,
          0.0008484494785079733,
          0.0013251113647129386,
          0.0014369212236488237,
          0.0011648980987956747,
          0.0010617041785735636,
          0.0008751468703849241,
          0.0010933864861726761,
          0.0010843523778021336,
          0.0007825979439076037,
          0.0011080141994170845,
          0.000757460729801096,
          0.0009524347900878638,
          0.0008017054758965969,
          0.0009091569459997118,
          0.0011834807868581266,
          0.001214689110929612,
          0.000936173366062576,
          0.0011157833912875503,
          0.0010823484597494825,
          0.0009036434483277844,
          0.001266695183585398,
          0.0012797274757758714,
          0.0009666454570833594,
          0.0008250394486822188,
          0.0010313557490007953,
          0.0010203961021034047,
          0.0010871291276998817,
          0.0012366552677121946,
          0.001128322895965539,
          0.0008664978595334105,
          0.0010372370466939173,
          0.0011015271651558579,
          0.0012438196747098119,
          0.0011221563443541526,
          0.0011669594212435185,
          0.0009471733123064041,
          0.0007142345799366012,
          0.0011114571505459025,
          0.0012459024786949159,
          0.0008413131348788738,
          0.0009282447426812723,
          0.0009219232131727039,
          0.0011409803671995177,
          0.0009220707172062248,
          0.0013102964556310325,
          0.0008338871411979198,
          0.0009810051298700273,
          0.0009546476998366415,
          0.0009711406630231068,
          0.0010512603999814018,
          0.001256707828724757,
          0.0009446549083804712,
          0.0008966995927039533,
          0.001144629967166111,
          0.000977550755487755,
          0.0012964579946128651,
          0.0006903869318193756,
          0.001081569837697316,
          0.0009763286041561514,
          0.0013776892214082182,
          0.0009131542639806867,
          0.0009704030817374587,
          0.0009741349233081565,
          0.0010660415005986578,
          0.0009970908868126571,
          0.0011150326230563224,
          0.001095581825939007,
          0.0008138842531479895,
          0.0009747561605763621,
          0.0010790807660669087,
          0.001277465425664559,
          0.0010215270056505687,
          0.0011454583727754653,
          0.0012793178641004488,
          0.000937696424080059,
          0.001158886490156874,
          0.0010984538763295858,
          0.001112016211845912,
          0.0008362996450159699,
          0.0009065294259926304,
          0.0010069602467410732,
          0.0009380736642924603,
          0.0012142324063461273,
          0.0009889059117995202,
          0.000941185925330501,
          0.0013105405334499665,
          0.0009142162656644359,
          0.0010237238806439564,
          0.0010500415635760873,
          0.0010337869636714459,
          0.0010118708160007372,
          0.0011386193858925254,
          0.0010574603802524507,
          0.000841792271239683,
          0.000766260719683487,
          0.0011498745356220753,
          0.0010477580959559417,
          0.0010339053871575743,
          0.0009098265843931585,
          0.0011291816626908258,
          0.0009414273969014175,
          0.0011620951365330257,
          0.0008584178518503905,
          0.0009008228342281654,
          0.0011487391602713615,
          0.0011650186555925758,
          0.0011803259811131283,
          0.0008908484509447589,
          0.000888723753450904,
          0.0009231125528458506,
          0.0007814085896825418,
          0.0012396624646498823,
          0.001090388500597328,
          0.0009032725094584749,
          0.001056147398048779,
          0.000870314086205326,
          0.0008871242927853018,
          0.0010437994642416015,
          0.0010005623596953228,
          0.0009521108091576025,
          0.0008645132649689913,
          0.0010390532959718257,
          0.0009639950614655391,
          0.0010634053032845259,
          0.0010347991366870702,
          0.0010813353335834108,
          0.0010780522716231644,
          0.0010059918975457549,
          0.0011528270115377381,
          0.000770636775996536,
          0.000944240961689502,
          0.0008812459680484607,
          0.0007301103178178892,
          0.0008756806724704802,
          0.001202534766343888,
          0.0009967323712771758,
          0.0009029272943735123,
          0.0007458211417542771,
          0.0011164761730469764,
          0.0010221081814961509,
          0.0010276102286297828,
          0.0010836589673999697,
          0.0010295162675902248,
          0.0008830482111079618,
          0.0009214567195158452,
          0.0008870488352840766,
          0.0010978543839883059,
          0.000956854730611667,
          0.0011629569431534036,
          0.0011332311667501926,
          0.0008245290562626905,
          0.0009387574275024236,
          0.000991419775527902,
          0.0010466594860190526,
          0.0008970701150246896,
          0.0008197488918085582,
          0.0012381275446387008,
          0.0011300160782411694,
          0.0011076492228312418,
          0.0007412901701172814,
          0.000984476029407233,
          0.0010029897181084379,
          0.0009386068006278947,
          0.0010172003851039336,
          0.0009008710047055501,
          0.0011411208484787493,
          0.0009371150903461966,
          0.0009302165039116516,
          0.0007855152798583731,
          0.000981903198407963,
          0.00094346929108724,
          0.0010682324005756526,
          0.0009396843946888111,
          0.0009233135933754966,
          0.0009179755754303188,
          0.0009436376014491544,
          0.0009801452310057358,
          0.001117006831918843,
          0.0011256476165726781,
          0.0009528343623969703,
          0.0008857937267748639,
          0.0007962316551129334,
          0.0011511287622852251,
          0.0010407035180833191,
          0.001117131198407151,
          0.0009644612378906459,
          0.000992523884633556,
          0.0011471492704004048,
          0.000998120242729783,
          0.0009716785803902894,
          0.0009751043748110533,
          0.000772628968115896,
          0.0009122894814936444,
          0.0010039270913694055,
          0.0009787511808099225,
          0.0009413916268385947,
          0.0009265982545912266,
          0.0008507501159328967,
          0.0010971862357109785,
          0.0007801085143000819,
          0.000836092687677592,
          0.0010183443868299947,
          0.0008761767006944865,
          0.000871021201601252,
          0.000828852916311007,
          0.0009520705818431452,
          0.000866247779049445,
          0.0012330751880654134,
          0.0009695271088276059,
          0.0008214785368181766,
          0.0008773951980401762,
          0.0012991190800676123,
          0.0009421442926395684,
          0.0009575220930855722,
          0.0008098143793176859,
          0.0009399387490702793,
          0.0009940381423803046,
          0.000979562971042469,
          0.001130705485411454,
          0.0007324025267735123,
          0.0008834482199745253,
          0.000964289388502948,
          0.0006939809449249878,
          0.0009537928475765511,
          0.0008672300347825513,
          0.0010655769903678447,
          0.0010661611158866435,
          0.0008215895242756233,
          0.0008343429333763197,
          0.0009894322472973726,
          0.0010814069042680784,
          0.001034456444904208,
          0.0010212164124823175,
          0.0010744905477622524,
          0.0012750068883178756,
          0.0011077664035838096,
          0.000808391734608449,
          0.0009304543898906558,
          0.0011767573727411219,
          0.0009621209348551929,
          0.0009306721854954958,
          0.0010143931693164631,
          0.0009707568126032129,
          0.0010845371783943848,
          0.0010001504066167398,
          0.0008060565800406039,
          0.0007732615718850866,
          0.0009485779039096088,
          0.0009451841789996252,
          0.00080740443081595,
          0.001153209590120241,
          0.0009882723825285211,
          0.0008581171132391319,
          0.0008345709735294804,
          0.0009087969607207924
         ],
         "yaxis": "y"
        },
        {
         "hovertemplate": "variable=val<br>index=%{x}<br>value=%{y}<extra></extra>",
         "legendgroup": "val",
         "line": {
          "color": "#EF553B",
          "dash": "solid"
         },
         "marker": {
          "symbol": "circle"
         },
         "mode": "lines",
         "name": "val",
         "showlegend": true,
         "type": "scattergl",
         "x": [
          0,
          1,
          2,
          3,
          4,
          5,
          6,
          7,
          8,
          9,
          10,
          11,
          12,
          13,
          14,
          15,
          16,
          17,
          18,
          19,
          20,
          21,
          22,
          23,
          24,
          25,
          26,
          27,
          28,
          29,
          30,
          31,
          32,
          33,
          34,
          35,
          36,
          37,
          38,
          39,
          40,
          41,
          42,
          43,
          44,
          45,
          46,
          47,
          48,
          49,
          50,
          51,
          52,
          53,
          54,
          55,
          56,
          57,
          58,
          59,
          60,
          61,
          62,
          63,
          64,
          65,
          66,
          67,
          68,
          69,
          70,
          71,
          72,
          73,
          74,
          75,
          76,
          77,
          78,
          79,
          80,
          81,
          82,
          83,
          84,
          85,
          86,
          87,
          88,
          89,
          90,
          91,
          92,
          93,
          94,
          95,
          96,
          97,
          98,
          99,
          100,
          101,
          102,
          103,
          104,
          105,
          106,
          107,
          108,
          109,
          110,
          111,
          112,
          113,
          114,
          115,
          116,
          117,
          118,
          119,
          120,
          121,
          122,
          123,
          124,
          125,
          126,
          127,
          128,
          129,
          130,
          131,
          132,
          133,
          134,
          135,
          136,
          137,
          138,
          139,
          140,
          141,
          142,
          143,
          144,
          145,
          146,
          147,
          148,
          149,
          150,
          151,
          152,
          153,
          154,
          155,
          156,
          157,
          158,
          159,
          160,
          161,
          162,
          163,
          164,
          165,
          166,
          167,
          168,
          169,
          170,
          171,
          172,
          173,
          174,
          175,
          176,
          177,
          178,
          179,
          180,
          181,
          182,
          183,
          184,
          185,
          186,
          187,
          188,
          189,
          190,
          191,
          192,
          193,
          194,
          195,
          196,
          197,
          198,
          199,
          200,
          201,
          202,
          203,
          204,
          205,
          206,
          207,
          208,
          209,
          210,
          211,
          212,
          213,
          214,
          215,
          216,
          217,
          218,
          219,
          220,
          221,
          222,
          223,
          224,
          225,
          226,
          227,
          228,
          229,
          230,
          231,
          232,
          233,
          234,
          235,
          236,
          237,
          238,
          239,
          240,
          241,
          242,
          243,
          244,
          245,
          246,
          247,
          248,
          249,
          250,
          251,
          252,
          253,
          254,
          255,
          256,
          257,
          258,
          259,
          260,
          261,
          262,
          263,
          264,
          265,
          266,
          267,
          268,
          269,
          270,
          271,
          272,
          273,
          274,
          275,
          276,
          277,
          278,
          279,
          280,
          281,
          282,
          283,
          284,
          285,
          286,
          287,
          288,
          289,
          290,
          291,
          292,
          293,
          294,
          295,
          296,
          297,
          298,
          299,
          300,
          301,
          302,
          303,
          304,
          305,
          306,
          307,
          308,
          309,
          310,
          311,
          312,
          313,
          314,
          315,
          316,
          317,
          318,
          319,
          320,
          321,
          322,
          323,
          324,
          325,
          326,
          327,
          328,
          329,
          330,
          331,
          332,
          333,
          334,
          335,
          336,
          337,
          338,
          339,
          340,
          341,
          342,
          343,
          344,
          345,
          346,
          347,
          348,
          349,
          350,
          351,
          352,
          353,
          354,
          355,
          356,
          357,
          358,
          359,
          360,
          361,
          362,
          363,
          364,
          365,
          366,
          367,
          368,
          369,
          370,
          371,
          372,
          373,
          374,
          375,
          376,
          377,
          378,
          379,
          380,
          381,
          382,
          383,
          384,
          385,
          386,
          387,
          388,
          389,
          390,
          391,
          392,
          393,
          394,
          395,
          396,
          397,
          398,
          399,
          400,
          401,
          402,
          403,
          404,
          405,
          406,
          407,
          408,
          409,
          410,
          411,
          412,
          413,
          414,
          415,
          416,
          417,
          418,
          419,
          420,
          421,
          422,
          423,
          424,
          425,
          426,
          427,
          428,
          429,
          430,
          431,
          432,
          433,
          434,
          435,
          436,
          437,
          438,
          439,
          440,
          441,
          442,
          443,
          444,
          445,
          446,
          447,
          448,
          449,
          450,
          451,
          452,
          453,
          454,
          455,
          456,
          457,
          458,
          459,
          460,
          461,
          462,
          463,
          464,
          465,
          466,
          467,
          468,
          469,
          470,
          471,
          472,
          473,
          474,
          475,
          476,
          477,
          478,
          479,
          480,
          481,
          482,
          483,
          484,
          485,
          486,
          487,
          488,
          489,
          490,
          491,
          492,
          493,
          494,
          495,
          496,
          497,
          498,
          499,
          500,
          501,
          502,
          503,
          504,
          505,
          506,
          507,
          508,
          509,
          510,
          511,
          512,
          513,
          514,
          515,
          516,
          517,
          518,
          519,
          520,
          521,
          522,
          523,
          524,
          525,
          526,
          527,
          528,
          529,
          530,
          531,
          532,
          533,
          534,
          535,
          536,
          537,
          538,
          539,
          540,
          541,
          542,
          543
         ],
         "xaxis": "x",
         "y": [
          0.45545925199985504,
          0.4430708587169647,
          0.4306383579969406,
          0.41834768652915955,
          0.40609027445316315,
          0.39370930194854736,
          0.38108009099960327,
          0.36814019083976746,
          0.3549087643623352,
          0.3414290249347687,
          0.32782571017742157,
          0.31427350640296936,
          0.3008875995874405,
          0.2879072278738022,
          0.2756151184439659,
          0.2641442343592644,
          0.2535860016942024,
          0.24390459060668945,
          0.23512393236160278,
          0.22732984274625778,
          0.2202615737915039,
          0.2140459641814232,
          0.20836152881383896,
          0.20312722772359848,
          0.19827304780483246,
          0.1936134472489357,
          0.18911345303058624,
          0.18475350737571716,
          0.18059042096138,
          0.17667631804943085,
          0.1726825311779976,
          0.168628491461277,
          0.16455437988042831,
          0.16063221916556358,
          0.15676401555538177,
          0.15293512865900993,
          0.14904355257749557,
          0.1448693498969078,
          0.14103752374649048,
          0.13701987266540527,
          0.13319480419158936,
          0.12972553819417953,
          0.12607348710298538,
          0.12223627045750618,
          0.1182519868016243,
          0.11384966224431992,
          0.10970807075500488,
          0.10560283437371254,
          0.10199256986379623,
          0.09838003292679787,
          0.09426378458738327,
          0.0904768630862236,
          0.08666659891605377,
          0.08272942528128624,
          0.07873248681426048,
          0.07477621734142303,
          0.07092029042541981,
          0.06786191649734974,
          0.06433484144508839,
          0.06073617562651634,
          0.056885480880737305,
          0.052867136895656586,
          0.049303093925118446,
          0.04611252620816231,
          0.042911047115921974,
          0.03916206583380699,
          0.0351159255951643,
          0.03152389079332352,
          0.02870349120348692,
          0.02657895628362894,
          0.024777360260486603,
          0.022480592131614685,
          0.02052283100783825,
          0.0182809391990304,
          0.016829272732138634,
          0.014630798250436783,
          0.013043525163084269,
          0.010967882350087166,
          0.009755271486938,
          0.00904458062723279,
          0.008520756848156452,
          0.008054115809500217,
          0.007470964686945081,
          0.006390703842043877,
          0.005594115238636732,
          0.004722753074020147,
          0.004136314382776618,
          0.003970120567828417,
          0.0036062338622286916,
          0.0033382419496774673,
          0.003451493801549077,
          0.0037740286206826568,
          0.0034541505156084895,
          0.0033795367926359177,
          0.0033943274756893516,
          0.0030074139358475804,
          0.0025055676233023405,
          0.002755251945927739,
          0.002639539074152708,
          0.0026870433939620852,
          0.002652983064763248,
          0.0024992396938614547,
          0.0028139378409832716,
          0.0026803951477631927,
          0.0025199304800480604,
          0.002671594498679042,
          0.002549259690567851,
          0.0022254170617088675,
          0.002243840484879911,
          0.0021916672121733427,
          0.0022201453102752566,
          0.0023172804503701627,
          0.0022486408706754446,
          0.0020142528228461742,
          0.0017523321439512074,
          0.001956559717655182,
          0.002298246487043798,
          0.0023110408801585436,
          0.0019912344869226217,
          0.002275276172440499,
          0.0020553424255922437,
          0.0020186331821605563,
          0.0021638846956193447,
          0.002409742563031614,
          0.0023422049707733095,
          0.0020381758804433048,
          0.00200560234952718,
          0.0019292992074042559,
          0.001952016376890242,
          0.001840289798565209,
          0.0018570871907286346,
          0.002146137645468116,
          0.0024231838760897517,
          0.002257897926028818,
          0.0022332954686135054,
          0.0019516798201948404,
          0.0019808519864454865,
          0.0019307080074213445,
          0.002498007146641612,
          0.0024141280446201563,
          0.0023035077610984445,
          0.0019542056834325194,
          0.002182084775995463,
          0.0021354196360334754,
          0.0019903331995010376,
          0.0023780351039022207,
          0.002468832186423242,
          0.0019020186737179756,
          0.0019526717951521277,
          0.0022097573382779956,
          0.0018528474029153585,
          0.001541638222988695,
          0.001537296804599464,
          0.0015890016220510006,
          0.0019326924812048674,
          0.002396168070845306,
          0.0019335028482601047,
          0.0017413775785826147,
          0.0016818122239783406,
          0.001987914147321135,
          0.0017535221413709223,
          0.0019674011855386198,
          0.0022983794333413243,
          0.0016752388328313828,
          0.001489479502197355,
          0.0016997268539853394,
          0.0021004913141950965,
          0.001980324275791645,
          0.0016621779068373144,
          0.0018847184255719185,
          0.0019405325292609632,
          0.001959802524652332,
          0.0021324921399354935,
          0.0019700872362591326,
          0.0015935698756948113,
          0.0018040182767435908,
          0.001799772318918258,
          0.00154190044850111,
          0.001517595665063709,
          0.0012718183570541441,
          0.0015473738312721252,
          0.0016422477783635259,
          0.001536001218482852,
          0.00140161401941441,
          0.0020496785873547196,
          0.0015812123310752213,
          0.0013867702218703926,
          0.0013087819097563624,
          0.0014668137300759554,
          0.0014691914548166096,
          0.0015623224317096174,
          0.00144877569982782,
          0.0018563413759693503,
          0.001766029978170991,
          0.0016100010252557695,
          0.0019504452357068658,
          0.0019706314778886735,
          0.001931963488459587,
          0.001718565123155713,
          0.0016638035885989666,
          0.00129414425464347,
          0.001273791363928467,
          0.0013894749572500587,
          0.0014792800648137927,
          0.001398184394929558,
          0.001424063986632973,
          0.0011206688068341464,
          0.0011059607204515487,
          0.001260290970094502,
          0.0012263892858754843,
          0.0015608699759468436,
          0.0016010560211725533,
          0.0015292693860828876,
          0.00137035854277201,
          0.0012871116923633963,
          0.0017944416613318026,
          0.0016095282626338303,
          0.0014318922185339034,
          0.0011898431403096765,
          0.001676278654485941,
          0.0015575613360852003,
          0.0016520536737516522,
          0.0013269101618789136,
          0.0012224760721437633,
          0.0014946349838282913,
          0.0020345536177046597,
          0.002107772626914084,
          0.0018549866508692503,
          0.0017157442052848637,
          0.001960037392564118,
          0.002149179286789149,
          0.0013008949172217399,
          0.0013850918330717832,
          0.0017095801304094493,
          0.001608437451068312,
          0.0011315777082927525,
          0.0015628672554157674,
          0.001755442877765745,
          0.0012054448598064482,
          0.0011582576553337276,
          0.0012508065847214311,
          0.0012994370481465012,
          0.0011712769628502429,
          0.0020421792287379503,
          0.0016064305091276765,
          0.0012259947252459824,
          0.0013608024746645242,
          0.0012561294133774936,
          0.0015162549680098891,
          0.0014420601073652506,
          0.0011192293604835868,
          0.0012366925075184554,
          0.0015228306874632835,
          0.001335646928055212,
          0.0013456089654937387,
          0.0013976924819871783,
          0.001420541200786829,
          0.0015198804903775454,
          0.0015017969999462366,
          0.001952687161974609,
          0.0011209280928596854,
          0.0009567473607603461,
          0.0012047624331898987,
          0.0018024560995399952,
          0.00147058634320274,
          0.0009839701233431697,
          0.0016345831681974232,
          0.0020268652588129044,
          0.0015571436961181462,
          0.0010256152017973363,
          0.0012643659429159015,
          0.001363104209303856,
          0.0012140509206801653,
          0.0013477530155796558,
          0.0015163697535172105,
          0.0012439170386642218,
          0.001296183792874217,
          0.001805491978302598,
          0.0014835195033811033,
          0.001362647337373346,
          0.0012339121603872627,
          0.0010709709313232452,
          0.0010032785357907414,
          0.0010465773520991206,
          0.0012135294964537024,
          0.0016400163294747472,
          0.0015896873082965612,
          0.0012902467278763652,
          0.001139996515121311,
          0.001500655198469758,
          0.0018662104266695678,
          0.0015911016380414367,
          0.0008953005308285356,
          0.0012018060951959342,
          0.001577333896420896,
          0.0019052968709729612,
          0.0010645975708030164,
          0.0013291677460074425,
          0.00177837407682091,
          0.0012578486639540642,
          0.0011447150900494307,
          0.0013717693509534001,
          0.0014311291160993278,
          0.002298568550031632,
          0.0010670689807739109,
          0.0008428592118434608,
          0.0009746997384354472,
          0.0012714992044493556,
          0.001781996979843825,
          0.0015977736911736429,
          0.0013966901460662484,
          0.0013424468925222754,
          0.0016392715624533594,
          0.0018454252276569605,
          0.0009829025366343558,
          0.0011264500499237329,
          0.0013539003557525575,
          0.0013185245625209063,
          0.0012288977159187198,
          0.001075187377864495,
          0.0013658182870130986,
          0.0017134412191808224,
          0.002192011452279985,
          0.0015946952044032514,
          0.0010999997321050614,
          0.0012313405168242753,
          0.0018144043860957026,
          0.0017308589303866029,
          0.001287011691601947,
          0.0015646748361177742,
          0.0016252335626631975,
          0.0019237628439441323,
          0.0013568696449510753,
          0.0014979572733864188,
          0.0020383558003231883,
          0.0013369795633479953,
          0.0011806495022028685,
          0.0010048262483906,
          0.0017659710720181465,
          0.001824297709390521,
          0.0016356092528440058,
          0.0022839868324808776,
          0.0018678581109270453,
          0.0015971356187947094,
          0.0020361091010272503,
          0.0010475845483597368,
          0.0014121955609880388,
          0.0013025329681113362,
          0.0010289991914760321,
          0.0010769092186819762,
          0.0010998705693054944,
          0.001025663805194199,
          0.0017988196341320872,
          0.0016007096855901182,
          0.0008570025966037065,
          0.000952513626543805,
          0.0019333034288138151,
          0.0015914568211883307,
          0.0011624034959822893,
          0.0015182396746240556,
          0.00145684031303972,
          0.0010293642990291119,
          0.001587224774993956,
          0.0012604764779098332,
          0.001555820053908974,
          0.001606089062988758,
          0.0013096380862407386,
          0.001025746634695679,
          0.0014828269777353853,
          0.0018875438254326582,
          0.001257731084479019,
          0.001904957345686853,
          0.0028238152153789997,
          0.0014988495968282223,
          0.0013695359812118113,
          0.002015896316152066,
          0.0015613568248227239,
          0.001455520250601694,
          0.0015382561832666397,
          0.0012334147468209267,
          0.0012713073519989848,
          0.0013946388789918274,
          0.0015107991639524698,
          0.0011982714058831334,
          0.0014448429574258626,
          0.001080946734873578,
          0.0011563131702132523,
          0.001326862198766321,
          0.001096356543712318,
          0.0010052411817014217,
          0.001452309254091233,
          0.0010624571004882455,
          0.0013338766293600202,
          0.0014493230846710503,
          0.0011707612429745495,
          0.0012607631215360016,
          0.0009720768430270255,
          0.0011260646861046553,
          0.0014911012258380651,
          0.001406438066624105,
          0.0017097858944907784,
          0.001656526466831565,
          0.0011487255396787077,
          0.0015151918050833046,
          0.0008780100906733423,
          0.0010353725811000913,
          0.00144849723437801,
          0.001676668762229383,
          0.0012162010534666479,
          0.0009008678898680955,
          0.0014130069757811725,
          0.001279796299058944,
          0.0010932362638413906,
          0.001156123704276979,
          0.0010423787753097713,
          0.0012461150763556361,
          0.0015426069730892777,
          0.0009972120460588485,
          0.001504722866229713,
          0.0010628673189785331,
          0.0010556456400081515,
          0.0010524512617848814,
          0.0010653495555743575,
          0.0006562361813848838,
          0.0010852038394659758,
          0.0013666748418472707,
          0.0017242677859030664,
          0.0018106125644408166,
          0.001749268383719027,
          0.0008598663553129882,
          0.0011576092219911516,
          0.0013458929606713355,
          0.001482263149227947,
          0.0014771216083317995,
          0.0014978031977079809,
          0.0010882645146921277,
          0.0013980664662085474,
          0.0017820601933635771,
          0.0010790455562528223,
          0.001296125294174999,
          0.0011992965592071414,
          0.001646043558139354,
          0.001190490263979882,
          0.0009167836979031563,
          0.0012091373500879854,
          0.0022593957255594432,
          0.001904754899442196,
          0.0011038916127290577,
          0.0017444195109419525,
          0.0012528244697023183,
          0.0008824810502119362,
          0.0012274119071662426,
          0.0010506024700589478,
          0.0011468586744740605,
          0.0009384044678881764,
          0.0012863159645348787,
          0.0015978486044332385,
          0.0009826486639212817,
          0.0013290642527863383,
          0.0013346030609682202,
          0.00198824773542583,
          0.0009089251252589747,
          0.0013408783706836402,
          0.0021212610881775618,
          0.0010693718213588,
          0.001131480501499027,
          0.001222066319314763,
          0.0014491878100670874,
          0.0022360607981681824,
          0.0011814606259576976,
          0.0015632794238626957,
          0.001029543171171099,
          0.0009620635537430644,
          0.0012844578013755381,
          0.0009016967960633337,
          0.0007606115832459182,
          0.0015796624938957393,
          0.0015440498827956617,
          0.0011440301896072924,
          0.0010761364828795195,
          0.0013079192722216249,
          0.0010396360012236983,
          0.0009637360344640911,
          0.0012718181824311614,
          0.0022711324272677302,
          0.0010165369894821197,
          0.0014381726214196533,
          0.0016384248156100512,
          0.0018012335058301687,
          0.0017518802778795362,
          0.0014375164755620062,
          0.0010399226448498666,
          0.0016037103487178683,
          0.0013608444132842124,
          0.0012197881878819317,
          0.001184307096991688,
          0.0017529184697195888,
          0.0018578452290967107,
          0.0010306889889761806,
          0.0016067212563939393,
          0.0016601578681729734,
          0.001045644807163626,
          0.0015384689904749393,
          0.0013736789114773273,
          0.0012111774703953415,
          0.0017017554491758347,
          0.0014670724631287158,
          0.0014152958756312728,
          0.0016620891983620822,
          0.0014990224153734744,
          0.0012663370871450752,
          0.0015787435695528984,
          0.0011885336716659367,
          0.0010260559502057731,
          0.001211232622154057,
          0.001236738869920373,
          0.0011722803465090692,
          0.0012191838468424976,
          0.001219903933815658,
          0.0012020721333101392,
          0.001010027073789388,
          0.0013019407633692026,
          0.0011004078842233866,
          0.001375687657855451,
          0.0011169822537340224,
          0.0017580044222995639,
          0.0011272760457359254,
          0.0016257367678917944,
          0.0014550851192325354,
          0.00185541802784428,
          0.0011097572278231382,
          0.002198583446443081,
          0.0008343896188307554,
          0.001223291241331026,
          0.0010212445340584964,
          0.0012216482718940824,
          0.0014215399860404432,
          0.002057854668237269,
          0.0011190440563950688,
          0.0015535877319052815,
          0.001598933304194361,
          0.0015097144059836864,
          0.0015913523966446519,
          0.0011551379575394094
         ],
         "yaxis": "y"
        }
       ],
       "layout": {
        "legend": {
         "title": {
          "text": "variable"
         },
         "tracegroupgap": 0
        },
        "template": {
         "data": {
          "bar": [
           {
            "error_x": {
             "color": "#2a3f5f"
            },
            "error_y": {
             "color": "#2a3f5f"
            },
            "marker": {
             "line": {
              "color": "white",
              "width": 0.5
             },
             "pattern": {
              "fillmode": "overlay",
              "size": 10,
              "solidity": 0.2
             }
            },
            "type": "bar"
           }
          ],
          "barpolar": [
           {
            "marker": {
             "line": {
              "color": "white",
              "width": 0.5
             },
             "pattern": {
              "fillmode": "overlay",
              "size": 10,
              "solidity": 0.2
             }
            },
            "type": "barpolar"
           }
          ],
          "carpet": [
           {
            "aaxis": {
             "endlinecolor": "#2a3f5f",
             "gridcolor": "#C8D4E3",
             "linecolor": "#C8D4E3",
             "minorgridcolor": "#C8D4E3",
             "startlinecolor": "#2a3f5f"
            },
            "baxis": {
             "endlinecolor": "#2a3f5f",
             "gridcolor": "#C8D4E3",
             "linecolor": "#C8D4E3",
             "minorgridcolor": "#C8D4E3",
             "startlinecolor": "#2a3f5f"
            },
            "type": "carpet"
           }
          ],
          "choropleth": [
           {
            "colorbar": {
             "outlinewidth": 0,
             "ticks": ""
            },
            "type": "choropleth"
           }
          ],
          "contour": [
           {
            "colorbar": {
             "outlinewidth": 0,
             "ticks": ""
            },
            "colorscale": [
             [
              0,
              "#0d0887"
             ],
             [
              0.1111111111111111,
              "#46039f"
             ],
             [
              0.2222222222222222,
              "#7201a8"
             ],
             [
              0.3333333333333333,
              "#9c179e"
             ],
             [
              0.4444444444444444,
              "#bd3786"
             ],
             [
              0.5555555555555556,
              "#d8576b"
             ],
             [
              0.6666666666666666,
              "#ed7953"
             ],
             [
              0.7777777777777778,
              "#fb9f3a"
             ],
             [
              0.8888888888888888,
              "#fdca26"
             ],
             [
              1,
              "#f0f921"
             ]
            ],
            "type": "contour"
           }
          ],
          "contourcarpet": [
           {
            "colorbar": {
             "outlinewidth": 0,
             "ticks": ""
            },
            "type": "contourcarpet"
           }
          ],
          "heatmap": [
           {
            "colorbar": {
             "outlinewidth": 0,
             "ticks": ""
            },
            "colorscale": [
             [
              0,
              "#0d0887"
             ],
             [
              0.1111111111111111,
              "#46039f"
             ],
             [
              0.2222222222222222,
              "#7201a8"
             ],
             [
              0.3333333333333333,
              "#9c179e"
             ],
             [
              0.4444444444444444,
              "#bd3786"
             ],
             [
              0.5555555555555556,
              "#d8576b"
             ],
             [
              0.6666666666666666,
              "#ed7953"
             ],
             [
              0.7777777777777778,
              "#fb9f3a"
             ],
             [
              0.8888888888888888,
              "#fdca26"
             ],
             [
              1,
              "#f0f921"
             ]
            ],
            "type": "heatmap"
           }
          ],
          "heatmapgl": [
           {
            "colorbar": {
             "outlinewidth": 0,
             "ticks": ""
            },
            "colorscale": [
             [
              0,
              "#0d0887"
             ],
             [
              0.1111111111111111,
              "#46039f"
             ],
             [
              0.2222222222222222,
              "#7201a8"
             ],
             [
              0.3333333333333333,
              "#9c179e"
             ],
             [
              0.4444444444444444,
              "#bd3786"
             ],
             [
              0.5555555555555556,
              "#d8576b"
             ],
             [
              0.6666666666666666,
              "#ed7953"
             ],
             [
              0.7777777777777778,
              "#fb9f3a"
             ],
             [
              0.8888888888888888,
              "#fdca26"
             ],
             [
              1,
              "#f0f921"
             ]
            ],
            "type": "heatmapgl"
           }
          ],
          "histogram": [
           {
            "marker": {
             "pattern": {
              "fillmode": "overlay",
              "size": 10,
              "solidity": 0.2
             }
            },
            "type": "histogram"
           }
          ],
          "histogram2d": [
           {
            "colorbar": {
             "outlinewidth": 0,
             "ticks": ""
            },
            "colorscale": [
             [
              0,
              "#0d0887"
             ],
             [
              0.1111111111111111,
              "#46039f"
             ],
             [
              0.2222222222222222,
              "#7201a8"
             ],
             [
              0.3333333333333333,
              "#9c179e"
             ],
             [
              0.4444444444444444,
              "#bd3786"
             ],
             [
              0.5555555555555556,
              "#d8576b"
             ],
             [
              0.6666666666666666,
              "#ed7953"
             ],
             [
              0.7777777777777778,
              "#fb9f3a"
             ],
             [
              0.8888888888888888,
              "#fdca26"
             ],
             [
              1,
              "#f0f921"
             ]
            ],
            "type": "histogram2d"
           }
          ],
          "histogram2dcontour": [
           {
            "colorbar": {
             "outlinewidth": 0,
             "ticks": ""
            },
            "colorscale": [
             [
              0,
              "#0d0887"
             ],
             [
              0.1111111111111111,
              "#46039f"
             ],
             [
              0.2222222222222222,
              "#7201a8"
             ],
             [
              0.3333333333333333,
              "#9c179e"
             ],
             [
              0.4444444444444444,
              "#bd3786"
             ],
             [
              0.5555555555555556,
              "#d8576b"
             ],
             [
              0.6666666666666666,
              "#ed7953"
             ],
             [
              0.7777777777777778,
              "#fb9f3a"
             ],
             [
              0.8888888888888888,
              "#fdca26"
             ],
             [
              1,
              "#f0f921"
             ]
            ],
            "type": "histogram2dcontour"
           }
          ],
          "mesh3d": [
           {
            "colorbar": {
             "outlinewidth": 0,
             "ticks": ""
            },
            "type": "mesh3d"
           }
          ],
          "parcoords": [
           {
            "line": {
             "colorbar": {
              "outlinewidth": 0,
              "ticks": ""
             }
            },
            "type": "parcoords"
           }
          ],
          "pie": [
           {
            "automargin": true,
            "type": "pie"
           }
          ],
          "scatter": [
           {
            "fillpattern": {
             "fillmode": "overlay",
             "size": 10,
             "solidity": 0.2
            },
            "type": "scatter"
           }
          ],
          "scatter3d": [
           {
            "line": {
             "colorbar": {
              "outlinewidth": 0,
              "ticks": ""
             }
            },
            "marker": {
             "colorbar": {
              "outlinewidth": 0,
              "ticks": ""
             }
            },
            "type": "scatter3d"
           }
          ],
          "scattercarpet": [
           {
            "marker": {
             "colorbar": {
              "outlinewidth": 0,
              "ticks": ""
             }
            },
            "type": "scattercarpet"
           }
          ],
          "scattergeo": [
           {
            "marker": {
             "colorbar": {
              "outlinewidth": 0,
              "ticks": ""
             }
            },
            "type": "scattergeo"
           }
          ],
          "scattergl": [
           {
            "marker": {
             "colorbar": {
              "outlinewidth": 0,
              "ticks": ""
             }
            },
            "type": "scattergl"
           }
          ],
          "scattermapbox": [
           {
            "marker": {
             "colorbar": {
              "outlinewidth": 0,
              "ticks": ""
             }
            },
            "type": "scattermapbox"
           }
          ],
          "scatterpolar": [
           {
            "marker": {
             "colorbar": {
              "outlinewidth": 0,
              "ticks": ""
             }
            },
            "type": "scatterpolar"
           }
          ],
          "scatterpolargl": [
           {
            "marker": {
             "colorbar": {
              "outlinewidth": 0,
              "ticks": ""
             }
            },
            "type": "scatterpolargl"
           }
          ],
          "scatterternary": [
           {
            "marker": {
             "colorbar": {
              "outlinewidth": 0,
              "ticks": ""
             }
            },
            "type": "scatterternary"
           }
          ],
          "surface": [
           {
            "colorbar": {
             "outlinewidth": 0,
             "ticks": ""
            },
            "colorscale": [
             [
              0,
              "#0d0887"
             ],
             [
              0.1111111111111111,
              "#46039f"
             ],
             [
              0.2222222222222222,
              "#7201a8"
             ],
             [
              0.3333333333333333,
              "#9c179e"
             ],
             [
              0.4444444444444444,
              "#bd3786"
             ],
             [
              0.5555555555555556,
              "#d8576b"
             ],
             [
              0.6666666666666666,
              "#ed7953"
             ],
             [
              0.7777777777777778,
              "#fb9f3a"
             ],
             [
              0.8888888888888888,
              "#fdca26"
             ],
             [
              1,
              "#f0f921"
             ]
            ],
            "type": "surface"
           }
          ],
          "table": [
           {
            "cells": {
             "fill": {
              "color": "#EBF0F8"
             },
             "line": {
              "color": "white"
             }
            },
            "header": {
             "fill": {
              "color": "#C8D4E3"
             },
             "line": {
              "color": "white"
             }
            },
            "type": "table"
           }
          ]
         },
         "layout": {
          "annotationdefaults": {
           "arrowcolor": "#2a3f5f",
           "arrowhead": 0,
           "arrowwidth": 1
          },
          "autotypenumbers": "strict",
          "coloraxis": {
           "colorbar": {
            "outlinewidth": 0,
            "ticks": ""
           }
          },
          "colorscale": {
           "diverging": [
            [
             0,
             "#8e0152"
            ],
            [
             0.1,
             "#c51b7d"
            ],
            [
             0.2,
             "#de77ae"
            ],
            [
             0.3,
             "#f1b6da"
            ],
            [
             0.4,
             "#fde0ef"
            ],
            [
             0.5,
             "#f7f7f7"
            ],
            [
             0.6,
             "#e6f5d0"
            ],
            [
             0.7,
             "#b8e186"
            ],
            [
             0.8,
             "#7fbc41"
            ],
            [
             0.9,
             "#4d9221"
            ],
            [
             1,
             "#276419"
            ]
           ],
           "sequential": [
            [
             0,
             "#0d0887"
            ],
            [
             0.1111111111111111,
             "#46039f"
            ],
            [
             0.2222222222222222,
             "#7201a8"
            ],
            [
             0.3333333333333333,
             "#9c179e"
            ],
            [
             0.4444444444444444,
             "#bd3786"
            ],
            [
             0.5555555555555556,
             "#d8576b"
            ],
            [
             0.6666666666666666,
             "#ed7953"
            ],
            [
             0.7777777777777778,
             "#fb9f3a"
            ],
            [
             0.8888888888888888,
             "#fdca26"
            ],
            [
             1,
             "#f0f921"
            ]
           ],
           "sequentialminus": [
            [
             0,
             "#0d0887"
            ],
            [
             0.1111111111111111,
             "#46039f"
            ],
            [
             0.2222222222222222,
             "#7201a8"
            ],
            [
             0.3333333333333333,
             "#9c179e"
            ],
            [
             0.4444444444444444,
             "#bd3786"
            ],
            [
             0.5555555555555556,
             "#d8576b"
            ],
            [
             0.6666666666666666,
             "#ed7953"
            ],
            [
             0.7777777777777778,
             "#fb9f3a"
            ],
            [
             0.8888888888888888,
             "#fdca26"
            ],
            [
             1,
             "#f0f921"
            ]
           ]
          },
          "colorway": [
           "#636efa",
           "#EF553B",
           "#00cc96",
           "#ab63fa",
           "#FFA15A",
           "#19d3f3",
           "#FF6692",
           "#B6E880",
           "#FF97FF",
           "#FECB52"
          ],
          "font": {
           "color": "#2a3f5f"
          },
          "geo": {
           "bgcolor": "white",
           "lakecolor": "white",
           "landcolor": "white",
           "showlakes": true,
           "showland": true,
           "subunitcolor": "#C8D4E3"
          },
          "hoverlabel": {
           "align": "left"
          },
          "hovermode": "closest",
          "mapbox": {
           "style": "light"
          },
          "paper_bgcolor": "white",
          "plot_bgcolor": "white",
          "polar": {
           "angularaxis": {
            "gridcolor": "#EBF0F8",
            "linecolor": "#EBF0F8",
            "ticks": ""
           },
           "bgcolor": "white",
           "radialaxis": {
            "gridcolor": "#EBF0F8",
            "linecolor": "#EBF0F8",
            "ticks": ""
           }
          },
          "scene": {
           "xaxis": {
            "backgroundcolor": "white",
            "gridcolor": "#DFE8F3",
            "gridwidth": 2,
            "linecolor": "#EBF0F8",
            "showbackground": true,
            "ticks": "",
            "zerolinecolor": "#EBF0F8"
           },
           "yaxis": {
            "backgroundcolor": "white",
            "gridcolor": "#DFE8F3",
            "gridwidth": 2,
            "linecolor": "#EBF0F8",
            "showbackground": true,
            "ticks": "",
            "zerolinecolor": "#EBF0F8"
           },
           "zaxis": {
            "backgroundcolor": "white",
            "gridcolor": "#DFE8F3",
            "gridwidth": 2,
            "linecolor": "#EBF0F8",
            "showbackground": true,
            "ticks": "",
            "zerolinecolor": "#EBF0F8"
           }
          },
          "shapedefaults": {
           "line": {
            "color": "#2a3f5f"
           }
          },
          "ternary": {
           "aaxis": {
            "gridcolor": "#DFE8F3",
            "linecolor": "#A2B1C6",
            "ticks": ""
           },
           "baxis": {
            "gridcolor": "#DFE8F3",
            "linecolor": "#A2B1C6",
            "ticks": ""
           },
           "bgcolor": "white",
           "caxis": {
            "gridcolor": "#DFE8F3",
            "linecolor": "#A2B1C6",
            "ticks": ""
           }
          },
          "title": {
           "x": 0.05
          },
          "xaxis": {
           "automargin": true,
           "gridcolor": "#EBF0F8",
           "linecolor": "#EBF0F8",
           "ticks": "",
           "title": {
            "standoff": 15
           },
           "zerolinecolor": "#EBF0F8",
           "zerolinewidth": 2
          },
          "yaxis": {
           "automargin": true,
           "gridcolor": "#EBF0F8",
           "linecolor": "#EBF0F8",
           "ticks": "",
           "title": {
            "standoff": 15
           },
           "zerolinecolor": "#EBF0F8",
           "zerolinewidth": 2
          }
         }
        },
        "title": {
         "text": "Losses"
        },
        "xaxis": {
         "anchor": "y",
         "domain": [
          0,
          1
         ],
         "title": {
          "text": "index"
         }
        },
        "yaxis": {
         "anchor": "x",
         "domain": [
          0,
          1
         ],
         "title": {
          "text": "value"
         },
         "type": "log"
        }
       }
      }
     },
     "metadata": {},
     "output_type": "display_data"
    }
   ],
   "source": [
    "seq_length = 1\n",
    "n_epochs = 2000\n",
    "batch_size = 8\n",
    "patience = 120\n",
    "lr = 0.001\n",
    "n_features = train.shape[1]\n",
    "device = \"cuda\"\n",
    "\n",
    "data_module = ap.PassengerDataModule(\n",
    "  train=train,\n",
    "  val=val,\n",
    "  test=test,\n",
    "  seq_length=seq_length,\n",
    "  batch_size=batch_size,\n",
    "  device=device,\n",
    "  target_col=\"passengers\",\n",
    ")\n",
    "\n",
    "\n",
    "# Create the model, optimizer and loss function\n",
    "lstm = ap.PassengerLSTM(\n",
    "  input_size=n_features,\n",
    "  lstm_hidden_size=200,\n",
    "  lstm_dropout=0.2,\n",
    "  num_layers=2,\n",
    "  output_size=1,\n",
    "  device=device,\n",
    "  fc_sizes=[50, 10],\n",
    ")\n",
    "optimizer = optim.Adam(lstm.parameters(), lr=0.0001)\n",
    "loss_fn = nn.MSELoss()\n",
    "early_stopping = ap.EarlyStopping(patience=patience, verbose=2)\n",
    "\n",
    "# Train the model\n",
    "predictor = ap.PassengerPredictor(\n",
    "  data_module=data_module, model=lstm, optimizer=optimizer, loss_fn=loss_fn\n",
    ")\n",
    "train_losses, val_losses = predictor.train(\n",
    "  model=lstm,\n",
    "  optimizer=optimizer,\n",
    "  loss_fn=loss_fn,\n",
    "  n_epochs=n_epochs,\n",
    "  early_stopping=early_stopping,\n",
    ")\n",
    "\n",
    "\n",
    "# Plot the losses\n",
    "losses = pd.DataFrame({\"train\": train_losses, \"val\": val_losses})\n",
    "px.line(losses, y=[\"train\", \"val\"], title=\"Losses\", log_y=True)\n"
   ]
  },
  {
   "attachments": {},
   "cell_type": "markdown",
   "metadata": {},
   "source": [
    "Here are the predictions plotted with the train, validation and test sets."
   ]
  },
  {
   "cell_type": "code",
   "execution_count": 20,
   "metadata": {},
   "outputs": [
    {
     "data": {
      "application/vnd.plotly.v1+json": {
       "config": {
        "plotlyServerURL": "https://plot.ly"
       },
       "data": [
        {
         "mode": "lines",
         "name": "train",
         "type": "scatter",
         "x": [
          "1949-01-01T00:00:00",
          "1949-02-01T00:00:00",
          "1949-03-01T00:00:00",
          "1949-04-01T00:00:00",
          "1949-05-01T00:00:00",
          "1949-06-01T00:00:00",
          "1949-07-01T00:00:00",
          "1949-08-01T00:00:00",
          "1949-09-01T00:00:00",
          "1949-10-01T00:00:00",
          "1949-11-01T00:00:00",
          "1949-12-01T00:00:00",
          "1950-01-01T00:00:00",
          "1950-02-01T00:00:00",
          "1950-03-01T00:00:00",
          "1950-04-01T00:00:00",
          "1950-05-01T00:00:00",
          "1950-06-01T00:00:00",
          "1950-07-01T00:00:00",
          "1950-08-01T00:00:00",
          "1950-09-01T00:00:00",
          "1950-10-01T00:00:00",
          "1950-11-01T00:00:00",
          "1950-12-01T00:00:00",
          "1951-01-01T00:00:00",
          "1951-02-01T00:00:00",
          "1951-03-01T00:00:00",
          "1951-04-01T00:00:00",
          "1951-05-01T00:00:00",
          "1951-06-01T00:00:00",
          "1951-07-01T00:00:00",
          "1951-08-01T00:00:00",
          "1951-09-01T00:00:00",
          "1951-10-01T00:00:00",
          "1951-11-01T00:00:00",
          "1951-12-01T00:00:00",
          "1952-01-01T00:00:00",
          "1952-02-01T00:00:00",
          "1952-03-01T00:00:00",
          "1952-04-01T00:00:00",
          "1952-05-01T00:00:00",
          "1952-06-01T00:00:00",
          "1952-07-01T00:00:00",
          "1952-08-01T00:00:00",
          "1952-09-01T00:00:00",
          "1952-10-01T00:00:00",
          "1952-11-01T00:00:00",
          "1952-12-01T00:00:00",
          "1953-01-01T00:00:00",
          "1953-02-01T00:00:00",
          "1953-03-01T00:00:00",
          "1953-04-01T00:00:00",
          "1953-05-01T00:00:00",
          "1953-06-01T00:00:00",
          "1953-07-01T00:00:00",
          "1953-08-01T00:00:00",
          "1953-09-01T00:00:00",
          "1953-10-01T00:00:00",
          "1953-11-01T00:00:00",
          "1953-12-01T00:00:00",
          "1954-01-01T00:00:00",
          "1954-02-01T00:00:00",
          "1954-03-01T00:00:00",
          "1954-04-01T00:00:00",
          "1954-05-01T00:00:00",
          "1954-06-01T00:00:00",
          "1954-07-01T00:00:00",
          "1954-08-01T00:00:00",
          "1954-09-01T00:00:00",
          "1954-10-01T00:00:00",
          "1954-11-01T00:00:00",
          "1954-12-01T00:00:00",
          "1955-01-01T00:00:00",
          "1955-02-01T00:00:00",
          "1955-03-01T00:00:00",
          "1955-04-01T00:00:00",
          "1955-05-01T00:00:00",
          "1955-06-01T00:00:00",
          "1955-07-01T00:00:00",
          "1955-08-01T00:00:00",
          "1955-09-01T00:00:00"
         ],
         "y": [
          0.03076923076923077,
          0.05384615384615388,
          0.10769230769230764,
          0.09615384615384615,
          0.06538461538461537,
          0.11923076923076925,
          0.16923076923076918,
          0.16923076923076918,
          0.12307692307692308,
          0.05769230769230771,
          0,
          0.05384615384615388,
          0.042307692307692324,
          0.08461538461538465,
          0.14230769230769236,
          0.11923076923076925,
          0.08076923076923076,
          0.17307692307692313,
          0.25384615384615383,
          0.25384615384615383,
          0.20769230769230773,
          0.11153846153846159,
          0.038461538461538436,
          0.13846153846153852,
          0.1576923076923077,
          0.17692307692307696,
          0.2846153846153846,
          0.2269230769230769,
          0.2615384615384616,
          0.2846153846153846,
          0.3653846153846154,
          0.3653846153846154,
          0.3076923076923077,
          0.22307692307692306,
          0.16153846153846152,
          0.2384615384615385,
          0.25769230769230766,
          0.29230769230769227,
          0.3423076923076923,
          0.2961538461538462,
          0.3038461538461539,
          0.43846153846153846,
          0.48461538461538467,
          0.5307692307692308,
          0.40384615384615385,
          0.33461538461538465,
          0.2615384615384616,
          0.34615384615384615,
          0.3538461538461538,
          0.3538461538461538,
          0.5076923076923078,
          0.5038461538461538,
          0.48076923076923084,
          0.5346153846153846,
          0.6153846153846153,
          0.6461538461538462,
          0.5115384615384616,
          0.4115384615384615,
          0.29230769230769227,
          0.3730769230769231,
          0.3846153846153847,
          0.32307692307692315,
          0.5038461538461538,
          0.47307692307692306,
          0.5,
          0.6153846153846153,
          0.7615384615384616,
          0.7269230769230769,
          0.5961538461538461,
          0.48076923076923084,
          0.38076923076923075,
          0.48076923076923084,
          0.5307692307692308,
          0.49615384615384617,
          0.626923076923077,
          0.6346153846153847,
          0.6384615384615385,
          0.8115384615384617,
          1,
          0.9346153846153847,
          0.8000000000000002
         ]
        },
        {
         "mode": "lines",
         "name": "val",
         "type": "scatter",
         "x": [
          "1955-10-01T00:00:00",
          "1955-11-01T00:00:00",
          "1955-12-01T00:00:00",
          "1956-01-01T00:00:00",
          "1956-02-01T00:00:00",
          "1956-03-01T00:00:00",
          "1956-04-01T00:00:00",
          "1956-05-01T00:00:00",
          "1956-06-01T00:00:00",
          "1956-07-01T00:00:00",
          "1956-08-01T00:00:00",
          "1956-09-01T00:00:00",
          "1956-10-01T00:00:00",
          "1956-11-01T00:00:00",
          "1956-12-01T00:00:00"
         ],
         "y": [
          0.6538461538461539,
          0.5115384615384616,
          0.6692307692307692,
          0.6923076923076924,
          0.6653846153846154,
          0.8192307692307693,
          0.803846153846154,
          0.8230769230769232,
          1.0384615384615383,
          1.1884615384615387,
          1.1576923076923076,
          0.9653846153846154,
          0.7769230769230769,
          0.6423076923076924,
          0.7769230769230769
         ]
        },
        {
         "mode": "lines",
         "name": "test",
         "type": "scatter",
         "x": [
          "1957-01-01T00:00:00",
          "1957-02-01T00:00:00",
          "1957-03-01T00:00:00",
          "1957-04-01T00:00:00",
          "1957-05-01T00:00:00",
          "1957-06-01T00:00:00",
          "1957-07-01T00:00:00",
          "1957-08-01T00:00:00",
          "1957-09-01T00:00:00",
          "1957-10-01T00:00:00",
          "1957-11-01T00:00:00",
          "1957-12-01T00:00:00",
          "1958-01-01T00:00:00",
          "1958-02-01T00:00:00",
          "1958-03-01T00:00:00",
          "1958-04-01T00:00:00",
          "1958-05-01T00:00:00",
          "1958-06-01T00:00:00",
          "1958-07-01T00:00:00",
          "1958-08-01T00:00:00",
          "1958-09-01T00:00:00",
          "1958-10-01T00:00:00",
          "1958-11-01T00:00:00",
          "1958-12-01T00:00:00",
          "1959-01-01T00:00:00",
          "1959-02-01T00:00:00",
          "1959-03-01T00:00:00",
          "1959-04-01T00:00:00",
          "1959-05-01T00:00:00",
          "1959-06-01T00:00:00",
          "1959-07-01T00:00:00",
          "1959-08-01T00:00:00",
          "1959-09-01T00:00:00",
          "1959-10-01T00:00:00",
          "1959-11-01T00:00:00",
          "1959-12-01T00:00:00",
          "1960-01-01T00:00:00",
          "1960-02-01T00:00:00",
          "1960-03-01T00:00:00",
          "1960-04-01T00:00:00",
          "1960-05-01T00:00:00",
          "1960-06-01T00:00:00",
          "1960-07-01T00:00:00",
          "1960-08-01T00:00:00",
          "1960-09-01T00:00:00",
          "1960-10-01T00:00:00",
          "1960-11-01T00:00:00",
          "1960-12-01T00:00:00"
         ],
         "y": [
          0.8115384615384617,
          0.7576923076923078,
          0.9692307692307692,
          0.9384615384615386,
          0.9653846153846154,
          1.2230769230769232,
          1.3884615384615384,
          1.396153846153846,
          1.1538461538461537,
          0.9346153846153847,
          0.7730769230769231,
          0.8923076923076924,
          0.9076923076923077,
          0.8230769230769232,
          0.9923076923076924,
          0.9384615384615386,
          0.9961538461538463,
          1.273076923076923,
          1.4884615384615385,
          1.5423076923076926,
          1.1538461538461537,
          0.9807692307692307,
          0.7923076923076923,
          0.8961538461538462,
          0.9846153846153846,
          0.9153846153846154,
          1.1615384615384614,
          1.123076923076923,
          1.2153846153846155,
          1.4153846153846157,
          1.7076923076923078,
          1.75,
          1.3807692307692307,
          1.1653846153846152,
          0.9923076923076924,
          1.1576923076923076,
          1.203846153846154,
          1.103846153846154,
          1.2115384615384617,
          1.373076923076923,
          1.4153846153846157,
          1.657692307692308,
          1.9923076923076923,
          1.930769230769231,
          1.553846153846154,
          1.373076923076923,
          1.1,
          1.2615384615384615
         ]
        },
        {
         "mode": "lines",
         "name": "pred",
         "type": "scatter",
         "x": [
          "1957-02-01T00:00:00",
          "1957-03-01T00:00:00",
          "1957-04-01T00:00:00",
          "1957-05-01T00:00:00",
          "1957-06-01T00:00:00",
          "1957-07-01T00:00:00",
          "1957-08-01T00:00:00",
          "1957-09-01T00:00:00",
          "1957-10-01T00:00:00",
          "1957-11-01T00:00:00",
          "1957-12-01T00:00:00",
          "1958-01-01T00:00:00",
          "1958-02-01T00:00:00",
          "1958-03-01T00:00:00",
          "1958-04-01T00:00:00",
          "1958-05-01T00:00:00",
          "1958-06-01T00:00:00",
          "1958-07-01T00:00:00",
          "1958-08-01T00:00:00",
          "1958-09-01T00:00:00",
          "1958-10-01T00:00:00",
          "1958-11-01T00:00:00",
          "1958-12-01T00:00:00",
          "1959-01-01T00:00:00",
          "1959-02-01T00:00:00",
          "1959-03-01T00:00:00",
          "1959-04-01T00:00:00",
          "1959-05-01T00:00:00",
          "1959-06-01T00:00:00",
          "1959-07-01T00:00:00",
          "1959-08-01T00:00:00",
          "1959-09-01T00:00:00",
          "1959-10-01T00:00:00",
          "1959-11-01T00:00:00",
          "1959-12-01T00:00:00",
          "1960-01-01T00:00:00",
          "1960-02-01T00:00:00",
          "1960-03-01T00:00:00",
          "1960-04-01T00:00:00",
          "1960-05-01T00:00:00",
          "1960-06-01T00:00:00",
          "1960-07-01T00:00:00",
          "1960-08-01T00:00:00",
          "1960-09-01T00:00:00",
          "1960-10-01T00:00:00",
          "1960-11-01T00:00:00",
          "1960-12-01T00:00:00"
         ],
         "y": [
          0.7862908,
          0.92475665,
          0.959787,
          0.9710001,
          1.1444879,
          1.3815336,
          1.3553028,
          1.1793634,
          0.9667933,
          0.7760345,
          0.874366,
          0.93637437,
          0.9036022,
          1.0374647,
          1.0541786,
          1.0549461,
          1.2537563,
          1.5105894,
          1.5053874,
          1.3436999,
          1.0456871,
          0.86947685,
          0.9601937,
          1.0185381,
          1.0164075,
          1.168127,
          1.230579,
          1.2430164,
          1.4797975,
          1.701353,
          1.731964,
          1.5495632,
          1.2453122,
          1.0331844,
          1.1408919,
          1.2409769,
          1.2061467,
          1.3563554,
          1.3469098,
          1.4784344,
          1.7031981,
          1.9631842,
          2.007241,
          1.747246,
          1.425474,
          1.2177856,
          1.2811371
         ]
        },
        {
         "mode": "lines",
         "name": "pred_val",
         "type": "scatter",
         "x": [
          "1955-11-01T00:00:00",
          "1955-12-01T00:00:00",
          "1956-01-01T00:00:00",
          "1956-02-01T00:00:00",
          "1956-03-01T00:00:00",
          "1956-04-01T00:00:00",
          "1956-05-01T00:00:00",
          "1956-06-01T00:00:00",
          "1956-07-01T00:00:00",
          "1956-08-01T00:00:00",
          "1956-09-01T00:00:00",
          "1956-10-01T00:00:00",
          "1956-11-01T00:00:00",
          "1956-12-01T00:00:00"
         ],
         "y": [
          0.5232148,
          0.6130502,
          0.67846113,
          0.66422087,
          0.80326986,
          0.80614936,
          0.821553,
          0.97682774,
          1.1761569,
          1.1548978,
          0.975404,
          0.80123264,
          0.6386549,
          0.74016917
         ]
        }
       ],
       "layout": {
        "template": {
         "data": {
          "bar": [
           {
            "error_x": {
             "color": "#2a3f5f"
            },
            "error_y": {
             "color": "#2a3f5f"
            },
            "marker": {
             "line": {
              "color": "white",
              "width": 0.5
             },
             "pattern": {
              "fillmode": "overlay",
              "size": 10,
              "solidity": 0.2
             }
            },
            "type": "bar"
           }
          ],
          "barpolar": [
           {
            "marker": {
             "line": {
              "color": "white",
              "width": 0.5
             },
             "pattern": {
              "fillmode": "overlay",
              "size": 10,
              "solidity": 0.2
             }
            },
            "type": "barpolar"
           }
          ],
          "carpet": [
           {
            "aaxis": {
             "endlinecolor": "#2a3f5f",
             "gridcolor": "#C8D4E3",
             "linecolor": "#C8D4E3",
             "minorgridcolor": "#C8D4E3",
             "startlinecolor": "#2a3f5f"
            },
            "baxis": {
             "endlinecolor": "#2a3f5f",
             "gridcolor": "#C8D4E3",
             "linecolor": "#C8D4E3",
             "minorgridcolor": "#C8D4E3",
             "startlinecolor": "#2a3f5f"
            },
            "type": "carpet"
           }
          ],
          "choropleth": [
           {
            "colorbar": {
             "outlinewidth": 0,
             "ticks": ""
            },
            "type": "choropleth"
           }
          ],
          "contour": [
           {
            "colorbar": {
             "outlinewidth": 0,
             "ticks": ""
            },
            "colorscale": [
             [
              0,
              "#0d0887"
             ],
             [
              0.1111111111111111,
              "#46039f"
             ],
             [
              0.2222222222222222,
              "#7201a8"
             ],
             [
              0.3333333333333333,
              "#9c179e"
             ],
             [
              0.4444444444444444,
              "#bd3786"
             ],
             [
              0.5555555555555556,
              "#d8576b"
             ],
             [
              0.6666666666666666,
              "#ed7953"
             ],
             [
              0.7777777777777778,
              "#fb9f3a"
             ],
             [
              0.8888888888888888,
              "#fdca26"
             ],
             [
              1,
              "#f0f921"
             ]
            ],
            "type": "contour"
           }
          ],
          "contourcarpet": [
           {
            "colorbar": {
             "outlinewidth": 0,
             "ticks": ""
            },
            "type": "contourcarpet"
           }
          ],
          "heatmap": [
           {
            "colorbar": {
             "outlinewidth": 0,
             "ticks": ""
            },
            "colorscale": [
             [
              0,
              "#0d0887"
             ],
             [
              0.1111111111111111,
              "#46039f"
             ],
             [
              0.2222222222222222,
              "#7201a8"
             ],
             [
              0.3333333333333333,
              "#9c179e"
             ],
             [
              0.4444444444444444,
              "#bd3786"
             ],
             [
              0.5555555555555556,
              "#d8576b"
             ],
             [
              0.6666666666666666,
              "#ed7953"
             ],
             [
              0.7777777777777778,
              "#fb9f3a"
             ],
             [
              0.8888888888888888,
              "#fdca26"
             ],
             [
              1,
              "#f0f921"
             ]
            ],
            "type": "heatmap"
           }
          ],
          "heatmapgl": [
           {
            "colorbar": {
             "outlinewidth": 0,
             "ticks": ""
            },
            "colorscale": [
             [
              0,
              "#0d0887"
             ],
             [
              0.1111111111111111,
              "#46039f"
             ],
             [
              0.2222222222222222,
              "#7201a8"
             ],
             [
              0.3333333333333333,
              "#9c179e"
             ],
             [
              0.4444444444444444,
              "#bd3786"
             ],
             [
              0.5555555555555556,
              "#d8576b"
             ],
             [
              0.6666666666666666,
              "#ed7953"
             ],
             [
              0.7777777777777778,
              "#fb9f3a"
             ],
             [
              0.8888888888888888,
              "#fdca26"
             ],
             [
              1,
              "#f0f921"
             ]
            ],
            "type": "heatmapgl"
           }
          ],
          "histogram": [
           {
            "marker": {
             "pattern": {
              "fillmode": "overlay",
              "size": 10,
              "solidity": 0.2
             }
            },
            "type": "histogram"
           }
          ],
          "histogram2d": [
           {
            "colorbar": {
             "outlinewidth": 0,
             "ticks": ""
            },
            "colorscale": [
             [
              0,
              "#0d0887"
             ],
             [
              0.1111111111111111,
              "#46039f"
             ],
             [
              0.2222222222222222,
              "#7201a8"
             ],
             [
              0.3333333333333333,
              "#9c179e"
             ],
             [
              0.4444444444444444,
              "#bd3786"
             ],
             [
              0.5555555555555556,
              "#d8576b"
             ],
             [
              0.6666666666666666,
              "#ed7953"
             ],
             [
              0.7777777777777778,
              "#fb9f3a"
             ],
             [
              0.8888888888888888,
              "#fdca26"
             ],
             [
              1,
              "#f0f921"
             ]
            ],
            "type": "histogram2d"
           }
          ],
          "histogram2dcontour": [
           {
            "colorbar": {
             "outlinewidth": 0,
             "ticks": ""
            },
            "colorscale": [
             [
              0,
              "#0d0887"
             ],
             [
              0.1111111111111111,
              "#46039f"
             ],
             [
              0.2222222222222222,
              "#7201a8"
             ],
             [
              0.3333333333333333,
              "#9c179e"
             ],
             [
              0.4444444444444444,
              "#bd3786"
             ],
             [
              0.5555555555555556,
              "#d8576b"
             ],
             [
              0.6666666666666666,
              "#ed7953"
             ],
             [
              0.7777777777777778,
              "#fb9f3a"
             ],
             [
              0.8888888888888888,
              "#fdca26"
             ],
             [
              1,
              "#f0f921"
             ]
            ],
            "type": "histogram2dcontour"
           }
          ],
          "mesh3d": [
           {
            "colorbar": {
             "outlinewidth": 0,
             "ticks": ""
            },
            "type": "mesh3d"
           }
          ],
          "parcoords": [
           {
            "line": {
             "colorbar": {
              "outlinewidth": 0,
              "ticks": ""
             }
            },
            "type": "parcoords"
           }
          ],
          "pie": [
           {
            "automargin": true,
            "type": "pie"
           }
          ],
          "scatter": [
           {
            "fillpattern": {
             "fillmode": "overlay",
             "size": 10,
             "solidity": 0.2
            },
            "type": "scatter"
           }
          ],
          "scatter3d": [
           {
            "line": {
             "colorbar": {
              "outlinewidth": 0,
              "ticks": ""
             }
            },
            "marker": {
             "colorbar": {
              "outlinewidth": 0,
              "ticks": ""
             }
            },
            "type": "scatter3d"
           }
          ],
          "scattercarpet": [
           {
            "marker": {
             "colorbar": {
              "outlinewidth": 0,
              "ticks": ""
             }
            },
            "type": "scattercarpet"
           }
          ],
          "scattergeo": [
           {
            "marker": {
             "colorbar": {
              "outlinewidth": 0,
              "ticks": ""
             }
            },
            "type": "scattergeo"
           }
          ],
          "scattergl": [
           {
            "marker": {
             "colorbar": {
              "outlinewidth": 0,
              "ticks": ""
             }
            },
            "type": "scattergl"
           }
          ],
          "scattermapbox": [
           {
            "marker": {
             "colorbar": {
              "outlinewidth": 0,
              "ticks": ""
             }
            },
            "type": "scattermapbox"
           }
          ],
          "scatterpolar": [
           {
            "marker": {
             "colorbar": {
              "outlinewidth": 0,
              "ticks": ""
             }
            },
            "type": "scatterpolar"
           }
          ],
          "scatterpolargl": [
           {
            "marker": {
             "colorbar": {
              "outlinewidth": 0,
              "ticks": ""
             }
            },
            "type": "scatterpolargl"
           }
          ],
          "scatterternary": [
           {
            "marker": {
             "colorbar": {
              "outlinewidth": 0,
              "ticks": ""
             }
            },
            "type": "scatterternary"
           }
          ],
          "surface": [
           {
            "colorbar": {
             "outlinewidth": 0,
             "ticks": ""
            },
            "colorscale": [
             [
              0,
              "#0d0887"
             ],
             [
              0.1111111111111111,
              "#46039f"
             ],
             [
              0.2222222222222222,
              "#7201a8"
             ],
             [
              0.3333333333333333,
              "#9c179e"
             ],
             [
              0.4444444444444444,
              "#bd3786"
             ],
             [
              0.5555555555555556,
              "#d8576b"
             ],
             [
              0.6666666666666666,
              "#ed7953"
             ],
             [
              0.7777777777777778,
              "#fb9f3a"
             ],
             [
              0.8888888888888888,
              "#fdca26"
             ],
             [
              1,
              "#f0f921"
             ]
            ],
            "type": "surface"
           }
          ],
          "table": [
           {
            "cells": {
             "fill": {
              "color": "#EBF0F8"
             },
             "line": {
              "color": "white"
             }
            },
            "header": {
             "fill": {
              "color": "#C8D4E3"
             },
             "line": {
              "color": "white"
             }
            },
            "type": "table"
           }
          ]
         },
         "layout": {
          "annotationdefaults": {
           "arrowcolor": "#2a3f5f",
           "arrowhead": 0,
           "arrowwidth": 1
          },
          "autotypenumbers": "strict",
          "coloraxis": {
           "colorbar": {
            "outlinewidth": 0,
            "ticks": ""
           }
          },
          "colorscale": {
           "diverging": [
            [
             0,
             "#8e0152"
            ],
            [
             0.1,
             "#c51b7d"
            ],
            [
             0.2,
             "#de77ae"
            ],
            [
             0.3,
             "#f1b6da"
            ],
            [
             0.4,
             "#fde0ef"
            ],
            [
             0.5,
             "#f7f7f7"
            ],
            [
             0.6,
             "#e6f5d0"
            ],
            [
             0.7,
             "#b8e186"
            ],
            [
             0.8,
             "#7fbc41"
            ],
            [
             0.9,
             "#4d9221"
            ],
            [
             1,
             "#276419"
            ]
           ],
           "sequential": [
            [
             0,
             "#0d0887"
            ],
            [
             0.1111111111111111,
             "#46039f"
            ],
            [
             0.2222222222222222,
             "#7201a8"
            ],
            [
             0.3333333333333333,
             "#9c179e"
            ],
            [
             0.4444444444444444,
             "#bd3786"
            ],
            [
             0.5555555555555556,
             "#d8576b"
            ],
            [
             0.6666666666666666,
             "#ed7953"
            ],
            [
             0.7777777777777778,
             "#fb9f3a"
            ],
            [
             0.8888888888888888,
             "#fdca26"
            ],
            [
             1,
             "#f0f921"
            ]
           ],
           "sequentialminus": [
            [
             0,
             "#0d0887"
            ],
            [
             0.1111111111111111,
             "#46039f"
            ],
            [
             0.2222222222222222,
             "#7201a8"
            ],
            [
             0.3333333333333333,
             "#9c179e"
            ],
            [
             0.4444444444444444,
             "#bd3786"
            ],
            [
             0.5555555555555556,
             "#d8576b"
            ],
            [
             0.6666666666666666,
             "#ed7953"
            ],
            [
             0.7777777777777778,
             "#fb9f3a"
            ],
            [
             0.8888888888888888,
             "#fdca26"
            ],
            [
             1,
             "#f0f921"
            ]
           ]
          },
          "colorway": [
           "#636efa",
           "#EF553B",
           "#00cc96",
           "#ab63fa",
           "#FFA15A",
           "#19d3f3",
           "#FF6692",
           "#B6E880",
           "#FF97FF",
           "#FECB52"
          ],
          "font": {
           "color": "#2a3f5f"
          },
          "geo": {
           "bgcolor": "white",
           "lakecolor": "white",
           "landcolor": "white",
           "showlakes": true,
           "showland": true,
           "subunitcolor": "#C8D4E3"
          },
          "hoverlabel": {
           "align": "left"
          },
          "hovermode": "closest",
          "mapbox": {
           "style": "light"
          },
          "paper_bgcolor": "white",
          "plot_bgcolor": "white",
          "polar": {
           "angularaxis": {
            "gridcolor": "#EBF0F8",
            "linecolor": "#EBF0F8",
            "ticks": ""
           },
           "bgcolor": "white",
           "radialaxis": {
            "gridcolor": "#EBF0F8",
            "linecolor": "#EBF0F8",
            "ticks": ""
           }
          },
          "scene": {
           "xaxis": {
            "backgroundcolor": "white",
            "gridcolor": "#DFE8F3",
            "gridwidth": 2,
            "linecolor": "#EBF0F8",
            "showbackground": true,
            "ticks": "",
            "zerolinecolor": "#EBF0F8"
           },
           "yaxis": {
            "backgroundcolor": "white",
            "gridcolor": "#DFE8F3",
            "gridwidth": 2,
            "linecolor": "#EBF0F8",
            "showbackground": true,
            "ticks": "",
            "zerolinecolor": "#EBF0F8"
           },
           "zaxis": {
            "backgroundcolor": "white",
            "gridcolor": "#DFE8F3",
            "gridwidth": 2,
            "linecolor": "#EBF0F8",
            "showbackground": true,
            "ticks": "",
            "zerolinecolor": "#EBF0F8"
           }
          },
          "shapedefaults": {
           "line": {
            "color": "#2a3f5f"
           }
          },
          "ternary": {
           "aaxis": {
            "gridcolor": "#DFE8F3",
            "linecolor": "#A2B1C6",
            "ticks": ""
           },
           "baxis": {
            "gridcolor": "#DFE8F3",
            "linecolor": "#A2B1C6",
            "ticks": ""
           },
           "bgcolor": "white",
           "caxis": {
            "gridcolor": "#DFE8F3",
            "linecolor": "#A2B1C6",
            "ticks": ""
           }
          },
          "title": {
           "x": 0.05
          },
          "xaxis": {
           "automargin": true,
           "gridcolor": "#EBF0F8",
           "linecolor": "#EBF0F8",
           "ticks": "",
           "title": {
            "standoff": 15
           },
           "zerolinecolor": "#EBF0F8",
           "zerolinewidth": 2
          },
          "yaxis": {
           "automargin": true,
           "gridcolor": "#EBF0F8",
           "linecolor": "#EBF0F8",
           "ticks": "",
           "title": {
            "standoff": 15
           },
           "zerolinecolor": "#EBF0F8",
           "zerolinewidth": 2
          }
         }
        },
        "title": {
         "text": "Airline passengers. Val error: 0.0007, Test error: 0.0055"
        },
        "xaxis": {
         "title": {
          "text": "Date"
         }
        },
        "yaxis": {
         "title": {
          "text": "Passengers"
         }
        }
       }
      }
     },
     "metadata": {},
     "output_type": "display_data"
    }
   ],
   "source": [
    "y_pred = predictor.predict(model=lstm, dataloader=data_module.test_dataloader)\n",
    "pred = pd.DataFrame(\n",
    "  y_pred.flatten(), index=test.index[seq_length:], columns=[\"passengers\"]\n",
    ")\n",
    "\n",
    "y_pred_val = predictor.predict(model=lstm, dataloader=data_module.val_dataloader)\n",
    "pred_val = pd.DataFrame(\n",
    "  y_pred_val.flatten(), index=val.index[seq_length:], columns=[\"passengers\"]\n",
    ")\n",
    "\n",
    "test_pred_error = ap.compute_pred_error(\n",
    "  y_pred=y_pred,\n",
    "  y_true=test[\"passengers\"].values,\n",
    "  loss_fn=loss_fn,\n",
    "  seq_length=seq_length,\n",
    ")\n",
    "val_pred_error = ap.compute_pred_error(\n",
    "  y_pred=y_pred_val,\n",
    "  y_true=val[\"passengers\"].values,\n",
    "  loss_fn=loss_fn,\n",
    "  seq_length=seq_length,\n",
    ")\n",
    "\n",
    "fig = ap.plot_tts(train=train, val=val, test=test)\n",
    "fig.add_trace(go.Scatter(x=pred.index, y=pred[\"passengers\"], name=\"pred\", mode=\"lines\"))\n",
    "fig.add_trace(\n",
    "  go.Scatter(x=pred_val.index, y=pred_val[\"passengers\"], name=\"pred_val\", mode=\"lines\")\n",
    ")\n",
    "# fig.update_layout(title=\"Passengers prediction\")\n",
    "fig.layout.title.text += f\". Val error: {val_pred_error:.4f}, Test error: {test_pred_error:.4f}\"\n",
    "fig\n"
   ]
  },
  {
   "cell_type": "code",
   "execution_count": null,
   "metadata": {},
   "outputs": [],
   "source": []
  }
 ],
 "metadata": {
  "kernelspec": {
   "display_name": "base",
   "language": "python",
   "name": "python3"
  },
  "language_info": {
   "codemirror_mode": {
    "name": "ipython",
    "version": 3
   },
   "file_extension": ".py",
   "mimetype": "text/x-python",
   "name": "python",
   "nbconvert_exporter": "python",
   "pygments_lexer": "ipython3",
   "version": "3.10.8"
  },
  "orig_nbformat": 4,
  "vscode": {
   "interpreter": {
    "hash": "f0df963a0b00f23561625d2ba0a0b8b2d4dd4941b6b854c35050f99f4efed218"
   }
  }
 },
 "nbformat": 4,
 "nbformat_minor": 2
}

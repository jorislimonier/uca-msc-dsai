{
 "cells": [
  {
   "cell_type": "code",
   "execution_count": 2,
   "metadata": {},
   "outputs": [],
   "source": [
    "import numpy as np\n",
    "import pandas as pd\n",
    "import matplotlib.pyplot as plt"
   ]
  },
  {
   "cell_type": "markdown",
   "metadata": {},
   "source": [
    "# Back to the basics"
   ]
  },
  {
   "cell_type": "markdown",
   "metadata": {},
   "source": [
    "Before diving into the Bayesian ideas, we need to take a step back and introduce a formalism on which to rely throughout this class. The formalism looked for is the one of *probability theory*."
   ]
  },
  {
   "cell_type": "markdown",
   "metadata": {},
   "source": [
    "The key ingredients for us are:\n",
    "- Some possible events $\\omega$\n",
    "- A space $\\Omega$ to which all events belong;\n",
    "- A collection of all possible events we can construct by combining (via **complement, union and intersection**) the elements of $\\Omega$. This collection is known as *power set*, and usually denoted by $\\mathcal{P}(\\Omega)$.  $\\mathcal{P}(\\Omega)$ is a $\\sigma$-algebra. Each subset $\\Sigma$ of $\\mathcal{P}(\\Omega)$ is a $\\sigma$-algebra as well if it satisfies:\n",
    "  - $\\Omega\\in\\Sigma$\n",
    "  - $\\Sigma$ is closed under complement operation: if $A\\in\\Sigma$ then $A^C\\in\\Sigma$\n",
    "  - $\\Sigma$ is closed under countable union: if $A_1,A_2\\dots\\in\\Sigma$ then so is their union $A=A_1 \\cup A_2 \\cup$\n",
    "\n",
    "\n",
    "<img src=\"untitled.svg\"> \n",
    "\n",
    "- A *probability measure* $p$ is a function that associates to each event a measure in the interval $[0,1]$. The measure is such that: \n",
    "    - $p(\\emptyset) = 0$ and $p(\\Omega) = 1$,\n",
    "    - $p(A_1 \\cup A_2 \\cup \\ldots A_n) = p(A_1) + p(A_2) + \\ldots p(A_n)$ (countable additivity) for every pairwise disjoint sets $A_1,\\dots,A_n$."
   ]
  },
  {
   "cell_type": "markdown",
   "metadata": {},
   "source": [
    "**Example.** Let us consider a coin toss. We have 2 possible events: \n",
    "- $\\omega_1 = \\textrm{tail} := \\textrm{T}$ and $\\omega_1 = \\textrm{head} := \\textrm{H}$. \n",
    "- Then $\\Omega=\\{T,H\\}$. \n",
    "- It follows that $\\mathcal{P}(\\Omega)=\\{\\emptyset,\\{T\\},\\{H\\},\\{T,H\\}\\}$\n",
    "- Supposing the coin fair: $p(T)=p(H)=1/2$\n"
   ]
  },
  {
   "cell_type": "markdown",
   "metadata": {
    "slideshow": {
     "slide_type": "slide"
    }
   },
   "source": [
    "The next essential ingredient is the definition of *random variable*. We say that a random variable $X$ is a function that maps each element of $\\Omega$ to a real number $r\\in\\mathbb{R}$. We require the variable to be *measurable*. Formally this means that, for any real value $r$, the set of events $\\omega$ for which $\\{ \\omega \\in \\Omega; X(\\omega) \\leq r\\}$ is still an element of the $\\sigma$-algebra, i.e. it is still a possible event of our space. \n",
    "\n",
    "In simple words, we require that for any outcome related to the random variable, the probability of the associated event is well defined. The match between probabilities and events through the random variable $X$ is called *probability mass function* of $X$ for discrete variables, or *probability density function* for continuous ones."
   ]
  },
  {
   "cell_type": "markdown",
   "metadata": {},
   "source": [
    "**Example (from wikipedia).** The space $\\Omega$ associated to a coin toss is $\\Omega = \\{tail, head\\}$. A random variable $X$ associates to each element of $\\Omega$ a real value. For example, we consider a game for which we earn 1 Euros for a head, and we lose 1 Euro for tail. Therefore, $X(tail) = -1$, and $X(head) = 1$. \n",
    "\n",
    "Thinking backwards, it makes sense to consider the space for which the condition $X = 1$ is true. This means to consider the space of events $A = \\{ \\omega \\in \\Omega; X(\\omega) = 1\\}$, and the associated probability measure $p(A)$. \n",
    "In our example, for a fair coin, we have $p(X = 1) = p(\\{ \\omega \\in \\Omega; X(\\omega) = 1\\}) = \\frac{1}{2}$.\n",
    "\n",
    "\n",
    "<img src=\"Random_Variable_as_a_Function-en.svg\" alt=\"By Niyumard - Own work, CC BY-SA 4.0, https://commons.wikimedia.org/w/index.php?curid=76473622\" title=\"By Niyumard - Own work, CC BY-SA 4.0, https://commons.wikimedia.org/w/index.php?curid=76473622\" width=\"400\"/>"
   ]
  },
  {
   "cell_type": "markdown",
   "metadata": {},
   "source": [
    "**Example (from wikipedia).** The events associated to the toss of two dice are all the possible couples of integers $(a,b)$, with $1\\leq a \\leq b \\leq 6$. We consider the random variable $X$ which associates to each event the sum of the dice values $X((a,b)) = a+b$.\n",
    "\n",
    "The probability mass function of $X$ is here illustrated: \n",
    "\n",
    "<img src=\"Dice_Distribution_(bar).svg\" alt=\"By Tim Stellmach - Own work using Inkscape and Open Office Draw software., Public Domain, https://commons.wikimedia.org/w/index.php?curid=1220091\" title=\"By Tim Stellmach - Own work using Inkscape and Open Office Draw software., Public Domain, https://commons.wikimedia.org/w/index.php?curid=1220091\" width=\"400\"/>\n",
    "\n"
   ]
  },
  {
   "cell_type": "markdown",
   "metadata": {},
   "source": [
    "## Joint probability"
   ]
  },
  {
   "cell_type": "markdown",
   "metadata": {},
   "source": [
    "When dealing with multiple random variables, we often need to quantify the probability associated to their *joint realization*, which means quantifying their joint probability function.\n",
    "\n",
    "Let's consider the following example. We are interested in the variable $X$ indicating the number of children per family, jointly with the varible $Y$ associating the number of bedrooms in the family house. The variable $X$ takes values in $\\Omega^X = \\{0, 1, \\geq 2\\}$, while the variable $Y$ in $\\Omega^Y = \\{1, 2, \\geq 3\\}$.\n",
    "\n",
    "The joint probability for these discrete quantities can be assigned in terms of frequency table:\n",
    "\n"
   ]
  },
  {
   "cell_type": "code",
   "execution_count": 7,
   "metadata": {},
   "outputs": [
    {
     "data": {
      "image/png": "[encoded data removed]",
      "image/svg+xml": "<?xml version=\"1.0\" encoding=\"utf-8\" standalone=\"no\"?>\n<!DOCTYPE svg PUBLIC \"-//W3C//DTD SVG 1.1//EN\"\n  \"http://www.w3.org/Graphics/SVG/1.1/DTD/svg11.dtd\">\n<!-- Created with matplotlib (https://matplotlib.org/) -->\n<svg height=\"287.702615pt\" version=\"1.1\" viewBox=\"0 0 271.218125 287.702615\" width=\"271.218125pt\" xmlns=\"http://www.w3.org/2000/svg\" xmlns:xlink=\"http://www.w3.org/1999/xlink\">\n <defs>\n  <style type=\"text/css\">\n*{stroke-linecap:butt;stroke-linejoin:round;}\n  </style>\n </defs>\n <g id=\"figure_1\">\n  <g id=\"patch_1\">\n   <path d=\"M 0 287.702615 \nL 271.218125 287.702615 \nL 271.218125 0 \nL 0 0 \nz\n\" style=\"fill:none;\"/>\n  </g>\n  <g id=\"axes_1\">\n   <g id=\"patch_2\">\n    <path d=\"M 46.578125 239.758125 \nL 264.018125 239.758125 \nL 264.018125 22.318125 \nL 46.578125 22.318125 \nz\n\" style=\"fill:#ffffff;\"/>\n   </g>\n   <g clip-path=\"url(#pfb1050d63d)\">\n    <image height=\"218\" id=\"imagee425cd27fb\" transform=\"scale(1 -1)translate(0 -218)\" width=\"218\" x=\"46.578125\" xlink:href=\"data:image/png;base64,\niVBORw0KGgoAAAANSUhEUgAAANoAAADaCAYAAADAHVzbAAAABHNCSVQICAgIfAhkiAAAAsNJREFUeJzt1TFNg1EAhdH+YKCEYKYTJrowIgsBCMAHAkgtkHQh6dQ+FLB+7yWco+AuX+72fXkZO/70ePqYPWF54/Nn9oTl3c0eAP+B0CAgNAgIDQJCg4DQICA0CAgNAkKDgNAgIDQICA0CQoOA0CAgNAgIDQJCg4DQICA0CAgNAkKDgNAgIDQICA0CQoOA0CAgNAgIDQJCg4DQICA0CAgNAkKDgNAgIDQICA0CQoOA0CAgNAgIDQJCg4DQICA0CAgNAkKDgNAgIDQICA0CQoOA0CAgNAgIDQJCg4DQICA0CAgNAkKDgNAgIDQICA0CQoOA0CAgNAgIDQJCg4DQICA0CAgNAkKDgNAgIDQICA0C2/h6GLNHrOz6fp49YXn3r0+zJyzPo0FAaBAQGgSEBgGhQUBoEBAaBIQGAaFBQGgQEBoEhAYBoUFAaBAQGgSEBgGhQUBoEBAaBIQGAaFBQGgQEBoEhAYBoUFAaBAQGgSEBgGhQUBoEBAaBIQGAaFBQGgQEBoEhAYBoUFAaBAQGgSEBgGhQUBoEBAaBIQGAaFBQGgQEBoEhAYBoUFAaBAQGgSEBgGhQUBoEBAaBIQGAaFBQGgQEBoEhAYBoUFAaBAQGgSEBgGhQUBoEBAaBIQGAaFBQGgQEBoEttvbbswesbLL8TB7wvLO++fZE5bn0SAgNAgIDQJCg4DQICA0CAgNAkKDgNAgIDQICA0CQoOA0CAgNAgIDQJCg4DQICA0CAgNAkKDgNAgIDQICA0CQoOA0CAgNAgIDQJCg4DQICA0CAgNAkKDgNAgIDQICA0CQoOA0CAgNAgIDQJCg4DQICA0CAgNAkKDgNAgIDQICA0CQoOA0CAgNAgIDQJCg4DQICA0CAgNAkKDgNAgIDQICA0CQoOA0CAgNAgIDQJCg4DQICA0CAgNAkKDgNAgIDQICA0CQoPAL39/FJ7MrE74AAAAAElFTkSuQmCC\" y=\"-21.758125\"/>\n   </g>\n   <g id=\"matplotlib.axis_1\">\n    <g id=\"xtick_1\">\n     <g id=\"line2d_1\">\n      <defs>\n       <path d=\"M 0 0 \nL 0 3.5 \n\" id=\"mdafc550293\" style=\"stroke:#000000;stroke-width:0.8;\"/>\n      </defs>\n      <g>\n       <use style=\"stroke:#000000;stroke-width:0.8;\" x=\"82.818125\" xlink:href=\"#mdafc550293\" y=\"239.758125\"/>\n      </g>\n     </g>\n     <g id=\"text_1\">\n      <!-- 0 -->\n      <defs>\n       <path d=\"M 31.78125 66.40625 \nQ 24.171875 66.40625 20.328125 58.90625 \nQ 16.5 51.421875 16.5 36.375 \nQ 16.5 21.390625 20.328125 13.890625 \nQ 24.171875 6.390625 31.78125 6.390625 \nQ 39.453125 6.390625 43.28125 13.890625 \nQ 47.125 21.390625 47.125 36.375 \nQ 47.125 51.421875 43.28125 58.90625 \nQ 39.453125 66.40625 31.78125 66.40625 \nz\nM 31.78125 74.21875 \nQ 44.046875 74.21875 50.515625 64.515625 \nQ 56.984375 54.828125 56.984375 36.375 \nQ 56.984375 17.96875 50.515625 8.265625 \nQ 44.046875 -1.421875 31.78125 -1.421875 \nQ 19.53125 -1.421875 13.0625 8.265625 \nQ 6.59375 17.96875 6.59375 36.375 \nQ 6.59375 54.828125 13.0625 64.515625 \nQ 19.53125 74.21875 31.78125 74.21875 \nz\n\" id=\"DejaVuSans-48\"/>\n      </defs>\n      <g transform=\"translate(82.519814 256.629999)rotate(-45)scale(0.1 -0.1)\">\n       <use xlink:href=\"#DejaVuSans-48\"/>\n      </g>\n     </g>\n    </g>\n    <g id=\"xtick_2\">\n     <g id=\"line2d_2\">\n      <g>\n       <use style=\"stroke:#000000;stroke-width:0.8;\" x=\"155.298125\" xlink:href=\"#mdafc550293\" y=\"239.758125\"/>\n      </g>\n     </g>\n     <g id=\"text_2\">\n      <!-- 1 -->\n      <defs>\n       <path d=\"M 12.40625 8.296875 \nL 28.515625 8.296875 \nL 28.515625 63.921875 \nL 10.984375 60.40625 \nL 10.984375 69.390625 \nL 28.421875 72.90625 \nL 38.28125 72.90625 \nL 38.28125 8.296875 \nL 54.390625 8.296875 \nL 54.390625 0 \nL 12.40625 0 \nz\n\" id=\"DejaVuSans-49\"/>\n      </defs>\n      <g transform=\"translate(154.999814 256.629999)rotate(-45)scale(0.1 -0.1)\">\n       <use xlink:href=\"#DejaVuSans-49\"/>\n      </g>\n     </g>\n    </g>\n    <g id=\"xtick_3\">\n     <g id=\"line2d_3\">\n      <g>\n       <use style=\"stroke:#000000;stroke-width:0.8;\" x=\"227.778125\" xlink:href=\"#mdafc550293\" y=\"239.758125\"/>\n      </g>\n     </g>\n     <g id=\"text_3\">\n      <!-- $\\geq2$ -->\n      <defs>\n       <path d=\"M 10.59375 49.609375 \nL 10.59375 58.203125 \nL 73.1875 40.28125 \nL 73.1875 31.984375 \nL 10.59375 14.015625 \nL 10.59375 22.703125 \nL 57.515625 36.078125 \nz\nM 73.1875 8.296875 \nL 73.1875 0 \nL 10.59375 0 \nL 10.59375 8.296875 \nz\n\" id=\"DejaVuSans-8805\"/>\n       <path d=\"M 19.1875 8.296875 \nL 53.609375 8.296875 \nL 53.609375 0 \nL 7.328125 0 \nL 7.328125 8.296875 \nQ 12.9375 14.109375 22.625 23.890625 \nQ 32.328125 33.6875 34.8125 36.53125 \nQ 39.546875 41.84375 41.421875 45.53125 \nQ 43.3125 49.21875 43.3125 52.78125 \nQ 43.3125 58.59375 39.234375 62.25 \nQ 35.15625 65.921875 28.609375 65.921875 \nQ 23.96875 65.921875 18.8125 64.3125 \nQ 13.671875 62.703125 7.8125 59.421875 \nL 7.8125 69.390625 \nQ 13.765625 71.78125 18.9375 73 \nQ 24.125 74.21875 28.421875 74.21875 \nQ 39.75 74.21875 46.484375 68.546875 \nQ 53.21875 62.890625 53.21875 53.421875 \nQ 53.21875 48.921875 51.53125 44.890625 \nQ 49.859375 40.875 45.40625 35.40625 \nQ 44.1875 33.984375 37.640625 27.21875 \nQ 31.109375 20.453125 19.1875 8.296875 \nz\n\" id=\"DejaVuSans-50\"/>\n      </defs>\n      <g transform=\"translate(223.117849 265.353928)rotate(-45)scale(0.1 -0.1)\">\n       <use transform=\"translate(19.482422 0.78125)\" xlink:href=\"#DejaVuSans-8805\"/>\n       <use transform=\"translate(122.753906 0.78125)\" xlink:href=\"#DejaVuSans-50\"/>\n      </g>\n     </g>\n    </g>\n    <g id=\"text_4\">\n     <!-- X (# children) -->\n     <defs>\n      <path d=\"M 6.296875 72.90625 \nL 16.890625 72.90625 \nL 35.015625 45.796875 \nL 53.21875 72.90625 \nL 63.8125 72.90625 \nL 40.375 37.890625 \nL 65.375 0 \nL 54.78125 0 \nL 34.28125 31 \nL 13.625 0 \nL 2.984375 0 \nL 29 38.921875 \nz\n\" id=\"DejaVuSans-88\"/>\n      <path id=\"DejaVuSans-32\"/>\n      <path d=\"M 31 75.875 \nQ 24.46875 64.65625 21.28125 53.65625 \nQ 18.109375 42.671875 18.109375 31.390625 \nQ 18.109375 20.125 21.3125 9.0625 \nQ 24.515625 -2 31 -13.1875 \nL 23.1875 -13.1875 \nQ 15.875 -1.703125 12.234375 9.375 \nQ 8.59375 20.453125 8.59375 31.390625 \nQ 8.59375 42.28125 12.203125 53.3125 \nQ 15.828125 64.359375 23.1875 75.875 \nz\n\" id=\"DejaVuSans-40\"/>\n      <path d=\"M 51.125 44 \nL 36.921875 44 \nL 32.8125 27.6875 \nL 47.125 27.6875 \nz\nM 43.796875 71.78125 \nL 38.71875 51.515625 \nL 52.984375 51.515625 \nL 58.109375 71.78125 \nL 65.921875 71.78125 \nL 60.890625 51.515625 \nL 76.125 51.515625 \nL 76.125 44 \nL 58.984375 44 \nL 54.984375 27.6875 \nL 70.515625 27.6875 \nL 70.515625 20.21875 \nL 53.078125 20.21875 \nL 48 0 \nL 40.1875 0 \nL 45.21875 20.21875 \nL 30.90625 20.21875 \nL 25.875 0 \nL 18.015625 0 \nL 23.09375 20.21875 \nL 7.71875 20.21875 \nL 7.71875 27.6875 \nL 24.90625 27.6875 \nL 29 44 \nL 13.28125 44 \nL 13.28125 51.515625 \nL 30.90625 51.515625 \nL 35.890625 71.78125 \nz\n\" id=\"DejaVuSans-35\"/>\n      <path d=\"M 48.78125 52.59375 \nL 48.78125 44.1875 \nQ 44.96875 46.296875 41.140625 47.34375 \nQ 37.3125 48.390625 33.40625 48.390625 \nQ 24.65625 48.390625 19.8125 42.84375 \nQ 14.984375 37.3125 14.984375 27.296875 \nQ 14.984375 17.28125 19.8125 11.734375 \nQ 24.65625 6.203125 33.40625 6.203125 \nQ 37.3125 6.203125 41.140625 7.25 \nQ 44.96875 8.296875 48.78125 10.40625 \nL 48.78125 2.09375 \nQ 45.015625 0.34375 40.984375 -0.53125 \nQ 36.96875 -1.421875 32.421875 -1.421875 \nQ 20.0625 -1.421875 12.78125 6.34375 \nQ 5.515625 14.109375 5.515625 27.296875 \nQ 5.515625 40.671875 12.859375 48.328125 \nQ 20.21875 56 33.015625 56 \nQ 37.15625 56 41.109375 55.140625 \nQ 45.0625 54.296875 48.78125 52.59375 \nz\n\" id=\"DejaVuSans-99\"/>\n      <path d=\"M 54.890625 33.015625 \nL 54.890625 0 \nL 45.90625 0 \nL 45.90625 32.71875 \nQ 45.90625 40.484375 42.875 44.328125 \nQ 39.84375 48.1875 33.796875 48.1875 \nQ 26.515625 48.1875 22.3125 43.546875 \nQ 18.109375 38.921875 18.109375 30.90625 \nL 18.109375 0 \nL 9.078125 0 \nL 9.078125 75.984375 \nL 18.109375 75.984375 \nL 18.109375 46.1875 \nQ 21.34375 51.125 25.703125 53.5625 \nQ 30.078125 56 35.796875 56 \nQ 45.21875 56 50.046875 50.171875 \nQ 54.890625 44.34375 54.890625 33.015625 \nz\n\" id=\"DejaVuSans-104\"/>\n      <path d=\"M 9.421875 54.6875 \nL 18.40625 54.6875 \nL 18.40625 0 \nL 9.421875 0 \nz\nM 9.421875 75.984375 \nL 18.40625 75.984375 \nL 18.40625 64.59375 \nL 9.421875 64.59375 \nz\n\" id=\"DejaVuSans-105\"/>\n      <path d=\"M 9.421875 75.984375 \nL 18.40625 75.984375 \nL 18.40625 0 \nL 9.421875 0 \nz\n\" id=\"DejaVuSans-108\"/>\n      <path d=\"M 45.40625 46.390625 \nL 45.40625 75.984375 \nL 54.390625 75.984375 \nL 54.390625 0 \nL 45.40625 0 \nL 45.40625 8.203125 \nQ 42.578125 3.328125 38.25 0.953125 \nQ 33.9375 -1.421875 27.875 -1.421875 \nQ 17.96875 -1.421875 11.734375 6.484375 \nQ 5.515625 14.40625 5.515625 27.296875 \nQ 5.515625 40.1875 11.734375 48.09375 \nQ 17.96875 56 27.875 56 \nQ 33.9375 56 38.25 53.625 \nQ 42.578125 51.265625 45.40625 46.390625 \nz\nM 14.796875 27.296875 \nQ 14.796875 17.390625 18.875 11.75 \nQ 22.953125 6.109375 30.078125 6.109375 \nQ 37.203125 6.109375 41.296875 11.75 \nQ 45.40625 17.390625 45.40625 27.296875 \nQ 45.40625 37.203125 41.296875 42.84375 \nQ 37.203125 48.484375 30.078125 48.484375 \nQ 22.953125 48.484375 18.875 42.84375 \nQ 14.796875 37.203125 14.796875 27.296875 \nz\n\" id=\"DejaVuSans-100\"/>\n      <path d=\"M 41.109375 46.296875 \nQ 39.59375 47.171875 37.8125 47.578125 \nQ 36.03125 48 33.890625 48 \nQ 26.265625 48 22.1875 43.046875 \nQ 18.109375 38.09375 18.109375 28.8125 \nL 18.109375 0 \nL 9.078125 0 \nL 9.078125 54.6875 \nL 18.109375 54.6875 \nL 18.109375 46.1875 \nQ 20.953125 51.171875 25.484375 53.578125 \nQ 30.03125 56 36.53125 56 \nQ 37.453125 56 38.578125 55.875 \nQ 39.703125 55.765625 41.0625 55.515625 \nz\n\" id=\"DejaVuSans-114\"/>\n      <path d=\"M 56.203125 29.59375 \nL 56.203125 25.203125 \nL 14.890625 25.203125 \nQ 15.484375 15.921875 20.484375 11.0625 \nQ 25.484375 6.203125 34.421875 6.203125 \nQ 39.59375 6.203125 44.453125 7.46875 \nQ 49.3125 8.734375 54.109375 11.28125 \nL 54.109375 2.78125 \nQ 49.265625 0.734375 44.1875 -0.34375 \nQ 39.109375 -1.421875 33.890625 -1.421875 \nQ 20.796875 -1.421875 13.15625 6.1875 \nQ 5.515625 13.8125 5.515625 26.8125 \nQ 5.515625 40.234375 12.765625 48.109375 \nQ 20.015625 56 32.328125 56 \nQ 43.359375 56 49.78125 48.890625 \nQ 56.203125 41.796875 56.203125 29.59375 \nz\nM 47.21875 32.234375 \nQ 47.125 39.59375 43.09375 43.984375 \nQ 39.0625 48.390625 32.421875 48.390625 \nQ 24.90625 48.390625 20.390625 44.140625 \nQ 15.875 39.890625 15.1875 32.171875 \nz\n\" id=\"DejaVuSans-101\"/>\n      <path d=\"M 54.890625 33.015625 \nL 54.890625 0 \nL 45.90625 0 \nL 45.90625 32.71875 \nQ 45.90625 40.484375 42.875 44.328125 \nQ 39.84375 48.1875 33.796875 48.1875 \nQ 26.515625 48.1875 22.3125 43.546875 \nQ 18.109375 38.921875 18.109375 30.90625 \nL 18.109375 0 \nL 9.078125 0 \nL 9.078125 54.6875 \nL 18.109375 54.6875 \nL 18.109375 46.1875 \nQ 21.34375 51.125 25.703125 53.5625 \nQ 30.078125 56 35.796875 56 \nQ 45.21875 56 50.046875 50.171875 \nQ 54.890625 44.34375 54.890625 33.015625 \nz\n\" id=\"DejaVuSans-110\"/>\n      <path d=\"M 8.015625 75.875 \nL 15.828125 75.875 \nQ 23.140625 64.359375 26.78125 53.3125 \nQ 30.421875 42.28125 30.421875 31.390625 \nQ 30.421875 20.453125 26.78125 9.375 \nQ 23.140625 -1.703125 15.828125 -13.1875 \nL 8.015625 -13.1875 \nQ 14.5 -2 17.703125 9.0625 \nQ 20.90625 20.125 20.90625 31.390625 \nQ 20.90625 42.671875 17.703125 53.65625 \nQ 14.5 64.65625 8.015625 75.875 \nz\n\" id=\"DejaVuSans-41\"/>\n     </defs>\n     <g transform=\"translate(120.434063 278.422927)scale(0.1 -0.1)\">\n      <use xlink:href=\"#DejaVuSans-88\"/>\n      <use x=\"68.505859\" xlink:href=\"#DejaVuSans-32\"/>\n      <use x=\"100.292969\" xlink:href=\"#DejaVuSans-40\"/>\n      <use x=\"139.306641\" xlink:href=\"#DejaVuSans-35\"/>\n      <use x=\"223.095703\" xlink:href=\"#DejaVuSans-32\"/>\n      <use x=\"254.882812\" xlink:href=\"#DejaVuSans-99\"/>\n      <use x=\"309.863281\" xlink:href=\"#DejaVuSans-104\"/>\n      <use x=\"373.242188\" xlink:href=\"#DejaVuSans-105\"/>\n      <use x=\"401.025391\" xlink:href=\"#DejaVuSans-108\"/>\n      <use x=\"428.808594\" xlink:href=\"#DejaVuSans-100\"/>\n      <use x=\"492.285156\" xlink:href=\"#DejaVuSans-114\"/>\n      <use x=\"533.367188\" xlink:href=\"#DejaVuSans-101\"/>\n      <use x=\"594.890625\" xlink:href=\"#DejaVuSans-110\"/>\n      <use x=\"658.269531\" xlink:href=\"#DejaVuSans-41\"/>\n     </g>\n    </g>\n   </g>\n   <g id=\"matplotlib.axis_2\">\n    <g id=\"ytick_1\">\n     <g id=\"line2d_4\">\n      <defs>\n       <path d=\"M 0 0 \nL -3.5 0 \n\" id=\"m59ed5efaaa\" style=\"stroke:#000000;stroke-width:0.8;\"/>\n      </defs>\n      <g>\n       <use style=\"stroke:#000000;stroke-width:0.8;\" x=\"46.578125\" xlink:href=\"#m59ed5efaaa\" y=\"58.558125\"/>\n      </g>\n     </g>\n     <g id=\"text_5\">\n      <!-- 1 -->\n      <g transform=\"translate(33.215625 62.357344)scale(0.1 -0.1)\">\n       <use xlink:href=\"#DejaVuSans-49\"/>\n      </g>\n     </g>\n    </g>\n    <g id=\"ytick_2\">\n     <g id=\"line2d_5\">\n      <g>\n       <use style=\"stroke:#000000;stroke-width:0.8;\" x=\"46.578125\" xlink:href=\"#m59ed5efaaa\" y=\"131.038125\"/>\n      </g>\n     </g>\n     <g id=\"text_6\">\n      <!-- 2 -->\n      <g transform=\"translate(33.215625 134.837344)scale(0.1 -0.1)\">\n       <use xlink:href=\"#DejaVuSans-50\"/>\n      </g>\n     </g>\n    </g>\n    <g id=\"ytick_3\">\n     <g id=\"line2d_6\">\n      <g>\n       <use style=\"stroke:#000000;stroke-width:0.8;\" x=\"46.578125\" xlink:href=\"#m59ed5efaaa\" y=\"203.518125\"/>\n      </g>\n     </g>\n     <g id=\"text_7\">\n      <!-- $\\geq3$ -->\n      <defs>\n       <path d=\"M 40.578125 39.3125 \nQ 47.65625 37.796875 51.625 33 \nQ 55.609375 28.21875 55.609375 21.1875 \nQ 55.609375 10.40625 48.1875 4.484375 \nQ 40.765625 -1.421875 27.09375 -1.421875 \nQ 22.515625 -1.421875 17.65625 -0.515625 \nQ 12.796875 0.390625 7.625 2.203125 \nL 7.625 11.71875 \nQ 11.71875 9.328125 16.59375 8.109375 \nQ 21.484375 6.890625 26.8125 6.890625 \nQ 36.078125 6.890625 40.9375 10.546875 \nQ 45.796875 14.203125 45.796875 21.1875 \nQ 45.796875 27.640625 41.28125 31.265625 \nQ 36.765625 34.90625 28.71875 34.90625 \nL 20.21875 34.90625 \nL 20.21875 43.015625 \nL 29.109375 43.015625 \nQ 36.375 43.015625 40.234375 45.921875 \nQ 44.09375 48.828125 44.09375 54.296875 \nQ 44.09375 59.90625 40.109375 62.90625 \nQ 36.140625 65.921875 28.71875 65.921875 \nQ 24.65625 65.921875 20.015625 65.03125 \nQ 15.375 64.15625 9.8125 62.3125 \nL 9.8125 71.09375 \nQ 15.4375 72.65625 20.34375 73.4375 \nQ 25.25 74.21875 29.59375 74.21875 \nQ 40.828125 74.21875 47.359375 69.109375 \nQ 53.90625 64.015625 53.90625 55.328125 \nQ 53.90625 49.265625 50.4375 45.09375 \nQ 46.96875 40.921875 40.578125 39.3125 \nz\n\" id=\"DejaVuSans-51\"/>\n      </defs>\n      <g transform=\"translate(20.878125 207.317344)scale(0.1 -0.1)\">\n       <use transform=\"translate(19.482422 0.78125)\" xlink:href=\"#DejaVuSans-8805\"/>\n       <use transform=\"translate(122.753906 0.78125)\" xlink:href=\"#DejaVuSans-51\"/>\n      </g>\n     </g>\n    </g>\n    <g id=\"text_8\">\n     <!-- Y (# bedrooms) -->\n     <defs>\n      <path d=\"M -0.203125 72.90625 \nL 10.40625 72.90625 \nL 30.609375 42.921875 \nL 50.6875 72.90625 \nL 61.28125 72.90625 \nL 35.5 34.71875 \nL 35.5 0 \nL 25.59375 0 \nL 25.59375 34.71875 \nz\n\" id=\"DejaVuSans-89\"/>\n      <path d=\"M 48.6875 27.296875 \nQ 48.6875 37.203125 44.609375 42.84375 \nQ 40.53125 48.484375 33.40625 48.484375 \nQ 26.265625 48.484375 22.1875 42.84375 \nQ 18.109375 37.203125 18.109375 27.296875 \nQ 18.109375 17.390625 22.1875 11.75 \nQ 26.265625 6.109375 33.40625 6.109375 \nQ 40.53125 6.109375 44.609375 11.75 \nQ 48.6875 17.390625 48.6875 27.296875 \nz\nM 18.109375 46.390625 \nQ 20.953125 51.265625 25.265625 53.625 \nQ 29.59375 56 35.59375 56 \nQ 45.5625 56 51.78125 48.09375 \nQ 58.015625 40.1875 58.015625 27.296875 \nQ 58.015625 14.40625 51.78125 6.484375 \nQ 45.5625 -1.421875 35.59375 -1.421875 \nQ 29.59375 -1.421875 25.265625 0.953125 \nQ 20.953125 3.328125 18.109375 8.203125 \nL 18.109375 0 \nL 9.078125 0 \nL 9.078125 75.984375 \nL 18.109375 75.984375 \nz\n\" id=\"DejaVuSans-98\"/>\n      <path d=\"M 30.609375 48.390625 \nQ 23.390625 48.390625 19.1875 42.75 \nQ 14.984375 37.109375 14.984375 27.296875 \nQ 14.984375 17.484375 19.15625 11.84375 \nQ 23.34375 6.203125 30.609375 6.203125 \nQ 37.796875 6.203125 41.984375 11.859375 \nQ 46.1875 17.53125 46.1875 27.296875 \nQ 46.1875 37.015625 41.984375 42.703125 \nQ 37.796875 48.390625 30.609375 48.390625 \nz\nM 30.609375 56 \nQ 42.328125 56 49.015625 48.375 \nQ 55.71875 40.765625 55.71875 27.296875 \nQ 55.71875 13.875 49.015625 6.21875 \nQ 42.328125 -1.421875 30.609375 -1.421875 \nQ 18.84375 -1.421875 12.171875 6.21875 \nQ 5.515625 13.875 5.515625 27.296875 \nQ 5.515625 40.765625 12.171875 48.375 \nQ 18.84375 56 30.609375 56 \nz\n\" id=\"DejaVuSans-111\"/>\n      <path d=\"M 52 44.1875 \nQ 55.375 50.25 60.0625 53.125 \nQ 64.75 56 71.09375 56 \nQ 79.640625 56 84.28125 50.015625 \nQ 88.921875 44.046875 88.921875 33.015625 \nL 88.921875 0 \nL 79.890625 0 \nL 79.890625 32.71875 \nQ 79.890625 40.578125 77.09375 44.375 \nQ 74.3125 48.1875 68.609375 48.1875 \nQ 61.625 48.1875 57.5625 43.546875 \nQ 53.515625 38.921875 53.515625 30.90625 \nL 53.515625 0 \nL 44.484375 0 \nL 44.484375 32.71875 \nQ 44.484375 40.625 41.703125 44.40625 \nQ 38.921875 48.1875 33.109375 48.1875 \nQ 26.21875 48.1875 22.15625 43.53125 \nQ 18.109375 38.875 18.109375 30.90625 \nL 18.109375 0 \nL 9.078125 0 \nL 9.078125 54.6875 \nL 18.109375 54.6875 \nL 18.109375 46.1875 \nQ 21.1875 51.21875 25.484375 53.609375 \nQ 29.78125 56 35.6875 56 \nQ 41.65625 56 45.828125 52.96875 \nQ 50 49.953125 52 44.1875 \nz\n\" id=\"DejaVuSans-109\"/>\n      <path d=\"M 44.28125 53.078125 \nL 44.28125 44.578125 \nQ 40.484375 46.53125 36.375 47.5 \nQ 32.28125 48.484375 27.875 48.484375 \nQ 21.1875 48.484375 17.84375 46.4375 \nQ 14.5 44.390625 14.5 40.28125 \nQ 14.5 37.15625 16.890625 35.375 \nQ 19.28125 33.59375 26.515625 31.984375 \nL 29.59375 31.296875 \nQ 39.15625 29.25 43.1875 25.515625 \nQ 47.21875 21.78125 47.21875 15.09375 \nQ 47.21875 7.46875 41.1875 3.015625 \nQ 35.15625 -1.421875 24.609375 -1.421875 \nQ 20.21875 -1.421875 15.453125 -0.5625 \nQ 10.6875 0.296875 5.421875 2 \nL 5.421875 11.28125 \nQ 10.40625 8.6875 15.234375 7.390625 \nQ 20.0625 6.109375 24.8125 6.109375 \nQ 31.15625 6.109375 34.5625 8.28125 \nQ 37.984375 10.453125 37.984375 14.40625 \nQ 37.984375 18.0625 35.515625 20.015625 \nQ 33.0625 21.96875 24.703125 23.78125 \nL 21.578125 24.515625 \nQ 13.234375 26.265625 9.515625 29.90625 \nQ 5.8125 33.546875 5.8125 39.890625 \nQ 5.8125 47.609375 11.28125 51.796875 \nQ 16.75 56 26.8125 56 \nQ 31.78125 56 36.171875 55.265625 \nQ 40.578125 54.546875 44.28125 53.078125 \nz\n\" id=\"DejaVuSans-115\"/>\n     </defs>\n     <g transform=\"translate(14.798438 170.434219)rotate(-90)scale(0.1 -0.1)\">\n      <use xlink:href=\"#DejaVuSans-89\"/>\n      <use x=\"61.083984\" xlink:href=\"#DejaVuSans-32\"/>\n      <use x=\"92.871094\" xlink:href=\"#DejaVuSans-40\"/>\n      <use x=\"131.884766\" xlink:href=\"#DejaVuSans-35\"/>\n      <use x=\"215.673828\" xlink:href=\"#DejaVuSans-32\"/>\n      <use x=\"247.460938\" xlink:href=\"#DejaVuSans-98\"/>\n      <use x=\"310.9375\" xlink:href=\"#DejaVuSans-101\"/>\n      <use x=\"372.460938\" xlink:href=\"#DejaVuSans-100\"/>\n      <use x=\"435.9375\" xlink:href=\"#DejaVuSans-114\"/>\n      <use x=\"477.019531\" xlink:href=\"#DejaVuSans-111\"/>\n      <use x=\"538.201172\" xlink:href=\"#DejaVuSans-111\"/>\n      <use x=\"599.382812\" xlink:href=\"#DejaVuSans-109\"/>\n      <use x=\"696.794922\" xlink:href=\"#DejaVuSans-115\"/>\n      <use x=\"748.894531\" xlink:href=\"#DejaVuSans-41\"/>\n     </g>\n    </g>\n   </g>\n   <g id=\"patch_3\">\n    <path d=\"M 46.578125 239.758125 \nL 46.578125 22.318125 \n\" style=\"fill:none;stroke:#000000;stroke-linecap:square;stroke-linejoin:miter;stroke-width:0.8;\"/>\n   </g>\n   <g id=\"patch_4\">\n    <path d=\"M 264.018125 239.758125 \nL 264.018125 22.318125 \n\" style=\"fill:none;stroke:#000000;stroke-linecap:square;stroke-linejoin:miter;stroke-width:0.8;\"/>\n   </g>\n   <g id=\"patch_5\">\n    <path d=\"M 46.578125 239.758125 \nL 264.018125 239.758125 \n\" style=\"fill:none;stroke:#000000;stroke-linecap:square;stroke-linejoin:miter;stroke-width:0.8;\"/>\n   </g>\n   <g id=\"patch_6\">\n    <path d=\"M 46.578125 22.318125 \nL 264.018125 22.318125 \n\" style=\"fill:none;stroke:#000000;stroke-linecap:square;stroke-linejoin:miter;stroke-width:0.8;\"/>\n   </g>\n   <g id=\"text_9\">\n    <!-- 0.2 -->\n    <defs>\n     <path d=\"M 10.6875 12.40625 \nL 21 12.40625 \nL 21 0 \nL 10.6875 0 \nz\n\" id=\"DejaVuSans-46\"/>\n    </defs>\n    <g transform=\"translate(82.818125 58.558125)scale(0.1 -0.1)\">\n     <use xlink:href=\"#DejaVuSans-48\"/>\n     <use x=\"63.623047\" xlink:href=\"#DejaVuSans-46\"/>\n     <use x=\"95.410156\" xlink:href=\"#DejaVuSans-50\"/>\n    </g>\n   </g>\n   <g id=\"text_10\">\n    <!-- 0.05 -->\n    <defs>\n     <path d=\"M 10.796875 72.90625 \nL 49.515625 72.90625 \nL 49.515625 64.59375 \nL 19.828125 64.59375 \nL 19.828125 46.734375 \nQ 21.96875 47.46875 24.109375 47.828125 \nQ 26.265625 48.1875 28.421875 48.1875 \nQ 40.625 48.1875 47.75 41.5 \nQ 54.890625 34.8125 54.890625 23.390625 \nQ 54.890625 11.625 47.5625 5.09375 \nQ 40.234375 -1.421875 26.90625 -1.421875 \nQ 22.3125 -1.421875 17.546875 -0.640625 \nQ 12.796875 0.140625 7.71875 1.703125 \nL 7.71875 11.625 \nQ 12.109375 9.234375 16.796875 8.0625 \nQ 21.484375 6.890625 26.703125 6.890625 \nQ 35.15625 6.890625 40.078125 11.328125 \nQ 45.015625 15.765625 45.015625 23.390625 \nQ 45.015625 31 40.078125 35.4375 \nQ 35.15625 39.890625 26.703125 39.890625 \nQ 22.75 39.890625 18.8125 39.015625 \nQ 14.890625 38.140625 10.796875 36.28125 \nz\n\" id=\"DejaVuSans-53\"/>\n    </defs>\n    <g transform=\"translate(155.298125 58.558125)scale(0.1 -0.1)\">\n     <use xlink:href=\"#DejaVuSans-48\"/>\n     <use x=\"63.623047\" xlink:href=\"#DejaVuSans-46\"/>\n     <use x=\"95.410156\" xlink:href=\"#DejaVuSans-48\"/>\n     <use x=\"159.033203\" xlink:href=\"#DejaVuSans-53\"/>\n    </g>\n   </g>\n   <g id=\"text_11\">\n    <!-- 0.01 -->\n    <g transform=\"translate(227.778125 58.558125)scale(0.1 -0.1)\">\n     <use xlink:href=\"#DejaVuSans-48\"/>\n     <use x=\"63.623047\" xlink:href=\"#DejaVuSans-46\"/>\n     <use x=\"95.410156\" xlink:href=\"#DejaVuSans-48\"/>\n     <use x=\"159.033203\" xlink:href=\"#DejaVuSans-49\"/>\n    </g>\n   </g>\n   <g id=\"text_12\">\n    <!-- 0.09 -->\n    <defs>\n     <path d=\"M 10.984375 1.515625 \nL 10.984375 10.5 \nQ 14.703125 8.734375 18.5 7.8125 \nQ 22.3125 6.890625 25.984375 6.890625 \nQ 35.75 6.890625 40.890625 13.453125 \nQ 46.046875 20.015625 46.78125 33.40625 \nQ 43.953125 29.203125 39.59375 26.953125 \nQ 35.25 24.703125 29.984375 24.703125 \nQ 19.046875 24.703125 12.671875 31.3125 \nQ 6.296875 37.9375 6.296875 49.421875 \nQ 6.296875 60.640625 12.9375 67.421875 \nQ 19.578125 74.21875 30.609375 74.21875 \nQ 43.265625 74.21875 49.921875 64.515625 \nQ 56.59375 54.828125 56.59375 36.375 \nQ 56.59375 19.140625 48.40625 8.859375 \nQ 40.234375 -1.421875 26.421875 -1.421875 \nQ 22.703125 -1.421875 18.890625 -0.6875 \nQ 15.09375 0.046875 10.984375 1.515625 \nz\nM 30.609375 32.421875 \nQ 37.25 32.421875 41.125 36.953125 \nQ 45.015625 41.5 45.015625 49.421875 \nQ 45.015625 57.28125 41.125 61.84375 \nQ 37.25 66.40625 30.609375 66.40625 \nQ 23.96875 66.40625 20.09375 61.84375 \nQ 16.21875 57.28125 16.21875 49.421875 \nQ 16.21875 41.5 20.09375 36.953125 \nQ 23.96875 32.421875 30.609375 32.421875 \nz\n\" id=\"DejaVuSans-57\"/>\n    </defs>\n    <g transform=\"translate(82.818125 131.038125)scale(0.1 -0.1)\">\n     <use xlink:href=\"#DejaVuSans-48\"/>\n     <use x=\"63.623047\" xlink:href=\"#DejaVuSans-46\"/>\n     <use x=\"95.410156\" xlink:href=\"#DejaVuSans-48\"/>\n     <use x=\"159.033203\" xlink:href=\"#DejaVuSans-57\"/>\n    </g>\n   </g>\n   <g id=\"text_13\">\n    <!-- 0.25 -->\n    <g transform=\"translate(155.298125 131.038125)scale(0.1 -0.1)\">\n     <use xlink:href=\"#DejaVuSans-48\"/>\n     <use x=\"63.623047\" xlink:href=\"#DejaVuSans-46\"/>\n     <use x=\"95.410156\" xlink:href=\"#DejaVuSans-50\"/>\n     <use x=\"159.033203\" xlink:href=\"#DejaVuSans-53\"/>\n    </g>\n   </g>\n   <g id=\"text_14\">\n    <!-- 0.08 -->\n    <defs>\n     <path d=\"M 31.78125 34.625 \nQ 24.75 34.625 20.71875 30.859375 \nQ 16.703125 27.09375 16.703125 20.515625 \nQ 16.703125 13.921875 20.71875 10.15625 \nQ 24.75 6.390625 31.78125 6.390625 \nQ 38.8125 6.390625 42.859375 10.171875 \nQ 46.921875 13.96875 46.921875 20.515625 \nQ 46.921875 27.09375 42.890625 30.859375 \nQ 38.875 34.625 31.78125 34.625 \nz\nM 21.921875 38.8125 \nQ 15.578125 40.375 12.03125 44.71875 \nQ 8.5 49.078125 8.5 55.328125 \nQ 8.5 64.0625 14.71875 69.140625 \nQ 20.953125 74.21875 31.78125 74.21875 \nQ 42.671875 74.21875 48.875 69.140625 \nQ 55.078125 64.0625 55.078125 55.328125 \nQ 55.078125 49.078125 51.53125 44.71875 \nQ 48 40.375 41.703125 38.8125 \nQ 48.828125 37.15625 52.796875 32.3125 \nQ 56.78125 27.484375 56.78125 20.515625 \nQ 56.78125 9.90625 50.3125 4.234375 \nQ 43.84375 -1.421875 31.78125 -1.421875 \nQ 19.734375 -1.421875 13.25 4.234375 \nQ 6.78125 9.90625 6.78125 20.515625 \nQ 6.78125 27.484375 10.78125 32.3125 \nQ 14.796875 37.15625 21.921875 38.8125 \nz\nM 18.3125 54.390625 \nQ 18.3125 48.734375 21.84375 45.5625 \nQ 25.390625 42.390625 31.78125 42.390625 \nQ 38.140625 42.390625 41.71875 45.5625 \nQ 45.3125 48.734375 45.3125 54.390625 \nQ 45.3125 60.0625 41.71875 63.234375 \nQ 38.140625 66.40625 31.78125 66.40625 \nQ 25.390625 66.40625 21.84375 63.234375 \nQ 18.3125 60.0625 18.3125 54.390625 \nz\n\" id=\"DejaVuSans-56\"/>\n    </defs>\n    <g transform=\"translate(227.778125 131.038125)scale(0.1 -0.1)\">\n     <use xlink:href=\"#DejaVuSans-48\"/>\n     <use x=\"63.623047\" xlink:href=\"#DejaVuSans-46\"/>\n     <use x=\"95.410156\" xlink:href=\"#DejaVuSans-48\"/>\n     <use x=\"159.033203\" xlink:href=\"#DejaVuSans-56\"/>\n    </g>\n   </g>\n   <g id=\"text_15\">\n    <!-- 0.03 -->\n    <g transform=\"translate(82.818125 203.518125)scale(0.1 -0.1)\">\n     <use xlink:href=\"#DejaVuSans-48\"/>\n     <use x=\"63.623047\" xlink:href=\"#DejaVuSans-46\"/>\n     <use x=\"95.410156\" xlink:href=\"#DejaVuSans-48\"/>\n     <use x=\"159.033203\" xlink:href=\"#DejaVuSans-51\"/>\n    </g>\n   </g>\n   <g id=\"text_16\">\n    <!-- 0.1 -->\n    <g transform=\"translate(155.298125 203.518125)scale(0.1 -0.1)\">\n     <use xlink:href=\"#DejaVuSans-48\"/>\n     <use x=\"63.623047\" xlink:href=\"#DejaVuSans-46\"/>\n     <use x=\"95.410156\" xlink:href=\"#DejaVuSans-49\"/>\n    </g>\n   </g>\n   <g id=\"text_17\">\n    <!-- 0.19 -->\n    <g transform=\"translate(227.778125 203.518125)scale(0.1 -0.1)\">\n     <use xlink:href=\"#DejaVuSans-48\"/>\n     <use x=\"63.623047\" xlink:href=\"#DejaVuSans-46\"/>\n     <use x=\"95.410156\" xlink:href=\"#DejaVuSans-49\"/>\n     <use x=\"159.033203\" xlink:href=\"#DejaVuSans-57\"/>\n    </g>\n   </g>\n   <g id=\"text_18\">\n    <!-- joint frequency f(X,Y) -->\n    <defs>\n     <path d=\"M 9.421875 54.6875 \nL 18.40625 54.6875 \nL 18.40625 -0.984375 \nQ 18.40625 -11.421875 14.421875 -16.109375 \nQ 10.453125 -20.796875 1.609375 -20.796875 \nL -1.8125 -20.796875 \nL -1.8125 -13.1875 \nL 0.59375 -13.1875 \nQ 5.71875 -13.1875 7.5625 -10.8125 \nQ 9.421875 -8.453125 9.421875 -0.984375 \nz\nM 9.421875 75.984375 \nL 18.40625 75.984375 \nL 18.40625 64.59375 \nL 9.421875 64.59375 \nz\n\" id=\"DejaVuSans-106\"/>\n     <path d=\"M 18.3125 70.21875 \nL 18.3125 54.6875 \nL 36.8125 54.6875 \nL 36.8125 47.703125 \nL 18.3125 47.703125 \nL 18.3125 18.015625 \nQ 18.3125 11.328125 20.140625 9.421875 \nQ 21.96875 7.515625 27.59375 7.515625 \nL 36.8125 7.515625 \nL 36.8125 0 \nL 27.59375 0 \nQ 17.1875 0 13.234375 3.875 \nQ 9.28125 7.765625 9.28125 18.015625 \nL 9.28125 47.703125 \nL 2.6875 47.703125 \nL 2.6875 54.6875 \nL 9.28125 54.6875 \nL 9.28125 70.21875 \nz\n\" id=\"DejaVuSans-116\"/>\n     <path d=\"M 37.109375 75.984375 \nL 37.109375 68.5 \nL 28.515625 68.5 \nQ 23.6875 68.5 21.796875 66.546875 \nQ 19.921875 64.59375 19.921875 59.515625 \nL 19.921875 54.6875 \nL 34.71875 54.6875 \nL 34.71875 47.703125 \nL 19.921875 47.703125 \nL 19.921875 0 \nL 10.890625 0 \nL 10.890625 47.703125 \nL 2.296875 47.703125 \nL 2.296875 54.6875 \nL 10.890625 54.6875 \nL 10.890625 58.5 \nQ 10.890625 67.625 15.140625 71.796875 \nQ 19.390625 75.984375 28.609375 75.984375 \nz\n\" id=\"DejaVuSans-102\"/>\n     <path d=\"M 14.796875 27.296875 \nQ 14.796875 17.390625 18.875 11.75 \nQ 22.953125 6.109375 30.078125 6.109375 \nQ 37.203125 6.109375 41.296875 11.75 \nQ 45.40625 17.390625 45.40625 27.296875 \nQ 45.40625 37.203125 41.296875 42.84375 \nQ 37.203125 48.484375 30.078125 48.484375 \nQ 22.953125 48.484375 18.875 42.84375 \nQ 14.796875 37.203125 14.796875 27.296875 \nz\nM 45.40625 8.203125 \nQ 42.578125 3.328125 38.25 0.953125 \nQ 33.9375 -1.421875 27.875 -1.421875 \nQ 17.96875 -1.421875 11.734375 6.484375 \nQ 5.515625 14.40625 5.515625 27.296875 \nQ 5.515625 40.1875 11.734375 48.09375 \nQ 17.96875 56 27.875 56 \nQ 33.9375 56 38.25 53.625 \nQ 42.578125 51.265625 45.40625 46.390625 \nL 45.40625 54.6875 \nL 54.390625 54.6875 \nL 54.390625 -20.796875 \nL 45.40625 -20.796875 \nz\n\" id=\"DejaVuSans-113\"/>\n     <path d=\"M 8.5 21.578125 \nL 8.5 54.6875 \nL 17.484375 54.6875 \nL 17.484375 21.921875 \nQ 17.484375 14.15625 20.5 10.265625 \nQ 23.53125 6.390625 29.59375 6.390625 \nQ 36.859375 6.390625 41.078125 11.03125 \nQ 45.3125 15.671875 45.3125 23.6875 \nL 45.3125 54.6875 \nL 54.296875 54.6875 \nL 54.296875 0 \nL 45.3125 0 \nL 45.3125 8.40625 \nQ 42.046875 3.421875 37.71875 1 \nQ 33.40625 -1.421875 27.6875 -1.421875 \nQ 18.265625 -1.421875 13.375 4.4375 \nQ 8.5 10.296875 8.5 21.578125 \nz\nM 31.109375 56 \nz\n\" id=\"DejaVuSans-117\"/>\n     <path d=\"M 32.171875 -5.078125 \nQ 28.375 -14.84375 24.75 -17.8125 \nQ 21.140625 -20.796875 15.09375 -20.796875 \nL 7.90625 -20.796875 \nL 7.90625 -13.28125 \nL 13.1875 -13.28125 \nQ 16.890625 -13.28125 18.9375 -11.515625 \nQ 21 -9.765625 23.484375 -3.21875 \nL 25.09375 0.875 \nL 2.984375 54.6875 \nL 12.5 54.6875 \nL 29.59375 11.921875 \nL 46.6875 54.6875 \nL 56.203125 54.6875 \nz\n\" id=\"DejaVuSans-121\"/>\n     <path d=\"M 11.71875 12.40625 \nL 22.015625 12.40625 \nL 22.015625 4 \nL 14.015625 -11.625 \nL 7.71875 -11.625 \nL 11.71875 4 \nz\n\" id=\"DejaVuSans-44\"/>\n    </defs>\n    <g transform=\"translate(91.624063 16.318125)scale(0.12 -0.12)\">\n     <use xlink:href=\"#DejaVuSans-106\"/>\n     <use x=\"27.783203\" xlink:href=\"#DejaVuSans-111\"/>\n     <use x=\"88.964844\" xlink:href=\"#DejaVuSans-105\"/>\n     <use x=\"116.748047\" xlink:href=\"#DejaVuSans-110\"/>\n     <use x=\"180.126953\" xlink:href=\"#DejaVuSans-116\"/>\n     <use x=\"219.335938\" xlink:href=\"#DejaVuSans-32\"/>\n     <use x=\"251.123047\" xlink:href=\"#DejaVuSans-102\"/>\n     <use x=\"286.328125\" xlink:href=\"#DejaVuSans-114\"/>\n     <use x=\"327.410156\" xlink:href=\"#DejaVuSans-101\"/>\n     <use x=\"388.933594\" xlink:href=\"#DejaVuSans-113\"/>\n     <use x=\"452.410156\" xlink:href=\"#DejaVuSans-117\"/>\n     <use x=\"515.789062\" xlink:href=\"#DejaVuSans-101\"/>\n     <use x=\"577.3125\" xlink:href=\"#DejaVuSans-110\"/>\n     <use x=\"640.691406\" xlink:href=\"#DejaVuSans-99\"/>\n     <use x=\"695.671875\" xlink:href=\"#DejaVuSans-121\"/>\n     <use x=\"754.851562\" xlink:href=\"#DejaVuSans-32\"/>\n     <use x=\"786.638672\" xlink:href=\"#DejaVuSans-102\"/>\n     <use x=\"821.84375\" xlink:href=\"#DejaVuSans-40\"/>\n     <use x=\"860.857422\" xlink:href=\"#DejaVuSans-88\"/>\n     <use x=\"929.363281\" xlink:href=\"#DejaVuSans-44\"/>\n     <use x=\"961.150391\" xlink:href=\"#DejaVuSans-89\"/>\n     <use x=\"1022.234375\" xlink:href=\"#DejaVuSans-41\"/>\n    </g>\n   </g>\n  </g>\n </g>\n <defs>\n  <clipPath id=\"pfb1050d63d\">\n   <rect height=\"217.44\" width=\"217.44\" x=\"46.578125\" y=\"22.318125\"/>\n  </clipPath>\n </defs>\n</svg>\n",
      "text/plain": [
       "<Figure size 432x288 with 1 Axes>"
      ]
     },
     "metadata": {
      "needs_background": "light"
     },
     "output_type": "display_data"
    }
   ],
   "source": [
    "freq = [[0.2,0.05,0.01],[0.09,0.25,0.08],[0.03,0.1,0.19]]\n",
    "\n",
    "plt.clf()\n",
    "plt.imshow(freq, interpolation='nearest', cmap=plt.cm.Wistia)\n",
    "X_values = ['0','1','$\\geq2$']\n",
    "Y_values = ['1','2','$\\geq3$']\n",
    "plt.ylabel('Y (# bedrooms)')\n",
    "plt.xlabel('X (# children)') \n",
    "plt.title('joint frequency f(X,Y)') \n",
    "plt.xticks(np.arange(len(X_values)), X_values, rotation=45)\n",
    "plt.yticks(np.arange(len(Y_values)), Y_values)\n",
    "for i in range(len(X_values)):\n",
    "    for j in range(len(Y_values)):\n",
    "        plt.text(j,i, str(freq[i][j]))\n",
    "plt.show()"
   ]
  },
  {
   "cell_type": "markdown",
   "metadata": {},
   "source": [
    "This table represents the joint probability mass function $p(X,Y)$, for each value of the random variables. Note that, being both random variables discrete, the joint distribution will take a finite number of values as well.\n",
    "\n",
    "We first note that the joint mass function follows the standard requirements for a probability function:\n",
    "\n"
   ]
  },
  {
   "cell_type": "markdown",
   "metadata": {},
   "source": [
    "- each element is included in [0,1];"
   ]
  },
  {
   "cell_type": "markdown",
   "metadata": {},
   "source": [
    "- it sums up to 1: $\\sum_{X,Y}p(X,Y) = 1$:"
   ]
  },
  {
   "cell_type": "code",
   "execution_count": 8,
   "metadata": {
    "tags": []
   },
   "outputs": [
    {
     "name": "stdout",
     "output_type": "stream",
     "text": [
      "The sum of all the probabilities is :  1.0\n"
     ]
    }
   ],
   "source": [
    "print('The sum of all the probabilities is : ', np.sum(freq))"
   ]
  },
  {
   "cell_type": "markdown",
   "metadata": {},
   "source": [
    "Having access to the joint probability allows to draw information on the variables. For example, the probability of having more than 2 bedrooms and 1 child is:\n",
    "$$p(X =1,\\, Y > 2) = 0.1$$"
   ]
  },
  {
   "cell_type": "markdown",
   "metadata": {},
   "source": [
    "If the variables are independent, the joint probability distribution factorises across variables:\n",
    "\n",
    "$$p(X,Y)=p(X)p(Y)$$"
   ]
  },
  {
   "cell_type": "markdown",
   "metadata": {},
   "source": [
    "## Marginal probability"
   ]
  },
  {
   "cell_type": "markdown",
   "metadata": {},
   "source": [
    "Having acces to the joit distribution of two random variables allows to determine the distribution of each variable: we talk about marginal probability. The marginal probability quantifies the individual probability of a single variable, when we take into account **all the possible instances of the the other variable(s)**. \n",
    "For example, the probability of having more than 2 bedrooms, $p(Y \\geq 3)$, is obtained by summing all the entries of the joint frequency table corresponding to the event $Y \\geq 3$:\n",
    "\\begin{align}\n",
    "p(Y \\geq 3) &= p(X = 0 \\cup X = 1 \\cup X\\geq 2 ,\\, Y > 2) \\\\\n",
    "&= p(X = 0 ,\\, Y > 2) + p(X = 1 ,\\, Y > 2) + p(X \\geq 2 ,\\, Y >2) \\\\\n",
    "&= 0.03 + 0.1 + 0.19 = 0.32\n",
    "\\end{align}\n",
    "In this case, we can say that the probability of finding a house with more than 2 bedrooms is .32."
   ]
  },
  {
   "cell_type": "markdown",
   "metadata": {},
   "source": [
    "The marginal probability can be therefore quantified by *marginalizing* the other variables, i.e. by summing over all their possible instances by keeping our variable of interest fixed:\n",
    "\n",
    "$$ p(X) = \\sum_Y p(X,Y)$$\n",
    "$$ p(Y) = \\sum_X p(X,Y)$$"
   ]
  },
  {
   "cell_type": "markdown",
   "metadata": {},
   "source": [
    "**Exercise.** Compute the marginal probablities for X and Y above, and verify theat they are valid probability measures."
   ]
  },
  {
   "cell_type": "code",
   "execution_count": 9,
   "metadata": {
    "tags": []
   },
   "outputs": [
    {
     "name": "stdout",
     "output_type": "stream",
     "text": [
      "[[0.2, 0.05, 0.01], [0.09, 0.25, 0.08], [0.03, 0.1, 0.19]]\n",
      "p(X) =  [0.32 0.4  0.28]\n",
      "p(Y) =  [0.26 0.42 0.32]\n"
     ]
    }
   ],
   "source": [
    "marginal_X = np.sum(np.array(freq),0)\n",
    "marginal_Y = np.sum(np.array(freq),1)\n",
    "\n",
    "print('p(X) = ', marginal_X)\n",
    "\n",
    "print('p(Y) = ', marginal_Y)"
   ]
  },
  {
   "cell_type": "markdown",
   "metadata": {},
   "source": [
    "The marginal distributions are still valid probability measures:"
   ]
  },
  {
   "cell_type": "code",
   "execution_count": 10,
   "metadata": {
    "tags": []
   },
   "outputs": [
    {
     "name": "stdout",
     "output_type": "stream",
     "text": [
      "p(X = 0) + p(X = 1) + p(X > 1) =  1.0\n",
      "p(Y = 1) + p(Y = 2) + p(Y > 2) =  1.0\n"
     ]
    }
   ],
   "source": [
    "print('p(X = 0) + p(X = 1) + p(X > 1) = ', np.sum(marginal_X))\n",
    "print('p(Y = 1) + p(Y = 2) + p(Y > 2) = ', np.sum(marginal_Y))"
   ]
  },
  {
   "cell_type": "markdown",
   "metadata": {},
   "source": [
    "Are $X$ and $Y$ independent?"
   ]
  },
  {
   "cell_type": "code",
   "execution_count": 14,
   "metadata": {
    "tags": []
   },
   "outputs": [
    {
     "name": "stdout",
     "output_type": "stream",
     "text": [
      "p(X=0,Y=1)= 0.2\n",
      "p(X=0)p(Y=1)= 0.08320000000000002\n"
     ]
    }
   ],
   "source": [
    "print('p(X=0,Y=1)=', freq[0][0])\n",
    "print('p(X=0)p(Y=1)=', marginal_X[0]*marginal_Y[0])"
   ]
  },
  {
   "cell_type": "markdown",
   "metadata": {},
   "source": [
    "# Conditional Probability\n",
    "\n",
    "We are left with the last definition of probability for multivariate distributions, and perhaps the least intuitive. \n",
    "We assume that a given value for the variable $Y$ is known, for example $Y=2$. The question is: what is the distribution of the variable $X$ once this piece of information is available? \n",
    "With respect to the joint distribution, this requires to look at the space of events from the point of view of the row corresponding to $Y = 2$, which means to consider the probability space $p(X, Y=2)$:\n",
    "\n"
   ]
  },
  {
   "cell_type": "code",
   "execution_count": 15,
   "metadata": {},
   "outputs": [
    {
     "data": {
      "image/png": "[encoded data removed]",
      "image/svg+xml": "<?xml version=\"1.0\" encoding=\"utf-8\" standalone=\"no\"?>\n<!DOCTYPE svg PUBLIC \"-//W3C//DTD SVG 1.1//EN\"\n  \"http://www.w3.org/Graphics/SVG/1.1/DTD/svg11.dtd\">\n<!-- Created with matplotlib (https://matplotlib.org/) -->\n<svg height=\"181.862615pt\" version=\"1.1\" viewBox=\"0 0 376.240625 181.862615\" width=\"376.240625pt\" xmlns=\"http://www.w3.org/2000/svg\" xmlns:xlink=\"http://www.w3.org/1999/xlink\">\n <defs>\n  <style type=\"text/css\">\n*{stroke-linecap:butt;stroke-linejoin:round;}\n  </style>\n </defs>\n <g id=\"figure_1\">\n  <g id=\"patch_1\">\n   <path d=\"M 0 181.862615 \nL 376.240625 181.862615 \nL 376.240625 0 \nL 0 0 \nz\n\" style=\"fill:none;\"/>\n  </g>\n  <g id=\"axes_1\">\n   <g id=\"patch_2\">\n    <path d=\"M 34.240625 133.918125 \nL 369.040625 133.918125 \nL 369.040625 22.318125 \nL 34.240625 22.318125 \nz\n\" style=\"fill:#ffffff;\"/>\n   </g>\n   <g clip-path=\"url(#pfd99a536e0)\">\n    <image height=\"112\" id=\"imagee37a732dfa\" transform=\"scale(1 -1)translate(0 -112)\" width=\"335\" x=\"34.240625\" xlink:href=\"data:image/png;base64,\niVBORw0KGgoAAAANSUhEUgAAAU8AAABwCAYAAACelvI+AAAABHNCSVQICAgIfAhkiAAAAaNJREFUeJzt1DENg1AAAFFAAhZxwdQJF/gjOOhEPVyHH5L3FNx08/3dnonXWo9zdALR9dlHJ/CHZXQAwBuZJ0BgngCBeQIE5gkQmCdAYJ4AgXkCBOYJEJgnQGCeAIF5AgTmCRCYJ0BgngCBeQIE5gkQmCdAYJ4AgXkCBOYJEJgnQGCeAIF5AgTmCRCYJ0BgngCBeQIE5gkQmCdAYJ4AgXkCBOYJEJgnQGCeAIF5AgTmCRCYJ0BgngCBeQIE5gkQmCdAYJ4AgXkCBOYJEJgnQGCeAIF5AgTmCRCYJ0BgngCBeQIE5gkQmCdAYJ4AgXkCBOYJEJgnQGCeAIF5AgTmCRCYJ0BgngCBeQIE5gkQmCdAYJ4AgXkCBOYJEJgnQGCeAIF5AgTmCRCYJ0BgngCBeQIE5gkQmCdAYJ4AgXkCBOYJEJgnQGCeAIF5AgTmCRCYJ0BgngCBeQIE5gkQmCdAYJ4AgXkCBOYJEJgnQGCeAIF5AgTmCRCYJ0BgngCBeQIE5gkQmCdAYJ4AgXkCBOYJEJgnQGCeAIF5AgTmCRCYJ0BgngDBDx2+BzxcrYycAAAAAElFTkSuQmCC\" y=\"-21.918125\"/>\n   </g>\n   <g id=\"matplotlib.axis_1\">\n    <g id=\"xtick_1\">\n     <g id=\"line2d_1\">\n      <defs>\n       <path d=\"M 0 0 \nL 0 3.5 \n\" id=\"m23ac4f0c62\" style=\"stroke:#000000;stroke-width:0.8;\"/>\n      </defs>\n      <g>\n       <use style=\"stroke:#000000;stroke-width:0.8;\" x=\"90.040625\" xlink:href=\"#m23ac4f0c62\" y=\"133.918125\"/>\n      </g>\n     </g>\n     <g id=\"text_1\">\n      <!-- 0 -->\n      <defs>\n       <path d=\"M 31.78125 66.40625 \nQ 24.171875 66.40625 20.328125 58.90625 \nQ 16.5 51.421875 16.5 36.375 \nQ 16.5 21.390625 20.328125 13.890625 \nQ 24.171875 6.390625 31.78125 6.390625 \nQ 39.453125 6.390625 43.28125 13.890625 \nQ 47.125 21.390625 47.125 36.375 \nQ 47.125 51.421875 43.28125 58.90625 \nQ 39.453125 66.40625 31.78125 66.40625 \nz\nM 31.78125 74.21875 \nQ 44.046875 74.21875 50.515625 64.515625 \nQ 56.984375 54.828125 56.984375 36.375 \nQ 56.984375 17.96875 50.515625 8.265625 \nQ 44.046875 -1.421875 31.78125 -1.421875 \nQ 19.53125 -1.421875 13.0625 8.265625 \nQ 6.59375 17.96875 6.59375 36.375 \nQ 6.59375 54.828125 13.0625 64.515625 \nQ 19.53125 74.21875 31.78125 74.21875 \nz\n\" id=\"DejaVuSans-48\"/>\n      </defs>\n      <g transform=\"translate(89.742314 150.789999)rotate(-45)scale(0.1 -0.1)\">\n       <use xlink:href=\"#DejaVuSans-48\"/>\n      </g>\n     </g>\n    </g>\n    <g id=\"xtick_2\">\n     <g id=\"line2d_2\">\n      <g>\n       <use style=\"stroke:#000000;stroke-width:0.8;\" x=\"201.640625\" xlink:href=\"#m23ac4f0c62\" y=\"133.918125\"/>\n      </g>\n     </g>\n     <g id=\"text_2\">\n      <!-- 1 -->\n      <defs>\n       <path d=\"M 12.40625 8.296875 \nL 28.515625 8.296875 \nL 28.515625 63.921875 \nL 10.984375 60.40625 \nL 10.984375 69.390625 \nL 28.421875 72.90625 \nL 38.28125 72.90625 \nL 38.28125 8.296875 \nL 54.390625 8.296875 \nL 54.390625 0 \nL 12.40625 0 \nz\n\" id=\"DejaVuSans-49\"/>\n      </defs>\n      <g transform=\"translate(201.342314 150.789999)rotate(-45)scale(0.1 -0.1)\">\n       <use xlink:href=\"#DejaVuSans-49\"/>\n      </g>\n     </g>\n    </g>\n    <g id=\"xtick_3\">\n     <g id=\"line2d_3\">\n      <g>\n       <use style=\"stroke:#000000;stroke-width:0.8;\" x=\"313.240625\" xlink:href=\"#m23ac4f0c62\" y=\"133.918125\"/>\n      </g>\n     </g>\n     <g id=\"text_3\">\n      <!-- $\\geq2$ -->\n      <defs>\n       <path d=\"M 10.59375 49.609375 \nL 10.59375 58.203125 \nL 73.1875 40.28125 \nL 73.1875 31.984375 \nL 10.59375 14.015625 \nL 10.59375 22.703125 \nL 57.515625 36.078125 \nz\nM 73.1875 8.296875 \nL 73.1875 0 \nL 10.59375 0 \nL 10.59375 8.296875 \nz\n\" id=\"DejaVuSans-8805\"/>\n       <path d=\"M 19.1875 8.296875 \nL 53.609375 8.296875 \nL 53.609375 0 \nL 7.328125 0 \nL 7.328125 8.296875 \nQ 12.9375 14.109375 22.625 23.890625 \nQ 32.328125 33.6875 34.8125 36.53125 \nQ 39.546875 41.84375 41.421875 45.53125 \nQ 43.3125 49.21875 43.3125 52.78125 \nQ 43.3125 58.59375 39.234375 62.25 \nQ 35.15625 65.921875 28.609375 65.921875 \nQ 23.96875 65.921875 18.8125 64.3125 \nQ 13.671875 62.703125 7.8125 59.421875 \nL 7.8125 69.390625 \nQ 13.765625 71.78125 18.9375 73 \nQ 24.125 74.21875 28.421875 74.21875 \nQ 39.75 74.21875 46.484375 68.546875 \nQ 53.21875 62.890625 53.21875 53.421875 \nQ 53.21875 48.921875 51.53125 44.890625 \nQ 49.859375 40.875 45.40625 35.40625 \nQ 44.1875 33.984375 37.640625 27.21875 \nQ 31.109375 20.453125 19.1875 8.296875 \nz\n\" id=\"DejaVuSans-50\"/>\n      </defs>\n      <g transform=\"translate(308.580349 159.513928)rotate(-45)scale(0.1 -0.1)\">\n       <use transform=\"translate(19.482422 0.78125)\" xlink:href=\"#DejaVuSans-8805\"/>\n       <use transform=\"translate(122.753906 0.78125)\" xlink:href=\"#DejaVuSans-50\"/>\n      </g>\n     </g>\n    </g>\n    <g id=\"text_4\">\n     <!-- X (# children) -->\n     <defs>\n      <path d=\"M 6.296875 72.90625 \nL 16.890625 72.90625 \nL 35.015625 45.796875 \nL 53.21875 72.90625 \nL 63.8125 72.90625 \nL 40.375 37.890625 \nL 65.375 0 \nL 54.78125 0 \nL 34.28125 31 \nL 13.625 0 \nL 2.984375 0 \nL 29 38.921875 \nz\n\" id=\"DejaVuSans-88\"/>\n      <path id=\"DejaVuSans-32\"/>\n      <path d=\"M 31 75.875 \nQ 24.46875 64.65625 21.28125 53.65625 \nQ 18.109375 42.671875 18.109375 31.390625 \nQ 18.109375 20.125 21.3125 9.0625 \nQ 24.515625 -2 31 -13.1875 \nL 23.1875 -13.1875 \nQ 15.875 -1.703125 12.234375 9.375 \nQ 8.59375 20.453125 8.59375 31.390625 \nQ 8.59375 42.28125 12.203125 53.3125 \nQ 15.828125 64.359375 23.1875 75.875 \nz\n\" id=\"DejaVuSans-40\"/>\n      <path d=\"M 51.125 44 \nL 36.921875 44 \nL 32.8125 27.6875 \nL 47.125 27.6875 \nz\nM 43.796875 71.78125 \nL 38.71875 51.515625 \nL 52.984375 51.515625 \nL 58.109375 71.78125 \nL 65.921875 71.78125 \nL 60.890625 51.515625 \nL 76.125 51.515625 \nL 76.125 44 \nL 58.984375 44 \nL 54.984375 27.6875 \nL 70.515625 27.6875 \nL 70.515625 20.21875 \nL 53.078125 20.21875 \nL 48 0 \nL 40.1875 0 \nL 45.21875 20.21875 \nL 30.90625 20.21875 \nL 25.875 0 \nL 18.015625 0 \nL 23.09375 20.21875 \nL 7.71875 20.21875 \nL 7.71875 27.6875 \nL 24.90625 27.6875 \nL 29 44 \nL 13.28125 44 \nL 13.28125 51.515625 \nL 30.90625 51.515625 \nL 35.890625 71.78125 \nz\n\" id=\"DejaVuSans-35\"/>\n      <path d=\"M 48.78125 52.59375 \nL 48.78125 44.1875 \nQ 44.96875 46.296875 41.140625 47.34375 \nQ 37.3125 48.390625 33.40625 48.390625 \nQ 24.65625 48.390625 19.8125 42.84375 \nQ 14.984375 37.3125 14.984375 27.296875 \nQ 14.984375 17.28125 19.8125 11.734375 \nQ 24.65625 6.203125 33.40625 6.203125 \nQ 37.3125 6.203125 41.140625 7.25 \nQ 44.96875 8.296875 48.78125 10.40625 \nL 48.78125 2.09375 \nQ 45.015625 0.34375 40.984375 -0.53125 \nQ 36.96875 -1.421875 32.421875 -1.421875 \nQ 20.0625 -1.421875 12.78125 6.34375 \nQ 5.515625 14.109375 5.515625 27.296875 \nQ 5.515625 40.671875 12.859375 48.328125 \nQ 20.21875 56 33.015625 56 \nQ 37.15625 56 41.109375 55.140625 \nQ 45.0625 54.296875 48.78125 52.59375 \nz\n\" id=\"DejaVuSans-99\"/>\n      <path d=\"M 54.890625 33.015625 \nL 54.890625 0 \nL 45.90625 0 \nL 45.90625 32.71875 \nQ 45.90625 40.484375 42.875 44.328125 \nQ 39.84375 48.1875 33.796875 48.1875 \nQ 26.515625 48.1875 22.3125 43.546875 \nQ 18.109375 38.921875 18.109375 30.90625 \nL 18.109375 0 \nL 9.078125 0 \nL 9.078125 75.984375 \nL 18.109375 75.984375 \nL 18.109375 46.1875 \nQ 21.34375 51.125 25.703125 53.5625 \nQ 30.078125 56 35.796875 56 \nQ 45.21875 56 50.046875 50.171875 \nQ 54.890625 44.34375 54.890625 33.015625 \nz\n\" id=\"DejaVuSans-104\"/>\n      <path d=\"M 9.421875 54.6875 \nL 18.40625 54.6875 \nL 18.40625 0 \nL 9.421875 0 \nz\nM 9.421875 75.984375 \nL 18.40625 75.984375 \nL 18.40625 64.59375 \nL 9.421875 64.59375 \nz\n\" id=\"DejaVuSans-105\"/>\n      <path d=\"M 9.421875 75.984375 \nL 18.40625 75.984375 \nL 18.40625 0 \nL 9.421875 0 \nz\n\" id=\"DejaVuSans-108\"/>\n      <path d=\"M 45.40625 46.390625 \nL 45.40625 75.984375 \nL 54.390625 75.984375 \nL 54.390625 0 \nL 45.40625 0 \nL 45.40625 8.203125 \nQ 42.578125 3.328125 38.25 0.953125 \nQ 33.9375 -1.421875 27.875 -1.421875 \nQ 17.96875 -1.421875 11.734375 6.484375 \nQ 5.515625 14.40625 5.515625 27.296875 \nQ 5.515625 40.1875 11.734375 48.09375 \nQ 17.96875 56 27.875 56 \nQ 33.9375 56 38.25 53.625 \nQ 42.578125 51.265625 45.40625 46.390625 \nz\nM 14.796875 27.296875 \nQ 14.796875 17.390625 18.875 11.75 \nQ 22.953125 6.109375 30.078125 6.109375 \nQ 37.203125 6.109375 41.296875 11.75 \nQ 45.40625 17.390625 45.40625 27.296875 \nQ 45.40625 37.203125 41.296875 42.84375 \nQ 37.203125 48.484375 30.078125 48.484375 \nQ 22.953125 48.484375 18.875 42.84375 \nQ 14.796875 37.203125 14.796875 27.296875 \nz\n\" id=\"DejaVuSans-100\"/>\n      <path d=\"M 41.109375 46.296875 \nQ 39.59375 47.171875 37.8125 47.578125 \nQ 36.03125 48 33.890625 48 \nQ 26.265625 48 22.1875 43.046875 \nQ 18.109375 38.09375 18.109375 28.8125 \nL 18.109375 0 \nL 9.078125 0 \nL 9.078125 54.6875 \nL 18.109375 54.6875 \nL 18.109375 46.1875 \nQ 20.953125 51.171875 25.484375 53.578125 \nQ 30.03125 56 36.53125 56 \nQ 37.453125 56 38.578125 55.875 \nQ 39.703125 55.765625 41.0625 55.515625 \nz\n\" id=\"DejaVuSans-114\"/>\n      <path d=\"M 56.203125 29.59375 \nL 56.203125 25.203125 \nL 14.890625 25.203125 \nQ 15.484375 15.921875 20.484375 11.0625 \nQ 25.484375 6.203125 34.421875 6.203125 \nQ 39.59375 6.203125 44.453125 7.46875 \nQ 49.3125 8.734375 54.109375 11.28125 \nL 54.109375 2.78125 \nQ 49.265625 0.734375 44.1875 -0.34375 \nQ 39.109375 -1.421875 33.890625 -1.421875 \nQ 20.796875 -1.421875 13.15625 6.1875 \nQ 5.515625 13.8125 5.515625 26.8125 \nQ 5.515625 40.234375 12.765625 48.109375 \nQ 20.015625 56 32.328125 56 \nQ 43.359375 56 49.78125 48.890625 \nQ 56.203125 41.796875 56.203125 29.59375 \nz\nM 47.21875 32.234375 \nQ 47.125 39.59375 43.09375 43.984375 \nQ 39.0625 48.390625 32.421875 48.390625 \nQ 24.90625 48.390625 20.390625 44.140625 \nQ 15.875 39.890625 15.1875 32.171875 \nz\n\" id=\"DejaVuSans-101\"/>\n      <path d=\"M 54.890625 33.015625 \nL 54.890625 0 \nL 45.90625 0 \nL 45.90625 32.71875 \nQ 45.90625 40.484375 42.875 44.328125 \nQ 39.84375 48.1875 33.796875 48.1875 \nQ 26.515625 48.1875 22.3125 43.546875 \nQ 18.109375 38.921875 18.109375 30.90625 \nL 18.109375 0 \nL 9.078125 0 \nL 9.078125 54.6875 \nL 18.109375 54.6875 \nL 18.109375 46.1875 \nQ 21.34375 51.125 25.703125 53.5625 \nQ 30.078125 56 35.796875 56 \nQ 45.21875 56 50.046875 50.171875 \nQ 54.890625 44.34375 54.890625 33.015625 \nz\n\" id=\"DejaVuSans-110\"/>\n      <path d=\"M 8.015625 75.875 \nL 15.828125 75.875 \nQ 23.140625 64.359375 26.78125 53.3125 \nQ 30.421875 42.28125 30.421875 31.390625 \nQ 30.421875 20.453125 26.78125 9.375 \nQ 23.140625 -1.703125 15.828125 -13.1875 \nL 8.015625 -13.1875 \nQ 14.5 -2 17.703125 9.0625 \nQ 20.90625 20.125 20.90625 31.390625 \nQ 20.90625 42.671875 17.703125 53.65625 \nQ 14.5 64.65625 8.015625 75.875 \nz\n\" id=\"DejaVuSans-41\"/>\n     </defs>\n     <g transform=\"translate(166.776563 172.582927)scale(0.1 -0.1)\">\n      <use xlink:href=\"#DejaVuSans-88\"/>\n      <use x=\"68.505859\" xlink:href=\"#DejaVuSans-32\"/>\n      <use x=\"100.292969\" xlink:href=\"#DejaVuSans-40\"/>\n      <use x=\"139.306641\" xlink:href=\"#DejaVuSans-35\"/>\n      <use x=\"223.095703\" xlink:href=\"#DejaVuSans-32\"/>\n      <use x=\"254.882812\" xlink:href=\"#DejaVuSans-99\"/>\n      <use x=\"309.863281\" xlink:href=\"#DejaVuSans-104\"/>\n      <use x=\"373.242188\" xlink:href=\"#DejaVuSans-105\"/>\n      <use x=\"401.025391\" xlink:href=\"#DejaVuSans-108\"/>\n      <use x=\"428.808594\" xlink:href=\"#DejaVuSans-100\"/>\n      <use x=\"492.285156\" xlink:href=\"#DejaVuSans-114\"/>\n      <use x=\"533.367188\" xlink:href=\"#DejaVuSans-101\"/>\n      <use x=\"594.890625\" xlink:href=\"#DejaVuSans-110\"/>\n      <use x=\"658.269531\" xlink:href=\"#DejaVuSans-41\"/>\n     </g>\n    </g>\n   </g>\n   <g id=\"matplotlib.axis_2\">\n    <g id=\"ytick_1\">\n     <g id=\"line2d_4\">\n      <defs>\n       <path d=\"M 0 0 \nL -3.5 0 \n\" id=\"mcec578fa69\" style=\"stroke:#000000;stroke-width:0.8;\"/>\n      </defs>\n      <g>\n       <use style=\"stroke:#000000;stroke-width:0.8;\" x=\"34.240625\" xlink:href=\"#mcec578fa69\" y=\"78.118125\"/>\n      </g>\n     </g>\n     <g id=\"text_5\">\n      <!-- 2 -->\n      <g transform=\"translate(20.878125 81.917344)scale(0.1 -0.1)\">\n       <use xlink:href=\"#DejaVuSans-50\"/>\n      </g>\n     </g>\n    </g>\n    <g id=\"text_6\">\n     <!-- Y (# bedrooms) -->\n     <defs>\n      <path d=\"M -0.203125 72.90625 \nL 10.40625 72.90625 \nL 30.609375 42.921875 \nL 50.6875 72.90625 \nL 61.28125 72.90625 \nL 35.5 34.71875 \nL 35.5 0 \nL 25.59375 0 \nL 25.59375 34.71875 \nz\n\" id=\"DejaVuSans-89\"/>\n      <path d=\"M 48.6875 27.296875 \nQ 48.6875 37.203125 44.609375 42.84375 \nQ 40.53125 48.484375 33.40625 48.484375 \nQ 26.265625 48.484375 22.1875 42.84375 \nQ 18.109375 37.203125 18.109375 27.296875 \nQ 18.109375 17.390625 22.1875 11.75 \nQ 26.265625 6.109375 33.40625 6.109375 \nQ 40.53125 6.109375 44.609375 11.75 \nQ 48.6875 17.390625 48.6875 27.296875 \nz\nM 18.109375 46.390625 \nQ 20.953125 51.265625 25.265625 53.625 \nQ 29.59375 56 35.59375 56 \nQ 45.5625 56 51.78125 48.09375 \nQ 58.015625 40.1875 58.015625 27.296875 \nQ 58.015625 14.40625 51.78125 6.484375 \nQ 45.5625 -1.421875 35.59375 -1.421875 \nQ 29.59375 -1.421875 25.265625 0.953125 \nQ 20.953125 3.328125 18.109375 8.203125 \nL 18.109375 0 \nL 9.078125 0 \nL 9.078125 75.984375 \nL 18.109375 75.984375 \nz\n\" id=\"DejaVuSans-98\"/>\n      <path d=\"M 30.609375 48.390625 \nQ 23.390625 48.390625 19.1875 42.75 \nQ 14.984375 37.109375 14.984375 27.296875 \nQ 14.984375 17.484375 19.15625 11.84375 \nQ 23.34375 6.203125 30.609375 6.203125 \nQ 37.796875 6.203125 41.984375 11.859375 \nQ 46.1875 17.53125 46.1875 27.296875 \nQ 46.1875 37.015625 41.984375 42.703125 \nQ 37.796875 48.390625 30.609375 48.390625 \nz\nM 30.609375 56 \nQ 42.328125 56 49.015625 48.375 \nQ 55.71875 40.765625 55.71875 27.296875 \nQ 55.71875 13.875 49.015625 6.21875 \nQ 42.328125 -1.421875 30.609375 -1.421875 \nQ 18.84375 -1.421875 12.171875 6.21875 \nQ 5.515625 13.875 5.515625 27.296875 \nQ 5.515625 40.765625 12.171875 48.375 \nQ 18.84375 56 30.609375 56 \nz\n\" id=\"DejaVuSans-111\"/>\n      <path d=\"M 52 44.1875 \nQ 55.375 50.25 60.0625 53.125 \nQ 64.75 56 71.09375 56 \nQ 79.640625 56 84.28125 50.015625 \nQ 88.921875 44.046875 88.921875 33.015625 \nL 88.921875 0 \nL 79.890625 0 \nL 79.890625 32.71875 \nQ 79.890625 40.578125 77.09375 44.375 \nQ 74.3125 48.1875 68.609375 48.1875 \nQ 61.625 48.1875 57.5625 43.546875 \nQ 53.515625 38.921875 53.515625 30.90625 \nL 53.515625 0 \nL 44.484375 0 \nL 44.484375 32.71875 \nQ 44.484375 40.625 41.703125 44.40625 \nQ 38.921875 48.1875 33.109375 48.1875 \nQ 26.21875 48.1875 22.15625 43.53125 \nQ 18.109375 38.875 18.109375 30.90625 \nL 18.109375 0 \nL 9.078125 0 \nL 9.078125 54.6875 \nL 18.109375 54.6875 \nL 18.109375 46.1875 \nQ 21.1875 51.21875 25.484375 53.609375 \nQ 29.78125 56 35.6875 56 \nQ 41.65625 56 45.828125 52.96875 \nQ 50 49.953125 52 44.1875 \nz\n\" id=\"DejaVuSans-109\"/>\n      <path d=\"M 44.28125 53.078125 \nL 44.28125 44.578125 \nQ 40.484375 46.53125 36.375 47.5 \nQ 32.28125 48.484375 27.875 48.484375 \nQ 21.1875 48.484375 17.84375 46.4375 \nQ 14.5 44.390625 14.5 40.28125 \nQ 14.5 37.15625 16.890625 35.375 \nQ 19.28125 33.59375 26.515625 31.984375 \nL 29.59375 31.296875 \nQ 39.15625 29.25 43.1875 25.515625 \nQ 47.21875 21.78125 47.21875 15.09375 \nQ 47.21875 7.46875 41.1875 3.015625 \nQ 35.15625 -1.421875 24.609375 -1.421875 \nQ 20.21875 -1.421875 15.453125 -0.5625 \nQ 10.6875 0.296875 5.421875 2 \nL 5.421875 11.28125 \nQ 10.40625 8.6875 15.234375 7.390625 \nQ 20.0625 6.109375 24.8125 6.109375 \nQ 31.15625 6.109375 34.5625 8.28125 \nQ 37.984375 10.453125 37.984375 14.40625 \nQ 37.984375 18.0625 35.515625 20.015625 \nQ 33.0625 21.96875 24.703125 23.78125 \nL 21.578125 24.515625 \nQ 13.234375 26.265625 9.515625 29.90625 \nQ 5.8125 33.546875 5.8125 39.890625 \nQ 5.8125 47.609375 11.28125 51.796875 \nQ 16.75 56 26.8125 56 \nQ 31.78125 56 36.171875 55.265625 \nQ 40.578125 54.546875 44.28125 53.078125 \nz\n\" id=\"DejaVuSans-115\"/>\n     </defs>\n     <g transform=\"translate(14.798437 117.514219)rotate(-90)scale(0.1 -0.1)\">\n      <use xlink:href=\"#DejaVuSans-89\"/>\n      <use x=\"61.083984\" xlink:href=\"#DejaVuSans-32\"/>\n      <use x=\"92.871094\" xlink:href=\"#DejaVuSans-40\"/>\n      <use x=\"131.884766\" xlink:href=\"#DejaVuSans-35\"/>\n      <use x=\"215.673828\" xlink:href=\"#DejaVuSans-32\"/>\n      <use x=\"247.460938\" xlink:href=\"#DejaVuSans-98\"/>\n      <use x=\"310.9375\" xlink:href=\"#DejaVuSans-101\"/>\n      <use x=\"372.460938\" xlink:href=\"#DejaVuSans-100\"/>\n      <use x=\"435.9375\" xlink:href=\"#DejaVuSans-114\"/>\n      <use x=\"477.019531\" xlink:href=\"#DejaVuSans-111\"/>\n      <use x=\"538.201172\" xlink:href=\"#DejaVuSans-111\"/>\n      <use x=\"599.382812\" xlink:href=\"#DejaVuSans-109\"/>\n      <use x=\"696.794922\" xlink:href=\"#DejaVuSans-115\"/>\n      <use x=\"748.894531\" xlink:href=\"#DejaVuSans-41\"/>\n     </g>\n    </g>\n   </g>\n   <g id=\"patch_3\">\n    <path d=\"M 34.240625 133.918125 \nL 34.240625 22.318125 \n\" style=\"fill:none;stroke:#000000;stroke-linecap:square;stroke-linejoin:miter;stroke-width:0.8;\"/>\n   </g>\n   <g id=\"patch_4\">\n    <path d=\"M 369.040625 133.918125 \nL 369.040625 22.318125 \n\" style=\"fill:none;stroke:#000000;stroke-linecap:square;stroke-linejoin:miter;stroke-width:0.8;\"/>\n   </g>\n   <g id=\"patch_5\">\n    <path d=\"M 34.240625 133.918125 \nL 369.040625 133.918125 \n\" style=\"fill:none;stroke:#000000;stroke-linecap:square;stroke-linejoin:miter;stroke-width:0.8;\"/>\n   </g>\n   <g id=\"patch_6\">\n    <path d=\"M 34.240625 22.318125 \nL 369.040625 22.318125 \n\" style=\"fill:none;stroke:#000000;stroke-linecap:square;stroke-linejoin:miter;stroke-width:0.8;\"/>\n   </g>\n   <g id=\"text_7\">\n    <!-- 0.09 -->\n    <defs>\n     <path d=\"M 10.6875 12.40625 \nL 21 12.40625 \nL 21 0 \nL 10.6875 0 \nz\n\" id=\"DejaVuSans-46\"/>\n     <path d=\"M 10.984375 1.515625 \nL 10.984375 10.5 \nQ 14.703125 8.734375 18.5 7.8125 \nQ 22.3125 6.890625 25.984375 6.890625 \nQ 35.75 6.890625 40.890625 13.453125 \nQ 46.046875 20.015625 46.78125 33.40625 \nQ 43.953125 29.203125 39.59375 26.953125 \nQ 35.25 24.703125 29.984375 24.703125 \nQ 19.046875 24.703125 12.671875 31.3125 \nQ 6.296875 37.9375 6.296875 49.421875 \nQ 6.296875 60.640625 12.9375 67.421875 \nQ 19.578125 74.21875 30.609375 74.21875 \nQ 43.265625 74.21875 49.921875 64.515625 \nQ 56.59375 54.828125 56.59375 36.375 \nQ 56.59375 19.140625 48.40625 8.859375 \nQ 40.234375 -1.421875 26.421875 -1.421875 \nQ 22.703125 -1.421875 18.890625 -0.6875 \nQ 15.09375 0.046875 10.984375 1.515625 \nz\nM 30.609375 32.421875 \nQ 37.25 32.421875 41.125 36.953125 \nQ 45.015625 41.5 45.015625 49.421875 \nQ 45.015625 57.28125 41.125 61.84375 \nQ 37.25 66.40625 30.609375 66.40625 \nQ 23.96875 66.40625 20.09375 61.84375 \nQ 16.21875 57.28125 16.21875 49.421875 \nQ 16.21875 41.5 20.09375 36.953125 \nQ 23.96875 32.421875 30.609375 32.421875 \nz\n\" id=\"DejaVuSans-57\"/>\n    </defs>\n    <g transform=\"translate(90.040625 78.118125)scale(0.1 -0.1)\">\n     <use xlink:href=\"#DejaVuSans-48\"/>\n     <use x=\"63.623047\" xlink:href=\"#DejaVuSans-46\"/>\n     <use x=\"95.410156\" xlink:href=\"#DejaVuSans-48\"/>\n     <use x=\"159.033203\" xlink:href=\"#DejaVuSans-57\"/>\n    </g>\n   </g>\n   <g id=\"text_8\">\n    <!-- 0.25 -->\n    <defs>\n     <path d=\"M 10.796875 72.90625 \nL 49.515625 72.90625 \nL 49.515625 64.59375 \nL 19.828125 64.59375 \nL 19.828125 46.734375 \nQ 21.96875 47.46875 24.109375 47.828125 \nQ 26.265625 48.1875 28.421875 48.1875 \nQ 40.625 48.1875 47.75 41.5 \nQ 54.890625 34.8125 54.890625 23.390625 \nQ 54.890625 11.625 47.5625 5.09375 \nQ 40.234375 -1.421875 26.90625 -1.421875 \nQ 22.3125 -1.421875 17.546875 -0.640625 \nQ 12.796875 0.140625 7.71875 1.703125 \nL 7.71875 11.625 \nQ 12.109375 9.234375 16.796875 8.0625 \nQ 21.484375 6.890625 26.703125 6.890625 \nQ 35.15625 6.890625 40.078125 11.328125 \nQ 45.015625 15.765625 45.015625 23.390625 \nQ 45.015625 31 40.078125 35.4375 \nQ 35.15625 39.890625 26.703125 39.890625 \nQ 22.75 39.890625 18.8125 39.015625 \nQ 14.890625 38.140625 10.796875 36.28125 \nz\n\" id=\"DejaVuSans-53\"/>\n    </defs>\n    <g transform=\"translate(201.640625 78.118125)scale(0.1 -0.1)\">\n     <use xlink:href=\"#DejaVuSans-48\"/>\n     <use x=\"63.623047\" xlink:href=\"#DejaVuSans-46\"/>\n     <use x=\"95.410156\" xlink:href=\"#DejaVuSans-50\"/>\n     <use x=\"159.033203\" xlink:href=\"#DejaVuSans-53\"/>\n    </g>\n   </g>\n   <g id=\"text_9\">\n    <!-- 0.08 -->\n    <defs>\n     <path d=\"M 31.78125 34.625 \nQ 24.75 34.625 20.71875 30.859375 \nQ 16.703125 27.09375 16.703125 20.515625 \nQ 16.703125 13.921875 20.71875 10.15625 \nQ 24.75 6.390625 31.78125 6.390625 \nQ 38.8125 6.390625 42.859375 10.171875 \nQ 46.921875 13.96875 46.921875 20.515625 \nQ 46.921875 27.09375 42.890625 30.859375 \nQ 38.875 34.625 31.78125 34.625 \nz\nM 21.921875 38.8125 \nQ 15.578125 40.375 12.03125 44.71875 \nQ 8.5 49.078125 8.5 55.328125 \nQ 8.5 64.0625 14.71875 69.140625 \nQ 20.953125 74.21875 31.78125 74.21875 \nQ 42.671875 74.21875 48.875 69.140625 \nQ 55.078125 64.0625 55.078125 55.328125 \nQ 55.078125 49.078125 51.53125 44.71875 \nQ 48 40.375 41.703125 38.8125 \nQ 48.828125 37.15625 52.796875 32.3125 \nQ 56.78125 27.484375 56.78125 20.515625 \nQ 56.78125 9.90625 50.3125 4.234375 \nQ 43.84375 -1.421875 31.78125 -1.421875 \nQ 19.734375 -1.421875 13.25 4.234375 \nQ 6.78125 9.90625 6.78125 20.515625 \nQ 6.78125 27.484375 10.78125 32.3125 \nQ 14.796875 37.15625 21.921875 38.8125 \nz\nM 18.3125 54.390625 \nQ 18.3125 48.734375 21.84375 45.5625 \nQ 25.390625 42.390625 31.78125 42.390625 \nQ 38.140625 42.390625 41.71875 45.5625 \nQ 45.3125 48.734375 45.3125 54.390625 \nQ 45.3125 60.0625 41.71875 63.234375 \nQ 38.140625 66.40625 31.78125 66.40625 \nQ 25.390625 66.40625 21.84375 63.234375 \nQ 18.3125 60.0625 18.3125 54.390625 \nz\n\" id=\"DejaVuSans-56\"/>\n    </defs>\n    <g transform=\"translate(313.240625 78.118125)scale(0.1 -0.1)\">\n     <use xlink:href=\"#DejaVuSans-48\"/>\n     <use x=\"63.623047\" xlink:href=\"#DejaVuSans-46\"/>\n     <use x=\"95.410156\" xlink:href=\"#DejaVuSans-48\"/>\n     <use x=\"159.033203\" xlink:href=\"#DejaVuSans-56\"/>\n    </g>\n   </g>\n   <g id=\"text_10\">\n    <!-- joint probability p(X,Y=2) -->\n    <defs>\n     <path d=\"M 9.421875 54.6875 \nL 18.40625 54.6875 \nL 18.40625 -0.984375 \nQ 18.40625 -11.421875 14.421875 -16.109375 \nQ 10.453125 -20.796875 1.609375 -20.796875 \nL -1.8125 -20.796875 \nL -1.8125 -13.1875 \nL 0.59375 -13.1875 \nQ 5.71875 -13.1875 7.5625 -10.8125 \nQ 9.421875 -8.453125 9.421875 -0.984375 \nz\nM 9.421875 75.984375 \nL 18.40625 75.984375 \nL 18.40625 64.59375 \nL 9.421875 64.59375 \nz\n\" id=\"DejaVuSans-106\"/>\n     <path d=\"M 18.3125 70.21875 \nL 18.3125 54.6875 \nL 36.8125 54.6875 \nL 36.8125 47.703125 \nL 18.3125 47.703125 \nL 18.3125 18.015625 \nQ 18.3125 11.328125 20.140625 9.421875 \nQ 21.96875 7.515625 27.59375 7.515625 \nL 36.8125 7.515625 \nL 36.8125 0 \nL 27.59375 0 \nQ 17.1875 0 13.234375 3.875 \nQ 9.28125 7.765625 9.28125 18.015625 \nL 9.28125 47.703125 \nL 2.6875 47.703125 \nL 2.6875 54.6875 \nL 9.28125 54.6875 \nL 9.28125 70.21875 \nz\n\" id=\"DejaVuSans-116\"/>\n     <path d=\"M 18.109375 8.203125 \nL 18.109375 -20.796875 \nL 9.078125 -20.796875 \nL 9.078125 54.6875 \nL 18.109375 54.6875 \nL 18.109375 46.390625 \nQ 20.953125 51.265625 25.265625 53.625 \nQ 29.59375 56 35.59375 56 \nQ 45.5625 56 51.78125 48.09375 \nQ 58.015625 40.1875 58.015625 27.296875 \nQ 58.015625 14.40625 51.78125 6.484375 \nQ 45.5625 -1.421875 35.59375 -1.421875 \nQ 29.59375 -1.421875 25.265625 0.953125 \nQ 20.953125 3.328125 18.109375 8.203125 \nz\nM 48.6875 27.296875 \nQ 48.6875 37.203125 44.609375 42.84375 \nQ 40.53125 48.484375 33.40625 48.484375 \nQ 26.265625 48.484375 22.1875 42.84375 \nQ 18.109375 37.203125 18.109375 27.296875 \nQ 18.109375 17.390625 22.1875 11.75 \nQ 26.265625 6.109375 33.40625 6.109375 \nQ 40.53125 6.109375 44.609375 11.75 \nQ 48.6875 17.390625 48.6875 27.296875 \nz\n\" id=\"DejaVuSans-112\"/>\n     <path d=\"M 34.28125 27.484375 \nQ 23.390625 27.484375 19.1875 25 \nQ 14.984375 22.515625 14.984375 16.5 \nQ 14.984375 11.71875 18.140625 8.90625 \nQ 21.296875 6.109375 26.703125 6.109375 \nQ 34.1875 6.109375 38.703125 11.40625 \nQ 43.21875 16.703125 43.21875 25.484375 \nL 43.21875 27.484375 \nz\nM 52.203125 31.203125 \nL 52.203125 0 \nL 43.21875 0 \nL 43.21875 8.296875 \nQ 40.140625 3.328125 35.546875 0.953125 \nQ 30.953125 -1.421875 24.3125 -1.421875 \nQ 15.921875 -1.421875 10.953125 3.296875 \nQ 6 8.015625 6 15.921875 \nQ 6 25.140625 12.171875 29.828125 \nQ 18.359375 34.515625 30.609375 34.515625 \nL 43.21875 34.515625 \nL 43.21875 35.40625 \nQ 43.21875 41.609375 39.140625 45 \nQ 35.0625 48.390625 27.6875 48.390625 \nQ 23 48.390625 18.546875 47.265625 \nQ 14.109375 46.140625 10.015625 43.890625 \nL 10.015625 52.203125 \nQ 14.9375 54.109375 19.578125 55.046875 \nQ 24.21875 56 28.609375 56 \nQ 40.484375 56 46.34375 49.84375 \nQ 52.203125 43.703125 52.203125 31.203125 \nz\n\" id=\"DejaVuSans-97\"/>\n     <path d=\"M 32.171875 -5.078125 \nQ 28.375 -14.84375 24.75 -17.8125 \nQ 21.140625 -20.796875 15.09375 -20.796875 \nL 7.90625 -20.796875 \nL 7.90625 -13.28125 \nL 13.1875 -13.28125 \nQ 16.890625 -13.28125 18.9375 -11.515625 \nQ 21 -9.765625 23.484375 -3.21875 \nL 25.09375 0.875 \nL 2.984375 54.6875 \nL 12.5 54.6875 \nL 29.59375 11.921875 \nL 46.6875 54.6875 \nL 56.203125 54.6875 \nz\n\" id=\"DejaVuSans-121\"/>\n     <path d=\"M 11.71875 12.40625 \nL 22.015625 12.40625 \nL 22.015625 4 \nL 14.015625 -11.625 \nL 7.71875 -11.625 \nL 11.71875 4 \nz\n\" id=\"DejaVuSans-44\"/>\n     <path d=\"M 10.59375 45.40625 \nL 73.1875 45.40625 \nL 73.1875 37.203125 \nL 10.59375 37.203125 \nz\nM 10.59375 25.484375 \nL 73.1875 25.484375 \nL 73.1875 17.1875 \nL 10.59375 17.1875 \nz\n\" id=\"DejaVuSans-61\"/>\n    </defs>\n    <g transform=\"translate(125.505313 16.318125)scale(0.12 -0.12)\">\n     <use xlink:href=\"#DejaVuSans-106\"/>\n     <use x=\"27.783203\" xlink:href=\"#DejaVuSans-111\"/>\n     <use x=\"88.964844\" xlink:href=\"#DejaVuSans-105\"/>\n     <use x=\"116.748047\" xlink:href=\"#DejaVuSans-110\"/>\n     <use x=\"180.126953\" xlink:href=\"#DejaVuSans-116\"/>\n     <use x=\"219.335938\" xlink:href=\"#DejaVuSans-32\"/>\n     <use x=\"251.123047\" xlink:href=\"#DejaVuSans-112\"/>\n     <use x=\"314.599609\" xlink:href=\"#DejaVuSans-114\"/>\n     <use x=\"355.681641\" xlink:href=\"#DejaVuSans-111\"/>\n     <use x=\"416.863281\" xlink:href=\"#DejaVuSans-98\"/>\n     <use x=\"480.339844\" xlink:href=\"#DejaVuSans-97\"/>\n     <use x=\"541.619141\" xlink:href=\"#DejaVuSans-98\"/>\n     <use x=\"605.095703\" xlink:href=\"#DejaVuSans-105\"/>\n     <use x=\"632.878906\" xlink:href=\"#DejaVuSans-108\"/>\n     <use x=\"660.662109\" xlink:href=\"#DejaVuSans-105\"/>\n     <use x=\"688.445312\" xlink:href=\"#DejaVuSans-116\"/>\n     <use x=\"727.654297\" xlink:href=\"#DejaVuSans-121\"/>\n     <use x=\"786.833984\" xlink:href=\"#DejaVuSans-32\"/>\n     <use x=\"818.621094\" xlink:href=\"#DejaVuSans-112\"/>\n     <use x=\"882.097656\" xlink:href=\"#DejaVuSans-40\"/>\n     <use x=\"921.111328\" xlink:href=\"#DejaVuSans-88\"/>\n     <use x=\"989.617188\" xlink:href=\"#DejaVuSans-44\"/>\n     <use x=\"1021.404297\" xlink:href=\"#DejaVuSans-89\"/>\n     <use x=\"1082.488281\" xlink:href=\"#DejaVuSans-61\"/>\n     <use x=\"1166.277344\" xlink:href=\"#DejaVuSans-50\"/>\n     <use x=\"1229.900391\" xlink:href=\"#DejaVuSans-41\"/>\n    </g>\n   </g>\n  </g>\n </g>\n <defs>\n  <clipPath id=\"pfd99a536e0\">\n   <rect height=\"111.6\" width=\"334.8\" x=\"34.240625\" y=\"22.318125\"/>\n  </clipPath>\n </defs>\n</svg>\n",
      "text/plain": [
       "<Figure size 432x288 with 1 Axes>"
      ]
     },
     "metadata": {
      "needs_background": "light"
     },
     "output_type": "display_data"
    }
   ],
   "source": [
    "plt.imshow([freq[1]], interpolation='nearest', cmap=plt.cm.Wistia)\n",
    "X_values = ['0','1','$\\geq2$']\n",
    "Y_values = ['2']\n",
    "plt.ylabel('Y (# bedrooms)')\n",
    "plt.xlabel('X (# children)') \n",
    "plt.title('joint probability p(X,Y=2)') \n",
    "plt.xticks(np.arange(len(X_values)), X_values, rotation=45)\n",
    "plt.yticks(np.arange(len(Y_values)), Y_values)\n",
    "for i in range(len(X_values)):\n",
    "    for j in range(len(Y_values)):\n",
    "        plt.text(i,j, str([freq[1]][j][i]))\n",
    "plt.show()"
   ]
  },
  {
   "cell_type": "markdown",
   "metadata": {},
   "source": [
    "To define a valid probability function we need to normalize this function to 1, therefore by dividing by the sum of all the entries: $p(X=0, Y=2) + p(X=1, Y=2) + p(X\\geq2, Y=2) = p(Y=2)$.\n",
    "In this way we define a new probability function, called conditional probability of $X$ given $Y$ and indicated by $p(X|Y)$:\n",
    "\n",
    "$$p(X|Y) = \\frac{p(X,Y)}{p(Y)}$$\n"
   ]
  },
  {
   "cell_type": "code",
   "execution_count": 16,
   "metadata": {},
   "outputs": [
    {
     "data": {
      "image/png": "[encoded data removed]",
      "image/svg+xml": "<?xml version=\"1.0\" encoding=\"utf-8\" standalone=\"no\"?>\n<!DOCTYPE svg PUBLIC \"-//W3C//DTD SVG 1.1//EN\"\n  \"http://www.w3.org/Graphics/SVG/1.1/DTD/svg11.dtd\">\n<!-- Created with matplotlib (https://matplotlib.org/) -->\n<svg height=\"181.915115pt\" version=\"1.1\" viewBox=\"0 0 376.240625 181.915115\" width=\"376.240625pt\" xmlns=\"http://www.w3.org/2000/svg\" xmlns:xlink=\"http://www.w3.org/1999/xlink\">\n <defs>\n  <style type=\"text/css\">\n*{stroke-linecap:butt;stroke-linejoin:round;}\n  </style>\n </defs>\n <g id=\"figure_1\">\n  <g id=\"patch_1\">\n   <path d=\"M 0 181.915115 \nL 376.240625 181.915115 \nL 376.240625 0 \nL 0 0 \nz\n\" style=\"fill:none;\"/>\n  </g>\n  <g id=\"axes_1\">\n   <g id=\"patch_2\">\n    <path d=\"M 34.240625 133.970625 \nL 369.040625 133.970625 \nL 369.040625 22.370625 \nL 34.240625 22.370625 \nz\n\" style=\"fill:#ffffff;\"/>\n   </g>\n   <g clip-path=\"url(#paeaf4dfe1d)\">\n    <image height=\"112\" id=\"image796785fbea\" transform=\"scale(1 -1)translate(0 -112)\" width=\"335\" x=\"34.240625\" xlink:href=\"data:image/png;base64,\niVBORw0KGgoAAAANSUhEUgAAAU8AAABwCAYAAACelvI+AAAABHNCSVQICAgIfAhkiAAAAaNJREFUeJzt1DENg1AAAFFAAhZxwdQJF/gjOOhEPVyHH5L3FNx08/3dnonXWo9zdALR9dlHJ/CHZXQAwBuZJ0BgngCBeQIE5gkQmCdAYJ4AgXkCBOYJEJgnQGCeAIF5AgTmCRCYJ0BgngCBeQIE5gkQmCdAYJ4AgXkCBOYJEJgnQGCeAIF5AgTmCRCYJ0BgngCBeQIE5gkQmCdAYJ4AgXkCBOYJEJgnQGCeAIF5AgTmCRCYJ0BgngCBeQIE5gkQmCdAYJ4AgXkCBOYJEJgnQGCeAIF5AgTmCRCYJ0BgngCBeQIE5gkQmCdAYJ4AgXkCBOYJEJgnQGCeAIF5AgTmCRCYJ0BgngCBeQIE5gkQmCdAYJ4AgXkCBOYJEJgnQGCeAIF5AgTmCRCYJ0BgngCBeQIE5gkQmCdAYJ4AgXkCBOYJEJgnQGCeAIF5AgTmCRCYJ0BgngCBeQIE5gkQmCdAYJ4AgXkCBOYJEJgnQGCeAIF5AgTmCRCYJ0BgngCBeQIE5gkQmCdAYJ4AgXkCBOYJEJgnQGCeAIF5AgTmCRCYJ0BgngDBDx2+BzxcrYycAAAAAElFTkSuQmCC\" y=\"-21.970625\"/>\n   </g>\n   <g id=\"matplotlib.axis_1\">\n    <g id=\"xtick_1\">\n     <g id=\"line2d_1\">\n      <defs>\n       <path d=\"M 0 0 \nL 0 3.5 \n\" id=\"m2084c43663\" style=\"stroke:#000000;stroke-width:0.8;\"/>\n      </defs>\n      <g>\n       <use style=\"stroke:#000000;stroke-width:0.8;\" x=\"90.040625\" xlink:href=\"#m2084c43663\" y=\"133.970625\"/>\n      </g>\n     </g>\n     <g id=\"text_1\">\n      <!-- 0 -->\n      <defs>\n       <path d=\"M 31.78125 66.40625 \nQ 24.171875 66.40625 20.328125 58.90625 \nQ 16.5 51.421875 16.5 36.375 \nQ 16.5 21.390625 20.328125 13.890625 \nQ 24.171875 6.390625 31.78125 6.390625 \nQ 39.453125 6.390625 43.28125 13.890625 \nQ 47.125 21.390625 47.125 36.375 \nQ 47.125 51.421875 43.28125 58.90625 \nQ 39.453125 66.40625 31.78125 66.40625 \nz\nM 31.78125 74.21875 \nQ 44.046875 74.21875 50.515625 64.515625 \nQ 56.984375 54.828125 56.984375 36.375 \nQ 56.984375 17.96875 50.515625 8.265625 \nQ 44.046875 -1.421875 31.78125 -1.421875 \nQ 19.53125 -1.421875 13.0625 8.265625 \nQ 6.59375 17.96875 6.59375 36.375 \nQ 6.59375 54.828125 13.0625 64.515625 \nQ 19.53125 74.21875 31.78125 74.21875 \nz\n\" id=\"DejaVuSans-48\"/>\n      </defs>\n      <g transform=\"translate(89.742314 150.842499)rotate(-45)scale(0.1 -0.1)\">\n       <use xlink:href=\"#DejaVuSans-48\"/>\n      </g>\n     </g>\n    </g>\n    <g id=\"xtick_2\">\n     <g id=\"line2d_2\">\n      <g>\n       <use style=\"stroke:#000000;stroke-width:0.8;\" x=\"201.640625\" xlink:href=\"#m2084c43663\" y=\"133.970625\"/>\n      </g>\n     </g>\n     <g id=\"text_2\">\n      <!-- 1 -->\n      <defs>\n       <path d=\"M 12.40625 8.296875 \nL 28.515625 8.296875 \nL 28.515625 63.921875 \nL 10.984375 60.40625 \nL 10.984375 69.390625 \nL 28.421875 72.90625 \nL 38.28125 72.90625 \nL 38.28125 8.296875 \nL 54.390625 8.296875 \nL 54.390625 0 \nL 12.40625 0 \nz\n\" id=\"DejaVuSans-49\"/>\n      </defs>\n      <g transform=\"translate(201.342314 150.842499)rotate(-45)scale(0.1 -0.1)\">\n       <use xlink:href=\"#DejaVuSans-49\"/>\n      </g>\n     </g>\n    </g>\n    <g id=\"xtick_3\">\n     <g id=\"line2d_3\">\n      <g>\n       <use style=\"stroke:#000000;stroke-width:0.8;\" x=\"313.240625\" xlink:href=\"#m2084c43663\" y=\"133.970625\"/>\n      </g>\n     </g>\n     <g id=\"text_3\">\n      <!-- $\\geq2$ -->\n      <defs>\n       <path d=\"M 10.59375 49.609375 \nL 10.59375 58.203125 \nL 73.1875 40.28125 \nL 73.1875 31.984375 \nL 10.59375 14.015625 \nL 10.59375 22.703125 \nL 57.515625 36.078125 \nz\nM 73.1875 8.296875 \nL 73.1875 0 \nL 10.59375 0 \nL 10.59375 8.296875 \nz\n\" id=\"DejaVuSans-8805\"/>\n       <path d=\"M 19.1875 8.296875 \nL 53.609375 8.296875 \nL 53.609375 0 \nL 7.328125 0 \nL 7.328125 8.296875 \nQ 12.9375 14.109375 22.625 23.890625 \nQ 32.328125 33.6875 34.8125 36.53125 \nQ 39.546875 41.84375 41.421875 45.53125 \nQ 43.3125 49.21875 43.3125 52.78125 \nQ 43.3125 58.59375 39.234375 62.25 \nQ 35.15625 65.921875 28.609375 65.921875 \nQ 23.96875 65.921875 18.8125 64.3125 \nQ 13.671875 62.703125 7.8125 59.421875 \nL 7.8125 69.390625 \nQ 13.765625 71.78125 18.9375 73 \nQ 24.125 74.21875 28.421875 74.21875 \nQ 39.75 74.21875 46.484375 68.546875 \nQ 53.21875 62.890625 53.21875 53.421875 \nQ 53.21875 48.921875 51.53125 44.890625 \nQ 49.859375 40.875 45.40625 35.40625 \nQ 44.1875 33.984375 37.640625 27.21875 \nQ 31.109375 20.453125 19.1875 8.296875 \nz\n\" id=\"DejaVuSans-50\"/>\n      </defs>\n      <g transform=\"translate(308.580349 159.566428)rotate(-45)scale(0.1 -0.1)\">\n       <use transform=\"translate(19.482422 0.78125)\" xlink:href=\"#DejaVuSans-8805\"/>\n       <use transform=\"translate(122.753906 0.78125)\" xlink:href=\"#DejaVuSans-50\"/>\n      </g>\n     </g>\n    </g>\n    <g id=\"text_4\">\n     <!-- X (# children) -->\n     <defs>\n      <path d=\"M 6.296875 72.90625 \nL 16.890625 72.90625 \nL 35.015625 45.796875 \nL 53.21875 72.90625 \nL 63.8125 72.90625 \nL 40.375 37.890625 \nL 65.375 0 \nL 54.78125 0 \nL 34.28125 31 \nL 13.625 0 \nL 2.984375 0 \nL 29 38.921875 \nz\n\" id=\"DejaVuSans-88\"/>\n      <path id=\"DejaVuSans-32\"/>\n      <path d=\"M 31 75.875 \nQ 24.46875 64.65625 21.28125 53.65625 \nQ 18.109375 42.671875 18.109375 31.390625 \nQ 18.109375 20.125 21.3125 9.0625 \nQ 24.515625 -2 31 -13.1875 \nL 23.1875 -13.1875 \nQ 15.875 -1.703125 12.234375 9.375 \nQ 8.59375 20.453125 8.59375 31.390625 \nQ 8.59375 42.28125 12.203125 53.3125 \nQ 15.828125 64.359375 23.1875 75.875 \nz\n\" id=\"DejaVuSans-40\"/>\n      <path d=\"M 51.125 44 \nL 36.921875 44 \nL 32.8125 27.6875 \nL 47.125 27.6875 \nz\nM 43.796875 71.78125 \nL 38.71875 51.515625 \nL 52.984375 51.515625 \nL 58.109375 71.78125 \nL 65.921875 71.78125 \nL 60.890625 51.515625 \nL 76.125 51.515625 \nL 76.125 44 \nL 58.984375 44 \nL 54.984375 27.6875 \nL 70.515625 27.6875 \nL 70.515625 20.21875 \nL 53.078125 20.21875 \nL 48 0 \nL 40.1875 0 \nL 45.21875 20.21875 \nL 30.90625 20.21875 \nL 25.875 0 \nL 18.015625 0 \nL 23.09375 20.21875 \nL 7.71875 20.21875 \nL 7.71875 27.6875 \nL 24.90625 27.6875 \nL 29 44 \nL 13.28125 44 \nL 13.28125 51.515625 \nL 30.90625 51.515625 \nL 35.890625 71.78125 \nz\n\" id=\"DejaVuSans-35\"/>\n      <path d=\"M 48.78125 52.59375 \nL 48.78125 44.1875 \nQ 44.96875 46.296875 41.140625 47.34375 \nQ 37.3125 48.390625 33.40625 48.390625 \nQ 24.65625 48.390625 19.8125 42.84375 \nQ 14.984375 37.3125 14.984375 27.296875 \nQ 14.984375 17.28125 19.8125 11.734375 \nQ 24.65625 6.203125 33.40625 6.203125 \nQ 37.3125 6.203125 41.140625 7.25 \nQ 44.96875 8.296875 48.78125 10.40625 \nL 48.78125 2.09375 \nQ 45.015625 0.34375 40.984375 -0.53125 \nQ 36.96875 -1.421875 32.421875 -1.421875 \nQ 20.0625 -1.421875 12.78125 6.34375 \nQ 5.515625 14.109375 5.515625 27.296875 \nQ 5.515625 40.671875 12.859375 48.328125 \nQ 20.21875 56 33.015625 56 \nQ 37.15625 56 41.109375 55.140625 \nQ 45.0625 54.296875 48.78125 52.59375 \nz\n\" id=\"DejaVuSans-99\"/>\n      <path d=\"M 54.890625 33.015625 \nL 54.890625 0 \nL 45.90625 0 \nL 45.90625 32.71875 \nQ 45.90625 40.484375 42.875 44.328125 \nQ 39.84375 48.1875 33.796875 48.1875 \nQ 26.515625 48.1875 22.3125 43.546875 \nQ 18.109375 38.921875 18.109375 30.90625 \nL 18.109375 0 \nL 9.078125 0 \nL 9.078125 75.984375 \nL 18.109375 75.984375 \nL 18.109375 46.1875 \nQ 21.34375 51.125 25.703125 53.5625 \nQ 30.078125 56 35.796875 56 \nQ 45.21875 56 50.046875 50.171875 \nQ 54.890625 44.34375 54.890625 33.015625 \nz\n\" id=\"DejaVuSans-104\"/>\n      <path d=\"M 9.421875 54.6875 \nL 18.40625 54.6875 \nL 18.40625 0 \nL 9.421875 0 \nz\nM 9.421875 75.984375 \nL 18.40625 75.984375 \nL 18.40625 64.59375 \nL 9.421875 64.59375 \nz\n\" id=\"DejaVuSans-105\"/>\n      <path d=\"M 9.421875 75.984375 \nL 18.40625 75.984375 \nL 18.40625 0 \nL 9.421875 0 \nz\n\" id=\"DejaVuSans-108\"/>\n      <path d=\"M 45.40625 46.390625 \nL 45.40625 75.984375 \nL 54.390625 75.984375 \nL 54.390625 0 \nL 45.40625 0 \nL 45.40625 8.203125 \nQ 42.578125 3.328125 38.25 0.953125 \nQ 33.9375 -1.421875 27.875 -1.421875 \nQ 17.96875 -1.421875 11.734375 6.484375 \nQ 5.515625 14.40625 5.515625 27.296875 \nQ 5.515625 40.1875 11.734375 48.09375 \nQ 17.96875 56 27.875 56 \nQ 33.9375 56 38.25 53.625 \nQ 42.578125 51.265625 45.40625 46.390625 \nz\nM 14.796875 27.296875 \nQ 14.796875 17.390625 18.875 11.75 \nQ 22.953125 6.109375 30.078125 6.109375 \nQ 37.203125 6.109375 41.296875 11.75 \nQ 45.40625 17.390625 45.40625 27.296875 \nQ 45.40625 37.203125 41.296875 42.84375 \nQ 37.203125 48.484375 30.078125 48.484375 \nQ 22.953125 48.484375 18.875 42.84375 \nQ 14.796875 37.203125 14.796875 27.296875 \nz\n\" id=\"DejaVuSans-100\"/>\n      <path d=\"M 41.109375 46.296875 \nQ 39.59375 47.171875 37.8125 47.578125 \nQ 36.03125 48 33.890625 48 \nQ 26.265625 48 22.1875 43.046875 \nQ 18.109375 38.09375 18.109375 28.8125 \nL 18.109375 0 \nL 9.078125 0 \nL 9.078125 54.6875 \nL 18.109375 54.6875 \nL 18.109375 46.1875 \nQ 20.953125 51.171875 25.484375 53.578125 \nQ 30.03125 56 36.53125 56 \nQ 37.453125 56 38.578125 55.875 \nQ 39.703125 55.765625 41.0625 55.515625 \nz\n\" id=\"DejaVuSans-114\"/>\n      <path d=\"M 56.203125 29.59375 \nL 56.203125 25.203125 \nL 14.890625 25.203125 \nQ 15.484375 15.921875 20.484375 11.0625 \nQ 25.484375 6.203125 34.421875 6.203125 \nQ 39.59375 6.203125 44.453125 7.46875 \nQ 49.3125 8.734375 54.109375 11.28125 \nL 54.109375 2.78125 \nQ 49.265625 0.734375 44.1875 -0.34375 \nQ 39.109375 -1.421875 33.890625 -1.421875 \nQ 20.796875 -1.421875 13.15625 6.1875 \nQ 5.515625 13.8125 5.515625 26.8125 \nQ 5.515625 40.234375 12.765625 48.109375 \nQ 20.015625 56 32.328125 56 \nQ 43.359375 56 49.78125 48.890625 \nQ 56.203125 41.796875 56.203125 29.59375 \nz\nM 47.21875 32.234375 \nQ 47.125 39.59375 43.09375 43.984375 \nQ 39.0625 48.390625 32.421875 48.390625 \nQ 24.90625 48.390625 20.390625 44.140625 \nQ 15.875 39.890625 15.1875 32.171875 \nz\n\" id=\"DejaVuSans-101\"/>\n      <path d=\"M 54.890625 33.015625 \nL 54.890625 0 \nL 45.90625 0 \nL 45.90625 32.71875 \nQ 45.90625 40.484375 42.875 44.328125 \nQ 39.84375 48.1875 33.796875 48.1875 \nQ 26.515625 48.1875 22.3125 43.546875 \nQ 18.109375 38.921875 18.109375 30.90625 \nL 18.109375 0 \nL 9.078125 0 \nL 9.078125 54.6875 \nL 18.109375 54.6875 \nL 18.109375 46.1875 \nQ 21.34375 51.125 25.703125 53.5625 \nQ 30.078125 56 35.796875 56 \nQ 45.21875 56 50.046875 50.171875 \nQ 54.890625 44.34375 54.890625 33.015625 \nz\n\" id=\"DejaVuSans-110\"/>\n      <path d=\"M 8.015625 75.875 \nL 15.828125 75.875 \nQ 23.140625 64.359375 26.78125 53.3125 \nQ 30.421875 42.28125 30.421875 31.390625 \nQ 30.421875 20.453125 26.78125 9.375 \nQ 23.140625 -1.703125 15.828125 -13.1875 \nL 8.015625 -13.1875 \nQ 14.5 -2 17.703125 9.0625 \nQ 20.90625 20.125 20.90625 31.390625 \nQ 20.90625 42.671875 17.703125 53.65625 \nQ 14.5 64.65625 8.015625 75.875 \nz\n\" id=\"DejaVuSans-41\"/>\n     </defs>\n     <g transform=\"translate(166.776563 172.635427)scale(0.1 -0.1)\">\n      <use xlink:href=\"#DejaVuSans-88\"/>\n      <use x=\"68.505859\" xlink:href=\"#DejaVuSans-32\"/>\n      <use x=\"100.292969\" xlink:href=\"#DejaVuSans-40\"/>\n      <use x=\"139.306641\" xlink:href=\"#DejaVuSans-35\"/>\n      <use x=\"223.095703\" xlink:href=\"#DejaVuSans-32\"/>\n      <use x=\"254.882812\" xlink:href=\"#DejaVuSans-99\"/>\n      <use x=\"309.863281\" xlink:href=\"#DejaVuSans-104\"/>\n      <use x=\"373.242188\" xlink:href=\"#DejaVuSans-105\"/>\n      <use x=\"401.025391\" xlink:href=\"#DejaVuSans-108\"/>\n      <use x=\"428.808594\" xlink:href=\"#DejaVuSans-100\"/>\n      <use x=\"492.285156\" xlink:href=\"#DejaVuSans-114\"/>\n      <use x=\"533.367188\" xlink:href=\"#DejaVuSans-101\"/>\n      <use x=\"594.890625\" xlink:href=\"#DejaVuSans-110\"/>\n      <use x=\"658.269531\" xlink:href=\"#DejaVuSans-41\"/>\n     </g>\n    </g>\n   </g>\n   <g id=\"matplotlib.axis_2\">\n    <g id=\"ytick_1\">\n     <g id=\"line2d_4\">\n      <defs>\n       <path d=\"M 0 0 \nL -3.5 0 \n\" id=\"m96d88f30f1\" style=\"stroke:#000000;stroke-width:0.8;\"/>\n      </defs>\n      <g>\n       <use style=\"stroke:#000000;stroke-width:0.8;\" x=\"34.240625\" xlink:href=\"#m96d88f30f1\" y=\"78.170625\"/>\n      </g>\n     </g>\n     <g id=\"text_5\">\n      <!-- 2 -->\n      <g transform=\"translate(20.878125 81.969844)scale(0.1 -0.1)\">\n       <use xlink:href=\"#DejaVuSans-50\"/>\n      </g>\n     </g>\n    </g>\n    <g id=\"text_6\">\n     <!-- Y (# bedrooms) -->\n     <defs>\n      <path d=\"M -0.203125 72.90625 \nL 10.40625 72.90625 \nL 30.609375 42.921875 \nL 50.6875 72.90625 \nL 61.28125 72.90625 \nL 35.5 34.71875 \nL 35.5 0 \nL 25.59375 0 \nL 25.59375 34.71875 \nz\n\" id=\"DejaVuSans-89\"/>\n      <path d=\"M 48.6875 27.296875 \nQ 48.6875 37.203125 44.609375 42.84375 \nQ 40.53125 48.484375 33.40625 48.484375 \nQ 26.265625 48.484375 22.1875 42.84375 \nQ 18.109375 37.203125 18.109375 27.296875 \nQ 18.109375 17.390625 22.1875 11.75 \nQ 26.265625 6.109375 33.40625 6.109375 \nQ 40.53125 6.109375 44.609375 11.75 \nQ 48.6875 17.390625 48.6875 27.296875 \nz\nM 18.109375 46.390625 \nQ 20.953125 51.265625 25.265625 53.625 \nQ 29.59375 56 35.59375 56 \nQ 45.5625 56 51.78125 48.09375 \nQ 58.015625 40.1875 58.015625 27.296875 \nQ 58.015625 14.40625 51.78125 6.484375 \nQ 45.5625 -1.421875 35.59375 -1.421875 \nQ 29.59375 -1.421875 25.265625 0.953125 \nQ 20.953125 3.328125 18.109375 8.203125 \nL 18.109375 0 \nL 9.078125 0 \nL 9.078125 75.984375 \nL 18.109375 75.984375 \nz\n\" id=\"DejaVuSans-98\"/>\n      <path d=\"M 30.609375 48.390625 \nQ 23.390625 48.390625 19.1875 42.75 \nQ 14.984375 37.109375 14.984375 27.296875 \nQ 14.984375 17.484375 19.15625 11.84375 \nQ 23.34375 6.203125 30.609375 6.203125 \nQ 37.796875 6.203125 41.984375 11.859375 \nQ 46.1875 17.53125 46.1875 27.296875 \nQ 46.1875 37.015625 41.984375 42.703125 \nQ 37.796875 48.390625 30.609375 48.390625 \nz\nM 30.609375 56 \nQ 42.328125 56 49.015625 48.375 \nQ 55.71875 40.765625 55.71875 27.296875 \nQ 55.71875 13.875 49.015625 6.21875 \nQ 42.328125 -1.421875 30.609375 -1.421875 \nQ 18.84375 -1.421875 12.171875 6.21875 \nQ 5.515625 13.875 5.515625 27.296875 \nQ 5.515625 40.765625 12.171875 48.375 \nQ 18.84375 56 30.609375 56 \nz\n\" id=\"DejaVuSans-111\"/>\n      <path d=\"M 52 44.1875 \nQ 55.375 50.25 60.0625 53.125 \nQ 64.75 56 71.09375 56 \nQ 79.640625 56 84.28125 50.015625 \nQ 88.921875 44.046875 88.921875 33.015625 \nL 88.921875 0 \nL 79.890625 0 \nL 79.890625 32.71875 \nQ 79.890625 40.578125 77.09375 44.375 \nQ 74.3125 48.1875 68.609375 48.1875 \nQ 61.625 48.1875 57.5625 43.546875 \nQ 53.515625 38.921875 53.515625 30.90625 \nL 53.515625 0 \nL 44.484375 0 \nL 44.484375 32.71875 \nQ 44.484375 40.625 41.703125 44.40625 \nQ 38.921875 48.1875 33.109375 48.1875 \nQ 26.21875 48.1875 22.15625 43.53125 \nQ 18.109375 38.875 18.109375 30.90625 \nL 18.109375 0 \nL 9.078125 0 \nL 9.078125 54.6875 \nL 18.109375 54.6875 \nL 18.109375 46.1875 \nQ 21.1875 51.21875 25.484375 53.609375 \nQ 29.78125 56 35.6875 56 \nQ 41.65625 56 45.828125 52.96875 \nQ 50 49.953125 52 44.1875 \nz\n\" id=\"DejaVuSans-109\"/>\n      <path d=\"M 44.28125 53.078125 \nL 44.28125 44.578125 \nQ 40.484375 46.53125 36.375 47.5 \nQ 32.28125 48.484375 27.875 48.484375 \nQ 21.1875 48.484375 17.84375 46.4375 \nQ 14.5 44.390625 14.5 40.28125 \nQ 14.5 37.15625 16.890625 35.375 \nQ 19.28125 33.59375 26.515625 31.984375 \nL 29.59375 31.296875 \nQ 39.15625 29.25 43.1875 25.515625 \nQ 47.21875 21.78125 47.21875 15.09375 \nQ 47.21875 7.46875 41.1875 3.015625 \nQ 35.15625 -1.421875 24.609375 -1.421875 \nQ 20.21875 -1.421875 15.453125 -0.5625 \nQ 10.6875 0.296875 5.421875 2 \nL 5.421875 11.28125 \nQ 10.40625 8.6875 15.234375 7.390625 \nQ 20.0625 6.109375 24.8125 6.109375 \nQ 31.15625 6.109375 34.5625 8.28125 \nQ 37.984375 10.453125 37.984375 14.40625 \nQ 37.984375 18.0625 35.515625 20.015625 \nQ 33.0625 21.96875 24.703125 23.78125 \nL 21.578125 24.515625 \nQ 13.234375 26.265625 9.515625 29.90625 \nQ 5.8125 33.546875 5.8125 39.890625 \nQ 5.8125 47.609375 11.28125 51.796875 \nQ 16.75 56 26.8125 56 \nQ 31.78125 56 36.171875 55.265625 \nQ 40.578125 54.546875 44.28125 53.078125 \nz\n\" id=\"DejaVuSans-115\"/>\n     </defs>\n     <g transform=\"translate(14.798437 117.566719)rotate(-90)scale(0.1 -0.1)\">\n      <use xlink:href=\"#DejaVuSans-89\"/>\n      <use x=\"61.083984\" xlink:href=\"#DejaVuSans-32\"/>\n      <use x=\"92.871094\" xlink:href=\"#DejaVuSans-40\"/>\n      <use x=\"131.884766\" xlink:href=\"#DejaVuSans-35\"/>\n      <use x=\"215.673828\" xlink:href=\"#DejaVuSans-32\"/>\n      <use x=\"247.460938\" xlink:href=\"#DejaVuSans-98\"/>\n      <use x=\"310.9375\" xlink:href=\"#DejaVuSans-101\"/>\n      <use x=\"372.460938\" xlink:href=\"#DejaVuSans-100\"/>\n      <use x=\"435.9375\" xlink:href=\"#DejaVuSans-114\"/>\n      <use x=\"477.019531\" xlink:href=\"#DejaVuSans-111\"/>\n      <use x=\"538.201172\" xlink:href=\"#DejaVuSans-111\"/>\n      <use x=\"599.382812\" xlink:href=\"#DejaVuSans-109\"/>\n      <use x=\"696.794922\" xlink:href=\"#DejaVuSans-115\"/>\n      <use x=\"748.894531\" xlink:href=\"#DejaVuSans-41\"/>\n     </g>\n    </g>\n   </g>\n   <g id=\"patch_3\">\n    <path d=\"M 34.240625 133.970625 \nL 34.240625 22.370625 \n\" style=\"fill:none;stroke:#000000;stroke-linecap:square;stroke-linejoin:miter;stroke-width:0.8;\"/>\n   </g>\n   <g id=\"patch_4\">\n    <path d=\"M 369.040625 133.970625 \nL 369.040625 22.370625 \n\" style=\"fill:none;stroke:#000000;stroke-linecap:square;stroke-linejoin:miter;stroke-width:0.8;\"/>\n   </g>\n   <g id=\"patch_5\">\n    <path d=\"M 34.240625 133.970625 \nL 369.040625 133.970625 \n\" style=\"fill:none;stroke:#000000;stroke-linecap:square;stroke-linejoin:miter;stroke-width:0.8;\"/>\n   </g>\n   <g id=\"patch_6\">\n    <path d=\"M 34.240625 22.370625 \nL 369.040625 22.370625 \n\" style=\"fill:none;stroke:#000000;stroke-linecap:square;stroke-linejoin:miter;stroke-width:0.8;\"/>\n   </g>\n   <g id=\"text_7\">\n    <!-- 0.21 -->\n    <defs>\n     <path d=\"M 10.6875 12.40625 \nL 21 12.40625 \nL 21 0 \nL 10.6875 0 \nz\n\" id=\"DejaVuSans-46\"/>\n    </defs>\n    <g transform=\"translate(90.040625 78.170625)scale(0.1 -0.1)\">\n     <use xlink:href=\"#DejaVuSans-48\"/>\n     <use x=\"63.623047\" xlink:href=\"#DejaVuSans-46\"/>\n     <use x=\"95.410156\" xlink:href=\"#DejaVuSans-50\"/>\n     <use x=\"159.033203\" xlink:href=\"#DejaVuSans-49\"/>\n    </g>\n   </g>\n   <g id=\"text_8\">\n    <!-- 0.60 -->\n    <defs>\n     <path d=\"M 33.015625 40.375 \nQ 26.375 40.375 22.484375 35.828125 \nQ 18.609375 31.296875 18.609375 23.390625 \nQ 18.609375 15.53125 22.484375 10.953125 \nQ 26.375 6.390625 33.015625 6.390625 \nQ 39.65625 6.390625 43.53125 10.953125 \nQ 47.40625 15.53125 47.40625 23.390625 \nQ 47.40625 31.296875 43.53125 35.828125 \nQ 39.65625 40.375 33.015625 40.375 \nz\nM 52.59375 71.296875 \nL 52.59375 62.3125 \nQ 48.875 64.0625 45.09375 64.984375 \nQ 41.3125 65.921875 37.59375 65.921875 \nQ 27.828125 65.921875 22.671875 59.328125 \nQ 17.53125 52.734375 16.796875 39.40625 \nQ 19.671875 43.65625 24.015625 45.921875 \nQ 28.375 48.1875 33.59375 48.1875 \nQ 44.578125 48.1875 50.953125 41.515625 \nQ 57.328125 34.859375 57.328125 23.390625 \nQ 57.328125 12.15625 50.6875 5.359375 \nQ 44.046875 -1.421875 33.015625 -1.421875 \nQ 20.359375 -1.421875 13.671875 8.265625 \nQ 6.984375 17.96875 6.984375 36.375 \nQ 6.984375 53.65625 15.1875 63.9375 \nQ 23.390625 74.21875 37.203125 74.21875 \nQ 40.921875 74.21875 44.703125 73.484375 \nQ 48.484375 72.75 52.59375 71.296875 \nz\n\" id=\"DejaVuSans-54\"/>\n    </defs>\n    <g transform=\"translate(201.640625 78.170625)scale(0.1 -0.1)\">\n     <use xlink:href=\"#DejaVuSans-48\"/>\n     <use x=\"63.623047\" xlink:href=\"#DejaVuSans-46\"/>\n     <use x=\"95.410156\" xlink:href=\"#DejaVuSans-54\"/>\n     <use x=\"159.033203\" xlink:href=\"#DejaVuSans-48\"/>\n    </g>\n   </g>\n   <g id=\"text_9\">\n    <!-- 0.19 -->\n    <defs>\n     <path d=\"M 10.984375 1.515625 \nL 10.984375 10.5 \nQ 14.703125 8.734375 18.5 7.8125 \nQ 22.3125 6.890625 25.984375 6.890625 \nQ 35.75 6.890625 40.890625 13.453125 \nQ 46.046875 20.015625 46.78125 33.40625 \nQ 43.953125 29.203125 39.59375 26.953125 \nQ 35.25 24.703125 29.984375 24.703125 \nQ 19.046875 24.703125 12.671875 31.3125 \nQ 6.296875 37.9375 6.296875 49.421875 \nQ 6.296875 60.640625 12.9375 67.421875 \nQ 19.578125 74.21875 30.609375 74.21875 \nQ 43.265625 74.21875 49.921875 64.515625 \nQ 56.59375 54.828125 56.59375 36.375 \nQ 56.59375 19.140625 48.40625 8.859375 \nQ 40.234375 -1.421875 26.421875 -1.421875 \nQ 22.703125 -1.421875 18.890625 -0.6875 \nQ 15.09375 0.046875 10.984375 1.515625 \nz\nM 30.609375 32.421875 \nQ 37.25 32.421875 41.125 36.953125 \nQ 45.015625 41.5 45.015625 49.421875 \nQ 45.015625 57.28125 41.125 61.84375 \nQ 37.25 66.40625 30.609375 66.40625 \nQ 23.96875 66.40625 20.09375 61.84375 \nQ 16.21875 57.28125 16.21875 49.421875 \nQ 16.21875 41.5 20.09375 36.953125 \nQ 23.96875 32.421875 30.609375 32.421875 \nz\n\" id=\"DejaVuSans-57\"/>\n    </defs>\n    <g transform=\"translate(313.240625 78.170625)scale(0.1 -0.1)\">\n     <use xlink:href=\"#DejaVuSans-48\"/>\n     <use x=\"63.623047\" xlink:href=\"#DejaVuSans-46\"/>\n     <use x=\"95.410156\" xlink:href=\"#DejaVuSans-49\"/>\n     <use x=\"159.033203\" xlink:href=\"#DejaVuSans-57\"/>\n    </g>\n   </g>\n   <g id=\"text_10\">\n    <!-- conditional probability p(X|Y=2) -->\n    <defs>\n     <path d=\"M 18.3125 70.21875 \nL 18.3125 54.6875 \nL 36.8125 54.6875 \nL 36.8125 47.703125 \nL 18.3125 47.703125 \nL 18.3125 18.015625 \nQ 18.3125 11.328125 20.140625 9.421875 \nQ 21.96875 7.515625 27.59375 7.515625 \nL 36.8125 7.515625 \nL 36.8125 0 \nL 27.59375 0 \nQ 17.1875 0 13.234375 3.875 \nQ 9.28125 7.765625 9.28125 18.015625 \nL 9.28125 47.703125 \nL 2.6875 47.703125 \nL 2.6875 54.6875 \nL 9.28125 54.6875 \nL 9.28125 70.21875 \nz\n\" id=\"DejaVuSans-116\"/>\n     <path d=\"M 34.28125 27.484375 \nQ 23.390625 27.484375 19.1875 25 \nQ 14.984375 22.515625 14.984375 16.5 \nQ 14.984375 11.71875 18.140625 8.90625 \nQ 21.296875 6.109375 26.703125 6.109375 \nQ 34.1875 6.109375 38.703125 11.40625 \nQ 43.21875 16.703125 43.21875 25.484375 \nL 43.21875 27.484375 \nz\nM 52.203125 31.203125 \nL 52.203125 0 \nL 43.21875 0 \nL 43.21875 8.296875 \nQ 40.140625 3.328125 35.546875 0.953125 \nQ 30.953125 -1.421875 24.3125 -1.421875 \nQ 15.921875 -1.421875 10.953125 3.296875 \nQ 6 8.015625 6 15.921875 \nQ 6 25.140625 12.171875 29.828125 \nQ 18.359375 34.515625 30.609375 34.515625 \nL 43.21875 34.515625 \nL 43.21875 35.40625 \nQ 43.21875 41.609375 39.140625 45 \nQ 35.0625 48.390625 27.6875 48.390625 \nQ 23 48.390625 18.546875 47.265625 \nQ 14.109375 46.140625 10.015625 43.890625 \nL 10.015625 52.203125 \nQ 14.9375 54.109375 19.578125 55.046875 \nQ 24.21875 56 28.609375 56 \nQ 40.484375 56 46.34375 49.84375 \nQ 52.203125 43.703125 52.203125 31.203125 \nz\n\" id=\"DejaVuSans-97\"/>\n     <path d=\"M 18.109375 8.203125 \nL 18.109375 -20.796875 \nL 9.078125 -20.796875 \nL 9.078125 54.6875 \nL 18.109375 54.6875 \nL 18.109375 46.390625 \nQ 20.953125 51.265625 25.265625 53.625 \nQ 29.59375 56 35.59375 56 \nQ 45.5625 56 51.78125 48.09375 \nQ 58.015625 40.1875 58.015625 27.296875 \nQ 58.015625 14.40625 51.78125 6.484375 \nQ 45.5625 -1.421875 35.59375 -1.421875 \nQ 29.59375 -1.421875 25.265625 0.953125 \nQ 20.953125 3.328125 18.109375 8.203125 \nz\nM 48.6875 27.296875 \nQ 48.6875 37.203125 44.609375 42.84375 \nQ 40.53125 48.484375 33.40625 48.484375 \nQ 26.265625 48.484375 22.1875 42.84375 \nQ 18.109375 37.203125 18.109375 27.296875 \nQ 18.109375 17.390625 22.1875 11.75 \nQ 26.265625 6.109375 33.40625 6.109375 \nQ 40.53125 6.109375 44.609375 11.75 \nQ 48.6875 17.390625 48.6875 27.296875 \nz\n\" id=\"DejaVuSans-112\"/>\n     <path d=\"M 32.171875 -5.078125 \nQ 28.375 -14.84375 24.75 -17.8125 \nQ 21.140625 -20.796875 15.09375 -20.796875 \nL 7.90625 -20.796875 \nL 7.90625 -13.28125 \nL 13.1875 -13.28125 \nQ 16.890625 -13.28125 18.9375 -11.515625 \nQ 21 -9.765625 23.484375 -3.21875 \nL 25.09375 0.875 \nL 2.984375 54.6875 \nL 12.5 54.6875 \nL 29.59375 11.921875 \nL 46.6875 54.6875 \nL 56.203125 54.6875 \nz\n\" id=\"DejaVuSans-121\"/>\n     <path d=\"M 21 76.421875 \nL 21 -23.578125 \nL 12.703125 -23.578125 \nL 12.703125 76.421875 \nz\n\" id=\"DejaVuSans-124\"/>\n     <path d=\"M 10.59375 45.40625 \nL 73.1875 45.40625 \nL 73.1875 37.203125 \nL 10.59375 37.203125 \nz\nM 10.59375 25.484375 \nL 73.1875 25.484375 \nL 73.1875 17.1875 \nL 10.59375 17.1875 \nz\n\" id=\"DejaVuSans-61\"/>\n    </defs>\n    <g transform=\"translate(105.465313 16.370625)scale(0.12 -0.12)\">\n     <use xlink:href=\"#DejaVuSans-99\"/>\n     <use x=\"54.980469\" xlink:href=\"#DejaVuSans-111\"/>\n     <use x=\"116.162109\" xlink:href=\"#DejaVuSans-110\"/>\n     <use x=\"179.541016\" xlink:href=\"#DejaVuSans-100\"/>\n     <use x=\"243.017578\" xlink:href=\"#DejaVuSans-105\"/>\n     <use x=\"270.800781\" xlink:href=\"#DejaVuSans-116\"/>\n     <use x=\"310.009766\" xlink:href=\"#DejaVuSans-105\"/>\n     <use x=\"337.792969\" xlink:href=\"#DejaVuSans-111\"/>\n     <use x=\"398.974609\" xlink:href=\"#DejaVuSans-110\"/>\n     <use x=\"462.353516\" xlink:href=\"#DejaVuSans-97\"/>\n     <use x=\"523.632812\" xlink:href=\"#DejaVuSans-108\"/>\n     <use x=\"551.416016\" xlink:href=\"#DejaVuSans-32\"/>\n     <use x=\"583.203125\" xlink:href=\"#DejaVuSans-112\"/>\n     <use x=\"646.679688\" xlink:href=\"#DejaVuSans-114\"/>\n     <use x=\"687.761719\" xlink:href=\"#DejaVuSans-111\"/>\n     <use x=\"748.943359\" xlink:href=\"#DejaVuSans-98\"/>\n     <use x=\"812.419922\" xlink:href=\"#DejaVuSans-97\"/>\n     <use x=\"873.699219\" xlink:href=\"#DejaVuSans-98\"/>\n     <use x=\"937.175781\" xlink:href=\"#DejaVuSans-105\"/>\n     <use x=\"964.958984\" xlink:href=\"#DejaVuSans-108\"/>\n     <use x=\"992.742188\" xlink:href=\"#DejaVuSans-105\"/>\n     <use x=\"1020.525391\" xlink:href=\"#DejaVuSans-116\"/>\n     <use x=\"1059.734375\" xlink:href=\"#DejaVuSans-121\"/>\n     <use x=\"1118.914062\" xlink:href=\"#DejaVuSans-32\"/>\n     <use x=\"1150.701172\" xlink:href=\"#DejaVuSans-112\"/>\n     <use x=\"1214.177734\" xlink:href=\"#DejaVuSans-40\"/>\n     <use x=\"1253.191406\" xlink:href=\"#DejaVuSans-88\"/>\n     <use x=\"1321.697266\" xlink:href=\"#DejaVuSans-124\"/>\n     <use x=\"1355.388672\" xlink:href=\"#DejaVuSans-89\"/>\n     <use x=\"1416.472656\" xlink:href=\"#DejaVuSans-61\"/>\n     <use x=\"1500.261719\" xlink:href=\"#DejaVuSans-50\"/>\n     <use x=\"1563.884766\" xlink:href=\"#DejaVuSans-41\"/>\n    </g>\n   </g>\n  </g>\n </g>\n <defs>\n  <clipPath id=\"paeaf4dfe1d\">\n   <rect height=\"111.6\" width=\"334.8\" x=\"34.240625\" y=\"22.370625\"/>\n  </clipPath>\n </defs>\n</svg>\n",
      "text/plain": [
       "<Figure size 432x288 with 1 Axes>"
      ]
     },
     "metadata": {
      "needs_background": "light"
     },
     "output_type": "display_data"
    }
   ],
   "source": [
    "plt.imshow([freq[1]], interpolation='nearest', cmap=plt.cm.Wistia)\n",
    "X_values = ['0','1','$\\geq2$']\n",
    "Y_values = ['2']\n",
    "plt.ylabel('Y (# bedrooms)')\n",
    "plt.xlabel('X (# children)') \n",
    "plt.title('conditional probability p(X|Y=2)') \n",
    "plt.xticks(np.arange(len(X_values)), X_values, rotation=45)\n",
    "plt.yticks(np.arange(len(Y_values)), Y_values)\n",
    "for i in range(len(X_values)):\n",
    "    for j in range(len(Y_values)):\n",
    "        plt.text(i,j, \"{:.2f}\".format([freq[1]][j][i]/np.sum(freq[1])))\n",
    "plt.show()"
   ]
  },
  {
   "cell_type": "markdown",
   "metadata": {},
   "source": [
    "**Exercise.** In the game of throwing two dice, compute the probability that the sum of the outcomes is 7, given that one die was 2.\n",
    "\n",
    "Let $X = \\{\\text{sum is 7}\\}$, and $Y = \\{\\text{one die is 2}\\}$. When throwing the dice we have 36 configurations.\n",
    "The probability that at least one die is 2 is $p(Y) = \\frac{11}{36}$, while the probability of having sum 7 **and** that one die is 2 is $p(X,Y) = \\frac{2}{36}$. By applying the rule, we obtain $p(X|Y) = \\frac{2}{36}/\\frac{11}{36} = \\frac{2}{11}$.\n"
   ]
  },
  {
   "cell_type": "markdown",
   "metadata": {},
   "source": [
    "## Independent Random variables\n",
    "In case of **independent variables**, conditioning a variable on another leaves the probability of the variable unchanged:\n",
    "\n",
    "$$p(X|Y)=\\frac{p(X,Y)}{p(Y)} = \\frac{p(X)p(Y)}{p(Y)} = p(X)$$"
   ]
  },
  {
   "cell_type": "markdown",
   "metadata": {},
   "source": [
    "# Expectation and Variance\n",
    "\n",
    "Fundamental quantities associated to a random variable $X$ are the mean $\\mathbf{E}(X)$ and variance $Var(X)$.\n",
    "We recall their definition for discrete variables:\n",
    "\n",
    "$$\\mathbf{E}(X) = \\sum_X p(X) X; $$ \n",
    "\n",
    "$$Var(X) = \\mathbf{E}((X - \\mathbf{E}(X))^2).$$\n",
    "\n",
    "The expectation is a linear operator, which means that:\n",
    "\n",
    "- $\\mathbf{E}(kX) = k \\mathbf{E}(X)$, for constant $k$;\n",
    "- $\\mathbf{E}(X + Y) = \\mathbf{E}(X) + \\mathbf{E}(Y)$, for random variables $X$ and $Y$;\n",
    "\n",
    "\n",
    "\n"
   ]
  },
  {
   "cell_type": "markdown",
   "metadata": {},
   "source": [
    "**Exercise.** Prove the linearity of the expectation.\n",
    "\\begin{align}\n",
    "\\mathbf{E}(kX) = \\sum_X (kX) p(X) = k \\sum_X Xp(X) = k\\mathbf{E}(X)\n",
    "\\end{align}\n",
    "\n",
    "\\begin{align}\n",
    "\\mathbf{E}(X+Y) &= \\sum_X\\sum_Y (X+Y) p(X,Y) \\\\\n",
    "& = \\sum_X\\sum_Y X p(X,Y) + \\sum_X\\sum_Y Y p(X,Y)\\\\\n",
    "& = \\sum_X X \\sum_Y  p(X,Y) + \\sum_Y Y \\sum_X  p(X,Y)\\\\\n",
    "& = \\sum_X X p(X) + \\sum_Y Y p(Y)\\\\\n",
    "& = \\mathbf{E}(X) + \\mathbf{E}(Y)\n",
    "\\end{align}"
   ]
  },
  {
   "cell_type": "markdown",
   "metadata": {},
   "source": [
    "Thanks to the linearity properties of the Expectation, the Variance can be reformulated as:\n",
    "\n",
    "$$Var(X) = \\mathbf{E}(X^2) - \\mathbf{E}(X)^2$$\n",
    "\n",
    "The proof is straighforward:\n",
    "\n",
    "\\begin{align}\n",
    "Var(X) &= \\mathbf{E}((X-\\mathbf{E}(X))^2) = \\mathbf{E}(X^2-2X\\mathbf{E}(X) + \\mathbf{E}(X)^2) \\\\\n",
    "&= \\mathbf{E}(X^2) - 2\\mathbf{E}(X)\\mathbf{E}(X) + \\mathbf{E}(X)^2 \\\\\n",
    "&= \\mathbf{E}(X^2) - \\mathbf{E}(X)^2\n",
    "\\end{align}"
   ]
  },
  {
   "cell_type": "markdown",
   "metadata": {},
   "source": [
    "**Exercise.** Consider the random variables $X$ and $Y$ with following joint distribution:"
   ]
  },
  {
   "cell_type": "code",
   "execution_count": 3,
   "metadata": {},
   "outputs": [
    {
     "data": {
      "image/png": "[encoded data removed]",
      "text/plain": [
       "<Figure size 432x288 with 1 Axes>"
      ]
     },
     "metadata": {
      "needs_background": "light"
     },
     "output_type": "display_data"
    }
   ],
   "source": [
    "prob = np.array([[0.1,0.1,0.0],[0.2,0.1,0.1],[0.0,0.2,0.2]])\n",
    "\n",
    "plt.clf()\n",
    "plt.imshow(prob, interpolation='nearest', cmap=plt.cm.Wistia)\n",
    "X = [0,1,2]\n",
    "Y = [1,2,4]\n",
    "plt.ylabel('Y')\n",
    "plt.xlabel('X') \n",
    "plt.title('p(X,Y)') \n",
    "plt.xticks(np.arange(len(X)), X, rotation=45)\n",
    "plt.yticks(np.arange(len(Y)), Y)\n",
    "for i in range(len(X)):\n",
    "    for j in range(len(Y)):\n",
    "        plt.text(j,i, str(prob[i][j]))\n",
    "plt.show()"
   ]
  },
  {
   "cell_type": "markdown",
   "metadata": {},
   "source": [
    "Compute:\n",
    "\n",
    "- $p(X)$\n",
    "- $p(Y)$\n",
    "- $\\mathbf{E}(X)$\n",
    "- $\\mathbf{E}(Y)$\n",
    "- $p(X|Y=4)$\n",
    "- $p(Y|X=2)$\n"
   ]
  },
  {
   "cell_type": "code",
   "execution_count": 5,
   "metadata": {},
   "outputs": [
    {
     "name": "stdout",
     "output_type": "stream",
     "text": [
      "p(X) =  [0.3 0.4 0.3]\n",
      "p(Y) =  [0.2 0.4 0.4]\n",
      "E(X) =  1.0\n",
      "E(Y) =  2.6\n",
      "p(X|Y=4) =  [0.  0.5 0.5]\n",
      "p(Y|X=2) =  [0.         0.33333333 0.66666667]\n"
     ]
    }
   ],
   "source": [
    "p_X = np.sum(prob,0)\n",
    "p_Y = np.sum(prob,1)\n",
    "\n",
    "E_X = np.sum([p_X[i] * X[i] for i in range(len(p_X))])\n",
    "E_Y = np.sum([p_Y[i] * Y[i] for i in range(len(p_Y))])\n",
    "\n",
    "p_X_given_Y4 = prob[2,:]/p_Y[2]\n",
    "p_Y_given_X2 = prob[:,2]/p_X[2]\n",
    "\n",
    "print('p(X) = ', p_X)\n",
    "print('p(Y) = ', p_Y)\n",
    "\n",
    "print('E(X) = ', E_X)\n",
    "print('E(Y) = ', E_Y)\n",
    "\n",
    "print('p(X|Y=4) = ', p_X_given_Y4)\n",
    "print('p(Y|X=2) = ', p_Y_given_X2)\n"
   ]
  },
  {
   "cell_type": "markdown",
   "metadata": {},
   "source": [
    "**Exercise.** The variables $X$ and $Y$ are independent and with following probability masses:\n",
    "\n",
    "$$p(X=1) = 0.2 \\qquad p(X=2) = 0.2 \\qquad p(X=3) = 0.6$$\n",
    "$$p(Y=0) = 0.4 \\qquad p(Y=1) = 0.3 \\qquad p(Y=2) = 0.3$$\n",
    "\n",
    "Compute $\\mathbf{E}(X)$, $\\mathbf{E}(Y)$, $\\mathbf{E}(X + Y)$, and $\\mathbf{E}(XY)$."
   ]
  },
  {
   "cell_type": "code",
   "execution_count": 18,
   "metadata": {
    "tags": []
   },
   "outputs": [
    {
     "name": "stdout",
     "output_type": "stream",
     "text": [
      "The joint probability of the independent variables X and Y is: \n",
      " [[0.08 0.06 0.06]\n",
      " [0.08 0.06 0.06]\n",
      " [0.24 0.18 0.18]]\n",
      "The expectation of XY is:  2.16\n",
      "The expectation of X+Y is:  3.3  (linearity formula)\n",
      "The expectation of X+Y is:  3.3  (definition of expectation)\n"
     ]
    }
   ],
   "source": [
    "X = np.array([1,2,3])\n",
    "p_X = np.array([0.2,0.2,0.6])\n",
    "\n",
    "Y = np.array([0,1,2])\n",
    "p_Y = np.array([0.4,0.3,0.3])\n",
    "\n",
    "E_X = np.sum(X*p_X)\n",
    "E_Y = np.sum(Y*p_Y)\n",
    "\n",
    "E_X_plus_Y = E_X + E_Y\n",
    "\n",
    "# computing the joint probability p(X,Y)\n",
    "# Since the variables are independent we p(X,Y) = p(X)p(Y)\n",
    "\n",
    "p_XY = np.zeros([len(X),len(Y)])\n",
    "for i in range(len(X)):\n",
    "    for j in range(len(Y)):\n",
    "        p_XY[i,j] = p_X[i] * p_Y[j]\n",
    "\n",
    "print('The joint probability of the independent variables X and Y is: \\n', p_XY)\n",
    "\n",
    "#Computing X_times_Y\n",
    "XY = np.zeros([len(X),len(Y)])\n",
    "for i in range(len(X)):\n",
    "    for j in range(len(Y)):\n",
    "        XY[i,j] = X[i] * Y[j]\n",
    "\n",
    "#Computing the expectation of X_times_Y\n",
    "E_XY = np.sum(p_XY*XY)\n",
    "print ('The expectation of XY is: ', E_XY)\n",
    "\n",
    "#We also verify the linearity of the expectation\n",
    "X_plus_Y = np.zeros([len(X),len(Y)])\n",
    "for i in range(len(X)):\n",
    "    for j in range(len(Y)):\n",
    "        X_plus_Y[i,j] = X[i] + Y[j]\n",
    "\n",
    "E_X_plus_Y_verify = np.sum(p_XY*X_plus_Y)        \n",
    "\n",
    "print ('The expectation of X+Y is: ', E_X_plus_Y, ' (linearity formula)')\n",
    "print ('The expectation of X+Y is: ', E_X_plus_Y_verify, ' (definition of expectation)')\n",
    "        "
   ]
  },
  {
   "cell_type": "markdown",
   "metadata": {},
   "source": [
    "# From discrete to continous variables\n",
    "\n",
    "When working with continunos random variables, the concept seen so far naturally translates with the difference that the sum over finite cases transforms into an *integral* over the domain of interest. \n",
    "Here an overview of the basic notions:\n",
    "\n",
    "- marginal: $p(X) = \\int_Y p(X,Y) dY$;\n",
    "- expectation: $\\mathbf{E}(X) = \\int_X X p(X) dX$;\n",
    "- variance: $Var(X) = \\int_X (X-\\mathbf{E}(X))^2 p(X)dX$\n",
    "\n"
   ]
  },
  {
   "cell_type": "markdown",
   "metadata": {},
   "source": [
    "**Exercise.** Let the joint probability density function of $X$ and $Y$ be:\n",
    "\n",
    "$$ p(X,Y) = 8XY,\\, X,Y\\in A\\subset\\mathrm{R}^2, $$\n",
    "\n",
    "and let $A$ be the region bounded by the line $X=1$ and the line $X=Y$, and such that $X>0$ and $Y>0$.\n",
    "\n",
    "- Verify that p(X,Y) is a valid probability density function"
   ]
  },
  {
   "cell_type": "markdown",
   "metadata": {},
   "source": [
    "We require that $\\int_{X,Y}p(X,Y)dX,dY = \\int_{0\\leq X \\leq 1}\\int_{0\\leq Y \\leq X} p(X,Y) dX,dY = 1$. \n",
    "Doing some maths we obtain:\n",
    "\n",
    "\\begin{align}\n",
    "\\int_{X,Y}p(X,Y)dX,dY &= 8 \\int_{0\\leq X \\leq 1} X \\frac{X^2}{2} dX,dY\\\\\n",
    "&= 4 \\frac{X^4}{4}\\rvert_{0}^{1} = 1\n",
    "\\end{align}\n"
   ]
  },
  {
   "cell_type": "markdown",
   "metadata": {},
   "source": [
    "- Compute $p(0.5<X<1,0<Y <0.5)$.\n",
    "\n",
    "\\begin{align}\n",
    "p(0.5<X<1,0<Y <0.5) &= \\int_{0.5}^{1}\\int_{0}^{0.5} 8XY dXdY \\\\\n",
    "&= 8 \\int_{0.5}^1 X \\frac{0.5^2}{2} dX \\\\=\n",
    "& =  (\\frac{1}{2} - \\frac{0.5^2}{2}) =  \\frac{3}{8} \n",
    "\\end{align}\n",
    "\n",
    "- Compute $\\mathbf{E}(X)$.\n",
    "\n",
    "We first need to compute $p(X)$ by marginalizing with repect to $Y$:\n",
    "\n",
    "$$p(X) = \\int_{0}^Xp(X,Y) dY = 4 X^3$$\n",
    "\n",
    "We can now compute the expectation:\n",
    "\n",
    "\\begin{align}\n",
    "\\mathbf{E}(X) &= \\int_{0}^{1}Xp(X)dX \\\\\n",
    "&= 4 \\int_{0}^{1}X^4dX = \\frac{4}{5}\n",
    "\\end{align}"
   ]
  },
  {
   "cell_type": "markdown",
   "metadata": {},
   "source": [
    "- Compute $p(Y|X)$, and verify that it is a valid probability function.\n",
    "\n",
    "From the formula for the conditional distribution we have:\n",
    "\n",
    "$$p(Y|X) = \\frac{p(X,Y)}{p(X)} = 2\\frac{XY}{X^3} = 2YX^{-2}$$\n",
    "\n",
    "We now verify that $\\int p(Y|X) dY= 1$:\n",
    "\n",
    "$$\\int_0^X 2YX^{-2}dY = 2 \\frac{X^2}{2}X^{-2} = 1$$\n"
   ]
  },
  {
   "cell_type": "markdown",
   "metadata": {},
   "source": [
    "# Conditional Expectation and Variance\n",
    "\n",
    "The conditional Expectation is the expectation of the conditional distribution $p(X|Y)$.\n",
    "\n",
    "$$\\mathbf{E}(X|Y) = \\sum_X X p(X|Y)\\qquad\\text(discrete)$$\n",
    "$$\\mathbf{E}(X|Y) = \\int_X X p(X|Y) dX\\qquad\\text(continuous)$$\n",
    "\n",
    "Similarly we have:\n",
    "\n",
    "$$Var(X|Y) = \\sum_X (X - \\mathbf{E}(X|Y))^2 p(X|Y)\\qquad\\text(discrete)$$\n",
    "and \n",
    "$$Var(X|Y) = \\int_X (X - \\mathbf{E}(X|Y))^2 p(X|Y)dX\\qquad\\text(continuous)$$"
   ]
  },
  {
   "cell_type": "markdown",
   "metadata": {},
   "source": [
    "**Exercise.**\n",
    "Suppose $p(X,Y) = X+Y$, in the domain $0<X<1$, $0<Y<1$.\n",
    "- Compute p(Y|X =0.5)\n",
    "\n",
    "$$p(X) = \\int_0^1 X+Y dY = \\frac{1}{2} + X$$\n",
    "$$p(Y|X) = p(X,Y)/p(X) = \\frac{X+Y}{X+\\frac{1}{2}}$$\n",
    "$$p(Y|X=0.5) = 0.5 + Y$$\n",
    "\n",
    "Let's verify that this probability function is well defined:\n",
    "\n",
    "$$\\int_0^1p(Y|X=\\frac{1}{2}) = \\frac{1}{2}+ \\int_{0}^1pYdY  = \\frac{1}{2} + \\frac{1}{2} = 1$$ \n"
   ]
  },
  {
   "cell_type": "markdown",
   "metadata": {},
   "source": [
    "- Compute $\\mathbf{E}(Y|X=\\frac{1}{2})$\n",
    "\n",
    "\\begin{align} \n",
    "\\mathbf{E}(Y|X=\\frac{1}{2}) &= \\int_0^1 Y (\\frac{1}{2} + Y) dY =  \\\\\n",
    "&= \\frac{1}{2} \\int_0^1 Y dY + \\int_0^1 Y^2 = \\frac{1}{4} + \\frac{1}{3} = \\frac{7}{12}\n",
    "\\end{align}"
   ]
  },
  {
   "cell_type": "markdown",
   "metadata": {},
   "source": [
    "# Conditional distribution and Bayes' Theorem\n",
    "\n",
    "The conditional distribution is symmetric with respect to the variables $X$ and $Y$. In particular, we have:\n",
    "\n",
    "$$ p(X,Y) = p(X|Y) p(Y) = p(Y|X) p(X).$$\n",
    "\n",
    "We can therefore derive  **Bayes' theorem**, the fundamental relationship at the basis of Bayesian Learning:\n",
    "\n",
    "$$ p(X|Y) = \\frac{p(Y|X)p(X)}{p(Y)}$$\n",
    "\n",
    "In Bayes theorem, the conditional probability term  $p(Y|X)$  is called *likelihood*, while the term $p(X)$ is called *prior*. In particular, the prior encodes our knowledge about $X$ independently from the $Y$, while the likelihood expresses our model for $Y$ once the variable $X$ is known. In the following lessons, we will see that the likelihood term will enable to link data to model parameters. \n",
    "As we have seen before, the denominator term $p(Y)$ is a normalizing constant. It can be found by marginalization: $p(Y) = \\sum_X p(X,Y) = \\sum_X p(Y|X)p(X)$, for discrete variables, and $p(Y) = \\int_X p(X,Y) dx = \\int_X p(Y|X)p(X) dX$, for continuous ones. \n"
   ]
  },
  {
   "cell_type": "markdown",
   "metadata": {},
   "source": [
    "**Exercise.**\n",
    "\n",
    "A diagnostic test has a probability $0.95$ of giving a positive result when applied to a person suffering from a certain disease, and a probability $0.10$ of giving a (false) positive when applied to a non-sufferer. It is estimated that $0.5\\%$ of the population are sufferers. Suppose that the test is now administered to a person about whom we have no relevant information relating to the disease (apart from the fact that he/she comes from this population). Calculate the following probabilities:\n",
    "- that the test result will be positive;\n",
    "- that, given a positive result, the person is a sufferer;\n",
    "- that, given a negative result, the person is a non-sufferer;\n",
    "- that the person will be misclassified."
   ]
  },
  {
   "cell_type": "markdown",
   "metadata": {},
   "source": [
    "Let T = “Test positive”, S = “Sufferer”. Then p(T|S) = 0.95, p(T|S') = 0.10, p(S) = 0.005. Hence\n",
    "- $p(T) = p(T |S)p(S) + P(T|S')P(S') = (0.95 × 0.005) + (0.1 × 0.995) = 0.10425. $\n",
    "- $p(S|T ) = p(T |S)p(S)/p(T) = (0.95 × 0.005) / 0.10425 = 0.045$\n",
    "- $p(S'|T') = p(T' |S')p(S')/p(T') = (1-p(T |S'))(1-p(S))/(1-p(T)) = 0.90 * 0.995 / 0.89575 = 0.9997209$\n",
    "- $p(M) = p(T', S) + p(T,S')  = p(T′|S)p(S) + p(T|S′)p(S′) = (1-p(T|S)) p(S) + p(T|S')(1-p(S)) = 0.05 * 0.005 + 0.1 * 0.995 = 0.09975$\n",
    "\n"
   ]
  },
  {
   "cell_type": "markdown",
   "metadata": {},
   "source": [
    "**Exercise. (the Monty Hall problem)** \n",
    "Assume that a room is equipped with three doors. Behind two are goats, and behind the third is a shiny new car. You are asked to pick a door, and will win whatever is behind it. Let's say you pick door 1. Before the door is opened, however, the presenter who knows what's behind the doors  opens one of the other two doors, revealing a goat. The presenter then asks you if you wish to change your selection to the third door (i.e., the door which neither you picked nor he opened). The Monty Hall problem is deciding what you are going to do. (This is a famous example of logical thinking, and can be found for example in https://en.wikipedia.org/wiki/Monty_Hall_problem)"
   ]
  },
  {
   "cell_type": "markdown",
   "metadata": {},
   "source": [
    "We have here 3 doors (1,2, and 3), and we selected the door number 1. Let's say that the door that was open is number 2. \n",
    "We have here 2 choices, *change* to door 3, or *stay* in door 1. \n",
    "We ultimately need to compute the probability of winning under the different strategies $p(1 = car | open 2)$ (stay), and $p(1 = goat | open 2)$ (change). "
   ]
  },
  {
   "cell_type": "markdown",
   "metadata": {},
   "source": [
    "We apply the Bayes rule: \n",
    "    \n",
    "$$p(\\text{car behind 1}| \\text{open 2 after choice}) = \\frac{p( \\text{open 2 after choice}| \\text{car behind 1} ) p(\\text{car behind 1})}{p(\\text{open 2 after choice})}$$\n",
    "\n",
    "Before the game starts, without any knowledge, we have that  $p(\\text{car behind 1}) = p(\\text{car behind 2}) = p(\\text{car behind 3}) = \\frac{1}{3}$.\n",
    "After we make the choice, the choice of the presenter, (event $\\text{open 2 after choice}$) depends on the choice we made. If the car is behind door 1, and thus we are right, the presenter has two possibilities for his choice $p(\\text{open 2 after choice}| \\text{car behind 1}) = \\frac{1}{2}$. \n",
    "\n",
    "We now assume that however the car is not beyond door 1, and thus our choice is wrong. If the car is behind door 2, the presenter cannot open that door, thus $p(\\text{open 2 after choice}| \\text{car behind 2}) = 0$. If the car is behind door 3, the presenter will be forced to open door 2:  $p(\\text{open 2 after choice}| \\text{car behind 3}) = 1$. \n",
    "\n",
    "\n",
    "We therefore have \n",
    "\\begin{align}\n",
    "p(\\text{open 2 after choice}) &= \\sum_{door} p(\\text{open 2 after choice} , \\text{car behind door} ) \\\\\n",
    "&= \\sum_{door} p(\\text{open 2 after choice} | \\text{car behind door} ) p(\\text{car behind door} )\\\\\n",
    "&= p(\\text{open 2 after choice} | \\text{car behind 1} ) p(\\text{car behind 1} ) \\\\\n",
    "&+ p(\\text{open 2 after choice} | \\text{car behind 2} ) p(\\text{car behind 2} ) \\\\\n",
    "&+ p(\\text{open 2 after choice} | \\text{car behind 3} ) p(\\text{car behind 3} ) \\\\\n",
    "&= \\frac{1}{2} \\frac{1}{3} + 0 \\frac{1}{3} + 1 \\frac{1}{3} =  \\frac{1}{3} = \\frac{1}{2}\n",
    "\\end{align}\n",
    "\n",
    "Substituting in the Bayes rule we have:\n",
    "\n",
    "$$p(\\text{car behind 1}| \\text{open 2 after choice}) = \\frac{\\frac{1}{2}\\frac{1}{3}}{\\frac{1}{2}} = \\frac{1}{3}.$$\n",
    "\n",
    "We also have\n",
    "\n",
    "$$p(\\text{car behind 3}| \\text{open 2 after choice}) = \\frac{1\\frac{1}{3}}{\\frac{1}{2}} = \\frac{2}{3}.$$\n",
    "\n",
    "Therefore it is convenient to change the door (!).\n"
   ]
  },
  {
   "cell_type": "markdown",
   "metadata": {},
   "source": [
    "*Remark.* For those following the course on model selection, this problem involves the computation of the *Bayes factor* between the models $p(\\text{car behind 1}| \\text{open 2 after choice})$ and $p(\\text{car behind 3}| \\text{open 2 after choice})$."
   ]
  }
 ],
 "metadata": {
  "kernelspec": {
   "display_name": "Python 3.9.14 64-bit",
   "language": "python",
   "name": "python3"
  },
  "language_info": {
   "codemirror_mode": {
    "name": "ipython",
    "version": 3
   },
   "file_extension": ".py",
   "mimetype": "text/x-python",
   "name": "python",
   "nbconvert_exporter": "python",
   "pygments_lexer": "ipython3",
   "version": "3.9.14"
  },
  "vscode": {
   "interpreter": {
    "hash": "36cf16204b8548560b1c020c4e8fb5b57f0e4c58016f52f2d4be01e192833930"
   }
  }
 },
 "nbformat": 4,
 "nbformat_minor": 4
}

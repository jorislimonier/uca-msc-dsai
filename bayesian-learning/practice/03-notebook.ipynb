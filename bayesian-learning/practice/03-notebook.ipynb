{
 "cells": [
  {
   "cell_type": "markdown",
   "metadata": {},
   "source": [
    "# Inference in Bayesian models: theory and practice"
   ]
  },
  {
   "cell_type": "markdown",
   "metadata": {},
   "source": [
    "In this lesson we introduce some of the main models used in Bayesian inference, and we explore different approaches to inference in Bayesian methods."
   ]
  },
  {
   "cell_type": "markdown",
   "metadata": {},
   "source": [
    "## Binomial model"
   ]
  },
  {
   "cell_type": "markdown",
   "metadata": {},
   "source": [
    "The binomial model is one of the most classical and important models in stastistical and Bayesian inference. \n",
    "It relates to a binary outcome that can take values $1$ or $0$. This kind of outcome arises from many type of observations around us (e.g. female or male, success or failure, diseased or healty, ...).\n",
    "\n",
    "An important assumption behind the Binomial model, and many other models we'll see later, is about *exchangeability* of the obsevations. Basically, if we have a series of outcomes $y_1,y_2,\\ldots,y_n$, we hypothesize that their value is independent from the order in which we observe them. This implies that the outcomes are independent, and the fact of observing a success for $y_k$ does not tell us anything about the outcome $y_{k+1}$, or $y_{k-1}$:\n",
    "\n",
    "$$p(y_1,y_2,\\ldots,y_n) = p(y_1)p(y_2)\\ldots p(y_n)$$\n",
    "\n",
    "In a Binomial model, the parameter $\\theta$ indicates the probability of a sucess. Therefore, an observation will take value $1$ with probability $\\theta$, and $0$, with probability $1-\\theta$. For example, the probability of observing $n$ successes among $n$ observations will be \n",
    "\\begin{align}\n",
    "p(y_1 = 1, y_2 = 1,\\ldots,y_n = 1|\\theta) &= p(y_1 = 1|\\theta)p(y_2 = 1|\\theta)\\ldots p(y_n =1|\\theta) \\\\\n",
    "&= \\theta \\theta\\cdots \\theta = \\theta^n\n",
    "\\end{align}\n",
    "\n",
    "In general, the binomial sampling model is \n",
    "\n",
    "$$ p(y|n, \\theta) = {{n}\\choose{y}} \\theta^y(1-\\theta)^{n-y} .$$\n",
    "\n",
    "In what follows the constant $n$ is omitted. Recalling the Bayes theorem\n",
    "\n",
    "$$ p( \\theta | y) \\propto  p( y|\\theta) p(\\theta),$$\n",
    "\n",
    "we need to choose a proper prior model for $\\theta$. In this first application, let's consider a uniform model $p(\\theta) = U([0,1])$. In this kind of model, the pdf of $\\theta$ is constant in the interval $[0,1]$. \n",
    "Therefore, the posterior for $\\theta$ is as simple as:\n",
    "\n",
    "$$ p(\\theta|y) \\propto \\theta^y(1-\\theta)^{n-y} .$$"
   ]
  },
  {
   "cell_type": "code",
   "execution_count": 9,
   "metadata": {},
   "outputs": [
    {
     "data": {
      "image/png": "[encoded data removed]",
      "text/plain": [
       "<Figure size 432x288 with 1 Axes>"
      ]
     },
     "metadata": {
      "needs_background": "light"
     },
     "output_type": "display_data"
    }
   ],
   "source": [
    "import numpy as np\n",
    "import matplotlib.pyplot as plt\n",
    "import pandas as pd\n",
    "import plotly.express as px\n",
    "%matplotlib inline\n",
    "\n",
    "theta = np.arange(0,1,.01)\n",
    "\n",
    "n = 40\n",
    "y = 10\n",
    "\n",
    "post_theta = theta**y * (1-theta)**(n-y)\n",
    "plt.plot(theta,post_theta)\n",
    "plt.title('Posterior for Binomial model')\n",
    "plt.ylabel(r'p($\\theta$|y)')\n",
    "plt.xlabel(r'$\\theta$')\n",
    "plt.show()"
   ]
  },
  {
   "cell_type": "code",
   "execution_count": 26,
   "metadata": {},
   "outputs": [
    {
     "name": "stderr",
     "output_type": "stream",
     "text": [
      "/home/joris/.local/lib/python3.9/site-packages/plotly/graph_objs/_deprecations.py:378: DeprecationWarning:\n",
      "\n",
      "plotly.graph_objs.Line is deprecated.\n",
      "Please replace it with one of the following more specific types\n",
      "  - plotly.graph_objs.scatter.Line\n",
      "  - plotly.graph_objs.layout.shape.Line\n",
      "  - etc.\n",
      "\n",
      "\n"
     ]
    },
    {
     "data": {
      "application/vnd.plotly.v1+json": {
       "config": {
        "plotlyServerURL": "https://plot.ly"
       },
       "data": [
        {
         "type": "scatter",
         "x": [
          0,
          0.01,
          0.02,
          0.03,
          0.04,
          0.05,
          0.06,
          0.07,
          0.08,
          0.09,
          0.1,
          0.11,
          0.12,
          0.13,
          0.14,
          0.15,
          0.16,
          0.17,
          0.18,
          0.19,
          0.2,
          0.21,
          0.22,
          0.23,
          0.24,
          0.25,
          0.26,
          0.27,
          0.28,
          0.29,
          0.3,
          0.31,
          0.32,
          0.33,
          0.34,
          0.35000000000000003,
          0.36,
          0.37,
          0.38,
          0.39,
          0.4,
          0.41000000000000003,
          0.42,
          0.43,
          0.44,
          0.45,
          0.46,
          0.47000000000000003,
          0.48,
          0.49,
          0.5,
          0.51,
          0.52,
          0.53,
          0.54,
          0.55,
          0.56,
          0.5700000000000001,
          0.58,
          0.59,
          0.6,
          0.61,
          0.62,
          0.63,
          0.64,
          0.65,
          0.66,
          0.67,
          0.68,
          0.6900000000000001,
          0.7000000000000001,
          0.71,
          0.72,
          0.73,
          0.74,
          0.75,
          0.76,
          0.77,
          0.78,
          0.79,
          0.8,
          0.81,
          0.8200000000000001,
          0.8300000000000001,
          0.84,
          0.85,
          0.86,
          0.87,
          0.88,
          0.89,
          0.9,
          0.91,
          0.92,
          0.93,
          0.9400000000000001,
          0.9500000000000001,
          0.96,
          0.97,
          0.98,
          0.99
         ],
         "y": [
          0,
          4.343280213528511e-11,
          3.2797764182258486e-8,
          0.0000013903578290380113,
          0.000018092513943330638,
          0.00012307510460221518,
          0.0005547663663432843,
          0.0018803161157110858,
          0.005167692957569843,
          0.012090071675194854,
          0.024890710561890777,
          0.046173103081004696,
          0.07853344275607758,
          0.12410038052259731,
          0.18407546473728945,
          0.2583701715177384,
          0.3454143848954473,
          0.4421748086930528,
          0.5443805926616385,
          0.6469170350409857,
          0.7443232378563044,
          0.831318982884609,
          0.903289372129135,
          0.9566699375416825,
          0.9891956481556807,
          1,
          0.9895712817026497,
          0.9595894326937784,
          0.9126772347363392,
          0.8521037019403925,
          0.7814762056031725,
          0.7044524306953733,
          0.6244953024822347,
          0.5446850951502211,
          0.46759434280708195,
          0.39522385898383594,
          0.32899268272548726,
          0.269771294436312,
          0.2179458795074218,
          0.17350145937010625,
          0.13611294676837532,
          0.10523517509375266,
          0.08018529335545958,
          0.06021327338796147,
          0.044558399871505484,
          0.032491355810228065,
          0.023342809352127177,
          0.016520252423930883,
          0.011515285085679715,
          0.007903657184091188,
          0.005340257332066881,
          0.003550963214713665,
          0.0023229109924142862,
          0.001494364168515369,
          0.0009450059875529572,
          0.0005871706238980134,
          0.0003582800087725874,
          0.000214567645512348,
          0.00012604355945378015,
          0.00007257680231136892,
          0.00004093306406603835,
          0.000022594283432453022,
          0.000012195140411203707,
          0.000006430122223794294,
          0.0000033085429313844443,
          0.0000016593458307397346,
          8.101564206401372e-7,
          3.845282353074765e-7,
          1.7715380639500062e-7,
          7.908675090486376e-8,
          3.4149162191816946e-8,
          1.4232639057034381e-8,
          5.712522400878276e-9,
          2.2024372185456917e-9,
          8.133540770335812e-10,
          2.8679719907924413e-10,
          9.621331661653335e-11,
          3.058470836956247e-11,
          9.170403878932876e-12,
          2.5799528344103602e-12,
          6.769580412367742e-13,
          1.6452057886377215e-13,
          3.6734631571639684e-14,
          7.464669373518909e-15,
          1.3650682068351483e-15,
          2.2166087350691762e-16,
          3.144760633623581e-17,
          3.8216869287066645e-18,
          3.8817370647048504e-19,
          3.1947923271251686e-20,
          2.0473264909052167e-21,
          9.692843884212774e-23,
          3.1574748118664405e-24,
          6.405200037147729e-26,
          6.991623912185617e-28,
          3.274147153660836e-30,
          4.500637990111025e-33,
          8.914910670100769e-37,
          5.1513687418628936e-42,
          5.310237649148572e-51
         ]
        },
        {
         "type": "scatter",
         "x": [
          0,
          0.01,
          0.02,
          0.03,
          0.04,
          0.05,
          0.06,
          0.07,
          0.08,
          0.09,
          0.1,
          0.11,
          0.12,
          0.13,
          0.14,
          0.15,
          0.16,
          0.17,
          0.18,
          0.19,
          0.2,
          0.21,
          0.22,
          0.23,
          0.24,
          0.25,
          0.26,
          0.27,
          0.28,
          0.29,
          0.3,
          0.31,
          0.32,
          0.33,
          0.34,
          0.35000000000000003,
          0.36,
          0.37,
          0.38,
          0.39,
          0.4,
          0.41000000000000003,
          0.42,
          0.43,
          0.44,
          0.45,
          0.46,
          0.47000000000000003,
          0.48,
          0.49,
          0.5,
          0.51,
          0.52,
          0.53,
          0.54,
          0.55,
          0.56,
          0.5700000000000001,
          0.58,
          0.59,
          0.6,
          0.61,
          0.62,
          0.63,
          0.64,
          0.65,
          0.66,
          0.67,
          0.68,
          0.6900000000000001,
          0.7000000000000001,
          0.71,
          0.72,
          0.73,
          0.74,
          0.75,
          0.76,
          0.77,
          0.78,
          0.79,
          0.8,
          0.81,
          0.8200000000000001,
          0.8300000000000001,
          0.84,
          0.85,
          0.86,
          0.87,
          0.88,
          0.89,
          0.9,
          0.91,
          0.92,
          0.93,
          0.9400000000000001,
          0.9500000000000001,
          0.96,
          0.97,
          0.98,
          0.99
         ],
         "y": [
          0,
          4.343280213528511e-11,
          3.2797764182258486e-8,
          0.0000013903578290380111,
          0.000018092513943330638,
          0.00012307510460221518,
          0.0005547663663432843,
          0.0018803161157110858,
          0.005167692957569843,
          0.012090071675194852,
          0.024890710561890773,
          0.04617310308100469,
          0.07853344275607758,
          0.1241003805225973,
          0.18407546473728942,
          0.25837017151773833,
          0.3454143848954473,
          0.4421748086930528,
          0.5443805926616384,
          0.6469170350409857,
          0.7443232378563043,
          0.8313189828846089,
          0.903289372129135,
          0.9566699375416824,
          0.9891956481556805,
          1,
          0.9895712817026496,
          0.9595894326937784,
          0.9126772347363392,
          0.8521037019403924,
          0.7814762056031724,
          0.7044524306953732,
          0.6244953024822346,
          0.544685095150221,
          0.46759434280708195,
          0.3952238589838359,
          0.3289926827254872,
          0.2697712944363119,
          0.2179458795074218,
          0.17350145937010625,
          0.1361129467683753,
          0.10523517509375264,
          0.08018529335545957,
          0.060213273387961466,
          0.04455839987150548,
          0.032491355810228065,
          0.023342809352127174,
          0.01652025242393088,
          0.011515285085679713,
          0.007903657184091188,
          0.00534025733206688,
          0.003550963214713665,
          0.0023229109924142862,
          0.001494364168515369,
          0.0009450059875529572,
          0.0005871706238980133,
          0.0003582800087725874,
          0.000214567645512348,
          0.00012604355945378015,
          0.00007257680231136892,
          0.00004093306406603835,
          0.00002259428343245302,
          0.000012195140411203707,
          0.000006430122223794293,
          0.0000033085429313844434,
          0.0000016593458307397342,
          8.101564206401371e-7,
          3.845282353074765e-7,
          1.771538063950006e-7,
          7.908675090486374e-8,
          3.4149162191816946e-8,
          1.4232639057034381e-8,
          5.712522400878275e-9,
          2.2024372185456917e-9,
          8.133540770335812e-10,
          2.867971990792441e-10,
          9.621331661653335e-11,
          3.058470836956247e-11,
          9.170403878932876e-12,
          2.5799528344103602e-12,
          6.769580412367742e-13,
          1.6452057886377212e-13,
          3.673463157163968e-14,
          7.464669373518909e-15,
          1.365068206835148e-15,
          2.2166087350691762e-16,
          3.144760633623581e-17,
          3.8216869287066645e-18,
          3.88173706470485e-19,
          3.194792327125168e-20,
          2.0473264909052163e-21,
          9.692843884212774e-23,
          3.1574748118664405e-24,
          6.405200037147729e-26,
          6.991623912185616e-28,
          3.274147153660835e-30,
          4.500637990111025e-33,
          8.914910670100769e-37,
          5.151368741862893e-42,
          5.310237649148572e-51
         ]
        }
       ],
       "layout": {
        "template": {
         "data": {
          "bar": [
           {
            "error_x": {
             "color": "#2a3f5f"
            },
            "error_y": {
             "color": "#2a3f5f"
            },
            "marker": {
             "line": {
              "color": "#E5ECF6",
              "width": 0.5
             },
             "pattern": {
              "fillmode": "overlay",
              "size": 10,
              "solidity": 0.2
             }
            },
            "type": "bar"
           }
          ],
          "barpolar": [
           {
            "marker": {
             "line": {
              "color": "#E5ECF6",
              "width": 0.5
             },
             "pattern": {
              "fillmode": "overlay",
              "size": 10,
              "solidity": 0.2
             }
            },
            "type": "barpolar"
           }
          ],
          "carpet": [
           {
            "aaxis": {
             "endlinecolor": "#2a3f5f",
             "gridcolor": "white",
             "linecolor": "white",
             "minorgridcolor": "white",
             "startlinecolor": "#2a3f5f"
            },
            "baxis": {
             "endlinecolor": "#2a3f5f",
             "gridcolor": "white",
             "linecolor": "white",
             "minorgridcolor": "white",
             "startlinecolor": "#2a3f5f"
            },
            "type": "carpet"
           }
          ],
          "choropleth": [
           {
            "colorbar": {
             "outlinewidth": 0,
             "ticks": ""
            },
            "type": "choropleth"
           }
          ],
          "contour": [
           {
            "colorbar": {
             "outlinewidth": 0,
             "ticks": ""
            },
            "colorscale": [
             [
              0,
              "#0d0887"
             ],
             [
              0.1111111111111111,
              "#46039f"
             ],
             [
              0.2222222222222222,
              "#7201a8"
             ],
             [
              0.3333333333333333,
              "#9c179e"
             ],
             [
              0.4444444444444444,
              "#bd3786"
             ],
             [
              0.5555555555555556,
              "#d8576b"
             ],
             [
              0.6666666666666666,
              "#ed7953"
             ],
             [
              0.7777777777777778,
              "#fb9f3a"
             ],
             [
              0.8888888888888888,
              "#fdca26"
             ],
             [
              1,
              "#f0f921"
             ]
            ],
            "type": "contour"
           }
          ],
          "contourcarpet": [
           {
            "colorbar": {
             "outlinewidth": 0,
             "ticks": ""
            },
            "type": "contourcarpet"
           }
          ],
          "heatmap": [
           {
            "colorbar": {
             "outlinewidth": 0,
             "ticks": ""
            },
            "colorscale": [
             [
              0,
              "#0d0887"
             ],
             [
              0.1111111111111111,
              "#46039f"
             ],
             [
              0.2222222222222222,
              "#7201a8"
             ],
             [
              0.3333333333333333,
              "#9c179e"
             ],
             [
              0.4444444444444444,
              "#bd3786"
             ],
             [
              0.5555555555555556,
              "#d8576b"
             ],
             [
              0.6666666666666666,
              "#ed7953"
             ],
             [
              0.7777777777777778,
              "#fb9f3a"
             ],
             [
              0.8888888888888888,
              "#fdca26"
             ],
             [
              1,
              "#f0f921"
             ]
            ],
            "type": "heatmap"
           }
          ],
          "heatmapgl": [
           {
            "colorbar": {
             "outlinewidth": 0,
             "ticks": ""
            },
            "colorscale": [
             [
              0,
              "#0d0887"
             ],
             [
              0.1111111111111111,
              "#46039f"
             ],
             [
              0.2222222222222222,
              "#7201a8"
             ],
             [
              0.3333333333333333,
              "#9c179e"
             ],
             [
              0.4444444444444444,
              "#bd3786"
             ],
             [
              0.5555555555555556,
              "#d8576b"
             ],
             [
              0.6666666666666666,
              "#ed7953"
             ],
             [
              0.7777777777777778,
              "#fb9f3a"
             ],
             [
              0.8888888888888888,
              "#fdca26"
             ],
             [
              1,
              "#f0f921"
             ]
            ],
            "type": "heatmapgl"
           }
          ],
          "histogram": [
           {
            "marker": {
             "pattern": {
              "fillmode": "overlay",
              "size": 10,
              "solidity": 0.2
             }
            },
            "type": "histogram"
           }
          ],
          "histogram2d": [
           {
            "colorbar": {
             "outlinewidth": 0,
             "ticks": ""
            },
            "colorscale": [
             [
              0,
              "#0d0887"
             ],
             [
              0.1111111111111111,
              "#46039f"
             ],
             [
              0.2222222222222222,
              "#7201a8"
             ],
             [
              0.3333333333333333,
              "#9c179e"
             ],
             [
              0.4444444444444444,
              "#bd3786"
             ],
             [
              0.5555555555555556,
              "#d8576b"
             ],
             [
              0.6666666666666666,
              "#ed7953"
             ],
             [
              0.7777777777777778,
              "#fb9f3a"
             ],
             [
              0.8888888888888888,
              "#fdca26"
             ],
             [
              1,
              "#f0f921"
             ]
            ],
            "type": "histogram2d"
           }
          ],
          "histogram2dcontour": [
           {
            "colorbar": {
             "outlinewidth": 0,
             "ticks": ""
            },
            "colorscale": [
             [
              0,
              "#0d0887"
             ],
             [
              0.1111111111111111,
              "#46039f"
             ],
             [
              0.2222222222222222,
              "#7201a8"
             ],
             [
              0.3333333333333333,
              "#9c179e"
             ],
             [
              0.4444444444444444,
              "#bd3786"
             ],
             [
              0.5555555555555556,
              "#d8576b"
             ],
             [
              0.6666666666666666,
              "#ed7953"
             ],
             [
              0.7777777777777778,
              "#fb9f3a"
             ],
             [
              0.8888888888888888,
              "#fdca26"
             ],
             [
              1,
              "#f0f921"
             ]
            ],
            "type": "histogram2dcontour"
           }
          ],
          "mesh3d": [
           {
            "colorbar": {
             "outlinewidth": 0,
             "ticks": ""
            },
            "type": "mesh3d"
           }
          ],
          "parcoords": [
           {
            "line": {
             "colorbar": {
              "outlinewidth": 0,
              "ticks": ""
             }
            },
            "type": "parcoords"
           }
          ],
          "pie": [
           {
            "automargin": true,
            "type": "pie"
           }
          ],
          "scatter": [
           {
            "fillpattern": {
             "fillmode": "overlay",
             "size": 10,
             "solidity": 0.2
            },
            "type": "scatter"
           }
          ],
          "scatter3d": [
           {
            "line": {
             "colorbar": {
              "outlinewidth": 0,
              "ticks": ""
             }
            },
            "marker": {
             "colorbar": {
              "outlinewidth": 0,
              "ticks": ""
             }
            },
            "type": "scatter3d"
           }
          ],
          "scattercarpet": [
           {
            "marker": {
             "colorbar": {
              "outlinewidth": 0,
              "ticks": ""
             }
            },
            "type": "scattercarpet"
           }
          ],
          "scattergeo": [
           {
            "marker": {
             "colorbar": {
              "outlinewidth": 0,
              "ticks": ""
             }
            },
            "type": "scattergeo"
           }
          ],
          "scattergl": [
           {
            "marker": {
             "colorbar": {
              "outlinewidth": 0,
              "ticks": ""
             }
            },
            "type": "scattergl"
           }
          ],
          "scattermapbox": [
           {
            "marker": {
             "colorbar": {
              "outlinewidth": 0,
              "ticks": ""
             }
            },
            "type": "scattermapbox"
           }
          ],
          "scatterpolar": [
           {
            "marker": {
             "colorbar": {
              "outlinewidth": 0,
              "ticks": ""
             }
            },
            "type": "scatterpolar"
           }
          ],
          "scatterpolargl": [
           {
            "marker": {
             "colorbar": {
              "outlinewidth": 0,
              "ticks": ""
             }
            },
            "type": "scatterpolargl"
           }
          ],
          "scatterternary": [
           {
            "marker": {
             "colorbar": {
              "outlinewidth": 0,
              "ticks": ""
             }
            },
            "type": "scatterternary"
           }
          ],
          "surface": [
           {
            "colorbar": {
             "outlinewidth": 0,
             "ticks": ""
            },
            "colorscale": [
             [
              0,
              "#0d0887"
             ],
             [
              0.1111111111111111,
              "#46039f"
             ],
             [
              0.2222222222222222,
              "#7201a8"
             ],
             [
              0.3333333333333333,
              "#9c179e"
             ],
             [
              0.4444444444444444,
              "#bd3786"
             ],
             [
              0.5555555555555556,
              "#d8576b"
             ],
             [
              0.6666666666666666,
              "#ed7953"
             ],
             [
              0.7777777777777778,
              "#fb9f3a"
             ],
             [
              0.8888888888888888,
              "#fdca26"
             ],
             [
              1,
              "#f0f921"
             ]
            ],
            "type": "surface"
           }
          ],
          "table": [
           {
            "cells": {
             "fill": {
              "color": "#EBF0F8"
             },
             "line": {
              "color": "white"
             }
            },
            "header": {
             "fill": {
              "color": "#C8D4E3"
             },
             "line": {
              "color": "white"
             }
            },
            "type": "table"
           }
          ]
         },
         "layout": {
          "annotationdefaults": {
           "arrowcolor": "#2a3f5f",
           "arrowhead": 0,
           "arrowwidth": 1
          },
          "autotypenumbers": "strict",
          "coloraxis": {
           "colorbar": {
            "outlinewidth": 0,
            "ticks": ""
           }
          },
          "colorscale": {
           "diverging": [
            [
             0,
             "#8e0152"
            ],
            [
             0.1,
             "#c51b7d"
            ],
            [
             0.2,
             "#de77ae"
            ],
            [
             0.3,
             "#f1b6da"
            ],
            [
             0.4,
             "#fde0ef"
            ],
            [
             0.5,
             "#f7f7f7"
            ],
            [
             0.6,
             "#e6f5d0"
            ],
            [
             0.7,
             "#b8e186"
            ],
            [
             0.8,
             "#7fbc41"
            ],
            [
             0.9,
             "#4d9221"
            ],
            [
             1,
             "#276419"
            ]
           ],
           "sequential": [
            [
             0,
             "#0d0887"
            ],
            [
             0.1111111111111111,
             "#46039f"
            ],
            [
             0.2222222222222222,
             "#7201a8"
            ],
            [
             0.3333333333333333,
             "#9c179e"
            ],
            [
             0.4444444444444444,
             "#bd3786"
            ],
            [
             0.5555555555555556,
             "#d8576b"
            ],
            [
             0.6666666666666666,
             "#ed7953"
            ],
            [
             0.7777777777777778,
             "#fb9f3a"
            ],
            [
             0.8888888888888888,
             "#fdca26"
            ],
            [
             1,
             "#f0f921"
            ]
           ],
           "sequentialminus": [
            [
             0,
             "#0d0887"
            ],
            [
             0.1111111111111111,
             "#46039f"
            ],
            [
             0.2222222222222222,
             "#7201a8"
            ],
            [
             0.3333333333333333,
             "#9c179e"
            ],
            [
             0.4444444444444444,
             "#bd3786"
            ],
            [
             0.5555555555555556,
             "#d8576b"
            ],
            [
             0.6666666666666666,
             "#ed7953"
            ],
            [
             0.7777777777777778,
             "#fb9f3a"
            ],
            [
             0.8888888888888888,
             "#fdca26"
            ],
            [
             1,
             "#f0f921"
            ]
           ]
          },
          "colorway": [
           "#636efa",
           "#EF553B",
           "#00cc96",
           "#ab63fa",
           "#FFA15A",
           "#19d3f3",
           "#FF6692",
           "#B6E880",
           "#FF97FF",
           "#FECB52"
          ],
          "font": {
           "color": "#2a3f5f"
          },
          "geo": {
           "bgcolor": "white",
           "lakecolor": "white",
           "landcolor": "#E5ECF6",
           "showlakes": true,
           "showland": true,
           "subunitcolor": "white"
          },
          "hoverlabel": {
           "align": "left"
          },
          "hovermode": "closest",
          "mapbox": {
           "style": "light"
          },
          "paper_bgcolor": "white",
          "plot_bgcolor": "#E5ECF6",
          "polar": {
           "angularaxis": {
            "gridcolor": "white",
            "linecolor": "white",
            "ticks": ""
           },
           "bgcolor": "#E5ECF6",
           "radialaxis": {
            "gridcolor": "white",
            "linecolor": "white",
            "ticks": ""
           }
          },
          "scene": {
           "xaxis": {
            "backgroundcolor": "#E5ECF6",
            "gridcolor": "white",
            "gridwidth": 2,
            "linecolor": "white",
            "showbackground": true,
            "ticks": "",
            "zerolinecolor": "white"
           },
           "yaxis": {
            "backgroundcolor": "#E5ECF6",
            "gridcolor": "white",
            "gridwidth": 2,
            "linecolor": "white",
            "showbackground": true,
            "ticks": "",
            "zerolinecolor": "white"
           },
           "zaxis": {
            "backgroundcolor": "#E5ECF6",
            "gridcolor": "white",
            "gridwidth": 2,
            "linecolor": "white",
            "showbackground": true,
            "ticks": "",
            "zerolinecolor": "white"
           }
          },
          "shapedefaults": {
           "line": {
            "color": "#2a3f5f"
           }
          },
          "ternary": {
           "aaxis": {
            "gridcolor": "white",
            "linecolor": "white",
            "ticks": ""
           },
           "baxis": {
            "gridcolor": "white",
            "linecolor": "white",
            "ticks": ""
           },
           "bgcolor": "#E5ECF6",
           "caxis": {
            "gridcolor": "white",
            "linecolor": "white",
            "ticks": ""
           }
          },
          "title": {
           "x": 0.05
          },
          "xaxis": {
           "automargin": true,
           "gridcolor": "white",
           "linecolor": "white",
           "ticks": "",
           "title": {
            "standoff": 15
           },
           "zerolinecolor": "white",
           "zerolinewidth": 2
          },
          "yaxis": {
           "automargin": true,
           "gridcolor": "white",
           "linecolor": "white",
           "ticks": "",
           "title": {
            "standoff": 15
           },
           "zerolinecolor": "white",
           "zerolinewidth": 2
          }
         }
        }
       }
      }
     },
     "metadata": {},
     "output_type": "display_data"
    }
   ],
   "source": [
    "from scipy.special import comb\n",
    "import plotly.graph_objects as go\n",
    "\n",
    "post_theta_corrected = comb(n, y) * post_theta\n",
    "go.Figure(\n",
    "    data=[\n",
    "        go.Line(x=theta, y=post_theta / post_theta.max()),\n",
    "        go.Line(x=theta, y=post_theta_corrected / post_theta_corrected.max()),\n",
    "    ]\n",
    ")\n"
   ]
  },
  {
   "cell_type": "markdown",
   "metadata": {},
   "source": [
    "## Beta distribution\n",
    "\n",
    "The Beta distribution is a probability function importantly connected to the Binomial one.\n",
    "It depends on two parameters, usually denoted by $\\alpha$ and $\\beta$, and takes the following form:\n",
    "\n",
    "$$Beta(\\theta|\\alpha, \\beta) = \\frac{\\theta^{\\alpha-1}(1-\\theta)^{\\beta-1}}{B(\\alpha, \\beta)},$$\n",
    "\n",
    "where the function at the denominator is again a normalizing constant called Beta function: $B(\\alpha, \\beta) = \\int_\\theta \\theta^{\\alpha-1}(1-\\theta)^{\\beta-1} d\\theta$. The mean of the Beta distribution is $\\mathbf{E}(Beta(\\theta|\\alpha, \\beta)) = \\frac{\\alpha}{\\alpha+\\beta}$, and the variance is $Var(Beta(\\theta|\\alpha, \\beta)) = \\frac{\\alpha\\beta}{(\\alpha + \\beta)^2(\\alpha + \\beta + 1)}$."
   ]
  },
  {
   "cell_type": "code",
   "execution_count": 38,
   "metadata": {},
   "outputs": [
    {
     "data": {
      "image/png": "[encoded data removed]",
      "text/plain": [
       "<Figure size 432x288 with 1 Axes>"
      ]
     },
     "metadata": {
      "needs_background": "light"
     },
     "output_type": "display_data"
    }
   ],
   "source": [
    "from scipy.special import beta as B\n",
    "\n",
    "alpha = 1\n",
    "beta = 1\n",
    "\n",
    "Beta = theta**(alpha-1)*(1-theta)**(beta-1)/B(alpha, beta)\n",
    "\n",
    "plt.plot(theta,Beta)\n",
    "plt.title('Beta distribution''\\n'r'$\\alpha=$' + str(alpha) + r'$, \\beta=$' + str(beta))\n",
    "plt.ylabel(r'$Beta(theta|\\alpha,\\beta)$')\n",
    "plt.xlabel('theta')\n",
    "plt.show()\n",
    "\n"
   ]
  },
  {
   "cell_type": "markdown",
   "metadata": {},
   "source": [
    "The link with the Binomial distribution can be already seen: the improper posterior of the Binomial parameter is proportional to a Beta with parameters $Beta(y+1, n-y+1)$.\n",
    "\n",
    "Importantly, the Beta distribution provide us with an elegant way to  to specify a prior in Binomial models.\n",
    "We note indeed that by multiplying a Binomial likelihood with a Beta prior, we obtain a Beta posterior: \n",
    "\n",
    "$$p(y|\\theta) \\propto \\theta^y (1-\\theta)^{n-y},$$\n",
    "$$p(\\theta) = Beta(\\alpha,\\beta) \\propto \\theta^{\\alpha-1}(1-\\theta)^{\\beta-1},$$"
   ]
  },
  {
   "cell_type": "markdown",
   "metadata": {},
   "source": [
    "then,"
   ]
  },
  {
   "cell_type": "markdown",
   "metadata": {},
   "source": [
    "$$p(y|\\theta)p(\\theta) \\propto \\theta^{y+\\alpha-1}(1-\\theta)^{n+\\beta-y-1} \\propto Beta(\\theta|\\alpha+y,n+\\beta-y)$$"
   ]
  },
  {
   "cell_type": "markdown",
   "metadata": {},
   "source": [
    "This relationship is very important: when the posterior is of the same form of the prior, we say that the prior is *conjugate* of the likelihood. When the prior is conjugate, we can easily compute the posterior in a closed form.\n",
    "\n",
    "**Exercise.** We observe 3 successes out of 10 tests. Our prior for the probaiblity of success is $Beta(8,2)$. Compute the posterior and evaluate the maximum of the posterior model."
   ]
  },
  {
   "cell_type": "code",
   "execution_count": 98,
   "metadata": {},
   "outputs": [
    {
     "name": "stderr",
     "output_type": "stream",
     "text": [
      "/home/joris/.local/lib/python3.9/site-packages/plotly/graph_objs/_deprecations.py:378: DeprecationWarning:\n",
      "\n",
      "plotly.graph_objs.Line is deprecated.\n",
      "Please replace it with one of the following more specific types\n",
      "  - plotly.graph_objs.scatter.Line\n",
      "  - plotly.graph_objs.layout.shape.Line\n",
      "  - etc.\n",
      "\n",
      "\n"
     ]
    },
    {
     "data": {
      "application/vnd.plotly.v1+json": {
       "config": {
        "plotlyServerURL": "https://plot.ly"
       },
       "data": [
        {
         "type": "scatter",
         "x": [
          0,
          0.01,
          0.02,
          0.03,
          0.04,
          0.05,
          0.06,
          0.07,
          0.08,
          0.09,
          0.1,
          0.11,
          0.12,
          0.13,
          0.14,
          0.15,
          0.16,
          0.17,
          0.18,
          0.19,
          0.2,
          0.21,
          0.22,
          0.23,
          0.24,
          0.25,
          0.26,
          0.27,
          0.28,
          0.29,
          0.3,
          0.31,
          0.32,
          0.33,
          0.34,
          0.35000000000000003,
          0.36,
          0.37,
          0.38,
          0.39,
          0.4,
          0.41000000000000003,
          0.42,
          0.43,
          0.44,
          0.45,
          0.46,
          0.47000000000000003,
          0.48,
          0.49,
          0.5,
          0.51,
          0.52,
          0.53,
          0.54,
          0.55,
          0.56,
          0.5700000000000001,
          0.58,
          0.59,
          0.6,
          0.61,
          0.62,
          0.63,
          0.64,
          0.65,
          0.66,
          0.67,
          0.68,
          0.6900000000000001,
          0.7000000000000001,
          0.71,
          0.72,
          0.73,
          0.74,
          0.75,
          0.76,
          0.77,
          0.78,
          0.79,
          0.8,
          0.81,
          0.8200000000000001,
          0.8300000000000001,
          0.84,
          0.85,
          0.86,
          0.87,
          0.88,
          0.89,
          0.9,
          0.91,
          0.92,
          0.93,
          0.9400000000000001,
          0.9500000000000001,
          0.96,
          0.97,
          0.98,
          0.99
         ],
         "y": [
          0,
          1.5230200361174122e-20,
          1.4572459499264623e-15,
          1.0447194415195453e-12,
          1.0079585219524275e-10,
          3.2354628822074753e-9,
          5.1706995387233615e-8,
          5.100968828767177e-7,
          0.000003531563428566931,
          0.00001863890550828178,
          0.00007934734083507438,
          0.0002836484651526248,
          0.0008771191715908637,
          0.002399652774474068,
          0.005910758008154582,
          0.013290847818185212,
          0.027587488001718428,
          0.05334173178283596,
          0.09680027584075869,
          0.16590572994072875,
          0.2699691301690356,
          0.4189695156327658,
          0.6224906629287658,
          0.8883830767505517,
          1.221313208505099,
          1.6214139186078744,
          2.0832664095719275,
          2.5954175600609166,
          3.1405702067507457,
          3.696488494662087,
          4.237553115465205,
          4.736801572577104,
          5.168214254416921,
          5.5089704884973285,
          5.7414049015908555,
          5.854440467311544,
          5.844350998138739,
          5.714798557268996,
          5.476184871700489,
          5.1444362405281066,
          4.739398193673048,
          4.283043737712223,
          3.7976970867543414,
          3.304447489260521,
          2.8218824701935263,
          2.3652153710159642,
          1.9458272330474373,
          1.5711951387665881,
          1.2451431172477916,
          0.9683300372903928,
          0.7388814990644048,
          0.5530775861810686,
          0.40602220428983515,
          0.2922388589094443,
          0.2061585178915935,
          0.14248470010759065,
          0.09643707165322385,
          0.06388652317013717,
          0.04140172888721153,
          0.02623000301116298,
          0.016234748752320845,
          0.009808996898684941,
          0.005780491951224188,
          0.0033193830424534726,
          0.001855460296773026,
          0.0010084422251255983,
          0.0005322404979347983,
          0.000272407064584174,
          0.00013499429904006687,
          0.00006466386150214455,
          0.00002988409860782772,
          0.0000132967176656299,
          0.000005682847412463378,
          0.0000023269116565757885,
          9.101806675254552e-7,
          3.389973714251283e-7,
          1.1978271319485868e-7,
          3.9987092627472997e-8,
          1.2552375872893207e-8,
          3.685303612783927e-9,
          1.0057133815029016e-9,
          2.532920358606081e-10,
          5.83845225375127e-11,
          1.2197159901481197e-11,
          2.282873830328967e-12,
          3.7754206950563954e-13,
          5.425719795175994e-14,
          6.638742140096934e-15,
          6.742774539252358e-16,
          5.5057683775749023e-17,
          3.4684644270515585e-18,
          1.5967467699390469e-19,
          4.991111199522762e-21,
          9.555731759045575e-23,
          9.635557719894948e-25,
          4.0493564569327356e-27,
          4.791652085360734e-30,
          7.6540793993896175e-34,
          3.1680187008794446e-39,
          1.7531250381087748e-48
         ]
        }
       ],
       "layout": {
        "template": {
         "data": {
          "bar": [
           {
            "error_x": {
             "color": "#2a3f5f"
            },
            "error_y": {
             "color": "#2a3f5f"
            },
            "marker": {
             "line": {
              "color": "#E5ECF6",
              "width": 0.5
             },
             "pattern": {
              "fillmode": "overlay",
              "size": 10,
              "solidity": 0.2
             }
            },
            "type": "bar"
           }
          ],
          "barpolar": [
           {
            "marker": {
             "line": {
              "color": "#E5ECF6",
              "width": 0.5
             },
             "pattern": {
              "fillmode": "overlay",
              "size": 10,
              "solidity": 0.2
             }
            },
            "type": "barpolar"
           }
          ],
          "carpet": [
           {
            "aaxis": {
             "endlinecolor": "#2a3f5f",
             "gridcolor": "white",
             "linecolor": "white",
             "minorgridcolor": "white",
             "startlinecolor": "#2a3f5f"
            },
            "baxis": {
             "endlinecolor": "#2a3f5f",
             "gridcolor": "white",
             "linecolor": "white",
             "minorgridcolor": "white",
             "startlinecolor": "#2a3f5f"
            },
            "type": "carpet"
           }
          ],
          "choropleth": [
           {
            "colorbar": {
             "outlinewidth": 0,
             "ticks": ""
            },
            "type": "choropleth"
           }
          ],
          "contour": [
           {
            "colorbar": {
             "outlinewidth": 0,
             "ticks": ""
            },
            "colorscale": [
             [
              0,
              "#0d0887"
             ],
             [
              0.1111111111111111,
              "#46039f"
             ],
             [
              0.2222222222222222,
              "#7201a8"
             ],
             [
              0.3333333333333333,
              "#9c179e"
             ],
             [
              0.4444444444444444,
              "#bd3786"
             ],
             [
              0.5555555555555556,
              "#d8576b"
             ],
             [
              0.6666666666666666,
              "#ed7953"
             ],
             [
              0.7777777777777778,
              "#fb9f3a"
             ],
             [
              0.8888888888888888,
              "#fdca26"
             ],
             [
              1,
              "#f0f921"
             ]
            ],
            "type": "contour"
           }
          ],
          "contourcarpet": [
           {
            "colorbar": {
             "outlinewidth": 0,
             "ticks": ""
            },
            "type": "contourcarpet"
           }
          ],
          "heatmap": [
           {
            "colorbar": {
             "outlinewidth": 0,
             "ticks": ""
            },
            "colorscale": [
             [
              0,
              "#0d0887"
             ],
             [
              0.1111111111111111,
              "#46039f"
             ],
             [
              0.2222222222222222,
              "#7201a8"
             ],
             [
              0.3333333333333333,
              "#9c179e"
             ],
             [
              0.4444444444444444,
              "#bd3786"
             ],
             [
              0.5555555555555556,
              "#d8576b"
             ],
             [
              0.6666666666666666,
              "#ed7953"
             ],
             [
              0.7777777777777778,
              "#fb9f3a"
             ],
             [
              0.8888888888888888,
              "#fdca26"
             ],
             [
              1,
              "#f0f921"
             ]
            ],
            "type": "heatmap"
           }
          ],
          "heatmapgl": [
           {
            "colorbar": {
             "outlinewidth": 0,
             "ticks": ""
            },
            "colorscale": [
             [
              0,
              "#0d0887"
             ],
             [
              0.1111111111111111,
              "#46039f"
             ],
             [
              0.2222222222222222,
              "#7201a8"
             ],
             [
              0.3333333333333333,
              "#9c179e"
             ],
             [
              0.4444444444444444,
              "#bd3786"
             ],
             [
              0.5555555555555556,
              "#d8576b"
             ],
             [
              0.6666666666666666,
              "#ed7953"
             ],
             [
              0.7777777777777778,
              "#fb9f3a"
             ],
             [
              0.8888888888888888,
              "#fdca26"
             ],
             [
              1,
              "#f0f921"
             ]
            ],
            "type": "heatmapgl"
           }
          ],
          "histogram": [
           {
            "marker": {
             "pattern": {
              "fillmode": "overlay",
              "size": 10,
              "solidity": 0.2
             }
            },
            "type": "histogram"
           }
          ],
          "histogram2d": [
           {
            "colorbar": {
             "outlinewidth": 0,
             "ticks": ""
            },
            "colorscale": [
             [
              0,
              "#0d0887"
             ],
             [
              0.1111111111111111,
              "#46039f"
             ],
             [
              0.2222222222222222,
              "#7201a8"
             ],
             [
              0.3333333333333333,
              "#9c179e"
             ],
             [
              0.4444444444444444,
              "#bd3786"
             ],
             [
              0.5555555555555556,
              "#d8576b"
             ],
             [
              0.6666666666666666,
              "#ed7953"
             ],
             [
              0.7777777777777778,
              "#fb9f3a"
             ],
             [
              0.8888888888888888,
              "#fdca26"
             ],
             [
              1,
              "#f0f921"
             ]
            ],
            "type": "histogram2d"
           }
          ],
          "histogram2dcontour": [
           {
            "colorbar": {
             "outlinewidth": 0,
             "ticks": ""
            },
            "colorscale": [
             [
              0,
              "#0d0887"
             ],
             [
              0.1111111111111111,
              "#46039f"
             ],
             [
              0.2222222222222222,
              "#7201a8"
             ],
             [
              0.3333333333333333,
              "#9c179e"
             ],
             [
              0.4444444444444444,
              "#bd3786"
             ],
             [
              0.5555555555555556,
              "#d8576b"
             ],
             [
              0.6666666666666666,
              "#ed7953"
             ],
             [
              0.7777777777777778,
              "#fb9f3a"
             ],
             [
              0.8888888888888888,
              "#fdca26"
             ],
             [
              1,
              "#f0f921"
             ]
            ],
            "type": "histogram2dcontour"
           }
          ],
          "mesh3d": [
           {
            "colorbar": {
             "outlinewidth": 0,
             "ticks": ""
            },
            "type": "mesh3d"
           }
          ],
          "parcoords": [
           {
            "line": {
             "colorbar": {
              "outlinewidth": 0,
              "ticks": ""
             }
            },
            "type": "parcoords"
           }
          ],
          "pie": [
           {
            "automargin": true,
            "type": "pie"
           }
          ],
          "scatter": [
           {
            "fillpattern": {
             "fillmode": "overlay",
             "size": 10,
             "solidity": 0.2
            },
            "type": "scatter"
           }
          ],
          "scatter3d": [
           {
            "line": {
             "colorbar": {
              "outlinewidth": 0,
              "ticks": ""
             }
            },
            "marker": {
             "colorbar": {
              "outlinewidth": 0,
              "ticks": ""
             }
            },
            "type": "scatter3d"
           }
          ],
          "scattercarpet": [
           {
            "marker": {
             "colorbar": {
              "outlinewidth": 0,
              "ticks": ""
             }
            },
            "type": "scattercarpet"
           }
          ],
          "scattergeo": [
           {
            "marker": {
             "colorbar": {
              "outlinewidth": 0,
              "ticks": ""
             }
            },
            "type": "scattergeo"
           }
          ],
          "scattergl": [
           {
            "marker": {
             "colorbar": {
              "outlinewidth": 0,
              "ticks": ""
             }
            },
            "type": "scattergl"
           }
          ],
          "scattermapbox": [
           {
            "marker": {
             "colorbar": {
              "outlinewidth": 0,
              "ticks": ""
             }
            },
            "type": "scattermapbox"
           }
          ],
          "scatterpolar": [
           {
            "marker": {
             "colorbar": {
              "outlinewidth": 0,
              "ticks": ""
             }
            },
            "type": "scatterpolar"
           }
          ],
          "scatterpolargl": [
           {
            "marker": {
             "colorbar": {
              "outlinewidth": 0,
              "ticks": ""
             }
            },
            "type": "scatterpolargl"
           }
          ],
          "scatterternary": [
           {
            "marker": {
             "colorbar": {
              "outlinewidth": 0,
              "ticks": ""
             }
            },
            "type": "scatterternary"
           }
          ],
          "surface": [
           {
            "colorbar": {
             "outlinewidth": 0,
             "ticks": ""
            },
            "colorscale": [
             [
              0,
              "#0d0887"
             ],
             [
              0.1111111111111111,
              "#46039f"
             ],
             [
              0.2222222222222222,
              "#7201a8"
             ],
             [
              0.3333333333333333,
              "#9c179e"
             ],
             [
              0.4444444444444444,
              "#bd3786"
             ],
             [
              0.5555555555555556,
              "#d8576b"
             ],
             [
              0.6666666666666666,
              "#ed7953"
             ],
             [
              0.7777777777777778,
              "#fb9f3a"
             ],
             [
              0.8888888888888888,
              "#fdca26"
             ],
             [
              1,
              "#f0f921"
             ]
            ],
            "type": "surface"
           }
          ],
          "table": [
           {
            "cells": {
             "fill": {
              "color": "#EBF0F8"
             },
             "line": {
              "color": "white"
             }
            },
            "header": {
             "fill": {
              "color": "#C8D4E3"
             },
             "line": {
              "color": "white"
             }
            },
            "type": "table"
           }
          ]
         },
         "layout": {
          "annotationdefaults": {
           "arrowcolor": "#2a3f5f",
           "arrowhead": 0,
           "arrowwidth": 1
          },
          "autotypenumbers": "strict",
          "coloraxis": {
           "colorbar": {
            "outlinewidth": 0,
            "ticks": ""
           }
          },
          "colorscale": {
           "diverging": [
            [
             0,
             "#8e0152"
            ],
            [
             0.1,
             "#c51b7d"
            ],
            [
             0.2,
             "#de77ae"
            ],
            [
             0.3,
             "#f1b6da"
            ],
            [
             0.4,
             "#fde0ef"
            ],
            [
             0.5,
             "#f7f7f7"
            ],
            [
             0.6,
             "#e6f5d0"
            ],
            [
             0.7,
             "#b8e186"
            ],
            [
             0.8,
             "#7fbc41"
            ],
            [
             0.9,
             "#4d9221"
            ],
            [
             1,
             "#276419"
            ]
           ],
           "sequential": [
            [
             0,
             "#0d0887"
            ],
            [
             0.1111111111111111,
             "#46039f"
            ],
            [
             0.2222222222222222,
             "#7201a8"
            ],
            [
             0.3333333333333333,
             "#9c179e"
            ],
            [
             0.4444444444444444,
             "#bd3786"
            ],
            [
             0.5555555555555556,
             "#d8576b"
            ],
            [
             0.6666666666666666,
             "#ed7953"
            ],
            [
             0.7777777777777778,
             "#fb9f3a"
            ],
            [
             0.8888888888888888,
             "#fdca26"
            ],
            [
             1,
             "#f0f921"
            ]
           ],
           "sequentialminus": [
            [
             0,
             "#0d0887"
            ],
            [
             0.1111111111111111,
             "#46039f"
            ],
            [
             0.2222222222222222,
             "#7201a8"
            ],
            [
             0.3333333333333333,
             "#9c179e"
            ],
            [
             0.4444444444444444,
             "#bd3786"
            ],
            [
             0.5555555555555556,
             "#d8576b"
            ],
            [
             0.6666666666666666,
             "#ed7953"
            ],
            [
             0.7777777777777778,
             "#fb9f3a"
            ],
            [
             0.8888888888888888,
             "#fdca26"
            ],
            [
             1,
             "#f0f921"
            ]
           ]
          },
          "colorway": [
           "#636efa",
           "#EF553B",
           "#00cc96",
           "#ab63fa",
           "#FFA15A",
           "#19d3f3",
           "#FF6692",
           "#B6E880",
           "#FF97FF",
           "#FECB52"
          ],
          "font": {
           "color": "#2a3f5f"
          },
          "geo": {
           "bgcolor": "white",
           "lakecolor": "white",
           "landcolor": "#E5ECF6",
           "showlakes": true,
           "showland": true,
           "subunitcolor": "white"
          },
          "hoverlabel": {
           "align": "left"
          },
          "hovermode": "closest",
          "mapbox": {
           "style": "light"
          },
          "paper_bgcolor": "white",
          "plot_bgcolor": "#E5ECF6",
          "polar": {
           "angularaxis": {
            "gridcolor": "white",
            "linecolor": "white",
            "ticks": ""
           },
           "bgcolor": "#E5ECF6",
           "radialaxis": {
            "gridcolor": "white",
            "linecolor": "white",
            "ticks": ""
           }
          },
          "scene": {
           "xaxis": {
            "backgroundcolor": "#E5ECF6",
            "gridcolor": "white",
            "gridwidth": 2,
            "linecolor": "white",
            "showbackground": true,
            "ticks": "",
            "zerolinecolor": "white"
           },
           "yaxis": {
            "backgroundcolor": "#E5ECF6",
            "gridcolor": "white",
            "gridwidth": 2,
            "linecolor": "white",
            "showbackground": true,
            "ticks": "",
            "zerolinecolor": "white"
           },
           "zaxis": {
            "backgroundcolor": "#E5ECF6",
            "gridcolor": "white",
            "gridwidth": 2,
            "linecolor": "white",
            "showbackground": true,
            "ticks": "",
            "zerolinecolor": "white"
           }
          },
          "shapedefaults": {
           "line": {
            "color": "#2a3f5f"
           }
          },
          "ternary": {
           "aaxis": {
            "gridcolor": "white",
            "linecolor": "white",
            "ticks": ""
           },
           "baxis": {
            "gridcolor": "white",
            "linecolor": "white",
            "ticks": ""
           },
           "bgcolor": "#E5ECF6",
           "caxis": {
            "gridcolor": "white",
            "linecolor": "white",
            "ticks": ""
           }
          },
          "title": {
           "x": 0.05
          },
          "xaxis": {
           "automargin": true,
           "gridcolor": "white",
           "linecolor": "white",
           "ticks": "",
           "title": {
            "standoff": 15
           },
           "zerolinecolor": "white",
           "zerolinewidth": 2
          },
          "yaxis": {
           "automargin": true,
           "gridcolor": "white",
           "linecolor": "white",
           "ticks": "",
           "title": {
            "standoff": 15
           },
           "zerolinecolor": "white",
           "zerolinewidth": 2
          }
         }
        }
       }
      }
     },
     "metadata": {},
     "output_type": "display_data"
    }
   ],
   "source": [
    "n = 40\n",
    "y = 10\n",
    "prior_alpha = 8\n",
    "prior_beta = 2\n",
    "\n",
    "posterior_alpha = prior_alpha + y\n",
    "posterior_beta = n + prior_beta - y\n",
    "\n",
    "l = (\n",
    "    theta ** (posterior_alpha - 1)\n",
    "    * (1 - theta) ** (posterior_beta - 1)\n",
    "    / B(y + prior_alpha, posterior_beta)\n",
    ")\n",
    "go.Figure(go.Line(x=theta, y=l))\n"
   ]
  },
  {
   "cell_type": "markdown",
   "metadata": {},
   "source": [
    "## Model inspection through sampling \n",
    "\n",
    "Once we derived the posterior we can study the solution by sampling from the associated probability model. In particular, knowing the parameters of the posterior, we are able to generate the family of $\\theta$ parameters associated with it, and study the related properties and uncertainty. "
   ]
  },
  {
   "cell_type": "code",
   "execution_count": 99,
   "metadata": {},
   "outputs": [
    {
     "data": {
      "image/png": "[encoded data removed]",
      "text/plain": [
       "<Figure size 432x288 with 1 Axes>"
      ]
     },
     "metadata": {
      "needs_background": "light"
     },
     "output_type": "display_data"
    }
   ],
   "source": [
    "from scipy.stats import gaussian_kde\n",
    "from scipy.stats import beta\n",
    "\n",
    "# Compute posterior parameters\n",
    "post_alpha = y + prior_alpha\n",
    "post_beta = n + prior_beta - y\n",
    "\n",
    "# Creating the posterior\n",
    "posterior = beta(post_alpha, post_beta)\n",
    "\n",
    "# Sampling from the posterior\n",
    "post_sample = posterior.rvs(size=1000)\n",
    "\n",
    "plt.hist(post_sample, bins=100, density=True, label=\"sampling posterior\")\n",
    "plt.plot(theta, posterior.pdf(theta), label=\"analytic posterior\")\n",
    "plt.legend()\n",
    "plt.show()\n"
   ]
  },
  {
   "cell_type": "markdown",
   "metadata": {},
   "source": [
    "**Exercise.** Compute  \n",
    "- $0.2<p(\\theta)<0.5$\n",
    "- $0.6<p(\\theta)<0.8$\n",
    "- Mode, mean and variance of $\\theta$\n"
   ]
  },
  {
   "cell_type": "code",
   "execution_count": 100,
   "metadata": {},
   "outputs": [
    {
     "name": "stdout",
     "output_type": "stream",
     "text": [
      "0.961\n",
      "0.001\n"
     ]
    },
    {
     "data": {
      "text/plain": [
       "(0.36016002067439434, 0.004742181905466921, 0.353)"
      ]
     },
     "execution_count": 100,
     "metadata": {},
     "output_type": "execute_result"
    }
   ],
   "source": [
    "print(pd.Series(post_sample).between(0.2, 0.5).mean())\n",
    "print(pd.Series(post_sample).between(0.6, 0.8).mean())\n",
    "post_sample.mean(), post_sample.var(), post_sample.argmax() / len(post_sample)"
   ]
  },
  {
   "cell_type": "markdown",
   "metadata": {},
   "source": [
    "## Applying the Bayes' rule via sampling "
   ]
  },
  {
   "cell_type": "markdown",
   "metadata": {},
   "source": [
    "Instead of deriving a closed form for the posterior, we can take a more practical approach to Bayesian inference by explicitly compute the posterior from simulation of the parameters. This is usually unpractical, but makes some sense in the Binomial case, as the model is very simple and low-dimensional (only one parameter). \n",
    "\n",
    "In practice we sample our parameters on a dense grid, and explicitly compute the associated posterior. This kind of approach is quite naive, and computationally expensive. Since we rely on uniform sampling from parameters' grid, this method scales geometrically with the number of parameters, and can easily turn to be computationally prohibitive when the number of parameters is too large, or the grid is too dense. \n",
    "\n",
    "However, this kind of approach provides a first example of *numerical approximation* of the posterior. "
   ]
  },
  {
   "cell_type": "code",
   "execution_count": 101,
   "metadata": {},
   "outputs": [
    {
     "data": {
      "image/png": "[encoded data removed]",
      "text/plain": [
       "<Figure size 432x288 with 3 Axes>"
      ]
     },
     "metadata": {
      "needs_background": "light"
     },
     "output_type": "display_data"
    }
   ],
   "source": [
    "from scipy.stats import binom\n",
    "\n",
    "\n",
    "# We compute the prior\n",
    "prior_fun = beta(prior_alpha, prior_beta)\n",
    "prior = prior_fun.pdf(theta)\n",
    "\n",
    "## Estimating posterior \n",
    "\n",
    "# Uniform sampling of the parameter\n",
    "theta = np.arange(0,1,0.01)\n",
    "\n",
    "# We compute the data likelihood for each parameter value\n",
    "likelihood = binom.pmf(y, n, theta) \n",
    "\n",
    "# We compute the posterior  \n",
    "posterior = likelihood * prior \n",
    "\n",
    "plt.subplot(2, 2, 1)\n",
    "\n",
    "plt.plot(theta,likelihood)\n",
    "ml_est = np.argmax(likelihood)\n",
    "plt.title(r'Binomial likelihood $p(y|\\theta)$' + '\\n ml estimate = {:.2f}'.format(theta[ml_est]))\n",
    "plt.gca().axes.get_yaxis().set_visible(False)\n",
    "plt.xlabel(r'$\\theta$')\n",
    "plt.axvline(x = theta[ml_est], linewidth=0.5, color = 'black')\n",
    "\n",
    "plt.subplot(2, 2, 2)\n",
    "\n",
    "plt.plot(theta,prior_fun.pdf(theta))\n",
    "mean = prior_fun.mean()\n",
    "plt.title(r'Beta Prior $p(\\theta)$' + '\\n'r'$\\alpha=$' + str(prior_alpha) + r'$, \\beta=$' + str(prior_beta) + ', mean = {:.2f}'.format(mean))\n",
    "plt.gca().axes.get_yaxis().set_visible(False)\n",
    "plt.xlabel(r'$\\theta$')\n",
    "plt.axvline(x = mean, linewidth=0.5, color = 'black')\n",
    "\n",
    "plt.subplot(2, 1, 2)\n",
    "\n",
    "plt.plot(theta,posterior)\n",
    "mean = np.sum(theta*posterior)/np.sum(posterior)\n",
    "plt.title(r'Posterior $p(\\theta|y)$''\\n mean = {:.2f}'.format(mean))\n",
    "plt.gca().axes.get_yaxis().set_visible(False)\n",
    "plt.axvline(x=mean, linewidth=0.5, color = 'black')\n",
    "plt.xlabel(r'$\\theta$')\n",
    "\n",
    "plt.tight_layout()\n",
    "plt.show()"
   ]
  },
  {
   "cell_type": "markdown",
   "metadata": {},
   "source": [
    "We see that the results perfectly matches the theoretical results obtained earlier.\n",
    "With this latter approach it is straightforward to replace prior (or likelihood) with any other form, independently from the underlying maths. \n",
    "\n",
    "**Exercise.** Replace the prior in the example before with a Uniform[0,1]  "
   ]
  },
  {
   "cell_type": "code",
   "execution_count": null,
   "metadata": {},
   "outputs": [],
   "source": []
  },
  {
   "cell_type": "markdown",
   "metadata": {},
   "source": [
    "**Exercise (from Gelman et al, Bayesian Data Analysis, Chapter 2).** An early study on *placenta previa*, a condition of pregnancy, found that on a sample of 980 births, 437 were females. How much evidence this data provide for the claim that the proportion of female births is below 0.485, the proportion of females in the general population?"
   ]
  },
  {
   "cell_type": "code",
   "execution_count": 102,
   "metadata": {},
   "outputs": [
    {
     "data": {
      "text/plain": [
       "0.4459183673469388"
      ]
     },
     "execution_count": 102,
     "metadata": {},
     "output_type": "execute_result"
    }
   ],
   "source": [
    "from scipy.stats import beta\n",
    "\n",
    "\n",
    "n = 980\n",
    "y = 437\n",
    "\n",
    "# We compute the posterior mean and quantiles for different sets of prior parameters\n",
    "\n",
    "alpha_prior = [1, 5, 10, 50]\n",
    "beta_prior = [1, 5, 10, 50]\n",
    "pairs = [[ai, bi] for ai in alpha_prior for bi in beta_prior]\n",
    "y/n"
   ]
  },
  {
   "cell_type": "markdown",
   "metadata": {},
   "source": [
    "# Gaussian model"
   ]
  },
  {
   "cell_type": "markdown",
   "metadata": {},
   "source": [
    "Examples of Gaussian distributed data can be found everywhere, and in some sense the Gaussian distribution is a natural approximation for many phenomena obsevable in the realm of data analysis. This is the especially the case for measurements that *cumulate*, for example over multiple subjects or probes. This is formally stated by the central limit theorem."
   ]
  },
  {
   "cell_type": "code",
   "execution_count": 117,
   "metadata": {},
   "outputs": [
    {
     "data": {
      "image/png": "[encoded data removed]",
      "text/plain": [
       "<Figure size 432x288 with 1 Axes>"
      ]
     },
     "metadata": {
      "needs_background": "light"
     },
     "output_type": "display_data"
    },
    {
     "data": {
      "image/png": "[encoded data removed]",
      "text/plain": [
       "<Figure size 432x288 with 1 Axes>"
      ]
     },
     "metadata": {
      "needs_background": "light"
     },
     "output_type": "display_data"
    }
   ],
   "source": [
    "from scipy.stats import norm\n",
    "from scipy.stats import bernoulli\n",
    "\n",
    "path_length = 20\n",
    "N_subjects = 50\n",
    "\n",
    "prob_move = 0.5\n",
    "\n",
    "sample = bernoulli.rvs(prob_move, size=path_length * N_subjects)\n",
    "paths = np.cumsum(sample.reshape(N_subjects, path_length), 1)\n",
    "\n",
    "[\n",
    "    plt.plot(np.arange(path_length), paths[i, :], color=\"blue\", lw=0.1)\n",
    "    for i in range(N_subjects)\n",
    "]\n",
    "plt.title(\"Trajectories\")\n",
    "plt.xlabel(\"step\")\n",
    "plt.xlabel(\"position\")\n",
    "plt.show()\n",
    "\n",
    "\n",
    "# Applying central limit theorem\n",
    "bernoulli_mean = prob_move\n",
    "bernoulli_var = prob_move * (1 - prob_move)\n",
    "\n",
    "normal_clt_mean = path_length * bernoulli_mean\n",
    "normal_clt_var = path_length * bernoulli_var\n",
    "\n",
    "y = paths[:, path_length - 1]\n",
    "\n",
    "plt.hist(y, bins=14, density=True, label=\"Target distribution\")\n",
    "\n",
    "x = np.arange(0, 20, 0.1)\n",
    "plt.plot(\n",
    "    x,\n",
    "    norm.pdf(x, normal_clt_mean, np.sqrt(normal_clt_var)),\n",
    "    label=\"Gaussian clt approximation\",\n",
    ")\n",
    "plt.title(\"Distribution of target positions\")\n",
    "plt.legend()\n",
    "plt.show()\n"
   ]
  },
  {
   "cell_type": "markdown",
   "metadata": {},
   "source": [
    "To perform Bayesian inference in Gaussian models, we need to proceed similarly to the Binomial case. To obtain a posterior for the Gaussian parameters, the mean $\\mu$ and variance $\\sigma^2$, we need to specify the associated prior. \n",
    "In principle, any distribution can be used. In practice some choices are more popular, due to practical and theoretical reasons. We will see later how to work out the mathematics of the conjugate Gaussian model, in order to analytically derive a posterior for the Gaussian parameter. Before, analogously to what was shown in the binomial case, we develop an empyrical formalism for inference in Gaussian models through sampling.\n",
    "\n",
    "The Gaussian (or Normal) distribution is parameterized by the mean $\\theta$ and the variance $\\sigma^2$. The likelihood takes the form:\n",
    "\n",
    "$$ p(y|\\mu, \\sigma) = \\frac{1}{\\sqrt{2\\pi}\\sigma}\\exp[{-\\frac{1}{2\\sigma^2}(y-\\mu)^2}],$$\n",
    "\n",
    "let's suppose that the variance $\\sigma^2$ is known, and our goal is to estimate the posterior $p(\\mu| y)$. As for the Binomial model, we should specify appropriate priors for the parameter $\\mu$. We will see later that the privileged from for the prior of $\\mu$ (i.e. the conjugate prior) is the Gaussian one, and we will work the math of it.\n",
    "\n",
    "For the moment, let's not bother about maths, and simply make some assumptions and compute the posterior numerically. Let the prior be:\n",
    "\n",
    "$$ p(\\mu) = N(5, 4).$$\n"
   ]
  },
  {
   "cell_type": "code",
   "execution_count": 24,
   "metadata": {},
   "outputs": [
    {
     "name": "stdout",
     "output_type": "stream",
     "text": [
      "Likelihood optima:\n",
      " μ = 9.95\n",
      "\n",
      "Prior optima:\n",
      " μ = 5.03\n",
      "\n",
      "Posterior optima:\n",
      " μ = 9.45\n"
     ]
    }
   ],
   "source": [
    "y_mean = np.mean(y)\n",
    "y_var = 4\n",
    "\n",
    "mean_prior_mu = 5\n",
    "var_prior_mu = 4\n",
    "\n",
    "prior_mu = norm(mean_prior_mu, np.sqrt(var_prior_mu))\n",
    "#prior_var = uniform(loc = 0.4 , scale = 11)\n",
    "\n",
    "# functions to compute log-likelihood and log-priors\n",
    "def log_likelihood(param):\n",
    "    return np.sum([norm.logpdf(point,param,np.sqrt(y_var)) for point in y])\n",
    "\n",
    "def log_prior(param):\n",
    "    return prior_mu.logpdf(param)\n",
    "\n",
    "# Estimating posterior \n",
    "# Uniform sampling of the parameter\n",
    "mu = np.linspace(0,20,200)\n",
    "\n",
    "# We compute the (log-)likelihood and (log-)posterior for each value of the parameters\n",
    "array_log_lik = np.array(list(map(log_likelihood, mu))).reshape(len(mu))\n",
    "array_log_prior = np.array(list(map(log_prior, mu))).reshape(len(mu))\n",
    "\n",
    "# We compute the (log-)posterior\n",
    "array_log_posterior = array_log_prior + array_log_lik\n",
    "\n",
    "# We identify the optimal parameter \n",
    "log_lik_optimum = (mu[np.argmax(array_log_lik)])\n",
    "prior_optimum = (mu[np.argmax(array_log_prior)])\n",
    "post_optimum = (mu[np.argmax(array_log_posterior)])\n",
    "\n",
    "print('Likelihood optima:\\n \\u03BC = {:.2f}'.format(log_lik_optimum))\n",
    "\n",
    "print('\\nPrior optima:\\n \\u03BC = {:.2f}'.format(prior_optimum))\n",
    "\n",
    "print('\\nPosterior optima:\\n \\u03BC = {:.2f}'.format(post_optimum))"
   ]
  },
  {
   "cell_type": "code",
   "execution_count": 25,
   "metadata": {},
   "outputs": [
    {
     "data": {
      "image/png": "[encoded data removed]",
      "text/plain": [
       "<Figure size 432x288 with 1 Axes>"
      ]
     },
     "metadata": {
      "needs_background": "light"
     },
     "output_type": "display_data"
    }
   ],
   "source": [
    "#Let's plot our distributions\n",
    "\n",
    "x = np.arange(0,20,0.1)\n",
    "plt.plot(mu, np.exp(array_log_prior)/np.sum(np.exp(array_log_prior)), label = 'prior')\n",
    "plt.plot(mu, np.exp(array_log_posterior)/np.sum(np.exp(array_log_posterior)), label = 'posterior')\n",
    "plt.axvline(y_mean, color = 'black', ls = '-', lw = 2, label= 'y_mean')\n",
    "plt.title('Distribution of target positions')\n",
    "\n",
    "[plt.axvline(sample, ls = '--', lw = 0.5) for sample in y]\n",
    "plt.axvline(y[0], ls = '--', lw = 0.5, label= 'data')\n",
    "plt.legend()\n",
    "plt.show()"
   ]
  },
  {
   "cell_type": "markdown",
   "metadata": {},
   "source": [
    "**Exercise.** Why the posterior is so close to the empirical mean? Play around with the prior parameters, the number of observatios, and explore their influence on the posterior. "
   ]
  },
  {
   "cell_type": "markdown",
   "metadata": {},
   "source": [
    "## A two-parameters example"
   ]
  },
  {
   "cell_type": "markdown",
   "metadata": {},
   "source": [
    "Extending the sampling approach for the inference of $\\mu$ and $\\sigma^2$ is straightforward.\n",
    "We first make a choice for the priors, for example:\n",
    "\n",
    "$$ p(\\mu) = N(5, 4),$$\n",
    "\n",
    "$$p(\\sigma^2) = N(2,1),$$\n",
    "\n",
    "Then, we select a pair of candidate values $\\mu_0, \\sigma_0^2$ for mean and variance, and we evaluate the posterior \n",
    "\n",
    "$$p(\\mu_0, \\sigma_0^2|y) \\sim p(y|\\mu_0, \\sigma_0^2)p(\\mu_0 | 5, 4)p(\\sigma_0^2|2, 1),$$\n",
    "\n",
    "and we iterate the process for many different candidate samples $\\mu_i$ and $\\sigma_i^2$."
   ]
  },
  {
   "cell_type": "code",
   "execution_count": 26,
   "metadata": {},
   "outputs": [],
   "source": [
    "prior_mu_mean = 5\n",
    "prior_mu_var = 4\n",
    "\n",
    "prior_sigma_mean = 2\n",
    "prior_sigma_var = 1\n",
    "\n",
    "prior_mu = norm(prior_mu_mean, np.sqrt(prior_mu_var))\n",
    "#prior_var = uniform(loc = 1 , scale = 15)\n",
    "prior_var = norm(prior_sigma_mean, np.sqrt(prior_sigma_var))"
   ]
  },
  {
   "cell_type": "code",
   "execution_count": 27,
   "metadata": {},
   "outputs": [
    {
     "name": "stdout",
     "output_type": "stream",
     "text": [
      "Likelihood optima:\n",
      " μ = 9.80 \n",
      " σ2 = 2.65\n",
      "\n",
      "Prior optima:\n",
      " μ = 4.90 \n",
      " σ2 = 1.92\n",
      "\n",
      "Posterior optima:\n",
      " μ = 9.80 \n",
      " σ2 = 2.29\n"
     ]
    },
    {
     "data": {
      "image/png": "[encoded data removed]",
      "text/plain": [
       "<Figure size 432x288 with 2 Axes>"
      ]
     },
     "metadata": {
      "needs_background": "light"
     },
     "output_type": "display_data"
    },
    {
     "name": "stderr",
     "output_type": "stream",
     "text": [
      "/Users/mlorenzi/miniconda3/lib/python3.6/site-packages/ipykernel_launcher.py:60: DeprecationWarning: object of type <class 'float'> cannot be safely interpreted as an integer.\n"
     ]
    },
    {
     "data": {
      "image/png": "[encoded data removed]",
      "text/plain": [
       "<Figure size 432x288 with 2 Axes>"
      ]
     },
     "metadata": {
      "needs_background": "light"
     },
     "output_type": "display_data"
    },
    {
     "data": {
      "image/png": "[encoded data removed]",
      "text/plain": [
       "<Figure size 432x288 with 2 Axes>"
      ]
     },
     "metadata": {
      "needs_background": "light"
     },
     "output_type": "display_data"
    }
   ],
   "source": [
    "from itertools import product\n",
    "\n",
    "# functions to compute log-likelihood and log-priors\n",
    "def log_likelihood(params):\n",
    "    # Assuming data exchangeability, we factorize the likelihood\n",
    "    return np.sum([norm.logpdf(point,params[0],np.sqrt(params[1])) for point in y])\n",
    "\n",
    "def log_prior(params):\n",
    "    return prior_mu.logpdf(params[0])+ prior_var.logpdf(params[1])\n",
    "\n",
    "# Estimating posterior \n",
    "# Uniform sampling parameters \n",
    "mu = np.linspace(0,20,50)\n",
    "var = np.linspace(1,10,50)\n",
    "# Creating a grid of parameters combinations\n",
    "param_combinations = list(product(mu, var))\n",
    "\n",
    "# We compute the (log-)likelihood and (log-)posterior for each combination of parameters\n",
    "array_log_lik = np.array(list(map(log_likelihood, param_combinations))).reshape(len(mu),len(var))\n",
    "array_log_prior = np.array(list(map(log_prior, param_combinations))).reshape(len(mu),len(var))\n",
    "\n",
    "# We compute the unnormalized (log-)posterior\n",
    "array_log_posterior = array_log_prior + array_log_lik \n",
    "\n",
    "# We identify the parameters' pair associated to the max of the posterior \n",
    "log_lik_optimum = (param_combinations[np.argmax(array_log_lik)])\n",
    "prior_optimum = (param_combinations[np.argmax(array_log_prior)])\n",
    "post_optimum = (param_combinations[np.argmax(array_log_posterior)])\n",
    "\n",
    "print('Likelihood optima:\\n \\u03BC = {:.2f}'.format(log_lik_optimum[0]) \n",
    "      + ' \\n \\u03C32 = {:.2f}'.format(log_lik_optimum[1]) )\n",
    "\n",
    "print('\\nPrior optima:\\n \\u03BC = {:.2f}'.format(prior_optimum[0]) \n",
    "      + ' \\n \\u03C32 = {:.2f}'.format(prior_optimum[1]) )\n",
    "\n",
    "print('\\nPosterior optima:\\n \\u03BC = {:.2f}'.format(post_optimum[0]) \n",
    "      + ' \\n \\u03C32 = {:.2f}'.format(post_optimum[1]) )\n",
    "\n",
    "\n",
    "ax0 = plt.gca()\n",
    "img0 = ax0.imshow((array_log_lik), cmap='jet', interpolation='nearest', extent = [0,1,0,1])\n",
    "\n",
    "ax0.set_xticks(np.linspace(0,1,int(len(var)/2)))\n",
    "ax0.set_xticklabels([str(round(i,1)) for i in var[0::2]])\n",
    "plt.xticks(rotation=90)\n",
    "\n",
    "ax0.set_yticks(np.linspace(0,1,int(len(mu)/2)))\n",
    "ax0.set_yticklabels([str(round(i,1)) for i in mu[::-1][0::2]])\n",
    "\n",
    "plt.title('log-likelihood')\n",
    "plt.ylabel(r'$\\mu$')\n",
    "plt.xlabel(r'$\\sigma^2$')\n",
    "plt.colorbar(img0)\n",
    "plt.show()\n",
    "\n",
    "\n",
    "ax1 = plt.gca()\n",
    "img1 = ax1.imshow((array_log_prior), cmap='jet', interpolation='nearest', extent = [0,1,0,1])\n",
    "\n",
    "ax1.set_xticks(np.linspace(0,1,len(var)/2))\n",
    "ax1.set_xticklabels([str(round(i,1)) for i in var[0::2]])\n",
    "plt.xticks(rotation=90)\n",
    "\n",
    "ax1.set_yticks(np.linspace(0,1,int(len(mu)/2)))\n",
    "ax1.set_yticklabels([str(round(i,1)) for i in mu[::-1][0::2]])\n",
    "\n",
    "plt.title('log-prior')\n",
    "plt.ylabel(r'$\\mu$')\n",
    "plt.xlabel(r'$\\sigma^2$')\n",
    "plt.colorbar(img1)\n",
    "plt.show()\n",
    "\n",
    "\n",
    "ax2 = plt.gca()\n",
    "img2 = ax2.imshow(array_log_posterior, cmap='jet', interpolation='nearest', extent = [0,1,0,1])\n",
    "\n",
    "ax2.set_xticks(np.linspace(0,1,int(len(var)/2)))\n",
    "ax2.set_xticklabels([str(round(i,1)) for i in var[0::2]])\n",
    "plt.xticks(rotation=90)\n",
    "\n",
    "ax2.set_yticks(np.linspace(0,1,int(len(mu)/2)))\n",
    "ax2.set_yticklabels([str(round(i,1)) for i in mu[::-1][0::2]])\n",
    "\n",
    "plt.title('log-posterior (unnormalized)')\n",
    "plt.ylabel(r'$\\mu$')\n",
    "plt.xlabel(r'$\\sigma^2$')\n",
    "plt.colorbar(img2)\n",
    "\n",
    "plt.tight_layout()\n",
    "\n",
    "plt.show()\n"
   ]
  },
  {
   "cell_type": "code",
   "execution_count": 28,
   "metadata": {},
   "outputs": [
    {
     "data": {
      "image/png": "[encoded data removed]",
      "text/plain": [
       "<Figure size 432x288 with 1 Axes>"
      ]
     },
     "metadata": {
      "needs_background": "light"
     },
     "output_type": "display_data"
    }
   ],
   "source": [
    "plt.hist(y, bins = 14, density = True, label = 'Target distribution')\n",
    "\n",
    "x = np.arange(0,20,0.1)\n",
    "plt.plot(x, norm.pdf(x, log_lik_optimum[0], np.sqrt(log_lik_optimum[1])), label = 'Maximum likelihood')\n",
    "plt.plot(x, norm.pdf(x, prior_optimum[0], np.sqrt(prior_optimum[1])), label = 'Prior')\n",
    "plt.plot(x, norm.pdf(x, post_optimum[0], np.sqrt(post_optimum[1])), label = 'Posterior')\n",
    "plt.title('Distribution of target positions')\n",
    "plt.legend()\n",
    "plt.show()"
   ]
  },
  {
   "cell_type": "markdown",
   "metadata": {},
   "source": [
    "## The maths guts of Bayesian inference in Gaussian models"
   ]
  },
  {
   "cell_type": "markdown",
   "metadata": {},
   "source": [
    "The Gaussian (or Normal) distribution is parameterized by the mean $\\theta$ and the variance $\\sigma^2$. Assuming the variance $\\sigma^2$ is known, the likelihood takes the form:\n",
    "\n",
    "$$ p(y|\\theta) = \\frac{1}{\\sqrt{2\\pi}\\sigma}\\exp[{-\\frac{1}{2\\sigma^2}(y-\\theta)^2}]$$"
   ]
  },
  {
   "cell_type": "markdown",
   "metadata": {},
   "source": [
    "To proceed with our Bayesian reasoning, we need to specify a valid prior distribution for the Gaussian model. In this case, it turns out that the Gaussian distribution is still a valid conjugate prior. Let's prove this fact. Let's assume the prior to be Gaussian $p(\\theta)= N(\\mu_0, \\tau_0^2)$, the posterior for the parameter is \n",
    "\n",
    "$$ p(\\theta | y) = \\frac{p(y|\\theta)p(\\theta)}{p(y)} .$$\n",
    "\n",
    "Since the product of the numerator terms is\n",
    "\n",
    "\\begin{align}\n",
    "p(y|\\theta)p(\\theta) &= \\frac{1}{2\\pi\\sigma\\tau_0}\\exp[-\\frac{1}{2\\sigma^2}(y-\\theta)^2 - \\frac{1}{2\\tau_0^2}(\\theta-\\mu_0)^2],\n",
    "\\end{align}\n",
    "\n",
    "the variable of interest $\\theta$ appears only in the argument of the exponential. Therefore we can focus only on this part, as all the rest is simply a normalization term:\n",
    "\n",
    "\\begin{align}\n",
    "p(\\theta | y) &\\sim \\exp[-\\frac{1}{2\\sigma^2}(y-\\theta)^2 - \\frac{1}{2\\tau_0^2}(\\theta-\\mu_0)^2]\\\\\n",
    "&= \\exp\\left( -\\frac{ \\tau_0^2 (y-\\theta)^2 + \\sigma^2(\\theta-\\mu_0)^2}{2\\sigma^2 \\tau_0^2} \\right)\\\\\n",
    "&= \\exp\\left( -\\frac{ \\tau_0^2 (y^2 - 2y\\theta +\\theta^2) + \\sigma^2(\\theta^2 -2\\theta\\mu_0 + \\mu_0^2)}{2\\sigma^2 \\tau_0^2} \\right)\n",
    "\\end{align}\n",
    "\n"
   ]
  },
  {
   "cell_type": "markdown",
   "metadata": {},
   "source": [
    "We rearrange things to isolate the variable $\\theta$:\n",
    "\n",
    "\\begin{align}\n",
    "\\exp\\left( -\\frac{ \\tau_0^2 (y^2 - 2y\\theta +\\theta)^2 + \\sigma^2(\\theta^2 -2\\theta\\mu_0 + \\mu_0^2)}{2\\sigma^2  \\tau_0^2} \\right) &=  \\exp\\left( -\\frac{ \\theta^2 (\\sigma^2 + \\tau_0^2 ) -2 \\theta (y \\tau_0^2 + \\mu_0\\sigma^2) + \\tau_0^2 y^2 + \\sigma^2 \\mu_0^2}{2\\sigma^2  \\tau_0^2} \\right)\\\\\n",
    "&= \\exp\\left( -\\frac{1}{2}[\\theta^2 \\frac{(\\sigma^2 + \\tau_0^2 )}{\\sigma^2 \\tau_0^2} -2 \\theta \\frac{(y \\tau_0^2 + \\mu_0\\sigma^2)}{\\sigma^2 \\tau_0^2} + \\frac{\\tau_0^2 y^2 + \\sigma^2 \\mu_0^2}{\\sigma^2  \\tau_0^2}] \\right)\\\\\n",
    "&=\\exp\\left( -\\frac{1}{2} [\\theta^2 (\\frac{1}{\\sigma^2} + \\frac{1}{\\tau_0^2 }) - 2 \\theta ( \\frac{y}{\\sigma^2} + \\frac{\\mu_0}{\\tau_0^2}) +  \\frac{y^2 }{\\sigma^2} +  \\frac{\\mu_0^2}{\\tau_0^2} ]\\right)\\\\\n",
    "&= \\exp\\left( -\\frac{1}{2} [l \\theta^2  - 2 m \\theta +  n]\\right),\n",
    "\\end{align}\n",
    "\n",
    "with\n",
    "\n",
    "$$ l = \\frac{1}{\\sigma^2} + \\frac{1}{\\tau_0^2},$$\n",
    "\n",
    "$$ m =  \\frac{y}{\\sigma^2} + \\frac{\\mu_0}{\\tau_0^2},$$\n",
    "\n",
    "and\n",
    "\n",
    "$$ n = \\frac{y^2 }{\\sigma^2} +  \\frac{\\mu_0^2}{\\tau_0^2}.$$ \n"
   ]
  },
  {
   "cell_type": "markdown",
   "metadata": {},
   "source": [
    "To identify that this quantity can be indeed related to a Gaussian distribution we need do a bit of more maths. \n",
    "In general, when we identify a quadratic form \n",
    "\n",
    "$$ l \\theta^2 -2 m\\theta + n,$$ \n",
    "\n",
    "this can be related to the square \n",
    "\n",
    "$$ A (\\theta - B) ^2 + k,  $$\n",
    "\n",
    "where $A = l$, $B = \\frac{m}{l}$, and $k = n - AB^2$. Indeed we have:\n",
    "\n",
    "\\begin{align}\n",
    "A (\\theta - B) ^2 + k &= A \\theta^2 - 2AB\\theta + AB^2 + k \\\\\n",
    "&= l\\theta^2 - 2m\\theta + \\frac{m^2}{l} + n -  \\frac{m^2}{l} = l\\theta^2 - 2m\\theta + n.\n",
    "\\end{align}\n",
    "\n",
    "Our posterior can therefore be rewritten as:\n",
    "\\begin{align}\n",
    "p(\\theta|y)&\\sim \\exp\\left(-\\frac{1}{2} A (\\theta - B)^2 +k  \\right)\\\\\n",
    "&= \\exp\\left(-\\frac{1}{2} A (\\theta - B)^2\\right) \\exp\\left(k\\right)\\\\\n",
    "&\\sim \\exp\\left(-\\frac{1}{2} A (\\theta - B)^2\\right),\n",
    "\\end{align}\n",
    "where, since the term in $k$ does not depend on $\\theta$ is treated as a constant. \n",
    "We note that an exponential of this form corresponds to an un-normalized Gaussian distribution with mean $\\mu_1 = B$, and standard deviation $\\sigma_1^2 = \\frac{1}{A}$.\n",
    "\n",
    "In our case we thus obtain $p(\\theta|y)\\sim N(\\mu_1,\\sigma_1^2)$, with:\n",
    "\n",
    "$$ \\sigma_1^2 = \\frac{1}{\\frac{1}{\\sigma^2} + \\frac{1}{\\tau_0^2}},$$\n",
    "\n",
    "and\n",
    "\n",
    "$$ \\mu_1 = \\frac{\\frac{y}{\\sigma^2} + \\frac{\\mu_0}{\\tau_0^2}}{\\frac{1}{\\sigma^2} + \\frac{1}{\\tau_0^2}}.$$\n",
    "\n",
    "\n",
    "\n",
    "\n"
   ]
  },
  {
   "cell_type": "markdown",
   "metadata": {},
   "source": [
    "This expression is of interest, as it tells us that the posterior mean is the weighted average between the observations $y$, and the posterior mean $\\mu_0$. The weights are the precision associated to respectively data and prior. This is intuitive, as the more confident we are about our data, the higher the weight of the data term in the posterior distribution. \n",
    "At the extremes, when the precision of the data goes to infinity, $\\frac{1}{\\sigma^2}\\to \\infty$, the posterior mean is the data: $\\mu_1 = y$. Equivalent conclusion for the precision of the prior: $\\mu_1 = \\mu_0$, for $\\frac{1}{\\tau_o^2}\\to \\infty$."
   ]
  },
  {
   "cell_type": "markdown",
   "metadata": {},
   "source": [
    "### Multiple Gaussian obervations\n",
    "\n",
    "We now suppose to have multiple Gaussian distributed observations $\\mathbf{y} = y_1, y_2, \\ldots y_n$. Again, assuming exchangeability, we have: \n",
    "\n",
    "$$p(\\mathbf{y}) = p(y_1, y_2, \\ldots y_n) = p(y_1)p(y_2)\\ldots p(y_n).$$\n",
    "\n",
    "If $p(y_i) = N(\\theta, \\sigma^2)$\n",
    "\n",
    "$$p(\\mathbf{y}) = \\frac{1}{(2\\pi)^{\\frac{n}{2}}\\sigma^n}\\exp(\\frac{1}{2\\sigma^2}\\sum_{i=1}^n (y_i-\\theta)^2).$$\n"
   ]
  },
  {
   "cell_type": "markdown",
   "metadata": {},
   "source": [
    "As before, assuming a Gaussian prior distribution for $\\theta$, $p(\\theta) = N(\\mu_0, \\tau_0^2)$. Computing the prior, requires simply extending the computation made in the previous section, this time including the sum over the ultiple terms:\n",
    "\n",
    "$$\\sum_{i}(y_i-\\theta)^2 = \\sum_i y_i^2 - 2 \\theta \\sum_i y_i + n\\theta^2.$$\n",
    "\n",
    "It can straightforward to show that the posterior takes the form $p(\\theta|y)\\sim N(\\mu_n,\\sigma_n^2)$, with:\n",
    "\n",
    "\n",
    "$$ \\sigma_n^2 = \\frac{1}{\\frac{n}{\\sigma^2} + \\frac{1}{\\tau_0^2}},$$\n",
    "\n",
    "and,\n",
    "\n",
    "$$ \\mu_n = \\frac{\\frac{n \\bar{y}}{\\sigma^2} + \\frac{\\mu_0}{\\tau_0^2}}{\\frac{n}{\\sigma^2} + \\frac{1}{\\tau_0^2}},$$\n",
    "\n",
    "\n",
    "where $\\bar{y} = \\frac{\\sum_{i=1}^{n}y_i}{n}$, is the average of the obsrevations.\n",
    "\n",
    "\n"
   ]
  },
  {
   "cell_type": "markdown",
   "metadata": {},
   "source": [
    "**Exercise.** Given a prior $p(\\theta) = N(5,2)$, compute the posterior distribution for the data of before:"
   ]
  },
  {
   "cell_type": "code",
   "execution_count": null,
   "metadata": {},
   "outputs": [],
   "source": [
    "\n"
   ]
  },
  {
   "cell_type": "code",
   "execution_count": null,
   "metadata": {},
   "outputs": [],
   "source": []
  },
  {
   "cell_type": "markdown",
   "metadata": {},
   "source": [
    "# (next lesson) MAP: seeing the world from the tip of the mountain"
   ]
  },
  {
   "cell_type": "code",
   "execution_count": 31,
   "metadata": {},
   "outputs": [],
   "source": [
    "from scipy.optimize import minimize\n"
   ]
  },
  {
   "cell_type": "code",
   "execution_count": 32,
   "metadata": {},
   "outputs": [],
   "source": [
    "def evaluate_log_post(params, other_params, data, lik, priors):\n",
    "  \n",
    "    def f_to_minimize(params, other_params, data, lik, priors):\n",
    "        model_list = { 'gaussian' : norm, 'uniform': uniform, 'binomial' : binom}\n",
    "    \n",
    "        model_lik = model_list[lik]\n",
    "    \n",
    "        log_prior = 0\n",
    "        for i,mod in enumerate(priors):\n",
    "            log_prior += model_list[mod[0]].logpdf(params[i], *mod[1])\n",
    "        \n",
    "        if len(other_params)>0:\n",
    "            log_lik = np.sum([model_list[lik].logpdf(point, *(params,other_params)) for point in data])\n",
    "        else:\n",
    "            log_lik = np.sum([model_list[lik].logpdf(point, *(params)) for point in data])\n",
    "        return - (log_lik + log_prior)\n",
    "    \n",
    "    minimum =  minimize(f_to_minimize, params,  args = (other_params, data, lik, priors), method = 'BFGS')\n",
    "    print(minimum)\n",
    "    return [minimum.x, minimum.hess_inv]"
   ]
  },
  {
   "cell_type": "code",
   "execution_count": 33,
   "metadata": {},
   "outputs": [
    {
     "name": "stdout",
     "output_type": "stream",
     "text": [
      "      fun: 25.78037665369375\n",
      " hess_inv: array([[ 0.28679152, -0.06227237],\n",
      "       [-0.06227237,  0.15247085]])\n",
      "      jac: array([-9.05990601e-06,  7.15255737e-07])\n",
      "  message: 'Optimization terminated successfully.'\n",
      "     nfev: 36\n",
      "      nit: 6\n",
      "     njev: 9\n",
      "   status: 0\n",
      "  success: True\n",
      "        x: array([9.48854344, 1.73165722])\n",
      "[9.48854344 1.73165722] [[ 0.28679152 -0.06227237]\n",
      " [-0.06227237  0.15247085]]\n"
     ]
    }
   ],
   "source": [
    "[map_solution, inv_hess] = evaluate_log_post([10,2], [], y, 'gaussian', [['gaussian',[4,np.sqrt(4)]], ['gaussian',[2,1]]])\n",
    "#[map_solution, inv_hess] = evaluate_log_post([5,5], [], y, 'gaussian', [['gaussian',[18,np.sqrt(0.5)]], ['uniform',[1,15]]])\n",
    "\n",
    "print(map_solution, inv_hess)"
   ]
  },
  {
   "cell_type": "code",
   "execution_count": 34,
   "metadata": {},
   "outputs": [
    {
     "data": {
      "image/png": "[encoded data removed]",
      "text/plain": [
       "<Figure size 432x288 with 2 Axes>"
      ]
     },
     "metadata": {
      "needs_background": "light"
     },
     "output_type": "display_data"
    }
   ],
   "source": [
    "from scipy.stats import multivariate_normal\n",
    "approx = multivariate_normal\n",
    "\n",
    "mu = np.linspace(0,20,50)\n",
    "var = np.linspace(1,10,50)\n",
    "\n",
    "sol_space = np.ndarray([len(var),len(mu)])\n",
    "\n",
    "for i,m in enumerate(mu):\n",
    "    for j,v in enumerate(var):\n",
    "        sol_space[i,j] = approx.logpdf([m,v], map_solution, (inv_hess))\n",
    "\n",
    "\n",
    "ax = plt.gca()\n",
    "img_map = ax.imshow(sol_space, cmap='jet', interpolation='nearest', extent = [0,1,0,1])        \n",
    "\n",
    "#plt.imshow(sol_space)\n",
    "plt.title('log-posterior (unnormalized)')\n",
    "plt.ylabel(r'$\\mu$')\n",
    "plt.xlabel(r'$\\sigma^2$')\n",
    "\n",
    "plt.colorbar(img_map)\n",
    "\n",
    "ax.set_xticks(np.linspace(0,1,len(var)))\n",
    "ax.set_xticklabels([str(round(i,1)) for i in var])\n",
    "plt.xticks(rotation=90)\n",
    "\n",
    "ax.set_yticks(np.linspace(0,1,len(mu)))\n",
    "ax.set_yticklabels([str(round(i,1)) for i in mu[::-1]])\n",
    "\n",
    "plt.show()\n",
    "\n",
    "\n",
    "from scipy.stats import multivariate_normal\n",
    "\n",
    "approx = multivariate_normal"
   ]
  },
  {
   "cell_type": "code",
   "execution_count": 35,
   "metadata": {},
   "outputs": [
    {
     "name": "stdout",
     "output_type": "stream",
     "text": [
      "      fun: 23.561311003104727\n",
      " hess_inv: array([[1]])\n",
      "      jac: array([0.])\n",
      "  message: 'Optimization terminated successfully.'\n",
      "     nfev: 9\n",
      "      nit: 1\n",
      "     njev: 3\n",
      "   status: 0\n",
      "  success: True\n",
      "        x: array([9.59123916])\n"
     ]
    },
    {
     "data": {
      "image/png": "[encoded data removed]",
      "text/plain": [
       "<Figure size 432x288 with 1 Axes>"
      ]
     },
     "metadata": {
      "needs_background": "light"
     },
     "output_type": "display_data"
    }
   ],
   "source": [
    "# Back to the example: posterior for the mean with fixed variance\n",
    "[map_solution, inv_hess] = evaluate_log_post([10],  [np.sqrt(y_var)],  y, 'gaussian', [['gaussian',[5,np.sqrt(4)]]])\n",
    "\n",
    "x = np.arange(0,20,0.1)\n",
    "plt.plot(x, approx.pdf(x,map_solution, (inv_hess)), label = 'posterior')\n",
    "plt.axvline(y_mean, color = 'black', ls = '-', lw = 2, label= 'y_mean')\n",
    "plt.title('Distribution of target positions')\n",
    "\n",
    "[plt.axvline(sample, ls = '--', lw = 0.5) for sample in y]\n",
    "plt.axvline(y[0], ls = '--', lw = 0.5, label= 'data')\n",
    "plt.legend()\n",
    "plt.show()"
   ]
  },
  {
   "cell_type": "code",
   "execution_count": null,
   "metadata": {},
   "outputs": [],
   "source": []
  },
  {
   "cell_type": "code",
   "execution_count": null,
   "metadata": {},
   "outputs": [],
   "source": []
  }
 ],
 "metadata": {
  "kernelspec": {
   "display_name": "Python 3.9.14 64-bit",
   "language": "python",
   "name": "python3"
  },
  "language_info": {
   "codemirror_mode": {
    "name": "ipython",
    "version": 3
   },
   "file_extension": ".py",
   "mimetype": "text/x-python",
   "name": "python",
   "nbconvert_exporter": "python",
   "pygments_lexer": "ipython3",
   "version": "3.9.14"
  },
  "vscode": {
   "interpreter": {
    "hash": "36cf16204b8548560b1c020c4e8fb5b57f0e4c58016f52f2d4be01e192833930"
   }
  }
 },
 "nbformat": 4,
 "nbformat_minor": 4
}

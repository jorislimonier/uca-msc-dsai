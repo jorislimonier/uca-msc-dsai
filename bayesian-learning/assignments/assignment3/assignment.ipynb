{
 "cells": [
  {
   "cell_type": "markdown",
   "metadata": {},
   "source": [
    "# Assignment 3\n",
    "\n",
    "**Joris LIMONIER**\n",
    "\n",
    "_Note:_ For scrolling-time reasons, this notebook only contains calls to functions. The actual core of function is in the `assignment_utils.py` file.\n"
   ]
  },
  {
   "cell_type": "markdown",
   "metadata": {
    "collapsed": true
   },
   "source": [
    "## Exercise\n",
    "\n",
    "In this exercise, you will use the ADNI dataset from the past lesson.\n",
    "\n",
    "---\n",
    "\n",
    "### Preparation\n",
    "\n",
    "We first load the data.\n"
   ]
  },
  {
   "cell_type": "code",
   "execution_count": 15,
   "metadata": {},
   "outputs": [
    {
     "name": "stdout",
     "output_type": "stream",
     "text": [
      "The autoreload extension is already loaded. To reload it, use:\n",
      "  %reload_ext autoreload\n"
     ]
    }
   ],
   "source": [
    "import pandas as pd\n",
    "import numpy as np\n",
    "import stan\n",
    "from assignment_utils import *\n",
    "\n",
    "%load_ext autoreload\n",
    "%autoreload 2"
   ]
  },
  {
   "cell_type": "code",
   "execution_count": 16,
   "metadata": {},
   "outputs": [
    {
     "data": {
      "text/html": [
       "<div>\n",
       "<style scoped>\n",
       "    .dataframe tbody tr th:only-of-type {\n",
       "        vertical-align: middle;\n",
       "    }\n",
       "\n",
       "    .dataframe tbody tr th {\n",
       "        vertical-align: top;\n",
       "    }\n",
       "\n",
       "    .dataframe thead th {\n",
       "        text-align: right;\n",
       "    }\n",
       "</style>\n",
       "<table border=\"1\" class=\"dataframe\">\n",
       "  <thead>\n",
       "    <tr style=\"text-align: right;\">\n",
       "      <th></th>\n",
       "      <th>RID</th>\n",
       "      <th>APOE4</th>\n",
       "      <th>DX</th>\n",
       "      <th>AGE</th>\n",
       "      <th>WholeBrain.bl</th>\n",
       "      <th>ICV</th>\n",
       "      <th>norm_brain</th>\n",
       "    </tr>\n",
       "  </thead>\n",
       "  <tbody>\n",
       "    <tr>\n",
       "      <th>count</th>\n",
       "      <td>826.000000</td>\n",
       "      <td>826.000000</td>\n",
       "      <td>826.000000</td>\n",
       "      <td>826.000000</td>\n",
       "      <td>8.260000e+02</td>\n",
       "      <td>8.260000e+02</td>\n",
       "      <td>826.000000</td>\n",
       "    </tr>\n",
       "    <tr>\n",
       "      <th>mean</th>\n",
       "      <td>2686.322034</td>\n",
       "      <td>0.525424</td>\n",
       "      <td>0.388620</td>\n",
       "      <td>74.451574</td>\n",
       "      <td>1.011453e+06</td>\n",
       "      <td>1.521185e+06</td>\n",
       "      <td>-0.001905</td>\n",
       "    </tr>\n",
       "    <tr>\n",
       "      <th>std</th>\n",
       "      <td>2062.148046</td>\n",
       "      <td>0.658710</td>\n",
       "      <td>0.487732</td>\n",
       "      <td>6.648689</td>\n",
       "      <td>1.113623e+05</td>\n",
       "      <td>1.680556e+05</td>\n",
       "      <td>1.000892</td>\n",
       "    </tr>\n",
       "    <tr>\n",
       "      <th>min</th>\n",
       "      <td>2.000000</td>\n",
       "      <td>0.000000</td>\n",
       "      <td>0.000000</td>\n",
       "      <td>55.100000</td>\n",
       "      <td>7.274780e+05</td>\n",
       "      <td>1.100687e+06</td>\n",
       "      <td>-2.765395</td>\n",
       "    </tr>\n",
       "    <tr>\n",
       "      <th>25%</th>\n",
       "      <td>673.250000</td>\n",
       "      <td>0.000000</td>\n",
       "      <td>0.000000</td>\n",
       "      <td>70.500000</td>\n",
       "      <td>9.329465e+05</td>\n",
       "      <td>1.396231e+06</td>\n",
       "      <td>-0.719043</td>\n",
       "    </tr>\n",
       "    <tr>\n",
       "      <th>50%</th>\n",
       "      <td>2718.000000</td>\n",
       "      <td>0.000000</td>\n",
       "      <td>0.000000</td>\n",
       "      <td>74.150000</td>\n",
       "      <td>1.008351e+06</td>\n",
       "      <td>1.504898e+06</td>\n",
       "      <td>0.022915</td>\n",
       "    </tr>\n",
       "    <tr>\n",
       "      <th>75%</th>\n",
       "      <td>4690.500000</td>\n",
       "      <td>1.000000</td>\n",
       "      <td>1.000000</td>\n",
       "      <td>78.900000</td>\n",
       "      <td>1.087573e+06</td>\n",
       "      <td>1.634110e+06</td>\n",
       "      <td>0.684545</td>\n",
       "    </tr>\n",
       "    <tr>\n",
       "      <th>max</th>\n",
       "      <td>5296.000000</td>\n",
       "      <td>2.000000</td>\n",
       "      <td>1.000000</td>\n",
       "      <td>90.900000</td>\n",
       "      <td>1.486036e+06</td>\n",
       "      <td>2.057399e+06</td>\n",
       "      <td>3.236658</td>\n",
       "    </tr>\n",
       "  </tbody>\n",
       "</table>\n",
       "</div>"
      ],
      "text/plain": [
       "               RID       APOE4          DX         AGE  WholeBrain.bl  \\\n",
       "count   826.000000  826.000000  826.000000  826.000000   8.260000e+02   \n",
       "mean   2686.322034    0.525424    0.388620   74.451574   1.011453e+06   \n",
       "std    2062.148046    0.658710    0.487732    6.648689   1.113623e+05   \n",
       "min       2.000000    0.000000    0.000000   55.100000   7.274780e+05   \n",
       "25%     673.250000    0.000000    0.000000   70.500000   9.329465e+05   \n",
       "50%    2718.000000    0.000000    0.000000   74.150000   1.008351e+06   \n",
       "75%    4690.500000    1.000000    1.000000   78.900000   1.087573e+06   \n",
       "max    5296.000000    2.000000    1.000000   90.900000   1.486036e+06   \n",
       "\n",
       "                ICV  norm_brain  \n",
       "count  8.260000e+02  826.000000  \n",
       "mean   1.521185e+06   -0.001905  \n",
       "std    1.680556e+05    1.000892  \n",
       "min    1.100687e+06   -2.765395  \n",
       "25%    1.396231e+06   -0.719043  \n",
       "50%    1.504898e+06    0.022915  \n",
       "75%    1.634110e+06    0.684545  \n",
       "max    2.057399e+06    3.236658  "
      ]
     },
     "execution_count": 16,
     "metadata": {},
     "output_type": "execute_result"
    }
   ],
   "source": [
    "adni = ADNI()\n",
    "adni.diag.describe()\n"
   ]
  },
  {
   "cell_type": "code",
   "execution_count": null,
   "metadata": {},
   "outputs": [],
   "source": []
  },
  {
   "cell_type": "markdown",
   "metadata": {},
   "source": [
    "---\n"
   ]
  },
  {
   "cell_type": "markdown",
   "metadata": {},
   "source": [
    "### Question 1\n",
    "\n",
    "Fit a model to predict the diagnosis (DX) of the subjects using both AGE and APOE4 as predictors.\n",
    "#### Answer\n"
   ]
  },
  {
   "cell_type": "code",
   "execution_count": 18,
   "metadata": {},
   "outputs": [
    {
     "ename": "RuntimeError",
     "evalue": "asyncio.run() cannot be called from a running event loop",
     "output_type": "error",
     "traceback": [
      "\u001b[0;31m---------------------------------------------------------------------------\u001b[0m",
      "\u001b[0;31mRuntimeError\u001b[0m                              Traceback (most recent call last)",
      "Cell \u001b[0;32mIn [18], line 1\u001b[0m\n\u001b[0;32m----> 1\u001b[0m adni\u001b[39m.\u001b[39mtwo_feat_pred(feat\u001b[39m=\u001b[39m[\u001b[39m\"\u001b[39m\u001b[39mAGE\u001b[39m\u001b[39m\"\u001b[39m, \u001b[39m\"\u001b[39m\u001b[39mAPOE4\u001b[39m\u001b[39m\"\u001b[39m])\n",
      "File \u001b[0;32m/media/joris/uca-msc-dsai/bayesian-learning/assignments/assignment3/assignment_utils.py:72\u001b[0m, in \u001b[0;36mADNI.two_feat_pred\u001b[0;34m(self, feat, target)\u001b[0m\n\u001b[1;32m     65\u001b[0m data_to_stan \u001b[39m=\u001b[39m \u001b[39mdict\u001b[39m(\n\u001b[1;32m     66\u001b[0m   x1\u001b[39m=\u001b[39mnp\u001b[39m.\u001b[39marray(\u001b[39mself\u001b[39m\u001b[39m.\u001b[39mdiag[feat1]),\n\u001b[1;32m     67\u001b[0m   x2\u001b[39m=\u001b[39mnp\u001b[39m.\u001b[39marray(\u001b[39mself\u001b[39m\u001b[39m.\u001b[39mdiag[feat2]),\n\u001b[1;32m     68\u001b[0m   y\u001b[39m=\u001b[39mnp\u001b[39m.\u001b[39marray(\u001b[39mself\u001b[39m\u001b[39m.\u001b[39mdiag[target]),\n\u001b[1;32m     69\u001b[0m   N\u001b[39m=\u001b[39m\u001b[39mlen\u001b[39m(\u001b[39mself\u001b[39m\u001b[39m.\u001b[39mdiag[target]),\n\u001b[1;32m     70\u001b[0m )\n\u001b[1;32m     71\u001b[0m seed \u001b[39m=\u001b[39m \u001b[39m42\u001b[39m\n\u001b[0;32m---> 72\u001b[0m posterior \u001b[39m=\u001b[39m stan\u001b[39m.\u001b[39;49mbuild(\n\u001b[1;32m     73\u001b[0m   program_code\u001b[39m=\u001b[39;49mcode_to_stan,\n\u001b[1;32m     74\u001b[0m   data\u001b[39m=\u001b[39;49mdata_to_stan,\n\u001b[1;32m     75\u001b[0m   random_seed\u001b[39m=\u001b[39;49mseed,\n\u001b[1;32m     76\u001b[0m )\n",
      "File \u001b[0;32m~/.local/lib/python3.10/site-packages/stan/model.py:519\u001b[0m, in \u001b[0;36mbuild\u001b[0;34m(program_code, data, random_seed)\u001b[0m\n\u001b[1;32m    516\u001b[0m         \u001b[39mreturn\u001b[39;00m Model(model_name, program_code, data, param_names, constrained_param_names, dims, random_seed)\n\u001b[1;32m    518\u001b[0m \u001b[39mtry\u001b[39;00m:\n\u001b[0;32m--> 519\u001b[0m     \u001b[39mreturn\u001b[39;00m asyncio\u001b[39m.\u001b[39;49mrun(go())\n\u001b[1;32m    520\u001b[0m \u001b[39mexcept\u001b[39;00m \u001b[39mKeyboardInterrupt\u001b[39;00m:\n\u001b[1;32m    521\u001b[0m     \u001b[39mreturn\u001b[39;00m\n",
      "File \u001b[0;32m/usr/lib/python3.10/asyncio/runners.py:33\u001b[0m, in \u001b[0;36mrun\u001b[0;34m(main, debug)\u001b[0m\n\u001b[1;32m      9\u001b[0m \u001b[39m\"\"\"Execute the coroutine and return the result.\u001b[39;00m\n\u001b[1;32m     10\u001b[0m \n\u001b[1;32m     11\u001b[0m \u001b[39mThis function runs the passed coroutine, taking care of\u001b[39;00m\n\u001b[0;32m   (...)\u001b[0m\n\u001b[1;32m     30\u001b[0m \u001b[39m    asyncio.run(main())\u001b[39;00m\n\u001b[1;32m     31\u001b[0m \u001b[39m\"\"\"\u001b[39;00m\n\u001b[1;32m     32\u001b[0m \u001b[39mif\u001b[39;00m events\u001b[39m.\u001b[39m_get_running_loop() \u001b[39mis\u001b[39;00m \u001b[39mnot\u001b[39;00m \u001b[39mNone\u001b[39;00m:\n\u001b[0;32m---> 33\u001b[0m     \u001b[39mraise\u001b[39;00m \u001b[39mRuntimeError\u001b[39;00m(\n\u001b[1;32m     34\u001b[0m         \u001b[39m\"\u001b[39m\u001b[39masyncio.run() cannot be called from a running event loop\u001b[39m\u001b[39m\"\u001b[39m)\n\u001b[1;32m     36\u001b[0m \u001b[39mif\u001b[39;00m \u001b[39mnot\u001b[39;00m coroutines\u001b[39m.\u001b[39miscoroutine(main):\n\u001b[1;32m     37\u001b[0m     \u001b[39mraise\u001b[39;00m \u001b[39mValueError\u001b[39;00m(\u001b[39m\"\u001b[39m\u001b[39ma coroutine was expected, got \u001b[39m\u001b[39m{!r}\u001b[39;00m\u001b[39m\"\u001b[39m\u001b[39m.\u001b[39mformat(main))\n",
      "\u001b[0;31mRuntimeError\u001b[0m: asyncio.run() cannot be called from a running event loop"
     ]
    }
   ],
   "source": [
    "adni.two_feat_pred(feat=[\"AGE\", \"APOE4\"])"
   ]
  },
  {
   "cell_type": "markdown",
   "metadata": {},
   "source": [
    "---\n"
   ]
  },
  {
   "cell_type": "markdown",
   "metadata": {},
   "source": [
    "### Question 2\n",
    "\n",
    "Consider subjects who are 80 years old and check the effect of the APOE4 gene on the diagnosis.\n",
    "\n",
    "#### Answer\n",
    "\n",
    "Hint: You'll draw many samples from two binomial distributions. One where APOE4 is included in the computation of $p_i$ and one where it's not.\n"
   ]
  },
  {
   "cell_type": "markdown",
   "metadata": {},
   "source": [
    "---\n"
   ]
  },
  {
   "cell_type": "markdown",
   "metadata": {},
   "source": [
    "\n",
    "### Question 3\n",
    "\n",
    "In the last lesson, we fitted a model to predict the diagnosis using only the size of the brain (norm_brain). Compare this model and the one of question 1 in terms of WAIC. Is one better than the other ?\n",
    "\n",
    "#### Answer\n"
   ]
  },
  {
   "cell_type": "code",
   "execution_count": null,
   "metadata": {},
   "outputs": [],
   "source": []
  }
 ],
 "metadata": {
  "kernelspec": {
   "display_name": "Python 3.10.6 64-bit",
   "language": "python",
   "name": "python3"
  },
  "language_info": {
   "codemirror_mode": {
    "name": "ipython",
    "version": 3
   },
   "file_extension": ".py",
   "mimetype": "text/x-python",
   "name": "python",
   "nbconvert_exporter": "python",
   "pygments_lexer": "ipython3",
   "version": "3.10.6"
  },
  "vscode": {
   "interpreter": {
    "hash": "916dbcbb3f70747c44a77c7bcd40155683ae19c65e1c03b4aa3499c5328201f1"
   }
  }
 },
 "nbformat": 4,
 "nbformat_minor": 2
}

{
 "cells": [
  {
   "cell_type": "markdown",
   "metadata": {},
   "source": [
    "# Assignment 3\n",
    "\n",
    "**Joris LIMONIER**\n",
    "\n",
    "_Note:_ For scrolling-time reasons, this notebook only contains calls to functions. The actual core of function is in the `assignment_utils.py` file.\n"
   ]
  },
  {
   "cell_type": "markdown",
   "metadata": {
    "collapsed": true
   },
   "source": [
    "## Exercise\n",
    "\n",
    "In this exercise, you will use the ADNI dataset from the past lesson.\n",
    "\n",
    "---\n",
    "\n",
    "### Preparation\n",
    "\n",
    "We first load the data.\n"
   ]
  },
  {
   "cell_type": "code",
   "execution_count": 1,
   "metadata": {},
   "outputs": [],
   "source": [
    "import pandas as pd\n",
    "import numpy as np\n",
    "import stan\n",
    "from assignment_utils import *\n",
    "\n",
    "%load_ext autoreload\n",
    "%autoreload 2"
   ]
  },
  {
   "cell_type": "code",
   "execution_count": 2,
   "metadata": {},
   "outputs": [
    {
     "data": {
      "text/html": [
       "<div>\n",
       "<style scoped>\n",
       "    .dataframe tbody tr th:only-of-type {\n",
       "        vertical-align: middle;\n",
       "    }\n",
       "\n",
       "    .dataframe tbody tr th {\n",
       "        vertical-align: top;\n",
       "    }\n",
       "\n",
       "    .dataframe thead th {\n",
       "        text-align: right;\n",
       "    }\n",
       "</style>\n",
       "<table border=\"1\" class=\"dataframe\">\n",
       "  <thead>\n",
       "    <tr style=\"text-align: right;\">\n",
       "      <th></th>\n",
       "      <th>RID</th>\n",
       "      <th>APOE4</th>\n",
       "      <th>DX</th>\n",
       "      <th>AGE</th>\n",
       "      <th>WholeBrain.bl</th>\n",
       "      <th>ICV</th>\n",
       "      <th>norm_brain</th>\n",
       "    </tr>\n",
       "  </thead>\n",
       "  <tbody>\n",
       "    <tr>\n",
       "      <th>count</th>\n",
       "      <td>826.000000</td>\n",
       "      <td>826.000000</td>\n",
       "      <td>826.000000</td>\n",
       "      <td>826.000000</td>\n",
       "      <td>8.260000e+02</td>\n",
       "      <td>8.260000e+02</td>\n",
       "      <td>826.000000</td>\n",
       "    </tr>\n",
       "    <tr>\n",
       "      <th>mean</th>\n",
       "      <td>2686.322034</td>\n",
       "      <td>0.525424</td>\n",
       "      <td>0.388620</td>\n",
       "      <td>74.451574</td>\n",
       "      <td>1.011453e+06</td>\n",
       "      <td>1.521185e+06</td>\n",
       "      <td>-0.001905</td>\n",
       "    </tr>\n",
       "    <tr>\n",
       "      <th>std</th>\n",
       "      <td>2062.148046</td>\n",
       "      <td>0.658710</td>\n",
       "      <td>0.487732</td>\n",
       "      <td>6.648689</td>\n",
       "      <td>1.113623e+05</td>\n",
       "      <td>1.680556e+05</td>\n",
       "      <td>1.000892</td>\n",
       "    </tr>\n",
       "    <tr>\n",
       "      <th>min</th>\n",
       "      <td>2.000000</td>\n",
       "      <td>0.000000</td>\n",
       "      <td>0.000000</td>\n",
       "      <td>55.100000</td>\n",
       "      <td>7.274780e+05</td>\n",
       "      <td>1.100687e+06</td>\n",
       "      <td>-2.765395</td>\n",
       "    </tr>\n",
       "    <tr>\n",
       "      <th>25%</th>\n",
       "      <td>673.250000</td>\n",
       "      <td>0.000000</td>\n",
       "      <td>0.000000</td>\n",
       "      <td>70.500000</td>\n",
       "      <td>9.329465e+05</td>\n",
       "      <td>1.396231e+06</td>\n",
       "      <td>-0.719043</td>\n",
       "    </tr>\n",
       "    <tr>\n",
       "      <th>50%</th>\n",
       "      <td>2718.000000</td>\n",
       "      <td>0.000000</td>\n",
       "      <td>0.000000</td>\n",
       "      <td>74.150000</td>\n",
       "      <td>1.008351e+06</td>\n",
       "      <td>1.504898e+06</td>\n",
       "      <td>0.022915</td>\n",
       "    </tr>\n",
       "    <tr>\n",
       "      <th>75%</th>\n",
       "      <td>4690.500000</td>\n",
       "      <td>1.000000</td>\n",
       "      <td>1.000000</td>\n",
       "      <td>78.900000</td>\n",
       "      <td>1.087573e+06</td>\n",
       "      <td>1.634110e+06</td>\n",
       "      <td>0.684545</td>\n",
       "    </tr>\n",
       "    <tr>\n",
       "      <th>max</th>\n",
       "      <td>5296.000000</td>\n",
       "      <td>2.000000</td>\n",
       "      <td>1.000000</td>\n",
       "      <td>90.900000</td>\n",
       "      <td>1.486036e+06</td>\n",
       "      <td>2.057399e+06</td>\n",
       "      <td>3.236658</td>\n",
       "    </tr>\n",
       "  </tbody>\n",
       "</table>\n",
       "</div>"
      ],
      "text/plain": [
       "               RID       APOE4          DX         AGE  WholeBrain.bl  \\\n",
       "count   826.000000  826.000000  826.000000  826.000000   8.260000e+02   \n",
       "mean   2686.322034    0.525424    0.388620   74.451574   1.011453e+06   \n",
       "std    2062.148046    0.658710    0.487732    6.648689   1.113623e+05   \n",
       "min       2.000000    0.000000    0.000000   55.100000   7.274780e+05   \n",
       "25%     673.250000    0.000000    0.000000   70.500000   9.329465e+05   \n",
       "50%    2718.000000    0.000000    0.000000   74.150000   1.008351e+06   \n",
       "75%    4690.500000    1.000000    1.000000   78.900000   1.087573e+06   \n",
       "max    5296.000000    2.000000    1.000000   90.900000   1.486036e+06   \n",
       "\n",
       "                ICV  norm_brain  \n",
       "count  8.260000e+02  826.000000  \n",
       "mean   1.521185e+06   -0.001905  \n",
       "std    1.680556e+05    1.000892  \n",
       "min    1.100687e+06   -2.765395  \n",
       "25%    1.396231e+06   -0.719043  \n",
       "50%    1.504898e+06    0.022915  \n",
       "75%    1.634110e+06    0.684545  \n",
       "max    2.057399e+06    3.236658  "
      ]
     },
     "execution_count": 2,
     "metadata": {},
     "output_type": "execute_result"
    }
   ],
   "source": [
    "adni = ADNI()\n",
    "adni.diag.describe()\n"
   ]
  },
  {
   "cell_type": "code",
   "execution_count": null,
   "metadata": {},
   "outputs": [],
   "source": []
  },
  {
   "cell_type": "markdown",
   "metadata": {},
   "source": [
    "---\n"
   ]
  },
  {
   "cell_type": "markdown",
   "metadata": {},
   "source": [
    "### Question 1\n",
    "\n",
    "Fit a model to predict the diagnosis (DX) of the subjects using both AGE and APOE4 as predictors.\n",
    "#### Answer\n"
   ]
  },
  {
   "cell_type": "code",
   "execution_count": 3,
   "metadata": {},
   "outputs": [
    {
     "name": "stdout",
     "output_type": "stream",
     "text": [
      "Building...\n"
     ]
    },
    {
     "name": "stderr",
     "output_type": "stream",
     "text": [
      "\n",
      "Building: found in cache, done.Messages from stanc:\n",
      "Warning in '/tmp/httpstan_e9ufylh8/model_zpt6d3lm.stan', line 4, column 6: Declaration\n",
      "    of arrays by placing brackets after a variable name is deprecated and\n",
      "    will be removed in Stan 2.32.0. Instead use the array keyword before the\n",
      "    type. This can be changed automatically using the auto-format flag to\n",
      "    stanc\n",
      "Warning in '/tmp/httpstan_e9ufylh8/model_zpt6d3lm.stan', line 5, column 6: Declaration\n",
      "    of arrays by placing brackets after a variable name is deprecated and\n",
      "    will be removed in Stan 2.32.0. Instead use the array keyword before the\n",
      "    type. This can be changed automatically using the auto-format flag to\n",
      "    stanc\n",
      "Warning in '/tmp/httpstan_e9ufylh8/model_zpt6d3lm.stan', line 6, column 6: Declaration\n",
      "    of arrays by placing brackets after a variable name is deprecated and\n",
      "    will be removed in Stan 2.32.0. Instead use the array keyword before the\n",
      "    type. This can be changed automatically using the auto-format flag to\n",
      "    stanc\n"
     ]
    }
   ],
   "source": [
    "adni.two_feat_pred(feat=[\"AGE\", \"APOE4\"])"
   ]
  },
  {
   "cell_type": "markdown",
   "metadata": {},
   "source": [
    "---\n"
   ]
  },
  {
   "cell_type": "markdown",
   "metadata": {},
   "source": [
    "### Question 2\n",
    "\n",
    "Consider subjects who are 80 years old and check the effect of the APOE4 gene on the diagnosis.\n",
    "\n",
    "#### Answer\n",
    "\n",
    "Hint: You'll draw many samples from two binomial distributions. One where APOE4 is included in the computation of $p_i$ and one where it's not.\n"
   ]
  },
  {
   "cell_type": "markdown",
   "metadata": {},
   "source": [
    "---\n"
   ]
  },
  {
   "cell_type": "markdown",
   "metadata": {},
   "source": [
    "\n",
    "### Question 3\n",
    "\n",
    "In the last lesson, we fitted a model to predict the diagnosis using only the size of the brain (norm_brain). Compare this model and the one of question 1 in terms of WAIC. Is one better than the other ?\n",
    "\n",
    "#### Answer\n"
   ]
  },
  {
   "cell_type": "code",
   "execution_count": null,
   "metadata": {},
   "outputs": [],
   "source": []
  }
 ],
 "metadata": {
  "kernelspec": {
   "display_name": "Python 3.10.6 64-bit",
   "language": "python",
   "name": "python3"
  },
  "language_info": {
   "codemirror_mode": {
    "name": "ipython",
    "version": 3
   },
   "file_extension": ".py",
   "mimetype": "text/x-python",
   "name": "python",
   "nbconvert_exporter": "python",
   "pygments_lexer": "ipython3",
   "version": "3.10.6"
  },
  "vscode": {
   "interpreter": {
    "hash": "916dbcbb3f70747c44a77c7bcd40155683ae19c65e1c03b4aa3499c5328201f1"
   }
  }
 },
 "nbformat": 4,
 "nbformat_minor": 2
}

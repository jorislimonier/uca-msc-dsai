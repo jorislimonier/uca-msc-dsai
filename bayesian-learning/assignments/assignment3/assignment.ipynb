{
 "cells": [
  {
   "cell_type": "markdown",
   "metadata": {},
   "source": [
    "# Assignment 3"
   ]
  },
  {
   "cell_type": "markdown",
   "metadata": {
    "collapsed": true
   },
   "source": [
    "**Exercise**\n",
    "\n",
    "\n",
    "In this exercise, you will use the ADNI dataset from the past lesson."
   ]
  },
  {
   "cell_type": "code",
   "execution_count": null,
   "metadata": {},
   "outputs": [],
   "source": [
    "import pandas as pd\n",
    "import numpy as np\n",
    "\n",
    "data = pd.read_csv(\"adni_data\")\n",
    "pd.set_option(\"mode.chained_assignment\", None)\n",
    "\n",
    "data_ct_ad = data.query(\"DX == 1 | DX == 3\")\n",
    "data_ct_ad[\"DX\"] = data_ct_ad[\"DX\"].map({1: 0, 3: 1})\n",
    "\n",
    "data_ct_ad[\"norm_brain\"] = data_ct_ad[\"WholeBrain.bl\"] / data_ct_ad[\"ICV\"]\n",
    "data_ct_ad[\"norm_brain\"] = (\n",
    "  data_ct_ad[\"norm_brain\"] - np.mean(data_ct_ad[\"norm_brain\"])\n",
    ") / np.std(data_ct_ad[\"norm_brain\"])\n",
    "data_ct_ad.dropna(inplace=True)\n",
    "\n",
    "\n",
    "print(data_ct_ad[:5])\n"
   ]
  },
  {
   "cell_type": "markdown",
   "metadata": {},
   "source": [
    "**1) Fit a model to predict the diagnosis (DX) of the subjects using both AGE and APOE4 as predictors.**"
   ]
  },
  {
   "cell_type": "markdown",
   "metadata": {},
   "source": [
    "**2) Consider subjects who are 80 years old and check the effect of the APOE4 gene on the diagnosis.**\n",
    "\n",
    "Hint: You'll draw many samples from two binomial distributions. One where APOE4 is included in the computation of $p_i$ and one where it's not."
   ]
  },
  {
   "cell_type": "markdown",
   "metadata": {},
   "source": [
    "**3) In the last lesson, we fitted a model to predict the diagnosis using only the size of the brain (norm_brain). Compare this model and the one of question 1 in terms of WAIC. Is one better than the other ?**"
   ]
  },
  {
   "cell_type": "code",
   "execution_count": null,
   "metadata": {},
   "outputs": [],
   "source": []
  }
 ],
 "metadata": {
  "kernelspec": {
   "display_name": "Python 3.10.6 64-bit",
   "language": "python",
   "name": "python3"
  },
  "language_info": {
   "codemirror_mode": {
    "name": "ipython",
    "version": 3
   },
   "file_extension": ".py",
   "mimetype": "text/x-python",
   "name": "python",
   "nbconvert_exporter": "python",
   "pygments_lexer": "ipython3",
   "version": "3.10.6"
  },
  "vscode": {
   "interpreter": {
    "hash": "916dbcbb3f70747c44a77c7bcd40155683ae19c65e1c03b4aa3499c5328201f1"
   }
  }
 },
 "nbformat": 4,
 "nbformat_minor": 2
}

{
 "cells": [
  {
   "cell_type": "code",
   "execution_count": 4,
   "metadata": {},
   "outputs": [
    {
     "name": "stdout",
     "output_type": "stream",
     "text": [
      "The autoreload extension is already loaded. To reload it, use:\n",
      "  %reload_ext autoreload\n"
     ]
    }
   ],
   "source": [
    "from assignment_utils import *\n",
    "\n",
    "%load_ext autoreload\n",
    "%autoreload 2"
   ]
  },
  {
   "cell_type": "markdown",
   "metadata": {},
   "source": [
    "# Assignments 2\n",
    "\n",
    "\n",
    "## Exercise 1\n",
    "Consider the model:\n",
    "\n",
    "$$p(x|\\theta)\\propto \\frac{1}{\\sqrt{2\\pi}}\\exp(-\\frac{(x_1-\\theta)^2+(x_2-\\theta)^2}{2})$$\n",
    "\n",
    "Find a Laplace approximation for this model, as seen for the Binomal model, and plot the resulting Gaussian approximation. Can you relate this model to the posterior of the mean of a Gaussian as seen in class (Lesson 3)?"
   ]
  },
  {
   "cell_type": "markdown",
   "metadata": {},
   "source": [
    "___\n",
    "### Find Laplace approximation\n",
    "\n",
    "Let $f$ be defined as follows:\n",
    "$$\n",
    "p(x|\\theta)\\propto \\frac{1}{\\sqrt{2\\pi}}\\exp(-\\frac{(x_1-\\theta)^2+(x_2-\\theta)^2}{2})\n",
    "$$\n",
    "We define $g$ to be the function satisfying:\n",
    "$$\n",
    "f(x) = \\exp(\\log(f(x))) = \\exp(g(\\theta))\n",
    "$$\n",
    "From the Taylor expansion in a maximum of both $f$ and $g$ in $\\theta = \\theta_0$, we get:\n",
    "\\begin{align*}\n",
    "\\begin{cases}\n",
    "g(\\theta) = g(\\theta_0) + g'(\\theta_0)(\\theta-\\theta_0) + \\frac{1}{2}g''(\\theta_0)(\\theta-\\theta_0)^2 + O((\\theta - \\theta_0)^3)\\\\\n",
    "g'(\\theta_0) = 0 \\\\\n",
    "\\end{cases}\n",
    "\\end{align*}\n",
    "Therefore:\n",
    "\\begin{align*}\n",
    "g(\\theta) &\\approx g(\\theta_0) + \\frac{1}{2}g''(\\theta_0)(\\theta-\\theta_0)^2 \\\\\n",
    "f(\\theta) &\\approx f(\\theta_0) \\exp\\left[\\frac{1}{2}g''(\\theta_0)(\\theta-\\theta_0)^2\\right]\n",
    "\\end{align*}\n",
    "We recognize that the last term is the PDF of a Normal distribution:\n",
    "$$\n",
    "\\mathcal{N}\\left(\\theta_0, \\frac{-1}{g''(\\theta_0)}\\right)\n",
    "$$\n",
    "We find the maximum of the function by computing the derivative with respect to $\\theta$ and equating to 0. We compute the derivative:\n",
    "\\begin{align*}\n",
    "\\frac{\\partial}{\\partial \\theta} g(\\theta)\n",
    "&= \\frac{\\partial}{\\partial \\theta} \\log f(\\theta) \\\\\n",
    "&= \\frac{\\partial}{\\partial \\theta} \\left[ \\left( \\log \\frac{1}{\\sqrt{2\\pi}} \\right) -\\frac{(x_1-\\theta)^2+(x_2-\\theta)^2}{2} \\right] \\\\\n",
    "&= -\\frac{-2(x_1-\\theta)-2(x_2-\\theta)}{2} \\\\\n",
    "&= x_1+x_2-2\\theta \\\\\n",
    "\\end{align*}\n",
    "Now wet equate to 0:\n",
    "\\begin{align*}\n",
    "&\\frac{\\partial}{\\partial \\theta} g(\\theta_0) = 0 \\\\\n",
    "\\implies&\n",
    "x_1+x_2-2\\theta_0 = 0 \\\\\n",
    "\\implies&\n",
    "\\theta_0 = \\frac{x_1 + x_2}{2} \\\\\n",
    "\\end{align*}\n",
    "This gives us the mean of the normal distribution:\n",
    "$$\n",
    "\\mu := \\theta_0 = \\frac{x_1 + x_2}{2}\n",
    "$$"
   ]
  },
  {
   "cell_type": "markdown",
   "metadata": {},
   "source": [
    "Now to get the variance, we compute the second derivative fo $g$:\n",
    "$$\n",
    "\\frac{\\delta^2 g}{\\delta \\theta^2} (\\theta) = - 2\n",
    "$$\n",
    "and we evaluate it in $\\theta_0$:\n",
    "\\begin{align*}\n",
    "\\frac{\\delta^2 g}{\\delta \\theta^2} (\\theta_0)\n",
    "&= - 2 \\\\\n",
    "\\end{align*}\n",
    "but $\\frac{\\delta^2 g}{\\delta \\theta^2}$ doesn't depend on $\\theta$. Finally, the variance is given by:\n",
    "\\begin{align*}\n",
    "&\n",
    "\\sigma^2 = \\left[-\\frac{\\delta^2 g}{\\delta \\theta^2} (\\theta_0)\\right]^{-1} \\\\\n",
    " \\\\\n",
    "\\implies &\n",
    "\\sigma^2 = \\frac{1}{2}\n",
    "\\end{align*}\n",
    "Hence the Gaussian approximation is given by:\n",
    "$$\n",
    "\\mathcal{N}(\\mu, \\sigma^2)\n",
    "$$\n",
    "with $\\mu$ and $\\sigma$ defined previously."
   ]
  },
  {
   "cell_type": "code",
   "execution_count": 5,
   "metadata": {},
   "outputs": [
    {
     "data": {
      "application/vnd.plotly.v1+json": {
       "config": {
        "plotlyServerURL": "https://plot.ly"
       },
       "data": [
        {
         "name": "PDF of the given model",
         "type": "scatter",
         "x": [
          0,
          0.010101010101010102,
          0.020202020202020204,
          0.030303030303030304,
          0.04040404040404041,
          0.05050505050505051,
          0.06060606060606061,
          0.07070707070707072,
          0.08080808080808081,
          0.09090909090909091,
          0.10101010101010102,
          0.11111111111111112,
          0.12121212121212122,
          0.13131313131313133,
          0.14141414141414144,
          0.15151515151515152,
          0.16161616161616163,
          0.17171717171717174,
          0.18181818181818182,
          0.19191919191919193,
          0.20202020202020204,
          0.21212121212121213,
          0.22222222222222224,
          0.23232323232323235,
          0.24242424242424243,
          0.25252525252525254,
          0.26262626262626265,
          0.27272727272727276,
          0.2828282828282829,
          0.29292929292929293,
          0.30303030303030304,
          0.31313131313131315,
          0.32323232323232326,
          0.33333333333333337,
          0.3434343434343435,
          0.3535353535353536,
          0.36363636363636365,
          0.37373737373737376,
          0.38383838383838387,
          0.393939393939394,
          0.4040404040404041,
          0.4141414141414142,
          0.42424242424242425,
          0.43434343434343436,
          0.4444444444444445,
          0.4545454545454546,
          0.4646464646464647,
          0.4747474747474748,
          0.48484848484848486,
          0.494949494949495,
          0.5050505050505051,
          0.5151515151515152,
          0.5252525252525253,
          0.5353535353535354,
          0.5454545454545455,
          0.5555555555555556,
          0.5656565656565657,
          0.5757575757575758,
          0.5858585858585859,
          0.595959595959596,
          0.6060606060606061,
          0.6161616161616162,
          0.6262626262626263,
          0.6363636363636365,
          0.6464646464646465,
          0.6565656565656566,
          0.6666666666666667,
          0.6767676767676768,
          0.686868686868687,
          0.696969696969697,
          0.7070707070707072,
          0.7171717171717172,
          0.7272727272727273,
          0.7373737373737375,
          0.7474747474747475,
          0.7575757575757577,
          0.7676767676767677,
          0.7777777777777778,
          0.787878787878788,
          0.797979797979798,
          0.8080808080808082,
          0.8181818181818182,
          0.8282828282828284,
          0.8383838383838385,
          0.8484848484848485,
          0.8585858585858587,
          0.8686868686868687,
          0.8787878787878789,
          0.888888888888889,
          0.8989898989898991,
          0.9090909090909092,
          0.9191919191919192,
          0.9292929292929294,
          0.9393939393939394,
          0.9494949494949496,
          0.9595959595959597,
          0.9696969696969697,
          0.9797979797979799,
          0.98989898989899,
          1
         ],
         "y": [
          0.00845501289719066,
          0.008539978476127145,
          0.008624037878042303,
          0.008707147711611888,
          0.008789264746966877,
          0.008870345952699737,
          0.008950348533020024,
          0.009029229965015081,
          0.009106948035970968,
          0.009183460880708268,
          0.009258727018887018,
          0.009332705392234613,
          0.009405355401650297,
          0.0094766369441396,
          0.009546510449532012,
          0.009614936916935019,
          0.009681877950877785,
          0.009747295797097745,
          0.009811153377923579,
          0.009873414327208325,
          0.00993404302476666,
          0.009993004630270828,
          0.010050265116560144,
          0.010105791302319573,
          0.010159550884083527,
          0.010211512467521729,
          0.010261645597964763,
          0.010309920790127809,
          0.010356309556991985,
          0.010400784437803715,
          0.010443319025153627,
          0.010483887991097611,
          0.010522467112283886,
          0.01055903329405119,
          0.010593564593464545,
          0.010626040241256412,
          0.010656440662642578,
          0.010684747496983523,
          0.010710943616263652,
          0.010735013142362351,
          0.010756941463092485,
          0.010776715246983665,
          0.010794322456789344,
          0.010809752361698592,
          0.010822995548235181,
          0.01083404392982853,
          0.010842890755042831,
          0.010849530614452695,
          0.010853959446155453,
          0.010856174539912286,
          0.010856174539912286,
          0.010853959446155453,
          0.010849530614452695,
          0.010842890755042831,
          0.01083404392982853,
          0.010822995548235181,
          0.010809752361698592,
          0.010794322456789344,
          0.010776715246983665,
          0.010756941463092485,
          0.010735013142362351,
          0.010710943616263652,
          0.010684747496983523,
          0.010656440662642578,
          0.01062604024125641,
          0.010593564593464543,
          0.010559033294051189,
          0.010522467112283886,
          0.01048388799109761,
          0.010443319025153625,
          0.010400784437803715,
          0.010356309556991985,
          0.010309920790127809,
          0.01026164559796476,
          0.010211512467521727,
          0.010159550884083527,
          0.010105791302319572,
          0.010050265116560144,
          0.009993004630270827,
          0.00993404302476666,
          0.009873414327208323,
          0.009811153377923579,
          0.009747295797097743,
          0.009681877950877785,
          0.009614936916935017,
          0.009546510449532012,
          0.0094766369441396,
          0.009405355401650295,
          0.009332705392234611,
          0.009258727018887017,
          0.009183460880708268,
          0.009106948035970966,
          0.00902922996501508,
          0.008950348533020024,
          0.008870345952699735,
          0.008789264746966875,
          0.008707147711611888,
          0.008624037878042303,
          0.008539978476127143,
          0.00845501289719066
         ]
        },
        {
         "name": "Laplace approximation",
         "type": "scatter",
         "x": [
          0,
          0.010101010101010102,
          0.020202020202020204,
          0.030303030303030304,
          0.04040404040404041,
          0.05050505050505051,
          0.06060606060606061,
          0.07070707070707072,
          0.08080808080808081,
          0.09090909090909091,
          0.10101010101010102,
          0.11111111111111112,
          0.12121212121212122,
          0.13131313131313133,
          0.14141414141414144,
          0.15151515151515152,
          0.16161616161616163,
          0.17171717171717174,
          0.18181818181818182,
          0.19191919191919193,
          0.20202020202020204,
          0.21212121212121213,
          0.22222222222222224,
          0.23232323232323235,
          0.24242424242424243,
          0.25252525252525254,
          0.26262626262626265,
          0.27272727272727276,
          0.2828282828282829,
          0.29292929292929293,
          0.30303030303030304,
          0.31313131313131315,
          0.32323232323232326,
          0.33333333333333337,
          0.3434343434343435,
          0.3535353535353536,
          0.36363636363636365,
          0.37373737373737376,
          0.38383838383838387,
          0.393939393939394,
          0.4040404040404041,
          0.4141414141414142,
          0.42424242424242425,
          0.43434343434343436,
          0.4444444444444445,
          0.4545454545454546,
          0.4646464646464647,
          0.4747474747474748,
          0.48484848484848486,
          0.494949494949495,
          0.5050505050505051,
          0.5151515151515152,
          0.5252525252525253,
          0.5353535353535354,
          0.5454545454545455,
          0.5555555555555556,
          0.5656565656565657,
          0.5757575757575758,
          0.5858585858585859,
          0.595959595959596,
          0.6060606060606061,
          0.6161616161616162,
          0.6262626262626263,
          0.6363636363636365,
          0.6464646464646465,
          0.6565656565656566,
          0.6666666666666667,
          0.6767676767676768,
          0.686868686868687,
          0.696969696969697,
          0.7070707070707072,
          0.7171717171717172,
          0.7272727272727273,
          0.7373737373737375,
          0.7474747474747475,
          0.7575757575757577,
          0.7676767676767677,
          0.7777777777777778,
          0.787878787878788,
          0.797979797979798,
          0.8080808080808082,
          0.8181818181818182,
          0.8282828282828284,
          0.8383838383838385,
          0.8484848484848485,
          0.8585858585858587,
          0.8686868686868687,
          0.8787878787878789,
          0.888888888888889,
          0.8989898989898991,
          0.9090909090909092,
          0.9191919191919192,
          0.9292929292929294,
          0.9393939393939394,
          0.9494949494949496,
          0.9595959595959597,
          0.9696969696969697,
          0.9797979797979799,
          0.98989898989899,
          1
         ],
         "y": [
          0.008455012897190658,
          0.008539978476127143,
          0.008624037878042301,
          0.008707147711611886,
          0.008789264746966874,
          0.008870345952699735,
          0.00895034853302002,
          0.00902922996501508,
          0.009106948035970966,
          0.009183460880708266,
          0.009258727018887017,
          0.00933270539223461,
          0.009405355401650294,
          0.0094766369441396,
          0.00954651044953201,
          0.009614936916935015,
          0.009681877950877783,
          0.009747295797097742,
          0.009811153377923577,
          0.009873414327208322,
          0.009934043024766656,
          0.009993004630270825,
          0.010050265116560141,
          0.010105791302319572,
          0.010159550884083523,
          0.010211512467521727,
          0.01026164559796476,
          0.010309920790127807,
          0.010356309556991983,
          0.010400784437803713,
          0.010443319025153625,
          0.01048388799109761,
          0.010522467112283884,
          0.010559033294051189,
          0.010593564593464541,
          0.010626040241256409,
          0.010656440662642578,
          0.01068474749698352,
          0.010710943616263648,
          0.01073501314236235,
          0.010756941463092484,
          0.010776715246983662,
          0.010794322456789344,
          0.01080975236169859,
          0.01082299554823518,
          0.010834043929828526,
          0.01084289075504283,
          0.010849530614452693,
          0.010853959446155451,
          0.010856174539912286,
          0.010856174539912286,
          0.010853959446155451,
          0.010849530614452693,
          0.01084289075504283,
          0.010834043929828526,
          0.01082299554823518,
          0.01080975236169859,
          0.010794322456789343,
          0.010776715246983662,
          0.010756941463092484,
          0.01073501314236235,
          0.010710943616263648,
          0.01068474749698352,
          0.010656440662642578,
          0.010626040241256409,
          0.010593564593464541,
          0.010559033294051189,
          0.010522467112283882,
          0.01048388799109761,
          0.010443319025153625,
          0.010400784437803713,
          0.010356309556991983,
          0.010309920790127807,
          0.01026164559796476,
          0.010211512467521727,
          0.010159550884083523,
          0.010105791302319572,
          0.010050265116560141,
          0.009993004630270825,
          0.009934043024766656,
          0.009873414327208322,
          0.009811153377923577,
          0.009747295797097742,
          0.009681877950877783,
          0.009614936916935015,
          0.00954651044953201,
          0.0094766369441396,
          0.009405355401650292,
          0.00933270539223461,
          0.009258727018887015,
          0.009183460880708266,
          0.009106948035970966,
          0.00902922996501508,
          0.00895034853302002,
          0.008870345952699735,
          0.008789264746966874,
          0.008707147711611886,
          0.008624037878042301,
          0.008539978476127141,
          0.008455012897190658
         ]
        }
       ],
       "layout": {
        "showlegend": true,
        "template": {
         "data": {
          "bar": [
           {
            "error_x": {
             "color": "#2a3f5f"
            },
            "error_y": {
             "color": "#2a3f5f"
            },
            "marker": {
             "line": {
              "color": "white",
              "width": 0.5
             },
             "pattern": {
              "fillmode": "overlay",
              "size": 10,
              "solidity": 0.2
             }
            },
            "type": "bar"
           }
          ],
          "barpolar": [
           {
            "marker": {
             "line": {
              "color": "white",
              "width": 0.5
             },
             "pattern": {
              "fillmode": "overlay",
              "size": 10,
              "solidity": 0.2
             }
            },
            "type": "barpolar"
           }
          ],
          "carpet": [
           {
            "aaxis": {
             "endlinecolor": "#2a3f5f",
             "gridcolor": "#C8D4E3",
             "linecolor": "#C8D4E3",
             "minorgridcolor": "#C8D4E3",
             "startlinecolor": "#2a3f5f"
            },
            "baxis": {
             "endlinecolor": "#2a3f5f",
             "gridcolor": "#C8D4E3",
             "linecolor": "#C8D4E3",
             "minorgridcolor": "#C8D4E3",
             "startlinecolor": "#2a3f5f"
            },
            "type": "carpet"
           }
          ],
          "choropleth": [
           {
            "colorbar": {
             "outlinewidth": 0,
             "ticks": ""
            },
            "type": "choropleth"
           }
          ],
          "contour": [
           {
            "colorbar": {
             "outlinewidth": 0,
             "ticks": ""
            },
            "colorscale": [
             [
              0,
              "#0d0887"
             ],
             [
              0.1111111111111111,
              "#46039f"
             ],
             [
              0.2222222222222222,
              "#7201a8"
             ],
             [
              0.3333333333333333,
              "#9c179e"
             ],
             [
              0.4444444444444444,
              "#bd3786"
             ],
             [
              0.5555555555555556,
              "#d8576b"
             ],
             [
              0.6666666666666666,
              "#ed7953"
             ],
             [
              0.7777777777777778,
              "#fb9f3a"
             ],
             [
              0.8888888888888888,
              "#fdca26"
             ],
             [
              1,
              "#f0f921"
             ]
            ],
            "type": "contour"
           }
          ],
          "contourcarpet": [
           {
            "colorbar": {
             "outlinewidth": 0,
             "ticks": ""
            },
            "type": "contourcarpet"
           }
          ],
          "heatmap": [
           {
            "colorbar": {
             "outlinewidth": 0,
             "ticks": ""
            },
            "colorscale": [
             [
              0,
              "#0d0887"
             ],
             [
              0.1111111111111111,
              "#46039f"
             ],
             [
              0.2222222222222222,
              "#7201a8"
             ],
             [
              0.3333333333333333,
              "#9c179e"
             ],
             [
              0.4444444444444444,
              "#bd3786"
             ],
             [
              0.5555555555555556,
              "#d8576b"
             ],
             [
              0.6666666666666666,
              "#ed7953"
             ],
             [
              0.7777777777777778,
              "#fb9f3a"
             ],
             [
              0.8888888888888888,
              "#fdca26"
             ],
             [
              1,
              "#f0f921"
             ]
            ],
            "type": "heatmap"
           }
          ],
          "heatmapgl": [
           {
            "colorbar": {
             "outlinewidth": 0,
             "ticks": ""
            },
            "colorscale": [
             [
              0,
              "#0d0887"
             ],
             [
              0.1111111111111111,
              "#46039f"
             ],
             [
              0.2222222222222222,
              "#7201a8"
             ],
             [
              0.3333333333333333,
              "#9c179e"
             ],
             [
              0.4444444444444444,
              "#bd3786"
             ],
             [
              0.5555555555555556,
              "#d8576b"
             ],
             [
              0.6666666666666666,
              "#ed7953"
             ],
             [
              0.7777777777777778,
              "#fb9f3a"
             ],
             [
              0.8888888888888888,
              "#fdca26"
             ],
             [
              1,
              "#f0f921"
             ]
            ],
            "type": "heatmapgl"
           }
          ],
          "histogram": [
           {
            "marker": {
             "pattern": {
              "fillmode": "overlay",
              "size": 10,
              "solidity": 0.2
             }
            },
            "type": "histogram"
           }
          ],
          "histogram2d": [
           {
            "colorbar": {
             "outlinewidth": 0,
             "ticks": ""
            },
            "colorscale": [
             [
              0,
              "#0d0887"
             ],
             [
              0.1111111111111111,
              "#46039f"
             ],
             [
              0.2222222222222222,
              "#7201a8"
             ],
             [
              0.3333333333333333,
              "#9c179e"
             ],
             [
              0.4444444444444444,
              "#bd3786"
             ],
             [
              0.5555555555555556,
              "#d8576b"
             ],
             [
              0.6666666666666666,
              "#ed7953"
             ],
             [
              0.7777777777777778,
              "#fb9f3a"
             ],
             [
              0.8888888888888888,
              "#fdca26"
             ],
             [
              1,
              "#f0f921"
             ]
            ],
            "type": "histogram2d"
           }
          ],
          "histogram2dcontour": [
           {
            "colorbar": {
             "outlinewidth": 0,
             "ticks": ""
            },
            "colorscale": [
             [
              0,
              "#0d0887"
             ],
             [
              0.1111111111111111,
              "#46039f"
             ],
             [
              0.2222222222222222,
              "#7201a8"
             ],
             [
              0.3333333333333333,
              "#9c179e"
             ],
             [
              0.4444444444444444,
              "#bd3786"
             ],
             [
              0.5555555555555556,
              "#d8576b"
             ],
             [
              0.6666666666666666,
              "#ed7953"
             ],
             [
              0.7777777777777778,
              "#fb9f3a"
             ],
             [
              0.8888888888888888,
              "#fdca26"
             ],
             [
              1,
              "#f0f921"
             ]
            ],
            "type": "histogram2dcontour"
           }
          ],
          "mesh3d": [
           {
            "colorbar": {
             "outlinewidth": 0,
             "ticks": ""
            },
            "type": "mesh3d"
           }
          ],
          "parcoords": [
           {
            "line": {
             "colorbar": {
              "outlinewidth": 0,
              "ticks": ""
             }
            },
            "type": "parcoords"
           }
          ],
          "pie": [
           {
            "automargin": true,
            "type": "pie"
           }
          ],
          "scatter": [
           {
            "fillpattern": {
             "fillmode": "overlay",
             "size": 10,
             "solidity": 0.2
            },
            "type": "scatter"
           }
          ],
          "scatter3d": [
           {
            "line": {
             "colorbar": {
              "outlinewidth": 0,
              "ticks": ""
             }
            },
            "marker": {
             "colorbar": {
              "outlinewidth": 0,
              "ticks": ""
             }
            },
            "type": "scatter3d"
           }
          ],
          "scattercarpet": [
           {
            "marker": {
             "colorbar": {
              "outlinewidth": 0,
              "ticks": ""
             }
            },
            "type": "scattercarpet"
           }
          ],
          "scattergeo": [
           {
            "marker": {
             "colorbar": {
              "outlinewidth": 0,
              "ticks": ""
             }
            },
            "type": "scattergeo"
           }
          ],
          "scattergl": [
           {
            "marker": {
             "colorbar": {
              "outlinewidth": 0,
              "ticks": ""
             }
            },
            "type": "scattergl"
           }
          ],
          "scattermapbox": [
           {
            "marker": {
             "colorbar": {
              "outlinewidth": 0,
              "ticks": ""
             }
            },
            "type": "scattermapbox"
           }
          ],
          "scatterpolar": [
           {
            "marker": {
             "colorbar": {
              "outlinewidth": 0,
              "ticks": ""
             }
            },
            "type": "scatterpolar"
           }
          ],
          "scatterpolargl": [
           {
            "marker": {
             "colorbar": {
              "outlinewidth": 0,
              "ticks": ""
             }
            },
            "type": "scatterpolargl"
           }
          ],
          "scatterternary": [
           {
            "marker": {
             "colorbar": {
              "outlinewidth": 0,
              "ticks": ""
             }
            },
            "type": "scatterternary"
           }
          ],
          "surface": [
           {
            "colorbar": {
             "outlinewidth": 0,
             "ticks": ""
            },
            "colorscale": [
             [
              0,
              "#0d0887"
             ],
             [
              0.1111111111111111,
              "#46039f"
             ],
             [
              0.2222222222222222,
              "#7201a8"
             ],
             [
              0.3333333333333333,
              "#9c179e"
             ],
             [
              0.4444444444444444,
              "#bd3786"
             ],
             [
              0.5555555555555556,
              "#d8576b"
             ],
             [
              0.6666666666666666,
              "#ed7953"
             ],
             [
              0.7777777777777778,
              "#fb9f3a"
             ],
             [
              0.8888888888888888,
              "#fdca26"
             ],
             [
              1,
              "#f0f921"
             ]
            ],
            "type": "surface"
           }
          ],
          "table": [
           {
            "cells": {
             "fill": {
              "color": "#EBF0F8"
             },
             "line": {
              "color": "white"
             }
            },
            "header": {
             "fill": {
              "color": "#C8D4E3"
             },
             "line": {
              "color": "white"
             }
            },
            "type": "table"
           }
          ]
         },
         "layout": {
          "annotationdefaults": {
           "arrowcolor": "#2a3f5f",
           "arrowhead": 0,
           "arrowwidth": 1
          },
          "autotypenumbers": "strict",
          "coloraxis": {
           "colorbar": {
            "outlinewidth": 0,
            "ticks": ""
           }
          },
          "colorscale": {
           "diverging": [
            [
             0,
             "#8e0152"
            ],
            [
             0.1,
             "#c51b7d"
            ],
            [
             0.2,
             "#de77ae"
            ],
            [
             0.3,
             "#f1b6da"
            ],
            [
             0.4,
             "#fde0ef"
            ],
            [
             0.5,
             "#f7f7f7"
            ],
            [
             0.6,
             "#e6f5d0"
            ],
            [
             0.7,
             "#b8e186"
            ],
            [
             0.8,
             "#7fbc41"
            ],
            [
             0.9,
             "#4d9221"
            ],
            [
             1,
             "#276419"
            ]
           ],
           "sequential": [
            [
             0,
             "#0d0887"
            ],
            [
             0.1111111111111111,
             "#46039f"
            ],
            [
             0.2222222222222222,
             "#7201a8"
            ],
            [
             0.3333333333333333,
             "#9c179e"
            ],
            [
             0.4444444444444444,
             "#bd3786"
            ],
            [
             0.5555555555555556,
             "#d8576b"
            ],
            [
             0.6666666666666666,
             "#ed7953"
            ],
            [
             0.7777777777777778,
             "#fb9f3a"
            ],
            [
             0.8888888888888888,
             "#fdca26"
            ],
            [
             1,
             "#f0f921"
            ]
           ],
           "sequentialminus": [
            [
             0,
             "#0d0887"
            ],
            [
             0.1111111111111111,
             "#46039f"
            ],
            [
             0.2222222222222222,
             "#7201a8"
            ],
            [
             0.3333333333333333,
             "#9c179e"
            ],
            [
             0.4444444444444444,
             "#bd3786"
            ],
            [
             0.5555555555555556,
             "#d8576b"
            ],
            [
             0.6666666666666666,
             "#ed7953"
            ],
            [
             0.7777777777777778,
             "#fb9f3a"
            ],
            [
             0.8888888888888888,
             "#fdca26"
            ],
            [
             1,
             "#f0f921"
            ]
           ]
          },
          "colorway": [
           "#636efa",
           "#EF553B",
           "#00cc96",
           "#ab63fa",
           "#FFA15A",
           "#19d3f3",
           "#FF6692",
           "#B6E880",
           "#FF97FF",
           "#FECB52"
          ],
          "font": {
           "color": "#2a3f5f"
          },
          "geo": {
           "bgcolor": "white",
           "lakecolor": "white",
           "landcolor": "white",
           "showlakes": true,
           "showland": true,
           "subunitcolor": "#C8D4E3"
          },
          "hoverlabel": {
           "align": "left"
          },
          "hovermode": "closest",
          "mapbox": {
           "style": "light"
          },
          "paper_bgcolor": "white",
          "plot_bgcolor": "white",
          "polar": {
           "angularaxis": {
            "gridcolor": "#EBF0F8",
            "linecolor": "#EBF0F8",
            "ticks": ""
           },
           "bgcolor": "white",
           "radialaxis": {
            "gridcolor": "#EBF0F8",
            "linecolor": "#EBF0F8",
            "ticks": ""
           }
          },
          "scene": {
           "xaxis": {
            "backgroundcolor": "white",
            "gridcolor": "#DFE8F3",
            "gridwidth": 2,
            "linecolor": "#EBF0F8",
            "showbackground": true,
            "ticks": "",
            "zerolinecolor": "#EBF0F8"
           },
           "yaxis": {
            "backgroundcolor": "white",
            "gridcolor": "#DFE8F3",
            "gridwidth": 2,
            "linecolor": "#EBF0F8",
            "showbackground": true,
            "ticks": "",
            "zerolinecolor": "#EBF0F8"
           },
           "zaxis": {
            "backgroundcolor": "white",
            "gridcolor": "#DFE8F3",
            "gridwidth": 2,
            "linecolor": "#EBF0F8",
            "showbackground": true,
            "ticks": "",
            "zerolinecolor": "#EBF0F8"
           }
          },
          "shapedefaults": {
           "line": {
            "color": "#2a3f5f"
           }
          },
          "ternary": {
           "aaxis": {
            "gridcolor": "#DFE8F3",
            "linecolor": "#A2B1C6",
            "ticks": ""
           },
           "baxis": {
            "gridcolor": "#DFE8F3",
            "linecolor": "#A2B1C6",
            "ticks": ""
           },
           "bgcolor": "white",
           "caxis": {
            "gridcolor": "#DFE8F3",
            "linecolor": "#A2B1C6",
            "ticks": ""
           }
          },
          "title": {
           "x": 0.05
          },
          "xaxis": {
           "automargin": true,
           "gridcolor": "#EBF0F8",
           "linecolor": "#EBF0F8",
           "ticks": "",
           "title": {
            "standoff": 15
           },
           "zerolinecolor": "#EBF0F8",
           "zerolinewidth": 2
          },
          "yaxis": {
           "automargin": true,
           "gridcolor": "#EBF0F8",
           "linecolor": "#EBF0F8",
           "ticks": "",
           "title": {
            "standoff": 15
           },
           "zerolinecolor": "#EBF0F8",
           "zerolinewidth": 2
          }
         }
        },
        "title": {
         "text": "Comparison ground truth vs Laplace approximation"
        }
       }
      }
     },
     "metadata": {},
     "output_type": "display_data"
    }
   ],
   "source": [
    "plot_model_vs_laplace(x1=0.3, x2=0.7)"
   ]
  },
  {
   "cell_type": "markdown",
   "metadata": {},
   "source": [
    "Lesson 3 tells us that the posterior for the mean of a normal distribution is proportional to:\n",
    "$$\n",
    "(1) \\iff p(\\theta | y) \\sim \\exp[-\\frac{1}{2\\sigma^2}(y-\\theta)^2 - \\frac{1}{2\\tau_0^2}(\\theta-\\mu_0)^2]\n",
    "$$\n",
    "We want to relate this to our model:\n",
    "$$\n",
    "(2) \\iff p(x|\\theta)\\propto \\frac{1}{\\sqrt{2\\pi}}\\exp(-\\frac{(x_1-\\theta)^2+(x_2-\\theta)^2}{2})\n",
    "$$\n",
    "Setting $\\tau_0 = \\sigma^2 = 1$ in $(1)$ and $x_1 = y, x_2 = \\mu_0$ in $(2)$, we get:\n",
    "\\begin{align*}\n",
    "p(\\theta | y) \n",
    "&\\sim \\exp[-\\frac{1}{2\\sigma^2}(y-\\theta)^2 - \\frac{1}{2\\tau_0^2}(\\theta-\\mu_0)^2] \\\\\n",
    "&\\sim \\exp[-\\frac{(y-\\theta)^2 -(\\theta-\\mu_0)^2}{2}] \\\\\n",
    "\\end{align*}\n"
   ]
  },
  {
   "cell_type": "markdown",
   "metadata": {},
   "source": [
    "## Exercise 2\n",
    "Write down a model to evaluate the claim: *Animal diversity is related to latitude, but only after controlling for plant diversity*. You just need to write down the model definition.\n",
    "___"
   ]
  },
  {
   "cell_type": "markdown",
   "metadata": {},
   "source": [
    "Latitude represents the angle of how far north a point is situated. It is -90° at the south pole, 0° at the equator and 90° at the north pole.\n",
    "\n",
    "One could easily assume that the further away from the equator (north pole, south pole), the most inhospitable the environment. On the other hand, the closer from the equator (tropical rainforest), the most prolific the environment, *i.e.* high animal diversity.\n",
    "\n",
    "One could also assume that the model has some symmetry built into it as we see similar behaviors when latitude increases both positively or negatively.\n",
    "\n",
    "Finally, we can assume that animal and plant diversity are positively. This seems as a natural assumption.\n",
    "\n",
    "In order to measure animal diversity, one would need to find an appropriate metric. Maybe something like the number of animal species per $km^2$.\n",
    "\n",
    "We expect the plant diversity as a function of latitude to look something like the plot below:"
   ]
  },
  {
   "cell_type": "code",
   "execution_count": 10,
   "metadata": {},
   "outputs": [
    {
     "data": {
      "application/vnd.plotly.v1+json": {
       "config": {
        "plotlyServerURL": "https://plot.ly"
       },
       "data": [
        {
         "mode": "markers",
         "type": "scatter",
         "x": [
          0,
          0.9090909090909091,
          1.8181818181818181,
          2.727272727272727,
          3.6363636363636362,
          4.545454545454545,
          5.454545454545454,
          6.363636363636363,
          7.2727272727272725,
          8.181818181818182,
          9.09090909090909,
          10,
          10.909090909090908,
          11.818181818181818,
          12.727272727272727,
          13.636363636363637,
          14.545454545454545,
          15.454545454545453,
          16.363636363636363,
          17.272727272727273,
          18.18181818181818,
          19.09090909090909,
          20,
          20.90909090909091,
          21.818181818181817,
          22.727272727272727,
          23.636363636363637,
          24.545454545454543,
          25.454545454545453,
          26.363636363636363,
          27.272727272727273,
          28.18181818181818,
          29.09090909090909,
          30,
          30.909090909090907,
          31.818181818181817,
          32.72727272727273,
          33.63636363636363,
          34.54545454545455,
          35.45454545454545,
          36.36363636363636,
          37.27272727272727,
          38.18181818181818,
          39.090909090909086,
          40,
          40.90909090909091,
          41.81818181818182,
          42.72727272727273,
          43.63636363636363,
          44.54545454545455,
          45.45454545454545,
          46.36363636363636,
          47.27272727272727,
          48.18181818181818,
          49.090909090909086,
          50,
          50.90909090909091,
          51.81818181818181,
          52.72727272727273,
          53.63636363636363,
          54.54545454545455,
          55.45454545454545,
          56.36363636363636,
          57.27272727272727,
          58.18181818181818,
          59.090909090909086,
          60,
          60.90909090909091,
          61.81818181818181,
          62.72727272727273,
          63.63636363636363,
          64.54545454545455,
          65.45454545454545,
          66.36363636363636,
          67.27272727272727,
          68.18181818181817,
          69.0909090909091,
          70,
          70.9090909090909,
          71.81818181818181,
          72.72727272727272,
          73.63636363636364,
          74.54545454545455,
          75.45454545454545,
          76.36363636363636,
          77.27272727272727,
          78.18181818181817,
          79.0909090909091,
          80,
          80.9090909090909,
          81.81818181818181,
          82.72727272727272,
          83.63636363636364,
          84.54545454545455,
          85.45454545454545,
          86.36363636363636,
          87.27272727272727,
          88.18181818181817,
          89.0909090909091,
          90
         ],
         "y": [
          91.14346097141906,
          92.10410623102868,
          84.97852590502556,
          91.0766874939513,
          78.31547352037356,
          85.67302707278388,
          86.57017841887571,
          87.72754579027367,
          83.95303874968658,
          85.00300242879725,
          71.60270493168291,
          75.49252219626798,
          87.50455952191714,
          79.59599288851608,
          77.8943823671614,
          81.21813313807964,
          75.98792247752283,
          78.86106961243865,
          67.39442878857125,
          71.1146719337388,
          62.875713756247066,
          71.41599513172055,
          70.60656173552321,
          77.2460133099868,
          67.34974900659971,
          67.3235084228723,
          63.49377749074445,
          60.72812325435696,
          57.88415882778787,
          70.24594849047752,
          66.4900147790193,
          62.54542386161385,
          57.63831454184145,
          61.39037077023442,
          57.972503803848014,
          61.42253711556599,
          54.5036852951803,
          61.43583774909687,
          57.47224645225712,
          42.22197712919411,
          50.99238437174079,
          53.92560630459704,
          49.68311850174974,
          49.42585630582321,
          48.22130708959387,
          49.5654568555335,
          48.60646831268983,
          44.779318133885425,
          43.24045261820652,
          42.643121237079946,
          43.5728982868375,
          34.3742360477593,
          48.21645780122869,
          39.41450609971506,
          48.696181873224354,
          31.729219575845203,
          40.44177284704946,
          42.00122332547425,
          38.948962069274394,
          34.92277793302901,
          37.69073067507264,
          41.412462883561695,
          35.65779100382915,
          42.58225835460556,
          34.21705053904415,
          36.3504260452237,
          22.47284567745013,
          30.84633225722644,
          32.0074802086391,
          23.941999051085865,
          33.543606972282085,
          20.953935417832305,
          28.016624368543475,
          22.62161824958834,
          15.325500938485655,
          25.39730595679243,
          17.003969124772404,
          12.992417910486806,
          15.850963070533107,
          16.549623967756524,
          14.54588078873506,
          16.78513296269359,
          13.743012900913271,
          15.79066940339763,
          2.1766788357113445,
          11.044799656963914,
          6.871210314631952,
          17.648441107119055,
          10.514159998828086,
          5.388267011652084,
          1.08710945680214,
          14.173838887901987,
          8.80428441350624,
          8.701169251059781,
          5.654188195176711,
          7.655741122030788,
          5.59104282147627,
          7.1473040321073045,
          2.894888900660124,
          1.5467388538550393
         ]
        }
       ],
       "layout": {
        "template": {
         "data": {
          "bar": [
           {
            "error_x": {
             "color": "#2a3f5f"
            },
            "error_y": {
             "color": "#2a3f5f"
            },
            "marker": {
             "line": {
              "color": "white",
              "width": 0.5
             },
             "pattern": {
              "fillmode": "overlay",
              "size": 10,
              "solidity": 0.2
             }
            },
            "type": "bar"
           }
          ],
          "barpolar": [
           {
            "marker": {
             "line": {
              "color": "white",
              "width": 0.5
             },
             "pattern": {
              "fillmode": "overlay",
              "size": 10,
              "solidity": 0.2
             }
            },
            "type": "barpolar"
           }
          ],
          "carpet": [
           {
            "aaxis": {
             "endlinecolor": "#2a3f5f",
             "gridcolor": "#C8D4E3",
             "linecolor": "#C8D4E3",
             "minorgridcolor": "#C8D4E3",
             "startlinecolor": "#2a3f5f"
            },
            "baxis": {
             "endlinecolor": "#2a3f5f",
             "gridcolor": "#C8D4E3",
             "linecolor": "#C8D4E3",
             "minorgridcolor": "#C8D4E3",
             "startlinecolor": "#2a3f5f"
            },
            "type": "carpet"
           }
          ],
          "choropleth": [
           {
            "colorbar": {
             "outlinewidth": 0,
             "ticks": ""
            },
            "type": "choropleth"
           }
          ],
          "contour": [
           {
            "colorbar": {
             "outlinewidth": 0,
             "ticks": ""
            },
            "colorscale": [
             [
              0,
              "#0d0887"
             ],
             [
              0.1111111111111111,
              "#46039f"
             ],
             [
              0.2222222222222222,
              "#7201a8"
             ],
             [
              0.3333333333333333,
              "#9c179e"
             ],
             [
              0.4444444444444444,
              "#bd3786"
             ],
             [
              0.5555555555555556,
              "#d8576b"
             ],
             [
              0.6666666666666666,
              "#ed7953"
             ],
             [
              0.7777777777777778,
              "#fb9f3a"
             ],
             [
              0.8888888888888888,
              "#fdca26"
             ],
             [
              1,
              "#f0f921"
             ]
            ],
            "type": "contour"
           }
          ],
          "contourcarpet": [
           {
            "colorbar": {
             "outlinewidth": 0,
             "ticks": ""
            },
            "type": "contourcarpet"
           }
          ],
          "heatmap": [
           {
            "colorbar": {
             "outlinewidth": 0,
             "ticks": ""
            },
            "colorscale": [
             [
              0,
              "#0d0887"
             ],
             [
              0.1111111111111111,
              "#46039f"
             ],
             [
              0.2222222222222222,
              "#7201a8"
             ],
             [
              0.3333333333333333,
              "#9c179e"
             ],
             [
              0.4444444444444444,
              "#bd3786"
             ],
             [
              0.5555555555555556,
              "#d8576b"
             ],
             [
              0.6666666666666666,
              "#ed7953"
             ],
             [
              0.7777777777777778,
              "#fb9f3a"
             ],
             [
              0.8888888888888888,
              "#fdca26"
             ],
             [
              1,
              "#f0f921"
             ]
            ],
            "type": "heatmap"
           }
          ],
          "heatmapgl": [
           {
            "colorbar": {
             "outlinewidth": 0,
             "ticks": ""
            },
            "colorscale": [
             [
              0,
              "#0d0887"
             ],
             [
              0.1111111111111111,
              "#46039f"
             ],
             [
              0.2222222222222222,
              "#7201a8"
             ],
             [
              0.3333333333333333,
              "#9c179e"
             ],
             [
              0.4444444444444444,
              "#bd3786"
             ],
             [
              0.5555555555555556,
              "#d8576b"
             ],
             [
              0.6666666666666666,
              "#ed7953"
             ],
             [
              0.7777777777777778,
              "#fb9f3a"
             ],
             [
              0.8888888888888888,
              "#fdca26"
             ],
             [
              1,
              "#f0f921"
             ]
            ],
            "type": "heatmapgl"
           }
          ],
          "histogram": [
           {
            "marker": {
             "pattern": {
              "fillmode": "overlay",
              "size": 10,
              "solidity": 0.2
             }
            },
            "type": "histogram"
           }
          ],
          "histogram2d": [
           {
            "colorbar": {
             "outlinewidth": 0,
             "ticks": ""
            },
            "colorscale": [
             [
              0,
              "#0d0887"
             ],
             [
              0.1111111111111111,
              "#46039f"
             ],
             [
              0.2222222222222222,
              "#7201a8"
             ],
             [
              0.3333333333333333,
              "#9c179e"
             ],
             [
              0.4444444444444444,
              "#bd3786"
             ],
             [
              0.5555555555555556,
              "#d8576b"
             ],
             [
              0.6666666666666666,
              "#ed7953"
             ],
             [
              0.7777777777777778,
              "#fb9f3a"
             ],
             [
              0.8888888888888888,
              "#fdca26"
             ],
             [
              1,
              "#f0f921"
             ]
            ],
            "type": "histogram2d"
           }
          ],
          "histogram2dcontour": [
           {
            "colorbar": {
             "outlinewidth": 0,
             "ticks": ""
            },
            "colorscale": [
             [
              0,
              "#0d0887"
             ],
             [
              0.1111111111111111,
              "#46039f"
             ],
             [
              0.2222222222222222,
              "#7201a8"
             ],
             [
              0.3333333333333333,
              "#9c179e"
             ],
             [
              0.4444444444444444,
              "#bd3786"
             ],
             [
              0.5555555555555556,
              "#d8576b"
             ],
             [
              0.6666666666666666,
              "#ed7953"
             ],
             [
              0.7777777777777778,
              "#fb9f3a"
             ],
             [
              0.8888888888888888,
              "#fdca26"
             ],
             [
              1,
              "#f0f921"
             ]
            ],
            "type": "histogram2dcontour"
           }
          ],
          "mesh3d": [
           {
            "colorbar": {
             "outlinewidth": 0,
             "ticks": ""
            },
            "type": "mesh3d"
           }
          ],
          "parcoords": [
           {
            "line": {
             "colorbar": {
              "outlinewidth": 0,
              "ticks": ""
             }
            },
            "type": "parcoords"
           }
          ],
          "pie": [
           {
            "automargin": true,
            "type": "pie"
           }
          ],
          "scatter": [
           {
            "fillpattern": {
             "fillmode": "overlay",
             "size": 10,
             "solidity": 0.2
            },
            "type": "scatter"
           }
          ],
          "scatter3d": [
           {
            "line": {
             "colorbar": {
              "outlinewidth": 0,
              "ticks": ""
             }
            },
            "marker": {
             "colorbar": {
              "outlinewidth": 0,
              "ticks": ""
             }
            },
            "type": "scatter3d"
           }
          ],
          "scattercarpet": [
           {
            "marker": {
             "colorbar": {
              "outlinewidth": 0,
              "ticks": ""
             }
            },
            "type": "scattercarpet"
           }
          ],
          "scattergeo": [
           {
            "marker": {
             "colorbar": {
              "outlinewidth": 0,
              "ticks": ""
             }
            },
            "type": "scattergeo"
           }
          ],
          "scattergl": [
           {
            "marker": {
             "colorbar": {
              "outlinewidth": 0,
              "ticks": ""
             }
            },
            "type": "scattergl"
           }
          ],
          "scattermapbox": [
           {
            "marker": {
             "colorbar": {
              "outlinewidth": 0,
              "ticks": ""
             }
            },
            "type": "scattermapbox"
           }
          ],
          "scatterpolar": [
           {
            "marker": {
             "colorbar": {
              "outlinewidth": 0,
              "ticks": ""
             }
            },
            "type": "scatterpolar"
           }
          ],
          "scatterpolargl": [
           {
            "marker": {
             "colorbar": {
              "outlinewidth": 0,
              "ticks": ""
             }
            },
            "type": "scatterpolargl"
           }
          ],
          "scatterternary": [
           {
            "marker": {
             "colorbar": {
              "outlinewidth": 0,
              "ticks": ""
             }
            },
            "type": "scatterternary"
           }
          ],
          "surface": [
           {
            "colorbar": {
             "outlinewidth": 0,
             "ticks": ""
            },
            "colorscale": [
             [
              0,
              "#0d0887"
             ],
             [
              0.1111111111111111,
              "#46039f"
             ],
             [
              0.2222222222222222,
              "#7201a8"
             ],
             [
              0.3333333333333333,
              "#9c179e"
             ],
             [
              0.4444444444444444,
              "#bd3786"
             ],
             [
              0.5555555555555556,
              "#d8576b"
             ],
             [
              0.6666666666666666,
              "#ed7953"
             ],
             [
              0.7777777777777778,
              "#fb9f3a"
             ],
             [
              0.8888888888888888,
              "#fdca26"
             ],
             [
              1,
              "#f0f921"
             ]
            ],
            "type": "surface"
           }
          ],
          "table": [
           {
            "cells": {
             "fill": {
              "color": "#EBF0F8"
             },
             "line": {
              "color": "white"
             }
            },
            "header": {
             "fill": {
              "color": "#C8D4E3"
             },
             "line": {
              "color": "white"
             }
            },
            "type": "table"
           }
          ]
         },
         "layout": {
          "annotationdefaults": {
           "arrowcolor": "#2a3f5f",
           "arrowhead": 0,
           "arrowwidth": 1
          },
          "autotypenumbers": "strict",
          "coloraxis": {
           "colorbar": {
            "outlinewidth": 0,
            "ticks": ""
           }
          },
          "colorscale": {
           "diverging": [
            [
             0,
             "#8e0152"
            ],
            [
             0.1,
             "#c51b7d"
            ],
            [
             0.2,
             "#de77ae"
            ],
            [
             0.3,
             "#f1b6da"
            ],
            [
             0.4,
             "#fde0ef"
            ],
            [
             0.5,
             "#f7f7f7"
            ],
            [
             0.6,
             "#e6f5d0"
            ],
            [
             0.7,
             "#b8e186"
            ],
            [
             0.8,
             "#7fbc41"
            ],
            [
             0.9,
             "#4d9221"
            ],
            [
             1,
             "#276419"
            ]
           ],
           "sequential": [
            [
             0,
             "#0d0887"
            ],
            [
             0.1111111111111111,
             "#46039f"
            ],
            [
             0.2222222222222222,
             "#7201a8"
            ],
            [
             0.3333333333333333,
             "#9c179e"
            ],
            [
             0.4444444444444444,
             "#bd3786"
            ],
            [
             0.5555555555555556,
             "#d8576b"
            ],
            [
             0.6666666666666666,
             "#ed7953"
            ],
            [
             0.7777777777777778,
             "#fb9f3a"
            ],
            [
             0.8888888888888888,
             "#fdca26"
            ],
            [
             1,
             "#f0f921"
            ]
           ],
           "sequentialminus": [
            [
             0,
             "#0d0887"
            ],
            [
             0.1111111111111111,
             "#46039f"
            ],
            [
             0.2222222222222222,
             "#7201a8"
            ],
            [
             0.3333333333333333,
             "#9c179e"
            ],
            [
             0.4444444444444444,
             "#bd3786"
            ],
            [
             0.5555555555555556,
             "#d8576b"
            ],
            [
             0.6666666666666666,
             "#ed7953"
            ],
            [
             0.7777777777777778,
             "#fb9f3a"
            ],
            [
             0.8888888888888888,
             "#fdca26"
            ],
            [
             1,
             "#f0f921"
            ]
           ]
          },
          "colorway": [
           "#636efa",
           "#EF553B",
           "#00cc96",
           "#ab63fa",
           "#FFA15A",
           "#19d3f3",
           "#FF6692",
           "#B6E880",
           "#FF97FF",
           "#FECB52"
          ],
          "font": {
           "color": "#2a3f5f"
          },
          "geo": {
           "bgcolor": "white",
           "lakecolor": "white",
           "landcolor": "white",
           "showlakes": true,
           "showland": true,
           "subunitcolor": "#C8D4E3"
          },
          "hoverlabel": {
           "align": "left"
          },
          "hovermode": "closest",
          "mapbox": {
           "style": "light"
          },
          "paper_bgcolor": "white",
          "plot_bgcolor": "white",
          "polar": {
           "angularaxis": {
            "gridcolor": "#EBF0F8",
            "linecolor": "#EBF0F8",
            "ticks": ""
           },
           "bgcolor": "white",
           "radialaxis": {
            "gridcolor": "#EBF0F8",
            "linecolor": "#EBF0F8",
            "ticks": ""
           }
          },
          "scene": {
           "xaxis": {
            "backgroundcolor": "white",
            "gridcolor": "#DFE8F3",
            "gridwidth": 2,
            "linecolor": "#EBF0F8",
            "showbackground": true,
            "ticks": "",
            "zerolinecolor": "#EBF0F8"
           },
           "yaxis": {
            "backgroundcolor": "white",
            "gridcolor": "#DFE8F3",
            "gridwidth": 2,
            "linecolor": "#EBF0F8",
            "showbackground": true,
            "ticks": "",
            "zerolinecolor": "#EBF0F8"
           },
           "zaxis": {
            "backgroundcolor": "white",
            "gridcolor": "#DFE8F3",
            "gridwidth": 2,
            "linecolor": "#EBF0F8",
            "showbackground": true,
            "ticks": "",
            "zerolinecolor": "#EBF0F8"
           }
          },
          "shapedefaults": {
           "line": {
            "color": "#2a3f5f"
           }
          },
          "ternary": {
           "aaxis": {
            "gridcolor": "#DFE8F3",
            "linecolor": "#A2B1C6",
            "ticks": ""
           },
           "baxis": {
            "gridcolor": "#DFE8F3",
            "linecolor": "#A2B1C6",
            "ticks": ""
           },
           "bgcolor": "white",
           "caxis": {
            "gridcolor": "#DFE8F3",
            "linecolor": "#A2B1C6",
            "ticks": ""
           }
          },
          "title": {
           "x": 0.05
          },
          "xaxis": {
           "automargin": true,
           "gridcolor": "#EBF0F8",
           "linecolor": "#EBF0F8",
           "ticks": "",
           "title": {
            "standoff": 15
           },
           "zerolinecolor": "#EBF0F8",
           "zerolinewidth": 2
          },
          "yaxis": {
           "automargin": true,
           "gridcolor": "#EBF0F8",
           "linecolor": "#EBF0F8",
           "ticks": "",
           "title": {
            "standoff": 15
           },
           "zerolinecolor": "#EBF0F8",
           "zerolinewidth": 2
          }
         }
        }
       }
      }
     },
     "metadata": {},
     "output_type": "display_data"
    }
   ],
   "source": [
    "possible_animal_diversity_model()"
   ]
  },
  {
   "cell_type": "markdown",
   "metadata": {},
   "source": [
    "## Exercise 3\n",
    "The attached data is about observations of urban foxes in human habitat. The data has 5 columns:\n",
    "\n",
    "- *group*: Number of social group the fox belongs to\n",
    "- *avgfood*: The avg amount of food available in the territory\n",
    "- *groupsize*: The number of foxes in the social group\n",
    "- *area*: Size of the territory\n",
    "- *weight*: Body weight of the fox\n",
    "\n",
    "Fit a regression for *weight* as a linear function of *area*, and a regression for *weight* as a linear function of *groupsize*. What can you say about these relationships? Run a multivariate model with both variables, what can you conclude about this analysis?"
   ]
  },
  {
   "cell_type": "code",
   "execution_count": null,
   "metadata": {},
   "outputs": [],
   "source": []
  },
  {
   "cell_type": "markdown",
   "metadata": {},
   "source": [
    "**Exercise 4.** Consider the diabetes dataset"
   ]
  },
  {
   "cell_type": "code",
   "execution_count": null,
   "metadata": {},
   "outputs": [],
   "source": [
    "from sklearn import datasets \n",
    "import numpy as np\n",
    "import matplotlib.pyplot as plt\n",
    "\n",
    "dataset = datasets.load_diabetes(return_X_y=False)\n",
    "print(dataset.DESCR)"
   ]
  },
  {
   "cell_type": "code",
   "execution_count": null,
   "metadata": {},
   "outputs": [],
   "source": [
    "# Define the feature matrix\n",
    "data = dataset.data\n",
    "# Define the target\n",
    "target = dataset.target"
   ]
  },
  {
   "cell_type": "markdown",
   "metadata": {},
   "source": [
    "Investigate the relationship between age (data[:,0]) and Average blood pressure (data[:,3]) with a linear and quadratic model. \n",
    "\n",
    "- Which model do you think is better? \n",
    "- Predict a 95% confidence interval for the average blood pressure on an individual with mean age (0). \n",
    "\n"
   ]
  },
  {
   "cell_type": "code",
   "execution_count": null,
   "metadata": {},
   "outputs": [],
   "source": []
  }
 ],
 "metadata": {
  "kernelspec": {
   "display_name": "Python 3.10.6 64-bit",
   "language": "python",
   "name": "python3"
  },
  "language_info": {
   "codemirror_mode": {
    "name": "ipython",
    "version": 3
   },
   "file_extension": ".py",
   "mimetype": "text/x-python",
   "name": "python",
   "nbconvert_exporter": "python",
   "pygments_lexer": "ipython3",
   "version": "3.10.6"
  },
  "vscode": {
   "interpreter": {
    "hash": "916dbcbb3f70747c44a77c7bcd40155683ae19c65e1c03b4aa3499c5328201f1"
   }
  }
 },
 "nbformat": 4,
 "nbformat_minor": 2
}

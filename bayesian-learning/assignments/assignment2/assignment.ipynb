{
 "cells": [
  {
   "cell_type": "code",
   "execution_count": 134,
   "metadata": {},
   "outputs": [
    {
     "name": "stdout",
     "output_type": "stream",
     "text": [
      "The autoreload extension is already loaded. To reload it, use:\n",
      "  %reload_ext autoreload\n"
     ]
    }
   ],
   "source": [
    "from assignment_utils import *\n",
    "\n",
    "%load_ext autoreload\n",
    "%autoreload 2"
   ]
  },
  {
   "cell_type": "markdown",
   "metadata": {},
   "source": [
    "# Assignments 2\n",
    "\n",
    "\n",
    "## Exercise 1\n",
    "Consider the model:\n",
    "\n",
    "$$p(x|\\theta)\\propto \\frac{1}{\\sqrt{2\\pi}}\\exp(-\\frac{(x_1-\\theta)^2+(x_2-\\theta)^2}{2})$$\n",
    "\n",
    "Find a Laplace approximation for this model, as seen for the Binomal model, and plot the resulting Gaussian approximation. Can you relate this model to the posterior of the mean of a Gaussian as seen in class (Lesson 3)?"
   ]
  },
  {
   "cell_type": "markdown",
   "metadata": {},
   "source": [
    "___\n",
    "### Find Laplace approximation\n",
    "\n",
    "Let $f$ be defined as follows:\n",
    "$$\n",
    "p(x|\\theta)\\propto \\frac{1}{\\sqrt{2\\pi}}\\exp(-\\frac{(x_1-\\theta)^2+(x_2-\\theta)^2}{2})\n",
    "$$\n",
    "We define $g$ to be the function satisfying:\n",
    "$$\n",
    "f(x) = \\exp(\\log(f(x))) = \\exp(g(\\theta))\n",
    "$$\n",
    "From the Taylor expansion in a maximum of both $f$ and $g$ in $\\theta = \\theta_0$, we get:\n",
    "\\begin{align*}\n",
    "\\begin{cases}\n",
    "g(\\theta) = g(\\theta_0) + g'(\\theta_0)(\\theta-\\theta_0) + \\frac{1}{2}g''(\\theta_0)(\\theta-\\theta_0)^2 + O((\\theta - \\theta_0)^3)\\\\\n",
    "g'(\\theta_0) = 0 \\\\\n",
    "\\end{cases}\n",
    "\\end{align*}\n",
    "Therefore:\n",
    "\\begin{align*}\n",
    "g(\\theta) &\\approx g(\\theta_0) + \\frac{1}{2}g''(\\theta_0)(\\theta-\\theta_0)^2 \\\\\n",
    "f(\\theta) &\\approx f(\\theta_0) \\exp\\left[\\frac{1}{2}g''(\\theta_0)(\\theta-\\theta_0)^2\\right]\n",
    "\\end{align*}\n",
    "We recognize that the last term is the PDF of a Normal distribution:\n",
    "$$\n",
    "\\mathcal{N}\\left(\\theta_0, \\frac{-1}{g''(\\theta_0)}\\right)\n",
    "$$\n",
    "We find the maximum of the function by computing the derivative with respect to $\\theta$ and equating to 0. We compute the derivative:\n",
    "\\begin{align*}\n",
    "\\frac{\\partial}{\\partial \\theta} g(\\theta)\n",
    "&= \\frac{\\partial}{\\partial \\theta} \\log f(\\theta) \\\\\n",
    "&= \\frac{\\partial}{\\partial \\theta} \\left[ \\left( \\log \\frac{1}{\\sqrt{2\\pi}} \\right) -\\frac{(x_1-\\theta)^2+(x_2-\\theta)^2}{2} \\right] \\\\\n",
    "&= -\\frac{-2(x_1-\\theta)-2(x_2-\\theta)}{2} \\\\\n",
    "&= x_1+x_2-2\\theta \\\\\n",
    "\\end{align*}\n",
    "Now wet equate to 0:\n",
    "\\begin{align*}\n",
    "&\\frac{\\partial}{\\partial \\theta} g(\\theta_0) = 0 \\\\\n",
    "\\implies&\n",
    "x_1+x_2-2\\theta_0 = 0 \\\\\n",
    "\\implies&\n",
    "\\theta_0 = \\frac{x_1 + x_2}{2} \\\\\n",
    "\\end{align*}\n",
    "This gives us the mean of the normal distribution:\n",
    "$$\n",
    "\\mu := \\theta_0 = \\frac{x_1 + x_2}{2}\n",
    "$$"
   ]
  },
  {
   "cell_type": "markdown",
   "metadata": {},
   "source": [
    "Now to get the variance, we compute the second derivative fo $g$:\n",
    "$$\n",
    "\\frac{\\delta^2 g}{\\delta \\theta^2} (\\theta) = - 2\n",
    "$$\n",
    "and we evaluate it in $\\theta_0$:\n",
    "\\begin{align*}\n",
    "\\frac{\\delta^2 g}{\\delta \\theta^2} (\\theta_0)\n",
    "&= - 2 \\\\\n",
    "\\end{align*}\n",
    "but $\\frac{\\delta^2 g}{\\delta \\theta^2}$ doesn't depend on $\\theta$. Finally, the variance is given by:\n",
    "\\begin{align*}\n",
    "&\n",
    "\\sigma^2 = \\left[-\\frac{\\delta^2 g}{\\delta \\theta^2} (\\theta_0)\\right]^{-1} \\\\\n",
    " \\\\\n",
    "\\implies &\n",
    "\\sigma^2 = \\frac{1}{2}\n",
    "\\end{align*}\n",
    "Hence the Gaussian approximation is given by:\n",
    "$$\n",
    "\\mathcal{N}(\\mu, \\sigma^2)\n",
    "$$\n",
    "with $\\mu$ and $\\sigma$ defined previously."
   ]
  },
  {
   "cell_type": "markdown",
   "metadata": {},
   "source": [
    "### Plot ground truth vs Laplace approximation"
   ]
  },
  {
   "cell_type": "code",
   "execution_count": 135,
   "metadata": {},
   "outputs": [
    {
     "data": {
      "application/vnd.plotly.v1+json": {
       "config": {
        "plotlyServerURL": "https://plot.ly"
       },
       "data": [
        {
         "name": "PDF of the given model",
         "type": "scatter",
         "x": [
          0,
          0.010101010101010102,
          0.020202020202020204,
          0.030303030303030304,
          0.04040404040404041,
          0.05050505050505051,
          0.06060606060606061,
          0.07070707070707072,
          0.08080808080808081,
          0.09090909090909091,
          0.10101010101010102,
          0.11111111111111112,
          0.12121212121212122,
          0.13131313131313133,
          0.14141414141414144,
          0.15151515151515152,
          0.16161616161616163,
          0.17171717171717174,
          0.18181818181818182,
          0.19191919191919193,
          0.20202020202020204,
          0.21212121212121213,
          0.22222222222222224,
          0.23232323232323235,
          0.24242424242424243,
          0.25252525252525254,
          0.26262626262626265,
          0.27272727272727276,
          0.2828282828282829,
          0.29292929292929293,
          0.30303030303030304,
          0.31313131313131315,
          0.32323232323232326,
          0.33333333333333337,
          0.3434343434343435,
          0.3535353535353536,
          0.36363636363636365,
          0.37373737373737376,
          0.38383838383838387,
          0.393939393939394,
          0.4040404040404041,
          0.4141414141414142,
          0.42424242424242425,
          0.43434343434343436,
          0.4444444444444445,
          0.4545454545454546,
          0.4646464646464647,
          0.4747474747474748,
          0.48484848484848486,
          0.494949494949495,
          0.5050505050505051,
          0.5151515151515152,
          0.5252525252525253,
          0.5353535353535354,
          0.5454545454545455,
          0.5555555555555556,
          0.5656565656565657,
          0.5757575757575758,
          0.5858585858585859,
          0.595959595959596,
          0.6060606060606061,
          0.6161616161616162,
          0.6262626262626263,
          0.6363636363636365,
          0.6464646464646465,
          0.6565656565656566,
          0.6666666666666667,
          0.6767676767676768,
          0.686868686868687,
          0.696969696969697,
          0.7070707070707072,
          0.7171717171717172,
          0.7272727272727273,
          0.7373737373737375,
          0.7474747474747475,
          0.7575757575757577,
          0.7676767676767677,
          0.7777777777777778,
          0.787878787878788,
          0.797979797979798,
          0.8080808080808082,
          0.8181818181818182,
          0.8282828282828284,
          0.8383838383838385,
          0.8484848484848485,
          0.8585858585858587,
          0.8686868686868687,
          0.8787878787878789,
          0.888888888888889,
          0.8989898989898991,
          0.9090909090909092,
          0.9191919191919192,
          0.9292929292929294,
          0.9393939393939394,
          0.9494949494949496,
          0.9595959595959597,
          0.9696969696969697,
          0.9797979797979799,
          0.98989898989899,
          1
         ],
         "y": [
          0.00845501289719066,
          0.008539978476127145,
          0.008624037878042303,
          0.008707147711611888,
          0.008789264746966877,
          0.008870345952699737,
          0.008950348533020024,
          0.009029229965015081,
          0.009106948035970968,
          0.009183460880708268,
          0.009258727018887018,
          0.009332705392234613,
          0.009405355401650297,
          0.0094766369441396,
          0.009546510449532012,
          0.009614936916935019,
          0.009681877950877785,
          0.009747295797097745,
          0.009811153377923579,
          0.009873414327208325,
          0.00993404302476666,
          0.009993004630270828,
          0.010050265116560144,
          0.010105791302319573,
          0.010159550884083527,
          0.010211512467521729,
          0.010261645597964763,
          0.010309920790127809,
          0.010356309556991985,
          0.010400784437803715,
          0.010443319025153627,
          0.010483887991097611,
          0.010522467112283886,
          0.01055903329405119,
          0.010593564593464545,
          0.010626040241256412,
          0.010656440662642578,
          0.010684747496983523,
          0.010710943616263652,
          0.010735013142362351,
          0.010756941463092485,
          0.010776715246983665,
          0.010794322456789344,
          0.010809752361698592,
          0.010822995548235181,
          0.01083404392982853,
          0.010842890755042831,
          0.010849530614452695,
          0.010853959446155453,
          0.010856174539912286,
          0.010856174539912286,
          0.010853959446155453,
          0.010849530614452695,
          0.010842890755042831,
          0.01083404392982853,
          0.010822995548235181,
          0.010809752361698592,
          0.010794322456789344,
          0.010776715246983665,
          0.010756941463092485,
          0.010735013142362351,
          0.010710943616263652,
          0.010684747496983523,
          0.010656440662642578,
          0.01062604024125641,
          0.010593564593464543,
          0.010559033294051189,
          0.010522467112283886,
          0.01048388799109761,
          0.010443319025153625,
          0.010400784437803715,
          0.010356309556991985,
          0.010309920790127809,
          0.01026164559796476,
          0.010211512467521727,
          0.010159550884083527,
          0.010105791302319572,
          0.010050265116560144,
          0.009993004630270827,
          0.00993404302476666,
          0.009873414327208323,
          0.009811153377923579,
          0.009747295797097743,
          0.009681877950877785,
          0.009614936916935017,
          0.009546510449532012,
          0.0094766369441396,
          0.009405355401650295,
          0.009332705392234611,
          0.009258727018887017,
          0.009183460880708268,
          0.009106948035970966,
          0.00902922996501508,
          0.008950348533020024,
          0.008870345952699735,
          0.008789264746966875,
          0.008707147711611888,
          0.008624037878042303,
          0.008539978476127143,
          0.00845501289719066
         ]
        },
        {
         "name": "Laplace approximation",
         "type": "scatter",
         "x": [
          0,
          0.010101010101010102,
          0.020202020202020204,
          0.030303030303030304,
          0.04040404040404041,
          0.05050505050505051,
          0.06060606060606061,
          0.07070707070707072,
          0.08080808080808081,
          0.09090909090909091,
          0.10101010101010102,
          0.11111111111111112,
          0.12121212121212122,
          0.13131313131313133,
          0.14141414141414144,
          0.15151515151515152,
          0.16161616161616163,
          0.17171717171717174,
          0.18181818181818182,
          0.19191919191919193,
          0.20202020202020204,
          0.21212121212121213,
          0.22222222222222224,
          0.23232323232323235,
          0.24242424242424243,
          0.25252525252525254,
          0.26262626262626265,
          0.27272727272727276,
          0.2828282828282829,
          0.29292929292929293,
          0.30303030303030304,
          0.31313131313131315,
          0.32323232323232326,
          0.33333333333333337,
          0.3434343434343435,
          0.3535353535353536,
          0.36363636363636365,
          0.37373737373737376,
          0.38383838383838387,
          0.393939393939394,
          0.4040404040404041,
          0.4141414141414142,
          0.42424242424242425,
          0.43434343434343436,
          0.4444444444444445,
          0.4545454545454546,
          0.4646464646464647,
          0.4747474747474748,
          0.48484848484848486,
          0.494949494949495,
          0.5050505050505051,
          0.5151515151515152,
          0.5252525252525253,
          0.5353535353535354,
          0.5454545454545455,
          0.5555555555555556,
          0.5656565656565657,
          0.5757575757575758,
          0.5858585858585859,
          0.595959595959596,
          0.6060606060606061,
          0.6161616161616162,
          0.6262626262626263,
          0.6363636363636365,
          0.6464646464646465,
          0.6565656565656566,
          0.6666666666666667,
          0.6767676767676768,
          0.686868686868687,
          0.696969696969697,
          0.7070707070707072,
          0.7171717171717172,
          0.7272727272727273,
          0.7373737373737375,
          0.7474747474747475,
          0.7575757575757577,
          0.7676767676767677,
          0.7777777777777778,
          0.787878787878788,
          0.797979797979798,
          0.8080808080808082,
          0.8181818181818182,
          0.8282828282828284,
          0.8383838383838385,
          0.8484848484848485,
          0.8585858585858587,
          0.8686868686868687,
          0.8787878787878789,
          0.888888888888889,
          0.8989898989898991,
          0.9090909090909092,
          0.9191919191919192,
          0.9292929292929294,
          0.9393939393939394,
          0.9494949494949496,
          0.9595959595959597,
          0.9696969696969697,
          0.9797979797979799,
          0.98989898989899,
          1
         ],
         "y": [
          0.008455012897190658,
          0.008539978476127143,
          0.008624037878042301,
          0.008707147711611886,
          0.008789264746966874,
          0.008870345952699735,
          0.00895034853302002,
          0.00902922996501508,
          0.009106948035970966,
          0.009183460880708266,
          0.009258727018887017,
          0.00933270539223461,
          0.009405355401650294,
          0.0094766369441396,
          0.00954651044953201,
          0.009614936916935015,
          0.009681877950877783,
          0.009747295797097742,
          0.009811153377923577,
          0.009873414327208322,
          0.009934043024766656,
          0.009993004630270825,
          0.010050265116560141,
          0.010105791302319572,
          0.010159550884083523,
          0.010211512467521727,
          0.01026164559796476,
          0.010309920790127807,
          0.010356309556991983,
          0.010400784437803713,
          0.010443319025153625,
          0.01048388799109761,
          0.010522467112283884,
          0.010559033294051189,
          0.010593564593464541,
          0.010626040241256409,
          0.010656440662642578,
          0.01068474749698352,
          0.010710943616263648,
          0.01073501314236235,
          0.010756941463092484,
          0.010776715246983662,
          0.010794322456789344,
          0.01080975236169859,
          0.01082299554823518,
          0.010834043929828526,
          0.01084289075504283,
          0.010849530614452693,
          0.010853959446155451,
          0.010856174539912286,
          0.010856174539912286,
          0.010853959446155451,
          0.010849530614452693,
          0.01084289075504283,
          0.010834043929828526,
          0.01082299554823518,
          0.01080975236169859,
          0.010794322456789343,
          0.010776715246983662,
          0.010756941463092484,
          0.01073501314236235,
          0.010710943616263648,
          0.01068474749698352,
          0.010656440662642578,
          0.010626040241256409,
          0.010593564593464541,
          0.010559033294051189,
          0.010522467112283882,
          0.01048388799109761,
          0.010443319025153625,
          0.010400784437803713,
          0.010356309556991983,
          0.010309920790127807,
          0.01026164559796476,
          0.010211512467521727,
          0.010159550884083523,
          0.010105791302319572,
          0.010050265116560141,
          0.009993004630270825,
          0.009934043024766656,
          0.009873414327208322,
          0.009811153377923577,
          0.009747295797097742,
          0.009681877950877783,
          0.009614936916935015,
          0.00954651044953201,
          0.0094766369441396,
          0.009405355401650292,
          0.00933270539223461,
          0.009258727018887015,
          0.009183460880708266,
          0.009106948035970966,
          0.00902922996501508,
          0.00895034853302002,
          0.008870345952699735,
          0.008789264746966874,
          0.008707147711611886,
          0.008624037878042301,
          0.008539978476127141,
          0.008455012897190658
         ]
        }
       ],
       "layout": {
        "showlegend": true,
        "template": {
         "data": {
          "bar": [
           {
            "error_x": {
             "color": "#2a3f5f"
            },
            "error_y": {
             "color": "#2a3f5f"
            },
            "marker": {
             "line": {
              "color": "white",
              "width": 0.5
             },
             "pattern": {
              "fillmode": "overlay",
              "size": 10,
              "solidity": 0.2
             }
            },
            "type": "bar"
           }
          ],
          "barpolar": [
           {
            "marker": {
             "line": {
              "color": "white",
              "width": 0.5
             },
             "pattern": {
              "fillmode": "overlay",
              "size": 10,
              "solidity": 0.2
             }
            },
            "type": "barpolar"
           }
          ],
          "carpet": [
           {
            "aaxis": {
             "endlinecolor": "#2a3f5f",
             "gridcolor": "#C8D4E3",
             "linecolor": "#C8D4E3",
             "minorgridcolor": "#C8D4E3",
             "startlinecolor": "#2a3f5f"
            },
            "baxis": {
             "endlinecolor": "#2a3f5f",
             "gridcolor": "#C8D4E3",
             "linecolor": "#C8D4E3",
             "minorgridcolor": "#C8D4E3",
             "startlinecolor": "#2a3f5f"
            },
            "type": "carpet"
           }
          ],
          "choropleth": [
           {
            "colorbar": {
             "outlinewidth": 0,
             "ticks": ""
            },
            "type": "choropleth"
           }
          ],
          "contour": [
           {
            "colorbar": {
             "outlinewidth": 0,
             "ticks": ""
            },
            "colorscale": [
             [
              0,
              "#0d0887"
             ],
             [
              0.1111111111111111,
              "#46039f"
             ],
             [
              0.2222222222222222,
              "#7201a8"
             ],
             [
              0.3333333333333333,
              "#9c179e"
             ],
             [
              0.4444444444444444,
              "#bd3786"
             ],
             [
              0.5555555555555556,
              "#d8576b"
             ],
             [
              0.6666666666666666,
              "#ed7953"
             ],
             [
              0.7777777777777778,
              "#fb9f3a"
             ],
             [
              0.8888888888888888,
              "#fdca26"
             ],
             [
              1,
              "#f0f921"
             ]
            ],
            "type": "contour"
           }
          ],
          "contourcarpet": [
           {
            "colorbar": {
             "outlinewidth": 0,
             "ticks": ""
            },
            "type": "contourcarpet"
           }
          ],
          "heatmap": [
           {
            "colorbar": {
             "outlinewidth": 0,
             "ticks": ""
            },
            "colorscale": [
             [
              0,
              "#0d0887"
             ],
             [
              0.1111111111111111,
              "#46039f"
             ],
             [
              0.2222222222222222,
              "#7201a8"
             ],
             [
              0.3333333333333333,
              "#9c179e"
             ],
             [
              0.4444444444444444,
              "#bd3786"
             ],
             [
              0.5555555555555556,
              "#d8576b"
             ],
             [
              0.6666666666666666,
              "#ed7953"
             ],
             [
              0.7777777777777778,
              "#fb9f3a"
             ],
             [
              0.8888888888888888,
              "#fdca26"
             ],
             [
              1,
              "#f0f921"
             ]
            ],
            "type": "heatmap"
           }
          ],
          "heatmapgl": [
           {
            "colorbar": {
             "outlinewidth": 0,
             "ticks": ""
            },
            "colorscale": [
             [
              0,
              "#0d0887"
             ],
             [
              0.1111111111111111,
              "#46039f"
             ],
             [
              0.2222222222222222,
              "#7201a8"
             ],
             [
              0.3333333333333333,
              "#9c179e"
             ],
             [
              0.4444444444444444,
              "#bd3786"
             ],
             [
              0.5555555555555556,
              "#d8576b"
             ],
             [
              0.6666666666666666,
              "#ed7953"
             ],
             [
              0.7777777777777778,
              "#fb9f3a"
             ],
             [
              0.8888888888888888,
              "#fdca26"
             ],
             [
              1,
              "#f0f921"
             ]
            ],
            "type": "heatmapgl"
           }
          ],
          "histogram": [
           {
            "marker": {
             "pattern": {
              "fillmode": "overlay",
              "size": 10,
              "solidity": 0.2
             }
            },
            "type": "histogram"
           }
          ],
          "histogram2d": [
           {
            "colorbar": {
             "outlinewidth": 0,
             "ticks": ""
            },
            "colorscale": [
             [
              0,
              "#0d0887"
             ],
             [
              0.1111111111111111,
              "#46039f"
             ],
             [
              0.2222222222222222,
              "#7201a8"
             ],
             [
              0.3333333333333333,
              "#9c179e"
             ],
             [
              0.4444444444444444,
              "#bd3786"
             ],
             [
              0.5555555555555556,
              "#d8576b"
             ],
             [
              0.6666666666666666,
              "#ed7953"
             ],
             [
              0.7777777777777778,
              "#fb9f3a"
             ],
             [
              0.8888888888888888,
              "#fdca26"
             ],
             [
              1,
              "#f0f921"
             ]
            ],
            "type": "histogram2d"
           }
          ],
          "histogram2dcontour": [
           {
            "colorbar": {
             "outlinewidth": 0,
             "ticks": ""
            },
            "colorscale": [
             [
              0,
              "#0d0887"
             ],
             [
              0.1111111111111111,
              "#46039f"
             ],
             [
              0.2222222222222222,
              "#7201a8"
             ],
             [
              0.3333333333333333,
              "#9c179e"
             ],
             [
              0.4444444444444444,
              "#bd3786"
             ],
             [
              0.5555555555555556,
              "#d8576b"
             ],
             [
              0.6666666666666666,
              "#ed7953"
             ],
             [
              0.7777777777777778,
              "#fb9f3a"
             ],
             [
              0.8888888888888888,
              "#fdca26"
             ],
             [
              1,
              "#f0f921"
             ]
            ],
            "type": "histogram2dcontour"
           }
          ],
          "mesh3d": [
           {
            "colorbar": {
             "outlinewidth": 0,
             "ticks": ""
            },
            "type": "mesh3d"
           }
          ],
          "parcoords": [
           {
            "line": {
             "colorbar": {
              "outlinewidth": 0,
              "ticks": ""
             }
            },
            "type": "parcoords"
           }
          ],
          "pie": [
           {
            "automargin": true,
            "type": "pie"
           }
          ],
          "scatter": [
           {
            "fillpattern": {
             "fillmode": "overlay",
             "size": 10,
             "solidity": 0.2
            },
            "type": "scatter"
           }
          ],
          "scatter3d": [
           {
            "line": {
             "colorbar": {
              "outlinewidth": 0,
              "ticks": ""
             }
            },
            "marker": {
             "colorbar": {
              "outlinewidth": 0,
              "ticks": ""
             }
            },
            "type": "scatter3d"
           }
          ],
          "scattercarpet": [
           {
            "marker": {
             "colorbar": {
              "outlinewidth": 0,
              "ticks": ""
             }
            },
            "type": "scattercarpet"
           }
          ],
          "scattergeo": [
           {
            "marker": {
             "colorbar": {
              "outlinewidth": 0,
              "ticks": ""
             }
            },
            "type": "scattergeo"
           }
          ],
          "scattergl": [
           {
            "marker": {
             "colorbar": {
              "outlinewidth": 0,
              "ticks": ""
             }
            },
            "type": "scattergl"
           }
          ],
          "scattermapbox": [
           {
            "marker": {
             "colorbar": {
              "outlinewidth": 0,
              "ticks": ""
             }
            },
            "type": "scattermapbox"
           }
          ],
          "scatterpolar": [
           {
            "marker": {
             "colorbar": {
              "outlinewidth": 0,
              "ticks": ""
             }
            },
            "type": "scatterpolar"
           }
          ],
          "scatterpolargl": [
           {
            "marker": {
             "colorbar": {
              "outlinewidth": 0,
              "ticks": ""
             }
            },
            "type": "scatterpolargl"
           }
          ],
          "scatterternary": [
           {
            "marker": {
             "colorbar": {
              "outlinewidth": 0,
              "ticks": ""
             }
            },
            "type": "scatterternary"
           }
          ],
          "surface": [
           {
            "colorbar": {
             "outlinewidth": 0,
             "ticks": ""
            },
            "colorscale": [
             [
              0,
              "#0d0887"
             ],
             [
              0.1111111111111111,
              "#46039f"
             ],
             [
              0.2222222222222222,
              "#7201a8"
             ],
             [
              0.3333333333333333,
              "#9c179e"
             ],
             [
              0.4444444444444444,
              "#bd3786"
             ],
             [
              0.5555555555555556,
              "#d8576b"
             ],
             [
              0.6666666666666666,
              "#ed7953"
             ],
             [
              0.7777777777777778,
              "#fb9f3a"
             ],
             [
              0.8888888888888888,
              "#fdca26"
             ],
             [
              1,
              "#f0f921"
             ]
            ],
            "type": "surface"
           }
          ],
          "table": [
           {
            "cells": {
             "fill": {
              "color": "#EBF0F8"
             },
             "line": {
              "color": "white"
             }
            },
            "header": {
             "fill": {
              "color": "#C8D4E3"
             },
             "line": {
              "color": "white"
             }
            },
            "type": "table"
           }
          ]
         },
         "layout": {
          "annotationdefaults": {
           "arrowcolor": "#2a3f5f",
           "arrowhead": 0,
           "arrowwidth": 1
          },
          "autotypenumbers": "strict",
          "coloraxis": {
           "colorbar": {
            "outlinewidth": 0,
            "ticks": ""
           }
          },
          "colorscale": {
           "diverging": [
            [
             0,
             "#8e0152"
            ],
            [
             0.1,
             "#c51b7d"
            ],
            [
             0.2,
             "#de77ae"
            ],
            [
             0.3,
             "#f1b6da"
            ],
            [
             0.4,
             "#fde0ef"
            ],
            [
             0.5,
             "#f7f7f7"
            ],
            [
             0.6,
             "#e6f5d0"
            ],
            [
             0.7,
             "#b8e186"
            ],
            [
             0.8,
             "#7fbc41"
            ],
            [
             0.9,
             "#4d9221"
            ],
            [
             1,
             "#276419"
            ]
           ],
           "sequential": [
            [
             0,
             "#0d0887"
            ],
            [
             0.1111111111111111,
             "#46039f"
            ],
            [
             0.2222222222222222,
             "#7201a8"
            ],
            [
             0.3333333333333333,
             "#9c179e"
            ],
            [
             0.4444444444444444,
             "#bd3786"
            ],
            [
             0.5555555555555556,
             "#d8576b"
            ],
            [
             0.6666666666666666,
             "#ed7953"
            ],
            [
             0.7777777777777778,
             "#fb9f3a"
            ],
            [
             0.8888888888888888,
             "#fdca26"
            ],
            [
             1,
             "#f0f921"
            ]
           ],
           "sequentialminus": [
            [
             0,
             "#0d0887"
            ],
            [
             0.1111111111111111,
             "#46039f"
            ],
            [
             0.2222222222222222,
             "#7201a8"
            ],
            [
             0.3333333333333333,
             "#9c179e"
            ],
            [
             0.4444444444444444,
             "#bd3786"
            ],
            [
             0.5555555555555556,
             "#d8576b"
            ],
            [
             0.6666666666666666,
             "#ed7953"
            ],
            [
             0.7777777777777778,
             "#fb9f3a"
            ],
            [
             0.8888888888888888,
             "#fdca26"
            ],
            [
             1,
             "#f0f921"
            ]
           ]
          },
          "colorway": [
           "#636efa",
           "#EF553B",
           "#00cc96",
           "#ab63fa",
           "#FFA15A",
           "#19d3f3",
           "#FF6692",
           "#B6E880",
           "#FF97FF",
           "#FECB52"
          ],
          "font": {
           "color": "#2a3f5f"
          },
          "geo": {
           "bgcolor": "white",
           "lakecolor": "white",
           "landcolor": "white",
           "showlakes": true,
           "showland": true,
           "subunitcolor": "#C8D4E3"
          },
          "hoverlabel": {
           "align": "left"
          },
          "hovermode": "closest",
          "mapbox": {
           "style": "light"
          },
          "paper_bgcolor": "white",
          "plot_bgcolor": "white",
          "polar": {
           "angularaxis": {
            "gridcolor": "#EBF0F8",
            "linecolor": "#EBF0F8",
            "ticks": ""
           },
           "bgcolor": "white",
           "radialaxis": {
            "gridcolor": "#EBF0F8",
            "linecolor": "#EBF0F8",
            "ticks": ""
           }
          },
          "scene": {
           "xaxis": {
            "backgroundcolor": "white",
            "gridcolor": "#DFE8F3",
            "gridwidth": 2,
            "linecolor": "#EBF0F8",
            "showbackground": true,
            "ticks": "",
            "zerolinecolor": "#EBF0F8"
           },
           "yaxis": {
            "backgroundcolor": "white",
            "gridcolor": "#DFE8F3",
            "gridwidth": 2,
            "linecolor": "#EBF0F8",
            "showbackground": true,
            "ticks": "",
            "zerolinecolor": "#EBF0F8"
           },
           "zaxis": {
            "backgroundcolor": "white",
            "gridcolor": "#DFE8F3",
            "gridwidth": 2,
            "linecolor": "#EBF0F8",
            "showbackground": true,
            "ticks": "",
            "zerolinecolor": "#EBF0F8"
           }
          },
          "shapedefaults": {
           "line": {
            "color": "#2a3f5f"
           }
          },
          "ternary": {
           "aaxis": {
            "gridcolor": "#DFE8F3",
            "linecolor": "#A2B1C6",
            "ticks": ""
           },
           "baxis": {
            "gridcolor": "#DFE8F3",
            "linecolor": "#A2B1C6",
            "ticks": ""
           },
           "bgcolor": "white",
           "caxis": {
            "gridcolor": "#DFE8F3",
            "linecolor": "#A2B1C6",
            "ticks": ""
           }
          },
          "title": {
           "x": 0.05
          },
          "xaxis": {
           "automargin": true,
           "gridcolor": "#EBF0F8",
           "linecolor": "#EBF0F8",
           "ticks": "",
           "title": {
            "standoff": 15
           },
           "zerolinecolor": "#EBF0F8",
           "zerolinewidth": 2
          },
          "yaxis": {
           "automargin": true,
           "gridcolor": "#EBF0F8",
           "linecolor": "#EBF0F8",
           "ticks": "",
           "title": {
            "standoff": 15
           },
           "zerolinecolor": "#EBF0F8",
           "zerolinewidth": 2
          }
         }
        },
        "title": {
         "text": "Comparison ground truth vs Laplace approximation"
        }
       }
      }
     },
     "metadata": {},
     "output_type": "display_data"
    }
   ],
   "source": [
    "plot_model_vs_laplace(x1=0.3, x2=0.7)"
   ]
  },
  {
   "cell_type": "markdown",
   "metadata": {},
   "source": [
    "### Relate with the posterior for the mean of a normal distribution\n",
    "Lesson 3 tells us that the posterior for the mean of a normal distribution is proportional to:\n",
    "$$\n",
    "(1) \\iff p(\\theta | y) \\sim \\exp[-\\frac{1}{2\\sigma^2}(y-\\theta)^2 - \\frac{1}{2\\tau_0^2}(\\theta-\\mu_0)^2]\n",
    "$$\n",
    "We want to relate this to our model:\n",
    "$$\n",
    "(2) \\iff p(x|\\theta) \\propto \\frac{1}{\\sqrt{2\\pi}}\\exp(-\\frac{(x_1-\\theta)^2+(x_2-\\theta)^2}{2})\n",
    "$$\n",
    "Setting $\\tau_0 = \\sigma^2 = 1$ in $(1)$ and $x_1 = y, x_2 = \\mu_0$ in $(2)$, we get:\n",
    "\\begin{align*}\n",
    "p(\\theta | y) \n",
    "&\\sim \\exp[-\\frac{1}{2\\sigma^2}(y-\\theta)^2 - \\frac{1}{2\\tau_0^2}(\\theta-\\mu_0)^2] \\\\\n",
    "&= \\exp[-\\frac{(y-\\theta)^2 -(\\theta-\\mu_0)^2}{2}] \\\\\n",
    "&= \\exp[-\\frac{(x_1-\\theta)^2 -(\\theta-x_2)^2}{2}] \\\\\n",
    "&\\propto \\frac{1}{\\sqrt{2\\pi}} \\exp[-\\frac{(x_1-\\theta)^2 -(x_2-\\theta)^2}{2}] \\\\\n",
    "&\\propto p(x|\\theta) \\\\\n",
    "\\end{align*}\n",
    "Thus we see that the two quantities at hand are proportional, and therefore related."
   ]
  },
  {
   "cell_type": "markdown",
   "metadata": {},
   "source": [
    "## Exercise 2\n",
    "Write down a model to evaluate the claim: *Animal diversity is related to latitude, but only after controlling for plant diversity*. You just need to write down the model definition.\n",
    "___"
   ]
  },
  {
   "cell_type": "markdown",
   "metadata": {},
   "source": [
    "Latitude represents the angle of how far north a point is situated. It is -90° at the south pole, 0° at the equator and 90° at the north pole.\n",
    "\n",
    "One could easily assume that the further away from the equator (north pole, south pole), the most inhospitable the environment. On the other hand, the closer from the equator (tropical rainforest), the most prolific the environment, *i.e.* high animal diversity.\n",
    "\n",
    "One could also assume that the model has some symmetry built into it as we see similar behaviors when latitude increases both positively or negatively.\n",
    "\n",
    "Finally, we can assume that animal and plant diversity are positively. This seems as a natural assumption.\n",
    "\n",
    "In order to measure animal diversity, one would need to find an appropriate metric. Maybe something like the number of animal species per $km^2$.\n",
    "\n",
    "We expect the plant diversity as a function of latitude to look something like the plot below:"
   ]
  },
  {
   "cell_type": "code",
   "execution_count": 136,
   "metadata": {},
   "outputs": [
    {
     "data": {
      "application/vnd.plotly.v1+json": {
       "config": {
        "plotlyServerURL": "https://plot.ly"
       },
       "data": [
        {
         "mode": "markers",
         "type": "scatter",
         "x": [
          0,
          0.9090909090909091,
          1.8181818181818181,
          2.727272727272727,
          3.6363636363636362,
          4.545454545454545,
          5.454545454545454,
          6.363636363636363,
          7.2727272727272725,
          8.181818181818182,
          9.09090909090909,
          10,
          10.909090909090908,
          11.818181818181818,
          12.727272727272727,
          13.636363636363637,
          14.545454545454545,
          15.454545454545453,
          16.363636363636363,
          17.272727272727273,
          18.18181818181818,
          19.09090909090909,
          20,
          20.90909090909091,
          21.818181818181817,
          22.727272727272727,
          23.636363636363637,
          24.545454545454543,
          25.454545454545453,
          26.363636363636363,
          27.272727272727273,
          28.18181818181818,
          29.09090909090909,
          30,
          30.909090909090907,
          31.818181818181817,
          32.72727272727273,
          33.63636363636363,
          34.54545454545455,
          35.45454545454545,
          36.36363636363636,
          37.27272727272727,
          38.18181818181818,
          39.090909090909086,
          40,
          40.90909090909091,
          41.81818181818182,
          42.72727272727273,
          43.63636363636363,
          44.54545454545455,
          45.45454545454545,
          46.36363636363636,
          47.27272727272727,
          48.18181818181818,
          49.090909090909086,
          50,
          50.90909090909091,
          51.81818181818181,
          52.72727272727273,
          53.63636363636363,
          54.54545454545455,
          55.45454545454545,
          56.36363636363636,
          57.27272727272727,
          58.18181818181818,
          59.090909090909086,
          60,
          60.90909090909091,
          61.81818181818181,
          62.72727272727273,
          63.63636363636363,
          64.54545454545455,
          65.45454545454545,
          66.36363636363636,
          67.27272727272727,
          68.18181818181817,
          69.0909090909091,
          70,
          70.9090909090909,
          71.81818181818181,
          72.72727272727272,
          73.63636363636364,
          74.54545454545455,
          75.45454545454545,
          76.36363636363636,
          77.27272727272727,
          78.18181818181817,
          79.0909090909091,
          80,
          80.9090909090909,
          81.81818181818181,
          82.72727272727272,
          83.63636363636364,
          84.54545454545455,
          85.45454545454545,
          86.36363636363636,
          87.27272727272727,
          88.18181818181817,
          89.0909090909091,
          90
         ],
         "y": [
          99.57250745346566,
          83.92518314439262,
          89.78808864802419,
          88.90672604514036,
          88.47010655688874,
          88.104312385771,
          80.61345957708826,
          82.5710486869974,
          80.69708889129599,
          87.49235867027797,
          81.50013794521874,
          82.95550256031746,
          84.7854293955202,
          79.91956133637387,
          76.15327847003282,
          77.58899847266844,
          70.13856716519288,
          76.87599470016741,
          70.02427903934411,
          73.15796949525496,
          75.17938747662912,
          71.96123726771486,
          65.19309063161056,
          64.67634699215766,
          68.27124691712051,
          66.7339568123963,
          63.026218835092024,
          67.11814404284195,
          57.20392682973431,
          68.22854225080782,
          61.11355726647888,
          61.76556295820361,
          61.40737757144995,
          63.82366807486984,
          54.30704083689581,
          57.278187159060316,
          58.37093201615928,
          56.14135704380057,
          56.787121554810376,
          52.92854788539715,
          53.823548420227226,
          57.38459522629957,
          53.19410698742004,
          57.24404393054023,
          50.539214641083895,
          45.37244731748238,
          46.13657533028085,
          39.83114688661011,
          46.53097457601307,
          40.31496616798029,
          49.11802192898431,
          48.11389720398231,
          43.71874126721754,
          42.80735351727405,
          39.13105093010089,
          37.271646410200646,
          35.37918499034396,
          41.3971603252058,
          39.32517955785997,
          36.08134646274474,
          42.68122959156201,
          36.56931811976368,
          36.90240864441892,
          32.13664843599181,
          33.06988395454023,
          34.75102953045132,
          31.85110145295143,
          33.746122009547896,
          31.31311318581141,
          29.146289341361026,
          28.586621866940312,
          25.64896275135118,
          25.786678305077583,
          22.665229180199752,
          19.081688137132048,
          19.040694444533244,
          16.821102715384345,
          18.740328915453976,
          22.547740886226855,
          14.301711390418,
          15.414991470795671,
          15.747916541718705,
          7.905854879916037,
          16.231984615113255,
          10.389730351165852,
          12.186044244801375,
          14.813851768513446,
          6.7626264108935095,
          6.05426525436045,
          11.677396407017769,
          6.508906699516666,
          6.450907575610117,
          3.873107240752418,
          8.70885623160921,
          1.362025705649752,
          -1.1131160629021726,
          6.179454843485107,
          4.740140077296548,
          1.10041281940313,
          -0.8571432687071702
         ]
        }
       ],
       "layout": {
        "template": {
         "data": {
          "bar": [
           {
            "error_x": {
             "color": "#2a3f5f"
            },
            "error_y": {
             "color": "#2a3f5f"
            },
            "marker": {
             "line": {
              "color": "white",
              "width": 0.5
             },
             "pattern": {
              "fillmode": "overlay",
              "size": 10,
              "solidity": 0.2
             }
            },
            "type": "bar"
           }
          ],
          "barpolar": [
           {
            "marker": {
             "line": {
              "color": "white",
              "width": 0.5
             },
             "pattern": {
              "fillmode": "overlay",
              "size": 10,
              "solidity": 0.2
             }
            },
            "type": "barpolar"
           }
          ],
          "carpet": [
           {
            "aaxis": {
             "endlinecolor": "#2a3f5f",
             "gridcolor": "#C8D4E3",
             "linecolor": "#C8D4E3",
             "minorgridcolor": "#C8D4E3",
             "startlinecolor": "#2a3f5f"
            },
            "baxis": {
             "endlinecolor": "#2a3f5f",
             "gridcolor": "#C8D4E3",
             "linecolor": "#C8D4E3",
             "minorgridcolor": "#C8D4E3",
             "startlinecolor": "#2a3f5f"
            },
            "type": "carpet"
           }
          ],
          "choropleth": [
           {
            "colorbar": {
             "outlinewidth": 0,
             "ticks": ""
            },
            "type": "choropleth"
           }
          ],
          "contour": [
           {
            "colorbar": {
             "outlinewidth": 0,
             "ticks": ""
            },
            "colorscale": [
             [
              0,
              "#0d0887"
             ],
             [
              0.1111111111111111,
              "#46039f"
             ],
             [
              0.2222222222222222,
              "#7201a8"
             ],
             [
              0.3333333333333333,
              "#9c179e"
             ],
             [
              0.4444444444444444,
              "#bd3786"
             ],
             [
              0.5555555555555556,
              "#d8576b"
             ],
             [
              0.6666666666666666,
              "#ed7953"
             ],
             [
              0.7777777777777778,
              "#fb9f3a"
             ],
             [
              0.8888888888888888,
              "#fdca26"
             ],
             [
              1,
              "#f0f921"
             ]
            ],
            "type": "contour"
           }
          ],
          "contourcarpet": [
           {
            "colorbar": {
             "outlinewidth": 0,
             "ticks": ""
            },
            "type": "contourcarpet"
           }
          ],
          "heatmap": [
           {
            "colorbar": {
             "outlinewidth": 0,
             "ticks": ""
            },
            "colorscale": [
             [
              0,
              "#0d0887"
             ],
             [
              0.1111111111111111,
              "#46039f"
             ],
             [
              0.2222222222222222,
              "#7201a8"
             ],
             [
              0.3333333333333333,
              "#9c179e"
             ],
             [
              0.4444444444444444,
              "#bd3786"
             ],
             [
              0.5555555555555556,
              "#d8576b"
             ],
             [
              0.6666666666666666,
              "#ed7953"
             ],
             [
              0.7777777777777778,
              "#fb9f3a"
             ],
             [
              0.8888888888888888,
              "#fdca26"
             ],
             [
              1,
              "#f0f921"
             ]
            ],
            "type": "heatmap"
           }
          ],
          "heatmapgl": [
           {
            "colorbar": {
             "outlinewidth": 0,
             "ticks": ""
            },
            "colorscale": [
             [
              0,
              "#0d0887"
             ],
             [
              0.1111111111111111,
              "#46039f"
             ],
             [
              0.2222222222222222,
              "#7201a8"
             ],
             [
              0.3333333333333333,
              "#9c179e"
             ],
             [
              0.4444444444444444,
              "#bd3786"
             ],
             [
              0.5555555555555556,
              "#d8576b"
             ],
             [
              0.6666666666666666,
              "#ed7953"
             ],
             [
              0.7777777777777778,
              "#fb9f3a"
             ],
             [
              0.8888888888888888,
              "#fdca26"
             ],
             [
              1,
              "#f0f921"
             ]
            ],
            "type": "heatmapgl"
           }
          ],
          "histogram": [
           {
            "marker": {
             "pattern": {
              "fillmode": "overlay",
              "size": 10,
              "solidity": 0.2
             }
            },
            "type": "histogram"
           }
          ],
          "histogram2d": [
           {
            "colorbar": {
             "outlinewidth": 0,
             "ticks": ""
            },
            "colorscale": [
             [
              0,
              "#0d0887"
             ],
             [
              0.1111111111111111,
              "#46039f"
             ],
             [
              0.2222222222222222,
              "#7201a8"
             ],
             [
              0.3333333333333333,
              "#9c179e"
             ],
             [
              0.4444444444444444,
              "#bd3786"
             ],
             [
              0.5555555555555556,
              "#d8576b"
             ],
             [
              0.6666666666666666,
              "#ed7953"
             ],
             [
              0.7777777777777778,
              "#fb9f3a"
             ],
             [
              0.8888888888888888,
              "#fdca26"
             ],
             [
              1,
              "#f0f921"
             ]
            ],
            "type": "histogram2d"
           }
          ],
          "histogram2dcontour": [
           {
            "colorbar": {
             "outlinewidth": 0,
             "ticks": ""
            },
            "colorscale": [
             [
              0,
              "#0d0887"
             ],
             [
              0.1111111111111111,
              "#46039f"
             ],
             [
              0.2222222222222222,
              "#7201a8"
             ],
             [
              0.3333333333333333,
              "#9c179e"
             ],
             [
              0.4444444444444444,
              "#bd3786"
             ],
             [
              0.5555555555555556,
              "#d8576b"
             ],
             [
              0.6666666666666666,
              "#ed7953"
             ],
             [
              0.7777777777777778,
              "#fb9f3a"
             ],
             [
              0.8888888888888888,
              "#fdca26"
             ],
             [
              1,
              "#f0f921"
             ]
            ],
            "type": "histogram2dcontour"
           }
          ],
          "mesh3d": [
           {
            "colorbar": {
             "outlinewidth": 0,
             "ticks": ""
            },
            "type": "mesh3d"
           }
          ],
          "parcoords": [
           {
            "line": {
             "colorbar": {
              "outlinewidth": 0,
              "ticks": ""
             }
            },
            "type": "parcoords"
           }
          ],
          "pie": [
           {
            "automargin": true,
            "type": "pie"
           }
          ],
          "scatter": [
           {
            "fillpattern": {
             "fillmode": "overlay",
             "size": 10,
             "solidity": 0.2
            },
            "type": "scatter"
           }
          ],
          "scatter3d": [
           {
            "line": {
             "colorbar": {
              "outlinewidth": 0,
              "ticks": ""
             }
            },
            "marker": {
             "colorbar": {
              "outlinewidth": 0,
              "ticks": ""
             }
            },
            "type": "scatter3d"
           }
          ],
          "scattercarpet": [
           {
            "marker": {
             "colorbar": {
              "outlinewidth": 0,
              "ticks": ""
             }
            },
            "type": "scattercarpet"
           }
          ],
          "scattergeo": [
           {
            "marker": {
             "colorbar": {
              "outlinewidth": 0,
              "ticks": ""
             }
            },
            "type": "scattergeo"
           }
          ],
          "scattergl": [
           {
            "marker": {
             "colorbar": {
              "outlinewidth": 0,
              "ticks": ""
             }
            },
            "type": "scattergl"
           }
          ],
          "scattermapbox": [
           {
            "marker": {
             "colorbar": {
              "outlinewidth": 0,
              "ticks": ""
             }
            },
            "type": "scattermapbox"
           }
          ],
          "scatterpolar": [
           {
            "marker": {
             "colorbar": {
              "outlinewidth": 0,
              "ticks": ""
             }
            },
            "type": "scatterpolar"
           }
          ],
          "scatterpolargl": [
           {
            "marker": {
             "colorbar": {
              "outlinewidth": 0,
              "ticks": ""
             }
            },
            "type": "scatterpolargl"
           }
          ],
          "scatterternary": [
           {
            "marker": {
             "colorbar": {
              "outlinewidth": 0,
              "ticks": ""
             }
            },
            "type": "scatterternary"
           }
          ],
          "surface": [
           {
            "colorbar": {
             "outlinewidth": 0,
             "ticks": ""
            },
            "colorscale": [
             [
              0,
              "#0d0887"
             ],
             [
              0.1111111111111111,
              "#46039f"
             ],
             [
              0.2222222222222222,
              "#7201a8"
             ],
             [
              0.3333333333333333,
              "#9c179e"
             ],
             [
              0.4444444444444444,
              "#bd3786"
             ],
             [
              0.5555555555555556,
              "#d8576b"
             ],
             [
              0.6666666666666666,
              "#ed7953"
             ],
             [
              0.7777777777777778,
              "#fb9f3a"
             ],
             [
              0.8888888888888888,
              "#fdca26"
             ],
             [
              1,
              "#f0f921"
             ]
            ],
            "type": "surface"
           }
          ],
          "table": [
           {
            "cells": {
             "fill": {
              "color": "#EBF0F8"
             },
             "line": {
              "color": "white"
             }
            },
            "header": {
             "fill": {
              "color": "#C8D4E3"
             },
             "line": {
              "color": "white"
             }
            },
            "type": "table"
           }
          ]
         },
         "layout": {
          "annotationdefaults": {
           "arrowcolor": "#2a3f5f",
           "arrowhead": 0,
           "arrowwidth": 1
          },
          "autotypenumbers": "strict",
          "coloraxis": {
           "colorbar": {
            "outlinewidth": 0,
            "ticks": ""
           }
          },
          "colorscale": {
           "diverging": [
            [
             0,
             "#8e0152"
            ],
            [
             0.1,
             "#c51b7d"
            ],
            [
             0.2,
             "#de77ae"
            ],
            [
             0.3,
             "#f1b6da"
            ],
            [
             0.4,
             "#fde0ef"
            ],
            [
             0.5,
             "#f7f7f7"
            ],
            [
             0.6,
             "#e6f5d0"
            ],
            [
             0.7,
             "#b8e186"
            ],
            [
             0.8,
             "#7fbc41"
            ],
            [
             0.9,
             "#4d9221"
            ],
            [
             1,
             "#276419"
            ]
           ],
           "sequential": [
            [
             0,
             "#0d0887"
            ],
            [
             0.1111111111111111,
             "#46039f"
            ],
            [
             0.2222222222222222,
             "#7201a8"
            ],
            [
             0.3333333333333333,
             "#9c179e"
            ],
            [
             0.4444444444444444,
             "#bd3786"
            ],
            [
             0.5555555555555556,
             "#d8576b"
            ],
            [
             0.6666666666666666,
             "#ed7953"
            ],
            [
             0.7777777777777778,
             "#fb9f3a"
            ],
            [
             0.8888888888888888,
             "#fdca26"
            ],
            [
             1,
             "#f0f921"
            ]
           ],
           "sequentialminus": [
            [
             0,
             "#0d0887"
            ],
            [
             0.1111111111111111,
             "#46039f"
            ],
            [
             0.2222222222222222,
             "#7201a8"
            ],
            [
             0.3333333333333333,
             "#9c179e"
            ],
            [
             0.4444444444444444,
             "#bd3786"
            ],
            [
             0.5555555555555556,
             "#d8576b"
            ],
            [
             0.6666666666666666,
             "#ed7953"
            ],
            [
             0.7777777777777778,
             "#fb9f3a"
            ],
            [
             0.8888888888888888,
             "#fdca26"
            ],
            [
             1,
             "#f0f921"
            ]
           ]
          },
          "colorway": [
           "#636efa",
           "#EF553B",
           "#00cc96",
           "#ab63fa",
           "#FFA15A",
           "#19d3f3",
           "#FF6692",
           "#B6E880",
           "#FF97FF",
           "#FECB52"
          ],
          "font": {
           "color": "#2a3f5f"
          },
          "geo": {
           "bgcolor": "white",
           "lakecolor": "white",
           "landcolor": "white",
           "showlakes": true,
           "showland": true,
           "subunitcolor": "#C8D4E3"
          },
          "hoverlabel": {
           "align": "left"
          },
          "hovermode": "closest",
          "mapbox": {
           "style": "light"
          },
          "paper_bgcolor": "white",
          "plot_bgcolor": "white",
          "polar": {
           "angularaxis": {
            "gridcolor": "#EBF0F8",
            "linecolor": "#EBF0F8",
            "ticks": ""
           },
           "bgcolor": "white",
           "radialaxis": {
            "gridcolor": "#EBF0F8",
            "linecolor": "#EBF0F8",
            "ticks": ""
           }
          },
          "scene": {
           "xaxis": {
            "backgroundcolor": "white",
            "gridcolor": "#DFE8F3",
            "gridwidth": 2,
            "linecolor": "#EBF0F8",
            "showbackground": true,
            "ticks": "",
            "zerolinecolor": "#EBF0F8"
           },
           "yaxis": {
            "backgroundcolor": "white",
            "gridcolor": "#DFE8F3",
            "gridwidth": 2,
            "linecolor": "#EBF0F8",
            "showbackground": true,
            "ticks": "",
            "zerolinecolor": "#EBF0F8"
           },
           "zaxis": {
            "backgroundcolor": "white",
            "gridcolor": "#DFE8F3",
            "gridwidth": 2,
            "linecolor": "#EBF0F8",
            "showbackground": true,
            "ticks": "",
            "zerolinecolor": "#EBF0F8"
           }
          },
          "shapedefaults": {
           "line": {
            "color": "#2a3f5f"
           }
          },
          "ternary": {
           "aaxis": {
            "gridcolor": "#DFE8F3",
            "linecolor": "#A2B1C6",
            "ticks": ""
           },
           "baxis": {
            "gridcolor": "#DFE8F3",
            "linecolor": "#A2B1C6",
            "ticks": ""
           },
           "bgcolor": "white",
           "caxis": {
            "gridcolor": "#DFE8F3",
            "linecolor": "#A2B1C6",
            "ticks": ""
           }
          },
          "title": {
           "x": 0.05
          },
          "xaxis": {
           "automargin": true,
           "gridcolor": "#EBF0F8",
           "linecolor": "#EBF0F8",
           "ticks": "",
           "title": {
            "standoff": 15
           },
           "zerolinecolor": "#EBF0F8",
           "zerolinewidth": 2
          },
          "yaxis": {
           "automargin": true,
           "gridcolor": "#EBF0F8",
           "linecolor": "#EBF0F8",
           "ticks": "",
           "title": {
            "standoff": 15
           },
           "zerolinecolor": "#EBF0F8",
           "zerolinewidth": 2
          }
         }
        }
       }
      }
     },
     "metadata": {},
     "output_type": "display_data"
    }
   ],
   "source": [
    "possible_animal_diversity_model()"
   ]
  },
  {
   "cell_type": "markdown",
   "metadata": {},
   "source": [
    "Given the discussion above, we want to study the relationship between animal diversity and latitude, as well as controlling plant diversity. Rephrasing, we want to study the animal diversity **given** latitude **and** plant diversity.\n",
    "\n",
    "Let:\n",
    "- $A$ be the animal diversity\n",
    "- $L$ be the latitude\n",
    "- $P$ be the plant diversity\n",
    "\n",
    "We can rewrite such a model as a regression function $f$ of a linear model:\n",
    "$$\n",
    "f \\to \\mathbb{E}[A \\mid L, P]\n",
    "$$\n",
    "Then our linear model would be:\n",
    "$$\n",
    "A = \\alpha + \\beta L + \\gamma P\n",
    "$$\n",
    "with:\n",
    "- $\\alpha$ the intercept\n",
    "- $\\beta$ the coefficient for latitude\n",
    "- $\\gamma$ the coefficient for plant diversity\n"
   ]
  },
  {
   "cell_type": "markdown",
   "metadata": {},
   "source": [
    "## Exercise 3\n",
    "The attached data is about observations of urban foxes in human habitat. The data has 5 columns:\n",
    "\n",
    "- *group*: Number of social group the fox belongs to\n",
    "- *avgfood*: The avg amount of food available in the territory\n",
    "- *groupsize*: The number of foxes in the social group\n",
    "- *area*: Size of the territory\n",
    "- *weight*: Body weight of the fox\n",
    "\n",
    "Fit a regression for *weight* as a linear function of *area*, and a regression for *weight* as a linear function of *groupsize*. What can you say about these relationships? Run a multivariate model with both variables, what can you conclude about this analysis?"
   ]
  },
  {
   "cell_type": "code",
   "execution_count": 137,
   "metadata": {},
   "outputs": [
    {
     "data": {
      "text/html": [
       "<div>\n",
       "<style scoped>\n",
       "    .dataframe tbody tr th:only-of-type {\n",
       "        vertical-align: middle;\n",
       "    }\n",
       "\n",
       "    .dataframe tbody tr th {\n",
       "        vertical-align: top;\n",
       "    }\n",
       "\n",
       "    .dataframe thead th {\n",
       "        text-align: right;\n",
       "    }\n",
       "</style>\n",
       "<table border=\"1\" class=\"dataframe\">\n",
       "  <thead>\n",
       "    <tr style=\"text-align: right;\">\n",
       "      <th></th>\n",
       "      <th>group</th>\n",
       "      <th>avgfood</th>\n",
       "      <th>groupsize</th>\n",
       "      <th>area</th>\n",
       "      <th>weight</th>\n",
       "    </tr>\n",
       "  </thead>\n",
       "  <tbody>\n",
       "    <tr>\n",
       "      <th>0</th>\n",
       "      <td>1</td>\n",
       "      <td>0.37</td>\n",
       "      <td>2</td>\n",
       "      <td>1.09</td>\n",
       "      <td>5.02</td>\n",
       "    </tr>\n",
       "    <tr>\n",
       "      <th>1</th>\n",
       "      <td>1</td>\n",
       "      <td>0.37</td>\n",
       "      <td>2</td>\n",
       "      <td>1.09</td>\n",
       "      <td>2.84</td>\n",
       "    </tr>\n",
       "    <tr>\n",
       "      <th>2</th>\n",
       "      <td>2</td>\n",
       "      <td>0.53</td>\n",
       "      <td>2</td>\n",
       "      <td>2.05</td>\n",
       "      <td>5.33</td>\n",
       "    </tr>\n",
       "    <tr>\n",
       "      <th>3</th>\n",
       "      <td>2</td>\n",
       "      <td>0.53</td>\n",
       "      <td>2</td>\n",
       "      <td>2.05</td>\n",
       "      <td>6.07</td>\n",
       "    </tr>\n",
       "    <tr>\n",
       "      <th>4</th>\n",
       "      <td>3</td>\n",
       "      <td>0.49</td>\n",
       "      <td>2</td>\n",
       "      <td>2.12</td>\n",
       "      <td>5.85</td>\n",
       "    </tr>\n",
       "    <tr>\n",
       "      <th>...</th>\n",
       "      <td>...</td>\n",
       "      <td>...</td>\n",
       "      <td>...</td>\n",
       "      <td>...</td>\n",
       "      <td>...</td>\n",
       "    </tr>\n",
       "    <tr>\n",
       "      <th>111</th>\n",
       "      <td>29</td>\n",
       "      <td>0.67</td>\n",
       "      <td>4</td>\n",
       "      <td>2.75</td>\n",
       "      <td>4.81</td>\n",
       "    </tr>\n",
       "    <tr>\n",
       "      <th>112</th>\n",
       "      <td>29</td>\n",
       "      <td>0.67</td>\n",
       "      <td>4</td>\n",
       "      <td>2.75</td>\n",
       "      <td>3.94</td>\n",
       "    </tr>\n",
       "    <tr>\n",
       "      <th>113</th>\n",
       "      <td>30</td>\n",
       "      <td>0.41</td>\n",
       "      <td>3</td>\n",
       "      <td>1.91</td>\n",
       "      <td>3.16</td>\n",
       "    </tr>\n",
       "    <tr>\n",
       "      <th>114</th>\n",
       "      <td>30</td>\n",
       "      <td>0.41</td>\n",
       "      <td>3</td>\n",
       "      <td>1.91</td>\n",
       "      <td>2.78</td>\n",
       "    </tr>\n",
       "    <tr>\n",
       "      <th>115</th>\n",
       "      <td>30</td>\n",
       "      <td>0.41</td>\n",
       "      <td>3</td>\n",
       "      <td>1.91</td>\n",
       "      <td>3.86</td>\n",
       "    </tr>\n",
       "  </tbody>\n",
       "</table>\n",
       "<p>116 rows × 5 columns</p>\n",
       "</div>"
      ],
      "text/plain": [
       "     group  avgfood  groupsize  area  weight\n",
       "0        1     0.37          2  1.09    5.02\n",
       "1        1     0.37          2  1.09    2.84\n",
       "2        2     0.53          2  2.05    5.33\n",
       "3        2     0.53          2  2.05    6.07\n",
       "4        3     0.49          2  2.12    5.85\n",
       "..     ...      ...        ...   ...     ...\n",
       "111     29     0.67          4  2.75    4.81\n",
       "112     29     0.67          4  2.75    3.94\n",
       "113     30     0.41          3  1.91    3.16\n",
       "114     30     0.41          3  1.91    2.78\n",
       "115     30     0.41          3  1.91    3.86\n",
       "\n",
       "[116 rows x 5 columns]"
      ]
     },
     "execution_count": 137,
     "metadata": {},
     "output_type": "execute_result"
    }
   ],
   "source": [
    "fox = pd.read_csv(\"data.csv\")\n",
    "fox"
   ]
  },
  {
   "cell_type": "code",
   "execution_count": 138,
   "metadata": {},
   "outputs": [
    {
     "data": {
      "application/vnd.plotly.v1+json": {
       "config": {
        "plotlyServerURL": "https://plot.ly"
       },
       "data": [
        {
         "autobinx": false,
         "histnorm": "probability density",
         "legendgroup": "weight",
         "marker": {
          "color": "rgb(31, 119, 180)"
         },
         "name": "weight",
         "opacity": 0.7,
         "type": "histogram",
         "x": [
          5.02,
          2.84,
          5.33,
          6.07,
          5.85,
          3.25,
          4.53,
          4.09,
          6.13,
          5.59,
          5.83,
          3.93,
          4.34,
          6.09,
          6.85,
          6.05,
          3.21,
          3.72,
          3.92,
          5.71,
          5.95,
          4.66,
          6.22,
          6.7,
          6.22,
          1.92,
          4.31,
          3.43,
          5.97,
          5.3,
          3.88,
          3.18,
          2.78,
          2.99,
          3.58,
          6.86,
          4.24,
          3.46,
          4.19,
          2.35,
          4.72,
          4.42,
          4.83,
          6.02,
          5.83,
          5.02,
          5.37,
          2.01,
          4.25,
          4.38,
          4.84,
          3.18,
          4.63,
          3.86,
          4.82,
          6.54,
          3.29,
          3.99,
          3.84,
          3.98,
          4.44,
          4.74,
          3.7,
          4.75,
          5.21,
          5.78,
          4.5,
          3.28,
          3.68,
          3.72,
          4.29,
          3.58,
          3.75,
          2.67,
          5.43,
          6.31,
          5.79,
          4.64,
          5.34,
          7.55,
          4.77,
          3.48,
          4.33,
          5.03,
          4.09,
          4.11,
          5.47,
          6.25,
          4.75,
          5.32,
          5.39,
          3.84,
          3.15,
          5.17,
          4.42,
          4.65,
          3.8,
          3.41,
          4.12,
          3.28,
          3.93,
          2.96,
          2.55,
          5,
          4.36,
          7.1,
          5.84,
          5.68,
          2.32,
          5,
          3.81,
          4.81,
          3.94,
          3.16,
          2.78,
          3.86
         ],
         "xaxis": "x",
         "xbins": {
          "end": 7.55,
          "size": 1,
          "start": 1.92
         },
         "yaxis": "y"
        },
        {
         "legendgroup": "weight",
         "marker": {
          "color": "rgb(31, 119, 180)"
         },
         "mode": "lines",
         "name": "weight",
         "showlegend": false,
         "type": "scatter",
         "x": [
          1.92,
          1.93126,
          1.94252,
          1.9537799999999999,
          1.96504,
          1.9763,
          1.98756,
          1.9988199999999998,
          2.01008,
          2.02134,
          2.0326,
          2.04386,
          2.05512,
          2.06638,
          2.0776399999999997,
          2.0888999999999998,
          2.10016,
          2.11142,
          2.12268,
          2.13394,
          2.1452,
          2.15646,
          2.16772,
          2.17898,
          2.19024,
          2.2015,
          2.21276,
          2.22402,
          2.23528,
          2.24654,
          2.2578,
          2.26906,
          2.2803199999999997,
          2.2915799999999997,
          2.3028399999999998,
          2.3141,
          2.32536,
          2.33662,
          2.34788,
          2.35914,
          2.3704,
          2.38166,
          2.39292,
          2.4041799999999998,
          2.41544,
          2.4267,
          2.43796,
          2.44922,
          2.46048,
          2.47174,
          2.4829999999999997,
          2.4942599999999997,
          2.5055199999999997,
          2.51678,
          2.52804,
          2.5393,
          2.55056,
          2.56182,
          2.57308,
          2.58434,
          2.5956,
          2.60686,
          2.61812,
          2.62938,
          2.64064,
          2.6519,
          2.66316,
          2.67442,
          2.6856799999999996,
          2.6969399999999997,
          2.7081999999999997,
          2.7194599999999998,
          2.73072,
          2.74198,
          2.75324,
          2.7645,
          2.77576,
          2.78702,
          2.79828,
          2.80954,
          2.8207999999999998,
          2.83206,
          2.84332,
          2.85458,
          2.86584,
          2.8771,
          2.88836,
          2.89962,
          2.9108799999999997,
          2.9221399999999997,
          2.9334,
          2.94466,
          2.95592,
          2.96718,
          2.97844,
          2.9897,
          3.00096,
          3.01222,
          3.02348,
          3.03474,
          3.046,
          3.05726,
          3.06852,
          3.07978,
          3.0910399999999996,
          3.1022999999999996,
          3.1135599999999997,
          3.1248199999999997,
          3.1360799999999998,
          3.14734,
          3.1586,
          3.16986,
          3.18112,
          3.19238,
          3.20364,
          3.2149,
          3.22616,
          3.23742,
          3.2486800000000002,
          3.2599400000000003,
          3.2712,
          3.28246,
          3.29372,
          3.30498,
          3.3162399999999996,
          3.3274999999999997,
          3.3387599999999997,
          3.3500199999999998,
          3.36128,
          3.37254,
          3.3838,
          3.39506,
          3.40632,
          3.41758,
          3.42884,
          3.4401,
          3.4513599999999998,
          3.46262,
          3.47388,
          3.48514,
          3.4963999999999995,
          3.50766,
          3.51892,
          3.53018,
          3.5414399999999997,
          3.5526999999999997,
          3.56396,
          3.57522,
          3.58648,
          3.59774,
          3.609,
          3.62026,
          3.63152,
          3.64278,
          3.65404,
          3.6653,
          3.67656,
          3.68782,
          3.69908,
          3.7103399999999995,
          3.7215999999999996,
          3.7328599999999996,
          3.7441199999999997,
          3.7553799999999997,
          3.7666399999999998,
          3.7779,
          3.78916,
          3.80042,
          3.81168,
          3.82294,
          3.8342,
          3.84546,
          3.85672,
          3.86798,
          3.8792400000000002,
          3.8905,
          3.90176,
          3.91302,
          3.92428,
          3.93554,
          3.9468,
          3.9580599999999997,
          3.96932,
          3.98058,
          3.9918400000000003,
          4.0031,
          4.01436,
          4.02562,
          4.03688,
          4.04814,
          4.0594,
          4.07066,
          4.08192,
          4.09318,
          4.10444,
          4.1157,
          4.12696,
          4.13822,
          4.1494800000000005,
          4.16074,
          4.172,
          4.18326,
          4.19452,
          4.20578,
          4.21704,
          4.2283,
          4.23956,
          4.25082,
          4.262079999999999,
          4.27334,
          4.284599999999999,
          4.29586,
          4.307119999999999,
          4.318379999999999,
          4.3296399999999995,
          4.3408999999999995,
          4.35216,
          4.36342,
          4.37468,
          4.38594,
          4.3972,
          4.40846,
          4.41972,
          4.43098,
          4.44224,
          4.4535,
          4.46476,
          4.47602,
          4.48728,
          4.49854,
          4.5098,
          4.52106,
          4.53232,
          4.54358,
          4.55484,
          4.5661000000000005,
          4.5773600000000005,
          4.58862,
          4.599880000000001,
          4.61114,
          4.6224,
          4.63366,
          4.64492,
          4.65618,
          4.66744,
          4.678699999999999,
          4.68996,
          4.701219999999999,
          4.712479999999999,
          4.723739999999999,
          4.734999999999999,
          4.7462599999999995,
          4.7575199999999995,
          4.76878,
          4.78004,
          4.7913,
          4.80256,
          4.81382,
          4.82508,
          4.83634,
          4.8476,
          4.85886,
          4.87012,
          4.88138,
          4.89264,
          4.9039,
          4.91516,
          4.92642,
          4.93768,
          4.94894,
          4.9602,
          4.97146,
          4.98272,
          4.9939800000000005,
          5.00524,
          5.0165,
          5.02776,
          5.03902,
          5.05028,
          5.06154,
          5.072799999999999,
          5.08406,
          5.09532,
          5.106579999999999,
          5.11784,
          5.129099999999999,
          5.14036,
          5.151619999999999,
          5.1628799999999995,
          5.1741399999999995,
          5.1854,
          5.19666,
          5.20792,
          5.21918,
          5.23044,
          5.2417,
          5.25296,
          5.26422,
          5.27548,
          5.28674,
          5.298,
          5.30926,
          5.32052,
          5.33178,
          5.34304,
          5.3543,
          5.36556,
          5.3768199999999995,
          5.38808,
          5.3993400000000005,
          5.4106,
          5.421860000000001,
          5.43312,
          5.444380000000001,
          5.45564,
          5.4669,
          5.47816,
          5.48942,
          5.500679999999999,
          5.51194,
          5.523199999999999,
          5.53446,
          5.545719999999999,
          5.556979999999999,
          5.568239999999999,
          5.5794999999999995,
          5.5907599999999995,
          5.6020199999999996,
          5.61328,
          5.62454,
          5.6358,
          5.64706,
          5.65832,
          5.66958,
          5.68084,
          5.6921,
          5.70336,
          5.71462,
          5.72588,
          5.73714,
          5.7484,
          5.75966,
          5.77092,
          5.78218,
          5.79344,
          5.8046999999999995,
          5.8159600000000005,
          5.82722,
          5.838480000000001,
          5.84974,
          5.861,
          5.87226,
          5.88352,
          5.894779999999999,
          5.90604,
          5.917299999999999,
          5.92856,
          5.939819999999999,
          5.95108,
          5.96234,
          5.9736,
          5.98486,
          5.9961199999999995,
          6.00738,
          6.01864,
          6.0299,
          6.04116,
          6.05242,
          6.063680000000001,
          6.07494,
          6.0862,
          6.09746,
          6.10872,
          6.119979999999999,
          6.13124,
          6.1425,
          6.15376,
          6.165019999999999,
          6.176279999999999,
          6.18754,
          6.1988,
          6.2100599999999995,
          6.2213199999999995,
          6.23258,
          6.2438400000000005,
          6.2551000000000005,
          6.26636,
          6.27762,
          6.28888,
          6.30014,
          6.3114,
          6.32266,
          6.33392,
          6.34518,
          6.356439999999999,
          6.3677,
          6.37896,
          6.39022,
          6.401479999999999,
          6.412739999999999,
          6.4239999999999995,
          6.43526,
          6.44652,
          6.45778,
          6.46904,
          6.4803,
          6.49156,
          6.50282,
          6.51408,
          6.52534,
          6.5366,
          6.54786,
          6.55912,
          6.57038,
          6.58164,
          6.592899999999999,
          6.604159999999999,
          6.61542,
          6.62668,
          6.6379399999999995,
          6.6491999999999996,
          6.66046,
          6.6717200000000005,
          6.68298,
          6.69424,
          6.7055,
          6.71676,
          6.72802,
          6.73928,
          6.75054,
          6.7618,
          6.773059999999999,
          6.784319999999999,
          6.79558,
          6.80684,
          6.818099999999999,
          6.829359999999999,
          6.8406199999999995,
          6.85188,
          6.8631400000000005,
          6.8744,
          6.88566,
          6.89692,
          6.908180000000001,
          6.91944,
          6.9307,
          6.94196,
          6.95322,
          6.964479999999999,
          6.97574,
          6.987,
          6.99826,
          7.009519999999999,
          7.020779999999999,
          7.03204,
          7.0433,
          7.0545599999999995,
          7.0658199999999995,
          7.07708,
          7.08834,
          7.0996,
          7.11086,
          7.12212,
          7.13338,
          7.14464,
          7.1559,
          7.16716,
          7.17842,
          7.18968,
          7.200939999999999,
          7.2122,
          7.22346,
          7.23472,
          7.245979999999999,
          7.2572399999999995,
          7.2684999999999995,
          7.2797600000000005,
          7.29102,
          7.30228,
          7.31354,
          7.3248,
          7.33606,
          7.34732,
          7.35858,
          7.36984,
          7.381099999999999,
          7.39236,
          7.40362,
          7.41488,
          7.42614,
          7.437399999999999,
          7.448659999999999,
          7.45992,
          7.47118,
          7.4824399999999995,
          7.4937,
          7.50496,
          7.516220000000001,
          7.52748,
          7.53874
         ],
         "xaxis": "x",
         "y": [
          0.03576610237217923,
          0.03653472242914916,
          0.03731194920706379,
          0.03809784851287061,
          0.03889249429058935,
          0.039695968699370754,
          0.04050836215988426,
          0.04132977336843365,
          0.0421603092783175,
          0.04300008504807533,
          0.04384922395638138,
          0.044707857283474796,
          0.04557612415913919,
          0.04645417137737067,
          0.04734215317799984,
          0.0482402309956564,
          0.049148573176590396,
          0.05006735466398427,
          0.050996756652510807,
          0.051936966213007946,
          0.05288817588825571,
          0.05385058326095084,
          0.05482439049508075,
          0.055809803852000454,
          0.05680703318261377,
          0.05781629139715196,
          0.05883779391413059,
          0.05987175809014594,
          0.06091840263224853,
          0.06197794699469962,
          0.06305061076198122,
          0.0641366130199837,
          0.06523617171734718,
          0.06634950301897367,
          0.0674768206537626,
          0.06861833525865046,
          0.06977425372105629,
          0.07094477852184655,
          0.07213010708093903,
          0.07333043110766396,
          0.07454593595798918,
          0.07577680000069789,
          0.07702319399458506,
          0.07828528047870058,
          0.07956321317763022,
          0.08085713642375382,
          0.0821671845983641,
          0.08349348159346624,
          0.0848361402960056,
          0.08619526209619119,
          0.08757093642149792,
          0.08896324029783573,
          0.09037223793927304,
          0.09179798036759687,
          0.09324050506287627,
          0.09469983564607827,
          0.09617598159465864,
          0.09766893799192083,
          0.0991786853108,
          0.1007051892325885,
          0.10224840050097754,
          0.10380825481163801,
          0.10538467273741807,
          0.1069775596890777,
          0.10858680591132708,
          0.11021228651378331,
          0.11185386153629803,
          0.11351137604795764,
          0.11518466027890278,
          0.1168735297839584,
          0.11857778563692002,
          0.12029721465419413,
          0.12203158964634979,
          0.12378066969600271,
          0.1255442004603239,
          0.12732191449634345,
          0.12911353160710506,
          0.13091875920662444,
          0.1327372927015065,
          0.13456881588699607,
          0.1364130013551613,
          0.13826951091285183,
          0.14013799600702412,
          0.142018098154995,
          0.14390944937716604,
          0.14581167262975567,
          0.14772438223508924,
          0.1496471843070238,
          0.1515796771691269,
          0.15352145176328955,
          0.15547209204652668,
          0.1574311753738134,
          0.15939827286490862,
          0.16137294975324584,
          0.16335476571510446,
          0.16534327517743216,
          0.16733802760285563,
          0.1693385677505938,
          0.17134443591218676,
          0.1733551681211534,
          0.17537029633590612,
          0.1773893485954778,
          0.17941184914783875,
          0.181437318550831,
          0.18346527374597707,
          0.18549522810566998,
          0.1875266914544984,
          0.18955917006570155,
          0.19159216663399384,
          0.1936251802262369,
          0.19565770621166678,
          0.1976892361736104,
          0.19971925780483804,
          0.20174725478889996,
          0.2037727066699853,
          0.20579508871401297,
          0.20781387176382216,
          0.20982852209146546,
          0.21183850125072573,
          0.21384326593307665,
          0.2158422678303723,
          0.21783495350761303,
          0.21982076428914446,
          0.22179913616166153,
          0.22376949969734902,
          0.22573128000044776,
          0.2276838966804483,
          0.22962676385501415,
          0.23155929018559981,
          0.2334808789485723,
          0.23539092814446327,
          0.23728883064776776,
          0.23917397439947832,
          0.24104574264428777,
          0.2429035142141233,
          0.24474666385937957,
          0.24657456262891186,
          0.24838657829952698,
          0.2501820758553683,
          0.2519604180172516,
          0.2537209658216459,
          0.2554630792486385,
          0.25718611789785273,
          0.25888944171093353,
          0.2605724117388422,
          0.26223439095185475,
          0.26387474508980485,
          0.26549284354977537,
          0.2670880603081214,
          0.2686597748733909,
          0.2702073732664295,
          0.27173024902367676,
          0.27322780421942144,
          0.2746994505025583,
          0.27614461014319686,
          0.2775627170843064,
          0.2789532179934491,
          0.2803155733095441,
          0.28164925827954623,
          0.28295376397987393,
          0.28422859831743197,
          0.28547328700509733,
          0.2866873745066131,
          0.28787042494593157,
          0.2890220229761905,
          0.29014177460367346,
          0.29122930796231106,
          0.2922842740345174,
          0.29330634731441435,
          0.2942952264098019,
          0.295250634579541,
          0.2961723202033721,
          0.29706005718154643,
          0.29791364526205594,
          0.29873291029362287,
          0.2995177044030575,
          0.30026790609600335,
          0.3009834202805355,
          0.3016641782135234,
          0.30231013737011414,
          0.30292128123713374,
          0.3034976190316597,
          0.30403918534643676,
          0.30454603972424804,
          0.30501826616375666,
          0.3054559725597367,
          0.30585929008098517,
          0.30622837248957047,
          0.30656339540540156,
          0.3068645555204117,
          0.3071320697669333,
          0.30736617444508685,
          0.30756712431422695,
          0.30773519165367624,
          0.3078706652981251,
          0.30797384965319524,
          0.3080450636967428,
          0.30808463997152236,
          0.30809292357483736,
          0.30807027115077695,
          0.30801704989057055,
          0.30793363654649314,
          0.3078204164646108,
          0.3076777826414987,
          0.3075061348098489,
          0.3073058785576555,
          0.30707742448540687,
          0.30682118740541714,
          0.306537585587115,
          0.306227040051772,
          0.3058899739197908,
          0.30552681181329155,
          0.3051379793163507,
          0.30472390249482667,
          0.3042850074773023,
          0.3038217200982407,
          0.3033344656040262,
          0.3028236684221287,
          0.30228975199320124,
          0.30173313866549484,
          0.3011542496505527,
          0.30055350503873773,
          0.2999313238727445,
          0.29928812427686957,
          0.2986243236394342,
          0.29794033884541604,
          0.29723658655601043,
          0.29651348353153373,
          0.2957714469938077,
          0.2950108950238962,
          0.2942322469908501,
          0.29343592400689894,
          0.2926223494043732,
          0.2917919492294872,
          0.2909451527480082,
          0.2900823929577541,
          0.2892041071028134,
          0.28831073718436767,
          0.28740273046299747,
          0.2864805399474121,
          0.28554462486459997,
          0.2845954511065078,
          0.2836334916484812,
          0.28265922693485757,
          0.281673145227279,
          0.28067574291150466,
          0.279667524758723,
          0.2786490041376182,
          0.27762070317370763,
          0.27658315285276114,
          0.27553689306540113,
          0.27448247259031067,
          0.2734204490137952,
          0.27235138858377744,
          0.27127586599665987,
          0.27019446411582804,
          0.2691077736209281,
          0.2680163925874083,
          0.2669209259961672,
          0.2658219851735112,
          0.26472018716197226,
          0.2636161540228853,
          0.262510512071966,
          0.2614038910494598,
          0.26029692322676146,
          0.25919024245170985,
          0.258084483135073,
          0.2569802791810167,
          0.25587826286463344,
          0.2547790636598634,
          0.2536833070213803,
          0.25259161312425554,
          0.2515045955654091,
          0.25042286003106495,
          0.24934700293459625,
          0.2482776100293109,
          0.2472152550008675,
          0.24616049804413603,
          0.24511388442942492,
          0.24407594306308308,
          0.24304718504755637,
          0.24202810224603316,
          0.24101916585684785,
          0.2400208250028298,
          0.2390335053407891,
          0.23805760769631643,
          0.23709350672904148,
          0.23614154963345502,
          0.23520205488032944,
          0.23427531100370622,
          0.23336157543832228,
          0.2324610734122454,
          0.23157399689936703,
          0.2307005036362751,
          0.2298407162078774,
          0.2289947212059931,
          0.22816256846495733,
          0.22734427037809884,
          0.22653980129876397,
          0.2257490970293422,
          0.22497205440153784,
          0.22420853095090543,
          0.22345834468841544,
          0.22272127397157931,
          0.22199705747738918,
          0.2212853942790669,
          0.22058594402832443,
          0.21989832724455738,
          0.21922212571208366,
          0.21855688298624038,
          0.21790210500882196,
          0.21725726083302987,
          0.2166217834577668,
          0.21599507077076444,
          0.21537648659970018,
          0.21476536187009698,
          0.21416099586845253,
          0.21356265760868764,
          0.2129695872996346,
          0.21238099791093873,
          0.21179607683436952,
          0.21121398763719007,
          0.21063387190386643,
          0.21005485116204695,
          0.20947602888839495,
          0.20889649258950815,
          0.20831531595282984,
          0.20773156106212784,
          0.20714428067180707,
          0.20655252053401402,
          0.20595532177221396,
          0.20535172329464588,
          0.2047407642408089,
          0.20412148645390604,
          0.20349293697195453,
          0.2028541705300894,
          0.202204252066422,
          0.2015422592236744,
          0.20086728483870853,
          0.20017843941197694,
          0.1994748535488832,
          0.19875568036500657,
          0.19802009784716557,
          0.19726731116233556,
          0.19649655490651374,
          0.19570709528573285,
          0.19489823222157263,
          0.19406930137369757,
          0.19321967607215748,
          0.1923487691524399,
          0.19145603468653952,
          0.1905409696036251,
          0.18960311519422468,
          0.18864205849223242,
          0.18765743352943504,
          0.18664892245769857,
          0.1856162565344081,
          0.18455921696724245,
          0.18347763561486283,
          0.1823713955406357,
          0.18124043141703955,
          0.1800847297789757,
          0.1789043291247721,
          0.17769931986425594,
          0.17646984411385813,
          0.17521609533931096,
          0.17393831784709918,
          0.17263680612641813,
          0.17131190404398547,
          0.16996400389463875,
          0.16859354531122267,
          0.16720101403783613,
          0.16578694057104437,
          0.164351898674197,
          0.16289650377049067,
          0.16142141122089007,
          0.1599273144934836,
          0.15841494323125968,
          0.15688506122568663,
          0.15533846430383372,
          0.15377597813709026,
          0.15219845597982049,
          0.15060677634653924,
          0.14900184063639313,
          0.1473845707138955,
          0.14575590645498004,
          0.14411680326751844,
          0.14246822959547836,
          0.1408111644158905,
          0.1391465947377374,
          0.1374755131117877,
          0.1357989151602564,
          0.13411779713499997,
          0.1324331535127315,
          0.13074597463549392,
          0.1290572444043257,
          0.12736793803373914,
          0.12567901987425806,
          0.1239914413098808,
          0.12230613873690968,
          0.12062403163014462,
          0.11894602070196883,
          0.11727298615936674,
          0.11560578606340538,
          0.11394525479519362,
          0.11229220163179246,
          0.11064740943501634,
          0.10901163345551072,
          0.10738560025394477,
          0.10577000674060649,
          0.10416551933414224,
          0.10257277323963938,
          0.10099237184572489,
          0.09942488623982788,
          0.09787085484025367,
          0.09633078314322788,
          0.09480514358260157,
          0.09329437549946419,
          0.09179888521848346,
          0.09031904622740292,
          0.08885519945575318,
          0.08740765364849497,
          0.08597668583000227,
          0.08456254185351741,
          0.08316543703095924,
          0.08178555683776084,
          0.08042305768722534,
          0.07907806776874876,
          0.07775068794414297,
          0.07644099269621739,
          0.07514903112372939,
          0.0738748279768015,
          0.07261838472692508,
          0.0713796806657175,
          0.07015867402668012,
          0.06895530312431407,
          0.06776948750508478,
          0.06660112910488845,
          0.06545011340785423,
          0.06431631060152852,
          0.06319957672370871,
          0.06209975479643892,
          0.06101667594294597,
          0.05995016048355957,
          0.05890001900695355,
          0.057866053413337774,
          0.056848057926535044,
          0.05584582007218216,
          0.05485912161961148,
          0.05388773948527699,
          0.05293144659590489,
          0.05199001270985277,
          0.05106320519547246,
          0.050150789765563454,
          0.049252531167296644,
          0.04836819382726755,
          0.04749754245160709,
          0.046640342581332185,
          0.045796361103366386,
          0.044965366717880886,
          0.04414713036282492,
          0.0433414255967071,
          0.04254802894086787,
          0.04176672018264518,
          0.04099728264097673,
          0.04023950339610962,
          0.03949317348519194,
          0.03875808806561107,
          0.038034046548013255,
          0.03732085270099287,
          0.03661831472947272,
          0.03592624532882039,
          0.03524446171674362,
          0.034572785644998695,
          0.033911043392918894,
          0.03325906574472906,
          0.032616687952559745,
          0.031983749687011453,
          0.03136009497704369,
          0.030745572140881368,
          0.030140033709536863,
          0.02954333634444987,
          0.028955340750641004,
          0.028375911586664884,
          0.027804917372539307,
          0.027242230396706802,
          0.026687726622972884,
          0.026141285598247025,
          0.025602790361795774,
          0.025072127356604978,
          0.02454918634333684,
          0.024033860317257884,
          0.023526045428413897,
          0.02302564090522613,
          0.022532548981593514,
          0.02204667482749703,
          0.02156792648302482,
          0.021096214795662545,
          0.020631453360629215,
          0.020173558463981372
         ],
         "yaxis": "y"
        },
        {
         "legendgroup": "weight",
         "marker": {
          "color": "rgb(31, 119, 180)",
          "symbol": "line-ns-open"
         },
         "mode": "markers",
         "name": "weight",
         "showlegend": false,
         "type": "scatter",
         "x": [
          5.02,
          2.84,
          5.33,
          6.07,
          5.85,
          3.25,
          4.53,
          4.09,
          6.13,
          5.59,
          5.83,
          3.93,
          4.34,
          6.09,
          6.85,
          6.05,
          3.21,
          3.72,
          3.92,
          5.71,
          5.95,
          4.66,
          6.22,
          6.7,
          6.22,
          1.92,
          4.31,
          3.43,
          5.97,
          5.3,
          3.88,
          3.18,
          2.78,
          2.99,
          3.58,
          6.86,
          4.24,
          3.46,
          4.19,
          2.35,
          4.72,
          4.42,
          4.83,
          6.02,
          5.83,
          5.02,
          5.37,
          2.01,
          4.25,
          4.38,
          4.84,
          3.18,
          4.63,
          3.86,
          4.82,
          6.54,
          3.29,
          3.99,
          3.84,
          3.98,
          4.44,
          4.74,
          3.7,
          4.75,
          5.21,
          5.78,
          4.5,
          3.28,
          3.68,
          3.72,
          4.29,
          3.58,
          3.75,
          2.67,
          5.43,
          6.31,
          5.79,
          4.64,
          5.34,
          7.55,
          4.77,
          3.48,
          4.33,
          5.03,
          4.09,
          4.11,
          5.47,
          6.25,
          4.75,
          5.32,
          5.39,
          3.84,
          3.15,
          5.17,
          4.42,
          4.65,
          3.8,
          3.41,
          4.12,
          3.28,
          3.93,
          2.96,
          2.55,
          5,
          4.36,
          7.1,
          5.84,
          5.68,
          2.32,
          5,
          3.81,
          4.81,
          3.94,
          3.16,
          2.78,
          3.86
         ],
         "xaxis": "x",
         "y": [
          "weight",
          "weight",
          "weight",
          "weight",
          "weight",
          "weight",
          "weight",
          "weight",
          "weight",
          "weight",
          "weight",
          "weight",
          "weight",
          "weight",
          "weight",
          "weight",
          "weight",
          "weight",
          "weight",
          "weight",
          "weight",
          "weight",
          "weight",
          "weight",
          "weight",
          "weight",
          "weight",
          "weight",
          "weight",
          "weight",
          "weight",
          "weight",
          "weight",
          "weight",
          "weight",
          "weight",
          "weight",
          "weight",
          "weight",
          "weight",
          "weight",
          "weight",
          "weight",
          "weight",
          "weight",
          "weight",
          "weight",
          "weight",
          "weight",
          "weight",
          "weight",
          "weight",
          "weight",
          "weight",
          "weight",
          "weight",
          "weight",
          "weight",
          "weight",
          "weight",
          "weight",
          "weight",
          "weight",
          "weight",
          "weight",
          "weight",
          "weight",
          "weight",
          "weight",
          "weight",
          "weight",
          "weight",
          "weight",
          "weight",
          "weight",
          "weight",
          "weight",
          "weight",
          "weight",
          "weight",
          "weight",
          "weight",
          "weight",
          "weight",
          "weight",
          "weight",
          "weight",
          "weight",
          "weight",
          "weight",
          "weight",
          "weight",
          "weight",
          "weight",
          "weight",
          "weight",
          "weight",
          "weight",
          "weight",
          "weight",
          "weight",
          "weight",
          "weight",
          "weight",
          "weight",
          "weight",
          "weight",
          "weight",
          "weight",
          "weight",
          "weight",
          "weight",
          "weight",
          "weight",
          "weight",
          "weight"
         ],
         "yaxis": "y2"
        }
       ],
       "layout": {
        "barmode": "overlay",
        "hovermode": "closest",
        "legend": {
         "traceorder": "reversed"
        },
        "template": {
         "data": {
          "bar": [
           {
            "error_x": {
             "color": "#2a3f5f"
            },
            "error_y": {
             "color": "#2a3f5f"
            },
            "marker": {
             "line": {
              "color": "white",
              "width": 0.5
             },
             "pattern": {
              "fillmode": "overlay",
              "size": 10,
              "solidity": 0.2
             }
            },
            "type": "bar"
           }
          ],
          "barpolar": [
           {
            "marker": {
             "line": {
              "color": "white",
              "width": 0.5
             },
             "pattern": {
              "fillmode": "overlay",
              "size": 10,
              "solidity": 0.2
             }
            },
            "type": "barpolar"
           }
          ],
          "carpet": [
           {
            "aaxis": {
             "endlinecolor": "#2a3f5f",
             "gridcolor": "#C8D4E3",
             "linecolor": "#C8D4E3",
             "minorgridcolor": "#C8D4E3",
             "startlinecolor": "#2a3f5f"
            },
            "baxis": {
             "endlinecolor": "#2a3f5f",
             "gridcolor": "#C8D4E3",
             "linecolor": "#C8D4E3",
             "minorgridcolor": "#C8D4E3",
             "startlinecolor": "#2a3f5f"
            },
            "type": "carpet"
           }
          ],
          "choropleth": [
           {
            "colorbar": {
             "outlinewidth": 0,
             "ticks": ""
            },
            "type": "choropleth"
           }
          ],
          "contour": [
           {
            "colorbar": {
             "outlinewidth": 0,
             "ticks": ""
            },
            "colorscale": [
             [
              0,
              "#0d0887"
             ],
             [
              0.1111111111111111,
              "#46039f"
             ],
             [
              0.2222222222222222,
              "#7201a8"
             ],
             [
              0.3333333333333333,
              "#9c179e"
             ],
             [
              0.4444444444444444,
              "#bd3786"
             ],
             [
              0.5555555555555556,
              "#d8576b"
             ],
             [
              0.6666666666666666,
              "#ed7953"
             ],
             [
              0.7777777777777778,
              "#fb9f3a"
             ],
             [
              0.8888888888888888,
              "#fdca26"
             ],
             [
              1,
              "#f0f921"
             ]
            ],
            "type": "contour"
           }
          ],
          "contourcarpet": [
           {
            "colorbar": {
             "outlinewidth": 0,
             "ticks": ""
            },
            "type": "contourcarpet"
           }
          ],
          "heatmap": [
           {
            "colorbar": {
             "outlinewidth": 0,
             "ticks": ""
            },
            "colorscale": [
             [
              0,
              "#0d0887"
             ],
             [
              0.1111111111111111,
              "#46039f"
             ],
             [
              0.2222222222222222,
              "#7201a8"
             ],
             [
              0.3333333333333333,
              "#9c179e"
             ],
             [
              0.4444444444444444,
              "#bd3786"
             ],
             [
              0.5555555555555556,
              "#d8576b"
             ],
             [
              0.6666666666666666,
              "#ed7953"
             ],
             [
              0.7777777777777778,
              "#fb9f3a"
             ],
             [
              0.8888888888888888,
              "#fdca26"
             ],
             [
              1,
              "#f0f921"
             ]
            ],
            "type": "heatmap"
           }
          ],
          "heatmapgl": [
           {
            "colorbar": {
             "outlinewidth": 0,
             "ticks": ""
            },
            "colorscale": [
             [
              0,
              "#0d0887"
             ],
             [
              0.1111111111111111,
              "#46039f"
             ],
             [
              0.2222222222222222,
              "#7201a8"
             ],
             [
              0.3333333333333333,
              "#9c179e"
             ],
             [
              0.4444444444444444,
              "#bd3786"
             ],
             [
              0.5555555555555556,
              "#d8576b"
             ],
             [
              0.6666666666666666,
              "#ed7953"
             ],
             [
              0.7777777777777778,
              "#fb9f3a"
             ],
             [
              0.8888888888888888,
              "#fdca26"
             ],
             [
              1,
              "#f0f921"
             ]
            ],
            "type": "heatmapgl"
           }
          ],
          "histogram": [
           {
            "marker": {
             "pattern": {
              "fillmode": "overlay",
              "size": 10,
              "solidity": 0.2
             }
            },
            "type": "histogram"
           }
          ],
          "histogram2d": [
           {
            "colorbar": {
             "outlinewidth": 0,
             "ticks": ""
            },
            "colorscale": [
             [
              0,
              "#0d0887"
             ],
             [
              0.1111111111111111,
              "#46039f"
             ],
             [
              0.2222222222222222,
              "#7201a8"
             ],
             [
              0.3333333333333333,
              "#9c179e"
             ],
             [
              0.4444444444444444,
              "#bd3786"
             ],
             [
              0.5555555555555556,
              "#d8576b"
             ],
             [
              0.6666666666666666,
              "#ed7953"
             ],
             [
              0.7777777777777778,
              "#fb9f3a"
             ],
             [
              0.8888888888888888,
              "#fdca26"
             ],
             [
              1,
              "#f0f921"
             ]
            ],
            "type": "histogram2d"
           }
          ],
          "histogram2dcontour": [
           {
            "colorbar": {
             "outlinewidth": 0,
             "ticks": ""
            },
            "colorscale": [
             [
              0,
              "#0d0887"
             ],
             [
              0.1111111111111111,
              "#46039f"
             ],
             [
              0.2222222222222222,
              "#7201a8"
             ],
             [
              0.3333333333333333,
              "#9c179e"
             ],
             [
              0.4444444444444444,
              "#bd3786"
             ],
             [
              0.5555555555555556,
              "#d8576b"
             ],
             [
              0.6666666666666666,
              "#ed7953"
             ],
             [
              0.7777777777777778,
              "#fb9f3a"
             ],
             [
              0.8888888888888888,
              "#fdca26"
             ],
             [
              1,
              "#f0f921"
             ]
            ],
            "type": "histogram2dcontour"
           }
          ],
          "mesh3d": [
           {
            "colorbar": {
             "outlinewidth": 0,
             "ticks": ""
            },
            "type": "mesh3d"
           }
          ],
          "parcoords": [
           {
            "line": {
             "colorbar": {
              "outlinewidth": 0,
              "ticks": ""
             }
            },
            "type": "parcoords"
           }
          ],
          "pie": [
           {
            "automargin": true,
            "type": "pie"
           }
          ],
          "scatter": [
           {
            "fillpattern": {
             "fillmode": "overlay",
             "size": 10,
             "solidity": 0.2
            },
            "type": "scatter"
           }
          ],
          "scatter3d": [
           {
            "line": {
             "colorbar": {
              "outlinewidth": 0,
              "ticks": ""
             }
            },
            "marker": {
             "colorbar": {
              "outlinewidth": 0,
              "ticks": ""
             }
            },
            "type": "scatter3d"
           }
          ],
          "scattercarpet": [
           {
            "marker": {
             "colorbar": {
              "outlinewidth": 0,
              "ticks": ""
             }
            },
            "type": "scattercarpet"
           }
          ],
          "scattergeo": [
           {
            "marker": {
             "colorbar": {
              "outlinewidth": 0,
              "ticks": ""
             }
            },
            "type": "scattergeo"
           }
          ],
          "scattergl": [
           {
            "marker": {
             "colorbar": {
              "outlinewidth": 0,
              "ticks": ""
             }
            },
            "type": "scattergl"
           }
          ],
          "scattermapbox": [
           {
            "marker": {
             "colorbar": {
              "outlinewidth": 0,
              "ticks": ""
             }
            },
            "type": "scattermapbox"
           }
          ],
          "scatterpolar": [
           {
            "marker": {
             "colorbar": {
              "outlinewidth": 0,
              "ticks": ""
             }
            },
            "type": "scatterpolar"
           }
          ],
          "scatterpolargl": [
           {
            "marker": {
             "colorbar": {
              "outlinewidth": 0,
              "ticks": ""
             }
            },
            "type": "scatterpolargl"
           }
          ],
          "scatterternary": [
           {
            "marker": {
             "colorbar": {
              "outlinewidth": 0,
              "ticks": ""
             }
            },
            "type": "scatterternary"
           }
          ],
          "surface": [
           {
            "colorbar": {
             "outlinewidth": 0,
             "ticks": ""
            },
            "colorscale": [
             [
              0,
              "#0d0887"
             ],
             [
              0.1111111111111111,
              "#46039f"
             ],
             [
              0.2222222222222222,
              "#7201a8"
             ],
             [
              0.3333333333333333,
              "#9c179e"
             ],
             [
              0.4444444444444444,
              "#bd3786"
             ],
             [
              0.5555555555555556,
              "#d8576b"
             ],
             [
              0.6666666666666666,
              "#ed7953"
             ],
             [
              0.7777777777777778,
              "#fb9f3a"
             ],
             [
              0.8888888888888888,
              "#fdca26"
             ],
             [
              1,
              "#f0f921"
             ]
            ],
            "type": "surface"
           }
          ],
          "table": [
           {
            "cells": {
             "fill": {
              "color": "#EBF0F8"
             },
             "line": {
              "color": "white"
             }
            },
            "header": {
             "fill": {
              "color": "#C8D4E3"
             },
             "line": {
              "color": "white"
             }
            },
            "type": "table"
           }
          ]
         },
         "layout": {
          "annotationdefaults": {
           "arrowcolor": "#2a3f5f",
           "arrowhead": 0,
           "arrowwidth": 1
          },
          "autotypenumbers": "strict",
          "coloraxis": {
           "colorbar": {
            "outlinewidth": 0,
            "ticks": ""
           }
          },
          "colorscale": {
           "diverging": [
            [
             0,
             "#8e0152"
            ],
            [
             0.1,
             "#c51b7d"
            ],
            [
             0.2,
             "#de77ae"
            ],
            [
             0.3,
             "#f1b6da"
            ],
            [
             0.4,
             "#fde0ef"
            ],
            [
             0.5,
             "#f7f7f7"
            ],
            [
             0.6,
             "#e6f5d0"
            ],
            [
             0.7,
             "#b8e186"
            ],
            [
             0.8,
             "#7fbc41"
            ],
            [
             0.9,
             "#4d9221"
            ],
            [
             1,
             "#276419"
            ]
           ],
           "sequential": [
            [
             0,
             "#0d0887"
            ],
            [
             0.1111111111111111,
             "#46039f"
            ],
            [
             0.2222222222222222,
             "#7201a8"
            ],
            [
             0.3333333333333333,
             "#9c179e"
            ],
            [
             0.4444444444444444,
             "#bd3786"
            ],
            [
             0.5555555555555556,
             "#d8576b"
            ],
            [
             0.6666666666666666,
             "#ed7953"
            ],
            [
             0.7777777777777778,
             "#fb9f3a"
            ],
            [
             0.8888888888888888,
             "#fdca26"
            ],
            [
             1,
             "#f0f921"
            ]
           ],
           "sequentialminus": [
            [
             0,
             "#0d0887"
            ],
            [
             0.1111111111111111,
             "#46039f"
            ],
            [
             0.2222222222222222,
             "#7201a8"
            ],
            [
             0.3333333333333333,
             "#9c179e"
            ],
            [
             0.4444444444444444,
             "#bd3786"
            ],
            [
             0.5555555555555556,
             "#d8576b"
            ],
            [
             0.6666666666666666,
             "#ed7953"
            ],
            [
             0.7777777777777778,
             "#fb9f3a"
            ],
            [
             0.8888888888888888,
             "#fdca26"
            ],
            [
             1,
             "#f0f921"
            ]
           ]
          },
          "colorway": [
           "#636efa",
           "#EF553B",
           "#00cc96",
           "#ab63fa",
           "#FFA15A",
           "#19d3f3",
           "#FF6692",
           "#B6E880",
           "#FF97FF",
           "#FECB52"
          ],
          "font": {
           "color": "#2a3f5f"
          },
          "geo": {
           "bgcolor": "white",
           "lakecolor": "white",
           "landcolor": "white",
           "showlakes": true,
           "showland": true,
           "subunitcolor": "#C8D4E3"
          },
          "hoverlabel": {
           "align": "left"
          },
          "hovermode": "closest",
          "mapbox": {
           "style": "light"
          },
          "paper_bgcolor": "white",
          "plot_bgcolor": "white",
          "polar": {
           "angularaxis": {
            "gridcolor": "#EBF0F8",
            "linecolor": "#EBF0F8",
            "ticks": ""
           },
           "bgcolor": "white",
           "radialaxis": {
            "gridcolor": "#EBF0F8",
            "linecolor": "#EBF0F8",
            "ticks": ""
           }
          },
          "scene": {
           "xaxis": {
            "backgroundcolor": "white",
            "gridcolor": "#DFE8F3",
            "gridwidth": 2,
            "linecolor": "#EBF0F8",
            "showbackground": true,
            "ticks": "",
            "zerolinecolor": "#EBF0F8"
           },
           "yaxis": {
            "backgroundcolor": "white",
            "gridcolor": "#DFE8F3",
            "gridwidth": 2,
            "linecolor": "#EBF0F8",
            "showbackground": true,
            "ticks": "",
            "zerolinecolor": "#EBF0F8"
           },
           "zaxis": {
            "backgroundcolor": "white",
            "gridcolor": "#DFE8F3",
            "gridwidth": 2,
            "linecolor": "#EBF0F8",
            "showbackground": true,
            "ticks": "",
            "zerolinecolor": "#EBF0F8"
           }
          },
          "shapedefaults": {
           "line": {
            "color": "#2a3f5f"
           }
          },
          "ternary": {
           "aaxis": {
            "gridcolor": "#DFE8F3",
            "linecolor": "#A2B1C6",
            "ticks": ""
           },
           "baxis": {
            "gridcolor": "#DFE8F3",
            "linecolor": "#A2B1C6",
            "ticks": ""
           },
           "bgcolor": "white",
           "caxis": {
            "gridcolor": "#DFE8F3",
            "linecolor": "#A2B1C6",
            "ticks": ""
           }
          },
          "title": {
           "x": 0.05
          },
          "xaxis": {
           "automargin": true,
           "gridcolor": "#EBF0F8",
           "linecolor": "#EBF0F8",
           "ticks": "",
           "title": {
            "standoff": 15
           },
           "zerolinecolor": "#EBF0F8",
           "zerolinewidth": 2
          },
          "yaxis": {
           "automargin": true,
           "gridcolor": "#EBF0F8",
           "linecolor": "#EBF0F8",
           "ticks": "",
           "title": {
            "standoff": 15
           },
           "zerolinecolor": "#EBF0F8",
           "zerolinewidth": 2
          }
         }
        },
        "title": {
         "text": "Distribution of the weight of foxes"
        },
        "xaxis": {
         "anchor": "y2",
         "domain": [
          0,
          1
         ],
         "zeroline": false
        },
        "yaxis": {
         "anchor": "free",
         "domain": [
          0.35,
          1
         ],
         "position": 0
        },
        "yaxis2": {
         "anchor": "x",
         "domain": [
          0,
          0.25
         ],
         "dtick": 1,
         "showticklabels": false
        }
       }
      }
     },
     "metadata": {},
     "output_type": "display_data"
    }
   ],
   "source": [
    "plot_fox_col_distr(col=\"weight\")"
   ]
  },
  {
   "cell_type": "code",
   "execution_count": 139,
   "metadata": {},
   "outputs": [
    {
     "data": {
      "application/vnd.plotly.v1+json": {
       "config": {
        "plotlyServerURL": "https://plot.ly"
       },
       "data": [
        {
         "autobinx": false,
         "histnorm": "probability density",
         "legendgroup": "weight",
         "marker": {
          "color": "rgb(31, 119, 180)"
         },
         "name": "weight",
         "opacity": 0.7,
         "type": "histogram",
         "x": [
          1.09,
          1.09,
          2.05,
          2.05,
          2.12,
          2.12,
          1.29,
          1.29,
          3.78,
          3.78,
          3.78,
          2.24,
          2.24,
          2.24,
          2.75,
          2.75,
          2.75,
          1.88,
          1.88,
          1.88,
          3.77,
          3.77,
          3.77,
          1.73,
          1.73,
          1.73,
          2.21,
          2.21,
          2.21,
          3.84,
          3.84,
          3.84,
          3.84,
          3.84,
          3.84,
          3.84,
          3.02,
          3.02,
          3.02,
          3.02,
          3.43,
          3.43,
          3.43,
          3.43,
          2.65,
          2.65,
          2.65,
          2.65,
          3.54,
          3.54,
          3.54,
          3.54,
          2.45,
          2.45,
          2.45,
          2.45,
          5.07,
          5.07,
          5.07,
          5.07,
          5.07,
          5.07,
          5.07,
          5.07,
          2.59,
          2.59,
          2.59,
          2.59,
          3.13,
          3.13,
          3.13,
          3.13,
          3.56,
          3.56,
          3.56,
          3.56,
          3.35,
          3.35,
          3.35,
          3.35,
          3.16,
          3.16,
          3.16,
          3.16,
          3.04,
          3.04,
          3.04,
          3.04,
          3.66,
          3.66,
          3.66,
          3.66,
          3.66,
          3.92,
          3.92,
          3.92,
          3.92,
          3.92,
          2.89,
          2.89,
          2.89,
          2.89,
          2.89,
          4.54,
          4.54,
          4.54,
          4.54,
          4.54,
          4.54,
          2.75,
          2.75,
          2.75,
          2.75,
          1.91,
          1.91,
          1.91
         ],
         "xaxis": "x",
         "xbins": {
          "end": 5.07,
          "size": 1,
          "start": 1.09
         },
         "yaxis": "y"
        },
        {
         "legendgroup": "weight",
         "marker": {
          "color": "rgb(31, 119, 180)"
         },
         "mode": "lines",
         "name": "weight",
         "showlegend": false,
         "type": "scatter",
         "x": [
          1.09,
          1.09796,
          1.10592,
          1.11388,
          1.1218400000000002,
          1.1298000000000001,
          1.13776,
          1.14572,
          1.15368,
          1.16164,
          1.1696,
          1.1775600000000002,
          1.1855200000000001,
          1.19348,
          1.20144,
          1.2094,
          1.21736,
          1.2253200000000002,
          1.2332800000000002,
          1.2412400000000001,
          1.2492,
          1.25716,
          1.26512,
          1.2730800000000002,
          1.2810400000000002,
          1.2890000000000001,
          1.2969600000000001,
          1.30492,
          1.31288,
          1.32084,
          1.3288000000000002,
          1.3367600000000002,
          1.3447200000000001,
          1.35268,
          1.36064,
          1.3686,
          1.37656,
          1.3845200000000002,
          1.3924800000000002,
          1.4004400000000001,
          1.4084,
          1.41636,
          1.4243200000000003,
          1.43228,
          1.4402400000000002,
          1.4482000000000002,
          1.4561600000000001,
          1.46412,
          1.47208,
          1.48004,
          1.4880000000000002,
          1.4959600000000002,
          1.5039200000000001,
          1.5118800000000001,
          1.51984,
          1.5278,
          1.5357600000000002,
          1.54372,
          1.5516800000000002,
          1.5596400000000001,
          1.5676,
          1.57556,
          1.58352,
          1.5914800000000002,
          1.59944,
          1.6074000000000002,
          1.6153600000000001,
          1.62332,
          1.6312800000000003,
          1.63924,
          1.6472000000000002,
          1.6551600000000002,
          1.6631200000000002,
          1.6710800000000001,
          1.67904,
          1.6870000000000003,
          1.69496,
          1.7029200000000002,
          1.7108800000000002,
          1.7188400000000001,
          1.7268000000000001,
          1.73476,
          1.7427200000000003,
          1.75068,
          1.7586400000000002,
          1.7666,
          1.7745600000000001,
          1.7825200000000003,
          1.79048,
          1.7984400000000003,
          1.8064,
          1.8143600000000002,
          1.8223200000000002,
          1.8302800000000001,
          1.8382400000000003,
          1.8462,
          1.8541600000000003,
          1.8621200000000002,
          1.8700800000000002,
          1.8780400000000002,
          1.8860000000000001,
          1.89396,
          1.90192,
          1.9098800000000002,
          1.9178400000000002,
          1.9258000000000002,
          1.9337600000000001,
          1.9417200000000001,
          1.9496800000000003,
          1.95764,
          1.9656000000000002,
          1.97356,
          1.9815200000000002,
          1.9894800000000004,
          1.99744,
          2.0054000000000003,
          2.0133600000000005,
          2.0213200000000002,
          2.02928,
          2.03724,
          2.0452000000000004,
          2.05316,
          2.0611200000000003,
          2.0690800000000005,
          2.07704,
          2.085,
          2.09296,
          2.1009200000000003,
          2.10888,
          2.1168400000000003,
          2.1248000000000005,
          2.13276,
          2.14072,
          2.14868,
          2.1566400000000003,
          2.1646,
          2.1725600000000003,
          2.1805200000000005,
          2.18848,
          2.19644,
          2.2044,
          2.2123600000000003,
          2.22032,
          2.2282800000000003,
          2.2362400000000004,
          2.2442,
          2.25216,
          2.26012,
          2.2680800000000003,
          2.27604,
          2.2840000000000003,
          2.2919600000000004,
          2.29992,
          2.30788,
          2.31584,
          2.3238000000000003,
          2.33176,
          2.33972,
          2.3476800000000004,
          2.35564,
          2.3636,
          2.3715600000000006,
          2.3795200000000003,
          2.38748,
          2.3954400000000002,
          2.4034000000000004,
          2.41136,
          2.41932,
          2.4272800000000005,
          2.4352400000000003,
          2.4432,
          2.4511600000000002,
          2.4591200000000004,
          2.46708,
          2.4750400000000004,
          2.4830000000000005,
          2.4909600000000003,
          2.49892,
          2.50688,
          2.5148400000000004,
          2.5228,
          2.5307600000000003,
          2.5387200000000005,
          2.5466800000000003,
          2.55464,
          2.5626,
          2.5705600000000004,
          2.57852,
          2.5864800000000003,
          2.59444,
          2.6024000000000003,
          2.61036,
          2.61832,
          2.6262800000000004,
          2.63424,
          2.6422000000000003,
          2.65016,
          2.6581200000000003,
          2.66608,
          2.67404,
          2.6820000000000004,
          2.68996,
          2.69792,
          2.7058800000000005,
          2.7138400000000003,
          2.7218,
          2.7297600000000006,
          2.7377200000000004,
          2.74568,
          2.75364,
          2.7616000000000005,
          2.7695600000000002,
          2.77752,
          2.7854800000000006,
          2.7934400000000004,
          2.8014,
          2.8093600000000003,
          2.8173200000000005,
          2.8252800000000002,
          2.8332400000000004,
          2.8412000000000006,
          2.8491600000000004,
          2.85712,
          2.8650800000000003,
          2.8730400000000005,
          2.8810000000000002,
          2.8889600000000004,
          2.8969200000000006,
          2.9048800000000004,
          2.91284,
          2.9208000000000003,
          2.9287600000000005,
          2.93672,
          2.9446800000000004,
          2.95264,
          2.9606000000000003,
          2.96856,
          2.9765200000000003,
          2.9844800000000005,
          2.99244,
          3.0004,
          3.00836,
          3.0163200000000003,
          3.02428,
          3.0322400000000003,
          3.0402000000000005,
          3.04816,
          3.05612,
          3.06408,
          3.0720400000000003,
          3.08,
          3.0879600000000003,
          3.0959200000000004,
          3.10388,
          3.11184,
          3.1198000000000006,
          3.1277600000000003,
          3.13572,
          3.1436800000000007,
          3.1516400000000004,
          3.1596,
          3.167560000000001,
          3.1755200000000006,
          3.1834800000000003,
          3.19144,
          3.1994,
          3.2073600000000004,
          3.21532,
          3.22328,
          3.2312400000000006,
          3.2392000000000003,
          3.24716,
          3.2551200000000007,
          3.2630800000000004,
          3.27104,
          3.279000000000001,
          3.2869600000000005,
          3.2949200000000003,
          3.30288,
          3.31084,
          3.3188000000000004,
          3.32676,
          3.33472,
          3.3426800000000005,
          3.3506400000000003,
          3.3586,
          3.3665600000000007,
          3.3745200000000004,
          3.38248,
          3.39044,
          3.3984000000000005,
          3.4063600000000003,
          3.41432,
          3.4222800000000007,
          3.4302400000000004,
          3.4382,
          3.446160000000001,
          3.4541200000000005,
          3.4620800000000003,
          3.470040000000001,
          3.4780000000000006,
          3.4859600000000004,
          3.49392,
          3.50188,
          3.5098400000000005,
          3.5178000000000003,
          3.52576,
          3.5337200000000006,
          3.5416800000000004,
          3.54964,
          3.5576000000000008,
          3.5655600000000005,
          3.5735200000000003,
          3.581480000000001,
          3.5894399999999997,
          3.5974000000000004,
          3.60536,
          3.61332,
          3.6212800000000005,
          3.6292400000000002,
          3.6372,
          3.6451600000000006,
          3.6531200000000004,
          3.66108,
          3.6690400000000007,
          3.6770000000000005,
          3.6849600000000002,
          3.69292,
          3.7008800000000006,
          3.7088400000000004,
          3.7168,
          3.7247600000000007,
          3.7327200000000005,
          3.7406800000000002,
          3.74864,
          3.7566000000000006,
          3.7645600000000004,
          3.77252,
          3.7804800000000007,
          3.7884400000000005,
          3.7964,
          3.80436,
          3.8123200000000006,
          3.8202800000000003,
          3.82824,
          3.8362000000000007,
          3.8441600000000005,
          3.85212,
          3.860080000000001,
          3.8680400000000006,
          3.8760000000000003,
          3.883960000000001,
          3.89192,
          3.8998800000000005,
          3.90784,
          3.9158,
          3.9237600000000006,
          3.9317200000000003,
          3.93968,
          3.9476400000000007,
          3.9556000000000004,
          3.96356,
          3.971520000000001,
          3.9794800000000006,
          3.9874400000000003,
          3.9954,
          4.00336,
          4.01132,
          4.01928,
          4.02724,
          4.035200000000001,
          4.04316,
          4.05112,
          4.059080000000001,
          4.06704,
          4.075,
          4.082960000000001,
          4.090920000000001,
          4.09888,
          4.10684,
          4.114800000000001,
          4.12276,
          4.13072,
          4.138680000000001,
          4.1466400000000005,
          4.1546,
          4.16256,
          4.170520000000001,
          4.17848,
          4.18644,
          4.194400000000001,
          4.2023600000000005,
          4.21032,
          4.21828,
          4.226240000000001,
          4.2342,
          4.24216,
          4.250120000000001,
          4.2580800000000005,
          4.26604,
          4.274000000000001,
          4.281960000000001,
          4.28992,
          4.297880000000001,
          4.30584,
          4.3138000000000005,
          4.32176,
          4.32972,
          4.337680000000001,
          4.34564,
          4.3536,
          4.361560000000001,
          4.3695200000000005,
          4.37748,
          4.385440000000001,
          4.393400000000001,
          4.40136,
          4.40932,
          4.41728,
          4.4252400000000005,
          4.4332,
          4.44116,
          4.449120000000001,
          4.45708,
          4.46504,
          4.473000000000001,
          4.4809600000000005,
          4.48892,
          4.496880000000001,
          4.504840000000001,
          4.5128,
          4.52076,
          4.528720000000001,
          4.5366800000000005,
          4.54464,
          4.552600000000001,
          4.560560000000001,
          4.56852,
          4.576480000000001,
          4.584440000000001,
          4.5924000000000005,
          4.60036,
          4.60832,
          4.616280000000001,
          4.62424,
          4.6322,
          4.640160000000001,
          4.6481200000000005,
          4.65608,
          4.664040000000001,
          4.672000000000001,
          4.67996,
          4.687920000000001,
          4.695880000000001,
          4.7038400000000005,
          4.7118,
          4.71976,
          4.727720000000001,
          4.73568,
          4.74364,
          4.751600000000001,
          4.7595600000000005,
          4.76752,
          4.775480000000001,
          4.783440000000001,
          4.7914,
          4.799360000000001,
          4.807320000000001,
          4.8152800000000004,
          4.82324,
          4.8312,
          4.839160000000001,
          4.84712,
          4.85508,
          4.863040000000001,
          4.871,
          4.87896,
          4.886920000000001,
          4.894880000000001,
          4.90284,
          4.9108,
          4.918760000000001,
          4.92672,
          4.93468,
          4.942640000000001,
          4.9506000000000006,
          4.95856,
          4.966520000000001,
          4.974480000000001,
          4.98244,
          4.990400000000001,
          4.998360000000001,
          5.0063200000000005,
          5.01428,
          5.02224,
          5.030200000000001,
          5.03816,
          5.04612,
          5.054080000000001,
          5.0620400000000005
         ],
         "xaxis": "x",
         "y": [
          0.04737414075661175,
          0.04812535213095565,
          0.04888201978740336,
          0.04964438253630011,
          0.050412695501625505,
          0.05118722976491748,
          0.05196827194408655,
          0.0527561237072,
          0.053551101221567005,
          0.05435353453870923,
          0.055163766916064026,
          0.055982154076521864,
          0.05680906340716102,
          0.057644873098806663,
          0.058489971228291165,
          0.05934475478555465,
          0.06020962864797022,
          0.06108500450452751,
          0.06197129973274505,
          0.06286893623141433,
          0.06377833921250119,
          0.06469993595574497,
          0.06563415452969429,
          0.06658142248311466,
          0.06754216551087558,
          0.06851680609859276,
          0.06950576215044836,
          0.070509445604746,
          0.07152826104187604,
          0.07256260428946673,
          0.07361286102957967,
          0.0746794054128705,
          0.07576259868468715,
          0.07686278782809713,
          0.07798030422885073,
          0.07911546236726497,
          0.08026855854199143,
          0.08143986963056732,
          0.08262965189158601,
          0.08383813981322363,
          0.08506554501274993,
          0.0863120551915188,
          0.08757783314978115,
          0.0888630158654961,
          0.090167713641126,
          0.0914920093221941,
          0.09283595759116892,
          0.0941995843399897,
          0.09558288612430275,
          0.09698582970220733,
          0.09840835166002695,
          0.09985035812733388,
          0.10131172458314032,
          0.10279229575486976,
          0.10429188561138154,
          0.10581027745100709,
          0.10734722408520618,
          0.10890244811811947,
          0.11047564232194351,
          0.11206647010770461,
          0.11367456609066716,
          0.11529953674925739,
          0.11694096117603954,
          0.11859839191894377,
          0.12027135591060008,
          0.12195935548330795,
          0.12366186946684446,
          0.12537835436599842,
          0.12710824561441308,
          0.1288509589010305,
          0.13060589156514107,
          0.13237242405578323,
          0.13414992145097782,
          0.13593773503204878,
          0.137735203908062,
          0.13954165668520438,
          0.1413564131757475,
          0.14317878614107518,
          0.14500808306309607,
          0.14684360793825557,
          0.14868466308823894,
          0.1505305509813843,
          0.15238057605876143,
          0.1542340465588202,
          0.15609027633451825,
          0.15794858665681089,
          0.15980830799843848,
          0.1616687817919778,
          0.1635293621561997,
          0.16538941758486636,
          0.16724833259221117,
          0.16910550930947757,
          0.1709603690270497,
          0.1728123536768769,
          0.17466092725008414,
          0.17650557714487441,
          0.178345815440064,
          0.18018118008980938,
          0.18201123603538275,
          0.1838355762300963,
          0.18565382257377902,
          0.1874656267535107,
          0.18927067098762881,
          0.19106866867034766,
          0.1928593649146664,
          0.19464253699157769,
          0.19641799466394513,
          0.19818558041376616,
          0.19994516956190103,
          0.20169667027970306,
          0.20344002349236298,
          0.20517520267412637,
          0.20690221353592772,
          0.20862109360633593,
          0.21033191170705878,
          0.21203476732463108,
          0.21372978988023505,
          0.21541713789996728,
          0.21709699808818017,
          0.21876958430687365,
          0.22043513646440469,
          0.22209391931710887,
          0.2237462211877093,
          0.2253923526046597,
          0.2270326448668527,
          0.22866744853835333,
          0.23029713187806886,
          0.2319220792094639,
          0.23354268923565308,
          0.23515937330535963,
          0.2367725536354125,
          0.23838266149558063,
          0.23999013536168357,
          0.24159541904300627,
          0.2431989597901402,
          0.2448012063894316,
          0.24640260725026053,
          0.2480036084913955,
          0.24960465203267124,
          0.2512061736982124,
          0.25280860133739436,
          0.25441235296965653,
          0.2560178349592165,
          0.2576254402256258,
          0.2592355464959819,
          0.26084851460448055,
          0.2624646868448308,
          0.26408438538087187,
          0.26570791072055155,
          0.2673355402581987,
          0.26896752688981657,
          0.2706040977058532,
          0.2722454527656955,
          0.2738917639578138,
          0.27554317394924466,
          0.2771997952277902,
          0.27886170924000614,
          0.28052896562775986,
          0.282201581565802,
          0.283879541202479,
          0.2855627952053811,
          0.28725126041338955,
          0.28894481959623625,
          0.29064332132236426,
          0.29234657993551366,
          0.29405437564014025,
          0.2957664546954086,
          0.2974825297171778,
          0.29920228008705496,
          0.30092535246726243,
          0.30265136141973387,
          0.30437989012754196,
          0.30611049121643635,
          0.3078426876739761,
          0.3095759738634407,
          0.31130981662941487,
          0.31304365649166926,
          0.31477690892370286,
          0.3165089657120451,
          0.31823919639219,
          0.3199669497568047,
          0.321691555431644,
          0.32341232551439625,
          0.3251285562715175,
          0.3268395298879306,
          0.32854451626432113,
          0.3302427748566167,
          0.33193355655212137,
          0.3336161055766729,
          0.33528966142709243,
          0.33695346082313304,
          0.3386067396730607,
          0.34024873504698666,
          0.34187868715201214,
          0.3434958413032619,
          0.3450994498848736,
          0.34668877429504,
          0.3482630868692381,
          0.3498216727758138,
          0.35136383187818493,
          0.3528888805579818,
          0.3543961534935491,
          0.3558850053883393,
          0.3573548126438515,
          0.35880497497189856,
          0.36023491694113774,
          0.3616440894529602,
          0.36303197114199565,
          0.3643980696966881,
          0.3657419230955766,
          0.3670631007551281,
          0.36836120458518623,
          0.3696358699483111,
          0.37088676651954566,
          0.37211359904335284,
          0.37331610798475295,
          0.37449407007193536,
          0.3756472987278827,
          0.37677564438883393,
          0.3778789947076979,
          0.3789572746407973,
          0.3800104464166494,
          0.38103850938576983,
          0.3820414997508098,
          0.3830194901766315,
          0.3839725892802707,
          0.3849009410010254,
          0.38580472385126696,
          0.38668415004887113,
          0.3875394645325187,
          0.38837094386143006,
          0.3891788950014498,
          0.3899636539997135,
          0.390725584550485,
          0.39146507645506257,
          0.39218254397900587,
          0.3928784241102564,
          0.3935531747220462,
          0.3942072726448245,
          0.39484121165174674,
          0.39545550036257743,
          0.3960506600711704,
          0.3966272225019916,
          0.39718572750143494,
          0.3977267206699644,
          0.3982507509413879,
          0.3987583681158227,
          0.39925012035316926,
          0.39972655163413007,
          0.4001881991960379,
          0.4006355909509548,
          0.4010692428936889,
          0.4014896565075526,
          0.40189731617581703,
          0.40229268660696504,
          0.402676210281936,
          0.4030483049316584,
          0.4034093610532067,
          0.4037597394729919,
          0.40409976896536337,
          0.4044297439350407,
          0.40474992217171324,
          0.40506052268511156,
          0.40536172362875494,
          0.4056536603204487,
          0.40593642336748975,
          0.40621005690433654,
          0.4064745569503005,
          0.40672986989461646,
          0.4069758911159404,
          0.4072124637430834,
          0.40743937756344206,
          0.40765636808526245,
          0.40786311575949485,
          0.40805924536660554,
          0.40824432557329204,
          0.40841786866358354,
          0.4085793304483765,
          0.408728110356911,
          0.4088635517132257,
          0.4089849422000633,
          0.4090915145121613,
          0.4091824472002819,
          0.4092568657067576,
          0.4093138435927223,
          0.40935240395659206,
          0.4093715210427311,
          0.40937012203861983,
          0.4093470890581931,
          0.40930126130839517,
          0.40923143743534235,
          0.40913637804586045,
          0.4090148083995154,
          0.4088654212656423,
          0.40868687993924085,
          0.4084778214090124,
          0.4082368596702003,
          0.4079625891743249,
          0.4076535884073484,
          0.4073084235872349,
          0.406925652471385,
          0.4065038282639045,
          0.4060415036122114,
          0.4055372346820434,
          0.404989585299518,
          0.40439713114853476,
          0.403758464011456,
          0.4030721960407209,
          0.40233696404876285,
          0.4015514338034039,
          0.40071430431569693,
          0.39982431210707614,
          0.3988802354425444,
          0.3978808985166383,
          0.39682517557884217,
          0.3957119949852218,
          0.3945403431631205,
          0.39330926847588416,
          0.392017884974807,
          0.3906653760256791,
          0.389250997797633,
          0.3877740826022974,
          0.3862340420716309,
          0.3846303701632513,
          0.38296264598250496,
          0.38123053641105126,
          0.3794337985322619,
          0.3775722818443273,
          0.37564593025257953,
          0.37365478383319856,
          0.371598980361157,
          0.36947875659597096,
          0.3672944493195925,
          0.3650464961215234,
          0.3627354359270533,
          0.3603619092653401,
          0.35792665827485093,
          0.3554305264445848,
          0.35287445809031315,
          0.3502594975659549,
          0.34758678821109307,
          0.3448575710364673,
          0.3420731831502026,
          0.3392350559283536,
          0.33634471293421975,
          0.33340376759172535,
          0.33041392061898384,
          0.32737695722897386,
          0.3242947441050377,
          0.32116922615967447,
          0.3180024230858222,
          0.31479642571053656,
          0.3115533921616186,
          0.3082755438583805,
          0.30496516133832724,
          0.3016245799320584,
          0.2982561852992129,
          0.29486240883871384,
          0.2914457229869752,
          0.28800863641809643,
          0.2845536891603496,
          0.2810834476435161,
          0.2776004996918319,
          0.27410744947741766,
          0.2706069124491545,
          0.2671015102519987,
          0.26359386565167725,
          0.26008659747962687,
          0.2565823156128957,
          0.2530836160035042,
          0.24959307577153697,
          0.2461132483759024,
          0.2426466588763351,
          0.23919579929983326,
          0.2357631241242174,
          0.23235104589103156,
          0.22896193095942968,
          0.22559809541211578,
          0.22226180112374933,
          0.21895525200159127,
          0.2156805904074447,
          0.21243989376920636,
          0.20923517138961206,
          0.20606836145895338,
          0.20294132827775654,
          0.19985585969458738,
          0.1968136647633277,
          0.19381637162341295,
          0.19086552560570264,
          0.1879625875657752,
          0.18510893244563395,
          0.1823058480639477,
          0.1795545341341306,
          0.17685610150876216,
          0.17421157164803777,
          0.17162187630918155,
          0.16908785745298224,
          0.16661026736291237,
          0.1641897689715803,
          0.16182693638860857,
          0.1595222556234116,
          0.15727612549575862,
          0.15508885872645686,
          0.1529606831999945,
          0.1508917433905253,
          0.1488821019421559,
          0.14693174139414938,
          0.14504056604132892,
          0.14320840391970868,
          0.14143500890716898,
          0.13972006292881337,
          0.13806317825655434,
          0.13646389989239735,
          0.13492170802488365,
          0.13343602054819878,
          0.13200619563353297,
          0.130631534342415,
          0.12931128327192598,
          0.12804463722192125,
          0.12683074187465712,
          0.12566869647752588,
          0.12455755651995308,
          0.12349633639588568,
          0.12248401204372428,
          0.12151952355598551,
          0.12060177775146537,
          0.119729650703163,
          0.11890199021574135,
          0.1181176182468445,
          0.1173753332671317,
          0.11667391255445435,
          0.11601211441817079,
          0.11538868035016545,
          0.11480233709971244,
          0.11425179866989814,
          0.11373576823387999,
          0.11325293996981933,
          0.11280200081386825,
          0.11238163213112361,
          0.11199051130497314,
          0.11162731324574802,
          0.11129071182007025,
          0.11097938120272181,
          0.1106919971532788,
          0.11042723822014311,
          0.11018378687495217,
          0.10996033058067269,
          0.1097555627969691,
          0.10956818392668517,
          0.10939690220749454,
          0.10924043455294864,
          0.10909750734729207,
          0.10896685719851014,
          0.10884723165414331,
          0.10873738988441888,
          0.10863610333724555,
          0.1085421563695626,
          0.10845434685945061,
          0.10837148680329597,
          0.1082924029021464,
          0.10821593714121057,
          0.10814094736624906,
          0.1080663078603551,
          0.10799090992436736,
          0.10791366246386133,
          0.10783349258536251,
          0.1077493462040926,
          0.10766018866522045,
          0.10756500538023256,
          0.10746280247966984,
          0.10735260748310453,
          0.10723346998685401,
          0.10710446236954549,
          0.10696468051526431,
          0.10681324455364548,
          0.10664929961589552,
          0.10647201660536923,
          0.10628059298097613,
          0.10607425355135622,
          0.10585225127744048,
          0.10561386808071183,
          0.10535841565419744,
          0.1050852362729656,
          0.10479370360065983,
          0.10448322348839524,
          0.10415323476215764,
          0.10380320999468484,
          0.10343265625768594,
          0.10304111585015699,
          0.10262816699847982,
          0.1021934245239544,
          0.10173654047341327,
          0.10125720470858182,
          0.10075514544991344,
          0.10023012977070336,
          0.0996819640374066,
          0.0991104942922255,
          0.09851560657419905,
          0.09789722717523153,
          0.09725532282771165
         ],
         "yaxis": "y"
        },
        {
         "legendgroup": "weight",
         "marker": {
          "color": "rgb(31, 119, 180)",
          "symbol": "line-ns-open"
         },
         "mode": "markers",
         "name": "weight",
         "showlegend": false,
         "type": "scatter",
         "x": [
          1.09,
          1.09,
          2.05,
          2.05,
          2.12,
          2.12,
          1.29,
          1.29,
          3.78,
          3.78,
          3.78,
          2.24,
          2.24,
          2.24,
          2.75,
          2.75,
          2.75,
          1.88,
          1.88,
          1.88,
          3.77,
          3.77,
          3.77,
          1.73,
          1.73,
          1.73,
          2.21,
          2.21,
          2.21,
          3.84,
          3.84,
          3.84,
          3.84,
          3.84,
          3.84,
          3.84,
          3.02,
          3.02,
          3.02,
          3.02,
          3.43,
          3.43,
          3.43,
          3.43,
          2.65,
          2.65,
          2.65,
          2.65,
          3.54,
          3.54,
          3.54,
          3.54,
          2.45,
          2.45,
          2.45,
          2.45,
          5.07,
          5.07,
          5.07,
          5.07,
          5.07,
          5.07,
          5.07,
          5.07,
          2.59,
          2.59,
          2.59,
          2.59,
          3.13,
          3.13,
          3.13,
          3.13,
          3.56,
          3.56,
          3.56,
          3.56,
          3.35,
          3.35,
          3.35,
          3.35,
          3.16,
          3.16,
          3.16,
          3.16,
          3.04,
          3.04,
          3.04,
          3.04,
          3.66,
          3.66,
          3.66,
          3.66,
          3.66,
          3.92,
          3.92,
          3.92,
          3.92,
          3.92,
          2.89,
          2.89,
          2.89,
          2.89,
          2.89,
          4.54,
          4.54,
          4.54,
          4.54,
          4.54,
          4.54,
          2.75,
          2.75,
          2.75,
          2.75,
          1.91,
          1.91,
          1.91
         ],
         "xaxis": "x",
         "y": [
          "weight",
          "weight",
          "weight",
          "weight",
          "weight",
          "weight",
          "weight",
          "weight",
          "weight",
          "weight",
          "weight",
          "weight",
          "weight",
          "weight",
          "weight",
          "weight",
          "weight",
          "weight",
          "weight",
          "weight",
          "weight",
          "weight",
          "weight",
          "weight",
          "weight",
          "weight",
          "weight",
          "weight",
          "weight",
          "weight",
          "weight",
          "weight",
          "weight",
          "weight",
          "weight",
          "weight",
          "weight",
          "weight",
          "weight",
          "weight",
          "weight",
          "weight",
          "weight",
          "weight",
          "weight",
          "weight",
          "weight",
          "weight",
          "weight",
          "weight",
          "weight",
          "weight",
          "weight",
          "weight",
          "weight",
          "weight",
          "weight",
          "weight",
          "weight",
          "weight",
          "weight",
          "weight",
          "weight",
          "weight",
          "weight",
          "weight",
          "weight",
          "weight",
          "weight",
          "weight",
          "weight",
          "weight",
          "weight",
          "weight",
          "weight",
          "weight",
          "weight",
          "weight",
          "weight",
          "weight",
          "weight",
          "weight",
          "weight",
          "weight",
          "weight",
          "weight",
          "weight",
          "weight",
          "weight",
          "weight",
          "weight",
          "weight",
          "weight",
          "weight",
          "weight",
          "weight",
          "weight",
          "weight",
          "weight",
          "weight",
          "weight",
          "weight",
          "weight",
          "weight",
          "weight",
          "weight",
          "weight",
          "weight",
          "weight",
          "weight",
          "weight",
          "weight",
          "weight",
          "weight",
          "weight",
          "weight"
         ],
         "yaxis": "y2"
        }
       ],
       "layout": {
        "barmode": "overlay",
        "hovermode": "closest",
        "legend": {
         "traceorder": "reversed"
        },
        "template": {
         "data": {
          "bar": [
           {
            "error_x": {
             "color": "#2a3f5f"
            },
            "error_y": {
             "color": "#2a3f5f"
            },
            "marker": {
             "line": {
              "color": "white",
              "width": 0.5
             },
             "pattern": {
              "fillmode": "overlay",
              "size": 10,
              "solidity": 0.2
             }
            },
            "type": "bar"
           }
          ],
          "barpolar": [
           {
            "marker": {
             "line": {
              "color": "white",
              "width": 0.5
             },
             "pattern": {
              "fillmode": "overlay",
              "size": 10,
              "solidity": 0.2
             }
            },
            "type": "barpolar"
           }
          ],
          "carpet": [
           {
            "aaxis": {
             "endlinecolor": "#2a3f5f",
             "gridcolor": "#C8D4E3",
             "linecolor": "#C8D4E3",
             "minorgridcolor": "#C8D4E3",
             "startlinecolor": "#2a3f5f"
            },
            "baxis": {
             "endlinecolor": "#2a3f5f",
             "gridcolor": "#C8D4E3",
             "linecolor": "#C8D4E3",
             "minorgridcolor": "#C8D4E3",
             "startlinecolor": "#2a3f5f"
            },
            "type": "carpet"
           }
          ],
          "choropleth": [
           {
            "colorbar": {
             "outlinewidth": 0,
             "ticks": ""
            },
            "type": "choropleth"
           }
          ],
          "contour": [
           {
            "colorbar": {
             "outlinewidth": 0,
             "ticks": ""
            },
            "colorscale": [
             [
              0,
              "#0d0887"
             ],
             [
              0.1111111111111111,
              "#46039f"
             ],
             [
              0.2222222222222222,
              "#7201a8"
             ],
             [
              0.3333333333333333,
              "#9c179e"
             ],
             [
              0.4444444444444444,
              "#bd3786"
             ],
             [
              0.5555555555555556,
              "#d8576b"
             ],
             [
              0.6666666666666666,
              "#ed7953"
             ],
             [
              0.7777777777777778,
              "#fb9f3a"
             ],
             [
              0.8888888888888888,
              "#fdca26"
             ],
             [
              1,
              "#f0f921"
             ]
            ],
            "type": "contour"
           }
          ],
          "contourcarpet": [
           {
            "colorbar": {
             "outlinewidth": 0,
             "ticks": ""
            },
            "type": "contourcarpet"
           }
          ],
          "heatmap": [
           {
            "colorbar": {
             "outlinewidth": 0,
             "ticks": ""
            },
            "colorscale": [
             [
              0,
              "#0d0887"
             ],
             [
              0.1111111111111111,
              "#46039f"
             ],
             [
              0.2222222222222222,
              "#7201a8"
             ],
             [
              0.3333333333333333,
              "#9c179e"
             ],
             [
              0.4444444444444444,
              "#bd3786"
             ],
             [
              0.5555555555555556,
              "#d8576b"
             ],
             [
              0.6666666666666666,
              "#ed7953"
             ],
             [
              0.7777777777777778,
              "#fb9f3a"
             ],
             [
              0.8888888888888888,
              "#fdca26"
             ],
             [
              1,
              "#f0f921"
             ]
            ],
            "type": "heatmap"
           }
          ],
          "heatmapgl": [
           {
            "colorbar": {
             "outlinewidth": 0,
             "ticks": ""
            },
            "colorscale": [
             [
              0,
              "#0d0887"
             ],
             [
              0.1111111111111111,
              "#46039f"
             ],
             [
              0.2222222222222222,
              "#7201a8"
             ],
             [
              0.3333333333333333,
              "#9c179e"
             ],
             [
              0.4444444444444444,
              "#bd3786"
             ],
             [
              0.5555555555555556,
              "#d8576b"
             ],
             [
              0.6666666666666666,
              "#ed7953"
             ],
             [
              0.7777777777777778,
              "#fb9f3a"
             ],
             [
              0.8888888888888888,
              "#fdca26"
             ],
             [
              1,
              "#f0f921"
             ]
            ],
            "type": "heatmapgl"
           }
          ],
          "histogram": [
           {
            "marker": {
             "pattern": {
              "fillmode": "overlay",
              "size": 10,
              "solidity": 0.2
             }
            },
            "type": "histogram"
           }
          ],
          "histogram2d": [
           {
            "colorbar": {
             "outlinewidth": 0,
             "ticks": ""
            },
            "colorscale": [
             [
              0,
              "#0d0887"
             ],
             [
              0.1111111111111111,
              "#46039f"
             ],
             [
              0.2222222222222222,
              "#7201a8"
             ],
             [
              0.3333333333333333,
              "#9c179e"
             ],
             [
              0.4444444444444444,
              "#bd3786"
             ],
             [
              0.5555555555555556,
              "#d8576b"
             ],
             [
              0.6666666666666666,
              "#ed7953"
             ],
             [
              0.7777777777777778,
              "#fb9f3a"
             ],
             [
              0.8888888888888888,
              "#fdca26"
             ],
             [
              1,
              "#f0f921"
             ]
            ],
            "type": "histogram2d"
           }
          ],
          "histogram2dcontour": [
           {
            "colorbar": {
             "outlinewidth": 0,
             "ticks": ""
            },
            "colorscale": [
             [
              0,
              "#0d0887"
             ],
             [
              0.1111111111111111,
              "#46039f"
             ],
             [
              0.2222222222222222,
              "#7201a8"
             ],
             [
              0.3333333333333333,
              "#9c179e"
             ],
             [
              0.4444444444444444,
              "#bd3786"
             ],
             [
              0.5555555555555556,
              "#d8576b"
             ],
             [
              0.6666666666666666,
              "#ed7953"
             ],
             [
              0.7777777777777778,
              "#fb9f3a"
             ],
             [
              0.8888888888888888,
              "#fdca26"
             ],
             [
              1,
              "#f0f921"
             ]
            ],
            "type": "histogram2dcontour"
           }
          ],
          "mesh3d": [
           {
            "colorbar": {
             "outlinewidth": 0,
             "ticks": ""
            },
            "type": "mesh3d"
           }
          ],
          "parcoords": [
           {
            "line": {
             "colorbar": {
              "outlinewidth": 0,
              "ticks": ""
             }
            },
            "type": "parcoords"
           }
          ],
          "pie": [
           {
            "automargin": true,
            "type": "pie"
           }
          ],
          "scatter": [
           {
            "fillpattern": {
             "fillmode": "overlay",
             "size": 10,
             "solidity": 0.2
            },
            "type": "scatter"
           }
          ],
          "scatter3d": [
           {
            "line": {
             "colorbar": {
              "outlinewidth": 0,
              "ticks": ""
             }
            },
            "marker": {
             "colorbar": {
              "outlinewidth": 0,
              "ticks": ""
             }
            },
            "type": "scatter3d"
           }
          ],
          "scattercarpet": [
           {
            "marker": {
             "colorbar": {
              "outlinewidth": 0,
              "ticks": ""
             }
            },
            "type": "scattercarpet"
           }
          ],
          "scattergeo": [
           {
            "marker": {
             "colorbar": {
              "outlinewidth": 0,
              "ticks": ""
             }
            },
            "type": "scattergeo"
           }
          ],
          "scattergl": [
           {
            "marker": {
             "colorbar": {
              "outlinewidth": 0,
              "ticks": ""
             }
            },
            "type": "scattergl"
           }
          ],
          "scattermapbox": [
           {
            "marker": {
             "colorbar": {
              "outlinewidth": 0,
              "ticks": ""
             }
            },
            "type": "scattermapbox"
           }
          ],
          "scatterpolar": [
           {
            "marker": {
             "colorbar": {
              "outlinewidth": 0,
              "ticks": ""
             }
            },
            "type": "scatterpolar"
           }
          ],
          "scatterpolargl": [
           {
            "marker": {
             "colorbar": {
              "outlinewidth": 0,
              "ticks": ""
             }
            },
            "type": "scatterpolargl"
           }
          ],
          "scatterternary": [
           {
            "marker": {
             "colorbar": {
              "outlinewidth": 0,
              "ticks": ""
             }
            },
            "type": "scatterternary"
           }
          ],
          "surface": [
           {
            "colorbar": {
             "outlinewidth": 0,
             "ticks": ""
            },
            "colorscale": [
             [
              0,
              "#0d0887"
             ],
             [
              0.1111111111111111,
              "#46039f"
             ],
             [
              0.2222222222222222,
              "#7201a8"
             ],
             [
              0.3333333333333333,
              "#9c179e"
             ],
             [
              0.4444444444444444,
              "#bd3786"
             ],
             [
              0.5555555555555556,
              "#d8576b"
             ],
             [
              0.6666666666666666,
              "#ed7953"
             ],
             [
              0.7777777777777778,
              "#fb9f3a"
             ],
             [
              0.8888888888888888,
              "#fdca26"
             ],
             [
              1,
              "#f0f921"
             ]
            ],
            "type": "surface"
           }
          ],
          "table": [
           {
            "cells": {
             "fill": {
              "color": "#EBF0F8"
             },
             "line": {
              "color": "white"
             }
            },
            "header": {
             "fill": {
              "color": "#C8D4E3"
             },
             "line": {
              "color": "white"
             }
            },
            "type": "table"
           }
          ]
         },
         "layout": {
          "annotationdefaults": {
           "arrowcolor": "#2a3f5f",
           "arrowhead": 0,
           "arrowwidth": 1
          },
          "autotypenumbers": "strict",
          "coloraxis": {
           "colorbar": {
            "outlinewidth": 0,
            "ticks": ""
           }
          },
          "colorscale": {
           "diverging": [
            [
             0,
             "#8e0152"
            ],
            [
             0.1,
             "#c51b7d"
            ],
            [
             0.2,
             "#de77ae"
            ],
            [
             0.3,
             "#f1b6da"
            ],
            [
             0.4,
             "#fde0ef"
            ],
            [
             0.5,
             "#f7f7f7"
            ],
            [
             0.6,
             "#e6f5d0"
            ],
            [
             0.7,
             "#b8e186"
            ],
            [
             0.8,
             "#7fbc41"
            ],
            [
             0.9,
             "#4d9221"
            ],
            [
             1,
             "#276419"
            ]
           ],
           "sequential": [
            [
             0,
             "#0d0887"
            ],
            [
             0.1111111111111111,
             "#46039f"
            ],
            [
             0.2222222222222222,
             "#7201a8"
            ],
            [
             0.3333333333333333,
             "#9c179e"
            ],
            [
             0.4444444444444444,
             "#bd3786"
            ],
            [
             0.5555555555555556,
             "#d8576b"
            ],
            [
             0.6666666666666666,
             "#ed7953"
            ],
            [
             0.7777777777777778,
             "#fb9f3a"
            ],
            [
             0.8888888888888888,
             "#fdca26"
            ],
            [
             1,
             "#f0f921"
            ]
           ],
           "sequentialminus": [
            [
             0,
             "#0d0887"
            ],
            [
             0.1111111111111111,
             "#46039f"
            ],
            [
             0.2222222222222222,
             "#7201a8"
            ],
            [
             0.3333333333333333,
             "#9c179e"
            ],
            [
             0.4444444444444444,
             "#bd3786"
            ],
            [
             0.5555555555555556,
             "#d8576b"
            ],
            [
             0.6666666666666666,
             "#ed7953"
            ],
            [
             0.7777777777777778,
             "#fb9f3a"
            ],
            [
             0.8888888888888888,
             "#fdca26"
            ],
            [
             1,
             "#f0f921"
            ]
           ]
          },
          "colorway": [
           "#636efa",
           "#EF553B",
           "#00cc96",
           "#ab63fa",
           "#FFA15A",
           "#19d3f3",
           "#FF6692",
           "#B6E880",
           "#FF97FF",
           "#FECB52"
          ],
          "font": {
           "color": "#2a3f5f"
          },
          "geo": {
           "bgcolor": "white",
           "lakecolor": "white",
           "landcolor": "white",
           "showlakes": true,
           "showland": true,
           "subunitcolor": "#C8D4E3"
          },
          "hoverlabel": {
           "align": "left"
          },
          "hovermode": "closest",
          "mapbox": {
           "style": "light"
          },
          "paper_bgcolor": "white",
          "plot_bgcolor": "white",
          "polar": {
           "angularaxis": {
            "gridcolor": "#EBF0F8",
            "linecolor": "#EBF0F8",
            "ticks": ""
           },
           "bgcolor": "white",
           "radialaxis": {
            "gridcolor": "#EBF0F8",
            "linecolor": "#EBF0F8",
            "ticks": ""
           }
          },
          "scene": {
           "xaxis": {
            "backgroundcolor": "white",
            "gridcolor": "#DFE8F3",
            "gridwidth": 2,
            "linecolor": "#EBF0F8",
            "showbackground": true,
            "ticks": "",
            "zerolinecolor": "#EBF0F8"
           },
           "yaxis": {
            "backgroundcolor": "white",
            "gridcolor": "#DFE8F3",
            "gridwidth": 2,
            "linecolor": "#EBF0F8",
            "showbackground": true,
            "ticks": "",
            "zerolinecolor": "#EBF0F8"
           },
           "zaxis": {
            "backgroundcolor": "white",
            "gridcolor": "#DFE8F3",
            "gridwidth": 2,
            "linecolor": "#EBF0F8",
            "showbackground": true,
            "ticks": "",
            "zerolinecolor": "#EBF0F8"
           }
          },
          "shapedefaults": {
           "line": {
            "color": "#2a3f5f"
           }
          },
          "ternary": {
           "aaxis": {
            "gridcolor": "#DFE8F3",
            "linecolor": "#A2B1C6",
            "ticks": ""
           },
           "baxis": {
            "gridcolor": "#DFE8F3",
            "linecolor": "#A2B1C6",
            "ticks": ""
           },
           "bgcolor": "white",
           "caxis": {
            "gridcolor": "#DFE8F3",
            "linecolor": "#A2B1C6",
            "ticks": ""
           }
          },
          "title": {
           "x": 0.05
          },
          "xaxis": {
           "automargin": true,
           "gridcolor": "#EBF0F8",
           "linecolor": "#EBF0F8",
           "ticks": "",
           "title": {
            "standoff": 15
           },
           "zerolinecolor": "#EBF0F8",
           "zerolinewidth": 2
          },
          "yaxis": {
           "automargin": true,
           "gridcolor": "#EBF0F8",
           "linecolor": "#EBF0F8",
           "ticks": "",
           "title": {
            "standoff": 15
           },
           "zerolinecolor": "#EBF0F8",
           "zerolinewidth": 2
          }
         }
        },
        "title": {
         "text": "Distribution of the area of foxes"
        },
        "xaxis": {
         "anchor": "y2",
         "domain": [
          0,
          1
         ],
         "zeroline": false
        },
        "yaxis": {
         "anchor": "free",
         "domain": [
          0.35,
          1
         ],
         "position": 0
        },
        "yaxis2": {
         "anchor": "x",
         "domain": [
          0,
          0.25
         ],
         "dtick": 1,
         "showticklabels": false
        }
       }
      }
     },
     "metadata": {},
     "output_type": "display_data"
    }
   ],
   "source": [
    "plot_fox_col_distr(col=\"area\")"
   ]
  },
  {
   "cell_type": "code",
   "execution_count": 140,
   "metadata": {},
   "outputs": [
    {
     "data": {
      "application/vnd.plotly.v1+json": {
       "config": {
        "plotlyServerURL": "https://plot.ly"
       },
       "data": [
        {
         "autobinx": false,
         "histnorm": "probability density",
         "legendgroup": "weight",
         "marker": {
          "color": "rgb(31, 119, 180)"
         },
         "name": "weight",
         "opacity": 0.7,
         "type": "histogram",
         "x": [
          2,
          2,
          2,
          2,
          2,
          2,
          2,
          2,
          3,
          3,
          3,
          3,
          3,
          3,
          3,
          3,
          3,
          3,
          3,
          3,
          3,
          3,
          3,
          3,
          3,
          3,
          3,
          3,
          3,
          7,
          7,
          7,
          7,
          7,
          7,
          7,
          4,
          4,
          4,
          4,
          4,
          4,
          4,
          4,
          4,
          4,
          4,
          4,
          4,
          4,
          4,
          4,
          4,
          4,
          4,
          4,
          8,
          8,
          8,
          8,
          8,
          8,
          8,
          8,
          4,
          4,
          4,
          4,
          4,
          4,
          4,
          4,
          4,
          4,
          4,
          4,
          4,
          4,
          4,
          4,
          4,
          4,
          4,
          4,
          4,
          4,
          4,
          4,
          5,
          5,
          5,
          5,
          5,
          5,
          5,
          5,
          5,
          5,
          5,
          5,
          5,
          5,
          5,
          6,
          6,
          6,
          6,
          6,
          6,
          4,
          4,
          4,
          4,
          3,
          3,
          3
         ],
         "xaxis": "x",
         "xbins": {
          "end": 8,
          "size": 1,
          "start": 2
         },
         "yaxis": "y"
        },
        {
         "legendgroup": "weight",
         "marker": {
          "color": "rgb(31, 119, 180)"
         },
         "mode": "lines",
         "name": "weight",
         "showlegend": false,
         "type": "scatter",
         "x": [
          2,
          2.012,
          2.024,
          2.036,
          2.048,
          2.06,
          2.072,
          2.084,
          2.096,
          2.108,
          2.12,
          2.132,
          2.144,
          2.156,
          2.168,
          2.18,
          2.192,
          2.204,
          2.216,
          2.228,
          2.24,
          2.252,
          2.2640000000000002,
          2.276,
          2.288,
          2.3,
          2.312,
          2.324,
          2.336,
          2.348,
          2.36,
          2.372,
          2.384,
          2.396,
          2.408,
          2.42,
          2.432,
          2.444,
          2.456,
          2.468,
          2.48,
          2.492,
          2.504,
          2.516,
          2.528,
          2.54,
          2.552,
          2.564,
          2.576,
          2.588,
          2.6,
          2.612,
          2.624,
          2.636,
          2.648,
          2.66,
          2.672,
          2.684,
          2.6959999999999997,
          2.708,
          2.7199999999999998,
          2.732,
          2.7439999999999998,
          2.7560000000000002,
          2.768,
          2.7800000000000002,
          2.792,
          2.8040000000000003,
          2.816,
          2.828,
          2.84,
          2.852,
          2.864,
          2.876,
          2.888,
          2.9,
          2.912,
          2.924,
          2.936,
          2.948,
          2.96,
          2.972,
          2.984,
          2.996,
          3.008,
          3.02,
          3.032,
          3.044,
          3.056,
          3.068,
          3.08,
          3.092,
          3.104,
          3.116,
          3.128,
          3.1399999999999997,
          3.152,
          3.1639999999999997,
          3.176,
          3.1879999999999997,
          3.2,
          3.2119999999999997,
          3.224,
          3.2359999999999998,
          3.248,
          3.26,
          3.2720000000000002,
          3.284,
          3.2960000000000003,
          3.308,
          3.3200000000000003,
          3.332,
          3.3440000000000003,
          3.356,
          3.3680000000000003,
          3.38,
          3.392,
          3.404,
          3.416,
          3.428,
          3.44,
          3.452,
          3.464,
          3.476,
          3.488,
          3.5,
          3.512,
          3.524,
          3.536,
          3.548,
          3.56,
          3.572,
          3.584,
          3.596,
          3.608,
          3.62,
          3.6319999999999997,
          3.644,
          3.6559999999999997,
          3.668,
          3.6799999999999997,
          3.692,
          3.7039999999999997,
          3.716,
          3.7279999999999998,
          3.74,
          3.752,
          3.7640000000000002,
          3.776,
          3.7880000000000003,
          3.8,
          3.8120000000000003,
          3.824,
          3.8360000000000003,
          3.848,
          3.8600000000000003,
          3.872,
          3.884,
          3.896,
          3.908,
          3.92,
          3.932,
          3.944,
          3.956,
          3.968,
          3.98,
          3.992,
          4.004,
          4.016,
          4.0280000000000005,
          4.04,
          4.052,
          4.064,
          4.0760000000000005,
          4.088,
          4.1,
          4.112,
          4.1240000000000006,
          4.136,
          4.148,
          4.16,
          4.172000000000001,
          4.184,
          4.196,
          4.208,
          4.220000000000001,
          4.232,
          4.244,
          4.256,
          4.268,
          4.279999999999999,
          4.292,
          4.304,
          4.316,
          4.327999999999999,
          4.34,
          4.352,
          4.364,
          4.3759999999999994,
          4.388,
          4.4,
          4.412,
          4.4239999999999995,
          4.436,
          4.448,
          4.46,
          4.4719999999999995,
          4.484,
          4.496,
          4.508,
          4.52,
          4.532,
          4.5440000000000005,
          4.556,
          4.568,
          4.58,
          4.5920000000000005,
          4.604,
          4.616,
          4.628,
          4.640000000000001,
          4.652,
          4.664,
          4.676,
          4.688000000000001,
          4.7,
          4.712,
          4.724,
          4.736000000000001,
          4.748,
          4.76,
          4.772,
          4.784,
          4.795999999999999,
          4.808,
          4.82,
          4.832,
          4.843999999999999,
          4.856,
          4.868,
          4.88,
          4.8919999999999995,
          4.904,
          4.916,
          4.928,
          4.9399999999999995,
          4.952,
          4.964,
          4.976,
          4.9879999999999995,
          5,
          5.0120000000000005,
          5.024,
          5.036,
          5.048,
          5.0600000000000005,
          5.072,
          5.084,
          5.096,
          5.1080000000000005,
          5.12,
          5.132,
          5.144,
          5.156000000000001,
          5.168,
          5.18,
          5.192,
          5.204000000000001,
          5.216,
          5.228,
          5.24,
          5.252,
          5.263999999999999,
          5.276,
          5.288,
          5.3,
          5.311999999999999,
          5.324,
          5.336,
          5.348,
          5.359999999999999,
          5.372,
          5.384,
          5.396,
          5.4079999999999995,
          5.42,
          5.432,
          5.444,
          5.4559999999999995,
          5.468,
          5.48,
          5.492,
          5.504,
          5.516,
          5.5280000000000005,
          5.54,
          5.552,
          5.564,
          5.5760000000000005,
          5.588,
          5.6,
          5.612,
          5.6240000000000006,
          5.636,
          5.648,
          5.66,
          5.672000000000001,
          5.684,
          5.696,
          5.708,
          5.720000000000001,
          5.732,
          5.744,
          5.756,
          5.768,
          5.779999999999999,
          5.792,
          5.804,
          5.816,
          5.827999999999999,
          5.84,
          5.852,
          5.864,
          5.8759999999999994,
          5.888,
          5.9,
          5.912,
          5.9239999999999995,
          5.936,
          5.948,
          5.96,
          5.9719999999999995,
          5.984,
          5.996,
          6.008,
          6.02,
          6.032,
          6.044,
          6.056,
          6.068,
          6.08,
          6.092,
          6.104,
          6.116,
          6.128,
          6.14,
          6.152,
          6.164,
          6.176,
          6.188,
          6.2,
          6.212,
          6.224,
          6.236,
          6.248,
          6.26,
          6.272,
          6.284,
          6.296,
          6.308,
          6.32,
          6.332,
          6.344,
          6.356,
          6.368,
          6.38,
          6.392,
          6.404,
          6.416,
          6.428,
          6.44,
          6.452,
          6.464,
          6.476,
          6.488,
          6.5,
          6.512,
          6.524,
          6.536,
          6.548,
          6.56,
          6.572,
          6.584,
          6.596,
          6.608,
          6.62,
          6.632,
          6.644,
          6.656,
          6.668,
          6.68,
          6.692,
          6.704,
          6.716,
          6.728,
          6.74,
          6.752,
          6.764,
          6.776,
          6.788,
          6.8,
          6.812,
          6.824,
          6.836,
          6.848,
          6.86,
          6.872,
          6.884,
          6.896,
          6.908,
          6.92,
          6.932,
          6.944,
          6.956,
          6.968,
          6.98,
          6.992,
          7.004,
          7.016,
          7.028,
          7.04,
          7.052,
          7.064,
          7.076,
          7.088,
          7.1,
          7.112,
          7.124,
          7.136,
          7.148,
          7.16,
          7.172,
          7.184,
          7.196,
          7.208,
          7.22,
          7.232,
          7.244,
          7.256,
          7.268,
          7.28,
          7.292,
          7.304,
          7.316,
          7.328,
          7.34,
          7.352,
          7.364,
          7.376,
          7.388,
          7.4,
          7.412,
          7.424,
          7.436,
          7.448,
          7.46,
          7.472,
          7.484,
          7.496,
          7.508,
          7.52,
          7.532,
          7.544,
          7.556,
          7.568,
          7.58,
          7.592,
          7.604,
          7.616,
          7.628,
          7.64,
          7.652,
          7.664,
          7.676,
          7.688,
          7.7,
          7.712,
          7.724,
          7.736,
          7.748,
          7.76,
          7.772,
          7.784,
          7.796,
          7.808,
          7.82,
          7.832,
          7.844,
          7.856,
          7.868,
          7.88,
          7.892,
          7.904,
          7.916,
          7.928,
          7.94,
          7.952,
          7.964,
          7.976,
          7.988
         ],
         "xaxis": "x",
         "y": [
          0.08098888098488105,
          0.08220538848696704,
          0.08343240211290696,
          0.08467006388261682,
          0.0859185142232335,
          0.08717789127439284,
          0.08844833019139085,
          0.08972996244946034,
          0.09102291515240786,
          0.09232731034894626,
          0.09364326436002732,
          0.09497088712052401,
          0.09631028153858703,
          0.09766154287595645,
          0.09902475815250189,
          0.10040000557815103,
          0.10178735401533652,
          0.10318686247494187,
          0.10459857964865855,
          0.10602254348049024,
          0.10745878078001796,
          0.10890730687985274,
          0.11036812533952937,
          0.11184122769788937,
          0.11332659327578466,
          0.11482418903069667,
          0.11633396946465142,
          0.11785587658650457,
          0.11938983992944989,
          0.12093577662430698,
          0.12249359152884763,
          0.1240631774131415,
          0.12564441520060016,
          0.12723717426406866,
          0.12884131277604285,
          0.13045667811173584,
          0.13208310730344125,
          0.13372042754430183,
          0.13536845673930364,
          0.13702700410099966,
          0.13869587078716986,
          0.14037485057734628,
          0.14206373058483743,
          0.1437622920006238,
          0.1454703108652433,
          0.14718755886453994,
          0.14891380414492378,
          0.15064881214358947,
          0.15239234642894384,
          0.15414416954633806,
          0.15590404386402765,
          0.15767173241421836,
          0.15944699972387114,
          0.16122961262996915,
          0.1630193410738101,
          0.16481595886894193,
          0.1666192444373172,
          0.16842898150831748,
          0.17024495977533702,
          0.17206697550472838,
          0.1738948320920411,
          0.1757283405606163,
          0.17756731999781525,
          0.17941159792434092,
          0.18126101059238495,
          0.18311540320857314,
          0.18497463007799606,
          0.18683855466592528,
          0.18870704957415965,
          0.19057999642934195,
          0.1924572856809259,
          0.1943388163069476,
          0.1962244954261452,
          0.19811423781544302,
          0.20000796533225554,
          0.20190560624159515,
          0.20380709444837952,
          0.20571236863592965,
          0.20762137131204383,
          0.20953404776465678,
          0.2114503449295064,
          0.2133702101727917,
          0.2152935899923178,
          0.21722042864107943,
          0.21915066667777786,
          0.22108423944920755,
          0.22302107550994021,
          0.22496109498517006,
          0.22690420788301532,
          0.22885031236300507,
          0.23079929296781537,
          0.23275101882574334,
          0.2347053418316895,
          0.2366620948147341,
          0.2386210897006742,
          0.2405821156781124,
          0.24254493737687577,
          0.24450929306773567,
          0.24647489289247715,
          0.24844141713348275,
          0.2504085145320296,
          0.2523758006644788,
          0.2543428563854965,
          0.25630922634738473,
          0.2582744176044172,
          0.2602378983109585,
          0.2621990965218589,
          0.26415739910342295,
          0.26611215076288863,
          0.26806265320404427,
          0.2700081644161975,
          0.27194789810331615,
          0.273881023259639,
          0.27580666389764213,
          0.2777238989336056,
          0.27963176223555963,
          0.2815292428377111,
          0.28341528532488064,
          0.2852887903898056,
          0.28714861556548643,
          0.2889935761340973,
          0.29082244621322373,
          0.2926339600195115,
          0.2944268133090531,
          0.2961996649931243,
          0.297951138927105,
          0.29967982586971836,
          0.30138428560895364,
          0.30306304925031385,
          0.3047146216623223,
          0.3063374840734877,
          0.30793009681424965,
          0.3094909021967733,
          0.3110183275247734,
          0.3125107882249599,
          0.31396669109110037,
          0.315384437631119,
          0.3167624275071545,
          0.3180990620579888,
          0.3193927478928234,
          0.3206419005449994,
          0.32184494817385,
          0.3230003353026195,
          0.32410652658008415,
          0.3251620105533159,
          0.32616530343885175,
          0.32711495287945097,
          0.3280095416735443,
          0.32884769146448234,
          0.3296280663767396,
          0.3303493765863569,
          0.3310103818130252,
          0.3316098947214659,
          0.33214678421999666,
          0.3326199786445072,
          0.33302846881641796,
          0.3333713109636218,
          0.33364762949386745,
          0.3338566196105246,
          0.33399754976127005,
          0.3340697639107565,
          0.3340726836290092,
          0.33400580998790963,
          0.3338687252588662,
          0.3336610944054314,
          0.33338266636543645,
          0.33303327511793496,
          0.332612840531069,
          0.33212136898773575,
          0.3315589537868152,
          0.33092577531845435,
          0.33022210101281557,
          0.32944828506248386,
          0.32860476791955096,
          0.3276920755692515,
          0.3267108185827892,
          0.32566169095284614,
          0.3245454687159919,
          0.32336300836701615,
          0.32211524507092376,
          0.3208031906790501,
          0.31942793155643234,
          0.31799062622822255,
          0.3164925028535554,
          0.3149348565358382,
          0.31331904647898573,
          0.3116464929996087,
          0.3099186744056293,
          0.30813712375217306,
          0.3063034254859801,
          0.3044192119898802,
          0.30248616003910117,
          0.300505987181461,
          0.29848044805358087,
          0.29641133064541964,
          0.2943004525254678,
          0.2921496570389433,
          0.2899608094913059,
          0.28773579332929833,
          0.28547650633160276,
          0.2831848568209873,
          0.28086275990962,
          0.2785121337889103,
          0.27613489607495145,
          0.27373296022026083,
          0.27130823200210546,
          0.2688626060972895,
          0.2663979627527827,
          0.2639161645610877,
          0.2614190533486937,
          0.2589084471854225,
          0.2563861375218811,
          0.2538538864616436,
          0.2513134241741479,
          0.24876644645368265,
          0.24621461242917853,
          0.24365954242886498,
          0.24110281600320482,
          0.23854597010884726,
          0.23599049745568748,
          0.23343784501845347,
          0.23088941271360527,
          0.22834655224167835,
          0.2258105660945736,
          0.22328270672670184,
          0.22076417588825598,
          0.21825612411834897,
          0.21575965039516878,
          0.21327580193978352,
          0.2108055741697226,
          0.20834991079797494,
          0.20590970407261283,
          0.2034857951518053,
          0.20107897460862706,
          0.19868998305969807,
          0.1963195119113736,
          0.1939682042169252,
          0.19163665563789997,
          0.18932541550263465,
          0.18703498795472306,
          0.18476583318409476,
          0.18251836873325636,
          0.1802929708711838,
          0.17808997602730645,
          0.17590968227803688,
          0.1737523508783183,
          0.1716182078307495,
          0.1695074454849141,
          0.1674202241596924,
          0.16535667378147895,
          0.16331689553141002,
          0.16130096349492284,
          0.15930892630718532,
          0.15734080878821036,
          0.15539661356171983,
          0.15347632265214475,
          0.1515798990544277,
          0.14970728827164265,
          0.1478584198157769,
          0.14603320866735992,
          0.1442315566899945,
          0.14245335399619516,
          0.14069848026131826,
          0.13896680598272923,
          0.13725819368172765,
          0.13557249904612106,
          0.13390957201170345,
          0.13226925778125484,
          0.13065139778003904,
          0.1290558305471147,
          0.127482392562124,
          0.12593091900753733,
          0.12440124446665662,
          0.12289320355797337,
          0.1214066315067672,
          0.11994136465509561,
          0.11849724091158607,
          0.11707410014266716,
          0.11567178450710272,
          0.11429013873588302,
          0.11292901035971205,
          0.11158824988648747,
          0.1102677109313106,
          0.1089672503016814,
          0.10768672804064176,
          0.10642600743070071,
          0.10518495496144785,
          0.10396344026379388,
          0.10276133601381032,
          0.10157851780914047,
          0.10041486402094513,
          0.09927025562431788,
          0.0981445760100606,
          0.09703771078065347,
          0.09594954753317486,
          0.09487997563184782,
          0.09382888597278338,
          0.09279617074338956,
          0.09178172317878724,
          0.09078543731745074,
          0.08980720775815186,
          0.0888469294201468,
          0.08790449730838952,
          0.08697980628541054,
          0.08607275085133644,
          0.08518322493337423,
          0.0843111216859188,
          0.08345633330228569,
          0.08261875083891473,
          0.08179826405272968,
          0.08099476125219118,
          0.0802081291624273,
          0.0794382528046832,
          0.07868501539019475,
          0.07794829822845666,
          0.07722798064973034,
          0.07652393994152228,
          0.07583605129865138,
          0.07516418778642575,
          0.07450822031635587,
          0.0738680176337509,
          0.07324344631647287,
          0.0726343707840578,
          0.07204065331636537,
          0.07146215408087184,
          0.07089873116769113,
          0.07035024063138427,
          0.06981653653860719,
          0.06929747102064045,
          0.06879289432985192,
          0.06830265489915781,
          0.06782659940356973,
          0.06736457282294765,
          0.0669164185051155,
          0.06648197822854356,
          0.06606109226385164,
          0.06565359943344629,
          0.06525933716866696,
          0.06487814156388465,
          0.06450984742706457,
          0.064154288326384,
          0.06381129663256693,
          0.06348070355667879,
          0.06316233918320528,
          0.06285603249831528,
          0.06256161141328821,
          0.06227890278316739,
          0.06200773242077305,
          0.061747925106285136,
          0.06149930459267809,
          0.0612616936073538,
          0.06103491385038762,
          0.060818785989855614,
          0.06061312965477125,
          0.060417763426202614,
          0.06023250482718617,
          0.06005717031209193,
          0.059891575256121,
          0.05973553394564001,
          0.059588859570076966,
          0.059451364216110136,
          0.05932285886488178,
          0.059203153392967854,
          0.05909205657782113,
          0.05898937610838478,
          0.05889491860155133,
          0.058808489625106694,
          0.05872989372776165,
          0.05865893447682599,
          0.05859541450403421,
          0.05853913555997193,
          0.05848989857748802,
          0.05844750374442086,
          0.05841175058588712,
          0.05838243805631094,
          0.058359364641298664,
          0.05834232846937675,
          0.05833112743353543,
          0.05832555932243383,
          0.058325421961041665,
          0.058330513360401265,
          0.05834063187612144,
          0.0583555763751191,
          0.058375146410054396,
          0.058399142400814216,
          0.05842736582233512,
          0.05845961939797598,
          0.05849570729757935,
          0.058535435339303755,
          0.05857861119423978,
          0.0586250445927799,
          0.058674547531648504,
          0.05872693448046832,
          0.058782022586700455,
          0.05883963187775716,
          0.05889958545908424,
          0.05896170970696939,
          0.05902583445485169,
          0.05909179317189115,
          0.05915942313257102,
          0.05922856557612701,
          0.059299065854615966,
          0.05937077356847,
          0.05944354268843011,
          0.059517231662788446,
          0.059591703508938394,
          0.059666825888281115,
          0.05974247116361973,
          0.05981851643823585,
          0.05989484357594011,
          0.059971339201462734,
          0.06004789468065624,
          0.06012440608007244,
          0.06020077410558626,
          0.06027690401984033,
          0.060352705538401386,
          0.060428092704622016,
          0.06050298374333228,
          0.06057730089358697,
          0.06065097022082401,
          0.060723921408895466,
          0.0607960875325653,
          0.06086740481116801,
          0.060937812344246944,
          0.061007251830099946,
          0.061075667268267464,
          0.06114300464710569,
          0.06120921161768515,
          0.06127423715535233,
          0.061338031210380305,
          0.06140054434922347,
          0.06146172738795834,
          0.06152153101957525,
          0.06157990543683772,
          0.06163679995248916,
          0.06169216261862448,
          0.061745939847092285,
          0.06179807603281277,
          0.06184851318192206,
          0.06189719054665951,
          0.0619440442689229,
          0.06198900703439717,
          0.06203200773915346,
          0.06207297117058358,
          0.062111817704496045,
          0.062148463020156856,
          0.062182817834997094,
          0.062214787660654296,
          0.062244272581924845,
          0.06227116706013835,
          0.062295359762367546,
          0.06231673341778392,
          0.062335164702379056,
          0.06235052415313888,
          0.06236267611266207,
          0.06237147870507131,
          0.06237678384394603,
          0.06237843727287159,
          0.062376278639058334,
          0.06237014160034424,
          0.0623598539657552,
          0.062345237869644306,
          0.062326109979290514,
          0.06230228173568898,
          0.06227355962711535,
          0.06223974549490263,
          0.062200636870723865,
          0.06215602734453323,
          0.062105706962173254,
          0.062049462651528345,
          0.06198707867596558,
          0.061918337113680784,
          0.06184301836144853,
          0.06176090166115327,
          0.06167176564737802,
          0.061575388914219056,
          0.06147155059940581,
          0.06136003098371651,
          0.06124061210360458,
          0.061113078374880496,
          0.06097721722523701,
          0.060832819733351425,
          0.06067968127226244,
          0.06051760215468496,
          0.06034638827790859,
          0.060165851765908905,
          0.05997581160630738,
          0.05977609427981993,
          0.05956653437985139,
          0.059346975219928086,
          0.0591172694266937,
          0.058877279516243254,
          0.05862687845162834,
          0.05836595017942954,
          0.05809439014337169,
          0.057812105773033674,
          0.057519016945801416,
          0.057215056420306575,
          0.05690017023970067,
          0.05657431810322213
         ],
         "yaxis": "y"
        },
        {
         "legendgroup": "weight",
         "marker": {
          "color": "rgb(31, 119, 180)",
          "symbol": "line-ns-open"
         },
         "mode": "markers",
         "name": "weight",
         "showlegend": false,
         "type": "scatter",
         "x": [
          2,
          2,
          2,
          2,
          2,
          2,
          2,
          2,
          3,
          3,
          3,
          3,
          3,
          3,
          3,
          3,
          3,
          3,
          3,
          3,
          3,
          3,
          3,
          3,
          3,
          3,
          3,
          3,
          3,
          7,
          7,
          7,
          7,
          7,
          7,
          7,
          4,
          4,
          4,
          4,
          4,
          4,
          4,
          4,
          4,
          4,
          4,
          4,
          4,
          4,
          4,
          4,
          4,
          4,
          4,
          4,
          8,
          8,
          8,
          8,
          8,
          8,
          8,
          8,
          4,
          4,
          4,
          4,
          4,
          4,
          4,
          4,
          4,
          4,
          4,
          4,
          4,
          4,
          4,
          4,
          4,
          4,
          4,
          4,
          4,
          4,
          4,
          4,
          5,
          5,
          5,
          5,
          5,
          5,
          5,
          5,
          5,
          5,
          5,
          5,
          5,
          5,
          5,
          6,
          6,
          6,
          6,
          6,
          6,
          4,
          4,
          4,
          4,
          3,
          3,
          3
         ],
         "xaxis": "x",
         "y": [
          "weight",
          "weight",
          "weight",
          "weight",
          "weight",
          "weight",
          "weight",
          "weight",
          "weight",
          "weight",
          "weight",
          "weight",
          "weight",
          "weight",
          "weight",
          "weight",
          "weight",
          "weight",
          "weight",
          "weight",
          "weight",
          "weight",
          "weight",
          "weight",
          "weight",
          "weight",
          "weight",
          "weight",
          "weight",
          "weight",
          "weight",
          "weight",
          "weight",
          "weight",
          "weight",
          "weight",
          "weight",
          "weight",
          "weight",
          "weight",
          "weight",
          "weight",
          "weight",
          "weight",
          "weight",
          "weight",
          "weight",
          "weight",
          "weight",
          "weight",
          "weight",
          "weight",
          "weight",
          "weight",
          "weight",
          "weight",
          "weight",
          "weight",
          "weight",
          "weight",
          "weight",
          "weight",
          "weight",
          "weight",
          "weight",
          "weight",
          "weight",
          "weight",
          "weight",
          "weight",
          "weight",
          "weight",
          "weight",
          "weight",
          "weight",
          "weight",
          "weight",
          "weight",
          "weight",
          "weight",
          "weight",
          "weight",
          "weight",
          "weight",
          "weight",
          "weight",
          "weight",
          "weight",
          "weight",
          "weight",
          "weight",
          "weight",
          "weight",
          "weight",
          "weight",
          "weight",
          "weight",
          "weight",
          "weight",
          "weight",
          "weight",
          "weight",
          "weight",
          "weight",
          "weight",
          "weight",
          "weight",
          "weight",
          "weight",
          "weight",
          "weight",
          "weight",
          "weight",
          "weight",
          "weight",
          "weight"
         ],
         "yaxis": "y2"
        }
       ],
       "layout": {
        "barmode": "overlay",
        "hovermode": "closest",
        "legend": {
         "traceorder": "reversed"
        },
        "template": {
         "data": {
          "bar": [
           {
            "error_x": {
             "color": "#2a3f5f"
            },
            "error_y": {
             "color": "#2a3f5f"
            },
            "marker": {
             "line": {
              "color": "white",
              "width": 0.5
             },
             "pattern": {
              "fillmode": "overlay",
              "size": 10,
              "solidity": 0.2
             }
            },
            "type": "bar"
           }
          ],
          "barpolar": [
           {
            "marker": {
             "line": {
              "color": "white",
              "width": 0.5
             },
             "pattern": {
              "fillmode": "overlay",
              "size": 10,
              "solidity": 0.2
             }
            },
            "type": "barpolar"
           }
          ],
          "carpet": [
           {
            "aaxis": {
             "endlinecolor": "#2a3f5f",
             "gridcolor": "#C8D4E3",
             "linecolor": "#C8D4E3",
             "minorgridcolor": "#C8D4E3",
             "startlinecolor": "#2a3f5f"
            },
            "baxis": {
             "endlinecolor": "#2a3f5f",
             "gridcolor": "#C8D4E3",
             "linecolor": "#C8D4E3",
             "minorgridcolor": "#C8D4E3",
             "startlinecolor": "#2a3f5f"
            },
            "type": "carpet"
           }
          ],
          "choropleth": [
           {
            "colorbar": {
             "outlinewidth": 0,
             "ticks": ""
            },
            "type": "choropleth"
           }
          ],
          "contour": [
           {
            "colorbar": {
             "outlinewidth": 0,
             "ticks": ""
            },
            "colorscale": [
             [
              0,
              "#0d0887"
             ],
             [
              0.1111111111111111,
              "#46039f"
             ],
             [
              0.2222222222222222,
              "#7201a8"
             ],
             [
              0.3333333333333333,
              "#9c179e"
             ],
             [
              0.4444444444444444,
              "#bd3786"
             ],
             [
              0.5555555555555556,
              "#d8576b"
             ],
             [
              0.6666666666666666,
              "#ed7953"
             ],
             [
              0.7777777777777778,
              "#fb9f3a"
             ],
             [
              0.8888888888888888,
              "#fdca26"
             ],
             [
              1,
              "#f0f921"
             ]
            ],
            "type": "contour"
           }
          ],
          "contourcarpet": [
           {
            "colorbar": {
             "outlinewidth": 0,
             "ticks": ""
            },
            "type": "contourcarpet"
           }
          ],
          "heatmap": [
           {
            "colorbar": {
             "outlinewidth": 0,
             "ticks": ""
            },
            "colorscale": [
             [
              0,
              "#0d0887"
             ],
             [
              0.1111111111111111,
              "#46039f"
             ],
             [
              0.2222222222222222,
              "#7201a8"
             ],
             [
              0.3333333333333333,
              "#9c179e"
             ],
             [
              0.4444444444444444,
              "#bd3786"
             ],
             [
              0.5555555555555556,
              "#d8576b"
             ],
             [
              0.6666666666666666,
              "#ed7953"
             ],
             [
              0.7777777777777778,
              "#fb9f3a"
             ],
             [
              0.8888888888888888,
              "#fdca26"
             ],
             [
              1,
              "#f0f921"
             ]
            ],
            "type": "heatmap"
           }
          ],
          "heatmapgl": [
           {
            "colorbar": {
             "outlinewidth": 0,
             "ticks": ""
            },
            "colorscale": [
             [
              0,
              "#0d0887"
             ],
             [
              0.1111111111111111,
              "#46039f"
             ],
             [
              0.2222222222222222,
              "#7201a8"
             ],
             [
              0.3333333333333333,
              "#9c179e"
             ],
             [
              0.4444444444444444,
              "#bd3786"
             ],
             [
              0.5555555555555556,
              "#d8576b"
             ],
             [
              0.6666666666666666,
              "#ed7953"
             ],
             [
              0.7777777777777778,
              "#fb9f3a"
             ],
             [
              0.8888888888888888,
              "#fdca26"
             ],
             [
              1,
              "#f0f921"
             ]
            ],
            "type": "heatmapgl"
           }
          ],
          "histogram": [
           {
            "marker": {
             "pattern": {
              "fillmode": "overlay",
              "size": 10,
              "solidity": 0.2
             }
            },
            "type": "histogram"
           }
          ],
          "histogram2d": [
           {
            "colorbar": {
             "outlinewidth": 0,
             "ticks": ""
            },
            "colorscale": [
             [
              0,
              "#0d0887"
             ],
             [
              0.1111111111111111,
              "#46039f"
             ],
             [
              0.2222222222222222,
              "#7201a8"
             ],
             [
              0.3333333333333333,
              "#9c179e"
             ],
             [
              0.4444444444444444,
              "#bd3786"
             ],
             [
              0.5555555555555556,
              "#d8576b"
             ],
             [
              0.6666666666666666,
              "#ed7953"
             ],
             [
              0.7777777777777778,
              "#fb9f3a"
             ],
             [
              0.8888888888888888,
              "#fdca26"
             ],
             [
              1,
              "#f0f921"
             ]
            ],
            "type": "histogram2d"
           }
          ],
          "histogram2dcontour": [
           {
            "colorbar": {
             "outlinewidth": 0,
             "ticks": ""
            },
            "colorscale": [
             [
              0,
              "#0d0887"
             ],
             [
              0.1111111111111111,
              "#46039f"
             ],
             [
              0.2222222222222222,
              "#7201a8"
             ],
             [
              0.3333333333333333,
              "#9c179e"
             ],
             [
              0.4444444444444444,
              "#bd3786"
             ],
             [
              0.5555555555555556,
              "#d8576b"
             ],
             [
              0.6666666666666666,
              "#ed7953"
             ],
             [
              0.7777777777777778,
              "#fb9f3a"
             ],
             [
              0.8888888888888888,
              "#fdca26"
             ],
             [
              1,
              "#f0f921"
             ]
            ],
            "type": "histogram2dcontour"
           }
          ],
          "mesh3d": [
           {
            "colorbar": {
             "outlinewidth": 0,
             "ticks": ""
            },
            "type": "mesh3d"
           }
          ],
          "parcoords": [
           {
            "line": {
             "colorbar": {
              "outlinewidth": 0,
              "ticks": ""
             }
            },
            "type": "parcoords"
           }
          ],
          "pie": [
           {
            "automargin": true,
            "type": "pie"
           }
          ],
          "scatter": [
           {
            "fillpattern": {
             "fillmode": "overlay",
             "size": 10,
             "solidity": 0.2
            },
            "type": "scatter"
           }
          ],
          "scatter3d": [
           {
            "line": {
             "colorbar": {
              "outlinewidth": 0,
              "ticks": ""
             }
            },
            "marker": {
             "colorbar": {
              "outlinewidth": 0,
              "ticks": ""
             }
            },
            "type": "scatter3d"
           }
          ],
          "scattercarpet": [
           {
            "marker": {
             "colorbar": {
              "outlinewidth": 0,
              "ticks": ""
             }
            },
            "type": "scattercarpet"
           }
          ],
          "scattergeo": [
           {
            "marker": {
             "colorbar": {
              "outlinewidth": 0,
              "ticks": ""
             }
            },
            "type": "scattergeo"
           }
          ],
          "scattergl": [
           {
            "marker": {
             "colorbar": {
              "outlinewidth": 0,
              "ticks": ""
             }
            },
            "type": "scattergl"
           }
          ],
          "scattermapbox": [
           {
            "marker": {
             "colorbar": {
              "outlinewidth": 0,
              "ticks": ""
             }
            },
            "type": "scattermapbox"
           }
          ],
          "scatterpolar": [
           {
            "marker": {
             "colorbar": {
              "outlinewidth": 0,
              "ticks": ""
             }
            },
            "type": "scatterpolar"
           }
          ],
          "scatterpolargl": [
           {
            "marker": {
             "colorbar": {
              "outlinewidth": 0,
              "ticks": ""
             }
            },
            "type": "scatterpolargl"
           }
          ],
          "scatterternary": [
           {
            "marker": {
             "colorbar": {
              "outlinewidth": 0,
              "ticks": ""
             }
            },
            "type": "scatterternary"
           }
          ],
          "surface": [
           {
            "colorbar": {
             "outlinewidth": 0,
             "ticks": ""
            },
            "colorscale": [
             [
              0,
              "#0d0887"
             ],
             [
              0.1111111111111111,
              "#46039f"
             ],
             [
              0.2222222222222222,
              "#7201a8"
             ],
             [
              0.3333333333333333,
              "#9c179e"
             ],
             [
              0.4444444444444444,
              "#bd3786"
             ],
             [
              0.5555555555555556,
              "#d8576b"
             ],
             [
              0.6666666666666666,
              "#ed7953"
             ],
             [
              0.7777777777777778,
              "#fb9f3a"
             ],
             [
              0.8888888888888888,
              "#fdca26"
             ],
             [
              1,
              "#f0f921"
             ]
            ],
            "type": "surface"
           }
          ],
          "table": [
           {
            "cells": {
             "fill": {
              "color": "#EBF0F8"
             },
             "line": {
              "color": "white"
             }
            },
            "header": {
             "fill": {
              "color": "#C8D4E3"
             },
             "line": {
              "color": "white"
             }
            },
            "type": "table"
           }
          ]
         },
         "layout": {
          "annotationdefaults": {
           "arrowcolor": "#2a3f5f",
           "arrowhead": 0,
           "arrowwidth": 1
          },
          "autotypenumbers": "strict",
          "coloraxis": {
           "colorbar": {
            "outlinewidth": 0,
            "ticks": ""
           }
          },
          "colorscale": {
           "diverging": [
            [
             0,
             "#8e0152"
            ],
            [
             0.1,
             "#c51b7d"
            ],
            [
             0.2,
             "#de77ae"
            ],
            [
             0.3,
             "#f1b6da"
            ],
            [
             0.4,
             "#fde0ef"
            ],
            [
             0.5,
             "#f7f7f7"
            ],
            [
             0.6,
             "#e6f5d0"
            ],
            [
             0.7,
             "#b8e186"
            ],
            [
             0.8,
             "#7fbc41"
            ],
            [
             0.9,
             "#4d9221"
            ],
            [
             1,
             "#276419"
            ]
           ],
           "sequential": [
            [
             0,
             "#0d0887"
            ],
            [
             0.1111111111111111,
             "#46039f"
            ],
            [
             0.2222222222222222,
             "#7201a8"
            ],
            [
             0.3333333333333333,
             "#9c179e"
            ],
            [
             0.4444444444444444,
             "#bd3786"
            ],
            [
             0.5555555555555556,
             "#d8576b"
            ],
            [
             0.6666666666666666,
             "#ed7953"
            ],
            [
             0.7777777777777778,
             "#fb9f3a"
            ],
            [
             0.8888888888888888,
             "#fdca26"
            ],
            [
             1,
             "#f0f921"
            ]
           ],
           "sequentialminus": [
            [
             0,
             "#0d0887"
            ],
            [
             0.1111111111111111,
             "#46039f"
            ],
            [
             0.2222222222222222,
             "#7201a8"
            ],
            [
             0.3333333333333333,
             "#9c179e"
            ],
            [
             0.4444444444444444,
             "#bd3786"
            ],
            [
             0.5555555555555556,
             "#d8576b"
            ],
            [
             0.6666666666666666,
             "#ed7953"
            ],
            [
             0.7777777777777778,
             "#fb9f3a"
            ],
            [
             0.8888888888888888,
             "#fdca26"
            ],
            [
             1,
             "#f0f921"
            ]
           ]
          },
          "colorway": [
           "#636efa",
           "#EF553B",
           "#00cc96",
           "#ab63fa",
           "#FFA15A",
           "#19d3f3",
           "#FF6692",
           "#B6E880",
           "#FF97FF",
           "#FECB52"
          ],
          "font": {
           "color": "#2a3f5f"
          },
          "geo": {
           "bgcolor": "white",
           "lakecolor": "white",
           "landcolor": "white",
           "showlakes": true,
           "showland": true,
           "subunitcolor": "#C8D4E3"
          },
          "hoverlabel": {
           "align": "left"
          },
          "hovermode": "closest",
          "mapbox": {
           "style": "light"
          },
          "paper_bgcolor": "white",
          "plot_bgcolor": "white",
          "polar": {
           "angularaxis": {
            "gridcolor": "#EBF0F8",
            "linecolor": "#EBF0F8",
            "ticks": ""
           },
           "bgcolor": "white",
           "radialaxis": {
            "gridcolor": "#EBF0F8",
            "linecolor": "#EBF0F8",
            "ticks": ""
           }
          },
          "scene": {
           "xaxis": {
            "backgroundcolor": "white",
            "gridcolor": "#DFE8F3",
            "gridwidth": 2,
            "linecolor": "#EBF0F8",
            "showbackground": true,
            "ticks": "",
            "zerolinecolor": "#EBF0F8"
           },
           "yaxis": {
            "backgroundcolor": "white",
            "gridcolor": "#DFE8F3",
            "gridwidth": 2,
            "linecolor": "#EBF0F8",
            "showbackground": true,
            "ticks": "",
            "zerolinecolor": "#EBF0F8"
           },
           "zaxis": {
            "backgroundcolor": "white",
            "gridcolor": "#DFE8F3",
            "gridwidth": 2,
            "linecolor": "#EBF0F8",
            "showbackground": true,
            "ticks": "",
            "zerolinecolor": "#EBF0F8"
           }
          },
          "shapedefaults": {
           "line": {
            "color": "#2a3f5f"
           }
          },
          "ternary": {
           "aaxis": {
            "gridcolor": "#DFE8F3",
            "linecolor": "#A2B1C6",
            "ticks": ""
           },
           "baxis": {
            "gridcolor": "#DFE8F3",
            "linecolor": "#A2B1C6",
            "ticks": ""
           },
           "bgcolor": "white",
           "caxis": {
            "gridcolor": "#DFE8F3",
            "linecolor": "#A2B1C6",
            "ticks": ""
           }
          },
          "title": {
           "x": 0.05
          },
          "xaxis": {
           "automargin": true,
           "gridcolor": "#EBF0F8",
           "linecolor": "#EBF0F8",
           "ticks": "",
           "title": {
            "standoff": 15
           },
           "zerolinecolor": "#EBF0F8",
           "zerolinewidth": 2
          },
          "yaxis": {
           "automargin": true,
           "gridcolor": "#EBF0F8",
           "linecolor": "#EBF0F8",
           "ticks": "",
           "title": {
            "standoff": 15
           },
           "zerolinecolor": "#EBF0F8",
           "zerolinewidth": 2
          }
         }
        },
        "title": {
         "text": "Distribution of the groupsize of foxes"
        },
        "xaxis": {
         "anchor": "y2",
         "domain": [
          0,
          1
         ],
         "zeroline": false
        },
        "yaxis": {
         "anchor": "free",
         "domain": [
          0.35,
          1
         ],
         "position": 0
        },
        "yaxis2": {
         "anchor": "x",
         "domain": [
          0,
          0.25
         ],
         "dtick": 1,
         "showticklabels": false
        }
       }
      }
     },
     "metadata": {},
     "output_type": "display_data"
    }
   ],
   "source": [
    "plot_fox_col_distr(col=\"groupsize\")"
   ]
  },
  {
   "cell_type": "code",
   "execution_count": 141,
   "metadata": {},
   "outputs": [
    {
     "data": {
      "application/vnd.plotly.v1+json": {
       "config": {
        "plotlyServerURL": "https://plot.ly"
       },
       "data": [
        {
         "mode": "markers",
         "type": "scatter",
         "x": [
          5.02,
          2.84,
          5.33,
          6.07,
          5.85,
          3.25,
          4.53,
          4.09,
          6.13,
          5.59,
          5.83,
          3.93,
          4.34,
          6.09,
          6.85,
          6.05,
          3.21,
          3.72,
          3.92,
          5.71,
          5.95,
          4.66,
          6.22,
          6.7,
          6.22,
          1.92,
          4.31,
          3.43,
          5.97,
          5.3,
          3.88,
          3.18,
          2.78,
          2.99,
          3.58,
          6.86,
          4.24,
          3.46,
          4.19,
          2.35,
          4.72,
          4.42,
          4.83,
          6.02,
          5.83,
          5.02,
          5.37,
          2.01,
          4.25,
          4.38,
          4.84,
          3.18,
          4.63,
          3.86,
          4.82,
          6.54,
          3.29,
          3.99,
          3.84,
          3.98,
          4.44,
          4.74,
          3.7,
          4.75,
          5.21,
          5.78,
          4.5,
          3.28,
          3.68,
          3.72,
          4.29,
          3.58,
          3.75,
          2.67,
          5.43,
          6.31,
          5.79,
          4.64,
          5.34,
          7.55,
          4.77,
          3.48,
          4.33,
          5.03,
          4.09,
          4.11,
          5.47,
          6.25,
          4.75,
          5.32,
          5.39,
          3.84,
          3.15,
          5.17,
          4.42,
          4.65,
          3.8,
          3.41,
          4.12,
          3.28,
          3.93,
          2.96,
          2.55,
          5,
          4.36,
          7.1,
          5.84,
          5.68,
          2.32,
          5,
          3.81,
          4.81,
          3.94,
          3.16,
          2.78,
          3.86
         ],
         "xaxis": "x",
         "y": [
          1.09,
          1.09,
          2.05,
          2.05,
          2.12,
          2.12,
          1.29,
          1.29,
          3.78,
          3.78,
          3.78,
          2.24,
          2.24,
          2.24,
          2.75,
          2.75,
          2.75,
          1.88,
          1.88,
          1.88,
          3.77,
          3.77,
          3.77,
          1.73,
          1.73,
          1.73,
          2.21,
          2.21,
          2.21,
          3.84,
          3.84,
          3.84,
          3.84,
          3.84,
          3.84,
          3.84,
          3.02,
          3.02,
          3.02,
          3.02,
          3.43,
          3.43,
          3.43,
          3.43,
          2.65,
          2.65,
          2.65,
          2.65,
          3.54,
          3.54,
          3.54,
          3.54,
          2.45,
          2.45,
          2.45,
          2.45,
          5.07,
          5.07,
          5.07,
          5.07,
          5.07,
          5.07,
          5.07,
          5.07,
          2.59,
          2.59,
          2.59,
          2.59,
          3.13,
          3.13,
          3.13,
          3.13,
          3.56,
          3.56,
          3.56,
          3.56,
          3.35,
          3.35,
          3.35,
          3.35,
          3.16,
          3.16,
          3.16,
          3.16,
          3.04,
          3.04,
          3.04,
          3.04,
          3.66,
          3.66,
          3.66,
          3.66,
          3.66,
          3.92,
          3.92,
          3.92,
          3.92,
          3.92,
          2.89,
          2.89,
          2.89,
          2.89,
          2.89,
          4.54,
          4.54,
          4.54,
          4.54,
          4.54,
          4.54,
          2.75,
          2.75,
          2.75,
          2.75,
          1.91,
          1.91,
          1.91
         ],
         "yaxis": "y"
        },
        {
         "mode": "markers",
         "type": "scatter",
         "x": [
          5.02,
          2.84,
          5.33,
          6.07,
          5.85,
          3.25,
          4.53,
          4.09,
          6.13,
          5.59,
          5.83,
          3.93,
          4.34,
          6.09,
          6.85,
          6.05,
          3.21,
          3.72,
          3.92,
          5.71,
          5.95,
          4.66,
          6.22,
          6.7,
          6.22,
          1.92,
          4.31,
          3.43,
          5.97,
          5.3,
          3.88,
          3.18,
          2.78,
          2.99,
          3.58,
          6.86,
          4.24,
          3.46,
          4.19,
          2.35,
          4.72,
          4.42,
          4.83,
          6.02,
          5.83,
          5.02,
          5.37,
          2.01,
          4.25,
          4.38,
          4.84,
          3.18,
          4.63,
          3.86,
          4.82,
          6.54,
          3.29,
          3.99,
          3.84,
          3.98,
          4.44,
          4.74,
          3.7,
          4.75,
          5.21,
          5.78,
          4.5,
          3.28,
          3.68,
          3.72,
          4.29,
          3.58,
          3.75,
          2.67,
          5.43,
          6.31,
          5.79,
          4.64,
          5.34,
          7.55,
          4.77,
          3.48,
          4.33,
          5.03,
          4.09,
          4.11,
          5.47,
          6.25,
          4.75,
          5.32,
          5.39,
          3.84,
          3.15,
          5.17,
          4.42,
          4.65,
          3.8,
          3.41,
          4.12,
          3.28,
          3.93,
          2.96,
          2.55,
          5,
          4.36,
          7.1,
          5.84,
          5.68,
          2.32,
          5,
          3.81,
          4.81,
          3.94,
          3.16,
          2.78,
          3.86
         ],
         "xaxis": "x2",
         "y": [
          2,
          2,
          2,
          2,
          2,
          2,
          2,
          2,
          3,
          3,
          3,
          3,
          3,
          3,
          3,
          3,
          3,
          3,
          3,
          3,
          3,
          3,
          3,
          3,
          3,
          3,
          3,
          3,
          3,
          7,
          7,
          7,
          7,
          7,
          7,
          7,
          4,
          4,
          4,
          4,
          4,
          4,
          4,
          4,
          4,
          4,
          4,
          4,
          4,
          4,
          4,
          4,
          4,
          4,
          4,
          4,
          8,
          8,
          8,
          8,
          8,
          8,
          8,
          8,
          4,
          4,
          4,
          4,
          4,
          4,
          4,
          4,
          4,
          4,
          4,
          4,
          4,
          4,
          4,
          4,
          4,
          4,
          4,
          4,
          4,
          4,
          4,
          4,
          5,
          5,
          5,
          5,
          5,
          5,
          5,
          5,
          5,
          5,
          5,
          5,
          5,
          5,
          5,
          6,
          6,
          6,
          6,
          6,
          6,
          4,
          4,
          4,
          4,
          3,
          3,
          3
         ],
         "yaxis": "y2"
        }
       ],
       "layout": {
        "annotations": [
         {
          "font": {
           "size": 16
          },
          "showarrow": false,
          "text": "area vs weight",
          "x": 0.5,
          "xanchor": "center",
          "xref": "paper",
          "y": 1,
          "yanchor": "bottom",
          "yref": "paper"
         },
         {
          "font": {
           "size": 16
          },
          "showarrow": false,
          "text": "groupsize vs weight",
          "x": 0.5,
          "xanchor": "center",
          "xref": "paper",
          "y": 0.375,
          "yanchor": "bottom",
          "yref": "paper"
         }
        ],
        "showlegend": false,
        "template": {
         "data": {
          "bar": [
           {
            "error_x": {
             "color": "#2a3f5f"
            },
            "error_y": {
             "color": "#2a3f5f"
            },
            "marker": {
             "line": {
              "color": "white",
              "width": 0.5
             },
             "pattern": {
              "fillmode": "overlay",
              "size": 10,
              "solidity": 0.2
             }
            },
            "type": "bar"
           }
          ],
          "barpolar": [
           {
            "marker": {
             "line": {
              "color": "white",
              "width": 0.5
             },
             "pattern": {
              "fillmode": "overlay",
              "size": 10,
              "solidity": 0.2
             }
            },
            "type": "barpolar"
           }
          ],
          "carpet": [
           {
            "aaxis": {
             "endlinecolor": "#2a3f5f",
             "gridcolor": "#C8D4E3",
             "linecolor": "#C8D4E3",
             "minorgridcolor": "#C8D4E3",
             "startlinecolor": "#2a3f5f"
            },
            "baxis": {
             "endlinecolor": "#2a3f5f",
             "gridcolor": "#C8D4E3",
             "linecolor": "#C8D4E3",
             "minorgridcolor": "#C8D4E3",
             "startlinecolor": "#2a3f5f"
            },
            "type": "carpet"
           }
          ],
          "choropleth": [
           {
            "colorbar": {
             "outlinewidth": 0,
             "ticks": ""
            },
            "type": "choropleth"
           }
          ],
          "contour": [
           {
            "colorbar": {
             "outlinewidth": 0,
             "ticks": ""
            },
            "colorscale": [
             [
              0,
              "#0d0887"
             ],
             [
              0.1111111111111111,
              "#46039f"
             ],
             [
              0.2222222222222222,
              "#7201a8"
             ],
             [
              0.3333333333333333,
              "#9c179e"
             ],
             [
              0.4444444444444444,
              "#bd3786"
             ],
             [
              0.5555555555555556,
              "#d8576b"
             ],
             [
              0.6666666666666666,
              "#ed7953"
             ],
             [
              0.7777777777777778,
              "#fb9f3a"
             ],
             [
              0.8888888888888888,
              "#fdca26"
             ],
             [
              1,
              "#f0f921"
             ]
            ],
            "type": "contour"
           }
          ],
          "contourcarpet": [
           {
            "colorbar": {
             "outlinewidth": 0,
             "ticks": ""
            },
            "type": "contourcarpet"
           }
          ],
          "heatmap": [
           {
            "colorbar": {
             "outlinewidth": 0,
             "ticks": ""
            },
            "colorscale": [
             [
              0,
              "#0d0887"
             ],
             [
              0.1111111111111111,
              "#46039f"
             ],
             [
              0.2222222222222222,
              "#7201a8"
             ],
             [
              0.3333333333333333,
              "#9c179e"
             ],
             [
              0.4444444444444444,
              "#bd3786"
             ],
             [
              0.5555555555555556,
              "#d8576b"
             ],
             [
              0.6666666666666666,
              "#ed7953"
             ],
             [
              0.7777777777777778,
              "#fb9f3a"
             ],
             [
              0.8888888888888888,
              "#fdca26"
             ],
             [
              1,
              "#f0f921"
             ]
            ],
            "type": "heatmap"
           }
          ],
          "heatmapgl": [
           {
            "colorbar": {
             "outlinewidth": 0,
             "ticks": ""
            },
            "colorscale": [
             [
              0,
              "#0d0887"
             ],
             [
              0.1111111111111111,
              "#46039f"
             ],
             [
              0.2222222222222222,
              "#7201a8"
             ],
             [
              0.3333333333333333,
              "#9c179e"
             ],
             [
              0.4444444444444444,
              "#bd3786"
             ],
             [
              0.5555555555555556,
              "#d8576b"
             ],
             [
              0.6666666666666666,
              "#ed7953"
             ],
             [
              0.7777777777777778,
              "#fb9f3a"
             ],
             [
              0.8888888888888888,
              "#fdca26"
             ],
             [
              1,
              "#f0f921"
             ]
            ],
            "type": "heatmapgl"
           }
          ],
          "histogram": [
           {
            "marker": {
             "pattern": {
              "fillmode": "overlay",
              "size": 10,
              "solidity": 0.2
             }
            },
            "type": "histogram"
           }
          ],
          "histogram2d": [
           {
            "colorbar": {
             "outlinewidth": 0,
             "ticks": ""
            },
            "colorscale": [
             [
              0,
              "#0d0887"
             ],
             [
              0.1111111111111111,
              "#46039f"
             ],
             [
              0.2222222222222222,
              "#7201a8"
             ],
             [
              0.3333333333333333,
              "#9c179e"
             ],
             [
              0.4444444444444444,
              "#bd3786"
             ],
             [
              0.5555555555555556,
              "#d8576b"
             ],
             [
              0.6666666666666666,
              "#ed7953"
             ],
             [
              0.7777777777777778,
              "#fb9f3a"
             ],
             [
              0.8888888888888888,
              "#fdca26"
             ],
             [
              1,
              "#f0f921"
             ]
            ],
            "type": "histogram2d"
           }
          ],
          "histogram2dcontour": [
           {
            "colorbar": {
             "outlinewidth": 0,
             "ticks": ""
            },
            "colorscale": [
             [
              0,
              "#0d0887"
             ],
             [
              0.1111111111111111,
              "#46039f"
             ],
             [
              0.2222222222222222,
              "#7201a8"
             ],
             [
              0.3333333333333333,
              "#9c179e"
             ],
             [
              0.4444444444444444,
              "#bd3786"
             ],
             [
              0.5555555555555556,
              "#d8576b"
             ],
             [
              0.6666666666666666,
              "#ed7953"
             ],
             [
              0.7777777777777778,
              "#fb9f3a"
             ],
             [
              0.8888888888888888,
              "#fdca26"
             ],
             [
              1,
              "#f0f921"
             ]
            ],
            "type": "histogram2dcontour"
           }
          ],
          "mesh3d": [
           {
            "colorbar": {
             "outlinewidth": 0,
             "ticks": ""
            },
            "type": "mesh3d"
           }
          ],
          "parcoords": [
           {
            "line": {
             "colorbar": {
              "outlinewidth": 0,
              "ticks": ""
             }
            },
            "type": "parcoords"
           }
          ],
          "pie": [
           {
            "automargin": true,
            "type": "pie"
           }
          ],
          "scatter": [
           {
            "fillpattern": {
             "fillmode": "overlay",
             "size": 10,
             "solidity": 0.2
            },
            "type": "scatter"
           }
          ],
          "scatter3d": [
           {
            "line": {
             "colorbar": {
              "outlinewidth": 0,
              "ticks": ""
             }
            },
            "marker": {
             "colorbar": {
              "outlinewidth": 0,
              "ticks": ""
             }
            },
            "type": "scatter3d"
           }
          ],
          "scattercarpet": [
           {
            "marker": {
             "colorbar": {
              "outlinewidth": 0,
              "ticks": ""
             }
            },
            "type": "scattercarpet"
           }
          ],
          "scattergeo": [
           {
            "marker": {
             "colorbar": {
              "outlinewidth": 0,
              "ticks": ""
             }
            },
            "type": "scattergeo"
           }
          ],
          "scattergl": [
           {
            "marker": {
             "colorbar": {
              "outlinewidth": 0,
              "ticks": ""
             }
            },
            "type": "scattergl"
           }
          ],
          "scattermapbox": [
           {
            "marker": {
             "colorbar": {
              "outlinewidth": 0,
              "ticks": ""
             }
            },
            "type": "scattermapbox"
           }
          ],
          "scatterpolar": [
           {
            "marker": {
             "colorbar": {
              "outlinewidth": 0,
              "ticks": ""
             }
            },
            "type": "scatterpolar"
           }
          ],
          "scatterpolargl": [
           {
            "marker": {
             "colorbar": {
              "outlinewidth": 0,
              "ticks": ""
             }
            },
            "type": "scatterpolargl"
           }
          ],
          "scatterternary": [
           {
            "marker": {
             "colorbar": {
              "outlinewidth": 0,
              "ticks": ""
             }
            },
            "type": "scatterternary"
           }
          ],
          "surface": [
           {
            "colorbar": {
             "outlinewidth": 0,
             "ticks": ""
            },
            "colorscale": [
             [
              0,
              "#0d0887"
             ],
             [
              0.1111111111111111,
              "#46039f"
             ],
             [
              0.2222222222222222,
              "#7201a8"
             ],
             [
              0.3333333333333333,
              "#9c179e"
             ],
             [
              0.4444444444444444,
              "#bd3786"
             ],
             [
              0.5555555555555556,
              "#d8576b"
             ],
             [
              0.6666666666666666,
              "#ed7953"
             ],
             [
              0.7777777777777778,
              "#fb9f3a"
             ],
             [
              0.8888888888888888,
              "#fdca26"
             ],
             [
              1,
              "#f0f921"
             ]
            ],
            "type": "surface"
           }
          ],
          "table": [
           {
            "cells": {
             "fill": {
              "color": "#EBF0F8"
             },
             "line": {
              "color": "white"
             }
            },
            "header": {
             "fill": {
              "color": "#C8D4E3"
             },
             "line": {
              "color": "white"
             }
            },
            "type": "table"
           }
          ]
         },
         "layout": {
          "annotationdefaults": {
           "arrowcolor": "#2a3f5f",
           "arrowhead": 0,
           "arrowwidth": 1
          },
          "autotypenumbers": "strict",
          "coloraxis": {
           "colorbar": {
            "outlinewidth": 0,
            "ticks": ""
           }
          },
          "colorscale": {
           "diverging": [
            [
             0,
             "#8e0152"
            ],
            [
             0.1,
             "#c51b7d"
            ],
            [
             0.2,
             "#de77ae"
            ],
            [
             0.3,
             "#f1b6da"
            ],
            [
             0.4,
             "#fde0ef"
            ],
            [
             0.5,
             "#f7f7f7"
            ],
            [
             0.6,
             "#e6f5d0"
            ],
            [
             0.7,
             "#b8e186"
            ],
            [
             0.8,
             "#7fbc41"
            ],
            [
             0.9,
             "#4d9221"
            ],
            [
             1,
             "#276419"
            ]
           ],
           "sequential": [
            [
             0,
             "#0d0887"
            ],
            [
             0.1111111111111111,
             "#46039f"
            ],
            [
             0.2222222222222222,
             "#7201a8"
            ],
            [
             0.3333333333333333,
             "#9c179e"
            ],
            [
             0.4444444444444444,
             "#bd3786"
            ],
            [
             0.5555555555555556,
             "#d8576b"
            ],
            [
             0.6666666666666666,
             "#ed7953"
            ],
            [
             0.7777777777777778,
             "#fb9f3a"
            ],
            [
             0.8888888888888888,
             "#fdca26"
            ],
            [
             1,
             "#f0f921"
            ]
           ],
           "sequentialminus": [
            [
             0,
             "#0d0887"
            ],
            [
             0.1111111111111111,
             "#46039f"
            ],
            [
             0.2222222222222222,
             "#7201a8"
            ],
            [
             0.3333333333333333,
             "#9c179e"
            ],
            [
             0.4444444444444444,
             "#bd3786"
            ],
            [
             0.5555555555555556,
             "#d8576b"
            ],
            [
             0.6666666666666666,
             "#ed7953"
            ],
            [
             0.7777777777777778,
             "#fb9f3a"
            ],
            [
             0.8888888888888888,
             "#fdca26"
            ],
            [
             1,
             "#f0f921"
            ]
           ]
          },
          "colorway": [
           "#636efa",
           "#EF553B",
           "#00cc96",
           "#ab63fa",
           "#FFA15A",
           "#19d3f3",
           "#FF6692",
           "#B6E880",
           "#FF97FF",
           "#FECB52"
          ],
          "font": {
           "color": "#2a3f5f"
          },
          "geo": {
           "bgcolor": "white",
           "lakecolor": "white",
           "landcolor": "white",
           "showlakes": true,
           "showland": true,
           "subunitcolor": "#C8D4E3"
          },
          "hoverlabel": {
           "align": "left"
          },
          "hovermode": "closest",
          "mapbox": {
           "style": "light"
          },
          "paper_bgcolor": "white",
          "plot_bgcolor": "white",
          "polar": {
           "angularaxis": {
            "gridcolor": "#EBF0F8",
            "linecolor": "#EBF0F8",
            "ticks": ""
           },
           "bgcolor": "white",
           "radialaxis": {
            "gridcolor": "#EBF0F8",
            "linecolor": "#EBF0F8",
            "ticks": ""
           }
          },
          "scene": {
           "xaxis": {
            "backgroundcolor": "white",
            "gridcolor": "#DFE8F3",
            "gridwidth": 2,
            "linecolor": "#EBF0F8",
            "showbackground": true,
            "ticks": "",
            "zerolinecolor": "#EBF0F8"
           },
           "yaxis": {
            "backgroundcolor": "white",
            "gridcolor": "#DFE8F3",
            "gridwidth": 2,
            "linecolor": "#EBF0F8",
            "showbackground": true,
            "ticks": "",
            "zerolinecolor": "#EBF0F8"
           },
           "zaxis": {
            "backgroundcolor": "white",
            "gridcolor": "#DFE8F3",
            "gridwidth": 2,
            "linecolor": "#EBF0F8",
            "showbackground": true,
            "ticks": "",
            "zerolinecolor": "#EBF0F8"
           }
          },
          "shapedefaults": {
           "line": {
            "color": "#2a3f5f"
           }
          },
          "ternary": {
           "aaxis": {
            "gridcolor": "#DFE8F3",
            "linecolor": "#A2B1C6",
            "ticks": ""
           },
           "baxis": {
            "gridcolor": "#DFE8F3",
            "linecolor": "#A2B1C6",
            "ticks": ""
           },
           "bgcolor": "white",
           "caxis": {
            "gridcolor": "#DFE8F3",
            "linecolor": "#A2B1C6",
            "ticks": ""
           }
          },
          "title": {
           "x": 0.05
          },
          "xaxis": {
           "automargin": true,
           "gridcolor": "#EBF0F8",
           "linecolor": "#EBF0F8",
           "ticks": "",
           "title": {
            "standoff": 15
           },
           "zerolinecolor": "#EBF0F8",
           "zerolinewidth": 2
          },
          "yaxis": {
           "automargin": true,
           "gridcolor": "#EBF0F8",
           "linecolor": "#EBF0F8",
           "ticks": "",
           "title": {
            "standoff": 15
           },
           "zerolinecolor": "#EBF0F8",
           "zerolinewidth": 2
          }
         }
        },
        "title": {
         "text": "Plot of dependent variable vs potential covariates"
        },
        "xaxis": {
         "anchor": "y",
         "domain": [
          0,
          1
         ],
         "matches": "x2",
         "showticklabels": false,
         "title": {
          "text": "weight"
         }
        },
        "xaxis2": {
         "anchor": "y2",
         "domain": [
          0,
          1
         ],
         "title": {
          "text": "weight"
         }
        },
        "yaxis": {
         "anchor": "x",
         "domain": [
          0.625,
          1
         ],
         "title": {
          "text": "area"
         }
        },
        "yaxis2": {
         "anchor": "x2",
         "domain": [
          0,
          0.375
         ],
         "title": {
          "text": "groupsize"
         }
        }
       }
      }
     },
     "metadata": {},
     "output_type": "display_data"
    }
   ],
   "source": [
    "plot_dependent_var_vs_covariates()"
   ]
  },
  {
   "cell_type": "markdown",
   "metadata": {},
   "source": [
    "Remarks:\n",
    "- All three distributions (weight, area, groupsize) have a bump to the right side of the plot, although some more noticeable than others\n",
    "- Beside the slight bump, the weight distribution looks somewhat close to a normal distribution\n",
    "- There is no clear correlation between the weights and any of the potential covariates"
   ]
  },
  {
   "cell_type": "markdown",
   "metadata": {},
   "source": [
    "### Make a base model of `weight` from its mean and variance\n",
    "\n",
    "We may consider that the weight of foxes are independent random variables. As such, we have that the probability of their intersection is the product of their respective probabilities:\n",
    "\\begin{align*}\n",
    "\\mathbb{P}(weight)\n",
    "&= \\mathbb{P}(weight_1, \\ldots, weight_n) \\\\\n",
    "&= \\mathbb{P}(weight_1) \\ldots \\mathbb{P}(weight_n) \\\\\n",
    "\\end{align*}\n",
    "where one could reasonably assume that the weight of a given fox is normally distributed $\\mathcal{N}(\\mu, \\sigma^2)$."
   ]
  },
  {
   "cell_type": "code",
   "execution_count": 142,
   "metadata": {},
   "outputs": [
    {
     "name": "stdout",
     "output_type": "stream",
     "text": [
      "The mean of the fox weights is: 4.529655172413793\n"
     ]
    }
   ],
   "source": [
    "mean_weight = fox[\"weight\"].mean()\n",
    "print(f\"The mean of the fox weights is: {mean_weight}\")"
   ]
  },
  {
   "cell_type": "markdown",
   "metadata": {},
   "source": [
    "We choose \n",
    "\\begin{align*}\n",
    "\\mu_{prior} &\\sim \\mathcal{N}(4.5, 2) \\\\\n",
    "\\sigma_{prior} &\\sim \\mathcal{U}(0, 2)\n",
    "\\end{align*}\n",
    "where:\n",
    "- $\\mu_{prior}$ is centered in 4.5 because this is the mean of the weights\n",
    "- $\\mu_{prior}$ has variance 2 (standard deviation $\\sqrt{2} \\approx 1.4$) because this gives a $2\\sigma$ interval of $[1.7, 7.3]$. Such an interval contains almost all of our data, so it seems far from being too restrictive\n",
    "- $\\sigma_{prior}$ is an uninformative estimate of the variance because we do not have much insight to give on this parameter\n",
    "\n",
    "Let $y$ be the weight of foxes. Then our likelihood is given by:\n",
    "$$\n",
    "\\mathbb{P}(y \\mid \\mu, \\sigma^2) = \\mathcal{N}(y \\mid \\mu, \\sigma^2)\n",
    "$$"
   ]
  },
  {
   "cell_type": "code",
   "execution_count": 143,
   "metadata": {},
   "outputs": [
    {
     "name": "stdout",
     "output_type": "stream",
     "text": [
      "      fun: 185.99448612478704\n",
      " hess_inv: array([[ 1.19528884e-02, -1.52933234e-06],\n",
      "       [-1.52933234e-06,  5.99496731e-03]])\n",
      "      jac: array([ 0.00000000e+00, -3.81469727e-06])\n",
      "  message: 'Optimization terminated successfully.'\n",
      "     nfev: 30\n",
      "      nit: 5\n",
      "     njev: 10\n",
      "   status: 0\n",
      "  success: True\n",
      "        x: array([4.52956663, 1.17890794])\n"
     ]
    }
   ],
   "source": [
    "from tools import *\n",
    "\n",
    "# Declare the likelihood with the sample parameters\n",
    "lik = \"gaussian\"\n",
    "mu = fox[\"weight\"].mean()  # 4.53\n",
    "sigma = fox[\"weight\"].std()  # 1.18\n",
    "params = [mu, sigma]\n",
    "\n",
    "# Defines the prior mean\n",
    "prior_mu_mean = 4.5\n",
    "prior_mu_sigma = 2.0\n",
    "prior_mu = [\"gaussian\", [prior_mu_mean, prior_mu_sigma]]\n",
    "\n",
    "# Defines the prior sigma\n",
    "sigma_inf = 0.0\n",
    "sigma_sup = 2.0\n",
    "prior_sigma = [\"uniform\", [sigma_inf, sigma_sup]]\n",
    "\n",
    "# Performs the optimization\n",
    "laplace_sol = laplace_solution(\n",
    "  params=params,\n",
    "  other_params=[],\n",
    "  data=fox[\"weight\"],\n",
    "  lik=lik,\n",
    "  priors=[prior_mu, prior_sigma],\n",
    ")\n"
   ]
  },
  {
   "cell_type": "code",
   "execution_count": 160,
   "metadata": {},
   "outputs": [
    {
     "name": "stdout",
     "output_type": "stream",
     "text": [
      "  Mean of the parameters: [4.53070439 1.17772351]\n",
      "  Std of the parameters: [0.10809745 0.07683212]\n",
      "  90% quantile bounds for the mean of each parameter are:\n",
      "  [[4.35445338 1.04651261]\n",
      " [4.71239209 1.29982388]]\n",
      "  \n"
     ]
    }
   ],
   "source": [
    "n_samples = 1000\n",
    "print_posterior_samples_stats(laplace_sol=laplace_sol, n_samples=n_samples)\n"
   ]
  },
  {
   "cell_type": "markdown",
   "metadata": {},
   "source": [
    "We will use these estimates for the mean and standard deviation of $\\mu$ in the following models."
   ]
  },
  {
   "cell_type": "markdown",
   "metadata": {},
   "source": [
    "### Make a regression of `weight` as a linear function of `area`\n"
   ]
  },
  {
   "cell_type": "markdown",
   "metadata": {},
   "source": [
    "### Make a regression of `weight` as a linear function of `groupsize`\n"
   ]
  },
  {
   "cell_type": "markdown",
   "metadata": {},
   "source": [
    "### Make a regression of `weight` as a linear function of `area` and `groupsize`\n",
    "\n"
   ]
  },
  {
   "cell_type": "markdown",
   "metadata": {},
   "source": [
    "## Exercise 4\n",
    "Consider the diabetes dataset"
   ]
  },
  {
   "cell_type": "code",
   "execution_count": null,
   "metadata": {},
   "outputs": [],
   "source": [
    "from sklearn import datasets \n",
    "import numpy as np\n",
    "import matplotlib.pyplot as plt\n",
    "\n",
    "dataset = datasets.load_diabetes(return_X_y=False)\n",
    "print(dataset.DESCR)"
   ]
  },
  {
   "cell_type": "code",
   "execution_count": null,
   "metadata": {},
   "outputs": [],
   "source": [
    "# Define the feature matrix\n",
    "data = dataset.data\n",
    "# Define the target\n",
    "target = dataset.target"
   ]
  },
  {
   "cell_type": "markdown",
   "metadata": {},
   "source": [
    "Investigate the relationship between age (data[:,0]) and Average blood pressure (data[:,3]) with a linear and quadratic model. \n",
    "\n",
    "- Which model do you think is better? \n",
    "- Predict a 95% confidence interval for the average blood pressure on an individual with mean age (0). \n",
    "\n"
   ]
  },
  {
   "cell_type": "code",
   "execution_count": null,
   "metadata": {},
   "outputs": [],
   "source": []
  }
 ],
 "metadata": {
  "kernelspec": {
   "display_name": "Python 3.10.6 64-bit",
   "language": "python",
   "name": "python3"
  },
  "language_info": {
   "codemirror_mode": {
    "name": "ipython",
    "version": 3
   },
   "file_extension": ".py",
   "mimetype": "text/x-python",
   "name": "python",
   "nbconvert_exporter": "python",
   "pygments_lexer": "ipython3",
   "version": "3.10.6"
  },
  "vscode": {
   "interpreter": {
    "hash": "916dbcbb3f70747c44a77c7bcd40155683ae19c65e1c03b4aa3499c5328201f1"
   }
  }
 },
 "nbformat": 4,
 "nbformat_minor": 2
}

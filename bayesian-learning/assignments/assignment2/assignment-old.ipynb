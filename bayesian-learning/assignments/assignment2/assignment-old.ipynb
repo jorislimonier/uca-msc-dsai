{
 "cells": [
  {
   "cell_type": "code",
   "execution_count": 45,
   "metadata": {},
   "outputs": [
    {
     "name": "stdout",
     "output_type": "stream",
     "text": [
      "The autoreload extension is already loaded. To reload it, use:\n",
      "  %reload_ext autoreload\n"
     ]
    }
   ],
   "source": [
    "from assignment2_utils import *\n",
    "\n",
    "%load_ext autoreload\n",
    "%autoreload 2"
   ]
  },
  {
   "cell_type": "markdown",
   "metadata": {},
   "source": [
    "# Assignments 2\n",
    "\n",
    "\n",
    "## Exercise 1 The Beta-Binomial model seen during lesson 2 is:\n",
    "\n",
    "$$p(y|\\theta)p(\\theta) \\propto \\theta^{y+\\alpha-1}(1-\\theta)^{n+\\beta-y-1} \\propto Beta(\\theta|\\alpha+y,n+\\beta-y).$$\n",
    "\n",
    "Find a Laplace approximation for this model, as seen for the Binomial model, and plot the resulting Gaussian approximation against the Beta-Binomial function.\n",
    "___"
   ]
  },
  {
   "cell_type": "markdown",
   "metadata": {},
   "source": [
    "### Find Laplace approximation\n",
    "\n",
    "Let $f$ be defined as follows:\n",
    "$$\n",
    "f(x) = \\exp(\\log(f(x))) = \\exp(g(\\theta))\n",
    "$$\n",
    "From the Taylor expansion in a maximum of both $f$ and $g$ in $\\theta = \\theta_0$, we get:\n",
    "\\begin{align*}\n",
    "\\begin{cases}\n",
    "g(\\theta) = g(\\theta_0) + g'(\\theta_0)(\\theta-\\theta_0) + \\frac{1}{2}g''(\\theta_0)(\\theta-\\theta_0)^2 + O((\\theta - \\theta_0)^3)\\\\\n",
    "g'(\\theta_0) = 0 \\\\\n",
    "\\end{cases}\n",
    "\\end{align*}\n",
    "Therefore:\n",
    "\\begin{align*}\n",
    "g(\\theta) &\\approx g(\\theta_0) + \\frac{1}{2}g''(\\theta_0)(\\theta-\\theta_0)^2 \\\\\n",
    "f(\\theta) &\\approx f(\\theta_0) \\exp\\left[\\frac{1}{2}g''(\\theta_0)(\\theta-\\theta_0)^2\\right]\n",
    "\\end{align*}\n",
    "We recognize that the last term is the PDF of a Normal distribution:\n",
    "$$\n",
    "\\mathcal{N}\\left(\\theta_0, \\frac{-1}{g''(\\theta_0)}\\right)\n",
    "$$\n",
    "We find the maximum of the function by computing the derivative with respect to $\\theta$ and equating to 0. We compute the derivative:\n",
    "\\begin{align*}\n",
    "\\frac{\\partial}{\\partial \\theta} g(\\theta)\n",
    "&= \\frac{\\partial}{\\partial \\theta} \\log f(\\theta) \\\\\n",
    "&= \\frac{\\partial}{\\partial \\theta} \\left[(y+\\alpha-1)*\\log(\\theta) + (n+\\beta-y-1)*\\log(1-\\theta)\\right] \\\\\n",
    "&= \\frac{y+\\alpha-1}{\\theta} - \\frac{n+\\beta-y-1}{1-\\theta} \\\\\n",
    "\\end{align*}\n",
    "Now wet equate to 0:\n",
    "\\begin{align*}\n",
    "&\\frac{\\partial}{\\partial \\theta} g(\\theta_0) = 0 \\\\\n",
    "\\implies&\n",
    "\\frac{y+\\alpha-1}{\\theta_0} - \\frac{n+\\beta-y-1}{1-\\theta_0} = 0 \\\\\n",
    "\\implies&\n",
    "\\frac{\\theta_0((n+\\beta-y-1) + (y+\\alpha-1)) - (y+\\alpha-1)}{\\theta_0 (1-\\theta_0)}  = 0 \\\\\n",
    "\\implies&\n",
    "\\frac{\\theta_0(n+\\alpha+\\beta-2) - (y+\\alpha-1)}{\\theta_0 (1-\\theta_0)}  = 0 \\\\\n",
    "\\implies&\n",
    "\\theta_0 = \\frac{y+\\alpha-1}{n+\\alpha+\\beta-2} \\\\\n",
    "\\end{align*}\n",
    "This gives us the mean of the normal distribution:\n",
    "$$\n",
    "\\mu := \\theta_0 = \\frac{y+\\alpha-1}{n+\\alpha+\\beta-2}\n",
    "$$"
   ]
  },
  {
   "cell_type": "markdown",
   "metadata": {},
   "source": [
    "Now to get the variance, we compute the second derivative fo $g$:\n",
    "$$\n",
    "\\frac{\\delta^2 g}{\\delta \\theta^2} (\\theta) = -\\frac{y+\\alpha-1}{\\theta^2} - \\frac{n+\\beta-y-1}{(1-\\theta)^2}\n",
    "$$\n",
    "and we evaluate it in $\\theta_0$:\n",
    "\\begin{align*}\n",
    "\\frac{\\delta^2 g}{\\delta \\theta^2} (\\theta_0)\n",
    "&= -\\frac{y+\\alpha-1}{\\theta_0^2} - \\frac{n+\\beta-y-1}{(1-\\theta_0)^2} \\\\\n",
    "\\end{align*}\n",
    "with $\\theta_0$ as computed before:\n",
    "$$\n",
    "\\theta_0 = \\frac{y+\\alpha-1}{n+\\alpha+\\beta-2}\n",
    "$$\n",
    "Thus the variance is given by:\n",
    "\\begin{align*}\n",
    "&\n",
    "\\sigma^2 = \\left[-\\frac{\\delta^2 g}{\\delta \\theta^2} (\\theta_0)\\right]^{-1} \\\\\n",
    " \\\\\n",
    "\\implies &\n",
    "\\sigma^2 = \\left[\\frac{y+\\alpha-1}{\\theta_0^2} + \\frac{n+\\beta-y-1}{(1-\\theta_0)^2}\\right]^{-1}\n",
    "\\end{align*}\n",
    "Hence the Gaussian approximation is given by:\n",
    "$$\n",
    "\\mathcal{N}(\\mu, \\sigma^2)\n",
    "$$\n",
    "with $\\mu$ and $\\sigma$ defined previously."
   ]
  },
  {
   "cell_type": "markdown",
   "metadata": {},
   "source": [
    "### Plot the approximation"
   ]
  },
  {
   "cell_type": "code",
   "execution_count": 47,
   "metadata": {},
   "outputs": [
    {
     "data": {
      "application/vnd.plotly.v1+json": {
       "config": {
        "plotlyServerURL": "https://plot.ly"
       },
       "data": [
        {
         "name": "PDF of Beta-Binomial distribution",
         "type": "scatter",
         "x": [
          0,
          0.010101010101010102,
          0.020202020202020204,
          0.030303030303030304,
          0.04040404040404041,
          0.05050505050505051,
          0.06060606060606061,
          0.07070707070707072,
          0.08080808080808081,
          0.09090909090909091,
          0.10101010101010102,
          0.11111111111111112,
          0.12121212121212122,
          0.13131313131313133,
          0.14141414141414144,
          0.15151515151515152,
          0.16161616161616163,
          0.17171717171717174,
          0.18181818181818182,
          0.19191919191919193,
          0.20202020202020204,
          0.21212121212121213,
          0.22222222222222224,
          0.23232323232323235,
          0.24242424242424243,
          0.25252525252525254,
          0.26262626262626265,
          0.27272727272727276,
          0.2828282828282829,
          0.29292929292929293,
          0.30303030303030304,
          0.31313131313131315,
          0.32323232323232326,
          0.33333333333333337,
          0.3434343434343435,
          0.3535353535353536,
          0.36363636363636365,
          0.37373737373737376,
          0.38383838383838387,
          0.393939393939394,
          0.4040404040404041,
          0.4141414141414142,
          0.42424242424242425,
          0.43434343434343436,
          0.4444444444444445,
          0.4545454545454546,
          0.4646464646464647,
          0.4747474747474748,
          0.48484848484848486,
          0.494949494949495,
          0.5050505050505051,
          0.5151515151515152,
          0.5252525252525253,
          0.5353535353535354,
          0.5454545454545455,
          0.5555555555555556,
          0.5656565656565657,
          0.5757575757575758,
          0.5858585858585859,
          0.595959595959596,
          0.6060606060606061,
          0.6161616161616162,
          0.6262626262626263,
          0.6363636363636365,
          0.6464646464646465,
          0.6565656565656566,
          0.6666666666666667,
          0.6767676767676768,
          0.686868686868687,
          0.696969696969697,
          0.7070707070707072,
          0.7171717171717172,
          0.7272727272727273,
          0.7373737373737375,
          0.7474747474747475,
          0.7575757575757577,
          0.7676767676767677,
          0.7777777777777778,
          0.787878787878788,
          0.797979797979798,
          0.8080808080808082,
          0.8181818181818182,
          0.8282828282828284,
          0.8383838383838385,
          0.8484848484848485,
          0.8585858585858587,
          0.8686868686868687,
          0.8787878787878789,
          0.888888888888889,
          0.8989898989898991,
          0.9090909090909092,
          0.9191919191919192,
          0.9292929292929294,
          0.9393939393939394,
          0.9494949494949496,
          0.9595959595959597,
          0.9696969696969697,
          0.9797979797979799,
          0.98989898989899,
          1
         ],
         "y": [
          0,
          2.9111333161071218e-8,
          8.494210122771269e-7,
          0.0000058759052519581285,
          0.000022534079259230728,
          0.00006252131694116126,
          0.000141296108916936,
          0.00027708183777034196,
          0.0004896095487137376,
          0.000798771471495823,
          0.0012233126680166403,
          0.0017796511863257783,
          0.0024808866213579853,
          0.0033360322164396644,
          0.00434948585801708,
          0.005520739855867678,
          0.00684431766071624,
          0.008309917106989667,
          0.009902733890757158,
          0.011603935362473707,
          0.013391252938646776,
          0.01523966116723367,
          0.01712211241008622,
          0.019010297961066642,
          0.02087540896396734,
          0.0226888735251342,
          0.024423049755800848,
          0.026051857979178864,
          0.027551338872049257,
          0.028900127776573945,
          0.030079838731662693,
          0.03107535486860296,
          0.031875024642746906,
          0.03247076589587945,
          0.03285808193889018,
          0.03303599569879219,
          0.03300690948459945,
          0.03277639909772638,
          0.03235295185579581,
          0.03174765863099727,
          0.030973870246900174,
          0.030046828555888798,
          0.02898328226075573,
          0.027801097077876473,
          0.02651886919626266,
          0.02515555019752366,
          0.023730090697031792,
          0.022261108976358693,
          0.020766589830138796,
          0.01926361777418449,
          0.01776814768131786,
          0.016294814850252935,
          0.014856785491862121,
          0.013465647654682812,
          0.012131341723342808,
          0.010862128822789174,
          0.009664594758179887,
          0.008543686522733804,
          0.0075027779187936666,
          0.00654376046336033,
          0.005667155488499461,
          0.00487224319712949,
          0.004157204391494204,
          0.003519270648920219,
          0.002954878869384526,
          0.002459826352628477,
          0.0020294228684924628,
          0.0016586365512763772,
          0.0013422308650110739,
          0.0010748903388589461,
          0.0008513332475611388,
          0.0006664098980991566,
          0.0005151856680452843,
          0.0003930084115141786,
          0.00029556029407143853,
          0.0002188945282980095,
          0.0001594578480649116,
          0.00011409987445288602,
          0.00008007078372283873,
          0.000055008883554914284,
          0.00003691983545832348,
          0.000024149328189622663,
          0.00001535101045994512,
          0.00000945143428510035,
          0.000005613647975318378,
          0.000003200916631200933,
          0.0000017418463398010904,
          8.979556570410341e-7,
          4.34485152911565e-7,
          1.9497433443868003e-7,
          7.987714714958173e-8,
          2.9244503858069428e-8,
          9.286432581450584e-9,
          2.4479548842646325e-9,
          5.004915163540526e-10,
          7.082480079634717e-11,
          5.603699924429016e-12,
          1.5351684824406826e-13,
          3.156151136122262e-16,
          0
         ]
        },
        {
         "name": "Laplace approximation",
         "type": "scatter",
         "x": [
          0,
          0.010101010101010102,
          0.020202020202020204,
          0.030303030303030304,
          0.04040404040404041,
          0.05050505050505051,
          0.06060606060606061,
          0.07070707070707072,
          0.08080808080808081,
          0.09090909090909091,
          0.10101010101010102,
          0.11111111111111112,
          0.12121212121212122,
          0.13131313131313133,
          0.14141414141414144,
          0.15151515151515152,
          0.16161616161616163,
          0.17171717171717174,
          0.18181818181818182,
          0.19191919191919193,
          0.20202020202020204,
          0.21212121212121213,
          0.22222222222222224,
          0.23232323232323235,
          0.24242424242424243,
          0.25252525252525254,
          0.26262626262626265,
          0.27272727272727276,
          0.2828282828282829,
          0.29292929292929293,
          0.30303030303030304,
          0.31313131313131315,
          0.32323232323232326,
          0.33333333333333337,
          0.3434343434343435,
          0.3535353535353536,
          0.36363636363636365,
          0.37373737373737376,
          0.38383838383838387,
          0.393939393939394,
          0.4040404040404041,
          0.4141414141414142,
          0.42424242424242425,
          0.43434343434343436,
          0.4444444444444445,
          0.4545454545454546,
          0.4646464646464647,
          0.4747474747474748,
          0.48484848484848486,
          0.494949494949495,
          0.5050505050505051,
          0.5151515151515152,
          0.5252525252525253,
          0.5353535353535354,
          0.5454545454545455,
          0.5555555555555556,
          0.5656565656565657,
          0.5757575757575758,
          0.5858585858585859,
          0.595959595959596,
          0.6060606060606061,
          0.6161616161616162,
          0.6262626262626263,
          0.6363636363636365,
          0.6464646464646465,
          0.6565656565656566,
          0.6666666666666667,
          0.6767676767676768,
          0.686868686868687,
          0.696969696969697,
          0.7070707070707072,
          0.7171717171717172,
          0.7272727272727273,
          0.7373737373737375,
          0.7474747474747475,
          0.7575757575757577,
          0.7676767676767677,
          0.7777777777777778,
          0.787878787878788,
          0.797979797979798,
          0.8080808080808082,
          0.8181818181818182,
          0.8282828282828284,
          0.8383838383838385,
          0.8484848484848485,
          0.8585858585858587,
          0.8686868686868687,
          0.8787878787878789,
          0.888888888888889,
          0.8989898989898991,
          0.9090909090909092,
          0.9191919191919192,
          0.9292929292929294,
          0.9393939393939394,
          0.9494949494949496,
          0.9595959595959597,
          0.9696969696969697,
          0.9797979797979799,
          0.98989898989899,
          1
         ],
         "y": [
          0.0006455840282452694,
          0.0008019306532673993,
          0.0009899627430540105,
          0.0012145038203304646,
          0.0014807335584477175,
          0.0017941260492691142,
          0.002160364258215969,
          0.0025852289713718733,
          0.0030744613925851243,
          0.003633599627052522,
          0.004267790572762811,
          0.004981580195433948,
          0.005778686730559779,
          0.006661762964144179,
          0.007632155301888062,
          0.008689668742993076,
          0.009832348020475013,
          0.011056285946021238,
          0.01235547030294302,
          0.013721680381007132,
          0.015144443382035936,
          0.01661105941775224,
          0.01810670168257717,
          0.019614595667519562,
          0.021116278083847393,
          0.022591932624921176,
          0.02402079598480658,
          0.02538162387289821,
          0.026653203329213535,
          0.027814894670386142,
          0.028847184082505507,
          0.029732226395321762,
          0.030454357051479492,
          0.031000552798695565,
          0.031360822194634735,
          0.03152850957094574,
          0.031500499538019144,
          0.031277313251508995,
          0.030863092284675975,
          0.03026547080382919,
          0.029495341558683382,
          0.028566525709040756,
          0.027495360468163407,
          0.026300221742737544,
          0.025001001230964427,
          0.023618558705353784,
          0.02217417042122193,
          0.020688993786402814,
          0.019183566693035066,
          0.017677357390567024,
          0.016188377651676848,
          0.014732868456087535,
          0.013325063707703573,
          0.011977033819713248,
          0.010698607543662603,
          0.009497367346088966,
          0.008378711076811143,
          0.007345970711027121,
          0.006400577624173606,
          0.005542263173702972,
          0.0047692832781633075,
          0.0040786561334642864,
          0.0034664030987607767,
          0.0029277840158451565,
          0.0024575196866330846,
          0.00204999581569673,
          0.001699444329853948,
          0.0014000995290681477,
          0.0011463279336401029,
          0.000932731921579574,
          0.0007542282653720298,
          0.0006061034647420966,
          0.00048404833237474735,
          0.0003841746363082695,
          0.0003030167586759121,
          0.00023752132470076688,
          0.00018502762066164148,
          0.00014324138792515525,
          0.00011020428358921016,
          0.0000842609652467092,
          0.00006402541217242988,
          0.00004834775749020109,
          0.000036282590403478476,
          0.000027059404574449052,
          0.00002005562427367441,
          0.000014772436529116523,
          0.00001081349489200189,
          0.000007866436207504968,
          0.00000568706208933954,
          0.000004085976959207645,
          0.0000029174394807704183,
          0.0000020701689826887314,
          0.0000014598483309056419,
          0.0000010230754821133082,
          7.125340374362154e-7,
          4.931755668562607e-7,
          3.3923096560285935e-7,
          2.3189288496463786e-7,
          1.5753510895122772e-7,
          1.0635680698766055e-7
         ]
        }
       ],
       "layout": {
        "showlegend": true,
        "template": {
         "data": {
          "bar": [
           {
            "error_x": {
             "color": "#2a3f5f"
            },
            "error_y": {
             "color": "#2a3f5f"
            },
            "marker": {
             "line": {
              "color": "white",
              "width": 0.5
             },
             "pattern": {
              "fillmode": "overlay",
              "size": 10,
              "solidity": 0.2
             }
            },
            "type": "bar"
           }
          ],
          "barpolar": [
           {
            "marker": {
             "line": {
              "color": "white",
              "width": 0.5
             },
             "pattern": {
              "fillmode": "overlay",
              "size": 10,
              "solidity": 0.2
             }
            },
            "type": "barpolar"
           }
          ],
          "carpet": [
           {
            "aaxis": {
             "endlinecolor": "#2a3f5f",
             "gridcolor": "#C8D4E3",
             "linecolor": "#C8D4E3",
             "minorgridcolor": "#C8D4E3",
             "startlinecolor": "#2a3f5f"
            },
            "baxis": {
             "endlinecolor": "#2a3f5f",
             "gridcolor": "#C8D4E3",
             "linecolor": "#C8D4E3",
             "minorgridcolor": "#C8D4E3",
             "startlinecolor": "#2a3f5f"
            },
            "type": "carpet"
           }
          ],
          "choropleth": [
           {
            "colorbar": {
             "outlinewidth": 0,
             "ticks": ""
            },
            "type": "choropleth"
           }
          ],
          "contour": [
           {
            "colorbar": {
             "outlinewidth": 0,
             "ticks": ""
            },
            "colorscale": [
             [
              0,
              "#0d0887"
             ],
             [
              0.1111111111111111,
              "#46039f"
             ],
             [
              0.2222222222222222,
              "#7201a8"
             ],
             [
              0.3333333333333333,
              "#9c179e"
             ],
             [
              0.4444444444444444,
              "#bd3786"
             ],
             [
              0.5555555555555556,
              "#d8576b"
             ],
             [
              0.6666666666666666,
              "#ed7953"
             ],
             [
              0.7777777777777778,
              "#fb9f3a"
             ],
             [
              0.8888888888888888,
              "#fdca26"
             ],
             [
              1,
              "#f0f921"
             ]
            ],
            "type": "contour"
           }
          ],
          "contourcarpet": [
           {
            "colorbar": {
             "outlinewidth": 0,
             "ticks": ""
            },
            "type": "contourcarpet"
           }
          ],
          "heatmap": [
           {
            "colorbar": {
             "outlinewidth": 0,
             "ticks": ""
            },
            "colorscale": [
             [
              0,
              "#0d0887"
             ],
             [
              0.1111111111111111,
              "#46039f"
             ],
             [
              0.2222222222222222,
              "#7201a8"
             ],
             [
              0.3333333333333333,
              "#9c179e"
             ],
             [
              0.4444444444444444,
              "#bd3786"
             ],
             [
              0.5555555555555556,
              "#d8576b"
             ],
             [
              0.6666666666666666,
              "#ed7953"
             ],
             [
              0.7777777777777778,
              "#fb9f3a"
             ],
             [
              0.8888888888888888,
              "#fdca26"
             ],
             [
              1,
              "#f0f921"
             ]
            ],
            "type": "heatmap"
           }
          ],
          "heatmapgl": [
           {
            "colorbar": {
             "outlinewidth": 0,
             "ticks": ""
            },
            "colorscale": [
             [
              0,
              "#0d0887"
             ],
             [
              0.1111111111111111,
              "#46039f"
             ],
             [
              0.2222222222222222,
              "#7201a8"
             ],
             [
              0.3333333333333333,
              "#9c179e"
             ],
             [
              0.4444444444444444,
              "#bd3786"
             ],
             [
              0.5555555555555556,
              "#d8576b"
             ],
             [
              0.6666666666666666,
              "#ed7953"
             ],
             [
              0.7777777777777778,
              "#fb9f3a"
             ],
             [
              0.8888888888888888,
              "#fdca26"
             ],
             [
              1,
              "#f0f921"
             ]
            ],
            "type": "heatmapgl"
           }
          ],
          "histogram": [
           {
            "marker": {
             "pattern": {
              "fillmode": "overlay",
              "size": 10,
              "solidity": 0.2
             }
            },
            "type": "histogram"
           }
          ],
          "histogram2d": [
           {
            "colorbar": {
             "outlinewidth": 0,
             "ticks": ""
            },
            "colorscale": [
             [
              0,
              "#0d0887"
             ],
             [
              0.1111111111111111,
              "#46039f"
             ],
             [
              0.2222222222222222,
              "#7201a8"
             ],
             [
              0.3333333333333333,
              "#9c179e"
             ],
             [
              0.4444444444444444,
              "#bd3786"
             ],
             [
              0.5555555555555556,
              "#d8576b"
             ],
             [
              0.6666666666666666,
              "#ed7953"
             ],
             [
              0.7777777777777778,
              "#fb9f3a"
             ],
             [
              0.8888888888888888,
              "#fdca26"
             ],
             [
              1,
              "#f0f921"
             ]
            ],
            "type": "histogram2d"
           }
          ],
          "histogram2dcontour": [
           {
            "colorbar": {
             "outlinewidth": 0,
             "ticks": ""
            },
            "colorscale": [
             [
              0,
              "#0d0887"
             ],
             [
              0.1111111111111111,
              "#46039f"
             ],
             [
              0.2222222222222222,
              "#7201a8"
             ],
             [
              0.3333333333333333,
              "#9c179e"
             ],
             [
              0.4444444444444444,
              "#bd3786"
             ],
             [
              0.5555555555555556,
              "#d8576b"
             ],
             [
              0.6666666666666666,
              "#ed7953"
             ],
             [
              0.7777777777777778,
              "#fb9f3a"
             ],
             [
              0.8888888888888888,
              "#fdca26"
             ],
             [
              1,
              "#f0f921"
             ]
            ],
            "type": "histogram2dcontour"
           }
          ],
          "mesh3d": [
           {
            "colorbar": {
             "outlinewidth": 0,
             "ticks": ""
            },
            "type": "mesh3d"
           }
          ],
          "parcoords": [
           {
            "line": {
             "colorbar": {
              "outlinewidth": 0,
              "ticks": ""
             }
            },
            "type": "parcoords"
           }
          ],
          "pie": [
           {
            "automargin": true,
            "type": "pie"
           }
          ],
          "scatter": [
           {
            "fillpattern": {
             "fillmode": "overlay",
             "size": 10,
             "solidity": 0.2
            },
            "type": "scatter"
           }
          ],
          "scatter3d": [
           {
            "line": {
             "colorbar": {
              "outlinewidth": 0,
              "ticks": ""
             }
            },
            "marker": {
             "colorbar": {
              "outlinewidth": 0,
              "ticks": ""
             }
            },
            "type": "scatter3d"
           }
          ],
          "scattercarpet": [
           {
            "marker": {
             "colorbar": {
              "outlinewidth": 0,
              "ticks": ""
             }
            },
            "type": "scattercarpet"
           }
          ],
          "scattergeo": [
           {
            "marker": {
             "colorbar": {
              "outlinewidth": 0,
              "ticks": ""
             }
            },
            "type": "scattergeo"
           }
          ],
          "scattergl": [
           {
            "marker": {
             "colorbar": {
              "outlinewidth": 0,
              "ticks": ""
             }
            },
            "type": "scattergl"
           }
          ],
          "scattermapbox": [
           {
            "marker": {
             "colorbar": {
              "outlinewidth": 0,
              "ticks": ""
             }
            },
            "type": "scattermapbox"
           }
          ],
          "scatterpolar": [
           {
            "marker": {
             "colorbar": {
              "outlinewidth": 0,
              "ticks": ""
             }
            },
            "type": "scatterpolar"
           }
          ],
          "scatterpolargl": [
           {
            "marker": {
             "colorbar": {
              "outlinewidth": 0,
              "ticks": ""
             }
            },
            "type": "scatterpolargl"
           }
          ],
          "scatterternary": [
           {
            "marker": {
             "colorbar": {
              "outlinewidth": 0,
              "ticks": ""
             }
            },
            "type": "scatterternary"
           }
          ],
          "surface": [
           {
            "colorbar": {
             "outlinewidth": 0,
             "ticks": ""
            },
            "colorscale": [
             [
              0,
              "#0d0887"
             ],
             [
              0.1111111111111111,
              "#46039f"
             ],
             [
              0.2222222222222222,
              "#7201a8"
             ],
             [
              0.3333333333333333,
              "#9c179e"
             ],
             [
              0.4444444444444444,
              "#bd3786"
             ],
             [
              0.5555555555555556,
              "#d8576b"
             ],
             [
              0.6666666666666666,
              "#ed7953"
             ],
             [
              0.7777777777777778,
              "#fb9f3a"
             ],
             [
              0.8888888888888888,
              "#fdca26"
             ],
             [
              1,
              "#f0f921"
             ]
            ],
            "type": "surface"
           }
          ],
          "table": [
           {
            "cells": {
             "fill": {
              "color": "#EBF0F8"
             },
             "line": {
              "color": "white"
             }
            },
            "header": {
             "fill": {
              "color": "#C8D4E3"
             },
             "line": {
              "color": "white"
             }
            },
            "type": "table"
           }
          ]
         },
         "layout": {
          "annotationdefaults": {
           "arrowcolor": "#2a3f5f",
           "arrowhead": 0,
           "arrowwidth": 1
          },
          "autotypenumbers": "strict",
          "coloraxis": {
           "colorbar": {
            "outlinewidth": 0,
            "ticks": ""
           }
          },
          "colorscale": {
           "diverging": [
            [
             0,
             "#8e0152"
            ],
            [
             0.1,
             "#c51b7d"
            ],
            [
             0.2,
             "#de77ae"
            ],
            [
             0.3,
             "#f1b6da"
            ],
            [
             0.4,
             "#fde0ef"
            ],
            [
             0.5,
             "#f7f7f7"
            ],
            [
             0.6,
             "#e6f5d0"
            ],
            [
             0.7,
             "#b8e186"
            ],
            [
             0.8,
             "#7fbc41"
            ],
            [
             0.9,
             "#4d9221"
            ],
            [
             1,
             "#276419"
            ]
           ],
           "sequential": [
            [
             0,
             "#0d0887"
            ],
            [
             0.1111111111111111,
             "#46039f"
            ],
            [
             0.2222222222222222,
             "#7201a8"
            ],
            [
             0.3333333333333333,
             "#9c179e"
            ],
            [
             0.4444444444444444,
             "#bd3786"
            ],
            [
             0.5555555555555556,
             "#d8576b"
            ],
            [
             0.6666666666666666,
             "#ed7953"
            ],
            [
             0.7777777777777778,
             "#fb9f3a"
            ],
            [
             0.8888888888888888,
             "#fdca26"
            ],
            [
             1,
             "#f0f921"
            ]
           ],
           "sequentialminus": [
            [
             0,
             "#0d0887"
            ],
            [
             0.1111111111111111,
             "#46039f"
            ],
            [
             0.2222222222222222,
             "#7201a8"
            ],
            [
             0.3333333333333333,
             "#9c179e"
            ],
            [
             0.4444444444444444,
             "#bd3786"
            ],
            [
             0.5555555555555556,
             "#d8576b"
            ],
            [
             0.6666666666666666,
             "#ed7953"
            ],
            [
             0.7777777777777778,
             "#fb9f3a"
            ],
            [
             0.8888888888888888,
             "#fdca26"
            ],
            [
             1,
             "#f0f921"
            ]
           ]
          },
          "colorway": [
           "#636efa",
           "#EF553B",
           "#00cc96",
           "#ab63fa",
           "#FFA15A",
           "#19d3f3",
           "#FF6692",
           "#B6E880",
           "#FF97FF",
           "#FECB52"
          ],
          "font": {
           "color": "#2a3f5f"
          },
          "geo": {
           "bgcolor": "white",
           "lakecolor": "white",
           "landcolor": "white",
           "showlakes": true,
           "showland": true,
           "subunitcolor": "#C8D4E3"
          },
          "hoverlabel": {
           "align": "left"
          },
          "hovermode": "closest",
          "mapbox": {
           "style": "light"
          },
          "paper_bgcolor": "white",
          "plot_bgcolor": "white",
          "polar": {
           "angularaxis": {
            "gridcolor": "#EBF0F8",
            "linecolor": "#EBF0F8",
            "ticks": ""
           },
           "bgcolor": "white",
           "radialaxis": {
            "gridcolor": "#EBF0F8",
            "linecolor": "#EBF0F8",
            "ticks": ""
           }
          },
          "scene": {
           "xaxis": {
            "backgroundcolor": "white",
            "gridcolor": "#DFE8F3",
            "gridwidth": 2,
            "linecolor": "#EBF0F8",
            "showbackground": true,
            "ticks": "",
            "zerolinecolor": "#EBF0F8"
           },
           "yaxis": {
            "backgroundcolor": "white",
            "gridcolor": "#DFE8F3",
            "gridwidth": 2,
            "linecolor": "#EBF0F8",
            "showbackground": true,
            "ticks": "",
            "zerolinecolor": "#EBF0F8"
           },
           "zaxis": {
            "backgroundcolor": "white",
            "gridcolor": "#DFE8F3",
            "gridwidth": 2,
            "linecolor": "#EBF0F8",
            "showbackground": true,
            "ticks": "",
            "zerolinecolor": "#EBF0F8"
           }
          },
          "shapedefaults": {
           "line": {
            "color": "#2a3f5f"
           }
          },
          "ternary": {
           "aaxis": {
            "gridcolor": "#DFE8F3",
            "linecolor": "#A2B1C6",
            "ticks": ""
           },
           "baxis": {
            "gridcolor": "#DFE8F3",
            "linecolor": "#A2B1C6",
            "ticks": ""
           },
           "bgcolor": "white",
           "caxis": {
            "gridcolor": "#DFE8F3",
            "linecolor": "#A2B1C6",
            "ticks": ""
           }
          },
          "title": {
           "x": 0.05
          },
          "xaxis": {
           "automargin": true,
           "gridcolor": "#EBF0F8",
           "linecolor": "#EBF0F8",
           "ticks": "",
           "title": {
            "standoff": 15
           },
           "zerolinecolor": "#EBF0F8",
           "zerolinewidth": 2
          },
          "yaxis": {
           "automargin": true,
           "gridcolor": "#EBF0F8",
           "linecolor": "#EBF0F8",
           "ticks": "",
           "title": {
            "standoff": 15
           },
           "zerolinecolor": "#EBF0F8",
           "zerolinewidth": 2
          }
         }
        },
        "title": {
         "text": "Comparison ground truth vs Laplace approximation"
        }
       }
      }
     },
     "metadata": {},
     "output_type": "display_data"
    }
   ],
   "source": [
    "y = 3\n",
    "n = 8\n",
    "alpha = 3\n",
    "beta = 5\n",
    "plot_beta_binom_vs_laplace(y=y, n=n, alpha=alpha, beta=beta)\n"
   ]
  },
  {
   "cell_type": "markdown",
   "metadata": {},
   "source": [
    "___\n",
    "___\n",
    "### Exercise 2.\n",
    "Write down a model to evaluate the claim: *Animal diversity is related to latitude, but only after controlling for plant diversity*. You just need to write down the model definition.\n",
    "___"
   ]
  },
  {
   "cell_type": "code",
   "execution_count": null,
   "metadata": {},
   "outputs": [],
   "source": []
  },
  {
   "cell_type": "markdown",
   "metadata": {},
   "source": [
    "**Exercise 3**. Invent your own example of spurious correlation. An outcome variable should be correlated with both predictor variables. But when both predictors are entered in the same model, the correlation between the outcome and one of the predictors should mostly vanish (or at least be greatly reduced)."
   ]
  },
  {
   "cell_type": "code",
   "execution_count": null,
   "metadata": {},
   "outputs": [],
   "source": []
  },
  {
   "cell_type": "markdown",
   "metadata": {},
   "source": [
    "**Exercise 4.** The attached data is about observations of urban foxes in human habitat. The data has 5 columns:\n",
    "\n",
    "- *group*: Number of social group the fox belongs to\n",
    "- *avgfood*: The avg amount of food available in the territory\n",
    "- *groupsize*: The number of foxes in the social group\n",
    "- *area*: Size of the territory\n",
    "- *weight*: Body weight of the fox\n",
    "\n",
    "Fit a regression for *weight* as a linear function of *area*, and a regression for *weight* as a linear function of *groupsize*. What can you say about these relationships? Run a multivariate model and plot counterfactual plots for both variables. What can you conclude about this analysis?"
   ]
  },
  {
   "cell_type": "code",
   "execution_count": null,
   "metadata": {},
   "outputs": [],
   "source": []
  },
  {
   "cell_type": "markdown",
   "metadata": {},
   "source": [
    "**Exercise 5.** Consider the diabetes dataset"
   ]
  },
  {
   "cell_type": "code",
   "execution_count": 6,
   "metadata": {},
   "outputs": [
    {
     "name": "stdout",
     "output_type": "stream",
     "text": [
      ".. _diabetes_dataset:\n",
      "\n",
      "Diabetes dataset\n",
      "----------------\n",
      "\n",
      "Ten baseline variables, age, sex, body mass index, average blood\n",
      "pressure, and six blood serum measurements were obtained for each of n =\n",
      "442 diabetes patients, as well as the response of interest, a\n",
      "quantitative measure of disease progression one year after baseline.\n",
      "\n",
      "**Data Set Characteristics:**\n",
      "\n",
      "  :Number of Instances: 442\n",
      "\n",
      "  :Number of Attributes: First 10 columns are numeric predictive values\n",
      "\n",
      "  :Target: Column 11 is a quantitative measure of disease progression one year after baseline\n",
      "\n",
      "  :Attribute Information:\n",
      "      - Age\n",
      "      - Sex\n",
      "      - Body mass index\n",
      "      - Average blood pressure\n",
      "      - S1\n",
      "      - S2\n",
      "      - S3\n",
      "      - S4\n",
      "      - S5\n",
      "      - S6\n",
      "\n",
      "Note: Each of these 10 feature variables have been mean centered and scaled by the standard deviation times `n_samples` (i.e. the sum of squares of each column totals 1).\n",
      "\n",
      "Source URL:\n",
      "https://www4.stat.ncsu.edu/~boos/var.select/diabetes.html\n",
      "\n",
      "For more information see:\n",
      "Bradley Efron, Trevor Hastie, Iain Johnstone and Robert Tibshirani (2004) \"Least Angle Regression,\" Annals of Statistics (with discussion), 407-499.\n",
      "(https://web.stanford.edu/~hastie/Papers/LARS/LeastAngle_2002.pdf)\n"
     ]
    }
   ],
   "source": [
    "from sklearn import datasets \n",
    "import numpy as np\n",
    "import matplotlib.pyplot as plt\n",
    "\n",
    "dataset = datasets.load_diabetes(return_X_y=False)\n",
    "print(dataset.DESCR)"
   ]
  },
  {
   "cell_type": "code",
   "execution_count": 7,
   "metadata": {},
   "outputs": [],
   "source": [
    "# Define the feature matrix\n",
    "data = dataset.data\n",
    "# Define the target\n",
    "target = dataset.target"
   ]
  },
  {
   "cell_type": "markdown",
   "metadata": {},
   "source": [
    "Investigate the relationship between age (data[:,0]) and Average blood pressure (data[:,3]). \n",
    "By using the WAIC score seen during lesson, can you verify which hypothesis is better supported by the data?\n",
    "\n",
    "- there is no relationship (constant)\n",
    "- the relationship is linear\n",
    "- the relationship is quadratic\n",
    "- the relationship is cubic\n",
    "- the relationship is polynomial of order 4"
   ]
  },
  {
   "cell_type": "markdown",
   "metadata": {},
   "source": [
    "**Exercise 6.** Which model would you support between the following:\n",
    "\n",
    "- target depends on _Age_\n",
    "- target depends on _Age_ and _Sex_\n",
    "- target depends on _Age_ and _Body mass index_ \n",
    "- target depends on _Age_ and _Body mass index_ and _Average blood pressure_\n",
    "- target depends on _Age_ and _Sex_ and _Body mass index_ \n",
    "- target depends on _Age_ and _Sex_ and _Body mass index_ and _Average blood pressure_\n",
    "- target depends on  _Body mass index_ and _Average blood pressure_\n",
    "\n"
   ]
  },
  {
   "cell_type": "code",
   "execution_count": null,
   "metadata": {},
   "outputs": [],
   "source": []
  }
 ],
 "metadata": {
  "kernelspec": {
   "display_name": "Python 3.10.6 64-bit",
   "language": "python",
   "name": "python3"
  },
  "language_info": {
   "codemirror_mode": {
    "name": "ipython",
    "version": 3
   },
   "file_extension": ".py",
   "mimetype": "text/x-python",
   "name": "python",
   "nbconvert_exporter": "python",
   "pygments_lexer": "ipython3",
   "version": "3.10.6"
  },
  "vscode": {
   "interpreter": {
    "hash": "916dbcbb3f70747c44a77c7bcd40155683ae19c65e1c03b4aa3499c5328201f1"
   }
  }
 },
 "nbformat": 4,
 "nbformat_minor": 2
}

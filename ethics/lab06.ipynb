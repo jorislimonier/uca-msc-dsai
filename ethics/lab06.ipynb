{
 "cells": [
  {
   "cell_type": "markdown",
   "id": "bd2e3d9d",
   "metadata": {
    "tags": []
   },
   "source": [
    "<h1 style=\"font-size:3rem;color:#A3623B;\">Lab 6</h1>\n",
    "\n",
    "## Security and Ethical aspects of data\n",
    "### Amaya Nogales Gómez"
   ]
  },
  {
   "cell_type": "markdown",
   "id": "a972f946",
   "metadata": {},
   "source": [
    "## 6.1 Fairness metrics for synthetic datasets\n"
   ]
  },
  {
   "cell_type": "code",
   "execution_count": 60,
   "id": "4f2ce6cd",
   "metadata": {},
   "outputs": [],
   "source": [
    "#we import all the required libraries\n",
    "import numpy as np\n",
    "import matplotlib.pyplot as plt # for plotting stuff\n",
    "from random import seed, shuffle\n",
    "from scipy.stats import multivariate_normal # for generating synthetic data \n",
    "from sklearn import datasets #For real datasets\n",
    "SEED = 1122334455\n",
    "seed(SEED) # set the random seed so that the random permutations can be reproduced again\n",
    "np.random.seed(SEED)"
   ]
  },
  {
   "cell_type": "code",
   "execution_count": 61,
   "id": "d961851f",
   "metadata": {},
   "outputs": [],
   "source": [
    "from sklearn.svm import SVC\n",
    "from sklearn import metrics\n",
    "\n",
    "def plot_svc_decision_boundary(svm_clf, xmin, xmax):\n",
    "    w = svm_clf.coef_[0]\n",
    "    b = svm_clf.intercept_[0]\n",
    "\n",
    "    # At the decision boundary, w0*x0 + w1*x1 + b = 0\n",
    "    # => x1 = -w0/w1 * x0 - b/w1\n",
    "    x0 = np.linspace(xmin, xmax, 200)\n",
    "    decision_boundary = -w[0]/w[1] * x0 - b/w[1]\n",
    "\n",
    "    margin = 1/w[1]\n",
    "    gutter_up = decision_boundary + margin\n",
    "    gutter_down = decision_boundary - margin\n",
    "\n",
    "    svs = svm_clf.support_vectors_\n",
    "    plt.scatter(svs[:, 0], svs[:, 1], s=180, facecolors='#FFAAAA')\n",
    "    plt.plot(x0, decision_boundary, \"k-\", linewidth=2)\n",
    "    plt.plot(x0, gutter_up, \"k--\", linewidth=2)\n",
    "    plt.plot(x0, gutter_down, \"k--\", linewidth=2)"
   ]
  },
  {
   "cell_type": "code",
   "execution_count": 62,
   "id": "0c218582",
   "metadata": {},
   "outputs": [],
   "source": [
    "def generate_synthetic_data_bias():\n",
    "\n",
    "    \"\"\"\n",
    "        Code for generating the synthetic data.\n",
    "        We will have two features and a binary class.\n",
    "        \n",
    "    \"\"\"\n",
    "\n",
    "    n_samples = 20 # generate these many data points per class\n",
    "    #For biased data\n",
    "    p_sen=0.2 #this parameter sets the probability of being protected (sensitive feature=1)\n",
    "    delta1=[3,-2] # This is the increment of the mean for the positive class\n",
    "    delta2=[3,-2] # This is the increment of the mean for the negative class\n",
    "    \n",
    "    \n",
    "    def gen_gaussian_sensitive(size, mean_in, cov_in, class_label, sensitive):\n",
    "        nv = multivariate_normal(mean = mean_in, cov = cov_in)\n",
    "        X = nv.rvs(size)\n",
    "        y = np.ones(size, dtype=int) * class_label\n",
    "        x_sen = np.ones(size, dtype=float) * sensitive\n",
    "        return nv,X,y,x_sen\n",
    "\n",
    "    \"\"\" Generate the features randomly \"\"\"\n",
    "    #For the NON-protected group (sensitive feature=0, for ex. men)\n",
    "    # We will generate one gaussian cluster for each class\n",
    "    mu1, sigma1 = [2, 2], [[5, 1], [1, 5]]\n",
    "    mu2, sigma2 = [-2,-2], [[10, 1], [1, 3]]\n",
    "    nv1, X1, y1, x_sen1= gen_gaussian_sensitive(int((1-p_sen)*n_samples), mu1, sigma1, 1,0) # positive class\n",
    "    nv2, X2, y2, x_sen2= gen_gaussian_sensitive(int((1-p_sen)*n_samples),mu2, sigma2, 0,0) # negative class\n",
    "    \n",
    "    \n",
    "    #For the Protected group (sensitive feature=1, for ex. women)\n",
    "    # We will generate one gaussian cluster for each class\n",
    "    mu3, sigma3 = np.add(mu1,delta1), [[5, 1], [1, 5]]\n",
    "    mu4, sigma4 = np.add(mu2,delta2), [[10, 1], [1, 3]]\n",
    "    nv3, X3, y3, x_sen3 = gen_gaussian_sensitive(int(p_sen*n_samples), mu3, sigma3, 1,1.) # positive class\n",
    "    nv4, X4, y4, x_sen4 = gen_gaussian_sensitive(int(p_sen*n_samples),mu4, sigma4, 0,1.) # negative class\n",
    "    \n",
    "\n",
    "    \n",
    "\n",
    "    # join the positive and negative class clusters\n",
    "    X = np.vstack((X1, X2, X3, X4))\n",
    "    y = np.hstack((y1, y2, y3, y4))\n",
    "    x_prot= np.hstack((x_sen1, x_sen2, x_sen3, x_sen4))\n",
    "    \n",
    "\n",
    "    # shuffle the data\n",
    "    perm = list(range(0,n_samples*2))\n",
    "    shuffle(perm)\n",
    "    X = X[perm]\n",
    "    y = y[perm]\n",
    "    x_prot=x_prot[perm]\n",
    "    \n",
    "    \n",
    "\n",
    "    return X,y,x_prot"
   ]
  },
  {
   "cell_type": "code",
   "execution_count": 63,
   "id": "6714b6ba",
   "metadata": {},
   "outputs": [],
   "source": [
    "X_syn, y_syn, x_bias = generate_synthetic_data_bias()"
   ]
  },
  {
   "cell_type": "code",
   "execution_count": 64,
   "id": "5904344d",
   "metadata": {},
   "outputs": [
    {
     "data": {
      "image/png": "[encoded data removed]",
      "text/plain": [
       "<Figure size 432x288 with 1 Axes>"
      ]
     },
     "metadata": {
      "needs_background": "light"
     },
     "output_type": "display_data"
    }
   ],
   "source": [
    "#plt.scatter(X_syn[y_syn==1][:, 0], X_syn[y_syn==1][:, 1], color='#378661', marker='x', s=40, linewidth=1.5, label= \"Class +1\")\n",
    "#plt.scatter(X_syn[y_syn==0][:, 0], X_syn[y_syn==0][:, 1], color='#A73730', marker='x', s=40, linewidth=1.5, label = \"Class 0\")\n",
    "\n",
    "X_s_0 = X_syn[x_bias == 0.0]\n",
    "X_s_1 = X_syn[x_bias == 1.0]\n",
    "y_s_0 = y_syn[x_bias == 0.0]\n",
    "y_s_1 = y_syn[x_bias == 1.0]\n",
    "\n",
    "# SVM Classifier model\n",
    "#the hyperparameter C control the margin violations\n",
    "#smaller C leads to more margin violations but wider margin\n",
    "\n",
    "svm_clf = SVC(kernel=\"linear\", C=float(4))\n",
    "svm_clf.fit(X_syn, y_syn)\n",
    "\n",
    "plot_svc_decision_boundary(svm_clf, -6, 9)\n",
    "plt.scatter(X_s_0[y_s_0==1][:, 0], X_s_0[y_s_0==1][:, 1], color='green', marker='x', s=40, linewidth=1.5, label= \"Non-prot. +1\")\n",
    "plt.scatter(X_s_0[y_s_0==0][:, 0], X_s_0[y_s_0==0][:, 1], color='red', marker='x', s=40, linewidth=1.5, label = \"Non-prot. 0\")\n",
    "plt.scatter(X_s_1[y_s_1==1][:, 0], X_s_1[y_s_1==1][:, 1], color='green', marker='o', facecolors='none', s=40, label = \"Prot. +1\")\n",
    "plt.scatter(X_s_1[y_s_1==0][:, 0], X_s_1[y_s_1==0][:, 1], color='red', marker='o', facecolors='none', s=40, label = \"Prot. 0\")\n",
    "\n",
    "#plt.savefig('aggre.png')\n",
    "plt.show()"
   ]
  },
  {
   "cell_type": "markdown",
   "id": "cdcf318d",
   "metadata": {},
   "source": [
    "First we calculate the accuracy of the SVM classifier in our dataset:"
   ]
  },
  {
   "cell_type": "code",
   "execution_count": 65,
   "id": "f1f5eca1",
   "metadata": {},
   "outputs": [
    {
     "name": "stdout",
     "output_type": "stream",
     "text": [
      "Accuracy: 82.5 %\n"
     ]
    }
   ],
   "source": [
    "#Accuracy\n",
    "y_pred=svm_clf.predict(X_syn)\n",
    "\n",
    "print(\"Accuracy: %.1f\" % (metrics.accuracy_score(y_syn, y_pred)*100), \"%\")\n"
   ]
  },
  {
   "cell_type": "markdown",
   "id": "fcfc5e96",
   "metadata": {},
   "source": [
    "We first implement the equal opportunity metric:"
   ]
  },
  {
   "cell_type": "code",
   "execution_count": 66,
   "id": "388538c7",
   "metadata": {},
   "outputs": [],
   "source": [
    "# Let us now implement the equal opportunity metric:\n",
    "def equal_opportunity(y, y_pred, x_prot):\n",
    "    Pos_pro = 0.0\n",
    "    Pos_nonpro = 0.0\n",
    "    PPos_pro = 0.0\n",
    "    PPos_nonpro = 0.0\n",
    "\n",
    "    n = y_pred.size\n",
    "\n",
    "    for i in range(0, n):\n",
    "        if (y[i] == 1 and x_prot[i] == 0):\n",
    "            Pos_nonpro = Pos_nonpro+1\n",
    "            if (y_pred[i] == 1):\n",
    "                PPos_nonpro = PPos_nonpro+1\n",
    "        if (y[i] == 1 and x_prot[i] == 1):\n",
    "            Pos_pro = Pos_pro+1\n",
    "            if (y_pred[i] == 1):\n",
    "                PPos_pro = PPos_pro+1\n",
    "    # print(Pos_nonpro)\n",
    "    # print(Pos_pro)\n",
    "    # print(PPos_pro)\n",
    "    # print(PPos_nonpro)\n",
    "    UNF_EOpp = abs((PPos_nonpro/Pos_nonpro)-(PPos_pro/Pos_pro))\n",
    "\n",
    "    return UNF_EOpp\n"
   ]
  },
  {
   "cell_type": "code",
   "execution_count": 67,
   "id": "3974e220",
   "metadata": {},
   "outputs": [
    {
     "name": "stdout",
     "output_type": "stream",
     "text": [
      "UNF_EOpp = 43.75 %\n"
     ]
    }
   ],
   "source": [
    "UNF_EOpp=equal_opportunity(y_syn,y_pred, x_bias)\n",
    "print('UNF_EOpp = %.2f' % (UNF_EOpp*100),\"%\")"
   ]
  },
  {
   "cell_type": "code",
   "execution_count": 72,
   "metadata": {},
   "outputs": [
    {
     "data": {
      "text/plain": [
       "0.4375"
      ]
     },
     "execution_count": 72,
     "metadata": {},
     "output_type": "execute_result"
    }
   ],
   "source": [
    "np.abs(\n",
    "    y_pred[np.all([x_bias == 0, y_syn == 1], axis=0)].sum() / np.all([x_bias == 0, y_syn == 1], axis=0).sum()\\\n",
    "    - y_pred[np.all([x_bias == 1, y_syn == 1], axis=0)].sum() / np.all([x_bias == 1, y_syn == 1], axis=0).sum()\n",
    ")"
   ]
  },
  {
   "cell_type": "markdown",
   "id": "2d1f5be3",
   "metadata": {},
   "source": [
    "### Questions:\n",
    "\n",
    "\n",
    "**1-** Calculate the predictive equality metric for the given dataset and classifier.\n"
   ]
  },
  {
   "cell_type": "code",
   "execution_count": 73,
   "id": "3ef46875",
   "metadata": {},
   "outputs": [
    {
     "data": {
      "text/plain": [
       "0.25"
      ]
     },
     "execution_count": 73,
     "metadata": {},
     "output_type": "execute_result"
    }
   ],
   "source": [
    "np.abs(\n",
    "    y_pred[np.all([x_bias == 0, y_syn == 0], axis=0)].sum() / np.all([x_bias == 0, y_syn == 0], axis=0).sum()\\\n",
    "    - y_pred[np.all([x_bias == 1, y_syn == 0], axis=0)].sum() / np.all([x_bias == 1, y_syn == 0], axis=0).sum()\n",
    ")"
   ]
  },
  {
   "cell_type": "markdown",
   "id": "9797fab4",
   "metadata": {},
   "source": [
    "\n",
    "**2-** Calculate the equalized odds metric for the given dataset and classifier.\n"
   ]
  },
  {
   "cell_type": "code",
   "execution_count": 79,
   "id": "3ef46875",
   "metadata": {},
   "outputs": [
    {
     "data": {
      "text/plain": [
       "0.6875"
      ]
     },
     "execution_count": 79,
     "metadata": {},
     "output_type": "execute_result"
    }
   ],
   "source": [
    "np.abs(\n",
    "    y_pred[np.all([x_bias == 0, y_syn == 1], axis=0)].sum() / np.all([x_bias == 0, y_syn == 1], axis=0).sum()\\\n",
    "     - y_pred[np.all([x_bias == 1, y_syn == 1], axis=0)].sum() / np.all([x_bias == 1, y_syn == 1], axis=0).sum()\n",
    ")\\\n",
    "+\\\n",
    "np.abs(\n",
    "y_pred[np.all([x_bias == 0, y_syn == 0], axis=0)].sum() / np.all([x_bias == 0, y_syn == 0], axis=0).sum()\\\n",
    " - y_pred[np.all([x_bias == 1, y_syn == 0], axis=0)].sum() / np.all([x_bias == 1, y_syn == 0], axis=0).sum()\n",
    ")"
   ]
  },
  {
   "cell_type": "markdown",
   "id": "60a0790e",
   "metadata": {},
   "source": [
    "\n",
    "**3-** Calculate the predictive parity metric for the given dataset and classifier.\n"
   ]
  },
  {
   "cell_type": "code",
   "execution_count": 80,
   "id": "3ef46875",
   "metadata": {},
   "outputs": [
    {
     "data": {
      "text/plain": [
       "0.21052631578947367"
      ]
     },
     "execution_count": 80,
     "metadata": {},
     "output_type": "execute_result"
    }
   ],
   "source": [
    "np.abs(\n",
    "    y_syn[np.all([x_bias == 0, y_pred == 1], axis=0)].sum() / np.all([x_bias == 0, y_pred == 1], axis=0).sum()\\\n",
    "    - y_syn[np.all([x_bias == 1, y_pred == 1], axis=0)].sum() / np.all([x_bias == 1, y_pred == 1], axis=0).sum()\n",
    ")"
   ]
  },
  {
   "cell_type": "markdown",
   "id": "ee2f2732",
   "metadata": {},
   "source": [
    "\n",
    "**4-** Calculate the statistical parity metric for the given dataset and classifier.\n"
   ]
  },
  {
   "cell_type": "code",
   "execution_count": 87,
   "id": "3ef46875",
   "metadata": {},
   "outputs": [
    {
     "data": {
      "text/plain": [
       "0.34375"
      ]
     },
     "execution_count": 87,
     "metadata": {},
     "output_type": "execute_result"
    }
   ],
   "source": [
    "np.abs(\n",
    "    y_pred[np.all([x_bias == 0], axis=0)].sum() / np.all([x_bias == 0], axis=0).sum()\\\n",
    "    - y_pred[np.all([x_bias == 1], axis=0)].sum() / np.all([x_bias == 1], axis=0).sum()\n",
    ")"
   ]
  },
  {
   "cell_type": "markdown",
   "id": "bb17838a",
   "metadata": {},
   "source": [
    "**5-** a)Calculate the disparate impact metric for the given dataset and classifier.\n"
   ]
  },
  {
   "cell_type": "code",
   "execution_count": 110,
   "id": "3ef46875",
   "metadata": {},
   "outputs": [
    {
     "data": {
      "text/plain": [
       "0.42105263157894735"
      ]
     },
     "execution_count": 110,
     "metadata": {},
     "output_type": "execute_result"
    }
   ],
   "source": [
    "np.minimum(\n",
    "    (y_pred[np.all([x_bias == 0], axis=0)].sum() / np.all([x_bias == 0], axis=0).sum())\\\n",
    "    /(y_pred[np.all([x_bias == 1], axis=0)].sum() / np.all([x_bias == 1], axis=0).sum()),\n",
    "    (y_pred[np.all([x_bias == 1], axis=0)].sum() / np.all([x_bias == 1], axis=0).sum())\\\n",
    "    /(y_pred[np.all([x_bias == 0], axis=0)].sum() / np.all([x_bias == 0], axis=0).sum())\\\n",
    ")"
   ]
  },
  {
   "cell_type": "markdown",
   "id": "82a84f53",
   "metadata": {},
   "source": [
    "\n",
    "  b)Does this classifier satisfy the 80%-rule?\n",
    "  \n"
   ]
  },
  {
   "cell_type": "markdown",
   "id": "a46434e8",
   "metadata": {},
   "source": [
    "## 6.2 Fairness metrics for the German dataset"
   ]
  },
  {
   "cell_type": "code",
   "execution_count": 111,
   "id": "b948976b",
   "metadata": {},
   "outputs": [],
   "source": [
    "German_data=np.loadtxt('German.txt')\n",
    "i_prot=40 #the protected features corresponds with column 40 from the txt file\n",
    "n_sample=500 # we define our training sample size\n",
    "C_param=5\n",
    "\n",
    "X_German=np.delete(German_data,[0,i_prot],1) #We eliminate the first column that correspond to labels and the protected feature\n",
    "\n",
    "y_German=German_data[:,0] #labels\n",
    "x_bias_german=German_data[:,i_prot] #protected feature\n",
    "\n",
    "#Now let us consider a training set\n",
    "X_G=X_German[1:n_sample,:]\n",
    "y_G=y_German[1:n_sample]\n",
    "x_bias_G=x_bias_german[1:n_sample]\n",
    "\n",
    "\n",
    "# SVM Classifier model\n",
    "#the hyperparameter C control the margin violations\n",
    "#smaller C leads to more margin violations but wider margin\n",
    "\n",
    "svm_clf = SVC(kernel=\"linear\", C=float(C_param))\n",
    "svm_clf.fit(X_G, y_G)\n",
    "\n",
    "y_pred_G=svm_clf.predict(X_G)"
   ]
  },
  {
   "cell_type": "code",
   "execution_count": null,
   "id": "c57efe41",
   "metadata": {},
   "outputs": [],
   "source": []
  },
  {
   "cell_type": "markdown",
   "id": "ddc60ee4",
   "metadata": {},
   "source": [
    "### Questions:\n",
    "In the code before, we set i_prot=40, which means we consider the protected feature being \"female divorced/separated/married\". Under this choice:\n",
    "\n",
    "**6-** Provide a table with the accuracy and the 6 fairness metrics.\n",
    "\n",
    "**7-** Does this classifier satisfy the 80%-rule?\n",
    "\n",
    "Now choose as protected feature being \"male divorced/separated\", i.e., i_prot=39. Under this choice:\n",
    "\n",
    "**8-** Provide a table with the 6 fairness metrics.\n",
    "\n",
    "**9-** Does this classifier satisfy the 80%-rule?\n",
    "\n",
    "**10-** Which conclusion do you obtain comparing the tables from 6 and 8?"
   ]
  },
  {
   "cell_type": "markdown",
   "id": "ed1f354a",
   "metadata": {},
   "source": [
    "<h2> 6.3 The COMPAS dataset. What happens if we change the choice of variables?</h2> \n",
    "\n",
    "Let's take our own decisions:"
   ]
  },
  {
   "cell_type": "code",
   "execution_count": 114,
   "id": "8a6d3033",
   "metadata": {},
   "outputs": [],
   "source": [
    "# filter dplyr warnings\n",
    "%load_ext rpy2.ipython\n",
    "import warnings\n",
    "warnings.filterwarnings('ignore')"
   ]
  },
  {
   "cell_type": "code",
   "execution_count": 116,
   "id": "9768d9b1",
   "metadata": {},
   "outputs": [
    {
     "name": "stderr",
     "output_type": "stream",
     "text": [
      "R[write to console]: Error in scan(file = file, what = what, sep = sep, quote = quote, dec = dec,  : \n",
      "  cannot read from connection\n",
      "\n",
      "R[write to console]: In addition: \n",
      "R[write to console]: Warning message:\n",
      "\n",
      "R[write to console]: In scan(file = file, what = what, sep = sep, quote = quote, dec = dec,  :\n",
      "R[write to console]: \n",
      " \n",
      "R[write to console]:  URL 'https://raw.githubusercontent.com/propublica/compas-analysis/master/compas-scores-two-years.csv': Timeout of 60 seconds was reached\n",
      "\n"
     ]
    },
    {
     "name": "stdout",
     "output_type": "stream",
     "text": [
      "\n",
      "Error in scan(file = file, what = what, sep = sep, quote = quote, dec = dec,  : \n",
      "  cannot read from connection\n"
     ]
    },
    {
     "ename": "RInterpreterError",
     "evalue": "Failed to parse and evaluate line 'library(dplyr)\\n#You can choose your favorite option:\\n#a)Download the dataset and access it locally\\n# raw_data <- read.csv(\"./compas-scores-two-years.csv\") \\n#b)Access the dataset directly from the repository\\nraw_data <- read.csv(\"https://raw.githubusercontent.com/propublica/compas-analysis/master/compas-scores-two-years.csv\")\\nnrow(raw_data)\\ncolnames(raw_data)\\n'.\nR error message: 'Error in scan(file = file, what = what, sep = sep, quote = quote, dec = dec,  : \\n  cannot read from connection'",
     "output_type": "error",
     "traceback": [
      "\u001b[0;31m---------------------------------------------------------------------------\u001b[0m",
      "\u001b[0;31mRRuntimeError\u001b[0m                             Traceback (most recent call last)",
      "\u001b[0;32m~/.local/lib/python3.9/site-packages/rpy2/ipython/rmagic.py\u001b[0m in \u001b[0;36meval\u001b[0;34m(self, code)\u001b[0m\n\u001b[1;32m    267\u001b[0m                 \u001b[0;31m# Need the newline in case the last line in code is a comment.\u001b[0m\u001b[0;34m\u001b[0m\u001b[0;34m\u001b[0m\u001b[0m\n\u001b[0;32m--> 268\u001b[0;31m                 \u001b[0mvalue\u001b[0m\u001b[0;34m,\u001b[0m \u001b[0mvisible\u001b[0m \u001b[0;34m=\u001b[0m \u001b[0mro\u001b[0m\u001b[0;34m.\u001b[0m\u001b[0mr\u001b[0m\u001b[0;34m(\u001b[0m\u001b[0;34m\"withVisible({%s\\n})\"\u001b[0m \u001b[0;34m%\u001b[0m \u001b[0mcode\u001b[0m\u001b[0;34m)\u001b[0m\u001b[0;34m\u001b[0m\u001b[0;34m\u001b[0m\u001b[0m\n\u001b[0m\u001b[1;32m    269\u001b[0m             \u001b[0;32mexcept\u001b[0m \u001b[0;34m(\u001b[0m\u001b[0mri\u001b[0m\u001b[0;34m.\u001b[0m\u001b[0membedded\u001b[0m\u001b[0;34m.\u001b[0m\u001b[0mRRuntimeError\u001b[0m\u001b[0;34m,\u001b[0m \u001b[0mValueError\u001b[0m\u001b[0;34m)\u001b[0m \u001b[0;32mas\u001b[0m \u001b[0mexception\u001b[0m\u001b[0;34m:\u001b[0m\u001b[0;34m\u001b[0m\u001b[0;34m\u001b[0m\u001b[0m\n",
      "\u001b[0;32m~/.local/lib/python3.9/site-packages/rpy2/robjects/__init__.py\u001b[0m in \u001b[0;36m__call__\u001b[0;34m(self, string)\u001b[0m\n\u001b[1;32m    437\u001b[0m         \u001b[0mp\u001b[0m \u001b[0;34m=\u001b[0m \u001b[0mrinterface\u001b[0m\u001b[0;34m.\u001b[0m\u001b[0mparse\u001b[0m\u001b[0;34m(\u001b[0m\u001b[0mstring\u001b[0m\u001b[0;34m)\u001b[0m\u001b[0;34m\u001b[0m\u001b[0;34m\u001b[0m\u001b[0m\n\u001b[0;32m--> 438\u001b[0;31m         \u001b[0mres\u001b[0m \u001b[0;34m=\u001b[0m \u001b[0mself\u001b[0m\u001b[0;34m.\u001b[0m\u001b[0meval\u001b[0m\u001b[0;34m(\u001b[0m\u001b[0mp\u001b[0m\u001b[0;34m)\u001b[0m\u001b[0;34m\u001b[0m\u001b[0;34m\u001b[0m\u001b[0m\n\u001b[0m\u001b[1;32m    439\u001b[0m         \u001b[0;32mreturn\u001b[0m \u001b[0mconversion\u001b[0m\u001b[0;34m.\u001b[0m\u001b[0mrpy2py\u001b[0m\u001b[0;34m(\u001b[0m\u001b[0mres\u001b[0m\u001b[0;34m)\u001b[0m\u001b[0;34m\u001b[0m\u001b[0;34m\u001b[0m\u001b[0m\n",
      "\u001b[0;32m~/.local/lib/python3.9/site-packages/rpy2/robjects/functions.py\u001b[0m in \u001b[0;36m__call__\u001b[0;34m(self, *args, **kwargs)\u001b[0m\n\u001b[1;32m    197\u001b[0m                 \u001b[0mkwargs\u001b[0m\u001b[0;34m[\u001b[0m\u001b[0mr_k\u001b[0m\u001b[0;34m]\u001b[0m \u001b[0;34m=\u001b[0m \u001b[0mv\u001b[0m\u001b[0;34m\u001b[0m\u001b[0;34m\u001b[0m\u001b[0m\n\u001b[0;32m--> 198\u001b[0;31m         return (super(SignatureTranslatedFunction, self)\n\u001b[0m\u001b[1;32m    199\u001b[0m                 .__call__(*args, **kwargs))\n",
      "\u001b[0;32m~/.local/lib/python3.9/site-packages/rpy2/robjects/functions.py\u001b[0m in \u001b[0;36m__call__\u001b[0;34m(self, *args, **kwargs)\u001b[0m\n\u001b[1;32m    124\u001b[0m                 \u001b[0mnew_kwargs\u001b[0m\u001b[0;34m[\u001b[0m\u001b[0mk\u001b[0m\u001b[0;34m]\u001b[0m \u001b[0;34m=\u001b[0m \u001b[0mconversion\u001b[0m\u001b[0;34m.\u001b[0m\u001b[0mpy2rpy\u001b[0m\u001b[0;34m(\u001b[0m\u001b[0mv\u001b[0m\u001b[0;34m)\u001b[0m\u001b[0;34m\u001b[0m\u001b[0;34m\u001b[0m\u001b[0m\n\u001b[0;32m--> 125\u001b[0;31m         \u001b[0mres\u001b[0m \u001b[0;34m=\u001b[0m \u001b[0msuper\u001b[0m\u001b[0;34m(\u001b[0m\u001b[0mFunction\u001b[0m\u001b[0;34m,\u001b[0m \u001b[0mself\u001b[0m\u001b[0;34m)\u001b[0m\u001b[0;34m.\u001b[0m\u001b[0m__call__\u001b[0m\u001b[0;34m(\u001b[0m\u001b[0;34m*\u001b[0m\u001b[0mnew_args\u001b[0m\u001b[0;34m,\u001b[0m \u001b[0;34m**\u001b[0m\u001b[0mnew_kwargs\u001b[0m\u001b[0;34m)\u001b[0m\u001b[0;34m\u001b[0m\u001b[0;34m\u001b[0m\u001b[0m\n\u001b[0m\u001b[1;32m    126\u001b[0m         \u001b[0mres\u001b[0m \u001b[0;34m=\u001b[0m \u001b[0mconversion\u001b[0m\u001b[0;34m.\u001b[0m\u001b[0mrpy2py\u001b[0m\u001b[0;34m(\u001b[0m\u001b[0mres\u001b[0m\u001b[0;34m)\u001b[0m\u001b[0;34m\u001b[0m\u001b[0;34m\u001b[0m\u001b[0m\n",
      "\u001b[0;32m~/.local/lib/python3.9/site-packages/rpy2/rinterface_lib/conversion.py\u001b[0m in \u001b[0;36m_\u001b[0;34m(*args, **kwargs)\u001b[0m\n\u001b[1;32m     44\u001b[0m     \u001b[0;32mdef\u001b[0m \u001b[0m_\u001b[0m\u001b[0;34m(\u001b[0m\u001b[0;34m*\u001b[0m\u001b[0margs\u001b[0m\u001b[0;34m,\u001b[0m \u001b[0;34m**\u001b[0m\u001b[0mkwargs\u001b[0m\u001b[0;34m)\u001b[0m\u001b[0;34m:\u001b[0m\u001b[0;34m\u001b[0m\u001b[0;34m\u001b[0m\u001b[0m\n\u001b[0;32m---> 45\u001b[0;31m         \u001b[0mcdata\u001b[0m \u001b[0;34m=\u001b[0m \u001b[0mfunction\u001b[0m\u001b[0;34m(\u001b[0m\u001b[0;34m*\u001b[0m\u001b[0margs\u001b[0m\u001b[0;34m,\u001b[0m \u001b[0;34m**\u001b[0m\u001b[0mkwargs\u001b[0m\u001b[0;34m)\u001b[0m\u001b[0;34m\u001b[0m\u001b[0;34m\u001b[0m\u001b[0m\n\u001b[0m\u001b[1;32m     46\u001b[0m         \u001b[0;31m# TODO: test cdata is of the expected CType\u001b[0m\u001b[0;34m\u001b[0m\u001b[0;34m\u001b[0m\u001b[0m\n",
      "\u001b[0;32m~/.local/lib/python3.9/site-packages/rpy2/rinterface.py\u001b[0m in \u001b[0;36m__call__\u001b[0;34m(self, *args, **kwargs)\u001b[0m\n\u001b[1;32m    679\u001b[0m             \u001b[0;32mif\u001b[0m \u001b[0merror_occured\u001b[0m\u001b[0;34m[\u001b[0m\u001b[0;36m0\u001b[0m\u001b[0;34m]\u001b[0m\u001b[0;34m:\u001b[0m\u001b[0;34m\u001b[0m\u001b[0;34m\u001b[0m\u001b[0m\n\u001b[0;32m--> 680\u001b[0;31m                 \u001b[0;32mraise\u001b[0m \u001b[0membedded\u001b[0m\u001b[0;34m.\u001b[0m\u001b[0mRRuntimeError\u001b[0m\u001b[0;34m(\u001b[0m\u001b[0m_rinterface\u001b[0m\u001b[0;34m.\u001b[0m\u001b[0m_geterrmessage\u001b[0m\u001b[0;34m(\u001b[0m\u001b[0;34m)\u001b[0m\u001b[0;34m)\u001b[0m\u001b[0;34m\u001b[0m\u001b[0;34m\u001b[0m\u001b[0m\n\u001b[0m\u001b[1;32m    681\u001b[0m         \u001b[0;32mreturn\u001b[0m \u001b[0mres\u001b[0m\u001b[0;34m\u001b[0m\u001b[0;34m\u001b[0m\u001b[0m\n",
      "\u001b[0;31mRRuntimeError\u001b[0m: Error in scan(file = file, what = what, sep = sep, quote = quote, dec = dec,  : \n  cannot read from connection\n",
      "\nDuring handling of the above exception, another exception occurred:\n",
      "\u001b[0;31mRInterpreterError\u001b[0m                         Traceback (most recent call last)",
      "\u001b[0;32m/tmp/ipykernel_58462/344262038.py\u001b[0m in \u001b[0;36m<module>\u001b[0;34m\u001b[0m\n\u001b[0;32m----> 1\u001b[0;31m \u001b[0mget_ipython\u001b[0m\u001b[0;34m(\u001b[0m\u001b[0;34m)\u001b[0m\u001b[0;34m.\u001b[0m\u001b[0mrun_cell_magic\u001b[0m\u001b[0;34m(\u001b[0m\u001b[0;34m'R'\u001b[0m\u001b[0;34m,\u001b[0m \u001b[0;34m''\u001b[0m\u001b[0;34m,\u001b[0m \u001b[0;34m'library(dplyr)\\n#You can choose your favorite option:\\n#a)Download the dataset and access it locally\\n# raw_data <- read.csv(\"./compas-scores-two-years.csv\") \\n#b)Access the dataset directly from the repository\\nraw_data <- read.csv(\"https://raw.githubusercontent.com/propublica/compas-analysis/master/compas-scores-two-years.csv\")\\nnrow(raw_data)\\ncolnames(raw_data)\\n'\u001b[0m\u001b[0;34m)\u001b[0m\u001b[0;34m\u001b[0m\u001b[0;34m\u001b[0m\u001b[0m\n\u001b[0m",
      "\u001b[0;32m~/.local/lib/python3.9/site-packages/IPython/core/interactiveshell.py\u001b[0m in \u001b[0;36mrun_cell_magic\u001b[0;34m(self, magic_name, line, cell)\u001b[0m\n\u001b[1;32m   2404\u001b[0m             \u001b[0;32mwith\u001b[0m \u001b[0mself\u001b[0m\u001b[0;34m.\u001b[0m\u001b[0mbuiltin_trap\u001b[0m\u001b[0;34m:\u001b[0m\u001b[0;34m\u001b[0m\u001b[0;34m\u001b[0m\u001b[0m\n\u001b[1;32m   2405\u001b[0m                 \u001b[0margs\u001b[0m \u001b[0;34m=\u001b[0m \u001b[0;34m(\u001b[0m\u001b[0mmagic_arg_s\u001b[0m\u001b[0;34m,\u001b[0m \u001b[0mcell\u001b[0m\u001b[0;34m)\u001b[0m\u001b[0;34m\u001b[0m\u001b[0;34m\u001b[0m\u001b[0m\n\u001b[0;32m-> 2406\u001b[0;31m                 \u001b[0mresult\u001b[0m \u001b[0;34m=\u001b[0m \u001b[0mfn\u001b[0m\u001b[0;34m(\u001b[0m\u001b[0;34m*\u001b[0m\u001b[0margs\u001b[0m\u001b[0;34m,\u001b[0m \u001b[0;34m**\u001b[0m\u001b[0mkwargs\u001b[0m\u001b[0;34m)\u001b[0m\u001b[0;34m\u001b[0m\u001b[0;34m\u001b[0m\u001b[0m\n\u001b[0m\u001b[1;32m   2407\u001b[0m             \u001b[0;32mreturn\u001b[0m \u001b[0mresult\u001b[0m\u001b[0;34m\u001b[0m\u001b[0;34m\u001b[0m\u001b[0m\n\u001b[1;32m   2408\u001b[0m \u001b[0;34m\u001b[0m\u001b[0m\n",
      "\u001b[0;32m<decorator-gen-121>\u001b[0m in \u001b[0;36mR\u001b[0;34m(self, line, cell, local_ns)\u001b[0m\n",
      "\u001b[0;32m~/.local/lib/python3.9/site-packages/IPython/core/magic.py\u001b[0m in \u001b[0;36m<lambda>\u001b[0;34m(f, *a, **k)\u001b[0m\n\u001b[1;32m    185\u001b[0m     \u001b[0;31m# but it's overkill for just that one bit of state.\u001b[0m\u001b[0;34m\u001b[0m\u001b[0;34m\u001b[0m\u001b[0m\n\u001b[1;32m    186\u001b[0m     \u001b[0;32mdef\u001b[0m \u001b[0mmagic_deco\u001b[0m\u001b[0;34m(\u001b[0m\u001b[0marg\u001b[0m\u001b[0;34m)\u001b[0m\u001b[0;34m:\u001b[0m\u001b[0;34m\u001b[0m\u001b[0;34m\u001b[0m\u001b[0m\n\u001b[0;32m--> 187\u001b[0;31m         \u001b[0mcall\u001b[0m \u001b[0;34m=\u001b[0m \u001b[0;32mlambda\u001b[0m \u001b[0mf\u001b[0m\u001b[0;34m,\u001b[0m \u001b[0;34m*\u001b[0m\u001b[0ma\u001b[0m\u001b[0;34m,\u001b[0m \u001b[0;34m**\u001b[0m\u001b[0mk\u001b[0m\u001b[0;34m:\u001b[0m \u001b[0mf\u001b[0m\u001b[0;34m(\u001b[0m\u001b[0;34m*\u001b[0m\u001b[0ma\u001b[0m\u001b[0;34m,\u001b[0m \u001b[0;34m**\u001b[0m\u001b[0mk\u001b[0m\u001b[0;34m)\u001b[0m\u001b[0;34m\u001b[0m\u001b[0;34m\u001b[0m\u001b[0m\n\u001b[0m\u001b[1;32m    188\u001b[0m \u001b[0;34m\u001b[0m\u001b[0m\n\u001b[1;32m    189\u001b[0m         \u001b[0;32mif\u001b[0m \u001b[0mcallable\u001b[0m\u001b[0;34m(\u001b[0m\u001b[0marg\u001b[0m\u001b[0;34m)\u001b[0m\u001b[0;34m:\u001b[0m\u001b[0;34m\u001b[0m\u001b[0;34m\u001b[0m\u001b[0m\n",
      "\u001b[0;32m~/.local/lib/python3.9/site-packages/rpy2/ipython/rmagic.py\u001b[0m in \u001b[0;36mR\u001b[0;34m(self, line, cell, local_ns)\u001b[0m\n\u001b[1;32m    781\u001b[0m             \u001b[0;32mif\u001b[0m \u001b[0;32mnot\u001b[0m \u001b[0me\u001b[0m\u001b[0;34m.\u001b[0m\u001b[0mstdout\u001b[0m\u001b[0;34m.\u001b[0m\u001b[0mendswith\u001b[0m\u001b[0;34m(\u001b[0m\u001b[0me\u001b[0m\u001b[0;34m.\u001b[0m\u001b[0merr\u001b[0m\u001b[0;34m)\u001b[0m\u001b[0;34m:\u001b[0m\u001b[0;34m\u001b[0m\u001b[0;34m\u001b[0m\u001b[0m\n\u001b[1;32m    782\u001b[0m                 \u001b[0mprint\u001b[0m\u001b[0;34m(\u001b[0m\u001b[0me\u001b[0m\u001b[0;34m.\u001b[0m\u001b[0merr\u001b[0m\u001b[0;34m)\u001b[0m\u001b[0;34m\u001b[0m\u001b[0;34m\u001b[0m\u001b[0m\n\u001b[0;32m--> 783\u001b[0;31m             \u001b[0;32mraise\u001b[0m \u001b[0me\u001b[0m\u001b[0;34m\u001b[0m\u001b[0;34m\u001b[0m\u001b[0m\n\u001b[0m\u001b[1;32m    784\u001b[0m         \u001b[0;32mfinally\u001b[0m\u001b[0;34m:\u001b[0m\u001b[0;34m\u001b[0m\u001b[0;34m\u001b[0m\u001b[0m\n\u001b[1;32m    785\u001b[0m             \u001b[0;32mif\u001b[0m \u001b[0mself\u001b[0m\u001b[0;34m.\u001b[0m\u001b[0mdevice\u001b[0m \u001b[0;32min\u001b[0m \u001b[0;34m[\u001b[0m\u001b[0;34m'png'\u001b[0m\u001b[0;34m,\u001b[0m \u001b[0;34m'svg'\u001b[0m\u001b[0;34m]\u001b[0m\u001b[0;34m:\u001b[0m\u001b[0;34m\u001b[0m\u001b[0;34m\u001b[0m\u001b[0m\n",
      "\u001b[0;32m~/.local/lib/python3.9/site-packages/rpy2/ipython/rmagic.py\u001b[0m in \u001b[0;36mR\u001b[0;34m(self, line, cell, local_ns)\u001b[0m\n\u001b[1;32m    761\u001b[0m                     \u001b[0mreturn_output\u001b[0m \u001b[0;34m=\u001b[0m \u001b[0;32mFalse\u001b[0m\u001b[0;34m\u001b[0m\u001b[0;34m\u001b[0m\u001b[0m\n\u001b[1;32m    762\u001b[0m             \u001b[0;32melse\u001b[0m\u001b[0;34m:\u001b[0m\u001b[0;34m\u001b[0m\u001b[0;34m\u001b[0m\u001b[0m\n\u001b[0;32m--> 763\u001b[0;31m                 \u001b[0mtext_result\u001b[0m\u001b[0;34m,\u001b[0m \u001b[0mresult\u001b[0m\u001b[0;34m,\u001b[0m \u001b[0mvisible\u001b[0m \u001b[0;34m=\u001b[0m \u001b[0mself\u001b[0m\u001b[0;34m.\u001b[0m\u001b[0meval\u001b[0m\u001b[0;34m(\u001b[0m\u001b[0mcode\u001b[0m\u001b[0;34m)\u001b[0m\u001b[0;34m\u001b[0m\u001b[0;34m\u001b[0m\u001b[0m\n\u001b[0m\u001b[1;32m    764\u001b[0m                 \u001b[0mtext_output\u001b[0m \u001b[0;34m+=\u001b[0m \u001b[0mtext_result\u001b[0m\u001b[0;34m\u001b[0m\u001b[0;34m\u001b[0m\u001b[0m\n\u001b[1;32m    765\u001b[0m                 \u001b[0;32mif\u001b[0m \u001b[0mvisible\u001b[0m\u001b[0;34m:\u001b[0m\u001b[0;34m\u001b[0m\u001b[0;34m\u001b[0m\u001b[0m\n",
      "\u001b[0;32m~/.local/lib/python3.9/site-packages/rpy2/ipython/rmagic.py\u001b[0m in \u001b[0;36meval\u001b[0;34m(self, code)\u001b[0m\n\u001b[1;32m    270\u001b[0m                 \u001b[0;31m# Otherwise next return seems to have copy of error.\u001b[0m\u001b[0;34m\u001b[0m\u001b[0;34m\u001b[0m\u001b[0m\n\u001b[1;32m    271\u001b[0m                 \u001b[0mwarning_or_other_msg\u001b[0m \u001b[0;34m=\u001b[0m \u001b[0mself\u001b[0m\u001b[0;34m.\u001b[0m\u001b[0mflush\u001b[0m\u001b[0;34m(\u001b[0m\u001b[0;34m)\u001b[0m\u001b[0;34m\u001b[0m\u001b[0;34m\u001b[0m\u001b[0m\n\u001b[0;32m--> 272\u001b[0;31m                 raise RInterpreterError(code, str(exception),\n\u001b[0m\u001b[1;32m    273\u001b[0m                                         warning_or_other_msg)\n\u001b[1;32m    274\u001b[0m             \u001b[0mtext_output\u001b[0m \u001b[0;34m=\u001b[0m \u001b[0mself\u001b[0m\u001b[0;34m.\u001b[0m\u001b[0mflush\u001b[0m\u001b[0;34m(\u001b[0m\u001b[0;34m)\u001b[0m\u001b[0;34m\u001b[0m\u001b[0;34m\u001b[0m\u001b[0m\n",
      "\u001b[0;31mRInterpreterError\u001b[0m: Failed to parse and evaluate line 'library(dplyr)\\n#You can choose your favorite option:\\n#a)Download the dataset and access it locally\\n# raw_data <- read.csv(\"./compas-scores-two-years.csv\") \\n#b)Access the dataset directly from the repository\\nraw_data <- read.csv(\"https://raw.githubusercontent.com/propublica/compas-analysis/master/compas-scores-two-years.csv\")\\nnrow(raw_data)\\ncolnames(raw_data)\\n'.\nR error message: 'Error in scan(file = file, what = what, sep = sep, quote = quote, dec = dec,  : \\n  cannot read from connection'"
     ]
    }
   ],
   "source": [
    "%%R\n",
    "library(dplyr)\n",
    "#You can choose your favorite option:\n",
    "#a)Download the dataset and access it locally\n",
    "# raw_data <- read.csv(\"./compas-scores-two-years.csv\") \n",
    "#b)Access the dataset directly from the repository\n",
    "raw_data <- read.csv(\"https://raw.githubusercontent.com/propublica/compas-analysis/master/compas-scores-two-years.csv\")\n",
    "nrow(raw_data)\n",
    "colnames(raw_data)"
   ]
  },
  {
   "cell_type": "markdown",
   "id": "4dd678ec",
   "metadata": {},
   "source": [
    "Note: if you obtain the following error: \"UsageError: Cell magic `%%R` not found.\"\n",
    "Try this solution: pip install rpy2\n",
    "\n",
    "\n",
    "## Filtering of data\n",
    "\n",
    "<em>In a 2009 study examining the predictive power of its COMPAS score, Northpointe defined recidivism as “a finger-printable arrest involving a charge and a filing for any uniform crime reporting (UCR) code.” We interpreted that to mean a criminal offense that resulted in a jail booking and took place after the crime for which the person was COMPAS scored.\n",
    "\n",
    "It was not always clear, however, which criminal case was associated with an individual’s COMPAS score. To match COMPAS scores with accompanying cases, we considered cases with arrest dates or charge dates within 30 days of a COMPAS assessment being conducted. In some instances, we could not find any corresponding charges to COMPAS scores. We removed those cases from our analysis.\n",
    "\n",
    "Next, we sought to determine if a person had been charged with a new crime subsequent to crime for which they were COMPAS screened. We did not count traffic tickets and some municipal ordinance violations as recidivism. We did not count as recidivists people who were arrested for failing to appear at their court hearings, or people who were later charged with a crime that occurred prior to their COMPAS screening.</em>\n",
    "\n",
    "We do the same filtering that in the Propublica Study **BUT** we select different variables.\n",
    "\n",
    "Finally we save the filtered csv file.\n",
    "\n"
   ]
  },
  {
   "cell_type": "code",
   "execution_count": 113,
   "id": "c09b7fb2",
   "metadata": {},
   "outputs": [
    {
     "name": "stderr",
     "output_type": "stream",
     "text": [
      "UsageError: Cell magic `%%R` not found.\n"
     ]
    }
   ],
   "source": [
    "%%R\n",
    "df <- dplyr::select(raw_data, age, c_charge_degree, race, age_cat, score_text, sex, priors_count, \n",
    "                    days_b_screening_arrest, decile_score, is_recid, two_year_recid, c_jail_in, c_jail_out,\n",
    "                    juv_fel_count,juv_misd_count,juv_other_count,is_violent_recid) %>% \n",
    "        filter(days_b_screening_arrest <= 30) %>%\n",
    "        filter(days_b_screening_arrest >= -30) %>%\n",
    "        filter(is_recid != 0) %>%\n",
    "        filter(is_violent_recid != 0) %>%\n",
    "        filter(c_charge_degree != \"O\") %>%\n",
    "        filter(score_text != 'N/A')\n",
    "write.csv(df,\"propublica_ext.csv\")\n",
    "\n",
    "nrow(df)"
   ]
  },
  {
   "cell_type": "markdown",
   "id": "36deb31a",
   "metadata": {},
   "source": [
    "Now we import the same libraries as in the previous labs."
   ]
  },
  {
   "cell_type": "code",
   "execution_count": 13,
   "id": "6f81e570",
   "metadata": {},
   "outputs": [],
   "source": [
    "#we import all the required libraries\n",
    "import numpy as np\n",
    "import pandas as pd\n",
    "import matplotlib.pyplot as plt # for plotting stuff\n",
    "from random import seed, shuffle\n",
    "from scipy.stats import multivariate_normal # for generating synthetic data \n",
    "import seaborn as sns\n",
    "from sklearn import metrics\n",
    "from sklearn.metrics import confusion_matrix\n",
    "SEED = 1122334455\n",
    "seed(SEED) # set the random seed so that the random permutations can be reproduced again\n",
    "np.random.seed(SEED)"
   ]
  },
  {
   "cell_type": "markdown",
   "id": "6fdce0d7",
   "metadata": {},
   "source": [
    "We first read the filtered data. "
   ]
  },
  {
   "cell_type": "code",
   "execution_count": 14,
   "id": "b16f6c0f",
   "metadata": {},
   "outputs": [
    {
     "name": "stdout",
     "output_type": "stream",
     "text": [
      "Size of the dataset: 6172\n"
     ]
    }
   ],
   "source": [
    "df = pd.read_csv(\"propublica_ext.csv\")\n",
    "\n",
    "print(\"Size of the dataset: %d\" % len(df.index)) #We calculate the number of objects in the dataset\n",
    "\n",
    "\n"
   ]
  },
  {
   "cell_type": "code",
   "execution_count": 15,
   "id": "a2b9cd5b",
   "metadata": {},
   "outputs": [
    {
     "name": "stdout",
     "output_type": "stream",
     "text": [
      "[   1    2    3 ... 6170 6171 6172]\n",
      "[69 34 24 44 41 43 39 27 23 37 47 31 25 64 21 32 26 33 30 55 49 29 51 35\n",
      " 28 53 38 22 62 56 45 40 50 20 36 54 19 42 52 59 61 63 48 46 58 78 57 66\n",
      " 70 60 65 68 71 83 67 75 72 74 96 73 80 77 76 79 18]\n",
      "['F' 'M']\n",
      "['Other' 'African-American' 'Caucasian' 'Hispanic' 'Asian'\n",
      " 'Native American']\n",
      "['Greater than 45' '25 - 45' 'Less than 25']\n",
      "['Low' 'Medium' 'High']\n",
      "['Male' 'Female']\n",
      "[ 0  4 14  3  1  7  6  5 13  8  9 21  2 15 10 28 19 11 23 25 36 12 20 33\n",
      " 16 18 17 22 30 24 27 26 37 29 31 38]\n",
      "[ -1   0 -20  22  -2 -24 -13 -15 -10 -30  -4 -16 -26  -7  29  -3  23 -11\n",
      " -22 -21 -12  -8  -5 -23 -14  -9  -6 -27 -19 -18  26 -29  28   7 -17 -28\n",
      "   9 -25  13  20  17  30   6   2  16   8   1  18  15  21  27  11   3  14\n",
      "   5  24]\n",
      "[ 1  3  4  6 10  5  9  2  7  8]\n",
      "[0 1]\n",
      "[0 1]\n",
      "['2013-08-13 06:03:42' '2013-01-26 03:45:27' '2013-04-13 04:58:34' ...\n",
      " '2014-01-13 05:48:01' '2014-03-08 08:06:02' '2014-06-28 12:16:41']\n",
      "['2013-08-14 05:41:20' '2013-02-05 05:36:53' '2013-04-14 07:02:04' ...\n",
      " '2014-01-14 07:49:46' '2014-03-09 12:18:04' '2014-06-30 11:19:23']\n",
      "[ 0  2  1  8  3  4 20  6  5 10]\n",
      "[ 0  1  6 12  2  4  3  8  5 13]\n",
      "[0 1 3 4 2 9 5 6 7]\n",
      "[0 1]\n"
     ]
    }
   ],
   "source": [
    "for col in df:\n",
    "    print(df[col].unique())"
   ]
  },
  {
   "cell_type": "markdown",
   "id": "ff0b0107",
   "metadata": {},
   "source": [
    "We need to binarize all the categorical features we considered in the dataset:"
   ]
  },
  {
   "cell_type": "code",
   "execution_count": 16,
   "id": "78967310",
   "metadata": {},
   "outputs": [
    {
     "name": "stdout",
     "output_type": "stream",
     "text": [
      "Dataset with 6172 objects and 25 variables\n"
     ]
    },
    {
     "data": {
      "text/html": [
       "<div>\n",
       "<style scoped>\n",
       "    .dataframe tbody tr th:only-of-type {\n",
       "        vertical-align: middle;\n",
       "    }\n",
       "\n",
       "    .dataframe tbody tr th {\n",
       "        vertical-align: top;\n",
       "    }\n",
       "\n",
       "    .dataframe thead th {\n",
       "        text-align: right;\n",
       "    }\n",
       "</style>\n",
       "<table border=\"1\" class=\"dataframe\">\n",
       "  <thead>\n",
       "    <tr style=\"text-align: right;\">\n",
       "      <th></th>\n",
       "      <th>Unnamed: 0</th>\n",
       "      <th>age</th>\n",
       "      <th>priors_count</th>\n",
       "      <th>days_b_screening_arrest</th>\n",
       "      <th>decile_score</th>\n",
       "      <th>is_recid</th>\n",
       "      <th>two_year_recid</th>\n",
       "      <th>juv_fel_count</th>\n",
       "      <th>juv_misd_count</th>\n",
       "      <th>juv_other_count</th>\n",
       "      <th>...</th>\n",
       "      <th>hispanic</th>\n",
       "      <th>asian</th>\n",
       "      <th>other</th>\n",
       "      <th>less_than_25</th>\n",
       "      <th>between_25_45</th>\n",
       "      <th>greater_than_25</th>\n",
       "      <th>score_low</th>\n",
       "      <th>score_medium</th>\n",
       "      <th>score_high</th>\n",
       "      <th>Male</th>\n",
       "    </tr>\n",
       "  </thead>\n",
       "  <tbody>\n",
       "    <tr>\n",
       "      <th>0</th>\n",
       "      <td>1</td>\n",
       "      <td>69</td>\n",
       "      <td>0</td>\n",
       "      <td>-1</td>\n",
       "      <td>1</td>\n",
       "      <td>0</td>\n",
       "      <td>0</td>\n",
       "      <td>0</td>\n",
       "      <td>0</td>\n",
       "      <td>0</td>\n",
       "      <td>...</td>\n",
       "      <td>0</td>\n",
       "      <td>0</td>\n",
       "      <td>1</td>\n",
       "      <td>0</td>\n",
       "      <td>0</td>\n",
       "      <td>1</td>\n",
       "      <td>1</td>\n",
       "      <td>0</td>\n",
       "      <td>0</td>\n",
       "      <td>1</td>\n",
       "    </tr>\n",
       "    <tr>\n",
       "      <th>1</th>\n",
       "      <td>2</td>\n",
       "      <td>34</td>\n",
       "      <td>0</td>\n",
       "      <td>-1</td>\n",
       "      <td>3</td>\n",
       "      <td>1</td>\n",
       "      <td>1</td>\n",
       "      <td>0</td>\n",
       "      <td>0</td>\n",
       "      <td>0</td>\n",
       "      <td>...</td>\n",
       "      <td>0</td>\n",
       "      <td>0</td>\n",
       "      <td>0</td>\n",
       "      <td>0</td>\n",
       "      <td>1</td>\n",
       "      <td>0</td>\n",
       "      <td>1</td>\n",
       "      <td>0</td>\n",
       "      <td>0</td>\n",
       "      <td>1</td>\n",
       "    </tr>\n",
       "    <tr>\n",
       "      <th>2</th>\n",
       "      <td>3</td>\n",
       "      <td>24</td>\n",
       "      <td>4</td>\n",
       "      <td>-1</td>\n",
       "      <td>4</td>\n",
       "      <td>1</td>\n",
       "      <td>1</td>\n",
       "      <td>0</td>\n",
       "      <td>0</td>\n",
       "      <td>1</td>\n",
       "      <td>...</td>\n",
       "      <td>0</td>\n",
       "      <td>0</td>\n",
       "      <td>0</td>\n",
       "      <td>1</td>\n",
       "      <td>0</td>\n",
       "      <td>0</td>\n",
       "      <td>1</td>\n",
       "      <td>0</td>\n",
       "      <td>0</td>\n",
       "      <td>1</td>\n",
       "    </tr>\n",
       "    <tr>\n",
       "      <th>3</th>\n",
       "      <td>4</td>\n",
       "      <td>44</td>\n",
       "      <td>0</td>\n",
       "      <td>0</td>\n",
       "      <td>1</td>\n",
       "      <td>0</td>\n",
       "      <td>0</td>\n",
       "      <td>0</td>\n",
       "      <td>0</td>\n",
       "      <td>0</td>\n",
       "      <td>...</td>\n",
       "      <td>0</td>\n",
       "      <td>0</td>\n",
       "      <td>1</td>\n",
       "      <td>0</td>\n",
       "      <td>1</td>\n",
       "      <td>0</td>\n",
       "      <td>1</td>\n",
       "      <td>0</td>\n",
       "      <td>0</td>\n",
       "      <td>1</td>\n",
       "    </tr>\n",
       "    <tr>\n",
       "      <th>4</th>\n",
       "      <td>5</td>\n",
       "      <td>41</td>\n",
       "      <td>14</td>\n",
       "      <td>-1</td>\n",
       "      <td>6</td>\n",
       "      <td>1</td>\n",
       "      <td>1</td>\n",
       "      <td>0</td>\n",
       "      <td>0</td>\n",
       "      <td>0</td>\n",
       "      <td>...</td>\n",
       "      <td>0</td>\n",
       "      <td>0</td>\n",
       "      <td>0</td>\n",
       "      <td>0</td>\n",
       "      <td>1</td>\n",
       "      <td>0</td>\n",
       "      <td>0</td>\n",
       "      <td>1</td>\n",
       "      <td>0</td>\n",
       "      <td>1</td>\n",
       "    </tr>\n",
       "  </tbody>\n",
       "</table>\n",
       "<p>5 rows × 25 columns</p>\n",
       "</div>"
      ],
      "text/plain": [
       "   Unnamed: 0  age  priors_count  days_b_screening_arrest  decile_score  \\\n",
       "0           1   69             0                       -1             1   \n",
       "1           2   34             0                       -1             3   \n",
       "2           3   24             4                       -1             4   \n",
       "3           4   44             0                        0             1   \n",
       "4           5   41            14                       -1             6   \n",
       "\n",
       "   is_recid  two_year_recid  juv_fel_count  juv_misd_count  juv_other_count  \\\n",
       "0         0               0              0               0                0   \n",
       "1         1               1              0               0                0   \n",
       "2         1               1              0               0                1   \n",
       "3         0               0              0               0                0   \n",
       "4         1               1              0               0                0   \n",
       "\n",
       "   ...  hispanic  asian  other  less_than_25  between_25_45  greater_than_25  \\\n",
       "0  ...         0      0      1             0              0                1   \n",
       "1  ...         0      0      0             0              1                0   \n",
       "2  ...         0      0      0             1              0                0   \n",
       "3  ...         0      0      1             0              1                0   \n",
       "4  ...         0      0      0             0              1                0   \n",
       "\n",
       "   score_low  score_medium  score_high  Male  \n",
       "0          1             0           0     1  \n",
       "1          1             0           0     1  \n",
       "2          1             0           0     1  \n",
       "3          1             0           0     1  \n",
       "4          0             1           0     1  \n",
       "\n",
       "[5 rows x 25 columns]"
      ]
     },
     "execution_count": 16,
     "metadata": {},
     "output_type": "execute_result"
    }
   ],
   "source": [
    "df = (\n",
    "    pd.read_csv(\"propublica_ext.csv\")\n",
    "    #We first binarize the categorical feature c_charge_degree\n",
    "    .assign(c_charge=lambda x:x['c_charge_degree'].replace({'F': 1, 'M':0}))\n",
    "    #race\n",
    "    .assign(african_american=lambda x:x['race'].replace({'Other': 0, 'African-American': 1, 'Caucasian': 0, 'Hispanic': 0, 'Asian': 0,'Native American': 0}))\n",
    "    .assign(caucasian=lambda x:x['race'].replace({'Other': 0, 'African-American': 0, 'Caucasian': 1, 'Hispanic': 0, 'Asian': 0,'Native American': 0}))\n",
    "    .assign(native_american=lambda x:x['race'].replace({'Other': 0, 'African-American': 0, 'Caucasian': 0, 'Hispanic': 0, 'Asian': 0,'Native American': 1}))\n",
    "    .assign(hispanic=lambda x:x['race'].replace({'Other': 0, 'African-American': 0, 'Caucasian': 0, 'Hispanic': 1, 'Asian': 0,'Native American': 0}))\n",
    "    .assign(asian=lambda x:x['race'].replace({'Other': 0, 'African-American': 0, 'Caucasian': 0, 'Hispanic': 0, 'Asian': 1,'Native American': 0}))\n",
    "    .assign(other=lambda x:x['race'].replace({'Other': 1, 'African-American': 0, 'Caucasian': 0, 'Hispanic': 0, 'Asian': 0,'Native American': 0}))\n",
    "    #age_cat\n",
    "    .assign(less_than_25=lambda x:x['age_cat'].replace({'Greater than 45':0, '25 - 45':0, 'Less than 25':1}))\n",
    "    .assign(between_25_45=lambda x:x['age_cat'].replace({'Greater than 45':0, '25 - 45':1, 'Less than 25':0}))\n",
    "    .assign(greater_than_25=lambda x:x['age_cat'].replace({'Greater than 45':1, '25 - 45':0, 'Less than 25':0}))\n",
    "    #score_text\n",
    "    .assign(score_low=lambda x:x['score_text'].replace({'Low':1, 'Medium':0, 'High':0}))\n",
    "    .assign(score_medium=lambda x:x['score_text'].replace({'Low':0, 'Medium':1, 'High':0}))\n",
    "    .assign(score_high=lambda x:x['score_text'].replace({'Low':0, 'Medium':0, 'High':1}))\n",
    "    #sex\n",
    "    .assign(Male=lambda x:x['sex'].replace({'Male': 1, 'Female':0}))\n",
    "    \n",
    ")\n",
    "DeleteList=['c_charge_degree','race','age_cat','score_text','sex','c_jail_in','c_jail_out']\n",
    "df=df.drop(DeleteList, axis=1)\n",
    "print(\"Dataset with %d\" % df.shape[0],\"objects and %d\" % df.shape[1], \"variables\") #We calculate the number of objects in the dataset\n",
    "\n",
    "df.head()\n"
   ]
  },
  {
   "cell_type": "markdown",
   "id": "50020e6e",
   "metadata": {},
   "source": [
    "Actually, our dataset is only composed of 23 variables, since we do not include the first column as variable, and the variable \"two_year_recid\" is the binary label to predict.\n",
    "\n",
    "We then define our data and our label:\n"
   ]
  },
  {
   "cell_type": "code",
   "execution_count": 17,
   "id": "94538ff5",
   "metadata": {},
   "outputs": [
    {
     "data": {
      "text/plain": [
       "Index(['Unnamed: 0', 'age', 'priors_count', 'days_b_screening_arrest',\n",
       "       'decile_score', 'is_recid', 'two_year_recid', 'juv_fel_count',\n",
       "       'juv_misd_count', 'juv_other_count', 'is_violent_recid', 'c_charge',\n",
       "       'african_american', 'caucasian', 'native_american', 'hispanic', 'asian',\n",
       "       'other', 'less_than_25', 'between_25_45', 'greater_than_25',\n",
       "       'score_low', 'score_medium', 'score_high', 'Male'],\n",
       "      dtype='object')"
      ]
     },
     "metadata": {},
     "output_type": "display_data"
    }
   ],
   "source": [
    "display(df.columns)"
   ]
  },
  {
   "cell_type": "markdown",
   "id": "875ddcfb",
   "metadata": {},
   "source": [
    "We now select from this list only the variables we want to consider in our classification problem and the corresponding labels:"
   ]
  },
  {
   "cell_type": "code",
   "execution_count": 18,
   "id": "f98c91a0",
   "metadata": {},
   "outputs": [],
   "source": [
    "# Here is a way to select these columns using the column names\n",
    "    \n",
    "#feature_columns = ['Number_of_Priors', 'score_factor','Age_Above_FourtyFive', 'Age_Below_TwentyFive', 'African_American','Asian', 'Hispanic', 'Native_American', 'Other', 'Female',       'Misdemeanor']\n",
    "\n",
    "feature_columns = ['age', 'priors_count', 'days_b_screening_arrest',\n",
    "         'juv_fel_count',\n",
    "       'juv_misd_count', 'juv_other_count', 'is_violent_recid', 'c_charge',\n",
    "        'less_than_25', 'between_25_45', 'greater_than_25',\n",
    "        'Male']\n",
    "\n",
    "\n",
    "data = df[feature_columns].values\n",
    "y = df['two_year_recid'].values\n",
    "df=df.assign(COMPAS_Decision=lambda x:x['score_low'].replace({0: 1, 1:0}))\n",
    "y_compas = df['COMPAS_Decision'].values"
   ]
  },
  {
   "cell_type": "code",
   "execution_count": 19,
   "id": "78125675",
   "metadata": {},
   "outputs": [],
   "source": [
    "#We load the libraries for the SVM\n",
    "\n",
    "from sklearn.svm import SVC\n",
    "from sklearn.model_selection import train_test_split\n",
    "\n",
    "# shuffle the data\n",
    "#n_samples=data.shape[0]\n",
    "#perm = list(range(0,n_samples))\n",
    "#shuffle(perm)\n",
    "#data = data[perm]\n",
    "#y = y[perm]\n",
    "#y_compas=y_compas[perm]\n",
    "\n",
    "\n",
    "#Create train and validation set\n",
    "#train_x, test_x, train_y, test_y = train_test_split(data, y, test_size=0.1, shuffle=True, stratify=y, random_state=42)\n",
    "\n",
    "svm_clf = SVC(kernel=\"linear\", C=1.0)\n",
    "svm_clf.fit(data, y)\n",
    "\n",
    "y_pred=svm_clf.predict(data)\n",
    "\n",
    "\n",
    "#svm_clf = SVC(kernel=\"linear\", C=1.0)\n",
    "#svm_clf.fit(train_x, train_y)\n",
    "\n",
    "#ytrain_pred=svm_clf.predict(train_x)\n",
    "#ytest_pred=svm_clf.predict(test_x)\n",
    "\n"
   ]
  },
  {
   "cell_type": "code",
   "execution_count": 20,
   "id": "63c77324",
   "metadata": {},
   "outputs": [
    {
     "name": "stdout",
     "output_type": "stream",
     "text": [
      " Accuracy SVM (All):  \t 70.01 %\n",
      " Accuracy SVM (Black):\t 68.57 %\n",
      " Accuracy SVM (White):\t 71.18 %\n",
      "\n",
      "FPR SVM 9.60 %\n",
      "FNR SVM 54.40 %\n"
     ]
    }
   ],
   "source": [
    "b_recid = df[df['african_american'] == 1]\n",
    "w_recid = df[df['caucasian'] == 1]\n",
    "print(\n",
    "    ' Accuracy SVM (All):  \\t %.2f' % (metrics.accuracy_score(y, y_pred)*100), \"%\\n\",\n",
    "    'Accuracy SVM (Black):\\t %.2f' % (metrics.accuracy_score(y_pred[df['african_american'] == 1], b_recid['two_year_recid'])*100),\"%\\n\", \n",
    "    'Accuracy SVM (White):\\t %.2f' % (metrics.accuracy_score(y_pred[df['caucasian'] == 1], w_recid['two_year_recid'])*100),\"%\\n\",\n",
    "\n",
    ")\n",
    "\n",
    "pd.crosstab(y_pred, df['two_year_recid'], rownames=['Predicted recividism'],colnames=['Actual recividism'],normalize='columns')\n",
    "\n",
    "FPR_s=pd.crosstab(y_pred, df['two_year_recid'], rownames=['Predicted recividism'],colnames=['Actual recividism'],normalize='columns')[0][1]\n",
    "FNR_s=pd.crosstab(y_pred, df['two_year_recid'], rownames=['Predicted recividism'],colnames=['Actual recividism'],normalize='columns')[1][0].astype('float')\n",
    "\n",
    "print(\"FPR SVM %.2f\" % (FPR_s*100),\"%\")\n",
    "print(\"FNR SVM %.2f\" % (FNR_s*100),\"%\")\n",
    "\n",
    "\n"
   ]
  },
  {
   "cell_type": "markdown",
   "id": "1368a119",
   "metadata": {},
   "source": [
    "## Questions:\n",
    "\n",
    "**11-** Provide the accuracy for the COMPAS dataset.\n",
    "\n",
    "**12-** Provide the accuracy for black defendants for the COMPAS dataset.\n",
    "\n",
    "**13-** Provide the accuracy for white defendants for the COMPAS dataset.\n",
    "\n",
    "**14-** Provide the FPR for the COMPAS dataset.\n",
    "\n",
    "**15-** Provide the FNR for the COMPAS dataset.\n",
    "\n"
   ]
  },
  {
   "cell_type": "code",
   "execution_count": 21,
   "id": "419a97b1",
   "metadata": {},
   "outputs": [
    {
     "name": "stdout",
     "output_type": "stream",
     "text": [
      "FPR of Black 42.34 %\n",
      "FNR of Black 28.48 %\n"
     ]
    }
   ],
   "source": [
    "#For the COMPAS:\n",
    "FPR_b=pd.crosstab(b_recid['COMPAS_Decision'], b_recid['two_year_recid'], rownames=['Predicted recividism'],colnames=['Actual recividism'],normalize='columns')[0][1]\n",
    "FNR_b=pd.crosstab(b_recid['COMPAS_Decision'], b_recid['two_year_recid'], rownames=['Predicted recividism'],colnames=['Actual recividism'],normalize='columns')[1][0].astype('float')\n",
    "\n",
    "print(\"FPR of Black %.2f\" % (FPR_b*100),\"%\")\n",
    "print(\"FNR of Black %.2f\" % (FNR_b*100),\"%\")\n",
    "\n"
   ]
  },
  {
   "cell_type": "markdown",
   "id": "eae36b78",
   "metadata": {},
   "source": [
    "Accuracy"
   ]
  },
  {
   "cell_type": "markdown",
   "id": "cfc053aa",
   "metadata": {},
   "source": [
    "## Questions:\n",
    "\n",
    "For the COMPAS classifier:\n",
    "\n",
    "**16-** Calculate the FPR for white defendants.\n",
    "\n",
    "**17-** Calculate the FNR for white defendants.\n",
    "\n",
    "**18-** Replace **x** by the right number in the two following statement:\n",
    "\n",
    "\"FPR of Black is **x** times greater than for White\"\n",
    "\n",
    "**19-** Replace **x** by the right number in the two following statement:\n",
    "\n",
    "\"FNR of Black is **x** times smaller than for White\"\n",
    "\n"
   ]
  },
  {
   "cell_type": "code",
   "execution_count": 22,
   "id": "a6315040",
   "metadata": {},
   "outputs": [
    {
     "name": "stdout",
     "output_type": "stream",
     "text": [
      "FPR of Black 13.74 %\n",
      "FNR of Black 47.56 %\n"
     ]
    }
   ],
   "source": [
    "#For the SVM:\n",
    "FPR_b=pd.crosstab(y_pred[df['african_american'] == 1], b_recid['two_year_recid'], rownames=['Predicted recividism'],colnames=['Actual recividism'],normalize='columns')[0][1]\n",
    "FNR_b=pd.crosstab(y_pred[df['african_american'] == 1], b_recid['two_year_recid'], rownames=['Predicted recividism'],colnames=['Actual recividism'],normalize='columns')[1][0].astype('float')\n",
    "\n",
    "print(\"FPR of Black %.2f\" % (FPR_b*100),\"%\")\n",
    "print(\"FNR of Black %.2f\" % (FNR_b*100),\"%\")"
   ]
  },
  {
   "cell_type": "markdown",
   "id": "8aa8155a",
   "metadata": {},
   "source": [
    "## Questions:\n",
    "\n",
    "For the SVM classifier:\n",
    "\n",
    "**20-** Calculate the FPR for white defendants.\n",
    "\n",
    "**21-** Calculate the FNR for white defendants.\n",
    "\n",
    "**22-** Replace **x** by the right number in the two following statement:\n",
    "\n",
    "\"FPR of Black is **x** times greater than for White\"\n",
    "\n",
    "**23-** Replace **x** by the right number in the two following statement:\n",
    "\n",
    "\"FNR of Black is **x** times smaller than for White\""
   ]
  },
  {
   "cell_type": "markdown",
   "id": "3a3124c3",
   "metadata": {},
   "source": [
    "## Questions: \n",
    "\n",
    "**24-** Fill in the following table:\n",
    "\n",
    "**25-** Which is the best solution in terms of accuracy? Is it fair (in terms of accuracy)?\n",
    "\n",
    "**26-** Which is the best solution in terms of FPR? Based on answers 18 and 22, which solution is more fair (in terms of FPR)?\n",
    "\n",
    "**27-** Which is the best solution in terms of FNR? Based on answers 19 and 23, which solution is more fair (in terms of FNR)?\n",
    "\n",
    "**28-** Calculate the 6 fairness metrics for the COMPAS classifier.\n",
    "\n",
    "**29-** Calculate the 6 fairness metrics for the SVM classifier.\n",
    "\n",
    "**30-** As a future (or actual) data scientist, which solution would you choose for **this** specific problem? Justify your answer."
   ]
  },
  {
   "cell_type": "markdown",
   "id": "4ac5fae1",
   "metadata": {},
   "source": [
    "$$\n",
    "\\begin{array}{cc}\n",
    "& \\text{SVM }&\\text{COMPAS }\\\\\n",
    "&\\begin{array}{cccc}\n",
    "\\hline \\hline \n",
    "&\\text { All } & \\text { Black } & \\text { White }\\\\\n",
    "\\hline \n",
    "\\text{Accuracy}& &  &  \\\\\n",
    "\\text{FPR}& &  &  \\\\\n",
    "\\text{FNR}& &  &  \\\\\n",
    "\\hline\n",
    "\\end{array}\n",
    "&\\begin{array}{cccc}\n",
    "\\hline \\hline \n",
    "&\\text { All } & \\text { Black } & \\text { White }\\\\\n",
    "\\hline \n",
    "\\text{Accuracy}& &  &  \\\\\n",
    "\\text{FPR}& &  &  \\\\\n",
    "\\text{FNR}& &  &  \\\\\n",
    "\\hline\n",
    "\\end{array}\\\\\n",
    "\\end{array}\n",
    "$$\n",
    "\n"
   ]
  }
 ],
 "metadata": {
  "kernelspec": {
   "display_name": "Python 3 (ipykernel)",
   "language": "python",
   "name": "python3"
  },
  "language_info": {
   "codemirror_mode": {
    "name": "ipython",
    "version": 3
   },
   "file_extension": ".py",
   "mimetype": "text/x-python",
   "name": "python",
   "nbconvert_exporter": "python",
   "pygments_lexer": "ipython3",
   "version": "3.9.9"
  }
 },
 "nbformat": 4,
 "nbformat_minor": 5
}

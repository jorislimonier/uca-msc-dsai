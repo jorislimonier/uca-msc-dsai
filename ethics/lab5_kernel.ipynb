{
 "cells": [
  {
   "cell_type": "markdown",
   "id": "ec2b0429",
   "metadata": {},
   "source": [
    "<h1 style=\"font-size:3rem;color:#A3623B;\">Lab 5: Support Vector Machines</h1>\n",
    "\n",
    "## Security and Ethical aspects of data\n",
    "### Amaya Nogales Gómez\n"
   ]
  },
  {
   "cell_type": "markdown",
   "id": "a3892edf",
   "metadata": {},
   "source": [
    "<h2> Part 1: The kernel trick. Non-linear transformations.</h2>\n",
    "\n",
    "If the data is not linearly separable in the original space, then we could apply transformations to the data, which map the data from the original space into a higher dimensional feature space, also called the kernel trick. \n",
    "\n",
    "The goal is that after the transformation to the higher dimensional space, the classes become linearly separable in this higher dimensional feature space. \n",
    "\n",
    "We can then fit a decision boundary to separate the classes and make predictions. The decision boundary will be a hyperplane in this higher dimensional space.\n",
    "\n",
    "Since it is hard to visualize high dimensional data, we first focus on some examples of $\\mathbb{R}\\rightarrow\\mathbb{R}^2$ transformations.\n",
    "\n"
   ]
  },
  {
   "cell_type": "code",
   "execution_count": 1,
   "id": "ba5c8a35",
   "metadata": {},
   "outputs": [],
   "source": [
    "from sklearn.svm import SVC\n",
    "import numpy as np\n",
    "import matplotlib.pyplot as plt\n",
    "from sklearn import svm, datasets, metrics\n",
    "from sklearn.datasets import make_circles\n",
    "import glob\n",
    "import os\n",
    "from mpl_toolkits.mplot3d import Axes3D\n",
    "import IPython.display as IPdisplay\n",
    "import pandas as pd\n",
    "import random \n",
    "import math\n",
    "from PIL import Image\n",
    "# plt.rcParams.update({\n",
    "#     \"text.usetex\": True,\n",
    "#     \"font.family\": \"sans-serif\",\n",
    "#     \"font.sans-serif\": [\"Helvetica\"]})"
   ]
  },
  {
   "cell_type": "markdown",
   "id": "3d75634b",
   "metadata": {},
   "source": [
    "In this example, we first plot our original data points. "
   ]
  },
  {
   "cell_type": "code",
   "execution_count": 7,
   "id": "cd314681",
   "metadata": {},
   "outputs": [
    {
     "data": {
      "image/png": "[encoded data removed]",
      "text/plain": [
       "<Figure size 432x288 with 1 Axes>"
      ]
     },
     "metadata": {
      "needs_background": "light"
     },
     "output_type": "display_data"
    }
   ],
   "source": [
    "X1=np.linspace(-5,5,10)\n",
    "Y1=np.array([1,1,1,0,0,0,0,1,1,1])\n",
    "C=np.array([2,2,2,2,2,2,2,2,2,2])\n",
    "fig = plt.figure()\n",
    "ax = fig.add_subplot(111)\n",
    "# draw lines\n",
    "xmin = -6\n",
    "xmax = 6\n",
    "y = 2\n",
    "height = 1\n",
    "ax.set_xlim(xmin,xmax)\n",
    "ax.set_ylim(y-2,y+2)\n",
    "\n",
    "plt.hlines(y, xmin, xmax,'k',linewidth=0.5)\n",
    "plt.vlines(xmin, 1.8, 2.2,'k')\n",
    "plt.vlines(xmax, 1.8, 2.2,'k')\n",
    "# draw a point on the line\n",
    "\n",
    "plt.vlines(0, 1.8, 2.2,'k')\n",
    "plt.text(-0.2,1.5,r\"$0$\",fontsize=15)\n",
    "plt.text(-0.2,1,r\"$x_1$\",fontsize=15)\n",
    "\n",
    "\n",
    "plt.plot(X1[Y1==1],C[Y1==1], 'o', ms = 15, color='#FFB9BA')\n",
    "plt.plot(X1[Y1==0],C[Y1==0], 's', ms = 15, color='#714A41')\n",
    "\n",
    "plt.axis('off')\n",
    "plt.show()\n",
    "\n",
    "#plt.savefig('line.pdf')"
   ]
  },
  {
   "cell_type": "markdown",
   "id": "fc55015a",
   "metadata": {},
   "source": [
    "In $\\mathbb{R}$ (dimension 1), this data is not linearly separable, but after applying the kernel trick, with $\\phi(x_1)=(x_1,x_1^2)$ and adding this second dimension to our feature space, the classes become linearly separable. \n",
    "\n",
    "Although skelearn has the property to change the kernel direcly with the \"kernel\" parameter, we will do the transformation ourselves and then solve the SVM for the transformed data."
   ]
  },
  {
   "cell_type": "code",
   "execution_count": 18,
   "id": "1aecd65a",
   "metadata": {},
   "outputs": [
    {
     "data": {
      "image/png": "[encoded data removed]",
      "text/plain": [
       "<Figure size 432x288 with 1 Axes>"
      ]
     },
     "metadata": {
      "needs_background": "light"
     },
     "output_type": "display_data"
    },
    {
     "name": "stdout",
     "output_type": "stream",
     "text": [
      "Accuracy of 100.0%\n"
     ]
    }
   ],
   "source": [
    "X1_p = X1\n",
    "X2_p = X1[:]*X1[:]\n",
    "X1_PRO = np.c_[X1_p, X2_p]\n",
    "fig = plt.figure()\n",
    "ax = fig.add_subplot(111)\n",
    "plt.scatter(X1_PRO[Y1 == 1][:, 0], X1_PRO[Y1 == 1]\n",
    "            [:, 1], color='#FFB9BA', marker='o', s=100)\n",
    "plt.scatter(X1_PRO[Y1 == 0][:, 0], X1_PRO[Y1 == 0]\n",
    "            [:, 1], color='#714A41', marker='s', s=100)\n",
    "\n",
    "ax.set_xlim(-6, 6)\n",
    "model = svm.SVC(kernel='linear')\n",
    "clf = model.fit(X1_PRO, Y1)\n",
    "\n",
    "# The equation of the separating plane is given by all x so that np.dot(svc.coef_[0], x) + b = 0.\n",
    "# Solve for w3 (z)\n",
    "x = np.linspace(-6, 6, 30)\n",
    "z = (-clf.intercept_[0]-clf.coef_[0][0]*x) / clf.coef_[0][1]\n",
    "\n",
    "ax.plot(x, z, 'k')\n",
    "plt.xlabel(r\"$x_1$\", fontsize=15)\n",
    "plt.ylabel(r\"$x_2$\", fontsize=15)\n",
    "\n",
    "y_pred = clf.predict(X1_PRO)\n",
    "\n",
    "# plt.savefig('2d.pdf')\n",
    "plt.show()\n",
    "\n",
    "print(f\"Accuracy of {(metrics.accuracy_score(Y1, y_pred)*100)}%\")\n"
   ]
  },
  {
   "cell_type": "markdown",
   "id": "752213ec",
   "metadata": {},
   "source": [
    "## Questions:\n",
    "\n",
    "\n",
    "**1-** Repeat the example above for $x_1=X1$, $\\ y=[1,1,1,1,0,0,0,0,0,1]$, $\\phi(x_1)=(x_1,2x_1^2+3)$.\n",
    "\n",
    "1.1. Plot (X1,Y1)."
   ]
  },
  {
   "cell_type": "code",
   "execution_count": 25,
   "id": "cd314681",
   "metadata": {},
   "outputs": [
    {
     "data": {
      "image/png": "[encoded data removed]",
      "text/plain": [
       "<Figure size 432x288 with 1 Axes>"
      ]
     },
     "metadata": {
      "needs_background": "light"
     },
     "output_type": "display_data"
    }
   ],
   "source": [
    "X1 = np.linspace(-5, 5, 10)\n",
    "Y1 = np.array([1, 1, 1, 1, 0, 0, 0, 0, 0, 1])\n",
    "C = np.array([2, 2, 2, 2, 2, 2, 2, 2, 2, 2])\n",
    "fig = plt.figure()\n",
    "ax = fig.add_subplot(111)\n",
    "# draw lines\n",
    "xmin = -6\n",
    "xmax = 6\n",
    "y = 2\n",
    "height = 1\n",
    "ax.set_xlim(xmin, xmax)\n",
    "ax.set_ylim(y-2, y+2)\n",
    "\n",
    "plt.hlines(y, xmin, xmax, 'k', linewidth=0.5)\n",
    "plt.vlines(xmin, 1.8, 2.2, 'k')\n",
    "plt.vlines(xmax, 1.8, 2.2, 'k')\n",
    "# draw a point on the line\n",
    "\n",
    "plt.vlines(0, 1.8, 2.2, 'k')\n",
    "plt.text(-0.2, 1.5, r\"$0$\", fontsize=15)\n",
    "plt.text(-0.2, 1, r\"$x_1$\", fontsize=15)\n",
    "\n",
    "\n",
    "plt.plot(X1[Y1 == 1], C[Y1 == 1], 'o', ms=15, color='#FFB9BA')\n",
    "plt.plot(X1[Y1 == 0], C[Y1 == 0], 's', ms=15, color='#714A41')\n",
    "\n",
    "plt.axis('off')\n",
    "plt.show()\n",
    "\n",
    "# plt.savefig('line.pdf')\n"
   ]
  },
  {
   "cell_type": "markdown",
   "id": "4af564eb",
   "metadata": {},
   "source": [
    "\n",
    "1.2. Calculate X1_PRO, the projection of X1 in $\\mathbb{R}^2$.\n",
    "\n",
    "1.3. Solve the SVM for X1_PRO data and Y1 label.\n",
    "\n",
    "1.4. Plot X1_PRO and the SVM classifier.\n",
    "\n",
    "1.5. Provide the accuracy."
   ]
  },
  {
   "cell_type": "code",
   "execution_count": null,
   "id": "1aecd65a",
   "metadata": {},
   "outputs": [
    {
     "data": {
      "image/png": "[encoded data removed]",
      "text/plain": [
       "<Figure size 432x288 with 1 Axes>"
      ]
     },
     "metadata": {},
     "output_type": "display_data"
    },
    {
     "name": "stdout",
     "output_type": "stream",
     "text": [
      "Accuracy of 100.0%\n"
     ]
    }
   ],
   "source": [
    "X1_p = X1\n",
    "X2_p = 2*X1*X1 + 3\n",
    "X1_PRO = np.c_[X1_p, X2_p]\n",
    "\n",
    "fig = plt.figure()\n",
    "ax = fig.add_subplot(111)\n",
    "plt.scatter(X1_PRO[Y1 == 1][:, 0], X1_PRO[Y1 == 1]\n",
    "            [:, 1], color='#FFB9BA', marker='o', s=100)\n",
    "plt.scatter(X1_PRO[Y1 == 0][:, 0], X1_PRO[Y1 == 0]\n",
    "            [:, 1], color='#714A41', marker='s', s=100)\n",
    "\n",
    "ax.set_xlim(-6, 6)\n",
    "model = svm.SVC(kernel='linear')\n",
    "clf = model.fit(X1_PRO, Y1)\n",
    "\n",
    "# The equation of the separating plane is given by all x so that np.dot(svc.coef_[0], x) + b = 0.\n",
    "# Solve for w3 (z)\n",
    "x = np.linspace(-6, 6, 30)\n",
    "z = (-clf.intercept_[0]-clf.coef_[0][0]*x) / clf.coef_[0][1]\n",
    "\n",
    "ax.plot(x, z, 'k')\n",
    "plt.xlabel(r\"$x_1$\", fontsize=15)\n",
    "plt.ylabel(r\"$x_2$\", fontsize=15)\n",
    "\n",
    "y_pred = clf.predict(X1_PRO)\n",
    "\n",
    "# plt.savefig('2d.pdf')\n",
    "plt.show()\n",
    "\n",
    "print(f\"Accuracy of {(metrics.accuracy_score(Y1, y_pred)*100)}%\")\n"
   ]
  },
  {
   "cell_type": "markdown",
   "id": "35d402e8",
   "metadata": {},
   "source": [
    "**2-** Repeat the example above for $x_1=$`np.linspace(0,19,20)`, $\\ y=[1,0,1,0,1,0,1,0,1,0,1,0,1,0,1,0,1,0,1,0]$, $\\phi(x_1)=(x_1,x_1 mod\\, 2)$.\n",
    "    \n",
    "2.1. Plot (X1,Y1)."
   ]
  },
  {
   "cell_type": "code",
   "execution_count": 33,
   "id": "cd314681",
   "metadata": {},
   "outputs": [
    {
     "data": {
      "image/png": "[encoded data removed]",
      "text/plain": [
       "<Figure size 432x288 with 1 Axes>"
      ]
     },
     "metadata": {
      "needs_background": "light"
     },
     "output_type": "display_data"
    }
   ],
   "source": [
    "X1 = np.linspace(0, 19, 20)\n",
    "Y1 = np.array([1, 0, 1, 0, 1, 0, 1, 0, 1, 0, 1, 0, 1, 0, 1, 0, 1, 0, 1, 0])\n",
    "C = np.array([2, 2, 2, 2, 2, 2, 2, 2, 2, 2, 2, 2, 2, 2, 2, 2, 2, 2, 2, 2])\n",
    "fig = plt.figure()\n",
    "ax = fig.add_subplot(111)\n",
    "# draw lines\n",
    "xmin = -1\n",
    "xmax = 20\n",
    "y = 2\n",
    "height = 1\n",
    "ax.set_xlim(xmin, xmax)\n",
    "ax.set_ylim(y-2, y+2)\n",
    "\n",
    "plt.hlines(y, xmin, xmax, 'k', linewidth=0.5)\n",
    "plt.vlines(xmin, 1.8, 2.2, 'k')\n",
    "plt.vlines(xmax, 1.8, 2.2, 'k')\n",
    "# draw a point on the line\n",
    "\n",
    "plt.vlines(0, 1.8, 2.2, 'k')\n",
    "plt.text(-0.2, 1.5, r\"$0$\", fontsize=15)\n",
    "plt.text(-0.2, 1, r\"$x_1$\", fontsize=15)\n",
    "\n",
    "\n",
    "plt.plot(X1[Y1 == 1], C[Y1 == 1], 'o', ms=15, color='#FFB9BA')\n",
    "plt.plot(X1[Y1 == 0], C[Y1 == 0], 's', ms=15, color='#714A41')\n",
    "\n",
    "plt.axis('off')\n",
    "plt.show()\n",
    "\n",
    "# plt.savefig('line.pdf')"
   ]
  },
  {
   "cell_type": "markdown",
   "id": "ff6bf254",
   "metadata": {},
   "source": [
    "2.2. Calculate X1_PRO, the projection of X1 in $\\mathbb{R}^2$.\n",
    "\n",
    "2.3. Solve the SVM for X1_PRO data and Y1 label.\n",
    "\n",
    "2.4. Plot X1_PRO and the SVM classifier.\n",
    "\n",
    "2.5. Provide the accuracy.\n",
    "\n"
   ]
  },
  {
   "cell_type": "code",
   "execution_count": 36,
   "id": "1aecd65a",
   "metadata": {},
   "outputs": [
    {
     "data": {
      "image/png": "[encoded data removed]",
      "text/plain": [
       "<Figure size 432x288 with 1 Axes>"
      ]
     },
     "metadata": {
      "needs_background": "light"
     },
     "output_type": "display_data"
    },
    {
     "name": "stdout",
     "output_type": "stream",
     "text": [
      "Accuracy of 100.0%\n"
     ]
    }
   ],
   "source": [
    "X1_p = X1\n",
    "X2_p = X1 % 2\n",
    "X1_PRO = np.c_[X1_p, X2_p]\n",
    "\n",
    "fig = plt.figure()\n",
    "ax = fig.add_subplot(111)\n",
    "plt.scatter(X1_PRO[Y1 == 1][:, 0], X1_PRO[Y1 == 1]\n",
    "            [:, 1], color='#FFB9BA', marker='o', s=100)\n",
    "plt.scatter(X1_PRO[Y1 == 0][:, 0], X1_PRO[Y1 == 0]\n",
    "            [:, 1], color='#714A41', marker='s', s=100)\n",
    "\n",
    "ax.set_xlim(-1, 20)\n",
    "model = svm.SVC(kernel='linear')\n",
    "clf = model.fit(X1_PRO, Y1)\n",
    "\n",
    "# The equation of the separating plane is given by all x so that np.dot(svc.coef_[0], x) + b = 0.\n",
    "# Solve for w3 (z)\n",
    "x = np.linspace(-1, 20, 30)\n",
    "z = (-clf.intercept_[0]-clf.coef_[0][0]*x) / clf.coef_[0][1]\n",
    "\n",
    "ax.plot(x, z, 'k')\n",
    "plt.xlabel(r\"$x_1$\", fontsize=15)\n",
    "plt.ylabel(r\"$x_2$\", fontsize=15)\n",
    "\n",
    "y_pred = clf.predict(X1_PRO)\n",
    "\n",
    "# plt.savefig('2d.pdf')\n",
    "plt.show()\n",
    "\n",
    "print(f\"Accuracy of {(metrics.accuracy_score(Y1, y_pred)*100)}%\")\n"
   ]
  },
  {
   "cell_type": "markdown",
   "id": "2293d497",
   "metadata": {},
   "source": [
    "## And now in 3D: $\\mathbb{R}^2 \\rightarrow \\mathbb{R}^3$\n",
    "\n",
    "Now let us look at the example seen in Lecture 5 where our original data is not linearly separable in two dimensions. Here is our non-linearly separable data, in the input space."
   ]
  },
  {
   "cell_type": "code",
   "execution_count": 37,
   "id": "cc993e3d",
   "metadata": {},
   "outputs": [
    {
     "data": {
      "image/png": "[encoded data removed]",
      "text/plain": [
       "<Figure size 432x288 with 1 Axes>"
      ]
     },
     "metadata": {
      "needs_background": "light"
     },
     "output_type": "display_data"
    }
   ],
   "source": [
    "# Generate the dataset\n",
    "X1, Y1 = make_circles(n_samples=500, noise=0.1, factor=0.2)\n",
    "frac0 = len(np.where(Y1 == 0)[0]) / float(len(Y1))\n",
    "frac1 = len(np.where(Y1 == 1)[0]) / float(len(Y1))\n",
    "\n",
    "# Plot the dataset\n",
    "\n",
    "#plt.figure(figsize=(10, 8))\n",
    "#plt.subplots_adjust(bottom=.05, top=.9, left=.05, right=.95)\n",
    "\n",
    "plt.subplot(111)\n",
    "plt.scatter(X1[Y1==1][:, 0], X1[Y1==1][:, 1], color='#FFB9BA', marker='o', s=30, linewidth=1.5, label= \"Class +1:versicolor\")\n",
    "plt.scatter(X1[Y1==0][:, 0], X1[Y1==0][:, 1], color='#714A41', marker='o', s=30, linewidth=1.5, label = \"Class -1:setosa\")\n",
    "\n",
    "plt.show()\n",
    "#plt.savefig('circles.pdf')"
   ]
  },
  {
   "cell_type": "markdown",
   "id": "70c722c5",
   "metadata": {},
   "source": [
    "And after applying the transformation $\\phi(x_1,x_2)=(x_1^2,\\sqrt{2}x_1x_2,x_2^2)$:"
   ]
  },
  {
   "cell_type": "code",
   "execution_count": 38,
   "id": "dd92b513",
   "metadata": {},
   "outputs": [
    {
     "data": {
      "image/png": "[encoded data removed]",
      "text/plain": [
       "<Figure size 432x288 with 1 Axes>"
      ]
     },
     "metadata": {
      "needs_background": "light"
     },
     "output_type": "display_data"
    }
   ],
   "source": [
    "X1_p=X1[:,0]*X1[:,0]\n",
    "X2_p=math.sqrt(2)*X1[:,0]*X1[:,1]\n",
    "X3_p=X1[:,1]*X1[:,1]\n",
    "\n",
    "fig = plt.figure()\n",
    "ax  = fig.add_subplot(111, projection='3d')\n",
    "ax.scatter3D(X1_p[Y1==1], X2_p[Y1==1],X3_p[Y1==1],color='#FFB9BA', marker='o', s=30, linewidth=1.5)\n",
    "ax.scatter3D(X1_p[Y1==0], X2_p[Y1==0],X3_p[Y1==0],color='#714A41', marker='o', s=30, linewidth=1.5)\n",
    "\n",
    "ax.view_init(9, 110)"
   ]
  },
  {
   "cell_type": "markdown",
   "id": "88f19dd1",
   "metadata": {},
   "source": [
    "Now we can obtain the SVM for the transformed data, being sure we are able to find a hyperplane that separates the data."
   ]
  },
  {
   "cell_type": "code",
   "execution_count": 39,
   "id": "758c6c8c",
   "metadata": {},
   "outputs": [
    {
     "data": {
      "image/png": "[encoded data removed]",
      "text/plain": [
       "<Figure size 432x288 with 1 Axes>"
      ]
     },
     "metadata": {
      "needs_background": "light"
     },
     "output_type": "display_data"
    }
   ],
   "source": [
    "X1_p=X1[:,0]*X1[:,0]\n",
    "X2_p=math.sqrt(2)*X1[:,0]*X1[:,1]\n",
    "X3_p=X1[:,1]*X1[:,1]\n",
    "\n",
    "fig = plt.figure()\n",
    "ax  = fig.add_subplot(111, projection='3d')\n",
    "ax.scatter3D(X1_p[Y1==1], X2_p[Y1==1],X3_p[Y1==1],color='#FFB9BA', marker='o', s=30, linewidth=1.5)\n",
    "ax.scatter3D(X1_p[Y1==0], X2_p[Y1==0],X3_p[Y1==0],color='#714A41', marker='o', s=30, linewidth=1.5)\n",
    "\n",
    "\n",
    "\n",
    "X1_PRO=np.c_[X1_p, X2_p, X3_p]\n",
    "\n",
    "\n",
    "model = svm.SVC(kernel='linear')\n",
    "clf = model.fit(X1_PRO, Y1)\n",
    "\n",
    "# The equation of the separating plane is given by all x so that np.dot(svc.coef_[0], x) + b = 0.\n",
    "# Solve for w3 (z)\n",
    "z = lambda x,y: (-clf.intercept_[0]-clf.coef_[0][0]*x -clf.coef_[0][1]*y) / clf.coef_[0][2]\n",
    "tmp = np.linspace(-1,1,30)\n",
    "x,y = np.meshgrid(tmp,tmp)\n",
    "ax.plot_surface(x, y, z(x,y))\n",
    "\n",
    "ax.view_init(10, 100)"
   ]
  },
  {
   "cell_type": "markdown",
   "id": "a7667afb",
   "metadata": {},
   "source": [
    "And if we want to see the beatiful 3D picture in movement..."
   ]
  },
  {
   "cell_type": "code",
   "execution_count": 40,
   "id": "3a2cf903",
   "metadata": {},
   "outputs": [
    {
     "data": {
      "text/html": [
       "<img src=\"images/phase-animate/01-pan-rotate-zoom-demo.gif\"/>"
      ],
      "text/plain": [
       "<IPython.core.display.Image object>"
      ]
     },
     "execution_count": 40,
     "metadata": {},
     "output_type": "execute_result"
    }
   ],
   "source": [
    "save_folder = 'images/phase-animate'\n",
    "\n",
    "gif_filename = '01-pan-rotate-zoom-demo'\n",
    "working_folder = '{}/{}'.format(save_folder, gif_filename)\n",
    "if not os.path.exists(working_folder):\n",
    "    os.makedirs(working_folder)\n",
    "\n",
    "fig = plt.figure(figsize=(14, 10), dpi=80)\n",
    "#ax = Axes3D(fig)\n",
    "ax  = fig.add_subplot(111, projection='3d')\n",
    "ax.set_xlim3d(-1,1)\n",
    "ax.set_ylim3d(-1, 1)\n",
    "ax.set_zlim3d(-1, 1)\n",
    "ax.plot_surface(x, y, z(x,y),alpha=0.5)\n",
    "ax.scatter3D(X1_p[Y1==1], X2_p[Y1==1],X3_p[Y1==1],color='#FFB9BA', marker='o', s=30, linewidth=1.5)\n",
    "ax.scatter3D(X1_p[Y1==0], X2_p[Y1==0],X3_p[Y1==0],color='#714A41', marker='o', s=30, linewidth=1.5)  \n",
    "ax.plot_surface(x, y, z(x,y),alpha=0.5, color='#667E91')\n",
    "\n",
    "\n",
    "\n",
    "    \n",
    "\n",
    "# create 36 frames for the animated gif\n",
    "steps = 36\n",
    "\n",
    "# a viewing perspective is composed of an elevation, distance, and azimuth\n",
    "# define the range of values we'll cycle through for the distance of the viewing perspective\n",
    "min_dist = 14.\n",
    "max_dist = 20.\n",
    "dist_range = np.arange(min_dist, max_dist, (max_dist-min_dist)/steps)\n",
    "\n",
    "# define the range of values we'll cycle through for the elevation of the viewing perspective\n",
    "min_elev = 10.\n",
    "max_elev = 50.\n",
    "elev_range = np.arange(max_elev, min_elev, (min_elev-max_elev)/steps)\n",
    "\n",
    "# now create the individual frames that will be combined later into the animation\n",
    "for azimuth in range(0, 360, int(360/steps)):\n",
    "    \n",
    "    # pan down, rotate around, and zoom out\n",
    "    ax.azim = float(azimuth/3.)\n",
    "    ax.elev = elev_range[int(azimuth/(360./steps))]\n",
    "    ax.dist = dist_range[int(azimuth/(360./steps))]\n",
    "    \n",
    "    # set the figure title to the viewing perspective, and save each figure as a .png\n",
    "   # fig.suptitle('elev={:.1f}, azim={:.1f}, dist={:.1f}'.format(ax.elev, ax.azim, ax.dist))\n",
    "    plt.savefig('{}/{}/img{:03d}.png'.format(save_folder, gif_filename, azimuth))\n",
    "    \n",
    "    \n",
    "# don't display the static plot...\n",
    "#ax.view_init(30, 60)\n",
    "plt.close()\n",
    "\n",
    "\n",
    "# load all the static images into a list then save as an animated gif\n",
    "gif_filepath = '{}/{}.gif'.format(save_folder, gif_filename)\n",
    "images = [Image.open(image) for image in sorted(glob.glob('{}/*.png'.format(working_folder)))]\n",
    "gif = images[0]\n",
    "gif.info['duration'] = 100 #milliseconds per frame\n",
    "gif.info['loop'] = 0 #how many times to loop (0=infinite)\n",
    "gif.save(fp=gif_filepath, format='gif', save_all=True, append_images=images[1:])\n",
    "IPdisplay.Image(url=gif_filepath)"
   ]
  },
  {
   "cell_type": "markdown",
   "id": "bfa784f2",
   "metadata": {},
   "source": [
    "## Questions:\n",
    "\n",
    "**3-** Repeat the example above for $x_1$ and $y$ from the first example:<br />\n",
    "$x_1=np.linspace(-5,5,10)$,<br /> $y=[1,1,1,0,0,0,0,1,1,1]$,<br /> and $\\phi(x_1)=(x_1,x_1^2,x_1^2)$.\n",
    "    \n",
    "3.1. Plot (X1,Y1).\n"
   ]
  },
  {
   "cell_type": "code",
   "execution_count": 3,
   "id": "691583b4",
   "metadata": {},
   "outputs": [
    {
     "data": {
      "image/png": "[encoded data removed]",
      "text/plain": [
       "<Figure size 432x288 with 1 Axes>"
      ]
     },
     "metadata": {
      "needs_background": "light"
     },
     "output_type": "display_data"
    }
   ],
   "source": [
    "X1 = np.linspace(-5, 5, 10)\n",
    "Y1 = np.array([1, 1, 1, 0, 0, 0, 0, 1, 1, 1])\n",
    "C = np.array([2, 2, 2, 2, 2, 2, 2, 2, 2, 2])\n",
    "fig = plt.figure()\n",
    "ax = fig.add_subplot(111)\n",
    "# draw lines\n",
    "xmin = -6\n",
    "xmax = 6\n",
    "y = 2\n",
    "height = 1\n",
    "ax.set_xlim(xmin, xmax)\n",
    "ax.set_ylim(y-2, y+2)\n",
    "\n",
    "plt.hlines(y, xmin, xmax, 'k', linewidth=0.5)\n",
    "plt.vlines(xmin, 1.8, 2.2, 'k')\n",
    "plt.vlines(xmax, 1.8, 2.2, 'k')\n",
    "# draw a point on the line\n",
    "\n",
    "plt.vlines(0, 1.8, 2.2, 'k')\n",
    "plt.text(-0.2, 1.5, r\"$0$\", fontsize=15)\n",
    "plt.text(-0.2, 1, r\"$x_1$\", fontsize=15)\n",
    "\n",
    "\n",
    "plt.plot(X1[Y1 == 1], C[Y1 == 1], 'o', ms=15, color='#FFB9BA')\n",
    "plt.plot(X1[Y1 == 0], C[Y1 == 0], 's', ms=15, color='#714A41')\n",
    "\n",
    "plt.axis('off')\n",
    "plt.show()\n",
    "\n",
    "# plt.savefig('line.pdf')\n"
   ]
  },
  {
   "cell_type": "markdown",
   "id": "fd3e4caf",
   "metadata": {},
   "source": [
    "3.2. Calculate X1_PRO, the projection of X1 in $\\mathbb{R}^3$.\n",
    "\n",
    "3.3. Solve the SVM for X1_PRO data and Y1 label.\n",
    "\n",
    "3.4. Plot X1_PRO and the SVM classifier.\n",
    "\n",
    "3.5. Provide the accuracy."
   ]
  },
  {
   "cell_type": "code",
   "execution_count": null,
   "id": "1aecd65a",
   "metadata": {},
   "outputs": [
    {
     "name": "stdout",
     "output_type": "stream",
     "text": [
      "Accuracy of 100.0%\n"
     ]
    },
    {
     "data": {
      "image/png": "[encoded data removed]",
      "text/plain": [
       "<Figure size 432x288 with 1 Axes>"
      ]
     },
     "metadata": {},
     "output_type": "display_data"
    }
   ],
   "source": [
    "X1_p = X1\n",
    "X2_p = X1*X1\n",
    "X3_p = X1*X1\n",
    "\n",
    "fig = plt.figure()\n",
    "ax  = fig.add_subplot(111, projection='3d')\n",
    "ax.scatter3D(X1_p[Y1==1], X2_p[Y1==1],X3_p[Y1==1],color='#FFB9BA', marker='o', s=30, linewidth=1.5)\n",
    "ax.scatter3D(X1_p[Y1==0], X2_p[Y1==0],X3_p[Y1==0],color='#714A41', marker='o', s=30, linewidth=1.5)\n",
    "\n",
    "\n",
    "X1_PRO=np.c_[X1_p, X2_p, X3_p]\n",
    "\n",
    "\n",
    "model = svm.SVC(kernel='linear')\n",
    "clf = model.fit(X1_PRO, Y1)\n",
    "\n",
    "# The equation of the separating plane is given by all x so that np.dot(svc.coef_[0], x) + b = 0.\n",
    "# Solve for w3 (z)\n",
    "z = lambda x,y: (-clf.intercept_[0]-clf.coef_[0][0]*x -clf.coef_[0][1]*y) / clf.coef_[0][2]\n",
    "tmp = np.linspace(-8,8,30)\n",
    "x,y = np.meshgrid(tmp,tmp)\n",
    "ax.plot_surface(x, y, z(x,y), alpha=.3)\n",
    "\n",
    "ax.view_init(10, 0)\n",
    "\n",
    "y_pred = clf.predict(X1_PRO)\n",
    "\n",
    "print(f\"Accuracy of {(metrics.accuracy_score(Y1, y_pred)*100)}%\")"
   ]
  },
  {
   "cell_type": "markdown",
   "id": "8d963356",
   "metadata": {},
   "source": [
    "3.* Plot the animated gif for X1_PRO and the SVM classifier.\n",
    "\n",
    "Can't get x, y, z limits to fit. Besides that it goes outside the frame, the 3D plot seems to be correct."
   ]
  },
  {
   "cell_type": "code",
   "execution_count": 5,
   "id": "6fa0bbb6",
   "metadata": {},
   "outputs": [
    {
     "data": {
      "text/html": [
       "<img src=\"images/phase-animate/ex3.gif\"/>"
      ],
      "text/plain": [
       "<IPython.core.display.Image object>"
      ]
     },
     "execution_count": 5,
     "metadata": {},
     "output_type": "execute_result"
    }
   ],
   "source": [
    "save_folder = 'images/phase-animate'\n",
    "\n",
    "gif_filename = 'ex3'\n",
    "working_folder = '{}/{}'.format(save_folder, gif_filename)\n",
    "if not os.path.exists(working_folder):\n",
    "    os.makedirs(working_folder)\n",
    "\n",
    "fig = plt.figure(figsize=(14, 10), dpi=80)\n",
    "#ax = Axes3D(fig)\n",
    "ax = fig.add_subplot(111, projection='3d')\n",
    "ax.set_xlim3d(-5, 5)\n",
    "ax.set_ylim3d(-5, 5)\n",
    "ax.set_zlim3d(-5, 5)\n",
    "ax.plot_surface(x, y, z(x, y), alpha=0.5)\n",
    "ax.scatter3D(X1_p[Y1 == 1], X2_p[Y1 == 1], X3_p[Y1 == 1],\n",
    "             color='#FFB9BA', marker='o', s=30, linewidth=1.5)\n",
    "ax.scatter3D(X1_p[Y1 == 0], X2_p[Y1 == 0], X3_p[Y1 == 0],\n",
    "             color='#714A41', marker='o', s=30, linewidth=1.5)\n",
    "ax.plot_surface(x, y, z(x, y), alpha=0.5, color='#667E91')\n",
    "\n",
    "\n",
    "# create 36 frames for the animated gif\n",
    "steps = 36\n",
    "\n",
    "# a viewing perspective is composed of an elevation, distance, and azimuth\n",
    "# define the range of values we'll cycle through for the distance of the viewing perspective\n",
    "min_dist = 14.\n",
    "max_dist = 20.\n",
    "dist_range = np.arange(min_dist, max_dist, (max_dist-min_dist)/steps)\n",
    "\n",
    "# define the range of values we'll cycle through for the elevation of the viewing perspective\n",
    "min_elev = 10.\n",
    "max_elev = 50.\n",
    "elev_range = np.arange(max_elev, min_elev, (min_elev-max_elev)/steps)\n",
    "\n",
    "# now create the individual frames that will be combined later into the animation\n",
    "for azimuth in range(0, 360, int(360/steps)):\n",
    "\n",
    "    # pan down, rotate around, and zoom out\n",
    "    ax.azim = float(azimuth/3.)\n",
    "    ax.elev = elev_range[int(azimuth/(360./steps))]\n",
    "    ax.dist = dist_range[int(azimuth/(360./steps))]\n",
    "\n",
    "    # set the figure title to the viewing perspective, and save each figure as a .png\n",
    "   # fig.suptitle('elev={:.1f}, azim={:.1f}, dist={:.1f}'.format(ax.elev, ax.azim, ax.dist))\n",
    "    plt.savefig('{}/{}/img{:03d}.png'.format(save_folder, gif_filename, azimuth))\n",
    "\n",
    "\n",
    "# don't display the static plot...\n",
    "#ax.view_init(30, 60)\n",
    "plt.close()\n",
    "\n",
    "\n",
    "# load all the static images into a list then save as an animated gif\n",
    "gif_filepath = '{}/{}.gif'.format(save_folder, gif_filename)\n",
    "images = [Image.open(image) for image in sorted(\n",
    "    glob.glob('{}/*.png'.format(working_folder)))]\n",
    "gif = images[0]\n",
    "gif.info['duration'] = 100  # milliseconds per frame\n",
    "gif.info['loop'] = 0  # how many times to loop (0=infinite)\n",
    "gif.save(fp=gif_filepath, format='gif',\n",
    "         save_all=True, append_images=images[1:])\n",
    "IPdisplay.Image(url=gif_filepath)\n"
   ]
  },
  {
   "cell_type": "markdown",
   "id": "aa22834a",
   "metadata": {},
   "source": [
    "**4-** Repeat the example above for $x_1$ and $y$ from exercise 2:<br /> \n",
    "$x_1=np.linspace(0,19,20)$<br />\n",
    "$y=[1,0,1,0,1,0,1,0,1,0,1,0,1,0,1,0,1,0,1,0]$,<br />\n",
    "and $\\phi(x_1)=(x_1,20*(x_1 mod\\, 2),20*(x_1\\, mod\\, 2))$.\n",
    "\n",
    "   \n",
    "4.1. Plot (X1,Y1)."
   ]
  },
  {
   "cell_type": "code",
   "execution_count": 8,
   "id": "691583b4",
   "metadata": {},
   "outputs": [
    {
     "data": {
      "image/png": "[encoded data removed]",
      "text/plain": [
       "<Figure size 432x288 with 1 Axes>"
      ]
     },
     "metadata": {
      "needs_background": "light"
     },
     "output_type": "display_data"
    }
   ],
   "source": [
    "X1 = np.linspace(0,19,20)\n",
    "Y1 = np.array([1,0,1,0,1,0,1,0,1,0,1,0,1,0,1,0,1,0,1,0])\n",
    "C = np.array([2, 2, 2, 2, 2, 2, 2, 2, 2, 2, 2, 2, 2, 2, 2, 2, 2, 2, 2, 2])\n",
    "fig = plt.figure()\n",
    "ax = fig.add_subplot(111)\n",
    "# draw lines\n",
    "xmin = -1\n",
    "xmax = 20\n",
    "y = 2\n",
    "height = 1\n",
    "ax.set_xlim(xmin, xmax)\n",
    "ax.set_ylim(y-2, y+2)\n",
    "\n",
    "plt.hlines(y, xmin, xmax, 'k', linewidth=0.5)\n",
    "plt.vlines(xmin, 1.8, 2.2, 'k')\n",
    "plt.vlines(xmax, 1.8, 2.2, 'k')\n",
    "# draw a point on the line\n",
    "\n",
    "plt.vlines(0, 1.8, 2.2, 'k')\n",
    "plt.text(-0.2, 1.5, r\"$0$\", fontsize=15)\n",
    "plt.text(-0.2, 1, r\"$x_1$\", fontsize=15)\n",
    "\n",
    "\n",
    "plt.plot(X1[Y1 == 1], C[Y1 == 1], 'o', ms=15, color='#FFB9BA')\n",
    "plt.plot(X1[Y1 == 0], C[Y1 == 0], 's', ms=15, color='#714A41')\n",
    "\n",
    "plt.axis('off')\n",
    "plt.show()\n",
    "\n",
    "# plt.savefig('line.pdf')\n"
   ]
  },
  {
   "cell_type": "markdown",
   "id": "790d734e",
   "metadata": {},
   "source": [
    "4.2. Calculate X_1PRO, the projection of X1 in $\\mathbb{R}^3$.\n",
    "\n",
    "4.3. Solve the SVM for X1_PRO data and Y1 label.\n",
    "\n",
    "4.4. Plot X1_PRO and the SVM classifier.\n",
    "\n",
    "4.5. Provide the accuracy."
   ]
  },
  {
   "cell_type": "code",
   "execution_count": 10,
   "id": "1aecd65a",
   "metadata": {},
   "outputs": [
    {
     "name": "stdout",
     "output_type": "stream",
     "text": [
      "Accuracy of 100.0%\n"
     ]
    },
    {
     "data": {
      "image/png": "[encoded data removed]",
      "text/plain": [
       "<Figure size 432x288 with 1 Axes>"
      ]
     },
     "metadata": {
      "needs_background": "light"
     },
     "output_type": "display_data"
    }
   ],
   "source": [
    "X1_p = X1\n",
    "X2_p = 20*(X1%2)\n",
    "X3_p = 20*(X1%2)\n",
    "\n",
    "fig = plt.figure()\n",
    "ax  = fig.add_subplot(111, projection='3d')\n",
    "ax.scatter3D(X1_p[Y1==1], X2_p[Y1==1],X3_p[Y1==1],color='#FFB9BA', marker='o', s=30, linewidth=1.5)\n",
    "ax.scatter3D(X1_p[Y1==0], X2_p[Y1==0],X3_p[Y1==0],color='#714A41', marker='o', s=30, linewidth=1.5)\n",
    "\n",
    "\n",
    "X1_PRO=np.c_[X1_p, X2_p, X3_p]\n",
    "\n",
    "\n",
    "model = svm.SVC(kernel='linear')\n",
    "clf = model.fit(X1_PRO, Y1)\n",
    "\n",
    "# The equation of the separating plane is given by all x so that np.dot(svc.coef_[0], x) + b = 0.\n",
    "# Solve for w3 (z)\n",
    "z = lambda x,y: (-clf.intercept_[0]-clf.coef_[0][0]*x -clf.coef_[0][1]*y) / clf.coef_[0][2]\n",
    "tmp = np.linspace(0,20,30)\n",
    "x,y = np.meshgrid(tmp,tmp)\n",
    "ax.plot_surface(x, y, z(x,y), alpha=.3)\n",
    "\n",
    "ax.view_init(10, 0)\n",
    "\n",
    "y_pred = clf.predict(X1_PRO)\n",
    "\n",
    "print(f\"Accuracy of {(metrics.accuracy_score(Y1, y_pred)*100)}%\")"
   ]
  },
  {
   "cell_type": "markdown",
   "id": "80f8dd68",
   "metadata": {},
   "source": [
    "4.* Plot the animated gif for X1_PRO and the SVM classifier."
   ]
  },
  {
   "cell_type": "code",
   "execution_count": 11,
   "id": "6fa0bbb6",
   "metadata": {},
   "outputs": [
    {
     "data": {
      "text/html": [
       "<img src=\"images/phase-animate/ex4.gif\"/>"
      ],
      "text/plain": [
       "<IPython.core.display.Image object>"
      ]
     },
     "execution_count": 11,
     "metadata": {},
     "output_type": "execute_result"
    }
   ],
   "source": [
    "save_folder = 'images/phase-animate'\n",
    "\n",
    "gif_filename = 'ex4'\n",
    "working_folder = '{}/{}'.format(save_folder, gif_filename)\n",
    "if not os.path.exists(working_folder):\n",
    "    os.makedirs(working_folder)\n",
    "\n",
    "fig = plt.figure(figsize=(14, 10), dpi=80)\n",
    "#ax = Axes3D(fig)\n",
    "ax = fig.add_subplot(111, projection='3d')\n",
    "ax.set_xlim3d(-5, 5)\n",
    "ax.set_ylim3d(-5, 5)\n",
    "ax.set_zlim3d(-5, 5)\n",
    "ax.plot_surface(x, y, z(x, y), alpha=0.5)\n",
    "ax.scatter3D(X1_p[Y1 == 1], X2_p[Y1 == 1], X3_p[Y1 == 1],\n",
    "             color='#FFB9BA', marker='o', s=30, linewidth=1.5)\n",
    "ax.scatter3D(X1_p[Y1 == 0], X2_p[Y1 == 0], X3_p[Y1 == 0],\n",
    "             color='#714A41', marker='o', s=30, linewidth=1.5)\n",
    "ax.plot_surface(x, y, z(x, y), alpha=0.5, color='#667E91')\n",
    "\n",
    "\n",
    "# create 36 frames for the animated gif\n",
    "steps = 36\n",
    "\n",
    "# a viewing perspective is composed of an elevation, distance, and azimuth\n",
    "# define the range of values we'll cycle through for the distance of the viewing perspective\n",
    "min_dist = 14.\n",
    "max_dist = 20.\n",
    "dist_range = np.arange(min_dist, max_dist, (max_dist-min_dist)/steps)\n",
    "\n",
    "# define the range of values we'll cycle through for the elevation of the viewing perspective\n",
    "min_elev = 10.\n",
    "max_elev = 50.\n",
    "elev_range = np.arange(max_elev, min_elev, (min_elev-max_elev)/steps)\n",
    "\n",
    "# now create the individual frames that will be combined later into the animation\n",
    "for azimuth in range(0, 360, int(360/steps)):\n",
    "\n",
    "    # pan down, rotate around, and zoom out\n",
    "    ax.azim = float(azimuth/3.)\n",
    "    ax.elev = elev_range[int(azimuth/(360./steps))]\n",
    "    ax.dist = dist_range[int(azimuth/(360./steps))]\n",
    "\n",
    "    # set the figure title to the viewing perspective, and save each figure as a .png\n",
    "   # fig.suptitle('elev={:.1f}, azim={:.1f}, dist={:.1f}'.format(ax.elev, ax.azim, ax.dist))\n",
    "    plt.savefig('{}/{}/img{:03d}.png'.format(save_folder, gif_filename, azimuth))\n",
    "\n",
    "\n",
    "# don't display the static plot...\n",
    "#ax.view_init(30, 60)\n",
    "plt.close()\n",
    "\n",
    "\n",
    "# load all the static images into a list then save as an animated gif\n",
    "gif_filepath = '{}/{}.gif'.format(save_folder, gif_filename)\n",
    "images = [Image.open(image) for image in sorted(\n",
    "    glob.glob('{}/*.png'.format(working_folder)))]\n",
    "gif = images[0]\n",
    "gif.info['duration'] = 100  # milliseconds per frame\n",
    "gif.info['loop'] = 0  # how many times to loop (0=infinite)\n",
    "gif.save(fp=gif_filepath, format='gif',\n",
    "         save_all=True, append_images=images[1:])\n",
    "IPdisplay.Image(url=gif_filepath)\n"
   ]
  }
 ],
 "metadata": {
  "kernelspec": {
   "display_name": "Python 3 (ipykernel)",
   "language": "python",
   "name": "python3"
  },
  "language_info": {
   "codemirror_mode": {
    "name": "ipython",
    "version": 3
   },
   "file_extension": ".py",
   "mimetype": "text/x-python",
   "name": "python",
   "nbconvert_exporter": "python",
   "pygments_lexer": "ipython3",
   "version": "3.9.9"
  }
 },
 "nbformat": 4,
 "nbformat_minor": 5
}

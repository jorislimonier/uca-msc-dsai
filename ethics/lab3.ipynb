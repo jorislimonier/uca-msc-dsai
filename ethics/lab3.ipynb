{
 "cells": [
  {
   "cell_type": "markdown",
   "id": "bd2e3d9d",
   "metadata": {
    "tags": []
   },
   "source": [
    "<h1 style=\"font-size:3rem;color:#A3623B;\">Lab 3</h1>\n",
    "\n",
    "## Security and Ethical aspects of data\n",
    "### Amaya Nogales Gómez"
   ]
  },
  {
   "cell_type": "markdown",
   "id": "a972f946",
   "metadata": {},
   "source": [
    "## 3.1 Fairness metrics for synthetic datasets\n"
   ]
  },
  {
   "cell_type": "code",
   "execution_count": 1,
   "id": "4f2ce6cd",
   "metadata": {},
   "outputs": [],
   "source": [
    "# we import all the required libraries\n",
    "import numpy as np\n",
    "import matplotlib.pyplot as plt # for plotting stuff\n",
    "from random import seed, shuffle\n",
    "from scipy.stats import multivariate_normal # for generating synthetic data \n",
    "from sklearn import datasets #For real datasets\n",
    "SEED = 1122334455\n",
    "seed(SEED) # set the random seed so that the random permutations can be reproduced again\n",
    "np.random.seed(SEED)"
   ]
  },
  {
   "cell_type": "code",
   "execution_count": 2,
   "id": "d961851f",
   "metadata": {},
   "outputs": [],
   "source": [
    "from sklearn.svm import SVC\n",
    "from sklearn import metrics\n",
    "\n",
    "def plot_svc_decision_boundary(svm_clf, xmin, xmax):\n",
    "    w = svm_clf.coef_[0]\n",
    "    b = svm_clf.intercept_[0]\n",
    "\n",
    "    # At the decision boundary, w0*x0 + w1*x1 + b = 0\n",
    "    # => x1 = -w0/w1 * x0 - b/w1\n",
    "    x0 = np.linspace(xmin, xmax, 200)\n",
    "    decision_boundary = -w[0]/w[1] * x0 - b/w[1]\n",
    "\n",
    "    margin = 1/w[1]\n",
    "    gutter_up = decision_boundary + margin\n",
    "    gutter_down = decision_boundary - margin\n",
    "\n",
    "    svs = svm_clf.support_vectors_\n",
    "    plt.scatter(svs[:, 0], svs[:, 1], s=180, facecolors='#FFAAAA')\n",
    "    plt.plot(x0, decision_boundary, \"k-\", linewidth=2)\n",
    "    plt.plot(x0, gutter_up, \"k--\", linewidth=2)\n",
    "    plt.plot(x0, gutter_down, \"k--\", linewidth=2)"
   ]
  },
  {
   "cell_type": "code",
   "execution_count": 3,
   "id": "0c218582",
   "metadata": {},
   "outputs": [],
   "source": [
    "def generate_synthetic_data_bias():\n",
    "\n",
    "    \"\"\"\n",
    "        Code for generating the synthetic data.\n",
    "        We will have two features and a binary class.\n",
    "        \n",
    "    \"\"\"\n",
    "\n",
    "    n_samples = 20 # generate these many data points per class\n",
    "    #For biased data\n",
    "    p_sen=0.2 #this parameter sets the probability of being protected (sensitive feature=1)\n",
    "    delta1=[3,-2] # This is the increment of the mean for the positive class\n",
    "    delta2=[3,-2] # This is the increment of the mean for the negative class\n",
    "    \n",
    "    \n",
    "    def gen_gaussian_sensitive(size, mean_in, cov_in, class_label, sensitive):\n",
    "        nv = multivariate_normal(mean = mean_in, cov = cov_in)\n",
    "        X = nv.rvs(size)\n",
    "        y = np.ones(size, dtype=int) * class_label\n",
    "        x_sen = np.ones(size, dtype=float) * sensitive\n",
    "        return nv,X,y,x_sen\n",
    "\n",
    "    \"\"\" Generate the features randomly \"\"\"\n",
    "    #For the NON-protected group (sensitive feature=0, for ex. men)\n",
    "    # We will generate one gaussian cluster for each class\n",
    "    mu1, sigma1 = [2, 2], [[5, 1], [1, 5]]\n",
    "    mu2, sigma2 = [-2,-2], [[10, 1], [1, 3]]\n",
    "    nv1, X1, y1, x_sen1= gen_gaussian_sensitive(int((1-p_sen)*n_samples), mu1, sigma1, 1,0) # positive class\n",
    "    nv2, X2, y2, x_sen2= gen_gaussian_sensitive(int((1-p_sen)*n_samples),mu2, sigma2, 0,0) # negative class\n",
    "    \n",
    "    \n",
    "    #For the Protected group (sensitive feature=1, for ex. women)\n",
    "    # We will generate one gaussian cluster for each class\n",
    "    mu3, sigma3 = np.add(mu1,delta1), [[5, 1], [1, 5]]\n",
    "    mu4, sigma4 = np.add(mu2,delta2), [[10, 1], [1, 3]]\n",
    "    nv3, X3, y3, x_sen3 = gen_gaussian_sensitive(int(p_sen*n_samples), mu3, sigma3, 1,1.) # positive class\n",
    "    nv4, X4, y4, x_sen4 = gen_gaussian_sensitive(int(p_sen*n_samples),mu4, sigma4, 0,1.) # negative class\n",
    "    \n",
    "\n",
    "    \n",
    "\n",
    "    # join the positive and negative class clusters\n",
    "    X = np.vstack((X1, X2, X3, X4))\n",
    "    y = np.hstack((y1, y2, y3, y4))\n",
    "    x_prot= np.hstack((x_sen1, x_sen2, x_sen3, x_sen4))\n",
    "    \n",
    "\n",
    "    # shuffle the data\n",
    "    perm = list(range(0,n_samples*2))\n",
    "    shuffle(perm)\n",
    "    X = X[perm]\n",
    "    y = y[perm]\n",
    "    x_prot=x_prot[perm]\n",
    "    \n",
    "    return X,y,x_prot"
   ]
  },
  {
   "cell_type": "code",
   "execution_count": 4,
   "id": "6714b6ba",
   "metadata": {},
   "outputs": [],
   "source": [
    "X_syn, y_syn, x_bias = generate_synthetic_data_bias()"
   ]
  },
  {
   "cell_type": "code",
   "execution_count": 5,
   "id": "5904344d",
   "metadata": {},
   "outputs": [
    {
     "data": {
      "image/png": "[encoded data removed]",
      "text/plain": [
       "<Figure size 432x288 with 1 Axes>"
      ]
     },
     "metadata": {
      "needs_background": "light"
     },
     "output_type": "display_data"
    },
    {
     "data": {
      "text/plain": [
       "<Figure size 432x288 with 0 Axes>"
      ]
     },
     "metadata": {},
     "output_type": "display_data"
    }
   ],
   "source": [
    "#plt.scatter(X_syn[y_syn==1][:, 0], X_syn[y_syn==1][:, 1], color='#378661', marker='x', s=40, linewidth=1.5, label= \"Class +1\")\n",
    "#plt.scatter(X_syn[y_syn==0][:, 0], X_syn[y_syn==0][:, 1], color='#A73730', marker='x', s=40, linewidth=1.5, label = \"Class -1\")\n",
    "\n",
    "X_s_0 = X_syn[x_bias == 0.0]\n",
    "X_s_1 = X_syn[x_bias == 1.0]\n",
    "y_s_0 = y_syn[x_bias == 0.0]\n",
    "y_s_1 = y_syn[x_bias == 1.0]\n",
    "\n",
    "# SVM Classifier model\n",
    "#the hyperparameter C control the margin violations\n",
    "#smaller C leads to more margin violations but wider margin\n",
    "\n",
    "svm_clf = SVC(kernel=\"linear\", C=float(4))\n",
    "svm_clf.fit(X_syn, y_syn)\n",
    "\n",
    "plot_svc_decision_boundary(svm_clf, -6, 9)\n",
    "plt.scatter(X_s_0[y_s_0==1][:, 0], X_s_0[y_s_0==1][:, 1], color='green', marker='x', s=40, linewidth=1.5, label= \"Non-prot. +1\")\n",
    "plt.scatter(X_s_0[y_s_0==0][:, 0], X_s_0[y_s_0==0][:, 1], color='red', marker='x', s=40, linewidth=1.5, label = \"Non-prot. -1\")\n",
    "plt.scatter(X_s_1[y_s_1==1][:, 0], X_s_1[y_s_1==1][:, 1], color='green', marker='o', facecolors='none', s=40, label = \"Prot. +1\")\n",
    "plt.scatter(X_s_1[y_s_1==0][:, 0], X_s_1[y_s_1==0][:, 1], color='red', marker='o', facecolors='none', s=40, label = \"Prot. -1\")\n",
    "plt.figure()\n",
    "#plt.savefig('aggre.png')\n",
    "plt.show()"
   ]
  },
  {
   "cell_type": "markdown",
   "id": "acf2b7c5",
   "metadata": {},
   "source": [
    "First we calculate the accuracy of the SVM classifier in our dataset:"
   ]
  },
  {
   "cell_type": "code",
   "execution_count": 6,
   "id": "f1f5eca1",
   "metadata": {},
   "outputs": [
    {
     "name": "stdout",
     "output_type": "stream",
     "text": [
      "Accuracy: 82.5 %\n"
     ]
    }
   ],
   "source": [
    "#Accuracy\n",
    "y_pred=svm_clf.predict(X_syn)\n",
    "\n",
    "print(f\"Accuracy: {metrics.accuracy_score(y_syn, y_pred)*100} %\")\n"
   ]
  },
  {
   "cell_type": "markdown",
   "id": "5c5eb4aa",
   "metadata": {},
   "source": [
    "### Questions:\n",
    "\n",
    "1- Without doing any calculation, does this classifier satisfy any of the fairness definitions studied in Lecture 3?\\\n",
    "Yes: fairness through unawerness (it doesn't see `x_bias`).\n",
    "\n",
    "2-Calculate the equal opportunity metric for the given dataset and classifier.\n",
    "See below."
   ]
  },
  {
   "cell_type": "code",
   "execution_count": 36,
   "metadata": {},
   "outputs": [
    {
     "data": {
      "text/plain": [
       "0.325"
      ]
     },
     "execution_count": 36,
     "metadata": {},
     "output_type": "execute_result"
    }
   ],
   "source": [
    "f_eq_op = np.abs(y_pred[np.all([y_syn == 1, x_bias == 0], axis=0)].sum() / len(X_syn) - y_pred[np.all([y_syn == 1, x_bias == 1], axis=0)].sum() / len(X_syn)) # wrong\n",
    "f_eq_op"
   ]
  },
  {
   "cell_type": "markdown",
   "metadata": {},
   "source": [
    "\n",
    "3-Calculate the predictive equality metric for the given dataset and classifier.\n",
    "\n",
    "4-Calculate the equalized odds metric for the given dataset and classifier.\n",
    "\n",
    "5-Calculate the predictive parity metric for the given dataset and classifier.\n",
    "\n",
    "6-Calculate the statistical parity metric for the given dataset and classifier.\n",
    "\n",
    "7-a)Calculate the disparate impact metric for the given dataset and classifier.\n",
    "  b)Does this classifier satisfy the 80%-rule?\n",
    "  c)Formulate a sentence using the p value obtained in a). (Example: the ratio between ... and ... is of p%).\n"
   ]
  },
  {
   "cell_type": "markdown",
   "id": "ecdbf248",
   "metadata": {},
   "source": [
    "## 3.2 Fairness metrics for the German dataset"
   ]
  },
  {
   "cell_type": "code",
   "execution_count": 7,
   "id": "b948976b",
   "metadata": {},
   "outputs": [],
   "source": [
    "German_data = np.loadtxt('German.txt')\n",
    "i_prot = 39  # the protected features corresponds with column 40 from the txt file\n",
    "n_sample = 500  # we define our training sample size\n",
    "C_param = 5\n",
    "\n",
    "# We eliminate the first column that correspond to labels and the protected feature\n",
    "X_German = np.delete(German_data, [0, i_prot], 1)\n",
    "\n",
    "y_German = German_data[:, 0]  # labels\n",
    "x_bias_german = German_data[:, i_prot]  # protected feature\n",
    "\n",
    "# Now let us consider a training set\n",
    "X_G = X_German[1:n_sample, :]\n",
    "y_G = y_German[1:n_sample]\n",
    "x_bias_G = x_bias_german[1:n_sample]\n",
    "\n",
    "\n",
    "# SVM Classifier model\n",
    "# the hyperparameter C control the margin violations\n",
    "# smaller C leads to more margin violations but wider margin\n",
    "\n",
    "svm_clf = SVC(kernel=\"linear\", C=float(C_param))\n",
    "svm_clf.fit(X_G, y_G)\n",
    "\n",
    "y_pred_G = svm_clf.predict(X_G)"
   ]
  },
  {
   "cell_type": "markdown",
   "id": "3fab6b91",
   "metadata": {},
   "source": [
    "### Questions:\n",
    "In the code before, we set i_prot=40, which means we consider the protected feature being \"female divorced/separated/married\". Under this choice:\n",
    "\n",
    "1- Provide a table with the 6 fairness metrics.\n",
    "\n",
    "2- Does this classifier satisfy the 80%-rule?\n",
    "\n",
    "Now choose as protected feature being \"male divorced/separated\", i.e., i_prot=39. Under this choice:\n",
    "\n",
    "3- Provide a table with the 6 fairness metrics.\n",
    "\n",
    "4- Does this classifier satisfy the 80%-rule?\n",
    "\n",
    "5- Can you obtain any conclusion comparing the tables from 1 and 3?"
   ]
  },
  {
   "cell_type": "code",
   "execution_count": null,
   "id": "68207273",
   "metadata": {},
   "outputs": [],
   "source": []
  }
 ],
 "metadata": {
  "interpreter": {
   "hash": "36cf16204b8548560b1c020c4e8fb5b57f0e4c58016f52f2d4be01e192833930"
  },
  "kernelspec": {
   "display_name": "Python 3.9.7 64-bit",
   "name": "python3"
  },
  "language_info": {
   "codemirror_mode": {
    "name": "ipython",
    "version": 3
   },
   "file_extension": ".py",
   "mimetype": "text/x-python",
   "name": "python",
   "nbconvert_exporter": "python",
   "pygments_lexer": "ipython3",
   "version": "3.9.7"
  }
 },
 "nbformat": 4,
 "nbformat_minor": 5
}

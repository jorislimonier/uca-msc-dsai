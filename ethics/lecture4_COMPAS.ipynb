{
 "cells": [
  {
   "cell_type": "markdown",
   "id": "bd2e3d9d",
   "metadata": {
    "tags": []
   },
   "source": [
    "<h1 style=\"font-size:3rem;color:#A3623B;\">Lecture 4: The COMPAS recividism dataset</h1>\n",
    "\n",
    "## Security and Ethical aspects of data\n",
    "\n",
    "### Amaya Nogales Gómez\n"
   ]
  },
  {
   "cell_type": "markdown",
   "id": "a972f946",
   "metadata": {},
   "source": [
    "## 1 Introduction\n",
    "\n",
    "First, we import the original COMPAS dataset used in the Propublica analysis from https://github.com/propublica/compas-analysis/blob/master/compas-scores-two-years.csv.\n",
    "\n",
    "We do the same filtering as in the Propublica analysis and we save our new csv file. For that, we will use R.\n"
   ]
  },
  {
   "cell_type": "code",
   "execution_count": 1,
   "id": "8a6d3033",
   "metadata": {},
   "outputs": [],
   "source": [
    "# filter dplyr warnings\n",
    "import warnings\n",
    "%load_ext rpy2.ipython\n",
    "warnings.filterwarnings('ignore')"
   ]
  },
  {
   "cell_type": "markdown",
   "id": "4dd678ec",
   "metadata": {},
   "source": [
    "Note: if you obtain the following error: \"UsageError: Cell magic `%%R` not found.\"\n",
    "Try this solution: pip install rpy2\n",
    "\n",
    "## Filtering of data\n",
    "\n",
    "<em>In a 2009 study examining the predictive power of its COMPAS score, Northpointe defined recidivism as “a finger-printable arrest involving a charge and a filing for any uniform crime reporting (UCR) code.” We interpreted that to mean a criminal offense that resulted in a jail booking and took place after the crime for which the person was COMPAS scored.\n",
    "\n",
    "It was not always clear, however, which criminal case was associated with an individual’s COMPAS score. To match COMPAS scores with accompanying cases, we considered cases with arrest dates or charge dates within 30 days of a COMPAS assessment being conducted. In some instances, we could not find any corresponding charges to COMPAS scores. We removed those cases from our analysis.\n",
    "\n",
    "Next, we sought to determine if a person had been charged with a new crime subsequent to crime for which they were COMPAS screened. We did not count traffic tickets and some municipal ordinance violations as recidivism. We did not count as recidivists people who were arrested for failing to appear at their court hearings, or people who were later charged with a crime that occurred prior to their COMPAS screening.</em>\n",
    "\n",
    "Finally we save the filtered csv file.\n"
   ]
  },
  {
   "cell_type": "code",
   "execution_count": 2,
   "id": "9768d9b1",
   "metadata": {},
   "outputs": [
    {
     "name": "stderr",
     "output_type": "stream",
     "text": [
      "R[write to console]: \n",
      "Attaching package: ‘dplyr’\n",
      "\n",
      "\n",
      "R[write to console]: The following objects are masked from ‘package:stats’:\n",
      "\n",
      "    filter, lag\n",
      "\n",
      "\n",
      "R[write to console]: The following objects are masked from ‘package:base’:\n",
      "\n",
      "    intersect, setdiff, setequal, union\n",
      "\n",
      "\n"
     ]
    },
    {
     "name": "stdout",
     "output_type": "stream",
     "text": [
      "[1] 7214\n",
      "[1] 6172\n"
     ]
    }
   ],
   "source": [
    "%%R\n",
    "options(timeout=300)\n",
    "library(dplyr)\n",
    "# You can choose your favorite option:\n",
    "# a)Download the dataset and access it locally\n",
    "# raw_data <- read.csv(\"./compas-scores-two-years.csv\")\n",
    "# b)Access the dataset directly from the repository\n",
    "raw_data <- read.csv(\"https://raw.githubusercontent.com/propublica/compas-analysis/master/compas-scores-two-years.csv\")\n",
    "\n",
    "print(nrow(raw_data))\n",
    "\n",
    "df <- dplyr:: select(raw_data, age, c_charge_degree, race, age_cat, score_text, sex, priors_count,\n",
    "                      days_b_screening_arrest, decile_score, is_recid, two_year_recid, c_jail_in, c_jail_out) %>%\n",
    "filter(days_b_screening_arrest <= 30) %>%\n",
    "filter(days_b_screening_arrest >= -30) %>%\n",
    "filter(is_recid != -1) %>%\n",
    "filter(c_charge_degree != \"O\") %>%\n",
    "filter(score_text != 'N/A')\n",
    "write.csv(df, \"propublica.csv\")\n",
    "print(nrow(df))\n"
   ]
  },
  {
   "cell_type": "markdown",
   "id": "36deb31a",
   "metadata": {},
   "source": [
    "Now we import the same libraries as in the previous labs.\n"
   ]
  },
  {
   "cell_type": "code",
   "execution_count": 3,
   "id": "4f2ce6cd",
   "metadata": {},
   "outputs": [],
   "source": [
    "# we import all the required libraries\n",
    "import numpy as np\n",
    "import pandas as pd\n",
    "import matplotlib.pyplot as plt  # for plotting stuff\n",
    "from random import seed, shuffle\n",
    "from scipy.stats import multivariate_normal  # for generating synthetic data\n",
    "import seaborn as sns\n",
    "from sklearn import metrics\n",
    "from sklearn.metrics import confusion_matrix\n",
    "SEED = 1122334455\n",
    "seed(SEED)  # set the random seed so that the random permutations can be reproduced again\n",
    "np.random.seed(SEED)\n"
   ]
  },
  {
   "cell_type": "markdown",
   "id": "6fdce0d7",
   "metadata": {},
   "source": [
    "We first read the filtered data.\n"
   ]
  },
  {
   "cell_type": "code",
   "execution_count": 4,
   "id": "b16f6c0f",
   "metadata": {},
   "outputs": [
    {
     "name": "stdout",
     "output_type": "stream",
     "text": [
      "<class 'pandas.core.frame.DataFrame'>\n",
      "RangeIndex: 6172 entries, 0 to 6171\n",
      "Data columns (total 14 columns):\n",
      " #   Column                   Non-Null Count  Dtype \n",
      "---  ------                   --------------  ----- \n",
      " 0   Unnamed: 0               6172 non-null   int64 \n",
      " 1   age                      6172 non-null   int64 \n",
      " 2   c_charge_degree          6172 non-null   object\n",
      " 3   race                     6172 non-null   object\n",
      " 4   age_cat                  6172 non-null   object\n",
      " 5   score_text               6172 non-null   object\n",
      " 6   sex                      6172 non-null   object\n",
      " 7   priors_count             6172 non-null   int64 \n",
      " 8   days_b_screening_arrest  6172 non-null   int64 \n",
      " 9   decile_score             6172 non-null   int64 \n",
      " 10  is_recid                 6172 non-null   int64 \n",
      " 11  two_year_recid           6172 non-null   int64 \n",
      " 12  c_jail_in                6172 non-null   object\n",
      " 13  c_jail_out               6172 non-null   object\n",
      "dtypes: int64(7), object(7)\n",
      "memory usage: 675.2+ KB\n",
      "Size of the dataset: 6172\n"
     ]
    }
   ],
   "source": [
    "df = pd.read_csv(\"propublica.csv\")\n",
    "df.info()\n",
    "# We calculate the number of objects in the dataset\n",
    "print(\"Size of the dataset: %d\" % len(df.index))\n"
   ]
  },
  {
   "cell_type": "markdown",
   "id": "26e9ea55",
   "metadata": {},
   "source": [
    "The result reveals a total of 6172 entries in the dataset. From the last column, Dtype, we might observe three different types of variables: the columns with data type “int64” and “float64” denote numerical (integer and real respectively) data while data type “object” denotes categorical data.\n",
    "\n",
    "We will work with two different datasets. For basic descriptive analysis, we will use \"propublica.csv\". Later on, in order to obtain different classifiers, we will transform the dataset in order to binarize the categorical features.\n"
   ]
  },
  {
   "cell_type": "markdown",
   "id": "4a25ced4",
   "metadata": {},
   "source": [
    "Questions:\n",
    "\n",
    "Do the same preprocessing but for the \"compas-scores-two-years-violent.csv\" dataset.\n",
    "\n",
    "1-Load the data, select the variables and filter. Please note that in this dataset, there are 2 renamed variables: $score\\_text$ becomes $v\\_score\\_text$ and $decile\\_score$ becomes $v\\_decile\\_score$.\n",
    "\n",
    "2-Save it into a new file, \"propublica-violent.csv\".\n",
    "\n",
    "3-Which is the size of the dataset before and after filtering?\n"
   ]
  },
  {
   "cell_type": "code",
   "execution_count": 5,
   "id": "1b29c101",
   "metadata": {},
   "outputs": [
    {
     "name": "stdout",
     "output_type": "stream",
     "text": [
      "[1] 4743\n",
      "[1] 4020\n"
     ]
    }
   ],
   "source": [
    "%%R\n",
    "options(timeout=300)\n",
    "library(dplyr)\n",
    "# You can choose your favorite option:\n",
    "# a)Download the dataset and access it locally\n",
    "# raw_data <- read.csv(\"./compas-scores-two-years.csv\")\n",
    "# b)Access the dataset directly from the repository\n",
    "raw_data <- read.csv(\"https://raw.githubusercontent.com/propublica/compas-analysis/master/compas-scores-two-years-violent.csv\")\n",
    "\n",
    "print(nrow(raw_data))\n",
    "\n",
    "df <- dplyr:: select(raw_data, age, c_charge_degree, race, age_cat, v_score_text, sex, priors_count,\n",
    "                      days_b_screening_arrest, v_decile_score, is_recid, two_year_recid, c_jail_in, c_jail_out) %>%\n",
    "filter(days_b_screening_arrest <= 30) %>%\n",
    "filter(days_b_screening_arrest >= -30) %>%\n",
    "filter(is_recid != -1) %>%\n",
    "filter(c_charge_degree != \"O\") %>%\n",
    "filter(v_score_text != 'N/A')\n",
    "write.csv(df, \"propublica_violent.csv\")\n",
    "print(nrow(df))\n"
   ]
  },
  {
   "cell_type": "markdown",
   "id": "bd36eba5",
   "metadata": {},
   "source": [
    "We first observe the different type of variables and the values the take:\n"
   ]
  },
  {
   "cell_type": "code",
   "execution_count": 6,
   "id": "a2b9cd5b",
   "metadata": {},
   "outputs": [
    {
     "name": "stdout",
     "output_type": "stream",
     "text": [
      "Unnamed: 0 \n",
      "\t [   1    2    3 ... 6170 6171 6172]\n",
      "age \n",
      "\t [69 34 24 44 41 43 39 27 23 37 47 31 25 64 21 32 26 33 30 55 49 29 51 35\n",
      " 28 53 38 22 62 56 45 40 50 20 36 54 19 42 52 59 61 63 48 46 58 78 57 66\n",
      " 70 60 65 68 71 83 67 75 72 74 96 73 80 77 76 79 18]\n",
      "c_charge_degree \n",
      "\t ['F' 'M']\n",
      "race \n",
      "\t ['Other' 'African-American' 'Caucasian' 'Hispanic' 'Asian'\n",
      " 'Native American']\n",
      "age_cat \n",
      "\t ['Greater than 45' '25 - 45' 'Less than 25']\n",
      "score_text \n",
      "\t ['Low' 'Medium' 'High']\n",
      "sex \n",
      "\t ['Male' 'Female']\n",
      "priors_count \n",
      "\t [ 0  4 14  3  1  7  6  5 13  8  9 21  2 15 10 28 19 11 23 25 36 12 20 33\n",
      " 16 18 17 22 30 24 27 26 37 29 31 38]\n",
      "days_b_screening_arrest \n",
      "\t [ -1   0 -20  22  -2 -24 -13 -15 -10 -30  -4 -16 -26  -7  29  -3  23 -11\n",
      " -22 -21 -12  -8  -5 -23 -14  -9  -6 -27 -19 -18  26 -29  28   7 -17 -28\n",
      "   9 -25  13  20  17  30   6   2  16   8   1  18  15  21  27  11   3  14\n",
      "   5  24]\n",
      "decile_score \n",
      "\t [ 1  3  4  6 10  5  9  2  7  8]\n",
      "is_recid \n",
      "\t [0 1]\n",
      "two_year_recid \n",
      "\t [0 1]\n",
      "c_jail_in \n",
      "\t ['2013-08-13 06:03:42' '2013-01-26 03:45:27' '2013-04-13 04:58:34' ...\n",
      " '2014-01-13 05:48:01' '2014-03-08 08:06:02' '2014-06-28 12:16:41']\n",
      "c_jail_out \n",
      "\t ['2013-08-14 05:41:20' '2013-02-05 05:36:53' '2013-04-14 07:02:04' ...\n",
      " '2014-01-14 07:49:46' '2014-03-09 12:18:04' '2014-06-30 11:19:23']\n"
     ]
    }
   ],
   "source": [
    "for col in df:\n",
    "    print(col, \"\\n\\t\", df[col].unique())\n"
   ]
  },
  {
   "cell_type": "markdown",
   "id": "ff0b0107",
   "metadata": {},
   "source": [
    "We do some basic statistic descriptive analysis:\n"
   ]
  },
  {
   "cell_type": "code",
   "execution_count": 7,
   "id": "44fe35ea",
   "metadata": {},
   "outputs": [
    {
     "data": {
      "text/plain": [
       "<AxesSubplot:title={'center':'Distribution of race among defendants'}>"
      ]
     },
     "execution_count": 7,
     "metadata": {},
     "output_type": "execute_result"
    },
    {
     "data": {
      "image/png": "[encoded data removed]",
      "text/plain": [
       "<Figure size 1152x432 with 2 Axes>"
      ]
     },
     "metadata": {
      "needs_background": "light"
     },
     "output_type": "display_data"
    }
   ],
   "source": [
    "fig, axes = plt.subplots(1, 2, figsize=(16, 6))\n",
    "\n",
    "(\n",
    "    df.sex.value_counts(normalize=True)\n",
    "    .plot(kind='bar', title='Distribution of gender among defendants', ax=axes[0], color='#A3623B')\n",
    ")\n",
    "\n",
    "(\n",
    "    df.race.value_counts(normalize=True)\n",
    "    .plot(kind='bar', title='Distribution of race among defendants', ax=axes[1], color='#A3623B')\n",
    ")\n",
    "\n",
    "\n",
    "# plt.savefig(\"Hist_sex_race.pdf\")\n"
   ]
  },
  {
   "cell_type": "markdown",
   "id": "ce879920",
   "metadata": {},
   "source": [
    "Questions:\n",
    "\n",
    "4- Plot the histogram for the $age\\_cat$ variable.\n"
   ]
  },
  {
   "cell_type": "code",
   "execution_count": 8,
   "id": "e92548f5",
   "metadata": {},
   "outputs": [
    {
     "data": {
      "text/plain": [
       "<AxesSubplot:>"
      ]
     },
     "execution_count": 8,
     "metadata": {},
     "output_type": "execute_result"
    },
    {
     "data": {
      "image/png": "[encoded data removed]",
      "text/plain": [
       "<Figure size 432x288 with 1 Axes>"
      ]
     },
     "metadata": {
      "needs_background": "light"
     },
     "output_type": "display_data"
    }
   ],
   "source": [
    "df[\"age_cat\"].hist()\n"
   ]
  },
  {
   "cell_type": "markdown",
   "id": "604477ca",
   "metadata": {},
   "source": [
    "5- Plot a pie chart for the $age\\_cat$ variable.\n"
   ]
  },
  {
   "cell_type": "code",
   "execution_count": 9,
   "id": "3f7d47c7",
   "metadata": {},
   "outputs": [
    {
     "data": {
      "text/plain": [
       "<AxesSubplot:ylabel='age_cat'>"
      ]
     },
     "execution_count": 9,
     "metadata": {},
     "output_type": "execute_result"
    },
    {
     "data": {
      "image/png": "[encoded data removed]",
      "text/plain": [
       "<Figure size 432x288 with 1 Axes>"
      ]
     },
     "metadata": {},
     "output_type": "display_data"
    }
   ],
   "source": [
    "df[\"age_cat\"].value_counts().plot(kind=\"pie\")\n"
   ]
  },
  {
   "cell_type": "markdown",
   "id": "0f93b902",
   "metadata": {},
   "source": [
    "Judges are often presented with two sets of scores from the Compas system - one that classifies people into High, Medium and Low risk, and a corresponding decile score. Let us analize this two outputs:\n"
   ]
  },
  {
   "cell_type": "code",
   "execution_count": 10,
   "id": "5f20cd13",
   "metadata": {},
   "outputs": [
    {
     "data": {
      "image/png": "[encoded data removed]",
      "text/plain": [
       "<Figure size 432x288 with 1 Axes>"
      ]
     },
     "metadata": {
      "needs_background": "light"
     },
     "output_type": "display_data"
    }
   ],
   "source": [
    "ax = df.decile_score.value_counts(normalize=True).plot(\n",
    "    kind='bar', title='Distribution of COMPAS scores', color='#714A41')\n",
    "\n",
    "# plt.savefig(\"Hist_score_all.pdf\")\n"
   ]
  },
  {
   "cell_type": "markdown",
   "id": "4b21e778",
   "metadata": {},
   "source": [
    "Questions:\n",
    "\n",
    "6-Create a bar chart for the \"variable\" $score\\_text$.\n"
   ]
  },
  {
   "cell_type": "code",
   "execution_count": 11,
   "id": "bdfeab5f",
   "metadata": {},
   "outputs": [
    {
     "data": {
      "text/plain": [
       "<AxesSubplot:>"
      ]
     },
     "execution_count": 11,
     "metadata": {},
     "output_type": "execute_result"
    },
    {
     "data": {
      "image/png": "[encoded data removed]",
      "text/plain": [
       "<Figure size 432x288 with 1 Axes>"
      ]
     },
     "metadata": {
      "needs_background": "light"
     },
     "output_type": "display_data"
    }
   ],
   "source": [
    "df[\"score_text\"].value_counts().plot(kind=\"bar\")\n"
   ]
  },
  {
   "cell_type": "markdown",
   "id": "4c46a272",
   "metadata": {},
   "source": [
    "7-Create a bar chart for the compas score ($decile\\_score$) for white defendants (caucasian) and black defendants (African-American) separatedly.\n"
   ]
  },
  {
   "cell_type": "code",
   "execution_count": 12,
   "id": "1095a5f2",
   "metadata": {},
   "outputs": [
    {
     "data": {
      "text/plain": [
       "<AxesSubplot:ylabel='Frequency'>"
      ]
     },
     "execution_count": 12,
     "metadata": {},
     "output_type": "execute_result"
    },
    {
     "data": {
      "image/png": "[encoded data removed]",
      "text/plain": [
       "<Figure size 432x288 with 1 Axes>"
      ]
     },
     "metadata": {
      "needs_background": "light"
     },
     "output_type": "display_data"
    }
   ],
   "source": [
    "df[df[\"race\"] == \"Caucasian\"][\"decile_score\"].plot(kind=\"hist\", alpha=.6)\n",
    "df[df[\"race\"] ==\n",
    "    \"African-American\"][\"decile_score\"].plot(kind=\"hist\", alpha=.6)\n"
   ]
  },
  {
   "cell_type": "markdown",
   "id": "08c66f77",
   "metadata": {},
   "source": [
    "8-Repeat question 7 for the $score\\_text$.\n"
   ]
  },
  {
   "cell_type": "code",
   "execution_count": 13,
   "id": "029e17e6",
   "metadata": {},
   "outputs": [
    {
     "data": {
      "text/plain": [
       "<matplotlib.legend.Legend at 0x7f3e34177d30>"
      ]
     },
     "execution_count": 13,
     "metadata": {},
     "output_type": "execute_result"
    },
    {
     "data": {
      "image/png": "[encoded data removed]",
      "text/plain": [
       "<Figure size 432x288 with 1 Axes>"
      ]
     },
     "metadata": {
      "needs_background": "light"
     },
     "output_type": "display_data"
    }
   ],
   "source": [
    "df[df[\"race\"] == \"Caucasian\"][\"score_text\"].value_counts().plot(\n",
    "    kind=\"bar\", color=\"blue\", alpha=.5)\n",
    "df[df[\"race\"] == \"African-American\"][\"score_text\"].value_counts().plot(kind=\"bar\",\n",
    "                                                                       color=\"red\", alpha=.5)\n",
    "plt.legend([\"Caucasian\", \"African-American\"])\n"
   ]
  },
  {
   "cell_type": "markdown",
   "id": "647ec659",
   "metadata": {},
   "source": [
    "9-Repeat question 7 for the $sex$.\n"
   ]
  },
  {
   "cell_type": "code",
   "execution_count": 14,
   "id": "e6c7fa61",
   "metadata": {},
   "outputs": [
    {
     "data": {
      "text/plain": [
       "<matplotlib.legend.Legend at 0x7f3e340f8f10>"
      ]
     },
     "execution_count": 14,
     "metadata": {},
     "output_type": "execute_result"
    },
    {
     "data": {
      "image/png": "[encoded data removed]",
      "text/plain": [
       "<Figure size 432x288 with 1 Axes>"
      ]
     },
     "metadata": {
      "needs_background": "light"
     },
     "output_type": "display_data"
    }
   ],
   "source": [
    "df[df[\"race\"] == \"Caucasian\"][\"sex\"].value_counts().plot(\n",
    "    kind=\"bar\", color=\"blue\", alpha=.5)\n",
    "df[df[\"race\"] == \"African-American\"][\"sex\"].value_counts().plot(kind=\"bar\",\n",
    "                                                                color=\"red\", alpha=.5)\n",
    "plt.legend([\"Caucasian\", \"African-American\"])\n"
   ]
  },
  {
   "cell_type": "markdown",
   "id": "3ecf4f84",
   "metadata": {},
   "source": [
    "ProPublica also conducted public records research to determine which defendants re-offended in the two years following their COMPAS screening. They were able to follow up on approximately half the defendants.\n",
    "\n",
    "This dataset contains a field $two\\_year\\_recid$ that is 1 if the defendant re-offended within two years of screening and 0 otherwise. This what we denote $y$, the binary label to be predicted.\n",
    "\n",
    "We will concern ourselves with comparing the Black and white populations, as in the article.\n",
    "\n",
    "Similarly, we will consider a COMPAS score of either 'Medium' or 'High' to be a prediction that the defendant will re-offend within two years, this is what we denote $\\hat{y}$, the predicted binary by the COMPAS algorithm.\n"
   ]
  },
  {
   "cell_type": "code",
   "execution_count": 15,
   "id": "783eb9fa",
   "metadata": {},
   "outputs": [],
   "source": [
    "df = (\n",
    "    pd.read_csv(\"propublica.csv\")\n",
    "    # We first binarize the categorical feature c_charge_degree\n",
    "    .assign(COMPAS_Decision=lambda x: x['score_text'].replace({'Low': 0, 'Medium': 1, 'High': 1}))\n",
    ")\n"
   ]
  },
  {
   "cell_type": "markdown",
   "id": "3445679c",
   "metadata": {},
   "source": [
    "Now we compute the error table:\n"
   ]
  },
  {
   "cell_type": "code",
   "execution_count": 16,
   "id": "38d10929",
   "metadata": {},
   "outputs": [
    {
     "data": {
      "text/html": [
       "<div>\n",
       "<style scoped>\n",
       "    .dataframe tbody tr th:only-of-type {\n",
       "        vertical-align: middle;\n",
       "    }\n",
       "\n",
       "    .dataframe tbody tr th {\n",
       "        vertical-align: top;\n",
       "    }\n",
       "\n",
       "    .dataframe thead th {\n",
       "        text-align: right;\n",
       "    }\n",
       "</style>\n",
       "<table border=\"1\" class=\"dataframe\">\n",
       "  <thead>\n",
       "    <tr style=\"text-align: right;\">\n",
       "      <th>two_year_recid</th>\n",
       "      <th>0</th>\n",
       "      <th>1</th>\n",
       "      <th>All</th>\n",
       "    </tr>\n",
       "    <tr>\n",
       "      <th>COMPAS_Decision</th>\n",
       "      <th></th>\n",
       "      <th></th>\n",
       "      <th></th>\n",
       "    </tr>\n",
       "  </thead>\n",
       "  <tbody>\n",
       "    <tr>\n",
       "      <th>0</th>\n",
       "      <td>2345</td>\n",
       "      <td>1076</td>\n",
       "      <td>3421</td>\n",
       "    </tr>\n",
       "    <tr>\n",
       "      <th>1</th>\n",
       "      <td>1018</td>\n",
       "      <td>1733</td>\n",
       "      <td>2751</td>\n",
       "    </tr>\n",
       "    <tr>\n",
       "      <th>All</th>\n",
       "      <td>3363</td>\n",
       "      <td>2809</td>\n",
       "      <td>6172</td>\n",
       "    </tr>\n",
       "  </tbody>\n",
       "</table>\n",
       "</div>"
      ],
      "text/plain": [
       "two_year_recid      0     1   All\n",
       "COMPAS_Decision                  \n",
       "0                2345  1076  3421\n",
       "1                1018  1733  2751\n",
       "All              3363  2809  6172"
      ]
     },
     "execution_count": 16,
     "metadata": {},
     "output_type": "execute_result"
    }
   ],
   "source": [
    "pd.crosstab(df['COMPAS_Decision'], df['two_year_recid'], margins=True)\n"
   ]
  },
  {
   "cell_type": "markdown",
   "id": "1fd707b5",
   "metadata": {},
   "source": [
    "Question:\n",
    "\n",
    "10- Based on the previous table, which is the False Positive Rate for the COMPAS algorithm? And the False Negative Rate?\n"
   ]
  },
  {
   "cell_type": "code",
   "execution_count": 17,
   "id": "38d10929",
   "metadata": {},
   "outputs": [
    {
     "name": "stdout",
     "output_type": "stream",
     "text": [
      "FPR: 0.30270591733571217\n",
      "FNR: 0.38305446778212887\n"
     ]
    },
    {
     "data": {
      "text/html": [
       "<div>\n",
       "<style scoped>\n",
       "    .dataframe tbody tr th:only-of-type {\n",
       "        vertical-align: middle;\n",
       "    }\n",
       "\n",
       "    .dataframe tbody tr th {\n",
       "        vertical-align: top;\n",
       "    }\n",
       "\n",
       "    .dataframe thead th {\n",
       "        text-align: right;\n",
       "    }\n",
       "</style>\n",
       "<table border=\"1\" class=\"dataframe\">\n",
       "  <thead>\n",
       "    <tr style=\"text-align: right;\">\n",
       "      <th>two_year_recid</th>\n",
       "      <th>0</th>\n",
       "      <th>1</th>\n",
       "      <th>All</th>\n",
       "    </tr>\n",
       "    <tr>\n",
       "      <th>COMPAS_Decision</th>\n",
       "      <th></th>\n",
       "      <th></th>\n",
       "      <th></th>\n",
       "    </tr>\n",
       "  </thead>\n",
       "  <tbody>\n",
       "    <tr>\n",
       "      <th>0</th>\n",
       "      <td>0.697294</td>\n",
       "      <td>0.383054</td>\n",
       "      <td>0.554277</td>\n",
       "    </tr>\n",
       "    <tr>\n",
       "      <th>1</th>\n",
       "      <td>0.302706</td>\n",
       "      <td>0.616946</td>\n",
       "      <td>0.445723</td>\n",
       "    </tr>\n",
       "  </tbody>\n",
       "</table>\n",
       "</div>"
      ],
      "text/plain": [
       "two_year_recid          0         1       All\n",
       "COMPAS_Decision                              \n",
       "0                0.697294  0.383054  0.554277\n",
       "1                0.302706  0.616946  0.445723"
      ]
     },
     "execution_count": 17,
     "metadata": {},
     "output_type": "execute_result"
    }
   ],
   "source": [
    "ct = pd.crosstab(df['COMPAS_Decision'], df['two_year_recid'],\n",
    "            margins=True, normalize=\"columns\")\n",
    "print(f\"FPR: {ct.iloc[1, 0]}\")\n",
    "print(f\"FNR: {ct.iloc[0, 1]}\")\n",
    "ct"
   ]
  },
  {
   "cell_type": "markdown",
   "id": "1b28ab8f",
   "metadata": {},
   "source": [
    "11-Which is the accuracy of the COMPAS algorithm in the propublica dataset?\n"
   ]
  },
  {
   "cell_type": "code",
   "execution_count": 18,
   "id": "58863bb2",
   "metadata": {},
   "outputs": [
    {
     "data": {
      "text/plain": [
       "0.6607258587167855"
      ]
     },
     "execution_count": 18,
     "metadata": {},
     "output_type": "execute_result"
    }
   ],
   "source": [
    "crosst = pd.crosstab(df['COMPAS_Decision'], df['two_year_recid'], margins=True)\n",
    "(crosst.iloc[0, 0] + crosst.iloc[1, 1]) / crosst.iloc[2, 2]\n"
   ]
  },
  {
   "cell_type": "markdown",
   "id": "0d10fb28",
   "metadata": {},
   "source": [
    "12-Which is the accuracy of the COMPAS algorithm in the propublica-violent dataset?\n"
   ]
  },
  {
   "cell_type": "code",
   "execution_count": 19,
   "id": "7ae6ca55",
   "metadata": {},
   "outputs": [],
   "source": [
    "df_viol = (\n",
    "    pd.read_csv(\"propublica_violent.csv\")\n",
    "    # We first binarize the categorical feature c_charge_degree\n",
    "    .assign(COMPAS_Decision=lambda x: x['v_score_text'].replace({'Low': 0, 'Medium': 1, 'High': 1}))\n",
    ")\n"
   ]
  },
  {
   "cell_type": "code",
   "execution_count": 20,
   "id": "f94f4627",
   "metadata": {},
   "outputs": [
    {
     "data": {
      "text/plain": [
       "0.7345771144278607"
      ]
     },
     "execution_count": 20,
     "metadata": {},
     "output_type": "execute_result"
    }
   ],
   "source": [
    "crosst_viol = pd.crosstab(\n",
    "    df_viol[\"COMPAS_Decision\"], df_viol[\"two_year_recid\"], margins=True)\n",
    "(crosst_viol.iloc[0, 0] + crosst_viol.iloc[1, 1]) / crosst_viol.iloc[2, 2]\n"
   ]
  },
  {
   "cell_type": "markdown",
   "id": "4ac7131b",
   "metadata": {},
   "source": [
    "We are going to visualize with a heatmap the different metrics we want to analyze: the number and rates of false/true negatives/positives:\n"
   ]
  },
  {
   "cell_type": "code",
   "execution_count": 21,
   "id": "872e13c7",
   "metadata": {},
   "outputs": [
    {
     "data": {
      "image/png": "[encoded data removed]",
      "text/plain": [
       "<Figure size 1008x432 with 2 Axes>"
      ]
     },
     "metadata": {
      "needs_background": "light"
     },
     "output_type": "display_data"
    }
   ],
   "source": [
    "# Warning: we need to normalize by column to obtain the FPR table\n",
    "cm = pd.crosstab(df['COMPAS_Decision'], df['two_year_recid'], rownames=[\n",
    "                 'Predicted recidivism'], colnames=['Actual recidivism'])\n",
    "cm1 = pd.crosstab(df['COMPAS_Decision'], df['two_year_recid'], rownames=[\n",
    "                  'Predicted recidivism'], colnames=['Actual recidivism'], normalize='columns')\n",
    "\n",
    "fig, axes = plt.subplots(1, 2, figsize=(14, 6))\n",
    "(\n",
    "    sns.heatmap(cm, annot=True, fmt=\"d\", cbar=False,\n",
    "                ax=axes[0], cmap='YlOrBr', annot_kws={\"size\": 18})\n",
    ")\n",
    "(\n",
    "    sns.heatmap(cm1, annot=True, fmt=\"f\", cbar=False,\n",
    "                ax=axes[1], cmap='YlOrBr', annot_kws={\"size\": 18})\n",
    ")\n",
    "sns.set(font_scale=1.4)\n",
    "# plt.savefig(\"FreqTable_all.pdf\");\n"
   ]
  },
  {
   "cell_type": "markdown",
   "id": "3d059386",
   "metadata": {},
   "source": [
    "Question:\n",
    "\n",
    "13-Provide the same tables (heatmaps) for the propublica-violent dataset.\n"
   ]
  },
  {
   "cell_type": "code",
   "execution_count": 22,
   "id": "66ecf140",
   "metadata": {},
   "outputs": [
    {
     "data": {
      "image/png": "[encoded data removed]",
      "text/plain": [
       "<Figure size 1008x432 with 2 Axes>"
      ]
     },
     "metadata": {},
     "output_type": "display_data"
    }
   ],
   "source": [
    "# Warning: we need to normalize by column to obtain the FPR table\n",
    "cm = pd.crosstab(df_viol['COMPAS_Decision'], df_viol['two_year_recid'], rownames=[\n",
    "                 'Predicted recidivism'], colnames=['Actual recidivism'])\n",
    "cm1 = pd.crosstab(df_viol['COMPAS_Decision'], df_viol['two_year_recid'], rownames=[\n",
    "                  'Predicted recidivism'], colnames=['Actual recidivism'], normalize='columns')\n",
    "\n",
    "fig, axes = plt.subplots(1, 2, figsize=(14, 6))\n",
    "(\n",
    "    sns.heatmap(cm, annot=True, fmt=\"d\", cbar=False,\n",
    "                ax=axes[0], cmap='YlOrBr', annot_kws={\"size\": 18})\n",
    ")\n",
    "(\n",
    "    sns.heatmap(cm1, annot=True, fmt=\"f\", cbar=False,\n",
    "                ax=axes[1], cmap='YlOrBr', annot_kws={\"size\": 18})\n",
    ")\n",
    "sns.set(font_scale=1.4)\n",
    "# plt.savefig(\"FreqTable_all.pdf\");\n"
   ]
  },
  {
   "cell_type": "markdown",
   "id": "ad60a514",
   "metadata": {},
   "source": [
    "Now we do are going to do the same analysis by race to see if there is any bias:\n"
   ]
  },
  {
   "cell_type": "code",
   "execution_count": 23,
   "id": "96dbe0be",
   "metadata": {},
   "outputs": [
    {
     "data": {
      "text/html": [
       "<div>\n",
       "<style scoped>\n",
       "    .dataframe tbody tr th:only-of-type {\n",
       "        vertical-align: middle;\n",
       "    }\n",
       "\n",
       "    .dataframe tbody tr th {\n",
       "        vertical-align: top;\n",
       "    }\n",
       "\n",
       "    .dataframe thead tr th {\n",
       "        text-align: left;\n",
       "    }\n",
       "\n",
       "    .dataframe thead tr:last-of-type th {\n",
       "        text-align: right;\n",
       "    }\n",
       "</style>\n",
       "<table border=\"1\" class=\"dataframe\">\n",
       "  <thead>\n",
       "    <tr>\n",
       "      <th></th>\n",
       "      <th colspan=\"2\" halign=\"left\">Black</th>\n",
       "      <th colspan=\"2\" halign=\"left\">White</th>\n",
       "    </tr>\n",
       "    <tr>\n",
       "      <th>two_year_recid</th>\n",
       "      <th>0</th>\n",
       "      <th>1</th>\n",
       "      <th>0</th>\n",
       "      <th>1</th>\n",
       "    </tr>\n",
       "    <tr>\n",
       "      <th>COMPAS_Decision</th>\n",
       "      <th></th>\n",
       "      <th></th>\n",
       "      <th></th>\n",
       "      <th></th>\n",
       "    </tr>\n",
       "  </thead>\n",
       "  <tbody>\n",
       "    <tr>\n",
       "      <th>0</th>\n",
       "      <td>0.576618</td>\n",
       "      <td>0.284768</td>\n",
       "      <td>0.779859</td>\n",
       "      <td>0.49635</td>\n",
       "    </tr>\n",
       "    <tr>\n",
       "      <th>1</th>\n",
       "      <td>0.423382</td>\n",
       "      <td>0.715232</td>\n",
       "      <td>0.220141</td>\n",
       "      <td>0.50365</td>\n",
       "    </tr>\n",
       "  </tbody>\n",
       "</table>\n",
       "</div>"
      ],
      "text/plain": [
       "                    Black               White         \n",
       "two_year_recid          0         1         0        1\n",
       "COMPAS_Decision                                       \n",
       "0                0.576618  0.284768  0.779859  0.49635\n",
       "1                0.423382  0.715232  0.220141  0.50365"
      ]
     },
     "execution_count": 23,
     "metadata": {},
     "output_type": "execute_result"
    }
   ],
   "source": [
    "b_recid = df[df['race'] == 'African-American']\n",
    "w_recid = df[df['race'] == 'Caucasian']\n",
    "\n",
    "pd.concat([\n",
    "    pd.crosstab(b_recid['COMPAS_Decision'], b_recid['two_year_recid'],\n",
    "                normalize='columns', margins=False),\n",
    "    pd.crosstab(w_recid['COMPAS_Decision'],\n",
    "                w_recid['two_year_recid'], normalize='columns', margins=False)\n",
    "], axis=1, keys=['Black', 'White'])\n"
   ]
  },
  {
   "cell_type": "markdown",
   "id": "733c8d4c",
   "metadata": {},
   "source": [
    "Question:\n",
    "\n",
    "14- Which is the accuracy of the COMPAS algorithm for black defendants in the propublica dataset?\n"
   ]
  },
  {
   "cell_type": "code",
   "execution_count": 24,
   "id": "cabdb9d7",
   "metadata": {},
   "outputs": [
    {
     "data": {
      "text/html": [
       "<div>\n",
       "<style scoped>\n",
       "    .dataframe tbody tr th:only-of-type {\n",
       "        vertical-align: middle;\n",
       "    }\n",
       "\n",
       "    .dataframe tbody tr th {\n",
       "        vertical-align: top;\n",
       "    }\n",
       "\n",
       "    .dataframe thead tr th {\n",
       "        text-align: left;\n",
       "    }\n",
       "\n",
       "    .dataframe thead tr:last-of-type th {\n",
       "        text-align: right;\n",
       "    }\n",
       "</style>\n",
       "<table border=\"1\" class=\"dataframe\">\n",
       "  <thead>\n",
       "    <tr>\n",
       "      <th></th>\n",
       "      <th colspan=\"3\" halign=\"left\">Black</th>\n",
       "      <th colspan=\"3\" halign=\"left\">White</th>\n",
       "    </tr>\n",
       "    <tr>\n",
       "      <th>two_year_recid</th>\n",
       "      <th>0</th>\n",
       "      <th>1</th>\n",
       "      <th>All</th>\n",
       "      <th>0</th>\n",
       "      <th>1</th>\n",
       "      <th>All</th>\n",
       "    </tr>\n",
       "    <tr>\n",
       "      <th>COMPAS_Decision</th>\n",
       "      <th></th>\n",
       "      <th></th>\n",
       "      <th></th>\n",
       "      <th></th>\n",
       "      <th></th>\n",
       "      <th></th>\n",
       "    </tr>\n",
       "  </thead>\n",
       "  <tbody>\n",
       "    <tr>\n",
       "      <th>0</th>\n",
       "      <td>873</td>\n",
       "      <td>473</td>\n",
       "      <td>1346</td>\n",
       "      <td>999</td>\n",
       "      <td>408</td>\n",
       "      <td>1407</td>\n",
       "    </tr>\n",
       "    <tr>\n",
       "      <th>1</th>\n",
       "      <td>641</td>\n",
       "      <td>1188</td>\n",
       "      <td>1829</td>\n",
       "      <td>282</td>\n",
       "      <td>414</td>\n",
       "      <td>696</td>\n",
       "    </tr>\n",
       "    <tr>\n",
       "      <th>All</th>\n",
       "      <td>1514</td>\n",
       "      <td>1661</td>\n",
       "      <td>3175</td>\n",
       "      <td>1281</td>\n",
       "      <td>822</td>\n",
       "      <td>2103</td>\n",
       "    </tr>\n",
       "  </tbody>\n",
       "</table>\n",
       "</div>"
      ],
      "text/plain": [
       "                Black             White           \n",
       "two_year_recid      0     1   All     0    1   All\n",
       "COMPAS_Decision                                   \n",
       "0                 873   473  1346   999  408  1407\n",
       "1                 641  1188  1829   282  414   696\n",
       "All              1514  1661  3175  1281  822  2103"
      ]
     },
     "execution_count": 24,
     "metadata": {},
     "output_type": "execute_result"
    }
   ],
   "source": [
    "crosstab_all = pd.concat([\n",
    "    pd.crosstab(b_recid['COMPAS_Decision'],\n",
    "                b_recid['two_year_recid'], margins=True),\n",
    "    pd.crosstab(w_recid['COMPAS_Decision'],\n",
    "                w_recid['two_year_recid'], margins=True)\n",
    "], axis=1, keys=['Black', 'White'])\n",
    "crosstab_all\n"
   ]
  },
  {
   "cell_type": "code",
   "execution_count": 25,
   "id": "1a2f481b",
   "metadata": {},
   "outputs": [
    {
     "data": {
      "text/plain": [
       "0.6491338582677165"
      ]
     },
     "execution_count": 25,
     "metadata": {},
     "output_type": "execute_result"
    }
   ],
   "source": [
    "(crosstab_all[\"Black\"].iloc[0, 0] + crosstab_all[\"Black\"].iloc[1, 1]\n",
    " ) / crosstab_all[\"Black\"].iloc[2, 2]\n"
   ]
  },
  {
   "cell_type": "markdown",
   "id": "ee48fa25",
   "metadata": {},
   "source": [
    "15- Which is the accuracy of the COMPAS algorithm for white defendants in the propublica dataset?\n"
   ]
  },
  {
   "cell_type": "code",
   "execution_count": 26,
   "id": "1a2f481b",
   "metadata": {},
   "outputs": [
    {
     "data": {
      "text/plain": [
       "0.6718972895863052"
      ]
     },
     "execution_count": 26,
     "metadata": {},
     "output_type": "execute_result"
    }
   ],
   "source": [
    "(crosstab_all[\"White\"].iloc[0, 0] + crosstab_all[\"White\"].iloc[1, 1]\n",
    " ) / crosstab_all[\"White\"].iloc[2, 2]\n"
   ]
  },
  {
   "cell_type": "markdown",
   "id": "e6d3b6b0",
   "metadata": {},
   "source": [
    "16- Calculate the same table for the propublica-violent dataset.\n"
   ]
  },
  {
   "cell_type": "code",
   "execution_count": 27,
   "id": "c11b658f",
   "metadata": {},
   "outputs": [
    {
     "data": {
      "text/html": [
       "<div>\n",
       "<style scoped>\n",
       "    .dataframe tbody tr th:only-of-type {\n",
       "        vertical-align: middle;\n",
       "    }\n",
       "\n",
       "    .dataframe tbody tr th {\n",
       "        vertical-align: top;\n",
       "    }\n",
       "\n",
       "    .dataframe thead tr th {\n",
       "        text-align: left;\n",
       "    }\n",
       "\n",
       "    .dataframe thead tr:last-of-type th {\n",
       "        text-align: right;\n",
       "    }\n",
       "</style>\n",
       "<table border=\"1\" class=\"dataframe\">\n",
       "  <thead>\n",
       "    <tr>\n",
       "      <th></th>\n",
       "      <th colspan=\"3\" halign=\"left\">Black</th>\n",
       "      <th colspan=\"3\" halign=\"left\">White</th>\n",
       "    </tr>\n",
       "    <tr>\n",
       "      <th>two_year_recid</th>\n",
       "      <th>0</th>\n",
       "      <th>1</th>\n",
       "      <th>All</th>\n",
       "      <th>0</th>\n",
       "      <th>1</th>\n",
       "      <th>All</th>\n",
       "    </tr>\n",
       "    <tr>\n",
       "      <th>COMPAS_Decision</th>\n",
       "      <th></th>\n",
       "      <th></th>\n",
       "      <th></th>\n",
       "      <th></th>\n",
       "      <th></th>\n",
       "      <th></th>\n",
       "    </tr>\n",
       "  </thead>\n",
       "  <tbody>\n",
       "    <tr>\n",
       "      <th>0</th>\n",
       "      <td>1046</td>\n",
       "      <td>154</td>\n",
       "      <td>1200</td>\n",
       "      <td>1087</td>\n",
       "      <td>110</td>\n",
       "      <td>1197</td>\n",
       "    </tr>\n",
       "    <tr>\n",
       "      <th>1</th>\n",
       "      <td>468</td>\n",
       "      <td>250</td>\n",
       "      <td>718</td>\n",
       "      <td>198</td>\n",
       "      <td>64</td>\n",
       "      <td>262</td>\n",
       "    </tr>\n",
       "    <tr>\n",
       "      <th>All</th>\n",
       "      <td>1514</td>\n",
       "      <td>404</td>\n",
       "      <td>1918</td>\n",
       "      <td>1285</td>\n",
       "      <td>174</td>\n",
       "      <td>1459</td>\n",
       "    </tr>\n",
       "  </tbody>\n",
       "</table>\n",
       "</div>"
      ],
      "text/plain": [
       "                Black            White           \n",
       "two_year_recid      0    1   All     0    1   All\n",
       "COMPAS_Decision                                  \n",
       "0                1046  154  1200  1087  110  1197\n",
       "1                 468  250   718   198   64   262\n",
       "All              1514  404  1918  1285  174  1459"
      ]
     },
     "execution_count": 27,
     "metadata": {},
     "output_type": "execute_result"
    }
   ],
   "source": [
    "b_recid_viol = df_viol[df_viol['race'] == 'African-American']\n",
    "w_recid_viol = df_viol[df_viol['race'] == 'Caucasian']\n",
    "\n",
    "crosstab_all_viol = pd.concat([\n",
    "    pd.crosstab(b_recid_viol['COMPAS_Decision'],\n",
    "                b_recid_viol['two_year_recid'], margins=True),\n",
    "    pd.crosstab(w_recid_viol['COMPAS_Decision'],\n",
    "                w_recid_viol['two_year_recid'], margins=True)\n",
    "], axis=1, keys=['Black', 'White'])\n",
    "crosstab_all_viol\n"
   ]
  },
  {
   "cell_type": "markdown",
   "id": "27df49b6",
   "metadata": {},
   "source": [
    "We are going to visualize with a heatmap the different metrics we want to analyze but this time for black defendants and white defendants separatedly:\n"
   ]
  },
  {
   "cell_type": "code",
   "execution_count": 28,
   "id": "c9bfbde2",
   "metadata": {},
   "outputs": [
    {
     "data": {
      "image/png": "[encoded data removed]",
      "text/plain": [
       "<Figure size 1008x432 with 2 Axes>"
      ]
     },
     "metadata": {},
     "output_type": "display_data"
    }
   ],
   "source": [
    "FT_black = pd.crosstab(b_recid['COMPAS_Decision'], b_recid['two_year_recid'], rownames=[\n",
    "                       'Predicted recividism'], colnames=['Actual recividism'], normalize='columns')\n",
    "FT_white = pd.crosstab(w_recid['COMPAS_Decision'], w_recid['two_year_recid'], rownames=[\n",
    "                       'Predicted recividism'], colnames=['Actual recividism'], normalize='columns')\n",
    "\n",
    "fig, axes = plt.subplots(1, 2, figsize=(14, 6))\n",
    "axes[0].set_title('Black defendants', fontsize=18)\n",
    "axes[1].set_title('White defendants', fontsize=18)\n",
    "\n",
    "(\n",
    "    sns.heatmap(FT_black, annot=True, fmt=\"f\", cbar=False,\n",
    "                ax=axes[0], cmap='YlOrBr', annot_kws={\"size\": 18})\n",
    ")\n",
    "\n",
    "(\n",
    "    sns.heatmap(FT_white, annot=True, fmt=\"f\", cbar=False,\n",
    "                ax=axes[1], cmap='YlOrBr', annot_kws={\"size\": 18})\n",
    ")\n",
    "sns.set(font_scale=1.4)\n",
    "\n",
    "# plt.savefig(\"FreqTable_BW.pdf\")\n"
   ]
  },
  {
   "cell_type": "markdown",
   "id": "118f8b5a",
   "metadata": {},
   "source": [
    "Question:\n",
    "\n",
    "17- Provide the same tables for black and white defendants for the propublica-violent dataset.\n"
   ]
  },
  {
   "cell_type": "code",
   "execution_count": 29,
   "id": "c9bfbde2",
   "metadata": {},
   "outputs": [
    {
     "data": {
      "image/png": "[encoded data removed]",
      "text/plain": [
       "<Figure size 1008x432 with 2 Axes>"
      ]
     },
     "metadata": {},
     "output_type": "display_data"
    }
   ],
   "source": [
    "FT_black = pd.crosstab(b_recid_viol['COMPAS_Decision'], b_recid_viol['two_year_recid'], rownames=[\n",
    "                       'Predicted recividism'], colnames=['Actual recividism'], normalize='columns')\n",
    "FT_white = pd.crosstab(w_recid_viol['COMPAS_Decision'], w_recid_viol['two_year_recid'], rownames=[\n",
    "                       'Predicted recividism'], colnames=['Actual recividism'], normalize='columns')\n",
    "\n",
    "fig, axes = plt.subplots(1, 2, figsize=(14, 6))\n",
    "axes[0].set_title('Black defendants', fontsize=18)\n",
    "axes[1].set_title('White defendants', fontsize=18)\n",
    "\n",
    "(\n",
    "    sns.heatmap(FT_black, annot=True, fmt=\"f\", cbar=False,\n",
    "                ax=axes[0], cmap='YlOrBr', annot_kws={\"size\": 18})\n",
    ")\n",
    "\n",
    "(\n",
    "    sns.heatmap(FT_white, annot=True, fmt=\"f\", cbar=False,\n",
    "                ax=axes[1], cmap='YlOrBr', annot_kws={\"size\": 18})\n",
    ")\n",
    "sns.set(font_scale=1.4)"
   ]
  },
  {
   "cell_type": "markdown",
   "id": "4501651e",
   "metadata": {},
   "source": [
    "18- Which is the accuracy of the COMPAS algorithm for black defendants in the propublica-violent dataset?\n"
   ]
  },
  {
   "cell_type": "code",
   "execution_count": 30,
   "id": "1f76c863",
   "metadata": {},
   "outputs": [
    {
     "data": {
      "text/plain": [
       "0.67570385818561"
      ]
     },
     "execution_count": 30,
     "metadata": {},
     "output_type": "execute_result"
    }
   ],
   "source": [
    "(crosstab_all_viol[\"Black\"].iloc[0, 0] + crosstab_all_viol[\"Black\"].iloc[1, 1]\n",
    " ) / crosstab_all_viol[\"Black\"].iloc[2, 2]\n"
   ]
  },
  {
   "cell_type": "markdown",
   "id": "612a5500",
   "metadata": {},
   "source": [
    "19- Which is the accuracy of the COMPAS algorithm for white defendants in the propublica-violent dataset?\n"
   ]
  },
  {
   "cell_type": "code",
   "execution_count": 31,
   "id": "5345ef25",
   "metadata": {},
   "outputs": [
    {
     "data": {
      "text/plain": [
       "0.7888965044551063"
      ]
     },
     "execution_count": 31,
     "metadata": {},
     "output_type": "execute_result"
    }
   ],
   "source": [
    "(crosstab_all_viol[\"White\"].iloc[0, 0] + crosstab_all_viol[\"White\"].iloc[1, 1]\n",
    " ) / crosstab_all_viol[\"White\"].iloc[2, 2]\n"
   ]
  },
  {
   "cell_type": "markdown",
   "id": "c531e5ca",
   "metadata": {},
   "source": [
    "Optional question:\n",
    "\n",
    "20- In the propublica dataset, we justified unfairness in the FNR and FPR differences between black and white defendants. Can we say the same for the propublica-violent dataset? Why?"
   ]
  },
  {
   "cell_type": "markdown",
   "id": "f49f093d",
   "metadata": {},
   "source": [
    "Yes, that conclusion still holds. Indeed, from question 17 we see that in the propublica-violent dataset, the FNR of white people is roughly twice as high as for black people. Similarily, in the propublica-violent dataset, the FPR is twice as high for black people, compared to white people."
   ]
  },
  {
   "cell_type": "code",
   "execution_count": 32,
   "id": "6db23af0",
   "metadata": {},
   "outputs": [
    {
     "data": {
      "text/html": [
       "<div>\n",
       "<style scoped>\n",
       "    .dataframe tbody tr th:only-of-type {\n",
       "        vertical-align: middle;\n",
       "    }\n",
       "\n",
       "    .dataframe tbody tr th {\n",
       "        vertical-align: top;\n",
       "    }\n",
       "\n",
       "    .dataframe thead tr th {\n",
       "        text-align: left;\n",
       "    }\n",
       "\n",
       "    .dataframe thead tr:last-of-type th {\n",
       "        text-align: right;\n",
       "    }\n",
       "</style>\n",
       "<table border=\"1\" class=\"dataframe\">\n",
       "  <thead>\n",
       "    <tr>\n",
       "      <th></th>\n",
       "      <th colspan=\"3\" halign=\"left\">Black</th>\n",
       "      <th colspan=\"3\" halign=\"left\">White</th>\n",
       "    </tr>\n",
       "    <tr>\n",
       "      <th>two_year_recid</th>\n",
       "      <th>0</th>\n",
       "      <th>1</th>\n",
       "      <th>All</th>\n",
       "      <th>0</th>\n",
       "      <th>1</th>\n",
       "      <th>All</th>\n",
       "    </tr>\n",
       "    <tr>\n",
       "      <th>COMPAS_Decision</th>\n",
       "      <th></th>\n",
       "      <th></th>\n",
       "      <th></th>\n",
       "      <th></th>\n",
       "      <th></th>\n",
       "      <th></th>\n",
       "    </tr>\n",
       "  </thead>\n",
       "  <tbody>\n",
       "    <tr>\n",
       "      <th>0</th>\n",
       "      <td>873</td>\n",
       "      <td>473</td>\n",
       "      <td>1346</td>\n",
       "      <td>999</td>\n",
       "      <td>408</td>\n",
       "      <td>1407</td>\n",
       "    </tr>\n",
       "    <tr>\n",
       "      <th>1</th>\n",
       "      <td>641</td>\n",
       "      <td>1188</td>\n",
       "      <td>1829</td>\n",
       "      <td>282</td>\n",
       "      <td>414</td>\n",
       "      <td>696</td>\n",
       "    </tr>\n",
       "    <tr>\n",
       "      <th>All</th>\n",
       "      <td>1514</td>\n",
       "      <td>1661</td>\n",
       "      <td>3175</td>\n",
       "      <td>1281</td>\n",
       "      <td>822</td>\n",
       "      <td>2103</td>\n",
       "    </tr>\n",
       "  </tbody>\n",
       "</table>\n",
       "</div>"
      ],
      "text/plain": [
       "                Black             White           \n",
       "two_year_recid      0     1   All     0    1   All\n",
       "COMPAS_Decision                                   \n",
       "0                 873   473  1346   999  408  1407\n",
       "1                 641  1188  1829   282  414   696\n",
       "All              1514  1661  3175  1281  822  2103"
      ]
     },
     "metadata": {},
     "output_type": "display_data"
    },
    {
     "data": {
      "text/html": [
       "<div>\n",
       "<style scoped>\n",
       "    .dataframe tbody tr th:only-of-type {\n",
       "        vertical-align: middle;\n",
       "    }\n",
       "\n",
       "    .dataframe tbody tr th {\n",
       "        vertical-align: top;\n",
       "    }\n",
       "\n",
       "    .dataframe thead tr th {\n",
       "        text-align: left;\n",
       "    }\n",
       "\n",
       "    .dataframe thead tr:last-of-type th {\n",
       "        text-align: right;\n",
       "    }\n",
       "</style>\n",
       "<table border=\"1\" class=\"dataframe\">\n",
       "  <thead>\n",
       "    <tr>\n",
       "      <th></th>\n",
       "      <th colspan=\"3\" halign=\"left\">Black</th>\n",
       "      <th colspan=\"3\" halign=\"left\">White</th>\n",
       "    </tr>\n",
       "    <tr>\n",
       "      <th>two_year_recid</th>\n",
       "      <th>0</th>\n",
       "      <th>1</th>\n",
       "      <th>All</th>\n",
       "      <th>0</th>\n",
       "      <th>1</th>\n",
       "      <th>All</th>\n",
       "    </tr>\n",
       "    <tr>\n",
       "      <th>COMPAS_Decision</th>\n",
       "      <th></th>\n",
       "      <th></th>\n",
       "      <th></th>\n",
       "      <th></th>\n",
       "      <th></th>\n",
       "      <th></th>\n",
       "    </tr>\n",
       "  </thead>\n",
       "  <tbody>\n",
       "    <tr>\n",
       "      <th>0</th>\n",
       "      <td>1046</td>\n",
       "      <td>154</td>\n",
       "      <td>1200</td>\n",
       "      <td>1087</td>\n",
       "      <td>110</td>\n",
       "      <td>1197</td>\n",
       "    </tr>\n",
       "    <tr>\n",
       "      <th>1</th>\n",
       "      <td>468</td>\n",
       "      <td>250</td>\n",
       "      <td>718</td>\n",
       "      <td>198</td>\n",
       "      <td>64</td>\n",
       "      <td>262</td>\n",
       "    </tr>\n",
       "    <tr>\n",
       "      <th>All</th>\n",
       "      <td>1514</td>\n",
       "      <td>404</td>\n",
       "      <td>1918</td>\n",
       "      <td>1285</td>\n",
       "      <td>174</td>\n",
       "      <td>1459</td>\n",
       "    </tr>\n",
       "  </tbody>\n",
       "</table>\n",
       "</div>"
      ],
      "text/plain": [
       "                Black            White           \n",
       "two_year_recid      0    1   All     0    1   All\n",
       "COMPAS_Decision                                  \n",
       "0                1046  154  1200  1087  110  1197\n",
       "1                 468  250   718   198   64   262\n",
       "All              1514  404  1918  1285  174  1459"
      ]
     },
     "metadata": {},
     "output_type": "display_data"
    }
   ],
   "source": [
    "display(crosstab_all, crosstab_all_viol)"
   ]
  },
  {
   "cell_type": "code",
   "execution_count": null,
   "id": "19ffa120",
   "metadata": {},
   "outputs": [],
   "source": []
  }
 ],
 "metadata": {
  "kernelspec": {
   "display_name": "Python 3 (ipykernel)",
   "language": "python",
   "name": "python3"
  },
  "language_info": {
   "codemirror_mode": {
    "name": "ipython",
    "version": 3
   },
   "file_extension": ".py",
   "mimetype": "text/x-python",
   "name": "python",
   "nbconvert_exporter": "python",
   "pygments_lexer": "ipython3",
   "version": "3.9.9"
  }
 },
 "nbformat": 4,
 "nbformat_minor": 5
}

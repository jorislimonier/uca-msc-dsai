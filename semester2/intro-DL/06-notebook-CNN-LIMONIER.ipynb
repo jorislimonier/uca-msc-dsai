{
  "cells": [
    {
      "cell_type": "markdown",
      "metadata": {
        "id": "rfp1U9PMeQU1"
      },
      "source": [
        "# TP CNN\n",
        "\n",
        "### Joris LIMONIER\n",
        "\n",
        "joris.limonier@gmail.com  \n",
        "2021-2022\n"
      ]
    },
    {
      "cell_type": "markdown",
      "metadata": {
        "id": "uo8ucmMpgEp9"
      },
      "source": [
        "## Introduction\n"
      ]
    },
    {
      "cell_type": "code",
      "execution_count": 4,
      "metadata": {
        "ExecuteTime": {
          "end_time": "2021-11-27T16:15:27.613140Z",
          "start_time": "2021-11-27T16:15:27.605763Z"
        },
        "colab": {
          "base_uri": "https://localhost:8080/"
        },
        "id": "68uwyRRi4BMK",
        "outputId": "6d6e10ad-fd11-4771-89f1-2545ec62d4d3"
      },
      "outputs": [
        {
          "output_type": "stream",
          "name": "stdout",
          "text": [
            "Requirement already satisfied: tensorflow_addons in /usr/local/lib/python3.7/dist-packages (0.16.1)\n",
            "Requirement already satisfied: typeguard>=2.7 in /usr/local/lib/python3.7/dist-packages (from tensorflow_addons) (2.7.1)\n",
            "2.8.0\n"
          ]
        }
      ],
      "source": [
        "%pip install tensorflow_addons # install tensorflow_addons\n",
        "from tensorflow_addons.metrics import F1Score\n",
        "\n",
        "from IPython.display import Image\n",
        "import tensorflow as tf\n",
        "\n",
        "print(tf.__version__)\n",
        "import tensorflow.keras\n",
        "from tensorflow.keras.models import Sequential\n",
        "from tensorflow.keras.layers import Dense, Conv2D, Activation\n",
        "import matplotlib.pyplot as plt\n",
        "\n",
        "from tensorflow.keras.optimizers import Adam, RMSprop\n",
        "from sklearn.metrics import ConfusionMatrixDisplay"
      ]
    },
    {
      "cell_type": "markdown",
      "metadata": {
        "id": "ZMrLWuFy9gn7"
      },
      "source": [
        "**The GPU**\n"
      ]
    },
    {
      "cell_type": "markdown",
      "metadata": {
        "id": "TO0xCfDwz-zT"
      },
      "source": [
        "To enable GPU backend in Google colab for your notebook:\n",
        "\n",
        "1.  Runtime (top left corner) -> Change runtime type\n",
        "2.  Put GPU as \"Hardware accelerator\"\n",
        "3.  Save.\n",
        "\n",
        "Or run the next cell:\n"
      ]
    },
    {
      "cell_type": "code",
      "execution_count": 5,
      "metadata": {
        "ExecuteTime": {
          "end_time": "2021-11-27T16:01:19.986158Z",
          "start_time": "2021-11-27T16:01:19.712649Z"
        },
        "colab": {
          "base_uri": "https://localhost:8080/"
        },
        "id": "zyOjNbkfwM-2",
        "outputId": "69328146-a001-4001-fb42-d135bc9b3011"
      },
      "outputs": [
        {
          "output_type": "stream",
          "name": "stdout",
          "text": [
            "Found GPU at: /device:GPU:0\n"
          ]
        }
      ],
      "source": [
        "device_name = tf.test.gpu_device_name()\n",
        "if device_name != \"/device:GPU:0\":\n",
        "    raise SystemError(\"GPU device not found\")\n",
        "print(f\"Found GPU at: {device_name}\")\n"
      ]
    },
    {
      "cell_type": "markdown",
      "metadata": {
        "id": "hHU7TK6FrHao"
      },
      "source": [
        "## Convolutional Neural Networks (CNN)\n"
      ]
    },
    {
      "cell_type": "markdown",
      "metadata": {
        "id": "eP0L5uYbfAzC"
      },
      "source": [
        "Derived from the MLP, a convolutional neural network (CNN) is a type of artificial neural network that is specifically designed to process **pixel data**. The layers of a CNN consist of an **input layer**, an **output layer** and **hidden layers** that can include **convolutional layers**, **pooling layers**, **fully connected layers** and **normalization layers**. It exists a lot of techniques to optimize CNN, like for example the dropout.\n"
      ]
    },
    {
      "cell_type": "markdown",
      "metadata": {
        "id": "bfCDrvt8qQPY"
      },
      "source": [
        "### Loading the dataset\n",
        "\n",
        "In this part, we will use photographies of animals from the kaggle dataset [animals-10](https://www.kaggle.com/alessiocorrado99/animals10). Please connect to their site before loading the dataset from this [zip file](http://www.i3s.unice.fr/~lingrand/raw-img.zip). Decompress the zip file on your disk.\n",
        "\n",
        "If you are using google colab, there is no need to download the dataset because I have a copy on my drive. You just need add to your drive this shared folder: https://drive.google.com/drive/folders/15cB1Ky-7OTUqfcQDZZyzc5HArt0GA6Sm?usp=sharing\n",
        "You need to click on the link and click on \"Add shortcut to Drive\" and then select \"My Drive\".\n"
      ]
    },
    {
      "cell_type": "code",
      "execution_count": 6,
      "metadata": {
        "colab": {
          "base_uri": "https://localhost:8080/"
        },
        "id": "roN4d3KFwM-4",
        "outputId": "8f2ab950-3c9c-4602-c6e1-8a2c2c159cd4"
      },
      "outputs": [
        {
          "output_type": "stream",
          "name": "stdout",
          "text": [
            "Mounted at /content/drive/\n"
          ]
        }
      ],
      "source": [
        "from google.colab import drive\n",
        "\n",
        "drive.mount(\"/content/drive/\")\n"
      ]
    },
    {
      "cell_type": "markdown",
      "metadata": {
        "id": "RM78thFqt-ZY"
      },
      "source": [
        "To feed the data to a CNN, we need to shape it as required by Keras. As input, a 2D convolutional layer needs a **4D tensor** with shape: **(batch, rows, cols, channels)**. Therefore, we need to precise the \"channels\" axis, which can be seen as the number of level of color of each input: 3 channels in our case. We will fix the dimension of images according to the VGG-16 network: (224, 224).\n"
      ]
    },
    {
      "cell_type": "code",
      "execution_count": 41,
      "metadata": {
        "ExecuteTime": {
          "end_time": "2021-11-27T16:17:51.518829Z",
          "start_time": "2021-11-27T16:17:51.401963Z"
        },
        "id": "i_yPS5rYF1Sk"
      },
      "outputs": [],
      "source": [
        "from tensorflow.keras.applications.vgg16 import VGG16\n",
        "from tensorflow.keras.preprocessing import image\n",
        "from tensorflow.keras.applications.vgg16 import preprocess_input\n",
        "from tensorflow.keras.models import Model, Sequential\n",
        "from tensorflow.keras.layers import Dense, GlobalAveragePooling2D, MaxPooling2D, Flatten, GlobalMaxPooling2D\n",
        "from sklearn.metrics import confusion_matrix, plot_confusion_matrix, f1_score\n",
        "import tensorflow.keras\n",
        "from tensorflow.keras.callbacks import EarlyStopping\n",
        "from tensorflow.keras.optimizers import Adam\n",
        "import numpy as np\n",
        "import glob\n",
        "import pandas as pd\n",
        "import plotly.express as px\n",
        "\n",
        "# when processing time is long, it's nice to see the progress bar\n",
        "#!pip install tqdm\n",
        "from tqdm import tqdm\n"
      ]
    },
    {
      "cell_type": "markdown",
      "metadata": {
        "id": "IzHkKLqlZPn3"
      },
      "source": [
        "### loading train data\n",
        "\n",
        "Please read the code before running any of the cells!\n"
      ]
    },
    {
      "cell_type": "code",
      "execution_count": 8,
      "metadata": {
        "ExecuteTime": {
          "end_time": "2021-11-27T16:18:22.601760Z",
          "start_time": "2021-11-27T16:18:16.102817Z"
        },
        "colab": {
          "base_uri": "https://localhost:8080/"
        },
        "id": "xkVd3v4N3LnB",
        "outputId": "0e24f23f-30cf-44c4-9cd7-2814d35a6edd"
      },
      "outputs": [
        {
          "output_type": "stream",
          "name": "stderr",
          "text": [
            "100%|██████████| 200/200 [00:12<00:00, 16.32it/s] \n",
            "100%|██████████| 200/200 [00:11<00:00, 17.76it/s] \n",
            "100%|██████████| 200/200 [00:11<00:00, 16.81it/s] "
          ]
        },
        {
          "output_type": "stream",
          "name": "stdout",
          "text": [
            "600\n",
            "(600, 224, 224, 3)\n"
          ]
        },
        {
          "output_type": "stream",
          "name": "stderr",
          "text": [
            "\n"
          ]
        }
      ],
      "source": [
        "# datasetRoot = \"/home/lingrand/Ens/MachineLearning/animals/raw-img/\"\n",
        "# datasetRoot='/whereYouPutTheImages/'\n",
        "datasetRoot='/content/drive/My Drive/raw-img/'\n",
        "# I suggest to reduce the number of classes for a first trial.\n",
        "# If you finish this notebook before the end of the course, you can add more classes (and images per class).\n",
        "classes = [\n",
        "    \"mucca\",\n",
        "    \"elefante\",\n",
        "    \"gatto\",\n",
        "]  # , 'cavallo', 'scoiattolo', 'ragno', 'pecora', 'farfalla', 'gallina', 'cane']\n",
        "nbClasses = len(classes)\n",
        "\n",
        "# training data\n",
        "\n",
        "rootTrain = datasetRoot + \"train/\"\n",
        "classLabel = 0\n",
        "reducedSizePerClass = 200  # in order to reduce the number of images per class\n",
        "totalImg = nbClasses * reducedSizePerClass\n",
        "xTrain = np.empty(shape=(totalImg, 224, 224, 3))\n",
        "yTrain = []\n",
        "first = True\n",
        "i = 0\n",
        "for cl in classes:\n",
        "    listImages = glob.glob(rootTrain + cl + \"/*\")\n",
        "    yTrain += [classLabel] * reducedSizePerClass  # len(listImages) # note that here ...\n",
        "    for pathImg in tqdm(\n",
        "        listImages[:reducedSizePerClass]\n",
        "    ):  # and here, we have reduced the data to be loaded (only 1000 per class)\n",
        "        img = image.load_img(pathImg, target_size=(224, 224))\n",
        "        im = image.img_to_array(img)\n",
        "        im = np.expand_dims(im, axis=0)\n",
        "        im = preprocess_input(im)\n",
        "        xTrain[i, :, :, :] = im\n",
        "        i += 1\n",
        "    classLabel += 1\n",
        "print(len(yTrain))\n",
        "print(xTrain.shape)\n",
        "yTrain = tensorflow.keras.utils.to_categorical(yTrain, nbClasses)\n"
      ]
    },
    {
      "cell_type": "markdown",
      "metadata": {
        "id": "56bq9oXanGUm"
      },
      "source": [
        "In order to speed-up the time spent on this part of the lab, you may have noticed that we reduced the number of classes and the number of images per class. You can change these few lines of code if you want to work on the whole dataset.\n"
      ]
    },
    {
      "cell_type": "markdown",
      "metadata": {
        "id": "boNapUgGaEMj"
      },
      "source": [
        "### loading test data\n"
      ]
    },
    {
      "cell_type": "code",
      "execution_count": 9,
      "metadata": {
        "ExecuteTime": {
          "end_time": "2021-11-27T16:39:11.565427Z",
          "start_time": "2021-11-27T16:39:05.538947Z"
        },
        "colab": {
          "base_uri": "https://localhost:8080/"
        },
        "id": "Zwi5TBlKajtt",
        "outputId": "6a31de99-da69-4a20-bf9f-bc5e4da15a81"
      },
      "outputs": [
        {
          "output_type": "stream",
          "name": "stdout",
          "text": [
            "There are  991  images in test dataset.\n",
            "991\n",
            "(991, 224, 224, 3)\n"
          ]
        }
      ],
      "source": [
        "# you need to use the same classes for the test dataset than for the train dataset\n",
        "rootTest = datasetRoot + \"test/\"\n",
        "classLabel = 0\n",
        "\n",
        "totalTestImg = 0\n",
        "for cl in classes:\n",
        "    totalTestImg += len(glob.glob(rootTest + cl + \"/*\"))\n",
        "\n",
        "print(\"There are \", totalTestImg, \" images in test dataset.\")\n",
        "xTest = np.empty(shape=(totalTestImg, 224, 224, 3))\n",
        "yTest = []\n",
        "i = 0\n",
        "\n",
        "for cl in classes:\n",
        "    listImages = glob.glob(rootTest + cl + \"/*\")\n",
        "    yTest += [classLabel] * len(listImages)\n",
        "    for pathImg in listImages:\n",
        "        img = image.load_img(pathImg, target_size=(224, 224))\n",
        "        im = image.img_to_array(img)\n",
        "        im = np.expand_dims(im, axis=0)\n",
        "        im = preprocess_input(im)\n",
        "        xTest[i, :, :, :] = im\n",
        "    classLabel += 1\n",
        "print(len(yTest))\n",
        "print(xTest.shape)\n",
        "yTest = tensorflow.keras.utils.to_categorical(yTest, nbClasses)\n"
      ]
    },
    {
      "cell_type": "markdown",
      "metadata": {
        "id": "TckNgsnCwM-6"
      },
      "source": [
        "## Build your own CNN network\n"
      ]
    },
    {
      "cell_type": "markdown",
      "metadata": {
        "id": "Q4NBrH9FwM-7"
      },
      "source": [
        "Start with the simplest CNN: 1 conv2D layer + 1 pooling + 1 dense layer.\n"
      ]
    },
    {
      "cell_type": "code",
      "execution_count": 10,
      "metadata": {
        "ExecuteTime": {
          "end_time": "2021-11-27T16:33:54.152252Z",
          "start_time": "2021-11-27T16:33:54.099134Z"
        },
        "id": "3vGurjcdwM-7"
      },
      "outputs": [],
      "source": [
        "model = Sequential()\n",
        "layers = [\n",
        "    Conv2D(\n",
        "        filters=32,\n",
        "        kernel_size=(3, 3),\n",
        "        padding=\"same\",\n",
        "        activation=\"relu\",\n",
        "        input_shape=(224, 224, 3),\n",
        "    ),\n",
        "    MaxPooling2D(pool_size=(4, 4), strides=4, padding=\"same\"),\n",
        "    Flatten(),\n",
        "    Dense(nbClasses, activation=\"softmax\"),\n",
        "]\n",
        "for layer in layers:\n",
        "    model.add(layer)\n",
        "    \n",
        "f1 = F1Score(num_classes=nbClasses, average=\"macro\", threshold=None)\n",
        "op = RMSprop(learning_rate=0.0001)\n",
        "\n",
        "\n",
        "model.compile(\n",
        "    optimizer=op,\n",
        "    loss=\"categorical_crossentropy\",\n",
        "    metrics=[\"accuracy\", f1],\n",
        ")\n"
      ]
    },
    {
      "cell_type": "markdown",
      "metadata": {
        "id": "N8iyC9F4wM-7"
      },
      "source": [
        "Let's look at the dimension of all inputs and outputs:\n"
      ]
    },
    {
      "cell_type": "code",
      "execution_count": 11,
      "metadata": {
        "ExecuteTime": {
          "end_time": "2021-11-27T16:33:56.687308Z",
          "start_time": "2021-11-27T16:33:56.674345Z"
        },
        "colab": {
          "base_uri": "https://localhost:8080/"
        },
        "id": "btHDOnEHwM-7",
        "outputId": "24faac7a-d821-4eec-e976-edb87712811a"
      },
      "outputs": [
        {
          "output_type": "stream",
          "name": "stdout",
          "text": [
            "Model: \"sequential\"\n",
            "_________________________________________________________________\n",
            " Layer (type)                Output Shape              Param #   \n",
            "=================================================================\n",
            " conv2d (Conv2D)             (None, 224, 224, 32)      896       \n",
            "                                                                 \n",
            " max_pooling2d (MaxPooling2D  (None, 56, 56, 32)       0         \n",
            " )                                                               \n",
            "                                                                 \n",
            " flatten (Flatten)           (None, 100352)            0         \n",
            "                                                                 \n",
            " dense (Dense)               (None, 3)                 301059    \n",
            "                                                                 \n",
            "=================================================================\n",
            "Total params: 301,955\n",
            "Trainable params: 301,955\n",
            "Non-trainable params: 0\n",
            "_________________________________________________________________\n"
          ]
        }
      ],
      "source": [
        "model.summary()\n"
      ]
    },
    {
      "cell_type": "markdown",
      "metadata": {
        "id": "Rcs8nP_rwM-8"
      },
      "source": [
        "Learn and test this network.\n"
      ]
    },
    {
      "cell_type": "code",
      "execution_count": 12,
      "metadata": {
        "ExecuteTime": {
          "end_time": "2021-11-27T16:36:46.534902Z",
          "start_time": "2021-11-27T16:34:01.881134Z"
        },
        "colab": {
          "base_uri": "https://localhost:8080/"
        },
        "id": "rqi3K1nTwM-8",
        "outputId": "ff7134cd-d348-4b41-83a7-0e09f8e7150b"
      },
      "outputs": [
        {
          "output_type": "stream",
          "name": "stdout",
          "text": [
            "Epoch 1/4000\n",
            "15/15 - 12s - loss: 133.2245 - accuracy: 0.3938 - f1_score: 0.3550 - val_loss: 6.2100 - val_accuracy: 0.8500 - val_f1_score: 0.3063 - 12s/epoch - 781ms/step\n",
            "Epoch 2/4000\n",
            "15/15 - 0s - loss: 49.7580 - accuracy: 0.5083 - f1_score: 0.4864 - val_loss: 260.7597 - val_accuracy: 0.0000e+00 - val_f1_score: 0.0000e+00 - 466ms/epoch - 31ms/step\n",
            "Epoch 3/4000\n",
            "15/15 - 0s - loss: 63.7147 - accuracy: 0.4917 - f1_score: 0.4493 - val_loss: 51.4480 - val_accuracy: 0.4250 - val_f1_score: 0.1988 - 453ms/epoch - 30ms/step\n",
            "Epoch 4/4000\n",
            "15/15 - 0s - loss: 39.0711 - accuracy: 0.5979 - f1_score: 0.6024 - val_loss: 15.5678 - val_accuracy: 0.6750 - val_f1_score: 0.2687 - 459ms/epoch - 31ms/step\n",
            "Epoch 5/4000\n",
            "15/15 - 0s - loss: 32.0078 - accuracy: 0.6167 - f1_score: 0.6167 - val_loss: 14.3021 - val_accuracy: 0.7250 - val_f1_score: 0.2802 - 458ms/epoch - 31ms/step\n",
            "Epoch 6/4000\n",
            "15/15 - 0s - loss: 31.2613 - accuracy: 0.6375 - f1_score: 0.6297 - val_loss: 58.9470 - val_accuracy: 0.3417 - val_f1_score: 0.1698 - 459ms/epoch - 31ms/step\n",
            "Epoch 7/4000\n",
            "15/15 - 0s - loss: 24.1489 - accuracy: 0.6875 - f1_score: 0.6902 - val_loss: 52.0869 - val_accuracy: 0.2833 - val_f1_score: 0.1472 - 464ms/epoch - 31ms/step\n",
            "Epoch 8/4000\n",
            "15/15 - 0s - loss: 28.4166 - accuracy: 0.6521 - f1_score: 0.6486 - val_loss: 4.6208 - val_accuracy: 0.9000 - val_f1_score: 0.3158 - 458ms/epoch - 31ms/step\n",
            "Epoch 9/4000\n",
            "15/15 - 0s - loss: 17.9590 - accuracy: 0.7396 - f1_score: 0.7426 - val_loss: 11.6015 - val_accuracy: 0.7417 - val_f1_score: 0.2839 - 461ms/epoch - 31ms/step\n",
            "Epoch 10/4000\n",
            "15/15 - 0s - loss: 22.0663 - accuracy: 0.7021 - f1_score: 0.7024 - val_loss: 0.9975 - val_accuracy: 0.9917 - val_f1_score: 0.3319 - 465ms/epoch - 31ms/step\n",
            "Epoch 11/4000\n",
            "15/15 - 0s - loss: 21.4160 - accuracy: 0.7417 - f1_score: 0.7241 - val_loss: 38.5266 - val_accuracy: 0.5250 - val_f1_score: 0.2295 - 461ms/epoch - 31ms/step\n",
            "Epoch 12/4000\n",
            "15/15 - 0s - loss: 12.2336 - accuracy: 0.8188 - f1_score: 0.8323 - val_loss: 14.9486 - val_accuracy: 0.7417 - val_f1_score: 0.2839 - 465ms/epoch - 31ms/step\n",
            "Epoch 13/4000\n",
            "15/15 - 0s - loss: 12.5458 - accuracy: 0.8271 - f1_score: 0.8157 - val_loss: 22.2890 - val_accuracy: 0.6667 - val_f1_score: 0.2667 - 470ms/epoch - 31ms/step\n",
            "Epoch 14/4000\n",
            "15/15 - 0s - loss: 15.6827 - accuracy: 0.8104 - f1_score: 0.8283 - val_loss: 15.5754 - val_accuracy: 0.7000 - val_f1_score: 0.2745 - 466ms/epoch - 31ms/step\n",
            "Epoch 15/4000\n",
            "15/15 - 0s - loss: 9.6978 - accuracy: 0.8833 - f1_score: 0.8692 - val_loss: 32.6877 - val_accuracy: 0.5000 - val_f1_score: 0.2222 - 468ms/epoch - 31ms/step\n",
            "Epoch 16/4000\n",
            "15/15 - 0s - loss: 13.7664 - accuracy: 0.8500 - f1_score: 0.8553 - val_loss: 36.0893 - val_accuracy: 0.5083 - val_f1_score: 0.2247 - 460ms/epoch - 31ms/step\n",
            "Epoch 17/4000\n",
            "15/15 - 0s - loss: 16.1137 - accuracy: 0.8917 - f1_score: 0.8945 - val_loss: 24.7075 - val_accuracy: 0.5750 - val_f1_score: 0.2434 - 472ms/epoch - 31ms/step\n",
            "Epoch 18/4000\n",
            "15/15 - 0s - loss: 2.3055 - accuracy: 0.9500 - f1_score: 0.9486 - val_loss: 157.2527 - val_accuracy: 0.0250 - val_f1_score: 0.0163 - 457ms/epoch - 30ms/step\n",
            "Epoch 19/4000\n",
            "15/15 - 0s - loss: 14.1986 - accuracy: 0.8833 - f1_score: 0.8796 - val_loss: 22.6684 - val_accuracy: 0.6583 - val_f1_score: 0.2647 - 457ms/epoch - 30ms/step\n",
            "Epoch 20/4000\n",
            "Restoring model weights from the end of the best epoch: 10.\n",
            "15/15 - 0s - loss: 13.7446 - accuracy: 0.8687 - f1_score: 0.8700 - val_loss: 29.0842 - val_accuracy: 0.5417 - val_f1_score: 0.2342 - 466ms/epoch - 31ms/step\n",
            "Epoch 20: early stopping\n"
          ]
        }
      ],
      "source": [
        "# fit model using ealy stopping \n",
        "es = EarlyStopping(\n",
        "  monitor=\"val_accuracy\",\n",
        "  mode=\"auto\",\n",
        "  min_delta=0.0001,\n",
        "  patience=10,\n",
        "  restore_best_weights=True,\n",
        "  verbose=2,\n",
        ")\n",
        "history = model.fit(\n",
        "  x=xTrain,\n",
        "  y=yTrain,\n",
        "  epochs=4000,\n",
        "  validation_split=0.2,\n",
        "  callbacks=[es],\n",
        "  verbose=2,\n",
        ")\n"
      ]
    },
    {
      "cell_type": "code",
      "execution_count": 13,
      "metadata": {
        "ExecuteTime": {
          "end_time": "2021-11-27T17:26:29.630455Z",
          "start_time": "2021-11-27T17:26:21.961418Z"
        },
        "colab": {
          "base_uri": "https://localhost:8080/",
          "height": 542
        },
        "id": "m5K6IAVQwM-8",
        "outputId": "98933ce8-9f57-460d-d8f0-1b5ae9f46bf3"
      },
      "outputs": [
        {
          "output_type": "display_data",
          "data": {
            "text/html": [
              "<html>\n",
              "<head><meta charset=\"utf-8\" /></head>\n",
              "<body>\n",
              "    <div>            <script src=\"https://cdnjs.cloudflare.com/ajax/libs/mathjax/2.7.5/MathJax.js?config=TeX-AMS-MML_SVG\"></script><script type=\"text/javascript\">if (window.MathJax) {MathJax.Hub.Config({SVG: {font: \"STIX-Web\"}});}</script>                <script type=\"text/javascript\">window.PlotlyConfig = {MathJaxConfig: 'local'};</script>\n",
              "        <script src=\"https://cdn.plot.ly/plotly-2.8.3.min.js\"></script>                <div id=\"bf01da58-f0ac-46fc-932e-257190653af2\" class=\"plotly-graph-div\" style=\"height:525px; width:100%;\"></div>            <script type=\"text/javascript\">                                    window.PLOTLYENV=window.PLOTLYENV || {};                                    if (document.getElementById(\"bf01da58-f0ac-46fc-932e-257190653af2\")) {                    Plotly.newPlot(                        \"bf01da58-f0ac-46fc-932e-257190653af2\",                        [{\"hovertemplate\":\"variable=val_f1_score<br>index=%{x}<br>value=%{y}<extra></extra>\",\"legendgroup\":\"val_f1_score\",\"line\":{\"color\":\"#636efa\",\"dash\":\"solid\"},\"marker\":{\"symbol\":\"circle\"},\"mode\":\"lines\",\"name\":\"val_f1_score\",\"orientation\":\"v\",\"showlegend\":true,\"x\":[0,1,2,3,4,5,6,7,8,9,10,11,12,13,14,15,16,17,18,19],\"xaxis\":\"x\",\"y\":[0.30630630254745483,0.0,0.19883042573928833,0.26865673065185547,0.2801932394504547,0.16977225244045258,0.14718614518642426,0.31578946113586426,0.28389155864715576,0.33193865418434143,0.229508176445961,0.28389155864715576,0.2666666805744171,0.2745097875595093,0.2222222238779068,0.22467772662639618,0.24338622391223907,0.016260163858532906,0.2646566331386566,0.23423422873020172],\"yaxis\":\"y\",\"type\":\"scatter\"},{\"hovertemplate\":\"variable=val_accuracy<br>index=%{x}<br>value=%{y}<extra></extra>\",\"legendgroup\":\"val_accuracy\",\"line\":{\"color\":\"#EF553B\",\"dash\":\"solid\"},\"marker\":{\"symbol\":\"circle\"},\"mode\":\"lines\",\"name\":\"val_accuracy\",\"orientation\":\"v\",\"showlegend\":true,\"x\":[0,1,2,3,4,5,6,7,8,9,10,11,12,13,14,15,16,17,18,19],\"xaxis\":\"x\",\"y\":[0.8500000238418579,0.0,0.42500001192092896,0.675000011920929,0.7250000238418579,0.34166666865348816,0.28333333134651184,0.8999999761581421,0.7416666746139526,0.9916666746139526,0.5249999761581421,0.7416666746139526,0.6666666865348816,0.699999988079071,0.5,0.5083333253860474,0.574999988079071,0.02500000037252903,0.6583333611488342,0.5416666865348816],\"yaxis\":\"y\",\"type\":\"scatter\"}],                        {\"template\":{\"data\":{\"bar\":[{\"error_x\":{\"color\":\"#2a3f5f\"},\"error_y\":{\"color\":\"#2a3f5f\"},\"marker\":{\"line\":{\"color\":\"#E5ECF6\",\"width\":0.5},\"pattern\":{\"fillmode\":\"overlay\",\"size\":10,\"solidity\":0.2}},\"type\":\"bar\"}],\"barpolar\":[{\"marker\":{\"line\":{\"color\":\"#E5ECF6\",\"width\":0.5},\"pattern\":{\"fillmode\":\"overlay\",\"size\":10,\"solidity\":0.2}},\"type\":\"barpolar\"}],\"carpet\":[{\"aaxis\":{\"endlinecolor\":\"#2a3f5f\",\"gridcolor\":\"white\",\"linecolor\":\"white\",\"minorgridcolor\":\"white\",\"startlinecolor\":\"#2a3f5f\"},\"baxis\":{\"endlinecolor\":\"#2a3f5f\",\"gridcolor\":\"white\",\"linecolor\":\"white\",\"minorgridcolor\":\"white\",\"startlinecolor\":\"#2a3f5f\"},\"type\":\"carpet\"}],\"choropleth\":[{\"colorbar\":{\"outlinewidth\":0,\"ticks\":\"\"},\"type\":\"choropleth\"}],\"contour\":[{\"colorbar\":{\"outlinewidth\":0,\"ticks\":\"\"},\"colorscale\":[[0.0,\"#0d0887\"],[0.1111111111111111,\"#46039f\"],[0.2222222222222222,\"#7201a8\"],[0.3333333333333333,\"#9c179e\"],[0.4444444444444444,\"#bd3786\"],[0.5555555555555556,\"#d8576b\"],[0.6666666666666666,\"#ed7953\"],[0.7777777777777778,\"#fb9f3a\"],[0.8888888888888888,\"#fdca26\"],[1.0,\"#f0f921\"]],\"type\":\"contour\"}],\"contourcarpet\":[{\"colorbar\":{\"outlinewidth\":0,\"ticks\":\"\"},\"type\":\"contourcarpet\"}],\"heatmap\":[{\"colorbar\":{\"outlinewidth\":0,\"ticks\":\"\"},\"colorscale\":[[0.0,\"#0d0887\"],[0.1111111111111111,\"#46039f\"],[0.2222222222222222,\"#7201a8\"],[0.3333333333333333,\"#9c179e\"],[0.4444444444444444,\"#bd3786\"],[0.5555555555555556,\"#d8576b\"],[0.6666666666666666,\"#ed7953\"],[0.7777777777777778,\"#fb9f3a\"],[0.8888888888888888,\"#fdca26\"],[1.0,\"#f0f921\"]],\"type\":\"heatmap\"}],\"heatmapgl\":[{\"colorbar\":{\"outlinewidth\":0,\"ticks\":\"\"},\"colorscale\":[[0.0,\"#0d0887\"],[0.1111111111111111,\"#46039f\"],[0.2222222222222222,\"#7201a8\"],[0.3333333333333333,\"#9c179e\"],[0.4444444444444444,\"#bd3786\"],[0.5555555555555556,\"#d8576b\"],[0.6666666666666666,\"#ed7953\"],[0.7777777777777778,\"#fb9f3a\"],[0.8888888888888888,\"#fdca26\"],[1.0,\"#f0f921\"]],\"type\":\"heatmapgl\"}],\"histogram\":[{\"marker\":{\"pattern\":{\"fillmode\":\"overlay\",\"size\":10,\"solidity\":0.2}},\"type\":\"histogram\"}],\"histogram2d\":[{\"colorbar\":{\"outlinewidth\":0,\"ticks\":\"\"},\"colorscale\":[[0.0,\"#0d0887\"],[0.1111111111111111,\"#46039f\"],[0.2222222222222222,\"#7201a8\"],[0.3333333333333333,\"#9c179e\"],[0.4444444444444444,\"#bd3786\"],[0.5555555555555556,\"#d8576b\"],[0.6666666666666666,\"#ed7953\"],[0.7777777777777778,\"#fb9f3a\"],[0.8888888888888888,\"#fdca26\"],[1.0,\"#f0f921\"]],\"type\":\"histogram2d\"}],\"histogram2dcontour\":[{\"colorbar\":{\"outlinewidth\":0,\"ticks\":\"\"},\"colorscale\":[[0.0,\"#0d0887\"],[0.1111111111111111,\"#46039f\"],[0.2222222222222222,\"#7201a8\"],[0.3333333333333333,\"#9c179e\"],[0.4444444444444444,\"#bd3786\"],[0.5555555555555556,\"#d8576b\"],[0.6666666666666666,\"#ed7953\"],[0.7777777777777778,\"#fb9f3a\"],[0.8888888888888888,\"#fdca26\"],[1.0,\"#f0f921\"]],\"type\":\"histogram2dcontour\"}],\"mesh3d\":[{\"colorbar\":{\"outlinewidth\":0,\"ticks\":\"\"},\"type\":\"mesh3d\"}],\"parcoords\":[{\"line\":{\"colorbar\":{\"outlinewidth\":0,\"ticks\":\"\"}},\"type\":\"parcoords\"}],\"pie\":[{\"automargin\":true,\"type\":\"pie\"}],\"scatter\":[{\"marker\":{\"colorbar\":{\"outlinewidth\":0,\"ticks\":\"\"}},\"type\":\"scatter\"}],\"scatter3d\":[{\"line\":{\"colorbar\":{\"outlinewidth\":0,\"ticks\":\"\"}},\"marker\":{\"colorbar\":{\"outlinewidth\":0,\"ticks\":\"\"}},\"type\":\"scatter3d\"}],\"scattercarpet\":[{\"marker\":{\"colorbar\":{\"outlinewidth\":0,\"ticks\":\"\"}},\"type\":\"scattercarpet\"}],\"scattergeo\":[{\"marker\":{\"colorbar\":{\"outlinewidth\":0,\"ticks\":\"\"}},\"type\":\"scattergeo\"}],\"scattergl\":[{\"marker\":{\"colorbar\":{\"outlinewidth\":0,\"ticks\":\"\"}},\"type\":\"scattergl\"}],\"scattermapbox\":[{\"marker\":{\"colorbar\":{\"outlinewidth\":0,\"ticks\":\"\"}},\"type\":\"scattermapbox\"}],\"scatterpolar\":[{\"marker\":{\"colorbar\":{\"outlinewidth\":0,\"ticks\":\"\"}},\"type\":\"scatterpolar\"}],\"scatterpolargl\":[{\"marker\":{\"colorbar\":{\"outlinewidth\":0,\"ticks\":\"\"}},\"type\":\"scatterpolargl\"}],\"scatterternary\":[{\"marker\":{\"colorbar\":{\"outlinewidth\":0,\"ticks\":\"\"}},\"type\":\"scatterternary\"}],\"surface\":[{\"colorbar\":{\"outlinewidth\":0,\"ticks\":\"\"},\"colorscale\":[[0.0,\"#0d0887\"],[0.1111111111111111,\"#46039f\"],[0.2222222222222222,\"#7201a8\"],[0.3333333333333333,\"#9c179e\"],[0.4444444444444444,\"#bd3786\"],[0.5555555555555556,\"#d8576b\"],[0.6666666666666666,\"#ed7953\"],[0.7777777777777778,\"#fb9f3a\"],[0.8888888888888888,\"#fdca26\"],[1.0,\"#f0f921\"]],\"type\":\"surface\"}],\"table\":[{\"cells\":{\"fill\":{\"color\":\"#EBF0F8\"},\"line\":{\"color\":\"white\"}},\"header\":{\"fill\":{\"color\":\"#C8D4E3\"},\"line\":{\"color\":\"white\"}},\"type\":\"table\"}]},\"layout\":{\"annotationdefaults\":{\"arrowcolor\":\"#2a3f5f\",\"arrowhead\":0,\"arrowwidth\":1},\"autotypenumbers\":\"strict\",\"coloraxis\":{\"colorbar\":{\"outlinewidth\":0,\"ticks\":\"\"}},\"colorscale\":{\"diverging\":[[0,\"#8e0152\"],[0.1,\"#c51b7d\"],[0.2,\"#de77ae\"],[0.3,\"#f1b6da\"],[0.4,\"#fde0ef\"],[0.5,\"#f7f7f7\"],[0.6,\"#e6f5d0\"],[0.7,\"#b8e186\"],[0.8,\"#7fbc41\"],[0.9,\"#4d9221\"],[1,\"#276419\"]],\"sequential\":[[0.0,\"#0d0887\"],[0.1111111111111111,\"#46039f\"],[0.2222222222222222,\"#7201a8\"],[0.3333333333333333,\"#9c179e\"],[0.4444444444444444,\"#bd3786\"],[0.5555555555555556,\"#d8576b\"],[0.6666666666666666,\"#ed7953\"],[0.7777777777777778,\"#fb9f3a\"],[0.8888888888888888,\"#fdca26\"],[1.0,\"#f0f921\"]],\"sequentialminus\":[[0.0,\"#0d0887\"],[0.1111111111111111,\"#46039f\"],[0.2222222222222222,\"#7201a8\"],[0.3333333333333333,\"#9c179e\"],[0.4444444444444444,\"#bd3786\"],[0.5555555555555556,\"#d8576b\"],[0.6666666666666666,\"#ed7953\"],[0.7777777777777778,\"#fb9f3a\"],[0.8888888888888888,\"#fdca26\"],[1.0,\"#f0f921\"]]},\"colorway\":[\"#636efa\",\"#EF553B\",\"#00cc96\",\"#ab63fa\",\"#FFA15A\",\"#19d3f3\",\"#FF6692\",\"#B6E880\",\"#FF97FF\",\"#FECB52\"],\"font\":{\"color\":\"#2a3f5f\"},\"geo\":{\"bgcolor\":\"white\",\"lakecolor\":\"white\",\"landcolor\":\"#E5ECF6\",\"showlakes\":true,\"showland\":true,\"subunitcolor\":\"white\"},\"hoverlabel\":{\"align\":\"left\"},\"hovermode\":\"closest\",\"mapbox\":{\"style\":\"light\"},\"paper_bgcolor\":\"white\",\"plot_bgcolor\":\"#E5ECF6\",\"polar\":{\"angularaxis\":{\"gridcolor\":\"white\",\"linecolor\":\"white\",\"ticks\":\"\"},\"bgcolor\":\"#E5ECF6\",\"radialaxis\":{\"gridcolor\":\"white\",\"linecolor\":\"white\",\"ticks\":\"\"}},\"scene\":{\"xaxis\":{\"backgroundcolor\":\"#E5ECF6\",\"gridcolor\":\"white\",\"gridwidth\":2,\"linecolor\":\"white\",\"showbackground\":true,\"ticks\":\"\",\"zerolinecolor\":\"white\"},\"yaxis\":{\"backgroundcolor\":\"#E5ECF6\",\"gridcolor\":\"white\",\"gridwidth\":2,\"linecolor\":\"white\",\"showbackground\":true,\"ticks\":\"\",\"zerolinecolor\":\"white\"},\"zaxis\":{\"backgroundcolor\":\"#E5ECF6\",\"gridcolor\":\"white\",\"gridwidth\":2,\"linecolor\":\"white\",\"showbackground\":true,\"ticks\":\"\",\"zerolinecolor\":\"white\"}},\"shapedefaults\":{\"line\":{\"color\":\"#2a3f5f\"}},\"ternary\":{\"aaxis\":{\"gridcolor\":\"white\",\"linecolor\":\"white\",\"ticks\":\"\"},\"baxis\":{\"gridcolor\":\"white\",\"linecolor\":\"white\",\"ticks\":\"\"},\"bgcolor\":\"#E5ECF6\",\"caxis\":{\"gridcolor\":\"white\",\"linecolor\":\"white\",\"ticks\":\"\"}},\"title\":{\"x\":0.05},\"xaxis\":{\"automargin\":true,\"gridcolor\":\"white\",\"linecolor\":\"white\",\"ticks\":\"\",\"title\":{\"standoff\":15},\"zerolinecolor\":\"white\",\"zerolinewidth\":2},\"yaxis\":{\"automargin\":true,\"gridcolor\":\"white\",\"linecolor\":\"white\",\"ticks\":\"\",\"title\":{\"standoff\":15},\"zerolinecolor\":\"white\",\"zerolinewidth\":2}}},\"xaxis\":{\"anchor\":\"y\",\"domain\":[0.0,1.0],\"title\":{\"text\":\"index\"}},\"yaxis\":{\"anchor\":\"x\",\"domain\":[0.0,1.0],\"title\":{\"text\":\"value\"}},\"legend\":{\"title\":{\"text\":\"variable\"},\"tracegroupgap\":0},\"margin\":{\"t\":60}},                        {\"responsive\": true}                    ).then(function(){\n",
              "                            \n",
              "var gd = document.getElementById('bf01da58-f0ac-46fc-932e-257190653af2');\n",
              "var x = new MutationObserver(function (mutations, observer) {{\n",
              "        var display = window.getComputedStyle(gd).display;\n",
              "        if (!display || display === 'none') {{\n",
              "            console.log([gd, 'removed!']);\n",
              "            Plotly.purge(gd);\n",
              "            observer.disconnect();\n",
              "        }}\n",
              "}});\n",
              "\n",
              "// Listen for the removal of the full notebook cells\n",
              "var notebookContainer = gd.closest('#notebook-container');\n",
              "if (notebookContainer) {{\n",
              "    x.observe(notebookContainer, {childList: true});\n",
              "}}\n",
              "\n",
              "// Listen for the clearing of the current output cell\n",
              "var outputEl = gd.closest('.output');\n",
              "if (outputEl) {{\n",
              "    x.observe(outputEl, {childList: true});\n",
              "}}\n",
              "\n",
              "                        })                };                            </script>        </div>\n",
              "</body>\n",
              "</html>"
            ]
          },
          "metadata": {}
        }
      ],
      "source": [
        "px.line(pd.DataFrame(history.history), y=[\"val_f1_score\", \"val_accuracy\"])"
      ]
    },
    {
      "cell_type": "code",
      "source": [
        "model.evaluate(xTest, yTest)"
      ],
      "metadata": {
        "colab": {
          "base_uri": "https://localhost:8080/"
        },
        "id": "Au34jw8YCMt9",
        "outputId": "ba47e42d-4c82-4751-be6f-a22496efb9cf"
      },
      "execution_count": 14,
      "outputs": [
        {
          "output_type": "stream",
          "name": "stdout",
          "text": [
            "31/31 [==============================] - 1s 21ms/step - loss: 1.3256 - accuracy: 0.3300 - f1_score: 0.1654\n"
          ]
        },
        {
          "output_type": "execute_result",
          "data": {
            "text/plain": [
              "[1.3255677223205566, 0.32996973395347595, 0.1654021292924881]"
            ]
          },
          "metadata": {},
          "execution_count": 14
        }
      ]
    },
    {
      "cell_type": "markdown",
      "metadata": {
        "solution": "hidden",
        "solution_first": true,
        "id": "nEdW5ZZ9wM-8"
      },
      "source": [
        "How is the accuracy or F1-measure on the test dataset?\n",
        "\n",
        "Are you satisfied by the performances?\n",
        "\n",
        "Try to modify the architecture (add layers) and some of the parameters.\n"
      ]
    },
    {
      "cell_type": "markdown",
      "metadata": {
        "id": "HDg_e-Ax3uci"
      },
      "source": [
        "### About Dropout\n",
        "\n",
        "_Study this part only if you have time for it. It concerns the previous network but prefer to study first part II and come back here after._\n",
        "\n",
        "Simply put, dropout refers to ignoring units (i.e. neurons) during the training phase of certain set of neurons which is chosen at random. By “ignoring”, I mean these units are not considered during a particular forward or backward pass.\n",
        "\n",
        "Why use dropout ? A fully connected layer occupies most of the parameters, and hence, neurons develop co-dependency amongst each other during training which curbs the individual power of each neuron leading to overfitting of training data.\n"
      ]
    },
    {
      "cell_type": "markdown",
      "metadata": {
        "id": "eC5ct2L36pKC"
      },
      "source": [
        "**Let's add dropout and activation functions to the network!**\n"
      ]
    },
    {
      "cell_type": "code",
      "execution_count": 15,
      "metadata": {
        "colab": {
          "base_uri": "https://localhost:8080/"
        },
        "id": "y20GTiux6uy9",
        "outputId": "ea338349-de13-4626-ae8a-71ba495a82a6"
      },
      "outputs": [
        {
          "output_type": "stream",
          "name": "stdout",
          "text": [
            "Model: \"sequential_1\"\n",
            "_________________________________________________________________\n",
            " Layer (type)                Output Shape              Param #   \n",
            "=================================================================\n",
            " conv2d_1 (Conv2D)           (None, 222, 222, 256)     7168      \n",
            "                                                                 \n",
            " global_average_pooling2d (G  (None, 256)              0         \n",
            " lobalAveragePooling2D)                                          \n",
            "                                                                 \n",
            " dense_1 (Dense)             (None, 200)               51400     \n",
            "                                                                 \n",
            " dropout (Dropout)           (None, 200)               0         \n",
            "                                                                 \n",
            " dense_2 (Dense)             (None, 3)                 603       \n",
            "                                                                 \n",
            "=================================================================\n",
            "Total params: 59,171\n",
            "Trainable params: 59,171\n",
            "Non-trainable params: 0\n",
            "_________________________________________________________________\n"
          ]
        }
      ],
      "source": [
        "from tensorflow.keras.layers import Dropout\n",
        "\n",
        "model = Sequential(name=\"MLP model with dropout\")\n",
        "\n",
        "model = Sequential()\n",
        "model.add(Conv2D(256, (3, 3), activation=\"relu\", input_shape=(224, 224, 3)))\n",
        "model.add(GlobalAveragePooling2D())\n",
        "model.add(Dense(200, activation=\"relu\"))\n",
        "# adding dropout to the previous layer\n",
        "model.add(Dropout(0.2))\n",
        "\n",
        "model.add(Dense(nbClasses, activation=\"softmax\"))\n",
        "f1 = F1Score(num_classes=nbClasses, average=\"macro\", threshold=None)\n",
        "\n",
        "model.compile(\n",
        "    optimizer=\"rmsprop\", loss=\"categorical_crossentropy\", metrics=[\"accuracy\", f1]\n",
        ")\n",
        "model.summary()\n"
      ]
    },
    {
      "cell_type": "code",
      "execution_count": 16,
      "metadata": {
        "colab": {
          "base_uri": "https://localhost:8080/"
        },
        "id": "zFZtAkGtwM-9",
        "outputId": "efd9f62b-0627-4d71-d597-0806b3745f87"
      },
      "outputs": [
        {
          "output_type": "stream",
          "name": "stdout",
          "text": [
            "Epoch 1/4000\n",
            "15/15 - 5s - loss: 6.4280 - accuracy: 0.3833 - f1_score: 0.3559 - val_loss: 3.7375 - val_accuracy: 0.0083 - val_f1_score: 0.0055 - 5s/epoch - 308ms/step\n",
            "Epoch 2/4000\n",
            "15/15 - 2s - loss: 2.1018 - accuracy: 0.4396 - f1_score: 0.4175 - val_loss: 6.4448 - val_accuracy: 0.0000e+00 - val_f1_score: 0.0000e+00 - 2s/epoch - 157ms/step\n",
            "Epoch 3/4000\n",
            "15/15 - 2s - loss: 1.6009 - accuracy: 0.4729 - f1_score: 0.4390 - val_loss: 3.6274 - val_accuracy: 0.0333 - val_f1_score: 0.0215 - 2s/epoch - 158ms/step\n",
            "Epoch 4/4000\n",
            "15/15 - 2s - loss: 1.2724 - accuracy: 0.4708 - f1_score: 0.4435 - val_loss: 2.4601 - val_accuracy: 0.1583 - val_f1_score: 0.0911 - 2s/epoch - 158ms/step\n",
            "Epoch 5/4000\n",
            "15/15 - 2s - loss: 1.1545 - accuracy: 0.4792 - f1_score: 0.4357 - val_loss: 1.9076 - val_accuracy: 0.0667 - val_f1_score: 0.0417 - 2s/epoch - 157ms/step\n",
            "Epoch 6/4000\n",
            "15/15 - 2s - loss: 1.2004 - accuracy: 0.4667 - f1_score: 0.4179 - val_loss: 1.6950 - val_accuracy: 0.1750 - val_f1_score: 0.0993 - 2s/epoch - 157ms/step\n",
            "Epoch 7/4000\n",
            "15/15 - 2s - loss: 1.0945 - accuracy: 0.4563 - f1_score: 0.4069 - val_loss: 1.1481 - val_accuracy: 0.4667 - val_f1_score: 0.2121 - 2s/epoch - 158ms/step\n",
            "Epoch 8/4000\n",
            "15/15 - 2s - loss: 1.0640 - accuracy: 0.4812 - f1_score: 0.4333 - val_loss: 1.8889 - val_accuracy: 0.0333 - val_f1_score: 0.0215 - 2s/epoch - 157ms/step\n",
            "Epoch 9/4000\n",
            "15/15 - 2s - loss: 1.0468 - accuracy: 0.4833 - f1_score: 0.4363 - val_loss: 4.0209 - val_accuracy: 0.0000e+00 - val_f1_score: 0.0000e+00 - 2s/epoch - 158ms/step\n",
            "Epoch 10/4000\n",
            "15/15 - 2s - loss: 1.1414 - accuracy: 0.4604 - f1_score: 0.4040 - val_loss: 1.1097 - val_accuracy: 0.6250 - val_f1_score: 0.2564 - 2s/epoch - 158ms/step\n",
            "Epoch 11/4000\n",
            "15/15 - 2s - loss: 0.9815 - accuracy: 0.4958 - f1_score: 0.4729 - val_loss: 2.8457 - val_accuracy: 0.0583 - val_f1_score: 0.0367 - 2s/epoch - 158ms/step\n",
            "Epoch 12/4000\n",
            "15/15 - 2s - loss: 1.0541 - accuracy: 0.4833 - f1_score: 0.4352 - val_loss: 0.9727 - val_accuracy: 0.7333 - val_f1_score: 0.2821 - 2s/epoch - 157ms/step\n",
            "Epoch 13/4000\n",
            "15/15 - 2s - loss: 0.9958 - accuracy: 0.5104 - f1_score: 0.4833 - val_loss: 2.3355 - val_accuracy: 0.0250 - val_f1_score: 0.0163 - 2s/epoch - 157ms/step\n",
            "Epoch 14/4000\n",
            "15/15 - 2s - loss: 1.0119 - accuracy: 0.4792 - f1_score: 0.4266 - val_loss: 2.8096 - val_accuracy: 0.0250 - val_f1_score: 0.0163 - 2s/epoch - 157ms/step\n",
            "Epoch 15/4000\n",
            "15/15 - 2s - loss: 1.0314 - accuracy: 0.4833 - f1_score: 0.4579 - val_loss: 2.0502 - val_accuracy: 0.0417 - val_f1_score: 0.0267 - 2s/epoch - 158ms/step\n",
            "Epoch 16/4000\n",
            "15/15 - 2s - loss: 0.9746 - accuracy: 0.4938 - f1_score: 0.4591 - val_loss: 1.1437 - val_accuracy: 0.6417 - val_f1_score: 0.2606 - 2s/epoch - 158ms/step\n",
            "Epoch 17/4000\n",
            "15/15 - 2s - loss: 0.9663 - accuracy: 0.5208 - f1_score: 0.4843 - val_loss: 1.5888 - val_accuracy: 0.3583 - val_f1_score: 0.1759 - 2s/epoch - 157ms/step\n",
            "Epoch 18/4000\n",
            "15/15 - 2s - loss: 1.0414 - accuracy: 0.4729 - f1_score: 0.4301 - val_loss: 2.0554 - val_accuracy: 0.1750 - val_f1_score: 0.0993 - 2s/epoch - 157ms/step\n",
            "Epoch 19/4000\n",
            "15/15 - 2s - loss: 0.9993 - accuracy: 0.5458 - f1_score: 0.5078 - val_loss: 1.5805 - val_accuracy: 0.1583 - val_f1_score: 0.0911 - 2s/epoch - 158ms/step\n",
            "Epoch 20/4000\n",
            "15/15 - 2s - loss: 1.0539 - accuracy: 0.4979 - f1_score: 0.4781 - val_loss: 1.7370 - val_accuracy: 0.2750 - val_f1_score: 0.1438 - 2s/epoch - 157ms/step\n",
            "Epoch 21/4000\n",
            "15/15 - 2s - loss: 0.9524 - accuracy: 0.5292 - f1_score: 0.4925 - val_loss: 1.6753 - val_accuracy: 0.4333 - val_f1_score: 0.2016 - 2s/epoch - 158ms/step\n",
            "Epoch 22/4000\n",
            "Restoring model weights from the end of the best epoch: 12.\n",
            "15/15 - 2s - loss: 0.9615 - accuracy: 0.5000 - f1_score: 0.4836 - val_loss: 1.8819 - val_accuracy: 0.1333 - val_f1_score: 0.0784 - 2s/epoch - 159ms/step\n",
            "Epoch 22: early stopping\n"
          ]
        }
      ],
      "source": [
        "# fit CNN with dropout and ealy stopping \n",
        "es = EarlyStopping(\n",
        "  monitor=\"val_accuracy\",\n",
        "  mode=\"auto\",\n",
        "  min_delta=0.0001,\n",
        "  patience=10,\n",
        "  restore_best_weights=True,\n",
        "  verbose=2,\n",
        ")\n",
        "history = model.fit(\n",
        "  x=xTrain,\n",
        "  y=yTrain,\n",
        "  epochs=4000,\n",
        "  validation_split=0.2,\n",
        "  callbacks=[es],\n",
        "  verbose=2,\n",
        ")"
      ]
    },
    {
      "cell_type": "code",
      "source": [
        "px.line(pd.DataFrame(history.history), y=[\"val_f1_score\", \"val_accuracy\"])"
      ],
      "metadata": {
        "colab": {
          "base_uri": "https://localhost:8080/",
          "height": 542
        },
        "id": "1NeochqdQrmj",
        "outputId": "68311c4b-daec-467f-b929-ae0ae960b95f"
      },
      "execution_count": 17,
      "outputs": [
        {
          "output_type": "display_data",
          "data": {
            "text/html": [
              "<html>\n",
              "<head><meta charset=\"utf-8\" /></head>\n",
              "<body>\n",
              "    <div>            <script src=\"https://cdnjs.cloudflare.com/ajax/libs/mathjax/2.7.5/MathJax.js?config=TeX-AMS-MML_SVG\"></script><script type=\"text/javascript\">if (window.MathJax) {MathJax.Hub.Config({SVG: {font: \"STIX-Web\"}});}</script>                <script type=\"text/javascript\">window.PlotlyConfig = {MathJaxConfig: 'local'};</script>\n",
              "        <script src=\"https://cdn.plot.ly/plotly-2.8.3.min.js\"></script>                <div id=\"668d4161-31f9-4d4a-8ba6-6dd4d089b2c6\" class=\"plotly-graph-div\" style=\"height:525px; width:100%;\"></div>            <script type=\"text/javascript\">                                    window.PLOTLYENV=window.PLOTLYENV || {};                                    if (document.getElementById(\"668d4161-31f9-4d4a-8ba6-6dd4d089b2c6\")) {                    Plotly.newPlot(                        \"668d4161-31f9-4d4a-8ba6-6dd4d089b2c6\",                        [{\"hovertemplate\":\"variable=val_f1_score<br>index=%{x}<br>value=%{y}<extra></extra>\",\"legendgroup\":\"val_f1_score\",\"line\":{\"color\":\"#636efa\",\"dash\":\"solid\"},\"marker\":{\"symbol\":\"circle\"},\"mode\":\"lines\",\"name\":\"val_f1_score\",\"orientation\":\"v\",\"showlegend\":true,\"x\":[0,1,2,3,4,5,6,7,8,9,10,11,12,13,14,15,16,17,18,19,20,21],\"xaxis\":\"x\",\"y\":[0.005509642418473959,0.0,0.02150537818670273,0.09112709760665894,0.0416666679084301,0.09929078072309494,0.21212120354175568,0.02150537818670273,0.0,0.25641027092933655,0.03674541041254997,0.28205129504203796,0.016260163858532906,0.016260163858532906,0.0266666691750288,0.2605752944946289,0.17586910724639893,0.09929078072309494,0.09112709760665894,0.1437908560037613,0.20155037939548492,0.0784313753247261],\"yaxis\":\"y\",\"type\":\"scatter\"},{\"hovertemplate\":\"variable=val_accuracy<br>index=%{x}<br>value=%{y}<extra></extra>\",\"legendgroup\":\"val_accuracy\",\"line\":{\"color\":\"#EF553B\",\"dash\":\"solid\"},\"marker\":{\"symbol\":\"circle\"},\"mode\":\"lines\",\"name\":\"val_accuracy\",\"orientation\":\"v\",\"showlegend\":true,\"x\":[0,1,2,3,4,5,6,7,8,9,10,11,12,13,14,15,16,17,18,19,20,21],\"xaxis\":\"x\",\"y\":[0.008333333767950535,0.0,0.03333333507180214,0.15833333134651184,0.06666667014360428,0.17499999701976776,0.46666666865348816,0.03333333507180214,0.0,0.625,0.05833333358168602,0.7333333492279053,0.02500000037252903,0.02500000037252903,0.0416666679084301,0.6416666507720947,0.3583333194255829,0.17499999701976776,0.15833333134651184,0.2750000059604645,0.4333333373069763,0.13333334028720856],\"yaxis\":\"y\",\"type\":\"scatter\"}],                        {\"template\":{\"data\":{\"bar\":[{\"error_x\":{\"color\":\"#2a3f5f\"},\"error_y\":{\"color\":\"#2a3f5f\"},\"marker\":{\"line\":{\"color\":\"#E5ECF6\",\"width\":0.5},\"pattern\":{\"fillmode\":\"overlay\",\"size\":10,\"solidity\":0.2}},\"type\":\"bar\"}],\"barpolar\":[{\"marker\":{\"line\":{\"color\":\"#E5ECF6\",\"width\":0.5},\"pattern\":{\"fillmode\":\"overlay\",\"size\":10,\"solidity\":0.2}},\"type\":\"barpolar\"}],\"carpet\":[{\"aaxis\":{\"endlinecolor\":\"#2a3f5f\",\"gridcolor\":\"white\",\"linecolor\":\"white\",\"minorgridcolor\":\"white\",\"startlinecolor\":\"#2a3f5f\"},\"baxis\":{\"endlinecolor\":\"#2a3f5f\",\"gridcolor\":\"white\",\"linecolor\":\"white\",\"minorgridcolor\":\"white\",\"startlinecolor\":\"#2a3f5f\"},\"type\":\"carpet\"}],\"choropleth\":[{\"colorbar\":{\"outlinewidth\":0,\"ticks\":\"\"},\"type\":\"choropleth\"}],\"contour\":[{\"colorbar\":{\"outlinewidth\":0,\"ticks\":\"\"},\"colorscale\":[[0.0,\"#0d0887\"],[0.1111111111111111,\"#46039f\"],[0.2222222222222222,\"#7201a8\"],[0.3333333333333333,\"#9c179e\"],[0.4444444444444444,\"#bd3786\"],[0.5555555555555556,\"#d8576b\"],[0.6666666666666666,\"#ed7953\"],[0.7777777777777778,\"#fb9f3a\"],[0.8888888888888888,\"#fdca26\"],[1.0,\"#f0f921\"]],\"type\":\"contour\"}],\"contourcarpet\":[{\"colorbar\":{\"outlinewidth\":0,\"ticks\":\"\"},\"type\":\"contourcarpet\"}],\"heatmap\":[{\"colorbar\":{\"outlinewidth\":0,\"ticks\":\"\"},\"colorscale\":[[0.0,\"#0d0887\"],[0.1111111111111111,\"#46039f\"],[0.2222222222222222,\"#7201a8\"],[0.3333333333333333,\"#9c179e\"],[0.4444444444444444,\"#bd3786\"],[0.5555555555555556,\"#d8576b\"],[0.6666666666666666,\"#ed7953\"],[0.7777777777777778,\"#fb9f3a\"],[0.8888888888888888,\"#fdca26\"],[1.0,\"#f0f921\"]],\"type\":\"heatmap\"}],\"heatmapgl\":[{\"colorbar\":{\"outlinewidth\":0,\"ticks\":\"\"},\"colorscale\":[[0.0,\"#0d0887\"],[0.1111111111111111,\"#46039f\"],[0.2222222222222222,\"#7201a8\"],[0.3333333333333333,\"#9c179e\"],[0.4444444444444444,\"#bd3786\"],[0.5555555555555556,\"#d8576b\"],[0.6666666666666666,\"#ed7953\"],[0.7777777777777778,\"#fb9f3a\"],[0.8888888888888888,\"#fdca26\"],[1.0,\"#f0f921\"]],\"type\":\"heatmapgl\"}],\"histogram\":[{\"marker\":{\"pattern\":{\"fillmode\":\"overlay\",\"size\":10,\"solidity\":0.2}},\"type\":\"histogram\"}],\"histogram2d\":[{\"colorbar\":{\"outlinewidth\":0,\"ticks\":\"\"},\"colorscale\":[[0.0,\"#0d0887\"],[0.1111111111111111,\"#46039f\"],[0.2222222222222222,\"#7201a8\"],[0.3333333333333333,\"#9c179e\"],[0.4444444444444444,\"#bd3786\"],[0.5555555555555556,\"#d8576b\"],[0.6666666666666666,\"#ed7953\"],[0.7777777777777778,\"#fb9f3a\"],[0.8888888888888888,\"#fdca26\"],[1.0,\"#f0f921\"]],\"type\":\"histogram2d\"}],\"histogram2dcontour\":[{\"colorbar\":{\"outlinewidth\":0,\"ticks\":\"\"},\"colorscale\":[[0.0,\"#0d0887\"],[0.1111111111111111,\"#46039f\"],[0.2222222222222222,\"#7201a8\"],[0.3333333333333333,\"#9c179e\"],[0.4444444444444444,\"#bd3786\"],[0.5555555555555556,\"#d8576b\"],[0.6666666666666666,\"#ed7953\"],[0.7777777777777778,\"#fb9f3a\"],[0.8888888888888888,\"#fdca26\"],[1.0,\"#f0f921\"]],\"type\":\"histogram2dcontour\"}],\"mesh3d\":[{\"colorbar\":{\"outlinewidth\":0,\"ticks\":\"\"},\"type\":\"mesh3d\"}],\"parcoords\":[{\"line\":{\"colorbar\":{\"outlinewidth\":0,\"ticks\":\"\"}},\"type\":\"parcoords\"}],\"pie\":[{\"automargin\":true,\"type\":\"pie\"}],\"scatter\":[{\"marker\":{\"colorbar\":{\"outlinewidth\":0,\"ticks\":\"\"}},\"type\":\"scatter\"}],\"scatter3d\":[{\"line\":{\"colorbar\":{\"outlinewidth\":0,\"ticks\":\"\"}},\"marker\":{\"colorbar\":{\"outlinewidth\":0,\"ticks\":\"\"}},\"type\":\"scatter3d\"}],\"scattercarpet\":[{\"marker\":{\"colorbar\":{\"outlinewidth\":0,\"ticks\":\"\"}},\"type\":\"scattercarpet\"}],\"scattergeo\":[{\"marker\":{\"colorbar\":{\"outlinewidth\":0,\"ticks\":\"\"}},\"type\":\"scattergeo\"}],\"scattergl\":[{\"marker\":{\"colorbar\":{\"outlinewidth\":0,\"ticks\":\"\"}},\"type\":\"scattergl\"}],\"scattermapbox\":[{\"marker\":{\"colorbar\":{\"outlinewidth\":0,\"ticks\":\"\"}},\"type\":\"scattermapbox\"}],\"scatterpolar\":[{\"marker\":{\"colorbar\":{\"outlinewidth\":0,\"ticks\":\"\"}},\"type\":\"scatterpolar\"}],\"scatterpolargl\":[{\"marker\":{\"colorbar\":{\"outlinewidth\":0,\"ticks\":\"\"}},\"type\":\"scatterpolargl\"}],\"scatterternary\":[{\"marker\":{\"colorbar\":{\"outlinewidth\":0,\"ticks\":\"\"}},\"type\":\"scatterternary\"}],\"surface\":[{\"colorbar\":{\"outlinewidth\":0,\"ticks\":\"\"},\"colorscale\":[[0.0,\"#0d0887\"],[0.1111111111111111,\"#46039f\"],[0.2222222222222222,\"#7201a8\"],[0.3333333333333333,\"#9c179e\"],[0.4444444444444444,\"#bd3786\"],[0.5555555555555556,\"#d8576b\"],[0.6666666666666666,\"#ed7953\"],[0.7777777777777778,\"#fb9f3a\"],[0.8888888888888888,\"#fdca26\"],[1.0,\"#f0f921\"]],\"type\":\"surface\"}],\"table\":[{\"cells\":{\"fill\":{\"color\":\"#EBF0F8\"},\"line\":{\"color\":\"white\"}},\"header\":{\"fill\":{\"color\":\"#C8D4E3\"},\"line\":{\"color\":\"white\"}},\"type\":\"table\"}]},\"layout\":{\"annotationdefaults\":{\"arrowcolor\":\"#2a3f5f\",\"arrowhead\":0,\"arrowwidth\":1},\"autotypenumbers\":\"strict\",\"coloraxis\":{\"colorbar\":{\"outlinewidth\":0,\"ticks\":\"\"}},\"colorscale\":{\"diverging\":[[0,\"#8e0152\"],[0.1,\"#c51b7d\"],[0.2,\"#de77ae\"],[0.3,\"#f1b6da\"],[0.4,\"#fde0ef\"],[0.5,\"#f7f7f7\"],[0.6,\"#e6f5d0\"],[0.7,\"#b8e186\"],[0.8,\"#7fbc41\"],[0.9,\"#4d9221\"],[1,\"#276419\"]],\"sequential\":[[0.0,\"#0d0887\"],[0.1111111111111111,\"#46039f\"],[0.2222222222222222,\"#7201a8\"],[0.3333333333333333,\"#9c179e\"],[0.4444444444444444,\"#bd3786\"],[0.5555555555555556,\"#d8576b\"],[0.6666666666666666,\"#ed7953\"],[0.7777777777777778,\"#fb9f3a\"],[0.8888888888888888,\"#fdca26\"],[1.0,\"#f0f921\"]],\"sequentialminus\":[[0.0,\"#0d0887\"],[0.1111111111111111,\"#46039f\"],[0.2222222222222222,\"#7201a8\"],[0.3333333333333333,\"#9c179e\"],[0.4444444444444444,\"#bd3786\"],[0.5555555555555556,\"#d8576b\"],[0.6666666666666666,\"#ed7953\"],[0.7777777777777778,\"#fb9f3a\"],[0.8888888888888888,\"#fdca26\"],[1.0,\"#f0f921\"]]},\"colorway\":[\"#636efa\",\"#EF553B\",\"#00cc96\",\"#ab63fa\",\"#FFA15A\",\"#19d3f3\",\"#FF6692\",\"#B6E880\",\"#FF97FF\",\"#FECB52\"],\"font\":{\"color\":\"#2a3f5f\"},\"geo\":{\"bgcolor\":\"white\",\"lakecolor\":\"white\",\"landcolor\":\"#E5ECF6\",\"showlakes\":true,\"showland\":true,\"subunitcolor\":\"white\"},\"hoverlabel\":{\"align\":\"left\"},\"hovermode\":\"closest\",\"mapbox\":{\"style\":\"light\"},\"paper_bgcolor\":\"white\",\"plot_bgcolor\":\"#E5ECF6\",\"polar\":{\"angularaxis\":{\"gridcolor\":\"white\",\"linecolor\":\"white\",\"ticks\":\"\"},\"bgcolor\":\"#E5ECF6\",\"radialaxis\":{\"gridcolor\":\"white\",\"linecolor\":\"white\",\"ticks\":\"\"}},\"scene\":{\"xaxis\":{\"backgroundcolor\":\"#E5ECF6\",\"gridcolor\":\"white\",\"gridwidth\":2,\"linecolor\":\"white\",\"showbackground\":true,\"ticks\":\"\",\"zerolinecolor\":\"white\"},\"yaxis\":{\"backgroundcolor\":\"#E5ECF6\",\"gridcolor\":\"white\",\"gridwidth\":2,\"linecolor\":\"white\",\"showbackground\":true,\"ticks\":\"\",\"zerolinecolor\":\"white\"},\"zaxis\":{\"backgroundcolor\":\"#E5ECF6\",\"gridcolor\":\"white\",\"gridwidth\":2,\"linecolor\":\"white\",\"showbackground\":true,\"ticks\":\"\",\"zerolinecolor\":\"white\"}},\"shapedefaults\":{\"line\":{\"color\":\"#2a3f5f\"}},\"ternary\":{\"aaxis\":{\"gridcolor\":\"white\",\"linecolor\":\"white\",\"ticks\":\"\"},\"baxis\":{\"gridcolor\":\"white\",\"linecolor\":\"white\",\"ticks\":\"\"},\"bgcolor\":\"#E5ECF6\",\"caxis\":{\"gridcolor\":\"white\",\"linecolor\":\"white\",\"ticks\":\"\"}},\"title\":{\"x\":0.05},\"xaxis\":{\"automargin\":true,\"gridcolor\":\"white\",\"linecolor\":\"white\",\"ticks\":\"\",\"title\":{\"standoff\":15},\"zerolinecolor\":\"white\",\"zerolinewidth\":2},\"yaxis\":{\"automargin\":true,\"gridcolor\":\"white\",\"linecolor\":\"white\",\"ticks\":\"\",\"title\":{\"standoff\":15},\"zerolinecolor\":\"white\",\"zerolinewidth\":2}}},\"xaxis\":{\"anchor\":\"y\",\"domain\":[0.0,1.0],\"title\":{\"text\":\"index\"}},\"yaxis\":{\"anchor\":\"x\",\"domain\":[0.0,1.0],\"title\":{\"text\":\"value\"}},\"legend\":{\"title\":{\"text\":\"variable\"},\"tracegroupgap\":0},\"margin\":{\"t\":60}},                        {\"responsive\": true}                    ).then(function(){\n",
              "                            \n",
              "var gd = document.getElementById('668d4161-31f9-4d4a-8ba6-6dd4d089b2c6');\n",
              "var x = new MutationObserver(function (mutations, observer) {{\n",
              "        var display = window.getComputedStyle(gd).display;\n",
              "        if (!display || display === 'none') {{\n",
              "            console.log([gd, 'removed!']);\n",
              "            Plotly.purge(gd);\n",
              "            observer.disconnect();\n",
              "        }}\n",
              "}});\n",
              "\n",
              "// Listen for the removal of the full notebook cells\n",
              "var notebookContainer = gd.closest('#notebook-container');\n",
              "if (notebookContainer) {{\n",
              "    x.observe(notebookContainer, {childList: true});\n",
              "}}\n",
              "\n",
              "// Listen for the clearing of the current output cell\n",
              "var outputEl = gd.closest('.output');\n",
              "if (outputEl) {{\n",
              "    x.observe(outputEl, {childList: true});\n",
              "}}\n",
              "\n",
              "                        })                };                            </script>        </div>\n",
              "</body>\n",
              "</html>"
            ]
          },
          "metadata": {}
        }
      ]
    },
    {
      "cell_type": "code",
      "source": [
        "model.evaluate(xTest, yTest)"
      ],
      "metadata": {
        "colab": {
          "base_uri": "https://localhost:8080/"
        },
        "id": "HVHfXQnbUHDT",
        "outputId": "df242da3-6cad-4613-9283-18cf509a610d"
      },
      "execution_count": 18,
      "outputs": [
        {
          "output_type": "stream",
          "name": "stdout",
          "text": [
            "31/31 [==============================] - 3s 83ms/step - loss: 1.1010 - accuracy: 0.2926 - f1_score: 0.1510\n"
          ]
        },
        {
          "output_type": "execute_result",
          "data": {
            "text/plain": [
              "[1.1009626388549805, 0.29263371229171753, 0.1510416716337204]"
            ]
          },
          "metadata": {},
          "execution_count": 18
        }
      ]
    },
    {
      "cell_type": "markdown",
      "metadata": {
        "id": "sP5G-EL7wM--"
      },
      "source": [
        "## Using a pre-learned network\n"
      ]
    },
    {
      "cell_type": "markdown",
      "metadata": {
        "id": "Og1KZntwavZT"
      },
      "source": [
        "### loading VGG-16 description part and adding layers to build our own classification network\n"
      ]
    },
    {
      "cell_type": "code",
      "execution_count": 19,
      "metadata": {
        "ExecuteTime": {
          "end_time": "2021-10-12T14:11:09.440297Z",
          "start_time": "2021-10-12T14:11:09.179442Z"
        },
        "colab": {
          "base_uri": "https://localhost:8080/"
        },
        "id": "ofrQr-x_a-Bi",
        "outputId": "c0a87041-ed22-430c-89dc-ccac23a944da"
      },
      "outputs": [
        {
          "output_type": "stream",
          "name": "stdout",
          "text": [
            "Downloading data from https://storage.googleapis.com/tensorflow/keras-applications/vgg16/vgg16_weights_tf_dim_ordering_tf_kernels_notop.h5\n",
            "58892288/58889256 [==============================] - 1s 0us/step\n",
            "58900480/58889256 [==============================] - 1s 0us/step\n",
            "Model: \"vgg16\"\n",
            "_________________________________________________________________\n",
            " Layer (type)                Output Shape              Param #   \n",
            "=================================================================\n",
            " input_1 (InputLayer)        [(None, None, None, 3)]   0         \n",
            "                                                                 \n",
            " block1_conv1 (Conv2D)       (None, None, None, 64)    1792      \n",
            "                                                                 \n",
            " block1_conv2 (Conv2D)       (None, None, None, 64)    36928     \n",
            "                                                                 \n",
            " block1_pool (MaxPooling2D)  (None, None, None, 64)    0         \n",
            "                                                                 \n",
            " block2_conv1 (Conv2D)       (None, None, None, 128)   73856     \n",
            "                                                                 \n",
            " block2_conv2 (Conv2D)       (None, None, None, 128)   147584    \n",
            "                                                                 \n",
            " block2_pool (MaxPooling2D)  (None, None, None, 128)   0         \n",
            "                                                                 \n",
            " block3_conv1 (Conv2D)       (None, None, None, 256)   295168    \n",
            "                                                                 \n",
            " block3_conv2 (Conv2D)       (None, None, None, 256)   590080    \n",
            "                                                                 \n",
            " block3_conv3 (Conv2D)       (None, None, None, 256)   590080    \n",
            "                                                                 \n",
            " block3_pool (MaxPooling2D)  (None, None, None, 256)   0         \n",
            "                                                                 \n",
            " block4_conv1 (Conv2D)       (None, None, None, 512)   1180160   \n",
            "                                                                 \n",
            " block4_conv2 (Conv2D)       (None, None, None, 512)   2359808   \n",
            "                                                                 \n",
            " block4_conv3 (Conv2D)       (None, None, None, 512)   2359808   \n",
            "                                                                 \n",
            " block4_pool (MaxPooling2D)  (None, None, None, 512)   0         \n",
            "                                                                 \n",
            " block5_conv1 (Conv2D)       (None, None, None, 512)   2359808   \n",
            "                                                                 \n",
            " block5_conv2 (Conv2D)       (None, None, None, 512)   2359808   \n",
            "                                                                 \n",
            " block5_conv3 (Conv2D)       (None, None, None, 512)   2359808   \n",
            "                                                                 \n",
            " block5_pool (MaxPooling2D)  (None, None, None, 512)   0         \n",
            "                                                                 \n",
            "=================================================================\n",
            "Total params: 14,714,688\n",
            "Trainable params: 14,714,688\n",
            "Non-trainable params: 0\n",
            "_________________________________________________________________\n"
          ]
        }
      ],
      "source": [
        "VGGmodel = VGG16(weights=\"imagenet\", include_top=False)\n",
        "VGGmodel.summary()\n"
      ]
    },
    {
      "cell_type": "code",
      "execution_count": 20,
      "metadata": {
        "ExecuteTime": {
          "end_time": "2021-10-12T14:11:36.842555Z",
          "start_time": "2021-10-12T14:11:36.806935Z"
        },
        "id": "ymSuU5sOwM--"
      },
      "outputs": [],
      "source": [
        "# we will add layers to this feature extraction part of VGG network\n",
        "m = VGGmodel.output\n",
        "# we start with a global average pooling\n",
        "m = GlobalAveragePooling2D()(m)\n",
        "# and add a fully-connected layer\n",
        "m = Dense(1024, activation=\"relu\")(m)\n",
        "# finally, the softmax layer for predictions (we have nbClasses classes)\n",
        "predictions = Dense(nbClasses, activation=\"softmax\")(m)\n",
        "\n",
        "# global network\n",
        "model = Model(inputs=VGGmodel.input, outputs=predictions)\n"
      ]
    },
    {
      "cell_type": "markdown",
      "metadata": {
        "id": "6POPQoXcbPuc",
        "solution": "hidden",
        "solution_first": true
      },
      "source": [
        "Can you display the architecture of this entire network?\n"
      ]
    },
    {
      "cell_type": "code",
      "execution_count": 21,
      "metadata": {
        "ExecuteTime": {
          "end_time": "2021-11-27T17:31:47.819971Z",
          "start_time": "2021-11-27T17:31:47.813952Z"
        },
        "colab": {
          "base_uri": "https://localhost:8080/"
        },
        "id": "90djVWaMwM--",
        "outputId": "29b080ab-6193-4cf6-fe16-b18df95c91ce"
      },
      "outputs": [
        {
          "output_type": "stream",
          "name": "stdout",
          "text": [
            "Model: \"model\"\n",
            "_________________________________________________________________\n",
            " Layer (type)                Output Shape              Param #   \n",
            "=================================================================\n",
            " input_1 (InputLayer)        [(None, None, None, 3)]   0         \n",
            "                                                                 \n",
            " block1_conv1 (Conv2D)       (None, None, None, 64)    1792      \n",
            "                                                                 \n",
            " block1_conv2 (Conv2D)       (None, None, None, 64)    36928     \n",
            "                                                                 \n",
            " block1_pool (MaxPooling2D)  (None, None, None, 64)    0         \n",
            "                                                                 \n",
            " block2_conv1 (Conv2D)       (None, None, None, 128)   73856     \n",
            "                                                                 \n",
            " block2_conv2 (Conv2D)       (None, None, None, 128)   147584    \n",
            "                                                                 \n",
            " block2_pool (MaxPooling2D)  (None, None, None, 128)   0         \n",
            "                                                                 \n",
            " block3_conv1 (Conv2D)       (None, None, None, 256)   295168    \n",
            "                                                                 \n",
            " block3_conv2 (Conv2D)       (None, None, None, 256)   590080    \n",
            "                                                                 \n",
            " block3_conv3 (Conv2D)       (None, None, None, 256)   590080    \n",
            "                                                                 \n",
            " block3_pool (MaxPooling2D)  (None, None, None, 256)   0         \n",
            "                                                                 \n",
            " block4_conv1 (Conv2D)       (None, None, None, 512)   1180160   \n",
            "                                                                 \n",
            " block4_conv2 (Conv2D)       (None, None, None, 512)   2359808   \n",
            "                                                                 \n",
            " block4_conv3 (Conv2D)       (None, None, None, 512)   2359808   \n",
            "                                                                 \n",
            " block4_pool (MaxPooling2D)  (None, None, None, 512)   0         \n",
            "                                                                 \n",
            " block5_conv1 (Conv2D)       (None, None, None, 512)   2359808   \n",
            "                                                                 \n",
            " block5_conv2 (Conv2D)       (None, None, None, 512)   2359808   \n",
            "                                                                 \n",
            " block5_conv3 (Conv2D)       (None, None, None, 512)   2359808   \n",
            "                                                                 \n",
            " block5_pool (MaxPooling2D)  (None, None, None, 512)   0         \n",
            "                                                                 \n",
            " global_average_pooling2d_1   (None, 512)              0         \n",
            " (GlobalAveragePooling2D)                                        \n",
            "                                                                 \n",
            " dense_3 (Dense)             (None, 1024)              525312    \n",
            "                                                                 \n",
            " dense_4 (Dense)             (None, 3)                 3075      \n",
            "                                                                 \n",
            "=================================================================\n",
            "Total params: 15,243,075\n",
            "Trainable params: 15,243,075\n",
            "Non-trainable params: 0\n",
            "_________________________________________________________________\n"
          ]
        }
      ],
      "source": [
        "model.summary()"
      ]
    },
    {
      "cell_type": "code",
      "execution_count": 22,
      "metadata": {
        "colab": {
          "base_uri": "https://localhost:8080/"
        },
        "id": "PrLUhA2-b8Fv",
        "outputId": "1dd98847-e9ed-45cf-81f0-7cf0bc6a9bcc"
      },
      "outputs": [
        {
          "output_type": "stream",
          "name": "stdout",
          "text": [
            "Epoch 1/2000\n",
            "4/4 [==============================] - 29s 6s/step - loss: 15.9159 - accuracy: 0.4583 - val_loss: 8.3910 - val_accuracy: 0.3083\n",
            "Epoch 2/2000\n",
            "4/4 [==============================] - 3s 736ms/step - loss: 1.2199 - accuracy: 0.8604 - val_loss: 0.1745 - val_accuracy: 0.9583\n",
            "Epoch 3/2000\n",
            "4/4 [==============================] - 3s 738ms/step - loss: 0.0189 - accuracy: 0.9937 - val_loss: 0.1460 - val_accuracy: 0.9583\n",
            "Epoch 4/2000\n",
            "4/4 [==============================] - 3s 738ms/step - loss: 0.0195 - accuracy: 0.9854 - val_loss: 0.1338 - val_accuracy: 0.9583\n",
            "Epoch 5/2000\n",
            "4/4 [==============================] - 3s 737ms/step - loss: 0.0015 - accuracy: 1.0000 - val_loss: 0.1296 - val_accuracy: 0.9583\n",
            "Epoch 6/2000\n",
            "4/4 [==============================] - 3s 740ms/step - loss: 0.0011 - accuracy: 1.0000 - val_loss: 0.1275 - val_accuracy: 0.9667\n",
            "Epoch 7/2000\n",
            "4/4 [==============================] - 3s 744ms/step - loss: 8.8978e-04 - accuracy: 1.0000 - val_loss: 0.1249 - val_accuracy: 0.9667\n",
            "Epoch 8/2000\n",
            "4/4 [==============================] - 3s 741ms/step - loss: 7.5749e-04 - accuracy: 1.0000 - val_loss: 0.1223 - val_accuracy: 0.9667\n",
            "Epoch 9/2000\n",
            "4/4 [==============================] - 3s 743ms/step - loss: 6.4975e-04 - accuracy: 1.0000 - val_loss: 0.1203 - val_accuracy: 0.9667\n",
            "Epoch 10/2000\n",
            "4/4 [==============================] - 3s 739ms/step - loss: 5.4591e-04 - accuracy: 1.0000 - val_loss: 0.1193 - val_accuracy: 0.9667\n",
            "Epoch 11/2000\n",
            "4/4 [==============================] - 3s 749ms/step - loss: 4.8006e-04 - accuracy: 1.0000 - val_loss: 0.1167 - val_accuracy: 0.9667\n",
            "Epoch 12/2000\n",
            "4/4 [==============================] - 3s 742ms/step - loss: 4.1742e-04 - accuracy: 1.0000 - val_loss: 0.1162 - val_accuracy: 0.9667\n",
            "Epoch 13/2000\n",
            "4/4 [==============================] - 3s 743ms/step - loss: 3.5422e-04 - accuracy: 1.0000 - val_loss: 0.1134 - val_accuracy: 0.9667\n",
            "Epoch 14/2000\n",
            "4/4 [==============================] - 3s 743ms/step - loss: 2.9628e-04 - accuracy: 1.0000 - val_loss: 0.1123 - val_accuracy: 0.9667\n",
            "Epoch 15/2000\n",
            "4/4 [==============================] - 3s 741ms/step - loss: 2.5545e-04 - accuracy: 1.0000 - val_loss: 0.1094 - val_accuracy: 0.9667\n",
            "Epoch 16/2000\n",
            "4/4 [==============================] - 3s 762ms/step - loss: 2.1416e-04 - accuracy: 1.0000 - val_loss: 0.1083 - val_accuracy: 0.9667\n"
          ]
        }
      ],
      "source": [
        "# training\n",
        "ourCallback = tensorflow.keras.callbacks.EarlyStopping(\n",
        "    monitor=\"val_accuracy\",\n",
        "    min_delta=0.0001,\n",
        "    patience=10,\n",
        "    verbose=0,\n",
        "    mode=\"auto\",\n",
        "    baseline=None,\n",
        "    restore_best_weights=False,\n",
        ")\n",
        "\n",
        "# training part I: training only the classification part (the end)\n",
        "for layer in VGGmodel.layers:\n",
        "    layer.trainable = False\n",
        "model.compile(\n",
        "    optimizer=\"rmsprop\", loss=\"categorical_crossentropy\", metrics=[\"accuracy\"]\n",
        ")\n",
        "history = model.fit(\n",
        "    xTrain,\n",
        "    yTrain,\n",
        "    epochs=2000,\n",
        "    batch_size=128,\n",
        "    validation_split=0.2,\n",
        "    callbacks=[ourCallback],\n",
        "    verbose=1,\n",
        ")\n"
      ]
    },
    {
      "cell_type": "code",
      "source": [
        "model.evaluate(xTest, yTest)"
      ],
      "metadata": {
        "colab": {
          "base_uri": "https://localhost:8080/"
        },
        "id": "Z6VA8aMRT6YB",
        "outputId": "cd8819a3-6506-4ca4-a079-04e660e2529c"
      },
      "execution_count": 23,
      "outputs": [
        {
          "output_type": "stream",
          "name": "stdout",
          "text": [
            "31/31 [==============================] - 9s 220ms/step - loss: 1.1695 - accuracy: 0.2926\n"
          ]
        },
        {
          "output_type": "execute_result",
          "data": {
            "text/plain": [
              "[1.1694881916046143, 0.29263371229171753]"
            ]
          },
          "metadata": {},
          "execution_count": 23
        }
      ]
    },
    {
      "cell_type": "code",
      "source": [
        "yPred = model.predict(xTest)\n",
        "yPred"
      ],
      "metadata": {
        "colab": {
          "base_uri": "https://localhost:8080/"
        },
        "id": "CUu03F7jWAk7",
        "outputId": "6470aaec-bbaa-4806-ff99-a85b4b22711b"
      },
      "execution_count": 24,
      "outputs": [
        {
          "output_type": "execute_result",
          "data": {
            "text/plain": [
              "array([[6.1798629e-16, 6.9691858e-10, 1.0000000e+00],\n",
              "       [2.5118914e-01, 3.9229277e-01, 3.5651809e-01],\n",
              "       [2.5118914e-01, 3.9229277e-01, 3.5651809e-01],\n",
              "       ...,\n",
              "       [2.5118914e-01, 3.9229277e-01, 3.5651809e-01],\n",
              "       [2.5118914e-01, 3.9229277e-01, 3.5651809e-01],\n",
              "       [2.5118914e-01, 3.9229277e-01, 3.5651809e-01]], dtype=float32)"
            ]
          },
          "metadata": {},
          "execution_count": 24
        }
      ]
    },
    {
      "cell_type": "code",
      "source": [
        "ConfusionMatrixDisplay.from_predictions(np.argmax(yTest, axis=1), np.argmax(yPred, axis=1))"
      ],
      "metadata": {
        "colab": {
          "base_uri": "https://localhost:8080/",
          "height": 296
        },
        "id": "W295FR5KWFb6",
        "outputId": "017f40f4-b042-4668-ad19-d4afd73f3fd6"
      },
      "execution_count": 25,
      "outputs": [
        {
          "output_type": "execute_result",
          "data": {
            "text/plain": [
              "<sklearn.metrics._plot.confusion_matrix.ConfusionMatrixDisplay at 0x7f3f12b43210>"
            ]
          },
          "metadata": {},
          "execution_count": 25
        },
        {
          "output_type": "display_data",
          "data": {
            "image/png": "[encoded data removed]",
            "text/plain": [
              "<Figure size 432x288 with 2 Axes>"
            ]
          },
          "metadata": {
            "needs_background": "light"
          }
        }
      ]
    },
    {
      "cell_type": "markdown",
      "metadata": {
        "id": "4hgDguiNcNXZ"
      },
      "source": [
        "### fine-tune the network\n"
      ]
    },
    {
      "cell_type": "markdown",
      "metadata": {
        "id": "L9jmknEpcT1_"
      },
      "source": [
        "Fine-tune the entire network if you have enough computing ressouces, otherwise, carefully choose the layers you want to fine-tune.\n"
      ]
    },
    {
      "cell_type": "code",
      "execution_count": 26,
      "metadata": {
        "ExecuteTime": {
          "end_time": "2021-10-12T14:13:56.365304Z",
          "start_time": "2021-10-12T14:13:56.350142Z"
        },
        "colab": {
          "base_uri": "https://localhost:8080/"
        },
        "id": "cRr97-2yc6kZ",
        "outputId": "cf0cb69b-0521-4012-9972-f2bf1e5262ac"
      },
      "outputs": [
        {
          "output_type": "stream",
          "name": "stdout",
          "text": [
            "0 input_1\n",
            "1 block1_conv1\n",
            "2 block1_conv2\n",
            "3 block1_pool\n",
            "4 block2_conv1\n",
            "5 block2_conv2\n",
            "6 block2_pool\n",
            "7 block3_conv1\n",
            "8 block3_conv2\n",
            "9 block3_conv3\n",
            "10 block3_pool\n",
            "11 block4_conv1\n",
            "12 block4_conv2\n",
            "13 block4_conv3\n",
            "14 block4_pool\n",
            "15 block5_conv1\n",
            "16 block5_conv2\n",
            "17 block5_conv3\n",
            "18 block5_pool\n",
            "Model: \"model\"\n",
            "_________________________________________________________________\n",
            " Layer (type)                Output Shape              Param #   \n",
            "=================================================================\n",
            " input_1 (InputLayer)        [(None, None, None, 3)]   0         \n",
            "                                                                 \n",
            " block1_conv1 (Conv2D)       (None, None, None, 64)    1792      \n",
            "                                                                 \n",
            " block1_conv2 (Conv2D)       (None, None, None, 64)    36928     \n",
            "                                                                 \n",
            " block1_pool (MaxPooling2D)  (None, None, None, 64)    0         \n",
            "                                                                 \n",
            " block2_conv1 (Conv2D)       (None, None, None, 128)   73856     \n",
            "                                                                 \n",
            " block2_conv2 (Conv2D)       (None, None, None, 128)   147584    \n",
            "                                                                 \n",
            " block2_pool (MaxPooling2D)  (None, None, None, 128)   0         \n",
            "                                                                 \n",
            " block3_conv1 (Conv2D)       (None, None, None, 256)   295168    \n",
            "                                                                 \n",
            " block3_conv2 (Conv2D)       (None, None, None, 256)   590080    \n",
            "                                                                 \n",
            " block3_conv3 (Conv2D)       (None, None, None, 256)   590080    \n",
            "                                                                 \n",
            " block3_pool (MaxPooling2D)  (None, None, None, 256)   0         \n",
            "                                                                 \n",
            " block4_conv1 (Conv2D)       (None, None, None, 512)   1180160   \n",
            "                                                                 \n",
            " block4_conv2 (Conv2D)       (None, None, None, 512)   2359808   \n",
            "                                                                 \n",
            " block4_conv3 (Conv2D)       (None, None, None, 512)   2359808   \n",
            "                                                                 \n",
            " block4_pool (MaxPooling2D)  (None, None, None, 512)   0         \n",
            "                                                                 \n",
            " block5_conv1 (Conv2D)       (None, None, None, 512)   2359808   \n",
            "                                                                 \n",
            " block5_conv2 (Conv2D)       (None, None, None, 512)   2359808   \n",
            "                                                                 \n",
            " block5_conv3 (Conv2D)       (None, None, None, 512)   2359808   \n",
            "                                                                 \n",
            " block5_pool (MaxPooling2D)  (None, None, None, 512)   0         \n",
            "                                                                 \n",
            " global_average_pooling2d_1   (None, 512)              0         \n",
            " (GlobalAveragePooling2D)                                        \n",
            "                                                                 \n",
            " dense_3 (Dense)             (None, 1024)              525312    \n",
            "                                                                 \n",
            " dense_4 (Dense)             (None, 3)                 3075      \n",
            "                                                                 \n",
            "=================================================================\n",
            "Total params: 15,243,075\n",
            "Trainable params: 528,387\n",
            "Non-trainable params: 14,714,688\n",
            "_________________________________________________________________\n"
          ]
        }
      ],
      "source": [
        "for i, layer in enumerate(VGGmodel.layers):\n",
        "    print(i, layer.name)\n",
        "model.summary()\n"
      ]
    },
    {
      "cell_type": "markdown",
      "metadata": {
        "id": "v4eCse6wku5Q"
      },
      "source": [
        "In this example, we will fine-tune the last convolution block starting at layer number 15 (block5_conv).\n"
      ]
    },
    {
      "cell_type": "code",
      "execution_count": 27,
      "metadata": {
        "colab": {
          "base_uri": "https://localhost:8080/"
        },
        "id": "C17ts6kllGUr",
        "outputId": "9be02114-3e90-474c-e293-fe9cf36bf289"
      },
      "outputs": [
        {
          "output_type": "stream",
          "name": "stdout",
          "text": [
            "Epoch 1/20\n",
            "4/4 [==============================] - 10s 2s/step - loss: 52.6541 - accuracy: 0.5854 - val_loss: 4.9943 - val_accuracy: 0.0083\n",
            "Epoch 2/20\n",
            "4/4 [==============================] - 4s 962ms/step - loss: 2.0392 - accuracy: 0.3729 - val_loss: 1.3398 - val_accuracy: 0.1500\n",
            "Epoch 3/20\n",
            "4/4 [==============================] - 4s 959ms/step - loss: 0.9244 - accuracy: 0.5250 - val_loss: 0.9867 - val_accuracy: 0.5917\n",
            "Epoch 4/20\n",
            "4/4 [==============================] - 4s 957ms/step - loss: 0.8952 - accuracy: 0.5688 - val_loss: 0.6260 - val_accuracy: 0.7833\n",
            "Epoch 5/20\n",
            "4/4 [==============================] - 4s 963ms/step - loss: 0.7974 - accuracy: 0.6083 - val_loss: 0.4199 - val_accuracy: 0.8917\n",
            "Epoch 6/20\n",
            "4/4 [==============================] - 4s 965ms/step - loss: 0.6734 - accuracy: 0.6812 - val_loss: 0.3322 - val_accuracy: 0.9167\n",
            "Epoch 7/20\n",
            "4/4 [==============================] - 4s 965ms/step - loss: 0.6776 - accuracy: 0.6521 - val_loss: 1.0555 - val_accuracy: 0.5583\n",
            "Epoch 8/20\n",
            "4/4 [==============================] - 4s 960ms/step - loss: 0.6457 - accuracy: 0.7417 - val_loss: 0.0858 - val_accuracy: 0.9833\n",
            "Epoch 9/20\n",
            "4/4 [==============================] - 4s 964ms/step - loss: 0.5831 - accuracy: 0.7312 - val_loss: 0.2375 - val_accuracy: 0.9333\n",
            "Epoch 10/20\n",
            "4/4 [==============================] - 4s 964ms/step - loss: 0.4587 - accuracy: 0.7625 - val_loss: 0.2013 - val_accuracy: 0.9250\n",
            "Epoch 11/20\n",
            "4/4 [==============================] - 4s 964ms/step - loss: 0.4822 - accuracy: 0.7354 - val_loss: 0.0674 - val_accuracy: 0.9917\n",
            "Epoch 12/20\n",
            "4/4 [==============================] - 4s 963ms/step - loss: 0.8197 - accuracy: 0.6333 - val_loss: 1.1623 - val_accuracy: 0.4167\n",
            "Epoch 13/20\n",
            "4/4 [==============================] - 4s 966ms/step - loss: 0.4604 - accuracy: 0.8125 - val_loss: 0.0596 - val_accuracy: 0.9833\n",
            "Epoch 14/20\n",
            "4/4 [==============================] - 4s 965ms/step - loss: 1.0996 - accuracy: 0.5375 - val_loss: 0.4767 - val_accuracy: 0.7667\n",
            "Epoch 15/20\n",
            "4/4 [==============================] - 4s 963ms/step - loss: 0.5295 - accuracy: 0.7667 - val_loss: 4.6444 - val_accuracy: 0.1333\n",
            "Epoch 16/20\n",
            "4/4 [==============================] - 4s 965ms/step - loss: 0.8465 - accuracy: 0.6792 - val_loss: 0.6917 - val_accuracy: 0.6583\n",
            "Epoch 17/20\n",
            "4/4 [==============================] - 4s 966ms/step - loss: 0.3959 - accuracy: 0.8375 - val_loss: 0.2179 - val_accuracy: 0.9083\n",
            "Epoch 18/20\n",
            "4/4 [==============================] - 4s 969ms/step - loss: 0.4427 - accuracy: 0.7875 - val_loss: 0.1550 - val_accuracy: 0.9583\n",
            "Epoch 19/20\n",
            "4/4 [==============================] - 4s 971ms/step - loss: 0.3918 - accuracy: 0.8521 - val_loss: 0.3995 - val_accuracy: 0.8417\n",
            "Epoch 20/20\n",
            "4/4 [==============================] - 4s 962ms/step - loss: 0.3899 - accuracy: 0.8458 - val_loss: 0.2920 - val_accuracy: 0.9167\n"
          ]
        },
        {
          "output_type": "execute_result",
          "data": {
            "text/plain": [
              "<keras.callbacks.History at 0x7f3f3a1ee9d0>"
            ]
          },
          "metadata": {},
          "execution_count": 27
        }
      ],
      "source": [
        "from tensorflow.keras.optimizers import RMSprop\n",
        "\n",
        "for layer in model.layers[:11]:\n",
        "    layer.trainable = False\n",
        "for layer in model.layers[11:]:\n",
        "    layer.trainable = True\n",
        "# need to recompile the network\n",
        "model.compile(\n",
        "    optimizer=RMSprop(learning_rate=0.0001),\n",
        "    loss=\"categorical_crossentropy\",\n",
        "    metrics=[\"accuracy\"],\n",
        ")\n",
        "\n",
        "# ______________________________________\n",
        "#\n",
        "# This is how I would tune the model\n",
        "# but I don't have enough computing resources\n",
        "\n",
        "# import keras_tuner as kt\n",
        "# tuner = kt.RandomSearch(\n",
        "#     model, # compiled model\n",
        "#     objective='val_f1_score',\n",
        "#     max_trials=5)\n",
        "# ______________________________________\n",
        "\n",
        "# and train again ...\n",
        "model.fit(\n",
        "    xTrain,\n",
        "    yTrain,\n",
        "    epochs=20,\n",
        "    batch_size=128,\n",
        "    validation_split=0.2,\n",
        "    callbacks=[ourCallback],\n",
        "    verbose=1,\n",
        ")\n"
      ]
    },
    {
      "cell_type": "markdown",
      "metadata": {
        "id": "6LrhxQiBmTZj",
        "solution": "hidden",
        "solution_first": true
      },
      "source": [
        "You already know how to evaluate the performances on the test dataset and display the confusion matrix. You can also modify the code that loads the test dataset in order to reduce it's size. Let's do it!\n"
      ]
    },
    {
      "cell_type": "code",
      "execution_count": 29,
      "metadata": {
        "id": "RHGxb-PxmiYd",
        "colab": {
          "base_uri": "https://localhost:8080/"
        },
        "outputId": "9643b453-1d43-4c09-ee26-b43e4a50d03b"
      },
      "outputs": [
        {
          "output_type": "stream",
          "name": "stdout",
          "text": [
            "31/31 [==============================] - 4s 138ms/step - loss: 1.1134 - accuracy: 0.2926\n"
          ]
        },
        {
          "output_type": "execute_result",
          "data": {
            "text/plain": [
              "[1.1134483814239502, 0.29263371229171753]"
            ]
          },
          "metadata": {},
          "execution_count": 29
        }
      ],
      "source": [
        "model.evaluate(xTest, yTest) # results are close to random, as previously..."
      ]
    },
    {
      "cell_type": "markdown",
      "metadata": {
        "id": "unzKoPOsgNW3",
        "solution": "hidden",
        "solution_first": true
      },
      "source": [
        "You are now free to experiments changes in the network:\n",
        "\n",
        "- add a dense layer\n",
        "- modify the number of neurons in dense layer(s)\n",
        "- change the global average polling\n",
        "- add classes and data\n",
        "- experiment other optimizers (SGD, Adam, ...)\n",
        "\n",
        "...\n"
      ]
    },
    {
      "cell_type": "code",
      "execution_count": 46,
      "metadata": {
        "id": "E0nEDJe8wM_A",
        "colab": {
          "base_uri": "https://localhost:8080/"
        },
        "outputId": "2314c39d-5a32-499b-cc92-e728ceb725a0"
      },
      "outputs": [
        {
          "output_type": "stream",
          "name": "stdout",
          "text": [
            "Model: \"model_9\"\n",
            "_________________________________________________________________\n",
            " Layer (type)                Output Shape              Param #   \n",
            "=================================================================\n",
            " input_1 (InputLayer)        [(None, None, None, 3)]   0         \n",
            "                                                                 \n",
            " block1_conv1 (Conv2D)       (None, None, None, 64)    1792      \n",
            "                                                                 \n",
            " block1_conv2 (Conv2D)       (None, None, None, 64)    36928     \n",
            "                                                                 \n",
            " block1_pool (MaxPooling2D)  (None, None, None, 64)    0         \n",
            "                                                                 \n",
            " block2_conv1 (Conv2D)       (None, None, None, 128)   73856     \n",
            "                                                                 \n",
            " block2_conv2 (Conv2D)       (None, None, None, 128)   147584    \n",
            "                                                                 \n",
            " block2_pool (MaxPooling2D)  (None, None, None, 128)   0         \n",
            "                                                                 \n",
            " block3_conv1 (Conv2D)       (None, None, None, 256)   295168    \n",
            "                                                                 \n",
            " block3_conv2 (Conv2D)       (None, None, None, 256)   590080    \n",
            "                                                                 \n",
            " block3_conv3 (Conv2D)       (None, None, None, 256)   590080    \n",
            "                                                                 \n",
            " block3_pool (MaxPooling2D)  (None, None, None, 256)   0         \n",
            "                                                                 \n",
            " block4_conv1 (Conv2D)       (None, None, None, 512)   1180160   \n",
            "                                                                 \n",
            " block4_conv2 (Conv2D)       (None, None, None, 512)   2359808   \n",
            "                                                                 \n",
            " block4_conv3 (Conv2D)       (None, None, None, 512)   2359808   \n",
            "                                                                 \n",
            " block4_pool (MaxPooling2D)  (None, None, None, 512)   0         \n",
            "                                                                 \n",
            " block5_conv1 (Conv2D)       (None, None, None, 512)   2359808   \n",
            "                                                                 \n",
            " block5_conv2 (Conv2D)       (None, None, None, 512)   2359808   \n",
            "                                                                 \n",
            " block5_conv3 (Conv2D)       (None, None, None, 512)   2359808   \n",
            "                                                                 \n",
            " block5_pool (MaxPooling2D)  (None, None, None, 512)   0         \n",
            "                                                                 \n",
            " global_max_pooling2d_3 (Glo  (None, 512)              0         \n",
            " balMaxPooling2D)                                                \n",
            "                                                                 \n",
            " dense_29 (Dense)            (None, 256)               131328    \n",
            "                                                                 \n",
            " dense_30 (Dense)            (None, 256)               65792     \n",
            "                                                                 \n",
            " dense_31 (Dense)            (None, 3)                 771       \n",
            "                                                                 \n",
            "=================================================================\n",
            "Total params: 14,912,579\n",
            "Trainable params: 13,177,091\n",
            "Non-trainable params: 1,735,488\n",
            "_________________________________________________________________\n",
            "None\n",
            "Epoch 1/20\n",
            "4/4 [==============================] - 5s 1s/step - loss: 4.0230 - accuracy: 0.4917 - val_loss: 0.3511 - val_accuracy: 0.9083\n",
            "Epoch 2/20\n",
            "4/4 [==============================] - 4s 928ms/step - loss: 0.5269 - accuracy: 0.7750 - val_loss: 0.4227 - val_accuracy: 0.8917\n",
            "Epoch 3/20\n",
            "4/4 [==============================] - 4s 927ms/step - loss: 0.2466 - accuracy: 0.8938 - val_loss: 0.6378 - val_accuracy: 0.8250\n",
            "Epoch 4/20\n",
            "4/4 [==============================] - 4s 934ms/step - loss: 0.1914 - accuracy: 0.9146 - val_loss: 0.9044 - val_accuracy: 0.7500\n",
            "Epoch 5/20\n",
            "4/4 [==============================] - 4s 925ms/step - loss: 0.1287 - accuracy: 0.9438 - val_loss: 0.3730 - val_accuracy: 0.8917\n",
            "Epoch 6/20\n",
            "4/4 [==============================] - 4s 930ms/step - loss: 0.0597 - accuracy: 0.9833 - val_loss: 0.5283 - val_accuracy: 0.8417\n",
            "Epoch 7/20\n",
            "4/4 [==============================] - 4s 929ms/step - loss: 0.0428 - accuracy: 0.9854 - val_loss: 0.6660 - val_accuracy: 0.8333\n",
            "Epoch 8/20\n",
            "4/4 [==============================] - 4s 928ms/step - loss: 0.0133 - accuracy: 0.9979 - val_loss: 0.4631 - val_accuracy: 0.9000\n",
            "Epoch 9/20\n",
            "4/4 [==============================] - 4s 936ms/step - loss: 0.0132 - accuracy: 0.9958 - val_loss: 0.6095 - val_accuracy: 0.8833\n",
            "Epoch 10/20\n",
            "4/4 [==============================] - 4s 936ms/step - loss: 0.0084 - accuracy: 1.0000 - val_loss: 0.7966 - val_accuracy: 0.8500\n",
            "Epoch 11/20\n",
            "4/4 [==============================] - 4s 936ms/step - loss: 0.0037 - accuracy: 1.0000 - val_loss: 0.7992 - val_accuracy: 0.8500\n"
          ]
        },
        {
          "output_type": "execute_result",
          "data": {
            "text/plain": [
              "<keras.callbacks.History at 0x7f3edc51e890>"
            ]
          },
          "metadata": {},
          "execution_count": 46
        }
      ],
      "source": [
        "# we will add layers to this feature extraction part of VGG network\n",
        "m = VGGmodel.output\n",
        "\n",
        "# we start with a global average pooling\n",
        "m = GlobalMaxPooling2D()(m)\n",
        "\n",
        "# and add a fully-connected layer\n",
        "m = Dense(256, activation=\"relu\")(m) # modify the number of neurons in dense layer\n",
        "m = Dense(256, activation=\"relu\")(m) # add a second dense layer\n",
        "\n",
        "# finally, the softmax layer for predictions (we have nbClasses classes)\n",
        "predictions = Dense(nbClasses, activation=\"softmax\")(m)\n",
        "\n",
        "# global network\n",
        "model = Model(inputs=VGGmodel.input, outputs=predictions)\n",
        "print(model.summary())\n",
        "\n",
        "# compile\n",
        "model.compile(\n",
        "    optimizer=Adam(learning_rate=0.0001), # try other optimizer\n",
        "    loss=\"categorical_crossentropy\",\n",
        "    metrics=[\"accuracy\"],\n",
        ")\n",
        "\n",
        "# fit model\n",
        "model.fit(\n",
        "    xTrain,\n",
        "    yTrain,\n",
        "    epochs=200,\n",
        "    batch_size=128,\n",
        "    validation_split=0.2,\n",
        "    callbacks=[ourCallback],\n",
        "    verbose=1,\n",
        ")"
      ]
    },
    {
      "cell_type": "code",
      "source": [
        "model.evaluate(xTest, yTest)"
      ],
      "metadata": {
        "colab": {
          "base_uri": "https://localhost:8080/"
        },
        "id": "Ssee-LmJm-O7",
        "outputId": "29089a0d-9d0f-49ee-c69d-7cdbd3dc5675"
      },
      "execution_count": 47,
      "outputs": [
        {
          "output_type": "stream",
          "name": "stdout",
          "text": [
            "31/31 [==============================] - 4s 139ms/step - loss: 1.1214 - accuracy: 0.3764\n"
          ]
        },
        {
          "output_type": "execute_result",
          "data": {
            "text/plain": [
              "[1.1214269399642944, 0.37638747692108154]"
            ]
          },
          "metadata": {},
          "execution_count": 47
        }
      ]
    },
    {
      "cell_type": "code",
      "source": [
        "yPred = model.predict(xTest)\n",
        "ConfusionMatrixDisplay.from_predictions(np.argmax(yTest, axis=1), np.argmax(yPred, axis=1))"
      ],
      "metadata": {
        "colab": {
          "base_uri": "https://localhost:8080/",
          "height": 296
        },
        "id": "4hvk9F0hnTlc",
        "outputId": "fee7eed3-24ed-4c28-ac2d-081cb979d657"
      },
      "execution_count": 49,
      "outputs": [
        {
          "output_type": "execute_result",
          "data": {
            "text/plain": [
              "<sklearn.metrics._plot.confusion_matrix.ConfusionMatrixDisplay at 0x7f3edc5b7bd0>"
            ]
          },
          "metadata": {},
          "execution_count": 49
        },
        {
          "output_type": "display_data",
          "data": {
            "image/png": "[encoded data removed]",
            "text/plain": [
              "<Figure size 432x288 with 2 Axes>"
            ]
          },
          "metadata": {
            "needs_background": "light"
          }
        }
      ]
    }
  ],
  "metadata": {
    "colab": {
      "collapsed_sections": [],
      "name": "06-notebook-CNN.ipynb",
      "provenance": []
    },
    "hide_input": false,
    "kernelspec": {
      "display_name": "Python 3",
      "language": "python",
      "name": "python3"
    },
    "language_info": {
      "codemirror_mode": {
        "name": "ipython",
        "version": 3
      },
      "file_extension": ".py",
      "mimetype": "text/x-python",
      "name": "python",
      "nbconvert_exporter": "python",
      "pygments_lexer": "ipython3",
      "version": "3.9.10"
    },
    "latex_envs": {
      "LaTeX_envs_menu_present": true,
      "autoclose": false,
      "autocomplete": true,
      "bibliofile": "biblio.bib",
      "cite_by": "apalike",
      "current_citInitial": 1,
      "eqLabelWithNumbers": true,
      "eqNumInitial": 1,
      "hotkeys": {
        "equation": "Ctrl-E",
        "itemize": "Ctrl-I"
      },
      "labels_anchors": false,
      "latex_user_defs": false,
      "report_style_numbering": false,
      "user_envs_cfg": false
    },
    "toc": {
      "base_numbering": 1,
      "nav_menu": {},
      "number_sections": true,
      "sideBar": true,
      "skip_h1_title": false,
      "title_cell": "Table of Contents",
      "title_sidebar": "Contents",
      "toc_cell": false,
      "toc_position": {},
      "toc_section_display": true,
      "toc_window_display": false
    },
    "varInspector": {
      "cols": {
        "lenName": 16,
        "lenType": 16,
        "lenVar": 40
      },
      "kernels_config": {
        "python": {
          "delete_cmd_postfix": "",
          "delete_cmd_prefix": "del ",
          "library": "var_list.py",
          "varRefreshCmd": "print(var_dic_list())"
        },
        "r": {
          "delete_cmd_postfix": ") ",
          "delete_cmd_prefix": "rm(",
          "library": "var_list.r",
          "varRefreshCmd": "cat(var_dic_list()) "
        }
      },
      "position": {
        "height": "121.85px",
        "left": "491.667px",
        "right": "20px",
        "top": "120px",
        "width": "341.667px"
      },
      "types_to_exclude": [
        "module",
        "function",
        "builtin_function_or_method",
        "instance",
        "_Feature"
      ],
      "window_display": false
    },
    "accelerator": "GPU"
  },
  "nbformat": 4,
  "nbformat_minor": 0
}
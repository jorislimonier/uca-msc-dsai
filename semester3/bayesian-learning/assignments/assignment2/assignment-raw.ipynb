{
 "cells": [
  {
   "cell_type": "code",
   "execution_count": null,
   "metadata": {},
   "outputs": [],
   "source": []
  },
  {
   "cell_type": "markdown",
   "metadata": {},
   "source": [
    "# Assignments 2\n",
    "\n",
    "\n",
    "**Exercise 1**. Consider the model:\n",
    "\n",
    "$$p(x|\\theta)\\propto \\frac{1}{\\sqrt{2\\pi}}\\exp(-\\frac{(x_1-\\theta)^2+(x_2-\\theta)^2}{2}).$$\n",
    "\n",
    "Find a Laplace approximation for this model, as seen for the Binomal model, and plot the resulting Gaussian approximation. Can you related this model to the posterior of the mean of a Gaussian as seen in class (Lesson 3)?"
   ]
  },
  {
   "cell_type": "code",
   "execution_count": null,
   "metadata": {},
   "outputs": [],
   "source": []
  },
  {
   "cell_type": "markdown",
   "metadata": {},
   "source": [
    "**Exercise 2**. Write down a model to evaluate the claim: *Animal diversity is related to latitude, but only after controlling for plant diversity*. You just need to write down the model definition."
   ]
  },
  {
   "cell_type": "code",
   "execution_count": null,
   "metadata": {},
   "outputs": [],
   "source": []
  },
  {
   "cell_type": "markdown",
   "metadata": {},
   "source": [
    "**Exercise 3.** The attached data is about observations of urban foxes in human habitat. The data has 5 columns:\n",
    "\n",
    "- *group*: Number of social group the fox belongs to\n",
    "- *avgfood*: The avg amount of food available in the territory\n",
    "- *groupsize*: The number of foxes in the social group\n",
    "- *area*: Size of the territory\n",
    "- *weight*: Body weight of the fox\n",
    "\n",
    "Fit a regression for *weight* as a linear function of *area*, and a regression for *weight* as a linear function of *groupsize*. What can you say about these relationships? Run a multivariate model with both variables, what can you conclude about this analysis?"
   ]
  },
  {
   "cell_type": "code",
   "execution_count": null,
   "metadata": {},
   "outputs": [],
   "source": []
  },
  {
   "cell_type": "markdown",
   "metadata": {},
   "source": [
    "**Exercise 4.** Consider the diabetes dataset"
   ]
  },
  {
   "cell_type": "code",
   "execution_count": null,
   "metadata": {},
   "outputs": [],
   "source": [
    "from sklearn import datasets \n",
    "import numpy as np\n",
    "import matplotlib.pyplot as plt\n",
    "\n",
    "dataset = datasets.load_diabetes(return_X_y=False)\n",
    "print(dataset.DESCR)"
   ]
  },
  {
   "cell_type": "code",
   "execution_count": null,
   "metadata": {},
   "outputs": [],
   "source": [
    "# Define the feature matrix\n",
    "data = dataset.data\n",
    "# Define the target\n",
    "target = dataset.target"
   ]
  },
  {
   "cell_type": "markdown",
   "metadata": {},
   "source": [
    "Investigate the relationship between age (data[:,0]) and Average blood pressure (data[:,3]) with a linear and quadratic model. \n",
    "\n",
    "- Which model do you think is better? \n",
    "- Predict a 95% confidence interval for the average blood pressure on an individual with mean age (0). \n",
    "\n"
   ]
  },
  {
   "cell_type": "code",
   "execution_count": null,
   "metadata": {},
   "outputs": [],
   "source": []
  }
 ],
 "metadata": {
  "kernelspec": {
   "display_name": "Python 3",
   "language": "python",
   "name": "python3"
  },
  "language_info": {
   "codemirror_mode": {
    "name": "ipython",
    "version": 3
   },
   "file_extension": ".py",
   "mimetype": "text/x-python",
   "name": "python",
   "nbconvert_exporter": "python",
   "pygments_lexer": "ipython3",
   "version": "3.6.13"
  }
 },
 "nbformat": 4,
 "nbformat_minor": 2
}

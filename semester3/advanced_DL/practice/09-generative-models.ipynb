{
 "cells": [
  {
   "cell_type": "code",
   "execution_count": 14,
   "metadata": {},
   "outputs": [],
   "source": [
    "import torch\n",
    "import torch.nn as nn\n",
    "from torchvision import datasets, transforms, models\n",
    "from torch.utils.data import DataLoader"
   ]
  },
  {
   "cell_type": "code",
   "execution_count": 37,
   "metadata": {},
   "outputs": [],
   "source": [
    "train_ds = datasets.MNIST(\n",
    "  \"data\",\n",
    "  train=True,\n",
    "  download=True,\n",
    "  transform=transforms.Compose(\n",
    "    transforms=[\n",
    "      transforms.ToTensor(),\n",
    "      # transforms.Normalize([0.485, 0.456, 0.406], [0.229, 0.224, 0.225]),\n",
    "    ]\n",
    "  ),\n",
    ")\n",
    "test_ds = datasets.MNIST(\n",
    "  \"data\",\n",
    "  train=False,\n",
    "  download=True,\n",
    "  transform=transforms.Compose(\n",
    "    transforms=[\n",
    "      transforms.ToTensor(),\n",
    "      # transforms.Normalize([0.485, 0.456, 0.406], [0.229, 0.224, 0.225]),\n",
    "    ]\n",
    "  ),\n",
    ")\n",
    "\n",
    "bs = 16\n",
    "train_dl = DataLoader(dataset=train_ds, batch_size=bs)\n",
    "test_dl = DataLoader(dataset=test_ds, batch_size=2 * bs)"
   ]
  },
  {
   "cell_type": "code",
   "execution_count": 104,
   "metadata": {},
   "outputs": [
    {
     "ename": "TypeError",
     "evalue": "std() received an invalid combination of arguments - got (Tensor, axis=tuple, dtype=type), but expected one of:\n * (Tensor input, tuple of ints dim, bool unbiased, bool keepdim, *, Tensor out)\n * (Tensor input, tuple of ints dim, *, int correction, bool keepdim, Tensor out)\n * (Tensor input, bool unbiased)\n * (Tensor input, tuple of names dim, bool unbiased, bool keepdim, *, Tensor out)\n * (Tensor input, tuple of names dim, *, int correction, bool keepdim, Tensor out)\n",
     "output_type": "error",
     "traceback": [
      "\u001b[0;31m---------------------------------------------------------------------------\u001b[0m",
      "\u001b[0;31mTypeError\u001b[0m                                 Traceback (most recent call last)",
      "Cell \u001b[0;32mIn [104], line 3\u001b[0m\n\u001b[1;32m      1\u001b[0m torch\u001b[39m.\u001b[39mmean(train_dl\u001b[39m.\u001b[39mdataset\u001b[39m.\u001b[39mdata, dtype\u001b[39m=\u001b[39m\u001b[39mfloat\u001b[39m)\u001b[39m/\u001b[39m\u001b[39m255\u001b[39m\n\u001b[1;32m      2\u001b[0m \u001b[39m# compute standard deviation of train_dl.dataset.data\u001b[39;00m\n\u001b[0;32m----> 3\u001b[0m torch\u001b[39m.\u001b[39mstd(train_dl\u001b[39m.\u001b[39mdataset\u001b[39m.\u001b[39mdata, dtype\u001b[39m=\u001b[39m\u001b[39mfloat\u001b[39m, axis\u001b[39m=\u001b[39m(\u001b[39m0\u001b[39m, \u001b[39m1\u001b[39m, \u001b[39m2\u001b[39m))\n",
      "\u001b[0;31mTypeError\u001b[0m: std() received an invalid combination of arguments - got (Tensor, axis=tuple, dtype=type), but expected one of:\n * (Tensor input, tuple of ints dim, bool unbiased, bool keepdim, *, Tensor out)\n * (Tensor input, tuple of ints dim, *, int correction, bool keepdim, Tensor out)\n * (Tensor input, bool unbiased)\n * (Tensor input, tuple of names dim, bool unbiased, bool keepdim, *, Tensor out)\n * (Tensor input, tuple of names dim, *, int correction, bool keepdim, Tensor out)\n"
     ]
    }
   ],
   "source": [
    "torch.mean(train_dl.dataset.data, dtype=float)/255\n",
    "# compute standard deviation of train_dl.dataset.data\n",
    "torch.std(train_dl.dataset.data, dtype=float, axis=(0, 1, 2))"
   ]
  }
 ],
 "metadata": {
  "kernelspec": {
   "display_name": "Python 3",
   "language": "python",
   "name": "python3"
  },
  "language_info": {
   "codemirror_mode": {
    "name": "ipython",
    "version": 3
   },
   "file_extension": ".py",
   "mimetype": "text/x-python",
   "name": "python",
   "nbconvert_exporter": "python",
   "pygments_lexer": "ipython3",
   "version": "3.10.6"
  },
  "orig_nbformat": 4,
  "vscode": {
   "interpreter": {
    "hash": "8a94588eda9d64d9e9a351ab8144e55b1fabf5113b54e67dd26a8c27df0381b3"
   }
  }
 },
 "nbformat": 4,
 "nbformat_minor": 2
}

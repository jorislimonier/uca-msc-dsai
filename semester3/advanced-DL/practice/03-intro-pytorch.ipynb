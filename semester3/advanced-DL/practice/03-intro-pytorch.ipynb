{
  "cells": [
    {
      "cell_type": "code",
      "execution_count": 26,
      "metadata": {
        "id": "qJ1q23I4GP9r"
      },
      "outputs": [],
      "source": [
        "%matplotlib inline\n",
        "# !pip install numpy\n",
        "# !pip install torch\n",
        "# !pip install scikit-learn"
      ]
    },
    {
      "cell_type": "markdown",
      "metadata": {
        "id": "f4_1MtQsGP9v"
      },
      "source": [
        "\n",
        "# Introduction to Deep Learning in Pytorch\n"
      ]
    },
    {
      "cell_type": "markdown",
      "metadata": {
        "id": "w7N5PXdIGP9x"
      },
      "source": [
        "PyTorch provides the elegantly designed modules and classes [torch.nn](https://pytorch.org/docs/stable/nn.html) ,\n",
        "[torch.optim](https://pytorch.org/docs/stable/optim.html) ,\n",
        "[Dataset](https://pytorch.org/docs/stable/data.html?highlight=dataset#torch.utils.data.Dataset) ,\n",
        "and [DataLoader](https://pytorch.org/docs/stable/data.html?highlight=dataloader#torch.utils.data.DataLoader)\n",
        "to help you create and train neural networks.\n",
        "\n",
        "In order to fully utilize their power and customize\n",
        "them for your problem, you need to really understand exactly what they're\n",
        "doing. To develop this understanding, we will first train basic neural net\n",
        "on the digits data set without using any features from these models; we will\n",
        "initially only use the most basic PyTorch tensor functionality. Then, we will\n",
        "incrementally add one feature from ``torch.nn``, ``torch.optim``, ``Dataset``, or\n",
        "``DataLoader`` at a time, showing exactly what each piece does, and how it\n",
        "works to make the code either more concise, or more flexible.\n",
        "\n",
        "**This tutorial assumes you already have PyTorch installed, and are familiar\n",
        "with the basics of tensor operations.** (If you're familiar with Numpy array\n",
        "operations, you'll find the PyTorch tensor operations used here nearly identical)."
      ]
    },
    {
      "cell_type": "markdown",
      "metadata": {
        "id": "Khe39_71P6re"
      },
      "source": [
        "## Digits Dataset setup\n",
        "\n",
        "We will use the classic [digits](https://scikit-learn.org/stable/modules/generated/sklearn.datasets.load_digits.html) dataset,\n",
        "a simplified version of the [mnist](http://deeplearning.net/data/mnist/) dataset provided by scikit-learn. \n",
        "which consists of black-and-white images of hand-drawn digits (between 0 and 9).\n"
      ]
    },
    {
      "cell_type": "code",
      "execution_count": 27,
      "metadata": {
        "colab": {
          "base_uri": "https://localhost:8080/"
        },
        "id": "3c7ROCF9P6rf",
        "outputId": "64d3515c-3ff1-49cc-84d5-d9a181f3da3d"
      },
      "outputs": [
        {
          "name": "stdout",
          "output_type": "stream",
          "text": [
            "[[ 0.  0.  5. ...  0.  0.  0.]\n",
            " [ 0.  0.  0. ... 10.  0.  0.]\n",
            " [ 0.  0.  0. ... 16.  9.  0.]\n",
            " ...\n",
            " [ 0.  0.  1. ...  6.  0.  0.]\n",
            " [ 0.  0.  2. ... 12.  0.  0.]\n",
            " [ 0.  0. 10. ... 12.  1.  0.]] [0 1 2 ... 8 9 8]\n",
            "Number of samples: 1797, Number of features: 64\n",
            "Labels range 0 - 9, Number of classes: 10\n"
          ]
        }
      ],
      "source": [
        "from sklearn.datasets import load_digits\n",
        "import numpy as np\n",
        "\n",
        "x, y = load_digits(return_X_y=True)\n",
        "print(x, y)\n",
        "\n",
        "n_samples, n_features = x.shape\n",
        "n_classes = len(np.unique(y))\n",
        "\n",
        "print(f\"Number of samples: {n_samples}, Number of features: {n_features}\")\n",
        "print(f\"Labels range {y.min()} - {y.max()}, Number of classes: {n_classes}\")"
      ]
    },
    {
      "cell_type": "markdown",
      "metadata": {
        "id": "XYkMJ-X5P6rf"
      },
      "source": [
        "Each image is 8 x 8, and is being stored as a flattened row of length 64. Let's take a look at one; we need to reshape it to 2d\n",
        "first.\n",
        "\n",
        "\n",
        "\n",
        "\n"
      ]
    },
    {
      "cell_type": "code",
      "execution_count": 28,
      "metadata": {
        "colab": {
          "base_uri": "https://localhost:8080/",
          "height": 283
        },
        "id": "JGk24RTlP6rg",
        "outputId": "86bbdb11-5f3c-423e-c24c-d9f6992687c9"
      },
      "outputs": [
        {
          "name": "stdout",
          "output_type": "stream",
          "text": [
            "(1797, 64)\n"
          ]
        },
        {
          "data": {
            "image/png": "[encoded data removed]",
            "text/plain": [
              "<Figure size 640x480 with 1 Axes>"
            ]
          },
          "metadata": {},
          "output_type": "display_data"
        }
      ],
      "source": [
        "from matplotlib import pyplot as plt\n",
        "import numpy as np\n",
        "\n",
        "plt.imshow(x[3].reshape((8, 8)), cmap=\"gray\")\n",
        "print(x.shape)\n"
      ]
    },
    {
      "cell_type": "markdown",
      "metadata": {
        "id": "hhz6-e30ZmmB"
      },
      "source": [
        "The input data is stored with values in $[0, 16]$. We need to normalize it in $[0, 1]$."
      ]
    },
    {
      "cell_type": "code",
      "execution_count": 29,
      "metadata": {
        "colab": {
          "base_uri": "https://localhost:8080/"
        },
        "id": "SVtQymQLZmJY",
        "outputId": "3a7c672f-f3f4-46c6-8af6-30551a17d4f2"
      },
      "outputs": [
        {
          "name": "stdout",
          "output_type": "stream",
          "text": [
            "[[0.     0.     0.3125 ... 0.     0.     0.    ]\n",
            " [0.     0.     0.     ... 0.625  0.     0.    ]\n",
            " [0.     0.     0.     ... 1.     0.5625 0.    ]\n",
            " ...\n",
            " [0.     0.     0.0625 ... 0.375  0.     0.    ]\n",
            " [0.     0.     0.125  ... 0.75   0.     0.    ]\n",
            " [0.     0.     0.625  ... 0.75   0.0625 0.    ]]\n"
          ]
        }
      ],
      "source": [
        "def normalize(data):\n",
        "  data = data - data.min()\n",
        "  data = data / data.max()\n",
        "  return data\n",
        "\n",
        "\n",
        "x = normalize(x)\n",
        "print(x)\n"
      ]
    },
    {
      "cell_type": "markdown",
      "metadata": {
        "id": "kpHEcVCkP6rf"
      },
      "source": [
        "We have to split the dataset into training and validation. To do so we can use one of the many functions provided by scikit-learn. For example we can call ``sklearn.model_selection.StratifiedKFold()`` to have a cross validation generator. \n",
        "\n",
        "For the sake of simplicity, however, in this tutorial we will use ``sklearn.model_selection.train_test_split`` which performs a simple holdout cross-validation to create a single train test split (with 90% - 10% of data in this case)"
      ]
    },
    {
      "cell_type": "code",
      "execution_count": 30,
      "metadata": {
        "id": "jLZUs8MPP6rf"
      },
      "outputs": [],
      "source": [
        "from sklearn.model_selection import train_test_split\n",
        "X_train, X_val, y_train, y_val = train_test_split(x, y, test_size=0.1)"
      ]
    },
    {
      "cell_type": "markdown",
      "metadata": {
        "id": "6a4IWEyHP6rg"
      },
      "source": [
        "PyTorch uses ``torch.tensor``, rather than numpy arrays, so we need to\n",
        "convert our data.\n",
        "\n"
      ]
    },
    {
      "cell_type": "code",
      "execution_count": 31,
      "metadata": {
        "id": "DFue-AfvP6rg"
      },
      "outputs": [],
      "source": [
        "import torch\n",
        "X_train = torch.as_tensor(X_train, dtype=torch.float32)\n",
        "X_val = torch.as_tensor(X_val, dtype=torch.float32)\n",
        "y_train = torch.as_tensor(y_train, dtype=torch.long)\n",
        "y_val = torch.as_tensor(y_val, dtype=torch.long)"
      ]
    },
    {
      "cell_type": "markdown",
      "metadata": {
        "id": "qK3O1YQTGP92"
      },
      "source": [
        "## Neural networks from scratch (no torch.nn)\n",
        "\n",
        "Let's first create a model using nothing but PyTorch tensor operations. We assume you're already familiar with the basics of neural networks. \n",
        "\n",
        "PyTorch provides methods to create random or zero-filled tensors, which we will\n",
        "use to create our weights and bias for a simple linear model. These are just regular\n",
        "tensors, with one very special addition: we tell PyTorch that they require a\n",
        "**gradient**. This causes PyTorch to record all of the operations done on the tensor,\n",
        "so that it can calculate the gradient during back-propagation **automatically**!\n",
        "\n"
      ]
    },
    {
      "cell_type": "markdown",
      "metadata": {
        "id": "DnOoA2mycudn"
      },
      "source": [
        "### The Model\n",
        "\n",
        "We will use a very simple logistic regression with 10 output nodes (as many as the number of classes).\n",
        "\n",
        "For the weights, we set ``requires_grad`` after the initialization, since we\n",
        "don't want that step included in the gradient. \n",
        "\n",
        "#### To Note: \n",
        "1. We are initializing the weights here with the [Xavier initialisation](http://proceedings.mlr.press/v9/glorot10a/glorot10a.pdf), by multiplying with 1/sqrt(n_features)).\n",
        "2. The trailing ``_`` in PyTorch signifies that the operation is performed in-place (``requires_grad_()``)\n",
        "\n",
        "\n",
        "\n",
        "\n"
      ]
    },
    {
      "cell_type": "code",
      "execution_count": 32,
      "metadata": {
        "colab": {
          "base_uri": "https://localhost:8080/"
        },
        "id": "nso__EchGP92",
        "outputId": "c36bdf4f-28c8-4d66-b3cd-48a42d2fa9f7"
      },
      "outputs": [],
      "source": [
        "from typing import Tuple\n",
        "\n",
        "\n",
        "def initialize_weights_and_bias() -> Tuple[torch.FloatTensor, torch.FloatTensor]:\n",
        "  weights = torch.randn(n_features, n_classes) / np.sqrt(n_features)\n",
        "  bias = torch.randn(n_classes) / np.sqrt(n_features)\n",
        "  weights.requires_grad_()\n",
        "  bias.requires_grad_()\n",
        "\n",
        "  return weights, bias\n",
        "\n",
        "\n",
        "weights, bias = initialize_weights_and_bias()\n"
      ]
    },
    {
      "cell_type": "code",
      "execution_count": 33,
      "metadata": {},
      "outputs": [
        {
          "data": {
            "text/plain": [
              "torch.Size([64, 10])"
            ]
          },
          "execution_count": 33,
          "metadata": {},
          "output_type": "execute_result"
        }
      ],
      "source": [
        "weights.shape"
      ]
    },
    {
      "cell_type": "markdown",
      "metadata": {
        "id": "-568H7UXGP93"
      },
      "source": [
        "Thanks to PyTorch's ability to calculate gradients automatically, we can\n",
        "use any standard Python function (or callable object) as a model!\n",
        "\n",
        "Let's just write a plain matrix multiplication and broadcasted addition\n",
        "to create a simple linear model. We also need an activation function, so\n",
        "we'll write `log_softmax` and use it.\n",
        "\n",
        "Although PyTorch provides lots of pre-written loss functions, activation functions, and so forth, you can easily write your own using plain python. \n",
        "PyTorch will even create fast GPU or vectorized CPU code for your function\n",
        "**automatically**.\n"
      ]
    },
    {
      "cell_type": "code",
      "execution_count": 34,
      "metadata": {
        "id": "zUvDrG0HGP93"
      },
      "outputs": [],
      "source": [
        "def log_softmax(x: torch.FloatTensor):\n",
        "  return x - x.exp().sum(-1).log().unsqueeze(-1)  # => log(exp(x)/sum(exp(X_i)))\n",
        "\n",
        "\n",
        "def model(xb):\n",
        "  return log_softmax(xb @ weights + bias)  # a @ b -> torch.matmul(a, b)\n"
      ]
    },
    {
      "cell_type": "markdown",
      "metadata": {
        "id": "XpSdCzfMGP93"
      },
      "source": [
        "In the above, the ``@`` stands for the *matrix multiplication* operation. We will call\n",
        "our function on one batch of data (in this case, 64 images).  This is\n",
        "one *forward pass*.  \n",
        "\n",
        "Note: our predictions won't be any better than\n",
        "random at this stage, since we start with random weights and we have not done any training step.\n",
        "\n"
      ]
    },
    {
      "cell_type": "code",
      "execution_count": 35,
      "metadata": {
        "colab": {
          "base_uri": "https://localhost:8080/"
        },
        "id": "dY17VDFLGP94",
        "outputId": "60794f84-dc0e-45b9-867a-37a20bf0408f"
      },
      "outputs": [
        {
          "name": "stdout",
          "output_type": "stream",
          "text": [
            "tensor([-1.9821, -1.9767, -2.3197, -2.6570, -2.3440, -2.5760, -2.4005, -2.4403,\n",
            "        -2.2276, -2.3265], grad_fn=<SelectBackward0>)\n",
            "torch.Size([64, 10])\n"
          ]
        }
      ],
      "source": [
        "bs = 64               # batch size\n",
        "xb = X_train[0:bs]    # a mini-batch from x\n",
        "preds = model(xb)     # predictions\n",
        "print(preds[0])\n",
        "print(preds.shape)\n",
        "# print(preds)"
      ]
    },
    {
      "cell_type": "markdown",
      "metadata": {
        "id": "mmJJ7kPoGP94"
      },
      "source": [
        "As you see, the ``preds`` tensor contains not only the tensor values, but also a\n",
        "gradient function. We'll use this later to do the backpropagation.\n"
      ]
    },
    {
      "cell_type": "markdown",
      "metadata": {
        "id": "kZuGvyy7c-7K"
      },
      "source": [
        "### Loss and Metric\n",
        "\n",
        "Let's implement negative log-likelihood to use as the loss function\n",
        "(again, we can just use standard Python). Note that the way in which we have implemented it is just a clever way of doing the selection of the prediction corresponding to the correct label as in: $\\sum_i y_i * log(f_i)$. You can find further information on how to compute the cross entropy loss in different scenarios in this [tutorial](https://towardsdatascience.com/cross-entropy-negative-log-likelihood-and-all-that-jazz-47a95bd2e81).\n",
        "\n",
        "\n",
        "If we check our loss with our random model now, we can see if we improve\n",
        "after a backprop pass later.\n",
        "\n"
      ]
    },
    {
      "cell_type": "code",
      "execution_count": 36,
      "metadata": {
        "colab": {
          "base_uri": "https://localhost:8080/"
        },
        "id": "BVhzufT0GP94",
        "outputId": "080338d5-6f06-4308-da60-9d9b02045734"
      },
      "outputs": [
        {
          "name": "stdout",
          "output_type": "stream",
          "text": [
            "Initial Loss: 2.2936666011810303\n"
          ]
        }
      ],
      "source": [
        "def nll(output, target):\n",
        "    \"\"\"Negative log-likelihood.\"\"\"\n",
        "    return -output[range(target.shape[0]), target].mean()\n",
        "\n",
        "loss_func = nll\n",
        "l = loss_func(model(X_train), y_train)\n",
        "print(f\"Initial Loss: {l}\")"
      ]
    },
    {
      "cell_type": "markdown",
      "metadata": {
        "id": "mfXzwWbCGP95"
      },
      "source": [
        "Let's also implement a function to calculate the accuracy of our model.\n",
        "For each prediction, if the index with the largest value matches the\n",
        "target value, then the prediction was correct.\n",
        "\n",
        "Let's check the accuracy of our random model, so we can see if our\n",
        "accuracy improves as our loss improves.\n"
      ]
    },
    {
      "cell_type": "code",
      "execution_count": 37,
      "metadata": {
        "colab": {
          "base_uri": "https://localhost:8080/"
        },
        "id": "o1AVMzXCGP95",
        "outputId": "fcddfc9e-4142-4e6e-89e3-7456ae51ee26"
      },
      "outputs": [
        {
          "name": "stdout",
          "output_type": "stream",
          "text": [
            "Initial Accuracy: 17.2542 %\n"
          ]
        }
      ],
      "source": [
        "def accuracy(out, yb):\n",
        "    preds = torch.argmax(out, dim=1)\n",
        "    return (preds == yb).float().mean() * 100\n",
        "\n",
        "acc = accuracy(model(X_train), y_train)\n",
        "print(f\"Initial Accuracy: {acc:.4f} %\")"
      ]
    },
    {
      "cell_type": "markdown",
      "metadata": {
        "id": "eOkrEDv2GP95"
      },
      "source": [
        "### The training loop\n",
        "\n",
        "We can now run a training loop.  For each iteration, we will:\n",
        "\n",
        "1. select a mini-batch of data (of size ``bs``)\n",
        "2. use the model to make predictions\n",
        "3. calculate the loss\n",
        "4. ``loss.backward()`` computes the gradients of the model, in this case, ``weights`` and ``bias``.\n",
        "5. update the parameters to optimize the model\n",
        "\n",
        "Note:\n",
        "\n",
        "- We do the latter within the ``torch.no_grad()`` context manager, because we do not want these\n",
        "actions to be recorded for our next calculation of the gradient.  You can read\n",
        "more about how PyTorch's Autograd records operations\n",
        "[here](https://pytorch.org/docs/stable/notes/autograd.html).\n",
        "- We then set the gradients to zero, so that we are ready for the next loop.\n",
        "Otherwise, our gradients would record a running tally of all the operations\n",
        "that had happened (i.e. ``loss.backward()`` *adds* the gradients to whatever is\n",
        "already stored, rather than replacing them).\n",
        "\n"
      ]
    },
    {
      "cell_type": "code",
      "execution_count": 38,
      "metadata": {},
      "outputs": [],
      "source": [
        "weights_initial = weights"
      ]
    },
    {
      "cell_type": "code",
      "execution_count": 39,
      "metadata": {
        "colab": {
          "base_uri": "https://localhost:8080/"
        },
        "id": "4gRahb4YGP96",
        "outputId": "f1a8068a-cd89-4ea0-e6c8-dda4e07932db"
      },
      "outputs": [
        {
          "data": {
            "application/vnd.plotly.v1+json": {
              "config": {
                "plotlyServerURL": "https://plot.ly"
              },
              "data": [
                {
                  "hovertemplate": "variable=loss<br>index=%{x}<br>value=%{y}<extra></extra>",
                  "legendgroup": "loss",
                  "line": {
                    "color": "#636efa",
                    "dash": "solid"
                  },
                  "marker": {
                    "symbol": "circle"
                  },
                  "mode": "lines",
                  "name": "loss",
                  "orientation": "v",
                  "showlegend": true,
                  "type": "scatter",
                  "x": [
                    0,
                    1,
                    2,
                    3,
                    4,
                    5,
                    6,
                    7,
                    8,
                    9,
                    10,
                    11,
                    12,
                    13,
                    14,
                    15,
                    16,
                    17,
                    18,
                    19
                  ],
                  "xaxis": "x",
                  "y": [
                    0.9976825714111328,
                    0.6325810551643372,
                    0.4849233627319336,
                    0.40526509284973145,
                    0.354847252368927,
                    0.3196455240249634,
                    0.29341480135917664,
                    0.2729529142379761,
                    0.2564423680305481,
                    0.24277004599571228,
                    0.23121336102485657,
                    0.2212809920310974,
                    0.2126263678073883,
                    0.204997256398201,
                    0.19820545613765717,
                    0.1921074390411377,
                    0.18659158051013947,
                    0.18156976997852325,
                    0.17697130143642426,
                    0.17273885011672974
                  ],
                  "yaxis": "y"
                }
              ],
              "layout": {
                "legend": {
                  "title": {
                    "text": "variable"
                  },
                  "tracegroupgap": 0
                },
                "margin": {
                  "t": 60
                },
                "template": {
                  "data": {
                    "bar": [
                      {
                        "error_x": {
                          "color": "#2a3f5f"
                        },
                        "error_y": {
                          "color": "#2a3f5f"
                        },
                        "marker": {
                          "line": {
                            "color": "#E5ECF6",
                            "width": 0.5
                          },
                          "pattern": {
                            "fillmode": "overlay",
                            "size": 10,
                            "solidity": 0.2
                          }
                        },
                        "type": "bar"
                      }
                    ],
                    "barpolar": [
                      {
                        "marker": {
                          "line": {
                            "color": "#E5ECF6",
                            "width": 0.5
                          },
                          "pattern": {
                            "fillmode": "overlay",
                            "size": 10,
                            "solidity": 0.2
                          }
                        },
                        "type": "barpolar"
                      }
                    ],
                    "carpet": [
                      {
                        "aaxis": {
                          "endlinecolor": "#2a3f5f",
                          "gridcolor": "white",
                          "linecolor": "white",
                          "minorgridcolor": "white",
                          "startlinecolor": "#2a3f5f"
                        },
                        "baxis": {
                          "endlinecolor": "#2a3f5f",
                          "gridcolor": "white",
                          "linecolor": "white",
                          "minorgridcolor": "white",
                          "startlinecolor": "#2a3f5f"
                        },
                        "type": "carpet"
                      }
                    ],
                    "choropleth": [
                      {
                        "colorbar": {
                          "outlinewidth": 0,
                          "ticks": ""
                        },
                        "type": "choropleth"
                      }
                    ],
                    "contour": [
                      {
                        "colorbar": {
                          "outlinewidth": 0,
                          "ticks": ""
                        },
                        "colorscale": [
                          [
                            0,
                            "#0d0887"
                          ],
                          [
                            0.1111111111111111,
                            "#46039f"
                          ],
                          [
                            0.2222222222222222,
                            "#7201a8"
                          ],
                          [
                            0.3333333333333333,
                            "#9c179e"
                          ],
                          [
                            0.4444444444444444,
                            "#bd3786"
                          ],
                          [
                            0.5555555555555556,
                            "#d8576b"
                          ],
                          [
                            0.6666666666666666,
                            "#ed7953"
                          ],
                          [
                            0.7777777777777778,
                            "#fb9f3a"
                          ],
                          [
                            0.8888888888888888,
                            "#fdca26"
                          ],
                          [
                            1,
                            "#f0f921"
                          ]
                        ],
                        "type": "contour"
                      }
                    ],
                    "contourcarpet": [
                      {
                        "colorbar": {
                          "outlinewidth": 0,
                          "ticks": ""
                        },
                        "type": "contourcarpet"
                      }
                    ],
                    "heatmap": [
                      {
                        "colorbar": {
                          "outlinewidth": 0,
                          "ticks": ""
                        },
                        "colorscale": [
                          [
                            0,
                            "#0d0887"
                          ],
                          [
                            0.1111111111111111,
                            "#46039f"
                          ],
                          [
                            0.2222222222222222,
                            "#7201a8"
                          ],
                          [
                            0.3333333333333333,
                            "#9c179e"
                          ],
                          [
                            0.4444444444444444,
                            "#bd3786"
                          ],
                          [
                            0.5555555555555556,
                            "#d8576b"
                          ],
                          [
                            0.6666666666666666,
                            "#ed7953"
                          ],
                          [
                            0.7777777777777778,
                            "#fb9f3a"
                          ],
                          [
                            0.8888888888888888,
                            "#fdca26"
                          ],
                          [
                            1,
                            "#f0f921"
                          ]
                        ],
                        "type": "heatmap"
                      }
                    ],
                    "heatmapgl": [
                      {
                        "colorbar": {
                          "outlinewidth": 0,
                          "ticks": ""
                        },
                        "colorscale": [
                          [
                            0,
                            "#0d0887"
                          ],
                          [
                            0.1111111111111111,
                            "#46039f"
                          ],
                          [
                            0.2222222222222222,
                            "#7201a8"
                          ],
                          [
                            0.3333333333333333,
                            "#9c179e"
                          ],
                          [
                            0.4444444444444444,
                            "#bd3786"
                          ],
                          [
                            0.5555555555555556,
                            "#d8576b"
                          ],
                          [
                            0.6666666666666666,
                            "#ed7953"
                          ],
                          [
                            0.7777777777777778,
                            "#fb9f3a"
                          ],
                          [
                            0.8888888888888888,
                            "#fdca26"
                          ],
                          [
                            1,
                            "#f0f921"
                          ]
                        ],
                        "type": "heatmapgl"
                      }
                    ],
                    "histogram": [
                      {
                        "marker": {
                          "pattern": {
                            "fillmode": "overlay",
                            "size": 10,
                            "solidity": 0.2
                          }
                        },
                        "type": "histogram"
                      }
                    ],
                    "histogram2d": [
                      {
                        "colorbar": {
                          "outlinewidth": 0,
                          "ticks": ""
                        },
                        "colorscale": [
                          [
                            0,
                            "#0d0887"
                          ],
                          [
                            0.1111111111111111,
                            "#46039f"
                          ],
                          [
                            0.2222222222222222,
                            "#7201a8"
                          ],
                          [
                            0.3333333333333333,
                            "#9c179e"
                          ],
                          [
                            0.4444444444444444,
                            "#bd3786"
                          ],
                          [
                            0.5555555555555556,
                            "#d8576b"
                          ],
                          [
                            0.6666666666666666,
                            "#ed7953"
                          ],
                          [
                            0.7777777777777778,
                            "#fb9f3a"
                          ],
                          [
                            0.8888888888888888,
                            "#fdca26"
                          ],
                          [
                            1,
                            "#f0f921"
                          ]
                        ],
                        "type": "histogram2d"
                      }
                    ],
                    "histogram2dcontour": [
                      {
                        "colorbar": {
                          "outlinewidth": 0,
                          "ticks": ""
                        },
                        "colorscale": [
                          [
                            0,
                            "#0d0887"
                          ],
                          [
                            0.1111111111111111,
                            "#46039f"
                          ],
                          [
                            0.2222222222222222,
                            "#7201a8"
                          ],
                          [
                            0.3333333333333333,
                            "#9c179e"
                          ],
                          [
                            0.4444444444444444,
                            "#bd3786"
                          ],
                          [
                            0.5555555555555556,
                            "#d8576b"
                          ],
                          [
                            0.6666666666666666,
                            "#ed7953"
                          ],
                          [
                            0.7777777777777778,
                            "#fb9f3a"
                          ],
                          [
                            0.8888888888888888,
                            "#fdca26"
                          ],
                          [
                            1,
                            "#f0f921"
                          ]
                        ],
                        "type": "histogram2dcontour"
                      }
                    ],
                    "mesh3d": [
                      {
                        "colorbar": {
                          "outlinewidth": 0,
                          "ticks": ""
                        },
                        "type": "mesh3d"
                      }
                    ],
                    "parcoords": [
                      {
                        "line": {
                          "colorbar": {
                            "outlinewidth": 0,
                            "ticks": ""
                          }
                        },
                        "type": "parcoords"
                      }
                    ],
                    "pie": [
                      {
                        "automargin": true,
                        "type": "pie"
                      }
                    ],
                    "scatter": [
                      {
                        "fillpattern": {
                          "fillmode": "overlay",
                          "size": 10,
                          "solidity": 0.2
                        },
                        "type": "scatter"
                      }
                    ],
                    "scatter3d": [
                      {
                        "line": {
                          "colorbar": {
                            "outlinewidth": 0,
                            "ticks": ""
                          }
                        },
                        "marker": {
                          "colorbar": {
                            "outlinewidth": 0,
                            "ticks": ""
                          }
                        },
                        "type": "scatter3d"
                      }
                    ],
                    "scattercarpet": [
                      {
                        "marker": {
                          "colorbar": {
                            "outlinewidth": 0,
                            "ticks": ""
                          }
                        },
                        "type": "scattercarpet"
                      }
                    ],
                    "scattergeo": [
                      {
                        "marker": {
                          "colorbar": {
                            "outlinewidth": 0,
                            "ticks": ""
                          }
                        },
                        "type": "scattergeo"
                      }
                    ],
                    "scattergl": [
                      {
                        "marker": {
                          "colorbar": {
                            "outlinewidth": 0,
                            "ticks": ""
                          }
                        },
                        "type": "scattergl"
                      }
                    ],
                    "scattermapbox": [
                      {
                        "marker": {
                          "colorbar": {
                            "outlinewidth": 0,
                            "ticks": ""
                          }
                        },
                        "type": "scattermapbox"
                      }
                    ],
                    "scatterpolar": [
                      {
                        "marker": {
                          "colorbar": {
                            "outlinewidth": 0,
                            "ticks": ""
                          }
                        },
                        "type": "scatterpolar"
                      }
                    ],
                    "scatterpolargl": [
                      {
                        "marker": {
                          "colorbar": {
                            "outlinewidth": 0,
                            "ticks": ""
                          }
                        },
                        "type": "scatterpolargl"
                      }
                    ],
                    "scatterternary": [
                      {
                        "marker": {
                          "colorbar": {
                            "outlinewidth": 0,
                            "ticks": ""
                          }
                        },
                        "type": "scatterternary"
                      }
                    ],
                    "surface": [
                      {
                        "colorbar": {
                          "outlinewidth": 0,
                          "ticks": ""
                        },
                        "colorscale": [
                          [
                            0,
                            "#0d0887"
                          ],
                          [
                            0.1111111111111111,
                            "#46039f"
                          ],
                          [
                            0.2222222222222222,
                            "#7201a8"
                          ],
                          [
                            0.3333333333333333,
                            "#9c179e"
                          ],
                          [
                            0.4444444444444444,
                            "#bd3786"
                          ],
                          [
                            0.5555555555555556,
                            "#d8576b"
                          ],
                          [
                            0.6666666666666666,
                            "#ed7953"
                          ],
                          [
                            0.7777777777777778,
                            "#fb9f3a"
                          ],
                          [
                            0.8888888888888888,
                            "#fdca26"
                          ],
                          [
                            1,
                            "#f0f921"
                          ]
                        ],
                        "type": "surface"
                      }
                    ],
                    "table": [
                      {
                        "cells": {
                          "fill": {
                            "color": "#EBF0F8"
                          },
                          "line": {
                            "color": "white"
                          }
                        },
                        "header": {
                          "fill": {
                            "color": "#C8D4E3"
                          },
                          "line": {
                            "color": "white"
                          }
                        },
                        "type": "table"
                      }
                    ]
                  },
                  "layout": {
                    "annotationdefaults": {
                      "arrowcolor": "#2a3f5f",
                      "arrowhead": 0,
                      "arrowwidth": 1
                    },
                    "autotypenumbers": "strict",
                    "coloraxis": {
                      "colorbar": {
                        "outlinewidth": 0,
                        "ticks": ""
                      }
                    },
                    "colorscale": {
                      "diverging": [
                        [
                          0,
                          "#8e0152"
                        ],
                        [
                          0.1,
                          "#c51b7d"
                        ],
                        [
                          0.2,
                          "#de77ae"
                        ],
                        [
                          0.3,
                          "#f1b6da"
                        ],
                        [
                          0.4,
                          "#fde0ef"
                        ],
                        [
                          0.5,
                          "#f7f7f7"
                        ],
                        [
                          0.6,
                          "#e6f5d0"
                        ],
                        [
                          0.7,
                          "#b8e186"
                        ],
                        [
                          0.8,
                          "#7fbc41"
                        ],
                        [
                          0.9,
                          "#4d9221"
                        ],
                        [
                          1,
                          "#276419"
                        ]
                      ],
                      "sequential": [
                        [
                          0,
                          "#0d0887"
                        ],
                        [
                          0.1111111111111111,
                          "#46039f"
                        ],
                        [
                          0.2222222222222222,
                          "#7201a8"
                        ],
                        [
                          0.3333333333333333,
                          "#9c179e"
                        ],
                        [
                          0.4444444444444444,
                          "#bd3786"
                        ],
                        [
                          0.5555555555555556,
                          "#d8576b"
                        ],
                        [
                          0.6666666666666666,
                          "#ed7953"
                        ],
                        [
                          0.7777777777777778,
                          "#fb9f3a"
                        ],
                        [
                          0.8888888888888888,
                          "#fdca26"
                        ],
                        [
                          1,
                          "#f0f921"
                        ]
                      ],
                      "sequentialminus": [
                        [
                          0,
                          "#0d0887"
                        ],
                        [
                          0.1111111111111111,
                          "#46039f"
                        ],
                        [
                          0.2222222222222222,
                          "#7201a8"
                        ],
                        [
                          0.3333333333333333,
                          "#9c179e"
                        ],
                        [
                          0.4444444444444444,
                          "#bd3786"
                        ],
                        [
                          0.5555555555555556,
                          "#d8576b"
                        ],
                        [
                          0.6666666666666666,
                          "#ed7953"
                        ],
                        [
                          0.7777777777777778,
                          "#fb9f3a"
                        ],
                        [
                          0.8888888888888888,
                          "#fdca26"
                        ],
                        [
                          1,
                          "#f0f921"
                        ]
                      ]
                    },
                    "colorway": [
                      "#636efa",
                      "#EF553B",
                      "#00cc96",
                      "#ab63fa",
                      "#FFA15A",
                      "#19d3f3",
                      "#FF6692",
                      "#B6E880",
                      "#FF97FF",
                      "#FECB52"
                    ],
                    "font": {
                      "color": "#2a3f5f"
                    },
                    "geo": {
                      "bgcolor": "white",
                      "lakecolor": "white",
                      "landcolor": "#E5ECF6",
                      "showlakes": true,
                      "showland": true,
                      "subunitcolor": "white"
                    },
                    "hoverlabel": {
                      "align": "left"
                    },
                    "hovermode": "closest",
                    "mapbox": {
                      "style": "light"
                    },
                    "paper_bgcolor": "white",
                    "plot_bgcolor": "#E5ECF6",
                    "polar": {
                      "angularaxis": {
                        "gridcolor": "white",
                        "linecolor": "white",
                        "ticks": ""
                      },
                      "bgcolor": "#E5ECF6",
                      "radialaxis": {
                        "gridcolor": "white",
                        "linecolor": "white",
                        "ticks": ""
                      }
                    },
                    "scene": {
                      "xaxis": {
                        "backgroundcolor": "#E5ECF6",
                        "gridcolor": "white",
                        "gridwidth": 2,
                        "linecolor": "white",
                        "showbackground": true,
                        "ticks": "",
                        "zerolinecolor": "white"
                      },
                      "yaxis": {
                        "backgroundcolor": "#E5ECF6",
                        "gridcolor": "white",
                        "gridwidth": 2,
                        "linecolor": "white",
                        "showbackground": true,
                        "ticks": "",
                        "zerolinecolor": "white"
                      },
                      "zaxis": {
                        "backgroundcolor": "#E5ECF6",
                        "gridcolor": "white",
                        "gridwidth": 2,
                        "linecolor": "white",
                        "showbackground": true,
                        "ticks": "",
                        "zerolinecolor": "white"
                      }
                    },
                    "shapedefaults": {
                      "line": {
                        "color": "#2a3f5f"
                      }
                    },
                    "ternary": {
                      "aaxis": {
                        "gridcolor": "white",
                        "linecolor": "white",
                        "ticks": ""
                      },
                      "baxis": {
                        "gridcolor": "white",
                        "linecolor": "white",
                        "ticks": ""
                      },
                      "bgcolor": "#E5ECF6",
                      "caxis": {
                        "gridcolor": "white",
                        "linecolor": "white",
                        "ticks": ""
                      }
                    },
                    "title": {
                      "x": 0.05
                    },
                    "xaxis": {
                      "automargin": true,
                      "gridcolor": "white",
                      "linecolor": "white",
                      "ticks": "",
                      "title": {
                        "standoff": 15
                      },
                      "zerolinecolor": "white",
                      "zerolinewidth": 2
                    },
                    "yaxis": {
                      "automargin": true,
                      "gridcolor": "white",
                      "linecolor": "white",
                      "ticks": "",
                      "title": {
                        "standoff": 15
                      },
                      "zerolinecolor": "white",
                      "zerolinewidth": 2
                    }
                  }
                },
                "xaxis": {
                  "anchor": "y",
                  "domain": [
                    0,
                    1
                  ],
                  "title": {
                    "text": "index"
                  }
                },
                "yaxis": {
                  "anchor": "x",
                  "domain": [
                    0,
                    1
                  ],
                  "title": {
                    "text": "value"
                  }
                }
              }
            }
          },
          "metadata": {},
          "output_type": "display_data"
        }
      ],
      "source": [
        "import pandas as pd\n",
        "import plotly.express as px\n",
        "\n",
        "lr = 0.5  # learning rate\n",
        "epochs = 20  # how many epochs to train for\n",
        "train_samples = X_train.shape[0]\n",
        "weights, bias = initialize_weights_and_bias()\n",
        "\n",
        "loss_res_store = []\n",
        "\n",
        "for epoch in range(epochs):\n",
        "  for i in range((train_samples - 1) // bs + 1):\n",
        "\n",
        "    # Get start and end indices\n",
        "    i_start = bs * i\n",
        "    i_end = bs * (i + 1)\n",
        "\n",
        "    X_curr = X_train[i_start:i_end]\n",
        "    y_curr = y_train[i_start:i_end]\n",
        "\n",
        "    y_pred_curr = model(X_curr)\n",
        "    loss = loss_func(y_pred_curr, y_curr)\n",
        "\n",
        "    loss.backward()\n",
        "\n",
        "    with torch.no_grad():\n",
        "      weights -= lr * weights.grad\n",
        "      bias -= lr * bias.grad\n",
        "\n",
        "      weights.grad.zero_()\n",
        "      bias.grad.zero_()\n",
        "\n",
        "  loss_res = loss_func(model(X_train), y_train)\n",
        "  loss_res_store.append(float(loss_res))\n",
        "\n",
        "  # print(f\"Epoch {epoch}: {loss_res}\")\n",
        "\n",
        "\n",
        "df = pd.DataFrame({\"loss\": loss_res_store})\n",
        "px.line(df)\n"
      ]
    },
    {
      "cell_type": "markdown",
      "metadata": {
        "id": "xwJKP_LTGP96"
      },
      "source": [
        "That's it: we've created and trained a minimal neural network (in this case, a\n",
        "logistic regression, since we have no hidden layers) entirely from scratch!\n",
        "\n",
        "Let's check the loss and accuracy and compare those to what we got\n",
        "earlier. We expect that the loss will have decreased and accuracy to\n",
        "have increased, and they have. \n",
        "\n"
      ]
    },
    {
      "cell_type": "code",
      "execution_count": 40,
      "metadata": {
        "colab": {
          "base_uri": "https://localhost:8080/"
        },
        "id": "-ETCDTnIGP96",
        "outputId": "9751eb29-e1ab-4097-93e8-ae71131eb9ec"
      },
      "outputs": [
        {
          "name": "stdout",
          "output_type": "stream",
          "text": [
            "Loss after training: 0.17273885011672974\n",
            "Accuracy after training: 96.90785217285156\n"
          ]
        }
      ],
      "source": [
        "print(f\"Loss after training: {loss_func(model(X_train), y_train)}\")\n",
        "print(f\"Accuracy after training: {accuracy(model(X_train), y_train)}\")"
      ]
    },
    {
      "cell_type": "code",
      "execution_count": 41,
      "metadata": {
        "colab": {
          "base_uri": "https://localhost:8080/"
        },
        "id": "obKr5LdyJ-X3",
        "outputId": "43c7a614-c429-4427-998b-fb132ef4cdc0"
      },
      "outputs": [
        {
          "data": {
            "text/plain": [
              "(1600, 1664, 1617)"
            ]
          },
          "execution_count": 41,
          "metadata": {},
          "output_type": "execute_result"
        }
      ],
      "source": [
        "i_start, i_end, train_samples"
      ]
    },
    {
      "cell_type": "markdown",
      "metadata": {
        "id": "RqOgP0Q6GP96"
      },
      "source": [
        "## Let's refactor our code using torch.nn\n",
        "\n",
        "We will now refactor our code, so that it does the same thing as before, only\n",
        "we'll start taking advantage of PyTorch's ``nn`` classes to make it more concise\n",
        "and flexible. At each step from here, we should be making our code one or more\n",
        "of: shorter, more understandable, and/or more flexible.\n",
        "\n"
      ]
    },
    {
      "cell_type": "markdown",
      "metadata": {
        "id": "OMZrCmLHrULU"
      },
      "source": [
        "\n",
        "### Refactor using nn.functional\n",
        "The first and easiest step is to make our code shorter by replacing our\n",
        "hand-written activation and loss functions with those from ``torch.nn.functional``\n",
        "(which is generally imported into the namespace ``F`` by convention). This module\n",
        "contains all the functions in the ``torch.nn`` library (whereas other parts of the\n",
        "library contain classes). As well as a wide range of loss and activation\n",
        "functions, you'll also find here some convenient functions for creating deep neural\n",
        "networks, such as pooling functions. \n",
        "\n",
        "If you're using negative log likelihood loss and log softmax activation,\n",
        "then Pytorch provides a single function ``F.cross_entropy`` that combines\n",
        "the two. So we can even remove the activation function from our model."
      ]
    },
    {
      "cell_type": "code",
      "execution_count": 42,
      "metadata": {
        "id": "Cnb9SnSVGP96"
      },
      "outputs": [],
      "source": [
        "import torch.nn.functional as F\n",
        "\n",
        "loss_func = F.cross_entropy\n",
        "\n",
        "def model(xb):\n",
        "    return xb @ weights + bias"
      ]
    },
    {
      "cell_type": "markdown",
      "metadata": {
        "id": "HFCQsLm8GP97"
      },
      "source": [
        "Note that we no longer call ``log_softmax`` in the ``model`` function. Let's\n",
        "confirm that our loss and accuracy are the same as before:\n",
        "\n"
      ]
    },
    {
      "cell_type": "code",
      "execution_count": 43,
      "metadata": {
        "colab": {
          "base_uri": "https://localhost:8080/"
        },
        "id": "g22boR9RGP97",
        "outputId": "97c5322c-b95c-4c5a-f532-39a881a1bf8d"
      },
      "outputs": [
        {
          "name": "stdout",
          "output_type": "stream",
          "text": [
            "tensor(0.1727, grad_fn=<NllLossBackward0>)\n"
          ]
        }
      ],
      "source": [
        "print(loss_func(model(X_train), y_train))"
      ]
    },
    {
      "cell_type": "markdown",
      "metadata": {
        "id": "GQ4oD7VZGP97"
      },
      "source": [
        "### Refactor using nn.Module\n",
        "Next up, we'll use ``nn.Module`` (*uppercase M*) and ``nn.Parameter``, for a clearer and more\n",
        "concise training loop. We subclass ``nn.Module`` (which itself is a class and\n",
        "able to keep track of its attributes).  In this case, we want to create a class that\n",
        "holds our weights, bias, and method for the forward step.  ``nn.Module`` has a\n",
        "number of attributes and methods (such as ``.parameters()`` and ``.zero_grad()``)\n",
        "which we will be using.\n",
        "\n",
        "Since we're now using an object instead of just using a function, we\n",
        "first have to instantiate our model:\n",
        "\n",
        "\n"
      ]
    },
    {
      "cell_type": "code",
      "execution_count": 44,
      "metadata": {
        "id": "dGBBDsleGP97"
      },
      "outputs": [],
      "source": [
        "from torch import nn\n",
        "\n",
        "\n",
        "class DigitsLogistic(nn.Module):\n",
        "  def __init__(self):\n",
        "    super().__init__()\n",
        "    init_weights = torch.randn(n_features, n_classes) / np.sqrt(n_features)\n",
        "    init_bias = torch.randn(n_classes) / np.sqrt(n_features)\n",
        "\n",
        "    self.weights = nn.Parameter(init_weights)\n",
        "    self.bias = nn.Parameter(init_bias)\n",
        "\n",
        "  def forward(self, xb):\n",
        "    return xb @ self.weights + self.bias\n",
        "\n",
        "\n",
        "model = DigitsLogistic()\n"
      ]
    },
    {
      "cell_type": "markdown",
      "metadata": {
        "id": "3Pnf7Nu4GP98"
      },
      "source": [
        "Now we can calculate the loss in the same way as before. Note that\n",
        "``nn.Module`` objects are used as if they are functions (i.e they are\n",
        "*callable*), but behind the scenes Pytorch will call our ``forward``\n",
        "method automatically, i.e.\n",
        "```\n",
        "  def __call__(self, *args, **kwargs):\n",
        "    return self.forward(args, kwargs)\n",
        "```\n",
        "\n"
      ]
    },
    {
      "cell_type": "code",
      "execution_count": 45,
      "metadata": {
        "colab": {
          "base_uri": "https://localhost:8080/"
        },
        "id": "BjtCUYrvGP98",
        "outputId": "c429a924-6e35-48c2-ffe4-85366c6051de"
      },
      "outputs": [
        {
          "name": "stdout",
          "output_type": "stream",
          "text": [
            "tensor(2.4159, grad_fn=<NllLossBackward0>) tensor(14.7186)\n"
          ]
        }
      ],
      "source": [
        "print(loss_func(model(X_train), y_train), accuracy(model(X_train), y_train))"
      ]
    },
    {
      "cell_type": "markdown",
      "metadata": {
        "id": "WFocHmEIGP98"
      },
      "source": [
        "#### model.parameters() and model.zero_grad()\n",
        "\n",
        "Previously for our training loop we had to update the values for each parameter\n",
        "by name, and manually zero out the grads for each parameter separately, like this:\n",
        "```\n",
        "  with torch.no_grad():\n",
        "      weights -= weights.grad * lr\n",
        "      bias -= bias.grad * lr\n",
        "      weights.grad.zero_()\n",
        "      bias.grad.zero_()\n",
        "```\n",
        "\n",
        "Now we can take advantage of model.parameters() and model.zero_grad() to make those steps more concise\n",
        "and less prone to the error of forgetting some of our parameters, particularly\n",
        "if we had a more complicated model:\n",
        "```\n",
        "  with torch.no_grad():\n",
        "      for p in model.parameters(): \n",
        "          p -= p.grad * lr\n",
        "      model.zero_grad()\n",
        "```\n",
        "\n",
        "We'll wrap our little training loop in a ``fit`` function so we can run it\n",
        "again later. And we double-check that our loss has gone down:\n"
      ]
    },
    {
      "cell_type": "code",
      "execution_count": 64,
      "metadata": {},
      "outputs": [
        {
          "data": {
            "text/plain": [
              "tensor([[0.0000, 0.1875, 0.7500,  ..., 1.0000, 1.0000, 0.1875],\n",
              "        [0.0000, 0.0000, 0.5625,  ..., 0.5000, 0.0000, 0.0000],\n",
              "        [0.0000, 0.0625, 0.7500,  ..., 0.0000, 0.0000, 0.0000],\n",
              "        ...,\n",
              "        [0.0000, 0.0000, 0.0000,  ..., 0.0000, 0.0000, 0.0000],\n",
              "        [0.0000, 0.0000, 0.0000,  ..., 0.0000, 0.0000, 0.0000],\n",
              "        [0.0000, 0.0000, 0.0000,  ..., 0.8125, 0.0625, 0.0000]],\n",
              "       device='cuda:0')"
            ]
          },
          "execution_count": 64,
          "metadata": {},
          "output_type": "execute_result"
        }
      ],
      "source": [
        "torch.cuda.is_available()\n",
        "device = torch.device(\"cuda\")\n",
        "X_train.to(device)"
      ]
    },
    {
      "cell_type": "code",
      "execution_count": 48,
      "metadata": {
        "colab": {
          "base_uri": "https://localhost:8080/"
        },
        "id": "pvkInV04GP98",
        "outputId": "b37e0559-2878-4310-826c-e222533fcb2f"
      },
      "outputs": [
        {
          "name": "stdout",
          "output_type": "stream",
          "text": [
            "Epoch: 0, 1.0037500858306885\n",
            "Epoch: 1, 0.6402100920677185\n",
            "Epoch: 2, 0.4916084110736847\n",
            "Epoch: 3, 0.4108574092388153\n",
            "Epoch: 4, 0.3595569431781769\n",
            "Epoch: 5, 0.3236690163612366\n",
            "Epoch: 6, 0.2968989610671997\n",
            "Epoch: 7, 0.2760049104690552\n",
            "Epoch: 8, 0.25914156436920166\n",
            "Epoch: 9, 0.24517661333084106\n",
            "Epoch: 10, 0.23337386548519135\n",
            "Epoch: 11, 0.22323216497898102\n",
            "Epoch: 12, 0.21439768373966217\n",
            "Epoch: 13, 0.2066127210855484\n",
            "Epoch: 14, 0.19968485832214355\n",
            "Epoch: 15, 0.19346727430820465\n",
            "Epoch: 16, 0.18784567713737488\n",
            "Epoch: 17, 0.18272985517978668\n",
            "Epoch: 18, 0.17804740369319916\n",
            "Epoch: 19, 0.17373961210250854\n",
            "Accuracy: 96.96969604492188\n"
          ]
        }
      ],
      "source": [
        "model = DigitsLogistic()\n",
        "\n",
        "def fit():\n",
        "  for epoch in range(epochs):\n",
        "    for i in range((train_samples - 1) // bs + 1):\n",
        "\n",
        "      # Get start and end indices\n",
        "      i_start = bs * i\n",
        "      i_end = bs * (i + 1)\n",
        "\n",
        "      X_curr = X_train[i_start:i_end]\n",
        "      y_curr = y_train[i_start:i_end]\n",
        "\n",
        "      y_pred_curr = model(X_curr)\n",
        "      loss = loss_func(y_pred_curr, y_curr)\n",
        "\n",
        "      loss.backward()\n",
        "\n",
        "      with torch.no_grad():\n",
        "        for p in model.parameters():\n",
        "          p -= lr * p.grad\n",
        "        model.zero_grad()\n",
        "\n",
        "    print(f\"Epoch: {epoch}, {loss_func(model(X_train), y_train)}\")\n",
        "\n",
        "\n",
        "fit()\n",
        "print(f\"Accuracy: {accuracy(model(X_train), y_train)}\")\n"
      ]
    },
    {
      "cell_type": "markdown",
      "metadata": {
        "id": "bzMBuDeFGP99"
      },
      "source": [
        "### Refactor using nn.Linear\n",
        "\n",
        "We continue to refactor our code.  Instead of manually defining and\n",
        "initializing ``self.weights`` and ``self.bias``, and calculating ``xb  @\n",
        "self.weights + self.bias``, we will instead use the Pytorch class\n",
        "[nn.Linear](https://pytorch.org/docs/stable/nn.html#linear-layers) for a\n",
        "linear layer, which does all that for us. Pytorch has many types of\n",
        "predefined layers that can greatly simplify our code, and often makes it\n",
        "faster too.\n",
        "\n"
      ]
    },
    {
      "cell_type": "code",
      "execution_count": 49,
      "metadata": {
        "id": "FSnmEI1JGP99"
      },
      "outputs": [],
      "source": [
        "class DigitsLogistic(nn.Module):\n",
        "    def __init__(self):\n",
        "        super().__init__()\n",
        "        self.lin = nn.Linear(n_features, n_classes)\n",
        "\n",
        "    def forward(self, xb):\n",
        "        return self.lin(xb)"
      ]
    },
    {
      "cell_type": "markdown",
      "metadata": {
        "id": "yFS60dpFGP99"
      },
      "source": [
        "We instantiate our model and calculate the loss in the same way as before:\n",
        "\n"
      ]
    },
    {
      "cell_type": "code",
      "execution_count": 50,
      "metadata": {
        "colab": {
          "base_uri": "https://localhost:8080/"
        },
        "id": "TFW4bMSUGP99",
        "outputId": "b3aee3b5-7057-4871-a481-dac974a28978"
      },
      "outputs": [
        {
          "name": "stdout",
          "output_type": "stream",
          "text": [
            "Loss: 2.352463960647583, Accuracy: 9.894866943359375\n"
          ]
        }
      ],
      "source": [
        "model = DigitsLogistic()\n",
        "print(f\"Loss: {loss_func(model(X_train), y_train)}, Accuracy: {accuracy(model(X_train), y_train)}\")"
      ]
    },
    {
      "cell_type": "markdown",
      "metadata": {
        "id": "mZJfkdWmGP9-"
      },
      "source": [
        "We are still able to use our same ``fit`` method as before.\n",
        "\n"
      ]
    },
    {
      "cell_type": "code",
      "execution_count": 51,
      "metadata": {
        "colab": {
          "base_uri": "https://localhost:8080/"
        },
        "id": "zau12rXJGP9-",
        "outputId": "17eef966-f63a-4eea-a58e-d1e20651f9e9"
      },
      "outputs": [
        {
          "name": "stdout",
          "output_type": "stream",
          "text": [
            "Epoch: 0, 1.015250563621521\n",
            "Epoch: 1, 0.6464740037918091\n",
            "Epoch: 2, 0.49488410353660583\n",
            "Epoch: 3, 0.4127863347530365\n",
            "Epoch: 4, 0.3608166575431824\n",
            "Epoch: 5, 0.32455649971961975\n",
            "Epoch: 6, 0.29755905270576477\n",
            "Epoch: 7, 0.2765157222747803\n",
            "Epoch: 8, 0.25954899191856384\n",
            "Epoch: 9, 0.24550966918468475\n",
            "Epoch: 10, 0.23365166783332825\n",
            "Epoch: 11, 0.22346796095371246\n",
            "Epoch: 12, 0.21460078656673431\n",
            "Epoch: 13, 0.20678995549678802\n",
            "Epoch: 14, 0.1998412013053894\n",
            "Epoch: 15, 0.1936063915491104\n",
            "Epoch: 16, 0.18797050416469574\n",
            "Epoch: 17, 0.18284249305725098\n",
            "Epoch: 18, 0.1781495362520218\n",
            "Epoch: 19, 0.17383252084255219\n",
            "Loss: 0.17383252084255219, Accuracy: 96.84600830078125\n"
          ]
        }
      ],
      "source": [
        "fit()\n",
        "print(f\"Loss: {loss_func(model(X_train), y_train)}, Accuracy: {accuracy(model(X_train), y_train)}\")"
      ]
    },
    {
      "cell_type": "markdown",
      "metadata": {
        "id": "RHBvm9BMGP9-"
      },
      "source": [
        "## Refactor using optim\n",
        "\n",
        "Pytorch also has a package with various optimization algorithms, ``torch.optim``.\n",
        "We can use the ``step`` method from our optimizer to take a forward step, instead\n",
        "of manually updating each parameter.\n",
        "\n",
        "This will let us replace our previous manually coded optimization step:\n",
        "```\n",
        "  with torch.no_grad():\n",
        "      for p in model.parameters(): \n",
        "          p -= p.grad * lr\n",
        "      model.zero_grad()\n",
        "```\n",
        "\n",
        "and instead use just:\n",
        "```\n",
        "# before the training loop\n",
        "opt = optim.SGD(model.parameters(), lr=lr)\n",
        "\n",
        "# in the training loop\n",
        "opt.step()\n",
        "opt.zero_grad()\n",
        "```\n",
        "\n",
        "``optim.zero_grad()`` resets the gradient to 0 and we need to call it before\n",
        "computing the gradient for the next minibatch.\n",
        "\n"
      ]
    },
    {
      "cell_type": "code",
      "execution_count": 71,
      "metadata": {
        "colab": {
          "base_uri": "https://localhost:8080/"
        },
        "id": "U4wtsLH1GP9-",
        "outputId": "49ed00f2-2891-4cf1-d711-be9dfd617b07"
      },
      "outputs": [
        {
          "name": "stdout",
          "output_type": "stream",
          "text": [
            "Loss: 2.3472847938537598, Accuracy: 2.721088409423828\n",
            "Loss: 1.0039067268371582,  Accuracy: 82.62213897705078\n",
            "Loss: 0.638529896736145,  Accuracy: 89.36302185058594\n",
            "Loss: 0.4893985688686371,  Accuracy: 91.71304321289062\n",
            "Loss: 0.4087451100349426,  Accuracy: 92.7025375366211\n",
            "Loss: 0.3576916754245758,  Accuracy: 93.44464874267578\n",
            "Loss: 0.3220568597316742,  Accuracy: 93.93939208984375\n",
            "Loss: 0.29550960659980774,  Accuracy: 94.37229919433594\n",
            "Loss: 0.27480337023735046,  Accuracy: 94.61966705322266\n",
            "Loss: 0.25809645652770996,  Accuracy: 94.92887878417969\n",
            "Loss: 0.2442619800567627,  Accuracy: 95.23809814453125\n",
            "Loss: 0.23256851732730865,  Accuracy: 95.48546600341797\n",
            "Loss: 0.22251909971237183,  Accuracy: 95.79468536376953\n",
            "Loss: 0.213763028383255,  Accuracy: 95.98020935058594\n",
            "Loss: 0.20604512095451355,  Accuracy: 96.16574096679688\n",
            "Loss: 0.19917498528957367,  Accuracy: 96.2894287109375\n",
            "Loss: 0.19300724565982819,  Accuracy: 96.4749526977539\n",
            "Loss: 0.18742893636226654,  Accuracy: 96.59864044189453\n",
            "Loss: 0.18235087394714355,  Accuracy: 96.72232055664062\n",
            "Loss: 0.1777014434337616,  Accuracy: 96.72232055664062\n",
            "Loss: 0.17342254519462585,  Accuracy: 96.72232055664062\n"
          ]
        }
      ],
      "source": [
        "from torch import optim\n",
        "\n",
        "model = DigitsLogistic()\n",
        "print(\n",
        "  f\"Loss: {loss_func(model(X_train), y_train)},\",\n",
        "  f\"Accuracy: {accuracy(model(X_train), y_train)}\",\n",
        ")\n",
        "\n",
        "opt = optim.SGD(model.parameters(), lr=lr)\n",
        "\n",
        "for epoch in range(epochs):\n",
        "  for i in range((train_samples - 1) // bs + 1):\n",
        "\n",
        "    # Get start and end indices\n",
        "    i_start = bs * i\n",
        "    i_end = bs * (i + 1)\n",
        "\n",
        "    X_curr = X_train[i_start:i_end]\n",
        "    y_curr = y_train[i_start:i_end]\n",
        "\n",
        "    y_pred_curr = model(X_curr)\n",
        "    loss = loss_func(y_pred_curr, y_curr)\n",
        "\n",
        "    loss.backward()\n",
        "    opt.step()\n",
        "    opt.zero_grad()\n",
        "\n",
        "  print(\n",
        "    f\"Loss: {loss_func(model(X_train), y_train)}, \",\n",
        "    f\"Accuracy: {accuracy(model(X_train), y_train)}\",\n",
        "  )\n"
      ]
    },
    {
      "cell_type": "code",
      "execution_count": 84,
      "metadata": {},
      "outputs": [],
      "source": [
        "size = 400\n",
        "b = torch.ones(size, size)\n",
        "b = torch.ones(size, size).cuda()\n",
        "for _ in range(1000000):\n",
        "  b += b\n"
      ]
    },
    {
      "cell_type": "markdown",
      "metadata": {
        "id": "gAa3H3EkGP9_"
      },
      "source": [
        "## Refactor using Dataset\n",
        "\n",
        "PyTorch has an abstract Dataset class.  A Dataset can be anything that has:\n",
        "*   a ``__len__`` function (called by Python's standard ``len`` function)\n",
        "*   a ``__getitem__`` function as a way of indexing into it.\n",
        "\n",
        "There are many pre-existing datasets in the [torchvision](https://pytorch.org/vision/stable/datasets.html) library. Otherwise you can also create your own.\n",
        "[This tutorial](https://pytorch.org/tutorials/beginner/data_loading_tutorial.html)\n",
        "walks through a nice example of creating a custom ``FacialLandmarkDataset`` class\n",
        "as a subclass of ``Dataset``.\n",
        "\n",
        "PyTorch's [TensorDataset](https://pytorch.org/docs/stable/_modules/torch/utils/data/dataset.html#TensorDataset)\n",
        "is a Dataset wrapping tensors. By defining a length and way of indexing,\n",
        "this also gives us a way to iterate, index, and slice along the first\n",
        "dimension of a tensor.\n",
        "\n",
        "Both ``X_train`` and ``y_train`` can be combined in a single ``TensorDataset``,\n",
        "which will be easier to iterate over and slice.\n"
      ]
    },
    {
      "cell_type": "code",
      "execution_count": 85,
      "metadata": {
        "id": "a7jC6HSPGP9_"
      },
      "outputs": [],
      "source": [
        "from torch.utils.data import TensorDataset\n",
        "train_ds = TensorDataset(X_train, y_train)"
      ]
    },
    {
      "cell_type": "markdown",
      "metadata": {
        "id": "QvKdmDrzGP9_"
      },
      "source": [
        "Previously, we had to iterate through minibatches of x and y values separately:\n",
        "```\n",
        "    xb = X_train[start_i:end_i]\n",
        "    yb = y_train[start_i:end_i]\n",
        "```\n",
        "\n",
        "Now, we can do these two steps together:\n",
        "```\n",
        "    xb,yb = train_ds[i*bs : i*bs+bs] # we access all tensors in the dataset with one slicing\n",
        "```\n",
        "\n"
      ]
    },
    {
      "cell_type": "code",
      "execution_count": 91,
      "metadata": {
        "colab": {
          "base_uri": "https://localhost:8080/"
        },
        "id": "hh3uQWbgGP9_",
        "outputId": "7387cfd2-74b4-4958-9c71-fdbeb288c6de"
      },
      "outputs": [
        {
          "name": "stdout",
          "output_type": "stream",
          "text": [
            "Loss: 0.6178284883499146, Accuracy: 88.31169128417969\n",
            "Loss: 0.1950487345457077, Accuracy: 94.80519104003906\n",
            "Loss: 0.13885028660297394, Accuracy: 95.79468536376953\n",
            "Loss: 0.1414077877998352, Accuracy: 95.54730987548828\n",
            "Loss: 0.10676081478595734, Accuracy: 97.21707153320312\n",
            "Loss: 0.10150665789842606, Accuracy: 96.53679656982422\n",
            "Loss: 0.09754589945077896, Accuracy: 97.03153991699219\n",
            "Loss: 0.09218311309814453, Accuracy: 97.0933837890625\n",
            "Loss: 0.10971467196941376, Accuracy: 96.2894287109375\n",
            "Loss: 0.2088923156261444, Accuracy: 93.69202423095703\n",
            "Loss: 0.07963976263999939, Accuracy: 97.58812713623047\n",
            "Loss: 0.10042999684810638, Accuracy: 97.15522766113281\n",
            "Loss: 0.05820527672767639, Accuracy: 97.40259552001953\n",
            "Loss: 0.09650305658578873, Accuracy: 97.40259552001953\n",
            "Loss: 0.09147771447896957, Accuracy: 96.96969604492188\n",
            "Loss: 0.06348846107721329, Accuracy: 97.83550262451172\n",
            "Loss: 0.04842009022831917, Accuracy: 98.5157699584961\n",
            "Loss: 0.042959947139024734, Accuracy: 98.76314544677734\n",
            "Loss: 0.0846385657787323, Accuracy: 97.8973388671875\n",
            "Loss: 0.030388379469513893, Accuracy: 99.01051330566406\n"
          ]
        }
      ],
      "source": [
        "model = DigitsLogistic()\n",
        "opt = optim.SGD(model.parameters(), lr=lr)\n",
        "\n",
        "opt = optim.Adam(model.parameters(), lr=lr)\n",
        "\n",
        "for epoch in range(epochs):\n",
        "  for i in range((train_samples - 1) // bs + 1):\n",
        "\n",
        "    # Get start and end indices\n",
        "    i_start = bs * i\n",
        "    i_end = bs * (i + 1)\n",
        "\n",
        "    X_curr, y_curr = train_ds[i_start:i_end]\n",
        "\n",
        "    y_pred_curr = model(X_curr)\n",
        "    loss = loss_func(y_pred_curr, y_curr)\n",
        "\n",
        "    loss.backward()\n",
        "    opt.step()\n",
        "    opt.zero_grad()\n",
        "\n",
        "  print(f\"Loss: {loss_func(model(X_train), y_train)}, Accuracy: {accuracy(model(X_train), y_train)}\")"
      ]
    },
    {
      "cell_type": "markdown",
      "metadata": {
        "id": "spVPEQSbGP9_"
      },
      "source": [
        "## Refactor using DataLoader\n",
        "\n",
        "Pytorch's ``DataLoader`` is responsible for managing batches. You can\n",
        "create a ``DataLoader`` from any ``Dataset``. ``DataLoader`` makes it easier\n",
        "to iterate over batches. Rather than having to use ``train_ds[i*bs : i*bs+bs]``,\n",
        "the DataLoader gives us each minibatch automatically.\n",
        "\n",
        "Also Shuffling the training data is\n",
        "[important](https://www.quora.com/Does-the-order-of-training-data-matter-when-training-neural-networks)\n",
        "to prevent correlation between batches and overfitting. DataLoader provides the parameter ``shuffle=True`` to do it.\n",
        "\n"
      ]
    },
    {
      "cell_type": "code",
      "execution_count": 95,
      "metadata": {
        "id": "dUKoDBjtGP-A"
      },
      "outputs": [],
      "source": [
        "from torch.utils.data import DataLoader\n",
        "\n",
        "train_ds = TensorDataset(X_train, y_train)\n",
        "train_dl = DataLoader(train_ds, batch_size=bs, shuffle=True)"
      ]
    },
    {
      "cell_type": "markdown",
      "metadata": {
        "id": "LzWYd4sjGP-A"
      },
      "source": [
        "Previously, our loop iterated over batches (xb, yb) like this:\n",
        "\n",
        "      for i in range((n-1)//bs + 1):\n",
        "          xb,yb = train_ds[i*bs : i*bs+bs]\n",
        "          pred = model(xb)\n",
        "\n",
        "Now, our loop is much cleaner, as (xb, yb) are loaded automatically from the data loader:\n",
        "\n",
        "      for xb,yb in train_dl:\n",
        "          pred = model(xb)\n",
        "\n"
      ]
    },
    {
      "cell_type": "code",
      "execution_count": 100,
      "metadata": {
        "colab": {
          "base_uri": "https://localhost:8080/"
        },
        "id": "sBvpcKS4GP-A",
        "outputId": "6ec4fa16-5ef5-47f0-e46a-25f62f89c5d1"
      },
      "outputs": [
        {
          "name": "stdout",
          "output_type": "stream",
          "text": [
            "Loss: 3.0654661655426025, Accuracy: 54.730979919433594\n",
            "Loss: 3.7525501251220703, Accuracy: 39.20840835571289\n",
            "Loss: 2.4088025093078613, Accuracy: 55.28757095336914\n",
            "Loss: 2.286783218383789, Accuracy: 58.6270866394043\n",
            "Loss: 2.2476277351379395, Accuracy: 61.904762268066406\n",
            "Loss: 1.099810242652893, Accuracy: 74.14966583251953\n",
            "Loss: 0.8170061111450195, Accuracy: 78.78787994384766\n",
            "Loss: 1.591383457183838, Accuracy: 62.83240509033203\n",
            "Loss: 1.2384121417999268, Accuracy: 69.44960021972656\n",
            "Loss: 0.5009112358093262, Accuracy: 86.39456176757812\n",
            "Loss: 0.5471395254135132, Accuracy: 87.0748291015625\n",
            "Loss: 0.7944393157958984, Accuracy: 84.168212890625\n",
            "Loss: 0.8606475591659546, Accuracy: 83.54978942871094\n",
            "Loss: 0.8084270358085632, Accuracy: 83.79715728759766\n",
            "Loss: 0.7312576174736023, Accuracy: 84.60111236572266\n",
            "Loss: 0.5299633741378784, Accuracy: 87.26036071777344\n",
            "Loss: 0.38536572456359863, Accuracy: 90.10513305664062\n",
            "Loss: 0.35825225710868835, Accuracy: 90.97093200683594\n",
            "Loss: 0.3621997535228729, Accuracy: 90.78540802001953\n",
            "Loss: 0.3719482123851776, Accuracy: 90.04328918457031\n",
            "Loss: 0.39800265431404114, Accuracy: 90.10513305664062\n",
            "Loss: 0.3872557580471039, Accuracy: 90.90909576416016\n",
            "Loss: 0.353523313999176, Accuracy: 91.34198760986328\n",
            "Loss: 0.2873532474040985, Accuracy: 92.76437377929688\n",
            "Loss: 0.2357419729232788, Accuracy: 93.63018035888672\n",
            "Loss: 0.2080826610326767, Accuracy: 94.3104476928711\n",
            "Loss: 0.20223519206047058, Accuracy: 94.37229919433594\n",
            "Loss: 0.21771542727947235, Accuracy: 94.3104476928711\n",
            "Loss: 0.2211783528327942, Accuracy: 93.75386047363281\n",
            "Loss: 0.21819308400154114, Accuracy: 93.63018035888672\n",
            "Loss: 0.2134939581155777, Accuracy: 93.93939208984375\n",
            "Loss: 0.21605972945690155, Accuracy: 94.186767578125\n",
            "Loss: 0.213960200548172, Accuracy: 94.43413543701172\n",
            "Loss: 0.2053854763507843, Accuracy: 94.24861145019531\n",
            "Loss: 0.19738569855690002, Accuracy: 94.80519104003906\n",
            "Loss: 0.18831495940685272, Accuracy: 95.42362976074219\n",
            "Loss: 0.19095563888549805, Accuracy: 95.05256652832031\n",
            "Loss: 0.18019311130046844, Accuracy: 94.86703491210938\n",
            "Loss: 0.16930480301380157, Accuracy: 95.91836547851562\n",
            "Loss: 0.1700528860092163, Accuracy: 94.74335479736328\n",
            "Loss: 0.1990409791469574, Accuracy: 94.37229919433594\n",
            "Loss: 0.22228315472602844, Accuracy: 93.81570434570312\n",
            "Loss: 0.21220019459724426, Accuracy: 94.186767578125\n",
            "Loss: 0.16812804341316223, Accuracy: 94.99072265625\n",
            "Loss: 0.13046401739120483, Accuracy: 96.2894287109375\n",
            "Loss: 0.14621280133724213, Accuracy: 95.85652160644531\n",
            "Loss: 0.18593469262123108, Accuracy: 94.68151092529297\n",
            "Loss: 0.23051059246063232, Accuracy: 93.25911712646484\n",
            "Loss: 0.24889136850833893, Accuracy: 92.76437377929688\n",
            "Loss: 0.18157075345516205, Accuracy: 94.43413543701172\n",
            "Loss: 0.13382191956043243, Accuracy: 95.91836547851562\n",
            "Loss: 0.11928790807723999, Accuracy: 95.98020935058594\n",
            "Loss: 0.18480834364891052, Accuracy: 94.80519104003906\n",
            "Loss: 0.3094906806945801, Accuracy: 91.89857482910156\n",
            "Loss: 0.44514623284339905, Accuracy: 89.54854583740234\n",
            "Loss: 0.46848970651626587, Accuracy: 89.61038970947266\n",
            "Loss: 0.30129826068878174, Accuracy: 92.02226257324219\n",
            "Loss: 0.15094725787639618, Accuracy: 95.79468536376953\n",
            "Loss: 0.1779693365097046, Accuracy: 95.23809814453125\n",
            "Loss: 0.3049463927745819, Accuracy: 92.8880615234375\n",
            "Loss: 0.4058547616004944, Accuracy: 91.52751922607422\n",
            "Loss: 0.4586695432662964, Accuracy: 90.90909576416016\n",
            "Loss: 0.43083205819129944, Accuracy: 91.21830749511719\n",
            "Loss: 0.30989569425582886, Accuracy: 93.13543701171875\n",
            "Loss: 0.17338372766971588, Accuracy: 95.1762466430664\n",
            "Loss: 0.14870305359363556, Accuracy: 95.42362976074219\n",
            "Loss: 0.1917453408241272, Accuracy: 94.55782318115234\n",
            "Loss: 0.3224668502807617, Accuracy: 92.51700592041016\n",
            "Loss: 0.45144155621528625, Accuracy: 90.41434478759766\n",
            "Loss: 0.3953667879104614, Accuracy: 91.15646362304688\n",
            "Loss: 0.24319946765899658, Accuracy: 93.69202423095703\n",
            "Loss: 0.1440492868423462, Accuracy: 95.6709976196289\n",
            "Loss: 0.2245461493730545, Accuracy: 93.44464874267578\n",
            "Loss: 0.3429092466831207, Accuracy: 91.2801513671875\n",
            "Loss: 0.35453271865844727, Accuracy: 91.34198760986328\n",
            "Loss: 0.26447153091430664, Accuracy: 93.5064926147461\n",
            "Loss: 0.20250365138053894, Accuracy: 94.80519104003906\n",
            "Loss: 0.1984264999628067, Accuracy: 94.55782318115234\n",
            "Loss: 0.19785656034946442, Accuracy: 94.61966705322266\n",
            "Loss: 0.15835700929164886, Accuracy: 95.85652160644531\n",
            "Loss: 0.13783729076385498, Accuracy: 96.22757720947266\n",
            "Loss: 0.15757592022418976, Accuracy: 95.73284149169922\n",
            "Loss: 0.2187497615814209, Accuracy: 94.12492370605469\n",
            "Loss: 0.2981448173522949, Accuracy: 92.02226257324219\n",
            "Loss: 0.30045032501220703, Accuracy: 91.96041870117188\n",
            "Loss: 0.2283778339624405, Accuracy: 93.32096862792969\n",
            "Loss: 0.12916681170463562, Accuracy: 95.6091537475586\n",
            "Loss: 0.08794432878494263, Accuracy: 97.34075927734375\n",
            "Loss: 0.10872329026460648, Accuracy: 96.59864044189453\n",
            "Loss: 0.1451369673013687, Accuracy: 95.98020935058594\n",
            "Loss: 0.16424277424812317, Accuracy: 95.36177825927734\n",
            "Loss: 0.15309923887252808, Accuracy: 95.98020935058594\n",
            "Loss: 0.1244615837931633, Accuracy: 96.59864044189453\n",
            "Loss: 0.106565460562706, Accuracy: 97.0933837890625\n",
            "Loss: 0.10284508764743805, Accuracy: 97.21707153320312\n",
            "Loss: 0.09424605965614319, Accuracy: 97.34075927734375\n",
            "Loss: 0.09175985306501389, Accuracy: 97.21707153320312\n",
            "Loss: 0.0931912288069725, Accuracy: 97.58812713623047\n",
            "Loss: 0.10775835067033768, Accuracy: 97.03153991699219\n",
            "Loss: 0.11561577022075653, Accuracy: 96.78417205810547\n",
            "Loss: 0.12320690602064133, Accuracy: 96.53679656982422\n",
            "Loss: 0.12819531559944153, Accuracy: 95.98020935058594\n",
            "Loss: 0.13302278518676758, Accuracy: 96.2894287109375\n",
            "Loss: 0.14206142723560333, Accuracy: 96.2894287109375\n",
            "Loss: 0.12575237452983856, Accuracy: 96.53679656982422\n",
            "Loss: 0.12396223098039627, Accuracy: 96.78417205810547\n",
            "Loss: 0.11568307876586914, Accuracy: 96.90785217285156\n",
            "Loss: 0.11028244346380234, Accuracy: 97.0933837890625\n",
            "Loss: 0.10225851833820343, Accuracy: 97.03153991699219\n",
            "Loss: 0.09244897216558456, Accuracy: 97.21707153320312\n",
            "Loss: 0.07638343423604965, Accuracy: 97.83550262451172\n",
            "Loss: 0.07081659138202667, Accuracy: 97.8973388671875\n",
            "Loss: 0.07180365920066833, Accuracy: 97.7118148803711\n",
            "Loss: 0.07574507594108582, Accuracy: 97.7118148803711\n",
            "Loss: 0.07483557611703873, Accuracy: 97.83550262451172\n",
            "Loss: 0.08100374788045883, Accuracy: 97.58812713623047\n",
            "Loss: 0.08214548230171204, Accuracy: 97.34075927734375\n",
            "Loss: 0.08476089686155319, Accuracy: 97.46443939208984\n",
            "Loss: 0.08758063614368439, Accuracy: 97.46443939208984\n",
            "Loss: 0.07825509458780289, Accuracy: 97.64997100830078\n",
            "Loss: 0.06985586881637573, Accuracy: 98.02102661132812\n",
            "Loss: 0.06875970959663391, Accuracy: 97.83550262451172\n",
            "Loss: 0.06710691004991531, Accuracy: 98.02102661132812\n",
            "Loss: 0.06893642246723175, Accuracy: 98.02102661132812\n",
            "Loss: 0.06986676156520844, Accuracy: 97.83550262451172\n",
            "Loss: 0.07047989219427109, Accuracy: 97.95918273925781\n",
            "Loss: 0.06746489554643631, Accuracy: 97.7118148803711\n",
            "Loss: 0.060206227004528046, Accuracy: 98.14470672607422\n",
            "Loss: 0.062263280153274536, Accuracy: 98.08287048339844\n",
            "Loss: 0.06781177967786789, Accuracy: 97.77365112304688\n",
            "Loss: 0.07396005839109421, Accuracy: 97.64997100830078\n",
            "Loss: 0.07990007102489471, Accuracy: 97.2789077758789\n",
            "Loss: 0.0848127081990242, Accuracy: 97.0933837890625\n",
            "Loss: 0.09605526924133301, Accuracy: 96.53679656982422\n",
            "Loss: 0.09442301094532013, Accuracy: 96.72232055664062\n",
            "Loss: 0.07951095700263977, Accuracy: 97.21707153320312\n",
            "Loss: 0.06513261049985886, Accuracy: 98.14470672607422\n",
            "Loss: 0.059370316565036774, Accuracy: 98.14470672607422\n",
            "Loss: 0.06639689952135086, Accuracy: 97.95918273925781\n",
            "Loss: 0.08075358718633652, Accuracy: 97.21707153320312\n",
            "Loss: 0.07508827745914459, Accuracy: 97.52628326416016\n",
            "Loss: 0.06890984624624252, Accuracy: 97.7118148803711\n",
            "Loss: 0.06990733742713928, Accuracy: 97.77365112304688\n",
            "Loss: 0.07526446878910065, Accuracy: 97.58812713623047\n",
            "Loss: 0.09711731225252151, Accuracy: 96.78417205810547\n",
            "Loss: 0.1091332659125328, Accuracy: 96.4131088256836\n",
            "Loss: 0.1213318482041359, Accuracy: 96.16574096679688\n",
            "Loss: 0.12384005635976791, Accuracy: 95.98020935058594\n",
            "Loss: 0.09342656284570694, Accuracy: 97.21707153320312\n",
            "Loss: 0.091229148209095, Accuracy: 96.59864044189453\n",
            "Loss: 0.11567645519971848, Accuracy: 95.98020935058594\n",
            "Loss: 0.16217683255672455, Accuracy: 95.11441040039062\n",
            "Loss: 0.1731993556022644, Accuracy: 94.24861145019531\n",
            "Loss: 0.10435692220926285, Accuracy: 96.4131088256836\n",
            "Loss: 0.06451945751905441, Accuracy: 97.7118148803711\n",
            "Loss: 0.11430956423282623, Accuracy: 95.91836547851562\n",
            "Loss: 0.23251676559448242, Accuracy: 93.38280487060547\n",
            "Loss: 0.27471572160720825, Accuracy: 93.01174926757812\n",
            "Loss: 0.2350112646818161, Accuracy: 93.87755584716797\n",
            "Loss: 0.19406941533088684, Accuracy: 95.05256652832031\n",
            "Loss: 0.11081048101186752, Accuracy: 96.53679656982422\n",
            "Loss: 0.06367170810699463, Accuracy: 98.02102661132812\n",
            "Loss: 0.060742225497961044, Accuracy: 98.08287048339844\n",
            "Loss: 0.08120223879814148, Accuracy: 97.21707153320312\n",
            "Loss: 0.07833560556173325, Accuracy: 97.34075927734375\n",
            "Loss: 0.09735766798257828, Accuracy: 96.90785217285156\n",
            "Loss: 0.07714090496301651, Accuracy: 97.2789077758789\n",
            "Loss: 0.0841766968369484, Accuracy: 97.40259552001953\n",
            "Loss: 0.10023651272058487, Accuracy: 96.72232055664062\n",
            "Loss: 0.12193369120359421, Accuracy: 96.04205322265625\n",
            "Loss: 0.10376645624637604, Accuracy: 96.59864044189453\n",
            "Loss: 0.08402577042579651, Accuracy: 97.34075927734375\n",
            "Loss: 0.07604756206274033, Accuracy: 97.34075927734375\n",
            "Loss: 0.089124895632267, Accuracy: 97.34075927734375\n",
            "Loss: 0.0877373218536377, Accuracy: 97.21707153320312\n",
            "Loss: 0.09738481044769287, Accuracy: 96.66048431396484\n",
            "Loss: 0.08778799325227737, Accuracy: 97.2789077758789\n",
            "Loss: 0.08868327736854553, Accuracy: 97.34075927734375\n",
            "Loss: 0.11927685886621475, Accuracy: 96.22757720947266\n",
            "Loss: 0.1412556916475296, Accuracy: 94.80519104003906\n",
            "Loss: 0.1764630526304245, Accuracy: 94.24861145019531\n",
            "Loss: 0.10814668983221054, Accuracy: 96.22757720947266\n",
            "Loss: 0.06975171715021133, Accuracy: 97.83550262451172\n",
            "Loss: 0.07494312524795532, Accuracy: 97.83550262451172\n",
            "Loss: 0.10637637972831726, Accuracy: 97.03153991699219\n",
            "Loss: 0.14234891533851624, Accuracy: 96.10389709472656\n",
            "Loss: 0.11528676003217697, Accuracy: 96.35126495361328\n",
            "Loss: 0.0895637720823288, Accuracy: 96.84600830078125\n",
            "Loss: 0.06557575613260269, Accuracy: 97.83550262451172\n",
            "Loss: 0.06866256147623062, Accuracy: 97.77365112304688\n",
            "Loss: 0.09341485053300858, Accuracy: 96.35126495361328\n",
            "Loss: 0.13474807143211365, Accuracy: 94.92887878417969\n",
            "Loss: 0.19800414144992828, Accuracy: 93.93939208984375\n",
            "Loss: 0.23309235274791718, Accuracy: 92.82622528076172\n",
            "Loss: 0.10225970298051834, Accuracy: 96.84600830078125\n",
            "Loss: 0.06850723177194595, Accuracy: 97.8973388671875\n",
            "Loss: 0.09602612257003784, Accuracy: 96.96969604492188\n",
            "Loss: 0.13522502779960632, Accuracy: 95.79468536376953\n",
            "Loss: 0.18254806101322174, Accuracy: 94.3104476928711\n",
            "Loss: 0.15194176137447357, Accuracy: 95.48546600341797\n",
            "Loss: 0.05146421119570732, Accuracy: 97.8973388671875\n",
            "Loss: 0.03455989807844162, Accuracy: 98.76314544677734\n",
            "Loss: 0.05006150156259537, Accuracy: 98.33023834228516\n",
            "Loss: 0.07456215471029282, Accuracy: 97.40259552001953\n",
            "Loss: 0.08960496634244919, Accuracy: 97.03153991699219\n",
            "Loss: 0.09077198803424835, Accuracy: 97.46443939208984\n",
            "Loss: 0.09878323972225189, Accuracy: 97.0933837890625\n",
            "Loss: 0.09171079844236374, Accuracy: 97.58812713623047\n",
            "Loss: 0.09134549647569656, Accuracy: 97.2789077758789\n",
            "Loss: 0.11915353685617447, Accuracy: 96.4131088256836\n",
            "Loss: 0.13511241972446442, Accuracy: 95.98020935058594\n",
            "Loss: 0.13476938009262085, Accuracy: 95.98020935058594\n",
            "Loss: 0.09952748566865921, Accuracy: 97.15522766113281\n",
            "Loss: 0.0757531151175499, Accuracy: 97.8973388671875\n",
            "Loss: 0.0628058910369873, Accuracy: 98.33023834228516\n",
            "Loss: 0.06342605501413345, Accuracy: 98.08287048339844\n",
            "Loss: 0.07218226045370102, Accuracy: 97.58812713623047\n",
            "Loss: 0.07748163491487503, Accuracy: 97.95918273925781\n",
            "Loss: 0.10097696632146835, Accuracy: 96.90785217285156\n",
            "Loss: 0.13498391211032867, Accuracy: 96.04205322265625\n",
            "Loss: 0.16046495735645294, Accuracy: 95.11441040039062\n",
            "Loss: 0.1135299801826477, Accuracy: 96.72232055664062\n",
            "Loss: 0.07019796222448349, Accuracy: 97.7118148803711\n",
            "Loss: 0.061802446842193604, Accuracy: 98.20655822753906\n",
            "Loss: 0.08436553180217743, Accuracy: 97.7118148803711\n",
            "Loss: 0.10548239201307297, Accuracy: 97.0933837890625\n",
            "Loss: 0.12149092555046082, Accuracy: 96.53679656982422\n",
            "Loss: 0.11573982983827591, Accuracy: 96.90785217285156\n",
            "Loss: 0.11443665623664856, Accuracy: 96.72232055664062\n",
            "Loss: 0.10843578726053238, Accuracy: 96.78417205810547\n",
            "Loss: 0.08005298674106598, Accuracy: 97.58812713623047\n",
            "Loss: 0.08027318865060806, Accuracy: 97.77365112304688\n",
            "Loss: 0.08386527746915817, Accuracy: 97.7118148803711\n",
            "Loss: 0.06930633634328842, Accuracy: 97.64997100830078\n",
            "Loss: 0.1053154468536377, Accuracy: 96.4749526977539\n",
            "Loss: 0.13125604391098022, Accuracy: 96.22757720947266\n",
            "Loss: 0.17027755081653595, Accuracy: 95.1762466430664\n",
            "Loss: 0.23364482820034027, Accuracy: 94.06307983398438\n",
            "Loss: 0.16969366371631622, Accuracy: 95.42362976074219\n",
            "Loss: 0.08594559878110886, Accuracy: 97.77365112304688\n",
            "Loss: 0.04740043357014656, Accuracy: 98.45392608642578\n",
            "Loss: 0.07434692978858948, Accuracy: 97.46443939208984\n",
            "Loss: 0.16032929718494415, Accuracy: 95.11441040039062\n",
            "Loss: 0.22818784415721893, Accuracy: 93.75386047363281\n",
            "Loss: 0.17700889706611633, Accuracy: 94.92887878417969\n",
            "Loss: 0.10821688920259476, Accuracy: 96.96969604492188\n",
            "Loss: 0.06606047600507736, Accuracy: 97.95918273925781\n",
            "Loss: 0.060249313712120056, Accuracy: 98.26839447021484\n",
            "Loss: 0.0715508759021759, Accuracy: 97.95918273925781\n",
            "Loss: 0.09756458550691605, Accuracy: 97.46443939208984\n",
            "Loss: 0.11850089579820633, Accuracy: 97.03153991699219\n",
            "Loss: 0.15055221319198608, Accuracy: 95.85652160644531\n",
            "Loss: 0.20670735836029053, Accuracy: 94.49597930908203\n",
            "Loss: 0.18754814565181732, Accuracy: 94.92887878417969\n",
            "Loss: 0.12832722067832947, Accuracy: 96.72232055664062\n",
            "Loss: 0.08640865981578827, Accuracy: 97.64997100830078\n",
            "Loss: 0.075376495718956, Accuracy: 97.64997100830078\n",
            "Loss: 0.10895771533250809, Accuracy: 97.03153991699219\n",
            "Loss: 0.14923907816410065, Accuracy: 96.10389709472656\n",
            "Loss: 0.11672452837228775, Accuracy: 96.35126495361328\n",
            "Loss: 0.09668734669685364, Accuracy: 97.21707153320312\n",
            "Loss: 0.11852701008319855, Accuracy: 96.66048431396484\n",
            "Loss: 0.1630864143371582, Accuracy: 95.98020935058594\n",
            "Loss: 0.19217373430728912, Accuracy: 95.23809814453125\n",
            "Loss: 0.1723574697971344, Accuracy: 95.79468536376953\n",
            "Loss: 0.16092607378959656, Accuracy: 96.4131088256836\n",
            "Loss: 0.1420302838087082, Accuracy: 96.59864044189453\n",
            "Loss: 0.09186983108520508, Accuracy: 97.52628326416016\n",
            "Loss: 0.07875331491231918, Accuracy: 97.64997100830078\n",
            "Loss: 0.1061786562204361, Accuracy: 96.78417205810547\n",
            "Loss: 0.15636558830738068, Accuracy: 95.6091537475586\n",
            "Loss: 0.199967622756958, Accuracy: 95.23809814453125\n",
            "Loss: 0.20386594533920288, Accuracy: 94.86703491210938\n",
            "Loss: 0.13652555644512177, Accuracy: 96.4749526977539\n",
            "Loss: 0.07123836874961853, Accuracy: 97.83550262451172\n",
            "Loss: 0.05351061001420021, Accuracy: 98.70130157470703\n",
            "Loss: 0.05098956450819969, Accuracy: 98.45392608642578\n",
            "Loss: 0.061647169291973114, Accuracy: 97.95918273925781\n",
            "Loss: 0.0833161398768425, Accuracy: 97.52628326416016\n",
            "Loss: 0.08300711214542389, Accuracy: 97.40259552001953\n",
            "Loss: 0.0673605352640152, Accuracy: 98.08287048339844\n",
            "Loss: 0.05973511189222336, Accuracy: 97.95918273925781\n",
            "Loss: 0.05374269187450409, Accuracy: 98.33023834228516\n",
            "Loss: 0.05109085142612457, Accuracy: 98.08287048339844\n",
            "Loss: 0.04327680543065071, Accuracy: 98.08287048339844\n",
            "Loss: 0.04063127189874649, Accuracy: 98.20655822753906\n",
            "Loss: 0.04091223329305649, Accuracy: 98.39208221435547\n",
            "Loss: 0.04049944877624512, Accuracy: 98.5776138305664\n",
            "Loss: 0.039494115859270096, Accuracy: 98.5157699584961\n",
            "Loss: 0.03695531561970711, Accuracy: 98.76314544677734\n",
            "Loss: 0.03540462255477905, Accuracy: 98.82498168945312\n",
            "Loss: 0.03530627116560936, Accuracy: 99.07235717773438\n",
            "Loss: 0.04227680712938309, Accuracy: 98.76314544677734\n",
            "Loss: 0.046709708869457245, Accuracy: 98.76314544677734\n",
            "Loss: 0.04652634635567665, Accuracy: 98.5157699584961\n",
            "Loss: 0.048477016389369965, Accuracy: 98.76314544677734\n",
            "Loss: 0.05184544622898102, Accuracy: 98.70130157470703\n",
            "Loss: 0.05433916300535202, Accuracy: 98.63945770263672\n",
            "Loss: 0.048892609775066376, Accuracy: 98.63945770263672\n",
            "Loss: 0.04364229366183281, Accuracy: 98.76314544677734\n",
            "Loss: 0.038588374853134155, Accuracy: 98.76314544677734\n",
            "Loss: 0.03443746641278267, Accuracy: 99.07235717773438\n",
            "Loss: 0.033011294901371, Accuracy: 99.01051330566406\n",
            "Loss: 0.04066165164113045, Accuracy: 98.5776138305664\n",
            "Loss: 0.03960075601935387, Accuracy: 98.5776138305664\n",
            "Loss: 0.04472580552101135, Accuracy: 98.70130157470703\n",
            "Loss: 0.044295310974121094, Accuracy: 98.76314544677734\n",
            "Loss: 0.04076860472559929, Accuracy: 98.82498168945312\n",
            "Loss: 0.0356026217341423, Accuracy: 98.94866943359375\n",
            "Loss: 0.035994645208120346, Accuracy: 98.76314544677734\n",
            "Loss: 0.04123321920633316, Accuracy: 98.70130157470703\n",
            "Loss: 0.028298962861299515, Accuracy: 99.19603729248047\n",
            "Loss: 0.02714901603758335, Accuracy: 99.19603729248047\n",
            "Loss: 0.030690044164657593, Accuracy: 99.01051330566406\n",
            "Loss: 0.038912415504455566, Accuracy: 98.70130157470703\n",
            "Loss: 0.04256391525268555, Accuracy: 98.5776138305664\n",
            "Loss: 0.037737611681222916, Accuracy: 98.5776138305664\n",
            "Loss: 0.028160832822322845, Accuracy: 99.3197250366211\n",
            "Loss: 0.03750074282288551, Accuracy: 98.82498168945312\n",
            "Loss: 0.06592371314764023, Accuracy: 98.02102661132812\n",
            "Loss: 0.08703026175498962, Accuracy: 97.46443939208984\n",
            "Loss: 0.07033366709947586, Accuracy: 97.52628326416016\n",
            "Loss: 0.051132965832948685, Accuracy: 97.8973388671875\n",
            "Loss: 0.05589869245886803, Accuracy: 97.8973388671875\n",
            "Loss: 0.04285120964050293, Accuracy: 98.5776138305664\n",
            "Loss: 0.06923601776361465, Accuracy: 97.7118148803711\n",
            "Loss: 0.08686863631010056, Accuracy: 96.96969604492188\n",
            "Loss: 0.08617643266916275, Accuracy: 97.2789077758789\n",
            "Loss: 0.09631886333227158, Accuracy: 97.0933837890625\n",
            "Loss: 0.06887941807508469, Accuracy: 97.95918273925781\n",
            "Loss: 0.04319385811686516, Accuracy: 98.88683319091797\n",
            "Loss: 0.04085523635149002, Accuracy: 98.76314544677734\n",
            "Loss: 0.039634350687265396, Accuracy: 98.76314544677734\n",
            "Loss: 0.04270380362868309, Accuracy: 98.76314544677734\n",
            "Loss: 0.03574848920106888, Accuracy: 98.94866943359375\n",
            "Loss: 0.03555770590901375, Accuracy: 98.94866943359375\n",
            "Loss: 0.04120665788650513, Accuracy: 98.5157699584961\n",
            "Loss: 0.03443514183163643, Accuracy: 98.76314544677734\n",
            "Loss: 0.05197640880942345, Accuracy: 98.26839447021484\n",
            "Loss: 0.09657488763332367, Accuracy: 97.64997100830078\n",
            "Loss: 0.1671343594789505, Accuracy: 95.42362976074219\n",
            "Loss: 0.09678235650062561, Accuracy: 97.15522766113281\n",
            "Loss: 0.05774752423167229, Accuracy: 98.14470672607422\n",
            "Loss: 0.04653860256075859, Accuracy: 98.45392608642578\n",
            "Loss: 0.04703516140580177, Accuracy: 98.5157699584961\n",
            "Loss: 0.0470033660531044, Accuracy: 98.76314544677734\n",
            "Loss: 0.04925735667347908, Accuracy: 98.5776138305664\n",
            "Loss: 0.05206652358174324, Accuracy: 98.39208221435547\n",
            "Loss: 0.05126556009054184, Accuracy: 98.33023834228516\n",
            "Loss: 0.0527128167450428, Accuracy: 98.39208221435547\n",
            "Loss: 0.05583881586790085, Accuracy: 98.39208221435547\n",
            "Loss: 0.04678270220756531, Accuracy: 98.5157699584961\n",
            "Loss: 0.036968909204006195, Accuracy: 98.63945770263672\n",
            "Loss: 0.028099654242396355, Accuracy: 99.13420104980469\n",
            "Loss: 0.028361456468701363, Accuracy: 99.13420104980469\n",
            "Loss: 0.035824790596961975, Accuracy: 99.07235717773438\n",
            "Loss: 0.04166901111602783, Accuracy: 99.01051330566406\n",
            "Loss: 0.050761878490448, Accuracy: 98.76314544677734\n",
            "Loss: 0.05161106586456299, Accuracy: 98.5776138305664\n",
            "Loss: 0.043414611369371414, Accuracy: 98.88683319091797\n",
            "Loss: 0.04090414196252823, Accuracy: 98.70130157470703\n",
            "Loss: 0.033229660242795944, Accuracy: 98.63945770263672\n",
            "Loss: 0.024255886673927307, Accuracy: 99.3815689086914\n",
            "Loss: 0.04164838045835495, Accuracy: 98.08287048339844\n",
            "Loss: 0.08057037740945816, Accuracy: 97.15522766113281\n",
            "Loss: 0.14216472208499908, Accuracy: 95.6091537475586\n",
            "Loss: 0.161500945687294, Accuracy: 95.29993438720703\n",
            "Loss: 0.10800988972187042, Accuracy: 97.03153991699219\n",
            "Loss: 0.04289493337273598, Accuracy: 98.45392608642578\n",
            "Loss: 0.038269102573394775, Accuracy: 98.5776138305664\n",
            "Loss: 0.05665363743901253, Accuracy: 98.26839447021484\n",
            "Loss: 0.061463553458452225, Accuracy: 98.08287048339844\n",
            "Loss: 0.06848181039094925, Accuracy: 98.20655822753906\n",
            "Loss: 0.10206987708806992, Accuracy: 97.34075927734375\n",
            "Loss: 0.16303469240665436, Accuracy: 96.04205322265625\n",
            "Loss: 0.20635652542114258, Accuracy: 94.86703491210938\n",
            "Loss: 0.15527138113975525, Accuracy: 96.04205322265625\n",
            "Loss: 0.0907604843378067, Accuracy: 97.2789077758789\n",
            "Loss: 0.06753884255886078, Accuracy: 97.7118148803711\n",
            "Loss: 0.08484308421611786, Accuracy: 96.84600830078125\n",
            "Loss: 0.12860123813152313, Accuracy: 96.2894287109375\n",
            "Loss: 0.1700468212366104, Accuracy: 96.04205322265625\n",
            "Loss: 0.1525026261806488, Accuracy: 96.4749526977539\n",
            "Loss: 0.11117014288902283, Accuracy: 96.96969604492188\n",
            "Loss: 0.05401008203625679, Accuracy: 98.14470672607422\n",
            "Loss: 0.03904211148619652, Accuracy: 98.76314544677734\n",
            "Loss: 0.08010239899158478, Accuracy: 97.83550262451172\n",
            "Loss: 0.1224275529384613, Accuracy: 96.53679656982422\n",
            "Loss: 0.17485946416854858, Accuracy: 95.11441040039062\n",
            "Loss: 0.0974765345454216, Accuracy: 96.53679656982422\n",
            "Loss: 0.07063562422990799, Accuracy: 97.52628326416016\n",
            "Loss: 0.06040356308221817, Accuracy: 98.33023834228516\n",
            "Loss: 0.07652804255485535, Accuracy: 97.64997100830078\n",
            "Loss: 0.1028442308306694, Accuracy: 97.03153991699219\n",
            "Loss: 0.126609668135643, Accuracy: 96.90785217285156\n",
            "Loss: 0.1319218873977661, Accuracy: 96.96969604492188\n",
            "Loss: 0.155544713139534, Accuracy: 96.4131088256836\n",
            "Loss: 0.17510545253753662, Accuracy: 95.79468536376953\n",
            "Loss: 0.1870090812444687, Accuracy: 95.54730987548828\n",
            "Loss: 0.19046492874622345, Accuracy: 95.54730987548828\n",
            "Loss: 0.15526916086673737, Accuracy: 96.10389709472656\n",
            "Loss: 0.11255838721990585, Accuracy: 96.59864044189453\n",
            "Loss: 0.09032639116048813, Accuracy: 96.96969604492188\n",
            "Loss: 0.09645373374223709, Accuracy: 97.34075927734375\n",
            "Loss: 0.13828256726264954, Accuracy: 95.85652160644531\n",
            "Loss: 0.1848304122686386, Accuracy: 95.05256652832031\n",
            "Loss: 0.13443873822689056, Accuracy: 96.04205322265625\n",
            "Loss: 0.08592474460601807, Accuracy: 97.34075927734375\n",
            "Loss: 0.05571286752820015, Accuracy: 98.26839447021484\n",
            "Loss: 0.060186855494976044, Accuracy: 98.08287048339844\n",
            "Loss: 0.09523549675941467, Accuracy: 96.96969604492188\n",
            "Loss: 0.07305265963077545, Accuracy: 97.46443939208984\n",
            "Loss: 0.047274962067604065, Accuracy: 98.08287048339844\n",
            "Loss: 0.04754076153039932, Accuracy: 98.5157699584961\n",
            "Loss: 0.03310786932706833, Accuracy: 99.01051330566406\n",
            "Loss: 0.04692116007208824, Accuracy: 98.33023834228516\n",
            "Loss: 0.07861154526472092, Accuracy: 97.15522766113281\n",
            "Loss: 0.09640102833509445, Accuracy: 96.66048431396484\n",
            "Loss: 0.10548523813486099, Accuracy: 96.53679656982422\n",
            "Loss: 0.12313615530729294, Accuracy: 96.4131088256836\n",
            "Loss: 0.11148396134376526, Accuracy: 96.2894287109375\n",
            "Loss: 0.0897599533200264, Accuracy: 97.40259552001953\n",
            "Loss: 0.05705254152417183, Accuracy: 98.08287048339844\n",
            "Loss: 0.028349433094263077, Accuracy: 99.13420104980469\n",
            "Loss: 0.025619253516197205, Accuracy: 99.3197250366211\n",
            "Loss: 0.031508903950452805, Accuracy: 99.25788879394531\n",
            "Loss: 0.039497166872024536, Accuracy: 98.82498168945312\n",
            "Loss: 0.054259758442640305, Accuracy: 98.14470672607422\n",
            "Loss: 0.06987351179122925, Accuracy: 97.95918273925781\n",
            "Loss: 0.08758825063705444, Accuracy: 97.46443939208984\n",
            "Loss: 0.054016098380088806, Accuracy: 98.5157699584961\n",
            "Loss: 0.04793162643909454, Accuracy: 98.88683319091797\n",
            "Loss: 0.04119570925831795, Accuracy: 98.82498168945312\n",
            "Loss: 0.05575108528137207, Accuracy: 98.5157699584961\n",
            "Loss: 0.10001179575920105, Accuracy: 96.90785217285156\n",
            "Loss: 0.13180115818977356, Accuracy: 96.16574096679688\n",
            "Loss: 0.11887525022029877, Accuracy: 96.66048431396484\n",
            "Loss: 0.09646405279636383, Accuracy: 96.90785217285156\n",
            "Loss: 0.07675644010305405, Accuracy: 97.64997100830078\n",
            "Loss: 0.06051783263683319, Accuracy: 98.08287048339844\n",
            "Loss: 0.04216473177075386, Accuracy: 98.26839447021484\n",
            "Loss: 0.034156717360019684, Accuracy: 98.5157699584961\n",
            "Loss: 0.03286077454686165, Accuracy: 98.5776138305664\n",
            "Loss: 0.047165755182504654, Accuracy: 98.20655822753906\n",
            "Loss: 0.06367883086204529, Accuracy: 97.83550262451172\n",
            "Loss: 0.0742754191160202, Accuracy: 97.34075927734375\n",
            "Loss: 0.04723668098449707, Accuracy: 98.14470672607422\n",
            "Loss: 0.053001768887043, Accuracy: 98.33023834228516\n",
            "Loss: 0.07986713200807571, Accuracy: 97.52628326416016\n",
            "Loss: 0.0905463844537735, Accuracy: 97.0933837890625\n",
            "Loss: 0.0927325189113617, Accuracy: 97.52628326416016\n",
            "Loss: 0.12495138496160507, Accuracy: 97.2789077758789\n",
            "Loss: 0.11805972456932068, Accuracy: 97.46443939208984\n",
            "Loss: 0.0986858457326889, Accuracy: 97.64997100830078\n",
            "Loss: 0.08746176213026047, Accuracy: 97.64997100830078\n",
            "Loss: 0.07212351262569427, Accuracy: 98.08287048339844\n",
            "Loss: 0.04382847622036934, Accuracy: 98.63945770263672\n",
            "Loss: 0.026129893958568573, Accuracy: 99.3197250366211\n",
            "Loss: 0.017375817522406578, Accuracy: 99.25788879394531\n",
            "Loss: 0.015114810317754745, Accuracy: 99.3815689086914\n",
            "Loss: 0.02013428881764412, Accuracy: 99.3197250366211\n",
            "Loss: 0.02620067074894905, Accuracy: 98.94866943359375\n",
            "Loss: 0.03831205889582634, Accuracy: 98.45392608642578\n",
            "Loss: 0.04586457088589668, Accuracy: 98.5157699584961\n",
            "Loss: 0.06238635256886482, Accuracy: 98.26839447021484\n",
            "Loss: 0.05223067104816437, Accuracy: 98.26839447021484\n",
            "Loss: 0.05425908416509628, Accuracy: 98.63945770263672\n",
            "Loss: 0.05535615608096123, Accuracy: 98.39208221435547\n",
            "Loss: 0.05595366284251213, Accuracy: 98.45392608642578\n",
            "Loss: 0.05705031380057335, Accuracy: 98.70130157470703\n",
            "Loss: 0.03141746297478676, Accuracy: 99.01051330566406\n",
            "Loss: 0.025022970512509346, Accuracy: 99.07235717773438\n",
            "Loss: 0.0315537303686142, Accuracy: 98.94866943359375\n",
            "Loss: 0.045739106833934784, Accuracy: 98.70130157470703\n",
            "Loss: 0.059551212936639786, Accuracy: 98.39208221435547\n",
            "Loss: 0.07670541852712631, Accuracy: 97.7118148803711\n",
            "Loss: 0.06310785561800003, Accuracy: 98.39208221435547\n",
            "Loss: 0.050604794174432755, Accuracy: 98.5157699584961\n",
            "Loss: 0.04485933855175972, Accuracy: 98.70130157470703\n",
            "Loss: 0.0382116436958313, Accuracy: 98.82498168945312\n",
            "Loss: 0.026102324947714806, Accuracy: 99.19603729248047\n",
            "Loss: 0.025056641548871994, Accuracy: 99.3197250366211\n",
            "Loss: 0.031172415241599083, Accuracy: 99.13420104980469\n",
            "Loss: 0.04573819786310196, Accuracy: 98.5776138305664\n",
            "Loss: 0.06939996033906937, Accuracy: 98.20655822753906\n",
            "Loss: 0.09138999879360199, Accuracy: 97.34075927734375\n",
            "Loss: 0.08480913937091827, Accuracy: 97.52628326416016\n",
            "Loss: 0.08821985125541687, Accuracy: 97.46443939208984\n",
            "Loss: 0.06640653312206268, Accuracy: 98.08287048339844\n",
            "Loss: 0.04058618098497391, Accuracy: 98.82498168945312\n",
            "Loss: 0.02466885931789875, Accuracy: 99.07235717773438\n",
            "Loss: 0.017554238438606262, Accuracy: 99.50525665283203\n",
            "Loss: 0.018497377634048462, Accuracy: 99.62894439697266\n",
            "Loss: 0.026034759357571602, Accuracy: 99.19603729248047\n",
            "Loss: 0.05343569070100784, Accuracy: 98.45392608642578\n",
            "Loss: 0.08102352172136307, Accuracy: 97.46443939208984\n",
            "Loss: 0.10331684350967407, Accuracy: 96.78417205810547\n",
            "Loss: 0.10861209034919739, Accuracy: 96.72232055664062\n",
            "Loss: 0.0757545456290245, Accuracy: 97.8973388671875\n",
            "Loss: 0.050366710871458054, Accuracy: 98.5157699584961\n",
            "Loss: 0.04049052298069, Accuracy: 98.82498168945312\n",
            "Loss: 0.04377855733036995, Accuracy: 98.76314544677734\n",
            "Loss: 0.04342179000377655, Accuracy: 98.76314544677734\n",
            "Loss: 0.03089006245136261, Accuracy: 99.19603729248047\n",
            "Loss: 0.025473935529589653, Accuracy: 99.3197250366211\n",
            "Loss: 0.02545309253036976, Accuracy: 99.3815689086914\n",
            "Loss: 0.027429750189185143, Accuracy: 99.3197250366211\n",
            "Loss: 0.02850942499935627, Accuracy: 99.19603729248047\n",
            "Loss: 0.028733545914292336, Accuracy: 99.3197250366211\n",
            "Loss: 0.029794063419103622, Accuracy: 99.3197250366211\n",
            "Loss: 0.030239911749958992, Accuracy: 99.25788879394531\n",
            "Loss: 0.026091359555721283, Accuracy: 99.13420104980469\n",
            "Loss: 0.019762910902500153, Accuracy: 99.25788879394531\n",
            "Loss: 0.01587696187198162, Accuracy: 99.44341278076172\n",
            "Loss: 0.013433660380542278, Accuracy: 99.69078063964844\n",
            "Loss: 0.013180541805922985, Accuracy: 99.62894439697266\n",
            "Loss: 0.018619047477841377, Accuracy: 99.44341278076172\n",
            "Loss: 0.023656193166971207, Accuracy: 99.25788879394531\n",
            "Loss: 0.029126551002264023, Accuracy: 99.07235717773438\n",
            "Loss: 0.037773407995700836, Accuracy: 98.5157699584961\n"
          ]
        }
      ],
      "source": [
        "model = DigitsLogistic()\n",
        "opt = optim.Adam(model.parameters(), lr=lr)\n",
        "\n",
        "for epoch in range(epochs):\n",
        "  for X_curr, y_curr in train_dl:\n",
        "\n",
        "    y_pred_curr = model(X_curr)\n",
        "    loss = loss_func(y_pred_curr, y_curr)\n",
        "\n",
        "    loss.backward()\n",
        "    opt.step()\n",
        "    opt.zero_grad()\n",
        "\n",
        "    print(\n",
        "    f\"Loss: {loss_func(model(X_train), y_train)}, Accuracy: {accuracy(model(X_train), y_train)}\"\n",
        "    )\n"
      ]
    },
    {
      "cell_type": "markdown",
      "metadata": {
        "id": "J_RoAmr7GP-A"
      },
      "source": [
        "Thanks to Pytorch's ``nn.Module``, ``nn.Parameter``, ``Dataset``, and ``DataLoader``,\n",
        "our training loop is now dramatically smaller and easier to understand. Let's\n",
        "now try to add the basic features necessary to create effective models in practice.\n",
        "\n",
        "## Add validation\n",
        "\n",
        "In section 1, we were just trying to get a reasonable training loop set up for\n",
        "use on our training data.  In reality, you **always** should also have\n",
        "a [validation set](https://www.fast.ai/2017/11/13/validation-sets/), in order\n",
        "to identify if you are overfitting.\n",
        "\n",
        "We'll use a batch size for the validation set that is twice as large as\n",
        "that for the training set. This is because the validation set does not\n",
        "need backpropagation and thus takes less memory (it doesn't need to\n",
        "store the gradients). We take advantage of this to use a larger batch\n",
        "size and compute the loss more quickly by inserting the validation loop in a ``with torch.no_grad():``.\n",
        "\n"
      ]
    },
    {
      "cell_type": "code",
      "execution_count": 114,
      "metadata": {
        "id": "OeNLS88OGP-A"
      },
      "outputs": [],
      "source": [
        "train_ds = TensorDataset(X_train, y_train)\n",
        "train_dl = DataLoader(train_ds, batch_size=bs, shuffle=True)\n",
        "\n",
        "valid_ds = TensorDataset(X_val, y_val)\n",
        "valid_dl = DataLoader(valid_ds, batch_size=bs * 2) # Non need to shuffle the Validation set"
      ]
    },
    {
      "cell_type": "markdown",
      "metadata": {
        "id": "1KoFuQxUGP-A"
      },
      "source": [
        "We will calculate and print the validation loss at the end of each epoch.\n",
        "\n",
        "(Note that we always call ``model.train()`` before training, and ``model.eval()``\n",
        "before inference, because these are used by layers such as ``nn.BatchNorm2d``\n",
        "and ``nn.Dropout`` to ensure appropriate behaviour for these different phases.)\n",
        "\n"
      ]
    },
    {
      "cell_type": "code",
      "execution_count": 110,
      "metadata": {},
      "outputs": [
        {
          "data": {
            "text/plain": [
              "torch.optim.adam.Adam"
            ]
          },
          "execution_count": 110,
          "metadata": {},
          "output_type": "execute_result"
        }
      ],
      "source": [
        "type(optim.Adam(model.parameters()))"
      ]
    },
    {
      "cell_type": "code",
      "execution_count": 129,
      "metadata": {
        "colab": {
          "base_uri": "https://localhost:8080/"
        },
        "id": "YGVGM59HGP-A",
        "outputId": "c183158f-eb22-4112-fe79-26b0fab02c8f"
      },
      "outputs": [
        {
          "name": "stdout",
          "output_type": "stream",
          "text": [
            "Epoch 0: Val Loss 0.48, Val Acc: 88.37\n",
            "Epoch 1: Val Loss 0.32, Val Acc: 91.75\n",
            "Epoch 2: Val Loss 0.24, Val Acc: 93.02\n",
            "Epoch 3: Val Loss 0.20, Val Acc: 93.80\n",
            "Epoch 4: Val Loss 0.17, Val Acc: 94.61\n",
            "Epoch 5: Val Loss 0.17, Val Acc: 94.86\n",
            "Epoch 6: Val Loss 0.17, Val Acc: 94.71\n",
            "Epoch 7: Val Loss 0.16, Val Acc: 94.94\n",
            "Epoch 8: Val Loss 0.15, Val Acc: 95.26\n",
            "Epoch 9: Val Loss 0.14, Val Acc: 95.41\n",
            "Epoch 10: Val Loss 0.13, Val Acc: 95.72\n",
            "Epoch 11: Val Loss 0.12, Val Acc: 95.96\n",
            "Epoch 12: Val Loss 0.12, Val Acc: 96.14\n",
            "Epoch 13: Val Loss 0.12, Val Acc: 96.33\n",
            "Epoch 14: Val Loss 0.13, Val Acc: 96.24\n",
            "Epoch 15: Val Loss 0.13, Val Acc: 96.20\n",
            "Epoch 16: Val Loss 0.12, Val Acc: 96.34\n",
            "Epoch 17: Val Loss 0.12, Val Acc: 96.37\n",
            "Epoch 18: Val Loss 0.12, Val Acc: 96.48\n",
            "Epoch 19: Val Loss 0.11, Val Acc: 96.60\n",
            "Epoch 20: Val Loss 0.11, Val Acc: 96.68\n",
            "Epoch 21: Val Loss 0.12, Val Acc: 96.57\n",
            "Epoch 22: Val Loss 0.11, Val Acc: 96.62\n",
            "Epoch 23: Val Loss 0.11, Val Acc: 96.66\n",
            "Epoch 24: Val Loss 0.12, Val Acc: 96.65\n",
            "Epoch 25: Val Loss 0.12, Val Acc: 96.65\n",
            "Epoch 26: Val Loss 0.12, Val Acc: 96.64\n",
            "Epoch 27: Val Loss 0.13, Val Acc: 96.52\n",
            "Epoch 28: Val Loss 0.13, Val Acc: 96.53\n",
            "Epoch 29: Val Loss 0.13, Val Acc: 96.55\n",
            "Epoch 30: Val Loss 0.14, Val Acc: 96.57\n",
            "Epoch 31: Val Loss 0.14, Val Acc: 96.50\n",
            "Epoch 32: Val Loss 0.14, Val Acc: 96.58\n",
            "Epoch 33: Val Loss 0.14, Val Acc: 96.59\n",
            "Epoch 34: Val Loss 0.15, Val Acc: 96.57\n",
            "Epoch 35: Val Loss 0.15, Val Acc: 96.63\n",
            "Epoch 36: Val Loss 0.15, Val Acc: 96.64\n",
            "Epoch 37: Val Loss 0.15, Val Acc: 96.63\n",
            "Epoch 38: Val Loss 0.15, Val Acc: 96.67\n",
            "Epoch 39: Val Loss 0.14, Val Acc: 96.72\n",
            "Epoch 40: Val Loss 0.14, Val Acc: 96.71\n",
            "Epoch 41: Val Loss 0.15, Val Acc: 96.72\n",
            "Epoch 42: Val Loss 0.14, Val Acc: 96.74\n",
            "Epoch 43: Val Loss 0.15, Val Acc: 96.75\n",
            "Epoch 44: Val Loss 0.15, Val Acc: 96.78\n",
            "Epoch 45: Val Loss 0.14, Val Acc: 96.81\n",
            "Epoch 46: Val Loss 0.14, Val Acc: 96.83\n",
            "Epoch 47: Val Loss 0.14, Val Acc: 96.88\n",
            "Epoch 48: Val Loss 0.14, Val Acc: 96.88\n",
            "Epoch 49: Val Loss 0.14, Val Acc: 96.89\n",
            "Epoch 50: Val Loss 0.14, Val Acc: 96.93\n",
            "Epoch 51: Val Loss 0.14, Val Acc: 96.94\n",
            "Epoch 52: Val Loss 0.14, Val Acc: 96.96\n",
            "Epoch 53: Val Loss 0.14, Val Acc: 96.98\n",
            "Epoch 54: Val Loss 0.14, Val Acc: 97.00\n",
            "Epoch 55: Val Loss 0.15, Val Acc: 97.00\n",
            "Epoch 56: Val Loss 0.14, Val Acc: 97.03\n",
            "Epoch 57: Val Loss 0.14, Val Acc: 97.03\n",
            "Epoch 58: Val Loss 0.14, Val Acc: 97.05\n",
            "Epoch 59: Val Loss 0.14, Val Acc: 97.09\n",
            "Epoch 60: Val Loss 0.14, Val Acc: 97.11\n",
            "Epoch 61: Val Loss 0.14, Val Acc: 97.12\n",
            "Epoch 62: Val Loss 0.14, Val Acc: 97.15\n",
            "Epoch 63: Val Loss 0.14, Val Acc: 97.14\n",
            "Epoch 64: Val Loss 0.14, Val Acc: 97.16\n",
            "Epoch 65: Val Loss 0.14, Val Acc: 97.17\n",
            "Epoch 66: Val Loss 0.14, Val Acc: 97.18\n",
            "Epoch 67: Val Loss 0.14, Val Acc: 97.18\n",
            "Epoch 68: Val Loss 0.14, Val Acc: 97.20\n",
            "Epoch 69: Val Loss 0.14, Val Acc: 97.19\n",
            "Epoch 70: Val Loss 0.14, Val Acc: 97.19\n",
            "Epoch 71: Val Loss 0.15, Val Acc: 97.19\n",
            "Epoch 72: Val Loss 0.15, Val Acc: 97.20\n",
            "Epoch 73: Val Loss 0.15, Val Acc: 97.22\n",
            "Epoch 74: Val Loss 0.14, Val Acc: 97.22\n",
            "Epoch 75: Val Loss 0.14, Val Acc: 97.25\n",
            "Epoch 76: Val Loss 0.14, Val Acc: 97.27\n",
            "Epoch 77: Val Loss 0.14, Val Acc: 97.26\n",
            "Epoch 78: Val Loss 0.15, Val Acc: 97.27\n",
            "Epoch 79: Val Loss 0.15, Val Acc: 97.28\n",
            "Epoch 80: Val Loss 0.15, Val Acc: 97.29\n",
            "Epoch 81: Val Loss 0.15, Val Acc: 97.28\n",
            "Epoch 82: Val Loss 0.15, Val Acc: 97.27\n",
            "Epoch 83: Val Loss 0.15, Val Acc: 97.26\n",
            "Epoch 84: Val Loss 0.15, Val Acc: 97.26\n",
            "Epoch 85: Val Loss 0.15, Val Acc: 97.25\n",
            "Epoch 86: Val Loss 0.15, Val Acc: 97.24\n",
            "Epoch 87: Val Loss 0.15, Val Acc: 97.25\n",
            "Epoch 88: Val Loss 0.15, Val Acc: 97.25\n",
            "Epoch 89: Val Loss 0.15, Val Acc: 97.25\n",
            "Epoch 90: Val Loss 0.15, Val Acc: 97.25\n",
            "Epoch 91: Val Loss 0.15, Val Acc: 97.26\n",
            "Epoch 92: Val Loss 0.15, Val Acc: 97.26\n",
            "Epoch 93: Val Loss 0.15, Val Acc: 97.26\n",
            "Epoch 94: Val Loss 0.15, Val Acc: 97.26\n",
            "Epoch 95: Val Loss 0.15, Val Acc: 97.27\n",
            "Epoch 96: Val Loss 0.15, Val Acc: 97.27\n",
            "Epoch 97: Val Loss 0.15, Val Acc: 97.27\n",
            "Epoch 98: Val Loss 0.15, Val Acc: 97.27\n",
            "Epoch 99: Val Loss 0.15, Val Acc: 97.27\n"
          ]
        },
        {
          "data": {
            "application/vnd.plotly.v1+json": {
              "config": {
                "plotlyServerURL": "https://plot.ly"
              },
              "data": [
                {
                  "hovertemplate": "index=%{x}<br>valid_acc=%{y}<extra></extra>",
                  "legendgroup": "",
                  "line": {
                    "color": "#636efa",
                    "dash": "solid"
                  },
                  "marker": {
                    "symbol": "circle"
                  },
                  "mode": "lines",
                  "name": "",
                  "orientation": "v",
                  "showlegend": false,
                  "type": "scatter",
                  "x": [
                    0,
                    1,
                    2,
                    3,
                    4,
                    5,
                    6,
                    7,
                    8,
                    9,
                    10,
                    11,
                    12,
                    13,
                    14,
                    15,
                    16,
                    17,
                    18,
                    19,
                    20,
                    21,
                    22,
                    23,
                    24,
                    25,
                    26,
                    27,
                    28,
                    29,
                    30,
                    31,
                    32,
                    33,
                    34,
                    35,
                    36,
                    37,
                    38,
                    39,
                    40,
                    41,
                    42,
                    43,
                    44,
                    45,
                    46,
                    47,
                    48,
                    49,
                    50,
                    51,
                    52,
                    53,
                    54,
                    55,
                    56,
                    57,
                    58,
                    59,
                    60,
                    61,
                    62,
                    63,
                    64,
                    65,
                    66,
                    67,
                    68,
                    69,
                    70,
                    71,
                    72,
                    73,
                    74,
                    75,
                    76,
                    77,
                    78,
                    79,
                    80,
                    81,
                    82,
                    83,
                    84,
                    85,
                    86,
                    87,
                    88,
                    89,
                    90,
                    91,
                    92,
                    93,
                    94,
                    95,
                    96,
                    97,
                    98,
                    99,
                    100,
                    101,
                    102,
                    103,
                    104,
                    105,
                    106,
                    107,
                    108,
                    109,
                    110,
                    111,
                    112,
                    113,
                    114,
                    115,
                    116,
                    117,
                    118,
                    119,
                    120,
                    121,
                    122,
                    123,
                    124,
                    125,
                    126,
                    127,
                    128,
                    129,
                    130,
                    131,
                    132,
                    133,
                    134,
                    135,
                    136,
                    137,
                    138,
                    139,
                    140,
                    141,
                    142,
                    143,
                    144,
                    145,
                    146,
                    147,
                    148,
                    149,
                    150,
                    151,
                    152,
                    153,
                    154,
                    155,
                    156,
                    157,
                    158,
                    159,
                    160,
                    161,
                    162,
                    163,
                    164,
                    165,
                    166,
                    167,
                    168,
                    169,
                    170,
                    171,
                    172,
                    173,
                    174,
                    175,
                    176,
                    177,
                    178,
                    179,
                    180,
                    181,
                    182,
                    183,
                    184,
                    185,
                    186,
                    187,
                    188,
                    189,
                    190,
                    191,
                    192,
                    193,
                    194,
                    195,
                    196,
                    197,
                    198,
                    199
                  ],
                  "xaxis": "x",
                  "y": [
                    88.28125,
                    88.46153259277344,
                    92.1875,
                    98.07691955566406,
                    96.875,
                    94.23077392578125,
                    96.09375,
                    96.15384674072266,
                    97.65625,
                    98.07691955566406,
                    96.09375,
                    96.15384674072266,
                    95.3125,
                    92.30769348144531,
                    96.875,
                    96.15384674072266,
                    97.65625,
                    98.07691955566406,
                    99.21875,
                    94.23077392578125,
                    97.65625,
                    100,
                    99.21875,
                    98.07691955566406,
                    98.4375,
                    98.07691955566406,
                    97.65625,
                    100,
                    97.65625,
                    92.30769348144531,
                    96.875,
                    94.23077392578125,
                    99.21875,
                    98.07691955566406,
                    97.65625,
                    96.15384674072266,
                    96.875,
                    100,
                    97.65625,
                    100,
                    98.4375,
                    98.07691955566406,
                    94.53125,
                    94.23077392578125,
                    99.21875,
                    96.15384674072266,
                    96.875,
                    98.07691955566406,
                    96.875,
                    96.15384674072266,
                    96.875,
                    96.15384674072266,
                    96.875,
                    96.15384674072266,
                    96.09375,
                    90.38461303710938,
                    95.3125,
                    98.07691955566406,
                    96.09375,
                    98.07691955566406,
                    98.4375,
                    96.15384674072266,
                    96.09375,
                    92.30769348144531,
                    98.4375,
                    100,
                    96.09375,
                    98.07691955566406,
                    95.3125,
                    96.15384674072266,
                    97.65625,
                    100,
                    97.65625,
                    96.15384674072266,
                    98.4375,
                    94.23077392578125,
                    98.4375,
                    98.07691955566406,
                    99.21875,
                    98.07691955566406,
                    96.09375,
                    96.15384674072266,
                    96.09375,
                    98.07691955566406,
                    97.65625,
                    98.07691955566406,
                    97.65625,
                    96.15384674072266,
                    98.4375,
                    98.07691955566406,
                    98.4375,
                    98.07691955566406,
                    97.65625,
                    98.07691955566406,
                    98.4375,
                    100,
                    96.875,
                    96.15384674072266,
                    96.875,
                    98.07691955566406,
                    97.65625,
                    100,
                    97.65625,
                    98.07691955566406,
                    97.65625,
                    98.07691955566406,
                    97.65625,
                    98.07691955566406,
                    97.65625,
                    98.07691955566406,
                    96.875,
                    98.07691955566406,
                    98.4375,
                    98.07691955566406,
                    96.875,
                    98.07691955566406,
                    98.4375,
                    98.07691955566406,
                    98.4375,
                    100,
                    98.4375,
                    98.07691955566406,
                    96.09375,
                    100,
                    97.65625,
                    100,
                    95.3125,
                    98.07691955566406,
                    96.09375,
                    100,
                    99.21875,
                    96.15384674072266,
                    96.09375,
                    100,
                    96.875,
                    98.07691955566406,
                    96.875,
                    100,
                    98.4375,
                    94.23077392578125,
                    97.65625,
                    96.15384674072266,
                    96.875,
                    98.07691955566406,
                    97.65625,
                    98.07691955566406,
                    97.65625,
                    100,
                    96.875,
                    98.07691955566406,
                    97.65625,
                    100,
                    97.65625,
                    100,
                    96.09375,
                    98.07691955566406,
                    97.65625,
                    98.07691955566406,
                    97.65625,
                    98.07691955566406,
                    97.65625,
                    98.07691955566406,
                    96.875,
                    96.15384674072266,
                    96.875,
                    96.15384674072266,
                    96.875,
                    96.15384674072266,
                    96.875,
                    98.07691955566406,
                    96.875,
                    96.15384674072266,
                    96.875,
                    96.15384674072266,
                    96.875,
                    98.07691955566406,
                    96.875,
                    98.07691955566406,
                    96.875,
                    98.07691955566406,
                    96.875,
                    98.07691955566406,
                    96.875,
                    98.07691955566406,
                    96.875,
                    98.07691955566406,
                    96.875,
                    98.07691955566406,
                    96.875,
                    98.07691955566406,
                    96.875,
                    98.07691955566406,
                    96.875,
                    98.07691955566406,
                    96.875,
                    98.07691955566406,
                    96.875,
                    98.07691955566406,
                    96.875,
                    98.07691955566406
                  ],
                  "yaxis": "y"
                }
              ],
              "layout": {
                "legend": {
                  "tracegroupgap": 0
                },
                "margin": {
                  "t": 60
                },
                "template": {
                  "data": {
                    "bar": [
                      {
                        "error_x": {
                          "color": "#2a3f5f"
                        },
                        "error_y": {
                          "color": "#2a3f5f"
                        },
                        "marker": {
                          "line": {
                            "color": "#E5ECF6",
                            "width": 0.5
                          },
                          "pattern": {
                            "fillmode": "overlay",
                            "size": 10,
                            "solidity": 0.2
                          }
                        },
                        "type": "bar"
                      }
                    ],
                    "barpolar": [
                      {
                        "marker": {
                          "line": {
                            "color": "#E5ECF6",
                            "width": 0.5
                          },
                          "pattern": {
                            "fillmode": "overlay",
                            "size": 10,
                            "solidity": 0.2
                          }
                        },
                        "type": "barpolar"
                      }
                    ],
                    "carpet": [
                      {
                        "aaxis": {
                          "endlinecolor": "#2a3f5f",
                          "gridcolor": "white",
                          "linecolor": "white",
                          "minorgridcolor": "white",
                          "startlinecolor": "#2a3f5f"
                        },
                        "baxis": {
                          "endlinecolor": "#2a3f5f",
                          "gridcolor": "white",
                          "linecolor": "white",
                          "minorgridcolor": "white",
                          "startlinecolor": "#2a3f5f"
                        },
                        "type": "carpet"
                      }
                    ],
                    "choropleth": [
                      {
                        "colorbar": {
                          "outlinewidth": 0,
                          "ticks": ""
                        },
                        "type": "choropleth"
                      }
                    ],
                    "contour": [
                      {
                        "colorbar": {
                          "outlinewidth": 0,
                          "ticks": ""
                        },
                        "colorscale": [
                          [
                            0,
                            "#0d0887"
                          ],
                          [
                            0.1111111111111111,
                            "#46039f"
                          ],
                          [
                            0.2222222222222222,
                            "#7201a8"
                          ],
                          [
                            0.3333333333333333,
                            "#9c179e"
                          ],
                          [
                            0.4444444444444444,
                            "#bd3786"
                          ],
                          [
                            0.5555555555555556,
                            "#d8576b"
                          ],
                          [
                            0.6666666666666666,
                            "#ed7953"
                          ],
                          [
                            0.7777777777777778,
                            "#fb9f3a"
                          ],
                          [
                            0.8888888888888888,
                            "#fdca26"
                          ],
                          [
                            1,
                            "#f0f921"
                          ]
                        ],
                        "type": "contour"
                      }
                    ],
                    "contourcarpet": [
                      {
                        "colorbar": {
                          "outlinewidth": 0,
                          "ticks": ""
                        },
                        "type": "contourcarpet"
                      }
                    ],
                    "heatmap": [
                      {
                        "colorbar": {
                          "outlinewidth": 0,
                          "ticks": ""
                        },
                        "colorscale": [
                          [
                            0,
                            "#0d0887"
                          ],
                          [
                            0.1111111111111111,
                            "#46039f"
                          ],
                          [
                            0.2222222222222222,
                            "#7201a8"
                          ],
                          [
                            0.3333333333333333,
                            "#9c179e"
                          ],
                          [
                            0.4444444444444444,
                            "#bd3786"
                          ],
                          [
                            0.5555555555555556,
                            "#d8576b"
                          ],
                          [
                            0.6666666666666666,
                            "#ed7953"
                          ],
                          [
                            0.7777777777777778,
                            "#fb9f3a"
                          ],
                          [
                            0.8888888888888888,
                            "#fdca26"
                          ],
                          [
                            1,
                            "#f0f921"
                          ]
                        ],
                        "type": "heatmap"
                      }
                    ],
                    "heatmapgl": [
                      {
                        "colorbar": {
                          "outlinewidth": 0,
                          "ticks": ""
                        },
                        "colorscale": [
                          [
                            0,
                            "#0d0887"
                          ],
                          [
                            0.1111111111111111,
                            "#46039f"
                          ],
                          [
                            0.2222222222222222,
                            "#7201a8"
                          ],
                          [
                            0.3333333333333333,
                            "#9c179e"
                          ],
                          [
                            0.4444444444444444,
                            "#bd3786"
                          ],
                          [
                            0.5555555555555556,
                            "#d8576b"
                          ],
                          [
                            0.6666666666666666,
                            "#ed7953"
                          ],
                          [
                            0.7777777777777778,
                            "#fb9f3a"
                          ],
                          [
                            0.8888888888888888,
                            "#fdca26"
                          ],
                          [
                            1,
                            "#f0f921"
                          ]
                        ],
                        "type": "heatmapgl"
                      }
                    ],
                    "histogram": [
                      {
                        "marker": {
                          "pattern": {
                            "fillmode": "overlay",
                            "size": 10,
                            "solidity": 0.2
                          }
                        },
                        "type": "histogram"
                      }
                    ],
                    "histogram2d": [
                      {
                        "colorbar": {
                          "outlinewidth": 0,
                          "ticks": ""
                        },
                        "colorscale": [
                          [
                            0,
                            "#0d0887"
                          ],
                          [
                            0.1111111111111111,
                            "#46039f"
                          ],
                          [
                            0.2222222222222222,
                            "#7201a8"
                          ],
                          [
                            0.3333333333333333,
                            "#9c179e"
                          ],
                          [
                            0.4444444444444444,
                            "#bd3786"
                          ],
                          [
                            0.5555555555555556,
                            "#d8576b"
                          ],
                          [
                            0.6666666666666666,
                            "#ed7953"
                          ],
                          [
                            0.7777777777777778,
                            "#fb9f3a"
                          ],
                          [
                            0.8888888888888888,
                            "#fdca26"
                          ],
                          [
                            1,
                            "#f0f921"
                          ]
                        ],
                        "type": "histogram2d"
                      }
                    ],
                    "histogram2dcontour": [
                      {
                        "colorbar": {
                          "outlinewidth": 0,
                          "ticks": ""
                        },
                        "colorscale": [
                          [
                            0,
                            "#0d0887"
                          ],
                          [
                            0.1111111111111111,
                            "#46039f"
                          ],
                          [
                            0.2222222222222222,
                            "#7201a8"
                          ],
                          [
                            0.3333333333333333,
                            "#9c179e"
                          ],
                          [
                            0.4444444444444444,
                            "#bd3786"
                          ],
                          [
                            0.5555555555555556,
                            "#d8576b"
                          ],
                          [
                            0.6666666666666666,
                            "#ed7953"
                          ],
                          [
                            0.7777777777777778,
                            "#fb9f3a"
                          ],
                          [
                            0.8888888888888888,
                            "#fdca26"
                          ],
                          [
                            1,
                            "#f0f921"
                          ]
                        ],
                        "type": "histogram2dcontour"
                      }
                    ],
                    "mesh3d": [
                      {
                        "colorbar": {
                          "outlinewidth": 0,
                          "ticks": ""
                        },
                        "type": "mesh3d"
                      }
                    ],
                    "parcoords": [
                      {
                        "line": {
                          "colorbar": {
                            "outlinewidth": 0,
                            "ticks": ""
                          }
                        },
                        "type": "parcoords"
                      }
                    ],
                    "pie": [
                      {
                        "automargin": true,
                        "type": "pie"
                      }
                    ],
                    "scatter": [
                      {
                        "fillpattern": {
                          "fillmode": "overlay",
                          "size": 10,
                          "solidity": 0.2
                        },
                        "type": "scatter"
                      }
                    ],
                    "scatter3d": [
                      {
                        "line": {
                          "colorbar": {
                            "outlinewidth": 0,
                            "ticks": ""
                          }
                        },
                        "marker": {
                          "colorbar": {
                            "outlinewidth": 0,
                            "ticks": ""
                          }
                        },
                        "type": "scatter3d"
                      }
                    ],
                    "scattercarpet": [
                      {
                        "marker": {
                          "colorbar": {
                            "outlinewidth": 0,
                            "ticks": ""
                          }
                        },
                        "type": "scattercarpet"
                      }
                    ],
                    "scattergeo": [
                      {
                        "marker": {
                          "colorbar": {
                            "outlinewidth": 0,
                            "ticks": ""
                          }
                        },
                        "type": "scattergeo"
                      }
                    ],
                    "scattergl": [
                      {
                        "marker": {
                          "colorbar": {
                            "outlinewidth": 0,
                            "ticks": ""
                          }
                        },
                        "type": "scattergl"
                      }
                    ],
                    "scattermapbox": [
                      {
                        "marker": {
                          "colorbar": {
                            "outlinewidth": 0,
                            "ticks": ""
                          }
                        },
                        "type": "scattermapbox"
                      }
                    ],
                    "scatterpolar": [
                      {
                        "marker": {
                          "colorbar": {
                            "outlinewidth": 0,
                            "ticks": ""
                          }
                        },
                        "type": "scatterpolar"
                      }
                    ],
                    "scatterpolargl": [
                      {
                        "marker": {
                          "colorbar": {
                            "outlinewidth": 0,
                            "ticks": ""
                          }
                        },
                        "type": "scatterpolargl"
                      }
                    ],
                    "scatterternary": [
                      {
                        "marker": {
                          "colorbar": {
                            "outlinewidth": 0,
                            "ticks": ""
                          }
                        },
                        "type": "scatterternary"
                      }
                    ],
                    "surface": [
                      {
                        "colorbar": {
                          "outlinewidth": 0,
                          "ticks": ""
                        },
                        "colorscale": [
                          [
                            0,
                            "#0d0887"
                          ],
                          [
                            0.1111111111111111,
                            "#46039f"
                          ],
                          [
                            0.2222222222222222,
                            "#7201a8"
                          ],
                          [
                            0.3333333333333333,
                            "#9c179e"
                          ],
                          [
                            0.4444444444444444,
                            "#bd3786"
                          ],
                          [
                            0.5555555555555556,
                            "#d8576b"
                          ],
                          [
                            0.6666666666666666,
                            "#ed7953"
                          ],
                          [
                            0.7777777777777778,
                            "#fb9f3a"
                          ],
                          [
                            0.8888888888888888,
                            "#fdca26"
                          ],
                          [
                            1,
                            "#f0f921"
                          ]
                        ],
                        "type": "surface"
                      }
                    ],
                    "table": [
                      {
                        "cells": {
                          "fill": {
                            "color": "#EBF0F8"
                          },
                          "line": {
                            "color": "white"
                          }
                        },
                        "header": {
                          "fill": {
                            "color": "#C8D4E3"
                          },
                          "line": {
                            "color": "white"
                          }
                        },
                        "type": "table"
                      }
                    ]
                  },
                  "layout": {
                    "annotationdefaults": {
                      "arrowcolor": "#2a3f5f",
                      "arrowhead": 0,
                      "arrowwidth": 1
                    },
                    "autotypenumbers": "strict",
                    "coloraxis": {
                      "colorbar": {
                        "outlinewidth": 0,
                        "ticks": ""
                      }
                    },
                    "colorscale": {
                      "diverging": [
                        [
                          0,
                          "#8e0152"
                        ],
                        [
                          0.1,
                          "#c51b7d"
                        ],
                        [
                          0.2,
                          "#de77ae"
                        ],
                        [
                          0.3,
                          "#f1b6da"
                        ],
                        [
                          0.4,
                          "#fde0ef"
                        ],
                        [
                          0.5,
                          "#f7f7f7"
                        ],
                        [
                          0.6,
                          "#e6f5d0"
                        ],
                        [
                          0.7,
                          "#b8e186"
                        ],
                        [
                          0.8,
                          "#7fbc41"
                        ],
                        [
                          0.9,
                          "#4d9221"
                        ],
                        [
                          1,
                          "#276419"
                        ]
                      ],
                      "sequential": [
                        [
                          0,
                          "#0d0887"
                        ],
                        [
                          0.1111111111111111,
                          "#46039f"
                        ],
                        [
                          0.2222222222222222,
                          "#7201a8"
                        ],
                        [
                          0.3333333333333333,
                          "#9c179e"
                        ],
                        [
                          0.4444444444444444,
                          "#bd3786"
                        ],
                        [
                          0.5555555555555556,
                          "#d8576b"
                        ],
                        [
                          0.6666666666666666,
                          "#ed7953"
                        ],
                        [
                          0.7777777777777778,
                          "#fb9f3a"
                        ],
                        [
                          0.8888888888888888,
                          "#fdca26"
                        ],
                        [
                          1,
                          "#f0f921"
                        ]
                      ],
                      "sequentialminus": [
                        [
                          0,
                          "#0d0887"
                        ],
                        [
                          0.1111111111111111,
                          "#46039f"
                        ],
                        [
                          0.2222222222222222,
                          "#7201a8"
                        ],
                        [
                          0.3333333333333333,
                          "#9c179e"
                        ],
                        [
                          0.4444444444444444,
                          "#bd3786"
                        ],
                        [
                          0.5555555555555556,
                          "#d8576b"
                        ],
                        [
                          0.6666666666666666,
                          "#ed7953"
                        ],
                        [
                          0.7777777777777778,
                          "#fb9f3a"
                        ],
                        [
                          0.8888888888888888,
                          "#fdca26"
                        ],
                        [
                          1,
                          "#f0f921"
                        ]
                      ]
                    },
                    "colorway": [
                      "#636efa",
                      "#EF553B",
                      "#00cc96",
                      "#ab63fa",
                      "#FFA15A",
                      "#19d3f3",
                      "#FF6692",
                      "#B6E880",
                      "#FF97FF",
                      "#FECB52"
                    ],
                    "font": {
                      "color": "#2a3f5f"
                    },
                    "geo": {
                      "bgcolor": "white",
                      "lakecolor": "white",
                      "landcolor": "#E5ECF6",
                      "showlakes": true,
                      "showland": true,
                      "subunitcolor": "white"
                    },
                    "hoverlabel": {
                      "align": "left"
                    },
                    "hovermode": "closest",
                    "mapbox": {
                      "style": "light"
                    },
                    "paper_bgcolor": "white",
                    "plot_bgcolor": "#E5ECF6",
                    "polar": {
                      "angularaxis": {
                        "gridcolor": "white",
                        "linecolor": "white",
                        "ticks": ""
                      },
                      "bgcolor": "#E5ECF6",
                      "radialaxis": {
                        "gridcolor": "white",
                        "linecolor": "white",
                        "ticks": ""
                      }
                    },
                    "scene": {
                      "xaxis": {
                        "backgroundcolor": "#E5ECF6",
                        "gridcolor": "white",
                        "gridwidth": 2,
                        "linecolor": "white",
                        "showbackground": true,
                        "ticks": "",
                        "zerolinecolor": "white"
                      },
                      "yaxis": {
                        "backgroundcolor": "#E5ECF6",
                        "gridcolor": "white",
                        "gridwidth": 2,
                        "linecolor": "white",
                        "showbackground": true,
                        "ticks": "",
                        "zerolinecolor": "white"
                      },
                      "zaxis": {
                        "backgroundcolor": "#E5ECF6",
                        "gridcolor": "white",
                        "gridwidth": 2,
                        "linecolor": "white",
                        "showbackground": true,
                        "ticks": "",
                        "zerolinecolor": "white"
                      }
                    },
                    "shapedefaults": {
                      "line": {
                        "color": "#2a3f5f"
                      }
                    },
                    "ternary": {
                      "aaxis": {
                        "gridcolor": "white",
                        "linecolor": "white",
                        "ticks": ""
                      },
                      "baxis": {
                        "gridcolor": "white",
                        "linecolor": "white",
                        "ticks": ""
                      },
                      "bgcolor": "#E5ECF6",
                      "caxis": {
                        "gridcolor": "white",
                        "linecolor": "white",
                        "ticks": ""
                      }
                    },
                    "title": {
                      "x": 0.05
                    },
                    "xaxis": {
                      "automargin": true,
                      "gridcolor": "white",
                      "linecolor": "white",
                      "ticks": "",
                      "title": {
                        "standoff": 15
                      },
                      "zerolinecolor": "white",
                      "zerolinewidth": 2
                    },
                    "yaxis": {
                      "automargin": true,
                      "gridcolor": "white",
                      "linecolor": "white",
                      "ticks": "",
                      "title": {
                        "standoff": 15
                      },
                      "zerolinecolor": "white",
                      "zerolinewidth": 2
                    }
                  }
                },
                "xaxis": {
                  "anchor": "y",
                  "domain": [
                    0,
                    1
                  ],
                  "title": {
                    "text": "index"
                  }
                },
                "yaxis": {
                  "anchor": "x",
                  "domain": [
                    0,
                    1
                  ],
                  "title": {
                    "text": "valid_acc"
                  }
                }
              }
            }
          },
          "metadata": {},
          "output_type": "display_data"
        }
      ],
      "source": [
        "from typing import Callable\n",
        "\n",
        "\n",
        "model = DigitsLogistic()\n",
        "opt = optim.Adam(model.parameters(), lr=lr)\n",
        "epochs = 100\n",
        "\n",
        "def fit(\n",
        "  model: nn.Module,\n",
        "  opt: optim.Adam,\n",
        "  epochs: int,\n",
        "  loss_func: Callable,\n",
        "  train_dl: TensorDataset,\n",
        "  valid_dl: TensorDataset,\n",
        "):\n",
        "\n",
        "  valid_losses = []\n",
        "  valid_accs = []\n",
        "  \n",
        "  for epoch in range(epochs):\n",
        "    for X_curr, y_curr in train_dl:\n",
        "      y_pred_curr = model(X_curr)\n",
        "      loss = loss_func(y_pred_curr, y_curr)\n",
        "\n",
        "      loss.backward()\n",
        "      opt.step()\n",
        "      opt.zero_grad()\n",
        "\n",
        "    for X_val_curr, y_val_curr in valid_dl:\n",
        "      valid_loss = float(loss_func(model(X_val_curr), y_val_curr))\n",
        "      valid_losses.append(valid_loss)\n",
        "\n",
        "      acc_loss = accuracy(model(X_val_curr), y_val_curr)\n",
        "      valid_accs.append(acc_loss)\n",
        "\n",
        "    print(\n",
        "      f\"Epoch {epoch}: Val Loss {np.mean(valid_losses):.2f}, \"\n",
        "      f\"Val Acc: {np.mean(valid_accs):.2f}\"\n",
        "    )\n",
        "\n",
        "  df = pd.DataFrame({\"valid_loss\": valid_losses, \"valid_acc\": valid_accs})\n",
        "  px.line(df, y=\"valid_acc\").show()\n",
        "\n",
        "fit(model, opt, epochs, loss_func, train_dl, valid_dl)\n"
      ]
    },
    {
      "cell_type": "markdown",
      "metadata": {
        "id": "ccS_IWFCEPTf"
      },
      "source": [
        "### Saving best model: early stopping\n",
        "It may have happend that the model has reached the highest validation accuracy (and/or lower validation loss) not at the last epoch. It means that the model overfitted the training data.\n",
        "\n",
        "A possible way to avoid this phenomenon is to save the model achieving the best validation accuracy (other possible solutions includes reducing the learning rate and decreasing the number of training epochs).\n",
        "\n",
        "There exists two possible way to do it in pytorch. ``torch.save()`` and ``torch.load()`` can be used with any kind of objects. Torch will serialized this object through pickle. However, if the code generating the object is modified the code might brake in several ways. To avoid this issue, torch provides another couple of functions, ``model.state_dict()`` and ``model.load_state_dict()``, which only save and load the weights of the network.\n",
        "\n",
        "    torch.save(model.state_dict(), \"best_model.pt\")\n",
        "    model.load_state_dict(torch.load(\"best_model.pt\"))\n",
        "\n",
        "For further information on this topic, please read this [tutorial](https://pytorch.org/tutorials/beginner/saving_loading_models.html). \n"
      ]
    },
    {
      "cell_type": "code",
      "execution_count": 136,
      "metadata": {
        "colab": {
          "base_uri": "https://localhost:8080/"
        },
        "id": "q7uoHLFmUzRk",
        "outputId": "8031d89b-e7bd-4c6e-aa9d-d99465cd66d3"
      },
      "outputs": [
        {
          "name": "stdout",
          "output_type": "stream",
          "text": [
            "Epoch 0: Val Loss 0.99, Val Acc: 91.47\n",
            "Epoch 1: Val Loss 0.81, Val Acc: 92.62\n",
            "Epoch 4: Val Loss 0.57, Val Acc: 93.05\n",
            "Epoch 5: Val Loss 0.53, Val Acc: 93.63\n",
            "Epoch 6: Val Loss 0.49, Val Acc: 93.99\n",
            "Epoch 7: Val Loss 0.46, Val Acc: 94.25\n",
            "Epoch 8: Val Loss 0.44, Val Acc: 94.50\n",
            "Epoch 9: Val Loss 0.41, Val Acc: 94.55\n",
            "Epoch 10: Val Loss 0.39, Val Acc: 94.73\n",
            "Epoch 11: Val Loss 0.38, Val Acc: 94.88\n",
            "Epoch 12: Val Loss 0.36, Val Acc: 94.97\n",
            "Epoch 13: Val Loss 0.35, Val Acc: 95.08\n",
            "Epoch 14: Val Loss 0.34, Val Acc: 95.15\n",
            "Epoch 15: Val Loss 0.33, Val Acc: 95.21\n",
            "Epoch 16: Val Loss 0.32, Val Acc: 95.29\n",
            "Epoch 17: Val Loss 0.31, Val Acc: 95.34\n",
            "Epoch 18: Val Loss 0.30, Val Acc: 95.40\n",
            "Epoch 19: Val Loss 0.29, Val Acc: 95.43\n",
            "Epoch 20: Val Loss 0.29, Val Acc: 95.50\n",
            "Epoch 21: Val Loss 0.28, Val Acc: 95.57\n",
            "Epoch 22: Val Loss 0.27, Val Acc: 95.63\n",
            "Epoch 23: Val Loss 0.27, Val Acc: 95.66\n",
            "Epoch 24: Val Loss 0.26, Val Acc: 95.70\n",
            "Epoch 25: Val Loss 0.26, Val Acc: 95.73\n",
            "Epoch 26: Val Loss 0.25, Val Acc: 95.76\n",
            "Epoch 27: Val Loss 0.25, Val Acc: 95.80\n",
            "Epoch 28: Val Loss 0.24, Val Acc: 95.82\n",
            "Epoch 29: Val Loss 0.24, Val Acc: 95.89\n"
          ]
        },
        {
          "data": {
            "application/vnd.plotly.v1+json": {
              "config": {
                "plotlyServerURL": "https://plot.ly"
              },
              "data": [
                {
                  "hovertemplate": "index=%{x}<br>valid_acc=%{y}<extra></extra>",
                  "legendgroup": "",
                  "line": {
                    "color": "#636efa",
                    "dash": "solid"
                  },
                  "marker": {
                    "symbol": "circle"
                  },
                  "mode": "lines",
                  "name": "",
                  "orientation": "v",
                  "showlegend": false,
                  "type": "scatter",
                  "x": [
                    0,
                    1,
                    2,
                    3,
                    4,
                    5,
                    6,
                    7,
                    8,
                    9,
                    10,
                    11,
                    12,
                    13,
                    14,
                    15,
                    16,
                    17,
                    18,
                    19,
                    20,
                    21,
                    22,
                    23,
                    24,
                    25,
                    26,
                    27,
                    28,
                    29,
                    30,
                    31,
                    32,
                    33,
                    34,
                    35,
                    36,
                    37,
                    38,
                    39,
                    40,
                    41,
                    42,
                    43,
                    44,
                    45,
                    46,
                    47,
                    48,
                    49,
                    50,
                    51,
                    52,
                    53,
                    54,
                    55,
                    56,
                    57,
                    58,
                    59
                  ],
                  "xaxis": "x",
                  "y": [
                    90.625,
                    92.30769348144531,
                    91.40625,
                    96.15384674072266,
                    91.40625,
                    92.30769348144531,
                    91.40625,
                    94.23077392578125,
                    94.53125,
                    96.15384674072266,
                    96.875,
                    96.15384674072266,
                    96.09375,
                    96.15384674072266,
                    96.09375,
                    96.15384674072266,
                    96.875,
                    96.15384674072266,
                    93.75,
                    96.15384674072266,
                    96.875,
                    96.15384674072266,
                    96.875,
                    96.15384674072266,
                    96.09375,
                    96.15384674072266,
                    96.875,
                    96.15384674072266,
                    96.09375,
                    96.15384674072266,
                    96.09375,
                    96.15384674072266,
                    96.875,
                    96.15384674072266,
                    96.09375,
                    96.15384674072266,
                    96.875,
                    96.15384674072266,
                    96.09375,
                    96.15384674072266,
                    97.65625,
                    96.15384674072266,
                    97.65625,
                    96.15384674072266,
                    97.65625,
                    96.15384674072266,
                    96.875,
                    96.15384674072266,
                    96.875,
                    96.15384674072266,
                    96.875,
                    96.15384674072266,
                    96.875,
                    96.15384674072266,
                    97.65625,
                    96.15384674072266,
                    96.875,
                    96.15384674072266,
                    97.65625,
                    98.07691955566406
                  ],
                  "yaxis": "y"
                }
              ],
              "layout": {
                "legend": {
                  "tracegroupgap": 0
                },
                "margin": {
                  "t": 60
                },
                "template": {
                  "data": {
                    "bar": [
                      {
                        "error_x": {
                          "color": "#2a3f5f"
                        },
                        "error_y": {
                          "color": "#2a3f5f"
                        },
                        "marker": {
                          "line": {
                            "color": "#E5ECF6",
                            "width": 0.5
                          },
                          "pattern": {
                            "fillmode": "overlay",
                            "size": 10,
                            "solidity": 0.2
                          }
                        },
                        "type": "bar"
                      }
                    ],
                    "barpolar": [
                      {
                        "marker": {
                          "line": {
                            "color": "#E5ECF6",
                            "width": 0.5
                          },
                          "pattern": {
                            "fillmode": "overlay",
                            "size": 10,
                            "solidity": 0.2
                          }
                        },
                        "type": "barpolar"
                      }
                    ],
                    "carpet": [
                      {
                        "aaxis": {
                          "endlinecolor": "#2a3f5f",
                          "gridcolor": "white",
                          "linecolor": "white",
                          "minorgridcolor": "white",
                          "startlinecolor": "#2a3f5f"
                        },
                        "baxis": {
                          "endlinecolor": "#2a3f5f",
                          "gridcolor": "white",
                          "linecolor": "white",
                          "minorgridcolor": "white",
                          "startlinecolor": "#2a3f5f"
                        },
                        "type": "carpet"
                      }
                    ],
                    "choropleth": [
                      {
                        "colorbar": {
                          "outlinewidth": 0,
                          "ticks": ""
                        },
                        "type": "choropleth"
                      }
                    ],
                    "contour": [
                      {
                        "colorbar": {
                          "outlinewidth": 0,
                          "ticks": ""
                        },
                        "colorscale": [
                          [
                            0,
                            "#0d0887"
                          ],
                          [
                            0.1111111111111111,
                            "#46039f"
                          ],
                          [
                            0.2222222222222222,
                            "#7201a8"
                          ],
                          [
                            0.3333333333333333,
                            "#9c179e"
                          ],
                          [
                            0.4444444444444444,
                            "#bd3786"
                          ],
                          [
                            0.5555555555555556,
                            "#d8576b"
                          ],
                          [
                            0.6666666666666666,
                            "#ed7953"
                          ],
                          [
                            0.7777777777777778,
                            "#fb9f3a"
                          ],
                          [
                            0.8888888888888888,
                            "#fdca26"
                          ],
                          [
                            1,
                            "#f0f921"
                          ]
                        ],
                        "type": "contour"
                      }
                    ],
                    "contourcarpet": [
                      {
                        "colorbar": {
                          "outlinewidth": 0,
                          "ticks": ""
                        },
                        "type": "contourcarpet"
                      }
                    ],
                    "heatmap": [
                      {
                        "colorbar": {
                          "outlinewidth": 0,
                          "ticks": ""
                        },
                        "colorscale": [
                          [
                            0,
                            "#0d0887"
                          ],
                          [
                            0.1111111111111111,
                            "#46039f"
                          ],
                          [
                            0.2222222222222222,
                            "#7201a8"
                          ],
                          [
                            0.3333333333333333,
                            "#9c179e"
                          ],
                          [
                            0.4444444444444444,
                            "#bd3786"
                          ],
                          [
                            0.5555555555555556,
                            "#d8576b"
                          ],
                          [
                            0.6666666666666666,
                            "#ed7953"
                          ],
                          [
                            0.7777777777777778,
                            "#fb9f3a"
                          ],
                          [
                            0.8888888888888888,
                            "#fdca26"
                          ],
                          [
                            1,
                            "#f0f921"
                          ]
                        ],
                        "type": "heatmap"
                      }
                    ],
                    "heatmapgl": [
                      {
                        "colorbar": {
                          "outlinewidth": 0,
                          "ticks": ""
                        },
                        "colorscale": [
                          [
                            0,
                            "#0d0887"
                          ],
                          [
                            0.1111111111111111,
                            "#46039f"
                          ],
                          [
                            0.2222222222222222,
                            "#7201a8"
                          ],
                          [
                            0.3333333333333333,
                            "#9c179e"
                          ],
                          [
                            0.4444444444444444,
                            "#bd3786"
                          ],
                          [
                            0.5555555555555556,
                            "#d8576b"
                          ],
                          [
                            0.6666666666666666,
                            "#ed7953"
                          ],
                          [
                            0.7777777777777778,
                            "#fb9f3a"
                          ],
                          [
                            0.8888888888888888,
                            "#fdca26"
                          ],
                          [
                            1,
                            "#f0f921"
                          ]
                        ],
                        "type": "heatmapgl"
                      }
                    ],
                    "histogram": [
                      {
                        "marker": {
                          "pattern": {
                            "fillmode": "overlay",
                            "size": 10,
                            "solidity": 0.2
                          }
                        },
                        "type": "histogram"
                      }
                    ],
                    "histogram2d": [
                      {
                        "colorbar": {
                          "outlinewidth": 0,
                          "ticks": ""
                        },
                        "colorscale": [
                          [
                            0,
                            "#0d0887"
                          ],
                          [
                            0.1111111111111111,
                            "#46039f"
                          ],
                          [
                            0.2222222222222222,
                            "#7201a8"
                          ],
                          [
                            0.3333333333333333,
                            "#9c179e"
                          ],
                          [
                            0.4444444444444444,
                            "#bd3786"
                          ],
                          [
                            0.5555555555555556,
                            "#d8576b"
                          ],
                          [
                            0.6666666666666666,
                            "#ed7953"
                          ],
                          [
                            0.7777777777777778,
                            "#fb9f3a"
                          ],
                          [
                            0.8888888888888888,
                            "#fdca26"
                          ],
                          [
                            1,
                            "#f0f921"
                          ]
                        ],
                        "type": "histogram2d"
                      }
                    ],
                    "histogram2dcontour": [
                      {
                        "colorbar": {
                          "outlinewidth": 0,
                          "ticks": ""
                        },
                        "colorscale": [
                          [
                            0,
                            "#0d0887"
                          ],
                          [
                            0.1111111111111111,
                            "#46039f"
                          ],
                          [
                            0.2222222222222222,
                            "#7201a8"
                          ],
                          [
                            0.3333333333333333,
                            "#9c179e"
                          ],
                          [
                            0.4444444444444444,
                            "#bd3786"
                          ],
                          [
                            0.5555555555555556,
                            "#d8576b"
                          ],
                          [
                            0.6666666666666666,
                            "#ed7953"
                          ],
                          [
                            0.7777777777777778,
                            "#fb9f3a"
                          ],
                          [
                            0.8888888888888888,
                            "#fdca26"
                          ],
                          [
                            1,
                            "#f0f921"
                          ]
                        ],
                        "type": "histogram2dcontour"
                      }
                    ],
                    "mesh3d": [
                      {
                        "colorbar": {
                          "outlinewidth": 0,
                          "ticks": ""
                        },
                        "type": "mesh3d"
                      }
                    ],
                    "parcoords": [
                      {
                        "line": {
                          "colorbar": {
                            "outlinewidth": 0,
                            "ticks": ""
                          }
                        },
                        "type": "parcoords"
                      }
                    ],
                    "pie": [
                      {
                        "automargin": true,
                        "type": "pie"
                      }
                    ],
                    "scatter": [
                      {
                        "fillpattern": {
                          "fillmode": "overlay",
                          "size": 10,
                          "solidity": 0.2
                        },
                        "type": "scatter"
                      }
                    ],
                    "scatter3d": [
                      {
                        "line": {
                          "colorbar": {
                            "outlinewidth": 0,
                            "ticks": ""
                          }
                        },
                        "marker": {
                          "colorbar": {
                            "outlinewidth": 0,
                            "ticks": ""
                          }
                        },
                        "type": "scatter3d"
                      }
                    ],
                    "scattercarpet": [
                      {
                        "marker": {
                          "colorbar": {
                            "outlinewidth": 0,
                            "ticks": ""
                          }
                        },
                        "type": "scattercarpet"
                      }
                    ],
                    "scattergeo": [
                      {
                        "marker": {
                          "colorbar": {
                            "outlinewidth": 0,
                            "ticks": ""
                          }
                        },
                        "type": "scattergeo"
                      }
                    ],
                    "scattergl": [
                      {
                        "marker": {
                          "colorbar": {
                            "outlinewidth": 0,
                            "ticks": ""
                          }
                        },
                        "type": "scattergl"
                      }
                    ],
                    "scattermapbox": [
                      {
                        "marker": {
                          "colorbar": {
                            "outlinewidth": 0,
                            "ticks": ""
                          }
                        },
                        "type": "scattermapbox"
                      }
                    ],
                    "scatterpolar": [
                      {
                        "marker": {
                          "colorbar": {
                            "outlinewidth": 0,
                            "ticks": ""
                          }
                        },
                        "type": "scatterpolar"
                      }
                    ],
                    "scatterpolargl": [
                      {
                        "marker": {
                          "colorbar": {
                            "outlinewidth": 0,
                            "ticks": ""
                          }
                        },
                        "type": "scatterpolargl"
                      }
                    ],
                    "scatterternary": [
                      {
                        "marker": {
                          "colorbar": {
                            "outlinewidth": 0,
                            "ticks": ""
                          }
                        },
                        "type": "scatterternary"
                      }
                    ],
                    "surface": [
                      {
                        "colorbar": {
                          "outlinewidth": 0,
                          "ticks": ""
                        },
                        "colorscale": [
                          [
                            0,
                            "#0d0887"
                          ],
                          [
                            0.1111111111111111,
                            "#46039f"
                          ],
                          [
                            0.2222222222222222,
                            "#7201a8"
                          ],
                          [
                            0.3333333333333333,
                            "#9c179e"
                          ],
                          [
                            0.4444444444444444,
                            "#bd3786"
                          ],
                          [
                            0.5555555555555556,
                            "#d8576b"
                          ],
                          [
                            0.6666666666666666,
                            "#ed7953"
                          ],
                          [
                            0.7777777777777778,
                            "#fb9f3a"
                          ],
                          [
                            0.8888888888888888,
                            "#fdca26"
                          ],
                          [
                            1,
                            "#f0f921"
                          ]
                        ],
                        "type": "surface"
                      }
                    ],
                    "table": [
                      {
                        "cells": {
                          "fill": {
                            "color": "#EBF0F8"
                          },
                          "line": {
                            "color": "white"
                          }
                        },
                        "header": {
                          "fill": {
                            "color": "#C8D4E3"
                          },
                          "line": {
                            "color": "white"
                          }
                        },
                        "type": "table"
                      }
                    ]
                  },
                  "layout": {
                    "annotationdefaults": {
                      "arrowcolor": "#2a3f5f",
                      "arrowhead": 0,
                      "arrowwidth": 1
                    },
                    "autotypenumbers": "strict",
                    "coloraxis": {
                      "colorbar": {
                        "outlinewidth": 0,
                        "ticks": ""
                      }
                    },
                    "colorscale": {
                      "diverging": [
                        [
                          0,
                          "#8e0152"
                        ],
                        [
                          0.1,
                          "#c51b7d"
                        ],
                        [
                          0.2,
                          "#de77ae"
                        ],
                        [
                          0.3,
                          "#f1b6da"
                        ],
                        [
                          0.4,
                          "#fde0ef"
                        ],
                        [
                          0.5,
                          "#f7f7f7"
                        ],
                        [
                          0.6,
                          "#e6f5d0"
                        ],
                        [
                          0.7,
                          "#b8e186"
                        ],
                        [
                          0.8,
                          "#7fbc41"
                        ],
                        [
                          0.9,
                          "#4d9221"
                        ],
                        [
                          1,
                          "#276419"
                        ]
                      ],
                      "sequential": [
                        [
                          0,
                          "#0d0887"
                        ],
                        [
                          0.1111111111111111,
                          "#46039f"
                        ],
                        [
                          0.2222222222222222,
                          "#7201a8"
                        ],
                        [
                          0.3333333333333333,
                          "#9c179e"
                        ],
                        [
                          0.4444444444444444,
                          "#bd3786"
                        ],
                        [
                          0.5555555555555556,
                          "#d8576b"
                        ],
                        [
                          0.6666666666666666,
                          "#ed7953"
                        ],
                        [
                          0.7777777777777778,
                          "#fb9f3a"
                        ],
                        [
                          0.8888888888888888,
                          "#fdca26"
                        ],
                        [
                          1,
                          "#f0f921"
                        ]
                      ],
                      "sequentialminus": [
                        [
                          0,
                          "#0d0887"
                        ],
                        [
                          0.1111111111111111,
                          "#46039f"
                        ],
                        [
                          0.2222222222222222,
                          "#7201a8"
                        ],
                        [
                          0.3333333333333333,
                          "#9c179e"
                        ],
                        [
                          0.4444444444444444,
                          "#bd3786"
                        ],
                        [
                          0.5555555555555556,
                          "#d8576b"
                        ],
                        [
                          0.6666666666666666,
                          "#ed7953"
                        ],
                        [
                          0.7777777777777778,
                          "#fb9f3a"
                        ],
                        [
                          0.8888888888888888,
                          "#fdca26"
                        ],
                        [
                          1,
                          "#f0f921"
                        ]
                      ]
                    },
                    "colorway": [
                      "#636efa",
                      "#EF553B",
                      "#00cc96",
                      "#ab63fa",
                      "#FFA15A",
                      "#19d3f3",
                      "#FF6692",
                      "#B6E880",
                      "#FF97FF",
                      "#FECB52"
                    ],
                    "font": {
                      "color": "#2a3f5f"
                    },
                    "geo": {
                      "bgcolor": "white",
                      "lakecolor": "white",
                      "landcolor": "#E5ECF6",
                      "showlakes": true,
                      "showland": true,
                      "subunitcolor": "white"
                    },
                    "hoverlabel": {
                      "align": "left"
                    },
                    "hovermode": "closest",
                    "mapbox": {
                      "style": "light"
                    },
                    "paper_bgcolor": "white",
                    "plot_bgcolor": "#E5ECF6",
                    "polar": {
                      "angularaxis": {
                        "gridcolor": "white",
                        "linecolor": "white",
                        "ticks": ""
                      },
                      "bgcolor": "#E5ECF6",
                      "radialaxis": {
                        "gridcolor": "white",
                        "linecolor": "white",
                        "ticks": ""
                      }
                    },
                    "scene": {
                      "xaxis": {
                        "backgroundcolor": "#E5ECF6",
                        "gridcolor": "white",
                        "gridwidth": 2,
                        "linecolor": "white",
                        "showbackground": true,
                        "ticks": "",
                        "zerolinecolor": "white"
                      },
                      "yaxis": {
                        "backgroundcolor": "#E5ECF6",
                        "gridcolor": "white",
                        "gridwidth": 2,
                        "linecolor": "white",
                        "showbackground": true,
                        "ticks": "",
                        "zerolinecolor": "white"
                      },
                      "zaxis": {
                        "backgroundcolor": "#E5ECF6",
                        "gridcolor": "white",
                        "gridwidth": 2,
                        "linecolor": "white",
                        "showbackground": true,
                        "ticks": "",
                        "zerolinecolor": "white"
                      }
                    },
                    "shapedefaults": {
                      "line": {
                        "color": "#2a3f5f"
                      }
                    },
                    "ternary": {
                      "aaxis": {
                        "gridcolor": "white",
                        "linecolor": "white",
                        "ticks": ""
                      },
                      "baxis": {
                        "gridcolor": "white",
                        "linecolor": "white",
                        "ticks": ""
                      },
                      "bgcolor": "#E5ECF6",
                      "caxis": {
                        "gridcolor": "white",
                        "linecolor": "white",
                        "ticks": ""
                      }
                    },
                    "title": {
                      "x": 0.05
                    },
                    "xaxis": {
                      "automargin": true,
                      "gridcolor": "white",
                      "linecolor": "white",
                      "ticks": "",
                      "title": {
                        "standoff": 15
                      },
                      "zerolinecolor": "white",
                      "zerolinewidth": 2
                    },
                    "yaxis": {
                      "automargin": true,
                      "gridcolor": "white",
                      "linecolor": "white",
                      "ticks": "",
                      "title": {
                        "standoff": 15
                      },
                      "zerolinecolor": "white",
                      "zerolinewidth": 2
                    }
                  }
                },
                "xaxis": {
                  "anchor": "y",
                  "domain": [
                    0,
                    1
                  ],
                  "title": {
                    "text": "index"
                  }
                },
                "yaxis": {
                  "anchor": "x",
                  "domain": [
                    0,
                    1
                  ],
                  "title": {
                    "text": "valid_acc"
                  }
                }
              }
            }
          },
          "metadata": {},
          "output_type": "display_data"
        },
        {
          "name": "stdout",
          "output_type": "stream",
          "text": [
            "Acc: 97.86658477783203\n"
          ]
        }
      ],
      "source": [
        "model = DigitsLogistic()\n",
        "opt = optim.SGD(model.parameters(), lr=lr)\n",
        "epochs = 30\n",
        "\n",
        "\n",
        "def fit(\n",
        "  model: nn.Module,\n",
        "  opt: optim.Adam,\n",
        "  epochs: int,\n",
        "  loss_func: Callable,\n",
        "  train_dl: TensorDataset,\n",
        "  valid_dl: TensorDataset,\n",
        "):\n",
        "\n",
        "  valid_losses = []\n",
        "  valid_accs = []\n",
        "  best_acc = 0\n",
        "  \n",
        "  for epoch in range(epochs):\n",
        "    for X_curr, y_curr in train_dl:\n",
        "      y_pred_curr = model(X_curr)\n",
        "      loss = loss_func(y_pred_curr, y_curr)\n",
        "\n",
        "      loss.backward()\n",
        "      opt.step()\n",
        "      opt.zero_grad()\n",
        "\n",
        "    for X_val_curr, y_val_curr in valid_dl:\n",
        "      valid_loss = float(loss_func(model(X_val_curr), y_val_curr))\n",
        "      valid_losses.append(valid_loss)\n",
        "\n",
        "      acc_loss = accuracy(model(X_val_curr), y_val_curr)\n",
        "      valid_accs.append(acc_loss)\n",
        "\n",
        "    epoch_acc = np.mean(valid_accs)\n",
        "    if epoch_acc > best_acc:\n",
        "      best_acc = epoch_acc\n",
        "      torch.save(model.state_dict(), \"best_model.pt\")\n",
        "\n",
        "      print(\n",
        "          f\"Epoch {epoch}: Val Loss {np.mean(valid_losses):.2f}, \"\n",
        "          f\"Val Acc: {np.mean(valid_accs):.2f}\"\n",
        "      )\n",
        "\n",
        "  df = pd.DataFrame({\"valid_loss\": valid_losses, \"valid_acc\": valid_accs})\n",
        "  px.line(df, y=\"valid_acc\").show()\n",
        "\n",
        "fit(model, opt, epochs, loss_func, train_dl, valid_dl)\n",
        "model.load_state_dict(torch.load(\"best_model.pt\"))\n",
        "model.eval()\n",
        "print(f\"Acc: {np.mean([accuracy(model(xb), yb) for xb, yb in valid_dl])}\")"
      ]
    },
    {
      "cell_type": "markdown",
      "metadata": {
        "id": "FEADjDjZGP-E"
      },
      "source": [
        "## Using your GPU\n",
        "\n",
        "If you're lucky enough to have access to a CUDA-capable GPU you can\n",
        "use it to speed up your code. To do so in COLAB you can change *runtime type* in the *Runtime* dropdown menu to enable GPU computation. After changing the runtime type you will need to rerun the whole notebook beacause all variables will be lost (*Runtime* -> *Run all*).\n",
        "\n",
        "Let's check that your GPU is working with Pytorch:"
      ]
    },
    {
      "cell_type": "code",
      "execution_count": 137,
      "metadata": {
        "colab": {
          "base_uri": "https://localhost:8080/"
        },
        "id": "G0jas1PPGP-E",
        "outputId": "dbaf907f-c926-4d74-fbaf-eae2862c5235"
      },
      "outputs": [
        {
          "name": "stdout",
          "output_type": "stream",
          "text": [
            "True\n"
          ]
        }
      ],
      "source": [
        "print(torch.cuda.is_available())"
      ]
    },
    {
      "cell_type": "markdown",
      "metadata": {
        "id": "AkSz6FMDGP-E"
      },
      "source": [
        "And then create a device object for it:\n",
        "\n"
      ]
    },
    {
      "cell_type": "code",
      "execution_count": 141,
      "metadata": {
        "id": "uFnllnDDGP-E"
      },
      "outputs": [
        {
          "data": {
            "text/plain": [
              "device(type='cuda')"
            ]
          },
          "execution_count": 141,
          "metadata": {},
          "output_type": "execute_result"
        }
      ],
      "source": [
        "dev = torch.device(\"cuda\" if torch.cuda.is_available() else \"cpu\")\n",
        "dev"
      ]
    },
    {
      "cell_type": "markdown",
      "metadata": {
        "id": "SfvKuUCuGP-F"
      },
      "source": [
        "Finally, we can move our model and our data to the GPU. \n",
        "Generally dataset do not fit in the GPU, so we need to move only the batches inside the training/validation loops: \n",
        "\n",
        "    xb = xb.to(dev)\n",
        "    yb = yb.to(dev)"
      ]
    },
    {
      "cell_type": "code",
      "execution_count": 165,
      "metadata": {
        "id": "lGAygmyqGP-F"
      },
      "outputs": [
        {
          "name": "stdout",
          "output_type": "stream",
          "text": [
            "Epoch 0: Val Loss 0.97, Val Acc: 90.47\n",
            "Epoch 1: Val Loss 0.79, Val Acc: 92.04\n",
            "Epoch 2: Val Loss 0.69, Val Acc: 92.69\n",
            "Epoch 3: Val Loss 0.62, Val Acc: 93.11\n",
            "Epoch 5: Val Loss 0.52, Val Acc: 93.34\n",
            "Epoch 6: Val Loss 0.48, Val Acc: 93.60\n",
            "Epoch 7: Val Loss 0.45, Val Acc: 93.92\n",
            "Epoch 8: Val Loss 0.43, Val Acc: 94.12\n",
            "Epoch 9: Val Loss 0.41, Val Acc: 94.28\n",
            "Epoch 10: Val Loss 0.39, Val Acc: 94.48\n",
            "Epoch 11: Val Loss 0.37, Val Acc: 94.65\n",
            "Epoch 12: Val Loss 0.36, Val Acc: 94.79\n",
            "Epoch 13: Val Loss 0.35, Val Acc: 94.89\n",
            "Epoch 14: Val Loss 0.34, Val Acc: 95.00\n",
            "Epoch 15: Val Loss 0.33, Val Acc: 95.09\n",
            "Epoch 16: Val Loss 0.32, Val Acc: 95.18\n",
            "Epoch 17: Val Loss 0.31, Val Acc: 95.25\n",
            "Epoch 18: Val Loss 0.30, Val Acc: 95.39\n",
            "Epoch 19: Val Loss 0.29, Val Acc: 95.44\n",
            "Epoch 20: Val Loss 0.28, Val Acc: 95.48\n",
            "Epoch 21: Val Loss 0.28, Val Acc: 95.54\n",
            "Epoch 22: Val Loss 0.27, Val Acc: 95.57\n",
            "Epoch 23: Val Loss 0.27, Val Acc: 95.62\n",
            "Epoch 24: Val Loss 0.26, Val Acc: 95.66\n",
            "Epoch 25: Val Loss 0.26, Val Acc: 95.71\n",
            "Epoch 26: Val Loss 0.25, Val Acc: 95.74\n",
            "Epoch 27: Val Loss 0.25, Val Acc: 95.78\n",
            "Epoch 28: Val Loss 0.24, Val Acc: 95.80\n",
            "Epoch 29: Val Loss 0.24, Val Acc: 95.84\n",
            "Epoch 30: Val Loss 0.23, Val Acc: 95.87\n",
            "Epoch 31: Val Loss 0.23, Val Acc: 95.91\n",
            "Epoch 32: Val Loss 0.23, Val Acc: 95.97\n",
            "Epoch 33: Val Loss 0.22, Val Acc: 96.02\n",
            "Epoch 34: Val Loss 0.22, Val Acc: 96.06\n",
            "Epoch 35: Val Loss 0.22, Val Acc: 96.11\n",
            "Epoch 36: Val Loss 0.21, Val Acc: 96.15\n",
            "Epoch 37: Val Loss 0.21, Val Acc: 96.20\n",
            "Epoch 38: Val Loss 0.21, Val Acc: 96.21\n",
            "Epoch 39: Val Loss 0.21, Val Acc: 96.26\n",
            "Epoch 40: Val Loss 0.20, Val Acc: 96.29\n",
            "Epoch 41: Val Loss 0.20, Val Acc: 96.33\n",
            "Epoch 42: Val Loss 0.20, Val Acc: 96.35\n",
            "Epoch 43: Val Loss 0.20, Val Acc: 96.35\n",
            "Epoch 44: Val Loss 0.20, Val Acc: 96.38\n",
            "Epoch 45: Val Loss 0.19, Val Acc: 96.42\n",
            "Epoch 46: Val Loss 0.19, Val Acc: 96.45\n",
            "Epoch 47: Val Loss 0.19, Val Acc: 96.48\n",
            "Epoch 48: Val Loss 0.19, Val Acc: 96.48\n",
            "Epoch 49: Val Loss 0.19, Val Acc: 96.51\n",
            "Epoch 50: Val Loss 0.18, Val Acc: 96.54\n",
            "Epoch 51: Val Loss 0.18, Val Acc: 96.56\n",
            "Epoch 52: Val Loss 0.18, Val Acc: 96.59\n",
            "Epoch 53: Val Loss 0.18, Val Acc: 96.61\n",
            "Epoch 54: Val Loss 0.18, Val Acc: 96.64\n",
            "Epoch 55: Val Loss 0.18, Val Acc: 96.66\n",
            "Epoch 56: Val Loss 0.17, Val Acc: 96.68\n",
            "Epoch 57: Val Loss 0.17, Val Acc: 96.69\n",
            "Epoch 58: Val Loss 0.17, Val Acc: 96.71\n",
            "Epoch 59: Val Loss 0.17, Val Acc: 96.73\n",
            "Epoch 60: Val Loss 0.17, Val Acc: 96.75\n",
            "Epoch 61: Val Loss 0.17, Val Acc: 96.77\n",
            "Epoch 62: Val Loss 0.17, Val Acc: 96.79\n",
            "Epoch 63: Val Loss 0.17, Val Acc: 96.80\n",
            "Epoch 64: Val Loss 0.16, Val Acc: 96.80\n",
            "Epoch 65: Val Loss 0.16, Val Acc: 96.82\n",
            "Epoch 66: Val Loss 0.16, Val Acc: 96.84\n",
            "Epoch 67: Val Loss 0.16, Val Acc: 96.85\n",
            "Epoch 68: Val Loss 0.16, Val Acc: 96.87\n",
            "Epoch 69: Val Loss 0.16, Val Acc: 96.88\n",
            "Epoch 70: Val Loss 0.16, Val Acc: 96.89\n",
            "Epoch 71: Val Loss 0.16, Val Acc: 96.91\n",
            "Epoch 72: Val Loss 0.16, Val Acc: 96.92\n",
            "Epoch 73: Val Loss 0.16, Val Acc: 96.93\n",
            "Epoch 74: Val Loss 0.15, Val Acc: 96.95\n",
            "Epoch 75: Val Loss 0.15, Val Acc: 96.96\n",
            "Epoch 76: Val Loss 0.15, Val Acc: 96.97\n",
            "Epoch 77: Val Loss 0.15, Val Acc: 96.98\n",
            "Epoch 78: Val Loss 0.15, Val Acc: 96.99\n",
            "Epoch 79: Val Loss 0.15, Val Acc: 97.00\n",
            "Epoch 80: Val Loss 0.15, Val Acc: 97.01\n",
            "Epoch 81: Val Loss 0.15, Val Acc: 97.02\n",
            "Epoch 82: Val Loss 0.15, Val Acc: 97.03\n",
            "Epoch 83: Val Loss 0.15, Val Acc: 97.04\n",
            "Epoch 84: Val Loss 0.15, Val Acc: 97.05\n",
            "Epoch 85: Val Loss 0.15, Val Acc: 97.06\n",
            "Epoch 86: Val Loss 0.14, Val Acc: 97.07\n",
            "Epoch 87: Val Loss 0.14, Val Acc: 97.08\n",
            "Epoch 88: Val Loss 0.14, Val Acc: 97.09\n",
            "Epoch 89: Val Loss 0.14, Val Acc: 97.09\n",
            "Epoch 90: Val Loss 0.14, Val Acc: 97.10\n",
            "Epoch 91: Val Loss 0.14, Val Acc: 97.11\n",
            "Epoch 92: Val Loss 0.14, Val Acc: 97.12\n",
            "Epoch 93: Val Loss 0.14, Val Acc: 97.13\n",
            "Epoch 94: Val Loss 0.14, Val Acc: 97.14\n",
            "Epoch 95: Val Loss 0.14, Val Acc: 97.14\n",
            "Epoch 96: Val Loss 0.14, Val Acc: 97.15\n",
            "Epoch 97: Val Loss 0.14, Val Acc: 97.16\n",
            "Epoch 98: Val Loss 0.14, Val Acc: 97.16\n",
            "Epoch 99: Val Loss 0.14, Val Acc: 97.17\n"
          ]
        },
        {
          "data": {
            "application/vnd.plotly.v1+json": {
              "config": {
                "plotlyServerURL": "https://plot.ly"
              },
              "data": [
                {
                  "hovertemplate": "index=%{x}<br>valid_acc=%{y}<extra></extra>",
                  "legendgroup": "",
                  "line": {
                    "color": "#636efa",
                    "dash": "solid"
                  },
                  "marker": {
                    "symbol": "circle"
                  },
                  "mode": "lines",
                  "name": "",
                  "orientation": "v",
                  "showlegend": false,
                  "type": "scatter",
                  "x": [
                    0,
                    1,
                    2,
                    3,
                    4,
                    5,
                    6,
                    7,
                    8,
                    9,
                    10,
                    11,
                    12,
                    13,
                    14,
                    15,
                    16,
                    17,
                    18,
                    19,
                    20,
                    21,
                    22,
                    23,
                    24,
                    25,
                    26,
                    27,
                    28,
                    29,
                    30,
                    31,
                    32,
                    33,
                    34,
                    35,
                    36,
                    37,
                    38,
                    39,
                    40,
                    41,
                    42,
                    43,
                    44,
                    45,
                    46,
                    47,
                    48,
                    49,
                    50,
                    51,
                    52,
                    53,
                    54,
                    55,
                    56,
                    57,
                    58,
                    59,
                    60,
                    61,
                    62,
                    63,
                    64,
                    65,
                    66,
                    67,
                    68,
                    69,
                    70,
                    71,
                    72,
                    73,
                    74,
                    75,
                    76,
                    77,
                    78,
                    79,
                    80,
                    81,
                    82,
                    83,
                    84,
                    85,
                    86,
                    87,
                    88,
                    89,
                    90,
                    91,
                    92,
                    93,
                    94,
                    95,
                    96,
                    97,
                    98,
                    99,
                    100,
                    101,
                    102,
                    103,
                    104,
                    105,
                    106,
                    107,
                    108,
                    109,
                    110,
                    111,
                    112,
                    113,
                    114,
                    115,
                    116,
                    117,
                    118,
                    119,
                    120,
                    121,
                    122,
                    123,
                    124,
                    125,
                    126,
                    127,
                    128,
                    129,
                    130,
                    131,
                    132,
                    133,
                    134,
                    135,
                    136,
                    137,
                    138,
                    139,
                    140,
                    141,
                    142,
                    143,
                    144,
                    145,
                    146,
                    147,
                    148,
                    149,
                    150,
                    151,
                    152,
                    153,
                    154,
                    155,
                    156,
                    157,
                    158,
                    159,
                    160,
                    161,
                    162,
                    163,
                    164,
                    165,
                    166,
                    167,
                    168,
                    169,
                    170,
                    171,
                    172,
                    173,
                    174,
                    175,
                    176,
                    177,
                    178,
                    179,
                    180,
                    181,
                    182,
                    183,
                    184,
                    185,
                    186,
                    187,
                    188,
                    189,
                    190,
                    191,
                    192,
                    193,
                    194,
                    195,
                    196,
                    197,
                    198,
                    199
                  ],
                  "xaxis": "x",
                  "y": [
                    86.71875,
                    94.23077392578125,
                    92.96875,
                    94.23077392578125,
                    93.75,
                    94.23077392578125,
                    94.53125,
                    94.23077392578125,
                    91.40625,
                    94.23077392578125,
                    95.3125,
                    94.23077392578125,
                    96.09375,
                    94.23077392578125,
                    96.09375,
                    96.15384674072266,
                    95.3125,
                    96.15384674072266,
                    95.3125,
                    96.15384674072266,
                    96.875,
                    96.15384674072266,
                    96.875,
                    96.15384674072266,
                    96.875,
                    96.15384674072266,
                    96.09375,
                    96.15384674072266,
                    96.875,
                    96.15384674072266,
                    96.875,
                    96.15384674072266,
                    96.875,
                    96.15384674072266,
                    96.875,
                    96.15384674072266,
                    97.65625,
                    98.0769271850586,
                    96.875,
                    96.15384674072266,
                    96.09375,
                    96.15384674072266,
                    97.65625,
                    96.15384674072266,
                    96.09375,
                    96.15384674072266,
                    97.65625,
                    96.15384674072266,
                    96.875,
                    96.15384674072266,
                    97.65625,
                    96.15384674072266,
                    96.875,
                    96.15384674072266,
                    97.65625,
                    96.15384674072266,
                    96.875,
                    96.15384674072266,
                    97.65625,
                    96.15384674072266,
                    97.65625,
                    96.15384674072266,
                    97.65625,
                    96.15384674072266,
                    97.65625,
                    98.0769271850586,
                    97.65625,
                    98.0769271850586,
                    96.875,
                    98.0769271850586,
                    97.65625,
                    98.0769271850586,
                    96.875,
                    98.0769271850586,
                    97.65625,
                    98.0769271850586,
                    97.65625,
                    96.15384674072266,
                    97.65625,
                    98.0769271850586,
                    97.65625,
                    98.0769271850586,
                    97.65625,
                    98.0769271850586,
                    97.65625,
                    96.15384674072266,
                    96.875,
                    96.15384674072266,
                    97.65625,
                    98.0769271850586,
                    97.65625,
                    98.0769271850586,
                    97.65625,
                    98.0769271850586,
                    97.65625,
                    98.0769271850586,
                    97.65625,
                    96.15384674072266,
                    97.65625,
                    98.0769271850586,
                    97.65625,
                    98.0769271850586,
                    97.65625,
                    98.0769271850586,
                    97.65625,
                    98.0769271850586,
                    97.65625,
                    98.0769271850586,
                    97.65625,
                    98.0769271850586,
                    97.65625,
                    98.0769271850586,
                    97.65625,
                    98.0769271850586,
                    96.875,
                    98.0769271850586,
                    97.65625,
                    98.0769271850586,
                    97.65625,
                    98.0769271850586,
                    97.65625,
                    98.0769271850586,
                    97.65625,
                    98.0769271850586,
                    97.65625,
                    98.0769271850586,
                    97.65625,
                    98.0769271850586,
                    97.65625,
                    96.15384674072266,
                    97.65625,
                    98.0769271850586,
                    97.65625,
                    98.0769271850586,
                    97.65625,
                    98.0769271850586,
                    97.65625,
                    98.0769271850586,
                    97.65625,
                    98.0769271850586,
                    97.65625,
                    98.0769271850586,
                    97.65625,
                    98.0769271850586,
                    97.65625,
                    98.0769271850586,
                    97.65625,
                    98.0769271850586,
                    97.65625,
                    98.0769271850586,
                    97.65625,
                    98.0769271850586,
                    97.65625,
                    98.0769271850586,
                    97.65625,
                    98.0769271850586,
                    97.65625,
                    98.0769271850586,
                    97.65625,
                    98.0769271850586,
                    97.65625,
                    98.0769271850586,
                    97.65625,
                    98.0769271850586,
                    96.875,
                    98.0769271850586,
                    97.65625,
                    98.0769271850586,
                    97.65625,
                    98.0769271850586,
                    97.65625,
                    98.0769271850586,
                    97.65625,
                    98.0769271850586,
                    97.65625,
                    98.0769271850586,
                    97.65625,
                    98.0769271850586,
                    97.65625,
                    98.0769271850586,
                    97.65625,
                    98.0769271850586,
                    97.65625,
                    98.0769271850586,
                    97.65625,
                    98.0769271850586,
                    97.65625,
                    98.0769271850586,
                    97.65625,
                    98.0769271850586,
                    97.65625,
                    98.0769271850586,
                    97.65625,
                    98.0769271850586,
                    97.65625,
                    98.0769271850586,
                    97.65625,
                    98.0769271850586,
                    97.65625,
                    98.0769271850586
                  ],
                  "yaxis": "y"
                }
              ],
              "layout": {
                "legend": {
                  "tracegroupgap": 0
                },
                "margin": {
                  "t": 60
                },
                "template": {
                  "data": {
                    "bar": [
                      {
                        "error_x": {
                          "color": "#2a3f5f"
                        },
                        "error_y": {
                          "color": "#2a3f5f"
                        },
                        "marker": {
                          "line": {
                            "color": "#E5ECF6",
                            "width": 0.5
                          },
                          "pattern": {
                            "fillmode": "overlay",
                            "size": 10,
                            "solidity": 0.2
                          }
                        },
                        "type": "bar"
                      }
                    ],
                    "barpolar": [
                      {
                        "marker": {
                          "line": {
                            "color": "#E5ECF6",
                            "width": 0.5
                          },
                          "pattern": {
                            "fillmode": "overlay",
                            "size": 10,
                            "solidity": 0.2
                          }
                        },
                        "type": "barpolar"
                      }
                    ],
                    "carpet": [
                      {
                        "aaxis": {
                          "endlinecolor": "#2a3f5f",
                          "gridcolor": "white",
                          "linecolor": "white",
                          "minorgridcolor": "white",
                          "startlinecolor": "#2a3f5f"
                        },
                        "baxis": {
                          "endlinecolor": "#2a3f5f",
                          "gridcolor": "white",
                          "linecolor": "white",
                          "minorgridcolor": "white",
                          "startlinecolor": "#2a3f5f"
                        },
                        "type": "carpet"
                      }
                    ],
                    "choropleth": [
                      {
                        "colorbar": {
                          "outlinewidth": 0,
                          "ticks": ""
                        },
                        "type": "choropleth"
                      }
                    ],
                    "contour": [
                      {
                        "colorbar": {
                          "outlinewidth": 0,
                          "ticks": ""
                        },
                        "colorscale": [
                          [
                            0,
                            "#0d0887"
                          ],
                          [
                            0.1111111111111111,
                            "#46039f"
                          ],
                          [
                            0.2222222222222222,
                            "#7201a8"
                          ],
                          [
                            0.3333333333333333,
                            "#9c179e"
                          ],
                          [
                            0.4444444444444444,
                            "#bd3786"
                          ],
                          [
                            0.5555555555555556,
                            "#d8576b"
                          ],
                          [
                            0.6666666666666666,
                            "#ed7953"
                          ],
                          [
                            0.7777777777777778,
                            "#fb9f3a"
                          ],
                          [
                            0.8888888888888888,
                            "#fdca26"
                          ],
                          [
                            1,
                            "#f0f921"
                          ]
                        ],
                        "type": "contour"
                      }
                    ],
                    "contourcarpet": [
                      {
                        "colorbar": {
                          "outlinewidth": 0,
                          "ticks": ""
                        },
                        "type": "contourcarpet"
                      }
                    ],
                    "heatmap": [
                      {
                        "colorbar": {
                          "outlinewidth": 0,
                          "ticks": ""
                        },
                        "colorscale": [
                          [
                            0,
                            "#0d0887"
                          ],
                          [
                            0.1111111111111111,
                            "#46039f"
                          ],
                          [
                            0.2222222222222222,
                            "#7201a8"
                          ],
                          [
                            0.3333333333333333,
                            "#9c179e"
                          ],
                          [
                            0.4444444444444444,
                            "#bd3786"
                          ],
                          [
                            0.5555555555555556,
                            "#d8576b"
                          ],
                          [
                            0.6666666666666666,
                            "#ed7953"
                          ],
                          [
                            0.7777777777777778,
                            "#fb9f3a"
                          ],
                          [
                            0.8888888888888888,
                            "#fdca26"
                          ],
                          [
                            1,
                            "#f0f921"
                          ]
                        ],
                        "type": "heatmap"
                      }
                    ],
                    "heatmapgl": [
                      {
                        "colorbar": {
                          "outlinewidth": 0,
                          "ticks": ""
                        },
                        "colorscale": [
                          [
                            0,
                            "#0d0887"
                          ],
                          [
                            0.1111111111111111,
                            "#46039f"
                          ],
                          [
                            0.2222222222222222,
                            "#7201a8"
                          ],
                          [
                            0.3333333333333333,
                            "#9c179e"
                          ],
                          [
                            0.4444444444444444,
                            "#bd3786"
                          ],
                          [
                            0.5555555555555556,
                            "#d8576b"
                          ],
                          [
                            0.6666666666666666,
                            "#ed7953"
                          ],
                          [
                            0.7777777777777778,
                            "#fb9f3a"
                          ],
                          [
                            0.8888888888888888,
                            "#fdca26"
                          ],
                          [
                            1,
                            "#f0f921"
                          ]
                        ],
                        "type": "heatmapgl"
                      }
                    ],
                    "histogram": [
                      {
                        "marker": {
                          "pattern": {
                            "fillmode": "overlay",
                            "size": 10,
                            "solidity": 0.2
                          }
                        },
                        "type": "histogram"
                      }
                    ],
                    "histogram2d": [
                      {
                        "colorbar": {
                          "outlinewidth": 0,
                          "ticks": ""
                        },
                        "colorscale": [
                          [
                            0,
                            "#0d0887"
                          ],
                          [
                            0.1111111111111111,
                            "#46039f"
                          ],
                          [
                            0.2222222222222222,
                            "#7201a8"
                          ],
                          [
                            0.3333333333333333,
                            "#9c179e"
                          ],
                          [
                            0.4444444444444444,
                            "#bd3786"
                          ],
                          [
                            0.5555555555555556,
                            "#d8576b"
                          ],
                          [
                            0.6666666666666666,
                            "#ed7953"
                          ],
                          [
                            0.7777777777777778,
                            "#fb9f3a"
                          ],
                          [
                            0.8888888888888888,
                            "#fdca26"
                          ],
                          [
                            1,
                            "#f0f921"
                          ]
                        ],
                        "type": "histogram2d"
                      }
                    ],
                    "histogram2dcontour": [
                      {
                        "colorbar": {
                          "outlinewidth": 0,
                          "ticks": ""
                        },
                        "colorscale": [
                          [
                            0,
                            "#0d0887"
                          ],
                          [
                            0.1111111111111111,
                            "#46039f"
                          ],
                          [
                            0.2222222222222222,
                            "#7201a8"
                          ],
                          [
                            0.3333333333333333,
                            "#9c179e"
                          ],
                          [
                            0.4444444444444444,
                            "#bd3786"
                          ],
                          [
                            0.5555555555555556,
                            "#d8576b"
                          ],
                          [
                            0.6666666666666666,
                            "#ed7953"
                          ],
                          [
                            0.7777777777777778,
                            "#fb9f3a"
                          ],
                          [
                            0.8888888888888888,
                            "#fdca26"
                          ],
                          [
                            1,
                            "#f0f921"
                          ]
                        ],
                        "type": "histogram2dcontour"
                      }
                    ],
                    "mesh3d": [
                      {
                        "colorbar": {
                          "outlinewidth": 0,
                          "ticks": ""
                        },
                        "type": "mesh3d"
                      }
                    ],
                    "parcoords": [
                      {
                        "line": {
                          "colorbar": {
                            "outlinewidth": 0,
                            "ticks": ""
                          }
                        },
                        "type": "parcoords"
                      }
                    ],
                    "pie": [
                      {
                        "automargin": true,
                        "type": "pie"
                      }
                    ],
                    "scatter": [
                      {
                        "fillpattern": {
                          "fillmode": "overlay",
                          "size": 10,
                          "solidity": 0.2
                        },
                        "type": "scatter"
                      }
                    ],
                    "scatter3d": [
                      {
                        "line": {
                          "colorbar": {
                            "outlinewidth": 0,
                            "ticks": ""
                          }
                        },
                        "marker": {
                          "colorbar": {
                            "outlinewidth": 0,
                            "ticks": ""
                          }
                        },
                        "type": "scatter3d"
                      }
                    ],
                    "scattercarpet": [
                      {
                        "marker": {
                          "colorbar": {
                            "outlinewidth": 0,
                            "ticks": ""
                          }
                        },
                        "type": "scattercarpet"
                      }
                    ],
                    "scattergeo": [
                      {
                        "marker": {
                          "colorbar": {
                            "outlinewidth": 0,
                            "ticks": ""
                          }
                        },
                        "type": "scattergeo"
                      }
                    ],
                    "scattergl": [
                      {
                        "marker": {
                          "colorbar": {
                            "outlinewidth": 0,
                            "ticks": ""
                          }
                        },
                        "type": "scattergl"
                      }
                    ],
                    "scattermapbox": [
                      {
                        "marker": {
                          "colorbar": {
                            "outlinewidth": 0,
                            "ticks": ""
                          }
                        },
                        "type": "scattermapbox"
                      }
                    ],
                    "scatterpolar": [
                      {
                        "marker": {
                          "colorbar": {
                            "outlinewidth": 0,
                            "ticks": ""
                          }
                        },
                        "type": "scatterpolar"
                      }
                    ],
                    "scatterpolargl": [
                      {
                        "marker": {
                          "colorbar": {
                            "outlinewidth": 0,
                            "ticks": ""
                          }
                        },
                        "type": "scatterpolargl"
                      }
                    ],
                    "scatterternary": [
                      {
                        "marker": {
                          "colorbar": {
                            "outlinewidth": 0,
                            "ticks": ""
                          }
                        },
                        "type": "scatterternary"
                      }
                    ],
                    "surface": [
                      {
                        "colorbar": {
                          "outlinewidth": 0,
                          "ticks": ""
                        },
                        "colorscale": [
                          [
                            0,
                            "#0d0887"
                          ],
                          [
                            0.1111111111111111,
                            "#46039f"
                          ],
                          [
                            0.2222222222222222,
                            "#7201a8"
                          ],
                          [
                            0.3333333333333333,
                            "#9c179e"
                          ],
                          [
                            0.4444444444444444,
                            "#bd3786"
                          ],
                          [
                            0.5555555555555556,
                            "#d8576b"
                          ],
                          [
                            0.6666666666666666,
                            "#ed7953"
                          ],
                          [
                            0.7777777777777778,
                            "#fb9f3a"
                          ],
                          [
                            0.8888888888888888,
                            "#fdca26"
                          ],
                          [
                            1,
                            "#f0f921"
                          ]
                        ],
                        "type": "surface"
                      }
                    ],
                    "table": [
                      {
                        "cells": {
                          "fill": {
                            "color": "#EBF0F8"
                          },
                          "line": {
                            "color": "white"
                          }
                        },
                        "header": {
                          "fill": {
                            "color": "#C8D4E3"
                          },
                          "line": {
                            "color": "white"
                          }
                        },
                        "type": "table"
                      }
                    ]
                  },
                  "layout": {
                    "annotationdefaults": {
                      "arrowcolor": "#2a3f5f",
                      "arrowhead": 0,
                      "arrowwidth": 1
                    },
                    "autotypenumbers": "strict",
                    "coloraxis": {
                      "colorbar": {
                        "outlinewidth": 0,
                        "ticks": ""
                      }
                    },
                    "colorscale": {
                      "diverging": [
                        [
                          0,
                          "#8e0152"
                        ],
                        [
                          0.1,
                          "#c51b7d"
                        ],
                        [
                          0.2,
                          "#de77ae"
                        ],
                        [
                          0.3,
                          "#f1b6da"
                        ],
                        [
                          0.4,
                          "#fde0ef"
                        ],
                        [
                          0.5,
                          "#f7f7f7"
                        ],
                        [
                          0.6,
                          "#e6f5d0"
                        ],
                        [
                          0.7,
                          "#b8e186"
                        ],
                        [
                          0.8,
                          "#7fbc41"
                        ],
                        [
                          0.9,
                          "#4d9221"
                        ],
                        [
                          1,
                          "#276419"
                        ]
                      ],
                      "sequential": [
                        [
                          0,
                          "#0d0887"
                        ],
                        [
                          0.1111111111111111,
                          "#46039f"
                        ],
                        [
                          0.2222222222222222,
                          "#7201a8"
                        ],
                        [
                          0.3333333333333333,
                          "#9c179e"
                        ],
                        [
                          0.4444444444444444,
                          "#bd3786"
                        ],
                        [
                          0.5555555555555556,
                          "#d8576b"
                        ],
                        [
                          0.6666666666666666,
                          "#ed7953"
                        ],
                        [
                          0.7777777777777778,
                          "#fb9f3a"
                        ],
                        [
                          0.8888888888888888,
                          "#fdca26"
                        ],
                        [
                          1,
                          "#f0f921"
                        ]
                      ],
                      "sequentialminus": [
                        [
                          0,
                          "#0d0887"
                        ],
                        [
                          0.1111111111111111,
                          "#46039f"
                        ],
                        [
                          0.2222222222222222,
                          "#7201a8"
                        ],
                        [
                          0.3333333333333333,
                          "#9c179e"
                        ],
                        [
                          0.4444444444444444,
                          "#bd3786"
                        ],
                        [
                          0.5555555555555556,
                          "#d8576b"
                        ],
                        [
                          0.6666666666666666,
                          "#ed7953"
                        ],
                        [
                          0.7777777777777778,
                          "#fb9f3a"
                        ],
                        [
                          0.8888888888888888,
                          "#fdca26"
                        ],
                        [
                          1,
                          "#f0f921"
                        ]
                      ]
                    },
                    "colorway": [
                      "#636efa",
                      "#EF553B",
                      "#00cc96",
                      "#ab63fa",
                      "#FFA15A",
                      "#19d3f3",
                      "#FF6692",
                      "#B6E880",
                      "#FF97FF",
                      "#FECB52"
                    ],
                    "font": {
                      "color": "#2a3f5f"
                    },
                    "geo": {
                      "bgcolor": "white",
                      "lakecolor": "white",
                      "landcolor": "#E5ECF6",
                      "showlakes": true,
                      "showland": true,
                      "subunitcolor": "white"
                    },
                    "hoverlabel": {
                      "align": "left"
                    },
                    "hovermode": "closest",
                    "mapbox": {
                      "style": "light"
                    },
                    "paper_bgcolor": "white",
                    "plot_bgcolor": "#E5ECF6",
                    "polar": {
                      "angularaxis": {
                        "gridcolor": "white",
                        "linecolor": "white",
                        "ticks": ""
                      },
                      "bgcolor": "#E5ECF6",
                      "radialaxis": {
                        "gridcolor": "white",
                        "linecolor": "white",
                        "ticks": ""
                      }
                    },
                    "scene": {
                      "xaxis": {
                        "backgroundcolor": "#E5ECF6",
                        "gridcolor": "white",
                        "gridwidth": 2,
                        "linecolor": "white",
                        "showbackground": true,
                        "ticks": "",
                        "zerolinecolor": "white"
                      },
                      "yaxis": {
                        "backgroundcolor": "#E5ECF6",
                        "gridcolor": "white",
                        "gridwidth": 2,
                        "linecolor": "white",
                        "showbackground": true,
                        "ticks": "",
                        "zerolinecolor": "white"
                      },
                      "zaxis": {
                        "backgroundcolor": "#E5ECF6",
                        "gridcolor": "white",
                        "gridwidth": 2,
                        "linecolor": "white",
                        "showbackground": true,
                        "ticks": "",
                        "zerolinecolor": "white"
                      }
                    },
                    "shapedefaults": {
                      "line": {
                        "color": "#2a3f5f"
                      }
                    },
                    "ternary": {
                      "aaxis": {
                        "gridcolor": "white",
                        "linecolor": "white",
                        "ticks": ""
                      },
                      "baxis": {
                        "gridcolor": "white",
                        "linecolor": "white",
                        "ticks": ""
                      },
                      "bgcolor": "#E5ECF6",
                      "caxis": {
                        "gridcolor": "white",
                        "linecolor": "white",
                        "ticks": ""
                      }
                    },
                    "title": {
                      "x": 0.05
                    },
                    "xaxis": {
                      "automargin": true,
                      "gridcolor": "white",
                      "linecolor": "white",
                      "ticks": "",
                      "title": {
                        "standoff": 15
                      },
                      "zerolinecolor": "white",
                      "zerolinewidth": 2
                    },
                    "yaxis": {
                      "automargin": true,
                      "gridcolor": "white",
                      "linecolor": "white",
                      "ticks": "",
                      "title": {
                        "standoff": 15
                      },
                      "zerolinecolor": "white",
                      "zerolinewidth": 2
                    }
                  }
                },
                "xaxis": {
                  "anchor": "y",
                  "domain": [
                    0,
                    1
                  ],
                  "title": {
                    "text": "index"
                  }
                },
                "yaxis": {
                  "anchor": "x",
                  "domain": [
                    0,
                    1
                  ],
                  "title": {
                    "text": "valid_acc"
                  }
                }
              }
            }
          },
          "metadata": {},
          "output_type": "display_data"
        }
      ],
      "source": [
        "model = DigitsLogistic().to(dev)\n",
        "opt = optim.SGD(model.parameters(), lr=lr)\n",
        "epochs = 100\n",
        "\n",
        "\n",
        "def fit(\n",
        "  model: nn.Module,\n",
        "  opt: optim.Adam,\n",
        "  epochs: int,\n",
        "  loss_func: Callable,\n",
        "  train_dl: TensorDataset,\n",
        "  valid_dl: TensorDataset,\n",
        "  dev: torch.device,\n",
        "):\n",
        "\n",
        "  valid_losses = []\n",
        "  valid_accs = []\n",
        "  best_acc = 0\n",
        "\n",
        "  for epoch in range(epochs):\n",
        "    model.train()\n",
        "    for X_curr, y_curr in train_dl:\n",
        "      X_curr = X_curr.to(dev)\n",
        "      y_curr = y_curr.to(dev)\n",
        "\n",
        "      y_pred_curr = model(X_curr)\n",
        "      loss = loss_func(y_pred_curr, y_curr)\n",
        "\n",
        "      loss.backward()\n",
        "      opt.step()\n",
        "      opt.zero_grad()\n",
        "\n",
        "    model.eval()\n",
        "    for X_val_curr, y_val_curr in valid_dl:\n",
        "      X_val_curr = X_val_curr.to(dev)\n",
        "      y_val_curr = y_val_curr.to(dev)\n",
        "\n",
        "      valid_loss = float(loss_func(model(X_val_curr), y_val_curr).cpu())\n",
        "      valid_losses.append(valid_loss)\n",
        "\n",
        "      acc_loss = accuracy(model(X_val_curr), y_val_curr).cpu()\n",
        "      valid_accs.append(acc_loss)\n",
        "\n",
        "    epoch_acc = np.mean(valid_accs)\n",
        "    if epoch_acc > best_acc:\n",
        "      best_acc = epoch_acc\n",
        "      torch.save(model.state_dict(), \"best_model.pt\")\n",
        "\n",
        "      print(\n",
        "        f\"Epoch {epoch}: Val Loss {np.mean(valid_losses):.2f}, \"\n",
        "        f\"Val Acc: {np.mean(valid_accs):.2f}\"\n",
        "      )\n",
        "\n",
        "  df = pd.DataFrame({\"valid_loss\": valid_losses, \"valid_acc\": valid_accs})\n",
        "  px.line(df, y=\"valid_acc\").show()\n",
        "\n",
        "\n",
        "fit(model, opt, epochs, loss_func, train_dl, valid_dl, dev)\n"
      ]
    },
    {
      "cell_type": "markdown",
      "metadata": {
        "id": "Oz2QEZ0h0ZBJ"
      },
      "source": [
        "## What has the network learnt?\n",
        "\n",
        "So far we have seen that the network has learnt, but how can we visualize it?\n",
        "There exists several mechanism to do so. On a logistic regression we can directly visualize both biases and weights!"
      ]
    },
    {
      "cell_type": "code",
      "execution_count": null,
      "metadata": {
        "colab": {
          "base_uri": "https://localhost:8080/",
          "height": 1000
        },
        "id": "pQfAWYIX0Ydz",
        "outputId": "3f6e5631-cb99-4d48-fed2-8b3d204f4892"
      },
      "outputs": [
        {
          "name": "stdout",
          "output_type": "stream",
          "text": [
            "Bias: tensor([-0.0988, -0.1760, -0.0187,  0.0784,  0.2224, -0.0350, -0.1253,  0.1009,\n",
            "        -0.2838,  0.0298])\n"
          ]
        },
        {
          "data": {
            "image/png": "[encoded data removed]",
            "text/plain": [
              "<Figure size 432x288 with 1 Axes>"
            ]
          },
          "metadata": {
            "needs_background": "light"
          },
          "output_type": "display_data"
        },
        {
          "data": {
            "image/png": "[encoded data removed]",
            "text/plain": [
              "<Figure size 432x288 with 1 Axes>"
            ]
          },
          "metadata": {
            "needs_background": "light"
          },
          "output_type": "display_data"
        },
        {
          "data": {
            "image/png": "[encoded data removed]",
            "text/plain": [
              "<Figure size 432x288 with 1 Axes>"
            ]
          },
          "metadata": {
            "needs_background": "light"
          },
          "output_type": "display_data"
        },
        {
          "data": {
            "image/png": "[encoded data removed]",
            "text/plain": [
              "<Figure size 432x288 with 1 Axes>"
            ]
          },
          "metadata": {
            "needs_background": "light"
          },
          "output_type": "display_data"
        },
        {
          "data": {
            "image/png": "[encoded data removed]",
            "text/plain": [
              "<Figure size 432x288 with 1 Axes>"
            ]
          },
          "metadata": {
            "needs_background": "light"
          },
          "output_type": "display_data"
        },
        {
          "data": {
            "image/png": "[encoded data removed]",
            "text/plain": [
              "<Figure size 432x288 with 1 Axes>"
            ]
          },
          "metadata": {
            "needs_background": "light"
          },
          "output_type": "display_data"
        },
        {
          "data": {
            "image/png": "[encoded data removed]",
            "text/plain": [
              "<Figure size 432x288 with 1 Axes>"
            ]
          },
          "metadata": {
            "needs_background": "light"
          },
          "output_type": "display_data"
        },
        {
          "data": {
            "image/png": "[encoded data removed]",
            "text/plain": [
              "<Figure size 432x288 with 1 Axes>"
            ]
          },
          "metadata": {
            "needs_background": "light"
          },
          "output_type": "display_data"
        },
        {
          "data": {
            "image/png": "[encoded data removed]",
            "text/plain": [
              "<Figure size 432x288 with 1 Axes>"
            ]
          },
          "metadata": {
            "needs_background": "light"
          },
          "output_type": "display_data"
        },
        {
          "data": {
            "image/png": "[encoded data removed]",
            "text/plain": [
              "<Figure size 432x288 with 1 Axes>"
            ]
          },
          "metadata": {
            "needs_background": "light"
          },
          "output_type": "display_data"
        }
      ],
      "source": [
        "learnt_bias = model.lin.bias.cpu().detach()\n",
        "learnt_weights = model.lin.weight.cpu().detach()\n",
        "print(f\"Bias: {learnt_bias}\")\n",
        "for i in range(10):\n",
        "  plt.imshow(learnt_weights[i].reshape((8, 8)), cmap=\"gray\")\n",
        "  plt.title(f\"Prototype of the {i} class\")\n",
        "  plt.show()"
      ]
    },
    {
      "cell_type": "markdown",
      "metadata": {
        "id": "Is7Z94v83efi"
      },
      "source": [
        "Otherwise with more complex model you can still see the distribution of the classes as learnt by the model through some visualization techniques. Personally I like very much [t-sne](https://lvdmaaten.github.io/tsne/): it allows to project into low dimensional representation (e.g. 2D) data which lies in very high dimensional spaces. \n",
        "\n",
        "Here is an example on the weights learnt by the network:"
      ]
    },
    {
      "cell_type": "code",
      "execution_count": null,
      "metadata": {
        "colab": {
          "base_uri": "https://localhost:8080/",
          "height": 321
        },
        "id": "UVPJ69J44gyL",
        "outputId": "2260aa74-a58b-4d5f-9fac-3df6fb0104fd"
      },
      "outputs": [
        {
          "name": "stderr",
          "output_type": "stream",
          "text": [
            "/usr/local/lib/python3.7/dist-packages/sklearn/manifold/_t_sne.py:986: FutureWarning: The PCA initialization in TSNE will change to have the standard deviation of PC1 equal to 1e-4 in 1.2. This will ensure better convergence.\n",
            "  FutureWarning,\n"
          ]
        },
        {
          "data": {
            "image/png": "[encoded data removed]",
            "text/plain": [
              "<Figure size 432x288 with 1 Axes>"
            ]
          },
          "metadata": {
            "needs_background": "light"
          },
          "output_type": "display_data"
        }
      ],
      "source": [
        "import seaborn as sns\n",
        "from sklearn.manifold import TSNE\n",
        "projected_weights = TSNE(n_components=2, init=\"pca\", learning_rate='auto').fit_transform(learnt_weights)\n",
        "sns.scatterplot(x=projected_weights[:,0], y=projected_weights[:,1], hue=(str(i) for i in range(10)), legend=False)\n",
        "[plt.text(projected_weights[i,0], projected_weights[i,1], s=str(i)) for i in range(10)]\n",
        "plt.show()"
      ]
    },
    {
      "cell_type": "markdown",
      "metadata": {
        "id": "wlmezIow6cZy"
      },
      "source": [
        "But you can do it for all the samples in the dataset as well!\n",
        "\n"
      ]
    },
    {
      "cell_type": "code",
      "execution_count": null,
      "metadata": {
        "id": "q2nJUIJl6b-V"
      },
      "outputs": [],
      "source": [
        "import seaborn as sns\n",
        "from sklearn.manifold import TSNE\n",
        "projected_samples = TSNE(n_components=2, init=\"pca\", learning_rate='auto').fit_transform(x)\n",
        "sns.scatterplot(x=projected_samples[:,0], y=projected_samples[:,1], hue=[str(y_i) for y_i in y])\n",
        "plt.show()"
      ]
    },
    {
      "cell_type": "markdown",
      "metadata": {
        "id": "6NFq0fhbGP-F"
      },
      "source": [
        "## Closing thoughts\n",
        "\n",
        "We now have a general data pipeline and training loop which you can use for\n",
        "training many types of models using Pytorch. \n",
        "\n",
        "We promised at the start of this tutorial we'd explain through example each of\n",
        "``torch.nn``, ``torch.optim``, ``Dataset``, and ``DataLoader``. So let's summarize\n",
        "what we've seen:\n",
        "\n",
        " - **torch.nn**\n",
        "\n",
        "   + ``Module``: creates a callable which behaves like a function, but can also\n",
        "     contain state(such as neural net layer weights). It knows what ``Parameter`` (s) it\n",
        "     contains and can zero all their gradients, loop through them for weight updates, etc.\n",
        "   + ``Parameter``: a wrapper for a tensor that tells a ``Module`` that it has weights\n",
        "     that need updating during backprop. Only tensors with the `requires_grad` attribute set are updated\n",
        "   + ``functional``: a module(usually imported into the ``F`` namespace by convention)\n",
        "     which contains activation functions, loss functions, etc, as well as non-stateful\n",
        "     versions of layers such as convolutional and linear layers.\n",
        " - ``torch.optim``: Contains optimizers such as ``SGD``, which update the weights\n",
        "   of ``Parameter`` during the backward step\n",
        " - ``Dataset``: An abstract interface of objects with a ``__len__`` and a ``__getitem__``,\n",
        "   including classes provided with Pytorch such as ``TensorDataset``\n",
        " - ``DataLoader``: Takes any ``Dataset`` and creates an iterator which returns batches of data.\n"
      ]
    }
  ],
  "metadata": {
    "accelerator": "GPU",
    "colab": {
      "collapsed_sections": [
        "gAa3H3EkGP9_",
        "spVPEQSbGP9_",
        "J_RoAmr7GP-A",
        "FEADjDjZGP-E",
        "6NFq0fhbGP-F"
      ],
      "provenance": [],
      "toc_visible": true
    },
    "kernelspec": {
      "display_name": "Python 3.10.6 64-bit",
      "language": "python",
      "name": "python3"
    },
    "language_info": {
      "codemirror_mode": {
        "name": "ipython",
        "version": 3
      },
      "file_extension": ".py",
      "mimetype": "text/x-python",
      "name": "python",
      "nbconvert_exporter": "python",
      "pygments_lexer": "ipython3",
      "version": "3.10.6"
    },
    "vscode": {
      "interpreter": {
        "hash": "31f2aee4e71d21fbe5cf8b01ff0e069b9275f58929596ceb00d14d90e3e16cd6"
      }
    }
  },
  "nbformat": 4,
  "nbformat_minor": 0
}

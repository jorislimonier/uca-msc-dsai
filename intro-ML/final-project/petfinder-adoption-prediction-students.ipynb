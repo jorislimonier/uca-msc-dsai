{
 "cells": [
  {
   "cell_type": "markdown",
   "metadata": {},
   "source": [
    "# Adopt a Pet\n",
    "\n",
    "You are in charge of an animal shelter and you want to predict if the animals you have in your possession can be adopted within 30 days or not.\n",
    "\n",
    "The dataset at your disposal contains different information about the animals in the shelter: data about the breed or color, data about a cost, data about its health. You even have a short description written by the former owner and a picture of the animal.\n",
    "\n",
    "We provide you only with the train part and a small test subset so that you can test the whole process."
   ]
  },
  {
   "cell_type": "markdown",
   "metadata": {},
   "source": [
    "<div class=\"alert-block alert-danger\">\n",
    "Deadline: Jannuary 15, 2022.\n",
    "<br>\n",
    "<br>\n",
    "You must submit a zip archive to LMS that contains 3 documents:\n",
    "\n",
    "- A pdf report that outlines the various stages of your work. You will insist on the different hyperparameters of your treatment and for each of them, you will specify on which ranges of values you have tested them. This report will also contain the precision obtained on the train set and on the test set.\n",
    "\n",
    "- the executable notebook containing only the chosen hyper-parameters and not their research. You will leave in this one the execution traces.\n",
    "\n",
    "- A \".joblib\" file so that we can execute your code. Of course, the test dataset will be modified and only the predict function of the pipeline will be executed.\n",
    "<br>\n",
    "<br> \n",
    "The final grade will be based on the quality of the prediction (accuracy score) for 25% and the quality of the work for 75%.\n",
    "</div>"
   ]
  },
  {
   "cell_type": "markdown",
   "metadata": {
    "toc": true
   },
   "source": [
    "<h1>Table of Contents<span class=\"tocSkip\"></span></h1>\n",
    "<div class=\"toc\"><ul class=\"toc-item\"><li><span><a href=\"#Load-train-data\" data-toc-modified-id=\"Load-train-data-1\"><span class=\"toc-item-num\">1&nbsp;&nbsp;</span>Load train data</a></span><ul class=\"toc-item\"><li><span><a href=\"#Load-the-images\" data-toc-modified-id=\"Load-the-images-1.1\"><span class=\"toc-item-num\">1.1&nbsp;&nbsp;</span>Load the images</a></span></li><li><span><a href=\"#Compute-SIFT-detector-and-descriptors-for-one-image\" data-toc-modified-id=\"Compute-SIFT-detector-and-descriptors-for-one-image-1.2\"><span class=\"toc-item-num\">1.2&nbsp;&nbsp;</span>Compute SIFT detector and descriptors for one image</a></span></li><li><span><a href=\"#Extract-features-and-build-BOFs\" data-toc-modified-id=\"Extract-features-and-build-BOFs-1.3\"><span class=\"toc-item-num\">1.3&nbsp;&nbsp;</span>Extract features and build BOFs</a></span></li></ul></li><li><span><a href=\"#Build-a-basic-model\" data-toc-modified-id=\"Build-a-basic-model-2\"><span class=\"toc-item-num\">2&nbsp;&nbsp;</span>Build a basic model</a></span></li><li><span><a href=\"#Evaluation-of-the-model\" data-toc-modified-id=\"Evaluation-of-the-model-3\"><span class=\"toc-item-num\">3&nbsp;&nbsp;</span>Evaluation of the model</a></span></li></ul></div>"
   ]
  },
  {
   "cell_type": "code",
   "execution_count": 1,
   "metadata": {
    "ExecuteTime": {
     "end_time": "2021-11-15T13:05:04.746841Z",
     "start_time": "2021-11-15T13:05:04.738365Z"
    }
   },
   "outputs": [],
   "source": [
    "import os\n",
    "from tqdm import tqdm\n",
    "\n",
    "import warnings\n",
    "warnings.filterwarnings(\"ignore\")\n",
    "\n",
    "import ssl\n",
    "ssl._create_default_https_context = ssl._create_unverified_context"
   ]
  },
  {
   "cell_type": "code",
   "execution_count": 2,
   "metadata": {
    "ExecuteTime": {
     "end_time": "2021-11-15T13:05:04.862293Z",
     "start_time": "2021-11-15T13:05:04.856630Z"
    }
   },
   "outputs": [],
   "source": [
    "import numpy as np \n",
    "import pandas as pd \n",
    "\n",
    "import matplotlib.pyplot as plt\n",
    "%matplotlib inline"
   ]
  },
  {
   "cell_type": "markdown",
   "metadata": {},
   "source": [
    "## Load train data"
   ]
  },
  {
   "cell_type": "code",
   "execution_count": 3,
   "metadata": {
    "ExecuteTime": {
     "end_time": "2021-11-15T13:05:05.296448Z",
     "start_time": "2021-11-15T13:05:05.293560Z"
    }
   },
   "outputs": [],
   "source": [
    "path = \"https://www.i3s.unice.fr/~riveill/dataset/petfinder-adoption-prediction/\""
   ]
  },
  {
   "cell_type": "code",
   "execution_count": 4,
   "metadata": {
    "ExecuteTime": {
     "end_time": "2021-11-15T13:05:05.899849Z",
     "start_time": "2021-11-15T13:05:05.414280Z"
    },
    "_cell_guid": "79c7e3d0-c299-4dcb-8224-4455121ee9b0",
    "_kg_hide-input": true,
    "_uuid": "d629ff2d2480ee46fbb7e2d37f6b5fab8052498a"
   },
   "outputs": [],
   "source": [
    "breeds = pd.read_csv(path+'breed_labels.csv')\n",
    "colors = pd.read_csv(path+'color_labels.csv')\n",
    "states = pd.read_csv(path+'state_labels.csv')\n",
    "\n",
    "train = pd.read_csv(path+'train.csv')\n",
    "\n",
    "train['dataset_type'] = 'train'"
   ]
  },
  {
   "cell_type": "code",
   "execution_count": 5,
   "metadata": {
    "ExecuteTime": {
     "end_time": "2021-11-15T13:05:05.911843Z",
     "start_time": "2021-11-15T13:05:05.902603Z"
    }
   },
   "outputs": [
    {
     "data": {
      "text/plain": [
       "8168"
      ]
     },
     "execution_count": 5,
     "metadata": {},
     "output_type": "execute_result"
    }
   ],
   "source": [
    "len(train)"
   ]
  },
  {
   "cell_type": "code",
   "execution_count": 6,
   "metadata": {
    "ExecuteTime": {
     "end_time": "2021-11-15T13:05:05.918717Z",
     "start_time": "2021-11-15T13:05:05.915427Z"
    }
   },
   "outputs": [],
   "source": [
    "# In this example notebook, we will only work with a small part of the dataset\n",
    "N = 4000\n",
    "train = train[:N]"
   ]
  },
  {
   "cell_type": "code",
   "execution_count": 7,
   "metadata": {
    "ExecuteTime": {
     "end_time": "2021-11-15T13:05:05.931456Z",
     "start_time": "2021-11-15T13:05:05.924084Z"
    }
   },
   "outputs": [
    {
     "data": {
      "text/plain": [
       "Index(['Type', 'Age', 'Gender', 'Color1', 'Color2', 'Color3', 'MaturitySize',\n",
       "       'FurLength', 'Vaccinated', 'Dewormed', 'Sterilized', 'Health', 'Fee',\n",
       "       'Description', 'Images', 'Breed', 'target'],\n",
       "      dtype='object')"
      ]
     },
     "execution_count": 7,
     "metadata": {},
     "output_type": "execute_result"
    }
   ],
   "source": [
    "if 'dataset_type' in train.columns:\n",
    "    train = train.drop(labels='dataset_type', axis=1)\n",
    "train.columns"
   ]
  },
  {
   "cell_type": "code",
   "execution_count": 8,
   "metadata": {
    "ExecuteTime": {
     "end_time": "2021-11-15T13:05:05.960036Z",
     "start_time": "2021-11-15T13:05:05.933536Z"
    }
   },
   "outputs": [
    {
     "data": {
      "text/html": [
       "<div>\n",
       "<style scoped>\n",
       "    .dataframe tbody tr th:only-of-type {\n",
       "        vertical-align: middle;\n",
       "    }\n",
       "\n",
       "    .dataframe tbody tr th {\n",
       "        vertical-align: top;\n",
       "    }\n",
       "\n",
       "    .dataframe thead th {\n",
       "        text-align: right;\n",
       "    }\n",
       "</style>\n",
       "<table border=\"1\" class=\"dataframe\">\n",
       "  <thead>\n",
       "    <tr style=\"text-align: right;\">\n",
       "      <th></th>\n",
       "      <th>Type</th>\n",
       "      <th>Age</th>\n",
       "      <th>Gender</th>\n",
       "      <th>Color1</th>\n",
       "      <th>Color2</th>\n",
       "      <th>Color3</th>\n",
       "      <th>MaturitySize</th>\n",
       "      <th>FurLength</th>\n",
       "      <th>Vaccinated</th>\n",
       "      <th>Dewormed</th>\n",
       "      <th>Sterilized</th>\n",
       "      <th>Health</th>\n",
       "      <th>Fee</th>\n",
       "      <th>Description</th>\n",
       "      <th>Images</th>\n",
       "      <th>Breed</th>\n",
       "    </tr>\n",
       "  </thead>\n",
       "  <tbody>\n",
       "    <tr>\n",
       "      <th>0</th>\n",
       "      <td>Cat</td>\n",
       "      <td>12.0</td>\n",
       "      <td>Female</td>\n",
       "      <td>White</td>\n",
       "      <td>Unknown</td>\n",
       "      <td>Unknown</td>\n",
       "      <td>Medium</td>\n",
       "      <td>Yes</td>\n",
       "      <td>Unknown</td>\n",
       "      <td>Unknown</td>\n",
       "      <td>Unknown</td>\n",
       "      <td>Healthy</td>\n",
       "      <td>0.0</td>\n",
       "      <td>We got Luna when she was a kitten in Feb 15'. ...</td>\n",
       "      <td>880e13787-4.jpg</td>\n",
       "      <td>Domestic_Short_Hair</td>\n",
       "    </tr>\n",
       "    <tr>\n",
       "      <th>1</th>\n",
       "      <td>Cat</td>\n",
       "      <td>4.0</td>\n",
       "      <td>Male</td>\n",
       "      <td>Golden</td>\n",
       "      <td>White</td>\n",
       "      <td>Unknown</td>\n",
       "      <td>Medium</td>\n",
       "      <td>Yes</td>\n",
       "      <td>No</td>\n",
       "      <td>Yes</td>\n",
       "      <td>No</td>\n",
       "      <td>Healthy</td>\n",
       "      <td>0.0</td>\n",
       "      <td>Ginger Boy was found starving and hungry so I ...</td>\n",
       "      <td>7abe9a0a1-2.jpg</td>\n",
       "      <td>Domestic_Short_Hair</td>\n",
       "    </tr>\n",
       "    <tr>\n",
       "      <th>2</th>\n",
       "      <td>Cat</td>\n",
       "      <td>12.0</td>\n",
       "      <td>Female</td>\n",
       "      <td>Black</td>\n",
       "      <td>Golden</td>\n",
       "      <td>White</td>\n",
       "      <td>Medium</td>\n",
       "      <td>No</td>\n",
       "      <td>No</td>\n",
       "      <td>No</td>\n",
       "      <td>No</td>\n",
       "      <td>Healthy</td>\n",
       "      <td>0.0</td>\n",
       "      <td>An indoor cat with nice green/ yellowish eyes....</td>\n",
       "      <td>605d07d33-5.jpg</td>\n",
       "      <td>Domestic_Medium_Hair</td>\n",
       "    </tr>\n",
       "    <tr>\n",
       "      <th>3</th>\n",
       "      <td>Dog</td>\n",
       "      <td>60.0</td>\n",
       "      <td>Male</td>\n",
       "      <td>Black</td>\n",
       "      <td>Gray</td>\n",
       "      <td>White</td>\n",
       "      <td>Medium</td>\n",
       "      <td>No</td>\n",
       "      <td>Yes</td>\n",
       "      <td>Unknown</td>\n",
       "      <td>Unknown</td>\n",
       "      <td>Healthy</td>\n",
       "      <td>0.0</td>\n",
       "      <td>My dog name called boo. He is a male. I feedin...</td>\n",
       "      <td>7ed568ab9-1.jpg</td>\n",
       "      <td>Schnauzer</td>\n",
       "    </tr>\n",
       "    <tr>\n",
       "      <th>4</th>\n",
       "      <td>Cat</td>\n",
       "      <td>36.0</td>\n",
       "      <td>Female</td>\n",
       "      <td>Cream</td>\n",
       "      <td>Gray</td>\n",
       "      <td>White</td>\n",
       "      <td>Large</td>\n",
       "      <td>No</td>\n",
       "      <td>No</td>\n",
       "      <td>No</td>\n",
       "      <td>Yes</td>\n",
       "      <td>Healthy</td>\n",
       "      <td>0.0</td>\n",
       "      <td>1) Foxy is a stray cat which I feed regularly,...</td>\n",
       "      <td>8969b314b-5.jpg</td>\n",
       "      <td>Siamese</td>\n",
       "    </tr>\n",
       "  </tbody>\n",
       "</table>\n",
       "</div>"
      ],
      "text/plain": [
       "  Type   Age  Gender  Color1   Color2   Color3 MaturitySize FurLength  \\\n",
       "0  Cat  12.0  Female   White  Unknown  Unknown       Medium       Yes   \n",
       "1  Cat   4.0    Male  Golden    White  Unknown       Medium       Yes   \n",
       "2  Cat  12.0  Female   Black   Golden    White       Medium        No   \n",
       "3  Dog  60.0    Male   Black     Gray    White       Medium        No   \n",
       "4  Cat  36.0  Female   Cream     Gray    White        Large        No   \n",
       "\n",
       "  Vaccinated Dewormed Sterilized   Health  Fee  \\\n",
       "0    Unknown  Unknown    Unknown  Healthy  0.0   \n",
       "1         No      Yes         No  Healthy  0.0   \n",
       "2         No       No         No  Healthy  0.0   \n",
       "3        Yes  Unknown    Unknown  Healthy  0.0   \n",
       "4         No       No        Yes  Healthy  0.0   \n",
       "\n",
       "                                         Description           Images  \\\n",
       "0  We got Luna when she was a kitten in Feb 15'. ...  880e13787-4.jpg   \n",
       "1  Ginger Boy was found starving and hungry so I ...  7abe9a0a1-2.jpg   \n",
       "2  An indoor cat with nice green/ yellowish eyes....  605d07d33-5.jpg   \n",
       "3  My dog name called boo. He is a male. I feedin...  7ed568ab9-1.jpg   \n",
       "4  1) Foxy is a stray cat which I feed regularly,...  8969b314b-5.jpg   \n",
       "\n",
       "                  Breed  \n",
       "0   Domestic_Short_Hair  \n",
       "1   Domestic_Short_Hair  \n",
       "2  Domestic_Medium_Hair  \n",
       "3             Schnauzer  \n",
       "4               Siamese  "
      ]
     },
     "execution_count": 8,
     "metadata": {},
     "output_type": "execute_result"
    }
   ],
   "source": [
    "y_train = train['target']\n",
    "X_train = train.drop(['target'], axis=1)\n",
    "X_train.head()"
   ]
  },
  {
   "cell_type": "code",
   "execution_count": 9,
   "metadata": {
    "ExecuteTime": {
     "end_time": "2021-11-15T13:05:06.273666Z",
     "start_time": "2021-11-15T13:05:06.268299Z"
    },
    "_uuid": "a4841f7e73af45347802752d59556ea3e9d4523f"
   },
   "outputs": [],
   "source": [
    "cat_cols = ['Type', 'Gender', 'Breed', 'Color1', 'Color2', 'Color3', \n",
    "       'MaturitySize', 'FurLength', 'Vaccinated', 'Dewormed',\n",
    "       'Sterilized', 'Health']\n",
    "num_cols = ['Age', 'Fee']\n",
    "txt_cols = ['Description']\n",
    "img_cols = ['Images']"
   ]
  },
  {
   "cell_type": "markdown",
   "metadata": {},
   "source": [
    "### Load the images"
   ]
  },
  {
   "cell_type": "code",
   "execution_count": 10,
   "metadata": {
    "ExecuteTime": {
     "end_time": "2021-11-15T13:05:06.636382Z",
     "start_time": "2021-11-15T13:05:06.632428Z"
    }
   },
   "outputs": [],
   "source": [
    "# Build the image list of the training set \n",
    "img_dir = \"train_images/\"\n",
    "X_train['Images'] = [path+img_dir+img for img in train['Images']]"
   ]
  },
  {
   "cell_type": "code",
   "execution_count": 11,
   "metadata": {},
   "outputs": [
    {
     "data": {
      "text/plain": [
       "'https://www.i3s.unice.fr/~riveill/dataset/petfinder-adoption-prediction/train_images/880e13787-4.jpg'"
      ]
     },
     "execution_count": 11,
     "metadata": {},
     "output_type": "execute_result"
    }
   ],
   "source": [
    "X_train[\"Images\"][0]"
   ]
  },
  {
   "cell_type": "code",
   "execution_count": 12,
   "metadata": {
    "ExecuteTime": {
     "end_time": "2021-11-15T13:05:07.114191Z",
     "start_time": "2021-11-15T13:05:06.743665Z"
    }
   },
   "outputs": [
    {
     "data": {
      "text/plain": [
       "<matplotlib.image.AxesImage at 0x7f1a3d4a9550>"
      ]
     },
     "execution_count": 12,
     "metadata": {},
     "output_type": "execute_result"
    },
    {
     "data": {
      "image/png": "[encoded data removed]",
      "text/plain": [
       "<Figure size 432x288 with 1 Axes>"
      ]
     },
     "metadata": {
      "needs_background": "light"
     },
     "output_type": "display_data"
    }
   ],
   "source": [
    "from skimage import io\n",
    "\n",
    "# Read the first image of the list\n",
    "img = io.imread(X_train['Images'][0])\n",
    "# have a look to the image\n",
    "plt.imshow(img)"
   ]
  },
  {
   "cell_type": "markdown",
   "metadata": {},
   "source": [
    "### Compute SIFT detector and descriptors for one image"
   ]
  },
  {
   "cell_type": "code",
   "execution_count": 13,
   "metadata": {
    "ExecuteTime": {
     "end_time": "2021-11-15T13:05:07.303160Z",
     "start_time": "2021-11-15T13:05:07.116634Z"
    }
   },
   "outputs": [],
   "source": [
    "# convert the image to grey levels\n",
    "import cv2\n",
    "\n",
    "gray = cv2.cvtColor(img, cv2.COLOR_BGR2GRAY)"
   ]
  },
  {
   "cell_type": "code",
   "execution_count": 14,
   "metadata": {
    "ExecuteTime": {
     "end_time": "2021-11-15T13:05:07.382933Z",
     "start_time": "2021-11-15T13:05:07.306187Z"
    }
   },
   "outputs": [
    {
     "data": {
      "text/plain": [
       "<matplotlib.image.AxesImage at 0x7f1a29ab12e0>"
      ]
     },
     "execution_count": 14,
     "metadata": {},
     "output_type": "execute_result"
    },
    {
     "data": {
      "image/png": "[encoded data removed]",
      "text/plain": [
       "<Figure size 432x288 with 1 Axes>"
      ]
     },
     "metadata": {
      "needs_background": "light"
     },
     "output_type": "display_data"
    }
   ],
   "source": [
    "# compute SIFT detector and descriptors\n",
    "sift = cv2.SIFT_create()\n",
    "kp,des = sift.detectAndCompute(gray,None)\n",
    "\n",
    "# plot image and descriptors\n",
    "cv2.drawKeypoints(img,kp,img,flags=cv2.DRAW_MATCHES_FLAGS_DRAW_RICH_KEYPOINTS)\n",
    "plt.imshow(img)"
   ]
  },
  {
   "cell_type": "markdown",
   "metadata": {},
   "source": [
    "### Extract features and build BOFs"
   ]
  },
  {
   "cell_type": "code",
   "execution_count": 15,
   "metadata": {
    "ExecuteTime": {
     "end_time": "2021-11-15T13:05:07.748777Z",
     "start_time": "2021-11-15T13:05:07.743897Z"
    }
   },
   "outputs": [],
   "source": [
    "# First step, extract the SIFTs of each image\n",
    "# Be carefull: very long process\n",
    "\n",
    "def extract_SIFT(img_lst):\n",
    "    nbSIFTs = 0    # Nomber of SIFTs\n",
    "    SIFTs = []  # List of SIFTs descriptors \n",
    "    #dimImgs = []   # Nb of descriptors associated to each images\n",
    "\n",
    "    for pathImg in tqdm(img_lst, position=0, leave=True): \n",
    "        img = io.imread(pathImg)\n",
    "        if len(img.shape)==2: # this is a grey level image\n",
    "            gray = img\n",
    "        else: # we expect the image to be a RGB image or RGBA\n",
    "            gray = cv2.cvtColor(img, cv2.COLOR_BGR2GRAY)\n",
    "        sift = cv2.SIFT_create()\n",
    "        kp, des = sift.detectAndCompute(gray, None)\n",
    "        if len(kp) == 0 and img.shape[2]==4: #some images are mask on alpha channel: we thus extract this channel if not kpts have been detected\n",
    "            gray = img[:,:,3]\n",
    "            sift = cv2.SIFT_create()\n",
    "            kp, des = sift.detectAndCompute(gray, None)\n",
    "        \n",
    "        nbSIFTs += des.shape[0]\n",
    "        SIFTs.append(des)\n",
    "        #dimImgs.append(des.shape[0])\n",
    "    return nbSIFTs, SIFTs#, dimImgs"
   ]
  },
  {
   "cell_type": "code",
   "execution_count": 16,
   "metadata": {
    "ExecuteTime": {
     "end_time": "2021-11-15T13:05:08.547912Z",
     "start_time": "2021-11-15T13:05:07.861201Z"
    }
   },
   "outputs": [],
   "source": [
    "# nbSIFTs, SIFTs = extract_SIFT(X_train['Images'])\n",
    "# print('nbSifts: ', nbSIFTs)"
   ]
  },
  {
   "cell_type": "code",
   "execution_count": 17,
   "metadata": {
    "ExecuteTime": {
     "end_time": "2021-11-15T13:05:09.154440Z",
     "start_time": "2021-11-15T13:05:08.551482Z"
    }
   },
   "outputs": [],
   "source": [
    "# Step 2: clusterize the SIFT\n",
    "from sklearn.cluster import MiniBatchKMeans\n",
    "\n",
    "def clusterize(SIFTs, nb_img_features=5, verbose=False):\n",
    "    clusterizer = MiniBatchKMeans(n_clusters=nb_img_features)   # nb_img_features is a hyperparameter\n",
    "    # learning of the clustering\n",
    "    flat_list = SIFTs[0]\n",
    "    for des in SIFTs[1:]:\n",
    "        flat_list = np.concatenate((flat_list, des))\n",
    "        if verbose:\n",
    "            print(\"shape:\", des.shape, flat_list.shape)\n",
    "    clusterizer.fit(flat_list)\n",
    "    # we now know the label of each SIFT descriptor\n",
    "    return clusterizer"
   ]
  },
  {
   "cell_type": "code",
   "execution_count": 18,
   "metadata": {},
   "outputs": [],
   "source": [
    "# clusterizer = MiniBatchKMeans(n_clusters=5)   # nb_img_features is a hyperparameter\n",
    "# # learning of the clustering\n",
    "# flat_list = SIFTs[0]\n",
    "# for des in SIFTs[1:]:\n",
    "#     flat_list = np.concatenate((flat_list, des))\n",
    "# clusterizer.fit(flat_list)"
   ]
  },
  {
   "cell_type": "code",
   "execution_count": 19,
   "metadata": {
    "ExecuteTime": {
     "end_time": "2021-11-15T13:05:09.243732Z",
     "start_time": "2021-11-15T13:05:09.160882Z"
    }
   },
   "outputs": [],
   "source": [
    "# clusterizer = clusterize(SIFTs, verbose=True)"
   ]
  },
  {
   "cell_type": "code",
   "execution_count": 20,
   "metadata": {
    "ExecuteTime": {
     "end_time": "2021-11-15T13:05:09.254236Z",
     "start_time": "2021-11-15T13:05:09.246782Z"
    }
   },
   "outputs": [],
   "source": [
    "# Step 3: build the BOW representation of each images (i.e. construction of the BOFs)\n",
    "\n",
    "def build_BOFs(SIFTs, clusterizer, verbose=False):\n",
    "    ok, nok = 0, 0\n",
    "    #BOF initialization\n",
    "    nb_img_features = clusterizer.get_params()['n_clusters']\n",
    "    BOFs = np.empty(shape=(0, nb_img_features), dtype=int)\n",
    "\n",
    "    # Build label list\n",
    "    flat_list = SIFTs[0]\n",
    "    for des in SIFTs[1:]:\n",
    "        flat_list = np.concatenate((flat_list, des))\n",
    "        if verbose:\n",
    "            print(\"shape:\", des.shape, flat_list.shape)\n",
    "    labels = clusterizer.predict(flat_list)\n",
    "\n",
    "    # loop on images\n",
    "    i = 0 # index for the loop on SIFTs\n",
    "    for des in SIFTs:\n",
    "        #initialisation of the bof for the current image\n",
    "        tmpBof = np.array([0]*nb_img_features)\n",
    "        j = 0\n",
    "        # for every SIFT of the current image:\n",
    "        nbs = des.shape[0]\n",
    "        while j < nbs:\n",
    "            tmpBof[labels[i]] += 1\n",
    "            j+=1\n",
    "            i+=1\n",
    "        BOFs = np.concatenate((BOFs, tmpBof.reshape(1,-1)), axis=0)\n",
    "    if verbose:\n",
    "        print(\"BOFs : \", BOFs)\n",
    "    \n",
    "    return BOFs"
   ]
  },
  {
   "cell_type": "code",
   "execution_count": 21,
   "metadata": {
    "ExecuteTime": {
     "end_time": "2021-11-15T13:05:09.281935Z",
     "start_time": "2021-11-15T13:05:09.256927Z"
    }
   },
   "outputs": [],
   "source": [
    "# BOFs = build_BOFs(SIFTs, clusterizer, verbose=True)\n",
    "# BOFs.shape"
   ]
  },
  {
   "cell_type": "code",
   "execution_count": 22,
   "metadata": {
    "ExecuteTime": {
     "end_time": "2021-11-15T13:06:50.221010Z",
     "start_time": "2021-11-15T13:06:50.208658Z"
    }
   },
   "outputs": [],
   "source": [
    "from sklearn.base import BaseEstimator,TransformerMixin\n",
    "\n",
    "def list_comparaison(l1, l2):\n",
    "    if not l1 is None \\\n",
    "        and not l2 is None \\\n",
    "        and len(l1)==len(l2) \\\n",
    "        and len(l1)==sum([1 for i,j in zip(l1, l2) if i==j]):\n",
    "        return True\n",
    "    return False\n",
    "    \n",
    "class BOF_extractor(BaseEstimator,TransformerMixin): \n",
    "    X = None\n",
    "    SIFTs = None\n",
    "    nbSIFTs = 0\n",
    "    \n",
    "    def __init__(self, nb_img_features=10, verbose=False):\n",
    "        self.nb_img_features = nb_img_features\n",
    "        self.verbose = verbose\n",
    "        self.path = path\n",
    "        if self.verbose:\n",
    "            print(\"BOF.init()\")\n",
    "        \n",
    "    def fit(self, X, y=None):\n",
    "        if self.verbose:\n",
    "            print(\"BOF.fit()\")\n",
    "        if list_comparaison(X, self.X):\n",
    "            SIFTs = self.SIFTs \n",
    "            nbSIFTs = self.nbSIFTs\n",
    "        else:\n",
    "            if self.verbose:\n",
    "                print(\"extract_SIFT\")\n",
    "            nbSIFTs, SIFTs = extract_SIFT(X)\n",
    "        self.X = X\n",
    "        self.SIFTs = SIFTs \n",
    "        self.nbSIFTs = nbSIFTs\n",
    "        self.clusterizer = clusterize(SIFTs, self.nb_img_features, self.verbose)\n",
    "        \n",
    "    def transform(self, X, y=None):\n",
    "        if self.verbose:\n",
    "            print(\"BOF.transform()\")\n",
    "        if list_comparaison(X, self.X):\n",
    "            SIFTs = self.SIFTs \n",
    "            nbSIFTs = self.nbSIFTs\n",
    "        else:\n",
    "            if self.verbose:\n",
    "                print(\"extract_SIFT\")\n",
    "            nbSIFTs, SIFTs = extract_SIFT(X)\n",
    "\n",
    "        if self.verbose:\n",
    "            print(\"nbSIFTs:\", nbSIFTs)\n",
    "        return build_BOFs(SIFTs, self.clusterizer, self.verbose)\n",
    "    \n",
    "    def fit_transform(self, X, y=None):\n",
    "        if self.verbose:\n",
    "            print(\"BOF.fit_transform()\")\n",
    "        if list_comparaison(X, self.X):\n",
    "            SIFTs = self.SIFTs \n",
    "            nbSIFTs = self.nbSIFTs\n",
    "        else:\n",
    "            if self.verbose:\n",
    "                print(\"extract_SIFT\")\n",
    "            nbSIFTs, SIFTs = extract_SIFT(X)\n",
    "        self.X = X\n",
    "        self.SIFTs = SIFTs \n",
    "        self.nbSIFTs = nbSIFTs\n",
    "        self.clusterizer = clusterize(SIFTs, self.nb_img_features, self.verbose)\n",
    "        return build_BOFs(SIFTs, self.clusterizer, self.verbose)"
   ]
  },
  {
   "cell_type": "code",
   "execution_count": 23,
   "metadata": {
    "ExecuteTime": {
     "end_time": "2021-11-15T13:06:50.971579Z",
     "start_time": "2021-11-15T13:06:50.968219Z"
    }
   },
   "outputs": [
    {
     "name": "stdout",
     "output_type": "stream",
     "text": [
      "BOF.init()\n"
     ]
    }
   ],
   "source": [
    "test_BOF_extractor = BOF_extractor(nb_img_features=5, verbose=True)"
   ]
  },
  {
   "cell_type": "code",
   "execution_count": 24,
   "metadata": {
    "ExecuteTime": {
     "end_time": "2021-11-15T13:06:52.273047Z",
     "start_time": "2021-11-15T13:06:51.520911Z"
    }
   },
   "outputs": [],
   "source": [
    "# test_BOF_extractor.fit(X_train['Images'])"
   ]
  },
  {
   "cell_type": "code",
   "execution_count": 25,
   "metadata": {
    "ExecuteTime": {
     "end_time": "2021-11-15T13:06:52.694020Z",
     "start_time": "2021-11-15T13:06:52.672571Z"
    }
   },
   "outputs": [],
   "source": [
    "# BOFs = test_BOF_extractor.transform(X_train['Images'])\n",
    "# BOFs.shape"
   ]
  },
  {
   "cell_type": "code",
   "execution_count": 26,
   "metadata": {
    "ExecuteTime": {
     "end_time": "2021-11-15T13:06:53.309213Z",
     "start_time": "2021-11-15T13:06:53.232283Z"
    }
   },
   "outputs": [],
   "source": [
    "# BOFs = test_BOF_extractor.fit_transform(X_train['Images'])\n",
    "# BOFs.shape"
   ]
  },
  {
   "cell_type": "code",
   "execution_count": 27,
   "metadata": {
    "ExecuteTime": {
     "end_time": "2021-11-15T13:06:53.902458Z",
     "start_time": "2021-11-15T13:06:53.856230Z"
    }
   },
   "outputs": [
    {
     "name": "stdout",
     "output_type": "stream",
     "text": [
      "250\n"
     ]
    },
    {
     "data": {
      "text/html": [
       "<div>\n",
       "<style scoped>\n",
       "    .dataframe tbody tr th:only-of-type {\n",
       "        vertical-align: middle;\n",
       "    }\n",
       "\n",
       "    .dataframe tbody tr th {\n",
       "        vertical-align: top;\n",
       "    }\n",
       "\n",
       "    .dataframe thead th {\n",
       "        text-align: right;\n",
       "    }\n",
       "</style>\n",
       "<table border=\"1\" class=\"dataframe\">\n",
       "  <thead>\n",
       "    <tr style=\"text-align: right;\">\n",
       "      <th></th>\n",
       "      <th>Type</th>\n",
       "      <th>Age</th>\n",
       "      <th>Gender</th>\n",
       "      <th>Color1</th>\n",
       "      <th>Color2</th>\n",
       "      <th>Color3</th>\n",
       "      <th>MaturitySize</th>\n",
       "      <th>FurLength</th>\n",
       "      <th>Vaccinated</th>\n",
       "      <th>Dewormed</th>\n",
       "      <th>Sterilized</th>\n",
       "      <th>Health</th>\n",
       "      <th>Fee</th>\n",
       "      <th>Description</th>\n",
       "      <th>Images</th>\n",
       "      <th>Breed</th>\n",
       "    </tr>\n",
       "  </thead>\n",
       "  <tbody>\n",
       "    <tr>\n",
       "      <th>0</th>\n",
       "      <td>Dog</td>\n",
       "      <td>1.0</td>\n",
       "      <td>Male</td>\n",
       "      <td>Black</td>\n",
       "      <td>Gray</td>\n",
       "      <td>Unknown</td>\n",
       "      <td>Medium</td>\n",
       "      <td>Yes</td>\n",
       "      <td>No</td>\n",
       "      <td>No</td>\n",
       "      <td>No</td>\n",
       "      <td>Healthy</td>\n",
       "      <td>0.0</td>\n",
       "      <td>The second puppy of Megan's first litter. Puma...</td>\n",
       "      <td>https://www.i3s.unice.fr/~riveill/dataset/petf...</td>\n",
       "      <td>Mixed_Breed</td>\n",
       "    </tr>\n",
       "    <tr>\n",
       "      <th>1</th>\n",
       "      <td>Cat</td>\n",
       "      <td>3.0</td>\n",
       "      <td>Female</td>\n",
       "      <td>Black</td>\n",
       "      <td>Yellow</td>\n",
       "      <td>Unknown</td>\n",
       "      <td>Medium</td>\n",
       "      <td>Yes</td>\n",
       "      <td>No</td>\n",
       "      <td>No</td>\n",
       "      <td>No</td>\n",
       "      <td>Healthy</td>\n",
       "      <td>0.0</td>\n",
       "      <td>Tim is female kitten.active and playful.pls sm...</td>\n",
       "      <td>https://www.i3s.unice.fr/~riveill/dataset/petf...</td>\n",
       "      <td>Domestic_Short_Hair</td>\n",
       "    </tr>\n",
       "    <tr>\n",
       "      <th>2</th>\n",
       "      <td>Dog</td>\n",
       "      <td>5.0</td>\n",
       "      <td>Female</td>\n",
       "      <td>Black</td>\n",
       "      <td>Brown</td>\n",
       "      <td>Unknown</td>\n",
       "      <td>Medium</td>\n",
       "      <td>Yes</td>\n",
       "      <td>Yes</td>\n",
       "      <td>Yes</td>\n",
       "      <td>Yes</td>\n",
       "      <td>Healthy</td>\n",
       "      <td>0.0</td>\n",
       "      <td>She was found wearing a red collar, wandering ...</td>\n",
       "      <td>https://www.i3s.unice.fr/~riveill/dataset/petf...</td>\n",
       "      <td>Mixed_Breed</td>\n",
       "    </tr>\n",
       "    <tr>\n",
       "      <th>3</th>\n",
       "      <td>Cat</td>\n",
       "      <td>3.0</td>\n",
       "      <td>Male</td>\n",
       "      <td>Cream</td>\n",
       "      <td>Unknown</td>\n",
       "      <td>Unknown</td>\n",
       "      <td>Small</td>\n",
       "      <td>Yes</td>\n",
       "      <td>No</td>\n",
       "      <td>Yes</td>\n",
       "      <td>No</td>\n",
       "      <td>Healthy</td>\n",
       "      <td>0.0</td>\n",
       "      <td>3 months old male kitten. Adopters have to vac...</td>\n",
       "      <td>https://www.i3s.unice.fr/~riveill/dataset/petf...</td>\n",
       "      <td>Domestic_Short_Hair</td>\n",
       "    </tr>\n",
       "    <tr>\n",
       "      <th>4</th>\n",
       "      <td>Dog</td>\n",
       "      <td>0.0</td>\n",
       "      <td>Female</td>\n",
       "      <td>Black</td>\n",
       "      <td>Unknown</td>\n",
       "      <td>Unknown</td>\n",
       "      <td>Small</td>\n",
       "      <td>No</td>\n",
       "      <td>Unknown</td>\n",
       "      <td>Unknown</td>\n",
       "      <td>Unknown</td>\n",
       "      <td>Minor Injury</td>\n",
       "      <td>0.0</td>\n",
       "      <td>Please help her. She is an abandon victim. Ver...</td>\n",
       "      <td>https://www.i3s.unice.fr/~riveill/dataset/petf...</td>\n",
       "      <td>Terrier</td>\n",
       "    </tr>\n",
       "  </tbody>\n",
       "</table>\n",
       "</div>"
      ],
      "text/plain": [
       "  Type  Age  Gender Color1   Color2   Color3 MaturitySize FurLength  \\\n",
       "0  Dog  1.0    Male  Black     Gray  Unknown       Medium       Yes   \n",
       "1  Cat  3.0  Female  Black   Yellow  Unknown       Medium       Yes   \n",
       "2  Dog  5.0  Female  Black    Brown  Unknown       Medium       Yes   \n",
       "3  Cat  3.0    Male  Cream  Unknown  Unknown        Small       Yes   \n",
       "4  Dog  0.0  Female  Black  Unknown  Unknown        Small        No   \n",
       "\n",
       "  Vaccinated Dewormed Sterilized        Health  Fee  \\\n",
       "0         No       No         No       Healthy  0.0   \n",
       "1         No       No         No       Healthy  0.0   \n",
       "2        Yes      Yes        Yes       Healthy  0.0   \n",
       "3         No      Yes         No       Healthy  0.0   \n",
       "4    Unknown  Unknown    Unknown  Minor Injury  0.0   \n",
       "\n",
       "                                         Description  \\\n",
       "0  The second puppy of Megan's first litter. Puma...   \n",
       "1  Tim is female kitten.active and playful.pls sm...   \n",
       "2  She was found wearing a red collar, wandering ...   \n",
       "3  3 months old male kitten. Adopters have to vac...   \n",
       "4  Please help her. She is an abandon victim. Ver...   \n",
       "\n",
       "                                              Images                Breed  \n",
       "0  https://www.i3s.unice.fr/~riveill/dataset/petf...          Mixed_Breed  \n",
       "1  https://www.i3s.unice.fr/~riveill/dataset/petf...  Domestic_Short_Hair  \n",
       "2  https://www.i3s.unice.fr/~riveill/dataset/petf...          Mixed_Breed  \n",
       "3  https://www.i3s.unice.fr/~riveill/dataset/petf...  Domestic_Short_Hair  \n",
       "4  https://www.i3s.unice.fr/~riveill/dataset/petf...              Terrier  "
      ]
     },
     "execution_count": 27,
     "metadata": {},
     "output_type": "execute_result"
    }
   ],
   "source": [
    "test = pd.read_csv(path+\"test.csv\")\n",
    "y_test = test['target']\n",
    "X_test = test.drop(['target'], axis=1)\n",
    "\n",
    "img_dir = \"test_images/\"\n",
    "X_test['Images'] = [path+img_dir+img for img in test['Images']]\n",
    "print(len(X_test))\n",
    "X_test.head()"
   ]
  },
  {
   "cell_type": "code",
   "execution_count": 28,
   "metadata": {
    "ExecuteTime": {
     "end_time": "2021-11-15T13:07:23.946454Z",
     "start_time": "2021-11-15T13:06:54.536411Z"
    }
   },
   "outputs": [],
   "source": [
    "# BOFs = test_BOF_extractor.transform(X_test['Images'])\n",
    "# BOFs.shape"
   ]
  },
  {
   "cell_type": "markdown",
   "metadata": {
    "_uuid": "c90159a95d5952c4b077bac75d450b89010a4737"
   },
   "source": [
    "## Build a basic model\n",
    "\n",
    "There are much more interesting things in the dataset and I'm going to explore them, but for now let's build a simple model as a baseline."
   ]
  },
  {
   "cell_type": "code",
   "execution_count": 29,
   "metadata": {},
   "outputs": [],
   "source": [
    "import os\n",
    "from sklearn import set_config\n",
    "\n",
    "from sklearn.preprocessing import OneHotEncoder, StandardScaler, MinMaxScaler, FunctionTransformer\n",
    "from sklearn.feature_extraction.text import CountVectorizer, TfidfVectorizer\n",
    "from sklearn.compose import ColumnTransformer\n",
    "from sklearn.pipeline import make_pipeline, FeatureUnion, Pipeline\n",
    "from sklearn.decomposition import PCA, SparsePCA, TruncatedSVD\n",
    "\n",
    "from sklearn.neighbors import KNeighborsClassifier\n",
    "from sklearn.neural_network import MLPClassifier\n",
    "from sklearn.tree import DecisionTreeClassifier\n",
    "from sklearn.linear_model import SGDClassifier\n",
    "from sklearn.ensemble import RandomForestClassifier, GradientBoostingClassifier, AdaBoostClassifier\n",
    "from sklearn.naive_bayes import BernoulliNB, GaussianNB\n",
    "from sklearn.model_selection import GridSearchCV\n",
    "from sklearn.metrics import accuracy_score\n",
    "\n",
    "\n",
    "set_config(display=\"text\")\n",
    "\n",
    "\n",
    "def nb_colors(df):\n",
    "    return pd.DataFrame((df != \"Unknown\").sum(axis=1))\n"
   ]
  },
  {
   "cell_type": "code",
   "execution_count": 30,
   "metadata": {},
   "outputs": [
    {
     "name": "stdout",
     "output_type": "stream",
     "text": [
      "\n",
      "--- start preproc_X_train ---\n"
     ]
    },
    {
     "name": "stderr",
     "output_type": "stream",
     "text": [
      "100%|██████████| 4000/4000 [12:46<00:00,  5.22it/s]\n"
     ]
    },
    {
     "name": "stdout",
     "output_type": "stream",
     "text": [
      "preproc_X_train shape: (4000, 100)\n",
      "\n",
      "--- start preproc_X_test ---\n"
     ]
    },
    {
     "name": "stderr",
     "output_type": "stream",
     "text": [
      "100%|██████████| 250/250 [00:51<00:00,  4.85it/s]\n"
     ]
    },
    {
     "name": "stdout",
     "output_type": "stream",
     "text": [
      "preproc_X_test shape: (250, 100)\n",
      "\n",
      "--- done ---\n"
     ]
    }
   ],
   "source": [
    "categorical_preprocessor = OneHotEncoder(handle_unknown=\"ignore\", sparse=False)\n",
    "numerical_preprocessor = StandardScaler()\n",
    "text_preprocessor = TfidfVectorizer()\n",
    "image_preprocessor = BOF_extractor(nb_img_features=3, verbose=False)\n",
    "\n",
    "nb_colors_transformer = FunctionTransformer(func=nb_colors, validate=False)\n",
    "\n",
    "preprocessor = ColumnTransformer(transformers=[\n",
    "    (\"categorical encoding\", categorical_preprocessor, cat_cols),\n",
    "    (\"numerical encoding\", numerical_preprocessor, num_cols),\n",
    "    (\"text encoding\", text_preprocessor, 'Description'),\n",
    "    (\"image encoding\", image_preprocessor, 'Images'),\n",
    "    (\"compute nb colors\", nb_colors_transformer,\n",
    "     [f\"Color{i}\" for i in range(1, 4)]),\n",
    "])\n",
    "\n",
    "dim_red = FeatureUnion([(\"Truncated SVD\", TruncatedSVD(n_components=100))])\n",
    "\n",
    "# pipe = Pipeline(steps=[\n",
    "#     (\"preprocessing\", preprocessor),\n",
    "#     (\"dimensionality reduction\", dim_red),\n",
    "#     (\"classifier\", None),\n",
    "# ])\n",
    "\n",
    "preproc_pipe = Pipeline(steps=[\n",
    "    (\"preprocessing\", preprocessor),\n",
    "    (\"dimensionality reduction\", dim_red),\n",
    "])\n",
    "print(\"\\n--- start preproc_X_train ---\")\n",
    "preproc_X_train = preproc_pipe.fit_transform(X_train)\n",
    "print(f\"preproc_X_train shape: {preproc_X_train.shape}\")\n",
    "os.system(\"spd-say \\\"done\\\"\")\n",
    "\n",
    "print(\"\\n--- start preproc_X_test ---\")\n",
    "preproc_X_test = preproc_pipe.transform(X_test)\n",
    "print(f\"preproc_X_test shape: {preproc_X_test.shape}\")\n",
    "print(\"\\n--- done ---\")\n",
    "\n",
    "# save preprocessed X_train and X_test because it takes time to compute\n",
    "np.save(f\"preproc_X_train{str(N).zfill(4)}.npy\", preproc_X_train)\n",
    "np.save(f\"preproc_X_test.npy\", preproc_X_test)\n"
   ]
  },
  {
   "cell_type": "markdown",
   "metadata": {},
   "source": [
    "### Find decent models"
   ]
  },
  {
   "cell_type": "code",
   "execution_count": 32,
   "metadata": {},
   "outputs": [
    {
     "data": {
      "text/plain": [
       "GridSearchCV(cv=10, estimator=Pipeline(steps=[('classifier', None)]), n_jobs=5,\n",
       "             param_grid=[{'classifier': [GradientBoostingClassifier(),\n",
       "                                         BernoulliNB(), GaussianNB(),\n",
       "                                         DecisionTreeClassifier(),\n",
       "                                         KNeighborsClassifier(),\n",
       "                                         AdaBoostClassifier(), MLPClassifier(),\n",
       "                                         GaussianProcessClassifier(), SVC(),\n",
       "                                         RandomForestClassifier(),\n",
       "                                         SGDClassifier()]}],\n",
       "             scoring='accuracy')"
      ]
     },
     "execution_count": 32,
     "metadata": {},
     "output_type": "execute_result"
    }
   ],
   "source": [
    "from sklearn.gaussian_process import GaussianProcessClassifier\n",
    "from sklearn.svm import SVC\n",
    "\n",
    "classifier_pipe = Pipeline(steps=[\n",
    "    (\"classifier\", None),\n",
    "])\n",
    "\n",
    "clf_select_grid = [\n",
    "    {\"classifier\": [GradientBoostingClassifier(), BernoulliNB(), GaussianNB(), DecisionTreeClassifier(),\n",
    "                    KNeighborsClassifier(), AdaBoostClassifier(), MLPClassifier(),\n",
    "                    GaussianProcessClassifier(), SVC(), RandomForestClassifier(), SGDClassifier()]},\n",
    "]\n",
    "\n",
    "\n",
    "grid = GridSearchCV(estimator=classifier_pipe, param_grid=clf_select_grid,\n",
    "                    cv=10, n_jobs=5, verbose=0, scoring=\"accuracy\")\n",
    "\n",
    "max_saved_N = 4000\n",
    "preproc_X_train = np.load(f\"preproc_X_train{max_saved_N}.npy\")\n",
    "preproc_X_test = np.load(f\"preproc_X_test.npy\")\n",
    "grid.fit(preproc_X_train, y_train)\n"
   ]
  },
  {
   "cell_type": "code",
   "execution_count": 33,
   "metadata": {},
   "outputs": [
    {
     "data": {
      "text/html": [
       "<div>\n",
       "<style scoped>\n",
       "    .dataframe tbody tr th:only-of-type {\n",
       "        vertical-align: middle;\n",
       "    }\n",
       "\n",
       "    .dataframe tbody tr th {\n",
       "        vertical-align: top;\n",
       "    }\n",
       "\n",
       "    .dataframe thead th {\n",
       "        text-align: right;\n",
       "    }\n",
       "</style>\n",
       "<table border=\"1\" class=\"dataframe\">\n",
       "  <thead>\n",
       "    <tr style=\"text-align: right;\">\n",
       "      <th></th>\n",
       "      <th>classifier</th>\n",
       "      <th>accuracy</th>\n",
       "    </tr>\n",
       "  </thead>\n",
       "  <tbody>\n",
       "    <tr>\n",
       "      <th>0</th>\n",
       "      <td>GradientBoostingClassifier()</td>\n",
       "      <td>0.63250</td>\n",
       "    </tr>\n",
       "    <tr>\n",
       "      <th>1</th>\n",
       "      <td>RandomForestClassifier()</td>\n",
       "      <td>0.62800</td>\n",
       "    </tr>\n",
       "    <tr>\n",
       "      <th>2</th>\n",
       "      <td>MLPClassifier()</td>\n",
       "      <td>0.61150</td>\n",
       "    </tr>\n",
       "    <tr>\n",
       "      <th>3</th>\n",
       "      <td>AdaBoostClassifier()</td>\n",
       "      <td>0.60525</td>\n",
       "    </tr>\n",
       "    <tr>\n",
       "      <th>4</th>\n",
       "      <td>BernoulliNB()</td>\n",
       "      <td>0.59300</td>\n",
       "    </tr>\n",
       "    <tr>\n",
       "      <th>5</th>\n",
       "      <td>GaussianNB()</td>\n",
       "      <td>0.56875</td>\n",
       "    </tr>\n",
       "    <tr>\n",
       "      <th>6</th>\n",
       "      <td>DecisionTreeClassifier()</td>\n",
       "      <td>0.55375</td>\n",
       "    </tr>\n",
       "    <tr>\n",
       "      <th>7</th>\n",
       "      <td>SVC()</td>\n",
       "      <td>0.52500</td>\n",
       "    </tr>\n",
       "    <tr>\n",
       "      <th>8</th>\n",
       "      <td>GaussianProcessClassifier()</td>\n",
       "      <td>0.51425</td>\n",
       "    </tr>\n",
       "    <tr>\n",
       "      <th>9</th>\n",
       "      <td>KNeighborsClassifier()</td>\n",
       "      <td>0.51325</td>\n",
       "    </tr>\n",
       "    <tr>\n",
       "      <th>10</th>\n",
       "      <td>SGDClassifier()</td>\n",
       "      <td>0.50675</td>\n",
       "    </tr>\n",
       "  </tbody>\n",
       "</table>\n",
       "</div>"
      ],
      "text/plain": [
       "                      classifier  accuracy\n",
       "0   GradientBoostingClassifier()   0.63250\n",
       "1       RandomForestClassifier()   0.62800\n",
       "2                MLPClassifier()   0.61150\n",
       "3           AdaBoostClassifier()   0.60525\n",
       "4                  BernoulliNB()   0.59300\n",
       "5                   GaussianNB()   0.56875\n",
       "6       DecisionTreeClassifier()   0.55375\n",
       "7                          SVC()   0.52500\n",
       "8    GaussianProcessClassifier()   0.51425\n",
       "9         KNeighborsClassifier()   0.51325\n",
       "10               SGDClassifier()   0.50675"
      ]
     },
     "metadata": {},
     "output_type": "display_data"
    },
    {
     "data": {
      "text/html": [
       "<div>\n",
       "<style scoped>\n",
       "    .dataframe tbody tr th:only-of-type {\n",
       "        vertical-align: middle;\n",
       "    }\n",
       "\n",
       "    .dataframe tbody tr th {\n",
       "        vertical-align: top;\n",
       "    }\n",
       "\n",
       "    .dataframe thead th {\n",
       "        text-align: right;\n",
       "    }\n",
       "</style>\n",
       "<table border=\"1\" class=\"dataframe\">\n",
       "  <thead>\n",
       "    <tr style=\"text-align: right;\">\n",
       "      <th></th>\n",
       "      <th>classifier</th>\n",
       "      <th>accuracy</th>\n",
       "      <th>test_accuracy</th>\n",
       "    </tr>\n",
       "  </thead>\n",
       "  <tbody>\n",
       "    <tr>\n",
       "      <th>0</th>\n",
       "      <td>([DecisionTreeRegressor(criterion='friedman_ms...</td>\n",
       "      <td>0.633</td>\n",
       "      <td>0.572</td>\n",
       "    </tr>\n",
       "    <tr>\n",
       "      <th>1</th>\n",
       "      <td>(DecisionTreeClassifier(max_features='auto', r...</td>\n",
       "      <td>0.628</td>\n",
       "      <td>0.620</td>\n",
       "    </tr>\n",
       "    <tr>\n",
       "      <th>2</th>\n",
       "      <td>MLPClassifier()</td>\n",
       "      <td>0.612</td>\n",
       "      <td>0.560</td>\n",
       "    </tr>\n",
       "    <tr>\n",
       "      <th>3</th>\n",
       "      <td>(DecisionTreeClassifier(max_depth=1, random_st...</td>\n",
       "      <td>0.605</td>\n",
       "      <td>0.572</td>\n",
       "    </tr>\n",
       "    <tr>\n",
       "      <th>4</th>\n",
       "      <td>BernoulliNB()</td>\n",
       "      <td>0.593</td>\n",
       "      <td>0.584</td>\n",
       "    </tr>\n",
       "    <tr>\n",
       "      <th>5</th>\n",
       "      <td>GaussianNB()</td>\n",
       "      <td>0.569</td>\n",
       "      <td>0.552</td>\n",
       "    </tr>\n",
       "    <tr>\n",
       "      <th>6</th>\n",
       "      <td>DecisionTreeClassifier()</td>\n",
       "      <td>0.554</td>\n",
       "      <td>0.484</td>\n",
       "    </tr>\n",
       "    <tr>\n",
       "      <th>7</th>\n",
       "      <td>SVC()</td>\n",
       "      <td>0.525</td>\n",
       "      <td>0.508</td>\n",
       "    </tr>\n",
       "    <tr>\n",
       "      <th>8</th>\n",
       "      <td>GaussianProcessClassifier()</td>\n",
       "      <td>0.514</td>\n",
       "      <td>0.548</td>\n",
       "    </tr>\n",
       "    <tr>\n",
       "      <th>9</th>\n",
       "      <td>KNeighborsClassifier()</td>\n",
       "      <td>0.513</td>\n",
       "      <td>0.496</td>\n",
       "    </tr>\n",
       "    <tr>\n",
       "      <th>10</th>\n",
       "      <td>SGDClassifier()</td>\n",
       "      <td>0.507</td>\n",
       "      <td>0.472</td>\n",
       "    </tr>\n",
       "  </tbody>\n",
       "</table>\n",
       "</div>"
      ],
      "text/plain": [
       "                                           classifier  accuracy  test_accuracy\n",
       "0   ([DecisionTreeRegressor(criterion='friedman_ms...     0.633          0.572\n",
       "1   (DecisionTreeClassifier(max_features='auto', r...     0.628          0.620\n",
       "2                                     MLPClassifier()     0.612          0.560\n",
       "3   (DecisionTreeClassifier(max_depth=1, random_st...     0.605          0.572\n",
       "4                                       BernoulliNB()     0.593          0.584\n",
       "5                                        GaussianNB()     0.569          0.552\n",
       "6                            DecisionTreeClassifier()     0.554          0.484\n",
       "7                                               SVC()     0.525          0.508\n",
       "8                         GaussianProcessClassifier()     0.514          0.548\n",
       "9                              KNeighborsClassifier()     0.513          0.496\n",
       "10                                    SGDClassifier()     0.507          0.472"
      ]
     },
     "metadata": {},
     "output_type": "display_data"
    }
   ],
   "source": [
    "# grid.predict(preproc_pipe.transform(X_test))\n",
    "df_cv_result = pd.DataFrame(grid.cv_results_)[[\"param_classifier\", \"mean_test_score\"]]\n",
    "df_cv_result.columns = [\"classifier\", \"accuracy\"]\n",
    "display(df_cv_result.sort_values(by=[\"accuracy\"], ascending=False, ignore_index=True))\n",
    "\n",
    "N_test = 250\n",
    "\n",
    "for i in range(len(df_cv_result)):\n",
    "    clf_save = df_cv_result.loc[i, \"classifier\"]\n",
    "    clf = df_cv_result.loc[i, \"classifier\"]\n",
    "    clf.fit(preproc_X_train, y_train)\n",
    "    y_pred = clf.predict(preproc_X_test[:N_test])\n",
    "    df_cv_result.loc[i, \"test_accuracy\"] = accuracy_score(y_test[:N_test], y_pred)\n",
    "\n",
    "df_cv_result = df_cv_result.round(3)\n",
    "df_cv_result.to_csv(\"classifier-accuracy.csv\", index=False)\n",
    "df_cv_result = df_cv_result.sort_values(by=[\"accuracy\", \"test_accuracy\"], ascending=False, ignore_index=True)\n",
    "display(df_cv_result)"
   ]
  },
  {
   "cell_type": "code",
   "execution_count": 34,
   "metadata": {},
   "outputs": [
    {
     "name": "stdout",
     "output_type": "stream",
     "text": [
      "Fitting 5 folds for each of 1 candidates, totalling 5 fits\n",
      "Pipeline(steps=[('classifier', GaussianNB())])\n",
      "ACC on test 0.552\n"
     ]
    }
   ],
   "source": [
    "classifier_pipe = Pipeline(steps=[\n",
    "    (\"classifier\", None),\n",
    "])\n",
    "\n",
    "clf_finetune_grid = [\n",
    "    # {\n",
    "    #     \"classifier\": [GradientBoostingClassifier()],\n",
    "    #     \"classifier__learning_rate\": [0.01, 0.02, 0.05, 0.1, 0.2],\n",
    "    #     \"classifier__n_estimators\": [50, 100, 150],\n",
    "    #     \"classifier__max_depth\": [1, 3, 5],\n",
    "    #     \"classifier__min_samples_split\": [1, 3, 5],\n",
    "    #     \"classifier__min_samples_leaf\": [1, 2, 3],\n",
    "    #     \"classifier__max_features\": [\"log2\", \"sqrt\"],\n",
    "    # },\n",
    "    # {\n",
    "    #     \"classifier\": [RandomForestClassifier()],\n",
    "    #     \"classifier__criterion\": [\"gini\", \"entropy\"],\n",
    "    #     \"classifier__max_depth\": [100, 200, 300, 400, None],\n",
    "    #     \"classifier__min_samples_leaf\": [1, 2, 3, 4],\n",
    "    #     \"classifier__min_samples_split\": [8, 10, 12],\n",
    "    #     \"classifier__n_estimators\": [60, 80, 100],\n",
    "    # },\n",
    "    # {\n",
    "    #     \"classifier\": [AdaBoostClassifier()],\n",
    "    #     \"classifier__n_estimators\": [10, 20, 30, 50, 70],\n",
    "    #     \"classifier__learning_rate\": [.5, .6, .7, .8, 1., 1.2],\n",
    "    #     \"classifier__algorithm\": [\"SAMME.R\", \"SAMME\"],\n",
    "    # },\n",
    "    # {\n",
    "    #     \"classifier\": [MLPClassifier()],\n",
    "    #     \"classifier__hidden_layer_sizes\": [(50,100,50), (100,)],\n",
    "    #     \"classifier__learning_rate\": [\"constant\", \"invscaling\", \"adaptive\"],\n",
    "    #     \"classifier__solver\": [\"adam\"],\n",
    "    #     \"classifier__activation\": [\"identity\", \"logistic\", \"tanh\", \"relu\"],\n",
    "    #     \"classifier__beta_1\": [.8, .9, .99],\n",
    "    #     \"classifier__beta_2\": [.99, .999, .9999],\n",
    "    # },\n",
    "    # {\n",
    "    #     \"classifier\": [BernoulliNB()],\n",
    "    #     \"classifier__alpha\": [.01, .05, .1, .2, .3, .5, 1., 2.],\n",
    "    #     \"classifier__binarize\": [0., .4, .5, .6, .65, .7, .8, 1., 2.],\n",
    "    #     \"classifier__fit_prior\": [True, False],\n",
    "    # },\n",
    "    {\n",
    "        \"classifier\": [GaussianNB()],\n",
    "        \"classifier\": [GaussianNB()],\n",
    "    },\n",
    "]\n",
    "\n",
    "\n",
    "grid = GridSearchCV(estimator=classifier_pipe, param_grid=clf_finetune_grid,\n",
    "                    cv=5, n_jobs=7, verbose=1, scoring=\"accuracy\")\n",
    "\n",
    "grid.fit(preproc_X_train, y_train)\n",
    "os.system(\"spd-say \\\"done\\\"\")\n",
    "print(grid.best_estimator_)\n",
    "\n",
    "y_pred = grid.predict(preproc_X_test)\n",
    "print(\"ACC on test\", accuracy_score(y_test, y_pred))\n"
   ]
  },
  {
   "cell_type": "code",
   "execution_count": 35,
   "metadata": {},
   "outputs": [],
   "source": [
    "# pd.DataFrame(grid.cv_results_)"
   ]
  },
  {
   "cell_type": "code",
   "execution_count": 36,
   "metadata": {},
   "outputs": [
    {
     "data": {
      "text/plain": [
       "Pipeline(steps=[('classifier', GaussianNB())])"
      ]
     },
     "execution_count": 36,
     "metadata": {},
     "output_type": "execute_result"
    }
   ],
   "source": [
    "grid.best_estimator_"
   ]
  },
  {
   "cell_type": "code",
   "execution_count": 37,
   "metadata": {},
   "outputs": [
    {
     "data": {
      "text/html": [
       "<style>#sk-608523d5-cb82-4985-8fd6-6b0668ad4f5a {color: black;background-color: white;}#sk-608523d5-cb82-4985-8fd6-6b0668ad4f5a pre{padding: 0;}#sk-608523d5-cb82-4985-8fd6-6b0668ad4f5a div.sk-toggleable {background-color: white;}#sk-608523d5-cb82-4985-8fd6-6b0668ad4f5a label.sk-toggleable__label {cursor: pointer;display: block;width: 100%;margin-bottom: 0;padding: 0.3em;box-sizing: border-box;text-align: center;}#sk-608523d5-cb82-4985-8fd6-6b0668ad4f5a label.sk-toggleable__label-arrow:before {content: \"▸\";float: left;margin-right: 0.25em;color: #696969;}#sk-608523d5-cb82-4985-8fd6-6b0668ad4f5a label.sk-toggleable__label-arrow:hover:before {color: black;}#sk-608523d5-cb82-4985-8fd6-6b0668ad4f5a div.sk-estimator:hover label.sk-toggleable__label-arrow:before {color: black;}#sk-608523d5-cb82-4985-8fd6-6b0668ad4f5a div.sk-toggleable__content {max-height: 0;max-width: 0;overflow: hidden;text-align: left;background-color: #f0f8ff;}#sk-608523d5-cb82-4985-8fd6-6b0668ad4f5a div.sk-toggleable__content pre {margin: 0.2em;color: black;border-radius: 0.25em;background-color: #f0f8ff;}#sk-608523d5-cb82-4985-8fd6-6b0668ad4f5a input.sk-toggleable__control:checked~div.sk-toggleable__content {max-height: 200px;max-width: 100%;overflow: auto;}#sk-608523d5-cb82-4985-8fd6-6b0668ad4f5a input.sk-toggleable__control:checked~label.sk-toggleable__label-arrow:before {content: \"▾\";}#sk-608523d5-cb82-4985-8fd6-6b0668ad4f5a div.sk-estimator input.sk-toggleable__control:checked~label.sk-toggleable__label {background-color: #d4ebff;}#sk-608523d5-cb82-4985-8fd6-6b0668ad4f5a div.sk-label input.sk-toggleable__control:checked~label.sk-toggleable__label {background-color: #d4ebff;}#sk-608523d5-cb82-4985-8fd6-6b0668ad4f5a input.sk-hidden--visually {border: 0;clip: rect(1px 1px 1px 1px);clip: rect(1px, 1px, 1px, 1px);height: 1px;margin: -1px;overflow: hidden;padding: 0;position: absolute;width: 1px;}#sk-608523d5-cb82-4985-8fd6-6b0668ad4f5a div.sk-estimator {font-family: monospace;background-color: #f0f8ff;border: 1px dotted black;border-radius: 0.25em;box-sizing: border-box;margin-bottom: 0.5em;}#sk-608523d5-cb82-4985-8fd6-6b0668ad4f5a div.sk-estimator:hover {background-color: #d4ebff;}#sk-608523d5-cb82-4985-8fd6-6b0668ad4f5a div.sk-parallel-item::after {content: \"\";width: 100%;border-bottom: 1px solid gray;flex-grow: 1;}#sk-608523d5-cb82-4985-8fd6-6b0668ad4f5a div.sk-label:hover label.sk-toggleable__label {background-color: #d4ebff;}#sk-608523d5-cb82-4985-8fd6-6b0668ad4f5a div.sk-serial::before {content: \"\";position: absolute;border-left: 1px solid gray;box-sizing: border-box;top: 2em;bottom: 0;left: 50%;}#sk-608523d5-cb82-4985-8fd6-6b0668ad4f5a div.sk-serial {display: flex;flex-direction: column;align-items: center;background-color: white;padding-right: 0.2em;padding-left: 0.2em;}#sk-608523d5-cb82-4985-8fd6-6b0668ad4f5a div.sk-item {z-index: 1;}#sk-608523d5-cb82-4985-8fd6-6b0668ad4f5a div.sk-parallel {display: flex;align-items: stretch;justify-content: center;background-color: white;}#sk-608523d5-cb82-4985-8fd6-6b0668ad4f5a div.sk-parallel::before {content: \"\";position: absolute;border-left: 1px solid gray;box-sizing: border-box;top: 2em;bottom: 0;left: 50%;}#sk-608523d5-cb82-4985-8fd6-6b0668ad4f5a div.sk-parallel-item {display: flex;flex-direction: column;position: relative;background-color: white;}#sk-608523d5-cb82-4985-8fd6-6b0668ad4f5a div.sk-parallel-item:first-child::after {align-self: flex-end;width: 50%;}#sk-608523d5-cb82-4985-8fd6-6b0668ad4f5a div.sk-parallel-item:last-child::after {align-self: flex-start;width: 50%;}#sk-608523d5-cb82-4985-8fd6-6b0668ad4f5a div.sk-parallel-item:only-child::after {width: 0;}#sk-608523d5-cb82-4985-8fd6-6b0668ad4f5a div.sk-dashed-wrapped {border: 1px dashed gray;margin: 0 0.4em 0.5em 0.4em;box-sizing: border-box;padding-bottom: 0.4em;background-color: white;position: relative;}#sk-608523d5-cb82-4985-8fd6-6b0668ad4f5a div.sk-label label {font-family: monospace;font-weight: bold;background-color: white;display: inline-block;line-height: 1.2em;}#sk-608523d5-cb82-4985-8fd6-6b0668ad4f5a div.sk-label-container {position: relative;z-index: 2;text-align: center;}#sk-608523d5-cb82-4985-8fd6-6b0668ad4f5a div.sk-container {/* jupyter's `normalize.less` sets `[hidden] { display: none; }` but bootstrap.min.css set `[hidden] { display: none !important; }` so we also need the `!important` here to be able to override the default hidden behavior on the sphinx rendered scikit-learn.org. See: https://github.com/scikit-learn/scikit-learn/issues/21755 */display: inline-block !important;position: relative;}#sk-608523d5-cb82-4985-8fd6-6b0668ad4f5a div.sk-text-repr-fallback {display: none;}</style><div id=\"sk-608523d5-cb82-4985-8fd6-6b0668ad4f5a\" class=\"sk-top-container\"><div class=\"sk-text-repr-fallback\"><pre>Pipeline(steps=[(&#x27;preprocessing&#x27;,\n",
       "                 ColumnTransformer(transformers=[(&#x27;categorical encoding&#x27;,\n",
       "                                                  OneHotEncoder(handle_unknown=&#x27;ignore&#x27;,\n",
       "                                                                sparse=False),\n",
       "                                                  [&#x27;Type&#x27;, &#x27;Gender&#x27;, &#x27;Breed&#x27;,\n",
       "                                                   &#x27;Color1&#x27;, &#x27;Color2&#x27;, &#x27;Color3&#x27;,\n",
       "                                                   &#x27;MaturitySize&#x27;, &#x27;FurLength&#x27;,\n",
       "                                                   &#x27;Vaccinated&#x27;, &#x27;Dewormed&#x27;,\n",
       "                                                   &#x27;Sterilized&#x27;, &#x27;Health&#x27;]),\n",
       "                                                 (&#x27;numerical encoding&#x27;,\n",
       "                                                  StandardScaler(),\n",
       "                                                  [&#x27;Age&#x27;, &#x27;Fee&#x27;]),\n",
       "                                                 (&#x27;text encoding&#x27;,\n",
       "                                                  TfidfVectorizer(),\n",
       "                                                  &#x27;Description&#x27;),\n",
       "                                                 (&#x27;image encoding&#x27;,\n",
       "                                                  BOF_extractor(nb_img_features=3),\n",
       "                                                  &#x27;Images&#x27;),\n",
       "                                                 (&#x27;compute nb colors&#x27;,\n",
       "                                                  FunctionTransformer(func=&lt;function nb_colors at 0x7f1a0b0ba5e0&gt;),\n",
       "                                                  [&#x27;Color1&#x27;, &#x27;Color2&#x27;,\n",
       "                                                   &#x27;Color3&#x27;])])),\n",
       "                (&#x27;dim_red&#x27;,\n",
       "                 FeatureUnion(transformer_list=[(&#x27;Truncated SVD&#x27;,\n",
       "                                                 TruncatedSVD(n_components=100))])),\n",
       "                (&#x27;classifying&#x27;, GaussianNB())])</pre><b>Please rerun this cell to show the HTML repr or trust the notebook.</b></div><div class=\"sk-container\" hidden><div class=\"sk-item sk-dashed-wrapped\"><div class=\"sk-label-container\"><div class=\"sk-label sk-toggleable\"><input class=\"sk-toggleable__control sk-hidden--visually\" id=\"f675bf0d-f0ab-492b-8691-a5f627b0209c\" type=\"checkbox\" ><label for=\"f675bf0d-f0ab-492b-8691-a5f627b0209c\" class=\"sk-toggleable__label sk-toggleable__label-arrow\">Pipeline</label><div class=\"sk-toggleable__content\"><pre>Pipeline(steps=[(&#x27;preprocessing&#x27;,\n",
       "                 ColumnTransformer(transformers=[(&#x27;categorical encoding&#x27;,\n",
       "                                                  OneHotEncoder(handle_unknown=&#x27;ignore&#x27;,\n",
       "                                                                sparse=False),\n",
       "                                                  [&#x27;Type&#x27;, &#x27;Gender&#x27;, &#x27;Breed&#x27;,\n",
       "                                                   &#x27;Color1&#x27;, &#x27;Color2&#x27;, &#x27;Color3&#x27;,\n",
       "                                                   &#x27;MaturitySize&#x27;, &#x27;FurLength&#x27;,\n",
       "                                                   &#x27;Vaccinated&#x27;, &#x27;Dewormed&#x27;,\n",
       "                                                   &#x27;Sterilized&#x27;, &#x27;Health&#x27;]),\n",
       "                                                 (&#x27;numerical encoding&#x27;,\n",
       "                                                  StandardScaler(),\n",
       "                                                  [&#x27;Age&#x27;, &#x27;Fee&#x27;]),\n",
       "                                                 (&#x27;text encoding&#x27;,\n",
       "                                                  TfidfVectorizer(),\n",
       "                                                  &#x27;Description&#x27;),\n",
       "                                                 (&#x27;image encoding&#x27;,\n",
       "                                                  BOF_extractor(nb_img_features=3),\n",
       "                                                  &#x27;Images&#x27;),\n",
       "                                                 (&#x27;compute nb colors&#x27;,\n",
       "                                                  FunctionTransformer(func=&lt;function nb_colors at 0x7f1a0b0ba5e0&gt;),\n",
       "                                                  [&#x27;Color1&#x27;, &#x27;Color2&#x27;,\n",
       "                                                   &#x27;Color3&#x27;])])),\n",
       "                (&#x27;dim_red&#x27;,\n",
       "                 FeatureUnion(transformer_list=[(&#x27;Truncated SVD&#x27;,\n",
       "                                                 TruncatedSVD(n_components=100))])),\n",
       "                (&#x27;classifying&#x27;, GaussianNB())])</pre></div></div></div><div class=\"sk-serial\"><div class=\"sk-item sk-dashed-wrapped\"><div class=\"sk-label-container\"><div class=\"sk-label sk-toggleable\"><input class=\"sk-toggleable__control sk-hidden--visually\" id=\"0da05361-7d0c-4f64-a972-e50d0717c38f\" type=\"checkbox\" ><label for=\"0da05361-7d0c-4f64-a972-e50d0717c38f\" class=\"sk-toggleable__label sk-toggleable__label-arrow\">preprocessing: ColumnTransformer</label><div class=\"sk-toggleable__content\"><pre>ColumnTransformer(transformers=[(&#x27;categorical encoding&#x27;,\n",
       "                                 OneHotEncoder(handle_unknown=&#x27;ignore&#x27;,\n",
       "                                               sparse=False),\n",
       "                                 [&#x27;Type&#x27;, &#x27;Gender&#x27;, &#x27;Breed&#x27;, &#x27;Color1&#x27;, &#x27;Color2&#x27;,\n",
       "                                  &#x27;Color3&#x27;, &#x27;MaturitySize&#x27;, &#x27;FurLength&#x27;,\n",
       "                                  &#x27;Vaccinated&#x27;, &#x27;Dewormed&#x27;, &#x27;Sterilized&#x27;,\n",
       "                                  &#x27;Health&#x27;]),\n",
       "                                (&#x27;numerical encoding&#x27;, StandardScaler(),\n",
       "                                 [&#x27;Age&#x27;, &#x27;Fee&#x27;]),\n",
       "                                (&#x27;text encoding&#x27;, TfidfVectorizer(),\n",
       "                                 &#x27;Description&#x27;),\n",
       "                                (&#x27;image encoding&#x27;,\n",
       "                                 BOF_extractor(nb_img_features=3), &#x27;Images&#x27;),\n",
       "                                (&#x27;compute nb colors&#x27;,\n",
       "                                 FunctionTransformer(func=&lt;function nb_colors at 0x7f1a0b0ba5e0&gt;),\n",
       "                                 [&#x27;Color1&#x27;, &#x27;Color2&#x27;, &#x27;Color3&#x27;])])</pre></div></div></div><div class=\"sk-parallel\"><div class=\"sk-parallel-item\"><div class=\"sk-item\"><div class=\"sk-label-container\"><div class=\"sk-label sk-toggleable\"><input class=\"sk-toggleable__control sk-hidden--visually\" id=\"b26b4333-8402-4fff-87fc-ef032c2ec9cb\" type=\"checkbox\" ><label for=\"b26b4333-8402-4fff-87fc-ef032c2ec9cb\" class=\"sk-toggleable__label sk-toggleable__label-arrow\">categorical encoding</label><div class=\"sk-toggleable__content\"><pre>[&#x27;Type&#x27;, &#x27;Gender&#x27;, &#x27;Breed&#x27;, &#x27;Color1&#x27;, &#x27;Color2&#x27;, &#x27;Color3&#x27;, &#x27;MaturitySize&#x27;, &#x27;FurLength&#x27;, &#x27;Vaccinated&#x27;, &#x27;Dewormed&#x27;, &#x27;Sterilized&#x27;, &#x27;Health&#x27;]</pre></div></div></div><div class=\"sk-serial\"><div class=\"sk-item\"><div class=\"sk-estimator sk-toggleable\"><input class=\"sk-toggleable__control sk-hidden--visually\" id=\"a3642080-2a47-43b8-ab67-41c561cc5866\" type=\"checkbox\" ><label for=\"a3642080-2a47-43b8-ab67-41c561cc5866\" class=\"sk-toggleable__label sk-toggleable__label-arrow\">OneHotEncoder</label><div class=\"sk-toggleable__content\"><pre>OneHotEncoder(handle_unknown=&#x27;ignore&#x27;, sparse=False)</pre></div></div></div></div></div></div><div class=\"sk-parallel-item\"><div class=\"sk-item\"><div class=\"sk-label-container\"><div class=\"sk-label sk-toggleable\"><input class=\"sk-toggleable__control sk-hidden--visually\" id=\"9fa856b0-5aa1-4a8d-8157-bb7e1b1b4728\" type=\"checkbox\" ><label for=\"9fa856b0-5aa1-4a8d-8157-bb7e1b1b4728\" class=\"sk-toggleable__label sk-toggleable__label-arrow\">numerical encoding</label><div class=\"sk-toggleable__content\"><pre>[&#x27;Age&#x27;, &#x27;Fee&#x27;]</pre></div></div></div><div class=\"sk-serial\"><div class=\"sk-item\"><div class=\"sk-estimator sk-toggleable\"><input class=\"sk-toggleable__control sk-hidden--visually\" id=\"7839471b-b954-4576-8187-e713306697f3\" type=\"checkbox\" ><label for=\"7839471b-b954-4576-8187-e713306697f3\" class=\"sk-toggleable__label sk-toggleable__label-arrow\">StandardScaler</label><div class=\"sk-toggleable__content\"><pre>StandardScaler()</pre></div></div></div></div></div></div><div class=\"sk-parallel-item\"><div class=\"sk-item\"><div class=\"sk-label-container\"><div class=\"sk-label sk-toggleable\"><input class=\"sk-toggleable__control sk-hidden--visually\" id=\"333f53da-9b9d-49c2-bce5-0146021e0c77\" type=\"checkbox\" ><label for=\"333f53da-9b9d-49c2-bce5-0146021e0c77\" class=\"sk-toggleable__label sk-toggleable__label-arrow\">text encoding</label><div class=\"sk-toggleable__content\"><pre>Description</pre></div></div></div><div class=\"sk-serial\"><div class=\"sk-item\"><div class=\"sk-estimator sk-toggleable\"><input class=\"sk-toggleable__control sk-hidden--visually\" id=\"77c52eb3-ade3-4359-9324-eee4df7fe99c\" type=\"checkbox\" ><label for=\"77c52eb3-ade3-4359-9324-eee4df7fe99c\" class=\"sk-toggleable__label sk-toggleable__label-arrow\">TfidfVectorizer</label><div class=\"sk-toggleable__content\"><pre>TfidfVectorizer()</pre></div></div></div></div></div></div><div class=\"sk-parallel-item\"><div class=\"sk-item\"><div class=\"sk-label-container\"><div class=\"sk-label sk-toggleable\"><input class=\"sk-toggleable__control sk-hidden--visually\" id=\"e27c67df-7982-436e-b8a6-b09683c6a3dd\" type=\"checkbox\" ><label for=\"e27c67df-7982-436e-b8a6-b09683c6a3dd\" class=\"sk-toggleable__label sk-toggleable__label-arrow\">image encoding</label><div class=\"sk-toggleable__content\"><pre>Images</pre></div></div></div><div class=\"sk-serial\"><div class=\"sk-item\"><div class=\"sk-estimator sk-toggleable\"><input class=\"sk-toggleable__control sk-hidden--visually\" id=\"317a2ce9-49b0-4e39-8cec-d259776b14fb\" type=\"checkbox\" ><label for=\"317a2ce9-49b0-4e39-8cec-d259776b14fb\" class=\"sk-toggleable__label sk-toggleable__label-arrow\">BOF_extractor</label><div class=\"sk-toggleable__content\"><pre>BOF_extractor(nb_img_features=3)</pre></div></div></div></div></div></div><div class=\"sk-parallel-item\"><div class=\"sk-item\"><div class=\"sk-label-container\"><div class=\"sk-label sk-toggleable\"><input class=\"sk-toggleable__control sk-hidden--visually\" id=\"80a2b2ee-10f8-4598-b70b-65da9b87d110\" type=\"checkbox\" ><label for=\"80a2b2ee-10f8-4598-b70b-65da9b87d110\" class=\"sk-toggleable__label sk-toggleable__label-arrow\">compute nb colors</label><div class=\"sk-toggleable__content\"><pre>[&#x27;Color1&#x27;, &#x27;Color2&#x27;, &#x27;Color3&#x27;]</pre></div></div></div><div class=\"sk-serial\"><div class=\"sk-item\"><div class=\"sk-estimator sk-toggleable\"><input class=\"sk-toggleable__control sk-hidden--visually\" id=\"a8b4dd74-47c9-4e95-995f-684e814f77f2\" type=\"checkbox\" ><label for=\"a8b4dd74-47c9-4e95-995f-684e814f77f2\" class=\"sk-toggleable__label sk-toggleable__label-arrow\">FunctionTransformer</label><div class=\"sk-toggleable__content\"><pre>FunctionTransformer(func=&lt;function nb_colors at 0x7f1a0b0ba5e0&gt;)</pre></div></div></div></div></div></div></div></div><div class=\"sk-item sk-dashed-wrapped\"><div class=\"sk-label-container\"><div class=\"sk-label sk-toggleable\"><input class=\"sk-toggleable__control sk-hidden--visually\" id=\"ebf0810e-3981-4050-91a0-6d19c839f52d\" type=\"checkbox\" ><label for=\"ebf0810e-3981-4050-91a0-6d19c839f52d\" class=\"sk-toggleable__label sk-toggleable__label-arrow\">dim_red: FeatureUnion</label><div class=\"sk-toggleable__content\"><pre>FeatureUnion(transformer_list=[(&#x27;Truncated SVD&#x27;,\n",
       "                                TruncatedSVD(n_components=100))])</pre></div></div></div><div class=\"sk-parallel\"><div class=\"sk-parallel-item\"><div class=\"sk-item\"><div class=\"sk-label-container\"><div class=\"sk-label sk-toggleable\"><label>Truncated SVD</label></div></div><div class=\"sk-serial\"><div class=\"sk-item\"><div class=\"sk-estimator sk-toggleable\"><input class=\"sk-toggleable__control sk-hidden--visually\" id=\"6c4d532e-f9f8-42f3-9963-db7d889584c2\" type=\"checkbox\" ><label for=\"6c4d532e-f9f8-42f3-9963-db7d889584c2\" class=\"sk-toggleable__label sk-toggleable__label-arrow\">TruncatedSVD</label><div class=\"sk-toggleable__content\"><pre>TruncatedSVD(n_components=100)</pre></div></div></div></div></div></div></div></div><div class=\"sk-item\"><div class=\"sk-estimator sk-toggleable\"><input class=\"sk-toggleable__control sk-hidden--visually\" id=\"f1b9a677-4e2f-4e98-8e57-f0c2c758cb97\" type=\"checkbox\" ><label for=\"f1b9a677-4e2f-4e98-8e57-f0c2c758cb97\" class=\"sk-toggleable__label sk-toggleable__label-arrow\">GaussianNB</label><div class=\"sk-toggleable__content\"><pre>GaussianNB()</pre></div></div></div></div></div></div></div>"
      ],
      "text/plain": [
       "Pipeline(steps=[('preprocessing',\n",
       "                 ColumnTransformer(transformers=[('categorical encoding',\n",
       "                                                  OneHotEncoder(handle_unknown='ignore',\n",
       "                                                                sparse=False),\n",
       "                                                  ['Type', 'Gender', 'Breed',\n",
       "                                                   'Color1', 'Color2', 'Color3',\n",
       "                                                   'MaturitySize', 'FurLength',\n",
       "                                                   'Vaccinated', 'Dewormed',\n",
       "                                                   'Sterilized', 'Health']),\n",
       "                                                 ('numerical encoding',\n",
       "                                                  StandardScaler(),\n",
       "                                                  ['Age', 'Fee']),\n",
       "                                                 ('text encoding',\n",
       "                                                  TfidfVectorizer(),\n",
       "                                                  'Description'),\n",
       "                                                 ('image encoding',\n",
       "                                                  BOF_extractor(nb_img_features=3),\n",
       "                                                  'Images'),\n",
       "                                                 ('compute nb colors',\n",
       "                                                  FunctionTransformer(func=<function nb_colors at 0x7f1a0b0ba5e0>),\n",
       "                                                  ['Color1', 'Color2',\n",
       "                                                   'Color3'])])),\n",
       "                ('dim_red',\n",
       "                 FeatureUnion(transformer_list=[('Truncated SVD',\n",
       "                                                 TruncatedSVD(n_components=100))])),\n",
       "                ('classifying', GaussianNB())])"
      ]
     },
     "execution_count": 37,
     "metadata": {},
     "output_type": "execute_result"
    }
   ],
   "source": [
    "set_config(display=\"diagram\")\n",
    "# set_config(display=\"text\")\n",
    "\n",
    "model = Pipeline(steps=[(\"preprocessing\", preproc_pipe[0]), (\"dim_red\", preproc_pipe[1]), (\"classifying\", grid.best_estimator_[0])])\n",
    "# grid\n",
    "model"
   ]
  },
  {
   "cell_type": "code",
   "execution_count": 38,
   "metadata": {
    "ExecuteTime": {
     "end_time": "2021-11-15T13:07:36.087982Z",
     "start_time": "2021-11-15T13:07:36.072650Z"
    }
   },
   "outputs": [
    {
     "data": {
      "text/plain": [
       "['limonier.joblib']"
      ]
     },
     "execution_count": 38,
     "metadata": {},
     "output_type": "execute_result"
    }
   ],
   "source": [
    "# Save the model\n",
    "from joblib import dump, load\n",
    "\n",
    "dump(model, 'limonier.joblib') # Put your name as a model name"
   ]
  },
  {
   "cell_type": "markdown",
   "metadata": {},
   "source": [
    "## Evaluation of the model\n",
    "\n",
    "<div class=\"alert alert-block alert-danger\">\n",
    "We will only execute the following cells.\n",
    "</div>"
   ]
  },
  {
   "cell_type": "code",
   "execution_count": 39,
   "metadata": {
    "ExecuteTime": {
     "end_time": "2021-11-15T13:08:07.121558Z",
     "start_time": "2021-11-15T13:07:37.013722Z"
    }
   },
   "outputs": [],
   "source": [
    "import pandas as pd\n",
    "from joblib import dump, load\n",
    "from sklearn.metrics import accuracy_score"
   ]
  },
  {
   "cell_type": "code",
   "execution_count": 40,
   "metadata": {},
   "outputs": [
    {
     "name": "stdout",
     "output_type": "stream",
     "text": [
      "Test size: 250\n"
     ]
    }
   ],
   "source": [
    "\n",
    "test = pd.read_csv(path+\"test.csv\")\n",
    "\n",
    "y_test = test['target']\n",
    "X_test = test.drop(['target'], axis=1)\n",
    "\n",
    "img_dir = \"test_images/\"\n",
    "X_test['Images'] = [path+img_dir+img for img in test['Images']]\n",
    "print(\"Test size:\", len(X_test))\n",
    "\n",
    "model = load('limonier.joblib') \n",
    "y_pred = model.predict(X_train)\n",
    "\n",
    "print(\"ACC on train\", accuracy_score(y_train, y_pred))\n",
    "y_pred = model.predict(X_test)\n",
    "print(\"ACC on test\", accuracy_score(y_test, y_pred))"
   ]
  },
  {
   "cell_type": "code",
   "execution_count": 41,
   "metadata": {},
   "outputs": [
    {
     "name": "stdout",
     "output_type": "stream",
     "text": [
      "ACC on train 0.58775\n"
     ]
    },
    {
     "name": "stderr",
     "output_type": "stream",
     "text": [
      "100%|██████████| 250/250 [00:50<00:00,  4.97it/s]\n"
     ]
    },
    {
     "name": "stdout",
     "output_type": "stream",
     "text": [
      "ACC on test 0.552\n"
     ]
    }
   ],
   "source": [
    "print(\"ACC on train\", accuracy_score(y_train, y_pred))\n",
    "y_pred = model.predict(X_test)\n",
    "print(\"ACC on test\", accuracy_score(y_test, y_pred))"
   ]
  },
  {
   "cell_type": "code",
   "execution_count": null,
   "metadata": {
    "ExecuteTime": {
     "end_time": "2021-11-14T17:31:58.676390Z",
     "start_time": "2021-11-14T17:30:48.813224Z"
    }
   },
   "outputs": [],
   "source": []
  },
  {
   "cell_type": "code",
   "execution_count": null,
   "metadata": {},
   "outputs": [],
   "source": []
  }
 ],
 "metadata": {
  "kernelspec": {
   "display_name": "Python 3",
   "language": "python",
   "name": "python3"
  },
  "language_info": {
   "codemirror_mode": {
    "name": "ipython",
    "version": 3
   },
   "file_extension": ".py",
   "mimetype": "text/x-python",
   "name": "python",
   "nbconvert_exporter": "python",
   "pygments_lexer": "ipython3",
   "version": "3.9.9"
  },
  "latex_envs": {
   "LaTeX_envs_menu_present": true,
   "autoclose": true,
   "autocomplete": true,
   "bibliofile": "biblio.bib",
   "cite_by": "apalike",
   "current_citInitial": 1,
   "eqLabelWithNumbers": true,
   "eqNumInitial": 1,
   "hotkeys": {
    "equation": "Ctrl-E",
    "itemize": "Ctrl-I"
   },
   "labels_anchors": false,
   "latex_user_defs": false,
   "report_style_numbering": false,
   "user_envs_cfg": false
  },
  "nbTranslate": {
   "displayLangs": [
    "*"
   ],
   "hotkey": "alt-t",
   "langInMainMenu": true,
   "sourceLang": "en",
   "targetLang": "fr",
   "useGoogleTranslate": true
  },
  "toc": {
   "base_numbering": 1,
   "nav_menu": {},
   "number_sections": true,
   "sideBar": true,
   "skip_h1_title": true,
   "title_cell": "Table of Contents",
   "title_sidebar": "Contents",
   "toc_cell": true,
   "toc_position": {},
   "toc_section_display": true,
   "toc_window_display": false
  }
 },
 "nbformat": 4,
 "nbformat_minor": 4
}

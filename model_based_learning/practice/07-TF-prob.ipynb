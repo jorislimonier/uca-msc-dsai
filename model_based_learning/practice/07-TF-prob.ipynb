{
  "cells": [
    {
      "cell_type": "markdown",
      "metadata": {
        "id": "caWHpc5yrT4O"
      },
      "source": [
        "# MSc Data Science: playing with Tensorflow probability "
      ]
    },
    {
      "cell_type": "markdown",
      "metadata": {
        "id": "XkMV1SjLr_6Y"
      },
      "source": [
        "TF Probability is a library that allows to use probabilisitic/statistical tools within TF. It will be very useful for us, in particular to code VAEs.\n",
        "\n",
        "Here, I'll simply show you the ropes of TF Probability. This tutorial is inspired by [this one](https://github.com/tensorflow/probability/blob/master/tensorflow_probability/examples/jupyter_notebooks/TensorFlow_Distributions_Tutorial.ipynb).\n",
        "\n",
        "Pytorch also has something very similar called [Pytorch distributions](https://pytorch.org/docs/stable/distributions.html)."
      ]
    },
    {
      "cell_type": "markdown",
      "metadata": {
        "id": "xcXViqjgq7ub"
      },
      "source": [
        "# Loading Tensorflow probability"
      ]
    },
    {
      "cell_type": "code",
      "execution_count": 1,
      "metadata": {
        "id": "ik59_iHBrVmR"
      },
      "outputs": [],
      "source": [
        "try:\n",
        "  # %tensorflow_version only exists in Colab.\n",
        "  %tensorflow_version 2.x\n",
        "except Exception:\n",
        "  pass"
      ]
    },
    {
      "cell_type": "code",
      "execution_count": 2,
      "metadata": {
        "id": "b_RZvko2q3YO"
      },
      "outputs": [
        {
          "name": "stderr",
          "output_type": "stream",
          "text": [
            "2022-10-25 15:01:22.954969: I tensorflow/core/platform/cpu_feature_guard.cc:193] This TensorFlow binary is optimized with oneAPI Deep Neural Network Library (oneDNN) to use the following CPU instructions in performance-critical operations:  AVX2 FMA\n",
            "To enable them in other operations, rebuild TensorFlow with the appropriate compiler flags.\n",
            "2022-10-25 15:01:23.150714: W tensorflow/stream_executor/platform/default/dso_loader.cc:64] Could not load dynamic library 'libcudart.so.11.0'; dlerror: libcudart.so.11.0: cannot open shared object file: No such file or directory; LD_LIBRARY_PATH: /usr/local/cuda-11.0/include:/usr/local/cuda-11.0/lib64:\n",
            "2022-10-25 15:01:23.150736: I tensorflow/stream_executor/cuda/cudart_stub.cc:29] Ignore above cudart dlerror if you do not have a GPU set up on your machine.\n",
            "2022-10-25 15:01:23.180171: E tensorflow/stream_executor/cuda/cuda_blas.cc:2981] Unable to register cuBLAS factory: Attempting to register factory for plugin cuBLAS when one has already been registered\n",
            "2022-10-25 15:01:23.929884: W tensorflow/stream_executor/platform/default/dso_loader.cc:64] Could not load dynamic library 'libnvinfer.so.7'; dlerror: libnvinfer.so.7: cannot open shared object file: No such file or directory; LD_LIBRARY_PATH: /usr/local/cuda-11.0/include:/usr/local/cuda-11.0/lib64:\n",
            "2022-10-25 15:01:23.930087: W tensorflow/stream_executor/platform/default/dso_loader.cc:64] Could not load dynamic library 'libnvinfer_plugin.so.7'; dlerror: libnvinfer_plugin.so.7: cannot open shared object file: No such file or directory; LD_LIBRARY_PATH: /usr/local/cuda-11.0/include:/usr/local/cuda-11.0/lib64:\n",
            "2022-10-25 15:01:23.930096: W tensorflow/compiler/tf2tensorrt/utils/py_utils.cc:38] TF-TRT Warning: Cannot dlopen some TensorRT libraries. If you would like to use Nvidia GPU with TensorRT, please make sure the missing libraries mentioned above are installed properly.\n"
          ]
        }
      ],
      "source": [
        "import tensorflow as tf\n",
        "import tensorflow_probability as tfp\n",
        "import matplotlib.pyplot as plt\n",
        "import numpy as np\n",
        "\n",
        "tfd = tfp.distributions"
      ]
    },
    {
      "cell_type": "markdown",
      "metadata": {
        "id": "xskOxP9zsp3Z"
      },
      "source": [
        "# Univariate distributions"
      ]
    },
    {
      "cell_type": "markdown",
      "metadata": {
        "id": "2zzqleDhsuWg"
      },
      "source": [
        "TFP allows you to define **probability distributions** as Python objects that you can use for example to\n",
        "\n",
        "\n",
        "*   sample\n",
        "*   compute densities\n",
        "\n"
      ]
    },
    {
      "cell_type": "markdown",
      "metadata": {
        "id": "SSYf5_EttaCi"
      },
      "source": [
        "Let us start simple, with a univariate Gaussian."
      ]
    },
    {
      "cell_type": "code",
      "execution_count": 4,
      "metadata": {
        "id": "hx64chSkrQZU"
      },
      "outputs": [
        {
          "data": {
            "text/plain": [
              "tensorflow_probability.python.distributions.normal.Normal"
            ]
          },
          "execution_count": 4,
          "metadata": {},
          "output_type": "execute_result"
        }
      ],
      "source": [
        "gaussian = tfd.Normal(loc=0., scale=1.)\n",
        "type(gaussian)"
      ]
    },
    {
      "cell_type": "code",
      "execution_count": 5,
      "metadata": {
        "colab": {
          "base_uri": "https://localhost:8080/",
          "height": 34
        },
        "id": "vcSnNQPgte6k",
        "outputId": "66a237b6-98c7-4440-b63c-761eeaae409b"
      },
      "outputs": [
        {
          "data": {
            "text/plain": [
              "<tf.Tensor: shape=(1,), dtype=float32, numpy=array([0.5666902], dtype=float32)>"
            ]
          },
          "execution_count": 5,
          "metadata": {},
          "output_type": "execute_result"
        }
      ],
      "source": [
        "gaussian.sample(1) # returns 1 sample"
      ]
    },
    {
      "cell_type": "code",
      "execution_count": 6,
      "metadata": {
        "colab": {
          "base_uri": "https://localhost:8080/"
        },
        "id": "xK8mP9QQZaUa",
        "outputId": "e5b79018-3b09-4802-f21f-20ca2c896368"
      },
      "outputs": [
        {
          "data": {
            "text/plain": [
              "array([-0.6991901], dtype=float32)"
            ]
          },
          "execution_count": 6,
          "metadata": {},
          "output_type": "execute_result"
        }
      ],
      "source": [
        "gaussian.sample(1).numpy() # returns 1 sample in numpy"
      ]
    },
    {
      "cell_type": "code",
      "execution_count": 7,
      "metadata": {
        "colab": {
          "base_uri": "https://localhost:8080/"
        },
        "id": "3B7z7rfbtlvr",
        "outputId": "b3536277-a9d3-43dd-c25f-605fa03d7f15"
      },
      "outputs": [
        {
          "data": {
            "text/plain": [
              "<tf.Tensor: shape=(10,), dtype=float32, numpy=\n",
              "array([-1.2107042 , -0.6136168 , -0.7356    , -0.7412504 , -1.0443474 ,\n",
              "       -1.0004816 , -0.15291743, -0.23181416,  0.55102026, -1.4102217 ],\n",
              "      dtype=float32)>"
            ]
          },
          "execution_count": 7,
          "metadata": {},
          "output_type": "execute_result"
        }
      ],
      "source": [
        "gaussian.sample(10) # returns 10 samples"
      ]
    },
    {
      "cell_type": "code",
      "execution_count": 8,
      "metadata": {
        "colab": {
          "base_uri": "https://localhost:8080/"
        },
        "id": "jLD2qQcpnTDt",
        "outputId": "17d9785a-9f01-4140-d9c5-d00526c095a1"
      },
      "outputs": [
        {
          "data": {
            "text/plain": [
              "0.0"
            ]
          },
          "execution_count": 8,
          "metadata": {},
          "output_type": "execute_result"
        }
      ],
      "source": [
        "gaussian.mean().numpy()"
      ]
    },
    {
      "cell_type": "code",
      "execution_count": 9,
      "metadata": {
        "colab": {
          "base_uri": "https://localhost:8080/"
        },
        "id": "4MTGKRRot5Ns",
        "outputId": "87da9aac-bb60-4524-e452-9a73b8cd415a"
      },
      "outputs": [
        {
          "data": {
            "text/plain": [
              "<tf.Tensor: shape=(), dtype=float32, numpy=0.004431848>"
            ]
          },
          "execution_count": 9,
          "metadata": {},
          "output_type": "execute_result"
        }
      ],
      "source": [
        "x = 3\n",
        "\n",
        "gaussian.prob(x) # compute the density of x"
      ]
    },
    {
      "cell_type": "code",
      "execution_count": 10,
      "metadata": {
        "colab": {
          "base_uri": "https://localhost:8080/"
        },
        "id": "M9CqFVRPvorF",
        "outputId": "3f090092-472c-4753-b8f6-396ea5655dae"
      },
      "outputs": [
        {
          "data": {
            "text/plain": [
              "<tf.Tensor: shape=(), dtype=float32, numpy=-5.4189386>"
            ]
          },
          "execution_count": 10,
          "metadata": {},
          "output_type": "execute_result"
        }
      ],
      "source": [
        "x = 3\n",
        "\n",
        "# compute the log  of density of x (useful to compute log-likelihoods!)\n",
        "gaussian.log_prob(x)"
      ]
    },
    {
      "cell_type": "code",
      "execution_count": 11,
      "metadata": {
        "colab": {
          "base_uri": "https://localhost:8080/",
          "height": 281
        },
        "id": "xH92P9DIuZsY",
        "outputId": "48e4fb4e-622a-40c6-a8a4-532e34c213b4"
      },
      "outputs": [
        {
          "data": {
            "image/png": "[encoded data removed]",
            "text/plain": [
              "<Figure size 640x480 with 1 Axes>"
            ]
          },
          "metadata": {},
          "output_type": "display_data"
        }
      ],
      "source": [
        "points = np.linspace(-4,4,100)\n",
        "\n",
        "plt.plot(points, gaussian.prob(points))\n",
        "plt.title(\"Gaussian density\")\n",
        "plt.show()"
      ]
    },
    {
      "cell_type": "code",
      "execution_count": 12,
      "metadata": {
        "colab": {
          "base_uri": "https://localhost:8080/",
          "height": 281
        },
        "id": "DrTlU9Uoy2su",
        "outputId": "4d9db675-ee0b-4116-ee19-40becd735361"
      },
      "outputs": [
        {
          "data": {
            "image/png": "[encoded data removed]",
            "text/plain": [
              "<Figure size 640x480 with 1 Axes>"
            ]
          },
          "metadata": {},
          "output_type": "display_data"
        }
      ],
      "source": [
        "points = np.linspace(-4,4,100)\n",
        "\n",
        "plt.plot(points, gaussian.log_prob(points))\n",
        "plt.title(\"log of Gaussian density\")\n",
        "plt.show()"
      ]
    },
    {
      "cell_type": "markdown",
      "metadata": {
        "id": "vkILTQ_-tyY2"
      },
      "source": [
        "Many more classical distributions are implemented, like the Student's t:"
      ]
    },
    {
      "cell_type": "code",
      "execution_count": 13,
      "metadata": {
        "id": "dPLcwZvztpMT"
      },
      "outputs": [],
      "source": [
        "student = tfd.StudentT(loc=0., scale=1.,df=2)"
      ]
    },
    {
      "cell_type": "code",
      "execution_count": 14,
      "metadata": {
        "colab": {
          "base_uri": "https://localhost:8080/",
          "height": 281
        },
        "id": "Xr6ybsK_u4bL",
        "outputId": "1f37f4dd-e16d-4598-cbab-783d6248b06e"
      },
      "outputs": [
        {
          "data": {
            "image/png": "[encoded data removed]",
            "text/plain": [
              "<Figure size 640x480 with 1 Axes>"
            ]
          },
          "metadata": {},
          "output_type": "display_data"
        }
      ],
      "source": [
        "points = np.linspace(-4,4,100)\n",
        "\n",
        "plt.plot(points, student.prob(points))\n",
        "plt.title(\"Student's t density with 2 degrees of freedom\")\n",
        "plt.show()"
      ]
    },
    {
      "cell_type": "code",
      "execution_count": 15,
      "metadata": {
        "colab": {
          "base_uri": "https://localhost:8080/",
          "height": 281
        },
        "id": "5pZ98t9My6Yo",
        "outputId": "0c715e79-a699-498d-da57-7f12f4509e1f"
      },
      "outputs": [
        {
          "data": {
            "image/png": "[encoded data removed]",
            "text/plain": [
              "<Figure size 640x480 with 1 Axes>"
            ]
          },
          "metadata": {},
          "output_type": "display_data"
        }
      ],
      "source": [
        "points = np.linspace(-4,4,100)\n",
        "\n",
        "plt.plot(points, student.log_prob(points))\n",
        "plt.title(\"Student's t log density with 2 degrees of freedom\")\n",
        "plt.show()"
      ]
    },
    {
      "cell_type": "markdown",
      "metadata": {
        "id": "2AV38aWCvQzU"
      },
      "source": [
        "We can also use discrete distributions, like the Bernoullil:"
      ]
    },
    {
      "cell_type": "code",
      "execution_count": 16,
      "metadata": {
        "id": "lwc6oxbGvJuL"
      },
      "outputs": [],
      "source": [
        "bern = tfd.Bernoulli(probs = 0.2)"
      ]
    },
    {
      "cell_type": "code",
      "execution_count": 17,
      "metadata": {
        "colab": {
          "base_uri": "https://localhost:8080/"
        },
        "id": "_tSoNvczvZ97",
        "outputId": "f99eb298-bcaa-4550-ff63-df63e5fe54cc"
      },
      "outputs": [
        {
          "data": {
            "text/plain": [
              "<tf.Tensor: shape=(10,), dtype=int32, numpy=array([1, 0, 0, 0, 0, 1, 1, 1, 1, 0], dtype=int32)>"
            ]
          },
          "execution_count": 17,
          "metadata": {},
          "output_type": "execute_result"
        }
      ],
      "source": [
        "bern.sample(10)"
      ]
    },
    {
      "cell_type": "markdown",
      "metadata": {
        "id": "KPOATcOwzTRz"
      },
      "source": [
        "# Creating several univariate distributions"
      ]
    },
    {
      "cell_type": "markdown",
      "metadata": {
        "id": "Jdshn_nuCHOe"
      },
      "source": [
        "Often, in machine learning, we have to deal with a lot of similar distributions. For example, if we want to learn a regression model, we want to define $n$ conditional distributions $p(y|\\mathbf{x}_1),...,p(y|\\mathbf{x}_n)$ with a similar structure.\n",
        "\n",
        "Feeding a bunch of parameters to the function that creates a distribution allows you to create a bunch of distributions at the same time."
      ]
    },
    {
      "cell_type": "code",
      "execution_count": 18,
      "metadata": {
        "colab": {
          "base_uri": "https://localhost:8080/",
          "height": 34
        },
        "id": "apTjdlyvzYtI",
        "outputId": "494ba6c8-8d7a-48c3-b254-62d7ed6b99ad"
      },
      "outputs": [
        {
          "data": {
            "text/plain": [
              "<tfp.distributions.Bernoulli 'Bernoulli' batch_shape=[3] event_shape=[] dtype=int32>"
            ]
          },
          "execution_count": 18,
          "metadata": {},
          "output_type": "execute_result"
        }
      ],
      "source": [
        "multiple_bernoullis = tfd.Bernoulli(probs=[.3, .5, .7])\n",
        "multiple_bernoullis"
      ]
    },
    {
      "cell_type": "code",
      "execution_count": 19,
      "metadata": {
        "colab": {
          "base_uri": "https://localhost:8080/",
          "height": 122
        },
        "id": "bhzqCxZhFw9V",
        "outputId": "f27311d8-b7e5-4386-e0e2-5a5d849dd7d4"
      },
      "outputs": [
        {
          "data": {
            "text/plain": [
              "<tf.Tensor: shape=(5, 3), dtype=int32, numpy=\n",
              "array([[0, 1, 0],\n",
              "       [0, 1, 1],\n",
              "       [0, 1, 1],\n",
              "       [0, 0, 1],\n",
              "       [1, 1, 0]], dtype=int32)>"
            ]
          },
          "execution_count": 19,
          "metadata": {},
          "output_type": "execute_result"
        }
      ],
      "source": [
        "multiple_bernoullis.sample(5)"
      ]
    },
    {
      "cell_type": "markdown",
      "metadata": {
        "id": "0ISHl2AMDg9L"
      },
      "source": [
        "The **batch shape** of [3] indicates that `multiple_Bernoullis` is constitued of a **batch of 3 Bernoulli distributions**.\n",
        "\n",
        "The **event shape** of [] indicates that all these 3 distributions are univariate.\n",
        "\n",
        "**How can we create multivariate distributions?** There are ways to create popular distributions directly (see e.g. `tfd.MultivariateNormalFullCovariance`), but here, we will focus on how to create **products of distributions** (aka fully factorised distributions).\n",
        "\n",
        "\n",
        "\n",
        "\n"
      ]
    },
    {
      "cell_type": "markdown",
      "metadata": {
        "id": "CEePGOFvvgD9"
      },
      "source": [
        "# Creating fully factorised distributions\n"
      ]
    },
    {
      "cell_type": "markdown",
      "metadata": {
        "id": "k1RrBrTHE3iA"
      },
      "source": [
        "Let's say we have $K$ univariate distributions $p(x_1),...,p(x_K)$. A way to define a distribution over $K$-dimensional vector $\\mathbf{x} = (x_1,...,x_K)$ is to consider the product\n",
        "$$p ( \\mathbf{x}) = \\prod_{k=1}^K  p(x_k).$$\n",
        "\n",
        "This means that the coordinates of $\\mathbf{x}$ will be **independent**.\n",
        "\n",
        "Fully factorised distributions, because they are convenient ways to deal with high-dimensional data, are everywhere in machine learning! For example in VAEs..."
      ]
    },
    {
      "cell_type": "markdown",
      "metadata": {
        "id": "XI6_s4jDGQRB"
      },
      "source": [
        "Using TFP, it's rather easy to define fully factorised distributions, via the function `tfd.Independent`. The idea is to first define a bunch of distributions (like we saw before), and then combine them."
      ]
    },
    {
      "cell_type": "code",
      "execution_count": 20,
      "metadata": {
        "colab": {
          "base_uri": "https://localhost:8080/",
          "height": 34
        },
        "id": "PbB9dptlE2zU",
        "outputId": "75b74b05-36ae-4d81-f763-7a39dffb6667"
      },
      "outputs": [
        {
          "data": {
            "text/plain": [
              "<tfp.distributions.Bernoulli 'Bernoulli' batch_shape=[3] event_shape=[] dtype=int32>"
            ]
          },
          "execution_count": 20,
          "metadata": {},
          "output_type": "execute_result"
        }
      ],
      "source": [
        "multiple_bernoullis"
      ]
    },
    {
      "cell_type": "code",
      "execution_count": 22,
      "metadata": {
        "colab": {
          "base_uri": "https://localhost:8080/",
          "height": 34
        },
        "id": "gc-KSIosvdnT",
        "outputId": "55d019e6-2d61-45e0-ec06-1571df81143e"
      },
      "outputs": [
        {
          "data": {
            "text/plain": [
              "<tfp.distributions.Independent 'IndependentBernoulli' batch_shape=[] event_shape=[3] dtype=int32>"
            ]
          },
          "execution_count": 22,
          "metadata": {},
          "output_type": "execute_result"
        }
      ],
      "source": [
        "prod_multiple_bernoullis = tfd.Independent(multiple_bernoullis, reinterpreted_batch_ndims=1)\n",
        "prod_multiple_bernoullis"
      ]
    },
    {
      "cell_type": "markdown",
      "metadata": {
        "id": "JWaoQ2x7HQZh"
      },
      "source": [
        "Now, the batch shape is [], which indicates that we have a **single distribution**, but the event shape is [3], which indicates that this single distribution is 3-dimensional!"
      ]
    },
    {
      "cell_type": "code",
      "execution_count": 23,
      "metadata": {
        "colab": {
          "base_uri": "https://localhost:8080/",
          "height": 122
        },
        "id": "ut0m_NY3HA2c",
        "outputId": "702d30f3-ea29-4aaf-d356-eddaad74f84b"
      },
      "outputs": [
        {
          "data": {
            "text/plain": [
              "<tf.Tensor: shape=(5, 3), dtype=int32, numpy=\n",
              "array([[1, 0, 0],\n",
              "       [0, 0, 1],\n",
              "       [0, 1, 1],\n",
              "       [0, 1, 1],\n",
              "       [1, 1, 1]], dtype=int32)>"
            ]
          },
          "execution_count": 23,
          "metadata": {},
          "output_type": "execute_result"
        }
      ],
      "source": [
        "prod_multiple_bernoullis.sample(5)"
      ]
    },
    {
      "cell_type": "markdown",
      "metadata": {
        "id": "DJjldhGBHm55"
      },
      "source": [
        "When we sample, we hardly see the difference...\n",
        "\n",
        "But computing the density is quite different!"
      ]
    },
    {
      "cell_type": "code",
      "execution_count": 25,
      "metadata": {
        "colab": {
          "base_uri": "https://localhost:8080/",
          "height": 34
        },
        "id": "VD8vH5nhHesf",
        "outputId": "ad5bf9b9-f1cd-4d0c-8f2b-5b5f346906c1"
      },
      "outputs": [
        {
          "data": {
            "text/plain": [
              "<tf.Tensor: shape=(3,), dtype=float32, numpy=array([0.7, 0.5, 0.7], dtype=float32)>"
            ]
          },
          "execution_count": 25,
          "metadata": {},
          "output_type": "execute_result"
        }
      ],
      "source": [
        "multiple_bernoullis.prob([0,0,1])"
      ]
    },
    {
      "cell_type": "code",
      "execution_count": 26,
      "metadata": {
        "colab": {
          "base_uri": "https://localhost:8080/",
          "height": 34
        },
        "id": "iBtkP-OsHyDg",
        "outputId": "2011a197-65fa-4fb9-e0f8-0826022d47fe"
      },
      "outputs": [
        {
          "data": {
            "text/plain": [
              "<tf.Tensor: shape=(), dtype=float32, numpy=0.24500002>"
            ]
          },
          "execution_count": 26,
          "metadata": {},
          "output_type": "execute_result"
        }
      ],
      "source": [
        "prod_multiple_bernoullis.prob([0,0,1])"
      ]
    },
    {
      "cell_type": "markdown",
      "metadata": {
        "id": "A3DrRDmBH2xn"
      },
      "source": [
        "What's the difference? How are these results related?"
      ]
    },
    {
      "cell_type": "markdown",
      "metadata": {
        "id": "8wwyH1DoH-pS"
      },
      "source": [
        "For more details on this, see [this tutorial](https://github.com/tensorflow/probability/blob/master/tensorflow_probability/examples/jupyter_notebooks/TensorFlow_Distributions_Tutorial.ipynb) (that I used to write mine), or [this one](https://github.com/tensorflow/probability/blob/master/tensorflow_probability/examples/jupyter_notebooks/Understanding_TensorFlow_Distributions_Shapes.ipynb) (that is more about the different shapes)."
      ]
    }
  ],
  "metadata": {
    "colab": {
      "provenance": []
    },
    "kernelspec": {
      "display_name": "Python 3.10.6 64-bit",
      "language": "python",
      "name": "python3"
    },
    "language_info": {
      "codemirror_mode": {
        "name": "ipython",
        "version": 3
      },
      "file_extension": ".py",
      "mimetype": "text/x-python",
      "name": "python",
      "nbconvert_exporter": "python",
      "pygments_lexer": "ipython3",
      "version": "3.10.6"
    },
    "vscode": {
      "interpreter": {
        "hash": "916dbcbb3f70747c44a77c7bcd40155683ae19c65e1c03b4aa3499c5328201f1"
      }
    }
  },
  "nbformat": 4,
  "nbformat_minor": 0
}

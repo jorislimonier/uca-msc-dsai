{
  "cells": [
    {
      "cell_type": "markdown",
      "metadata": {
        "id": "GCW3Kd1LLf12"
      },
      "source": [
        "# Learning a Gaussian with tensorflow\n"
      ]
    },
    {
      "cell_type": "code",
      "execution_count": 1,
      "metadata": {
        "id": "WijH8Q6aLbPR"
      },
      "outputs": [
        {
          "name": "stderr",
          "output_type": "stream",
          "text": [
            "2022-10-25 15:23:35.261860: I tensorflow/core/platform/cpu_feature_guard.cc:193] This TensorFlow binary is optimized with oneAPI Deep Neural Network Library (oneDNN) to use the following CPU instructions in performance-critical operations:  AVX2 FMA\n",
            "To enable them in other operations, rebuild TensorFlow with the appropriate compiler flags.\n",
            "2022-10-25 15:23:35.491593: W tensorflow/stream_executor/platform/default/dso_loader.cc:64] Could not load dynamic library 'libcudart.so.11.0'; dlerror: libcudart.so.11.0: cannot open shared object file: No such file or directory; LD_LIBRARY_PATH: /usr/local/cuda-11.0/include:/usr/local/cuda-11.0/lib64:\n",
            "2022-10-25 15:23:35.491630: I tensorflow/stream_executor/cuda/cudart_stub.cc:29] Ignore above cudart dlerror if you do not have a GPU set up on your machine.\n",
            "2022-10-25 15:23:35.531187: E tensorflow/stream_executor/cuda/cuda_blas.cc:2981] Unable to register cuBLAS factory: Attempting to register factory for plugin cuBLAS when one has already been registered\n",
            "2022-10-25 15:23:36.714300: W tensorflow/stream_executor/platform/default/dso_loader.cc:64] Could not load dynamic library 'libnvinfer.so.7'; dlerror: libnvinfer.so.7: cannot open shared object file: No such file or directory; LD_LIBRARY_PATH: /usr/local/cuda-11.0/include:/usr/local/cuda-11.0/lib64:\n",
            "2022-10-25 15:23:36.714600: W tensorflow/stream_executor/platform/default/dso_loader.cc:64] Could not load dynamic library 'libnvinfer_plugin.so.7'; dlerror: libnvinfer_plugin.so.7: cannot open shared object file: No such file or directory; LD_LIBRARY_PATH: /usr/local/cuda-11.0/include:/usr/local/cuda-11.0/lib64:\n",
            "2022-10-25 15:23:36.714616: W tensorflow/compiler/tf2tensorrt/utils/py_utils.cc:38] TF-TRT Warning: Cannot dlopen some TensorRT libraries. If you would like to use Nvidia GPU with TensorRT, please make sure the missing libraries mentioned above are installed properly.\n"
          ]
        }
      ],
      "source": [
        "import numpy as np\n",
        "import pandas as pd\n",
        "import scipy.io\n",
        "import scipy.sparse\n",
        "import scipy.stats\n",
        "import tensorflow as tf\n",
        "import tensorflow_probability as tfp\n",
        "from scipy.io import loadmat\n",
        "\n",
        "tfd = tfp.distributions\n",
        "tfk = tf.keras\n",
        "tfkl = tf.keras.layers\n",
        "import matplotlib.pyplot as plt\n",
        "from PIL import Image\n"
      ]
    },
    {
      "cell_type": "markdown",
      "metadata": {
        "id": "2mv-19QmMLuP"
      },
      "source": [
        "We load the iris data set.\n"
      ]
    },
    {
      "cell_type": "code",
      "execution_count": 7,
      "metadata": {
        "id": "k5oATPkOL0WZ"
      },
      "outputs": [],
      "source": [
        "from sklearn.datasets import load_iris\n",
        "\n",
        "data = load_iris()[\"data\"]\n",
        "\n",
        "X = ((data - np.mean(data, 0)) / np.std(data, 0)).astype(np.float32)\n",
        "n = X.shape[0]  # number of observations\n",
        "p = X.shape[1]  # number of features\n"
      ]
    },
    {
      "cell_type": "markdown",
      "metadata": {
        "id": "kfTETUDnMPbe"
      },
      "source": [
        "Learn a Gaussian model $p(x) = \\mathcal{N}(x|\\mu,\\Sigma)$ using Tensorflow!\n"
      ]
    },
    {
      "cell_type": "code",
      "execution_count": 97,
      "metadata": {
        "id": "HmFB0Y6uNDSj"
      },
      "outputs": [
        {
          "name": "stdout",
          "output_type": "stream",
          "text": [
            "tf.Tensor(-11.574745, shape=(), dtype=float32) \t [-1.2113843  0.2434182  2.181826   1.8863592]\n",
            "tf.Tensor(-11.198485, shape=(), dtype=float32) \t [-1.1613843   0.21341956  2.1318274   1.8363593 ]\n",
            "tf.Tensor(-8.63192, shape=(), dtype=float32) \t [-1.1113844   0.18341915  2.0818286   1.7863593 ]\n",
            "tf.Tensor(-12.664432, shape=(), dtype=float32) \t [-1.0613844   0.15342006  2.0318298   1.7363594 ]\n",
            "tf.Tensor(-11.085523, shape=(), dtype=float32) \t [-1.0113845   0.11342181  1.9818306   1.6863594 ]\n",
            "tf.Tensor(-9.711522, shape=(), dtype=float32) \t [-0.96138453  0.09342293  1.9318306   1.6363595 ]\n",
            "tf.Tensor(-7.8157907, shape=(), dtype=float32) \t [-0.9113846   0.08342185  1.8818307   1.5863595 ]\n",
            "tf.Tensor(-10.728185, shape=(), dtype=float32) \t [-0.8613849   0.05342279  1.8318307   1.5363595 ]\n",
            "tf.Tensor(-7.565163, shape=(), dtype=float32) \t [-0.81138504  0.04341358  1.7818308   1.4863596 ]\n",
            "tf.Tensor(-5.8078246, shape=(), dtype=float32) \t [-0.76138514  0.03341419  1.7318308   1.4363596 ]\n",
            "tf.Tensor(-7.406631, shape=(), dtype=float32) \t [-0.7113854   0.02341375  1.6818309   1.3863597 ]\n",
            "tf.Tensor(-7.807734, shape=(), dtype=float32) \t [-0.6613857   0.03341345  1.6318309   1.3363597 ]\n",
            "tf.Tensor(-9.419637, shape=(), dtype=float32) \t [-0.61138594  0.03341354  1.581831    1.2863598 ]\n",
            "tf.Tensor(-7.0922203, shape=(), dtype=float32) \t [-0.56138617  0.02341373  1.531831    1.2363598 ]\n",
            "tf.Tensor(-5.8615184, shape=(), dtype=float32) \t [-0.51138645  0.02341159  1.4818311   1.1863599 ]\n",
            "tf.Tensor(-5.6427097, shape=(), dtype=float32) \t [-0.47138655  0.02341129  1.4318311   1.1363599 ]\n",
            "tf.Tensor(-7.7070146, shape=(), dtype=float32) \t [-0.4213887   0.02341015  1.3818312   1.08636   ]\n",
            "tf.Tensor(-6.9805303, shape=(), dtype=float32) \t [-0.38138905  0.01341041  1.3318312   1.0363601 ]\n",
            "tf.Tensor(-5.9789143, shape=(), dtype=float32) \t [-0.33139005  0.00341138  1.2818313   0.9863602 ]\n",
            "tf.Tensor(-7.8746753, shape=(), dtype=float32) \t [-0.31139064 -0.00659171  1.2318313   0.93636024]\n",
            "tf.Tensor(-5.3508754, shape=(), dtype=float32) \t [-0.27139097 -0.00659145  1.1818314   0.88636035]\n",
            "tf.Tensor(-5.5814633, shape=(), dtype=float32) \t [-0.25136903 -0.01659128  1.1318314   0.83636045]\n",
            "tf.Tensor(-7.0881615, shape=(), dtype=float32) \t [-0.21136928 -0.01653723  1.0818315   0.7863605 ]\n",
            "tf.Tensor(-7.432219, shape=(), dtype=float32) \t [-0.16137078 -0.0164915   1.0318315   0.73636055]\n",
            "tf.Tensor(-5.98547, shape=(), dtype=float32) \t [-0.14137088 -0.01649054  0.98183155  0.6863608 ]\n",
            "tf.Tensor(-6.648041, shape=(), dtype=float32) \t [-0.14136226 -0.01649031  0.9318316   0.636361  ]\n",
            "tf.Tensor(-6.7125688, shape=(), dtype=float32) \t [-0.12136271  0.00350904  0.8818317   0.586362  ]\n",
            "tf.Tensor(-5.993768, shape=(), dtype=float32) \t [-0.10136415 -0.0064908   0.83183175  0.5363623 ]\n",
            "tf.Tensor(-5.998939, shape=(), dtype=float32) \t [-0.09135649  0.00350813  0.7818318   0.48636258]\n",
            "tf.Tensor(-8.066707, shape=(), dtype=float32) \t [-0.07135344  0.00350906  0.7318319   0.436363  ]\n",
            "tf.Tensor(-5.1984186, shape=(), dtype=float32) \t [-0.06135371  0.00350888  0.68183196  0.38636348]\n",
            "tf.Tensor(-5.152386, shape=(), dtype=float32) \t [-0.04135462  0.01350743  0.6318322   0.34636414]\n",
            "tf.Tensor(-6.916443, shape=(), dtype=float32) \t [-0.03135525  0.02350679  0.5818324   0.3063647 ]\n",
            "tf.Tensor(-7.101675, shape=(), dtype=float32) \t [-0.02135502  0.01351667  0.53183264  0.27636468]\n",
            "tf.Tensor(-5.639972, shape=(), dtype=float32) \t [-0.02135499  0.01351662  0.4818343   0.2563636 ]\n",
            "tf.Tensor(-7.9416966, shape=(), dtype=float32) \t [-0.02135417  0.00351722  0.43183473  0.21636443]\n",
            "tf.Tensor(-6.130837, shape=(), dtype=float32) \t [-0.02135331  0.01351214  0.3818353   0.18636465]\n",
            "tf.Tensor(-6.0532737, shape=(), dtype=float32) \t [-0.02135601  0.01351192  0.33183604  0.1463697 ]\n",
            "tf.Tensor(-6.0959983, shape=(), dtype=float32) \t [-0.03135305  0.00351421  0.2918361   0.13636944]\n",
            "tf.Tensor(-5.743462, shape=(), dtype=float32) \t [-0.03135298  0.00351384  0.2618365   0.1263681 ]\n",
            "tf.Tensor(-5.8253098, shape=(), dtype=float32) \t [-0.03135304  0.01351384  0.23183686  0.11636794]\n",
            "tf.Tensor(-5.7066474, shape=(), dtype=float32) \t [-0.02135338  0.01351383  0.18183893  0.07637174]\n",
            "tf.Tensor(-5.588082, shape=(), dtype=float32) \t [-0.01135306  0.01351529  0.14183985  0.0563707 ]\n",
            "tf.Tensor(-5.050077, shape=(), dtype=float32) \t [-0.01135871  0.01351503  0.13183959  0.0563698 ]\n",
            "tf.Tensor(-5.4303136, shape=(), dtype=float32) \t [-0.03134783  0.00351548  0.11183644  0.03637127]\n",
            "tf.Tensor(-6.785662, shape=(), dtype=float32) \t [-0.03134702  0.00351559  0.09183671  0.01637271]\n",
            "tf.Tensor(-5.1842947, shape=(), dtype=float32) \t [-0.03134653  0.00351557  0.07183724  0.01637445]\n",
            "tf.Tensor(-4.841602, shape=(), dtype=float32) \t [-0.02134568 -0.00648293  0.07182771  0.00637877]\n",
            "tf.Tensor(-5.533896, shape=(), dtype=float32) \t [-0.02134583 -0.00648272  0.06182794  0.01637767]\n",
            "tf.Tensor(-5.8133736, shape=(), dtype=float32) \t [-0.02134567  0.00351548  0.05182816  0.00637811]\n",
            "tf.Tensor(-4.975244, shape=(), dtype=float32) \t [-0.01134464 -0.00648422  0.04183185  0.0063782 ]\n",
            "tf.Tensor(-5.541307, shape=(), dtype=float32) \t [-0.01135359 -0.01648133  0.04183162  0.00637819]\n",
            "tf.Tensor(-5.14986, shape=(), dtype=float32) \t [0.00864333 0.00351332 0.04183139 0.02637139]\n",
            "tf.Tensor(-5.7280927, shape=(), dtype=float32) \t [0.00867107 0.01351248 0.02186084 0.02635373]\n",
            "tf.Tensor(-5.5262017, shape=(), dtype=float32) \t [0.00867081 0.00351302 0.0118599  0.01635085]\n",
            "tf.Tensor(-5.3257833, shape=(), dtype=float32) \t [ 0.00867069 -0.00648671  0.0018618   0.01635013]\n",
            "tf.Tensor(-5.373787, shape=(), dtype=float32) \t [-0.00132913  0.0035121  -0.00813803  0.0063504 ]\n",
            "tf.Tensor(-5.7306767, shape=(), dtype=float32) \t [-0.00132998 -0.00648781  0.0018611   0.01634438]\n",
            "tf.Tensor(-4.8857684, shape=(), dtype=float32) \t [-0.02130567 -0.00648839 -0.00813273  0.02633733]\n",
            "tf.Tensor(-4.871915, shape=(), dtype=float32) \t [-0.02130435 -0.00648835  0.00186724  0.03633707]\n",
            "tf.Tensor(-4.9260583, shape=(), dtype=float32) \t [-0.01130457 -0.01648822  0.00186928  0.03633659]\n",
            "tf.Tensor(-5.2773623, shape=(), dtype=float32) \t [-0.00131407 -0.02648771  0.00187451  0.02633083]\n",
            "tf.Tensor(-6.295084, shape=(), dtype=float32) \t [-0.00131369 -0.0264872   0.0018752   0.0263279 ]\n",
            "tf.Tensor(-4.983722, shape=(), dtype=float32) \t [-0.00132236 -0.02648695 -0.0081239   0.01632769]\n",
            "tf.Tensor(-6.2048135, shape=(), dtype=float32) \t [-0.00132261 -0.01648686 -0.00812307  0.02632856]\n",
            "tf.Tensor(-6.291342, shape=(), dtype=float32) \t [-0.00132392 -0.02648577 -0.00812304  0.02632876]\n",
            "tf.Tensor(-5.0024824, shape=(), dtype=float32) \t [-0.0013255  -0.01648626  0.01187172  0.02632905]\n",
            "tf.Tensor(-5.7260356, shape=(), dtype=float32) \t [ 0.00866549 -0.01648712  0.02187044  0.02633058]\n",
            "tf.Tensor(-5.790598, shape=(), dtype=float32) \t [ 0.00866676 -0.02648637  0.01187325  0.02632568]\n",
            "tf.Tensor(-7.3410726, shape=(), dtype=float32) \t [ 0.01866797 -0.03648484  0.00187427  0.01632659]\n",
            "tf.Tensor(-5.818724, shape=(), dtype=float32) \t [ 0.01866812 -0.03648411  0.00187437  0.01632679]\n",
            "tf.Tensor(-5.677193, shape=(), dtype=float32) \t [-0.00133063 -0.02648488 -0.01811952  0.00632666]\n",
            "tf.Tensor(-5.863983, shape=(), dtype=float32) \t [-0.01132974 -0.01648539 -0.02811924 -0.0036723 ]\n",
            "tf.Tensor(-5.836458, shape=(), dtype=float32) \t [-0.03132896 -0.00644693 -0.03811652 -0.0136753 ]\n",
            "tf.Tensor(-5.855444, shape=(), dtype=float32) \t [-0.03133044  0.00354866 -0.02811734 -0.0036762 ]\n",
            "tf.Tensor(-4.8475094, shape=(), dtype=float32) \t [-0.021329   -0.00643608 -0.0281147   0.00632284]\n",
            "tf.Tensor(-5.204889, shape=(), dtype=float32) \t [-0.01132951 -0.01643509 -0.02811324  0.00632318]\n",
            "tf.Tensor(-5.1425424, shape=(), dtype=float32) \t [-0.02132949 -0.00643672 -0.02811285  0.0063231 ]\n",
            "tf.Tensor(-5.746559, shape=(), dtype=float32) \t [-0.02133375 -0.00643651 -0.00811544 -0.00367706]\n",
            "tf.Tensor(-5.5983777, shape=(), dtype=float32) \t [-0.02133507  0.0035633  -0.01811465 -0.00367724]\n",
            "tf.Tensor(-5.622217, shape=(), dtype=float32) \t [-0.02133776  0.01356291 -0.02811443 -0.01367729]\n",
            "tf.Tensor(-5.8766685, shape=(), dtype=float32) \t [-0.01133885  0.01357366 -0.01811476 -0.00367788]\n",
            "tf.Tensor(-5.7906265, shape=(), dtype=float32) \t [-0.01133897  0.01357269 -0.008115    0.00632179]\n",
            "tf.Tensor(-5.482183, shape=(), dtype=float32) \t [-0.00133988  0.01358071  0.00188424  0.00631662]\n",
            "tf.Tensor(-4.974156, shape=(), dtype=float32) \t [0.00865952 0.00358126 0.01188255 0.00631562]\n",
            "tf.Tensor(-5.471817, shape=(), dtype=float32) \t [ 0.01865929 -0.00641721  0.03188146  0.00631624]\n",
            "tf.Tensor(-6.4296193, shape=(), dtype=float32) \t [-0.00133927 -0.00641701  0.02188455  0.00631683]\n",
            "tf.Tensor(-5.824581, shape=(), dtype=float32) \t [-0.01133896 -0.00641634  0.01188407 -0.01368247]\n",
            "tf.Tensor(-6.132609, shape=(), dtype=float32) \t [ 0.00866011 -0.01641531  0.02188365  0.00631454]\n",
            "tf.Tensor(-5.8689594, shape=(), dtype=float32) \t [-0.00133684 -0.00641426  0.00201634 -0.00368454]\n",
            "tf.Tensor(-5.0300174, shape=(), dtype=float32) \t [-0.01133989 -0.01641406  0.01201618  0.00631531]\n",
            "tf.Tensor(-5.3949256, shape=(), dtype=float32) \t [-0.01134054 -0.00641435  0.02201468 -0.00368368]\n",
            "tf.Tensor(-5.61062, shape=(), dtype=float32) \t [-0.00134085  0.00358513  0.02201524 -0.00364879]\n",
            "tf.Tensor(-4.887387, shape=(), dtype=float32) \t [ 0.01864468  0.00358518  0.0120158  -0.01364716]\n",
            "tf.Tensor(-5.8521743, shape=(), dtype=float32) \t [ 0.0086448   0.01359275  0.01201541 -0.01365688]\n",
            "tf.Tensor(-6.368439, shape=(), dtype=float32) \t [-0.00132746  0.01359276  0.00201567 -0.02365647]\n",
            "tf.Tensor(-6.3720093, shape=(), dtype=float32) \t [-0.00133069  0.01359269 -0.00798385 -0.03365607]\n",
            "tf.Tensor(-7.094912, shape=(), dtype=float32) \t [-0.00133032  0.01359335  0.01201424 -0.02365611]\n",
            "tf.Tensor(-6.9259505, shape=(), dtype=float32) \t [-0.0212908   0.0035946   0.02201076 -0.02365588]\n",
            "tf.Tensor(-4.9306626, shape=(), dtype=float32) \t [-0.01129107  0.00359511  0.01200981 -0.02365541]\n",
            "tf.Tensor(-5.6087, shape=(), dtype=float32) \t [-0.02128914 -0.00640388  0.01200947 -0.02365541]\n",
            "tf.Tensor(-5.651079, shape=(), dtype=float32) \t [-0.04128729  0.00359433  0.00201054 -0.02365827]\n",
            "tf.Tensor(-5.3242702, shape=(), dtype=float32) \t [-0.04128675  0.00359464  0.00201073 -0.02365782]\n",
            "tf.Tensor(-6.02891, shape=(), dtype=float32) \t [-0.04128645 -0.01640212 -0.01798704 -0.01365542]\n",
            "tf.Tensor(-5.7803855, shape=(), dtype=float32) \t [-0.03128772 -0.01640183 -0.01798753 -0.02365493]\n",
            "tf.Tensor(-5.6250534, shape=(), dtype=float32) \t [-0.0312837  -0.00640212 -0.01799017 -0.02365563]\n",
            "tf.Tensor(-6.18664, shape=(), dtype=float32) \t [-0.01128465  0.01359611 -0.00799023 -0.01365599]\n",
            "tf.Tensor(-5.503244, shape=(), dtype=float32) \t [-0.00128494  0.00359605 -0.00799005 -0.00365657]\n",
            "tf.Tensor(-4.8138375, shape=(), dtype=float32) \t [ 0.00871476 -0.00640336 -0.00798925  0.00634249]\n",
            "tf.Tensor(-5.6152463, shape=(), dtype=float32) \t [0.00871497 0.00359251 0.00201035 0.01634124]\n",
            "tf.Tensor(-5.520411, shape=(), dtype=float32) \t [-0.00128282  0.0035929   0.01200974  0.01636055]\n",
            "tf.Tensor(-6.245619, shape=(), dtype=float32) \t [-0.00128287 -0.0064069   0.0120097   0.01636059]\n",
            "tf.Tensor(-5.7244344, shape=(), dtype=float32) \t [-0.01128303 -0.00640992  0.01199695  0.00636316]\n",
            "tf.Tensor(-5.888157, shape=(), dtype=float32) \t [-0.00128406  0.0036035   0.01199527  0.00636147]\n",
            "tf.Tensor(-5.816316, shape=(), dtype=float32) \t [ 0.00871451 -0.00639608  0.01199463 -0.00363825]\n",
            "tf.Tensor(-4.8252797, shape=(), dtype=float32) \t [ 0.01871402 -0.00639691  0.02199448  0.00636168]\n",
            "tf.Tensor(-5.808657, shape=(), dtype=float32) \t [ 0.02871267 -0.00639725  0.02199434  0.00635989]\n",
            "tf.Tensor(-5.555893, shape=(), dtype=float32) \t [ 0.02871254 -0.00639703  0.02199406  0.00635909]\n",
            "tf.Tensor(-5.423983, shape=(), dtype=float32) \t [ 0.02871151 -0.00639646  0.02199371 -0.00363894]\n",
            "tf.Tensor(-6.2399516, shape=(), dtype=float32) \t [ 0.03871127 -0.01639662  0.02199546  0.00636017]\n",
            "tf.Tensor(-6.300384, shape=(), dtype=float32) \t [ 0.02871154 -0.02639578  0.02199512 -0.00363278]\n",
            "tf.Tensor(-5.008105, shape=(), dtype=float32) \t [ 0.01871259 -0.02639609  0.02199423  0.00636638]\n",
            "tf.Tensor(-5.450463, shape=(), dtype=float32) \t [ 0.02871209 -0.02639351  0.03199353  0.01636401]\n",
            "tf.Tensor(-5.236569, shape=(), dtype=float32) \t [ 0.02870884 -0.03639279  0.03199279  0.01636352]\n",
            "tf.Tensor(-5.5965347, shape=(), dtype=float32) \t [ 0.018709   -0.01639363  0.02199478  0.00636577]\n",
            "tf.Tensor(-4.8256736, shape=(), dtype=float32) \t [ 0.00870927 -0.00637909  0.01199519  0.00636489]\n",
            "tf.Tensor(-5.9756675, shape=(), dtype=float32) \t [ 0.00870827 -0.00637738  0.01199503  0.00635977]\n",
            "tf.Tensor(-5.7706084, shape=(), dtype=float32) \t [-0.00128498  0.00362194  0.01199514  0.0063598 ]\n",
            "tf.Tensor(-5.552, shape=(), dtype=float32) \t [-0.00123628 -0.00637514  0.02199348  0.0163597 ]\n",
            "tf.Tensor(-5.3069625, shape=(), dtype=float32) \t [-0.00123621  0.00362403  0.0119938   0.00636012]\n",
            "tf.Tensor(-5.363176, shape=(), dtype=float32) \t [ 0.00876333  0.00362375  0.00199506 -0.0036371 ]\n",
            "tf.Tensor(-5.9159675, shape=(), dtype=float32) \t [ 0.00876288  0.00362419  0.00199456 -0.0036376 ]\n",
            "tf.Tensor(-5.5708747, shape=(), dtype=float32) \t [0.00876095 0.00362234 0.0019956  0.00636085]\n",
            "tf.Tensor(-5.827749, shape=(), dtype=float32) \t [ 0.00875972 -0.00636326  0.01199478  0.00636137]\n",
            "tf.Tensor(-5.5545235, shape=(), dtype=float32) \t [-0.00123979 -0.01632973 -0.00800322  0.00635835]\n",
            "tf.Tensor(-6.245748, shape=(), dtype=float32) \t [-0.00123928 -0.02632895 -0.01800277 -0.00364073]\n",
            "tf.Tensor(-5.210163, shape=(), dtype=float32) \t [-0.01123786 -0.02632824 -0.01800353 -0.02363478]\n",
            "tf.Tensor(-5.6714168, shape=(), dtype=float32) \t [-0.00123902 -0.01657891 -0.00800559 -0.01363536]\n",
            "tf.Tensor(-4.747122, shape=(), dtype=float32) \t [-0.02123776 -0.02652693 -0.00784309 -0.01363465]\n",
            "tf.Tensor(-5.8173327, shape=(), dtype=float32) \t [-0.03123462 -0.01652837  0.00215491 -0.00363534]\n",
            "tf.Tensor(-5.077227, shape=(), dtype=float32) \t [-0.0212356  -0.00652905  0.01215325 -0.00360325]\n",
            "tf.Tensor(-5.054122, shape=(), dtype=float32) \t [-0.03123486 -0.00652829  0.01215543  0.01639324]\n",
            "tf.Tensor(-5.0175943, shape=(), dtype=float32) \t [-0.03123097  0.00347126 -0.00784263  0.00639447]\n",
            "tf.Tensor(-5.5088687, shape=(), dtype=float32) \t [-0.03123432  0.00346937  0.00215832  0.01639373]\n",
            "tf.Tensor(-5.5415444, shape=(), dtype=float32) \t [-0.03122036  0.00346698  0.002158    0.01639325]\n",
            "tf.Tensor(-6.2244067, shape=(), dtype=float32) \t [-0.03122027  0.00346691 -0.00784081 -0.00360509]\n",
            "tf.Tensor(-6.592297, shape=(), dtype=float32) \t [-0.03121903  0.00346691 -0.01784012 -0.02360184]\n",
            "tf.Tensor(-6.929264, shape=(), dtype=float32) \t [-0.0312186   0.00346835 -0.01784616 -0.03359818]\n",
            "tf.Tensor(-4.7400694, shape=(), dtype=float32) \t [-0.03121871  0.01346569 -0.01784602 -0.03359801]\n",
            "tf.Tensor(-5.3282523, shape=(), dtype=float32) \t [-0.03121865  0.01346668 -0.01784662 -0.0435924 ]\n",
            "tf.Tensor(-5.392748, shape=(), dtype=float32) \t [-0.03121877  0.01346494 -0.02784666 -0.05359228]\n",
            "tf.Tensor(-5.0445933, shape=(), dtype=float32) \t [-0.02121628  0.01346474 -0.01784672 -0.03359455]\n",
            "tf.Tensor(-4.9202976, shape=(), dtype=float32) \t [-0.01121665 -0.00653416 -0.02784251 -0.04358944]\n",
            "tf.Tensor(-6.3693547, shape=(), dtype=float32) \t [-0.02121504 -0.00653437 -0.02784216 -0.04358854]\n",
            "tf.Tensor(-5.771778, shape=(), dtype=float32) \t [-0.02121534  0.00346378 -0.02784243 -0.04358853]\n",
            "tf.Tensor(-5.7313385, shape=(), dtype=float32) \t [-0.0312125   0.00346422 -0.0378402  -0.03358905]\n",
            "tf.Tensor(-5.627024, shape=(), dtype=float32) \t [-0.01121401  0.01346266 -0.02784071 -0.02359071]\n",
            "tf.Tensor(-5.0206623, shape=(), dtype=float32) \t [-0.00121474  0.01346315 -0.02784016 -0.01359185]\n",
            "tf.Tensor(-5.5191436, shape=(), dtype=float32) \t [ 0.00878183  0.01346331 -0.00784062  0.00640727]\n",
            "tf.Tensor(-5.5668235, shape=(), dtype=float32) \t [ 0.00878113  0.01346129 -0.00782779  0.00640801]\n",
            "tf.Tensor(-6.8970437, shape=(), dtype=float32) \t [ 0.00878137  0.00346314 -0.00782695  0.01640743]\n",
            "tf.Tensor(-5.630337, shape=(), dtype=float32) \t [-0.00121712 -0.01653592 -0.00782709  0.00640884]\n",
            "tf.Tensor(-5.1067586, shape=(), dtype=float32) \t [-0.00121898 -0.01653594 -0.00775503  0.00640824]\n",
            "tf.Tensor(-5.2246304, shape=(), dtype=float32) \t [ 0.00878102 -0.02653557 -0.01775427 -0.0035912 ]\n",
            "tf.Tensor(-5.3994737, shape=(), dtype=float32) \t [ 0.01878063 -0.01653527 -0.01775396 -0.00356168]\n",
            "tf.Tensor(-4.9488053, shape=(), dtype=float32) \t [ 0.0087718  -0.00653583 -0.01775284  0.00643593]\n",
            "tf.Tensor(-5.305126, shape=(), dtype=float32) \t [ 0.00876957 -0.00653508 -0.01775296  0.00643322]\n",
            "tf.Tensor(-6.970324, shape=(), dtype=float32) \t [ 0.00876966  0.01345796 -0.00775427  0.01643167]\n",
            "tf.Tensor(-4.525384, shape=(), dtype=float32) \t [-0.00122946  0.00345829  0.00223646  0.01643119]\n",
            "tf.Tensor(-5.3425407, shape=(), dtype=float32) \t [-0.00122947  0.00345782  0.00223732  0.01643127]\n",
            "tf.Tensor(-5.337827, shape=(), dtype=float32) \t [-0.00122998 -0.00654257 -0.0077618  -0.00356654]\n",
            "tf.Tensor(-6.356983, shape=(), dtype=float32) \t [-0.00122953 -0.00654081  0.00223861  0.01643246]\n",
            "tf.Tensor(-5.3388953, shape=(), dtype=float32) \t [-0.00122933  0.01345829  0.01223373  0.00643323]\n",
            "tf.Tensor(-5.6041274, shape=(), dtype=float32) \t [-0.01122904  0.01345933 -0.0077656  -0.00356652]\n",
            "tf.Tensor(-5.784452, shape=(), dtype=float32) \t [-0.00122895  0.00346952 -0.00776481 -0.00356989]\n",
            "tf.Tensor(-5.640671, shape=(), dtype=float32) \t [-0.00122917  0.0034694  -0.00777071 -0.00354472]\n",
            "tf.Tensor(-5.1542325, shape=(), dtype=float32) \t [-0.01122927 -0.00651314 -0.02777286 -0.03354253]\n",
            "tf.Tensor(-5.6631947, shape=(), dtype=float32) \t [-0.01122929 -0.00651194 -0.03776943 -0.02354611]\n",
            "tf.Tensor(-5.5160847, shape=(), dtype=float32) \t [-0.02122459 -0.00651147 -0.03776941 -0.02354627]\n",
            "tf.Tensor(-4.476444, shape=(), dtype=float32) \t [-0.03120823 -0.00651093 -0.02777012 -0.02348584]\n",
            "tf.Tensor(-5.0147243, shape=(), dtype=float32) \t [-0.03120566 -0.01650751 -0.0177703  -0.01348602]\n",
            "tf.Tensor(-5.8635573, shape=(), dtype=float32) \t [-0.03120586 -0.00650815 -0.01777045 -0.01349085]\n",
            "tf.Tensor(-5.7057896, shape=(), dtype=float32) \t [-0.02120658 -0.02650621 -0.02776759 -0.00349162]\n",
            "tf.Tensor(-6.352394, shape=(), dtype=float32) \t [-0.02120736 -0.01650973 -0.01776808 -0.00349157]\n",
            "tf.Tensor(-5.5777917, shape=(), dtype=float32) \t [-0.01120796 -0.0165096  -0.0277674  -0.00349148]\n",
            "tf.Tensor(-5.7773175, shape=(), dtype=float32) \t [-0.01120542 -0.01650894 -0.01776799 -0.00349332]\n",
            "tf.Tensor(-6.3687167, shape=(), dtype=float32) \t [-0.01120856 -0.01650934  0.0022312   0.01650609]\n",
            "tf.Tensor(-5.565744, shape=(), dtype=float32) \t [-0.01120846 -0.0265075   0.00223051  0.01650501]\n",
            "tf.Tensor(-5.5535507, shape=(), dtype=float32) \t [-0.0212079  -0.01657063  0.00223046  0.02650222]\n",
            "tf.Tensor(-5.115488, shape=(), dtype=float32) \t [-0.01121132 -0.01657051  0.01223051  0.03650167]\n",
            "tf.Tensor(-6.750748, shape=(), dtype=float32) \t [-0.00121219 -0.0065708   0.01223053  0.03649939]\n",
            "tf.Tensor(-5.0352383, shape=(), dtype=float32) \t [-0.00121264 -0.00657081  0.00223059  0.02649948]\n",
            "tf.Tensor(-5.2987595, shape=(), dtype=float32) \t [-0.00121284 -0.00657087  0.00223019  0.02649955]\n",
            "tf.Tensor(-6.1428337, shape=(), dtype=float32) \t [ 0.00878605 -0.00656827  0.00223084  0.02649949]\n",
            "tf.Tensor(-6.0578117, shape=(), dtype=float32) \t [-0.00121153 -0.00656835  0.00223081  0.02649952]\n",
            "tf.Tensor(-6.311566, shape=(), dtype=float32) \t [-0.0012116  -0.00656784  0.00223092  0.0264982 ]\n",
            "tf.Tensor(-6.399404, shape=(), dtype=float32) \t [-0.00121086 -0.00656863  0.01221446  0.01649869]\n",
            "tf.Tensor(-6.809571, shape=(), dtype=float32) \t [-0.01121252 -0.0065657   0.00221413  0.00649836]\n",
            "tf.Tensor(-5.5898566, shape=(), dtype=float32) \t [-0.00121339 -0.02656513  0.00221707  0.01649731]\n",
            "tf.Tensor(-6.018108, shape=(), dtype=float32) \t [-0.01121331 -0.01656599 -0.01778212  0.00649727]\n"
          ]
        },
        {
          "data": {
            "text/plain": [
              "<tf.Variable 'Variable:0' shape=(4,) dtype=float32, numpy=array([-0.01121331, -0.01656599, -0.01778212,  0.00649727], dtype=float32)>"
            ]
          },
          "execution_count": 97,
          "metadata": {},
          "output_type": "execute_result"
        }
      ],
      "source": [
        "def log_lik(X):\n",
        "  gaussian_diag_cov = tfd.MultivariateNormalDiag(loc=mu)  # cov = identity\n",
        "  outputs = gaussian_diag_cov.log_prob(X)\n",
        "  return tf.reduce_mean(outputs)\n",
        "\n",
        "\n",
        "def train_step(X: np.ndarray, params: list):\n",
        "  \"\"\"Data is a batch of data points\"\"\"\n",
        "  with tf.GradientTape() as tape:\n",
        "    loss = -log_lik(X)\n",
        "\n",
        "  gradients = tape.gradient(loss, params)\n",
        "\n",
        "  optim = tfk.optimizers.Adam(learning_rate=0.005)\n",
        "  optim.apply_gradients(zip(gradients, params))\n",
        "\n",
        "\n",
        "mu = tf.Variable(initial_value=tf.random.normal([p]), trainable=True)\n",
        "train_dataset = (\n",
        "  tf.data.Dataset.from_tensor_slices(tensors=X).shuffle(n).batch(batch_size=16)\n",
        ")\n",
        "\n",
        "nb_epochs = 200\n",
        "for epoch in range(nb_epochs):\n",
        "  for batch in train_dataset:\n",
        "    train_step(X=batch, params=[mu])\n",
        "  print(log_lik(X=batch), \"\\t\", mu.numpy())\n",
        "\n",
        "mu\n"
      ]
    },
    {
      "cell_type": "code",
      "execution_count": null,
      "metadata": {},
      "outputs": [],
      "source": []
    }
  ],
  "metadata": {
    "colab": {
      "provenance": []
    },
    "kernelspec": {
      "display_name": "Python 3.10.6 64-bit",
      "language": "python",
      "name": "python3"
    },
    "language_info": {
      "codemirror_mode": {
        "name": "ipython",
        "version": 3
      },
      "file_extension": ".py",
      "mimetype": "text/x-python",
      "name": "python",
      "nbconvert_exporter": "python",
      "pygments_lexer": "ipython3",
      "version": "3.10.6"
    },
    "vscode": {
      "interpreter": {
        "hash": "916dbcbb3f70747c44a77c7bcd40155683ae19c65e1c03b4aa3499c5328201f1"
      }
    }
  },
  "nbformat": 4,
  "nbformat_minor": 0
}

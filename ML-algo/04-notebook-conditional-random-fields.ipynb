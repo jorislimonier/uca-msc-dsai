{
  "cells": [
    {
      "cell_type": "code",
      "execution_count": 1,
      "id": "wanted-building",
      "metadata": {
        "id": "wanted-building"
      },
      "outputs": [],
      "source": [
        "import matplotlib.pyplot as plt\n",
        "import numpy as np\n",
        "from itertools import chain\n",
        "\n",
        "import nltk\n",
        "import sklearn\n",
        "import scipy.stats\n",
        "from sklearn.metrics import make_scorer\n",
        "from sklearn.model_selection import cross_val_score\n",
        "from sklearn.model_selection import RandomizedSearchCV\n",
        "\n",
        "import sklearn_crfsuite\n",
        "from sklearn_crfsuite import scorers\n",
        "from sklearn_crfsuite import metrics\n",
        "\n",
        "TRAIN_FILE_NAME = \"04-train.txt\"\n",
        "TEST_FILE_NAME = \"04-test.txt\"\n"
      ]
    },
    {
      "cell_type": "markdown",
      "id": "traditional-fisher",
      "metadata": {
        "id": "traditional-fisher"
      },
      "source": [
        "A simple sentence NER example:\n",
        "\n",
        "[**ORG** U.N. ] official [**PER** Ekeus ] heads for [**LOC** Baghdad ]\n",
        "\n",
        "We will concentrate on four types of named entities:\n",
        "\n",
        "- persons (**PER**),\n",
        "- locations (**LOC**)\n",
        "- organizations (**ORG**)\n",
        "- Others (**O**)\n"
      ]
    },
    {
      "cell_type": "code",
      "execution_count": 2,
      "id": "innovative-aberdeen",
      "metadata": {
        "id": "innovative-aberdeen"
      },
      "outputs": [],
      "source": [
        "def _generate_examples(filepath):\n",
        "    with open(filepath, encoding=\"utf-8\") as f:\n",
        "        sent = []\n",
        "        for line in f:\n",
        "            if line.startswith(\"-DOCSTART-\") or line == \"\" or line == \"\\n\":\n",
        "                if sent:\n",
        "                    yield sent\n",
        "                    sent = []\n",
        "            else:\n",
        "                splits = line.split(\" \")\n",
        "                token = splits[0]\n",
        "                pos_tag = splits[1]\n",
        "                ner_tag = splits[3].rstrip()\n",
        "                if \"MISC\" in ner_tag:\n",
        "                    ner_tag = \"O\"\n",
        "\n",
        "                sent.append((token, pos_tag, ner_tag))\n"
      ]
    },
    {
      "cell_type": "code",
      "execution_count": 3,
      "id": "capital-stopping",
      "metadata": {
        "id": "capital-stopping",
        "outputId": "c333c398-678f-4b91-9b5a-1bd7195ce9ef"
      },
      "outputs": [
        {
          "name": "stdout",
          "output_type": "stream",
          "text": [
            "CPU times: user 234 ms, sys: 4.9 ms, total: 239 ms\n",
            "Wall time: 237 ms\n"
          ]
        }
      ],
      "source": [
        "%%time \n",
        "# hint use the above defined function\n",
        "train_sents = list(_generate_examples(TRAIN_FILE_NAME))\n",
        "test_sents = list(_generate_examples(TEST_FILE_NAME))"
      ]
    },
    {
      "cell_type": "code",
      "execution_count": 4,
      "id": "acquired-oxide",
      "metadata": {
        "id": "acquired-oxide"
      },
      "outputs": [],
      "source": [
        "def word2features(sent, i):\n",
        "    word = sent[i][0]\n",
        "    postag = sent[i][1]\n",
        "\n",
        "    features = {\n",
        "        \"bias\": 1.0,\n",
        "        \"word.lower()\": word.lower(),\n",
        "        \"postag\": postag,\n",
        "    }\n",
        "\n",
        "    if i > 0:\n",
        "        word1 = sent[i - 1][0]\n",
        "        postag1 = sent[i - 1][1]\n",
        "        features.update(\n",
        "            {\n",
        "                \"-1:word.lower()\": word1.lower(),\n",
        "                \"-1:postag\": postag1,\n",
        "            }\n",
        "        )\n",
        "    else:\n",
        "        features[\"BOS\"] = True\n",
        "    return features\n"
      ]
    },
    {
      "cell_type": "code",
      "execution_count": 5,
      "id": "minimal-student",
      "metadata": {
        "id": "minimal-student",
        "outputId": "9db9cc7c-dc33-462c-b2c7-6b4c1eec3d99"
      },
      "outputs": [
        {
          "data": {
            "text/plain": [
              "[('United', 'NNP', 'B-LOC'),\n",
              " ('Arab', 'NNP', 'I-LOC'),\n",
              " ('Emirates', 'NNPS', 'I-LOC'),\n",
              " ('1996-12-06', 'CD', 'O')]"
            ]
          },
          "execution_count": 5,
          "metadata": {},
          "output_type": "execute_result"
        }
      ],
      "source": [
        "test_sents[2]\n"
      ]
    },
    {
      "cell_type": "code",
      "execution_count": 6,
      "id": "acquired-robertson",
      "metadata": {
        "id": "acquired-robertson",
        "outputId": "11036531-6c24-4b19-d751-4df54af073c0"
      },
      "outputs": [
        {
          "data": {
            "text/plain": [
              "{'bias': 1.0, 'word.lower()': 'united', 'postag': 'NNP', 'BOS': True}"
            ]
          },
          "execution_count": 6,
          "metadata": {},
          "output_type": "execute_result"
        }
      ],
      "source": [
        "word2features(test_sents[2], 0)\n"
      ]
    },
    {
      "cell_type": "code",
      "execution_count": 7,
      "id": "addressed-showcase",
      "metadata": {
        "id": "addressed-showcase"
      },
      "outputs": [],
      "source": [
        "def sent2features(sent):\n",
        "    return [word2features(sent, i) for i in range(len(sent))]\n",
        "\n",
        "\n",
        "def sent2labels(sent):\n",
        "    return [label for token, postag, label in sent]\n",
        "\n",
        "\n",
        "def sent2tokens(sent):\n",
        "    return [token for token, postag, label in sent]\n"
      ]
    },
    {
      "cell_type": "code",
      "execution_count": 8,
      "id": "completed-contribution",
      "metadata": {
        "id": "completed-contribution",
        "outputId": "6442e775-8ee8-438d-fcbd-e418dd7b246e"
      },
      "outputs": [
        {
          "name": "stdout",
          "output_type": "stream",
          "text": [
            "CPU times: user 321 ms, sys: 8.55 ms, total: 330 ms\n",
            "Wall time: 328 ms\n"
          ]
        }
      ],
      "source": [
        "%%time\n",
        "X_train = [sent2features(s) for s in train_sents]\n",
        "y_train = [sent2labels(s) for s in train_sents]\n",
        "\n",
        "X_test = [sent2features(s) for s in test_sents]\n",
        "y_test = [sent2labels(s) for s in test_sents]"
      ]
    },
    {
      "cell_type": "code",
      "execution_count": 9,
      "id": "included-fishing",
      "metadata": {
        "id": "included-fishing",
        "outputId": "9d09b8ad-20f0-46c0-e339-6bd350ab53a8"
      },
      "outputs": [
        {
          "name": "stdout",
          "output_type": "stream",
          "text": [
            "CPU times: user 9.83 s, sys: 23.8 ms, total: 9.85 s\n",
            "Wall time: 9.88 s\n"
          ]
        },
        {
          "name": "stderr",
          "output_type": "stream",
          "text": [
            "/home/joris/.local/lib/python3.9/site-packages/sklearn/base.py:209: FutureWarning: From version 0.24, get_params will raise an AttributeError if a parameter cannot be retrieved as an instance attribute. Previously it would return None.\n",
            "  warnings.warn('From version 0.24, get_params will raise an '\n"
          ]
        },
        {
          "data": {
            "text/plain": [
              "CRF(algorithm='lbfgs', all_possible_transitions=True, c1=0.1, c2=0.1,\n",
              "    max_iterations=100)"
            ]
          },
          "execution_count": 9,
          "metadata": {},
          "output_type": "execute_result"
        }
      ],
      "source": [
        "%%time \n",
        "#search for sklearn_crfsuite.CRF, \n",
        "# use the lbfgs algorithm, \n",
        "# c parameters should be 0.1 and max iterations 100, \n",
        "# all possible transactions true\n",
        "# try:\n",
        "#     crf = sklearn_crfsuite.CRF(algorithm=\"lbfgs\", c1=0.1, c2=0.1, max_iterations=100, all_possible_transitions=True,)\n",
        "#     # fit the model\n",
        "#     crf.fit(X_train, y_train)\n",
        "# except AttributeError as e:\n",
        "#     print(\"Error\", e)\n",
        "crf = sklearn_crfsuite.CRF(algorithm=\"lbfgs\", c1=0.1, c2=0.1, max_iterations=100, all_possible_transitions=True,)\n",
        "# fit the model\n",
        "crf.fit(X_train, y_train)\n"
      ]
    },
    {
      "cell_type": "code",
      "execution_count": 10,
      "id": "scientific-armstrong",
      "metadata": {
        "id": "scientific-armstrong"
      },
      "outputs": [
        {
          "data": {
            "text/plain": [
              "['B-ORG', 'O', 'B-PER', 'I-PER', 'B-LOC', 'I-ORG', 'I-LOC']"
            ]
          },
          "execution_count": 10,
          "metadata": {},
          "output_type": "execute_result"
        }
      ],
      "source": [
        "# save a list of all labels in your model, hint crfs have a classes attribute\n",
        "labels = list(crf.classes_)\n",
        "labels\n"
      ]
    },
    {
      "cell_type": "code",
      "execution_count": 11,
      "id": "hidden-camera",
      "metadata": {
        "id": "hidden-camera"
      },
      "outputs": [
        {
          "data": {
            "text/plain": [
              "['B-ORG', 'B-PER', 'I-PER', 'B-LOC', 'I-ORG', 'I-LOC']"
            ]
          },
          "execution_count": 11,
          "metadata": {},
          "output_type": "execute_result"
        }
      ],
      "source": [
        "# remove the label 'O' from your list\n",
        "try:\n",
        "    labels.remove(\"O\")\n",
        "except ValueError:\n",
        "    pass\n",
        "labels\n"
      ]
    },
    {
      "cell_type": "code",
      "execution_count": 12,
      "id": "familiar-bridge",
      "metadata": {
        "id": "familiar-bridge",
        "outputId": "9692da94-b31f-4168-8586-7bc683585da9"
      },
      "outputs": [
        {
          "data": {
            "text/plain": [
              "0.08359119883579763"
            ]
          },
          "execution_count": 12,
          "metadata": {},
          "output_type": "execute_result"
        }
      ],
      "source": [
        "# perfrom a prediction on your test set\n",
        "y_pred = crf.predict(y_test)\n",
        "\n",
        "metrics.flat_f1_score(\n",
        "    y_test,\n",
        "    y_pred,\n",
        "    average=\"weighted\",\n",
        "    labels=labels,\n",
        ")\n"
      ]
    },
    {
      "cell_type": "code",
      "execution_count": 14,
      "id": "b249ace7",
      "metadata": {},
      "outputs": [
        {
          "ename": "AttributeError",
          "evalue": "'list' object has no attribute 'sorted'",
          "output_type": "error",
          "traceback": [
            "\u001b[0;31m---------------------------------------------------------------------------\u001b[0m",
            "\u001b[0;31mAttributeError\u001b[0m                            Traceback (most recent call last)",
            "Input \u001b[0;32mIn [14]\u001b[0m, in \u001b[0;36m<module>\u001b[0;34m\u001b[0m\n\u001b[0;32m----> 1\u001b[0m \u001b[43mlabels\u001b[49m\u001b[38;5;241;43m.\u001b[39;49m\u001b[43msorted\u001b[49m(key\u001b[38;5;241m=\u001b[39m\u001b[38;5;28;01mlambda\u001b[39;00m l1, l2: l1[\u001b[38;5;241m1\u001b[39m:]\u001b[38;5;241m<\u001b[39ml2[\u001b[38;5;241m1\u001b[39m:])\n",
            "\u001b[0;31mAttributeError\u001b[0m: 'list' object has no attribute 'sorted'"
          ]
        }
      ],
      "source": [
        "labels.sorted(key=lambda l1, l2: l1[1:]<l2[1:])"
      ]
    },
    {
      "cell_type": "code",
      "execution_count": null,
      "id": "central-privacy",
      "metadata": {
        "id": "central-privacy"
      },
      "outputs": [],
      "source": [
        "# group B and I results, use the sorted function on the list labels with a lambda function as the key\n",
        "sorted_labels = np.sort()\n"
      ]
    },
    {
      "cell_type": "code",
      "execution_count": null,
      "id": "opened-death",
      "metadata": {
        "id": "opened-death",
        "outputId": "c4a1fa87-08b9-4deb-90de-ce2796f34063"
      },
      "outputs": [
        {
          "name": "stderr",
          "output_type": "stream",
          "text": [
            "/home/taki/miniconda3/envs/dt_df/lib/python3.7/site-packages/sklearn/utils/validation.py:70: FutureWarning: Pass labels=['B-LOC', 'I-LOC', 'B-ORG', 'I-ORG', 'B-PER', 'I-PER'] as keyword args. From version 0.25 passing these as positional arguments will result in an error\n",
            "  FutureWarning)\n"
          ]
        },
        {
          "name": "stdout",
          "output_type": "stream",
          "text": [
            "              precision    recall  f1-score   support\n",
            "\n",
            "       B-LOC      0.849     0.825     0.837      1667\n",
            "       I-LOC      0.767     0.716     0.740       257\n",
            "       B-ORG      0.735     0.637     0.682      1660\n",
            "       I-ORG      0.616     0.721     0.664       834\n",
            "       B-PER      0.837     0.764     0.799      1615\n",
            "       I-PER      0.832     0.931     0.878      1156\n",
            "\n",
            "   micro avg      0.785     0.769     0.777      7189\n",
            "   macro avg      0.772     0.766     0.767      7189\n",
            "weighted avg      0.787     0.769     0.776      7189\n",
            "\n"
          ]
        }
      ],
      "source": [
        "print(\n",
        "    metrics.flat_classification_report(\n",
        "        y_test,\n",
        "        y_pred,\n",
        "        labels=sorted_labels,\n",
        "        digits=3,\n",
        "    )\n",
        ")\n"
      ]
    },
    {
      "cell_type": "code",
      "execution_count": null,
      "id": "protected-bracket",
      "metadata": {
        "id": "protected-bracket",
        "outputId": "4aa31954-223a-4080-f8f0-680d7250c014"
      },
      "outputs": [
        {
          "data": {
            "text/plain": [
              "49"
            ]
          },
          "execution_count": 36,
          "metadata": {},
          "output_type": "execute_result"
        }
      ],
      "source": [
        "# what is the number of transition features in our model, crfs have an attribute called transition_features_\n"
      ]
    },
    {
      "cell_type": "code",
      "execution_count": null,
      "id": "together-evening",
      "metadata": {
        "id": "together-evening",
        "outputId": "e620f9b1-f477-4d36-df8e-111294d0c966"
      },
      "outputs": [
        {
          "name": "stdout",
          "output_type": "stream",
          "text": [
            "Top likely transitions:\n",
            "B-PER  -> I-PER   6.591492\n",
            "B-ORG  -> I-ORG   6.306534\n",
            "I-ORG  -> I-ORG   5.540077\n",
            "B-LOC  -> I-LOC   4.839887\n",
            "I-LOC  -> I-LOC   3.758774\n",
            "I-PER  -> I-PER   3.394919\n",
            "O      -> B-PER   1.960743\n",
            "O      -> O       1.369676\n",
            "B-ORG  -> O       0.950664\n",
            "O      -> B-LOC   0.919982\n",
            "B-LOC  -> O       0.612921\n",
            "B-PER  -> O       0.557646\n",
            "O      -> B-ORG   0.515605\n",
            "I-PER  -> O       0.393510\n",
            "I-ORG  -> O       0.328486\n",
            "I-LOC  -> O       -0.305074\n",
            "B-ORG  -> B-ORG   -0.984217\n",
            "B-LOC  -> B-LOC   -0.990422\n",
            "I-LOC  -> B-LOC   -1.291094\n",
            "B-PER  -> B-LOC   -1.315197\n",
            "\n",
            "Top unlikely transitions:\n",
            "I-PER  -> I-ORG   -1.991960\n",
            "I-PER  -> I-LOC   -2.040264\n",
            "B-ORG  -> I-LOC   -2.046612\n",
            "I-ORG  -> B-LOC   -2.113390\n",
            "I-ORG  -> I-LOC   -2.206704\n",
            "B-ORG  -> B-LOC   -2.584979\n",
            "I-LOC  -> B-ORG   -2.658712\n",
            "I-PER  -> B-LOC   -2.709911\n",
            "B-LOC  -> B-PER   -2.738535\n",
            "I-LOC  -> B-PER   -2.756531\n",
            "I-LOC  -> I-ORG   -2.759703\n",
            "B-PER  -> B-ORG   -2.798284\n",
            "I-ORG  -> B-ORG   -3.030456\n",
            "I-PER  -> B-ORG   -3.144592\n",
            "I-PER  -> B-PER   -3.186294\n",
            "B-PER  -> B-PER   -3.500576\n",
            "B-LOC  -> I-ORG   -3.856252\n",
            "O      -> I-PER   -4.319554\n",
            "O      -> I-LOC   -5.995912\n",
            "O      -> I-ORG   -6.175097\n"
          ]
        }
      ],
      "source": [
        "from collections import Counter\n",
        "\n",
        "\n",
        "def print_transitions(trans_features):\n",
        "    for (label_from, label_to), weight in trans_features:\n",
        "        print(\"%-6s -> %-7s %0.6f\" % (label_from, label_to, weight))\n",
        "\n",
        "\n",
        "print(\"Top likely transitions:\")\n",
        "print_transitions(Counter(crf.transition_features_).most_common(20))\n",
        "\n",
        "# list the top 20 unlikely transitions\n",
        "print(\"\\nTop unlikely transitions:\")\n"
      ]
    },
    {
      "cell_type": "code",
      "execution_count": null,
      "id": "retained-calcium",
      "metadata": {
        "id": "retained-calcium",
        "outputId": "f780c0ef-9054-4290-ae68-b8d9dbac8aa8"
      },
      "outputs": [
        {
          "data": {
            "text/plain": [
              "16044"
            ]
          },
          "execution_count": 39,
          "metadata": {},
          "output_type": "execute_result"
        }
      ],
      "source": [
        "# what is the number of transition features in our model, crfs have an attribute called state_features_\n"
      ]
    },
    {
      "cell_type": "code",
      "execution_count": null,
      "id": "offshore-mitchell",
      "metadata": {
        "id": "offshore-mitchell",
        "outputId": "68f1bdb5-e991-4d62-a025-97a90a8f00bf"
      },
      "outputs": [
        {
          "name": "stdout",
          "output_type": "stream",
          "text": [
            "Top positive:\n",
            "8.307293 I-LOC    word.lower():oval\n",
            "8.088441 B-LOC    word.lower():m3\n",
            "7.751193 B-ORG    word.lower():footscray\n",
            "7.001409 B-ORG    word.lower():osce\n",
            "6.964246 B-PER    word.lower():lebed\n",
            "6.609227 B-LOC    word.lower():amsterdam\n",
            "6.556081 B-LOC    word.lower():bonn\n",
            "6.543649 B-LOC    word.lower():beijing\n",
            "6.516252 B-LOC    word.lower():mideast\n",
            "6.514129 B-ORG    word.lower():adelaide\n",
            "6.341000 B-LOC    word.lower():balkans\n",
            "6.296972 B-LOC    word.lower():med\n",
            "6.293931 B-LOC    word.lower():stansted\n",
            "6.251496 O        word.lower():to\n",
            "6.164668 O        word.lower():division\n",
            "6.109046 B-LOC    word.lower():vatican\n",
            "6.065353 B-LOC    word.lower():johannesburg\n",
            "6.051745 B-PER    word.lower():stenning\n",
            "6.033868 B-LOC    word.lower():england\n",
            "6.013143 B-PER    word.lower():clinton\n",
            "5.989218 B-PER    word.lower():chang\n",
            "5.986145 B-LOC    word.lower():pakistan\n",
            "5.979900 B-LOC    word.lower():mt\n",
            "5.896624 B-PER    word.lower():fogarty\n",
            "5.840211 B-LOC    word.lower():moscow\n",
            "5.801627 B-ORG    word.lower():u.n.\n",
            "5.759773 B-LOC    word.lower():seoul\n",
            "5.753325 B-LOC    word.lower():iraq\n",
            "5.746310 I-ORG    word.lower():newsroom\n",
            "5.683387 B-LOC    word.lower():beirut\n",
            "\n",
            "Top negative:\n",
            "-1.924981 O        -1:word.lower():colleague\n",
            "-1.934276 O        -1:word.lower():cooperation\n",
            "-1.968579 O        -1:word.lower():later\n",
            "-1.976188 I-PER    postag:VBD\n",
            "-1.990570 B-ORG    word.lower():african\n",
            "-2.034884 O        -1:word.lower():arkansas\n",
            "-2.062987 O        -1:word.lower():breaking\n",
            "-2.071485 O        word.lower():31\n",
            "-2.076839 O        -1:word.lower():p\n",
            "-2.078149 O        -1:word.lower():diario\n",
            "-2.088915 B-PER    -1:postag:PRP$\n",
            "-2.092937 O        -1:word.lower():n\n",
            "-2.116170 B-PER    -1:word.lower():/\n",
            "-2.161106 O        -1:word.lower():past\n",
            "-2.190894 O        -1:word.lower():saint\n",
            "-2.247559 O        word.lower():ours\n",
            "-2.283222 O        -1:word.lower():cdu\n",
            "-2.296212 O        -1:word.lower():awami\n",
            "-2.321810 O        word.lower():nice\n",
            "-2.397402 O        postag:TO\n",
            "-2.493048 I-PER    bias\n",
            "-2.527634 O        -1:word.lower():buducnost\n",
            "-2.562613 O        word.lower():leeds\n",
            "-2.587832 O        -1:word.lower():moody\n",
            "-2.649809 O        -1:word.lower():queen\n",
            "-3.216858 O        -1:word.lower():st\n",
            "-3.240531 O        postag:NNPS\n",
            "-3.343803 O        -1:word.lower():beat\n",
            "-3.924442 O        postag:NNP\n",
            "-4.085484 O        -1:word.lower():lloyd\n"
          ]
        }
      ],
      "source": [
        "def print_state_features(state_features):\n",
        "    for (attr, label), weight in state_features:\n",
        "        print(\"%0.6f %-8s %s\" % (weight, label, attr))\n",
        "\n",
        "\n",
        "# list the top 30 positive\n",
        "print(\"Top positive:\")\n",
        "\n",
        "\n",
        "# list the top 30 negative\n",
        "print(\"\\nTop negative:\")\n"
      ]
    }
  ],
  "metadata": {
    "colab": {
      "name": "NER_CRF_example.ipynb",
      "provenance": []
    },
    "kernelspec": {
      "display_name": "Python 3",
      "language": "python",
      "name": "python3"
    },
    "language_info": {
      "codemirror_mode": {
        "name": "ipython",
        "version": 3
      },
      "file_extension": ".py",
      "mimetype": "text/x-python",
      "name": "python",
      "nbconvert_exporter": "python",
      "pygments_lexer": "ipython3",
      "version": "3.9.10"
    }
  },
  "nbformat": 4,
  "nbformat_minor": 5
}

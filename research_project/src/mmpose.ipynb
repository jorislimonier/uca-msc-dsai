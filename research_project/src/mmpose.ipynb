{
 "cells": [
  {
   "cell_type": "code",
   "execution_count": 11,
   "metadata": {},
   "outputs": [
    {
     "ename": "FileNotFoundError",
     "evalue": "file \"/media/_base_/default_runtime.py\" does not exist",
     "output_type": "error",
     "traceback": [
      "\u001b[0;31m---------------------------------------------------------------------------\u001b[0m",
      "\u001b[0;31mFileNotFoundError\u001b[0m                         Traceback (most recent call last)",
      "Cell \u001b[0;32mIn [11], line 6\u001b[0m\n\u001b[1;32m      4\u001b[0m config_file \u001b[39m=\u001b[39m data_path \u001b[39m+\u001b[39m \u001b[39m\"\u001b[39m\u001b[39mvideopose3d_h36m_27frames_fullconv_supervised.py\u001b[39m\u001b[39m\"\u001b[39m\n\u001b[1;32m      5\u001b[0m checkpoint_file \u001b[39m=\u001b[39m data_path \u001b[39m+\u001b[39m \u001b[39m\"\u001b[39m\u001b[39mvideopose_h36m_27frames_fullconv_supervised-fe8fbba9_20210527.pth\u001b[39m\u001b[39m\"\u001b[39m\n\u001b[0;32m----> 6\u001b[0m pose_model \u001b[39m=\u001b[39m init_pose_model(\n\u001b[1;32m      7\u001b[0m   config_file, checkpoint_file, device\u001b[39m=\u001b[39m\u001b[39m\"\u001b[39m\u001b[39mcuda:0\u001b[39m\u001b[39m\"\u001b[39m\n\u001b[1;32m      8\u001b[0m )  \u001b[39m# or device='cuda:0'\u001b[39;00m\n\u001b[1;32m     10\u001b[0m image_name \u001b[39m=\u001b[39m data_path \u001b[39m+\u001b[39m \u001b[39m\"\u001b[39m\u001b[39mgroup_photo.JPG\u001b[39m\u001b[39m\"\u001b[39m\n\u001b[1;32m     11\u001b[0m \u001b[39m# test a single image\u001b[39;00m\n",
      "File \u001b[0;32m~/.local/lib/python3.10/site-packages/mmpose/apis/inference.py:38\u001b[0m, in \u001b[0;36minit_pose_model\u001b[0;34m(config, checkpoint, device)\u001b[0m\n\u001b[1;32m     26\u001b[0m \u001b[39m\"\"\"Initialize a pose model from config file.\u001b[39;00m\n\u001b[1;32m     27\u001b[0m \n\u001b[1;32m     28\u001b[0m \u001b[39mArgs:\u001b[39;00m\n\u001b[0;32m   (...)\u001b[0m\n\u001b[1;32m     35\u001b[0m \u001b[39m    nn.Module: The constructed detector.\u001b[39;00m\n\u001b[1;32m     36\u001b[0m \u001b[39m\"\"\"\u001b[39;00m\n\u001b[1;32m     37\u001b[0m \u001b[39mif\u001b[39;00m \u001b[39misinstance\u001b[39m(config, \u001b[39mstr\u001b[39m):\n\u001b[0;32m---> 38\u001b[0m     config \u001b[39m=\u001b[39m mmcv\u001b[39m.\u001b[39;49mConfig\u001b[39m.\u001b[39;49mfromfile(config)\n\u001b[1;32m     39\u001b[0m \u001b[39melif\u001b[39;00m \u001b[39mnot\u001b[39;00m \u001b[39misinstance\u001b[39m(config, mmcv\u001b[39m.\u001b[39mConfig):\n\u001b[1;32m     40\u001b[0m     \u001b[39mraise\u001b[39;00m \u001b[39mTypeError\u001b[39;00m(\u001b[39m'\u001b[39m\u001b[39mconfig must be a filename or Config object, \u001b[39m\u001b[39m'\u001b[39m\n\u001b[1;32m     41\u001b[0m                     \u001b[39mf\u001b[39m\u001b[39m'\u001b[39m\u001b[39mbut got \u001b[39m\u001b[39m{\u001b[39;00m\u001b[39mtype\u001b[39m(config)\u001b[39m}\u001b[39;00m\u001b[39m'\u001b[39m)\n",
      "File \u001b[0;32m~/.local/lib/python3.10/site-packages/mmcv/utils/config.py:340\u001b[0m, in \u001b[0;36mConfig.fromfile\u001b[0;34m(filename, use_predefined_variables, import_custom_modules)\u001b[0m\n\u001b[1;32m    338\u001b[0m \u001b[39mif\u001b[39;00m \u001b[39misinstance\u001b[39m(filename, Path):\n\u001b[1;32m    339\u001b[0m     filename \u001b[39m=\u001b[39m \u001b[39mstr\u001b[39m(filename)\n\u001b[0;32m--> 340\u001b[0m cfg_dict, cfg_text \u001b[39m=\u001b[39m Config\u001b[39m.\u001b[39;49m_file2dict(filename,\n\u001b[1;32m    341\u001b[0m                                        use_predefined_variables)\n\u001b[1;32m    342\u001b[0m \u001b[39mif\u001b[39;00m import_custom_modules \u001b[39mand\u001b[39;00m cfg_dict\u001b[39m.\u001b[39mget(\u001b[39m'\u001b[39m\u001b[39mcustom_imports\u001b[39m\u001b[39m'\u001b[39m, \u001b[39mNone\u001b[39;00m):\n\u001b[1;32m    343\u001b[0m     import_modules_from_strings(\u001b[39m*\u001b[39m\u001b[39m*\u001b[39mcfg_dict[\u001b[39m'\u001b[39m\u001b[39mcustom_imports\u001b[39m\u001b[39m'\u001b[39m])\n",
      "File \u001b[0;32m~/.local/lib/python3.10/site-packages/mmcv/utils/config.py:252\u001b[0m, in \u001b[0;36mConfig._file2dict\u001b[0;34m(filename, use_predefined_variables)\u001b[0m\n\u001b[1;32m    250\u001b[0m cfg_text_list \u001b[39m=\u001b[39m \u001b[39mlist\u001b[39m()\n\u001b[1;32m    251\u001b[0m \u001b[39mfor\u001b[39;00m f \u001b[39min\u001b[39;00m base_filename:\n\u001b[0;32m--> 252\u001b[0m     _cfg_dict, _cfg_text \u001b[39m=\u001b[39m Config\u001b[39m.\u001b[39;49m_file2dict(osp\u001b[39m.\u001b[39;49mjoin(cfg_dir, f))\n\u001b[1;32m    253\u001b[0m     cfg_dict_list\u001b[39m.\u001b[39mappend(_cfg_dict)\n\u001b[1;32m    254\u001b[0m     cfg_text_list\u001b[39m.\u001b[39mappend(_cfg_text)\n",
      "File \u001b[0;32m~/.local/lib/python3.10/site-packages/mmcv/utils/config.py:183\u001b[0m, in \u001b[0;36mConfig._file2dict\u001b[0;34m(filename, use_predefined_variables)\u001b[0m\n\u001b[1;32m    180\u001b[0m \u001b[39m@staticmethod\u001b[39m\n\u001b[1;32m    181\u001b[0m \u001b[39mdef\u001b[39;00m \u001b[39m_file2dict\u001b[39m(filename, use_predefined_variables\u001b[39m=\u001b[39m\u001b[39mTrue\u001b[39;00m):\n\u001b[1;32m    182\u001b[0m     filename \u001b[39m=\u001b[39m osp\u001b[39m.\u001b[39mabspath(osp\u001b[39m.\u001b[39mexpanduser(filename))\n\u001b[0;32m--> 183\u001b[0m     check_file_exist(filename)\n\u001b[1;32m    184\u001b[0m     fileExtname \u001b[39m=\u001b[39m osp\u001b[39m.\u001b[39msplitext(filename)[\u001b[39m1\u001b[39m]\n\u001b[1;32m    185\u001b[0m     \u001b[39mif\u001b[39;00m fileExtname \u001b[39mnot\u001b[39;00m \u001b[39min\u001b[39;00m [\u001b[39m'\u001b[39m\u001b[39m.py\u001b[39m\u001b[39m'\u001b[39m, \u001b[39m'\u001b[39m\u001b[39m.json\u001b[39m\u001b[39m'\u001b[39m, \u001b[39m'\u001b[39m\u001b[39m.yaml\u001b[39m\u001b[39m'\u001b[39m, \u001b[39m'\u001b[39m\u001b[39m.yml\u001b[39m\u001b[39m'\u001b[39m]:\n",
      "File \u001b[0;32m~/.local/lib/python3.10/site-packages/mmcv/utils/path.py:23\u001b[0m, in \u001b[0;36mcheck_file_exist\u001b[0;34m(filename, msg_tmpl)\u001b[0m\n\u001b[1;32m     21\u001b[0m \u001b[39mdef\u001b[39;00m \u001b[39mcheck_file_exist\u001b[39m(filename, msg_tmpl\u001b[39m=\u001b[39m\u001b[39m'\u001b[39m\u001b[39mfile \u001b[39m\u001b[39m\"\u001b[39m\u001b[39m{}\u001b[39;00m\u001b[39m\"\u001b[39m\u001b[39m does not exist\u001b[39m\u001b[39m'\u001b[39m):\n\u001b[1;32m     22\u001b[0m     \u001b[39mif\u001b[39;00m \u001b[39mnot\u001b[39;00m osp\u001b[39m.\u001b[39misfile(filename):\n\u001b[0;32m---> 23\u001b[0m         \u001b[39mraise\u001b[39;00m \u001b[39mFileNotFoundError\u001b[39;00m(msg_tmpl\u001b[39m.\u001b[39mformat(filename))\n",
      "\u001b[0;31mFileNotFoundError\u001b[0m: file \"/media/_base_/default_runtime.py\" does not exist"
     ]
    }
   ],
   "source": [
    "from mmpose.apis import init_pose_model, inference_bottom_up_pose_model, vis_pose_result\n",
    "\n",
    "data_path = \"/media/joris/uca-msc-dsai/research_project/data/\"\n",
    "config_file = data_path + \"data/videopose3d_h36m_27frames_fullconv_supervised.py\"\n",
    "checkpoint_file = data_path + \"videopose_h36m_27frames_fullconv_supervised-fe8fbba9_20210527.pth\"\n",
    "pose_model = init_pose_model(\n",
    "  config_file, checkpoint_file, device=\"cuda:0\"\n",
    ")  # or device='cuda:0'\n",
    "\n",
    "image_name = data_path + \"group_photo.JPG\"\n",
    "# test a single image\n",
    "pose_results, _ = inference_bottom_up_pose_model(pose_model, image_name)\n",
    "\n",
    "# show the results\n",
    "vis_pose_result(pose_model, image_name, pose_results, out_file=\"demo/vis_persons.jpg\")\n"
   ]
  }
 ],
 "metadata": {
  "kernelspec": {
   "display_name": "Python 3",
   "language": "python",
   "name": "python3"
  },
  "language_info": {
   "codemirror_mode": {
    "name": "ipython",
    "version": 3
   },
   "file_extension": ".py",
   "mimetype": "text/x-python",
   "name": "python",
   "nbconvert_exporter": "python",
   "pygments_lexer": "ipython3",
   "version": "3.10.6"
  },
  "orig_nbformat": 4,
  "vscode": {
   "interpreter": {
    "hash": "8a94588eda9d64d9e9a351ab8144e55b1fabf5113b54e67dd26a8c27df0381b3"
   }
  }
 },
 "nbformat": 4,
 "nbformat_minor": 2
}

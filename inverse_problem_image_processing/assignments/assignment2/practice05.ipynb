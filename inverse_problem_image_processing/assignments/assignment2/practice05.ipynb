{
 "cells": [
  {
   "attachments": {},
   "cell_type": "markdown",
   "metadata": {},
   "source": [
    "__ACHTUNG__ This tutorial is graded. Please upload your work on Moodle before the 15th of February. "
   ]
  },
  {
   "cell_type": "code",
   "execution_count": 1,
   "metadata": {},
   "outputs": [],
   "source": [
    "import numpy as np\n",
    "import matplotlib.pyplot as plt"
   ]
  },
  {
   "cell_type": "markdown",
   "metadata": {},
   "source": [
    "# Exercise 1: soft-thresholding"
   ]
  },
  {
   "cell_type": "markdown",
   "metadata": {},
   "source": [
    "Define a function to compute the soft-thresholding operator, that is the proximal operator of the $\\ell_1$-norm. "
   ]
  },
  {
   "cell_type": "code",
   "execution_count": 17,
   "metadata": {},
   "outputs": [],
   "source": [
    "def soft_thresholding(x, tau):\n",
    "  \"\"\"Input: x is either a scalar, a vector or an image\n",
    "         tau is a strictly positive scalar\n",
    "  The function computes the soft thresholding of x with parameter tau.\n",
    "  Output: a scalar, a vector or an image (with the same dimensions as the input x)\"\"\"\n",
    "  raise NotImplemented\n"
   ]
  },
  {
   "attachments": {},
   "cell_type": "markdown",
   "metadata": {},
   "source": [
    "Plot the soft-thresholding function in $[-2,2]$ for $\\tau=0.5$ using the function defined above."
   ]
  },
  {
   "cell_type": "code",
   "execution_count": null,
   "metadata": {},
   "outputs": [],
   "source": []
  },
  {
   "cell_type": "markdown",
   "metadata": {},
   "source": [
    "# Exercise 2: hard-thresholding"
   ]
  },
  {
   "cell_type": "markdown",
   "metadata": {},
   "source": [
    "Define a function to compute the hard-thresholding operator, that is the proximal operator of the $\\ell_0$-norm. "
   ]
  },
  {
   "cell_type": "code",
   "execution_count": 23,
   "metadata": {},
   "outputs": [],
   "source": [
    "def hard_thresholding(x, tau):\n",
    "  \"\"\"Input: x is either a scalar, a vector or an image\n",
    "         tau is a strictly positive scalar\n",
    "  The function computes the soft thresholding of x with parameter tau.\n",
    "  Output: a scalar, a vector or an image (with the same dimensions as the input x)\"\"\"\n",
    "  raise NotImplemented\n"
   ]
  },
  {
   "attachments": {},
   "cell_type": "markdown",
   "metadata": {},
   "source": [
    "Plot the hard-thresholding function in $[-2,2]$ for $\\tau=0.5$ using the function defined above."
   ]
  },
  {
   "cell_type": "code",
   "execution_count": null,
   "metadata": {},
   "outputs": [],
   "source": []
  },
  {
   "cell_type": "markdown",
   "metadata": {},
   "source": [
    "# Exercise 3: non-negativity constraints"
   ]
  },
  {
   "attachments": {},
   "cell_type": "markdown",
   "metadata": {},
   "source": [
    "Plot the proximal operator of $\\tau \\|\\cdot\\|_1+{\\chi}_{\\ge 0}(\\cdot)$ in $[-2,2]$ for $\\tau=0.5$ using the function defined above."
   ]
  },
  {
   "cell_type": "code",
   "execution_count": null,
   "metadata": {},
   "outputs": [],
   "source": []
  },
  {
   "cell_type": "markdown",
   "metadata": {},
   "source": [
    "# Exercise 4: elastic net"
   ]
  },
  {
   "cell_type": "markdown",
   "metadata": {},
   "source": [
    "Compute the proximal operator of the elastic net functional \n",
    "$f(x) =\\tau \\|x\\|_1 + \\lambda/2 \\|x\\|_2^2$."
   ]
  },
  {
   "cell_type": "code",
   "execution_count": 27,
   "metadata": {},
   "outputs": [],
   "source": [
    "def prox_elastic_net(x, tau, lambd):\n",
    "    raise NotImplemented "
   ]
  },
  {
   "attachments": {},
   "cell_type": "markdown",
   "metadata": {},
   "source": [
    "Plot the proximal operator of the elastic net in $[-2,2]$ for $\\tau=0.5$ using the function defined above."
   ]
  },
  {
   "cell_type": "code",
   "execution_count": null,
   "metadata": {},
   "outputs": [],
   "source": []
  }
 ],
 "metadata": {
  "kernelspec": {
   "display_name": "base",
   "language": "python",
   "name": "python3"
  },
  "language_info": {
   "codemirror_mode": {
    "name": "ipython",
    "version": 3
   },
   "file_extension": ".py",
   "mimetype": "text/x-python",
   "name": "python",
   "nbconvert_exporter": "python",
   "pygments_lexer": "ipython3",
   "version": "3.10.8"
  },
  "vscode": {
   "interpreter": {
    "hash": "f0df963a0b00f23561625d2ba0a0b8b2d4dd4941b6b854c35050f99f4efed218"
   }
  }
 },
 "nbformat": 4,
 "nbformat_minor": 4
}

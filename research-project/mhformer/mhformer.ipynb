{
 "cells": [
  {
   "cell_type": "code",
   "execution_count": 43,
   "metadata": {},
   "outputs": [],
   "source": [
    "import numpy as np\n",
    "\n",
    "data = np.load(\"../data/data_2d_h36m_cpn_ft_h36m_dbb.npz\", allow_pickle=True)\n",
    "[*data.keys()]\n",
    "pos = data[\"positions_2d\"]"
   ]
  },
  {
   "cell_type": "code",
   "execution_count": 50,
   "metadata": {},
   "outputs": [
    {
     "data": {
      "text/plain": [
       "array([[[475.6389 , 445.54688],\n",
       "        [500.91666, 448.07812],\n",
       "        [480.69446, 531.6094 ],\n",
       "        ...,\n",
       "        [511.02777, 354.42188],\n",
       "        [519.875  , 408.84375],\n",
       "        [516.0833 , 458.20312]],\n",
       "\n",
       "       [[475.6389 , 446.08072],\n",
       "        [500.91666, 448.60678],\n",
       "        [480.69446, 531.9661 ],\n",
       "        ...,\n",
       "        [509.7639 , 353.88022],\n",
       "        [519.875  , 409.45312],\n",
       "        [516.0833 , 458.71094]],\n",
       "\n",
       "       [[476.10416, 447.60678],\n",
       "        [501.3125 , 447.60678],\n",
       "        [481.14584, 530.9661 ],\n",
       "        ...,\n",
       "        [510.1354 , 352.88022],\n",
       "        [521.4792 , 409.71616],\n",
       "        [516.4375 , 457.71094]],\n",
       "\n",
       "       ...,\n",
       "\n",
       "       [[508.46875, 438.0625 ],\n",
       "        [532.8125 , 434.21875],\n",
       "        [532.8125 , 526.46875],\n",
       "        ...,\n",
       "        [541.78125, 345.8125 ],\n",
       "        [554.59375, 402.1875 ],\n",
       "        [548.1875 , 452.15625]],\n",
       "\n",
       "       [[509.80902, 437.6979 ],\n",
       "        [532.0625 , 433.77603],\n",
       "        [532.0625 , 527.90106],\n",
       "        ...,\n",
       "        [542.5347 , 347.49478],\n",
       "        [553.00696, 402.40103],\n",
       "        [546.4618 , 453.3854 ]],\n",
       "\n",
       "       [[508.46875, 434.39062],\n",
       "        [531.53125, 434.39062],\n",
       "        [531.53125, 526.8281 ],\n",
       "        ...,\n",
       "        [541.78125, 347.08853],\n",
       "        [553.3125 , 402.29428],\n",
       "        [544.34375, 454.93228]]], dtype=float32)"
      ]
     },
     "execution_count": 50,
     "metadata": {},
     "output_type": "execute_result"
    }
   ],
   "source": [
    "pos.tolist()[\"S1\"][\"Directions 1\"][0]"
   ]
  }
 ],
 "metadata": {
  "kernelspec": {
   "display_name": "Python 3",
   "language": "python",
   "name": "python3"
  },
  "language_info": {
   "codemirror_mode": {
    "name": "ipython",
    "version": 3
   },
   "file_extension": ".py",
   "mimetype": "text/x-python",
   "name": "python",
   "nbconvert_exporter": "python",
   "pygments_lexer": "ipython3",
   "version": "3.10.6"
  },
  "orig_nbformat": 4,
  "vscode": {
   "interpreter": {
    "hash": "8a94588eda9d64d9e9a351ab8144e55b1fabf5113b54e67dd26a8c27df0381b3"
   }
  }
 },
 "nbformat": 4,
 "nbformat_minor": 2
}

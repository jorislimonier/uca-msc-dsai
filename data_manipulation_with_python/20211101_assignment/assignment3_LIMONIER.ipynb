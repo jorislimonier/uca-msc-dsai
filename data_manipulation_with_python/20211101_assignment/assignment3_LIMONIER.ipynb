{
 "cells": [
  {
   "cell_type": "markdown",
   "metadata": {},
   "source": [
    "# Notebook n.3 \n",
    "### NYC complaints 311 Calls\n",
    "\n",
    "In this notebook you are asked to perform data analysis on a dataset of calls to 311 (municipal calls, not emergency) in the New York City area.\n",
    "\n",
    "Get the data:\n",
    "   * A compressed smaller version (~100 MB compressed) can be found [here](https://bit.ly/3b7yATT)\n",
    "   * If you want (and have enough memory on your laptop), you can download the original data from [here](https://data.cityofnewyork.us/Social-Services/311-Service-Requests-from-2010-to-Present/erm2-nwe9) (11Gb+... Go to Export -> CSV).\n",
    "\n",
    "## Instructions:\n",
    "   * The small dataset is enough to finish this notebook.\n",
    "   * For each question, add as many code cells as you need, as well as Markdown cells to explain your thought process and answer in text to the questions (where needed)."
   ]
  },
  {
   "cell_type": "code",
   "execution_count": 1,
   "metadata": {},
   "outputs": [],
   "source": [
    "# Run this cell to import commonly used modules\n",
    "%matplotlib inline \n",
    "import pandas as pd\n",
    "import matplotlib.pyplot as plt\n",
    "\n",
    "plt.rcParams['figure.figsize'] = (15, 5)  # large and nice"
   ]
  },
  {
   "cell_type": "markdown",
   "metadata": {},
   "source": [
    "### <a id=\"point1\">1.</a> Load the `csv` file into a `pandas.dataframe` called `complaints`"
   ]
  },
  {
   "cell_type": "code",
   "execution_count": 2,
   "metadata": {},
   "outputs": [
    {
     "name": "stderr",
     "output_type": "stream",
     "text": [
      "/home/joris/.local/lib/python3.9/site-packages/IPython/core/interactiveshell.py:3172: DtypeWarning: Columns (8,31,32,34,35,36,37) have mixed types.Specify dtype option on import or set low_memory=False.\n",
      "  has_raised = await self.run_ast_nodes(code_ast.body, cell_name,\n"
     ]
    }
   ],
   "source": [
    "complaints = pd.read_csv(\"311_small.csv\")"
   ]
  },
  {
   "cell_type": "markdown",
   "metadata": {},
   "source": [
    "### 2. Basic overview\n",
    "\n",
    "   * How many rows?\n",
    "   * How many columns?\n",
    "   * Type of each column\n",
    "   * Number of unique values per column\n",
    "   * Show the first 5 rows\n",
    "   * [Earlier](#point1) you probably received a warning. If so, why? Investigate (type mismatch, nans, ...)"
   ]
  },
  {
   "cell_type": "code",
   "execution_count": 3,
   "metadata": {},
   "outputs": [
    {
     "name": "stdout",
     "output_type": "stream",
     "text": [
      "--> Number of rows: 999999\n"
     ]
    }
   ],
   "source": [
    "print(f\"--> Number of rows: {complaints.shape[0]}\")"
   ]
  },
  {
   "cell_type": "code",
   "execution_count": 4,
   "metadata": {},
   "outputs": [
    {
     "name": "stdout",
     "output_type": "stream",
     "text": [
      "--> Number of columns: 41\n"
     ]
    }
   ],
   "source": [
    "print(f\"--> Number of columns: {complaints.shape[1]}\")\n"
   ]
  },
  {
   "cell_type": "code",
   "execution_count": 5,
   "metadata": {},
   "outputs": [
    {
     "name": "stdout",
     "output_type": "stream",
     "text": [
      "--> Type of each column:\n",
      "Unique Key                          int64\n",
      "Created Date                       object\n",
      "Closed Date                        object\n",
      "Agency                             object\n",
      "Agency Name                        object\n",
      "Complaint Type                     object\n",
      "Descriptor                         object\n",
      "Location Type                      object\n",
      "Incident Zip                       object\n",
      "Incident Address                   object\n",
      "Street Name                        object\n",
      "Cross Street 1                     object\n",
      "Cross Street 2                     object\n",
      "Intersection Street 1              object\n",
      "Intersection Street 2              object\n",
      "Address Type                       object\n",
      "City                               object\n",
      "Landmark                           object\n",
      "Facility Type                      object\n",
      "Status                             object\n",
      "Due Date                           object\n",
      "Resolution Description             object\n",
      "Resolution Action Updated Date     object\n",
      "Community Board                    object\n",
      "BBL                               float64\n",
      "Borough                            object\n",
      "X Coordinate (State Plane)        float64\n",
      "Y Coordinate (State Plane)        float64\n",
      "Open Data Channel Type             object\n",
      "Park Facility Name                 object\n",
      "Park Borough                       object\n",
      "Vehicle Type                       object\n",
      "Taxi Company Borough               object\n",
      "Taxi Pick Up Location              object\n",
      "Bridge Highway Name                object\n",
      "Bridge Highway Direction           object\n",
      "Road Ramp                          object\n",
      "Bridge Highway Segment             object\n",
      "Latitude                          float64\n",
      "Longitude                         float64\n",
      "Location                           object\n",
      "dtype: object\n"
     ]
    }
   ],
   "source": [
    "print(f\"--> Type of each column:\\n{complaints.dtypes}\")\n"
   ]
  },
  {
   "cell_type": "code",
   "execution_count": 6,
   "metadata": {},
   "outputs": [
    {
     "name": "stdout",
     "output_type": "stream",
     "text": [
      "--> Number of unique values per column:\n",
      "Unique Key                        999999\n",
      "Created Date                      776536\n",
      "Closed Date                       400907\n",
      "Agency                                29\n",
      "Agency Name                          503\n",
      "Complaint Type                       253\n",
      "Descriptor                          1194\n",
      "Location Type                        147\n",
      "Incident Zip                         748\n",
      "Incident Address                  301977\n",
      "Street Name                        13127\n",
      "Cross Street 1                     14936\n",
      "Cross Street 2                     15088\n",
      "Intersection Street 1               9567\n",
      "Intersection Street 2              10199\n",
      "Address Type                           6\n",
      "City                                 324\n",
      "Landmark                            2597\n",
      "Facility Type                          4\n",
      "Status                                 9\n",
      "Due Date                          376211\n",
      "Resolution Description               903\n",
      "Resolution Action Updated Date    399139\n",
      "Community Board                       77\n",
      "BBL                               221719\n",
      "Borough                                6\n",
      "X Coordinate (State Plane)         97998\n",
      "Y Coordinate (State Plane)        109042\n",
      "Open Data Channel Type                 5\n",
      "Park Facility Name                  1621\n",
      "Park Borough                           6\n",
      "Vehicle Type                           2\n",
      "Taxi Company Borough                   5\n",
      "Taxi Pick Up Location                125\n",
      "Bridge Highway Name                   67\n",
      "Bridge Highway Direction              49\n",
      "Road Ramp                              3\n",
      "Bridge Highway Segment              1265\n",
      "Latitude                          302196\n",
      "Longitude                         302195\n",
      "Location                          302198\n",
      "dtype: int64\n"
     ]
    }
   ],
   "source": [
    "print(f\"--> Number of unique values per column:\\n{complaints.nunique()}\")"
   ]
  },
  {
   "cell_type": "code",
   "execution_count": 7,
   "metadata": {},
   "outputs": [
    {
     "data": {
      "text/html": [
       "<div>\n",
       "<style scoped>\n",
       "    .dataframe tbody tr th:only-of-type {\n",
       "        vertical-align: middle;\n",
       "    }\n",
       "\n",
       "    .dataframe tbody tr th {\n",
       "        vertical-align: top;\n",
       "    }\n",
       "\n",
       "    .dataframe thead th {\n",
       "        text-align: right;\n",
       "    }\n",
       "</style>\n",
       "<table border=\"1\" class=\"dataframe\">\n",
       "  <thead>\n",
       "    <tr style=\"text-align: right;\">\n",
       "      <th></th>\n",
       "      <th>Unique Key</th>\n",
       "      <th>Created Date</th>\n",
       "      <th>Closed Date</th>\n",
       "      <th>Agency</th>\n",
       "      <th>Agency Name</th>\n",
       "      <th>Complaint Type</th>\n",
       "      <th>Descriptor</th>\n",
       "      <th>Location Type</th>\n",
       "      <th>Incident Zip</th>\n",
       "      <th>Incident Address</th>\n",
       "      <th>...</th>\n",
       "      <th>Vehicle Type</th>\n",
       "      <th>Taxi Company Borough</th>\n",
       "      <th>Taxi Pick Up Location</th>\n",
       "      <th>Bridge Highway Name</th>\n",
       "      <th>Bridge Highway Direction</th>\n",
       "      <th>Road Ramp</th>\n",
       "      <th>Bridge Highway Segment</th>\n",
       "      <th>Latitude</th>\n",
       "      <th>Longitude</th>\n",
       "      <th>Location</th>\n",
       "    </tr>\n",
       "  </thead>\n",
       "  <tbody>\n",
       "    <tr>\n",
       "      <th>0</th>\n",
       "      <td>38039130</td>\n",
       "      <td>12/28/2017 02:07:27 AM</td>\n",
       "      <td>01/25/2018 04:14:40 PM</td>\n",
       "      <td>HPD</td>\n",
       "      <td>Department of Housing Preservation and Develop...</td>\n",
       "      <td>HEAT/HOT WATER</td>\n",
       "      <td>APARTMENT ONLY</td>\n",
       "      <td>RESIDENTIAL BUILDING</td>\n",
       "      <td>11226</td>\n",
       "      <td>2709 CLARENDON ROAD</td>\n",
       "      <td>...</td>\n",
       "      <td>NaN</td>\n",
       "      <td>NaN</td>\n",
       "      <td>NaN</td>\n",
       "      <td>NaN</td>\n",
       "      <td>NaN</td>\n",
       "      <td>NaN</td>\n",
       "      <td>NaN</td>\n",
       "      <td>40.643087</td>\n",
       "      <td>-73.951445</td>\n",
       "      <td>(40.64308690933735, -73.95144450750576)</td>\n",
       "    </tr>\n",
       "    <tr>\n",
       "      <th>1</th>\n",
       "      <td>30967332</td>\n",
       "      <td>06/29/2015 12:36:20 PM</td>\n",
       "      <td>07/15/2015 05:09:55 PM</td>\n",
       "      <td>HPD</td>\n",
       "      <td>Department of Housing Preservation and Develop...</td>\n",
       "      <td>HPD Literature Request</td>\n",
       "      <td>The ABCs of Housing</td>\n",
       "      <td>NaN</td>\n",
       "      <td>NaN</td>\n",
       "      <td>NaN</td>\n",
       "      <td>...</td>\n",
       "      <td>NaN</td>\n",
       "      <td>NaN</td>\n",
       "      <td>NaN</td>\n",
       "      <td>NaN</td>\n",
       "      <td>NaN</td>\n",
       "      <td>NaN</td>\n",
       "      <td>NaN</td>\n",
       "      <td>NaN</td>\n",
       "      <td>NaN</td>\n",
       "      <td>NaN</td>\n",
       "    </tr>\n",
       "    <tr>\n",
       "      <th>2</th>\n",
       "      <td>38039132</td>\n",
       "      <td>12/28/2017 11:52:50 AM</td>\n",
       "      <td>NaN</td>\n",
       "      <td>DOHMH</td>\n",
       "      <td>Department of Health and Mental Hygiene</td>\n",
       "      <td>Smoking</td>\n",
       "      <td>Smoking Violation</td>\n",
       "      <td>Residential Building</td>\n",
       "      <td>11211</td>\n",
       "      <td>201 SOUTH 4 STREET</td>\n",
       "      <td>...</td>\n",
       "      <td>NaN</td>\n",
       "      <td>NaN</td>\n",
       "      <td>NaN</td>\n",
       "      <td>NaN</td>\n",
       "      <td>NaN</td>\n",
       "      <td>NaN</td>\n",
       "      <td>NaN</td>\n",
       "      <td>40.710881</td>\n",
       "      <td>-73.960160</td>\n",
       "      <td>(40.71088069563202, -73.96016023399284)</td>\n",
       "    </tr>\n",
       "    <tr>\n",
       "      <th>3</th>\n",
       "      <td>38039134</td>\n",
       "      <td>12/28/2017 10:55:57 AM</td>\n",
       "      <td>01/03/2018 09:32:26 AM</td>\n",
       "      <td>DOT</td>\n",
       "      <td>Department of Transportation</td>\n",
       "      <td>Sidewalk Condition</td>\n",
       "      <td>Sidewalk Violation</td>\n",
       "      <td>Sidewalk</td>\n",
       "      <td>10032</td>\n",
       "      <td>533 WEST 158 STREET</td>\n",
       "      <td>...</td>\n",
       "      <td>NaN</td>\n",
       "      <td>NaN</td>\n",
       "      <td>NaN</td>\n",
       "      <td>NaN</td>\n",
       "      <td>NaN</td>\n",
       "      <td>NaN</td>\n",
       "      <td>NaN</td>\n",
       "      <td>40.833931</td>\n",
       "      <td>-73.942611</td>\n",
       "      <td>(40.83393089963924, -73.94261063910199)</td>\n",
       "    </tr>\n",
       "    <tr>\n",
       "      <th>4</th>\n",
       "      <td>38039147</td>\n",
       "      <td>12/28/2017 05:45:06 PM</td>\n",
       "      <td>01/02/2018 02:00:17 PM</td>\n",
       "      <td>DPR</td>\n",
       "      <td>Department of Parks and Recreation</td>\n",
       "      <td>Damaged Tree</td>\n",
       "      <td>Branch or Limb Has Fallen Down</td>\n",
       "      <td>Street</td>\n",
       "      <td>10303</td>\n",
       "      <td>6 MACORMAC PLACE</td>\n",
       "      <td>...</td>\n",
       "      <td>NaN</td>\n",
       "      <td>NaN</td>\n",
       "      <td>NaN</td>\n",
       "      <td>NaN</td>\n",
       "      <td>NaN</td>\n",
       "      <td>NaN</td>\n",
       "      <td>NaN</td>\n",
       "      <td>40.636605</td>\n",
       "      <td>-74.168744</td>\n",
       "      <td>(40.63660544008755, -74.16874421913744)</td>\n",
       "    </tr>\n",
       "  </tbody>\n",
       "</table>\n",
       "<p>5 rows × 41 columns</p>\n",
       "</div>"
      ],
      "text/plain": [
       "   Unique Key            Created Date             Closed Date Agency  \\\n",
       "0    38039130  12/28/2017 02:07:27 AM  01/25/2018 04:14:40 PM    HPD   \n",
       "1    30967332  06/29/2015 12:36:20 PM  07/15/2015 05:09:55 PM    HPD   \n",
       "2    38039132  12/28/2017 11:52:50 AM                     NaN  DOHMH   \n",
       "3    38039134  12/28/2017 10:55:57 AM  01/03/2018 09:32:26 AM    DOT   \n",
       "4    38039147  12/28/2017 05:45:06 PM  01/02/2018 02:00:17 PM    DPR   \n",
       "\n",
       "                                         Agency Name          Complaint Type  \\\n",
       "0  Department of Housing Preservation and Develop...          HEAT/HOT WATER   \n",
       "1  Department of Housing Preservation and Develop...  HPD Literature Request   \n",
       "2            Department of Health and Mental Hygiene                 Smoking   \n",
       "3                       Department of Transportation      Sidewalk Condition   \n",
       "4                 Department of Parks and Recreation            Damaged Tree   \n",
       "\n",
       "                       Descriptor         Location Type Incident Zip  \\\n",
       "0                  APARTMENT ONLY  RESIDENTIAL BUILDING        11226   \n",
       "1             The ABCs of Housing                   NaN          NaN   \n",
       "2               Smoking Violation  Residential Building        11211   \n",
       "3              Sidewalk Violation              Sidewalk        10032   \n",
       "4  Branch or Limb Has Fallen Down                Street        10303   \n",
       "\n",
       "      Incident Address  ... Vehicle Type Taxi Company Borough  \\\n",
       "0  2709 CLARENDON ROAD  ...          NaN                  NaN   \n",
       "1                  NaN  ...          NaN                  NaN   \n",
       "2   201 SOUTH 4 STREET  ...          NaN                  NaN   \n",
       "3  533 WEST 158 STREET  ...          NaN                  NaN   \n",
       "4     6 MACORMAC PLACE  ...          NaN                  NaN   \n",
       "\n",
       "  Taxi Pick Up Location Bridge Highway Name Bridge Highway Direction  \\\n",
       "0                   NaN                 NaN                      NaN   \n",
       "1                   NaN                 NaN                      NaN   \n",
       "2                   NaN                 NaN                      NaN   \n",
       "3                   NaN                 NaN                      NaN   \n",
       "4                   NaN                 NaN                      NaN   \n",
       "\n",
       "  Road Ramp Bridge Highway Segment   Latitude  Longitude  \\\n",
       "0       NaN                    NaN  40.643087 -73.951445   \n",
       "1       NaN                    NaN        NaN        NaN   \n",
       "2       NaN                    NaN  40.710881 -73.960160   \n",
       "3       NaN                    NaN  40.833931 -73.942611   \n",
       "4       NaN                    NaN  40.636605 -74.168744   \n",
       "\n",
       "                                  Location  \n",
       "0  (40.64308690933735, -73.95144450750576)  \n",
       "1                                      NaN  \n",
       "2  (40.71088069563202, -73.96016023399284)  \n",
       "3  (40.83393089963924, -73.94261063910199)  \n",
       "4  (40.63660544008755, -74.16874421913744)  \n",
       "\n",
       "[5 rows x 41 columns]"
      ]
     },
     "execution_count": 7,
     "metadata": {},
     "output_type": "execute_result"
    }
   ],
   "source": [
    "complaints.head()"
   ]
  },
  {
   "cell_type": "markdown",
   "metadata": {},
   "source": [
    "**Warning ?**\\\n",
    "Yes, I had the following warning:\n",
    "```\n",
    "/home/joris/.local/lib/python3.9/site-packages/IPython/core/interactiveshell.py:3172: DtypeWarning: Columns (8,31,32,34,35,36,37) have mixed types.Specify dtype option on import or set low_memory=False.\n",
    "  has_raised = await self.run_ast_nodes(code_ast.body, cell_name,\n",
    "  ```\n",
    "\n",
    "It seems to be because some columns have multiple dtypes. Let's investigate further.\n"
   ]
  },
  {
   "cell_type": "code",
   "execution_count": 8,
   "metadata": {},
   "outputs": [],
   "source": [
    "complaints = pd.read_csv(\"311_small.csv\", low_memory=False)"
   ]
  },
  {
   "cell_type": "code",
   "execution_count": 9,
   "metadata": {},
   "outputs": [
    {
     "data": {
      "text/plain": [
       "Incident Zip                0.088509\n",
       "Vehicle Type                0.999921\n",
       "Taxi Company Borough        0.999183\n",
       "Bridge Highway Name         0.997758\n",
       "Bridge Highway Direction    0.997773\n",
       "Road Ramp                   0.997796\n",
       "Bridge Highway Segment      0.997207\n",
       "dtype: float64"
      ]
     },
     "execution_count": 9,
     "metadata": {},
     "output_type": "execute_result"
    }
   ],
   "source": [
    "# Compute the proportion of rows that are NA for these columns\n",
    "complaints.iloc[:, [8,31,32,34,35,36,37]].isna().sum() / complaints.shape[0] # almost everything is NA, except for columns `Incident Zip`"
   ]
  },
  {
   "cell_type": "code",
   "execution_count": 10,
   "metadata": {},
   "outputs": [
    {
     "name": "stdout",
     "output_type": "stream",
     "text": [
      "--> Types in the Incident Zip column: {<class 'str'>, <class 'float'>}\n",
      "--> Number of unique values in Incident Zip: 481\n",
      "--> Number of unique values of type string: 480\n",
      "--> Number of unique values of type float: 1\n",
      "--> Only float value: {nan}\n"
     ]
    }
   ],
   "source": [
    "inc_zip = complaints.iloc[:,8].copy()\n",
    "print(f\"--> Types in the Incident Zip column: {set(type(e) for e in inc_zip.unique())}\")\n",
    "print(f\"--> Number of unique values in Incident Zip: {inc_zip.nunique(dropna=False)}\")\n",
    "print(f\"--> Number of unique values of type string: {len(set(e for e in inc_zip.unique() if type(e) == str))}\")\n",
    "print(f\"--> Number of unique values of type float: {len(set(e for e in inc_zip.unique() if type(e) == float))}\")\n",
    "\n",
    "# What is the only float value ?\n",
    "print(f\"--> Only float value: {set(e for e in inc_zip.unique() if type(e) == float)}\")"
   ]
  },
  {
   "cell_type": "markdown",
   "metadata": {},
   "source": [
    "We saw that the type issue arose because the NA's in the Incident Zip column are of type `float`, whereas the other values are of type `str`."
   ]
  },
  {
   "cell_type": "markdown",
   "metadata": {},
   "source": [
    "### 3. Show the top 10 rows for attributes `Complaint Type` and `Borough`"
   ]
  },
  {
   "cell_type": "code",
   "execution_count": 11,
   "metadata": {},
   "outputs": [
    {
     "name": "stdout",
     "output_type": "stream",
     "text": [
      "--> Top 10 most common attributes in column Complaint Type: Index(['HEAT/HOT WATER', 'Noise - Residential',\n",
      "       'General Construction/Plumbing', 'Illegal Parking',\n",
      "       'Request Large Bulky Item Collection', 'Blocked Driveway',\n",
      "       'Street Condition', 'Water System', 'Street Light Condition',\n",
      "       'UNSANITARY CONDITION'],\n",
      "      dtype='object')\n",
      "--> Top 10 most common attributes in column Borough: Index(['BROOKLYN', 'QUEENS', 'BRONX', 'MANHATTAN', 'STATEN ISLAND',\n",
      "       'Unspecified'],\n",
      "      dtype='object')\n"
     ]
    }
   ],
   "source": [
    "for col in [\"Complaint Type\", \"Borough\"]:\n",
    "    print(f\"--> Top 10 most common attributes in column {col}: {complaints[col].value_counts(ascending=False).iloc[:10].index}\")\n",
    "# Note that there are less that 10 values for the column `Borough`"
   ]
  },
  {
   "cell_type": "markdown",
   "metadata": {},
   "source": [
    "### 4. How many distinct `Complaint Type` are there?\n",
    "   * Count them and show them"
   ]
  },
  {
   "cell_type": "code",
   "execution_count": 12,
   "metadata": {},
   "outputs": [
    {
     "name": "stdout",
     "output_type": "stream",
     "text": [
      "--> All complaint types, with their respective counts:\n",
      "HEAT/HOT WATER                         124358\n",
      "Noise - Residential                     83272\n",
      "General Construction/Plumbing           57295\n",
      "Illegal Parking                         56634\n",
      "Request Large Bulky Item Collection     54515\n",
      "                                        ...  \n",
      "Advocate - Lien                             1\n",
      "Peeling Paint                               1\n",
      "Select Message Type...                      1\n",
      "Home Repair                                 1\n",
      "Injured Wildlife                            1\n",
      "Name: Complaint Type, Length: 253, dtype: int64\n",
      "--> So in total, there are 253 distinct complaints (and 0 NA).\n"
     ]
    }
   ],
   "source": [
    "compl_counts = complaints[\"Complaint Type\"].value_counts()\n",
    "print(f\"--> All complaint types, with their respective counts:\\n{compl_counts}\")\n",
    "print(f\"--> So in total, there are {len(compl_counts)} distinct complaints (and {compl_counts.isna().sum()} NA).\")"
   ]
  },
  {
   "cell_type": "markdown",
   "metadata": {},
   "source": [
    "### <a id=\"point5\">5.</a> Clean `all` lines where `Complaint Type` contains the keyword `\"Misc.\"` \n",
    "   * How many lines are dropped?"
   ]
  },
  {
   "cell_type": "code",
   "execution_count": 13,
   "metadata": {},
   "outputs": [
    {
     "name": "stdout",
     "output_type": "stream",
     "text": [
      "19 lines will be dropped\n"
     ]
    }
   ],
   "source": [
    "mask = complaints[\"Complaint Type\"].str.contains(\"Misc.\")\n",
    "print(f\"{mask.sum()} lines will be dropped\")"
   ]
  },
  {
   "cell_type": "code",
   "execution_count": 14,
   "metadata": {},
   "outputs": [],
   "source": [
    "complaints = complaints[~mask]"
   ]
  },
  {
   "cell_type": "markdown",
   "metadata": {},
   "source": [
    "#### From now on, use the dataframe resulting from point [5](#point5)\n",
    "\n",
    "### <a id=\"point6\">6.</a> Count the number of `Complaint Type`\n",
    "   * Show the top 10 most popular complaint types.\n",
    "   * Plot the histogram of the 10 most popular complaint types."
   ]
  },
  {
   "cell_type": "code",
   "execution_count": 15,
   "metadata": {},
   "outputs": [
    {
     "data": {
      "text/plain": [
       "<BarContainer object of 10 artists>"
      ]
     },
     "execution_count": 15,
     "metadata": {},
     "output_type": "execute_result"
    },
    {
     "data": {
      "image/png": "[encoded data removed]",
      "text/plain": [
       "<Figure size 1080x360 with 1 Axes>"
      ]
     },
     "metadata": {
      "needs_background": "light"
     },
     "output_type": "display_data"
    }
   ],
   "source": [
    "top_comp_type = complaints.value_counts(\"Complaint Type\").index[:10]\n",
    "mask = complaints[\"Complaint Type\"].isin(top_comp_type)\n",
    "index = complaints[mask].value_counts(\"Complaint Type\").index\n",
    "val = complaints[mask].value_counts(\"Complaint Type\").values\n",
    "plt.barh(index, val) # will plot bar plot since data is categorical"
   ]
  },
  {
   "cell_type": "markdown",
   "metadata": {},
   "source": [
    "### 7. Extract all the rows with the Top 1 Complaint Type into a new dataframe\n",
    "   * Top 1 Complaint Type is the single most popular Complaint Type found in [the previous question](#point6) (from now on `Top1`)\n",
    "   * Show the top 3 rows of the new dataframe\n",
    "   * What is the relation between the Top1 Complaint Type and different boroughs?\n",
    "      * Leave out eventual unspecified data\n",
    "      * Find the data distribution (i.e., count them)\n",
    "      * Plot the histogram of the ratio of Top1 over all complaints, per borough."
   ]
  },
  {
   "cell_type": "code",
   "execution_count": 16,
   "metadata": {},
   "outputs": [
    {
     "name": "stdout",
     "output_type": "stream",
     "text": [
      "Top1 complaint: HEAT/HOT WATER\n"
     ]
    },
    {
     "name": "stderr",
     "output_type": "stream",
     "text": [
      "/tmp/ipykernel_7372/2689825861.py:5: UserWarning: Boolean Series key will be reindexed to match DataFrame index.\n",
      "  df_top1 = df_top1[complaints[\"Borough\"] != \"Unspecified\"] # leave unspecified data\n"
     ]
    },
    {
     "data": {
      "text/html": [
       "<div>\n",
       "<style scoped>\n",
       "    .dataframe tbody tr th:only-of-type {\n",
       "        vertical-align: middle;\n",
       "    }\n",
       "\n",
       "    .dataframe tbody tr th {\n",
       "        vertical-align: top;\n",
       "    }\n",
       "\n",
       "    .dataframe thead th {\n",
       "        text-align: right;\n",
       "    }\n",
       "</style>\n",
       "<table border=\"1\" class=\"dataframe\">\n",
       "  <thead>\n",
       "    <tr style=\"text-align: right;\">\n",
       "      <th></th>\n",
       "      <th>Unique Key</th>\n",
       "      <th>Created Date</th>\n",
       "      <th>Closed Date</th>\n",
       "      <th>Agency</th>\n",
       "      <th>Agency Name</th>\n",
       "      <th>Complaint Type</th>\n",
       "      <th>Descriptor</th>\n",
       "      <th>Location Type</th>\n",
       "      <th>Incident Zip</th>\n",
       "      <th>Incident Address</th>\n",
       "      <th>...</th>\n",
       "      <th>Vehicle Type</th>\n",
       "      <th>Taxi Company Borough</th>\n",
       "      <th>Taxi Pick Up Location</th>\n",
       "      <th>Bridge Highway Name</th>\n",
       "      <th>Bridge Highway Direction</th>\n",
       "      <th>Road Ramp</th>\n",
       "      <th>Bridge Highway Segment</th>\n",
       "      <th>Latitude</th>\n",
       "      <th>Longitude</th>\n",
       "      <th>Location</th>\n",
       "    </tr>\n",
       "  </thead>\n",
       "  <tbody>\n",
       "    <tr>\n",
       "      <th>0</th>\n",
       "      <td>38039130</td>\n",
       "      <td>12/28/2017 02:07:27 AM</td>\n",
       "      <td>01/25/2018 04:14:40 PM</td>\n",
       "      <td>HPD</td>\n",
       "      <td>Department of Housing Preservation and Develop...</td>\n",
       "      <td>HEAT/HOT WATER</td>\n",
       "      <td>APARTMENT ONLY</td>\n",
       "      <td>RESIDENTIAL BUILDING</td>\n",
       "      <td>11226</td>\n",
       "      <td>2709 CLARENDON ROAD</td>\n",
       "      <td>...</td>\n",
       "      <td>NaN</td>\n",
       "      <td>NaN</td>\n",
       "      <td>NaN</td>\n",
       "      <td>NaN</td>\n",
       "      <td>NaN</td>\n",
       "      <td>NaN</td>\n",
       "      <td>NaN</td>\n",
       "      <td>40.643087</td>\n",
       "      <td>-73.951445</td>\n",
       "      <td>(40.64308690933735, -73.95144450750576)</td>\n",
       "    </tr>\n",
       "    <tr>\n",
       "      <th>67</th>\n",
       "      <td>38039226</td>\n",
       "      <td>12/28/2017 06:34:15 AM</td>\n",
       "      <td>12/28/2017 09:26:20 PM</td>\n",
       "      <td>HPD</td>\n",
       "      <td>Department of Housing Preservation and Develop...</td>\n",
       "      <td>HEAT/HOT WATER</td>\n",
       "      <td>APARTMENT ONLY</td>\n",
       "      <td>RESIDENTIAL BUILDING</td>\n",
       "      <td>11233</td>\n",
       "      <td>1924 PROSPECT PLACE</td>\n",
       "      <td>...</td>\n",
       "      <td>NaN</td>\n",
       "      <td>NaN</td>\n",
       "      <td>NaN</td>\n",
       "      <td>NaN</td>\n",
       "      <td>NaN</td>\n",
       "      <td>NaN</td>\n",
       "      <td>NaN</td>\n",
       "      <td>40.672241</td>\n",
       "      <td>-73.912317</td>\n",
       "      <td>(40.672240762922904, -73.9123167627338)</td>\n",
       "    </tr>\n",
       "    <tr>\n",
       "      <th>77</th>\n",
       "      <td>38039238</td>\n",
       "      <td>12/28/2017 12:58:15 AM</td>\n",
       "      <td>12/28/2017 02:08:17 AM</td>\n",
       "      <td>HPD</td>\n",
       "      <td>Department of Housing Preservation and Develop...</td>\n",
       "      <td>HEAT/HOT WATER</td>\n",
       "      <td>APARTMENT ONLY</td>\n",
       "      <td>RESIDENTIAL BUILDING</td>\n",
       "      <td>10472</td>\n",
       "      <td>1030 BOYNTON AVENUE</td>\n",
       "      <td>...</td>\n",
       "      <td>NaN</td>\n",
       "      <td>NaN</td>\n",
       "      <td>NaN</td>\n",
       "      <td>NaN</td>\n",
       "      <td>NaN</td>\n",
       "      <td>NaN</td>\n",
       "      <td>NaN</td>\n",
       "      <td>40.825023</td>\n",
       "      <td>-73.877378</td>\n",
       "      <td>(40.8250227912721, -73.87737784124917)</td>\n",
       "    </tr>\n",
       "  </tbody>\n",
       "</table>\n",
       "<p>3 rows × 41 columns</p>\n",
       "</div>"
      ],
      "text/plain": [
       "    Unique Key            Created Date             Closed Date Agency  \\\n",
       "0     38039130  12/28/2017 02:07:27 AM  01/25/2018 04:14:40 PM    HPD   \n",
       "67    38039226  12/28/2017 06:34:15 AM  12/28/2017 09:26:20 PM    HPD   \n",
       "77    38039238  12/28/2017 12:58:15 AM  12/28/2017 02:08:17 AM    HPD   \n",
       "\n",
       "                                          Agency Name  Complaint Type  \\\n",
       "0   Department of Housing Preservation and Develop...  HEAT/HOT WATER   \n",
       "67  Department of Housing Preservation and Develop...  HEAT/HOT WATER   \n",
       "77  Department of Housing Preservation and Develop...  HEAT/HOT WATER   \n",
       "\n",
       "        Descriptor         Location Type Incident Zip     Incident Address  \\\n",
       "0   APARTMENT ONLY  RESIDENTIAL BUILDING        11226  2709 CLARENDON ROAD   \n",
       "67  APARTMENT ONLY  RESIDENTIAL BUILDING        11233  1924 PROSPECT PLACE   \n",
       "77  APARTMENT ONLY  RESIDENTIAL BUILDING        10472  1030 BOYNTON AVENUE   \n",
       "\n",
       "    ... Vehicle Type Taxi Company Borough Taxi Pick Up Location  \\\n",
       "0   ...          NaN                  NaN                   NaN   \n",
       "67  ...          NaN                  NaN                   NaN   \n",
       "77  ...          NaN                  NaN                   NaN   \n",
       "\n",
       "   Bridge Highway Name Bridge Highway Direction Road Ramp  \\\n",
       "0                  NaN                      NaN       NaN   \n",
       "67                 NaN                      NaN       NaN   \n",
       "77                 NaN                      NaN       NaN   \n",
       "\n",
       "   Bridge Highway Segment   Latitude  Longitude  \\\n",
       "0                     NaN  40.643087 -73.951445   \n",
       "67                    NaN  40.672241 -73.912317   \n",
       "77                    NaN  40.825023 -73.877378   \n",
       "\n",
       "                                   Location  \n",
       "0   (40.64308690933735, -73.95144450750576)  \n",
       "67  (40.672240762922904, -73.9123167627338)  \n",
       "77   (40.8250227912721, -73.87737784124917)  \n",
       "\n",
       "[3 rows x 41 columns]"
      ]
     },
     "execution_count": 16,
     "metadata": {},
     "output_type": "execute_result"
    }
   ],
   "source": [
    "top1_complaint = complaints.value_counts(\"Complaint Type\").index[0]\n",
    "print(f\"Top1 complaint: {top1_complaint}\")\n",
    "\n",
    "df_top1 = complaints[complaints[\"Complaint Type\"] == top1_complaint]\n",
    "df_top1 = df_top1[complaints[\"Borough\"] != \"Unspecified\"] # leave unspecified data\n",
    "df_top1.head(3)"
   ]
  },
  {
   "cell_type": "code",
   "execution_count": 17,
   "metadata": {},
   "outputs": [
    {
     "data": {
      "text/plain": [
       "Borough\n",
       "BRONX            40419\n",
       "BROOKLYN         38810\n",
       "MANHATTAN        27572\n",
       "QUEENS           16362\n",
       "STATEN ISLAND     1194\n",
       "dtype: int64"
      ]
     },
     "execution_count": 17,
     "metadata": {},
     "output_type": "execute_result"
    },
    {
     "data": {
      "image/png": "[encoded data removed]",
      "text/plain": [
       "<Figure size 1080x360 with 1 Axes>"
      ]
     },
     "metadata": {
      "needs_background": "light"
     },
     "output_type": "display_data"
    }
   ],
   "source": [
    "df_top1.hist(\"Borough\", \"Complaint Type\")\n",
    "df_top1.value_counts(\"Borough\")"
   ]
  },
  {
   "cell_type": "code",
   "execution_count": 18,
   "metadata": {},
   "outputs": [
    {
     "data": {
      "text/plain": [
       "<BarContainer object of 5 artists>"
      ]
     },
     "execution_count": 18,
     "metadata": {},
     "output_type": "execute_result"
    },
    {
     "data": {
      "image/png": "[encoded data removed]",
      "text/plain": [
       "<Figure size 1080x360 with 1 Axes>"
      ]
     },
     "metadata": {
      "needs_background": "light"
     },
     "output_type": "display_data"
    }
   ],
   "source": [
    "ratio = df_top1.value_counts(\"Borough\") / complaints.shape[0]\n",
    "plt.bar(ratio.index, ratio.values)"
   ]
  }
 ],
 "metadata": {
  "interpreter": {
   "hash": "36cf16204b8548560b1c020c4e8fb5b57f0e4c58016f52f2d4be01e192833930"
  },
  "kernelspec": {
   "display_name": "Python 3.9.7 64-bit",
   "name": "python3"
  },
  "language_info": {
   "codemirror_mode": {
    "name": "ipython",
    "version": 3
   },
   "file_extension": ".py",
   "mimetype": "text/x-python",
   "name": "python",
   "nbconvert_exporter": "python",
   "pygments_lexer": "ipython3",
   "version": "3.9.7"
  }
 },
 "nbformat": 4,
 "nbformat_minor": 2
}

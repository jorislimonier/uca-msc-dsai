{
 "cells": [
  {
   "cell_type": "markdown",
   "metadata": {},
   "source": [
    "# Cross-validation techniques"
   ]
  },
  {
   "cell_type": "markdown",
   "metadata": {},
   "source": [
    "This lesson focuses on the practical implementation of cross-validation approaches for model performance quantification. Most of the material is based on the scikit-learn page (https://scikit-learn.org/stable/modules/cross_validation.html).\n",
    "\n",
    "Similarly as in bootstrap, cross-validation assesses the quality of a model (e.g. the bias and the variance) by only using the available data.  Instead of resampling our data with replacement, the model is trained on a subset of our data sampled _without replacement_. The testing of the model is then performed on the hold-out subset of the data not used for training.\n",
    "\n",
    "We have seen how this procedure an be easily implemented via the $\\text{np.random.choice}$ function."
   ]
  },
  {
   "cell_type": "code",
   "execution_count": 2,
   "metadata": {
    "jupyter": {
     "outputs_hidden": false
    }
   },
   "outputs": [
    {
     "name": "stdout",
     "output_type": "stream",
     "text": [
      "The size of X is: (150, 4)\n",
      "The size of the target is: (150,)\n"
     ]
    }
   ],
   "source": [
    "import numpy as np\n",
    "import matplotlib.pyplot as plt\n",
    "from sklearn import datasets\n",
    "\n",
    "iris = datasets.load_iris()\n",
    "print(\n",
    "    f\"The size of X is: {iris.data.shape}\",\n",
    "    f\"The size of the target is: {iris.target.shape}\",\n",
    "    sep=\"\\n\",\n",
    ")\n"
   ]
  },
  {
   "cell_type": "code",
   "execution_count": 4,
   "metadata": {
    "jupyter": {
     "outputs_hidden": false
    }
   },
   "outputs": [
    {
     "name": "stdout",
     "output_type": "stream",
     "text": [
      "Training indices:\n",
      "[  2   5   6   7   8   9  11  14  16  18  19  23  24  26  28  29  32  33\n",
      "  34  37  38  40  41  42  43  44  45  46  47  48  49  50  55  56  57  58\n",
      "  60  61  65  67  72  73  74  76  78  79  80  83  84  85  87  89  90  91\n",
      "  94  96  97  98  99 101 102 103 104 105 107 108 111 112 113 114 116 118\n",
      " 122 123 124 125 128 131 132 133 134 141 142 143 144 145 146 147 148 149]\n",
      "Testing indices:\n",
      "[  0   1   3   4  10  12  13  15  17  20  21  22  25  27  30  31  35  36\n",
      "  39  51  52  53  54  59  62  63  64  66  68  69  70  71  75  77  81  82\n",
      "  86  88  92  93  95 100 106 109 110 115 117 119 120 121 126 127 129 130\n",
      " 135 136 137 138 139 140]\n",
      "The training dimension is: (90, 4)\n",
      "The testing dimension is: (60, 4)\n"
     ]
    }
   ],
   "source": [
    "# We choose to perform training on 60% of the data\n",
    "hold_out = 0.4\n",
    "len_training = int((1 - hold_out) * iris.data.shape[0])\n",
    "\n",
    "training_index = np.random.choice(\n",
    "    a=range(iris.data.shape[0]),\n",
    "    size=len_training,\n",
    "    replace=False,\n",
    ")\n",
    "testing_index = np.setdiff1d(\n",
    "    ar1=range(iris.data.shape[0]),\n",
    "    ar2=training_index,\n",
    "    assume_unique=True,\n",
    ")\n",
    "\n",
    "print(\"Training indices:\\n\" + str(np.sort(training_index)))\n",
    "print(\"Testing indices:\\n\" + str(np.sort(testing_index)))\n",
    "\n",
    "X_train = iris.data[training_index, :]\n",
    "y_train = iris.target[training_index]\n",
    "\n",
    "X_test = iris.data[testing_index, :]\n",
    "y_test = iris.target[testing_index]\n",
    "\n",
    "\n",
    "print(\"The training dimension is: \" + str(X_train.shape))\n",
    "print(\"The testing dimension is: \" + str(X_test.shape))\n"
   ]
  },
  {
   "cell_type": "code",
   "execution_count": 5,
   "metadata": {
    "jupyter": {
     "outputs_hidden": false
    }
   },
   "outputs": [
    {
     "name": "stdout",
     "output_type": "stream",
     "text": [
      "The training dimension is: (90, 4)\n",
      "The testing dimension is: (60, 4)\n"
     ]
    }
   ],
   "source": [
    "from sklearn.model_selection import train_test_split\n",
    "\n",
    "## Equivalent sklearn command\n",
    "X_train, X_test, y_train, y_test = train_test_split(iris.data, iris.target, test_size=0.4, random_state=412123)\n",
    "\n",
    "print(\"The training dimension is: \" + str(X_train.shape))\n",
    "print(\"The testing dimension is: \" + str(X_test.shape))"
   ]
  },
  {
   "cell_type": "markdown",
   "metadata": {},
   "source": [
    "$\\textbf{Exercise.}$ Choose a classifier and compute training and testing accuracy for this data."
   ]
  },
  {
   "cell_type": "code",
   "execution_count": 6,
   "metadata": {
    "jupyter": {
     "outputs_hidden": false
    }
   },
   "outputs": [
    {
     "name": "stdout",
     "output_type": "stream",
     "text": [
      "0.9666666666666667\n",
      "0.95\n"
     ]
    }
   ],
   "source": [
    "from sklearn.neighbors import KNeighborsClassifier\n",
    "\n",
    "model = KNeighborsClassifier(n_neighbors=2)\n",
    "\n",
    "# model training: \n",
    "# ESTIMATE the best parameters to predict y_train from X_train \n",
    "model.fit(X_train, y_train) \n",
    "print(model.score(X_train, y_train)) # training accuracy\n",
    "\n",
    "# model testing:\n",
    "# QUANTIFY the ability to predict new labels y_test from new data X_test\n",
    "print(model.score(X_test, y_test))"
   ]
  },
  {
   "cell_type": "markdown",
   "metadata": {},
   "source": [
    "The obtained testing performance is however biased by the specific choice of the training/testing split. If we perform a different split we would probably get different results. Can you verify this?"
   ]
  },
  {
   "cell_type": "code",
   "execution_count": 7,
   "metadata": {
    "jupyter": {
     "outputs_hidden": false
    }
   },
   "outputs": [
    {
     "name": "stdout",
     "output_type": "stream",
     "text": [
      "0.9777777777777777\n",
      "0.9333333333333333\n"
     ]
    }
   ],
   "source": [
    "X_train, X_test, y_train, y_test = train_test_split(iris.data, iris.target, test_size=0.4, random_state=4123)\n",
    "\n",
    "model.fit(X_train, y_train) \n",
    "print(model.score(X_train, y_train)) # training accuracy\n",
    "print(model.score(X_test, y_test))"
   ]
  },
  {
   "cell_type": "markdown",
   "metadata": {},
   "source": [
    "Taking inspiration from the bootstrap technique, we can iterate over different samples of the data to obtain an estimator of the mean performance of our model. This approach is for example at the basis of _k-fold cross validation_. We split the data in _k_ __non overlapping__ smaller sets:\n",
    "\n",
    "- we train the model on $k-1$ subsets\n",
    "- we test it on the hold-out set\n",
    "\n"
   ]
  },
  {
   "cell_type": "markdown",
   "metadata": {},
   "source": [
    "$\\textbf{Exercise.}$ Write a routine to perform k-fold cross validation on the given data."
   ]
  },
  {
   "cell_type": "code",
   "execution_count": 8,
   "metadata": {
    "jupyter": {
     "outputs_hidden": false
    }
   },
   "outputs": [
    {
     "name": "stdout",
     "output_type": "stream",
     "text": [
      "The fold size is: 15.0\n",
      "0 15\n",
      "15 30\n",
      "30 45\n",
      "45 60\n",
      "60 75\n",
      "75 90\n",
      "90 105\n",
      "105 120\n",
      "120 135\n",
      "135 150\n",
      "[0.9777777777777777, 0.9777777777777777, 0.9703703703703703, 0.9851851851851852, 0.9777777777777777, 0.9777777777777777, 0.9851851851851852, 0.9851851851851852, 0.9777777777777777, 0.9777777777777777]\n",
      "[1.0, 0.9333333333333333, 1.0, 0.8666666666666667, 0.9333333333333333, 0.9333333333333333, 0.8, 0.9333333333333333, 1.0, 1.0]\n",
      "Average training accuracy 0.9792592592592593\n",
      "SD training accuracy 0.0044444444444444505\n",
      "Average testing accuracy 0.9400000000000001\n",
      "SD testing accuracy 0.06289320754704401\n"
     ]
    }
   ],
   "source": [
    "from sklearn.utils import shuffle\n",
    "\n",
    "model = KNeighborsClassifier(n_neighbors=2)\n",
    "np.random.seed(2123)\n",
    "\n",
    "data_idx = np.arange(iris.data.shape[0])\n",
    "\n",
    "# Shuffling the data\n",
    "#### Mode 1 \n",
    "# shuffling the data indices\n",
    "np.random.shuffle(data_idx)\n",
    "# getting data and labels at shuffled indices\n",
    "X_shuffled = iris.data[data_idx,:]\n",
    "y_shuffled = iris.target[data_idx]\n",
    "\n",
    "#### Mode 2 \n",
    "# #Stacking data and labels\n",
    "# stacked_data = np.hstack([iris.data,iris.target.reshape(-1,1)])\n",
    "# #Shuffling data and labels\n",
    "# np.random.seed(2123)\n",
    "# np.random.shuffle(stacked_data)\n",
    "# #Separatig shuffled data from shuffled labels\n",
    "# X_shuffled = stacked_data[:,:4]\n",
    "# y_shuffled = stacked_data[:,4]\n",
    "\n",
    "#### Mode 3\n",
    "# From sklearn\n",
    "#X_shuffled, y_shuffled = shuffle(iris.data, iris.target)\n",
    "\n",
    "k = 10\n",
    "\n",
    "fold_size = np.floor(X_shuffled.shape[0]/k)\n",
    "\n",
    "print('The fold size is:', fold_size)\n",
    "\n",
    "training_acc = []\n",
    "testing_acc = []\n",
    "\n",
    "for i in range(k):\n",
    "    # We compute the index where the testing data starts  \n",
    "    begin = int(i*fold_size) \n",
    "    # We compute the index where the testing data stops \n",
    "    end = int((i+1)*fold_size)\n",
    "    print(begin,end)\n",
    "    \n",
    "    # We extract the testing data in the range [begin, start]  \n",
    "    testing_data = X_shuffled[begin:end,:]\n",
    "    # We extract the testing labels in the range [begin, start]\n",
    "    testing_labels = y_shuffled[begin:end]\n",
    "    \n",
    "    # We compute the training indices as the remaining idices of \n",
    "    # our data when we remove the testing ones\n",
    "    training_indices = np.setdiff1d(range(X_shuffled.shape[0]),range(begin,end), assume_unique=True)\n",
    "  \n",
    "    # We extract the testing data in the range [begin, start]  \n",
    "    training_data = X_shuffled[training_indices,:]\n",
    "    # We extract the testing labels in the range [begin, start]\n",
    "    training_labels = y_shuffled[training_indices]\n",
    "    \n",
    "    # We train the model on the training data\n",
    "    model.fit(training_data, training_labels)\n",
    "    \n",
    "    # We compute the accuracy in the training data\n",
    "    training_acc.append(model.score(training_data, training_labels))\n",
    "    # We compute the accuracy in the testing data\n",
    "    testing_acc.append(model.score(testing_data, testing_labels))\n",
    "                       \n",
    "print(training_acc)\n",
    "print(testing_acc)\n",
    "        \n",
    "print('Average training accuracy', np.mean(training_acc))    \n",
    "print('SD training accuracy', np.std(training_acc))\n",
    "print('Average testing accuracy', np.mean(testing_acc))    \n",
    "print('SD testing accuracy', np.std(testing_acc))"
   ]
  },
  {
   "cell_type": "code",
   "execution_count": 7,
   "metadata": {
    "jupyter": {
     "outputs_hidden": false
    }
   },
   "outputs": [
    {
     "name": "stdout",
     "output_type": "stream",
     "text": [
      "The accuracy from 10-fold cross validation is: \n",
      "[1.         0.93333333 1.         0.93333333 0.86666667 1.\n",
      " 0.86666667 0.93333333 1.         1.        ]\n",
      "The average accuracy from 10-fold cross validation is: 0.9533333333333334\n"
     ]
    }
   ],
   "source": [
    "from sklearn.model_selection import cross_val_score\n",
    "\n",
    "sklearn_accuracy = cross_val_score(model, iris.data, iris.target, scoring = 'accuracy', cv=10)\n",
    "\n",
    "print(\"The accuracy from \" + str(k) + \"-fold cross validation is: \\n\" + str(sklearn_accuracy))\n",
    "\n",
    "print(\"The average accuracy from \" + str(k) + \"-fold cross validation is: \" + str(np.mean(sklearn_accuracy)))"
   ]
  },
  {
   "cell_type": "markdown",
   "metadata": {},
   "source": [
    "K-fold cross-validation can be also repeated several times, and the average cross-validation accuracy can be reported. "
   ]
  },
  {
   "cell_type": "code",
   "execution_count": 8,
   "metadata": {
    "jupyter": {
     "outputs_hidden": false
    }
   },
   "outputs": [
    {
     "name": "stdout",
     "output_type": "stream",
     "text": [
      "TRAIN: [0 1] TEST: [2 3]\n",
      "TRAIN: [2 3] TEST: [0 1]\n",
      "TRAIN: [1 2] TEST: [0 3]\n",
      "TRAIN: [0 3] TEST: [1 2]\n"
     ]
    }
   ],
   "source": [
    "from sklearn.model_selection import RepeatedKFold\n",
    "\n",
    "X = np.array([[1, 2], [3, 4], [1, 2], [3, 4]])\n",
    "y = np.array([0, 0, 1, 1])\n",
    "\n",
    "rkf = RepeatedKFold(n_splits=2, n_repeats=2, random_state=2652124)\n",
    "for train_index, test_index in rkf.split(X):\n",
    "    print(\"TRAIN:\", train_index, \"TEST:\", test_index)\n",
    "    X_train, X_test = X[train_index], X[test_index]\n",
    "    y_train, y_test = y[train_index], y[test_index]"
   ]
  },
  {
   "cell_type": "markdown",
   "metadata": {},
   "source": [
    "$\\mathbf{Exercise.}$ Write a repeated K-fold strategy for the iris dataset."
   ]
  },
  {
   "cell_type": "code",
   "execution_count": 9,
   "metadata": {},
   "outputs": [
    {
     "name": "stdout",
     "output_type": "stream",
     "text": [
      "0.9433333333333334\n"
     ]
    }
   ],
   "source": [
    "rkf = RepeatedKFold(n_splits=2, n_repeats=2, random_state=2652124)\n",
    "\n",
    "testing_acc = []\n",
    "\n",
    "for train_index, test_index in rkf.split(iris.data):\n",
    "    X_train = iris.data[train_index,:]\n",
    "    Y_train = iris.target[train_index]\n",
    "    X_test = iris.data[test_index,:]\n",
    "    Y_test = iris.target[test_index]\n",
    "    \n",
    "    model.fit(X_train, Y_train)\n",
    "    \n",
    "    # We compute the accuracy in the training data\n",
    "    testing_acc.append(model.score(X_test, Y_test))\n",
    "    \n",
    "print(np.mean(testing_acc))"
   ]
  },
  {
   "cell_type": "markdown",
   "metadata": {},
   "source": [
    "## Leave one out\n",
    "\n",
    "We have seen during the previous lesson that removing a single point from the dataset can have a drastic impact on the modeling variability. This fact motivates another standard cross-validation strategy called _leave one out_ (LOO). In LOO the model is trained on a subset of the data containing all but a single data point. The testing is performed on the single hold-out point. We therefore obtain  $\\mbox{N_sample}$ predictions.\n"
   ]
  },
  {
   "cell_type": "markdown",
   "metadata": {},
   "source": [
    "$\\textbf{Exercise.}$ Write a LOO routine for this data."
   ]
  },
  {
   "cell_type": "code",
   "execution_count": 10,
   "metadata": {
    "jupyter": {
     "outputs_hidden": false
    }
   },
   "outputs": [
    {
     "name": "stdout",
     "output_type": "stream",
     "text": [
      "The fold size is: 1.0\n",
      "Average training accuracy 0.9799108148281612\n",
      "SD training accuracy 0.00122860967496832\n",
      "Average testing accuracy 0.9463087248322147\n",
      "SD testing accuracy 0.22540745803686799\n"
     ]
    },
    {
     "data": {
      "image/png": "[encoded data removed]",
      "text/plain": [
       "<Figure size 432x288 with 1 Axes>"
      ]
     },
     "metadata": {
      "needs_background": "light"
     },
     "output_type": "display_data"
    },
    {
     "name": "stdout",
     "output_type": "stream",
     "text": [
      "The average LOO accuracy is: 0.9463087248322147\n"
     ]
    }
   ],
   "source": [
    "loo_accuracy = []\n",
    "\n",
    "model = KNeighborsClassifier(n_neighbors=2)\n",
    "\n",
    "from sklearn.utils import shuffle\n",
    "\n",
    "model = KNeighborsClassifier(n_neighbors=2)\n",
    "np.random.seed(2123)\n",
    "\n",
    "data_idx = np.arange(iris.data.shape[0])\n",
    "\n",
    "# Shuffling the data\n",
    "#### Mode 1 \n",
    "# shuffling the data indices\n",
    "np.random.shuffle(data_idx)\n",
    "# getting data and labels at shuffled indices\n",
    "X_shuffled = iris.data[data_idx,:]\n",
    "y_shuffled = iris.target[data_idx]\n",
    "\n",
    "#### Mode 2 \n",
    "# # Stacking data and labels\n",
    "# stacked_data = np.hstack([iris.data,iris.target.reshape(-1,1)])\n",
    "# # Shuffling data and labels\n",
    "# np.random.seed(2123)\n",
    "# np.random.shuffle(stacked_data)\n",
    "# # Separatig shuffled data from shuffled labels\n",
    "# X_shuffled = stacked_data[:,:4]\n",
    "# y_shuffled = stacked_data[:,4]\n",
    "\n",
    "#### Mode 3\n",
    "# From sklearn\n",
    "#X_shuffled, y_shuffled = shuffle(iris.data, iris.target)\n",
    "\n",
    "k = X_shuffled.shape[0]-1\n",
    "\n",
    "fold_size = np.floor(X_shuffled.shape[0]/k)\n",
    "\n",
    "print('The fold size is:', fold_size)\n",
    "\n",
    "training_acc = []\n",
    "testing_acc = []\n",
    "\n",
    "for i in range(k):\n",
    "    # We compute the index where the testing data starts  \n",
    "    begin = int(i*fold_size) \n",
    "    # We compute the index where the testing data stops \n",
    "    end = int((i+1)*fold_size)\n",
    "    \n",
    "    # We extract the testing data in the range [begin, start]  \n",
    "    testing_data = X_shuffled[begin:end,:]\n",
    "    # We extract the testing labels in the range [begin, start]\n",
    "    testing_labels = y_shuffled[begin:end]\n",
    "    \n",
    "    # We compute the training indices as the remaining idices of \n",
    "    # our data when we remove the testing ones\n",
    "    training_indices = np.setdiff1d(range(X_shuffled.shape[0]),range(begin,end), assume_unique=True)\n",
    "  \n",
    "    # We extract the testing data in the range [begin, start]  \n",
    "    training_data = X_shuffled[training_indices,:]\n",
    "    # We extract the testing labels in the range [begin, start]\n",
    "    training_labels = y_shuffled[training_indices]\n",
    "    \n",
    "    # We train the model on the training data\n",
    "    model.fit(training_data, training_labels)\n",
    "    \n",
    "    # We compute the accuracy in the training data\n",
    "    training_acc.append(model.score(training_data, training_labels))\n",
    "    # We compute the accuracy in the testing data\n",
    "    testing_acc.append(model.score(testing_data, testing_labels))\n",
    "                       \n",
    "\n",
    "        \n",
    "print('Average training accuracy', np.mean(training_acc))    \n",
    "print('SD training accuracy', np.std(training_acc))\n",
    "print('Average testing accuracy', np.mean(testing_acc))    \n",
    "print('SD testing accuracy', np.std(testing_acc))\n",
    "\n",
    "\n",
    "plt.hist(testing_acc, bins=30)\n",
    "plt.title('LOO accuracy histogram')\n",
    "plt.show()\n",
    "\n",
    "print('The average LOO accuracy is: ' + str(np.mean(testing_acc)))\n",
    " "
   ]
  },
  {
   "cell_type": "code",
   "execution_count": 11,
   "metadata": {
    "jupyter": {
     "outputs_hidden": false
    }
   },
   "outputs": [
    {
     "data": {
      "image/png": "[encoded data removed]",
      "text/plain": [
       "<Figure size 432x288 with 1 Axes>"
      ]
     },
     "metadata": {
      "needs_background": "light"
     },
     "output_type": "display_data"
    },
    {
     "name": "stdout",
     "output_type": "stream",
     "text": [
      "The average LOO accuracy with sklearn is: 0.9466666666666667\n"
     ]
    }
   ],
   "source": [
    "## Sklearn implementation\n",
    "\n",
    "##Note: ``LeaveOneOut()`` is equivalent to ``KFold(n_splits=n)``\n",
    "\n",
    "from sklearn.model_selection import LeaveOneOut\n",
    "\n",
    "loo = LeaveOneOut()\n",
    "model = KNeighborsClassifier(n_neighbors=2)\n",
    "\n",
    "loo_accuracy_sklearn = []\n",
    "for train, test in loo.split(iris.data):\n",
    "    model.fit(iris.data[train,:], iris.target[train])\n",
    "    loo_accuracy.append(model.score(iris.data[test,:], iris.target[test]))\n",
    "    \n",
    "\n",
    "plt.hist(loo_accuracy, bins=30)\n",
    "plt.title('LOO accuracy histogram with sklearn')\n",
    "plt.show()\n",
    "\n",
    "print('The average LOO accuracy with sklearn is: ' + str(np.mean(loo_accuracy)))"
   ]
  },
  {
   "cell_type": "markdown",
   "metadata": {},
   "source": [
    "## Receiving Operator Characteristic (ROC) \n",
    "\n",
    "ROC curves are typically computed by evaluating the false positive rate and the true positive rate, plotted respectively on the X and Y axis. Remember that both True positive rate and false positive rate take values in [0,1]. An optimal classifier whould ideally keep the false positive rate as low as possible (ideally zero), and the true positive rate as large as possible (ideally one). Therefore, the maximum value of the area defined by the ROC curve (area under the curve - AUC -) is 1, which is the area of a square of side equal to 1. In general the area under the ROC curve takes values in [0,1] too, the larger the better.\n",
    "\n",
    "We recall from lesson 2:\n",
    "\n",
    "- Accuracy: quantifies the overall number of correct predictions\n",
    "$$ ACC = \\frac{\\mbox{True Positives} + \\mbox{True negatives}}{\\mbox{Total sample size}}$$\n",
    "\n",
    "\n",
    "- Precision (positive predictive value): quantifies the number of correct predictions among all the positive predictions\n",
    "$$ PRECISION = \\frac{\\mbox{True Positives}}{\\mbox{True Positives} + \\mbox{False Positives} } $$\n",
    "\n",
    "\n",
    "- Recall (true positive rate, or sensitivity): quantifies the number of correct predictions among all the positive data\n",
    "$$ RECALL = \\frac{\\mbox{True Positives}}{\\mbox{True Positives} + \\mbox{False Negatives} } $$\n",
    "\n",
    "\n",
    "- Specificity (true negative rate): quantifies the number of correct predictions among all the negative data\n",
    "$$ SPEC = \\frac{\\mbox{True Negatives}}{\\mbox{False Positives} + \\mbox{True Negatives} } $$\n",
    "\n",
    "\n",
    "- False positive rate: quantifies the number of incorrect positive predictions among all the negative data\n",
    "$$ FPR = \\frac{\\mbox{False Positive}}{\\mbox{False Positives} + \\mbox{True Negatives} } = 1 - SPEC$$"
   ]
  },
  {
   "cell_type": "code",
   "execution_count": 12,
   "metadata": {
    "jupyter": {
     "outputs_hidden": false
    }
   },
   "outputs": [
    {
     "data": {
      "image/png": "[encoded data removed]",
      "text/plain": [
       "<Figure size 432x288 with 1 Axes>"
      ]
     },
     "metadata": {
      "needs_background": "light"
     },
     "output_type": "display_data"
    },
    {
     "name": "stdout",
     "output_type": "stream",
     "text": [
      "Original shape of X: (100, 4)\n",
      "New shape of X: (100, 804)\n"
     ]
    }
   ],
   "source": [
    "import numpy as np\n",
    "from scipy import interp\n",
    "\n",
    "from sklearn import svm, datasets\n",
    "from sklearn.metrics import roc_curve, auc\n",
    "from sklearn.model_selection import StratifiedKFold\n",
    "\n",
    "# #############################################################################\n",
    "# Data IO and generation\n",
    "\n",
    "# Import the data\n",
    "iris = datasets.load_iris()\n",
    "X = iris.data\n",
    "y = iris.target\n",
    "X, y = X[y != 2], y[y != 2]\n",
    "\n",
    "n_samples, n_features = X.shape\n",
    "\n",
    "plt.hist(y)\n",
    "plt.title('Classes histogram')\n",
    "plt.show()\n",
    "\n",
    "# Add noisy features\n",
    "random_state = np.random.RandomState(0)\n",
    "\n",
    "print('Original shape of X: ' + str(X.shape))\n",
    "X = np.c_[X, random_state.randn(n_samples, 200 * n_features)]\n",
    "print('New shape of X: ' + str(X.shape))\n"
   ]
  },
  {
   "cell_type": "code",
   "execution_count": 13,
   "metadata": {
    "jupyter": {
     "outputs_hidden": false
    }
   },
   "outputs": [
    {
     "name": "stdout",
     "output_type": "stream",
     "text": [
      "Probabilistic predictions:\n",
      "[[0.97308524 0.02691476]\n",
      " [0.97305174 0.02694826]\n",
      " [0.97306654 0.02693346]\n",
      " [0.97308466 0.02691534]\n",
      " [0.97310595 0.02689405]\n",
      " [0.97304255 0.02695745]\n",
      " [0.97310708 0.02689292]\n",
      " [0.973055   0.026945  ]\n",
      " [0.97306956 0.02693044]\n",
      " [0.97309513 0.02690487]\n",
      " [0.97304512 0.02695488]\n",
      " [0.97311034 0.02688966]\n",
      " [0.9730619  0.0269381 ]\n",
      " [0.97306908 0.02693092]\n",
      " [0.97307497 0.02692503]\n",
      " [0.97305174 0.02694826]\n",
      " [0.9730216  0.0269784 ]\n",
      " [0.97310084 0.02689916]\n",
      " [0.9730723  0.0269277 ]\n",
      " [0.97304369 0.02695631]\n",
      " [0.97303958 0.02696042]\n",
      " [0.97306994 0.02693006]\n",
      " [0.97307095 0.02692905]\n",
      " [0.97306963 0.02693037]\n",
      " [0.97307197 0.02692803]\n",
      " [0.97306993 0.02693007]\n",
      " [0.97307575 0.02692425]\n",
      " [0.97305166 0.02694834]\n",
      " [0.9730502  0.0269498 ]\n",
      " [0.97307706 0.02692294]\n",
      " [0.97307391 0.02692609]\n",
      " [0.97305809 0.02694191]\n",
      " [0.97306947 0.02693053]\n",
      " [0.97306209 0.02693791]\n",
      " [0.97309878 0.02690122]\n",
      " [0.97307454 0.02692546]\n",
      " [0.97306585 0.02693415]\n",
      " [0.97306936 0.02693064]\n",
      " [0.97307086 0.02692914]\n",
      " [0.97309679 0.02690321]\n",
      " [0.97308405 0.02691595]\n",
      " [0.97311386 0.02688614]\n",
      " [0.97304413 0.02695587]\n",
      " [0.97309636 0.02690364]\n",
      " [0.97306086 0.02693914]\n",
      " [0.97307928 0.02692072]\n",
      " [0.97308774 0.02691226]\n",
      " [0.97304491 0.02695509]\n",
      " [0.97306151 0.02693849]\n",
      " [0.97305713 0.02694287]\n",
      " [0.0284952  0.9715048 ]\n",
      " [0.02843863 0.97156137]\n",
      " [0.02844003 0.97155997]\n",
      " [0.02845938 0.97154062]\n",
      " [0.02846171 0.97153829]\n",
      " [0.02845816 0.97154184]\n",
      " [0.0284692  0.9715308 ]\n",
      " [0.02844255 0.97155745]\n",
      " [0.02845131 0.97154869]\n",
      " [0.02848439 0.97151561]\n",
      " [0.0285125  0.9714875 ]\n",
      " [0.02850124 0.97149876]\n",
      " [0.02847348 0.97152652]\n",
      " [0.02845316 0.97154684]\n",
      " [0.02846827 0.97153173]\n",
      " [0.02847855 0.97152145]\n",
      " [0.02849851 0.97150149]\n",
      " [0.02847014 0.97152986]\n",
      " [0.02849847 0.97150153]\n",
      " [0.02848321 0.97151679]\n",
      " [0.02847494 0.97152506]\n",
      " [0.02844375 0.97155625]\n",
      " [0.02845287 0.97154713]\n",
      " [0.0284692  0.9715308 ]\n",
      " [0.02842918 0.97157082]\n",
      " [0.0285071  0.9714929 ]\n",
      " [0.02845517 0.97154483]\n",
      " [0.02844381 0.97155619]\n",
      " [0.02846986 0.97153014]\n",
      " [0.02844532 0.97155468]\n",
      " [0.02845609 0.97154391]\n",
      " [0.02851539 0.97148461]\n",
      " [0.02849918 0.97150082]\n",
      " [0.02842582 0.97157418]\n",
      " [0.02845523 0.97154477]\n",
      " [0.02850184 0.97149816]\n",
      " [0.02849825 0.97150175]\n",
      " [0.02847671 0.97152329]\n",
      " [0.02848559 0.97151441]\n",
      " [0.0285052  0.9714948 ]\n",
      " [0.02847706 0.97152294]\n",
      " [0.02848022 0.97151978]\n",
      " [0.02849834 0.97150166]\n",
      " [0.02848304 0.97151696]\n",
      " [0.02846467 0.97153533]\n",
      " [0.02848868 0.97151132]\n",
      " [0.02848547 0.97151453]\n",
      " [0.0284695  0.9715305 ]\n",
      " [0.02847726 0.97152274]\n",
      " [0.02851376 0.97148624]]\n",
      "fpr: [0. 0. 0. 1.]\n",
      "tpr: [0.   0.02 1.   1.  ]\n",
      "thr: [1.97157418 0.97157418 0.97148461 0.02688614]\n"
     ]
    },
    {
     "data": {
      "image/png": "[encoded data removed]",
      "text/plain": [
       "<Figure size 432x288 with 1 Axes>"
      ]
     },
     "metadata": {
      "needs_background": "light"
     },
     "output_type": "display_data"
    }
   ],
   "source": [
    "# #############################################################################\n",
    "# Classification and ROC analysis\n",
    "classifier = svm.SVC(kernel='linear', probability=True,\n",
    "                     random_state=random_state)\n",
    "\n",
    "#Evaluating the classifier on the full data sample\n",
    "probas_ = classifier.fit(X, y)\n",
    "\n",
    "probas_ = classifier.predict_proba(X)\n",
    "\n",
    "print(\"Probabilistic predictions:\\n\" + str(probas_))\n",
    "\n",
    "fpr, tpr, thresholds = roc_curve(y, probas_[:,1])\n",
    "\n",
    "print('fpr: ' + str(fpr))\n",
    "print('tpr: ' + str(tpr))\n",
    "print('thr: ' + str(thresholds))\n",
    "\n",
    "area_under_the_curve = auc(fpr, tpr)\n",
    "\n",
    "plt.scatter(fpr,tpr)\n",
    "plt.xlim([-0.1,1.1])\n",
    "plt.xlabel('False positive rate')\n",
    "plt.ylim([-0.1,1.1])\n",
    "plt.ylabel('True positive rate')\n",
    "plt.title('fpr vs tpr\\nthe estimated area is: ' + str(area_under_the_curve))\n",
    "plt.show()\n"
   ]
  },
  {
   "cell_type": "code",
   "execution_count": 14,
   "metadata": {
    "jupyter": {
     "outputs_hidden": false
    }
   },
   "outputs": [
    {
     "data": {
      "image/png": "[encoded data removed]",
      "text/plain": [
       "<Figure size 432x288 with 1 Axes>"
      ]
     },
     "metadata": {
      "needs_background": "light"
     },
     "output_type": "display_data"
    },
    {
     "name": "stdout",
     "output_type": "stream",
     "text": [
      "The estimated tpr for fold 0: \n",
      "[0.    0.375 0.375 0.375 0.375 0.375 0.375 0.375 0.375 0.375 0.375 0.375\n",
      " 0.375 0.375 0.375 0.375 0.375 0.375 0.375 0.375 0.375 0.375 0.5   0.5\n",
      " 0.5   0.5   0.5   0.5   0.5   0.5   0.5   0.5   0.5   0.875 0.875 0.875\n",
      " 0.875 0.875 0.875 0.875 0.875 0.875 0.875 0.875 1.    1.    1.    1.\n",
      " 1.    1.    1.    1.    1.    1.    1.    1.    1.    1.    1.    1.\n",
      " 1.    1.    1.    1.    1.    1.    1.    1.    1.    1.    1.    1.\n",
      " 1.    1.    1.    1.    1.    1.    1.    1.    1.    1.    1.    1.\n",
      " 1.    1.    1.    1.    1.    1.    1.    1.    1.    1.    1.    1.\n",
      " 1.    1.    1.    1.   ]\n"
     ]
    }
   ],
   "source": [
    "# Within a cross-validation loop\n",
    "# Run classifier with cross-validation and plot ROC curves\n",
    "\n",
    "cv = StratifiedKFold(n_splits=6)\n",
    "\n",
    "roc_sample = []\n",
    "aucs = []\n",
    "mean_fpr = np.linspace(0, 1, 100)\n",
    "i = 0\n",
    "\n",
    "for train, test in cv.split(X, y):\n",
    "    probas_ = classifier.fit(X[train], y[train]).predict_proba(X[test])\n",
    "    # Compute ROC curve and area under the curve\n",
    "    fpr, tpr, thresholds = roc_curve(y[test], probas_[:, 1])\n",
    "    roc_sample.append(np.interp(mean_fpr, fpr, tpr))\n",
    "    # We impose the ROC curve to start from 0\n",
    "    roc_sample[-1][0] = 0.0\n",
    "    # Compute the area under the curve\n",
    "    roc_auc = auc(fpr, tpr)\n",
    "    aucs.append(roc_auc)\n",
    "    # Plotting the ROC curve\n",
    "    plt.plot(fpr, tpr, lw=1, alpha=0.3,\n",
    "             label='ROC fold %d (AUC = %0.2f)' % (i, roc_auc))\n",
    "    plt.xlabel('False Positive Rate')\n",
    "    plt.ylabel('True Positive Rate')\n",
    "\n",
    "    i += 1\n",
    "\n",
    "plt.legend()\n",
    "plt.show()\n",
    "\n",
    "print('The estimated tpr for fold 0: ')\n",
    "print(roc_sample[0])"
   ]
  },
  {
   "cell_type": "code",
   "execution_count": 15,
   "metadata": {
    "jupyter": {
     "outputs_hidden": false
    }
   },
   "outputs": [
    {
     "data": {
      "image/png": "[encoded data removed]",
      "text/plain": [
       "<Figure size 432x288 with 1 Axes>"
      ]
     },
     "metadata": {
      "needs_background": "light"
     },
     "output_type": "display_data"
    }
   ],
   "source": [
    "# Summarizing the cross-validation results\n",
    "\n",
    "# Adding diagonal line of random classification \n",
    "plt.plot([0, 1], [0, 1], linestyle='--', lw=2, color='r',\n",
    "         label='Chance', alpha=.8)\n",
    "\n",
    "# Computing mean and std for the curves\n",
    "mean_tpr = np.mean(roc_sample, axis=0)\n",
    "std_tpr = np.std(roc_sample, axis=0)\n",
    "\n",
    "# We impose the end point of the average ROC to be equal to 1\n",
    "mean_tpr[-1] = 1.0\n",
    "\n",
    "# Computing the AUC of the average curves\n",
    "mean_auc = auc(mean_fpr, mean_tpr)\n",
    "# Computing the std of the AUCs \n",
    "std_auc = np.std(aucs)\n",
    "\n",
    "plt.plot(mean_fpr, mean_tpr, color='b',\n",
    "         label=r'Mean ROC (AUC = %0.2f $\\pm$ %0.2f)' % (mean_auc, std_auc),\n",
    "         lw=2, alpha=.8)\n",
    "\n",
    "\n",
    "# Nice plot of curve with std\n",
    "tprs_upper = np.minimum(mean_tpr + std_tpr, 1)\n",
    "tprs_lower = np.maximum(mean_tpr - std_tpr, 0)\n",
    "plt.fill_between(mean_fpr, tprs_lower, tprs_upper, color='grey', alpha=.2,\n",
    "                 label=r'$\\pm$ 1 std. dev.')\n",
    "\n",
    "plt.xlim([-0.05, 1.05])\n",
    "plt.ylim([-0.05, 1.05])\n",
    "plt.xlabel('False Positive Rate')\n",
    "plt.ylabel('True Positive Rate')\n",
    "plt.title('Receiver operating characteristic example')\n",
    "plt.legend(loc=\"lower right\")\n",
    "plt.show()"
   ]
  },
  {
   "cell_type": "markdown",
   "metadata": {},
   "source": [
    "## Stratification"
   ]
  },
  {
   "cell_type": "markdown",
   "metadata": {},
   "source": [
    "When the data is unbalanced, k-fold cross-validation may pose problems of biased accuracy quantification"
   ]
  },
  {
   "cell_type": "code",
   "execution_count": 16,
   "metadata": {
    "jupyter": {
     "outputs_hidden": false
    }
   },
   "outputs": [
    {
     "name": "stdout",
     "output_type": "stream",
     "text": [
      "*** Training ***\n",
      "Elements of class 0: 0.96\n",
      "Elements of class 1: 0.04\n",
      "*** Testing ***\n",
      "Elements of class 0: 0.86\n",
      "Elements of class 1: 0.14\n"
     ]
    }
   ],
   "source": [
    "from sklearn.datasets import make_classification\n",
    "from sklearn.metrics import precision_score, recall_score\n",
    "from sklearn.metrics import recall_score\n",
    "\n",
    "\n",
    "X, y = make_classification(n_samples = 100, n_features=2, n_redundant=0, n_informative=2, \\\n",
    "                           random_state=0, n_clusters_per_class=1, weights = [0.9])\n",
    "\n",
    "\n",
    "model = KNeighborsClassifier(n_neighbors=5)\n",
    "\n",
    "X_train, X_test, y_train, y_test = train_test_split(X, y, test_size=0.5, random_state=11)\n",
    "clf = model.fit(X_train, y_train)\n",
    "\n",
    "print(\"*** Training ***\")\n",
    "print(\"Elements of class 0: \" + str(np.sum(y_train==0)/len(y_train)))\n",
    "print(\"Elements of class 1: \" + str(np.sum(y_train==1)/len(y_train)))\n",
    "\n",
    "print(\"*** Testing ***\")\n",
    "print(\"Elements of class 0: \" + str(np.sum(y_test==0)/len(y_test)))\n",
    "print(\"Elements of class 1: \" + str(np.sum(y_test==1)/len(y_test)))\n",
    "\n",
    "\n",
    "\n"
   ]
  },
  {
   "cell_type": "markdown",
   "metadata": {},
   "source": [
    "We observe that the classes are not equally represented in training and testing data. This may pose a problem in the evaluation of the classifier, as the performance is not evaluated on the data with same distribution. For this reason, we would like to keep the proportion of classes constant across data split. This operation is called _stratified k-fold_.\n"
   ]
  },
  {
   "cell_type": "markdown",
   "metadata": {},
   "source": [
    "$\\textbf{Exercise.}$ Write a routine for stratified k-fold cross-validation."
   ]
  },
  {
   "cell_type": "code",
   "execution_count": 17,
   "metadata": {
    "jupyter": {
     "outputs_hidden": false
    }
   },
   "outputs": [
    {
     "name": "stdout",
     "output_type": "stream",
     "text": [
      "We need to train with 4 samples from class 1, and 45 samples from class 0.\n",
      "*** Training ***\n",
      "Elements of class 0: 0.9183673469387755\n",
      "Elements of class 1: 0.08163265306122448\n",
      "*** Testing ***\n",
      "Elements of class 0: 0.9019607843137255\n",
      "Elements of class 1: 0.09803921568627451\n"
     ]
    }
   ],
   "source": [
    "ratio = np.sum(y==1)/len(y)\n",
    "test_size = 0.5 * len(y)\n",
    "\n",
    "pos_test_size = int(ratio*test_size)\n",
    "neg_test_size = int((1-ratio) * test_size)\n",
    "\n",
    "print(\"We need to train with \" + str(pos_test_size) + \" samples from class 1, and \" + str(neg_test_size) + \\\n",
    "      \" samples from class 0.\")\n",
    "\n",
    "idx_pos_train = np.random.choice(np.where(y==1)[0], pos_test_size, replace = False)\n",
    "idx_neg_train = np.random.choice(np.where(y==0)[0], neg_test_size, replace = False)\n",
    "\n",
    "train_indices = np.concatenate([idx_pos_train,idx_neg_train])\n",
    "\n",
    "y_train = y[train_indices]\n",
    "X_train = X[train_indices,:]\n",
    "\n",
    "idx_pos_test = np.setdiff1d(np.where(y==1)[0],idx_pos_train, assume_unique = True)\n",
    "idx_neg_test = np.setdiff1d(np.where(y==0)[0], idx_neg_train, assume_unique = True)\n",
    "\n",
    "test_indices = np.concatenate([idx_pos_test,idx_neg_test])\n",
    "y_test = y[test_indices]\n",
    "X_test = X[test_indices,:]\n",
    "\n",
    "\n",
    "print(\"*** Training ***\")\n",
    "print(\"Elements of class 0: \" + str(np.sum(y_train==0)/len(y_train)))\n",
    "print(\"Elements of class 1: \" + str(np.sum(y_train==1)/len(y_train)))\n",
    "\n",
    "print(\"*** Testing ***\")\n",
    "print(\"Elements of class 0: \" + str(np.sum(y_test==0)/len(y_test)))\n",
    "print(\"Elements of class 1: \" + str(np.sum(y_test==1)/len(y_test)))"
   ]
  },
  {
   "cell_type": "code",
   "execution_count": 18,
   "metadata": {
    "jupyter": {
     "outputs_hidden": false
    }
   },
   "outputs": [
    {
     "name": "stdout",
     "output_type": "stream",
     "text": [
      "\n",
      "[ 1  2  3  6  7  8  9 10 11] [0 4 5]\n",
      "*** Training ***\n",
      "Elements of class 0: 0.3333333333333333\n",
      "Elements of class 1: 0.6666666666666666\n",
      "*** Testing ***\n",
      "Elements of class 0: 0.3333333333333333\n",
      "Elements of class 1: 0.6666666666666666\n",
      "\n",
      "[ 0  2  3  4  5  8  9 10 11] [1 6 7]\n",
      "*** Training ***\n",
      "Elements of class 0: 0.3333333333333333\n",
      "Elements of class 1: 0.6666666666666666\n",
      "*** Testing ***\n",
      "Elements of class 0: 0.3333333333333333\n",
      "Elements of class 1: 0.6666666666666666\n",
      "\n",
      "[ 0  1  3  4  5  6  7 10 11] [2 8 9]\n",
      "*** Training ***\n",
      "Elements of class 0: 0.3333333333333333\n",
      "Elements of class 1: 0.6666666666666666\n",
      "*** Testing ***\n",
      "Elements of class 0: 0.3333333333333333\n",
      "Elements of class 1: 0.6666666666666666\n",
      "\n",
      "[0 1 2 4 5 6 7 8 9] [ 3 10 11]\n",
      "*** Training ***\n",
      "Elements of class 0: 0.3333333333333333\n",
      "Elements of class 1: 0.6666666666666666\n",
      "*** Testing ***\n",
      "Elements of class 0: 0.3333333333333333\n",
      "Elements of class 1: 0.6666666666666666\n"
     ]
    }
   ],
   "source": [
    "from sklearn.model_selection import StratifiedKFold\n",
    "\n",
    "X = np.ones(12)\n",
    "y = np.array([0, 0, 0, 0, 1, 1, 1, 1, 1, 1, 1, 1])\n",
    "\n",
    "skf = StratifiedKFold(n_splits=4)\n",
    "for train, test in skf.split(X, y):\n",
    "    print(\"\\n%s %s\" % (train, test))\n",
    "    print(\"*** Training ***\")\n",
    "    print(\"Elements of class 0: \" + str(np.sum(y[train]==0)/len(y[train])))\n",
    "    print(\"Elements of class 1: \" + str(np.sum(y[train]==1)/len(y[train])))\n",
    "\n",
    "    print(\"*** Testing ***\")\n",
    "    print(\"Elements of class 0: \" + str(np.sum(y[test]==0)/len(y[test])))\n",
    "    print(\"Elements of class 1: \" + str(np.sum(y[test]==1)/len(y[test])))"
   ]
  },
  {
   "cell_type": "markdown",
   "metadata": {},
   "source": [
    "The problem of unbalanced data is critical when assessing a classification metric. We recall that the accuracy is defined as: \n",
    "\n",
    "$$ ACC = \\frac{\\mbox{True Positives} + \\mbox{True negatives}}{\\mbox{Total sample size}}.$$\n",
    "\n",
    "If there is unbalance in the data, for example the positive class represents 90% of the population, a classifier predicting constantly positive will lead to an accuracy of $.9$ without however correctly predicting any of the samples of the negative class. This may represent a serious issue, for example in _fraud detection_ problems, where we are interested in predicting classes which are very rare (the frauds).\n"
   ]
  },
  {
   "cell_type": "code",
   "execution_count": 19,
   "metadata": {
    "jupyter": {
     "outputs_hidden": false
    }
   },
   "outputs": [
    {
     "name": "stdout",
     "output_type": "stream",
     "text": [
      "Accuracy:\n",
      "    (tp + tn)/tot: 0.945\n"
     ]
    }
   ],
   "source": [
    "X, y = make_classification(n_samples = 400, n_features=2, n_redundant=0, n_informative=2, \\\n",
    "                           random_state=0, n_clusters_per_class=1, weights = [0.90])\n",
    "\n",
    "\n",
    "clf = svm.SVC(kernel='linear', probability=True,\n",
    "                     random_state=random_state)\n",
    "\n",
    "skf = StratifiedKFold(n_splits=2)\n",
    "\n",
    "X_train, X_test, y_train, y_test = train_test_split(X, y, test_size=0.5, random_state=43, stratify = y)\n",
    "clf = clf.fit(X_train, y_train)\n",
    "\n",
    "\n",
    "print(\"Accuracy:\\n    (tp + tn)/tot: \" + str(clf.score(X_test, y_test)))"
   ]
  },
  {
   "cell_type": "markdown",
   "metadata": {},
   "source": [
    "In this case, better metrics are the Precision and Recall:"
   ]
  },
  {
   "cell_type": "code",
   "execution_count": 24,
   "metadata": {
    "jupyter": {
     "outputs_hidden": false
    }
   },
   "outputs": [
    {
     "name": "stdout",
     "output_type": "stream",
     "text": [
      "\n",
      " *** Precision and Recall ***\n",
      "Precision\n",
      "    tp / (tp + fp)): 0.47619047619047616\n",
      "Recall\n",
      "    tp / (tp + fn): 1.0\n"
     ]
    }
   ],
   "source": [
    "print(\"\\n *** Precision and Recall ***\")\n",
    "\n",
    "P = precision_score(clf.predict(X_test), y_test)\n",
    "R = recall_score(clf.predict(X_test), y_test)\n",
    "\n",
    "print(\"Precision\\n    tp / (tp + fp)): \" + str(P))\n",
    "print(\"Recall\\n    tp / (tp + fn): \" + str(R))\n",
    "\n"
   ]
  },
  {
   "cell_type": "markdown",
   "metadata": {},
   "source": [
    "These quantities are also related to the F1 score, which is defined as the harmonic mean of precision and recall:\n",
    "$$ F1 = 2\\frac{Prec * Rec}{Prec + Rec}$$\n"
   ]
  },
  {
   "cell_type": "code",
   "execution_count": 21,
   "metadata": {
    "jupyter": {
     "outputs_hidden": false
    }
   },
   "outputs": [
    {
     "name": "stdout",
     "output_type": "stream",
     "text": [
      "F1: 0.6451612903225806\n"
     ]
    }
   ],
   "source": [
    "print(\"F1: \" + str(2*P*R/(P+R)))"
   ]
  },
  {
   "cell_type": "markdown",
   "metadata": {},
   "source": [
    "In the unbalanced case, the ROC AUC is also not appropriate for the quantification of the performance:"
   ]
  },
  {
   "cell_type": "code",
   "execution_count": 26,
   "metadata": {
    "jupyter": {
     "outputs_hidden": false
    }
   },
   "outputs": [
    {
     "data": {
      "image/png": "[encoded data removed]",
      "text/plain": [
       "<Figure size 432x288 with 1 Axes>"
      ]
     },
     "metadata": {
      "needs_background": "light"
     },
     "output_type": "display_data"
    }
   ],
   "source": [
    "cv = StratifiedKFold(n_splits=6)\n",
    "roc_sample = []\n",
    "aucs = []\n",
    "mean_fpr = np.linspace(0, 1, 100)\n",
    "i = 0\n",
    "\n",
    "for train, test in cv.split(X, y):\n",
    "    probas_ = clf.fit(X[train], y[train]).predict_proba(X[test])\n",
    "    # Compute ROC curve and area under the curve\n",
    "    fpr, tpr, thresholds = roc_curve(y[test], probas_[:, 1])\n",
    "    roc_sample.append(np.interp(mean_fpr, fpr, tpr))\n",
    "    # We impose the ROC curve to start from 0\n",
    "    roc_sample[-1][0] = 0.0\n",
    "    # Compute the area under the curve\n",
    "    roc_auc = auc(fpr, tpr)\n",
    "    aucs.append(roc_auc)\n",
    "    # Plotting the ROC curve\n",
    "    plt.plot(fpr, tpr, lw=1, alpha=0.3,\n",
    "             label='ROC fold %d (AUC = %0.2f)' % (i, roc_auc))\n",
    "    plt.xlabel('False Positive Rate')\n",
    "    plt.ylabel('True Positive Rate')\n",
    "\n",
    "    i += 1\n",
    "\n",
    "plt.legend()\n",
    "plt.title(\"Average AUC = \" + str(np.mean(aucs)))\n",
    "plt.show()\n"
   ]
  },
  {
   "cell_type": "code",
   "execution_count": 29,
   "metadata": {
    "jupyter": {
     "outputs_hidden": false
    }
   },
   "outputs": [
    {
     "data": {
      "image/png": "[encoded data removed]",
      "text/plain": [
       "<Figure size 432x288 with 1 Axes>"
      ]
     },
     "metadata": {
      "needs_background": "light"
     },
     "output_type": "display_data"
    }
   ],
   "source": [
    "from sklearn.metrics import precision_recall_curve\n",
    "from sklearn.metrics import average_precision_score\n",
    "\n",
    "avg_pr = []\n",
    "mean_R = np.linspace(0, 1, 100)\n",
    "\n",
    "for train, test in cv.split(X, y):\n",
    "    probas_ = clf.fit(X[train], y[train]).predict_proba(X[test])\n",
    "    # Compute ROC curve and area under the curve\n",
    "    P, R, thresholds = precision_recall_curve(y[test], probas_[:, 1])\n",
    "\n",
    "    average_precision = average_precision_score(y[test], probas_[:, 1])\n",
    "    avg_pr.append(average_precision)\n",
    "    # Plotting the ROC curve\n",
    "    plt.plot(R, P, lw=1, alpha=0.3,\n",
    "             label='average PR fold %d  = %0.2f' % (i, average_precision))\n",
    "    plt.xlabel('Recall')\n",
    "    plt.ylabel('Precision')\n",
    "\n",
    "\n",
    "plt.legend()\n",
    "plt.title(\"Average PR = \" + str(np.mean(avg_pr)))\n",
    "plt.show()\n",
    "\n"
   ]
  },
  {
   "cell_type": "code",
   "execution_count": null,
   "metadata": {},
   "outputs": [],
   "source": []
  }
 ],
 "metadata": {
  "kernelspec": {
   "display_name": "Python 3",
   "language": "python",
   "name": "python3"
  },
  "language_info": {
   "codemirror_mode": {
    "name": "ipython",
    "version": 3
   },
   "file_extension": ".py",
   "mimetype": "text/x-python",
   "name": "python",
   "nbconvert_exporter": "python",
   "pygments_lexer": "ipython3",
   "version": "3.9.10"
  }
 },
 "nbformat": 4,
 "nbformat_minor": 4
}

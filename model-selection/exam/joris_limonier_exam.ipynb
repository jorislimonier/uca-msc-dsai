{
 "cells": [
  {
   "cell_type": "markdown",
   "metadata": {},
   "source": [
    "## Exam 22/03/2019\n",
    "\n",
    "\n",
    "We work with the database ADNI, containing information for a clinical cohort of healhty volunteers and patients with Alzheimer's disease."
   ]
  },
  {
   "cell_type": "code",
   "execution_count": 1,
   "metadata": {},
   "outputs": [],
   "source": [
    "import numpy as np\n",
    "import pandas as pd\n",
    "import plotly.express as px\n",
    "import plotly.graph_objects as go\n",
    "import plotly.io as pio\n",
    "from sklearn.linear_model import LogisticRegression\n",
    "from sklearn.metrics import accuracy_score\n",
    "from sklearn.model_selection import (\n",
    "    RepeatedKFold,\n",
    "    StratifiedKFold,\n",
    "    cross_val_score,\n",
    "    train_test_split,\n",
    ")\n",
    "from sklearn.neighbors import KNeighborsClassifier\n",
    "import itertools\n",
    "\n",
    "pio.templates.default = \"plotly_white\"\n"
   ]
  },
  {
   "cell_type": "code",
   "execution_count": 2,
   "metadata": {},
   "outputs": [
    {
     "data": {
      "text/html": [
       "<div>\n",
       "<style scoped>\n",
       "    .dataframe tbody tr th:only-of-type {\n",
       "        vertical-align: middle;\n",
       "    }\n",
       "\n",
       "    .dataframe tbody tr th {\n",
       "        vertical-align: top;\n",
       "    }\n",
       "\n",
       "    .dataframe thead th {\n",
       "        text-align: right;\n",
       "    }\n",
       "</style>\n",
       "<table border=\"1\" class=\"dataframe\">\n",
       "  <thead>\n",
       "    <tr style=\"text-align: right;\">\n",
       "      <th></th>\n",
       "      <th>Unnamed: 0</th>\n",
       "      <th>RID</th>\n",
       "      <th>Hippocampus_volume</th>\n",
       "      <th>AGE</th>\n",
       "      <th>PTGENDER</th>\n",
       "      <th>PTEDUCAT</th>\n",
       "      <th>ADAS11</th>\n",
       "      <th>FDG</th>\n",
       "      <th>DX</th>\n",
       "    </tr>\n",
       "  </thead>\n",
       "  <tbody>\n",
       "    <tr>\n",
       "      <th>0</th>\n",
       "      <td>1</td>\n",
       "      <td>2</td>\n",
       "      <td>0.004200</td>\n",
       "      <td>74.3</td>\n",
       "      <td>1</td>\n",
       "      <td>16</td>\n",
       "      <td>10.67</td>\n",
       "      <td>1.369264</td>\n",
       "      <td>NL</td>\n",
       "    </tr>\n",
       "    <tr>\n",
       "      <th>1</th>\n",
       "      <td>16</td>\n",
       "      <td>3</td>\n",
       "      <td>0.002769</td>\n",
       "      <td>81.3</td>\n",
       "      <td>1</td>\n",
       "      <td>18</td>\n",
       "      <td>22.00</td>\n",
       "      <td>1.090790</td>\n",
       "      <td>Dementia</td>\n",
       "    </tr>\n",
       "    <tr>\n",
       "      <th>2</th>\n",
       "      <td>27</td>\n",
       "      <td>5</td>\n",
       "      <td>0.004312</td>\n",
       "      <td>73.7</td>\n",
       "      <td>1</td>\n",
       "      <td>16</td>\n",
       "      <td>8.67</td>\n",
       "      <td>1.297990</td>\n",
       "      <td>NL</td>\n",
       "    </tr>\n",
       "    <tr>\n",
       "      <th>3</th>\n",
       "      <td>46</td>\n",
       "      <td>8</td>\n",
       "      <td>0.004355</td>\n",
       "      <td>84.5</td>\n",
       "      <td>2</td>\n",
       "      <td>18</td>\n",
       "      <td>5.00</td>\n",
       "      <td>1.276278</td>\n",
       "      <td>NL</td>\n",
       "    </tr>\n",
       "    <tr>\n",
       "      <th>4</th>\n",
       "      <td>60</td>\n",
       "      <td>10</td>\n",
       "      <td>0.003728</td>\n",
       "      <td>73.9</td>\n",
       "      <td>2</td>\n",
       "      <td>12</td>\n",
       "      <td>12.33</td>\n",
       "      <td>1.118814</td>\n",
       "      <td>Dementia</td>\n",
       "    </tr>\n",
       "    <tr>\n",
       "      <th>5</th>\n",
       "      <td>65</td>\n",
       "      <td>14</td>\n",
       "      <td>0.005301</td>\n",
       "      <td>78.5</td>\n",
       "      <td>2</td>\n",
       "      <td>12</td>\n",
       "      <td>4.33</td>\n",
       "      <td>1.256990</td>\n",
       "      <td>NL</td>\n",
       "    </tr>\n",
       "    <tr>\n",
       "      <th>6</th>\n",
       "      <td>80</td>\n",
       "      <td>16</td>\n",
       "      <td>0.005406</td>\n",
       "      <td>65.4</td>\n",
       "      <td>1</td>\n",
       "      <td>9</td>\n",
       "      <td>10.33</td>\n",
       "      <td>1.395434</td>\n",
       "      <td>NL</td>\n",
       "    </tr>\n",
       "    <tr>\n",
       "      <th>7</th>\n",
       "      <td>93</td>\n",
       "      <td>21</td>\n",
       "      <td>0.005607</td>\n",
       "      <td>72.6</td>\n",
       "      <td>2</td>\n",
       "      <td>18</td>\n",
       "      <td>6.67</td>\n",
       "      <td>1.382790</td>\n",
       "      <td>NL</td>\n",
       "    </tr>\n",
       "    <tr>\n",
       "      <th>8</th>\n",
       "      <td>114</td>\n",
       "      <td>23</td>\n",
       "      <td>0.005298</td>\n",
       "      <td>71.7</td>\n",
       "      <td>1</td>\n",
       "      <td>14</td>\n",
       "      <td>4.00</td>\n",
       "      <td>1.364222</td>\n",
       "      <td>NL</td>\n",
       "    </tr>\n",
       "    <tr>\n",
       "      <th>9</th>\n",
       "      <td>221</td>\n",
       "      <td>43</td>\n",
       "      <td>0.004564</td>\n",
       "      <td>76.2</td>\n",
       "      <td>1</td>\n",
       "      <td>16</td>\n",
       "      <td>7.00</td>\n",
       "      <td>1.308406</td>\n",
       "      <td>NL</td>\n",
       "    </tr>\n",
       "  </tbody>\n",
       "</table>\n",
       "</div>"
      ],
      "text/plain": [
       "   Unnamed: 0  RID  Hippocampus_volume   AGE  PTGENDER  PTEDUCAT  ADAS11  \\\n",
       "0           1    2            0.004200  74.3         1        16   10.67   \n",
       "1          16    3            0.002769  81.3         1        18   22.00   \n",
       "2          27    5            0.004312  73.7         1        16    8.67   \n",
       "3          46    8            0.004355  84.5         2        18    5.00   \n",
       "4          60   10            0.003728  73.9         2        12   12.33   \n",
       "5          65   14            0.005301  78.5         2        12    4.33   \n",
       "6          80   16            0.005406  65.4         1         9   10.33   \n",
       "7          93   21            0.005607  72.6         2        18    6.67   \n",
       "8         114   23            0.005298  71.7         1        14    4.00   \n",
       "9         221   43            0.004564  76.2         1        16    7.00   \n",
       "\n",
       "        FDG        DX  \n",
       "0  1.369264        NL  \n",
       "1  1.090790  Dementia  \n",
       "2  1.297990        NL  \n",
       "3  1.276278        NL  \n",
       "4  1.118814  Dementia  \n",
       "5  1.256990        NL  \n",
       "6  1.395434        NL  \n",
       "7  1.382790        NL  \n",
       "8  1.364222        NL  \n",
       "9  1.308406        NL  "
      ]
     },
     "execution_count": 2,
     "metadata": {},
     "output_type": "execute_result"
    }
   ],
   "source": [
    "dataset = pd.read_csv('data.csv')\n",
    "dataset[:10]"
   ]
  },
  {
   "cell_type": "markdown",
   "metadata": {},
   "source": [
    "Data fields:\n",
    "- RID: subject's identifier\n",
    "- Hippocampus_volume = normalized volume of the brain region hippocampus\n",
    "- AGE: subject's age\n",
    "- PTGENDER: subject's sex (1 Male, 2 Female)\n",
    "- PTEDUCAT: years of education\n",
    "- ADAS11: clinical score (Alzheimer's disease assessment scale)\n",
    "- FDG: measure of average brain metabolism\n",
    "- DX: clinical diagnosis. In order to severity we have NL (normal), MCI (mild cognitive impairment), and Dementia"
   ]
  },
  {
   "cell_type": "markdown",
   "metadata": {},
   "source": [
    "__Exercise 1 (2 pts).__ Estimate mean and standard deviation for the classification accuracy of the algorithms Logistic Regression and Nearest Neighbours classifier for predicting clinical diagnosis based on the variables Hippocampus_volume, AGE, PTGENDER, PTEDUCAT, ADAS11, and FDG. (use at least 1000 repetitions)"
   ]
  },
  {
   "cell_type": "code",
   "execution_count": 3,
   "metadata": {},
   "outputs": [],
   "source": [
    "pred_cols = [\"Hippocampus_volume\", \"AGE\", \"PTGENDER\", \"PTEDUCAT\", \"ADAS11\", \"FDG\"]\n",
    "target = \"DX\"\n",
    "\n",
    "X = dataset[pred_cols]\n",
    "y = pd.Categorical(dataset[target]).codes\n"
   ]
  },
  {
   "cell_type": "markdown",
   "metadata": {},
   "source": [
    "Setting `n_repeats = 1000` would take ~12 minutes to run, so if n_repeats < 1000, it is because I didn't have enough time."
   ]
  },
  {
   "cell_type": "code",
   "execution_count": 4,
   "metadata": {},
   "outputs": [],
   "source": [
    "n_repeats = 100\n",
    "rkf = RepeatedKFold(n_splits=2, n_repeats=n_repeats)\n",
    "\n",
    "acc = {\"lr\": [], \"knn\": []}\n",
    "\n",
    "lr = LogisticRegression(max_iter=1e4, n_jobs=-1, tol=0.1)\n",
    "knn = KNeighborsClassifier(n_jobs=-1)\n",
    "\n",
    "for train, test in rkf.split(X, y):\n",
    "    X_train, y_train = X.iloc[train], y[train]\n",
    "    X_test, y_test = X.iloc[test], y[test]\n",
    "\n",
    "    # Logistic Regression\n",
    "    lr.fit(X_train, y_train)\n",
    "    y_pred = lr.predict(X_test)\n",
    "    acc[\"lr\"].append(accuracy_score(y_test, y_pred))\n",
    "\n",
    "    # KNN\n",
    "    knn.fit(X_train, y_train)\n",
    "    y_pred = knn.predict(X_test)\n",
    "    acc[\"knn\"].append(accuracy_score(y_test, y_pred))\n"
   ]
  },
  {
   "cell_type": "code",
   "execution_count": 5,
   "metadata": {},
   "outputs": [
    {
     "data": {
      "application/vnd.plotly.v1+json": {
       "config": {
        "plotlyServerURL": "https://plot.ly"
       },
       "data": [
        {
         "alignmentgroup": "True",
         "bingroup": "x",
         "hovertemplate": "variable=lr<br>value=%{x}<br>count=%{y}<extra></extra>",
         "legendgroup": "lr",
         "marker": {
          "color": "#636efa",
          "opacity": 0.5,
          "pattern": {
           "shape": ""
          }
         },
         "name": "lr",
         "offsetgroup": "lr",
         "orientation": "v",
         "showlegend": true,
         "type": "histogram",
         "x": [
          0.6602112676056338,
          0.6843033509700176,
          0.6584507042253521,
          0.6772486772486772,
          0.6566901408450704,
          0.6701940035273368,
          0.6936619718309859,
          0.6455026455026455,
          0.653169014084507,
          0.6684303350970018,
          0.6883802816901409,
          0.654320987654321,
          0.6830985915492958,
          0.6631393298059964,
          0.6549295774647887,
          0.6860670194003528,
          0.6566901408450704,
          0.6807760141093474,
          0.6725352112676056,
          0.6666666666666666,
          0.6901408450704225,
          0.6472663139329806,
          0.6584507042253521,
          0.6649029982363316,
          0.6883802816901409,
          0.6684303350970018,
          0.6584507042253521,
          0.6507936507936508,
          0.670774647887324,
          0.671957671957672,
          0.6672535211267606,
          0.6772486772486772,
          0.653169014084507,
          0.6807760141093474,
          0.6654929577464789,
          0.6472663139329806,
          0.670774647887324,
          0.671957671957672,
          0.6549295774647887,
          0.6666666666666666,
          0.6619718309859155,
          0.6701940035273368,
          0.6725352112676056,
          0.6490299823633157,
          0.6549295774647887,
          0.6684303350970018,
          0.6443661971830986,
          0.6931216931216931,
          0.6830985915492958,
          0.6384479717813051,
          0.6637323943661971,
          0.6807760141093474,
          0.6426056338028169,
          0.6966490299823633,
          0.6919014084507042,
          0.6525573192239859,
          0.6813380281690141,
          0.6631393298059964,
          0.6602112676056338,
          0.654320987654321,
          0.6742957746478874,
          0.6754850088183422,
          0.6866197183098591,
          0.6613756613756614,
          0.6778169014084507,
          0.6666666666666666,
          0.676056338028169,
          0.6701940035273368,
          0.6795774647887324,
          0.6578483245149912,
          0.6725352112676056,
          0.6596119929453262,
          0.6619718309859155,
          0.6825396825396826,
          0.6566901408450704,
          0.6860670194003528,
          0.6426056338028169,
          0.6825396825396826,
          0.6584507042253521,
          0.6684303350970018,
          0.6778169014084507,
          0.6684303350970018,
          0.6373239436619719,
          0.6966490299823633,
          0.6496478873239436,
          0.6772486772486772,
          0.653169014084507,
          0.6843033509700176,
          0.6830985915492958,
          0.6596119929453262,
          0.6602112676056338,
          0.6649029982363316,
          0.6338028169014085,
          0.6807760141093474,
          0.6602112676056338,
          0.6754850088183422,
          0.6619718309859155,
          0.6772486772486772,
          0.6619718309859155,
          0.6860670194003528,
          0.6883802816901409,
          0.6507936507936508,
          0.6672535211267606,
          0.6649029982363316,
          0.6443661971830986,
          0.6649029982363316,
          0.698943661971831,
          0.6331569664902998,
          0.6725352112676056,
          0.6666666666666666,
          0.647887323943662,
          0.6772486772486772,
          0.6514084507042254,
          0.6948853615520282,
          0.6549295774647887,
          0.6843033509700176,
          0.6619718309859155,
          0.6843033509700176,
          0.6514084507042254,
          0.6790123456790124,
          0.647887323943662,
          0.6790123456790124,
          0.6725352112676056,
          0.6578483245149912,
          0.6496478873239436,
          0.691358024691358,
          0.6901408450704225,
          0.6472663139329806,
          0.6813380281690141,
          0.6225749559082893,
          0.6795774647887324,
          0.6631393298059964,
          0.6672535211267606,
          0.6507936507936508,
          0.6672535211267606,
          0.6596119929453262,
          0.6830985915492958,
          0.6684303350970018,
          0.6584507042253521,
          0.671957671957672,
          0.6919014084507042,
          0.6472663139329806,
          0.6619718309859155,
          0.671957671957672,
          0.6619718309859155,
          0.6807760141093474,
          0.6619718309859155,
          0.6772486772486772,
          0.6725352112676056,
          0.6701940035273368,
          0.6267605633802817,
          0.7178130511463845,
          0.6672535211267606,
          0.6825396825396826,
          0.6619718309859155,
          0.6984126984126984,
          0.653169014084507,
          0.6754850088183422,
          0.6654929577464789,
          0.6613756613756614,
          0.6690140845070423,
          0.6807760141093474,
          0.6742957746478874,
          0.6578483245149912,
          0.6672535211267606,
          0.6754850088183422,
          0.6830985915492958,
          0.6490299823633157,
          0.676056338028169,
          0.656084656084656,
          0.6584507042253521,
          0.656084656084656,
          0.6549295774647887,
          0.6684303350970018,
          0.6461267605633803,
          0.7001763668430335,
          0.6637323943661971,
          0.6843033509700176,
          0.6320422535211268,
          0.6878306878306878,
          0.6566901408450704,
          0.6860670194003528,
          0.6742957746478874,
          0.6754850088183422,
          0.6725352112676056,
          0.6754850088183422,
          0.6320422535211268,
          0.6772486772486772,
          0.6901408450704225,
          0.6384479717813051,
          0.6584507042253521,
          0.6807760141093474,
          0.6584507042253521,
          0.6649029982363316,
          0.6690140845070423,
          0.6772486772486772,
          0.6584507042253521,
          0.6825396825396826,
          0.6813380281690141,
          0.6701940035273368
         ],
         "xaxis": "x",
         "yaxis": "y"
        },
        {
         "alignmentgroup": "True",
         "bingroup": "x",
         "hovertemplate": "variable=knn<br>value=%{x}<br>count=%{y}<extra></extra>",
         "legendgroup": "knn",
         "marker": {
          "color": "#EF553B",
          "opacity": 0.5,
          "pattern": {
           "shape": ""
          }
         },
         "name": "knn",
         "offsetgroup": "knn",
         "orientation": "v",
         "showlegend": true,
         "type": "histogram",
         "x": [
          0.6302816901408451,
          0.6296296296296297,
          0.5933098591549296,
          0.6472663139329806,
          0.5933098591549296,
          0.6472663139329806,
          0.6302816901408451,
          0.5855379188712522,
          0.6126760563380281,
          0.6031746031746031,
          0.6285211267605634,
          0.6172839506172839,
          0.6091549295774648,
          0.6313932980599647,
          0.6285211267605634,
          0.63668430335097,
          0.6003521126760564,
          0.6084656084656085,
          0.6373239436619719,
          0.654320987654321,
          0.6267605633802817,
          0.6296296296296297,
          0.602112676056338,
          0.6243386243386243,
          0.6302816901408451,
          0.6261022927689595,
          0.6073943661971831,
          0.6331569664902998,
          0.6214788732394366,
          0.599647266313933,
          0.6161971830985915,
          0.6155202821869489,
          0.6056338028169014,
          0.6578483245149912,
          0.5845070422535211,
          0.6208112874779541,
          0.6197183098591549,
          0.6296296296296297,
          0.6355633802816901,
          0.6278659611992945,
          0.6038732394366197,
          0.6014109347442681,
          0.6197183098591549,
          0.6084656084656085,
          0.6091549295774648,
          0.6261022927689595,
          0.6232394366197183,
          0.63668430335097,
          0.6214788732394366,
          0.6137566137566137,
          0.6285211267605634,
          0.6261022927689595,
          0.6091549295774648,
          0.6049382716049383,
          0.6197183098591549,
          0.6067019400352733,
          0.6073943661971831,
          0.6437389770723104,
          0.6232394366197183,
          0.6014109347442681,
          0.5950704225352113,
          0.6137566137566137,
          0.6302816901408451,
          0.6049382716049383,
          0.6461267605633803,
          0.6119929453262787,
          0.5827464788732394,
          0.6278659611992945,
          0.6232394366197183,
          0.63668430335097,
          0.6267605633802817,
          0.6313932980599647,
          0.6514084507042254,
          0.6331569664902998,
          0.6338028169014085,
          0.654320987654321,
          0.6373239436619719,
          0.6190476190476191,
          0.6144366197183099,
          0.6313932980599647,
          0.625,
          0.6119929453262787,
          0.6267605633802817,
          0.6119929453262787,
          0.6126760563380281,
          0.6349206349206349,
          0.6179577464788732,
          0.6172839506172839,
          0.6373239436619719,
          0.5943562610229277,
          0.6126760563380281,
          0.6490299823633157,
          0.6161971830985915,
          0.5961199294532628,
          0.6514084507042254,
          0.6384479717813051,
          0.6197183098591549,
          0.599647266313933,
          0.6443661971830986,
          0.6084656084656085,
          0.6197183098591549,
          0.6102292768959435,
          0.6320422535211268,
          0.6384479717813051,
          0.6267605633802817,
          0.63668430335097,
          0.6073943661971831,
          0.6102292768959435,
          0.6144366197183099,
          0.6137566137566137,
          0.6355633802816901,
          0.6084656084656085,
          0.596830985915493,
          0.6031746031746031,
          0.6355633802816901,
          0.6261022927689595,
          0.6179577464788732,
          0.6137566137566137,
          0.6426056338028169,
          0.5978835978835979,
          0.602112676056338,
          0.6402116402116402,
          0.6197183098591549,
          0.6014109347442681,
          0.6338028169014085,
          0.6172839506172839,
          0.6373239436619719,
          0.6243386243386243,
          0.5950704225352113,
          0.6049382716049383,
          0.6091549295774648,
          0.6419753086419753,
          0.6390845070422535,
          0.5961199294532628,
          0.6214788732394366,
          0.6243386243386243,
          0.6091549295774648,
          0.6208112874779541,
          0.5862676056338029,
          0.6331569664902998,
          0.6461267605633803,
          0.6349206349206349,
          0.6285211267605634,
          0.6349206349206349,
          0.6232394366197183,
          0.6208112874779541,
          0.6302816901408451,
          0.6049382716049383,
          0.6144366197183099,
          0.6455026455026455,
          0.6320422535211268,
          0.6402116402116402,
          0.6126760563380281,
          0.6490299823633157,
          0.602112676056338,
          0.63668430335097,
          0.6285211267605634,
          0.5855379188712522,
          0.6038732394366197,
          0.6155202821869489,
          0.6320422535211268,
          0.6313932980599647,
          0.6232394366197183,
          0.63668430335097,
          0.6373239436619719,
          0.6296296296296297,
          0.6214788732394366,
          0.6031746031746031,
          0.6373239436619719,
          0.6137566137566137,
          0.5985915492957746,
          0.6119929453262787,
          0.6355633802816901,
          0.6278659611992945,
          0.6038732394366197,
          0.656084656084656,
          0.6338028169014085,
          0.6313932980599647,
          0.6197183098591549,
          0.5978835978835979,
          0.6320422535211268,
          0.6507936507936508,
          0.6161971830985915,
          0.6031746031746031,
          0.6285211267605634,
          0.6349206349206349,
          0.6003521126760564,
          0.5837742504409171,
          0.6003521126760564,
          0.6014109347442681,
          0.6073943661971831,
          0.6313932980599647,
          0.6496478873239436,
          0.5925925925925926,
          0.6373239436619719,
          0.6084656084656085,
          0.6126760563380281,
          0.6296296296296297,
          0.6566901408450704,
          0.6384479717813051
         ],
         "xaxis": "x",
         "yaxis": "y"
        }
       ],
       "layout": {
        "barmode": "overlay",
        "legend": {
         "title": {
          "text": "variable"
         },
         "tracegroupgap": 0
        },
        "margin": {
         "t": 60
        },
        "template": {
         "data": {
          "bar": [
           {
            "error_x": {
             "color": "#2a3f5f"
            },
            "error_y": {
             "color": "#2a3f5f"
            },
            "marker": {
             "line": {
              "color": "white",
              "width": 0.5
             },
             "pattern": {
              "fillmode": "overlay",
              "size": 10,
              "solidity": 0.2
             }
            },
            "type": "bar"
           }
          ],
          "barpolar": [
           {
            "marker": {
             "line": {
              "color": "white",
              "width": 0.5
             },
             "pattern": {
              "fillmode": "overlay",
              "size": 10,
              "solidity": 0.2
             }
            },
            "type": "barpolar"
           }
          ],
          "carpet": [
           {
            "aaxis": {
             "endlinecolor": "#2a3f5f",
             "gridcolor": "#C8D4E3",
             "linecolor": "#C8D4E3",
             "minorgridcolor": "#C8D4E3",
             "startlinecolor": "#2a3f5f"
            },
            "baxis": {
             "endlinecolor": "#2a3f5f",
             "gridcolor": "#C8D4E3",
             "linecolor": "#C8D4E3",
             "minorgridcolor": "#C8D4E3",
             "startlinecolor": "#2a3f5f"
            },
            "type": "carpet"
           }
          ],
          "choropleth": [
           {
            "colorbar": {
             "outlinewidth": 0,
             "ticks": ""
            },
            "type": "choropleth"
           }
          ],
          "contour": [
           {
            "colorbar": {
             "outlinewidth": 0,
             "ticks": ""
            },
            "colorscale": [
             [
              0,
              "#0d0887"
             ],
             [
              0.1111111111111111,
              "#46039f"
             ],
             [
              0.2222222222222222,
              "#7201a8"
             ],
             [
              0.3333333333333333,
              "#9c179e"
             ],
             [
              0.4444444444444444,
              "#bd3786"
             ],
             [
              0.5555555555555556,
              "#d8576b"
             ],
             [
              0.6666666666666666,
              "#ed7953"
             ],
             [
              0.7777777777777778,
              "#fb9f3a"
             ],
             [
              0.8888888888888888,
              "#fdca26"
             ],
             [
              1,
              "#f0f921"
             ]
            ],
            "type": "contour"
           }
          ],
          "contourcarpet": [
           {
            "colorbar": {
             "outlinewidth": 0,
             "ticks": ""
            },
            "type": "contourcarpet"
           }
          ],
          "heatmap": [
           {
            "colorbar": {
             "outlinewidth": 0,
             "ticks": ""
            },
            "colorscale": [
             [
              0,
              "#0d0887"
             ],
             [
              0.1111111111111111,
              "#46039f"
             ],
             [
              0.2222222222222222,
              "#7201a8"
             ],
             [
              0.3333333333333333,
              "#9c179e"
             ],
             [
              0.4444444444444444,
              "#bd3786"
             ],
             [
              0.5555555555555556,
              "#d8576b"
             ],
             [
              0.6666666666666666,
              "#ed7953"
             ],
             [
              0.7777777777777778,
              "#fb9f3a"
             ],
             [
              0.8888888888888888,
              "#fdca26"
             ],
             [
              1,
              "#f0f921"
             ]
            ],
            "type": "heatmap"
           }
          ],
          "heatmapgl": [
           {
            "colorbar": {
             "outlinewidth": 0,
             "ticks": ""
            },
            "colorscale": [
             [
              0,
              "#0d0887"
             ],
             [
              0.1111111111111111,
              "#46039f"
             ],
             [
              0.2222222222222222,
              "#7201a8"
             ],
             [
              0.3333333333333333,
              "#9c179e"
             ],
             [
              0.4444444444444444,
              "#bd3786"
             ],
             [
              0.5555555555555556,
              "#d8576b"
             ],
             [
              0.6666666666666666,
              "#ed7953"
             ],
             [
              0.7777777777777778,
              "#fb9f3a"
             ],
             [
              0.8888888888888888,
              "#fdca26"
             ],
             [
              1,
              "#f0f921"
             ]
            ],
            "type": "heatmapgl"
           }
          ],
          "histogram": [
           {
            "marker": {
             "pattern": {
              "fillmode": "overlay",
              "size": 10,
              "solidity": 0.2
             }
            },
            "type": "histogram"
           }
          ],
          "histogram2d": [
           {
            "colorbar": {
             "outlinewidth": 0,
             "ticks": ""
            },
            "colorscale": [
             [
              0,
              "#0d0887"
             ],
             [
              0.1111111111111111,
              "#46039f"
             ],
             [
              0.2222222222222222,
              "#7201a8"
             ],
             [
              0.3333333333333333,
              "#9c179e"
             ],
             [
              0.4444444444444444,
              "#bd3786"
             ],
             [
              0.5555555555555556,
              "#d8576b"
             ],
             [
              0.6666666666666666,
              "#ed7953"
             ],
             [
              0.7777777777777778,
              "#fb9f3a"
             ],
             [
              0.8888888888888888,
              "#fdca26"
             ],
             [
              1,
              "#f0f921"
             ]
            ],
            "type": "histogram2d"
           }
          ],
          "histogram2dcontour": [
           {
            "colorbar": {
             "outlinewidth": 0,
             "ticks": ""
            },
            "colorscale": [
             [
              0,
              "#0d0887"
             ],
             [
              0.1111111111111111,
              "#46039f"
             ],
             [
              0.2222222222222222,
              "#7201a8"
             ],
             [
              0.3333333333333333,
              "#9c179e"
             ],
             [
              0.4444444444444444,
              "#bd3786"
             ],
             [
              0.5555555555555556,
              "#d8576b"
             ],
             [
              0.6666666666666666,
              "#ed7953"
             ],
             [
              0.7777777777777778,
              "#fb9f3a"
             ],
             [
              0.8888888888888888,
              "#fdca26"
             ],
             [
              1,
              "#f0f921"
             ]
            ],
            "type": "histogram2dcontour"
           }
          ],
          "mesh3d": [
           {
            "colorbar": {
             "outlinewidth": 0,
             "ticks": ""
            },
            "type": "mesh3d"
           }
          ],
          "parcoords": [
           {
            "line": {
             "colorbar": {
              "outlinewidth": 0,
              "ticks": ""
             }
            },
            "type": "parcoords"
           }
          ],
          "pie": [
           {
            "automargin": true,
            "type": "pie"
           }
          ],
          "scatter": [
           {
            "marker": {
             "colorbar": {
              "outlinewidth": 0,
              "ticks": ""
             }
            },
            "type": "scatter"
           }
          ],
          "scatter3d": [
           {
            "line": {
             "colorbar": {
              "outlinewidth": 0,
              "ticks": ""
             }
            },
            "marker": {
             "colorbar": {
              "outlinewidth": 0,
              "ticks": ""
             }
            },
            "type": "scatter3d"
           }
          ],
          "scattercarpet": [
           {
            "marker": {
             "colorbar": {
              "outlinewidth": 0,
              "ticks": ""
             }
            },
            "type": "scattercarpet"
           }
          ],
          "scattergeo": [
           {
            "marker": {
             "colorbar": {
              "outlinewidth": 0,
              "ticks": ""
             }
            },
            "type": "scattergeo"
           }
          ],
          "scattergl": [
           {
            "marker": {
             "colorbar": {
              "outlinewidth": 0,
              "ticks": ""
             }
            },
            "type": "scattergl"
           }
          ],
          "scattermapbox": [
           {
            "marker": {
             "colorbar": {
              "outlinewidth": 0,
              "ticks": ""
             }
            },
            "type": "scattermapbox"
           }
          ],
          "scatterpolar": [
           {
            "marker": {
             "colorbar": {
              "outlinewidth": 0,
              "ticks": ""
             }
            },
            "type": "scatterpolar"
           }
          ],
          "scatterpolargl": [
           {
            "marker": {
             "colorbar": {
              "outlinewidth": 0,
              "ticks": ""
             }
            },
            "type": "scatterpolargl"
           }
          ],
          "scatterternary": [
           {
            "marker": {
             "colorbar": {
              "outlinewidth": 0,
              "ticks": ""
             }
            },
            "type": "scatterternary"
           }
          ],
          "surface": [
           {
            "colorbar": {
             "outlinewidth": 0,
             "ticks": ""
            },
            "colorscale": [
             [
              0,
              "#0d0887"
             ],
             [
              0.1111111111111111,
              "#46039f"
             ],
             [
              0.2222222222222222,
              "#7201a8"
             ],
             [
              0.3333333333333333,
              "#9c179e"
             ],
             [
              0.4444444444444444,
              "#bd3786"
             ],
             [
              0.5555555555555556,
              "#d8576b"
             ],
             [
              0.6666666666666666,
              "#ed7953"
             ],
             [
              0.7777777777777778,
              "#fb9f3a"
             ],
             [
              0.8888888888888888,
              "#fdca26"
             ],
             [
              1,
              "#f0f921"
             ]
            ],
            "type": "surface"
           }
          ],
          "table": [
           {
            "cells": {
             "fill": {
              "color": "#EBF0F8"
             },
             "line": {
              "color": "white"
             }
            },
            "header": {
             "fill": {
              "color": "#C8D4E3"
             },
             "line": {
              "color": "white"
             }
            },
            "type": "table"
           }
          ]
         },
         "layout": {
          "annotationdefaults": {
           "arrowcolor": "#2a3f5f",
           "arrowhead": 0,
           "arrowwidth": 1
          },
          "autotypenumbers": "strict",
          "coloraxis": {
           "colorbar": {
            "outlinewidth": 0,
            "ticks": ""
           }
          },
          "colorscale": {
           "diverging": [
            [
             0,
             "#8e0152"
            ],
            [
             0.1,
             "#c51b7d"
            ],
            [
             0.2,
             "#de77ae"
            ],
            [
             0.3,
             "#f1b6da"
            ],
            [
             0.4,
             "#fde0ef"
            ],
            [
             0.5,
             "#f7f7f7"
            ],
            [
             0.6,
             "#e6f5d0"
            ],
            [
             0.7,
             "#b8e186"
            ],
            [
             0.8,
             "#7fbc41"
            ],
            [
             0.9,
             "#4d9221"
            ],
            [
             1,
             "#276419"
            ]
           ],
           "sequential": [
            [
             0,
             "#0d0887"
            ],
            [
             0.1111111111111111,
             "#46039f"
            ],
            [
             0.2222222222222222,
             "#7201a8"
            ],
            [
             0.3333333333333333,
             "#9c179e"
            ],
            [
             0.4444444444444444,
             "#bd3786"
            ],
            [
             0.5555555555555556,
             "#d8576b"
            ],
            [
             0.6666666666666666,
             "#ed7953"
            ],
            [
             0.7777777777777778,
             "#fb9f3a"
            ],
            [
             0.8888888888888888,
             "#fdca26"
            ],
            [
             1,
             "#f0f921"
            ]
           ],
           "sequentialminus": [
            [
             0,
             "#0d0887"
            ],
            [
             0.1111111111111111,
             "#46039f"
            ],
            [
             0.2222222222222222,
             "#7201a8"
            ],
            [
             0.3333333333333333,
             "#9c179e"
            ],
            [
             0.4444444444444444,
             "#bd3786"
            ],
            [
             0.5555555555555556,
             "#d8576b"
            ],
            [
             0.6666666666666666,
             "#ed7953"
            ],
            [
             0.7777777777777778,
             "#fb9f3a"
            ],
            [
             0.8888888888888888,
             "#fdca26"
            ],
            [
             1,
             "#f0f921"
            ]
           ]
          },
          "colorway": [
           "#636efa",
           "#EF553B",
           "#00cc96",
           "#ab63fa",
           "#FFA15A",
           "#19d3f3",
           "#FF6692",
           "#B6E880",
           "#FF97FF",
           "#FECB52"
          ],
          "font": {
           "color": "#2a3f5f"
          },
          "geo": {
           "bgcolor": "white",
           "lakecolor": "white",
           "landcolor": "white",
           "showlakes": true,
           "showland": true,
           "subunitcolor": "#C8D4E3"
          },
          "hoverlabel": {
           "align": "left"
          },
          "hovermode": "closest",
          "mapbox": {
           "style": "light"
          },
          "paper_bgcolor": "white",
          "plot_bgcolor": "white",
          "polar": {
           "angularaxis": {
            "gridcolor": "#EBF0F8",
            "linecolor": "#EBF0F8",
            "ticks": ""
           },
           "bgcolor": "white",
           "radialaxis": {
            "gridcolor": "#EBF0F8",
            "linecolor": "#EBF0F8",
            "ticks": ""
           }
          },
          "scene": {
           "xaxis": {
            "backgroundcolor": "white",
            "gridcolor": "#DFE8F3",
            "gridwidth": 2,
            "linecolor": "#EBF0F8",
            "showbackground": true,
            "ticks": "",
            "zerolinecolor": "#EBF0F8"
           },
           "yaxis": {
            "backgroundcolor": "white",
            "gridcolor": "#DFE8F3",
            "gridwidth": 2,
            "linecolor": "#EBF0F8",
            "showbackground": true,
            "ticks": "",
            "zerolinecolor": "#EBF0F8"
           },
           "zaxis": {
            "backgroundcolor": "white",
            "gridcolor": "#DFE8F3",
            "gridwidth": 2,
            "linecolor": "#EBF0F8",
            "showbackground": true,
            "ticks": "",
            "zerolinecolor": "#EBF0F8"
           }
          },
          "shapedefaults": {
           "line": {
            "color": "#2a3f5f"
           }
          },
          "ternary": {
           "aaxis": {
            "gridcolor": "#DFE8F3",
            "linecolor": "#A2B1C6",
            "ticks": ""
           },
           "baxis": {
            "gridcolor": "#DFE8F3",
            "linecolor": "#A2B1C6",
            "ticks": ""
           },
           "bgcolor": "white",
           "caxis": {
            "gridcolor": "#DFE8F3",
            "linecolor": "#A2B1C6",
            "ticks": ""
           }
          },
          "title": {
           "x": 0.05
          },
          "xaxis": {
           "automargin": true,
           "gridcolor": "#EBF0F8",
           "linecolor": "#EBF0F8",
           "ticks": "",
           "title": {
            "standoff": 15
           },
           "zerolinecolor": "#EBF0F8",
           "zerolinewidth": 2
          },
          "yaxis": {
           "automargin": true,
           "gridcolor": "#EBF0F8",
           "linecolor": "#EBF0F8",
           "ticks": "",
           "title": {
            "standoff": 15
           },
           "zerolinecolor": "#EBF0F8",
           "zerolinewidth": 2
          }
         }
        },
        "xaxis": {
         "anchor": "y",
         "domain": [
          0,
          1
         ],
         "title": {
          "text": "value"
         }
        },
        "yaxis": {
         "anchor": "x",
         "domain": [
          0,
          1
         ],
         "title": {
          "text": "count"
         }
        }
       }
      }
     },
     "metadata": {},
     "output_type": "display_data"
    }
   ],
   "source": [
    "df_acc = pd.DataFrame(acc)\n",
    "px.histogram(df_acc, barmode=\"overlay\")"
   ]
  },
  {
   "cell_type": "code",
   "execution_count": 6,
   "metadata": {},
   "outputs": [
    {
     "name": "stdout",
     "output_type": "stream",
     "text": [
      "---> Estimate of the mean\n",
      "lr     0.667738\n",
      "knn    0.621199\n",
      "dtype: float64\n",
      "\n",
      "---> Estimate of the std\n",
      "lr     0.015562\n",
      "knn    0.016604\n",
      "dtype: float64\n"
     ]
    }
   ],
   "source": [
    "print(\"---> Estimate of the mean\")\n",
    "print(df_acc.mean())\n",
    "print()\n",
    "\n",
    "print(\"---> Estimate of the std\")\n",
    "print(df_acc.std())"
   ]
  },
  {
   "cell_type": "markdown",
   "metadata": {},
   "source": [
    "__Exercise 2 (1.5 pts).__ Use boostrap to estimate the significance of the difference between the accuracy of Logistic regression and the one of Nearest Neighbours."
   ]
  },
  {
   "cell_type": "code",
   "execution_count": 7,
   "metadata": {},
   "outputs": [],
   "source": [
    "def compute_t(x, y):\n",
    "    \"\"\"\n",
    "    Computes the t-statistic\n",
    "    \"\"\"\n",
    "    # Compute mean\n",
    "    mean_x = np.mean(x)\n",
    "    mean_y = np.mean(y)\n",
    "\n",
    "    # Compute var\n",
    "    sigma2_x = np.var(x)\n",
    "    sigma2_y = np.var(y)\n",
    "\n",
    "    return (mean_x - mean_y) / np.sqrt(sigma2_x / len(x) + sigma2_y / len(y))\n",
    "\n",
    "\n",
    "def center_concat_data(x, y):\n",
    "    \"\"\"\n",
    "    Computes the centered data of the x and y distributions\n",
    "    \"\"\"\n",
    "\n",
    "    # Center with respect to the concatenation of both distributions\n",
    "    z = np.concatenate([x, y])\n",
    "    mean_x = np.mean(x)\n",
    "    mean_y = np.mean(y)\n",
    "\n",
    "    # Translate the data with respect to the mean of z\n",
    "    x_tilde = x - mean_x + np.mean(z)\n",
    "    y_tilde = y - mean_y + np.mean(z)\n",
    "\n",
    "    return x_tilde, y_tilde\n",
    "\n",
    "\n",
    "def compute_t_boot(x, y, n_reps):\n",
    "    \"\"\"\n",
    "    Computes the bootstrapped t statistics for two distributions x and y\n",
    "    \"\"\"\n",
    "\n",
    "    t_boot = []\n",
    "\n",
    "    # Computate centered x and y\n",
    "    x_tilde, y_tilde = center_concat_data(x, y)\n",
    "\n",
    "    # Generate `n_reps` bootstrapped samples from concatenation of centered x and y\n",
    "    z_tilde = np.concatenate([x_tilde, y_tilde])\n",
    "    boot_samples = np.random.choice(\n",
    "        a=z_tilde,\n",
    "        size=(n_reps, len(x) + len(y)),\n",
    "        replace=True,\n",
    "    )\n",
    "\n",
    "    # compute the t statistic for each bootstrapped sample\n",
    "    for i in range(n_reps):\n",
    "        x_sim = boot_samples[i, : len(x)]  # first len(x) samples of i-th boot replicate\n",
    "        y_sim = boot_samples[i, len(x) :]  # the rest of the i-th boot replicate\n",
    "        t_boot.append(compute_t(x_sim, y_sim))\n",
    "    return t_boot\n",
    "\n",
    "\n",
    "def plot_null_distr(t_obs, t_boot):\n",
    "    \"\"\"\n",
    "    Plots the null hypothesis distribution\n",
    "    \"\"\"\n",
    "    fig = px.histogram(pd.Series(t_boot, name=\"Null distribution\"))\n",
    "    fig.add_vline(\n",
    "        x=t_obs,\n",
    "        line_dash=\"dot\",\n",
    "        annotation_text=\"Observed t\",\n",
    "        annotation_position=\"top\",\n",
    "        annotation_font_size=20,\n",
    "        annotation_font_color=\"black\",\n",
    "    )\n",
    "    fig.update_layout(showlegend=True)\n",
    "    fig.show()\n"
   ]
  },
  {
   "cell_type": "code",
   "execution_count": 8,
   "metadata": {},
   "outputs": [
    {
     "data": {
      "application/vnd.plotly.v1+json": {
       "config": {
        "plotlyServerURL": "https://plot.ly"
       },
       "data": [
        {
         "alignmentgroup": "True",
         "bingroup": "x",
         "hovertemplate": "variable=Null distribution<br>value=%{x}<br>count=%{y}<extra></extra>",
         "legendgroup": "Null distribution",
         "marker": {
          "color": "#636efa",
          "pattern": {
           "shape": ""
          }
         },
         "name": "Null distribution",
         "offsetgroup": "Null distribution",
         "orientation": "v",
         "showlegend": true,
         "type": "histogram",
         "x": [
          -0.9207036595174011,
          -0.1680625737101101,
          1.6598338952091138,
          0.05210461773760202,
          -0.45529275794798096,
          0.6516434406372189,
          1.9496464625303556,
          -1.3446158596361297,
          0.12945934769400716,
          0.5351841461977346,
          -0.24575306237158992,
          -0.3154172085713575,
          0.7840038907488593,
          1.3429900391504703,
          -0.33110817272441406,
          0.9422952826928535,
          -0.012112104560813523,
          0.5927795968984144,
          -1.072187035536728,
          -1.4037200852954936,
          0.6134342991776859,
          -0.08102629904321203,
          -0.3387168476584484,
          -0.29517119726097646,
          -0.20959090640240077,
          -1.4396955540747627,
          0.15860418997358547,
          -1.265386412610127,
          -0.2396831470211783,
          0.26833124723028334,
          -2.553732649116135,
          -0.011246720032425146,
          -1.3543159588058649,
          -1.517461562714664,
          -1.5160097564260528,
          0.8005508634764466,
          -0.4238708610325355,
          1.0888967891732102,
          0.6187973901848629,
          1.2653695815173478,
          -0.770468808210453,
          -0.3222120334471338,
          0.4447514677471892,
          0.23926702786513995,
          0.8464147184552185,
          -0.9329093334236548,
          0.06997576428037168,
          -0.3981980744310584,
          -0.8916626529616383,
          -1.1764770455482612,
          -0.8813608666181306,
          -0.8565614984277536,
          1.7550728784949607,
          -1.1205779923149688,
          0.37640929586523203,
          0.956108444577646,
          1.5371302554689674,
          1.4648065165324784,
          -1.7937107754728072,
          -2.234523049612579,
          -0.0733712180908691,
          -1.3124023558012397,
          -0.812590293535954,
          0.8235011791301861,
          2.128101686737567,
          -0.7582457450634439,
          -0.7616279068985499,
          0.1388803269241413,
          -1.5902090216171627,
          -2.129704179876499,
          0.34458594582533136,
          -1.533183010496876,
          1.1245946342051187,
          -0.14391495761526624,
          0.663993210590134,
          0.6950459373029674,
          -0.7658601712248366,
          -1.47676861422319,
          -0.18090003717019293,
          -1.581745244879917,
          -1.0935408870446794,
          -0.6500701377470597,
          1.942527777883254,
          -0.7540239303176991,
          0.7798531920475321,
          1.408242189189021,
          0.40895340511224304,
          -1.2141760419970864,
          0.2975875067919761,
          -0.8405786755407489,
          0.8775508666052062,
          -1.0986717548683522,
          0.04177772880104043,
          -0.002989044259962012,
          -0.05334007757279556,
          1.9834145866150423,
          -0.10521214800269757,
          0.4352150864525423,
          -0.04804079081681359,
          0.6316788045009449,
          -0.7735396514198821,
          -1.0841251695278677,
          1.2315593014134796,
          1.1559084382688487,
          1.8656693150993002,
          -0.9440285413600206,
          -2.6716453237561724,
          0.5434037453659529,
          -0.9299381925001373,
          1.2860807256477333,
          -0.34205442772092964,
          0.731231752971457,
          0.3374703340172064,
          -1.6050062686631381,
          1.03352484550129,
          -0.5230033645742739,
          1.6403342651950883,
          1.0152339475623693,
          -0.24341023018916086,
          -1.8030611395851115,
          -0.612843241391336,
          1.5979403560655574,
          0.05164027510981699,
          -0.18415197750752657,
          -1.3588240019634188,
          0.3161654162931883,
          0.051587894491535106,
          0.2690152225968504,
          -1.5025799525738421,
          0.1008705299315336,
          -1.7496306230805017,
          1.0829926767831382,
          1.6783347147172105,
          0.03779918788744548,
          -0.4912197257170635,
          1.2769655298887232,
          1.0088761262618335,
          -1.1589615499313715,
          0.43798022341204906,
          0.2478785070115491,
          -0.8485578916057179,
          1.4095306304969573,
          1.0206751525339017,
          -0.4982258762667708,
          1.394478298482357,
          -0.5881693553900771,
          -1.743669734368247,
          -0.1382565454616568,
          1.3573090489848714,
          0.28791705641518595,
          1.3320504070313444,
          0.20011142488799571,
          -0.08047179441521046,
          0.7249442747242856,
          -1.2285032117782626,
          0.016848452302065258,
          0.24287870592632504,
          -0.449212612006867,
          -0.15750558408820664,
          -0.8067536798852658,
          -0.6103987356819517,
          -1.2525848876838857,
          1.6406671208902246,
          0.7317575596133173,
          -0.15765180569763604,
          1.075134392824316,
          0.9651572816610803,
          0.16996235135705837,
          1.1613396452087303,
          -2.842194513713966,
          -0.6431577643525506,
          -0.8881895404304635,
          -0.12435870949838393,
          -0.22198888894311222,
          -0.25610988205299273,
          0.5709206414283632,
          0.9557851721363815,
          0.6224623038618956,
          -1.4091767374120976,
          0.18509946412604433,
          1.1572809742642283,
          -1.5023316019703024,
          -1.2957680704873646,
          0.6601690710736208,
          -0.7524661133267364,
          -0.48046003917217395,
          -0.7694632167853002,
          -0.5279440697907093,
          0.7540371458092153,
          -0.575584048476869,
          -1.5759000469904647,
          -0.15294284156803503,
          -2.3982165962226007,
          -0.2792709741157784,
          0.5062664598646908,
          0.9605255658354834,
          0.988352603775231,
          0.18139694594042563,
          0.24738757995010804,
          0.3125490670014372,
          -0.5928351022699822,
          2.4042493321227143,
          0.40507972206992954,
          -0.11785199769659438,
          1.0292294069163177,
          -0.07096917264574491,
          0.5112249702591172,
          0.8631900082727674,
          -1.247304975964865,
          -1.4615334643094948,
          0.1050174296987663,
          -0.012556565671236808,
          -0.686762638634773,
          -0.5517100217433524,
          0.8277933213263132,
          -0.12046752208203726,
          0.46371483578667183,
          0.07631233449654448,
          -0.2897903942777162,
          0.9069983837104929,
          -0.11007224495693081,
          -0.534028890298255,
          0.982061728353248,
          -0.27549895441938654,
          1.6816575121080541,
          -0.011452815785385869,
          0.4452322346114879,
          0.3058312860806702,
          -0.3528210066479769,
          -1.314676006437528,
          -0.4082922618636043,
          1.7957773887671389,
          0.5558009620469045,
          0.16967103969771866,
          2.6402291462978384,
          0.18976533589117173,
          1.3473487819560126,
          -1.2728999695361143,
          -0.1324927197715219,
          -0.19562957497419867,
          0.6262189378807823,
          0.2253321225867382,
          0.6735256990209185,
          1.1376890052093496,
          1.0936793100371753,
          -0.3882811546716215,
          -1.0654894079857484,
          -0.9969617938994331,
          1.1921937881428342,
          0.05425133854250938,
          0.158324173857445,
          -0.9811084634290442,
          -0.7830186637943161,
          -0.656908091304669,
          -0.7108966308119304,
          0.3844522392226079,
          -0.15797696759424165,
          0.18923376164704292,
          0.9032374370688567,
          -1.3046042130714741,
          -0.2596850632704285,
          0.008766518165133914,
          -0.3655968245722361,
          0.9738445693003631,
          -0.32326462334710965,
          -0.7278510314064238,
          -0.13191106194529567,
          -0.1505862074488405,
          -0.5109174239869304,
          -0.09198733068274917,
          0.8778202964666547,
          -0.12267550741458193,
          0.37638514245703764,
          0.15653243931987793,
          0.7055470577486629,
          -0.3193930308257299,
          -0.5638955748721945,
          -1.0469405447596745,
          1.0949457393998205,
          0.8325448422231658,
          0.5343933235637444,
          0.3615587751925816,
          1.6708475650817005,
          1.0745085544695137,
          0.2104375534698991,
          1.8054560727754922,
          -0.09618434974283735,
          0.20585420247546707,
          0.032919296942641715,
          -0.5609354625095473,
          -0.1720249685364085,
          -1.1720241497348927,
          1.3795914258130753,
          -1.0341911818175777,
          0.528161768336656,
          -0.022041274580631213,
          0.5881837328825591,
          -1.4342837453904933,
          1.209946327489279,
          -0.903639207447016,
          -0.1474885432572013,
          0.25805020338340773,
          0.5652797438184667,
          -0.3622880999272426,
          -1.4693848870472541,
          -0.9566913048492254,
          -0.2510107370917754,
          -0.007351109647499845,
          0.5039663330195635,
          -0.2027596908657463,
          1.223302520032451,
          -1.5340858103492319,
          1.0642424347697543,
          -0.3487892610416634,
          1.0449777546214312,
          -1.4764187704286686,
          -0.5723420999420787,
          -0.896647849322658,
          -0.4686191187989538,
          0.09298096174950145,
          0.46259982968646174,
          0.4004138685226407,
          1.0689772511566042,
          -0.5277138595443038,
          0.7271198363182422,
          -0.9449929983184336,
          0.18766732225056346,
          -0.21997314827182793,
          0.46664956266580027,
          -1.030910125373731,
          0.985115118515003,
          -0.04231525783182022,
          -0.8441820041927207,
          -1.061109033426021,
          1.1177091541589923,
          0.8937653277148245,
          -0.44908074575760276,
          -1.1766535145567718,
          1.0205557826185885,
          -0.3132272178592661,
          -0.2059700056943568,
          -1.077364308410849,
          0.3386529765194388,
          1.6021749783397412,
          -0.8541103879422447,
          -0.3177314185859362,
          0.43099052749106354,
          -2.390156361600505,
          0.2692580872283923,
          -1.5109105321162222,
          0.5858056450618554,
          -0.9055603448279821,
          0.3737540847565129,
          0.33910095347329655,
          0.07955194613612625,
          -0.5468579911024208,
          0.18498501393393657,
          0.8357854014525762,
          0.9322301989397178,
          0.21867455213691978,
          -1.1183379328052356,
          -0.6812145117191241,
          -0.5586973331514693,
          -2.1095368431314925,
          -1.127876825050373,
          -0.5157109114100853,
          0.9162774980182115,
          0.29263359802178224,
          0.6272783128001468,
          1.2464270527014778,
          -0.1143093000961899,
          1.924433019200307,
          -0.3895997519431808,
          0.2311822805471351,
          -0.6844916522880233,
          1.7446896149688937,
          -1.8238936712977312,
          -0.40903456633805013,
          -1.6137922891022185,
          1.9523764895984923,
          0.19477992649898918,
          -0.9002563533495083,
          -0.9962790570351346,
          -0.44409159377726537,
          0.9559912414021734,
          -0.04896398739815452,
          0.2213626145314308,
          -0.04464376561634825,
          -0.3683116983002061,
          3.160627543822772,
          0.45193376454787587,
          -0.5106222725718879,
          0.07528695403173515,
          -2.0368763606920783,
          1.2336810756506158,
          -0.7165364146839678,
          0.28123421295983403,
          -0.9613413264707394,
          3.1137680233615037,
          0.009787412627925799,
          -0.1532829900776262,
          -0.1879216902727039,
          -1.6781691852603462,
          -0.903692199637356,
          0.15032871163025768,
          -0.30969929160653503,
          -1.5561728177910241,
          1.9119329806654717,
          0.4833289878143032,
          0.48931144649475145,
          -2.1244368295076517,
          -1.4911789376334592,
          -1.4896322562768987,
          0.5132329990067056,
          -0.7986418253825771,
          0.49456216899539884,
          1.0303277953962888,
          1.3323400604396785,
          0.05760788342749944,
          -0.5203868064617608,
          1.5495303133962068,
          0.12176485604760194,
          -0.5401412178364093,
          -0.31026834928665653,
          1.1128491501495912,
          0.60112664106872,
          -0.40864751015521844,
          0.42617432449762244,
          1.3499277585803595,
          -0.9882057902826826,
          0.895004428719269,
          0.1524520869245166,
          -1.0199208899183863,
          -1.6531184417424665,
          -0.9008834510085032,
          -0.3862140517148161,
          -1.0868208365614493,
          0.6236559855647384,
          0.12450610424825469,
          0.6476148494439629,
          0.6458545259784664,
          1.7708512297621175,
          -0.04166329507496569,
          -1.4650319840568007,
          1.2464855943847695,
          -0.9497381650690011,
          -0.9522580979739709,
          -1.3812954219346885,
          0.978751955360354,
          1.4181082846626631,
          -0.8321668816369813,
          -1.362094425113229,
          -0.9629521822303326,
          0.20315434824801626,
          -1.7203521076021353,
          1.507108058202692,
          -0.12384689178481895,
          0.14367603842425475,
          0.43105452943708916,
          0.3873071596731065,
          0.7425962110828837,
          1.0716626095768098,
          -0.6155624582038154,
          0.25618653150585735,
          -1.3356525851422172,
          1.4917007103084334,
          1.3102715566838856,
          1.0340079453211461,
          0.014508721649437529,
          0.5934994560456456,
          1.0260536998953853,
          0.585404241147462,
          0.5140986025628537,
          0.6301641144338445,
          1.620741527294916,
          0.7678917699042219,
          -1.3703974347503145,
          0.6581089118540514,
          -0.9430804915309378,
          -0.7527868093221399,
          0.11732095908673779,
          0.7031366550187091,
          -0.8577392815158439,
          1.0889780886278737,
          0.45646243920353663,
          1.007735760842575,
          -0.5440274690707223,
          -0.8399490866864757,
          0.8400067819271799,
          -0.2573599034431716,
          1.6290211694879022,
          1.6973412536554033,
          -0.6938413237233111,
          -0.32231396276569174,
          0.7827057022528385,
          1.4348699274603152,
          0.48606529274412713,
          -1.229258015488121,
          1.9995211027330066,
          -0.502228869082418,
          -0.5330072196868098,
          -0.560547288871111,
          -0.11101170288511951,
          0.9188020539462518,
          2.7110321723808535,
          -0.116548709834024,
          0.1391712934051931,
          1.6356794224494886,
          -1.382096916263472,
          -0.6710940069047889,
          0.011075631558547062,
          1.4674907429033492,
          0.11476637503849994,
          2.8854391200254406,
          -0.39104377040438765,
          0.9922035642257078,
          0.4268830696530997,
          -0.8269987522845663,
          1.3722875674802992,
          -0.02518186864622122,
          1.3578690579681791,
          -0.8094949638014556,
          -1.1402522420985928,
          -1.1958435816805992,
          0.4681337668786003,
          -0.9490592489281523,
          1.3487847282585987,
          1.4627524288819627,
          -0.10840090285549679,
          2.413731249422184,
          0.9597405118075375,
          0.8103526062822812,
          2.2766971980665534,
          1.9369919079156044,
          0.7487207768875117,
          0.6362869422718168,
          -0.5197677707739813,
          1.5598151815994306,
          -0.4584891259613262,
          -0.4564823699299445,
          0.2988222532499292,
          -0.7411866336690488,
          -0.1931404809715393,
          -0.9046596751406257,
          2.0817548027812602,
          -1.1967627184231862,
          -1.3207187330858816,
          -0.946421963657624,
          -0.978596039192223,
          0.5363916053733653,
          1.0397226305718608,
          -1.3305201930549633,
          1.790133908682317,
          -1.89530256046524,
          -0.8204903968807258,
          1.6423184602999528,
          -3.182801763398954,
          1.0140146580922818,
          0.46938609497997563,
          -0.05633173803478265,
          1.7540243753106632,
          0.3702126734735072,
          0.1167476476978958,
          1.2994453787315832,
          0.3978838531249346,
          -0.17276114917177104,
          0.7909665979228883,
          1.7587011850612504,
          0.06451385252576113,
          0.8522805204101188,
          0.6474526170341264,
          -1.444169361426004,
          -0.3450495578005021,
          0.1335479276385196,
          -2.382520828021103,
          -1.2176165788332904,
          0.49838319407136394,
          0.715419731440652,
          -0.4413806647960162,
          1.2149667057403626,
          -0.3778000525124729,
          1.2010451240041373,
          -0.20569800536580687,
          0.5346042014766251,
          -0.49721814377873985,
          -1.1045002466806688,
          0.8867106330169691,
          0.7211091462379599,
          0.11810440602919013,
          1.3173974677435627,
          1.4571400726556412,
          -1.2252233772610792,
          0.23903194713855105,
          0.8127195205275477,
          0.7218188958370174,
          -0.24639558280427828,
          -0.10565065843900293,
          1.3740256671813627,
          1.1269391031931102,
          0.05199242723133014,
          1.4820701615607952,
          0.7743436803644647,
          -0.5662801179202747,
          -0.1772486568759145,
          -0.17986757508861043,
          2.571774602688794,
          0.46889278635906684,
          0.35023830490163055,
          0.12576066933585453,
          0.3410040383510671,
          0.9592039363381012,
          -0.6149073257903319,
          1.2615427464352837,
          0.30460829592985506,
          -0.06090412223596512,
          -0.8725366755316003,
          -0.49004818515028215,
          1.4682906312599122,
          0.5344248696611752,
          1.2078760653601774,
          -0.916891720539038,
          -0.36746241277957764,
          -0.2873881470989274,
          0.06940765444290968,
          1.2101940588397002,
          -1.2885622810044408,
          -0.3413567436412564,
          1.138070719062684,
          1.0782306834624873,
          0.8476026217592769,
          0.3044659143644543,
          -0.5748052618768772,
          0.5812710313980058,
          -0.7721120608892528,
          1.002886290367553,
          0.8200960564118537,
          -0.584954968089272,
          -1.530138687569856,
          0.6812925343799908,
          0.491561630476264,
          1.5414984147735675,
          -2.511397679385985,
          -0.7271128000349943,
          -0.17345255864016584,
          -0.016313043979215673,
          -1.4996674393198017,
          1.2019688240693982,
          1.1345875255791973,
          -0.050690959826615964,
          -0.9638189298485822,
          -1.5395186540072576,
          -0.08762730149452656,
          -0.6405002983683659,
          -0.5140984930341611,
          0.4624778062780336,
          -0.735698110718435,
          0.11283526126819896,
          -0.4033168946513754,
          -0.31115738253781994,
          0.2178700716915125,
          -1.7267418005337114,
          0.12214609228818213,
          0.3102112411292987,
          0.7745249268786163,
          -0.19878748336968377,
          -0.732619442180524,
          0.509395508739641,
          1.110733861083555,
          -1.2305593129381092,
          1.0710151042778555,
          -0.376155112957816,
          -1.4063888661089816,
          -0.7606493739336858,
          -0.16056773317481043,
          0.002936062309855649,
          1.9376786253463636,
          -0.03930214388943863,
          0.2294050224803508,
          0.6372767559749684,
          0.20618813364863955,
          0.6455397337589567,
          1.3694705577753123,
          0.12726650304337614,
          -0.6385385634300491,
          0.8450554185093133,
          -1.479791056909211,
          0.8910876355364576,
          -1.4028900652461767,
          -1.4243816028568173,
          0.6669847133583485,
          0.6717397866143545,
          0.6653452194026664,
          0.20864799621731528,
          0.8230723368060188,
          0.55028447147866,
          -0.9797784929225664,
          -1.6659781482060234,
          0.7990368063370618,
          0.7131175653723519,
          1.2845017293462455,
          0.03792763130251084,
          0.01193272613885322,
          -1.258846373656261,
          -0.3079787822036308,
          -1.7424878444051815,
          -0.21777285079539627,
          -0.15806941786991346,
          2.7767270609673096,
          1.3248813154478112,
          1.2342452989994204,
          -0.688874658080692,
          0.35852939029886927,
          -0.6156804164666239,
          -0.42455897953003513,
          0.4913845067806444,
          1.6629102951044081,
          0.6156688479187274,
          -0.5861443248228947,
          0.7198619541223524,
          0.08604383168761084,
          0.23823427890750307,
          1.2563349368832513,
          -0.24566633206219907,
          -2.2263423600144354,
          -0.7490592035844006,
          2.0708029490293147,
          -1.3404284466079712,
          -0.2610551727000105,
          2.03328518953671,
          1.4344097028159362,
          0.34561131319859145,
          -0.5017009054821594,
          -0.10340693639268005,
          -1.5276389763040001,
          -2.06832915792436,
          -0.8281007181464101,
          0.5902594181460467,
          0.43513191272702395,
          -0.1333847492934949,
          -0.26579902487143064,
          -0.250360546078104,
          -0.011157524879846996,
          0.13234918492999986,
          -0.1837341118398104,
          0.5941427314576108,
          -0.12596510130241043,
          -0.420914121249751,
          -0.2236190433877761,
          -1.7168516015665756,
          -0.6831036190715993,
          -1.917018165884922,
          -0.15747312975251415,
          1.1527481284442507,
          2.229485534660644,
          0.23851761798399215,
          -1.6239034186632457,
          0.4360576647423132,
          0.5439096908540116,
          1.4936399757894554,
          -1.2652787038957911,
          -1.0737179510746861,
          3.6033976456748817,
          -0.987665751048672,
          0.8567599853132675,
          -1.7204355367771962,
          0.19120536042055,
          0.8664903339659553,
          0.697466325823933,
          0.88508794557937,
          -1.7498179136265772,
          -0.6245565646788027,
          -1.0604496271068,
          -0.32011743700672507,
          0.3736441526274027,
          1.631620600449444,
          0.04809240882622421,
          -1.544438007280595,
          -0.6239684098762405,
          0.27779149100577044,
          -0.1070907331028139,
          0.4178270829803876,
          0.5198080425702535,
          -0.23520350266655685,
          -0.6611409619603875,
          1.1983629889317542,
          -1.5353256256015118,
          -1.3270618903656257,
          -1.4285067904029252,
          0.9327691638090325,
          1.0075162757233005,
          -1.559760161061129,
          -0.40324969136663014,
          -1.0071404438534584,
          0.22901597489687794,
          1.8447597476529454,
          0.7859612365001026,
          -0.4916393557714758,
          0.17860674712518823,
          0.6831310955377817,
          -1.242917231810178,
          -0.20928754430746163,
          0.736460033963382,
          -0.4672349211218692,
          -0.9235692037980753,
          0.09715584703278253,
          1.0298955953908966,
          0.26256414622327623,
          0.9474112361773344,
          -0.9364512555119111,
          -0.2212615615926471,
          0.694904724340889,
          -0.7515350361176826,
          -1.3738579808393254,
          0.4239434643673233,
          -0.9744548761277441,
          0.05911499833722106,
          0.22647376939316988,
          0.025611813029081214,
          1.0883110869795876,
          0.14067415841332312,
          0.5491055213026265,
          0.9873032381520325,
          -1.8699326624095887,
          -0.33761390498035776,
          0.26250421382625766,
          -0.9980692467638852,
          -0.7925379951316596,
          0.46342317968107544,
          -0.6657387073790558,
          -1.9205975723557633,
          1.1202286853836743,
          0.2664388075660395,
          0.4260870802688694,
          0.053837765508048974,
          -1.159548653257057,
          1.326241537818753,
          0.8609872896002104,
          -0.09026266992561985,
          -0.9106619878527624,
          -1.4767860713239396,
          1.2065505069654956,
          -0.1718498085615672,
          2.06138469518078,
          -0.1919839547162522,
          1.0956197687379108,
          0.7914162137611,
          -0.5496881584003454,
          -0.4953227792417582,
          -1.2797052389454309,
          0.20367330524460348,
          1.583491716161111,
          -0.12016651054003233,
          1.6481251113532451,
          -1.0359480899946978,
          -1.5510317533290399,
          1.1425782500861255,
          0.5802082885090272,
          0.41935917382938226,
          -1.0265967659456376,
          0.5982700285236924,
          -1.7346386699049823,
          -0.2572806053912177,
          -0.10522496775941004,
          -0.1975544805896539,
          -0.6427276059971475,
          0.8289228773026798,
          0.9302023624098842,
          -0.3631533520610147,
          0.024265716141534166,
          0.18038382647639448,
          -0.033969411671474124,
          2.1966720003311035,
          -0.005205061684103291,
          -0.32935647755443864,
          1.9767609740746972,
          1.378751490729629,
          0.55901202837416,
          1.694167673339581,
          0.8423250777715405,
          -1.2917110386544144,
          2.8353028325265983,
          -0.9267532904727198,
          -0.11939947933118951,
          -1.0462762927072407,
          -1.5595543948601147,
          -0.38156488609144407,
          -1.1127508210589743,
          0.3268853734632394,
          0.3907111639699167,
          -0.24969300464324795,
          -0.8251587065903788,
          1.3726354815954118,
          -0.6116543768233139,
          0.5624045885413034,
          0.14824128078497628,
          -0.16168777362007408,
          -0.599858460152005,
          0.633247248870239,
          -0.5505583493289804,
          -0.8108348342675712,
          0.09666265734486029,
          0.025668447246746814,
          1.290009320075358,
          -1.3003710680572689,
          -0.31426243784428476,
          0.5262266696416731,
          1.751065952678384,
          0.40183580856985235,
          -1.6234514535450844,
          0.2589027213774093,
          -0.6706821798220441,
          -0.3921618056411634,
          -0.7745904578511181,
          -0.5435033407955392,
          0.9820699496680109,
          0.1204859995119519,
          1.5093340928543417,
          1.4902884533935383,
          -0.25797831051723563,
          -0.40892607245908713,
          -1.229719677732943,
          -1.1085327874859452,
          -0.06772863145295963,
          -0.7451991808549743,
          1.794035061353906,
          -1.084134940261834,
          1.3994657436992528,
          0.3626118994233162,
          0.5348564496173884,
          -0.7812510432045978,
          -2.4542673775984887,
          0.8300670401707357,
          1.1089341172030958,
          -0.2217201492985445,
          1.3846772235858238,
          -0.7246323341672641,
          -0.15182012244374948,
          -1.2683954587554622,
          -1.4889254465586426,
          0.4659074744506916,
          0.6791229384861356,
          0.9213550012981245,
          -0.5414864108196286,
          -0.4937880681357859,
          0.5294617457694617,
          -0.09695629048746346,
          0.3273247508831059,
          0.8415514702574916,
          0.30539989871524487,
          0.8772961172260136,
          0.3210175607745622,
          0.35891125655745165,
          -0.12768876938120372,
          -1.9028044606058716,
          -1.082051685679284,
          0.22279801933900023,
          0.09787902061040057,
          0.7072581291817361,
          -0.9133038123641182,
          -1.3924595824059327,
          0.5050389165486999,
          -1.0529966322073179,
          1.0840036164371862,
          -0.552008449241337,
          0.7462990432839571,
          0.6797449406738455,
          0.6347281117963839,
          -0.42878030325780847,
          -1.0192360605594708,
          0.975896291450836,
          0.8172874919838233,
          0.3065240944497301,
          -1.5205175068294277,
          -0.17598792206771222,
          -0.2353851412602252,
          -0.2932838324423384,
          -0.4286329503965084,
          1.1425404663280236,
          -0.49534886014156687,
          0.7061587234937474,
          -0.7417968004767707,
          -0.7836588703484239,
          -0.6876810807077165,
          -0.3906078642116312,
          -0.6373819755808986,
          -0.4254409383782911,
          0.1735511852611995,
          -0.683463330142479,
          0.12558380007973588,
          -0.07264164834345145,
          1.0019948759613928,
          1.3747065264266314,
          1.4263488547289003,
          -0.2599584293915425,
          -0.20727725209691783,
          -0.41829671674978647,
          -3.2514798604744133,
          0.8720179453011409,
          0.38118420039374745,
          0.6081283882830041
         ],
         "xaxis": "x",
         "yaxis": "y"
        }
       ],
       "layout": {
        "annotations": [
         {
          "font": {
           "color": "black",
           "size": 20
          },
          "showarrow": false,
          "text": "Observed t",
          "x": 28.993934995480675,
          "xanchor": "center",
          "xref": "x",
          "y": 1,
          "yanchor": "bottom",
          "yref": "y domain"
         }
        ],
        "barmode": "relative",
        "legend": {
         "title": {
          "text": "variable"
         },
         "tracegroupgap": 0
        },
        "margin": {
         "t": 60
        },
        "shapes": [
         {
          "line": {
           "dash": "dot"
          },
          "type": "line",
          "x0": 28.993934995480675,
          "x1": 28.993934995480675,
          "xref": "x",
          "y0": 0,
          "y1": 1,
          "yref": "y domain"
         }
        ],
        "showlegend": true,
        "template": {
         "data": {
          "bar": [
           {
            "error_x": {
             "color": "#2a3f5f"
            },
            "error_y": {
             "color": "#2a3f5f"
            },
            "marker": {
             "line": {
              "color": "white",
              "width": 0.5
             },
             "pattern": {
              "fillmode": "overlay",
              "size": 10,
              "solidity": 0.2
             }
            },
            "type": "bar"
           }
          ],
          "barpolar": [
           {
            "marker": {
             "line": {
              "color": "white",
              "width": 0.5
             },
             "pattern": {
              "fillmode": "overlay",
              "size": 10,
              "solidity": 0.2
             }
            },
            "type": "barpolar"
           }
          ],
          "carpet": [
           {
            "aaxis": {
             "endlinecolor": "#2a3f5f",
             "gridcolor": "#C8D4E3",
             "linecolor": "#C8D4E3",
             "minorgridcolor": "#C8D4E3",
             "startlinecolor": "#2a3f5f"
            },
            "baxis": {
             "endlinecolor": "#2a3f5f",
             "gridcolor": "#C8D4E3",
             "linecolor": "#C8D4E3",
             "minorgridcolor": "#C8D4E3",
             "startlinecolor": "#2a3f5f"
            },
            "type": "carpet"
           }
          ],
          "choropleth": [
           {
            "colorbar": {
             "outlinewidth": 0,
             "ticks": ""
            },
            "type": "choropleth"
           }
          ],
          "contour": [
           {
            "colorbar": {
             "outlinewidth": 0,
             "ticks": ""
            },
            "colorscale": [
             [
              0,
              "#0d0887"
             ],
             [
              0.1111111111111111,
              "#46039f"
             ],
             [
              0.2222222222222222,
              "#7201a8"
             ],
             [
              0.3333333333333333,
              "#9c179e"
             ],
             [
              0.4444444444444444,
              "#bd3786"
             ],
             [
              0.5555555555555556,
              "#d8576b"
             ],
             [
              0.6666666666666666,
              "#ed7953"
             ],
             [
              0.7777777777777778,
              "#fb9f3a"
             ],
             [
              0.8888888888888888,
              "#fdca26"
             ],
             [
              1,
              "#f0f921"
             ]
            ],
            "type": "contour"
           }
          ],
          "contourcarpet": [
           {
            "colorbar": {
             "outlinewidth": 0,
             "ticks": ""
            },
            "type": "contourcarpet"
           }
          ],
          "heatmap": [
           {
            "colorbar": {
             "outlinewidth": 0,
             "ticks": ""
            },
            "colorscale": [
             [
              0,
              "#0d0887"
             ],
             [
              0.1111111111111111,
              "#46039f"
             ],
             [
              0.2222222222222222,
              "#7201a8"
             ],
             [
              0.3333333333333333,
              "#9c179e"
             ],
             [
              0.4444444444444444,
              "#bd3786"
             ],
             [
              0.5555555555555556,
              "#d8576b"
             ],
             [
              0.6666666666666666,
              "#ed7953"
             ],
             [
              0.7777777777777778,
              "#fb9f3a"
             ],
             [
              0.8888888888888888,
              "#fdca26"
             ],
             [
              1,
              "#f0f921"
             ]
            ],
            "type": "heatmap"
           }
          ],
          "heatmapgl": [
           {
            "colorbar": {
             "outlinewidth": 0,
             "ticks": ""
            },
            "colorscale": [
             [
              0,
              "#0d0887"
             ],
             [
              0.1111111111111111,
              "#46039f"
             ],
             [
              0.2222222222222222,
              "#7201a8"
             ],
             [
              0.3333333333333333,
              "#9c179e"
             ],
             [
              0.4444444444444444,
              "#bd3786"
             ],
             [
              0.5555555555555556,
              "#d8576b"
             ],
             [
              0.6666666666666666,
              "#ed7953"
             ],
             [
              0.7777777777777778,
              "#fb9f3a"
             ],
             [
              0.8888888888888888,
              "#fdca26"
             ],
             [
              1,
              "#f0f921"
             ]
            ],
            "type": "heatmapgl"
           }
          ],
          "histogram": [
           {
            "marker": {
             "pattern": {
              "fillmode": "overlay",
              "size": 10,
              "solidity": 0.2
             }
            },
            "type": "histogram"
           }
          ],
          "histogram2d": [
           {
            "colorbar": {
             "outlinewidth": 0,
             "ticks": ""
            },
            "colorscale": [
             [
              0,
              "#0d0887"
             ],
             [
              0.1111111111111111,
              "#46039f"
             ],
             [
              0.2222222222222222,
              "#7201a8"
             ],
             [
              0.3333333333333333,
              "#9c179e"
             ],
             [
              0.4444444444444444,
              "#bd3786"
             ],
             [
              0.5555555555555556,
              "#d8576b"
             ],
             [
              0.6666666666666666,
              "#ed7953"
             ],
             [
              0.7777777777777778,
              "#fb9f3a"
             ],
             [
              0.8888888888888888,
              "#fdca26"
             ],
             [
              1,
              "#f0f921"
             ]
            ],
            "type": "histogram2d"
           }
          ],
          "histogram2dcontour": [
           {
            "colorbar": {
             "outlinewidth": 0,
             "ticks": ""
            },
            "colorscale": [
             [
              0,
              "#0d0887"
             ],
             [
              0.1111111111111111,
              "#46039f"
             ],
             [
              0.2222222222222222,
              "#7201a8"
             ],
             [
              0.3333333333333333,
              "#9c179e"
             ],
             [
              0.4444444444444444,
              "#bd3786"
             ],
             [
              0.5555555555555556,
              "#d8576b"
             ],
             [
              0.6666666666666666,
              "#ed7953"
             ],
             [
              0.7777777777777778,
              "#fb9f3a"
             ],
             [
              0.8888888888888888,
              "#fdca26"
             ],
             [
              1,
              "#f0f921"
             ]
            ],
            "type": "histogram2dcontour"
           }
          ],
          "mesh3d": [
           {
            "colorbar": {
             "outlinewidth": 0,
             "ticks": ""
            },
            "type": "mesh3d"
           }
          ],
          "parcoords": [
           {
            "line": {
             "colorbar": {
              "outlinewidth": 0,
              "ticks": ""
             }
            },
            "type": "parcoords"
           }
          ],
          "pie": [
           {
            "automargin": true,
            "type": "pie"
           }
          ],
          "scatter": [
           {
            "marker": {
             "colorbar": {
              "outlinewidth": 0,
              "ticks": ""
             }
            },
            "type": "scatter"
           }
          ],
          "scatter3d": [
           {
            "line": {
             "colorbar": {
              "outlinewidth": 0,
              "ticks": ""
             }
            },
            "marker": {
             "colorbar": {
              "outlinewidth": 0,
              "ticks": ""
             }
            },
            "type": "scatter3d"
           }
          ],
          "scattercarpet": [
           {
            "marker": {
             "colorbar": {
              "outlinewidth": 0,
              "ticks": ""
             }
            },
            "type": "scattercarpet"
           }
          ],
          "scattergeo": [
           {
            "marker": {
             "colorbar": {
              "outlinewidth": 0,
              "ticks": ""
             }
            },
            "type": "scattergeo"
           }
          ],
          "scattergl": [
           {
            "marker": {
             "colorbar": {
              "outlinewidth": 0,
              "ticks": ""
             }
            },
            "type": "scattergl"
           }
          ],
          "scattermapbox": [
           {
            "marker": {
             "colorbar": {
              "outlinewidth": 0,
              "ticks": ""
             }
            },
            "type": "scattermapbox"
           }
          ],
          "scatterpolar": [
           {
            "marker": {
             "colorbar": {
              "outlinewidth": 0,
              "ticks": ""
             }
            },
            "type": "scatterpolar"
           }
          ],
          "scatterpolargl": [
           {
            "marker": {
             "colorbar": {
              "outlinewidth": 0,
              "ticks": ""
             }
            },
            "type": "scatterpolargl"
           }
          ],
          "scatterternary": [
           {
            "marker": {
             "colorbar": {
              "outlinewidth": 0,
              "ticks": ""
             }
            },
            "type": "scatterternary"
           }
          ],
          "surface": [
           {
            "colorbar": {
             "outlinewidth": 0,
             "ticks": ""
            },
            "colorscale": [
             [
              0,
              "#0d0887"
             ],
             [
              0.1111111111111111,
              "#46039f"
             ],
             [
              0.2222222222222222,
              "#7201a8"
             ],
             [
              0.3333333333333333,
              "#9c179e"
             ],
             [
              0.4444444444444444,
              "#bd3786"
             ],
             [
              0.5555555555555556,
              "#d8576b"
             ],
             [
              0.6666666666666666,
              "#ed7953"
             ],
             [
              0.7777777777777778,
              "#fb9f3a"
             ],
             [
              0.8888888888888888,
              "#fdca26"
             ],
             [
              1,
              "#f0f921"
             ]
            ],
            "type": "surface"
           }
          ],
          "table": [
           {
            "cells": {
             "fill": {
              "color": "#EBF0F8"
             },
             "line": {
              "color": "white"
             }
            },
            "header": {
             "fill": {
              "color": "#C8D4E3"
             },
             "line": {
              "color": "white"
             }
            },
            "type": "table"
           }
          ]
         },
         "layout": {
          "annotationdefaults": {
           "arrowcolor": "#2a3f5f",
           "arrowhead": 0,
           "arrowwidth": 1
          },
          "autotypenumbers": "strict",
          "coloraxis": {
           "colorbar": {
            "outlinewidth": 0,
            "ticks": ""
           }
          },
          "colorscale": {
           "diverging": [
            [
             0,
             "#8e0152"
            ],
            [
             0.1,
             "#c51b7d"
            ],
            [
             0.2,
             "#de77ae"
            ],
            [
             0.3,
             "#f1b6da"
            ],
            [
             0.4,
             "#fde0ef"
            ],
            [
             0.5,
             "#f7f7f7"
            ],
            [
             0.6,
             "#e6f5d0"
            ],
            [
             0.7,
             "#b8e186"
            ],
            [
             0.8,
             "#7fbc41"
            ],
            [
             0.9,
             "#4d9221"
            ],
            [
             1,
             "#276419"
            ]
           ],
           "sequential": [
            [
             0,
             "#0d0887"
            ],
            [
             0.1111111111111111,
             "#46039f"
            ],
            [
             0.2222222222222222,
             "#7201a8"
            ],
            [
             0.3333333333333333,
             "#9c179e"
            ],
            [
             0.4444444444444444,
             "#bd3786"
            ],
            [
             0.5555555555555556,
             "#d8576b"
            ],
            [
             0.6666666666666666,
             "#ed7953"
            ],
            [
             0.7777777777777778,
             "#fb9f3a"
            ],
            [
             0.8888888888888888,
             "#fdca26"
            ],
            [
             1,
             "#f0f921"
            ]
           ],
           "sequentialminus": [
            [
             0,
             "#0d0887"
            ],
            [
             0.1111111111111111,
             "#46039f"
            ],
            [
             0.2222222222222222,
             "#7201a8"
            ],
            [
             0.3333333333333333,
             "#9c179e"
            ],
            [
             0.4444444444444444,
             "#bd3786"
            ],
            [
             0.5555555555555556,
             "#d8576b"
            ],
            [
             0.6666666666666666,
             "#ed7953"
            ],
            [
             0.7777777777777778,
             "#fb9f3a"
            ],
            [
             0.8888888888888888,
             "#fdca26"
            ],
            [
             1,
             "#f0f921"
            ]
           ]
          },
          "colorway": [
           "#636efa",
           "#EF553B",
           "#00cc96",
           "#ab63fa",
           "#FFA15A",
           "#19d3f3",
           "#FF6692",
           "#B6E880",
           "#FF97FF",
           "#FECB52"
          ],
          "font": {
           "color": "#2a3f5f"
          },
          "geo": {
           "bgcolor": "white",
           "lakecolor": "white",
           "landcolor": "white",
           "showlakes": true,
           "showland": true,
           "subunitcolor": "#C8D4E3"
          },
          "hoverlabel": {
           "align": "left"
          },
          "hovermode": "closest",
          "mapbox": {
           "style": "light"
          },
          "paper_bgcolor": "white",
          "plot_bgcolor": "white",
          "polar": {
           "angularaxis": {
            "gridcolor": "#EBF0F8",
            "linecolor": "#EBF0F8",
            "ticks": ""
           },
           "bgcolor": "white",
           "radialaxis": {
            "gridcolor": "#EBF0F8",
            "linecolor": "#EBF0F8",
            "ticks": ""
           }
          },
          "scene": {
           "xaxis": {
            "backgroundcolor": "white",
            "gridcolor": "#DFE8F3",
            "gridwidth": 2,
            "linecolor": "#EBF0F8",
            "showbackground": true,
            "ticks": "",
            "zerolinecolor": "#EBF0F8"
           },
           "yaxis": {
            "backgroundcolor": "white",
            "gridcolor": "#DFE8F3",
            "gridwidth": 2,
            "linecolor": "#EBF0F8",
            "showbackground": true,
            "ticks": "",
            "zerolinecolor": "#EBF0F8"
           },
           "zaxis": {
            "backgroundcolor": "white",
            "gridcolor": "#DFE8F3",
            "gridwidth": 2,
            "linecolor": "#EBF0F8",
            "showbackground": true,
            "ticks": "",
            "zerolinecolor": "#EBF0F8"
           }
          },
          "shapedefaults": {
           "line": {
            "color": "#2a3f5f"
           }
          },
          "ternary": {
           "aaxis": {
            "gridcolor": "#DFE8F3",
            "linecolor": "#A2B1C6",
            "ticks": ""
           },
           "baxis": {
            "gridcolor": "#DFE8F3",
            "linecolor": "#A2B1C6",
            "ticks": ""
           },
           "bgcolor": "white",
           "caxis": {
            "gridcolor": "#DFE8F3",
            "linecolor": "#A2B1C6",
            "ticks": ""
           }
          },
          "title": {
           "x": 0.05
          },
          "xaxis": {
           "automargin": true,
           "gridcolor": "#EBF0F8",
           "linecolor": "#EBF0F8",
           "ticks": "",
           "title": {
            "standoff": 15
           },
           "zerolinecolor": "#EBF0F8",
           "zerolinewidth": 2
          },
          "yaxis": {
           "automargin": true,
           "gridcolor": "#EBF0F8",
           "linecolor": "#EBF0F8",
           "ticks": "",
           "title": {
            "standoff": 15
           },
           "zerolinecolor": "#EBF0F8",
           "zerolinewidth": 2
          }
         }
        },
        "xaxis": {
         "anchor": "y",
         "domain": [
          0,
          1
         ],
         "title": {
          "text": "value"
         }
        },
        "yaxis": {
         "anchor": "x",
         "domain": [
          0,
          1
         ],
         "title": {
          "text": "count"
         }
        }
       }
      }
     },
     "metadata": {},
     "output_type": "display_data"
    }
   ],
   "source": [
    "# Compute observed t-statistic and bootstrapped-t statistic\n",
    "acc_lr = df_acc[\"lr\"]\n",
    "acc_knn = df_acc[\"knn\"]\n",
    "n_reps = 1000\n",
    "\n",
    "t_obs = compute_t(acc_lr, acc_knn)\n",
    "t_boot = compute_t_boot(\n",
    "    x=acc_lr,\n",
    "    y=acc_knn,\n",
    "    n_reps=n_reps,\n",
    ")\n",
    "plot_null_distr(t_obs, t_boot)\n"
   ]
  },
  {
   "cell_type": "code",
   "execution_count": 9,
   "metadata": {},
   "outputs": [
    {
     "name": "stdout",
     "output_type": "stream",
     "text": [
      "Observed t statistic: 28.9939\n",
      "95% confidence interval: [-1.7509  1.9378]\n",
      "Significance of the test: 0.0\n"
     ]
    }
   ],
   "source": [
    "def test_hypothesis(t_obs, t_boot, repetitions):\n",
    "    \"\"\"\n",
    "    Compare an observed t and compute its bootstrap.\n",
    "    Then, adequately accept or reject an hypothesis\n",
    "    \"\"\"\n",
    "    # Computes test significance\n",
    "    boot_stat = np.sum(np.abs(t_obs) > np.abs(t_boot)) / repetitions\n",
    "    confidence_interval = np.quantile(a=t_boot, q=[0.025, 0.975])\n",
    "    print(\n",
    "        f\"Observed t statistic: {np.round(t_obs, 4)}\",\n",
    "        f\"95% confidence interval: {np.round(confidence_interval, 4)}\",\n",
    "        f\"Significance of the test: {1-np.round(boot_stat, 4)}\",\n",
    "        sep=\"\\n\",\n",
    "    )\n",
    "\n",
    "\n",
    "test_hypothesis(t_obs, t_boot, n_reps)\n"
   ]
  },
  {
   "cell_type": "markdown",
   "metadata": {},
   "source": [
    "We see that the t-statistic is very far from the range of values in our null-distributions. It is also outside of our 95% confidence interval. We conclude that the accuracies are actually different between the KNN and the Logistic Regression classifiers. In other words, the difference between the accuracy of KNN and the one of LR is significant.\n",
    "___"
   ]
  },
  {
   "cell_type": "markdown",
   "metadata": {},
   "source": [
    "__Exercise 3 (2 pts).__ Use the information criteria to decide what is the best polynomial model that explains the relatioship between FDG (predictor) and ADAS11 (target) in the group MCI? And in the group NL? "
   ]
  },
  {
   "cell_type": "code",
   "execution_count": 10,
   "metadata": {},
   "outputs": [],
   "source": [
    "def fit_poly(X, y):\n",
    "    \"\"\"\n",
    "    Fit a linear model with polynomial features to data `X` and target `y`.\n",
    "    \"\"\"\n",
    "    w_ml = np.linalg.solve(X.T.dot(X), X.T.dot(y))\n",
    "    w_ml.reshape(1, (len(w_ml)))\n",
    "    sigma2_ml = np.mean((y - X.dot(w_ml.T)) ** 2)\n",
    "    return w_ml, sigma2_ml\n",
    "\n",
    "\n",
    "def gaussian_loglik(X, y, w_ml, sigma2_ml):\n",
    "    \"\"\"\n",
    "    Compute the Gaussian log-likelihood of parameterers `w_ml`, `sigma2_ml` with data `X` and target `y`.\n",
    "    \"\"\"\n",
    "    N = len(y)\n",
    "    loglik = -N / 2 * np.log(2 * np.pi * sigma2_ml)  # term 1\n",
    "    loglik -= 1 / (2 * sigma2_ml) * np.sum((y - X.dot(w_ml.T)) ** 2)  # term 2\n",
    "    return loglik\n",
    "\n",
    "\n",
    "def deviance(loglik):\n",
    "    \"\"\"\n",
    "    Compute the deviance of a model, given its log-likelihood.\n",
    "    \"\"\"\n",
    "    return -2 * np.array(loglik)\n",
    "\n",
    "\n",
    "def AIC(training_deviance, n_params):\n",
    "    \"\"\"\n",
    "    Compute the Akaike Information Criterion of a model.\n",
    "    \"\"\"\n",
    "    return training_deviance + 2 * n_params\n",
    "\n",
    "\n",
    "def AICc(training_deviance, n_params, n_obs):\n",
    "    \"\"\"\n",
    "    Compute the corrected Akaike Information Criterion of a model.\n",
    "    Usually used if `n_obs / n_params < 40`.\n",
    "    \"\"\"\n",
    "    aic = AIC(training_deviance, n_params)\n",
    "    corr = 2 * n_params * (n_params + 1) / (n_obs - n_params - 1)\n",
    "    return aic + corr\n",
    "\n",
    "\n",
    "def BIC(training_deviance, n_params, n_obs):\n",
    "    \"\"\"\n",
    "    Compute the Akaike Information Criterion of a model.\n",
    "    \"\"\"\n",
    "    return training_deviance + 2 * n_params * np.log(n_obs)\n"
   ]
  },
  {
   "cell_type": "code",
   "execution_count": 11,
   "metadata": {},
   "outputs": [],
   "source": [
    "def inf_crit(DX_subset):\n",
    "    X = dataset[dataset[\"DX\"] == DX_subset][[\"FDG\"]]\n",
    "    y = dataset[dataset[\"DX\"] == DX_subset][\"ADAS11\"]\n",
    "\n",
    "    all_loglik = []\n",
    "    all_AIC = []\n",
    "    all_AICc = []\n",
    "    all_BIC = []\n",
    "    n_params = np.arange(1, 7)\n",
    "\n",
    "    for d in n_params:\n",
    "        X_poly = np.array([X[\"FDG\"] ** i for i in range(d)]).T\n",
    "        w_ml, sigma2_ml = fit_poly(X_poly, y)\n",
    "        loglik = gaussian_loglik(X_poly, y, w_ml, sigma2_ml)\n",
    "        all_loglik.append(loglik)\n",
    "        \n",
    "        \n",
    "    dev = deviance(loglik=all_loglik)\n",
    "    all_AIC.append(AIC(training_deviance=dev, n_params=n_params))\n",
    "    all_AICc.append(AICc(training_deviance=dev, n_params=n_params, n_obs=len(X)))\n",
    "    all_BIC.append(BIC(training_deviance=dev, n_params=n_params, n_obs=len(X)))\n",
    "\n",
    "    df_info = pd.DataFrame(\n",
    "        {\n",
    "            \"AIC\": all_AIC[0],\n",
    "            \"AICc\": all_AICc[0],\n",
    "            \"BIC\": all_BIC[0],\n",
    "        },\n",
    "        index=n_params,\n",
    "    )\n",
    "    return df_info"
   ]
  },
  {
   "cell_type": "code",
   "execution_count": 12,
   "metadata": {},
   "outputs": [
    {
     "data": {
      "application/vnd.plotly.v1+json": {
       "config": {
        "plotlyServerURL": "https://plot.ly"
       },
       "data": [
        {
         "hovertemplate": "variable=AIC<br>index=%{x}<br>value=%{y}<extra></extra>",
         "legendgroup": "AIC",
         "line": {
          "color": "#636efa",
          "dash": "solid"
         },
         "marker": {
          "symbol": "circle"
         },
         "mode": "lines",
         "name": "AIC",
         "orientation": "v",
         "showlegend": true,
         "type": "scatter",
         "x": [
          1,
          2,
          3,
          4,
          5,
          6
         ],
         "xaxis": "x",
         "y": [
          3316.3590094644487,
          3227.4151567915223,
          3226.649502776407,
          3223.9163938040588,
          3220.9016421448896,
          3222.4900540536914
         ],
         "yaxis": "y"
        },
        {
         "hovertemplate": "variable=AICc<br>index=%{x}<br>value=%{y}<extra></extra>",
         "legendgroup": "AICc",
         "line": {
          "color": "#EF553B",
          "dash": "solid"
         },
         "marker": {
          "symbol": "circle"
         },
         "mode": "lines",
         "name": "AICc",
         "orientation": "v",
         "showlegend": true,
         "type": "scatter",
         "x": [
          1,
          2,
          3,
          4,
          5,
          6
         ],
         "xaxis": "x",
         "y": [
          3316.365990267241,
          3227.4361358125016,
          3226.69153430005,
          3223.986569242655,
          3221.0070902995467,
          3222.637941377635
         ],
         "yaxis": "y"
        },
        {
         "hovertemplate": "variable=BIC<br>index=%{x}<br>value=%{y}<extra></extra>",
         "legendgroup": "BIC",
         "line": {
          "color": "#00cc96",
          "dash": "solid"
         },
         "marker": {
          "symbol": "circle"
         },
         "mode": "lines",
         "name": "BIC",
         "orientation": "v",
         "showlegend": true,
         "type": "scatter",
         "x": [
          1,
          2,
          3,
          4,
          5,
          6
         ],
         "xaxis": "x",
         "y": [
          3327.0677495460436,
          3248.8326369547117,
          3258.7757230211914,
          3266.7513541304374,
          3274.445342552863,
          3286.7424945432595
         ],
         "yaxis": "y"
        }
       ],
       "layout": {
        "legend": {
         "title": {
          "text": "variable"
         },
         "tracegroupgap": 0
        },
        "margin": {
         "t": 60
        },
        "template": {
         "data": {
          "bar": [
           {
            "error_x": {
             "color": "#2a3f5f"
            },
            "error_y": {
             "color": "#2a3f5f"
            },
            "marker": {
             "line": {
              "color": "white",
              "width": 0.5
             },
             "pattern": {
              "fillmode": "overlay",
              "size": 10,
              "solidity": 0.2
             }
            },
            "type": "bar"
           }
          ],
          "barpolar": [
           {
            "marker": {
             "line": {
              "color": "white",
              "width": 0.5
             },
             "pattern": {
              "fillmode": "overlay",
              "size": 10,
              "solidity": 0.2
             }
            },
            "type": "barpolar"
           }
          ],
          "carpet": [
           {
            "aaxis": {
             "endlinecolor": "#2a3f5f",
             "gridcolor": "#C8D4E3",
             "linecolor": "#C8D4E3",
             "minorgridcolor": "#C8D4E3",
             "startlinecolor": "#2a3f5f"
            },
            "baxis": {
             "endlinecolor": "#2a3f5f",
             "gridcolor": "#C8D4E3",
             "linecolor": "#C8D4E3",
             "minorgridcolor": "#C8D4E3",
             "startlinecolor": "#2a3f5f"
            },
            "type": "carpet"
           }
          ],
          "choropleth": [
           {
            "colorbar": {
             "outlinewidth": 0,
             "ticks": ""
            },
            "type": "choropleth"
           }
          ],
          "contour": [
           {
            "colorbar": {
             "outlinewidth": 0,
             "ticks": ""
            },
            "colorscale": [
             [
              0,
              "#0d0887"
             ],
             [
              0.1111111111111111,
              "#46039f"
             ],
             [
              0.2222222222222222,
              "#7201a8"
             ],
             [
              0.3333333333333333,
              "#9c179e"
             ],
             [
              0.4444444444444444,
              "#bd3786"
             ],
             [
              0.5555555555555556,
              "#d8576b"
             ],
             [
              0.6666666666666666,
              "#ed7953"
             ],
             [
              0.7777777777777778,
              "#fb9f3a"
             ],
             [
              0.8888888888888888,
              "#fdca26"
             ],
             [
              1,
              "#f0f921"
             ]
            ],
            "type": "contour"
           }
          ],
          "contourcarpet": [
           {
            "colorbar": {
             "outlinewidth": 0,
             "ticks": ""
            },
            "type": "contourcarpet"
           }
          ],
          "heatmap": [
           {
            "colorbar": {
             "outlinewidth": 0,
             "ticks": ""
            },
            "colorscale": [
             [
              0,
              "#0d0887"
             ],
             [
              0.1111111111111111,
              "#46039f"
             ],
             [
              0.2222222222222222,
              "#7201a8"
             ],
             [
              0.3333333333333333,
              "#9c179e"
             ],
             [
              0.4444444444444444,
              "#bd3786"
             ],
             [
              0.5555555555555556,
              "#d8576b"
             ],
             [
              0.6666666666666666,
              "#ed7953"
             ],
             [
              0.7777777777777778,
              "#fb9f3a"
             ],
             [
              0.8888888888888888,
              "#fdca26"
             ],
             [
              1,
              "#f0f921"
             ]
            ],
            "type": "heatmap"
           }
          ],
          "heatmapgl": [
           {
            "colorbar": {
             "outlinewidth": 0,
             "ticks": ""
            },
            "colorscale": [
             [
              0,
              "#0d0887"
             ],
             [
              0.1111111111111111,
              "#46039f"
             ],
             [
              0.2222222222222222,
              "#7201a8"
             ],
             [
              0.3333333333333333,
              "#9c179e"
             ],
             [
              0.4444444444444444,
              "#bd3786"
             ],
             [
              0.5555555555555556,
              "#d8576b"
             ],
             [
              0.6666666666666666,
              "#ed7953"
             ],
             [
              0.7777777777777778,
              "#fb9f3a"
             ],
             [
              0.8888888888888888,
              "#fdca26"
             ],
             [
              1,
              "#f0f921"
             ]
            ],
            "type": "heatmapgl"
           }
          ],
          "histogram": [
           {
            "marker": {
             "pattern": {
              "fillmode": "overlay",
              "size": 10,
              "solidity": 0.2
             }
            },
            "type": "histogram"
           }
          ],
          "histogram2d": [
           {
            "colorbar": {
             "outlinewidth": 0,
             "ticks": ""
            },
            "colorscale": [
             [
              0,
              "#0d0887"
             ],
             [
              0.1111111111111111,
              "#46039f"
             ],
             [
              0.2222222222222222,
              "#7201a8"
             ],
             [
              0.3333333333333333,
              "#9c179e"
             ],
             [
              0.4444444444444444,
              "#bd3786"
             ],
             [
              0.5555555555555556,
              "#d8576b"
             ],
             [
              0.6666666666666666,
              "#ed7953"
             ],
             [
              0.7777777777777778,
              "#fb9f3a"
             ],
             [
              0.8888888888888888,
              "#fdca26"
             ],
             [
              1,
              "#f0f921"
             ]
            ],
            "type": "histogram2d"
           }
          ],
          "histogram2dcontour": [
           {
            "colorbar": {
             "outlinewidth": 0,
             "ticks": ""
            },
            "colorscale": [
             [
              0,
              "#0d0887"
             ],
             [
              0.1111111111111111,
              "#46039f"
             ],
             [
              0.2222222222222222,
              "#7201a8"
             ],
             [
              0.3333333333333333,
              "#9c179e"
             ],
             [
              0.4444444444444444,
              "#bd3786"
             ],
             [
              0.5555555555555556,
              "#d8576b"
             ],
             [
              0.6666666666666666,
              "#ed7953"
             ],
             [
              0.7777777777777778,
              "#fb9f3a"
             ],
             [
              0.8888888888888888,
              "#fdca26"
             ],
             [
              1,
              "#f0f921"
             ]
            ],
            "type": "histogram2dcontour"
           }
          ],
          "mesh3d": [
           {
            "colorbar": {
             "outlinewidth": 0,
             "ticks": ""
            },
            "type": "mesh3d"
           }
          ],
          "parcoords": [
           {
            "line": {
             "colorbar": {
              "outlinewidth": 0,
              "ticks": ""
             }
            },
            "type": "parcoords"
           }
          ],
          "pie": [
           {
            "automargin": true,
            "type": "pie"
           }
          ],
          "scatter": [
           {
            "marker": {
             "colorbar": {
              "outlinewidth": 0,
              "ticks": ""
             }
            },
            "type": "scatter"
           }
          ],
          "scatter3d": [
           {
            "line": {
             "colorbar": {
              "outlinewidth": 0,
              "ticks": ""
             }
            },
            "marker": {
             "colorbar": {
              "outlinewidth": 0,
              "ticks": ""
             }
            },
            "type": "scatter3d"
           }
          ],
          "scattercarpet": [
           {
            "marker": {
             "colorbar": {
              "outlinewidth": 0,
              "ticks": ""
             }
            },
            "type": "scattercarpet"
           }
          ],
          "scattergeo": [
           {
            "marker": {
             "colorbar": {
              "outlinewidth": 0,
              "ticks": ""
             }
            },
            "type": "scattergeo"
           }
          ],
          "scattergl": [
           {
            "marker": {
             "colorbar": {
              "outlinewidth": 0,
              "ticks": ""
             }
            },
            "type": "scattergl"
           }
          ],
          "scattermapbox": [
           {
            "marker": {
             "colorbar": {
              "outlinewidth": 0,
              "ticks": ""
             }
            },
            "type": "scattermapbox"
           }
          ],
          "scatterpolar": [
           {
            "marker": {
             "colorbar": {
              "outlinewidth": 0,
              "ticks": ""
             }
            },
            "type": "scatterpolar"
           }
          ],
          "scatterpolargl": [
           {
            "marker": {
             "colorbar": {
              "outlinewidth": 0,
              "ticks": ""
             }
            },
            "type": "scatterpolargl"
           }
          ],
          "scatterternary": [
           {
            "marker": {
             "colorbar": {
              "outlinewidth": 0,
              "ticks": ""
             }
            },
            "type": "scatterternary"
           }
          ],
          "surface": [
           {
            "colorbar": {
             "outlinewidth": 0,
             "ticks": ""
            },
            "colorscale": [
             [
              0,
              "#0d0887"
             ],
             [
              0.1111111111111111,
              "#46039f"
             ],
             [
              0.2222222222222222,
              "#7201a8"
             ],
             [
              0.3333333333333333,
              "#9c179e"
             ],
             [
              0.4444444444444444,
              "#bd3786"
             ],
             [
              0.5555555555555556,
              "#d8576b"
             ],
             [
              0.6666666666666666,
              "#ed7953"
             ],
             [
              0.7777777777777778,
              "#fb9f3a"
             ],
             [
              0.8888888888888888,
              "#fdca26"
             ],
             [
              1,
              "#f0f921"
             ]
            ],
            "type": "surface"
           }
          ],
          "table": [
           {
            "cells": {
             "fill": {
              "color": "#EBF0F8"
             },
             "line": {
              "color": "white"
             }
            },
            "header": {
             "fill": {
              "color": "#C8D4E3"
             },
             "line": {
              "color": "white"
             }
            },
            "type": "table"
           }
          ]
         },
         "layout": {
          "annotationdefaults": {
           "arrowcolor": "#2a3f5f",
           "arrowhead": 0,
           "arrowwidth": 1
          },
          "autotypenumbers": "strict",
          "coloraxis": {
           "colorbar": {
            "outlinewidth": 0,
            "ticks": ""
           }
          },
          "colorscale": {
           "diverging": [
            [
             0,
             "#8e0152"
            ],
            [
             0.1,
             "#c51b7d"
            ],
            [
             0.2,
             "#de77ae"
            ],
            [
             0.3,
             "#f1b6da"
            ],
            [
             0.4,
             "#fde0ef"
            ],
            [
             0.5,
             "#f7f7f7"
            ],
            [
             0.6,
             "#e6f5d0"
            ],
            [
             0.7,
             "#b8e186"
            ],
            [
             0.8,
             "#7fbc41"
            ],
            [
             0.9,
             "#4d9221"
            ],
            [
             1,
             "#276419"
            ]
           ],
           "sequential": [
            [
             0,
             "#0d0887"
            ],
            [
             0.1111111111111111,
             "#46039f"
            ],
            [
             0.2222222222222222,
             "#7201a8"
            ],
            [
             0.3333333333333333,
             "#9c179e"
            ],
            [
             0.4444444444444444,
             "#bd3786"
            ],
            [
             0.5555555555555556,
             "#d8576b"
            ],
            [
             0.6666666666666666,
             "#ed7953"
            ],
            [
             0.7777777777777778,
             "#fb9f3a"
            ],
            [
             0.8888888888888888,
             "#fdca26"
            ],
            [
             1,
             "#f0f921"
            ]
           ],
           "sequentialminus": [
            [
             0,
             "#0d0887"
            ],
            [
             0.1111111111111111,
             "#46039f"
            ],
            [
             0.2222222222222222,
             "#7201a8"
            ],
            [
             0.3333333333333333,
             "#9c179e"
            ],
            [
             0.4444444444444444,
             "#bd3786"
            ],
            [
             0.5555555555555556,
             "#d8576b"
            ],
            [
             0.6666666666666666,
             "#ed7953"
            ],
            [
             0.7777777777777778,
             "#fb9f3a"
            ],
            [
             0.8888888888888888,
             "#fdca26"
            ],
            [
             1,
             "#f0f921"
            ]
           ]
          },
          "colorway": [
           "#636efa",
           "#EF553B",
           "#00cc96",
           "#ab63fa",
           "#FFA15A",
           "#19d3f3",
           "#FF6692",
           "#B6E880",
           "#FF97FF",
           "#FECB52"
          ],
          "font": {
           "color": "#2a3f5f"
          },
          "geo": {
           "bgcolor": "white",
           "lakecolor": "white",
           "landcolor": "white",
           "showlakes": true,
           "showland": true,
           "subunitcolor": "#C8D4E3"
          },
          "hoverlabel": {
           "align": "left"
          },
          "hovermode": "closest",
          "mapbox": {
           "style": "light"
          },
          "paper_bgcolor": "white",
          "plot_bgcolor": "white",
          "polar": {
           "angularaxis": {
            "gridcolor": "#EBF0F8",
            "linecolor": "#EBF0F8",
            "ticks": ""
           },
           "bgcolor": "white",
           "radialaxis": {
            "gridcolor": "#EBF0F8",
            "linecolor": "#EBF0F8",
            "ticks": ""
           }
          },
          "scene": {
           "xaxis": {
            "backgroundcolor": "white",
            "gridcolor": "#DFE8F3",
            "gridwidth": 2,
            "linecolor": "#EBF0F8",
            "showbackground": true,
            "ticks": "",
            "zerolinecolor": "#EBF0F8"
           },
           "yaxis": {
            "backgroundcolor": "white",
            "gridcolor": "#DFE8F3",
            "gridwidth": 2,
            "linecolor": "#EBF0F8",
            "showbackground": true,
            "ticks": "",
            "zerolinecolor": "#EBF0F8"
           },
           "zaxis": {
            "backgroundcolor": "white",
            "gridcolor": "#DFE8F3",
            "gridwidth": 2,
            "linecolor": "#EBF0F8",
            "showbackground": true,
            "ticks": "",
            "zerolinecolor": "#EBF0F8"
           }
          },
          "shapedefaults": {
           "line": {
            "color": "#2a3f5f"
           }
          },
          "ternary": {
           "aaxis": {
            "gridcolor": "#DFE8F3",
            "linecolor": "#A2B1C6",
            "ticks": ""
           },
           "baxis": {
            "gridcolor": "#DFE8F3",
            "linecolor": "#A2B1C6",
            "ticks": ""
           },
           "bgcolor": "white",
           "caxis": {
            "gridcolor": "#DFE8F3",
            "linecolor": "#A2B1C6",
            "ticks": ""
           }
          },
          "title": {
           "x": 0.05
          },
          "xaxis": {
           "automargin": true,
           "gridcolor": "#EBF0F8",
           "linecolor": "#EBF0F8",
           "ticks": "",
           "title": {
            "standoff": 15
           },
           "zerolinecolor": "#EBF0F8",
           "zerolinewidth": 2
          },
          "yaxis": {
           "automargin": true,
           "gridcolor": "#EBF0F8",
           "linecolor": "#EBF0F8",
           "ticks": "",
           "title": {
            "standoff": 15
           },
           "zerolinecolor": "#EBF0F8",
           "zerolinewidth": 2
          }
         }
        },
        "xaxis": {
         "anchor": "y",
         "domain": [
          0,
          1
         ],
         "title": {
          "text": "Number of parameters"
         }
        },
        "yaxis": {
         "anchor": "x",
         "domain": [
          0,
          1
         ],
         "title": {
          "text": "Info criterion"
         }
        }
       }
      }
     },
     "metadata": {},
     "output_type": "display_data"
    }
   ],
   "source": [
    "df_info = inf_crit(DX_subset=\"MCI\")\n",
    "fig = px.line(df_info)\n",
    "fig.update_layout(xaxis_title=\"Number of parameters\", yaxis_title=\"Info criterion\")\n",
    "fig\n"
   ]
  },
  {
   "cell_type": "markdown",
   "metadata": {},
   "source": [
    "Best is lowest BIC, that is with 2 parameters (polynomial of degree 1)."
   ]
  },
  {
   "cell_type": "code",
   "execution_count": 13,
   "metadata": {},
   "outputs": [
    {
     "data": {
      "application/vnd.plotly.v1+json": {
       "config": {
        "plotlyServerURL": "https://plot.ly"
       },
       "data": [
        {
         "hovertemplate": "variable=AIC<br>index=%{x}<br>value=%{y}<extra></extra>",
         "legendgroup": "AIC",
         "line": {
          "color": "#636efa",
          "dash": "solid"
         },
         "marker": {
          "symbol": "circle"
         },
         "mode": "lines",
         "name": "AIC",
         "orientation": "v",
         "showlegend": true,
         "type": "scatter",
         "x": [
          1,
          2,
          3,
          4,
          5,
          6
         ],
         "xaxis": "x",
         "y": [
          1794.5733135290413,
          1789.1420795647186,
          1789.5813291736818,
          1790.1616901604543,
          1790.1985824652907,
          1790.5577196699926
         ],
         "yaxis": "y"
        },
        {
         "hovertemplate": "variable=AICc<br>index=%{x}<br>value=%{y}<extra></extra>",
         "legendgroup": "AICc",
         "line": {
          "color": "#EF553B",
          "dash": "solid"
         },
         "marker": {
          "symbol": "circle"
         },
         "mode": "lines",
         "name": "AICc",
         "orientation": "v",
         "showlegend": true,
         "type": "scatter",
         "x": [
          1,
          2,
          3,
          4,
          5,
          6
         ],
         "xaxis": "x",
         "y": [
          1794.5845494840976,
          1789.17588238162,
          1789.6491257838513,
          1790.2750046080464,
          1790.3690370107452,
          1790.7970359093088
         ],
         "yaxis": "y"
        },
        {
         "hovertemplate": "variable=BIC<br>index=%{x}<br>value=%{y}<extra></extra>",
         "legendgroup": "BIC",
         "line": {
          "color": "#00cc96",
          "dash": "solid"
         },
         "marker": {
          "symbol": "circle"
         },
         "mode": "lines",
         "name": "BIC",
         "orientation": "v",
         "showlegend": true,
         "type": "scatter",
         "x": [
          1,
          2,
          3,
          4,
          5,
          6
         ],
         "xaxis": "x",
         "y": [
          1804.3343795018427,
          1808.6642115103214,
          1818.864527092086,
          1829.20595405166,
          1839.0039123292977,
          1849.124115506801
         ],
         "yaxis": "y"
        }
       ],
       "layout": {
        "legend": {
         "title": {
          "text": "variable"
         },
         "tracegroupgap": 0
        },
        "margin": {
         "t": 60
        },
        "template": {
         "data": {
          "bar": [
           {
            "error_x": {
             "color": "#2a3f5f"
            },
            "error_y": {
             "color": "#2a3f5f"
            },
            "marker": {
             "line": {
              "color": "white",
              "width": 0.5
             },
             "pattern": {
              "fillmode": "overlay",
              "size": 10,
              "solidity": 0.2
             }
            },
            "type": "bar"
           }
          ],
          "barpolar": [
           {
            "marker": {
             "line": {
              "color": "white",
              "width": 0.5
             },
             "pattern": {
              "fillmode": "overlay",
              "size": 10,
              "solidity": 0.2
             }
            },
            "type": "barpolar"
           }
          ],
          "carpet": [
           {
            "aaxis": {
             "endlinecolor": "#2a3f5f",
             "gridcolor": "#C8D4E3",
             "linecolor": "#C8D4E3",
             "minorgridcolor": "#C8D4E3",
             "startlinecolor": "#2a3f5f"
            },
            "baxis": {
             "endlinecolor": "#2a3f5f",
             "gridcolor": "#C8D4E3",
             "linecolor": "#C8D4E3",
             "minorgridcolor": "#C8D4E3",
             "startlinecolor": "#2a3f5f"
            },
            "type": "carpet"
           }
          ],
          "choropleth": [
           {
            "colorbar": {
             "outlinewidth": 0,
             "ticks": ""
            },
            "type": "choropleth"
           }
          ],
          "contour": [
           {
            "colorbar": {
             "outlinewidth": 0,
             "ticks": ""
            },
            "colorscale": [
             [
              0,
              "#0d0887"
             ],
             [
              0.1111111111111111,
              "#46039f"
             ],
             [
              0.2222222222222222,
              "#7201a8"
             ],
             [
              0.3333333333333333,
              "#9c179e"
             ],
             [
              0.4444444444444444,
              "#bd3786"
             ],
             [
              0.5555555555555556,
              "#d8576b"
             ],
             [
              0.6666666666666666,
              "#ed7953"
             ],
             [
              0.7777777777777778,
              "#fb9f3a"
             ],
             [
              0.8888888888888888,
              "#fdca26"
             ],
             [
              1,
              "#f0f921"
             ]
            ],
            "type": "contour"
           }
          ],
          "contourcarpet": [
           {
            "colorbar": {
             "outlinewidth": 0,
             "ticks": ""
            },
            "type": "contourcarpet"
           }
          ],
          "heatmap": [
           {
            "colorbar": {
             "outlinewidth": 0,
             "ticks": ""
            },
            "colorscale": [
             [
              0,
              "#0d0887"
             ],
             [
              0.1111111111111111,
              "#46039f"
             ],
             [
              0.2222222222222222,
              "#7201a8"
             ],
             [
              0.3333333333333333,
              "#9c179e"
             ],
             [
              0.4444444444444444,
              "#bd3786"
             ],
             [
              0.5555555555555556,
              "#d8576b"
             ],
             [
              0.6666666666666666,
              "#ed7953"
             ],
             [
              0.7777777777777778,
              "#fb9f3a"
             ],
             [
              0.8888888888888888,
              "#fdca26"
             ],
             [
              1,
              "#f0f921"
             ]
            ],
            "type": "heatmap"
           }
          ],
          "heatmapgl": [
           {
            "colorbar": {
             "outlinewidth": 0,
             "ticks": ""
            },
            "colorscale": [
             [
              0,
              "#0d0887"
             ],
             [
              0.1111111111111111,
              "#46039f"
             ],
             [
              0.2222222222222222,
              "#7201a8"
             ],
             [
              0.3333333333333333,
              "#9c179e"
             ],
             [
              0.4444444444444444,
              "#bd3786"
             ],
             [
              0.5555555555555556,
              "#d8576b"
             ],
             [
              0.6666666666666666,
              "#ed7953"
             ],
             [
              0.7777777777777778,
              "#fb9f3a"
             ],
             [
              0.8888888888888888,
              "#fdca26"
             ],
             [
              1,
              "#f0f921"
             ]
            ],
            "type": "heatmapgl"
           }
          ],
          "histogram": [
           {
            "marker": {
             "pattern": {
              "fillmode": "overlay",
              "size": 10,
              "solidity": 0.2
             }
            },
            "type": "histogram"
           }
          ],
          "histogram2d": [
           {
            "colorbar": {
             "outlinewidth": 0,
             "ticks": ""
            },
            "colorscale": [
             [
              0,
              "#0d0887"
             ],
             [
              0.1111111111111111,
              "#46039f"
             ],
             [
              0.2222222222222222,
              "#7201a8"
             ],
             [
              0.3333333333333333,
              "#9c179e"
             ],
             [
              0.4444444444444444,
              "#bd3786"
             ],
             [
              0.5555555555555556,
              "#d8576b"
             ],
             [
              0.6666666666666666,
              "#ed7953"
             ],
             [
              0.7777777777777778,
              "#fb9f3a"
             ],
             [
              0.8888888888888888,
              "#fdca26"
             ],
             [
              1,
              "#f0f921"
             ]
            ],
            "type": "histogram2d"
           }
          ],
          "histogram2dcontour": [
           {
            "colorbar": {
             "outlinewidth": 0,
             "ticks": ""
            },
            "colorscale": [
             [
              0,
              "#0d0887"
             ],
             [
              0.1111111111111111,
              "#46039f"
             ],
             [
              0.2222222222222222,
              "#7201a8"
             ],
             [
              0.3333333333333333,
              "#9c179e"
             ],
             [
              0.4444444444444444,
              "#bd3786"
             ],
             [
              0.5555555555555556,
              "#d8576b"
             ],
             [
              0.6666666666666666,
              "#ed7953"
             ],
             [
              0.7777777777777778,
              "#fb9f3a"
             ],
             [
              0.8888888888888888,
              "#fdca26"
             ],
             [
              1,
              "#f0f921"
             ]
            ],
            "type": "histogram2dcontour"
           }
          ],
          "mesh3d": [
           {
            "colorbar": {
             "outlinewidth": 0,
             "ticks": ""
            },
            "type": "mesh3d"
           }
          ],
          "parcoords": [
           {
            "line": {
             "colorbar": {
              "outlinewidth": 0,
              "ticks": ""
             }
            },
            "type": "parcoords"
           }
          ],
          "pie": [
           {
            "automargin": true,
            "type": "pie"
           }
          ],
          "scatter": [
           {
            "marker": {
             "colorbar": {
              "outlinewidth": 0,
              "ticks": ""
             }
            },
            "type": "scatter"
           }
          ],
          "scatter3d": [
           {
            "line": {
             "colorbar": {
              "outlinewidth": 0,
              "ticks": ""
             }
            },
            "marker": {
             "colorbar": {
              "outlinewidth": 0,
              "ticks": ""
             }
            },
            "type": "scatter3d"
           }
          ],
          "scattercarpet": [
           {
            "marker": {
             "colorbar": {
              "outlinewidth": 0,
              "ticks": ""
             }
            },
            "type": "scattercarpet"
           }
          ],
          "scattergeo": [
           {
            "marker": {
             "colorbar": {
              "outlinewidth": 0,
              "ticks": ""
             }
            },
            "type": "scattergeo"
           }
          ],
          "scattergl": [
           {
            "marker": {
             "colorbar": {
              "outlinewidth": 0,
              "ticks": ""
             }
            },
            "type": "scattergl"
           }
          ],
          "scattermapbox": [
           {
            "marker": {
             "colorbar": {
              "outlinewidth": 0,
              "ticks": ""
             }
            },
            "type": "scattermapbox"
           }
          ],
          "scatterpolar": [
           {
            "marker": {
             "colorbar": {
              "outlinewidth": 0,
              "ticks": ""
             }
            },
            "type": "scatterpolar"
           }
          ],
          "scatterpolargl": [
           {
            "marker": {
             "colorbar": {
              "outlinewidth": 0,
              "ticks": ""
             }
            },
            "type": "scatterpolargl"
           }
          ],
          "scatterternary": [
           {
            "marker": {
             "colorbar": {
              "outlinewidth": 0,
              "ticks": ""
             }
            },
            "type": "scatterternary"
           }
          ],
          "surface": [
           {
            "colorbar": {
             "outlinewidth": 0,
             "ticks": ""
            },
            "colorscale": [
             [
              0,
              "#0d0887"
             ],
             [
              0.1111111111111111,
              "#46039f"
             ],
             [
              0.2222222222222222,
              "#7201a8"
             ],
             [
              0.3333333333333333,
              "#9c179e"
             ],
             [
              0.4444444444444444,
              "#bd3786"
             ],
             [
              0.5555555555555556,
              "#d8576b"
             ],
             [
              0.6666666666666666,
              "#ed7953"
             ],
             [
              0.7777777777777778,
              "#fb9f3a"
             ],
             [
              0.8888888888888888,
              "#fdca26"
             ],
             [
              1,
              "#f0f921"
             ]
            ],
            "type": "surface"
           }
          ],
          "table": [
           {
            "cells": {
             "fill": {
              "color": "#EBF0F8"
             },
             "line": {
              "color": "white"
             }
            },
            "header": {
             "fill": {
              "color": "#C8D4E3"
             },
             "line": {
              "color": "white"
             }
            },
            "type": "table"
           }
          ]
         },
         "layout": {
          "annotationdefaults": {
           "arrowcolor": "#2a3f5f",
           "arrowhead": 0,
           "arrowwidth": 1
          },
          "autotypenumbers": "strict",
          "coloraxis": {
           "colorbar": {
            "outlinewidth": 0,
            "ticks": ""
           }
          },
          "colorscale": {
           "diverging": [
            [
             0,
             "#8e0152"
            ],
            [
             0.1,
             "#c51b7d"
            ],
            [
             0.2,
             "#de77ae"
            ],
            [
             0.3,
             "#f1b6da"
            ],
            [
             0.4,
             "#fde0ef"
            ],
            [
             0.5,
             "#f7f7f7"
            ],
            [
             0.6,
             "#e6f5d0"
            ],
            [
             0.7,
             "#b8e186"
            ],
            [
             0.8,
             "#7fbc41"
            ],
            [
             0.9,
             "#4d9221"
            ],
            [
             1,
             "#276419"
            ]
           ],
           "sequential": [
            [
             0,
             "#0d0887"
            ],
            [
             0.1111111111111111,
             "#46039f"
            ],
            [
             0.2222222222222222,
             "#7201a8"
            ],
            [
             0.3333333333333333,
             "#9c179e"
            ],
            [
             0.4444444444444444,
             "#bd3786"
            ],
            [
             0.5555555555555556,
             "#d8576b"
            ],
            [
             0.6666666666666666,
             "#ed7953"
            ],
            [
             0.7777777777777778,
             "#fb9f3a"
            ],
            [
             0.8888888888888888,
             "#fdca26"
            ],
            [
             1,
             "#f0f921"
            ]
           ],
           "sequentialminus": [
            [
             0,
             "#0d0887"
            ],
            [
             0.1111111111111111,
             "#46039f"
            ],
            [
             0.2222222222222222,
             "#7201a8"
            ],
            [
             0.3333333333333333,
             "#9c179e"
            ],
            [
             0.4444444444444444,
             "#bd3786"
            ],
            [
             0.5555555555555556,
             "#d8576b"
            ],
            [
             0.6666666666666666,
             "#ed7953"
            ],
            [
             0.7777777777777778,
             "#fb9f3a"
            ],
            [
             0.8888888888888888,
             "#fdca26"
            ],
            [
             1,
             "#f0f921"
            ]
           ]
          },
          "colorway": [
           "#636efa",
           "#EF553B",
           "#00cc96",
           "#ab63fa",
           "#FFA15A",
           "#19d3f3",
           "#FF6692",
           "#B6E880",
           "#FF97FF",
           "#FECB52"
          ],
          "font": {
           "color": "#2a3f5f"
          },
          "geo": {
           "bgcolor": "white",
           "lakecolor": "white",
           "landcolor": "white",
           "showlakes": true,
           "showland": true,
           "subunitcolor": "#C8D4E3"
          },
          "hoverlabel": {
           "align": "left"
          },
          "hovermode": "closest",
          "mapbox": {
           "style": "light"
          },
          "paper_bgcolor": "white",
          "plot_bgcolor": "white",
          "polar": {
           "angularaxis": {
            "gridcolor": "#EBF0F8",
            "linecolor": "#EBF0F8",
            "ticks": ""
           },
           "bgcolor": "white",
           "radialaxis": {
            "gridcolor": "#EBF0F8",
            "linecolor": "#EBF0F8",
            "ticks": ""
           }
          },
          "scene": {
           "xaxis": {
            "backgroundcolor": "white",
            "gridcolor": "#DFE8F3",
            "gridwidth": 2,
            "linecolor": "#EBF0F8",
            "showbackground": true,
            "ticks": "",
            "zerolinecolor": "#EBF0F8"
           },
           "yaxis": {
            "backgroundcolor": "white",
            "gridcolor": "#DFE8F3",
            "gridwidth": 2,
            "linecolor": "#EBF0F8",
            "showbackground": true,
            "ticks": "",
            "zerolinecolor": "#EBF0F8"
           },
           "zaxis": {
            "backgroundcolor": "white",
            "gridcolor": "#DFE8F3",
            "gridwidth": 2,
            "linecolor": "#EBF0F8",
            "showbackground": true,
            "ticks": "",
            "zerolinecolor": "#EBF0F8"
           }
          },
          "shapedefaults": {
           "line": {
            "color": "#2a3f5f"
           }
          },
          "ternary": {
           "aaxis": {
            "gridcolor": "#DFE8F3",
            "linecolor": "#A2B1C6",
            "ticks": ""
           },
           "baxis": {
            "gridcolor": "#DFE8F3",
            "linecolor": "#A2B1C6",
            "ticks": ""
           },
           "bgcolor": "white",
           "caxis": {
            "gridcolor": "#DFE8F3",
            "linecolor": "#A2B1C6",
            "ticks": ""
           }
          },
          "title": {
           "x": 0.05
          },
          "xaxis": {
           "automargin": true,
           "gridcolor": "#EBF0F8",
           "linecolor": "#EBF0F8",
           "ticks": "",
           "title": {
            "standoff": 15
           },
           "zerolinecolor": "#EBF0F8",
           "zerolinewidth": 2
          },
          "yaxis": {
           "automargin": true,
           "gridcolor": "#EBF0F8",
           "linecolor": "#EBF0F8",
           "ticks": "",
           "title": {
            "standoff": 15
           },
           "zerolinecolor": "#EBF0F8",
           "zerolinewidth": 2
          }
         }
        },
        "xaxis": {
         "anchor": "y",
         "domain": [
          0,
          1
         ],
         "title": {
          "text": "Number of parameters"
         }
        },
        "yaxis": {
         "anchor": "x",
         "domain": [
          0,
          1
         ],
         "title": {
          "text": "Info criterion"
         }
        }
       }
      }
     },
     "metadata": {},
     "output_type": "display_data"
    }
   ],
   "source": [
    "df_info = inf_crit(DX_subset=\"NL\")\n",
    "fig = px.line(df_info)\n",
    "fig.update_layout(xaxis_title=\"Number of parameters\", yaxis_title=\"Info criterion\")\n",
    "fig\n"
   ]
  },
  {
   "cell_type": "markdown",
   "metadata": {},
   "source": [
    "Best is lowest BIC, that is with 1 parameter (polynomial of degree 0)."
   ]
  },
  {
   "cell_type": "markdown",
   "metadata": {},
   "source": [
    "__Exercise 4 (1.5 pts).__ What is the best combination of variables (excluded DX) for predicting ADAS11 with a linear model?"
   ]
  },
  {
   "cell_type": "code",
   "execution_count": null,
   "metadata": {
    "collapsed": true
   },
   "outputs": [],
   "source": []
  },
  {
   "cell_type": "markdown",
   "metadata": {},
   "source": [
    "__Exercise 5 (1 pts).__ Consider only the healtiest subjects for which diagnosis == NL and ADAS11 < 5. Compare the performance of the classifiers of Exercise 1 for discriminating this group from the group MCI."
   ]
  },
  {
   "cell_type": "code",
   "execution_count": 17,
   "metadata": {},
   "outputs": [],
   "source": [
    "pred_cols = [\"Hippocampus_volume\", \"AGE\", \"PTGENDER\", \"PTEDUCAT\", \"ADAS11\", \"FDG\"]\n",
    "target = \"DX\"\n",
    "\n",
    "X = dataset[dataset[\"ADAS11\"] < 5][pred_cols]\n",
    "y = pd.Categorical(dataset[dataset[\"ADAS11\"] < 5][target]).codes\n"
   ]
  },
  {
   "cell_type": "markdown",
   "metadata": {},
   "source": [
    "Setting `n_repeats = 1000` would take ~12 minutes to run, so if n_repeats < 1000, it is because I didn't have enough time."
   ]
  },
  {
   "cell_type": "code",
   "execution_count": 18,
   "metadata": {},
   "outputs": [],
   "source": [
    "n_repeats = 100\n",
    "rkf = RepeatedKFold(n_splits=2, n_repeats=n_repeats)\n",
    "\n",
    "acc = {\"lr\": [], \"knn\": []}\n",
    "\n",
    "lr = LogisticRegression(max_iter=1e4, n_jobs=-1, tol=0.1)\n",
    "knn = KNeighborsClassifier(n_jobs=-1)\n",
    "\n",
    "for train, test in rkf.split(X, y):\n",
    "    X_train, y_train = X.iloc[train], y[train]\n",
    "    X_test, y_test = X.iloc[test], y[test]\n",
    "\n",
    "    # Logistic Regression\n",
    "    lr.fit(X_train, y_train)\n",
    "    y_pred = lr.predict(X_test)\n",
    "    acc[\"lr\"].append(accuracy_score(y_test, y_pred))\n",
    "\n",
    "    # KNN\n",
    "    knn.fit(X_train, y_train)\n",
    "    y_pred = knn.predict(X_test)\n",
    "    acc[\"knn\"].append(accuracy_score(y_test, y_pred))\n"
   ]
  },
  {
   "cell_type": "code",
   "execution_count": 19,
   "metadata": {},
   "outputs": [
    {
     "data": {
      "application/vnd.plotly.v1+json": {
       "config": {
        "plotlyServerURL": "https://plot.ly"
       },
       "data": [
        {
         "alignmentgroup": "True",
         "bingroup": "x",
         "hovertemplate": "variable=lr<br>value=%{x}<br>count=%{y}<extra></extra>",
         "legendgroup": "lr",
         "marker": {
          "color": "#636efa",
          "opacity": 0.5,
          "pattern": {
           "shape": ""
          }
         },
         "name": "lr",
         "offsetgroup": "lr",
         "orientation": "v",
         "showlegend": true,
         "type": "histogram",
         "x": [
          0.7526881720430108,
          0.7204301075268817,
          0.7419354838709677,
          0.7526881720430108,
          0.7204301075268817,
          0.6989247311827957,
          0.7419354838709677,
          0.7419354838709677,
          0.7741935483870968,
          0.7526881720430108,
          0.7741935483870968,
          0.7311827956989247,
          0.7526881720430108,
          0.7634408602150538,
          0.8064516129032258,
          0.7419354838709677,
          0.7849462365591398,
          0.7419354838709677,
          0.7311827956989247,
          0.7956989247311828,
          0.7419354838709677,
          0.7956989247311828,
          0.7741935483870968,
          0.7311827956989247,
          0.7634408602150538,
          0.7634408602150538,
          0.7096774193548387,
          0.7311827956989247,
          0.7419354838709677,
          0.7634408602150538,
          0.7741935483870968,
          0.7956989247311828,
          0.7096774193548387,
          0.7741935483870968,
          0.7204301075268817,
          0.6989247311827957,
          0.7526881720430108,
          0.7096774193548387,
          0.7311827956989247,
          0.6451612903225806,
          0.7311827956989247,
          0.7311827956989247,
          0.7419354838709677,
          0.7741935483870968,
          0.7204301075268817,
          0.7419354838709677,
          0.7634408602150538,
          0.7634408602150538,
          0.7526881720430108,
          0.7204301075268817,
          0.7311827956989247,
          0.7204301075268817,
          0.7956989247311828,
          0.7634408602150538,
          0.7741935483870968,
          0.7741935483870968,
          0.7204301075268817,
          0.7311827956989247,
          0.7096774193548387,
          0.7526881720430108,
          0.7526881720430108,
          0.7526881720430108,
          0.7526881720430108,
          0.7204301075268817,
          0.6881720430107527,
          0.7096774193548387,
          0.7311827956989247,
          0.7526881720430108,
          0.7956989247311828,
          0.6881720430107527,
          0.7849462365591398,
          0.7526881720430108,
          0.7419354838709677,
          0.7526881720430108,
          0.7311827956989247,
          0.7419354838709677,
          0.8279569892473119,
          0.6989247311827957,
          0.7311827956989247,
          0.7526881720430108,
          0.6666666666666666,
          0.6666666666666666,
          0.7419354838709677,
          0.8064516129032258,
          0.7311827956989247,
          0.7849462365591398,
          0.7741935483870968,
          0.7526881720430108,
          0.7526881720430108,
          0.7741935483870968,
          0.6559139784946236,
          0.6236559139784946,
          0.7204301075268817,
          0.7096774193548387,
          0.7849462365591398,
          0.7741935483870968,
          0.7419354838709677,
          0.7311827956989247,
          0.7741935483870968,
          0.7741935483870968,
          0.7419354838709677,
          0.7634408602150538,
          0.7526881720430108,
          0.7956989247311828,
          0.7526881720430108,
          0.7526881720430108,
          0.7634408602150538,
          0.8064516129032258,
          0.7311827956989247,
          0.7204301075268817,
          0.7956989247311828,
          0.7311827956989247,
          0.7634408602150538,
          0.7849462365591398,
          0.7526881720430108,
          0.7526881720430108,
          0.6881720430107527,
          0.7634408602150538,
          0.7096774193548387,
          0.7526881720430108,
          0.6774193548387096,
          0.7849462365591398,
          0.7419354838709677,
          0.7741935483870968,
          0.6344086021505376,
          0.6774193548387096,
          0.7096774193548387,
          0.7526881720430108,
          0.6881720430107527,
          0.7311827956989247,
          0.6989247311827957,
          0.7311827956989247,
          0.8924731182795699,
          0.6344086021505376,
          0.7849462365591398,
          0.7419354838709677,
          0.7311827956989247,
          0.7204301075268817,
          0.6774193548387096,
          0.7311827956989247,
          0.7526881720430108,
          0.6989247311827957,
          0.8064516129032258,
          0.7311827956989247,
          0.7311827956989247,
          0.7311827956989247,
          0.7634408602150538,
          0.7204301075268817,
          0.7741935483870968,
          0.7634408602150538,
          0.7741935483870968,
          0.6666666666666666,
          0.7419354838709677,
          0.7956989247311828,
          0.7526881720430108,
          0.7741935483870968,
          0.7634408602150538,
          0.7741935483870968,
          0.7419354838709677,
          0.6881720430107527,
          0.7849462365591398,
          0.7311827956989247,
          0.6559139784946236,
          0.7526881720430108,
          0.6774193548387096,
          0.7741935483870968,
          0.7634408602150538,
          0.7204301075268817,
          0.7419354838709677,
          0.8172043010752689,
          0.7634408602150538,
          0.7526881720430108,
          0.7419354838709677,
          0.7419354838709677,
          0.8279569892473119,
          0.7526881720430108,
          0.7311827956989247,
          0.7741935483870968,
          0.7741935483870968,
          0.7526881720430108,
          0.8279569892473119,
          0.6881720430107527,
          0.7741935483870968,
          0.8064516129032258,
          0.7311827956989247,
          0.7849462365591398,
          0.7526881720430108,
          0.7096774193548387,
          0.6989247311827957,
          0.7956989247311828,
          0.7741935483870968,
          0.7419354838709677,
          0.7419354838709677,
          0.7634408602150538,
          0.7526881720430108,
          0.8064516129032258,
          0.7419354838709677,
          0.7526881720430108,
          0.7096774193548387,
          0.7849462365591398
         ],
         "xaxis": "x",
         "yaxis": "y"
        },
        {
         "alignmentgroup": "True",
         "bingroup": "x",
         "hovertemplate": "variable=knn<br>value=%{x}<br>count=%{y}<extra></extra>",
         "legendgroup": "knn",
         "marker": {
          "color": "#EF553B",
          "opacity": 0.5,
          "pattern": {
           "shape": ""
          }
         },
         "name": "knn",
         "offsetgroup": "knn",
         "orientation": "v",
         "showlegend": true,
         "type": "histogram",
         "x": [
          0.7741935483870968,
          0.6881720430107527,
          0.6881720430107527,
          0.7311827956989247,
          0.7096774193548387,
          0.7634408602150538,
          0.7419354838709677,
          0.6666666666666666,
          0.7311827956989247,
          0.7096774193548387,
          0.6451612903225806,
          0.7634408602150538,
          0.7634408602150538,
          0.7204301075268817,
          0.7204301075268817,
          0.6774193548387096,
          0.7634408602150538,
          0.7096774193548387,
          0.6559139784946236,
          0.7096774193548387,
          0.7526881720430108,
          0.8064516129032258,
          0.7311827956989247,
          0.7204301075268817,
          0.7204301075268817,
          0.7634408602150538,
          0.7096774193548387,
          0.7096774193548387,
          0.7311827956989247,
          0.6881720430107527,
          0.7311827956989247,
          0.7311827956989247,
          0.7204301075268817,
          0.7311827956989247,
          0.6774193548387096,
          0.6989247311827957,
          0.7956989247311828,
          0.7526881720430108,
          0.7741935483870968,
          0.7526881720430108,
          0.6666666666666666,
          0.7096774193548387,
          0.7311827956989247,
          0.7419354838709677,
          0.6989247311827957,
          0.7311827956989247,
          0.7634408602150538,
          0.7849462365591398,
          0.7419354838709677,
          0.7311827956989247,
          0.7204301075268817,
          0.7204301075268817,
          0.7741935483870968,
          0.7311827956989247,
          0.8064516129032258,
          0.7311827956989247,
          0.7849462365591398,
          0.7096774193548387,
          0.7849462365591398,
          0.7419354838709677,
          0.7419354838709677,
          0.7526881720430108,
          0.7204301075268817,
          0.7849462365591398,
          0.7096774193548387,
          0.6989247311827957,
          0.7741935483870968,
          0.7526881720430108,
          0.7096774193548387,
          0.6666666666666666,
          0.7634408602150538,
          0.7311827956989247,
          0.7634408602150538,
          0.7634408602150538,
          0.7526881720430108,
          0.7311827956989247,
          0.7526881720430108,
          0.7096774193548387,
          0.7096774193548387,
          0.7096774193548387,
          0.6881720430107527,
          0.6559139784946236,
          0.6559139784946236,
          0.7741935483870968,
          0.7634408602150538,
          0.7419354838709677,
          0.7741935483870968,
          0.7419354838709677,
          0.7634408602150538,
          0.7419354838709677,
          0.6021505376344086,
          0.6559139784946236,
          0.7096774193548387,
          0.6881720430107527,
          0.7311827956989247,
          0.7204301075268817,
          0.7311827956989247,
          0.7741935483870968,
          0.7526881720430108,
          0.7204301075268817,
          0.7526881720430108,
          0.7311827956989247,
          0.7419354838709677,
          0.7741935483870968,
          0.7204301075268817,
          0.6881720430107527,
          0.7526881720430108,
          0.7741935483870968,
          0.6559139784946236,
          0.6881720430107527,
          0.7419354838709677,
          0.7634408602150538,
          0.7634408602150538,
          0.7526881720430108,
          0.7849462365591398,
          0.7204301075268817,
          0.7204301075268817,
          0.7741935483870968,
          0.7311827956989247,
          0.7204301075268817,
          0.7526881720430108,
          0.7096774193548387,
          0.7634408602150538,
          0.7526881720430108,
          0.6774193548387096,
          0.6344086021505376,
          0.7526881720430108,
          0.7419354838709677,
          0.7311827956989247,
          0.7204301075268817,
          0.6881720430107527,
          0.6451612903225806,
          0.7526881720430108,
          0.6881720430107527,
          0.7849462365591398,
          0.7096774193548387,
          0.7634408602150538,
          0.7526881720430108,
          0.7849462365591398,
          0.7741935483870968,
          0.7956989247311828,
          0.7311827956989247,
          0.7849462365591398,
          0.7634408602150538,
          0.7204301075268817,
          0.7311827956989247,
          0.7526881720430108,
          0.6666666666666666,
          0.7311827956989247,
          0.7419354838709677,
          0.7204301075268817,
          0.7204301075268817,
          0.7096774193548387,
          0.7741935483870968,
          0.7311827956989247,
          0.7849462365591398,
          0.7204301075268817,
          0.7204301075268817,
          0.7419354838709677,
          0.7849462365591398,
          0.7419354838709677,
          0.7204301075268817,
          0.7526881720430108,
          0.7419354838709677,
          0.6881720430107527,
          0.7849462365591398,
          0.7741935483870968,
          0.7096774193548387,
          0.7096774193548387,
          0.7419354838709677,
          0.7634408602150538,
          0.7741935483870968,
          0.7096774193548387,
          0.7419354838709677,
          0.7311827956989247,
          0.7204301075268817,
          0.6989247311827957,
          0.7634408602150538,
          0.7204301075268817,
          0.7204301075268817,
          0.7526881720430108,
          0.6559139784946236,
          0.7634408602150538,
          0.7956989247311828,
          0.7204301075268817,
          0.7419354838709677,
          0.8172043010752689,
          0.6989247311827957,
          0.7096774193548387,
          0.7096774193548387,
          0.8279569892473119,
          0.7311827956989247,
          0.7419354838709677,
          0.6989247311827957,
          0.7204301075268817,
          0.7741935483870968,
          0.7741935483870968,
          0.7741935483870968,
          0.7204301075268817,
          0.7634408602150538
         ],
         "xaxis": "x",
         "yaxis": "y"
        }
       ],
       "layout": {
        "barmode": "overlay",
        "legend": {
         "title": {
          "text": "variable"
         },
         "tracegroupgap": 0
        },
        "margin": {
         "t": 60
        },
        "template": {
         "data": {
          "bar": [
           {
            "error_x": {
             "color": "#2a3f5f"
            },
            "error_y": {
             "color": "#2a3f5f"
            },
            "marker": {
             "line": {
              "color": "white",
              "width": 0.5
             },
             "pattern": {
              "fillmode": "overlay",
              "size": 10,
              "solidity": 0.2
             }
            },
            "type": "bar"
           }
          ],
          "barpolar": [
           {
            "marker": {
             "line": {
              "color": "white",
              "width": 0.5
             },
             "pattern": {
              "fillmode": "overlay",
              "size": 10,
              "solidity": 0.2
             }
            },
            "type": "barpolar"
           }
          ],
          "carpet": [
           {
            "aaxis": {
             "endlinecolor": "#2a3f5f",
             "gridcolor": "#C8D4E3",
             "linecolor": "#C8D4E3",
             "minorgridcolor": "#C8D4E3",
             "startlinecolor": "#2a3f5f"
            },
            "baxis": {
             "endlinecolor": "#2a3f5f",
             "gridcolor": "#C8D4E3",
             "linecolor": "#C8D4E3",
             "minorgridcolor": "#C8D4E3",
             "startlinecolor": "#2a3f5f"
            },
            "type": "carpet"
           }
          ],
          "choropleth": [
           {
            "colorbar": {
             "outlinewidth": 0,
             "ticks": ""
            },
            "type": "choropleth"
           }
          ],
          "contour": [
           {
            "colorbar": {
             "outlinewidth": 0,
             "ticks": ""
            },
            "colorscale": [
             [
              0,
              "#0d0887"
             ],
             [
              0.1111111111111111,
              "#46039f"
             ],
             [
              0.2222222222222222,
              "#7201a8"
             ],
             [
              0.3333333333333333,
              "#9c179e"
             ],
             [
              0.4444444444444444,
              "#bd3786"
             ],
             [
              0.5555555555555556,
              "#d8576b"
             ],
             [
              0.6666666666666666,
              "#ed7953"
             ],
             [
              0.7777777777777778,
              "#fb9f3a"
             ],
             [
              0.8888888888888888,
              "#fdca26"
             ],
             [
              1,
              "#f0f921"
             ]
            ],
            "type": "contour"
           }
          ],
          "contourcarpet": [
           {
            "colorbar": {
             "outlinewidth": 0,
             "ticks": ""
            },
            "type": "contourcarpet"
           }
          ],
          "heatmap": [
           {
            "colorbar": {
             "outlinewidth": 0,
             "ticks": ""
            },
            "colorscale": [
             [
              0,
              "#0d0887"
             ],
             [
              0.1111111111111111,
              "#46039f"
             ],
             [
              0.2222222222222222,
              "#7201a8"
             ],
             [
              0.3333333333333333,
              "#9c179e"
             ],
             [
              0.4444444444444444,
              "#bd3786"
             ],
             [
              0.5555555555555556,
              "#d8576b"
             ],
             [
              0.6666666666666666,
              "#ed7953"
             ],
             [
              0.7777777777777778,
              "#fb9f3a"
             ],
             [
              0.8888888888888888,
              "#fdca26"
             ],
             [
              1,
              "#f0f921"
             ]
            ],
            "type": "heatmap"
           }
          ],
          "heatmapgl": [
           {
            "colorbar": {
             "outlinewidth": 0,
             "ticks": ""
            },
            "colorscale": [
             [
              0,
              "#0d0887"
             ],
             [
              0.1111111111111111,
              "#46039f"
             ],
             [
              0.2222222222222222,
              "#7201a8"
             ],
             [
              0.3333333333333333,
              "#9c179e"
             ],
             [
              0.4444444444444444,
              "#bd3786"
             ],
             [
              0.5555555555555556,
              "#d8576b"
             ],
             [
              0.6666666666666666,
              "#ed7953"
             ],
             [
              0.7777777777777778,
              "#fb9f3a"
             ],
             [
              0.8888888888888888,
              "#fdca26"
             ],
             [
              1,
              "#f0f921"
             ]
            ],
            "type": "heatmapgl"
           }
          ],
          "histogram": [
           {
            "marker": {
             "pattern": {
              "fillmode": "overlay",
              "size": 10,
              "solidity": 0.2
             }
            },
            "type": "histogram"
           }
          ],
          "histogram2d": [
           {
            "colorbar": {
             "outlinewidth": 0,
             "ticks": ""
            },
            "colorscale": [
             [
              0,
              "#0d0887"
             ],
             [
              0.1111111111111111,
              "#46039f"
             ],
             [
              0.2222222222222222,
              "#7201a8"
             ],
             [
              0.3333333333333333,
              "#9c179e"
             ],
             [
              0.4444444444444444,
              "#bd3786"
             ],
             [
              0.5555555555555556,
              "#d8576b"
             ],
             [
              0.6666666666666666,
              "#ed7953"
             ],
             [
              0.7777777777777778,
              "#fb9f3a"
             ],
             [
              0.8888888888888888,
              "#fdca26"
             ],
             [
              1,
              "#f0f921"
             ]
            ],
            "type": "histogram2d"
           }
          ],
          "histogram2dcontour": [
           {
            "colorbar": {
             "outlinewidth": 0,
             "ticks": ""
            },
            "colorscale": [
             [
              0,
              "#0d0887"
             ],
             [
              0.1111111111111111,
              "#46039f"
             ],
             [
              0.2222222222222222,
              "#7201a8"
             ],
             [
              0.3333333333333333,
              "#9c179e"
             ],
             [
              0.4444444444444444,
              "#bd3786"
             ],
             [
              0.5555555555555556,
              "#d8576b"
             ],
             [
              0.6666666666666666,
              "#ed7953"
             ],
             [
              0.7777777777777778,
              "#fb9f3a"
             ],
             [
              0.8888888888888888,
              "#fdca26"
             ],
             [
              1,
              "#f0f921"
             ]
            ],
            "type": "histogram2dcontour"
           }
          ],
          "mesh3d": [
           {
            "colorbar": {
             "outlinewidth": 0,
             "ticks": ""
            },
            "type": "mesh3d"
           }
          ],
          "parcoords": [
           {
            "line": {
             "colorbar": {
              "outlinewidth": 0,
              "ticks": ""
             }
            },
            "type": "parcoords"
           }
          ],
          "pie": [
           {
            "automargin": true,
            "type": "pie"
           }
          ],
          "scatter": [
           {
            "marker": {
             "colorbar": {
              "outlinewidth": 0,
              "ticks": ""
             }
            },
            "type": "scatter"
           }
          ],
          "scatter3d": [
           {
            "line": {
             "colorbar": {
              "outlinewidth": 0,
              "ticks": ""
             }
            },
            "marker": {
             "colorbar": {
              "outlinewidth": 0,
              "ticks": ""
             }
            },
            "type": "scatter3d"
           }
          ],
          "scattercarpet": [
           {
            "marker": {
             "colorbar": {
              "outlinewidth": 0,
              "ticks": ""
             }
            },
            "type": "scattercarpet"
           }
          ],
          "scattergeo": [
           {
            "marker": {
             "colorbar": {
              "outlinewidth": 0,
              "ticks": ""
             }
            },
            "type": "scattergeo"
           }
          ],
          "scattergl": [
           {
            "marker": {
             "colorbar": {
              "outlinewidth": 0,
              "ticks": ""
             }
            },
            "type": "scattergl"
           }
          ],
          "scattermapbox": [
           {
            "marker": {
             "colorbar": {
              "outlinewidth": 0,
              "ticks": ""
             }
            },
            "type": "scattermapbox"
           }
          ],
          "scatterpolar": [
           {
            "marker": {
             "colorbar": {
              "outlinewidth": 0,
              "ticks": ""
             }
            },
            "type": "scatterpolar"
           }
          ],
          "scatterpolargl": [
           {
            "marker": {
             "colorbar": {
              "outlinewidth": 0,
              "ticks": ""
             }
            },
            "type": "scatterpolargl"
           }
          ],
          "scatterternary": [
           {
            "marker": {
             "colorbar": {
              "outlinewidth": 0,
              "ticks": ""
             }
            },
            "type": "scatterternary"
           }
          ],
          "surface": [
           {
            "colorbar": {
             "outlinewidth": 0,
             "ticks": ""
            },
            "colorscale": [
             [
              0,
              "#0d0887"
             ],
             [
              0.1111111111111111,
              "#46039f"
             ],
             [
              0.2222222222222222,
              "#7201a8"
             ],
             [
              0.3333333333333333,
              "#9c179e"
             ],
             [
              0.4444444444444444,
              "#bd3786"
             ],
             [
              0.5555555555555556,
              "#d8576b"
             ],
             [
              0.6666666666666666,
              "#ed7953"
             ],
             [
              0.7777777777777778,
              "#fb9f3a"
             ],
             [
              0.8888888888888888,
              "#fdca26"
             ],
             [
              1,
              "#f0f921"
             ]
            ],
            "type": "surface"
           }
          ],
          "table": [
           {
            "cells": {
             "fill": {
              "color": "#EBF0F8"
             },
             "line": {
              "color": "white"
             }
            },
            "header": {
             "fill": {
              "color": "#C8D4E3"
             },
             "line": {
              "color": "white"
             }
            },
            "type": "table"
           }
          ]
         },
         "layout": {
          "annotationdefaults": {
           "arrowcolor": "#2a3f5f",
           "arrowhead": 0,
           "arrowwidth": 1
          },
          "autotypenumbers": "strict",
          "coloraxis": {
           "colorbar": {
            "outlinewidth": 0,
            "ticks": ""
           }
          },
          "colorscale": {
           "diverging": [
            [
             0,
             "#8e0152"
            ],
            [
             0.1,
             "#c51b7d"
            ],
            [
             0.2,
             "#de77ae"
            ],
            [
             0.3,
             "#f1b6da"
            ],
            [
             0.4,
             "#fde0ef"
            ],
            [
             0.5,
             "#f7f7f7"
            ],
            [
             0.6,
             "#e6f5d0"
            ],
            [
             0.7,
             "#b8e186"
            ],
            [
             0.8,
             "#7fbc41"
            ],
            [
             0.9,
             "#4d9221"
            ],
            [
             1,
             "#276419"
            ]
           ],
           "sequential": [
            [
             0,
             "#0d0887"
            ],
            [
             0.1111111111111111,
             "#46039f"
            ],
            [
             0.2222222222222222,
             "#7201a8"
            ],
            [
             0.3333333333333333,
             "#9c179e"
            ],
            [
             0.4444444444444444,
             "#bd3786"
            ],
            [
             0.5555555555555556,
             "#d8576b"
            ],
            [
             0.6666666666666666,
             "#ed7953"
            ],
            [
             0.7777777777777778,
             "#fb9f3a"
            ],
            [
             0.8888888888888888,
             "#fdca26"
            ],
            [
             1,
             "#f0f921"
            ]
           ],
           "sequentialminus": [
            [
             0,
             "#0d0887"
            ],
            [
             0.1111111111111111,
             "#46039f"
            ],
            [
             0.2222222222222222,
             "#7201a8"
            ],
            [
             0.3333333333333333,
             "#9c179e"
            ],
            [
             0.4444444444444444,
             "#bd3786"
            ],
            [
             0.5555555555555556,
             "#d8576b"
            ],
            [
             0.6666666666666666,
             "#ed7953"
            ],
            [
             0.7777777777777778,
             "#fb9f3a"
            ],
            [
             0.8888888888888888,
             "#fdca26"
            ],
            [
             1,
             "#f0f921"
            ]
           ]
          },
          "colorway": [
           "#636efa",
           "#EF553B",
           "#00cc96",
           "#ab63fa",
           "#FFA15A",
           "#19d3f3",
           "#FF6692",
           "#B6E880",
           "#FF97FF",
           "#FECB52"
          ],
          "font": {
           "color": "#2a3f5f"
          },
          "geo": {
           "bgcolor": "white",
           "lakecolor": "white",
           "landcolor": "white",
           "showlakes": true,
           "showland": true,
           "subunitcolor": "#C8D4E3"
          },
          "hoverlabel": {
           "align": "left"
          },
          "hovermode": "closest",
          "mapbox": {
           "style": "light"
          },
          "paper_bgcolor": "white",
          "plot_bgcolor": "white",
          "polar": {
           "angularaxis": {
            "gridcolor": "#EBF0F8",
            "linecolor": "#EBF0F8",
            "ticks": ""
           },
           "bgcolor": "white",
           "radialaxis": {
            "gridcolor": "#EBF0F8",
            "linecolor": "#EBF0F8",
            "ticks": ""
           }
          },
          "scene": {
           "xaxis": {
            "backgroundcolor": "white",
            "gridcolor": "#DFE8F3",
            "gridwidth": 2,
            "linecolor": "#EBF0F8",
            "showbackground": true,
            "ticks": "",
            "zerolinecolor": "#EBF0F8"
           },
           "yaxis": {
            "backgroundcolor": "white",
            "gridcolor": "#DFE8F3",
            "gridwidth": 2,
            "linecolor": "#EBF0F8",
            "showbackground": true,
            "ticks": "",
            "zerolinecolor": "#EBF0F8"
           },
           "zaxis": {
            "backgroundcolor": "white",
            "gridcolor": "#DFE8F3",
            "gridwidth": 2,
            "linecolor": "#EBF0F8",
            "showbackground": true,
            "ticks": "",
            "zerolinecolor": "#EBF0F8"
           }
          },
          "shapedefaults": {
           "line": {
            "color": "#2a3f5f"
           }
          },
          "ternary": {
           "aaxis": {
            "gridcolor": "#DFE8F3",
            "linecolor": "#A2B1C6",
            "ticks": ""
           },
           "baxis": {
            "gridcolor": "#DFE8F3",
            "linecolor": "#A2B1C6",
            "ticks": ""
           },
           "bgcolor": "white",
           "caxis": {
            "gridcolor": "#DFE8F3",
            "linecolor": "#A2B1C6",
            "ticks": ""
           }
          },
          "title": {
           "x": 0.05
          },
          "xaxis": {
           "automargin": true,
           "gridcolor": "#EBF0F8",
           "linecolor": "#EBF0F8",
           "ticks": "",
           "title": {
            "standoff": 15
           },
           "zerolinecolor": "#EBF0F8",
           "zerolinewidth": 2
          },
          "yaxis": {
           "automargin": true,
           "gridcolor": "#EBF0F8",
           "linecolor": "#EBF0F8",
           "ticks": "",
           "title": {
            "standoff": 15
           },
           "zerolinecolor": "#EBF0F8",
           "zerolinewidth": 2
          }
         }
        },
        "xaxis": {
         "anchor": "y",
         "domain": [
          0,
          1
         ],
         "title": {
          "text": "value"
         }
        },
        "yaxis": {
         "anchor": "x",
         "domain": [
          0,
          1
         ],
         "title": {
          "text": "count"
         }
        }
       }
      }
     },
     "metadata": {},
     "output_type": "display_data"
    }
   ],
   "source": [
    "df_acc = pd.DataFrame(acc)\n",
    "px.histogram(df_acc, barmode=\"overlay\")"
   ]
  },
  {
   "cell_type": "code",
   "execution_count": 20,
   "metadata": {},
   "outputs": [
    {
     "name": "stdout",
     "output_type": "stream",
     "text": [
      "---> Estimate of the mean\n",
      "lr     0.745376\n",
      "knn    0.733441\n",
      "dtype: float64\n",
      "\n",
      "---> Estimate of the std\n",
      "lr     0.038563\n",
      "knn    0.037023\n",
      "dtype: float64\n"
     ]
    }
   ],
   "source": [
    "print(\"---> Estimate of the mean\")\n",
    "print(df_acc.mean())\n",
    "print()\n",
    "\n",
    "print(\"---> Estimate of the std\")\n",
    "print(df_acc.std())"
   ]
  },
  {
   "cell_type": "markdown",
   "metadata": {},
   "source": [
    "__Exercise 6 (1 pts).__ Is it true that a model with the lowest AIC is the best one? "
   ]
  },
  {
   "cell_type": "markdown",
   "metadata": {},
   "source": [
    "Not necessarily. For example if the number of observations is low (rule of thumb: if `n_obs / n_params < 40`), the AICc may be prefered. \\\n",
    "There is also the BIC. Similarly to the AIC, the BIC penalizes the increase of the likelihood by the number of parameters used to fit the model. The penalty term is however much larger for BIC than for AIC."
   ]
  },
  {
   "cell_type": "markdown",
   "metadata": {},
   "source": [
    "__Exercise 7 (1 pts).__ Explain the concept of bias-variance decomposition"
   ]
  },
  {
   "cell_type": "markdown",
   "metadata": {},
   "source": [
    "As the number of parameters in a model increases, the bias decreases because we are able to better fit the model (even up to over-fitting actually). However, the variance increases because the model needs to \"bend\" in order to fit as many data points as possible. This usually means that the model correctly predicts the training data points, but it is unable to generalize to (unseen) test data points.\\\n",
    "As a result, instead of monitoring the $bias$, or the $variance$ alone, we consider the $bias + variance$ and we look for an \"elbow\" in our plot. This elbow represents the best compromise between the two following phenomena:\n",
    "- the $bias$ has decreased as much as possible (which makes $bias + variance$ decrease)\n",
    "- the variance has not yet \"blown up\" too much\n",
    "\n",
    "Note the bias decreases as you add more parameters, so \"as much as possible\" in the first point means \"as much as possible, without having the variance blowing up\"."
   ]
  },
  {
   "cell_type": "markdown",
   "metadata": {},
   "source": [
    "__Exercise 8 (1 pts).__ From Exercise 1 compute the probability that the average prediction accuracy of Logistic classifier is greater than 0.66."
   ]
  },
  {
   "cell_type": "code",
   "execution_count": 14,
   "metadata": {
    "collapsed": true
   },
   "outputs": [
    {
     "data": {
      "application/vnd.plotly.v1+json": {
       "config": {
        "plotlyServerURL": "https://plot.ly"
       },
       "data": [
        {
         "alignmentgroup": "True",
         "bingroup": "x",
         "hovertemplate": "variable=lr<br>value=%{x}<br>count=%{y}<extra></extra>",
         "legendgroup": "lr",
         "marker": {
          "color": "#636efa",
          "pattern": {
           "shape": ""
          }
         },
         "name": "lr",
         "offsetgroup": "lr",
         "orientation": "v",
         "showlegend": true,
         "type": "histogram",
         "x": [
          0.6602112676056338,
          0.6843033509700176,
          0.6584507042253521,
          0.6772486772486772,
          0.6566901408450704,
          0.6701940035273368,
          0.6936619718309859,
          0.6455026455026455,
          0.653169014084507,
          0.6684303350970018,
          0.6883802816901409,
          0.654320987654321,
          0.6830985915492958,
          0.6631393298059964,
          0.6549295774647887,
          0.6860670194003528,
          0.6566901408450704,
          0.6807760141093474,
          0.6725352112676056,
          0.6666666666666666,
          0.6901408450704225,
          0.6472663139329806,
          0.6584507042253521,
          0.6649029982363316,
          0.6883802816901409,
          0.6684303350970018,
          0.6584507042253521,
          0.6507936507936508,
          0.670774647887324,
          0.671957671957672,
          0.6672535211267606,
          0.6772486772486772,
          0.653169014084507,
          0.6807760141093474,
          0.6654929577464789,
          0.6472663139329806,
          0.670774647887324,
          0.671957671957672,
          0.6549295774647887,
          0.6666666666666666,
          0.6619718309859155,
          0.6701940035273368,
          0.6725352112676056,
          0.6490299823633157,
          0.6549295774647887,
          0.6684303350970018,
          0.6443661971830986,
          0.6931216931216931,
          0.6830985915492958,
          0.6384479717813051,
          0.6637323943661971,
          0.6807760141093474,
          0.6426056338028169,
          0.6966490299823633,
          0.6919014084507042,
          0.6525573192239859,
          0.6813380281690141,
          0.6631393298059964,
          0.6602112676056338,
          0.654320987654321,
          0.6742957746478874,
          0.6754850088183422,
          0.6866197183098591,
          0.6613756613756614,
          0.6778169014084507,
          0.6666666666666666,
          0.676056338028169,
          0.6701940035273368,
          0.6795774647887324,
          0.6578483245149912,
          0.6725352112676056,
          0.6596119929453262,
          0.6619718309859155,
          0.6825396825396826,
          0.6566901408450704,
          0.6860670194003528,
          0.6426056338028169,
          0.6825396825396826,
          0.6584507042253521,
          0.6684303350970018,
          0.6778169014084507,
          0.6684303350970018,
          0.6373239436619719,
          0.6966490299823633,
          0.6496478873239436,
          0.6772486772486772,
          0.653169014084507,
          0.6843033509700176,
          0.6830985915492958,
          0.6596119929453262,
          0.6602112676056338,
          0.6649029982363316,
          0.6338028169014085,
          0.6807760141093474,
          0.6602112676056338,
          0.6754850088183422,
          0.6619718309859155,
          0.6772486772486772,
          0.6619718309859155,
          0.6860670194003528,
          0.6883802816901409,
          0.6507936507936508,
          0.6672535211267606,
          0.6649029982363316,
          0.6443661971830986,
          0.6649029982363316,
          0.698943661971831,
          0.6331569664902998,
          0.6725352112676056,
          0.6666666666666666,
          0.647887323943662,
          0.6772486772486772,
          0.6514084507042254,
          0.6948853615520282,
          0.6549295774647887,
          0.6843033509700176,
          0.6619718309859155,
          0.6843033509700176,
          0.6514084507042254,
          0.6790123456790124,
          0.647887323943662,
          0.6790123456790124,
          0.6725352112676056,
          0.6578483245149912,
          0.6496478873239436,
          0.691358024691358,
          0.6901408450704225,
          0.6472663139329806,
          0.6813380281690141,
          0.6225749559082893,
          0.6795774647887324,
          0.6631393298059964,
          0.6672535211267606,
          0.6507936507936508,
          0.6672535211267606,
          0.6596119929453262,
          0.6830985915492958,
          0.6684303350970018,
          0.6584507042253521,
          0.671957671957672,
          0.6919014084507042,
          0.6472663139329806,
          0.6619718309859155,
          0.671957671957672,
          0.6619718309859155,
          0.6807760141093474,
          0.6619718309859155,
          0.6772486772486772,
          0.6725352112676056,
          0.6701940035273368,
          0.6267605633802817,
          0.7178130511463845,
          0.6672535211267606,
          0.6825396825396826,
          0.6619718309859155,
          0.6984126984126984,
          0.653169014084507,
          0.6754850088183422,
          0.6654929577464789,
          0.6613756613756614,
          0.6690140845070423,
          0.6807760141093474,
          0.6742957746478874,
          0.6578483245149912,
          0.6672535211267606,
          0.6754850088183422,
          0.6830985915492958,
          0.6490299823633157,
          0.676056338028169,
          0.656084656084656,
          0.6584507042253521,
          0.656084656084656,
          0.6549295774647887,
          0.6684303350970018,
          0.6461267605633803,
          0.7001763668430335,
          0.6637323943661971,
          0.6843033509700176,
          0.6320422535211268,
          0.6878306878306878,
          0.6566901408450704,
          0.6860670194003528,
          0.6742957746478874,
          0.6754850088183422,
          0.6725352112676056,
          0.6754850088183422,
          0.6320422535211268,
          0.6772486772486772,
          0.6901408450704225,
          0.6384479717813051,
          0.6584507042253521,
          0.6807760141093474,
          0.6584507042253521,
          0.6649029982363316,
          0.6690140845070423,
          0.6772486772486772,
          0.6584507042253521,
          0.6825396825396826,
          0.6813380281690141,
          0.6701940035273368
         ],
         "xaxis": "x",
         "yaxis": "y"
        },
        {
         "alignmentgroup": "True",
         "bingroup": "x",
         "hovertemplate": "variable=knn<br>value=%{x}<br>count=%{y}<extra></extra>",
         "legendgroup": "knn",
         "marker": {
          "color": "#EF553B",
          "pattern": {
           "shape": ""
          }
         },
         "name": "knn",
         "offsetgroup": "knn",
         "orientation": "v",
         "showlegend": true,
         "type": "histogram",
         "x": [
          0.6302816901408451,
          0.6296296296296297,
          0.5933098591549296,
          0.6472663139329806,
          0.5933098591549296,
          0.6472663139329806,
          0.6302816901408451,
          0.5855379188712522,
          0.6126760563380281,
          0.6031746031746031,
          0.6285211267605634,
          0.6172839506172839,
          0.6091549295774648,
          0.6313932980599647,
          0.6285211267605634,
          0.63668430335097,
          0.6003521126760564,
          0.6084656084656085,
          0.6373239436619719,
          0.654320987654321,
          0.6267605633802817,
          0.6296296296296297,
          0.602112676056338,
          0.6243386243386243,
          0.6302816901408451,
          0.6261022927689595,
          0.6073943661971831,
          0.6331569664902998,
          0.6214788732394366,
          0.599647266313933,
          0.6161971830985915,
          0.6155202821869489,
          0.6056338028169014,
          0.6578483245149912,
          0.5845070422535211,
          0.6208112874779541,
          0.6197183098591549,
          0.6296296296296297,
          0.6355633802816901,
          0.6278659611992945,
          0.6038732394366197,
          0.6014109347442681,
          0.6197183098591549,
          0.6084656084656085,
          0.6091549295774648,
          0.6261022927689595,
          0.6232394366197183,
          0.63668430335097,
          0.6214788732394366,
          0.6137566137566137,
          0.6285211267605634,
          0.6261022927689595,
          0.6091549295774648,
          0.6049382716049383,
          0.6197183098591549,
          0.6067019400352733,
          0.6073943661971831,
          0.6437389770723104,
          0.6232394366197183,
          0.6014109347442681,
          0.5950704225352113,
          0.6137566137566137,
          0.6302816901408451,
          0.6049382716049383,
          0.6461267605633803,
          0.6119929453262787,
          0.5827464788732394,
          0.6278659611992945,
          0.6232394366197183,
          0.63668430335097,
          0.6267605633802817,
          0.6313932980599647,
          0.6514084507042254,
          0.6331569664902998,
          0.6338028169014085,
          0.654320987654321,
          0.6373239436619719,
          0.6190476190476191,
          0.6144366197183099,
          0.6313932980599647,
          0.625,
          0.6119929453262787,
          0.6267605633802817,
          0.6119929453262787,
          0.6126760563380281,
          0.6349206349206349,
          0.6179577464788732,
          0.6172839506172839,
          0.6373239436619719,
          0.5943562610229277,
          0.6126760563380281,
          0.6490299823633157,
          0.6161971830985915,
          0.5961199294532628,
          0.6514084507042254,
          0.6384479717813051,
          0.6197183098591549,
          0.599647266313933,
          0.6443661971830986,
          0.6084656084656085,
          0.6197183098591549,
          0.6102292768959435,
          0.6320422535211268,
          0.6384479717813051,
          0.6267605633802817,
          0.63668430335097,
          0.6073943661971831,
          0.6102292768959435,
          0.6144366197183099,
          0.6137566137566137,
          0.6355633802816901,
          0.6084656084656085,
          0.596830985915493,
          0.6031746031746031,
          0.6355633802816901,
          0.6261022927689595,
          0.6179577464788732,
          0.6137566137566137,
          0.6426056338028169,
          0.5978835978835979,
          0.602112676056338,
          0.6402116402116402,
          0.6197183098591549,
          0.6014109347442681,
          0.6338028169014085,
          0.6172839506172839,
          0.6373239436619719,
          0.6243386243386243,
          0.5950704225352113,
          0.6049382716049383,
          0.6091549295774648,
          0.6419753086419753,
          0.6390845070422535,
          0.5961199294532628,
          0.6214788732394366,
          0.6243386243386243,
          0.6091549295774648,
          0.6208112874779541,
          0.5862676056338029,
          0.6331569664902998,
          0.6461267605633803,
          0.6349206349206349,
          0.6285211267605634,
          0.6349206349206349,
          0.6232394366197183,
          0.6208112874779541,
          0.6302816901408451,
          0.6049382716049383,
          0.6144366197183099,
          0.6455026455026455,
          0.6320422535211268,
          0.6402116402116402,
          0.6126760563380281,
          0.6490299823633157,
          0.602112676056338,
          0.63668430335097,
          0.6285211267605634,
          0.5855379188712522,
          0.6038732394366197,
          0.6155202821869489,
          0.6320422535211268,
          0.6313932980599647,
          0.6232394366197183,
          0.63668430335097,
          0.6373239436619719,
          0.6296296296296297,
          0.6214788732394366,
          0.6031746031746031,
          0.6373239436619719,
          0.6137566137566137,
          0.5985915492957746,
          0.6119929453262787,
          0.6355633802816901,
          0.6278659611992945,
          0.6038732394366197,
          0.656084656084656,
          0.6338028169014085,
          0.6313932980599647,
          0.6197183098591549,
          0.5978835978835979,
          0.6320422535211268,
          0.6507936507936508,
          0.6161971830985915,
          0.6031746031746031,
          0.6285211267605634,
          0.6349206349206349,
          0.6003521126760564,
          0.5837742504409171,
          0.6003521126760564,
          0.6014109347442681,
          0.6073943661971831,
          0.6313932980599647,
          0.6496478873239436,
          0.5925925925925926,
          0.6373239436619719,
          0.6084656084656085,
          0.6126760563380281,
          0.6296296296296297,
          0.6566901408450704,
          0.6384479717813051
         ],
         "xaxis": "x",
         "yaxis": "y"
        }
       ],
       "layout": {
        "barmode": "relative",
        "legend": {
         "title": {
          "text": "variable"
         },
         "tracegroupgap": 0
        },
        "margin": {
         "t": 60
        },
        "template": {
         "data": {
          "bar": [
           {
            "error_x": {
             "color": "#2a3f5f"
            },
            "error_y": {
             "color": "#2a3f5f"
            },
            "marker": {
             "line": {
              "color": "white",
              "width": 0.5
             },
             "pattern": {
              "fillmode": "overlay",
              "size": 10,
              "solidity": 0.2
             }
            },
            "type": "bar"
           }
          ],
          "barpolar": [
           {
            "marker": {
             "line": {
              "color": "white",
              "width": 0.5
             },
             "pattern": {
              "fillmode": "overlay",
              "size": 10,
              "solidity": 0.2
             }
            },
            "type": "barpolar"
           }
          ],
          "carpet": [
           {
            "aaxis": {
             "endlinecolor": "#2a3f5f",
             "gridcolor": "#C8D4E3",
             "linecolor": "#C8D4E3",
             "minorgridcolor": "#C8D4E3",
             "startlinecolor": "#2a3f5f"
            },
            "baxis": {
             "endlinecolor": "#2a3f5f",
             "gridcolor": "#C8D4E3",
             "linecolor": "#C8D4E3",
             "minorgridcolor": "#C8D4E3",
             "startlinecolor": "#2a3f5f"
            },
            "type": "carpet"
           }
          ],
          "choropleth": [
           {
            "colorbar": {
             "outlinewidth": 0,
             "ticks": ""
            },
            "type": "choropleth"
           }
          ],
          "contour": [
           {
            "colorbar": {
             "outlinewidth": 0,
             "ticks": ""
            },
            "colorscale": [
             [
              0,
              "#0d0887"
             ],
             [
              0.1111111111111111,
              "#46039f"
             ],
             [
              0.2222222222222222,
              "#7201a8"
             ],
             [
              0.3333333333333333,
              "#9c179e"
             ],
             [
              0.4444444444444444,
              "#bd3786"
             ],
             [
              0.5555555555555556,
              "#d8576b"
             ],
             [
              0.6666666666666666,
              "#ed7953"
             ],
             [
              0.7777777777777778,
              "#fb9f3a"
             ],
             [
              0.8888888888888888,
              "#fdca26"
             ],
             [
              1,
              "#f0f921"
             ]
            ],
            "type": "contour"
           }
          ],
          "contourcarpet": [
           {
            "colorbar": {
             "outlinewidth": 0,
             "ticks": ""
            },
            "type": "contourcarpet"
           }
          ],
          "heatmap": [
           {
            "colorbar": {
             "outlinewidth": 0,
             "ticks": ""
            },
            "colorscale": [
             [
              0,
              "#0d0887"
             ],
             [
              0.1111111111111111,
              "#46039f"
             ],
             [
              0.2222222222222222,
              "#7201a8"
             ],
             [
              0.3333333333333333,
              "#9c179e"
             ],
             [
              0.4444444444444444,
              "#bd3786"
             ],
             [
              0.5555555555555556,
              "#d8576b"
             ],
             [
              0.6666666666666666,
              "#ed7953"
             ],
             [
              0.7777777777777778,
              "#fb9f3a"
             ],
             [
              0.8888888888888888,
              "#fdca26"
             ],
             [
              1,
              "#f0f921"
             ]
            ],
            "type": "heatmap"
           }
          ],
          "heatmapgl": [
           {
            "colorbar": {
             "outlinewidth": 0,
             "ticks": ""
            },
            "colorscale": [
             [
              0,
              "#0d0887"
             ],
             [
              0.1111111111111111,
              "#46039f"
             ],
             [
              0.2222222222222222,
              "#7201a8"
             ],
             [
              0.3333333333333333,
              "#9c179e"
             ],
             [
              0.4444444444444444,
              "#bd3786"
             ],
             [
              0.5555555555555556,
              "#d8576b"
             ],
             [
              0.6666666666666666,
              "#ed7953"
             ],
             [
              0.7777777777777778,
              "#fb9f3a"
             ],
             [
              0.8888888888888888,
              "#fdca26"
             ],
             [
              1,
              "#f0f921"
             ]
            ],
            "type": "heatmapgl"
           }
          ],
          "histogram": [
           {
            "marker": {
             "pattern": {
              "fillmode": "overlay",
              "size": 10,
              "solidity": 0.2
             }
            },
            "type": "histogram"
           }
          ],
          "histogram2d": [
           {
            "colorbar": {
             "outlinewidth": 0,
             "ticks": ""
            },
            "colorscale": [
             [
              0,
              "#0d0887"
             ],
             [
              0.1111111111111111,
              "#46039f"
             ],
             [
              0.2222222222222222,
              "#7201a8"
             ],
             [
              0.3333333333333333,
              "#9c179e"
             ],
             [
              0.4444444444444444,
              "#bd3786"
             ],
             [
              0.5555555555555556,
              "#d8576b"
             ],
             [
              0.6666666666666666,
              "#ed7953"
             ],
             [
              0.7777777777777778,
              "#fb9f3a"
             ],
             [
              0.8888888888888888,
              "#fdca26"
             ],
             [
              1,
              "#f0f921"
             ]
            ],
            "type": "histogram2d"
           }
          ],
          "histogram2dcontour": [
           {
            "colorbar": {
             "outlinewidth": 0,
             "ticks": ""
            },
            "colorscale": [
             [
              0,
              "#0d0887"
             ],
             [
              0.1111111111111111,
              "#46039f"
             ],
             [
              0.2222222222222222,
              "#7201a8"
             ],
             [
              0.3333333333333333,
              "#9c179e"
             ],
             [
              0.4444444444444444,
              "#bd3786"
             ],
             [
              0.5555555555555556,
              "#d8576b"
             ],
             [
              0.6666666666666666,
              "#ed7953"
             ],
             [
              0.7777777777777778,
              "#fb9f3a"
             ],
             [
              0.8888888888888888,
              "#fdca26"
             ],
             [
              1,
              "#f0f921"
             ]
            ],
            "type": "histogram2dcontour"
           }
          ],
          "mesh3d": [
           {
            "colorbar": {
             "outlinewidth": 0,
             "ticks": ""
            },
            "type": "mesh3d"
           }
          ],
          "parcoords": [
           {
            "line": {
             "colorbar": {
              "outlinewidth": 0,
              "ticks": ""
             }
            },
            "type": "parcoords"
           }
          ],
          "pie": [
           {
            "automargin": true,
            "type": "pie"
           }
          ],
          "scatter": [
           {
            "marker": {
             "colorbar": {
              "outlinewidth": 0,
              "ticks": ""
             }
            },
            "type": "scatter"
           }
          ],
          "scatter3d": [
           {
            "line": {
             "colorbar": {
              "outlinewidth": 0,
              "ticks": ""
             }
            },
            "marker": {
             "colorbar": {
              "outlinewidth": 0,
              "ticks": ""
             }
            },
            "type": "scatter3d"
           }
          ],
          "scattercarpet": [
           {
            "marker": {
             "colorbar": {
              "outlinewidth": 0,
              "ticks": ""
             }
            },
            "type": "scattercarpet"
           }
          ],
          "scattergeo": [
           {
            "marker": {
             "colorbar": {
              "outlinewidth": 0,
              "ticks": ""
             }
            },
            "type": "scattergeo"
           }
          ],
          "scattergl": [
           {
            "marker": {
             "colorbar": {
              "outlinewidth": 0,
              "ticks": ""
             }
            },
            "type": "scattergl"
           }
          ],
          "scattermapbox": [
           {
            "marker": {
             "colorbar": {
              "outlinewidth": 0,
              "ticks": ""
             }
            },
            "type": "scattermapbox"
           }
          ],
          "scatterpolar": [
           {
            "marker": {
             "colorbar": {
              "outlinewidth": 0,
              "ticks": ""
             }
            },
            "type": "scatterpolar"
           }
          ],
          "scatterpolargl": [
           {
            "marker": {
             "colorbar": {
              "outlinewidth": 0,
              "ticks": ""
             }
            },
            "type": "scatterpolargl"
           }
          ],
          "scatterternary": [
           {
            "marker": {
             "colorbar": {
              "outlinewidth": 0,
              "ticks": ""
             }
            },
            "type": "scatterternary"
           }
          ],
          "surface": [
           {
            "colorbar": {
             "outlinewidth": 0,
             "ticks": ""
            },
            "colorscale": [
             [
              0,
              "#0d0887"
             ],
             [
              0.1111111111111111,
              "#46039f"
             ],
             [
              0.2222222222222222,
              "#7201a8"
             ],
             [
              0.3333333333333333,
              "#9c179e"
             ],
             [
              0.4444444444444444,
              "#bd3786"
             ],
             [
              0.5555555555555556,
              "#d8576b"
             ],
             [
              0.6666666666666666,
              "#ed7953"
             ],
             [
              0.7777777777777778,
              "#fb9f3a"
             ],
             [
              0.8888888888888888,
              "#fdca26"
             ],
             [
              1,
              "#f0f921"
             ]
            ],
            "type": "surface"
           }
          ],
          "table": [
           {
            "cells": {
             "fill": {
              "color": "#EBF0F8"
             },
             "line": {
              "color": "white"
             }
            },
            "header": {
             "fill": {
              "color": "#C8D4E3"
             },
             "line": {
              "color": "white"
             }
            },
            "type": "table"
           }
          ]
         },
         "layout": {
          "annotationdefaults": {
           "arrowcolor": "#2a3f5f",
           "arrowhead": 0,
           "arrowwidth": 1
          },
          "autotypenumbers": "strict",
          "coloraxis": {
           "colorbar": {
            "outlinewidth": 0,
            "ticks": ""
           }
          },
          "colorscale": {
           "diverging": [
            [
             0,
             "#8e0152"
            ],
            [
             0.1,
             "#c51b7d"
            ],
            [
             0.2,
             "#de77ae"
            ],
            [
             0.3,
             "#f1b6da"
            ],
            [
             0.4,
             "#fde0ef"
            ],
            [
             0.5,
             "#f7f7f7"
            ],
            [
             0.6,
             "#e6f5d0"
            ],
            [
             0.7,
             "#b8e186"
            ],
            [
             0.8,
             "#7fbc41"
            ],
            [
             0.9,
             "#4d9221"
            ],
            [
             1,
             "#276419"
            ]
           ],
           "sequential": [
            [
             0,
             "#0d0887"
            ],
            [
             0.1111111111111111,
             "#46039f"
            ],
            [
             0.2222222222222222,
             "#7201a8"
            ],
            [
             0.3333333333333333,
             "#9c179e"
            ],
            [
             0.4444444444444444,
             "#bd3786"
            ],
            [
             0.5555555555555556,
             "#d8576b"
            ],
            [
             0.6666666666666666,
             "#ed7953"
            ],
            [
             0.7777777777777778,
             "#fb9f3a"
            ],
            [
             0.8888888888888888,
             "#fdca26"
            ],
            [
             1,
             "#f0f921"
            ]
           ],
           "sequentialminus": [
            [
             0,
             "#0d0887"
            ],
            [
             0.1111111111111111,
             "#46039f"
            ],
            [
             0.2222222222222222,
             "#7201a8"
            ],
            [
             0.3333333333333333,
             "#9c179e"
            ],
            [
             0.4444444444444444,
             "#bd3786"
            ],
            [
             0.5555555555555556,
             "#d8576b"
            ],
            [
             0.6666666666666666,
             "#ed7953"
            ],
            [
             0.7777777777777778,
             "#fb9f3a"
            ],
            [
             0.8888888888888888,
             "#fdca26"
            ],
            [
             1,
             "#f0f921"
            ]
           ]
          },
          "colorway": [
           "#636efa",
           "#EF553B",
           "#00cc96",
           "#ab63fa",
           "#FFA15A",
           "#19d3f3",
           "#FF6692",
           "#B6E880",
           "#FF97FF",
           "#FECB52"
          ],
          "font": {
           "color": "#2a3f5f"
          },
          "geo": {
           "bgcolor": "white",
           "lakecolor": "white",
           "landcolor": "white",
           "showlakes": true,
           "showland": true,
           "subunitcolor": "#C8D4E3"
          },
          "hoverlabel": {
           "align": "left"
          },
          "hovermode": "closest",
          "mapbox": {
           "style": "light"
          },
          "paper_bgcolor": "white",
          "plot_bgcolor": "white",
          "polar": {
           "angularaxis": {
            "gridcolor": "#EBF0F8",
            "linecolor": "#EBF0F8",
            "ticks": ""
           },
           "bgcolor": "white",
           "radialaxis": {
            "gridcolor": "#EBF0F8",
            "linecolor": "#EBF0F8",
            "ticks": ""
           }
          },
          "scene": {
           "xaxis": {
            "backgroundcolor": "white",
            "gridcolor": "#DFE8F3",
            "gridwidth": 2,
            "linecolor": "#EBF0F8",
            "showbackground": true,
            "ticks": "",
            "zerolinecolor": "#EBF0F8"
           },
           "yaxis": {
            "backgroundcolor": "white",
            "gridcolor": "#DFE8F3",
            "gridwidth": 2,
            "linecolor": "#EBF0F8",
            "showbackground": true,
            "ticks": "",
            "zerolinecolor": "#EBF0F8"
           },
           "zaxis": {
            "backgroundcolor": "white",
            "gridcolor": "#DFE8F3",
            "gridwidth": 2,
            "linecolor": "#EBF0F8",
            "showbackground": true,
            "ticks": "",
            "zerolinecolor": "#EBF0F8"
           }
          },
          "shapedefaults": {
           "line": {
            "color": "#2a3f5f"
           }
          },
          "ternary": {
           "aaxis": {
            "gridcolor": "#DFE8F3",
            "linecolor": "#A2B1C6",
            "ticks": ""
           },
           "baxis": {
            "gridcolor": "#DFE8F3",
            "linecolor": "#A2B1C6",
            "ticks": ""
           },
           "bgcolor": "white",
           "caxis": {
            "gridcolor": "#DFE8F3",
            "linecolor": "#A2B1C6",
            "ticks": ""
           }
          },
          "title": {
           "x": 0.05
          },
          "xaxis": {
           "automargin": true,
           "gridcolor": "#EBF0F8",
           "linecolor": "#EBF0F8",
           "ticks": "",
           "title": {
            "standoff": 15
           },
           "zerolinecolor": "#EBF0F8",
           "zerolinewidth": 2
          },
          "yaxis": {
           "automargin": true,
           "gridcolor": "#EBF0F8",
           "linecolor": "#EBF0F8",
           "ticks": "",
           "title": {
            "standoff": 15
           },
           "zerolinecolor": "#EBF0F8",
           "zerolinewidth": 2
          }
         }
        },
        "xaxis": {
         "anchor": "y",
         "domain": [
          0,
          1
         ],
         "title": {
          "text": "value"
         }
        },
        "yaxis": {
         "anchor": "x",
         "domain": [
          0,
          1
         ],
         "title": {
          "text": "count"
         }
        }
       }
      }
     },
     "metadata": {},
     "output_type": "display_data"
    }
   ],
   "source": [
    "px.histogram(df_acc)"
   ]
  }
 ],
 "metadata": {
  "anaconda-cloud": {},
  "kernelspec": {
   "display_name": "Python 3",
   "language": "python",
   "name": "python3"
  },
  "language_info": {
   "codemirror_mode": {
    "name": "ipython",
    "version": 3
   },
   "file_extension": ".py",
   "mimetype": "text/x-python",
   "name": "python",
   "nbconvert_exporter": "python",
   "pygments_lexer": "ipython3",
   "version": "3.9.12"
  }
 },
 "nbformat": 4,
 "nbformat_minor": 1
}

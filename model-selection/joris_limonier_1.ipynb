{
 "cells": [
  {
   "cell_type": "markdown",
   "metadata": {},
   "source": [
    "# Assignment 1\n"
   ]
  },
  {
   "cell_type": "markdown",
   "metadata": {},
   "source": [
    "## Assigments 1.1\n",
    "\n",
    "This first part of the assignments is based on the iris dataset (https://en.wikipedia.org/wiki/Iris_flower_data_set)\n"
   ]
  },
  {
   "cell_type": "code",
   "execution_count": 1,
   "metadata": {},
   "outputs": [],
   "source": [
    "# numerical\n",
    "import pandas as pd\n",
    "import numpy as np\n",
    "\n",
    "np.random.seed(42)  # set seed for reproducible results\n",
    "\n",
    "# plotting\n",
    "import plotly.express as px\n",
    "\n",
    "\n",
    "# sklearn data\n",
    "from sklearn.datasets import load_iris\n"
   ]
  },
  {
   "cell_type": "code",
   "execution_count": 2,
   "metadata": {},
   "outputs": [
    {
     "name": "stdout",
     "output_type": "stream",
     "text": [
      "There are 4 features, whose names are: \t['sepal length (cm)' 'sepal width (cm)' 'petal length (cm)'\n",
      " 'petal width (cm)']\n",
      "    \n",
      "There are 3 classes to predict, whose names are: \t['setosa' 'versicolor' 'virginica']\"\n",
      "    \n",
      "There are 150 observations\n",
      "    \n"
     ]
    }
   ],
   "source": [
    "iris_dataset = load_iris()\n",
    "\n",
    "# extracting the relevant information\n",
    "data = pd.DataFrame(data=iris_dataset.data, columns=iris_dataset.feature_names)\n",
    "data_feature_names = data.columns\n",
    "target = iris_dataset.target\n",
    "target_names = iris_dataset.target_names\n",
    "\n",
    "print(\n",
    "    f\"\"\"There are {len(data_feature_names)} features, whose names are: \\t{data_feature_names.values}\n",
    "    \\nThere are {len(target_names)} classes to predict, whose names are: \\t{target_names}\"\n",
    "    \\nThere are {data.shape[0]} observations\n",
    "    \"\"\"\n",
    ")\n"
   ]
  },
  {
   "cell_type": "markdown",
   "metadata": {},
   "source": [
    "$\\mathbf{Exercise\\, 1.}$ Compute the median, mean and standard deviation for each of the 4 features in the iris dataset (don't use numpy or other pre-defined functions, write your own routine).\n"
   ]
  },
  {
   "cell_type": "code",
   "execution_count": 3,
   "metadata": {},
   "outputs": [
    {
     "data": {
      "text/html": [
       "<div>\n",
       "<style scoped>\n",
       "    .dataframe tbody tr th:only-of-type {\n",
       "        vertical-align: middle;\n",
       "    }\n",
       "\n",
       "    .dataframe tbody tr th {\n",
       "        vertical-align: top;\n",
       "    }\n",
       "\n",
       "    .dataframe thead th {\n",
       "        text-align: right;\n",
       "    }\n",
       "</style>\n",
       "<table border=\"1\" class=\"dataframe\">\n",
       "  <thead>\n",
       "    <tr style=\"text-align: right;\">\n",
       "      <th></th>\n",
       "      <th>sepal length (cm)</th>\n",
       "      <th>sepal width (cm)</th>\n",
       "      <th>petal length (cm)</th>\n",
       "      <th>petal width (cm)</th>\n",
       "    </tr>\n",
       "  </thead>\n",
       "  <tbody>\n",
       "    <tr>\n",
       "      <th>mean</th>\n",
       "      <td>5.843333</td>\n",
       "      <td>3.057333</td>\n",
       "      <td>3.758000</td>\n",
       "      <td>1.199333</td>\n",
       "    </tr>\n",
       "    <tr>\n",
       "      <th>variance</th>\n",
       "      <td>0.685694</td>\n",
       "      <td>0.189979</td>\n",
       "      <td>3.116278</td>\n",
       "      <td>0.581006</td>\n",
       "    </tr>\n",
       "    <tr>\n",
       "      <th>std</th>\n",
       "      <td>0.828066</td>\n",
       "      <td>0.435866</td>\n",
       "      <td>1.765298</td>\n",
       "      <td>0.762238</td>\n",
       "    </tr>\n",
       "  </tbody>\n",
       "</table>\n",
       "</div>"
      ],
      "text/plain": [
       "          sepal length (cm)  sepal width (cm)  petal length (cm)  \\\n",
       "mean               5.843333          3.057333           3.758000   \n",
       "variance           0.685694          0.189979           3.116278   \n",
       "std                0.828066          0.435866           1.765298   \n",
       "\n",
       "          petal width (cm)  \n",
       "mean              1.199333  \n",
       "variance          0.581006  \n",
       "std               0.762238  "
      ]
     },
     "execution_count": 3,
     "metadata": {},
     "output_type": "execute_result"
    }
   ],
   "source": [
    "def mean_bh(series):\n",
    "    \"\"\"computes the mean of a column by hand\"\"\"\n",
    "    return series.sum() / len(series)\n",
    "\n",
    "\n",
    "def var_bh(series):\n",
    "    \"\"\"computes the variance of a column by hand\"\"\"\n",
    "    series_mean = mean_bh(series)\n",
    "\n",
    "    # variance denominator is (len(series)-1) for unbiased variance\n",
    "    return ((series - series_mean) ** 2).sum() / (len(series) - 1)\n",
    "\n",
    "\n",
    "def st_dev_bh(series):\n",
    "    \"\"\"computes the standard deviation of a column by hand\"\"\"\n",
    "    series_var = var_bh(series)\n",
    "    assert series_var >= 0, \"variance must (and should) be positive to take its square\"\n",
    "    return series_var ** (1 / 2)\n",
    "\n",
    "\n",
    "df_desc_bh = pd.DataFrame(columns=data.columns)\n",
    "df_desc_bh.loc[\"mean\"] = data.apply(lambda series: mean_bh(series))\n",
    "df_desc_bh.loc[\"variance\"] = data.apply(lambda series: var_bh(series))\n",
    "df_desc_bh.loc[\"std\"] = data.apply(lambda series: st_dev_bh(series))\n",
    "df_desc_bh\n"
   ]
  },
  {
   "cell_type": "markdown",
   "metadata": {},
   "source": [
    "We compute the values using pandas built-in functions to verify our result:\n"
   ]
  },
  {
   "cell_type": "code",
   "execution_count": 4,
   "metadata": {},
   "outputs": [
    {
     "data": {
      "text/html": [
       "<div>\n",
       "<style scoped>\n",
       "    .dataframe tbody tr th:only-of-type {\n",
       "        vertical-align: middle;\n",
       "    }\n",
       "\n",
       "    .dataframe tbody tr th {\n",
       "        vertical-align: top;\n",
       "    }\n",
       "\n",
       "    .dataframe thead th {\n",
       "        text-align: right;\n",
       "    }\n",
       "</style>\n",
       "<table border=\"1\" class=\"dataframe\">\n",
       "  <thead>\n",
       "    <tr style=\"text-align: right;\">\n",
       "      <th></th>\n",
       "      <th>sepal length (cm)</th>\n",
       "      <th>sepal width (cm)</th>\n",
       "      <th>petal length (cm)</th>\n",
       "      <th>petal width (cm)</th>\n",
       "    </tr>\n",
       "  </thead>\n",
       "  <tbody>\n",
       "    <tr>\n",
       "      <th>mean</th>\n",
       "      <td>5.843333</td>\n",
       "      <td>3.057333</td>\n",
       "      <td>3.758000</td>\n",
       "      <td>1.199333</td>\n",
       "    </tr>\n",
       "    <tr>\n",
       "      <th>variance</th>\n",
       "      <td>0.685694</td>\n",
       "      <td>0.189979</td>\n",
       "      <td>3.116278</td>\n",
       "      <td>0.581006</td>\n",
       "    </tr>\n",
       "    <tr>\n",
       "      <th>std</th>\n",
       "      <td>0.828066</td>\n",
       "      <td>0.435866</td>\n",
       "      <td>1.765298</td>\n",
       "      <td>0.762238</td>\n",
       "    </tr>\n",
       "  </tbody>\n",
       "</table>\n",
       "</div>"
      ],
      "text/plain": [
       "          sepal length (cm)  sepal width (cm)  petal length (cm)  \\\n",
       "mean               5.843333          3.057333           3.758000   \n",
       "variance           0.685694          0.189979           3.116278   \n",
       "std                0.828066          0.435866           1.765298   \n",
       "\n",
       "          petal width (cm)  \n",
       "mean              1.199333  \n",
       "variance          0.581006  \n",
       "std               0.762238  "
      ]
     },
     "execution_count": 4,
     "metadata": {},
     "output_type": "execute_result"
    }
   ],
   "source": [
    "df_desc = pd.DataFrame(columns=data.columns)\n",
    "df_desc.loc[\"mean\"] = data.mean()\n",
    "df_desc.loc[\"variance\"] = data.var()\n",
    "df_desc.loc[\"std\"] = data.std()\n",
    "\n",
    "df_desc\n"
   ]
  },
  {
   "cell_type": "markdown",
   "metadata": {},
   "source": [
    "Due to numerical rounding errors, the values may not be exactly equal, but should be very close. We use numpy to verify that:\n"
   ]
  },
  {
   "cell_type": "code",
   "execution_count": 5,
   "metadata": {},
   "outputs": [
    {
     "data": {
      "text/plain": [
       "True"
      ]
     },
     "execution_count": 5,
     "metadata": {},
     "output_type": "execute_result"
    }
   ],
   "source": [
    "np.allclose(df_desc, df_desc_bh)\n"
   ]
  },
  {
   "cell_type": "markdown",
   "metadata": {},
   "source": [
    "$\\mathbf{Exercise\\, 2.}$ For each feature, generate 150 Gaussian distributed samples with the same mean and standard_deviation computed in Exercise 1.\n"
   ]
  },
  {
   "cell_type": "code",
   "execution_count": 6,
   "metadata": {},
   "outputs": [
    {
     "data": {
      "text/html": [
       "<div>\n",
       "<style scoped>\n",
       "    .dataframe tbody tr th:only-of-type {\n",
       "        vertical-align: middle;\n",
       "    }\n",
       "\n",
       "    .dataframe tbody tr th {\n",
       "        vertical-align: top;\n",
       "    }\n",
       "\n",
       "    .dataframe thead th {\n",
       "        text-align: right;\n",
       "    }\n",
       "</style>\n",
       "<table border=\"1\" class=\"dataframe\">\n",
       "  <thead>\n",
       "    <tr style=\"text-align: right;\">\n",
       "      <th></th>\n",
       "      <th>sepal length (cm)</th>\n",
       "      <th>sepal width (cm)</th>\n",
       "      <th>petal length (cm)</th>\n",
       "      <th>petal width (cm)</th>\n",
       "    </tr>\n",
       "  </thead>\n",
       "  <tbody>\n",
       "    <tr>\n",
       "      <th>0</th>\n",
       "      <td>6.254645</td>\n",
       "      <td>3.166515</td>\n",
       "      <td>2.294577</td>\n",
       "      <td>1.151557</td>\n",
       "    </tr>\n",
       "    <tr>\n",
       "      <th>1</th>\n",
       "      <td>5.728841</td>\n",
       "      <td>3.208338</td>\n",
       "      <td>2.769113</td>\n",
       "      <td>1.927379</td>\n",
       "    </tr>\n",
       "    <tr>\n",
       "      <th>2</th>\n",
       "      <td>6.379662</td>\n",
       "      <td>2.760933</td>\n",
       "      <td>5.077196</td>\n",
       "      <td>0.447976</td>\n",
       "    </tr>\n",
       "    <tr>\n",
       "      <th>3</th>\n",
       "      <td>7.104503</td>\n",
       "      <td>3.158565</td>\n",
       "      <td>4.835486</td>\n",
       "      <td>1.583537</td>\n",
       "    </tr>\n",
       "    <tr>\n",
       "      <th>4</th>\n",
       "      <td>5.649439</td>\n",
       "      <td>3.185074</td>\n",
       "      <td>3.721102</td>\n",
       "      <td>0.795151</td>\n",
       "    </tr>\n",
       "    <tr>\n",
       "      <th>...</th>\n",
       "      <td>...</td>\n",
       "      <td>...</td>\n",
       "      <td>...</td>\n",
       "      <td>...</td>\n",
       "    </tr>\n",
       "    <tr>\n",
       "      <th>145</th>\n",
       "      <td>6.490734</td>\n",
       "      <td>2.755317</td>\n",
       "      <td>4.940172</td>\n",
       "      <td>0.810580</td>\n",
       "    </tr>\n",
       "    <tr>\n",
       "      <th>146</th>\n",
       "      <td>4.819056</td>\n",
       "      <td>3.449439</td>\n",
       "      <td>4.405155</td>\n",
       "      <td>0.993624</td>\n",
       "    </tr>\n",
       "    <tr>\n",
       "      <th>147</th>\n",
       "      <td>4.749908</td>\n",
       "      <td>3.191275</td>\n",
       "      <td>2.098832</td>\n",
       "      <td>0.453283</td>\n",
       "    </tr>\n",
       "    <tr>\n",
       "      <th>148</th>\n",
       "      <td>6.275535</td>\n",
       "      <td>3.411633</td>\n",
       "      <td>2.850872</td>\n",
       "      <td>0.860676</td>\n",
       "    </tr>\n",
       "    <tr>\n",
       "      <th>149</th>\n",
       "      <td>6.089256</td>\n",
       "      <td>3.331767</td>\n",
       "      <td>1.888172</td>\n",
       "      <td>1.486926</td>\n",
       "    </tr>\n",
       "  </tbody>\n",
       "</table>\n",
       "<p>150 rows × 4 columns</p>\n",
       "</div>"
      ],
      "text/plain": [
       "     sepal length (cm)  sepal width (cm)  petal length (cm)  petal width (cm)\n",
       "0             6.254645          3.166515           2.294577          1.151557\n",
       "1             5.728841          3.208338           2.769113          1.927379\n",
       "2             6.379662          2.760933           5.077196          0.447976\n",
       "3             7.104503          3.158565           4.835486          1.583537\n",
       "4             5.649439          3.185074           3.721102          0.795151\n",
       "..                 ...               ...                ...               ...\n",
       "145           6.490734          2.755317           4.940172          0.810580\n",
       "146           4.819056          3.449439           4.405155          0.993624\n",
       "147           4.749908          3.191275           2.098832          0.453283\n",
       "148           6.275535          3.411633           2.850872          0.860676\n",
       "149           6.089256          3.331767           1.888172          1.486926\n",
       "\n",
       "[150 rows x 4 columns]"
      ]
     },
     "execution_count": 6,
     "metadata": {},
     "output_type": "execute_result"
    }
   ],
   "source": [
    "df_gauss = pd.DataFrame()\n",
    "\n",
    "for col in df_desc_bh.columns:\n",
    "    df_gauss[col] = np.random.normal(\n",
    "        loc=df_desc_bh.loc[\"mean\", col],  # col mean\n",
    "        scale=df_desc_bh.loc[\"std\", col],  # col std\n",
    "        size=150,\n",
    "    )\n",
    "\n",
    "df_gauss\n"
   ]
  },
  {
   "cell_type": "markdown",
   "metadata": {},
   "source": [
    "$\\mathbf{Exercise\\, 3.}$ Compute the histogram (with 30 bins) of the distribution of the generate samples and plot it together with the histogram of the original data. The histograms must be plotted on the same plot. Comment on the difference between simulations and real data: for which feature the distributions are most different? What is the reason?\n"
   ]
  },
  {
   "cell_type": "code",
   "execution_count": 141,
   "metadata": {
    "collapsed": true
   },
   "outputs": [
    {
     "data": {
      "text/html": [
       "<div>\n",
       "<style scoped>\n",
       "    .dataframe tbody tr th:only-of-type {\n",
       "        vertical-align: middle;\n",
       "    }\n",
       "\n",
       "    .dataframe tbody tr th {\n",
       "        vertical-align: top;\n",
       "    }\n",
       "\n",
       "    .dataframe thead th {\n",
       "        text-align: right;\n",
       "    }\n",
       "</style>\n",
       "<table border=\"1\" class=\"dataframe\">\n",
       "  <thead>\n",
       "    <tr style=\"text-align: right;\">\n",
       "      <th></th>\n",
       "      <th>origin</th>\n",
       "      <th>feature</th>\n",
       "      <th>value</th>\n",
       "    </tr>\n",
       "  </thead>\n",
       "  <tbody>\n",
       "    <tr>\n",
       "      <th>0</th>\n",
       "      <td>data</td>\n",
       "      <td>sepal length (cm)</td>\n",
       "      <td>5.100000</td>\n",
       "    </tr>\n",
       "    <tr>\n",
       "      <th>1</th>\n",
       "      <td>data</td>\n",
       "      <td>sepal length (cm)</td>\n",
       "      <td>4.900000</td>\n",
       "    </tr>\n",
       "    <tr>\n",
       "      <th>2</th>\n",
       "      <td>data</td>\n",
       "      <td>sepal length (cm)</td>\n",
       "      <td>4.700000</td>\n",
       "    </tr>\n",
       "    <tr>\n",
       "      <th>3</th>\n",
       "      <td>data</td>\n",
       "      <td>sepal length (cm)</td>\n",
       "      <td>4.600000</td>\n",
       "    </tr>\n",
       "    <tr>\n",
       "      <th>4</th>\n",
       "      <td>data</td>\n",
       "      <td>sepal length (cm)</td>\n",
       "      <td>5.000000</td>\n",
       "    </tr>\n",
       "    <tr>\n",
       "      <th>...</th>\n",
       "      <td>...</td>\n",
       "      <td>...</td>\n",
       "      <td>...</td>\n",
       "    </tr>\n",
       "    <tr>\n",
       "      <th>1195</th>\n",
       "      <td>gauss</td>\n",
       "      <td>petal width (cm)</td>\n",
       "      <td>0.810580</td>\n",
       "    </tr>\n",
       "    <tr>\n",
       "      <th>1196</th>\n",
       "      <td>gauss</td>\n",
       "      <td>petal width (cm)</td>\n",
       "      <td>0.993624</td>\n",
       "    </tr>\n",
       "    <tr>\n",
       "      <th>1197</th>\n",
       "      <td>gauss</td>\n",
       "      <td>petal width (cm)</td>\n",
       "      <td>0.453283</td>\n",
       "    </tr>\n",
       "    <tr>\n",
       "      <th>1198</th>\n",
       "      <td>gauss</td>\n",
       "      <td>petal width (cm)</td>\n",
       "      <td>0.860676</td>\n",
       "    </tr>\n",
       "    <tr>\n",
       "      <th>1199</th>\n",
       "      <td>gauss</td>\n",
       "      <td>petal width (cm)</td>\n",
       "      <td>1.486926</td>\n",
       "    </tr>\n",
       "  </tbody>\n",
       "</table>\n",
       "<p>1200 rows × 3 columns</p>\n",
       "</div>"
      ],
      "text/plain": [
       "     origin            feature     value\n",
       "0      data  sepal length (cm)  5.100000\n",
       "1      data  sepal length (cm)  4.900000\n",
       "2      data  sepal length (cm)  4.700000\n",
       "3      data  sepal length (cm)  4.600000\n",
       "4      data  sepal length (cm)  5.000000\n",
       "...     ...                ...       ...\n",
       "1195  gauss   petal width (cm)  0.810580\n",
       "1196  gauss   petal width (cm)  0.993624\n",
       "1197  gauss   petal width (cm)  0.453283\n",
       "1198  gauss   petal width (cm)  0.860676\n",
       "1199  gauss   petal width (cm)  1.486926\n",
       "\n",
       "[1200 rows x 3 columns]"
      ]
     },
     "execution_count": 141,
     "metadata": {},
     "output_type": "execute_result"
    }
   ],
   "source": [
    "# create df for data, with column indicating origin\n",
    "df_comb = data.copy()\n",
    "df_comb[\"origin\"] = \"data\"\n",
    "\n",
    "# create df gauss with column indicating origin\n",
    "df_append = df_gauss.copy()\n",
    "df_append[\"origin\"] = \"gauss\"\n",
    "\n",
    "# combine the two dataframes\n",
    "df_comb = df_comb.append(other=df_append, ignore_index=True)\n",
    "df_comb = pd.melt(frame=df_comb, id_vars=\"origin\", var_name=\"feature\") # get feature name as a column\n",
    "df_comb"
   ]
  },
  {
   "cell_type": "code",
   "execution_count": 149,
   "metadata": {},
   "outputs": [
    {
     "data": {
      "application/vnd.plotly.v1+json": {
       "config": {
        "plotlyServerURL": "https://plot.ly"
       },
       "data": [
        {
         "alignmentgroup": "True",
         "bingroup": "x",
         "hovertemplate": "origin=data<br>feature=sepal length (cm)<br>_value=%{x}<br>count=%{y}<extra></extra>",
         "legendgroup": "data",
         "marker": {
          "color": "rgb(229, 134, 6)",
          "opacity": 0.6,
          "pattern": {
           "shape": ""
          }
         },
         "name": "data",
         "nbinsx": 50,
         "offsetgroup": "data",
         "orientation": "v",
         "showlegend": true,
         "type": "histogram",
         "x": [
          5.1,
          4.9,
          4.7,
          4.6,
          5,
          5.4,
          4.6,
          5,
          4.4,
          4.9,
          5.4,
          4.8,
          4.8,
          4.3,
          5.8,
          5.7,
          5.4,
          5.1,
          5.7,
          5.1,
          5.4,
          5.1,
          4.6,
          5.1,
          4.8,
          5,
          5,
          5.2,
          5.2,
          4.7,
          4.8,
          5.4,
          5.2,
          5.5,
          4.9,
          5,
          5.5,
          4.9,
          4.4,
          5.1,
          5,
          4.5,
          4.4,
          5,
          5.1,
          4.8,
          5.1,
          4.6,
          5.3,
          5,
          7,
          6.4,
          6.9,
          5.5,
          6.5,
          5.7,
          6.3,
          4.9,
          6.6,
          5.2,
          5,
          5.9,
          6,
          6.1,
          5.6,
          6.7,
          5.6,
          5.8,
          6.2,
          5.6,
          5.9,
          6.1,
          6.3,
          6.1,
          6.4,
          6.6,
          6.8,
          6.7,
          6,
          5.7,
          5.5,
          5.5,
          5.8,
          6,
          5.4,
          6,
          6.7,
          6.3,
          5.6,
          5.5,
          5.5,
          6.1,
          5.8,
          5,
          5.6,
          5.7,
          5.7,
          6.2,
          5.1,
          5.7,
          6.3,
          5.8,
          7.1,
          6.3,
          6.5,
          7.6,
          4.9,
          7.3,
          6.7,
          7.2,
          6.5,
          6.4,
          6.8,
          5.7,
          5.8,
          6.4,
          6.5,
          7.7,
          7.7,
          6,
          6.9,
          5.6,
          7.7,
          6.3,
          6.7,
          7.2,
          6.2,
          6.1,
          6.4,
          7.2,
          7.4,
          7.9,
          6.4,
          6.3,
          6.1,
          7.7,
          6.3,
          6.4,
          6,
          6.9,
          6.7,
          6.9,
          5.8,
          6.8,
          6.7,
          6.7,
          6.3,
          6.5,
          6.2,
          5.9
         ],
         "xaxis": "x",
         "yaxis": "y"
        },
        {
         "alignmentgroup": "True",
         "bingroup": "x",
         "hovertemplate": "origin=data<br>feature=sepal width (cm)<br>_value=%{x}<br>count=%{y}<extra></extra>",
         "legendgroup": "data",
         "marker": {
          "color": "rgb(229, 134, 6)",
          "opacity": 0.6,
          "pattern": {
           "shape": ""
          }
         },
         "name": "data",
         "nbinsx": 50,
         "offsetgroup": "data",
         "orientation": "v",
         "showlegend": false,
         "type": "histogram",
         "x": [
          3.5,
          3,
          3.2,
          3.1,
          3.6,
          3.9,
          3.4,
          3.4,
          2.9,
          3.1,
          3.7,
          3.4,
          3,
          3,
          4,
          4.4,
          3.9,
          3.5,
          3.8,
          3.8,
          3.4,
          3.7,
          3.6,
          3.3,
          3.4,
          3,
          3.4,
          3.5,
          3.4,
          3.2,
          3.1,
          3.4,
          4.1,
          4.2,
          3.1,
          3.2,
          3.5,
          3.6,
          3,
          3.4,
          3.5,
          2.3,
          3.2,
          3.5,
          3.8,
          3,
          3.8,
          3.2,
          3.7,
          3.3,
          3.2,
          3.2,
          3.1,
          2.3,
          2.8,
          2.8,
          3.3,
          2.4,
          2.9,
          2.7,
          2,
          3,
          2.2,
          2.9,
          2.9,
          3.1,
          3,
          2.7,
          2.2,
          2.5,
          3.2,
          2.8,
          2.5,
          2.8,
          2.9,
          3,
          2.8,
          3,
          2.9,
          2.6,
          2.4,
          2.4,
          2.7,
          2.7,
          3,
          3.4,
          3.1,
          2.3,
          3,
          2.5,
          2.6,
          3,
          2.6,
          2.3,
          2.7,
          3,
          2.9,
          2.9,
          2.5,
          2.8,
          3.3,
          2.7,
          3,
          2.9,
          3,
          3,
          2.5,
          2.9,
          2.5,
          3.6,
          3.2,
          2.7,
          3,
          2.5,
          2.8,
          3.2,
          3,
          3.8,
          2.6,
          2.2,
          3.2,
          2.8,
          2.8,
          2.7,
          3.3,
          3.2,
          2.8,
          3,
          2.8,
          3,
          2.8,
          3.8,
          2.8,
          2.8,
          2.6,
          3,
          3.4,
          3.1,
          3,
          3.1,
          3.1,
          3.1,
          2.7,
          3.2,
          3.3,
          3,
          2.5,
          3,
          3.4,
          3
         ],
         "xaxis": "x2",
         "yaxis": "y2"
        },
        {
         "alignmentgroup": "True",
         "bingroup": "x",
         "hovertemplate": "origin=data<br>feature=petal length (cm)<br>_value=%{x}<br>count=%{y}<extra></extra>",
         "legendgroup": "data",
         "marker": {
          "color": "rgb(229, 134, 6)",
          "opacity": 0.6,
          "pattern": {
           "shape": ""
          }
         },
         "name": "data",
         "nbinsx": 50,
         "offsetgroup": "data",
         "orientation": "v",
         "showlegend": false,
         "type": "histogram",
         "x": [
          1.4,
          1.4,
          1.3,
          1.5,
          1.4,
          1.7,
          1.4,
          1.5,
          1.4,
          1.5,
          1.5,
          1.6,
          1.4,
          1.1,
          1.2,
          1.5,
          1.3,
          1.4,
          1.7,
          1.5,
          1.7,
          1.5,
          1,
          1.7,
          1.9,
          1.6,
          1.6,
          1.5,
          1.4,
          1.6,
          1.6,
          1.5,
          1.5,
          1.4,
          1.5,
          1.2,
          1.3,
          1.4,
          1.3,
          1.5,
          1.3,
          1.3,
          1.3,
          1.6,
          1.9,
          1.4,
          1.6,
          1.4,
          1.5,
          1.4,
          4.7,
          4.5,
          4.9,
          4,
          4.6,
          4.5,
          4.7,
          3.3,
          4.6,
          3.9,
          3.5,
          4.2,
          4,
          4.7,
          3.6,
          4.4,
          4.5,
          4.1,
          4.5,
          3.9,
          4.8,
          4,
          4.9,
          4.7,
          4.3,
          4.4,
          4.8,
          5,
          4.5,
          3.5,
          3.8,
          3.7,
          3.9,
          5.1,
          4.5,
          4.5,
          4.7,
          4.4,
          4.1,
          4,
          4.4,
          4.6,
          4,
          3.3,
          4.2,
          4.2,
          4.2,
          4.3,
          3,
          4.1,
          6,
          5.1,
          5.9,
          5.6,
          5.8,
          6.6,
          4.5,
          6.3,
          5.8,
          6.1,
          5.1,
          5.3,
          5.5,
          5,
          5.1,
          5.3,
          5.5,
          6.7,
          6.9,
          5,
          5.7,
          4.9,
          6.7,
          4.9,
          5.7,
          6,
          4.8,
          4.9,
          5.6,
          5.8,
          6.1,
          6.4,
          5.6,
          5.1,
          5.6,
          6.1,
          5.6,
          5.5,
          4.8,
          5.4,
          5.6,
          5.1,
          5.1,
          5.9,
          5.7,
          5.2,
          5,
          5.2,
          5.4,
          5.1
         ],
         "xaxis": "x3",
         "yaxis": "y3"
        },
        {
         "alignmentgroup": "True",
         "bingroup": "x",
         "hovertemplate": "origin=data<br>feature=petal width (cm)<br>_value=%{x}<br>count=%{y}<extra></extra>",
         "legendgroup": "data",
         "marker": {
          "color": "rgb(229, 134, 6)",
          "opacity": 0.6,
          "pattern": {
           "shape": ""
          }
         },
         "name": "data",
         "nbinsx": 50,
         "offsetgroup": "data",
         "orientation": "v",
         "showlegend": false,
         "type": "histogram",
         "x": [
          0.2,
          0.2,
          0.2,
          0.2,
          0.2,
          0.4,
          0.3,
          0.2,
          0.2,
          0.1,
          0.2,
          0.2,
          0.1,
          0.1,
          0.2,
          0.4,
          0.4,
          0.3,
          0.3,
          0.3,
          0.2,
          0.4,
          0.2,
          0.5,
          0.2,
          0.2,
          0.4,
          0.2,
          0.2,
          0.2,
          0.2,
          0.4,
          0.1,
          0.2,
          0.2,
          0.2,
          0.2,
          0.1,
          0.2,
          0.2,
          0.3,
          0.3,
          0.2,
          0.6,
          0.4,
          0.3,
          0.2,
          0.2,
          0.2,
          0.2,
          1.4,
          1.5,
          1.5,
          1.3,
          1.5,
          1.3,
          1.6,
          1,
          1.3,
          1.4,
          1,
          1.5,
          1,
          1.4,
          1.3,
          1.4,
          1.5,
          1,
          1.5,
          1.1,
          1.8,
          1.3,
          1.5,
          1.2,
          1.3,
          1.4,
          1.4,
          1.7,
          1.5,
          1,
          1.1,
          1,
          1.2,
          1.6,
          1.5,
          1.6,
          1.5,
          1.3,
          1.3,
          1.3,
          1.2,
          1.4,
          1.2,
          1,
          1.3,
          1.2,
          1.3,
          1.3,
          1.1,
          1.3,
          2.5,
          1.9,
          2.1,
          1.8,
          2.2,
          2.1,
          1.7,
          1.8,
          1.8,
          2.5,
          2,
          1.9,
          2.1,
          2,
          2.4,
          2.3,
          1.8,
          2.2,
          2.3,
          1.5,
          2.3,
          2,
          2,
          1.8,
          2.1,
          1.8,
          1.8,
          1.8,
          2.1,
          1.6,
          1.9,
          2,
          2.2,
          1.5,
          1.4,
          2.3,
          2.4,
          1.8,
          1.8,
          2.1,
          2.4,
          2.3,
          1.9,
          2.3,
          2.5,
          2.3,
          1.9,
          2,
          2.3,
          1.8
         ],
         "xaxis": "x4",
         "yaxis": "y4"
        },
        {
         "alignmentgroup": "True",
         "bingroup": "x",
         "hovertemplate": "origin=gauss<br>feature=sepal length (cm)<br>_value=%{x}<br>count=%{y}<extra></extra>",
         "legendgroup": "gauss",
         "marker": {
          "color": "rgb(93, 105, 177)",
          "opacity": 0.6,
          "pattern": {
           "shape": ""
          }
         },
         "name": "gauss",
         "nbinsx": 50,
         "offsetgroup": "gauss",
         "orientation": "v",
         "showlegend": true,
         "type": "histogram",
         "x": [
          6.254645498729149,
          5.728841348824946,
          6.3796622732140165,
          7.104502769323808,
          5.649438854973231,
          5.6494524499759065,
          7.1510259747235585,
          6.478820037978723,
          5.454577496387393,
          6.292608927821064,
          5.459592838809684,
          5.457678299610326,
          6.043694094665748,
          4.259010769403012,
          4.414987302684299,
          5.377722076184522,
          5.004642189222526,
          6.103550905262874,
          5.091429353005806,
          4.673852475839815,
          7.056987434389727,
          5.656375626400282,
          5.899251152318559,
          4.663547619432073,
          5.392548438497726,
          5.93518457269966,
          4.890234538349858,
          6.15443613667379,
          5.345964779058573,
          5.601791619386671,
          5.345080468765859,
          7.377142157517516,
          5.8321567387061455,
          4.967478739872953,
          6.5244549137865135,
          4.832394059235468,
          6.0162862017244585,
          4.220596881738309,
          4.743507454587794,
          6.006347454668416,
          6.454832494871188,
          5.985237602396534,
          5.747568907928813,
          5.5939995620068865,
          4.619019353639655,
          5.247254726940637,
          5.46189396986818,
          6.71870044199777,
          6.127871999878666,
          4.383419498412625,
          6.111696291009778,
          5.524459740436109,
          5.282797153596949,
          6.34984174940966,
          6.697069115873582,
          6.614494855632647,
          5.148405728347191,
          5.587285038539383,
          6.117641360316344,
          6.651149209417218,
          5.446545377574041,
          5.689595423402994,
          4.927214815161673,
          4.852795145869381,
          6.516158444965326,
          6.966389762400562,
          5.7837041907810915,
          6.674324934389187,
          6.142791876331834,
          5.309131516055439,
          6.142592793054901,
          7.116929317615176,
          5.813667003846772,
          7.138961747068366,
          3.6740111487007754,
          6.523922957706634,
          5.915414062081141,
          5.595735474396143,
          5.919317324259329,
          4.197494838130608,
          5.6614304837461376,
          6.139046157677283,
          7.067127332523984,
          5.414171320441232,
          5.1738471660907,
          5.427845321066667,
          6.601346820481626,
          6.115560991777654,
          5.404656852643198,
          6.2683527092886475,
          5.923719963735546,
          6.645435440029057,
          5.261986946251436,
          5.572007408315205,
          5.518641853220637,
          4.631446176995848,
          6.088540504577929,
          6.0595043617555415,
          5.847567613575839,
          5.649079674125949,
          4.6713127633104925,
          5.495011189659024,
          5.5595430506312065,
          5.178994701444334,
          5.7097780985759075,
          6.177914161841887,
          7.4052199891951735,
          5.9878953068358385,
          6.056602088138319,
          5.781687192121077,
          4.254463882605278,
          5.821378091152414,
          5.8932079300664935,
          7.883060691691036,
          5.684045734052943,
          6.093034473501543,
          5.814589692598253,
          4.87559063586896,
          6.789666196313551,
          6.465983608208923,
          6.49836009482806,
          5.09030038480981,
          7.0049397867395635,
          4.6825079517652775,
          6.329289814672865,
          7.65717544190513,
          5.023103753960943,
          5.374401365098511,
          5.925851253369165,
          5.42642219789821,
          4.559281470173533,
          5.9001080104036046,
          4.963675610371654,
          6.235499183609033,
          5.081989267722337,
          7.126781514715881,
          5.194747812322553,
          5.5766451006382205,
          6.516979385563962,
          4.824096284757749,
          6.031685200651073,
          6.925733972586303,
          4.512230915500887,
          5.996222377661791,
          6.058533472494694,
          6.490734371530504,
          4.819056347677055,
          4.749907938573874,
          6.275535464604422,
          6.089256281766309
         ],
         "xaxis": "x",
         "yaxis": "y"
        },
        {
         "alignmentgroup": "True",
         "bingroup": "x",
         "hovertemplate": "origin=gauss<br>feature=sepal width (cm)<br>_value=%{x}<br>count=%{y}<extra></extra>",
         "legendgroup": "gauss",
         "marker": {
          "color": "rgb(93, 105, 177)",
          "opacity": 0.6,
          "pattern": {
           "shape": ""
          }
         },
         "name": "gauss",
         "nbinsx": 50,
         "offsetgroup": "gauss",
         "orientation": "v",
         "showlegend": false,
         "type": "histogram",
         "x": [
          3.166514721416795,
          3.2083384273297515,
          2.7609334842738043,
          3.1585648894777134,
          3.1850737434872394,
          2.7459716346189182,
          3.870561538035583,
          3.263861128251859,
          2.538084303775519,
          3.343502915590344,
          2.632502454735455,
          3.4003969754974293,
          3.562326084099374,
          2.699625580120137,
          3.477236507783753,
          3.237250622449872,
          3.4156416412645996,
          3.884081443976709,
          2.950376926843547,
          2.728805151552398,
          2.669623983494871,
          2.701749135212299,
          3.023727297688739,
          3.2060299771954823,
          3.1779335241134747,
          3.417874623052533,
          3.0630004196433056,
          3.6908798315727855,
          2.9419783426467947,
          4.242963362374105,
          3.330040635809864,
          2.68372725361275,
          2.5905673986368565,
          3.267626792549817,
          2.9599334392717482,
          3.3685420761362206,
          3.2636016586484726,
          3.0255896657376034,
          2.6882445013311242,
          2.3970625012628384,
          2.8627125200071935,
          3.430608694239373,
          3.1506495782155537,
          2.51435779985456,
          3.132817060105986,
          3.225280188157285,
          2.672089676202671,
          3.124336924163311,
          3.0827045511933178,
          2.5591511158249087,
          3.213280780885648,
          3.3017604014914417,
          3.5293988550922144,
          3.516650118812456,
          2.456853704050787,
          2.6485670172649183,
          3.281819841862952,
          3.281275307010107,
          3.2818252549287927,
          4.736609095023635,
          3.3061652593347786,
          3.5522881102206147,
          3.4731505378101746,
          3.341252818080259,
          2.9199180989171474,
          3.3881424278510357,
          2.7204848781674356,
          2.954112087009681,
          2.845779726897367,
          3.0930195103000395,
          4.066214963686218,
          2.2434553908467603,
          3.3564510130118244,
          2.3544048578994494,
          2.851634144248449,
          3.5319701845130993,
          3.085350826452133,
          2.58758072086736,
          2.745556562976751,
          3.353547079412834,
          2.7389911429250557,
          3.1516803346170668,
          3.077196561889939,
          2.773322710558925,
          3.9918062786595563,
          3.333637262541789,
          2.1746419576197873,
          3.138602482822302,
          2.768882925513345,
          3.4288802841271644,
          2.711900263337384,
          3.0073235868442993,
          3.2774402625628376,
          3.434686833480914,
          2.5341645975670657,
          2.911535522360605,
          2.8503206850095038,
          2.772569147890886,
          3.8268353142703964,
          3.233851207157193,
          2.507756528421024,
          3.4573984102808635,
          3.982309670980622,
          3.5073501307759622,
          2.3950911908285604,
          2.846272026953354,
          3.60953718927419,
          2.748884072390937,
          3.25077925866216,
          3.3949702003870343,
          2.653315592291973,
          3.0313882375271426,
          1.6445741793307733,
          2.6108372977698897,
          2.9472473914922674,
          2.5134667134038224,
          3.768846383866687,
          2.4339829239873825,
          2.865532777709843,
          3.1143187430455015,
          3.6855357674170772,
          2.4314894318175355,
          3.564317196758146,
          3.0617935796234717,
          2.629526803967833,
          3.2587486579168066,
          3.1440967433235723,
          2.7957190329298234,
          3.087757708798769,
          2.8893881273336017,
          3.106811716883872,
          3.3459337705794523,
          3.748624590833739,
          2.517811290422609,
          3.9870506659907488,
          2.2064840762852067,
          2.99117532785141,
          3.3137609684881024,
          3.1798082148204263,
          2.7859196069972656,
          2.966619861257443,
          2.8424508474732684,
          2.80044910625144,
          3.4276462430363157,
          3.212944346865789,
          2.755317402250081,
          3.4494385889679413,
          3.191274833860649,
          3.411632525237444,
          3.331767317551574
         ],
         "xaxis": "x2",
         "yaxis": "y2"
        },
        {
         "alignmentgroup": "True",
         "bingroup": "x",
         "hovertemplate": "origin=gauss<br>feature=petal length (cm)<br>_value=%{x}<br>count=%{y}<extra></extra>",
         "legendgroup": "gauss",
         "marker": {
          "color": "rgb(93, 105, 177)",
          "opacity": 0.6,
          "pattern": {
           "shape": ""
          }
         },
         "name": "gauss",
         "nbinsx": 50,
         "offsetgroup": "gauss",
         "orientation": "v",
         "showlegend": false,
         "type": "histogram",
         "x": [
          2.2945765718383546,
          2.76911339943484,
          5.077196080850191,
          4.835485551203807,
          3.721102453102783,
          3.9651178224679495,
          6.013459583232947,
          2.713700072441261,
          4.723790040400349,
          3.4010696678804018,
          3.3737277565291937,
          5.697668835559385,
          5.215106022572049,
          5.194087123171479,
          6.0625594318272125,
          3.7950780445259715,
          4.961850375393044,
          3.2102866427464276,
          4.330250289330013,
          3.528258696053736,
          3.929226805634943,
          4.808629645515744,
          2.3135964734715984,
          7.451687561062132,
          1.982079293810262,
          1.6145949870020546,
          5.802411078908247,
          5.155520754990201,
          4.859757610384391,
          4.8672172173807535,
          3.7363807935302122,
          2.1740784432317293,
          3.8918176526523998,
          2.562607627036713,
          5.479377142618798,
          3.4983998642465117,
          2.300751256941538,
          3.1906581415353648,
          4.4869471666900225,
          2.7628580428901612,
          2.3065357883566797,
          4.188180603914599,
          4.190439055185858,
          2.8630941081544012,
          2.9264769112944427,
          4.167637344445406,
          1.2016992703440765,
          1.2734066857163677,
          2.489731685527602,
          3.3812021201888114,
          4.306844576257159,
          6.362443723209415,
          5.272025017576505,
          3.4756607956254464,
          3.724430721786089,
          1.9882366838141414,
          3.7253187937405423,
          3.248431414699198,
          4.327694504404868,
          2.2976906768495233,
          4.6748014840394045,
          6.463741295171486,
          3.5660059020800725,
          4.467140993300879,
          4.976309969262263,
          3.0497262098324045,
          4.153590062226658,
          3.780229342852598,
          3.9304274441999305,
          2.3934071942676636,
          3.801267767316194,
          4.637115503701826,
          6.319701247046355,
          5.451399094505565,
          7.559009188130426,
          2.4034027029377696,
          5.297906078838786,
          4.08165331881216,
          7.623655249195554,
          2.3311124649158956,
          2.275640515568892,
          2.69989322196895,
          0.00869063024856409,
          2.8298855890996606,
          2.417904453749701,
          4.023489885559651,
          4.361301220245285,
          7.070001067760734,
          5.435781522397516,
          2.739592995898233,
          2.17203016793436,
          4.626384044366896,
          1.4273946521559817,
          6.991070923650254,
          5.8400635613446195,
          2.9297650502512074,
          0.7338066424600869,
          6.147988510173002,
          3.5558030135377416,
          5.943114948626501,
          0.9433596708702772,
          2.6999243309198535,
          3.7672566938482523,
          3.84093475917038,
          2.963500218346603,
          4.8575158851588185,
          1.8733315422191938,
          3.5066577466395183,
          3.9703576661298468,
          4.66613796488397,
          5.014212487051468,
          1.7726713022293796,
          1.0498309647820951,
          6.013480636374008,
          4.344633338234939,
          2.4366980393982196,
          6.496245841906841,
          3.962200227550119,
          5.839811235515737,
          3.877190255945628,
          7.395834670987283,
          6.856700087933172,
          3.3185040285449445,
          5.473112483205943,
          4.8972810235908115,
          6.174042870495008,
          2.054622319807332,
          4.969085430260323,
          5.626434876674135,
          0.6533002918536157,
          1.669195838101884,
          0.15814703939424124,
          3.282416591126997,
          5.024676076445624,
          6.410108249790019,
          3.888799384968778,
          6.632992145255903,
          1.3217093340944395,
          0.751021989241146,
          3.6599417452761704,
          4.435990058468564,
          3.7002840189526345,
          0.1083481134333657,
          3.600676551700061,
          1.4552222954179248,
          4.940171767312031,
          4.405155236150786,
          2.0988318737200355,
          2.8508716386950472,
          1.8881722411648973
         ],
         "xaxis": "x3",
         "yaxis": "y3"
        },
        {
         "alignmentgroup": "True",
         "bingroup": "x",
         "hovertemplate": "origin=gauss<br>feature=petal width (cm)<br>_value=%{x}<br>count=%{y}<extra></extra>",
         "legendgroup": "gauss",
         "marker": {
          "color": "rgb(93, 105, 177)",
          "opacity": 0.6,
          "pattern": {
           "shape": ""
          }
         },
         "name": "gauss",
         "nbinsx": 50,
         "offsetgroup": "gauss",
         "orientation": "v",
         "showlegend": false,
         "type": "histogram",
         "x": [
          1.1515569643352923,
          1.9273787892375736,
          0.4479758095410302,
          1.5835365743692404,
          0.7951510023566593,
          0.5949757938876965,
          1.1177507612535846,
          0.4102326386832944,
          0.7773209774039824,
          0.28626568078727743,
          2.696920838795329,
          1.226212540987526,
          0.6659761932089708,
          1.36243688169573,
          1.1137126625781335,
          1.0309019808740285,
          1.6674743271275023,
          1.7767342444592815,
          0.7949653751978965,
          0.7604229798394848,
          0.9896785688528773,
          -0.5552776894052043,
          0.04439763005355779,
          2.2412163887121292,
          2.4531896887875835,
          1.009508683054763,
          1.6388067688758177,
          1.4365799255961462,
          3.546172263777001,
          2.0527155040517115,
          1.1018297265840122,
          0.4709844152927226,
          -0.025160565129724644,
          1.3544209808549625,
          0.6228143043314054,
          0.11523798105939687,
          0.7064911252353422,
          0.3749367041895808,
          2.485336240456993,
          1.8713523665332492,
          1.1932562858006983,
          2.3274025039523942,
          1.2583063718060612,
          0.5428300714005041,
          2.360315879528736,
          1.6101108688108463,
          0.4087052425214517,
          1.0542500230378904,
          0.5319041169742063,
          0.1453112897640838,
          1.9053007482072624,
          2.6547626224393817,
          0.13329244598190404,
          1.62844969200474,
          0.7033890581195411,
          0.8280280163211174,
          0.7477883694152259,
          0.540767023049335,
          1.2363183459121596,
          0.5659518535778556,
          1.4054857137701724,
          1.1610399538938487,
          1.0171981310872538,
          0.5075541231456303,
          0.7596964987977701,
          1.7751209804598567,
          1.581151282770314,
          0.4542039022581251,
          1.275048158276164,
          1.7720689027390664,
          -0.07315025669871278,
          1.6135029397788607,
          0.6942565439167089,
          1.6342651323936606,
          0.6175484530377253,
          -0.17641579182544298,
          -0.04124082065276791,
          1.235985490988588,
          1.3973036076220655,
          0.5100291370116616,
          1.6860925605274553,
          -0.06713984586140809,
          1.1489648216470338,
          0.2762511681531813,
          0.7024792979780307,
          1.2354623860693748,
          0.5434938554369666,
          0.906210611713814,
          1.9663676185205075,
          0.7596046194658324,
          1.836329340802416,
          0.33822821383058577,
          1.6031700349129314,
          2.298151238389994,
          -0.6846472089423523,
          0.5919097513979575,
          1.639199446377417,
          1.0445644915827692,
          1.482234698696132,
          0.7389530725244868,
          1.2653353310924487,
          1.0806702803178838,
          2.0894608098666128,
          1.3932624838661758,
          1.4566667995083433,
          0.8853851947776845,
          0.8276615017257597,
          0.869621188559994,
          1.4999996148561814,
          0.8784431040044147,
          1.4202106447773732,
          2.7812820002512746,
          1.86333739665088,
          0.9508259161474998,
          2.114943833286294,
          0.8882829122412623,
          -0.3542019614115235,
          0.4309319735888164,
          -0.2266547396592633,
          0.9313965146495565,
          1.2133725157528052,
          2.4771770024001936,
          1.4485296926306568,
          1.0323266569860856,
          1.8315375101573377,
          -0.4860772903607522,
          1.378927624879129,
          1.7869158218044008,
          0.07229919999327716,
          2.0711457490913547,
          1.4573480459333275,
          0.8827852418941817,
          1.6816635079145663,
          2.9301409641910636,
          1.3379586436516688,
          1.3885364144228722,
          0.8491911520562501,
          0.5515499421734152,
          1.8322465705903053,
          0.5467939934379036,
          1.2538838151677065,
          0.8352448345495402,
          1.5644297991892961,
          1.4536631586876587,
          1.9901853618977225,
          0.8105796223387409,
          0.99362449174449,
          0.4532827601524605,
          0.8606762744381253,
          1.4869259816494311
         ],
         "xaxis": "x4",
         "yaxis": "y4"
        }
       ],
       "layout": {
        "annotations": [
         {
          "font": {},
          "showarrow": false,
          "text": "feature=sepal length (cm)",
          "x": 0.1175,
          "xanchor": "center",
          "xref": "paper",
          "y": 1,
          "yanchor": "bottom",
          "yref": "paper"
         },
         {
          "font": {},
          "showarrow": false,
          "text": "feature=sepal width (cm)",
          "x": 0.3725,
          "xanchor": "center",
          "xref": "paper",
          "y": 1,
          "yanchor": "bottom",
          "yref": "paper"
         },
         {
          "font": {},
          "showarrow": false,
          "text": "feature=petal length (cm)",
          "x": 0.6275,
          "xanchor": "center",
          "xref": "paper",
          "y": 1,
          "yanchor": "bottom",
          "yref": "paper"
         },
         {
          "font": {},
          "showarrow": false,
          "text": "feature=petal width (cm)",
          "x": 0.8824999999999998,
          "xanchor": "center",
          "xref": "paper",
          "y": 1,
          "yanchor": "bottom",
          "yref": "paper"
         }
        ],
        "barmode": "overlay",
        "legend": {
         "title": {
          "text": "origin"
         },
         "tracegroupgap": 0
        },
        "template": {
         "data": {
          "bar": [
           {
            "error_x": {
             "color": "#2a3f5f"
            },
            "error_y": {
             "color": "#2a3f5f"
            },
            "marker": {
             "line": {
              "color": "#E5ECF6",
              "width": 0.5
             },
             "pattern": {
              "fillmode": "overlay",
              "size": 10,
              "solidity": 0.2
             }
            },
            "type": "bar"
           }
          ],
          "barpolar": [
           {
            "marker": {
             "line": {
              "color": "#E5ECF6",
              "width": 0.5
             },
             "pattern": {
              "fillmode": "overlay",
              "size": 10,
              "solidity": 0.2
             }
            },
            "type": "barpolar"
           }
          ],
          "carpet": [
           {
            "aaxis": {
             "endlinecolor": "#2a3f5f",
             "gridcolor": "white",
             "linecolor": "white",
             "minorgridcolor": "white",
             "startlinecolor": "#2a3f5f"
            },
            "baxis": {
             "endlinecolor": "#2a3f5f",
             "gridcolor": "white",
             "linecolor": "white",
             "minorgridcolor": "white",
             "startlinecolor": "#2a3f5f"
            },
            "type": "carpet"
           }
          ],
          "choropleth": [
           {
            "colorbar": {
             "outlinewidth": 0,
             "ticks": ""
            },
            "type": "choropleth"
           }
          ],
          "contour": [
           {
            "colorbar": {
             "outlinewidth": 0,
             "ticks": ""
            },
            "colorscale": [
             [
              0,
              "#0d0887"
             ],
             [
              0.1111111111111111,
              "#46039f"
             ],
             [
              0.2222222222222222,
              "#7201a8"
             ],
             [
              0.3333333333333333,
              "#9c179e"
             ],
             [
              0.4444444444444444,
              "#bd3786"
             ],
             [
              0.5555555555555556,
              "#d8576b"
             ],
             [
              0.6666666666666666,
              "#ed7953"
             ],
             [
              0.7777777777777778,
              "#fb9f3a"
             ],
             [
              0.8888888888888888,
              "#fdca26"
             ],
             [
              1,
              "#f0f921"
             ]
            ],
            "type": "contour"
           }
          ],
          "contourcarpet": [
           {
            "colorbar": {
             "outlinewidth": 0,
             "ticks": ""
            },
            "type": "contourcarpet"
           }
          ],
          "heatmap": [
           {
            "colorbar": {
             "outlinewidth": 0,
             "ticks": ""
            },
            "colorscale": [
             [
              0,
              "#0d0887"
             ],
             [
              0.1111111111111111,
              "#46039f"
             ],
             [
              0.2222222222222222,
              "#7201a8"
             ],
             [
              0.3333333333333333,
              "#9c179e"
             ],
             [
              0.4444444444444444,
              "#bd3786"
             ],
             [
              0.5555555555555556,
              "#d8576b"
             ],
             [
              0.6666666666666666,
              "#ed7953"
             ],
             [
              0.7777777777777778,
              "#fb9f3a"
             ],
             [
              0.8888888888888888,
              "#fdca26"
             ],
             [
              1,
              "#f0f921"
             ]
            ],
            "type": "heatmap"
           }
          ],
          "heatmapgl": [
           {
            "colorbar": {
             "outlinewidth": 0,
             "ticks": ""
            },
            "colorscale": [
             [
              0,
              "#0d0887"
             ],
             [
              0.1111111111111111,
              "#46039f"
             ],
             [
              0.2222222222222222,
              "#7201a8"
             ],
             [
              0.3333333333333333,
              "#9c179e"
             ],
             [
              0.4444444444444444,
              "#bd3786"
             ],
             [
              0.5555555555555556,
              "#d8576b"
             ],
             [
              0.6666666666666666,
              "#ed7953"
             ],
             [
              0.7777777777777778,
              "#fb9f3a"
             ],
             [
              0.8888888888888888,
              "#fdca26"
             ],
             [
              1,
              "#f0f921"
             ]
            ],
            "type": "heatmapgl"
           }
          ],
          "histogram": [
           {
            "marker": {
             "pattern": {
              "fillmode": "overlay",
              "size": 10,
              "solidity": 0.2
             }
            },
            "type": "histogram"
           }
          ],
          "histogram2d": [
           {
            "colorbar": {
             "outlinewidth": 0,
             "ticks": ""
            },
            "colorscale": [
             [
              0,
              "#0d0887"
             ],
             [
              0.1111111111111111,
              "#46039f"
             ],
             [
              0.2222222222222222,
              "#7201a8"
             ],
             [
              0.3333333333333333,
              "#9c179e"
             ],
             [
              0.4444444444444444,
              "#bd3786"
             ],
             [
              0.5555555555555556,
              "#d8576b"
             ],
             [
              0.6666666666666666,
              "#ed7953"
             ],
             [
              0.7777777777777778,
              "#fb9f3a"
             ],
             [
              0.8888888888888888,
              "#fdca26"
             ],
             [
              1,
              "#f0f921"
             ]
            ],
            "type": "histogram2d"
           }
          ],
          "histogram2dcontour": [
           {
            "colorbar": {
             "outlinewidth": 0,
             "ticks": ""
            },
            "colorscale": [
             [
              0,
              "#0d0887"
             ],
             [
              0.1111111111111111,
              "#46039f"
             ],
             [
              0.2222222222222222,
              "#7201a8"
             ],
             [
              0.3333333333333333,
              "#9c179e"
             ],
             [
              0.4444444444444444,
              "#bd3786"
             ],
             [
              0.5555555555555556,
              "#d8576b"
             ],
             [
              0.6666666666666666,
              "#ed7953"
             ],
             [
              0.7777777777777778,
              "#fb9f3a"
             ],
             [
              0.8888888888888888,
              "#fdca26"
             ],
             [
              1,
              "#f0f921"
             ]
            ],
            "type": "histogram2dcontour"
           }
          ],
          "mesh3d": [
           {
            "colorbar": {
             "outlinewidth": 0,
             "ticks": ""
            },
            "type": "mesh3d"
           }
          ],
          "parcoords": [
           {
            "line": {
             "colorbar": {
              "outlinewidth": 0,
              "ticks": ""
             }
            },
            "type": "parcoords"
           }
          ],
          "pie": [
           {
            "automargin": true,
            "type": "pie"
           }
          ],
          "scatter": [
           {
            "marker": {
             "colorbar": {
              "outlinewidth": 0,
              "ticks": ""
             }
            },
            "type": "scatter"
           }
          ],
          "scatter3d": [
           {
            "line": {
             "colorbar": {
              "outlinewidth": 0,
              "ticks": ""
             }
            },
            "marker": {
             "colorbar": {
              "outlinewidth": 0,
              "ticks": ""
             }
            },
            "type": "scatter3d"
           }
          ],
          "scattercarpet": [
           {
            "marker": {
             "colorbar": {
              "outlinewidth": 0,
              "ticks": ""
             }
            },
            "type": "scattercarpet"
           }
          ],
          "scattergeo": [
           {
            "marker": {
             "colorbar": {
              "outlinewidth": 0,
              "ticks": ""
             }
            },
            "type": "scattergeo"
           }
          ],
          "scattergl": [
           {
            "marker": {
             "colorbar": {
              "outlinewidth": 0,
              "ticks": ""
             }
            },
            "type": "scattergl"
           }
          ],
          "scattermapbox": [
           {
            "marker": {
             "colorbar": {
              "outlinewidth": 0,
              "ticks": ""
             }
            },
            "type": "scattermapbox"
           }
          ],
          "scatterpolar": [
           {
            "marker": {
             "colorbar": {
              "outlinewidth": 0,
              "ticks": ""
             }
            },
            "type": "scatterpolar"
           }
          ],
          "scatterpolargl": [
           {
            "marker": {
             "colorbar": {
              "outlinewidth": 0,
              "ticks": ""
             }
            },
            "type": "scatterpolargl"
           }
          ],
          "scatterternary": [
           {
            "marker": {
             "colorbar": {
              "outlinewidth": 0,
              "ticks": ""
             }
            },
            "type": "scatterternary"
           }
          ],
          "surface": [
           {
            "colorbar": {
             "outlinewidth": 0,
             "ticks": ""
            },
            "colorscale": [
             [
              0,
              "#0d0887"
             ],
             [
              0.1111111111111111,
              "#46039f"
             ],
             [
              0.2222222222222222,
              "#7201a8"
             ],
             [
              0.3333333333333333,
              "#9c179e"
             ],
             [
              0.4444444444444444,
              "#bd3786"
             ],
             [
              0.5555555555555556,
              "#d8576b"
             ],
             [
              0.6666666666666666,
              "#ed7953"
             ],
             [
              0.7777777777777778,
              "#fb9f3a"
             ],
             [
              0.8888888888888888,
              "#fdca26"
             ],
             [
              1,
              "#f0f921"
             ]
            ],
            "type": "surface"
           }
          ],
          "table": [
           {
            "cells": {
             "fill": {
              "color": "#EBF0F8"
             },
             "line": {
              "color": "white"
             }
            },
            "header": {
             "fill": {
              "color": "#C8D4E3"
             },
             "line": {
              "color": "white"
             }
            },
            "type": "table"
           }
          ]
         },
         "layout": {
          "annotationdefaults": {
           "arrowcolor": "#2a3f5f",
           "arrowhead": 0,
           "arrowwidth": 1
          },
          "autotypenumbers": "strict",
          "coloraxis": {
           "colorbar": {
            "outlinewidth": 0,
            "ticks": ""
           }
          },
          "colorscale": {
           "diverging": [
            [
             0,
             "#8e0152"
            ],
            [
             0.1,
             "#c51b7d"
            ],
            [
             0.2,
             "#de77ae"
            ],
            [
             0.3,
             "#f1b6da"
            ],
            [
             0.4,
             "#fde0ef"
            ],
            [
             0.5,
             "#f7f7f7"
            ],
            [
             0.6,
             "#e6f5d0"
            ],
            [
             0.7,
             "#b8e186"
            ],
            [
             0.8,
             "#7fbc41"
            ],
            [
             0.9,
             "#4d9221"
            ],
            [
             1,
             "#276419"
            ]
           ],
           "sequential": [
            [
             0,
             "#0d0887"
            ],
            [
             0.1111111111111111,
             "#46039f"
            ],
            [
             0.2222222222222222,
             "#7201a8"
            ],
            [
             0.3333333333333333,
             "#9c179e"
            ],
            [
             0.4444444444444444,
             "#bd3786"
            ],
            [
             0.5555555555555556,
             "#d8576b"
            ],
            [
             0.6666666666666666,
             "#ed7953"
            ],
            [
             0.7777777777777778,
             "#fb9f3a"
            ],
            [
             0.8888888888888888,
             "#fdca26"
            ],
            [
             1,
             "#f0f921"
            ]
           ],
           "sequentialminus": [
            [
             0,
             "#0d0887"
            ],
            [
             0.1111111111111111,
             "#46039f"
            ],
            [
             0.2222222222222222,
             "#7201a8"
            ],
            [
             0.3333333333333333,
             "#9c179e"
            ],
            [
             0.4444444444444444,
             "#bd3786"
            ],
            [
             0.5555555555555556,
             "#d8576b"
            ],
            [
             0.6666666666666666,
             "#ed7953"
            ],
            [
             0.7777777777777778,
             "#fb9f3a"
            ],
            [
             0.8888888888888888,
             "#fdca26"
            ],
            [
             1,
             "#f0f921"
            ]
           ]
          },
          "colorway": [
           "#636efa",
           "#EF553B",
           "#00cc96",
           "#ab63fa",
           "#FFA15A",
           "#19d3f3",
           "#FF6692",
           "#B6E880",
           "#FF97FF",
           "#FECB52"
          ],
          "font": {
           "color": "#2a3f5f"
          },
          "geo": {
           "bgcolor": "white",
           "lakecolor": "white",
           "landcolor": "#E5ECF6",
           "showlakes": true,
           "showland": true,
           "subunitcolor": "white"
          },
          "hoverlabel": {
           "align": "left"
          },
          "hovermode": "closest",
          "mapbox": {
           "style": "light"
          },
          "paper_bgcolor": "white",
          "plot_bgcolor": "#E5ECF6",
          "polar": {
           "angularaxis": {
            "gridcolor": "white",
            "linecolor": "white",
            "ticks": ""
           },
           "bgcolor": "#E5ECF6",
           "radialaxis": {
            "gridcolor": "white",
            "linecolor": "white",
            "ticks": ""
           }
          },
          "scene": {
           "xaxis": {
            "backgroundcolor": "#E5ECF6",
            "gridcolor": "white",
            "gridwidth": 2,
            "linecolor": "white",
            "showbackground": true,
            "ticks": "",
            "zerolinecolor": "white"
           },
           "yaxis": {
            "backgroundcolor": "#E5ECF6",
            "gridcolor": "white",
            "gridwidth": 2,
            "linecolor": "white",
            "showbackground": true,
            "ticks": "",
            "zerolinecolor": "white"
           },
           "zaxis": {
            "backgroundcolor": "#E5ECF6",
            "gridcolor": "white",
            "gridwidth": 2,
            "linecolor": "white",
            "showbackground": true,
            "ticks": "",
            "zerolinecolor": "white"
           }
          },
          "shapedefaults": {
           "line": {
            "color": "#2a3f5f"
           }
          },
          "ternary": {
           "aaxis": {
            "gridcolor": "white",
            "linecolor": "white",
            "ticks": ""
           },
           "baxis": {
            "gridcolor": "white",
            "linecolor": "white",
            "ticks": ""
           },
           "bgcolor": "#E5ECF6",
           "caxis": {
            "gridcolor": "white",
            "linecolor": "white",
            "ticks": ""
           }
          },
          "title": {
           "x": 0.05
          },
          "xaxis": {
           "automargin": true,
           "gridcolor": "white",
           "linecolor": "white",
           "ticks": "",
           "title": {
            "standoff": 15
           },
           "zerolinecolor": "white",
           "zerolinewidth": 2
          },
          "yaxis": {
           "automargin": true,
           "gridcolor": "white",
           "linecolor": "white",
           "ticks": "",
           "title": {
            "standoff": 15
           },
           "zerolinecolor": "white",
           "zerolinewidth": 2
          }
         }
        },
        "title": {
         "text": "Comparison between original and synthetic (gaussian) data"
        },
        "xaxis": {
         "anchor": "y",
         "domain": [
          0,
          0.235
         ],
         "title": {
          "text": "_value"
         }
        },
        "xaxis2": {
         "anchor": "y2",
         "domain": [
          0.255,
          0.49
         ],
         "matches": "x",
         "title": {
          "text": "_value"
         }
        },
        "xaxis3": {
         "anchor": "y3",
         "domain": [
          0.51,
          0.745
         ],
         "matches": "x",
         "title": {
          "text": "_value"
         }
        },
        "xaxis4": {
         "anchor": "y4",
         "domain": [
          0.7649999999999999,
          0.9999999999999999
         ],
         "matches": "x",
         "title": {
          "text": "_value"
         }
        },
        "yaxis": {
         "anchor": "x",
         "domain": [
          0,
          1
         ],
         "title": {
          "text": "count"
         }
        },
        "yaxis2": {
         "anchor": "x2",
         "domain": [
          0,
          1
         ],
         "matches": "y",
         "showticklabels": false
        },
        "yaxis3": {
         "anchor": "x3",
         "domain": [
          0,
          1
         ],
         "matches": "y",
         "showticklabels": false
        },
        "yaxis4": {
         "anchor": "x4",
         "domain": [
          0,
          1
         ],
         "matches": "y",
         "showticklabels": false
        }
       }
      }
     },
     "metadata": {},
     "output_type": "display_data"
    }
   ],
   "source": [
    "col = data.columns[0]\n",
    "fig = px.histogram(\n",
    "    data_frame=df_comb,\n",
    "    barmode=\"overlay\",\n",
    "    color_discrete_sequence=px.colors.qualitative.Vivid,\n",
    "    opacity=0.6,\n",
    "    nbins=50,\n",
    "    title=\"Comparison between original and synthetic (gaussian) data\",\n",
    "    color=\"origin\",\n",
    "    facet_col=\"feature\",\n",
    ")\n",
    "# fig.update_xaxes(matches=None) # allow x axes to have different range on each subplot\n",
    "fig"
   ]
  },
  {
   "cell_type": "markdown",
   "metadata": {},
   "source": [
    "It appears that `petal length (cm)` and, to some extent, `petal width (cm)` are the features with the largest difference between the original data and the synthetic data.\n",
    "\n",
    "Two analyses may be performed from this observation:\n",
    "- Intuitively, our guess would be that a wider standard deviation may be responsible for such a difference. Indeed, larger standard deviation means more chance to draw far away from the mean, therefore to obtain samples substantially different samples. This explanation holds for the `petal length (cm)`, which has by far the largest standard deviation ($\\approx 1.77$, whereas all the others are below $0.83$).\n",
    "- However, the point above does not hold when comparing `petal width (cm)` and `sepal length (cm)`. Indeed, the former has a standard deviation of $0.76$ vs $0.83$ for the latter, but `petal width (cm)` seems more different from the original data than `sepal length (cm)`. In this case, we see two possible explanations:\n",
    "    1. The true distribution of `petal width (cm)` is not gaussian than the one of `sepal length (cm)` (or at least less similar to a gaussian distribution).\n",
    "    1. The sample draw from the true distribution of `petal width (cm)` is less representive than the one of `sepal length (cm)`."
   ]
  },
  {
   "cell_type": "markdown",
   "metadata": {},
   "source": [
    "$\\mathbf{Exercise\\, 4.}$ Estimate and plot the probability density function of the feature $\\text{petal length (cm)}$.\n"
   ]
  },
  {
   "cell_type": "code",
   "execution_count": null,
   "metadata": {},
   "outputs": [],
   "source": [
    "\n"
   ]
  },
  {
   "cell_type": "markdown",
   "metadata": {},
   "source": [
    "## Assigment 1.2\n",
    "\n",
    "$\\mathbf{Exercise\\, 1.}$ Create a linear benchmark, where the dimension of the input data $X$ is 2, and the dimension of the output data $y$ is 1. Choose the amount of noise and sample size.\n",
    "\n",
    "Evaluate the prediction metrics for the following regression methods:\n",
    "\n",
    "- Linear regression\n",
    "- Support Vector Regression with RBF kernel\n",
    "- Decision Tree Regression\n"
   ]
  },
  {
   "cell_type": "code",
   "execution_count": 2,
   "metadata": {
    "collapsed": true
   },
   "outputs": [],
   "source": [
    "from sklearn.svm import SVR\n",
    "from sklearn.tree import DecisionTreeRegressor\n",
    "\n",
    "\n",
    "svr_rbf = SVR(kernel=\"rbf\", C=1e3, gamma=0.1)\n",
    "# fit the model by using\n",
    "# y_rbf = svr_rbf.fit(X, y)\n",
    "# predict by using\n",
    "# svr_rbf.predict(X)\n",
    "\n",
    "\n",
    "tree = DecisionTreeRegressor(max_depth=3)\n",
    "# fit the model by using\n",
    "# y_tree = tree.fit(X, y)\n",
    "# predict by using\n",
    "# tree.predict(X)\n"
   ]
  },
  {
   "cell_type": "markdown",
   "metadata": {},
   "source": [
    "$\\mathbf{Exercise\\, 2.}$ Create a testing dataset and assess the testing metrics for the models.\n"
   ]
  },
  {
   "cell_type": "code",
   "execution_count": null,
   "metadata": {
    "collapsed": true
   },
   "outputs": [],
   "source": []
  },
  {
   "cell_type": "markdown",
   "metadata": {},
   "source": [
    "$\\mathbf{Exercise\\, 3.}$ Plot the regression results (training and testing) for each model\n"
   ]
  },
  {
   "cell_type": "code",
   "execution_count": null,
   "metadata": {
    "collapsed": true
   },
   "outputs": [],
   "source": []
  },
  {
   "cell_type": "markdown",
   "metadata": {},
   "source": [
    "$\\mathbf{Exercise\\, 4.}$ Create a classification benchmark with 3 labels.\n",
    "\n",
    "Evaluate training and testing prediction metrics for the following classification methods:\n",
    "\n",
    "- K-nearest neighbours\n",
    "- Random Forest\n",
    "- Naive Bayes\n"
   ]
  },
  {
   "cell_type": "code",
   "execution_count": 3,
   "metadata": {
    "collapsed": true
   },
   "outputs": [],
   "source": [
    "from sklearn.neighbors import KNeighborsClassifier\n",
    "from sklearn.ensemble import RandomForestClassifier\n",
    "from sklearn.naive_bayes import GaussianNB\n"
   ]
  },
  {
   "cell_type": "code",
   "execution_count": null,
   "metadata": {
    "collapsed": true
   },
   "outputs": [],
   "source": []
  },
  {
   "cell_type": "code",
   "execution_count": null,
   "metadata": {
    "collapsed": true
   },
   "outputs": [],
   "source": []
  },
  {
   "cell_type": "code",
   "execution_count": null,
   "metadata": {
    "collapsed": true
   },
   "outputs": [],
   "source": []
  }
 ],
 "metadata": {
  "kernelspec": {
   "display_name": "Python 3",
   "language": "python",
   "name": "python3"
  },
  "language_info": {
   "codemirror_mode": {
    "name": "ipython",
    "version": 3
   },
   "file_extension": ".py",
   "mimetype": "text/x-python",
   "name": "python",
   "nbconvert_exporter": "python",
   "pygments_lexer": "ipython3",
   "version": "3.9.10"
  }
 },
 "nbformat": 4,
 "nbformat_minor": 2
}

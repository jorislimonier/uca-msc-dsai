{
 "cells": [
  {
   "cell_type": "markdown",
   "metadata": {},
   "source": [
    "# Class exercises solved\n",
    "\n",
    "__Exercise 1.__ Suppose a coin is weighted such that, when tossed it comes up heads 70% of times. What is the entropy of this coin?"
   ]
  },
  {
   "cell_type": "code",
   "execution_count": 8,
   "metadata": {},
   "outputs": [
    {
     "data": {
      "text/plain": [
       "-0.8812908992306927"
      ]
     },
     "execution_count": 8,
     "metadata": {},
     "output_type": "execute_result"
    }
   ],
   "source": [
    "import numpy as np\n",
    "\n",
    "p = 0.7\n",
    "\n",
    "H1 = 0.7 * np.log(0.7) + 0.3 * np.log(0.3)\n",
    "H1 / np.log(2)\n"
   ]
  },
  {
   "cell_type": "markdown",
   "metadata": {},
   "source": [
    "__Exercise 2.__ What is the entropy of a fair dice? "
   ]
  },
  {
   "cell_type": "code",
   "execution_count": 11,
   "metadata": {},
   "outputs": [
    {
     "data": {
      "text/plain": [
       "-2.584962500721156"
      ]
     },
     "execution_count": 11,
     "metadata": {},
     "output_type": "execute_result"
    }
   ],
   "source": [
    "H2 = 6*1/6*np.log(1/6)\n",
    "H2/np.log(2)"
   ]
  },
  {
   "cell_type": "markdown",
   "metadata": {},
   "source": [
    "__Exercise 3.__ What is the entropy of a dice that shows \n",
    "- \"1\": 20% of times, \n",
    "- \"2\": 10% of times,\n",
    "- \"3\": 5% of times,\n",
    "- \"4\": 20% of times,\n",
    "- \"5\": 30% of times,\n",
    "- \"6\": 15% of times    "
   ]
  },
  {
   "cell_type": "code",
   "execution_count": 12,
   "metadata": {},
   "outputs": [
    {
     "data": {
      "text/plain": [
       "-2.408694969562842"
      ]
     },
     "execution_count": 12,
     "metadata": {},
     "output_type": "execute_result"
    }
   ],
   "source": [
    "H3 = 2*0.2*np.log(0.2) + 0.1*np.log(0.1) + 0.05*np.log(0.05) + 0.3*np.log(0.3) + 0.15*np.log(0.15)"
   ]
  },
  {
   "cell_type": "markdown",
   "metadata": {},
   "source": [
    "__Exercise 4.__ Compute the Kullback-Leibler divergence between the dice of Exercise 2 and the dice of Exercise 3."
   ]
  },
  {
   "cell_type": "code",
   "execution_count": 14,
   "metadata": {},
   "outputs": [
    {
     "data": {
      "text/plain": [
       "0.14462152754328747"
      ]
     },
     "execution_count": 14,
     "metadata": {},
     "output_type": "execute_result"
    }
   ],
   "source": [
    "q3 = [0.2,0.1,0.05,0.2,0.3,0.15]\n",
    "\n",
    "DKL23 =  np.sum([1/6 * (np.log(1/6) - np.log(i)) for i in q3])\n",
    "\n",
    "DKL23"
   ]
  },
  {
   "cell_type": "markdown",
   "metadata": {},
   "source": [
    "# Assignment 4.2\n",
    "\n",
    "This time we are going to work with the diabetes dataset.\n"
   ]
  },
  {
   "cell_type": "code",
   "execution_count": 16,
   "metadata": {},
   "outputs": [
    {
     "name": "stdout",
     "output_type": "stream",
     "text": [
      ".. _diabetes_dataset:\n",
      "\n",
      "Diabetes dataset\n",
      "----------------\n",
      "\n",
      "Ten baseline variables, age, sex, body mass index, average blood\n",
      "pressure, and six blood serum measurements were obtained for each of n =\n",
      "442 diabetes patients, as well as the response of interest, a\n",
      "quantitative measure of disease progression one year after baseline.\n",
      "\n",
      "**Data Set Characteristics:**\n",
      "\n",
      "  :Number of Instances: 442\n",
      "\n",
      "  :Number of Attributes: First 10 columns are numeric predictive values\n",
      "\n",
      "  :Target: Column 11 is a quantitative measure of disease progression one year after baseline\n",
      "\n",
      "  :Attribute Information:\n",
      "      - Age\n",
      "      - Sex\n",
      "      - Body mass index\n",
      "      - Average blood pressure\n",
      "      - S1\n",
      "      - S2\n",
      "      - S3\n",
      "      - S4\n",
      "      - S5\n",
      "      - S6\n",
      "\n",
      "Note: Each of these 10 feature variables have been mean centered and scaled by the standard deviation times `n_samples` (i.e. the sum of squares of each column totals 1).\n",
      "\n",
      "Source URL:\n",
      "https://www4.stat.ncsu.edu/~boos/var.select/diabetes.html\n",
      "\n",
      "For more information see:\n",
      "Bradley Efron, Trevor Hastie, Iain Johnstone and Robert Tibshirani (2004) \"Least Angle Regression,\" Annals of Statistics (with discussion), 407-499.\n",
      "(https://web.stanford.edu/~hastie/Papers/LARS/LeastAngle_2002.pdf)\n"
     ]
    }
   ],
   "source": [
    "from sklearn import datasets \n",
    "import numpy as np\n",
    "import matplotlib.pyplot as plt\n",
    "\n",
    "dataset = datasets.load_diabetes(return_X_y=False)\n",
    "print(dataset.DESCR)"
   ]
  },
  {
   "cell_type": "code",
   "execution_count": 17,
   "metadata": {},
   "outputs": [],
   "source": [
    "# Define the feature matrix\n",
    "data = dataset.data\n",
    "# Define the target\n",
    "target = dataset.target"
   ]
  },
  {
   "cell_type": "code",
   "execution_count": 20,
   "metadata": {},
   "outputs": [
    {
     "data": {
      "image/png": "[encoded data removed]",
      "text/plain": [
       "<Figure size 432x288 with 1 Axes>"
      ]
     },
     "metadata": {
      "needs_background": "light"
     },
     "output_type": "display_data"
    }
   ],
   "source": [
    "plt.scatter(data[:,2], data[:,9])\n",
    "plt.xlabel('BMI')\n",
    "plt.ylabel('S6')\n",
    "plt.show()"
   ]
  },
  {
   "cell_type": "markdown",
   "metadata": {},
   "source": [
    "__Exercise 1.__ Investigate the relationship between body mass index (data[:,2]) and S6 (data[:,9]). By using the AIC score seen during lesson, can you verify which hypothesis is better supported by the data?\n",
    "\n",
    "- there is no relationship (constant)\n",
    "- the relationship is linear\n",
    "- the relationship is quadratic\n",
    "- the relationship is cubic\n",
    "- the relationship is polynomial of order 4"
   ]
  },
  {
   "cell_type": "code",
   "execution_count": 44,
   "metadata": {},
   "outputs": [],
   "source": [
    "def Gaussian_loglik(x,y,w,sigma2):\n",
    "    N = len(y)\n",
    "    ll = -N/2 * np.log(2*np.pi*sigma2) - 1/(2*sigma2) * np.sum((y-x.dot(w.T))**2)\n",
    "    return ll\n",
    "\n",
    "def fit_poly(x,y):\n",
    "    w_ml = np.linalg.solve(x.T.dot(x),x.T.dot(y))\n",
    "    w_ml.reshape(1,(len(w_ml)))\n",
    "    sigma2_ml = np.mean((y-x.dot(w_ml.T))**2)\n",
    "    return w_ml, sigma2_ml"
   ]
  },
  {
   "cell_type": "code",
   "execution_count": 56,
   "metadata": {},
   "outputs": [
    {
     "name": "stdout",
     "output_type": "stream",
     "text": [
      "[-1436.0173045253575, -1506.4085348469357, -1509.367540400094, -1507.6167371574688, -1507.1778729555394]\n",
      "3\n"
     ]
    },
    {
     "data": {
      "image/png": "[encoded data removed]",
      "text/plain": [
       "<Figure size 432x288 with 1 Axes>"
      ]
     },
     "metadata": {
      "needs_background": "light"
     },
     "output_type": "display_data"
    }
   ],
   "source": [
    "AIC = []\n",
    "BIC = []\n",
    "\n",
    "x = data[:,2]\n",
    "y = data[:,9]\n",
    "\n",
    "plt.scatter(x,y)\n",
    "\n",
    "\n",
    "poly_order = [1,2,3,4,5]\n",
    "\n",
    "for n_elements in poly_order:\n",
    "    x_poly = np.array([x**i for i in range(n_elements)]).T\n",
    "    w_ml, sigma2_ml = fit_poly(x_poly,y)\n",
    "\n",
    "    training_ll = Gaussian_loglik(x_poly,y,w_ml,sigma2_ml)\n",
    "    AIC.append(-2*training_ll + 2*n_elements)\n",
    "    BIC.append(-2*training_ll + 2*n_elements*np.log(x.shape[0]))\n",
    "    \n",
    "print(AIC)\n",
    "model = poly_order[np.argmin(AIC)]\n",
    "\n",
    "print(model)\n",
    "x_poly = np.array([x**i for i in range(model)]).T\n",
    "w_ml, sigma2_ml = fit_poly(x_poly,y)\n",
    "\n",
    "x_plot = np.arange(-0.1,0.15,0.01)\n",
    "x_poly_plot = np.array([x_plot**i for i in range(model)]).T\n",
    "\n",
    "plt.plot(x_plot, x_poly_plot.dot(w_ml), color = 'black')\n",
    "plt.show()\n"
   ]
  },
  {
   "cell_type": "markdown",
   "metadata": {},
   "source": [
    "__Exercise 2.__ Repeat the exercise by using the BIC. Discuss the differences in the results, if any."
   ]
  },
  {
   "cell_type": "code",
   "execution_count": 57,
   "metadata": {},
   "outputs": [
    {
     "name": "stdout",
     "output_type": "stream",
     "text": [
      "[-1425.8346847612022, -1486.0432953186248, -1478.8196811076277, -1466.8862581008473, -1456.2647741347625]\n",
      "2\n"
     ]
    },
    {
     "data": {
      "image/png": "[encoded data removed]",
      "text/plain": [
       "<Figure size 432x288 with 1 Axes>"
      ]
     },
     "metadata": {
      "needs_background": "light"
     },
     "output_type": "display_data"
    }
   ],
   "source": [
    "print(BIC)\n",
    "model = poly_order[np.argmin(BIC)]\n",
    "\n",
    "print(model)\n",
    "x_poly = np.array([x**i for i in range(model)]).T\n",
    "w_ml, sigma2_ml = fit_poly(x_poly,y)\n",
    "\n",
    "x_plot = np.arange(-0.1,0.15,0.01)\n",
    "x_poly_plot = np.array([x_plot**i for i in range(model)]).T\n",
    "\n",
    "plt.scatter(x,y)\n",
    "plt.plot(x_plot, x_poly_plot.dot(w_ml), color = 'black')\n",
    "plt.show()"
   ]
  },
  {
   "cell_type": "markdown",
   "metadata": {},
   "source": [
    "__Exercise 3.__ Which model would you support between the following:\n",
    "\n",
    "- target depends on _Age_\n",
    "- target depends on _Age_ and _Sex_\n",
    "- target depends on _Age_ and _Body mass index_ \n",
    "- target depends on _Age_ and _Body mass index_ and _Average blood pressure_\n",
    "- target depends on _Age_ and _Sex_ and _Body mass index_ \n",
    "- target depends on _Age_ and _Sex_ and _Body mass index_ and _Average blood pressure_\n",
    "- target depends on  _Body mass index_ and _Average blood pressure_\n",
    "\n",
    "Use any metric (or more metrics) at your discretion, and comment the results"
   ]
  },
  {
   "cell_type": "code",
   "execution_count": 58,
   "metadata": {},
   "outputs": [
    {
     "data": {
      "image/png": "[encoded data removed]",
      "text/plain": [
       "<Figure size 432x288 with 1 Axes>"
      ]
     },
     "metadata": {
      "needs_background": "light"
     },
     "output_type": "display_data"
    },
    {
     "name": "stdout",
     "output_type": "stream",
     "text": [
      "3\n",
      "2\n"
     ]
    }
   ],
   "source": [
    "AIC = []\n",
    "BIC = []\n",
    "\n",
    "x = data[:,3]\n",
    "y = target\n",
    "\n",
    "plt.scatter(x,y)\n",
    "plt.show()\n",
    "\n",
    "for n_elements in [[0],[0,1],[0,2],[0,2,3],[0,1,2],[0,1,2,3]]:\n",
    "    x = data[:,n_elements]\n",
    "    w_ml, sigma2_ml = fit_poly(x,y)\n",
    "    training_ll = Gaussian_loglik(x,y,w_ml,sigma2_ml)\n",
    "    AIC.append(-2*training_ll + 2*len(n_elements))\n",
    "    BIC.append(-2*training_ll + 2*len(n_elements)*np.log(x.shape[0]))\n",
    "    \n",
    "print(np.argmin(AIC))\n",
    "print(np.argmin(BIC))"
   ]
  },
  {
   "cell_type": "code",
   "execution_count": null,
   "metadata": {
    "collapsed": true
   },
   "outputs": [],
   "source": []
  }
 ],
 "metadata": {
  "anaconda-cloud": {},
  "kernelspec": {
   "display_name": "Python 3",
   "language": "python",
   "name": "python3"
  },
  "language_info": {
   "codemirror_mode": {
    "name": "ipython",
    "version": 3
   },
   "file_extension": ".py",
   "mimetype": "text/x-python",
   "name": "python",
   "nbconvert_exporter": "python",
   "pygments_lexer": "ipython3",
   "version": "3.6.12"
  }
 },
 "nbformat": 4,
 "nbformat_minor": 1
}

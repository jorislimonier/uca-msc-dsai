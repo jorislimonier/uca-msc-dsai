{
 "cells": [
  {
   "cell_type": "code",
   "execution_count": 2,
   "metadata": {},
   "outputs": [],
   "source": [
    "import numpy as np"
   ]
  },
  {
   "cell_type": "code",
   "execution_count": 3,
   "metadata": {},
   "outputs": [
    {
     "data": {
      "text/plain": [
       "1.75"
      ]
     },
     "execution_count": 3,
     "metadata": {},
     "output_type": "execute_result"
    }
   ],
   "source": [
    "def entropy(x: list):\n",
    "  x = np.array(x)\n",
    "  entropy_list = -x*np.log2(x)\n",
    "  return entropy_list.sum()\n",
    "\n",
    "entropy([1/2, 1/4, 1/8, 1/8])"
   ]
  },
  {
   "cell_type": "code",
   "execution_count": 4,
   "metadata": {},
   "outputs": [],
   "source": [
    "joint = np.array([\n",
    "  [1 / 24, 1 / 12, 1 / 6, 1 / 24],\n",
    "  [1 / 6, 1 / 8, 1 / 24, 1 / 6],\n",
    "  [1 / 24, 1 / 24, 1 / 24, 1 / 24],\n",
    "])\n",
    "p_x = np.sum(joint, axis=1)\n",
    "p_y = np.sum(joint, axis=0)\n",
    "y_given_x = joint / p_x[:, None]\n",
    "H_y_given_x = np.array([entropy(ygx) for ygx in y_given_x])"
   ]
  },
  {
   "cell_type": "code",
   "execution_count": 5,
   "metadata": {},
   "outputs": [
    {
     "data": {
      "text/plain": [
       "array([[0, 0, 0, 0, 0, 0, 0, 0],\n",
       "       [0, 0, 0, 0, 0, 0, 0, 0],\n",
       "       [0, 0, 0, 0, 0, 0, 0, 0],\n",
       "       [0, 0, 0, 0, 0, 0, 0, 0],\n",
       "       [0, 0, 0, 0, 0, 0, 0, 0],\n",
       "       [0, 0, 0, 0, 0, 0, 0, 0],\n",
       "       [0, 0, 0, 1, 0, 0, 0, 0],\n",
       "       [0, 0, 0, 0, 0, 0, 0, 0]])"
      ]
     },
     "execution_count": 5,
     "metadata": {},
     "output_type": "execute_result"
    }
   ],
   "source": [
    "np.random.seed(42)\n",
    "\n",
    "board = np.zeros((8, 8), dtype=int)\n",
    "pos = np.random.randint(0, 8, size=2)\n",
    "board[*pos] = 1\n",
    "board"
   ]
  },
  {
   "cell_type": "code",
   "execution_count": 6,
   "metadata": {},
   "outputs": [
    {
     "data": {
      "text/plain": [
       "(2.7499999999999996, 2.1987192786541505)"
      ]
     },
     "execution_count": 6,
     "metadata": {},
     "output_type": "execute_result"
    }
   ],
   "source": [
    "n = [2, 3, 3, 3, 4]\n",
    "p = [0.35, 0.22, 0.18, 0.15, 0.1]\n",
    "np.dot(n, p), entropy(p)"
   ]
  },
  {
   "cell_type": "code",
   "execution_count": 53,
   "metadata": {},
   "outputs": [
    {
     "name": "stdout",
     "output_type": "stream",
     "text": [
      "['+X' '+Y'] ['0', '1']\n",
      "['-Y'] ['0']\n",
      "['PS' '-X'] ['0', '1']\n",
      "['RS'] ['0']\n"
     ]
    }
   ],
   "source": [
    "states = np.array([\"RS\", \"PS\", \"-X\", \"+X\", \"-Y\", \"+Y\"])\n",
    "probs = np.array([0.1, 0.1, 0.1, 0.3, 0.2, 0.2])\n",
    "# states = np.array([\"s1\", \"s2\", \"s3\", \"s4\", \"s5\"])\n",
    "# probs = np.array([0.35, 0.22, 0.18, 0.15, 0.1])\n",
    "\n",
    "\n",
    "def shannon_fano(states: np.array, probs: np.array):\n",
    "  sort_incides = np.argsort(probs)[::-1]\n",
    "  states = states[sort_incides]\n",
    "  probs = probs[sort_incides]\n",
    "\n",
    "  n = len(states)\n",
    "  code = [\"\"] * n\n",
    "  total_prob = np.sum(probs)\n",
    "  closest = np.argmin(np.abs(np.cumsum(probs) - total_prob / 2))\n",
    "  for i in range(n):\n",
    "    if i <= closest:\n",
    "      code[i] += \"0\"\n",
    "    else:\n",
    "      code[i] += \"1\"\n",
    "\n",
    "  if n > 2:\n",
    "    shannon_fano(states[: closest + 1], probs[: closest + 1])\n",
    "    shannon_fano(states[closest + 1 :], probs[closest + 1 :])\n",
    "  else:\n",
    "    print(states, code)\n",
    "\n",
    "\n",
    "shannon_fano(states, probs)\n"
   ]
  }
 ],
 "metadata": {
  "kernelspec": {
   "display_name": "Python 3",
   "language": "python",
   "name": "python3"
  },
  "language_info": {
   "codemirror_mode": {
    "name": "ipython",
    "version": 3
   },
   "file_extension": ".py",
   "mimetype": "text/x-python",
   "name": "python",
   "nbconvert_exporter": "python",
   "pygments_lexer": "ipython3",
   "version": "3.11.1"
  },
  "orig_nbformat": 4,
  "vscode": {
   "interpreter": {
    "hash": "ead1b95f633dc9c51826328e1846203f51a198c6fb5f2884a80417ba131d4e82"
   }
  }
 },
 "nbformat": 4,
 "nbformat_minor": 2
}

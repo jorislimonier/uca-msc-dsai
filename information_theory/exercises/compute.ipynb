{
 "cells": [
  {
   "cell_type": "code",
   "execution_count": 2,
   "metadata": {},
   "outputs": [],
   "source": [
    "import numpy as np"
   ]
  },
  {
   "cell_type": "code",
   "execution_count": 3,
   "metadata": {},
   "outputs": [],
   "source": [
    "def entropy(x: list):\n",
    "  x = np.array(x)\n",
    "  entropy_list = -x*np.log2(x)\n",
    "  return entropy_list.sum()\n"
   ]
  },
  {
   "cell_type": "code",
   "execution_count": 4,
   "metadata": {},
   "outputs": [
    {
     "data": {
      "text/plain": [
       "0.5533064273553083"
      ]
     },
     "execution_count": 4,
     "metadata": {},
     "output_type": "execute_result"
    }
   ],
   "source": [
    "(entropy([1/10, 9/10])*2/3) + entropy([2/10, 8/10])*1/3"
   ]
  },
  {
   "cell_type": "code",
   "execution_count": 5,
   "metadata": {},
   "outputs": [
    {
     "data": {
      "text/plain": [
       "(0.8960382325345574, 0.6962122601251458, 1.5922504926597032)"
      ]
     },
     "execution_count": 5,
     "metadata": {},
     "output_type": "execute_result"
    }
   ],
   "source": [
    "entropy([5/16, 11/16]), entropy([3/16, 13/16]), entropy([5/16, 11/16]) + entropy([3/16, 13/16])"
   ]
  },
  {
   "cell_type": "code",
   "execution_count": 10,
   "metadata": {},
   "outputs": [
    {
     "data": {
      "text/plain": [
       "array([3.32192809, 2.32192809, 1.32192809])"
      ]
     },
     "execution_count": 10,
     "metadata": {},
     "output_type": "execute_result"
    }
   ],
   "source": [
    "entropy([0.2,0.2,0.4,0.1,0.1])\n",
    "-np.log2([0.1, 0.2, 0.4])"
   ]
  },
  {
   "cell_type": "code",
   "execution_count": 16,
   "metadata": {},
   "outputs": [
    {
     "data": {
      "text/plain": [
       "(2.7499999999999996, 2.1987192786541505)"
      ]
     },
     "execution_count": 16,
     "metadata": {},
     "output_type": "execute_result"
    }
   ],
   "source": [
    "n = [2, 3, 3, 3, 4]\n",
    "p = [0.35, 0.22, 0.18, 0.15, 0.1]\n",
    "np.dot(n, p), entropy(p)"
   ]
  },
  {
   "cell_type": "code",
   "execution_count": 19,
   "metadata": {},
   "outputs": [
    {
     "name": "stdout",
     "output_type": "stream",
     "text": [
      "['s1' 's2'] ['0', '1']\n",
      "['s3'] ['0']\n",
      "['s4' 's5'] ['0', '1']\n"
     ]
    }
   ],
   "source": [
    "states = np.array([\"RS\", \"PS\", \"-X\", \"+X\", \"-Y\", \"+Y\"])\n",
    "probs = np.array([0.1, 0.1, 0.1, 0.3, 0.2, 0.2])\n",
    "states = np.array([\"s1\", \"s2\", \"s3\", \"s4\", \"s5\"])\n",
    "probs = np.array([0.35, 0.22, 0.18, 0.15, 0.1])\n",
    "\n",
    "\n",
    "def shannon_fano(states: np.array, probs: np.array):\n",
    "  sort_incides = np.argsort(probs)[::-1]\n",
    "  states = states[sort_incides]\n",
    "  probs = probs[sort_incides]\n",
    "\n",
    "  n = len(states)\n",
    "  code = [\"\"] * n\n",
    "  total_prob = np.sum(probs)\n",
    "  closest = np.argmin(np.abs(np.cumsum(probs) - total_prob / 2))\n",
    "  for i in range(n):\n",
    "    if i <= closest:\n",
    "      code[i] += \"0\"\n",
    "    else:\n",
    "      code[i] += \"1\"\n",
    "\n",
    "  if n > 2:\n",
    "    shannon_fano(states[: closest + 1], probs[: closest + 1])\n",
    "    shannon_fano(states[closest + 1 :], probs[closest + 1 :])\n",
    "  else:\n",
    "    print(states, code)\n",
    "\n",
    "\n",
    "shannon_fano(states, probs)\n"
   ]
  },
  {
   "cell_type": "code",
   "execution_count": 57,
   "metadata": {},
   "outputs": [
    {
     "name": "stdout",
     "output_type": "stream",
     "text": [
      "[['s5'], ['s4'], ['s3'], ['s2'], ['s1']] [0.1  0.15 0.18 0.22 0.35] [[''], [''], [''], [''], ['']]\n"
     ]
    },
    {
     "ename": "IndexError",
     "evalue": "string index out of range",
     "output_type": "error",
     "traceback": [
      "\u001b[0;31m---------------------------------------------------------------------------\u001b[0m",
      "\u001b[0;31mIndexError\u001b[0m                                Traceback (most recent call last)",
      "Cell \u001b[0;32mIn[57], line 32\u001b[0m\n\u001b[1;32m     26\u001b[0m   \u001b[39m# for code in codes[1]:\u001b[39;00m\n\u001b[1;32m     27\u001b[0m   \u001b[39m#   code += \"1\"\u001b[39;00m\n\u001b[1;32m     28\u001b[0m   \u001b[39m#   codes[1] = code\u001b[39;00m\n\u001b[1;32m     29\u001b[0m   \u001b[39mprint\u001b[39m(states, probs, codes)\n\u001b[0;32m---> 32\u001b[0m huffman(states, probs)\n",
      "Cell \u001b[0;32mIn[57], line 12\u001b[0m, in \u001b[0;36mhuffman\u001b[0;34m(states, probs)\u001b[0m\n\u001b[1;32m     10\u001b[0m states \u001b[39m=\u001b[39m \u001b[39mlist\u001b[39m([states[\u001b[39m0\u001b[39m] \u001b[39m+\u001b[39m states[\u001b[39m1\u001b[39m]]) \u001b[39m+\u001b[39m \u001b[39mlist\u001b[39m(states[\u001b[39m2\u001b[39m:])\n\u001b[1;32m     11\u001b[0m probs \u001b[39m=\u001b[39m np\u001b[39m.\u001b[39mconcatenate([[probs[\u001b[39m0\u001b[39m] \u001b[39m+\u001b[39m probs[\u001b[39m1\u001b[39m]], probs[\u001b[39m2\u001b[39m:]])\n\u001b[0;32m---> 12\u001b[0m codes[\u001b[39m0\u001b[39m] \u001b[39m=\u001b[39m [code[\u001b[39m0\u001b[39;49m] \u001b[39m+\u001b[39;49m \u001b[39m\"\u001b[39;49m\u001b[39m0\u001b[39;49m\u001b[39m\"\u001b[39;49m \u001b[39mfor\u001b[39;49;00m code \u001b[39min\u001b[39;49;00m codes[\u001b[39m0\u001b[39;49m]]\n\u001b[1;32m     13\u001b[0m codes[\u001b[39m1\u001b[39m] \u001b[39m=\u001b[39m [code[\u001b[39m0\u001b[39m] \u001b[39m+\u001b[39m \u001b[39m\"\u001b[39m\u001b[39m1\u001b[39m\u001b[39m\"\u001b[39m \u001b[39mfor\u001b[39;00m code \u001b[39min\u001b[39;00m codes[\u001b[39m1\u001b[39m]]\n\u001b[1;32m     14\u001b[0m codes \u001b[39m=\u001b[39m \u001b[39mlist\u001b[39m([[codes[\u001b[39m0\u001b[39m], codes[\u001b[39m1\u001b[39m]]]) \u001b[39m+\u001b[39m codes[\u001b[39m2\u001b[39m:]\n",
      "Cell \u001b[0;32mIn[57], line 12\u001b[0m, in \u001b[0;36m<listcomp>\u001b[0;34m(.0)\u001b[0m\n\u001b[1;32m     10\u001b[0m states \u001b[39m=\u001b[39m \u001b[39mlist\u001b[39m([states[\u001b[39m0\u001b[39m] \u001b[39m+\u001b[39m states[\u001b[39m1\u001b[39m]]) \u001b[39m+\u001b[39m \u001b[39mlist\u001b[39m(states[\u001b[39m2\u001b[39m:])\n\u001b[1;32m     11\u001b[0m probs \u001b[39m=\u001b[39m np\u001b[39m.\u001b[39mconcatenate([[probs[\u001b[39m0\u001b[39m] \u001b[39m+\u001b[39m probs[\u001b[39m1\u001b[39m]], probs[\u001b[39m2\u001b[39m:]])\n\u001b[0;32m---> 12\u001b[0m codes[\u001b[39m0\u001b[39m] \u001b[39m=\u001b[39m [code[\u001b[39m0\u001b[39;49m] \u001b[39m+\u001b[39m \u001b[39m\"\u001b[39m\u001b[39m0\u001b[39m\u001b[39m\"\u001b[39m \u001b[39mfor\u001b[39;00m code \u001b[39min\u001b[39;00m codes[\u001b[39m0\u001b[39m]]\n\u001b[1;32m     13\u001b[0m codes[\u001b[39m1\u001b[39m] \u001b[39m=\u001b[39m [code[\u001b[39m0\u001b[39m] \u001b[39m+\u001b[39m \u001b[39m\"\u001b[39m\u001b[39m1\u001b[39m\u001b[39m\"\u001b[39m \u001b[39mfor\u001b[39;00m code \u001b[39min\u001b[39;00m codes[\u001b[39m1\u001b[39m]]\n\u001b[1;32m     14\u001b[0m codes \u001b[39m=\u001b[39m \u001b[39mlist\u001b[39m([[codes[\u001b[39m0\u001b[39m], codes[\u001b[39m1\u001b[39m]]]) \u001b[39m+\u001b[39m codes[\u001b[39m2\u001b[39m:]\n",
      "\u001b[0;31mIndexError\u001b[0m: string index out of range"
     ]
    }
   ],
   "source": [
    "def huffman(states: np.array, probs: np.array):\n",
    "  sort_incides = np.argsort(probs)\n",
    "  states = [[s] for s in states[sort_incides]]\n",
    "  probs = probs[sort_incides]\n",
    "  codes = [[\"\"] for _ in states]\n",
    "  print(states, probs, codes)\n",
    "\n",
    "  probs[:2].sum()\n",
    "  # states = [states[0] + states[1]] + states[2:]\n",
    "  states = list([states[0] + states[1]]) + list(states[2:])\n",
    "  probs = np.concatenate([[probs[0] + probs[1]], probs[2:]])\n",
    "  codes[0] = [code[0] + \"0\" for code in codes[0]]\n",
    "  codes[1] = [code[0] + \"1\" for code in codes[1]]\n",
    "  codes = list([[codes[0], codes[1]]]) + codes[2:]\n",
    "  print(states, probs, codes)\n",
    "\n",
    "  sort_incides = np.argsort(probs)\n",
    "  states = [states[idx] for idx in sort_incides]\n",
    "  probs = probs[sort_incides]\n",
    "\n",
    "  codes[0] = [code + \"0\" for code in codes[0]]\n",
    "  codes[1] = [code + \"1\" for code in codes[1]]\n",
    "  print(states, probs, codes)\n",
    "\n",
    "\n",
    "huffman(states, probs)"
   ]
  }
 ],
 "metadata": {
  "kernelspec": {
   "display_name": "Python 3",
   "language": "python",
   "name": "python3"
  },
  "language_info": {
   "codemirror_mode": {
    "name": "ipython",
    "version": 3
   },
   "file_extension": ".py",
   "mimetype": "text/x-python",
   "name": "python",
   "nbconvert_exporter": "python",
   "pygments_lexer": "ipython3",
   "version": "3.11.1"
  },
  "orig_nbformat": 4,
  "vscode": {
   "interpreter": {
    "hash": "ead1b95f633dc9c51826328e1846203f51a198c6fb5f2884a80417ba131d4e82"
   }
  }
 },
 "nbformat": 4,
 "nbformat_minor": 2
}

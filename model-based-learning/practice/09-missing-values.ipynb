{
 "cells": [
  {
   "cell_type": "code",
   "execution_count": 55,
   "metadata": {},
   "outputs": [
    {
     "name": "stdout",
     "output_type": "stream",
     "text": [
      "[[-27.43563299 -56.86543007]\n",
      " [ 12.42594547 -60.40925127]\n",
      " [ 33.58703836 -37.89505979]\n",
      " [ 75.0382433  -62.48603255]\n",
      " [ 32.59493524 -62.01577513]\n",
      " [ 62.91122435 -55.71975679]\n",
      " [-23.6461776  -33.70066022]\n",
      " [ 30.19417447 -44.72622728]\n",
      " [ 35.87200907 -62.42688486]\n",
      " [ 30.63202756 -58.33993712]\n",
      " [ -4.08469716 -62.765224  ]\n",
      " [ 26.1498381  -48.53360675]\n",
      " [ 35.50122337 -37.9970313 ]]\n"
     ]
    }
   ],
   "source": [
    "from typing import Optional\n",
    "import pandas as pd\n",
    "import numpy as np\n",
    "import plotly.express as px\n",
    "\n",
    "\n",
    "class EM:\n",
    "  def __init__(self) -> None:\n",
    "\n",
    "    np.random.seed(42)\n",
    "    self.sample_size = 20\n",
    "    self.mu = [5, -1]\n",
    "    self.sigma = np.array(\n",
    "      [\n",
    "        [1, 0.5],\n",
    "        [0.5, 1],\n",
    "      ]\n",
    "    )\n",
    "    self.na_prop = 0.2\n",
    "\n",
    "    # Create multivariate normal\n",
    "    self.multiv_norm_full = np.random.multivariate_normal(\n",
    "      mean=self.mu,\n",
    "      cov=self.sigma,\n",
    "      size=self.sample_size,\n",
    "    )\n",
    "\n",
    "    # Create mask\n",
    "    self.missing_mask = np.random.binomial(\n",
    "      n=1, p=1 - self.na_prop, size=self.sample_size\n",
    "    )\n",
    "    self.multiv_norm = self.multiv_norm_full  # store full data\n",
    "    self.multiv_norm[:, 1] *= self.missing_mask  # apply mask on column 1\n",
    "    self.multiv_norm[self.multiv_norm == 0] = np.nan\n",
    "\n",
    "  def e_step(self, x: Optional[np.array] = None) -> dict:\n",
    "    \"\"\"\n",
    "    theta = (mu, sigma)\n",
    "    \"\"\"\n",
    "    if x is None:\n",
    "      x = self.multiv_norm\n",
    "    s1 = np.sum(x[:, 0])\n",
    "    s11 = np.sum(x[:, 0] ** 2)\n",
    "\n",
    "    x_obs = x[~np.isnan(x[:, 1])]\n",
    "\n",
    "    s2 = np.nansum(x[:, 1])\n",
    "    s12 = np.nansum(np.prod(x, axis=1))\n",
    "\n",
    "    for x_val in x[np.isnan(x[:, 1])][:, 0]:\n",
    "      # Update s2\n",
    "      s2 += (\n",
    "        (self.mu[1] + self.sigma[1, 0] * (x_val - self.mu[0]) / self.sigma[0, 0]) ** 2\n",
    "        + self.sigma[1, 1]\n",
    "        - self.sigma[1, 0] ** 2 / self.sigma[0, 0]\n",
    "      )\n",
    "\n",
    "      # Update s12\n",
    "      s12 += x_obs * (\n",
    "        self.mu[1] + self.sigma[1, 0] * (x_obs - self.mu[1]) / self.sigma[0, 0]\n",
    "      )\n",
    "\n",
    "    print(s12)\n",
    "\n",
    "    # return {\"mu_init\": mu, \"sigma_init\": sigma}\n",
    "\n",
    "\n",
    "em = EM()\n",
    "em.e_step()\n"
   ]
  }
 ],
 "metadata": {
  "kernelspec": {
   "display_name": "Python 3.10.6 64-bit",
   "language": "python",
   "name": "python3"
  },
  "language_info": {
   "codemirror_mode": {
    "name": "ipython",
    "version": 3
   },
   "file_extension": ".py",
   "mimetype": "text/x-python",
   "name": "python",
   "nbconvert_exporter": "python",
   "pygments_lexer": "ipython3",
   "version": "3.10.6"
  },
  "orig_nbformat": 4,
  "vscode": {
   "interpreter": {
    "hash": "916dbcbb3f70747c44a77c7bcd40155683ae19c65e1c03b4aa3499c5328201f1"
   }
  }
 },
 "nbformat": 4,
 "nbformat_minor": 2
}

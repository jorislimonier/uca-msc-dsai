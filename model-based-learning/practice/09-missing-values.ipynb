{
 "cells": [
  {
   "cell_type": "code",
   "execution_count": 92,
   "metadata": {},
   "outputs": [
    {
     "data": {
      "text/plain": [
       "{'mu_init': array([ 4.97934981, -1.02483971]),\n",
       " 'sigma_init': array([[0.92546005,        nan],\n",
       "        [       nan,        nan]])}"
      ]
     },
     "execution_count": 92,
     "metadata": {},
     "output_type": "execute_result"
    }
   ],
   "source": [
    "import pandas as pd\n",
    "import numpy as np\n",
    "import plotly.express as px\n",
    "\n",
    "np.random.seed(42)\n",
    "sample_size = 500\n",
    "mu = [5, -1]\n",
    "sigma = [[1, 0.5], [0.5, 1]]\n",
    "na_prop = 0.3\n",
    "\n",
    "multiv_norm = np.random.multivariate_normal(mean=mu, cov=sigma, size=sample_size)\n",
    "missing_mask = np.random.binomial(n=1, p=1 - na_prop, size=sample_size)\n",
    "multiv_norm[:, 1] *= missing_mask\n",
    "multiv_norm[multiv_norm == 0] = np.nan\n",
    "\n",
    "\n",
    "def init_ex(xna: np.array):\n",
    "  \"\"\"theta = (mu, sigma)\"\"\"\n",
    "  mu1 = np.mean(xna[:, 0])\n",
    "  mu2 = np.nanmean(xna[:, 1], )\n",
    "  mu = np.array([mu1, mu2])\n",
    "\n",
    "  sigma = np.cov(xna.T)\n",
    "  return {\"mu_init\": mu, \"sigma_init\": sigma}\n",
    "\n",
    "\n",
    "init_ex(xna=multiv_norm)"
   ]
  }
 ],
 "metadata": {
  "kernelspec": {
   "display_name": "Python 3.9.15 64-bit",
   "language": "python",
   "name": "python3"
  },
  "language_info": {
   "codemirror_mode": {
    "name": "ipython",
    "version": 3
   },
   "file_extension": ".py",
   "mimetype": "text/x-python",
   "name": "python",
   "nbconvert_exporter": "python",
   "pygments_lexer": "ipython3",
   "version": "3.9.15"
  },
  "orig_nbformat": 4,
  "vscode": {
   "interpreter": {
    "hash": "36cf16204b8548560b1c020c4e8fb5b57f0e4c58016f52f2d4be01e192833930"
   }
  }
 },
 "nbformat": 4,
 "nbformat_minor": 2
}

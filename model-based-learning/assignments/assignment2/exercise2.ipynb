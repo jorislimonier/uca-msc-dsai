{
 "cells": [
  {
   "attachments": {},
   "cell_type": "markdown",
   "metadata": {},
   "source": [
    "# EM algorithm for logistic regression\n",
    "\n",
    "The logistic regression model is defined as follows:\n",
    "\\begin{equation}\n",
    "\\mathbb{P}\\left(y_i=1 \\mid X_i ; \\beta\\right)=\\frac{1}{1+\\exp \\left(-X_i^T \\beta\\right)}\n",
    "\\end{equation}\n",
    "with $y_i \\in \\{0,1\\}$ and $X_i \\in \\mathbb{R}^{d}$.\n",
    "\n",
    "Hence the observed log-likelihood is defined as follows:\n",
    "\\begin{equation}\n",
    "\\ell\\left(\\beta\\right)=\\sum_{i=1}^{n} \\left(y_i \\log \\left(\\mathbb{P}\\left(y_i=1 \\mid X_i ; \\beta\\right)\\right)+\\left(1-y_i\\right) \\log \\left(1-\\mathbb{P}\\left(y_i=1 \\mid X_i ; \\beta\\right)\\right)\\right)\n",
    "\\end{equation}\n",
    "\n",
    "The full log-likelihood is defined as follows:\n",
    "\\begin{equation}\n"
   ]
  }
 ],
 "metadata": {
  "kernelspec": {
   "display_name": "Python 3",
   "language": "python",
   "name": "python3"
  },
  "language_info": {
   "name": "python",
   "version": "3.10.6 (main, Nov 14 2022, 16:10:14) [GCC 11.3.0]"
  },
  "orig_nbformat": 4,
  "vscode": {
   "interpreter": {
    "hash": "916dbcbb3f70747c44a77c7bcd40155683ae19c65e1c03b4aa3499c5328201f1"
   }
  }
 },
 "nbformat": 4,
 "nbformat_minor": 2
}

{
 "cells": [
  {
   "attachments": {},
   "cell_type": "markdown",
   "metadata": {},
   "source": [
    "# EM algorithm for logistic regression\n",
    "\n",
    "The logistic regression model is defined as follows:\n",
    "\\begin{equation}\n",
    "\\mathbb{P}\\left(y_i=1 \\mid X_i ; \\beta\\right)=\\frac{1}{1+\\exp \\left(-X_i^T \\beta\\right)}\n",
    "\\end{equation}\n",
    "with $y_i \\in \\{0,1\\}$ and $X_i \\in \\mathbb{R}^{d}$.\n",
    "\n",
    "The log-likelihood $\\ell$ of the data is given by:\n",
    "\\begin{align*}\n",
    "\\mathcal{\\ell}(\\beta)\n",
    "&= \\sum_{i=1}^n \\left[y_i \\log \\mathbb{P}\\left(y_i=1 \\mid X_i ; \\beta\\right) + (1-y_i) \\log \\mathbb{P}\\left(y_i=0 \\mid X_i ; \\beta\\right)\\right] \\\\\n",
    "&= \\sum_{i=1}^n \\left[y_i \\log \\frac{1}{1+\\exp (-X_i^T \\beta)} + (1-y_i) \\log \\frac{\\exp (-X_i^T \\beta)}{1+\\exp (-X_i^T \\beta)}\\right] \\\\\n",
    "&= \\sum_{i=1}^n \\left[\\log \\frac{\\exp (-X_i^T \\beta)}{1+\\exp (-X_i^T \\beta)} + y_i \\left[ \\log \\frac{1}{1+\\exp (-X_i^T \\beta)} - \\log \\frac{\\exp (-X_i^T \\beta)}{1+\\exp (-X_i^T \\beta)}\\right]\\right] \\\\\n",
    "&= \\sum_{i=1}^n \\left[\\log \\frac{1}{1+\\exp (X_i^T \\beta)} + y_i \\log \\frac{1}{\\exp (-X_i^T \\beta)}\\right] \\\\\n",
    "&= \\sum_{i=1}^n \\left[- \\log \\left[1+\\exp (X_i^T \\beta)\\right] + y_i X_i^T \\beta\\right] \\\\\n",
    "\\end{align*}\n",
    "\n",
    "Furthermore, the observed log-likelihood $\\ell_{obs}$ is given by:\n",
    "\\begin{align*}\n",
    "\\ell_{obs}(\\beta)\n",
    "&= \\sum_{i=1}^n \\left[- \\log \\left[1+\\exp (X_i^T \\beta)\\right] + y_i X_i^T \\beta\\right] \\\\\n",
    "&= \\sum_{i=1}^n \\left[- \\log \\left[1+\\exp (X_i^T \\beta)\\right] + y_i \\left[ \\log \\frac{1}{1+\\exp (-X_i^T \\beta)} - \\log \\frac{\\exp (-X_i^T \\beta)}{1+\\exp (-X_i^T \\beta)}\\right]\\right] \\\\\n",
    "\\end{align*}"
   ]
  }
 ],
 "metadata": {
  "kernelspec": {
   "display_name": "Python 3",
   "language": "python",
   "name": "python3"
  },
  "language_info": {
   "name": "python",
   "version": "3.10.6 (main, Nov 14 2022, 16:10:14) [GCC 11.3.0]"
  },
  "orig_nbformat": 4,
  "vscode": {
   "interpreter": {
    "hash": "916dbcbb3f70747c44a77c7bcd40155683ae19c65e1c03b4aa3499c5328201f1"
   }
  }
 },
 "nbformat": 4,
 "nbformat_minor": 2
}

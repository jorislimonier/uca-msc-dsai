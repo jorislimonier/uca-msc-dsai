{
 "cells": [
  {
   "cell_type": "code",
   "execution_count": 2,
   "metadata": {},
   "outputs": [
    {
     "name": "stderr",
     "output_type": "stream",
     "text": [
      "--2022-02-24 09:40:58--  https://code-server.dev/install.sh\n",
      "Resolving code-server.dev (code-server.dev)... 172.67.214.225, 104.21.16.171, 2606:4700:3031::ac43:d6e1, ...\n",
      "Connecting to code-server.dev (code-server.dev)|172.67.214.225|:443... connected.\n",
      "HTTP request sent, awaiting response... 302 Found\n",
      "Location: https://raw.githubusercontent.com/cdr/code-server/main/install.sh [following]\n",
      "--2022-02-24 09:40:59--  https://raw.githubusercontent.com/cdr/code-server/main/install.sh\n",
      "Resolving raw.githubusercontent.com (raw.githubusercontent.com)... 185.199.109.133, 185.199.111.133, 185.199.108.133, ...\n",
      "Connecting to raw.githubusercontent.com (raw.githubusercontent.com)|185.199.109.133|:443... connected.\n",
      "HTTP request sent, awaiting response... 200 OK\n",
      "Length: 15962 (16K) [text/plain]\n",
      "Saving to: ‘install.sh’\n",
      "\n",
      "     0K .......... .....                                      100% 2.47M=0.006s\n",
      "\n",
      "2022-02-24 09:40:59 (2.47 MB/s) - ‘install.sh’ saved [15962/15962]\n",
      "\n",
      "######################################################################## 100.0%-=O#- #  #    #                                                                                                                                  3.2%                                                                      4.1%                                                       9.8%                                                   10.7%#######                                                                 12.5%                                                           15.4%                                                    18.5%##########                                                       26.6%############                                                      28.2%                                                   30.4%###################                                                    31.4%#################                                                  34.5%#######################                                               38.8%#####################                                          45.0%#################################                               60.9%########################                             62.9%############################################                          67.8%##########################                       71.4%#################################                    75.4%#################################################                 80.1%#######################################             85.7%\n",
      "sudo: a terminal is required to read the password; either use the -S option to read from standard input or configure an askpass helper\n"
     ]
    },
    {
     "ename": "FileNotFoundError",
     "evalue": "[Errno 2] No such file or directory: 'code-server'",
     "output_type": "error",
     "traceback": [
      "\u001b[0;31m---------------------------------------------------------------------------\u001b[0m",
      "\u001b[0;31mFileNotFoundError\u001b[0m                         Traceback (most recent call last)",
      "\u001b[1;32m/home/joris/Documents/uca-msc-dsai/intro-DL/test.ipynb Cell 1'\u001b[0m in \u001b[0;36m<module>\u001b[0;34m\u001b[0m\n\u001b[1;32m      <a href='vscode-notebook-cell:/home/joris/Documents/uca-msc-dsai/intro-DL/test.ipynb#ch0000000?line=0'>1</a>\u001b[0m \u001b[39mfrom\u001b[39;00m \u001b[39mcolabcode\u001b[39;00m \u001b[39mimport\u001b[39;00m ColabCode\n\u001b[0;32m----> <a href='vscode-notebook-cell:/home/joris/Documents/uca-msc-dsai/intro-DL/test.ipynb#ch0000000?line=1'>2</a>\u001b[0m ColabCode()\n",
      "File \u001b[0;32m~/.local/lib/python3.9/site-packages/colabcode/code.py:43\u001b[0m, in \u001b[0;36mColabCode.__init__\u001b[0;34m(self, port, password, authtoken, mount_drive, code, lab)\u001b[0m\n\u001b[1;32m     <a href='file:///~/.local/lib/python3.9/site-packages/colabcode/code.py?line=40'>41</a>\u001b[0m \u001b[39mif\u001b[39;00m \u001b[39mself\u001b[39m\u001b[39m.\u001b[39m_code:\n\u001b[1;32m     <a href='file:///~/.local/lib/python3.9/site-packages/colabcode/code.py?line=41'>42</a>\u001b[0m     \u001b[39mself\u001b[39m\u001b[39m.\u001b[39m_install_code()\n\u001b[0;32m---> <a href='file:///~/.local/lib/python3.9/site-packages/colabcode/code.py?line=42'>43</a>\u001b[0m     \u001b[39mself\u001b[39;49m\u001b[39m.\u001b[39;49m_install_extensions()\n\u001b[1;32m     <a href='file:///~/.local/lib/python3.9/site-packages/colabcode/code.py?line=43'>44</a>\u001b[0m     \u001b[39mself\u001b[39m\u001b[39m.\u001b[39m_start_server()\n\u001b[1;32m     <a href='file:///~/.local/lib/python3.9/site-packages/colabcode/code.py?line=44'>45</a>\u001b[0m     \u001b[39mself\u001b[39m\u001b[39m.\u001b[39m_run_code()\n",
      "File \u001b[0;32m~/.local/lib/python3.9/site-packages/colabcode/code.py:58\u001b[0m, in \u001b[0;36mColabCode._install_extensions\u001b[0;34m()\u001b[0m\n\u001b[1;32m     <a href='file:///~/.local/lib/python3.9/site-packages/colabcode/code.py?line=54'>55</a>\u001b[0m \u001b[39m@staticmethod\u001b[39m\n\u001b[1;32m     <a href='file:///~/.local/lib/python3.9/site-packages/colabcode/code.py?line=55'>56</a>\u001b[0m \u001b[39mdef\u001b[39;00m \u001b[39m_install_extensions\u001b[39m():\n\u001b[1;32m     <a href='file:///~/.local/lib/python3.9/site-packages/colabcode/code.py?line=56'>57</a>\u001b[0m     \u001b[39mfor\u001b[39;00m ext \u001b[39min\u001b[39;00m EXTENSIONS:\n\u001b[0;32m---> <a href='file:///~/.local/lib/python3.9/site-packages/colabcode/code.py?line=57'>58</a>\u001b[0m         subprocess\u001b[39m.\u001b[39;49mrun([\u001b[39m\"\u001b[39;49m\u001b[39mcode-server\u001b[39;49m\u001b[39m\"\u001b[39;49m, \u001b[39m\"\u001b[39;49m\u001b[39m--install-extension\u001b[39;49m\u001b[39m\"\u001b[39;49m, \u001b[39mf\u001b[39;49m\u001b[39m\"\u001b[39;49m\u001b[39m{\u001b[39;49;00mext\u001b[39m}\u001b[39;49;00m\u001b[39m\"\u001b[39;49m])\n",
      "File \u001b[0;32m/usr/lib/python3.9/subprocess.py:505\u001b[0m, in \u001b[0;36mrun\u001b[0;34m(input, capture_output, timeout, check, *popenargs, **kwargs)\u001b[0m\n\u001b[1;32m    <a href='file:///usr/lib/python3.9/subprocess.py?line=501'>502</a>\u001b[0m     kwargs[\u001b[39m'\u001b[39m\u001b[39mstdout\u001b[39m\u001b[39m'\u001b[39m] \u001b[39m=\u001b[39m PIPE\n\u001b[1;32m    <a href='file:///usr/lib/python3.9/subprocess.py?line=502'>503</a>\u001b[0m     kwargs[\u001b[39m'\u001b[39m\u001b[39mstderr\u001b[39m\u001b[39m'\u001b[39m] \u001b[39m=\u001b[39m PIPE\n\u001b[0;32m--> <a href='file:///usr/lib/python3.9/subprocess.py?line=504'>505</a>\u001b[0m \u001b[39mwith\u001b[39;00m Popen(\u001b[39m*\u001b[39;49mpopenargs, \u001b[39m*\u001b[39;49m\u001b[39m*\u001b[39;49mkwargs) \u001b[39mas\u001b[39;00m process:\n\u001b[1;32m    <a href='file:///usr/lib/python3.9/subprocess.py?line=505'>506</a>\u001b[0m     \u001b[39mtry\u001b[39;00m:\n\u001b[1;32m    <a href='file:///usr/lib/python3.9/subprocess.py?line=506'>507</a>\u001b[0m         stdout, stderr \u001b[39m=\u001b[39m process\u001b[39m.\u001b[39mcommunicate(\u001b[39minput\u001b[39m, timeout\u001b[39m=\u001b[39mtimeout)\n",
      "File \u001b[0;32m/usr/lib/python3.9/subprocess.py:951\u001b[0m, in \u001b[0;36mPopen.__init__\u001b[0;34m(self, args, bufsize, executable, stdin, stdout, stderr, preexec_fn, close_fds, shell, cwd, env, universal_newlines, startupinfo, creationflags, restore_signals, start_new_session, pass_fds, user, group, extra_groups, encoding, errors, text, umask)\u001b[0m\n\u001b[1;32m    <a href='file:///usr/lib/python3.9/subprocess.py?line=946'>947</a>\u001b[0m         \u001b[39mif\u001b[39;00m \u001b[39mself\u001b[39m\u001b[39m.\u001b[39mtext_mode:\n\u001b[1;32m    <a href='file:///usr/lib/python3.9/subprocess.py?line=947'>948</a>\u001b[0m             \u001b[39mself\u001b[39m\u001b[39m.\u001b[39mstderr \u001b[39m=\u001b[39m io\u001b[39m.\u001b[39mTextIOWrapper(\u001b[39mself\u001b[39m\u001b[39m.\u001b[39mstderr,\n\u001b[1;32m    <a href='file:///usr/lib/python3.9/subprocess.py?line=948'>949</a>\u001b[0m                     encoding\u001b[39m=\u001b[39mencoding, errors\u001b[39m=\u001b[39merrors)\n\u001b[0;32m--> <a href='file:///usr/lib/python3.9/subprocess.py?line=950'>951</a>\u001b[0m     \u001b[39mself\u001b[39;49m\u001b[39m.\u001b[39;49m_execute_child(args, executable, preexec_fn, close_fds,\n\u001b[1;32m    <a href='file:///usr/lib/python3.9/subprocess.py?line=951'>952</a>\u001b[0m                         pass_fds, cwd, env,\n\u001b[1;32m    <a href='file:///usr/lib/python3.9/subprocess.py?line=952'>953</a>\u001b[0m                         startupinfo, creationflags, shell,\n\u001b[1;32m    <a href='file:///usr/lib/python3.9/subprocess.py?line=953'>954</a>\u001b[0m                         p2cread, p2cwrite,\n\u001b[1;32m    <a href='file:///usr/lib/python3.9/subprocess.py?line=954'>955</a>\u001b[0m                         c2pread, c2pwrite,\n\u001b[1;32m    <a href='file:///usr/lib/python3.9/subprocess.py?line=955'>956</a>\u001b[0m                         errread, errwrite,\n\u001b[1;32m    <a href='file:///usr/lib/python3.9/subprocess.py?line=956'>957</a>\u001b[0m                         restore_signals,\n\u001b[1;32m    <a href='file:///usr/lib/python3.9/subprocess.py?line=957'>958</a>\u001b[0m                         gid, gids, uid, umask,\n\u001b[1;32m    <a href='file:///usr/lib/python3.9/subprocess.py?line=958'>959</a>\u001b[0m                         start_new_session)\n\u001b[1;32m    <a href='file:///usr/lib/python3.9/subprocess.py?line=959'>960</a>\u001b[0m \u001b[39mexcept\u001b[39;00m:\n\u001b[1;32m    <a href='file:///usr/lib/python3.9/subprocess.py?line=960'>961</a>\u001b[0m     \u001b[39m# Cleanup if the child failed starting.\u001b[39;00m\n\u001b[1;32m    <a href='file:///usr/lib/python3.9/subprocess.py?line=961'>962</a>\u001b[0m     \u001b[39mfor\u001b[39;00m f \u001b[39min\u001b[39;00m \u001b[39mfilter\u001b[39m(\u001b[39mNone\u001b[39;00m, (\u001b[39mself\u001b[39m\u001b[39m.\u001b[39mstdin, \u001b[39mself\u001b[39m\u001b[39m.\u001b[39mstdout, \u001b[39mself\u001b[39m\u001b[39m.\u001b[39mstderr)):\n",
      "File \u001b[0;32m/usr/lib/python3.9/subprocess.py:1821\u001b[0m, in \u001b[0;36mPopen._execute_child\u001b[0;34m(self, args, executable, preexec_fn, close_fds, pass_fds, cwd, env, startupinfo, creationflags, shell, p2cread, p2cwrite, c2pread, c2pwrite, errread, errwrite, restore_signals, gid, gids, uid, umask, start_new_session)\u001b[0m\n\u001b[1;32m   <a href='file:///usr/lib/python3.9/subprocess.py?line=1818'>1819</a>\u001b[0m     \u001b[39mif\u001b[39;00m errno_num \u001b[39m!=\u001b[39m \u001b[39m0\u001b[39m:\n\u001b[1;32m   <a href='file:///usr/lib/python3.9/subprocess.py?line=1819'>1820</a>\u001b[0m         err_msg \u001b[39m=\u001b[39m os\u001b[39m.\u001b[39mstrerror(errno_num)\n\u001b[0;32m-> <a href='file:///usr/lib/python3.9/subprocess.py?line=1820'>1821</a>\u001b[0m     \u001b[39mraise\u001b[39;00m child_exception_type(errno_num, err_msg, err_filename)\n\u001b[1;32m   <a href='file:///usr/lib/python3.9/subprocess.py?line=1821'>1822</a>\u001b[0m \u001b[39mraise\u001b[39;00m child_exception_type(err_msg)\n",
      "\u001b[0;31mFileNotFoundError\u001b[0m: [Errno 2] No such file or directory: 'code-server'"
     ]
    }
   ],
   "source": [
    "from colabcode import ColabCode\n",
    "ColabCode()"
   ]
  }
 ],
 "metadata": {
  "interpreter": {
   "hash": "36cf16204b8548560b1c020c4e8fb5b57f0e4c58016f52f2d4be01e192833930"
  },
  "kernelspec": {
   "display_name": "Python 3.9.9 64-bit",
   "language": "python",
   "name": "python3"
  },
  "language_info": {
   "codemirror_mode": {
    "name": "ipython",
    "version": 3
   },
   "file_extension": ".py",
   "mimetype": "text/x-python",
   "name": "python",
   "nbconvert_exporter": "python",
   "pygments_lexer": "ipython3",
   "version": "3.9.10"
  },
  "orig_nbformat": 4
 },
 "nbformat": 4,
 "nbformat_minor": 2
}

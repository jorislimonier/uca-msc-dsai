{
 "cells": [
  {
   "cell_type": "markdown",
   "metadata": {
    "id": "7Zc0WsSkoWK0"
   },
   "source": [
    "# Attention mechanism for sentiment analysis\n"
   ]
  },
  {
   "cell_type": "markdown",
   "metadata": {
    "id": "VSuNR5g2oUqH"
   },
   "source": [
    "In this lab we use part of the 'Amazon_Unlocked_Mobile.csv' dataset published by Kaggle. The dataset contain the following information:\n",
    "\n",
    "- Product Name\n",
    "- Brand Name\n",
    "- Price\n",
    "- Rating\n",
    "- Reviews\n",
    "- Review Votes\n",
    "\n",
    "We are mainly interested by the 'Reviews' (X) and by the 'Rating' (y)\n",
    "\n",
    "The goal is to try to predict the 'Rating' after reading the 'Reviews'. I've prepared for you TRAIN and TEST set.\n",
    "The work to be done is as follows:\n",
    "\n",
    "1. Feature extraction and baseline\n",
    "   - read the dataset and understand it\n",
    "   - put it in a format so that you can use `CountVectorizer` or`Tf-IDF` to extract the desired features\n",
    "   - perform on the desired dates and preprocessing\n",
    "   - use one of the classifiers you know to predict the polarity of different sentences\n",
    "1. My first neural network\n",
    "   - reuse the features already extracted\n",
    "   - proposed a neural network built with Keras\n",
    "1. Hyper-parameter fitting\n",
    "   - for the base line: adjust min_df, max_df, ngram, max_features + model's hyper-parameter\n",
    "   - for the neural network: adjust batch size, number of layers and number of neuron by layers, use earlystop\n",
    "1. <span style=\"color:red\">Word embedding\n",
    "   - stage 1 build a network that uses Keras' embedding which is not language sensitive.\n",
    "   - stage 2 build a network that simultaneously uses Keras' embedding and the features extracted in the first weeks.\n",
    "   - stage 3 try to use an existing embedding (https://github.com/facebookresearch/MUSE)\n",
    "     </span>\n",
    "\n",
    "**WARNING:** the dataset is voluminous, I can only encourage you to work first on a small part of it and only at the end, when the code is well debugged and that it is necessary to build the \"final model\", to use the whole dataset.\n"
   ]
  },
  {
   "cell_type": "code",
   "execution_count": 19,
   "metadata": {
    "ExecuteTime": {
     "end_time": "2022-02-07T18:09:56.208198Z",
     "start_time": "2022-02-07T18:09:56.080331Z"
    }
   },
   "outputs": [
    {
     "data": {
      "text/html": [
       "<div id=\"my_id_menu_nb\">run previous cell, wait for 2 seconds</div>\n",
       "<script>\n",
       "function repeat_indent_string(n){\n",
       "    var a = \"\" ;\n",
       "    for ( ; n > 0 ; --n)\n",
       "        a += \"    \";\n",
       "    return a;\n",
       "}\n",
       "// look up into all sections and builds an automated menu //\n",
       "var update_menu_string = function(begin, lfirst, llast, sformat, send, keep_item, begin_format, end_format) {\n",
       "    var anchors = document.getElementsByClassName(\"section\");\n",
       "    if (anchors.length == 0) {\n",
       "        anchors = document.getElementsByClassName(\"text_cell_render rendered_html\");\n",
       "    }\n",
       "    var i,t;\n",
       "    var text_menu = begin;\n",
       "    var text_memo = \"<pre>\\nlength:\" + anchors.length + \"\\n\";\n",
       "    var ind = \"\";\n",
       "    var memo_level = 1;\n",
       "    var href;\n",
       "    var tags = [];\n",
       "    var main_item = 0;\n",
       "    var format_open = 0;\n",
       "    for (i = 0; i <= llast; i++)\n",
       "        tags.push(\"h\" + i);\n",
       "\n",
       "    for (i = 0; i < anchors.length; i++) {\n",
       "        text_memo += \"**\" + anchors[i].id + \"--\\n\";\n",
       "\n",
       "        var child = null;\n",
       "        for(t = 0; t < tags.length; t++) {\n",
       "            var r = anchors[i].getElementsByTagName(tags[t]);\n",
       "            if (r.length > 0) {\n",
       "child = r[0];\n",
       "break;\n",
       "            }\n",
       "        }\n",
       "        if (child == null) {\n",
       "            text_memo += \"null\\n\";\n",
       "            continue;\n",
       "        }\n",
       "        if (anchors[i].hasAttribute(\"id\")) {\n",
       "            // when converted in RST\n",
       "            href = anchors[i].id;\n",
       "            text_memo += \"#1-\" + href;\n",
       "            // passer à child suivant (le chercher)\n",
       "        }\n",
       "        else if (child.hasAttribute(\"id\")) {\n",
       "            // in a notebook\n",
       "            href = child.id;\n",
       "            text_memo += \"#2-\" + href;\n",
       "        }\n",
       "        else {\n",
       "            text_memo += \"#3-\" + \"*\" + \"\\n\";\n",
       "            continue;\n",
       "        }\n",
       "        var title = child.textContent;\n",
       "        var level = parseInt(child.tagName.substring(1,2));\n",
       "\n",
       "        text_memo += \"--\" + level + \"?\" + lfirst + \"--\" + title + \"\\n\";\n",
       "\n",
       "        if ((level < lfirst) || (level > llast)) {\n",
       "            continue ;\n",
       "        }\n",
       "        if (title.endsWith('¶')) {\n",
       "            title = title.substring(0,title.length-1).replace(\"<\", \"&lt;\")\n",
       "         .replace(\">\", \"&gt;\").replace(\"&\", \"&amp;\");\n",
       "        }\n",
       "        if (title.length == 0) {\n",
       "            continue;\n",
       "        }\n",
       "\n",
       "        while (level < memo_level) {\n",
       "            text_menu += end_format + \"</ul>\\n\";\n",
       "            format_open -= 1;\n",
       "            memo_level -= 1;\n",
       "        }\n",
       "        if (level == lfirst) {\n",
       "            main_item += 1;\n",
       "        }\n",
       "        if (keep_item != -1 && main_item != keep_item + 1) {\n",
       "            // alert(main_item + \" - \" + level + \" - \" + keep_item);\n",
       "            continue;\n",
       "        }\n",
       "        while (level > memo_level) {\n",
       "            text_menu += \"<ul>\\n\";\n",
       "            memo_level += 1;\n",
       "        }\n",
       "        text_menu += repeat_indent_string(level-2);\n",
       "        text_menu += begin_format + sformat.replace(\"__HREF__\", href).replace(\"__TITLE__\", title);\n",
       "        format_open += 1;\n",
       "    }\n",
       "    while (1 < memo_level) {\n",
       "        text_menu += end_format + \"</ul>\\n\";\n",
       "        memo_level -= 1;\n",
       "        format_open -= 1;\n",
       "    }\n",
       "    text_menu += send;\n",
       "    //text_menu += \"\\n\" + text_memo;\n",
       "\n",
       "    while (format_open > 0) {\n",
       "        text_menu += end_format;\n",
       "        format_open -= 1;\n",
       "    }\n",
       "    return text_menu;\n",
       "};\n",
       "var update_menu = function() {\n",
       "    var sbegin = \"\";\n",
       "    var sformat = '<a href=\"#__HREF__\">__TITLE__</a>';\n",
       "    var send = \"\";\n",
       "    var begin_format = '<li>';\n",
       "    var end_format = '</li>';\n",
       "    var keep_item = -1;\n",
       "    var text_menu = update_menu_string(sbegin, 2, 4, sformat, send, keep_item,\n",
       "       begin_format, end_format);\n",
       "    var menu = document.getElementById(\"my_id_menu_nb\");\n",
       "    menu.innerHTML=text_menu;\n",
       "};\n",
       "window.setTimeout(update_menu,2000);\n",
       "            </script>"
      ],
      "text/plain": [
       "<IPython.core.display.HTML object>"
      ]
     },
     "execution_count": 19,
     "metadata": {},
     "output_type": "execute_result"
    }
   ],
   "source": [
    "\"\"\"\n",
    "(Practical tip) Table of contents can be compiled directly in jupyter notebooks using the following code:\n",
    "I set an exception: if the package is in your installation you can import it otherwise you download it \n",
    "then import it.\n",
    "\"\"\"\n",
    "try:\n",
    "    from jyquickhelper import add_notebook_menu \n",
    "except:\n",
    "    !pip install jyquickhelper\n",
    "    from jyquickhelper import add_notebook_menu\n",
    "    \n",
    "\"\"\"\n",
    "Output Table of contents to navigate easily in the notebook. \n",
    "For interested readers, the package also includes Ipython magic commands to go back to this cell\n",
    "wherever you are in the notebook to look for cells faster\n",
    "\"\"\"\n",
    "add_notebook_menu()"
   ]
  },
  {
   "cell_type": "markdown",
   "metadata": {},
   "source": [
    "## Imports\n"
   ]
  },
  {
   "cell_type": "code",
   "execution_count": 2,
   "metadata": {
    "ExecuteTime": {
     "end_time": "2022-02-07T18:09:58.381036Z",
     "start_time": "2022-02-07T18:09:56.211901Z"
    }
   },
   "outputs": [],
   "source": [
    "import os\n",
    "\n",
    "import matplotlib.pyplot as plt\n",
    "import numpy as np\n",
    "import pandas as pd\n",
    "import tensorflow as tf\n",
    "import tensorflow_addons as tfa\n",
    "from sklearn.preprocessing import OneHotEncoder\n",
    "from tensorflow.keras.callbacks import EarlyStopping\n",
    "from tensorflow.keras.layers import (LSTM, Activation, AveragePooling1D,\n",
    "                                     Bidirectional, Dense, Dot, Dropout,\n",
    "                                     Embedding, Flatten, Input, Permute,\n",
    "                                     RepeatVector, TextVectorization,\n",
    "                                     TimeDistributed)\n",
    "from tensorflow.keras.models import Model, load_model\n",
    "from tensorflow.keras.optimizers import Adam\n",
    "from tensorflow.keras.preprocessing.sequence import pad_sequences\n",
    "from tensorflow.keras.preprocessing.text import one_hot\n",
    "from tensorflow.keras.utils import plot_model\n",
    "from tensorflow_addons.metrics import F1Score\n"
   ]
  },
  {
   "cell_type": "markdown",
   "metadata": {
    "id": "lLrXoRQ5oUqI"
   },
   "source": [
    "## Read the dataset\n",
    "\n",
    "Could you find below a proposal. You can complete them.\n"
   ]
  },
  {
   "cell_type": "code",
   "execution_count": 3,
   "metadata": {
    "ExecuteTime": {
     "end_time": "2022-02-07T18:10:07.668520Z",
     "start_time": "2022-02-07T18:10:06.120178Z"
    },
    "colab": {
     "base_uri": "https://localhost:8080/",
     "height": 204
    },
    "id": "gIXGN8IzoUqJ",
    "outputId": "f9cbed6e-5c8c-45cb-e083-4a9194f12157"
   },
   "outputs": [
    {
     "data": {
      "text/html": [
       "<div>\n",
       "<style scoped>\n",
       "    .dataframe tbody tr th:only-of-type {\n",
       "        vertical-align: middle;\n",
       "    }\n",
       "\n",
       "    .dataframe tbody tr th {\n",
       "        vertical-align: top;\n",
       "    }\n",
       "\n",
       "    .dataframe thead th {\n",
       "        text-align: right;\n",
       "    }\n",
       "</style>\n",
       "<table border=\"1\" class=\"dataframe\">\n",
       "  <thead>\n",
       "    <tr style=\"text-align: right;\">\n",
       "      <th></th>\n",
       "      <th>Product Name</th>\n",
       "      <th>Brand Name</th>\n",
       "      <th>Price</th>\n",
       "      <th>Rating</th>\n",
       "      <th>Reviews</th>\n",
       "      <th>Review Votes</th>\n",
       "    </tr>\n",
       "  </thead>\n",
       "  <tbody>\n",
       "    <tr>\n",
       "      <th>0</th>\n",
       "      <td>Samsung Galaxy Note 4 N910C Unlocked Cellphone...</td>\n",
       "      <td>Samsung</td>\n",
       "      <td>449.99</td>\n",
       "      <td>4</td>\n",
       "      <td>I love it!!! I absolutely love it!! 👌👍</td>\n",
       "      <td>0.0</td>\n",
       "    </tr>\n",
       "    <tr>\n",
       "      <th>1</th>\n",
       "      <td>BLU Energy X Plus Smartphone - With 4000 mAh S...</td>\n",
       "      <td>BLU</td>\n",
       "      <td>139.0</td>\n",
       "      <td>5</td>\n",
       "      <td>I love the BLU phones! This is my second one t...</td>\n",
       "      <td>4.0</td>\n",
       "    </tr>\n",
       "    <tr>\n",
       "      <th>2</th>\n",
       "      <td>Apple iPhone 6 128GB Silver AT&amp;T</td>\n",
       "      <td>Apple</td>\n",
       "      <td>599.95</td>\n",
       "      <td>5</td>\n",
       "      <td>Great phone</td>\n",
       "      <td>1.0</td>\n",
       "    </tr>\n",
       "    <tr>\n",
       "      <th>3</th>\n",
       "      <td>BLU Advance 4.0L Unlocked Smartphone -US GSM -...</td>\n",
       "      <td>BLU</td>\n",
       "      <td>51.99</td>\n",
       "      <td>4</td>\n",
       "      <td>Very happy with the performance. The apps work...</td>\n",
       "      <td>2.0</td>\n",
       "    </tr>\n",
       "    <tr>\n",
       "      <th>4</th>\n",
       "      <td>Huawei P8 Lite US Version- 5 Unlocked Android ...</td>\n",
       "      <td>Huawei</td>\n",
       "      <td>198.99</td>\n",
       "      <td>5</td>\n",
       "      <td>Easy to use great price</td>\n",
       "      <td>0.0</td>\n",
       "    </tr>\n",
       "  </tbody>\n",
       "</table>\n",
       "</div>"
      ],
      "text/plain": [
       "                                        Product Name Brand Name   Price  \\\n",
       "0  Samsung Galaxy Note 4 N910C Unlocked Cellphone...    Samsung  449.99   \n",
       "1  BLU Energy X Plus Smartphone - With 4000 mAh S...        BLU   139.0   \n",
       "2                   Apple iPhone 6 128GB Silver AT&T      Apple  599.95   \n",
       "3  BLU Advance 4.0L Unlocked Smartphone -US GSM -...        BLU   51.99   \n",
       "4  Huawei P8 Lite US Version- 5 Unlocked Android ...     Huawei  198.99   \n",
       "\n",
       "   Rating                                            Reviews Review Votes  \n",
       "0       4             I love it!!! I absolutely love it!! 👌👍          0.0  \n",
       "1       5  I love the BLU phones! This is my second one t...          4.0  \n",
       "2       5                                        Great phone          1.0  \n",
       "3       4  Very happy with the performance. The apps work...          2.0  \n",
       "4       5                            Easy to use great price          0.0  "
      ]
     },
     "execution_count": 3,
     "metadata": {},
     "output_type": "execute_result"
    }
   ],
   "source": [
    "BASE_DATASET_PATH = \"http://www.i3s.unice.fr/~riveill/dataset/Amazon_Unlocked_Mobile/\"\n",
    "TRAIN = pd.read_csv(f\"{BASE_DATASET_PATH}train.csv.gz\").fillna(value=\"\")\n",
    "VAL = pd.read_csv(f\"{BASE_DATASET_PATH}val.csv.gz\").fillna(value=\"\")\n",
    "TEST = pd.read_csv(f\"{BASE_DATASET_PATH}test.csv.gz\").fillna(value=\"\")\n",
    "\n",
    "TRAIN = TRAIN[:2042]  # save training time, remove later\n",
    "\n",
    "\n",
    "TRAIN.head()\n"
   ]
  },
  {
   "cell_type": "code",
   "execution_count": 4,
   "metadata": {
    "ExecuteTime": {
     "end_time": "2022-02-07T18:10:07.713765Z",
     "start_time": "2022-02-07T18:10:07.672004Z"
    },
    "colab": {
     "base_uri": "https://localhost:8080/"
    },
    "id": "WdeAXW40oUqJ",
    "outputId": "d99ac22b-c7e5-4c4a-f817-d8e25ff2a28c"
   },
   "outputs": [
    {
     "data": {
      "text/plain": [
       "((2042, 1), (2042, 5))"
      ]
     },
     "execution_count": 4,
     "metadata": {},
     "output_type": "execute_result"
    }
   ],
   "source": [
    "\"\"\" Construct X_train and y_train \"\"\"\n",
    "X_train = np.array(TRAIN[\"Reviews\"]).reshape(-1, 1)\n",
    "\n",
    "ohe = OneHotEncoder(sparse=False, handle_unknown=\"ignore\")\n",
    "y_train = ohe.fit_transform(np.array(TRAIN[\"Rating\"]).reshape(-1, 1))\n",
    "\n",
    "X_train.shape, y_train.shape\n"
   ]
  },
  {
   "cell_type": "code",
   "execution_count": 5,
   "metadata": {
    "ExecuteTime": {
     "end_time": "2022-02-07T18:10:07.780117Z",
     "start_time": "2022-02-07T18:10:07.723204Z"
    }
   },
   "outputs": [],
   "source": [
    "\"\"\" Do the same for val \"\"\"\n",
    "X_val = np.array(VAL[\"Reviews\"]).reshape(-1, 1)\n",
    "y_val = ohe.transform(np.array(VAL[\"Rating\"]).reshape(-1, 1))\n",
    "\n",
    "\"\"\" Do the same for test \"\"\"\n",
    "X_test = np.array(TEST[\"Reviews\"]).reshape(-1, 1)\n",
    "y_test = ohe.transform(np.array(TEST[\"Rating\"]).reshape(-1, 1))\n"
   ]
  },
  {
   "cell_type": "code",
   "execution_count": 6,
   "metadata": {},
   "outputs": [
    {
     "data": {
      "text/plain": [
       "((2042, 1), (1000, 1), (1000, 1))"
      ]
     },
     "execution_count": 6,
     "metadata": {},
     "output_type": "execute_result"
    }
   ],
   "source": [
    "X_train.shape, X_test.shape, X_val.shape\n"
   ]
  },
  {
   "cell_type": "markdown",
   "metadata": {
    "id": "N4BohkzOoUqO"
   },
   "source": [
    "## Build an a neural network with vectorized embedding and RNN cells.\n",
    "\n",
    "The task is to predict the sentiment according to the content of the review. We can treat this kind of task by a Many-to-one model.\n",
    "\n",
    "![LSTM for sentiment analysis](https://www.programmerall.com/images/679/8c/8c66e6ee3b9418358a791b363572bedf.jpeg)\n",
    "\n",
    "Implement such a network with :\n",
    "\n",
    "- a first layer of type LSTM\n",
    "- a second layer of type LSTM, each cell of this layer will be fed by the corresponding output of the first layer (see figure above).\n"
   ]
  },
  {
   "cell_type": "markdown",
   "metadata": {},
   "source": [
    "### Study of the size of the reviews."
   ]
  },
  {
   "cell_type": "code",
   "execution_count": 7,
   "metadata": {},
   "outputs": [
    {
     "data": {
      "application/vnd.plotly.v1+json": {
       "config": {
        "plotlyServerURL": "https://plot.ly"
       },
       "data": [
        {
         "alignmentgroup": "True",
         "bingroup": "x",
         "cumulative": {
          "enabled": true
         },
         "histnorm": "probability density",
         "hovertemplate": "variable=review_length<br>value=%{x}<br>probability density=%{y}<extra></extra>",
         "legendgroup": "review_length",
         "marker": {
          "color": "#636efa",
          "pattern": {
           "shape": ""
          }
         },
         "name": "review_length",
         "offsetgroup": "review_length",
         "orientation": "v",
         "showlegend": true,
         "type": "histogram",
         "x": [
          8,
          121,
          2,
          21,
          5,
          41,
          6,
          48,
          1,
          118,
          38,
          161,
          399,
          3,
          2,
          1,
          14,
          2,
          1,
          21,
          2,
          15,
          8,
          142,
          85,
          1,
          239,
          63,
          7,
          19,
          64,
          27,
          26,
          64,
          37,
          4,
          11,
          1,
          2,
          2,
          2,
          24,
          4,
          5,
          73,
          111,
          8,
          74,
          3,
          33,
          5,
          4,
          2,
          23,
          11,
          1,
          137,
          101,
          67,
          19,
          11,
          1,
          5,
          48,
          1,
          7,
          7,
          15,
          5,
          5,
          106,
          140,
          35,
          2,
          11,
          1,
          18,
          18,
          23,
          132,
          23,
          40,
          29,
          23,
          7,
          53,
          2,
          43,
          37,
          5,
          8,
          23,
          18,
          5,
          4,
          28,
          25,
          124,
          1,
          21,
          7,
          1,
          6,
          2,
          14,
          180,
          36,
          4,
          59,
          14,
          8,
          12,
          3,
          31,
          20,
          1,
          5,
          5,
          34,
          4,
          4,
          2,
          29,
          8,
          72,
          292,
          30,
          35,
          10,
          23,
          2,
          35,
          4,
          12,
          39,
          66,
          118,
          79,
          19,
          125,
          223,
          4,
          20,
          1,
          25,
          297,
          4,
          19,
          18,
          90,
          11,
          410,
          18,
          48,
          36,
          1,
          3,
          4,
          2,
          1,
          130,
          17,
          6,
          16,
          115,
          10,
          648,
          21,
          113,
          4,
          25,
          1,
          6,
          41,
          21,
          10,
          3,
          20,
          43,
          4,
          66,
          7,
          1,
          2,
          21,
          22,
          58,
          83,
          35,
          273,
          23,
          2,
          5,
          3,
          87,
          34,
          11,
          29,
          77,
          28,
          1,
          228,
          58,
          12,
          12,
          52,
          40,
          2,
          179,
          47,
          2,
          35,
          75,
          6,
          4,
          165,
          21,
          62,
          78,
          4,
          22,
          82,
          19,
          4,
          49,
          6,
          19,
          95,
          6,
          23,
          106,
          4,
          21,
          1,
          10,
          2,
          44,
          9,
          45,
          21,
          359,
          33,
          2,
          7,
          60,
          5,
          6,
          3,
          1,
          1,
          13,
          79,
          33,
          12,
          7,
          31,
          47,
          1,
          2,
          29,
          11,
          4,
          271,
          57,
          20,
          30,
          23,
          26,
          7,
          102,
          123,
          6,
          37,
          2,
          3,
          139,
          21,
          12,
          23,
          25,
          5,
          2,
          3,
          17,
          16,
          18,
          335,
          16,
          4,
          5,
          5,
          47,
          108,
          1,
          117,
          1,
          3,
          12,
          27,
          3,
          1,
          1,
          25,
          7,
          45,
          34,
          83,
          17,
          4,
          5,
          2,
          2,
          8,
          10,
          23,
          30,
          77,
          1,
          5,
          6,
          32,
          9,
          130,
          67,
          8,
          19,
          17,
          3,
          33,
          7,
          58,
          32,
          6,
          11,
          25,
          2,
          130,
          29,
          6,
          20,
          11,
          42,
          1,
          10,
          7,
          12,
          74,
          10,
          45,
          39,
          4,
          1,
          28,
          26,
          69,
          21,
          3,
          13,
          68,
          92,
          35,
          8,
          2,
          4,
          138,
          27,
          3,
          17,
          32,
          1,
          17,
          1,
          8,
          1,
          2,
          89,
          6,
          58,
          35,
          45,
          3,
          102,
          99,
          48,
          22,
          7,
          33,
          3,
          15,
          216,
          2,
          88,
          40,
          1,
          16,
          1,
          16,
          19,
          1,
          99,
          25,
          13,
          101,
          7,
          15,
          10,
          158,
          8,
          16,
          8,
          44,
          4,
          12,
          38,
          37,
          98,
          51,
          9,
          19,
          1,
          5,
          32,
          430,
          2,
          64,
          80,
          5,
          176,
          20,
          96,
          21,
          65,
          22,
          2,
          1,
          28,
          17,
          82,
          1,
          24,
          20,
          108,
          2,
          8,
          9,
          9,
          34,
          22,
          51,
          7,
          27,
          11,
          4,
          10,
          20,
          195,
          12,
          293,
          5,
          37,
          30,
          13,
          1,
          17,
          1,
          46,
          18,
          70,
          310,
          51,
          6,
          11,
          18,
          1,
          1,
          11,
          39,
          100,
          2,
          4,
          48,
          2,
          11,
          12,
          91,
          17,
          58,
          6,
          2,
          1,
          1,
          58,
          50,
          155,
          18,
          26,
          20,
          1,
          8,
          2,
          22,
          111,
          27,
          23,
          4,
          9,
          156,
          5,
          26,
          10,
          18,
          1,
          4,
          12,
          6,
          9,
          5,
          30,
          7,
          73,
          54,
          5,
          12,
          36,
          131,
          16,
          15,
          1,
          5,
          124,
          2,
          11,
          18,
          247,
          20,
          107,
          1,
          13,
          31,
          26,
          34,
          3,
          20,
          69,
          31,
          155,
          17,
          21,
          8,
          30,
          14,
          21,
          61,
          12,
          34,
          302,
          11,
          106,
          4,
          8,
          326,
          26,
          21,
          1,
          12,
          45,
          22,
          1,
          237,
          59,
          53,
          12,
          77,
          7,
          2,
          22,
          155,
          7,
          5,
          28,
          136,
          24,
          4,
          31,
          3,
          29,
          10,
          115,
          29,
          15,
          6,
          3,
          4,
          4,
          128,
          4,
          86,
          2,
          1,
          5,
          20,
          7,
          7,
          6,
          114,
          23,
          2,
          4,
          8,
          52,
          1,
          6,
          1,
          44,
          10,
          68,
          23,
          2,
          5,
          4,
          8,
          14,
          110,
          12,
          3,
          3,
          1,
          158,
          6,
          28,
          2,
          8,
          19,
          4,
          4,
          1,
          25,
          56,
          20,
          1,
          630,
          56,
          13,
          22,
          34,
          6,
          1,
          25,
          121,
          1,
          87,
          95,
          8,
          21,
          73,
          43,
          9,
          43,
          10,
          58,
          2,
          5,
          16,
          11,
          28,
          2,
          22,
          27,
          39,
          8,
          29,
          18,
          6,
          15,
          2,
          272,
          11,
          56,
          31,
          17,
          2,
          26,
          37,
          134,
          74,
          42,
          3,
          4,
          6,
          1,
          16,
          1,
          5,
          6,
          6,
          1,
          50,
          89,
          56,
          32,
          21,
          66,
          80,
          158,
          6,
          22,
          2,
          50,
          4,
          33,
          41,
          6,
          14,
          1,
          27,
          36,
          52,
          40,
          25,
          39,
          6,
          17,
          146,
          5,
          15,
          1,
          22,
          21,
          2,
          3,
          24,
          105,
          27,
          56,
          3,
          37,
          214,
          1,
          23,
          64,
          8,
          165,
          43,
          1,
          36,
          2,
          11,
          9,
          58,
          5,
          32,
          10,
          62,
          111,
          10,
          3,
          8,
          17,
          57,
          1,
          94,
          12,
          25,
          4,
          148,
          243,
          30,
          40,
          27,
          30,
          9,
          1,
          14,
          44,
          2,
          20,
          2,
          30,
          1,
          12,
          2,
          52,
          1,
          2,
          34,
          5,
          18,
          26,
          4,
          1,
          22,
          1,
          2,
          50,
          93,
          5,
          20,
          1,
          1,
          17,
          10,
          112,
          3,
          29,
          7,
          12,
          2,
          15,
          41,
          11,
          1,
          12,
          21,
          12,
          21,
          13,
          12,
          12,
          1,
          5,
          13,
          20,
          516,
          38,
          7,
          213,
          2,
          24,
          1,
          51,
          6,
          80,
          52,
          39,
          25,
          24,
          31,
          1,
          42,
          49,
          96,
          42,
          1,
          2,
          20,
          43,
          233,
          20,
          9,
          99,
          6,
          1,
          19,
          188,
          48,
          1,
          34,
          5,
          32,
          66,
          14,
          115,
          85,
          30,
          37,
          237,
          63,
          12,
          4,
          19,
          69,
          7,
          36,
          49,
          23,
          24,
          76,
          8,
          9,
          22,
          5,
          45,
          16,
          39,
          20,
          4,
          33,
          32,
          30,
          23,
          12,
          26,
          21,
          86,
          9,
          18,
          15,
          60,
          15,
          46,
          43,
          8,
          97,
          307,
          40,
          52,
          1,
          11,
          18,
          1,
          10,
          1,
          2,
          8,
          123,
          4,
          5,
          423,
          75,
          11,
          16,
          1,
          17,
          69,
          152,
          2,
          13,
          12,
          132,
          12,
          35,
          3,
          36,
          2,
          52,
          4,
          161,
          1,
          20,
          19,
          41,
          37,
          2,
          7,
          9,
          44,
          2,
          41,
          10,
          2,
          7,
          67,
          7,
          100,
          145,
          165,
          47,
          2,
          1,
          5,
          2,
          6,
          10,
          2,
          100,
          51,
          10,
          142,
          116,
          293,
          6,
          31,
          17,
          74,
          85,
          14,
          12,
          14,
          18,
          158,
          26,
          18,
          2,
          28,
          19,
          59,
          19,
          7,
          2,
          37,
          104,
          20,
          2,
          28,
          93,
          330,
          26,
          26,
          1,
          28,
          6,
          15,
          113,
          34,
          5,
          43,
          94,
          2,
          5,
          2,
          2,
          16,
          32,
          82,
          1,
          2,
          5,
          19,
          3,
          86,
          14,
          54,
          262,
          6,
          55,
          34,
          552,
          13,
          11,
          17,
          20,
          6,
          6,
          43,
          2,
          2,
          2,
          44,
          97,
          22,
          26,
          8,
          20,
          29,
          5,
          58,
          68,
          44,
          3,
          2,
          21,
          2,
          42,
          3,
          100,
          12,
          148,
          8,
          84,
          8,
          9,
          2,
          65,
          17,
          20,
          10,
          2,
          5,
          26,
          5,
          35,
          34,
          39,
          2,
          21,
          17,
          27,
          1,
          2,
          18,
          7,
          10,
          37,
          6,
          86,
          76,
          43,
          2,
          22,
          16,
          14,
          56,
          7,
          53,
          5,
          4,
          24,
          3,
          3,
          85,
          3,
          68,
          26,
          77,
          196,
          3,
          77,
          35,
          1,
          8,
          2,
          34,
          21,
          1,
          1,
          20,
          4,
          17,
          26,
          15,
          123,
          60,
          31,
          33,
          155,
          12,
          9,
          1,
          26,
          10,
          207,
          34,
          6,
          25,
          68,
          17,
          68,
          105,
          73,
          17,
          9,
          22,
          41,
          32,
          1,
          1,
          19,
          50,
          49,
          44,
          170,
          23,
          2,
          6,
          9,
          262,
          97,
          2,
          11,
          55,
          14,
          1,
          58,
          1,
          46,
          35,
          1,
          4,
          21,
          1,
          9,
          30,
          5,
          143,
          130,
          141,
          69,
          45,
          51,
          2,
          5,
          3,
          4,
          67,
          6,
          27,
          177,
          33,
          33,
          209,
          69,
          6,
          1,
          2,
          100,
          14,
          25,
          4,
          30,
          186,
          22,
          12,
          21,
          299,
          22,
          14,
          40,
          2,
          39,
          937,
          8,
          65,
          61,
          47,
          21,
          24,
          11,
          19,
          89,
          33,
          90,
          20,
          60,
          16,
          22,
          7,
          38,
          67,
          5,
          23,
          2,
          7,
          39,
          5,
          24,
          24,
          3,
          7,
          21,
          33,
          1,
          480,
          3,
          2,
          15,
          107,
          46,
          18,
          17,
          1,
          5,
          19,
          17,
          1,
          76,
          250,
          1,
          55,
          13,
          2,
          2,
          4,
          66,
          41,
          30,
          119,
          68,
          34,
          6,
          3,
          1,
          65,
          63,
          1,
          28,
          223,
          23,
          54,
          5,
          17,
          2,
          1,
          11,
          63,
          2,
          87,
          2,
          35,
          11,
          12,
          162,
          24,
          5,
          5,
          3,
          28,
          21,
          20,
          1,
          24,
          16,
          94,
          11,
          16,
          1,
          42,
          38,
          215,
          87,
          7,
          1,
          3,
          31,
          3,
          7,
          4,
          6,
          10,
          10,
          21,
          1,
          24,
          12,
          2,
          163,
          12,
          45,
          62,
          9,
          160,
          6,
          66,
          2,
          27,
          5,
          2,
          107,
          8,
          27,
          10,
          35,
          38,
          11,
          31,
          14,
          73,
          36,
          23,
          27,
          90,
          8,
          59,
          6,
          2,
          16,
          22,
          46,
          64,
          28,
          4,
          15,
          11,
          219,
          30,
          44,
          36,
          18,
          54,
          2,
          1,
          2,
          43,
          14,
          22,
          4,
          62,
          11,
          2,
          14,
          237,
          104,
          13,
          1,
          45,
          1,
          20,
          2,
          5,
          85,
          73,
          16,
          5,
          1,
          153,
          27,
          3,
          69,
          16,
          68,
          8,
          37,
          40,
          1,
          2,
          11,
          21,
          126,
          8,
          4,
          1,
          13,
          10,
          2,
          1,
          66,
          14,
          65,
          1,
          17,
          74,
          37,
          32,
          40,
          153,
          27,
          15,
          2,
          15,
          99,
          38,
          33,
          95,
          12,
          8,
          68,
          19,
          149,
          8,
          6,
          3,
          81,
          15,
          45,
          5,
          3,
          232,
          20,
          121,
          43,
          3,
          240,
          6,
          24,
          13,
          40,
          1,
          20,
          28,
          25,
          20,
          10,
          18,
          5,
          1,
          5,
          38,
          34,
          1,
          193,
          4,
          5,
          27,
          68,
          1,
          24,
          46,
          84,
          8,
          67,
          23,
          28,
          15,
          1,
          16,
          79,
          3,
          16,
          5,
          24,
          2,
          15,
          4,
          1,
          44,
          30,
          234,
          64,
          6,
          614,
          10,
          11,
          27,
          116,
          469,
          2,
          9,
          2,
          21,
          2,
          5,
          16,
          21,
          57,
          12,
          4,
          5,
          49,
          41,
          24,
          8,
          10,
          17,
          52,
          61,
          18,
          1,
          9,
          51,
          106,
          1,
          392,
          4,
          12,
          68,
          5,
          5,
          103,
          31,
          4,
          55,
          32,
          266,
          1,
          21,
          9,
          3,
          32,
          16,
          27,
          32,
          18,
          65,
          15,
          1,
          1,
          960,
          7,
          4,
          25,
          1,
          296,
          2,
          2,
          151,
          9,
          1,
          3,
          28,
          209,
          18,
          140,
          3,
          5,
          46,
          1,
          1,
          95,
          20,
          13,
          25,
          132,
          4,
          1,
          131,
          7,
          3,
          74,
          12,
          5,
          17,
          52,
          502,
          8,
          21,
          20,
          4,
          4,
          48,
          8,
          13,
          12,
          6,
          42,
          32,
          14,
          5,
          24,
          291,
          22,
          22,
          7,
          4,
          1,
          9,
          8,
          195,
          27,
          29,
          29,
          51,
          2,
          2,
          82,
          767,
          67,
          76,
          2,
          4,
          7,
          128,
          329,
          26,
          35,
          17,
          1,
          148,
          29,
          73,
          51,
          26,
          58,
          19,
          1,
          1,
          2,
          1,
          37,
          206,
          45,
          433,
          6,
          6,
          7,
          2,
          18,
          52,
          44,
          36,
          15,
          3,
          97,
          15,
          2,
          3,
          1,
          43,
          84,
          159,
          80,
          13,
          21,
          486,
          1,
          3,
          130,
          50,
          36,
          21,
          1,
          2,
          2,
          13,
          26,
          89,
          25,
          2,
          26,
          12,
          31,
          207,
          2,
          50,
          3,
          13,
          38,
          129,
          3,
          1,
          31,
          7,
          1,
          17,
          7,
          14,
          55,
          3,
          44,
          5,
          205,
          7,
          8,
          37,
          49,
          1,
          9,
          20,
          36,
          6,
          98,
          1,
          19,
          25,
          215,
          2,
          23,
          9,
          11,
          21,
          2,
          19,
          2,
          5,
          3,
          126,
          9,
          3,
          23,
          23,
          30,
          6,
          23,
          10,
          2,
          12,
          1,
          8,
          9,
          26,
          1,
          138,
          32,
          2,
          29,
          1,
          29,
          19,
          130,
          42,
          39,
          13,
          333,
          4,
          164,
          17,
          6,
          55,
          5,
          16,
          5,
          1,
          76,
          6,
          21,
          62,
          2,
          3,
          2,
          2,
          25,
          1,
          1,
          4,
          182,
          15,
          5,
          27,
          27,
          1,
          3,
          54,
          1,
          52,
          36,
          2,
          6,
          16,
          11,
          12,
          108,
          1,
          96,
          60,
          5,
          27,
          33,
          33,
          10,
          25,
          3,
          2,
          14,
          20,
          101,
          44,
          33,
          21,
          4,
          37,
          2,
          251,
          149,
          15,
          39,
          6,
          21,
          2,
          12,
          25,
          1,
          3,
          22,
          14,
          21,
          116,
          28,
          1,
          2,
          2,
          44,
          168,
          4,
          18,
          20,
          19,
          14,
          29,
          3,
          1,
          73,
          57,
          12,
          12,
          2,
          133,
          32,
          77,
          29,
          51,
          21,
          61,
          1,
          29,
          57,
          12,
          16,
          33,
          88,
          17,
          1,
          166,
          12,
          4,
          1,
          198,
          6,
          22,
          3,
          1,
          3,
          73,
          2,
          2,
          7,
          14,
          25,
          57,
          28,
          3,
          21,
          20,
          14,
          8,
          26,
          7,
          34,
          152,
          52,
          27,
          15,
          1,
          44,
          35,
          7,
          43,
          18,
          15,
          1,
          86,
          16,
          129,
          39,
          4,
          16,
          4,
          57,
          3,
          23,
          2,
          31,
          84,
          30,
          32,
          44,
          5,
          8,
          21,
          21,
          3,
          7,
          78,
          37,
          18,
          17,
          3,
          8,
          19,
          1,
          122,
          11,
          156,
          101,
          5,
          36,
          295,
          17,
          38,
          1,
          1,
          11,
          16,
          13,
          4,
          15,
          2,
          2,
          20,
          2,
          64,
          27,
          105,
          21,
          61,
          145,
          2,
          5,
          20,
          91,
          20,
          48,
          1,
          304,
          92,
          31,
          76,
          28,
          4,
          94,
          33,
          11,
          70,
          26,
          22,
          135,
          19,
          44,
          35,
          252,
          1,
          28,
          19,
          96,
          2,
          108,
          20,
          13,
          7,
          82,
          56,
          33,
          29,
          39,
          31,
          3,
          4,
          39,
          15,
          11,
          5,
          9,
          1,
          21,
          45,
          17,
          7,
          37,
          13,
          46,
          16,
          8,
          50,
          3,
          5,
          24,
          23,
          51,
          15,
          50,
          14,
          29,
          1,
          1,
          15,
          39,
          55,
          5,
          6,
          50,
          21,
          29,
          6,
          16,
          10
         ],
         "xaxis": "x",
         "yaxis": "y"
        }
       ],
       "layout": {
        "barmode": "relative",
        "legend": {
         "title": {
          "text": "variable"
         },
         "tracegroupgap": 0
        },
        "template": {
         "data": {
          "bar": [
           {
            "error_x": {
             "color": "#2a3f5f"
            },
            "error_y": {
             "color": "#2a3f5f"
            },
            "marker": {
             "line": {
              "color": "#E5ECF6",
              "width": 0.5
             },
             "pattern": {
              "fillmode": "overlay",
              "size": 10,
              "solidity": 0.2
             }
            },
            "type": "bar"
           }
          ],
          "barpolar": [
           {
            "marker": {
             "line": {
              "color": "#E5ECF6",
              "width": 0.5
             },
             "pattern": {
              "fillmode": "overlay",
              "size": 10,
              "solidity": 0.2
             }
            },
            "type": "barpolar"
           }
          ],
          "carpet": [
           {
            "aaxis": {
             "endlinecolor": "#2a3f5f",
             "gridcolor": "white",
             "linecolor": "white",
             "minorgridcolor": "white",
             "startlinecolor": "#2a3f5f"
            },
            "baxis": {
             "endlinecolor": "#2a3f5f",
             "gridcolor": "white",
             "linecolor": "white",
             "minorgridcolor": "white",
             "startlinecolor": "#2a3f5f"
            },
            "type": "carpet"
           }
          ],
          "choropleth": [
           {
            "colorbar": {
             "outlinewidth": 0,
             "ticks": ""
            },
            "type": "choropleth"
           }
          ],
          "contour": [
           {
            "colorbar": {
             "outlinewidth": 0,
             "ticks": ""
            },
            "colorscale": [
             [
              0,
              "#0d0887"
             ],
             [
              0.1111111111111111,
              "#46039f"
             ],
             [
              0.2222222222222222,
              "#7201a8"
             ],
             [
              0.3333333333333333,
              "#9c179e"
             ],
             [
              0.4444444444444444,
              "#bd3786"
             ],
             [
              0.5555555555555556,
              "#d8576b"
             ],
             [
              0.6666666666666666,
              "#ed7953"
             ],
             [
              0.7777777777777778,
              "#fb9f3a"
             ],
             [
              0.8888888888888888,
              "#fdca26"
             ],
             [
              1,
              "#f0f921"
             ]
            ],
            "type": "contour"
           }
          ],
          "contourcarpet": [
           {
            "colorbar": {
             "outlinewidth": 0,
             "ticks": ""
            },
            "type": "contourcarpet"
           }
          ],
          "heatmap": [
           {
            "colorbar": {
             "outlinewidth": 0,
             "ticks": ""
            },
            "colorscale": [
             [
              0,
              "#0d0887"
             ],
             [
              0.1111111111111111,
              "#46039f"
             ],
             [
              0.2222222222222222,
              "#7201a8"
             ],
             [
              0.3333333333333333,
              "#9c179e"
             ],
             [
              0.4444444444444444,
              "#bd3786"
             ],
             [
              0.5555555555555556,
              "#d8576b"
             ],
             [
              0.6666666666666666,
              "#ed7953"
             ],
             [
              0.7777777777777778,
              "#fb9f3a"
             ],
             [
              0.8888888888888888,
              "#fdca26"
             ],
             [
              1,
              "#f0f921"
             ]
            ],
            "type": "heatmap"
           }
          ],
          "heatmapgl": [
           {
            "colorbar": {
             "outlinewidth": 0,
             "ticks": ""
            },
            "colorscale": [
             [
              0,
              "#0d0887"
             ],
             [
              0.1111111111111111,
              "#46039f"
             ],
             [
              0.2222222222222222,
              "#7201a8"
             ],
             [
              0.3333333333333333,
              "#9c179e"
             ],
             [
              0.4444444444444444,
              "#bd3786"
             ],
             [
              0.5555555555555556,
              "#d8576b"
             ],
             [
              0.6666666666666666,
              "#ed7953"
             ],
             [
              0.7777777777777778,
              "#fb9f3a"
             ],
             [
              0.8888888888888888,
              "#fdca26"
             ],
             [
              1,
              "#f0f921"
             ]
            ],
            "type": "heatmapgl"
           }
          ],
          "histogram": [
           {
            "marker": {
             "pattern": {
              "fillmode": "overlay",
              "size": 10,
              "solidity": 0.2
             }
            },
            "type": "histogram"
           }
          ],
          "histogram2d": [
           {
            "colorbar": {
             "outlinewidth": 0,
             "ticks": ""
            },
            "colorscale": [
             [
              0,
              "#0d0887"
             ],
             [
              0.1111111111111111,
              "#46039f"
             ],
             [
              0.2222222222222222,
              "#7201a8"
             ],
             [
              0.3333333333333333,
              "#9c179e"
             ],
             [
              0.4444444444444444,
              "#bd3786"
             ],
             [
              0.5555555555555556,
              "#d8576b"
             ],
             [
              0.6666666666666666,
              "#ed7953"
             ],
             [
              0.7777777777777778,
              "#fb9f3a"
             ],
             [
              0.8888888888888888,
              "#fdca26"
             ],
             [
              1,
              "#f0f921"
             ]
            ],
            "type": "histogram2d"
           }
          ],
          "histogram2dcontour": [
           {
            "colorbar": {
             "outlinewidth": 0,
             "ticks": ""
            },
            "colorscale": [
             [
              0,
              "#0d0887"
             ],
             [
              0.1111111111111111,
              "#46039f"
             ],
             [
              0.2222222222222222,
              "#7201a8"
             ],
             [
              0.3333333333333333,
              "#9c179e"
             ],
             [
              0.4444444444444444,
              "#bd3786"
             ],
             [
              0.5555555555555556,
              "#d8576b"
             ],
             [
              0.6666666666666666,
              "#ed7953"
             ],
             [
              0.7777777777777778,
              "#fb9f3a"
             ],
             [
              0.8888888888888888,
              "#fdca26"
             ],
             [
              1,
              "#f0f921"
             ]
            ],
            "type": "histogram2dcontour"
           }
          ],
          "mesh3d": [
           {
            "colorbar": {
             "outlinewidth": 0,
             "ticks": ""
            },
            "type": "mesh3d"
           }
          ],
          "parcoords": [
           {
            "line": {
             "colorbar": {
              "outlinewidth": 0,
              "ticks": ""
             }
            },
            "type": "parcoords"
           }
          ],
          "pie": [
           {
            "automargin": true,
            "type": "pie"
           }
          ],
          "scatter": [
           {
            "marker": {
             "colorbar": {
              "outlinewidth": 0,
              "ticks": ""
             }
            },
            "type": "scatter"
           }
          ],
          "scatter3d": [
           {
            "line": {
             "colorbar": {
              "outlinewidth": 0,
              "ticks": ""
             }
            },
            "marker": {
             "colorbar": {
              "outlinewidth": 0,
              "ticks": ""
             }
            },
            "type": "scatter3d"
           }
          ],
          "scattercarpet": [
           {
            "marker": {
             "colorbar": {
              "outlinewidth": 0,
              "ticks": ""
             }
            },
            "type": "scattercarpet"
           }
          ],
          "scattergeo": [
           {
            "marker": {
             "colorbar": {
              "outlinewidth": 0,
              "ticks": ""
             }
            },
            "type": "scattergeo"
           }
          ],
          "scattergl": [
           {
            "marker": {
             "colorbar": {
              "outlinewidth": 0,
              "ticks": ""
             }
            },
            "type": "scattergl"
           }
          ],
          "scattermapbox": [
           {
            "marker": {
             "colorbar": {
              "outlinewidth": 0,
              "ticks": ""
             }
            },
            "type": "scattermapbox"
           }
          ],
          "scatterpolar": [
           {
            "marker": {
             "colorbar": {
              "outlinewidth": 0,
              "ticks": ""
             }
            },
            "type": "scatterpolar"
           }
          ],
          "scatterpolargl": [
           {
            "marker": {
             "colorbar": {
              "outlinewidth": 0,
              "ticks": ""
             }
            },
            "type": "scatterpolargl"
           }
          ],
          "scatterternary": [
           {
            "marker": {
             "colorbar": {
              "outlinewidth": 0,
              "ticks": ""
             }
            },
            "type": "scatterternary"
           }
          ],
          "surface": [
           {
            "colorbar": {
             "outlinewidth": 0,
             "ticks": ""
            },
            "colorscale": [
             [
              0,
              "#0d0887"
             ],
             [
              0.1111111111111111,
              "#46039f"
             ],
             [
              0.2222222222222222,
              "#7201a8"
             ],
             [
              0.3333333333333333,
              "#9c179e"
             ],
             [
              0.4444444444444444,
              "#bd3786"
             ],
             [
              0.5555555555555556,
              "#d8576b"
             ],
             [
              0.6666666666666666,
              "#ed7953"
             ],
             [
              0.7777777777777778,
              "#fb9f3a"
             ],
             [
              0.8888888888888888,
              "#fdca26"
             ],
             [
              1,
              "#f0f921"
             ]
            ],
            "type": "surface"
           }
          ],
          "table": [
           {
            "cells": {
             "fill": {
              "color": "#EBF0F8"
             },
             "line": {
              "color": "white"
             }
            },
            "header": {
             "fill": {
              "color": "#C8D4E3"
             },
             "line": {
              "color": "white"
             }
            },
            "type": "table"
           }
          ]
         },
         "layout": {
          "annotationdefaults": {
           "arrowcolor": "#2a3f5f",
           "arrowhead": 0,
           "arrowwidth": 1
          },
          "autotypenumbers": "strict",
          "coloraxis": {
           "colorbar": {
            "outlinewidth": 0,
            "ticks": ""
           }
          },
          "colorscale": {
           "diverging": [
            [
             0,
             "#8e0152"
            ],
            [
             0.1,
             "#c51b7d"
            ],
            [
             0.2,
             "#de77ae"
            ],
            [
             0.3,
             "#f1b6da"
            ],
            [
             0.4,
             "#fde0ef"
            ],
            [
             0.5,
             "#f7f7f7"
            ],
            [
             0.6,
             "#e6f5d0"
            ],
            [
             0.7,
             "#b8e186"
            ],
            [
             0.8,
             "#7fbc41"
            ],
            [
             0.9,
             "#4d9221"
            ],
            [
             1,
             "#276419"
            ]
           ],
           "sequential": [
            [
             0,
             "#0d0887"
            ],
            [
             0.1111111111111111,
             "#46039f"
            ],
            [
             0.2222222222222222,
             "#7201a8"
            ],
            [
             0.3333333333333333,
             "#9c179e"
            ],
            [
             0.4444444444444444,
             "#bd3786"
            ],
            [
             0.5555555555555556,
             "#d8576b"
            ],
            [
             0.6666666666666666,
             "#ed7953"
            ],
            [
             0.7777777777777778,
             "#fb9f3a"
            ],
            [
             0.8888888888888888,
             "#fdca26"
            ],
            [
             1,
             "#f0f921"
            ]
           ],
           "sequentialminus": [
            [
             0,
             "#0d0887"
            ],
            [
             0.1111111111111111,
             "#46039f"
            ],
            [
             0.2222222222222222,
             "#7201a8"
            ],
            [
             0.3333333333333333,
             "#9c179e"
            ],
            [
             0.4444444444444444,
             "#bd3786"
            ],
            [
             0.5555555555555556,
             "#d8576b"
            ],
            [
             0.6666666666666666,
             "#ed7953"
            ],
            [
             0.7777777777777778,
             "#fb9f3a"
            ],
            [
             0.8888888888888888,
             "#fdca26"
            ],
            [
             1,
             "#f0f921"
            ]
           ]
          },
          "colorway": [
           "#636efa",
           "#EF553B",
           "#00cc96",
           "#ab63fa",
           "#FFA15A",
           "#19d3f3",
           "#FF6692",
           "#B6E880",
           "#FF97FF",
           "#FECB52"
          ],
          "font": {
           "color": "#2a3f5f"
          },
          "geo": {
           "bgcolor": "white",
           "lakecolor": "white",
           "landcolor": "#E5ECF6",
           "showlakes": true,
           "showland": true,
           "subunitcolor": "white"
          },
          "hoverlabel": {
           "align": "left"
          },
          "hovermode": "closest",
          "mapbox": {
           "style": "light"
          },
          "paper_bgcolor": "white",
          "plot_bgcolor": "#E5ECF6",
          "polar": {
           "angularaxis": {
            "gridcolor": "white",
            "linecolor": "white",
            "ticks": ""
           },
           "bgcolor": "#E5ECF6",
           "radialaxis": {
            "gridcolor": "white",
            "linecolor": "white",
            "ticks": ""
           }
          },
          "scene": {
           "xaxis": {
            "backgroundcolor": "#E5ECF6",
            "gridcolor": "white",
            "gridwidth": 2,
            "linecolor": "white",
            "showbackground": true,
            "ticks": "",
            "zerolinecolor": "white"
           },
           "yaxis": {
            "backgroundcolor": "#E5ECF6",
            "gridcolor": "white",
            "gridwidth": 2,
            "linecolor": "white",
            "showbackground": true,
            "ticks": "",
            "zerolinecolor": "white"
           },
           "zaxis": {
            "backgroundcolor": "#E5ECF6",
            "gridcolor": "white",
            "gridwidth": 2,
            "linecolor": "white",
            "showbackground": true,
            "ticks": "",
            "zerolinecolor": "white"
           }
          },
          "shapedefaults": {
           "line": {
            "color": "#2a3f5f"
           }
          },
          "ternary": {
           "aaxis": {
            "gridcolor": "white",
            "linecolor": "white",
            "ticks": ""
           },
           "baxis": {
            "gridcolor": "white",
            "linecolor": "white",
            "ticks": ""
           },
           "bgcolor": "#E5ECF6",
           "caxis": {
            "gridcolor": "white",
            "linecolor": "white",
            "ticks": ""
           }
          },
          "title": {
           "x": 0.05
          },
          "xaxis": {
           "automargin": true,
           "gridcolor": "white",
           "linecolor": "white",
           "ticks": "",
           "title": {
            "standoff": 15
           },
           "zerolinecolor": "white",
           "zerolinewidth": 2
          },
          "yaxis": {
           "automargin": true,
           "gridcolor": "white",
           "linecolor": "white",
           "ticks": "",
           "title": {
            "standoff": 15
           },
           "zerolinecolor": "white",
           "zerolinewidth": 2
          }
         }
        },
        "title": {
         "text": "Cumulative histogram of the review lengths (in number of words)"
        },
        "xaxis": {
         "anchor": "y",
         "domain": [
          0,
          1
         ],
         "title": {
          "text": "value"
         }
        },
        "yaxis": {
         "anchor": "x",
         "domain": [
          0,
          1
         ],
         "title": {
          "text": "probability density"
         }
        }
       }
      }
     },
     "metadata": {},
     "output_type": "display_data"
    }
   ],
   "source": [
    "import plotly.express as px\n",
    "\n",
    "px.histogram(\n",
    "    data_frame={\"review_length\": [len(review[0].split(\" \")) for review in X_train]},\n",
    "    cumulative=True,\n",
    "    histnorm=\"probability density\",\n",
    "    title=\"Cumulative histogram of the review lengths (in number of words)\"\n",
    ")\n"
   ]
  },
  {
   "cell_type": "markdown",
   "metadata": {},
   "source": [
    "We simply spitted the reviews by white space, which is a simple, basic approach, but yet informative. The plot above tells us that in order to get $95\\%$ of the reviews that are non-truncated, we could consider the `max_len` parameter to be 150."
   ]
  },
  {
   "cell_type": "code",
   "execution_count": 8,
   "metadata": {
    "ExecuteTime": {
     "end_time": "2022-02-07T18:10:07.818887Z",
     "start_time": "2022-02-07T18:10:07.808634Z"
    },
    "colab": {
     "base_uri": "https://localhost:8080/"
    },
    "id": "B4BPv2OGoUqO",
    "outputId": "4cbf391a-81b9-447d-a0af-d6b469f85e2b"
   },
   "outputs": [],
   "source": [
    "# Constants\n",
    "nb_classes = y_train.shape[1]\n",
    "vocab_size = 10 ** 4  # Maximum vocab size -- adjust with the size of the vocabulary\n",
    "embedding_size = 20  # Embedding size (usually <= 300)\n",
    "recurrent_size = 64  # Recurrent size\n",
    "hidden_size = recurrent_size // 4  # Hidden layer\n",
    "dropout_rate = 0.2  # Dropout rate for regularization (usually between 0.1 and 0.25)\n",
    "max_len = 150  # Sequence length to pad the outputs to (deduced from the length distribution study)\n",
    "learning_rate = 0.0075\n"
   ]
  },
  {
   "cell_type": "code",
   "execution_count": 9,
   "metadata": {
    "ExecuteTime": {
     "end_time": "2022-02-07T18:10:07.870187Z",
     "start_time": "2022-02-07T18:10:07.822260Z"
    },
    "colab": {
     "base_uri": "https://localhost:8080/"
    },
    "id": "C7oN2bZkoUqP",
    "outputId": "8d7d5b26-b925-4e79-ad97-7aecd8980243"
   },
   "outputs": [
    {
     "name": "stderr",
     "output_type": "stream",
     "text": [
      "2022-02-10 11:41:07.337030: I tensorflow/stream_executor/cuda/cuda_gpu_executor.cc:939] successful NUMA node read from SysFS had negative value (-1), but there must be at least one NUMA node, so returning NUMA node zero\n",
      "2022-02-10 11:41:07.374295: W tensorflow/stream_executor/platform/default/dso_loader.cc:64] Could not load dynamic library 'libcudnn.so.8'; dlerror: libcudnn.so.8: cannot open shared object file: No such file or directory\n",
      "2022-02-10 11:41:07.374317: W tensorflow/core/common_runtime/gpu/gpu_device.cc:1850] Cannot dlopen some GPU libraries. Please make sure the missing libraries mentioned above are installed properly if you would like to use GPU. Follow the guide at https://www.tensorflow.org/install/gpu for how to download and setup the required libraries for your platform.\n",
      "Skipping registering GPU devices...\n",
      "2022-02-10 11:41:07.374938: I tensorflow/core/platform/cpu_feature_guard.cc:151] This TensorFlow binary is optimized with oneAPI Deep Neural Network Library (oneDNN) to use the following CPU instructions in performance-critical operations:  AVX2 FMA\n",
      "To enable them in other operations, rebuild TensorFlow with the appropriate compiler flags.\n"
     ]
    }
   ],
   "source": [
    "# Create the vectorized layer.\n",
    "vectorize_layer = TextVectorization(\n",
    "    max_tokens=vocab_size,\n",
    "    standardize=\"lower_and_strip_punctuation\",\n",
    "    # it is possible to build your own function\n",
    "    # to transform emoji into text\n",
    "    # to transform foreign reviews in english one\n",
    "    # etc.\n",
    "    output_mode=\"int\",\n",
    "    output_sequence_length=max_len,\n",
    ")\n"
   ]
  },
  {
   "cell_type": "code",
   "execution_count": 10,
   "metadata": {
    "ExecuteTime": {
     "end_time": "2022-02-07T18:10:08.397950Z",
     "start_time": "2022-02-07T18:10:07.872995Z"
    },
    "colab": {
     "base_uri": "https://localhost:8080/"
    },
    "id": "1XWqf1QKoUqQ",
    "outputId": "3c73908b-3066-4c32-92f8-df458dc7f8cb"
   },
   "outputs": [],
   "source": [
    "# Fit vectorized layer on train\n",
    "vectorize_layer.adapt(X_train)\n"
   ]
  },
  {
   "cell_type": "code",
   "execution_count": 11,
   "metadata": {
    "ExecuteTime": {
     "end_time": "2022-02-07T18:10:08.649942Z",
     "start_time": "2022-02-07T18:10:08.399942Z"
    }
   },
   "outputs": [],
   "source": [
    "# Define the network\n",
    "def build_model():\n",
    "    input_ = Input(shape=(1,), dtype=tf.string)\n",
    "    x = vectorize_layer(input_)\n",
    "    x = Embedding(vocab_size, embedding_size, name=\"Embedding\")(x)\n",
    "    x = Bidirectional(\n",
    "        LSTM(\n",
    "            recurrent_size,\n",
    "            return_sequences=False,\n",
    "            dropout=dropout_rate,\n",
    "            recurrent_dropout=dropout_rate,\n",
    "        )\n",
    "    )(x)\n",
    "    x = Dense(hidden_size, activation=\"relu\")(x)\n",
    "    x = Dropout(dropout_rate)(x)\n",
    "    output_ = Dense(nb_classes, activation=\"softmax\", dtype=tf.float64)(x)\n",
    "    model = Model(input_, output_)\n",
    "    return model\n",
    "\n",
    "\n",
    "model = build_model()\n"
   ]
  },
  {
   "cell_type": "code",
   "execution_count": 13,
   "metadata": {
    "ExecuteTime": {
     "end_time": "2022-02-07T18:10:08.685404Z",
     "start_time": "2022-02-07T18:10:08.656623Z"
    }
   },
   "outputs": [
    {
     "name": "stdout",
     "output_type": "stream",
     "text": [
      "Model: \"model\"\n",
      "_________________________________________________________________\n",
      " Layer (type)                Output Shape              Param #   \n",
      "=================================================================\n",
      " input_1 (InputLayer)        [(None, 1)]               0         \n",
      "                                                                 \n",
      " text_vectorization (TextVec  (None, 150)              0         \n",
      " torization)                                                     \n",
      "                                                                 \n",
      " Embedding (Embedding)       (None, 150, 20)           200000    \n",
      "                                                                 \n",
      " bidirectional (Bidirectiona  (None, 128)              43520     \n",
      " l)                                                              \n",
      "                                                                 \n",
      " dense (Dense)               (None, 16)                2064      \n",
      "                                                                 \n",
      " dropout (Dropout)           (None, 16)                0         \n",
      "                                                                 \n",
      " dense_1 (Dense)             (None, 5)                 85        \n",
      "                                                                 \n",
      "=================================================================\n",
      "Total params: 245,669\n",
      "Trainable params: 245,669\n",
      "Non-trainable params: 0\n",
      "_________________________________________________________________\n"
     ]
    }
   ],
   "source": [
    "# summarize the model\n",
    "model.summary()\n"
   ]
  },
  {
   "cell_type": "code",
   "execution_count": 14,
   "metadata": {
    "ExecuteTime": {
     "end_time": "2022-02-07T18:10:09.870579Z",
     "start_time": "2022-02-07T18:10:08.690860Z"
    }
   },
   "outputs": [
    {
     "data": {
      "image/png": "[encoded data removed]",
      "text/plain": [
       "<IPython.core.display.Image object>"
      ]
     },
     "execution_count": 14,
     "metadata": {},
     "output_type": "execute_result"
    }
   ],
   "source": [
    "plot_model(model, show_shapes=True, show_layer_names=True, to_file=\"05-plot-model.png\")\n"
   ]
  },
  {
   "cell_type": "code",
   "execution_count": 15,
   "metadata": {
    "ExecuteTime": {
     "end_time": "2022-02-07T18:10:09.972239Z",
     "start_time": "2022-02-07T18:10:09.875013Z"
    }
   },
   "outputs": [],
   "source": [
    "# Compile the model\n",
    "f1 = F1Score(num_classes=nb_classes, average=\"macro\", threshold=None)\n",
    "op = Adam(learning_rate=learning_rate, beta_1=0.9, beta_2=0.999, epsilon=1e-08)\n",
    "model.compile(optimizer=op, loss=\"categorical_crossentropy\", metrics=[f1])\n"
   ]
  },
  {
   "cell_type": "code",
   "execution_count": 16,
   "metadata": {
    "ExecuteTime": {
     "end_time": "2022-02-07T18:14:46.575071Z",
     "start_time": "2022-02-07T18:10:09.978179Z"
    },
    "colab": {
     "base_uri": "https://localhost:8080/"
    },
    "id": "Ewj3hUDyoUqQ",
    "outputId": "056219cf-962e-4923-ae62-c61bd16cbbb3"
   },
   "outputs": [
    {
     "name": "stdout",
     "output_type": "stream",
     "text": [
      "Epoch 1/4000\n",
      "64/64 [==============================] - 16s 181ms/step - loss: 1.3270 - f1_score: 0.1848 - val_loss: 1.1170 - val_f1_score: 0.2338\n",
      "Epoch 2/4000\n",
      "64/64 [==============================] - 12s 186ms/step - loss: 1.0309 - f1_score: 0.2837 - val_loss: 1.0392 - val_f1_score: 0.2696\n",
      "Epoch 3/4000\n",
      "64/64 [==============================] - 16s 248ms/step - loss: 0.8816 - f1_score: 0.2999 - val_loss: 1.0056 - val_f1_score: 0.2745\n",
      "Epoch 4/4000\n",
      "64/64 [==============================] - 17s 260ms/step - loss: 0.7596 - f1_score: 0.3348 - val_loss: 1.0555 - val_f1_score: 0.2979\n",
      "Epoch 5/4000\n",
      "64/64 [==============================] - 14s 217ms/step - loss: 0.6757 - f1_score: 0.3749 - val_loss: 1.1245 - val_f1_score: 0.3183\n",
      "Epoch 6/4000\n",
      "64/64 [==============================] - 14s 219ms/step - loss: 0.6178 - f1_score: 0.5033 - val_loss: 1.1893 - val_f1_score: 0.3293\n",
      "Epoch 7/4000\n",
      "64/64 [==============================] - 14s 224ms/step - loss: 0.5552 - f1_score: 0.5338 - val_loss: 1.2859 - val_f1_score: 0.3431\n",
      "Epoch 8/4000\n",
      "64/64 [==============================] - 14s 224ms/step - loss: 0.4948 - f1_score: 0.6239 - val_loss: 1.3425 - val_f1_score: 0.3500\n",
      "Epoch 9/4000\n",
      "64/64 [==============================] - 14s 219ms/step - loss: 0.4725 - f1_score: 0.6241 - val_loss: 1.4981 - val_f1_score: 0.4043\n",
      "Epoch 10/4000\n",
      "64/64 [==============================] - 14s 222ms/step - loss: 0.4403 - f1_score: 0.6372 - val_loss: 1.4550 - val_f1_score: 0.3868\n",
      "Epoch 11/4000\n",
      "64/64 [==============================] - 14s 214ms/step - loss: 0.4037 - f1_score: 0.6902 - val_loss: 1.7457 - val_f1_score: 0.3527\n",
      "Epoch 12/4000\n",
      "64/64 [==============================] - 14s 217ms/step - loss: 0.3537 - f1_score: 0.7080 - val_loss: 1.8344 - val_f1_score: 0.3953\n",
      "Epoch 13/4000\n",
      "64/64 [==============================] - 15s 228ms/step - loss: 0.3180 - f1_score: 0.7356 - val_loss: 2.2174 - val_f1_score: 0.3854\n",
      "Epoch 14/4000\n",
      "64/64 [==============================] - ETA: 0s - loss: 0.3135 - f1_score: 0.7692Restoring model weights from the end of the best epoch: 9.\n",
      "64/64 [==============================] - 14s 213ms/step - loss: 0.3135 - f1_score: 0.7692 - val_loss: 1.9059 - val_f1_score: 0.3983\n",
      "Epoch 00014: early stopping\n"
     ]
    }
   ],
   "source": [
    "# fit model using ealy stopping\n",
    "es = EarlyStopping(\n",
    "    monitor=\"val_f1_score\",\n",
    "    mode=\"max\",\n",
    "    patience=5,\n",
    "    restore_best_weights=True,\n",
    "    verbose=1,\n",
    ")\n",
    "history = model.fit(\n",
    "    x=X_train,\n",
    "    y=y_train,\n",
    "    validation_data=(X_val, y_val),\n",
    "    epochs=4000,\n",
    "    callbacks=[es],\n",
    "    verbose=1,\n",
    ")\n"
   ]
  },
  {
   "cell_type": "code",
   "execution_count": 17,
   "metadata": {
    "ExecuteTime": {
     "end_time": "2022-02-07T18:14:47.048472Z",
     "start_time": "2022-02-07T18:14:46.577993Z"
    },
    "colab": {
     "base_uri": "https://localhost:8080/",
     "height": 573
    },
    "id": "gHt8R1F9oUqQ",
    "outputId": "4dd72f65-ccc6-4321-f365-6128fe9387bf"
   },
   "outputs": [
    {
     "data": {
      "image/png": "[encoded data removed]",
      "text/plain": [
       "<Figure size 1296x432 with 2 Axes>"
      ]
     },
     "metadata": {
      "needs_background": "light"
     },
     "output_type": "display_data"
    }
   ],
   "source": [
    "# plot history\n",
    "def babysit(history):\n",
    "    fig, (ax1, ax2) = plt.subplots(1, 2, figsize=(18, 6))\n",
    "\n",
    "    # summarize history for loss\n",
    "    ax1.plot(history.history[\"loss\"])\n",
    "    ax1.plot(history.history[\"val_loss\"])\n",
    "    ax1.set_title(\"model loss\")\n",
    "    ax1.set_ylabel(\"loss\")\n",
    "    ax1.set_xlabel(\"epoch\")\n",
    "    ax1.legend([\"loss train\", \"loss val\"], loc=\"best\")\n",
    "\n",
    "    # summarize history for loss\n",
    "    ax2.plot(history.history[\"f1_score\"])\n",
    "    ax2.plot(history.history[\"val_f1_score\"])\n",
    "    ax2.set_title(\"model F1\")\n",
    "    ax2.set_ylabel(\"F1\")\n",
    "    ax2.set_xlabel(\"epoch\")\n",
    "    ax2.legend([\"f1 train\", \"f1 val\"], loc=\"best\")\n",
    "\n",
    "    plt.show()\n",
    "\n",
    "\n",
    "babysit(history)\n"
   ]
  },
  {
   "cell_type": "code",
   "execution_count": 18,
   "metadata": {
    "ExecuteTime": {
     "end_time": "2022-02-07T18:14:47.925538Z",
     "start_time": "2022-02-07T18:14:47.075508Z"
    }
   },
   "outputs": [
    {
     "name": "stdout",
     "output_type": "stream",
     "text": [
      "F1: 0.3929598033428192\n"
     ]
    }
   ],
   "source": [
    "# Evaluate the model\n",
    "f1.update_state(y_test, model.predict(X_test))\n",
    "print(f\"F1: {f1.result().numpy()}\")\n"
   ]
  },
  {
   "cell_type": "markdown",
   "metadata": {},
   "source": [
    "<font color='red'>\n",
    "To do student\n",
    "\n",
    "1. Understand the code\n",
    "1. Play with LSTM model for sentiment analysis\n",
    "   - Replace LSTM by BI-LSTM\n",
    "   - Use stacked LSTM or BI-LSTM \\* Use all hidden state and average it\n",
    "   </font>\n"
   ]
  },
  {
   "cell_type": "markdown",
   "metadata": {},
   "source": [
    "<font color='green'>\n",
    "If you want to go further\n",
    "\n",
    "If you are interested in the subject, current networks for sentiment prediction combine a part with recurrent networks (LTSM) to capture long dependencies and a part with convolution (CNN) to capture short dependencies. [This resarch paper](https://arxiv.org/pdf/1904.04206.pdf) or [this one](https://hal.archives-ouvertes.fr/hal-03052803/document) describe some accurate networks for sentiment analysis.\n",
    "\n",
    "Here, another paper that gives you some indications to go further: [Attention, CNN and what not for Text Classification](https://mlwhiz.com/blog/2019/03/09/deeplearning_architectures_text_classification/)\n",
    "\n",
    "You will see next week the CNN with Diane. So there is no need to use them today.\n",
    "</font>\n"
   ]
  },
  {
   "cell_type": "markdown",
   "metadata": {
    "ExecuteTime": {
     "end_time": "2022-02-02T09:36:27.789409Z",
     "start_time": "2022-02-02T09:36:27.737880Z"
    },
    "id": "Odn9rE6toUqR"
   },
   "source": [
    "## Attention with LSTM network\n"
   ]
  },
  {
   "cell_type": "code",
   "execution_count": null,
   "metadata": {
    "ExecuteTime": {
     "end_time": "2022-02-07T18:14:48.373250Z",
     "start_time": "2022-02-07T18:14:47.932228Z"
    }
   },
   "outputs": [],
   "source": [
    "# ------------------------------------------------------\n",
    "# MODEL BUILDING\n",
    "# ------------------------------------------------------\n",
    "def build_model():\n",
    "    # Input: a review\n",
    "    input_ = Input(shape=(1,), name=\"input\", dtype=tf.string)\n",
    "\n",
    "    # Transform the review in a list of tokenID\n",
    "    vect = vectorize_layer(input_)\n",
    "\n",
    "    # Keras embedding\n",
    "    embedding = Embedding(\n",
    "        input_dim=vocab_size,\n",
    "        output_dim=embedding_size,\n",
    "        weights=None,  # Without pre-learning\n",
    "        trainable=True,  # Trainable\n",
    "        name=\"embedding\",\n",
    "    )(vect)\n",
    "\n",
    "    # You can try also a Bidirectionnel cell\n",
    "    rnn = LSTM(\n",
    "        recurrent_size,\n",
    "        return_sequences=True,\n",
    "        return_state=False,\n",
    "        dropout=dropout_rate,\n",
    "        recurrent_dropout=dropout_rate,\n",
    "    )(embedding)\n",
    "\n",
    "    # In the case of LSTM, there are two internal states\n",
    "    #      the hidden state, usually denoted by h,\n",
    "    #      the cell state usually denoted by c\n",
    "    # The tuple (c, h) is the internal state of a LSTM\n",
    "    # return_sequences=True gives you the hidden state (h) of the LSTM for every timestep\n",
    "    # used in combination with return_state=True, you will only get the tuple (c, h) for the final timestep\n",
    "\n",
    "    # Attention layer\n",
    "    attention = Dense(1, activation=\"tanh\")(rnn)\n",
    "    attention = Flatten()(attention)\n",
    "    attention = Activation(\"softmax\")(attention)\n",
    "\n",
    "    # Pour pouvoir faire la multiplication (scalair/vecteur KERAS)\n",
    "    attention = RepeatVector(recurrent_size)(attention)  # NORMAL RNN\n",
    "    attention = Permute([2, 1])(attention)\n",
    "\n",
    "    # Application de l'attention sur la sortie du RNN\n",
    "    sent_representation = Dot(axes=1, normalize=False)([rnn, attention])\n",
    "\n",
    "    # Flatten pour entrer dans le Dense\n",
    "    flatten = Flatten()(sent_representation)\n",
    "\n",
    "    # Dense pour la classification avec 1 couche cachee\n",
    "    hidden_dense = Dense(hidden_size, activation=\"relu\")(flatten)\n",
    "    hidden_dense = Dropout(dropout_rate)(hidden_dense)\n",
    "\n",
    "    # Classification et ouput\n",
    "    output_ = Dense(nb_classes, activation=\"softmax\")(hidden_dense)\n",
    "\n",
    "    # Build  model\n",
    "    model = Model(inputs=input_, outputs=output_)\n",
    "\n",
    "    return model\n",
    "\n",
    "\n",
    "model = build_model()\n"
   ]
  },
  {
   "cell_type": "code",
   "execution_count": null,
   "metadata": {
    "ExecuteTime": {
     "end_time": "2022-02-07T18:14:49.416370Z",
     "start_time": "2022-02-07T18:14:48.376003Z"
    }
   },
   "outputs": [
    {
     "data": {
      "image/png": "[encoded data removed]",
      "text/plain": [
       "<IPython.core.display.Image object>"
      ]
     },
     "execution_count": 20,
     "metadata": {},
     "output_type": "execute_result"
    }
   ],
   "source": [
    "# Plot model\n",
    "plot_model(\n",
    "    model, show_shapes=True, show_layer_names=True, to_file=\"LSTM_with_attention.png\"\n",
    ")\n"
   ]
  },
  {
   "cell_type": "code",
   "execution_count": null,
   "metadata": {
    "ExecuteTime": {
     "end_time": "2022-02-07T18:14:49.693726Z",
     "start_time": "2022-02-07T18:14:49.420968Z"
    }
   },
   "outputs": [],
   "source": [
    "# Compile the model\n",
    "f1 = F1Score(num_classes=nb_classes, average=\"macro\", threshold=0.5)\n",
    "op = Adam(learning_rate=learning_rate, beta_1=0.9, beta_2=0.999, epsilon=1e-08)\n",
    "model.compile(optimizer=op, loss=\"categorical_crossentropy\", metrics=[f1])\n"
   ]
  },
  {
   "cell_type": "code",
   "execution_count": null,
   "metadata": {
    "ExecuteTime": {
     "end_time": "2022-02-07T18:16:16.397423Z",
     "start_time": "2022-02-07T18:14:49.732405Z"
    }
   },
   "outputs": [
    {
     "name": "stdout",
     "output_type": "stream",
     "text": [
      "Epoch 1/4000\n",
      "157/157 [==============================] - 10s 37ms/step - loss: 1.2535 - f1_score: 0.1272 - val_loss: 1.1666 - val_f1_score: 0.1339\n",
      "Epoch 2/4000\n",
      "157/157 [==============================] - 5s 33ms/step - loss: 1.2004 - f1_score: 0.1380 - val_loss: 1.1692 - val_f1_score: 0.1375\n",
      "Epoch 3/4000\n",
      "157/157 [==============================] - 4s 29ms/step - loss: 1.1927 - f1_score: 0.1381 - val_loss: 1.1570 - val_f1_score: 0.1364\n",
      "Epoch 4/4000\n",
      "157/157 [==============================] - 5s 30ms/step - loss: 1.1887 - f1_score: 0.1369 - val_loss: 1.1566 - val_f1_score: 0.1455\n",
      "Epoch 5/4000\n",
      "157/157 [==============================] - 6s 39ms/step - loss: 1.1801 - f1_score: 0.1388 - val_loss: 1.1678 - val_f1_score: 0.1274\n",
      "Epoch 6/4000\n",
      "157/157 [==============================] - 6s 35ms/step - loss: 1.1815 - f1_score: 0.1371 - val_loss: 1.1487 - val_f1_score: 0.1453\n",
      "Epoch 7/4000\n",
      "157/157 [==============================] - 5s 32ms/step - loss: 1.1742 - f1_score: 0.1382 - val_loss: 1.1445 - val_f1_score: 0.1349\n",
      "Epoch 8/4000\n",
      "157/157 [==============================] - 9s 58ms/step - loss: 1.1750 - f1_score: 0.1377 - val_loss: 1.1426 - val_f1_score: 0.1413\n",
      "Epoch 9/4000\n",
      "157/157 [==============================] - 7s 42ms/step - loss: 1.1653 - f1_score: 0.1404 - val_loss: 1.1394 - val_f1_score: 0.1378\n",
      "Epoch 10/4000\n",
      "157/157 [==============================] - 6s 36ms/step - loss: 1.1691 - f1_score: 0.1387 - val_loss: 1.1580 - val_f1_score: 0.1441\n",
      "Epoch 11/4000\n",
      "157/157 [==============================] - 7s 44ms/step - loss: 1.1658 - f1_score: 0.1400 - val_loss: 1.1578 - val_f1_score: 0.1454\n",
      "Epoch 12/4000\n",
      "157/157 [==============================] - 5s 33ms/step - loss: 1.1593 - f1_score: 0.1395 - val_loss: 1.1457 - val_f1_score: 0.1368\n",
      "Epoch 13/4000\n",
      "157/157 [==============================] - 5s 34ms/step - loss: 1.1578 - f1_score: 0.1409 - val_loss: 1.1673 - val_f1_score: 0.1270\n",
      "Epoch 14/4000\n",
      "157/157 [==============================] - 6s 41ms/step - loss: 1.1526 - f1_score: 0.1430 - val_loss: 1.1540 - val_f1_score: 0.1429\n",
      "Restoring model weights from the end of the best epoch.\n",
      "Epoch 00014: early stopping\n"
     ]
    }
   ],
   "source": [
    "# fit model using ealy stopping\n",
    "es = EarlyStopping(\n",
    "    monitor=\"val_f1_score\",\n",
    "    mode=\"max\",\n",
    "    patience=10,\n",
    "    restore_best_weights=True,\n",
    "    verbose=2,\n",
    ")\n",
    "history = model.fit(\n",
    "    X_train,\n",
    "    y_train,\n",
    "    validation_data=(X_val, y_val),\n",
    "    epochs=4000,\n",
    "    callbacks=[es],\n",
    "    verbose=1,\n",
    ")\n"
   ]
  },
  {
   "cell_type": "code",
   "execution_count": null,
   "metadata": {
    "ExecuteTime": {
     "end_time": "2022-02-07T18:16:17.606240Z",
     "start_time": "2022-02-07T18:16:16.417923Z"
    }
   },
   "outputs": [
    {
     "data": {
      "image/png": "[encoded data removed]",
      "text/plain": [
       "<Figure size 1296x432 with 2 Axes>"
      ]
     },
     "metadata": {
      "needs_background": "light"
     },
     "output_type": "display_data"
    }
   ],
   "source": [
    "# plot history\n",
    "babysit(history)\n"
   ]
  },
  {
   "cell_type": "code",
   "execution_count": null,
   "metadata": {
    "ExecuteTime": {
     "end_time": "2022-02-07T18:16:18.618929Z",
     "start_time": "2022-02-07T18:16:17.739715Z"
    }
   },
   "outputs": [
    {
     "name": "stdout",
     "output_type": "stream",
     "text": [
      "F1: 0.147018\n"
     ]
    }
   ],
   "source": [
    "# Evaluate the model\n",
    "f1.update_state(y_test, model.predict(X_test))\n",
    "print(\"F1: %f\" % (f1.result().numpy()))\n"
   ]
  },
  {
   "cell_type": "markdown",
   "metadata": {
    "ExecuteTime": {
     "end_time": "2022-02-07T15:12:32.722152Z",
     "start_time": "2022-02-07T15:12:32.722119Z"
    }
   },
   "source": [
    "## Use Attentionnal model\n"
   ]
  },
  {
   "cell_type": "code",
   "execution_count": null,
   "metadata": {
    "ExecuteTime": {
     "end_time": "2022-02-07T18:16:18.695327Z",
     "start_time": "2022-02-07T18:16:18.638488Z"
    }
   },
   "outputs": [],
   "source": [
    "# ------------------------------------------------------\n",
    "# GET ATTENTION MODEL\n",
    "# ------------------------------------------------------\n",
    "def get_attention_model(model):\n",
    "    attention_layer_indice = 0\n",
    "    for layer in model.layers:\n",
    "        print(type(layer))\n",
    "        if type(layer) is Activation:\n",
    "            break\n",
    "        else:\n",
    "            attention_layer_indice += 1\n",
    "\n",
    "    # Create an attention model\n",
    "    return Model(\n",
    "        inputs=model.layers[0].input,\n",
    "        outputs=model.layers[attention_layer_indice].output,\n",
    "    )\n"
   ]
  },
  {
   "cell_type": "code",
   "execution_count": null,
   "metadata": {
    "ExecuteTime": {
     "end_time": "2022-02-07T18:16:19.640503Z",
     "start_time": "2022-02-07T18:16:18.699293Z"
    }
   },
   "outputs": [
    {
     "name": "stdout",
     "output_type": "stream",
     "text": [
      "<class 'keras.engine.input_layer.InputLayer'>\n",
      "<class 'keras.layers.preprocessing.text_vectorization.TextVectorization'>\n",
      "<class 'keras.layers.embeddings.Embedding'>\n",
      "<class 'keras.layers.recurrent_v2.LSTM'>\n",
      "<class 'keras.layers.core.Dense'>\n",
      "<class 'keras.layers.core.Flatten'>\n",
      "<class 'keras.layers.core.Activation'>\n"
     ]
    },
    {
     "data": {
      "image/png": "[encoded data removed]",
      "text/plain": [
       "<IPython.core.display.Image object>"
      ]
     },
     "execution_count": 26,
     "metadata": {},
     "output_type": "execute_result"
    }
   ],
   "source": [
    "# PLOT ATTENTION MODEL from classifier model with ATTENTION\n",
    "attention_model = get_attention_model(model)\n",
    "plot_model(\n",
    "    attention_model,\n",
    "    show_shapes=True,\n",
    "    show_layer_names=True,\n",
    "    to_file=\"model_get_attention.png\",\n",
    ")\n"
   ]
  },
  {
   "cell_type": "code",
   "execution_count": null,
   "metadata": {
    "ExecuteTime": {
     "end_time": "2022-02-07T18:16:20.333388Z",
     "start_time": "2022-02-07T18:16:19.650672Z"
    }
   },
   "outputs": [
    {
     "data": {
      "text/plain": [
       "array([[0.07253008, 0.0917171 , 0.06473119, 0.06196006, 0.06346381,\n",
       "        0.0638293 , 0.0642563 , 0.064474  , 0.06460689, 0.06467967,\n",
       "        0.06472068, 0.0647435 , 0.06475631, 0.06476352, 0.06476762]],\n",
       "      dtype=float32)"
      ]
     },
     "execution_count": 27,
     "metadata": {},
     "output_type": "execute_result"
    }
   ],
   "source": [
    "# ------------------------------------------------------\n",
    "# GET ATTENTION\n",
    "# ------------------------------------------------------\n",
    "attentions = attention_model.predict(X_val[0])\n",
    "attentions\n"
   ]
  },
  {
   "cell_type": "code",
   "execution_count": null,
   "metadata": {
    "ExecuteTime": {
     "end_time": "2022-02-07T18:16:21.605912Z",
     "start_time": "2022-02-07T18:16:20.352537Z"
    }
   },
   "outputs": [
    {
     "name": "stderr",
     "output_type": "stream",
     "text": [
      "/var/folders/l4/ptzjj6dn0_x5trgl90dc98g40000gn/T/ipykernel_3030/2036900014.py:17: DeprecationWarning: np.asscalar(a) is deprecated since NumPy v1.16, use a.item() instead\n",
      "  result_entry[\"original\"] = np.asscalar(X_)\n"
     ]
    },
    {
     "data": {
      "text/plain": [
       "{'prediction': (0, 4),\n",
       " 'original': 'Pretty good',\n",
       " 'sentence': [{'[UNK]': 0.36486485600471497}, {'good': 0.9814814925193787}]}"
      ]
     },
     "execution_count": 28,
     "metadata": {},
     "output_type": "execute_result"
    }
   ],
   "source": [
    "# ------------------------------------------------------\n",
    "# GET ATTENTION for each WORD\n",
    "# ------------------------------------------------------\n",
    "from sklearn import preprocessing\n",
    "\n",
    "\n",
    "def get_attention(X, y, prediction, attention, N=5):\n",
    "    # normalize attention (without the padding part)\n",
    "    normalized_attention = preprocessing.QuantileTransformer().fit_transform(attention)\n",
    "\n",
    "    results = []\n",
    "    for i, (X_, y_, p_, a_) in enumerate(zip(X, y, prediction, normalized_attention)):\n",
    "        if i > N:\n",
    "            break\n",
    "        # build result\n",
    "        result_entry = {}\n",
    "        result_entry[\"prediction\"] = (np.argmax(y_), np.argmax(p_))\n",
    "        result_entry[\"original\"] = np.asscalar(X_)\n",
    "        result_entry[\"sentence\"] = []\n",
    "        for j, word in enumerate(vectorize_layer(X_).numpy().flatten().tolist()):\n",
    "            word_obj = {}\n",
    "            if word == 0:\n",
    "                break\n",
    "            word_obj[vectorize_layer.get_vocabulary()[word]] = a_[j].item()\n",
    "            result_entry[\"sentence\"].append(word_obj)\n",
    "\n",
    "        results += [result_entry]\n",
    "    return results\n",
    "\n",
    "\n",
    "sentences_with_attention = get_attention(\n",
    "    X_val, y_val, model.predict(X_val), attention_model.predict(X_val), 10\n",
    ")\n",
    "sentences_with_attention[0]\n"
   ]
  },
  {
   "cell_type": "code",
   "execution_count": null,
   "metadata": {
    "ExecuteTime": {
     "end_time": "2022-02-07T18:16:21.804500Z",
     "start_time": "2022-02-07T18:16:21.631611Z"
    }
   },
   "outputs": [
    {
     "name": "stdout",
     "output_type": "stream",
     "text": [
      "\u001b[1m\u001b[32mIn green, the most important word\n",
      "\n",
      "\u001b[0m\n",
      "Pretty good\n",
      "\u001b[30m[UNK]\u001b[0m \u001b[1m\u001b[32mgood\u001b[0m \n",
      "\n",
      "Excellent,very good Very fast\n",
      "\u001b[30m[UNK]\u001b[0m \u001b[1m\u001b[32mgood\u001b[0m \u001b[30mvery\u001b[0m \u001b[1m\u001b[31m[UNK]\u001b[0m \n",
      "\n",
      "This was a replacement. We had a POS Samsung from Cincinnati Bell. That phone was the worst thing we ever owned! This HTC seems to be built to last. It is small. Dont plan on rocking a lot of video. However, it is an Andriod and I think my wife likes it. It feels sturdy too. We bought it unlocked. All we had to do was insert the SIM card. It took about 2min to get it all set up. Very nice! I would give it 4-stars but the internal memory will eventually be an issue.\n",
      "\u001b[30mthis\u001b[0m \u001b[1m\u001b[32mwas\u001b[0m \u001b[1m\u001b[32ma\u001b[0m \u001b[1m\u001b[31m[UNK]\u001b[0m \u001b[1m\u001b[31m[UNK]\u001b[0m \u001b[30mhad\u001b[0m \u001b[1m\u001b[31ma\u001b[0m \u001b[1m\u001b[31m[UNK]\u001b[0m \u001b[1m\u001b[31m[UNK]\u001b[0m \u001b[1m\u001b[31mfrom\u001b[0m \u001b[1m\u001b[31m[UNK]\u001b[0m \u001b[30m[UNK]\u001b[0m \u001b[1m\u001b[32mthat\u001b[0m \u001b[1m\u001b[32mphone\u001b[0m \u001b[1m\u001b[32mwas\u001b[0m \n",
      "\n",
      "Was used ! Had to return it\n",
      "\u001b[30mwas\u001b[0m \u001b[30m[UNK]\u001b[0m \u001b[30mhad\u001b[0m \u001b[30mto\u001b[0m \u001b[1m\u001b[31m[UNK]\u001b[0m \u001b[30mit\u001b[0m \n",
      "\n",
      "Just loved the item, and it was just as the pictured stated, therefore i'm happy with my purchase, but i feel it being a Nokia it should of been able to do a bit more.\n",
      "\u001b[1m\u001b[31mjust\u001b[0m \u001b[30m[UNK]\u001b[0m \u001b[1m\u001b[32mthe\u001b[0m \u001b[1m\u001b[31m[UNK]\u001b[0m \u001b[1m\u001b[31mand\u001b[0m \u001b[1m\u001b[32mit\u001b[0m \u001b[30mwas\u001b[0m \u001b[1m\u001b[32mjust\u001b[0m \u001b[1m\u001b[32mas\u001b[0m \u001b[1m\u001b[31mthe\u001b[0m \u001b[1m\u001b[31m[UNK]\u001b[0m \u001b[1m\u001b[31m[UNK]\u001b[0m \u001b[30m[UNK]\u001b[0m \u001b[30m[UNK]\u001b[0m \u001b[30m[UNK]\u001b[0m \n",
      "\n",
      "total confianza y satisfacción el un producto de excelente calidad el tiempo de entrega fue muy breve y estoy muy contento\n",
      "\u001b[1m\u001b[31m[UNK]\u001b[0m \u001b[30m[UNK]\u001b[0m \u001b[30m[UNK]\u001b[0m \u001b[30m[UNK]\u001b[0m \u001b[30m[UNK]\u001b[0m \u001b[30m[UNK]\u001b[0m \u001b[30m[UNK]\u001b[0m \u001b[30m[UNK]\u001b[0m \u001b[30m[UNK]\u001b[0m \u001b[30m[UNK]\u001b[0m \u001b[30m[UNK]\u001b[0m \u001b[30m[UNK]\u001b[0m \u001b[30m[UNK]\u001b[0m \u001b[30m[UNK]\u001b[0m \u001b[30m[UNK]\u001b[0m \n",
      "\n",
      "Liberado ? Unlocked??\n",
      "\u001b[30m[UNK]\u001b[0m \u001b[30m[UNK]\u001b[0m \n",
      "\n",
      "At first there were two problems with the product iPhone 4s unlocked I purchased . The WiFi tab was greyed out dim and I can't connect to Internet even I have a sim card with high speed internet and Wi Fi at home. There is no cellular data network tab on the phone to edit the APN. I called Wireless 2 go They told me they had never had this issue before and they were ready to refund me and sent me a label to return the product. After consideration I decided not to return the product. I reset and erased all the the content and network and started activating the iPhone again. It was a hard time! Finally the Wi Fi tab works and the Internet is connected. However when I browsed Google the Wi Fi stopped working and the screen displayed \"could not activate cellular dater network\" . I had to redo everything again. Totally 3 times. Now it is connected to Wi Fi and Internet but I don't know how long this status can maintain. I even dare not to browse Google website on this iphone. I think the shadow of the former carrier is still there even the phone is unlocked. Is there a way to find out the cellular data network tab and APN to solve this problem?Anyway I have to say that this iPhone 4s has a good look and almost no scratches.\n",
      "\u001b[30mat\u001b[0m \u001b[1m\u001b[31m[UNK]\u001b[0m \u001b[30m[UNK]\u001b[0m \u001b[30m[UNK]\u001b[0m \u001b[30m[UNK]\u001b[0m \u001b[30m[UNK]\u001b[0m \u001b[1m\u001b[31mwith\u001b[0m \u001b[1m\u001b[31mthe\u001b[0m \u001b[1m\u001b[31m[UNK]\u001b[0m \u001b[30m[UNK]\u001b[0m \u001b[30m[UNK]\u001b[0m \u001b[1m\u001b[32m[UNK]\u001b[0m \u001b[30mi\u001b[0m \u001b[1m\u001b[32m[UNK]\u001b[0m \u001b[1m\u001b[32mthe\u001b[0m \n",
      "\n",
      "Its ok\n",
      "\u001b[30mits\u001b[0m \u001b[1m\u001b[32m[UNK]\u001b[0m \n",
      "\n",
      "nice little phone .had to send it back when it stopped receiving calls.\n",
      "\u001b[1m\u001b[32m[UNK]\u001b[0m \u001b[1m\u001b[32m[UNK]\u001b[0m \u001b[1m\u001b[32mphone\u001b[0m \u001b[1m\u001b[32mhad\u001b[0m \u001b[1m\u001b[32mto\u001b[0m \u001b[30m[UNK]\u001b[0m \u001b[1m\u001b[32mit\u001b[0m \u001b[1m\u001b[32m[UNK]\u001b[0m \u001b[1m\u001b[31mwhen\u001b[0m \u001b[1m\u001b[31mit\u001b[0m \u001b[1m\u001b[31m[UNK]\u001b[0m \u001b[1m\u001b[31m[UNK]\u001b[0m \u001b[30m[UNK]\u001b[0m \n",
      "\n",
      "Very much like my mothers original phone. Just newer! Ease to use was the needed aspect.\n",
      "\u001b[30mvery\u001b[0m \u001b[1m\u001b[31m[UNK]\u001b[0m \u001b[1m\u001b[32mlike\u001b[0m \u001b[1m\u001b[31mmy\u001b[0m \u001b[1m\u001b[31m[UNK]\u001b[0m \u001b[1m\u001b[31m[UNK]\u001b[0m \u001b[1m\u001b[31mphone\u001b[0m \u001b[1m\u001b[32mjust\u001b[0m \u001b[1m\u001b[32m[UNK]\u001b[0m \u001b[1m\u001b[32m[UNK]\u001b[0m \u001b[1m\u001b[32mto\u001b[0m \u001b[30muse\u001b[0m \u001b[1m\u001b[32mwas\u001b[0m \u001b[1m\u001b[32mthe\u001b[0m \u001b[1m\u001b[31m[UNK]\u001b[0m \n",
      "\n"
     ]
    }
   ],
   "source": [
    "# convert prediction with attention to colored text\n",
    "from termcolor import colored\n",
    "\n",
    "\n",
    "def print_text(sentences_with_attention):\n",
    "    threshold = 0.75\n",
    "    classes = []\n",
    "    print(colored(\"In green, the most important word\\n\\n\", \"green\", attrs=[\"bold\"]))\n",
    "\n",
    "    for i, sentence in enumerate(sentences_with_attention):\n",
    "        # Retrieve the class of this sentence\n",
    "        # print(sentence)\n",
    "        original_class, predicted_class = sentence[\"prediction\"]\n",
    "        # print(original_class, predicted_class)\n",
    "\n",
    "        # Retrieve all the words and weights of this sentence\n",
    "        words, weights = [], []\n",
    "        # print(\"--\", sentence['sentence'])\n",
    "        for item in sentence[\"sentence\"]:\n",
    "            for word, weight in item.items():\n",
    "                words.append(word)\n",
    "                weights.append(float(weight))\n",
    "\n",
    "        size = 0\n",
    "        print(sentence[\"original\"])\n",
    "        for j, word in enumerate(words):\n",
    "            if size != 0 and j != 0 and word != \",\" and word != \".\":\n",
    "                print(\" \", end=\"\")\n",
    "            if weights[j] > threshold:\n",
    "                print(colored(word, \"green\", attrs=[\"bold\"]), end=\" \")\n",
    "            elif weights[j] < (1 - threshold):\n",
    "                print(colored(word, \"red\", attrs=[\"bold\"]), end=\" \")\n",
    "            else:\n",
    "                print(colored(word, \"grey\"), end=\" \")\n",
    "            size += len(word) + 1\n",
    "            if size > 80:\n",
    "                print()\n",
    "            size = 0\n",
    "\n",
    "        print(\"\\n\")\n",
    "\n",
    "\n",
    "print_text(sentences_with_attention)\n"
   ]
  },
  {
   "cell_type": "markdown",
   "metadata": {},
   "source": [
    "## Your work\n",
    "\n",
    "<font color='red'>\n",
    "<br>\n",
    "TO DO Students\n",
    "    \n",
    "1. Before modifying the code, take the time to understand it well. We use here the global attentions mechanism only from an encoder since the network for sentiment analysis has no decoder part, only a classifier 1\n",
    "    \n",
    "1. Improve the f1 score for the **Attentional LSTM** model using BI-LSTM approach, better hyper-parameters and a better preprocessing (the same as in the previous step).\n",
    "    * Take inspiration from the course slides to build an original architecture that you will describe\n",
    "    * Use your Attention part in order to explain the words taken into account by the network to predict the sentiment.\n",
    "    \n",
    "1. **Upload on moodle**\n",
    "    * **a clean, documented notebook** containing **your best LSTM attentional model**. The evaluation metric is the f1 score (macro avg).\n",
    "    * You can build all sorts of architectures but only using the cells seen in class (i.e. in particular: **CNNs are not yet seen so you should not use them**).\n",
    "\n",
    "    * It is of course possible / desirable to use keras tuner to get the best hyper-parameters.\n",
    "\n",
    "    * This notebook will be evaluated and the grade will take into account the editorial quality of your text.\n",
    "\n",
    "    * Any notebook containing more than 1 model will not be evaluated (score = 0 -> **You have to choose the best one**).\n",
    "\n",
    "</font>\n"
   ]
  },
  {
   "cell_type": "markdown",
   "metadata": {},
   "source": [
    "<font color='red'>\n"
   ]
  },
  {
   "cell_type": "code",
   "execution_count": null,
   "metadata": {},
   "outputs": [],
   "source": [
    "# remember to remove the cut on the dataset which saves training time\n"
   ]
  }
 ],
 "metadata": {
  "colab": {
   "collapsed_sections": [],
   "name": "notebook-NLP-sentiment-analysis-with-MLP-Keras embedding.ipynb",
   "provenance": []
  },
  "kernelspec": {
   "display_name": "Python 3",
   "language": "python",
   "name": "python3"
  },
  "language_info": {
   "codemirror_mode": {
    "name": "ipython",
    "version": 3
   },
   "file_extension": ".py",
   "mimetype": "text/x-python",
   "name": "python",
   "nbconvert_exporter": "python",
   "pygments_lexer": "ipython3",
   "version": "3.9.10"
  },
  "latex_envs": {
   "LaTeX_envs_menu_present": true,
   "autoclose": true,
   "autocomplete": true,
   "bibliofile": "biblio.bib",
   "cite_by": "apalike",
   "current_citInitial": 1,
   "eqLabelWithNumbers": true,
   "eqNumInitial": 1,
   "hotkeys": {
    "equation": "Ctrl-E",
    "itemize": "Ctrl-I"
   },
   "labels_anchors": false,
   "latex_user_defs": false,
   "report_style_numbering": false,
   "user_envs_cfg": false
  },
  "nbTranslate": {
   "displayLangs": [
    "*"
   ],
   "hotkey": "alt-t",
   "langInMainMenu": true,
   "sourceLang": "en",
   "targetLang": "fr",
   "useGoogleTranslate": true
  },
  "toc": {
   "base_numbering": 1,
   "nav_menu": {},
   "number_sections": true,
   "sideBar": true,
   "skip_h1_title": true,
   "title_cell": "Table of Contents",
   "title_sidebar": "Contents",
   "toc_cell": true,
   "toc_position": {},
   "toc_section_display": true,
   "toc_window_display": false
  }
 },
 "nbformat": 4,
 "nbformat_minor": 1
}

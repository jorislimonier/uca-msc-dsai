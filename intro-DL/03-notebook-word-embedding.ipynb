{
 "cells": [
  {
   "cell_type": "markdown",
   "metadata": {
    "id": "7Zc0WsSkoWK0"
   },
   "source": [
    "# Sentiment analysis with an MLP and vector representation\n"
   ]
  },
  {
   "cell_type": "markdown",
   "metadata": {
    "id": "VSuNR5g2oUqH"
   },
   "source": [
    "# Case Study: Sentiment Analysis\n",
    "\n",
    "In this lab we use part of the 'Amazon_Unlocked_Mobile.csv' dataset published by Kaggle. The dataset contain the following information:\n",
    "\n",
    "- Product Name\n",
    "- Brand Name\n",
    "- Price\n",
    "- Rating\n",
    "- Reviews\n",
    "- Review Votes\n",
    "\n",
    "We are mainly interested by the 'Reviews' (X) and by the 'Rating' (y)\n",
    "\n",
    "The goal is to try to predict the 'Rating' after reading the 'Reviews'. I've prepared for you TRAIN and TEST set.\n",
    "The work to be done is as follows:\n",
    "\n",
    "1. Feature extraction and baseline\n",
    "   - read the dataset and understand it\n",
    "   - put it in a format so that you can use `CountVectorizer` or`Tf-IDF` to extract the desired features\n",
    "   - perform on the desired dates and preprocessing\n",
    "   - use one of the classifiers you know to predict the polarity of different sentences\n",
    "1. My first neural network\n",
    "   - reuse the features already extracted\n",
    "   - proposed a neural network built with Keras\n",
    "1. Hyper-parameter fitting\n",
    "   - for the base line: adjust min_df, max_df, ngram, max_features + model's hyper-parameter\n",
    "   - for the neural network: adjust batch size, number of layers and number of neuron by layers, use earlystop\n",
    "1. <span style=\"color:red\">Word embedding\n",
    "   - stage 1 build a network that uses Keras' embedding which is not language sensitive.\n",
    "   - stage 2 build a network that simultaneously uses Keras' embedding and the features extracted in the first weeks.\n",
    "   - stage 3 try to use an existing embedding (https://github.com/facebookresearch/MUSE)\n",
    "     </span>\n",
    "\n",
    "**WARNING:** the dataset is voluminous, I can only encourage you to work first on a small part of it and only at the end, when the code is well debugged and that it is necessary to build the \"final model\", to use the whole dataset.\n"
   ]
  },
  {
   "cell_type": "markdown",
   "metadata": {
    "id": "7SWzS9ujoUqI",
    "toc": true
   },
   "source": [
    "<h1>Table of Contents<span class=\"tocSkip\"></span></h1>\n",
    "<div class=\"toc\"><ul class=\"toc-item\"><li><span><a href=\"#Read-the-dataset\" data-toc-modified-id=\"Read-the-dataset-1\"><span class=\"toc-item-num\">1&nbsp;&nbsp;</span>Read the dataset</a></span></li><li><span><a href=\"#Text-normalisation\" data-toc-modified-id=\"Text-normalisation-2\"><span class=\"toc-item-num\">2&nbsp;&nbsp;</span>Text normalisation</a></span></li><li><span><a href=\"#Approach1---BOW-and-MLP-classifier\" data-toc-modified-id=\"Approach1---BOW-and-MLP-classifier-3\"><span class=\"toc-item-num\">3&nbsp;&nbsp;</span>Approach1 - BOW and MLP classifier</a></span></li><li><span><a href=\"#Approach2---Keras-word-embedding-and-MLP-classifier\" data-toc-modified-id=\"Approach2---Keras-word-embedding-and-MLP-classifier-4\"><span class=\"toc-item-num\">4&nbsp;&nbsp;</span>Approach2 - Keras word embedding and MLP classifier</a></span></li></ul></div>\n"
   ]
  },
  {
   "cell_type": "markdown",
   "metadata": {
    "id": "lLrXoRQ5oUqI"
   },
   "source": [
    "## Read the dataset\n",
    "\n",
    "Could you find below a proposal. You can complete them.\n"
   ]
  },
  {
   "cell_type": "code",
   "execution_count": 46,
   "metadata": {
    "ExecuteTime": {
     "end_time": "2022-01-25T18:51:58.151238Z",
     "start_time": "2022-01-25T18:51:58.143561Z"
    },
    "id": "uMZhHXxzoUqJ"
   },
   "outputs": [],
   "source": [
    "import os\n",
    "\n",
    "import numpy as np\n",
    "import pandas as pd\n",
    "import tensorflow as tf\n",
    "import tensorflow_addons as tfa\n",
    "from keras.layers import Dense, Embedding, Flatten, Input, TextVectorization\n",
    "from sklearn.feature_extraction.text import CountVectorizer, TfidfVectorizer\n",
    "from sklearn.metrics import f1_score\n",
    "from sklearn.preprocessing import OneHotEncoder\n",
    "from tensorflow.keras.callbacks import EarlyStopping\n",
    "from tensorflow.keras.models import Model, Sequential\n",
    "from tensorflow.keras.preprocessing.sequence import pad_sequences\n",
    "from tensorflow.keras.preprocessing.text import Tokenizer, one_hot\n",
    "from tensorflow_addons.metrics import F1Score\n"
   ]
  },
  {
   "cell_type": "code",
   "execution_count": 15,
   "metadata": {
    "ExecuteTime": {
     "end_time": "2022-01-25T18:51:59.283203Z",
     "start_time": "2022-01-25T18:51:58.181634Z"
    },
    "colab": {
     "base_uri": "https://localhost:8080/",
     "height": 204
    },
    "id": "gIXGN8IzoUqJ",
    "outputId": "f9cbed6e-5c8c-45cb-e083-4a9194f12157"
   },
   "outputs": [
    {
     "data": {
      "text/html": [
       "<div>\n",
       "<style scoped>\n",
       "    .dataframe tbody tr th:only-of-type {\n",
       "        vertical-align: middle;\n",
       "    }\n",
       "\n",
       "    .dataframe tbody tr th {\n",
       "        vertical-align: top;\n",
       "    }\n",
       "\n",
       "    .dataframe thead th {\n",
       "        text-align: right;\n",
       "    }\n",
       "</style>\n",
       "<table border=\"1\" class=\"dataframe\">\n",
       "  <thead>\n",
       "    <tr style=\"text-align: right;\">\n",
       "      <th></th>\n",
       "      <th>Product Name</th>\n",
       "      <th>Brand Name</th>\n",
       "      <th>Price</th>\n",
       "      <th>Rating</th>\n",
       "      <th>Reviews</th>\n",
       "      <th>Review Votes</th>\n",
       "    </tr>\n",
       "  </thead>\n",
       "  <tbody>\n",
       "    <tr>\n",
       "      <th>0</th>\n",
       "      <td>Samsung Galaxy Note 4 N910C Unlocked Cellphone...</td>\n",
       "      <td>Samsung</td>\n",
       "      <td>449.99</td>\n",
       "      <td>4</td>\n",
       "      <td>I love it!!! I absolutely love it!! 👌👍</td>\n",
       "      <td>0.0</td>\n",
       "    </tr>\n",
       "    <tr>\n",
       "      <th>1</th>\n",
       "      <td>BLU Energy X Plus Smartphone - With 4000 mAh S...</td>\n",
       "      <td>BLU</td>\n",
       "      <td>139.00</td>\n",
       "      <td>5</td>\n",
       "      <td>I love the BLU phones! This is my second one t...</td>\n",
       "      <td>4.0</td>\n",
       "    </tr>\n",
       "    <tr>\n",
       "      <th>2</th>\n",
       "      <td>Apple iPhone 6 128GB Silver AT&amp;T</td>\n",
       "      <td>Apple</td>\n",
       "      <td>599.95</td>\n",
       "      <td>5</td>\n",
       "      <td>Great phone</td>\n",
       "      <td>1.0</td>\n",
       "    </tr>\n",
       "    <tr>\n",
       "      <th>3</th>\n",
       "      <td>BLU Advance 4.0L Unlocked Smartphone -US GSM -...</td>\n",
       "      <td>BLU</td>\n",
       "      <td>51.99</td>\n",
       "      <td>4</td>\n",
       "      <td>Very happy with the performance. The apps work...</td>\n",
       "      <td>2.0</td>\n",
       "    </tr>\n",
       "    <tr>\n",
       "      <th>4</th>\n",
       "      <td>Huawei P8 Lite US Version- 5 Unlocked Android ...</td>\n",
       "      <td>Huawei</td>\n",
       "      <td>198.99</td>\n",
       "      <td>5</td>\n",
       "      <td>Easy to use great price</td>\n",
       "      <td>0.0</td>\n",
       "    </tr>\n",
       "  </tbody>\n",
       "</table>\n",
       "</div>"
      ],
      "text/plain": [
       "                                        Product Name Brand Name   Price  \\\n",
       "0  Samsung Galaxy Note 4 N910C Unlocked Cellphone...    Samsung  449.99   \n",
       "1  BLU Energy X Plus Smartphone - With 4000 mAh S...        BLU  139.00   \n",
       "2                   Apple iPhone 6 128GB Silver AT&T      Apple  599.95   \n",
       "3  BLU Advance 4.0L Unlocked Smartphone -US GSM -...        BLU   51.99   \n",
       "4  Huawei P8 Lite US Version- 5 Unlocked Android ...     Huawei  198.99   \n",
       "\n",
       "   Rating                                            Reviews  Review Votes  \n",
       "0       4             I love it!!! I absolutely love it!! 👌👍           0.0  \n",
       "1       5  I love the BLU phones! This is my second one t...           4.0  \n",
       "2       5                                        Great phone           1.0  \n",
       "3       4  Very happy with the performance. The apps work...           2.0  \n",
       "4       5                            Easy to use great price           0.0  "
      ]
     },
     "execution_count": 15,
     "metadata": {},
     "output_type": "execute_result"
    }
   ],
   "source": [
    "TRAIN = pd.read_csv(\n",
    "    \"http://www.i3s.unice.fr/~riveill/dataset/Amazon_Unlocked_Mobile/train.csv.gz\"\n",
    ")\n",
    "TEST = pd.read_csv(\n",
    "    \"http://www.i3s.unice.fr/~riveill/dataset/Amazon_Unlocked_Mobile/test.csv.gz\"\n",
    ")\n",
    "\n",
    "TRAIN.head()\n"
   ]
  },
  {
   "cell_type": "code",
   "execution_count": 19,
   "metadata": {
    "ExecuteTime": {
     "end_time": "2022-01-25T18:51:59.343941Z",
     "start_time": "2022-01-25T18:51:59.302031Z"
    },
    "colab": {
     "base_uri": "https://localhost:8080/"
    },
    "id": "WdeAXW40oUqJ",
    "outputId": "d99ac22b-c7e5-4c4a-f817-d8e25ff2a28c"
   },
   "outputs": [
    {
     "data": {
      "text/plain": [
       "((5000,), (5000, 5), array([1, 2, 3, 4, 5]))"
      ]
     },
     "execution_count": 19,
     "metadata": {},
     "output_type": "execute_result"
    }
   ],
   "source": [
    "\"\"\" Construct X_train and y_train \"\"\"\n",
    "X_train = TRAIN[\"Reviews\"]\n",
    "y_train = np.array(TRAIN[\"Rating\"]).reshape(-1, 1)\n",
    "\n",
    "X_test = TEST[\"Reviews\"]\n",
    "y_test = np.array(TEST[\"Rating\"]).reshape(-1, 1)\n",
    "\n",
    "nb_classes = len(np.unique(y_train))\n",
    "\n",
    "ohe = OneHotEncoder(sparse=False, handle_unknown=\"ignore\")\n",
    "y_train_enc = ohe.fit_transform(y_train)\n",
    "y_test_enc = ohe.fit_transform(y_test)\n",
    "\n",
    "X_train.shape, y_train_enc.shape, np.unique(y_train)\n"
   ]
  },
  {
   "cell_type": "markdown",
   "metadata": {
    "ExecuteTime": {
     "end_time": "2021-01-03T18:00:17.888390Z",
     "start_time": "2021-01-03T18:00:17.884865Z"
    },
    "id": "SDWDQSbEoUqL"
   },
   "source": [
    "## Approach1 - BOW and MLP classifier\n",
    "\n",
    "Using the course companion notebook, build a multi-layer perceptron using a BOW representation of the dataset and evaluate the model.\n",
    "\n",
    "The dataset being unbalanced the metric will be the f1 score.\n"
   ]
  },
  {
   "cell_type": "markdown",
   "metadata": {},
   "source": [
    "$$TO DO STUDENT$$\n",
    "\n",
    "> - Build BOW representation of the train and test set\n",
    "> - Fix a value for vocab_size = the maximum number of words to keep, based on word frequency. Only the most common vocab_size-1 words will be kept.\n"
   ]
  },
  {
   "cell_type": "code",
   "execution_count": 109,
   "metadata": {
    "ExecuteTime": {
     "end_time": "2022-01-25T18:51:59.435559Z",
     "start_time": "2022-01-25T18:51:59.417373Z"
    }
   },
   "outputs": [],
   "source": [
    "# Your code\n",
    "vocab_size = 10\n",
    "tokenize = Tokenizer(num_words=vocab_size, char_level=False)\n",
    "tokenize.fit_on_texts(X_train)\n",
    "X_train_enc = tokenize.texts_to_matrix(X_train, mode=\"tfidf\")\n",
    "X_test_enc = tokenize.texts_to_matrix(X_test, mode=\"tfidf\")\n"
   ]
  },
  {
   "cell_type": "markdown",
   "metadata": {
    "ExecuteTime": {
     "end_time": "2022-01-21T17:12:34.858519Z",
     "start_time": "2022-01-21T17:12:34.850825Z"
    }
   },
   "source": [
    "$$TO DO STUDENT$$\n",
    "\n",
    "> - Build an MLP and print the model (model.summary())\n"
   ]
  },
  {
   "cell_type": "code",
   "execution_count": 110,
   "metadata": {},
   "outputs": [
    {
     "name": "stdout",
     "output_type": "stream",
     "text": [
      "Model: \"sequential_18\"\n",
      "_________________________________________________________________\n",
      " Layer (type)                Output Shape              Param #   \n",
      "=================================================================\n",
      " hidden (Dense)              (None, 128)               1408      \n",
      "                                                                 \n",
      " output (Dense)              (None, 5)                 645       \n",
      "                                                                 \n",
      "=================================================================\n",
      "Total params: 2,053\n",
      "Trainable params: 2,053\n",
      "Non-trainable params: 0\n",
      "_________________________________________________________________\n"
     ]
    }
   ],
   "source": [
    "# build sequential model\n",
    "model = Sequential()\n",
    "model.add(Input(shape=(vocab_size,), name=\"input\", dtype=tf.float32))\n",
    "model.add(Dense(128, activation=\"relu\", name=\"hidden\"))\n",
    "model.add(Dense(5, activation=\"softmax\", name=\"output\"))\n",
    "model.build()\n",
    "model.summary()\n"
   ]
  },
  {
   "cell_type": "markdown",
   "metadata": {},
   "source": [
    "$$ TO DO STUDENT $$\n",
    "\n",
    "> - Compile the network\n",
    "> - Fit the network using EarlyStopping\n",
    "> - Babysit your model\n",
    "> - Evaluate the network with f1 score\n"
   ]
  },
  {
   "cell_type": "code",
   "execution_count": 111,
   "metadata": {},
   "outputs": [
    {
     "data": {
      "text/plain": [
       "array([[0., 0., 0., 1., 0.],\n",
       "       [0., 0., 0., 0., 1.],\n",
       "       [0., 0., 0., 0., 1.],\n",
       "       ...,\n",
       "       [0., 0., 0., 0., 1.],\n",
       "       [0., 0., 0., 0., 1.],\n",
       "       [0., 0., 0., 0., 1.]])"
      ]
     },
     "execution_count": 111,
     "metadata": {},
     "output_type": "execute_result"
    }
   ],
   "source": [
    "y_train_enc\n"
   ]
  },
  {
   "cell_type": "code",
   "execution_count": 129,
   "metadata": {
    "ExecuteTime": {
     "end_time": "2022-01-25T18:51:59.458052Z",
     "start_time": "2022-01-25T18:51:59.451081Z"
    },
    "colab": {
     "base_uri": "https://localhost:8080/"
    },
    "id": "m7EloujaoUqM",
    "outputId": "189dd8fa-293f-450c-e513-3d1cb094fe4d"
   },
   "outputs": [
    {
     "name": "stdout",
     "output_type": "stream",
     "text": [
      "Epoch 1/50\n",
      "157/157 [==============================] - 1s 2ms/step - loss: 1.1247 - f1_score: 0.3078\n",
      "Epoch 2/50\n",
      "157/157 [==============================] - 0s 2ms/step - loss: 1.1236 - f1_score: 0.3121\n",
      "Epoch 3/50\n",
      "157/157 [==============================] - 0s 2ms/step - loss: 1.1232 - f1_score: 0.3149\n",
      "Epoch 4/50\n",
      "157/157 [==============================] - 0s 2ms/step - loss: 1.1237 - f1_score: 0.3076\n",
      "Epoch 5/50\n",
      "157/157 [==============================] - 0s 1ms/step - loss: 1.1223 - f1_score: 0.3028\n",
      "Epoch 6/50\n",
      "157/157 [==============================] - 0s 1ms/step - loss: 1.1215 - f1_score: 0.3109\n",
      "Epoch 7/50\n",
      "157/157 [==============================] - 0s 1ms/step - loss: 1.1189 - f1_score: 0.3230\n",
      "Epoch 8/50\n",
      "157/157 [==============================] - 0s 1ms/step - loss: 1.1203 - f1_score: 0.3096\n",
      "Epoch 9/50\n",
      "157/157 [==============================] - 0s 1ms/step - loss: 1.1187 - f1_score: 0.3160\n",
      "Epoch 10/50\n",
      "157/157 [==============================] - 0s 1ms/step - loss: 1.1181 - f1_score: 0.3202\n",
      "Epoch 11/50\n",
      "157/157 [==============================] - 0s 1ms/step - loss: 1.1176 - f1_score: 0.3136\n",
      "Epoch 12/50\n",
      "157/157 [==============================] - 0s 1ms/step - loss: 1.1179 - f1_score: 0.3204\n",
      "Epoch 13/50\n",
      "157/157 [==============================] - 0s 1ms/step - loss: 1.1162 - f1_score: 0.3208\n",
      "Epoch 14/50\n",
      "157/157 [==============================] - 0s 1ms/step - loss: 1.1162 - f1_score: 0.3252\n",
      "Epoch 15/50\n",
      "157/157 [==============================] - 0s 2ms/step - loss: 1.1156 - f1_score: 0.3221\n",
      "Epoch 16/50\n",
      "157/157 [==============================] - 0s 1ms/step - loss: 1.1153 - f1_score: 0.3121\n",
      "Epoch 17/50\n",
      "157/157 [==============================] - 0s 1ms/step - loss: 1.1163 - f1_score: 0.3133\n",
      "Epoch 18/50\n",
      "157/157 [==============================] - 0s 1ms/step - loss: 1.1129 - f1_score: 0.3269\n",
      "Epoch 19/50\n",
      "157/157 [==============================] - 0s 2ms/step - loss: 1.1134 - f1_score: 0.3233\n",
      "Epoch 20/50\n",
      "157/157 [==============================] - 0s 1ms/step - loss: 1.1160 - f1_score: 0.3257\n",
      "Epoch 21/50\n",
      "157/157 [==============================] - 0s 1ms/step - loss: 1.1130 - f1_score: 0.3304\n",
      "Epoch 22/50\n",
      "157/157 [==============================] - 0s 1ms/step - loss: 1.1119 - f1_score: 0.3323\n",
      "Epoch 23/50\n",
      "157/157 [==============================] - 0s 1ms/step - loss: 1.1132 - f1_score: 0.3215\n",
      "Epoch 24/50\n",
      "157/157 [==============================] - 0s 1ms/step - loss: 1.1098 - f1_score: 0.3302\n",
      "Epoch 25/50\n",
      "157/157 [==============================] - 0s 1ms/step - loss: 1.1101 - f1_score: 0.3243\n",
      "Epoch 26/50\n",
      "157/157 [==============================] - 0s 1ms/step - loss: 1.1106 - f1_score: 0.3217\n",
      "Epoch 27/50\n",
      "157/157 [==============================] - 0s 1ms/step - loss: 1.1107 - f1_score: 0.3343\n",
      "Epoch 28/50\n",
      "157/157 [==============================] - 0s 1ms/step - loss: 1.1094 - f1_score: 0.3297\n",
      "Epoch 29/50\n",
      "157/157 [==============================] - 0s 1ms/step - loss: 1.1074 - f1_score: 0.3298\n",
      "Epoch 30/50\n",
      "157/157 [==============================] - 0s 1ms/step - loss: 1.1079 - f1_score: 0.3404\n",
      "Epoch 31/50\n",
      "157/157 [==============================] - 0s 1ms/step - loss: 1.1059 - f1_score: 0.3362\n",
      "Epoch 32/50\n",
      "157/157 [==============================] - 0s 1ms/step - loss: 1.1066 - f1_score: 0.3349\n",
      "Epoch 33/50\n",
      "157/157 [==============================] - 0s 2ms/step - loss: 1.1056 - f1_score: 0.3415\n",
      "Epoch 34/50\n",
      "157/157 [==============================] - 0s 1ms/step - loss: 1.1053 - f1_score: 0.3390\n",
      "Epoch 35/50\n",
      "157/157 [==============================] - 0s 1ms/step - loss: 1.1036 - f1_score: 0.3402\n",
      "Epoch 36/50\n",
      "157/157 [==============================] - 0s 1ms/step - loss: 1.1059 - f1_score: 0.3323\n",
      "Epoch 37/50\n",
      "157/157 [==============================] - 0s 1ms/step - loss: 1.1037 - f1_score: 0.3484\n",
      "Epoch 38/50\n",
      "157/157 [==============================] - 0s 1ms/step - loss: 1.1033 - f1_score: 0.3363\n",
      "Epoch 39/50\n",
      "157/157 [==============================] - 0s 1ms/step - loss: 1.1028 - f1_score: 0.3432\n",
      "Epoch 40/50\n",
      "157/157 [==============================] - 0s 1ms/step - loss: 1.1025 - f1_score: 0.3365\n",
      "Epoch 41/50\n",
      "157/157 [==============================] - 0s 1ms/step - loss: 1.1001 - f1_score: 0.3539\n",
      "Epoch 42/50\n",
      "157/157 [==============================] - 0s 1ms/step - loss: 1.1001 - f1_score: 0.3354\n",
      "Epoch 43/50\n",
      "157/157 [==============================] - 0s 1ms/step - loss: 1.1016 - f1_score: 0.3392\n",
      "Epoch 44/50\n",
      "157/157 [==============================] - 0s 1ms/step - loss: 1.1006 - f1_score: 0.3419\n",
      "Epoch 45/50\n",
      "157/157 [==============================] - 0s 1ms/step - loss: 1.1007 - f1_score: 0.3440\n",
      "Epoch 00045: early stopping\n"
     ]
    }
   ],
   "source": [
    "## compile the model with f1 metrics\n",
    "# define F1Score instance\n",
    "\n",
    "f1_score_name = \"f1_score\"\n",
    "f1 = F1Score(\n",
    "    num_classes=len(np.unique(y_test)),\n",
    "    name=f1_score_name,\n",
    "    average=\"macro\",\n",
    ")\n",
    "# compile model\n",
    "model.compile(\n",
    "    optimizer=\"adam\",\n",
    "    loss=\"categorical_crossentropy\",\n",
    "    metrics=[f1],\n",
    ")\n",
    "\n",
    "# define early stopping\n",
    "early_stop = EarlyStopping(monitor=f1_score_name, patience=40, verbose=2)\n",
    "\n",
    "# fit model using early stopping\n",
    "history = model.fit(\n",
    "    X_train_enc,\n",
    "    y_train_enc,\n",
    "    # batch_size=5,\n",
    "    epochs=50,\n",
    "    verbose=1,\n",
    "    callbacks=[early_stop],\n",
    "    workers=6,\n",
    "    use_multiprocessing=True,\n",
    ")\n"
   ]
  },
  {
   "cell_type": "code",
   "execution_count": 130,
   "metadata": {
    "ExecuteTime": {
     "end_time": "2022-01-25T18:52:08.205615Z",
     "start_time": "2022-01-25T18:52:02.879433Z"
    }
   },
   "outputs": [
    {
     "data": {
      "application/vnd.plotly.v1+json": {
       "config": {
        "plotlyServerURL": "https://plot.ly"
       },
       "data": [
        {
         "hovertemplate": "variable=f1_score<br>index=%{x}<br>value=%{y}<extra></extra>",
         "legendgroup": "f1_score",
         "line": {
          "color": "#636efa",
          "dash": "solid"
         },
         "marker": {
          "symbol": "circle"
         },
         "mode": "lines",
         "name": "f1_score",
         "orientation": "v",
         "showlegend": true,
         "type": "scatter",
         "x": [
          0,
          1,
          2,
          3,
          4,
          5,
          6,
          7,
          8,
          9,
          10,
          11,
          12,
          13,
          14,
          15,
          16,
          17,
          18,
          19,
          20,
          21,
          22,
          23,
          24,
          25,
          26,
          27,
          28,
          29,
          30,
          31,
          32,
          33,
          34,
          35,
          36,
          37,
          38,
          39,
          40,
          41,
          42,
          43,
          44
         ],
         "xaxis": "x",
         "y": [
          0.30777692794799805,
          0.31208336353302,
          0.3149472773075104,
          0.3076122999191284,
          0.3028426468372345,
          0.31088942289352417,
          0.3230142593383789,
          0.30957701802253723,
          0.3159887194633484,
          0.320213258266449,
          0.3135939836502075,
          0.32035955786705017,
          0.3207883834838867,
          0.32516980171203613,
          0.3220897614955902,
          0.3120799958705902,
          0.3133438527584076,
          0.32693105936050415,
          0.3233480155467987,
          0.32566675543785095,
          0.33035510778427124,
          0.33232179284095764,
          0.3214814364910126,
          0.3301541805267334,
          0.3243037760257721,
          0.3217245638370514,
          0.3342559337615967,
          0.32973983883857727,
          0.3298484683036804,
          0.3404151201248169,
          0.33621639013290405,
          0.334927499294281,
          0.34148868918418884,
          0.3389918804168701,
          0.34021466970443726,
          0.3322855830192566,
          0.34841668605804443,
          0.3363235890865326,
          0.34316521883010864,
          0.3364529013633728,
          0.3538963198661804,
          0.3353666365146637,
          0.33922821283340454,
          0.3418866991996765,
          0.3439805507659912
         ],
         "yaxis": "y"
        }
       ],
       "layout": {
        "legend": {
         "title": {
          "text": "variable"
         },
         "tracegroupgap": 0
        },
        "margin": {
         "t": 60
        },
        "template": {
         "data": {
          "bar": [
           {
            "error_x": {
             "color": "#2a3f5f"
            },
            "error_y": {
             "color": "#2a3f5f"
            },
            "marker": {
             "line": {
              "color": "#E5ECF6",
              "width": 0.5
             },
             "pattern": {
              "fillmode": "overlay",
              "size": 10,
              "solidity": 0.2
             }
            },
            "type": "bar"
           }
          ],
          "barpolar": [
           {
            "marker": {
             "line": {
              "color": "#E5ECF6",
              "width": 0.5
             },
             "pattern": {
              "fillmode": "overlay",
              "size": 10,
              "solidity": 0.2
             }
            },
            "type": "barpolar"
           }
          ],
          "carpet": [
           {
            "aaxis": {
             "endlinecolor": "#2a3f5f",
             "gridcolor": "white",
             "linecolor": "white",
             "minorgridcolor": "white",
             "startlinecolor": "#2a3f5f"
            },
            "baxis": {
             "endlinecolor": "#2a3f5f",
             "gridcolor": "white",
             "linecolor": "white",
             "minorgridcolor": "white",
             "startlinecolor": "#2a3f5f"
            },
            "type": "carpet"
           }
          ],
          "choropleth": [
           {
            "colorbar": {
             "outlinewidth": 0,
             "ticks": ""
            },
            "type": "choropleth"
           }
          ],
          "contour": [
           {
            "colorbar": {
             "outlinewidth": 0,
             "ticks": ""
            },
            "colorscale": [
             [
              0,
              "#0d0887"
             ],
             [
              0.1111111111111111,
              "#46039f"
             ],
             [
              0.2222222222222222,
              "#7201a8"
             ],
             [
              0.3333333333333333,
              "#9c179e"
             ],
             [
              0.4444444444444444,
              "#bd3786"
             ],
             [
              0.5555555555555556,
              "#d8576b"
             ],
             [
              0.6666666666666666,
              "#ed7953"
             ],
             [
              0.7777777777777778,
              "#fb9f3a"
             ],
             [
              0.8888888888888888,
              "#fdca26"
             ],
             [
              1,
              "#f0f921"
             ]
            ],
            "type": "contour"
           }
          ],
          "contourcarpet": [
           {
            "colorbar": {
             "outlinewidth": 0,
             "ticks": ""
            },
            "type": "contourcarpet"
           }
          ],
          "heatmap": [
           {
            "colorbar": {
             "outlinewidth": 0,
             "ticks": ""
            },
            "colorscale": [
             [
              0,
              "#0d0887"
             ],
             [
              0.1111111111111111,
              "#46039f"
             ],
             [
              0.2222222222222222,
              "#7201a8"
             ],
             [
              0.3333333333333333,
              "#9c179e"
             ],
             [
              0.4444444444444444,
              "#bd3786"
             ],
             [
              0.5555555555555556,
              "#d8576b"
             ],
             [
              0.6666666666666666,
              "#ed7953"
             ],
             [
              0.7777777777777778,
              "#fb9f3a"
             ],
             [
              0.8888888888888888,
              "#fdca26"
             ],
             [
              1,
              "#f0f921"
             ]
            ],
            "type": "heatmap"
           }
          ],
          "heatmapgl": [
           {
            "colorbar": {
             "outlinewidth": 0,
             "ticks": ""
            },
            "colorscale": [
             [
              0,
              "#0d0887"
             ],
             [
              0.1111111111111111,
              "#46039f"
             ],
             [
              0.2222222222222222,
              "#7201a8"
             ],
             [
              0.3333333333333333,
              "#9c179e"
             ],
             [
              0.4444444444444444,
              "#bd3786"
             ],
             [
              0.5555555555555556,
              "#d8576b"
             ],
             [
              0.6666666666666666,
              "#ed7953"
             ],
             [
              0.7777777777777778,
              "#fb9f3a"
             ],
             [
              0.8888888888888888,
              "#fdca26"
             ],
             [
              1,
              "#f0f921"
             ]
            ],
            "type": "heatmapgl"
           }
          ],
          "histogram": [
           {
            "marker": {
             "pattern": {
              "fillmode": "overlay",
              "size": 10,
              "solidity": 0.2
             }
            },
            "type": "histogram"
           }
          ],
          "histogram2d": [
           {
            "colorbar": {
             "outlinewidth": 0,
             "ticks": ""
            },
            "colorscale": [
             [
              0,
              "#0d0887"
             ],
             [
              0.1111111111111111,
              "#46039f"
             ],
             [
              0.2222222222222222,
              "#7201a8"
             ],
             [
              0.3333333333333333,
              "#9c179e"
             ],
             [
              0.4444444444444444,
              "#bd3786"
             ],
             [
              0.5555555555555556,
              "#d8576b"
             ],
             [
              0.6666666666666666,
              "#ed7953"
             ],
             [
              0.7777777777777778,
              "#fb9f3a"
             ],
             [
              0.8888888888888888,
              "#fdca26"
             ],
             [
              1,
              "#f0f921"
             ]
            ],
            "type": "histogram2d"
           }
          ],
          "histogram2dcontour": [
           {
            "colorbar": {
             "outlinewidth": 0,
             "ticks": ""
            },
            "colorscale": [
             [
              0,
              "#0d0887"
             ],
             [
              0.1111111111111111,
              "#46039f"
             ],
             [
              0.2222222222222222,
              "#7201a8"
             ],
             [
              0.3333333333333333,
              "#9c179e"
             ],
             [
              0.4444444444444444,
              "#bd3786"
             ],
             [
              0.5555555555555556,
              "#d8576b"
             ],
             [
              0.6666666666666666,
              "#ed7953"
             ],
             [
              0.7777777777777778,
              "#fb9f3a"
             ],
             [
              0.8888888888888888,
              "#fdca26"
             ],
             [
              1,
              "#f0f921"
             ]
            ],
            "type": "histogram2dcontour"
           }
          ],
          "mesh3d": [
           {
            "colorbar": {
             "outlinewidth": 0,
             "ticks": ""
            },
            "type": "mesh3d"
           }
          ],
          "parcoords": [
           {
            "line": {
             "colorbar": {
              "outlinewidth": 0,
              "ticks": ""
             }
            },
            "type": "parcoords"
           }
          ],
          "pie": [
           {
            "automargin": true,
            "type": "pie"
           }
          ],
          "scatter": [
           {
            "marker": {
             "colorbar": {
              "outlinewidth": 0,
              "ticks": ""
             }
            },
            "type": "scatter"
           }
          ],
          "scatter3d": [
           {
            "line": {
             "colorbar": {
              "outlinewidth": 0,
              "ticks": ""
             }
            },
            "marker": {
             "colorbar": {
              "outlinewidth": 0,
              "ticks": ""
             }
            },
            "type": "scatter3d"
           }
          ],
          "scattercarpet": [
           {
            "marker": {
             "colorbar": {
              "outlinewidth": 0,
              "ticks": ""
             }
            },
            "type": "scattercarpet"
           }
          ],
          "scattergeo": [
           {
            "marker": {
             "colorbar": {
              "outlinewidth": 0,
              "ticks": ""
             }
            },
            "type": "scattergeo"
           }
          ],
          "scattergl": [
           {
            "marker": {
             "colorbar": {
              "outlinewidth": 0,
              "ticks": ""
             }
            },
            "type": "scattergl"
           }
          ],
          "scattermapbox": [
           {
            "marker": {
             "colorbar": {
              "outlinewidth": 0,
              "ticks": ""
             }
            },
            "type": "scattermapbox"
           }
          ],
          "scatterpolar": [
           {
            "marker": {
             "colorbar": {
              "outlinewidth": 0,
              "ticks": ""
             }
            },
            "type": "scatterpolar"
           }
          ],
          "scatterpolargl": [
           {
            "marker": {
             "colorbar": {
              "outlinewidth": 0,
              "ticks": ""
             }
            },
            "type": "scatterpolargl"
           }
          ],
          "scatterternary": [
           {
            "marker": {
             "colorbar": {
              "outlinewidth": 0,
              "ticks": ""
             }
            },
            "type": "scatterternary"
           }
          ],
          "surface": [
           {
            "colorbar": {
             "outlinewidth": 0,
             "ticks": ""
            },
            "colorscale": [
             [
              0,
              "#0d0887"
             ],
             [
              0.1111111111111111,
              "#46039f"
             ],
             [
              0.2222222222222222,
              "#7201a8"
             ],
             [
              0.3333333333333333,
              "#9c179e"
             ],
             [
              0.4444444444444444,
              "#bd3786"
             ],
             [
              0.5555555555555556,
              "#d8576b"
             ],
             [
              0.6666666666666666,
              "#ed7953"
             ],
             [
              0.7777777777777778,
              "#fb9f3a"
             ],
             [
              0.8888888888888888,
              "#fdca26"
             ],
             [
              1,
              "#f0f921"
             ]
            ],
            "type": "surface"
           }
          ],
          "table": [
           {
            "cells": {
             "fill": {
              "color": "#EBF0F8"
             },
             "line": {
              "color": "white"
             }
            },
            "header": {
             "fill": {
              "color": "#C8D4E3"
             },
             "line": {
              "color": "white"
             }
            },
            "type": "table"
           }
          ]
         },
         "layout": {
          "annotationdefaults": {
           "arrowcolor": "#2a3f5f",
           "arrowhead": 0,
           "arrowwidth": 1
          },
          "autotypenumbers": "strict",
          "coloraxis": {
           "colorbar": {
            "outlinewidth": 0,
            "ticks": ""
           }
          },
          "colorscale": {
           "diverging": [
            [
             0,
             "#8e0152"
            ],
            [
             0.1,
             "#c51b7d"
            ],
            [
             0.2,
             "#de77ae"
            ],
            [
             0.3,
             "#f1b6da"
            ],
            [
             0.4,
             "#fde0ef"
            ],
            [
             0.5,
             "#f7f7f7"
            ],
            [
             0.6,
             "#e6f5d0"
            ],
            [
             0.7,
             "#b8e186"
            ],
            [
             0.8,
             "#7fbc41"
            ],
            [
             0.9,
             "#4d9221"
            ],
            [
             1,
             "#276419"
            ]
           ],
           "sequential": [
            [
             0,
             "#0d0887"
            ],
            [
             0.1111111111111111,
             "#46039f"
            ],
            [
             0.2222222222222222,
             "#7201a8"
            ],
            [
             0.3333333333333333,
             "#9c179e"
            ],
            [
             0.4444444444444444,
             "#bd3786"
            ],
            [
             0.5555555555555556,
             "#d8576b"
            ],
            [
             0.6666666666666666,
             "#ed7953"
            ],
            [
             0.7777777777777778,
             "#fb9f3a"
            ],
            [
             0.8888888888888888,
             "#fdca26"
            ],
            [
             1,
             "#f0f921"
            ]
           ],
           "sequentialminus": [
            [
             0,
             "#0d0887"
            ],
            [
             0.1111111111111111,
             "#46039f"
            ],
            [
             0.2222222222222222,
             "#7201a8"
            ],
            [
             0.3333333333333333,
             "#9c179e"
            ],
            [
             0.4444444444444444,
             "#bd3786"
            ],
            [
             0.5555555555555556,
             "#d8576b"
            ],
            [
             0.6666666666666666,
             "#ed7953"
            ],
            [
             0.7777777777777778,
             "#fb9f3a"
            ],
            [
             0.8888888888888888,
             "#fdca26"
            ],
            [
             1,
             "#f0f921"
            ]
           ]
          },
          "colorway": [
           "#636efa",
           "#EF553B",
           "#00cc96",
           "#ab63fa",
           "#FFA15A",
           "#19d3f3",
           "#FF6692",
           "#B6E880",
           "#FF97FF",
           "#FECB52"
          ],
          "font": {
           "color": "#2a3f5f"
          },
          "geo": {
           "bgcolor": "white",
           "lakecolor": "white",
           "landcolor": "#E5ECF6",
           "showlakes": true,
           "showland": true,
           "subunitcolor": "white"
          },
          "hoverlabel": {
           "align": "left"
          },
          "hovermode": "closest",
          "mapbox": {
           "style": "light"
          },
          "paper_bgcolor": "white",
          "plot_bgcolor": "#E5ECF6",
          "polar": {
           "angularaxis": {
            "gridcolor": "white",
            "linecolor": "white",
            "ticks": ""
           },
           "bgcolor": "#E5ECF6",
           "radialaxis": {
            "gridcolor": "white",
            "linecolor": "white",
            "ticks": ""
           }
          },
          "scene": {
           "xaxis": {
            "backgroundcolor": "#E5ECF6",
            "gridcolor": "white",
            "gridwidth": 2,
            "linecolor": "white",
            "showbackground": true,
            "ticks": "",
            "zerolinecolor": "white"
           },
           "yaxis": {
            "backgroundcolor": "#E5ECF6",
            "gridcolor": "white",
            "gridwidth": 2,
            "linecolor": "white",
            "showbackground": true,
            "ticks": "",
            "zerolinecolor": "white"
           },
           "zaxis": {
            "backgroundcolor": "#E5ECF6",
            "gridcolor": "white",
            "gridwidth": 2,
            "linecolor": "white",
            "showbackground": true,
            "ticks": "",
            "zerolinecolor": "white"
           }
          },
          "shapedefaults": {
           "line": {
            "color": "#2a3f5f"
           }
          },
          "ternary": {
           "aaxis": {
            "gridcolor": "white",
            "linecolor": "white",
            "ticks": ""
           },
           "baxis": {
            "gridcolor": "white",
            "linecolor": "white",
            "ticks": ""
           },
           "bgcolor": "#E5ECF6",
           "caxis": {
            "gridcolor": "white",
            "linecolor": "white",
            "ticks": ""
           }
          },
          "title": {
           "x": 0.05
          },
          "xaxis": {
           "automargin": true,
           "gridcolor": "white",
           "linecolor": "white",
           "ticks": "",
           "title": {
            "standoff": 15
           },
           "zerolinecolor": "white",
           "zerolinewidth": 2
          },
          "yaxis": {
           "automargin": true,
           "gridcolor": "white",
           "linecolor": "white",
           "ticks": "",
           "title": {
            "standoff": 15
           },
           "zerolinecolor": "white",
           "zerolinewidth": 2
          }
         }
        },
        "xaxis": {
         "anchor": "y",
         "domain": [
          0,
          1
         ],
         "title": {
          "text": "index"
         }
        },
        "yaxis": {
         "anchor": "x",
         "domain": [
          0,
          1
         ],
         "title": {
          "text": "value"
         }
        }
       }
      }
     },
     "metadata": {},
     "output_type": "display_data"
    }
   ],
   "source": [
    "import plotly.express as px\n",
    "\n",
    "# Babysit the model - use you favourite plot\n",
    "px.line(\n",
    "    pd.DataFrame(\n",
    "        {  #'val_loss':history.history['val_loss'],\n",
    "            #'loss':history.history['loss'],\n",
    "            #'val_f1_score':history.history['val_f1_score'],\n",
    "            \"f1_score\": history.history[\"f1_score\"],\n",
    "            #'val_accuracy':history.history['val_accuracy'],\n",
    "            #'accuracy':history.history['accuracy']\n",
    "        }\n",
    "    )\n",
    ")\n"
   ]
  },
  {
   "cell_type": "code",
   "execution_count": 131,
   "metadata": {
    "ExecuteTime": {
     "end_time": "2022-01-25T18:52:15.716618Z",
     "start_time": "2022-01-25T18:52:15.704147Z"
    }
   },
   "outputs": [
    {
     "name": "stdout",
     "output_type": "stream",
     "text": [
      "32/32 [==============================] - 0s 1ms/step - loss: 1.2750 - f1_score: 0.2267\n"
     ]
    },
    {
     "data": {
      "text/plain": [
       "[1.2750011682510376, 0.22666092216968536]"
      ]
     },
     "execution_count": 131,
     "metadata": {},
     "output_type": "execute_result"
    }
   ],
   "source": [
    "# Evaluate the model with f1 metrics (Tensorflow f1 metrics or sklearn)\n",
    "model.evaluate(X_test_enc, y_test_enc)\n"
   ]
  },
  {
   "cell_type": "markdown",
   "metadata": {
    "id": "N4BohkzOoUqO"
   },
   "source": [
    "## Approach2 - Keras word embedding and MLP classifier\n",
    "\n",
    "Using the course companion notebook, build a multi-layer perceptron using an Embedding Keras layer and the same classifier as in approach 1. Evaluate the model.\n"
   ]
  },
  {
   "cell_type": "markdown",
   "metadata": {},
   "source": [
    "$$ TO DO STUDENTS $$\n",
    "\n",
    "> - fix the max_lengh of a review (max number of token in a review)\n",
    "> - use the same vocab_size as previously\n",
    "> - fix the embedding dimension (embed_dim variable)\n"
   ]
  },
  {
   "cell_type": "code",
   "execution_count": 134,
   "metadata": {
    "ExecuteTime": {
     "end_time": "2022-01-22T16:07:40.982620Z",
     "start_time": "2022-01-22T16:07:40.978854Z"
    }
   },
   "outputs": [],
   "source": [
    "max_len = 100  # Sequence length to pad the outputs to\n",
    "# In order to fix it, you have to know the distribution on lengh... see first lab\n",
    "embed_dim = 300  # embedding dimension\n"
   ]
  },
  {
   "cell_type": "markdown",
   "metadata": {},
   "source": [
    "$$ TO DO STUDENTS $$\n",
    "\n",
    "> - Create a vectorizer_layer with TextVectorization function\n",
    "> - Fit the vectorizer_layer (adapt function\n"
   ]
  },
  {
   "cell_type": "code",
   "execution_count": 13,
   "metadata": {
    "ExecuteTime": {
     "end_time": "2022-01-25T18:52:20.520759Z",
     "start_time": "2022-01-25T18:52:20.510528Z"
    }
   },
   "outputs": [],
   "source": [
    "# TextVectorization(max_tokens=max_len,)"
   ]
  },
  {
   "cell_type": "markdown",
   "metadata": {},
   "source": [
    "$$TO DO STUDENT$$\n",
    "\n",
    "> - Build an MLP and print the model (model.summary())\n"
   ]
  },
  {
   "cell_type": "code",
   "execution_count": 14,
   "metadata": {
    "ExecuteTime": {
     "end_time": "2022-01-25T18:52:21.254213Z",
     "start_time": "2022-01-25T18:52:21.244686Z"
    },
    "colab": {
     "base_uri": "https://localhost:8080/"
    },
    "id": "B4BPv2OGoUqO",
    "outputId": "4cbf391a-81b9-447d-a0af-d6b469f85e2b"
   },
   "outputs": [],
   "source": [
    "# Your code... perhaps you need to use Flatten after Embedding in order to reduce the dimension of tensors\n",
    "# Your code\n"
   ]
  },
  {
   "cell_type": "markdown",
   "metadata": {},
   "source": [
    "$$ TO DO STUDENT $$\n",
    "\n",
    "> - Compile the network\n",
    "> - Fit the network using EarlyStopping\n",
    "> - Babysit your model\n",
    "> - Evaluate the network with f1 score\n"
   ]
  },
  {
   "cell_type": "code",
   "execution_count": 15,
   "metadata": {
    "ExecuteTime": {
     "end_time": "2022-01-25T18:52:22.548119Z",
     "start_time": "2022-01-25T18:52:22.525400Z"
    },
    "colab": {
     "base_uri": "https://localhost:8080/"
    },
    "id": "C7oN2bZkoUqP",
    "outputId": "8d7d5b26-b925-4e79-ad97-7aecd8980243"
   },
   "outputs": [],
   "source": [
    "# compile the model with metrics f1 score\n",
    "# Your code\n"
   ]
  },
  {
   "cell_type": "code",
   "execution_count": 16,
   "metadata": {
    "ExecuteTime": {
     "end_time": "2022-01-25T18:52:23.009408Z",
     "start_time": "2022-01-25T18:52:23.002836Z"
    },
    "colab": {
     "base_uri": "https://localhost:8080/",
     "height": 295
    },
    "id": "ZJjc2ISZoUqP",
    "outputId": "4585f6aa-bda8-4d82-885f-cece12094694"
   },
   "outputs": [],
   "source": [
    "# fit model using ealy stopping\n",
    "# Your code\n"
   ]
  },
  {
   "cell_type": "code",
   "execution_count": 17,
   "metadata": {
    "ExecuteTime": {
     "end_time": "2022-01-25T18:52:23.547244Z",
     "start_time": "2022-01-25T18:52:23.306348Z"
    },
    "colab": {
     "base_uri": "https://localhost:8080/"
    },
    "id": "1XWqf1QKoUqQ",
    "outputId": "3c73908b-3066-4c32-92f8-df458dc7f8cb"
   },
   "outputs": [
    {
     "ename": "NameError",
     "evalue": "name 'history' is not defined",
     "output_type": "error",
     "traceback": [
      "\u001b[0;31m---------------------------------------------------------------------------\u001b[0m",
      "\u001b[0;31mNameError\u001b[0m                                 Traceback (most recent call last)",
      "\u001b[0;32m/var/folders/l4/ptzjj6dn0_x5trgl90dc98g40000gn/T/ipykernel_20549/1799899310.py\u001b[0m in \u001b[0;36m<module>\u001b[0;34m\u001b[0m\n\u001b[1;32m      1\u001b[0m \u001b[0;31m# Babysit the model\u001b[0m\u001b[0;34m\u001b[0m\u001b[0;34m\u001b[0m\u001b[0;34m\u001b[0m\u001b[0m\n\u001b[0;32m----> 2\u001b[0;31m pd.DataFrame({'val_loss':history.history['val_loss'],\n\u001b[0m\u001b[1;32m      3\u001b[0m               \u001b[0;34m'loss'\u001b[0m\u001b[0;34m:\u001b[0m\u001b[0mhistory\u001b[0m\u001b[0;34m.\u001b[0m\u001b[0mhistory\u001b[0m\u001b[0;34m[\u001b[0m\u001b[0;34m'loss'\u001b[0m\u001b[0;34m]\u001b[0m\u001b[0;34m,\u001b[0m\u001b[0;34m\u001b[0m\u001b[0;34m\u001b[0m\u001b[0m\n\u001b[1;32m      4\u001b[0m              \u001b[0;34m'val_f1_score'\u001b[0m\u001b[0;34m:\u001b[0m\u001b[0mhistory\u001b[0m\u001b[0;34m.\u001b[0m\u001b[0mhistory\u001b[0m\u001b[0;34m[\u001b[0m\u001b[0;34m'val_f1_score'\u001b[0m\u001b[0;34m]\u001b[0m\u001b[0;34m,\u001b[0m\u001b[0;34m\u001b[0m\u001b[0;34m\u001b[0m\u001b[0m\n\u001b[1;32m      5\u001b[0m               'f1_score':history.history['f1_score']}).plot(figsize=(8,5))\n",
      "\u001b[0;31mNameError\u001b[0m: name 'history' is not defined"
     ]
    }
   ],
   "source": [
    "# Babysit the model\n",
    "pd.DataFrame(\n",
    "    {\n",
    "        \"val_loss\": history.history[\"val_loss\"],\n",
    "        \"loss\": history.history[\"loss\"],\n",
    "        \"val_f1_score\": history.history[\"val_f1_score\"],\n",
    "        \"f1_score\": history.history[\"f1_score\"],\n",
    "    }\n",
    ").plot(figsize=(8, 5))\n"
   ]
  },
  {
   "cell_type": "code",
   "execution_count": 18,
   "metadata": {
    "ExecuteTime": {
     "end_time": "2022-01-25T18:52:23.656331Z",
     "start_time": "2022-01-25T18:52:23.650537Z"
    },
    "colab": {
     "base_uri": "https://localhost:8080/"
    },
    "id": "3I9EmdInoUqQ",
    "outputId": "2b7de358-c515-4d89-e452-a63e38bc1577"
   },
   "outputs": [],
   "source": [
    "# Evaluate the model\n",
    "# Your code\n"
   ]
  },
  {
   "cell_type": "markdown",
   "metadata": {},
   "source": [
    "## Approach3 - Word embedding and MLP classifier\n",
    "\n",
    "Using the course companion notebook, build a multi-layer perceptron using an existing embedding matrix (Word2Vec / Glove or FastText), or on an embedding matrix that you will have built using Gensim.\n",
    "\n",
    "Use the same constant as a previous steps.\n",
    "\n",
    "Evaluate the model.\n"
   ]
  },
  {
   "cell_type": "code",
   "execution_count": null,
   "metadata": {
    "ExecuteTime": {
     "end_time": "2022-01-22T16:10:34.090507Z",
     "start_time": "2022-01-22T16:10:33.791036Z"
    }
   },
   "outputs": [],
   "source": [
    "# Same steps as Keras Embedding\n",
    "# Your code\n"
   ]
  },
  {
   "cell_type": "code",
   "execution_count": null,
   "metadata": {
    "ExecuteTime": {
     "end_time": "2022-01-22T16:10:34.616434Z",
     "start_time": "2022-01-22T16:10:34.608449Z"
    }
   },
   "outputs": [],
   "source": [
    "# Build word dict\n",
    "# Your code\n"
   ]
  },
  {
   "cell_type": "code",
   "execution_count": null,
   "metadata": {
    "ExecuteTime": {
     "end_time": "2022-01-22T16:10:40.482971Z",
     "start_time": "2022-01-22T16:10:35.796195Z"
    }
   },
   "outputs": [],
   "source": [
    "# Make a dict mapping words (strings) to their NumPy vector representation:\n",
    "# Your code\n"
   ]
  },
  {
   "cell_type": "code",
   "execution_count": null,
   "metadata": {
    "ExecuteTime": {
     "end_time": "2022-01-22T16:10:40.501686Z",
     "start_time": "2022-01-22T16:10:40.486672Z"
    }
   },
   "outputs": [],
   "source": [
    "# Prepare embedding matrix\n",
    "# Your code\n"
   ]
  },
  {
   "cell_type": "code",
   "execution_count": null,
   "metadata": {
    "ExecuteTime": {
     "end_time": "2022-01-22T16:10:40.514550Z",
     "start_time": "2022-01-22T16:10:40.505765Z"
    }
   },
   "outputs": [],
   "source": [
    "# Define embedding layers\n",
    "# Your code\n"
   ]
  },
  {
   "cell_type": "code",
   "execution_count": null,
   "metadata": {
    "ExecuteTime": {
     "end_time": "2022-01-22T16:10:40.595998Z",
     "start_time": "2022-01-22T16:10:40.520383Z"
    }
   },
   "outputs": [],
   "source": [
    "# define the model\n",
    "# Your code\n"
   ]
  },
  {
   "cell_type": "code",
   "execution_count": null,
   "metadata": {
    "ExecuteTime": {
     "end_time": "2022-01-22T16:12:53.907137Z",
     "start_time": "2022-01-22T16:12:53.889560Z"
    }
   },
   "outputs": [],
   "source": [
    "# compile the model\n",
    "# Your code\n"
   ]
  },
  {
   "cell_type": "code",
   "execution_count": null,
   "metadata": {
    "ExecuteTime": {
     "end_time": "2022-01-22T16:13:10.014860Z",
     "start_time": "2022-01-22T16:12:54.629020Z"
    }
   },
   "outputs": [],
   "source": [
    "# fit model using ealy stopping\n",
    "# Your code\n"
   ]
  },
  {
   "cell_type": "code",
   "execution_count": null,
   "metadata": {
    "ExecuteTime": {
     "end_time": "2022-01-22T16:13:49.491655Z",
     "start_time": "2022-01-22T16:13:49.287384Z"
    }
   },
   "outputs": [],
   "source": [
    "# Babysit the model\n",
    "pd.DataFrame(\n",
    "    {\n",
    "        \"val_loss\": history.history[\"val_loss\"],\n",
    "        \"loss\": history.history[\"loss\"],\n",
    "        \"val_f1_score\": history.history[\"val_f1_score\"],\n",
    "        \"f1_score\": history.history[\"f1_score\"],\n",
    "    }\n",
    ").plot(figsize=(8, 5))\n"
   ]
  },
  {
   "cell_type": "code",
   "execution_count": null,
   "metadata": {
    "ExecuteTime": {
     "end_time": "2022-01-22T16:13:52.382395Z",
     "start_time": "2022-01-22T16:13:52.244523Z"
    }
   },
   "outputs": [],
   "source": [
    "# Evaluate the model\n",
    "# Your code\n"
   ]
  },
  {
   "cell_type": "markdown",
   "metadata": {},
   "source": [
    "## Approach3 - Word embedding and MLP classifier\n",
    "\n",
    "Using the course companion notebook, build a multi-layer perceptron using an existing embedding matrix (Word2Vec / Glove or FastText), or on an embedding matrix that you will have built using Gensim.\n",
    "\n",
    "Use the same constant as a previous steps.\n",
    "\n",
    "Evaluate the model.\n"
   ]
  },
  {
   "cell_type": "code",
   "execution_count": null,
   "metadata": {
    "ExecuteTime": {
     "end_time": "2022-01-22T16:13:54.537177Z",
     "start_time": "2022-01-22T16:13:54.533166Z"
    }
   },
   "outputs": [],
   "source": [
    "# Avalaible in your gensim installation...\n",
    "# You can also use the train reviews.\n",
    "corpus_path = (\n",
    "    \"/Users/riveill/opt/miniconda3/lib/python3.9/site-packages/gensim/test/test_data/\"\n",
    ")\n",
    "corpus = \"lee_background.cor\"\n"
   ]
  },
  {
   "cell_type": "code",
   "execution_count": null,
   "metadata": {
    "ExecuteTime": {
     "end_time": "2022-01-22T16:13:56.715903Z",
     "start_time": "2022-01-22T16:13:54.981458Z"
    }
   },
   "outputs": [],
   "source": [
    "# Build gensim model\n",
    "from gensim.test.utils import datapath\n",
    "from gensim import utils\n",
    "import gensim.models\n",
    "\n",
    "\n",
    "class MyCorpus:\n",
    "    \"\"\"An iterator that yields sentences (lists of str).\"\"\"\n",
    "\n",
    "    def __iter__(self):\n",
    "        for line in open(corpus_path + corpus):\n",
    "            # assume there's one document per line, tokens separated by whitespace\n",
    "            yield utils.simple_preprocess(line)\n",
    "\n",
    "\n",
    "sentences = MyCorpus()\n",
    "model = gensim.models.Word2Vec(sentences=sentences, vector_size=150)\n"
   ]
  },
  {
   "cell_type": "code",
   "execution_count": null,
   "metadata": {
    "ExecuteTime": {
     "end_time": "2022-01-22T16:13:56.775478Z",
     "start_time": "2022-01-22T16:13:56.718276Z"
    }
   },
   "outputs": [],
   "source": [
    "# Export gensim model\n",
    "import tempfile\n",
    "\n",
    "with tempfile.NamedTemporaryFile(prefix=\"gensim-model-\", delete=False) as tmp:\n",
    "    temporary_filepath = tmp.name\n",
    "    print(temporary_filepath)\n",
    "    model.save(temporary_filepath)\n",
    "    #\n",
    "    # The model is now safely stored in the filepath.\n",
    "    # You can copy it to other machines, share it with others, etc.\n",
    "    #\n",
    "    # To load a saved model:\n",
    "    #\n",
    "    new_model = gensim.models.Word2Vec.load(temporary_filepath)\n"
   ]
  },
  {
   "cell_type": "code",
   "execution_count": null,
   "metadata": {
    "ExecuteTime": {
     "end_time": "2022-01-22T16:13:57.290934Z",
     "start_time": "2022-01-22T16:13:57.261810Z"
    }
   },
   "outputs": [],
   "source": [
    "# Load gensim model\n",
    "new_model = gensim.models.Word2Vec.load(temporary_filepath)\n"
   ]
  },
  {
   "cell_type": "code",
   "execution_count": null,
   "metadata": {
    "ExecuteTime": {
     "end_time": "2022-01-22T16:13:58.280075Z",
     "start_time": "2022-01-22T16:13:58.264761Z"
    }
   },
   "outputs": [],
   "source": [
    "# Prepare embedding matrix\n",
    "# Your code\n"
   ]
  },
  {
   "cell_type": "code",
   "execution_count": null,
   "metadata": {
    "ExecuteTime": {
     "end_time": "2022-01-22T16:13:59.350378Z",
     "start_time": "2022-01-22T16:13:59.345572Z"
    }
   },
   "outputs": [],
   "source": [
    "# Define embedding layers\n",
    "# Your code\n"
   ]
  },
  {
   "cell_type": "code",
   "execution_count": null,
   "metadata": {
    "ExecuteTime": {
     "end_time": "2022-01-22T16:14:00.261340Z",
     "start_time": "2022-01-22T16:14:00.113370Z"
    }
   },
   "outputs": [],
   "source": [
    "# define the model\n",
    "# Your code\n"
   ]
  },
  {
   "cell_type": "code",
   "execution_count": null,
   "metadata": {
    "ExecuteTime": {
     "end_time": "2022-01-22T16:14:01.012932Z",
     "start_time": "2022-01-22T16:14:00.994486Z"
    }
   },
   "outputs": [],
   "source": [
    "# compile the model\n",
    "# Your code\n"
   ]
  },
  {
   "cell_type": "code",
   "execution_count": null,
   "metadata": {
    "ExecuteTime": {
     "end_time": "2022-01-22T16:17:21.897247Z",
     "start_time": "2022-01-22T16:14:01.789033Z"
    }
   },
   "outputs": [],
   "source": [
    "# fit model using ealy stopping\n",
    "# Your code\n"
   ]
  },
  {
   "cell_type": "code",
   "execution_count": null,
   "metadata": {
    "ExecuteTime": {
     "end_time": "2022-01-22T16:18:06.562082Z",
     "start_time": "2022-01-22T16:18:06.339038Z"
    }
   },
   "outputs": [],
   "source": [
    "# Babysit the model\n",
    "pd.DataFrame(\n",
    "    {\n",
    "        \"val_loss\": history.history[\"val_loss\"],\n",
    "        \"loss\": history.history[\"loss\"],\n",
    "        \"val_f1_score\": history.history[\"val_f1_score\"],\n",
    "        \"f1_score\": history.history[\"f1_score\"],\n",
    "    }\n",
    ").plot(figsize=(8, 5))\n"
   ]
  },
  {
   "cell_type": "code",
   "execution_count": null,
   "metadata": {
    "ExecuteTime": {
     "end_time": "2022-01-22T16:18:19.860091Z",
     "start_time": "2022-01-22T16:18:19.555310Z"
    }
   },
   "outputs": [],
   "source": [
    "# Evaluate the model\n",
    "# Your code\n"
   ]
  },
  {
   "cell_type": "code",
   "execution_count": null,
   "metadata": {},
   "outputs": [],
   "source": []
  }
 ],
 "metadata": {
  "colab": {
   "collapsed_sections": [],
   "name": "notebook-NLP-sentiment-analysis-with-MLP-Keras embedding.ipynb",
   "provenance": []
  },
  "kernelspec": {
   "display_name": "Python 3 (ipykernel)",
   "language": "python",
   "name": "python3"
  },
  "language_info": {
   "codemirror_mode": {
    "name": "ipython",
    "version": 3
   },
   "file_extension": ".py",
   "mimetype": "text/x-python",
   "name": "python",
   "nbconvert_exporter": "python",
   "pygments_lexer": "ipython3",
   "version": "3.9.10"
  },
  "latex_envs": {
   "LaTeX_envs_menu_present": true,
   "autoclose": true,
   "autocomplete": true,
   "bibliofile": "biblio.bib",
   "cite_by": "apalike",
   "current_citInitial": 1,
   "eqLabelWithNumbers": true,
   "eqNumInitial": 1,
   "hotkeys": {
    "equation": "Ctrl-E",
    "itemize": "Ctrl-I"
   },
   "labels_anchors": false,
   "latex_user_defs": false,
   "report_style_numbering": false,
   "user_envs_cfg": false
  },
  "nbTranslate": {
   "displayLangs": [
    "*"
   ],
   "hotkey": "alt-t",
   "langInMainMenu": true,
   "sourceLang": "en",
   "targetLang": "fr",
   "useGoogleTranslate": true
  },
  "toc": {
   "base_numbering": 1,
   "nav_menu": {},
   "number_sections": true,
   "sideBar": true,
   "skip_h1_title": true,
   "title_cell": "Table of Contents",
   "title_sidebar": "Contents",
   "toc_cell": true,
   "toc_position": {},
   "toc_section_display": true,
   "toc_window_display": false
  }
 },
 "nbformat": 4,
 "nbformat_minor": 1
}

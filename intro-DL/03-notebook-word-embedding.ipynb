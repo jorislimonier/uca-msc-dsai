{
 "cells": [
  {
   "cell_type": "markdown",
   "metadata": {
    "id": "7Zc0WsSkoWK0"
   },
   "source": [
    "# Sentiment analysis with an MLP and vector representation\n"
   ]
  },
  {
   "cell_type": "markdown",
   "metadata": {
    "id": "VSuNR5g2oUqH"
   },
   "source": [
    "# Case Study: Sentiment Analysis\n",
    "\n",
    "In this lab we use part of the 'Amazon_Unlocked_Mobile.csv' dataset published by Kaggle. The dataset contain the following information:\n",
    "\n",
    "- Product Name\n",
    "- Brand Name\n",
    "- Price\n",
    "- Rating\n",
    "- Reviews\n",
    "- Review Votes\n",
    "\n",
    "We are mainly interested by the 'Reviews' (X) and by the 'Rating' (y)\n",
    "\n",
    "The goal is to try to predict the 'Rating' after reading the 'Reviews'. I've prepared for you TRAIN and TEST set.\n",
    "The work to be done is as follows:\n",
    "\n",
    "1. Feature extraction and baseline\n",
    "   - read the dataset and understand it\n",
    "   - put it in a format so that you can use `CountVectorizer` or`Tf-IDF` to extract the desired features\n",
    "   - perform on the desired dates and preprocessing\n",
    "   - use one of the classifiers you know to predict the polarity of different sentences\n",
    "1. My first neural network\n",
    "   - reuse the features already extracted\n",
    "   - proposed a neural network built with Keras\n",
    "1. Hyper-parameter fitting\n",
    "   - for the base line: adjust min_df, max_df, ngram, max_features + model's hyper-parameter\n",
    "   - for the neural network: adjust batch size, number of layers and number of neuron by layers, use earlystop\n",
    "1. <span style=\"color:red\">Word embedding\n",
    "   - stage 1 build a network that uses Keras' embedding which is not language sensitive.\n",
    "   - stage 2 build a network that simultaneously uses Keras' embedding and the features extracted in the first weeks.\n",
    "   - stage 3 try to use an existing embedding (https://github.com/facebookresearch/MUSE)\n",
    "     </span>\n",
    "\n",
    "**WARNING:** the dataset is voluminous, I can only encourage you to work first on a small part of it and only at the end, when the code is well debugged and that it is necessary to build the \"final model\", to use the whole dataset.\n"
   ]
  },
  {
   "cell_type": "markdown",
   "metadata": {
    "id": "7SWzS9ujoUqI",
    "toc": true
   },
   "source": [
    "<h1>Table of Contents<span class=\"tocSkip\"></span></h1>\n",
    "<div class=\"toc\"><ul class=\"toc-item\"><li><span><a href=\"#Read-the-dataset\" data-toc-modified-id=\"Read-the-dataset-1\"><span class=\"toc-item-num\">1&nbsp;&nbsp;</span>Read the dataset</a></span></li><li><span><a href=\"#Text-normalisation\" data-toc-modified-id=\"Text-normalisation-2\"><span class=\"toc-item-num\">2&nbsp;&nbsp;</span>Text normalisation</a></span></li><li><span><a href=\"#Approach1---BOW-and-MLP-classifier\" data-toc-modified-id=\"Approach1---BOW-and-MLP-classifier-3\"><span class=\"toc-item-num\">3&nbsp;&nbsp;</span>Approach1 - BOW and MLP classifier</a></span></li><li><span><a href=\"#Approach2---Keras-word-embedding-and-MLP-classifier\" data-toc-modified-id=\"Approach2---Keras-word-embedding-and-MLP-classifier-4\"><span class=\"toc-item-num\">4&nbsp;&nbsp;</span>Approach2 - Keras word embedding and MLP classifier</a></span></li></ul></div>\n"
   ]
  },
  {
   "cell_type": "markdown",
   "metadata": {
    "id": "lLrXoRQ5oUqI"
   },
   "source": [
    "## Read the dataset\n",
    "\n",
    "Could you find below a proposal. You can complete them.\n"
   ]
  },
  {
   "cell_type": "code",
   "execution_count": 1,
   "metadata": {
    "ExecuteTime": {
     "end_time": "2022-01-25T18:51:58.151238Z",
     "start_time": "2022-01-25T18:51:58.143561Z"
    },
    "id": "uMZhHXxzoUqJ"
   },
   "outputs": [],
   "source": [
    "import os\n",
    "\n",
    "import numpy as np\n",
    "import pandas as pd\n",
    "import tensorflow as tf\n",
    "import tensorflow_addons as tfa\n",
    "from keras.layers import Dense, Embedding, Flatten, Input, TextVectorization\n",
    "from sklearn.feature_extraction.text import CountVectorizer, TfidfVectorizer\n",
    "from sklearn.metrics import f1_score\n",
    "from sklearn.preprocessing import OneHotEncoder\n",
    "from tensorflow.keras.callbacks import EarlyStopping\n",
    "from tensorflow.keras.models import Model, Sequential\n",
    "from tensorflow.keras.preprocessing.sequence import pad_sequences\n",
    "from tensorflow.keras.preprocessing.text import Tokenizer, one_hot\n",
    "from tensorflow_addons.metrics import F1Score\n"
   ]
  },
  {
   "cell_type": "code",
   "execution_count": 2,
   "metadata": {
    "ExecuteTime": {
     "end_time": "2022-01-25T18:51:59.283203Z",
     "start_time": "2022-01-25T18:51:58.181634Z"
    },
    "colab": {
     "base_uri": "https://localhost:8080/",
     "height": 204
    },
    "id": "gIXGN8IzoUqJ",
    "outputId": "f9cbed6e-5c8c-45cb-e083-4a9194f12157"
   },
   "outputs": [
    {
     "data": {
      "text/html": [
       "<div>\n",
       "<style scoped>\n",
       "    .dataframe tbody tr th:only-of-type {\n",
       "        vertical-align: middle;\n",
       "    }\n",
       "\n",
       "    .dataframe tbody tr th {\n",
       "        vertical-align: top;\n",
       "    }\n",
       "\n",
       "    .dataframe thead th {\n",
       "        text-align: right;\n",
       "    }\n",
       "</style>\n",
       "<table border=\"1\" class=\"dataframe\">\n",
       "  <thead>\n",
       "    <tr style=\"text-align: right;\">\n",
       "      <th></th>\n",
       "      <th>Product Name</th>\n",
       "      <th>Brand Name</th>\n",
       "      <th>Price</th>\n",
       "      <th>Rating</th>\n",
       "      <th>Reviews</th>\n",
       "      <th>Review Votes</th>\n",
       "    </tr>\n",
       "  </thead>\n",
       "  <tbody>\n",
       "    <tr>\n",
       "      <th>0</th>\n",
       "      <td>Samsung Galaxy Note 4 N910C Unlocked Cellphone...</td>\n",
       "      <td>Samsung</td>\n",
       "      <td>449.99</td>\n",
       "      <td>4</td>\n",
       "      <td>I love it!!! I absolutely love it!! 👌👍</td>\n",
       "      <td>0.0</td>\n",
       "    </tr>\n",
       "    <tr>\n",
       "      <th>1</th>\n",
       "      <td>BLU Energy X Plus Smartphone - With 4000 mAh S...</td>\n",
       "      <td>BLU</td>\n",
       "      <td>139.00</td>\n",
       "      <td>5</td>\n",
       "      <td>I love the BLU phones! This is my second one t...</td>\n",
       "      <td>4.0</td>\n",
       "    </tr>\n",
       "    <tr>\n",
       "      <th>2</th>\n",
       "      <td>Apple iPhone 6 128GB Silver AT&amp;T</td>\n",
       "      <td>Apple</td>\n",
       "      <td>599.95</td>\n",
       "      <td>5</td>\n",
       "      <td>Great phone</td>\n",
       "      <td>1.0</td>\n",
       "    </tr>\n",
       "    <tr>\n",
       "      <th>3</th>\n",
       "      <td>BLU Advance 4.0L Unlocked Smartphone -US GSM -...</td>\n",
       "      <td>BLU</td>\n",
       "      <td>51.99</td>\n",
       "      <td>4</td>\n",
       "      <td>Very happy with the performance. The apps work...</td>\n",
       "      <td>2.0</td>\n",
       "    </tr>\n",
       "    <tr>\n",
       "      <th>4</th>\n",
       "      <td>Huawei P8 Lite US Version- 5 Unlocked Android ...</td>\n",
       "      <td>Huawei</td>\n",
       "      <td>198.99</td>\n",
       "      <td>5</td>\n",
       "      <td>Easy to use great price</td>\n",
       "      <td>0.0</td>\n",
       "    </tr>\n",
       "  </tbody>\n",
       "</table>\n",
       "</div>"
      ],
      "text/plain": [
       "                                        Product Name Brand Name   Price  \\\n",
       "0  Samsung Galaxy Note 4 N910C Unlocked Cellphone...    Samsung  449.99   \n",
       "1  BLU Energy X Plus Smartphone - With 4000 mAh S...        BLU  139.00   \n",
       "2                   Apple iPhone 6 128GB Silver AT&T      Apple  599.95   \n",
       "3  BLU Advance 4.0L Unlocked Smartphone -US GSM -...        BLU   51.99   \n",
       "4  Huawei P8 Lite US Version- 5 Unlocked Android ...     Huawei  198.99   \n",
       "\n",
       "   Rating                                            Reviews  Review Votes  \n",
       "0       4             I love it!!! I absolutely love it!! 👌👍           0.0  \n",
       "1       5  I love the BLU phones! This is my second one t...           4.0  \n",
       "2       5                                        Great phone           1.0  \n",
       "3       4  Very happy with the performance. The apps work...           2.0  \n",
       "4       5                            Easy to use great price           0.0  "
      ]
     },
     "execution_count": 2,
     "metadata": {},
     "output_type": "execute_result"
    }
   ],
   "source": [
    "TRAIN = pd.read_csv(\n",
    "    \"http://www.i3s.unice.fr/~riveill/dataset/Amazon_Unlocked_Mobile/train.csv.gz\"\n",
    ")\n",
    "TEST = pd.read_csv(\n",
    "    \"http://www.i3s.unice.fr/~riveill/dataset/Amazon_Unlocked_Mobile/test.csv.gz\"\n",
    ")\n",
    "\n",
    "TRAIN.head()\n"
   ]
  },
  {
   "cell_type": "code",
   "execution_count": 3,
   "metadata": {
    "ExecuteTime": {
     "end_time": "2022-01-25T18:51:59.343941Z",
     "start_time": "2022-01-25T18:51:59.302031Z"
    },
    "colab": {
     "base_uri": "https://localhost:8080/"
    },
    "id": "WdeAXW40oUqJ",
    "outputId": "d99ac22b-c7e5-4c4a-f817-d8e25ff2a28c"
   },
   "outputs": [
    {
     "data": {
      "text/plain": [
       "((5000,), (5000, 5), array([1, 2, 3, 4, 5]))"
      ]
     },
     "execution_count": 3,
     "metadata": {},
     "output_type": "execute_result"
    }
   ],
   "source": [
    "# Construct X_train and y_train\n",
    "X_train = TRAIN[\"Reviews\"]\n",
    "y_train = np.array(TRAIN[\"Rating\"]).reshape(-1, 1)\n",
    "\n",
    "X_test = TEST[\"Reviews\"]\n",
    "y_test = np.array(TEST[\"Rating\"]).reshape(-1, 1)\n",
    "\n",
    "nb_classes = len(np.unique(y_train))\n",
    "\n",
    "ohe = OneHotEncoder(sparse=False, handle_unknown=\"ignore\")\n",
    "y_train_ohe = ohe.fit_transform(y_train)\n",
    "y_test_ohe = ohe.fit_transform(y_test)\n",
    "\n",
    "X_train.shape, y_train_ohe.shape, np.unique(y_train)\n"
   ]
  },
  {
   "cell_type": "markdown",
   "metadata": {
    "ExecuteTime": {
     "end_time": "2021-01-03T18:00:17.888390Z",
     "start_time": "2021-01-03T18:00:17.884865Z"
    },
    "id": "SDWDQSbEoUqL"
   },
   "source": [
    "## Approach1 - BOW and MLP classifier\n",
    "\n",
    "Using the course companion notebook, build a multi-layer perceptron using a BOW representation of the dataset and evaluate the model.\n",
    "\n",
    "The dataset being unbalanced the metric will be the f1 score.\n"
   ]
  },
  {
   "cell_type": "markdown",
   "metadata": {},
   "source": [
    "$$TO DO STUDENT$$\n",
    "\n",
    "> - Build BOW representation of the train and test set\n",
    "> - Fix a value for vocab_size = the maximum number of words to keep, based on word frequency. Only the most common vocab_size-1 words will be kept.\n"
   ]
  },
  {
   "cell_type": "code",
   "execution_count": 4,
   "metadata": {
    "ExecuteTime": {
     "end_time": "2022-01-25T18:51:59.435559Z",
     "start_time": "2022-01-25T18:51:59.417373Z"
    }
   },
   "outputs": [],
   "source": [
    "# Your code\n",
    "vocab_size = 10\n",
    "tokenize = Tokenizer(num_words=vocab_size, char_level=False)\n",
    "tokenize.fit_on_texts(X_train)\n",
    "X_train_ohe = tokenize.texts_to_matrix(X_train, mode=\"tfidf\")\n",
    "X_test_ohe = tokenize.texts_to_matrix(X_test, mode=\"tfidf\")\n"
   ]
  },
  {
   "cell_type": "markdown",
   "metadata": {
    "ExecuteTime": {
     "end_time": "2022-01-21T17:12:34.858519Z",
     "start_time": "2022-01-21T17:12:34.850825Z"
    }
   },
   "source": [
    "$$TO DO STUDENT$$\n",
    "\n",
    "> - Build an MLP and print the model (model.summary())\n"
   ]
  },
  {
   "cell_type": "code",
   "execution_count": 5,
   "metadata": {},
   "outputs": [
    {
     "name": "stdout",
     "output_type": "stream",
     "text": [
      "Model: \"sequential\"\n",
      "_________________________________________________________________\n",
      " Layer (type)                Output Shape              Param #   \n",
      "=================================================================\n",
      " hidden (Dense)              (None, 128)               1408      \n",
      "                                                                 \n",
      " output (Dense)              (None, 5)                 645       \n",
      "                                                                 \n",
      "=================================================================\n",
      "Total params: 2,053\n",
      "Trainable params: 2,053\n",
      "Non-trainable params: 0\n",
      "_________________________________________________________________\n"
     ]
    },
    {
     "name": "stderr",
     "output_type": "stream",
     "text": [
      "2022-01-31 18:10:53.052055: I tensorflow/stream_executor/cuda/cuda_gpu_executor.cc:939] successful NUMA node read from SysFS had negative value (-1), but there must be at least one NUMA node, so returning NUMA node zero\n",
      "2022-01-31 18:10:53.126996: W tensorflow/stream_executor/platform/default/dso_loader.cc:64] Could not load dynamic library 'libcudnn.so.8'; dlerror: libcudnn.so.8: cannot open shared object file: No such file or directory\n",
      "2022-01-31 18:10:53.127031: W tensorflow/core/common_runtime/gpu/gpu_device.cc:1850] Cannot dlopen some GPU libraries. Please make sure the missing libraries mentioned above are installed properly if you would like to use GPU. Follow the guide at https://www.tensorflow.org/install/gpu for how to download and setup the required libraries for your platform.\n",
      "Skipping registering GPU devices...\n",
      "2022-01-31 18:10:53.127480: I tensorflow/core/platform/cpu_feature_guard.cc:151] This TensorFlow binary is optimized with oneAPI Deep Neural Network Library (oneDNN) to use the following CPU instructions in performance-critical operations:  AVX2 FMA\n",
      "To enable them in other operations, rebuild TensorFlow with the appropriate compiler flags.\n"
     ]
    }
   ],
   "source": [
    "# build sequential model\n",
    "model = Sequential()\n",
    "model.add(Input(shape=(vocab_size,), name=\"input\", dtype=tf.float32))\n",
    "model.add(Dense(128, activation=\"relu\", name=\"hidden\"))\n",
    "model.add(Dense(5, activation=\"softmax\", name=\"output\"))\n",
    "model.build()\n",
    "model.summary()\n"
   ]
  },
  {
   "cell_type": "markdown",
   "metadata": {},
   "source": [
    "$$ TO DO STUDENT $$\n",
    "\n",
    "> - Compile the network\n",
    "> - Fit the network using EarlyStopping\n",
    "> - Babysit your model\n",
    "> - Evaluate the network with f1 score\n"
   ]
  },
  {
   "cell_type": "code",
   "execution_count": 6,
   "metadata": {},
   "outputs": [
    {
     "data": {
      "text/plain": [
       "0                  I love it!!! I absolutely love it!! 👌👍\n",
       "1       I love the BLU phones! This is my second one t...\n",
       "2                                             Great phone\n",
       "3       Very happy with the performance. The apps work...\n",
       "4                                 Easy to use great price\n",
       "                              ...                        \n",
       "4995    Easy to use. Easy to use. Easy to use. I can s...\n",
       "4996    I got this phone because I did not want to go ...\n",
       "4997    Phone works well, just as expected. No issues ...\n",
       "4998                                            Great A++\n",
       "4999    This is a really good phone, bought it to deve...\n",
       "Name: Reviews, Length: 5000, dtype: object"
      ]
     },
     "execution_count": 6,
     "metadata": {},
     "output_type": "execute_result"
    }
   ],
   "source": [
    "X_train\n"
   ]
  },
  {
   "cell_type": "code",
   "execution_count": 16,
   "metadata": {},
   "outputs": [
    {
     "data": {
      "text/plain": [
       "((5000, 5), (1000, 5))"
      ]
     },
     "execution_count": 16,
     "metadata": {},
     "output_type": "execute_result"
    }
   ],
   "source": [
    "y_train_ohe.shape,y_test_ohe.shape"
   ]
  },
  {
   "cell_type": "code",
   "execution_count": 50,
   "metadata": {
    "ExecuteTime": {
     "end_time": "2022-01-25T18:51:59.458052Z",
     "start_time": "2022-01-25T18:51:59.451081Z"
    },
    "colab": {
     "base_uri": "https://localhost:8080/"
    },
    "id": "m7EloujaoUqM",
    "outputId": "189dd8fa-293f-450c-e513-3d1cb094fe4d"
   },
   "outputs": [
    {
     "name": "stdout",
     "output_type": "stream",
     "text": [
      "Epoch 1/2000\n",
      "157/157 [==============================] - 1s 3ms/step - loss: 0.9651 - f1_score: 0.6124 - accuracy: 0.6432 - val_loss: 1.5208 - val_f1_score: 0.4601 - val_accuracy: 0.5120\n",
      "Epoch 2/2000\n",
      "157/157 [==============================] - 0s 2ms/step - loss: 0.9624 - f1_score: 0.6181 - accuracy: 0.6498 - val_loss: 1.5140 - val_f1_score: 0.4633 - val_accuracy: 0.5120\n",
      "Epoch 3/2000\n",
      "157/157 [==============================] - 0s 2ms/step - loss: 0.9619 - f1_score: 0.6124 - accuracy: 0.6438 - val_loss: 1.5185 - val_f1_score: 0.4587 - val_accuracy: 0.5130\n",
      "Epoch 4/2000\n",
      "157/157 [==============================] - 0s 2ms/step - loss: 0.9644 - f1_score: 0.6126 - accuracy: 0.6456 - val_loss: 1.5280 - val_f1_score: 0.4727 - val_accuracy: 0.5240\n",
      "Epoch 5/2000\n",
      "157/157 [==============================] - 0s 2ms/step - loss: 0.9615 - f1_score: 0.6130 - accuracy: 0.6448 - val_loss: 1.5171 - val_f1_score: 0.4699 - val_accuracy: 0.5110\n",
      "Epoch 6/2000\n",
      "157/157 [==============================] - 0s 2ms/step - loss: 0.9628 - f1_score: 0.6096 - accuracy: 0.6426 - val_loss: 1.5166 - val_f1_score: 0.4640 - val_accuracy: 0.5100\n",
      "Epoch 7/2000\n",
      "157/157 [==============================] - 0s 2ms/step - loss: 0.9642 - f1_score: 0.6158 - accuracy: 0.6466 - val_loss: 1.5128 - val_f1_score: 0.4617 - val_accuracy: 0.5140\n",
      "Epoch 8/2000\n",
      "157/157 [==============================] - 0s 2ms/step - loss: 0.9614 - f1_score: 0.6214 - accuracy: 0.6518 - val_loss: 1.5194 - val_f1_score: 0.4542 - val_accuracy: 0.5140\n",
      "Epoch 9/2000\n",
      "157/157 [==============================] - 0s 2ms/step - loss: 0.9628 - f1_score: 0.6132 - accuracy: 0.6458 - val_loss: 1.5206 - val_f1_score: 0.4707 - val_accuracy: 0.5230\n",
      "Epoch 10/2000\n",
      "157/157 [==============================] - 0s 2ms/step - loss: 0.9599 - f1_score: 0.6179 - accuracy: 0.6496 - val_loss: 1.5219 - val_f1_score: 0.4587 - val_accuracy: 0.5130\n",
      "Epoch 11/2000\n",
      "157/157 [==============================] - 0s 2ms/step - loss: 0.9612 - f1_score: 0.6146 - accuracy: 0.6456 - val_loss: 1.5236 - val_f1_score: 0.4661 - val_accuracy: 0.5110\n",
      "Epoch 12/2000\n",
      "157/157 [==============================] - 0s 2ms/step - loss: 0.9641 - f1_score: 0.6145 - accuracy: 0.6466 - val_loss: 1.5191 - val_f1_score: 0.4617 - val_accuracy: 0.5140\n",
      "Epoch 13/2000\n",
      "157/157 [==============================] - 0s 2ms/step - loss: 0.9614 - f1_score: 0.6180 - accuracy: 0.6500 - val_loss: 1.5218 - val_f1_score: 0.4715 - val_accuracy: 0.5140\n",
      "Epoch 14/2000\n",
      "157/157 [==============================] - 0s 2ms/step - loss: 0.9615 - f1_score: 0.6164 - accuracy: 0.6470 - val_loss: 1.5212 - val_f1_score: 0.4594 - val_accuracy: 0.5160\n",
      "Epoch 15/2000\n",
      "157/157 [==============================] - 0s 2ms/step - loss: 0.9631 - f1_score: 0.6129 - accuracy: 0.6426 - val_loss: 1.5222 - val_f1_score: 0.4704 - val_accuracy: 0.5170\n",
      "Epoch 16/2000\n",
      "157/157 [==============================] - 0s 2ms/step - loss: 0.9611 - f1_score: 0.6126 - accuracy: 0.6436 - val_loss: 1.5237 - val_f1_score: 0.4747 - val_accuracy: 0.5180\n",
      "Epoch 17/2000\n",
      "157/157 [==============================] - 0s 2ms/step - loss: 0.9613 - f1_score: 0.6177 - accuracy: 0.6484 - val_loss: 1.5192 - val_f1_score: 0.4683 - val_accuracy: 0.5070\n",
      "Epoch 18/2000\n",
      "157/157 [==============================] - 0s 2ms/step - loss: 0.9606 - f1_score: 0.6184 - accuracy: 0.6490 - val_loss: 1.5151 - val_f1_score: 0.4657 - val_accuracy: 0.5140\n",
      "Epoch 19/2000\n",
      "157/157 [==============================] - 0s 2ms/step - loss: 0.9604 - f1_score: 0.6149 - accuracy: 0.6464 - val_loss: 1.5245 - val_f1_score: 0.4687 - val_accuracy: 0.5040\n",
      "Epoch 20/2000\n",
      "157/157 [==============================] - 0s 2ms/step - loss: 0.9617 - f1_score: 0.6186 - accuracy: 0.6488 - val_loss: 1.5159 - val_f1_score: 0.4631 - val_accuracy: 0.5140\n",
      "Epoch 21/2000\n",
      "157/157 [==============================] - 0s 2ms/step - loss: 0.9613 - f1_score: 0.6142 - accuracy: 0.6456 - val_loss: 1.5248 - val_f1_score: 0.4661 - val_accuracy: 0.5130\n",
      "Epoch 22/2000\n",
      "157/157 [==============================] - 0s 2ms/step - loss: 0.9612 - f1_score: 0.6173 - accuracy: 0.6496 - val_loss: 1.5180 - val_f1_score: 0.4672 - val_accuracy: 0.5160\n",
      "Epoch 23/2000\n",
      "157/157 [==============================] - 0s 2ms/step - loss: 0.9606 - f1_score: 0.6188 - accuracy: 0.6500 - val_loss: 1.5221 - val_f1_score: 0.4661 - val_accuracy: 0.5130\n",
      "Epoch 24/2000\n",
      "157/157 [==============================] - 0s 2ms/step - loss: 0.9583 - f1_score: 0.6201 - accuracy: 0.6510 - val_loss: 1.5212 - val_f1_score: 0.4683 - val_accuracy: 0.5140\n",
      "Epoch 25/2000\n",
      "157/157 [==============================] - 0s 2ms/step - loss: 0.9597 - f1_score: 0.6142 - accuracy: 0.6454 - val_loss: 1.5285 - val_f1_score: 0.4681 - val_accuracy: 0.5130\n",
      "Epoch 26/2000\n",
      "157/157 [==============================] - 0s 2ms/step - loss: 0.9591 - f1_score: 0.6146 - accuracy: 0.6470 - val_loss: 1.5216 - val_f1_score: 0.4700 - val_accuracy: 0.5230\n",
      "Epoch 27/2000\n",
      "157/157 [==============================] - 0s 2ms/step - loss: 0.9578 - f1_score: 0.6155 - accuracy: 0.6482 - val_loss: 1.5334 - val_f1_score: 0.4631 - val_accuracy: 0.5110\n",
      "Epoch 28/2000\n",
      "157/157 [==============================] - 0s 2ms/step - loss: 0.9579 - f1_score: 0.6151 - accuracy: 0.6464 - val_loss: 1.5272 - val_f1_score: 0.4660 - val_accuracy: 0.5170\n",
      "Epoch 29/2000\n",
      "157/157 [==============================] - 0s 2ms/step - loss: 0.9593 - f1_score: 0.6177 - accuracy: 0.6476 - val_loss: 1.5243 - val_f1_score: 0.4602 - val_accuracy: 0.5120\n",
      "Epoch 30/2000\n",
      "157/157 [==============================] - 0s 2ms/step - loss: 0.9594 - f1_score: 0.6128 - accuracy: 0.6462 - val_loss: 1.5338 - val_f1_score: 0.4722 - val_accuracy: 0.5100\n",
      "Epoch 31/2000\n",
      "157/157 [==============================] - 0s 2ms/step - loss: 0.9587 - f1_score: 0.6182 - accuracy: 0.6484 - val_loss: 1.5327 - val_f1_score: 0.4635 - val_accuracy: 0.5220\n",
      "Epoch 32/2000\n",
      "157/157 [==============================] - 1s 3ms/step - loss: 0.9585 - f1_score: 0.6196 - accuracy: 0.6514 - val_loss: 1.5361 - val_f1_score: 0.4652 - val_accuracy: 0.5010\n",
      "Epoch 33/2000\n",
      "157/157 [==============================] - 0s 2ms/step - loss: 0.9598 - f1_score: 0.6212 - accuracy: 0.6516 - val_loss: 1.5267 - val_f1_score: 0.4644 - val_accuracy: 0.5140\n",
      "Epoch 34/2000\n",
      "157/157 [==============================] - 0s 2ms/step - loss: 0.9559 - f1_score: 0.6237 - accuracy: 0.6538 - val_loss: 1.5227 - val_f1_score: 0.4699 - val_accuracy: 0.5220\n",
      "Epoch 35/2000\n",
      "157/157 [==============================] - 0s 2ms/step - loss: 0.9582 - f1_score: 0.6173 - accuracy: 0.6490 - val_loss: 1.5367 - val_f1_score: 0.4734 - val_accuracy: 0.5140\n",
      "Epoch 36/2000\n",
      "157/157 [==============================] - 0s 2ms/step - loss: 0.9593 - f1_score: 0.6169 - accuracy: 0.6486 - val_loss: 1.5274 - val_f1_score: 0.4608 - val_accuracy: 0.5160\n",
      "Epoch 37/2000\n",
      "157/157 [==============================] - 0s 2ms/step - loss: 0.9580 - f1_score: 0.6163 - accuracy: 0.6472 - val_loss: 1.5302 - val_f1_score: 0.4712 - val_accuracy: 0.5180\n",
      "Epoch 38/2000\n",
      "157/157 [==============================] - 0s 2ms/step - loss: 0.9574 - f1_score: 0.6166 - accuracy: 0.6470 - val_loss: 1.5286 - val_f1_score: 0.4644 - val_accuracy: 0.5140\n",
      "Epoch 39/2000\n",
      "157/157 [==============================] - 0s 2ms/step - loss: 0.9591 - f1_score: 0.6136 - accuracy: 0.6452 - val_loss: 1.5296 - val_f1_score: 0.4756 - val_accuracy: 0.5260\n",
      "Epoch 40/2000\n",
      "157/157 [==============================] - 0s 2ms/step - loss: 0.9565 - f1_score: 0.6197 - accuracy: 0.6506 - val_loss: 1.5358 - val_f1_score: 0.4687 - val_accuracy: 0.5100\n",
      "Epoch 41/2000\n",
      "157/157 [==============================] - 0s 2ms/step - loss: 0.9568 - f1_score: 0.6192 - accuracy: 0.6506 - val_loss: 1.5282 - val_f1_score: 0.4737 - val_accuracy: 0.5130\n",
      "Epoch 42/2000\n",
      "157/157 [==============================] - 0s 2ms/step - loss: 0.9564 - f1_score: 0.6204 - accuracy: 0.6512 - val_loss: 1.5328 - val_f1_score: 0.4648 - val_accuracy: 0.5010\n",
      "Epoch 43/2000\n",
      "157/157 [==============================] - 0s 2ms/step - loss: 0.9575 - f1_score: 0.6203 - accuracy: 0.6506 - val_loss: 1.5363 - val_f1_score: 0.4673 - val_accuracy: 0.5190\n",
      "Epoch 44/2000\n",
      "157/157 [==============================] - 0s 2ms/step - loss: 0.9593 - f1_score: 0.6165 - accuracy: 0.6488 - val_loss: 1.5277 - val_f1_score: 0.4677 - val_accuracy: 0.5090\n",
      "Epoch 45/2000\n",
      "157/157 [==============================] - 0s 2ms/step - loss: 0.9566 - f1_score: 0.6196 - accuracy: 0.6496 - val_loss: 1.5338 - val_f1_score: 0.4796 - val_accuracy: 0.5210\n",
      "Epoch 46/2000\n",
      "157/157 [==============================] - 0s 2ms/step - loss: 0.9587 - f1_score: 0.6175 - accuracy: 0.6488 - val_loss: 1.5331 - val_f1_score: 0.4751 - val_accuracy: 0.5230\n",
      "Epoch 47/2000\n",
      "157/157 [==============================] - 0s 2ms/step - loss: 0.9541 - f1_score: 0.6202 - accuracy: 0.6512 - val_loss: 1.5301 - val_f1_score: 0.4574 - val_accuracy: 0.5010\n",
      "Epoch 48/2000\n",
      "157/157 [==============================] - 0s 2ms/step - loss: 0.9557 - f1_score: 0.6178 - accuracy: 0.6496 - val_loss: 1.5331 - val_f1_score: 0.4692 - val_accuracy: 0.5200\n",
      "Epoch 49/2000\n",
      "157/157 [==============================] - 0s 2ms/step - loss: 0.9561 - f1_score: 0.6178 - accuracy: 0.6486 - val_loss: 1.5374 - val_f1_score: 0.4626 - val_accuracy: 0.5070\n",
      "Epoch 50/2000\n",
      "157/157 [==============================] - 0s 2ms/step - loss: 0.9554 - f1_score: 0.6198 - accuracy: 0.6506 - val_loss: 1.5423 - val_f1_score: 0.4662 - val_accuracy: 0.5100\n",
      "Epoch 51/2000\n",
      "157/157 [==============================] - 0s 2ms/step - loss: 0.9567 - f1_score: 0.6187 - accuracy: 0.6490 - val_loss: 1.5303 - val_f1_score: 0.4640 - val_accuracy: 0.5170\n",
      "Epoch 52/2000\n",
      "157/157 [==============================] - 0s 2ms/step - loss: 0.9578 - f1_score: 0.6204 - accuracy: 0.6510 - val_loss: 1.5413 - val_f1_score: 0.4674 - val_accuracy: 0.5150\n",
      "Epoch 53/2000\n",
      "157/157 [==============================] - 0s 2ms/step - loss: 0.9543 - f1_score: 0.6191 - accuracy: 0.6502 - val_loss: 1.5409 - val_f1_score: 0.4677 - val_accuracy: 0.5100\n",
      "Epoch 54/2000\n",
      "157/157 [==============================] - 0s 2ms/step - loss: 0.9536 - f1_score: 0.6223 - accuracy: 0.6524 - val_loss: 1.5307 - val_f1_score: 0.4662 - val_accuracy: 0.5250\n",
      "Epoch 55/2000\n",
      "157/157 [==============================] - 0s 2ms/step - loss: 0.9586 - f1_score: 0.6123 - accuracy: 0.6448 - val_loss: 1.5284 - val_f1_score: 0.4681 - val_accuracy: 0.5180\n",
      "Epoch 56/2000\n",
      "157/157 [==============================] - 0s 2ms/step - loss: 0.9540 - f1_score: 0.6213 - accuracy: 0.6518 - val_loss: 1.5425 - val_f1_score: 0.4691 - val_accuracy: 0.5110\n",
      "Epoch 57/2000\n",
      "157/157 [==============================] - 0s 2ms/step - loss: 0.9554 - f1_score: 0.6139 - accuracy: 0.6458 - val_loss: 1.5441 - val_f1_score: 0.4683 - val_accuracy: 0.5130\n",
      "Epoch 58/2000\n",
      "157/157 [==============================] - 0s 2ms/step - loss: 0.9543 - f1_score: 0.6216 - accuracy: 0.6506 - val_loss: 1.5337 - val_f1_score: 0.4567 - val_accuracy: 0.5130\n",
      "Epoch 59/2000\n",
      "157/157 [==============================] - 0s 2ms/step - loss: 0.9571 - f1_score: 0.6204 - accuracy: 0.6514 - val_loss: 1.5362 - val_f1_score: 0.4749 - val_accuracy: 0.5160\n",
      "Epoch 60/2000\n",
      "157/157 [==============================] - 0s 2ms/step - loss: 0.9551 - f1_score: 0.6150 - accuracy: 0.6464 - val_loss: 1.5361 - val_f1_score: 0.4651 - val_accuracy: 0.5090\n",
      "Epoch 61/2000\n",
      "157/157 [==============================] - 0s 2ms/step - loss: 0.9568 - f1_score: 0.6192 - accuracy: 0.6490 - val_loss: 1.5291 - val_f1_score: 0.4692 - val_accuracy: 0.5150\n",
      "Epoch 62/2000\n",
      "157/157 [==============================] - 0s 2ms/step - loss: 0.9534 - f1_score: 0.6262 - accuracy: 0.6550 - val_loss: 1.5391 - val_f1_score: 0.4681 - val_accuracy: 0.5100\n",
      "Epoch 63/2000\n",
      "157/157 [==============================] - 0s 2ms/step - loss: 0.9557 - f1_score: 0.6163 - accuracy: 0.6480 - val_loss: 1.5351 - val_f1_score: 0.4626 - val_accuracy: 0.5110\n",
      "Epoch 64/2000\n",
      "157/157 [==============================] - 0s 2ms/step - loss: 0.9566 - f1_score: 0.6223 - accuracy: 0.6532 - val_loss: 1.5347 - val_f1_score: 0.4692 - val_accuracy: 0.5180\n",
      "Epoch 65/2000\n",
      "157/157 [==============================] - 0s 2ms/step - loss: 0.9541 - f1_score: 0.6212 - accuracy: 0.6512 - val_loss: 1.5392 - val_f1_score: 0.4645 - val_accuracy: 0.5140\n",
      "Epoch 66/2000\n",
      "157/157 [==============================] - 0s 2ms/step - loss: 0.9560 - f1_score: 0.6169 - accuracy: 0.6494 - val_loss: 1.5337 - val_f1_score: 0.4661 - val_accuracy: 0.5140\n",
      "Epoch 67/2000\n",
      "157/157 [==============================] - 0s 2ms/step - loss: 0.9557 - f1_score: 0.6205 - accuracy: 0.6502 - val_loss: 1.5365 - val_f1_score: 0.4703 - val_accuracy: 0.5250\n",
      "Epoch 68/2000\n",
      "157/157 [==============================] - 0s 2ms/step - loss: 0.9551 - f1_score: 0.6178 - accuracy: 0.6500 - val_loss: 1.5340 - val_f1_score: 0.4520 - val_accuracy: 0.5110\n",
      "Epoch 69/2000\n",
      "157/157 [==============================] - 0s 3ms/step - loss: 0.9550 - f1_score: 0.6197 - accuracy: 0.6504 - val_loss: 1.5417 - val_f1_score: 0.4811 - val_accuracy: 0.5120\n",
      "Epoch 70/2000\n",
      "157/157 [==============================] - 0s 2ms/step - loss: 0.9562 - f1_score: 0.6189 - accuracy: 0.6492 - val_loss: 1.5391 - val_f1_score: 0.4751 - val_accuracy: 0.5160\n",
      "Epoch 71/2000\n",
      "157/157 [==============================] - 0s 2ms/step - loss: 0.9556 - f1_score: 0.6180 - accuracy: 0.6482 - val_loss: 1.5394 - val_f1_score: 0.4681 - val_accuracy: 0.5190\n",
      "Epoch 72/2000\n",
      "157/157 [==============================] - 0s 2ms/step - loss: 0.9553 - f1_score: 0.6157 - accuracy: 0.6486 - val_loss: 1.5421 - val_f1_score: 0.4706 - val_accuracy: 0.5120\n",
      "Epoch 73/2000\n",
      "157/157 [==============================] - 0s 2ms/step - loss: 0.9529 - f1_score: 0.6189 - accuracy: 0.6498 - val_loss: 1.5400 - val_f1_score: 0.4708 - val_accuracy: 0.5240\n",
      "Epoch 74/2000\n",
      "157/157 [==============================] - 0s 2ms/step - loss: 0.9530 - f1_score: 0.6222 - accuracy: 0.6528 - val_loss: 1.5386 - val_f1_score: 0.4704 - val_accuracy: 0.5150\n",
      "Epoch 75/2000\n",
      "157/157 [==============================] - 0s 2ms/step - loss: 0.9528 - f1_score: 0.6221 - accuracy: 0.6526 - val_loss: 1.5408 - val_f1_score: 0.4698 - val_accuracy: 0.5180\n",
      "Epoch 76/2000\n",
      "157/157 [==============================] - 0s 3ms/step - loss: 0.9554 - f1_score: 0.6230 - accuracy: 0.6532 - val_loss: 1.5399 - val_f1_score: 0.4706 - val_accuracy: 0.5290\n",
      "Epoch 77/2000\n",
      "157/157 [==============================] - 0s 2ms/step - loss: 0.9541 - f1_score: 0.6196 - accuracy: 0.6502 - val_loss: 1.5418 - val_f1_score: 0.4629 - val_accuracy: 0.5090\n",
      "Epoch 78/2000\n",
      "157/157 [==============================] - 0s 2ms/step - loss: 0.9526 - f1_score: 0.6210 - accuracy: 0.6526 - val_loss: 1.5447 - val_f1_score: 0.4668 - val_accuracy: 0.5230\n",
      "Epoch 79/2000\n",
      "157/157 [==============================] - 0s 2ms/step - loss: 0.9528 - f1_score: 0.6243 - accuracy: 0.6544 - val_loss: 1.5383 - val_f1_score: 0.4708 - val_accuracy: 0.5180\n",
      "Epoch 80/2000\n",
      "157/157 [==============================] - 0s 2ms/step - loss: 0.9550 - f1_score: 0.6166 - accuracy: 0.6474 - val_loss: 1.5349 - val_f1_score: 0.4704 - val_accuracy: 0.5220\n",
      "Epoch 81/2000\n",
      "157/157 [==============================] - 0s 2ms/step - loss: 0.9534 - f1_score: 0.6183 - accuracy: 0.6482 - val_loss: 1.5486 - val_f1_score: 0.4709 - val_accuracy: 0.5150\n",
      "Epoch 82/2000\n",
      "157/157 [==============================] - 0s 2ms/step - loss: 0.9531 - f1_score: 0.6152 - accuracy: 0.6462 - val_loss: 1.5490 - val_f1_score: 0.4746 - val_accuracy: 0.5110\n",
      "Epoch 83/2000\n",
      "157/157 [==============================] - 0s 2ms/step - loss: 0.9530 - f1_score: 0.6215 - accuracy: 0.6514 - val_loss: 1.5408 - val_f1_score: 0.4742 - val_accuracy: 0.5180\n",
      "Epoch 84/2000\n",
      "157/157 [==============================] - 0s 2ms/step - loss: 0.9547 - f1_score: 0.6238 - accuracy: 0.6540 - val_loss: 1.5435 - val_f1_score: 0.4726 - val_accuracy: 0.5270\n",
      "Epoch 85/2000\n",
      "157/157 [==============================] - 0s 2ms/step - loss: 0.9553 - f1_score: 0.6170 - accuracy: 0.6474 - val_loss: 1.5469 - val_f1_score: 0.4718 - val_accuracy: 0.5150\n",
      "Epoch 86/2000\n",
      "157/157 [==============================] - 0s 2ms/step - loss: 0.9545 - f1_score: 0.6156 - accuracy: 0.6460 - val_loss: 1.5439 - val_f1_score: 0.4782 - val_accuracy: 0.5270\n",
      "Epoch 87/2000\n",
      "157/157 [==============================] - 0s 2ms/step - loss: 0.9529 - f1_score: 0.6173 - accuracy: 0.6498 - val_loss: 1.5430 - val_f1_score: 0.4704 - val_accuracy: 0.5080\n",
      "Epoch 88/2000\n",
      "157/157 [==============================] - 0s 2ms/step - loss: 0.9520 - f1_score: 0.6212 - accuracy: 0.6520 - val_loss: 1.5446 - val_f1_score: 0.4763 - val_accuracy: 0.5190\n",
      "Epoch 89/2000\n",
      "157/157 [==============================] - 0s 2ms/step - loss: 0.9531 - f1_score: 0.6202 - accuracy: 0.6506 - val_loss: 1.5439 - val_f1_score: 0.4666 - val_accuracy: 0.5150\n",
      "Epoch 90/2000\n",
      "157/157 [==============================] - 0s 2ms/step - loss: 0.9538 - f1_score: 0.6217 - accuracy: 0.6520 - val_loss: 1.5417 - val_f1_score: 0.4681 - val_accuracy: 0.5270\n",
      "Epoch 91/2000\n",
      "157/157 [==============================] - 0s 2ms/step - loss: 0.9515 - f1_score: 0.6172 - accuracy: 0.6484 - val_loss: 1.5456 - val_f1_score: 0.4724 - val_accuracy: 0.5100\n",
      "Epoch 92/2000\n",
      "157/157 [==============================] - 0s 2ms/step - loss: 0.9499 - f1_score: 0.6228 - accuracy: 0.6524 - val_loss: 1.5519 - val_f1_score: 0.4678 - val_accuracy: 0.5200\n",
      "Epoch 93/2000\n",
      "157/157 [==============================] - 0s 2ms/step - loss: 0.9521 - f1_score: 0.6252 - accuracy: 0.6560 - val_loss: 1.5425 - val_f1_score: 0.4777 - val_accuracy: 0.5230\n",
      "Epoch 94/2000\n",
      "157/157 [==============================] - 0s 2ms/step - loss: 0.9531 - f1_score: 0.6201 - accuracy: 0.6510 - val_loss: 1.5317 - val_f1_score: 0.4766 - val_accuracy: 0.5260\n",
      "Epoch 95/2000\n",
      "157/157 [==============================] - 0s 2ms/step - loss: 0.9510 - f1_score: 0.6218 - accuracy: 0.6518 - val_loss: 1.5438 - val_f1_score: 0.4678 - val_accuracy: 0.5250\n",
      "Epoch 96/2000\n",
      "157/157 [==============================] - 0s 2ms/step - loss: 0.9511 - f1_score: 0.6219 - accuracy: 0.6526 - val_loss: 1.5428 - val_f1_score: 0.4766 - val_accuracy: 0.5220\n",
      "Epoch 97/2000\n",
      "157/157 [==============================] - 0s 2ms/step - loss: 0.9542 - f1_score: 0.6155 - accuracy: 0.6460 - val_loss: 1.5487 - val_f1_score: 0.4581 - val_accuracy: 0.5110\n",
      "Epoch 98/2000\n",
      "157/157 [==============================] - 0s 3ms/step - loss: 0.9526 - f1_score: 0.6189 - accuracy: 0.6498 - val_loss: 1.5565 - val_f1_score: 0.4823 - val_accuracy: 0.5140\n",
      "Epoch 99/2000\n",
      "157/157 [==============================] - 0s 2ms/step - loss: 0.9495 - f1_score: 0.6222 - accuracy: 0.6520 - val_loss: 1.5504 - val_f1_score: 0.4755 - val_accuracy: 0.5190\n",
      "Epoch 100/2000\n",
      "157/157 [==============================] - 0s 2ms/step - loss: 0.9516 - f1_score: 0.6218 - accuracy: 0.6514 - val_loss: 1.5437 - val_f1_score: 0.4710 - val_accuracy: 0.5220\n",
      "Epoch 101/2000\n",
      "157/157 [==============================] - 0s 2ms/step - loss: 0.9511 - f1_score: 0.6188 - accuracy: 0.6508 - val_loss: 1.5441 - val_f1_score: 0.4753 - val_accuracy: 0.5210\n",
      "Epoch 102/2000\n",
      "157/157 [==============================] - 0s 2ms/step - loss: 0.9491 - f1_score: 0.6213 - accuracy: 0.6522 - val_loss: 1.5423 - val_f1_score: 0.4619 - val_accuracy: 0.5170\n",
      "Epoch 103/2000\n",
      "157/157 [==============================] - 0s 2ms/step - loss: 0.9491 - f1_score: 0.6176 - accuracy: 0.6476 - val_loss: 1.5532 - val_f1_score: 0.4609 - val_accuracy: 0.5190\n",
      "Epoch 104/2000\n",
      "157/157 [==============================] - 0s 2ms/step - loss: 0.9523 - f1_score: 0.6217 - accuracy: 0.6518 - val_loss: 1.5438 - val_f1_score: 0.4699 - val_accuracy: 0.5150\n",
      "Epoch 105/2000\n",
      "157/157 [==============================] - 0s 2ms/step - loss: 0.9485 - f1_score: 0.6215 - accuracy: 0.6520 - val_loss: 1.5526 - val_f1_score: 0.4727 - val_accuracy: 0.5150\n",
      "Epoch 106/2000\n",
      "157/157 [==============================] - 0s 2ms/step - loss: 0.9504 - f1_score: 0.6220 - accuracy: 0.6518 - val_loss: 1.5479 - val_f1_score: 0.4779 - val_accuracy: 0.5250\n",
      "Epoch 107/2000\n",
      "157/157 [==============================] - 0s 2ms/step - loss: 0.9546 - f1_score: 0.6187 - accuracy: 0.6498 - val_loss: 1.5518 - val_f1_score: 0.4818 - val_accuracy: 0.5200\n",
      "Epoch 108/2000\n",
      "157/157 [==============================] - 0s 2ms/step - loss: 0.9496 - f1_score: 0.6204 - accuracy: 0.6506 - val_loss: 1.5538 - val_f1_score: 0.4773 - val_accuracy: 0.5200\n",
      "Epoch 109/2000\n",
      "157/157 [==============================] - 0s 2ms/step - loss: 0.9498 - f1_score: 0.6225 - accuracy: 0.6524 - val_loss: 1.5574 - val_f1_score: 0.4673 - val_accuracy: 0.5090\n",
      "Epoch 110/2000\n",
      "157/157 [==============================] - 0s 2ms/step - loss: 0.9517 - f1_score: 0.6152 - accuracy: 0.6456 - val_loss: 1.5425 - val_f1_score: 0.4809 - val_accuracy: 0.5230\n",
      "Epoch 111/2000\n",
      "157/157 [==============================] - 0s 2ms/step - loss: 0.9508 - f1_score: 0.6165 - accuracy: 0.6476 - val_loss: 1.5490 - val_f1_score: 0.4676 - val_accuracy: 0.5130\n",
      "Epoch 112/2000\n",
      "157/157 [==============================] - 0s 3ms/step - loss: 0.9520 - f1_score: 0.6166 - accuracy: 0.6472 - val_loss: 1.5485 - val_f1_score: 0.4692 - val_accuracy: 0.5200\n",
      "Epoch 113/2000\n",
      "157/157 [==============================] - 0s 2ms/step - loss: 0.9502 - f1_score: 0.6213 - accuracy: 0.6516 - val_loss: 1.5518 - val_f1_score: 0.4700 - val_accuracy: 0.5050\n",
      "Epoch 114/2000\n",
      "157/157 [==============================] - 0s 2ms/step - loss: 0.9507 - f1_score: 0.6228 - accuracy: 0.6536 - val_loss: 1.5533 - val_f1_score: 0.4737 - val_accuracy: 0.5160\n",
      "Epoch 115/2000\n",
      "157/157 [==============================] - 0s 2ms/step - loss: 0.9492 - f1_score: 0.6170 - accuracy: 0.6480 - val_loss: 1.5561 - val_f1_score: 0.4633 - val_accuracy: 0.5160\n",
      "Epoch 116/2000\n",
      "157/157 [==============================] - 0s 2ms/step - loss: 0.9504 - f1_score: 0.6213 - accuracy: 0.6516 - val_loss: 1.5649 - val_f1_score: 0.4726 - val_accuracy: 0.5170\n",
      "Epoch 117/2000\n",
      "157/157 [==============================] - 0s 2ms/step - loss: 0.9521 - f1_score: 0.6168 - accuracy: 0.6484 - val_loss: 1.5467 - val_f1_score: 0.4659 - val_accuracy: 0.5160\n",
      "Epoch 118/2000\n",
      "157/157 [==============================] - 0s 2ms/step - loss: 0.9502 - f1_score: 0.6237 - accuracy: 0.6540 - val_loss: 1.5564 - val_f1_score: 0.4813 - val_accuracy: 0.5140\n",
      "Epoch 119/2000\n",
      "157/157 [==============================] - 0s 2ms/step - loss: 0.9518 - f1_score: 0.6180 - accuracy: 0.6468 - val_loss: 1.5446 - val_f1_score: 0.4736 - val_accuracy: 0.5190\n",
      "Epoch 120/2000\n",
      "157/157 [==============================] - 0s 2ms/step - loss: 0.9510 - f1_score: 0.6147 - accuracy: 0.6468 - val_loss: 1.5515 - val_f1_score: 0.4698 - val_accuracy: 0.5190\n",
      "Epoch 121/2000\n",
      "157/157 [==============================] - 0s 2ms/step - loss: 0.9515 - f1_score: 0.6215 - accuracy: 0.6512 - val_loss: 1.5574 - val_f1_score: 0.4636 - val_accuracy: 0.5150\n",
      "Epoch 122/2000\n",
      "157/157 [==============================] - 0s 2ms/step - loss: 0.9504 - f1_score: 0.6227 - accuracy: 0.6522 - val_loss: 1.5505 - val_f1_score: 0.4741 - val_accuracy: 0.5220\n",
      "Epoch 123/2000\n",
      "157/157 [==============================] - 0s 2ms/step - loss: 0.9477 - f1_score: 0.6201 - accuracy: 0.6506 - val_loss: 1.5527 - val_f1_score: 0.4551 - val_accuracy: 0.5070\n",
      "Epoch 124/2000\n",
      "157/157 [==============================] - 0s 2ms/step - loss: 0.9487 - f1_score: 0.6196 - accuracy: 0.6504 - val_loss: 1.5539 - val_f1_score: 0.4802 - val_accuracy: 0.5290\n",
      "Epoch 125/2000\n",
      "157/157 [==============================] - 0s 2ms/step - loss: 0.9492 - f1_score: 0.6253 - accuracy: 0.6544 - val_loss: 1.5530 - val_f1_score: 0.4679 - val_accuracy: 0.5220\n",
      "Epoch 126/2000\n",
      "157/157 [==============================] - 0s 2ms/step - loss: 0.9483 - f1_score: 0.6225 - accuracy: 0.6536 - val_loss: 1.5612 - val_f1_score: 0.4722 - val_accuracy: 0.5150\n",
      "Epoch 127/2000\n",
      "157/157 [==============================] - 0s 3ms/step - loss: 0.9504 - f1_score: 0.6226 - accuracy: 0.6524 - val_loss: 1.5511 - val_f1_score: 0.4789 - val_accuracy: 0.5260\n",
      "Epoch 128/2000\n",
      "157/157 [==============================] - 0s 2ms/step - loss: 0.9489 - f1_score: 0.6197 - accuracy: 0.6496 - val_loss: 1.5522 - val_f1_score: 0.4681 - val_accuracy: 0.5060\n",
      "Epoch 129/2000\n",
      "157/157 [==============================] - 0s 2ms/step - loss: 0.9504 - f1_score: 0.6225 - accuracy: 0.6514 - val_loss: 1.5453 - val_f1_score: 0.4725 - val_accuracy: 0.5160\n",
      "Epoch 130/2000\n",
      "157/157 [==============================] - 0s 2ms/step - loss: 0.9455 - f1_score: 0.6222 - accuracy: 0.6528 - val_loss: 1.5539 - val_f1_score: 0.4771 - val_accuracy: 0.5240\n",
      "Epoch 131/2000\n",
      "157/157 [==============================] - 0s 2ms/step - loss: 0.9502 - f1_score: 0.6208 - accuracy: 0.6512 - val_loss: 1.5632 - val_f1_score: 0.4742 - val_accuracy: 0.5150\n",
      "Epoch 132/2000\n",
      "157/157 [==============================] - 0s 2ms/step - loss: 0.9506 - f1_score: 0.6171 - accuracy: 0.6474 - val_loss: 1.5655 - val_f1_score: 0.4722 - val_accuracy: 0.5240\n",
      "Epoch 133/2000\n",
      "157/157 [==============================] - 0s 2ms/step - loss: 0.9470 - f1_score: 0.6236 - accuracy: 0.6532 - val_loss: 1.5562 - val_f1_score: 0.4713 - val_accuracy: 0.5240\n",
      "Epoch 134/2000\n",
      "157/157 [==============================] - 0s 2ms/step - loss: 0.9485 - f1_score: 0.6239 - accuracy: 0.6536 - val_loss: 1.5563 - val_f1_score: 0.4802 - val_accuracy: 0.5240\n",
      "Epoch 135/2000\n",
      "157/157 [==============================] - 0s 2ms/step - loss: 0.9476 - f1_score: 0.6247 - accuracy: 0.6546 - val_loss: 1.5558 - val_f1_score: 0.4702 - val_accuracy: 0.5200\n",
      "Epoch 136/2000\n",
      "157/157 [==============================] - 0s 2ms/step - loss: 0.9475 - f1_score: 0.6205 - accuracy: 0.6498 - val_loss: 1.5534 - val_f1_score: 0.4738 - val_accuracy: 0.5250\n",
      "Epoch 137/2000\n",
      "157/157 [==============================] - 0s 2ms/step - loss: 0.9478 - f1_score: 0.6236 - accuracy: 0.6548 - val_loss: 1.5554 - val_f1_score: 0.4758 - val_accuracy: 0.5210\n",
      "Epoch 138/2000\n",
      "157/157 [==============================] - 0s 2ms/step - loss: 0.9478 - f1_score: 0.6220 - accuracy: 0.6520 - val_loss: 1.5512 - val_f1_score: 0.4738 - val_accuracy: 0.5200\n",
      "Epoch 139/2000\n",
      "157/157 [==============================] - 0s 2ms/step - loss: 0.9489 - f1_score: 0.6188 - accuracy: 0.6500 - val_loss: 1.5677 - val_f1_score: 0.4717 - val_accuracy: 0.5150\n",
      "Epoch 140/2000\n",
      "157/157 [==============================] - 0s 2ms/step - loss: 0.9456 - f1_score: 0.6213 - accuracy: 0.6508 - val_loss: 1.5511 - val_f1_score: 0.4671 - val_accuracy: 0.5200\n",
      "Epoch 141/2000\n",
      "157/157 [==============================] - 0s 2ms/step - loss: 0.9490 - f1_score: 0.6258 - accuracy: 0.6564 - val_loss: 1.5538 - val_f1_score: 0.4713 - val_accuracy: 0.5130\n",
      "Epoch 142/2000\n",
      "157/157 [==============================] - 0s 2ms/step - loss: 0.9466 - f1_score: 0.6238 - accuracy: 0.6538 - val_loss: 1.5619 - val_f1_score: 0.4632 - val_accuracy: 0.5130\n",
      "Epoch 143/2000\n",
      "157/157 [==============================] - 0s 2ms/step - loss: 0.9492 - f1_score: 0.6206 - accuracy: 0.6504 - val_loss: 1.5614 - val_f1_score: 0.4699 - val_accuracy: 0.5260\n",
      "Epoch 144/2000\n",
      "157/157 [==============================] - 0s 2ms/step - loss: 0.9466 - f1_score: 0.6197 - accuracy: 0.6498 - val_loss: 1.5559 - val_f1_score: 0.4598 - val_accuracy: 0.5170\n",
      "Epoch 145/2000\n",
      "157/157 [==============================] - 0s 2ms/step - loss: 0.9485 - f1_score: 0.6220 - accuracy: 0.6524 - val_loss: 1.5664 - val_f1_score: 0.4641 - val_accuracy: 0.5060\n",
      "Epoch 146/2000\n",
      "157/157 [==============================] - 0s 2ms/step - loss: 0.9483 - f1_score: 0.6233 - accuracy: 0.6532 - val_loss: 1.5645 - val_f1_score: 0.4686 - val_accuracy: 0.5140\n",
      "Epoch 147/2000\n",
      "157/157 [==============================] - 0s 2ms/step - loss: 0.9471 - f1_score: 0.6178 - accuracy: 0.6480 - val_loss: 1.5601 - val_f1_score: 0.4747 - val_accuracy: 0.5210\n",
      "Epoch 148/2000\n",
      "157/157 [==============================] - 0s 2ms/step - loss: 0.9469 - f1_score: 0.6247 - accuracy: 0.6540 - val_loss: 1.5648 - val_f1_score: 0.4609 - val_accuracy: 0.5120\n",
      "Epoch 149/2000\n",
      "157/157 [==============================] - 0s 3ms/step - loss: 0.9492 - f1_score: 0.6173 - accuracy: 0.6486 - val_loss: 1.5607 - val_f1_score: 0.4643 - val_accuracy: 0.5080\n",
      "Epoch 150/2000\n",
      "157/157 [==============================] - 0s 2ms/step - loss: 0.9471 - f1_score: 0.6225 - accuracy: 0.6518 - val_loss: 1.5684 - val_f1_score: 0.4713 - val_accuracy: 0.5190\n",
      "Epoch 151/2000\n",
      "157/157 [==============================] - 0s 2ms/step - loss: 0.9486 - f1_score: 0.6219 - accuracy: 0.6520 - val_loss: 1.5642 - val_f1_score: 0.4746 - val_accuracy: 0.5220\n",
      "Epoch 152/2000\n",
      "157/157 [==============================] - 0s 2ms/step - loss: 0.9486 - f1_score: 0.6237 - accuracy: 0.6538 - val_loss: 1.5635 - val_f1_score: 0.4694 - val_accuracy: 0.5260\n",
      "Epoch 153/2000\n",
      "157/157 [==============================] - 0s 2ms/step - loss: 0.9455 - f1_score: 0.6224 - accuracy: 0.6518 - val_loss: 1.5745 - val_f1_score: 0.4763 - val_accuracy: 0.5160\n",
      "Epoch 154/2000\n",
      "157/157 [==============================] - 0s 3ms/step - loss: 0.9472 - f1_score: 0.6226 - accuracy: 0.6530 - val_loss: 1.5724 - val_f1_score: 0.4650 - val_accuracy: 0.5120\n",
      "Epoch 155/2000\n",
      "157/157 [==============================] - 0s 2ms/step - loss: 0.9463 - f1_score: 0.6193 - accuracy: 0.6498 - val_loss: 1.5587 - val_f1_score: 0.4645 - val_accuracy: 0.5150\n",
      "Epoch 156/2000\n",
      "157/157 [==============================] - 0s 2ms/step - loss: 0.9474 - f1_score: 0.6183 - accuracy: 0.6494 - val_loss: 1.5704 - val_f1_score: 0.4669 - val_accuracy: 0.5050\n",
      "Epoch 157/2000\n",
      "157/157 [==============================] - 0s 2ms/step - loss: 0.9467 - f1_score: 0.6234 - accuracy: 0.6528 - val_loss: 1.5673 - val_f1_score: 0.4667 - val_accuracy: 0.5070\n",
      "Epoch 158/2000\n",
      "157/157 [==============================] - 0s 2ms/step - loss: 0.9463 - f1_score: 0.6213 - accuracy: 0.6524 - val_loss: 1.5613 - val_f1_score: 0.4741 - val_accuracy: 0.5040\n",
      "Epoch 159/2000\n",
      "157/157 [==============================] - 0s 2ms/step - loss: 0.9469 - f1_score: 0.6254 - accuracy: 0.6538 - val_loss: 1.5823 - val_f1_score: 0.4586 - val_accuracy: 0.5130\n",
      "Epoch 160/2000\n",
      "157/157 [==============================] - 0s 2ms/step - loss: 0.9453 - f1_score: 0.6235 - accuracy: 0.6544 - val_loss: 1.5602 - val_f1_score: 0.4693 - val_accuracy: 0.5200\n",
      "Epoch 161/2000\n",
      "157/157 [==============================] - 0s 2ms/step - loss: 0.9464 - f1_score: 0.6178 - accuracy: 0.6466 - val_loss: 1.5625 - val_f1_score: 0.4594 - val_accuracy: 0.5210\n",
      "Epoch 162/2000\n",
      "157/157 [==============================] - 0s 2ms/step - loss: 0.9463 - f1_score: 0.6277 - accuracy: 0.6570 - val_loss: 1.5630 - val_f1_score: 0.4764 - val_accuracy: 0.5220\n",
      "Epoch 163/2000\n",
      "157/157 [==============================] - 0s 2ms/step - loss: 0.9449 - f1_score: 0.6274 - accuracy: 0.6558 - val_loss: 1.5586 - val_f1_score: 0.4638 - val_accuracy: 0.5140\n",
      "Epoch 164/2000\n",
      "157/157 [==============================] - 0s 2ms/step - loss: 0.9437 - f1_score: 0.6194 - accuracy: 0.6508 - val_loss: 1.5750 - val_f1_score: 0.4702 - val_accuracy: 0.5080\n",
      "Epoch 165/2000\n",
      "157/157 [==============================] - 0s 2ms/step - loss: 0.9454 - f1_score: 0.6185 - accuracy: 0.6482 - val_loss: 1.5570 - val_f1_score: 0.4800 - val_accuracy: 0.5300\n",
      "Epoch 166/2000\n",
      "157/157 [==============================] - 0s 2ms/step - loss: 0.9443 - f1_score: 0.6245 - accuracy: 0.6544 - val_loss: 1.5650 - val_f1_score: 0.4707 - val_accuracy: 0.5170\n",
      "Epoch 167/2000\n",
      "157/157 [==============================] - 0s 2ms/step - loss: 0.9454 - f1_score: 0.6271 - accuracy: 0.6558 - val_loss: 1.5607 - val_f1_score: 0.4624 - val_accuracy: 0.5140\n",
      "Epoch 168/2000\n",
      "157/157 [==============================] - 0s 2ms/step - loss: 0.9456 - f1_score: 0.6231 - accuracy: 0.6518 - val_loss: 1.5655 - val_f1_score: 0.4671 - val_accuracy: 0.5160\n",
      "Epoch 169/2000\n",
      "157/157 [==============================] - 0s 2ms/step - loss: 0.9470 - f1_score: 0.6256 - accuracy: 0.6558 - val_loss: 1.5690 - val_f1_score: 0.4767 - val_accuracy: 0.5210\n",
      "Epoch 170/2000\n",
      "157/157 [==============================] - 0s 2ms/step - loss: 0.9467 - f1_score: 0.6206 - accuracy: 0.6510 - val_loss: 1.5639 - val_f1_score: 0.4691 - val_accuracy: 0.5090\n",
      "Epoch 171/2000\n",
      "157/157 [==============================] - 0s 2ms/step - loss: 0.9431 - f1_score: 0.6213 - accuracy: 0.6506 - val_loss: 1.5812 - val_f1_score: 0.4671 - val_accuracy: 0.5130\n",
      "Epoch 172/2000\n",
      "157/157 [==============================] - 0s 2ms/step - loss: 0.9461 - f1_score: 0.6205 - accuracy: 0.6502 - val_loss: 1.5695 - val_f1_score: 0.4624 - val_accuracy: 0.5060\n",
      "Epoch 173/2000\n",
      "157/157 [==============================] - 0s 2ms/step - loss: 0.9449 - f1_score: 0.6246 - accuracy: 0.6536 - val_loss: 1.5807 - val_f1_score: 0.4687 - val_accuracy: 0.5100\n",
      "Epoch 174/2000\n",
      "157/157 [==============================] - 0s 2ms/step - loss: 0.9472 - f1_score: 0.6215 - accuracy: 0.6500 - val_loss: 1.5671 - val_f1_score: 0.4637 - val_accuracy: 0.5180\n",
      "Epoch 175/2000\n",
      "157/157 [==============================] - 0s 2ms/step - loss: 0.9438 - f1_score: 0.6273 - accuracy: 0.6558 - val_loss: 1.5708 - val_f1_score: 0.4634 - val_accuracy: 0.5100\n",
      "Epoch 176/2000\n",
      "157/157 [==============================] - 0s 2ms/step - loss: 0.9454 - f1_score: 0.6228 - accuracy: 0.6520 - val_loss: 1.5735 - val_f1_score: 0.4576 - val_accuracy: 0.5140\n",
      "Epoch 177/2000\n",
      "157/157 [==============================] - 0s 2ms/step - loss: 0.9450 - f1_score: 0.6227 - accuracy: 0.6534 - val_loss: 1.5773 - val_f1_score: 0.4708 - val_accuracy: 0.5200\n",
      "Epoch 178/2000\n",
      "157/157 [==============================] - 0s 2ms/step - loss: 0.9451 - f1_score: 0.6248 - accuracy: 0.6544 - val_loss: 1.5722 - val_f1_score: 0.4720 - val_accuracy: 0.5150\n",
      "Epoch 179/2000\n",
      "157/157 [==============================] - 0s 2ms/step - loss: 0.9442 - f1_score: 0.6201 - accuracy: 0.6510 - val_loss: 1.5699 - val_f1_score: 0.4747 - val_accuracy: 0.5130\n",
      "Epoch 180/2000\n",
      "157/157 [==============================] - 0s 2ms/step - loss: 0.9433 - f1_score: 0.6250 - accuracy: 0.6544 - val_loss: 1.5587 - val_f1_score: 0.4690 - val_accuracy: 0.5190\n",
      "Epoch 181/2000\n",
      "157/157 [==============================] - 0s 2ms/step - loss: 0.9438 - f1_score: 0.6227 - accuracy: 0.6530 - val_loss: 1.5704 - val_f1_score: 0.4647 - val_accuracy: 0.5160\n",
      "Epoch 182/2000\n",
      "157/157 [==============================] - 0s 2ms/step - loss: 0.9441 - f1_score: 0.6254 - accuracy: 0.6548 - val_loss: 1.5713 - val_f1_score: 0.4722 - val_accuracy: 0.5130\n",
      "Epoch 183/2000\n",
      "157/157 [==============================] - 0s 2ms/step - loss: 0.9453 - f1_score: 0.6173 - accuracy: 0.6470 - val_loss: 1.5675 - val_f1_score: 0.4624 - val_accuracy: 0.5130\n",
      "Epoch 184/2000\n",
      "157/157 [==============================] - 0s 2ms/step - loss: 0.9436 - f1_score: 0.6241 - accuracy: 0.6532 - val_loss: 1.5911 - val_f1_score: 0.4700 - val_accuracy: 0.5020\n",
      "Epoch 185/2000\n",
      "157/157 [==============================] - 0s 2ms/step - loss: 0.9463 - f1_score: 0.6239 - accuracy: 0.6532 - val_loss: 1.5664 - val_f1_score: 0.4730 - val_accuracy: 0.5200\n",
      "Epoch 186/2000\n",
      "157/157 [==============================] - 0s 2ms/step - loss: 0.9452 - f1_score: 0.6212 - accuracy: 0.6512 - val_loss: 1.5726 - val_f1_score: 0.4752 - val_accuracy: 0.5180\n",
      "Epoch 187/2000\n",
      "157/157 [==============================] - 0s 2ms/step - loss: 0.9454 - f1_score: 0.6223 - accuracy: 0.6516 - val_loss: 1.5758 - val_f1_score: 0.4709 - val_accuracy: 0.5250\n",
      "Epoch 188/2000\n",
      "157/157 [==============================] - 0s 2ms/step - loss: 0.9444 - f1_score: 0.6219 - accuracy: 0.6510 - val_loss: 1.5661 - val_f1_score: 0.4746 - val_accuracy: 0.5250\n",
      "Epoch 189/2000\n",
      "157/157 [==============================] - 0s 2ms/step - loss: 0.9435 - f1_score: 0.6225 - accuracy: 0.6524 - val_loss: 1.5703 - val_f1_score: 0.4618 - val_accuracy: 0.5200\n",
      "Epoch 190/2000\n",
      "157/157 [==============================] - 0s 2ms/step - loss: 0.9425 - f1_score: 0.6244 - accuracy: 0.6538 - val_loss: 1.5779 - val_f1_score: 0.4651 - val_accuracy: 0.5090\n",
      "Epoch 191/2000\n",
      "157/157 [==============================] - 0s 2ms/step - loss: 0.9417 - f1_score: 0.6236 - accuracy: 0.6534 - val_loss: 1.5712 - val_f1_score: 0.4677 - val_accuracy: 0.5210\n",
      "Epoch 192/2000\n",
      "157/157 [==============================] - 0s 2ms/step - loss: 0.9442 - f1_score: 0.6249 - accuracy: 0.6544 - val_loss: 1.5794 - val_f1_score: 0.4697 - val_accuracy: 0.5190\n",
      "Epoch 193/2000\n",
      "157/157 [==============================] - 0s 2ms/step - loss: 0.9436 - f1_score: 0.6228 - accuracy: 0.6516 - val_loss: 1.5761 - val_f1_score: 0.4596 - val_accuracy: 0.5060\n",
      "Epoch 194/2000\n",
      "157/157 [==============================] - 0s 2ms/step - loss: 0.9420 - f1_score: 0.6218 - accuracy: 0.6520 - val_loss: 1.5668 - val_f1_score: 0.4681 - val_accuracy: 0.5190\n",
      "Epoch 195/2000\n",
      "157/157 [==============================] - 0s 2ms/step - loss: 0.9444 - f1_score: 0.6249 - accuracy: 0.6540 - val_loss: 1.5724 - val_f1_score: 0.4580 - val_accuracy: 0.5040\n",
      "Epoch 196/2000\n",
      "157/157 [==============================] - 0s 2ms/step - loss: 0.9446 - f1_score: 0.6298 - accuracy: 0.6588 - val_loss: 1.5733 - val_f1_score: 0.4709 - val_accuracy: 0.5170\n",
      "Epoch 197/2000\n",
      "157/157 [==============================] - 0s 2ms/step - loss: 0.9424 - f1_score: 0.6187 - accuracy: 0.6482 - val_loss: 1.5692 - val_f1_score: 0.4609 - val_accuracy: 0.5060\n",
      "Epoch 198/2000\n",
      "157/157 [==============================] - 0s 2ms/step - loss: 0.9433 - f1_score: 0.6234 - accuracy: 0.6536 - val_loss: 1.5752 - val_f1_score: 0.4611 - val_accuracy: 0.5130\n",
      "Epoch 199/2000\n",
      "157/157 [==============================] - 0s 2ms/step - loss: 0.9422 - f1_score: 0.6227 - accuracy: 0.6516 - val_loss: 1.5742 - val_f1_score: 0.4632 - val_accuracy: 0.5200\n",
      "Epoch 200/2000\n",
      "157/157 [==============================] - 0s 2ms/step - loss: 0.9433 - f1_score: 0.6233 - accuracy: 0.6540 - val_loss: 1.5813 - val_f1_score: 0.4593 - val_accuracy: 0.5090\n",
      "Epoch 201/2000\n",
      "157/157 [==============================] - 0s 2ms/step - loss: 0.9421 - f1_score: 0.6269 - accuracy: 0.6564 - val_loss: 1.5712 - val_f1_score: 0.4760 - val_accuracy: 0.5180\n",
      "Epoch 202/2000\n",
      "157/157 [==============================] - 0s 2ms/step - loss: 0.9442 - f1_score: 0.6239 - accuracy: 0.6536 - val_loss: 1.5764 - val_f1_score: 0.4624 - val_accuracy: 0.5110\n",
      "Epoch 203/2000\n",
      "157/157 [==============================] - 0s 3ms/step - loss: 0.9419 - f1_score: 0.6259 - accuracy: 0.6548 - val_loss: 1.5770 - val_f1_score: 0.4723 - val_accuracy: 0.5190\n",
      "Epoch 204/2000\n",
      "157/157 [==============================] - 0s 2ms/step - loss: 0.9414 - f1_score: 0.6265 - accuracy: 0.6560 - val_loss: 1.5694 - val_f1_score: 0.4675 - val_accuracy: 0.5160\n",
      "Epoch 205/2000\n",
      "157/157 [==============================] - 0s 2ms/step - loss: 0.9424 - f1_score: 0.6276 - accuracy: 0.6564 - val_loss: 1.5920 - val_f1_score: 0.4709 - val_accuracy: 0.5100\n",
      "Epoch 206/2000\n",
      "157/157 [==============================] - 0s 2ms/step - loss: 0.9417 - f1_score: 0.6271 - accuracy: 0.6550 - val_loss: 1.5687 - val_f1_score: 0.4679 - val_accuracy: 0.5240\n",
      "Epoch 207/2000\n",
      "157/157 [==============================] - 0s 2ms/step - loss: 0.9444 - f1_score: 0.6244 - accuracy: 0.6538 - val_loss: 1.5757 - val_f1_score: 0.4642 - val_accuracy: 0.5130\n",
      "Epoch 208/2000\n",
      "157/157 [==============================] - 0s 2ms/step - loss: 0.9423 - f1_score: 0.6293 - accuracy: 0.6576 - val_loss: 1.5890 - val_f1_score: 0.4686 - val_accuracy: 0.5110\n",
      "Epoch 209/2000\n",
      "157/157 [==============================] - 0s 2ms/step - loss: 0.9449 - f1_score: 0.6252 - accuracy: 0.6546 - val_loss: 1.5833 - val_f1_score: 0.4672 - val_accuracy: 0.5100\n",
      "Epoch 210/2000\n",
      "157/157 [==============================] - 0s 2ms/step - loss: 0.9442 - f1_score: 0.6233 - accuracy: 0.6532 - val_loss: 1.5784 - val_f1_score: 0.4673 - val_accuracy: 0.5050\n",
      "Epoch 211/2000\n",
      "157/157 [==============================] - 0s 2ms/step - loss: 0.9430 - f1_score: 0.6263 - accuracy: 0.6552 - val_loss: 1.5763 - val_f1_score: 0.4637 - val_accuracy: 0.5070\n",
      "Epoch 212/2000\n",
      "157/157 [==============================] - 0s 2ms/step - loss: 0.9416 - f1_score: 0.6231 - accuracy: 0.6518 - val_loss: 1.5810 - val_f1_score: 0.4728 - val_accuracy: 0.5240\n",
      "Epoch 213/2000\n",
      "157/157 [==============================] - 0s 2ms/step - loss: 0.9414 - f1_score: 0.6251 - accuracy: 0.6542 - val_loss: 1.5724 - val_f1_score: 0.4551 - val_accuracy: 0.5040\n",
      "Epoch 214/2000\n",
      "157/157 [==============================] - 0s 2ms/step - loss: 0.9390 - f1_score: 0.6273 - accuracy: 0.6554 - val_loss: 1.5846 - val_f1_score: 0.4605 - val_accuracy: 0.5170\n",
      "Epoch 215/2000\n",
      "157/157 [==============================] - 0s 2ms/step - loss: 0.9420 - f1_score: 0.6256 - accuracy: 0.6546 - val_loss: 1.5828 - val_f1_score: 0.4692 - val_accuracy: 0.5120\n",
      "Epoch 216/2000\n",
      "157/157 [==============================] - 0s 2ms/step - loss: 0.9413 - f1_score: 0.6251 - accuracy: 0.6548 - val_loss: 1.5797 - val_f1_score: 0.4693 - val_accuracy: 0.5270\n",
      "Epoch 217/2000\n",
      "157/157 [==============================] - 0s 2ms/step - loss: 0.9429 - f1_score: 0.6279 - accuracy: 0.6560 - val_loss: 1.5811 - val_f1_score: 0.4708 - val_accuracy: 0.5100\n",
      "Epoch 218/2000\n",
      "157/157 [==============================] - 0s 2ms/step - loss: 0.9434 - f1_score: 0.6225 - accuracy: 0.6528 - val_loss: 1.5762 - val_f1_score: 0.4747 - val_accuracy: 0.5160\n",
      "Epoch 219/2000\n",
      "157/157 [==============================] - 0s 2ms/step - loss: 0.9412 - f1_score: 0.6265 - accuracy: 0.6554 - val_loss: 1.5801 - val_f1_score: 0.4665 - val_accuracy: 0.5030\n",
      "Epoch 220/2000\n",
      "157/157 [==============================] - 0s 2ms/step - loss: 0.9413 - f1_score: 0.6215 - accuracy: 0.6500 - val_loss: 1.5845 - val_f1_score: 0.4730 - val_accuracy: 0.5200\n",
      "Epoch 221/2000\n",
      "157/157 [==============================] - 0s 2ms/step - loss: 0.9416 - f1_score: 0.6270 - accuracy: 0.6572 - val_loss: 1.5837 - val_f1_score: 0.4627 - val_accuracy: 0.5140\n",
      "Epoch 222/2000\n",
      "157/157 [==============================] - 0s 2ms/step - loss: 0.9421 - f1_score: 0.6230 - accuracy: 0.6526 - val_loss: 1.5771 - val_f1_score: 0.4691 - val_accuracy: 0.5100\n",
      "Epoch 223/2000\n",
      "157/157 [==============================] - 0s 2ms/step - loss: 0.9396 - f1_score: 0.6325 - accuracy: 0.6594 - val_loss: 1.5731 - val_f1_score: 0.4729 - val_accuracy: 0.5220\n",
      "Epoch 224/2000\n",
      "157/157 [==============================] - 0s 2ms/step - loss: 0.9426 - f1_score: 0.6272 - accuracy: 0.6566 - val_loss: 1.5823 - val_f1_score: 0.4624 - val_accuracy: 0.5150\n",
      "Epoch 225/2000\n",
      "157/157 [==============================] - 0s 2ms/step - loss: 0.9410 - f1_score: 0.6273 - accuracy: 0.6570 - val_loss: 1.5840 - val_f1_score: 0.4672 - val_accuracy: 0.5090\n",
      "Epoch 226/2000\n",
      "157/157 [==============================] - 0s 2ms/step - loss: 0.9427 - f1_score: 0.6254 - accuracy: 0.6544 - val_loss: 1.5786 - val_f1_score: 0.4708 - val_accuracy: 0.5240\n",
      "Epoch 227/2000\n",
      "157/157 [==============================] - 0s 2ms/step - loss: 0.9412 - f1_score: 0.6250 - accuracy: 0.6544 - val_loss: 1.5832 - val_f1_score: 0.4709 - val_accuracy: 0.5160\n",
      "Epoch 228/2000\n",
      "157/157 [==============================] - 0s 2ms/step - loss: 0.9417 - f1_score: 0.6265 - accuracy: 0.6558 - val_loss: 1.5767 - val_f1_score: 0.4670 - val_accuracy: 0.5140\n",
      "Epoch 229/2000\n",
      "157/157 [==============================] - 0s 2ms/step - loss: 0.9403 - f1_score: 0.6282 - accuracy: 0.6556 - val_loss: 1.5838 - val_f1_score: 0.4704 - val_accuracy: 0.5150\n",
      "Epoch 230/2000\n",
      "157/157 [==============================] - 0s 2ms/step - loss: 0.9426 - f1_score: 0.6217 - accuracy: 0.6514 - val_loss: 1.5790 - val_f1_score: 0.4676 - val_accuracy: 0.5160\n",
      "Epoch 231/2000\n",
      "157/157 [==============================] - 0s 2ms/step - loss: 0.9391 - f1_score: 0.6267 - accuracy: 0.6552 - val_loss: 1.5834 - val_f1_score: 0.4665 - val_accuracy: 0.5170\n",
      "Epoch 232/2000\n",
      "157/157 [==============================] - 0s 2ms/step - loss: 0.9400 - f1_score: 0.6280 - accuracy: 0.6568 - val_loss: 1.5930 - val_f1_score: 0.4672 - val_accuracy: 0.5110\n",
      "Epoch 233/2000\n",
      "157/157 [==============================] - 0s 2ms/step - loss: 0.9399 - f1_score: 0.6261 - accuracy: 0.6542 - val_loss: 1.5790 - val_f1_score: 0.4673 - val_accuracy: 0.5130\n",
      "Epoch 234/2000\n",
      "157/157 [==============================] - 0s 2ms/step - loss: 0.9416 - f1_score: 0.6241 - accuracy: 0.6536 - val_loss: 1.5886 - val_f1_score: 0.4695 - val_accuracy: 0.5200\n",
      "Epoch 235/2000\n",
      "157/157 [==============================] - 0s 2ms/step - loss: 0.9420 - f1_score: 0.6262 - accuracy: 0.6548 - val_loss: 1.5851 - val_f1_score: 0.4693 - val_accuracy: 0.5210\n",
      "Epoch 236/2000\n",
      "157/157 [==============================] - 0s 2ms/step - loss: 0.9411 - f1_score: 0.6268 - accuracy: 0.6554 - val_loss: 1.5938 - val_f1_score: 0.4662 - val_accuracy: 0.5170\n",
      "Epoch 237/2000\n",
      "157/157 [==============================] - 0s 2ms/step - loss: 0.9422 - f1_score: 0.6271 - accuracy: 0.6556 - val_loss: 1.5838 - val_f1_score: 0.4639 - val_accuracy: 0.5100\n",
      "Epoch 238/2000\n",
      "157/157 [==============================] - 0s 3ms/step - loss: 0.9410 - f1_score: 0.6261 - accuracy: 0.6552 - val_loss: 1.5880 - val_f1_score: 0.4630 - val_accuracy: 0.5060\n",
      "Epoch 239/2000\n",
      "157/157 [==============================] - 0s 2ms/step - loss: 0.9386 - f1_score: 0.6297 - accuracy: 0.6588 - val_loss: 1.5829 - val_f1_score: 0.4603 - val_accuracy: 0.5020\n",
      "Epoch 240/2000\n",
      "157/157 [==============================] - 0s 2ms/step - loss: 0.9394 - f1_score: 0.6314 - accuracy: 0.6588 - val_loss: 1.5864 - val_f1_score: 0.4689 - val_accuracy: 0.5190\n",
      "Epoch 241/2000\n",
      "157/157 [==============================] - 0s 2ms/step - loss: 0.9395 - f1_score: 0.6295 - accuracy: 0.6576 - val_loss: 1.5908 - val_f1_score: 0.4704 - val_accuracy: 0.5160\n",
      "Epoch 242/2000\n",
      "157/157 [==============================] - 0s 2ms/step - loss: 0.9407 - f1_score: 0.6281 - accuracy: 0.6574 - val_loss: 1.5940 - val_f1_score: 0.4659 - val_accuracy: 0.5120\n",
      "Epoch 243/2000\n",
      "157/157 [==============================] - 0s 2ms/step - loss: 0.9407 - f1_score: 0.6256 - accuracy: 0.6546 - val_loss: 1.5868 - val_f1_score: 0.4751 - val_accuracy: 0.5200\n",
      "Epoch 244/2000\n",
      "157/157 [==============================] - 0s 2ms/step - loss: 0.9418 - f1_score: 0.6253 - accuracy: 0.6540 - val_loss: 1.5964 - val_f1_score: 0.4683 - val_accuracy: 0.5090\n",
      "Epoch 245/2000\n",
      "157/157 [==============================] - 0s 2ms/step - loss: 0.9412 - f1_score: 0.6228 - accuracy: 0.6526 - val_loss: 1.5849 - val_f1_score: 0.4712 - val_accuracy: 0.5130\n",
      "Epoch 246/2000\n",
      "157/157 [==============================] - 0s 2ms/step - loss: 0.9398 - f1_score: 0.6289 - accuracy: 0.6570 - val_loss: 1.5875 - val_f1_score: 0.4663 - val_accuracy: 0.5060\n",
      "Epoch 247/2000\n",
      "157/157 [==============================] - 0s 3ms/step - loss: 0.9403 - f1_score: 0.6226 - accuracy: 0.6514 - val_loss: 1.5914 - val_f1_score: 0.4724 - val_accuracy: 0.5140\n",
      "Epoch 248/2000\n",
      "157/157 [==============================] - 0s 2ms/step - loss: 0.9376 - f1_score: 0.6300 - accuracy: 0.6596 - val_loss: 1.5984 - val_f1_score: 0.4700 - val_accuracy: 0.5030\n",
      "Epoch 249/2000\n",
      "157/157 [==============================] - 0s 2ms/step - loss: 0.9402 - f1_score: 0.6246 - accuracy: 0.6528 - val_loss: 1.5856 - val_f1_score: 0.4626 - val_accuracy: 0.5130\n",
      "Epoch 250/2000\n",
      "157/157 [==============================] - 0s 2ms/step - loss: 0.9397 - f1_score: 0.6282 - accuracy: 0.6568 - val_loss: 1.5960 - val_f1_score: 0.4624 - val_accuracy: 0.5150\n",
      "Epoch 251/2000\n",
      "157/157 [==============================] - 0s 2ms/step - loss: 0.9389 - f1_score: 0.6288 - accuracy: 0.6570 - val_loss: 1.5946 - val_f1_score: 0.4663 - val_accuracy: 0.5070\n",
      "Epoch 252/2000\n",
      "157/157 [==============================] - 0s 2ms/step - loss: 0.9388 - f1_score: 0.6257 - accuracy: 0.6548 - val_loss: 1.5933 - val_f1_score: 0.4575 - val_accuracy: 0.5070\n",
      "Epoch 253/2000\n",
      "157/157 [==============================] - 0s 2ms/step - loss: 0.9386 - f1_score: 0.6289 - accuracy: 0.6572 - val_loss: 1.5884 - val_f1_score: 0.4661 - val_accuracy: 0.5120\n",
      "Epoch 254/2000\n",
      "157/157 [==============================] - 0s 2ms/step - loss: 0.9376 - f1_score: 0.6274 - accuracy: 0.6562 - val_loss: 1.5873 - val_f1_score: 0.4653 - val_accuracy: 0.5110\n",
      "Epoch 255/2000\n",
      "157/157 [==============================] - 0s 2ms/step - loss: 0.9399 - f1_score: 0.6279 - accuracy: 0.6572 - val_loss: 1.6068 - val_f1_score: 0.4735 - val_accuracy: 0.5110\n",
      "Epoch 256/2000\n",
      "157/157 [==============================] - 0s 2ms/step - loss: 0.9387 - f1_score: 0.6275 - accuracy: 0.6558 - val_loss: 1.5968 - val_f1_score: 0.4756 - val_accuracy: 0.5190\n",
      "Epoch 257/2000\n",
      "157/157 [==============================] - 0s 2ms/step - loss: 0.9390 - f1_score: 0.6244 - accuracy: 0.6532 - val_loss: 1.6002 - val_f1_score: 0.4674 - val_accuracy: 0.5090\n",
      "Epoch 258/2000\n",
      "157/157 [==============================] - 0s 2ms/step - loss: 0.9408 - f1_score: 0.6290 - accuracy: 0.6572 - val_loss: 1.5932 - val_f1_score: 0.4647 - val_accuracy: 0.5130\n",
      "Epoch 259/2000\n",
      "157/157 [==============================] - 0s 2ms/step - loss: 0.9373 - f1_score: 0.6258 - accuracy: 0.6554 - val_loss: 1.5987 - val_f1_score: 0.4706 - val_accuracy: 0.5150\n",
      "Epoch 260/2000\n",
      "157/157 [==============================] - 0s 2ms/step - loss: 0.9388 - f1_score: 0.6282 - accuracy: 0.6556 - val_loss: 1.5948 - val_f1_score: 0.4604 - val_accuracy: 0.5000\n",
      "Epoch 261/2000\n",
      "157/157 [==============================] - 0s 2ms/step - loss: 0.9401 - f1_score: 0.6273 - accuracy: 0.6560 - val_loss: 1.6101 - val_f1_score: 0.4654 - val_accuracy: 0.5140\n",
      "Epoch 262/2000\n",
      "157/157 [==============================] - 0s 2ms/step - loss: 0.9390 - f1_score: 0.6218 - accuracy: 0.6526 - val_loss: 1.5985 - val_f1_score: 0.4661 - val_accuracy: 0.5090\n",
      "Epoch 263/2000\n",
      "157/157 [==============================] - 0s 2ms/step - loss: 0.9373 - f1_score: 0.6277 - accuracy: 0.6560 - val_loss: 1.6110 - val_f1_score: 0.4594 - val_accuracy: 0.5170\n",
      "Epoch 264/2000\n",
      "157/157 [==============================] - 0s 2ms/step - loss: 0.9395 - f1_score: 0.6264 - accuracy: 0.6552 - val_loss: 1.5964 - val_f1_score: 0.4673 - val_accuracy: 0.5140\n",
      "Epoch 265/2000\n",
      "157/157 [==============================] - 0s 2ms/step - loss: 0.9402 - f1_score: 0.6321 - accuracy: 0.6606 - val_loss: 1.5976 - val_f1_score: 0.4761 - val_accuracy: 0.5240\n",
      "Epoch 266/2000\n",
      "157/157 [==============================] - 0s 3ms/step - loss: 0.9364 - f1_score: 0.6306 - accuracy: 0.6592 - val_loss: 1.5915 - val_f1_score: 0.4694 - val_accuracy: 0.5100\n",
      "Epoch 267/2000\n",
      "157/157 [==============================] - 0s 2ms/step - loss: 0.9360 - f1_score: 0.6291 - accuracy: 0.6572 - val_loss: 1.5882 - val_f1_score: 0.4632 - val_accuracy: 0.5090\n",
      "Epoch 268/2000\n",
      "157/157 [==============================] - 0s 2ms/step - loss: 0.9359 - f1_score: 0.6265 - accuracy: 0.6542 - val_loss: 1.5942 - val_f1_score: 0.4697 - val_accuracy: 0.5200\n",
      "Epoch 269/2000\n",
      "157/157 [==============================] - 0s 2ms/step - loss: 0.9371 - f1_score: 0.6275 - accuracy: 0.6562 - val_loss: 1.5919 - val_f1_score: 0.4687 - val_accuracy: 0.5100\n",
      "Epoch 270/2000\n",
      "157/157 [==============================] - 0s 2ms/step - loss: 0.9368 - f1_score: 0.6276 - accuracy: 0.6568 - val_loss: 1.6116 - val_f1_score: 0.4728 - val_accuracy: 0.5110\n",
      "Epoch 271/2000\n",
      "157/157 [==============================] - 0s 2ms/step - loss: 0.9379 - f1_score: 0.6289 - accuracy: 0.6570 - val_loss: 1.5949 - val_f1_score: 0.4686 - val_accuracy: 0.5110\n",
      "Epoch 272/2000\n",
      "157/157 [==============================] - 0s 2ms/step - loss: 0.9362 - f1_score: 0.6283 - accuracy: 0.6568 - val_loss: 1.6007 - val_f1_score: 0.4713 - val_accuracy: 0.5110\n",
      "Epoch 273/2000\n",
      "157/157 [==============================] - 0s 2ms/step - loss: 0.9396 - f1_score: 0.6286 - accuracy: 0.6566 - val_loss: 1.6029 - val_f1_score: 0.4628 - val_accuracy: 0.5060\n",
      "Epoch 274/2000\n",
      "157/157 [==============================] - 0s 2ms/step - loss: 0.9384 - f1_score: 0.6277 - accuracy: 0.6566 - val_loss: 1.5993 - val_f1_score: 0.4728 - val_accuracy: 0.5160\n",
      "Epoch 275/2000\n",
      "157/157 [==============================] - 0s 2ms/step - loss: 0.9365 - f1_score: 0.6309 - accuracy: 0.6594 - val_loss: 1.5991 - val_f1_score: 0.4730 - val_accuracy: 0.5150\n",
      "Epoch 276/2000\n",
      "157/157 [==============================] - 0s 2ms/step - loss: 0.9367 - f1_score: 0.6296 - accuracy: 0.6580 - val_loss: 1.6070 - val_f1_score: 0.4591 - val_accuracy: 0.5070\n",
      "Epoch 277/2000\n",
      "157/157 [==============================] - 0s 2ms/step - loss: 0.9360 - f1_score: 0.6320 - accuracy: 0.6598 - val_loss: 1.6147 - val_f1_score: 0.4671 - val_accuracy: 0.4990\n",
      "Epoch 278/2000\n",
      "157/157 [==============================] - 0s 2ms/step - loss: 0.9379 - f1_score: 0.6307 - accuracy: 0.6580 - val_loss: 1.6037 - val_f1_score: 0.4711 - val_accuracy: 0.5070\n",
      "Epoch 279/2000\n",
      "157/157 [==============================] - 0s 3ms/step - loss: 0.9360 - f1_score: 0.6280 - accuracy: 0.6564 - val_loss: 1.6111 - val_f1_score: 0.4632 - val_accuracy: 0.5060\n",
      "Epoch 280/2000\n",
      "157/157 [==============================] - 0s 2ms/step - loss: 0.9390 - f1_score: 0.6279 - accuracy: 0.6572 - val_loss: 1.6055 - val_f1_score: 0.4622 - val_accuracy: 0.5130\n",
      "Epoch 281/2000\n",
      "157/157 [==============================] - 0s 2ms/step - loss: 0.9367 - f1_score: 0.6285 - accuracy: 0.6576 - val_loss: 1.6004 - val_f1_score: 0.4623 - val_accuracy: 0.5140\n",
      "Epoch 282/2000\n",
      "157/157 [==============================] - 0s 2ms/step - loss: 0.9372 - f1_score: 0.6290 - accuracy: 0.6576 - val_loss: 1.6068 - val_f1_score: 0.4597 - val_accuracy: 0.5010\n",
      "Epoch 283/2000\n",
      "157/157 [==============================] - 0s 2ms/step - loss: 0.9379 - f1_score: 0.6287 - accuracy: 0.6558 - val_loss: 1.6191 - val_f1_score: 0.4659 - val_accuracy: 0.5150\n",
      "Epoch 284/2000\n",
      "157/157 [==============================] - 0s 2ms/step - loss: 0.9401 - f1_score: 0.6280 - accuracy: 0.6564 - val_loss: 1.6061 - val_f1_score: 0.4676 - val_accuracy: 0.5040\n",
      "Epoch 285/2000\n",
      "157/157 [==============================] - 0s 2ms/step - loss: 0.9357 - f1_score: 0.6273 - accuracy: 0.6562 - val_loss: 1.5996 - val_f1_score: 0.4680 - val_accuracy: 0.5120\n",
      "Epoch 286/2000\n",
      "157/157 [==============================] - 0s 2ms/step - loss: 0.9363 - f1_score: 0.6262 - accuracy: 0.6546 - val_loss: 1.5978 - val_f1_score: 0.4662 - val_accuracy: 0.5150\n",
      "Epoch 287/2000\n",
      "157/157 [==============================] - 0s 2ms/step - loss: 0.9361 - f1_score: 0.6293 - accuracy: 0.6580 - val_loss: 1.6039 - val_f1_score: 0.4634 - val_accuracy: 0.5110\n",
      "Epoch 288/2000\n",
      "157/157 [==============================] - 0s 2ms/step - loss: 0.9393 - f1_score: 0.6241 - accuracy: 0.6536 - val_loss: 1.6120 - val_f1_score: 0.4680 - val_accuracy: 0.5080\n",
      "Epoch 289/2000\n",
      "157/157 [==============================] - 0s 2ms/step - loss: 0.9402 - f1_score: 0.6247 - accuracy: 0.6534 - val_loss: 1.5965 - val_f1_score: 0.4682 - val_accuracy: 0.5120\n",
      "Epoch 290/2000\n",
      "157/157 [==============================] - 0s 2ms/step - loss: 0.9371 - f1_score: 0.6283 - accuracy: 0.6562 - val_loss: 1.6090 - val_f1_score: 0.4644 - val_accuracy: 0.5050\n",
      "Epoch 291/2000\n",
      "157/157 [==============================] - 0s 2ms/step - loss: 0.9389 - f1_score: 0.6271 - accuracy: 0.6568 - val_loss: 1.6007 - val_f1_score: 0.4697 - val_accuracy: 0.5060\n",
      "Epoch 292/2000\n",
      "157/157 [==============================] - 0s 2ms/step - loss: 0.9387 - f1_score: 0.6255 - accuracy: 0.6554 - val_loss: 1.6037 - val_f1_score: 0.4735 - val_accuracy: 0.5190\n",
      "Epoch 293/2000\n",
      "157/157 [==============================] - 0s 2ms/step - loss: 0.9349 - f1_score: 0.6280 - accuracy: 0.6576 - val_loss: 1.6081 - val_f1_score: 0.4635 - val_accuracy: 0.5070\n",
      "Epoch 294/2000\n",
      "157/157 [==============================] - 0s 2ms/step - loss: 0.9355 - f1_score: 0.6245 - accuracy: 0.6540 - val_loss: 1.6052 - val_f1_score: 0.4615 - val_accuracy: 0.5050\n",
      "Epoch 295/2000\n",
      "157/157 [==============================] - 0s 2ms/step - loss: 0.9362 - f1_score: 0.6307 - accuracy: 0.6586 - val_loss: 1.6006 - val_f1_score: 0.4647 - val_accuracy: 0.5080\n",
      "Epoch 296/2000\n",
      "157/157 [==============================] - 0s 2ms/step - loss: 0.9354 - f1_score: 0.6310 - accuracy: 0.6598 - val_loss: 1.6017 - val_f1_score: 0.4737 - val_accuracy: 0.5170\n",
      "Epoch 297/2000\n",
      "157/157 [==============================] - 0s 2ms/step - loss: 0.9364 - f1_score: 0.6303 - accuracy: 0.6580 - val_loss: 1.6082 - val_f1_score: 0.4648 - val_accuracy: 0.5080\n",
      "Epoch 298/2000\n",
      "157/157 [==============================] - 0s 2ms/step - loss: 0.9349 - f1_score: 0.6290 - accuracy: 0.6582 - val_loss: 1.6168 - val_f1_score: 0.4692 - val_accuracy: 0.5020\n",
      "Epoch 299/2000\n",
      "157/157 [==============================] - 0s 2ms/step - loss: 0.9362 - f1_score: 0.6277 - accuracy: 0.6546 - val_loss: 1.5993 - val_f1_score: 0.4712 - val_accuracy: 0.5230\n",
      "Epoch 300/2000\n",
      "157/157 [==============================] - 0s 2ms/step - loss: 0.9369 - f1_score: 0.6298 - accuracy: 0.6592 - val_loss: 1.5974 - val_f1_score: 0.4705 - val_accuracy: 0.5130\n",
      "Epoch 301/2000\n",
      "157/157 [==============================] - 0s 2ms/step - loss: 0.9391 - f1_score: 0.6258 - accuracy: 0.6532 - val_loss: 1.6031 - val_f1_score: 0.4762 - val_accuracy: 0.5260\n",
      "Epoch 302/2000\n",
      "157/157 [==============================] - 0s 2ms/step - loss: 0.9355 - f1_score: 0.6260 - accuracy: 0.6552 - val_loss: 1.6104 - val_f1_score: 0.4625 - val_accuracy: 0.5200\n",
      "Epoch 303/2000\n",
      "157/157 [==============================] - 0s 2ms/step - loss: 0.9357 - f1_score: 0.6311 - accuracy: 0.6584 - val_loss: 1.5969 - val_f1_score: 0.4736 - val_accuracy: 0.5190\n",
      "Epoch 304/2000\n",
      "157/157 [==============================] - 0s 2ms/step - loss: 0.9359 - f1_score: 0.6312 - accuracy: 0.6584 - val_loss: 1.6112 - val_f1_score: 0.4696 - val_accuracy: 0.5080\n",
      "Epoch 305/2000\n",
      "157/157 [==============================] - 0s 2ms/step - loss: 0.9360 - f1_score: 0.6273 - accuracy: 0.6562 - val_loss: 1.6179 - val_f1_score: 0.4728 - val_accuracy: 0.5140\n",
      "Epoch 306/2000\n",
      "157/157 [==============================] - 0s 2ms/step - loss: 0.9364 - f1_score: 0.6278 - accuracy: 0.6558 - val_loss: 1.5981 - val_f1_score: 0.4618 - val_accuracy: 0.5110\n",
      "Epoch 307/2000\n",
      "157/157 [==============================] - 0s 2ms/step - loss: 0.9370 - f1_score: 0.6293 - accuracy: 0.6572 - val_loss: 1.6107 - val_f1_score: 0.4651 - val_accuracy: 0.5090\n",
      "Epoch 308/2000\n",
      "157/157 [==============================] - 0s 2ms/step - loss: 0.9362 - f1_score: 0.6297 - accuracy: 0.6580 - val_loss: 1.6067 - val_f1_score: 0.4746 - val_accuracy: 0.5200\n",
      "Epoch 309/2000\n",
      "157/157 [==============================] - 0s 2ms/step - loss: 0.9348 - f1_score: 0.6298 - accuracy: 0.6580 - val_loss: 1.6104 - val_f1_score: 0.4663 - val_accuracy: 0.5090\n",
      "Epoch 310/2000\n",
      "157/157 [==============================] - 0s 2ms/step - loss: 0.9339 - f1_score: 0.6274 - accuracy: 0.6564 - val_loss: 1.6127 - val_f1_score: 0.4709 - val_accuracy: 0.5160\n",
      "Epoch 311/2000\n",
      "157/157 [==============================] - 0s 2ms/step - loss: 0.9361 - f1_score: 0.6308 - accuracy: 0.6592 - val_loss: 1.6095 - val_f1_score: 0.4715 - val_accuracy: 0.5120\n",
      "Epoch 312/2000\n",
      "157/157 [==============================] - 0s 2ms/step - loss: 0.9321 - f1_score: 0.6321 - accuracy: 0.6596 - val_loss: 1.6092 - val_f1_score: 0.4722 - val_accuracy: 0.5190\n",
      "Epoch 313/2000\n",
      "157/157 [==============================] - 0s 2ms/step - loss: 0.9328 - f1_score: 0.6331 - accuracy: 0.6608 - val_loss: 1.6179 - val_f1_score: 0.4581 - val_accuracy: 0.5060\n",
      "Epoch 314/2000\n",
      "157/157 [==============================] - 0s 2ms/step - loss: 0.9356 - f1_score: 0.6289 - accuracy: 0.6576 - val_loss: 1.6125 - val_f1_score: 0.4642 - val_accuracy: 0.5110\n",
      "Epoch 315/2000\n",
      "157/157 [==============================] - 0s 2ms/step - loss: 0.9346 - f1_score: 0.6260 - accuracy: 0.6540 - val_loss: 1.6040 - val_f1_score: 0.4670 - val_accuracy: 0.5150\n",
      "Epoch 316/2000\n",
      "157/157 [==============================] - 0s 2ms/step - loss: 0.9331 - f1_score: 0.6325 - accuracy: 0.6596 - val_loss: 1.6166 - val_f1_score: 0.4684 - val_accuracy: 0.5070\n",
      "Epoch 317/2000\n",
      "157/157 [==============================] - 0s 2ms/step - loss: 0.9337 - f1_score: 0.6295 - accuracy: 0.6572 - val_loss: 1.6261 - val_f1_score: 0.4668 - val_accuracy: 0.5080\n",
      "Epoch 318/2000\n",
      "157/157 [==============================] - 0s 2ms/step - loss: 0.9347 - f1_score: 0.6245 - accuracy: 0.6544 - val_loss: 1.6183 - val_f1_score: 0.4734 - val_accuracy: 0.5160\n",
      "Epoch 319/2000\n",
      "157/157 [==============================] - 0s 2ms/step - loss: 0.9354 - f1_score: 0.6285 - accuracy: 0.6560 - val_loss: 1.6165 - val_f1_score: 0.4666 - val_accuracy: 0.5110\n",
      "Epoch 320/2000\n",
      "157/157 [==============================] - 0s 2ms/step - loss: 0.9327 - f1_score: 0.6282 - accuracy: 0.6566 - val_loss: 1.6124 - val_f1_score: 0.4597 - val_accuracy: 0.5020\n",
      "Epoch 321/2000\n",
      "157/157 [==============================] - 0s 2ms/step - loss: 0.9355 - f1_score: 0.6318 - accuracy: 0.6586 - val_loss: 1.6181 - val_f1_score: 0.4694 - val_accuracy: 0.5150\n",
      "Epoch 322/2000\n",
      "157/157 [==============================] - 0s 2ms/step - loss: 0.9332 - f1_score: 0.6295 - accuracy: 0.6568 - val_loss: 1.6085 - val_f1_score: 0.4711 - val_accuracy: 0.5160\n",
      "Epoch 323/2000\n",
      "157/157 [==============================] - 0s 2ms/step - loss: 0.9349 - f1_score: 0.6287 - accuracy: 0.6574 - val_loss: 1.6087 - val_f1_score: 0.4668 - val_accuracy: 0.5100\n",
      "Epoch 324/2000\n",
      "157/157 [==============================] - 0s 3ms/step - loss: 0.9351 - f1_score: 0.6299 - accuracy: 0.6578 - val_loss: 1.6277 - val_f1_score: 0.4598 - val_accuracy: 0.5080\n",
      "Epoch 325/2000\n",
      "157/157 [==============================] - 0s 2ms/step - loss: 0.9371 - f1_score: 0.6296 - accuracy: 0.6574 - val_loss: 1.6121 - val_f1_score: 0.4656 - val_accuracy: 0.5150\n",
      "Epoch 326/2000\n",
      "157/157 [==============================] - 0s 2ms/step - loss: 0.9331 - f1_score: 0.6331 - accuracy: 0.6612 - val_loss: 1.6232 - val_f1_score: 0.4724 - val_accuracy: 0.5190\n",
      "Epoch 327/2000\n",
      "157/157 [==============================] - 0s 2ms/step - loss: 0.9343 - f1_score: 0.6300 - accuracy: 0.6584 - val_loss: 1.6199 - val_f1_score: 0.4677 - val_accuracy: 0.5050\n",
      "Epoch 328/2000\n",
      "157/157 [==============================] - 0s 2ms/step - loss: 0.9343 - f1_score: 0.6280 - accuracy: 0.6560 - val_loss: 1.6247 - val_f1_score: 0.4619 - val_accuracy: 0.5070\n",
      "Epoch 329/2000\n",
      "157/157 [==============================] - 0s 2ms/step - loss: 0.9347 - f1_score: 0.6318 - accuracy: 0.6582 - val_loss: 1.6187 - val_f1_score: 0.4613 - val_accuracy: 0.5140\n",
      "Epoch 330/2000\n",
      "157/157 [==============================] - 0s 2ms/step - loss: 0.9332 - f1_score: 0.6327 - accuracy: 0.6616 - val_loss: 1.6185 - val_f1_score: 0.4662 - val_accuracy: 0.5150\n",
      "Epoch 331/2000\n",
      "157/157 [==============================] - 0s 2ms/step - loss: 0.9345 - f1_score: 0.6271 - accuracy: 0.6556 - val_loss: 1.6213 - val_f1_score: 0.4718 - val_accuracy: 0.5170\n",
      "Epoch 332/2000\n",
      "157/157 [==============================] - 0s 2ms/step - loss: 0.9347 - f1_score: 0.6307 - accuracy: 0.6588 - val_loss: 1.6160 - val_f1_score: 0.4659 - val_accuracy: 0.5130\n",
      "Epoch 333/2000\n",
      "157/157 [==============================] - 0s 2ms/step - loss: 0.9325 - f1_score: 0.6285 - accuracy: 0.6574 - val_loss: 1.6211 - val_f1_score: 0.4698 - val_accuracy: 0.5050\n",
      "Epoch 334/2000\n",
      "157/157 [==============================] - 0s 2ms/step - loss: 0.9350 - f1_score: 0.6280 - accuracy: 0.6568 - val_loss: 1.6167 - val_f1_score: 0.4742 - val_accuracy: 0.5090\n",
      "Epoch 335/2000\n",
      "157/157 [==============================] - 0s 2ms/step - loss: 0.9332 - f1_score: 0.6328 - accuracy: 0.6594 - val_loss: 1.6156 - val_f1_score: 0.4639 - val_accuracy: 0.5060\n",
      "Epoch 336/2000\n",
      "157/157 [==============================] - 0s 2ms/step - loss: 0.9325 - f1_score: 0.6292 - accuracy: 0.6570 - val_loss: 1.6246 - val_f1_score: 0.4653 - val_accuracy: 0.5180\n",
      "Epoch 337/2000\n",
      "157/157 [==============================] - 0s 2ms/step - loss: 0.9352 - f1_score: 0.6302 - accuracy: 0.6596 - val_loss: 1.6206 - val_f1_score: 0.4648 - val_accuracy: 0.5060\n",
      "Epoch 338/2000\n",
      "157/157 [==============================] - 0s 2ms/step - loss: 0.9320 - f1_score: 0.6260 - accuracy: 0.6538 - val_loss: 1.6050 - val_f1_score: 0.4713 - val_accuracy: 0.5140\n",
      "Epoch 339/2000\n",
      "157/157 [==============================] - 0s 2ms/step - loss: 0.9373 - f1_score: 0.6304 - accuracy: 0.6576 - val_loss: 1.6147 - val_f1_score: 0.4621 - val_accuracy: 0.5010\n",
      "Epoch 340/2000\n",
      "157/157 [==============================] - 0s 2ms/step - loss: 0.9349 - f1_score: 0.6258 - accuracy: 0.6546 - val_loss: 1.6303 - val_f1_score: 0.4691 - val_accuracy: 0.5070\n",
      "Epoch 341/2000\n",
      "157/157 [==============================] - 0s 2ms/step - loss: 0.9368 - f1_score: 0.6317 - accuracy: 0.6596 - val_loss: 1.6246 - val_f1_score: 0.4647 - val_accuracy: 0.5070\n",
      "Epoch 342/2000\n",
      "157/157 [==============================] - 0s 2ms/step - loss: 0.9347 - f1_score: 0.6323 - accuracy: 0.6600 - val_loss: 1.6232 - val_f1_score: 0.4735 - val_accuracy: 0.5170\n",
      "Epoch 343/2000\n",
      "157/157 [==============================] - 0s 2ms/step - loss: 0.9333 - f1_score: 0.6305 - accuracy: 0.6580 - val_loss: 1.6263 - val_f1_score: 0.4752 - val_accuracy: 0.5160\n",
      "Epoch 344/2000\n",
      "157/157 [==============================] - 0s 2ms/step - loss: 0.9307 - f1_score: 0.6284 - accuracy: 0.6562 - val_loss: 1.6201 - val_f1_score: 0.4607 - val_accuracy: 0.5010\n",
      "Epoch 345/2000\n",
      "157/157 [==============================] - 0s 2ms/step - loss: 0.9292 - f1_score: 0.6284 - accuracy: 0.6560 - val_loss: 1.6219 - val_f1_score: 0.4677 - val_accuracy: 0.5180\n",
      "Epoch 346/2000\n",
      "157/157 [==============================] - 0s 2ms/step - loss: 0.9325 - f1_score: 0.6292 - accuracy: 0.6574 - val_loss: 1.6142 - val_f1_score: 0.4692 - val_accuracy: 0.5100\n",
      "Epoch 347/2000\n",
      "157/157 [==============================] - 0s 2ms/step - loss: 0.9330 - f1_score: 0.6334 - accuracy: 0.6604 - val_loss: 1.6200 - val_f1_score: 0.4610 - val_accuracy: 0.5090\n",
      "Epoch 348/2000\n",
      "157/157 [==============================] - 0s 2ms/step - loss: 0.9322 - f1_score: 0.6290 - accuracy: 0.6570 - val_loss: 1.6293 - val_f1_score: 0.4652 - val_accuracy: 0.5010\n",
      "Epoch 349/2000\n",
      "157/157 [==============================] - 0s 2ms/step - loss: 0.9320 - f1_score: 0.6305 - accuracy: 0.6576 - val_loss: 1.6238 - val_f1_score: 0.4626 - val_accuracy: 0.5040\n",
      "Epoch 350/2000\n",
      "157/157 [==============================] - 0s 2ms/step - loss: 0.9329 - f1_score: 0.6294 - accuracy: 0.6580 - val_loss: 1.6173 - val_f1_score: 0.4672 - val_accuracy: 0.5100\n",
      "Epoch 351/2000\n",
      "157/157 [==============================] - 0s 2ms/step - loss: 0.9321 - f1_score: 0.6266 - accuracy: 0.6554 - val_loss: 1.6260 - val_f1_score: 0.4725 - val_accuracy: 0.5140\n",
      "Epoch 352/2000\n",
      "157/157 [==============================] - 0s 2ms/step - loss: 0.9323 - f1_score: 0.6346 - accuracy: 0.6616 - val_loss: 1.6290 - val_f1_score: 0.4657 - val_accuracy: 0.4970\n",
      "Epoch 353/2000\n",
      "157/157 [==============================] - 0s 2ms/step - loss: 0.9365 - f1_score: 0.6297 - accuracy: 0.6572 - val_loss: 1.6211 - val_f1_score: 0.4712 - val_accuracy: 0.5170\n",
      "Epoch 354/2000\n",
      "157/157 [==============================] - 0s 2ms/step - loss: 0.9313 - f1_score: 0.6306 - accuracy: 0.6584 - val_loss: 1.6222 - val_f1_score: 0.4715 - val_accuracy: 0.5150\n",
      "Epoch 355/2000\n",
      "157/157 [==============================] - 0s 2ms/step - loss: 0.9341 - f1_score: 0.6294 - accuracy: 0.6574 - val_loss: 1.6236 - val_f1_score: 0.4780 - val_accuracy: 0.5150\n",
      "Epoch 356/2000\n",
      "157/157 [==============================] - 0s 2ms/step - loss: 0.9334 - f1_score: 0.6354 - accuracy: 0.6642 - val_loss: 1.6289 - val_f1_score: 0.4620 - val_accuracy: 0.4980\n",
      "Epoch 357/2000\n",
      "157/157 [==============================] - 0s 2ms/step - loss: 0.9327 - f1_score: 0.6326 - accuracy: 0.6598 - val_loss: 1.6399 - val_f1_score: 0.4665 - val_accuracy: 0.4980\n",
      "Epoch 358/2000\n",
      "157/157 [==============================] - 0s 2ms/step - loss: 0.9327 - f1_score: 0.6300 - accuracy: 0.6570 - val_loss: 1.6319 - val_f1_score: 0.4703 - val_accuracy: 0.5070\n",
      "Epoch 359/2000\n",
      "157/157 [==============================] - 0s 3ms/step - loss: 0.9333 - f1_score: 0.6324 - accuracy: 0.6602 - val_loss: 1.6320 - val_f1_score: 0.4708 - val_accuracy: 0.5160\n",
      "Epoch 360/2000\n",
      "157/157 [==============================] - 0s 2ms/step - loss: 0.9322 - f1_score: 0.6251 - accuracy: 0.6528 - val_loss: 1.6283 - val_f1_score: 0.4695 - val_accuracy: 0.5190\n",
      "Epoch 361/2000\n",
      "157/157 [==============================] - 0s 2ms/step - loss: 0.9295 - f1_score: 0.6313 - accuracy: 0.6586 - val_loss: 1.6184 - val_f1_score: 0.4674 - val_accuracy: 0.5080\n",
      "Epoch 362/2000\n",
      "157/157 [==============================] - 0s 2ms/step - loss: 0.9293 - f1_score: 0.6367 - accuracy: 0.6646 - val_loss: 1.6205 - val_f1_score: 0.4717 - val_accuracy: 0.5090\n",
      "Epoch 363/2000\n",
      "157/157 [==============================] - 0s 2ms/step - loss: 0.9301 - f1_score: 0.6314 - accuracy: 0.6580 - val_loss: 1.6201 - val_f1_score: 0.4632 - val_accuracy: 0.5090\n",
      "Epoch 364/2000\n",
      "157/157 [==============================] - 0s 2ms/step - loss: 0.9334 - f1_score: 0.6343 - accuracy: 0.6630 - val_loss: 1.6318 - val_f1_score: 0.4623 - val_accuracy: 0.4970\n",
      "Epoch 365/2000\n",
      "157/157 [==============================] - 0s 2ms/step - loss: 0.9332 - f1_score: 0.6296 - accuracy: 0.6572 - val_loss: 1.6315 - val_f1_score: 0.4678 - val_accuracy: 0.5060\n",
      "Epoch 366/2000\n",
      "157/157 [==============================] - 0s 2ms/step - loss: 0.9321 - f1_score: 0.6275 - accuracy: 0.6558 - val_loss: 1.6275 - val_f1_score: 0.4619 - val_accuracy: 0.5030\n",
      "Epoch 367/2000\n",
      "157/157 [==============================] - 0s 3ms/step - loss: 0.9313 - f1_score: 0.6287 - accuracy: 0.6586 - val_loss: 1.6233 - val_f1_score: 0.4559 - val_accuracy: 0.4970\n",
      "Epoch 368/2000\n",
      "157/157 [==============================] - 0s 2ms/step - loss: 0.9301 - f1_score: 0.6326 - accuracy: 0.6604 - val_loss: 1.6305 - val_f1_score: 0.4669 - val_accuracy: 0.5200\n",
      "Epoch 00368: early stopping\n"
     ]
    }
   ],
   "source": [
    "## compile the model with f1 metrics\n",
    "# define F1Score instance\n",
    "\n",
    "f1_score_name = \"f1_score\"\n",
    "f1 = F1Score(\n",
    "    num_classes=len(np.unique(y_test)),\n",
    "    name=f1_score_name,\n",
    "    average=\"weighted\",\n",
    ")\n",
    "# compile model\n",
    "model.compile(\n",
    "    optimizer=\"adam\",\n",
    "    loss=\"categorical_crossentropy\",\n",
    "    metrics=[f1, \"accuracy\"],\n",
    ")\n",
    "\n",
    "# define early stopping\n",
    "early_stop = EarlyStopping(monitor=\"val_f1_score\", patience=300, verbose=1)\n",
    "\n",
    "# fit model using early stopping\n",
    "history = model.fit(\n",
    "    x=X_train_ohe,\n",
    "    y=y_train_ohe,\n",
    "    validation_data=(X_test_ohe, y_test_ohe),\n",
    "    # validation_split=.3,\n",
    "    # batch_size=1,\n",
    "    epochs=2000,\n",
    "    verbose=1,\n",
    "    callbacks=[early_stop],\n",
    "    workers=6,\n",
    "    use_multiprocessing=True,\n",
    ")\n"
   ]
  },
  {
   "cell_type": "code",
   "execution_count": 49,
   "metadata": {
    "ExecuteTime": {
     "end_time": "2022-01-25T18:52:08.205615Z",
     "start_time": "2022-01-25T18:52:02.879433Z"
    }
   },
   "outputs": [
    {
     "data": {
      "application/vnd.plotly.v1+json": {
       "config": {
        "plotlyServerURL": "https://plot.ly"
       },
       "data": [
        {
         "hovertemplate": "variable=val_loss<br>index=%{x}<br>value=%{y}<extra></extra>",
         "legendgroup": "val_loss",
         "line": {
          "color": "#636efa",
          "dash": "solid"
         },
         "marker": {
          "symbol": "circle"
         },
         "mode": "lines",
         "name": "val_loss",
         "orientation": "v",
         "showlegend": true,
         "type": "scatter",
         "x": [
          0,
          1,
          2,
          3,
          4,
          5,
          6,
          7,
          8,
          9,
          10,
          11,
          12,
          13,
          14,
          15,
          16,
          17,
          18,
          19,
          20,
          21,
          22,
          23,
          24,
          25,
          26,
          27,
          28,
          29,
          30,
          31,
          32,
          33,
          34,
          35,
          36,
          37,
          38,
          39,
          40,
          41,
          42,
          43,
          44,
          45,
          46,
          47,
          48,
          49,
          50,
          51,
          52,
          53,
          54,
          55,
          56,
          57,
          58,
          59,
          60,
          61,
          62,
          63,
          64,
          65,
          66,
          67,
          68,
          69,
          70,
          71,
          72,
          73,
          74,
          75,
          76,
          77,
          78,
          79,
          80,
          81,
          82,
          83,
          84,
          85,
          86,
          87,
          88,
          89,
          90,
          91,
          92,
          93,
          94,
          95,
          96,
          97,
          98,
          99,
          100,
          101,
          102,
          103,
          104,
          105,
          106,
          107,
          108,
          109,
          110,
          111,
          112,
          113,
          114,
          115,
          116,
          117,
          118,
          119,
          120,
          121,
          122,
          123,
          124,
          125,
          126,
          127,
          128,
          129,
          130,
          131,
          132
         ],
         "xaxis": "x",
         "y": [
          1.4751163721084595,
          1.4686602354049683,
          1.4819486141204834,
          1.4765112400054932,
          1.4780683517456055,
          1.474970817565918,
          1.4789304733276367,
          1.4845318794250488,
          1.4828108549118042,
          1.478489637374878,
          1.476062297821045,
          1.4748179912567139,
          1.4793157577514648,
          1.4882901906967163,
          1.4733943939208984,
          1.4770857095718384,
          1.4815380573272705,
          1.4870661497116089,
          1.4860215187072754,
          1.4760164022445679,
          1.4826411008834839,
          1.4890284538269043,
          1.4812904596328735,
          1.4918431043624878,
          1.4811794757843018,
          1.4810394048690796,
          1.4808448553085327,
          1.4852067232131958,
          1.487520694732666,
          1.482874870300293,
          1.4850451946258545,
          1.4791278839111328,
          1.4911682605743408,
          1.4872263669967651,
          1.4869579076766968,
          1.4950315952301025,
          1.4927451610565186,
          1.4887830018997192,
          1.4857962131500244,
          1.4807319641113281,
          1.483733892440796,
          1.4875744581222534,
          1.4920268058776855,
          1.4880807399749756,
          1.486090064048767,
          1.4819763898849487,
          1.4802871942520142,
          1.4851785898208618,
          1.4798026084899902,
          1.491286277770996,
          1.4803383350372314,
          1.4828691482543945,
          1.4833139181137085,
          1.4878926277160645,
          1.4882385730743408,
          1.490214467048645,
          1.4919074773788452,
          1.4894009828567505,
          1.5023808479309082,
          1.4862260818481445,
          1.4940026998519897,
          1.4806020259857178,
          1.5015597343444824,
          1.4869855642318726,
          1.4993741512298584,
          1.4908971786499023,
          1.4949380159378052,
          1.5027081966400146,
          1.4892165660858154,
          1.4928818941116333,
          1.4955137968063354,
          1.4974051713943481,
          1.4997999668121338,
          1.4957808256149292,
          1.4885976314544678,
          1.488467812538147,
          1.497907280921936,
          1.4940518140792847,
          1.4955904483795166,
          1.5027896165847778,
          1.499748945236206,
          1.4999295473098755,
          1.5057183504104614,
          1.5023263692855835,
          1.5030884742736816,
          1.505393385887146,
          1.5073580741882324,
          1.4960633516311646,
          1.5080360174179077,
          1.4943222999572754,
          1.5021405220031738,
          1.498095989227295,
          1.497765064239502,
          1.5051133632659912,
          1.5050145387649536,
          1.4952720403671265,
          1.499849557876587,
          1.5049968957901,
          1.5067830085754395,
          1.5060571432113647,
          1.5024245977401733,
          1.5047688484191895,
          1.5023932456970215,
          1.5042768716812134,
          1.5029420852661133,
          1.4977643489837646,
          1.5121153593063354,
          1.4992759227752686,
          1.5130057334899902,
          1.5091948509216309,
          1.4983335733413696,
          1.5154670476913452,
          1.5029040575027466,
          1.5093426704406738,
          1.5159496068954468,
          1.508826494216919,
          1.5036160945892334,
          1.5060415267944336,
          1.512312889099121,
          1.5078679323196411,
          1.5140714645385742,
          1.5143568515777588,
          1.5149387121200562,
          1.5195600986480713,
          1.5165969133377075,
          1.511860728263855,
          1.5132362842559814,
          1.512492299079895,
          1.5213897228240967,
          1.5063680410385132,
          1.52157723903656,
          1.5145012140274048,
          1.5105628967285156
         ],
         "yaxis": "y"
        },
        {
         "hovertemplate": "variable=loss<br>index=%{x}<br>value=%{y}<extra></extra>",
         "legendgroup": "loss",
         "line": {
          "color": "#EF553B",
          "dash": "solid"
         },
         "marker": {
          "symbol": "circle"
         },
         "mode": "lines",
         "name": "loss",
         "orientation": "v",
         "showlegend": true,
         "type": "scatter",
         "x": [
          0,
          1,
          2,
          3,
          4,
          5,
          6,
          7,
          8,
          9,
          10,
          11,
          12,
          13,
          14,
          15,
          16,
          17,
          18,
          19,
          20,
          21,
          22,
          23,
          24,
          25,
          26,
          27,
          28,
          29,
          30,
          31,
          32,
          33,
          34,
          35,
          36,
          37,
          38,
          39,
          40,
          41,
          42,
          43,
          44,
          45,
          46,
          47,
          48,
          49,
          50,
          51,
          52,
          53,
          54,
          55,
          56,
          57,
          58,
          59,
          60,
          61,
          62,
          63,
          64,
          65,
          66,
          67,
          68,
          69,
          70,
          71,
          72,
          73,
          74,
          75,
          76,
          77,
          78,
          79,
          80,
          81,
          82,
          83,
          84,
          85,
          86,
          87,
          88,
          89,
          90,
          91,
          92,
          93,
          94,
          95,
          96,
          97,
          98,
          99,
          100,
          101,
          102,
          103,
          104,
          105,
          106,
          107,
          108,
          109,
          110,
          111,
          112,
          113,
          114,
          115,
          116,
          117,
          118,
          119,
          120,
          121,
          122,
          123,
          124,
          125,
          126,
          127,
          128,
          129,
          130,
          131,
          132
         ],
         "xaxis": "x",
         "y": [
          0.9874911904335022,
          0.9846694469451904,
          0.9828070402145386,
          0.9843996167182922,
          0.9850265383720398,
          0.9852019548416138,
          0.9837853312492371,
          0.9826029539108276,
          0.9856237173080444,
          0.9845466613769531,
          0.9824806451797485,
          0.9827521443367004,
          0.9847999215126038,
          0.9826187491416931,
          0.9841412901878357,
          0.9822768568992615,
          0.9817491173744202,
          0.9817653298377991,
          0.9800073504447937,
          0.9814887642860413,
          0.9801520705223083,
          0.9829646348953247,
          0.9797173738479614,
          0.9802579283714294,
          0.9816914796829224,
          0.9803208112716675,
          0.9796714782714844,
          0.97957843542099,
          0.9785630106925964,
          0.9788206219673157,
          0.979259192943573,
          0.980922281742096,
          0.9786462783813477,
          0.978262722492218,
          0.9783697128295898,
          0.9794313311576843,
          0.9785506725311279,
          0.9789679646492004,
          0.9786101579666138,
          0.9787800908088684,
          0.9775955080986023,
          0.9776882529258728,
          0.9757012724876404,
          0.9762420058250427,
          0.976973831653595,
          0.9769713878631592,
          0.9776479601860046,
          0.9761821031570435,
          0.9749789237976074,
          0.9770417809486389,
          0.9765390753746033,
          0.9750192165374756,
          0.9743733406066895,
          0.9739922881126404,
          0.9735925793647766,
          0.9730584025382996,
          0.9755505919456482,
          0.9752578139305115,
          0.9745826125144958,
          0.9754655957221985,
          0.9732857346534729,
          0.9754101634025574,
          0.9759966731071472,
          0.9724722504615784,
          0.9763976335525513,
          0.9741610288619995,
          0.9739735126495361,
          0.972300112247467,
          0.9745105504989624,
          0.9698145389556885,
          0.9725348353385925,
          0.9736511707305908,
          0.9720253944396973,
          0.9717601537704468,
          0.9720799922943115,
          0.9716625213623047,
          0.9735149145126343,
          0.9709951281547546,
          0.9722179770469666,
          0.973548412322998,
          0.9689223766326904,
          0.9713510870933533,
          0.9719617962837219,
          0.9697871208190918,
          0.9708556532859802,
          0.972209095954895,
          0.9688195586204529,
          0.9688392281532288,
          0.9697470664978027,
          0.9695578217506409,
          0.9698634743690491,
          0.9711796045303345,
          0.9706099629402161,
          0.9681688547134399,
          0.9697866439819336,
          0.9715900421142578,
          0.9714379906654358,
          0.9678760766983032,
          0.9678449034690857,
          0.968734860420227,
          0.9696410894393921,
          0.9665296077728271,
          0.9661909341812134,
          0.9694334864616394,
          0.9687563180923462,
          0.9670843482017517,
          0.9687306880950928,
          0.9662328958511353,
          0.9662994146347046,
          0.965095579624176,
          0.9659474492073059,
          0.9657796025276184,
          0.9650712013244629,
          0.9673635959625244,
          0.9677851796150208,
          0.9659079909324646,
          0.9639173746109009,
          0.9656797647476196,
          0.964240312576294,
          0.9652075171470642,
          0.9649168848991394,
          0.9645864963531494,
          0.9646838903427124,
          0.9648684859275818,
          0.9626310467720032,
          0.9654843807220459,
          0.9657047986984253,
          0.9629366993904114,
          0.9627935290336609,
          0.9648930430412292,
          0.9647433757781982,
          0.9651886820793152,
          0.9631295800209045
         ],
         "yaxis": "y"
        },
        {
         "hovertemplate": "variable=val_f1_score<br>index=%{x}<br>value=%{y}<extra></extra>",
         "legendgroup": "val_f1_score",
         "line": {
          "color": "#00cc96",
          "dash": "solid"
         },
         "marker": {
          "symbol": "circle"
         },
         "mode": "lines",
         "name": "val_f1_score",
         "orientation": "v",
         "showlegend": true,
         "type": "scatter",
         "x": [
          0,
          1,
          2,
          3,
          4,
          5,
          6,
          7,
          8,
          9,
          10,
          11,
          12,
          13,
          14,
          15,
          16,
          17,
          18,
          19,
          20,
          21,
          22,
          23,
          24,
          25,
          26,
          27,
          28,
          29,
          30,
          31,
          32,
          33,
          34,
          35,
          36,
          37,
          38,
          39,
          40,
          41,
          42,
          43,
          44,
          45,
          46,
          47,
          48,
          49,
          50,
          51,
          52,
          53,
          54,
          55,
          56,
          57,
          58,
          59,
          60,
          61,
          62,
          63,
          64,
          65,
          66,
          67,
          68,
          69,
          70,
          71,
          72,
          73,
          74,
          75,
          76,
          77,
          78,
          79,
          80,
          81,
          82,
          83,
          84,
          85,
          86,
          87,
          88,
          89,
          90,
          91,
          92,
          93,
          94,
          95,
          96,
          97,
          98,
          99,
          100,
          101,
          102,
          103,
          104,
          105,
          106,
          107,
          108,
          109,
          110,
          111,
          112,
          113,
          114,
          115,
          116,
          117,
          118,
          119,
          120,
          121,
          122,
          123,
          124,
          125,
          126,
          127,
          128,
          129,
          130,
          131,
          132
         ],
         "xaxis": "x",
         "y": [
          0.46012812852859497,
          0.468475341796875,
          0.45682430267333984,
          0.45833006501197815,
          0.45804983377456665,
          0.473143994808197,
          0.46693792939186096,
          0.46549513936042786,
          0.45996004343032837,
          0.46095389127731323,
          0.4655882716178894,
          0.46261507272720337,
          0.46629688143730164,
          0.4634721577167511,
          0.46750351786613464,
          0.46440449357032776,
          0.4612581133842468,
          0.4655155539512634,
          0.46136027574539185,
          0.4688951075077057,
          0.46333497762680054,
          0.4667591154575348,
          0.4663877487182617,
          0.4652656018733978,
          0.46323245763778687,
          0.4600764513015747,
          0.46348750591278076,
          0.46738049387931824,
          0.4640634059906006,
          0.4603649377822876,
          0.4610956609249115,
          0.4633510112762451,
          0.45250749588012695,
          0.4759570062160492,
          0.46760064363479614,
          0.47337642312049866,
          0.46824076771736145,
          0.47444775700569153,
          0.46446412801742554,
          0.4743975102901459,
          0.4647890329360962,
          0.4694482684135437,
          0.4630042314529419,
          0.46589136123657227,
          0.4702565670013428,
          0.47816357016563416,
          0.4641871154308319,
          0.46656960248947144,
          0.4772777855396271,
          0.4726291000843048,
          0.469390332698822,
          0.4691608250141144,
          0.4592447876930237,
          0.46631667017936707,
          0.4623119831085205,
          0.468908429145813,
          0.46483710408210754,
          0.4729178845882416,
          0.47372889518737793,
          0.4648754596710205,
          0.4634040892124176,
          0.4766865670681,
          0.4695137143135071,
          0.4759557247161865,
          0.46920621395111084,
          0.4601307213306427,
          0.4755784273147583,
          0.4642817974090576,
          0.46859848499298096,
          0.46896451711654663,
          0.46363937854766846,
          0.4621797204017639,
          0.45825129747390747,
          0.4671928286552429,
          0.4691486954689026,
          0.47232115268707275,
          0.4651836156845093,
          0.4776942729949951,
          0.4752172827720642,
          0.4698461890220642,
          0.479767382144928,
          0.4710352420806885,
          0.46619361639022827,
          0.4740915298461914,
          0.47198712825775146,
          0.4711766242980957,
          0.4631396532058716,
          0.46216100454330444,
          0.46801820397377014,
          0.47042906284332275,
          0.4680044651031494,
          0.4709208011627197,
          0.4678468108177185,
          0.46613386273384094,
          0.470655620098114,
          0.45366060733795166,
          0.4653318524360657,
          0.4669346213340759,
          0.46170705556869507,
          0.46224987506866455,
          0.4642722010612488,
          0.467919260263443,
          0.4692685604095459,
          0.45500949025154114,
          0.4692903757095337,
          0.4755520224571228,
          0.46537312865257263,
          0.46448415517807007,
          0.4748920202255249,
          0.4618285000324249,
          0.4686829745769501,
          0.4636613130569458,
          0.4741275906562805,
          0.46601688861846924,
          0.45625215768814087,
          0.46132585406303406,
          0.4697756767272949,
          0.46609893441200256,
          0.45838019251823425,
          0.4676300585269928,
          0.46659478545188904,
          0.46113234758377075,
          0.46746528148651123,
          0.4641152620315552,
          0.46092262864112854,
          0.46453380584716797,
          0.46510422229766846,
          0.4692888557910919,
          0.46803516149520874,
          0.4613143801689148,
          0.4578155279159546,
          0.46182364225387573,
          0.4708279073238373
         ],
         "yaxis": "y"
        },
        {
         "hovertemplate": "variable=f1_score<br>index=%{x}<br>value=%{y}<extra></extra>",
         "legendgroup": "f1_score",
         "line": {
          "color": "#ab63fa",
          "dash": "solid"
         },
         "marker": {
          "symbol": "circle"
         },
         "mode": "lines",
         "name": "f1_score",
         "orientation": "v",
         "showlegend": true,
         "type": "scatter",
         "x": [
          0,
          1,
          2,
          3,
          4,
          5,
          6,
          7,
          8,
          9,
          10,
          11,
          12,
          13,
          14,
          15,
          16,
          17,
          18,
          19,
          20,
          21,
          22,
          23,
          24,
          25,
          26,
          27,
          28,
          29,
          30,
          31,
          32,
          33,
          34,
          35,
          36,
          37,
          38,
          39,
          40,
          41,
          42,
          43,
          44,
          45,
          46,
          47,
          48,
          49,
          50,
          51,
          52,
          53,
          54,
          55,
          56,
          57,
          58,
          59,
          60,
          61,
          62,
          63,
          64,
          65,
          66,
          67,
          68,
          69,
          70,
          71,
          72,
          73,
          74,
          75,
          76,
          77,
          78,
          79,
          80,
          81,
          82,
          83,
          84,
          85,
          86,
          87,
          88,
          89,
          90,
          91,
          92,
          93,
          94,
          95,
          96,
          97,
          98,
          99,
          100,
          101,
          102,
          103,
          104,
          105,
          106,
          107,
          108,
          109,
          110,
          111,
          112,
          113,
          114,
          115,
          116,
          117,
          118,
          119,
          120,
          121,
          122,
          123,
          124,
          125,
          126,
          127,
          128,
          129,
          130,
          131,
          132
         ],
         "xaxis": "x",
         "y": [
          0.6078140735626221,
          0.6079896688461304,
          0.6081310510635376,
          0.6058372259140015,
          0.6016820669174194,
          0.607298731803894,
          0.605167031288147,
          0.6027957797050476,
          0.6055314540863037,
          0.6057657599449158,
          0.6053841710090637,
          0.6060968637466431,
          0.6051984429359436,
          0.6069756150245667,
          0.6045860052108765,
          0.6067627668380737,
          0.6084409952163696,
          0.6042160987854004,
          0.6092305183410645,
          0.5994634628295898,
          0.6073964238166809,
          0.6005571484565735,
          0.6048802733421326,
          0.6058682203292847,
          0.6017481088638306,
          0.6050399541854858,
          0.6094184517860413,
          0.6037389039993286,
          0.609441876411438,
          0.6088616847991943,
          0.6039113402366638,
          0.6090835928916931,
          0.6088231801986694,
          0.6095795035362244,
          0.6059042811393738,
          0.6066262722015381,
          0.6099418997764587,
          0.6057596206665039,
          0.6052246689796448,
          0.6057703495025635,
          0.6102547645568848,
          0.6064640879631042,
          0.610201358795166,
          0.6078685522079468,
          0.6056516170501709,
          0.6063774824142456,
          0.6116902232170105,
          0.6063843965530396,
          0.6086876392364502,
          0.6051554679870605,
          0.6136491298675537,
          0.6079294681549072,
          0.6105186939239502,
          0.6119837164878845,
          0.6072480082511902,
          0.6156964302062988,
          0.609113335609436,
          0.6072900295257568,
          0.609769344329834,
          0.61012202501297,
          0.6054792404174805,
          0.6064561605453491,
          0.6104894280433655,
          0.6123452186584473,
          0.6061475872993469,
          0.6102951765060425,
          0.6111752986907959,
          0.6088772416114807,
          0.607115626335144,
          0.6061596274375916,
          0.6110585331916809,
          0.6107889413833618,
          0.6148460507392883,
          0.6090877056121826,
          0.613176167011261,
          0.6104767322540283,
          0.6123638153076172,
          0.6126895546913147,
          0.6099205017089844,
          0.6086974143981934,
          0.6128690242767334,
          0.6138439178466797,
          0.6099007725715637,
          0.6101521253585815,
          0.608686089515686,
          0.6092642545700073,
          0.6105464100837708,
          0.6132345795631409,
          0.6115820407867432,
          0.6146243214607239,
          0.607048511505127,
          0.6126130819320679,
          0.607707142829895,
          0.6150028705596924,
          0.6069822311401367,
          0.6106317043304443,
          0.6114611625671387,
          0.6129976511001587,
          0.6141349673271179,
          0.6092429757118225,
          0.6148598194122314,
          0.6151844263076782,
          0.6121155023574829,
          0.6134262681007385,
          0.6146068572998047,
          0.6122701168060303,
          0.6136311292648315,
          0.6131536960601807,
          0.6148671507835388,
          0.6119592785835266,
          0.618092954158783,
          0.6163776516914368,
          0.6107866168022156,
          0.6133918762207031,
          0.6129385232925415,
          0.6133785247802734,
          0.6145534515380859,
          0.6116214394569397,
          0.6178390979766846,
          0.6133265495300293,
          0.6107611656188965,
          0.6122199296951294,
          0.6123210191726685,
          0.6109070777893066,
          0.615528404712677,
          0.614481508731842,
          0.6140836477279663,
          0.6148658394813538,
          0.6153976917266846,
          0.6122182011604309,
          0.6138078570365906,
          0.6161798238754272,
          0.614891529083252
         ],
         "yaxis": "y"
        },
        {
         "hovertemplate": "variable=val_accuracy<br>index=%{x}<br>value=%{y}<extra></extra>",
         "legendgroup": "val_accuracy",
         "line": {
          "color": "#FFA15A",
          "dash": "solid"
         },
         "marker": {
          "symbol": "circle"
         },
         "mode": "lines",
         "name": "val_accuracy",
         "orientation": "v",
         "showlegend": true,
         "type": "scatter",
         "x": [
          0,
          1,
          2,
          3,
          4,
          5,
          6,
          7,
          8,
          9,
          10,
          11,
          12,
          13,
          14,
          15,
          16,
          17,
          18,
          19,
          20,
          21,
          22,
          23,
          24,
          25,
          26,
          27,
          28,
          29,
          30,
          31,
          32,
          33,
          34,
          35,
          36,
          37,
          38,
          39,
          40,
          41,
          42,
          43,
          44,
          45,
          46,
          47,
          48,
          49,
          50,
          51,
          52,
          53,
          54,
          55,
          56,
          57,
          58,
          59,
          60,
          61,
          62,
          63,
          64,
          65,
          66,
          67,
          68,
          69,
          70,
          71,
          72,
          73,
          74,
          75,
          76,
          77,
          78,
          79,
          80,
          81,
          82,
          83,
          84,
          85,
          86,
          87,
          88,
          89,
          90,
          91,
          92,
          93,
          94,
          95,
          96,
          97,
          98,
          99,
          100,
          101,
          102,
          103,
          104,
          105,
          106,
          107,
          108,
          109,
          110,
          111,
          112,
          113,
          114,
          115,
          116,
          117,
          118,
          119,
          120,
          121,
          122,
          123,
          124,
          125,
          126,
          127,
          128,
          129,
          130,
          131,
          132
         ],
         "xaxis": "x",
         "y": [
          0.5260000228881836,
          0.5180000066757202,
          0.5199999809265137,
          0.5210000276565552,
          0.5170000195503235,
          0.5170000195503235,
          0.5180000066757202,
          0.5139999985694885,
          0.5130000114440918,
          0.5220000147819519,
          0.5189999938011169,
          0.5170000195503235,
          0.5220000147819519,
          0.5180000066757202,
          0.515999972820282,
          0.5199999809265137,
          0.5139999985694885,
          0.5059999823570251,
          0.5180000066757202,
          0.515999972820282,
          0.5120000243186951,
          0.5090000033378601,
          0.5199999809265137,
          0.5230000019073486,
          0.5230000019073486,
          0.5170000195503235,
          0.515999972820282,
          0.5199999809265137,
          0.5109999775886536,
          0.5180000066757202,
          0.5170000195503235,
          0.5210000276565552,
          0.5099999904632568,
          0.5199999809265137,
          0.5120000243186951,
          0.5130000114440918,
          0.5120000243186951,
          0.5199999809265137,
          0.5120000243186951,
          0.5260000228881836,
          0.5120000243186951,
          0.5199999809265137,
          0.5180000066757202,
          0.5180000066757202,
          0.5249999761581421,
          0.527999997138977,
          0.5149999856948853,
          0.5220000147819519,
          0.5329999923706055,
          0.515999972820282,
          0.5230000019073486,
          0.5199999809265137,
          0.5099999904632568,
          0.5149999856948853,
          0.515999972820282,
          0.5149999856948853,
          0.515999972820282,
          0.5210000276565552,
          0.5080000162124634,
          0.5189999938011169,
          0.5170000195503235,
          0.5249999761581421,
          0.5109999775886536,
          0.5210000276565552,
          0.515999972820282,
          0.5109999775886536,
          0.5249999761581421,
          0.5130000114440918,
          0.515999972820282,
          0.5289999842643738,
          0.5070000290870667,
          0.5139999985694885,
          0.5099999904632568,
          0.5220000147819519,
          0.5170000195503235,
          0.5189999938011169,
          0.5199999809265137,
          0.5260000228881836,
          0.5249999761581421,
          0.5080000162124634,
          0.5230000019073486,
          0.5230000019073486,
          0.5149999856948853,
          0.5180000066757202,
          0.515999972820282,
          0.5139999985694885,
          0.5139999985694885,
          0.5130000114440918,
          0.5130000114440918,
          0.5170000195503235,
          0.515999972820282,
          0.5230000019073486,
          0.515999972820282,
          0.5139999985694885,
          0.515999972820282,
          0.5120000243186951,
          0.5149999856948853,
          0.5120000243186951,
          0.5199999809265137,
          0.5090000033378601,
          0.5210000276565552,
          0.5170000195503235,
          0.5130000114440918,
          0.5139999985694885,
          0.5130000114440918,
          0.5170000195503235,
          0.5210000276565552,
          0.5199999809265137,
          0.5199999809265137,
          0.5109999775886536,
          0.5149999856948853,
          0.5220000147819519,
          0.5260000228881836,
          0.5170000195503235,
          0.5230000019073486,
          0.5090000033378601,
          0.5080000162124634,
          0.5149999856948853,
          0.5080000162124634,
          0.5180000066757202,
          0.5220000147819519,
          0.515999972820282,
          0.5249999761581421,
          0.5130000114440918,
          0.5099999904632568,
          0.5099999904632568,
          0.5170000195503235,
          0.5120000243186951,
          0.5199999809265137,
          0.5149999856948853,
          0.515999972820282,
          0.5120000243186951,
          0.5270000100135803
         ],
         "yaxis": "y"
        },
        {
         "hovertemplate": "variable=accuracy<br>index=%{x}<br>value=%{y}<extra></extra>",
         "legendgroup": "accuracy",
         "line": {
          "color": "#19d3f3",
          "dash": "solid"
         },
         "marker": {
          "symbol": "circle"
         },
         "mode": "lines",
         "name": "accuracy",
         "orientation": "v",
         "showlegend": true,
         "type": "scatter",
         "x": [
          0,
          1,
          2,
          3,
          4,
          5,
          6,
          7,
          8,
          9,
          10,
          11,
          12,
          13,
          14,
          15,
          16,
          17,
          18,
          19,
          20,
          21,
          22,
          23,
          24,
          25,
          26,
          27,
          28,
          29,
          30,
          31,
          32,
          33,
          34,
          35,
          36,
          37,
          38,
          39,
          40,
          41,
          42,
          43,
          44,
          45,
          46,
          47,
          48,
          49,
          50,
          51,
          52,
          53,
          54,
          55,
          56,
          57,
          58,
          59,
          60,
          61,
          62,
          63,
          64,
          65,
          66,
          67,
          68,
          69,
          70,
          71,
          72,
          73,
          74,
          75,
          76,
          77,
          78,
          79,
          80,
          81,
          82,
          83,
          84,
          85,
          86,
          87,
          88,
          89,
          90,
          91,
          92,
          93,
          94,
          95,
          96,
          97,
          98,
          99,
          100,
          101,
          102,
          103,
          104,
          105,
          106,
          107,
          108,
          109,
          110,
          111,
          112,
          113,
          114,
          115,
          116,
          117,
          118,
          119,
          120,
          121,
          122,
          123,
          124,
          125,
          126,
          127,
          128,
          129,
          130,
          131,
          132
         ],
         "xaxis": "x",
         "y": [
          0.6413999795913696,
          0.642799973487854,
          0.6416000127792358,
          0.6395999789237976,
          0.6373999714851379,
          0.6420000195503235,
          0.6402000188827515,
          0.6384000182151794,
          0.6385999917984009,
          0.6385999917984009,
          0.6398000121116638,
          0.6398000121116638,
          0.6399999856948853,
          0.6403999924659729,
          0.6395999789237976,
          0.6398000121116638,
          0.6424000263214111,
          0.6395999789237976,
          0.6420000195503235,
          0.6366000175476074,
          0.6417999863624573,
          0.6348000168800354,
          0.6394000053405762,
          0.6406000256538391,
          0.6366000175476074,
          0.6388000249862671,
          0.642799973487854,
          0.6384000182151794,
          0.6442000269889832,
          0.6416000127792358,
          0.6384000182151794,
          0.6431999802589417,
          0.6424000263214111,
          0.6431999802589417,
          0.6398000121116638,
          0.6402000188827515,
          0.6431999802589417,
          0.6395999789237976,
          0.6389999985694885,
          0.6406000256538391,
          0.6442000269889832,
          0.6402000188827515,
          0.6435999870300293,
          0.6416000127792358,
          0.6388000249862671,
          0.640999972820282,
          0.645799994468689,
          0.640999972820282,
          0.6424000263214111,
          0.6389999985694885,
          0.6449999809265137,
          0.640999972820282,
          0.6439999938011169,
          0.645799994468689,
          0.6398000121116638,
          0.6481999754905701,
          0.6417999863624573,
          0.6421999931335449,
          0.6438000202178955,
          0.6420000195503235,
          0.6394000053405762,
          0.6388000249862671,
          0.6431999802589417,
          0.6448000073432922,
          0.6403999924659729,
          0.6424000263214111,
          0.6444000005722046,
          0.6421999931335449,
          0.6398000121116638,
          0.6399999856948853,
          0.6442000269889832,
          0.6430000066757202,
          0.6462000012397766,
          0.6424000263214111,
          0.6453999876976013,
          0.6434000134468079,
          0.6448000073432922,
          0.645799994468689,
          0.6424000263214111,
          0.6417999863624573,
          0.6452000141143799,
          0.6453999876976013,
          0.6417999863624573,
          0.6430000066757202,
          0.6417999863624573,
          0.6424000263214111,
          0.6434000134468079,
          0.6460000276565552,
          0.6448000073432922,
          0.645799994468689,
          0.6416000127792358,
          0.6449999809265137,
          0.6399999856948853,
          0.6474000215530396,
          0.6381999850273132,
          0.6424000263214111,
          0.6449999809265137,
          0.644599974155426,
          0.6460000276565552,
          0.6417999863624573,
          0.6462000012397766,
          0.6474000215530396,
          0.644599974155426,
          0.644599974155426,
          0.6466000080108643,
          0.6448000073432922,
          0.6452000141143799,
          0.6453999876976013,
          0.6480000019073486,
          0.6448000073432922,
          0.6498000025749207,
          0.647599995136261,
          0.6434000134468079,
          0.6448000073432922,
          0.6449999809265137,
          0.646399974822998,
          0.6466000080108643,
          0.6431999802589417,
          0.6498000025749207,
          0.6453999876976013,
          0.6425999999046326,
          0.644599974155426,
          0.644599974155426,
          0.6438000202178955,
          0.646399974822998,
          0.6452000141143799,
          0.645799994468689,
          0.6467999815940857,
          0.6467999815940857,
          0.6453999876976013,
          0.6460000276565552,
          0.6484000086784363,
          0.6466000080108643
         ],
         "yaxis": "y"
        }
       ],
       "layout": {
        "legend": {
         "title": {
          "text": "variable"
         },
         "tracegroupgap": 0
        },
        "margin": {
         "t": 60
        },
        "template": {
         "data": {
          "bar": [
           {
            "error_x": {
             "color": "#2a3f5f"
            },
            "error_y": {
             "color": "#2a3f5f"
            },
            "marker": {
             "line": {
              "color": "#E5ECF6",
              "width": 0.5
             },
             "pattern": {
              "fillmode": "overlay",
              "size": 10,
              "solidity": 0.2
             }
            },
            "type": "bar"
           }
          ],
          "barpolar": [
           {
            "marker": {
             "line": {
              "color": "#E5ECF6",
              "width": 0.5
             },
             "pattern": {
              "fillmode": "overlay",
              "size": 10,
              "solidity": 0.2
             }
            },
            "type": "barpolar"
           }
          ],
          "carpet": [
           {
            "aaxis": {
             "endlinecolor": "#2a3f5f",
             "gridcolor": "white",
             "linecolor": "white",
             "minorgridcolor": "white",
             "startlinecolor": "#2a3f5f"
            },
            "baxis": {
             "endlinecolor": "#2a3f5f",
             "gridcolor": "white",
             "linecolor": "white",
             "minorgridcolor": "white",
             "startlinecolor": "#2a3f5f"
            },
            "type": "carpet"
           }
          ],
          "choropleth": [
           {
            "colorbar": {
             "outlinewidth": 0,
             "ticks": ""
            },
            "type": "choropleth"
           }
          ],
          "contour": [
           {
            "colorbar": {
             "outlinewidth": 0,
             "ticks": ""
            },
            "colorscale": [
             [
              0,
              "#0d0887"
             ],
             [
              0.1111111111111111,
              "#46039f"
             ],
             [
              0.2222222222222222,
              "#7201a8"
             ],
             [
              0.3333333333333333,
              "#9c179e"
             ],
             [
              0.4444444444444444,
              "#bd3786"
             ],
             [
              0.5555555555555556,
              "#d8576b"
             ],
             [
              0.6666666666666666,
              "#ed7953"
             ],
             [
              0.7777777777777778,
              "#fb9f3a"
             ],
             [
              0.8888888888888888,
              "#fdca26"
             ],
             [
              1,
              "#f0f921"
             ]
            ],
            "type": "contour"
           }
          ],
          "contourcarpet": [
           {
            "colorbar": {
             "outlinewidth": 0,
             "ticks": ""
            },
            "type": "contourcarpet"
           }
          ],
          "heatmap": [
           {
            "colorbar": {
             "outlinewidth": 0,
             "ticks": ""
            },
            "colorscale": [
             [
              0,
              "#0d0887"
             ],
             [
              0.1111111111111111,
              "#46039f"
             ],
             [
              0.2222222222222222,
              "#7201a8"
             ],
             [
              0.3333333333333333,
              "#9c179e"
             ],
             [
              0.4444444444444444,
              "#bd3786"
             ],
             [
              0.5555555555555556,
              "#d8576b"
             ],
             [
              0.6666666666666666,
              "#ed7953"
             ],
             [
              0.7777777777777778,
              "#fb9f3a"
             ],
             [
              0.8888888888888888,
              "#fdca26"
             ],
             [
              1,
              "#f0f921"
             ]
            ],
            "type": "heatmap"
           }
          ],
          "heatmapgl": [
           {
            "colorbar": {
             "outlinewidth": 0,
             "ticks": ""
            },
            "colorscale": [
             [
              0,
              "#0d0887"
             ],
             [
              0.1111111111111111,
              "#46039f"
             ],
             [
              0.2222222222222222,
              "#7201a8"
             ],
             [
              0.3333333333333333,
              "#9c179e"
             ],
             [
              0.4444444444444444,
              "#bd3786"
             ],
             [
              0.5555555555555556,
              "#d8576b"
             ],
             [
              0.6666666666666666,
              "#ed7953"
             ],
             [
              0.7777777777777778,
              "#fb9f3a"
             ],
             [
              0.8888888888888888,
              "#fdca26"
             ],
             [
              1,
              "#f0f921"
             ]
            ],
            "type": "heatmapgl"
           }
          ],
          "histogram": [
           {
            "marker": {
             "pattern": {
              "fillmode": "overlay",
              "size": 10,
              "solidity": 0.2
             }
            },
            "type": "histogram"
           }
          ],
          "histogram2d": [
           {
            "colorbar": {
             "outlinewidth": 0,
             "ticks": ""
            },
            "colorscale": [
             [
              0,
              "#0d0887"
             ],
             [
              0.1111111111111111,
              "#46039f"
             ],
             [
              0.2222222222222222,
              "#7201a8"
             ],
             [
              0.3333333333333333,
              "#9c179e"
             ],
             [
              0.4444444444444444,
              "#bd3786"
             ],
             [
              0.5555555555555556,
              "#d8576b"
             ],
             [
              0.6666666666666666,
              "#ed7953"
             ],
             [
              0.7777777777777778,
              "#fb9f3a"
             ],
             [
              0.8888888888888888,
              "#fdca26"
             ],
             [
              1,
              "#f0f921"
             ]
            ],
            "type": "histogram2d"
           }
          ],
          "histogram2dcontour": [
           {
            "colorbar": {
             "outlinewidth": 0,
             "ticks": ""
            },
            "colorscale": [
             [
              0,
              "#0d0887"
             ],
             [
              0.1111111111111111,
              "#46039f"
             ],
             [
              0.2222222222222222,
              "#7201a8"
             ],
             [
              0.3333333333333333,
              "#9c179e"
             ],
             [
              0.4444444444444444,
              "#bd3786"
             ],
             [
              0.5555555555555556,
              "#d8576b"
             ],
             [
              0.6666666666666666,
              "#ed7953"
             ],
             [
              0.7777777777777778,
              "#fb9f3a"
             ],
             [
              0.8888888888888888,
              "#fdca26"
             ],
             [
              1,
              "#f0f921"
             ]
            ],
            "type": "histogram2dcontour"
           }
          ],
          "mesh3d": [
           {
            "colorbar": {
             "outlinewidth": 0,
             "ticks": ""
            },
            "type": "mesh3d"
           }
          ],
          "parcoords": [
           {
            "line": {
             "colorbar": {
              "outlinewidth": 0,
              "ticks": ""
             }
            },
            "type": "parcoords"
           }
          ],
          "pie": [
           {
            "automargin": true,
            "type": "pie"
           }
          ],
          "scatter": [
           {
            "marker": {
             "colorbar": {
              "outlinewidth": 0,
              "ticks": ""
             }
            },
            "type": "scatter"
           }
          ],
          "scatter3d": [
           {
            "line": {
             "colorbar": {
              "outlinewidth": 0,
              "ticks": ""
             }
            },
            "marker": {
             "colorbar": {
              "outlinewidth": 0,
              "ticks": ""
             }
            },
            "type": "scatter3d"
           }
          ],
          "scattercarpet": [
           {
            "marker": {
             "colorbar": {
              "outlinewidth": 0,
              "ticks": ""
             }
            },
            "type": "scattercarpet"
           }
          ],
          "scattergeo": [
           {
            "marker": {
             "colorbar": {
              "outlinewidth": 0,
              "ticks": ""
             }
            },
            "type": "scattergeo"
           }
          ],
          "scattergl": [
           {
            "marker": {
             "colorbar": {
              "outlinewidth": 0,
              "ticks": ""
             }
            },
            "type": "scattergl"
           }
          ],
          "scattermapbox": [
           {
            "marker": {
             "colorbar": {
              "outlinewidth": 0,
              "ticks": ""
             }
            },
            "type": "scattermapbox"
           }
          ],
          "scatterpolar": [
           {
            "marker": {
             "colorbar": {
              "outlinewidth": 0,
              "ticks": ""
             }
            },
            "type": "scatterpolar"
           }
          ],
          "scatterpolargl": [
           {
            "marker": {
             "colorbar": {
              "outlinewidth": 0,
              "ticks": ""
             }
            },
            "type": "scatterpolargl"
           }
          ],
          "scatterternary": [
           {
            "marker": {
             "colorbar": {
              "outlinewidth": 0,
              "ticks": ""
             }
            },
            "type": "scatterternary"
           }
          ],
          "surface": [
           {
            "colorbar": {
             "outlinewidth": 0,
             "ticks": ""
            },
            "colorscale": [
             [
              0,
              "#0d0887"
             ],
             [
              0.1111111111111111,
              "#46039f"
             ],
             [
              0.2222222222222222,
              "#7201a8"
             ],
             [
              0.3333333333333333,
              "#9c179e"
             ],
             [
              0.4444444444444444,
              "#bd3786"
             ],
             [
              0.5555555555555556,
              "#d8576b"
             ],
             [
              0.6666666666666666,
              "#ed7953"
             ],
             [
              0.7777777777777778,
              "#fb9f3a"
             ],
             [
              0.8888888888888888,
              "#fdca26"
             ],
             [
              1,
              "#f0f921"
             ]
            ],
            "type": "surface"
           }
          ],
          "table": [
           {
            "cells": {
             "fill": {
              "color": "#EBF0F8"
             },
             "line": {
              "color": "white"
             }
            },
            "header": {
             "fill": {
              "color": "#C8D4E3"
             },
             "line": {
              "color": "white"
             }
            },
            "type": "table"
           }
          ]
         },
         "layout": {
          "annotationdefaults": {
           "arrowcolor": "#2a3f5f",
           "arrowhead": 0,
           "arrowwidth": 1
          },
          "autotypenumbers": "strict",
          "coloraxis": {
           "colorbar": {
            "outlinewidth": 0,
            "ticks": ""
           }
          },
          "colorscale": {
           "diverging": [
            [
             0,
             "#8e0152"
            ],
            [
             0.1,
             "#c51b7d"
            ],
            [
             0.2,
             "#de77ae"
            ],
            [
             0.3,
             "#f1b6da"
            ],
            [
             0.4,
             "#fde0ef"
            ],
            [
             0.5,
             "#f7f7f7"
            ],
            [
             0.6,
             "#e6f5d0"
            ],
            [
             0.7,
             "#b8e186"
            ],
            [
             0.8,
             "#7fbc41"
            ],
            [
             0.9,
             "#4d9221"
            ],
            [
             1,
             "#276419"
            ]
           ],
           "sequential": [
            [
             0,
             "#0d0887"
            ],
            [
             0.1111111111111111,
             "#46039f"
            ],
            [
             0.2222222222222222,
             "#7201a8"
            ],
            [
             0.3333333333333333,
             "#9c179e"
            ],
            [
             0.4444444444444444,
             "#bd3786"
            ],
            [
             0.5555555555555556,
             "#d8576b"
            ],
            [
             0.6666666666666666,
             "#ed7953"
            ],
            [
             0.7777777777777778,
             "#fb9f3a"
            ],
            [
             0.8888888888888888,
             "#fdca26"
            ],
            [
             1,
             "#f0f921"
            ]
           ],
           "sequentialminus": [
            [
             0,
             "#0d0887"
            ],
            [
             0.1111111111111111,
             "#46039f"
            ],
            [
             0.2222222222222222,
             "#7201a8"
            ],
            [
             0.3333333333333333,
             "#9c179e"
            ],
            [
             0.4444444444444444,
             "#bd3786"
            ],
            [
             0.5555555555555556,
             "#d8576b"
            ],
            [
             0.6666666666666666,
             "#ed7953"
            ],
            [
             0.7777777777777778,
             "#fb9f3a"
            ],
            [
             0.8888888888888888,
             "#fdca26"
            ],
            [
             1,
             "#f0f921"
            ]
           ]
          },
          "colorway": [
           "#636efa",
           "#EF553B",
           "#00cc96",
           "#ab63fa",
           "#FFA15A",
           "#19d3f3",
           "#FF6692",
           "#B6E880",
           "#FF97FF",
           "#FECB52"
          ],
          "font": {
           "color": "#2a3f5f"
          },
          "geo": {
           "bgcolor": "white",
           "lakecolor": "white",
           "landcolor": "#E5ECF6",
           "showlakes": true,
           "showland": true,
           "subunitcolor": "white"
          },
          "hoverlabel": {
           "align": "left"
          },
          "hovermode": "closest",
          "mapbox": {
           "style": "light"
          },
          "paper_bgcolor": "white",
          "plot_bgcolor": "#E5ECF6",
          "polar": {
           "angularaxis": {
            "gridcolor": "white",
            "linecolor": "white",
            "ticks": ""
           },
           "bgcolor": "#E5ECF6",
           "radialaxis": {
            "gridcolor": "white",
            "linecolor": "white",
            "ticks": ""
           }
          },
          "scene": {
           "xaxis": {
            "backgroundcolor": "#E5ECF6",
            "gridcolor": "white",
            "gridwidth": 2,
            "linecolor": "white",
            "showbackground": true,
            "ticks": "",
            "zerolinecolor": "white"
           },
           "yaxis": {
            "backgroundcolor": "#E5ECF6",
            "gridcolor": "white",
            "gridwidth": 2,
            "linecolor": "white",
            "showbackground": true,
            "ticks": "",
            "zerolinecolor": "white"
           },
           "zaxis": {
            "backgroundcolor": "#E5ECF6",
            "gridcolor": "white",
            "gridwidth": 2,
            "linecolor": "white",
            "showbackground": true,
            "ticks": "",
            "zerolinecolor": "white"
           }
          },
          "shapedefaults": {
           "line": {
            "color": "#2a3f5f"
           }
          },
          "ternary": {
           "aaxis": {
            "gridcolor": "white",
            "linecolor": "white",
            "ticks": ""
           },
           "baxis": {
            "gridcolor": "white",
            "linecolor": "white",
            "ticks": ""
           },
           "bgcolor": "#E5ECF6",
           "caxis": {
            "gridcolor": "white",
            "linecolor": "white",
            "ticks": ""
           }
          },
          "title": {
           "x": 0.05
          },
          "xaxis": {
           "automargin": true,
           "gridcolor": "white",
           "linecolor": "white",
           "ticks": "",
           "title": {
            "standoff": 15
           },
           "zerolinecolor": "white",
           "zerolinewidth": 2
          },
          "yaxis": {
           "automargin": true,
           "gridcolor": "white",
           "linecolor": "white",
           "ticks": "",
           "title": {
            "standoff": 15
           },
           "zerolinecolor": "white",
           "zerolinewidth": 2
          }
         }
        },
        "xaxis": {
         "anchor": "y",
         "domain": [
          0,
          1
         ],
         "title": {
          "text": "index"
         }
        },
        "yaxis": {
         "anchor": "x",
         "domain": [
          0,
          1
         ],
         "title": {
          "text": "value"
         }
        }
       }
      }
     },
     "metadata": {},
     "output_type": "display_data"
    }
   ],
   "source": [
    "import plotly.express as px\n",
    "\n",
    "# Babysit the model - use you favourite plot\n",
    "px.line(\n",
    "    pd.DataFrame(\n",
    "        {  'val_loss':history.history['val_loss'],\n",
    "            \"loss\": history.history[\"loss\"],\n",
    "            'val_f1_score':history.history['val_f1_score'],\n",
    "            \"f1_score\": history.history[\"f1_score\"],\n",
    "            'val_accuracy':history.history['val_accuracy'],\n",
    "            'accuracy':history.history['accuracy']\n",
    "        }\n",
    "    )\n",
    ")\n"
   ]
  },
  {
   "cell_type": "code",
   "execution_count": null,
   "metadata": {
    "ExecuteTime": {
     "end_time": "2022-01-25T18:52:15.716618Z",
     "start_time": "2022-01-25T18:52:15.704147Z"
    }
   },
   "outputs": [
    {
     "name": "stdout",
     "output_type": "stream",
     "text": [
      "32/32 [==============================] - 0s 1ms/step - loss: 1.2164 - f1_score: 0.4413\n"
     ]
    },
    {
     "data": {
      "text/plain": [
       "[1.2164429426193237, 0.4412788450717926]"
      ]
     },
     "execution_count": 9,
     "metadata": {},
     "output_type": "execute_result"
    }
   ],
   "source": [
    "# Evaluate the model with f1 metrics (Tensorflow f1 metrics or sklearn)\n",
    "model.evaluate(X_test_ohe, y_test_ohe)\n"
   ]
  },
  {
   "cell_type": "markdown",
   "metadata": {
    "id": "N4BohkzOoUqO"
   },
   "source": [
    "## Approach2 - Keras word embedding and MLP classifier\n",
    "\n",
    "Using the course companion notebook, build a multi-layer perceptron using an Embedding Keras layer and the same classifier as in approach 1. Evaluate the model.\n"
   ]
  },
  {
   "cell_type": "markdown",
   "metadata": {},
   "source": [
    "$$ TO DO STUDENTS $$\n",
    "\n",
    "> - fix the max_lengh of a review (max number of token in a review)\n",
    "> - use the same vocab_size as previously\n",
    "> - fix the embedding dimension (embed_dim variable)\n"
   ]
  },
  {
   "cell_type": "code",
   "execution_count": null,
   "metadata": {},
   "outputs": [],
   "source": [
    "import nltk\n",
    "\n",
    "X_train_tok = [nltk.word_tokenize(review) for review in X_train]\n",
    "max_len = int(\n",
    "    np.amax([len(review_tok) for review_tok in X_train_tok])\n",
    ")  # Sequence length to pad the outputs to\n",
    "# In order to fix it, you have to know the distribution on lengh... see first lab\n",
    "embed_dim = 300  # embedding dimension\n"
   ]
  },
  {
   "cell_type": "markdown",
   "metadata": {},
   "source": [
    "$$ TO DO STUDENTS $$\n",
    "\n",
    "> - Create a vectorizer_layer with TextVectorization function\n",
    "> - Fit the vectorizer_layer (adapt function\n"
   ]
  },
  {
   "cell_type": "code",
   "execution_count": null,
   "metadata": {
    "ExecuteTime": {
     "end_time": "2022-01-25T18:52:20.520759Z",
     "start_time": "2022-01-25T18:52:20.510528Z"
    }
   },
   "outputs": [
    {
     "data": {
      "text/plain": [
       "<tf.Tensor: shape=(1000, 1137), dtype=int64, numpy=\n",
       "array([[2, 1, 1, ..., 0, 0, 0],\n",
       "       [3, 1, 1, ..., 0, 0, 0],\n",
       "       [3, 1, 1, ..., 0, 0, 0],\n",
       "       ...,\n",
       "       [1, 1, 1, ..., 0, 0, 0],\n",
       "       [1, 1, 1, ..., 0, 0, 0],\n",
       "       [1, 4, 9, ..., 0, 0, 0]])>"
      ]
     },
     "execution_count": 11,
     "metadata": {},
     "output_type": "execute_result"
    }
   ],
   "source": [
    "vectorize_layer = TextVectorization(\n",
    "    max_tokens=vocab_size,\n",
    "    output_sequence_length=max_len,\n",
    ")\n",
    "vectorize_layer.adapt(X_train)\n",
    "vectorize_layer(X_test)  # display vectorized test set\n"
   ]
  },
  {
   "cell_type": "code",
   "execution_count": null,
   "metadata": {},
   "outputs": [
    {
     "data": {
      "text/plain": [
       "['', '[UNK]', 'the', 'i', 'it', 'and', 'phone', 'a', 'to', 'is']"
      ]
     },
     "execution_count": 12,
     "metadata": {},
     "output_type": "execute_result"
    }
   ],
   "source": [
    "vectorize_layer.get_vocabulary()\n"
   ]
  },
  {
   "cell_type": "code",
   "execution_count": null,
   "metadata": {},
   "outputs": [
    {
     "data": {
      "text/plain": [
       "{'name': 'text_vectorization',\n",
       " 'trainable': True,\n",
       " 'batch_input_shape': (None, None),\n",
       " 'dtype': 'string',\n",
       " 'max_tokens': 10,\n",
       " 'standardize': 'lower_and_strip_punctuation',\n",
       " 'split': 'whitespace',\n",
       " 'ngrams': None,\n",
       " 'output_mode': 'int',\n",
       " 'output_sequence_length': 1137,\n",
       " 'pad_to_max_tokens': False,\n",
       " 'sparse': False,\n",
       " 'ragged': False,\n",
       " 'vocabulary': None,\n",
       " 'idf_weights': None}"
      ]
     },
     "execution_count": 13,
     "metadata": {},
     "output_type": "execute_result"
    }
   ],
   "source": [
    "vectorize_layer.get_config()\n"
   ]
  },
  {
   "cell_type": "markdown",
   "metadata": {},
   "source": [
    "$$TO DO STUDENT$$\n",
    "\n",
    "> - Build an MLP and print the model (model.summary())\n"
   ]
  },
  {
   "cell_type": "code",
   "execution_count": null,
   "metadata": {
    "ExecuteTime": {
     "end_time": "2022-01-25T18:52:21.254213Z",
     "start_time": "2022-01-25T18:52:21.244686Z"
    },
    "colab": {
     "base_uri": "https://localhost:8080/"
    },
    "id": "B4BPv2OGoUqO",
    "outputId": "4cbf391a-81b9-447d-a0af-d6b469f85e2b"
   },
   "outputs": [
    {
     "name": "stdout",
     "output_type": "stream",
     "text": [
      "Model: \"model\"\n",
      "_________________________________________________________________\n",
      " Layer (type)                Output Shape              Param #   \n",
      "=================================================================\n",
      " input_1 (InputLayer)        [(None, 1)]               0         \n",
      "                                                                 \n",
      " text_vectorization (TextVec  (None, 1137)             0         \n",
      " torization)                                                     \n",
      "                                                                 \n",
      " Embedding (Embedding)       (None, 1137, 256)         2560      \n",
      "                                                                 \n",
      " flatten (Flatten)           (None, 291072)            0         \n",
      "                                                                 \n",
      " dense (Dense)               (None, 5)                 1455365   \n",
      "                                                                 \n",
      "=================================================================\n",
      "Total params: 1,457,925\n",
      "Trainable params: 1,457,925\n",
      "Non-trainable params: 0\n",
      "_________________________________________________________________\n"
     ]
    }
   ],
   "source": [
    "# Flatten after Embedding in order to reduce the dimension of tensors\n",
    "input_ = Input(\n",
    "    shape=(1,),\n",
    "    dtype=tf.string,\n",
    ")\n",
    "x = vectorize_layer(input_)\n",
    "x = Embedding(\n",
    "    input_dim=vocab_size,\n",
    "    output_dim=256,\n",
    "    name=\"Embedding\",\n",
    ")(x)\n",
    "x = Flatten()(x)\n",
    "output_ = Dense(units=5, activation=\"sigmoid\")(x)\n",
    "model = Model(input_, output_)\n",
    "\n",
    "# get summary of the model\n",
    "model.summary()\n"
   ]
  },
  {
   "cell_type": "markdown",
   "metadata": {},
   "source": [
    "$$ TO DO STUDENT $$\n",
    "\n",
    "> - Compile the network\n",
    "> - Fit the network using EarlyStopping\n",
    "> - Babysit your model\n",
    "> - Evaluate the network with f1 score\n"
   ]
  },
  {
   "cell_type": "code",
   "execution_count": null,
   "metadata": {},
   "outputs": [
    {
     "data": {
      "text/plain": [
       "(5000, 5)"
      ]
     },
     "execution_count": 15,
     "metadata": {},
     "output_type": "execute_result"
    }
   ],
   "source": [
    "y_train_ohe.shape\n"
   ]
  },
  {
   "cell_type": "code",
   "execution_count": null,
   "metadata": {
    "ExecuteTime": {
     "end_time": "2022-01-25T18:52:22.548119Z",
     "start_time": "2022-01-25T18:52:22.525400Z"
    },
    "colab": {
     "base_uri": "https://localhost:8080/"
    },
    "id": "C7oN2bZkoUqP",
    "outputId": "8d7d5b26-b925-4e79-ad97-7aecd8980243"
   },
   "outputs": [
    {
     "name": "stdout",
     "output_type": "stream",
     "text": [
      "Epoch 1/50\n"
     ]
    },
    {
     "name": "stderr",
     "output_type": "stream",
     "text": [
      "2022-01-30 12:26:36.632993: W tensorflow/core/framework/cpu_allocator_impl.cc:82] Allocation of 596115456 exceeds 10% of free system memory.\n",
      "2022-01-30 12:26:36.735613: W tensorflow/core/framework/cpu_allocator_impl.cc:82] Allocation of 596115456 exceeds 10% of free system memory.\n"
     ]
    },
    {
     "name": "stdout",
     "output_type": "stream",
     "text": [
      " 1/10 [==>...........................] - ETA: 8s - loss: 1.6181 - f1_score: 0.3854"
     ]
    },
    {
     "name": "stderr",
     "output_type": "stream",
     "text": [
      "2022-01-30 12:26:37.160856: W tensorflow/core/framework/cpu_allocator_impl.cc:82] Allocation of 596115456 exceeds 10% of free system memory.\n",
      "2022-01-30 12:26:37.300761: W tensorflow/core/framework/cpu_allocator_impl.cc:82] Allocation of 596115456 exceeds 10% of free system memory.\n"
     ]
    },
    {
     "name": "stdout",
     "output_type": "stream",
     "text": [
      " 2/10 [=====>........................] - ETA: 4s - loss: 4.0471 - f1_score: 0.3859"
     ]
    },
    {
     "name": "stderr",
     "output_type": "stream",
     "text": [
      "2022-01-30 12:26:37.741040: W tensorflow/core/framework/cpu_allocator_impl.cc:82] Allocation of 596115456 exceeds 10% of free system memory.\n"
     ]
    },
    {
     "name": "stdout",
     "output_type": "stream",
     "text": [
      "10/10 [==============================] - 5s 431ms/step - loss: 3.1800 - f1_score: 0.3811\n",
      "Epoch 2/50\n",
      "10/10 [==============================] - 4s 405ms/step - loss: 1.9739 - f1_score: 0.4173\n",
      "Epoch 3/50\n",
      "10/10 [==============================] - 5s 468ms/step - loss: 1.3988 - f1_score: 0.3913\n",
      "Epoch 4/50\n",
      "10/10 [==============================] - 4s 429ms/step - loss: 1.2813 - f1_score: 0.3966\n",
      "Epoch 5/50\n",
      "10/10 [==============================] - 4s 445ms/step - loss: 1.2263 - f1_score: 0.3958\n",
      "Epoch 6/50\n",
      "10/10 [==============================] - 5s 458ms/step - loss: 1.2105 - f1_score: 0.3786\n",
      "Epoch 7/50\n",
      "10/10 [==============================] - 5s 474ms/step - loss: 1.1958 - f1_score: 0.3977\n",
      "Epoch 8/50\n",
      "10/10 [==============================] - 4s 439ms/step - loss: 1.1800 - f1_score: 0.3963\n",
      "Epoch 9/50\n",
      "10/10 [==============================] - 5s 454ms/step - loss: 1.1666 - f1_score: 0.4342\n",
      "Epoch 10/50\n",
      "10/10 [==============================] - 5s 449ms/step - loss: 1.1469 - f1_score: 0.4467\n",
      "Epoch 11/50\n",
      "10/10 [==============================] - 4s 445ms/step - loss: 1.1299 - f1_score: 0.4743\n",
      "Epoch 12/50\n",
      "10/10 [==============================] - 4s 447ms/step - loss: 1.1105 - f1_score: 0.4973\n",
      "Epoch 13/50\n",
      "10/10 [==============================] - 6s 568ms/step - loss: 1.0897 - f1_score: 0.5258\n",
      "Epoch 14/50\n",
      "10/10 [==============================] - 6s 551ms/step - loss: 1.0744 - f1_score: 0.5402\n",
      "Epoch 15/50\n",
      "10/10 [==============================] - 5s 529ms/step - loss: 1.0605 - f1_score: 0.5524\n",
      "Epoch 16/50\n",
      "10/10 [==============================] - 5s 543ms/step - loss: 1.0361 - f1_score: 0.5654\n",
      "Epoch 17/50\n",
      "10/10 [==============================] - 6s 581ms/step - loss: 1.0203 - f1_score: 0.5752\n",
      "Epoch 18/50\n",
      "10/10 [==============================] - 5s 528ms/step - loss: 1.0109 - f1_score: 0.5878\n",
      "Epoch 19/50\n",
      "10/10 [==============================] - 5s 515ms/step - loss: 0.9922 - f1_score: 0.5995\n",
      "Epoch 20/50\n",
      "10/10 [==============================] - 5s 486ms/step - loss: 0.9757 - f1_score: 0.6146\n",
      "Epoch 21/50\n",
      "10/10 [==============================] - 5s 498ms/step - loss: 0.9632 - f1_score: 0.6207\n",
      "Epoch 00021: early stopping\n"
     ]
    }
   ],
   "source": [
    "# compile the model with metrics f1 score\n",
    "model.compile(\n",
    "    optimizer=\"adam\",\n",
    "    loss=\"categorical_crossentropy\",\n",
    "    metrics=f1,\n",
    ")\n",
    "\n",
    "# define early stopping\n",
    "early_stop = EarlyStopping(\n",
    "    monitor=f1_score_name,\n",
    "    patience=15,\n",
    "    verbose=2,\n",
    ")\n",
    "\n",
    "# fit model using ealy stopping\n",
    "history = model.fit(\n",
    "    x=X_train,\n",
    "    y=y_train_ohe,\n",
    "    epochs=50,\n",
    "    batch_size=512,\n",
    "    callbacks=early_stop,\n",
    ")\n"
   ]
  },
  {
   "cell_type": "code",
   "execution_count": null,
   "metadata": {
    "ExecuteTime": {
     "end_time": "2022-01-25T18:52:23.547244Z",
     "start_time": "2022-01-25T18:52:23.306348Z"
    },
    "colab": {
     "base_uri": "https://localhost:8080/"
    },
    "id": "1XWqf1QKoUqQ",
    "outputId": "3c73908b-3066-4c32-92f8-df458dc7f8cb"
   },
   "outputs": [
    {
     "data": {
      "application/vnd.plotly.v1+json": {
       "config": {
        "plotlyServerURL": "https://plot.ly"
       },
       "data": [
        {
         "hovertemplate": "variable=loss<br>index=%{x}<br>value=%{y}<extra></extra>",
         "legendgroup": "loss",
         "line": {
          "color": "#636efa",
          "dash": "solid"
         },
         "marker": {
          "symbol": "circle"
         },
         "mode": "lines",
         "name": "loss",
         "orientation": "v",
         "showlegend": true,
         "type": "scatter",
         "x": [
          0,
          1,
          2,
          3,
          4,
          5,
          6,
          7,
          8,
          9,
          10,
          11,
          12,
          13,
          14,
          15,
          16,
          17,
          18,
          19,
          20
         ],
         "xaxis": "x",
         "y": [
          3.1800389289855957,
          1.973870873451233,
          1.3988288640975952,
          1.2813163995742798,
          1.226325511932373,
          1.210524082183838,
          1.195838451385498,
          1.18003249168396,
          1.166587471961975,
          1.1468746662139893,
          1.1299294233322144,
          1.1104625463485718,
          1.0896868705749512,
          1.0743825435638428,
          1.0604931116104126,
          1.0360939502716064,
          1.0202720165252686,
          1.0109460353851318,
          0.9922040104866028,
          0.9757064580917358,
          0.9632476568222046
         ],
         "yaxis": "y"
        },
        {
         "hovertemplate": "variable=f1_score<br>index=%{x}<br>value=%{y}<extra></extra>",
         "legendgroup": "f1_score",
         "line": {
          "color": "#EF553B",
          "dash": "solid"
         },
         "marker": {
          "symbol": "circle"
         },
         "mode": "lines",
         "name": "f1_score",
         "orientation": "v",
         "showlegend": true,
         "type": "scatter",
         "x": [
          0,
          1,
          2,
          3,
          4,
          5,
          6,
          7,
          8,
          9,
          10,
          11,
          12,
          13,
          14,
          15,
          16,
          17,
          18,
          19,
          20
         ],
         "xaxis": "x",
         "y": [
          0.3810580372810364,
          0.417304128408432,
          0.39128315448760986,
          0.39661216735839844,
          0.39583081007003784,
          0.3786447048187256,
          0.3976902365684509,
          0.3963185250759125,
          0.4342343807220459,
          0.4467218816280365,
          0.47432470321655273,
          0.4973209500312805,
          0.5258491039276123,
          0.5401569604873657,
          0.5523982048034668,
          0.5653858184814453,
          0.5751686096191406,
          0.5877860188484192,
          0.5995005965232849,
          0.6146476864814758,
          0.6207493543624878
         ],
         "yaxis": "y"
        }
       ],
       "layout": {
        "legend": {
         "title": {
          "text": "variable"
         },
         "tracegroupgap": 0
        },
        "margin": {
         "t": 60
        },
        "template": {
         "data": {
          "bar": [
           {
            "error_x": {
             "color": "#2a3f5f"
            },
            "error_y": {
             "color": "#2a3f5f"
            },
            "marker": {
             "line": {
              "color": "#E5ECF6",
              "width": 0.5
             },
             "pattern": {
              "fillmode": "overlay",
              "size": 10,
              "solidity": 0.2
             }
            },
            "type": "bar"
           }
          ],
          "barpolar": [
           {
            "marker": {
             "line": {
              "color": "#E5ECF6",
              "width": 0.5
             },
             "pattern": {
              "fillmode": "overlay",
              "size": 10,
              "solidity": 0.2
             }
            },
            "type": "barpolar"
           }
          ],
          "carpet": [
           {
            "aaxis": {
             "endlinecolor": "#2a3f5f",
             "gridcolor": "white",
             "linecolor": "white",
             "minorgridcolor": "white",
             "startlinecolor": "#2a3f5f"
            },
            "baxis": {
             "endlinecolor": "#2a3f5f",
             "gridcolor": "white",
             "linecolor": "white",
             "minorgridcolor": "white",
             "startlinecolor": "#2a3f5f"
            },
            "type": "carpet"
           }
          ],
          "choropleth": [
           {
            "colorbar": {
             "outlinewidth": 0,
             "ticks": ""
            },
            "type": "choropleth"
           }
          ],
          "contour": [
           {
            "colorbar": {
             "outlinewidth": 0,
             "ticks": ""
            },
            "colorscale": [
             [
              0,
              "#0d0887"
             ],
             [
              0.1111111111111111,
              "#46039f"
             ],
             [
              0.2222222222222222,
              "#7201a8"
             ],
             [
              0.3333333333333333,
              "#9c179e"
             ],
             [
              0.4444444444444444,
              "#bd3786"
             ],
             [
              0.5555555555555556,
              "#d8576b"
             ],
             [
              0.6666666666666666,
              "#ed7953"
             ],
             [
              0.7777777777777778,
              "#fb9f3a"
             ],
             [
              0.8888888888888888,
              "#fdca26"
             ],
             [
              1,
              "#f0f921"
             ]
            ],
            "type": "contour"
           }
          ],
          "contourcarpet": [
           {
            "colorbar": {
             "outlinewidth": 0,
             "ticks": ""
            },
            "type": "contourcarpet"
           }
          ],
          "heatmap": [
           {
            "colorbar": {
             "outlinewidth": 0,
             "ticks": ""
            },
            "colorscale": [
             [
              0,
              "#0d0887"
             ],
             [
              0.1111111111111111,
              "#46039f"
             ],
             [
              0.2222222222222222,
              "#7201a8"
             ],
             [
              0.3333333333333333,
              "#9c179e"
             ],
             [
              0.4444444444444444,
              "#bd3786"
             ],
             [
              0.5555555555555556,
              "#d8576b"
             ],
             [
              0.6666666666666666,
              "#ed7953"
             ],
             [
              0.7777777777777778,
              "#fb9f3a"
             ],
             [
              0.8888888888888888,
              "#fdca26"
             ],
             [
              1,
              "#f0f921"
             ]
            ],
            "type": "heatmap"
           }
          ],
          "heatmapgl": [
           {
            "colorbar": {
             "outlinewidth": 0,
             "ticks": ""
            },
            "colorscale": [
             [
              0,
              "#0d0887"
             ],
             [
              0.1111111111111111,
              "#46039f"
             ],
             [
              0.2222222222222222,
              "#7201a8"
             ],
             [
              0.3333333333333333,
              "#9c179e"
             ],
             [
              0.4444444444444444,
              "#bd3786"
             ],
             [
              0.5555555555555556,
              "#d8576b"
             ],
             [
              0.6666666666666666,
              "#ed7953"
             ],
             [
              0.7777777777777778,
              "#fb9f3a"
             ],
             [
              0.8888888888888888,
              "#fdca26"
             ],
             [
              1,
              "#f0f921"
             ]
            ],
            "type": "heatmapgl"
           }
          ],
          "histogram": [
           {
            "marker": {
             "pattern": {
              "fillmode": "overlay",
              "size": 10,
              "solidity": 0.2
             }
            },
            "type": "histogram"
           }
          ],
          "histogram2d": [
           {
            "colorbar": {
             "outlinewidth": 0,
             "ticks": ""
            },
            "colorscale": [
             [
              0,
              "#0d0887"
             ],
             [
              0.1111111111111111,
              "#46039f"
             ],
             [
              0.2222222222222222,
              "#7201a8"
             ],
             [
              0.3333333333333333,
              "#9c179e"
             ],
             [
              0.4444444444444444,
              "#bd3786"
             ],
             [
              0.5555555555555556,
              "#d8576b"
             ],
             [
              0.6666666666666666,
              "#ed7953"
             ],
             [
              0.7777777777777778,
              "#fb9f3a"
             ],
             [
              0.8888888888888888,
              "#fdca26"
             ],
             [
              1,
              "#f0f921"
             ]
            ],
            "type": "histogram2d"
           }
          ],
          "histogram2dcontour": [
           {
            "colorbar": {
             "outlinewidth": 0,
             "ticks": ""
            },
            "colorscale": [
             [
              0,
              "#0d0887"
             ],
             [
              0.1111111111111111,
              "#46039f"
             ],
             [
              0.2222222222222222,
              "#7201a8"
             ],
             [
              0.3333333333333333,
              "#9c179e"
             ],
             [
              0.4444444444444444,
              "#bd3786"
             ],
             [
              0.5555555555555556,
              "#d8576b"
             ],
             [
              0.6666666666666666,
              "#ed7953"
             ],
             [
              0.7777777777777778,
              "#fb9f3a"
             ],
             [
              0.8888888888888888,
              "#fdca26"
             ],
             [
              1,
              "#f0f921"
             ]
            ],
            "type": "histogram2dcontour"
           }
          ],
          "mesh3d": [
           {
            "colorbar": {
             "outlinewidth": 0,
             "ticks": ""
            },
            "type": "mesh3d"
           }
          ],
          "parcoords": [
           {
            "line": {
             "colorbar": {
              "outlinewidth": 0,
              "ticks": ""
             }
            },
            "type": "parcoords"
           }
          ],
          "pie": [
           {
            "automargin": true,
            "type": "pie"
           }
          ],
          "scatter": [
           {
            "marker": {
             "colorbar": {
              "outlinewidth": 0,
              "ticks": ""
             }
            },
            "type": "scatter"
           }
          ],
          "scatter3d": [
           {
            "line": {
             "colorbar": {
              "outlinewidth": 0,
              "ticks": ""
             }
            },
            "marker": {
             "colorbar": {
              "outlinewidth": 0,
              "ticks": ""
             }
            },
            "type": "scatter3d"
           }
          ],
          "scattercarpet": [
           {
            "marker": {
             "colorbar": {
              "outlinewidth": 0,
              "ticks": ""
             }
            },
            "type": "scattercarpet"
           }
          ],
          "scattergeo": [
           {
            "marker": {
             "colorbar": {
              "outlinewidth": 0,
              "ticks": ""
             }
            },
            "type": "scattergeo"
           }
          ],
          "scattergl": [
           {
            "marker": {
             "colorbar": {
              "outlinewidth": 0,
              "ticks": ""
             }
            },
            "type": "scattergl"
           }
          ],
          "scattermapbox": [
           {
            "marker": {
             "colorbar": {
              "outlinewidth": 0,
              "ticks": ""
             }
            },
            "type": "scattermapbox"
           }
          ],
          "scatterpolar": [
           {
            "marker": {
             "colorbar": {
              "outlinewidth": 0,
              "ticks": ""
             }
            },
            "type": "scatterpolar"
           }
          ],
          "scatterpolargl": [
           {
            "marker": {
             "colorbar": {
              "outlinewidth": 0,
              "ticks": ""
             }
            },
            "type": "scatterpolargl"
           }
          ],
          "scatterternary": [
           {
            "marker": {
             "colorbar": {
              "outlinewidth": 0,
              "ticks": ""
             }
            },
            "type": "scatterternary"
           }
          ],
          "surface": [
           {
            "colorbar": {
             "outlinewidth": 0,
             "ticks": ""
            },
            "colorscale": [
             [
              0,
              "#0d0887"
             ],
             [
              0.1111111111111111,
              "#46039f"
             ],
             [
              0.2222222222222222,
              "#7201a8"
             ],
             [
              0.3333333333333333,
              "#9c179e"
             ],
             [
              0.4444444444444444,
              "#bd3786"
             ],
             [
              0.5555555555555556,
              "#d8576b"
             ],
             [
              0.6666666666666666,
              "#ed7953"
             ],
             [
              0.7777777777777778,
              "#fb9f3a"
             ],
             [
              0.8888888888888888,
              "#fdca26"
             ],
             [
              1,
              "#f0f921"
             ]
            ],
            "type": "surface"
           }
          ],
          "table": [
           {
            "cells": {
             "fill": {
              "color": "#EBF0F8"
             },
             "line": {
              "color": "white"
             }
            },
            "header": {
             "fill": {
              "color": "#C8D4E3"
             },
             "line": {
              "color": "white"
             }
            },
            "type": "table"
           }
          ]
         },
         "layout": {
          "annotationdefaults": {
           "arrowcolor": "#2a3f5f",
           "arrowhead": 0,
           "arrowwidth": 1
          },
          "autotypenumbers": "strict",
          "coloraxis": {
           "colorbar": {
            "outlinewidth": 0,
            "ticks": ""
           }
          },
          "colorscale": {
           "diverging": [
            [
             0,
             "#8e0152"
            ],
            [
             0.1,
             "#c51b7d"
            ],
            [
             0.2,
             "#de77ae"
            ],
            [
             0.3,
             "#f1b6da"
            ],
            [
             0.4,
             "#fde0ef"
            ],
            [
             0.5,
             "#f7f7f7"
            ],
            [
             0.6,
             "#e6f5d0"
            ],
            [
             0.7,
             "#b8e186"
            ],
            [
             0.8,
             "#7fbc41"
            ],
            [
             0.9,
             "#4d9221"
            ],
            [
             1,
             "#276419"
            ]
           ],
           "sequential": [
            [
             0,
             "#0d0887"
            ],
            [
             0.1111111111111111,
             "#46039f"
            ],
            [
             0.2222222222222222,
             "#7201a8"
            ],
            [
             0.3333333333333333,
             "#9c179e"
            ],
            [
             0.4444444444444444,
             "#bd3786"
            ],
            [
             0.5555555555555556,
             "#d8576b"
            ],
            [
             0.6666666666666666,
             "#ed7953"
            ],
            [
             0.7777777777777778,
             "#fb9f3a"
            ],
            [
             0.8888888888888888,
             "#fdca26"
            ],
            [
             1,
             "#f0f921"
            ]
           ],
           "sequentialminus": [
            [
             0,
             "#0d0887"
            ],
            [
             0.1111111111111111,
             "#46039f"
            ],
            [
             0.2222222222222222,
             "#7201a8"
            ],
            [
             0.3333333333333333,
             "#9c179e"
            ],
            [
             0.4444444444444444,
             "#bd3786"
            ],
            [
             0.5555555555555556,
             "#d8576b"
            ],
            [
             0.6666666666666666,
             "#ed7953"
            ],
            [
             0.7777777777777778,
             "#fb9f3a"
            ],
            [
             0.8888888888888888,
             "#fdca26"
            ],
            [
             1,
             "#f0f921"
            ]
           ]
          },
          "colorway": [
           "#636efa",
           "#EF553B",
           "#00cc96",
           "#ab63fa",
           "#FFA15A",
           "#19d3f3",
           "#FF6692",
           "#B6E880",
           "#FF97FF",
           "#FECB52"
          ],
          "font": {
           "color": "#2a3f5f"
          },
          "geo": {
           "bgcolor": "white",
           "lakecolor": "white",
           "landcolor": "#E5ECF6",
           "showlakes": true,
           "showland": true,
           "subunitcolor": "white"
          },
          "hoverlabel": {
           "align": "left"
          },
          "hovermode": "closest",
          "mapbox": {
           "style": "light"
          },
          "paper_bgcolor": "white",
          "plot_bgcolor": "#E5ECF6",
          "polar": {
           "angularaxis": {
            "gridcolor": "white",
            "linecolor": "white",
            "ticks": ""
           },
           "bgcolor": "#E5ECF6",
           "radialaxis": {
            "gridcolor": "white",
            "linecolor": "white",
            "ticks": ""
           }
          },
          "scene": {
           "xaxis": {
            "backgroundcolor": "#E5ECF6",
            "gridcolor": "white",
            "gridwidth": 2,
            "linecolor": "white",
            "showbackground": true,
            "ticks": "",
            "zerolinecolor": "white"
           },
           "yaxis": {
            "backgroundcolor": "#E5ECF6",
            "gridcolor": "white",
            "gridwidth": 2,
            "linecolor": "white",
            "showbackground": true,
            "ticks": "",
            "zerolinecolor": "white"
           },
           "zaxis": {
            "backgroundcolor": "#E5ECF6",
            "gridcolor": "white",
            "gridwidth": 2,
            "linecolor": "white",
            "showbackground": true,
            "ticks": "",
            "zerolinecolor": "white"
           }
          },
          "shapedefaults": {
           "line": {
            "color": "#2a3f5f"
           }
          },
          "ternary": {
           "aaxis": {
            "gridcolor": "white",
            "linecolor": "white",
            "ticks": ""
           },
           "baxis": {
            "gridcolor": "white",
            "linecolor": "white",
            "ticks": ""
           },
           "bgcolor": "#E5ECF6",
           "caxis": {
            "gridcolor": "white",
            "linecolor": "white",
            "ticks": ""
           }
          },
          "title": {
           "x": 0.05
          },
          "xaxis": {
           "automargin": true,
           "gridcolor": "white",
           "linecolor": "white",
           "ticks": "",
           "title": {
            "standoff": 15
           },
           "zerolinecolor": "white",
           "zerolinewidth": 2
          },
          "yaxis": {
           "automargin": true,
           "gridcolor": "white",
           "linecolor": "white",
           "ticks": "",
           "title": {
            "standoff": 15
           },
           "zerolinecolor": "white",
           "zerolinewidth": 2
          }
         }
        },
        "xaxis": {
         "anchor": "y",
         "domain": [
          0,
          1
         ],
         "title": {
          "text": "index"
         }
        },
        "yaxis": {
         "anchor": "x",
         "domain": [
          0,
          1
         ],
         "title": {
          "text": "value"
         }
        }
       }
      }
     },
     "metadata": {},
     "output_type": "display_data"
    }
   ],
   "source": [
    "# Babysit the model\n",
    "px.line(\n",
    "    pd.DataFrame(\n",
    "        {\n",
    "            # \"val_loss\": history.history[\"val_loss\"],\n",
    "            \"loss\": history.history[\"loss\"],\n",
    "            # \"val_f1_score\": history.history[\"val_f1_score\"],\n",
    "            \"f1_score\": history.history[\"f1_score\"],\n",
    "        }\n",
    "    )\n",
    ")\n"
   ]
  },
  {
   "cell_type": "code",
   "execution_count": null,
   "metadata": {
    "ExecuteTime": {
     "end_time": "2022-01-25T18:52:23.656331Z",
     "start_time": "2022-01-25T18:52:23.650537Z"
    },
    "colab": {
     "base_uri": "https://localhost:8080/"
    },
    "id": "3I9EmdInoUqQ",
    "outputId": "2b7de358-c515-4d89-e452-a63e38bc1577"
   },
   "outputs": [
    {
     "name": "stdout",
     "output_type": "stream",
     "text": [
      "32/32 [==============================] - 1s 13ms/step - loss: 1.2581 - f1_score: 0.4611\n"
     ]
    },
    {
     "data": {
      "text/plain": [
       "[1.2580500841140747, 0.46112141013145447]"
      ]
     },
     "execution_count": 18,
     "metadata": {},
     "output_type": "execute_result"
    }
   ],
   "source": [
    "# Evaluate the model\n",
    "model.evaluate(X_test, y_test_ohe)\n"
   ]
  },
  {
   "cell_type": "markdown",
   "metadata": {},
   "source": [
    "## Approach3 - Word embedding and MLP classifier\n",
    "\n",
    "Using the course companion notebook, build a multi-layer perceptron using an existing embedding matrix (Word2Vec / Glove or FastText), or on an embedding matrix that you will have built using Gensim.\n",
    "\n",
    "Use the same constant as a previous steps.\n",
    "\n",
    "Evaluate the model.\n"
   ]
  },
  {
   "cell_type": "code",
   "execution_count": null,
   "metadata": {
    "ExecuteTime": {
     "end_time": "2022-01-22T16:10:34.090507Z",
     "start_time": "2022-01-22T16:10:33.791036Z"
    }
   },
   "outputs": [],
   "source": [
    "import gensim\n",
    "from gensim import models, utils\n",
    "\n",
    "gensim_path = f\"{gensim.__path__[0]}/test/test_data/\"\n",
    "corpus = \"lee_background.cor\"\n",
    "corpus_path = gensim_path + corpus\n",
    "\n",
    "\n",
    "class MyCorpus:\n",
    "    \"\"\"An iterator that yields sentences (lists of str).\"\"\"\n",
    "\n",
    "    def __iter__(self):\n",
    "        for line in open(corpus_path):\n",
    "            # assume there's one document per line, tokens separated by whitespace\n",
    "            yield utils.simple_preprocess(line)\n"
   ]
  },
  {
   "cell_type": "code",
   "execution_count": null,
   "metadata": {},
   "outputs": [],
   "source": [
    "sentences = MyCorpus()\n",
    "model = models.Word2Vec(sentences=sentences, vector_size=150)\n"
   ]
  },
  {
   "cell_type": "code",
   "execution_count": null,
   "metadata": {},
   "outputs": [
    {
     "data": {
      "text/plain": [
       "<tf.Tensor: shape=(5000, 10), dtype=int64, numpy=\n",
       "array([[3, 1, 4, ..., 1, 0, 0],\n",
       "       [3, 1, 2, ..., 1, 1, 1],\n",
       "       [1, 6, 0, ..., 0, 0, 0],\n",
       "       ...,\n",
       "       [6, 1, 1, ..., 1, 1, 1],\n",
       "       [1, 7, 0, ..., 0, 0, 0],\n",
       "       [1, 9, 7, ..., 4, 8, 1]])>"
      ]
     },
     "execution_count": 61,
     "metadata": {},
     "output_type": "execute_result"
    }
   ],
   "source": [
    "# Same steps as Keras Embedding\n",
    "max_len = 10  # Sequence length to pad the outputs to.\n",
    "vectorizer = TextVectorization(max_tokens=vocab_size, output_sequence_length=max_len)\n",
    "vectorizer.adapt(X_train)\n",
    "X_train_vec = vectorizer(X_train)\n",
    "X_train_vec\n"
   ]
  },
  {
   "cell_type": "code",
   "execution_count": null,
   "metadata": {
    "ExecuteTime": {
     "end_time": "2022-01-22T16:10:34.616434Z",
     "start_time": "2022-01-22T16:10:34.608449Z"
    }
   },
   "outputs": [],
   "source": [
    "# Build word dict\n",
    "voc = vectorizer.get_vocabulary()\n",
    "word_index = dict(zip(voc, range(len(voc))))\n"
   ]
  },
  {
   "cell_type": "code",
   "execution_count": null,
   "metadata": {
    "ExecuteTime": {
     "end_time": "2022-01-22T16:10:40.482971Z",
     "start_time": "2022-01-22T16:10:35.796195Z"
    }
   },
   "outputs": [
    {
     "name": "stdout",
     "output_type": "stream",
     "text": [
      "Found 400000 word vectors.\n"
     ]
    }
   ],
   "source": [
    "# Make a dict mapping words (strings) to their NumPy vector representation:\n",
    "\n",
    "path_to_glove_file = \"glove.6B/glove.6B.50d.txt\"\n",
    "embeddings_index = {}\n",
    "with open(path_to_glove_file) as f:\n",
    "    for line in f:\n",
    "        word, coefs = line.split(maxsplit=1)\n",
    "        coefs = np.fromstring(coefs, \"f\", sep=\" \")\n",
    "        embeddings_index[word] = coefs\n",
    "\n",
    "print(f\"Found {len(embeddings_index)} word vectors.\")\n"
   ]
  },
  {
   "cell_type": "code",
   "execution_count": null,
   "metadata": {
    "ExecuteTime": {
     "end_time": "2022-01-22T16:10:40.501686Z",
     "start_time": "2022-01-22T16:10:40.486672Z"
    }
   },
   "outputs": [
    {
     "name": "stdout",
     "output_type": "stream",
     "text": [
      " 0\n",
      "[UNK] 1\n",
      "the 2\n",
      "i 3\n",
      "it 4\n",
      "and 5\n",
      "phone 6\n",
      "a 7\n",
      "to 8\n",
      "is 9\n",
      "Converted 8 words (2 misses)\n"
     ]
    }
   ],
   "source": [
    "# Prepare embedding matrix\n",
    "\n",
    "num_tokens = len(voc) + 2\n",
    "embedding_dim = 50\n",
    "hits = 0\n",
    "misses = 0\n",
    "\n",
    "# Prepare embedding matrix\n",
    "embedding_matrix = np.zeros((num_tokens, embedding_dim))\n",
    "for word, i in word_index.items():\n",
    "    print(word, i)\n",
    "    embedding_vector = embeddings_index.get(word)\n",
    "    if embedding_vector is not None:\n",
    "        # Words not found in embedding index will be all-zeros.\n",
    "        # This includes the representation for \"padding\" and \"OOV\"\n",
    "        embedding_matrix[i] = embedding_vector\n",
    "        hits += 1\n",
    "    else:\n",
    "        misses += 1\n",
    "print(f\"Converted {hits} words ({misses} misses)\")\n"
   ]
  },
  {
   "cell_type": "code",
   "execution_count": null,
   "metadata": {
    "ExecuteTime": {
     "end_time": "2022-01-22T16:10:40.514550Z",
     "start_time": "2022-01-22T16:10:40.505765Z"
    }
   },
   "outputs": [],
   "source": [
    "# Define embedding layers\n",
    "\n",
    "embedding_layer = Embedding(\n",
    "    num_tokens,\n",
    "    embedding_dim,\n",
    "    embeddings_initializer=tf.keras.initializers.Constant(embedding_matrix),\n",
    "    trainable=False,\n",
    ")"
   ]
  },
  {
   "cell_type": "code",
   "execution_count": null,
   "metadata": {
    "ExecuteTime": {
     "end_time": "2022-01-22T16:10:40.595998Z",
     "start_time": "2022-01-22T16:10:40.520383Z"
    }
   },
   "outputs": [
    {
     "name": "stdout",
     "output_type": "stream",
     "text": [
      "Model: \"model_4\"\n",
      "_________________________________________________________________\n",
      " Layer (type)                Output Shape              Param #   \n",
      "=================================================================\n",
      " input_5 (InputLayer)        [(None, 10)]              0         \n",
      "                                                                 \n",
      " embedding_2 (Embedding)     (None, 10, 50)            600       \n",
      "                                                                 \n",
      " flatten_4 (Flatten)         (None, 500)               0         \n",
      "                                                                 \n",
      " dense_4 (Dense)             (None, 5)                 2505      \n",
      "                                                                 \n",
      "=================================================================\n",
      "Total params: 3,105\n",
      "Trainable params: 2,505\n",
      "Non-trainable params: 600\n",
      "_________________________________________________________________\n"
     ]
    }
   ],
   "source": [
    "# define the model\n",
    "input_ = Input(shape=(max_len,), dtype=tf.int32)\n",
    "x = embedding_layer(input_)\n",
    "x = Flatten()(x)\n",
    "output_ = Dense(5, activation='sigmoid')(x)\n",
    "model = Model(input_, output_)\n",
    "# summarize the model\n",
    "model.summary()"
   ]
  },
  {
   "cell_type": "code",
   "execution_count": null,
   "metadata": {
    "ExecuteTime": {
     "end_time": "2022-01-22T16:12:53.907137Z",
     "start_time": "2022-01-22T16:12:53.889560Z"
    }
   },
   "outputs": [],
   "source": [
    "# compile the model\n",
    "model.compile(\n",
    "    optimizer=\"adam\",\n",
    "    loss=\"categorical_crossentropy\",\n",
    "    metrics=f1,\n",
    ")\n"
   ]
  },
  {
   "cell_type": "code",
   "execution_count": null,
   "metadata": {
    "ExecuteTime": {
     "end_time": "2022-01-22T16:13:10.014860Z",
     "start_time": "2022-01-22T16:12:54.629020Z"
    }
   },
   "outputs": [
    {
     "name": "stdout",
     "output_type": "stream",
     "text": [
      "Epoch 1/200\n",
      "79/79 [==============================] - 0s 2ms/step - loss: 1.2058 - f1_score: 0.4468\n",
      "Epoch 2/200\n",
      "79/79 [==============================] - 0s 1ms/step - loss: 1.2048 - f1_score: 0.4498\n",
      "Epoch 3/200\n",
      "79/79 [==============================] - 0s 2ms/step - loss: 1.2056 - f1_score: 0.4438\n",
      "Epoch 4/200\n",
      "79/79 [==============================] - 0s 2ms/step - loss: 1.2043 - f1_score: 0.4452\n",
      "Epoch 5/200\n",
      "79/79 [==============================] - 0s 1ms/step - loss: 1.2053 - f1_score: 0.4445\n",
      "Epoch 6/200\n",
      "79/79 [==============================] - 0s 1ms/step - loss: 1.2053 - f1_score: 0.4417\n",
      "Epoch 7/200\n",
      "79/79 [==============================] - 0s 2ms/step - loss: 1.2051 - f1_score: 0.4434\n",
      "Epoch 8/200\n",
      "79/79 [==============================] - 0s 2ms/step - loss: 1.2057 - f1_score: 0.4421\n",
      "Epoch 9/200\n",
      "79/79 [==============================] - 0s 2ms/step - loss: 1.2051 - f1_score: 0.4461\n",
      "Epoch 10/200\n",
      "79/79 [==============================] - 0s 2ms/step - loss: 1.2051 - f1_score: 0.4435\n",
      "Epoch 11/200\n",
      "79/79 [==============================] - 0s 2ms/step - loss: 1.2057 - f1_score: 0.4436\n",
      "Epoch 12/200\n",
      "79/79 [==============================] - 0s 2ms/step - loss: 1.2059 - f1_score: 0.4437\n",
      "Epoch 13/200\n",
      "79/79 [==============================] - 0s 2ms/step - loss: 1.2061 - f1_score: 0.4409\n",
      "Epoch 14/200\n",
      "79/79 [==============================] - 0s 2ms/step - loss: 1.2055 - f1_score: 0.4442\n",
      "Epoch 15/200\n",
      "79/79 [==============================] - 0s 2ms/step - loss: 1.2071 - f1_score: 0.4410\n",
      "Epoch 16/200\n",
      "79/79 [==============================] - 0s 2ms/step - loss: 1.2052 - f1_score: 0.4436\n",
      "Epoch 17/200\n",
      "79/79 [==============================] - 0s 2ms/step - loss: 1.2050 - f1_score: 0.4452\n",
      "Epoch 18/200\n",
      "79/79 [==============================] - 0s 1ms/step - loss: 1.2064 - f1_score: 0.4408\n",
      "Epoch 19/200\n",
      "79/79 [==============================] - 0s 1ms/step - loss: 1.2069 - f1_score: 0.4468\n",
      "Epoch 20/200\n",
      "79/79 [==============================] - 0s 2ms/step - loss: 1.2060 - f1_score: 0.4441\n",
      "Epoch 21/200\n",
      "79/79 [==============================] - 0s 2ms/step - loss: 1.2060 - f1_score: 0.4464\n",
      "Epoch 22/200\n",
      "79/79 [==============================] - 0s 1ms/step - loss: 1.2060 - f1_score: 0.4447\n",
      "Epoch 23/200\n",
      "79/79 [==============================] - 0s 1ms/step - loss: 1.2060 - f1_score: 0.4469\n",
      "Epoch 24/200\n",
      "79/79 [==============================] - 0s 1ms/step - loss: 1.2061 - f1_score: 0.4410\n",
      "Epoch 25/200\n",
      "79/79 [==============================] - 0s 1ms/step - loss: 1.2064 - f1_score: 0.4452\n",
      "Epoch 26/200\n",
      "79/79 [==============================] - 0s 1ms/step - loss: 1.2066 - f1_score: 0.4444\n",
      "Epoch 27/200\n",
      "79/79 [==============================] - 0s 1ms/step - loss: 1.2067 - f1_score: 0.4473\n",
      "Epoch 28/200\n",
      "79/79 [==============================] - 0s 1ms/step - loss: 1.2064 - f1_score: 0.4441\n",
      "Epoch 29/200\n",
      "79/79 [==============================] - 0s 1ms/step - loss: 1.2067 - f1_score: 0.4440\n",
      "Epoch 30/200\n",
      "79/79 [==============================] - 0s 1ms/step - loss: 1.2072 - f1_score: 0.4456\n",
      "Epoch 31/200\n",
      "79/79 [==============================] - 0s 1ms/step - loss: 1.2064 - f1_score: 0.4431\n",
      "Epoch 32/200\n",
      "79/79 [==============================] - 0s 1ms/step - loss: 1.2062 - f1_score: 0.4449\n",
      "Epoch 33/200\n",
      "79/79 [==============================] - 0s 1ms/step - loss: 1.2070 - f1_score: 0.4428\n",
      "Epoch 34/200\n",
      "79/79 [==============================] - 0s 1ms/step - loss: 1.2056 - f1_score: 0.4447\n",
      "Epoch 35/200\n",
      "79/79 [==============================] - 0s 1ms/step - loss: 1.2066 - f1_score: 0.4422\n",
      "Epoch 36/200\n",
      "79/79 [==============================] - 0s 1ms/step - loss: 1.2071 - f1_score: 0.4469\n",
      "Epoch 37/200\n",
      "79/79 [==============================] - 0s 1ms/step - loss: 1.2068 - f1_score: 0.4443\n",
      "Epoch 38/200\n",
      "79/79 [==============================] - 0s 1ms/step - loss: 1.2069 - f1_score: 0.4407\n",
      "Epoch 39/200\n",
      "79/79 [==============================] - 0s 1ms/step - loss: 1.2066 - f1_score: 0.4425\n",
      "Epoch 40/200\n",
      "79/79 [==============================] - 0s 1ms/step - loss: 1.2068 - f1_score: 0.4476\n",
      "Epoch 41/200\n",
      "79/79 [==============================] - 0s 1ms/step - loss: 1.2069 - f1_score: 0.4402\n",
      "Epoch 42/200\n",
      "79/79 [==============================] - 0s 1ms/step - loss: 1.2072 - f1_score: 0.4467\n",
      "Epoch 43/200\n",
      "79/79 [==============================] - 0s 3ms/step - loss: 1.2070 - f1_score: 0.4459\n",
      "Epoch 44/200\n",
      "79/79 [==============================] - 0s 2ms/step - loss: 1.2075 - f1_score: 0.4455\n",
      "Epoch 45/200\n",
      "79/79 [==============================] - 0s 1ms/step - loss: 1.2064 - f1_score: 0.4487\n",
      "Epoch 46/200\n",
      "79/79 [==============================] - 0s 2ms/step - loss: 1.2070 - f1_score: 0.4438\n",
      "Epoch 47/200\n",
      "79/79 [==============================] - 0s 1ms/step - loss: 1.2079 - f1_score: 0.4431\n",
      "Epoch 48/200\n",
      "79/79 [==============================] - 0s 2ms/step - loss: 1.2066 - f1_score: 0.4417\n",
      "Epoch 49/200\n",
      "79/79 [==============================] - 0s 1ms/step - loss: 1.2075 - f1_score: 0.4466\n",
      "Epoch 50/200\n",
      "79/79 [==============================] - 0s 1ms/step - loss: 1.2067 - f1_score: 0.4450\n",
      "Epoch 51/200\n",
      "79/79 [==============================] - 0s 1ms/step - loss: 1.2068 - f1_score: 0.4420\n",
      "Epoch 52/200\n",
      "79/79 [==============================] - 0s 1ms/step - loss: 1.2064 - f1_score: 0.4431\n",
      "Epoch 53/200\n",
      "79/79 [==============================] - 0s 1ms/step - loss: 1.2064 - f1_score: 0.4415\n",
      "Epoch 54/200\n",
      "79/79 [==============================] - 0s 1ms/step - loss: 1.2062 - f1_score: 0.4442\n",
      "Epoch 55/200\n",
      "79/79 [==============================] - 0s 1ms/step - loss: 1.2065 - f1_score: 0.4492\n",
      "Epoch 56/200\n",
      "79/79 [==============================] - 0s 1ms/step - loss: 1.2074 - f1_score: 0.4448\n",
      "Epoch 57/200\n",
      "79/79 [==============================] - 0s 1ms/step - loss: 1.2070 - f1_score: 0.4450\n",
      "Epoch 58/200\n",
      "79/79 [==============================] - 0s 1ms/step - loss: 1.2070 - f1_score: 0.4416\n",
      "Epoch 59/200\n",
      "79/79 [==============================] - 0s 1ms/step - loss: 1.2061 - f1_score: 0.4454\n",
      "Epoch 60/200\n",
      "79/79 [==============================] - 0s 1ms/step - loss: 1.2072 - f1_score: 0.4466\n",
      "Epoch 61/200\n",
      "79/79 [==============================] - 0s 1ms/step - loss: 1.2079 - f1_score: 0.4419\n",
      "Epoch 62/200\n",
      "79/79 [==============================] - 0s 1ms/step - loss: 1.2065 - f1_score: 0.4456\n",
      "Epoch 63/200\n",
      "79/79 [==============================] - 0s 1ms/step - loss: 1.2070 - f1_score: 0.4458\n",
      "Epoch 64/200\n",
      "79/79 [==============================] - 0s 1ms/step - loss: 1.2064 - f1_score: 0.4455\n",
      "Epoch 65/200\n",
      "79/79 [==============================] - 0s 1ms/step - loss: 1.2068 - f1_score: 0.4477\n",
      "Epoch 66/200\n",
      "79/79 [==============================] - 0s 1ms/step - loss: 1.2067 - f1_score: 0.4421\n",
      "Epoch 67/200\n",
      "79/79 [==============================] - 0s 1ms/step - loss: 1.2071 - f1_score: 0.4450\n",
      "Epoch 68/200\n",
      "79/79 [==============================] - 0s 1ms/step - loss: 1.2067 - f1_score: 0.4423\n",
      "Epoch 69/200\n",
      "79/79 [==============================] - 0s 1ms/step - loss: 1.2073 - f1_score: 0.4494\n",
      "Epoch 70/200\n",
      "79/79 [==============================] - 0s 1ms/step - loss: 1.2061 - f1_score: 0.4457\n",
      "Epoch 71/200\n",
      "79/79 [==============================] - 0s 1ms/step - loss: 1.2074 - f1_score: 0.4436\n",
      "Epoch 72/200\n",
      "79/79 [==============================] - 0s 1ms/step - loss: 1.2071 - f1_score: 0.4469\n",
      "Epoch 73/200\n",
      "79/79 [==============================] - 0s 1ms/step - loss: 1.2071 - f1_score: 0.4435\n",
      "Epoch 74/200\n",
      "79/79 [==============================] - 0s 1ms/step - loss: 1.2072 - f1_score: 0.4433\n",
      "Epoch 75/200\n",
      "79/79 [==============================] - 0s 1ms/step - loss: 1.2068 - f1_score: 0.4421\n",
      "Epoch 76/200\n",
      "79/79 [==============================] - 0s 1ms/step - loss: 1.2061 - f1_score: 0.4452\n",
      "Epoch 77/200\n",
      "79/79 [==============================] - 0s 1ms/step - loss: 1.2064 - f1_score: 0.4474\n",
      "Epoch 78/200\n",
      "79/79 [==============================] - 0s 1ms/step - loss: 1.2080 - f1_score: 0.4426\n",
      "Epoch 79/200\n",
      "79/79 [==============================] - 0s 1ms/step - loss: 1.2076 - f1_score: 0.4489\n",
      "Epoch 80/200\n",
      "79/79 [==============================] - 0s 1ms/step - loss: 1.2065 - f1_score: 0.4465\n",
      "Epoch 81/200\n",
      "79/79 [==============================] - 0s 1ms/step - loss: 1.2070 - f1_score: 0.4481\n",
      "Epoch 00081: early stopping\n"
     ]
    },
    {
     "data": {
      "text/plain": [
       "<keras.callbacks.History at 0x7fa31d77abb0>"
      ]
     },
     "execution_count": 89,
     "metadata": {},
     "output_type": "execute_result"
    }
   ],
   "source": [
    "# define early stopping\n",
    "early_stop = EarlyStopping(monitor=f1_score_name, patience=40, verbose=2)\n",
    "\n",
    "# fit model using ealy stopping\n",
    "history = model.fit(\n",
    "    vectorizer(X_train),\n",
    "    y_train_ohe,\n",
    "    epochs=200,\n",
    "    callbacks=early_stop,\n",
    "    batch_size=64\n",
    ")\n",
    "history\n"
   ]
  },
  {
   "cell_type": "code",
   "execution_count": null,
   "metadata": {},
   "outputs": [
    {
     "name": "stdout",
     "output_type": "stream",
     "text": [
      "loss: 1.1984031200408936\n",
      "f1: 0.44999581575393677\n"
     ]
    }
   ],
   "source": [
    "# evaluate the model\n",
    "loss_result, f1_result = model.evaluate(vectorizer(X_train), y_train_ohe, verbose=0)\n",
    "print(\n",
    "    f\"\"\"loss: {loss_result}\\nf1: {f1_result}\"\"\"\n",
    ")\n"
   ]
  },
  {
   "cell_type": "code",
   "execution_count": null,
   "metadata": {
    "ExecuteTime": {
     "end_time": "2022-01-22T16:13:49.491655Z",
     "start_time": "2022-01-22T16:13:49.287384Z"
    }
   },
   "outputs": [
    {
     "data": {
      "application/vnd.plotly.v1+json": {
       "config": {
        "plotlyServerURL": "https://plot.ly"
       },
       "data": [
        {
         "hovertemplate": "variable=loss<br>index=%{x}<br>value=%{y}<extra></extra>",
         "legendgroup": "loss",
         "line": {
          "color": "#636efa",
          "dash": "solid"
         },
         "marker": {
          "symbol": "circle"
         },
         "mode": "lines",
         "name": "loss",
         "orientation": "v",
         "showlegend": true,
         "type": "scatter",
         "x": [
          0,
          1,
          2,
          3,
          4,
          5,
          6,
          7,
          8,
          9,
          10,
          11,
          12,
          13,
          14,
          15,
          16,
          17,
          18,
          19,
          20,
          21,
          22,
          23,
          24,
          25,
          26,
          27,
          28,
          29,
          30,
          31,
          32,
          33,
          34,
          35,
          36,
          37,
          38,
          39,
          40,
          41,
          42,
          43,
          44,
          45,
          46,
          47,
          48,
          49,
          50,
          51,
          52,
          53,
          54,
          55,
          56,
          57,
          58,
          59,
          60,
          61,
          62,
          63,
          64,
          65,
          66,
          67,
          68,
          69,
          70,
          71,
          72,
          73,
          74,
          75,
          76,
          77,
          78,
          79,
          80
         ],
         "xaxis": "x",
         "y": [
          1.205843210220337,
          1.204775333404541,
          1.2055822610855103,
          1.2043430805206299,
          1.2052603960037231,
          1.2053349018096924,
          1.2050678730010986,
          1.2056587934494019,
          1.205134391784668,
          1.2051255702972412,
          1.2057453393936157,
          1.2059295177459717,
          1.2060636281967163,
          1.205509066581726,
          1.2070848941802979,
          1.2052016258239746,
          1.2050362825393677,
          1.2064363956451416,
          1.2068819999694824,
          1.2060463428497314,
          1.2059857845306396,
          1.2060059309005737,
          1.2060483694076538,
          1.2060911655426025,
          1.2063664197921753,
          1.2065922021865845,
          1.2066550254821777,
          1.206365942955017,
          1.2066584825515747,
          1.207183837890625,
          1.2063868045806885,
          1.2062321901321411,
          1.2069848775863647,
          1.2056180238723755,
          1.2066051959991455,
          1.2070963382720947,
          1.206770658493042,
          1.2068638801574707,
          1.2066336870193481,
          1.2068183422088623,
          1.2069238424301147,
          1.2071781158447266,
          1.2070417404174805,
          1.207519769668579,
          1.2063897848129272,
          1.2069756984710693,
          1.207902431488037,
          1.2066112756729126,
          1.2074949741363525,
          1.2067413330078125,
          1.2068169116973877,
          1.2063525915145874,
          1.2064276933670044,
          1.2061526775360107,
          1.206520676612854,
          1.2073605060577393,
          1.2069708108901978,
          1.207038164138794,
          1.2060937881469727,
          1.2071876525878906,
          1.2078857421875,
          1.2065013647079468,
          1.2070040702819824,
          1.2063716650009155,
          1.206803560256958,
          1.206721544265747,
          1.207136631011963,
          1.206718921661377,
          1.2073410749435425,
          1.206098198890686,
          1.2073907852172852,
          1.2071449756622314,
          1.2071486711502075,
          1.207241415977478,
          1.206821084022522,
          1.206120252609253,
          1.2064377069473267,
          1.207974910736084,
          1.2075544595718384,
          1.2065118551254272,
          1.2069873809814453
         ],
         "yaxis": "y"
        },
        {
         "hovertemplate": "variable=f1_score<br>index=%{x}<br>value=%{y}<extra></extra>",
         "legendgroup": "f1_score",
         "line": {
          "color": "#EF553B",
          "dash": "solid"
         },
         "marker": {
          "symbol": "circle"
         },
         "mode": "lines",
         "name": "f1_score",
         "orientation": "v",
         "showlegend": true,
         "type": "scatter",
         "x": [
          0,
          1,
          2,
          3,
          4,
          5,
          6,
          7,
          8,
          9,
          10,
          11,
          12,
          13,
          14,
          15,
          16,
          17,
          18,
          19,
          20,
          21,
          22,
          23,
          24,
          25,
          26,
          27,
          28,
          29,
          30,
          31,
          32,
          33,
          34,
          35,
          36,
          37,
          38,
          39,
          40,
          41,
          42,
          43,
          44,
          45,
          46,
          47,
          48,
          49,
          50,
          51,
          52,
          53,
          54,
          55,
          56,
          57,
          58,
          59,
          60,
          61,
          62,
          63,
          64,
          65,
          66,
          67,
          68,
          69,
          70,
          71,
          72,
          73,
          74,
          75,
          76,
          77,
          78,
          79,
          80
         ],
         "xaxis": "x",
         "y": [
          0.44681456685066223,
          0.44982850551605225,
          0.4438420832157135,
          0.4452299177646637,
          0.4445199966430664,
          0.4417373538017273,
          0.44343477487564087,
          0.442082941532135,
          0.4461212158203125,
          0.44350653886795044,
          0.4436028003692627,
          0.44369757175445557,
          0.44085022807121277,
          0.44421789050102234,
          0.44102174043655396,
          0.44355204701423645,
          0.4452360272407532,
          0.4408332109451294,
          0.4468069076538086,
          0.44410550594329834,
          0.44638097286224365,
          0.4447311758995056,
          0.44689875841140747,
          0.4410473108291626,
          0.4452425241470337,
          0.4443551003932953,
          0.44734540581703186,
          0.44407427310943604,
          0.44396305084228516,
          0.4456414580345154,
          0.44309771060943604,
          0.44486451148986816,
          0.44283080101013184,
          0.4446907043457031,
          0.4422421455383301,
          0.4469272792339325,
          0.44431135058403015,
          0.4406699240207672,
          0.44254088401794434,
          0.4475513696670532,
          0.4401784837245941,
          0.44665682315826416,
          0.4459238350391388,
          0.4455459415912628,
          0.4487442076206207,
          0.4438413977622986,
          0.4430820345878601,
          0.4416942596435547,
          0.446573406457901,
          0.4450133740901947,
          0.44199496507644653,
          0.44312578439712524,
          0.4415220618247986,
          0.44419851899147034,
          0.44924694299697876,
          0.44475817680358887,
          0.4449615180492401,
          0.4415890574455261,
          0.4453850984573364,
          0.44658616185188293,
          0.4418918490409851,
          0.44561484456062317,
          0.4457709789276123,
          0.4454675316810608,
          0.44766128063201904,
          0.44206932187080383,
          0.4449774920940399,
          0.4423331022262573,
          0.4493514895439148,
          0.4456607401371002,
          0.4435933530330658,
          0.4469136595726013,
          0.4434654414653778,
          0.4432842433452606,
          0.4421297311782837,
          0.4451811909675598,
          0.44738131761550903,
          0.44261157512664795,
          0.44888079166412354,
          0.44649019837379456,
          0.44812002778053284
         ],
         "yaxis": "y"
        }
       ],
       "layout": {
        "legend": {
         "title": {
          "text": "variable"
         },
         "tracegroupgap": 0
        },
        "margin": {
         "t": 60
        },
        "template": {
         "data": {
          "bar": [
           {
            "error_x": {
             "color": "#2a3f5f"
            },
            "error_y": {
             "color": "#2a3f5f"
            },
            "marker": {
             "line": {
              "color": "#E5ECF6",
              "width": 0.5
             },
             "pattern": {
              "fillmode": "overlay",
              "size": 10,
              "solidity": 0.2
             }
            },
            "type": "bar"
           }
          ],
          "barpolar": [
           {
            "marker": {
             "line": {
              "color": "#E5ECF6",
              "width": 0.5
             },
             "pattern": {
              "fillmode": "overlay",
              "size": 10,
              "solidity": 0.2
             }
            },
            "type": "barpolar"
           }
          ],
          "carpet": [
           {
            "aaxis": {
             "endlinecolor": "#2a3f5f",
             "gridcolor": "white",
             "linecolor": "white",
             "minorgridcolor": "white",
             "startlinecolor": "#2a3f5f"
            },
            "baxis": {
             "endlinecolor": "#2a3f5f",
             "gridcolor": "white",
             "linecolor": "white",
             "minorgridcolor": "white",
             "startlinecolor": "#2a3f5f"
            },
            "type": "carpet"
           }
          ],
          "choropleth": [
           {
            "colorbar": {
             "outlinewidth": 0,
             "ticks": ""
            },
            "type": "choropleth"
           }
          ],
          "contour": [
           {
            "colorbar": {
             "outlinewidth": 0,
             "ticks": ""
            },
            "colorscale": [
             [
              0,
              "#0d0887"
             ],
             [
              0.1111111111111111,
              "#46039f"
             ],
             [
              0.2222222222222222,
              "#7201a8"
             ],
             [
              0.3333333333333333,
              "#9c179e"
             ],
             [
              0.4444444444444444,
              "#bd3786"
             ],
             [
              0.5555555555555556,
              "#d8576b"
             ],
             [
              0.6666666666666666,
              "#ed7953"
             ],
             [
              0.7777777777777778,
              "#fb9f3a"
             ],
             [
              0.8888888888888888,
              "#fdca26"
             ],
             [
              1,
              "#f0f921"
             ]
            ],
            "type": "contour"
           }
          ],
          "contourcarpet": [
           {
            "colorbar": {
             "outlinewidth": 0,
             "ticks": ""
            },
            "type": "contourcarpet"
           }
          ],
          "heatmap": [
           {
            "colorbar": {
             "outlinewidth": 0,
             "ticks": ""
            },
            "colorscale": [
             [
              0,
              "#0d0887"
             ],
             [
              0.1111111111111111,
              "#46039f"
             ],
             [
              0.2222222222222222,
              "#7201a8"
             ],
             [
              0.3333333333333333,
              "#9c179e"
             ],
             [
              0.4444444444444444,
              "#bd3786"
             ],
             [
              0.5555555555555556,
              "#d8576b"
             ],
             [
              0.6666666666666666,
              "#ed7953"
             ],
             [
              0.7777777777777778,
              "#fb9f3a"
             ],
             [
              0.8888888888888888,
              "#fdca26"
             ],
             [
              1,
              "#f0f921"
             ]
            ],
            "type": "heatmap"
           }
          ],
          "heatmapgl": [
           {
            "colorbar": {
             "outlinewidth": 0,
             "ticks": ""
            },
            "colorscale": [
             [
              0,
              "#0d0887"
             ],
             [
              0.1111111111111111,
              "#46039f"
             ],
             [
              0.2222222222222222,
              "#7201a8"
             ],
             [
              0.3333333333333333,
              "#9c179e"
             ],
             [
              0.4444444444444444,
              "#bd3786"
             ],
             [
              0.5555555555555556,
              "#d8576b"
             ],
             [
              0.6666666666666666,
              "#ed7953"
             ],
             [
              0.7777777777777778,
              "#fb9f3a"
             ],
             [
              0.8888888888888888,
              "#fdca26"
             ],
             [
              1,
              "#f0f921"
             ]
            ],
            "type": "heatmapgl"
           }
          ],
          "histogram": [
           {
            "marker": {
             "pattern": {
              "fillmode": "overlay",
              "size": 10,
              "solidity": 0.2
             }
            },
            "type": "histogram"
           }
          ],
          "histogram2d": [
           {
            "colorbar": {
             "outlinewidth": 0,
             "ticks": ""
            },
            "colorscale": [
             [
              0,
              "#0d0887"
             ],
             [
              0.1111111111111111,
              "#46039f"
             ],
             [
              0.2222222222222222,
              "#7201a8"
             ],
             [
              0.3333333333333333,
              "#9c179e"
             ],
             [
              0.4444444444444444,
              "#bd3786"
             ],
             [
              0.5555555555555556,
              "#d8576b"
             ],
             [
              0.6666666666666666,
              "#ed7953"
             ],
             [
              0.7777777777777778,
              "#fb9f3a"
             ],
             [
              0.8888888888888888,
              "#fdca26"
             ],
             [
              1,
              "#f0f921"
             ]
            ],
            "type": "histogram2d"
           }
          ],
          "histogram2dcontour": [
           {
            "colorbar": {
             "outlinewidth": 0,
             "ticks": ""
            },
            "colorscale": [
             [
              0,
              "#0d0887"
             ],
             [
              0.1111111111111111,
              "#46039f"
             ],
             [
              0.2222222222222222,
              "#7201a8"
             ],
             [
              0.3333333333333333,
              "#9c179e"
             ],
             [
              0.4444444444444444,
              "#bd3786"
             ],
             [
              0.5555555555555556,
              "#d8576b"
             ],
             [
              0.6666666666666666,
              "#ed7953"
             ],
             [
              0.7777777777777778,
              "#fb9f3a"
             ],
             [
              0.8888888888888888,
              "#fdca26"
             ],
             [
              1,
              "#f0f921"
             ]
            ],
            "type": "histogram2dcontour"
           }
          ],
          "mesh3d": [
           {
            "colorbar": {
             "outlinewidth": 0,
             "ticks": ""
            },
            "type": "mesh3d"
           }
          ],
          "parcoords": [
           {
            "line": {
             "colorbar": {
              "outlinewidth": 0,
              "ticks": ""
             }
            },
            "type": "parcoords"
           }
          ],
          "pie": [
           {
            "automargin": true,
            "type": "pie"
           }
          ],
          "scatter": [
           {
            "marker": {
             "colorbar": {
              "outlinewidth": 0,
              "ticks": ""
             }
            },
            "type": "scatter"
           }
          ],
          "scatter3d": [
           {
            "line": {
             "colorbar": {
              "outlinewidth": 0,
              "ticks": ""
             }
            },
            "marker": {
             "colorbar": {
              "outlinewidth": 0,
              "ticks": ""
             }
            },
            "type": "scatter3d"
           }
          ],
          "scattercarpet": [
           {
            "marker": {
             "colorbar": {
              "outlinewidth": 0,
              "ticks": ""
             }
            },
            "type": "scattercarpet"
           }
          ],
          "scattergeo": [
           {
            "marker": {
             "colorbar": {
              "outlinewidth": 0,
              "ticks": ""
             }
            },
            "type": "scattergeo"
           }
          ],
          "scattergl": [
           {
            "marker": {
             "colorbar": {
              "outlinewidth": 0,
              "ticks": ""
             }
            },
            "type": "scattergl"
           }
          ],
          "scattermapbox": [
           {
            "marker": {
             "colorbar": {
              "outlinewidth": 0,
              "ticks": ""
             }
            },
            "type": "scattermapbox"
           }
          ],
          "scatterpolar": [
           {
            "marker": {
             "colorbar": {
              "outlinewidth": 0,
              "ticks": ""
             }
            },
            "type": "scatterpolar"
           }
          ],
          "scatterpolargl": [
           {
            "marker": {
             "colorbar": {
              "outlinewidth": 0,
              "ticks": ""
             }
            },
            "type": "scatterpolargl"
           }
          ],
          "scatterternary": [
           {
            "marker": {
             "colorbar": {
              "outlinewidth": 0,
              "ticks": ""
             }
            },
            "type": "scatterternary"
           }
          ],
          "surface": [
           {
            "colorbar": {
             "outlinewidth": 0,
             "ticks": ""
            },
            "colorscale": [
             [
              0,
              "#0d0887"
             ],
             [
              0.1111111111111111,
              "#46039f"
             ],
             [
              0.2222222222222222,
              "#7201a8"
             ],
             [
              0.3333333333333333,
              "#9c179e"
             ],
             [
              0.4444444444444444,
              "#bd3786"
             ],
             [
              0.5555555555555556,
              "#d8576b"
             ],
             [
              0.6666666666666666,
              "#ed7953"
             ],
             [
              0.7777777777777778,
              "#fb9f3a"
             ],
             [
              0.8888888888888888,
              "#fdca26"
             ],
             [
              1,
              "#f0f921"
             ]
            ],
            "type": "surface"
           }
          ],
          "table": [
           {
            "cells": {
             "fill": {
              "color": "#EBF0F8"
             },
             "line": {
              "color": "white"
             }
            },
            "header": {
             "fill": {
              "color": "#C8D4E3"
             },
             "line": {
              "color": "white"
             }
            },
            "type": "table"
           }
          ]
         },
         "layout": {
          "annotationdefaults": {
           "arrowcolor": "#2a3f5f",
           "arrowhead": 0,
           "arrowwidth": 1
          },
          "autotypenumbers": "strict",
          "coloraxis": {
           "colorbar": {
            "outlinewidth": 0,
            "ticks": ""
           }
          },
          "colorscale": {
           "diverging": [
            [
             0,
             "#8e0152"
            ],
            [
             0.1,
             "#c51b7d"
            ],
            [
             0.2,
             "#de77ae"
            ],
            [
             0.3,
             "#f1b6da"
            ],
            [
             0.4,
             "#fde0ef"
            ],
            [
             0.5,
             "#f7f7f7"
            ],
            [
             0.6,
             "#e6f5d0"
            ],
            [
             0.7,
             "#b8e186"
            ],
            [
             0.8,
             "#7fbc41"
            ],
            [
             0.9,
             "#4d9221"
            ],
            [
             1,
             "#276419"
            ]
           ],
           "sequential": [
            [
             0,
             "#0d0887"
            ],
            [
             0.1111111111111111,
             "#46039f"
            ],
            [
             0.2222222222222222,
             "#7201a8"
            ],
            [
             0.3333333333333333,
             "#9c179e"
            ],
            [
             0.4444444444444444,
             "#bd3786"
            ],
            [
             0.5555555555555556,
             "#d8576b"
            ],
            [
             0.6666666666666666,
             "#ed7953"
            ],
            [
             0.7777777777777778,
             "#fb9f3a"
            ],
            [
             0.8888888888888888,
             "#fdca26"
            ],
            [
             1,
             "#f0f921"
            ]
           ],
           "sequentialminus": [
            [
             0,
             "#0d0887"
            ],
            [
             0.1111111111111111,
             "#46039f"
            ],
            [
             0.2222222222222222,
             "#7201a8"
            ],
            [
             0.3333333333333333,
             "#9c179e"
            ],
            [
             0.4444444444444444,
             "#bd3786"
            ],
            [
             0.5555555555555556,
             "#d8576b"
            ],
            [
             0.6666666666666666,
             "#ed7953"
            ],
            [
             0.7777777777777778,
             "#fb9f3a"
            ],
            [
             0.8888888888888888,
             "#fdca26"
            ],
            [
             1,
             "#f0f921"
            ]
           ]
          },
          "colorway": [
           "#636efa",
           "#EF553B",
           "#00cc96",
           "#ab63fa",
           "#FFA15A",
           "#19d3f3",
           "#FF6692",
           "#B6E880",
           "#FF97FF",
           "#FECB52"
          ],
          "font": {
           "color": "#2a3f5f"
          },
          "geo": {
           "bgcolor": "white",
           "lakecolor": "white",
           "landcolor": "#E5ECF6",
           "showlakes": true,
           "showland": true,
           "subunitcolor": "white"
          },
          "hoverlabel": {
           "align": "left"
          },
          "hovermode": "closest",
          "mapbox": {
           "style": "light"
          },
          "paper_bgcolor": "white",
          "plot_bgcolor": "#E5ECF6",
          "polar": {
           "angularaxis": {
            "gridcolor": "white",
            "linecolor": "white",
            "ticks": ""
           },
           "bgcolor": "#E5ECF6",
           "radialaxis": {
            "gridcolor": "white",
            "linecolor": "white",
            "ticks": ""
           }
          },
          "scene": {
           "xaxis": {
            "backgroundcolor": "#E5ECF6",
            "gridcolor": "white",
            "gridwidth": 2,
            "linecolor": "white",
            "showbackground": true,
            "ticks": "",
            "zerolinecolor": "white"
           },
           "yaxis": {
            "backgroundcolor": "#E5ECF6",
            "gridcolor": "white",
            "gridwidth": 2,
            "linecolor": "white",
            "showbackground": true,
            "ticks": "",
            "zerolinecolor": "white"
           },
           "zaxis": {
            "backgroundcolor": "#E5ECF6",
            "gridcolor": "white",
            "gridwidth": 2,
            "linecolor": "white",
            "showbackground": true,
            "ticks": "",
            "zerolinecolor": "white"
           }
          },
          "shapedefaults": {
           "line": {
            "color": "#2a3f5f"
           }
          },
          "ternary": {
           "aaxis": {
            "gridcolor": "white",
            "linecolor": "white",
            "ticks": ""
           },
           "baxis": {
            "gridcolor": "white",
            "linecolor": "white",
            "ticks": ""
           },
           "bgcolor": "#E5ECF6",
           "caxis": {
            "gridcolor": "white",
            "linecolor": "white",
            "ticks": ""
           }
          },
          "title": {
           "x": 0.05
          },
          "xaxis": {
           "automargin": true,
           "gridcolor": "white",
           "linecolor": "white",
           "ticks": "",
           "title": {
            "standoff": 15
           },
           "zerolinecolor": "white",
           "zerolinewidth": 2
          },
          "yaxis": {
           "automargin": true,
           "gridcolor": "white",
           "linecolor": "white",
           "ticks": "",
           "title": {
            "standoff": 15
           },
           "zerolinecolor": "white",
           "zerolinewidth": 2
          }
         }
        },
        "xaxis": {
         "anchor": "y",
         "domain": [
          0,
          1
         ],
         "title": {
          "text": "index"
         }
        },
        "yaxis": {
         "anchor": "x",
         "domain": [
          0,
          1
         ],
         "title": {
          "text": "value"
         }
        }
       }
      }
     },
     "metadata": {},
     "output_type": "display_data"
    }
   ],
   "source": [
    "# Babysit the model\n",
    "px.line(\n",
    "    pd.DataFrame(\n",
    "        {\n",
    "            # \"val_loss\": history.history[\"val_loss\"],\n",
    "            \"loss\": history.history[\"loss\"],\n",
    "            # \"val_f1_score\": history.history[\"val_f1_score\"],\n",
    "            \"f1_score\": history.history[\"f1_score\"],\n",
    "        }\n",
    "    )\n",
    ")\n"
   ]
  },
  {
   "cell_type": "code",
   "execution_count": null,
   "metadata": {
    "ExecuteTime": {
     "end_time": "2022-01-22T16:13:52.382395Z",
     "start_time": "2022-01-22T16:13:52.244523Z"
    }
   },
   "outputs": [],
   "source": [
    "# Evaluate the model\n",
    "# Your code\n"
   ]
  },
  {
   "cell_type": "markdown",
   "metadata": {},
   "source": [
    "## Approach3 - Word embedding and MLP classifier\n",
    "\n",
    "Using the course companion notebook, build a multi-layer perceptron using an existing embedding matrix (Word2Vec / Glove or FastText), or on an embedding matrix that you will have built using Gensim.\n",
    "\n",
    "Use the same constant as a previous steps.\n",
    "\n",
    "Evaluate the model.\n"
   ]
  },
  {
   "cell_type": "code",
   "execution_count": null,
   "metadata": {
    "ExecuteTime": {
     "end_time": "2022-01-22T16:13:54.537177Z",
     "start_time": "2022-01-22T16:13:54.533166Z"
    }
   },
   "outputs": [],
   "source": [
    "# Avalaible in your gensim installation...\n",
    "# You can also use the train reviews.\n",
    "corpus_path = (\n",
    "    \"/Users/riveill/opt/miniconda3/lib/python3.9/site-packages/gensim/test/test_data/\"\n",
    ")\n",
    "corpus = \"lee_background.cor\"\n"
   ]
  },
  {
   "cell_type": "code",
   "execution_count": null,
   "metadata": {
    "ExecuteTime": {
     "end_time": "2022-01-22T16:13:56.715903Z",
     "start_time": "2022-01-22T16:13:54.981458Z"
    }
   },
   "outputs": [],
   "source": [
    "# Build gensim model\n",
    "from gensim.test.utils import datapath\n",
    "from gensim import utils\n",
    "import gensim.models\n",
    "\n",
    "\n",
    "class MyCorpus:\n",
    "    \"\"\"An iterator that yields sentences (lists of str).\"\"\"\n",
    "\n",
    "    def __iter__(self):\n",
    "        for line in open(corpus_path + corpus):\n",
    "            # assume there's one document per line, tokens separated by whitespace\n",
    "            yield utils.simple_preprocess(line)\n",
    "\n",
    "\n",
    "sentences = MyCorpus()\n",
    "model = gensim.models.Word2Vec(sentences=sentences, vector_size=150)\n"
   ]
  },
  {
   "cell_type": "code",
   "execution_count": null,
   "metadata": {
    "ExecuteTime": {
     "end_time": "2022-01-22T16:13:56.775478Z",
     "start_time": "2022-01-22T16:13:56.718276Z"
    }
   },
   "outputs": [],
   "source": [
    "# Export gensim model\n",
    "import tempfile\n",
    "\n",
    "with tempfile.NamedTemporaryFile(prefix=\"gensim-model-\", delete=False) as tmp:\n",
    "    temporary_filepath = tmp.name\n",
    "    print(temporary_filepath)\n",
    "    model.save(temporary_filepath)\n",
    "    #\n",
    "    # The model is now safely stored in the filepath.\n",
    "    # You can copy it to other machines, share it with others, etc.\n",
    "    #\n",
    "    # To load a saved model:\n",
    "    #\n",
    "    new_model = gensim.models.Word2Vec.load(temporary_filepath)\n"
   ]
  },
  {
   "cell_type": "code",
   "execution_count": null,
   "metadata": {
    "ExecuteTime": {
     "end_time": "2022-01-22T16:13:57.290934Z",
     "start_time": "2022-01-22T16:13:57.261810Z"
    }
   },
   "outputs": [],
   "source": [
    "# Load gensim model\n",
    "new_model = gensim.models.Word2Vec.load(temporary_filepath)\n"
   ]
  },
  {
   "cell_type": "code",
   "execution_count": null,
   "metadata": {
    "ExecuteTime": {
     "end_time": "2022-01-22T16:13:58.280075Z",
     "start_time": "2022-01-22T16:13:58.264761Z"
    }
   },
   "outputs": [],
   "source": [
    "# Prepare embedding matrix\n",
    "# Your code\n"
   ]
  },
  {
   "cell_type": "code",
   "execution_count": null,
   "metadata": {
    "ExecuteTime": {
     "end_time": "2022-01-22T16:13:59.350378Z",
     "start_time": "2022-01-22T16:13:59.345572Z"
    }
   },
   "outputs": [],
   "source": [
    "# Define embedding layers\n",
    "# Your code\n"
   ]
  },
  {
   "cell_type": "code",
   "execution_count": null,
   "metadata": {
    "ExecuteTime": {
     "end_time": "2022-01-22T16:14:00.261340Z",
     "start_time": "2022-01-22T16:14:00.113370Z"
    }
   },
   "outputs": [],
   "source": [
    "# define the model\n",
    "# Your code\n"
   ]
  },
  {
   "cell_type": "code",
   "execution_count": null,
   "metadata": {
    "ExecuteTime": {
     "end_time": "2022-01-22T16:14:01.012932Z",
     "start_time": "2022-01-22T16:14:00.994486Z"
    }
   },
   "outputs": [],
   "source": [
    "# compile the model\n",
    "# Your code\n"
   ]
  },
  {
   "cell_type": "code",
   "execution_count": null,
   "metadata": {
    "ExecuteTime": {
     "end_time": "2022-01-22T16:17:21.897247Z",
     "start_time": "2022-01-22T16:14:01.789033Z"
    }
   },
   "outputs": [],
   "source": [
    "# fit model using ealy stopping\n",
    "# Your code\n"
   ]
  },
  {
   "cell_type": "code",
   "execution_count": null,
   "metadata": {
    "ExecuteTime": {
     "end_time": "2022-01-22T16:18:06.562082Z",
     "start_time": "2022-01-22T16:18:06.339038Z"
    }
   },
   "outputs": [],
   "source": [
    "# Babysit the model\n",
    "pd.DataFrame(\n",
    "    {\n",
    "        \"val_loss\": history.history[\"val_loss\"],\n",
    "        \"loss\": history.history[\"loss\"],\n",
    "        \"val_f1_score\": history.history[\"val_f1_score\"],\n",
    "        \"f1_score\": history.history[\"f1_score\"],\n",
    "    }\n",
    ").plot(figsize=(8, 5))\n"
   ]
  },
  {
   "cell_type": "code",
   "execution_count": null,
   "metadata": {
    "ExecuteTime": {
     "end_time": "2022-01-22T16:18:19.860091Z",
     "start_time": "2022-01-22T16:18:19.555310Z"
    }
   },
   "outputs": [],
   "source": [
    "# Evaluate the model\n",
    "# Your code\n"
   ]
  },
  {
   "cell_type": "code",
   "execution_count": null,
   "metadata": {},
   "outputs": [],
   "source": []
  }
 ],
 "metadata": {
  "colab": {
   "collapsed_sections": [],
   "name": "notebook-NLP-sentiment-analysis-with-MLP-Keras embedding.ipynb",
   "provenance": []
  },
  "kernelspec": {
   "display_name": "Python 3 (ipykernel)",
   "language": "python",
   "name": "python3"
  },
  "language_info": {
   "codemirror_mode": {
    "name": "ipython",
    "version": 3
   },
   "file_extension": ".py",
   "mimetype": "text/x-python",
   "name": "python",
   "nbconvert_exporter": "python",
   "pygments_lexer": "ipython3",
   "version": "3.9.10"
  },
  "latex_envs": {
   "LaTeX_envs_menu_present": true,
   "autoclose": true,
   "autocomplete": true,
   "bibliofile": "biblio.bib",
   "cite_by": "apalike",
   "current_citInitial": 1,
   "eqLabelWithNumbers": true,
   "eqNumInitial": 1,
   "hotkeys": {
    "equation": "Ctrl-E",
    "itemize": "Ctrl-I"
   },
   "labels_anchors": false,
   "latex_user_defs": false,
   "report_style_numbering": false,
   "user_envs_cfg": false
  },
  "nbTranslate": {
   "displayLangs": [
    "*"
   ],
   "hotkey": "alt-t",
   "langInMainMenu": true,
   "sourceLang": "en",
   "targetLang": "fr",
   "useGoogleTranslate": true
  },
  "toc": {
   "base_numbering": 1,
   "nav_menu": {},
   "number_sections": true,
   "sideBar": true,
   "skip_h1_title": true,
   "title_cell": "Table of Contents",
   "title_sidebar": "Contents",
   "toc_cell": true,
   "toc_position": {},
   "toc_section_display": true,
   "toc_window_display": false
  }
 },
 "nbformat": 4,
 "nbformat_minor": 1
}

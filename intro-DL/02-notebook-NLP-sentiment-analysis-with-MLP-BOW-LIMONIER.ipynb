{
 "cells": [
  {
   "cell_type": "markdown",
   "metadata": {
    "id": "o22rTSh_5HE_"
   },
   "source": [
    "# Sentiment analysis with BOW representation\n",
    "\n",
    "Text classification is a machine learning technique that assigns a set of predefined categories to open-ended text. Text classifiers can be used to organize, structure, and categorize pretty much any kind of text – from documents, medical studies and files, and all over the web.\n",
    "\n",
    "For example, new articles can be organized by topics; support tickets can be organized by urgency; chat conversations can be organized by language; brand mentions can be organized by sentiment; and so on.\n",
    "\n",
    "Text classification is one of the fundamental tasks in natural language processing with broad applications such as **sentiment analysis**, topic labeling, spam detection, and intent detection.\n",
    "\n",
    "**Why is Text Classification Important?**\n",
    "\n",
    "It’s estimated that around 80% of all information is unstructured, with text being one of the most common types of unstructured data. Because of the messy nature of text, analyzing, understanding, organizing, and sorting through text data is hard and time-consuming, so most companies fail to use it to its full potential.\n",
    "\n",
    "This is where text classification with machine learning comes in. Using text classifiers, companies can automatically structure all manner of relevant text, from emails, legal documents, social media, chatbots, surveys, and more in a fast and cost-effective way. This allows companies to save time analyzing text data, automate business processes, and make data-driven business decisions.\n",
    "\n",
    "**How Does Text Classification Work?**\n",
    "\n",
    "Instead of relying on manually crafted rules, machine learning text classification learns to make classifications based on past observations. By using pre-labeled examples as training data, machine learning algorithms can learn the different associations between pieces of text, and that a particular output (i.e., tags) is expected for a particular input (i.e., text). A “tag” is the pre-determined classification or category that any given text could fall into.\n",
    "\n",
    "The first step towards training a machine learning NLP classifier is feature extraction: a method is used to transform each text into a numerical representation in the form of a vector. One of the most frequently used approaches is bag of words, where a vector represents the frequency of a word in a predefined dictionary of words.\n",
    "\n",
    "Then, the machine learning algorithm is fed with training data that consists of pairs of feature sets (vectors for each text example) and tags (e.g. sports, politics) to produce a classification model:\n",
    "\n",
    "![training](https://monkeylearn.com/static/507a7b5d0557f416857a038f553865d1/2ed04/text_process_training.webp)\n",
    "\n",
    "Once it’s trained with enough training samples, the machine learning model can begin to make accurate predictions. The same feature extractor is used to transform unseen text to feature sets, which can be fed into the classification model to get predictions on tags (e.g., sports, politics):\n",
    "\n",
    "![prediction](https://monkeylearn.com/static/afa7e0536886ee7152dfa4c628fe59f0/2b924/text_process_prediction.webp)\n",
    "\n",
    "Text classification with machine learning is usually much more accurate than human-crafted rule systems, especially on complex NLP classification tasks. Also, classifiers with machine learning are easier to maintain and you can always tag new examples to learn new tasks."
   ]
  },
  {
   "cell_type": "markdown",
   "metadata": {
    "id": "UgzggwPnvq_o"
   },
   "source": [
    "## Today lab\n",
    "\n",
    "In this lab we use part of the 'Amazon_Unlocked_Mobile.csv' dataset published by Kaggle. The dataset contain the following information:\n",
    "* Product Name\n",
    "* Brand Name\n",
    "* Price\n",
    "* Rating\n",
    "* Reviews\n",
    "* Review Votes\n",
    "\n",
    "We are mainly interested by the 'Reviews' (X) and by the 'Rating' (y)\n",
    "\n",
    "The goal is to try to predict the 'Rating' after reading the 'Reviews'. I've prepared for you TRAIN and TEST set."
   ]
  },
  {
   "cell_type": "markdown",
   "metadata": {
    "id": "AmQlCKQVvq_p",
    "toc": true
   },
   "source": [
    "<h1>Table of Contents<span class=\"tocSkip\"></span></h1>\n",
    "<div class=\"toc\"><ul class=\"toc-item\"><li><span><a href=\"#Today-lab\" data-toc-modified-id=\"Today-lab-1\"><span class=\"toc-item-num\">1&nbsp;&nbsp;</span>Today lab</a></span></li><li><span><a href=\"#Load-dataset\" data-toc-modified-id=\"Load-dataset-2\"><span class=\"toc-item-num\">2&nbsp;&nbsp;</span>Load dataset</a></span><ul class=\"toc-item\"><li><span><a href=\"#About-Train,-validation-and-test-sets\" data-toc-modified-id=\"About-Train,-validation-and-test-sets-2.1\"><span class=\"toc-item-num\">2.1&nbsp;&nbsp;</span><a href=\"https://towardsdatascience.com/train-validation-and-test-sets-72cb40cba9e7\" rel=\"nofollow\" target=\"_blank\">About Train, validation and test sets</a></a></span></li><li><span><a href=\"#Undestand-the-dataset\" data-toc-modified-id=\"Undestand-the-dataset-2.2\"><span class=\"toc-item-num\">2.2&nbsp;&nbsp;</span>Undestand the dataset</a></span></li></ul></li><li><span><a href=\"#Build-X-(features-vectors)-and-y-(labels)\" data-toc-modified-id=\"Build-X-(features-vectors)-and-y-(labels)-3\"><span class=\"toc-item-num\">3&nbsp;&nbsp;</span>Build X (features vectors) and y (labels)</a></span></li><li><span><a href=\"#Our-previous-baseline\" data-toc-modified-id=\"Our-previous-baseline-4\"><span class=\"toc-item-num\">4&nbsp;&nbsp;</span>Our previous baseline</a></span></li><li><span><a href=\"#Build-an-MLP-Classifier\" data-toc-modified-id=\"Build-an-MLP-Classifier-5\"><span class=\"toc-item-num\">5&nbsp;&nbsp;</span>Build an MLP Classifier</a></span></li></ul></div>"
   ]
  },
  {
   "cell_type": "markdown",
   "metadata": {
    "id": "PZg2dPXvvq_q"
   },
   "source": [
    "## Load dataset"
   ]
  },
  {
   "cell_type": "code",
   "execution_count": 1,
   "metadata": {
    "ExecuteTime": {
     "end_time": "2022-01-19T13:17:55.195443Z",
     "start_time": "2022-01-19T13:17:52.018950Z"
    },
    "id": "8wxTLStrvq_r"
   },
   "outputs": [
    {
     "name": "stderr",
     "output_type": "stream",
     "text": [
      "[nltk_data] Downloading collection 'popular'\n",
      "[nltk_data]    | \n",
      "[nltk_data]    | Downloading package cmudict to\n",
      "[nltk_data]    |     /home/joris/nltk_data...\n",
      "[nltk_data]    |   Package cmudict is already up-to-date!\n",
      "[nltk_data]    | Downloading package gazetteers to\n",
      "[nltk_data]    |     /home/joris/nltk_data...\n",
      "[nltk_data]    |   Package gazetteers is already up-to-date!\n",
      "[nltk_data]    | Downloading package genesis to\n",
      "[nltk_data]    |     /home/joris/nltk_data...\n",
      "[nltk_data]    |   Package genesis is already up-to-date!\n",
      "[nltk_data]    | Downloading package gutenberg to\n",
      "[nltk_data]    |     /home/joris/nltk_data...\n",
      "[nltk_data]    |   Package gutenberg is already up-to-date!\n",
      "[nltk_data]    | Downloading package inaugural to\n",
      "[nltk_data]    |     /home/joris/nltk_data...\n",
      "[nltk_data]    |   Package inaugural is already up-to-date!\n",
      "[nltk_data]    | Downloading package movie_reviews to\n",
      "[nltk_data]    |     /home/joris/nltk_data...\n",
      "[nltk_data]    |   Package movie_reviews is already up-to-date!\n",
      "[nltk_data]    | Downloading package names to /home/joris/nltk_data...\n",
      "[nltk_data]    |   Package names is already up-to-date!\n",
      "[nltk_data]    | Downloading package shakespeare to\n",
      "[nltk_data]    |     /home/joris/nltk_data...\n",
      "[nltk_data]    |   Package shakespeare is already up-to-date!\n",
      "[nltk_data]    | Downloading package stopwords to\n",
      "[nltk_data]    |     /home/joris/nltk_data...\n",
      "[nltk_data]    |   Package stopwords is already up-to-date!\n",
      "[nltk_data]    | Downloading package treebank to\n",
      "[nltk_data]    |     /home/joris/nltk_data...\n",
      "[nltk_data]    |   Package treebank is already up-to-date!\n",
      "[nltk_data]    | Downloading package twitter_samples to\n",
      "[nltk_data]    |     /home/joris/nltk_data...\n",
      "[nltk_data]    |   Package twitter_samples is already up-to-date!\n",
      "[nltk_data]    | Downloading package omw to /home/joris/nltk_data...\n",
      "[nltk_data]    |   Package omw is already up-to-date!\n",
      "[nltk_data]    | Downloading package omw-1.4 to\n",
      "[nltk_data]    |     /home/joris/nltk_data...\n",
      "[nltk_data]    |   Package omw-1.4 is already up-to-date!\n",
      "[nltk_data]    | Downloading package wordnet to\n",
      "[nltk_data]    |     /home/joris/nltk_data...\n",
      "[nltk_data]    |   Package wordnet is already up-to-date!\n",
      "[nltk_data]    | Downloading package wordnet2021 to\n",
      "[nltk_data]    |     /home/joris/nltk_data...\n",
      "[nltk_data]    |   Package wordnet2021 is already up-to-date!\n",
      "[nltk_data]    | Downloading package wordnet31 to\n",
      "[nltk_data]    |     /home/joris/nltk_data...\n",
      "[nltk_data]    |   Package wordnet31 is already up-to-date!\n",
      "[nltk_data]    | Downloading package wordnet_ic to\n",
      "[nltk_data]    |     /home/joris/nltk_data...\n",
      "[nltk_data]    |   Package wordnet_ic is already up-to-date!\n",
      "[nltk_data]    | Downloading package words to /home/joris/nltk_data...\n",
      "[nltk_data]    |   Package words is already up-to-date!\n",
      "[nltk_data]    | Downloading package maxent_ne_chunker to\n",
      "[nltk_data]    |     /home/joris/nltk_data...\n",
      "[nltk_data]    |   Package maxent_ne_chunker is already up-to-date!\n",
      "[nltk_data]    | Downloading package punkt to /home/joris/nltk_data...\n",
      "[nltk_data]    |   Package punkt is already up-to-date!\n",
      "[nltk_data]    | Downloading package snowball_data to\n",
      "[nltk_data]    |     /home/joris/nltk_data...\n",
      "[nltk_data]    |   Package snowball_data is already up-to-date!\n",
      "[nltk_data]    | Downloading package averaged_perceptron_tagger to\n",
      "[nltk_data]    |     /home/joris/nltk_data...\n",
      "[nltk_data]    |   Package averaged_perceptron_tagger is already up-\n",
      "[nltk_data]    |       to-date!\n",
      "[nltk_data]    | \n",
      "[nltk_data]  Done downloading collection popular\n"
     ]
    },
    {
     "data": {
      "text/plain": [
       "True"
      ]
     },
     "execution_count": 1,
     "metadata": {},
     "output_type": "execute_result"
    }
   ],
   "source": [
    "import pandas as pd\n",
    "import numpy as np\n",
    "import nltk\n",
    "nltk.download('popular')"
   ]
  },
  {
   "cell_type": "code",
   "execution_count": 2,
   "metadata": {
    "ExecuteTime": {
     "end_time": "2022-01-19T13:17:55.977676Z",
     "start_time": "2022-01-19T13:17:55.239096Z"
    },
    "colab": {
     "base_uri": "https://localhost:8080/",
     "height": 204
    },
    "executionInfo": {
     "elapsed": 2638,
     "status": "ok",
     "timestamp": 1634734106855,
     "user": {
      "displayName": "Antoine Collin",
      "photoUrl": "https://lh3.googleusercontent.com/a/default-user=s64",
      "userId": "01107865217976062482"
     },
     "user_tz": -120
    },
    "id": "MLWzp9CAvq_t",
    "outputId": "abb836f6-8137-43a7-decb-f1d7a8a981be"
   },
   "outputs": [
    {
     "data": {
      "text/html": [
       "<div>\n",
       "<style scoped>\n",
       "    .dataframe tbody tr th:only-of-type {\n",
       "        vertical-align: middle;\n",
       "    }\n",
       "\n",
       "    .dataframe tbody tr th {\n",
       "        vertical-align: top;\n",
       "    }\n",
       "\n",
       "    .dataframe thead th {\n",
       "        text-align: right;\n",
       "    }\n",
       "</style>\n",
       "<table border=\"1\" class=\"dataframe\">\n",
       "  <thead>\n",
       "    <tr style=\"text-align: right;\">\n",
       "      <th></th>\n",
       "      <th>Product Name</th>\n",
       "      <th>Brand Name</th>\n",
       "      <th>Price</th>\n",
       "      <th>Rating</th>\n",
       "      <th>Reviews</th>\n",
       "      <th>Review Votes</th>\n",
       "    </tr>\n",
       "  </thead>\n",
       "  <tbody>\n",
       "    <tr>\n",
       "      <th>0</th>\n",
       "      <td>Samsung Galaxy Note 4 N910C Unlocked Cellphone...</td>\n",
       "      <td>Samsung</td>\n",
       "      <td>449.99</td>\n",
       "      <td>4</td>\n",
       "      <td>I love it!!! I absolutely love it!! 👌👍</td>\n",
       "      <td>0.0</td>\n",
       "    </tr>\n",
       "    <tr>\n",
       "      <th>1</th>\n",
       "      <td>BLU Energy X Plus Smartphone - With 4000 mAh S...</td>\n",
       "      <td>BLU</td>\n",
       "      <td>139.00</td>\n",
       "      <td>5</td>\n",
       "      <td>I love the BLU phones! This is my second one t...</td>\n",
       "      <td>4.0</td>\n",
       "    </tr>\n",
       "    <tr>\n",
       "      <th>2</th>\n",
       "      <td>Apple iPhone 6 128GB Silver AT&amp;T</td>\n",
       "      <td>Apple</td>\n",
       "      <td>599.95</td>\n",
       "      <td>5</td>\n",
       "      <td>Great phone</td>\n",
       "      <td>1.0</td>\n",
       "    </tr>\n",
       "    <tr>\n",
       "      <th>3</th>\n",
       "      <td>BLU Advance 4.0L Unlocked Smartphone -US GSM -...</td>\n",
       "      <td>BLU</td>\n",
       "      <td>51.99</td>\n",
       "      <td>4</td>\n",
       "      <td>Very happy with the performance. The apps work...</td>\n",
       "      <td>2.0</td>\n",
       "    </tr>\n",
       "    <tr>\n",
       "      <th>4</th>\n",
       "      <td>Huawei P8 Lite US Version- 5 Unlocked Android ...</td>\n",
       "      <td>Huawei</td>\n",
       "      <td>198.99</td>\n",
       "      <td>5</td>\n",
       "      <td>Easy to use great price</td>\n",
       "      <td>0.0</td>\n",
       "    </tr>\n",
       "  </tbody>\n",
       "</table>\n",
       "</div>"
      ],
      "text/plain": [
       "                                        Product Name Brand Name   Price  \\\n",
       "0  Samsung Galaxy Note 4 N910C Unlocked Cellphone...    Samsung  449.99   \n",
       "1  BLU Energy X Plus Smartphone - With 4000 mAh S...        BLU  139.00   \n",
       "2                   Apple iPhone 6 128GB Silver AT&T      Apple  599.95   \n",
       "3  BLU Advance 4.0L Unlocked Smartphone -US GSM -...        BLU   51.99   \n",
       "4  Huawei P8 Lite US Version- 5 Unlocked Android ...     Huawei  198.99   \n",
       "\n",
       "   Rating                                            Reviews  Review Votes  \n",
       "0       4             I love it!!! I absolutely love it!! 👌👍           0.0  \n",
       "1       5  I love the BLU phones! This is my second one t...           4.0  \n",
       "2       5                                        Great phone           1.0  \n",
       "3       4  Very happy with the performance. The apps work...           2.0  \n",
       "4       5                            Easy to use great price           0.0  "
      ]
     },
     "execution_count": 2,
     "metadata": {},
     "output_type": "execute_result"
    }
   ],
   "source": [
    "TRAIN = pd.read_csv(\"http://www.i3s.unice.fr/~riveill/dataset/Amazon_Unlocked_Mobile/train.csv.gz\")\n",
    "TEST = pd.read_csv(\"http://www.i3s.unice.fr/~riveill/dataset/Amazon_Unlocked_Mobile/test.csv.gz\")\n",
    "\n",
    "TRAIN.head()"
   ]
  },
  {
   "cell_type": "markdown",
   "metadata": {
    "id": "o2eC1L4fvq_0"
   },
   "source": [
    "## Build X (features vectors) and y (labels)"
   ]
  },
  {
   "cell_type": "code",
   "execution_count": 3,
   "metadata": {
    "ExecuteTime": {
     "end_time": "2022-01-19T13:17:56.008775Z",
     "start_time": "2022-01-19T13:17:55.985761Z"
    },
    "colab": {
     "base_uri": "https://localhost:8080/"
    },
    "executionInfo": {
     "elapsed": 284,
     "status": "ok",
     "timestamp": 1634738820951,
     "user": {
      "displayName": "Antoine Collin",
      "photoUrl": "https://lh3.googleusercontent.com/a/default-user=s64",
      "userId": "01107865217976062482"
     },
     "user_tz": -120
    },
    "id": "dOnscXEBvq_0",
    "outputId": "4364f457-545c-49d3-c2fe-5540d52b0f58"
   },
   "outputs": [
    {
     "data": {
      "text/plain": [
       "((5000,), (5000,))"
      ]
     },
     "execution_count": 3,
     "metadata": {},
     "output_type": "execute_result"
    }
   ],
   "source": [
    "# Construct X_train and y_train\n",
    "X_train = TRAIN['Reviews'].fillna(\"\")\n",
    "y_train = TRAIN['Rating']\n",
    "X_train.shape, y_train.shape"
   ]
  },
  {
   "cell_type": "code",
   "execution_count": 4,
   "metadata": {
    "ExecuteTime": {
     "end_time": "2022-01-19T13:17:56.063136Z",
     "start_time": "2022-01-19T13:17:56.021507Z"
    },
    "colab": {
     "base_uri": "https://localhost:8080/"
    },
    "executionInfo": {
     "elapsed": 6,
     "status": "ok",
     "timestamp": 1634738821203,
     "user": {
      "displayName": "Antoine Collin",
      "photoUrl": "https://lh3.googleusercontent.com/a/default-user=s64",
      "userId": "01107865217976062482"
     },
     "user_tz": -120
    },
    "id": "338OMkmHvq_1",
    "outputId": "aea649ad-4a81-4aa7-976f-4b97c3461644"
   },
   "outputs": [
    {
     "data": {
      "text/plain": [
       "((1000,), (1000,))"
      ]
     },
     "execution_count": 4,
     "metadata": {},
     "output_type": "execute_result"
    }
   ],
   "source": [
    "# Construct X_test and y_test\n",
    "X_test = TEST['Reviews'].fillna(\"\")\n",
    "y_test = TEST['Rating']\n",
    "X_test.shape, y_test.shape"
   ]
  },
  {
   "cell_type": "markdown",
   "metadata": {
    "id": "2L3YiNzWvq_1"
   },
   "source": [
    "## Features extraction\n",
    "\n",
    "A bag-of-words model is a way of extracting features from text so the text input can be used with machine learning algorithms or neural networks.\n",
    "\n",
    "Each document, in this case a review, is converted into a vector representation. The number of items in the vector representing a document corresponds to the number of words in the vocabulary. The larger the vocabulary, the longer the vector representation, hence the preference for smaller vocabularies in the previous section.\n",
    "\n",
    "Words in a document are scored and the scores are placed in the corresponding location in the representation.\n",
    "\n",
    "In order to extract feature, you can use `CountVectorizer` or `TfidfVectorizer` and you can perform the desired text cleaning."
   ]
  },
  {
   "cell_type": "markdown",
   "metadata": {
    "id": "UbTccrE7B2JX"
   },
   "source": [
    "$$[TODO - Students]$$ \n",
    "> * Quickly remind what are `CountVectorizer`, `TfidfVectorizer` and how they work.\\\n",
    "`CountVectorizer` counts how many times a word occurs in the analysed text.\\\n",
    "`TfidfVectorizer` also counts how many times a word occurs in the analysed text, but then it compares it with its usual frequency within the whole corpus. This allows to get an idea of how a word is over-represented in the analyzed text and it disregards words that simply occur a lot in the whole corpus.\n",
    "\n",
    "> * Build the BOW representation for train and test set"
   ]
  },
  {
   "cell_type": "code",
   "execution_count": 5,
   "metadata": {
    "ExecuteTime": {
     "end_time": "2022-01-19T13:17:56.091783Z",
     "start_time": "2022-01-19T13:17:56.075456Z"
    }
   },
   "outputs": [],
   "source": [
    "from sklearn.feature_extraction.text import TfidfVectorizer\n",
    "from sklearn.pipeline import Pipeline, make_pipeline\n",
    "from sklearn.linear_model import LogisticRegression\n",
    "from sklearn.metrics import f1_score, classification_report\n",
    "from sklearn.model_selection import GridSearchCV, RandomizedSearchCV"
   ]
  },
  {
   "cell_type": "code",
   "execution_count": 6,
   "metadata": {},
   "outputs": [],
   "source": [
    "\n",
    "preproc_pipe = make_pipeline(\n",
    "    TfidfVectorizer(),\n",
    ")\n",
    "# Extract features\n",
    "preproc_X_train = preproc_pipe.fit_transform(X_train)\n",
    "preproc_X_test = preproc_pipe.transform(X_test)"
   ]
  },
  {
   "cell_type": "markdown",
   "metadata": {
    "colab": {
     "base_uri": "https://localhost:8080/"
    },
    "executionInfo": {
     "elapsed": 8234,
     "status": "ok",
     "timestamp": 1634739073199,
     "user": {
      "displayName": "Antoine Collin",
      "photoUrl": "https://lh3.googleusercontent.com/a/default-user=s64",
      "userId": "01107865217976062482"
     },
     "user_tz": -120
    },
    "id": "aErFvDg6vq_2",
    "outputId": "1caadb43-483e-4be7-920a-ed3d45dc265d"
   },
   "source": [
    "## Build a baseline with logistic regression.\n",
    "\n",
    "Using the previous BOW representation, fit a logistic regression model and evaluate it."
   ]
  },
  {
   "cell_type": "markdown",
   "metadata": {},
   "source": [
    "$$[TODO - Students]$$ \n",
    "> * Quickly remind what are `LogisticRegression` and how they work.\\\n",
    "`LogisticRegression` computes a prediction probability for each of the classes"
   ]
  },
  {
   "cell_type": "code",
   "execution_count": 7,
   "metadata": {},
   "outputs": [
    {
     "data": {
      "text/plain": [
       "1     885\n",
       "2     291\n",
       "3     385\n",
       "4     747\n",
       "5    2692\n",
       "Name: Rating, dtype: int64"
      ]
     },
     "execution_count": 7,
     "metadata": {},
     "output_type": "execute_result"
    }
   ],
   "source": [
    "y_train.value_counts().sort_index()"
   ]
  },
  {
   "cell_type": "markdown",
   "metadata": {},
   "source": [
    "> * what are the possible metrics. Choose one and justify your choice.\\\n",
    "We could use accuracy, recall, precision or f1-score. I choose to use the f1-score because our data set is unbalanced (class 1 ->  885, class 2 ->  291, class 3 ->  385, class 4 ->  747, class 5 -> 2692, )\n"
   ]
  },
  {
   "cell_type": "code",
   "execution_count": 8,
   "metadata": {
    "ExecuteTime": {
     "end_time": "2022-01-19T13:17:56.129136Z",
     "start_time": "2022-01-19T13:17:56.105750Z"
    }
   },
   "outputs": [
    {
     "name": "stdout",
     "output_type": "stream",
     "text": [
      "Fitting 5 folds for each of 10 candidates, totalling 50 fits\n"
     ]
    },
    {
     "data": {
      "text/plain": [
       "RandomizedSearchCV(estimator=LogisticRegression(), n_jobs=-1,\n",
       "                   param_distributions={'C': array([0.01      , 0.09142857, 0.17285714, 0.25428571, 0.33571429,\n",
       "       0.41714286, 0.49857143, 0.58      , 0.66142857, 0.74285714,\n",
       "       0.82428571, 0.90571429, 0.98714286, 1.06857143, 1.15      ,\n",
       "       1.23142857, 1.31285714, 1.39428571, 1.47571429, 1.55714286,\n",
       "       1.63857143, 1.72      , 1.80142857, 1.88285714, 1.96428571,\n",
       "       2.04571429, 2.12714286, 2.20857143, 2.29      , 2.37142857,\n",
       "       2.45285714, 2.53428571, 2.61571429, 2.69714286, 2.77857143,\n",
       "       2.86      , 2.94142857, 3.02285714, 3.10428571, 3.18571429,\n",
       "       3.26714286, 3.34857143, 3.43      , 3.51142857, 3.59285714,\n",
       "       3.67428571, 3.75571429, 3.83714286, 3.91857143, 4.        ]),\n",
       "                                        'max_iter': [1000]},\n",
       "                   scoring='f1_weighted', verbose=1)"
      ]
     },
     "execution_count": 8,
     "metadata": {},
     "output_type": "execute_result"
    }
   ],
   "source": [
    "# Build your model\n",
    "clf = LogisticRegression()\n",
    "\n",
    "param_search = {\n",
    "    # \"penalty\": [\"l1\", \"l2\"],\n",
    "    \"C\": np.linspace(0.01,4),\n",
    "    \"max_iter\": [1000],\n",
    "}\n",
    "\n",
    "search = RandomizedSearchCV(clf, param_search, n_jobs=-1, verbose=1, scoring=\"f1_weighted\")\n",
    "search.fit(preproc_X_train, y_train)"
   ]
  },
  {
   "cell_type": "code",
   "execution_count": 9,
   "metadata": {},
   "outputs": [
    {
     "data": {
      "text/plain": [
       "{'max_iter': 1000, 'C': 3.592857142857143}"
      ]
     },
     "execution_count": 9,
     "metadata": {},
     "output_type": "execute_result"
    }
   ],
   "source": [
    "log_reg_params = search.best_params_\n",
    "log_reg_params"
   ]
  },
  {
   "cell_type": "code",
   "execution_count": 10,
   "metadata": {
    "ExecuteTime": {
     "end_time": "2022-01-19T13:17:56.167207Z",
     "start_time": "2022-01-19T13:17:56.137072Z"
    }
   },
   "outputs": [
    {
     "name": "stdout",
     "output_type": "stream",
     "text": [
      "Logistic Regression best score: 0.6363\n"
     ]
    }
   ],
   "source": [
    "# Evaluate your model\n",
    "y_pred_log_reg = search.predict(preproc_X_test)\n",
    "log_reg_score = f1_score(y_test, y_pred_log_reg, average=\"weighted\")\n",
    "print(f\"Logistic Regression best score: {round(log_reg_score, 4)}\")"
   ]
  },
  {
   "cell_type": "markdown",
   "metadata": {
    "id": "mdEeQY2Hvq_2"
   },
   "source": [
    "## Build an MLP Classifier\n"
   ]
  },
  {
   "cell_type": "code",
   "execution_count": 11,
   "metadata": {
    "ExecuteTime": {
     "end_time": "2022-01-19T13:18:02.502107Z",
     "start_time": "2022-01-19T13:17:56.178741Z"
    },
    "id": "Z_XKcRR9vq_3"
   },
   "outputs": [
    {
     "name": "stderr",
     "output_type": "stream",
     "text": [
      "2022-01-20 18:22:23.084881: W tensorflow/stream_executor/platform/default/dso_loader.cc:64] Could not load dynamic library 'libcudart.so.11.0'; dlerror: libcudart.so.11.0: cannot open shared object file: No such file or directory\n",
      "2022-01-20 18:22:23.084909: I tensorflow/stream_executor/cuda/cudart_stub.cc:29] Ignore above cudart dlerror if you do not have a GPU set up on your machine.\n"
     ]
    }
   ],
   "source": [
    "import tensorflow as tf\n",
    "import tensorflow_addons as tfa\n",
    "from tensorflow.keras.models import Model\n",
    "from tensorflow.keras.layers import Input, Dense, Dropout\n",
    "from tensorflow.keras.callbacks import EarlyStopping\n",
    "from tensorflow.keras.utils import plot_model\n",
    "from tensorflow.keras.callbacks import EarlyStopping\n",
    "from sklearn.metrics import confusion_matrix, ConfusionMatrixDisplay\n"
   ]
  },
  {
   "cell_type": "markdown",
   "metadata": {
    "ExecuteTime": {
     "end_time": "2022-01-19T13:18:02.511769Z",
     "start_time": "2022-01-19T13:18:02.503798Z"
    }
   },
   "source": [
    "$$[TODO - Students]$$ \n",
    "> * Quickly remind what are `Multi Layer Perceptron` and how they work.\\\n",
    "`Multi Layer Perceptron` is a class of feed-forward neural network. They contain an input layer, an output layer and one or more hidden layer, each with an activation function.\n",
    "> * If necessary, One hot encode the output vectors"
   ]
  },
  {
   "cell_type": "code",
   "execution_count": 12,
   "metadata": {
    "ExecuteTime": {
     "end_time": "2022-01-19T13:18:02.515293Z",
     "start_time": "2022-01-19T13:18:02.515272Z"
    },
    "id": "m0jx2omzvq_3"
   },
   "outputs": [],
   "source": [
    "# Encode output vector if necessary.\n",
    "from sklearn.preprocessing import OneHotEncoder\n",
    "ohe_y = OneHotEncoder()\n",
    "y_train_ohe = ohe_y.fit_transform(y_train.values.reshape(-1, 1))\n",
    "y_test_ohe = ohe_y.transform(y_test.values.reshape(-1, 1))"
   ]
  },
  {
   "cell_type": "markdown",
   "metadata": {
    "id": "vLoZRWAkC2Qw"
   },
   "source": [
    "$$[TODO - Students]$$ \n",
    "> * What is the size of the input vector and the output vector?"
   ]
  },
  {
   "cell_type": "code",
   "execution_count": 13,
   "metadata": {
    "ExecuteTime": {
     "end_time": "2022-01-19T13:18:02.520539Z",
     "start_time": "2022-01-19T13:18:02.520496Z"
    },
    "id": "HuUkAgdxvq_4"
   },
   "outputs": [],
   "source": [
    "# Define constant\n",
    "input_dim = preproc_X_train.shape[1] # number of features of X_train\n",
    "output_dim = y_train_ohe.shape[1] # number of classes (that we spread into 5 dimensions by OneHotEncod-ing)"
   ]
  },
  {
   "cell_type": "markdown",
   "metadata": {
    "id": "wGUO66DRDQDY"
   },
   "source": [
    "$$[TODO - Students]$$ \n",
    "\n",
    "> * Build a simple network to predict the star rating of a review using the functional API. It should have the following characteristic : one hidden layer with 256 nodes and relu activation.\n",
    "> * What is the activation function of the output layer?\\\n",
    "Softmax since we are tackling a classification problem."
   ]
  },
  {
   "cell_type": "code",
   "execution_count": 14,
   "metadata": {
    "ExecuteTime": {
     "end_time": "2022-01-19T13:18:02.524493Z",
     "start_time": "2022-01-19T13:18:02.524459Z"
    },
    "executionInfo": {
     "elapsed": 217,
     "status": "ok",
     "timestamp": 1634741548737,
     "user": {
      "displayName": "Antoine Collin",
      "photoUrl": "https://lh3.googleusercontent.com/a/default-user=s64",
      "userId": "01107865217976062482"
     },
     "user_tz": -120
    },
    "id": "LiuynQmZMFy7"
   },
   "outputs": [
    {
     "name": "stderr",
     "output_type": "stream",
     "text": [
      "2022-01-20 18:22:24.861657: I tensorflow/stream_executor/cuda/cuda_gpu_executor.cc:939] successful NUMA node read from SysFS had negative value (-1), but there must be at least one NUMA node, so returning NUMA node zero\n",
      "2022-01-20 18:22:24.862416: W tensorflow/stream_executor/platform/default/dso_loader.cc:64] Could not load dynamic library 'libcudart.so.11.0'; dlerror: libcudart.so.11.0: cannot open shared object file: No such file or directory\n",
      "2022-01-20 18:22:24.862491: W tensorflow/stream_executor/platform/default/dso_loader.cc:64] Could not load dynamic library 'libcublas.so.11'; dlerror: libcublas.so.11: cannot open shared object file: No such file or directory\n",
      "2022-01-20 18:22:24.862558: W tensorflow/stream_executor/platform/default/dso_loader.cc:64] Could not load dynamic library 'libcublasLt.so.11'; dlerror: libcublasLt.so.11: cannot open shared object file: No such file or directory\n",
      "2022-01-20 18:22:24.862625: W tensorflow/stream_executor/platform/default/dso_loader.cc:64] Could not load dynamic library 'libcufft.so.10'; dlerror: libcufft.so.10: cannot open shared object file: No such file or directory\n",
      "2022-01-20 18:22:24.862693: W tensorflow/stream_executor/platform/default/dso_loader.cc:64] Could not load dynamic library 'libcurand.so.10'; dlerror: libcurand.so.10: cannot open shared object file: No such file or directory\n",
      "2022-01-20 18:22:24.862762: W tensorflow/stream_executor/platform/default/dso_loader.cc:64] Could not load dynamic library 'libcusolver.so.11'; dlerror: libcusolver.so.11: cannot open shared object file: No such file or directory\n",
      "2022-01-20 18:22:24.862827: W tensorflow/stream_executor/platform/default/dso_loader.cc:64] Could not load dynamic library 'libcusparse.so.11'; dlerror: libcusparse.so.11: cannot open shared object file: No such file or directory\n",
      "2022-01-20 18:22:24.862893: W tensorflow/stream_executor/platform/default/dso_loader.cc:64] Could not load dynamic library 'libcudnn.so.8'; dlerror: libcudnn.so.8: cannot open shared object file: No such file or directory\n",
      "2022-01-20 18:22:24.862903: W tensorflow/core/common_runtime/gpu/gpu_device.cc:1850] Cannot dlopen some GPU libraries. Please make sure the missing libraries mentioned above are installed properly if you would like to use GPU. Follow the guide at https://www.tensorflow.org/install/gpu for how to download and setup the required libraries for your platform.\n",
      "Skipping registering GPU devices...\n",
      "2022-01-20 18:22:24.863197: I tensorflow/core/platform/cpu_feature_guard.cc:151] This TensorFlow binary is optimized with oneAPI Deep Neural Network Library (oneDNN) to use the following CPU instructions in performance-critical operations:  AVX2 FMA\n",
      "To enable them in other operations, rebuild TensorFlow with the appropriate compiler flags.\n"
     ]
    }
   ],
   "source": [
    "# Build your MLP\n",
    "inputs = Input(shape=(input_dim,))\n",
    "x = Dense(256, activation=\"relu\")(inputs)\n",
    "outputs = Dense(output_dim, activation=\"softmax\")(x)"
   ]
  },
  {
   "cell_type": "markdown",
   "metadata": {
    "id": "axBVvIHCD4_h"
   },
   "source": [
    "$$[TODO - Students]$$ \n",
    "\n",
    "We are now compiling and training the model.\n",
    "> * Using the tensorflow documentation, explain the purpose the EarlyStopping callback and detail its arguments.\\\n",
    "As per the Tensorflow documentation:\\\n",
    "*Assuming the goal of a training is to minimize the loss. With this, the metric to be monitored would be 'loss', and mode would be 'min'. A model.fit() training loop will check at end of every epoch whether the loss is no longer decreasing, considering the min_delta and patience if applicable. Once it's found no longer decreasing, model.stop_training is marked True and the training terminates.*\\\n",
    "In other words, `EarlyStopping` stops the training process (*i.e.* the `fit` method) if no more progress is made in terms of the loss.\n",
    "\n",
    "> * Compile the model\n",
    "> * Fit the model"
   ]
  },
  {
   "cell_type": "code",
   "execution_count": 15,
   "metadata": {
    "ExecuteTime": {
     "end_time": "2022-01-19T13:18:02.528750Z",
     "start_time": "2022-01-19T13:18:02.528721Z"
    },
    "colab": {
     "base_uri": "https://localhost:8080/"
    },
    "executionInfo": {
     "elapsed": 29782,
     "status": "ok",
     "timestamp": 1634740224894,
     "user": {
      "displayName": "Antoine Collin",
      "photoUrl": "https://lh3.googleusercontent.com/a/default-user=s64",
      "userId": "01107865217976062482"
     },
     "user_tz": -120
    },
    "id": "C4zg06r3vq_6",
    "outputId": "0f308061-087c-4724-e163-c3649c762f07"
   },
   "outputs": [
    {
     "name": "stdout",
     "output_type": "stream",
     "text": [
      "Epoch 1/100\n",
      "157/157 [==============================] - 2s 10ms/step - loss: 0.1142 - f1_score: 0.2362\n",
      "Epoch 2/100\n",
      "157/157 [==============================] - 2s 10ms/step - loss: 0.0773 - f1_score: 0.3880\n",
      "Epoch 3/100\n",
      "157/157 [==============================] - 2s 10ms/step - loss: 0.0561 - f1_score: 0.6689\n",
      "Epoch 4/100\n",
      "157/157 [==============================] - 2s 10ms/step - loss: 0.0374 - f1_score: 0.8482\n",
      "Epoch 5/100\n",
      "157/157 [==============================] - 2s 10ms/step - loss: 0.0252 - f1_score: 0.9078\n",
      "Epoch 6/100\n",
      "157/157 [==============================] - 2s 10ms/step - loss: 0.0191 - f1_score: 0.9372\n",
      "Epoch 7/100\n",
      "157/157 [==============================] - 2s 10ms/step - loss: 0.0156 - f1_score: 0.9520\n",
      "Epoch 8/100\n",
      "157/157 [==============================] - 2s 10ms/step - loss: 0.0135 - f1_score: 0.9591\n",
      "Epoch 9/100\n",
      "157/157 [==============================] - 2s 10ms/step - loss: 0.0120 - f1_score: 0.9638\n",
      "Epoch 10/100\n",
      "157/157 [==============================] - 2s 10ms/step - loss: 0.0112 - f1_score: 0.9647\n",
      "Epoch 11/100\n",
      "157/157 [==============================] - 2s 10ms/step - loss: 0.0105 - f1_score: 0.9673\n",
      "Epoch 12/100\n",
      "157/157 [==============================] - 2s 10ms/step - loss: 0.0100 - f1_score: 0.9691\n",
      "Epoch 13/100\n",
      "157/157 [==============================] - 2s 10ms/step - loss: 0.0097 - f1_score: 0.9711\n",
      "Epoch 14/100\n",
      "157/157 [==============================] - 2s 10ms/step - loss: 0.0094 - f1_score: 0.9705\n",
      "Epoch 15/100\n",
      "157/157 [==============================] - 2s 10ms/step - loss: 0.0091 - f1_score: 0.9701\n",
      "Epoch 16/100\n",
      "157/157 [==============================] - 2s 10ms/step - loss: 0.0089 - f1_score: 0.9720\n",
      "Epoch 17/100\n",
      "157/157 [==============================] - 2s 10ms/step - loss: 0.0088 - f1_score: 0.9701\n",
      "Epoch 18/100\n",
      "157/157 [==============================] - 2s 10ms/step - loss: 0.0086 - f1_score: 0.9724\n",
      "Epoch 19/100\n",
      "157/157 [==============================] - 2s 10ms/step - loss: 0.0083 - f1_score: 0.9734\n",
      "Epoch 20/100\n",
      "157/157 [==============================] - 2s 15ms/step - loss: 0.0081 - f1_score: 0.9738\n",
      "Epoch 21/100\n",
      "157/157 [==============================] - 2s 16ms/step - loss: 0.0080 - f1_score: 0.9745\n",
      "Epoch 22/100\n",
      "157/157 [==============================] - 2s 15ms/step - loss: 0.0078 - f1_score: 0.9750\n",
      "Epoch 23/100\n",
      "157/157 [==============================] - 2s 14ms/step - loss: 0.0077 - f1_score: 0.9739\n",
      "Epoch 24/100\n",
      "157/157 [==============================] - 2s 14ms/step - loss: 0.0076 - f1_score: 0.9754\n",
      "Epoch 25/100\n",
      "157/157 [==============================] - 2s 14ms/step - loss: 0.0075 - f1_score: 0.9757\n",
      "Epoch 26/100\n",
      "157/157 [==============================] - 2s 12ms/step - loss: 0.0075 - f1_score: 0.9760\n",
      "Epoch 27/100\n",
      "157/157 [==============================] - 2s 13ms/step - loss: 0.0074 - f1_score: 0.9766\n",
      "Epoch 28/100\n",
      "157/157 [==============================] - 2s 12ms/step - loss: 0.0074 - f1_score: 0.9769\n",
      "Epoch 29/100\n",
      "157/157 [==============================] - 2s 12ms/step - loss: 0.0073 - f1_score: 0.9760\n",
      "Epoch 30/100\n",
      "157/157 [==============================] - 2s 12ms/step - loss: 0.0071 - f1_score: 0.9782\n",
      "Epoch 31/100\n",
      "157/157 [==============================] - 2s 13ms/step - loss: 0.0072 - f1_score: 0.9772\n",
      "Epoch 32/100\n",
      "157/157 [==============================] - 2s 13ms/step - loss: 0.0071 - f1_score: 0.9775\n",
      "Epoch 33/100\n",
      "157/157 [==============================] - 2s 13ms/step - loss: 0.0068 - f1_score: 0.9782\n",
      "Epoch 34/100\n",
      "157/157 [==============================] - 2s 13ms/step - loss: 0.0072 - f1_score: 0.9770\n",
      "Epoch 35/100\n",
      "157/157 [==============================] - 2s 12ms/step - loss: 0.0069 - f1_score: 0.9772\n",
      "Epoch 36/100\n",
      "157/157 [==============================] - 2s 14ms/step - loss: 0.0069 - f1_score: 0.9774\n",
      "Epoch 37/100\n",
      "157/157 [==============================] - 2s 12ms/step - loss: 0.0068 - f1_score: 0.9775\n",
      "Epoch 38/100\n",
      "157/157 [==============================] - 2s 12ms/step - loss: 0.0067 - f1_score: 0.9780\n",
      "Epoch 39/100\n",
      "157/157 [==============================] - 2s 12ms/step - loss: 0.0068 - f1_score: 0.9785\n",
      "Epoch 40/100\n",
      "157/157 [==============================] - 2s 12ms/step - loss: 0.0068 - f1_score: 0.9774\n",
      "Epoch 41/100\n",
      "157/157 [==============================] - 2s 13ms/step - loss: 0.0069 - f1_score: 0.9778\n",
      "Epoch 42/100\n",
      "157/157 [==============================] - 2s 13ms/step - loss: 0.0067 - f1_score: 0.9792\n",
      "Epoch 43/100\n",
      "157/157 [==============================] - 2s 12ms/step - loss: 0.0067 - f1_score: 0.9769\n",
      "Epoch 44/100\n",
      "157/157 [==============================] - 2s 12ms/step - loss: 0.0067 - f1_score: 0.9780\n",
      "Epoch 45/100\n",
      "157/157 [==============================] - 2s 12ms/step - loss: 0.0067 - f1_score: 0.9785\n",
      "Epoch 46/100\n",
      "157/157 [==============================] - 2s 12ms/step - loss: 0.0066 - f1_score: 0.9781\n",
      "Epoch 47/100\n",
      "157/157 [==============================] - 2s 13ms/step - loss: 0.0064 - f1_score: 0.9783\n",
      "Epoch 48/100\n",
      "157/157 [==============================] - 2s 13ms/step - loss: 0.0065 - f1_score: 0.9783\n",
      "Epoch 49/100\n",
      "157/157 [==============================] - 2s 12ms/step - loss: 0.0065 - f1_score: 0.9775\n",
      "Epoch 50/100\n",
      "157/157 [==============================] - 2s 13ms/step - loss: 0.0065 - f1_score: 0.9781\n",
      "Epoch 51/100\n",
      "157/157 [==============================] - 2s 13ms/step - loss: 0.0064 - f1_score: 0.9781\n",
      "Epoch 52/100\n",
      "157/157 [==============================] - 2s 14ms/step - loss: 0.0064 - f1_score: 0.9785\n",
      "Epoch 53/100\n",
      "157/157 [==============================] - 2s 13ms/step - loss: 0.0063 - f1_score: 0.9789\n",
      "Epoch 54/100\n",
      "157/157 [==============================] - 2s 14ms/step - loss: 0.0064 - f1_score: 0.9792\n",
      "Epoch 55/100\n",
      "157/157 [==============================] - 2s 13ms/step - loss: 0.0063 - f1_score: 0.9796\n",
      "Epoch 56/100\n",
      "157/157 [==============================] - 2s 13ms/step - loss: 0.0064 - f1_score: 0.9775\n",
      "Epoch 57/100\n",
      "157/157 [==============================] - 2s 13ms/step - loss: 0.0062 - f1_score: 0.9787\n",
      "Epoch 58/100\n",
      "157/157 [==============================] - 2s 13ms/step - loss: 0.0062 - f1_score: 0.9795\n",
      "Epoch 59/100\n",
      "157/157 [==============================] - 2s 13ms/step - loss: 0.0062 - f1_score: 0.9793\n",
      "Epoch 60/100\n",
      "157/157 [==============================] - 2s 13ms/step - loss: 0.0061 - f1_score: 0.9796\n",
      "Epoch 61/100\n",
      "157/157 [==============================] - 2s 13ms/step - loss: 0.0061 - f1_score: 0.9793\n",
      "Epoch 62/100\n",
      "157/157 [==============================] - 2s 13ms/step - loss: 0.0062 - f1_score: 0.9798\n",
      "Epoch 63/100\n",
      "157/157 [==============================] - 2s 13ms/step - loss: 0.0062 - f1_score: 0.9786\n",
      "Epoch 64/100\n",
      "157/157 [==============================] - 2s 13ms/step - loss: 0.0062 - f1_score: 0.9785\n",
      "Epoch 65/100\n",
      "157/157 [==============================] - 2s 12ms/step - loss: 0.0060 - f1_score: 0.9799\n",
      "Epoch 66/100\n",
      "157/157 [==============================] - 2s 13ms/step - loss: 0.0061 - f1_score: 0.9795\n",
      "Epoch 67/100\n",
      "157/157 [==============================] - 2s 12ms/step - loss: 0.0061 - f1_score: 0.9798\n",
      "Epoch 68/100\n",
      "157/157 [==============================] - 2s 12ms/step - loss: 0.0061 - f1_score: 0.9802\n",
      "Epoch 69/100\n",
      "157/157 [==============================] - 2s 13ms/step - loss: 0.0060 - f1_score: 0.9792\n",
      "Epoch 70/100\n",
      "157/157 [==============================] - 2s 13ms/step - loss: 0.0062 - f1_score: 0.9783\n",
      "Epoch 71/100\n",
      "157/157 [==============================] - 2s 13ms/step - loss: 0.0060 - f1_score: 0.9787\n",
      "Epoch 72/100\n",
      "157/157 [==============================] - 2s 14ms/step - loss: 0.0060 - f1_score: 0.9788\n",
      "Epoch 73/100\n",
      "157/157 [==============================] - 2s 14ms/step - loss: 0.0060 - f1_score: 0.9797\n",
      "Epoch 74/100\n",
      "157/157 [==============================] - 2s 15ms/step - loss: 0.0059 - f1_score: 0.9799\n",
      "Epoch 75/100\n",
      "157/157 [==============================] - 2s 13ms/step - loss: 0.0058 - f1_score: 0.9809\n",
      "Epoch 76/100\n",
      "157/157 [==============================] - 2s 13ms/step - loss: 0.0059 - f1_score: 0.9797\n",
      "Epoch 77/100\n",
      "157/157 [==============================] - 2s 13ms/step - loss: 0.0059 - f1_score: 0.9796\n",
      "Epoch 78/100\n",
      "157/157 [==============================] - 2s 14ms/step - loss: 0.0059 - f1_score: 0.9798\n",
      "Epoch 79/100\n",
      "157/157 [==============================] - 2s 13ms/step - loss: 0.0059 - f1_score: 0.9792\n",
      "Epoch 80/100\n",
      "157/157 [==============================] - 2s 13ms/step - loss: 0.0059 - f1_score: 0.9795\n",
      "Epoch 81/100\n",
      "157/157 [==============================] - 2s 14ms/step - loss: 0.0059 - f1_score: 0.9793\n",
      "Epoch 82/100\n",
      "157/157 [==============================] - 2s 15ms/step - loss: 0.0060 - f1_score: 0.9797\n",
      "Epoch 83/100\n",
      "157/157 [==============================] - 2s 15ms/step - loss: 0.0058 - f1_score: 0.9798\n",
      "Epoch 84/100\n",
      "157/157 [==============================] - 2s 14ms/step - loss: 0.0058 - f1_score: 0.9798\n",
      "Epoch 85/100\n",
      "157/157 [==============================] - 2s 15ms/step - loss: 0.0059 - f1_score: 0.9795\n",
      "Epoch 86/100\n",
      "157/157 [==============================] - 2s 15ms/step - loss: 0.0059 - f1_score: 0.9802\n",
      "Epoch 87/100\n",
      "157/157 [==============================] - 2s 14ms/step - loss: 0.0057 - f1_score: 0.9796\n",
      "Epoch 88/100\n",
      "157/157 [==============================] - 2s 14ms/step - loss: 0.0059 - f1_score: 0.9806\n",
      "Epoch 89/100\n",
      "157/157 [==============================] - 2s 13ms/step - loss: 0.0059 - f1_score: 0.9796\n",
      "Epoch 90/100\n",
      "157/157 [==============================] - 2s 13ms/step - loss: 0.0059 - f1_score: 0.9793\n",
      "Epoch 91/100\n",
      "157/157 [==============================] - 2s 13ms/step - loss: 0.0059 - f1_score: 0.9793\n",
      "Epoch 92/100\n",
      "157/157 [==============================] - 2s 13ms/step - loss: 0.0058 - f1_score: 0.9800\n",
      "Epoch 93/100\n",
      "157/157 [==============================] - 2s 13ms/step - loss: 0.0058 - f1_score: 0.9797\n",
      "Epoch 94/100\n",
      "157/157 [==============================] - 2s 12ms/step - loss: 0.0057 - f1_score: 0.9811\n",
      "Epoch 95/100\n",
      "157/157 [==============================] - 2s 13ms/step - loss: 0.0058 - f1_score: 0.9804\n",
      "Epoch 96/100\n",
      "157/157 [==============================] - 2s 13ms/step - loss: 0.0058 - f1_score: 0.9799\n",
      "Epoch 97/100\n",
      "157/157 [==============================] - 2s 12ms/step - loss: 0.0057 - f1_score: 0.9811\n",
      "Epoch 98/100\n",
      "157/157 [==============================] - 2s 14ms/step - loss: 0.0057 - f1_score: 0.9807\n",
      "Epoch 99/100\n",
      "157/157 [==============================] - 2s 13ms/step - loss: 0.0057 - f1_score: 0.9805\n",
      "Epoch 100/100\n",
      "157/157 [==============================] - 2s 13ms/step - loss: 0.0057 - f1_score: 0.9816\n"
     ]
    }
   ],
   "source": [
    "# Compile the model and start training\n",
    "# Stop training with early stopping with patience of 20\n",
    "model = Model(inputs, outputs)\n",
    "model.compile(optimizer=\"adam\", loss=\"mean_squared_error\", metrics=tfa.metrics.F1Score(5))\n",
    "\n",
    "callback = EarlyStopping(monitor=\"loss\", patience=20)\n",
    "history = model.fit(x=preproc_X_train.toarray(), y=y_train_ohe.toarray(), epochs=100, callbacks=[callback], use_multiprocessing=True)"
   ]
  },
  {
   "cell_type": "code",
   "execution_count": 16,
   "metadata": {},
   "outputs": [
    {
     "name": "stdout",
     "output_type": "stream",
     "text": [
      "Model: \"model\"\n",
      "_________________________________________________________________\n",
      " Layer (type)                Output Shape              Param #   \n",
      "=================================================================\n",
      " input_1 (InputLayer)        [(None, 8991)]            0         \n",
      "                                                                 \n",
      " dense (Dense)               (None, 256)               2301952   \n",
      "                                                                 \n",
      " dense_1 (Dense)             (None, 5)                 1285      \n",
      "                                                                 \n",
      "=================================================================\n",
      "Total params: 2,303,237\n",
      "Trainable params: 2,303,237\n",
      "Non-trainable params: 0\n",
      "_________________________________________________________________\n"
     ]
    },
    {
     "data": {
      "image/png": "[encoded data removed]",
      "text/plain": [
       "<IPython.core.display.Image object>"
      ]
     },
     "execution_count": 16,
     "metadata": {},
     "output_type": "execute_result"
    }
   ],
   "source": [
    "model.summary()\n",
    "plot_model(model, show_shapes=True)"
   ]
  },
  {
   "cell_type": "markdown",
   "metadata": {
    "ExecuteTime": {
     "end_time": "2022-01-19T13:14:16.701866Z",
     "start_time": "2022-01-19T13:14:16.693977Z"
    }
   },
   "source": [
    "$$[TODO - Students]$$ \n",
    "\n",
    "> * Babysit your model: plot learning curves"
   ]
  },
  {
   "cell_type": "code",
   "execution_count": 17,
   "metadata": {
    "ExecuteTime": {
     "end_time": "2022-01-19T13:18:02.532757Z",
     "start_time": "2022-01-19T13:18:02.532717Z"
    },
    "colab": {
     "base_uri": "https://localhost:8080/",
     "height": 320
    },
    "executionInfo": {
     "elapsed": 593,
     "status": "ok",
     "timestamp": 1634739502335,
     "user": {
      "displayName": "Antoine Collin",
      "photoUrl": "https://lh3.googleusercontent.com/a/default-user=s64",
      "userId": "01107865217976062482"
     },
     "user_tz": -120
    },
    "id": "UAGMeWF_vq_7",
    "outputId": "08483bc2-2034-4535-cc6d-0363246d974b"
   },
   "outputs": [
    {
     "data": {
      "text/plain": [
       "<AxesSubplot:>"
      ]
     },
     "execution_count": 17,
     "metadata": {},
     "output_type": "execute_result"
    },
    {
     "data": {
      "image/png": "[encoded data removed]",
      "text/plain": [
       "<Figure size 576x360 with 1 Axes>"
      ]
     },
     "metadata": {
      "needs_background": "light"
     },
     "output_type": "display_data"
    }
   ],
   "source": [
    "# Plot the learning curves and analyze them\n",
    "# It's possible to plot them very easily using: pd.DataFrame(history.history).plot(figsize=(8,5))\n",
    "pd.DataFrame(history.history).plot(figsize=(8,5))"
   ]
  },
  {
   "cell_type": "markdown",
   "metadata": {
    "id": "Uvu-O2JJHNrA"
   },
   "source": [
    "$$[TODO - Students]$$ \n",
    "\n",
    "> * How do you interpret those learning curves ?\\\n",
    "There is clearly something wrong since we see close to no improvement over the epochs. This could be due to overfitting.\n",
    "\n",
    "The model appears to overfit the training data. Various strategies could reduce the overfitting but for this lab we will just change the number and size of layers. We will do that a little later.\n",
    "\n",
    "> * Evaluate the model (on test part) and plot confusion matrix.\n",
    "> * Are you doing better or worse than with our first attempt with Logistic regression."
   ]
  },
  {
   "cell_type": "code",
   "execution_count": 18,
   "metadata": {
    "ExecuteTime": {
     "end_time": "2022-01-19T13:18:02.536063Z",
     "start_time": "2022-01-19T13:18:02.536032Z"
    },
    "colab": {
     "base_uri": "https://localhost:8080/"
    },
    "executionInfo": {
     "elapsed": 255,
     "status": "ok",
     "timestamp": 1634741041810,
     "user": {
      "displayName": "Antoine Collin",
      "photoUrl": "https://lh3.googleusercontent.com/a/default-user=s64",
      "userId": "01107865217976062482"
     },
     "user_tz": -120
    },
    "id": "zS8fi1z3vq_8",
    "outputId": "fd7a327b-b3fb-4e59-c44b-f081a25499da"
   },
   "outputs": [],
   "source": [
    "# Evaluate the model\n",
    "pred_proba = model.predict(preproc_X_test.toarray())\n",
    "y_pred = np.argmax(pred_proba, axis=1)+1"
   ]
  },
  {
   "cell_type": "code",
   "execution_count": 19,
   "metadata": {},
   "outputs": [
    {
     "name": "stdout",
     "output_type": "stream",
     "text": [
      "Initial MLP best score: 0.5925\n",
      "Logistic Regression best score: 0.6363\n",
      "MLP performs worse than linear regression\n"
     ]
    }
   ],
   "source": [
    "mlp_initial_score = f1_score(y_test, y_pred, average=\"weighted\")\n",
    "print(f\"Initial MLP best score: {round(mlp_initial_score, 4)}\")\n",
    "print(f\"Logistic Regression best score: {round(log_reg_score, 4)}\")\n",
    "print(\"MLP performs worse than linear regression\")"
   ]
  },
  {
   "cell_type": "code",
   "execution_count": 20,
   "metadata": {
    "ExecuteTime": {
     "end_time": "2022-01-19T13:18:02.541220Z",
     "start_time": "2022-01-19T13:18:02.541076Z"
    },
    "colab": {
     "base_uri": "https://localhost:8080/",
     "height": 282
    },
    "executionInfo": {
     "elapsed": 752,
     "status": "ok",
     "timestamp": 1634741048104,
     "user": {
      "displayName": "Antoine Collin",
      "photoUrl": "https://lh3.googleusercontent.com/a/default-user=s64",
      "userId": "01107865217976062482"
     },
     "user_tz": -120
    },
    "id": "_gSjyTEMH2nQ",
    "outputId": "1c052541-d573-48ad-b4e8-95061f705763"
   },
   "outputs": [
    {
     "name": "stdout",
     "output_type": "stream",
     "text": [
      "--> Using tensorflow:\n",
      " tf.Tensor(\n",
      "[[  0   0   0   0   0   0]\n",
      " [  0  82  21   9  15  32]\n",
      " [  0  20   8   5   7  11]\n",
      " [  0   9   3  16  17  26]\n",
      " [  0  13   3  14  29 104]\n",
      " [  0  10   6  13  45 482]], shape=(6, 6), dtype=int32)\n",
      "\n",
      "--> Using sklearn:\n"
     ]
    },
    {
     "data": {
      "text/plain": [
       "array([[ 82,  21,   9,  15,  32],\n",
       "       [ 20,   8,   5,   7,  11],\n",
       "       [  9,   3,  16,  17,  26],\n",
       "       [ 13,   3,  14,  29, 104],\n",
       "       [ 10,   6,  13,  45, 482]])"
      ]
     },
     "execution_count": 20,
     "metadata": {},
     "output_type": "execute_result"
    },
    {
     "data": {
      "image/png": "[encoded data removed]",
      "text/plain": [
       "<Figure size 432x288 with 2 Axes>"
      ]
     },
     "metadata": {
      "needs_background": "light"
     },
     "output_type": "display_data"
    }
   ],
   "source": [
    "# Print/plot the confusion matrix\n",
    "print(\"--> Using tensorflow:\\n\", tf.math.confusion_matrix(y_test, y_pred))\n",
    "print(\"\\n--> Using sklearn:\")\n",
    "cm = confusion_matrix(y_test, y_pred)\n",
    "ConfusionMatrixDisplay(cm, display_labels=list(range(1,6))).plot()\n",
    "cm"
   ]
  },
  {
   "cell_type": "markdown",
   "metadata": {
    "id": "DCfHu2EtKWtC"
   },
   "source": [
    "## Hyper-parameters search\n",
    "\n",
    "Using [KerasTuner](https://www.tensorflow.org/tutorials/keras/keras_tuner) and modifying various hyper-parameters, improve your model. Change in particular the number of layers, the number of neurons per layer, the dropout, the regularization."
   ]
  },
  {
   "cell_type": "code",
   "execution_count": 21,
   "metadata": {
    "id": "jtJUkEx6xGL2"
   },
   "outputs": [
    {
     "name": "stdout",
     "output_type": "stream",
     "text": [
      "Trial 10 Complete [00h 00m 09s]\n",
      "loss: 0.04891612380743027\n",
      "\n",
      "Best loss So Far: 0.048436202108860016\n",
      "Total elapsed time: 00h 01m 42s\n",
      "INFO:tensorflow:Oracle triggered exit\n"
     ]
    }
   ],
   "source": [
    "import keras_tuner as kt\n",
    "\n",
    "\n",
    "def build_model(hp):\n",
    "    # Wrap a model in a function\n",
    "    NUM_LAYERS = hp.Int(\"num_layers\", 1, 3)\n",
    "    # Define hyper-parameters\n",
    "    NUM_DIMS = hp.Int(\"num_dims\", min_value=32, max_value=128, step=32)\n",
    "    ACTIVATION = hp.Choice(\"activation\", [\"relu\", \"tanh\"])\n",
    "    DROPOUT = hp.Boolean(\"dropout\")\n",
    "    DROP_RATE = hp.Choice(\"drop_rate\", values=[0.2, 0.25, 0.5])\n",
    "    # replace static value\n",
    "    text_input = Input(shape=(input_dim,), name='input')\n",
    "    h = text_input\n",
    "    # with hyper-parameters\n",
    "    for i in range(NUM_LAYERS):\n",
    "        h = Dense(NUM_DIMS//(2*i+1), activation=ACTIVATION)(h)\n",
    "        if DROPOUT:\n",
    "            h = Dropout(rate=DROP_RATE)(h)\n",
    "    ouputs = Dense(output_dim, activation='softmax', name='output')(h)\n",
    "    model.compile(\n",
    "        optimizer='adam',\n",
    "        loss=\"categorical_crossentropy\",\n",
    "        metrics=tfa.metrics.F1Score(5),\n",
    "    )\n",
    "    return model\n",
    "\n",
    "\n",
    "tuner = kt.BayesianOptimization(build_model,\n",
    "                                objective=\"loss\",\n",
    "                                max_trials=10,\n",
    "                                overwrite=True,\n",
    "                                # directory='my_dir',\n",
    "                                project_name='BOW_MLP')\n",
    "ea = EarlyStopping(monitor='loss', mode='max',\n",
    "                   patience=2, restore_best_weights=True)\n",
    "\n",
    "tuner.search(preproc_X_train.toarray(), y_train_ohe.toarray(), epochs=10,\n",
    "             validation_split=0.1,\n",
    "             callbacks=[ea])\n"
   ]
  },
  {
   "cell_type": "code",
   "execution_count": 22,
   "metadata": {},
   "outputs": [
    {
     "name": "stdout",
     "output_type": "stream",
     "text": [
      "141/141 [==============================] - 3s 16ms/step - loss: 0.0514 - f1_score: 0.9820 - val_loss: 0.1269 - val_f1_score: 0.9596\n"
     ]
    }
   ],
   "source": [
    "best_hp = tuner.get_best_hyperparameters()\n",
    "model = tuner.hypermodel.build(best_hp[0])\n",
    "H = model.fit(preproc_X_train.toarray(), y_train_ohe.toarray(),\n",
    "              validation_split=0.1, callbacks=[ea])"
   ]
  },
  {
   "cell_type": "code",
   "execution_count": 23,
   "metadata": {},
   "outputs": [
    {
     "data": {
      "text/plain": [
       "0      4\n",
       "1      4\n",
       "2      1\n",
       "3      1\n",
       "4      5\n",
       "      ..\n",
       "995    5\n",
       "996    4\n",
       "997    5\n",
       "998    5\n",
       "999    1\n",
       "Name: Rating, Length: 1000, dtype: int64"
      ]
     },
     "execution_count": 23,
     "metadata": {},
     "output_type": "execute_result"
    }
   ],
   "source": [
    "# evaluate the network\n",
    "pred_proba = model.predict(preproc_X_test.toarray())\n",
    "y_pred_tuned_MLP = pred_proba.argmax(axis=1)+1\n",
    "y_test"
   ]
  },
  {
   "cell_type": "code",
   "execution_count": 24,
   "metadata": {},
   "outputs": [
    {
     "name": "stdout",
     "output_type": "stream",
     "text": [
      "Logistic Regression best score: 0.6363\n",
      "Initial MLP best score: 0.5925\n",
      "Tuned MLP best score: 0.6025\n"
     ]
    }
   ],
   "source": [
    "mlp_tuned_score = f1_score(y_test, y_pred_tuned_MLP, average=\"weighted\")\n",
    "\n",
    "print(f\"Logistic Regression best score: {round(log_reg_score, 4)}\")\n",
    "print(f\"Initial MLP best score: {round(mlp_initial_score, 4)}\")\n",
    "print(f\"Tuned MLP best score: {round(mlp_tuned_score, 4)}\")"
   ]
  }
 ],
 "metadata": {
  "colab": {
   "collapsed_sections": [],
   "name": "Copie de 02-notebook-NLP-sentiment-analysis-with-MLP-AC-Students.ipynb",
   "provenance": [],
   "toc_visible": true
  },
  "kernelspec": {
   "display_name": "Python 3 (ipykernel)",
   "language": "python",
   "name": "python3"
  },
  "language_info": {
   "codemirror_mode": {
    "name": "ipython",
    "version": 3
   },
   "file_extension": ".py",
   "mimetype": "text/x-python",
   "name": "python",
   "nbconvert_exporter": "python",
   "pygments_lexer": "ipython3",
   "version": "3.9.10"
  },
  "latex_envs": {
   "LaTeX_envs_menu_present": true,
   "autoclose": true,
   "autocomplete": true,
   "bibliofile": "biblio.bib",
   "cite_by": "apalike",
   "current_citInitial": 1,
   "eqLabelWithNumbers": true,
   "eqNumInitial": 1,
   "hotkeys": {
    "equation": "Ctrl-E",
    "itemize": "Ctrl-I"
   },
   "labels_anchors": false,
   "latex_user_defs": false,
   "report_style_numbering": false,
   "user_envs_cfg": false
  },
  "nbTranslate": {
   "displayLangs": [
    "*"
   ],
   "hotkey": "alt-t",
   "langInMainMenu": true,
   "sourceLang": "en",
   "targetLang": "fr",
   "useGoogleTranslate": true
  },
  "toc": {
   "base_numbering": 1,
   "nav_menu": {},
   "number_sections": true,
   "sideBar": true,
   "skip_h1_title": true,
   "title_cell": "Table of Contents",
   "title_sidebar": "Contents",
   "toc_cell": true,
   "toc_position": {},
   "toc_section_display": true,
   "toc_window_display": false
  }
 },
 "nbformat": 4,
 "nbformat_minor": 1
}

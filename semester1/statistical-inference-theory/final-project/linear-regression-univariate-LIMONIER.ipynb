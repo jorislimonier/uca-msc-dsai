{
 "cells": [
  {
   "cell_type": "markdown",
   "metadata": {},
   "source": [
    "# Linear regression : project\n",
    "**Joris, Shan, André LIMONIER**\n",
    "\n",
    "<br>\n",
    "\n",
    "The linear model is one of the most used model in statistics to find a link between a response variable and explanatory ones.\\\n",
    "We are looking this model more in details in the sense that I am giving to you a data set and you are trying to answer to some demands.\n",
    "\n",
    "Our aim is to focus onto the prediction for new observations and to quantify in some sense the accuracy of it.\n",
    "\n",
    "1. So, you split the dataset in two parts at random, a first one named training set and a second one named validation set.\n",
    "2. Thanks to the training set, estimate the parameters of the linear model, at first by using all the explanatory variables.\n",
    "3. Then, let consider the validation set.\n",
    "   1. For each individual of it, compute the associated prediction with the model build previously.\n",
    "   2. You can compute the test error associated to this validation set.\n",
    "4. Make several splittings in two parts to compare this test error.\n",
    "   1. And each time, compare it to the training error.\n",
    "   2. Which error is better and why?\n",
    "5. Now, give the confidence interval for the observation of the response variable associated to a new individual for who we now the values of the explanatory variables.\n",
    "6. What are the assumptions needed to compute this confidence interval and how to see if they are satisfied in practice?\n",
    "7. Now, try to identify the explanatory variables that are really needed to obtain correct prediction.\n"
   ]
  },
  {
   "cell_type": "code",
   "execution_count": 1,
   "metadata": {},
   "outputs": [],
   "source": [
    "# data manipulation\n",
    "import numpy as np\n",
    "import pandas as pd\n",
    "from scipy import stats\n",
    "\n",
    "# plotting\n",
    "import plotly.express as px\n",
    "import plotly.figure_factory as ff\n",
    "\n",
    "# sklean imports\n",
    "from sklearn.linear_model import LinearRegression\n"
   ]
  },
  {
   "cell_type": "code",
   "execution_count": 2,
   "metadata": {},
   "outputs": [],
   "source": [
    "FILE_NAME1 = \"reg1.txt\"\n",
    "FILE_NAME2 = \"regm.txt\"\n",
    "\n",
    "df = pd.read_csv(\n",
    "    filepath_or_buffer=FILE_NAME1, # choose which dataset to use\n",
    "    header=None,\n",
    "    sep=\" \",\n",
    ")\n",
    "\n",
    "\n",
    "def rename_col(df):\n",
    "    \"\"\"\n",
    "    set the last column to \"target\" and the others to feat0, feat1, etc\n",
    "    \"\"\"\n",
    "    n_col = len(df.columns)\n",
    "    df.columns = [f\"feat{i}\" for i in range(n_col - 1)] + [\"target\"]\n",
    "\n",
    "\n",
    "rename_col(df)\n"
   ]
  },
  {
   "cell_type": "markdown",
   "metadata": {},
   "source": [
    "## Question 1 ─ Train-test split\n"
   ]
  },
  {
   "cell_type": "code",
   "execution_count": 3,
   "metadata": {},
   "outputs": [],
   "source": [
    "def my_tt_split(X, y, train_size):\n",
    "    \"\"\"\n",
    "    define a custom and simplistic version of sklearn's `train_test_split`\n",
    "    \"\"\"\n",
    "\n",
    "    assert len(X) == len(y), print(\"X and y should have the same length\")\n",
    "\n",
    "    idx = np.arange(len(X))  # compute indices\n",
    "    np.random.shuffle(idx)  # shuffle indices\n",
    "    X_shuffled = X.values[idx]  # apply to X\n",
    "    y_shuffled = y.values[idx]  # apply to y\n",
    "\n",
    "    train_thresh = int(train_size * len(X))\n",
    "    X_train = X_shuffled[:train_thresh]\n",
    "    X_test = X_shuffled[train_thresh:]\n",
    "    y_train = y_shuffled[:train_thresh]\n",
    "    y_test = y_shuffled[train_thresh:]\n",
    "\n",
    "    X_train = pd.DataFrame(data=X_train, columns=X.columns)\n",
    "    X_test = pd.DataFrame(data=X_test, columns=X.columns)\n",
    "    y_train = pd.Series(data=y_train, name=\"target\")\n",
    "    y_test = pd.Series(data=y_test, name=\"target\")\n",
    "\n",
    "    return X_train, X_test, y_train, y_test\n"
   ]
  },
  {
   "cell_type": "code",
   "execution_count": 4,
   "metadata": {},
   "outputs": [
    {
     "data": {
      "text/plain": [
       "((40, 1), (10, 1), (40,), (10,))"
      ]
     },
     "execution_count": 4,
     "metadata": {},
     "output_type": "execute_result"
    }
   ],
   "source": [
    "X = df[df.columns[:-1]]\n",
    "y = df[\"target\"]\n",
    "\n",
    "X_train, X_test, y_train, y_test = my_tt_split(X, y, train_size=0.8)\n",
    "\n",
    "X_train.shape, X_test.shape, y_train.shape, y_test.shape"
   ]
  },
  {
   "cell_type": "markdown",
   "metadata": {},
   "source": [
    "We have to make train and test dataframes, because computing anything other than a prediction with the test data will result in data leakage.\n",
    "\n",
    "For instance, we will compute the correlation on the train data (between the features and the target variable), because computing it on the test data would be \"cheating\"."
   ]
  },
  {
   "cell_type": "code",
   "execution_count": 5,
   "metadata": {},
   "outputs": [],
   "source": [
    "# make train and test dataframes with X and y\n",
    "df_train = X_train.join(y_train)\n",
    "df_test = X_test.join(y_test)"
   ]
  },
  {
   "cell_type": "markdown",
   "metadata": {},
   "source": [
    "## Question 2 ─ Linear model (all variables)\n"
   ]
  },
  {
   "cell_type": "markdown",
   "metadata": {},
   "source": [
    "### Perform small EDA (Exploratory Data Analysis)\n"
   ]
  },
  {
   "cell_type": "code",
   "execution_count": 6,
   "metadata": {},
   "outputs": [
    {
     "data": {
      "application/vnd.plotly.v1+json": {
       "config": {
        "plotlyServerURL": "https://plot.ly"
       },
       "data": [
        {
         "showlegend": false,
         "type": "histogram",
         "x": [
          0.3715412,
          1.553344,
          1.921985,
          -2.172213,
          -2.579702,
          3.100526,
          2.513074,
          1.814575,
          -3.621557,
          9.913787,
          -1.41839,
          2.79586,
          8.188971,
          6.225591,
          -1.694651,
          6.982944,
          9.777086,
          9.846392,
          -1.535342,
          8.854539,
          7.247104,
          -2.172789,
          -0.6828004,
          0.8705309,
          -2.529858,
          3.15246,
          1.244526,
          -3.697206,
          5.03251,
          7.529251,
          -1.82164,
          8.920432,
          -0.7897045,
          6.391494,
          5.333232,
          6.310884,
          3.644512,
          -0.01125518,
          3.398397,
          -3.50435
         ],
         "xaxis": "x",
         "yaxis": "y"
        },
        {
         "marker": {
          "size": 3
         },
         "mode": "markers",
         "showlegend": false,
         "type": "scatter",
         "x": [
          -1.946317,
          -0.3814107,
          1.166683,
          -7.510011,
          -8.1904,
          2.818125,
          1.903251,
          0.9708459,
          -10.08002,
          16.34166,
          -6.564402,
          2.731745,
          13.61576,
          9.166293,
          -6.919548,
          10.45762,
          16.05825,
          17.05111,
          -6.289445,
          15.16996,
          11.8737,
          -7.28761,
          -4.247055,
          -1.215652,
          -8.38321,
          2.945882,
          -0.548,
          -10.02997,
          7.269838,
          11.96221,
          -7.248687,
          15.37735,
          -4.545888,
          9.6273,
          7.58266,
          9.540387,
          4.206361,
          -3.337461,
          4.274502,
          -10.169
         ],
         "xaxis": "x2",
         "y": [
          0.3715412,
          1.553344,
          1.921985,
          -2.172213,
          -2.579702,
          3.100526,
          2.513074,
          1.814575,
          -3.621557,
          9.913787,
          -1.41839,
          2.79586,
          8.188971,
          6.225591,
          -1.694651,
          6.982944,
          9.777086,
          9.846392,
          -1.535342,
          8.854539,
          7.247104,
          -2.172789,
          -0.6828004,
          0.8705309,
          -2.529858,
          3.15246,
          1.244526,
          -3.697206,
          5.03251,
          7.529251,
          -1.82164,
          8.920432,
          -0.7897045,
          6.391494,
          5.333232,
          6.310884,
          3.644512,
          -0.01125518,
          3.398397,
          -3.50435
         ],
         "yaxis": "y2"
        },
        {
         "marker": {
          "size": 3
         },
         "mode": "markers",
         "showlegend": false,
         "type": "scatter",
         "x": [
          0.3715412,
          1.553344,
          1.921985,
          -2.172213,
          -2.579702,
          3.100526,
          2.513074,
          1.814575,
          -3.621557,
          9.913787,
          -1.41839,
          2.79586,
          8.188971,
          6.225591,
          -1.694651,
          6.982944,
          9.777086,
          9.846392,
          -1.535342,
          8.854539,
          7.247104,
          -2.172789,
          -0.6828004,
          0.8705309,
          -2.529858,
          3.15246,
          1.244526,
          -3.697206,
          5.03251,
          7.529251,
          -1.82164,
          8.920432,
          -0.7897045,
          6.391494,
          5.333232,
          6.310884,
          3.644512,
          -0.01125518,
          3.398397,
          -3.50435
         ],
         "xaxis": "x3",
         "y": [
          -1.946317,
          -0.3814107,
          1.166683,
          -7.510011,
          -8.1904,
          2.818125,
          1.903251,
          0.9708459,
          -10.08002,
          16.34166,
          -6.564402,
          2.731745,
          13.61576,
          9.166293,
          -6.919548,
          10.45762,
          16.05825,
          17.05111,
          -6.289445,
          15.16996,
          11.8737,
          -7.28761,
          -4.247055,
          -1.215652,
          -8.38321,
          2.945882,
          -0.548,
          -10.02997,
          7.269838,
          11.96221,
          -7.248687,
          15.37735,
          -4.545888,
          9.6273,
          7.58266,
          9.540387,
          4.206361,
          -3.337461,
          4.274502,
          -10.169
         ],
         "yaxis": "y3"
        },
        {
         "showlegend": false,
         "type": "histogram",
         "x": [
          -1.946317,
          -0.3814107,
          1.166683,
          -7.510011,
          -8.1904,
          2.818125,
          1.903251,
          0.9708459,
          -10.08002,
          16.34166,
          -6.564402,
          2.731745,
          13.61576,
          9.166293,
          -6.919548,
          10.45762,
          16.05825,
          17.05111,
          -6.289445,
          15.16996,
          11.8737,
          -7.28761,
          -4.247055,
          -1.215652,
          -8.38321,
          2.945882,
          -0.548,
          -10.02997,
          7.269838,
          11.96221,
          -7.248687,
          15.37735,
          -4.545888,
          9.6273,
          7.58266,
          9.540387,
          4.206361,
          -3.337461,
          4.274502,
          -10.169
         ],
         "xaxis": "x4",
         "yaxis": "y4"
        }
       ],
       "layout": {
        "height": 800,
        "showlegend": true,
        "template": {
         "data": {
          "bar": [
           {
            "error_x": {
             "color": "#2a3f5f"
            },
            "error_y": {
             "color": "#2a3f5f"
            },
            "marker": {
             "line": {
              "color": "#E5ECF6",
              "width": 0.5
             },
             "pattern": {
              "fillmode": "overlay",
              "size": 10,
              "solidity": 0.2
             }
            },
            "type": "bar"
           }
          ],
          "barpolar": [
           {
            "marker": {
             "line": {
              "color": "#E5ECF6",
              "width": 0.5
             },
             "pattern": {
              "fillmode": "overlay",
              "size": 10,
              "solidity": 0.2
             }
            },
            "type": "barpolar"
           }
          ],
          "carpet": [
           {
            "aaxis": {
             "endlinecolor": "#2a3f5f",
             "gridcolor": "white",
             "linecolor": "white",
             "minorgridcolor": "white",
             "startlinecolor": "#2a3f5f"
            },
            "baxis": {
             "endlinecolor": "#2a3f5f",
             "gridcolor": "white",
             "linecolor": "white",
             "minorgridcolor": "white",
             "startlinecolor": "#2a3f5f"
            },
            "type": "carpet"
           }
          ],
          "choropleth": [
           {
            "colorbar": {
             "outlinewidth": 0,
             "ticks": ""
            },
            "type": "choropleth"
           }
          ],
          "contour": [
           {
            "colorbar": {
             "outlinewidth": 0,
             "ticks": ""
            },
            "colorscale": [
             [
              0,
              "#0d0887"
             ],
             [
              0.1111111111111111,
              "#46039f"
             ],
             [
              0.2222222222222222,
              "#7201a8"
             ],
             [
              0.3333333333333333,
              "#9c179e"
             ],
             [
              0.4444444444444444,
              "#bd3786"
             ],
             [
              0.5555555555555556,
              "#d8576b"
             ],
             [
              0.6666666666666666,
              "#ed7953"
             ],
             [
              0.7777777777777778,
              "#fb9f3a"
             ],
             [
              0.8888888888888888,
              "#fdca26"
             ],
             [
              1,
              "#f0f921"
             ]
            ],
            "type": "contour"
           }
          ],
          "contourcarpet": [
           {
            "colorbar": {
             "outlinewidth": 0,
             "ticks": ""
            },
            "type": "contourcarpet"
           }
          ],
          "heatmap": [
           {
            "colorbar": {
             "outlinewidth": 0,
             "ticks": ""
            },
            "colorscale": [
             [
              0,
              "#0d0887"
             ],
             [
              0.1111111111111111,
              "#46039f"
             ],
             [
              0.2222222222222222,
              "#7201a8"
             ],
             [
              0.3333333333333333,
              "#9c179e"
             ],
             [
              0.4444444444444444,
              "#bd3786"
             ],
             [
              0.5555555555555556,
              "#d8576b"
             ],
             [
              0.6666666666666666,
              "#ed7953"
             ],
             [
              0.7777777777777778,
              "#fb9f3a"
             ],
             [
              0.8888888888888888,
              "#fdca26"
             ],
             [
              1,
              "#f0f921"
             ]
            ],
            "type": "heatmap"
           }
          ],
          "heatmapgl": [
           {
            "colorbar": {
             "outlinewidth": 0,
             "ticks": ""
            },
            "colorscale": [
             [
              0,
              "#0d0887"
             ],
             [
              0.1111111111111111,
              "#46039f"
             ],
             [
              0.2222222222222222,
              "#7201a8"
             ],
             [
              0.3333333333333333,
              "#9c179e"
             ],
             [
              0.4444444444444444,
              "#bd3786"
             ],
             [
              0.5555555555555556,
              "#d8576b"
             ],
             [
              0.6666666666666666,
              "#ed7953"
             ],
             [
              0.7777777777777778,
              "#fb9f3a"
             ],
             [
              0.8888888888888888,
              "#fdca26"
             ],
             [
              1,
              "#f0f921"
             ]
            ],
            "type": "heatmapgl"
           }
          ],
          "histogram": [
           {
            "marker": {
             "pattern": {
              "fillmode": "overlay",
              "size": 10,
              "solidity": 0.2
             }
            },
            "type": "histogram"
           }
          ],
          "histogram2d": [
           {
            "colorbar": {
             "outlinewidth": 0,
             "ticks": ""
            },
            "colorscale": [
             [
              0,
              "#0d0887"
             ],
             [
              0.1111111111111111,
              "#46039f"
             ],
             [
              0.2222222222222222,
              "#7201a8"
             ],
             [
              0.3333333333333333,
              "#9c179e"
             ],
             [
              0.4444444444444444,
              "#bd3786"
             ],
             [
              0.5555555555555556,
              "#d8576b"
             ],
             [
              0.6666666666666666,
              "#ed7953"
             ],
             [
              0.7777777777777778,
              "#fb9f3a"
             ],
             [
              0.8888888888888888,
              "#fdca26"
             ],
             [
              1,
              "#f0f921"
             ]
            ],
            "type": "histogram2d"
           }
          ],
          "histogram2dcontour": [
           {
            "colorbar": {
             "outlinewidth": 0,
             "ticks": ""
            },
            "colorscale": [
             [
              0,
              "#0d0887"
             ],
             [
              0.1111111111111111,
              "#46039f"
             ],
             [
              0.2222222222222222,
              "#7201a8"
             ],
             [
              0.3333333333333333,
              "#9c179e"
             ],
             [
              0.4444444444444444,
              "#bd3786"
             ],
             [
              0.5555555555555556,
              "#d8576b"
             ],
             [
              0.6666666666666666,
              "#ed7953"
             ],
             [
              0.7777777777777778,
              "#fb9f3a"
             ],
             [
              0.8888888888888888,
              "#fdca26"
             ],
             [
              1,
              "#f0f921"
             ]
            ],
            "type": "histogram2dcontour"
           }
          ],
          "mesh3d": [
           {
            "colorbar": {
             "outlinewidth": 0,
             "ticks": ""
            },
            "type": "mesh3d"
           }
          ],
          "parcoords": [
           {
            "line": {
             "colorbar": {
              "outlinewidth": 0,
              "ticks": ""
             }
            },
            "type": "parcoords"
           }
          ],
          "pie": [
           {
            "automargin": true,
            "type": "pie"
           }
          ],
          "scatter": [
           {
            "marker": {
             "colorbar": {
              "outlinewidth": 0,
              "ticks": ""
             }
            },
            "type": "scatter"
           }
          ],
          "scatter3d": [
           {
            "line": {
             "colorbar": {
              "outlinewidth": 0,
              "ticks": ""
             }
            },
            "marker": {
             "colorbar": {
              "outlinewidth": 0,
              "ticks": ""
             }
            },
            "type": "scatter3d"
           }
          ],
          "scattercarpet": [
           {
            "marker": {
             "colorbar": {
              "outlinewidth": 0,
              "ticks": ""
             }
            },
            "type": "scattercarpet"
           }
          ],
          "scattergeo": [
           {
            "marker": {
             "colorbar": {
              "outlinewidth": 0,
              "ticks": ""
             }
            },
            "type": "scattergeo"
           }
          ],
          "scattergl": [
           {
            "marker": {
             "colorbar": {
              "outlinewidth": 0,
              "ticks": ""
             }
            },
            "type": "scattergl"
           }
          ],
          "scattermapbox": [
           {
            "marker": {
             "colorbar": {
              "outlinewidth": 0,
              "ticks": ""
             }
            },
            "type": "scattermapbox"
           }
          ],
          "scatterpolar": [
           {
            "marker": {
             "colorbar": {
              "outlinewidth": 0,
              "ticks": ""
             }
            },
            "type": "scatterpolar"
           }
          ],
          "scatterpolargl": [
           {
            "marker": {
             "colorbar": {
              "outlinewidth": 0,
              "ticks": ""
             }
            },
            "type": "scatterpolargl"
           }
          ],
          "scatterternary": [
           {
            "marker": {
             "colorbar": {
              "outlinewidth": 0,
              "ticks": ""
             }
            },
            "type": "scatterternary"
           }
          ],
          "surface": [
           {
            "colorbar": {
             "outlinewidth": 0,
             "ticks": ""
            },
            "colorscale": [
             [
              0,
              "#0d0887"
             ],
             [
              0.1111111111111111,
              "#46039f"
             ],
             [
              0.2222222222222222,
              "#7201a8"
             ],
             [
              0.3333333333333333,
              "#9c179e"
             ],
             [
              0.4444444444444444,
              "#bd3786"
             ],
             [
              0.5555555555555556,
              "#d8576b"
             ],
             [
              0.6666666666666666,
              "#ed7953"
             ],
             [
              0.7777777777777778,
              "#fb9f3a"
             ],
             [
              0.8888888888888888,
              "#fdca26"
             ],
             [
              1,
              "#f0f921"
             ]
            ],
            "type": "surface"
           }
          ],
          "table": [
           {
            "cells": {
             "fill": {
              "color": "#EBF0F8"
             },
             "line": {
              "color": "white"
             }
            },
            "header": {
             "fill": {
              "color": "#C8D4E3"
             },
             "line": {
              "color": "white"
             }
            },
            "type": "table"
           }
          ]
         },
         "layout": {
          "annotationdefaults": {
           "arrowcolor": "#2a3f5f",
           "arrowhead": 0,
           "arrowwidth": 1
          },
          "autotypenumbers": "strict",
          "coloraxis": {
           "colorbar": {
            "outlinewidth": 0,
            "ticks": ""
           }
          },
          "colorscale": {
           "diverging": [
            [
             0,
             "#8e0152"
            ],
            [
             0.1,
             "#c51b7d"
            ],
            [
             0.2,
             "#de77ae"
            ],
            [
             0.3,
             "#f1b6da"
            ],
            [
             0.4,
             "#fde0ef"
            ],
            [
             0.5,
             "#f7f7f7"
            ],
            [
             0.6,
             "#e6f5d0"
            ],
            [
             0.7,
             "#b8e186"
            ],
            [
             0.8,
             "#7fbc41"
            ],
            [
             0.9,
             "#4d9221"
            ],
            [
             1,
             "#276419"
            ]
           ],
           "sequential": [
            [
             0,
             "#0d0887"
            ],
            [
             0.1111111111111111,
             "#46039f"
            ],
            [
             0.2222222222222222,
             "#7201a8"
            ],
            [
             0.3333333333333333,
             "#9c179e"
            ],
            [
             0.4444444444444444,
             "#bd3786"
            ],
            [
             0.5555555555555556,
             "#d8576b"
            ],
            [
             0.6666666666666666,
             "#ed7953"
            ],
            [
             0.7777777777777778,
             "#fb9f3a"
            ],
            [
             0.8888888888888888,
             "#fdca26"
            ],
            [
             1,
             "#f0f921"
            ]
           ],
           "sequentialminus": [
            [
             0,
             "#0d0887"
            ],
            [
             0.1111111111111111,
             "#46039f"
            ],
            [
             0.2222222222222222,
             "#7201a8"
            ],
            [
             0.3333333333333333,
             "#9c179e"
            ],
            [
             0.4444444444444444,
             "#bd3786"
            ],
            [
             0.5555555555555556,
             "#d8576b"
            ],
            [
             0.6666666666666666,
             "#ed7953"
            ],
            [
             0.7777777777777778,
             "#fb9f3a"
            ],
            [
             0.8888888888888888,
             "#fdca26"
            ],
            [
             1,
             "#f0f921"
            ]
           ]
          },
          "colorway": [
           "#636efa",
           "#EF553B",
           "#00cc96",
           "#ab63fa",
           "#FFA15A",
           "#19d3f3",
           "#FF6692",
           "#B6E880",
           "#FF97FF",
           "#FECB52"
          ],
          "font": {
           "color": "#2a3f5f"
          },
          "geo": {
           "bgcolor": "white",
           "lakecolor": "white",
           "landcolor": "#E5ECF6",
           "showlakes": true,
           "showland": true,
           "subunitcolor": "white"
          },
          "hoverlabel": {
           "align": "left"
          },
          "hovermode": "closest",
          "mapbox": {
           "style": "light"
          },
          "paper_bgcolor": "white",
          "plot_bgcolor": "#E5ECF6",
          "polar": {
           "angularaxis": {
            "gridcolor": "white",
            "linecolor": "white",
            "ticks": ""
           },
           "bgcolor": "#E5ECF6",
           "radialaxis": {
            "gridcolor": "white",
            "linecolor": "white",
            "ticks": ""
           }
          },
          "scene": {
           "xaxis": {
            "backgroundcolor": "#E5ECF6",
            "gridcolor": "white",
            "gridwidth": 2,
            "linecolor": "white",
            "showbackground": true,
            "ticks": "",
            "zerolinecolor": "white"
           },
           "yaxis": {
            "backgroundcolor": "#E5ECF6",
            "gridcolor": "white",
            "gridwidth": 2,
            "linecolor": "white",
            "showbackground": true,
            "ticks": "",
            "zerolinecolor": "white"
           },
           "zaxis": {
            "backgroundcolor": "#E5ECF6",
            "gridcolor": "white",
            "gridwidth": 2,
            "linecolor": "white",
            "showbackground": true,
            "ticks": "",
            "zerolinecolor": "white"
           }
          },
          "shapedefaults": {
           "line": {
            "color": "#2a3f5f"
           }
          },
          "ternary": {
           "aaxis": {
            "gridcolor": "white",
            "linecolor": "white",
            "ticks": ""
           },
           "baxis": {
            "gridcolor": "white",
            "linecolor": "white",
            "ticks": ""
           },
           "bgcolor": "#E5ECF6",
           "caxis": {
            "gridcolor": "white",
            "linecolor": "white",
            "ticks": ""
           }
          },
          "title": {
           "x": 0.05
          },
          "xaxis": {
           "automargin": true,
           "gridcolor": "white",
           "linecolor": "white",
           "ticks": "",
           "title": {
            "standoff": 15
           },
           "zerolinecolor": "white",
           "zerolinewidth": 2
          },
          "yaxis": {
           "automargin": true,
           "gridcolor": "white",
           "linecolor": "white",
           "ticks": "",
           "title": {
            "standoff": 15
           },
           "zerolinecolor": "white",
           "zerolinewidth": 2
          }
         }
        },
        "title": {
         "text": "Scatterplot Matrix"
        },
        "width": 800,
        "xaxis": {
         "anchor": "y",
         "domain": [
          0,
          0.45
         ]
        },
        "xaxis2": {
         "anchor": "y2",
         "domain": [
          0.55,
          1
         ]
        },
        "xaxis3": {
         "anchor": "y3",
         "domain": [
          0,
          0.45
         ],
         "title": {
          "text": "feat0"
         }
        },
        "xaxis4": {
         "anchor": "y4",
         "domain": [
          0.55,
          1
         ],
         "title": {
          "text": "target"
         }
        },
        "yaxis": {
         "anchor": "x",
         "domain": [
          0.575,
          1
         ],
         "title": {
          "text": "feat0"
         }
        },
        "yaxis2": {
         "anchor": "x2",
         "domain": [
          0.575,
          1
         ]
        },
        "yaxis3": {
         "anchor": "x3",
         "domain": [
          0,
          0.425
         ],
         "title": {
          "text": "target"
         }
        },
        "yaxis4": {
         "anchor": "x4",
         "domain": [
          0,
          0.425
         ]
        }
       }
      }
     },
     "metadata": {},
     "output_type": "display_data"
    }
   ],
   "source": [
    "ff.create_scatterplotmatrix(\n",
    "    df=df_train,\n",
    "    diag=\"histogram\",\n",
    "    # index=\"target\",\n",
    "    size=3,\n",
    "    colormap_type=\"cat\",\n",
    "    width=800,\n",
    "    height=800,\n",
    ")\n"
   ]
  },
  {
   "cell_type": "code",
   "execution_count": 7,
   "metadata": {},
   "outputs": [
    {
     "name": "stdout",
     "output_type": "stream",
     "text": [
      "Correlation matrix heatmap\n"
     ]
    },
    {
     "data": {
      "application/vnd.plotly.v1+json": {
       "config": {
        "plotlyServerURL": "https://plot.ly"
       },
       "data": [
        {
         "colorscale": [
          [
           0,
           "rgb(255,0,0)"
          ],
          [
           1,
           "rgb(0,0,255)"
          ]
         ],
         "reversescale": false,
         "showscale": true,
         "type": "heatmap",
         "x": [
          "feat0",
          "target"
         ],
         "y": [
          "feat0",
          "target"
         ],
         "z": [
          [
           1,
           0.9993
          ],
          [
           0.9993,
           1
          ]
         ]
        }
       ],
       "layout": {
        "annotations": [
         {
          "font": {
           "color": "#FFFFFF"
          },
          "showarrow": false,
          "text": "1.0",
          "x": "feat0",
          "xref": "x",
          "y": "feat0",
          "yref": "y"
         },
         {
          "font": {
           "color": "#FFFFFF"
          },
          "showarrow": false,
          "text": "0.9993",
          "x": "target",
          "xref": "x",
          "y": "feat0",
          "yref": "y"
         },
         {
          "font": {
           "color": "#FFFFFF"
          },
          "showarrow": false,
          "text": "0.9993",
          "x": "feat0",
          "xref": "x",
          "y": "target",
          "yref": "y"
         },
         {
          "font": {
           "color": "#FFFFFF"
          },
          "showarrow": false,
          "text": "1.0",
          "x": "target",
          "xref": "x",
          "y": "target",
          "yref": "y"
         }
        ],
        "template": {
         "data": {
          "bar": [
           {
            "error_x": {
             "color": "#2a3f5f"
            },
            "error_y": {
             "color": "#2a3f5f"
            },
            "marker": {
             "line": {
              "color": "#E5ECF6",
              "width": 0.5
             },
             "pattern": {
              "fillmode": "overlay",
              "size": 10,
              "solidity": 0.2
             }
            },
            "type": "bar"
           }
          ],
          "barpolar": [
           {
            "marker": {
             "line": {
              "color": "#E5ECF6",
              "width": 0.5
             },
             "pattern": {
              "fillmode": "overlay",
              "size": 10,
              "solidity": 0.2
             }
            },
            "type": "barpolar"
           }
          ],
          "carpet": [
           {
            "aaxis": {
             "endlinecolor": "#2a3f5f",
             "gridcolor": "white",
             "linecolor": "white",
             "minorgridcolor": "white",
             "startlinecolor": "#2a3f5f"
            },
            "baxis": {
             "endlinecolor": "#2a3f5f",
             "gridcolor": "white",
             "linecolor": "white",
             "minorgridcolor": "white",
             "startlinecolor": "#2a3f5f"
            },
            "type": "carpet"
           }
          ],
          "choropleth": [
           {
            "colorbar": {
             "outlinewidth": 0,
             "ticks": ""
            },
            "type": "choropleth"
           }
          ],
          "contour": [
           {
            "colorbar": {
             "outlinewidth": 0,
             "ticks": ""
            },
            "colorscale": [
             [
              0,
              "#0d0887"
             ],
             [
              0.1111111111111111,
              "#46039f"
             ],
             [
              0.2222222222222222,
              "#7201a8"
             ],
             [
              0.3333333333333333,
              "#9c179e"
             ],
             [
              0.4444444444444444,
              "#bd3786"
             ],
             [
              0.5555555555555556,
              "#d8576b"
             ],
             [
              0.6666666666666666,
              "#ed7953"
             ],
             [
              0.7777777777777778,
              "#fb9f3a"
             ],
             [
              0.8888888888888888,
              "#fdca26"
             ],
             [
              1,
              "#f0f921"
             ]
            ],
            "type": "contour"
           }
          ],
          "contourcarpet": [
           {
            "colorbar": {
             "outlinewidth": 0,
             "ticks": ""
            },
            "type": "contourcarpet"
           }
          ],
          "heatmap": [
           {
            "colorbar": {
             "outlinewidth": 0,
             "ticks": ""
            },
            "colorscale": [
             [
              0,
              "#0d0887"
             ],
             [
              0.1111111111111111,
              "#46039f"
             ],
             [
              0.2222222222222222,
              "#7201a8"
             ],
             [
              0.3333333333333333,
              "#9c179e"
             ],
             [
              0.4444444444444444,
              "#bd3786"
             ],
             [
              0.5555555555555556,
              "#d8576b"
             ],
             [
              0.6666666666666666,
              "#ed7953"
             ],
             [
              0.7777777777777778,
              "#fb9f3a"
             ],
             [
              0.8888888888888888,
              "#fdca26"
             ],
             [
              1,
              "#f0f921"
             ]
            ],
            "type": "heatmap"
           }
          ],
          "heatmapgl": [
           {
            "colorbar": {
             "outlinewidth": 0,
             "ticks": ""
            },
            "colorscale": [
             [
              0,
              "#0d0887"
             ],
             [
              0.1111111111111111,
              "#46039f"
             ],
             [
              0.2222222222222222,
              "#7201a8"
             ],
             [
              0.3333333333333333,
              "#9c179e"
             ],
             [
              0.4444444444444444,
              "#bd3786"
             ],
             [
              0.5555555555555556,
              "#d8576b"
             ],
             [
              0.6666666666666666,
              "#ed7953"
             ],
             [
              0.7777777777777778,
              "#fb9f3a"
             ],
             [
              0.8888888888888888,
              "#fdca26"
             ],
             [
              1,
              "#f0f921"
             ]
            ],
            "type": "heatmapgl"
           }
          ],
          "histogram": [
           {
            "marker": {
             "pattern": {
              "fillmode": "overlay",
              "size": 10,
              "solidity": 0.2
             }
            },
            "type": "histogram"
           }
          ],
          "histogram2d": [
           {
            "colorbar": {
             "outlinewidth": 0,
             "ticks": ""
            },
            "colorscale": [
             [
              0,
              "#0d0887"
             ],
             [
              0.1111111111111111,
              "#46039f"
             ],
             [
              0.2222222222222222,
              "#7201a8"
             ],
             [
              0.3333333333333333,
              "#9c179e"
             ],
             [
              0.4444444444444444,
              "#bd3786"
             ],
             [
              0.5555555555555556,
              "#d8576b"
             ],
             [
              0.6666666666666666,
              "#ed7953"
             ],
             [
              0.7777777777777778,
              "#fb9f3a"
             ],
             [
              0.8888888888888888,
              "#fdca26"
             ],
             [
              1,
              "#f0f921"
             ]
            ],
            "type": "histogram2d"
           }
          ],
          "histogram2dcontour": [
           {
            "colorbar": {
             "outlinewidth": 0,
             "ticks": ""
            },
            "colorscale": [
             [
              0,
              "#0d0887"
             ],
             [
              0.1111111111111111,
              "#46039f"
             ],
             [
              0.2222222222222222,
              "#7201a8"
             ],
             [
              0.3333333333333333,
              "#9c179e"
             ],
             [
              0.4444444444444444,
              "#bd3786"
             ],
             [
              0.5555555555555556,
              "#d8576b"
             ],
             [
              0.6666666666666666,
              "#ed7953"
             ],
             [
              0.7777777777777778,
              "#fb9f3a"
             ],
             [
              0.8888888888888888,
              "#fdca26"
             ],
             [
              1,
              "#f0f921"
             ]
            ],
            "type": "histogram2dcontour"
           }
          ],
          "mesh3d": [
           {
            "colorbar": {
             "outlinewidth": 0,
             "ticks": ""
            },
            "type": "mesh3d"
           }
          ],
          "parcoords": [
           {
            "line": {
             "colorbar": {
              "outlinewidth": 0,
              "ticks": ""
             }
            },
            "type": "parcoords"
           }
          ],
          "pie": [
           {
            "automargin": true,
            "type": "pie"
           }
          ],
          "scatter": [
           {
            "marker": {
             "colorbar": {
              "outlinewidth": 0,
              "ticks": ""
             }
            },
            "type": "scatter"
           }
          ],
          "scatter3d": [
           {
            "line": {
             "colorbar": {
              "outlinewidth": 0,
              "ticks": ""
             }
            },
            "marker": {
             "colorbar": {
              "outlinewidth": 0,
              "ticks": ""
             }
            },
            "type": "scatter3d"
           }
          ],
          "scattercarpet": [
           {
            "marker": {
             "colorbar": {
              "outlinewidth": 0,
              "ticks": ""
             }
            },
            "type": "scattercarpet"
           }
          ],
          "scattergeo": [
           {
            "marker": {
             "colorbar": {
              "outlinewidth": 0,
              "ticks": ""
             }
            },
            "type": "scattergeo"
           }
          ],
          "scattergl": [
           {
            "marker": {
             "colorbar": {
              "outlinewidth": 0,
              "ticks": ""
             }
            },
            "type": "scattergl"
           }
          ],
          "scattermapbox": [
           {
            "marker": {
             "colorbar": {
              "outlinewidth": 0,
              "ticks": ""
             }
            },
            "type": "scattermapbox"
           }
          ],
          "scatterpolar": [
           {
            "marker": {
             "colorbar": {
              "outlinewidth": 0,
              "ticks": ""
             }
            },
            "type": "scatterpolar"
           }
          ],
          "scatterpolargl": [
           {
            "marker": {
             "colorbar": {
              "outlinewidth": 0,
              "ticks": ""
             }
            },
            "type": "scatterpolargl"
           }
          ],
          "scatterternary": [
           {
            "marker": {
             "colorbar": {
              "outlinewidth": 0,
              "ticks": ""
             }
            },
            "type": "scatterternary"
           }
          ],
          "surface": [
           {
            "colorbar": {
             "outlinewidth": 0,
             "ticks": ""
            },
            "colorscale": [
             [
              0,
              "#0d0887"
             ],
             [
              0.1111111111111111,
              "#46039f"
             ],
             [
              0.2222222222222222,
              "#7201a8"
             ],
             [
              0.3333333333333333,
              "#9c179e"
             ],
             [
              0.4444444444444444,
              "#bd3786"
             ],
             [
              0.5555555555555556,
              "#d8576b"
             ],
             [
              0.6666666666666666,
              "#ed7953"
             ],
             [
              0.7777777777777778,
              "#fb9f3a"
             ],
             [
              0.8888888888888888,
              "#fdca26"
             ],
             [
              1,
              "#f0f921"
             ]
            ],
            "type": "surface"
           }
          ],
          "table": [
           {
            "cells": {
             "fill": {
              "color": "#EBF0F8"
             },
             "line": {
              "color": "white"
             }
            },
            "header": {
             "fill": {
              "color": "#C8D4E3"
             },
             "line": {
              "color": "white"
             }
            },
            "type": "table"
           }
          ]
         },
         "layout": {
          "annotationdefaults": {
           "arrowcolor": "#2a3f5f",
           "arrowhead": 0,
           "arrowwidth": 1
          },
          "autotypenumbers": "strict",
          "coloraxis": {
           "colorbar": {
            "outlinewidth": 0,
            "ticks": ""
           }
          },
          "colorscale": {
           "diverging": [
            [
             0,
             "#8e0152"
            ],
            [
             0.1,
             "#c51b7d"
            ],
            [
             0.2,
             "#de77ae"
            ],
            [
             0.3,
             "#f1b6da"
            ],
            [
             0.4,
             "#fde0ef"
            ],
            [
             0.5,
             "#f7f7f7"
            ],
            [
             0.6,
             "#e6f5d0"
            ],
            [
             0.7,
             "#b8e186"
            ],
            [
             0.8,
             "#7fbc41"
            ],
            [
             0.9,
             "#4d9221"
            ],
            [
             1,
             "#276419"
            ]
           ],
           "sequential": [
            [
             0,
             "#0d0887"
            ],
            [
             0.1111111111111111,
             "#46039f"
            ],
            [
             0.2222222222222222,
             "#7201a8"
            ],
            [
             0.3333333333333333,
             "#9c179e"
            ],
            [
             0.4444444444444444,
             "#bd3786"
            ],
            [
             0.5555555555555556,
             "#d8576b"
            ],
            [
             0.6666666666666666,
             "#ed7953"
            ],
            [
             0.7777777777777778,
             "#fb9f3a"
            ],
            [
             0.8888888888888888,
             "#fdca26"
            ],
            [
             1,
             "#f0f921"
            ]
           ],
           "sequentialminus": [
            [
             0,
             "#0d0887"
            ],
            [
             0.1111111111111111,
             "#46039f"
            ],
            [
             0.2222222222222222,
             "#7201a8"
            ],
            [
             0.3333333333333333,
             "#9c179e"
            ],
            [
             0.4444444444444444,
             "#bd3786"
            ],
            [
             0.5555555555555556,
             "#d8576b"
            ],
            [
             0.6666666666666666,
             "#ed7953"
            ],
            [
             0.7777777777777778,
             "#fb9f3a"
            ],
            [
             0.8888888888888888,
             "#fdca26"
            ],
            [
             1,
             "#f0f921"
            ]
           ]
          },
          "colorway": [
           "#636efa",
           "#EF553B",
           "#00cc96",
           "#ab63fa",
           "#FFA15A",
           "#19d3f3",
           "#FF6692",
           "#B6E880",
           "#FF97FF",
           "#FECB52"
          ],
          "font": {
           "color": "#2a3f5f"
          },
          "geo": {
           "bgcolor": "white",
           "lakecolor": "white",
           "landcolor": "#E5ECF6",
           "showlakes": true,
           "showland": true,
           "subunitcolor": "white"
          },
          "hoverlabel": {
           "align": "left"
          },
          "hovermode": "closest",
          "mapbox": {
           "style": "light"
          },
          "paper_bgcolor": "white",
          "plot_bgcolor": "#E5ECF6",
          "polar": {
           "angularaxis": {
            "gridcolor": "white",
            "linecolor": "white",
            "ticks": ""
           },
           "bgcolor": "#E5ECF6",
           "radialaxis": {
            "gridcolor": "white",
            "linecolor": "white",
            "ticks": ""
           }
          },
          "scene": {
           "xaxis": {
            "backgroundcolor": "#E5ECF6",
            "gridcolor": "white",
            "gridwidth": 2,
            "linecolor": "white",
            "showbackground": true,
            "ticks": "",
            "zerolinecolor": "white"
           },
           "yaxis": {
            "backgroundcolor": "#E5ECF6",
            "gridcolor": "white",
            "gridwidth": 2,
            "linecolor": "white",
            "showbackground": true,
            "ticks": "",
            "zerolinecolor": "white"
           },
           "zaxis": {
            "backgroundcolor": "#E5ECF6",
            "gridcolor": "white",
            "gridwidth": 2,
            "linecolor": "white",
            "showbackground": true,
            "ticks": "",
            "zerolinecolor": "white"
           }
          },
          "shapedefaults": {
           "line": {
            "color": "#2a3f5f"
           }
          },
          "ternary": {
           "aaxis": {
            "gridcolor": "white",
            "linecolor": "white",
            "ticks": ""
           },
           "baxis": {
            "gridcolor": "white",
            "linecolor": "white",
            "ticks": ""
           },
           "bgcolor": "#E5ECF6",
           "caxis": {
            "gridcolor": "white",
            "linecolor": "white",
            "ticks": ""
           }
          },
          "title": {
           "x": 0.05
          },
          "xaxis": {
           "automargin": true,
           "gridcolor": "white",
           "linecolor": "white",
           "ticks": "",
           "title": {
            "standoff": 15
           },
           "zerolinecolor": "white",
           "zerolinewidth": 2
          },
          "yaxis": {
           "automargin": true,
           "gridcolor": "white",
           "linecolor": "white",
           "ticks": "",
           "title": {
            "standoff": 15
           },
           "zerolinecolor": "white",
           "zerolinewidth": 2
          }
         }
        },
        "xaxis": {
         "dtick": 1,
         "gridcolor": "rgb(0, 0, 0)",
         "side": "top",
         "ticks": ""
        },
        "yaxis": {
         "dtick": 1,
         "ticks": "",
         "ticksuffix": "  "
        }
       }
      }
     },
     "metadata": {},
     "output_type": "display_data"
    }
   ],
   "source": [
    "corr = df_train.corr().round(4)\n",
    "\n",
    "print(\"Correlation matrix heatmap\")\n",
    "ff.create_annotated_heatmap(\n",
    "    z=corr.values,\n",
    "    x=list(corr.index),\n",
    "    y=list(corr.columns),\n",
    "    showscale=True,\n",
    "    colorscale=px.colors.sequential.Bluered_r,\n",
    ")\n"
   ]
  },
  {
   "cell_type": "code",
   "execution_count": 8,
   "metadata": {},
   "outputs": [
    {
     "data": {
      "text/plain": [
       "LinearRegression()"
      ]
     },
     "execution_count": 8,
     "metadata": {},
     "output_type": "execute_result"
    }
   ],
   "source": [
    "lr = LinearRegression()\n",
    "lr.fit(X_train, y_train)\n"
   ]
  },
  {
   "cell_type": "markdown",
   "metadata": {},
   "source": [
    "## Question 3 ─ Predict and evaluate\n"
   ]
  },
  {
   "cell_type": "markdown",
   "metadata": {},
   "source": [
    "### Predict\n"
   ]
  },
  {
   "cell_type": "code",
   "execution_count": 9,
   "metadata": {},
   "outputs": [
    {
     "data": {
      "application/vnd.plotly.v1+json": {
       "config": {
        "plotlyServerURL": "https://plot.ly"
       },
       "data": [
        {
         "hovertemplate": "variable=true_values<br>index=%{x}<br>value=%{y}<extra></extra>",
         "legendgroup": "true_values",
         "marker": {
          "color": "#636efa",
          "symbol": "circle"
         },
         "mode": "markers",
         "name": "true_values",
         "orientation": "v",
         "showlegend": true,
         "type": "scatter",
         "x": [
          0,
          1,
          2,
          3,
          4,
          5,
          6,
          7,
          8,
          9
         ],
         "xaxis": "x",
         "y": [
          4.067918,
          9.023818,
          10.88437,
          6.269199,
          -3.74712,
          3.974214,
          -10.37645,
          4.552022,
          7.114825,
          -4.314618
         ],
         "yaxis": "y"
        },
        {
         "hovertemplate": "variable=pred_values<br>index=%{x}<br>value=%{y}<extra></extra>",
         "legendgroup": "pred_values",
         "marker": {
          "color": "#EF553B",
          "symbol": "circle"
         },
         "mode": "markers",
         "name": "pred_values",
         "orientation": "v",
         "showlegend": true,
         "type": "scatter",
         "x": [
          0,
          1,
          2,
          3,
          4,
          5,
          6,
          7,
          8,
          9
         ],
         "xaxis": "x",
         "y": [
          4.2250081046252745,
          8.962091212165756,
          11.25279316429668,
          6.432833419881536,
          -4.165436055392379,
          3.903396524067174,
          -10.483770700738964,
          4.764536358986808,
          7.522974223481263,
          -4.151223284695951
         ],
         "yaxis": "y"
        }
       ],
       "layout": {
        "legend": {
         "title": {
          "text": "variable"
         },
         "tracegroupgap": 0
        },
        "margin": {
         "t": 60
        },
        "template": {
         "data": {
          "bar": [
           {
            "error_x": {
             "color": "#2a3f5f"
            },
            "error_y": {
             "color": "#2a3f5f"
            },
            "marker": {
             "line": {
              "color": "#E5ECF6",
              "width": 0.5
             },
             "pattern": {
              "fillmode": "overlay",
              "size": 10,
              "solidity": 0.2
             }
            },
            "type": "bar"
           }
          ],
          "barpolar": [
           {
            "marker": {
             "line": {
              "color": "#E5ECF6",
              "width": 0.5
             },
             "pattern": {
              "fillmode": "overlay",
              "size": 10,
              "solidity": 0.2
             }
            },
            "type": "barpolar"
           }
          ],
          "carpet": [
           {
            "aaxis": {
             "endlinecolor": "#2a3f5f",
             "gridcolor": "white",
             "linecolor": "white",
             "minorgridcolor": "white",
             "startlinecolor": "#2a3f5f"
            },
            "baxis": {
             "endlinecolor": "#2a3f5f",
             "gridcolor": "white",
             "linecolor": "white",
             "minorgridcolor": "white",
             "startlinecolor": "#2a3f5f"
            },
            "type": "carpet"
           }
          ],
          "choropleth": [
           {
            "colorbar": {
             "outlinewidth": 0,
             "ticks": ""
            },
            "type": "choropleth"
           }
          ],
          "contour": [
           {
            "colorbar": {
             "outlinewidth": 0,
             "ticks": ""
            },
            "colorscale": [
             [
              0,
              "#0d0887"
             ],
             [
              0.1111111111111111,
              "#46039f"
             ],
             [
              0.2222222222222222,
              "#7201a8"
             ],
             [
              0.3333333333333333,
              "#9c179e"
             ],
             [
              0.4444444444444444,
              "#bd3786"
             ],
             [
              0.5555555555555556,
              "#d8576b"
             ],
             [
              0.6666666666666666,
              "#ed7953"
             ],
             [
              0.7777777777777778,
              "#fb9f3a"
             ],
             [
              0.8888888888888888,
              "#fdca26"
             ],
             [
              1,
              "#f0f921"
             ]
            ],
            "type": "contour"
           }
          ],
          "contourcarpet": [
           {
            "colorbar": {
             "outlinewidth": 0,
             "ticks": ""
            },
            "type": "contourcarpet"
           }
          ],
          "heatmap": [
           {
            "colorbar": {
             "outlinewidth": 0,
             "ticks": ""
            },
            "colorscale": [
             [
              0,
              "#0d0887"
             ],
             [
              0.1111111111111111,
              "#46039f"
             ],
             [
              0.2222222222222222,
              "#7201a8"
             ],
             [
              0.3333333333333333,
              "#9c179e"
             ],
             [
              0.4444444444444444,
              "#bd3786"
             ],
             [
              0.5555555555555556,
              "#d8576b"
             ],
             [
              0.6666666666666666,
              "#ed7953"
             ],
             [
              0.7777777777777778,
              "#fb9f3a"
             ],
             [
              0.8888888888888888,
              "#fdca26"
             ],
             [
              1,
              "#f0f921"
             ]
            ],
            "type": "heatmap"
           }
          ],
          "heatmapgl": [
           {
            "colorbar": {
             "outlinewidth": 0,
             "ticks": ""
            },
            "colorscale": [
             [
              0,
              "#0d0887"
             ],
             [
              0.1111111111111111,
              "#46039f"
             ],
             [
              0.2222222222222222,
              "#7201a8"
             ],
             [
              0.3333333333333333,
              "#9c179e"
             ],
             [
              0.4444444444444444,
              "#bd3786"
             ],
             [
              0.5555555555555556,
              "#d8576b"
             ],
             [
              0.6666666666666666,
              "#ed7953"
             ],
             [
              0.7777777777777778,
              "#fb9f3a"
             ],
             [
              0.8888888888888888,
              "#fdca26"
             ],
             [
              1,
              "#f0f921"
             ]
            ],
            "type": "heatmapgl"
           }
          ],
          "histogram": [
           {
            "marker": {
             "pattern": {
              "fillmode": "overlay",
              "size": 10,
              "solidity": 0.2
             }
            },
            "type": "histogram"
           }
          ],
          "histogram2d": [
           {
            "colorbar": {
             "outlinewidth": 0,
             "ticks": ""
            },
            "colorscale": [
             [
              0,
              "#0d0887"
             ],
             [
              0.1111111111111111,
              "#46039f"
             ],
             [
              0.2222222222222222,
              "#7201a8"
             ],
             [
              0.3333333333333333,
              "#9c179e"
             ],
             [
              0.4444444444444444,
              "#bd3786"
             ],
             [
              0.5555555555555556,
              "#d8576b"
             ],
             [
              0.6666666666666666,
              "#ed7953"
             ],
             [
              0.7777777777777778,
              "#fb9f3a"
             ],
             [
              0.8888888888888888,
              "#fdca26"
             ],
             [
              1,
              "#f0f921"
             ]
            ],
            "type": "histogram2d"
           }
          ],
          "histogram2dcontour": [
           {
            "colorbar": {
             "outlinewidth": 0,
             "ticks": ""
            },
            "colorscale": [
             [
              0,
              "#0d0887"
             ],
             [
              0.1111111111111111,
              "#46039f"
             ],
             [
              0.2222222222222222,
              "#7201a8"
             ],
             [
              0.3333333333333333,
              "#9c179e"
             ],
             [
              0.4444444444444444,
              "#bd3786"
             ],
             [
              0.5555555555555556,
              "#d8576b"
             ],
             [
              0.6666666666666666,
              "#ed7953"
             ],
             [
              0.7777777777777778,
              "#fb9f3a"
             ],
             [
              0.8888888888888888,
              "#fdca26"
             ],
             [
              1,
              "#f0f921"
             ]
            ],
            "type": "histogram2dcontour"
           }
          ],
          "mesh3d": [
           {
            "colorbar": {
             "outlinewidth": 0,
             "ticks": ""
            },
            "type": "mesh3d"
           }
          ],
          "parcoords": [
           {
            "line": {
             "colorbar": {
              "outlinewidth": 0,
              "ticks": ""
             }
            },
            "type": "parcoords"
           }
          ],
          "pie": [
           {
            "automargin": true,
            "type": "pie"
           }
          ],
          "scatter": [
           {
            "marker": {
             "colorbar": {
              "outlinewidth": 0,
              "ticks": ""
             }
            },
            "type": "scatter"
           }
          ],
          "scatter3d": [
           {
            "line": {
             "colorbar": {
              "outlinewidth": 0,
              "ticks": ""
             }
            },
            "marker": {
             "colorbar": {
              "outlinewidth": 0,
              "ticks": ""
             }
            },
            "type": "scatter3d"
           }
          ],
          "scattercarpet": [
           {
            "marker": {
             "colorbar": {
              "outlinewidth": 0,
              "ticks": ""
             }
            },
            "type": "scattercarpet"
           }
          ],
          "scattergeo": [
           {
            "marker": {
             "colorbar": {
              "outlinewidth": 0,
              "ticks": ""
             }
            },
            "type": "scattergeo"
           }
          ],
          "scattergl": [
           {
            "marker": {
             "colorbar": {
              "outlinewidth": 0,
              "ticks": ""
             }
            },
            "type": "scattergl"
           }
          ],
          "scattermapbox": [
           {
            "marker": {
             "colorbar": {
              "outlinewidth": 0,
              "ticks": ""
             }
            },
            "type": "scattermapbox"
           }
          ],
          "scatterpolar": [
           {
            "marker": {
             "colorbar": {
              "outlinewidth": 0,
              "ticks": ""
             }
            },
            "type": "scatterpolar"
           }
          ],
          "scatterpolargl": [
           {
            "marker": {
             "colorbar": {
              "outlinewidth": 0,
              "ticks": ""
             }
            },
            "type": "scatterpolargl"
           }
          ],
          "scatterternary": [
           {
            "marker": {
             "colorbar": {
              "outlinewidth": 0,
              "ticks": ""
             }
            },
            "type": "scatterternary"
           }
          ],
          "surface": [
           {
            "colorbar": {
             "outlinewidth": 0,
             "ticks": ""
            },
            "colorscale": [
             [
              0,
              "#0d0887"
             ],
             [
              0.1111111111111111,
              "#46039f"
             ],
             [
              0.2222222222222222,
              "#7201a8"
             ],
             [
              0.3333333333333333,
              "#9c179e"
             ],
             [
              0.4444444444444444,
              "#bd3786"
             ],
             [
              0.5555555555555556,
              "#d8576b"
             ],
             [
              0.6666666666666666,
              "#ed7953"
             ],
             [
              0.7777777777777778,
              "#fb9f3a"
             ],
             [
              0.8888888888888888,
              "#fdca26"
             ],
             [
              1,
              "#f0f921"
             ]
            ],
            "type": "surface"
           }
          ],
          "table": [
           {
            "cells": {
             "fill": {
              "color": "#EBF0F8"
             },
             "line": {
              "color": "white"
             }
            },
            "header": {
             "fill": {
              "color": "#C8D4E3"
             },
             "line": {
              "color": "white"
             }
            },
            "type": "table"
           }
          ]
         },
         "layout": {
          "annotationdefaults": {
           "arrowcolor": "#2a3f5f",
           "arrowhead": 0,
           "arrowwidth": 1
          },
          "autotypenumbers": "strict",
          "coloraxis": {
           "colorbar": {
            "outlinewidth": 0,
            "ticks": ""
           }
          },
          "colorscale": {
           "diverging": [
            [
             0,
             "#8e0152"
            ],
            [
             0.1,
             "#c51b7d"
            ],
            [
             0.2,
             "#de77ae"
            ],
            [
             0.3,
             "#f1b6da"
            ],
            [
             0.4,
             "#fde0ef"
            ],
            [
             0.5,
             "#f7f7f7"
            ],
            [
             0.6,
             "#e6f5d0"
            ],
            [
             0.7,
             "#b8e186"
            ],
            [
             0.8,
             "#7fbc41"
            ],
            [
             0.9,
             "#4d9221"
            ],
            [
             1,
             "#276419"
            ]
           ],
           "sequential": [
            [
             0,
             "#0d0887"
            ],
            [
             0.1111111111111111,
             "#46039f"
            ],
            [
             0.2222222222222222,
             "#7201a8"
            ],
            [
             0.3333333333333333,
             "#9c179e"
            ],
            [
             0.4444444444444444,
             "#bd3786"
            ],
            [
             0.5555555555555556,
             "#d8576b"
            ],
            [
             0.6666666666666666,
             "#ed7953"
            ],
            [
             0.7777777777777778,
             "#fb9f3a"
            ],
            [
             0.8888888888888888,
             "#fdca26"
            ],
            [
             1,
             "#f0f921"
            ]
           ],
           "sequentialminus": [
            [
             0,
             "#0d0887"
            ],
            [
             0.1111111111111111,
             "#46039f"
            ],
            [
             0.2222222222222222,
             "#7201a8"
            ],
            [
             0.3333333333333333,
             "#9c179e"
            ],
            [
             0.4444444444444444,
             "#bd3786"
            ],
            [
             0.5555555555555556,
             "#d8576b"
            ],
            [
             0.6666666666666666,
             "#ed7953"
            ],
            [
             0.7777777777777778,
             "#fb9f3a"
            ],
            [
             0.8888888888888888,
             "#fdca26"
            ],
            [
             1,
             "#f0f921"
            ]
           ]
          },
          "colorway": [
           "#636efa",
           "#EF553B",
           "#00cc96",
           "#ab63fa",
           "#FFA15A",
           "#19d3f3",
           "#FF6692",
           "#B6E880",
           "#FF97FF",
           "#FECB52"
          ],
          "font": {
           "color": "#2a3f5f"
          },
          "geo": {
           "bgcolor": "white",
           "lakecolor": "white",
           "landcolor": "#E5ECF6",
           "showlakes": true,
           "showland": true,
           "subunitcolor": "white"
          },
          "hoverlabel": {
           "align": "left"
          },
          "hovermode": "closest",
          "mapbox": {
           "style": "light"
          },
          "paper_bgcolor": "white",
          "plot_bgcolor": "#E5ECF6",
          "polar": {
           "angularaxis": {
            "gridcolor": "white",
            "linecolor": "white",
            "ticks": ""
           },
           "bgcolor": "#E5ECF6",
           "radialaxis": {
            "gridcolor": "white",
            "linecolor": "white",
            "ticks": ""
           }
          },
          "scene": {
           "xaxis": {
            "backgroundcolor": "#E5ECF6",
            "gridcolor": "white",
            "gridwidth": 2,
            "linecolor": "white",
            "showbackground": true,
            "ticks": "",
            "zerolinecolor": "white"
           },
           "yaxis": {
            "backgroundcolor": "#E5ECF6",
            "gridcolor": "white",
            "gridwidth": 2,
            "linecolor": "white",
            "showbackground": true,
            "ticks": "",
            "zerolinecolor": "white"
           },
           "zaxis": {
            "backgroundcolor": "#E5ECF6",
            "gridcolor": "white",
            "gridwidth": 2,
            "linecolor": "white",
            "showbackground": true,
            "ticks": "",
            "zerolinecolor": "white"
           }
          },
          "shapedefaults": {
           "line": {
            "color": "#2a3f5f"
           }
          },
          "ternary": {
           "aaxis": {
            "gridcolor": "white",
            "linecolor": "white",
            "ticks": ""
           },
           "baxis": {
            "gridcolor": "white",
            "linecolor": "white",
            "ticks": ""
           },
           "bgcolor": "#E5ECF6",
           "caxis": {
            "gridcolor": "white",
            "linecolor": "white",
            "ticks": ""
           }
          },
          "title": {
           "x": 0.05
          },
          "xaxis": {
           "automargin": true,
           "gridcolor": "white",
           "linecolor": "white",
           "ticks": "",
           "title": {
            "standoff": 15
           },
           "zerolinecolor": "white",
           "zerolinewidth": 2
          },
          "yaxis": {
           "automargin": true,
           "gridcolor": "white",
           "linecolor": "white",
           "ticks": "",
           "title": {
            "standoff": 15
           },
           "zerolinecolor": "white",
           "zerolinewidth": 2
          }
         }
        },
        "xaxis": {
         "anchor": "y",
         "domain": [
          0,
          1
         ],
         "title": {
          "text": "index"
         }
        },
        "yaxis": {
         "anchor": "x",
         "domain": [
          0,
          1
         ],
         "title": {
          "text": "value"
         }
        }
       }
      }
     },
     "metadata": {},
     "output_type": "display_data"
    }
   ],
   "source": [
    "y_pred = lr.predict(X_test)\n",
    "px.scatter(pd.DataFrame({\"true_values\": y_test, \"pred_values\": y_pred}))"
   ]
  },
  {
   "cell_type": "markdown",
   "metadata": {},
   "source": [
    "### Evaluate\n"
   ]
  },
  {
   "cell_type": "code",
   "execution_count": 10,
   "metadata": {},
   "outputs": [
    {
     "data": {
      "text/plain": [
       "0.06209664929647207"
      ]
     },
     "execution_count": 10,
     "metadata": {},
     "output_type": "execute_result"
    }
   ],
   "source": [
    "mse = np.mean((y_test - y_pred) ** 2)\n",
    "mse"
   ]
  },
  {
   "cell_type": "markdown",
   "metadata": {},
   "source": [
    "## Question 4 ─ Make several splittings\n"
   ]
  },
  {
   "cell_type": "markdown",
   "metadata": {},
   "source": [
    "### Compare training and test errors\n"
   ]
  },
  {
   "cell_type": "code",
   "execution_count": 11,
   "metadata": {},
   "outputs": [
    {
     "data": {
      "application/vnd.plotly.v1+json": {
       "config": {
        "plotlyServerURL": "https://plot.ly"
       },
       "data": [
        {
         "alignmentgroup": "True",
         "bingroup": "x",
         "hovertemplate": "variable=train<br>value=%{x}<br>count=%{y}<extra></extra>",
         "legendgroup": "train",
         "marker": {
          "color": "#636efa",
          "opacity": 0.6,
          "pattern": {
           "shape": ""
          }
         },
         "name": "train",
         "offsetgroup": "train",
         "orientation": "v",
         "showlegend": true,
         "type": "histogram",
         "x": [
          0.0963230740306249,
          0.09736905179478324,
          0.08250986929908441,
          0.09424691311708558,
          0.09848560423773195,
          0.08982302079917112,
          0.10167275076422706,
          0.10304602845486002,
          0.09187879141594961,
          0.10420344279384142,
          0.09466401383750206,
          0.0882777550175701,
          0.09122156926829636,
          0.09196596237717095,
          0.09452242555633844,
          0.10066928657209576,
          0.09384975998780651,
          0.096028193897887,
          0.08051882517680087,
          0.0966579681811455,
          0.09319216690834113,
          0.09136301338358117,
          0.08104704297060072,
          0.09262235434939366,
          0.09942907278962201,
          0.0817357202653217,
          0.09845014493087942,
          0.09673863848060095,
          0.09693428063828353,
          0.10382456966211247,
          0.0995098160609809,
          0.10426305696121638,
          0.10551478324226968,
          0.1001949235403202,
          0.10439091708485422,
          0.09993198546387942,
          0.09133360186131023,
          0.0980815534239368,
          0.10284340254713693,
          0.08776757519262035,
          0.10553570624174746,
          0.09280038505220878,
          0.09570162897268221,
          0.09664576407442069,
          0.09598011438434409,
          0.09729809339926884,
          0.09839712197958925,
          0.08561778933189258,
          0.09949077542243875,
          0.08180425398033755,
          0.10497761856058922,
          0.09450101705034289,
          0.09650114233240596,
          0.09149325475503993,
          0.09374250143364929,
          0.09951241595508226,
          0.09916767062023962,
          0.09836524796586535,
          0.08779734978804872,
          0.09575215787816144,
          0.0914796432672966,
          0.10863029421474261,
          0.10395659348116096,
          0.0911256247756052,
          0.097499719836986,
          0.09937725412395455,
          0.10334981371148282,
          0.09209060139678964,
          0.1022752874781198,
          0.09511569136936085,
          0.0930535990359412,
          0.0859962742594938,
          0.07811812918041725,
          0.09203529144178861,
          0.09504000164769996,
          0.0988693950731511,
          0.08714051225816699,
          0.09952352515111389,
          0.08817073351532172,
          0.07346623135419378,
          0.09285435118815896,
          0.09881647011256359,
          0.10322284024933245,
          0.0927683571691696,
          0.08597645921587622,
          0.113581405997075,
          0.08111359965982147,
          0.0921944896733475,
          0.09764588004026725,
          0.0878543038365365,
          0.08898039617615475,
          0.08912711027202389,
          0.10126580310716018,
          0.10147460396367902,
          0.09641430158576939,
          0.08804772069980814,
          0.0893139561770422,
          0.09343404632615686,
          0.09033198578557516,
          0.08389397203660007,
          0.08729876677799421,
          0.10487900031083348,
          0.08634354743518638,
          0.09434760837131277,
          0.0973309104101836,
          0.0908007953356705,
          0.08739241277774387,
          0.08911702646253121,
          0.08955404529458103,
          0.09371070860595365,
          0.09708798039312112,
          0.09976326661467917,
          0.0973380712702316,
          0.10327194423265655,
          0.09141442927527102,
          0.10689551453771876,
          0.08908013053985939,
          0.09955176136002833,
          0.09844765769703728,
          0.09090744964829375,
          0.09398332001039747,
          0.09061075283858977,
          0.09809191036914815,
          0.09387985647578613,
          0.09983326207349649,
          0.10247436946920199,
          0.09539605646801778,
          0.09226998753540624,
          0.091485755664797,
          0.11104571714620011,
          0.0964504578784376,
          0.10744587443607619,
          0.09956523439738656,
          0.09907613371285982,
          0.09891320152584777,
          0.09940180233736667,
          0.09662321896185383,
          0.09197092205000142,
          0.08437746219410314,
          0.09261815141541185,
          0.10230559707619638,
          0.09824234564531908,
          0.10772104261298632,
          0.10213984263954719,
          0.08569828653902214,
          0.08514165763679657,
          0.09168158440973366,
          0.09395879033813714,
          0.09518790983162997,
          0.09781087871859835,
          0.10042230651356363,
          0.10216421077497281,
          0.09682456296486232,
          0.09864148449728809,
          0.09864814637356752,
          0.09851654201854032,
          0.10362549558478851,
          0.10110347060835742,
          0.10475616373907712,
          0.10095043977251476,
          0.10697973569900252,
          0.07979656426035853,
          0.08767208035676119,
          0.0757533797222731,
          0.09497855100638855,
          0.09366262703393467,
          0.09657679342464923,
          0.08649053756865721,
          0.0915176254840741,
          0.09779680612848676,
          0.09948319550812591,
          0.09188721272421026,
          0.08598664425665414,
          0.11109160288791382,
          0.10233601390707678,
          0.0927499222552162,
          0.09937981238495822,
          0.08720793172612244,
          0.10318298378599378,
          0.10453436350454544,
          0.10455449222433125,
          0.10041767640275448,
          0.1017897309107288,
          0.09611251141839326,
          0.09272958278042023,
          0.09907425797704307,
          0.09400495268023393,
          0.09453360076459125,
          0.0828685115561976,
          0.10434216323121745,
          0.1034773901259686,
          0.10175451819783199,
          0.08869359129881023,
          0.09753257765322405,
          0.10662624274569324,
          0.08598647330432439,
          0.09874190725734217,
          0.09182192932024186,
          0.10253782120536714,
          0.09699645619632172,
          0.10126377543897565,
          0.10767072389070924,
          0.09936350868887842,
          0.10782479301008267,
          0.09543097051055523,
          0.076965218145104,
          0.08509590468053836,
          0.08809092138137711,
          0.09552341587142014,
          0.08759578294797893,
          0.09015096575315462,
          0.09947057445138105,
          0.10525929376095451,
          0.10740917960107785,
          0.10456738979732325,
          0.10264162186060877,
          0.0842207445336923,
          0.09328019580644331,
          0.0985580145287734,
          0.09805712764165375,
          0.10687334836771681,
          0.08903715355641945,
          0.10746142735817296,
          0.07877810288636769,
          0.10802842249051015,
          0.09623753486461806,
          0.08488856858965624,
          0.0816343135996171,
          0.09982824003559276,
          0.09186375537379396,
          0.09304964601370518,
          0.0927696234070994,
          0.09852477335551457,
          0.0923665090598879,
          0.09496936307089458,
          0.10860646277755506,
          0.09790660462336274,
          0.09060377167691239,
          0.1006908024272258,
          0.0880722486850781,
          0.10526417168893235,
          0.0905745384701812,
          0.09549741183305775,
          0.09874508648000044,
          0.10737555710615418,
          0.0932653819662495,
          0.09966663617195128,
          0.09916481924316124,
          0.09902026450953817,
          0.10246481775285352,
          0.10544418708557854,
          0.09253908741628956,
          0.09224175169557944,
          0.10639488395578289,
          0.10872934573881218,
          0.0926743617258884,
          0.10290233679771814,
          0.09423400312888057,
          0.0812809547825972,
          0.10275589655004021,
          0.10612132290435661,
          0.09540766917895507,
          0.0802494182783906,
          0.09230034117411876,
          0.09318110704704523,
          0.1013591129629059,
          0.1072850625244101,
          0.09542984312717873,
          0.09881578957471086,
          0.09948533162817863,
          0.10870891652734489,
          0.09623266190742855,
          0.09925122068032294,
          0.0928874847413151,
          0.101354280705045,
          0.09437562589350826,
          0.09852095727930246,
          0.10224336220224679,
          0.08534479547323562,
          0.09351342874132502,
          0.0818719112381158,
          0.09764629409766581,
          0.09431959530935945,
          0.09535998286143274,
          0.09629525049694322,
          0.10204113573480549,
          0.1052705546380909,
          0.08685635350523212,
          0.09256939555848001,
          0.0931770793412801,
          0.09485471032925076,
          0.09151751174355988,
          0.10497325643847573,
          0.0985979587491897,
          0.09921319941491426,
          0.09279564379578042,
          0.0927992417082186,
          0.09802688295620414,
          0.08462036992902,
          0.09969581961408128,
          0.09189367868385927,
          0.0903454986827541,
          0.08742911039506343,
          0.09591600567491211,
          0.09420018675940645,
          0.10519748158212754,
          0.08503936288466492,
          0.09141065575328608,
          0.09417537845453568,
          0.08373927920018158,
          0.10181019333263377,
          0.10118847765704504,
          0.09811827840785099,
          0.07652812490476633,
          0.08371165613268357,
          0.09197935370608659,
          0.10361500489154771,
          0.09366771949342798,
          0.09832668288825061,
          0.10772083493281806,
          0.10625212319934425,
          0.09235803250527767,
          0.09810952951540404,
          0.10789544564811657,
          0.10271377859454503,
          0.08966154041447508,
          0.10774730806394546,
          0.10209224733945019,
          0.09673203133234194,
          0.10844782413449246,
          0.09363397330037657,
          0.10612968103550588,
          0.09615386024240888,
          0.09758675487346735,
          0.09793844738153148,
          0.09503195300595162,
          0.09353928516641266,
          0.09582571846869473,
          0.10121827351726365,
          0.10803019177844515,
          0.09081261340220273,
          0.09712026407776951,
          0.09977321691561805,
          0.0883994829106062,
          0.10597232116928564,
          0.08839571839661686,
          0.0877266603088783,
          0.10400998403034026,
          0.09847821291232839,
          0.09189533032400218,
          0.08308621057307072,
          0.0949977774630307,
          0.08846459962583979,
          0.09394649979674174,
          0.1011333267102488,
          0.09862619365270427,
          0.08716529480274426,
          0.0938871007701719,
          0.10810045697712416,
          0.10025615973069361,
          0.09810071105043211,
          0.08347727714868251,
          0.09339110687789134,
          0.10547255456463914,
          0.09856322918841459,
          0.07633738664862592,
          0.09873849580466228,
          0.0870597289803274,
          0.08560884063260943,
          0.09119560908620235,
          0.09930306064220695,
          0.09991015802056945,
          0.09882919056784498,
          0.10102530269158465,
          0.09227248696960959,
          0.0949202780827406,
          0.09727475055376796,
          0.10185776386214629,
          0.09939081345923415,
          0.08569235354899915,
          0.10181724676513873,
          0.10049956733815217,
          0.10035431902672713,
          0.10873706640237098,
          0.10346016031852616,
          0.09513619273343651,
          0.10432266136434216,
          0.0979614750760281,
          0.09844411044158569,
          0.08605115342249807,
          0.09477323035166645,
          0.09604287645980324,
          0.09785440477684462,
          0.0938767900686861,
          0.09636126811401255,
          0.08569128891003754,
          0.09800886318204584,
          0.09931107122739709,
          0.08962700725348412,
          0.09315816362254506,
          0.09279102899773636,
          0.09354156634818958,
          0.08541012850213961,
          0.09282942928811147,
          0.08819683745668455,
          0.09180262784165709,
          0.09208375930917502,
          0.09153160965884996,
          0.100903444903606,
          0.11034657029759573,
          0.09447451922736558,
          0.09282163627935816,
          0.0927757763462791,
          0.08875564014437134,
          0.1032473709601224,
          0.09480123716451268,
          0.09415194125199813,
          0.10585388817637846,
          0.10024597598007796,
          0.10409109688425595,
          0.08685869642094764,
          0.09074548147263058,
          0.08923750347437162,
          0.08586411063056323,
          0.08756335888600601,
          0.0922738905325842,
          0.08322622257400532,
          0.09381305198481646,
          0.09596792825507018,
          0.08881805209603635,
          0.10045772007608382,
          0.09206983775154257,
          0.09831157422701228,
          0.09539077260589982,
          0.1024441810120648,
          0.08476640392208862,
          0.08695491047206491,
          0.09590900329856726,
          0.1029377084973749,
          0.08643227837402988,
          0.10662988301183045,
          0.0983750354403182,
          0.09800383784421457,
          0.09433329222717657,
          0.10028212467201796,
          0.10316133043945794,
          0.08785006742610776,
          0.10725662053478358,
          0.09800921862388817,
          0.09211490349264065,
          0.10645994141071555,
          0.08224298970635185,
          0.10155694553589545,
          0.0998314948056469,
          0.09337414028844088,
          0.10055097935096705,
          0.08541185210367216,
          0.08153617382257501,
          0.10238005159926393,
          0.10157728176898125,
          0.08424209377958938,
          0.10213965435439212,
          0.08682177413664416,
          0.08354382589359126,
          0.09607989184386738,
          0.0948378634799423,
          0.0901059467040044,
          0.09548786304159282,
          0.09523024934949356,
          0.09881927075450754,
          0.08973134221274456,
          0.09871538869707132,
          0.09341062431575936,
          0.10121074349624322,
          0.0859160314827367,
          0.09627834488094125,
          0.09818607650949053,
          0.0870873579302973,
          0.08937969227438257,
          0.08742709230052237,
          0.10432351591742157,
          0.09455770200913964,
          0.08714046867337392,
          0.09845532575914615,
          0.10333694329470253,
          0.09774999714501424,
          0.10430981062595739,
          0.08392721406854617,
          0.09704179407143701,
          0.10291179710848627,
          0.09522328162235738,
          0.07646562929648634,
          0.09261301529218273,
          0.10072799297413806,
          0.09316715660727415,
          0.09913772607598967,
          0.0826104999257482,
          0.09990026283308144,
          0.08084670665352027,
          0.10193741393709621,
          0.09918018610076178,
          0.08988647791364549,
          0.08867871743876267,
          0.09104845710362135,
          0.0925792001603732,
          0.09389199840260967,
          0.07371728949720534,
          0.09752685715548132,
          0.09600783678752842,
          0.0934158649575102,
          0.08810468179609002,
          0.09850265482098254,
          0.09689080376815525,
          0.09994734081265552,
          0.0996161035064704,
          0.08604867448237792,
          0.10367911847685277,
          0.07812009568326836,
          0.09109015592324805,
          0.08303408943103478,
          0.097370356117933,
          0.10482016342686742,
          0.09171876602881124,
          0.09149924249376154,
          0.09642097333801791,
          0.08567811668016775,
          0.10307238108589498,
          0.08731071277214796,
          0.08340434458876586,
          0.10081312022304945,
          0.08686101998679426,
          0.09314079446104687,
          0.0931149107891922,
          0.10094977021387722,
          0.09437753458454626,
          0.09410874210475706,
          0.08877749939814257,
          0.08565054842374287,
          0.10202171325427845,
          0.09705286242972425,
          0.10504029177166044,
          0.10229215813249579,
          0.08999008750432402,
          0.09900612254937687,
          0.09809103378609824,
          0.10010608609712976,
          0.09475226952885038,
          0.09829762791145272,
          0.10378103894139094,
          0.09853158406339545,
          0.10600146849854823,
          0.09263103490646493,
          0.10162366554723126,
          0.09026480202329737,
          0.08444159951418681,
          0.11087897813664345,
          0.08734599280002812,
          0.09337558354847977,
          0.1004227089058265,
          0.09417647520238208,
          0.09954365382717123,
          0.0990821822147865,
          0.10561259357520139,
          0.09046322525460007,
          0.09783311256209251,
          0.08791990894655716,
          0.11030282110354561,
          0.09850415723154127,
          0.10819630934070737,
          0.103740515878503,
          0.08948633783734723,
          0.10286970163915354,
          0.10064550608703608,
          0.09662726268012325,
          0.10447380464890169,
          0.0890115458870118,
          0.1047547264379713,
          0.0901815682138043,
          0.10341998547120816,
          0.09710657593581706,
          0.10060537903776574,
          0.08673439277793889,
          0.08364782767812892,
          0.08698556940141208,
          0.09523448022366984,
          0.10106841635072956,
          0.10844854150609014,
          0.08705538292563174,
          0.10938691142880472,
          0.09881967773397787,
          0.08568189178522012,
          0.1012772050873099,
          0.08898603079608329,
          0.10887775830805371,
          0.07955390609440108,
          0.09364264340804482,
          0.107263968536407,
          0.08423141817146376,
          0.0994072769882635,
          0.08809924938013017,
          0.10430816319074758,
          0.09803132189727308,
          0.08356824541743528,
          0.08738893075665867,
          0.1047950011725783,
          0.09059263447606483,
          0.09751332613474913,
          0.09493551048627143,
          0.09430759025593762,
          0.09785929130772922,
          0.10169427939469167,
          0.08377793796103541,
          0.10265264278259471,
          0.10098813026725847,
          0.07831005697615963,
          0.09420952067626395,
          0.09856394097329316,
          0.08697572034713491,
          0.09158457101839863,
          0.10155393902392987,
          0.09497379334945713,
          0.08616141722582368,
          0.09360443389483099,
          0.09094926001514055,
          0.09508255566267207,
          0.09726521637799632,
          0.08905791588821274,
          0.09722181490377924,
          0.09782194006673313,
          0.09166072853402522,
          0.11154821569692142,
          0.09190900150588543,
          0.09111704346138386,
          0.10212653849437126,
          0.09401940817061591,
          0.09353407582731042,
          0.09326060103844311,
          0.10035936425103462,
          0.11207532555947519,
          0.09675451315995456,
          0.08579588427066528,
          0.10374148841559652,
          0.0945299369296307,
          0.09850986808750509,
          0.09697133815271647,
          0.09511857933595089,
          0.10591737462862527,
          0.10026062484911409,
          0.09540779713371393,
          0.07966922265517158,
          0.10570481357123114,
          0.08434849053489328,
          0.09782806131308341,
          0.09636019035624206,
          0.10054146932839139,
          0.09124883237932149,
          0.10573320869683178,
          0.09171040807050103,
          0.10513815498409348,
          0.09517078048396095,
          0.09659957161170278,
          0.09003354611163798,
          0.09822911503664292,
          0.09470353059884641,
          0.0995579448982255,
          0.09280010994584949,
          0.10226647692358852,
          0.09734077080801926,
          0.10096801148078707,
          0.09500770952401372,
          0.09751414372403218,
          0.08641779546796755,
          0.09017507473881242,
          0.09904051563715281,
          0.10208548928318568,
          0.0966183288048953,
          0.08847297520301557,
          0.10589028247724382,
          0.08794907618634615,
          0.09522345211767994,
          0.10845446357466573,
          0.08786864988672202,
          0.08932519613036319,
          0.08644112219676514,
          0.09427980372824848,
          0.09735355833863406,
          0.10489173939403602,
          0.09210277467975814,
          0.09205969884419615,
          0.0850895915457269,
          0.09962594800069069,
          0.09056702043424918,
          0.09401787407472634,
          0.10101649415046272,
          0.09967747879786522,
          0.07642695143742068,
          0.0875920717225773,
          0.10990543932203237,
          0.08542077381292584,
          0.09921445213157537,
          0.09218543412464365,
          0.10692758215951854,
          0.09998099202873356,
          0.10576821049591686,
          0.09500225854720788,
          0.08945174335596363,
          0.10760999324033418,
          0.08967301428956852,
          0.09077495078767486,
          0.09115629520661123,
          0.10334717298959539,
          0.10103556925110686,
          0.09962530866007172,
          0.09186162805273079,
          0.09970428364507007,
          0.08812703682068053,
          0.10659434589501604,
          0.09530306956412433,
          0.08847607751878075,
          0.10059082089418281,
          0.10069663500233565,
          0.09751741058067191,
          0.08552175014154048,
          0.09499930782356662,
          0.09541061953767455,
          0.11004112398683123,
          0.0990732387209369,
          0.10837349088989487,
          0.09079517468251287,
          0.09324549154201256,
          0.08968658904396098,
          0.10008415564851718,
          0.10184299921081261,
          0.0990485767861873,
          0.0978036074980186,
          0.09310742759806066,
          0.10306628643179147,
          0.09825279470909785,
          0.09150035215699581,
          0.09466907174002606,
          0.10707337250338973,
          0.10419759893961236,
          0.09300793941111563,
          0.09555130989388835,
          0.10050972339148379,
          0.09770538460021458,
          0.08551617660506419,
          0.08953308185375607,
          0.09993334563364506,
          0.10529182638872654,
          0.08315207280643806,
          0.1058317904319587,
          0.0908480890534615,
          0.10228482615796834,
          0.09446213656383005,
          0.09803872631763996,
          0.09825018589629024,
          0.08194022822941553,
          0.09968951695362213,
          0.10305611129342103,
          0.09364885516497604,
          0.09376729157088304,
          0.09650350680975713,
          0.10302409724795773,
          0.08928966030309475,
          0.10833515184037132,
          0.10460173909850035,
          0.10607100598804878,
          0.09984395672257913,
          0.08991555891819658,
          0.08921436749218864,
          0.09651295075642112,
          0.10011577658593421,
          0.1010901869089017,
          0.08195093940425971,
          0.10264485959516793,
          0.08607680390146118,
          0.08854827513534436,
          0.11279655719962489,
          0.08276892384296727,
          0.10231267373979522,
          0.09544303843490722,
          0.09476110626002109,
          0.1006628621835624,
          0.1028824125230798,
          0.10282404493256696,
          0.10278432251050622,
          0.0895255483710593,
          0.09122152931158536,
          0.0916228984816918,
          0.11156462759793409,
          0.10064943519695817,
          0.09601530487549434,
          0.10079123902788178,
          0.10108736852467137,
          0.08253186141319814,
          0.09118759043863889,
          0.1059188768871296,
          0.09006702531886135,
          0.08444175375699621,
          0.09359316628024746,
          0.09779204340727611,
          0.10272775088101545,
          0.10253934058319185,
          0.09925338846522444,
          0.09691791180910017,
          0.09573158677758986,
          0.1045730367704494,
          0.09008637057597693,
          0.10124875657963721,
          0.09367831714504413,
          0.09340029152109708,
          0.10341223825870113,
          0.08863362845280694,
          0.10289949307483168,
          0.11248203935720871,
          0.08478893388733813,
          0.09182647984393774,
          0.09698403947464805,
          0.10338383319589997,
          0.10336091235134899,
          0.09849302449573645,
          0.07657349235324078,
          0.09607475472956148,
          0.10302645203951426,
          0.10501927889161004,
          0.09658057092979984,
          0.0916115237405292,
          0.09236386604111997,
          0.09881916664727775,
          0.11485257032819648,
          0.09882146179423376,
          0.09288173681484753,
          0.09871119139345266,
          0.08886183914473589,
          0.09849746616205127,
          0.09076353252933926,
          0.08549923285151244,
          0.10111370017065942,
          0.10320565537467319,
          0.07854359621638032,
          0.0842874831606855,
          0.08952834963857918,
          0.096390771268207,
          0.09873317116905986,
          0.09884032724861673,
          0.10253740761804067,
          0.09644278202819877,
          0.10756698115450143,
          0.09014072781385793,
          0.10243861936808725,
          0.08311946926957416,
          0.09626595622897136,
          0.0817483900347155,
          0.1008460335711054,
          0.08575382113909993,
          0.08203854654310014,
          0.08488368275003416,
          0.08990325508717514,
          0.1072437140154013,
          0.09747746148575816,
          0.10692683886871095,
          0.10279793397352943,
          0.07364652545256464,
          0.09844509461248725,
          0.09809567259652723,
          0.09083101243633653,
          0.09080222170913345,
          0.09402198180164273,
          0.09527119619172594,
          0.09693643495936305,
          0.09114719782105185,
          0.10855657872659663,
          0.09389690053321023,
          0.09074584771558847,
          0.08965514997214118,
          0.09094020094739666,
          0.09624770439979766,
          0.08607361227466134,
          0.09275743031290636,
          0.07754545857546355,
          0.0912621460296823,
          0.09544275413724095,
          0.09285567357344858,
          0.09514635382071288,
          0.08656714942975033,
          0.09505535249155647,
          0.08449051900837706,
          0.09712384522430094,
          0.07945037628052612,
          0.1022018881362465,
          0.09224123988652225,
          0.10873524950543248,
          0.1008604024645136,
          0.07980490808402264,
          0.09699414391989741,
          0.10029500676382339,
          0.10060639782302783,
          0.10688210995076422,
          0.08055424400983319,
          0.10195945816015221,
          0.08951957678187342,
          0.10386127042100753,
          0.10748501124410847,
          0.09754240098501618,
          0.09865736039147957,
          0.09529581617234009,
          0.0984796123301628,
          0.08052456592133918,
          0.09234809613595203,
          0.09496728849740552,
          0.08422529537855275,
          0.08970926588232846,
          0.09553913532786576,
          0.10445718287611674,
          0.10031718269930553,
          0.09187536540773057,
          0.10193708657180725,
          0.09929913569577387,
          0.0957945716322687,
          0.09407780918806635,
          0.09436293349765616,
          0.1024863852124555,
          0.10708650893690004,
          0.1050838837104769,
          0.08735818231205435,
          0.08950416595935866,
          0.09020427606721071,
          0.10283224445832755,
          0.09209226351831172,
          0.07865213180549399,
          0.08298844724992724,
          0.08617717802296795,
          0.09829784726675528,
          0.09486580730982694,
          0.09737602839662181,
          0.10466391914299403,
          0.09599193744330985,
          0.0827987592076233,
          0.09523896236455992,
          0.10079356002288149,
          0.10456178353431511,
          0.10265341618541499,
          0.10743640989063663,
          0.09959904216093393,
          0.09347893954830847,
          0.07445235029163502,
          0.10287906726629066,
          0.10484780860335871,
          0.08570060398054181,
          0.10040109643858681,
          0.08861559771971003,
          0.09006375543186274,
          0.10068572802510523,
          0.10403360716056695,
          0.10684941385463018,
          0.09190831590332643,
          0.08734570635847694,
          0.09248781251140871,
          0.09609884841515084,
          0.09063545834534736,
          0.08820556478160463,
          0.09857271354420934,
          0.09740257406362482,
          0.08987911778987508,
          0.1005504894249171,
          0.09551718140641434,
          0.09192805005541826,
          0.09928769258226847,
          0.0865786765130474,
          0.09344494137107738,
          0.07419438387270316,
          0.08091475178518746,
          0.0992861048513983,
          0.10335910459294947,
          0.10399203116579511,
          0.10215617482669612,
          0.09663342324323948,
          0.09071939755743057,
          0.10307815914516805,
          0.10088547763114186,
          0.08489626315090468,
          0.10679226710733665,
          0.10004567983265403,
          0.09609598702181592,
          0.10038308974521266,
          0.0922969916760524,
          0.09636315166232703,
          0.10154984313953697,
          0.07997381600807563,
          0.08261960834449031,
          0.08431857458471326,
          0.09857400619697057,
          0.0962415547028293,
          0.10374213089767825,
          0.08666837579720857,
          0.0991349310510369,
          0.09056351217639849,
          0.08816580997853155,
          0.10015467987088353
         ],
         "xaxis": "x",
         "yaxis": "y"
        },
        {
         "alignmentgroup": "True",
         "bingroup": "x",
         "hovertemplate": "variable=test<br>value=%{x}<br>count=%{y}<extra></extra>",
         "legendgroup": "test",
         "marker": {
          "color": "#EF553B",
          "opacity": 0.6,
          "pattern": {
           "shape": ""
          }
         },
         "name": "test",
         "offsetgroup": "test",
         "orientation": "v",
         "showlegend": true,
         "type": "histogram",
         "x": [
          0.11080072358240849,
          0.10557546629566698,
          0.15749264641026306,
          0.11387648405982723,
          0.09337562387715587,
          0.12962767200987738,
          0.08394027559490003,
          0.08136987354034779,
          0.12453379922527327,
          0.07836793133529044,
          0.10862765523080606,
          0.1415308520558604,
          0.12538994728336036,
          0.13855876946142762,
          0.1340336659404135,
          0.08804565982965369,
          0.11195323308221339,
          0.10364091437674139,
          0.17860428502453402,
          0.09898893853811877,
          0.12031117712443969,
          0.1204728756206587,
          0.1677890733199056,
          0.11575602987016513,
          0.09191970956445199,
          0.1664594961450047,
          0.10541874495636916,
          0.10285906114780954,
          0.10267449071352527,
          0.07099172424475922,
          0.08995730140130806,
          0.0740449067586043,
          0.06530186357822212,
          0.08869268842460412,
          0.06802143911836592,
          0.08793960532772263,
          0.12692599040440847,
          0.09615435991398649,
          0.07514679043082216,
          0.15528779209173485,
          0.06639385966890085,
          0.12515554683774582,
          0.1165558308972801,
          0.10160305412528543,
          0.1054645721070278,
          0.09743634399233247,
          0.09668258954108497,
          0.14613285205663246,
          0.09333712550667671,
          0.1730610767093013,
          0.06658344372333104,
          0.11727291402031428,
          0.10287986855054557,
          0.12143927536925303,
          0.12028410901615998,
          0.09003028254046767,
          0.09243899109515302,
          0.0989349568356128,
          0.1410987043255683,
          0.10871913510151732,
          0.12868695180203898,
          0.053286203342328545,
          0.08043038928795634,
          0.1288215850741617,
          0.09579347636060512,
          0.10336863333448199,
          0.07790644655167452,
          0.12104131959715558,
          0.07876186707935534,
          0.10857471774968167,
          0.13077237463253183,
          0.1431143790992171,
          0.21283244583891356,
          0.1177693769057175,
          0.1109595844156653,
          0.10709176371874636,
          0.13803959733855975,
          0.09595590246284633,
          0.13611663465918628,
          0.20166184855312017,
          0.12124557961691144,
          0.09127157654065379,
          0.0775756693111053,
          0.1178061488598626,
          0.14397342369292926,
          0.032671592618772415,
          0.18486970009610101,
          0.12138871510215224,
          0.09698271258101258,
          0.14314020723205256,
          0.13259359497595286,
          0.13157073906423838,
          0.08200628528312304,
          0.08039939793966744,
          0.1008831776414622,
          0.14813454046628088,
          0.14085187015921025,
          0.11271918356747494,
          0.12759831080082726,
          0.16967534269512202,
          0.13657595317946625,
          0.06996265229504765,
          0.16005650689774234,
          0.1092313433825776,
          0.10224781665335973,
          0.12415174420075333,
          0.15589811422769503,
          0.13569613432411123,
          0.1346198704941368,
          0.11396847257552398,
          0.1113039788300155,
          0.08657669718021024,
          0.09850272899152838,
          0.08361512884928399,
          0.13788585076476112,
          0.06618344917302524,
          0.141486692661776,
          0.09452354050594708,
          0.09310190933762406,
          0.14720806248090842,
          0.11436917018805189,
          0.13456009705780742,
          0.09834340293096269,
          0.1109961251227914,
          0.08800789100585434,
          0.0841073896190239,
          0.10525246354271509,
          0.13046535864528513,
          0.12683238128801927,
          0.04277941379824281,
          0.11164445850264038,
          0.06194492937991961,
          0.09849057013835892,
          0.09162897287268741,
          0.0916312424524685,
          0.09064476014784437,
          0.1020480659806811,
          0.12441500420237062,
          0.1722924662084215,
          0.11965409739451154,
          0.08281329448166383,
          0.09292644170613598,
          0.05799213551474562,
          0.07719881252074866,
          0.16508234706914313,
          0.15712574689742245,
          0.11965845895750774,
          0.11204298101765472,
          0.10506066148195425,
          0.10274114542520921,
          0.08736034192640245,
          0.09299899842118883,
          0.0983274867278785,
          0.11334859640014386,
          0.09380974330111795,
          0.10582748074352447,
          0.07468702569634751,
          0.0883769490724067,
          0.07089336587785876,
          0.0843988076176866,
          0.05829100020612996,
          0.16907882722908865,
          0.1561445022336743,
          0.18422784064558959,
          0.12230183534169341,
          0.11726855101224118,
          0.1063610896852556,
          0.14726318283329307,
          0.12467627190188482,
          0.09657887743971497,
          0.0892245867856709,
          0.12108454251239772,
          0.1541390851027435,
          0.04217016060859099,
          0.07728102821689352,
          0.11682164148660534,
          0.08811546361949453,
          0.13775234310607046,
          0.08695304582865557,
          0.07240415772064084,
          0.06963128960807462,
          0.08764339201204127,
          0.07919579842838112,
          0.11541207100303603,
          0.124952334894221,
          0.1085406066014977,
          0.11593300442063215,
          0.11219175890043942,
          0.1723770205533387,
          0.07159641926785248,
          0.07761699990582646,
          0.08388294193235893,
          0.1472946650985688,
          0.1009282520539881,
          0.0599823669819131,
          0.145540983816044,
          0.09521480975247541,
          0.11998824886835346,
          0.07841986072992838,
          0.09957356087396557,
          0.0832847028705111,
          0.05570573706096814,
          0.09187064050170655,
          0.055016885814899295,
          0.1217173866222162,
          0.18398951947131398,
          0.149177274559411,
          0.1489229272945219,
          0.10491618832135119,
          0.14644235548283674,
          0.14521279012470564,
          0.09390544353534856,
          0.07100133048955701,
          0.05804368087407413,
          0.0714896299082973,
          0.07923626285326484,
          0.15389154636255367,
          0.11641757941977904,
          0.09538488863371765,
          0.09739380868897873,
          0.05809077037352757,
          0.13587652611050174,
          0.05739504406068757,
          0.2213130223889797,
          0.0585838219315307,
          0.11197672639150262,
          0.1521562808823149,
          0.16037133933091713,
          0.10446600993635949,
          0.12160703604058117,
          0.11386206823914306,
          0.1196088636224439,
          0.0961259375601113,
          0.12182758713011357,
          0.10677935067778488,
          0.05291753177546976,
          0.09596965622109652,
          0.12844492174774308,
          0.08618472660384197,
          0.13529188634440986,
          0.0656063451275405,
          0.12682692886413965,
          0.10451217218104396,
          0.09185361134769447,
          0.057123177375753384,
          0.11451249113943787,
          0.091388120614608,
          0.10904784720814728,
          0.09496329856644677,
          0.0834846042761879,
          0.06420940645187359,
          0.12097279792965639,
          0.13127173801628664,
          0.06278820002138522,
          0.05614471448366568,
          0.12084175694988893,
          0.08242836547838486,
          0.10939259687801536,
          0.1885782697966237,
          0.07502583277539655,
          0.06727308126847532,
          0.10787872860453715,
          0.17118412405889394,
          0.12921808542636248,
          0.12636015348284124,
          0.08276261512041394,
          0.05824457049431071,
          0.11462548673511914,
          0.09219845108434921,
          0.09173119279732281,
          0.055229285180240596,
          0.10093602335018179,
          0.09251766826523874,
          0.11516683700929112,
          0.08438715977143534,
          0.12155193444344223,
          0.10071677518207148,
          0.08178835283856471,
          0.15083523343729244,
          0.11239154981358399,
          0.18114933119993543,
          0.10360008120977653,
          0.10910320379489498,
          0.1099660532554454,
          0.10074432174650512,
          0.08108152527052297,
          0.07207785149714489,
          0.14163988256304166,
          0.11541741462486318,
          0.12558729895601825,
          0.12269391107635089,
          0.12002145455418907,
          0.06708083274374979,
          0.09742874833078922,
          0.09859122925762467,
          0.13103030924812986,
          0.11922523356573866,
          0.10322942047827548,
          0.1497376415724877,
          0.09114023500286977,
          0.12042251976937805,
          0.130544922203489,
          0.15166824134511203,
          0.10574178345758686,
          0.1122951253188325,
          0.07161077039650907,
          0.14937368122385003,
          0.12195676241610975,
          0.11896075482970474,
          0.1579641202400423,
          0.08235523963050076,
          0.09007711429699303,
          0.09473329993761974,
          0.21314348926889531,
          0.15563761854840458,
          0.11819382310053594,
          0.07237067082845255,
          0.11429830750627668,
          0.10044358015649417,
          0.058755696237491474,
          0.061643551821179844,
          0.12069260477938518,
          0.09572917129008762,
          0.05579027360022225,
          0.08046576970067534,
          0.1286653947003628,
          0.05652445838415743,
          0.07810671013341555,
          0.09873487655212886,
          0.05495361509401625,
          0.11485474246069802,
          0.06121611385680433,
          0.10359569265534493,
          0.09731711793134015,
          0.0960440277452241,
          0.11839070147709826,
          0.11229377302876291,
          0.10411462640279523,
          0.09254202673492594,
          0.056887666439312076,
          0.1364950900045998,
          0.10161125908424899,
          0.08787784619843715,
          0.148243918895966,
          0.0647427036984847,
          0.16030373085507063,
          0.1380057340756383,
          0.07333658804618771,
          0.09466581197719413,
          0.11965653199330943,
          0.16811620928556176,
          0.12102598714964881,
          0.15175903494062937,
          0.1180269792827694,
          0.08141211147132274,
          0.09455563864551915,
          0.13694987197539515,
          0.11391150707466993,
          0.054200137868462006,
          0.09060856447993389,
          0.09396568876573122,
          0.15906182814990424,
          0.12559292417889412,
          0.06385360707525571,
          0.0989922038859612,
          0.18534011171888837,
          0.09193050683780621,
          0.13838372615375463,
          0.15063229004329276,
          0.1208216448483292,
          0.09047928892685628,
          0.0950465059570076,
          0.09946096811134089,
          0.08434711418439252,
          0.12706002400643646,
          0.10814548422295119,
          0.096684102495079,
          0.08133556245651737,
          0.0915907858369894,
          0.15218392911431683,
          0.08526884168884007,
          0.08870846223105898,
          0.0954182367941224,
          0.05098142852552352,
          0.0753643233224358,
          0.10628317044961308,
          0.06980846464453021,
          0.09494720938951035,
          0.09256635844604186,
          0.15181577120542417,
          0.11540306310727799,
          0.10939368085540982,
          0.09665604797777165,
          0.12117494961117858,
          0.10128365457402225,
          0.15727169563148574,
          0.10333865658999401,
          0.09511975335948317,
          0.13183590655863558,
          0.11887274649231308,
          0.11758350983644894,
          0.11820943286267385,
          0.1601211209804794,
          0.12174438985076237,
          0.13919776065432338,
          0.13478192947563208,
          0.12361145649946412,
          0.12064629264202617,
          0.08649498330071007,
          0.046316108126088155,
          0.11218630995226478,
          0.11822612660258998,
          0.11899137610837744,
          0.13211662921605222,
          0.07439783381842115,
          0.1220885671148427,
          0.1149165683596833,
          0.06284320315820473,
          0.08877438515819162,
          0.07013552299496342,
          0.14407302131146252,
          0.12310503372493722,
          0.1378895272536133,
          0.15641164576041888,
          0.14742833099497257,
          0.11745414354387755,
          0.1621717551489233,
          0.11979925142782613,
          0.10240614310732743,
          0.139605286954657,
          0.08780967119675318,
          0.11845659781675788,
          0.09674002985320121,
          0.10608923991731474,
          0.0817287855277089,
          0.1602556511391629,
          0.1453505463068629,
          0.11020705288402292,
          0.0789939844241362,
          0.15442695513646307,
          0.06151159631525875,
          0.09568541320378943,
          0.10195401209174175,
          0.11130646636165804,
          0.08781603287679408,
          0.07340062406155642,
          0.14167249350721212,
          0.059522457406548546,
          0.1062980694303611,
          0.12379397385712573,
          0.0631402194825681,
          0.15684691475477983,
          0.08124464452083421,
          0.08742749557984804,
          0.11803226467819841,
          0.08377506456806635,
          0.15179905854961537,
          0.17400374458353898,
          0.08154320002985628,
          0.08027118425551164,
          0.16576033535389806,
          0.08822122683221081,
          0.1417672578558345,
          0.1692368336593246,
          0.10277319484516412,
          0.11167581215789564,
          0.12587892188014407,
          0.1147138228132655,
          0.1050224530096465,
          0.09051333666740706,
          0.14392622887591322,
          0.09234264399698779,
          0.11269167193324474,
          0.0817652642117577,
          0.14727713336753664,
          0.10764131964913234,
          0.10133303706094447,
          0.15081382662216308,
          0.15728068964749553,
          0.14757423170376965,
          0.07155392948151826,
          0.11814691705734588,
          0.14239431741977612,
          0.09269310658319849,
          0.07573474556334318,
          0.09883419179181716,
          0.06907404882442053,
          0.15615835754470658,
          0.1262064329754233,
          0.07775883031682508,
          0.11888771390249409,
          0.22706507613743737,
          0.11551345832344714,
          0.09326311386005326,
          0.12583569054372243,
          0.09336572033250715,
          0.16777407285269907,
          0.09395751604265513,
          0.17649256379471043,
          0.08435593630814274,
          0.09127286418055358,
          0.13095044820981797,
          0.13746160887339023,
          0.12294801888857414,
          0.12053207213248018,
          0.11236673757497732,
          0.1934826599651454,
          0.09669132583604738,
          0.11850603224737674,
          0.11938413710377256,
          0.14024071993524104,
          0.10084471027565607,
          0.09926894488152307,
          0.09144872844041037,
          0.1003516180757356,
          0.15234643158964106,
          0.07128560274702546,
          0.1752782277779702,
          0.12710831876274598,
          0.163497697977969,
          0.10244885570950901,
          0.07729130634060632,
          0.1403472555847062,
          0.12196347816777633,
          0.10675217069910332,
          0.14486207153817554,
          0.0822886034321749,
          0.15092130098156542,
          0.1612202671652715,
          0.09350387585221673,
          0.13904328574968985,
          0.1132666087046349,
          0.11999071086594212,
          0.08321894215754058,
          0.10837259772112726,
          0.112051072972115,
          0.1351983617584521,
          0.1489928329973726,
          0.07918068462514617,
          0.10670133794039818,
          0.06759252663965248,
          0.0822530187191616,
          0.12885332011284345,
          0.0898199804197999,
          0.09416621533620169,
          0.08806637583384963,
          0.11359458967449335,
          0.09788244375414848,
          0.07436387481504535,
          0.10501175351721996,
          0.06179878710172822,
          0.12366896438337582,
          0.08053237958467999,
          0.141115100777974,
          0.14916201627922235,
          0.043463733329978785,
          0.15781556003560704,
          0.11245208600067111,
          0.09536936229165652,
          0.12473343909620696,
          0.08778919337746036,
          0.08974862451131502,
          0.0665486943601584,
          0.12600645163384094,
          0.10132835572926444,
          0.13860879796809716,
          0.045753569220338616,
          0.09687699159305826,
          0.05842977113488993,
          0.07375424769016446,
          0.13483038332646768,
          0.07769853079964138,
          0.09726612393403225,
          0.10575274679119731,
          0.07324562022397257,
          0.14670028201556423,
          0.07243588307569107,
          0.13504243985129702,
          0.07625067654068143,
          0.10191948950734211,
          0.09328732796249314,
          0.13966203251635334,
          0.15651941270418318,
          0.1421922474050866,
          0.1122745124356277,
          0.08604141391579596,
          0.0523265256470654,
          0.1391394953997339,
          0.05290981794570178,
          0.0923206471248603,
          0.1460450236979868,
          0.08735704751543603,
          0.14093705680408553,
          0.05200087326955314,
          0.1731131664369539,
          0.111934981571437,
          0.05821565046556591,
          0.15135304888385076,
          0.09014362931502336,
          0.14520003883960775,
          0.0717418644084798,
          0.10780950244765745,
          0.16652339248942494,
          0.14109835318085837,
          0.06938041620795053,
          0.1243545962401349,
          0.0980838262128817,
          0.10712633167501202,
          0.11578092406363602,
          0.12037505669629647,
          0.08461490385905787,
          0.15771353474384237,
          0.08022814009872871,
          0.0822956298457843,
          0.19838231217120517,
          0.11110360930164409,
          0.09136712912584136,
          0.14504544494113464,
          0.12054311648248128,
          0.08409472559766351,
          0.10763407060480042,
          0.14423836726329878,
          0.1179840041746724,
          0.12399113995900216,
          0.10644476096163732,
          0.09657541974263777,
          0.13134493629332994,
          0.09997300424448961,
          0.10302924995458695,
          0.12269181594015614,
          0.03959601368545042,
          0.12689396108344536,
          0.14066230870721463,
          0.07855656743517113,
          0.11016773211044158,
          0.11266044850526043,
          0.11783381301793443,
          0.0893402481415582,
          0.04196416957274958,
          0.1065872972637389,
          0.14997153933255608,
          0.07245860124318451,
          0.10755131137687061,
          0.09219292613432979,
          0.10054708583489294,
          0.11243708473683203,
          0.06253125891608091,
          0.08598327180972715,
          0.1074932499489708,
          0.1796077868668253,
          0.06497741628824018,
          0.15665515238981625,
          0.09633953909585928,
          0.1078761337826519,
          0.084447074290482,
          0.12372326526512989,
          0.06325604769588349,
          0.12789994107196467,
          0.06673409264169229,
          0.1051574947921019,
          0.11597835771678702,
          0.13843686123338939,
          0.09455185295846269,
          0.12040449967731046,
          0.08738211428971018,
          0.11929312223347291,
          0.07876301232088104,
          0.09863921122141625,
          0.08371505434972161,
          0.11767758357859104,
          0.09790029394675734,
          0.14228755298311652,
          0.12658636023782716,
          0.09594962542887385,
          0.08692943764284224,
          0.09913910690569741,
          0.14290901340243253,
          0.0665347056222432,
          0.13655874984039945,
          0.10822331928220359,
          0.05249907821293448,
          0.1577859274996432,
          0.13843418871067056,
          0.1437161248738598,
          0.12026056237040465,
          0.10183834505411445,
          0.06756190405893131,
          0.11944380629571802,
          0.11833938845554766,
          0.14993548554980285,
          0.09101557164813869,
          0.1238955214676952,
          0.13992624122985048,
          0.0865671297377281,
          0.10086487831118958,
          0.1975382730963335,
          0.16391245915963779,
          0.04780285620623832,
          0.15641430614674384,
          0.09132579354964435,
          0.12200821063866218,
          0.05859178552330563,
          0.09442099045139504,
          0.06633102141617546,
          0.11548696775312357,
          0.1343001797268487,
          0.06474346758423703,
          0.1343179986628379,
          0.1390596399938622,
          0.1242111581999843,
          0.0753622111986949,
          0.08265247356334307,
          0.09243886477746255,
          0.12648152323430736,
          0.11278522837018416,
          0.14066997819561874,
          0.0635814410264808,
          0.11214565563678765,
          0.13701201621557219,
          0.08950768881564819,
          0.08641944733977411,
          0.10334681322109544,
          0.1513401927449234,
          0.11741772302999225,
          0.11003368894943424,
          0.04824860420469887,
          0.09744562156306574,
          0.05224104565828256,
          0.14314132958254658,
          0.12726466717236812,
          0.13020813936883946,
          0.08697623495025394,
          0.08006920638272742,
          0.0898910531262191,
          0.09589808950405261,
          0.12151515060277478,
          0.07801080260488105,
          0.09714385272060191,
          0.11991473756014889,
          0.11001805166081695,
          0.05892610124372768,
          0.07364490243078504,
          0.11451230798461524,
          0.12535128210914984,
          0.08376274123959104,
          0.09498774943224245,
          0.15815387873204328,
          0.13150312484664517,
          0.10535613509874686,
          0.06658209076176112,
          0.1666956718619505,
          0.07055840401257803,
          0.13106620772590488,
          0.07706186676661467,
          0.11687946585903564,
          0.09392455530586755,
          0.11035756136721284,
          0.16097347070131293,
          0.09445179485960317,
          0.07957797686347486,
          0.11497221644910297,
          0.11621461028214752,
          0.10321721843720262,
          0.08041561377065139,
          0.1413380881730134,
          0.056897974627544166,
          0.06738264500825761,
          0.06133948639395722,
          0.08700389352297092,
          0.1270458888104586,
          0.1307730076161161,
          0.10338678618984361,
          0.09117861997263893,
          0.08161013559225845,
          0.1703862856590564,
          0.08206500931169072,
          0.1503308373125145,
          0.13838157325047012,
          0.0365947684240434,
          0.1562805062481367,
          0.08051016871361787,
          0.10449751491164361,
          0.11893843329393763,
          0.09413704505822033,
          0.07437056153025462,
          0.08386476236239782,
          0.07445620503574729,
          0.13676255902976037,
          0.12571438949769428,
          0.11941924164440583,
          0.04105361360804632,
          0.0852811482542846,
          0.10328290477906381,
          0.08464815416697094,
          0.08464644430606857,
          0.15714082372027138,
          0.17378659283143855,
          0.062999018725072,
          0.12553186372479758,
          0.14788440256811844,
          0.11128076887690586,
          0.09658589911812805,
          0.07992749614671976,
          0.07619395072147973,
          0.09082734407351087,
          0.1127854134079678,
          0.10971073285558894,
          0.07017189962276843,
          0.130388542774394,
          0.08113868701277657,
          0.11996864475101443,
          0.11811050105394998,
          0.07626100442867771,
          0.14533039040546952,
          0.07520194171012273,
          0.035736382449669375,
          0.15880997147811296,
          0.12882668381884027,
          0.10317829789331348,
          0.07763571647159252,
          0.07531440483128628,
          0.09477314702762925,
          0.18233838479618292,
          0.1033627255500642,
          0.08135162204171612,
          0.07018518962914365,
          0.11336238201942347,
          0.12946597438602178,
          0.11667638695696883,
          0.09197270649215021,
          0.027261515379803362,
          0.0962738227845468,
          0.12055362815529642,
          0.09463076505283455,
          0.15637931515568235,
          0.09474620847237628,
          0.13086924092475538,
          0.14741396862444683,
          0.0859312687615729,
          0.07378357829535848,
          0.1714334620486464,
          0.1584744563758739,
          0.12753229114247452,
          0.10097389407828003,
          0.0976425944112593,
          0.09825408850424802,
          0.07977034348162061,
          0.10678986964834705,
          0.05572006523747377,
          0.126897469538917,
          0.07787538164073862,
          0.15602174130934093,
          0.11462064134289977,
          0.15947880536791503,
          0.08494121356076495,
          0.14988418925046804,
          0.1759259386438118,
          0.16415180479715405,
          0.13502092285328696,
          0.05723073688949084,
          0.09680951804660465,
          0.061618459045178285,
          0.07776945738340993,
          0.2281142258322256,
          0.09717669931798774,
          0.09334681958681833,
          0.13273948147081283,
          0.1242387765141284,
          0.1119026256735292,
          0.10643869271661091,
          0.09791283600148568,
          0.12282462083084444,
          0.05556366254731093,
          0.1261263963246734,
          0.13176945693890343,
          0.13253975088329936,
          0.13968300368619552,
          0.10850142797096332,
          0.1566587896608061,
          0.11527966114167103,
          0.1788757128262854,
          0.1289090600023303,
          0.10388606707085206,
          0.11498678615749933,
          0.11058894478005799,
          0.14960216590832515,
          0.1095026837812362,
          0.15670814814380762,
          0.10379137685107602,
          0.1724081879097517,
          0.08939453268585627,
          0.12173388360154944,
          0.051501034011302946,
          0.08638618963884273,
          0.18998982607171533,
          0.0985389984195135,
          0.08520762102664377,
          0.08577502187730741,
          0.062209259249340745,
          0.17112361257528,
          0.07890061323102028,
          0.13380650559394114,
          0.07345484877164031,
          0.05673793231840363,
          0.09806306089156544,
          0.09310410642378547,
          0.11199378213256087,
          0.09784010741701574,
          0.17794835605919884,
          0.12426020077291122,
          0.10745281772381347,
          0.1490421290903668,
          0.12772457480420354,
          0.10562774061684603,
          0.0747035568932188,
          0.09371039145148317,
          0.1195192986076931,
          0.0792881052666418,
          0.0923342979699612,
          0.1052737770453516,
          0.1174662071077748,
          0.11039434973605386,
          0.08593371127527259,
          0.05778739440752084,
          0.06552626748790981,
          0.1426752005009004,
          0.13378856684336352,
          0.13198573853903278,
          0.07767533766151957,
          0.130868989836036,
          0.21119562142050805,
          0.15651343378906743,
          0.14442005974522162,
          0.09247148624838165,
          0.11308606779919883,
          0.09832307798682127,
          0.06726672480287993,
          0.10831334976230655,
          0.16122317435288977,
          0.10627599998530765,
          0.08333419626752583,
          0.06869642027751352,
          0.07813750024182445,
          0.05870391589950556,
          0.08720201000654632,
          0.1316587859323268,
          0.19272424037617525,
          0.08363121292264508,
          0.06741067608646252,
          0.15846629467100354,
          0.08816455261508017,
          0.13908185156126263,
          0.14562374094223457,
          0.08608926298399913,
          0.0737493546608712,
          0.05835005575245228,
          0.12446072152675161,
          0.16661637692067907,
          0.12324566726918221,
          0.1034619096962756,
          0.13868849794164406,
          0.1348423681670384,
          0.09546914417155355,
          0.10540809038796799,
          0.13370573126323668,
          0.09226700481302096,
          0.1071528550143899,
          0.12492128222840711,
          0.08951035272274346,
          0.13945555287542052,
          0.11592539519354599,
          0.19079970844563016,
          0.1649489172840689,
          0.08925088051033578,
          0.08878143024955581,
          0.07089222874316524,
          0.07888595964511368,
          0.10212516752502221,
          0.1323978216878042,
          0.07350395507199561,
          0.08715394381748333,
          0.16047561295219234,
          0.06794442089251722,
          0.0878874315121811,
          0.10426087206274823,
          0.08838090661431267,
          0.12302867603867704,
          0.11085390794359991,
          0.09455427097445387,
          0.1698709773787232,
          0.1627421371494274,
          0.15014641855890412,
          0.0921600369780661,
          0.12220933059364736,
          0.0753584317184688,
          0.15000559679999975,
          0.09288570435364016,
          0.12906865409304652,
          0.13614636934400096,
          0.08915589980006286
         ],
         "xaxis": "x",
         "yaxis": "y"
        }
       ],
       "layout": {
        "barmode": "overlay",
        "legend": {
         "title": {
          "text": "variable"
         },
         "tracegroupgap": 0
        },
        "template": {
         "data": {
          "bar": [
           {
            "error_x": {
             "color": "#2a3f5f"
            },
            "error_y": {
             "color": "#2a3f5f"
            },
            "marker": {
             "line": {
              "color": "#E5ECF6",
              "width": 0.5
             },
             "pattern": {
              "fillmode": "overlay",
              "size": 10,
              "solidity": 0.2
             }
            },
            "type": "bar"
           }
          ],
          "barpolar": [
           {
            "marker": {
             "line": {
              "color": "#E5ECF6",
              "width": 0.5
             },
             "pattern": {
              "fillmode": "overlay",
              "size": 10,
              "solidity": 0.2
             }
            },
            "type": "barpolar"
           }
          ],
          "carpet": [
           {
            "aaxis": {
             "endlinecolor": "#2a3f5f",
             "gridcolor": "white",
             "linecolor": "white",
             "minorgridcolor": "white",
             "startlinecolor": "#2a3f5f"
            },
            "baxis": {
             "endlinecolor": "#2a3f5f",
             "gridcolor": "white",
             "linecolor": "white",
             "minorgridcolor": "white",
             "startlinecolor": "#2a3f5f"
            },
            "type": "carpet"
           }
          ],
          "choropleth": [
           {
            "colorbar": {
             "outlinewidth": 0,
             "ticks": ""
            },
            "type": "choropleth"
           }
          ],
          "contour": [
           {
            "colorbar": {
             "outlinewidth": 0,
             "ticks": ""
            },
            "colorscale": [
             [
              0,
              "#0d0887"
             ],
             [
              0.1111111111111111,
              "#46039f"
             ],
             [
              0.2222222222222222,
              "#7201a8"
             ],
             [
              0.3333333333333333,
              "#9c179e"
             ],
             [
              0.4444444444444444,
              "#bd3786"
             ],
             [
              0.5555555555555556,
              "#d8576b"
             ],
             [
              0.6666666666666666,
              "#ed7953"
             ],
             [
              0.7777777777777778,
              "#fb9f3a"
             ],
             [
              0.8888888888888888,
              "#fdca26"
             ],
             [
              1,
              "#f0f921"
             ]
            ],
            "type": "contour"
           }
          ],
          "contourcarpet": [
           {
            "colorbar": {
             "outlinewidth": 0,
             "ticks": ""
            },
            "type": "contourcarpet"
           }
          ],
          "heatmap": [
           {
            "colorbar": {
             "outlinewidth": 0,
             "ticks": ""
            },
            "colorscale": [
             [
              0,
              "#0d0887"
             ],
             [
              0.1111111111111111,
              "#46039f"
             ],
             [
              0.2222222222222222,
              "#7201a8"
             ],
             [
              0.3333333333333333,
              "#9c179e"
             ],
             [
              0.4444444444444444,
              "#bd3786"
             ],
             [
              0.5555555555555556,
              "#d8576b"
             ],
             [
              0.6666666666666666,
              "#ed7953"
             ],
             [
              0.7777777777777778,
              "#fb9f3a"
             ],
             [
              0.8888888888888888,
              "#fdca26"
             ],
             [
              1,
              "#f0f921"
             ]
            ],
            "type": "heatmap"
           }
          ],
          "heatmapgl": [
           {
            "colorbar": {
             "outlinewidth": 0,
             "ticks": ""
            },
            "colorscale": [
             [
              0,
              "#0d0887"
             ],
             [
              0.1111111111111111,
              "#46039f"
             ],
             [
              0.2222222222222222,
              "#7201a8"
             ],
             [
              0.3333333333333333,
              "#9c179e"
             ],
             [
              0.4444444444444444,
              "#bd3786"
             ],
             [
              0.5555555555555556,
              "#d8576b"
             ],
             [
              0.6666666666666666,
              "#ed7953"
             ],
             [
              0.7777777777777778,
              "#fb9f3a"
             ],
             [
              0.8888888888888888,
              "#fdca26"
             ],
             [
              1,
              "#f0f921"
             ]
            ],
            "type": "heatmapgl"
           }
          ],
          "histogram": [
           {
            "marker": {
             "pattern": {
              "fillmode": "overlay",
              "size": 10,
              "solidity": 0.2
             }
            },
            "type": "histogram"
           }
          ],
          "histogram2d": [
           {
            "colorbar": {
             "outlinewidth": 0,
             "ticks": ""
            },
            "colorscale": [
             [
              0,
              "#0d0887"
             ],
             [
              0.1111111111111111,
              "#46039f"
             ],
             [
              0.2222222222222222,
              "#7201a8"
             ],
             [
              0.3333333333333333,
              "#9c179e"
             ],
             [
              0.4444444444444444,
              "#bd3786"
             ],
             [
              0.5555555555555556,
              "#d8576b"
             ],
             [
              0.6666666666666666,
              "#ed7953"
             ],
             [
              0.7777777777777778,
              "#fb9f3a"
             ],
             [
              0.8888888888888888,
              "#fdca26"
             ],
             [
              1,
              "#f0f921"
             ]
            ],
            "type": "histogram2d"
           }
          ],
          "histogram2dcontour": [
           {
            "colorbar": {
             "outlinewidth": 0,
             "ticks": ""
            },
            "colorscale": [
             [
              0,
              "#0d0887"
             ],
             [
              0.1111111111111111,
              "#46039f"
             ],
             [
              0.2222222222222222,
              "#7201a8"
             ],
             [
              0.3333333333333333,
              "#9c179e"
             ],
             [
              0.4444444444444444,
              "#bd3786"
             ],
             [
              0.5555555555555556,
              "#d8576b"
             ],
             [
              0.6666666666666666,
              "#ed7953"
             ],
             [
              0.7777777777777778,
              "#fb9f3a"
             ],
             [
              0.8888888888888888,
              "#fdca26"
             ],
             [
              1,
              "#f0f921"
             ]
            ],
            "type": "histogram2dcontour"
           }
          ],
          "mesh3d": [
           {
            "colorbar": {
             "outlinewidth": 0,
             "ticks": ""
            },
            "type": "mesh3d"
           }
          ],
          "parcoords": [
           {
            "line": {
             "colorbar": {
              "outlinewidth": 0,
              "ticks": ""
             }
            },
            "type": "parcoords"
           }
          ],
          "pie": [
           {
            "automargin": true,
            "type": "pie"
           }
          ],
          "scatter": [
           {
            "marker": {
             "colorbar": {
              "outlinewidth": 0,
              "ticks": ""
             }
            },
            "type": "scatter"
           }
          ],
          "scatter3d": [
           {
            "line": {
             "colorbar": {
              "outlinewidth": 0,
              "ticks": ""
             }
            },
            "marker": {
             "colorbar": {
              "outlinewidth": 0,
              "ticks": ""
             }
            },
            "type": "scatter3d"
           }
          ],
          "scattercarpet": [
           {
            "marker": {
             "colorbar": {
              "outlinewidth": 0,
              "ticks": ""
             }
            },
            "type": "scattercarpet"
           }
          ],
          "scattergeo": [
           {
            "marker": {
             "colorbar": {
              "outlinewidth": 0,
              "ticks": ""
             }
            },
            "type": "scattergeo"
           }
          ],
          "scattergl": [
           {
            "marker": {
             "colorbar": {
              "outlinewidth": 0,
              "ticks": ""
             }
            },
            "type": "scattergl"
           }
          ],
          "scattermapbox": [
           {
            "marker": {
             "colorbar": {
              "outlinewidth": 0,
              "ticks": ""
             }
            },
            "type": "scattermapbox"
           }
          ],
          "scatterpolar": [
           {
            "marker": {
             "colorbar": {
              "outlinewidth": 0,
              "ticks": ""
             }
            },
            "type": "scatterpolar"
           }
          ],
          "scatterpolargl": [
           {
            "marker": {
             "colorbar": {
              "outlinewidth": 0,
              "ticks": ""
             }
            },
            "type": "scatterpolargl"
           }
          ],
          "scatterternary": [
           {
            "marker": {
             "colorbar": {
              "outlinewidth": 0,
              "ticks": ""
             }
            },
            "type": "scatterternary"
           }
          ],
          "surface": [
           {
            "colorbar": {
             "outlinewidth": 0,
             "ticks": ""
            },
            "colorscale": [
             [
              0,
              "#0d0887"
             ],
             [
              0.1111111111111111,
              "#46039f"
             ],
             [
              0.2222222222222222,
              "#7201a8"
             ],
             [
              0.3333333333333333,
              "#9c179e"
             ],
             [
              0.4444444444444444,
              "#bd3786"
             ],
             [
              0.5555555555555556,
              "#d8576b"
             ],
             [
              0.6666666666666666,
              "#ed7953"
             ],
             [
              0.7777777777777778,
              "#fb9f3a"
             ],
             [
              0.8888888888888888,
              "#fdca26"
             ],
             [
              1,
              "#f0f921"
             ]
            ],
            "type": "surface"
           }
          ],
          "table": [
           {
            "cells": {
             "fill": {
              "color": "#EBF0F8"
             },
             "line": {
              "color": "white"
             }
            },
            "header": {
             "fill": {
              "color": "#C8D4E3"
             },
             "line": {
              "color": "white"
             }
            },
            "type": "table"
           }
          ]
         },
         "layout": {
          "annotationdefaults": {
           "arrowcolor": "#2a3f5f",
           "arrowhead": 0,
           "arrowwidth": 1
          },
          "autotypenumbers": "strict",
          "coloraxis": {
           "colorbar": {
            "outlinewidth": 0,
            "ticks": ""
           }
          },
          "colorscale": {
           "diverging": [
            [
             0,
             "#8e0152"
            ],
            [
             0.1,
             "#c51b7d"
            ],
            [
             0.2,
             "#de77ae"
            ],
            [
             0.3,
             "#f1b6da"
            ],
            [
             0.4,
             "#fde0ef"
            ],
            [
             0.5,
             "#f7f7f7"
            ],
            [
             0.6,
             "#e6f5d0"
            ],
            [
             0.7,
             "#b8e186"
            ],
            [
             0.8,
             "#7fbc41"
            ],
            [
             0.9,
             "#4d9221"
            ],
            [
             1,
             "#276419"
            ]
           ],
           "sequential": [
            [
             0,
             "#0d0887"
            ],
            [
             0.1111111111111111,
             "#46039f"
            ],
            [
             0.2222222222222222,
             "#7201a8"
            ],
            [
             0.3333333333333333,
             "#9c179e"
            ],
            [
             0.4444444444444444,
             "#bd3786"
            ],
            [
             0.5555555555555556,
             "#d8576b"
            ],
            [
             0.6666666666666666,
             "#ed7953"
            ],
            [
             0.7777777777777778,
             "#fb9f3a"
            ],
            [
             0.8888888888888888,
             "#fdca26"
            ],
            [
             1,
             "#f0f921"
            ]
           ],
           "sequentialminus": [
            [
             0,
             "#0d0887"
            ],
            [
             0.1111111111111111,
             "#46039f"
            ],
            [
             0.2222222222222222,
             "#7201a8"
            ],
            [
             0.3333333333333333,
             "#9c179e"
            ],
            [
             0.4444444444444444,
             "#bd3786"
            ],
            [
             0.5555555555555556,
             "#d8576b"
            ],
            [
             0.6666666666666666,
             "#ed7953"
            ],
            [
             0.7777777777777778,
             "#fb9f3a"
            ],
            [
             0.8888888888888888,
             "#fdca26"
            ],
            [
             1,
             "#f0f921"
            ]
           ]
          },
          "colorway": [
           "#636efa",
           "#EF553B",
           "#00cc96",
           "#ab63fa",
           "#FFA15A",
           "#19d3f3",
           "#FF6692",
           "#B6E880",
           "#FF97FF",
           "#FECB52"
          ],
          "font": {
           "color": "#2a3f5f"
          },
          "geo": {
           "bgcolor": "white",
           "lakecolor": "white",
           "landcolor": "#E5ECF6",
           "showlakes": true,
           "showland": true,
           "subunitcolor": "white"
          },
          "hoverlabel": {
           "align": "left"
          },
          "hovermode": "closest",
          "mapbox": {
           "style": "light"
          },
          "paper_bgcolor": "white",
          "plot_bgcolor": "#E5ECF6",
          "polar": {
           "angularaxis": {
            "gridcolor": "white",
            "linecolor": "white",
            "ticks": ""
           },
           "bgcolor": "#E5ECF6",
           "radialaxis": {
            "gridcolor": "white",
            "linecolor": "white",
            "ticks": ""
           }
          },
          "scene": {
           "xaxis": {
            "backgroundcolor": "#E5ECF6",
            "gridcolor": "white",
            "gridwidth": 2,
            "linecolor": "white",
            "showbackground": true,
            "ticks": "",
            "zerolinecolor": "white"
           },
           "yaxis": {
            "backgroundcolor": "#E5ECF6",
            "gridcolor": "white",
            "gridwidth": 2,
            "linecolor": "white",
            "showbackground": true,
            "ticks": "",
            "zerolinecolor": "white"
           },
           "zaxis": {
            "backgroundcolor": "#E5ECF6",
            "gridcolor": "white",
            "gridwidth": 2,
            "linecolor": "white",
            "showbackground": true,
            "ticks": "",
            "zerolinecolor": "white"
           }
          },
          "shapedefaults": {
           "line": {
            "color": "#2a3f5f"
           }
          },
          "ternary": {
           "aaxis": {
            "gridcolor": "white",
            "linecolor": "white",
            "ticks": ""
           },
           "baxis": {
            "gridcolor": "white",
            "linecolor": "white",
            "ticks": ""
           },
           "bgcolor": "#E5ECF6",
           "caxis": {
            "gridcolor": "white",
            "linecolor": "white",
            "ticks": ""
           }
          },
          "title": {
           "x": 0.05
          },
          "xaxis": {
           "automargin": true,
           "gridcolor": "white",
           "linecolor": "white",
           "ticks": "",
           "title": {
            "standoff": 15
           },
           "zerolinecolor": "white",
           "zerolinewidth": 2
          },
          "yaxis": {
           "automargin": true,
           "gridcolor": "white",
           "linecolor": "white",
           "ticks": "",
           "title": {
            "standoff": 15
           },
           "zerolinecolor": "white",
           "zerolinewidth": 2
          }
         }
        },
        "title": {
         "text": "MSE comparison between train and test sets"
        },
        "xaxis": {
         "anchor": "y",
         "domain": [
          0,
          1
         ],
         "title": {
          "text": "value"
         }
        },
        "yaxis": {
         "anchor": "x",
         "domain": [
          0,
          1
         ],
         "title": {
          "text": "count"
         }
        }
       }
      }
     },
     "metadata": {},
     "output_type": "display_data"
    }
   ],
   "source": [
    "def compute_n_mse(n_reps, X, y):\n",
    "    \"\"\"\n",
    "    Perform `n_reps` splits of `X` and `y` and compute the MSE on each repetition.\n",
    "    \"\"\"\n",
    "\n",
    "    store_mse = np.array([])\n",
    "    store_lr = np.array([])\n",
    "\n",
    "    for _ in range(n_reps):\n",
    "\n",
    "        # peform train-test split\n",
    "        X_train, X_test, y_train, y_test = my_tt_split(X, y, train_size=0.8)\n",
    "\n",
    "        # fit regressor\n",
    "        lr = LinearRegression()\n",
    "        lr.fit(X_train, y_train)\n",
    "        store_lr = np.append(store_lr, lr)  # store for confidence interval computation\n",
    "\n",
    "        # predict\n",
    "        y_pred_train = lr.predict(X_train)\n",
    "        y_pred_test = lr.predict(X_test)\n",
    "\n",
    "        # compute MSE\n",
    "        mse_train = np.mean((y_train - y_pred_train) ** 2)\n",
    "        mse_test = np.mean((y_test - y_pred_test) ** 2)\n",
    "\n",
    "        # append MSE to list of all MSE's\n",
    "        store_mse = np.append(store_mse, [mse_train, mse_test]).reshape(-1, 2)\n",
    "\n",
    "    return store_mse\n",
    "\n",
    "\n",
    "n_reps = 1000\n",
    "store_mse = compute_n_mse(n_reps=n_reps, X=X, y=y)\n",
    "\n",
    "df_mse = pd.DataFrame(data=store_mse, columns=[\"train\", \"test\"])\n",
    "px.histogram(\n",
    "    data_frame=df_mse,\n",
    "    opacity=0.6,\n",
    "    barmode=\"overlay\",\n",
    "    title=\"MSE comparison between train and test sets\",\n",
    ")\n"
   ]
  },
  {
   "cell_type": "markdown",
   "metadata": {},
   "source": [
    "### Which error is better? Why?\n",
    "\n",
    "Overall, the train error is better, because this is the data we use to find the parameters of our linear model. Subsequently, the model is deployed on previously unseen data, so the parameters are expected to perform well too, but they often underperform in comparison to train data.\\\n",
    "We can see however that in some non-negligible portion of all cases, we are \"lucky\" and the parameters perform better on test data than on train data.\n"
   ]
  },
  {
   "cell_type": "markdown",
   "metadata": {},
   "source": [
    "## Question 5 ─ Confidence interval\n"
   ]
  },
  {
   "cell_type": "markdown",
   "metadata": {},
   "source": [
    "We perform a kind of bootstrap on the prediction value. That is, given a `new_sample`, we predict its value with the previously fitted linear regressors. We sort the predicted values, take the 2.5th and 97.5% percentiles (for a 95% confidence interval) and return their value.\n"
   ]
  },
  {
   "cell_type": "code",
   "execution_count": 12,
   "metadata": {},
   "outputs": [
    {
     "data": {
      "application/vnd.plotly.v1+json": {
       "config": {
        "plotlyServerURL": "https://plot.ly"
       },
       "data": [
        {
         "hovertemplate": "variable=ci_lower<br>index=%{x}<br>value=%{y}<extra></extra>",
         "legendgroup": "ci_lower",
         "line": {
          "color": "#636efa",
          "dash": "solid"
         },
         "marker": {
          "symbol": "circle"
         },
         "mode": "lines",
         "name": "ci_lower",
         "orientation": "v",
         "showlegend": true,
         "type": "scatter",
         "x": [
          0,
          1,
          2,
          3,
          4,
          5,
          6,
          7,
          8,
          9
         ],
         "xaxis": "x",
         "y": [
          -13.2445,
          -6.9119,
          -6.9261,
          1.1427,
          1.4643,
          2.0038,
          3.6721,
          4.7623,
          6.2014,
          8.4921
         ],
         "yaxis": "y"
        },
        {
         "hovertemplate": "variable=ci_upper<br>index=%{x}<br>value=%{y}<extra></extra>",
         "legendgroup": "ci_upper",
         "line": {
          "color": "#EF553B",
          "dash": "solid"
         },
         "marker": {
          "symbol": "circle"
         },
         "mode": "lines",
         "name": "ci_upper",
         "orientation": "v",
         "showlegend": true,
         "type": "scatter",
         "x": [
          0,
          1,
          2,
          3,
          4,
          5,
          6,
          7,
          8,
          9
         ],
         "xaxis": "x",
         "y": [
          -7.7231,
          -1.3905,
          -1.4047,
          6.6641,
          6.9857,
          7.5252,
          9.1935,
          10.2837,
          11.7228,
          14.0135
         ],
         "yaxis": "y"
        },
        {
         "hovertemplate": "variable=target<br>index=%{x}<br>value=%{y}<extra></extra>",
         "legendgroup": "target",
         "line": {
          "color": "#00cc96",
          "dash": "solid"
         },
         "marker": {
          "symbol": "circle"
         },
         "mode": "lines",
         "name": "target",
         "orientation": "v",
         "showlegend": true,
         "type": "scatter",
         "x": [
          0,
          1,
          2,
          3,
          4,
          5,
          6,
          7,
          8,
          9
         ],
         "xaxis": "x",
         "y": [
          -10.37645,
          -4.314618,
          -3.74712,
          3.974214,
          4.067918,
          4.552022,
          6.269199,
          7.114825,
          9.023818,
          10.88437
         ],
         "yaxis": "y"
        }
       ],
       "layout": {
        "legend": {
         "title": {
          "text": "variable"
         },
         "tracegroupgap": 0
        },
        "margin": {
         "t": 60
        },
        "template": {
         "data": {
          "bar": [
           {
            "error_x": {
             "color": "#2a3f5f"
            },
            "error_y": {
             "color": "#2a3f5f"
            },
            "marker": {
             "line": {
              "color": "#E5ECF6",
              "width": 0.5
             },
             "pattern": {
              "fillmode": "overlay",
              "size": 10,
              "solidity": 0.2
             }
            },
            "type": "bar"
           }
          ],
          "barpolar": [
           {
            "marker": {
             "line": {
              "color": "#E5ECF6",
              "width": 0.5
             },
             "pattern": {
              "fillmode": "overlay",
              "size": 10,
              "solidity": 0.2
             }
            },
            "type": "barpolar"
           }
          ],
          "carpet": [
           {
            "aaxis": {
             "endlinecolor": "#2a3f5f",
             "gridcolor": "white",
             "linecolor": "white",
             "minorgridcolor": "white",
             "startlinecolor": "#2a3f5f"
            },
            "baxis": {
             "endlinecolor": "#2a3f5f",
             "gridcolor": "white",
             "linecolor": "white",
             "minorgridcolor": "white",
             "startlinecolor": "#2a3f5f"
            },
            "type": "carpet"
           }
          ],
          "choropleth": [
           {
            "colorbar": {
             "outlinewidth": 0,
             "ticks": ""
            },
            "type": "choropleth"
           }
          ],
          "contour": [
           {
            "colorbar": {
             "outlinewidth": 0,
             "ticks": ""
            },
            "colorscale": [
             [
              0,
              "#0d0887"
             ],
             [
              0.1111111111111111,
              "#46039f"
             ],
             [
              0.2222222222222222,
              "#7201a8"
             ],
             [
              0.3333333333333333,
              "#9c179e"
             ],
             [
              0.4444444444444444,
              "#bd3786"
             ],
             [
              0.5555555555555556,
              "#d8576b"
             ],
             [
              0.6666666666666666,
              "#ed7953"
             ],
             [
              0.7777777777777778,
              "#fb9f3a"
             ],
             [
              0.8888888888888888,
              "#fdca26"
             ],
             [
              1,
              "#f0f921"
             ]
            ],
            "type": "contour"
           }
          ],
          "contourcarpet": [
           {
            "colorbar": {
             "outlinewidth": 0,
             "ticks": ""
            },
            "type": "contourcarpet"
           }
          ],
          "heatmap": [
           {
            "colorbar": {
             "outlinewidth": 0,
             "ticks": ""
            },
            "colorscale": [
             [
              0,
              "#0d0887"
             ],
             [
              0.1111111111111111,
              "#46039f"
             ],
             [
              0.2222222222222222,
              "#7201a8"
             ],
             [
              0.3333333333333333,
              "#9c179e"
             ],
             [
              0.4444444444444444,
              "#bd3786"
             ],
             [
              0.5555555555555556,
              "#d8576b"
             ],
             [
              0.6666666666666666,
              "#ed7953"
             ],
             [
              0.7777777777777778,
              "#fb9f3a"
             ],
             [
              0.8888888888888888,
              "#fdca26"
             ],
             [
              1,
              "#f0f921"
             ]
            ],
            "type": "heatmap"
           }
          ],
          "heatmapgl": [
           {
            "colorbar": {
             "outlinewidth": 0,
             "ticks": ""
            },
            "colorscale": [
             [
              0,
              "#0d0887"
             ],
             [
              0.1111111111111111,
              "#46039f"
             ],
             [
              0.2222222222222222,
              "#7201a8"
             ],
             [
              0.3333333333333333,
              "#9c179e"
             ],
             [
              0.4444444444444444,
              "#bd3786"
             ],
             [
              0.5555555555555556,
              "#d8576b"
             ],
             [
              0.6666666666666666,
              "#ed7953"
             ],
             [
              0.7777777777777778,
              "#fb9f3a"
             ],
             [
              0.8888888888888888,
              "#fdca26"
             ],
             [
              1,
              "#f0f921"
             ]
            ],
            "type": "heatmapgl"
           }
          ],
          "histogram": [
           {
            "marker": {
             "pattern": {
              "fillmode": "overlay",
              "size": 10,
              "solidity": 0.2
             }
            },
            "type": "histogram"
           }
          ],
          "histogram2d": [
           {
            "colorbar": {
             "outlinewidth": 0,
             "ticks": ""
            },
            "colorscale": [
             [
              0,
              "#0d0887"
             ],
             [
              0.1111111111111111,
              "#46039f"
             ],
             [
              0.2222222222222222,
              "#7201a8"
             ],
             [
              0.3333333333333333,
              "#9c179e"
             ],
             [
              0.4444444444444444,
              "#bd3786"
             ],
             [
              0.5555555555555556,
              "#d8576b"
             ],
             [
              0.6666666666666666,
              "#ed7953"
             ],
             [
              0.7777777777777778,
              "#fb9f3a"
             ],
             [
              0.8888888888888888,
              "#fdca26"
             ],
             [
              1,
              "#f0f921"
             ]
            ],
            "type": "histogram2d"
           }
          ],
          "histogram2dcontour": [
           {
            "colorbar": {
             "outlinewidth": 0,
             "ticks": ""
            },
            "colorscale": [
             [
              0,
              "#0d0887"
             ],
             [
              0.1111111111111111,
              "#46039f"
             ],
             [
              0.2222222222222222,
              "#7201a8"
             ],
             [
              0.3333333333333333,
              "#9c179e"
             ],
             [
              0.4444444444444444,
              "#bd3786"
             ],
             [
              0.5555555555555556,
              "#d8576b"
             ],
             [
              0.6666666666666666,
              "#ed7953"
             ],
             [
              0.7777777777777778,
              "#fb9f3a"
             ],
             [
              0.8888888888888888,
              "#fdca26"
             ],
             [
              1,
              "#f0f921"
             ]
            ],
            "type": "histogram2dcontour"
           }
          ],
          "mesh3d": [
           {
            "colorbar": {
             "outlinewidth": 0,
             "ticks": ""
            },
            "type": "mesh3d"
           }
          ],
          "parcoords": [
           {
            "line": {
             "colorbar": {
              "outlinewidth": 0,
              "ticks": ""
             }
            },
            "type": "parcoords"
           }
          ],
          "pie": [
           {
            "automargin": true,
            "type": "pie"
           }
          ],
          "scatter": [
           {
            "marker": {
             "colorbar": {
              "outlinewidth": 0,
              "ticks": ""
             }
            },
            "type": "scatter"
           }
          ],
          "scatter3d": [
           {
            "line": {
             "colorbar": {
              "outlinewidth": 0,
              "ticks": ""
             }
            },
            "marker": {
             "colorbar": {
              "outlinewidth": 0,
              "ticks": ""
             }
            },
            "type": "scatter3d"
           }
          ],
          "scattercarpet": [
           {
            "marker": {
             "colorbar": {
              "outlinewidth": 0,
              "ticks": ""
             }
            },
            "type": "scattercarpet"
           }
          ],
          "scattergeo": [
           {
            "marker": {
             "colorbar": {
              "outlinewidth": 0,
              "ticks": ""
             }
            },
            "type": "scattergeo"
           }
          ],
          "scattergl": [
           {
            "marker": {
             "colorbar": {
              "outlinewidth": 0,
              "ticks": ""
             }
            },
            "type": "scattergl"
           }
          ],
          "scattermapbox": [
           {
            "marker": {
             "colorbar": {
              "outlinewidth": 0,
              "ticks": ""
             }
            },
            "type": "scattermapbox"
           }
          ],
          "scatterpolar": [
           {
            "marker": {
             "colorbar": {
              "outlinewidth": 0,
              "ticks": ""
             }
            },
            "type": "scatterpolar"
           }
          ],
          "scatterpolargl": [
           {
            "marker": {
             "colorbar": {
              "outlinewidth": 0,
              "ticks": ""
             }
            },
            "type": "scatterpolargl"
           }
          ],
          "scatterternary": [
           {
            "marker": {
             "colorbar": {
              "outlinewidth": 0,
              "ticks": ""
             }
            },
            "type": "scatterternary"
           }
          ],
          "surface": [
           {
            "colorbar": {
             "outlinewidth": 0,
             "ticks": ""
            },
            "colorscale": [
             [
              0,
              "#0d0887"
             ],
             [
              0.1111111111111111,
              "#46039f"
             ],
             [
              0.2222222222222222,
              "#7201a8"
             ],
             [
              0.3333333333333333,
              "#9c179e"
             ],
             [
              0.4444444444444444,
              "#bd3786"
             ],
             [
              0.5555555555555556,
              "#d8576b"
             ],
             [
              0.6666666666666666,
              "#ed7953"
             ],
             [
              0.7777777777777778,
              "#fb9f3a"
             ],
             [
              0.8888888888888888,
              "#fdca26"
             ],
             [
              1,
              "#f0f921"
             ]
            ],
            "type": "surface"
           }
          ],
          "table": [
           {
            "cells": {
             "fill": {
              "color": "#EBF0F8"
             },
             "line": {
              "color": "white"
             }
            },
            "header": {
             "fill": {
              "color": "#C8D4E3"
             },
             "line": {
              "color": "white"
             }
            },
            "type": "table"
           }
          ]
         },
         "layout": {
          "annotationdefaults": {
           "arrowcolor": "#2a3f5f",
           "arrowhead": 0,
           "arrowwidth": 1
          },
          "autotypenumbers": "strict",
          "coloraxis": {
           "colorbar": {
            "outlinewidth": 0,
            "ticks": ""
           }
          },
          "colorscale": {
           "diverging": [
            [
             0,
             "#8e0152"
            ],
            [
             0.1,
             "#c51b7d"
            ],
            [
             0.2,
             "#de77ae"
            ],
            [
             0.3,
             "#f1b6da"
            ],
            [
             0.4,
             "#fde0ef"
            ],
            [
             0.5,
             "#f7f7f7"
            ],
            [
             0.6,
             "#e6f5d0"
            ],
            [
             0.7,
             "#b8e186"
            ],
            [
             0.8,
             "#7fbc41"
            ],
            [
             0.9,
             "#4d9221"
            ],
            [
             1,
             "#276419"
            ]
           ],
           "sequential": [
            [
             0,
             "#0d0887"
            ],
            [
             0.1111111111111111,
             "#46039f"
            ],
            [
             0.2222222222222222,
             "#7201a8"
            ],
            [
             0.3333333333333333,
             "#9c179e"
            ],
            [
             0.4444444444444444,
             "#bd3786"
            ],
            [
             0.5555555555555556,
             "#d8576b"
            ],
            [
             0.6666666666666666,
             "#ed7953"
            ],
            [
             0.7777777777777778,
             "#fb9f3a"
            ],
            [
             0.8888888888888888,
             "#fdca26"
            ],
            [
             1,
             "#f0f921"
            ]
           ],
           "sequentialminus": [
            [
             0,
             "#0d0887"
            ],
            [
             0.1111111111111111,
             "#46039f"
            ],
            [
             0.2222222222222222,
             "#7201a8"
            ],
            [
             0.3333333333333333,
             "#9c179e"
            ],
            [
             0.4444444444444444,
             "#bd3786"
            ],
            [
             0.5555555555555556,
             "#d8576b"
            ],
            [
             0.6666666666666666,
             "#ed7953"
            ],
            [
             0.7777777777777778,
             "#fb9f3a"
            ],
            [
             0.8888888888888888,
             "#fdca26"
            ],
            [
             1,
             "#f0f921"
            ]
           ]
          },
          "colorway": [
           "#636efa",
           "#EF553B",
           "#00cc96",
           "#ab63fa",
           "#FFA15A",
           "#19d3f3",
           "#FF6692",
           "#B6E880",
           "#FF97FF",
           "#FECB52"
          ],
          "font": {
           "color": "#2a3f5f"
          },
          "geo": {
           "bgcolor": "white",
           "lakecolor": "white",
           "landcolor": "#E5ECF6",
           "showlakes": true,
           "showland": true,
           "subunitcolor": "white"
          },
          "hoverlabel": {
           "align": "left"
          },
          "hovermode": "closest",
          "mapbox": {
           "style": "light"
          },
          "paper_bgcolor": "white",
          "plot_bgcolor": "#E5ECF6",
          "polar": {
           "angularaxis": {
            "gridcolor": "white",
            "linecolor": "white",
            "ticks": ""
           },
           "bgcolor": "#E5ECF6",
           "radialaxis": {
            "gridcolor": "white",
            "linecolor": "white",
            "ticks": ""
           }
          },
          "scene": {
           "xaxis": {
            "backgroundcolor": "#E5ECF6",
            "gridcolor": "white",
            "gridwidth": 2,
            "linecolor": "white",
            "showbackground": true,
            "ticks": "",
            "zerolinecolor": "white"
           },
           "yaxis": {
            "backgroundcolor": "#E5ECF6",
            "gridcolor": "white",
            "gridwidth": 2,
            "linecolor": "white",
            "showbackground": true,
            "ticks": "",
            "zerolinecolor": "white"
           },
           "zaxis": {
            "backgroundcolor": "#E5ECF6",
            "gridcolor": "white",
            "gridwidth": 2,
            "linecolor": "white",
            "showbackground": true,
            "ticks": "",
            "zerolinecolor": "white"
           }
          },
          "shapedefaults": {
           "line": {
            "color": "#2a3f5f"
           }
          },
          "ternary": {
           "aaxis": {
            "gridcolor": "white",
            "linecolor": "white",
            "ticks": ""
           },
           "baxis": {
            "gridcolor": "white",
            "linecolor": "white",
            "ticks": ""
           },
           "bgcolor": "#E5ECF6",
           "caxis": {
            "gridcolor": "white",
            "linecolor": "white",
            "ticks": ""
           }
          },
          "title": {
           "x": 0.05
          },
          "xaxis": {
           "automargin": true,
           "gridcolor": "white",
           "linecolor": "white",
           "ticks": "",
           "title": {
            "standoff": 15
           },
           "zerolinecolor": "white",
           "zerolinewidth": 2
          },
          "yaxis": {
           "automargin": true,
           "gridcolor": "white",
           "linecolor": "white",
           "ticks": "",
           "title": {
            "standoff": 15
           },
           "zerolinecolor": "white",
           "zerolinewidth": 2
          }
         }
        },
        "xaxis": {
         "anchor": "y",
         "domain": [
          0,
          1
         ],
         "title": {
          "text": "index"
         }
        },
        "yaxis": {
         "anchor": "x",
         "domain": [
          0,
          1
         ],
         "title": {
          "text": "value"
         }
        }
       }
      }
     },
     "metadata": {},
     "output_type": "display_data"
    }
   ],
   "source": [
    "new_samples = X_test[:1]  # some example of new sample\n",
    "\n",
    "\n",
    "def compute_ci(lr, new_data, y_train, alpha=0.05):\n",
    "    \"\"\"\n",
    "    return the lower and upper bounds of the confidence interval at level `alpha`\n",
    "    \"\"\"\n",
    "    y_pred = lr.predict(new_data)\n",
    "    std = stats.sem(y_train)\n",
    "\n",
    "    quantile = 1 - alpha / 2\n",
    "    n_samples = len(y_train)\n",
    "    t_score = stats.t.ppf(quantile, n_samples - 1)\n",
    "    eccentricity = t_score * std\n",
    "\n",
    "    # compute lower and upper percentile values\n",
    "    conf_lower = np.round(y_pred - eccentricity, decimals=4)\n",
    "    conf_upper = np.round(y_pred + eccentricity, decimals=4)\n",
    "\n",
    "    return conf_lower, conf_upper\n",
    "\n",
    "\n",
    "df_ci = pd.DataFrame()\n",
    "\n",
    "# we use X_test as the new data\n",
    "# but it could be some other unknown data\n",
    "df_ci[\"ci_lower\"], df_ci[\"ci_upper\"] = compute_ci(\n",
    "    lr=lr,\n",
    "    new_data=X_test, \n",
    "    y_train=y_train,\n",
    ")\n",
    "df_ci[\"target\"] = y_test\n",
    "df_ci = df_ci.sort_values(\"target\", ignore_index=True)\n",
    "px.line(df_ci)\n"
   ]
  },
  {
   "cell_type": "markdown",
   "metadata": {},
   "source": [
    "## Question 6 ─ Assumptions to compute confidence interval\n"
   ]
  },
  {
   "cell_type": "markdown",
   "metadata": {},
   "source": [
    "In order to compute the confidence intervals, we assume that the `new_data` that is passed is drawn from the same unknown distribution as the one used to train our regressor.\n",
    "\n",
    "To see if this assumption is satisfied in practice, one can verify that each of the feature falls within reasonable range when compared to the training data. Checking the value of the z-score or using a $\\chi^2$-test is possible.\n"
   ]
  },
  {
   "cell_type": "markdown",
   "metadata": {},
   "source": [
    "## Question 7 ─ Remove useless variables\n"
   ]
  },
  {
   "cell_type": "markdown",
   "metadata": {},
   "source": [
    "**Not applicable**"
   ]
  }
 ],
 "metadata": {
  "interpreter": {
   "hash": "36cf16204b8548560b1c020c4e8fb5b57f0e4c58016f52f2d4be01e192833930"
  },
  "kernelspec": {
   "display_name": "Python 3.9.9 64-bit",
   "language": "python",
   "name": "python3"
  },
  "language_info": {
   "codemirror_mode": {
    "name": "ipython",
    "version": 3
   },
   "file_extension": ".py",
   "mimetype": "text/x-python",
   "name": "python",
   "nbconvert_exporter": "python",
   "pygments_lexer": "ipython3",
   "version": "3.9.10"
  },
  "orig_nbformat": 4
 },
 "nbformat": 4,
 "nbformat_minor": 2
}

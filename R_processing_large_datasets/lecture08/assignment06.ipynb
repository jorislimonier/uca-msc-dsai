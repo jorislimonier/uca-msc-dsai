{
 "cells": [
  {
   "cell_type": "code",
   "execution_count": 1,
   "metadata": {},
   "outputs": [
    {
     "name": "stderr",
     "output_type": "stream",
     "text": [
      "\n",
      "Attaching package: ‘dplyr’\n",
      "\n",
      "\n",
      "The following objects are masked from ‘package:stats’:\n",
      "\n",
      "    filter, lag\n",
      "\n",
      "\n",
      "The following objects are masked from ‘package:base’:\n",
      "\n",
      "    intersect, setdiff, setequal, union\n",
      "\n",
      "\n"
     ]
    }
   ],
   "source": [
    "library(dplyr)"
   ]
  },
  {
   "cell_type": "code",
   "execution_count": 2,
   "metadata": {},
   "outputs": [],
   "source": [
    "initial_adult <- read.csv(\"./datasets/adult.csv\")"
   ]
  },
  {
   "cell_type": "code",
   "execution_count": 3,
   "metadata": {},
   "outputs": [
    {
     "data": {
      "text/html": [
       "<table class=\"dataframe\">\n",
       "<caption>A data.frame: 6 × 8</caption>\n",
       "<thead>\n",
       "\t<tr><th></th><th scope=col>age</th><th scope=col>workclass</th><th scope=col>education</th><th scope=col>marital.status</th><th scope=col>race</th><th scope=col>gender</th><th scope=col>hours.per.week</th><th scope=col>income</th></tr>\n",
       "\t<tr><th></th><th scope=col>&lt;int&gt;</th><th scope=col>&lt;chr&gt;</th><th scope=col>&lt;chr&gt;</th><th scope=col>&lt;chr&gt;</th><th scope=col>&lt;chr&gt;</th><th scope=col>&lt;chr&gt;</th><th scope=col>&lt;int&gt;</th><th scope=col>&lt;chr&gt;</th></tr>\n",
       "</thead>\n",
       "<tbody>\n",
       "\t<tr><th scope=row>1</th><td>25</td><td><span style=white-space:pre-wrap>Private  </span></td><td><span style=white-space:pre-wrap>11th        </span></td><td><span style=white-space:pre-wrap>Never-married     </span></td><td>Black</td><td><span style=white-space:pre-wrap>Male  </span></td><td>40</td><td>&lt;=50K</td></tr>\n",
       "\t<tr><th scope=row>2</th><td>38</td><td><span style=white-space:pre-wrap>Private  </span></td><td><span style=white-space:pre-wrap>HS-grad     </span></td><td>Married-civ-spouse</td><td>White</td><td><span style=white-space:pre-wrap>Male  </span></td><td>50</td><td>&lt;=50K</td></tr>\n",
       "\t<tr><th scope=row>3</th><td>28</td><td>Local-gov</td><td><span style=white-space:pre-wrap>Assoc-acdm  </span></td><td>Married-civ-spouse</td><td>White</td><td><span style=white-space:pre-wrap>Male  </span></td><td>40</td><td>&gt;50K </td></tr>\n",
       "\t<tr><th scope=row>4</th><td>44</td><td><span style=white-space:pre-wrap>Private  </span></td><td>Some-college</td><td>Married-civ-spouse</td><td>Black</td><td><span style=white-space:pre-wrap>Male  </span></td><td>40</td><td>&gt;50K </td></tr>\n",
       "\t<tr><th scope=row>5</th><td>18</td><td><span style=white-space:pre-wrap>?        </span></td><td>Some-college</td><td><span style=white-space:pre-wrap>Never-married     </span></td><td>White</td><td>Female</td><td>30</td><td>&lt;=50K</td></tr>\n",
       "\t<tr><th scope=row>6</th><td>34</td><td><span style=white-space:pre-wrap>Private  </span></td><td><span style=white-space:pre-wrap>10th        </span></td><td><span style=white-space:pre-wrap>Never-married     </span></td><td>White</td><td><span style=white-space:pre-wrap>Male  </span></td><td>30</td><td>&lt;=50K</td></tr>\n",
       "</tbody>\n",
       "</table>\n"
      ],
      "text/latex": [
       "A data.frame: 6 × 8\n",
       "\\begin{tabular}{r|llllllll}\n",
       "  & age & workclass & education & marital.status & race & gender & hours.per.week & income\\\\\n",
       "  & <int> & <chr> & <chr> & <chr> & <chr> & <chr> & <int> & <chr>\\\\\n",
       "\\hline\n",
       "\t1 & 25 & Private   & 11th         & Never-married      & Black & Male   & 40 & <=50K\\\\\n",
       "\t2 & 38 & Private   & HS-grad      & Married-civ-spouse & White & Male   & 50 & <=50K\\\\\n",
       "\t3 & 28 & Local-gov & Assoc-acdm   & Married-civ-spouse & White & Male   & 40 & >50K \\\\\n",
       "\t4 & 44 & Private   & Some-college & Married-civ-spouse & Black & Male   & 40 & >50K \\\\\n",
       "\t5 & 18 & ?         & Some-college & Never-married      & White & Female & 30 & <=50K\\\\\n",
       "\t6 & 34 & Private   & 10th         & Never-married      & White & Male   & 30 & <=50K\\\\\n",
       "\\end{tabular}\n"
      ],
      "text/markdown": [
       "\n",
       "A data.frame: 6 × 8\n",
       "\n",
       "| <!--/--> | age &lt;int&gt; | workclass &lt;chr&gt; | education &lt;chr&gt; | marital.status &lt;chr&gt; | race &lt;chr&gt; | gender &lt;chr&gt; | hours.per.week &lt;int&gt; | income &lt;chr&gt; |\n",
       "|---|---|---|---|---|---|---|---|---|\n",
       "| 1 | 25 | Private   | 11th         | Never-married      | Black | Male   | 40 | &lt;=50K |\n",
       "| 2 | 38 | Private   | HS-grad      | Married-civ-spouse | White | Male   | 50 | &lt;=50K |\n",
       "| 3 | 28 | Local-gov | Assoc-acdm   | Married-civ-spouse | White | Male   | 40 | &gt;50K  |\n",
       "| 4 | 44 | Private   | Some-college | Married-civ-spouse | Black | Male   | 40 | &gt;50K  |\n",
       "| 5 | 18 | ?         | Some-college | Never-married      | White | Female | 30 | &lt;=50K |\n",
       "| 6 | 34 | Private   | 10th         | Never-married      | White | Male   | 30 | &lt;=50K |\n",
       "\n"
      ],
      "text/plain": [
       "  age workclass education    marital.status     race  gender hours.per.week\n",
       "1 25  Private   11th         Never-married      Black Male   40            \n",
       "2 38  Private   HS-grad      Married-civ-spouse White Male   50            \n",
       "3 28  Local-gov Assoc-acdm   Married-civ-spouse White Male   40            \n",
       "4 44  Private   Some-college Married-civ-spouse Black Male   40            \n",
       "5 18  ?         Some-college Never-married      White Female 30            \n",
       "6 34  Private   10th         Never-married      White Male   30            \n",
       "  income\n",
       "1 <=50K \n",
       "2 <=50K \n",
       "3 >50K  \n",
       "4 >50K  \n",
       "5 <=50K \n",
       "6 <=50K "
      ]
     },
     "metadata": {},
     "output_type": "display_data"
    }
   ],
   "source": [
    "adult <- select(initial_adult, -c(x, educational.num))\n",
    "head(adult)"
   ]
  },
  {
   "cell_type": "code",
   "execution_count": 4,
   "metadata": {},
   "outputs": [
    {
     "data": {
      "text/plain": [
       "      age         workclass          education         marital.status    \n",
       " Min.   :17.00   Length:48842       Length:48842       Length:48842      \n",
       " 1st Qu.:28.00   Class :character   Class :character   Class :character  \n",
       " Median :37.00   Mode  :character   Mode  :character   Mode  :character  \n",
       " Mean   :38.64                                                           \n",
       " 3rd Qu.:48.00                                                           \n",
       " Max.   :90.00                                                           \n",
       "     race              gender          hours.per.week     income         \n",
       " Length:48842       Length:48842       Min.   : 1.00   Length:48842      \n",
       " Class :character   Class :character   1st Qu.:40.00   Class :character  \n",
       " Mode  :character   Mode  :character   Median :40.00   Mode  :character  \n",
       "                                       Mean   :40.42                     \n",
       "                                       3rd Qu.:45.00                     \n",
       "                                       Max.   :99.00                     "
      ]
     },
     "metadata": {},
     "output_type": "display_data"
    }
   ],
   "source": [
    "summary(adult)"
   ]
  },
  {
   "cell_type": "code",
   "execution_count": 5,
   "metadata": {},
   "outputs": [
    {
     "data": {
      "text/html": [
       "0"
      ],
      "text/latex": [
       "0"
      ],
      "text/markdown": [
       "0"
      ],
      "text/plain": [
       "[1] 0"
      ]
     },
     "metadata": {},
     "output_type": "display_data"
    }
   ],
   "source": [
    "sum(is.na(adult))"
   ]
  },
  {
   "cell_type": "markdown",
   "metadata": {},
   "source": [
    "There is no NA, but we want to investigate whether there are missing values categorized as some other way."
   ]
  },
  {
   "cell_type": "code",
   "execution_count": 6,
   "metadata": {},
   "outputs": [
    {
     "name": "stdout",
     "output_type": "stream",
     "text": [
      "$age\n",
      " [1] 25 38 28 44 18 34 29 63 24 55 65 36 26 58 48 43 20 37 40 72 45 22 23 54 32\n",
      "[26] 46 56 17 39 52 21 42 33 30 47 41 19 69 50 31 59 49 51 27 57 61 64 79 73 53\n",
      "[51] 77 80 62 35 68 66 75 60 67 71 70 90 81 74 78 82 83 85 76 84 89 88 87 86\n",
      "\n",
      "$workclass\n",
      "[1] \"Private\"          \"Local-gov\"        \"?\"                \"Self-emp-not-inc\"\n",
      "[5] \"Federal-gov\"      \"State-gov\"        \"Self-emp-inc\"     \"Without-pay\"     \n",
      "[9] \"Never-worked\"    \n",
      "\n",
      "$education\n",
      " [1] \"11th\"         \"HS-grad\"      \"Assoc-acdm\"   \"Some-college\" \"10th\"        \n",
      " [6] \"Prof-school\"  \"7th-8th\"      \"Bachelors\"    \"Masters\"      \"Doctorate\"   \n",
      "[11] \"5th-6th\"      \"Assoc-voc\"    \"9th\"          \"12th\"         \"1st-4th\"     \n",
      "[16] \"Preschool\"   \n",
      "\n",
      "$marital.status\n",
      "[1] \"Never-married\"         \"Married-civ-spouse\"    \"Widowed\"              \n",
      "[4] \"Divorced\"              \"Separated\"             \"Married-spouse-absent\"\n",
      "[7] \"Married-AF-spouse\"    \n",
      "\n",
      "$race\n",
      "[1] \"Black\"              \"White\"              \"Asian-Pac-Islander\"\n",
      "[4] \"Other\"              \"Amer-Indian-Eskimo\"\n",
      "\n",
      "$gender\n",
      "[1] \"Male\"   \"Female\"\n",
      "\n",
      "$hours.per.week\n",
      " [1] 40 50 30 32 10 39 35 48 25 20 45 47  6 43 90 54 60 38 36 18 24 44 56 28 16\n",
      "[26] 41 22 55 14 33 37  8 12 70 15 75 52 84 42 80 68 99 65  5 17 72 53 29 96 21\n",
      "[51] 46  3  1 23 49 67 76  7  2 58 26 34  4 51 78 63 31 92 77 27 85 13 19 98 62\n",
      "[76] 66 57 11 86 59  9 64 73 61 88 79 89 74 69 87 97 94 82 91 81 95\n",
      "\n",
      "$income\n",
      "[1] \"<=50K\" \">50K\" \n",
      "\n"
     ]
    }
   ],
   "source": [
    "for (col in colnames(adult)){\n",
    "    print(c(unique(adult[col])))\n",
    "}"
   ]
  },
  {
   "cell_type": "markdown",
   "metadata": {},
   "source": [
    "There are some `?` values in the `workclass` column and `Other` in the `race` column."
   ]
  },
  {
   "cell_type": "code",
   "execution_count": 7,
   "metadata": {},
   "outputs": [
    {
     "data": {
      "text/html": [
       "2799"
      ],
      "text/latex": [
       "2799"
      ],
      "text/markdown": [
       "2799"
      ],
      "text/plain": [
       "[1] 2799"
      ]
     },
     "metadata": {},
     "output_type": "display_data"
    },
    {
     "data": {
      "text/html": [
       "406"
      ],
      "text/latex": [
       "406"
      ],
      "text/markdown": [
       "406"
      ],
      "text/plain": [
       "[1] 406"
      ]
     },
     "metadata": {},
     "output_type": "display_data"
    }
   ],
   "source": [
    "sum(adult$workclass == \"?\"); sum(adult$race == \"Other\")"
   ]
  },
  {
   "cell_type": "markdown",
   "metadata": {},
   "source": [
    "Drop observations "
   ]
  },
  {
   "cell_type": "code",
   "execution_count": 8,
   "metadata": {},
   "outputs": [
    {
     "data": {
      "text/html": [
       "<table class=\"dataframe\">\n",
       "<caption>A data.frame: 6 × 8</caption>\n",
       "<thead>\n",
       "\t<tr><th></th><th scope=col>age</th><th scope=col>workclass</th><th scope=col>education</th><th scope=col>marital.status</th><th scope=col>race</th><th scope=col>gender</th><th scope=col>hours.per.week</th><th scope=col>income</th></tr>\n",
       "\t<tr><th></th><th scope=col>&lt;int&gt;</th><th scope=col>&lt;chr&gt;</th><th scope=col>&lt;chr&gt;</th><th scope=col>&lt;chr&gt;</th><th scope=col>&lt;chr&gt;</th><th scope=col>&lt;chr&gt;</th><th scope=col>&lt;int&gt;</th><th scope=col>&lt;chr&gt;</th></tr>\n",
       "</thead>\n",
       "<tbody>\n",
       "\t<tr><th scope=row>1</th><td>25</td><td><span style=white-space:pre-wrap>Private         </span></td><td><span style=white-space:pre-wrap>11th        </span></td><td><span style=white-space:pre-wrap>Never-married     </span></td><td>Black</td><td>Male</td><td>40</td><td>&lt;=50K</td></tr>\n",
       "\t<tr><th scope=row>2</th><td>38</td><td><span style=white-space:pre-wrap>Private         </span></td><td><span style=white-space:pre-wrap>HS-grad     </span></td><td>Married-civ-spouse</td><td>White</td><td>Male</td><td>50</td><td>&lt;=50K</td></tr>\n",
       "\t<tr><th scope=row>3</th><td>28</td><td><span style=white-space:pre-wrap>Local-gov       </span></td><td><span style=white-space:pre-wrap>Assoc-acdm  </span></td><td>Married-civ-spouse</td><td>White</td><td>Male</td><td>40</td><td>&gt;50K </td></tr>\n",
       "\t<tr><th scope=row>4</th><td>44</td><td><span style=white-space:pre-wrap>Private         </span></td><td>Some-college</td><td>Married-civ-spouse</td><td>Black</td><td>Male</td><td>40</td><td>&gt;50K </td></tr>\n",
       "\t<tr><th scope=row>6</th><td>34</td><td><span style=white-space:pre-wrap>Private         </span></td><td><span style=white-space:pre-wrap>10th        </span></td><td><span style=white-space:pre-wrap>Never-married     </span></td><td>White</td><td>Male</td><td>30</td><td>&lt;=50K</td></tr>\n",
       "\t<tr><th scope=row>8</th><td>63</td><td>Self-emp-not-inc</td><td>Prof-school </td><td>Married-civ-spouse</td><td>White</td><td>Male</td><td>32</td><td>&gt;50K </td></tr>\n",
       "</tbody>\n",
       "</table>\n"
      ],
      "text/latex": [
       "A data.frame: 6 × 8\n",
       "\\begin{tabular}{r|llllllll}\n",
       "  & age & workclass & education & marital.status & race & gender & hours.per.week & income\\\\\n",
       "  & <int> & <chr> & <chr> & <chr> & <chr> & <chr> & <int> & <chr>\\\\\n",
       "\\hline\n",
       "\t1 & 25 & Private          & 11th         & Never-married      & Black & Male & 40 & <=50K\\\\\n",
       "\t2 & 38 & Private          & HS-grad      & Married-civ-spouse & White & Male & 50 & <=50K\\\\\n",
       "\t3 & 28 & Local-gov        & Assoc-acdm   & Married-civ-spouse & White & Male & 40 & >50K \\\\\n",
       "\t4 & 44 & Private          & Some-college & Married-civ-spouse & Black & Male & 40 & >50K \\\\\n",
       "\t6 & 34 & Private          & 10th         & Never-married      & White & Male & 30 & <=50K\\\\\n",
       "\t8 & 63 & Self-emp-not-inc & Prof-school  & Married-civ-spouse & White & Male & 32 & >50K \\\\\n",
       "\\end{tabular}\n"
      ],
      "text/markdown": [
       "\n",
       "A data.frame: 6 × 8\n",
       "\n",
       "| <!--/--> | age &lt;int&gt; | workclass &lt;chr&gt; | education &lt;chr&gt; | marital.status &lt;chr&gt; | race &lt;chr&gt; | gender &lt;chr&gt; | hours.per.week &lt;int&gt; | income &lt;chr&gt; |\n",
       "|---|---|---|---|---|---|---|---|---|\n",
       "| 1 | 25 | Private          | 11th         | Never-married      | Black | Male | 40 | &lt;=50K |\n",
       "| 2 | 38 | Private          | HS-grad      | Married-civ-spouse | White | Male | 50 | &lt;=50K |\n",
       "| 3 | 28 | Local-gov        | Assoc-acdm   | Married-civ-spouse | White | Male | 40 | &gt;50K  |\n",
       "| 4 | 44 | Private          | Some-college | Married-civ-spouse | Black | Male | 40 | &gt;50K  |\n",
       "| 6 | 34 | Private          | 10th         | Never-married      | White | Male | 30 | &lt;=50K |\n",
       "| 8 | 63 | Self-emp-not-inc | Prof-school  | Married-civ-spouse | White | Male | 32 | &gt;50K  |\n",
       "\n"
      ],
      "text/plain": [
       "  age workclass        education    marital.status     race  gender\n",
       "1 25  Private          11th         Never-married      Black Male  \n",
       "2 38  Private          HS-grad      Married-civ-spouse White Male  \n",
       "3 28  Local-gov        Assoc-acdm   Married-civ-spouse White Male  \n",
       "4 44  Private          Some-college Married-civ-spouse Black Male  \n",
       "6 34  Private          10th         Never-married      White Male  \n",
       "8 63  Self-emp-not-inc Prof-school  Married-civ-spouse White Male  \n",
       "  hours.per.week income\n",
       "1 40             <=50K \n",
       "2 50             <=50K \n",
       "3 40             >50K  \n",
       "4 40             >50K  \n",
       "6 30             <=50K \n",
       "8 32             >50K  "
      ]
     },
     "metadata": {},
     "output_type": "display_data"
    }
   ],
   "source": [
    "adult <- adult[!adult$workclass == \"?\",]\n",
    "adult <- adult[!adult$race == \"Other\",]\n",
    "head(adult)"
   ]
  },
  {
   "cell_type": "code",
   "execution_count": 9,
   "metadata": {},
   "outputs": [
    {
     "data": {
      "text/html": [
       "<style>\n",
       ".list-inline {list-style: none; margin:0; padding: 0}\n",
       ".list-inline>li {display: inline-block}\n",
       ".list-inline>li:not(:last-child)::after {content: \"\\00b7\"; padding: 0 .5ex}\n",
       "</style>\n",
       "<ol class=list-inline><li>'Private'</li><li>'Local-gov'</li><li>'Self-emp-not-inc'</li><li>'Federal-gov'</li><li>'State-gov'</li><li>'Self-emp-inc'</li><li>'Without-pay'</li><li>'Never-worked'</li></ol>\n"
      ],
      "text/latex": [
       "\\begin{enumerate*}\n",
       "\\item 'Private'\n",
       "\\item 'Local-gov'\n",
       "\\item 'Self-emp-not-inc'\n",
       "\\item 'Federal-gov'\n",
       "\\item 'State-gov'\n",
       "\\item 'Self-emp-inc'\n",
       "\\item 'Without-pay'\n",
       "\\item 'Never-worked'\n",
       "\\end{enumerate*}\n"
      ],
      "text/markdown": [
       "1. 'Private'\n",
       "2. 'Local-gov'\n",
       "3. 'Self-emp-not-inc'\n",
       "4. 'Federal-gov'\n",
       "5. 'State-gov'\n",
       "6. 'Self-emp-inc'\n",
       "7. 'Without-pay'\n",
       "8. 'Never-worked'\n",
       "\n",
       "\n"
      ],
      "text/plain": [
       "[1] \"Private\"          \"Local-gov\"        \"Self-emp-not-inc\" \"Federal-gov\"     \n",
       "[5] \"State-gov\"        \"Self-emp-inc\"     \"Without-pay\"      \"Never-worked\"    "
      ]
     },
     "metadata": {},
     "output_type": "display_data"
    },
    {
     "data": {
      "text/html": [
       "<table class=\"dataframe\">\n",
       "<caption>A data.frame: 6 × 8</caption>\n",
       "<thead>\n",
       "\t<tr><th></th><th scope=col>age</th><th scope=col>workclass</th><th scope=col>education</th><th scope=col>marital.status</th><th scope=col>race</th><th scope=col>gender</th><th scope=col>hours.per.week</th><th scope=col>income</th></tr>\n",
       "\t<tr><th></th><th scope=col>&lt;int&gt;</th><th scope=col>&lt;chr&gt;</th><th scope=col>&lt;chr&gt;</th><th scope=col>&lt;chr&gt;</th><th scope=col>&lt;chr&gt;</th><th scope=col>&lt;chr&gt;</th><th scope=col>&lt;int&gt;</th><th scope=col>&lt;chr&gt;</th></tr>\n",
       "</thead>\n",
       "<tbody>\n",
       "\t<tr><th scope=row>1</th><td>25</td><td><span style=white-space:pre-wrap>Private         </span></td><td><span style=white-space:pre-wrap>11th        </span></td><td><span style=white-space:pre-wrap>Never-married     </span></td><td>Black</td><td>Male</td><td>40</td><td>&lt;=50K</td></tr>\n",
       "\t<tr><th scope=row>2</th><td>38</td><td><span style=white-space:pre-wrap>Private         </span></td><td><span style=white-space:pre-wrap>HS-grad     </span></td><td>Married-civ-spouse</td><td>White</td><td>Male</td><td>50</td><td>&lt;=50K</td></tr>\n",
       "\t<tr><th scope=row>3</th><td>28</td><td><span style=white-space:pre-wrap>Local-gov       </span></td><td><span style=white-space:pre-wrap>Assoc-acdm  </span></td><td>Married-civ-spouse</td><td>White</td><td>Male</td><td>40</td><td>&gt;50K </td></tr>\n",
       "\t<tr><th scope=row>4</th><td>44</td><td><span style=white-space:pre-wrap>Private         </span></td><td>Some-college</td><td>Married-civ-spouse</td><td>Black</td><td>Male</td><td>40</td><td>&gt;50K </td></tr>\n",
       "\t<tr><th scope=row>6</th><td>34</td><td><span style=white-space:pre-wrap>Private         </span></td><td><span style=white-space:pre-wrap>10th        </span></td><td><span style=white-space:pre-wrap>Never-married     </span></td><td>White</td><td>Male</td><td>30</td><td>&lt;=50K</td></tr>\n",
       "\t<tr><th scope=row>8</th><td>63</td><td>Self-emp-not-inc</td><td>Prof-school </td><td>Married-civ-spouse</td><td>White</td><td>Male</td><td>32</td><td>&gt;50K </td></tr>\n",
       "</tbody>\n",
       "</table>\n"
      ],
      "text/latex": [
       "A data.frame: 6 × 8\n",
       "\\begin{tabular}{r|llllllll}\n",
       "  & age & workclass & education & marital.status & race & gender & hours.per.week & income\\\\\n",
       "  & <int> & <chr> & <chr> & <chr> & <chr> & <chr> & <int> & <chr>\\\\\n",
       "\\hline\n",
       "\t1 & 25 & Private          & 11th         & Never-married      & Black & Male & 40 & <=50K\\\\\n",
       "\t2 & 38 & Private          & HS-grad      & Married-civ-spouse & White & Male & 50 & <=50K\\\\\n",
       "\t3 & 28 & Local-gov        & Assoc-acdm   & Married-civ-spouse & White & Male & 40 & >50K \\\\\n",
       "\t4 & 44 & Private          & Some-college & Married-civ-spouse & Black & Male & 40 & >50K \\\\\n",
       "\t6 & 34 & Private          & 10th         & Never-married      & White & Male & 30 & <=50K\\\\\n",
       "\t8 & 63 & Self-emp-not-inc & Prof-school  & Married-civ-spouse & White & Male & 32 & >50K \\\\\n",
       "\\end{tabular}\n"
      ],
      "text/markdown": [
       "\n",
       "A data.frame: 6 × 8\n",
       "\n",
       "| <!--/--> | age &lt;int&gt; | workclass &lt;chr&gt; | education &lt;chr&gt; | marital.status &lt;chr&gt; | race &lt;chr&gt; | gender &lt;chr&gt; | hours.per.week &lt;int&gt; | income &lt;chr&gt; |\n",
       "|---|---|---|---|---|---|---|---|---|\n",
       "| 1 | 25 | Private          | 11th         | Never-married      | Black | Male | 40 | &lt;=50K |\n",
       "| 2 | 38 | Private          | HS-grad      | Married-civ-spouse | White | Male | 50 | &lt;=50K |\n",
       "| 3 | 28 | Local-gov        | Assoc-acdm   | Married-civ-spouse | White | Male | 40 | &gt;50K  |\n",
       "| 4 | 44 | Private          | Some-college | Married-civ-spouse | Black | Male | 40 | &gt;50K  |\n",
       "| 6 | 34 | Private          | 10th         | Never-married      | White | Male | 30 | &lt;=50K |\n",
       "| 8 | 63 | Self-emp-not-inc | Prof-school  | Married-civ-spouse | White | Male | 32 | &gt;50K  |\n",
       "\n"
      ],
      "text/plain": [
       "  age workclass        education    marital.status     race  gender\n",
       "1 25  Private          11th         Never-married      Black Male  \n",
       "2 38  Private          HS-grad      Married-civ-spouse White Male  \n",
       "3 28  Local-gov        Assoc-acdm   Married-civ-spouse White Male  \n",
       "4 44  Private          Some-college Married-civ-spouse Black Male  \n",
       "6 34  Private          10th         Never-married      White Male  \n",
       "8 63  Self-emp-not-inc Prof-school  Married-civ-spouse White Male  \n",
       "  hours.per.week income\n",
       "1 40             <=50K \n",
       "2 50             <=50K \n",
       "3 40             >50K  \n",
       "4 40             >50K  \n",
       "6 30             <=50K \n",
       "8 32             >50K  "
      ]
     },
     "metadata": {},
     "output_type": "display_data"
    }
   ],
   "source": [
    "unique(adult$workclass)\n",
    "head(adult)"
   ]
  },
  {
   "cell_type": "code",
   "execution_count": 18,
   "metadata": {},
   "outputs": [
    {
     "data": {
      "text/html": [
       "'double'"
      ],
      "text/latex": [
       "'double'"
      ],
      "text/markdown": [
       "'double'"
      ],
      "text/plain": [
       "[1] \"double\""
      ]
     },
     "metadata": {},
     "output_type": "display_data"
    }
   ],
   "source": [
    "col <- \"workclass\"\n",
    "typeof(as.integer(factor(adult[[col]], labels=1:length(unique(adult[[col]]))))-1)"
   ]
  },
  {
   "cell_type": "code",
   "execution_count": 15,
   "metadata": {},
   "outputs": [
    {
     "data": {
      "text/html": [
       "<style>\n",
       ".list-inline {list-style: none; margin:0; padding: 0}\n",
       ".list-inline>li {display: inline-block}\n",
       ".list-inline>li:not(:last-child)::after {content: \"\\00b7\"; padding: 0 .5ex}\n",
       "</style>\n",
       "<ol class=list-inline><li>1</li><li>11</li><li>7</li><li>15</li><li>0</li><li>14</li><li>5</li><li>9</li><li>12</li><li>10</li><li>4</li><li>8</li><li>6</li><li>2</li><li>3</li><li>13</li></ol>\n"
      ],
      "text/latex": [
       "\\begin{enumerate*}\n",
       "\\item 1\n",
       "\\item 11\n",
       "\\item 7\n",
       "\\item 15\n",
       "\\item 0\n",
       "\\item 14\n",
       "\\item 5\n",
       "\\item 9\n",
       "\\item 12\n",
       "\\item 10\n",
       "\\item 4\n",
       "\\item 8\n",
       "\\item 6\n",
       "\\item 2\n",
       "\\item 3\n",
       "\\item 13\n",
       "\\end{enumerate*}\n"
      ],
      "text/markdown": [
       "1. 1\n",
       "2. 11\n",
       "3. 7\n",
       "4. 15\n",
       "5. 0\n",
       "6. 14\n",
       "7. 5\n",
       "8. 9\n",
       "9. 12\n",
       "10. 10\n",
       "11. 4\n",
       "12. 8\n",
       "13. 6\n",
       "14. 2\n",
       "15. 3\n",
       "16. 13\n",
       "\n",
       "\n"
      ],
      "text/plain": [
       " [1]  1 11  7 15  0 14  5  9 12 10  4  8  6  2  3 13"
      ]
     },
     "metadata": {},
     "output_type": "display_data"
    },
    {
     "name": "stdout",
     "output_type": "stream",
     "text": [
      "[1] \"double\"\n",
      "[1] \"double\"\n",
      "[1] \"double\"\n",
      "[1] \"double\"\n",
      "[1] \"double\"\n",
      "[1] \"double\"\n"
     ]
    }
   ],
   "source": [
    "unique(adult$education)\n",
    "for (col in c(\"workclass\", \"education\", \"marital.status\", \"race\", \"gender\", \"income\")){\n",
    "    adult[[col]] <- as.integer(factor(adult[[col]], labels=1:length(unique(adult[[col]]))))-1\n",
    "    print(typeof(adult[[col]]))\n",
    "}"
   ]
  },
  {
   "cell_type": "code",
   "execution_count": 12,
   "metadata": {},
   "outputs": [
    {
     "data": {
      "text/html": [
       "<style>\n",
       ".list-inline {list-style: none; margin:0; padding: 0}\n",
       ".list-inline>li {display: inline-block}\n",
       ".list-inline>li:not(:last-child)::after {content: \"\\00b7\"; padding: 0 .5ex}\n",
       "</style>\n",
       "<ol class=list-inline><li>0</li><li>1</li><li>2</li><li>3</li><li>4</li><li>5</li><li>6</li><li>7</li></ol>\n"
      ],
      "text/latex": [
       "\\begin{enumerate*}\n",
       "\\item 0\n",
       "\\item 1\n",
       "\\item 2\n",
       "\\item 3\n",
       "\\item 4\n",
       "\\item 5\n",
       "\\item 6\n",
       "\\item 7\n",
       "\\end{enumerate*}\n"
      ],
      "text/markdown": [
       "1. 0\n",
       "2. 1\n",
       "3. 2\n",
       "4. 3\n",
       "5. 4\n",
       "6. 5\n",
       "7. 6\n",
       "8. 7\n",
       "\n",
       "\n"
      ],
      "text/plain": [
       "[1] 0 1 2 3 4 5 6 7"
      ]
     },
     "metadata": {},
     "output_type": "display_data"
    }
   ],
   "source": [
    "0:(length(unique(adult$workclass))-1)"
   ]
  },
  {
   "cell_type": "code",
   "execution_count": 19,
   "metadata": {},
   "outputs": [
    {
     "data": {
      "text/html": [
       "<table class=\"dataframe\">\n",
       "<caption>A data.frame: 20 × 8</caption>\n",
       "<thead>\n",
       "\t<tr><th></th><th scope=col>age</th><th scope=col>workclass</th><th scope=col>education</th><th scope=col>marital.status</th><th scope=col>race</th><th scope=col>gender</th><th scope=col>hours.per.week</th><th scope=col>income</th></tr>\n",
       "\t<tr><th></th><th scope=col>&lt;int&gt;</th><th scope=col>&lt;dbl&gt;</th><th scope=col>&lt;dbl&gt;</th><th scope=col>&lt;dbl&gt;</th><th scope=col>&lt;dbl&gt;</th><th scope=col>&lt;dbl&gt;</th><th scope=col>&lt;int&gt;</th><th scope=col>&lt;dbl&gt;</th></tr>\n",
       "</thead>\n",
       "<tbody>\n",
       "\t<tr><th scope=row>1</th><td>25</td><td>3</td><td> 1</td><td>4</td><td>2</td><td>1</td><td>40</td><td>0</td></tr>\n",
       "\t<tr><th scope=row>2</th><td>38</td><td>3</td><td>11</td><td>2</td><td>3</td><td>1</td><td>50</td><td>0</td></tr>\n",
       "\t<tr><th scope=row>3</th><td>28</td><td>1</td><td> 7</td><td>2</td><td>3</td><td>1</td><td>40</td><td>1</td></tr>\n",
       "\t<tr><th scope=row>4</th><td>44</td><td>3</td><td>15</td><td>2</td><td>2</td><td>1</td><td>40</td><td>1</td></tr>\n",
       "\t<tr><th scope=row>6</th><td>34</td><td>3</td><td> 0</td><td>4</td><td>3</td><td>1</td><td>30</td><td>0</td></tr>\n",
       "\t<tr><th scope=row>8</th><td>63</td><td>5</td><td>14</td><td>2</td><td>3</td><td>1</td><td>32</td><td>1</td></tr>\n",
       "\t<tr><th scope=row>9</th><td>24</td><td>3</td><td>15</td><td>4</td><td>3</td><td>0</td><td>40</td><td>0</td></tr>\n",
       "\t<tr><th scope=row>10</th><td>55</td><td>3</td><td> 5</td><td>2</td><td>3</td><td>1</td><td>10</td><td>0</td></tr>\n",
       "\t<tr><th scope=row>11</th><td>65</td><td>3</td><td>11</td><td>2</td><td>3</td><td>1</td><td>40</td><td>1</td></tr>\n",
       "\t<tr><th scope=row>12</th><td>36</td><td>0</td><td> 9</td><td>2</td><td>3</td><td>1</td><td>40</td><td>0</td></tr>\n",
       "\t<tr><th scope=row>13</th><td>26</td><td>3</td><td>11</td><td>4</td><td>3</td><td>0</td><td>39</td><td>0</td></tr>\n",
       "\t<tr><th scope=row>15</th><td>48</td><td>3</td><td>11</td><td>2</td><td>3</td><td>1</td><td>48</td><td>1</td></tr>\n",
       "\t<tr><th scope=row>16</th><td>43</td><td>3</td><td>12</td><td>2</td><td>3</td><td>1</td><td>50</td><td>1</td></tr>\n",
       "\t<tr><th scope=row>17</th><td>20</td><td>6</td><td>15</td><td>4</td><td>3</td><td>1</td><td>25</td><td>0</td></tr>\n",
       "\t<tr><th scope=row>18</th><td>43</td><td>3</td><td>11</td><td>2</td><td>3</td><td>0</td><td>30</td><td>0</td></tr>\n",
       "\t<tr><th scope=row>19</th><td>37</td><td>3</td><td>11</td><td>6</td><td>3</td><td>0</td><td>20</td><td>0</td></tr>\n",
       "\t<tr><th scope=row>20</th><td>40</td><td>3</td><td>10</td><td>2</td><td>1</td><td>1</td><td>45</td><td>1</td></tr>\n",
       "\t<tr><th scope=row>21</th><td>34</td><td>3</td><td> 9</td><td>2</td><td>3</td><td>1</td><td>47</td><td>1</td></tr>\n",
       "\t<tr><th scope=row>22</th><td>34</td><td>3</td><td>15</td><td>4</td><td>2</td><td>0</td><td>35</td><td>0</td></tr>\n",
       "\t<tr><th scope=row>24</th><td>25</td><td>3</td><td> 9</td><td>4</td><td>3</td><td>1</td><td>43</td><td>0</td></tr>\n",
       "</tbody>\n",
       "</table>\n"
      ],
      "text/latex": [
       "A data.frame: 20 × 8\n",
       "\\begin{tabular}{r|llllllll}\n",
       "  & age & workclass & education & marital.status & race & gender & hours.per.week & income\\\\\n",
       "  & <int> & <dbl> & <dbl> & <dbl> & <dbl> & <dbl> & <int> & <dbl>\\\\\n",
       "\\hline\n",
       "\t1 & 25 & 3 &  1 & 4 & 2 & 1 & 40 & 0\\\\\n",
       "\t2 & 38 & 3 & 11 & 2 & 3 & 1 & 50 & 0\\\\\n",
       "\t3 & 28 & 1 &  7 & 2 & 3 & 1 & 40 & 1\\\\\n",
       "\t4 & 44 & 3 & 15 & 2 & 2 & 1 & 40 & 1\\\\\n",
       "\t6 & 34 & 3 &  0 & 4 & 3 & 1 & 30 & 0\\\\\n",
       "\t8 & 63 & 5 & 14 & 2 & 3 & 1 & 32 & 1\\\\\n",
       "\t9 & 24 & 3 & 15 & 4 & 3 & 0 & 40 & 0\\\\\n",
       "\t10 & 55 & 3 &  5 & 2 & 3 & 1 & 10 & 0\\\\\n",
       "\t11 & 65 & 3 & 11 & 2 & 3 & 1 & 40 & 1\\\\\n",
       "\t12 & 36 & 0 &  9 & 2 & 3 & 1 & 40 & 0\\\\\n",
       "\t13 & 26 & 3 & 11 & 4 & 3 & 0 & 39 & 0\\\\\n",
       "\t15 & 48 & 3 & 11 & 2 & 3 & 1 & 48 & 1\\\\\n",
       "\t16 & 43 & 3 & 12 & 2 & 3 & 1 & 50 & 1\\\\\n",
       "\t17 & 20 & 6 & 15 & 4 & 3 & 1 & 25 & 0\\\\\n",
       "\t18 & 43 & 3 & 11 & 2 & 3 & 0 & 30 & 0\\\\\n",
       "\t19 & 37 & 3 & 11 & 6 & 3 & 0 & 20 & 0\\\\\n",
       "\t20 & 40 & 3 & 10 & 2 & 1 & 1 & 45 & 1\\\\\n",
       "\t21 & 34 & 3 &  9 & 2 & 3 & 1 & 47 & 1\\\\\n",
       "\t22 & 34 & 3 & 15 & 4 & 2 & 0 & 35 & 0\\\\\n",
       "\t24 & 25 & 3 &  9 & 4 & 3 & 1 & 43 & 0\\\\\n",
       "\\end{tabular}\n"
      ],
      "text/markdown": [
       "\n",
       "A data.frame: 20 × 8\n",
       "\n",
       "| <!--/--> | age &lt;int&gt; | workclass &lt;dbl&gt; | education &lt;dbl&gt; | marital.status &lt;dbl&gt; | race &lt;dbl&gt; | gender &lt;dbl&gt; | hours.per.week &lt;int&gt; | income &lt;dbl&gt; |\n",
       "|---|---|---|---|---|---|---|---|---|\n",
       "| 1 | 25 | 3 |  1 | 4 | 2 | 1 | 40 | 0 |\n",
       "| 2 | 38 | 3 | 11 | 2 | 3 | 1 | 50 | 0 |\n",
       "| 3 | 28 | 1 |  7 | 2 | 3 | 1 | 40 | 1 |\n",
       "| 4 | 44 | 3 | 15 | 2 | 2 | 1 | 40 | 1 |\n",
       "| 6 | 34 | 3 |  0 | 4 | 3 | 1 | 30 | 0 |\n",
       "| 8 | 63 | 5 | 14 | 2 | 3 | 1 | 32 | 1 |\n",
       "| 9 | 24 | 3 | 15 | 4 | 3 | 0 | 40 | 0 |\n",
       "| 10 | 55 | 3 |  5 | 2 | 3 | 1 | 10 | 0 |\n",
       "| 11 | 65 | 3 | 11 | 2 | 3 | 1 | 40 | 1 |\n",
       "| 12 | 36 | 0 |  9 | 2 | 3 | 1 | 40 | 0 |\n",
       "| 13 | 26 | 3 | 11 | 4 | 3 | 0 | 39 | 0 |\n",
       "| 15 | 48 | 3 | 11 | 2 | 3 | 1 | 48 | 1 |\n",
       "| 16 | 43 | 3 | 12 | 2 | 3 | 1 | 50 | 1 |\n",
       "| 17 | 20 | 6 | 15 | 4 | 3 | 1 | 25 | 0 |\n",
       "| 18 | 43 | 3 | 11 | 2 | 3 | 0 | 30 | 0 |\n",
       "| 19 | 37 | 3 | 11 | 6 | 3 | 0 | 20 | 0 |\n",
       "| 20 | 40 | 3 | 10 | 2 | 1 | 1 | 45 | 1 |\n",
       "| 21 | 34 | 3 |  9 | 2 | 3 | 1 | 47 | 1 |\n",
       "| 22 | 34 | 3 | 15 | 4 | 2 | 0 | 35 | 0 |\n",
       "| 24 | 25 | 3 |  9 | 4 | 3 | 1 | 43 | 0 |\n",
       "\n"
      ],
      "text/plain": [
       "   age workclass education marital.status race gender hours.per.week income\n",
       "1  25  3          1        4              2    1      40             0     \n",
       "2  38  3         11        2              3    1      50             0     \n",
       "3  28  1          7        2              3    1      40             1     \n",
       "4  44  3         15        2              2    1      40             1     \n",
       "6  34  3          0        4              3    1      30             0     \n",
       "8  63  5         14        2              3    1      32             1     \n",
       "9  24  3         15        4              3    0      40             0     \n",
       "10 55  3          5        2              3    1      10             0     \n",
       "11 65  3         11        2              3    1      40             1     \n",
       "12 36  0          9        2              3    1      40             0     \n",
       "13 26  3         11        4              3    0      39             0     \n",
       "15 48  3         11        2              3    1      48             1     \n",
       "16 43  3         12        2              3    1      50             1     \n",
       "17 20  6         15        4              3    1      25             0     \n",
       "18 43  3         11        2              3    0      30             0     \n",
       "19 37  3         11        6              3    0      20             0     \n",
       "20 40  3         10        2              1    1      45             1     \n",
       "21 34  3          9        2              3    1      47             1     \n",
       "22 34  3         15        4              2    0      35             0     \n",
       "24 25  3          9        4              3    1      43             0     "
      ]
     },
     "metadata": {},
     "output_type": "display_data"
    }
   ],
   "source": [
    "head(adult, 20)"
   ]
  },
  {
   "cell_type": "code",
   "execution_count": null,
   "metadata": {},
   "outputs": [],
   "source": []
  },
  {
   "cell_type": "code",
   "execution_count": null,
   "metadata": {},
   "outputs": [],
   "source": []
  },
  {
   "cell_type": "code",
   "execution_count": null,
   "metadata": {},
   "outputs": [],
   "source": []
  },
  {
   "cell_type": "code",
   "execution_count": null,
   "metadata": {},
   "outputs": [],
   "source": []
  },
  {
   "cell_type": "code",
   "execution_count": null,
   "metadata": {},
   "outputs": [],
   "source": []
  },
  {
   "cell_type": "code",
   "execution_count": null,
   "metadata": {},
   "outputs": [],
   "source": []
  },
  {
   "cell_type": "markdown",
   "metadata": {},
   "source": [
    "### Shuffle dataset"
   ]
  },
  {
   "cell_type": "code",
   "execution_count": 14,
   "metadata": {},
   "outputs": [
    {
     "data": {
      "text/html": [
       "<table class=\"dataframe\">\n",
       "<caption>A data.frame: 6 × 8</caption>\n",
       "<thead>\n",
       "\t<tr><th></th><th scope=col>age</th><th scope=col>workclass</th><th scope=col>education</th><th scope=col>marital.status</th><th scope=col>race</th><th scope=col>gender</th><th scope=col>hours.per.week</th><th scope=col>income</th></tr>\n",
       "\t<tr><th></th><th scope=col>&lt;int&gt;</th><th scope=col>&lt;dbl&gt;</th><th scope=col>&lt;dbl&gt;</th><th scope=col>&lt;dbl&gt;</th><th scope=col>&lt;dbl&gt;</th><th scope=col>&lt;dbl&gt;</th><th scope=col>&lt;int&gt;</th><th scope=col>&lt;dbl&gt;</th></tr>\n",
       "</thead>\n",
       "<tbody>\n",
       "\t<tr><th scope=row>16543</th><td>45</td><td>3</td><td>11</td><td>2</td><td>3</td><td>1</td><td>60</td><td>0</td></tr>\n",
       "\t<tr><th scope=row>47422</th><td>25</td><td>3</td><td> 0</td><td>4</td><td>3</td><td>1</td><td>50</td><td>0</td></tr>\n",
       "\t<tr><th scope=row>32568</th><td>39</td><td>3</td><td> 7</td><td>2</td><td>3</td><td>1</td><td>40</td><td>0</td></tr>\n",
       "\t<tr><th scope=row>13878</th><td>39</td><td>6</td><td> 7</td><td>2</td><td>3</td><td>1</td><td>40</td><td>0</td></tr>\n",
       "\t<tr><th scope=row>25290</th><td>32</td><td>3</td><td> 9</td><td>2</td><td>3</td><td>1</td><td>45</td><td>1</td></tr>\n",
       "\t<tr><th scope=row>25392</th><td>49</td><td>3</td><td> 9</td><td>4</td><td>3</td><td>0</td><td>40</td><td>0</td></tr>\n",
       "</tbody>\n",
       "</table>\n"
      ],
      "text/latex": [
       "A data.frame: 6 × 8\n",
       "\\begin{tabular}{r|llllllll}\n",
       "  & age & workclass & education & marital.status & race & gender & hours.per.week & income\\\\\n",
       "  & <int> & <dbl> & <dbl> & <dbl> & <dbl> & <dbl> & <int> & <dbl>\\\\\n",
       "\\hline\n",
       "\t16543 & 45 & 3 & 11 & 2 & 3 & 1 & 60 & 0\\\\\n",
       "\t47422 & 25 & 3 &  0 & 4 & 3 & 1 & 50 & 0\\\\\n",
       "\t32568 & 39 & 3 &  7 & 2 & 3 & 1 & 40 & 0\\\\\n",
       "\t13878 & 39 & 6 &  7 & 2 & 3 & 1 & 40 & 0\\\\\n",
       "\t25290 & 32 & 3 &  9 & 2 & 3 & 1 & 45 & 1\\\\\n",
       "\t25392 & 49 & 3 &  9 & 4 & 3 & 0 & 40 & 0\\\\\n",
       "\\end{tabular}\n"
      ],
      "text/markdown": [
       "\n",
       "A data.frame: 6 × 8\n",
       "\n",
       "| <!--/--> | age &lt;int&gt; | workclass &lt;dbl&gt; | education &lt;dbl&gt; | marital.status &lt;dbl&gt; | race &lt;dbl&gt; | gender &lt;dbl&gt; | hours.per.week &lt;int&gt; | income &lt;dbl&gt; |\n",
       "|---|---|---|---|---|---|---|---|---|\n",
       "| 16543 | 45 | 3 | 11 | 2 | 3 | 1 | 60 | 0 |\n",
       "| 47422 | 25 | 3 |  0 | 4 | 3 | 1 | 50 | 0 |\n",
       "| 32568 | 39 | 3 |  7 | 2 | 3 | 1 | 40 | 0 |\n",
       "| 13878 | 39 | 6 |  7 | 2 | 3 | 1 | 40 | 0 |\n",
       "| 25290 | 32 | 3 |  9 | 2 | 3 | 1 | 45 | 1 |\n",
       "| 25392 | 49 | 3 |  9 | 4 | 3 | 0 | 40 | 0 |\n",
       "\n"
      ],
      "text/plain": [
       "      age workclass education marital.status race gender hours.per.week income\n",
       "16543 45  3         11        2              3    1      60             0     \n",
       "47422 25  3          0        4              3    1      50             0     \n",
       "32568 39  3          7        2              3    1      40             0     \n",
       "13878 39  6          7        2              3    1      40             0     \n",
       "25290 32  3          9        2              3    1      45             1     \n",
       "25392 49  3          9        4              3    0      40             0     "
      ]
     },
     "metadata": {},
     "output_type": "display_data"
    }
   ],
   "source": [
    "shuffle_index <- sample(1:nrow(adult))\n",
    "shuffled_adults <- adult[shuffle_index,]\n",
    "head(shuffled_adults)"
   ]
  }
 ],
 "metadata": {
  "kernelspec": {
   "display_name": "R",
   "language": "R",
   "name": "ir"
  },
  "language_info": {
   "codemirror_mode": "r",
   "file_extension": ".r",
   "mimetype": "text/x-r-source",
   "name": "R",
   "pygments_lexer": "r",
   "version": "4.1.2"
  },
  "orig_nbformat": 4
 },
 "nbformat": 4,
 "nbformat_minor": 2
}

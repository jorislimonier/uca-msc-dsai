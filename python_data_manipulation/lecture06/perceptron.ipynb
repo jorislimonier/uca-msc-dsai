{
 "cells": [
  {
   "cell_type": "markdown",
   "metadata": {},
   "source": [
    "## OR GATE PERCEPTRON\n",
    "\n",
    "In this notebook we will implement a perceptron for the OR GATE.\n",
    "\n",
    "Remember the `OR` gate works as follows:\n",
    "\n",
    "| X1    | X2       | Out  |\n",
    "| :-----: |:--------:| :----:|\n",
    "|   0   |    0     |   0  |\n",
    "|   0   |    1     |   1  |\n",
    "|   1   |    0     |   1  |\n",
    "|   1   |    1     |   1  |\n",
    "\n",
    "And the corresponding perceptron is:\n",
    "\n",
    "![Image](https://marcomilanesio.github.io/material/30.11/perceptron.png)\n",
    "\n",
    "### Assign random weigths and calculate output\n",
    "\n",
    "Let's assign the following weights at random: \n",
    "  * $w_1 = 0.2$\n",
    "  * $w_2 = 0.3$\n",
    "  * $w_3 = 0.5$\n",
    "  \n",
    "Let's assume:\n",
    "  * $x_1 = 0$\n",
    "  * $x_2 = 1$\n",
    "  \n",
    "Then we can compute:\n",
    "\n",
    "#### input for $o_1$\n",
    "\n",
    "\\begin{align}\n",
    "o_1 & = w_1 * x_1 + w_2 * x_2 + w3 * b \\\\\n",
    "    & = 0.3 + 0.5 \\\\\n",
    "    & = 0.8\n",
    "\\end{align}\n",
    "\n",
    "\n",
    "#### output value (using the `sigmoid` function):\n",
    "\n",
    "\\begin{align}\n",
    "out & = \\frac{1}{1 + e^{-X}} = \\frac{1}{1 + e^{-0.8}} = 0.68997\n",
    "\\end{align}\n",
    "\n",
    "#### error (MSE):\n",
    "\n",
    "\\begin{align}\n",
    "MSE & = \\sum_{i} \\frac{1}{2} * (target - output)^2\n",
    "\\end{align}\n",
    "\n",
    "In $o_1$:\n",
    "\n",
    "\\begin{align}\n",
    "err & = \\frac{1}{2} * (1 - 0.68997)^2 = 0.048059\n",
    "\\end{align}\n",
    "\n",
    "\n",
    "We need to calculate this for all possible inputs, and then calculate the global MSE.\n",
    "\n",
    "After this, we can update the weights.\n",
    "So,\n",
    "\n",
    "## Gradient Descent\n",
    "\n",
    "\\begin{align}\n",
    "X & = X - lr * \\frac{\\partial}{\\partial X} f(X)\n",
    "\\end{align}\n",
    "\n",
    "Where:\n",
    "  * $X$ is the input\n",
    "  * $lr$ is the learning rate\n",
    "  * $f(X)$ is the output\n",
    "  \n",
    "### Derivation\n",
    "\n",
    "#### N.1: how a particular weight $w$ influence the error $err$?\n",
    "\n",
    "\\begin{align}\n",
    "\\frac{\\partial err}{\\partial w}\n",
    "\\end{align}\n",
    "\n",
    "\n",
    "Let's apply [Chain Rule](https://en.wikipedia.org/wiki/Chain_rule).\n",
    "\n",
    "\\begin{align}\n",
    "\\frac{\\partial err}{\\partial w} = \\frac{\\partial err}{\\partial out} * \\frac{\\partial out}{\\partial in} * \\frac{\\partial in}{\\partial w}\n",
    "\\end{align}\n",
    "\n",
    "Where (I'll skip the derivation, if [interested](https://towardsdatascience.com/derivative-of-the-sigmoid-function-536880cf918e))\n",
    "\n",
    "  * $\\frac{\\partial err}{\\partial out} = (output - target)$\n",
    "  * $\\frac{\\partial out}{\\partial in} = output * (1 - output)$\n",
    "  * $\\frac{\\partial in}{\\partial w} = input$\n",
    "\n",
    "And remember:\n",
    "  * $input = w_1 * x_1 + w_2 * x_2 + w_3 * b$\n",
    "  * $output = \\frac{1}{1 + e^{-input}}$\n",
    "  * $MSE = \\sum \\frac{1}{2} (target - output)^2$\n",
    "  * Gradient Descent $w = w - lr * \\frac{\\partial err}{\\partial w}$\n",
    "  \n",
    "  \n"
   ]
  },
  {
   "cell_type": "code",
   "execution_count": 1,
   "metadata": {},
   "outputs": [],
   "source": [
    "import numpy as np\n",
    "input_features = np.array([[0,0], [0,1], [1,0],[1,1]])"
   ]
  },
  {
   "cell_type": "code",
   "execution_count": 2,
   "metadata": {},
   "outputs": [
    {
     "data": {
      "text/plain": [
       "array([[0, 0],\n",
       "       [0, 1],\n",
       "       [1, 0],\n",
       "       [1, 1]])"
      ]
     },
     "execution_count": 2,
     "metadata": {},
     "output_type": "execute_result"
    }
   ],
   "source": [
    "input_features"
   ]
  },
  {
   "cell_type": "code",
   "execution_count": 3,
   "metadata": {},
   "outputs": [],
   "source": [
    "target_output = np.array([0,1,1,1])\n",
    "target_output = target_output.reshape(4,1)"
   ]
  },
  {
   "cell_type": "code",
   "execution_count": 24,
   "metadata": {},
   "outputs": [
    {
     "data": {
      "text/plain": [
       "array([[0],\n",
       "       [1],\n",
       "       [1],\n",
       "       [1]])"
      ]
     },
     "execution_count": 24,
     "metadata": {},
     "output_type": "execute_result"
    }
   ],
   "source": [
    "target_output"
   ]
  },
  {
   "cell_type": "code",
   "execution_count": 5,
   "metadata": {},
   "outputs": [],
   "source": [
    "weigths = np.array([[0.1], [0.2]])"
   ]
  },
  {
   "cell_type": "code",
   "execution_count": 6,
   "metadata": {},
   "outputs": [
    {
     "data": {
      "text/plain": [
       "(4, 2)"
      ]
     },
     "execution_count": 6,
     "metadata": {},
     "output_type": "execute_result"
    }
   ],
   "source": [
    "input_features.shape"
   ]
  },
  {
   "cell_type": "code",
   "execution_count": 7,
   "metadata": {},
   "outputs": [
    {
     "data": {
      "text/plain": [
       "(4, 1)"
      ]
     },
     "execution_count": 7,
     "metadata": {},
     "output_type": "execute_result"
    }
   ],
   "source": [
    "target_output.shape"
   ]
  },
  {
   "cell_type": "code",
   "execution_count": 8,
   "metadata": {},
   "outputs": [
    {
     "data": {
      "text/plain": [
       "(2, 1)"
      ]
     },
     "execution_count": 8,
     "metadata": {},
     "output_type": "execute_result"
    }
   ],
   "source": [
    "weigths.shape"
   ]
  },
  {
   "cell_type": "code",
   "execution_count": 9,
   "metadata": {},
   "outputs": [],
   "source": [
    "bias = 0.3\n",
    "lr = 0.05  # you cannot learn this! try and see"
   ]
  },
  {
   "cell_type": "code",
   "execution_count": 10,
   "metadata": {},
   "outputs": [],
   "source": [
    "def sigmoid(x):\n",
    "    return 1 / (1 + np.exp(-x))\n",
    "\n",
    "def sigmoid_derivative(x):\n",
    "    return sigmoid(x) * (1 - sigmoid(x))"
   ]
  },
  {
   "cell_type": "code",
   "execution_count": 22,
   "metadata": {},
   "outputs": [
    {
     "name": "stdout",
     "output_type": "stream",
     "text": [
      "0 --> Error: -0.0002155219300596367\n",
      "(4, 1) (4, 1)\n",
      "1000 --> Error: -0.000211560888877374\n",
      "(4, 1) (4, 1)\n",
      "2000 --> Error: -0.0002073905455205194\n",
      "(4, 1) (4, 1)\n",
      "3000 --> Error: -0.000203111098083502\n",
      "(4, 1) (4, 1)\n",
      "4000 --> Error: -0.00019879420137066534\n",
      "(4, 1) (4, 1)\n",
      "5000 --> Error: -0.00019449097483311556\n",
      "(4, 1) (4, 1)\n",
      "6000 --> Error: -0.00019023764890227501\n",
      "(4, 1) (4, 1)\n",
      "7000 --> Error: -0.00018605959064017102\n",
      "(4, 1) (4, 1)\n",
      "8000 --> Error: -0.00018197420246779915\n",
      "(4, 1) (4, 1)\n",
      "9000 --> Error: -0.00017799302790322095\n",
      "(4, 1) (4, 1)\n"
     ]
    }
   ],
   "source": [
    "for epoch in range(10000):\n",
    "    inputs = input_features       \n",
    "    in_o = np.dot(inputs, weigths) + bias  # FF input\n",
    "    out_o = sigmoid(in_o)    # FF output\n",
    "    error = out_o - target_output\n",
    "    \n",
    "    x = error.sum()\n",
    "    if epoch % 1000 == 0:\n",
    "        print(f'{epoch} --> Error: {x}')\n",
    "        print(derr_dout.shape, dout_din.shape)\n",
    "   \n",
    "    derr_dout = error\n",
    "    dout_din = sigmoid_derivative(out_o)   # 1st derivative\n",
    "    deriv = derr_dout * dout_din\n",
    "    \n",
    "    inputs = input_features.T\n",
    "    deriv_final = np.dot(inputs, deriv)    # what we need\n",
    "    \n",
    "    # Back propagation\n",
    "    # gradient descent \n",
    "    weigths -= lr * deriv_final    # update weigths for input\n",
    "    \n",
    "    for i in deriv:\n",
    "        bias -= lr * i\n",
    "    "
   ]
  },
  {
   "cell_type": "code",
   "execution_count": 12,
   "metadata": {},
   "outputs": [
    {
     "data": {
      "text/plain": [
       "array([-3.14905135])"
      ]
     },
     "execution_count": 12,
     "metadata": {},
     "output_type": "execute_result"
    }
   ],
   "source": [
    "bias"
   ]
  },
  {
   "cell_type": "code",
   "execution_count": 13,
   "metadata": {},
   "outputs": [
    {
     "data": {
      "text/plain": [
       "array([[7.00922425],\n",
       "       [7.00953281]])"
      ]
     },
     "execution_count": 13,
     "metadata": {},
     "output_type": "execute_result"
    }
   ],
   "source": [
    "weigths"
   ]
  },
  {
   "cell_type": "code",
   "execution_count": 14,
   "metadata": {},
   "outputs": [
    {
     "data": {
      "text/plain": [
       "array([0.04112867])"
      ]
     },
     "execution_count": 14,
     "metadata": {},
     "output_type": "execute_result"
    }
   ],
   "source": [
    "point = np.array([0,0])  # expected = 0\n",
    "res1 = np.dot(point, weigths) + bias\n",
    "res2 = sigmoid(res1)\n",
    "res2"
   ]
  },
  {
   "cell_type": "code",
   "execution_count": 15,
   "metadata": {},
   "outputs": [
    {
     "data": {
      "text/plain": [
       "array([0.9793702])"
      ]
     },
     "execution_count": 15,
     "metadata": {},
     "output_type": "execute_result"
    }
   ],
   "source": [
    "point = np.array([1,0])  # expected = 1\n",
    "res1 = np.dot(point, weigths) + bias\n",
    "res2 = sigmoid(res1)\n",
    "res2"
   ]
  },
  {
   "cell_type": "code",
   "execution_count": 16,
   "metadata": {},
   "outputs": [
    {
     "data": {
      "text/plain": [
       "array([0.99998097])"
      ]
     },
     "execution_count": 16,
     "metadata": {},
     "output_type": "execute_result"
    }
   ],
   "source": [
    "point = np.array([1,1])  # expected = 1\n",
    "res1 = np.dot(point, weigths) + bias\n",
    "res2 = sigmoid(res1)\n",
    "res2"
   ]
  },
  {
   "cell_type": "code",
   "execution_count": 17,
   "metadata": {},
   "outputs": [],
   "source": [
    "import matplotlib.pyplot as plt\n",
    "%matplotlib inline"
   ]
  },
  {
   "cell_type": "code",
   "execution_count": 18,
   "metadata": {},
   "outputs": [],
   "source": [
    "test_input = np.linspace(-10, 10, 100)"
   ]
  },
  {
   "cell_type": "code",
   "execution_count": 19,
   "metadata": {},
   "outputs": [
    {
     "data": {
      "text/plain": [
       "[<matplotlib.lines.Line2D at 0x7fa20cdd6ca0>]"
      ]
     },
     "execution_count": 19,
     "metadata": {},
     "output_type": "execute_result"
    },
    {
     "data": {
      "image/png": "[encoded data removed]",
      "text/plain": [
       "<Figure size 432x288 with 1 Axes>"
      ]
     },
     "metadata": {
      "needs_background": "light"
     },
     "output_type": "display_data"
    }
   ],
   "source": [
    "plt.plot(test_input, sigmoid(test_input), c='b')\n",
    "plt.plot(test_input, sigmoid(test_input*0.5), c='r')\n",
    "plt.plot(test_input, sigmoid(test_input*2.5), c='g')"
   ]
  },
  {
   "cell_type": "code",
   "execution_count": 20,
   "metadata": {},
   "outputs": [
    {
     "data": {
      "text/plain": [
       "[<matplotlib.lines.Line2D at 0x7fa204cd7fa0>]"
      ]
     },
     "execution_count": 20,
     "metadata": {},
     "output_type": "execute_result"
    },
    {
     "data": {
      "image/png": "[encoded data removed]",
      "text/plain": [
       "<Figure size 432x288 with 1 Axes>"
      ]
     },
     "metadata": {
      "needs_background": "light"
     },
     "output_type": "display_data"
    }
   ],
   "source": [
    "plt.plot(test_input, sigmoid(test_input), c='b')\n",
    "plt.plot(test_input, sigmoid(test_input + 5), c='r')\n",
    "plt.plot(test_input, sigmoid(test_input - 5), c='g')"
   ]
  }
 ],
 "metadata": {
  "kernelspec": {
   "display_name": "Python 3 (ipykernel)",
   "language": "python",
   "name": "python3"
  },
  "language_info": {
   "codemirror_mode": {
    "name": "ipython",
    "version": 3
   },
   "file_extension": ".py",
   "mimetype": "text/x-python",
   "name": "python",
   "nbconvert_exporter": "python",
   "pygments_lexer": "ipython3",
   "version": "3.9.9"
  }
 },
 "nbformat": 4,
 "nbformat_minor": 4
}

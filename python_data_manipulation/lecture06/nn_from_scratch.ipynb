{
 "cells": [
  {
   "cell_type": "code",
   "execution_count": 2,
   "metadata": {},
   "outputs": [],
   "source": [
    "import numpy as np"
   ]
  },
  {
   "cell_type": "markdown",
   "metadata": {},
   "source": [
    "### Generate data"
   ]
  },
  {
   "cell_type": "markdown",
   "metadata": {},
   "source": [
    "### Forward pass\n",
    "\n",
    "The dimensions are as follows:\n",
    "$$\\underbrace{y}_{(n \\times 1)} = \\underbrace{X}_{(n \\times p)} \\underbrace{W}_{(p \\times 1)} + \\underbrace{b}_{(n \\times 1)}$$"
   ]
  },
  {
   "cell_type": "markdown",
   "metadata": {},
   "source": [
    "### Back propagation\n",
    "$$\\frac{\\partial Loss(y, \\hat{y})}{\\partial W} = \\frac{\\partial Loss(y, \\hat{y})}{\\partial \\hat{y}} \\frac{\\partial \\hat{y}}{\\partial z} \\frac{\\partial z}{\\partial W}$$\n",
    "and\n",
    "$$\\frac{\\partial Loss(y, \\hat{y})}{\\partial b} = \\frac{\\partial Loss(y, \\hat{y})}{\\partial \\hat{y}} \\frac{\\partial \\hat{y}}{\\partial z} \\frac{\\partial z}{\\partial b}$$\n",
    "With:\n",
    "- $$Loss(y, \\hat{y}) := MLE(y, \\hat{y}) = \\sum_{i=1}^n (y_i - \\hat{y}_i)^2$$\n",
    "- $$\\frac{\\partial Loss(y, \\hat{y})}{\\partial \\hat{y}} = \\sum_{i=1}^n -2(y_i - \\hat{y}_i)$$\n",
    "- $$z := WX + b$$\n",
    "- $\\sigma$ being the activation function (*e.g.* sigmoid)\n",
    "- $$\\hat{y} := \\sigma(z)$$"
   ]
  },
  {
   "cell_type": "code",
   "execution_count": 3,
   "metadata": {},
   "outputs": [],
   "source": [
    "class NN_binary():\n",
    "    def __init__(self, n_obs=3, n_features=2):\n",
    "        self.n_obs = n_obs\n",
    "        self.n_features = n_features\n",
    "        self.X = self.generate_data()\n",
    "        self.y_true = np.logical_or(self.X[:,0], self.X[:,1]).astype(int).reshape(-1, 1)\n",
    "\n",
    "        self.learn_rate = 10**-1\n",
    "        self.W = np.random.randn(self.X.shape[1], 1)\n",
    "        self.b = np.random.randn(n_obs, 1)\n",
    "\n",
    "    def generate_data(self):\n",
    "        np.random.seed(42)\n",
    "        return np.random.randint(0, 2, size=(self.n_obs, self.n_features))\n",
    "\n",
    "    @staticmethod\n",
    "    def sigmoid(x):\n",
    "        return 1 / (1 + np.exp(-x))\n",
    "\n",
    "    def sigmoid_deriv(self, x):\n",
    "        return self.sigmoid(x) * (1 - self.sigmoid(x))\n",
    "\n",
    "    @staticmethod\n",
    "    def loss(y_true, y_hat):\n",
    "        return (y_true - y_hat)**2\n",
    "\n",
    "    @staticmethod\n",
    "    def loss_deriv(y_true, y_hat):\n",
    "        return -2 * (y_true - y_hat)\n",
    "\n",
    "    def forward_pass(self):\n",
    "        self.z = self.X @ self.W + self.b\n",
    "        self.y_hat = self.sigmoid(self.z)\n",
    "\n",
    "    def backprop(self):\n",
    "        # Perform backpropagation\n",
    "\n",
    "        # Compute derivatives to update weights\n",
    "        dloss_dyhat = self.loss_deriv(self.y_true, self.y_hat)\n",
    "        dyhat_dz = self.sigmoid_deriv(self.y_hat)\n",
    "        dz_dw = self.X\n",
    "        dloss_dw = dloss_dyhat * dyhat_dz\n",
    "        dloss_dw = dz_dw.T @ dloss_dw\n",
    "        dloss_db = dloss_dyhat * dyhat_dz * 1\n",
    "\n",
    "        # Update weights\n",
    "        self.W -= self.learn_rate * dloss_dw\n",
    "        self.b -= self.learn_rate * dloss_db\n"
   ]
  },
  {
   "cell_type": "code",
   "execution_count": 12,
   "metadata": {},
   "outputs": [
    {
     "name": "stdout",
     "output_type": "stream",
     "text": [
      "[[0.64518567]\n",
      " [0.73312098]\n",
      " [0.43487804]]\n",
      "[[0.99613683]\n",
      " [0.01046322]\n",
      " [0.99540424]]\n",
      "[[0.99802963]\n",
      " [0.00513159]\n",
      " [0.99773754]]\n",
      "[[0.99867389]\n",
      " [0.00339597]\n",
      " [0.99850349]]\n",
      "[[0.99899948]\n",
      " [0.0025369 ]\n",
      " [0.99888326]]\n",
      "[[0.9991962 ]\n",
      " [0.00202445]\n",
      " [0.99910984]]\n",
      "---\n",
      "target: \n",
      "[[1]\n",
      " [0]\n",
      " [1]]\n"
     ]
    }
   ],
   "source": [
    "nnb = NN_binary(n_obs=3, n_features=2)\n",
    "\n",
    "for epoch in range(10001):\n",
    "    nnb.forward_pass()\n",
    "    nnb.backprop()\n",
    "    if epoch % 2000 == 0:\n",
    "        print(f\"{nnb.y_hat}\") # print predictions\n",
    "print(f\"---\\ntarget: \\n{nnb.y_true}\")"
   ]
  },
  {
   "cell_type": "code",
   "execution_count": null,
   "metadata": {},
   "outputs": [],
   "source": []
  }
 ],
 "metadata": {
  "interpreter": {
   "hash": "36cf16204b8548560b1c020c4e8fb5b57f0e4c58016f52f2d4be01e192833930"
  },
  "kernelspec": {
   "display_name": "Python 3.9.9 64-bit",
   "language": "python",
   "name": "python3"
  },
  "language_info": {
   "codemirror_mode": {
    "name": "ipython",
    "version": 3
   },
   "file_extension": ".py",
   "mimetype": "text/x-python",
   "name": "python",
   "nbconvert_exporter": "python",
   "pygments_lexer": "ipython3",
   "version": "3.9.9"
  },
  "orig_nbformat": 4
 },
 "nbformat": 4,
 "nbformat_minor": 2
}

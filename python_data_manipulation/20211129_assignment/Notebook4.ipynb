{
 "cells": [
  {
   "cell_type": "markdown",
   "id": "491e1463",
   "metadata": {},
   "source": [
    "# Assignement n.4\n",
    "\n",
    "Collect the ABALONE Dataset from [here](https://archive.ics.uci.edu/ml/datasets/Abalone).\n",
    "\n",
    "You'll get 2 files:\n",
    "   * abalone.data  : csv for the dataset\n",
    "   * abalone.names : explanation and names of the attributes.\n",
    "   \n",
    "## GOALS:\n",
    "\n",
    "  1. Provide basic data exploration results on the dataset\n",
    "  2. Train a binary classifier on the Abalone dataset for the following target classes:\n",
    "      * 0: young snail, number of rings <= 12\n",
    "      * 1: old snail, number of rings > 12\n",
    "\n",
    "### Notes:\n",
    "\n",
    "  * Use 70-30 as train-test split\n",
    "  * Try different classifiers and compare the results\n",
    "  * Provide an evaluation of the classifier\n",
    "  * *Optional* Tune the classifier's hyperparameters\n",
    "  * Comment with markdown cells everything you code"
   ]
  },
  {
   "cell_type": "code",
   "execution_count": null,
   "id": "72045f3f",
   "metadata": {},
   "outputs": [],
   "source": []
  }
 ],
 "metadata": {
  "kernelspec": {
   "display_name": "Python 3 (ipykernel)",
   "language": "python",
   "name": "python3"
  },
  "language_info": {
   "codemirror_mode": {
    "name": "ipython",
    "version": 3
   },
   "file_extension": ".py",
   "mimetype": "text/x-python",
   "name": "python",
   "nbconvert_exporter": "python",
   "pygments_lexer": "ipython3",
   "version": "3.9.4"
  }
 },
 "nbformat": 4,
 "nbformat_minor": 5
}

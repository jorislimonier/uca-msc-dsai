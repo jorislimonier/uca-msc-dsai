{
 "cells": [
  {
   "cell_type": "markdown",
   "id": "491e1463",
   "metadata": {},
   "source": [
    "# Assignement n.4\n",
    "\n",
    "Collect the ABALONE Dataset from [here](https://archive.ics.uci.edu/ml/datasets/Abalone).\n",
    "\n",
    "You\"ll get 2 files:\n",
    "   * abalone.data  : csv for the dataset\n",
    "   * abalone.names : explanation and names of the attributes.\n",
    "   \n",
    "## GOALS:\n",
    "\n",
    "  1. Provide basic data exploration results on the dataset\n",
    "  2. Train a binary classifier on the Abalone dataset for the following target classes:\n",
    "      * 0: young snail, number of rings <= 12\n",
    "      * 1: old snail, number of rings > 12\n",
    "\n",
    "### Notes:\n",
    "\n",
    "  * Use 70-30 as train-test split\n",
    "  * Try different classifiers and compare the results\n",
    "  * Provide an evaluation of the classifier\n",
    "  * *Optional* Tune the classifier\"s hyperparameters\n",
    "  * Comment with markdown cells everything you code"
   ]
  },
  {
   "cell_type": "code",
   "execution_count": 1,
   "id": "72045f3f",
   "metadata": {},
   "outputs": [],
   "source": [
    "import pandas as pd\n",
    "import numpy as np\n",
    "import matplotlib.pyplot as plt\n",
    "%matplotlib inline"
   ]
  },
  {
   "cell_type": "markdown",
   "id": "280003d0",
   "metadata": {},
   "source": [
    "# Load data"
   ]
  },
  {
   "cell_type": "code",
   "execution_count": 2,
   "id": "22a4e9e0",
   "metadata": {},
   "outputs": [
    {
     "data": {
      "text/html": [
       "<div>\n",
       "<style scoped>\n",
       "    .dataframe tbody tr th:only-of-type {\n",
       "        vertical-align: middle;\n",
       "    }\n",
       "\n",
       "    .dataframe tbody tr th {\n",
       "        vertical-align: top;\n",
       "    }\n",
       "\n",
       "    .dataframe thead th {\n",
       "        text-align: right;\n",
       "    }\n",
       "</style>\n",
       "<table border=\"1\" class=\"dataframe\">\n",
       "  <thead>\n",
       "    <tr style=\"text-align: right;\">\n",
       "      <th></th>\n",
       "      <th>sex</th>\n",
       "      <th>length</th>\n",
       "      <th>diam</th>\n",
       "      <th>height</th>\n",
       "      <th>whole</th>\n",
       "      <th>shucked</th>\n",
       "      <th>viscera</th>\n",
       "      <th>shell</th>\n",
       "      <th>rings</th>\n",
       "    </tr>\n",
       "  </thead>\n",
       "  <tbody>\n",
       "    <tr>\n",
       "      <th>0</th>\n",
       "      <td>M</td>\n",
       "      <td>0.455</td>\n",
       "      <td>0.365</td>\n",
       "      <td>0.095</td>\n",
       "      <td>0.5140</td>\n",
       "      <td>0.2245</td>\n",
       "      <td>0.1010</td>\n",
       "      <td>0.1500</td>\n",
       "      <td>15</td>\n",
       "    </tr>\n",
       "    <tr>\n",
       "      <th>1</th>\n",
       "      <td>M</td>\n",
       "      <td>0.350</td>\n",
       "      <td>0.265</td>\n",
       "      <td>0.090</td>\n",
       "      <td>0.2255</td>\n",
       "      <td>0.0995</td>\n",
       "      <td>0.0485</td>\n",
       "      <td>0.0700</td>\n",
       "      <td>7</td>\n",
       "    </tr>\n",
       "    <tr>\n",
       "      <th>2</th>\n",
       "      <td>F</td>\n",
       "      <td>0.530</td>\n",
       "      <td>0.420</td>\n",
       "      <td>0.135</td>\n",
       "      <td>0.6770</td>\n",
       "      <td>0.2565</td>\n",
       "      <td>0.1415</td>\n",
       "      <td>0.2100</td>\n",
       "      <td>9</td>\n",
       "    </tr>\n",
       "    <tr>\n",
       "      <th>3</th>\n",
       "      <td>M</td>\n",
       "      <td>0.440</td>\n",
       "      <td>0.365</td>\n",
       "      <td>0.125</td>\n",
       "      <td>0.5160</td>\n",
       "      <td>0.2155</td>\n",
       "      <td>0.1140</td>\n",
       "      <td>0.1550</td>\n",
       "      <td>10</td>\n",
       "    </tr>\n",
       "    <tr>\n",
       "      <th>4</th>\n",
       "      <td>I</td>\n",
       "      <td>0.330</td>\n",
       "      <td>0.255</td>\n",
       "      <td>0.080</td>\n",
       "      <td>0.2050</td>\n",
       "      <td>0.0895</td>\n",
       "      <td>0.0395</td>\n",
       "      <td>0.0550</td>\n",
       "      <td>7</td>\n",
       "    </tr>\n",
       "    <tr>\n",
       "      <th>...</th>\n",
       "      <td>...</td>\n",
       "      <td>...</td>\n",
       "      <td>...</td>\n",
       "      <td>...</td>\n",
       "      <td>...</td>\n",
       "      <td>...</td>\n",
       "      <td>...</td>\n",
       "      <td>...</td>\n",
       "      <td>...</td>\n",
       "    </tr>\n",
       "    <tr>\n",
       "      <th>4172</th>\n",
       "      <td>F</td>\n",
       "      <td>0.565</td>\n",
       "      <td>0.450</td>\n",
       "      <td>0.165</td>\n",
       "      <td>0.8870</td>\n",
       "      <td>0.3700</td>\n",
       "      <td>0.2390</td>\n",
       "      <td>0.2490</td>\n",
       "      <td>11</td>\n",
       "    </tr>\n",
       "    <tr>\n",
       "      <th>4173</th>\n",
       "      <td>M</td>\n",
       "      <td>0.590</td>\n",
       "      <td>0.440</td>\n",
       "      <td>0.135</td>\n",
       "      <td>0.9660</td>\n",
       "      <td>0.4390</td>\n",
       "      <td>0.2145</td>\n",
       "      <td>0.2605</td>\n",
       "      <td>10</td>\n",
       "    </tr>\n",
       "    <tr>\n",
       "      <th>4174</th>\n",
       "      <td>M</td>\n",
       "      <td>0.600</td>\n",
       "      <td>0.475</td>\n",
       "      <td>0.205</td>\n",
       "      <td>1.1760</td>\n",
       "      <td>0.5255</td>\n",
       "      <td>0.2875</td>\n",
       "      <td>0.3080</td>\n",
       "      <td>9</td>\n",
       "    </tr>\n",
       "    <tr>\n",
       "      <th>4175</th>\n",
       "      <td>F</td>\n",
       "      <td>0.625</td>\n",
       "      <td>0.485</td>\n",
       "      <td>0.150</td>\n",
       "      <td>1.0945</td>\n",
       "      <td>0.5310</td>\n",
       "      <td>0.2610</td>\n",
       "      <td>0.2960</td>\n",
       "      <td>10</td>\n",
       "    </tr>\n",
       "    <tr>\n",
       "      <th>4176</th>\n",
       "      <td>M</td>\n",
       "      <td>0.710</td>\n",
       "      <td>0.555</td>\n",
       "      <td>0.195</td>\n",
       "      <td>1.9485</td>\n",
       "      <td>0.9455</td>\n",
       "      <td>0.3765</td>\n",
       "      <td>0.4950</td>\n",
       "      <td>12</td>\n",
       "    </tr>\n",
       "  </tbody>\n",
       "</table>\n",
       "<p>4177 rows × 9 columns</p>\n",
       "</div>"
      ],
      "text/plain": [
       "     sex  length   diam  height   whole  shucked  viscera   shell  rings\n",
       "0      M   0.455  0.365   0.095  0.5140   0.2245   0.1010  0.1500     15\n",
       "1      M   0.350  0.265   0.090  0.2255   0.0995   0.0485  0.0700      7\n",
       "2      F   0.530  0.420   0.135  0.6770   0.2565   0.1415  0.2100      9\n",
       "3      M   0.440  0.365   0.125  0.5160   0.2155   0.1140  0.1550     10\n",
       "4      I   0.330  0.255   0.080  0.2050   0.0895   0.0395  0.0550      7\n",
       "...   ..     ...    ...     ...     ...      ...      ...     ...    ...\n",
       "4172   F   0.565  0.450   0.165  0.8870   0.3700   0.2390  0.2490     11\n",
       "4173   M   0.590  0.440   0.135  0.9660   0.4390   0.2145  0.2605     10\n",
       "4174   M   0.600  0.475   0.205  1.1760   0.5255   0.2875  0.3080      9\n",
       "4175   F   0.625  0.485   0.150  1.0945   0.5310   0.2610  0.2960     10\n",
       "4176   M   0.710  0.555   0.195  1.9485   0.9455   0.3765  0.4950     12\n",
       "\n",
       "[4177 rows x 9 columns]"
      ]
     },
     "execution_count": 2,
     "metadata": {},
     "output_type": "execute_result"
    }
   ],
   "source": [
    "initial_data = pd.read_csv(\"abalone.data\", header=None)\n",
    "initial_data.columns = [\"sex\", \"length\", \"diam\", \"height\", \"whole\", \"shucked\", \"viscera\", \"shell\", \"rings\"]\n",
    "\n",
    "initial_data"
   ]
  },
  {
   "cell_type": "markdown",
   "id": "bd11fc6e",
   "metadata": {},
   "source": [
    "# Exploratory Data Analysis"
   ]
  },
  {
   "cell_type": "code",
   "execution_count": 3,
   "id": "40831103",
   "metadata": {},
   "outputs": [
    {
     "name": "stdout",
     "output_type": "stream",
     "text": [
      "<class 'pandas.core.frame.DataFrame'>\n",
      "RangeIndex: 4177 entries, 0 to 4176\n",
      "Data columns (total 9 columns):\n",
      " #   Column   Non-Null Count  Dtype  \n",
      "---  ------   --------------  -----  \n",
      " 0   sex      4177 non-null   object \n",
      " 1   length   4177 non-null   float64\n",
      " 2   diam     4177 non-null   float64\n",
      " 3   height   4177 non-null   float64\n",
      " 4   whole    4177 non-null   float64\n",
      " 5   shucked  4177 non-null   float64\n",
      " 6   viscera  4177 non-null   float64\n",
      " 7   shell    4177 non-null   float64\n",
      " 8   rings    4177 non-null   int64  \n",
      "dtypes: float64(7), int64(1), object(1)\n",
      "memory usage: 293.8+ KB\n"
     ]
    }
   ],
   "source": [
    "initial_data.info()"
   ]
  },
  {
   "cell_type": "code",
   "execution_count": 4,
   "id": "2ee23843",
   "metadata": {},
   "outputs": [
    {
     "data": {
      "text/html": [
       "<div>\n",
       "<style scoped>\n",
       "    .dataframe tbody tr th:only-of-type {\n",
       "        vertical-align: middle;\n",
       "    }\n",
       "\n",
       "    .dataframe tbody tr th {\n",
       "        vertical-align: top;\n",
       "    }\n",
       "\n",
       "    .dataframe thead th {\n",
       "        text-align: right;\n",
       "    }\n",
       "</style>\n",
       "<table border=\"1\" class=\"dataframe\">\n",
       "  <thead>\n",
       "    <tr style=\"text-align: right;\">\n",
       "      <th></th>\n",
       "      <th>length</th>\n",
       "      <th>diam</th>\n",
       "      <th>height</th>\n",
       "      <th>whole</th>\n",
       "      <th>shucked</th>\n",
       "      <th>viscera</th>\n",
       "      <th>shell</th>\n",
       "      <th>rings</th>\n",
       "    </tr>\n",
       "  </thead>\n",
       "  <tbody>\n",
       "    <tr>\n",
       "      <th>count</th>\n",
       "      <td>4177.000000</td>\n",
       "      <td>4177.000000</td>\n",
       "      <td>4177.000000</td>\n",
       "      <td>4177.000000</td>\n",
       "      <td>4177.000000</td>\n",
       "      <td>4177.000000</td>\n",
       "      <td>4177.000000</td>\n",
       "      <td>4177.000000</td>\n",
       "    </tr>\n",
       "    <tr>\n",
       "      <th>mean</th>\n",
       "      <td>0.523992</td>\n",
       "      <td>0.407881</td>\n",
       "      <td>0.139516</td>\n",
       "      <td>0.828742</td>\n",
       "      <td>0.359367</td>\n",
       "      <td>0.180594</td>\n",
       "      <td>0.238831</td>\n",
       "      <td>9.933684</td>\n",
       "    </tr>\n",
       "    <tr>\n",
       "      <th>std</th>\n",
       "      <td>0.120093</td>\n",
       "      <td>0.099240</td>\n",
       "      <td>0.041827</td>\n",
       "      <td>0.490389</td>\n",
       "      <td>0.221963</td>\n",
       "      <td>0.109614</td>\n",
       "      <td>0.139203</td>\n",
       "      <td>3.224169</td>\n",
       "    </tr>\n",
       "    <tr>\n",
       "      <th>min</th>\n",
       "      <td>0.075000</td>\n",
       "      <td>0.055000</td>\n",
       "      <td>0.000000</td>\n",
       "      <td>0.002000</td>\n",
       "      <td>0.001000</td>\n",
       "      <td>0.000500</td>\n",
       "      <td>0.001500</td>\n",
       "      <td>1.000000</td>\n",
       "    </tr>\n",
       "    <tr>\n",
       "      <th>25%</th>\n",
       "      <td>0.450000</td>\n",
       "      <td>0.350000</td>\n",
       "      <td>0.115000</td>\n",
       "      <td>0.441500</td>\n",
       "      <td>0.186000</td>\n",
       "      <td>0.093500</td>\n",
       "      <td>0.130000</td>\n",
       "      <td>8.000000</td>\n",
       "    </tr>\n",
       "    <tr>\n",
       "      <th>50%</th>\n",
       "      <td>0.545000</td>\n",
       "      <td>0.425000</td>\n",
       "      <td>0.140000</td>\n",
       "      <td>0.799500</td>\n",
       "      <td>0.336000</td>\n",
       "      <td>0.171000</td>\n",
       "      <td>0.234000</td>\n",
       "      <td>9.000000</td>\n",
       "    </tr>\n",
       "    <tr>\n",
       "      <th>75%</th>\n",
       "      <td>0.615000</td>\n",
       "      <td>0.480000</td>\n",
       "      <td>0.165000</td>\n",
       "      <td>1.153000</td>\n",
       "      <td>0.502000</td>\n",
       "      <td>0.253000</td>\n",
       "      <td>0.329000</td>\n",
       "      <td>11.000000</td>\n",
       "    </tr>\n",
       "    <tr>\n",
       "      <th>max</th>\n",
       "      <td>0.815000</td>\n",
       "      <td>0.650000</td>\n",
       "      <td>1.130000</td>\n",
       "      <td>2.825500</td>\n",
       "      <td>1.488000</td>\n",
       "      <td>0.760000</td>\n",
       "      <td>1.005000</td>\n",
       "      <td>29.000000</td>\n",
       "    </tr>\n",
       "  </tbody>\n",
       "</table>\n",
       "</div>"
      ],
      "text/plain": [
       "            length         diam       height        whole      shucked  \\\n",
       "count  4177.000000  4177.000000  4177.000000  4177.000000  4177.000000   \n",
       "mean      0.523992     0.407881     0.139516     0.828742     0.359367   \n",
       "std       0.120093     0.099240     0.041827     0.490389     0.221963   \n",
       "min       0.075000     0.055000     0.000000     0.002000     0.001000   \n",
       "25%       0.450000     0.350000     0.115000     0.441500     0.186000   \n",
       "50%       0.545000     0.425000     0.140000     0.799500     0.336000   \n",
       "75%       0.615000     0.480000     0.165000     1.153000     0.502000   \n",
       "max       0.815000     0.650000     1.130000     2.825500     1.488000   \n",
       "\n",
       "           viscera        shell        rings  \n",
       "count  4177.000000  4177.000000  4177.000000  \n",
       "mean      0.180594     0.238831     9.933684  \n",
       "std       0.109614     0.139203     3.224169  \n",
       "min       0.000500     0.001500     1.000000  \n",
       "25%       0.093500     0.130000     8.000000  \n",
       "50%       0.171000     0.234000     9.000000  \n",
       "75%       0.253000     0.329000    11.000000  \n",
       "max       0.760000     1.005000    29.000000  "
      ]
     },
     "execution_count": 4,
     "metadata": {},
     "output_type": "execute_result"
    }
   ],
   "source": [
    "initial_data.describe()"
   ]
  },
  {
   "cell_type": "code",
   "execution_count": 5,
   "id": "f6c40d37",
   "metadata": {},
   "outputs": [
    {
     "data": {
      "text/plain": [
       "sex        0\n",
       "length     0\n",
       "diam       0\n",
       "height     0\n",
       "whole      0\n",
       "shucked    0\n",
       "viscera    0\n",
       "shell      0\n",
       "rings      0\n",
       "dtype: int64"
      ]
     },
     "execution_count": 5,
     "metadata": {},
     "output_type": "execute_result"
    }
   ],
   "source": [
    "initial_data.isna().sum() # No NA, life is beautiful"
   ]
  },
  {
   "cell_type": "code",
   "execution_count": 6,
   "id": "49852c0b",
   "metadata": {},
   "outputs": [
    {
     "data": {
      "text/plain": [
       "array([[<AxesSubplot:title={'center':'length'}>,\n",
       "        <AxesSubplot:title={'center':'diam'}>,\n",
       "        <AxesSubplot:title={'center':'height'}>],\n",
       "       [<AxesSubplot:title={'center':'whole'}>,\n",
       "        <AxesSubplot:title={'center':'shucked'}>,\n",
       "        <AxesSubplot:title={'center':'viscera'}>],\n",
       "       [<AxesSubplot:title={'center':'shell'}>,\n",
       "        <AxesSubplot:title={'center':'rings'}>, <AxesSubplot:>]],\n",
       "      dtype=object)"
      ]
     },
     "execution_count": 6,
     "metadata": {},
     "output_type": "execute_result"
    },
    {
     "data": {
      "image/png": "[encoded data removed]",
      "text/plain": [
       "<Figure size 864x432 with 9 Axes>"
      ]
     },
     "metadata": {
      "needs_background": "light"
     },
     "output_type": "display_data"
    }
   ],
   "source": [
    "initial_data.hist(figsize=(12,6))"
   ]
  },
  {
   "cell_type": "code",
   "execution_count": 7,
   "id": "702e8e63",
   "metadata": {},
   "outputs": [
    {
     "data": {
      "text/plain": [
       "<AxesSubplot:>"
      ]
     },
     "execution_count": 7,
     "metadata": {},
     "output_type": "execute_result"
    },
    {
     "data": {
      "image/png": "[encoded data removed]",
      "text/plain": [
       "<Figure size 432x288 with 1 Axes>"
      ]
     },
     "metadata": {
      "needs_background": "light"
     },
     "output_type": "display_data"
    }
   ],
   "source": [
    "initial_data[\"sex\"].value_counts().plot(kind=\"bar\", figsize=(6,4))"
   ]
  },
  {
   "cell_type": "markdown",
   "id": "7307168e",
   "metadata": {},
   "source": [
    "# Data preprocessing"
   ]
  },
  {
   "cell_type": "code",
   "execution_count": 8,
   "id": "01c0b81c",
   "metadata": {},
   "outputs": [],
   "source": [
    "from sklearn.preprocessing import OneHotEncoder, OrdinalEncoder\n",
    "\n",
    "data = initial_data.copy()\n",
    "ord_enc = OrdinalEncoder()\n",
    "sex_enc = ord_enc.fit_transform(data[[\"sex\"]])"
   ]
  },
  {
   "cell_type": "markdown",
   "id": "5c2688a3",
   "metadata": {},
   "source": [
    "#### See effect of ordinal encoding"
   ]
  },
  {
   "cell_type": "code",
   "execution_count": 9,
   "id": "0eda34e9",
   "metadata": {},
   "outputs": [
    {
     "name": "stdout",
     "output_type": "stream",
     "text": [
      "F is encoded as 0.0\n",
      "I is encoded as 1.0\n",
      "M is encoded as 2.0\n"
     ]
    }
   ],
   "source": [
    "for item in zip(np.unique(sex_enc), np.unique(data[\"sex\"])):\n",
    "    print(f\"{item[1]} is encoded as {item[0]}\")"
   ]
  },
  {
   "cell_type": "code",
   "execution_count": 10,
   "id": "31a92e1f",
   "metadata": {},
   "outputs": [
    {
     "data": {
      "text/html": [
       "<div>\n",
       "<style scoped>\n",
       "    .dataframe tbody tr th:only-of-type {\n",
       "        vertical-align: middle;\n",
       "    }\n",
       "\n",
       "    .dataframe tbody tr th {\n",
       "        vertical-align: top;\n",
       "    }\n",
       "\n",
       "    .dataframe thead th {\n",
       "        text-align: right;\n",
       "    }\n",
       "</style>\n",
       "<table border=\"1\" class=\"dataframe\">\n",
       "  <thead>\n",
       "    <tr style=\"text-align: right;\">\n",
       "      <th></th>\n",
       "      <th>sex_enc</th>\n",
       "      <th>sex</th>\n",
       "    </tr>\n",
       "  </thead>\n",
       "  <tbody>\n",
       "    <tr>\n",
       "      <th>0</th>\n",
       "      <td>2.0</td>\n",
       "      <td>M</td>\n",
       "    </tr>\n",
       "    <tr>\n",
       "      <th>1</th>\n",
       "      <td>2.0</td>\n",
       "      <td>M</td>\n",
       "    </tr>\n",
       "    <tr>\n",
       "      <th>2</th>\n",
       "      <td>0.0</td>\n",
       "      <td>F</td>\n",
       "    </tr>\n",
       "    <tr>\n",
       "      <th>3</th>\n",
       "      <td>2.0</td>\n",
       "      <td>M</td>\n",
       "    </tr>\n",
       "    <tr>\n",
       "      <th>4</th>\n",
       "      <td>1.0</td>\n",
       "      <td>I</td>\n",
       "    </tr>\n",
       "  </tbody>\n",
       "</table>\n",
       "</div>"
      ],
      "text/plain": [
       "   sex_enc sex\n",
       "0      2.0   M\n",
       "1      2.0   M\n",
       "2      0.0   F\n",
       "3      2.0   M\n",
       "4      1.0   I"
      ]
     },
     "execution_count": 10,
     "metadata": {},
     "output_type": "execute_result"
    }
   ],
   "source": [
    "pd.DataFrame({\"sex_enc\": sex_enc[:,0], \"sex\": data[\"sex\"]}).head()"
   ]
  },
  {
   "cell_type": "code",
   "execution_count": 11,
   "id": "7434499f",
   "metadata": {},
   "outputs": [],
   "source": [
    "data[\"sex\"] = sex_enc"
   ]
  },
  {
   "cell_type": "code",
   "execution_count": 12,
   "id": "cbc35643",
   "metadata": {},
   "outputs": [],
   "source": [
    "if \"rings\" in data.columns:\n",
    "    data[\"young\"] = np.where(data[\"rings\"] <= 12, 1, 0)\n",
    "    data = data.drop(columns=\"rings\")"
   ]
  },
  {
   "cell_type": "markdown",
   "id": "c0540672",
   "metadata": {},
   "source": [
    "# Classification"
   ]
  },
  {
   "cell_type": "code",
   "execution_count": 13,
   "id": "d6b63b58",
   "metadata": {},
   "outputs": [],
   "source": [
    "from sklearn.model_selection import train_test_split\n",
    "from sklearn.svm import SVC\n",
    "from sklearn.metrics import classification_report, confusion_matrix, accuracy_score"
   ]
  },
  {
   "cell_type": "markdown",
   "id": "daa7e3f8",
   "metadata": {},
   "source": [
    "### Perform train-test split"
   ]
  },
  {
   "cell_type": "code",
   "execution_count": 14,
   "id": "8bfe9b55",
   "metadata": {},
   "outputs": [],
   "source": [
    "X = data.drop(columns=\"young\").copy().values\n",
    "y = data[[\"young\"]].copy().values\n",
    "\n",
    "X_train, X_test, y_train, y_test = train_test_split(X, y, test_size=.3, random_state=42)"
   ]
  },
  {
   "cell_type": "markdown",
   "id": "cfa148c2",
   "metadata": {},
   "source": [
    "### SVC without scaling"
   ]
  },
  {
   "cell_type": "code",
   "execution_count": 15,
   "id": "e9083fd9",
   "metadata": {},
   "outputs": [
    {
     "name": "stdout",
     "output_type": "stream",
     "text": [
      "Classification report\n",
      "               precision    recall  f1-score   support\n",
      "\n",
      "           0       0.86      0.09      0.17       193\n",
      "           1       0.86      1.00      0.92      1061\n",
      "\n",
      "    accuracy                           0.86      1254\n",
      "   macro avg       0.86      0.55      0.55      1254\n",
      "weighted avg       0.86      0.86      0.81      1254\n",
      "\n",
      "Confusion matrix\n",
      " [[  18  175]\n",
      " [   3 1058]]\n",
      "Accuracy\n",
      " 0.8580542264752791\n"
     ]
    }
   ],
   "source": [
    "clf_svc = SVC()\n",
    "clf_svc.fit(X_train, y_train.reshape(-1))\n",
    "pred = clf_svc.predict(X_test)\n",
    "print(\"Classification report\\n\", classification_report(y_test, pred))\n",
    "print(\"Confusion matrix\\n\", confusion_matrix(y_test, pred))\n",
    "print(\"Accuracy\\n\", accuracy_score(pred, y_test))"
   ]
  },
  {
   "cell_type": "markdown",
   "id": "90d3275d",
   "metadata": {},
   "source": [
    "### SVC with standard scaling"
   ]
  },
  {
   "cell_type": "code",
   "execution_count": 16,
   "id": "518d0374",
   "metadata": {},
   "outputs": [],
   "source": [
    "from sklearn.preprocessing import StandardScaler"
   ]
  },
  {
   "cell_type": "code",
   "execution_count": 17,
   "id": "e9083fd9",
   "metadata": {},
   "outputs": [],
   "source": [
    "scaler = StandardScaler()\n",
    "scaler.fit(X_train)\n",
    "X_train_scaled = scaler.transform(X_train)\n",
    "X_test_scaled = scaler.transform(X_test)\n",
    "\n"
   ]
  },
  {
   "cell_type": "code",
   "execution_count": 18,
   "id": "af061d91",
   "metadata": {},
   "outputs": [
    {
     "name": "stdout",
     "output_type": "stream",
     "text": [
      "Classification report\n",
      "               precision    recall  f1-score   support\n",
      "\n",
      "           0       0.69      0.28      0.40       193\n",
      "           1       0.88      0.98      0.93      1061\n",
      "\n",
      "    accuracy                           0.87      1254\n",
      "   macro avg       0.78      0.63      0.66      1254\n",
      "weighted avg       0.85      0.87      0.85      1254\n",
      "\n",
      "Confusion matrix\n",
      " [[  55  138]\n",
      " [  25 1036]]\n",
      "Accuracy\n",
      " 0.8700159489633174\n"
     ]
    }
   ],
   "source": [
    "clf_svc = SVC()\n",
    "clf_svc.fit(X_train_scaled, y_train.reshape(-1))\n",
    "pred = clf_svc.predict(X_test_scaled)\n",
    "print(\"Classification report\\n\", classification_report(y_test, pred))\n",
    "print(\"Confusion matrix\\n\", confusion_matrix(y_test, pred))\n",
    "print(\"Accuracy\\n\", accuracy_score(pred, y_test))"
   ]
  },
  {
   "cell_type": "markdown",
   "id": "90d3275d",
   "metadata": {},
   "source": [
    "### SVC with MinMax scaling"
   ]
  },
  {
   "cell_type": "code",
   "execution_count": 19,
   "id": "518d0374",
   "metadata": {},
   "outputs": [],
   "source": [
    "from sklearn.preprocessing import MinMaxScaler"
   ]
  },
  {
   "cell_type": "code",
   "execution_count": 20,
   "id": "e9083fd9",
   "metadata": {},
   "outputs": [],
   "source": [
    "scaler = MinMaxScaler()\n",
    "scaler.fit(X_train)\n",
    "X_train_scaled = scaler.transform(X_train)\n",
    "X_test_scaled = scaler.transform(X_test)"
   ]
  },
  {
   "cell_type": "code",
   "execution_count": 21,
   "id": "af061d91",
   "metadata": {},
   "outputs": [
    {
     "name": "stdout",
     "output_type": "stream",
     "text": [
      "Classification report\n",
      "               precision    recall  f1-score   support\n",
      "\n",
      "           0       0.78      0.16      0.27       193\n",
      "           1       0.87      0.99      0.92      1061\n",
      "\n",
      "    accuracy                           0.86      1254\n",
      "   macro avg       0.82      0.58      0.60      1254\n",
      "weighted avg       0.85      0.86      0.82      1254\n",
      "\n",
      "Confusion matrix\n",
      " [[  31  162]\n",
      " [   9 1052]]\n",
      "Accuracy\n",
      " 0.8636363636363636\n"
     ]
    }
   ],
   "source": [
    "clf_svc = SVC()\n",
    "clf_svc.fit(X_train_scaled, y_train.reshape(-1))\n",
    "pred = clf_svc.predict(X_test_scaled)\n",
    "print(\"Classification report\\n\", classification_report(y_test, pred))\n",
    "print(\"Confusion matrix\\n\", confusion_matrix(y_test, pred))\n",
    "print(\"Accuracy\\n\", accuracy_score(pred, y_test))"
   ]
  },
  {
   "cell_type": "markdown",
   "id": "3268cda3",
   "metadata": {},
   "source": [
    "The standard scaler seems to perform best for SVC. Let's now implement cross validation.\n",
    "## $k$-fold cross validation"
   ]
  },
  {
   "cell_type": "code",
   "execution_count": 22,
   "id": "28011a88",
   "metadata": {},
   "outputs": [],
   "source": [
    "from sklearn.model_selection import ShuffleSplit, cross_val_score,GridSearchCV"
   ]
  },
  {
   "cell_type": "code",
   "execution_count": 23,
   "id": "14dcc002",
   "metadata": {},
   "outputs": [
    {
     "name": "stdout",
     "output_type": "stream",
     "text": [
      "[0.8460925  0.83732057 0.83014354 0.83811802 0.84051037 0.83891547\n",
      " 0.85007974 0.85406699 0.83891547 0.83253589] 0.84066985645933\n",
      "[0.84808612 0.8361244  0.84670659 0.83952096 0.84431138] 0.8429498896942956\n",
      "[0.8492823  0.85167464 0.83732057 0.83732057 0.85885167 0.85885167\n",
      " 0.83971292 0.85611511 0.8441247  0.83693046] 0.8470184617855955\n"
     ]
    },
    {
     "data": {
      "text/plain": [
       "{'C': 1.0,\n",
       " 'break_ties': False,\n",
       " 'cache_size': 200,\n",
       " 'class_weight': None,\n",
       " 'coef0': 0.0,\n",
       " 'decision_function_shape': 'ovr',\n",
       " 'degree': 3,\n",
       " 'gamma': 'scale',\n",
       " 'kernel': 'rbf',\n",
       " 'max_iter': -1,\n",
       " 'probability': False,\n",
       " 'random_state': None,\n",
       " 'shrinking': True,\n",
       " 'tol': 0.001,\n",
       " 'verbose': False}"
      ]
     },
     "execution_count": 23,
     "metadata": {},
     "output_type": "execute_result"
    }
   ],
   "source": [
    "cv = ShuffleSplit(test_size=.3)\n",
    "cv_scores = cross_val_score(clf_svc, X, y.ravel(), cv=cv)\n",
    "print(cv_scores, cv_scores.mean())\n",
    "cv_scores = cross_val_score(clf_svc, X, y.ravel(), cv=5)\n",
    "print(cv_scores, cv_scores.mean())\n",
    "cv_scores = cross_val_score(clf_svc, X, y.ravel(), cv=10)\n",
    "print(cv_scores, cv_scores.mean())\n",
    "clf_svc.get_params()"
   ]
  },
  {
   "cell_type": "markdown",
   "id": "1234f742",
   "metadata": {},
   "source": [
    "## Grid search SVC"
   ]
  },
  {
   "cell_type": "code",
   "execution_count": 55,
   "id": "4316670f",
   "metadata": {},
   "outputs": [
    {
     "name": "stdout",
     "output_type": "stream",
     "text": [
      "Fitting 5 folds for each of 9 candidates, totalling 45 fits\n",
      "[CV 3/5] END .............C=100, gamma=100000, kernel=linear; total time=   0.2s\n",
      "[CV 1/5] END .............C=100, gamma=100000, kernel=linear; total time=   0.2s\n",
      "[CV 4/5] END .............C=100, gamma=100000, kernel=linear; total time=   0.2s\n",
      "[CV 1/5] END ..............C=100, gamma=20000, kernel=linear; total time=   0.2s\n",
      "[CV 2/5] END .............C=100, gamma=100000, kernel=linear; total time=   0.3s\n",
      "[CV 5/5] END .............C=100, gamma=100000, kernel=linear; total time=   0.3s\n",
      "[CV 2/5] END ..............C=100, gamma=20000, kernel=linear; total time=   0.3s\n",
      "[CV 3/5] END ..............C=100, gamma=20000, kernel=linear; total time=   0.4s\n",
      "[CV 4/5] END ..............C=100, gamma=20000, kernel=linear; total time=   0.2s\n",
      "[CV 5/5] END ..............C=100, gamma=20000, kernel=linear; total time=   0.3s\n",
      "[CV 3/5] END ..............C=100, gamma=10000, kernel=linear; total time=   0.3s\n",
      "[CV 5/5] END ..............C=100, gamma=10000, kernel=linear; total time=   0.2s\n",
      "[CV 2/5] END ..............C=100, gamma=10000, kernel=linear; total time=   0.3s\n",
      "[CV 4/5] END ..............C=100, gamma=10000, kernel=linear; total time=   0.3s\n",
      "[CV 1/5] END ..............C=100, gamma=10000, kernel=linear; total time=   0.4s\n",
      "[CV 1/5] END .............C=200, gamma=100000, kernel=linear; total time=   0.3s\n",
      "[CV 2/5] END .............C=200, gamma=100000, kernel=linear; total time=   0.3s\n",
      "[CV 1/5] END ..............C=200, gamma=20000, kernel=linear; total time=   0.3s\n",
      "[CV 3/5] END .............C=200, gamma=100000, kernel=linear; total time=   0.3s\n",
      "[CV 5/5] END .............C=200, gamma=100000, kernel=linear; total time=   0.3s\n",
      "[CV 2/5] END ..............C=200, gamma=20000, kernel=linear; total time=   0.3s\n",
      "[CV 4/5] END .............C=200, gamma=100000, kernel=linear; total time=   0.4s\n",
      "[CV 4/5] END ..............C=200, gamma=20000, kernel=linear; total time=   0.3s\n",
      "[CV 3/5] END ..............C=200, gamma=20000, kernel=linear; total time=   0.4s\n",
      "[CV 5/5] END ..............C=200, gamma=20000, kernel=linear; total time=   0.3s\n",
      "[CV 2/5] END ..............C=200, gamma=10000, kernel=linear; total time=   0.3s\n",
      "[CV 1/5] END ..............C=200, gamma=10000, kernel=linear; total time=   0.3s\n",
      "[CV 4/5] END ..............C=200, gamma=10000, kernel=linear; total time=   0.3s\n",
      "[CV 3/5] END ..............C=200, gamma=10000, kernel=linear; total time=   0.4s\n",
      "[CV 5/5] END ..............C=200, gamma=10000, kernel=linear; total time=   0.3s\n",
      "[CV 1/5] END .............C=300, gamma=100000, kernel=linear; total time=   0.3s\n",
      "[CV 2/5] END .............C=300, gamma=100000, kernel=linear; total time=   0.3s\n",
      "[CV 3/5] END .............C=300, gamma=100000, kernel=linear; total time=   0.3s\n",
      "[CV 4/5] END .............C=300, gamma=100000, kernel=linear; total time=   0.4s\n",
      "[CV 5/5] END .............C=300, gamma=100000, kernel=linear; total time=   0.4s\n",
      "[CV 1/5] END ..............C=300, gamma=20000, kernel=linear; total time=   0.4s\n",
      "[CV 2/5] END ..............C=300, gamma=20000, kernel=linear; total time=   0.4s\n",
      "[CV 3/5] END ..............C=300, gamma=20000, kernel=linear; total time=   0.4s\n",
      "[CV 4/5] END ..............C=300, gamma=20000, kernel=linear; total time=   0.4s\n",
      "[CV 1/5] END ..............C=300, gamma=10000, kernel=linear; total time=   0.3s\n",
      "[CV 5/5] END ..............C=300, gamma=20000, kernel=linear; total time=   0.4s\n",
      "[CV 2/5] END ..............C=300, gamma=10000, kernel=linear; total time=   0.3s\n",
      "[CV 3/5] END ..............C=300, gamma=10000, kernel=linear; total time=   0.3s\n",
      "[CV 4/5] END ..............C=300, gamma=10000, kernel=linear; total time=   0.3s\n",
      "[CV 5/5] END ..............C=300, gamma=10000, kernel=linear; total time=   0.3s\n"
     ]
    },
    {
     "data": {
      "text/plain": [
       "GridSearchCV(estimator=SVC(), n_jobs=-1,\n",
       "             param_grid={'C': [100, 200, 300], 'gamma': [100000, 20000, 10000],\n",
       "                         'kernel': ['linear']},\n",
       "             verbose=3)"
      ]
     },
     "execution_count": 55,
     "metadata": {},
     "output_type": "execute_result"
    }
   ],
   "source": [
    "param_grid = {\n",
    "    'C': [100, 200, 300],\n",
    "    'gamma': ['scale', 'auto'],\n",
    "    'gamma': [100000, 20000, 10000],\n",
    "    'kernel': ['linear']\n",
    "}\n",
    "grid = GridSearchCV(clf_svc, param_grid=param_grid, verbose=3, n_jobs=-1)\n",
    "grid.fit(X_train_scaled, y_train.ravel())"
   ]
  },
  {
   "cell_type": "code",
   "execution_count": 56,
   "id": "8e3e7ab3",
   "metadata": {},
   "outputs": [
    {
     "data": {
      "text/plain": [
       "{'C': 300, 'gamma': 100000, 'kernel': 'linear'}"
      ]
     },
     "execution_count": 56,
     "metadata": {},
     "output_type": "execute_result"
    }
   ],
   "source": [
    "grid.best_params_"
   ]
  },
  {
   "cell_type": "code",
   "execution_count": 70,
   "id": "5a563bab",
   "metadata": {},
   "outputs": [
    {
     "name": "stdout",
     "output_type": "stream",
     "text": [
      "Classification report\n",
      "               precision    recall  f1-score   support\n",
      "\n",
      "           0       0.69      0.42      0.52       193\n",
      "           1       0.90      0.97      0.93      1061\n",
      "\n",
      "    accuracy                           0.88      1254\n",
      "   macro avg       0.79      0.69      0.73      1254\n",
      "weighted avg       0.87      0.88      0.87      1254\n",
      "\n",
      "Confusion matrix\n",
      " [[  81  112]\n",
      " [  37 1024]]\n",
      "Accuracy\n",
      " 0.8811802232854864\n"
     ]
    }
   ],
   "source": [
    "grid_pred_svc = grid.predict(X_test_scaled)\n",
    "print(\"Classification report\\n\", classification_report(y_test, grid_pred_svc))\n",
    "print(\"Confusion matrix\\n\", confusion_matrix(y_test, grid_pred_svc))\n",
    "print(\"Accuracy\\n\", accuracy_score(grid_pred_svc, y_test))"
   ]
  },
  {
   "cell_type": "markdown",
   "id": "c2878e68",
   "metadata": {},
   "source": [
    "We achieve 88.12% accuracy, which is the best we got so far."
   ]
  },
  {
   "cell_type": "markdown",
   "id": "fcba95bc",
   "metadata": {},
   "source": [
    "## Random forest"
   ]
  },
  {
   "cell_type": "code",
   "execution_count": 58,
   "id": "e0a5cce6",
   "metadata": {},
   "outputs": [],
   "source": [
    "from sklearn.ensemble import RandomForestClassifier"
   ]
  },
  {
   "cell_type": "code",
   "execution_count": 67,
   "id": "0d4b8eec",
   "metadata": {},
   "outputs": [
    {
     "data": {
      "text/plain": [
       "RandomForestClassifier()"
      ]
     },
     "execution_count": 67,
     "metadata": {},
     "output_type": "execute_result"
    }
   ],
   "source": [
    "clf_rf = RandomForestClassifier()\n",
    "clf_rf.fit(X_train, y_train.ravel())"
   ]
  },
  {
   "cell_type": "code",
   "execution_count": 72,
   "id": "5f2bfe10",
   "metadata": {},
   "outputs": [
    {
     "name": "stdout",
     "output_type": "stream",
     "text": [
      "Classification report\n",
      "               precision    recall  f1-score   support\n",
      "\n",
      "           0       0.60      0.44      0.50       193\n",
      "           1       0.90      0.95      0.92      1061\n",
      "\n",
      "    accuracy                           0.87      1254\n",
      "   macro avg       0.75      0.69      0.71      1254\n",
      "weighted avg       0.86      0.87      0.86      1254\n",
      "\n",
      "Confusion matrix\n",
      " [[  84  109]\n",
      " [  56 1005]]\n",
      "Accuracy\n",
      " 0.868421052631579\n"
     ]
    }
   ],
   "source": [
    "pred_rf = clf_rf.predict(X_test)\n",
    "print(\"Classification report\\n\", classification_report(y_test, pred_rf))\n",
    "print(\"Confusion matrix\\n\", confusion_matrix(y_test, pred_rf))\n",
    "print(\"Accuracy\\n\", accuracy_score(pred_rf, y_test))"
   ]
  },
  {
   "cell_type": "markdown",
   "id": "1234f742",
   "metadata": {},
   "source": [
    "## Grid search SVC"
   ]
  },
  {
   "cell_type": "code",
   "execution_count": 86,
   "id": "ac1d2c39",
   "metadata": {},
   "outputs": [
    {
     "name": "stdout",
     "output_type": "stream",
     "text": [
      "Fitting 5 folds for each of 72 candidates, totalling 360 fits\n",
      "[CV 3/5] END bootstrap=True, max_depth=10, max_features=auto, min_samples_leaf=1, min_samples_split=4, n_estimators=50; total time=   0.3s\n",
      "[CV 5/5] END bootstrap=True, max_depth=10, max_features=auto, min_samples_leaf=1, min_samples_split=4, n_estimators=50; total time=   0.3s\n",
      "[CV 2/5] END bootstrap=True, max_depth=10, max_features=auto, min_samples_leaf=1, min_samples_split=4, n_estimators=50; total time=   0.4s\n",
      "[CV 1/5] END bootstrap=True, max_depth=10, max_features=auto, min_samples_leaf=1, min_samples_split=4, n_estimators=50; total time=   0.4s\n",
      "[CV 4/5] END bootstrap=True, max_depth=10, max_features=auto, min_samples_leaf=1, min_samples_split=4, n_estimators=50; total time=   0.4s\n",
      "[CV 1/5] END bootstrap=True, max_depth=10, max_features=auto, min_samples_leaf=1, min_samples_split=4, n_estimators=100; total time=   0.8s[CV 3/5] END bootstrap=True, max_depth=10, max_features=auto, min_samples_leaf=1, min_samples_split=4, n_estimators=100; total time=   0.7s\n",
      "\n",
      "[CV 4/5] END bootstrap=True, max_depth=10, max_features=auto, min_samples_leaf=1, min_samples_split=4, n_estimators=100; total time=   0.8s\n",
      "[CV 5/5] END bootstrap=True, max_depth=10, max_features=auto, min_samples_leaf=1, min_samples_split=4, n_estimators=100; total time=   0.7s\n",
      "[CV 2/5] END bootstrap=True, max_depth=10, max_features=auto, min_samples_leaf=1, min_samples_split=4, n_estimators=100; total time=   0.8s\n",
      "[CV 1/5] END bootstrap=True, max_depth=10, max_features=auto, min_samples_leaf=1, min_samples_split=5, n_estimators=50; total time=   0.4s\n",
      "[CV 2/5] END bootstrap=True, max_depth=10, max_features=auto, min_samples_leaf=1, min_samples_split=5, n_estimators=50; total time=   0.4s\n",
      "[CV 3/5] END bootstrap=True, max_depth=10, max_features=auto, min_samples_leaf=1, min_samples_split=5, n_estimators=50; total time=   0.4s\n",
      "[CV 1/5] END bootstrap=True, max_depth=10, max_features=auto, min_samples_leaf=1, min_samples_split=4, n_estimators=200; total time=   1.4s\n",
      "[CV 4/5] END bootstrap=True, max_depth=10, max_features=auto, min_samples_leaf=1, min_samples_split=5, n_estimators=50; total time=   0.4s\n",
      "[CV 5/5] END bootstrap=True, max_depth=10, max_features=auto, min_samples_leaf=1, min_samples_split=5, n_estimators=50; total time=   0.4s\n",
      "[CV 3/5] END bootstrap=True, max_depth=10, max_features=auto, min_samples_leaf=1, min_samples_split=4, n_estimators=200; total time=   1.5s\n",
      "[CV 2/5] END bootstrap=True, max_depth=10, max_features=auto, min_samples_leaf=1, min_samples_split=4, n_estimators=200; total time=   1.7s\n",
      "[CV 1/5] END bootstrap=True, max_depth=10, max_features=auto, min_samples_leaf=1, min_samples_split=5, n_estimators=100; total time=   0.8s\n",
      "[CV 5/5] END bootstrap=True, max_depth=10, max_features=auto, min_samples_leaf=1, min_samples_split=4, n_estimators=200; total time=   1.4s\n",
      "[CV 2/5] END bootstrap=True, max_depth=10, max_features=auto, min_samples_leaf=1, min_samples_split=5, n_estimators=100; total time=   0.7s\n",
      "[CV 3/5] END bootstrap=True, max_depth=10, max_features=auto, min_samples_leaf=1, min_samples_split=5, n_estimators=100; total time=   0.8s\n",
      "[CV 4/5] END bootstrap=True, max_depth=10, max_features=auto, min_samples_leaf=1, min_samples_split=4, n_estimators=200; total time=   1.7s\n",
      "[CV 5/5] END bootstrap=True, max_depth=10, max_features=auto, min_samples_leaf=1, min_samples_split=5, n_estimators=100; total time=   0.7s\n",
      "[CV 4/5] END bootstrap=True, max_depth=10, max_features=auto, min_samples_leaf=1, min_samples_split=5, n_estimators=100; total time=   0.8s\n",
      "[CV 1/5] END bootstrap=True, max_depth=10, max_features=auto, min_samples_leaf=1, min_samples_split=6, n_estimators=50; total time=   0.3s\n",
      "[CV 2/5] END bootstrap=True, max_depth=10, max_features=auto, min_samples_leaf=1, min_samples_split=6, n_estimators=50; total time=   0.4s\n",
      "[CV 3/5] END bootstrap=True, max_depth=10, max_features=auto, min_samples_leaf=1, min_samples_split=6, n_estimators=50; total time=   0.4s\n",
      "[CV 4/5] END bootstrap=True, max_depth=10, max_features=auto, min_samples_leaf=1, min_samples_split=6, n_estimators=50; total time=   0.3s\n",
      "[CV 5/5] END bootstrap=True, max_depth=10, max_features=auto, min_samples_leaf=1, min_samples_split=6, n_estimators=50; total time=   0.4s\n",
      "[CV 1/5] END bootstrap=True, max_depth=10, max_features=auto, min_samples_leaf=1, min_samples_split=5, n_estimators=200; total time=   1.5s\n",
      "[CV 3/5] END bootstrap=True, max_depth=10, max_features=auto, min_samples_leaf=1, min_samples_split=5, n_estimators=200; total time=   1.4s\n",
      "[CV 1/5] END bootstrap=True, max_depth=10, max_features=auto, min_samples_leaf=1, min_samples_split=6, n_estimators=100; total time=   0.7s\n",
      "[CV 2/5] END bootstrap=True, max_depth=10, max_features=auto, min_samples_leaf=1, min_samples_split=5, n_estimators=200; total time=   1.6s\n",
      "[CV 4/5] END bootstrap=True, max_depth=10, max_features=auto, min_samples_leaf=1, min_samples_split=5, n_estimators=200; total time=   1.6s\n",
      "[CV 2/5] END bootstrap=True, max_depth=10, max_features=auto, min_samples_leaf=1, min_samples_split=6, n_estimators=100; total time=   0.7s\n",
      "[CV 4/5] END bootstrap=True, max_depth=10, max_features=auto, min_samples_leaf=1, min_samples_split=6, n_estimators=100; total time=   0.7s\n",
      "[CV 5/5] END bootstrap=True, max_depth=10, max_features=auto, min_samples_leaf=1, min_samples_split=5, n_estimators=200; total time=   1.6s\n",
      "[CV 3/5] END bootstrap=True, max_depth=10, max_features=auto, min_samples_leaf=1, min_samples_split=6, n_estimators=100; total time=   0.8s\n",
      "[CV 5/5] END bootstrap=True, max_depth=10, max_features=auto, min_samples_leaf=1, min_samples_split=6, n_estimators=100; total time=   0.8s\n",
      "[CV 1/5] END bootstrap=True, max_depth=10, max_features=sqrt, min_samples_leaf=1, min_samples_split=4, n_estimators=50; total time=   0.4s\n",
      "[CV 2/5] END bootstrap=True, max_depth=10, max_features=sqrt, min_samples_leaf=1, min_samples_split=4, n_estimators=50; total time=   0.4s\n",
      "[CV 3/5] END bootstrap=True, max_depth=10, max_features=sqrt, min_samples_leaf=1, min_samples_split=4, n_estimators=50; total time=   0.4s\n",
      "[CV 4/5] END bootstrap=True, max_depth=10, max_features=sqrt, min_samples_leaf=1, min_samples_split=4, n_estimators=50; total time=   0.4s\n",
      "[CV 5/5] END bootstrap=True, max_depth=10, max_features=sqrt, min_samples_leaf=1, min_samples_split=4, n_estimators=50; total time=   0.5s\n",
      "[CV 1/5] END bootstrap=True, max_depth=10, max_features=auto, min_samples_leaf=1, min_samples_split=6, n_estimators=200; total time=   1.6s\n",
      "[CV 2/5] END bootstrap=True, max_depth=10, max_features=auto, min_samples_leaf=1, min_samples_split=6, n_estimators=200; total time=   1.7s\n",
      "[CV 3/5] END bootstrap=True, max_depth=10, max_features=auto, min_samples_leaf=1, min_samples_split=6, n_estimators=200; total time=   1.6s\n",
      "[CV 4/5] END bootstrap=True, max_depth=10, max_features=auto, min_samples_leaf=1, min_samples_split=6, n_estimators=200; total time=   1.6s\n",
      "[CV 1/5] END bootstrap=True, max_depth=10, max_features=sqrt, min_samples_leaf=1, min_samples_split=4, n_estimators=100; total time=   0.8s\n",
      "[CV 5/5] END bootstrap=True, max_depth=10, max_features=auto, min_samples_leaf=1, min_samples_split=6, n_estimators=200; total time=   1.6s\n",
      "[CV 2/5] END bootstrap=True, max_depth=10, max_features=sqrt, min_samples_leaf=1, min_samples_split=4, n_estimators=100; total time=   0.7s\n",
      "[CV 3/5] END bootstrap=True, max_depth=10, max_features=sqrt, min_samples_leaf=1, min_samples_split=4, n_estimators=100; total time=   0.9s\n",
      "[CV 4/5] END bootstrap=True, max_depth=10, max_features=sqrt, min_samples_leaf=1, min_samples_split=4, n_estimators=100; total time=   0.9s\n",
      "[CV 5/5] END bootstrap=True, max_depth=10, max_features=sqrt, min_samples_leaf=1, min_samples_split=4, n_estimators=100; total time=   0.8s\n",
      "[CV 1/5] END bootstrap=True, max_depth=10, max_features=sqrt, min_samples_leaf=1, min_samples_split=5, n_estimators=50; total time=   0.4s\n",
      "[CV 2/5] END bootstrap=True, max_depth=10, max_features=sqrt, min_samples_leaf=1, min_samples_split=5, n_estimators=50; total time=   0.4s\n",
      "[CV 3/5] END bootstrap=True, max_depth=10, max_features=sqrt, min_samples_leaf=1, min_samples_split=5, n_estimators=50; total time=   0.4s\n",
      "[CV 4/5] END bootstrap=True, max_depth=10, max_features=sqrt, min_samples_leaf=1, min_samples_split=5, n_estimators=50; total time=   0.4s\n",
      "[CV 5/5] END bootstrap=True, max_depth=10, max_features=sqrt, min_samples_leaf=1, min_samples_split=5, n_estimators=50; total time=   0.3s\n",
      "[CV 3/5] END bootstrap=True, max_depth=10, max_features=sqrt, min_samples_leaf=1, min_samples_split=4, n_estimators=200; total time=   1.4s\n",
      "[CV 2/5] END bootstrap=True, max_depth=10, max_features=sqrt, min_samples_leaf=1, min_samples_split=4, n_estimators=200; total time=   1.5s\n",
      "[CV 1/5] END bootstrap=True, max_depth=10, max_features=sqrt, min_samples_leaf=1, min_samples_split=4, n_estimators=200; total time=   1.7s\n",
      "[CV 5/5] END bootstrap=True, max_depth=10, max_features=sqrt, min_samples_leaf=1, min_samples_split=4, n_estimators=200; total time=   1.5s\n",
      "[CV 4/5] END bootstrap=True, max_depth=10, max_features=sqrt, min_samples_leaf=1, min_samples_split=4, n_estimators=200; total time=   1.5s\n",
      "[CV 1/5] END bootstrap=True, max_depth=10, max_features=sqrt, min_samples_leaf=1, min_samples_split=5, n_estimators=100; total time=   0.7s\n",
      "[CV 2/5] END bootstrap=True, max_depth=10, max_features=sqrt, min_samples_leaf=1, min_samples_split=5, n_estimators=100; total time=   0.8s\n",
      "[CV 3/5] END bootstrap=True, max_depth=10, max_features=sqrt, min_samples_leaf=1, min_samples_split=5, n_estimators=100; total time=   0.7s\n",
      "[CV 4/5] END bootstrap=True, max_depth=10, max_features=sqrt, min_samples_leaf=1, min_samples_split=5, n_estimators=100; total time=   0.7s\n",
      "[CV 5/5] END bootstrap=True, max_depth=10, max_features=sqrt, min_samples_leaf=1, min_samples_split=5, n_estimators=100; total time=   0.8s\n",
      "[CV 1/5] END bootstrap=True, max_depth=10, max_features=sqrt, min_samples_leaf=1, min_samples_split=6, n_estimators=50; total time=   0.3s\n",
      "[CV 2/5] END bootstrap=True, max_depth=10, max_features=sqrt, min_samples_leaf=1, min_samples_split=6, n_estimators=50; total time=   0.4s\n",
      "[CV 3/5] END bootstrap=True, max_depth=10, max_features=sqrt, min_samples_leaf=1, min_samples_split=6, n_estimators=50; total time=   0.4s\n",
      "[CV 4/5] END bootstrap=True, max_depth=10, max_features=sqrt, min_samples_leaf=1, min_samples_split=6, n_estimators=50; total time=   0.5s\n",
      "[CV 5/5] END bootstrap=True, max_depth=10, max_features=sqrt, min_samples_leaf=1, min_samples_split=6, n_estimators=50; total time=   0.4s\n",
      "[CV 2/5] END bootstrap=True, max_depth=10, max_features=sqrt, min_samples_leaf=1, min_samples_split=5, n_estimators=200; total time=   1.5s\n",
      "[CV 1/5] END bootstrap=True, max_depth=10, max_features=sqrt, min_samples_leaf=1, min_samples_split=5, n_estimators=200; total time=   1.5s\n",
      "[CV 3/5] END bootstrap=True, max_depth=10, max_features=sqrt, min_samples_leaf=1, min_samples_split=5, n_estimators=200; total time=   1.6s\n",
      "[CV 4/5] END bootstrap=True, max_depth=10, max_features=sqrt, min_samples_leaf=1, min_samples_split=5, n_estimators=200; total time=   1.6s\n",
      "[CV 1/5] END bootstrap=True, max_depth=10, max_features=sqrt, min_samples_leaf=1, min_samples_split=6, n_estimators=100; total time=   0.8s\n",
      "[CV 5/5] END bootstrap=True, max_depth=10, max_features=sqrt, min_samples_leaf=1, min_samples_split=5, n_estimators=200; total time=   1.6s\n",
      "[CV 2/5] END bootstrap=True, max_depth=10, max_features=sqrt, min_samples_leaf=1, min_samples_split=6, n_estimators=100; total time=   0.7s\n",
      "[CV 3/5] END bootstrap=True, max_depth=10, max_features=sqrt, min_samples_leaf=1, min_samples_split=6, n_estimators=100; total time=   0.8s\n",
      "[CV 4/5] END bootstrap=True, max_depth=10, max_features=sqrt, min_samples_leaf=1, min_samples_split=6, n_estimators=100; total time=   0.7s\n",
      "[CV 5/5] END bootstrap=True, max_depth=10, max_features=sqrt, min_samples_leaf=1, min_samples_split=6, n_estimators=100; total time=   0.8s\n",
      "[CV 1/5] END bootstrap=True, max_depth=100, max_features=auto, min_samples_leaf=1, min_samples_split=4, n_estimators=50; total time=   0.4s\n",
      "[CV 2/5] END bootstrap=True, max_depth=100, max_features=auto, min_samples_leaf=1, min_samples_split=4, n_estimators=50; total time=   0.4s\n",
      "[CV 3/5] END bootstrap=True, max_depth=100, max_features=auto, min_samples_leaf=1, min_samples_split=4, n_estimators=50; total time=   0.4s\n",
      "[CV 4/5] END bootstrap=True, max_depth=100, max_features=auto, min_samples_leaf=1, min_samples_split=4, n_estimators=50; total time=   0.4s\n",
      "[CV 5/5] END bootstrap=True, max_depth=100, max_features=auto, min_samples_leaf=1, min_samples_split=4, n_estimators=50; total time=   0.4s\n",
      "[CV 1/5] END bootstrap=True, max_depth=10, max_features=sqrt, min_samples_leaf=1, min_samples_split=6, n_estimators=200; total time=   1.5s\n",
      "[CV 2/5] END bootstrap=True, max_depth=10, max_features=sqrt, min_samples_leaf=1, min_samples_split=6, n_estimators=200; total time=   1.4s\n",
      "[CV 3/5] END bootstrap=True, max_depth=10, max_features=sqrt, min_samples_leaf=1, min_samples_split=6, n_estimators=200; total time=   1.5s\n",
      "[CV 4/5] END bootstrap=True, max_depth=10, max_features=sqrt, min_samples_leaf=1, min_samples_split=6, n_estimators=200; total time=   1.5s\n",
      "[CV 1/5] END bootstrap=True, max_depth=100, max_features=auto, min_samples_leaf=1, min_samples_split=4, n_estimators=100; total time=   0.7s\n",
      "[CV 5/5] END bootstrap=True, max_depth=10, max_features=sqrt, min_samples_leaf=1, min_samples_split=6, n_estimators=200; total time=   1.5s\n",
      "[CV 2/5] END bootstrap=True, max_depth=100, max_features=auto, min_samples_leaf=1, min_samples_split=4, n_estimators=100; total time=   0.8s\n",
      "[CV 3/5] END bootstrap=True, max_depth=100, max_features=auto, min_samples_leaf=1, min_samples_split=4, n_estimators=100; total time=   0.9s\n",
      "[CV 4/5] END bootstrap=True, max_depth=100, max_features=auto, min_samples_leaf=1, min_samples_split=4, n_estimators=100; total time=   0.8s\n",
      "[CV 5/5] END bootstrap=True, max_depth=100, max_features=auto, min_samples_leaf=1, min_samples_split=4, n_estimators=100; total time=   0.8s\n",
      "[CV 1/5] END bootstrap=True, max_depth=100, max_features=auto, min_samples_leaf=1, min_samples_split=5, n_estimators=50; total time=   0.4s\n",
      "[CV 2/5] END bootstrap=True, max_depth=100, max_features=auto, min_samples_leaf=1, min_samples_split=5, n_estimators=50; total time=   0.4s\n",
      "[CV 3/5] END bootstrap=True, max_depth=100, max_features=auto, min_samples_leaf=1, min_samples_split=5, n_estimators=50; total time=   0.4s\n",
      "[CV 5/5] END bootstrap=True, max_depth=100, max_features=auto, min_samples_leaf=1, min_samples_split=5, n_estimators=50; total time=   0.4s\n",
      "[CV 4/5] END bootstrap=True, max_depth=100, max_features=auto, min_samples_leaf=1, min_samples_split=5, n_estimators=50; total time=   0.4s\n",
      "[CV 1/5] END bootstrap=True, max_depth=100, max_features=auto, min_samples_leaf=1, min_samples_split=4, n_estimators=200; total time=   1.5s\n",
      "[CV 3/5] END bootstrap=True, max_depth=100, max_features=auto, min_samples_leaf=1, min_samples_split=4, n_estimators=200; total time=   1.6s\n",
      "[CV 4/5] END bootstrap=True, max_depth=100, max_features=auto, min_samples_leaf=1, min_samples_split=4, n_estimators=200; total time=   1.6s\n",
      "[CV 2/5] END bootstrap=True, max_depth=100, max_features=auto, min_samples_leaf=1, min_samples_split=4, n_estimators=200; total time=   1.8s\n",
      "[CV 1/5] END bootstrap=True, max_depth=100, max_features=auto, min_samples_leaf=1, min_samples_split=5, n_estimators=100; total time=   0.9s\n",
      "[CV 5/5] END bootstrap=True, max_depth=100, max_features=auto, min_samples_leaf=1, min_samples_split=4, n_estimators=200; total time=   1.6s\n",
      "[CV 2/5] END bootstrap=True, max_depth=100, max_features=auto, min_samples_leaf=1, min_samples_split=5, n_estimators=100; total time=   0.8s\n",
      "[CV 3/5] END bootstrap=True, max_depth=100, max_features=auto, min_samples_leaf=1, min_samples_split=5, n_estimators=100; total time=   0.9s\n",
      "[CV 4/5] END bootstrap=True, max_depth=100, max_features=auto, min_samples_leaf=1, min_samples_split=5, n_estimators=100; total time=   0.8s\n",
      "[CV 5/5] END bootstrap=True, max_depth=100, max_features=auto, min_samples_leaf=1, min_samples_split=5, n_estimators=100; total time=   0.8s\n",
      "[CV 1/5] END bootstrap=True, max_depth=100, max_features=auto, min_samples_leaf=1, min_samples_split=6, n_estimators=50; total time=   0.4s\n",
      "[CV 2/5] END bootstrap=True, max_depth=100, max_features=auto, min_samples_leaf=1, min_samples_split=6, n_estimators=50; total time=   0.4s\n",
      "[CV 3/5] END bootstrap=True, max_depth=100, max_features=auto, min_samples_leaf=1, min_samples_split=6, n_estimators=50; total time=   0.4s\n",
      "[CV 4/5] END bootstrap=True, max_depth=100, max_features=auto, min_samples_leaf=1, min_samples_split=6, n_estimators=50; total time=   0.4s\n",
      "[CV 5/5] END bootstrap=True, max_depth=100, max_features=auto, min_samples_leaf=1, min_samples_split=6, n_estimators=50; total time=   0.4s\n",
      "[CV 1/5] END bootstrap=True, max_depth=100, max_features=auto, min_samples_leaf=1, min_samples_split=5, n_estimators=200; total time=   1.6s\n",
      "[CV 2/5] END bootstrap=True, max_depth=100, max_features=auto, min_samples_leaf=1, min_samples_split=5, n_estimators=200; total time=   1.7s\n",
      "[CV 3/5] END bootstrap=True, max_depth=100, max_features=auto, min_samples_leaf=1, min_samples_split=5, n_estimators=200; total time=   1.6s\n",
      "[CV 1/5] END bootstrap=True, max_depth=100, max_features=auto, min_samples_leaf=1, min_samples_split=6, n_estimators=100; total time=   0.8s\n",
      "[CV 4/5] END bootstrap=True, max_depth=100, max_features=auto, min_samples_leaf=1, min_samples_split=5, n_estimators=200; total time=   1.6s\n",
      "[CV 5/5] END bootstrap=True, max_depth=100, max_features=auto, min_samples_leaf=1, min_samples_split=5, n_estimators=200; total time=   1.7s\n",
      "[CV 2/5] END bootstrap=True, max_depth=100, max_features=auto, min_samples_leaf=1, min_samples_split=6, n_estimators=100; total time=   0.8s\n",
      "[CV 3/5] END bootstrap=True, max_depth=100, max_features=auto, min_samples_leaf=1, min_samples_split=6, n_estimators=100; total time=   0.9s\n",
      "[CV 4/5] END bootstrap=True, max_depth=100, max_features=auto, min_samples_leaf=1, min_samples_split=6, n_estimators=100; total time=   1.0s\n",
      "[CV 1/5] END bootstrap=True, max_depth=100, max_features=sqrt, min_samples_leaf=1, min_samples_split=4, n_estimators=50; total time=   0.5s\n",
      "[CV 5/5] END bootstrap=True, max_depth=100, max_features=auto, min_samples_leaf=1, min_samples_split=6, n_estimators=100; total time=   1.4s\n",
      "[CV 2/5] END bootstrap=True, max_depth=100, max_features=sqrt, min_samples_leaf=1, min_samples_split=4, n_estimators=50; total time=   0.6s\n",
      "[CV 3/5] END bootstrap=True, max_depth=100, max_features=sqrt, min_samples_leaf=1, min_samples_split=4, n_estimators=50; total time=   0.7s\n",
      "[CV 4/5] END bootstrap=True, max_depth=100, max_features=sqrt, min_samples_leaf=1, min_samples_split=4, n_estimators=50; total time=   0.4s\n",
      "[CV 2/5] END bootstrap=True, max_depth=100, max_features=auto, min_samples_leaf=1, min_samples_split=6, n_estimators=200; total time=   1.8s\n",
      "[CV 1/5] END bootstrap=True, max_depth=100, max_features=auto, min_samples_leaf=1, min_samples_split=6, n_estimators=200; total time=   1.9s\n",
      "[CV 5/5] END bootstrap=True, max_depth=100, max_features=sqrt, min_samples_leaf=1, min_samples_split=4, n_estimators=50; total time=   0.4s\n",
      "[CV 3/5] END bootstrap=True, max_depth=100, max_features=auto, min_samples_leaf=1, min_samples_split=6, n_estimators=200; total time=   2.1s\n",
      "[CV 5/5] END bootstrap=True, max_depth=100, max_features=auto, min_samples_leaf=1, min_samples_split=6, n_estimators=200; total time=   2.0s\n",
      "[CV 4/5] END bootstrap=True, max_depth=100, max_features=auto, min_samples_leaf=1, min_samples_split=6, n_estimators=200; total time=   2.1s\n",
      "[CV 1/5] END bootstrap=True, max_depth=100, max_features=sqrt, min_samples_leaf=1, min_samples_split=4, n_estimators=100; total time=   1.0s\n",
      "[CV 4/5] END bootstrap=True, max_depth=100, max_features=sqrt, min_samples_leaf=1, min_samples_split=4, n_estimators=100; total time=   0.9s\n",
      "[CV 2/5] END bootstrap=True, max_depth=100, max_features=sqrt, min_samples_leaf=1, min_samples_split=4, n_estimators=100; total time=   1.0s\n",
      "[CV 5/5] END bootstrap=True, max_depth=100, max_features=sqrt, min_samples_leaf=1, min_samples_split=4, n_estimators=100; total time=   1.0s\n",
      "[CV 3/5] END bootstrap=True, max_depth=100, max_features=sqrt, min_samples_leaf=1, min_samples_split=4, n_estimators=100; total time=   1.1s\n",
      "[CV 1/5] END bootstrap=True, max_depth=100, max_features=sqrt, min_samples_leaf=1, min_samples_split=5, n_estimators=50; total time=   0.4s\n",
      "[CV 2/5] END bootstrap=True, max_depth=100, max_features=sqrt, min_samples_leaf=1, min_samples_split=5, n_estimators=50; total time=   0.4s\n",
      "[CV 3/5] END bootstrap=True, max_depth=100, max_features=sqrt, min_samples_leaf=1, min_samples_split=5, n_estimators=50; total time=   0.5s\n",
      "[CV 4/5] END bootstrap=True, max_depth=100, max_features=sqrt, min_samples_leaf=1, min_samples_split=5, n_estimators=50; total time=   0.5s\n",
      "[CV 5/5] END bootstrap=True, max_depth=100, max_features=sqrt, min_samples_leaf=1, min_samples_split=5, n_estimators=50; total time=   0.4s\n",
      "[CV 1/5] END bootstrap=True, max_depth=100, max_features=sqrt, min_samples_leaf=1, min_samples_split=4, n_estimators=200; total time=   1.8s\n",
      "[CV 2/5] END bootstrap=True, max_depth=100, max_features=sqrt, min_samples_leaf=1, min_samples_split=4, n_estimators=200; total time=   1.7s\n",
      "[CV 3/5] END bootstrap=True, max_depth=100, max_features=sqrt, min_samples_leaf=1, min_samples_split=4, n_estimators=200; total time=   1.7s\n",
      "[CV 1/5] END bootstrap=True, max_depth=100, max_features=sqrt, min_samples_leaf=1, min_samples_split=5, n_estimators=100; total time=   0.8s\n",
      "[CV 4/5] END bootstrap=True, max_depth=100, max_features=sqrt, min_samples_leaf=1, min_samples_split=4, n_estimators=200; total time=   1.7s\n",
      "[CV 5/5] END bootstrap=True, max_depth=100, max_features=sqrt, min_samples_leaf=1, min_samples_split=4, n_estimators=200; total time=   1.6s\n",
      "[CV 3/5] END bootstrap=True, max_depth=100, max_features=sqrt, min_samples_leaf=1, min_samples_split=5, n_estimators=100; total time=   0.8s\n",
      "[CV 2/5] END bootstrap=True, max_depth=100, max_features=sqrt, min_samples_leaf=1, min_samples_split=5, n_estimators=100; total time=   0.8s\n",
      "[CV 4/5] END bootstrap=True, max_depth=100, max_features=sqrt, min_samples_leaf=1, min_samples_split=5, n_estimators=100; total time=   0.8s\n",
      "[CV 1/5] END bootstrap=True, max_depth=100, max_features=sqrt, min_samples_leaf=1, min_samples_split=6, n_estimators=50; total time=   0.4s\n",
      "[CV 5/5] END bootstrap=True, max_depth=100, max_features=sqrt, min_samples_leaf=1, min_samples_split=5, n_estimators=100; total time=   0.9s\n",
      "[CV 2/5] END bootstrap=True, max_depth=100, max_features=sqrt, min_samples_leaf=1, min_samples_split=6, n_estimators=50; total time=   0.5s\n",
      "[CV 3/5] END bootstrap=True, max_depth=100, max_features=sqrt, min_samples_leaf=1, min_samples_split=6, n_estimators=50; total time=   0.4s\n",
      "[CV 4/5] END bootstrap=True, max_depth=100, max_features=sqrt, min_samples_leaf=1, min_samples_split=6, n_estimators=50; total time=   0.4s\n",
      "[CV 5/5] END bootstrap=True, max_depth=100, max_features=sqrt, min_samples_leaf=1, min_samples_split=6, n_estimators=50; total time=   0.4s\n",
      "[CV 2/5] END bootstrap=True, max_depth=100, max_features=sqrt, min_samples_leaf=1, min_samples_split=5, n_estimators=200; total time=   1.7s\n",
      "[CV 1/5] END bootstrap=True, max_depth=100, max_features=sqrt, min_samples_leaf=1, min_samples_split=5, n_estimators=200; total time=   1.7s\n",
      "[CV 4/5] END bootstrap=True, max_depth=100, max_features=sqrt, min_samples_leaf=1, min_samples_split=5, n_estimators=200; total time=   1.7s\n",
      "[CV 1/5] END bootstrap=True, max_depth=100, max_features=sqrt, min_samples_leaf=1, min_samples_split=6, n_estimators=100; total time=   0.8s\n",
      "[CV 5/5] END bootstrap=True, max_depth=100, max_features=sqrt, min_samples_leaf=1, min_samples_split=5, n_estimators=200; total time=   1.7s\n",
      "[CV 3/5] END bootstrap=True, max_depth=100, max_features=sqrt, min_samples_leaf=1, min_samples_split=5, n_estimators=200; total time=   1.8s\n",
      "[CV 2/5] END bootstrap=True, max_depth=100, max_features=sqrt, min_samples_leaf=1, min_samples_split=6, n_estimators=100; total time=   0.9s\n",
      "[CV 3/5] END bootstrap=True, max_depth=100, max_features=sqrt, min_samples_leaf=1, min_samples_split=6, n_estimators=100; total time=   0.9s\n",
      "[CV 4/5] END bootstrap=True, max_depth=100, max_features=sqrt, min_samples_leaf=1, min_samples_split=6, n_estimators=100; total time=   0.8s\n",
      "[CV 5/5] END bootstrap=True, max_depth=100, max_features=sqrt, min_samples_leaf=1, min_samples_split=6, n_estimators=100; total time=   0.9s\n",
      "[CV 1/5] END bootstrap=False, max_depth=10, max_features=auto, min_samples_leaf=1, min_samples_split=4, n_estimators=50; total time=   0.4s\n",
      "[CV 2/5] END bootstrap=False, max_depth=10, max_features=auto, min_samples_leaf=1, min_samples_split=4, n_estimators=50; total time=   0.4s\n",
      "[CV 3/5] END bootstrap=False, max_depth=10, max_features=auto, min_samples_leaf=1, min_samples_split=4, n_estimators=50; total time=   0.4s\n",
      "[CV 4/5] END bootstrap=False, max_depth=10, max_features=auto, min_samples_leaf=1, min_samples_split=4, n_estimators=50; total time=   0.4s\n",
      "[CV 5/5] END bootstrap=False, max_depth=10, max_features=auto, min_samples_leaf=1, min_samples_split=4, n_estimators=50; total time=   0.4s\n",
      "[CV 1/5] END bootstrap=True, max_depth=100, max_features=sqrt, min_samples_leaf=1, min_samples_split=6, n_estimators=200; total time=   1.6s\n",
      "[CV 2/5] END bootstrap=True, max_depth=100, max_features=sqrt, min_samples_leaf=1, min_samples_split=6, n_estimators=200; total time=   1.5s\n",
      "[CV 4/5] END bootstrap=True, max_depth=100, max_features=sqrt, min_samples_leaf=1, min_samples_split=6, n_estimators=200; total time=   1.6s\n",
      "[CV 3/5] END bootstrap=True, max_depth=100, max_features=sqrt, min_samples_leaf=1, min_samples_split=6, n_estimators=200; total time=   1.6s\n",
      "[CV 5/5] END bootstrap=True, max_depth=100, max_features=sqrt, min_samples_leaf=1, min_samples_split=6, n_estimators=200; total time=   1.5s\n",
      "[CV 1/5] END bootstrap=False, max_depth=10, max_features=auto, min_samples_leaf=1, min_samples_split=4, n_estimators=100; total time=   0.8s\n",
      "[CV 2/5] END bootstrap=False, max_depth=10, max_features=auto, min_samples_leaf=1, min_samples_split=4, n_estimators=100; total time=   0.8s\n",
      "[CV 3/5] END bootstrap=False, max_depth=10, max_features=auto, min_samples_leaf=1, min_samples_split=4, n_estimators=100; total time=   0.8s\n",
      "[CV 4/5] END bootstrap=False, max_depth=10, max_features=auto, min_samples_leaf=1, min_samples_split=4, n_estimators=100; total time=   0.8s\n",
      "[CV 5/5] END bootstrap=False, max_depth=10, max_features=auto, min_samples_leaf=1, min_samples_split=4, n_estimators=100; total time=   0.8s\n",
      "[CV 1/5] END bootstrap=False, max_depth=10, max_features=auto, min_samples_leaf=1, min_samples_split=5, n_estimators=50; total time=   0.4s\n",
      "[CV 2/5] END bootstrap=False, max_depth=10, max_features=auto, min_samples_leaf=1, min_samples_split=5, n_estimators=50; total time=   0.4s\n",
      "[CV 3/5] END bootstrap=False, max_depth=10, max_features=auto, min_samples_leaf=1, min_samples_split=5, n_estimators=50; total time=   0.4s\n",
      "[CV 4/5] END bootstrap=False, max_depth=10, max_features=auto, min_samples_leaf=1, min_samples_split=5, n_estimators=50; total time=   0.4s\n",
      "[CV 5/5] END bootstrap=False, max_depth=10, max_features=auto, min_samples_leaf=1, min_samples_split=5, n_estimators=50; total time=   0.4s\n",
      "[CV 1/5] END bootstrap=False, max_depth=10, max_features=auto, min_samples_leaf=1, min_samples_split=4, n_estimators=200; total time=   1.6s\n",
      "[CV 3/5] END bootstrap=False, max_depth=10, max_features=auto, min_samples_leaf=1, min_samples_split=4, n_estimators=200; total time=   1.6s\n",
      "[CV 2/5] END bootstrap=False, max_depth=10, max_features=auto, min_samples_leaf=1, min_samples_split=4, n_estimators=200; total time=   1.6s\n",
      "[CV 4/5] END bootstrap=False, max_depth=10, max_features=auto, min_samples_leaf=1, min_samples_split=4, n_estimators=200; total time=   1.6s\n",
      "[CV 1/5] END bootstrap=False, max_depth=10, max_features=auto, min_samples_leaf=1, min_samples_split=5, n_estimators=100; total time=   0.8s\n",
      "[CV 5/5] END bootstrap=False, max_depth=10, max_features=auto, min_samples_leaf=1, min_samples_split=4, n_estimators=200; total time=   1.6s\n",
      "[CV 2/5] END bootstrap=False, max_depth=10, max_features=auto, min_samples_leaf=1, min_samples_split=5, n_estimators=100; total time=   0.9s\n",
      "[CV 3/5] END bootstrap=False, max_depth=10, max_features=auto, min_samples_leaf=1, min_samples_split=5, n_estimators=100; total time=   0.8s\n",
      "[CV 4/5] END bootstrap=False, max_depth=10, max_features=auto, min_samples_leaf=1, min_samples_split=5, n_estimators=100; total time=   0.8s\n",
      "[CV 5/5] END bootstrap=False, max_depth=10, max_features=auto, min_samples_leaf=1, min_samples_split=5, n_estimators=100; total time=   0.8s\n",
      "[CV 1/5] END bootstrap=False, max_depth=10, max_features=auto, min_samples_leaf=1, min_samples_split=6, n_estimators=50; total time=   0.4s\n",
      "[CV 2/5] END bootstrap=False, max_depth=10, max_features=auto, min_samples_leaf=1, min_samples_split=6, n_estimators=50; total time=   0.4s\n",
      "[CV 3/5] END bootstrap=False, max_depth=10, max_features=auto, min_samples_leaf=1, min_samples_split=6, n_estimators=50; total time=   0.4s\n",
      "[CV 4/5] END bootstrap=False, max_depth=10, max_features=auto, min_samples_leaf=1, min_samples_split=6, n_estimators=50; total time=   0.4s\n",
      "[CV 5/5] END bootstrap=False, max_depth=10, max_features=auto, min_samples_leaf=1, min_samples_split=6, n_estimators=50; total time=   0.4s\n",
      "[CV 1/5] END bootstrap=False, max_depth=10, max_features=auto, min_samples_leaf=1, min_samples_split=5, n_estimators=200; total time=   1.7s\n",
      "[CV 2/5] END bootstrap=False, max_depth=10, max_features=auto, min_samples_leaf=1, min_samples_split=5, n_estimators=200; total time=   1.6s\n",
      "[CV 4/5] END bootstrap=False, max_depth=10, max_features=auto, min_samples_leaf=1, min_samples_split=5, n_estimators=200; total time=   1.6s\n",
      "[CV 3/5] END bootstrap=False, max_depth=10, max_features=auto, min_samples_leaf=1, min_samples_split=5, n_estimators=200; total time=   1.7s\n",
      "[CV 5/5] END bootstrap=False, max_depth=10, max_features=auto, min_samples_leaf=1, min_samples_split=5, n_estimators=200; total time=   1.6s\n",
      "[CV 1/5] END bootstrap=False, max_depth=10, max_features=auto, min_samples_leaf=1, min_samples_split=6, n_estimators=100; total time=   0.8s\n",
      "[CV 2/5] END bootstrap=False, max_depth=10, max_features=auto, min_samples_leaf=1, min_samples_split=6, n_estimators=100; total time=   0.8s\n",
      "[CV 3/5] END bootstrap=False, max_depth=10, max_features=auto, min_samples_leaf=1, min_samples_split=6, n_estimators=100; total time=   0.8s\n",
      "[CV 4/5] END bootstrap=False, max_depth=10, max_features=auto, min_samples_leaf=1, min_samples_split=6, n_estimators=100; total time=   0.9s\n",
      "[CV 5/5] END bootstrap=False, max_depth=10, max_features=auto, min_samples_leaf=1, min_samples_split=6, n_estimators=100; total time=   0.9s\n",
      "[CV 1/5] END bootstrap=False, max_depth=10, max_features=sqrt, min_samples_leaf=1, min_samples_split=4, n_estimators=50; total time=   0.5s\n",
      "[CV 2/5] END bootstrap=False, max_depth=10, max_features=sqrt, min_samples_leaf=1, min_samples_split=4, n_estimators=50; total time=   0.5s\n",
      "[CV 3/5] END bootstrap=False, max_depth=10, max_features=sqrt, min_samples_leaf=1, min_samples_split=4, n_estimators=50; total time=   0.5s\n",
      "[CV 4/5] END bootstrap=False, max_depth=10, max_features=sqrt, min_samples_leaf=1, min_samples_split=4, n_estimators=50; total time=   0.5s\n",
      "[CV 5/5] END bootstrap=False, max_depth=10, max_features=sqrt, min_samples_leaf=1, min_samples_split=4, n_estimators=50; total time=   0.5s\n",
      "[CV 1/5] END bootstrap=False, max_depth=10, max_features=auto, min_samples_leaf=1, min_samples_split=6, n_estimators=200; total time=   1.7s\n",
      "[CV 3/5] END bootstrap=False, max_depth=10, max_features=auto, min_samples_leaf=1, min_samples_split=6, n_estimators=200; total time=   1.9s\n",
      "[CV 2/5] END bootstrap=False, max_depth=10, max_features=auto, min_samples_leaf=1, min_samples_split=6, n_estimators=200; total time=   2.0s\n",
      "[CV 1/5] END bootstrap=False, max_depth=10, max_features=sqrt, min_samples_leaf=1, min_samples_split=4, n_estimators=100; total time=   0.9s\n",
      "[CV 2/5] END bootstrap=False, max_depth=10, max_features=sqrt, min_samples_leaf=1, min_samples_split=4, n_estimators=100; total time=   1.0s\n",
      "[CV 4/5] END bootstrap=False, max_depth=10, max_features=auto, min_samples_leaf=1, min_samples_split=6, n_estimators=200; total time=   2.2s\n",
      "[CV 5/5] END bootstrap=False, max_depth=10, max_features=auto, min_samples_leaf=1, min_samples_split=6, n_estimators=200; total time=   2.1s\n",
      "[CV 3/5] END bootstrap=False, max_depth=10, max_features=sqrt, min_samples_leaf=1, min_samples_split=4, n_estimators=100; total time=   1.1s\n",
      "[CV 4/5] END bootstrap=False, max_depth=10, max_features=sqrt, min_samples_leaf=1, min_samples_split=4, n_estimators=100; total time=   1.0s\n",
      "[CV 5/5] END bootstrap=False, max_depth=10, max_features=sqrt, min_samples_leaf=1, min_samples_split=4, n_estimators=100; total time=   1.0s\n",
      "[CV 1/5] END bootstrap=False, max_depth=10, max_features=sqrt, min_samples_leaf=1, min_samples_split=5, n_estimators=50; total time=   0.5s\n",
      "[CV 2/5] END bootstrap=False, max_depth=10, max_features=sqrt, min_samples_leaf=1, min_samples_split=5, n_estimators=50; total time=   0.5s\n",
      "[CV 3/5] END bootstrap=False, max_depth=10, max_features=sqrt, min_samples_leaf=1, min_samples_split=5, n_estimators=50; total time=   0.5s\n",
      "[CV 4/5] END bootstrap=False, max_depth=10, max_features=sqrt, min_samples_leaf=1, min_samples_split=5, n_estimators=50; total time=   0.4s\n",
      "[CV 5/5] END bootstrap=False, max_depth=10, max_features=sqrt, min_samples_leaf=1, min_samples_split=5, n_estimators=50; total time=   0.6s\n",
      "[CV 2/5] END bootstrap=False, max_depth=10, max_features=sqrt, min_samples_leaf=1, min_samples_split=4, n_estimators=200; total time=   2.0s\n",
      "[CV 1/5] END bootstrap=False, max_depth=10, max_features=sqrt, min_samples_leaf=1, min_samples_split=4, n_estimators=200; total time=   2.1s\n",
      "[CV 4/5] END bootstrap=False, max_depth=10, max_features=sqrt, min_samples_leaf=1, min_samples_split=4, n_estimators=200; total time=   1.9s\n",
      "[CV 3/5] END bootstrap=False, max_depth=10, max_features=sqrt, min_samples_leaf=1, min_samples_split=4, n_estimators=200; total time=   1.9s\n",
      "[CV 1/5] END bootstrap=False, max_depth=10, max_features=sqrt, min_samples_leaf=1, min_samples_split=5, n_estimators=100; total time=   1.0s\n",
      "[CV 2/5] END bootstrap=False, max_depth=10, max_features=sqrt, min_samples_leaf=1, min_samples_split=5, n_estimators=100; total time=   0.9s\n",
      "[CV 5/5] END bootstrap=False, max_depth=10, max_features=sqrt, min_samples_leaf=1, min_samples_split=4, n_estimators=200; total time=   2.2s\n",
      "[CV 3/5] END bootstrap=False, max_depth=10, max_features=sqrt, min_samples_leaf=1, min_samples_split=5, n_estimators=100; total time=   1.0s\n",
      "[CV 5/5] END bootstrap=False, max_depth=10, max_features=sqrt, min_samples_leaf=1, min_samples_split=5, n_estimators=100; total time=   0.8s\n",
      "[CV 4/5] END bootstrap=False, max_depth=10, max_features=sqrt, min_samples_leaf=1, min_samples_split=5, n_estimators=100; total time=   0.9s\n",
      "[CV 1/5] END bootstrap=False, max_depth=10, max_features=sqrt, min_samples_leaf=1, min_samples_split=6, n_estimators=50; total time=   0.5s\n",
      "[CV 2/5] END bootstrap=False, max_depth=10, max_features=sqrt, min_samples_leaf=1, min_samples_split=6, n_estimators=50; total time=   0.5s\n",
      "[CV 3/5] END bootstrap=False, max_depth=10, max_features=sqrt, min_samples_leaf=1, min_samples_split=6, n_estimators=50; total time=   0.5s\n",
      "[CV 4/5] END bootstrap=False, max_depth=10, max_features=sqrt, min_samples_leaf=1, min_samples_split=6, n_estimators=50; total time=   0.5s\n",
      "[CV 2/5] END bootstrap=False, max_depth=10, max_features=sqrt, min_samples_leaf=1, min_samples_split=5, n_estimators=200; total time=   1.9s\n",
      "[CV 1/5] END bootstrap=False, max_depth=10, max_features=sqrt, min_samples_leaf=1, min_samples_split=5, n_estimators=200; total time=   2.0s\n",
      "[CV 5/5] END bootstrap=False, max_depth=10, max_features=sqrt, min_samples_leaf=1, min_samples_split=6, n_estimators=50; total time=   0.7s\n",
      "[CV 3/5] END bootstrap=False, max_depth=10, max_features=sqrt, min_samples_leaf=1, min_samples_split=5, n_estimators=200; total time=   1.8s\n",
      "[CV 5/5] END bootstrap=False, max_depth=10, max_features=sqrt, min_samples_leaf=1, min_samples_split=5, n_estimators=200; total time=   1.7s\n",
      "[CV 4/5] END bootstrap=False, max_depth=10, max_features=sqrt, min_samples_leaf=1, min_samples_split=5, n_estimators=200; total time=   2.0s\n",
      "[CV 1/5] END bootstrap=False, max_depth=10, max_features=sqrt, min_samples_leaf=1, min_samples_split=6, n_estimators=100; total time=   1.2s\n",
      "[CV 2/5] END bootstrap=False, max_depth=10, max_features=sqrt, min_samples_leaf=1, min_samples_split=6, n_estimators=100; total time=   1.1s\n",
      "[CV 3/5] END bootstrap=False, max_depth=10, max_features=sqrt, min_samples_leaf=1, min_samples_split=6, n_estimators=100; total time=   1.0s\n",
      "[CV 4/5] END bootstrap=False, max_depth=10, max_features=sqrt, min_samples_leaf=1, min_samples_split=6, n_estimators=100; total time=   1.0s\n",
      "[CV 5/5] END bootstrap=False, max_depth=10, max_features=sqrt, min_samples_leaf=1, min_samples_split=6, n_estimators=100; total time=   1.0s\n",
      "[CV 3/5] END bootstrap=False, max_depth=100, max_features=auto, min_samples_leaf=1, min_samples_split=4, n_estimators=50; total time=   0.5s\n",
      "[CV 2/5] END bootstrap=False, max_depth=100, max_features=auto, min_samples_leaf=1, min_samples_split=4, n_estimators=50; total time=   0.6s\n",
      "[CV 1/5] END bootstrap=False, max_depth=100, max_features=auto, min_samples_leaf=1, min_samples_split=4, n_estimators=50; total time=   0.7s\n",
      "[CV 1/5] END bootstrap=False, max_depth=10, max_features=sqrt, min_samples_leaf=1, min_samples_split=6, n_estimators=200; total time=   1.9s\n",
      "[CV 4/5] END bootstrap=False, max_depth=100, max_features=auto, min_samples_leaf=1, min_samples_split=4, n_estimators=50; total time=   0.5s\n",
      "[CV 2/5] END bootstrap=False, max_depth=10, max_features=sqrt, min_samples_leaf=1, min_samples_split=6, n_estimators=200; total time=   1.9s\n",
      "[CV 5/5] END bootstrap=False, max_depth=100, max_features=auto, min_samples_leaf=1, min_samples_split=4, n_estimators=50; total time=   0.5s\n",
      "[CV 3/5] END bootstrap=False, max_depth=10, max_features=sqrt, min_samples_leaf=1, min_samples_split=6, n_estimators=200; total time=   1.9s\n",
      "[CV 4/5] END bootstrap=False, max_depth=10, max_features=sqrt, min_samples_leaf=1, min_samples_split=6, n_estimators=200; total time=   2.1s\n",
      "[CV 5/5] END bootstrap=False, max_depth=10, max_features=sqrt, min_samples_leaf=1, min_samples_split=6, n_estimators=200; total time=   2.1s\n",
      "[CV 2/5] END bootstrap=False, max_depth=100, max_features=auto, min_samples_leaf=1, min_samples_split=4, n_estimators=100; total time=   1.0s\n",
      "[CV 1/5] END bootstrap=False, max_depth=100, max_features=auto, min_samples_leaf=1, min_samples_split=4, n_estimators=100; total time=   1.3s\n",
      "[CV 3/5] END bootstrap=False, max_depth=100, max_features=auto, min_samples_leaf=1, min_samples_split=4, n_estimators=100; total time=   1.0s\n",
      "[CV 4/5] END bootstrap=False, max_depth=100, max_features=auto, min_samples_leaf=1, min_samples_split=4, n_estimators=100; total time=   1.1s\n",
      "[CV 5/5] END bootstrap=False, max_depth=100, max_features=auto, min_samples_leaf=1, min_samples_split=4, n_estimators=100; total time=   1.1s\n",
      "[CV 1/5] END bootstrap=False, max_depth=100, max_features=auto, min_samples_leaf=1, min_samples_split=5, n_estimators=50; total time=   0.5s\n",
      "[CV 2/5] END bootstrap=False, max_depth=100, max_features=auto, min_samples_leaf=1, min_samples_split=5, n_estimators=50; total time=   0.5s\n",
      "[CV 3/5] END bootstrap=False, max_depth=100, max_features=auto, min_samples_leaf=1, min_samples_split=5, n_estimators=50; total time=   0.5s\n",
      "[CV 4/5] END bootstrap=False, max_depth=100, max_features=auto, min_samples_leaf=1, min_samples_split=5, n_estimators=50; total time=   0.5s\n",
      "[CV 5/5] END bootstrap=False, max_depth=100, max_features=auto, min_samples_leaf=1, min_samples_split=5, n_estimators=50; total time=   0.5s\n",
      "[CV 1/5] END bootstrap=False, max_depth=100, max_features=auto, min_samples_leaf=1, min_samples_split=4, n_estimators=200; total time=   2.2s\n",
      "[CV 2/5] END bootstrap=False, max_depth=100, max_features=auto, min_samples_leaf=1, min_samples_split=4, n_estimators=200; total time=   2.0s\n",
      "[CV 3/5] END bootstrap=False, max_depth=100, max_features=auto, min_samples_leaf=1, min_samples_split=4, n_estimators=200; total time=   2.0s\n",
      "[CV 1/5] END bootstrap=False, max_depth=100, max_features=auto, min_samples_leaf=1, min_samples_split=5, n_estimators=100; total time=   1.2s\n",
      "[CV 4/5] END bootstrap=False, max_depth=100, max_features=auto, min_samples_leaf=1, min_samples_split=4, n_estimators=200; total time=   2.0s\n",
      "[CV 3/5] END bootstrap=False, max_depth=100, max_features=auto, min_samples_leaf=1, min_samples_split=5, n_estimators=100; total time=   1.1s\n",
      "[CV 2/5] END bootstrap=False, max_depth=100, max_features=auto, min_samples_leaf=1, min_samples_split=5, n_estimators=100; total time=   1.2s\n",
      "[CV 4/5] END bootstrap=False, max_depth=100, max_features=auto, min_samples_leaf=1, min_samples_split=5, n_estimators=100; total time=   1.0s\n",
      "[CV 5/5] END bootstrap=False, max_depth=100, max_features=auto, min_samples_leaf=1, min_samples_split=4, n_estimators=200; total time=   2.4s\n",
      "[CV 5/5] END bootstrap=False, max_depth=100, max_features=auto, min_samples_leaf=1, min_samples_split=5, n_estimators=100; total time=   1.0s\n",
      "[CV 1/5] END bootstrap=False, max_depth=100, max_features=auto, min_samples_leaf=1, min_samples_split=6, n_estimators=50; total time=   0.6s\n",
      "[CV 2/5] END bootstrap=False, max_depth=100, max_features=auto, min_samples_leaf=1, min_samples_split=6, n_estimators=50; total time=   0.6s\n",
      "[CV 3/5] END bootstrap=False, max_depth=100, max_features=auto, min_samples_leaf=1, min_samples_split=6, n_estimators=50; total time=   0.6s\n",
      "[CV 5/5] END bootstrap=False, max_depth=100, max_features=auto, min_samples_leaf=1, min_samples_split=6, n_estimators=50; total time=   0.5s\n",
      "[CV 4/5] END bootstrap=False, max_depth=100, max_features=auto, min_samples_leaf=1, min_samples_split=6, n_estimators=50; total time=   0.5s\n",
      "[CV 1/5] END bootstrap=False, max_depth=100, max_features=auto, min_samples_leaf=1, min_samples_split=5, n_estimators=200; total time=   2.3s\n",
      "[CV 3/5] END bootstrap=False, max_depth=100, max_features=auto, min_samples_leaf=1, min_samples_split=5, n_estimators=200; total time=   2.1s\n",
      "[CV 4/5] END bootstrap=False, max_depth=100, max_features=auto, min_samples_leaf=1, min_samples_split=5, n_estimators=200; total time=   1.9s\n",
      "[CV 2/5] END bootstrap=False, max_depth=100, max_features=auto, min_samples_leaf=1, min_samples_split=5, n_estimators=200; total time=   2.2s\n",
      "[CV 1/5] END bootstrap=False, max_depth=100, max_features=auto, min_samples_leaf=1, min_samples_split=6, n_estimators=100; total time=   1.0s\n",
      "[CV 2/5] END bootstrap=False, max_depth=100, max_features=auto, min_samples_leaf=1, min_samples_split=6, n_estimators=100; total time=   1.0s\n",
      "[CV 5/5] END bootstrap=False, max_depth=100, max_features=auto, min_samples_leaf=1, min_samples_split=5, n_estimators=200; total time=   2.3s\n",
      "[CV 3/5] END bootstrap=False, max_depth=100, max_features=auto, min_samples_leaf=1, min_samples_split=6, n_estimators=100; total time=   1.1s\n",
      "[CV 4/5] END bootstrap=False, max_depth=100, max_features=auto, min_samples_leaf=1, min_samples_split=6, n_estimators=100; total time=   0.9s\n",
      "[CV 5/5] END bootstrap=False, max_depth=100, max_features=auto, min_samples_leaf=1, min_samples_split=6, n_estimators=100; total time=   0.9s\n",
      "[CV 1/5] END bootstrap=False, max_depth=100, max_features=sqrt, min_samples_leaf=1, min_samples_split=4, n_estimators=50; total time=   0.5s\n",
      "[CV 2/5] END bootstrap=False, max_depth=100, max_features=sqrt, min_samples_leaf=1, min_samples_split=4, n_estimators=50; total time=   0.5s\n",
      "[CV 3/5] END bootstrap=False, max_depth=100, max_features=sqrt, min_samples_leaf=1, min_samples_split=4, n_estimators=50; total time=   0.5s\n",
      "[CV 4/5] END bootstrap=False, max_depth=100, max_features=sqrt, min_samples_leaf=1, min_samples_split=4, n_estimators=50; total time=   0.5s\n",
      "[CV 5/5] END bootstrap=False, max_depth=100, max_features=sqrt, min_samples_leaf=1, min_samples_split=4, n_estimators=50; total time=   0.5s\n",
      "[CV 2/5] END bootstrap=False, max_depth=100, max_features=auto, min_samples_leaf=1, min_samples_split=6, n_estimators=200; total time=   1.9s\n",
      "[CV 1/5] END bootstrap=False, max_depth=100, max_features=auto, min_samples_leaf=1, min_samples_split=6, n_estimators=200; total time=   2.0s\n",
      "[CV 3/5] END bootstrap=False, max_depth=100, max_features=auto, min_samples_leaf=1, min_samples_split=6, n_estimators=200; total time=   1.9s\n",
      "[CV 1/5] END bootstrap=False, max_depth=100, max_features=sqrt, min_samples_leaf=1, min_samples_split=4, n_estimators=100; total time=   0.9s\n",
      "[CV 4/5] END bootstrap=False, max_depth=100, max_features=auto, min_samples_leaf=1, min_samples_split=6, n_estimators=200; total time=   1.9s\n",
      "[CV 2/5] END bootstrap=False, max_depth=100, max_features=sqrt, min_samples_leaf=1, min_samples_split=4, n_estimators=100; total time=   0.9s\n",
      "[CV 5/5] END bootstrap=False, max_depth=100, max_features=auto, min_samples_leaf=1, min_samples_split=6, n_estimators=200; total time=   2.0s\n",
      "[CV 3/5] END bootstrap=False, max_depth=100, max_features=sqrt, min_samples_leaf=1, min_samples_split=4, n_estimators=100; total time=   0.9s\n",
      "[CV 4/5] END bootstrap=False, max_depth=100, max_features=sqrt, min_samples_leaf=1, min_samples_split=4, n_estimators=100; total time=   0.9s\n",
      "[CV 5/5] END bootstrap=False, max_depth=100, max_features=sqrt, min_samples_leaf=1, min_samples_split=4, n_estimators=100; total time=   1.0s\n",
      "[CV 1/5] END bootstrap=False, max_depth=100, max_features=sqrt, min_samples_leaf=1, min_samples_split=5, n_estimators=50; total time=   0.5s\n",
      "[CV 2/5] END bootstrap=False, max_depth=100, max_features=sqrt, min_samples_leaf=1, min_samples_split=5, n_estimators=50; total time=   0.5s\n",
      "[CV 3/5] END bootstrap=False, max_depth=100, max_features=sqrt, min_samples_leaf=1, min_samples_split=5, n_estimators=50; total time=   0.5s\n",
      "[CV 4/5] END bootstrap=False, max_depth=100, max_features=sqrt, min_samples_leaf=1, min_samples_split=5, n_estimators=50; total time=   0.5s\n",
      "[CV 5/5] END bootstrap=False, max_depth=100, max_features=sqrt, min_samples_leaf=1, min_samples_split=5, n_estimators=50; total time=   0.5s\n",
      "[CV 1/5] END bootstrap=False, max_depth=100, max_features=sqrt, min_samples_leaf=1, min_samples_split=4, n_estimators=200; total time=   1.9s\n",
      "[CV 2/5] END bootstrap=False, max_depth=100, max_features=sqrt, min_samples_leaf=1, min_samples_split=4, n_estimators=200; total time=   2.0s\n",
      "[CV 4/5] END bootstrap=False, max_depth=100, max_features=sqrt, min_samples_leaf=1, min_samples_split=4, n_estimators=200; total time=   1.9s\n",
      "[CV 3/5] END bootstrap=False, max_depth=100, max_features=sqrt, min_samples_leaf=1, min_samples_split=4, n_estimators=200; total time=   2.0s\n",
      "[CV 1/5] END bootstrap=False, max_depth=100, max_features=sqrt, min_samples_leaf=1, min_samples_split=5, n_estimators=100; total time=   0.9s\n",
      "[CV 5/5] END bootstrap=False, max_depth=100, max_features=sqrt, min_samples_leaf=1, min_samples_split=4, n_estimators=200; total time=   1.9s\n",
      "[CV 2/5] END bootstrap=False, max_depth=100, max_features=sqrt, min_samples_leaf=1, min_samples_split=5, n_estimators=100; total time=   1.0s\n",
      "[CV 3/5] END bootstrap=False, max_depth=100, max_features=sqrt, min_samples_leaf=1, min_samples_split=5, n_estimators=100; total time=   0.9s\n",
      "[CV 4/5] END bootstrap=False, max_depth=100, max_features=sqrt, min_samples_leaf=1, min_samples_split=5, n_estimators=100; total time=   1.0s\n",
      "[CV 5/5] END bootstrap=False, max_depth=100, max_features=sqrt, min_samples_leaf=1, min_samples_split=5, n_estimators=100; total time=   1.0s\n",
      "[CV 1/5] END bootstrap=False, max_depth=100, max_features=sqrt, min_samples_leaf=1, min_samples_split=6, n_estimators=50; total time=   0.4s\n",
      "[CV 2/5] END bootstrap=False, max_depth=100, max_features=sqrt, min_samples_leaf=1, min_samples_split=6, n_estimators=50; total time=   0.5s\n",
      "[CV 4/5] END bootstrap=False, max_depth=100, max_features=sqrt, min_samples_leaf=1, min_samples_split=6, n_estimators=50; total time=   0.4s\n",
      "[CV 3/5] END bootstrap=False, max_depth=100, max_features=sqrt, min_samples_leaf=1, min_samples_split=6, n_estimators=50; total time=   0.5s\n",
      "[CV 5/5] END bootstrap=False, max_depth=100, max_features=sqrt, min_samples_leaf=1, min_samples_split=6, n_estimators=50; total time=   0.5s\n",
      "[CV 1/5] END bootstrap=False, max_depth=100, max_features=sqrt, min_samples_leaf=1, min_samples_split=5, n_estimators=200; total time=   1.8s\n",
      "[CV 3/5] END bootstrap=False, max_depth=100, max_features=sqrt, min_samples_leaf=1, min_samples_split=5, n_estimators=200; total time=   1.9s\n",
      "[CV 4/5] END bootstrap=False, max_depth=100, max_features=sqrt, min_samples_leaf=1, min_samples_split=5, n_estimators=200; total time=   1.8s\n",
      "[CV 2/5] END bootstrap=False, max_depth=100, max_features=sqrt, min_samples_leaf=1, min_samples_split=5, n_estimators=200; total time=   2.0s\n",
      "[CV 5/5] END bootstrap=False, max_depth=100, max_features=sqrt, min_samples_leaf=1, min_samples_split=5, n_estimators=200; total time=   1.8s\n",
      "[CV 1/5] END bootstrap=False, max_depth=100, max_features=sqrt, min_samples_leaf=1, min_samples_split=6, n_estimators=100; total time=   0.9s\n",
      "[CV 2/5] END bootstrap=False, max_depth=100, max_features=sqrt, min_samples_leaf=1, min_samples_split=6, n_estimators=100; total time=   1.0s\n",
      "[CV 3/5] END bootstrap=False, max_depth=100, max_features=sqrt, min_samples_leaf=1, min_samples_split=6, n_estimators=100; total time=   1.0s\n",
      "[CV 4/5] END bootstrap=False, max_depth=100, max_features=sqrt, min_samples_leaf=1, min_samples_split=6, n_estimators=100; total time=   0.9s\n",
      "[CV 5/5] END bootstrap=False, max_depth=100, max_features=sqrt, min_samples_leaf=1, min_samples_split=6, n_estimators=100; total time=   0.8s\n",
      "[CV 1/5] END bootstrap=False, max_depth=100, max_features=sqrt, min_samples_leaf=1, min_samples_split=6, n_estimators=200; total time=   1.4s\n",
      "[CV 2/5] END bootstrap=False, max_depth=100, max_features=sqrt, min_samples_leaf=1, min_samples_split=6, n_estimators=200; total time=   1.5s\n",
      "[CV 3/5] END bootstrap=False, max_depth=100, max_features=sqrt, min_samples_leaf=1, min_samples_split=6, n_estimators=200; total time=   1.5s\n",
      "[CV 4/5] END bootstrap=False, max_depth=100, max_features=sqrt, min_samples_leaf=1, min_samples_split=6, n_estimators=200; total time=   1.5s\n",
      "[CV 5/5] END bootstrap=False, max_depth=100, max_features=sqrt, min_samples_leaf=1, min_samples_split=6, n_estimators=200; total time=   1.4s\n"
     ]
    },
    {
     "data": {
      "text/plain": [
       "GridSearchCV(estimator=RandomForestClassifier(), n_jobs=-1,\n",
       "             param_grid={'bootstrap': [True, False], 'max_depth': [10, 100],\n",
       "                         'max_features': ['auto', 'sqrt'],\n",
       "                         'min_samples_leaf': [1],\n",
       "                         'min_samples_split': [4, 5, 6],\n",
       "                         'n_estimators': [50, 100, 200]},\n",
       "             verbose=3)"
      ]
     },
     "execution_count": 86,
     "metadata": {},
     "output_type": "execute_result"
    }
   ],
   "source": [
    "param_grid_rf = {'bootstrap': [True, False],\n",
    "                 'max_depth': [10, 100],\n",
    "                 'max_features': ['auto', 'sqrt'],\n",
    "                 'min_samples_leaf': [1],\n",
    "                 'min_samples_split': [4, 5, 6],\n",
    "                 'n_estimators': [50, 100, 200]}\n",
    "grid_rf = GridSearchCV(RandomForestClassifier(), param_grid_rf,\n",
    "                    refit=True, verbose=3, n_jobs=-1)\n",
    "grid_rf.fit(X_train, y_train.ravel())\n"
   ]
  },
  {
   "cell_type": "code",
   "execution_count": 87,
   "id": "a89bb8e5",
   "metadata": {},
   "outputs": [
    {
     "data": {
      "text/plain": [
       "{'bootstrap': True,\n",
       " 'max_depth': 100,\n",
       " 'max_features': 'sqrt',\n",
       " 'min_samples_leaf': 1,\n",
       " 'min_samples_split': 6,\n",
       " 'n_estimators': 100}"
      ]
     },
     "execution_count": 87,
     "metadata": {},
     "output_type": "execute_result"
    }
   ],
   "source": [
    "grid_rf.best_params_"
   ]
  },
  {
   "cell_type": "code",
   "execution_count": 88,
   "id": "6cbef3bf",
   "metadata": {},
   "outputs": [
    {
     "name": "stdout",
     "output_type": "stream",
     "text": [
      "Classification report\n",
      "               precision    recall  f1-score   support\n",
      "\n",
      "           0       0.60      0.44      0.50       193\n",
      "           1       0.90      0.95      0.92      1061\n",
      "\n",
      "    accuracy                           0.87      1254\n",
      "   macro avg       0.75      0.69      0.71      1254\n",
      "weighted avg       0.86      0.87      0.86      1254\n",
      "\n",
      "Confusion matrix\n",
      " [[  84  109]\n",
      " [  56 1005]]\n",
      "Accuracy\n",
      " 0.868421052631579\n"
     ]
    }
   ],
   "source": [
    "grid_pred_rf = clf_rf.predict(X_test)\n",
    "print(\"Classification report\\n\", classification_report(y_test, grid_pred_rf))\n",
    "print(\"Confusion matrix\\n\", confusion_matrix(y_test, grid_pred_rf))\n",
    "print(\"Accuracy\\n\", accuracy_score(grid_pred_rf, y_test))"
   ]
  },
  {
   "cell_type": "markdown",
   "id": "e9b2910f",
   "metadata": {},
   "source": [
    "## Neural Networks?"
   ]
  },
  {
   "cell_type": "code",
   "execution_count": 90,
   "id": "d09cee0a",
   "metadata": {},
   "outputs": [],
   "source": [
    "import torch"
   ]
  },
  {
   "cell_type": "code",
   "execution_count": 91,
   "id": "24018384",
   "metadata": {},
   "outputs": [],
   "source": [
    "X_train_ten, y_train_ten, X_test_ten, y_test_ten = map(\n",
    "    torch.tensor, (X_train, y_train, X_test, y_test)\n",
    ")\n"
   ]
  },
  {
   "cell_type": "code",
   "execution_count": 95,
   "id": "8c426d0e",
   "metadata": {},
   "outputs": [
    {
     "data": {
      "text/plain": [
       "tensor([1, 1, 0,  ..., 1, 1, 1])"
      ]
     },
     "execution_count": 95,
     "metadata": {},
     "output_type": "execute_result"
    }
   ],
   "source": []
  }
 ],
 "metadata": {
  "kernelspec": {
   "display_name": "Python 3 (ipykernel)",
   "language": "python",
   "name": "python3"
  },
  "language_info": {
   "codemirror_mode": {
    "name": "ipython",
    "version": 3
   },
   "file_extension": ".py",
   "mimetype": "text/x-python",
   "name": "python",
   "nbconvert_exporter": "python",
   "pygments_lexer": "ipython3",
   "version": "3.9.9"
  }
 },
 "nbformat": 4,
 "nbformat_minor": 5
}

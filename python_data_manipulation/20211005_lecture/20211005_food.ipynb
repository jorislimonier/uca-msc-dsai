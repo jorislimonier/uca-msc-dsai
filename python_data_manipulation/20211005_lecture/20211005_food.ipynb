{
 "cells": [
  {
   "cell_type": "code",
   "execution_count": 1,
   "id": "irish-airline",
   "metadata": {},
   "outputs": [],
   "source": [
    "import csv\n",
    "from collections import Counter, defaultdict"
   ]
  },
  {
   "cell_type": "code",
   "execution_count": 4,
   "id": "outer-creation",
   "metadata": {},
   "outputs": [],
   "source": [
    "food = list(csv.DictReader(open('data/food-inspections.csv')))"
   ]
  },
  {
   "cell_type": "code",
   "execution_count": 5,
   "id": "interior-eating",
   "metadata": {},
   "outputs": [
    {
     "data": {
      "text/plain": [
       "{'Inspection ID': '2352683',\n",
       " 'DBA Name': 'CHIPOTLE MEXICAN GRILL',\n",
       " 'AKA Name': 'CHIPOTLE MEXICAN GRILL',\n",
       " 'License #': '2670642',\n",
       " 'Facility Type': 'Restaurant',\n",
       " 'Risk': 'Risk 1 (High)',\n",
       " 'Address': '1025 W ADDISON ST ',\n",
       " 'City': 'CHICAGO',\n",
       " 'State': 'IL',\n",
       " 'Zip': '60613',\n",
       " 'Inspection Date': '2019-12-04T00:00:00.000',\n",
       " 'Inspection Type': 'License Re-Inspection',\n",
       " 'Results': 'Pass w/ Conditions',\n",
       " 'Violations': '3. MANAGEMENT, FOOD EMPLOYEE AND CONDITIONAL EMPLOYEE; KNOWLEDGE, RESPONSIBILITIES AND REPORTING - Comments: FOUND NO EMPLOYEE HEALTH POLICY AT PREMISES. PRIORITY FOUNDATION. NO CITATION ISSUED. 7-38-010. MUST PROVIDE.',\n",
       " 'Latitude': '41.94711774835235',\n",
       " 'Longitude': '-87.6553811622124',\n",
       " 'Location': \"{'latitude': '-87.6553811622124', 'longitude': '41.94711774835235'}\",\n",
       " 'Historical Wards 2003-2015': '',\n",
       " 'Zip Codes': '',\n",
       " 'Community Areas': '',\n",
       " 'Census Tracts': '',\n",
       " 'Wards': ''}"
      ]
     },
     "execution_count": 5,
     "metadata": {},
     "output_type": "execute_result"
    }
   ],
   "source": [
    "food[0]"
   ]
  },
  {
   "cell_type": "code",
   "execution_count": 6,
   "id": "private-fleece",
   "metadata": {},
   "outputs": [
    {
     "data": {
      "text/plain": [
       "196825"
      ]
     },
     "execution_count": 6,
     "metadata": {},
     "output_type": "execute_result"
    }
   ],
   "source": [
    "len(food)"
   ]
  },
  {
   "cell_type": "code",
   "execution_count": 7,
   "id": "backed-colon",
   "metadata": {},
   "outputs": [
    {
     "data": {
      "text/plain": [
       "{'Business Not Located',\n",
       " 'Fail',\n",
       " 'No Entry',\n",
       " 'Not Ready',\n",
       " 'Out of Business',\n",
       " 'Pass',\n",
       " 'Pass w/ Conditions'}"
      ]
     },
     "execution_count": 7,
     "metadata": {},
     "output_type": "execute_result"
    }
   ],
   "source": [
    "# unique values of the 'Results' attribute\n",
    "{ row['Results'] for row in food }"
   ]
  },
  {
   "cell_type": "code",
   "execution_count": 8,
   "id": "consolidated-property",
   "metadata": {},
   "outputs": [],
   "source": [
    "fail = [ row for row in food if row['Results'] == 'Fail' ]"
   ]
  },
  {
   "cell_type": "code",
   "execution_count": 9,
   "id": "convinced-words",
   "metadata": {},
   "outputs": [
    {
     "data": {
      "text/plain": [
       "38087"
      ]
     },
     "execution_count": 9,
     "metadata": {},
     "output_type": "execute_result"
    }
   ],
   "source": [
    "len(fail)"
   ]
  },
  {
   "cell_type": "code",
   "execution_count": 10,
   "id": "bottom-indonesian",
   "metadata": {},
   "outputs": [
    {
     "data": {
      "text/plain": [
       "[('SUBWAY', 342),\n",
       " ('DUNKIN DONUTS', 209),\n",
       " (\"MCDONALD'S\", 112),\n",
       " ('7-ELEVEN', 61),\n",
       " ('MCDONALDS', 59)]"
      ]
     },
     "execution_count": 10,
     "metadata": {},
     "output_type": "execute_result"
    }
   ],
   "source": [
    "worst = Counter(row['DBA Name'] for row in fail)\n",
    "worst.most_common(5)"
   ]
  },
  {
   "cell_type": "code",
   "execution_count": 11,
   "id": "later-glossary",
   "metadata": {},
   "outputs": [],
   "source": [
    "fail = [ { **row, 'DBA Name': row['DBA Name'].replace(\"'\", '').upper() }\n",
    "          for row in fail ]"
   ]
  },
  {
   "cell_type": "code",
   "execution_count": 12,
   "id": "greater-uzbekistan",
   "metadata": {},
   "outputs": [
    {
     "data": {
      "text/plain": [
       "[('SUBWAY', 370),\n",
       " ('DUNKIN DONUTS', 228),\n",
       " ('MCDONALDS', 223),\n",
       " ('7-ELEVEN', 67),\n",
       " ('CHIPOTLE MEXICAN GRILL', 64)]"
      ]
     },
     "execution_count": 12,
     "metadata": {},
     "output_type": "execute_result"
    }
   ],
   "source": [
    "worst = Counter(row['DBA Name'] for row in fail)\n",
    "worst.most_common(5)"
   ]
  },
  {
   "cell_type": "code",
   "execution_count": 13,
   "id": "reported-psychology",
   "metadata": {},
   "outputs": [
    {
     "data": {
      "text/plain": [
       "[('11601 W TOUHY AVE ', 340),\n",
       " ('2300 S THROOP ST ', 103),\n",
       " ('324 N LEAVITT ST ', 88),\n",
       " ('500 W MADISON ST ', 76),\n",
       " ('5700 S CICERO AVE ', 63)]"
      ]
     },
     "execution_count": 13,
     "metadata": {},
     "output_type": "execute_result"
    }
   ],
   "source": [
    "bad = Counter(row['Address'] for row in fail)\n",
    "bad.most_common(5)"
   ]
  },
  {
   "cell_type": "code",
   "execution_count": 14,
   "id": "center-january",
   "metadata": {},
   "outputs": [],
   "source": [
    "by_year = defaultdict(Counter)\n",
    "for row in fail:\n",
    "    by_year[row['Inspection Date'][:4]][row['Address']] += 1"
   ]
  },
  {
   "cell_type": "code",
   "execution_count": 15,
   "id": "sporting-there",
   "metadata": {},
   "outputs": [
    {
     "data": {
      "text/plain": [
       "[('11601 W TOUHY AVE ', 39),\n",
       " ('500 W MADISON ST ', 12),\n",
       " ('307 S KEDZIE AVE ', 9),\n",
       " ('324 N LEAVITT ST ', 9),\n",
       " ('12 S MICHIGAN AVE ', 8)]"
      ]
     },
     "execution_count": 15,
     "metadata": {},
     "output_type": "execute_result"
    }
   ],
   "source": [
    "by_year[\"2015\"].most_common(5)"
   ]
  },
  {
   "cell_type": "code",
   "execution_count": 16,
   "id": "statutory-variety",
   "metadata": {},
   "outputs": [
    {
     "data": {
      "text/plain": [
       "[('11601 W TOUHY AVE ', 37),\n",
       " ('2300 S THROOP ST ', 24),\n",
       " ('2002 S WENTWORTH AVE ', 6),\n",
       " ('311 W MONROE ST ', 5),\n",
       " ('131 N CLINTON ST ', 5)]"
      ]
     },
     "execution_count": 16,
     "metadata": {},
     "output_type": "execute_result"
    }
   ],
   "source": [
    "by_year[\"2019\"].most_common(5)"
   ]
  },
  {
   "cell_type": "code",
   "execution_count": 17,
   "id": "three-progress",
   "metadata": {},
   "outputs": [],
   "source": [
    "airport = [ row for row in fail if row['Address'].startswith('11601 W TOUHY')]"
   ]
  },
  {
   "cell_type": "code",
   "execution_count": 18,
   "id": "mediterranean-interview",
   "metadata": {},
   "outputs": [
    {
     "data": {
      "text/plain": [
       "{'11601 W TOUHY AVE ', '11601 W TOUHY AVE T2 F12'}"
      ]
     },
     "execution_count": 18,
     "metadata": {},
     "output_type": "execute_result"
    }
   ],
   "source": [
    "{row['Address'] for row in airport }"
   ]
  },
  {
   "cell_type": "code",
   "execution_count": 19,
   "id": "round-immigration",
   "metadata": {},
   "outputs": [
    {
     "data": {
      "text/plain": [
       "[('MACARONI GRILL (T3-K2)', 12),\n",
       " ('ARGO TEA  (T3 ROTUNDA)', 9),\n",
       " ('TOCCO (T5 M-07)', 8),\n",
       " ('ARGO TEA (T2/E5)', 7),\n",
       " (\"CHILI'S  TOO (T3-H2)\", 7)]"
      ]
     },
     "execution_count": 19,
     "metadata": {},
     "output_type": "execute_result"
    }
   ],
   "source": [
    "c = Counter(row['AKA Name'] for row in airport)\n",
    "c.most_common(5)"
   ]
  },
  {
   "cell_type": "code",
   "execution_count": 27,
   "metadata": {},
   "outputs": [
    {
     "data": {
      "text/plain": [
       "['6. PROPER EATING, TASTING, DRINKING, OR TOBACCO USE - Comments: OBSERVED MALE FOOD EMPLOYEE DRINKING BEVERAGE OUT OF AN OPEN CUP WHILE ACTIVELY PREPPING FOODS IN REAR FOOD PREP AREA.FOOD EMPLOYEE BEVERAGE MUST BE CONSUMED IN A DESIGNATED AREA AND TO MAINTAIN. ',\n",
       " ' 37. FOOD PROPERLY LABELED; ORIGINAL CONTAINER - Comments: LARGE BULK CONTAINER OF FLOUR IN THE PIZZA PREP AREA IS NOT LABELED.MUST LABEL TO IDENTIFY FOOD STORED AND TO MAINTAIN. ',\n",
       " ' 38. INSECTS, RODENTS, & ANIMALS NOT PRESENT - Comments: OBSERVED LIVE FRUIT FLIES IN THE REAR PREP/DISH WASH AREA AND THE BAR AREA. APPROXIMATELY 50 LIVE FRUIT FLIES WERE OBSERVED ON THE WALLS, CEILING AND EQUIPMENT IN THESE AREAS.INSTRUCTED MANAGER TO REMOVE, TO CLEAN AND SANITIZE ALL AFFECTED AREAS IN DETAIL AND RECCOMEND TO CALL LICENSED PEST CONTROL COMPANY FOR SERVICE.PRIORITY FOUNDATION VIOLATION 7-38-020 (A), CITATION ISSUED.  ',\n",
       " ' 47. FOOD & NON-FOOD CONTACT SURFACES CLEANABLE, PROPERLY DESIGNED, CONSTRUCTED & USED - Comments: THE SALAD PREP AND PIZZA PREP COOLERS WITH TORN DOOR GASKETS SHOWED MANAGER. MANAGEMENT INSTRUCTED TO REPLACE THE TORN DOOR GASKETS AND TO MAINTAIN. ',\n",
       " ' 49. NON-FOOD/FOOD CONTACT SURFACES CLEAN - Comments: INSTRUCTED TO DETAIL CLEAN WALK-IN-COOLER SHELFS TO REMOVE MOLD-LIKE DRIED UP FOOD DEBRIS SHOWED TO MANAGER AND TO MAINTAIN. ',\n",
       " ' 52. SEWAGE & WASTE WATER PROPERLY DISPOSED - Comments: INSTRUCTED TO REMOVE,RUSTS ON GREASE TRAP BOX UNDERNEATH THE 3 COMPARTMENT SINK AREA IN THE REAR FOOD PREP AREA AND TO MAINTAIN. ',\n",
       " ' 55. PHYSICAL FACILITIES INSTALLED, MAINTAINED & CLEAN - Comments: INSTRUCTED TO REMOVE ACCUMULATIONS OF DUSTS ON CEILING VENT SYSTEM AT FRONT PIZZA PREP AREA AND CLEAN AND SANITIZE CEILING TILES IN REAR DISH WASHING/PREP AREA TO REMOVE FOOD SPLASHED DEBRIS SHOWED TO MANAGER AND TO MAINTAIN.']"
      ]
     },
     "execution_count": 27,
     "metadata": {},
     "output_type": "execute_result"
    }
   ],
   "source": [
    "violations = airport[1][\"Violations\"].split(\"|\")\n",
    "violations"
   ]
  },
  {
   "cell_type": "code",
   "execution_count": 39,
   "metadata": {},
   "outputs": [
    {
     "data": {
      "text/plain": [
       "['6. PROPER EATING, TASTING, DRINKING, OR TOBACCO USE',\n",
       " '37. FOOD PROPERLY LABELED; ORIGINAL CONTAINER',\n",
       " '38. INSECTS, RODENTS, & ANIMALS NOT PRESENT',\n",
       " '47. FOOD & NON-FOOD CONTACT SURFACES CLEANABLE, PROPERLY DESIGNED, CONSTRUCTED & USED',\n",
       " '49. NON-FOOD/FOOD CONTACT SURFACES CLEAN',\n",
       " '52. SEWAGE & WASTE WATER PROPERLY DISPOSED',\n",
       " '55. PHYSICAL FACILITIES INSTALLED, MAINTAINED & CLEAN']"
      ]
     },
     "execution_count": 39,
     "metadata": {},
     "output_type": "execute_result"
    }
   ],
   "source": [
    "[v[:v.find(\"- Comments\")].strip() for v in violations]"
   ]
  },
  {
   "cell_type": "code",
   "execution_count": 44,
   "metadata": {},
   "outputs": [
    {
     "data": {
      "text/plain": [
       "Counter({'6. PROPER EATING, TASTING, DRINKING, OR TOBACCO USE': 341,\n",
       "         '37. FOOD PROPERLY LABELED; ORIGINAL CONTAINER': 341,\n",
       "         '38. INSECTS, RODENTS, & ANIMALS NOT PRESENT': 341,\n",
       "         '47. FOOD & NON-FOOD CONTACT SURFACES CLEANABLE, PROPERLY DESIGNED, CONSTRUCTED & USED': 341,\n",
       "         '49. NON-FOOD/FOOD CONTACT SURFACES CLEAN': 341,\n",
       "         '52. SEWAGE & WASTE WATER PROPERLY DISPOSED': 341,\n",
       "         '55. PHYSICAL FACILITIES INSTALLED, MAINTAINED & CLEAN': 341})"
      ]
     },
     "execution_count": 44,
     "metadata": {},
     "output_type": "execute_result"
    }
   ],
   "source": [
    "all_violations = [row[\"Violations\"].split(\"|\") for row in airport]\n",
    "c = Counter()\n",
    "for violation in all_violations:\n",
    "    for v in violations:\n",
    "        c[v[:v.find(\"- Comments\")].strip()] += 1\n",
    "c"
   ]
  },
  {
   "cell_type": "code",
   "execution_count": 50,
   "metadata": {},
   "outputs": [
    {
     "data": {
      "text/plain": [
       "[('6. PROPER EATING, TASTING, DRINKING, OR TOBACCO USE', 341),\n",
       " ('37. FOOD PROPERLY LABELED; ORIGINAL CONTAINER', 341),\n",
       " ('38. INSECTS, RODENTS, & ANIMALS NOT PRESENT', 341),\n",
       " ('47. FOOD & NON-FOOD CONTACT SURFACES CLEANABLE, PROPERLY DESIGNED, CONSTRUCTED & USED',\n",
       "  341),\n",
       " ('49. NON-FOOD/FOOD CONTACT SURFACES CLEAN', 341)]"
      ]
     },
     "execution_count": 50,
     "metadata": {},
     "output_type": "execute_result"
    }
   ],
   "source": [
    "c.most_common(5)"
   ]
  }
 ],
 "metadata": {
  "interpreter": {
   "hash": "f9f85f796d01129d0dd105a088854619f454435301f6ffec2fea96ecbd9be4ac"
  },
  "kernelspec": {
   "display_name": "Python 3.9.7 64-bit",
   "name": "python3"
  },
  "language_info": {
   "codemirror_mode": {
    "name": "ipython",
    "version": 3
   },
   "file_extension": ".py",
   "mimetype": "text/x-python",
   "name": "python",
   "nbconvert_exporter": "python",
   "pygments_lexer": "ipython3",
   "version": "3.9.7"
  }
 },
 "nbformat": 4,
 "nbformat_minor": 5
}

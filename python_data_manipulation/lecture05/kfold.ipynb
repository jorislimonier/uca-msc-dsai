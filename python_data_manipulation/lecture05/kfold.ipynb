{
 "cells": [
  {
   "cell_type": "code",
   "execution_count": 1,
   "id": "5ddb2567",
   "metadata": {},
   "outputs": [],
   "source": [
    "from sklearn.datasets import load_iris\n",
    "from sklearn.neighbors import KNeighborsClassifier\n",
    "import matplotlib.pyplot as plt\n",
    "%matplotlib inline\n",
    "plt.rcParams['figure.figsize'] = (12,12)\n"
   ]
  },
  {
   "cell_type": "code",
   "execution_count": 2,
   "id": "df18296d",
   "metadata": {},
   "outputs": [],
   "source": [
    "iris = load_iris()\n",
    "X, y = iris.data, iris.target"
   ]
  },
  {
   "cell_type": "code",
   "execution_count": 3,
   "id": "773cc30e",
   "metadata": {},
   "outputs": [],
   "source": [
    "classifier = KNeighborsClassifier()"
   ]
  },
  {
   "cell_type": "code",
   "execution_count": 4,
   "id": "6f6f5aa3",
   "metadata": {},
   "outputs": [
    {
     "data": {
      "text/plain": [
       "array([0, 0, 0, 0, 0, 0, 0, 0, 0, 0, 0, 0, 0, 0, 0, 0, 0, 0, 0, 0, 0, 0,\n",
       "       0, 0, 0, 0, 0, 0, 0, 0, 0, 0, 0, 0, 0, 0, 0, 0, 0, 0, 0, 0, 0, 0,\n",
       "       0, 0, 0, 0, 0, 0, 1, 1, 1, 1, 1, 1, 1, 1, 1, 1, 1, 1, 1, 1, 1, 1,\n",
       "       1, 1, 1, 1, 1, 1, 1, 1, 1, 1, 1, 1, 1, 1, 1, 1, 1, 1, 1, 1, 1, 1,\n",
       "       1, 1, 1, 1, 1, 1, 1, 1, 1, 1, 1, 1, 2, 2, 2, 2, 2, 2, 2, 2, 2, 2,\n",
       "       2, 2, 2, 2, 2, 2, 2, 2, 2, 2, 2, 2, 2, 2, 2, 2, 2, 2, 2, 2, 2, 2,\n",
       "       2, 2, 2, 2, 2, 2, 2, 2, 2, 2, 2, 2, 2, 2, 2, 2, 2, 2])"
      ]
     },
     "execution_count": 4,
     "metadata": {},
     "output_type": "execute_result"
    }
   ],
   "source": [
    "y"
   ]
  },
  {
   "cell_type": "code",
   "execution_count": 5,
   "id": "e4f45016",
   "metadata": {},
   "outputs": [],
   "source": [
    "import numpy as np\n",
    "rng = np.random.RandomState(0)"
   ]
  },
  {
   "cell_type": "code",
   "execution_count": 6,
   "id": "99a94d05",
   "metadata": {},
   "outputs": [],
   "source": [
    "permutation = rng.permutation(len(X))"
   ]
  },
  {
   "cell_type": "code",
   "execution_count": 7,
   "id": "abe32ea7",
   "metadata": {},
   "outputs": [
    {
     "data": {
      "text/plain": [
       "array([114,  62,  33, 107,   7, 100,  40,  86,  76,  71, 134,  51,  73,\n",
       "        54,  63,  37,  78,  90,  45,  16, 121,  66,  24,   8, 126,  22,\n",
       "        44,  97,  93,  26, 137,  84,  27, 127, 132,  59,  18,  83,  61,\n",
       "        92, 112,   2, 141,  43,  10,  60, 116, 144, 119, 108,  69, 135,\n",
       "        56,  80, 123, 133, 106, 146,  50, 147,  85,  30, 101,  94,  64,\n",
       "        89,  91, 125,  48,  13, 111,  95,  20,  15,  52,   3, 149,  98,\n",
       "         6,  68, 109,  96,  12, 102, 120, 104, 128,  46,  11, 110, 124,\n",
       "        41, 148,   1, 113, 139,  42,   4, 129,  17,  38,   5,  53, 143,\n",
       "       105,   0,  34,  28,  55,  75,  35,  23,  74,  31, 118,  57, 131,\n",
       "        65,  32, 138,  14, 122,  19,  29, 130,  49, 136,  99,  82,  79,\n",
       "       115, 145,  72,  77,  25,  81, 140, 142,  39,  58,  88,  70,  87,\n",
       "        36,  21,   9, 103,  67, 117,  47])"
      ]
     },
     "execution_count": 7,
     "metadata": {},
     "output_type": "execute_result"
    }
   ],
   "source": [
    "permutation"
   ]
  },
  {
   "cell_type": "code",
   "execution_count": 8,
   "id": "ed7c28d3",
   "metadata": {},
   "outputs": [],
   "source": [
    "X, y = X[permutation], y[permutation]"
   ]
  },
  {
   "cell_type": "code",
   "execution_count": 9,
   "id": "84385bf6",
   "metadata": {},
   "outputs": [
    {
     "data": {
      "text/plain": [
       "array([2, 1, 0, 2, 0, 2, 0, 1, 1, 1, 2, 1, 1, 1, 1, 0, 1, 1, 0, 0, 2, 1,\n",
       "       0, 0, 2, 0, 0, 1, 1, 0, 2, 1, 0, 2, 2, 1, 0, 1, 1, 1, 2, 0, 2, 0,\n",
       "       0, 1, 2, 2, 2, 2, 1, 2, 1, 1, 2, 2, 2, 2, 1, 2, 1, 0, 2, 1, 1, 1,\n",
       "       1, 2, 0, 0, 2, 1, 0, 0, 1, 0, 2, 1, 0, 1, 2, 1, 0, 2, 2, 2, 2, 0,\n",
       "       0, 2, 2, 0, 2, 0, 2, 2, 0, 0, 2, 0, 0, 0, 1, 2, 2, 0, 0, 0, 1, 1,\n",
       "       0, 0, 1, 0, 2, 1, 2, 1, 0, 2, 0, 2, 0, 0, 2, 0, 2, 1, 1, 1, 2, 2,\n",
       "       1, 1, 0, 1, 2, 2, 0, 1, 1, 1, 1, 0, 0, 0, 2, 1, 2, 0])"
      ]
     },
     "execution_count": 9,
     "metadata": {},
     "output_type": "execute_result"
    }
   ],
   "source": [
    "y"
   ]
  },
  {
   "cell_type": "code",
   "execution_count": 10,
   "id": "b0795f8f",
   "metadata": {},
   "outputs": [],
   "source": [
    "k = 5\n",
    "n_samples = len(X)\n",
    "fold_size = n_samples // k"
   ]
  },
  {
   "cell_type": "code",
   "execution_count": 12,
   "id": "1c8e3f52",
   "metadata": {},
   "outputs": [
    {
     "data": {
      "text/plain": [
       "30"
      ]
     },
     "execution_count": 12,
     "metadata": {},
     "output_type": "execute_result"
    }
   ],
   "source": [
    "fold_size"
   ]
  },
  {
   "cell_type": "code",
   "execution_count": 13,
   "id": "aaf14236",
   "metadata": {},
   "outputs": [],
   "source": [
    "masks = []\n",
    "scores = []\n",
    "for fold in range(k):\n",
    "    test_mask = np.zeros(n_samples, dtype=bool)\n",
    "    test_mask[fold * fold_size : (fold + 1) * fold_size] = True\n",
    "    masks.append(test_mask)\n",
    "    X_test, y_test = X[test_mask], y[test_mask]\n",
    "    X_train, y_train = X[~test_mask], y[~test_mask]\n",
    "    classifier.fit(X_train, y_train)\n",
    "    scores.append(classifier.score(X_test, y_test))"
   ]
  },
  {
   "cell_type": "code",
   "execution_count": 14,
   "id": "ed16dccb",
   "metadata": {},
   "outputs": [
    {
     "data": {
      "text/plain": [
       "[0.9666666666666667, 0.9, 1.0, 1.0, 0.9333333333333333]"
      ]
     },
     "execution_count": 14,
     "metadata": {},
     "output_type": "execute_result"
    }
   ],
   "source": [
    "scores"
   ]
  },
  {
   "cell_type": "code",
   "execution_count": 15,
   "id": "1716018f",
   "metadata": {},
   "outputs": [
    {
     "data": {
      "text/plain": [
       "<matplotlib.image.AxesImage at 0x16a5dcc40>"
      ]
     },
     "execution_count": 15,
     "metadata": {},
     "output_type": "execute_result"
    },
    {
     "data": {
      "image/png": "[encoded data removed]",
      "text/plain": [
       "<Figure size 1152x144 with 1 Axes>"
      ]
     },
     "metadata": {
      "needs_background": "light"
     },
     "output_type": "display_data"
    }
   ],
   "source": [
    "plt.matshow(masks, cmap='gray_r')"
   ]
  },
  {
   "cell_type": "code",
   "execution_count": 16,
   "id": "ef7d3acf",
   "metadata": {},
   "outputs": [
    {
     "data": {
      "text/plain": [
       "0.96"
      ]
     },
     "execution_count": 16,
     "metadata": {},
     "output_type": "execute_result"
    }
   ],
   "source": [
    "np.mean(scores)"
   ]
  },
  {
   "cell_type": "code",
   "execution_count": 17,
   "id": "a0cd9785",
   "metadata": {},
   "outputs": [],
   "source": [
    "from sklearn.model_selection import cross_val_score"
   ]
  },
  {
   "cell_type": "code",
   "execution_count": 18,
   "id": "7e45061f",
   "metadata": {},
   "outputs": [
    {
     "data": {
      "text/plain": [
       "0.9733333333333334"
      ]
     },
     "execution_count": 18,
     "metadata": {},
     "output_type": "execute_result"
    }
   ],
   "source": [
    "scores = cross_val_score(classifier, X, y)\n",
    "np.mean(scores)"
   ]
  },
  {
   "cell_type": "code",
   "execution_count": 19,
   "id": "02636a0e",
   "metadata": {},
   "outputs": [],
   "source": [
    "from sklearn.model_selection import KFold, StratifiedKFold, ShuffleSplit"
   ]
  },
  {
   "cell_type": "code",
   "execution_count": 21,
   "id": "846900ff",
   "metadata": {},
   "outputs": [
    {
     "name": "stdout",
     "output_type": "stream",
     "text": [
      "[  0   1   2   3   4   5   6   7   8   9  50  51  52  53  54  55  56  57\n",
      "  58  59 100 101 102 103 104 105 106 107 108 109]\n",
      "[ 10  11  12  13  14  15  16  17  18  19  60  61  62  63  64  65  66  67\n",
      "  68  69 110 111 112 113 114 115 116 117 118 119]\n",
      "[ 20  21  22  23  24  25  26  27  28  29  70  71  72  73  74  75  76  77\n",
      "  78  79 120 121 122 123 124 125 126 127 128 129]\n",
      "[ 30  31  32  33  34  35  36  37  38  39  80  81  82  83  84  85  86  87\n",
      "  88  89 130 131 132 133 134 135 136 137 138 139]\n",
      "[ 40  41  42  43  44  45  46  47  48  49  90  91  92  93  94  95  96  97\n",
      "  98  99 140 141 142 143 144 145 146 147 148 149]\n"
     ]
    }
   ],
   "source": [
    "cv = StratifiedKFold(n_splits=5)\n",
    "for train, test in cv.split(iris.data, iris.target):\n",
    "    print(test)"
   ]
  },
  {
   "cell_type": "code",
   "execution_count": 22,
   "id": "d569d09d",
   "metadata": {},
   "outputs": [],
   "source": [
    "def plot_cv(cv, features, labels):\n",
    "    masks = []\n",
    "    for train, test in cv.split(features, labels):\n",
    "        mask = np.zeros(len(labels), dtype=bool)\n",
    "        mask[test] = 1\n",
    "        masks.append(mask)\n",
    "        \n",
    "    plt.matshow(masks, cmap='gray_r')"
   ]
  },
  {
   "cell_type": "code",
   "execution_count": 23,
   "id": "7ddf9843",
   "metadata": {},
   "outputs": [
    {
     "data": {
      "image/png": "[encoded data removed]",
      "text/plain": [
       "<Figure size 1152x144 with 1 Axes>"
      ]
     },
     "metadata": {
      "needs_background": "light"
     },
     "output_type": "display_data"
    }
   ],
   "source": [
    "plot_cv(StratifiedKFold(n_splits=5), iris.data, iris.target)"
   ]
  },
  {
   "cell_type": "code",
   "execution_count": 24,
   "id": "43f982ae",
   "metadata": {},
   "outputs": [
    {
     "data": {
      "image/png": "[encoded data removed]",
      "text/plain": [
       "<Figure size 1152x144 with 1 Axes>"
      ]
     },
     "metadata": {
      "needs_background": "light"
     },
     "output_type": "display_data"
    }
   ],
   "source": [
    "plot_cv(KFold(n_splits=5), iris.data, iris.target)"
   ]
  },
  {
   "cell_type": "code",
   "execution_count": 25,
   "id": "b864c940",
   "metadata": {},
   "outputs": [
    {
     "data": {
      "image/png": "[encoded data removed]",
      "text/plain": [
       "<Figure size 1152x144 with 1 Axes>"
      ]
     },
     "metadata": {
      "needs_background": "light"
     },
     "output_type": "display_data"
    }
   ],
   "source": [
    "plot_cv(KFold(n_splits=15), iris.data, iris.target)"
   ]
  },
  {
   "cell_type": "code",
   "execution_count": 26,
   "id": "cdb7a194",
   "metadata": {},
   "outputs": [
    {
     "data": {
      "image/png": "[encoded data removed]",
      "text/plain": [
       "<Figure size 1152x144 with 1 Axes>"
      ]
     },
     "metadata": {
      "needs_background": "light"
     },
     "output_type": "display_data"
    }
   ],
   "source": [
    "plot_cv(ShuffleSplit(n_splits=5, test_size=.2), iris.data, iris.target)"
   ]
  },
  {
   "cell_type": "code",
   "execution_count": 27,
   "id": "8d2ece0e",
   "metadata": {},
   "outputs": [
    {
     "data": {
      "image/png": "[encoded data removed]",
      "text/plain": [
       "<Figure size 1152x192 with 1 Axes>"
      ]
     },
     "metadata": {
      "needs_background": "light"
     },
     "output_type": "display_data"
    }
   ],
   "source": [
    "plot_cv(ShuffleSplit(n_splits=25, test_size=.2), iris.data, iris.target)"
   ]
  },
  {
   "cell_type": "code",
   "execution_count": 28,
   "id": "29e33b98",
   "metadata": {},
   "outputs": [],
   "source": [
    "cv = ShuffleSplit(n_splits=5, test_size=.2)"
   ]
  },
  {
   "cell_type": "code",
   "execution_count": 29,
   "id": "516dcea9",
   "metadata": {},
   "outputs": [
    {
     "data": {
      "text/plain": [
       "array([0.96666667, 0.96666667, 0.96666667, 1.        , 0.93333333])"
      ]
     },
     "execution_count": 29,
     "metadata": {},
     "output_type": "execute_result"
    }
   ],
   "source": [
    "cross_val_score(classifier, X, y, cv=cv)"
   ]
  },
  {
   "cell_type": "code",
   "execution_count": 30,
   "id": "0edc7c65",
   "metadata": {},
   "outputs": [
    {
     "data": {
      "text/plain": [
       "{'algorithm': 'auto',\n",
       " 'leaf_size': 30,\n",
       " 'metric': 'minkowski',\n",
       " 'metric_params': None,\n",
       " 'n_jobs': None,\n",
       " 'n_neighbors': 5,\n",
       " 'p': 2,\n",
       " 'weights': 'uniform'}"
      ]
     },
     "execution_count": 30,
     "metadata": {},
     "output_type": "execute_result"
    }
   ],
   "source": [
    "classifier.get_params()"
   ]
  },
  {
   "cell_type": "code",
   "execution_count": 31,
   "id": "fb019fc2",
   "metadata": {},
   "outputs": [],
   "source": [
    "from sklearn.datasets import load_breast_cancer\n",
    "from sklearn.metrics import classification_report, confusion_matrix\n",
    "from sklearn.svm import SVC\n",
    "from sklearn.model_selection import GridSearchCV\n",
    "from sklearn.model_selection import train_test_split"
   ]
  },
  {
   "cell_type": "code",
   "execution_count": 32,
   "id": "2de1bbad",
   "metadata": {},
   "outputs": [],
   "source": [
    "dataset = load_breast_cancer()\n",
    "X = dataset.data\n",
    "Y = dataset.target\n",
    "\n",
    "X_train, X_test, y_train, y_test = train_test_split(X, Y, test_size=.3, random_state=42)"
   ]
  },
  {
   "cell_type": "code",
   "execution_count": 34,
   "id": "24bcbad3",
   "metadata": {},
   "outputs": [
    {
     "name": "stdout",
     "output_type": "stream",
     "text": [
      "              precision    recall  f1-score   support\n",
      "\n",
      "           0       1.00      0.83      0.90        63\n",
      "           1       0.91      1.00      0.95       108\n",
      "\n",
      "    accuracy                           0.94       171\n",
      "   macro avg       0.95      0.91      0.93       171\n",
      "weighted avg       0.94      0.94      0.93       171\n",
      "\n"
     ]
    }
   ],
   "source": [
    "model = SVC()\n",
    "model.fit(X_train, y_train)\n",
    "predictions = model.predict(X_test)\n",
    "print(classification_report(y_test, predictions))"
   ]
  },
  {
   "cell_type": "code",
   "execution_count": 35,
   "id": "83c6b20d",
   "metadata": {},
   "outputs": [],
   "source": [
    "param_grid = {\n",
    "    'C': [0.1, 1, 10, 100],\n",
    "    'gamma': ['scale', 'auto'],\n",
    "    'gamma': [1, 0.1, 0.01, 0.001],\n",
    "    'kernel': ['linear']\n",
    "}\n",
    "\n",
    "grid = GridSearchCV(SVC(), param_grid, refit=True, verbose=3, n_jobs=-1)"
   ]
  },
  {
   "cell_type": "code",
   "execution_count": 36,
   "id": "eb579ed4",
   "metadata": {},
   "outputs": [
    {
     "name": "stdout",
     "output_type": "stream",
     "text": [
      "Fitting 5 folds for each of 16 candidates, totalling 80 fits\n"
     ]
    },
    {
     "data": {
      "text/plain": [
       "GridSearchCV(estimator=SVC(), n_jobs=-1,\n",
       "             param_grid={'C': [0.1, 1, 10, 100], 'gamma': [1, 0.1, 0.01, 0.001],\n",
       "                         'kernel': ['linear']},\n",
       "             verbose=3)"
      ]
     },
     "execution_count": 36,
     "metadata": {},
     "output_type": "execute_result"
    }
   ],
   "source": [
    "grid.fit(X_train, y_train)"
   ]
  },
  {
   "cell_type": "code",
   "execution_count": 37,
   "id": "e70e0465",
   "metadata": {},
   "outputs": [
    {
     "data": {
      "text/plain": [
       "{'C': 10, 'gamma': 1, 'kernel': 'linear'}"
      ]
     },
     "execution_count": 37,
     "metadata": {},
     "output_type": "execute_result"
    }
   ],
   "source": [
    "grid.best_params_"
   ]
  },
  {
   "cell_type": "code",
   "execution_count": 38,
   "id": "0d9e9acc",
   "metadata": {},
   "outputs": [
    {
     "name": "stdout",
     "output_type": "stream",
     "text": [
      "              precision    recall  f1-score   support\n",
      "\n",
      "           0       0.95      0.97      0.96        63\n",
      "           1       0.98      0.97      0.98       108\n",
      "\n",
      "    accuracy                           0.97       171\n",
      "   macro avg       0.97      0.97      0.97       171\n",
      "weighted avg       0.97      0.97      0.97       171\n",
      "\n",
      "[CV 3/5] END .....C=0.1, gamma=1, kernel=linear;, score=0.975 total time=   0.1s\n",
      "[CV 4/5] END ..C=0.1, gamma=0.01, kernel=linear;, score=0.949 total time=   0.1s\n",
      "[CV 3/5] END .......C=1, gamma=1, kernel=linear;, score=1.000 total time=   1.2s\n",
      "[CV 3/5] END ....C=1, gamma=0.01, kernel=linear;, score=1.000 total time=   1.2s\n",
      "[CV 4/5] END ......C=10, gamma=1, kernel=linear;, score=0.987 total time=   2.6s\n",
      "[CV 4/5] END ...C=10, gamma=0.01, kernel=linear;, score=0.987 total time=   2.6s\n",
      "[CV 3/5] END .....C=100, gamma=1, kernel=linear;, score=0.975 total time=   1.7s\n",
      "[CV 3/5] END ...C=100, gamma=0.1, kernel=linear;, score=0.975 total time=   1.7s\n",
      "[CV 2/5] END ..C=100, gamma=0.01, kernel=linear;, score=0.963 total time=   4.1s\n",
      "[CV 2/5] END .....C=0.1, gamma=1, kernel=linear;, score=0.938 total time=   0.1s\n",
      "[CV 4/5] END ...C=0.1, gamma=0.1, kernel=linear;, score=0.949 total time=   0.1s\n",
      "[CV 3/5] END .C=0.1, gamma=0.001, kernel=linear;, score=0.975 total time=   0.1s\n",
      "[CV 2/5] END .....C=1, gamma=0.1, kernel=linear;, score=0.925 total time=   0.5s\n",
      "[CV 1/5] END ....C=1, gamma=0.01, kernel=linear;, score=0.963 total time=   1.3s\n",
      "[CV 1/5] END ......C=10, gamma=1, kernel=linear;, score=0.963 total time=   2.1s\n",
      "[CV 5/5] END ....C=10, gamma=0.1, kernel=linear;, score=0.924 total time=   1.8s\n",
      "[CV 1/5] END ..C=10, gamma=0.001, kernel=linear;, score=0.963 total time=   2.0s\n",
      "[CV 4/5] END .....C=100, gamma=1, kernel=linear;, score=0.975 total time=   2.7s\n",
      "[CV 1/5] END ..C=100, gamma=0.01, kernel=linear;, score=0.963 total time=   3.2s\n",
      "[CV 3/5] END .C=100, gamma=0.001, kernel=linear;, score=0.975 total time=   1.7s\n",
      "[CV 1/5] END .....C=0.1, gamma=1, kernel=linear;, score=0.950 total time=   0.1s\n",
      "[CV 5/5] END ...C=0.1, gamma=0.1, kernel=linear;, score=0.911 total time=   0.1s\n",
      "[CV 1/5] END .C=0.1, gamma=0.001, kernel=linear;, score=0.950 total time=   0.1s\n",
      "[CV 1/5] END .......C=1, gamma=1, kernel=linear;, score=0.963 total time=   1.3s\n",
      "[CV 5/5] END ....C=1, gamma=0.01, kernel=linear;, score=0.911 total time=   0.5s\n",
      "[CV 5/5] END ...C=1, gamma=0.001, kernel=linear;, score=0.911 total time=   0.5s\n",
      "[CV 3/5] END ......C=10, gamma=1, kernel=linear;, score=0.975 total time=   1.3s\n",
      "[CV 4/5] END ....C=10, gamma=0.1, kernel=linear;, score=0.987 total time=   2.6s\n",
      "[CV 4/5] END ..C=10, gamma=0.001, kernel=linear;, score=0.987 total time=   2.6s\n",
      "[CV 2/5] END ...C=100, gamma=0.1, kernel=linear;, score=0.963 total time=   4.1s\n",
      "[CV 1/5] END .C=100, gamma=0.001, kernel=linear;, score=0.963 total time=   3.0s\n",
      "[CV 5/5] END .....C=0.1, gamma=1, kernel=linear;, score=0.911 total time=   0.1s\n",
      "[CV 3/5] END ..C=0.1, gamma=0.01, kernel=linear;, score=0.975 total time=   0.1s\n",
      "[CV 4/5] END .......C=1, gamma=1, kernel=linear;, score=0.962 total time=   1.3s\n",
      "[CV 4/5] END ....C=1, gamma=0.01, kernel=linear;, score=0.962 total time=   1.4s\n",
      "[CV 2/5] END ....C=10, gamma=0.1, kernel=linear;, score=0.963 total time=   3.5s\n",
      "[CV 3/5] END ..C=10, gamma=0.001, kernel=linear;, score=0.975 total time=   1.3s\n",
      "[CV 2/5] END .....C=100, gamma=1, kernel=linear;, score=0.963 total time=   4.1s\n",
      "[CV 4/5] END ..C=100, gamma=0.01, kernel=linear;, score=0.975 total time=   2.7s\n",
      "[CV 4/5] END .C=100, gamma=0.001, kernel=linear;, score=0.975 total time=   2.3s\n",
      "[CV 1/5] END ...C=0.1, gamma=0.1, kernel=linear;, score=0.950 total time=   0.1s\n",
      "[CV 2/5] END ..C=0.1, gamma=0.01, kernel=linear;, score=0.938 total time=   0.1s\n",
      "[CV 2/5] END .C=0.1, gamma=0.001, kernel=linear;, score=0.938 total time=   0.0s\n",
      "[CV 5/5] END .C=0.1, gamma=0.001, kernel=linear;, score=0.911 total time=   0.1s\n",
      "[CV 1/5] END .....C=1, gamma=0.1, kernel=linear;, score=0.963 total time=   1.3s\n",
      "[CV 1/5] END ...C=1, gamma=0.001, kernel=linear;, score=0.963 total time=   1.3s\n",
      "[CV 5/5] END ......C=10, gamma=1, kernel=linear;, score=0.924 total time=   1.8s\n",
      "[CV 1/5] END ...C=10, gamma=0.01, kernel=linear;, score=0.963 total time=   2.1s\n",
      "[CV 5/5] END ..C=10, gamma=0.001, kernel=linear;, score=0.924 total time=   1.7s\n",
      "[CV 1/5] END ...C=100, gamma=0.1, kernel=linear;, score=0.963 total time=   3.1s\n",
      "[CV 3/5] END ..C=100, gamma=0.01, kernel=linear;, score=0.975 total time=   1.7s\n",
      "[CV 2/5] END .C=100, gamma=0.001, kernel=linear;, score=0.963 total time=   3.7s\n",
      "[CV 4/5] END .....C=0.1, gamma=1, kernel=linear;, score=0.949 total time=   0.1s\n",
      "[CV 5/5] END ..C=0.1, gamma=0.01, kernel=linear;, score=0.911 total time=   0.1s\n",
      "[CV 2/5] END .......C=1, gamma=1, kernel=linear;, score=0.925 total time=   0.5s\n",
      "[CV 4/5] END .....C=1, gamma=0.1, kernel=linear;, score=0.962 total time=   1.4s\n",
      "[CV 2/5] END ......C=10, gamma=1, kernel=linear;, score=0.963 total time=   3.4s\n",
      "[CV 5/5] END ...C=10, gamma=0.01, kernel=linear;, score=0.924 total time=   1.8s\n",
      "[CV 1/5] END .....C=100, gamma=1, kernel=linear;, score=0.963 total time=   3.2s\n",
      "[CV 5/5] END ...C=100, gamma=0.1, kernel=linear;, score=0.899 total time=   6.6s\n",
      "[CV 2/5] END ...C=0.1, gamma=0.1, kernel=linear;, score=0.938 total time=   0.1s\n",
      "[CV 1/5] END ..C=0.1, gamma=0.01, kernel=linear;, score=0.950 total time=   0.1s\n",
      "[CV 4/5] END .C=0.1, gamma=0.001, kernel=linear;, score=0.949 total time=   0.1s\n",
      "[CV 5/5] END .......C=1, gamma=1, kernel=linear;, score=0.911 total time=   0.5s\n",
      "[CV 5/5] END .....C=1, gamma=0.1, kernel=linear;, score=0.911 total time=   0.5s\n",
      "[CV 2/5] END ....C=1, gamma=0.01, kernel=linear;, score=0.925 total time=   0.5s\n",
      "[CV 3/5] END ...C=1, gamma=0.001, kernel=linear;, score=1.000 total time=   1.2s\n",
      "[CV 1/5] END ....C=10, gamma=0.1, kernel=linear;, score=0.963 total time=   2.1s\n",
      "[CV 3/5] END ...C=10, gamma=0.01, kernel=linear;, score=0.975 total time=   1.3s\n",
      "[CV 2/5] END ..C=10, gamma=0.001, kernel=linear;, score=0.963 total time=   3.5s\n",
      "[CV 4/5] END ...C=100, gamma=0.1, kernel=linear;, score=0.975 total time=   2.7s\n",
      "[CV 5/5] END ..C=100, gamma=0.01, kernel=linear;, score=0.899 total time=   5.8s\n",
      "[CV 3/5] END ...C=0.1, gamma=0.1, kernel=linear;, score=0.975 total time=   0.2s\n",
      "[CV 3/5] END .....C=1, gamma=0.1, kernel=linear;, score=1.000 total time=   1.2s\n",
      "[CV 2/5] END ...C=1, gamma=0.001, kernel=linear;, score=0.925 total time=   0.5s\n",
      "[CV 4/5] END ...C=1, gamma=0.001, kernel=linear;, score=0.962 total time=   1.4s\n",
      "[CV 3/5] END ....C=10, gamma=0.1, kernel=linear;, score=0.975 total time=   1.3s\n",
      "[CV 2/5] END ...C=10, gamma=0.01, kernel=linear;, score=0.963 total time=   3.4s\n",
      "[CV 5/5] END .....C=100, gamma=1, kernel=linear;, score=0.899 total time=   7.1s\n",
      "[CV 5/5] END .C=100, gamma=0.001, kernel=linear;, score=0.899 total time=   4.7s\n"
     ]
    }
   ],
   "source": [
    "grid_predictions = grid.predict(X_test)\n",
    "print(classification_report(y_test, grid_predictions))"
   ]
  }
 ],
 "metadata": {
  "kernelspec": {
   "display_name": "Python 3 (ipykernel)",
   "language": "python",
   "name": "python3"
  },
  "language_info": {
   "codemirror_mode": {
    "name": "ipython",
    "version": 3
   },
   "file_extension": ".py",
   "mimetype": "text/x-python",
   "name": "python",
   "nbconvert_exporter": "python",
   "pygments_lexer": "ipython3",
   "version": "3.9.4"
  }
 },
 "nbformat": 4,
 "nbformat_minor": 5
}

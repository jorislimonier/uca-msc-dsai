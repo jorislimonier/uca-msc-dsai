{
 "cells": [
  {
   "cell_type": "code",
   "execution_count": 5,
   "metadata": {},
   "outputs": [],
   "source": [
    "import pandas as pd"
   ]
  },
  {
   "cell_type": "code",
   "execution_count": 9,
   "metadata": {},
   "outputs": [
    {
     "data": {
      "text/html": [
       "\n",
       "        <div>\n",
       "            <p><b>SparkContext</b></p>\n",
       "\n",
       "            <p><a href=\"http://192.168.1.32:4040\">Spark UI</a></p>\n",
       "\n",
       "            <dl>\n",
       "              <dt>Version</dt>\n",
       "                <dd><code>v3.2.0</code></dd>\n",
       "              <dt>Master</dt>\n",
       "                <dd><code>local[*]</code></dd>\n",
       "              <dt>AppName</dt>\n",
       "                <dd><code>pyspark-shell</code></dd>\n",
       "            </dl>\n",
       "        </div>\n",
       "        "
      ],
      "text/plain": [
       "<SparkContext master=local[*] appName=pyspark-shell>"
      ]
     },
     "execution_count": 9,
     "metadata": {},
     "output_type": "execute_result"
    }
   ],
   "source": [
    "from pyspark.sql import SparkSession\n",
    "\n",
    "spark = SparkSession.builder.getOrCreate()\n",
    "spark.sparkContext"
   ]
  },
  {
   "cell_type": "code",
   "execution_count": 21,
   "metadata": {},
   "outputs": [
    {
     "name": "stdout",
     "output_type": "stream",
     "text": [
      "+---------------+--------------------+---------+---------+------------------+----+--------------+-----------------+-----------------+---------------------+\n",
      "|             id|                time| latitude|longitude|         direction|road|traffic_status|avg_vehicle_speed|vehicle_flow_rate|traffic_concentration|\n",
      "+---------------+--------------------+---------+---------+------------------+----+--------------+-----------------+-----------------+---------------------+\n",
      "|   B40.HR.18089|2019-11-19T07:39:...|49.493904|5.9472966|  outboundFromTown| B40|     congested|             58.0|              114|                  0.0|\n",
      "|   B40.HR.18260|2019-11-19T07:39:...|49.493275|5.9494343|  outboundFromTown| B40|     congested|             61.0|              108|                  1.0|\n",
      "|   B40.HR.18610|2019-11-19T07:39:...| 49.49162| 5.953512|  outboundFromTown| B40|     congested|             69.0|              133|                  0.0|\n",
      "|   B40.RH.18260|2019-11-19T07:39:...|49.493332|5.9494743|inboundTowardsTown| B40|     congested|             58.0|             1111|                  6.0|\n",
      "|   B40.RH.18089|2019-11-19T07:39:...| 49.49396|5.9473367|inboundTowardsTown| B40|     congested|             59.0|             1116|                  5.0|\n",
      "|B40.HTMIR.17553|2019-11-19T07:39:...|  49.4975| 5.942809|  outboundFromTown| B40|     congested|             69.0|              167|                  0.0|\n",
      "|B40.RTMIH.17553|2019-11-19T07:39:...| 49.49751|5.9429536|inboundTowardsTown| B40|     congested|             70.0|             1144|                  3.0|\n",
      "|   B40.RH.18610|2019-11-19T07:39:...|49.491695| 5.953599|inboundTowardsTown| B40|     congested|             70.0|             1574|                  4.0|\n",
      "|B40.HTMIR.17853|2019-11-19T07:39:...| 49.49506| 5.944498|  outboundFromTown| B40|     congested|             67.0|              175|                  0.0|\n",
      "|B40.RTMIH.17853|2019-11-19T07:39:...|49.495125| 5.944604|inboundTowardsTown| B40|     congested|             72.0|             1077|                  2.0|\n",
      "|   B40.RH.18089|2019-11-19T07:44:...| 49.49396|5.9473367|inboundTowardsTown| B40|     congested|             60.0|             1100|                  6.0|\n",
      "|   B40.HR.18610|2019-11-19T07:44:...| 49.49162| 5.953512|  outboundFromTown| B40|      freeFlow|             81.0|              132|                  0.0|\n",
      "|B40.HTMIR.17853|2019-11-19T07:44:...| 49.49506| 5.944498|  outboundFromTown| B40|     congested|             67.0|              171|                  1.0|\n",
      "|B40.RTMIH.17853|2019-11-19T07:44:...|49.495125| 5.944604|inboundTowardsTown| B40|     congested|             59.0|             1067|                  2.0|\n",
      "|   B40.HR.18089|2019-11-19T07:44:...|49.493904|5.9472966|  outboundFromTown| B40|     congested|             79.0|              113|                  1.0|\n",
      "|B40.HTMIR.17553|2019-11-19T07:44:...|  49.4975| 5.942809|  outboundFromTown| B40|     congested|             69.0|              166|                  1.0|\n",
      "|   B40.RH.18260|2019-11-19T07:44:...|49.493332|5.9494743|inboundTowardsTown| B40|     congested|             58.0|             1095|                  7.0|\n",
      "|B40.RTMIH.17553|2019-11-19T07:44:...| 49.49751|5.9429536|inboundTowardsTown| B40|     congested|             68.0|             1139|                  3.0|\n",
      "|   B40.RH.18610|2019-11-19T07:44:...|49.491695| 5.953599|inboundTowardsTown| B40|     congested|             70.0|             1574|                  6.0|\n",
      "|   B40.HR.18260|2019-11-19T07:44:...|49.493275|5.9494343|  outboundFromTown| B40|     congested|             66.0|              106|                  1.0|\n",
      "+---------------+--------------------+---------+---------+------------------+----+--------------+-----------------+-----------------+---------------------+\n",
      "only showing top 20 rows\n",
      "\n"
     ]
    }
   ],
   "source": [
    "col_names = [\"id\", \"time\", \"latitude\", \"longitude\", \"direction\", \"road\", \"traffic_status\",\n",
    "    \"avg_vehicle_speed\", \"vehicle_flow_rate\", \"traffic_concentration\"]\n",
    "\n",
    "df = spark.read.option(\"delimiter\", \";\").csv(\"datexDataB40.csv\")\n",
    "df = df.toDF(*col_names).show()\n",
    "df\n"
   ]
  },
  {
   "cell_type": "code",
   "execution_count": null,
   "metadata": {},
   "outputs": [],
   "source": []
  }
 ],
 "metadata": {
  "interpreter": {
   "hash": "f9f85f796d01129d0dd105a088854619f454435301f6ffec2fea96ecbd9be4ac"
  },
  "kernelspec": {
   "display_name": "Python 3.9.9 64-bit",
   "language": "python",
   "name": "python3"
  },
  "language_info": {
   "codemirror_mode": {
    "name": "ipython",
    "version": 3
   },
   "file_extension": ".py",
   "mimetype": "text/x-python",
   "name": "python",
   "nbconvert_exporter": "python",
   "pygments_lexer": "ipython3",
   "version": "3.9.9"
  },
  "orig_nbformat": 4
 },
 "nbformat": 4,
 "nbformat_minor": 2
}

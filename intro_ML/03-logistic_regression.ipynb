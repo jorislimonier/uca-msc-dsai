{
 "cells": [
  {
   "cell_type": "markdown",
   "metadata": {
    "id": "HvIHTymhYUOv"
   },
   "source": [
    "# TP logistic regression\n",
    "Diane Lingrand (diane.lingrand@univ-cotedazur)\n",
    "\n",
    "Septembre 2021"
   ]
  },
  {
   "cell_type": "markdown",
   "metadata": {
    "id": "SA2OBQe6YUO1"
   },
   "source": [
    "Documentation:\n",
    "https://scikit-learn.org/stable/modules/generated/sklearn.linear_model.LogisticRegression.html#sklearn.linear_model.LogisticRegression\n"
   ]
  },
  {
   "cell_type": "code",
   "execution_count": 1,
   "metadata": {
    "ExecuteTime": {
     "end_time": "2021-10-18T08:46:37.115111Z",
     "start_time": "2021-10-18T08:46:33.306513Z"
    },
    "id": "HYFArtcZYUO3"
   },
   "outputs": [],
   "source": [
    "#necessary imports\n",
    "import time\n",
    "import matplotlib.pyplot as plt\n",
    "import numpy as np\n",
    "from sklearn.linear_model import LogisticRegression\n",
    "from sklearn.metrics import confusion_matrix, plot_confusion_matrix, f1_score"
   ]
  },
  {
   "cell_type": "markdown",
   "metadata": {
    "id": "6DHinIeTYUO6"
   },
   "source": [
    "## dataset: Iris"
   ]
  },
  {
   "cell_type": "code",
   "execution_count": 2,
   "metadata": {
    "ExecuteTime": {
     "end_time": "2021-10-18T08:46:39.416711Z",
     "start_time": "2021-10-18T08:46:39.219710Z"
    },
    "id": "ED-RRUKsYUO8"
   },
   "outputs": [],
   "source": [
    "# loading the dataset\n",
    "from sklearn import datasets\n",
    "iris = datasets.load_iris()\n",
    "X = iris.data\n",
    "y = iris.target"
   ]
  },
  {
   "cell_type": "code",
   "execution_count": 3,
   "metadata": {
    "ExecuteTime": {
     "end_time": "2021-10-18T08:47:00.813765Z",
     "start_time": "2021-10-18T08:47:00.810656Z"
    },
    "id": "MkFMF3AgYUO8"
   },
   "outputs": [],
   "source": [
    "# split into train and test datasets\n",
    "from sklearn.model_selection import train_test_split\n",
    "X_train, X_test, y_train, y_test = train_test_split(X, y, test_size=0.4)"
   ]
  },
  {
   "cell_type": "code",
   "execution_count": 4,
   "metadata": {
    "ExecuteTime": {
     "end_time": "2021-10-18T08:47:10.954752Z",
     "start_time": "2021-10-18T08:47:10.950939Z"
    },
    "colab": {
     "base_uri": "https://localhost:8080/"
    },
    "id": "z-RaO0j2YUO9",
    "outputId": "8703d1d4-85c1-47d1-b448-b608a11e3c86"
   },
   "outputs": [
    {
     "name": "stdout",
     "output_type": "stream",
     "text": [
      "train:  [2 0 1 1 1 0 0 0 0 2 2 0 1 2 2 2 0 1 0 0 2 0 2 2 2 0 0 2 2 0 0 0 1 2 0 1 1\n",
      " 1 1 1 1 0 1 2 0 0 1 2 1 1 2 2 0 1 2 2 0 2 0 2 1 2 1 2 0 2 0 1 1 1 2 0 1 1\n",
      " 2 2 0 0 0 2 2 1 0 1 2 1 1 1 2 2]\n",
      "test:  [0 0 0 2 0 0 0 0 0 2 2 2 2 1 1 1 1 1 0 1 2 2 0 0 0 2 0 0 0 1 1 2 2 2 0 2 1\n",
      " 2 1 1 0 1 1 1 0 1 1 2 0 1 0 1 1 1 0 2 2 2 1 2]\n"
     ]
    }
   ],
   "source": [
    "print(\"train: \", y_train)\n",
    "print(\"test: \", y_test)"
   ]
  },
  {
   "cell_type": "markdown",
   "metadata": {
    "id": "6KMsO37jYUO-"
   },
   "source": [
    "### classification of only 2 classes"
   ]
  },
  {
   "cell_type": "code",
   "execution_count": 5,
   "metadata": {
    "ExecuteTime": {
     "end_time": "2021-10-18T08:48:10.210241Z",
     "start_time": "2021-10-18T08:48:10.206601Z"
    },
    "id": "30lwkHu6YUO_"
   },
   "outputs": [],
   "source": [
    "# we choose to remove class with label 2 (Iris Virginica)\n",
    "X_trainBinaire = X_train[y_train!=2]\n",
    "y_trainBinaire = y_train[y_train!=2]\n",
    "X_testBinaire = X_test[y_test!=2]\n",
    "y_testBinaire = y_test[y_test!=2]\n"
   ]
  },
  {
   "cell_type": "code",
   "execution_count": 6,
   "metadata": {
    "ExecuteTime": {
     "end_time": "2021-10-18T08:48:14.381748Z",
     "start_time": "2021-10-18T08:48:14.377594Z"
    },
    "colab": {
     "base_uri": "https://localhost:8080/"
    },
    "id": "MypO_3K3YUPA",
    "outputId": "af525d6d-b6c9-41c1-fb40-f2d2ba173d05"
   },
   "outputs": [
    {
     "name": "stdout",
     "output_type": "stream",
     "text": [
      "train:  [0 1 1 1 0 0 0 0 0 1 0 1 0 0 0 0 0 0 0 0 1 0 1 1 1 1 1 1 0 1 0 0 1 1 1 0 1\n",
      " 0 0 1 1 0 0 1 1 1 0 1 1 0 0 0 1 0 1 1 1 1]\n",
      "test:  [0 0 0 0 0 0 0 0 1 1 1 1 1 0 1 0 0 0 0 0 0 1 1 0 1 1 1 0 1 1 1 0 1 1 0 1 0\n",
      " 1 1 1 0 1]\n"
     ]
    }
   ],
   "source": [
    "# verification that we have binary labels for only 2 classes\n",
    "print(\"train: \", y_trainBinaire)\n",
    "print(\"test: \", y_testBinaire)"
   ]
  },
  {
   "cell_type": "code",
   "execution_count": 7,
   "metadata": {
    "ExecuteTime": {
     "end_time": "2021-10-18T08:48:46.604072Z",
     "start_time": "2021-10-18T08:48:46.512654Z"
    },
    "colab": {
     "base_uri": "https://localhost:8080/"
    },
    "id": "fVYU1-KgYUPC",
    "outputId": "703edd11-e433-480c-a395-2b45dc9f3341"
   },
   "outputs": [
    {
     "name": "stdout",
     "output_type": "stream",
     "text": [
      "learning done in 0.02 seconds\n"
     ]
    }
   ],
   "source": [
    "#default constructor\n",
    "myRegLogBin = LogisticRegression()\n",
    "#learning\n",
    "time_start = time.perf_counter()\n",
    "myRegLogBin.fit(X_trainBinaire,y_trainBinaire)\n",
    "time_elapsed = (time.perf_counter()-time_start)\n",
    "print(\"learning done in %.2f seconds\" %(time_elapsed))"
   ]
  },
  {
   "cell_type": "code",
   "execution_count": 8,
   "metadata": {
    "ExecuteTime": {
     "end_time": "2021-10-18T08:49:45.407149Z",
     "start_time": "2021-10-18T08:49:45.240219Z"
    },
    "colab": {
     "base_uri": "https://localhost:8080/",
     "height": 312
    },
    "id": "Lp4rYCJrYUPC",
    "outputId": "27af1bb1-b197-4a38-c321-acd26efd53ae"
   },
   "outputs": [
    {
     "name": "stdout",
     "output_type": "stream",
     "text": [
      "F1 score :  1.0\n"
     ]
    },
    {
     "data": {
      "image/png": "[encoded data removed]",
      "text/plain": [
       "<Figure size 432x288 with 2 Axes>"
      ]
     },
     "metadata": {
      "needs_background": "light"
     },
     "output_type": "display_data"
    }
   ],
   "source": [
    "#test performances\n",
    "y_predBinaire = myRegLogBin.predict(X_testBinaire)\n",
    "\n",
    "disp = plot_confusion_matrix(myRegLogBin, X_testBinaire, y_testBinaire,\n",
    "                                 display_labels=list(iris.target_names)[0:2],\n",
    "                                 cmap=plt.cm.Blues,\n",
    "                                 normalize=None)\n",
    "disp.ax_.set_title('Confusion matrix')\n",
    "print(\"F1 score : \", f1_score(y_predBinaire,y_testBinaire))"
   ]
  },
  {
   "cell_type": "markdown",
   "metadata": {
    "id": "8RuhaaiVYUPC"
   },
   "source": [
    "### classification of all classes"
   ]
  },
  {
   "cell_type": "code",
   "execution_count": 9,
   "metadata": {
    "ExecuteTime": {
     "end_time": "2021-10-18T08:51:36.512431Z",
     "start_time": "2021-10-18T08:51:36.463583Z"
    },
    "colab": {
     "base_uri": "https://localhost:8080/"
    },
    "id": "1v_VJ_lnYUPE",
    "outputId": "658c6fb6-f737-4fa7-d97b-8ab76daef6e9"
   },
   "outputs": [
    {
     "name": "stdout",
     "output_type": "stream",
     "text": [
      "learning done in 0.07 seconds\n"
     ]
    }
   ],
   "source": [
    "#default constructor\n",
    "myRegLog = LogisticRegression(max_iter=200)\n",
    "#learning\n",
    "time_start = time.perf_counter()\n",
    "myRegLog.fit(X_train,y_train)\n",
    "time_elapsed = (time.perf_counter()-time_start)\n",
    "print(\"learning done in %.2f seconds\" %(time_elapsed))"
   ]
  },
  {
   "cell_type": "code",
   "execution_count": 10,
   "metadata": {
    "ExecuteTime": {
     "end_time": "2021-10-18T08:51:55.856898Z",
     "start_time": "2021-10-18T08:51:55.668593Z"
    },
    "colab": {
     "base_uri": "https://localhost:8080/",
     "height": 312
    },
    "id": "uTQ_bsUJYUPF",
    "outputId": "11b743de-d23d-44d8-f46b-c5be58a7198b"
   },
   "outputs": [
    {
     "name": "stdout",
     "output_type": "stream",
     "text": [
      "F1 score :  [1.         0.97560976 0.97297297]\n"
     ]
    },
    {
     "data": {
      "image/png": "[encoded data removed]",
      "text/plain": [
       "<Figure size 432x288 with 2 Axes>"
      ]
     },
     "metadata": {
      "needs_background": "light"
     },
     "output_type": "display_data"
    }
   ],
   "source": [
    "#test performances\n",
    "y_pred = myRegLog.predict(X_test)\n",
    "\n",
    "disp = plot_confusion_matrix(myRegLog, X_test, y_test,\n",
    "                                 display_labels=list(iris.target_names),\n",
    "                                 cmap=plt.cm.Blues,\n",
    "                                 normalize=None)\n",
    "disp.ax_.set_title('Confusion matrix')\n",
    "print(\"F1 score : \", f1_score(y_pred,y_test,average=None))"
   ]
  },
  {
   "cell_type": "markdown",
   "metadata": {
    "id": "oZdgfwNuYUPG"
   },
   "source": [
    "## dataset: MNIST"
   ]
  },
  {
   "cell_type": "code",
   "execution_count": 11,
   "metadata": {
    "ExecuteTime": {
     "end_time": "2021-10-18T08:54:56.194845Z",
     "start_time": "2021-10-18T08:54:56.190851Z"
    },
    "id": "7V5rQrqcYUPG"
   },
   "outputs": [],
   "source": [
    "#necessary imports\n",
    "import time\n",
    "import matplotlib.pyplot as plt\n",
    "import numpy as np\n",
    "from sklearn.linear_model import LogisticRegression\n",
    "from sklearn.metrics import confusion_matrix, plot_confusion_matrix, f1_score"
   ]
  },
  {
   "cell_type": "code",
   "execution_count": 12,
   "metadata": {
    "ExecuteTime": {
     "end_time": "2021-10-18T08:55:08.159553Z",
     "start_time": "2021-10-18T08:54:58.521235Z"
    },
    "colab": {
     "base_uri": "https://localhost:8080/"
    },
    "id": "_K5b8iswYUPH",
    "outputId": "6d423c44-d5d4-4466-c081-36b74dfa79b0"
   },
   "outputs": [
    {
     "name": "stderr",
     "output_type": "stream",
     "text": [
      "2021-10-18 11:58:38.072627: W tensorflow/stream_executor/platform/default/dso_loader.cc:64] Could not load dynamic library 'libcudart.so.11.0'; dlerror: libcudart.so.11.0: cannot open shared object file: No such file or directory\n",
      "2021-10-18 11:58:38.072657: I tensorflow/stream_executor/cuda/cudart_stub.cc:29] Ignore above cudart dlerror if you do not have a GPU set up on your machine.\n"
     ]
    }
   ],
   "source": [
    "# reading the dataset\n",
    "from tensorflow.keras.datasets import mnist\n",
    "(x_train, y_train), (x_test, y_test) = mnist.load_data()\n",
    "x_train = x_train/255.0\n",
    "x_test = x_test/255.0"
   ]
  },
  {
   "cell_type": "code",
   "execution_count": 13,
   "metadata": {
    "ExecuteTime": {
     "end_time": "2021-10-18T08:55:39.329320Z",
     "start_time": "2021-10-18T08:55:39.182385Z"
    },
    "colab": {
     "base_uri": "https://localhost:8080/",
     "height": 282
    },
    "id": "P_03Rr3MYUPH",
    "outputId": "507c7ab0-858b-4bb2-baa3-95497cfd4160"
   },
   "outputs": [
    {
     "data": {
      "image/png": "[encoded data removed]",
      "text/plain": [
       "<Figure size 432x288 with 1 Axes>"
      ]
     },
     "metadata": {
      "needs_background": "light"
     },
     "output_type": "display_data"
    },
    {
     "name": "stdout",
     "output_type": "stream",
     "text": [
      "1\n"
     ]
    }
   ],
   "source": [
    "#display one of the pictures (the 11th in this code)\n",
    "import matplotlib.pyplot as plt\n",
    "i = 134#index of the image: change it in order to display other images\n",
    "plt.imshow(x_train[i],aspect=\"auto\",cmap='gray')\n",
    "plt.show()\n",
    "print(y_train[i])"
   ]
  },
  {
   "cell_type": "code",
   "execution_count": 14,
   "metadata": {
    "ExecuteTime": {
     "end_time": "2021-10-18T08:58:38.325630Z",
     "start_time": "2021-10-18T08:58:38.322103Z"
    }
   },
   "outputs": [
    {
     "name": "stdout",
     "output_type": "stream",
     "text": [
      "(60000, 28, 28)\n"
     ]
    }
   ],
   "source": [
    "print(x_train.shape)"
   ]
  },
  {
   "cell_type": "code",
   "execution_count": 15,
   "metadata": {
    "ExecuteTime": {
     "end_time": "2021-10-18T08:58:04.733868Z",
     "start_time": "2021-10-18T08:58:04.378804Z"
    },
    "id": "gl8IBPeSYUPH"
   },
   "outputs": [],
   "source": [
    "# case of binary classification: we choose 4 and 8 / coats and bags\n",
    "\n",
    "# you can change the classes\n",
    "class1 = 4 #negative class '4' ('coats')\n",
    "class2 = 8 #positive class '8'('bags')\n",
    "nameClass1 = '4'\n",
    "nameClass2 = '8'\n",
    "mesClassesTrain = (y_train==class1)|(y_train==class2)\n",
    "mesClassesTest = (y_test==class1)|(y_test==class2)\n",
    "\n",
    "## TRAIN\n",
    "x_trainBinaire = np.array(x_train[mesClassesTrain,:])\n",
    "y_trainBinaire = np.array((y_train[mesClassesTrain]-class1)/(class2-class1))\n",
    "\n",
    "## TEST\n",
    "x_testBinaire = np.array(x_test[mesClassesTest,:])\n",
    "y_testBinaire = np.array((y_test[mesClassesTest]-class1)/(class2-class1))"
   ]
  },
  {
   "cell_type": "code",
   "execution_count": 16,
   "metadata": {
    "ExecuteTime": {
     "end_time": "2021-10-18T08:59:21.105700Z",
     "start_time": "2021-10-18T08:59:21.102546Z"
    },
    "id": "pLJmMH_WYUPI"
   },
   "outputs": [],
   "source": [
    "# reshaping the data (a 2d image is transformed to a 1d array)\n",
    "#train\n",
    "n = x_trainBinaire.shape[0]\n",
    "x_trainBinaireLin = x_trainBinaire.reshape(n,-1)\n",
    "#test\n",
    "n = x_testBinaire.shape[0]\n",
    "x_testBinaireLin = x_testBinaire.reshape(n,-1)"
   ]
  },
  {
   "cell_type": "code",
   "execution_count": 17,
   "metadata": {
    "ExecuteTime": {
     "end_time": "2021-10-18T09:01:01.497335Z",
     "start_time": "2021-10-18T09:00:59.276978Z"
    },
    "colab": {
     "base_uri": "https://localhost:8080/"
    },
    "id": "M9CXjPJrYUPI",
    "outputId": "93107120-ed57-4f13-c28a-112816c33044"
   },
   "outputs": [
    {
     "name": "stdout",
     "output_type": "stream",
     "text": [
      "learning done in 3.53 seconds\n"
     ]
    },
    {
     "name": "stderr",
     "output_type": "stream",
     "text": [
      "/home/joris/.local/lib/python3.9/site-packages/sklearn/linear_model/_logistic.py:763: ConvergenceWarning: lbfgs failed to converge (status=1):\n",
      "STOP: TOTAL NO. of ITERATIONS REACHED LIMIT.\n",
      "\n",
      "Increase the number of iterations (max_iter) or scale the data as shown in:\n",
      "    https://scikit-learn.org/stable/modules/preprocessing.html\n",
      "Please also refer to the documentation for alternative solver options:\n",
      "    https://scikit-learn.org/stable/modules/linear_model.html#logistic-regression\n",
      "  n_iter_i = _check_optimize_result(\n"
     ]
    }
   ],
   "source": [
    "#default constructor\n",
    "myRegLog = LogisticRegression() #max_iter=200)\n",
    "#learning\n",
    "time_start = time.perf_counter()\n",
    "myRegLog.fit(x_trainBinaireLin,y_trainBinaire)\n",
    "time_elapsed = (time.perf_counter()-time_start)\n",
    "print(\"learning done in %.2f seconds\" %(time_elapsed))"
   ]
  },
  {
   "cell_type": "code",
   "execution_count": 18,
   "metadata": {
    "ExecuteTime": {
     "end_time": "2021-10-18T08:59:40.780929Z",
     "start_time": "2021-10-18T08:59:40.777658Z"
    }
   },
   "outputs": [
    {
     "name": "stdout",
     "output_type": "stream",
     "text": [
      "(11693, 784)\n"
     ]
    }
   ],
   "source": [
    "print(x_trainBinaireLin.shape)"
   ]
  },
  {
   "cell_type": "markdown",
   "metadata": {
    "id": "e9ok06UwYUPJ"
   },
   "source": [
    "You may read an error message. What does it mean? However, it is possible to measure the performance of the learned classification method."
   ]
  },
  {
   "cell_type": "code",
   "execution_count": 19,
   "metadata": {
    "ExecuteTime": {
     "end_time": "2021-10-18T09:00:29.658843Z",
     "start_time": "2021-10-18T09:00:29.454956Z"
    },
    "colab": {
     "base_uri": "https://localhost:8080/",
     "height": 312
    },
    "id": "UeOqnWmMYUPJ",
    "outputId": "839bfe67-862b-411f-cd5c-b147f2956e65",
    "scrolled": true
   },
   "outputs": [
    {
     "name": "stdout",
     "output_type": "stream",
     "text": [
      "F1 score :  0.9927760577915377\n"
     ]
    },
    {
     "data": {
      "image/png": "[encoded data removed]",
      "text/plain": [
       "<Figure size 432x288 with 2 Axes>"
      ]
     },
     "metadata": {
      "needs_background": "light"
     },
     "output_type": "display_data"
    }
   ],
   "source": [
    "y_predBinaireTest = myRegLog.predict(x_testBinaireLin)\n",
    "\n",
    "disp = plot_confusion_matrix(myRegLog, x_testBinaireLin, y_testBinaire,\n",
    "                                 display_labels=[nameClass1,nameClass2],\n",
    "                                 cmap=plt.cm.Blues,\n",
    "                                 normalize=None)\n",
    "disp.ax_.set_title('Confusion matrix')\n",
    "print(\"F1 score : \", f1_score(y_predBinaireTest,y_testBinaire))"
   ]
  },
  {
   "cell_type": "markdown",
   "metadata": {
    "id": "4asifZH-YUPK"
   },
   "source": [
    "The logistic regression has been build with default parameters. Follow the recommandation and try different hints:\n",
    "- algorithm terminaison: max number of iterations, ....\n",
    "- data preprocessing: standardisation YES\n",
    "- solver (liblinear, sag, saga, ...)\n",
    "- regularisation\n",
    "\n",
    "Did you get better results ? Did some converge faster ?"
   ]
  },
  {
   "cell_type": "markdown",
   "metadata": {
    "heading_collapsed": true,
    "id": "_S7Tv3tlYUPK"
   },
   "source": [
    "## The whole dataset with the 10 classes"
   ]
  },
  {
   "cell_type": "code",
   "execution_count": 20,
   "metadata": {
    "hidden": true,
    "id": "wrZerMW_YUPL"
   },
   "outputs": [],
   "source": [
    "# your turn!\n",
    "# reshaping the data (a 2d image is transformed to a 1d array)\n",
    "#train\n",
    "n = x_train.shape[0]\n",
    "x_trainLin = x_train.reshape(n,-1)\n",
    "#test\n",
    "n = x_test.shape[0]\n",
    "x_testLin = x_test.reshape(n,-1)"
   ]
  },
  {
   "cell_type": "code",
   "execution_count": 21,
   "metadata": {
    "colab": {
     "background_save": true
    },
    "hidden": true,
    "id": "YxWZelFzYUPL",
    "outputId": "ecbd2146-4c8f-44e7-bde7-e63d4c5156c6"
   },
   "outputs": [
    {
     "name": "stdout",
     "output_type": "stream",
     "text": [
      "learning done in 18.38 seconds\n"
     ]
    },
    {
     "name": "stderr",
     "output_type": "stream",
     "text": [
      "/home/joris/.local/lib/python3.9/site-packages/sklearn/linear_model/_sag.py:328: ConvergenceWarning: The max_iter was reached which means the coef_ did not converge\n",
      "  warnings.warn(\"The max_iter was reached which means \"\n"
     ]
    }
   ],
   "source": [
    "#default constructor\n",
    "myRegLog = LogisticRegression(solver='saga',max_iter=4)\n",
    "#learning\n",
    "time_start = time.perf_counter()\n",
    "myRegLog.fit(x_trainLin,y_train)\n",
    "time_elapsed = (time.perf_counter()-time_start)\n",
    "print(\"learning done in %.2f seconds\" %(time_elapsed))"
   ]
  },
  {
   "cell_type": "code",
   "execution_count": 22,
   "metadata": {
    "colab": {
     "base_uri": "https://localhost:8080/",
     "height": 330
    },
    "hidden": true,
    "id": "g81KND_ZYUPM",
    "outputId": "486632c7-824f-4278-cbbd-b0057543bc90"
   },
   "outputs": [
    {
     "name": "stdout",
     "output_type": "stream",
     "text": [
      "F1 score :  [0.96534405 0.97240473 0.91179386 0.90792713 0.92759494 0.88645533\n",
      " 0.94202899 0.92285298 0.88142494 0.90691887]\n"
     ]
    },
    {
     "data": {
      "image/png": "[encoded data removed]",
      "text/plain": [
       "<Figure size 432x288 with 2 Axes>"
      ]
     },
     "metadata": {
      "needs_background": "light"
     },
     "output_type": "display_data"
    }
   ],
   "source": [
    "y_predTest = myRegLog.predict(x_testLin)\n",
    "\n",
    "disp = plot_confusion_matrix(myRegLog, x_testLin, y_test,\n",
    "                                 display_labels=['0','1','2','3','4','5','6', '7', '8', '9'],\n",
    "                                 cmap=plt.cm.Blues,\n",
    "                                 normalize=None)\n",
    "disp.ax_.set_title('Confusion matrix')\n",
    "print(\"F1 score : \", f1_score(y_predTest,y_test, average=None))"
   ]
  },
  {
   "cell_type": "markdown",
   "metadata": {
    "heading_collapsed": true,
    "id": "u-TseH-9YUPM"
   },
   "source": [
    "## Do you obtain the same results with FMNIST ? (fashion MNIST)"
   ]
  },
  {
   "cell_type": "code",
   "execution_count": null,
   "metadata": {
    "hidden": true,
    "id": "aJLpW5e2YUPM"
   },
   "outputs": [],
   "source": [
    "# your turn!\n",
    "from tensorflow.keras.datasets import fashion_mnist\n",
    "(x_train, y_train), (x_test, y_test) = fashion_mnist.load_data()"
   ]
  }
 ],
 "metadata": {
  "colab": {
   "name": "Copy of TPlogisticRegression.ipynb",
   "provenance": []
  },
  "hide_input": false,
  "interpreter": {
   "hash": "f9f85f796d01129d0dd105a088854619f454435301f6ffec2fea96ecbd9be4ac"
  },
  "kernelspec": {
   "display_name": "Python 3.9.7 64-bit",
   "name": "python3"
  },
  "language_info": {
   "codemirror_mode": {
    "name": "ipython",
    "version": 3
   },
   "file_extension": ".py",
   "mimetype": "text/x-python",
   "name": "python",
   "nbconvert_exporter": "python",
   "pygments_lexer": "ipython3",
   "version": "3.9.7"
  },
  "latex_envs": {
   "LaTeX_envs_menu_present": true,
   "autoclose": false,
   "autocomplete": true,
   "bibliofile": "biblio.bib",
   "cite_by": "apalike",
   "current_citInitial": 1,
   "eqLabelWithNumbers": true,
   "eqNumInitial": 1,
   "hotkeys": {
    "equation": "Ctrl-E",
    "itemize": "Ctrl-I"
   },
   "labels_anchors": false,
   "latex_user_defs": false,
   "report_style_numbering": false,
   "user_envs_cfg": false
  },
  "varInspector": {
   "cols": {
    "lenName": 16,
    "lenType": 16,
    "lenVar": 40
   },
   "kernels_config": {
    "python": {
     "delete_cmd_postfix": "",
     "delete_cmd_prefix": "del ",
     "library": "var_list.py",
     "varRefreshCmd": "print(var_dic_list())"
    },
    "r": {
     "delete_cmd_postfix": ") ",
     "delete_cmd_prefix": "rm(",
     "library": "var_list.r",
     "varRefreshCmd": "cat(var_dic_list()) "
    }
   },
   "types_to_exclude": [
    "module",
    "function",
    "builtin_function_or_method",
    "instance",
    "_Feature"
   ],
   "window_display": false
  }
 },
 "nbformat": 4,
 "nbformat_minor": 1
}

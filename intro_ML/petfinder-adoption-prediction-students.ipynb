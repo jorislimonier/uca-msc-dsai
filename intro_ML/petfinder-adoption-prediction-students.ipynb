{
 "cells": [
  {
   "cell_type": "markdown",
   "metadata": {},
   "source": [
    "# Adopt a Pet\n",
    "\n",
    "You are in charge of an animal shelter and you want to predict if the animals you have in your possession can be adopted within 30 days or not.\n",
    "\n",
    "The dataset at your disposal contains different information about the animals in the shelter: data about the breed or color, data about a cost, data about its health. You even have a short description written by the former owner and a picture of the animal.\n",
    "\n",
    "We provide you only with the train part and a small test subset so that you can test the whole process."
   ]
  },
  {
   "cell_type": "markdown",
   "metadata": {},
   "source": [
    "<div class=\"alert-block alert-danger\">\n",
    "Deadline: Jannuary 15, 2022.\n",
    "<br>\n",
    "<br>\n",
    "You must submit a zip archive to LMS that contains 3 documents:\n",
    "\n",
    "- A pdf report that outlines the various stages of your work. You will insist on the different hyperparameters of your treatment and for each of them, you will specify on which ranges of values you have tested them. This report will also contain the precision obtained on the train set and on the test set.\n",
    "\n",
    "- the executable notebook containing only the chosen hyper-parameters and not their research. You will leave in this one the execution traces.\n",
    "\n",
    "- A \".joblib\" file so that we can execute your code. Of course, the test dataset will be modified and only the predict function of the pipeline will be executed.\n",
    "<br>\n",
    "<br> \n",
    "The final grade will be based on the quality of the prediction (accuracy score) for 25% and the quality of the work for 75%.\n",
    "</div>"
   ]
  },
  {
   "cell_type": "markdown",
   "metadata": {
    "toc": true
   },
   "source": [
    "<h1>Table of Contents<span class=\"tocSkip\"></span></h1>\n",
    "<div class=\"toc\"><ul class=\"toc-item\"><li><span><a href=\"#Load-train-data\" data-toc-modified-id=\"Load-train-data-1\"><span class=\"toc-item-num\">1&nbsp;&nbsp;</span>Load train data</a></span><ul class=\"toc-item\"><li><span><a href=\"#Load-the-images\" data-toc-modified-id=\"Load-the-images-1.1\"><span class=\"toc-item-num\">1.1&nbsp;&nbsp;</span>Load the images</a></span></li><li><span><a href=\"#Compute-SIFT-detector-and-descriptors-for-one-image\" data-toc-modified-id=\"Compute-SIFT-detector-and-descriptors-for-one-image-1.2\"><span class=\"toc-item-num\">1.2&nbsp;&nbsp;</span>Compute SIFT detector and descriptors for one image</a></span></li><li><span><a href=\"#Extract-features-and-build-BOFs\" data-toc-modified-id=\"Extract-features-and-build-BOFs-1.3\"><span class=\"toc-item-num\">1.3&nbsp;&nbsp;</span>Extract features and build BOFs</a></span></li></ul></li><li><span><a href=\"#Build-a-basic-model\" data-toc-modified-id=\"Build-a-basic-model-2\"><span class=\"toc-item-num\">2&nbsp;&nbsp;</span>Build a basic model</a></span></li><li><span><a href=\"#Evaluation-of-the-model\" data-toc-modified-id=\"Evaluation-of-the-model-3\"><span class=\"toc-item-num\">3&nbsp;&nbsp;</span>Evaluation of the model</a></span></li></ul></div>"
   ]
  },
  {
   "cell_type": "code",
   "execution_count": 1,
   "metadata": {
    "ExecuteTime": {
     "end_time": "2021-11-15T13:05:04.746841Z",
     "start_time": "2021-11-15T13:05:04.738365Z"
    }
   },
   "outputs": [],
   "source": [
    "import os\n",
    "from tqdm import tqdm\n",
    "\n",
    "import warnings\n",
    "warnings.filterwarnings(\"ignore\")\n",
    "\n",
    "import ssl\n",
    "ssl._create_default_https_context = ssl._create_unverified_context"
   ]
  },
  {
   "cell_type": "code",
   "execution_count": 2,
   "metadata": {
    "ExecuteTime": {
     "end_time": "2021-11-15T13:05:04.862293Z",
     "start_time": "2021-11-15T13:05:04.856630Z"
    }
   },
   "outputs": [],
   "source": [
    "import numpy as np \n",
    "import pandas as pd \n",
    "\n",
    "import matplotlib.pyplot as plt\n",
    "%matplotlib inline"
   ]
  },
  {
   "cell_type": "markdown",
   "metadata": {},
   "source": [
    "## Load train data"
   ]
  },
  {
   "cell_type": "code",
   "execution_count": 3,
   "metadata": {
    "ExecuteTime": {
     "end_time": "2021-11-15T13:05:05.296448Z",
     "start_time": "2021-11-15T13:05:05.293560Z"
    }
   },
   "outputs": [],
   "source": [
    "path = \"https://www.i3s.unice.fr/~riveill/dataset/petfinder-adoption-prediction/\""
   ]
  },
  {
   "cell_type": "code",
   "execution_count": 4,
   "metadata": {
    "ExecuteTime": {
     "end_time": "2021-11-15T13:05:05.899849Z",
     "start_time": "2021-11-15T13:05:05.414280Z"
    },
    "_cell_guid": "79c7e3d0-c299-4dcb-8224-4455121ee9b0",
    "_kg_hide-input": true,
    "_uuid": "d629ff2d2480ee46fbb7e2d37f6b5fab8052498a"
   },
   "outputs": [],
   "source": [
    "breeds = pd.read_csv(path+'breed_labels.csv')\n",
    "colors = pd.read_csv(path+'color_labels.csv')\n",
    "states = pd.read_csv(path+'state_labels.csv')\n",
    "\n",
    "train = pd.read_csv(path+'train.csv')\n",
    "\n",
    "train['dataset_type'] = 'train'"
   ]
  },
  {
   "cell_type": "code",
   "execution_count": 5,
   "metadata": {
    "ExecuteTime": {
     "end_time": "2021-11-15T13:05:05.911843Z",
     "start_time": "2021-11-15T13:05:05.902603Z"
    }
   },
   "outputs": [
    {
     "data": {
      "text/plain": [
       "8168"
      ]
     },
     "execution_count": 5,
     "metadata": {},
     "output_type": "execute_result"
    }
   ],
   "source": [
    "len(train)"
   ]
  },
  {
   "cell_type": "code",
   "execution_count": 6,
   "metadata": {
    "ExecuteTime": {
     "end_time": "2021-11-15T13:05:05.918717Z",
     "start_time": "2021-11-15T13:05:05.915427Z"
    }
   },
   "outputs": [],
   "source": [
    "# In this example notebook, we will only work with a small part of the dataset\n",
    "N = 10\n",
    "train = train[:N]"
   ]
  },
  {
   "cell_type": "code",
   "execution_count": 7,
   "metadata": {
    "ExecuteTime": {
     "end_time": "2021-11-15T13:05:05.931456Z",
     "start_time": "2021-11-15T13:05:05.924084Z"
    }
   },
   "outputs": [
    {
     "data": {
      "text/plain": [
       "Index(['Type', 'Age', 'Gender', 'Color1', 'Color2', 'Color3', 'MaturitySize',\n",
       "       'FurLength', 'Vaccinated', 'Dewormed', 'Sterilized', 'Health', 'Fee',\n",
       "       'Description', 'Images', 'Breed', 'target'],\n",
       "      dtype='object')"
      ]
     },
     "execution_count": 7,
     "metadata": {},
     "output_type": "execute_result"
    }
   ],
   "source": [
    "if 'dataset_type' in train.columns:\n",
    "    train = train.drop(labels='dataset_type', axis=1)\n",
    "train.columns"
   ]
  },
  {
   "cell_type": "code",
   "execution_count": 8,
   "metadata": {
    "ExecuteTime": {
     "end_time": "2021-11-15T13:05:05.960036Z",
     "start_time": "2021-11-15T13:05:05.933536Z"
    }
   },
   "outputs": [
    {
     "data": {
      "text/html": [
       "<div>\n",
       "<style scoped>\n",
       "    .dataframe tbody tr th:only-of-type {\n",
       "        vertical-align: middle;\n",
       "    }\n",
       "\n",
       "    .dataframe tbody tr th {\n",
       "        vertical-align: top;\n",
       "    }\n",
       "\n",
       "    .dataframe thead th {\n",
       "        text-align: right;\n",
       "    }\n",
       "</style>\n",
       "<table border=\"1\" class=\"dataframe\">\n",
       "  <thead>\n",
       "    <tr style=\"text-align: right;\">\n",
       "      <th></th>\n",
       "      <th>Type</th>\n",
       "      <th>Age</th>\n",
       "      <th>Gender</th>\n",
       "      <th>Color1</th>\n",
       "      <th>Color2</th>\n",
       "      <th>Color3</th>\n",
       "      <th>MaturitySize</th>\n",
       "      <th>FurLength</th>\n",
       "      <th>Vaccinated</th>\n",
       "      <th>Dewormed</th>\n",
       "      <th>Sterilized</th>\n",
       "      <th>Health</th>\n",
       "      <th>Fee</th>\n",
       "      <th>Description</th>\n",
       "      <th>Images</th>\n",
       "      <th>Breed</th>\n",
       "    </tr>\n",
       "  </thead>\n",
       "  <tbody>\n",
       "    <tr>\n",
       "      <th>0</th>\n",
       "      <td>Cat</td>\n",
       "      <td>12.0</td>\n",
       "      <td>Female</td>\n",
       "      <td>White</td>\n",
       "      <td>Unknown</td>\n",
       "      <td>Unknown</td>\n",
       "      <td>Medium</td>\n",
       "      <td>Yes</td>\n",
       "      <td>Unknown</td>\n",
       "      <td>Unknown</td>\n",
       "      <td>Unknown</td>\n",
       "      <td>Healthy</td>\n",
       "      <td>0.0</td>\n",
       "      <td>We got Luna when she was a kitten in Feb 15'. ...</td>\n",
       "      <td>880e13787-4.jpg</td>\n",
       "      <td>Domestic_Short_Hair</td>\n",
       "    </tr>\n",
       "    <tr>\n",
       "      <th>1</th>\n",
       "      <td>Cat</td>\n",
       "      <td>4.0</td>\n",
       "      <td>Male</td>\n",
       "      <td>Golden</td>\n",
       "      <td>White</td>\n",
       "      <td>Unknown</td>\n",
       "      <td>Medium</td>\n",
       "      <td>Yes</td>\n",
       "      <td>No</td>\n",
       "      <td>Yes</td>\n",
       "      <td>No</td>\n",
       "      <td>Healthy</td>\n",
       "      <td>0.0</td>\n",
       "      <td>Ginger Boy was found starving and hungry so I ...</td>\n",
       "      <td>7abe9a0a1-2.jpg</td>\n",
       "      <td>Domestic_Short_Hair</td>\n",
       "    </tr>\n",
       "    <tr>\n",
       "      <th>2</th>\n",
       "      <td>Cat</td>\n",
       "      <td>12.0</td>\n",
       "      <td>Female</td>\n",
       "      <td>Black</td>\n",
       "      <td>Golden</td>\n",
       "      <td>White</td>\n",
       "      <td>Medium</td>\n",
       "      <td>No</td>\n",
       "      <td>No</td>\n",
       "      <td>No</td>\n",
       "      <td>No</td>\n",
       "      <td>Healthy</td>\n",
       "      <td>0.0</td>\n",
       "      <td>An indoor cat with nice green/ yellowish eyes....</td>\n",
       "      <td>605d07d33-5.jpg</td>\n",
       "      <td>Domestic_Medium_Hair</td>\n",
       "    </tr>\n",
       "    <tr>\n",
       "      <th>3</th>\n",
       "      <td>Dog</td>\n",
       "      <td>60.0</td>\n",
       "      <td>Male</td>\n",
       "      <td>Black</td>\n",
       "      <td>Gray</td>\n",
       "      <td>White</td>\n",
       "      <td>Medium</td>\n",
       "      <td>No</td>\n",
       "      <td>Yes</td>\n",
       "      <td>Unknown</td>\n",
       "      <td>Unknown</td>\n",
       "      <td>Healthy</td>\n",
       "      <td>0.0</td>\n",
       "      <td>My dog name called boo. He is a male. I feedin...</td>\n",
       "      <td>7ed568ab9-1.jpg</td>\n",
       "      <td>Schnauzer</td>\n",
       "    </tr>\n",
       "    <tr>\n",
       "      <th>4</th>\n",
       "      <td>Cat</td>\n",
       "      <td>36.0</td>\n",
       "      <td>Female</td>\n",
       "      <td>Cream</td>\n",
       "      <td>Gray</td>\n",
       "      <td>White</td>\n",
       "      <td>Large</td>\n",
       "      <td>No</td>\n",
       "      <td>No</td>\n",
       "      <td>No</td>\n",
       "      <td>Yes</td>\n",
       "      <td>Healthy</td>\n",
       "      <td>0.0</td>\n",
       "      <td>1) Foxy is a stray cat which I feed regularly,...</td>\n",
       "      <td>8969b314b-5.jpg</td>\n",
       "      <td>Siamese</td>\n",
       "    </tr>\n",
       "  </tbody>\n",
       "</table>\n",
       "</div>"
      ],
      "text/plain": [
       "  Type   Age  Gender  Color1   Color2   Color3 MaturitySize FurLength  \\\n",
       "0  Cat  12.0  Female   White  Unknown  Unknown       Medium       Yes   \n",
       "1  Cat   4.0    Male  Golden    White  Unknown       Medium       Yes   \n",
       "2  Cat  12.0  Female   Black   Golden    White       Medium        No   \n",
       "3  Dog  60.0    Male   Black     Gray    White       Medium        No   \n",
       "4  Cat  36.0  Female   Cream     Gray    White        Large        No   \n",
       "\n",
       "  Vaccinated Dewormed Sterilized   Health  Fee  \\\n",
       "0    Unknown  Unknown    Unknown  Healthy  0.0   \n",
       "1         No      Yes         No  Healthy  0.0   \n",
       "2         No       No         No  Healthy  0.0   \n",
       "3        Yes  Unknown    Unknown  Healthy  0.0   \n",
       "4         No       No        Yes  Healthy  0.0   \n",
       "\n",
       "                                         Description           Images  \\\n",
       "0  We got Luna when she was a kitten in Feb 15'. ...  880e13787-4.jpg   \n",
       "1  Ginger Boy was found starving and hungry so I ...  7abe9a0a1-2.jpg   \n",
       "2  An indoor cat with nice green/ yellowish eyes....  605d07d33-5.jpg   \n",
       "3  My dog name called boo. He is a male. I feedin...  7ed568ab9-1.jpg   \n",
       "4  1) Foxy is a stray cat which I feed regularly,...  8969b314b-5.jpg   \n",
       "\n",
       "                  Breed  \n",
       "0   Domestic_Short_Hair  \n",
       "1   Domestic_Short_Hair  \n",
       "2  Domestic_Medium_Hair  \n",
       "3             Schnauzer  \n",
       "4               Siamese  "
      ]
     },
     "execution_count": 8,
     "metadata": {},
     "output_type": "execute_result"
    }
   ],
   "source": [
    "y_train = train['target']\n",
    "X_train = train.drop(['target'], axis=1)\n",
    "X_train.head()"
   ]
  },
  {
   "cell_type": "code",
   "execution_count": 9,
   "metadata": {
    "ExecuteTime": {
     "end_time": "2021-11-15T13:05:06.158651Z",
     "start_time": "2021-11-15T13:05:06.149514Z"
    }
   },
   "outputs": [
    {
     "data": {
      "text/plain": [
       "0     True\n",
       "1    False\n",
       "2     True\n",
       "3    False\n",
       "4     True\n",
       "Name: target, dtype: bool"
      ]
     },
     "execution_count": 9,
     "metadata": {},
     "output_type": "execute_result"
    }
   ],
   "source": [
    "y_train.head()"
   ]
  },
  {
   "cell_type": "code",
   "execution_count": 10,
   "metadata": {
    "ExecuteTime": {
     "end_time": "2021-11-15T13:05:06.273666Z",
     "start_time": "2021-11-15T13:05:06.268299Z"
    },
    "_uuid": "a4841f7e73af45347802752d59556ea3e9d4523f"
   },
   "outputs": [],
   "source": [
    "cat_cols = ['Type', 'Gender', 'Breed', 'Color1', 'Color2', 'Color3', \n",
    "       'MaturitySize', 'FurLength', 'Vaccinated', 'Dewormed',\n",
    "       'Sterilized', 'Health']\n",
    "num_cols = ['Age', 'Fee']\n",
    "txt_cols = ['Description']\n",
    "img_cols = ['Images']"
   ]
  },
  {
   "cell_type": "markdown",
   "metadata": {},
   "source": [
    "### Load the images"
   ]
  },
  {
   "cell_type": "code",
   "execution_count": 11,
   "metadata": {
    "ExecuteTime": {
     "end_time": "2021-11-15T13:05:06.636382Z",
     "start_time": "2021-11-15T13:05:06.632428Z"
    }
   },
   "outputs": [],
   "source": [
    "# Build the image list of the training set \n",
    "img_dir = \"train_images/\"\n",
    "X_train['Images'] = [path+img_dir+img for img in train['Images']]"
   ]
  },
  {
   "cell_type": "code",
   "execution_count": 12,
   "metadata": {
    "ExecuteTime": {
     "end_time": "2021-11-15T13:05:07.114191Z",
     "start_time": "2021-11-15T13:05:06.743665Z"
    }
   },
   "outputs": [
    {
     "data": {
      "text/plain": [
       "<matplotlib.image.AxesImage at 0x7f96d7583cd0>"
      ]
     },
     "execution_count": 12,
     "metadata": {},
     "output_type": "execute_result"
    },
    {
     "data": {
      "image/png": "[encoded data removed]",
      "text/plain": [
       "<Figure size 432x288 with 1 Axes>"
      ]
     },
     "metadata": {
      "needs_background": "light"
     },
     "output_type": "display_data"
    }
   ],
   "source": [
    "from skimage import io\n",
    "\n",
    "# Read the first image of the list\n",
    "img = io.imread(X_train['Images'][0])\n",
    "# have a look to the image\n",
    "plt.imshow(img)"
   ]
  },
  {
   "cell_type": "markdown",
   "metadata": {},
   "source": [
    "### Compute SIFT detector and descriptors for one image"
   ]
  },
  {
   "cell_type": "code",
   "execution_count": 13,
   "metadata": {
    "ExecuteTime": {
     "end_time": "2021-11-15T13:05:07.303160Z",
     "start_time": "2021-11-15T13:05:07.116634Z"
    }
   },
   "outputs": [],
   "source": [
    "# convert the image to grey levels \n",
    "import cv2\n",
    "\n",
    "gray = cv2.cvtColor(img,cv2.COLOR_BGR2GRAY)"
   ]
  },
  {
   "cell_type": "code",
   "execution_count": 14,
   "metadata": {
    "ExecuteTime": {
     "end_time": "2021-11-15T13:05:07.382933Z",
     "start_time": "2021-11-15T13:05:07.306187Z"
    }
   },
   "outputs": [],
   "source": [
    "# compute SIFT detector and descriptors\n",
    "sift = cv2.SIFT_create()\n",
    "kp,des = sift.detectAndCompute(gray,None)"
   ]
  },
  {
   "cell_type": "code",
   "execution_count": 15,
   "metadata": {
    "ExecuteTime": {
     "end_time": "2021-11-15T13:05:07.660307Z",
     "start_time": "2021-11-15T13:05:07.385435Z"
    }
   },
   "outputs": [
    {
     "data": {
      "text/plain": [
       "<matplotlib.image.AxesImage at 0x7f96dbf8d790>"
      ]
     },
     "execution_count": 15,
     "metadata": {},
     "output_type": "execute_result"
    },
    {
     "data": {
      "image/png": "[encoded data removed]",
      "text/plain": [
       "<Figure size 432x288 with 1 Axes>"
      ]
     },
     "metadata": {
      "needs_background": "light"
     },
     "output_type": "display_data"
    }
   ],
   "source": [
    "# plot image and descriptors\n",
    "cv2.drawKeypoints(img,kp,img,flags=cv2.DRAW_MATCHES_FLAGS_DRAW_RICH_KEYPOINTS)\n",
    "plt.imshow(img)"
   ]
  },
  {
   "cell_type": "markdown",
   "metadata": {},
   "source": [
    "### Extract features and build BOFs"
   ]
  },
  {
   "cell_type": "code",
   "execution_count": 16,
   "metadata": {
    "ExecuteTime": {
     "end_time": "2021-11-15T13:05:07.748777Z",
     "start_time": "2021-11-15T13:05:07.743897Z"
    }
   },
   "outputs": [],
   "source": [
    "# First step, extract the SIFTs of each image\n",
    "# Be carefull: very long process\n",
    "\n",
    "def extract_SIFT(img_lst):\n",
    "    nbSIFTs = 0    # Nomber of SIFTs\n",
    "    SIFTs = []  # List of SIFTs descriptors \n",
    "    #dimImgs = []   # Nb of descriptors associated to each images\n",
    "\n",
    "    for pathImg in tqdm(img_lst, position=0, leave=True): \n",
    "        img = io.imread(pathImg)\n",
    "        if len(img.shape)==2: # this is a grey level image\n",
    "            gray = img\n",
    "        else: # we expect the image to be a RGB image or RGBA\n",
    "            gray = cv2.cvtColor(img, cv2.COLOR_BGR2GRAY)\n",
    "        sift = cv2.SIFT_create()\n",
    "        kp, des = sift.detectAndCompute(gray, None)\n",
    "        if len(kp) == 0 and img.shape[2]==4: #some images are mask on alpha channel: we thus extract this channel if not kpts have been detected\n",
    "            gray = img[:,:,3]\n",
    "            sift = cv2.SIFT_create()\n",
    "            kp, des = sift.detectAndCompute(gray, None)\n",
    "        \n",
    "        nbSIFTs += des.shape[0]\n",
    "        SIFTs.append(des)\n",
    "        #dimImgs.append(des.shape[0])\n",
    "    return nbSIFTs, SIFTs#, dimImgs"
   ]
  },
  {
   "cell_type": "code",
   "execution_count": 17,
   "metadata": {
    "ExecuteTime": {
     "end_time": "2021-11-15T13:05:08.547912Z",
     "start_time": "2021-11-15T13:05:07.861201Z"
    }
   },
   "outputs": [
    {
     "name": "stderr",
     "output_type": "stream",
     "text": [
      "100%|██████████| 10/10 [00:00<00:00, 15.12it/s]"
     ]
    },
    {
     "name": "stdout",
     "output_type": "stream",
     "text": [
      "nbSifts:  4179\n"
     ]
    },
    {
     "name": "stderr",
     "output_type": "stream",
     "text": [
      "\n"
     ]
    }
   ],
   "source": [
    "nbSIFTs, SIFTs = extract_SIFT(X_train['Images'])\n",
    "print('nbSifts: ', nbSIFTs)"
   ]
  },
  {
   "cell_type": "code",
   "execution_count": 18,
   "metadata": {
    "ExecuteTime": {
     "end_time": "2021-11-15T13:05:09.154440Z",
     "start_time": "2021-11-15T13:05:08.551482Z"
    }
   },
   "outputs": [],
   "source": [
    "# Step 2: clusterize the SIFT\n",
    "from sklearn.cluster import MiniBatchKMeans\n",
    "\n",
    "def clusterize(SIFTs, nb_img_features=5, verbose=False):\n",
    "    clusterizer = MiniBatchKMeans(n_clusters=nb_img_features)   # nb_img_features is a hyperparameter\n",
    "    # learning of the clustering\n",
    "    flat_list = SIFTs[0]\n",
    "    for des in SIFTs[1:]:\n",
    "        flat_list = np.concatenate((flat_list, des))\n",
    "        if verbose:\n",
    "            print(\"shape:\", des.shape, flat_list.shape)\n",
    "    clusterizer.fit(flat_list)\n",
    "    # we now know the label of each SIFT descriptor\n",
    "    return clusterizer"
   ]
  },
  {
   "cell_type": "code",
   "execution_count": 19,
   "metadata": {
    "ExecuteTime": {
     "end_time": "2021-11-15T13:05:09.243732Z",
     "start_time": "2021-11-15T13:05:09.160882Z"
    }
   },
   "outputs": [
    {
     "name": "stdout",
     "output_type": "stream",
     "text": [
      "shape: (75, 128) (466, 128)\n",
      "shape: (117, 128) (583, 128)\n",
      "shape: (302, 128) (885, 128)\n",
      "shape: (138, 128) (1023, 128)\n",
      "shape: (655, 128) (1678, 128)\n",
      "shape: (1306, 128) (2984, 128)\n",
      "shape: (461, 128) (3445, 128)\n",
      "shape: (622, 128) (4067, 128)\n",
      "shape: (112, 128) (4179, 128)\n"
     ]
    }
   ],
   "source": [
    "clusterizer = clusterize(SIFTs, verbose=True)"
   ]
  },
  {
   "cell_type": "code",
   "execution_count": 20,
   "metadata": {
    "ExecuteTime": {
     "end_time": "2021-11-15T13:05:09.254236Z",
     "start_time": "2021-11-15T13:05:09.246782Z"
    }
   },
   "outputs": [],
   "source": [
    "# Step 3: build the BOW representation of each images (i.e. construction of the BOFs)\n",
    "\n",
    "def build_BOFs(SIFTs, clusterizer, verbose=False):\n",
    "    ok, nok = 0, 0\n",
    "    #BOF initialization\n",
    "    nb_img_features = clusterizer.get_params()['n_clusters']\n",
    "    BOFs = np.empty(shape=(0, nb_img_features), dtype=int)\n",
    "\n",
    "    # Build label list\n",
    "    flat_list = SIFTs[0]\n",
    "    for des in SIFTs[1:]:\n",
    "        flat_list = np.concatenate((flat_list, des))\n",
    "        if verbose:\n",
    "            print(\"shape:\", des.shape, flat_list.shape)\n",
    "    labels = clusterizer.predict(flat_list)\n",
    "\n",
    "    # loop on images\n",
    "    i = 0 # index for the loop on SIFTs\n",
    "    for des in SIFTs:\n",
    "        #initialisation of the bof for the current image\n",
    "        tmpBof = np.array([0]*nb_img_features)\n",
    "        j = 0\n",
    "        # for every SIFT of the current image:\n",
    "        nbs = des.shape[0]\n",
    "        while j < nbs:\n",
    "            tmpBof[labels[i]] += 1\n",
    "            j+=1\n",
    "            i+=1\n",
    "        BOFs = np.concatenate((BOFs, tmpBof.reshape(1,-1)), axis=0)\n",
    "    if verbose:\n",
    "        print(\"BOFs : \", BOFs)\n",
    "    \n",
    "    return BOFs"
   ]
  },
  {
   "cell_type": "code",
   "execution_count": 21,
   "metadata": {
    "ExecuteTime": {
     "end_time": "2021-11-15T13:05:09.281935Z",
     "start_time": "2021-11-15T13:05:09.256927Z"
    }
   },
   "outputs": [
    {
     "name": "stdout",
     "output_type": "stream",
     "text": [
      "shape: (75, 128) (466, 128)\n",
      "shape: (117, 128) (583, 128)\n",
      "shape: (302, 128) (885, 128)\n",
      "shape: (138, 128) (1023, 128)\n",
      "shape: (655, 128) (1678, 128)\n",
      "shape: (1306, 128) (2984, 128)\n",
      "shape: (461, 128) (3445, 128)\n",
      "shape: (622, 128) (4067, 128)\n",
      "shape: (112, 128) (4179, 128)\n",
      "BOFs :  [[ 37 156 129  40  29]\n",
      " [ 12  14  14  25  10]\n",
      " [ 29  22  22  26  18]\n",
      " [ 38  91  52  85  36]\n",
      " [ 28  32  44  21  13]\n",
      " [165  70  78 223 119]\n",
      " [341 177 170 395 223]\n",
      " [ 90  50  92 149  80]\n",
      " [162  71  62 222 105]\n",
      " [  6  35  42  19  10]]\n"
     ]
    },
    {
     "data": {
      "text/plain": [
       "(10, 5)"
      ]
     },
     "execution_count": 21,
     "metadata": {},
     "output_type": "execute_result"
    }
   ],
   "source": [
    "BOFs = build_BOFs(SIFTs, clusterizer, verbose=True)\n",
    "BOFs.shape"
   ]
  },
  {
   "cell_type": "code",
   "execution_count": 29,
   "metadata": {
    "ExecuteTime": {
     "end_time": "2021-11-15T13:06:50.221010Z",
     "start_time": "2021-11-15T13:06:50.208658Z"
    }
   },
   "outputs": [],
   "source": [
    "from sklearn.base import BaseEstimator,TransformerMixin\n",
    "\n",
    "def list_comparaison(l1, l2):\n",
    "    if not l1 is None \\\n",
    "        and not l2 is None \\\n",
    "        and len(l1)==len(l2) \\\n",
    "        and len(l1)==sum([1 for i,j in zip(l1, l2) if i==j]):\n",
    "        return True\n",
    "    return False\n",
    "    \n",
    "class BOF_extractor(BaseEstimator,TransformerMixin): \n",
    "    X = None\n",
    "    SIFTs = None\n",
    "    nbSIFTs = 0\n",
    "    \n",
    "    def __init__(self, nb_img_features=10, verbose=False):\n",
    "        self.nb_img_features = nb_img_features\n",
    "        self.verbose = verbose\n",
    "        self.path = path\n",
    "        if self.verbose:\n",
    "            print(\"BOF.init()\")\n",
    "        \n",
    "    def fit(self, X, y=None):\n",
    "        if self.verbose:\n",
    "            print(\"BOF.fit()\")\n",
    "        if list_comparaison(X, self.X):\n",
    "            SIFTs = self.SIFTs \n",
    "            nbSIFTs = self.nbSIFTs\n",
    "        else:\n",
    "            if self.verbose:\n",
    "                print(\"extract_SIFT\")\n",
    "            nbSIFTs, SIFTs = extract_SIFT(X)\n",
    "        self.X = X\n",
    "        self.SIFTs = SIFTs \n",
    "        self.nbSIFTs = nbSIFTs\n",
    "        self.clusterizer = clusterize(SIFTs, self.nb_img_features, self.verbose)\n",
    "        \n",
    "    def transform(self, X, y=None):\n",
    "        if self.verbose:\n",
    "            print(\"BOF.transform()\")\n",
    "        if list_comparaison(X, self.X):\n",
    "            SIFTs = self.SIFTs \n",
    "            nbSIFTs = self.nbSIFTs\n",
    "        else:\n",
    "            if self.verbose:\n",
    "                print(\"extract_SIFT\")\n",
    "            nbSIFTs, SIFTs = extract_SIFT(X)\n",
    "\n",
    "        if self.verbose:\n",
    "            print(\"nbSIFTs:\", nbSIFTs)\n",
    "        return build_BOFs(SIFTs, self.clusterizer, self.verbose)\n",
    "    \n",
    "    def fit_transform(self, X, y=None):\n",
    "        if self.verbose:\n",
    "            print(\"BOF.fit_transform()\")\n",
    "        if list_comparaison(X, self.X):\n",
    "            SIFTs = self.SIFTs \n",
    "            nbSIFTs = self.nbSIFTs\n",
    "        else:\n",
    "            if self.verbose:\n",
    "                print(\"extract_SIFT\")\n",
    "            nbSIFTs, SIFTs = extract_SIFT(X)\n",
    "        self.X = X\n",
    "        self.SIFTs = SIFTs \n",
    "        self.nbSIFTs = nbSIFTs\n",
    "        self.clusterizer = clusterize(SIFTs, self.nb_img_features, self.verbose)\n",
    "        return build_BOFs(SIFTs, self.clusterizer, self.verbose)"
   ]
  },
  {
   "cell_type": "code",
   "execution_count": 30,
   "metadata": {
    "ExecuteTime": {
     "end_time": "2021-11-15T13:06:50.971579Z",
     "start_time": "2021-11-15T13:06:50.968219Z"
    }
   },
   "outputs": [
    {
     "name": "stdout",
     "output_type": "stream",
     "text": [
      "BOF.init()\n"
     ]
    }
   ],
   "source": [
    "test_BOF_extractor = BOF_extractor(nb_img_features=5, verbose=True)"
   ]
  },
  {
   "cell_type": "code",
   "execution_count": 31,
   "metadata": {
    "ExecuteTime": {
     "end_time": "2021-11-15T13:06:52.273047Z",
     "start_time": "2021-11-15T13:06:51.520911Z"
    }
   },
   "outputs": [
    {
     "name": "stderr",
     "output_type": "stream",
     "text": [
      " 10%|█         | 1/10 [00:00<00:01,  6.65it/s]"
     ]
    },
    {
     "name": "stdout",
     "output_type": "stream",
     "text": [
      "BOF.fit()\n",
      "extract_SIFT\n"
     ]
    },
    {
     "name": "stderr",
     "output_type": "stream",
     "text": [
      "100%|██████████| 10/10 [00:00<00:00, 14.67it/s]"
     ]
    },
    {
     "name": "stdout",
     "output_type": "stream",
     "text": [
      "shape: (75, 128) (466, 128)\n",
      "shape: (117, 128) (583, 128)\n",
      "shape: (302, 128) (885, 128)\n",
      "shape: (138, 128) (1023, 128)\n",
      "shape: (655, 128) (1678, 128)\n",
      "shape: (1306, 128) (2984, 128)\n",
      "shape: (461, 128) (3445, 128)\n",
      "shape: (622, 128) (4067, 128)\n",
      "shape: (112, 128) (4179, 128)\n"
     ]
    },
    {
     "name": "stderr",
     "output_type": "stream",
     "text": [
      "\n"
     ]
    }
   ],
   "source": [
    "test_BOF_extractor.fit(X_train['Images'])"
   ]
  },
  {
   "cell_type": "code",
   "execution_count": 32,
   "metadata": {
    "ExecuteTime": {
     "end_time": "2021-11-15T13:06:52.694020Z",
     "start_time": "2021-11-15T13:06:52.672571Z"
    }
   },
   "outputs": [
    {
     "name": "stdout",
     "output_type": "stream",
     "text": [
      "BOF.transform()\n",
      "nbSIFTs: 4179\n",
      "shape: (75, 128) (466, 128)\n",
      "shape: (117, 128) (583, 128)\n",
      "shape: (302, 128) (885, 128)\n",
      "shape: (138, 128) (1023, 128)\n",
      "shape: (655, 128) (1678, 128)\n",
      "shape: (1306, 128) (2984, 128)\n",
      "shape: (461, 128) (3445, 128)\n",
      "shape: (622, 128) (4067, 128)\n",
      "shape: (112, 128) (4179, 128)\n",
      "BOFs :  [[ 46  36  51 138 120]\n",
      " [ 24  14   2  13  22]\n",
      " [ 29  19  33  13  23]\n",
      " [ 92  51  13  58  88]\n",
      " [ 21  17  27  23  50]\n",
      " [222 188  98  74  73]\n",
      " [395 381 189 164 177]\n",
      " [116  99  54 113  79]\n",
      " [223 162  96  52  89]\n",
      " [ 24   9   6  29  44]]\n"
     ]
    },
    {
     "data": {
      "text/plain": [
       "(10, 5)"
      ]
     },
     "execution_count": 32,
     "metadata": {},
     "output_type": "execute_result"
    }
   ],
   "source": [
    "BOFs = test_BOF_extractor.transform(X_train['Images'])\n",
    "BOFs.shape"
   ]
  },
  {
   "cell_type": "code",
   "execution_count": 33,
   "metadata": {
    "ExecuteTime": {
     "end_time": "2021-11-15T13:06:53.309213Z",
     "start_time": "2021-11-15T13:06:53.232283Z"
    }
   },
   "outputs": [
    {
     "name": "stdout",
     "output_type": "stream",
     "text": [
      "BOF.fit_transform()\n",
      "shape: (75, 128) (466, 128)\n",
      "shape: (117, 128) (583, 128)\n",
      "shape: (302, 128) (885, 128)\n",
      "shape: (138, 128) (1023, 128)\n",
      "shape: (655, 128) (1678, 128)\n",
      "shape: (1306, 128) (2984, 128)\n",
      "shape: (461, 128) (3445, 128)\n",
      "shape: (622, 128) (4067, 128)\n",
      "shape: (112, 128) (4179, 128)\n",
      "shape: (75, 128) (466, 128)\n",
      "shape: (117, 128) (583, 128)\n",
      "shape: (302, 128) (885, 128)\n",
      "shape: (138, 128) (1023, 128)\n",
      "shape: (655, 128) (1678, 128)\n",
      "shape: (1306, 128) (2984, 128)\n",
      "shape: (461, 128) (3445, 128)\n",
      "shape: (622, 128) (4067, 128)\n",
      "shape: (112, 128) (4179, 128)\n",
      "BOFs :  [[ 60  30  49 225  27]\n",
      " [ 26   9   3  25  12]\n",
      " [ 27  11  30  24  25]\n",
      " [ 96  37  21 109  39]\n",
      " [ 27  13  24  57  17]\n",
      " [242 104  96  94 119]\n",
      " [435 262 174 198 237]\n",
      " [154  95  44 110  58]\n",
      " [240 115  97  75  95]\n",
      " [ 26   5   8  65   8]]\n"
     ]
    },
    {
     "data": {
      "text/plain": [
       "(10, 5)"
      ]
     },
     "execution_count": 33,
     "metadata": {},
     "output_type": "execute_result"
    }
   ],
   "source": [
    "BOFs = test_BOF_extractor.fit_transform(X_train['Images'])\n",
    "BOFs.shape"
   ]
  },
  {
   "cell_type": "code",
   "execution_count": 34,
   "metadata": {
    "ExecuteTime": {
     "end_time": "2021-11-15T13:06:53.902458Z",
     "start_time": "2021-11-15T13:06:53.856230Z"
    }
   },
   "outputs": [
    {
     "data": {
      "text/plain": [
       "250"
      ]
     },
     "execution_count": 34,
     "metadata": {},
     "output_type": "execute_result"
    }
   ],
   "source": [
    "test = pd.read_csv(path+\"test.csv\")\n",
    "y_test = test['target']\n",
    "X_test = test.drop(['target'], axis=1)\n",
    "\n",
    "img_dir = \"test_images/\"\n",
    "X_test['Images'] = [path+img_dir+img for img in test['Images']]\n",
    "len(X_test)"
   ]
  },
  {
   "cell_type": "code",
   "execution_count": 35,
   "metadata": {
    "ExecuteTime": {
     "end_time": "2021-11-15T13:07:23.946454Z",
     "start_time": "2021-11-15T13:06:54.536411Z"
    }
   },
   "outputs": [
    {
     "name": "stderr",
     "output_type": "stream",
     "text": [
      "  1%|          | 2/250 [00:00<00:23, 10.78it/s]"
     ]
    },
    {
     "name": "stdout",
     "output_type": "stream",
     "text": [
      "BOF.transform()\n",
      "extract_SIFT\n"
     ]
    },
    {
     "name": "stderr",
     "output_type": "stream",
     "text": [
      "100%|██████████| 250/250 [00:19<00:00, 13.00it/s]\n"
     ]
    },
    {
     "name": "stdout",
     "output_type": "stream",
     "text": [
      "nbSIFTs: 177122\n",
      "shape: (2011, 128) (2350, 128)\n",
      "shape: (913, 128) (3263, 128)\n",
      "shape: (1712, 128) (4975, 128)\n",
      "shape: (2479, 128) (7454, 128)\n",
      "shape: (332, 128) (7786, 128)\n",
      "shape: (372, 128) (8158, 128)\n",
      "shape: (329, 128) (8487, 128)\n",
      "shape: (230, 128) (8717, 128)\n",
      "shape: (983, 128) (9700, 128)\n",
      "shape: (296, 128) (9996, 128)\n",
      "shape: (430, 128) (10426, 128)\n",
      "shape: (319, 128) (10745, 128)\n",
      "shape: (816, 128) (11561, 128)\n",
      "shape: (235, 128) (11796, 128)\n",
      "shape: (1316, 128) (13112, 128)\n",
      "shape: (1175, 128) (14287, 128)\n",
      "shape: (417, 128) (14704, 128)\n",
      "shape: (184, 128) (14888, 128)\n",
      "shape: (243, 128) (15131, 128)\n",
      "shape: (333, 128) (15464, 128)\n",
      "shape: (936, 128) (16400, 128)\n",
      "shape: (548, 128) (16948, 128)\n",
      "shape: (1096, 128) (18044, 128)\n",
      "shape: (730, 128) (18774, 128)\n",
      "shape: (383, 128) (19157, 128)\n",
      "shape: (577, 128) (19734, 128)\n",
      "shape: (1348, 128) (21082, 128)\n",
      "shape: (855, 128) (21937, 128)\n",
      "shape: (691, 128) (22628, 128)\n",
      "shape: (159, 128) (22787, 128)\n",
      "shape: (488, 128) (23275, 128)\n",
      "shape: (615, 128) (23890, 128)\n",
      "shape: (1637, 128) (25527, 128)\n",
      "shape: (293, 128) (25820, 128)\n",
      "shape: (362, 128) (26182, 128)\n",
      "shape: (292, 128) (26474, 128)\n",
      "shape: (93, 128) (26567, 128)\n",
      "shape: (97, 128) (26664, 128)\n",
      "shape: (582, 128) (27246, 128)\n",
      "shape: (1586, 128) (28832, 128)\n",
      "shape: (677, 128) (29509, 128)\n",
      "shape: (836, 128) (30345, 128)\n",
      "shape: (217, 128) (30562, 128)\n",
      "shape: (2918, 128) (33480, 128)\n",
      "shape: (1114, 128) (34594, 128)\n",
      "shape: (296, 128) (34890, 128)\n",
      "shape: (401, 128) (35291, 128)\n",
      "shape: (400, 128) (35691, 128)\n",
      "shape: (413, 128) (36104, 128)\n",
      "shape: (992, 128) (37096, 128)\n",
      "shape: (3085, 128) (40181, 128)\n",
      "shape: (389, 128) (40570, 128)\n",
      "shape: (624, 128) (41194, 128)\n",
      "shape: (745, 128) (41939, 128)\n",
      "shape: (555, 128) (42494, 128)\n",
      "shape: (420, 128) (42914, 128)\n",
      "shape: (2369, 128) (45283, 128)\n",
      "shape: (561, 128) (45844, 128)\n",
      "shape: (1001, 128) (46845, 128)\n",
      "shape: (268, 128) (47113, 128)\n",
      "shape: (146, 128) (47259, 128)\n",
      "shape: (698, 128) (47957, 128)\n",
      "shape: (841, 128) (48798, 128)\n",
      "shape: (733, 128) (49531, 128)\n",
      "shape: (886, 128) (50417, 128)\n",
      "shape: (1559, 128) (51976, 128)\n",
      "shape: (403, 128) (52379, 128)\n",
      "shape: (359, 128) (52738, 128)\n",
      "shape: (507, 128) (53245, 128)\n",
      "shape: (219, 128) (53464, 128)\n",
      "shape: (1072, 128) (54536, 128)\n",
      "shape: (1522, 128) (56058, 128)\n",
      "shape: (117, 128) (56175, 128)\n",
      "shape: (374, 128) (56549, 128)\n",
      "shape: (781, 128) (57330, 128)\n",
      "shape: (1285, 128) (58615, 128)\n",
      "shape: (780, 128) (59395, 128)\n",
      "shape: (679, 128) (60074, 128)\n",
      "shape: (484, 128) (60558, 128)\n",
      "shape: (671, 128) (61229, 128)\n",
      "shape: (624, 128) (61853, 128)\n",
      "shape: (657, 128) (62510, 128)\n",
      "shape: (150, 128) (62660, 128)\n",
      "shape: (224, 128) (62884, 128)\n",
      "shape: (917, 128) (63801, 128)\n",
      "shape: (911, 128) (64712, 128)\n",
      "shape: (1152, 128) (65864, 128)\n",
      "shape: (167, 128) (66031, 128)\n",
      "shape: (672, 128) (66703, 128)\n",
      "shape: (196, 128) (66899, 128)\n",
      "shape: (576, 128) (67475, 128)\n",
      "shape: (679, 128) (68154, 128)\n",
      "shape: (503, 128) (68657, 128)\n",
      "shape: (431, 128) (69088, 128)\n",
      "shape: (114, 128) (69202, 128)\n",
      "shape: (435, 128) (69637, 128)\n",
      "shape: (244, 128) (69881, 128)\n",
      "shape: (303, 128) (70184, 128)\n",
      "shape: (402, 128) (70586, 128)\n",
      "shape: (327, 128) (70913, 128)\n",
      "shape: (423, 128) (71336, 128)\n",
      "shape: (314, 128) (71650, 128)\n",
      "shape: (641, 128) (72291, 128)\n",
      "shape: (201, 128) (72492, 128)\n",
      "shape: (366, 128) (72858, 128)\n",
      "shape: (541, 128) (73399, 128)\n",
      "shape: (1870, 128) (75269, 128)\n",
      "shape: (439, 128) (75708, 128)\n",
      "shape: (324, 128) (76032, 128)\n",
      "shape: (383, 128) (76415, 128)\n",
      "shape: (84, 128) (76499, 128)\n",
      "shape: (269, 128) (76768, 128)\n",
      "shape: (294, 128) (77062, 128)\n",
      "shape: (778, 128) (77840, 128)\n",
      "shape: (777, 128) (78617, 128)\n",
      "shape: (176, 128) (78793, 128)\n",
      "shape: (925, 128) (79718, 128)\n",
      "shape: (1736, 128) (81454, 128)\n",
      "shape: (434, 128) (81888, 128)\n",
      "shape: (661, 128) (82549, 128)\n",
      "shape: (820, 128) (83369, 128)\n",
      "shape: (690, 128) (84059, 128)\n",
      "shape: (276, 128) (84335, 128)\n",
      "shape: (817, 128) (85152, 128)\n",
      "shape: (779, 128) (85931, 128)\n",
      "shape: (787, 128) (86718, 128)\n",
      "shape: (554, 128) (87272, 128)\n",
      "shape: (2510, 128) (89782, 128)\n",
      "shape: (413, 128) (90195, 128)\n",
      "shape: (1166, 128) (91361, 128)\n",
      "shape: (423, 128) (91784, 128)\n",
      "shape: (245, 128) (92029, 128)\n",
      "shape: (137, 128) (92166, 128)\n",
      "shape: (331, 128) (92497, 128)\n",
      "shape: (904, 128) (93401, 128)\n",
      "shape: (216, 128) (93617, 128)\n",
      "shape: (521, 128) (94138, 128)\n",
      "shape: (634, 128) (94772, 128)\n",
      "shape: (3667, 128) (98439, 128)\n",
      "shape: (726, 128) (99165, 128)\n",
      "shape: (1654, 128) (100819, 128)\n",
      "shape: (839, 128) (101658, 128)\n",
      "shape: (1048, 128) (102706, 128)\n",
      "shape: (369, 128) (103075, 128)\n",
      "shape: (605, 128) (103680, 128)\n",
      "shape: (432, 128) (104112, 128)\n",
      "shape: (885, 128) (104997, 128)\n",
      "shape: (296, 128) (105293, 128)\n",
      "shape: (2254, 128) (107547, 128)\n",
      "shape: (702, 128) (108249, 128)\n",
      "shape: (244, 128) (108493, 128)\n",
      "shape: (1004, 128) (109497, 128)\n",
      "shape: (386, 128) (109883, 128)\n",
      "shape: (819, 128) (110702, 128)\n",
      "shape: (246, 128) (110948, 128)\n",
      "shape: (709, 128) (111657, 128)\n",
      "shape: (877, 128) (112534, 128)\n",
      "shape: (945, 128) (113479, 128)\n",
      "shape: (443, 128) (113922, 128)\n",
      "shape: (143, 128) (114065, 128)\n",
      "shape: (430, 128) (114495, 128)\n",
      "shape: (643, 128) (115138, 128)\n",
      "shape: (971, 128) (116109, 128)\n",
      "shape: (1139, 128) (117248, 128)\n",
      "shape: (879, 128) (118127, 128)\n",
      "shape: (1134, 128) (119261, 128)\n",
      "shape: (523, 128) (119784, 128)\n",
      "shape: (295, 128) (120079, 128)\n",
      "shape: (484, 128) (120563, 128)\n",
      "shape: (1222, 128) (121785, 128)\n",
      "shape: (780, 128) (122565, 128)\n",
      "shape: (191, 128) (122756, 128)\n",
      "shape: (283, 128) (123039, 128)\n",
      "shape: (487, 128) (123526, 128)\n",
      "shape: (177, 128) (123703, 128)\n",
      "shape: (411, 128) (124114, 128)\n",
      "shape: (600, 128) (124714, 128)\n",
      "shape: (364, 128) (125078, 128)\n",
      "shape: (373, 128) (125451, 128)\n",
      "shape: (358, 128) (125809, 128)\n",
      "shape: (1555, 128) (127364, 128)\n",
      "shape: (206, 128) (127570, 128)\n",
      "shape: (758, 128) (128328, 128)\n",
      "shape: (3967, 128) (132295, 128)\n",
      "shape: (493, 128) (132788, 128)\n",
      "shape: (862, 128) (133650, 128)\n",
      "shape: (511, 128) (134161, 128)\n",
      "shape: (1072, 128) (135233, 128)\n",
      "shape: (262, 128) (135495, 128)\n",
      "shape: (425, 128) (135920, 128)\n",
      "shape: (286, 128) (136206, 128)\n",
      "shape: (1832, 128) (138038, 128)\n",
      "shape: (304, 128) (138342, 128)\n",
      "shape: (48, 128) (138390, 128)\n",
      "shape: (436, 128) (138826, 128)\n",
      "shape: (603, 128) (139429, 128)\n",
      "shape: (919, 128) (140348, 128)\n",
      "shape: (1823, 128) (142171, 128)\n",
      "shape: (553, 128) (142724, 128)\n",
      "shape: (1185, 128) (143909, 128)\n",
      "shape: (332, 128) (144241, 128)\n",
      "shape: (328, 128) (144569, 128)\n",
      "shape: (895, 128) (145464, 128)\n",
      "shape: (733, 128) (146197, 128)\n",
      "shape: (666, 128) (146863, 128)\n",
      "shape: (413, 128) (147276, 128)\n",
      "shape: (279, 128) (147555, 128)\n",
      "shape: (934, 128) (148489, 128)\n",
      "shape: (454, 128) (148943, 128)\n",
      "shape: (191, 128) (149134, 128)\n",
      "shape: (1342, 128) (150476, 128)\n",
      "shape: (471, 128) (150947, 128)\n",
      "shape: (1409, 128) (152356, 128)\n",
      "shape: (333, 128) (152689, 128)\n",
      "shape: (473, 128) (153162, 128)\n",
      "shape: (391, 128) (153553, 128)\n",
      "shape: (2384, 128) (155937, 128)\n",
      "shape: (296, 128) (156233, 128)\n",
      "shape: (925, 128) (157158, 128)\n",
      "shape: (392, 128) (157550, 128)\n",
      "shape: (1755, 128) (159305, 128)\n",
      "shape: (1133, 128) (160438, 128)\n",
      "shape: (478, 128) (160916, 128)\n",
      "shape: (497, 128) (161413, 128)\n",
      "shape: (1112, 128) (162525, 128)\n",
      "shape: (1853, 128) (164378, 128)\n",
      "shape: (292, 128) (164670, 128)\n",
      "shape: (421, 128) (165091, 128)\n",
      "shape: (209, 128) (165300, 128)\n",
      "shape: (1287, 128) (166587, 128)\n",
      "shape: (1408, 128) (167995, 128)\n",
      "shape: (244, 128) (168239, 128)\n",
      "shape: (149, 128) (168388, 128)\n",
      "shape: (131, 128) (168519, 128)\n",
      "shape: (281, 128) (168800, 128)\n",
      "shape: (879, 128) (169679, 128)\n",
      "shape: (637, 128) (170316, 128)\n",
      "shape: (142, 128) (170458, 128)\n",
      "shape: (1066, 128) (171524, 128)\n",
      "shape: (274, 128) (171798, 128)\n",
      "shape: (783, 128) (172581, 128)\n",
      "shape: (1486, 128) (174067, 128)\n",
      "shape: (797, 128) (174864, 128)\n",
      "shape: (383, 128) (175247, 128)\n",
      "shape: (227, 128) (175474, 128)\n",
      "shape: (241, 128) (175715, 128)\n",
      "shape: (351, 128) (176066, 128)\n",
      "shape: (795, 128) (176861, 128)\n",
      "shape: (261, 128) (177122, 128)\n",
      "BOFs :  [[ 92  33  49 137  28]\n",
      " [640 284 388 511 188]\n",
      " [269 110 129 239 166]\n",
      " ...\n",
      " [ 80  63  19 156  33]\n",
      " [287  88 187 139  94]\n",
      " [ 69  31  30  95  36]]\n"
     ]
    },
    {
     "data": {
      "text/plain": [
       "(250, 5)"
      ]
     },
     "execution_count": 35,
     "metadata": {},
     "output_type": "execute_result"
    }
   ],
   "source": [
    "BOFs = test_BOF_extractor.transform(X_test['Images'])\n",
    "BOFs.shape"
   ]
  },
  {
   "cell_type": "markdown",
   "metadata": {
    "_uuid": "c90159a95d5952c4b077bac75d450b89010a4737"
   },
   "source": [
    "## Build a basic model\n",
    "\n",
    "There are much more interesting things in the dataset and I'm going to explore them, but for now let's build a simple model as a baseline."
   ]
  },
  {
   "cell_type": "code",
   "execution_count": 36,
   "metadata": {
    "ExecuteTime": {
     "end_time": "2021-11-15T13:07:23.960299Z",
     "start_time": "2021-11-15T13:07:23.950643Z"
    }
   },
   "outputs": [],
   "source": [
    "from sklearn.preprocessing import OneHotEncoder, StandardScaler\n",
    "from sklearn.feature_extraction.text import CountVectorizer\n",
    "from sklearn.compose import ColumnTransformer\n",
    "from sklearn.pipeline import make_pipeline\n",
    "\n",
    "from sklearn.linear_model import LogisticRegression\n",
    "from sklearn.metrics import accuracy_score\n",
    "\n",
    "categorical_preprocessor = OneHotEncoder(handle_unknown=\"ignore\")\n",
    "numerical_preprocessor = StandardScaler()\n",
    "text_preprocessor = CountVectorizer()\n",
    "image_preprocessor = BOF_extractor(nb_img_features=3, verbose=False)\n",
    "\n",
    "preprocessor = ColumnTransformer([\n",
    "    (\"categorical encoding\", categorical_preprocessor, cat_cols),\n",
    "    (\"numerical encoding\", numerical_preprocessor, num_cols),\n",
    "    (\"text encoding\", text_preprocessor, 'Description'),\n",
    "    (\"image encoding\", image_preprocessor, 'Images'),\n",
    "])\n",
    "\n",
    "classifier = LogisticRegression()\n",
    "\n",
    "model = make_pipeline(preprocessor, classifier)"
   ]
  },
  {
   "cell_type": "code",
   "execution_count": 37,
   "metadata": {
    "ExecuteTime": {
     "end_time": "2021-11-15T13:07:24.769518Z",
     "start_time": "2021-11-15T13:07:23.964655Z"
    }
   },
   "outputs": [
    {
     "name": "stderr",
     "output_type": "stream",
     "text": [
      "100%|██████████| 10/10 [00:00<00:00, 15.84it/s]\n"
     ]
    },
    {
     "data": {
      "text/plain": [
       "1.0"
      ]
     },
     "execution_count": 37,
     "metadata": {},
     "output_type": "execute_result"
    }
   ],
   "source": [
    "model.fit(X_train, y_train)\n",
    "y_pred = model.predict(X_train)\n",
    "accuracy_score(y_train, y_pred)"
   ]
  },
  {
   "cell_type": "code",
   "execution_count": 38,
   "metadata": {
    "ExecuteTime": {
     "end_time": "2021-11-15T13:07:36.087982Z",
     "start_time": "2021-11-15T13:07:36.072650Z"
    }
   },
   "outputs": [
    {
     "data": {
      "text/plain": [
       "['michel.joblib']"
      ]
     },
     "execution_count": 38,
     "metadata": {},
     "output_type": "execute_result"
    }
   ],
   "source": [
    "# Save the model\n",
    "from joblib import dump, load\n",
    "\n",
    "dump(model, 'michel.joblib') # Put your name as a model name"
   ]
  },
  {
   "cell_type": "markdown",
   "metadata": {},
   "source": [
    "## Evaluation of the model\n",
    "\n",
    "<div class=\"alert alert-block alert-danger\">\n",
    "We will only execute the following cells.\n",
    "</div>"
   ]
  },
  {
   "cell_type": "code",
   "execution_count": 39,
   "metadata": {
    "ExecuteTime": {
     "end_time": "2021-11-15T13:08:07.121558Z",
     "start_time": "2021-11-15T13:07:37.013722Z"
    }
   },
   "outputs": [
    {
     "name": "stderr",
     "output_type": "stream",
     "text": [
      "\r",
      "  0%|          | 0/250 [00:00<?, ?it/s]"
     ]
    },
    {
     "name": "stdout",
     "output_type": "stream",
     "text": [
      "Test size: 250\n",
      "ACC on train 1.0\n"
     ]
    },
    {
     "name": "stderr",
     "output_type": "stream",
     "text": [
      "100%|██████████| 250/250 [00:19<00:00, 12.52it/s]\n"
     ]
    },
    {
     "name": "stdout",
     "output_type": "stream",
     "text": [
      "ACC on test 0.524\n"
     ]
    }
   ],
   "source": [
    "test = pd.read_csv(path+\"test.csv\")\n",
    "\n",
    "y_test = test['target']\n",
    "X_test = test.drop(['target'], axis=1)\n",
    "\n",
    "img_dir = \"test_images/\"\n",
    "X_test['Images'] = [path+img_dir+img for img in test['Images']]\n",
    "print(\"Test size:\", len(X_test))\n",
    "\n",
    "model = load('michel.joblib') \n",
    "y_pred = model.predict(X_train)\n",
    "print(\"ACC on train\", accuracy_score(y_train, y_pred))\n",
    "y_pred = model.predict(X_test)\n",
    "print(\"ACC on test\", accuracy_score(y_test, y_pred))"
   ]
  },
  {
   "cell_type": "code",
   "execution_count": null,
   "metadata": {
    "ExecuteTime": {
     "end_time": "2021-11-14T17:31:58.676390Z",
     "start_time": "2021-11-14T17:30:48.813224Z"
    }
   },
   "outputs": [],
   "source": []
  },
  {
   "cell_type": "markdown",
   "metadata": {
    "ExecuteTime": {
     "end_time": "2021-11-14T17:28:17.226791Z",
     "start_time": "2021-11-14T17:28:17.210647Z"
    }
   },
   "source": []
  },
  {
   "cell_type": "code",
   "execution_count": null,
   "metadata": {},
   "outputs": [],
   "source": []
  }
 ],
 "metadata": {
  "kernelspec": {
   "display_name": "Python 3",
   "language": "python",
   "name": "python3"
  },
  "language_info": {
   "codemirror_mode": {
    "name": "ipython",
    "version": 3
   },
   "file_extension": ".py",
   "mimetype": "text/x-python",
   "name": "python",
   "nbconvert_exporter": "python",
   "pygments_lexer": "ipython3",
   "version": "3.8.8"
  },
  "latex_envs": {
   "LaTeX_envs_menu_present": true,
   "autoclose": true,
   "autocomplete": true,
   "bibliofile": "biblio.bib",
   "cite_by": "apalike",
   "current_citInitial": 1,
   "eqLabelWithNumbers": true,
   "eqNumInitial": 1,
   "hotkeys": {
    "equation": "Ctrl-E",
    "itemize": "Ctrl-I"
   },
   "labels_anchors": false,
   "latex_user_defs": false,
   "report_style_numbering": false,
   "user_envs_cfg": false
  },
  "nbTranslate": {
   "displayLangs": [
    "*"
   ],
   "hotkey": "alt-t",
   "langInMainMenu": true,
   "sourceLang": "en",
   "targetLang": "fr",
   "useGoogleTranslate": true
  },
  "toc": {
   "base_numbering": 1,
   "nav_menu": {},
   "number_sections": true,
   "sideBar": true,
   "skip_h1_title": true,
   "title_cell": "Table of Contents",
   "title_sidebar": "Contents",
   "toc_cell": true,
   "toc_position": {},
   "toc_section_display": true,
   "toc_window_display": false
  }
 },
 "nbformat": 4,
 "nbformat_minor": 4
}
